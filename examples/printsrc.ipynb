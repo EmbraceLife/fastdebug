{
 "cells": [
  {
   "cell_type": "markdown",
   "id": "a04834b9-00ce-4b1e-8c4a-f867217a5351",
   "metadata": {},
   "source": [
    "## Testing printsrc"
   ]
  },
  {
   "cell_type": "code",
   "execution_count": null,
   "id": "33db645e-f4d1-4fca-b592-16aad44b65f8",
   "metadata": {},
   "outputs": [],
   "source": [
    "from fastdebug.core import *"
   ]
  },
  {
   "cell_type": "code",
   "execution_count": null,
   "id": "40895a13-4cfc-4039-a98c-af61b604c512",
   "metadata": {},
   "outputs": [],
   "source": [
    "import inspect\n",
    "from inspect import *\n",
    "from inspect import _signature_from_callable\n",
    "from inspect import _signature_is_functionlike, _signature_is_builtin, _signature_get_user_defined_method, _signature_from_function, _signature_bound_method"
   ]
  },
  {
   "cell_type": "code",
   "execution_count": null,
   "id": "5b946bd1-f9b1-4065-a278-f332f7c62585",
   "metadata": {},
   "outputs": [
    {
     "name": "stdout",
     "output_type": "stream",
     "text": [
      "    if isinstance(obj, functools.partial):                                                                                                                   \n",
      "        wrapped_sig = _get_signature_of(obj.func)                                                                                                            \n",
      "        return _signature_get_partial(wrapped_sig, obj)                                                                                                      \n",
      "                                                                                                                                                             \n",
      "    sig = None                                                                                                                                               \n",
      "    if isinstance(obj, type):================================================================================================================================\n",
      "                                                                                                                                              \u001b[91mthis is comment\u001b[0m\n",
      "        # obj is a class or a metaclass                                                                                                                      \n",
      "                                                                                                                                                             \n",
      "        # First, let's see if it has an overloaded __call__ defined                                                                                          \n",
      "        # in its metaclass                                                                                                                                   \n",
      "        call = _signature_get_user_defined_method(type(obj), '__call__')                                                                                     \n"
     ]
    }
   ],
   "source": [
    "printsrc(_signature_from_callable, \"if isinstance(obj, type):\", \"this is comment\", expand=5)"
   ]
  },
  {
   "cell_type": "code",
   "execution_count": null,
   "id": "1439b221-48e8-4695-b1c3-8ebf79682f1e",
   "metadata": {},
   "outputs": [],
   "source": []
  }
 ],
 "metadata": {
  "kernelspec": {
   "display_name": "Python 3 (ipykernel)",
   "language": "python",
   "name": "python3"
  }
 },
 "nbformat": 4,
 "nbformat_minor": 5
}
