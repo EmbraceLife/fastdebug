{
 "cells": [
  {
   "cell_type": "code",
   "execution_count": null,
   "id": "ff9b8a7b-2058-4c87-8644-dc694435666d",
   "metadata": {},
   "outputs": [],
   "source": [
    "from fastdebug.core import *"
   ]
  },
  {
   "cell_type": "code",
   "execution_count": null,
   "id": "f477b3d6-4423-4e83-a01d-af934d95a4b7",
   "metadata": {},
   "outputs": [
    {
     "data": {
      "text/plain": [
       "<function fastdebug.core.printsrc(src, dblines, cmt, expand: int = 2)>"
      ]
     },
     "execution_count": null,
     "metadata": {},
     "output_type": "execute_result"
    }
   ],
   "source": [
    "printsrc"
   ]
  },
  {
   "cell_type": "code",
   "execution_count": null,
   "id": "7d72ae2e-bff3-45d0-83a2-62a2d0426da0",
   "metadata": {},
   "outputs": [],
   "source": [
    "import inspect\n",
    "from inspect import *\n",
    "from inspect import _signature_from_callable\n",
    "from inspect import _signature_is_functionlike, _signature_is_builtin, _signature_get_user_defined_method, _signature_from_function, _signature_bound_method"
   ]
  },
  {
   "cell_type": "code",
   "execution_count": null,
   "id": "c7875e78-1811-44f9-973a-a58084cfe88b",
   "metadata": {},
   "outputs": [
    {
     "data": {
      "text/plain": [
       "<Signature (a, b, c)>"
      ]
     },
     "execution_count": null,
     "metadata": {},
     "output_type": "execute_result"
    }
   ],
   "source": [
    "class Foo:\n",
    "    def __init__(self, a, b, c): pass\n",
    "\n",
    "_signature_from_callable(Foo, sigcls=inspect.Signature, follow_wrapper_chains=True) # debug the function above through this example"
   ]
  },
  {
   "cell_type": "code",
   "execution_count": null,
   "id": "660f5d7a-a508-418c-be49-6dedfbb53d8e",
   "metadata": {},
   "outputs": [
    {
     "name": "stdout",
     "output_type": "stream",
     "text": [
      "        # First, let's see if it has an overloaded __call__ defined                                                                                     (94)\n",
      "        # in its metaclass                                                                                                                              (95)\n",
      "        call = _signature_get_user_defined_method(type(obj), '__call__')================================================================================(96)\n",
      "                                                                                                                                              \u001b[91mthis is comment\u001b[0m\n",
      "        if call is not None:                                                                                                                            (97)\n",
      "            sig = _get_signature_of(call)                                                                                                               (98)\n",
      "\n",
      "\n",
      "====================================================================== The occurance 0 ======================================================================\n",
      "\n",
      "\n",
      "        # _WrapperDescriptor or _MethodWrapper to avoid                                                                                                 (157)\n",
      "        # infinite recursion (and even potential segfault)                                                                                              (158)\n",
      "        call = _signature_get_user_defined_method(type(obj), '__call__')================================================================================(159)\n",
      "                                                                                                                                              \u001b[91mthis is comment\u001b[0m\n",
      "        if call is not None:                                                                                                                            (160)\n",
      "            try:                                                                                                                                        (161)\n",
      "\n",
      "\n",
      "====================================================================== The occurance 1 ======================================================================\n",
      "\n",
      "\n"
     ]
    }
   ],
   "source": [
    "printsrc(_signature_from_callable, \"call = _signature_get_user_defined_method(type(obj), '__call__')\", \"this is comment\")"
   ]
  },
  {
   "cell_type": "code",
   "execution_count": null,
   "id": "e326ca34-400a-47b7-b237-f794952b9965",
   "metadata": {},
   "outputs": [],
   "source": []
  }
 ],
 "metadata": {
  "kernelspec": {
   "display_name": "Python 3 (ipykernel)",
   "language": "python",
   "name": "python3"
  }
 },
 "nbformat": 4,
 "nbformat_minor": 5
}
