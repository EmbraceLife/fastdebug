{
 "cells": [
  {
   "cell_type": "code",
   "execution_count": null,
   "id": "f5b1d2dd-0769-46b2-84e1-908a61ad6d02",
   "metadata": {},
   "outputs": [],
   "source": [
    "from fastdebug.core import *"
   ]
  },
  {
   "cell_type": "code",
   "execution_count": null,
   "id": "93742f9b-f5b5-4a04-b5be-3b0c99930fc0",
   "metadata": {},
   "outputs": [],
   "source": [
    "import inspect\n",
    "from inspect import *\n",
    "from inspect import _signature_from_callable\n",
    "from inspect import _signature_is_functionlike, _signature_is_builtin, _signature_get_user_defined_method, _signature_from_function, _signature_bound_method"
   ]
  },
  {
   "cell_type": "code",
   "execution_count": null,
   "id": "200a7a5a-4c6e-4974-8b1a-815e7c2be11e",
   "metadata": {},
   "outputs": [],
   "source": [
    "class Foo:\n",
    "    def __init__(self, a, b, c): pass"
   ]
  },
  {
   "cell_type": "code",
   "execution_count": null,
   "id": "da291128-4d7e-478e-8e77-6b6725d0c8ae",
   "metadata": {},
   "outputs": [
    {
     "data": {
      "text/plain": [
       "<Signature (a, b, c)>"
      ]
     },
     "execution_count": null,
     "metadata": {},
     "output_type": "execute_result"
    }
   ],
   "source": [
    "inspect.signature(Foo)"
   ]
  },
  {
   "cell_type": "code",
   "execution_count": null,
   "id": "28b6faa8-ed61-4b3a-a28b-3a039ca7acf8",
   "metadata": {},
   "outputs": [
    {
     "data": {
      "text/plain": [
       "\u001b[0;31mSignature:\u001b[0m \u001b[0minspect\u001b[0m\u001b[0;34m.\u001b[0m\u001b[0msignature\u001b[0m\u001b[0;34m(\u001b[0m\u001b[0mobj\u001b[0m\u001b[0;34m,\u001b[0m \u001b[0;34m*\u001b[0m\u001b[0;34m,\u001b[0m \u001b[0mfollow_wrapped\u001b[0m\u001b[0;34m=\u001b[0m\u001b[0;32mTrue\u001b[0m\u001b[0;34m)\u001b[0m\u001b[0;34m\u001b[0m\u001b[0;34m\u001b[0m\u001b[0m\n",
       "\u001b[0;31mSource:\u001b[0m   \n",
       "\u001b[0;32mdef\u001b[0m \u001b[0msignature\u001b[0m\u001b[0;34m(\u001b[0m\u001b[0mobj\u001b[0m\u001b[0;34m,\u001b[0m \u001b[0;34m*\u001b[0m\u001b[0;34m,\u001b[0m \u001b[0mfollow_wrapped\u001b[0m\u001b[0;34m=\u001b[0m\u001b[0;32mTrue\u001b[0m\u001b[0;34m)\u001b[0m\u001b[0;34m:\u001b[0m\u001b[0;34m\u001b[0m\n",
       "\u001b[0;34m\u001b[0m    \u001b[0;34m\"\"\"Get a signature object for the passed callable.\"\"\"\u001b[0m\u001b[0;34m\u001b[0m\n",
       "\u001b[0;34m\u001b[0m    \u001b[0;32mreturn\u001b[0m \u001b[0mSignature\u001b[0m\u001b[0;34m.\u001b[0m\u001b[0mfrom_callable\u001b[0m\u001b[0;34m(\u001b[0m\u001b[0mobj\u001b[0m\u001b[0;34m,\u001b[0m \u001b[0mfollow_wrapped\u001b[0m\u001b[0;34m=\u001b[0m\u001b[0mfollow_wrapped\u001b[0m\u001b[0;34m)\u001b[0m\u001b[0;34m\u001b[0m\u001b[0;34m\u001b[0m\u001b[0m\n",
       "\u001b[0;31mFile:\u001b[0m      ~/mambaforge/lib/python3.9/inspect.py\n",
       "\u001b[0;31mType:\u001b[0m      function\n"
      ]
     },
     "metadata": {},
     "output_type": "display_data"
    }
   ],
   "source": [
    "inspect.signature??"
   ]
  },
  {
   "cell_type": "code",
   "execution_count": null,
   "id": "2731b5d0-0e6b-4652-8cad-694fe2527323",
   "metadata": {},
   "outputs": [
    {
     "data": {
      "text/plain": [
       "\u001b[0;31mSignature:\u001b[0m \u001b[0mSignature\u001b[0m\u001b[0;34m.\u001b[0m\u001b[0mfrom_callable\u001b[0m\u001b[0;34m(\u001b[0m\u001b[0mobj\u001b[0m\u001b[0;34m,\u001b[0m \u001b[0;34m*\u001b[0m\u001b[0;34m,\u001b[0m \u001b[0mfollow_wrapped\u001b[0m\u001b[0;34m=\u001b[0m\u001b[0;32mTrue\u001b[0m\u001b[0;34m)\u001b[0m\u001b[0;34m\u001b[0m\u001b[0;34m\u001b[0m\u001b[0m\n",
       "\u001b[0;31mSource:\u001b[0m   \n",
       "    \u001b[0;34m@\u001b[0m\u001b[0mclassmethod\u001b[0m\u001b[0;34m\u001b[0m\n",
       "\u001b[0;34m\u001b[0m    \u001b[0;32mdef\u001b[0m \u001b[0mfrom_callable\u001b[0m\u001b[0;34m(\u001b[0m\u001b[0mcls\u001b[0m\u001b[0;34m,\u001b[0m \u001b[0mobj\u001b[0m\u001b[0;34m,\u001b[0m \u001b[0;34m*\u001b[0m\u001b[0;34m,\u001b[0m \u001b[0mfollow_wrapped\u001b[0m\u001b[0;34m=\u001b[0m\u001b[0;32mTrue\u001b[0m\u001b[0;34m)\u001b[0m\u001b[0;34m:\u001b[0m\u001b[0;34m\u001b[0m\n",
       "\u001b[0;34m\u001b[0m        \u001b[0;34m\"\"\"Constructs Signature for the given callable object.\"\"\"\u001b[0m\u001b[0;34m\u001b[0m\n",
       "\u001b[0;34m\u001b[0m        \u001b[0;32mreturn\u001b[0m \u001b[0m_signature_from_callable\u001b[0m\u001b[0;34m(\u001b[0m\u001b[0mobj\u001b[0m\u001b[0;34m,\u001b[0m \u001b[0msigcls\u001b[0m\u001b[0;34m=\u001b[0m\u001b[0mcls\u001b[0m\u001b[0;34m,\u001b[0m\u001b[0;34m\u001b[0m\n",
       "\u001b[0;34m\u001b[0m                                        \u001b[0mfollow_wrapper_chains\u001b[0m\u001b[0;34m=\u001b[0m\u001b[0mfollow_wrapped\u001b[0m\u001b[0;34m)\u001b[0m\u001b[0;34m\u001b[0m\u001b[0;34m\u001b[0m\u001b[0m\n",
       "\u001b[0;31mFile:\u001b[0m      ~/mambaforge/lib/python3.9/inspect.py\n",
       "\u001b[0;31mType:\u001b[0m      method\n"
      ]
     },
     "metadata": {},
     "output_type": "display_data"
    }
   ],
   "source": [
    "Signature.from_callable??"
   ]
  },
  {
   "cell_type": "code",
   "execution_count": null,
   "id": "25a98d26-00f4-43aa-91e0-ca43535c6819",
   "metadata": {},
   "outputs": [
    {
     "data": {
      "text/plain": [
       "<Signature (a, b, c)>"
      ]
     },
     "execution_count": null,
     "metadata": {},
     "output_type": "execute_result"
    }
   ],
   "source": [
    "_signature_from_callable(Foo, sigcls=inspect.Signature, follow_wrapper_chains=True) # debug the function above through this example"
   ]
  },
  {
   "cell_type": "markdown",
   "id": "bab83790-bac5-47e4-a644-946cb161540a",
   "metadata": {},
   "source": [
    "### give dbprint the current main globals() is very crucial"
   ]
  },
  {
   "cell_type": "code",
   "execution_count": null,
   "id": "9f41fb79-4e2e-4ff0-a064-f129e76e0b58",
   "metadata": {},
   "outputs": [],
   "source": [
    "g = globals() # this is a crucial step\n",
    "# 1. it brings everything _signature_from_callable needed from inspect.py \n",
    "# 2. it allows the new srcode function override the original official srcode in outer scope, \n",
    "# so that you can call the new function with the same name _signature_from_callable"
   ]
  },
  {
   "cell_type": "markdown",
   "id": "e952479a-193e-4056-83a9-6e9655c86de7",
   "metadata": {},
   "source": [
    "### Try one srcline with one investigation"
   ]
  },
  {
   "cell_type": "code",
   "execution_count": null,
   "id": "c0050b4a-bc8f-4830-97b0-2d567fe6604a",
   "metadata": {},
   "outputs": [
    {
     "name": "stdout",
     "output_type": "stream",
     "text": [
      "    sig = None                                                                                                                                          (90)\n",
      "    if isinstance(obj, type):===========================================================================================================================(91)\n",
      "                                                                                                                                              \u001b[91mthis is comment\u001b[0m\n",
      "        # obj is a class or a metaclass                                                                                                                 (92)\n",
      "\n",
      "\n",
      "locals() => locals() : {'env': {'obj': <class '__main__.Foo'>, 'follow_wrapper_chains': True, 'skip_bound_arg': True, 'sigcls': <class 'inspect.Signature'>, '_get_signature_of': functools.partial(<function _signature_from_callable>, follow_wrapper_chains=True, skip_bound_arg=True, sigcls=<class 'inspect.Signature'>), 'sig': None}, 'codes': ('locals()', 'isinstance(obj, type)'), 'c': 'locals()'}\n",
      "\n",
      "\n",
      "                                                                                                        isinstance(obj, type) => isinstance(obj, type) : True\n"
     ]
    },
    {
     "data": {
      "text/plain": [
       "<Signature (a, b, c)>"
      ]
     },
     "execution_count": null,
     "metadata": {},
     "output_type": "execute_result"
    }
   ],
   "source": [
    "sfc = dbprint(_signature_from_callable, \"if isinstance(obj, type):\", \"this is comment\", \\\n",
    "              \"locals()\", \"isinstance(obj, type)\",\\\n",
    "              expand=1, env=g)\n",
    "\n",
    "_signature_from_callable(Foo, sigcls=inspect.Signature, follow_wrapper_chains=True) # debug the function above through this example"
   ]
  },
  {
   "cell_type": "code",
   "execution_count": null,
   "id": "23849c3e-93ca-4f8a-aa72-35dbdfb6e6c8",
   "metadata": {},
   "outputs": [
    {
     "data": {
      "text/plain": [
       "<Signature (a, b, c)>"
      ]
     },
     "execution_count": null,
     "metadata": {},
     "output_type": "execute_result"
    }
   ],
   "source": [
    "inspect.signature(Foo)"
   ]
  },
  {
   "cell_type": "code",
   "execution_count": null,
   "id": "6bd18a52-4ead-44f1-89e7-4f83eb80d5e6",
   "metadata": {},
   "outputs": [
    {
     "data": {
      "text/plain": [
       "\u001b[0;31mSignature:\u001b[0m\n",
       "\u001b[0minspect\u001b[0m\u001b[0;34m.\u001b[0m\u001b[0m_signature_from_callable\u001b[0m\u001b[0;34m(\u001b[0m\u001b[0;34m\u001b[0m\n",
       "\u001b[0;34m\u001b[0m    \u001b[0mobj\u001b[0m\u001b[0;34m,\u001b[0m\u001b[0;34m\u001b[0m\n",
       "\u001b[0;34m\u001b[0m    \u001b[0;34m*\u001b[0m\u001b[0;34m,\u001b[0m\u001b[0;34m\u001b[0m\n",
       "\u001b[0;34m\u001b[0m    \u001b[0mfollow_wrapper_chains\u001b[0m\u001b[0;34m=\u001b[0m\u001b[0;32mTrue\u001b[0m\u001b[0;34m,\u001b[0m\u001b[0;34m\u001b[0m\n",
       "\u001b[0;34m\u001b[0m    \u001b[0mskip_bound_arg\u001b[0m\u001b[0;34m=\u001b[0m\u001b[0;32mTrue\u001b[0m\u001b[0;34m,\u001b[0m\u001b[0;34m\u001b[0m\n",
       "\u001b[0;34m\u001b[0m    \u001b[0msigcls\u001b[0m\u001b[0;34m,\u001b[0m\u001b[0;34m\u001b[0m\n",
       "\u001b[0;34m\u001b[0m\u001b[0;34m)\u001b[0m\u001b[0;34m\u001b[0m\u001b[0;34m\u001b[0m\u001b[0m\n",
       "\u001b[0;31mDocstring:\u001b[0m\n",
       "Private helper function to get signature for arbitrary\n",
       "callable objects.\n",
       "\u001b[0;31mFile:\u001b[0m      ~/mambaforge/lib/python3.9/inspect.py\n",
       "\u001b[0;31mType:\u001b[0m      function\n"
      ]
     },
     "metadata": {},
     "output_type": "display_data"
    }
   ],
   "source": [
    "# this way we are accessing the original source from inspect.py\n",
    "inspect._signature_from_callable?"
   ]
  },
  {
   "cell_type": "code",
   "execution_count": null,
   "id": "0008c04d-2eec-4f38-80b5-2a16b7625078",
   "metadata": {},
   "outputs": [
    {
     "data": {
      "text/plain": [
       "\u001b[0;31mSignature:\u001b[0m\n",
       "\u001b[0m_signature_from_callable\u001b[0m\u001b[0;34m(\u001b[0m\u001b[0;34m\u001b[0m\n",
       "\u001b[0;34m\u001b[0m    \u001b[0mobj\u001b[0m\u001b[0;34m,\u001b[0m\u001b[0;34m\u001b[0m\n",
       "\u001b[0;34m\u001b[0m    \u001b[0;34m*\u001b[0m\u001b[0;34m,\u001b[0m\u001b[0;34m\u001b[0m\n",
       "\u001b[0;34m\u001b[0m    \u001b[0mfollow_wrapper_chains\u001b[0m\u001b[0;34m=\u001b[0m\u001b[0;32mTrue\u001b[0m\u001b[0;34m,\u001b[0m\u001b[0;34m\u001b[0m\n",
       "\u001b[0;34m\u001b[0m    \u001b[0mskip_bound_arg\u001b[0m\u001b[0;34m=\u001b[0m\u001b[0;32mTrue\u001b[0m\u001b[0;34m,\u001b[0m\u001b[0;34m\u001b[0m\n",
       "\u001b[0;34m\u001b[0m    \u001b[0msigcls\u001b[0m\u001b[0;34m,\u001b[0m\u001b[0;34m\u001b[0m\n",
       "\u001b[0;34m\u001b[0m\u001b[0;34m)\u001b[0m\u001b[0;34m\u001b[0m\u001b[0;34m\u001b[0m\u001b[0m\n",
       "\u001b[0;31mDocstring:\u001b[0m\n",
       "Private helper function to get signature for arbitrary\n",
       "callable objects.\n",
       "\u001b[0;31mFile:\u001b[0m      Dynamically generated function. No source code available.\n",
       "\u001b[0;31mType:\u001b[0m      function\n"
      ]
     },
     "metadata": {},
     "output_type": "display_data"
    }
   ],
   "source": [
    "# this is our dbsrc in main.py here\n",
    "_signature_from_callable?"
   ]
  },
  {
   "cell_type": "markdown",
   "id": "5b09a5f5-f0b0-4433-aed2-39a5cbbdb721",
   "metadata": {},
   "source": [
    "### make `inspect.signature` to run our dbsrc code\n",
    "overriding the original official in inspect library"
   ]
  },
  {
   "cell_type": "code",
   "execution_count": null,
   "id": "cdc4da00-bca4-4f2a-9fdf-d5f762d175e5",
   "metadata": {},
   "outputs": [
    {
     "name": "stdout",
     "output_type": "stream",
     "text": [
      "    sig = None                                                                                                                                          (90)\n",
      "    if isinstance(obj, type):===========================================================================================================================(91)\n",
      "                                                                                                                                              \u001b[91mthis is comment\u001b[0m\n",
      "        # obj is a class or a metaclass                                                                                                                 (92)\n",
      "\n",
      "\n",
      "locals() => locals() : {'env': {'obj': <class '__main__.Foo'>, 'follow_wrapper_chains': True, 'skip_bound_arg': True, 'sigcls': <class 'inspect.Signature'>, '_get_signature_of': functools.partial(<function _signature_from_callable>, follow_wrapper_chains=True, skip_bound_arg=True, sigcls=<class 'inspect.Signature'>), 'sig': None}, 'codes': ('locals()', 'isinstance(obj, type)'), 'c': 'locals()'}\n",
      "\n",
      "\n",
      "                                                                                                        isinstance(obj, type) => isinstance(obj, type) : True\n"
     ]
    },
    {
     "data": {
      "text/plain": [
       "<Signature (a, b, c)>"
      ]
     },
     "execution_count": null,
     "metadata": {},
     "output_type": "execute_result"
    }
   ],
   "source": [
    "sfc = dbprint(_signature_from_callable, \"if isinstance(obj, type):\", \"this is comment\", \\\n",
    "              \"locals()\", \"isinstance(obj, type)\", \\\n",
    "              expand=1, env=g)\n",
    "\n",
    "# overriding the original official source with our dbsrc, even though rewriting _signature_from_callable inside inspect.py ######################\n",
    "inspect._signature_from_callable = _signature_from_callable\n",
    "inspect.signature(Foo) "
   ]
  },
  {
   "cell_type": "markdown",
   "id": "5dd48757-c771-40af-8b9b-b8f779b89db2",
   "metadata": {},
   "source": [
    "### run dbcode which are pure simple expressions"
   ]
  },
  {
   "cell_type": "code",
   "execution_count": null,
   "id": "6fcae399-6444-4ef5-811e-199c18066a9b",
   "metadata": {},
   "outputs": [
    {
     "name": "stdout",
     "output_type": "stream",
     "text": [
      "    if isinstance(obj, type):                                                                                                                           (91)\n",
      "        # obj is a class or a metaclass                                                                                                                 (92)\n",
      "                                                                                                                                                        (93)\n",
      "        # First, let's see if it has an overloaded __call__ defined                                                                                     (94)\n",
      "        # in its metaclass                                                                                                                              (95)\n",
      "        call = _signature_get_user_defined_method(type(obj), '__call__')================================================================================(96)\n",
      "                                                                                                                                              \u001b[91mthis is comment\u001b[0m\n",
      "        if call is not None:                                                                                                                            (97)\n",
      "            sig = _get_signature_of(call)                                                                                                               (98)\n",
      "        else:                                                                                                                                           (99)\n",
      "            factory_method = None                                                                                                                       (100)\n",
      "            new = _signature_get_user_defined_method(obj, '__new__')                                                                                    (101)\n",
      "\n",
      "\n",
      "locals() => locals() : {'env': {'obj': <class '__main__.Foo'>, 'follow_wrapper_chains': True, 'skip_bound_arg': True, 'sigcls': <class 'inspect.Signature'>, '_get_signature_of': functools.partial(<function _signature_from_callable>, follow_wrapper_chains=True, skip_bound_arg=True, sigcls=<class 'inspect.Signature'>), 'sig': None}, 'codes': ('locals()', \"_signature_get_user_defined_method(type(obj), '__call__')\", 'inspect.getdoc(_signature_get_user_defined_method)'), 'c': 'locals()'}\n",
      "\n",
      "\n",
      "                                _signature_get_user_defined_method(type(obj), '__call__') => _signature_get_user_defined_method(type(obj), '__call__') : None\n",
      "\n",
      "\n",
      "inspect.getdoc(_signature_get_user_defined_method) => inspect.getdoc(_signature_get_user_defined_method) : Private helper. Checks if ``cls`` has an attribute\n",
      "named ``method_name`` and returns it only if it is a\n",
      "pure python function.\n"
     ]
    },
    {
     "data": {
      "text/plain": [
       "<Signature (a, b, c)>"
      ]
     },
     "execution_count": null,
     "metadata": {},
     "output_type": "execute_result"
    }
   ],
   "source": [
    "sfc = dbprint(_signature_from_callable, \"call = _signature_get_user_defined_method(type(obj), '__call__')\", \"this is comment\", \\\n",
    "              \"locals()\", \"_signature_get_user_defined_method(type(obj), '__call__')\", \"inspect.getdoc(_signature_get_user_defined_method)\", expand=5, env=g)\n",
    "\n",
    "inspect._signature_from_callable = _signature_from_callable\n",
    "inspect.signature(Foo) "
   ]
  },
  {
   "cell_type": "markdown",
   "id": "680fb60f-0490-469a-bc4d-ec19cbcd2b6f",
   "metadata": {},
   "source": [
    "### run dbcode involving assignament = e.g., pprint(..., width=157)"
   ]
  },
  {
   "cell_type": "code",
   "execution_count": null,
   "id": "5a5c4faf-1cd5-42d5-8cec-f28d7576405b",
   "metadata": {},
   "outputs": [
    {
     "name": "stdout",
     "output_type": "stream",
     "text": [
      "        else:                                                                                                                                           (99)\n",
      "            factory_method = None=======================================================================================================================(100)\n",
      "                                                                                                                                              \u001b[91mthis is comment\u001b[0m\n",
      "            new = _signature_get_user_defined_method(obj, '__new__')                                                                                    (101)\n",
      "\n",
      "\n",
      "{'c': 'pprint(locals(), width=157)',\n",
      " 'codes': ('pprint(locals(), width=157)',),\n",
      " 'env': {'_get_signature_of': functools.partial(<function _signature_from_callable>, follow_wrapper_chains=True, skip_bound_arg=True, sigcls=<class 'inspect.Signature'>),\n",
      "         'call': None,\n",
      "         'follow_wrapper_chains': True,\n",
      "         'obj': <class '__main__.Foo'>,\n",
      "         'sig': None,\n",
      "         'sigcls': <class 'inspect.Signature'>,\n",
      "         'skip_bound_arg': True}}\n",
      "{'c': 'pprint(locals(), width=157)',\n",
      " 'codes': ('pprint(locals(), width=157)',),\n",
      " 'env': {'_get_signature_of': functools.partial(<function _signature_from_callable>, follow_wrapper_chains=True, skip_bound_arg=True, sigcls=<class 'inspect.Signature'>),\n",
      "         'call': None,\n",
      "         'follow_wrapper_chains': True,\n",
      "         'obj': <class '__main__.Foo'>,\n",
      "         'sig': None,\n",
      "         'sigcls': <class 'inspect.Signature'>,\n",
      "         'skip_bound_arg': True},\n",
      " 'variable': 'pprint(locals(), width=157)'}\n",
      "                                                                                             pprint(locals(), width=157) => pprint(locals(), width=157): None\n"
     ]
    },
    {
     "data": {
      "text/plain": [
       "<Signature (a, b, c)>"
      ]
     },
     "execution_count": null,
     "metadata": {},
     "output_type": "execute_result"
    }
   ],
   "source": [
    "sfc = dbprint(_signature_from_callable, 100, \"this is comment\", \\\n",
    "              \"pprint(locals(), width=157)\", expand=1, env=g)\n",
    "\n",
    "inspect._signature_from_callable = _signature_from_callable\n",
    "inspect.signature(Foo) "
   ]
  },
  {
   "cell_type": "code",
   "execution_count": null,
   "id": "75c6175e-1aa7-4c32-a216-b06a6b66b077",
   "metadata": {},
   "outputs": [],
   "source": [
    "list(locals().items())[:5]\n"
   ]
  },
  {
   "cell_type": "markdown",
   "id": "ec559a48-82a7-47a2-8711-87e44230dcd8",
   "metadata": {},
   "source": [
    "### run dbcode with for in loop and use idx instead of srcode string"
   ]
  },
  {
   "cell_type": "code",
   "execution_count": null,
   "id": "449a5642-a37c-4f29-b3f6-f1e4b99ec2a9",
   "metadata": {},
   "outputs": [
    {
     "name": "stdout",
     "output_type": "stream",
     "text": [
      "            new = _signature_get_user_defined_method(obj, '__new__')                                                                                    (101)\n",
      "            init = _signature_get_user_defined_method(obj, '__init__')==================================================================================(102)\n",
      "                                                                                                                                              \u001b[91mthis is comment\u001b[0m\n",
      "            # Now we check if the 'obj' class has an own '__new__' method                                                                               (103)\n",
      "\n",
      "\n",
      "loc = list(locals().items())[:5]\n",
      "for k, v in loc:\n",
      "    print(f'{k}: {v}')                                                                                     \n",
      "                                                                                                                                  Running your code block => \n",
      "The code block printout => : \n",
      "env: {'obj': <class '__main__.Foo'>, 'follow_wrapper_chains': True, 'skip_bound_arg': True, 'sigcls': <class 'inspect.Signature'>, '_get_signature_of': functools.partial(<function _signature_from_callable>, follow_wrapper_chains=True, skip_bound_arg=True, sigcls=<class 'inspect.Signature'>), 'sig': None, 'call': None, 'factory_method': None, 'new': None}\n",
      "codes: (\"loc = list(locals().items())[:5]\\nfor k, v in loc:\\n    print(f'{k}: {v}')\",)\n",
      "c: loc = list(locals().items())[:5]\n",
      "for k, v in loc:\n",
      "    print(f'{k}: {v}')\n",
      "output: Running your code block => \n",
      "block: <ast.Module object>\n"
     ]
    },
    {
     "data": {
      "text/plain": [
       "<Signature (a, b, c)>"
      ]
     },
     "execution_count": null,
     "metadata": {},
     "output_type": "execute_result"
    }
   ],
   "source": [
    "sfc = dbprint(_signature_from_callable, 102, \"this is comment\", \\\n",
    "\"loc = list(locals().items())[:5]\\\\n\\\n",
    "for k, v in loc:\\\\n\\\n",
    "    print(f'{k}: {v}')\", expand=1, env=g)\n",
    "\n",
    "inspect._signature_from_callable = _signature_from_callable\n",
    "inspect.signature(Foo) "
   ]
  },
  {
   "cell_type": "markdown",
   "id": "24dabafd-96ce-4172-9fb4-5bffb21ffbbe",
   "metadata": {},
   "source": [
    "### test printsrcwithidx"
   ]
  },
  {
   "cell_type": "code",
   "execution_count": null,
   "id": "b3ebbab1-c782-48fe-bf31-3d879b02f1f6",
   "metadata": {},
   "outputs": [
    {
     "name": "stdout",
     "output_type": "stream",
     "text": [
      "def _signature_from_callable(obj, *,                                                                                                                    (0)\n",
      "                             follow_wrapper_chains=True,                                                                                                (1)\n",
      "                             skip_bound_arg=True,                                                                                                       (2)\n",
      "                             sigcls):                                                                                                                   (3)\n",
      "                                                                                                                                                        (4)\n",
      "    \"\"\"Private helper function to get signature for arbitrary                                                                                           (5)\n",
      "    callable objects.                                                                                                                                   (6)\n",
      "    \"\"\"                                                                                                                                                 (7)\n",
      "                                                                                                                                                        (8)\n",
      "    _get_signature_of = functools.partial(_signature_from_callable,                                                                                     (9)\n",
      "                                follow_wrapper_chains=follow_wrapper_chains,                                                                            (10)\n",
      "                                skip_bound_arg=skip_bound_arg,                                                                                          (11)\n",
      "                                sigcls=sigcls)                                                                                                          (12)\n",
      "                                                                                                                                                        (13)\n",
      "    if not callable(obj):                                                                                                                               (14)\n",
      "        raise TypeError('{!r} is not a callable object'.format(obj))                                                                                    (15)\n",
      "                                                                                                                                                        (16)\n",
      "    if isinstance(obj, types.MethodType):                                                                                                               (17)\n",
      "        # In this case we skip the first parameter of the underlying                                                                                    (18)\n",
      "        # function (usually `self` or `cls`).                                                                                                           (19)\n",
      "        sig = _get_signature_of(obj.__func__)                                                                                                           (20)\n",
      "                                                                                                                                                        (21)\n",
      "        if skip_bound_arg:                                                                                                                              (22)\n",
      "            return _signature_bound_method(sig)                                                                                                         (23)\n",
      "        else:                                                                                                                                           (24)\n",
      "            return sig                                                                                                                                  (25)\n",
      "                                                                                                                                                        (26)\n",
      "    # Was this function wrapped by a decorator?                                                                                                         (27)\n",
      "    if follow_wrapper_chains:                                                                                                                           (28)\n",
      "        obj = unwrap(obj, stop=(lambda f: hasattr(f, \"__signature__\")))                                                                                 (29)\n",
      "        if isinstance(obj, types.MethodType):                                                                                                           (30)\n",
      "            # If the unwrapped object is a *method*, we might want to                                                                                   (31)\n",
      "            # skip its first parameter (self).                                                                                                          (32)\n",
      "            # See test_signature_wrapped_bound_method for details.                                                                                      (33)\n",
      "            return _get_signature_of(obj)                                                                                                               (34)\n",
      "                                                                                                                                                        (35)\n",
      "    try:                                                                                                                                                (36)\n",
      "        sig = obj.__signature__                                                                                                                         (37)\n",
      "    except AttributeError:                                                                                                                              (38)\n",
      "        pass                                                                                                                                            (39)\n",
      "    else:                                                                                                                                               (40)\n",
      "        if sig is not None:                                                                                                                             (41)\n",
      "            if not isinstance(sig, Signature):                                                                                                          (42)\n",
      "                raise TypeError(                                                                                                                        (43)\n",
      "                    'unexpected object {!r} in __signature__ '                                                                                          (44)\n",
      "                    'attribute'.format(sig))                                                                                                            (45)\n",
      "            return sig                                                                                                                                  (46)\n",
      "                                                                                                                                                        (47)\n",
      "    try:                                                                                                                                                (48)\n",
      "        partialmethod = obj._partialmethod                                                                                                              (49)\n",
      "    except AttributeError:                                                                                                                              (50)\n",
      "        pass                                                                                                                                            (51)\n",
      "    else:                                                                                                                                               (52)\n",
      "        if isinstance(partialmethod, functools.partialmethod):                                                                                          (53)\n",
      "            # Unbound partialmethod (see functools.partialmethod)                                                                                       (54)\n",
      "            # This means, that we need to calculate the signature                                                                                       (55)\n",
      "            # as if it's a regular partial object, but taking into                                                                                      (56)\n",
      "            # account that the first positional argument                                                                                                (57)\n",
      "            # (usually `self`, or `cls`) will not be passed                                                                                             (58)\n",
      "            # automatically (as for boundmethods)                                                                                                       (59)\n",
      "                                                                                                                                                        (60)\n",
      "            wrapped_sig = _get_signature_of(partialmethod.func)                                                                                         (61)\n",
      "                                                                                                                                                        (62)\n",
      "            sig = _signature_get_partial(wrapped_sig, partialmethod, (None,))                                                                           (63)\n",
      "            first_wrapped_param = tuple(wrapped_sig.parameters.values())[0]                                                                             (64)\n",
      "            if first_wrapped_param.kind is Parameter.VAR_POSITIONAL:                                                                                    (65)\n",
      "                # First argument of the wrapped callable is `*args`, as in                                                                              (66)\n",
      "                # `partialmethod(lambda *args)`.                                                                                                        (67)\n",
      "                return sig                                                                                                                              (68)\n",
      "            else:                                                                                                                                       (69)\n",
      "                sig_params = tuple(sig.parameters.values())                                                                                             (70)\n",
      "                assert (not sig_params or                                                                                                               (71)\n",
      "                        first_wrapped_param is not sig_params[0])                                                                                       (72)\n",
      "                new_params = (first_wrapped_param,) + sig_params                                                                                        (73)\n",
      "                return sig.replace(parameters=new_params)                                                                                               (74)\n",
      "                                                                                                                                                        (75)\n",
      "    if isfunction(obj) or _signature_is_functionlike(obj):                                                                                              (76)\n",
      "        # If it's a pure Python function, or an object that is duck type                                                                                (77)\n",
      "        # of a Python function (Cython functions, for instance), then:                                                                                  (78)\n",
      "        return _signature_from_function(sigcls, obj,                                                                                                    (79)\n",
      "                                        skip_bound_arg=skip_bound_arg)                                                                                  (80)\n",
      "                                                                                                                                                        (81)\n",
      "    if _signature_is_builtin(obj):                                                                                                                      (82)\n",
      "        return _signature_from_builtin(sigcls, obj,                                                                                                     (83)\n",
      "                                       skip_bound_arg=skip_bound_arg)                                                                                   (84)\n",
      "                                                                                                                                                        (85)\n",
      "    if isinstance(obj, functools.partial):                                                                                                              (86)\n",
      "        wrapped_sig = _get_signature_of(obj.func)                                                                                                       (87)\n",
      "        return _signature_get_partial(wrapped_sig, obj)                                                                                                 (88)\n",
      "                                                                                                                                                        (89)\n",
      "    sig = None                                                                                                                                          (90)\n",
      "    if isinstance(obj, type):                                                                                                                           (91)\n",
      "        # obj is a class or a metaclass                                                                                                                 (92)\n",
      "                                                                                                                                                        (93)\n",
      "        # First, let's see if it has an overloaded __call__ defined                                                                                     (94)\n",
      "        # in its metaclass                                                                                                                              (95)\n",
      "        call = _signature_get_user_defined_method(type(obj), '__call__')                                                                                (96)\n",
      "        if call is not None:                                                                                                                            (97)\n",
      "            sig = _get_signature_of(call)                                                                                                               (98)\n",
      "        else:                                                                                                                                           (99)\n",
      "            factory_method = None                                                                                                                       (100)\n",
      "            new = _signature_get_user_defined_method(obj, '__new__')                                                                                    (101)\n",
      "            init = _signature_get_user_defined_method(obj, '__init__')                                                                                  (102)\n",
      "            # Now we check if the 'obj' class has an own '__new__' method                                                                               (103)\n",
      "            if '__new__' in obj.__dict__:                                                                                                               (104)\n",
      "                factory_method = new                                                                                                                    (105)\n",
      "            # or an own '__init__' method                                                                                                               (106)\n",
      "            elif '__init__' in obj.__dict__:                                                                                                            (107)\n",
      "                factory_method = init                                                                                                                   (108)\n",
      "            # If not, we take inherited '__new__' or '__init__', if present                                                                             (109)\n",
      "            elif new is not None:                                                                                                                       (110)\n",
      "                factory_method = new                                                                                                                    (111)\n",
      "            elif init is not None:                                                                                                                      (112)\n",
      "                factory_method = init                                                                                                                   (113)\n",
      "                                                                                                                                                        (114)\n",
      "            if factory_method is not None:                                                                                                              (115)\n",
      "                sig = _get_signature_of(factory_method)                                                                                                 (116)\n",
      "                                                                                                                                                        (117)\n",
      "        if sig is None:                                                                                                                                 (118)\n",
      "            # At this point we know, that `obj` is a class, with no user-                                                                               (119)\n",
      "            # defined '__init__', '__new__', or class-level '__call__'                                                                                  (120)\n",
      "                                                                                                                                                        (121)\n",
      "            for base in obj.__mro__[:-1]:                                                                                                               (122)\n",
      "                # Since '__text_signature__' is implemented as a                                                                                        (123)\n",
      "                # descriptor that extracts text signature from the                                                                                      (124)\n",
      "                # class docstring, if 'obj' is derived from a builtin                                                                                   (125)\n",
      "                # class, its own '__text_signature__' may be 'None'.                                                                                    (126)\n",
      "                # Therefore, we go through the MRO (except the last                                                                                     (127)\n",
      "                # class in there, which is 'object') to find the first                                                                                  (128)\n",
      "                # class with non-empty text signature.                                                                                                  (129)\n",
      "                try:                                                                                                                                    (130)\n",
      "                    text_sig = base.__text_signature__                                                                                                  (131)\n",
      "                except AttributeError:                                                                                                                  (132)\n",
      "                    pass                                                                                                                                (133)\n",
      "                else:                                                                                                                                   (134)\n",
      "                    if text_sig:                                                                                                                        (135)\n",
      "                        # If 'base' class has a __text_signature__ attribute:                                                                           (136)\n",
      "                        # return a signature based on it                                                                                                (137)\n",
      "                        return _signature_fromstr(sigcls, base, text_sig)                                                                               (138)\n",
      "                                                                                                                                                        (139)\n",
      "            # No '__text_signature__' was found for the 'obj' class.                                                                                    (140)\n",
      "            # Last option is to check if its '__init__' is                                                                                              (141)\n",
      "            # object.__init__ or type.__init__.                                                                                                         (142)\n",
      "            if type not in obj.__mro__:                                                                                                                 (143)\n",
      "                # We have a class (not metaclass), but no user-defined                                                                                  (144)\n",
      "                # __init__ or __new__ for it                                                                                                            (145)\n",
      "                if (obj.__init__ is object.__init__ and                                                                                                 (146)\n",
      "                    obj.__new__ is object.__new__):                                                                                                     (147)\n",
      "                    # Return a signature of 'object' builtin.                                                                                           (148)\n",
      "                    return sigcls.from_callable(object)                                                                                                 (149)\n",
      "                else:                                                                                                                                   (150)\n",
      "                    raise ValueError(                                                                                                                   (151)\n",
      "                        'no signature found for builtin type {!r}'.format(obj))                                                                         (152)\n",
      "                                                                                                                                                        (153)\n",
      "    elif not isinstance(obj, _NonUserDefinedCallables):                                                                                                 (154)\n",
      "        # An object with __call__                                                                                                                       (155)\n",
      "        # We also check that the 'obj' is not an instance of                                                                                            (156)\n",
      "        # _WrapperDescriptor or _MethodWrapper to avoid                                                                                                 (157)\n",
      "        # infinite recursion (and even potential segfault)                                                                                              (158)\n",
      "        call = _signature_get_user_defined_method(type(obj), '__call__')                                                                                (159)\n",
      "        if call is not None:                                                                                                                            (160)\n",
      "            try:                                                                                                                                        (161)\n",
      "                sig = _get_signature_of(call)                                                                                                           (162)\n",
      "            except ValueError as ex:                                                                                                                    (163)\n",
      "                msg = 'no signature found for {!r}'.format(obj)                                                                                         (164)\n",
      "                raise ValueError(msg) from ex                                                                                                           (165)\n",
      "                                                                                                                                                        (166)\n",
      "    if sig is not None:                                                                                                                                 (167)\n",
      "        # For classes and objects we skip the first parameter of their                                                                                  (168)\n",
      "        # __call__, __new__, or __init__ methods                                                                                                        (169)\n",
      "        if skip_bound_arg:                                                                                                                              (170)\n",
      "            return _signature_bound_method(sig)                                                                                                         (171)\n",
      "        else:                                                                                                                                           (172)\n",
      "            return sig                                                                                                                                  (173)\n",
      "                                                                                                                                                        (174)\n",
      "    if isinstance(obj, types.BuiltinFunctionType):                                                                                                      (175)\n",
      "        # Raise a nicer error message for builtins                                                                                                      (176)\n",
      "        msg = 'no signature found for builtin function {!r}'.format(obj)                                                                                (177)\n",
      "        raise ValueError(msg)                                                                                                                           (178)\n",
      "                                                                                                                                                        (179)\n",
      "    raise ValueError('callable {!r} is not supported by signature'.format(obj))                                                                         (180)\n",
      "                                                                                                                                                        (181)\n"
     ]
    }
   ],
   "source": [
    "printsrcwithidx(defaults.orisrc)"
   ]
  },
  {
   "cell_type": "code",
   "execution_count": null,
   "id": "87aee547-0a15-4b36-8b2d-f8cbf6ffcc4d",
   "metadata": {},
   "outputs": [],
   "source": []
  }
 ],
 "metadata": {
  "kernelspec": {
   "display_name": "Python 3 (ipykernel)",
   "language": "python",
   "name": "python3"
  }
 },
 "nbformat": 4,
 "nbformat_minor": 5
}
