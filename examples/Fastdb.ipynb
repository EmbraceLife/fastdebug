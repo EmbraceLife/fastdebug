{
 "cells": [
  {
   "cell_type": "code",
   "execution_count": null,
   "id": "0532251d-ea60-494d-8e1f-432b23010752",
   "metadata": {},
   "outputs": [],
   "source": [
    "from fastdebug.core import *"
   ]
  },
  {
   "cell_type": "code",
   "execution_count": null,
   "id": "e5566c20-5c3a-419e-9187-3447304d112a",
   "metadata": {},
   "outputs": [],
   "source": [
    "import inspect\n",
    "from inspect import *\n",
    "from inspect import _signature_from_callable\n",
    "from inspect import _signature_is_functionlike, _signature_is_builtin, _signature_get_user_defined_method, _signature_from_function, _signature_bound_method"
   ]
  },
  {
   "cell_type": "code",
   "execution_count": null,
   "id": "53d1d247-fee5-4556-8561-28e7e7b61a61",
   "metadata": {},
   "outputs": [],
   "source": [
    "class Foo:\n",
    "    def __init__(self, a, b, c): pass"
   ]
  },
  {
   "cell_type": "code",
   "execution_count": null,
   "id": "0dee8016-e63d-4554-a3aa-b0f0716b339d",
   "metadata": {},
   "outputs": [
    {
     "data": {
      "text/plain": [
       "<Signature (a, b, c)>"
      ]
     },
     "execution_count": null,
     "metadata": {},
     "output_type": "execute_result"
    }
   ],
   "source": [
    "inspect.signature(Foo)"
   ]
  },
  {
   "cell_type": "code",
   "execution_count": null,
   "id": "e9990f3c-78b3-4ee8-8413-77c3cea20347",
   "metadata": {},
   "outputs": [
    {
     "data": {
      "text/plain": [
       "<Signature (a, b, c)>"
      ]
     },
     "execution_count": null,
     "metadata": {},
     "output_type": "execute_result"
    }
   ],
   "source": [
    "_signature_from_callable(Foo, sigcls=inspect.Signature, follow_wrapper_chains=True) # debug the function above through this example"
   ]
  },
  {
   "cell_type": "code",
   "execution_count": null,
   "id": "4b9151d0-0eb4-4fe7-90c1-341af651b081",
   "metadata": {},
   "outputs": [],
   "source": [
    "g = globals()\n",
    "s = Fastdb(_signature_from_callable, g)"
   ]
  },
  {
   "cell_type": "code",
   "execution_count": null,
   "id": "f9e772b8-3f91-4000-9187-5e9df9f6bd99",
   "metadata": {},
   "outputs": [
    {
     "name": "stdout",
     "output_type": "stream",
     "text": [
      "    sig = None                                                                                                                                          (90)\n",
      "    if isinstance(obj, type):===========================================================================================================================(91)\n",
      "                                                                                                                                              \u001b[91mthis is comment\u001b[0m\n",
      "        # obj is a class or a metaclass                                                                                                                 (92)\n"
     ]
    },
    {
     "data": {
      "text/plain": [
       "<Signature (a, b, c)>"
      ]
     },
     "execution_count": null,
     "metadata": {},
     "output_type": "execute_result"
    }
   ],
   "source": [
    "s.dbprint(\"if isinstance(obj, type):\", \"this is comment\", \\\n",
    "              \"locals()\", \"isinstance(obj, type)\", \\\n",
    "              expand=1)\n",
    "\n",
    "_signature_from_callable(Foo, sigcls=inspect.Signature, follow_wrapper_chains=True) # debug the function above through this example"
   ]
  },
  {
   "cell_type": "code",
   "execution_count": null,
   "id": "3a0bbe65-13ed-4e33-bffa-40dc02a22461",
   "metadata": {},
   "outputs": [
    {
     "name": "stdout",
     "output_type": "stream",
     "text": [
      "    sig = None                                                                                                                                          (90)\n",
      "    if isinstance(obj, type):===========================================================================================================================(91)\n",
      "                                                                                                                                              \u001b[91mthis is comment\u001b[0m\n",
      "        # obj is a class or a metaclass                                                                                                                 (92)\n"
     ]
    },
    {
     "ename": "IndentationError",
     "evalue": "unexpected indent (<string>, line 83)",
     "output_type": "error",
     "traceback": [
      "Traceback \u001b[0;36m(most recent call last)\u001b[0m:\n",
      "  File \u001b[1;32m~/mambaforge/lib/python3.9/site-packages/IPython/core/interactiveshell.py:3398\u001b[0m in \u001b[1;35mrun_code\u001b[0m\n    exec(code_obj, self.user_global_ns, self.user_ns)\n",
      "  Input \u001b[1;32mIn [8]\u001b[0m in \u001b[1;35m<cell line: 1>\u001b[0m\n    s.dbprint(91, \"this is comment\", \\\n",
      "\u001b[0;36m  File \u001b[0;32m~/Documents/fastdebug/fastdebug/core.py:553\u001b[0;36m in \u001b[0;35mdbprint\u001b[0;36m\u001b[0m\n\u001b[0;31m    exec(dbsrc, globals().update(self.outenv)) # make sure b can access lst from above\u001b[0m\n",
      "\u001b[0;36m  File \u001b[0;32m<string>:83\u001b[0;36m\u001b[0m\n\u001b[0;31m    call = _signature_get_user_defined_method(type(obj), '__call__')\u001b[0m\n\u001b[0m    ^\u001b[0m\n\u001b[0;31mIndentationError\u001b[0m\u001b[0;31m:\u001b[0m unexpected indent\n"
     ]
    }
   ],
   "source": [
    "s.dbprint(91, \"this is comment\", \\\n",
    "              \"locals()\", \"isinstance(obj, type)\", \\\n",
    "              expand=1)\n",
    "\n",
    "inspect._signature_from_callable = _signature_from_callable\n",
    "inspect.signature(Foo) "
   ]
  },
  {
   "cell_type": "code",
   "execution_count": null,
   "id": "92b15d1e-8b0d-47ad-8b2c-61ec8e296ae9",
   "metadata": {},
   "outputs": [],
   "source": [
    "s.dbprint(101, \"this is comment\",\\\n",
    "\"loc = list(locals().items())[:5]\\\\n\\\n",
    "for k, v in loc:\\\\n\\\n",
    "    print(f'{k}: {v}')\", expand=3)\n",
    "\n",
    "inspect._signature_from_callable = _signature_from_callable\n",
    "inspect.signature(Foo) "
   ]
  },
  {
   "cell_type": "code",
   "execution_count": null,
   "id": "08b500dc-b928-44a6-b4db-7068ac6457bf",
   "metadata": {},
   "outputs": [],
   "source": [
    "s.printsrcwithidx(part=4)"
   ]
  },
  {
   "cell_type": "markdown",
   "id": "9c692ca9-3615-47d5-a968-9a194fa58679",
   "metadata": {},
   "source": [
    "### Handle more occurances"
   ]
  },
  {
   "cell_type": "code",
   "execution_count": null,
   "id": "344892b1-7ca9-43b2-94bc-85ca31dc2008",
   "metadata": {},
   "outputs": [],
   "source": [
    "printsrc??"
   ]
  },
  {
   "cell_type": "code",
   "execution_count": null,
   "id": "758db1d6-463b-4a72-89eb-7dbbf3e75b1d",
   "metadata": {},
   "outputs": [],
   "source": [
    "from fastcore.meta import delegates\n",
    "printsrcwithidx(delegates)"
   ]
  },
  {
   "cell_type": "code",
   "execution_count": null,
   "id": "942c1020-fdfd-4f55-89ea-ce0f33dcfc46",
   "metadata": {},
   "outputs": [],
   "source": [
    "10 // 33"
   ]
  },
  {
   "cell_type": "markdown",
   "id": "21dc052b-a49a-45c7-8409-f8df6db9418b",
   "metadata": {},
   "source": [
    "### Another example with a different object instance of Fastdebug"
   ]
  },
  {
   "cell_type": "code",
   "execution_count": null,
   "id": "8f5296c1-2c47-41cb-b804-098ddc073ee7",
   "metadata": {},
   "outputs": [],
   "source": [
    "from fastcore.imports import *"
   ]
  },
  {
   "cell_type": "code",
   "execution_count": null,
   "id": "ef45e3ed-515e-4c97-837a-3dc97f6979c9",
   "metadata": {},
   "outputs": [],
   "source": [
    "g = globals()"
   ]
  },
  {
   "cell_type": "code",
   "execution_count": null,
   "id": "a1f8745e-09f6-46fe-a6ec-9b4603756067",
   "metadata": {},
   "outputs": [],
   "source": [
    "s1 = Fastdb(delegates, g)"
   ]
  },
  {
   "cell_type": "code",
   "execution_count": null,
   "id": "2771e6b6-5503-4ecd-b2aa-3fdec3ce102e",
   "metadata": {},
   "outputs": [],
   "source": [
    "s1.printsrcwithidx()"
   ]
  },
  {
   "cell_type": "code",
   "execution_count": null,
   "id": "76c17b70-b4c3-4949-9307-b36f18a7144d",
   "metadata": {},
   "outputs": [],
   "source": [
    "def low(a, b=1): pass"
   ]
  },
  {
   "cell_type": "code",
   "execution_count": null,
   "id": "d8514e15-85de-4dbc-bda2-9046c68bde89",
   "metadata": {},
   "outputs": [],
   "source": [
    "s1.dbprint(5, \"before if ot is None\", \"to\", \"to is None\")\n",
    "\n",
    "delegates(low)"
   ]
  },
  {
   "cell_type": "code",
   "execution_count": null,
   "id": "2d730172-c987-49f7-a37b-25a1e32054c5",
   "metadata": {},
   "outputs": [],
   "source": [
    "s1.print()"
   ]
  },
  {
   "cell_type": "code",
   "execution_count": null,
   "id": "c463ce96-f5ba-4200-a35c-def5d93503e2",
   "metadata": {},
   "outputs": [],
   "source": []
  }
 ],
 "metadata": {
  "kernelspec": {
   "display_name": "Python 3 (ipykernel)",
   "language": "python",
   "name": "python3"
  }
 },
 "nbformat": 4,
 "nbformat_minor": 5
}
