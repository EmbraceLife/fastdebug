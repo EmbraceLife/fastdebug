{
 "cells": [
  {
   "cell_type": "code",
   "execution_count": null,
   "id": "0532251d-ea60-494d-8e1f-432b23010752",
   "metadata": {},
   "outputs": [],
   "source": [
    "from fastdebug.core import *"
   ]
  },
  {
   "cell_type": "code",
   "execution_count": null,
   "id": "e5566c20-5c3a-419e-9187-3447304d112a",
   "metadata": {},
   "outputs": [],
   "source": [
    "import inspect\n",
    "from inspect import *\n",
    "from inspect import _signature_from_callable\n",
    "from inspect import _signature_is_functionlike, _signature_is_builtin, _signature_get_user_defined_method, _signature_from_function, _signature_bound_method"
   ]
  },
  {
   "cell_type": "code",
   "execution_count": null,
   "id": "53d1d247-fee5-4556-8561-28e7e7b61a61",
   "metadata": {},
   "outputs": [],
   "source": [
    "class Foo:\n",
    "    def __init__(self, a, b, c): pass"
   ]
  },
  {
   "cell_type": "code",
   "execution_count": null,
   "id": "0dee8016-e63d-4554-a3aa-b0f0716b339d",
   "metadata": {},
   "outputs": [
    {
     "data": {
      "text/plain": [
       "<Signature (a, b, c)>"
      ]
     },
     "execution_count": null,
     "metadata": {},
     "output_type": "execute_result"
    }
   ],
   "source": [
    "inspect.signature(Foo)"
   ]
  },
  {
   "cell_type": "code",
   "execution_count": null,
   "id": "e9990f3c-78b3-4ee8-8413-77c3cea20347",
   "metadata": {},
   "outputs": [
    {
     "data": {
      "text/plain": [
       "<Signature (a, b, c)>"
      ]
     },
     "execution_count": null,
     "metadata": {},
     "output_type": "execute_result"
    }
   ],
   "source": [
    "_signature_from_callable(Foo, sigcls=inspect.Signature, follow_wrapper_chains=True) # debug the function above through this example"
   ]
  },
  {
   "cell_type": "code",
   "execution_count": null,
   "id": "4b9151d0-0eb4-4fe7-90c1-341af651b081",
   "metadata": {},
   "outputs": [],
   "source": [
    "g = globals()\n",
    "s = Fastdb(_signature_from_callable, g)"
   ]
  },
  {
   "cell_type": "code",
   "execution_count": null,
   "id": "f9e772b8-3f91-4000-9187-5e9df9f6bd99",
   "metadata": {},
   "outputs": [
    {
     "name": "stdout",
     "output_type": "stream",
     "text": [
      "    sig = None                                                                                                                                          (90)\n",
      "    if isinstance(obj, type):===========================================================================================================================(91)\n",
      "                                                                                                                                              \u001b[91mthis is comment\u001b[0m\n",
      "        # obj is a class or a metaclass                                                                                                                 (92)\n",
      "\n",
      "\n",
      "locals() => locals() : {'env': {'obj': <class '__main__.Foo'>, 'follow_wrapper_chains': True, 'skip_bound_arg': True, 'sigcls': <class 'inspect.Signature'>, '_get_signature_of': functools.partial(<function _signature_from_callable>, follow_wrapper_chains=True, skip_bound_arg=True, sigcls=<class 'inspect.Signature'>), 'sig': None}, 'codes': ('locals()', 'isinstance(obj, type)'), 'c': 'locals()'}\n",
      "\n",
      "\n",
      "                                                                                                        isinstance(obj, type) => isinstance(obj, type) : True\n"
     ]
    },
    {
     "data": {
      "text/plain": [
       "<Signature (a, b, c)>"
      ]
     },
     "execution_count": null,
     "metadata": {},
     "output_type": "execute_result"
    }
   ],
   "source": [
    "s.dbprint(\"if isinstance(obj, type):\", \"this is comment\", \\\n",
    "              \"locals()\", \"isinstance(obj, type)\", \\\n",
    "              expand=1)\n",
    "\n",
    "_signature_from_callable(Foo, sigcls=inspect.Signature, follow_wrapper_chains=True) # debug the function above through this example"
   ]
  },
  {
   "cell_type": "code",
   "execution_count": null,
   "id": "3a0bbe65-13ed-4e33-bffa-40dc02a22461",
   "metadata": {},
   "outputs": [
    {
     "name": "stdout",
     "output_type": "stream",
     "text": [
      "    sig = None                                                                                                                                          (90)\n",
      "    if isinstance(obj, type):===========================================================================================================================(91)\n",
      "                                                                                                                                              \u001b[91mthis is comment\u001b[0m\n",
      "        # obj is a class or a metaclass                                                                                                                 (92)\n",
      "\n",
      "\n",
      "locals() => locals() : {'env': {'obj': <class '__main__.Foo'>, 'follow_wrapper_chains': True, 'skip_bound_arg': True, 'sigcls': <class 'inspect.Signature'>, '_get_signature_of': functools.partial(<function _signature_from_callable>, follow_wrapper_chains=True, skip_bound_arg=True, sigcls=<class 'inspect.Signature'>), 'sig': None}, 'codes': ('locals()', 'isinstance(obj, type)'), 'c': 'locals()'}\n",
      "\n",
      "\n",
      "                                                                                                        isinstance(obj, type) => isinstance(obj, type) : True\n"
     ]
    },
    {
     "data": {
      "text/plain": [
       "<Signature (a, b, c)>"
      ]
     },
     "execution_count": null,
     "metadata": {},
     "output_type": "execute_result"
    }
   ],
   "source": [
    "s.dbprint(91, \"this is comment\", \\\n",
    "              \"locals()\", \"isinstance(obj, type)\", \\\n",
    "              expand=1)\n",
    "\n",
    "inspect._signature_from_callable = _signature_from_callable\n",
    "inspect.signature(Foo) "
   ]
  },
  {
   "cell_type": "code",
   "execution_count": null,
   "id": "92b15d1e-8b0d-47ad-8b2c-61ec8e296ae9",
   "metadata": {},
   "outputs": [
    {
     "name": "stdout",
     "output_type": "stream",
     "text": [
      "            sig = _get_signature_of(call)                                                                                                               (98)\n",
      "        else:                                                                                                                                           (99)\n",
      "            factory_method = None                                                                                                                       (100)\n",
      "            new = _signature_get_user_defined_method(obj, '__new__')====================================================================================(101)\n",
      "                                                                                                                                              \u001b[91mthis is comment\u001b[0m\n",
      "            init = _signature_get_user_defined_method(obj, '__init__')                                                                                  (102)\n",
      "            # Now we check if the 'obj' class has an own '__new__' method                                                                               (103)\n",
      "            if '__new__' in obj.__dict__:                                                                                                               (104)\n",
      "\n",
      "\n",
      "loc = list(locals().items())[:5]\n",
      "for k, v in loc:\n",
      "    print(f'{k}: {v}')                                                                                     \n",
      "                                                                                                                                  Running your code block => \n",
      "The code block printout => : \n",
      "env: {'obj': <class '__main__.Foo'>, 'follow_wrapper_chains': True, 'skip_bound_arg': True, 'sigcls': <class 'inspect.Signature'>, '_get_signature_of': functools.partial(<function _signature_from_callable>, follow_wrapper_chains=True, skip_bound_arg=True, sigcls=<class 'inspect.Signature'>), 'sig': None, 'call': None, 'factory_method': None}\n",
      "codes: (\"loc = list(locals().items())[:5]\\nfor k, v in loc:\\n    print(f'{k}: {v}')\",)\n",
      "c: loc = list(locals().items())[:5]\n",
      "for k, v in loc:\n",
      "    print(f'{k}: {v}')\n",
      "output: Running your code block => \n",
      "block: <ast.Module object>\n"
     ]
    },
    {
     "data": {
      "text/plain": [
       "<Signature (a, b, c)>"
      ]
     },
     "execution_count": null,
     "metadata": {},
     "output_type": "execute_result"
    }
   ],
   "source": [
    "s.dbprint(101, \"this is comment\",\\\n",
    "\"loc = list(locals().items())[:5]\\\\n\\\n",
    "for k, v in loc:\\\\n\\\n",
    "    print(f'{k}: {v}')\", expand=3)\n",
    "\n",
    "inspect._signature_from_callable = _signature_from_callable\n",
    "inspect.signature(Foo) "
   ]
  },
  {
   "cell_type": "code",
   "execution_count": null,
   "id": "08b500dc-b928-44a6-b4db-7068ac6457bf",
   "metadata": {},
   "outputs": [
    {
     "name": "stdout",
     "output_type": "stream",
     "text": [
      "        else:                                                                                                                                           (99)\n",
      "            factory_method = None                                                                                                                       (100)\n",
      "            new = _signature_get_user_defined_method(obj, '__new__')                                                                                    (101)\n",
      "            init = _signature_get_user_defined_method(obj, '__init__')                                                                                  (102)\n",
      "            # Now we check if the 'obj' class has an own '__new__' method                                                                               (103)\n",
      "            if '__new__' in obj.__dict__:                                                                                                               (104)\n",
      "                factory_method = new                                                                                                                    (105)\n",
      "            # or an own '__init__' method                                                                                                               (106)\n",
      "            elif '__init__' in obj.__dict__:                                                                                                            (107)\n",
      "                factory_method = init                                                                                                                   (108)\n",
      "            # If not, we take inherited '__new__' or '__init__', if present                                                                             (109)\n",
      "            elif new is not None:                                                                                                                       (110)\n",
      "                factory_method = new                                                                                                                    (111)\n",
      "            elif init is not None:                                                                                                                      (112)\n",
      "                factory_method = init                                                                                                                   (113)\n",
      "                                                                                                                                                        (114)\n",
      "            if factory_method is not None:                                                                                                              (115)\n",
      "                sig = _get_signature_of(factory_method)                                                                                                 (116)\n",
      "                                                                                                                                                        (117)\n",
      "        if sig is None:                                                                                                                                 (118)\n",
      "            # At this point we know, that `obj` is a class, with no user-                                                                               (119)\n",
      "            # defined '__init__', '__new__', or class-level '__call__'                                                                                  (120)\n",
      "                                                                                                                                                        (121)\n",
      "            for base in obj.__mro__[:-1]:                                                                                                               (122)\n",
      "                # Since '__text_signature__' is implemented as a                                                                                        (123)\n",
      "                # descriptor that extracts text signature from the                                                                                      (124)\n",
      "                # class docstring, if 'obj' is derived from a builtin                                                                                   (125)\n",
      "                # class, its own '__text_signature__' may be 'None'.                                                                                    (126)\n",
      "                # Therefore, we go through the MRO (except the last                                                                                     (127)\n",
      "                # class in there, which is 'object') to find the first                                                                                  (128)\n",
      "                # class with non-empty text signature.                                                                                                  (129)\n",
      "                try:                                                                                                                                    (130)\n",
      "                    text_sig = base.__text_signature__                                                                                                  (131)\n",
      "                                                                                                                                     part No.4 out of 6 parts\n"
     ]
    }
   ],
   "source": [
    "s.printsrcwithidx(part=4)"
   ]
  },
  {
   "cell_type": "markdown",
   "id": "9c692ca9-3615-47d5-a968-9a194fa58679",
   "metadata": {},
   "source": [
    "### Handle more occurances"
   ]
  },
  {
   "cell_type": "code",
   "execution_count": null,
   "id": "344892b1-7ca9-43b2-94bc-85ca31dc2008",
   "metadata": {},
   "outputs": [
    {
     "data": {
      "text/plain": [
       "\u001b[0;31mSignature:\u001b[0m \u001b[0mprintsrc\u001b[0m\u001b[0;34m(\u001b[0m\u001b[0msrc\u001b[0m\u001b[0;34m,\u001b[0m \u001b[0mdbcode\u001b[0m\u001b[0;34m,\u001b[0m \u001b[0mcmt\u001b[0m\u001b[0;34m,\u001b[0m \u001b[0mexpand\u001b[0m\u001b[0;34m:\u001b[0m \u001b[0mint\u001b[0m \u001b[0;34m=\u001b[0m \u001b[0;36m2\u001b[0m\u001b[0;34m)\u001b[0m\u001b[0;34m\u001b[0m\u001b[0;34m\u001b[0m\u001b[0m\n",
       "\u001b[0;31mDocstring:\u001b[0m <no docstring>\n",
       "\u001b[0;31mSource:\u001b[0m   \n",
       "\u001b[0;32mdef\u001b[0m \u001b[0mprintsrc\u001b[0m\u001b[0;34m(\u001b[0m\u001b[0msrc\u001b[0m\u001b[0;34m,\u001b[0m \u001b[0;31m# name of src code such as foo, or delegates\u001b[0m\u001b[0;34m\u001b[0m\n",
       "\u001b[0;34m\u001b[0m             \u001b[0mdbcode\u001b[0m\u001b[0;34m,\u001b[0m \u001b[0;31m# string of codes or int of code idx number\u001b[0m\u001b[0;34m\u001b[0m\n",
       "\u001b[0;34m\u001b[0m             \u001b[0mcmt\u001b[0m\u001b[0;34m,\u001b[0m\u001b[0;34m\u001b[0m\n",
       "\u001b[0;34m\u001b[0m             \u001b[0mexpand\u001b[0m\u001b[0;34m:\u001b[0m\u001b[0mint\u001b[0m\u001b[0;34m=\u001b[0m\u001b[0;36m2\u001b[0m\u001b[0;34m)\u001b[0m\u001b[0;34m:\u001b[0m \u001b[0;31m# expand the codes around the srcline under investigation\u001b[0m\u001b[0;34m\u001b[0m\n",
       "\u001b[0;34m\u001b[0m    \u001b[0;34m\u001b[0m\n",
       "\u001b[0;34m\u001b[0m    \u001b[0mlstsrc\u001b[0m \u001b[0;34m=\u001b[0m \u001b[0minspect\u001b[0m\u001b[0;34m.\u001b[0m\u001b[0mgetsource\u001b[0m\u001b[0;34m(\u001b[0m\u001b[0msrc\u001b[0m\u001b[0;34m)\u001b[0m\u001b[0;34m.\u001b[0m\u001b[0msplit\u001b[0m\u001b[0;34m(\u001b[0m\u001b[0;34m'\\n'\u001b[0m\u001b[0;34m)\u001b[0m\u001b[0;34m\u001b[0m\n",
       "\u001b[0;34m\u001b[0m    \u001b[0;34m\u001b[0m\n",
       "\u001b[0;34m\u001b[0m    \u001b[0mdblines\u001b[0m \u001b[0;34m=\u001b[0m \u001b[0;34m\"\"\u001b[0m\u001b[0;34m\u001b[0m\n",
       "\u001b[0;34m\u001b[0m    \u001b[0;32mif\u001b[0m \u001b[0mtype\u001b[0m\u001b[0;34m(\u001b[0m\u001b[0mdbcode\u001b[0m\u001b[0;34m)\u001b[0m \u001b[0;34m==\u001b[0m \u001b[0mint\u001b[0m\u001b[0;34m:\u001b[0m\u001b[0;34m\u001b[0m\n",
       "\u001b[0;34m\u001b[0m        \u001b[0mdblines\u001b[0m \u001b[0;34m=\u001b[0m \u001b[0mlstsrc\u001b[0m\u001b[0;34m[\u001b[0m\u001b[0mdbcode\u001b[0m\u001b[0;34m]\u001b[0m\u001b[0;34m\u001b[0m\n",
       "\u001b[0;34m\u001b[0m    \u001b[0;32melse\u001b[0m\u001b[0;34m:\u001b[0m\u001b[0;34m\u001b[0m\n",
       "\u001b[0;34m\u001b[0m        \u001b[0mdblines\u001b[0m \u001b[0;34m=\u001b[0m \u001b[0mdbcode\u001b[0m\u001b[0;34m\u001b[0m\n",
       "\u001b[0;34m\u001b[0m        \u001b[0mnumdblines\u001b[0m \u001b[0;34m=\u001b[0m \u001b[0mlist\u001b[0m\u001b[0;34m(\u001b[0m\u001b[0mmap\u001b[0m\u001b[0;34m(\u001b[0m\u001b[0;32mlambda\u001b[0m \u001b[0mx\u001b[0m\u001b[0;34m:\u001b[0m \u001b[0mbool\u001b[0m\u001b[0;34m(\u001b[0m\u001b[0mx\u001b[0m\u001b[0;34m.\u001b[0m\u001b[0mstrip\u001b[0m\u001b[0;34m(\u001b[0m\u001b[0;34m)\u001b[0m\u001b[0;34m)\u001b[0m\u001b[0;34m,\u001b[0m \u001b[0mdblines\u001b[0m\u001b[0;34m.\u001b[0m\u001b[0msplit\u001b[0m\u001b[0;34m(\u001b[0m\u001b[0;34m'\\n'\u001b[0m\u001b[0;34m)\u001b[0m\u001b[0;34m)\u001b[0m\u001b[0;34m)\u001b[0m\u001b[0;34m.\u001b[0m\u001b[0mcount\u001b[0m\u001b[0;34m(\u001b[0m\u001b[0;32mTrue\u001b[0m\u001b[0;34m)\u001b[0m\u001b[0;34m\u001b[0m\n",
       "\u001b[0;34m\u001b[0m    \u001b[0;34m\u001b[0m\n",
       "\u001b[0;34m\u001b[0m    \u001b[0;34m\u001b[0m\n",
       "\u001b[0;34m\u001b[0m    \u001b[0mdblineidx\u001b[0m \u001b[0;34m=\u001b[0m \u001b[0;34m[\u001b[0m\u001b[0;34m]\u001b[0m\u001b[0;34m\u001b[0m\n",
       "\u001b[0;34m\u001b[0m    \u001b[0;32mfor\u001b[0m \u001b[0midx\u001b[0m\u001b[0;34m,\u001b[0m \u001b[0ml\u001b[0m \u001b[0;32min\u001b[0m \u001b[0mzip\u001b[0m\u001b[0;34m(\u001b[0m\u001b[0mrange\u001b[0m\u001b[0;34m(\u001b[0m\u001b[0mlen\u001b[0m\u001b[0;34m(\u001b[0m\u001b[0mlstsrc\u001b[0m\u001b[0;34m)\u001b[0m\u001b[0;34m)\u001b[0m\u001b[0;34m,\u001b[0m \u001b[0mlstsrc\u001b[0m\u001b[0;34m)\u001b[0m\u001b[0;34m:\u001b[0m\u001b[0;34m\u001b[0m\n",
       "\u001b[0;34m\u001b[0m        \u001b[0;32mif\u001b[0m \u001b[0mbool\u001b[0m\u001b[0;34m(\u001b[0m\u001b[0ml\u001b[0m\u001b[0;34m)\u001b[0m \u001b[0;32mand\u001b[0m \u001b[0ml\u001b[0m\u001b[0;34m.\u001b[0m\u001b[0mstrip\u001b[0m\u001b[0;34m(\u001b[0m\u001b[0;34m)\u001b[0m \u001b[0;32min\u001b[0m \u001b[0mdblines\u001b[0m\u001b[0;34m:\u001b[0m\u001b[0;34m\u001b[0m\n",
       "\u001b[0;34m\u001b[0m            \u001b[0mdblineidx\u001b[0m\u001b[0;34m.\u001b[0m\u001b[0mappend\u001b[0m\u001b[0;34m(\u001b[0m\u001b[0midx\u001b[0m\u001b[0;34m)\u001b[0m\u001b[0;34m\u001b[0m\n",
       "\u001b[0;34m\u001b[0m\u001b[0;34m\u001b[0m\n",
       "\u001b[0;34m\u001b[0m    \u001b[0;32mfor\u001b[0m \u001b[0midx\u001b[0m\u001b[0;34m,\u001b[0m \u001b[0ml\u001b[0m \u001b[0;32min\u001b[0m \u001b[0mzip\u001b[0m\u001b[0;34m(\u001b[0m\u001b[0mrange\u001b[0m\u001b[0;34m(\u001b[0m\u001b[0mlen\u001b[0m\u001b[0;34m(\u001b[0m\u001b[0mlstsrc\u001b[0m\u001b[0;34m)\u001b[0m\u001b[0;34m)\u001b[0m\u001b[0;34m,\u001b[0m \u001b[0mlstsrc\u001b[0m\u001b[0;34m)\u001b[0m\u001b[0;34m:\u001b[0m\u001b[0;34m\u001b[0m\n",
       "\u001b[0;34m\u001b[0m        \u001b[0;34m\u001b[0m\n",
       "\u001b[0;34m\u001b[0m        \u001b[0msrcidx\u001b[0m \u001b[0;34m=\u001b[0m \u001b[0mdbcode\u001b[0m \u001b[0;32mif\u001b[0m \u001b[0mtype\u001b[0m\u001b[0;34m(\u001b[0m\u001b[0mdbcode\u001b[0m\u001b[0;34m)\u001b[0m \u001b[0;34m==\u001b[0m \u001b[0mint\u001b[0m \u001b[0;32melse\u001b[0m \u001b[0mdblineidx\u001b[0m\u001b[0;34m[\u001b[0m\u001b[0;36m0\u001b[0m\u001b[0;34m]\u001b[0m\u001b[0;34m\u001b[0m\n",
       "\u001b[0;34m\u001b[0m        \u001b[0;34m\u001b[0m\n",
       "\u001b[0;34m\u001b[0m        \u001b[0;32mif\u001b[0m \u001b[0mbool\u001b[0m\u001b[0;34m(\u001b[0m\u001b[0ml\u001b[0m\u001b[0;34m)\u001b[0m \u001b[0;32mand\u001b[0m \u001b[0ml\u001b[0m\u001b[0;34m.\u001b[0m\u001b[0mstrip\u001b[0m\u001b[0;34m(\u001b[0m\u001b[0;34m)\u001b[0m \u001b[0;32min\u001b[0m \u001b[0mdblines\u001b[0m \u001b[0;32mand\u001b[0m \u001b[0midx\u001b[0m \u001b[0;34m==\u001b[0m \u001b[0msrcidx\u001b[0m\u001b[0;34m:\u001b[0m\u001b[0;34m\u001b[0m\n",
       "\u001b[0;34m\u001b[0m            \u001b[0mprintsrclinewithidx\u001b[0m\u001b[0;34m(\u001b[0m\u001b[0midx\u001b[0m\u001b[0;34m,\u001b[0m \u001b[0ml\u001b[0m\u001b[0;34m,\u001b[0m \u001b[0mfill\u001b[0m\u001b[0;34m=\u001b[0m\u001b[0;34m\"=\"\u001b[0m\u001b[0;34m)\u001b[0m\u001b[0;34m\u001b[0m\n",
       "\u001b[0;34m\u001b[0m\u001b[0;34m\u001b[0m\n",
       "\u001b[0;34m\u001b[0m            \u001b[0;32mif\u001b[0m \u001b[0mbool\u001b[0m\u001b[0;34m(\u001b[0m\u001b[0mcmt\u001b[0m\u001b[0;34m)\u001b[0m\u001b[0;34m:\u001b[0m\u001b[0;34m\u001b[0m\n",
       "\u001b[0;34m\u001b[0m                \u001b[0mcolcmt\u001b[0m \u001b[0;34m=\u001b[0m \u001b[0mcolorize\u001b[0m\u001b[0;34m(\u001b[0m\u001b[0mcmt\u001b[0m\u001b[0;34m,\u001b[0m \u001b[0;34m\"r\"\u001b[0m\u001b[0;34m)\u001b[0m\u001b[0;34m\u001b[0m\n",
       "\u001b[0;34m\u001b[0m                \u001b[0malignright\u001b[0m\u001b[0;34m(\u001b[0m\u001b[0mcolcmt\u001b[0m\u001b[0;34m)\u001b[0m \u001b[0;31m# also print the comment\u001b[0m\u001b[0;34m\u001b[0m\n",
       "\u001b[0;34m\u001b[0m\u001b[0;34m\u001b[0m\n",
       "\u001b[0;34m\u001b[0m        \u001b[0;32mif\u001b[0m \u001b[0midx\u001b[0m \u001b[0;34m>=\u001b[0m \u001b[0msrcidx\u001b[0m \u001b[0;34m-\u001b[0m \u001b[0mexpand\u001b[0m \u001b[0;32mand\u001b[0m \u001b[0midx\u001b[0m \u001b[0;34m<\u001b[0m \u001b[0msrcidx\u001b[0m\u001b[0;34m:\u001b[0m\u001b[0;34m\u001b[0m\n",
       "\u001b[0;34m\u001b[0m            \u001b[0mprintsrclinewithidx\u001b[0m\u001b[0;34m(\u001b[0m\u001b[0midx\u001b[0m\u001b[0;34m,\u001b[0m \u001b[0ml\u001b[0m\u001b[0;34m)\u001b[0m\u001b[0;34m\u001b[0m\n",
       "\u001b[0;34m\u001b[0m        \u001b[0;32melif\u001b[0m \u001b[0midx\u001b[0m \u001b[0;34m<=\u001b[0m \u001b[0msrcidx\u001b[0m \u001b[0;34m+\u001b[0m \u001b[0mexpand\u001b[0m \u001b[0;32mand\u001b[0m \u001b[0midx\u001b[0m \u001b[0;34m>\u001b[0m \u001b[0msrcidx\u001b[0m\u001b[0;34m:\u001b[0m\u001b[0;34m\u001b[0m\n",
       "\u001b[0;34m\u001b[0m            \u001b[0mprintsrclinewithidx\u001b[0m\u001b[0;34m(\u001b[0m\u001b[0midx\u001b[0m\u001b[0;34m,\u001b[0m \u001b[0ml\u001b[0m\u001b[0;34m)\u001b[0m\u001b[0;34m\u001b[0m\u001b[0;34m\u001b[0m\u001b[0m\n",
       "\u001b[0;31mFile:\u001b[0m      ~/Documents/fastdebug/fastdebug/core.py\n",
       "\u001b[0;31mType:\u001b[0m      function\n"
      ]
     },
     "metadata": {},
     "output_type": "display_data"
    }
   ],
   "source": [
    "printsrc??"
   ]
  },
  {
   "cell_type": "code",
   "execution_count": null,
   "id": "758db1d6-463b-4a72-89eb-7dbbf3e75b1d",
   "metadata": {},
   "outputs": [
    {
     "name": "stdout",
     "output_type": "stream",
     "text": [
      "def delegates(to:FunctionType=None, # Delegatee                                                                                                         (0)\n",
      "              keep=False, # Keep `kwargs` in decorated function?                                                                                        (1)\n",
      "              but:list=None): # Exclude these parameters from signature                                                                                 (2)\n",
      "    \"Decorator: replace `**kwargs` in signature with params from `to`\"                                                                                  (3)\n",
      "    if but is None: but = []                                                                                                                            (4)\n",
      "    def _f(f):                                                                                                                                          (5)\n",
      "        if to is None: to_f,from_f = f.__base__.__init__,f.__init__                                                                                     (6)\n",
      "        else:          to_f,from_f = to.__init__ if isinstance(to,type) else to,f                                                                       (7)\n",
      "        from_f = getattr(from_f,'__func__',from_f)                                                                                                      (8)\n",
      "        to_f = getattr(to_f,'__func__',to_f)                                                                                                            (9)\n",
      "        if hasattr(from_f,'__delwrap__'): return f                                                                                                      (10)\n",
      "        sig = inspect.signature(from_f)                                                                                                                 (11)\n",
      "        sigd = dict(sig.parameters)                                                                                                                     (12)\n",
      "        k = sigd.pop('kwargs')                                                                                                                          (13)\n",
      "        s2 = {k:v.replace(kind=inspect.Parameter.KEYWORD_ONLY) for k,v in inspect.signature(to_f).parameters.items()                                    (14)\n",
      "              if v.default != inspect.Parameter.empty and k not in sigd and k not in but}                                                               (15)\n",
      "        anno = {k:v for k,v in to_f.__annotations__.items() if k not in sigd and k not in but}                                                          (16)\n",
      "        sigd.update(s2)                                                                                                                                 (17)\n",
      "        if keep: sigd['kwargs'] = k                                                                                                                     (18)\n",
      "        else: from_f.__delwrap__ = to_f                                                                                                                 (19)\n",
      "        from_f.__signature__ = sig.replace(parameters=sigd.values())                                                                                    (20)\n",
      "        if hasattr(from_f, '__annotations__'): from_f.__annotations__.update(anno)                                                                      (21)\n",
      "        return f                                                                                                                                        (22)\n",
      "    return _f                                                                                                                                           (23)\n",
      "                                                                                                                                                        (24)\n"
     ]
    }
   ],
   "source": [
    "from fastcore.meta import delegates\n",
    "printsrcwithidx(delegates)"
   ]
  },
  {
   "cell_type": "code",
   "execution_count": null,
   "id": "942c1020-fdfd-4f55-89ea-ce0f33dcfc46",
   "metadata": {},
   "outputs": [
    {
     "data": {
      "text/plain": [
       "0"
      ]
     },
     "execution_count": null,
     "metadata": {},
     "output_type": "execute_result"
    }
   ],
   "source": [
    "10 // 33"
   ]
  },
  {
   "cell_type": "markdown",
   "id": "21dc052b-a49a-45c7-8409-f8df6db9418b",
   "metadata": {},
   "source": [
    "### Another example with a different object instance of Fastdebug"
   ]
  },
  {
   "cell_type": "code",
   "execution_count": null,
   "id": "8f5296c1-2c47-41cb-b804-098ddc073ee7",
   "metadata": {},
   "outputs": [],
   "source": [
    "from fastcore.imports import *"
   ]
  },
  {
   "cell_type": "code",
   "execution_count": null,
   "id": "ef45e3ed-515e-4c97-837a-3dc97f6979c9",
   "metadata": {},
   "outputs": [],
   "source": [
    "g = globals()"
   ]
  },
  {
   "cell_type": "code",
   "execution_count": null,
   "id": "a1f8745e-09f6-46fe-a6ec-9b4603756067",
   "metadata": {},
   "outputs": [],
   "source": [
    "s1 = Fastdb(delegates, g)"
   ]
  },
  {
   "cell_type": "code",
   "execution_count": null,
   "id": "2771e6b6-5503-4ecd-b2aa-3fdec3ce102e",
   "metadata": {},
   "outputs": [
    {
     "name": "stdout",
     "output_type": "stream",
     "text": [
      "def delegates(to:FunctionType=None, # Delegatee                                                                                                         (0)\n",
      "              keep=False, # Keep `kwargs` in decorated function?                                                                                        (1)\n",
      "              but:list=None): # Exclude these parameters from signature                                                                                 (2)\n",
      "    \"Decorator: replace `**kwargs` in signature with params from `to`\"                                                                                  (3)\n",
      "    if but is None: but = []                                                                                                                            (4)\n",
      "    def _f(f):                                                                                                                                          (5)\n",
      "        if to is None: to_f,from_f = f.__base__.__init__,f.__init__                                                                                     (6)\n",
      "        else:          to_f,from_f = to.__init__ if isinstance(to,type) else to,f                                                                       (7)\n",
      "        from_f = getattr(from_f,'__func__',from_f)                                                                                                      (8)\n",
      "        to_f = getattr(to_f,'__func__',to_f)                                                                                                            (9)\n",
      "        if hasattr(from_f,'__delwrap__'): return f                                                                                                      (10)\n",
      "        sig = inspect.signature(from_f)                                                                                                                 (11)\n",
      "        sigd = dict(sig.parameters)                                                                                                                     (12)\n",
      "        k = sigd.pop('kwargs')                                                                                                                          (13)\n",
      "        s2 = {k:v.replace(kind=inspect.Parameter.KEYWORD_ONLY) for k,v in inspect.signature(to_f).parameters.items()                                    (14)\n",
      "              if v.default != inspect.Parameter.empty and k not in sigd and k not in but}                                                               (15)\n",
      "        anno = {k:v for k,v in to_f.__annotations__.items() if k not in sigd and k not in but}                                                          (16)\n",
      "        sigd.update(s2)                                                                                                                                 (17)\n",
      "        if keep: sigd['kwargs'] = k                                                                                                                     (18)\n",
      "        else: from_f.__delwrap__ = to_f                                                                                                                 (19)\n",
      "        from_f.__signature__ = sig.replace(parameters=sigd.values())                                                                                    (20)\n",
      "        if hasattr(from_f, '__annotations__'): from_f.__annotations__.update(anno)                                                                      (21)\n",
      "        return f                                                                                                                                        (22)\n",
      "    return _f                                                                                                                                           (23)\n",
      "                                                                                                                                                        (24)\n"
     ]
    }
   ],
   "source": [
    "s1.printsrcwithidx()"
   ]
  },
  {
   "cell_type": "code",
   "execution_count": null,
   "id": "76c17b70-b4c3-4949-9307-b36f18a7144d",
   "metadata": {},
   "outputs": [],
   "source": [
    "def low(a, b=1): pass"
   ]
  },
  {
   "cell_type": "code",
   "execution_count": null,
   "id": "d8514e15-85de-4dbc-bda2-9046c68bde89",
   "metadata": {},
   "outputs": [
    {
     "name": "stdout",
     "output_type": "stream",
     "text": [
      "    \"Decorator: replace `**kwargs` in signature with params from `to`\"                                                                                  (3)\n",
      "    if but is None: but = []                                                                                                                            (4)\n",
      "    def _f(f):==========================================================================================================================================(5)\n",
      "                                                                                                                                         \u001b[91mbefore if ot is None\u001b[0m\n",
      "        if to is None: to_f,from_f = f.__base__.__init__,f.__init__                                                                                     (6)\n",
      "        else:          to_f,from_f = to.__init__ if isinstance(to,type) else to,f                                                                       (7)\n",
      "\n",
      "\n",
      "                                                                                                                     to => to : <function low>\n",
      "\n",
      "\n",
      "                                                                                                                             to is None => to is None : False\n"
     ]
    },
    {
     "data": {
      "text/plain": [
       "<function __main__.delegates.<locals>._f(f)>"
      ]
     },
     "execution_count": null,
     "metadata": {},
     "output_type": "execute_result"
    }
   ],
   "source": [
    "s1.dbprint(5, \"before if ot is None\", \"to\", \"to is None\")\n",
    "\n",
    "delegates(low)"
   ]
  },
  {
   "cell_type": "code",
   "execution_count": null,
   "id": "2d730172-c987-49f7-a37b-25a1e32054c5",
   "metadata": {},
   "outputs": [],
   "source": []
  }
 ],
 "metadata": {
  "kernelspec": {
   "display_name": "Python 3 (ipykernel)",
   "language": "python",
   "name": "python3"
  }
 },
 "nbformat": 4,
 "nbformat_minor": 5
}
