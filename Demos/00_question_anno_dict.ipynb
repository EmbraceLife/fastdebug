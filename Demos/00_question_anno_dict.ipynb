{
 "cells": [
  {
   "cell_type": "markdown",
   "id": "a695c70a",
   "metadata": {},
   "source": [
    "# anno_dict, a possible issue there?"
   ]
  },
  {
   "cell_type": "code",
   "execution_count": null,
   "id": "c2586604",
   "metadata": {},
   "outputs": [],
   "source": [
    "from fastcore.meta import *\n",
    "from fastcore.test import *\n",
    "import inspect"
   ]
  },
  {
   "cell_type": "markdown",
   "id": "9b32dffe",
   "metadata": {},
   "source": [
    "## `anno_dict` docs"
   ]
  },
  {
   "cell_type": "code",
   "execution_count": null,
   "id": "f48bca77",
   "metadata": {},
   "outputs": [
    {
     "data": {
      "text/plain": [
       "\"`__annotation__ dictionary with `empty` cast to `None`, returning empty if doesn't exist\""
      ]
     },
     "execution_count": null,
     "metadata": {},
     "output_type": "execute_result"
    }
   ],
   "source": [
    "inspect.getdoc(anno_dict)"
   ]
  },
  {
   "cell_type": "markdown",
   "id": "9b363d0d",
   "metadata": {},
   "source": [
    "I have to confess I don't undersatnd the docs statement very well. So, I look into the source code of `anno_dict` and `empty2none`."
   ]
  },
  {
   "cell_type": "code",
   "execution_count": null,
   "id": "1bee3dab",
   "metadata": {},
   "outputs": [
    {
     "name": "stdout",
     "output_type": "stream",
     "text": [
      "def anno_dict(f):\n",
      "    \"`__annotation__ dictionary with `empty` cast to `None`, returning empty if doesn't exist\"\n",
      "    return {k:empty2none(v) for k,v in getattr(f, '__annotations__', {}).items()}\n",
      "\n"
     ]
    }
   ],
   "source": [
    "print(inspect.getsource(anno_dict))"
   ]
  },
  {
   "cell_type": "code",
   "execution_count": null,
   "id": "6e5ae9ea",
   "metadata": {},
   "outputs": [
    {
     "name": "stdout",
     "output_type": "stream",
     "text": [
      "def empty2none(p):\n",
      "    \"Replace `Parameter.empty` with `None`\"\n",
      "    return None if p==inspect.Parameter.empty else p\n",
      "\n"
     ]
    }
   ],
   "source": [
    "print(inspect.getsource(empty2none))"
   ]
  },
  {
   "cell_type": "markdown",
   "id": "dea3078b",
   "metadata": {},
   "source": [
    "## Dive in"
   ]
  },
  {
   "cell_type": "markdown",
   "id": "191664ac",
   "metadata": {},
   "source": [
    "If a parameter's default value is `Parameter.empty`, then `empty2none` is to replace `Parameter.empty` with `None` . So, I think it is reasonable to assume `p` is primarily used as a parameter's default value. The cell below supports this assumption."
   ]
  },
  {
   "cell_type": "code",
   "execution_count": null,
   "id": "9ce0682c",
   "metadata": {},
   "outputs": [
    {
     "name": "stdout",
     "output_type": "stream",
     "text": [
      "a is a parameter a, whose default value is <class 'inspect._empty'>, if apply empty2none to default value, then the default value is None\n",
      "a is a parameter a, whose default value is <class 'inspect._empty'>, if apply empty2none to parameter, then we get: a\n",
      "b is a parameter b: int = 1, whose default value is 1, if apply empty2none to default value, then the default value is 1\n",
      "b is a parameter b: int = 1, whose default value is 1, if apply empty2none to parameter, then we get: b: int = 1\n"
     ]
    }
   ],
   "source": [
    "def foo(a, b:int=1): pass\n",
    "sig = inspect.signature(foo)\n",
    "for k,v in sig.parameters.items():\n",
    "    print(f'{k} is a parameter {v}, whose default value is {v.default}, \\\n",
    "if apply empty2none to default value, then the default value is {empty2none(v.default)}')\n",
    "    print(f'{k} is a parameter {v}, whose default value is {v.default}, \\\n",
    "if apply empty2none to parameter, then we get: {empty2none(v)}')"
   ]
  },
  {
   "cell_type": "markdown",
   "id": "84377691",
   "metadata": {},
   "source": [
    "So, **what is odd** is that in `anno_dict`, `empty2none` is applied to `v` which is not parameter's default value, but mostly classes like `int`, `list` ect, as in `__annotations__`.\n",
    "\n",
    "Then I experimented the section below and didn't find `anno_dict` doing anything new than `__annotations__`. \n",
    "\n"
   ]
  },
  {
   "cell_type": "markdown",
   "id": "2c2cb1b6",
   "metadata": {},
   "source": [
    "## `anno_dict` seems not add anything new to `__annotations__`"
   ]
  },
  {
   "cell_type": "code",
   "execution_count": null,
   "id": "772ac744",
   "metadata": {},
   "outputs": [],
   "source": [
    "def foo(a, b:int=1): pass\n",
    "test_eq(foo.__annotations__, {'b': int})\n",
    "test_eq(anno_dict(foo), {'b': int})\n",
    "def foo(a:bool, b:int=1): pass\n",
    "test_eq(foo.__annotations__, {'a': bool, 'b': int})\n",
    "test_eq(anno_dict(foo), {'a': bool, 'b': int})\n",
    "def foo(a, d:list, b:int=1, c:bool=True): pass\n",
    "test_eq(foo.__annotations__, {'d': list, 'b': int, 'c': bool})\n",
    "test_eq(anno_dict(foo), {'d': list, 'b': int, 'c': bool})"
   ]
  },
  {
   "cell_type": "code",
   "execution_count": null,
   "id": "4607e910",
   "metadata": {},
   "outputs": [],
   "source": [
    "from fastcore.foundation import L"
   ]
  },
  {
   "cell_type": "code",
   "execution_count": null,
   "id": "e93d6dce",
   "metadata": {},
   "outputs": [],
   "source": [
    "def foo(a, b): pass\n",
    "test_eq(foo.__annotations__, {})\n",
    "test_eq(anno_dict(foo), {})\n",
    "\n",
    "def _f(a:int, b:L)->str: ...\n",
    "test_eq(_f.__annotations__, {'a': int, 'b': L, 'return': str})\n",
    "test_eq(anno_dict(_f), {'a': int, 'b': L, 'return': str})"
   ]
  },
  {
   "cell_type": "markdown",
   "id": "7cea2532",
   "metadata": {},
   "source": [
    "**Question!** so far above anno_dict has done nothing new or more, so what am I missing here?"
   ]
  },
  {
   "cell_type": "markdown",
   "id": "0daec8c9",
   "metadata": {},
   "source": [
    "## use fastdebug to double check"
   ]
  },
  {
   "cell_type": "code",
   "execution_count": null,
   "id": "0bf335ea",
   "metadata": {},
   "outputs": [
    {
     "data": {
      "text/html": [
       "<style>.container { width:100% !important; }</style>"
      ],
      "text/plain": [
       "<IPython.core.display.HTML object>"
      ]
     },
     "metadata": {},
     "output_type": "display_data"
    }
   ],
   "source": [
    "from fastdebug.utils import *\n",
    "from fastdebug.core import *\n",
    "from fastcore.meta import *"
   ]
  },
  {
   "cell_type": "code",
   "execution_count": null,
   "id": "47d59a25",
   "metadata": {},
   "outputs": [],
   "source": [
    "fdb = Fastdb(anno_dict)\n",
    "fdb.eg = \"\"\"\n",
    "def foo(a, b): pass\n",
    "test_eq(foo.__annotations__, {})\n",
    "test_eq(anno_dict(foo), {})\n",
    "\n",
    "from fastcore.foundation import L\n",
    "def _f(a:int, b:L)->str: ...\n",
    "test_eq(_f.__annotations__, {'a': int, 'b': L, 'return': str})\n",
    "test_eq(anno_dict(_f), {'a': int, 'b': L, 'return': str})\n",
    "\"\"\""
   ]
  },
  {
   "cell_type": "code",
   "execution_count": null,
   "id": "c4c48554",
   "metadata": {},
   "outputs": [
    {
     "name": "stderr",
     "output_type": "stream",
     "text": [
      "15:00:08.27 >>> Call to anno_dict in File \"/tmp/anno_dict.py\", line 3\n",
      "15:00:08.27 ...... f = <function foo>\n",
      "15:00:08.27    3 | def anno_dict(f):\n",
      "15:00:08.27    5 |     return {k:empty2none(v) for k,v in getattr(f, '__annotations__', {}).items()}\n",
      "    15:00:08.27 Dict comprehension:\n",
      "    15:00:08.27    5 |     return {k:empty2none(v) for k,v in getattr(f, '__annotations__', {}).items()}\n",
      "    15:00:08.27 .......... Iterating over <dict_itemiterator object>\n",
      "    15:00:08.27 Result: {}\n",
      "15:00:08.27    5 |     return {k:empty2none(v) for k,v in getattr(f, '__annotations__', {}).items()}\n",
      "15:00:08.27 <<< Return value from anno_dict: {}\n",
      "15:00:08.27 >>> Call to anno_dict in File \"/tmp/anno_dict.py\", line 3\n",
      "15:00:08.27 ...... f = <function _f>\n",
      "15:00:08.27    3 | def anno_dict(f):\n",
      "15:00:08.27    5 |     return {k:empty2none(v) for k,v in getattr(f, '__annotations__', {}).items()}\n",
      "    15:00:08.27 Dict comprehension:\n",
      "    15:00:08.27    5 |     return {k:empty2none(v) for k,v in getattr(f, '__annotations__', {}).items()}\n",
      "    15:00:08.27 .......... Iterating over <dict_itemiterator object>\n",
      "    15:00:08.27 .......... Values of k: 'a', 'b', 'return'\n",
      "    15:00:08.27 .......... Values of v: <class 'int'>, <class 'fastcore.foundation.L'>, <class 'str'>\n",
      "    15:00:08.27 .......... Values of empty2none(v): <class 'int'>, <class 'fastcore.foundation.L'>, <class 'str'>\n",
      "    15:00:08.27 Result: {'a': <class 'int'>, 'b': <class 'fastcore.foundation.L'>, 'return': <class 'str'>}\n",
      "15:00:08.27    5 |     return {k:empty2none(v) for k,v in getattr(f, '__annotations__', {}).items()}\n",
      "15:00:08.27 <<< Return value from anno_dict: {'a': <class 'int'>, 'b': <class 'fastcore.foundation.L'>, 'return': <class 'str'>}\n"
     ]
    },
    {
     "name": "stdout",
     "output_type": "stream",
     "text": [
      "========================================================     Investigating \u001b[91;1manno_dict\u001b[0m     =========================================================\n",
      "==============================================================     on line \u001b[91;1mNone\u001b[0m     ==============================================================\n",
      "     with example \u001b[91;1m\n",
      "def foo(a, b): pass\n",
      "test_eq(foo.__annotations__, {})\n",
      "test_eq(anno_dict(foo), {})\n",
      "\n",
      "from fastcore.foundation import L\n",
      "def _f(a:int, b:L)->str: ...\n",
      "test_eq(_f.__annotations__, {'a': int, 'b': L, 'return': str})\n",
      "test_eq(anno_dict(_f), {'a': int, 'b': L, 'return': str})\n",
      "\u001b[0m     \n",
      "\n"
     ]
    }
   ],
   "source": [
    "fdb.snoop(['empty2none(v)'])"
   ]
  },
  {
   "cell_type": "code",
   "execution_count": null,
   "id": "e36fa931",
   "metadata": {},
   "outputs": [
    {
     "name": "stdout",
     "output_type": "stream",
     "text": [
      "========================================================     Investigating \u001b[91;1manno_dict\u001b[0m     =========================================================\n",
      "===============================================================     on line \u001b[91;1m1\u001b[0m     ================================================================\n",
      "     with example \u001b[91;1m\n",
      "def foo(a, b): pass\n",
      "test_eq(foo.__annotations__, {})\n",
      "test_eq(anno_dict(foo), {})\n",
      "\n",
      "from fastcore.foundation import L\n",
      "def _f(a:int, b:L)->str: ...\n",
      "test_eq(_f.__annotations__, {'a': int, 'b': L, 'return': str})\n",
      "test_eq(anno_dict(_f), {'a': int, 'b': L, 'return': str})\n",
      "\u001b[0m     \n",
      "\n",
      "\u001b[93;1mprint selected srcline with expands below\u001b[0m--------\n",
      "def anno_dict(f):                                                                                                                                       (0)\n",
      "    \"`__annotation__ dictionary with `empty` cast to `None`, returning empty if doesn't exist\"==========================================================(1)\n",
      "\u001b[91;1mempty2none works on paramter.default especially when the default is Parameter.empty; anno_dict works on the types of params, not the value of params; so it is odd to use empty2none in anno_dict;\u001b[0m\n",
      "    return {k:empty2none(v) for k,v in getattr(f, '__annotations__', {}).items()}                                                                       (2)\n",
      "                                                                                                                                                        (3)\n",
      "\n",
      "\u001b[93;1mReview srcode with all comments added so far\u001b[0m======================================================================================================\n",
      "def anno_dict(f):=========================================================================(0)       \n",
      "    \"`__annotation__ dictionary with `empty` cast to `None`, returning empty if doesn't exist\" # \u001b[36;1mempty2none works on paramter.default especially when the default is Parameter.empty\u001b[0m; \u001b[34;1manno_dict works on the types of params, not the value of params\u001b[0m; \u001b[37;1mso it is odd to use empty2none in anno_dict;\u001b[0m;  (1)\n",
      "    return {k:empty2none(v) for k,v in getattr(f, '__annotations__', {}).items()}=========(2)       \n",
      "                                                                                                                                                        (3)\n",
      "                                                                                                                                     part No.1 out of 1 parts\n",
      "\n"
     ]
    }
   ],
   "source": [
    "fdb.docsrc(1, \"empty2none works on paramter.default especially when the default is Parameter.empty; anno_dict works on the types \\\n",
    "of params, not the value of params; so it is odd to use empty2none in anno_dict;\")"
   ]
  },
  {
   "cell_type": "code",
   "execution_count": null,
   "id": "21f91c49",
   "metadata": {},
   "outputs": [
    {
     "name": "stdout",
     "output_type": "stream",
     "text": [
      "========================================================     Investigating \u001b[91;1manno_dict\u001b[0m     =========================================================\n",
      "===============================================================     on line \u001b[91;1m1\u001b[0m     ================================================================\n",
      "     with example \u001b[91;1m\n",
      "def foo(a, b): pass\n",
      "test_eq(foo.__annotations__, {})\n",
      "test_eq(anno_dict(foo), {})\n",
      "\n",
      "from fastcore.foundation import L\n",
      "def _f(a:int, b:L)->str: ...\n",
      "test_eq(_f.__annotations__, {'a': int, 'b': L, 'return': str})\n",
      "test_eq(anno_dict(_f), {'a': int, 'b': L, 'return': str})\n",
      "\u001b[0m     \n",
      "\n",
      "def anno_dict(f):=========================================================================(0)       \n",
      "    \"`__annotation__ dictionary with `empty` cast to `None`, returning empty if doesn't exist\" # \u001b[92;1mempty2none works on paramter.default especially when the default is Parameter.empty\u001b[0m; \u001b[91;1manno_dict works on the types of params, not the value of params\u001b[0m; \u001b[37;1mso it is odd to use empty2none in anno_dict;\u001b[0m;  (1)\n",
      "    return {k:empty2none(v) for k,v in getattr(f, '__annotations__', {}).items()}=========(2)       \n",
      "                                                                                                                                                        (3)\n"
     ]
    }
   ],
   "source": [
    "fdb.print()"
   ]
  },
  {
   "cell_type": "markdown",
   "id": "84934851",
   "metadata": {},
   "source": [
    "## Does fastcore want anno_dict to include params with no annos?"
   ]
  },
  {
   "cell_type": "markdown",
   "id": "45da516b",
   "metadata": {},
   "source": [
    "If so, I have written a lengthy `anno_dict_maybe` to do it. (can be shorter if needed)"
   ]
  },
  {
   "cell_type": "code",
   "execution_count": null,
   "id": "d7b01ca0",
   "metadata": {},
   "outputs": [],
   "source": [
    "def anno_dict_maybe(f):\n",
    "    \"`__annotation__ dictionary with `empty` cast to `None`, returning empty if doesn't exist\"\n",
    "    new_anno = {}\n",
    "    for k, v in inspect.signature(f).parameters.items():\n",
    "        if k not in f.__annotations__:\n",
    "            new_anno[k] = None\n",
    "        else: \n",
    "            new_anno[k] = f.__annotations__[k]\n",
    "    if 'return' in f.__annotations__:\n",
    "        new_anno['return'] = f.__annotations__['return']\n",
    "    if hasattr(f, '__annotations__'):\n",
    "        return new_anno\n",
    "    else:\n",
    "        return {}"
   ]
  },
  {
   "cell_type": "code",
   "execution_count": null,
   "id": "8e5098d6",
   "metadata": {},
   "outputs": [],
   "source": [
    "def foo(a:int, b, c:bool=True)->str: pass"
   ]
  },
  {
   "cell_type": "code",
   "execution_count": null,
   "id": "c9b7c9fd",
   "metadata": {},
   "outputs": [],
   "source": [
    "test_eq(foo.__annotations__, {'a': int, 'c': bool, 'return': str})"
   ]
  },
  {
   "cell_type": "code",
   "execution_count": null,
   "id": "772a77f7",
   "metadata": {},
   "outputs": [],
   "source": [
    "test_eq(anno_dict(foo), {'a': int, 'c': bool, 'return': str})"
   ]
  },
  {
   "cell_type": "code",
   "execution_count": null,
   "id": "722640dc",
   "metadata": {},
   "outputs": [],
   "source": [
    "test_eq(anno_dict_maybe(foo), {'a': int, 'b': None, 'c': bool, 'return': str})"
   ]
  },
  {
   "cell_type": "code",
   "execution_count": null,
   "id": "814633b1",
   "metadata": {},
   "outputs": [],
   "source": [
    "def foo(a, b, c): pass"
   ]
  },
  {
   "cell_type": "code",
   "execution_count": null,
   "id": "7802b7bb",
   "metadata": {},
   "outputs": [],
   "source": [
    "test_eq(foo.__annotations__, {})"
   ]
  },
  {
   "cell_type": "code",
   "execution_count": null,
   "id": "9a3cd2d6",
   "metadata": {},
   "outputs": [],
   "source": [
    "test_eq(anno_dict(foo), {})"
   ]
  },
  {
   "cell_type": "code",
   "execution_count": null,
   "id": "453ef45c",
   "metadata": {},
   "outputs": [],
   "source": [
    "test_eq(anno_dict_maybe(foo), {})"
   ]
  },
  {
   "cell_type": "markdown",
   "id": "e8024bb6",
   "metadata": {},
   "source": [
    "## Jeremy's response"
   ]
  },
  {
   "cell_type": "markdown",
   "id": "9dc9d328",
   "metadata": {},
   "source": [
    "A supportive and confirmative [response](https://forums.fast.ai/t/help-reading-fastcore-docs/100168/3?u=daniel) from Jeremy on this issue"
   ]
  },
  {
   "cell_type": "code",
   "execution_count": null,
   "id": "a55a64a1",
   "metadata": {},
   "outputs": [],
   "source": []
  }
 ],
 "metadata": {
  "kernelspec": {
   "display_name": "Python 3 (ipykernel)",
   "language": "python",
   "name": "python3"
  }
 },
 "nbformat": 4,
 "nbformat_minor": 5
}
