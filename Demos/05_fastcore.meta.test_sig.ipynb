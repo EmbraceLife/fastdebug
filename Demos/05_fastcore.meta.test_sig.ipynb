{
 "cells": [
  {
   "cell_type": "code",
   "execution_count": null,
   "id": "d8063441",
   "metadata": {},
   "outputs": [
    {
     "data": {
      "text/html": [
       "<style>.container { width:100% !important; }</style>"
      ],
      "text/plain": [
       "<IPython.core.display.HTML object>"
      ]
     },
     "metadata": {},
     "output_type": "display_data"
    }
   ],
   "source": [
    "from fastdebug.utils import *\n",
    "from fastdebug.core import *"
   ]
  },
  {
   "cell_type": "code",
   "execution_count": null,
   "id": "16b70f00",
   "metadata": {},
   "outputs": [],
   "source": [
    "from fastcore.meta import *\n",
    "import fastcore.meta as fm"
   ]
  },
  {
   "cell_type": "code",
   "execution_count": null,
   "id": "e6a9cf10",
   "metadata": {},
   "outputs": [
    {
     "name": "stdout",
     "output_type": "stream",
     "text": [
      "fastcore.meta has: \n",
      "13 items in its __all__, and \n",
      "43 user defined functions, \n",
      "19 classes or class objects, \n",
      "2 builtin funcs and methods, and\n",
      "74 callables.\n",
      "\n",
      "['test_sig',\n",
      " 'FixSigMeta',\n",
      " 'PrePostInitMeta',\n",
      " 'AutoInit',\n",
      " 'NewChkMeta',\n",
      " 'BypassNewMeta',\n",
      " 'empty2none',\n",
      " 'anno_dict',\n",
      " 'use_kwargs_dict',\n",
      " 'use_kwargs',\n",
      " 'delegates',\n",
      " 'method',\n",
      " 'funcs_kwargs']\n"
     ]
    }
   ],
   "source": [
    "whatinside(fm, dun=True)"
   ]
  },
  {
   "cell_type": "code",
   "execution_count": null,
   "id": "f8200d4b",
   "metadata": {},
   "outputs": [],
   "source": [
    "g = locals()\n",
    "fdb = Fastdb(test_sig, outloc=g)"
   ]
  },
  {
   "cell_type": "code",
   "execution_count": null,
   "id": "cc95d1db",
   "metadata": {},
   "outputs": [
    {
     "name": "stdout",
     "output_type": "stream",
     "text": [
      "=========================================================     Investigating \u001b[91;1mtest_sig\u001b[0m     =========================================================\n",
      "==============================================================     on line \u001b[91;1mNone\u001b[0m     ==============================================================\n",
      "=============================================================     with example \u001b[91;1m\u001b[0m     ==============================================================\n",
      "\n",
      "def test_sig(f, b):=======================================================================(0)       \n",
      "    \"Test the signature of an object\"=====================================================(1)       \n",
      "    test_eq(str(inspect.signature(f)), b)=================================================(2)       \n",
      "                                                                                                                                                        (3)\n"
     ]
    }
   ],
   "source": [
    "fdb.print()"
   ]
  },
  {
   "cell_type": "code",
   "execution_count": null,
   "id": "3b2db1dd",
   "metadata": {},
   "outputs": [],
   "source": [
    "fdb.eg = \"\"\"\n",
    "def func_1(h,i,j): pass\n",
    "test_sig(func_1, '(h, i, j)')\n",
    "\"\"\"\n",
    "\n",
    "fdb.eg = \"\"\"\n",
    "class T:\n",
    "    def __init__(self, a, b): pass\n",
    "test_sig(T, '(a, b)')\n",
    "\"\"\"\n",
    "fdb.eg = \"\"\"\n",
    "def func_2(h,i=3, j=[5,6]): pass\n",
    "test_sig(func_2, '(h, i=3, j=[5, 6])')\n",
    "\"\"\""
   ]
  },
  {
   "cell_type": "code",
   "execution_count": null,
   "id": "e0301086",
   "metadata": {},
   "outputs": [
    {
     "name": "stdout",
     "output_type": "stream",
     "text": [
      "=========================================================     Investigating \u001b[91;1mtest_sig\u001b[0m     =========================================================\n",
      "===============================================================     on line \u001b[91;1m2\u001b[0m     ================================================================\n",
      "=========================     with example \u001b[91;1m\n",
      "def func_2(h,i=3, j=[5,6]): pass\n",
      "test_sig(func_2, '(h, i=3, j=[5, 6])')\n",
      "\u001b[0m     =========================\n",
      "\n",
      "\u001b[93;1mprint selected srcline with expands below\u001b[0m--------\n",
      "def test_sig(f, b):                                                                                                                                     (0)\n",
      "    \"Test the signature of an object\"                                                                                                                   (1)\n",
      "    test_eq(str(inspect.signature(f)), b)===============================================================================================================(2)\n",
      "                                                                         \u001b[91;1mtest_sig is to test two strings with test_eq; how to turn a signature into a string;\u001b[0m\n",
      "                                                                                                                                                        (3)\n",
      "\n",
      "==================================================================================================================\u001b[91;1mStart of my srcline exploration:\u001b[0m\n",
      "\n",
      "\n",
      "<Signature (h, i=3, j=[5, 6])>\n",
      "                                                                                          pprint(inspect.signature(f)) => pprint(inspect.signature(f)) : None\n",
      "\n",
      "\n",
      "                                                                                            inspect.signature(f) => inspect.signature(f) : (h, i=3, j=[5, 6])\n",
      "\n",
      "\n",
      "                                                                                  str(inspect.signature(f)) => str(inspect.signature(f)) : (h, i=3, j=[5, 6])\n",
      "====================================================================================================================\u001b[91;1mEnd of my srcline exploration:\u001b[0m\n",
      "\n",
      "\n",
      "\u001b[93;1mReview srcode with all comments added so far\u001b[0m======================================================================================================\n",
      "def test_sig(f, b):=======================================================================(0)       \n",
      "    \"Test the signature of an object\"=====================================================(1)       \n",
      "    test_eq(str(inspect.signature(f)), b)=================================================(2) # \u001b[36;1mtest_sig is to test two strings with test_eq\u001b[0m; \u001b[93;1mhow to turn a signature into a string;\u001b[0m; \n",
      "                                                                                                                                                        (3)\n",
      "                                                                                                                                     part No.1 out of 1 parts\n",
      "\n"
     ]
    }
   ],
   "source": [
    "fdb.docsrc(2, \"test_sig is to test two strings with test_eq; how to turn a signature into a string;\", \"pprint(inspect.signature(f))\", \\\n",
    "\"inspect.signature(f)\", \"str(inspect.signature(f))\")"
   ]
  },
  {
   "cell_type": "code",
   "execution_count": null,
   "id": "b5495e5d",
   "metadata": {},
   "outputs": [
    {
     "name": "stderr",
     "output_type": "stream",
     "text": [
      "06:44:40.29 >>> Call to test_sig in File \"/tmp/test_sig.py\", line 3\n",
      "06:44:40.29 ...... f = <function func_2>\n",
      "06:44:40.29 ...... b = '(h, i=3, j=[5, 6])'\n",
      "06:44:40.29    3 | def test_sig(f, b):\n",
      "06:44:40.29    5 |     test_eq(str(inspect.signature(f)), b)\n",
      "06:44:40.29 <<< Return value from test_sig: None\n"
     ]
    },
    {
     "name": "stdout",
     "output_type": "stream",
     "text": [
      "=========================================================     Investigating \u001b[91;1mtest_sig\u001b[0m     =========================================================\n",
      "==============================================================     on line \u001b[91;1mNone\u001b[0m     ==============================================================\n",
      "=========================     with example \u001b[91;1m\n",
      "def func_2(h,i=3, j=[5,6]): pass\n",
      "test_sig(func_2, '(h, i=3, j=[5, 6])')\n",
      "\u001b[0m     =========================\n",
      "\n"
     ]
    }
   ],
   "source": [
    "fdb.snoop()"
   ]
  },
  {
   "cell_type": "code",
   "execution_count": null,
   "id": "3fd86063",
   "metadata": {},
   "outputs": [
    {
     "name": "stdout",
     "output_type": "stream",
     "text": [
      "=========================================================     Investigating \u001b[91;1mtest_sig\u001b[0m     =========================================================\n",
      "===============================================================     on line \u001b[91;1m1\u001b[0m     ================================================================\n",
      "=========================     with example \u001b[91;1m\n",
      "def func_2(h,i=3, j=[5,6]): pass\n",
      "test_sig(func_2, '(h, i=3, j=[5, 6])')\n",
      "\u001b[0m     =========================\n",
      "\n",
      "\u001b[93;1mprint selected srcline with expands below\u001b[0m--------\n",
      "def test_sig(f, b):                                                                                                                                     (0)\n",
      "    \"Test the signature of an object\"===================================================================================================================(1)\n",
      "\u001b[91;1mtest_sig(f:FunctionType or ClassType, b:str); test_sig will get f's signature as a string; b is a signature in string provided by the user; in fact, test_sig is to compare two strings\u001b[0m\n",
      "    test_eq(str(inspect.signature(f)), b)                                                                                                               (2)\n",
      "                                                                                                                                                        (3)\n",
      "\n",
      "\u001b[93;1mReview srcode with all comments added so far\u001b[0m======================================================================================================\n",
      "def test_sig(f, b):=======================================================================(0)       \n",
      "    \"Test the signature of an object\"=====================================================(1) # \u001b[34;1mtest_sig(f:FunctionType or ClassType, b:str)\u001b[0m; \u001b[35;1mtest_sig will get f's signature as a string\u001b[0m; \u001b[91;1mb is a signature in string provided by the user\u001b[0m; \u001b[37;1min fact, test_sig is to compare two strings\u001b[0m; \n",
      "    test_eq(str(inspect.signature(f)), b)=================================================(2) # \u001b[93;1mtest_sig is to test two strings with test_eq\u001b[0m; \u001b[36;1mhow to turn a signature into a string;\u001b[0m; \n",
      "                                                                                                                                                        (3)\n",
      "                                                                                                                                     part No.1 out of 1 parts\n",
      "\n"
     ]
    }
   ],
   "source": [
    "fdb.docsrc(1, \"test_sig(f:FunctionType or ClassType, b:str); test_sig will get f's signature as a string; \\\n",
    "b is a signature in string provided by the user; in fact, test_sig is to compare two strings\")"
   ]
  },
  {
   "cell_type": "code",
   "execution_count": null,
   "id": "e40fbdea",
   "metadata": {},
   "outputs": [
    {
     "name": "stdout",
     "output_type": "stream",
     "text": [
      "=========================================================     Investigating \u001b[91;1mtest_sig\u001b[0m     =========================================================\n",
      "===============================================================     on line \u001b[91;1m1\u001b[0m     ================================================================\n",
      "=========================     with example \u001b[91;1m\n",
      "def func_2(h,i=3, j=[5,6]): pass\n",
      "test_sig(func_2, '(h, i=3, j=[5, 6])')\n",
      "\u001b[0m     =========================\n",
      "\n",
      "def test_sig(f, b):=======================================================================(0)       \n",
      "    \"Test the signature of an object\"=====================================================(1) # \u001b[34;1mtest_sig(f:FunctionType or ClassType, b:str)\u001b[0m; \u001b[37;1mtest_sig will get f's signature as a string\u001b[0m; \u001b[35;1mb is a signature in string provided by the user\u001b[0m; \u001b[93;1min fact, test_sig is to compare two strings\u001b[0m; \n",
      "    test_eq(str(inspect.signature(f)), b)=================================================(2) # \u001b[35;1mtest_sig is to test two strings with test_eq\u001b[0m; \u001b[92;1mhow to turn a signature into a string;\u001b[0m; \n",
      "                                                                                                                                                        (3)\n"
     ]
    }
   ],
   "source": [
    "fdb.print()"
   ]
  },
  {
   "cell_type": "code",
   "execution_count": null,
   "id": "d0e6a03e",
   "metadata": {},
   "outputs": [],
   "source": []
  }
 ],
 "metadata": {
  "kernelspec": {
   "display_name": "Python 3 (ipykernel)",
   "language": "python",
   "name": "python3"
  }
 },
 "nbformat": 4,
 "nbformat_minor": 5
}
