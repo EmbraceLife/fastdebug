{
 "cells": [
  {
   "cell_type": "markdown",
   "id": "81186bb2",
   "metadata": {},
   "source": [
    "# empty2none and anno_dict"
   ]
  },
  {
   "cell_type": "markdown",
   "id": "b7dc82a7",
   "metadata": {},
   "source": [
    "## Imports"
   ]
  },
  {
   "cell_type": "code",
   "execution_count": null,
   "id": "ece7c472",
   "metadata": {},
   "outputs": [
    {
     "data": {
      "text/html": [
       "<style>.container { width:100% !important; }</style>"
      ],
      "text/plain": [
       "<IPython.core.display.HTML object>"
      ]
     },
     "metadata": {},
     "output_type": "display_data"
    }
   ],
   "source": [
    "from fastdebug.utils import *\n",
    "from fastdebug.core import *\n",
    "from fastcore.meta import *"
   ]
  },
  {
   "cell_type": "markdown",
   "id": "e1ec5f23",
   "metadata": {},
   "source": [
    "## Reading official docs"
   ]
  },
  {
   "cell_type": "markdown",
   "id": "56b3b312",
   "metadata": {},
   "source": [
    "```python\n",
    "#|export\n",
    "def empty2none(p):\n",
    "    \"Replace `Parameter.empty` with `None`\"\n",
    "    return None if p==inspect.Parameter.empty else p\n",
    "#|export\n",
    "def anno_dict(f):\n",
    "    \"`__annotation__ dictionary with `empty` cast to `None`, returning empty if doesn't exist\"\n",
    "    return {k:empty2none(v) for k,v in getattr(f, '__annotations__', {}).items()}\n",
    "def _f(a:int, b:L)->str: ...\n",
    "test_eq(anno_dict(_f), {'a': int, 'b': L, 'return': str})\n",
    "#|export\n",
    "def _mk_param(n,d=None): return inspect.Parameter(n, inspect.Parameter.KEYWORD_ONLY, default=d)\n",
    "#|export\n",
    "def use_kwargs_dict(keep=False, **kwargs):\n",
    "    \"Decorator: replace `**kwargs` in signature with `names` params\"\n",
    "    def _f(f):\n",
    "        sig = inspect.signature(f)\n",
    "        sigd = dict(sig.parameters)\n",
    "        k = sigd.pop('kwargs')\n",
    "        s2 = {n:_mk_param(n,d) for n,d in kwargs.items() if n not in sigd}\n",
    "        sigd.update(s2)\n",
    "        if keep: sigd['kwargs'] = k\n",
    "        f.__signature__ = sig.replace(parameters=sigd.values())\n",
    "        return f\n",
    "    return _f\n",
    "Replace all **kwargs with named arguments like so:\n",
    "\n",
    "@use_kwargs_dict(y=1,z=None)\n",
    "def foo(a, b=1, **kwargs): pass\n",
    "\n",
    "test_sig(foo, '(a, b=1, *, y=1, z=None)')\n",
    "Add named arguments, but optionally keep **kwargs by setting keep=True:\n",
    "\n",
    "@use_kwargs_dict(y=1,z=None, keep=True)\n",
    "def foo(a, b=1, **kwargs): pass\n",
    "\n",
    "test_sig(foo, '(a, b=1, *, y=1, z=None, **kwargs)')\n",
    "#|export\n",
    "def use_kwargs(names, keep=False):\n",
    "    \"Decorator: replace `**kwargs` in signature with `names` params\"\n",
    "    def _f(f):\n",
    "        sig = inspect.signature(f)\n",
    "        sigd = dict(sig.parameters)\n",
    "        k = sigd.pop('kwargs')\n",
    "        s2 = {n:_mk_param(n) for n in names if n not in sigd}\n",
    "        sigd.update(s2)\n",
    "        if keep: sigd['kwargs'] = k\n",
    "        f.__signature__ = sig.replace(parameters=sigd.values())\n",
    "        return f\n",
    "    return _f\n",
    "use_kwargs is different than use_kwargs_dict as it only replaces **kwargs with named parameters without any default values:\n",
    "\n",
    "@use_kwargs(['y', 'z'])\n",
    "def foo(a, b=1, **kwargs): pass\n",
    "\n",
    "test_sig(foo, '(a, b=1, *, y=None, z=None)')\n",
    "You may optionally keep the **kwargs argument in your signature by setting keep=True:\n",
    "\n",
    "@use_kwargs(['y', 'z'], keep=True)\n",
    "def foo(a, *args, b=1, **kwargs): pass\n",
    "test_sig(foo, '(a, *args, b=1, y=None, z=None, **kwargs)')\n",
    "\n",
    "```"
   ]
  },
  {
   "cell_type": "code",
   "execution_count": null,
   "id": "41cb9800",
   "metadata": {},
   "outputs": [],
   "source": [
    "from fastcore.meta import _mk_param # not included in __all__"
   ]
  },
  {
   "cell_type": "code",
   "execution_count": null,
   "id": "4a35c132",
   "metadata": {},
   "outputs": [],
   "source": [
    "g = locals()\n",
    "fdbe = Fastdb(empty2none, outloc=g)\n",
    "fdba = Fastdb(anno_dict, outloc=g)\n",
    "fdbm = Fastdb(_mk_param, outloc=g)\n",
    "fdbud = Fastdb(use_kwargs_dict, outloc=g)\n",
    "fdbu = Fastdb(use_kwargs, outloc=g)"
   ]
  },
  {
   "cell_type": "markdown",
   "id": "27132cd4",
   "metadata": {},
   "source": [
    "## empty2none"
   ]
  },
  {
   "cell_type": "code",
   "execution_count": null,
   "id": "595ec435",
   "metadata": {},
   "outputs": [
    {
     "name": "stdout",
     "output_type": "stream",
     "text": [
      "========================================================     Investigating \u001b[91;1mempty2none\u001b[0m     ========================================================\n",
      "===============================================================     on line \u001b[91;1m0\u001b[0m     ================================================================\n",
      "=============================================================     with example \u001b[91;1m\u001b[0m     ==============================================================\n",
      "\n",
      "\u001b[93;1mprint selected srcline with expands below\u001b[0m--------\n",
      "def empty2none(p):======================================================================================================================================(0)\n",
      "                                                                                                                             \u001b[91;1mp is the Parameter.default value\u001b[0m\n",
      "    \"Replace `Parameter.empty` with `None`\"                                                                                                             (1)\n",
      "    return None if p==inspect.Parameter.empty else p                                                                                                    (2)\n",
      "========================================================     Investigating \u001b[91;1mempty2none\u001b[0m     ========================================================\n",
      "===============================================================     on line \u001b[91;1m1\u001b[0m     ================================================================\n",
      "=============================================================     with example \u001b[91;1m\n",
      "\u001b[0m     =============================================================\n",
      "\n",
      "\u001b[93;1mprint selected srcline with expands below\u001b[0m--------\n",
      "def empty2none(p):                                                                                                                                      (0)\n",
      "    \"Replace `Parameter.empty` with `None`\"=============================================================================================================(1)\n",
      "                                                                           \u001b[91;1mto use empty2none, I need to make sure p is not a parameter, but parameter.default\u001b[0m\n",
      "    return None if p==inspect.Parameter.empty else p                                                                                                    (2)\n",
      "                                                                                                                                                        (3)\n",
      "\n",
      "\u001b[93;1mReview srcode with all comments added so far\u001b[0m======================================================================================================\n",
      "def empty2none(p):========================================================================(0) # \u001b[34;1mp is the Parameter.default value\u001b[0m; \n",
      "    \"Replace `Parameter.empty` with `None`\"===============================================(1) # \u001b[36;1mto use empty2none, I need to make sure p is not a parameter, but parameter.default\u001b[0m; \n",
      "    return None if p==inspect.Parameter.empty else p======================================(2)       \n",
      "                                                                                                                                                        (3)\n",
      "                                                                                                                                     part No.1 out of 1 parts\n",
      "\n",
      "========================================================     Investigating \u001b[91;1mempty2none\u001b[0m     ========================================================\n",
      "===============================================================     on line \u001b[91;1m1\u001b[0m     ================================================================\n",
      "============================================================     with example \u001b[91;1m\n",
      "\n",
      "\u001b[0m     =============================================================\n",
      "\n",
      "def empty2none(p):========================================================================(0) # \u001b[34;1mp is the Parameter.default value\u001b[0m; \n",
      "    \"Replace `Parameter.empty` with `None`\"===============================================(1) # \u001b[91;1mto use empty2none, I need to make sure p is not a parameter, but parameter.default\u001b[0m; \n",
      "    return None if p==inspect.Parameter.empty else p======================================(2)       \n",
      "                                                                                                                                                        (3)\n"
     ]
    }
   ],
   "source": [
    "fdbe.docsrc(0, \"p is the Parameter.default value\")\n",
    "fdbe.docsrc(1, \"to use empty2none, I need to make sure p is not a parameter, but parameter.default\")\n",
    "fdbe.print()"
   ]
  },
  {
   "cell_type": "code",
   "execution_count": null,
   "id": "0f701f21",
   "metadata": {},
   "outputs": [],
   "source": [
    "# def foo(a, b=1): pass\n",
    "# sig = inspect.signature(foo)\n",
    "# print(sig.parameters.items())\n",
    "# for k,v in sig.parameters.items():\n",
    "#     print(f'{k} : {v.default} => empty2none => {empty2none(v.default)}')"
   ]
  },
  {
   "cell_type": "code",
   "execution_count": null,
   "id": "9f649b87",
   "metadata": {},
   "outputs": [],
   "source": [
    "fdbe.eg = \"\"\"\n",
    "def foo(a, b=1): pass\n",
    "sig = inspect.signature(foo)\n",
    "print(sig.parameters.items())\n",
    "for k,v in sig.parameters.items():\n",
    "    print(f'{k} : {v.default} => empty2none => {empty2none(v.default)}')\n",
    "\"\"\""
   ]
  },
  {
   "cell_type": "code",
   "execution_count": null,
   "id": "dc522796",
   "metadata": {},
   "outputs": [
    {
     "name": "stderr",
     "output_type": "stream",
     "text": [
      "07:30:53.53 >>> Call to empty2none in File \"/tmp/empty2none.py\", line 3\n",
      "07:30:53.53 ...... p = <class 'inspect._empty'>\n",
      "07:30:53.53    3 | def empty2none(p):\n",
      "07:30:53.53    5 |     return None if p==inspect.Parameter.empty else p\n",
      "07:30:53.53 <<< Return value from empty2none: None\n",
      "07:30:53.53 >>> Call to empty2none in File \"/tmp/empty2none.py\", line 3\n",
      "07:30:53.53 ...... p = 1\n",
      "07:30:53.53    3 | def empty2none(p):\n",
      "07:30:53.53    5 |     return None if p==inspect.Parameter.empty else p\n",
      "07:30:53.53 <<< Return value from empty2none: 1\n"
     ]
    },
    {
     "name": "stdout",
     "output_type": "stream",
     "text": [
      "========================================================     Investigating \u001b[91;1mempty2none\u001b[0m     ========================================================\n",
      "==============================================================     on line \u001b[91;1mNone\u001b[0m     ==============================================================\n",
      "     with example \u001b[91;1m\n",
      "def foo(a, b=1): pass\n",
      "sig = inspect.signature(foo)\n",
      "print(sig.parameters.items())\n",
      "for k,v in sig.parameters.items():\n",
      "    print(f'{k} : {v.default} => empty2none => {empty2none(v.default)}')\n",
      "\u001b[0m     \n",
      "\n",
      "odict_items([('a', <Parameter \"a\">), ('b', <Parameter \"b=1\">)])\n",
      "a : <class 'inspect._empty'> => empty2none => None\n",
      "b : 1 => empty2none => 1\n"
     ]
    }
   ],
   "source": [
    "fdbe.snoop()"
   ]
  },
  {
   "cell_type": "markdown",
   "id": "d93ec707",
   "metadata": {},
   "source": [
    "## anno_dict, a possible issue to be fixed?"
   ]
  },
  {
   "cell_type": "code",
   "execution_count": null,
   "id": "17e9fa43",
   "metadata": {},
   "outputs": [
    {
     "name": "stdout",
     "output_type": "stream",
     "text": [
      "========================================================     Investigating \u001b[91;1mempty2none\u001b[0m     ========================================================\n",
      "==============================================================     on line \u001b[91;1mNone\u001b[0m     ==============================================================\n",
      "     with example \u001b[91;1m\n",
      "def foo(a, b=1): pass\n",
      "sig = inspect.signature(foo)\n",
      "print(sig.parameters.items())\n",
      "for k,v in sig.parameters.items():\n",
      "    print(f'{k} : {v.default} => empty2none => {empty2none(v.default)}')\n",
      "\u001b[0m     \n",
      "\n",
      "def empty2none(p):========================================================================(0) # \u001b[37;1mp is the Parameter.default value\u001b[0m; \n",
      "    \"Replace `Parameter.empty` with `None`\"===============================================(1) # \u001b[34;1mto use empty2none, I need to make sure p is not a parameter, but parameter.default\u001b[0m; \n",
      "    return None if p==inspect.Parameter.empty else p======================================(2)       \n",
      "                                                                                                                                                        (3)\n"
     ]
    }
   ],
   "source": [
    "fdbe.print()"
   ]
  },
  {
   "cell_type": "code",
   "execution_count": null,
   "id": "435d74c4",
   "metadata": {},
   "outputs": [
    {
     "name": "stdout",
     "output_type": "stream",
     "text": [
      "v (just a value, here in annotation, the values are classes): <class 'list'>\n",
      "v (just a value, here in annotation, the values are classes): <class 'int'>\n",
      "v (just a value, here in annotation, the values are classes): <class 'bool'>\n"
     ]
    }
   ],
   "source": [
    "def foo(a, b:int=1): pass\n",
    "test_eq(foo.__annotations__, {'b': int})\n",
    "def foo(a:bool, b:int=1): pass\n",
    "test_eq(foo.__annotations__, {'a': bool, 'b': int})\n",
    "def foo(a, d:list, b:int=1, c:bool=True): pass\n",
    "for k,v in foo.__annotations__.items():\n",
    "    print(f'v (just a value, here in annotation, the values are classes, never parameter.default): {v}')\n",
    "test_eq(foo.__annotations__, {'d': list, 'b': int, 'c': bool})\n",
    "test_eq(anno_dict(foo), {'d': list, 'b': int, 'c': bool})"
   ]
  },
  {
   "cell_type": "code",
   "execution_count": null,
   "id": "20401994",
   "metadata": {},
   "outputs": [],
   "source": [
    "from fastcore.foundation import L"
   ]
  },
  {
   "cell_type": "code",
   "execution_count": null,
   "id": "d4e62d04",
   "metadata": {},
   "outputs": [],
   "source": [
    "def foo(a, b): pass\n",
    "test_eq(foo.__annotations__, {})\n",
    "test_eq(anno_dict(foo), {})\n",
    "\n",
    "def _f(a:int, b:L)->str: ...\n",
    "test_eq(_f.__annotations__, {'a': int, 'b': L, 'return': str})\n",
    "test_eq(anno_dict(_f), {'a': int, 'b': L, 'return': str})"
   ]
  },
  {
   "cell_type": "markdown",
   "id": "9a2bbb47",
   "metadata": {},
   "source": [
    "**Important Notice!** so far above anno_dict has done nothing new or more, is there something missing here?"
   ]
  },
  {
   "cell_type": "code",
   "execution_count": null,
   "id": "9921a3ee",
   "metadata": {},
   "outputs": [],
   "source": [
    "fdba.docsrc(1, \"No sure what does anno_dict want to achieve here\")"
   ]
  },
  {
   "cell_type": "code",
   "execution_count": null,
   "id": "285f84cb",
   "metadata": {},
   "outputs": [
    {
     "name": "stdout",
     "output_type": "stream",
     "text": [
      "========================================================     Investigating \u001b[91;1manno_dict\u001b[0m     =========================================================\n",
      "===============================================================     on line \u001b[91;1m0\u001b[0m     ================================================================\n",
      "============================================================     with example \u001b[91;1m\n",
      "\n",
      "\u001b[0m     =============================================================\n",
      "\n",
      "def anno_dict(f):=========================================================================(0) # \u001b[91;1mparam f is a function or f:FunctionType\u001b[0m; \n",
      "    \"`__annotation__ dictionary with `empty` cast to `None`, returning empty if doesn't exist\"                                                          (1)\n",
      "    return {k:empty2none(v) for k,v in getattr(f, '__annotations__', {}).items()}=========(2) # \u001b[37;1mwhat does __annotations__ look like\u001b[0m; \u001b[93;1mif a param has no annotation, then the param won't be shown\u001b[0m; \u001b[35;1manno_dict is to recreate __annotations__ so that params with empty annos are shown as none;\u001b[0m; \n",
      "                                                                                                                                                        (3)\n"
     ]
    }
   ],
   "source": [
    "fdba.print()"
   ]
  },
  {
   "cell_type": "markdown",
   "id": "d76309ad",
   "metadata": {},
   "source": [
    "### A possible anno_dict wanted by fastcore.meta.anno_dict?"
   ]
  },
  {
   "cell_type": "code",
   "execution_count": null,
   "id": "2304e307",
   "metadata": {},
   "outputs": [],
   "source": [
    "def anno_dict(f):\n",
    "    \"`__annotation__ dictionary with `empty` cast to `None`, returning empty if doesn't exist\"\n",
    "    for k, v in inspect.signature(f).parameters\n",
    "    return {k:empty2none(v) for k,v in getattr(f, '__annotations__', {}).items()}"
   ]
  },
  {
   "cell_type": "code",
   "execution_count": null,
   "id": "5e5b94c9",
   "metadata": {},
   "outputs": [
    {
     "name": "stdout",
     "output_type": "stream",
     "text": [
      "a is a which is type <class 'inspect.Parameter'>, which has default value as <class 'inspect._empty'>\n",
      "b is b which is type <class 'inspect.Parameter'>, which has default value as <class 'inspect._empty'>\n"
     ]
    }
   ],
   "source": [
    "def foo(a, b): pass\n",
    "for k, v in inspect.signature(foo).parameters.items():\n",
    "    print(f'{k} is {v} which is type {type(v)}, which has default value as {v.default}')\n",
    "test_eq(foo.__annotations__, {})"
   ]
  },
  {
   "cell_type": "code",
   "execution_count": null,
   "id": "81ec1297",
   "metadata": {},
   "outputs": [],
   "source": [
    "def anno_dict_maybe(f):\n",
    "    \"`__annotation__ dictionary with `empty` cast to `None`, returning empty if doesn't exist\"\n",
    "    new_anno = {}\n",
    "    for k, v in inspect.signature(f).parameters.items():\n",
    "        if k not in f.__annotations__:\n",
    "            new_anno[k] = None\n",
    "        else: \n",
    "            new_anno[k] = f.__annotations__[k]\n",
    "    if 'return' in f.__annotations__:\n",
    "        new_anno['return'] = f.__annotations__['return']\n",
    "    return new_anno"
   ]
  },
  {
   "cell_type": "code",
   "execution_count": null,
   "id": "82c00659",
   "metadata": {},
   "outputs": [],
   "source": [
    "def foo(a:int, b, c:bool=True)->str: pass"
   ]
  },
  {
   "cell_type": "code",
   "execution_count": null,
   "id": "7ff55528",
   "metadata": {},
   "outputs": [],
   "source": [
    "test_eq(foo.__annotations__, {'a': int, 'c': bool, 'return': str})"
   ]
  },
  {
   "cell_type": "code",
   "execution_count": null,
   "id": "5a8fed14",
   "metadata": {},
   "outputs": [],
   "source": [
    "test_eq(anno_dict(foo), {'a': int, 'c': bool, 'return': str})"
   ]
  },
  {
   "cell_type": "code",
   "execution_count": null,
   "id": "42d182f7",
   "metadata": {},
   "outputs": [],
   "source": [
    "test_eq(anno_dict_maybe(foo), {'a': int, 'b': None, 'c': bool, 'return': str})"
   ]
  },
  {
   "cell_type": "code",
   "execution_count": null,
   "id": "da7d0803",
   "metadata": {},
   "outputs": [
    {
     "name": "stdout",
     "output_type": "stream",
     "text": [
      "========================================================     Investigating \u001b[91;1manno_dict\u001b[0m     =========================================================\n",
      "===============================================================     on line \u001b[91;1m2\u001b[0m     ================================================================\n",
      "============================================================     with example \u001b[91;1m\n",
      "\n",
      "\u001b[0m     =============================================================\n",
      "\n",
      "\u001b[93;1mprint selected srcline with expands below\u001b[0m--------\n",
      "def anno_dict(f):                                                                                                                                       (0)\n",
      "    \"`__annotation__ dictionary with `empty` cast to `None`, returning empty if doesn't exist\"                                                          (1)\n",
      "    return {k:empty2none(v) for k,v in getattr(f, '__annotations__', {}).items()}=======================================================================(2)\n",
      "\u001b[91;1mwhat does __annotations__ look like; if a param has no annotation, then the param won't be shown; anno_dict is to recreate __annotations__ so that params with empty annos are shown as none;\u001b[0m\n",
      "                                                                                                                                                        (3)\n",
      "\n",
      "\u001b[93;1mReview srcode with all comments added so far\u001b[0m======================================================================================================\n",
      "def anno_dict(f):=========================================================================(0) # \u001b[37;1mparam f is a function or f:FunctionType\u001b[0m; \n",
      "    \"`__annotation__ dictionary with `empty` cast to `None`, returning empty if doesn't exist\"                                                          (1)\n",
      "    return {k:empty2none(v) for k,v in getattr(f, '__annotations__', {}).items()}=========(2) # \u001b[93;1mwhat does __annotations__ look like\u001b[0m; \u001b[93;1mif a param has no annotation, then the param won't be shown\u001b[0m; \u001b[91;1manno_dict is to recreate __annotations__ so that params with empty annos are shown as none;\u001b[0m; \n",
      "                                                                                                                                                        (3)\n",
      "                                                                                                                                     part No.1 out of 1 parts\n",
      "\n",
      "========================================================     Investigating \u001b[91;1manno_dict\u001b[0m     =========================================================\n",
      "===============================================================     on line \u001b[91;1m0\u001b[0m     ================================================================\n",
      "============================================================     with example \u001b[91;1m\n",
      "\n",
      "\n",
      "\u001b[0m     ============================================================\n",
      "\n",
      "\u001b[93;1mprint selected srcline with expands below\u001b[0m--------\n",
      "def anno_dict(f):=======================================================================================================================================(0)\n",
      "                                                                                                                      \u001b[91;1mparam f is a function or f:FunctionType\u001b[0m\n",
      "    \"`__annotation__ dictionary with `empty` cast to `None`, returning empty if doesn't exist\"                                                          (1)\n",
      "    return {k:empty2none(v) for k,v in getattr(f, '__annotations__', {}).items()}                                                                       (2)\n"
     ]
    }
   ],
   "source": [
    "fdba.docsrc(2, \"what does __annotations__ look like; if a param has no annotation, then the param won't be shown; \\\n",
    "anno_dict is to recreate __annotations__ so that params with empty annos are shown as none;\")\n",
    "fdba.docsrc(0, \"param f is a function or f:FunctionType\")"
   ]
  },
  {
   "cell_type": "code",
   "execution_count": null,
   "id": "78821c3c",
   "metadata": {},
   "outputs": [],
   "source": []
  }
 ],
 "metadata": {
  "kernelspec": {
   "display_name": "Python 3 (ipykernel)",
   "language": "python",
   "name": "python3"
  }
 },
 "nbformat": 4,
 "nbformat_minor": 5
}
