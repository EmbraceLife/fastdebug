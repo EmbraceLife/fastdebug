{
 "cells": [
  {
   "cell_type": "markdown",
   "id": "53cb32d8",
   "metadata": {},
   "source": [
    "# Explore Fastdb class"
   ]
  },
  {
   "cell_type": "code",
   "execution_count": null,
   "id": "d319bcec",
   "metadata": {},
   "outputs": [],
   "source": [
    "from IPython.display import display, HTML "
   ]
  },
  {
   "cell_type": "code",
   "execution_count": null,
   "id": "9f0bf1f1",
   "metadata": {},
   "outputs": [
    {
     "data": {
      "text/html": [
       "<style>.container { width:90% !important; }</style>"
      ],
      "text/plain": [
       "<IPython.core.display.HTML object>"
      ]
     },
     "metadata": {},
     "output_type": "display_data"
    }
   ],
   "source": [
    "display(HTML(\"<style>.container { width:90% !important; }</style>\"))"
   ]
  },
  {
   "cell_type": "markdown",
   "id": "762bee4f",
   "metadata": {},
   "source": [
    "## Why"
   ]
  },
  {
   "cell_type": "markdown",
   "id": "a128e719",
   "metadata": {},
   "source": [
    "So far I have created two demos, a simple one on `fastdebug.utils.whatinside` and a real world one on `fastcore.meta.FixSigMeta`. They should be enough as demos to show the usefulness of fastdebug library. "
   ]
  },
  {
   "cell_type": "markdown",
   "id": "99249cf7",
   "metadata": {},
   "source": [
    "However, I want to be thorough and really prove to myself that it can help me to conquer unknowns and clear doubts with ease and joy when exploring source code. "
   ]
  },
  {
   "cell_type": "markdown",
   "id": "0de3141d",
   "metadata": {},
   "source": [
    "Fastdb class and the funcs it uses contains all the tricks I learnt and difficulties I conquered which I don't always remember how and why. In fact I don't want to remember them. I want to just run all cells here and skim through the notebook and everything makes sense to me. "
   ]
  },
  {
   "cell_type": "markdown",
   "id": "284843bf",
   "metadata": {},
   "source": [
    "Can fastdebug help me achieve it? Let's give a try!"
   ]
  },
  {
   "cell_type": "markdown",
   "id": "10b0edea",
   "metadata": {},
   "source": [
    "## How to do it?"
   ]
  },
  {
   "cell_type": "markdown",
   "id": "7f6c8729",
   "metadata": {},
   "source": [
    "I need a few examples first. Maybe I could just use the simple demo as example for `Fastdb`."
   ]
  },
  {
   "cell_type": "markdown",
   "id": "e4e7a541",
   "metadata": {},
   "source": [
    "## A example of using `Fastdb.dbprint`"
   ]
  },
  {
   "cell_type": "markdown",
   "id": "2da9f8cd",
   "metadata": {},
   "source": [
    "### Get env "
   ]
  },
  {
   "cell_type": "code",
   "execution_count": null,
   "id": "b656c420",
   "metadata": {},
   "outputs": [],
   "source": [
    "from fastdebug.utils import whatinside"
   ]
  },
  {
   "cell_type": "code",
   "execution_count": null,
   "id": "989f14f9",
   "metadata": {},
   "outputs": [
    {
     "data": {
      "text/plain": [
       "20"
      ]
     },
     "execution_count": null,
     "metadata": {},
     "output_type": "execute_result"
    }
   ],
   "source": [
    "gw = {}\n",
    "gw.update(whatinside.__globals__)\n",
    "len(gw)"
   ]
  },
  {
   "cell_type": "markdown",
   "id": "9bc3946a",
   "metadata": {},
   "source": [
    "### Actual example"
   ]
  },
  {
   "cell_type": "code",
   "execution_count": null,
   "id": "8c245389",
   "metadata": {},
   "outputs": [],
   "source": [
    "from fastdebug.core import *"
   ]
  },
  {
   "cell_type": "code",
   "execution_count": null,
   "id": "d468b30e",
   "metadata": {},
   "outputs": [],
   "source": [
    "fdbw = Fastdb(whatinside, gw)"
   ]
  },
  {
   "cell_type": "code",
   "execution_count": null,
   "id": "d7f82dc2",
   "metadata": {},
   "outputs": [
    {
     "name": "stdout",
     "output_type": "stream",
     "text": [
      "def whatinside(mo, # module, e.g., `import fastcore.all as fa`, use `fa` here=============(0)       \n",
      "               dun:bool=False, # print all items in __all__===============================(1)       \n",
      "               func:bool=False, # print all user defined functions========================(2)       \n",
      "               clas:bool=False, # print all class objects=================================(3)       \n",
      "               bltin:bool=False, # print all builtin funcs or methods=====================(4)       \n",
      "               lib:bool=False, # print all the modules of the library it belongs to=======(5)       \n",
      "               cal:bool=False # print all callables=======================================(6)       \n",
      "             ): ==========================================================================(7)       \n",
      "    'Check what inside a module: `__all__`, functions, classes, builtins, and callables'==(8)       \n",
      "    dun_all = len(mo.__all__) if hasattr(mo, \"__all__\") else 0============================(9)       \n",
      "                                                                                                                                     part No.1 out of 2 parts\n"
     ]
    }
   ],
   "source": [
    "fdbw.print(10,1)"
   ]
  },
  {
   "cell_type": "code",
   "execution_count": null,
   "id": "7de2b864",
   "metadata": {},
   "outputs": [],
   "source": [
    "import fastdebug.core as core"
   ]
  },
  {
   "cell_type": "code",
   "execution_count": null,
   "id": "7354ab99",
   "metadata": {},
   "outputs": [
    {
     "name": "stdout",
     "output_type": "stream",
     "text": [
      "             ):                                                                                                                                         (7)\n",
      "    'Check what inside a module: `__all__`, functions, classes, builtins, and callables'                                                                (8)\n",
      "    dun_all = len(mo.__all__) if hasattr(mo, \"__all__\") else 0==========================================================================================(9)\n",
      "                                                                                                                                                  \u001b[91mwhat is mo?\u001b[0m\n",
      "    funcs = inspect.getmembers(mo, inspect.isfunction)                                                                                                  (10)\n",
      "    classes = inspect.getmembers(mo, inspect.isclass)                                                                                                   (11)\n",
      "def whatinside(mo, # module, e.g., `import fastcore.all as fa`, use `fa` here                                                                           (0)\n",
      "               dun:bool=False, # print all items in __all__                                                                                             (1)\n",
      "               func:bool=False, # print all user defined functions                                                                                      (2)\n",
      "               clas:bool=False, # print all class objects                                                                                               (3)\n",
      "               bltin:bool=False, # print all builtin funcs or methods                                                                                   (4)\n",
      "               lib:bool=False, # print all the modules of the library it belongs to                                                                     (5)\n",
      "               cal:bool=False # print all callables                                                                                                     (6)\n",
      "             ):                                                                                                                                         (7)\n",
      "    'Check what inside a module: `__all__`, functions, classes, builtins, and callables'                                                                (8)\n",
      "    g = locals()                                                                                                                                        (9)\n",
      "    dbprintinsert(\"mo\",\"type(mo)\",\"type(mo.__all__)\",env=g)=============================================================================================(db)\n",
      "    dun_all = len(mo.__all__) if hasattr(mo, \"__all__\") else 0                                                                                          (11)\n",
      "    funcs = inspect.getmembers(mo, inspect.isfunction)                                                                                                  (12)\n",
      "    classes = inspect.getmembers(mo, inspect.isclass)                                                                                                   (13)\n",
      "    builtins = inspect.getmembers(mo, inspect.isbuiltin)                                                                                                (14)\n",
      "    callables = inspect.getmembers(mo, callable)                                                                                                        (15)\n",
      "    pkgpath = os.path.dirname(mo.__file__)                                                                                                              (16)\n",
      "    print(f\"{mo.__name__} has: \\n{dun_all} items in its __all__, and \\n{len(funcs)} user defined functions, \\n{len(classes)} classes or class objects, \\n{len(builtins)} builtin funcs and methods, and\\n{len(callables)} callables.\\n\")  (17)\n",
      "    if hasattr(mo, \"__all__\") and dun: pprint(mo.__all__)                                                                                               (18)\n",
      "    if func:                                                                                                                                            (19)\n",
      "        print(f'The user defined functions are:')                                                                                                       (20)\n",
      "        pprint([i[0] for i in funcs])                                                                                                                   (21)\n",
      "    if clas:                                                                                                                                            (22)\n",
      "        print(f'The class objects are:')                                                                                                                (23)\n",
      "        pprint([i[0] for i in classes])                                                                                                                 (24)\n",
      "    if bltin:                                                                                                                                           (25)\n",
      "        print(f'The builtin functions or methods are:')                                                                                                 (26)\n",
      "        pprint([i[0] for i in builtins])                                                                                                                (27)\n",
      "    if cal:                                                                                                                                             (28)\n",
      "        print(f'The callables are: ')                                                                                                                   (29)\n",
      "        pprint([i[0] for i in callables])                                                                                                               (30)\n",
      "    if lib:                                                                                                                                             (31)\n",
      "        modules = [name for _, name, _ in pkgutil.iter_modules([pkgpath])]                                                                              (32)\n",
      "        print(f'The library has {len(modules)} modules')                                                                                                (33)\n",
      "        pprint(modules)                                                                                                                                 (34)\n",
      "before exec, locals(): ['self', 'dbcode', 'cmt', 'expand', 'showdbsrc', 'codes', 'src', 'dbsrc', 'indent', 'onedbprint', 'lst', 'newlst', 'i', 'srclines', 'idx', 'l', 'numindent', 'dbcodes', 'count', 'c', 'totallen', 'lenidx', 'dblst', 'lenl']\n",
      "after exec, locals(): ['self', 'dbcode', 'cmt', 'expand', 'showdbsrc', 'codes', 'src', 'dbsrc', 'indent', 'onedbprint', 'lst', 'newlst', 'i', 'srclines', 'idx', 'l', 'numindent', 'dbcodes', 'count', 'c', 'totallen', 'lenidx', 'dblst', 'lenl', 'whatinside']\n",
      "type(locals()[self.orisrc.__name__]): <class 'function'>\n",
      "\n",
      "\n",
      "                                                           mo => mo : <module 'fastdebug.utils' from '/Users/Natsume/Documents/fastdebug/fastdebug/utils.py'>\n",
      "\n",
      "\n",
      "                                                                                                                      type(mo) => type(mo) : <class 'module'>\n",
      "\n",
      "\n",
      "                                                                                                        type(mo.__all__) => type(mo.__all__) : <class 'list'>\n",
      "fastdebug.utils has: \n",
      "3 items in its __all__, and \n",
      "123 user defined functions, \n",
      "18 classes or class objects, \n",
      "1 builtin funcs and methods, and\n",
      "144 callables.\n",
      "\n"
     ]
    }
   ],
   "source": [
    "dbw = fdbw.dbprint(9, \"what is mo?\", \"mo\", \"type(mo)\", \"type(mo.__all__)\", showdbsrc=True)\n",
    "whatinside = dbw\n",
    "whatinside(core)"
   ]
  },
  {
   "cell_type": "markdown",
   "id": "dcbb39e8",
   "metadata": {},
   "source": [
    "## Explore `fdbw.dbprintt` with the example above"
   ]
  },
  {
   "cell_type": "markdown",
   "id": "bda40c54",
   "metadata": {},
   "source": [
    "### Get env for `fdbw.dbprint`"
   ]
  },
  {
   "cell_type": "code",
   "execution_count": null,
   "id": "6189a449",
   "metadata": {},
   "outputs": [],
   "source": [
    "import inspect"
   ]
  },
  {
   "cell_type": "code",
   "execution_count": null,
   "id": "48372f18",
   "metadata": {},
   "outputs": [],
   "source": [
    "from pprint import pprint"
   ]
  },
  {
   "cell_type": "code",
   "execution_count": null,
   "id": "bd5a9569",
   "metadata": {},
   "outputs": [
    {
     "data": {
      "text/plain": [
       "175"
      ]
     },
     "execution_count": null,
     "metadata": {},
     "output_type": "execute_result"
    }
   ],
   "source": [
    "g = {}\n",
    "g.update(fdbw.dbprint.__globals__)\n",
    "len(g)"
   ]
  },
  {
   "cell_type": "code",
   "execution_count": null,
   "id": "39943ac1",
   "metadata": {},
   "outputs": [],
   "source": [
    "# import fastdebug.core as core\n",
    "# g = {}\n",
    "# g.update(core.__dict__)\n",
    "# len(g)"
   ]
  },
  {
   "cell_type": "code",
   "execution_count": null,
   "id": "97c38176",
   "metadata": {},
   "outputs": [
    {
     "data": {
      "text/plain": [
       "False"
      ]
     },
     "execution_count": null,
     "metadata": {},
     "output_type": "execute_result"
    }
   ],
   "source": [
    "\"fdbw\" in g"
   ]
  },
  {
   "cell_type": "code",
   "execution_count": null,
   "id": "f5617b05",
   "metadata": {},
   "outputs": [
    {
     "data": {
      "text/plain": [
       "True"
      ]
     },
     "execution_count": null,
     "metadata": {},
     "output_type": "execute_result"
    }
   ],
   "source": [
    "'dbprint' in g"
   ]
  },
  {
   "cell_type": "code",
   "execution_count": null,
   "id": "9e36b2c4",
   "metadata": {},
   "outputs": [
    {
     "data": {
      "text/plain": [
       "NoneType"
      ]
     },
     "execution_count": null,
     "metadata": {},
     "output_type": "execute_result"
    }
   ],
   "source": [
    "type(g['dbprint'])"
   ]
  },
  {
   "cell_type": "code",
   "execution_count": null,
   "id": "f4e59b54",
   "metadata": {},
   "outputs": [
    {
     "data": {
      "text/plain": [
       "True"
      ]
     },
     "execution_count": null,
     "metadata": {},
     "output_type": "execute_result"
    }
   ],
   "source": [
    "'Fastdb' in g"
   ]
  },
  {
   "cell_type": "code",
   "execution_count": null,
   "id": "d6563651",
   "metadata": {},
   "outputs": [
    {
     "data": {
      "text/plain": [
       "function"
      ]
     },
     "execution_count": null,
     "metadata": {},
     "output_type": "execute_result"
    }
   ],
   "source": [
    "type(g['Fastdb'].dbprint)"
   ]
  },
  {
   "cell_type": "code",
   "execution_count": null,
   "id": "41256674",
   "metadata": {},
   "outputs": [
    {
     "data": {
      "text/plain": [
       "<Signature (self: fastdebug.core.Fastdb, dbcode: int, cmt: str, *codes, expand: int = 2, showdbsrc: bool = False)>"
      ]
     },
     "execution_count": null,
     "metadata": {},
     "output_type": "execute_result"
    }
   ],
   "source": [
    "inspect.signature(g['Fastdb'].dbprint)"
   ]
  },
  {
   "cell_type": "code",
   "execution_count": null,
   "id": "a13ced9c",
   "metadata": {},
   "outputs": [
    {
     "name": "stdout",
     "output_type": "stream",
     "text": [
      "('@patch\\n'\n",
      " 'def dbprint(self:Fastdb, \\n'\n",
      " '            dbcode:int, # a srcline under investigation, can be either string or int\\n'\n",
      " '            cmt:str, # comment added to the srcline\\n'\n",
      " '            *codes, # a list of expressions (str) you write to be evaluated above the srcline\\n'\n",
      " '            expand:int=2, # span 2 lines of srcode up and down from the srcline investigated\\n'\n",
      " '            showdbsrc:bool=False): # display dbsrc\\n'\n",
      " '    \"Add comment and evaluate custom (single or multi lines) expressions to any srcline of the source code you are investigating\"\\n'\n",
      " '\\n'\n",
      " '    src = self.orisrc\\n'\n",
      " '    if type(dbcode) == int: self.cmts.update({dbcode: cmt})\\n'\n",
      " '\\n'\n",
      " '    printsrc(src, dbcode, cmt, expand)\\n'\n",
      " '\\n'\n",
      " '    dbsrc = \"\"\\n'\n",
      " '    indent = 4\\n'\n",
      " '    onedbprint = False\\n'\n",
      " '\\n'\n",
      " \"    lst = inspect.getsource(src).split('\\\\n')\\n\"\n",
      " '    if not bool(lst[-1]): lst = lst[:-1]\\n'\n",
      " '\\n'\n",
      " '    newlst = []\\n'\n",
      " '    for i in codes: # no matter whether there is \"\" or \"  \" in the front or in the middle of codes\\n'\n",
      " '        if bool(i.strip()): newlst.append(i)\\n'\n",
      " '    codes = newlst\\n'\n",
      " '\\n'\n",
      " '    srclines = \"\"\\n'\n",
      " '    if type(dbcode) == int:\\n'\n",
      " '        srclines = lst[dbcode]\\n'\n",
      " '    else:\\n'\n",
      " '        srclines = dbcode\\n'\n",
      " '\\n'\n",
      " '    for idx, l in zip(range(len(lst)), lst):\\n'\n",
      " '\\n'\n",
      " '        if bool(l.strip()) and l.strip() in srclines and idx == dbcode: \\n'\n",
      " '\\n'\n",
      " '            if len(codes) > 0: # if the new codes is not empty\\n'\n",
      " '                numindent = len(l) - len(l.strip())\\n'\n",
      " '                dbcodes = \"dbprintinsert(\"\\n'\n",
      " '                count = 1\\n'\n",
      " '                for c in codes:\\n'\n",
      " '                    if count == len(codes):\\n'\n",
      " '                        dbcodes = dbcodes + \\'\"\\' + c + \\'\"\\' + \",\" + \"env=g\" + \")\"\\n'\n",
      " '                    else:\\n'\n",
      " '                        dbcodes = dbcodes + \\'\"\\' + c + \\'\"\\' + \",\"\\n'\n",
      " '                    count = count + 1\\n'\n",
      " '\\n'\n",
      " '                dbsrc = dbsrc + \" \"*numindent + \"g = locals()\" + \\'\\\\n\\'\\n'\n",
      " '                dbsrc = dbsrc + \" \"*numindent + dbcodes + \\'\\\\n\\'\\n'\n",
      " \"                dbsrc = dbsrc + l + '\\\\n'     \\n\"\n",
      " '            else:\\n'\n",
      " \"                dbsrc = dbsrc + l + '\\\\n'                \\n\"\n",
      " '\\n'\n",
      " '        elif bool(l.strip()) and idx + 1 == len(lst):\\n'\n",
      " '            dbsrc = dbsrc + l\\n'\n",
      " '\\n'\n",
      " '        elif bool(l.strip()): # make sure pure indentation + \\\\n is ignored\\n'\n",
      " \"            dbsrc = dbsrc + l + '\\\\n'\\n\"\n",
      " '\\n'\n",
      " '    if showdbsrc: # added to debug\\n'\n",
      " '        totallen = 157\\n'\n",
      " '        lenidx = 5\\n'\n",
      " \"        dblst = dbsrc.split('\\\\n')\\n\"\n",
      " '        for idx, l in zip(range(len(dblst)), dblst):\\n'\n",
      " '            lenl = len(l)\\n'\n",
      " '#             if \"dbprintinsert\" in l: \\n'\n",
      " '            if l.strip().startswith(\"dbprintinsert\"): \\n'\n",
      " '                print(l + \"=\"*(totallen-lenl-lenidx) + \"(db)\")\\n'\n",
      " '            else:\\n'\n",
      " '                print(l + \" \"*(totallen-lenl-lenidx) + \"(\" + str(idx) + \")\")\\n'\n",
      " '        \\n'\n",
      " '        print(f\"before exec, locals(): {list(locals().keys())}\")\\n'\n",
      " '\\n'\n",
      " '    exec(dbsrc, globals().update(self.outenv)) # make sure b can access lst from above\\n'\n",
      " '    if showdbsrc: \\n'\n",
      " '        print(f\"after exec, locals(): {list(locals().keys())}\")\\n'\n",
      " '        print(f\"type(locals()[self.orisrc.__name__]): {type(locals()[self.orisrc.__name__])}\")\\n'\n",
      " '    return locals()[self.orisrc.__name__]\\n')\n"
     ]
    }
   ],
   "source": [
    "pprint(inspect.getsource(g['Fastdb'].dbprint), width=157)"
   ]
  },
  {
   "cell_type": "markdown",
   "id": "96fb9366",
   "metadata": {},
   "source": [
    "### fdbw.dbprint vs Fastdb.dbprint"
   ]
  },
  {
   "cell_type": "code",
   "execution_count": null,
   "id": "d2301cc8",
   "metadata": {},
   "outputs": [
    {
     "data": {
      "text/plain": [
       "False"
      ]
     },
     "execution_count": null,
     "metadata": {},
     "output_type": "execute_result"
    }
   ],
   "source": [
    "fdbw.dbprint == Fastdb.dbprint"
   ]
  },
  {
   "cell_type": "code",
   "execution_count": null,
   "id": "2c68b06c",
   "metadata": {},
   "outputs": [
    {
     "data": {
      "text/plain": [
       "method"
      ]
     },
     "execution_count": null,
     "metadata": {},
     "output_type": "execute_result"
    }
   ],
   "source": [
    "type(fdbw.dbprint)"
   ]
  },
  {
   "cell_type": "code",
   "execution_count": null,
   "id": "07c5a751",
   "metadata": {},
   "outputs": [
    {
     "data": {
      "text/plain": [
       "function"
      ]
     },
     "execution_count": null,
     "metadata": {},
     "output_type": "execute_result"
    }
   ],
   "source": [
    "type(Fastdb.dbprint)"
   ]
  },
  {
   "cell_type": "code",
   "execution_count": null,
   "id": "f467bea6",
   "metadata": {},
   "outputs": [
    {
     "data": {
      "text/plain": [
       "<Signature (self: fastdebug.core.Fastdb, dbcode: int, cmt: str, *codes, expand: int = 2, showdbsrc: bool = False)>"
      ]
     },
     "execution_count": null,
     "metadata": {},
     "output_type": "execute_result"
    }
   ],
   "source": [
    "inspect.signature(Fastdb.dbprint)"
   ]
  },
  {
   "cell_type": "code",
   "execution_count": null,
   "id": "aa051c43",
   "metadata": {},
   "outputs": [
    {
     "data": {
      "text/plain": [
       "<Signature (dbcode: int, cmt: str, *codes, expand: int = 2, showdbsrc: bool = False)>"
      ]
     },
     "execution_count": null,
     "metadata": {},
     "output_type": "execute_result"
    }
   ],
   "source": [
    "inspect.signature(fdbw.dbprint)"
   ]
  },
  {
   "cell_type": "code",
   "execution_count": null,
   "id": "88aca481",
   "metadata": {},
   "outputs": [
    {
     "name": "stdout",
     "output_type": "stream",
     "text": [
      "('@patch\\n'\n",
      " 'def dbprint(self:Fastdb, \\n'\n",
      " '            dbcode:int, # a srcline under investigation, can be either string or int\\n'\n",
      " '            cmt:str, # comment added to the srcline\\n'\n",
      " '            *codes, # a list of expressions (str) you write to be evaluated above the srcline\\n'\n",
      " '            expand:int=2, # span 2 lines of srcode up and down from the srcline investigated\\n'\n",
      " '            showdbsrc:bool=False): # display dbsrc\\n'\n",
      " '    \"Add comment and evaluate custom (single or multi lines) expressions to any srcline of the source code you are investigating\"\\n'\n",
      " '\\n'\n",
      " '    src = self.orisrc\\n'\n",
      " '    if type(dbcode) == int: self.cmts.update({dbcode: cmt})\\n'\n",
      " '\\n'\n",
      " '    printsrc(src, dbcode, cmt, expand)\\n'\n",
      " '\\n'\n",
      " '    dbsrc = \"\"\\n'\n",
      " '    indent = 4\\n'\n",
      " '    onedbprint = False\\n'\n",
      " '\\n'\n",
      " \"    lst = inspect.getsource(src).split('\\\\n')\\n\"\n",
      " '    if not bool(lst[-1]): lst = lst[:-1]\\n'\n",
      " '\\n'\n",
      " '    newlst = []\\n'\n",
      " '    for i in codes: # no matter whether there is \"\" or \"  \" in the front or in the middle of codes\\n'\n",
      " '        if bool(i.strip()): newlst.append(i)\\n'\n",
      " '    codes = newlst\\n'\n",
      " '\\n'\n",
      " '    srclines = \"\"\\n'\n",
      " '    if type(dbcode) == int:\\n'\n",
      " '        srclines = lst[dbcode]\\n'\n",
      " '    else:\\n'\n",
      " '        srclines = dbcode\\n'\n",
      " '\\n'\n",
      " '    for idx, l in zip(range(len(lst)), lst):\\n'\n",
      " '\\n'\n",
      " '        if bool(l.strip()) and l.strip() in srclines and idx == dbcode: \\n'\n",
      " '\\n'\n",
      " '            if len(codes) > 0: # if the new codes is not empty\\n'\n",
      " '                numindent = len(l) - len(l.strip())\\n'\n",
      " '                dbcodes = \"dbprintinsert(\"\\n'\n",
      " '                count = 1\\n'\n",
      " '                for c in codes:\\n'\n",
      " '                    if count == len(codes):\\n'\n",
      " '                        dbcodes = dbcodes + \\'\"\\' + c + \\'\"\\' + \",\" + \"env=g\" + \")\"\\n'\n",
      " '                    else:\\n'\n",
      " '                        dbcodes = dbcodes + \\'\"\\' + c + \\'\"\\' + \",\"\\n'\n",
      " '                    count = count + 1\\n'\n",
      " '\\n'\n",
      " '                dbsrc = dbsrc + \" \"*numindent + \"g = locals()\" + \\'\\\\n\\'\\n'\n",
      " '                dbsrc = dbsrc + \" \"*numindent + dbcodes + \\'\\\\n\\'\\n'\n",
      " \"                dbsrc = dbsrc + l + '\\\\n'     \\n\"\n",
      " '            else:\\n'\n",
      " \"                dbsrc = dbsrc + l + '\\\\n'                \\n\"\n",
      " '\\n'\n",
      " '        elif bool(l.strip()) and idx + 1 == len(lst):\\n'\n",
      " '            dbsrc = dbsrc + l\\n'\n",
      " '\\n'\n",
      " '        elif bool(l.strip()): # make sure pure indentation + \\\\n is ignored\\n'\n",
      " \"            dbsrc = dbsrc + l + '\\\\n'\\n\"\n",
      " '\\n'\n",
      " '    if showdbsrc: # added to debug\\n'\n",
      " '        totallen = 157\\n'\n",
      " '        lenidx = 5\\n'\n",
      " \"        dblst = dbsrc.split('\\\\n')\\n\"\n",
      " '        for idx, l in zip(range(len(dblst)), dblst):\\n'\n",
      " '            lenl = len(l)\\n'\n",
      " '#             if \"dbprintinsert\" in l: \\n'\n",
      " '            if l.strip().startswith(\"dbprintinsert\"): \\n'\n",
      " '                print(l + \"=\"*(totallen-lenl-lenidx) + \"(db)\")\\n'\n",
      " '            else:\\n'\n",
      " '                print(l + \" \"*(totallen-lenl-lenidx) + \"(\" + str(idx) + \")\")\\n'\n",
      " '        \\n'\n",
      " '        print(f\"before exec, locals(): {list(locals().keys())}\")\\n'\n",
      " '\\n'\n",
      " '    exec(dbsrc, globals().update(self.outenv)) # make sure b can access lst from above\\n'\n",
      " '    if showdbsrc: \\n'\n",
      " '        print(f\"after exec, locals(): {list(locals().keys())}\")\\n'\n",
      " '        print(f\"type(locals()[self.orisrc.__name__]): {type(locals()[self.orisrc.__name__])}\")\\n'\n",
      " '    return locals()[self.orisrc.__name__]\\n')\n"
     ]
    }
   ],
   "source": [
    "pprint(inspect.getsource(fdbw.dbprint), width=157)"
   ]
  },
  {
   "cell_type": "markdown",
   "id": "1c420fe7",
   "metadata": {},
   "source": [
    "### Create a dbsrc for `fdbw.dbprint`"
   ]
  },
  {
   "cell_type": "code",
   "execution_count": null,
   "id": "40a062a2",
   "metadata": {},
   "outputs": [],
   "source": [
    "fdb = Fastdb(fdbw.dbprint, g)"
   ]
  },
  {
   "cell_type": "code",
   "execution_count": null,
   "id": "5e6256ac",
   "metadata": {},
   "outputs": [
    {
     "name": "stdout",
     "output_type": "stream",
     "text": [
      "('@patch\\n'\n",
      " 'def dbprint(self:Fastdb, \\n'\n",
      " '            dbcode:int, # a srcline under investigation, can be either string or int\\n'\n",
      " '            cmt:str, # comment added to the srcline\\n'\n",
      " '            *codes, # a list of expressions (str) you write to be evaluated above the srcline\\n'\n",
      " '            expand:int=2, # span 2 lines of srcode up and down from the srcline investigated\\n'\n",
      " '            showdbsrc:bool=False): # display dbsrc\\n'\n",
      " '    \"Add comment and evaluate custom (single or multi lines) expressions to any srcline of the source code you are investigating\"\\n'\n",
      " '\\n'\n",
      " '    src = self.orisrc\\n'\n",
      " '    if type(dbcode) == int: self.cmts.update({dbcode: cmt})\\n'\n",
      " '\\n'\n",
      " '    printsrc(src, dbcode, cmt, expand)\\n'\n",
      " '\\n'\n",
      " '    dbsrc = \"\"\\n'\n",
      " '    indent = 4\\n'\n",
      " '    onedbprint = False\\n'\n",
      " '\\n'\n",
      " \"    lst = inspect.getsource(src).split('\\\\n')\\n\"\n",
      " '    if not bool(lst[-1]): lst = lst[:-1]\\n'\n",
      " '\\n'\n",
      " '    newlst = []\\n'\n",
      " '    for i in codes: # no matter whether there is \"\" or \"  \" in the front or in the middle of codes\\n'\n",
      " '        if bool(i.strip()): newlst.append(i)\\n'\n",
      " '    codes = newlst\\n'\n",
      " '\\n'\n",
      " '    srclines = \"\"\\n'\n",
      " '    if type(dbcode) == int:\\n'\n",
      " '        srclines = lst[dbcode]\\n'\n",
      " '    else:\\n'\n",
      " '        srclines = dbcode\\n'\n",
      " '\\n'\n",
      " '    for idx, l in zip(range(len(lst)), lst):\\n'\n",
      " '\\n'\n",
      " '        if bool(l.strip()) and l.strip() in srclines and idx == dbcode: \\n'\n",
      " '\\n'\n",
      " '            if len(codes) > 0: # if the new codes is not empty\\n'\n",
      " '                numindent = len(l) - len(l.strip())\\n'\n",
      " '                dbcodes = \"dbprintinsert(\"\\n'\n",
      " '                count = 1\\n'\n",
      " '                for c in codes:\\n'\n",
      " '                    if count == len(codes):\\n'\n",
      " '                        dbcodes = dbcodes + \\'\"\\' + c + \\'\"\\' + \",\" + \"env=g\" + \")\"\\n'\n",
      " '                    else:\\n'\n",
      " '                        dbcodes = dbcodes + \\'\"\\' + c + \\'\"\\' + \",\"\\n'\n",
      " '                    count = count + 1\\n'\n",
      " '\\n'\n",
      " '                dbsrc = dbsrc + \" \"*numindent + \"g = locals()\" + \\'\\\\n\\'\\n'\n",
      " '                dbsrc = dbsrc + \" \"*numindent + dbcodes + \\'\\\\n\\'\\n'\n",
      " \"                dbsrc = dbsrc + l + '\\\\n'     \\n\"\n",
      " '            else:\\n'\n",
      " \"                dbsrc = dbsrc + l + '\\\\n'                \\n\"\n",
      " '\\n'\n",
      " '        elif bool(l.strip()) and idx + 1 == len(lst):\\n'\n",
      " '            dbsrc = dbsrc + l\\n'\n",
      " '\\n'\n",
      " '        elif bool(l.strip()): # make sure pure indentation + \\\\n is ignored\\n'\n",
      " \"            dbsrc = dbsrc + l + '\\\\n'\\n\"\n",
      " '\\n'\n",
      " '    if showdbsrc: # added to debug\\n'\n",
      " '        totallen = 157\\n'\n",
      " '        lenidx = 5\\n'\n",
      " \"        dblst = dbsrc.split('\\\\n')\\n\"\n",
      " '        for idx, l in zip(range(len(dblst)), dblst):\\n'\n",
      " '            lenl = len(l)\\n'\n",
      " '#             if \"dbprintinsert\" in l: \\n'\n",
      " '            if l.strip().startswith(\"dbprintinsert\"): \\n'\n",
      " '                print(l + \"=\"*(totallen-lenl-lenidx) + \"(db)\")\\n'\n",
      " '            else:\\n'\n",
      " '                print(l + \" \"*(totallen-lenl-lenidx) + \"(\" + str(idx) + \")\")\\n'\n",
      " '        \\n'\n",
      " '        print(f\"before exec, locals(): {list(locals().keys())}\")\\n'\n",
      " '\\n'\n",
      " '    exec(dbsrc, globals().update(self.outenv)) # make sure b can access lst from above\\n'\n",
      " '    if showdbsrc: \\n'\n",
      " '        print(f\"after exec, locals(): {list(locals().keys())}\")\\n'\n",
      " '        print(f\"type(locals()[self.orisrc.__name__]): {type(locals()[self.orisrc.__name__])}\")\\n'\n",
      " '    return locals()[self.orisrc.__name__]\\n')\n"
     ]
    }
   ],
   "source": [
    "pprint(inspect.getsource(fdbw.dbprint), width=157)"
   ]
  },
  {
   "cell_type": "code",
   "execution_count": null,
   "id": "be4c91e0",
   "metadata": {},
   "outputs": [
    {
     "data": {
      "text/plain": [
       "'dbprint'"
      ]
     },
     "execution_count": null,
     "metadata": {},
     "output_type": "execute_result"
    }
   ],
   "source": [
    "fdb.orisrc.__name__"
   ]
  },
  {
   "cell_type": "code",
   "execution_count": null,
   "id": "4343cbb2",
   "metadata": {},
   "outputs": [
    {
     "data": {
      "text/plain": [
       "method"
      ]
     },
     "execution_count": null,
     "metadata": {},
     "output_type": "execute_result"
    }
   ],
   "source": [
    "type(fdb.orisrc)"
   ]
  },
  {
   "cell_type": "code",
   "execution_count": null,
   "id": "e492e081",
   "metadata": {},
   "outputs": [
    {
     "name": "stdout",
     "output_type": "stream",
     "text": [
      "@patch====================================================================================(0)       \n",
      "def dbprint(self:Fastdb, =================================================================(1)       \n",
      "            dbcode:int, # a srcline under investigation, can be either string or int======(2)       \n",
      "            cmt:str, # comment added to the srcline=======================================(3)       \n",
      "            *codes, # a list of expressions (str) you write to be evaluated above the srcline                                                           (4)\n",
      "            expand:int=2, # span 2 lines of srcode up and down from the srcline investigated                                                            (5)\n",
      "            showdbsrc:bool=False): # display dbsrc========================================(6)       \n",
      "    \"Add comment and evaluate custom (single or multi lines) expressions to any srcline of the source code you are investigating\"                       (7)\n",
      "                                                                                                                                                        (8)\n",
      "    src = self.orisrc=====================================================================(9)       \n",
      "    if type(dbcode) == int: self.cmts.update({dbcode: cmt})===============================(10)      \n",
      "                                                                                                                                                        (11)\n",
      "    printsrc(src, dbcode, cmt, expand)====================================================(12)      \n",
      "                                                                                                                                                        (13)\n",
      "    dbsrc = \"\"============================================================================(14)      \n",
      "                                                                                                                                     part No.1 out of 3 parts\n"
     ]
    }
   ],
   "source": [
    "fdb.print(15, 1)"
   ]
  },
  {
   "cell_type": "code",
   "execution_count": null,
   "id": "61b648f1",
   "metadata": {},
   "outputs": [
    {
     "name": "stdout",
     "output_type": "stream",
     "text": [
      "    \"Add comment and evaluate custom (single or multi lines) expressions to any srcline of the source code you are investigating\"                       (7)\n",
      "                                                                                                                                                        (8)\n",
      "    src = self.orisrc===================================================================================================================================(9)\n",
      "                                                                                                                                             \u001b[91mkeep orisrc safe\u001b[0m\n",
      "    if type(dbcode) == int: self.cmts.update({dbcode: cmt})                                                                                             (10)\n",
      "                                                                                                                                                        (11)\n",
      "@patch                                                                                                                                                  (0)\n",
      "def dbprint(self:Fastdb,                                                                                                                                (1)\n",
      "            dbcode:int, # a srcline under investigation, can be either string or int                                                                    (2)\n",
      "            cmt:str, # comment added to the srcline                                                                                                     (3)\n",
      "            *codes, # a list of expressions (str) you write to be evaluated above the srcline                                                           (4)\n",
      "            expand:int=2, # span 2 lines of srcode up and down from the srcline investigated                                                            (5)\n",
      "            showdbsrc:bool=False): # display dbsrc                                                                                                      (6)\n",
      "    \"Add comment and evaluate custom (single or multi lines) expressions to any srcline of the source code you are investigating\"                       (7)\n",
      "    g = locals()                                                                                                                                        (8)\n",
      "    dbprintinsert(\"self.orisrc\",env=g)==================================================================================================================(db)\n",
      "    src = self.orisrc                                                                                                                                   (10)\n",
      "    if type(dbcode) == int: self.cmts.update({dbcode: cmt})                                                                                             (11)\n",
      "    printsrc(src, dbcode, cmt, expand)                                                                                                                  (12)\n",
      "    dbsrc = \"\"                                                                                                                                          (13)\n",
      "    indent = 4                                                                                                                                          (14)\n",
      "    onedbprint = False                                                                                                                                  (15)\n",
      "    lst = inspect.getsource(src).split('\\n')                                                                                                            (16)\n",
      "    if not bool(lst[-1]): lst = lst[:-1]                                                                                                                (17)\n",
      "    newlst = []                                                                                                                                         (18)\n",
      "    for i in codes: # no matter whether there is \"\" or \"  \" in the front or in the middle of codes                                                      (19)\n",
      "        if bool(i.strip()): newlst.append(i)                                                                                                            (20)\n",
      "    codes = newlst                                                                                                                                      (21)\n",
      "    srclines = \"\"                                                                                                                                       (22)\n",
      "    if type(dbcode) == int:                                                                                                                             (23)\n",
      "        srclines = lst[dbcode]                                                                                                                          (24)\n",
      "    else:                                                                                                                                               (25)\n",
      "        srclines = dbcode                                                                                                                               (26)\n",
      "    for idx, l in zip(range(len(lst)), lst):                                                                                                            (27)\n",
      "        if bool(l.strip()) and l.strip() in srclines and idx == dbcode:                                                                                 (28)\n",
      "            if len(codes) > 0: # if the new codes is not empty                                                                                          (29)\n",
      "                numindent = len(l) - len(l.strip())                                                                                                     (30)\n",
      "                dbcodes = \"dbprintinsert(\"                                                                                                              (31)\n",
      "                count = 1                                                                                                                               (32)\n",
      "                for c in codes:                                                                                                                         (33)\n",
      "                    if count == len(codes):                                                                                                             (34)\n",
      "                        dbcodes = dbcodes + '\"' + c + '\"' + \",\" + \"env=g\" + \")\"                                                                         (35)\n",
      "                    else:                                                                                                                               (36)\n",
      "                        dbcodes = dbcodes + '\"' + c + '\"' + \",\"                                                                                         (37)\n",
      "                    count = count + 1                                                                                                                   (38)\n",
      "                dbsrc = dbsrc + \" \"*numindent + \"g = locals()\" + '\\n'                                                                                   (39)\n",
      "                dbsrc = dbsrc + \" \"*numindent + dbcodes + '\\n'                                                                                          (40)\n",
      "                dbsrc = dbsrc + l + '\\n'                                                                                                                (41)\n",
      "            else:                                                                                                                                       (42)\n",
      "                dbsrc = dbsrc + l + '\\n'                                                                                                                (43)\n",
      "        elif bool(l.strip()) and idx + 1 == len(lst):                                                                                                   (44)\n",
      "            dbsrc = dbsrc + l                                                                                                                           (45)\n",
      "        elif bool(l.strip()): # make sure pure indentation + \\n is ignored                                                                              (46)\n",
      "            dbsrc = dbsrc + l + '\\n'                                                                                                                    (47)\n",
      "    if showdbsrc: # added to debug                                                                                                                      (48)\n",
      "        totallen = 157                                                                                                                                  (49)\n",
      "        lenidx = 5                                                                                                                                      (50)\n",
      "        dblst = dbsrc.split('\\n')                                                                                                                       (51)\n",
      "        for idx, l in zip(range(len(dblst)), dblst):                                                                                                    (52)\n",
      "            lenl = len(l)                                                                                                                               (53)\n",
      "#             if \"dbprintinsert\" in l:                                                                                                                  (54)\n",
      "            if l.strip().startswith(\"dbprintinsert\"):                                                                                                   (55)\n",
      "                print(l + \"=\"*(totallen-lenl-lenidx) + \"(db)\")                                                                                          (56)\n",
      "            else:                                                                                                                                       (57)\n",
      "                print(l + \" \"*(totallen-lenl-lenidx) + \"(\" + str(idx) + \")\")                                                                            (58)\n",
      "        print(f\"before exec, locals(): {list(locals().keys())}\")                                                                                        (59)\n",
      "    exec(dbsrc, globals().update(self.outenv)) # make sure b can access lst from above                                                                  (60)\n",
      "    if showdbsrc:                                                                                                                                       (61)\n",
      "        print(f\"after exec, locals(): {list(locals().keys())}\")                                                                                         (62)\n",
      "        print(f\"type(locals()[self.orisrc.__name__]): {type(locals()[self.orisrc.__name__])}\")                                                          (63)\n",
      "    return locals()[self.orisrc.__name__]                                                                                                               (64)\n",
      "before exec, locals(): ['self', 'dbcode', 'cmt', 'expand', 'showdbsrc', 'codes', 'src', 'dbsrc', 'indent', 'onedbprint', 'lst', 'newlst', 'i', 'srclines', 'idx', 'l', 'numindent', 'dbcodes', 'count', 'c', 'totallen', 'lenidx', 'dblst', 'lenl']\n",
      "after exec, locals(): ['self', 'dbcode', 'cmt', 'expand', 'showdbsrc', 'codes', 'src', 'dbsrc', 'indent', 'onedbprint', 'lst', 'newlst', 'i', 'srclines', 'idx', 'l', 'numindent', 'dbcodes', 'count', 'c', 'totallen', 'lenidx', 'dblst', 'lenl', 'dbprint']\n",
      "type(locals()[self.orisrc.__name__]): <class 'NoneType'>\n"
     ]
    }
   ],
   "source": [
    "dbsrc = fdb.dbprint(9, \"keep orisrc safe\", \"self.orisrc\", showdbsrc=True)"
   ]
  },
  {
   "cell_type": "code",
   "execution_count": null,
   "id": "f7d3e083",
   "metadata": {},
   "outputs": [],
   "source": [
    "# pprint(inspect.getsource(fdbw.dbprint), width=157) # no source"
   ]
  },
  {
   "cell_type": "code",
   "execution_count": null,
   "id": "59378559",
   "metadata": {},
   "outputs": [
    {
     "data": {
      "text/plain": [
       "True"
      ]
     },
     "execution_count": null,
     "metadata": {},
     "output_type": "execute_result"
    }
   ],
   "source": [
    "\"Fastdb\" in list(g.keys())"
   ]
  },
  {
   "cell_type": "code",
   "execution_count": null,
   "id": "0a983da9",
   "metadata": {},
   "outputs": [
    {
     "data": {
      "text/plain": [
       "True"
      ]
     },
     "execution_count": null,
     "metadata": {},
     "output_type": "execute_result"
    }
   ],
   "source": [
    "\"dbprint\" in list(g.keys())"
   ]
  },
  {
   "cell_type": "code",
   "execution_count": null,
   "id": "3493be9c",
   "metadata": {},
   "outputs": [],
   "source": [
    "g['dbprint']"
   ]
  },
  {
   "cell_type": "code",
   "execution_count": null,
   "id": "653ae171",
   "metadata": {},
   "outputs": [
    {
     "data": {
      "text/plain": [
       "function"
      ]
     },
     "execution_count": null,
     "metadata": {},
     "output_type": "execute_result"
    }
   ],
   "source": [
    "type(g['Fastdb'].dbprint)"
   ]
  },
  {
   "cell_type": "code",
   "execution_count": null,
   "id": "9b1e59d5",
   "metadata": {},
   "outputs": [
    {
     "data": {
      "text/plain": [
       "<Signature (self: fastdebug.core.Fastdb, dbcode: int, cmt: str, *codes, expand: int = 2, showdbsrc: bool = False)>"
      ]
     },
     "execution_count": null,
     "metadata": {},
     "output_type": "execute_result"
    }
   ],
   "source": [
    "inspect.signature(g['Fastdb'].dbprint)"
   ]
  },
  {
   "cell_type": "code",
   "execution_count": null,
   "id": "10658c2f",
   "metadata": {},
   "outputs": [
    {
     "data": {
      "text/plain": [
       "<function fastdebug.utils.Fastdb.dbprint(self: fastdebug.core.Fastdb, dbcode: int, cmt: str, *codes, expand: int = 2, showdbsrc: bool = False)>"
      ]
     },
     "execution_count": null,
     "metadata": {},
     "output_type": "execute_result"
    }
   ],
   "source": [
    "g['Fastdb'].dbprint"
   ]
  },
  {
   "cell_type": "code",
   "execution_count": null,
   "id": "4dec9ec6",
   "metadata": {},
   "outputs": [],
   "source": [
    "fdbw.dbprint = g['Fastdb'].dbprint"
   ]
  },
  {
   "cell_type": "markdown",
   "id": "869dadc3",
   "metadata": {},
   "source": [
    "### Will the example in the section above use our db version of `Fastdb.dbprint`?"
   ]
  },
  {
   "cell_type": "code",
   "execution_count": null,
   "id": "08930176",
   "metadata": {},
   "outputs": [
    {
     "name": "stdout",
     "output_type": "stream",
     "text": [
      "\n",
      "\n",
      "'int' object has no attribute 'orisrc'\n",
      "\n",
      "\n",
      "                                                           mo => mo : <module 'fastdebug.utils' from '/Users/Natsume/Documents/fastdebug/fastdebug/utils.py'>\n",
      "\n",
      "\n",
      "                                                                                                                      type(mo) => type(mo) : <class 'module'>\n",
      "\n",
      "\n",
      "                                                                                                        type(mo.__all__) => type(mo.__all__) : <class 'list'>\n",
      "fastdebug.utils has: \n",
      "3 items in its __all__, and \n",
      "123 user defined functions, \n",
      "18 classes or class objects, \n",
      "1 builtin funcs and methods, and\n",
      "144 callables.\n",
      "\n"
     ]
    }
   ],
   "source": [
    "try:\n",
    "    dbw = fdbw.dbprint(9, \"what is mo?\", \"mo\", \"type(mo)\", \"type(mo.__all__)\")\n",
    "except AttributeError as e:\n",
    "    print(e)\n",
    "whatinside = dbw\n",
    "whatinside(core)"
   ]
  },
  {
   "cell_type": "markdown",
   "id": "4fe9bd18",
   "metadata": {},
   "source": [
    "## Dot it in a more natural and ordered way"
   ]
  },
  {
   "cell_type": "markdown",
   "id": "a1992c27",
   "metadata": {},
   "source": [
    "### Create Fastdb object on Fastdb.dbprint"
   ]
  },
  {
   "cell_type": "code",
   "execution_count": null,
   "id": "3b9c5c0a",
   "metadata": {},
   "outputs": [
    {
     "data": {
      "text/plain": [
       "181"
      ]
     },
     "execution_count": null,
     "metadata": {},
     "output_type": "execute_result"
    }
   ],
   "source": [
    "g = {}\n",
    "g.update(Fastdb.dbprint.__globals__)\n",
    "len(g)"
   ]
  },
  {
   "cell_type": "code",
   "execution_count": null,
   "id": "d19310ee",
   "metadata": {},
   "outputs": [
    {
     "data": {
      "text/plain": [
       "False"
      ]
     },
     "execution_count": null,
     "metadata": {},
     "output_type": "execute_result"
    }
   ],
   "source": [
    "'Fastdb.dbprint' in g"
   ]
  },
  {
   "cell_type": "code",
   "execution_count": null,
   "id": "750276df",
   "metadata": {},
   "outputs": [
    {
     "data": {
      "text/plain": [
       "True"
      ]
     },
     "execution_count": null,
     "metadata": {},
     "output_type": "execute_result"
    }
   ],
   "source": [
    "'Fastdb' in g"
   ]
  },
  {
   "cell_type": "code",
   "execution_count": null,
   "id": "dfa29837",
   "metadata": {},
   "outputs": [
    {
     "data": {
      "text/plain": [
       "True"
      ]
     },
     "execution_count": null,
     "metadata": {},
     "output_type": "execute_result"
    }
   ],
   "source": [
    "'dbprint' in g"
   ]
  },
  {
   "cell_type": "code",
   "execution_count": null,
   "id": "b8cc93c3",
   "metadata": {},
   "outputs": [],
   "source": [
    "g['dbprint']"
   ]
  },
  {
   "cell_type": "code",
   "execution_count": null,
   "id": "bdd647ac",
   "metadata": {},
   "outputs": [
    {
     "data": {
      "text/plain": [
       "<function fastdebug.utils.Fastdb.dbprint(self: fastdebug.core.Fastdb, dbcode: int, cmt: str, *codes, expand: int = 2, showdbsrc: bool = False)>"
      ]
     },
     "execution_count": null,
     "metadata": {},
     "output_type": "execute_result"
    }
   ],
   "source": [
    "g['Fastdb'].dbprint"
   ]
  },
  {
   "cell_type": "code",
   "execution_count": null,
   "id": "764f1fe9",
   "metadata": {},
   "outputs": [
    {
     "ename": "OSError",
     "evalue": "could not get source code",
     "output_type": "error",
     "traceback": [
      "\u001b[0;31m---------------------------------------------------------------------------\u001b[0m",
      "\u001b[0;31mOSError\u001b[0m                                   Traceback (most recent call last)",
      "Input \u001b[0;32mIn [54]\u001b[0m, in \u001b[0;36m<cell line: 1>\u001b[0;34m()\u001b[0m\n\u001b[0;32m----> 1\u001b[0m \u001b[43minspect\u001b[49m\u001b[38;5;241;43m.\u001b[39;49m\u001b[43mgetsource\u001b[49m\u001b[43m(\u001b[49m\u001b[43mg\u001b[49m\u001b[43m[\u001b[49m\u001b[38;5;124;43m'\u001b[39;49m\u001b[38;5;124;43mFastdb\u001b[39;49m\u001b[38;5;124;43m'\u001b[39;49m\u001b[43m]\u001b[49m\u001b[38;5;241;43m.\u001b[39;49m\u001b[43mdbprint\u001b[49m\u001b[43m)\u001b[49m\n",
      "File \u001b[0;32m~/mambaforge/lib/python3.9/inspect.py:1024\u001b[0m, in \u001b[0;36mgetsource\u001b[0;34m(object)\u001b[0m\n\u001b[1;32m   1018\u001b[0m \u001b[38;5;28;01mdef\u001b[39;00m \u001b[38;5;21mgetsource\u001b[39m(\u001b[38;5;28mobject\u001b[39m):\n\u001b[1;32m   1019\u001b[0m     \u001b[38;5;124;03m\"\"\"Return the text of the source code for an object.\u001b[39;00m\n\u001b[1;32m   1020\u001b[0m \n\u001b[1;32m   1021\u001b[0m \u001b[38;5;124;03m    The argument may be a module, class, method, function, traceback, frame,\u001b[39;00m\n\u001b[1;32m   1022\u001b[0m \u001b[38;5;124;03m    or code object.  The source code is returned as a single string.  An\u001b[39;00m\n\u001b[1;32m   1023\u001b[0m \u001b[38;5;124;03m    OSError is raised if the source code cannot be retrieved.\"\"\"\u001b[39;00m\n\u001b[0;32m-> 1024\u001b[0m     lines, lnum \u001b[38;5;241m=\u001b[39m \u001b[43mgetsourcelines\u001b[49m\u001b[43m(\u001b[49m\u001b[38;5;28;43mobject\u001b[39;49m\u001b[43m)\u001b[49m\n\u001b[1;32m   1025\u001b[0m     \u001b[38;5;28;01mreturn\u001b[39;00m \u001b[38;5;124m'\u001b[39m\u001b[38;5;124m'\u001b[39m\u001b[38;5;241m.\u001b[39mjoin(lines)\n",
      "File \u001b[0;32m~/mambaforge/lib/python3.9/inspect.py:1006\u001b[0m, in \u001b[0;36mgetsourcelines\u001b[0;34m(object)\u001b[0m\n\u001b[1;32m    998\u001b[0m \u001b[38;5;124;03m\"\"\"Return a list of source lines and starting line number for an object.\u001b[39;00m\n\u001b[1;32m    999\u001b[0m \n\u001b[1;32m   1000\u001b[0m \u001b[38;5;124;03mThe argument may be a module, class, method, function, traceback, frame,\u001b[39;00m\n\u001b[0;32m   (...)\u001b[0m\n\u001b[1;32m   1003\u001b[0m \u001b[38;5;124;03moriginal source file the first line of code was found.  An OSError is\u001b[39;00m\n\u001b[1;32m   1004\u001b[0m \u001b[38;5;124;03mraised if the source code cannot be retrieved.\"\"\"\u001b[39;00m\n\u001b[1;32m   1005\u001b[0m \u001b[38;5;28mobject\u001b[39m \u001b[38;5;241m=\u001b[39m unwrap(\u001b[38;5;28mobject\u001b[39m)\n\u001b[0;32m-> 1006\u001b[0m lines, lnum \u001b[38;5;241m=\u001b[39m \u001b[43mfindsource\u001b[49m\u001b[43m(\u001b[49m\u001b[38;5;28;43mobject\u001b[39;49m\u001b[43m)\u001b[49m\n\u001b[1;32m   1008\u001b[0m \u001b[38;5;28;01mif\u001b[39;00m istraceback(\u001b[38;5;28mobject\u001b[39m):\n\u001b[1;32m   1009\u001b[0m     \u001b[38;5;28mobject\u001b[39m \u001b[38;5;241m=\u001b[39m \u001b[38;5;28mobject\u001b[39m\u001b[38;5;241m.\u001b[39mtb_frame\n",
      "File \u001b[0;32m~/mambaforge/lib/python3.9/inspect.py:835\u001b[0m, in \u001b[0;36mfindsource\u001b[0;34m(object)\u001b[0m\n\u001b[1;32m    833\u001b[0m     lines \u001b[38;5;241m=\u001b[39m linecache\u001b[38;5;241m.\u001b[39mgetlines(file)\n\u001b[1;32m    834\u001b[0m \u001b[38;5;28;01mif\u001b[39;00m \u001b[38;5;129;01mnot\u001b[39;00m lines:\n\u001b[0;32m--> 835\u001b[0m     \u001b[38;5;28;01mraise\u001b[39;00m \u001b[38;5;167;01mOSError\u001b[39;00m(\u001b[38;5;124m'\u001b[39m\u001b[38;5;124mcould not get source code\u001b[39m\u001b[38;5;124m'\u001b[39m)\n\u001b[1;32m    837\u001b[0m \u001b[38;5;28;01mif\u001b[39;00m ismodule(\u001b[38;5;28mobject\u001b[39m):\n\u001b[1;32m    838\u001b[0m     \u001b[38;5;28;01mreturn\u001b[39;00m lines, \u001b[38;5;241m0\u001b[39m\n",
      "\u001b[0;31mOSError\u001b[0m: could not get source code"
     ]
    }
   ],
   "source": [
    "inspect.getsource(g['Fastdb'].dbprint)"
   ]
  },
  {
   "cell_type": "code",
   "execution_count": null,
   "id": "16f91c60",
   "metadata": {},
   "outputs": [],
   "source": []
  }
 ],
 "metadata": {
  "kernelspec": {
   "display_name": "Python 3 (ipykernel)",
   "language": "python",
   "name": "python3"
  }
 },
 "nbformat": 4,
 "nbformat_minor": 5
}
