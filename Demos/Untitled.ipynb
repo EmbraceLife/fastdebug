{
 "cells": [
  {
   "cell_type": "code",
   "execution_count": null,
   "id": "da227236",
   "metadata": {},
   "outputs": [
    {
     "data": {
      "text/html": [
       "<style>.container { width:100% !important; }</style>"
      ],
      "text/plain": [
       "<IPython.core.display.HTML object>"
      ]
     },
     "metadata": {},
     "output_type": "display_data"
    }
   ],
   "source": [
    "from fastdebug.utils import *\n",
    "from fastdebug.core import *\n",
    "from fastcore.meta import *"
   ]
  },
  {
   "cell_type": "markdown",
   "id": "18e9371e",
   "metadata": {},
   "source": [
    "## Reading official docs"
   ]
  },
  {
   "cell_type": "markdown",
   "id": "c478cbf8",
   "metadata": {},
   "source": [
    "BypassNewMeta\n",
    "> BypassNewMeta (name, bases, dict)     \n",
    "\n",
    "Metaclass: casts x to this class if it's of type cls._bypass_type\n",
    "\n",
    "BypassNewMeta is identical to NewChkMeta, except for checking for a class as the same type, we instead check for a class of type specified in attribute _bypass_type.\n",
    "\n",
    "In NewChkMeta, objects of the same type passed to the constructor (without arguments) would result into a new variable referencing the same object. \n",
    "\n",
    "However, with BypassNewMeta this only occurs if the type matches the `_bypass_type` of the class you are defining:"
   ]
  },
  {
   "cell_type": "code",
   "execution_count": null,
   "id": "bcddeb12",
   "metadata": {},
   "outputs": [],
   "source": [
    "class _TestA: pass\n",
    "class _TestB: pass\n",
    "\n",
    "class _T(_TestA, metaclass=BypassNewMeta):\n",
    "    _bypass_type=_TestB\n",
    "    def __init__(self,x): self.x=x"
   ]
  },
  {
   "cell_type": "markdown",
   "id": "6f686baf",
   "metadata": {},
   "source": [
    "In the below example, t does not refer to t2 because t is of type _TestA while _T._bypass_type is of type TestB:"
   ]
  },
  {
   "cell_type": "code",
   "execution_count": null,
   "id": "51606e75",
   "metadata": {},
   "outputs": [],
   "source": [
    "t = _TestA()\n",
    "t2 = _T(t)\n",
    "assert t is not t2"
   ]
  },
  {
   "cell_type": "markdown",
   "id": "49a8e0e4",
   "metadata": {},
   "source": [
    "However, if t is set to _TestB to match _T._bypass_type, then both t and t2 will refer to the same object."
   ]
  },
  {
   "cell_type": "code",
   "execution_count": null,
   "id": "7e124641",
   "metadata": {},
   "outputs": [],
   "source": [
    "t = _TestB()\n",
    "t2 = _T(t)\n",
    "t2.new_attr = 15\n",
    "\n",
    "test_is(t, t2)\n",
    "# since t2 just references t these will be the same\n",
    "test_eq(t.new_attr, t2.new_attr)\n",
    "\n",
    "# likewise, chaning an attribute on t will also affect t2 because they both point to the same object.\n",
    "t.new_attr = 9\n",
    "test_eq(t2.new_attr, 9)"
   ]
  },
  {
   "cell_type": "code",
   "execution_count": null,
   "id": "eb0e91e8",
   "metadata": {},
   "outputs": [
    {
     "data": {
      "text/plain": [
       "4536728048"
      ]
     },
     "execution_count": null,
     "metadata": {},
     "output_type": "execute_result"
    }
   ],
   "source": [
    "t = _TestB(); t\n",
    "isinstance(t, _TestB)\n",
    "id(_TestB)\n",
    "# t2 = _T(t)\n",
    "# t, t2"
   ]
  },
  {
   "cell_type": "markdown",
   "id": "3e6c53a2",
   "metadata": {},
   "source": [
    "## Inspecting class"
   ]
  },
  {
   "cell_type": "code",
   "execution_count": null,
   "id": "7730267a",
   "metadata": {},
   "outputs": [
    {
     "name": "stdout",
     "output_type": "stream",
     "text": [
      "class BypassNewMeta(FixSigMeta):\n",
      "    \"Metaclass: casts `x` to this class if it's of type `cls._bypass_type`\"\n",
      "    def __call__(cls, x=None, *args, **kwargs):\n",
      "        if hasattr(cls, '_new_meta'): x = cls._new_meta(x, *args, **kwargs)\n",
      "        elif not isinstance(x,getattr(cls,'_bypass_type',object)) or len(args) or len(kwargs):\n",
      "            x = super().__call__(*((x,)+args), **kwargs)\n",
      "        if cls!=x.__class__: x.__class__ = cls\n",
      "        return x\n",
      "\n",
      "\n",
      "is BypassNewMeta a metaclass: True\n",
      "is BypassNewMeta created by a metaclass: False\n",
      "BypassNewMeta is created by <class 'type'>\n",
      "BypassNewMeta.__new__ is object.__new__: False\n",
      "BypassNewMeta.__new__ is type.__new__: False\n",
      "BypassNewMeta.__new__: <function FixSigMeta.__new__>\n",
      "BypassNewMeta.__init__ is object.__init__: False\n",
      "BypassNewMeta.__init__ is type.__init__: True\n",
      "BypassNewMeta.__init__: <slot wrapper '__init__' of 'type' objects>\n",
      "BypassNewMeta.__call__ is object.__call__: False\n",
      "BypassNewMeta.__call__ is type.__call__: False\n",
      "BypassNewMeta.__call__: <function BypassNewMeta.__call__>\n",
      "BypassNewMeta.__class__: <class 'type'>\n",
      "BypassNewMeta.__bases__: (<class 'fastcore.meta.FixSigMeta'>,)\n",
      "BypassNewMeta.__mro__: (<class 'fastcore.meta.BypassNewMeta'>, <class 'fastcore.meta.FixSigMeta'>, <class 'type'>, <class 'object'>)\n",
      "\n",
      "BypassNewMeta's function members are:\n",
      "{'__call__': <function BypassNewMeta.__call__>,\n",
      " '__new__': <function FixSigMeta.__new__>}\n",
      "\n",
      "BypassNewMeta's method members are:\n",
      "{}\n",
      "\n",
      "BypassNewMeta's class members are:\n",
      "{'__base__': <class 'fastcore.meta.FixSigMeta'>, '__class__': <class 'type'>}\n",
      "\n",
      "BypassNewMeta's namespace are:\n",
      "mappingproxy({'__call__': <function BypassNewMeta.__call__>,\n",
      "              '__doc__': \"Metaclass: casts `x` to this class if it's of type \"\n",
      "                         '`cls._bypass_type`',\n",
      "              '__module__': 'fastcore.meta'})\n"
     ]
    }
   ],
   "source": [
    "inspect_class(BypassNewMeta)"
   ]
  },
  {
   "cell_type": "markdown",
   "id": "db0ff754",
   "metadata": {},
   "source": [
    "## Initiating"
   ]
  },
  {
   "cell_type": "code",
   "execution_count": null,
   "id": "22c2679b",
   "metadata": {},
   "outputs": [],
   "source": [
    "g = locals()\n",
    "fdb = Fastdb(BypassNewMeta, outloc=g)\n",
    "fdb.eg = \"\"\"\n",
    "class _TestA: pass\n",
    "class _TestB: pass\n",
    "\n",
    "print(id(_TestB))\n",
    "class _T(_TestA, metaclass=BypassNewMeta):\n",
    "    _bypass_type=_TestB\n",
    "    def __init__(self,x): self.x=x\n",
    "\n",
    "t = _TestA()\n",
    "t2 = _T(t)\n",
    "assert t is not t2\n",
    "\"\"\"\n",
    "\n",
    "fdb.eg = \"\"\"\n",
    "class _TestA: pass\n",
    "class _TestB: pass\n",
    "\n",
    "class _T(_TestA, metaclass=BypassNewMeta):\n",
    "    _bypass_type=_TestB\n",
    "    def __init__(self,x): self.x=x\n",
    "\n",
    "t = _TestB()\n",
    "t2 = _T(t)\n",
    "# t2.new_attr = 15\n",
    "\n",
    "# test_is(t, t2)\n",
    "# since t2 just references t these will be the same\n",
    "# test_eq(t.new_attr, t2.new_attr)\n",
    "\n",
    "# likewise, chaning an attribute on t will also affect t2 because they both point to the same object.\n",
    "# t.new_attr = 9\n",
    "# test_eq(t2.new_attr, 9)\n",
    "\"\"\""
   ]
  },
  {
   "cell_type": "code",
   "execution_count": null,
   "id": "9c20187d",
   "metadata": {},
   "outputs": [
    {
     "name": "stderr",
     "output_type": "stream",
     "text": [
      "20:46:39.38 >>> Call to BypassNewMeta.__call__ in File \"/tmp/BypassNewMeta.py\", line 5\n",
      "20:46:39.38 .......... cls = <class '__main__._T'>\n",
      "20:46:39.38 .......... x = <__main__._TestB object>\n",
      "20:46:39.38 .......... args = ()\n",
      "20:46:39.38 .......... kwargs = {}\n",
      "20:46:39.38 .......... __class__ = <class 'fastcore.meta.BypassNewMeta'>\n",
      "20:46:39.38    5 |     def __call__(cls, x=None, *args, **kwargs):\n",
      "20:46:39.38    6 |         if hasattr(cls, '_new_meta'): x = cls._new_meta(x, *args, **kwargs)\n",
      "20:46:39.38    7 |         elif not isinstance(x,getattr(cls,'_bypass_type',object)) or len(args) or len(kwargs):\n",
      "20:46:39.38    8 |             x = super().__call__(*((x,)+args), **kwargs)\n",
      "20:46:39.38 .................. x = <__main__._T object>\n",
      "20:46:39.38    9 |         if cls!=x.__class__: x.__class__ = cls\n",
      "20:46:39.38   10 |         return x\n",
      "20:46:39.38 <<< Return value from BypassNewMeta.__call__: <__main__._T object>\n"
     ]
    },
    {
     "name": "stdout",
     "output_type": "stream",
     "text": [
      "======================================================     Investigating \u001b[91;1mBypassNewMeta\u001b[0m     =======================================================\n",
      "==============================================================     on line \u001b[91;1mNone\u001b[0m     ==============================================================\n",
      "     with example \u001b[91;1m\n",
      "class _TestA: pass\n",
      "class _TestB: pass\n",
      "\n",
      "class _T(_TestA, metaclass=BypassNewMeta):\n",
      "    _bypass_type=_TestB\n",
      "    def __init__(self,x): self.x=x\n",
      "\n",
      "t = _TestB()\n",
      "t2 = _T(t)\n",
      "# t2.new_attr = 15\n",
      "\n",
      "# test_is(t, t2)\n",
      "# since t2 just references t these will be the same\n",
      "# test_eq(t.new_attr, t2.new_attr)\n",
      "\n",
      "# likewise, chaning an attribute on t will also affect t2 because they both point to the same object.\n",
      "# t.new_attr = 9\n",
      "# test_eq(t2.new_attr, 9)\n",
      "\u001b[0m     \n",
      "\n"
     ]
    }
   ],
   "source": [
    "fdb.snoop()"
   ]
  },
  {
   "cell_type": "code",
   "execution_count": null,
   "id": "1d56b4e9",
   "metadata": {},
   "outputs": [
    {
     "name": "stdout",
     "output_type": "stream",
     "text": [
      "BypassNewMeta's dbsrc code: ==============\n",
      "class BypassNewMeta(FixSigMeta):\n",
      "    \"Metaclass: casts `x` to this class if it's of type `cls._bypass_type`\"\n",
      "    import snoop\n",
      "    @snoop\n",
      "    def __call__(cls, x=None, *args, **kwargs):\n",
      "        if hasattr(cls, '_new_meta'): x = cls._new_meta(x, *args, **kwargs)\n",
      "        elif not isinstance(x,getattr(cls,'_bypass_type',object)) or len(args) or len(kwargs):\n",
      "            x = super().__call__(*((x,)+args), **kwargs)\n",
      "        if cls!=x.__class__: x.__class__ = cls\n",
      "        return x\n",
      "\n",
      "\n",
      "\n",
      "BypassNewMeta's example processed with dbsrc: ===============\n",
      "\n",
      "class _TestA: pass\n",
      "class _TestB: pass\n",
      "\n",
      "class _T(_TestA, metaclass=self.dbsrc):\n",
      "    _bypass_type=_TestB\n",
      "    def __init__(self,x): self.x=x\n",
      "\n",
      "t = _TestB()\n",
      "t2 = _T(t)\n",
      "# t2.new_attr = 15\n",
      "\n",
      "# test_is(t, t2)\n",
      "# since t2 just references t these will be the same\n",
      "# test_eq(t.new_attr, t2.new_attr)\n",
      "\n",
      "# likewise, chaning an attribute on t will also affect t2 because they both point to the same object.\n",
      "# t.new_attr = 9\n",
      "# test_eq(t2.new_attr, 9)\n",
      "\n",
      "\n"
     ]
    }
   ],
   "source": [
    "fdb.debug()"
   ]
  },
  {
   "cell_type": "code",
   "execution_count": null,
   "id": "7ad09efa",
   "metadata": {},
   "outputs": [
    {
     "name": "stdout",
     "output_type": "stream",
     "text": [
      "======================================================     Investigating \u001b[91;1mBypassNewMeta\u001b[0m     =======================================================\n",
      "===============================================================     on line \u001b[91;1m3\u001b[0m     ================================================================\n",
      "     with example \u001b[91;1m\n",
      "class _TestA: pass\n",
      "class _TestB: pass\n",
      "\n",
      "class _T(_TestA, metaclass=BypassNewMeta):\n",
      "    _bypass_type=_TestB\n",
      "    def __init__(self,x): self.x=x\n",
      "\n",
      "t = _TestB()\n",
      "t2 = _T(t)\n",
      "# t2.new_attr = 15\n",
      "\n",
      "# test_is(t, t2)\n",
      "# since t2 just references t these will be the same\n",
      "# test_eq(t.new_attr, t2.new_attr)\n",
      "\n",
      "# likewise, chaning an attribute on t will also affect t2 because they both point to the same object.\n",
      "# t.new_attr = 9\n",
      "# test_eq(t2.new_attr, 9)\n",
      "\u001b[0m     \n",
      "\n",
      "\u001b[93;1mprint selected srcline with expands below\u001b[0m--------\n",
      "    \"Metaclass: casts `x` to this class if it's of type `cls._bypass_type`\"                                                                             (1)\n",
      "    def __call__(cls, x=None, *args, **kwargs):                                                                                                         (2)\n",
      "        if hasattr(cls, '_new_meta'): x = cls._new_meta(x, *args, **kwargs)=============================================================================(3)\n",
      "                                                                                                                                                         \u001b[91;1mtest\u001b[0m\n",
      "        elif not isinstance(x,getattr(cls,'_bypass_type',object)) or len(args) or len(kwargs):                                                          (4)\n",
      "            x = super().__call__(*((x,)+args), **kwargs)                                                                                                (5)\n",
      "\n",
      "==================================================================================================================\u001b[91;1mStart of my srcline exploration:\u001b[0m\n",
      "\n",
      "\n",
      "                                                                                                             x => x : <__main__._TestB object>\n",
      "\n",
      "\n",
      "                                                                                                                           cls => cls : <class '__main__._T'>\n",
      "\n",
      "\n",
      "                                                         getattr(cls,'_bypass_type',object) => getattr(cls,'_bypass_type',object) : <class '__main__._TestB'>\n",
      "\n",
      "\n",
      "                                                                                                                        id(_TestB) => id(_TestB) : 4536728048\n",
      "\n",
      "\n",
      "                                                                                                       isinstance(x, _TestB) => isinstance(x, _TestB) : False\n",
      "\n",
      "\n",
      "                                                 isinstance(x,getattr(cls,'_bypass_type',object)) => isinstance(x,getattr(cls,'_bypass_type',object)) : False\n",
      "====================================================================================================================\u001b[91;1mEnd of my srcline exploration:\u001b[0m\n",
      "\n",
      "\n",
      "\u001b[93;1mReview srcode with all comments added so far\u001b[0m======================================================================================================\n",
      "class BypassNewMeta(FixSigMeta):==========================================================(0)       \n",
      "    \"Metaclass: casts `x` to this class if it's of type `cls._bypass_type`\"===============(1)       \n",
      "    def __call__(cls, x=None, *args, **kwargs):===========================================(2)       \n",
      "        if hasattr(cls, '_new_meta'): x = cls._new_meta(x, *args, **kwargs)===============(3) # \u001b[34;1mtest\u001b[0m; \n",
      "        elif not isinstance(x,getattr(cls,'_bypass_type',object)) or len(args) or len(kwargs):                                                          (4)\n",
      "            x = super().__call__(*((x,)+args), **kwargs)==================================(5)       \n",
      "        if cls!=x.__class__: x.__class__ = cls============================================(6)       \n",
      "        return x==========================================================================(7)       \n",
      "                                                                                                                                                        (8)\n",
      "                                                                                                                                     part No.1 out of 1 parts\n",
      "\n"
     ]
    }
   ],
   "source": [
    "fdb.docsrc(3, \"test\", \"x\", \"cls\", \"getattr(cls,'_bypass_type',object)\", \"id(_TestB)\", \"isinstance(x, _TestB)\", \"isinstance(x,getattr(cls,'_bypass_type',object))\")"
   ]
  },
  {
   "cell_type": "code",
   "execution_count": null,
   "id": "16493c3c",
   "metadata": {},
   "outputs": [
    {
     "name": "stderr",
     "output_type": "stream",
     "text": [
      "20:46:39.40 >>> Call to BypassNewMeta.__call__ in File \"/tmp/BypassNewMeta.py\", line 5\n",
      "20:46:39.40 .......... cls = <class '__main__._T'>\n",
      "20:46:39.40 .......... x = <__main__._TestB object>\n",
      "20:46:39.40 .......... args = ()\n",
      "20:46:39.40 .......... kwargs = {}\n",
      "20:46:39.40 .......... __class__ = <class 'fastcore.meta.BypassNewMeta'>\n",
      "20:46:39.40 .......... cls._bypass_type = <class '__main__._TestB'>\n",
      "20:46:39.40 .......... isinstance(x,getattr(cls,'_bypass_type',object)) = False\n",
      "20:46:39.40    5 |     def __call__(cls, x=None, *args, **kwargs):\n",
      "20:46:39.40    6 |         if hasattr(cls, '_new_meta'): x = cls._new_meta(x, *args, **kwargs)\n",
      "20:46:39.40    7 |         elif not isinstance(x,getattr(cls,'_bypass_type',object)) or len(args) or len(kwargs):\n",
      "20:46:39.40    8 |             x = super().__call__(*((x,)+args), **kwargs)\n",
      "20:46:39.40 .................. x = <__main__._T object>\n",
      "20:46:39.40    9 |         if cls!=x.__class__: x.__class__ = cls\n",
      "20:46:39.40   10 |         return x\n",
      "20:46:39.40 <<< Return value from BypassNewMeta.__call__: <__main__._T object>\n"
     ]
    },
    {
     "name": "stdout",
     "output_type": "stream",
     "text": [
      "======================================================     Investigating \u001b[91;1mBypassNewMeta\u001b[0m     =======================================================\n",
      "==============================================================     on line \u001b[91;1mNone\u001b[0m     ==============================================================\n",
      "     with example \u001b[91;1m\n",
      "class _TestA: pass\n",
      "class _TestB: pass\n",
      "\n",
      "class _T(_TestA, metaclass=BypassNewMeta):\n",
      "    _bypass_type=_TestB\n",
      "    def __init__(self,x): self.x=x\n",
      "\n",
      "t = _TestB()\n",
      "t2 = _T(t)\n",
      "# t2.new_attr = 15\n",
      "\n",
      "# test_is(t, t2)\n",
      "# since t2 just references t these will be the same\n",
      "# test_eq(t.new_attr, t2.new_attr)\n",
      "\n",
      "# likewise, chaning an attribute on t will also affect t2 because they both point to the same object.\n",
      "# t.new_attr = 9\n",
      "# test_eq(t2.new_attr, 9)\n",
      "\u001b[0m     \n",
      "\n"
     ]
    }
   ],
   "source": [
    "fdb.snoop(['cls._bypass_type', \"isinstance(x,getattr(cls,'_bypass_type',object))\"])"
   ]
  },
  {
   "cell_type": "code",
   "execution_count": null,
   "id": "f6b69051",
   "metadata": {},
   "outputs": [
    {
     "name": "stdout",
     "output_type": "stream",
     "text": [
      "BypassNewMeta's dbsrc code: ==============\n",
      "class BypassNewMeta(FixSigMeta):\n",
      "    \"Metaclass: casts `x` to this class if it's of type `cls._bypass_type`\"\n",
      "    import snoop\n",
      "    @snoop(watch=(\"cls._bypass_type\",\"isinstance(x,getattr(cls,'_bypass_type',object))\"))\n",
      "    def __call__(cls, x=None, *args, **kwargs):\n",
      "        if hasattr(cls, '_new_meta'): x = cls._new_meta(x, *args, **kwargs)\n",
      "        elif not isinstance(x,getattr(cls,'_bypass_type',object)) or len(args) or len(kwargs):\n",
      "            x = super().__call__(*((x,)+args), **kwargs)\n",
      "        if cls!=x.__class__: x.__class__ = cls\n",
      "        return x\n",
      "\n",
      "\n",
      "\n",
      "BypassNewMeta's example processed with dbsrc: ===============\n",
      "\n",
      "class _TestA: pass\n",
      "class _TestB: pass\n",
      "\n",
      "class _T(_TestA, metaclass=self.dbsrc):\n",
      "    _bypass_type=_TestB\n",
      "    def __init__(self,x): self.x=x\n",
      "\n",
      "t = _TestB()\n",
      "t2 = _T(t)\n",
      "# t2.new_attr = 15\n",
      "\n",
      "# test_is(t, t2)\n",
      "# since t2 just references t these will be the same\n",
      "# test_eq(t.new_attr, t2.new_attr)\n",
      "\n",
      "# likewise, chaning an attribute on t will also affect t2 because they both point to the same object.\n",
      "# t.new_attr = 9\n",
      "# test_eq(t2.new_attr, 9)\n",
      "\n",
      "\n",
      "\n",
      "\n"
     ]
    }
   ],
   "source": [
    "fdb.debug()"
   ]
  }
 ],
 "metadata": {
  "kernelspec": {
   "display_name": "Python 3 (ipykernel)",
   "language": "python",
   "name": "python3"
  }
 },
 "nbformat": 4,
 "nbformat_minor": 5
}
