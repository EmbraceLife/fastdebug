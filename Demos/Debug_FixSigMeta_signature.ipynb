{
 "cells": [
  {
   "cell_type": "markdown",
   "id": "8a732f12-706d-4084-858b-25ab75931b76",
   "metadata": {},
   "source": [
    "# FixSigMeta"
   ]
  },
  {
   "cell_type": "markdown",
   "id": "50498ed4",
   "metadata": {},
   "source": [
    "The goal of this notebook is to explore how `FixSigMeta` avoid problems when `Foo` wants to get signature from its `__init__` using `inspect.signature`. \n",
    "\n",
    "In order to understand the problems `FixSigMeta` is fixing, please read official [docs](https://fastcore.fast.ai/meta.html#fixsigmeta) first\n",
    "\n",
    "At the beginning, I know very little of the source code of `inspect.signature` or in fact `inspect._signature_from_callable` and have no idea how `FixSigMeta` enable `Foo` to overcome the potential problems.\n",
    "\n",
    "`Fastdebug` library and its `Fastdb.dbprint` enables me to debug any source code and evaluate the expressions you write sitting above the source code and `Fastdb.print` can display source code with comments I add when debugging with `dbprint`.\n",
    "\n",
    "At the end of the notebook, I hope to have a nice and detailed document on the exploration and have a in-depth understanding of how both `_signature_from_callable` and `FixSigMeta` work.\n",
    "\n",
    "Here is what I learnt from this notebook about how `FixSigMeta` solve the potential problems \n",
    "\n",
    "\n",
    "> As a metaclass, `FixSigMeta` defines its `__new__` to creates a class instance `Foo` with attribute `__signature__` and store the signature of `__init__`. This way `inspect._signature_from_callable` can directly help `Foo` to get signature from `__signature__` instead of going into `__new__`, `__call__` looking for signatures where the potential problems reside."
   ]
  },
  {
   "cell_type": "code",
   "execution_count": null,
   "id": "5c5c993a",
   "metadata": {},
   "outputs": [],
   "source": []
  },
  {
   "cell_type": "markdown",
   "id": "12d53179",
   "metadata": {},
   "source": [
    "## Having a better view in Jupyter notebook"
   ]
  },
  {
   "cell_type": "code",
   "execution_count": null,
   "id": "9029dccb-9cad-45a9-b4e1-0b445bf7eb3d",
   "metadata": {},
   "outputs": [],
   "source": [
    "# from IPython.core.display import display, HTML # a depreciated import\n",
    "from IPython.display import display, HTML "
   ]
  },
  {
   "cell_type": "code",
   "execution_count": null,
   "id": "9b940390-ce64-471d-9ccc-811cb1589912",
   "metadata": {},
   "outputs": [
    {
     "data": {
      "text/html": [
       "<style>.container { width:100% !important; }</style>"
      ],
      "text/plain": [
       "<IPython.core.display.HTML object>"
      ]
     },
     "metadata": {},
     "output_type": "display_data"
    }
   ],
   "source": [
    "display(HTML(\"<style>.container { width:100% !important; }</style>\"))"
   ]
  },
  {
   "cell_type": "markdown",
   "id": "19938962",
   "metadata": {},
   "source": [
    "## Examples to explore"
   ]
  },
  {
   "cell_type": "code",
   "execution_count": null,
   "id": "22da79c0",
   "metadata": {},
   "outputs": [],
   "source": [
    "import inspect"
   ]
  },
  {
   "cell_type": "markdown",
   "id": "4c33ddb7",
   "metadata": {},
   "source": [
    "### `Foo` borrows signature from `Foo.__init__`"
   ]
  },
  {
   "cell_type": "code",
   "execution_count": null,
   "id": "32e3aff8",
   "metadata": {},
   "outputs": [
    {
     "data": {
      "text/plain": [
       "<Signature (a, b, c)>"
      ]
     },
     "execution_count": null,
     "metadata": {},
     "output_type": "execute_result"
    }
   ],
   "source": [
    "class Foo:\n",
    "    def __init__(self, a, b, c): pass\n",
    "\n",
    "    @classmethod\n",
    "    def clsmed(): pass\n",
    "    \n",
    "inspect.signature(Foo)"
   ]
  },
  {
   "cell_type": "markdown",
   "id": "1b09e3f8",
   "metadata": {},
   "source": [
    "### `Base.__new__` stops `Foo` borrows signature from `Foo.__init__`"
   ]
  },
  {
   "cell_type": "code",
   "execution_count": null,
   "id": "b8085451",
   "metadata": {
    "hide_input": false
   },
   "outputs": [
    {
     "data": {
      "text/plain": [
       "<Signature (d, e, f)>"
      ]
     },
     "execution_count": null,
     "metadata": {},
     "output_type": "execute_result"
    }
   ],
   "source": [
    "class Base: # pass\n",
    "    def __new__(self, **args): pass  # defines a __new__ \n",
    "\n",
    "class Foo(Base):\n",
    "    def __init__(self, d, e, f): pass\n",
    "    \n",
    "inspect.signature(Foo) # not a problem for python 3.9+, but is a problem for python 3.7"
   ]
  },
  {
   "cell_type": "markdown",
   "id": "4a669bcd",
   "metadata": {},
   "source": [
    "### Using old `_signature_from_callable`"
   ]
  },
  {
   "cell_type": "markdown",
   "id": "bfa9b036",
   "metadata": {},
   "source": [
    "#### Explore"
   ]
  },
  {
   "cell_type": "code",
   "execution_count": null,
   "id": "0334e5bc",
   "metadata": {
    "hide_input": false
   },
   "outputs": [],
   "source": [
    "# sigOld=\"\"\"\n",
    "# def _signature_from_callable(obj, *,\n",
    "#                              follow_wrapper_chains=True,\n",
    "#                              skip_bound_arg=True,\n",
    "#                              sigcls):\n",
    "\n",
    "#     \"Private helper function to get signature for arbitrary callable objects.\"\n",
    "\n",
    "#     if not callable(obj):\n",
    "#         raise TypeError('{!r} is not a callable object'.format(obj))\n",
    "\n",
    "#     if isinstance(obj, types.MethodType):\n",
    "#         # In this case we skip the first parameter of the underlying\n",
    "#         # function (usually `self` or `cls`).\n",
    "#         sig = _signature_from_callable(\n",
    "#             obj.__func__,\n",
    "#             follow_wrapper_chains=follow_wrapper_chains,\n",
    "#             skip_bound_arg=skip_bound_arg,\n",
    "#             sigcls=sigcls)\n",
    "\n",
    "#         if skip_bound_arg:\n",
    "#             return _signature_bound_method(sig)\n",
    "#         else:\n",
    "#             return sig\n",
    "\n",
    "#     # Was this function wrapped by a decorator?\n",
    "#     if follow_wrapper_chains:\n",
    "#         obj = unwrap(obj, stop=(lambda f: hasattr(f, \"__signature__\")))\n",
    "#         if isinstance(obj, types.MethodType):\n",
    "#             # If the unwrapped object is a *method*, we might want to\n",
    "#             # skip its first parameter (self).\n",
    "#             # See test_signature_wrapped_bound_method for details.\n",
    "#             return _signature_from_callable(\n",
    "#                 obj,\n",
    "#                 follow_wrapper_chains=follow_wrapper_chains,\n",
    "#                 skip_bound_arg=skip_bound_arg,\n",
    "#                 sigcls=sigcls)\n",
    "\n",
    "#     try:\n",
    "#         sig = obj.__signature__\n",
    "#     except AttributeError:\n",
    "#         pass\n",
    "#     else:\n",
    "#         if sig is not None:\n",
    "#             if not isinstance(sig, Signature):\n",
    "#                 raise TypeError(\n",
    "#                     'unexpected object {!r} in __signature__ '\n",
    "#                     'attribute'.format(sig))\n",
    "#             return sig\n",
    "\n",
    "#     try:\n",
    "#         partialmethod = obj._partialmethod\n",
    "#     except AttributeError:\n",
    "#         pass\n",
    "#     else:\n",
    "#         if isinstance(partialmethod, functools.partialmethod):\n",
    "#             # Unbound partialmethod (see functools.partialmethod)\n",
    "#             # This means, that we need to calculate the signature\n",
    "#             # as if it's a regular partial object, but taking into\n",
    "#             # account that the first positional argument\n",
    "#             # (usually `self`, or `cls`) will not be passed\n",
    "#             # automatically (as for boundmethods)\n",
    "\n",
    "#             wrapped_sig = _signature_from_callable(\n",
    "#                 partialmethod.func,\n",
    "#                 follow_wrapper_chains=follow_wrapper_chains,\n",
    "#                 skip_bound_arg=skip_bound_arg,\n",
    "#                 sigcls=sigcls)\n",
    "\n",
    "#             sig = _signature_get_partial(wrapped_sig, partialmethod, (None,))\n",
    "#             first_wrapped_param = tuple(wrapped_sig.parameters.values())[0]\n",
    "#             if first_wrapped_param.kind is Parameter.VAR_POSITIONAL:\n",
    "#                 # First argument of the wrapped callable is `*args`, as in\n",
    "#                 # `partialmethod(lambda *args)`.\n",
    "#                 return sig\n",
    "#             else:\n",
    "#                 sig_params = tuple(sig.parameters.values())\n",
    "#                 assert (not sig_params or\n",
    "#                         first_wrapped_param is not sig_params[0])\n",
    "#                 new_params = (first_wrapped_param,) + sig_params\n",
    "#                 return sig.replace(parameters=new_params)\n",
    "\n",
    "#     if isfunction(obj) or _signature_is_functionlike(obj):\n",
    "#         # If it's a pure Python function, or an object that is duck type\n",
    "#         # of a Python function (Cython functions, for instance), then:\n",
    "#         return _signature_from_function(sigcls, obj)\n",
    "\n",
    "#     if _signature_is_builtin(obj):\n",
    "#         return _signature_from_builtin(sigcls, obj,\n",
    "#                                        skip_bound_arg=skip_bound_arg)\n",
    "\n",
    "#     if isinstance(obj, functools.partial):\n",
    "#         wrapped_sig = _signature_from_callable(\n",
    "#             obj.func,\n",
    "#             follow_wrapper_chains=follow_wrapper_chains,\n",
    "#             skip_bound_arg=skip_bound_arg,\n",
    "#             sigcls=sigcls)\n",
    "#         return _signature_get_partial(wrapped_sig, obj)\n",
    "\n",
    "#     sig = None\n",
    "#     if isinstance(obj, type):\n",
    "#         # obj is a class or a metaclass\n",
    "\n",
    "#         # First, let's see if it has an overloaded __call__ defined\n",
    "#         # in its metaclass\n",
    "#         call = _signature_get_user_defined_method(type(obj), '__call__')\n",
    "#         if call is not None:\n",
    "#             sig = _signature_from_callable(\n",
    "#                 call,\n",
    "#                 follow_wrapper_chains=follow_wrapper_chains,\n",
    "#                 skip_bound_arg=skip_bound_arg,\n",
    "#                 sigcls=sigcls)\n",
    "#         else:\n",
    "#             # Now we check if the 'obj' class has a '__new__' method\n",
    "#             new = _signature_get_user_defined_method(obj, '__new__')\n",
    "#             if new is not None:\n",
    "#                 sig = _signature_from_callable(\n",
    "#                     new,\n",
    "#                     follow_wrapper_chains=follow_wrapper_chains,\n",
    "#                     skip_bound_arg=skip_bound_arg,\n",
    "#                     sigcls=sigcls)\n",
    "#             else:\n",
    "#                 # Finally, we should have at least __init__ implemented\n",
    "#                 init = _signature_get_user_defined_method(obj, '__init__')\n",
    "#                 if init is not None:\n",
    "#                     sig = _signature_from_callable(\n",
    "#                         init,\n",
    "#                         follow_wrapper_chains=follow_wrapper_chains,\n",
    "#                         skip_bound_arg=skip_bound_arg,\n",
    "#                         sigcls=sigcls)\n",
    "\n",
    "#         if sig is None:\n",
    "#             # At this point we know, that `obj` is a class, with no user-\n",
    "#             # defined '__init__', '__new__', or class-level '__call__'\n",
    "\n",
    "#             for base in obj.__mro__[:-1]:\n",
    "#                 # Since '__text_signature__' is implemented as a\n",
    "#                 # descriptor that extracts text signature from the\n",
    "#                 # class docstring, if 'obj' is derived from a builtin\n",
    "#                 # class, its own '__text_signature__' may be 'None'.\n",
    "#                 # Therefore, we go through the MRO (except the last\n",
    "#                 # class in there, which is 'object') to find the first\n",
    "#                 # class with non-empty text signature.\n",
    "#                 try:\n",
    "#                     text_sig = base.__text_signature__\n",
    "#                 except AttributeError:\n",
    "#                     pass\n",
    "#                 else:\n",
    "#                     if text_sig:\n",
    "#                         # If 'obj' class has a __text_signature__ attribute:\n",
    "#                         # return a signature based on it\n",
    "#                         return _signature_fromstr(sigcls, obj, text_sig)\n",
    "\n",
    "#             # No '__text_signature__' was found for the 'obj' class.\n",
    "#             # Last option is to check if its '__init__' is\n",
    "#             # object.__init__ or type.__init__.\n",
    "#             if type not in obj.__mro__:\n",
    "#                 # We have a class (not metaclass), but no user-defined\n",
    "#                 # __init__ or __new__ for it\n",
    "#                 if (obj.__init__ is object.__init__ and\n",
    "#                     obj.__new__ is object.__new__):\n",
    "#                     # Return a signature of 'object' builtin.\n",
    "#                     return sigcls.from_callable(object)\n",
    "#                 else:\n",
    "#                     raise ValueError(\n",
    "#                         'no signature found for builtin type {!r}'.format(obj))\n",
    "\n",
    "#     elif not isinstance(obj, _NonUserDefinedCallables):\n",
    "#         # An object with __call__\n",
    "#         # We also check that the 'obj' is not an instance of\n",
    "#         # _WrapperDescriptor or _MethodWrapper to avoid\n",
    "#         # infinite recursion (and even potential segfault)\n",
    "#         call = _signature_get_user_defined_method(type(obj), '__call__')\n",
    "#         if call is not None:\n",
    "#             try:\n",
    "#                 sig = _signature_from_callable(\n",
    "#                     call,\n",
    "#                     follow_wrapper_chains=follow_wrapper_chains,\n",
    "#                     skip_bound_arg=skip_bound_arg,\n",
    "#                     sigcls=sigcls)\n",
    "#             except ValueError as ex:\n",
    "#                 msg = 'no signature found for {!r}'.format(obj)\n",
    "#                 raise ValueError(msg) from ex\n",
    "\n",
    "#     if sig is not None:\n",
    "#         # For classes and objects we skip the first parameter of their\n",
    "#         # __call__, __new__, or __init__ methods\n",
    "#         if skip_bound_arg:\n",
    "#             return _signature_bound_method(sig)\n",
    "#         else:\n",
    "#             return sig\n",
    "\n",
    "#     if isinstance(obj, types.BuiltinFunctionType):\n",
    "#         # Raise a nicer error message for builtins\n",
    "#         msg = 'no signature found for builtin function {!r}'.format(obj)\n",
    "#         raise ValueError(msg)\n",
    "\n",
    "#     raise ValueError('callable {!r} is not supported by signature'.format(obj))\n",
    "# \"\"\""
   ]
  },
  {
   "cell_type": "code",
   "execution_count": null,
   "id": "f6275b8b",
   "metadata": {
    "hide_input": false
   },
   "outputs": [],
   "source": [
    "# safety = inspect.__dict__['_signature_from_callable']\n",
    "\n",
    "# import ast\n",
    "\n",
    "# block = ast.parse(sigOld, mode='exec')\n",
    "# exec(compile(block, '<string>', mode='exec'), globals().update(inspect.__dict__))\n",
    "\n",
    "# list(locals().keys())\n",
    "\n",
    "# # _signature_from_callableOld?\n",
    "\n",
    "# _signature_from_callable?\n",
    "\n",
    "# inspect._signature_from_callable = _signature_from_callable\n",
    "# inspect.signature(Foo) # not a problem for python 3.9+, but is a problem for python 3.7\n",
    "\n",
    "# inspect._signature_from_callable = safety\n",
    "\n",
    "# inspect.signature(Foo) # not a problem for python 3.9+, but is a problem for python 3.7"
   ]
  },
  {
   "cell_type": "markdown",
   "id": "9fbf5176",
   "metadata": {},
   "source": [
    "#### Refactory"
   ]
  },
  {
   "cell_type": "markdown",
   "id": "82688dd0",
   "metadata": {},
   "source": [
    "bring in older version of source code in string format to replace the current version of the func"
   ]
  },
  {
   "cell_type": "code",
   "execution_count": null,
   "id": "7bb3aeac",
   "metadata": {
    "hide_input": false
   },
   "outputs": [],
   "source": [
    "sigOld=\"\"\"\n",
    "def _signature_from_callable(obj, *,\n",
    "                             follow_wrapper_chains=True,\n",
    "                             skip_bound_arg=True,\n",
    "                             sigcls):\n",
    "\n",
    "    \"Private helper function to get signature for arbitrary callable objects.\"\n",
    "\n",
    "    if not callable(obj):\n",
    "        raise TypeError('{!r} is not a callable object'.format(obj))\n",
    "\n",
    "    if isinstance(obj, types.MethodType):\n",
    "        # In this case we skip the first parameter of the underlying\n",
    "        # function (usually `self` or `cls`).\n",
    "        sig = _signature_from_callable(\n",
    "            obj.__func__,\n",
    "            follow_wrapper_chains=follow_wrapper_chains,\n",
    "            skip_bound_arg=skip_bound_arg,\n",
    "            sigcls=sigcls)\n",
    "\n",
    "        if skip_bound_arg:\n",
    "            return _signature_bound_method(sig)\n",
    "        else:\n",
    "            return sig\n",
    "\n",
    "    # Was this function wrapped by a decorator?\n",
    "    if follow_wrapper_chains:\n",
    "        obj = unwrap(obj, stop=(lambda f: hasattr(f, \"__signature__\")))\n",
    "        if isinstance(obj, types.MethodType):\n",
    "            # If the unwrapped object is a *method*, we might want to\n",
    "            # skip its first parameter (self).\n",
    "            # See test_signature_wrapped_bound_method for details.\n",
    "            return _signature_from_callable(\n",
    "                obj,\n",
    "                follow_wrapper_chains=follow_wrapper_chains,\n",
    "                skip_bound_arg=skip_bound_arg,\n",
    "                sigcls=sigcls)\n",
    "\n",
    "    try:\n",
    "        sig = obj.__signature__\n",
    "    except AttributeError:\n",
    "        pass\n",
    "    else:\n",
    "        if sig is not None:\n",
    "            if not isinstance(sig, Signature):\n",
    "                raise TypeError(\n",
    "                    'unexpected object {!r} in __signature__ '\n",
    "                    'attribute'.format(sig))\n",
    "            return sig\n",
    "\n",
    "    try:\n",
    "        partialmethod = obj._partialmethod\n",
    "    except AttributeError:\n",
    "        pass\n",
    "    else:\n",
    "        if isinstance(partialmethod, functools.partialmethod):\n",
    "            # Unbound partialmethod (see functools.partialmethod)\n",
    "            # This means, that we need to calculate the signature\n",
    "            # as if it's a regular partial object, but taking into\n",
    "            # account that the first positional argument\n",
    "            # (usually `self`, or `cls`) will not be passed\n",
    "            # automatically (as for boundmethods)\n",
    "\n",
    "            wrapped_sig = _signature_from_callable(\n",
    "                partialmethod.func,\n",
    "                follow_wrapper_chains=follow_wrapper_chains,\n",
    "                skip_bound_arg=skip_bound_arg,\n",
    "                sigcls=sigcls)\n",
    "\n",
    "            sig = _signature_get_partial(wrapped_sig, partialmethod, (None,))\n",
    "            first_wrapped_param = tuple(wrapped_sig.parameters.values())[0]\n",
    "            if first_wrapped_param.kind is Parameter.VAR_POSITIONAL:\n",
    "                # First argument of the wrapped callable is `*args`, as in\n",
    "                # `partialmethod(lambda *args)`.\n",
    "                return sig\n",
    "            else:\n",
    "                sig_params = tuple(sig.parameters.values())\n",
    "                assert (not sig_params or\n",
    "                        first_wrapped_param is not sig_params[0])\n",
    "                new_params = (first_wrapped_param,) + sig_params\n",
    "                return sig.replace(parameters=new_params)\n",
    "\n",
    "    if isfunction(obj) or _signature_is_functionlike(obj):\n",
    "        # If it's a pure Python function, or an object that is duck type\n",
    "        # of a Python function (Cython functions, for instance), then:\n",
    "        return _signature_from_function(sigcls, obj)\n",
    "\n",
    "    if _signature_is_builtin(obj):\n",
    "        return _signature_from_builtin(sigcls, obj,\n",
    "                                       skip_bound_arg=skip_bound_arg)\n",
    "\n",
    "    if isinstance(obj, functools.partial):\n",
    "        wrapped_sig = _signature_from_callable(\n",
    "            obj.func,\n",
    "            follow_wrapper_chains=follow_wrapper_chains,\n",
    "            skip_bound_arg=skip_bound_arg,\n",
    "            sigcls=sigcls)\n",
    "        return _signature_get_partial(wrapped_sig, obj)\n",
    "\n",
    "    sig = None\n",
    "    if isinstance(obj, type):\n",
    "        # obj is a class or a metaclass\n",
    "\n",
    "        # First, let's see if it has an overloaded __call__ defined\n",
    "        # in its metaclass\n",
    "        call = _signature_get_user_defined_method(type(obj), '__call__')\n",
    "        if call is not None:\n",
    "            sig = _signature_from_callable(\n",
    "                call,\n",
    "                follow_wrapper_chains=follow_wrapper_chains,\n",
    "                skip_bound_arg=skip_bound_arg,\n",
    "                sigcls=sigcls)\n",
    "        else:\n",
    "            # Now we check if the 'obj' class has a '__new__' method\n",
    "            new = _signature_get_user_defined_method(obj, '__new__')\n",
    "            if new is not None:\n",
    "                sig = _signature_from_callable(\n",
    "                    new,\n",
    "                    follow_wrapper_chains=follow_wrapper_chains,\n",
    "                    skip_bound_arg=skip_bound_arg,\n",
    "                    sigcls=sigcls)\n",
    "            else:\n",
    "                # Finally, we should have at least __init__ implemented\n",
    "                init = _signature_get_user_defined_method(obj, '__init__')\n",
    "                if init is not None:\n",
    "                    sig = _signature_from_callable(\n",
    "                        init,\n",
    "                        follow_wrapper_chains=follow_wrapper_chains,\n",
    "                        skip_bound_arg=skip_bound_arg,\n",
    "                        sigcls=sigcls)\n",
    "\n",
    "        if sig is None:\n",
    "            # At this point we know, that `obj` is a class, with no user-\n",
    "            # defined '__init__', '__new__', or class-level '__call__'\n",
    "\n",
    "            for base in obj.__mro__[:-1]:\n",
    "                # Since '__text_signature__' is implemented as a\n",
    "                # descriptor that extracts text signature from the\n",
    "                # class docstring, if 'obj' is derived from a builtin\n",
    "                # class, its own '__text_signature__' may be 'None'.\n",
    "                # Therefore, we go through the MRO (except the last\n",
    "                # class in there, which is 'object') to find the first\n",
    "                # class with non-empty text signature.\n",
    "                try:\n",
    "                    text_sig = base.__text_signature__\n",
    "                except AttributeError:\n",
    "                    pass\n",
    "                else:\n",
    "                    if text_sig:\n",
    "                        # If 'obj' class has a __text_signature__ attribute:\n",
    "                        # return a signature based on it\n",
    "                        return _signature_fromstr(sigcls, obj, text_sig)\n",
    "\n",
    "            # No '__text_signature__' was found for the 'obj' class.\n",
    "            # Last option is to check if its '__init__' is\n",
    "            # object.__init__ or type.__init__.\n",
    "            if type not in obj.__mro__:\n",
    "                # We have a class (not metaclass), but no user-defined\n",
    "                # __init__ or __new__ for it\n",
    "                if (obj.__init__ is object.__init__ and\n",
    "                    obj.__new__ is object.__new__):\n",
    "                    # Return a signature of 'object' builtin.\n",
    "                    return sigcls.from_callable(object)\n",
    "                else:\n",
    "                    raise ValueError(\n",
    "                        'no signature found for builtin type {!r}'.format(obj))\n",
    "\n",
    "    elif not isinstance(obj, _NonUserDefinedCallables):\n",
    "        # An object with __call__\n",
    "        # We also check that the 'obj' is not an instance of\n",
    "        # _WrapperDescriptor or _MethodWrapper to avoid\n",
    "        # infinite recursion (and even potential segfault)\n",
    "        call = _signature_get_user_defined_method(type(obj), '__call__')\n",
    "        if call is not None:\n",
    "            try:\n",
    "                sig = _signature_from_callable(\n",
    "                    call,\n",
    "                    follow_wrapper_chains=follow_wrapper_chains,\n",
    "                    skip_bound_arg=skip_bound_arg,\n",
    "                    sigcls=sigcls)\n",
    "            except ValueError as ex:\n",
    "                msg = 'no signature found for {!r}'.format(obj)\n",
    "                raise ValueError(msg) from ex\n",
    "\n",
    "    if sig is not None:\n",
    "        # For classes and objects we skip the first parameter of their\n",
    "        # __call__, __new__, or __init__ methods\n",
    "        if skip_bound_arg:\n",
    "            return _signature_bound_method(sig)\n",
    "        else:\n",
    "            return sig\n",
    "\n",
    "    if isinstance(obj, types.BuiltinFunctionType):\n",
    "        # Raise a nicer error message for builtins\n",
    "        msg = 'no signature found for builtin function {!r}'.format(obj)\n",
    "        raise ValueError(msg)\n",
    "\n",
    "    raise ValueError('callable {!r} is not supported by signature'.format(obj))\n",
    "\"\"\""
   ]
  },
  {
   "cell_type": "code",
   "execution_count": null,
   "id": "93515eca",
   "metadata": {},
   "outputs": [],
   "source": [
    "from inspect import _signature_from_callable"
   ]
  },
  {
   "cell_type": "code",
   "execution_count": null,
   "id": "37ece856",
   "metadata": {},
   "outputs": [],
   "source": [
    "from fastdebug.core import *"
   ]
  },
  {
   "cell_type": "code",
   "execution_count": null,
   "id": "8b522fa4",
   "metadata": {},
   "outputs": [
    {
     "name": "stdout",
     "output_type": "stream",
     "text": [
      "after exec: list(locals().keys()): ['func', 'oldfunc', 'alive', 'db', 'safety', 'block', '_signature_from_callable']\n",
      "before update: inspect.getsourcefile(func.__globals__[func.__name__]): /Users/Natsume/mambaforge/lib/python3.9/inspect.py\n",
      "after update: inspect.getsourcefile(func.__globals__[func.__name__]): <string>\n"
     ]
    }
   ],
   "source": [
    "reliveonce(_signature_from_callable, sigOld, db=True)"
   ]
  },
  {
   "cell_type": "code",
   "execution_count": null,
   "id": "32b26997",
   "metadata": {},
   "outputs": [
    {
     "data": {
      "text/plain": [
       "<Signature (**args)>"
      ]
     },
     "execution_count": null,
     "metadata": {},
     "output_type": "execute_result"
    }
   ],
   "source": [
    "inspect.signature(Foo) # not a problem for python 3.9+, but is a problem for python 3.7"
   ]
  },
  {
   "cell_type": "code",
   "execution_count": null,
   "id": "a8b0ff34",
   "metadata": {},
   "outputs": [],
   "source": [
    "reliveonce(_signature_from_callable, sigOld, alive=False)"
   ]
  },
  {
   "cell_type": "code",
   "execution_count": null,
   "id": "28f16e01",
   "metadata": {},
   "outputs": [
    {
     "data": {
      "text/plain": [
       "<Signature (d, e, f)>"
      ]
     },
     "execution_count": null,
     "metadata": {},
     "output_type": "execute_result"
    }
   ],
   "source": [
    "inspect.signature(Foo)"
   ]
  },
  {
   "cell_type": "code",
   "execution_count": null,
   "id": "0437d16a",
   "metadata": {},
   "outputs": [],
   "source": []
  }
 ],
 "metadata": {
  "kernelspec": {
   "display_name": "Python 3 (ipykernel)",
   "language": "python",
   "name": "python3"
  }
 },
 "nbformat": 4,
 "nbformat_minor": 5
}
