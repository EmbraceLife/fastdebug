{
 "cells": [
  {
   "cell_type": "markdown",
   "id": "5b8293eb",
   "metadata": {},
   "source": [
    "## Explore and document `inspect._signature_from_callable` (a long src)"
   ]
  },
  {
   "cell_type": "code",
   "execution_count": null,
   "id": "9029dccb-9cad-45a9-b4e1-0b445bf7eb3d",
   "metadata": {},
   "outputs": [],
   "source": [
    "# from IPython.core.display import display, HTML # a depreciated import\n",
    "from IPython.display import display, HTML "
   ]
  },
  {
   "cell_type": "code",
   "execution_count": null,
   "id": "9b940390-ce64-471d-9ccc-811cb1589912",
   "metadata": {},
   "outputs": [
    {
     "data": {
      "text/html": [
       "<style>.container { width:100% !important; }</style>"
      ],
      "text/plain": [
       "<IPython.core.display.HTML object>"
      ]
     },
     "metadata": {},
     "output_type": "display_data"
    }
   ],
   "source": [
    "display(HTML(\"<style>.container { width:100% !important; }</style>\"))"
   ]
  },
  {
   "cell_type": "markdown",
   "id": "c695dbfc",
   "metadata": {},
   "source": [
    "### a single line example"
   ]
  },
  {
   "cell_type": "code",
   "execution_count": null,
   "id": "92b88ef6",
   "metadata": {},
   "outputs": [],
   "source": [
    "import snoop\n",
    "from fastdebug.utils import whatinside\n",
    "import inspect"
   ]
  },
  {
   "cell_type": "code",
   "execution_count": null,
   "id": "c64c0ba4",
   "metadata": {},
   "outputs": [
    {
     "data": {
      "text/plain": [
       "<Signature (mo, dun: bool = False, func: bool = False, clas: bool = False, bltin: bool = False, lib: bool = False, cal: bool = False)>"
      ]
     },
     "execution_count": null,
     "metadata": {},
     "output_type": "execute_result"
    }
   ],
   "source": [
    "inspect._signature_from_callable(whatinside, sigcls=inspect.Signature)"
   ]
  },
  {
   "cell_type": "markdown",
   "id": "84b94fed",
   "metadata": {},
   "source": [
    "### Snoop it"
   ]
  },
  {
   "cell_type": "code",
   "execution_count": null,
   "id": "5720a98e",
   "metadata": {},
   "outputs": [],
   "source": [
    "from fastdebug.core import *"
   ]
  },
  {
   "cell_type": "code",
   "execution_count": null,
   "id": "0c2355e3",
   "metadata": {},
   "outputs": [],
   "source": [
    "g = locals()\n",
    "fdb = Fastdb(inspect._signature_from_callable, outloc=g)"
   ]
  },
  {
   "cell_type": "code",
   "execution_count": null,
   "id": "5c6c31bb",
   "metadata": {},
   "outputs": [],
   "source": [
    "# fdb.takExample(\"inspect._signature_from_callable(whatinside, sigcls=inspect.Signature)\", inspect=inspect, whatinside=whatinside)\n",
    "fdb.eg = \"inspect._signature_from_callable(whatinside, sigcls=inspect.Signature)\""
   ]
  },
  {
   "cell_type": "code",
   "execution_count": null,
   "id": "523fc2d6",
   "metadata": {},
   "outputs": [],
   "source": [
    "# fdb.snoop()"
   ]
  },
  {
   "cell_type": "markdown",
   "id": "e20ca0ee",
   "metadata": {},
   "source": [
    "### Start documenting"
   ]
  },
  {
   "cell_type": "code",
   "execution_count": null,
   "id": "5171da54",
   "metadata": {},
   "outputs": [
    {
     "name": "stdout",
     "output_type": "stream",
     "text": [
      "=================================================     Investigating \u001b[91;1m_signature_from_callable\u001b[0m     =================================================\n",
      "===============================================================     on line \u001b[91;1m76\u001b[0m     ===============================================================\n",
      "==========================     with example \u001b[91;1minspect._signature_from_callable(whatinside, sigcls=inspect.Signature)\u001b[0m     ===========================\n",
      "\n",
      "\u001b[93;1mprint selected srcline with expands below\u001b[0m--------\n",
      "                return sig.replace(parameters=new_params)                                                                                               (74)\n",
      "                                                                                                                                                        (75)\n",
      "    if isfunction(obj) or _signature_is_functionlike(obj):==============================================================================================(76)\n",
      "                                                                                            \u001b[91;1mwhatinside's sig is finally processed by _signature_from_function\u001b[0m\n",
      "        # If it's a pure Python function, or an object that is duck type                                                                                (77)\n",
      "        # of a Python function (Cython functions, for instance), then:                                                                                  (78)\n",
      "\n",
      "==================================================================================================================\u001b[91;1mStart of my srcline exploration:\u001b[0m\n",
      "\n",
      "\n",
      "                                                                                                            obj => obj : <function whatinside at 0x119153550>\n",
      "\n",
      "\n",
      "                                                                                                                    isfunction(obj) => isfunction(obj) : True\n",
      "====================================================================================================================\u001b[91;1mEnd of my srcline exploration:\u001b[0m\n",
      "\n",
      "\n",
      "\u001b[93;1mReview srcode with all comments added so far\u001b[0m======================================================================================================\n",
      "                # First argument of the wrapped callable is `*args`, as in================(66)      \n",
      "                # `partialmethod(lambda *args)`.==========================================(67)      \n",
      "                return sig================================================================(68)      \n",
      "            else:=========================================================================(69)      \n",
      "                sig_params = tuple(sig.parameters.values())===============================(70)      \n",
      "                assert (not sig_params or=================================================(71)      \n",
      "                        first_wrapped_param is not sig_params[0])=========================(72)      \n",
      "                new_params = (first_wrapped_param,) + sig_params==========================(73)      \n",
      "                return sig.replace(parameters=new_params)=================================(74)      \n",
      "                                                                                                                                                        (75)\n",
      "    if isfunction(obj) or _signature_is_functionlike(obj):================================(76) # spot 0: \u001b[34;1mwhatinside's sig is finally processed by _signature_from_function\u001b[0m\n",
      "        # If it's a pure Python function, or an object that is duck type==================(77)      \n",
      "        # of a Python function (Cython functions, for instance), then:====================(78)      \n",
      "        return _signature_from_function(sigcls, obj,======================================(79)      \n",
      "                                        skip_bound_arg=skip_bound_arg)====================(80)      \n",
      "                                                                                                                                                        (81)\n",
      "    if _signature_is_builtin(obj):========================================================(82)      \n",
      "        return _signature_from_builtin(sigcls, obj,=======================================(83)      \n",
      "                                       skip_bound_arg=skip_bound_arg)=====================(84)      \n",
      "                                                                                                                                                        (85)\n",
      "    if isinstance(obj, functools.partial):================================================(86)      \n",
      "        wrapped_sig = _get_signature_of(obj.func)=========================================(87)      \n",
      "        return _signature_get_partial(wrapped_sig, obj)===================================(88)      \n",
      "                                                                                                                                                        (89)\n",
      "    sig = None============================================================================(90)      \n",
      "    if isinstance(obj, type):=============================================================(91)      \n",
      "        # obj is a class or a metaclass===================================================(92)      \n",
      "                                                                                                                                                        (93)\n",
      "        # First, let's see if it has an overloaded __call__ defined=======================(94)      \n",
      "        # in its metaclass================================================================(95)      \n",
      "        call = _signature_get_user_defined_method(type(obj), '__call__')==================(96)      \n",
      "        if call is not None:==============================================================(97)      \n",
      "            sig = _get_signature_of(call)=================================================(98)      \n",
      "                                                                                                                                     part No.3 out of 6 parts\n",
      "\n"
     ]
    }
   ],
   "source": [
    "fdb.docsrc(76, \"whatinside's sig is finally processed by _signature_from_function\", \"obj\", \"isfunction(obj)\")"
   ]
  },
  {
   "cell_type": "markdown",
   "id": "e4d38509",
   "metadata": {},
   "source": [
    "### Example: Foo get sig from its `__init__`"
   ]
  },
  {
   "cell_type": "code",
   "execution_count": null,
   "id": "e7b98b96",
   "metadata": {},
   "outputs": [
    {
     "data": {
      "text/plain": [
       "<Signature (a, b, c)>"
      ]
     },
     "execution_count": null,
     "metadata": {},
     "output_type": "execute_result"
    }
   ],
   "source": [
    "class Foo_init:\n",
    "    def __init__(self, a, b, c): pass\n",
    "\n",
    "inspect._signature_from_callable(Foo_init, sigcls=inspect.Signature)"
   ]
  },
  {
   "cell_type": "code",
   "execution_count": null,
   "id": "b5237c92",
   "metadata": {},
   "outputs": [],
   "source": [
    "fdb.eg = \"\"\"\n",
    "class Foo_init:\n",
    "    def __init__(self, a, b, c): pass\n",
    "\n",
    "inspect._signature_from_callable(Foo_init, sigcls=inspect.Signature)\n",
    "\"\"\""
   ]
  },
  {
   "cell_type": "code",
   "execution_count": null,
   "id": "85184d42",
   "metadata": {},
   "outputs": [],
   "source": [
    "# fdb.takExample(example, inspect=inspect, Foo_init=Foo_init)"
   ]
  },
  {
   "cell_type": "code",
   "execution_count": null,
   "id": "9e1d7590",
   "metadata": {},
   "outputs": [],
   "source": [
    "# fdb.snoop()"
   ]
  },
  {
   "cell_type": "code",
   "execution_count": null,
   "id": "4e6a5aa6",
   "metadata": {},
   "outputs": [
    {
     "name": "stdout",
     "output_type": "stream",
     "text": [
      "=================================================     Investigating \u001b[91;1m_signature_from_callable\u001b[0m     =================================================\n",
      "===============================================================     on line \u001b[91;1m91\u001b[0m     ===============================================================\n",
      "     with example \u001b[91;1m\n",
      "class Foo_init:\n",
      "    def __init__(self, a, b, c): pass\n",
      "\n",
      "inspect._signature_from_callable(Foo_init, sigcls=inspect.Signature)\n",
      "\u001b[0m     \n",
      "\n",
      "\u001b[93;1mprint selected srcline with expands below\u001b[0m--------\n",
      "                                                                                                                                                        (89)\n",
      "    sig = None                                                                                                                                          (90)\n",
      "    if isinstance(obj, type):===========================================================================================================================(91)\n",
      "                                                                                                                        \u001b[91;1mFoo is taken care of in this if block\u001b[0m\n",
      "        # obj is a class or a metaclass                                                                                                                 (92)\n",
      "                                                                                                                                                        (93)\n",
      "\n",
      "==================================================================================================================\u001b[91;1mStart of my srcline exploration:\u001b[0m\n",
      "\n",
      "\n",
      "                                                                                                        isinstance(obj, type) => isinstance(obj, type) : True\n",
      "====================================================================================================================\u001b[91;1mEnd of my srcline exploration:\u001b[0m\n",
      "\n",
      "\n",
      "\u001b[93;1mReview srcode with all comments added so far\u001b[0m======================================================================================================\n",
      "                # First argument of the wrapped callable is `*args`, as in================(66)      \n",
      "                # `partialmethod(lambda *args)`.==========================================(67)      \n",
      "                return sig================================================================(68)      \n",
      "            else:=========================================================================(69)      \n",
      "                sig_params = tuple(sig.parameters.values())===============================(70)      \n",
      "                assert (not sig_params or=================================================(71)      \n",
      "                        first_wrapped_param is not sig_params[0])=========================(72)      \n",
      "                new_params = (first_wrapped_param,) + sig_params==========================(73)      \n",
      "                return sig.replace(parameters=new_params)=================================(74)      \n",
      "                                                                                                                                                        (75)\n",
      "    if isfunction(obj) or _signature_is_functionlike(obj):================================(76) # spot 0: \u001b[35;1mwhatinside's sig is finally processed by _signature_from_function\u001b[0m\n",
      "        # If it's a pure Python function, or an object that is duck type==================(77)      \n",
      "        # of a Python function (Cython functions, for instance), then:====================(78)      \n",
      "        return _signature_from_function(sigcls, obj,======================================(79)      \n",
      "                                        skip_bound_arg=skip_bound_arg)====================(80)      \n",
      "                                                                                                                                                        (81)\n",
      "    if _signature_is_builtin(obj):========================================================(82)      \n",
      "        return _signature_from_builtin(sigcls, obj,=======================================(83)      \n",
      "                                       skip_bound_arg=skip_bound_arg)=====================(84)      \n",
      "                                                                                                                                                        (85)\n",
      "    if isinstance(obj, functools.partial):================================================(86)      \n",
      "        wrapped_sig = _get_signature_of(obj.func)=========================================(87)      \n",
      "        return _signature_get_partial(wrapped_sig, obj)===================================(88)      \n",
      "                                                                                                                                                        (89)\n",
      "    sig = None============================================================================(90)      \n",
      "    if isinstance(obj, type):=============================================================(91) # spot 1: \u001b[35;1mFoo is taken care of in this if block\u001b[0m\n",
      "        # obj is a class or a metaclass===================================================(92)      \n",
      "                                                                                                                                                        (93)\n",
      "        # First, let's see if it has an overloaded __call__ defined=======================(94)      \n",
      "        # in its metaclass================================================================(95)      \n",
      "        call = _signature_get_user_defined_method(type(obj), '__call__')==================(96)      \n",
      "        if call is not None:==============================================================(97)      \n",
      "            sig = _get_signature_of(call)=================================================(98)      \n",
      "                                                                                                                                     part No.3 out of 6 parts\n",
      "\n"
     ]
    }
   ],
   "source": [
    "fdb.docsrc(91, \"Foo is taken care of in this if block\", \"isinstance(obj, type)\")"
   ]
  },
  {
   "cell_type": "code",
   "execution_count": null,
   "id": "0bad7224",
   "metadata": {},
   "outputs": [
    {
     "name": "stdout",
     "output_type": "stream",
     "text": [
      "=================================================     Investigating \u001b[91;1m_signature_from_callable\u001b[0m     =================================================\n",
      "==============================================================     on line \u001b[91;1m103\u001b[0m     ===============================================================\n",
      "==========     with example \u001b[91;1m\n",
      "class Foo_init:\n",
      "    def __init__(self, a, b, c): pass\n",
      "\n",
      "self.dbsrc(Foo_init, sigcls=inspect.Signature)\n",
      "\u001b[0m     ==========\n",
      "\n",
      "\u001b[93;1mprint selected srcline with expands below\u001b[0m--------\n",
      "            new = _signature_get_user_defined_method(obj, '__new__')                                                                                    (101)\n",
      "            init = _signature_get_user_defined_method(obj, '__init__')                                                                                  (102)\n",
      "            # Now we check if the 'obj' class has an own '__new__' method===============================================================================(103)\n",
      "                                                                                                             \u001b[91;1mFoo has no methods on call nor new, but has init\u001b[0m\n",
      "            if '__new__' in obj.__dict__:                                                                                                               (104)\n",
      "                factory_method = new                                                                                                                    (105)\n",
      "\n",
      "==================================================================================================================\u001b[91;1mStart of my srcline exploration:\u001b[0m\n",
      "\n",
      "\n",
      "                                                                                                                                          call => call : None\n",
      "\n",
      "\n",
      "                                                                                                                                            new => new : None\n",
      "\n",
      "\n",
      "                                                                                                   init => init : <function Foo_init.__init__ at 0x119217280>\n",
      "====================================================================================================================\u001b[91;1mEnd of my srcline exploration:\u001b[0m\n",
      "\n",
      "\n",
      "\u001b[93;1mReview srcode with all comments added so far\u001b[0m======================================================================================================\n",
      "        else:=============================================================================(99)      \n",
      "            factory_method = None=========================================================(100)     \n",
      "            new = _signature_get_user_defined_method(obj, '__new__')======================(101)     \n",
      "            init = _signature_get_user_defined_method(obj, '__init__')====================(102)     \n",
      "            # Now we check if the 'obj' class has an own '__new__' method=================(103) # spot 2: \u001b[35;1mFoo has no methods on call nor new, but has init\u001b[0m\n",
      "            if '__new__' in obj.__dict__:=================================================(104)     \n",
      "                factory_method = new======================================================(105)     \n",
      "            # or an own '__init__' method=================================================(106)     \n",
      "            elif '__init__' in obj.__dict__:==============================================(107)     \n",
      "                factory_method = init=====================================================(108)     \n",
      "            # If not, we take inherited '__new__' or '__init__', if present===============(109)     \n",
      "            elif new is not None:=========================================================(110)     \n",
      "                factory_method = new======================================================(111)     \n",
      "            elif init is not None:========================================================(112)     \n",
      "                factory_method = init=====================================================(113)     \n",
      "                                                                                                                                                        (114)\n",
      "            if factory_method is not None:================================================(115)     \n",
      "                sig = _get_signature_of(factory_method)===================================(116)     \n",
      "                                                                                                                                                        (117)\n",
      "        if sig is None:===================================================================(118)     \n",
      "            # At this point we know, that `obj` is a class, with no user-=================(119)     \n",
      "            # defined '__init__', '__new__', or class-level '__call__'====================(120)     \n",
      "                                                                                                                                                        (121)\n",
      "            for base in obj.__mro__[:-1]:=================================================(122)     \n",
      "                # Since '__text_signature__' is implemented as a==========================(123)     \n",
      "                # descriptor that extracts text signature from the========================(124)     \n",
      "                # class docstring, if 'obj' is derived from a builtin=====================(125)     \n",
      "                # class, its own '__text_signature__' may be 'None'.======================(126)     \n",
      "                # Therefore, we go through the MRO (except the last=======================(127)     \n",
      "                # class in there, which is 'object') to find the first====================(128)     \n",
      "                # class with non-empty text signature.====================================(129)     \n",
      "                try:======================================================================(130)     \n",
      "                    text_sig = base.__text_signature__====================================(131)     \n",
      "                                                                                                                                     part No.4 out of 6 parts\n",
      "\n"
     ]
    }
   ],
   "source": [
    "fdb.docsrc(103, \"Foo has no methods on call nor new, but has init\", \"call\", \"new\", \"init\")"
   ]
  },
  {
   "cell_type": "code",
   "execution_count": null,
   "id": "5a15fc87",
   "metadata": {},
   "outputs": [
    {
     "name": "stdout",
     "output_type": "stream",
     "text": [
      "=================================================     Investigating \u001b[91;1m_signature_from_callable\u001b[0m     =================================================\n",
      "==============================================================     on line \u001b[91;1m116\u001b[0m     ===============================================================\n",
      "=========     with example \u001b[91;1m\n",
      "class Foo_init:\n",
      "    def __init__(self, a, b, c): pass\n",
      "\n",
      "self.dbsrc(Foo_init, sigcls=inspect.Signature)\n",
      "\n",
      "\u001b[0m     ==========\n",
      "\n",
      "\u001b[93;1mprint selected srcline with expands below\u001b[0m--------\n",
      "                                                                                                                                                        (114)\n",
      "            if factory_method is not None:                                                                                                              (115)\n",
      "                sig = _get_signature_of(factory_method)=================================================================================================(116)\n",
      "                                                                                                                      \u001b[91;1minit func is taken by _get_signature_of\u001b[0m\n",
      "                                                                                                                                                        (117)\n",
      "        if sig is None:                                                                                                                                 (118)\n",
      "\n",
      "==================================================================================================================\u001b[91;1mStart of my srcline exploration:\u001b[0m\n",
      "\n",
      "\n",
      "                                                                                                       init == factory_method => init == factory_method: True\n",
      "====================================================================================================================\u001b[91;1mEnd of my srcline exploration:\u001b[0m\n",
      "\n",
      "\n",
      "\u001b[93;1mReview srcode with all comments added so far\u001b[0m======================================================================================================\n",
      "        else:=============================================================================(99)      \n",
      "            factory_method = None=========================================================(100)     \n",
      "            new = _signature_get_user_defined_method(obj, '__new__')======================(101)     \n",
      "            init = _signature_get_user_defined_method(obj, '__init__')====================(102)     \n",
      "            # Now we check if the 'obj' class has an own '__new__' method=================(103) # spot 2: \u001b[36;1mFoo has no methods on call nor new, but has init\u001b[0m\n",
      "            if '__new__' in obj.__dict__:=================================================(104)     \n",
      "                factory_method = new======================================================(105)     \n",
      "            # or an own '__init__' method=================================================(106)     \n",
      "            elif '__init__' in obj.__dict__:==============================================(107)     \n",
      "                factory_method = init=====================================================(108)     \n",
      "            # If not, we take inherited '__new__' or '__init__', if present===============(109)     \n",
      "            elif new is not None:=========================================================(110)     \n",
      "                factory_method = new======================================================(111)     \n",
      "            elif init is not None:========================================================(112)     \n",
      "                factory_method = init=====================================================(113)     \n",
      "                                                                                                                                                        (114)\n",
      "            if factory_method is not None:================================================(115)     \n",
      "                sig = _get_signature_of(factory_method)===================================(116) # spot 3: \u001b[36;1minit func is taken by _get_signature_of\u001b[0m\n",
      "                                                                                                                                                        (117)\n",
      "        if sig is None:===================================================================(118)     \n",
      "            # At this point we know, that `obj` is a class, with no user-=================(119)     \n",
      "            # defined '__init__', '__new__', or class-level '__call__'====================(120)     \n",
      "                                                                                                                                                        (121)\n",
      "            for base in obj.__mro__[:-1]:=================================================(122)     \n",
      "                # Since '__text_signature__' is implemented as a==========================(123)     \n",
      "                # descriptor that extracts text signature from the========================(124)     \n",
      "                # class docstring, if 'obj' is derived from a builtin=====================(125)     \n",
      "                # class, its own '__text_signature__' may be 'None'.======================(126)     \n",
      "                # Therefore, we go through the MRO (except the last=======================(127)     \n",
      "                # class in there, which is 'object') to find the first====================(128)     \n",
      "                # class with non-empty text signature.====================================(129)     \n",
      "                try:======================================================================(130)     \n",
      "                    text_sig = base.__text_signature__====================================(131)     \n",
      "                                                                                                                                     part No.4 out of 6 parts\n",
      "\n"
     ]
    }
   ],
   "source": [
    "fdb.docsrc(116, \"init func is taken by _get_signature_of\", \"init == factory_method\")"
   ]
  },
  {
   "cell_type": "code",
   "execution_count": null,
   "id": "f16c99b6",
   "metadata": {},
   "outputs": [
    {
     "name": "stdout",
     "output_type": "stream",
     "text": [
      "=================================================     Investigating \u001b[91;1m_signature_from_callable\u001b[0m     =================================================\n",
      "===============================================================     on line \u001b[91;1m77\u001b[0m     ===============================================================\n",
      "=========     with example \u001b[91;1m\n",
      "class Foo_init:\n",
      "    def __init__(self, a, b, c): pass\n",
      "\n",
      "self.dbsrc(Foo_init, sigcls=inspect.Signature)\n",
      "\n",
      "\n",
      "\u001b[0m     =========\n",
      "\n",
      "\u001b[93;1mprint selected srcline with expands below\u001b[0m--------\n",
      "                                                                                                                                                        (75)\n",
      "    if isfunction(obj) or _signature_is_functionlike(obj):                                                                                              (76)\n",
      "        # If it's a pure Python function, or an object that is duck type================================================================================(77)\n",
      "                                                          \u001b[91;1minit func will be processed by _signature_from_function in the block above. see explorations below:\u001b[0m\n",
      "        # of a Python function (Cython functions, for instance), then:                                                                                  (78)\n",
      "        return _signature_from_function(sigcls, obj,                                                                                                    (79)\n",
      "\n",
      "\u001b[93;1mReview srcode with all comments added so far\u001b[0m======================================================================================================\n",
      "                # First argument of the wrapped callable is `*args`, as in================(66)      \n",
      "                # `partialmethod(lambda *args)`.==========================================(67)      \n",
      "                return sig================================================================(68)      \n",
      "            else:=========================================================================(69)      \n",
      "                sig_params = tuple(sig.parameters.values())===============================(70)      \n",
      "                assert (not sig_params or=================================================(71)      \n",
      "                        first_wrapped_param is not sig_params[0])=========================(72)      \n",
      "                new_params = (first_wrapped_param,) + sig_params==========================(73)      \n",
      "                return sig.replace(parameters=new_params)=================================(74)      \n",
      "                                                                                                                                                        (75)\n",
      "    if isfunction(obj) or _signature_is_functionlike(obj):================================(76) # spot 0: \u001b[36;1mwhatinside's sig is finally processed by _signature_from_function\u001b[0m\n",
      "        # If it's a pure Python function, or an object that is duck type==================(77) # spot 4: \u001b[36;1minit func will be processed by _signature_from_function in the block above. see explorations below:\u001b[0m\n",
      "        # of a Python function (Cython functions, for instance), then:====================(78)      \n",
      "        return _signature_from_function(sigcls, obj,======================================(79)      \n",
      "                                        skip_bound_arg=skip_bound_arg)====================(80)      \n",
      "                                                                                                                                                        (81)\n",
      "    if _signature_is_builtin(obj):========================================================(82)      \n",
      "        return _signature_from_builtin(sigcls, obj,=======================================(83)      \n",
      "                                       skip_bound_arg=skip_bound_arg)=====================(84)      \n",
      "                                                                                                                                                        (85)\n",
      "    if isinstance(obj, functools.partial):================================================(86)      \n",
      "        wrapped_sig = _get_signature_of(obj.func)=========================================(87)      \n",
      "        return _signature_get_partial(wrapped_sig, obj)===================================(88)      \n",
      "                                                                                                                                                        (89)\n",
      "    sig = None============================================================================(90)      \n",
      "    if isinstance(obj, type):=============================================================(91) # spot 1: \u001b[36;1mFoo is taken care of in this if block\u001b[0m\n",
      "        # obj is a class or a metaclass===================================================(92)      \n",
      "                                                                                                                                                        (93)\n",
      "        # First, let's see if it has an overloaded __call__ defined=======================(94)      \n",
      "        # in its metaclass================================================================(95)      \n",
      "        call = _signature_get_user_defined_method(type(obj), '__call__')==================(96)      \n",
      "        if call is not None:==============================================================(97)      \n",
      "            sig = _get_signature_of(call)=================================================(98)      \n",
      "                                                                                                                                     part No.3 out of 6 parts\n",
      "\n"
     ]
    }
   ],
   "source": [
    "fdb.docsrc(77, \"init func will be processed by _signature_from_function in the block above. see explorations below:\", \"obj.__init__\", \\\n",
    "            \"_signature_from_function(sigcls, obj.__init__, skip_bound_arg=skip_bound_arg)\")"
   ]
  },
  {
   "cell_type": "markdown",
   "id": "2d5335ed",
   "metadata": {},
   "source": [
    "### Example: Base's own `__new__` can be a problem"
   ]
  },
  {
   "cell_type": "code",
   "execution_count": null,
   "id": "2efaa402",
   "metadata": {},
   "outputs": [
    {
     "data": {
      "text/plain": [
       "<Signature (d, e, f)>"
      ]
     },
     "execution_count": null,
     "metadata": {},
     "output_type": "execute_result"
    }
   ],
   "source": [
    "class Base: # pass\n",
    "    def __new__(self, **args): pass  # defines a __new__ \n",
    "\n",
    "class Foo_new(Base):\n",
    "    def __init__(self, d, e, f): pass\n",
    "    \n",
    "inspect._signature_from_callable(Foo_new, sigcls=inspect.Signature)"
   ]
  },
  {
   "cell_type": "code",
   "execution_count": null,
   "id": "6fb9ed0c",
   "metadata": {},
   "outputs": [],
   "source": [
    "fdb.eg = \"\"\"\n",
    "class Base: # pass\n",
    "    def __new__(self, **args): pass  # defines a __new__ \n",
    "\n",
    "class Foo_new(Base):\n",
    "    def __init__(self, d, e, f): pass\n",
    "    \n",
    "inspect._signature_from_callable(Foo_new, sigcls=inspect.Signature)\n",
    "\"\"\""
   ]
  },
  {
   "cell_type": "code",
   "execution_count": null,
   "id": "aa722089",
   "metadata": {},
   "outputs": [],
   "source": [
    "# fdb.takExample(example, inspect=inspect, Foo_new=Foo_new)"
   ]
  },
  {
   "cell_type": "code",
   "execution_count": null,
   "id": "d427a5ec",
   "metadata": {},
   "outputs": [],
   "source": [
    "# fdb.snoop()"
   ]
  },
  {
   "cell_type": "code",
   "execution_count": null,
   "id": "5a326696",
   "metadata": {},
   "outputs": [
    {
     "name": "stdout",
     "output_type": "stream",
     "text": [
      "        else:=============================================================================(99)      \n",
      "            factory_method = None=========================================================(100)     \n",
      "            new = _signature_get_user_defined_method(obj, '__new__')======================(101)     \n",
      "            init = _signature_get_user_defined_method(obj, '__init__')====================(102)     \n",
      "            # Now we check if the 'obj' class has an own '__new__' method=================(103) # spot 2: \u001b[34;1mFoo has no methods on call nor new, but has init\u001b[0m\n",
      "            if '__new__' in obj.__dict__:=================================================(104)     \n",
      "                factory_method = new======================================================(105)     \n",
      "            # or an own '__init__' method=================================================(106)     \n",
      "            elif '__init__' in obj.__dict__:==============================================(107)     \n",
      "                factory_method = init=====================================================(108)     \n",
      "            # If not, we take inherited '__new__' or '__init__', if present===============(109)     \n",
      "            elif new is not None:=========================================================(110)     \n",
      "                factory_method = new======================================================(111)     \n",
      "            elif init is not None:========================================================(112)     \n",
      "                factory_method = init=====================================================(113)     \n",
      "                                                                                                                                                        (114)\n",
      "            if factory_method is not None:================================================(115)     \n",
      "                sig = _get_signature_of(factory_method)===================================(116) # spot 3: \u001b[34;1minit func is taken by _get_signature_of\u001b[0m\n",
      "                                                                                                                                                        (117)\n",
      "        if sig is None:===================================================================(118)     \n",
      "            # At this point we know, that `obj` is a class, with no user-=================(119)     \n",
      "            # defined '__init__', '__new__', or class-level '__call__'====================(120)     \n",
      "                                                                                                                                                        (121)\n",
      "            for base in obj.__mro__[:-1]:=================================================(122)     \n",
      "                # Since '__text_signature__' is implemented as a==========================(123)     \n",
      "                # descriptor that extracts text signature from the========================(124)     \n",
      "                # class docstring, if 'obj' is derived from a builtin=====================(125)     \n",
      "                # class, its own '__text_signature__' may be 'None'.======================(126)     \n",
      "                # Therefore, we go through the MRO (except the last=======================(127)     \n",
      "                # class in there, which is 'object') to find the first====================(128)     \n",
      "                # class with non-empty text signature.====================================(129)     \n",
      "                try:======================================================================(130)     \n",
      "                    text_sig = base.__text_signature__====================================(131)     \n",
      "                                                                                                                                     part No.4 out of 6 parts\n"
     ]
    }
   ],
   "source": [
    "fdb.print(part=4)"
   ]
  },
  {
   "cell_type": "code",
   "execution_count": null,
   "id": "3f075ec0",
   "metadata": {},
   "outputs": [
    {
     "name": "stdout",
     "output_type": "stream",
     "text": [
      "=================================================     Investigating \u001b[91;1m_signature_from_callable\u001b[0m     =================================================\n",
      "==============================================================     on line \u001b[91;1m104\u001b[0m     ===============================================================\n",
      "     with example \u001b[91;1m\n",
      "class Base: # pass\n",
      "    def __new__(self, **args): pass  # defines a __new__ \n",
      "\n",
      "class Foo_new(Base):\n",
      "    def __init__(self, d, e, f): pass\n",
      "    \n",
      "inspect._signature_from_callable(Foo_new, sigcls=inspect.Signature)\n",
      "\u001b[0m     \n",
      "\n",
      "\u001b[93;1mprint selected srcline with expands below\u001b[0m--------\n",
      "            init = _signature_get_user_defined_method(obj, '__init__')                                                                                  (102)\n",
      "            # Now we check if the 'obj' class has an own '__new__' method                                                                               (103)\n",
      "            if '__new__' in obj.__dict__:===============================================================================================================(104)\n",
      "\u001b[91;1mAlthough Foo inherits __new__ from Base, but Foo.__dict__ refuse to have it. So, Foo only take sig from its own __init__. therefore it will go back to step 4 to process sig from function __init__\u001b[0m\n",
      "                factory_method = new                                                                                                                    (105)\n",
      "            # or an own '__init__' method                                                                                                               (106)\n",
      "\n",
      "==================================================================================================================\u001b[91;1mStart of my srcline exploration:\u001b[0m\n",
      "\n",
      "\n",
      "                                                                                               '__new__' in obj.__dict__ => '__new__' in obj.__dict__ : False\n",
      "\n",
      "\n",
      "                                                                                              '__init__' in obj.__dict__ => '__init__' in obj.__dict__ : True\n",
      "====================================================================================================================\u001b[91;1mEnd of my srcline exploration:\u001b[0m\n",
      "\n",
      "\n",
      "\u001b[93;1mReview srcode with all comments added so far\u001b[0m======================================================================================================\n",
      "        else:=============================================================================(99)      \n",
      "            factory_method = None=========================================================(100)     \n",
      "            new = _signature_get_user_defined_method(obj, '__new__')======================(101)     \n",
      "            init = _signature_get_user_defined_method(obj, '__init__')====================(102)     \n",
      "            # Now we check if the 'obj' class has an own '__new__' method=================(103) # spot 2: \u001b[36;1mFoo has no methods on call nor new, but has init\u001b[0m\n",
      "            if '__new__' in obj.__dict__:=================================================(104) # spot 5: \u001b[36;1mAlthough Foo inherits __new__ from Base, but Foo.__dict__ refuse to have it. So, Foo only take sig from its own __init__. therefore it will go back to step 4 to process sig from function __init__\u001b[0m\n",
      "                factory_method = new======================================================(105)     \n",
      "            # or an own '__init__' method=================================================(106)     \n",
      "            elif '__init__' in obj.__dict__:==============================================(107)     \n",
      "                factory_method = init=====================================================(108)     \n",
      "            # If not, we take inherited '__new__' or '__init__', if present===============(109)     \n",
      "            elif new is not None:=========================================================(110)     \n",
      "                factory_method = new======================================================(111)     \n",
      "            elif init is not None:========================================================(112)     \n",
      "                factory_method = init=====================================================(113)     \n",
      "                                                                                                                                                        (114)\n",
      "            if factory_method is not None:================================================(115)     \n",
      "                sig = _get_signature_of(factory_method)===================================(116) # spot 3: \u001b[36;1minit func is taken by _get_signature_of\u001b[0m\n",
      "                                                                                                                                                        (117)\n",
      "        if sig is None:===================================================================(118)     \n",
      "            # At this point we know, that `obj` is a class, with no user-=================(119)     \n",
      "            # defined '__init__', '__new__', or class-level '__call__'====================(120)     \n",
      "                                                                                                                                                        (121)\n",
      "            for base in obj.__mro__[:-1]:=================================================(122)     \n",
      "                # Since '__text_signature__' is implemented as a==========================(123)     \n",
      "                # descriptor that extracts text signature from the========================(124)     \n",
      "                # class docstring, if 'obj' is derived from a builtin=====================(125)     \n",
      "                # class, its own '__text_signature__' may be 'None'.======================(126)     \n",
      "                # Therefore, we go through the MRO (except the last=======================(127)     \n",
      "                # class in there, which is 'object') to find the first====================(128)     \n",
      "                # class with non-empty text signature.====================================(129)     \n",
      "                try:======================================================================(130)     \n",
      "                    text_sig = base.__text_signature__====================================(131)     \n",
      "                                                                                                                                     part No.4 out of 6 parts\n",
      "\n"
     ]
    }
   ],
   "source": [
    "fdb.docsrc(104, \"Although Foo inherits __new__ from Base, but Foo.__dict__ refuse to have it. \\\n",
    "So, Foo only take sig from its own __init__. therefore it will go back to step 4 to process sig from function __init__\", \"'__new__' in obj.__dict__\", \"'__init__' in obj.__dict__\", showdbsrc=True)"
   ]
  },
  {
   "cell_type": "code",
   "execution_count": null,
   "id": "8d3367b4",
   "metadata": {},
   "outputs": [
    {
     "name": "stdout",
     "output_type": "stream",
     "text": [
      "=================================================     Investigating \u001b[91;1m_signature_from_callable\u001b[0m     =================================================\n",
      "==============================================================     on line \u001b[91;1m104\u001b[0m     ===============================================================\n",
      "     with example \u001b[91;1m\n",
      "class Base: # pass\n",
      "    def __new__(self, **args): pass  # defines a __new__ \n",
      "\n",
      "class Foo_new(Base):\n",
      "    def __init__(self, d, e, f): pass\n",
      "    \n",
      "self.dbsrc(Foo_new, sigcls=inspect.Signature)\n",
      "\u001b[0m     \n",
      "\n",
      "def _signature_from_callable(obj, *,======================================================(0)       \n",
      "                             follow_wrapper_chains=True,==================================(1)       \n",
      "                             skip_bound_arg=True,=========================================(2)       \n",
      "                             sigcls):=====================================================(3)       \n",
      "                                                                                                                                                        (4)\n",
      "    \"\"\"Private helper function to get signature for arbitrary=============================(5)       \n",
      "    callable objects.=====================================================================(6)       \n",
      "    \"\"\"===================================================================================(7)       \n",
      "                                                                                                                                                        (8)\n",
      "    _get_signature_of = functools.partial(_signature_from_callable,=======================(9)       \n",
      "                                follow_wrapper_chains=follow_wrapper_chains,==============(10)      \n",
      "                                skip_bound_arg=skip_bound_arg,============================(11)      \n",
      "                                sigcls=sigcls)============================================(12)      \n",
      "                                                                                                                                                        (13)\n",
      "    if not callable(obj):=================================================================(14)      \n",
      "        raise TypeError('{!r} is not a callable object'.format(obj))======================(15)      \n",
      "                                                                                                                                                        (16)\n",
      "    if isinstance(obj, types.MethodType):=================================================(17)      \n",
      "        # In this case we skip the first parameter of the underlying======================(18)      \n",
      "        # function (usually `self` or `cls`).=============================================(19)      \n",
      "        sig = _get_signature_of(obj.__func__)=============================================(20)      \n",
      "                                                                                                                                                        (21)\n",
      "        if skip_bound_arg:================================================================(22)      \n",
      "            return _signature_bound_method(sig)===========================================(23)      \n",
      "        else:=============================================================================(24)      \n",
      "            return sig====================================================================(25)      \n",
      "                                                                                                                                                        (26)\n",
      "    # Was this function wrapped by a decorator?===========================================(27)      \n",
      "    if follow_wrapper_chains:=============================================================(28)      \n",
      "        obj = unwrap(obj, stop=(lambda f: hasattr(f, \"__signature__\")))===================(29)      \n",
      "        if isinstance(obj, types.MethodType):=============================================(30)      \n",
      "            # If the unwrapped object is a *method*, we might want to=====================(31)      \n",
      "            # skip its first parameter (self).============================================(32)      \n",
      "            # See test_signature_wrapped_bound_method for details.========================(33)      \n",
      "            return _get_signature_of(obj)=================================================(34)      \n",
      "                                                                                                                                                        (35)\n",
      "    try:==================================================================================(36)      \n",
      "        sig = obj.__signature__===========================================================(37)      \n",
      "    except AttributeError:================================================================(38)      \n",
      "        pass==============================================================================(39)      \n",
      "    else:=================================================================================(40)      \n",
      "        if sig is not None:===============================================================(41)      \n",
      "            if not isinstance(sig, Signature):============================================(42)      \n",
      "                raise TypeError(==========================================================(43)      \n",
      "                    'unexpected object {!r} in __signature__ '============================(44)      \n",
      "                    'attribute'.format(sig))==============================================(45)      \n",
      "            return sig====================================================================(46)      \n",
      "                                                                                                                                                        (47)\n",
      "    try:==================================================================================(48)      \n",
      "        partialmethod = obj._partialmethod================================================(49)      \n",
      "    except AttributeError:================================================================(50)      \n",
      "        pass==============================================================================(51)      \n",
      "    else:=================================================================================(52)      \n",
      "        if isinstance(partialmethod, functools.partialmethod):============================(53)      \n",
      "            # Unbound partialmethod (see functools.partialmethod)=========================(54)      \n",
      "            # This means, that we need to calculate the signature=========================(55)      \n",
      "            # as if it's a regular partial object, but taking into========================(56)      \n",
      "            # account that the first positional argument==================================(57)      \n",
      "            # (usually `self`, or `cls`) will not be passed===============================(58)      \n",
      "            # automatically (as for boundmethods)=========================================(59)      \n",
      "                                                                                                                                                        (60)\n",
      "            wrapped_sig = _get_signature_of(partialmethod.func)===========================(61)      \n",
      "                                                                                                                                                        (62)\n",
      "            sig = _signature_get_partial(wrapped_sig, partialmethod, (None,))=============(63)      \n",
      "            first_wrapped_param = tuple(wrapped_sig.parameters.values())[0]===============(64)      \n",
      "            if first_wrapped_param.kind is Parameter.VAR_POSITIONAL:======================(65)      \n",
      "                # First argument of the wrapped callable is `*args`, as in================(66)      \n",
      "                # `partialmethod(lambda *args)`.==========================================(67)      \n",
      "                return sig================================================================(68)      \n",
      "            else:=========================================================================(69)      \n",
      "                sig_params = tuple(sig.parameters.values())===============================(70)      \n",
      "                assert (not sig_params or=================================================(71)      \n",
      "                        first_wrapped_param is not sig_params[0])=========================(72)      \n",
      "                new_params = (first_wrapped_param,) + sig_params==========================(73)      \n",
      "                return sig.replace(parameters=new_params)=================================(74)      \n",
      "                                                                                                                                                        (75)\n",
      "    if isfunction(obj) or _signature_is_functionlike(obj):================================(76) # spot 0: \u001b[35;1mwhatinside's sig is finally processed by _signature_from_function\u001b[0m\n",
      "        # If it's a pure Python function, or an object that is duck type==================(77) # spot 4: \u001b[35;1minit func will be processed by _signature_from_function in the block above. see explorations below:\u001b[0m\n",
      "        # of a Python function (Cython functions, for instance), then:====================(78)      \n",
      "        return _signature_from_function(sigcls, obj,======================================(79)      \n",
      "                                        skip_bound_arg=skip_bound_arg)====================(80)      \n",
      "                                                                                                                                                        (81)\n",
      "    if _signature_is_builtin(obj):========================================================(82)      \n",
      "        return _signature_from_builtin(sigcls, obj,=======================================(83)      \n",
      "                                       skip_bound_arg=skip_bound_arg)=====================(84)      \n",
      "                                                                                                                                                        (85)\n",
      "    if isinstance(obj, functools.partial):================================================(86)      \n",
      "        wrapped_sig = _get_signature_of(obj.func)=========================================(87)      \n",
      "        return _signature_get_partial(wrapped_sig, obj)===================================(88)      \n",
      "                                                                                                                                                        (89)\n",
      "    sig = None============================================================================(90)      \n",
      "    if isinstance(obj, type):=============================================================(91) # spot 1: \u001b[35;1mFoo is taken care of in this if block\u001b[0m\n",
      "        # obj is a class or a metaclass===================================================(92)      \n",
      "                                                                                                                                                        (93)\n",
      "        # First, let's see if it has an overloaded __call__ defined=======================(94)      \n",
      "        # in its metaclass================================================================(95)      \n",
      "        call = _signature_get_user_defined_method(type(obj), '__call__')==================(96)      \n",
      "        if call is not None:==============================================================(97)      \n",
      "            sig = _get_signature_of(call)=================================================(98)      \n",
      "        else:=============================================================================(99)      \n",
      "            factory_method = None=========================================================(100)     \n",
      "            new = _signature_get_user_defined_method(obj, '__new__')======================(101)     \n",
      "            init = _signature_get_user_defined_method(obj, '__init__')====================(102)     \n",
      "            # Now we check if the 'obj' class has an own '__new__' method=================(103) # spot 2: \u001b[35;1mFoo has no methods on call nor new, but has init\u001b[0m\n",
      "            if '__new__' in obj.__dict__:=================================================(104) # spot 5: \u001b[35;1mAlthough Foo inherits __new__ from Base, but Foo.__dict__ refuse to have it. So, Foo only take sig from its own __init__. therefore it will go back to step 4 to process sig from function __init__\u001b[0m\n",
      "                factory_method = new======================================================(105)     \n",
      "            # or an own '__init__' method=================================================(106)     \n",
      "            elif '__init__' in obj.__dict__:==============================================(107)     \n",
      "                factory_method = init=====================================================(108)     \n",
      "            # If not, we take inherited '__new__' or '__init__', if present===============(109)     \n",
      "            elif new is not None:=========================================================(110)     \n",
      "                factory_method = new======================================================(111)     \n",
      "            elif init is not None:========================================================(112)     \n",
      "                factory_method = init=====================================================(113)     \n",
      "                                                                                                                                                        (114)\n",
      "            if factory_method is not None:================================================(115)     \n",
      "                sig = _get_signature_of(factory_method)===================================(116) # spot 3: \u001b[35;1minit func is taken by _get_signature_of\u001b[0m\n",
      "                                                                                                                                                        (117)\n",
      "        if sig is None:===================================================================(118)     \n",
      "            # At this point we know, that `obj` is a class, with no user-=================(119)     \n",
      "            # defined '__init__', '__new__', or class-level '__call__'====================(120)     \n",
      "                                                                                                                                                        (121)\n",
      "            for base in obj.__mro__[:-1]:=================================================(122)     \n",
      "                # Since '__text_signature__' is implemented as a==========================(123)     \n",
      "                # descriptor that extracts text signature from the========================(124)     \n",
      "                # class docstring, if 'obj' is derived from a builtin=====================(125)     \n",
      "                # class, its own '__text_signature__' may be 'None'.======================(126)     \n",
      "                # Therefore, we go through the MRO (except the last=======================(127)     \n",
      "                # class in there, which is 'object') to find the first====================(128)     \n",
      "                # class with non-empty text signature.====================================(129)     \n",
      "                try:======================================================================(130)     \n",
      "                    text_sig = base.__text_signature__====================================(131)     \n",
      "                except AttributeError:====================================================(132)     \n",
      "                    pass==================================================================(133)     \n",
      "                else:=====================================================================(134)     \n",
      "                    if text_sig:==========================================================(135)     \n",
      "                        # If 'base' class has a __text_signature__ attribute:=============(136)     \n",
      "                        # return a signature based on it==================================(137)     \n",
      "                        return _signature_fromstr(sigcls, base, text_sig)=================(138)     \n",
      "                                                                                                                                                        (139)\n",
      "            # No '__text_signature__' was found for the 'obj' class.======================(140)     \n",
      "            # Last option is to check if its '__init__' is================================(141)     \n",
      "            # object.__init__ or type.__init__.===========================================(142)     \n",
      "            if type not in obj.__mro__:===================================================(143)     \n",
      "                # We have a class (not metaclass), but no user-defined====================(144)     \n",
      "                # __init__ or __new__ for it==============================================(145)     \n",
      "                if (obj.__init__ is object.__init__ and===================================(146)     \n",
      "                    obj.__new__ is object.__new__):=======================================(147)     \n",
      "                    # Return a signature of 'object' builtin.=============================(148)     \n",
      "                    return sigcls.from_callable(object)===================================(149)     \n",
      "                else:=====================================================================(150)     \n",
      "                    raise ValueError(=====================================================(151)     \n",
      "                        'no signature found for builtin type {!r}'.format(obj))===========(152)     \n",
      "                                                                                                                                                        (153)\n",
      "    elif not isinstance(obj, _NonUserDefinedCallables):===================================(154)     \n",
      "        # An object with __call__=========================================================(155)     \n",
      "        # We also check that the 'obj' is not an instance of==============================(156)     \n",
      "        # _WrapperDescriptor or _MethodWrapper to avoid===================================(157)     \n",
      "        # infinite recursion (and even potential segfault)================================(158)     \n",
      "        call = _signature_get_user_defined_method(type(obj), '__call__')==================(159)     \n",
      "        if call is not None:==============================================================(160)     \n",
      "            try:==========================================================================(161)     \n",
      "                sig = _get_signature_of(call)=============================================(162)     \n",
      "            except ValueError as ex:======================================================(163)     \n",
      "                msg = 'no signature found for {!r}'.format(obj)===========================(164)     \n",
      "                raise ValueError(msg) from ex=============================================(165)     \n",
      "                                                                                                                                                        (166)\n",
      "    if sig is not None:===================================================================(167)     \n",
      "        # For classes and objects we skip the first parameter of their====================(168)     \n",
      "        # __call__, __new__, or __init__ methods==========================================(169)     \n",
      "        if skip_bound_arg:================================================================(170)     \n",
      "            return _signature_bound_method(sig)===========================================(171)     \n",
      "        else:=============================================================================(172)     \n",
      "            return sig====================================================================(173)     \n",
      "                                                                                                                                                        (174)\n",
      "    if isinstance(obj, types.BuiltinFunctionType):========================================(175)     \n",
      "        # Raise a nicer error message for builtins========================================(176)     \n",
      "        msg = 'no signature found for builtin function {!r}'.format(obj)==================(177)     \n",
      "        raise ValueError(msg)=============================================================(178)     \n",
      "                                                                                                                                                        (179)\n",
      "    raise ValueError('callable {!r} is not supported by signature'.format(obj))===========(180)     \n",
      "                                                                                                                                                        (181)\n"
     ]
    }
   ],
   "source": [
    "fdb.print()"
   ]
  },
  {
   "cell_type": "markdown",
   "id": "e6473220",
   "metadata": {},
   "source": [
    "### Example: How FixSigMeta fixed Base's `__new__` problem"
   ]
  },
  {
   "cell_type": "code",
   "execution_count": null,
   "id": "1da6a3c9",
   "metadata": {},
   "outputs": [],
   "source": [
    "from fastcore.meta import *"
   ]
  },
  {
   "cell_type": "code",
   "execution_count": null,
   "id": "e1a866dd",
   "metadata": {},
   "outputs": [
    {
     "data": {
      "text/plain": [
       "<Signature (d, e, f)>"
      ]
     },
     "execution_count": null,
     "metadata": {},
     "output_type": "execute_result"
    }
   ],
   "source": [
    "class Base: # pass\n",
    "    def __new__(self, **args): pass  # defines a __new__ \n",
    "\n",
    "class Foo_new_fix(Base, metaclass=FixSigMeta):\n",
    "    def __init__(self, d, e, f): pass\n",
    "    \n",
    "inspect._signature_from_callable(Foo_new_fix, sigcls=inspect.Signature)"
   ]
  },
  {
   "cell_type": "code",
   "execution_count": null,
   "id": "2922ea23",
   "metadata": {},
   "outputs": [],
   "source": [
    "fdb.eg = \"\"\"\n",
    "class Base: # pass\n",
    "    def __new__(self, **args): pass  # defines a __new__ \n",
    "\n",
    "class Foo_new_fix(Base, metaclass=FixSigMeta):\n",
    "    def __init__(self, d, e, f): pass\n",
    "    \n",
    "inspect._signature_from_callable(Foo_new_fix, sigcls=inspect.Signature)\n",
    "\"\"\""
   ]
  },
  {
   "cell_type": "code",
   "execution_count": null,
   "id": "537b94d1",
   "metadata": {},
   "outputs": [],
   "source": [
    "# fdb.takExample(example, Foo_new_fix=Foo_new_fix, inspect=inspect)"
   ]
  },
  {
   "cell_type": "code",
   "execution_count": null,
   "id": "c60a9b31",
   "metadata": {},
   "outputs": [],
   "source": [
    "# fdb.snoop()"
   ]
  },
  {
   "cell_type": "code",
   "execution_count": null,
   "id": "e6d0f22c",
   "metadata": {
    "hide_input": false
   },
   "outputs": [
    {
     "name": "stdout",
     "output_type": "stream",
     "text": [
      "=================================================     Investigating \u001b[91;1m_signature_from_callable\u001b[0m     =================================================\n",
      "===============================================================     on line \u001b[91;1m29\u001b[0m     ===============================================================\n",
      "     with example \u001b[91;1m\n",
      "class Base: # pass\n",
      "    def __new__(self, **args): pass  # defines a __new__ \n",
      "\n",
      "class Foo_new_fix(Base, metaclass=FixSigMeta):\n",
      "    def __init__(self, d, e, f): pass\n",
      "    \n",
      "inspect._signature_from_callable(Foo_new_fix, sigcls=inspect.Signature)\n",
      "\u001b[0m     \n",
      "\n",
      "\u001b[93;1mprint selected srcline with expands below\u001b[0m--------\n",
      "    # Was this function wrapped by a decorator?                                                                                                         (27)\n",
      "    if follow_wrapper_chains:                                                                                                                           (28)\n",
      "        obj = unwrap(obj, stop=(lambda f: hasattr(f, \"__signature__\")))=================================================================================(29)\n",
      "                                                                                          \u001b[91;1mEvery obj must be unwrapped if wrapped, unless it has __signature__\u001b[0m\n",
      "        if isinstance(obj, types.MethodType):                                                                                                           (30)\n",
      "            # If the unwrapped object is a *method*, we might want to                                                                                   (31)\n",
      "\n",
      "==================================================================================================================\u001b[91;1mStart of my srcline exploration:\u001b[0m\n",
      "\n",
      "\n",
      "                                                                                                                           obj => obj : <class 'Foo_new_fix'>\n",
      "\n",
      "\n",
      "                                                                                                              obj = unwrap(obj) => obj: <class 'Foo_new_fix'>\n",
      "\n",
      "\n",
      "                                                                obj = unwrap(obj, stop=(lambda f: hasattr(f, '__signature__'))) => obj: <class 'Foo_new_fix'>\n",
      "\n",
      "\n",
      "inspect.getdoc(unwrap) => inspect.getdoc(unwrap) : Get the object wrapped by *func*.\n",
      "\n",
      "Follows the chain of :attr:`__wrapped__` attributes returning the last\n",
      "object in the chain.\n",
      "\n",
      "*stop* is an optional callback accepting an object in the wrapper chain\n",
      "as its sole argument that allows the unwrapping to be terminated early if\n",
      "the callback returns a true value. If the callback never returns a true\n",
      "value, the last object in the chain is returned as usual. For example,\n",
      ":func:`signature` uses this to stop unwrapping if any object in the\n",
      "chain has a ``__signature__`` attribute defined.\n",
      "\n",
      ":exc:`ValueError` is raised if a cycle is encountered.\n",
      "\n",
      " \n",
      "====================================================================================================================\u001b[91;1mEnd of my srcline exploration:\u001b[0m\n",
      "\n",
      "\n",
      "\u001b[93;1mReview srcode with all comments added so far\u001b[0m======================================================================================================\n",
      "def _signature_from_callable(obj, *,======================================================(0)       \n",
      "                             follow_wrapper_chains=True,==================================(1)       \n",
      "                             skip_bound_arg=True,=========================================(2)       \n",
      "                             sigcls):=====================================================(3)       \n",
      "                                                                                                                                                        (4)\n",
      "    \"\"\"Private helper function to get signature for arbitrary=============================(5)       \n",
      "    callable objects.=====================================================================(6)       \n",
      "    \"\"\"===================================================================================(7)       \n",
      "                                                                                                                                                        (8)\n",
      "    _get_signature_of = functools.partial(_signature_from_callable,=======================(9)       \n",
      "                                follow_wrapper_chains=follow_wrapper_chains,==============(10)      \n",
      "                                skip_bound_arg=skip_bound_arg,============================(11)      \n",
      "                                sigcls=sigcls)============================================(12)      \n",
      "                                                                                                                                                        (13)\n",
      "    if not callable(obj):=================================================================(14)      \n",
      "        raise TypeError('{!r} is not a callable object'.format(obj))======================(15)      \n",
      "                                                                                                                                                        (16)\n",
      "    if isinstance(obj, types.MethodType):=================================================(17)      \n",
      "        # In this case we skip the first parameter of the underlying======================(18)      \n",
      "        # function (usually `self` or `cls`).=============================================(19)      \n",
      "        sig = _get_signature_of(obj.__func__)=============================================(20)      \n",
      "                                                                                                                                                        (21)\n",
      "        if skip_bound_arg:================================================================(22)      \n",
      "            return _signature_bound_method(sig)===========================================(23)      \n",
      "        else:=============================================================================(24)      \n",
      "            return sig====================================================================(25)      \n",
      "                                                                                                                                                        (26)\n",
      "    # Was this function wrapped by a decorator?===========================================(27)      \n",
      "    if follow_wrapper_chains:=============================================================(28)      \n",
      "        obj = unwrap(obj, stop=(lambda f: hasattr(f, \"__signature__\")))===================(29) # spot 6: \u001b[35;1mEvery obj must be unwrapped if wrapped, unless it has __signature__\u001b[0m\n",
      "        if isinstance(obj, types.MethodType):=============================================(30)      \n",
      "            # If the unwrapped object is a *method*, we might want to=====================(31)      \n",
      "            # skip its first parameter (self).============================================(32)      \n",
      "                                                                                                                                     part No.1 out of 6 parts\n",
      "\n"
     ]
    }
   ],
   "source": [
    "fdb.docsrc(29, \"Every obj must be unwrapped if wrapped, unless it has __signature__\", \"obj\", \"obj = unwrap(obj)\", \\\n",
    "            \"obj = unwrap(obj, stop=(lambda f: hasattr(f, '__signature__')))\", \"inspect.getdoc(unwrap)\")"
   ]
  },
  {
   "cell_type": "code",
   "execution_count": null,
   "id": "dd828efc",
   "metadata": {},
   "outputs": [
    {
     "name": "stdout",
     "output_type": "stream",
     "text": [
      "=================================================     Investigating \u001b[91;1m_signature_from_callable\u001b[0m     =================================================\n",
      "===============================================================     on line \u001b[91;1m37\u001b[0m     ===============================================================\n",
      "     with example \u001b[91;1m\n",
      "class Base: # pass\n",
      "    def __new__(self, **args): pass  # defines a __new__ \n",
      "\n",
      "class Foo_new_fix(Base, metaclass=FixSigMeta):\n",
      "    def __init__(self, d, e, f): pass\n",
      "    \n",
      "self.dbsrc(Foo_new_fix, sigcls=inspect.Signature)\n",
      "\u001b[0m     \n",
      "\n",
      "\u001b[93;1mprint selected srcline with expands below\u001b[0m--------\n",
      "                                                                                                                                                        (35)\n",
      "    try:                                                                                                                                                (36)\n",
      "        sig = obj.__signature__=========================================================================================================================(37)\n",
      "                                                                         \u001b[91;1mEvery obj must be checked with __signature__, if it has the attr, then use it as sig\u001b[0m\n",
      "    except AttributeError:                                                                                                                              (38)\n",
      "        pass                                                                                                                                            (39)\n",
      "\n",
      "\u001b[93;1mReview srcode with all comments added so far\u001b[0m======================================================================================================\n",
      "            # See test_signature_wrapped_bound_method for details.========================(33)      \n",
      "            return _get_signature_of(obj)=================================================(34)      \n",
      "                                                                                                                                                        (35)\n",
      "    try:==================================================================================(36)      \n",
      "        sig = obj.__signature__===========================================================(37) # spot 7: \u001b[34;1mEvery obj must be checked with __signature__, if it has the attr, then use it as sig\u001b[0m\n",
      "    except AttributeError:================================================================(38)      \n",
      "        pass==============================================================================(39)      \n",
      "    else:=================================================================================(40)      \n",
      "        if sig is not None:===============================================================(41)      \n",
      "            if not isinstance(sig, Signature):============================================(42)      \n",
      "                raise TypeError(==========================================================(43)      \n",
      "                    'unexpected object {!r} in __signature__ '============================(44)      \n",
      "                    'attribute'.format(sig))==============================================(45)      \n",
      "            return sig====================================================================(46)      \n",
      "                                                                                                                                                        (47)\n",
      "    try:==================================================================================(48)      \n",
      "        partialmethod = obj._partialmethod================================================(49)      \n",
      "    except AttributeError:================================================================(50)      \n",
      "        pass==============================================================================(51)      \n",
      "    else:=================================================================================(52)      \n",
      "        if isinstance(partialmethod, functools.partialmethod):============================(53)      \n",
      "            # Unbound partialmethod (see functools.partialmethod)=========================(54)      \n",
      "            # This means, that we need to calculate the signature=========================(55)      \n",
      "            # as if it's a regular partial object, but taking into========================(56)      \n",
      "            # account that the first positional argument==================================(57)      \n",
      "            # (usually `self`, or `cls`) will not be passed===============================(58)      \n",
      "            # automatically (as for boundmethods)=========================================(59)      \n",
      "                                                                                                                                                        (60)\n",
      "            wrapped_sig = _get_signature_of(partialmethod.func)===========================(61)      \n",
      "                                                                                                                                                        (62)\n",
      "            sig = _signature_get_partial(wrapped_sig, partialmethod, (None,))=============(63)      \n",
      "            first_wrapped_param = tuple(wrapped_sig.parameters.values())[0]===============(64)      \n",
      "            if first_wrapped_param.kind is Parameter.VAR_POSITIONAL:======================(65)      \n",
      "                                                                                                                                     part No.2 out of 6 parts\n",
      "\n"
     ]
    }
   ],
   "source": [
    "fdb.docsrc(37, \"Every obj must be checked with __signature__, if it has the attr, then use it as sig\", )"
   ]
  },
  {
   "cell_type": "markdown",
   "id": "91d18b84",
   "metadata": {},
   "source": [
    "### Example: metaclass own `__call__` can be a problem"
   ]
  },
  {
   "cell_type": "code",
   "execution_count": null,
   "id": "a9a4d473",
   "metadata": {},
   "outputs": [
    {
     "data": {
      "text/plain": [
       "<Signature (*args, **kwargs)>"
      ]
     },
     "execution_count": null,
     "metadata": {},
     "output_type": "execute_result"
    }
   ],
   "source": [
    "class BaseMeta(type): \n",
    "    # using __new__ from type\n",
    "    def __call__(cls, *args, **kwargs): pass\n",
    "class Foo_call(metaclass=BaseMeta): \n",
    "    def __init__(self, d, e, f): pass\n",
    "\n",
    "inspect._signature_from_callable(Foo_call, sigcls=inspect.Signature)"
   ]
  },
  {
   "cell_type": "code",
   "execution_count": null,
   "id": "1e84ab99",
   "metadata": {},
   "outputs": [],
   "source": [
    "fdb.eg = \"\"\"\n",
    "class BaseMeta(type): \n",
    "    # using __new__ from type\n",
    "    def __call__(cls, *args, **kwargs): pass\n",
    "class Foo_call(metaclass=BaseMeta): \n",
    "    def __init__(self, d, e, f): pass\n",
    "\n",
    "inspect._signature_from_callable(Foo_call, sigcls=inspect.Signature)\n",
    "\"\"\""
   ]
  },
  {
   "cell_type": "code",
   "execution_count": null,
   "id": "b821eeaa",
   "metadata": {},
   "outputs": [],
   "source": [
    "# fdb.takExample(example, Foo_call=Foo_call, inspect=inspect)"
   ]
  },
  {
   "cell_type": "code",
   "execution_count": null,
   "id": "e7b55387",
   "metadata": {},
   "outputs": [],
   "source": [
    "# fdb.snoop()"
   ]
  },
  {
   "cell_type": "code",
   "execution_count": null,
   "id": "8c4ac19f",
   "metadata": {},
   "outputs": [
    {
     "name": "stdout",
     "output_type": "stream",
     "text": [
      "=================================================     Investigating \u001b[91;1m_signature_from_callable\u001b[0m     =================================================\n",
      "===============================================================     on line \u001b[91;1m96\u001b[0m     ===============================================================\n",
      "     with example \u001b[91;1m\n",
      "class BaseMeta(type): \n",
      "    # using __new__ from type\n",
      "    def __call__(cls, *args, **kwargs): pass\n",
      "class Foo_call(metaclass=BaseMeta): \n",
      "    def __init__(self, d, e, f): pass\n",
      "\n",
      "inspect._signature_from_callable(Foo_call, sigcls=inspect.Signature)\n",
      "\u001b[0m     \n",
      "\n",
      "\u001b[93;1mprint selected srcline with expands below\u001b[0m--------\n",
      "        # First, let's see if it has an overloaded __call__ defined                                                                                     (94)\n",
      "        # in its metaclass                                                                                                                              (95)\n",
      "        call = _signature_get_user_defined_method(type(obj), '__call__')================================================================================(96)\n",
      "                                                                                                      \u001b[91;1mMust check whether Foo's metaclass has its own __call__\u001b[0m\n",
      "        if call is not None:                                                                                                                            (97)\n",
      "            sig = _get_signature_of(call)                                                                                                               (98)\n",
      "\n",
      "==================================================================================================================\u001b[91;1mStart of my srcline exploration:\u001b[0m\n",
      "\n",
      "\n",
      "                                        call = _signature_get_user_defined_method(type(obj), '__call__') => call: <function BaseMeta.__call__ at 0x1192411f0>\n",
      "\n",
      "\n",
      "inspect.getdoc(_signature_get_user_defined_method) => inspect.getdoc(_signature_get_user_defined_method) : Private helper. Checks if ``cls`` has an attribute\n",
      "named ``method_name`` and returns it only if it is a\n",
      "pure python function.\n",
      "====================================================================================================================\u001b[91;1mEnd of my srcline exploration:\u001b[0m\n",
      "\n",
      "\n",
      "\u001b[93;1mReview srcode with all comments added so far\u001b[0m======================================================================================================\n",
      "                # First argument of the wrapped callable is `*args`, as in================(66)      \n",
      "                # `partialmethod(lambda *args)`.==========================================(67)      \n",
      "                return sig================================================================(68)      \n",
      "            else:=========================================================================(69)      \n",
      "                sig_params = tuple(sig.parameters.values())===============================(70)      \n",
      "                assert (not sig_params or=================================================(71)      \n",
      "                        first_wrapped_param is not sig_params[0])=========================(72)      \n",
      "                new_params = (first_wrapped_param,) + sig_params==========================(73)      \n",
      "                return sig.replace(parameters=new_params)=================================(74)      \n",
      "                                                                                                                                                        (75)\n",
      "    if isfunction(obj) or _signature_is_functionlike(obj):================================(76) # spot 0: \u001b[35;1mwhatinside's sig is finally processed by _signature_from_function\u001b[0m\n",
      "        # If it's a pure Python function, or an object that is duck type==================(77) # spot 4: \u001b[35;1minit func will be processed by _signature_from_function in the block above. see explorations below:\u001b[0m\n",
      "        # of a Python function (Cython functions, for instance), then:====================(78)      \n",
      "        return _signature_from_function(sigcls, obj,======================================(79)      \n",
      "                                        skip_bound_arg=skip_bound_arg)====================(80)      \n",
      "                                                                                                                                                        (81)\n",
      "    if _signature_is_builtin(obj):========================================================(82)      \n",
      "        return _signature_from_builtin(sigcls, obj,=======================================(83)      \n",
      "                                       skip_bound_arg=skip_bound_arg)=====================(84)      \n",
      "                                                                                                                                                        (85)\n",
      "    if isinstance(obj, functools.partial):================================================(86)      \n",
      "        wrapped_sig = _get_signature_of(obj.func)=========================================(87)      \n",
      "        return _signature_get_partial(wrapped_sig, obj)===================================(88)      \n",
      "                                                                                                                                                        (89)\n",
      "    sig = None============================================================================(90)      \n",
      "    if isinstance(obj, type):=============================================================(91) # spot 1: \u001b[35;1mFoo is taken care of in this if block\u001b[0m\n",
      "        # obj is a class or a metaclass===================================================(92)      \n",
      "                                                                                                                                                        (93)\n",
      "        # First, let's see if it has an overloaded __call__ defined=======================(94)      \n",
      "        # in its metaclass================================================================(95)      \n",
      "        call = _signature_get_user_defined_method(type(obj), '__call__')==================(96) # spot 8: \u001b[35;1mMust check whether Foo's metaclass has its own __call__\u001b[0m\n",
      "        if call is not None:==============================================================(97)      \n",
      "            sig = _get_signature_of(call)=================================================(98)      \n",
      "                                                                                                                                     part No.3 out of 6 parts\n",
      "\n"
     ]
    }
   ],
   "source": [
    "fdb.docsrc(96, \"Must check whether Foo's metaclass has its own __call__\", \"call = _signature_get_user_defined_method(type(obj), '__call__')\",\\\n",
    "           \"inspect.getdoc(_signature_get_user_defined_method)\")"
   ]
  },
  {
   "cell_type": "code",
   "execution_count": null,
   "id": "2492d574",
   "metadata": {},
   "outputs": [
    {
     "name": "stdout",
     "output_type": "stream",
     "text": [
      "=================================================     Investigating \u001b[91;1m_signature_from_callable\u001b[0m     =================================================\n",
      "===============================================================     on line \u001b[91;1m98\u001b[0m     ===============================================================\n",
      "     with example \u001b[91;1m\n",
      "class BaseMeta(type): \n",
      "    # using __new__ from type\n",
      "    def __call__(cls, *args, **kwargs): pass\n",
      "class Foo_call(metaclass=BaseMeta): \n",
      "    def __init__(self, d, e, f): pass\n",
      "\n",
      "self.dbsrc(Foo_call, sigcls=inspect.Signature)\n",
      "\u001b[0m     \n",
      "\n",
      "\u001b[93;1mprint selected srcline with expands below\u001b[0m--------\n",
      "        call = _signature_get_user_defined_method(type(obj), '__call__')                                                                                (96)\n",
      "        if call is not None:                                                                                                                            (97)\n",
      "            sig = _get_signature_of(call)===============================================================================================================(98)\n",
      "                                                         \u001b[91;1m_get_signature_of(call) will execute _signature_from_func(call) to get sig through step 4 on line 76\u001b[0m\n",
      "        else:                                                                                                                                           (99)\n",
      "            factory_method = None                                                                                                                       (100)\n",
      "\n",
      "\u001b[93;1mReview srcode with all comments added so far\u001b[0m======================================================================================================\n",
      "                # First argument of the wrapped callable is `*args`, as in================(66)      \n",
      "                # `partialmethod(lambda *args)`.==========================================(67)      \n",
      "                return sig================================================================(68)      \n",
      "            else:=========================================================================(69)      \n",
      "                sig_params = tuple(sig.parameters.values())===============================(70)      \n",
      "                assert (not sig_params or=================================================(71)      \n",
      "                        first_wrapped_param is not sig_params[0])=========================(72)      \n",
      "                new_params = (first_wrapped_param,) + sig_params==========================(73)      \n",
      "                return sig.replace(parameters=new_params)=================================(74)      \n",
      "                                                                                                                                                        (75)\n",
      "    if isfunction(obj) or _signature_is_functionlike(obj):================================(76) # spot 0: \u001b[35;1mwhatinside's sig is finally processed by _signature_from_function\u001b[0m\n",
      "        # If it's a pure Python function, or an object that is duck type==================(77) # spot 4: \u001b[35;1minit func will be processed by _signature_from_function in the block above. see explorations below:\u001b[0m\n",
      "        # of a Python function (Cython functions, for instance), then:====================(78)      \n",
      "        return _signature_from_function(sigcls, obj,======================================(79)      \n",
      "                                        skip_bound_arg=skip_bound_arg)====================(80)      \n",
      "                                                                                                                                                        (81)\n",
      "    if _signature_is_builtin(obj):========================================================(82)      \n",
      "        return _signature_from_builtin(sigcls, obj,=======================================(83)      \n",
      "                                       skip_bound_arg=skip_bound_arg)=====================(84)      \n",
      "                                                                                                                                                        (85)\n",
      "    if isinstance(obj, functools.partial):================================================(86)      \n",
      "        wrapped_sig = _get_signature_of(obj.func)=========================================(87)      \n",
      "        return _signature_get_partial(wrapped_sig, obj)===================================(88)      \n",
      "                                                                                                                                                        (89)\n",
      "    sig = None============================================================================(90)      \n",
      "    if isinstance(obj, type):=============================================================(91) # spot 1: \u001b[35;1mFoo is taken care of in this if block\u001b[0m\n",
      "        # obj is a class or a metaclass===================================================(92)      \n",
      "                                                                                                                                                        (93)\n",
      "        # First, let's see if it has an overloaded __call__ defined=======================(94)      \n",
      "        # in its metaclass================================================================(95)      \n",
      "        call = _signature_get_user_defined_method(type(obj), '__call__')==================(96) # spot 8: \u001b[35;1mMust check whether Foo's metaclass has its own __call__\u001b[0m\n",
      "        if call is not None:==============================================================(97)      \n",
      "            sig = _get_signature_of(call)=================================================(98) # spot 9: \u001b[35;1m_get_signature_of(call) will execute _signature_from_func(call) to get sig through step 4 on line 76\u001b[0m\n",
      "                                                                                                                                     part No.3 out of 6 parts\n",
      "\n"
     ]
    }
   ],
   "source": [
    "fdb.docsrc(98, \"_get_signature_of(call) will execute _signature_from_func(call) to get sig through step 4 on line 76\")"
   ]
  },
  {
   "cell_type": "markdown",
   "id": "169986c3",
   "metadata": {},
   "source": [
    "### Example: How FixSigMeta fix metaclass' `__call__` problem"
   ]
  },
  {
   "cell_type": "code",
   "execution_count": null,
   "id": "e22b0f83",
   "metadata": {},
   "outputs": [
    {
     "data": {
      "text/plain": [
       "<Signature (d, e, f)>"
      ]
     },
     "execution_count": null,
     "metadata": {},
     "output_type": "execute_result"
    }
   ],
   "source": [
    "class BaseMeta(FixSigMeta): \n",
    "    # using __new__ of  FixSigMeta instead of type\n",
    "    def __call__(cls, *args, **kwargs): pass\n",
    "\n",
    "class Foo_call_fix(metaclass=BaseMeta): # Base\n",
    "    def __init__(self, d, e, f): pass\n",
    "\n",
    "inspect._signature_from_callable(Foo_call_fix, sigcls=inspect.Signature)    "
   ]
  },
  {
   "cell_type": "code",
   "execution_count": null,
   "id": "7be33334",
   "metadata": {},
   "outputs": [],
   "source": [
    "fdb.eg = \"\"\"\n",
    "class BaseMeta(FixSigMeta): \n",
    "    # using __new__ of  FixSigMeta instead of type\n",
    "    def __call__(cls, *args, **kwargs): pass\n",
    "\n",
    "class Foo_call_fix(metaclass=BaseMeta): # Base\n",
    "    def __init__(self, d, e, f): pass\n",
    "\n",
    "inspect._signature_from_callable(Foo_call_fix, sigcls=inspect.Signature)    \n",
    "\"\"\""
   ]
  },
  {
   "cell_type": "code",
   "execution_count": null,
   "id": "c1a54cbe",
   "metadata": {},
   "outputs": [],
   "source": [
    "# fdb.takExample(example, Foo_call_fix=Foo_call_fix, inspect=inspect)"
   ]
  },
  {
   "cell_type": "code",
   "execution_count": null,
   "id": "539fdff4",
   "metadata": {},
   "outputs": [],
   "source": [
    "# fdb.snoop()"
   ]
  },
  {
   "cell_type": "code",
   "execution_count": null,
   "id": "50704177",
   "metadata": {},
   "outputs": [
    {
     "name": "stdout",
     "output_type": "stream",
     "text": [
      "=================================================     Investigating \u001b[91;1m_signature_from_callable\u001b[0m     =================================================\n",
      "===============================================================     on line \u001b[91;1m36\u001b[0m     ===============================================================\n",
      "     with example \u001b[91;1m\n",
      "class BaseMeta(FixSigMeta): \n",
      "    # using __new__ of  FixSigMeta instead of type\n",
      "    def __call__(cls, *args, **kwargs): pass\n",
      "\n",
      "class Foo_call_fix(metaclass=BaseMeta): # Base\n",
      "    def __init__(self, d, e, f): pass\n",
      "\n",
      "inspect._signature_from_callable(Foo_call_fix, sigcls=inspect.Signature)    \n",
      "\u001b[0m     \n",
      "\n",
      "\u001b[93;1mprint selected srcline with expands below\u001b[0m--------\n",
      "            return _get_signature_of(obj)                                                                                                               (34)\n",
      "                                                                                                                                                        (35)\n",
      "    try:================================================================================================================================================(36)\n",
      "                                                                                   \u001b[91;1mcheck obj.__signature__ is executed before __call__, __new__, and __init__\u001b[0m\n",
      "        sig = obj.__signature__                                                                                                                         (37)\n",
      "    except AttributeError:                                                                                                                              (38)\n",
      "\n",
      "\u001b[93;1mReview srcode with all comments added so far\u001b[0m======================================================================================================\n",
      "            # See test_signature_wrapped_bound_method for details.========================(33)      \n",
      "            return _get_signature_of(obj)=================================================(34)      \n",
      "                                                                                                                                                        (35)\n",
      "    try:==================================================================================(36) # spot 10: \u001b[35;1mcheck obj.__signature__ is executed before __call__, __new__, and __init__\u001b[0m\n",
      "        sig = obj.__signature__===========================================================(37) # spot 7: \u001b[35;1mEvery obj must be checked with __signature__, if it has the attr, then use it as sig\u001b[0m\n",
      "    except AttributeError:================================================================(38)      \n",
      "        pass==============================================================================(39)      \n",
      "    else:=================================================================================(40)      \n",
      "        if sig is not None:===============================================================(41)      \n",
      "            if not isinstance(sig, Signature):============================================(42)      \n",
      "                raise TypeError(==========================================================(43)      \n",
      "                    'unexpected object {!r} in __signature__ '============================(44)      \n",
      "                    'attribute'.format(sig))==============================================(45)      \n",
      "            return sig====================================================================(46)      \n",
      "                                                                                                                                                        (47)\n",
      "    try:==================================================================================(48)      \n",
      "        partialmethod = obj._partialmethod================================================(49)      \n",
      "    except AttributeError:================================================================(50)      \n",
      "        pass==============================================================================(51)      \n",
      "    else:=================================================================================(52)      \n",
      "        if isinstance(partialmethod, functools.partialmethod):============================(53)      \n",
      "            # Unbound partialmethod (see functools.partialmethod)=========================(54)      \n",
      "            # This means, that we need to calculate the signature=========================(55)      \n",
      "            # as if it's a regular partial object, but taking into========================(56)      \n",
      "            # account that the first positional argument==================================(57)      \n",
      "            # (usually `self`, or `cls`) will not be passed===============================(58)      \n",
      "            # automatically (as for boundmethods)=========================================(59)      \n",
      "                                                                                                                                                        (60)\n",
      "            wrapped_sig = _get_signature_of(partialmethod.func)===========================(61)      \n",
      "                                                                                                                                                        (62)\n",
      "            sig = _signature_get_partial(wrapped_sig, partialmethod, (None,))=============(63)      \n",
      "            first_wrapped_param = tuple(wrapped_sig.parameters.values())[0]===============(64)      \n",
      "            if first_wrapped_param.kind is Parameter.VAR_POSITIONAL:======================(65)      \n",
      "                                                                                                                                     part No.2 out of 6 parts\n",
      "\n"
     ]
    }
   ],
   "source": [
    "fdb.docsrc(36, \"check obj.__signature__ is executed before __call__, __new__, and __init__\")"
   ]
  },
  {
   "cell_type": "markdown",
   "id": "73dea486",
   "metadata": {},
   "source": [
    "## Explore and documenting FixSigMeta"
   ]
  },
  {
   "cell_type": "code",
   "execution_count": null,
   "id": "47c353cd",
   "metadata": {},
   "outputs": [],
   "source": [
    "# I have to import it seperately, as from fastcore.meta import * won't give me this func, and FixSigMeta needs it\n",
    "from fastcore.meta import _rm_self "
   ]
  },
  {
   "cell_type": "code",
   "execution_count": null,
   "id": "17d29dce",
   "metadata": {},
   "outputs": [],
   "source": [
    "g = locals()\n",
    "fdbF = Fastdb(FixSigMeta, outloc=g)"
   ]
  },
  {
   "cell_type": "code",
   "execution_count": null,
   "id": "cb648ab8",
   "metadata": {},
   "outputs": [
    {
     "name": "stdout",
     "output_type": "stream",
     "text": [
      "========================================================     Investigating \u001b[91;1mFixSigMeta\u001b[0m     ========================================================\n",
      "==============================================================     on line \u001b[91;1mNone\u001b[0m     ==============================================================\n",
      "===========================================================     with example \u001b[91;1mNone\u001b[0m     ============================================================\n",
      "\n",
      "class FixSigMeta(type):===================================================================(0)       \n",
      "    \"A metaclass that fixes the signature on classes that override `__new__`\"=============(1)       \n",
      "    def __new__(cls, name, bases, dict):==================================================(2)       \n",
      "        res = super().__new__(cls, name, bases, dict)=====================================(3)       \n",
      "        if res.__init__ is not object.__init__: res.__signature__ = _rm_self(inspect.signature(res.__init__))                                           (4)\n",
      "        return res========================================================================(5)       \n",
      "                                                                                                                                                        (6)\n"
     ]
    }
   ],
   "source": [
    "fdbF.print()"
   ]
  },
  {
   "cell_type": "code",
   "execution_count": null,
   "id": "2b5e6af8",
   "metadata": {},
   "outputs": [],
   "source": [
    "fdbF.eg = \"\"\"\n",
    "class BaseMeta(FixSigMeta): \n",
    "    # using __new__ of  FixSigMeta instead of type\n",
    "    def __call__(cls, *args, **kwargs): pass\n",
    "\n",
    "class Foo_call_fix(metaclass=BaseMeta): # Base\n",
    "    def __init__(self, d, e, f): pass\n",
    "\n",
    "pprint(inspect.signature(Foo_call_fix))\n",
    "\"\"\""
   ]
  },
  {
   "cell_type": "code",
   "execution_count": null,
   "id": "2938943a",
   "metadata": {},
   "outputs": [],
   "source": [
    "# fdbF.takExample(example, inspect=inspect)"
   ]
  },
  {
   "cell_type": "code",
   "execution_count": null,
   "id": "a3528297",
   "metadata": {},
   "outputs": [],
   "source": [
    "# fdbF.snoop()"
   ]
  },
  {
   "cell_type": "code",
   "execution_count": null,
   "id": "3f6dfa73",
   "metadata": {},
   "outputs": [
    {
     "name": "stdout",
     "output_type": "stream",
     "text": [
      "========================================================     Investigating \u001b[91;1mFixSigMeta\u001b[0m     ========================================================\n",
      "==============================================================     on line \u001b[91;1mNone\u001b[0m     ==============================================================\n",
      "     with example \u001b[91;1m\n",
      "class BaseMeta(FixSigMeta): \n",
      "    # using __new__ of  FixSigMeta instead of type\n",
      "    def __call__(cls, *args, **kwargs): pass\n",
      "\n",
      "class Foo_call_fix(metaclass=BaseMeta): # Base\n",
      "    def __init__(self, d, e, f): pass\n",
      "\n",
      "pprint(inspect.signature(Foo_call_fix))\n",
      "\u001b[0m     \n",
      "\n",
      "class FixSigMeta(type):===================================================================(0)       \n",
      "    \"A metaclass that fixes the signature on classes that override `__new__`\"=============(1)       \n",
      "    def __new__(cls, name, bases, dict):==================================================(2)       \n",
      "        res = super().__new__(cls, name, bases, dict)=====================================(3)       \n",
      "        if res.__init__ is not object.__init__: res.__signature__ = _rm_self(inspect.signature(res.__init__))                                           (4)\n",
      "        return res========================================================================(5)       \n",
      "                                                                                                                                                        (6)\n"
     ]
    }
   ],
   "source": [
    "fdbF.print()"
   ]
  },
  {
   "cell_type": "code",
   "execution_count": null,
   "id": "e35b3935",
   "metadata": {},
   "outputs": [
    {
     "name": "stdout",
     "output_type": "stream",
     "text": [
      "========================================================     Investigating \u001b[91;1mFixSigMeta\u001b[0m     ========================================================\n",
      "===============================================================     on line \u001b[91;1m5\u001b[0m     ================================================================\n",
      "     with example \u001b[91;1m\n",
      "class BaseMeta(FixSigMeta): \n",
      "    # using __new__ of  FixSigMeta instead of type\n",
      "    def __call__(cls, *args, **kwargs): pass\n",
      "\n",
      "class Foo_call_fix(metaclass=BaseMeta): # Base\n",
      "    def __init__(self, d, e, f): pass\n",
      "\n",
      "pprint(inspect.signature(Foo_call_fix))\n",
      "\u001b[0m     \n",
      "\n",
      "\u001b[93;1mprint selected srcline with expands below\u001b[0m--------\n",
      "        res = super().__new__(cls, name, bases, dict)                                                                                                   (3)\n",
      "        if res.__init__ is not object.__init__: res.__signature__ = _rm_self(inspect.signature(res.__init__))                                           (4)\n",
      "        return res======================================================================================================================================(5)\n",
      "                                                                                                                                                  \u001b[91;1mwhat is res\u001b[0m\n",
      "                                                                                                                                                        (6)\n",
      "\n",
      "==================================================================================================================\u001b[91;1mStart of my srcline exploration:\u001b[0m\n",
      "\n",
      "\n",
      "                                                                                                                          res => res : <class 'Foo_call_fix'>\n",
      "\n",
      "\n",
      "                                                                         inspect.signature(res.__init__) => inspect.signature(res.__init__) : (self, d, e, f)\n",
      "\n",
      "\n",
      "                                                           _rm_self(inspect.signature(res.__init__)) => _rm_self(inspect.signature(res.__init__)) : (d, e, f)\n",
      "\n",
      "\n",
      "                                                                                                           res.__signature__ => res.__signature__ : (d, e, f)\n",
      "====================================================================================================================\u001b[91;1mEnd of my srcline exploration:\u001b[0m\n",
      "\n"
     ]
    },
    {
     "ename": "NameError",
     "evalue": "name 'pprint' is not defined",
     "output_type": "error",
     "traceback": [
      "\u001b[0;31m---------------------------------------------------------------------------\u001b[0m",
      "\u001b[0;31mNameError\u001b[0m                                 Traceback (most recent call last)",
      "Input \u001b[0;32mIn [50]\u001b[0m, in \u001b[0;36m<cell line: 1>\u001b[0;34m()\u001b[0m\n\u001b[0;32m----> 1\u001b[0m fsm \u001b[38;5;241m=\u001b[39m \u001b[43mfdbF\u001b[49m\u001b[38;5;241;43m.\u001b[39;49m\u001b[43mdocsrc\u001b[49m\u001b[43m(\u001b[49m\u001b[38;5;241;43m5\u001b[39;49m\u001b[43m,\u001b[49m\u001b[43m \u001b[49m\u001b[38;5;124;43m\"\u001b[39;49m\u001b[38;5;124;43mwhat is res\u001b[39;49m\u001b[38;5;124;43m\"\u001b[39;49m\u001b[43m,\u001b[49m\u001b[43m \u001b[49m\u001b[38;5;124;43m\"\u001b[39;49m\u001b[38;5;124;43mres\u001b[39;49m\u001b[38;5;124;43m\"\u001b[39;49m\u001b[43m,\u001b[49m\u001b[43m  \u001b[49m\u001b[38;5;124;43m\"\u001b[39;49m\u001b[38;5;124;43minspect.signature(res.__init__)\u001b[39;49m\u001b[38;5;124;43m\"\u001b[39;49m\u001b[43m,\u001b[49m\u001b[43m \u001b[49m\u001b[43m\\\u001b[49m\n\u001b[1;32m      2\u001b[0m \u001b[43m                   \u001b[49m\u001b[38;5;124;43m\"\u001b[39;49m\u001b[38;5;124;43m_rm_self(inspect.signature(res.__init__))\u001b[39;49m\u001b[38;5;124;43m\"\u001b[39;49m\u001b[43m,\u001b[49m\u001b[43m \u001b[49m\u001b[38;5;124;43m\"\u001b[39;49m\u001b[38;5;124;43mres.__signature__\u001b[39;49m\u001b[38;5;124;43m\"\u001b[39;49m\u001b[43m,\u001b[49m\u001b[43m \u001b[49m\u001b[43mshowdbsrc\u001b[49m\u001b[38;5;241;43m=\u001b[39;49m\u001b[38;5;28;43;01mFalse\u001b[39;49;00m\u001b[43m)\u001b[49m\n",
      "File \u001b[0;32m~/Documents/fastdebug/fastdebug/core.py:524\u001b[0m, in \u001b[0;36mdocsrc\u001b[0;34m(self, idxsrc, cmt, expand, showdbsrc, *codes)\u001b[0m\n\u001b[1;32m    521\u001b[0m \u001b[38;5;28mself\u001b[39m\u001b[38;5;241m.\u001b[39mcreate_dbsrc_from_string()\n\u001b[1;32m    523\u001b[0m \u001b[38;5;66;03m# run example with dbsrc\u001b[39;00m\n\u001b[0;32m--> 524\u001b[0m \u001b[38;5;28;43mself\u001b[39;49m\u001b[38;5;241;43m.\u001b[39;49m\u001b[43mrun_example\u001b[49m\u001b[43m(\u001b[49m\u001b[43m)\u001b[49m\n",
      "File \u001b[0;32m~/Documents/fastdebug/fastdebug/core.py:624\u001b[0m, in \u001b[0;36mrun_example\u001b[0;34m(self)\u001b[0m\n\u001b[1;32m    622\u001b[0m \u001b[38;5;28mself\u001b[39m\u001b[38;5;241m.\u001b[39mreplaceWithDbsrc()\n\u001b[1;32m    623\u001b[0m \u001b[38;5;66;03m# use locals() as global env to bring in self or obj to enable self.dbsrc to run\u001b[39;00m\n\u001b[0;32m--> 624\u001b[0m \u001b[43mexec\u001b[49m\u001b[43m(\u001b[49m\u001b[38;5;28;43mself\u001b[39;49m\u001b[38;5;241;43m.\u001b[39;49m\u001b[43meg\u001b[49m\u001b[43m,\u001b[49m\u001b[43m \u001b[49m\u001b[38;5;28;43mlocals\u001b[39;49m\u001b[43m(\u001b[49m\u001b[43m)\u001b[49m\u001b[43m,\u001b[49m\u001b[43m \u001b[49m\u001b[38;5;28;43mself\u001b[39;49m\u001b[38;5;241;43m.\u001b[39;49m\u001b[43megEnv\u001b[49m\u001b[43m)\u001b[49m\n\u001b[1;32m    625\u001b[0m \u001b[38;5;28mself\u001b[39m\u001b[38;5;241m.\u001b[39mautoprint()\n",
      "File \u001b[0;32m<string>:9\u001b[0m, in \u001b[0;36m<module>\u001b[0;34m\u001b[0m\n",
      "\u001b[0;31mNameError\u001b[0m: name 'pprint' is not defined"
     ]
    }
   ],
   "source": [
    "fsm = fdbF.docsrc(5, \"what is res\", \"res\",  \"inspect.signature(res.__init__)\", \\\n",
    "                   \"_rm_self(inspect.signature(res.__init__))\", \"res.__signature__\", showdbsrc=False)"
   ]
  },
  {
   "cell_type": "code",
   "execution_count": null,
   "id": "bcf11e4f",
   "metadata": {},
   "outputs": [],
   "source": []
  },
  {
   "cell_type": "code",
   "execution_count": null,
   "id": "d79bf543",
   "metadata": {},
   "outputs": [],
   "source": []
  }
 ],
 "metadata": {
  "kernelspec": {
   "display_name": "Python 3 (ipykernel)",
   "language": "python",
   "name": "python3"
  }
 },
 "nbformat": 4,
 "nbformat_minor": 5
}
