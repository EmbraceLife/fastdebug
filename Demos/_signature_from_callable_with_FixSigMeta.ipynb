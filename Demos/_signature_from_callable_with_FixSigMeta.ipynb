{
 "cells": [
  {
   "cell_type": "markdown",
   "id": "5b8293eb",
   "metadata": {},
   "source": [
    "## Explore and document `inspect._signature_from_callable` (a long src)"
   ]
  },
  {
   "cell_type": "markdown",
   "id": "4dcc0f21",
   "metadata": {},
   "source": [
    "## Expand cell"
   ]
  },
  {
   "cell_type": "code",
   "execution_count": 1,
   "id": "9029dccb-9cad-45a9-b4e1-0b445bf7eb3d",
   "metadata": {},
   "outputs": [],
   "source": [
    "# from IPython.core.display import display, HTML # a depreciated import\n",
    "from IPython.display import display, HTML "
   ]
  },
  {
   "cell_type": "code",
   "execution_count": 2,
   "id": "9b940390-ce64-471d-9ccc-811cb1589912",
   "metadata": {},
   "outputs": [
    {
     "data": {
      "text/html": [
       "<style>.container { width:100% !important; }</style>"
      ],
      "text/plain": [
       "<IPython.core.display.HTML object>"
      ]
     },
     "metadata": {},
     "output_type": "display_data"
    }
   ],
   "source": [
    "display(HTML(\"<style>.container { width:100% !important; }</style>\"))"
   ]
  },
  {
   "cell_type": "markdown",
   "id": "977702eb",
   "metadata": {},
   "source": [
    "## Imports and initiate"
   ]
  },
  {
   "cell_type": "code",
   "execution_count": 5,
   "id": "5720a98e",
   "metadata": {},
   "outputs": [],
   "source": [
    "from fastdebug.core import *"
   ]
  },
  {
   "cell_type": "code",
   "execution_count": 6,
   "id": "0c2355e3",
   "metadata": {},
   "outputs": [],
   "source": [
    "g = locals()\n",
    "fdb = Fastdb(inspect._signature_from_callable, outloc=g)"
   ]
  },
  {
   "cell_type": "markdown",
   "id": "c695dbfc",
   "metadata": {},
   "source": [
    "## Examples"
   ]
  },
  {
   "cell_type": "code",
   "execution_count": 3,
   "id": "92b88ef6",
   "metadata": {},
   "outputs": [],
   "source": [
    "from fastdebug.utils import whatinside"
   ]
  },
  {
   "cell_type": "code",
   "execution_count": 4,
   "id": "c64c0ba4",
   "metadata": {},
   "outputs": [
    {
     "data": {
      "text/plain": [
       "<Signature (mo, dun: bool = False, func: bool = False, clas: bool = False, bltin: bool = False, lib: bool = False, cal: bool = False)>"
      ]
     },
     "execution_count": 4,
     "metadata": {},
     "output_type": "execute_result"
    }
   ],
   "source": [
    "inspect._signature_from_callable(whatinside, sigcls=inspect.Signature)"
   ]
  },
  {
   "cell_type": "code",
   "execution_count": 7,
   "id": "5c6c31bb",
   "metadata": {},
   "outputs": [],
   "source": [
    "# fdb.takExample(\"inspect._signature_from_callable(whatinside, sigcls=inspect.Signature)\", inspect=inspect, whatinside=whatinside)\n",
    "fdb.eg = \"inspect._signature_from_callable(whatinside, sigcls=inspect.Signature)\""
   ]
  },
  {
   "cell_type": "markdown",
   "id": "834f0946",
   "metadata": {},
   "source": [
    "## Snoop"
   ]
  },
  {
   "cell_type": "code",
   "execution_count": 8,
   "id": "523fc2d6",
   "metadata": {},
   "outputs": [
    {
     "name": "stderr",
     "output_type": "stream",
     "text": [
      "13:05:10.76 >>> Call to _signature_from_callable in File \"/tmp/_signature_from_callable.py\", line 3\n",
      "13:05:10.76 ...... obj = <function whatinside at 0x104aae040>\n",
      "13:05:10.76 ...... follow_wrapper_chains = True\n",
      "13:05:10.76 ...... skip_bound_arg = True\n",
      "13:05:10.76 ...... sigcls = <class 'inspect.Signature'>\n",
      "13:05:10.76    3 | def _signature_from_callable(obj, *,\n",
      "13:05:10.76   12 |     _get_signature_of = functools.partial(_signature_from_callable,\n",
      "13:05:10.76   13 |                                 follow_wrapper_chains=follow_wrapper_chains,\n",
      "13:05:10.76   14 |                                 skip_bound_arg=skip_bound_arg,\n",
      "13:05:10.76   15 |                                 sigcls=sigcls)\n",
      "13:05:10.76   12 |     _get_signature_of = functools.partial(_signature_from_callable,\n",
      "13:05:10.76 .......... _get_signature_of = functools.partial(<function _signature_from_call...und_arg=True, sigcls=<class 'inspect.Signature'>)\n",
      "13:05:10.76   17 |     if not callable(obj):\n",
      "13:05:10.76   20 |     if isinstance(obj, types.MethodType):\n",
      "13:05:10.76   31 |     if follow_wrapper_chains:\n",
      "13:05:10.76   32 |         obj = unwrap(obj, stop=(lambda f: hasattr(f, \"__signature__\")))\n",
      "13:05:10.76   33 |         if isinstance(obj, types.MethodType):\n",
      "13:05:10.76   39 |     try:\n",
      "13:05:10.76   40 |         sig = obj.__signature__\n",
      "13:05:10.92 !!! AttributeError: 'function' object has no attribute '__signature__'\n",
      "13:05:10.92 !!! When getting attribute: obj.__signature__\n",
      "13:05:10.92   41 |     except AttributeError:\n",
      "13:05:10.92   42 |         pass\n",
      "13:05:10.92   51 |     try:\n",
      "13:05:10.92   52 |         partialmethod = obj._partialmethod\n",
      "13:05:10.92 !!! AttributeError: 'function' object has no attribute '_partialmethod'\n",
      "13:05:10.92 !!! When getting attribute: obj._partialmethod\n",
      "13:05:10.92   53 |     except AttributeError:\n",
      "13:05:10.92   54 |         pass\n",
      "13:05:10.92   79 |     if isfunction(obj) or _signature_is_functionlike(obj):\n",
      "13:05:10.92   82 |         return _signature_from_function(sigcls, obj,\n",
      "13:05:10.92   83 |                                         skip_bound_arg=skip_bound_arg)\n",
      "13:05:10.92   82 |         return _signature_from_function(sigcls, obj,\n",
      "13:05:10.93 <<< Return value from _signature_from_callable: <Signature (mo, dun: bool = False, func: bool = ...l = False, lib: bool = False, cal: bool = False)>\n"
     ]
    }
   ],
   "source": [
    "fdb.snoop()"
   ]
  },
  {
   "cell_type": "code",
   "execution_count": 57,
   "id": "38f17b00",
   "metadata": {},
   "outputs": [
    {
     "name": "stdout",
     "output_type": "stream",
     "text": [
      "                                                                                                                                                        (60)\n",
      "            wrapped_sig = _get_signature_of(partialmethod.func)===========================(61)      \n",
      "                                                                                                                                                        (62)\n",
      "            sig = _signature_get_partial(wrapped_sig, partialmethod, (None,))=============(63)      \n",
      "            first_wrapped_param = tuple(wrapped_sig.parameters.values())[0]===============(64)      \n",
      "            if first_wrapped_param.kind is Parameter.VAR_POSITIONAL:======================(65)      \n",
      "                # First argument of the wrapped callable is `*args`, as in================(66)      \n",
      "                # `partialmethod(lambda *args)`.==========================================(67)      \n",
      "                return sig================================================================(68)      \n",
      "            else:=========================================================================(69)      \n",
      "                sig_params = tuple(sig.parameters.values())===============================(70)      \n",
      "                assert (not sig_params or=================================================(71)      \n",
      "                        first_wrapped_param is not sig_params[0])=========================(72)      \n",
      "                new_params = (first_wrapped_param,) + sig_params==========================(73)      \n",
      "                return sig.replace(parameters=new_params)=================================(74)      \n",
      "                                                                                                                                                        (75)\n",
      "    if isfunction(obj) or _signature_is_functionlike(obj):================================(76) # \u001b[91;1mwhatinside's sig is finally processed by _signature_from_function\u001b[0m; \n",
      "        # If it's a pure Python function, or an object that is duck type==================(77) # \u001b[93;1minit func will be processed by _signature_from_function in the block above. see explorations below:\u001b[0m; \n",
      "        # of a Python function (Cython functions, for instance), then:====================(78)      \n",
      "        return _signature_from_function(sigcls, obj,======================================(79)      \n",
      "                                        skip_bound_arg=skip_bound_arg)====================(80)      \n",
      "                                                                                                                                                        (81)\n",
      "    if _signature_is_builtin(obj):========================================================(82)      \n",
      "        return _signature_from_builtin(sigcls, obj,=======================================(83)      \n",
      "                                       skip_bound_arg=skip_bound_arg)=====================(84)      \n",
      "                                                                                                                                                        (85)\n",
      "    if isinstance(obj, functools.partial):================================================(86)      \n",
      "        wrapped_sig = _get_signature_of(obj.func)=========================================(87)      \n",
      "        return _signature_get_partial(wrapped_sig, obj)===================================(88)      \n",
      "                                                                                                                                                        (89)\n",
      "                                                                                                                                     part No.3 out of 7 parts\n"
     ]
    }
   ],
   "source": [
    "fdb.print(30, 3)"
   ]
  },
  {
   "cell_type": "markdown",
   "id": "e20ca0ee",
   "metadata": {},
   "source": [
    "## docsrc"
   ]
  },
  {
   "cell_type": "code",
   "execution_count": 10,
   "id": "5171da54",
   "metadata": {},
   "outputs": [
    {
     "name": "stdout",
     "output_type": "stream",
     "text": [
      "=================================================     Investigating \u001b[91;1m_signature_from_callable\u001b[0m     =================================================\n",
      "===============================================================     on line \u001b[91;1m76\u001b[0m     ===============================================================\n",
      "=============================================================     with example \u001b[91;1m\u001b[0m     ==============================================================\n",
      "\n",
      "\u001b[93;1mprint selected srcline with expands below\u001b[0m--------\n",
      "                return sig.replace(parameters=new_params)                                                                                               (74)\n",
      "                                                                                                                                                        (75)\n",
      "    if isfunction(obj) or _signature_is_functionlike(obj):==============================================================================================(76)\n",
      "                                                                                            \u001b[91;1mwhatinside's sig is finally processed by _signature_from_function\u001b[0m\n",
      "        # If it's a pure Python function, or an object that is duck type                                                                                (77)\n",
      "        # of a Python function (Cython functions, for instance), then:                                                                                  (78)\n",
      "\n",
      "==================================================================================================================\u001b[91;1mStart of my srcline exploration:\u001b[0m\n",
      "\n",
      "\n",
      "                                                                                                            obj => obj : <function whatinside at 0x104aae040>\n",
      "\n",
      "\n",
      "                                                                                                                    isfunction(obj) => isfunction(obj) : True\n",
      "====================================================================================================================\u001b[91;1mEnd of my srcline exploration:\u001b[0m\n",
      "\n",
      "\n",
      "\u001b[93;1mReview srcode with all comments added so far\u001b[0m======================================================================================================\n",
      "                                                                                                                                                        (60)\n",
      "            wrapped_sig = _get_signature_of(partialmethod.func)===========================(61)      \n",
      "                                                                                                                                                        (62)\n",
      "            sig = _signature_get_partial(wrapped_sig, partialmethod, (None,))=============(63)      \n",
      "            first_wrapped_param = tuple(wrapped_sig.parameters.values())[0]===============(64)      \n",
      "            if first_wrapped_param.kind is Parameter.VAR_POSITIONAL:======================(65)      \n",
      "                # First argument of the wrapped callable is `*args`, as in================(66)      \n",
      "                # `partialmethod(lambda *args)`.==========================================(67)      \n",
      "                return sig================================================================(68)      \n",
      "            else:=========================================================================(69)      \n",
      "                sig_params = tuple(sig.parameters.values())===============================(70)      \n",
      "                assert (not sig_params or=================================================(71)      \n",
      "                        first_wrapped_param is not sig_params[0])=========================(72)      \n",
      "                new_params = (first_wrapped_param,) + sig_params==========================(73)      \n",
      "                return sig.replace(parameters=new_params)=================================(74)      \n",
      "                                                                                                                                                        (75)\n",
      "    if isfunction(obj) or _signature_is_functionlike(obj):================================(76) # \u001b[35;1mwhatinside's sig is finally processed by _signature_from_function\u001b[0m; \n",
      "        # If it's a pure Python function, or an object that is duck type==================(77)      \n",
      "        # of a Python function (Cython functions, for instance), then:====================(78)      \n",
      "        return _signature_from_function(sigcls, obj,======================================(79)      \n",
      "                                                                                                                                    part No.4 out of 10 parts\n",
      "\n"
     ]
    }
   ],
   "source": [
    "fdb.docsrc(76, \"whatinside's sig is finally processed by _signature_from_function\", \"obj\", \"isfunction(obj)\")"
   ]
  },
  {
   "cell_type": "markdown",
   "id": "e4d38509",
   "metadata": {},
   "source": [
    "### Example: Foo get sig from its `__init__`"
   ]
  },
  {
   "cell_type": "code",
   "execution_count": 11,
   "id": "e7b98b96",
   "metadata": {},
   "outputs": [
    {
     "data": {
      "text/plain": [
       "<Signature (a, b, c)>"
      ]
     },
     "execution_count": 11,
     "metadata": {},
     "output_type": "execute_result"
    }
   ],
   "source": [
    "class Foo_init:\n",
    "    def __init__(self, a, b, c): pass\n",
    "\n",
    "inspect._signature_from_callable(Foo_init, sigcls=inspect.Signature)"
   ]
  },
  {
   "cell_type": "code",
   "execution_count": 12,
   "id": "b5237c92",
   "metadata": {},
   "outputs": [],
   "source": [
    "fdb.eg = \"\"\"\n",
    "class Foo_init:\n",
    "    def __init__(self, a, b, c): pass\n",
    "\n",
    "inspect._signature_from_callable(Foo_init, sigcls=inspect.Signature)\n",
    "\"\"\""
   ]
  },
  {
   "cell_type": "code",
   "execution_count": 13,
   "id": "9e1d7590",
   "metadata": {},
   "outputs": [
    {
     "name": "stderr",
     "output_type": "stream",
     "text": [
      "13:05:10.96 >>> Call to _signature_from_callable in File \"/tmp/_signature_from_callable.py\", line 3\n",
      "13:05:10.96 ...... obj = <class 'inspect.Foo_init'>\n",
      "13:05:10.96 ...... follow_wrapper_chains = True\n",
      "13:05:10.96 ...... skip_bound_arg = True\n",
      "13:05:10.96 ...... sigcls = <class 'inspect.Signature'>\n",
      "13:05:10.96    3 | def _signature_from_callable(obj, *,\n",
      "13:05:10.96   12 |     _get_signature_of = functools.partial(_signature_from_callable,\n",
      "13:05:10.96   13 |                                 follow_wrapper_chains=follow_wrapper_chains,\n",
      "13:05:10.96   14 |                                 skip_bound_arg=skip_bound_arg,\n",
      "13:05:10.96   15 |                                 sigcls=sigcls)\n",
      "13:05:10.96   12 |     _get_signature_of = functools.partial(_signature_from_callable,\n",
      "13:05:10.96 .......... _get_signature_of = functools.partial(<function _signature_from_call...und_arg=True, sigcls=<class 'inspect.Signature'>)\n",
      "13:05:10.96   17 |     if not callable(obj):\n",
      "13:05:10.96   20 |     if isinstance(obj, types.MethodType):\n",
      "13:05:10.96   31 |     if follow_wrapper_chains:\n",
      "13:05:10.96   32 |         obj = unwrap(obj, stop=(lambda f: hasattr(f, \"__signature__\")))\n",
      "13:05:10.96   33 |         if isinstance(obj, types.MethodType):\n",
      "13:05:10.96   39 |     try:\n",
      "13:05:10.97   40 |         sig = obj.__signature__\n",
      "13:05:10.97 !!! AttributeError: type object 'Foo_init' has no attribute '__signature__'\n",
      "13:05:10.97 !!! When getting attribute: obj.__signature__\n",
      "13:05:10.97   41 |     except AttributeError:\n",
      "13:05:10.97   42 |         pass\n",
      "13:05:10.97   51 |     try:\n",
      "13:05:10.97   52 |         partialmethod = obj._partialmethod\n",
      "13:05:10.98 !!! AttributeError: type object 'Foo_init' has no attribute '_partialmethod'\n",
      "13:05:10.98 !!! When getting attribute: obj._partialmethod\n",
      "13:05:10.98   53 |     except AttributeError:\n",
      "13:05:10.98   54 |         pass\n",
      "13:05:10.98   79 |     if isfunction(obj) or _signature_is_functionlike(obj):\n",
      "13:05:10.98   85 |     if _signature_is_builtin(obj):\n",
      "13:05:10.98   89 |     if isinstance(obj, functools.partial):\n",
      "13:05:10.98   93 |     sig = None\n",
      "13:05:10.98   94 |     if isinstance(obj, type):\n",
      "13:05:10.98   99 |         call = _signature_get_user_defined_method(type(obj), '__call__')\n",
      "13:05:10.98 .............. call = None\n",
      "13:05:10.98  100 |         if call is not None:\n",
      "13:05:10.98  103 |             factory_method = None\n",
      "13:05:10.98  104 |             new = _signature_get_user_defined_method(obj, '__new__')\n",
      "13:05:10.98 .................. new = None\n",
      "13:05:10.98  105 |             init = _signature_get_user_defined_method(obj, '__init__')\n",
      "13:05:10.98 .................. init = <function Foo_init.__init__ at 0x1400cad30>\n",
      "13:05:10.98  107 |             if '__new__' in obj.__dict__:\n",
      "13:05:10.98  110 |             elif '__init__' in obj.__dict__:\n",
      "13:05:10.98  111 |                 factory_method = init\n",
      "13:05:10.98 ...................... factory_method = <function Foo_init.__init__ at 0x1400cad30>\n",
      "13:05:10.98  118 |             if factory_method is not None:\n",
      "13:05:10.98  119 |                 sig = _get_signature_of(factory_method)\n",
      "13:05:10.98 ...................... sig = <Signature (self, a, b, c)>\n",
      "13:05:10.98  121 |         if sig is None:\n",
      "13:05:10.98  170 |     if sig is not None:\n",
      "13:05:10.98  173 |         if skip_bound_arg:\n",
      "13:05:10.98  174 |             return _signature_bound_method(sig)\n",
      "13:05:10.98 <<< Return value from _signature_from_callable: <Signature (a, b, c)>\n"
     ]
    }
   ],
   "source": [
    "fdb.snoop()"
   ]
  },
  {
   "cell_type": "code",
   "execution_count": 14,
   "id": "4e6a5aa6",
   "metadata": {},
   "outputs": [
    {
     "name": "stdout",
     "output_type": "stream",
     "text": [
      "=================================================     Investigating \u001b[91;1m_signature_from_callable\u001b[0m     =================================================\n",
      "===============================================================     on line \u001b[91;1m91\u001b[0m     ===============================================================\n",
      "=============================================================     with example \u001b[91;1m\u001b[0m     ==============================================================\n",
      "\n",
      "\u001b[93;1mprint selected srcline with expands below\u001b[0m--------\n",
      "                                                                                                                                                        (89)\n",
      "    sig = None                                                                                                                                          (90)\n",
      "    if isinstance(obj, type):===========================================================================================================================(91)\n",
      "                                                                                                                        \u001b[91;1mFoo is taken care of in this if block\u001b[0m\n",
      "        # obj is a class or a metaclass                                                                                                                 (92)\n",
      "                                                                                                                                                        (93)\n",
      "\n",
      "==================================================================================================================\u001b[91;1mStart of my srcline exploration:\u001b[0m\n",
      "\n",
      "\n",
      "                                                                                                        isinstance(obj, type) => isinstance(obj, type) : True\n",
      "====================================================================================================================\u001b[91;1mEnd of my srcline exploration:\u001b[0m\n",
      "\n",
      "\n",
      "\u001b[93;1mReview srcode with all comments added so far\u001b[0m======================================================================================================\n",
      "                                        skip_bound_arg=skip_bound_arg)====================(80)      \n",
      "                                                                                                                                                        (81)\n",
      "    if _signature_is_builtin(obj):========================================================(82)      \n",
      "        return _signature_from_builtin(sigcls, obj,=======================================(83)      \n",
      "                                       skip_bound_arg=skip_bound_arg)=====================(84)      \n",
      "                                                                                                                                                        (85)\n",
      "    if isinstance(obj, functools.partial):================================================(86)      \n",
      "        wrapped_sig = _get_signature_of(obj.func)=========================================(87)      \n",
      "        return _signature_get_partial(wrapped_sig, obj)===================================(88)      \n",
      "                                                                                                                                                        (89)\n",
      "    sig = None============================================================================(90)      \n",
      "    if isinstance(obj, type):=============================================================(91) # \u001b[91;1mFoo is taken care of in this if block\u001b[0m; \n",
      "        # obj is a class or a metaclass===================================================(92)      \n",
      "                                                                                                                                                        (93)\n",
      "        # First, let's see if it has an overloaded __call__ defined=======================(94)      \n",
      "        # in its metaclass================================================================(95)      \n",
      "        call = _signature_get_user_defined_method(type(obj), '__call__')==================(96)      \n",
      "        if call is not None:==============================================================(97)      \n",
      "            sig = _get_signature_of(call)=================================================(98)      \n",
      "        else:=============================================================================(99)      \n",
      "                                                                                                                                    part No.5 out of 10 parts\n",
      "\n"
     ]
    }
   ],
   "source": [
    "fdb.docsrc(91, \"Foo is taken care of in this if block\", \"isinstance(obj, type)\")"
   ]
  },
  {
   "cell_type": "code",
   "execution_count": 15,
   "id": "0bad7224",
   "metadata": {},
   "outputs": [
    {
     "name": "stdout",
     "output_type": "stream",
     "text": [
      "=================================================     Investigating \u001b[91;1m_signature_from_callable\u001b[0m     =================================================\n",
      "==============================================================     on line \u001b[91;1m103\u001b[0m     ===============================================================\n",
      "=============================================================     with example \u001b[91;1m\u001b[0m     ==============================================================\n",
      "\n",
      "\u001b[93;1mprint selected srcline with expands below\u001b[0m--------\n",
      "            new = _signature_get_user_defined_method(obj, '__new__')                                                                                    (101)\n",
      "            init = _signature_get_user_defined_method(obj, '__init__')                                                                                  (102)\n",
      "            # Now we check if the 'obj' class has an own '__new__' method===============================================================================(103)\n",
      "                                                                                                             \u001b[91;1mFoo has no methods on call nor new, but has init\u001b[0m\n",
      "            if '__new__' in obj.__dict__:                                                                                                               (104)\n",
      "                factory_method = new                                                                                                                    (105)\n",
      "\n",
      "==================================================================================================================\u001b[91;1mStart of my srcline exploration:\u001b[0m\n",
      "\n",
      "\n",
      "                                                                                                                                          call => call : None\n",
      "\n",
      "\n",
      "                                                                                                                                            new => new : None\n",
      "\n",
      "\n",
      "                                                                                                   init => init : <function Foo_init.__init__ at 0x1400ca940>\n",
      "====================================================================================================================\u001b[91;1mEnd of my srcline exploration:\u001b[0m\n",
      "\n",
      "\n",
      "\u001b[93;1mReview srcode with all comments added so far\u001b[0m======================================================================================================\n",
      "            factory_method = None=========================================================(100)     \n",
      "            new = _signature_get_user_defined_method(obj, '__new__')======================(101)     \n",
      "            init = _signature_get_user_defined_method(obj, '__init__')====================(102)     \n",
      "            # Now we check if the 'obj' class has an own '__new__' method=================(103) # \u001b[34;1mFoo has no methods on call nor new, but has init\u001b[0m; \n",
      "            if '__new__' in obj.__dict__:=================================================(104)     \n",
      "                factory_method = new======================================================(105)     \n",
      "            # or an own '__init__' method=================================================(106)     \n",
      "            elif '__init__' in obj.__dict__:==============================================(107)     \n",
      "                factory_method = init=====================================================(108)     \n",
      "            # If not, we take inherited '__new__' or '__init__', if present===============(109)     \n",
      "            elif new is not None:=========================================================(110)     \n",
      "                factory_method = new======================================================(111)     \n",
      "            elif init is not None:========================================================(112)     \n",
      "                factory_method = init=====================================================(113)     \n",
      "                                                                                                                                                        (114)\n",
      "            if factory_method is not None:================================================(115)     \n",
      "                sig = _get_signature_of(factory_method)===================================(116)     \n",
      "                                                                                                                                                        (117)\n",
      "        if sig is None:===================================================================(118)     \n",
      "            # At this point we know, that `obj` is a class, with no user-=================(119)     \n",
      "                                                                                                                                    part No.6 out of 10 parts\n",
      "\n"
     ]
    }
   ],
   "source": [
    "fdb.docsrc(103, \"Foo has no methods on call nor new, but has init\", \"call\", \"new\", \"init\")"
   ]
  },
  {
   "cell_type": "code",
   "execution_count": 16,
   "id": "5a15fc87",
   "metadata": {},
   "outputs": [
    {
     "name": "stdout",
     "output_type": "stream",
     "text": [
      "=================================================     Investigating \u001b[91;1m_signature_from_callable\u001b[0m     =================================================\n",
      "==============================================================     on line \u001b[91;1m116\u001b[0m     ===============================================================\n",
      "=============================================================     with example \u001b[91;1m\u001b[0m     ==============================================================\n",
      "\n",
      "\u001b[93;1mprint selected srcline with expands below\u001b[0m--------\n",
      "                                                                                                                                                        (114)\n",
      "            if factory_method is not None:                                                                                                              (115)\n",
      "                sig = _get_signature_of(factory_method)=================================================================================================(116)\n",
      "                                                                                                                      \u001b[91;1minit func is taken by _get_signature_of\u001b[0m\n",
      "                                                                                                                                                        (117)\n",
      "        if sig is None:                                                                                                                                 (118)\n",
      "\n",
      "==================================================================================================================\u001b[91;1mStart of my srcline exploration:\u001b[0m\n",
      "\n",
      "\n",
      "                                                                                                       init == factory_method => init == factory_method: True\n",
      "====================================================================================================================\u001b[91;1mEnd of my srcline exploration:\u001b[0m\n",
      "\n",
      "\n",
      "\u001b[93;1mReview srcode with all comments added so far\u001b[0m======================================================================================================\n",
      "            factory_method = None=========================================================(100)     \n",
      "            new = _signature_get_user_defined_method(obj, '__new__')======================(101)     \n",
      "            init = _signature_get_user_defined_method(obj, '__init__')====================(102)     \n",
      "            # Now we check if the 'obj' class has an own '__new__' method=================(103) # \u001b[37;1mFoo has no methods on call nor new, but has init\u001b[0m; \n",
      "            if '__new__' in obj.__dict__:=================================================(104)     \n",
      "                factory_method = new======================================================(105)     \n",
      "            # or an own '__init__' method=================================================(106)     \n",
      "            elif '__init__' in obj.__dict__:==============================================(107)     \n",
      "                factory_method = init=====================================================(108)     \n",
      "            # If not, we take inherited '__new__' or '__init__', if present===============(109)     \n",
      "            elif new is not None:=========================================================(110)     \n",
      "                factory_method = new======================================================(111)     \n",
      "            elif init is not None:========================================================(112)     \n",
      "                factory_method = init=====================================================(113)     \n",
      "                                                                                                                                                        (114)\n",
      "            if factory_method is not None:================================================(115)     \n",
      "                sig = _get_signature_of(factory_method)===================================(116) # \u001b[35;1minit func is taken by _get_signature_of\u001b[0m; \n",
      "                                                                                                                                                        (117)\n",
      "        if sig is None:===================================================================(118)     \n",
      "            # At this point we know, that `obj` is a class, with no user-=================(119)     \n",
      "                                                                                                                                    part No.6 out of 10 parts\n",
      "\n"
     ]
    }
   ],
   "source": [
    "fdb.docsrc(116, \"init func is taken by _get_signature_of\", \"init == factory_method\")"
   ]
  },
  {
   "cell_type": "code",
   "execution_count": 17,
   "id": "f16c99b6",
   "metadata": {},
   "outputs": [
    {
     "name": "stdout",
     "output_type": "stream",
     "text": [
      "=================================================     Investigating \u001b[91;1m_signature_from_callable\u001b[0m     =================================================\n",
      "===============================================================     on line \u001b[91;1m77\u001b[0m     ===============================================================\n",
      "=============================================================     with example \u001b[91;1m\u001b[0m     ==============================================================\n",
      "\n",
      "\u001b[93;1mprint selected srcline with expands below\u001b[0m--------\n",
      "                                                                                                                                                        (75)\n",
      "    if isfunction(obj) or _signature_is_functionlike(obj):                                                                                              (76)\n",
      "        # If it's a pure Python function, or an object that is duck type================================================================================(77)\n",
      "                                                          \u001b[91;1minit func will be processed by _signature_from_function in the block above. see explorations below:\u001b[0m\n",
      "        # of a Python function (Cython functions, for instance), then:                                                                                  (78)\n",
      "        return _signature_from_function(sigcls, obj,                                                                                                    (79)\n",
      "\n",
      "\u001b[93;1mReview srcode with all comments added so far\u001b[0m======================================================================================================\n",
      "                                                                                                                                                        (60)\n",
      "            wrapped_sig = _get_signature_of(partialmethod.func)===========================(61)      \n",
      "                                                                                                                                                        (62)\n",
      "            sig = _signature_get_partial(wrapped_sig, partialmethod, (None,))=============(63)      \n",
      "            first_wrapped_param = tuple(wrapped_sig.parameters.values())[0]===============(64)      \n",
      "            if first_wrapped_param.kind is Parameter.VAR_POSITIONAL:======================(65)      \n",
      "                # First argument of the wrapped callable is `*args`, as in================(66)      \n",
      "                # `partialmethod(lambda *args)`.==========================================(67)      \n",
      "                return sig================================================================(68)      \n",
      "            else:=========================================================================(69)      \n",
      "                sig_params = tuple(sig.parameters.values())===============================(70)      \n",
      "                assert (not sig_params or=================================================(71)      \n",
      "                        first_wrapped_param is not sig_params[0])=========================(72)      \n",
      "                new_params = (first_wrapped_param,) + sig_params==========================(73)      \n",
      "                return sig.replace(parameters=new_params)=================================(74)      \n",
      "                                                                                                                                                        (75)\n",
      "    if isfunction(obj) or _signature_is_functionlike(obj):================================(76) # \u001b[36;1mwhatinside's sig is finally processed by _signature_from_function\u001b[0m; \n",
      "        # If it's a pure Python function, or an object that is duck type==================(77) # \u001b[92;1minit func will be processed by _signature_from_function in the block above. see explorations below:\u001b[0m; \n",
      "        # of a Python function (Cython functions, for instance), then:====================(78)      \n",
      "        return _signature_from_function(sigcls, obj,======================================(79)      \n",
      "                                                                                                                                    part No.4 out of 10 parts\n",
      "\n"
     ]
    }
   ],
   "source": [
    "fdb.docsrc(77, \"init func will be processed by _signature_from_function in the block above. see explorations below:\", \"obj.__init__\", \\\n",
    "            \"_signature_from_function(sigcls, obj.__init__, skip_bound_arg=skip_bound_arg)\")"
   ]
  },
  {
   "cell_type": "markdown",
   "id": "2d5335ed",
   "metadata": {},
   "source": [
    "### Example: Base's own `__new__` can be a problem"
   ]
  },
  {
   "cell_type": "code",
   "execution_count": 18,
   "id": "2efaa402",
   "metadata": {},
   "outputs": [
    {
     "data": {
      "text/plain": [
       "<Signature (d, e, f)>"
      ]
     },
     "execution_count": 18,
     "metadata": {},
     "output_type": "execute_result"
    }
   ],
   "source": [
    "class Base: # pass\n",
    "    def __new__(self, **args): pass  # defines a __new__ \n",
    "\n",
    "class Foo_new(Base):\n",
    "    def __init__(self, d, e, f): pass\n",
    "    \n",
    "inspect._signature_from_callable(Foo_new, sigcls=inspect.Signature)"
   ]
  },
  {
   "cell_type": "code",
   "execution_count": 19,
   "id": "6fb9ed0c",
   "metadata": {},
   "outputs": [],
   "source": [
    "fdb.eg = \"\"\"\n",
    "class Base: # pass\n",
    "    def __new__(self, **args): pass  # defines a __new__ \n",
    "\n",
    "class Foo_new(Base):\n",
    "    def __init__(self, d, e, f): pass\n",
    "    \n",
    "inspect._signature_from_callable(Foo_new, sigcls=inspect.Signature)\n",
    "\"\"\""
   ]
  },
  {
   "cell_type": "code",
   "execution_count": 20,
   "id": "aa722089",
   "metadata": {},
   "outputs": [],
   "source": [
    "# fdb.takExample(example, inspect=inspect, Foo_new=Foo_new)"
   ]
  },
  {
   "cell_type": "code",
   "execution_count": 21,
   "id": "d427a5ec",
   "metadata": {},
   "outputs": [
    {
     "name": "stderr",
     "output_type": "stream",
     "text": [
      "13:05:11.05 >>> Call to _signature_from_callable in File \"/tmp/_signature_from_callable.py\", line 3\n",
      "13:05:11.05 ...... obj = <class 'inspect.Foo_new'>\n",
      "13:05:11.05 ...... follow_wrapper_chains = True\n",
      "13:05:11.05 ...... skip_bound_arg = True\n",
      "13:05:11.05 ...... sigcls = <class 'inspect.Signature'>\n",
      "13:05:11.05    3 | def _signature_from_callable(obj, *,\n",
      "13:05:11.05   12 |     _get_signature_of = functools.partial(_signature_from_callable,\n",
      "13:05:11.05   13 |                                 follow_wrapper_chains=follow_wrapper_chains,\n",
      "13:05:11.05   14 |                                 skip_bound_arg=skip_bound_arg,\n",
      "13:05:11.05   15 |                                 sigcls=sigcls)\n",
      "13:05:11.05   12 |     _get_signature_of = functools.partial(_signature_from_callable,\n",
      "13:05:11.05 .......... _get_signature_of = functools.partial(<function _signature_from_call...und_arg=True, sigcls=<class 'inspect.Signature'>)\n",
      "13:05:11.05   17 |     if not callable(obj):\n",
      "13:05:11.05   20 |     if isinstance(obj, types.MethodType):\n",
      "13:05:11.05   31 |     if follow_wrapper_chains:\n",
      "13:05:11.05   32 |         obj = unwrap(obj, stop=(lambda f: hasattr(f, \"__signature__\")))\n",
      "13:05:11.05   33 |         if isinstance(obj, types.MethodType):\n",
      "13:05:11.05   39 |     try:\n",
      "13:05:11.05   40 |         sig = obj.__signature__\n",
      "13:05:11.06 !!! AttributeError: type object 'Foo_new' has no attribute '__signature__'\n",
      "13:05:11.06 !!! When getting attribute: obj.__signature__\n",
      "13:05:11.06   41 |     except AttributeError:\n",
      "13:05:11.06   42 |         pass\n",
      "13:05:11.06   51 |     try:\n",
      "13:05:11.06   52 |         partialmethod = obj._partialmethod\n",
      "13:05:11.06 !!! AttributeError: type object 'Foo_new' has no attribute '_partialmethod'\n",
      "13:05:11.06 !!! When getting attribute: obj._partialmethod\n",
      "13:05:11.06   53 |     except AttributeError:\n",
      "13:05:11.06   54 |         pass\n",
      "13:05:11.06   79 |     if isfunction(obj) or _signature_is_functionlike(obj):\n",
      "13:05:11.06   85 |     if _signature_is_builtin(obj):\n",
      "13:05:11.06   89 |     if isinstance(obj, functools.partial):\n",
      "13:05:11.06   93 |     sig = None\n",
      "13:05:11.06   94 |     if isinstance(obj, type):\n",
      "13:05:11.06   99 |         call = _signature_get_user_defined_method(type(obj), '__call__')\n",
      "13:05:11.06 .............. call = None\n",
      "13:05:11.06  100 |         if call is not None:\n",
      "13:05:11.06  103 |             factory_method = None\n",
      "13:05:11.06  104 |             new = _signature_get_user_defined_method(obj, '__new__')\n",
      "13:05:11.07 .................. new = <function Base.__new__ at 0x1400dc790>\n",
      "13:05:11.07  105 |             init = _signature_get_user_defined_method(obj, '__init__')\n",
      "13:05:11.07 .................. init = <function Foo_new.__init__ at 0x1400e5ca0>\n",
      "13:05:11.07  107 |             if '__new__' in obj.__dict__:\n",
      "13:05:11.07  110 |             elif '__init__' in obj.__dict__:\n",
      "13:05:11.07  111 |                 factory_method = init\n",
      "13:05:11.07 ...................... factory_method = <function Foo_new.__init__ at 0x1400e5ca0>\n",
      "13:05:11.07  118 |             if factory_method is not None:\n",
      "13:05:11.07  119 |                 sig = _get_signature_of(factory_method)\n",
      "13:05:11.07 ...................... sig = <Signature (self, d, e, f)>\n",
      "13:05:11.07  121 |         if sig is None:\n",
      "13:05:11.07  170 |     if sig is not None:\n",
      "13:05:11.07  173 |         if skip_bound_arg:\n",
      "13:05:11.07  174 |             return _signature_bound_method(sig)\n",
      "13:05:11.07 <<< Return value from _signature_from_callable: <Signature (d, e, f)>\n"
     ]
    }
   ],
   "source": [
    "fdb.snoop()"
   ]
  },
  {
   "cell_type": "code",
   "execution_count": 22,
   "id": "5a326696",
   "metadata": {},
   "outputs": [
    {
     "name": "stdout",
     "output_type": "stream",
     "text": [
      "        else:=============================================================================(99)      \n",
      "            factory_method = None=========================================================(100)     \n",
      "            new = _signature_get_user_defined_method(obj, '__new__')======================(101)     \n",
      "            init = _signature_get_user_defined_method(obj, '__init__')====================(102)     \n",
      "            # Now we check if the 'obj' class has an own '__new__' method=================(103) # \u001b[37;1mFoo has no methods on call nor new, but has init\u001b[0m; \n",
      "            if '__new__' in obj.__dict__:=================================================(104)     \n",
      "                factory_method = new======================================================(105)     \n",
      "            # or an own '__init__' method=================================================(106)     \n",
      "            elif '__init__' in obj.__dict__:==============================================(107)     \n",
      "                factory_method = init=====================================================(108)     \n",
      "            # If not, we take inherited '__new__' or '__init__', if present===============(109)     \n",
      "            elif new is not None:=========================================================(110)     \n",
      "                factory_method = new======================================================(111)     \n",
      "            elif init is not None:========================================================(112)     \n",
      "                factory_method = init=====================================================(113)     \n",
      "                                                                                                                                                        (114)\n",
      "            if factory_method is not None:================================================(115)     \n",
      "                sig = _get_signature_of(factory_method)===================================(116) # \u001b[91;1minit func is taken by _get_signature_of\u001b[0m; \n",
      "                                                                                                                                                        (117)\n",
      "        if sig is None:===================================================================(118)     \n",
      "            # At this point we know, that `obj` is a class, with no user-=================(119)     \n",
      "            # defined '__init__', '__new__', or class-level '__call__'====================(120)     \n",
      "                                                                                                                                                        (121)\n",
      "            for base in obj.__mro__[:-1]:=================================================(122)     \n",
      "                # Since '__text_signature__' is implemented as a==========================(123)     \n",
      "                # descriptor that extracts text signature from the========================(124)     \n",
      "                # class docstring, if 'obj' is derived from a builtin=====================(125)     \n",
      "                # class, its own '__text_signature__' may be 'None'.======================(126)     \n",
      "                # Therefore, we go through the MRO (except the last=======================(127)     \n",
      "                # class in there, which is 'object') to find the first====================(128)     \n",
      "                # class with non-empty text signature.====================================(129)     \n",
      "                try:======================================================================(130)     \n",
      "                    text_sig = base.__text_signature__====================================(131)     \n",
      "                                                                                                                                     part No.4 out of 6 parts\n"
     ]
    }
   ],
   "source": [
    "fdb.print(part=4)"
   ]
  },
  {
   "cell_type": "code",
   "execution_count": 23,
   "id": "3f075ec0",
   "metadata": {},
   "outputs": [
    {
     "name": "stdout",
     "output_type": "stream",
     "text": [
      "=================================================     Investigating \u001b[91;1m_signature_from_callable\u001b[0m     =================================================\n",
      "==============================================================     on line \u001b[91;1m104\u001b[0m     ===============================================================\n",
      "=============================================================     with example \u001b[91;1m\u001b[0m     ==============================================================\n",
      "\n",
      "\u001b[93;1mprint selected srcline with expands below\u001b[0m--------\n",
      "            init = _signature_get_user_defined_method(obj, '__init__')                                                                                  (102)\n",
      "            # Now we check if the 'obj' class has an own '__new__' method                                                                               (103)\n",
      "            if '__new__' in obj.__dict__:===============================================================================================================(104)\n",
      "\u001b[91;1mAlthough Foo inherits __new__ from Base, but Foo.__dict__ refuse to have it. So, Foo only take sig from its own __init__. therefore it will go back to step 4 at line 74 to process sig from function __init__\u001b[0m\n",
      "                factory_method = new                                                                                                                    (105)\n",
      "            # or an own '__init__' method                                                                                                               (106)\n",
      "\n",
      "==================================================================================================================\u001b[91;1mStart of my srcline exploration:\u001b[0m\n",
      "\n",
      "\n",
      "                                                                                               '__new__' in obj.__dict__ => '__new__' in obj.__dict__ : False\n",
      "\n",
      "\n",
      "                                                                                              '__init__' in obj.__dict__ => '__init__' in obj.__dict__ : True\n",
      "====================================================================================================================\u001b[91;1mEnd of my srcline exploration:\u001b[0m\n",
      "\n",
      "\n",
      "\u001b[93;1mReview srcode with all comments added so far\u001b[0m======================================================================================================\n",
      "            factory_method = None=========================================================(100)     \n",
      "            new = _signature_get_user_defined_method(obj, '__new__')======================(101)     \n",
      "            init = _signature_get_user_defined_method(obj, '__init__')====================(102)     \n",
      "            # Now we check if the 'obj' class has an own '__new__' method=================(103) # \u001b[93;1mFoo has no methods on call nor new, but has init\u001b[0m; \n",
      "            if '__new__' in obj.__dict__:=================================================(104) # \u001b[35;1mAlthough Foo inherits __new__ from Base, but Foo.__dict__ refuse to have it. So, Foo only take sig from its own __init__. therefore it will go back to step 4 at line 74 to process sig from function __init__\u001b[0m; \n",
      "                factory_method = new======================================================(105)     \n",
      "            # or an own '__init__' method=================================================(106)     \n",
      "            elif '__init__' in obj.__dict__:==============================================(107)     \n",
      "                factory_method = init=====================================================(108)     \n",
      "            # If not, we take inherited '__new__' or '__init__', if present===============(109)     \n",
      "            elif new is not None:=========================================================(110)     \n",
      "                factory_method = new======================================================(111)     \n",
      "            elif init is not None:========================================================(112)     \n",
      "                factory_method = init=====================================================(113)     \n",
      "                                                                                                                                                        (114)\n",
      "            if factory_method is not None:================================================(115)     \n",
      "                sig = _get_signature_of(factory_method)===================================(116) # \u001b[93;1minit func is taken by _get_signature_of\u001b[0m; \n",
      "                                                                                                                                                        (117)\n",
      "        if sig is None:===================================================================(118)     \n",
      "            # At this point we know, that `obj` is a class, with no user-=================(119)     \n",
      "                                                                                                                                    part No.6 out of 10 parts\n",
      "\n"
     ]
    }
   ],
   "source": [
    "fdb.docsrc(104, \"Although Foo inherits __new__ from Base, but Foo.__dict__ refuse to have it. \\\n",
    "So, Foo only take sig from its own __init__. therefore it will go back to step 4 at line 74 to process sig from function __init__\", \\\n",
    "           \"'__new__' in obj.__dict__\", \"'__init__' in obj.__dict__\", db=False)"
   ]
  },
  {
   "cell_type": "code",
   "execution_count": 24,
   "id": "8d3367b4",
   "metadata": {},
   "outputs": [
    {
     "name": "stdout",
     "output_type": "stream",
     "text": [
      "=================================================     Investigating \u001b[91;1m_signature_from_callable\u001b[0m     =================================================\n",
      "==============================================================     on line \u001b[91;1m104\u001b[0m     ===============================================================\n",
      "=============================================================     with example \u001b[91;1m\u001b[0m     ==============================================================\n",
      "\n",
      "def _signature_from_callable(obj, *,======================================================(0)       \n",
      "                             follow_wrapper_chains=True,==================================(1)       \n",
      "                             skip_bound_arg=True,=========================================(2)       \n",
      "                             sigcls):=====================================================(3)       \n",
      "                                                                                                                                                        (4)\n",
      "    \"\"\"Private helper function to get signature for arbitrary=============================(5)       \n",
      "    callable objects.=====================================================================(6)       \n",
      "    \"\"\"===================================================================================(7)       \n",
      "                                                                                                                                                        (8)\n",
      "    _get_signature_of = functools.partial(_signature_from_callable,=======================(9)       \n",
      "                                follow_wrapper_chains=follow_wrapper_chains,==============(10)      \n",
      "                                skip_bound_arg=skip_bound_arg,============================(11)      \n",
      "                                sigcls=sigcls)============================================(12)      \n",
      "                                                                                                                                                        (13)\n",
      "    if not callable(obj):=================================================================(14)      \n",
      "        raise TypeError('{!r} is not a callable object'.format(obj))======================(15)      \n",
      "                                                                                                                                                        (16)\n",
      "    if isinstance(obj, types.MethodType):=================================================(17)      \n",
      "        # In this case we skip the first parameter of the underlying======================(18)      \n",
      "        # function (usually `self` or `cls`).=============================================(19)      \n",
      "        sig = _get_signature_of(obj.__func__)=============================================(20)      \n",
      "                                                                                                                                                        (21)\n",
      "        if skip_bound_arg:================================================================(22)      \n",
      "            return _signature_bound_method(sig)===========================================(23)      \n",
      "        else:=============================================================================(24)      \n",
      "            return sig====================================================================(25)      \n",
      "                                                                                                                                                        (26)\n",
      "    # Was this function wrapped by a decorator?===========================================(27)      \n",
      "    if follow_wrapper_chains:=============================================================(28)      \n",
      "        obj = unwrap(obj, stop=(lambda f: hasattr(f, \"__signature__\")))===================(29)      \n",
      "        if isinstance(obj, types.MethodType):=============================================(30)      \n",
      "            # If the unwrapped object is a *method*, we might want to=====================(31)      \n",
      "            # skip its first parameter (self).============================================(32)      \n",
      "            # See test_signature_wrapped_bound_method for details.========================(33)      \n",
      "            return _get_signature_of(obj)=================================================(34)      \n",
      "                                                                                                                                                        (35)\n",
      "    try:==================================================================================(36)      \n",
      "        sig = obj.__signature__===========================================================(37)      \n",
      "    except AttributeError:================================================================(38)      \n",
      "        pass==============================================================================(39)      \n",
      "    else:=================================================================================(40)      \n",
      "        if sig is not None:===============================================================(41)      \n",
      "            if not isinstance(sig, Signature):============================================(42)      \n",
      "                raise TypeError(==========================================================(43)      \n",
      "                    'unexpected object {!r} in __signature__ '============================(44)      \n",
      "                    'attribute'.format(sig))==============================================(45)      \n",
      "            return sig====================================================================(46)      \n",
      "                                                                                                                                                        (47)\n",
      "    try:==================================================================================(48)      \n",
      "        partialmethod = obj._partialmethod================================================(49)      \n",
      "    except AttributeError:================================================================(50)      \n",
      "        pass==============================================================================(51)      \n",
      "    else:=================================================================================(52)      \n",
      "        if isinstance(partialmethod, functools.partialmethod):============================(53)      \n",
      "            # Unbound partialmethod (see functools.partialmethod)=========================(54)      \n",
      "            # This means, that we need to calculate the signature=========================(55)      \n",
      "            # as if it's a regular partial object, but taking into========================(56)      \n",
      "            # account that the first positional argument==================================(57)      \n",
      "            # (usually `self`, or `cls`) will not be passed===============================(58)      \n",
      "            # automatically (as for boundmethods)=========================================(59)      \n",
      "                                                                                                                                                        (60)\n",
      "            wrapped_sig = _get_signature_of(partialmethod.func)===========================(61)      \n",
      "                                                                                                                                                        (62)\n",
      "            sig = _signature_get_partial(wrapped_sig, partialmethod, (None,))=============(63)      \n",
      "            first_wrapped_param = tuple(wrapped_sig.parameters.values())[0]===============(64)      \n",
      "            if first_wrapped_param.kind is Parameter.VAR_POSITIONAL:======================(65)      \n",
      "                # First argument of the wrapped callable is `*args`, as in================(66)      \n",
      "                # `partialmethod(lambda *args)`.==========================================(67)      \n",
      "                return sig================================================================(68)      \n",
      "            else:=========================================================================(69)      \n",
      "                sig_params = tuple(sig.parameters.values())===============================(70)      \n",
      "                assert (not sig_params or=================================================(71)      \n",
      "                        first_wrapped_param is not sig_params[0])=========================(72)      \n",
      "                new_params = (first_wrapped_param,) + sig_params==========================(73)      \n",
      "                return sig.replace(parameters=new_params)=================================(74)      \n",
      "                                                                                                                                                        (75)\n",
      "    if isfunction(obj) or _signature_is_functionlike(obj):================================(76) # \u001b[92;1mwhatinside's sig is finally processed by _signature_from_function\u001b[0m; \n",
      "        # If it's a pure Python function, or an object that is duck type==================(77) # \u001b[93;1minit func will be processed by _signature_from_function in the block above. see explorations below:\u001b[0m; \n",
      "        # of a Python function (Cython functions, for instance), then:====================(78)      \n",
      "        return _signature_from_function(sigcls, obj,======================================(79)      \n",
      "                                        skip_bound_arg=skip_bound_arg)====================(80)      \n",
      "                                                                                                                                                        (81)\n",
      "    if _signature_is_builtin(obj):========================================================(82)      \n",
      "        return _signature_from_builtin(sigcls, obj,=======================================(83)      \n",
      "                                       skip_bound_arg=skip_bound_arg)=====================(84)      \n",
      "                                                                                                                                                        (85)\n",
      "    if isinstance(obj, functools.partial):================================================(86)      \n",
      "        wrapped_sig = _get_signature_of(obj.func)=========================================(87)      \n",
      "        return _signature_get_partial(wrapped_sig, obj)===================================(88)      \n",
      "                                                                                                                                                        (89)\n",
      "    sig = None============================================================================(90)      \n",
      "    if isinstance(obj, type):=============================================================(91) # \u001b[92;1mFoo is taken care of in this if block\u001b[0m; \n",
      "        # obj is a class or a metaclass===================================================(92)      \n",
      "                                                                                                                                                        (93)\n",
      "        # First, let's see if it has an overloaded __call__ defined=======================(94)      \n",
      "        # in its metaclass================================================================(95)      \n",
      "        call = _signature_get_user_defined_method(type(obj), '__call__')==================(96)      \n",
      "        if call is not None:==============================================================(97)      \n",
      "            sig = _get_signature_of(call)=================================================(98)      \n",
      "        else:=============================================================================(99)      \n",
      "            factory_method = None=========================================================(100)     \n",
      "            new = _signature_get_user_defined_method(obj, '__new__')======================(101)     \n",
      "            init = _signature_get_user_defined_method(obj, '__init__')====================(102)     \n",
      "            # Now we check if the 'obj' class has an own '__new__' method=================(103) # \u001b[37;1mFoo has no methods on call nor new, but has init\u001b[0m; \n",
      "            if '__new__' in obj.__dict__:=================================================(104) # \u001b[34;1mAlthough Foo inherits __new__ from Base, but Foo.__dict__ refuse to have it. So, Foo only take sig from its own __init__. therefore it will go back to step 4 at line 74 to process sig from function __init__\u001b[0m; \n",
      "                factory_method = new======================================================(105)     \n",
      "            # or an own '__init__' method=================================================(106)     \n",
      "            elif '__init__' in obj.__dict__:==============================================(107)     \n",
      "                factory_method = init=====================================================(108)     \n",
      "            # If not, we take inherited '__new__' or '__init__', if present===============(109)     \n",
      "            elif new is not None:=========================================================(110)     \n",
      "                factory_method = new======================================================(111)     \n",
      "            elif init is not None:========================================================(112)     \n",
      "                factory_method = init=====================================================(113)     \n",
      "                                                                                                                                                        (114)\n",
      "            if factory_method is not None:================================================(115)     \n",
      "                sig = _get_signature_of(factory_method)===================================(116) # \u001b[34;1minit func is taken by _get_signature_of\u001b[0m; \n",
      "                                                                                                                                                        (117)\n",
      "        if sig is None:===================================================================(118)     \n",
      "            # At this point we know, that `obj` is a class, with no user-=================(119)     \n",
      "            # defined '__init__', '__new__', or class-level '__call__'====================(120)     \n",
      "                                                                                                                                                        (121)\n",
      "            for base in obj.__mro__[:-1]:=================================================(122)     \n",
      "                # Since '__text_signature__' is implemented as a==========================(123)     \n",
      "                # descriptor that extracts text signature from the========================(124)     \n",
      "                # class docstring, if 'obj' is derived from a builtin=====================(125)     \n",
      "                # class, its own '__text_signature__' may be 'None'.======================(126)     \n",
      "                # Therefore, we go through the MRO (except the last=======================(127)     \n",
      "                # class in there, which is 'object') to find the first====================(128)     \n",
      "                # class with non-empty text signature.====================================(129)     \n",
      "                try:======================================================================(130)     \n",
      "                    text_sig = base.__text_signature__====================================(131)     \n",
      "                except AttributeError:====================================================(132)     \n",
      "                    pass==================================================================(133)     \n",
      "                else:=====================================================================(134)     \n",
      "                    if text_sig:==========================================================(135)     \n",
      "                        # If 'base' class has a __text_signature__ attribute:=============(136)     \n",
      "                        # return a signature based on it==================================(137)     \n",
      "                        return _signature_fromstr(sigcls, base, text_sig)=================(138)     \n",
      "                                                                                                                                                        (139)\n",
      "            # No '__text_signature__' was found for the 'obj' class.======================(140)     \n",
      "            # Last option is to check if its '__init__' is================================(141)     \n",
      "            # object.__init__ or type.__init__.===========================================(142)     \n",
      "            if type not in obj.__mro__:===================================================(143)     \n",
      "                # We have a class (not metaclass), but no user-defined====================(144)     \n",
      "                # __init__ or __new__ for it==============================================(145)     \n",
      "                if (obj.__init__ is object.__init__ and===================================(146)     \n",
      "                    obj.__new__ is object.__new__):=======================================(147)     \n",
      "                    # Return a signature of 'object' builtin.=============================(148)     \n",
      "                    return sigcls.from_callable(object)===================================(149)     \n",
      "                else:=====================================================================(150)     \n",
      "                    raise ValueError(=====================================================(151)     \n",
      "                        'no signature found for builtin type {!r}'.format(obj))===========(152)     \n",
      "                                                                                                                                                        (153)\n",
      "    elif not isinstance(obj, _NonUserDefinedCallables):===================================(154)     \n",
      "        # An object with __call__=========================================================(155)     \n",
      "        # We also check that the 'obj' is not an instance of==============================(156)     \n",
      "        # _WrapperDescriptor or _MethodWrapper to avoid===================================(157)     \n",
      "        # infinite recursion (and even potential segfault)================================(158)     \n",
      "        call = _signature_get_user_defined_method(type(obj), '__call__')==================(159)     \n",
      "        if call is not None:==============================================================(160)     \n",
      "            try:==========================================================================(161)     \n",
      "                sig = _get_signature_of(call)=============================================(162)     \n",
      "            except ValueError as ex:======================================================(163)     \n",
      "                msg = 'no signature found for {!r}'.format(obj)===========================(164)     \n",
      "                raise ValueError(msg) from ex=============================================(165)     \n",
      "                                                                                                                                                        (166)\n",
      "    if sig is not None:===================================================================(167)     \n",
      "        # For classes and objects we skip the first parameter of their====================(168)     \n",
      "        # __call__, __new__, or __init__ methods==========================================(169)     \n",
      "        if skip_bound_arg:================================================================(170)     \n",
      "            return _signature_bound_method(sig)===========================================(171)     \n",
      "        else:=============================================================================(172)     \n",
      "            return sig====================================================================(173)     \n",
      "                                                                                                                                                        (174)\n",
      "    if isinstance(obj, types.BuiltinFunctionType):========================================(175)     \n",
      "        # Raise a nicer error message for builtins========================================(176)     \n",
      "        msg = 'no signature found for builtin function {!r}'.format(obj)==================(177)     \n",
      "        raise ValueError(msg)=============================================================(178)     \n",
      "                                                                                                                                                        (179)\n",
      "    raise ValueError('callable {!r} is not supported by signature'.format(obj))===========(180)     \n",
      "                                                                                                                                                        (181)\n"
     ]
    }
   ],
   "source": [
    "fdb.print()"
   ]
  },
  {
   "cell_type": "markdown",
   "id": "e6473220",
   "metadata": {},
   "source": [
    "### Example: How FixSigMeta fixed Base's `__new__` problem"
   ]
  },
  {
   "cell_type": "code",
   "execution_count": 25,
   "id": "1da6a3c9",
   "metadata": {},
   "outputs": [],
   "source": [
    "from fastcore.meta import *"
   ]
  },
  {
   "cell_type": "code",
   "execution_count": 26,
   "id": "e1a866dd",
   "metadata": {},
   "outputs": [
    {
     "data": {
      "text/plain": [
       "<Signature (d, e, f)>"
      ]
     },
     "execution_count": 26,
     "metadata": {},
     "output_type": "execute_result"
    }
   ],
   "source": [
    "class Base: # pass\n",
    "    def __new__(self, **args): pass  # defines a __new__ \n",
    "\n",
    "class Foo_new_fix(Base, metaclass=FixSigMeta):\n",
    "    def __init__(self, d, e, f): pass\n",
    "    \n",
    "inspect._signature_from_callable(Foo_new_fix, sigcls=inspect.Signature)"
   ]
  },
  {
   "cell_type": "code",
   "execution_count": 27,
   "id": "2922ea23",
   "metadata": {},
   "outputs": [],
   "source": [
    "fdb.eg = \"\"\"\n",
    "class Base: # pass\n",
    "    def __new__(self, **args): pass  # defines a __new__ \n",
    "\n",
    "class Foo_new_fix(Base, metaclass=FixSigMeta):\n",
    "    def __init__(self, d, e, f): pass\n",
    "    \n",
    "inspect._signature_from_callable(Foo_new_fix, sigcls=inspect.Signature)\n",
    "\"\"\""
   ]
  },
  {
   "cell_type": "code",
   "execution_count": 28,
   "id": "537b94d1",
   "metadata": {},
   "outputs": [],
   "source": [
    "# fdb.takExample(example, Foo_new_fix=Foo_new_fix, inspect=inspect)"
   ]
  },
  {
   "cell_type": "code",
   "execution_count": 29,
   "id": "c60a9b31",
   "metadata": {},
   "outputs": [
    {
     "name": "stderr",
     "output_type": "stream",
     "text": [
      "13:05:11.11 >>> Call to _signature_from_callable in File \"/tmp/_signature_from_callable.py\", line 3\n",
      "13:05:11.11 ...... obj = <class 'inspect.Foo_new_fix'>\n",
      "13:05:11.11 ...... follow_wrapper_chains = True\n",
      "13:05:11.11 ...... skip_bound_arg = True\n",
      "13:05:11.11 ...... sigcls = <class 'inspect.Signature'>\n",
      "13:05:11.11    3 | def _signature_from_callable(obj, *,\n",
      "13:05:11.11   12 |     _get_signature_of = functools.partial(_signature_from_callable,\n",
      "13:05:11.11   13 |                                 follow_wrapper_chains=follow_wrapper_chains,\n",
      "13:05:11.11   14 |                                 skip_bound_arg=skip_bound_arg,\n",
      "13:05:11.11   15 |                                 sigcls=sigcls)\n",
      "13:05:11.11   12 |     _get_signature_of = functools.partial(_signature_from_callable,\n",
      "13:05:11.11 .......... _get_signature_of = functools.partial(<function _signature_from_call...und_arg=True, sigcls=<class 'inspect.Signature'>)\n",
      "13:05:11.11   17 |     if not callable(obj):\n",
      "13:05:11.11   20 |     if isinstance(obj, types.MethodType):\n",
      "13:05:11.11   31 |     if follow_wrapper_chains:\n",
      "13:05:11.11   32 |         obj = unwrap(obj, stop=(lambda f: hasattr(f, \"__signature__\")))\n",
      "13:05:11.11   33 |         if isinstance(obj, types.MethodType):\n",
      "13:05:11.11   39 |     try:\n",
      "13:05:11.11   40 |         sig = obj.__signature__\n",
      "13:05:11.12 .............. sig = <Signature (d, e, f)>\n",
      "13:05:11.12   44 |         if sig is not None:\n",
      "13:05:11.12   45 |             if not isinstance(sig, Signature):\n",
      "13:05:11.12   49 |             return sig\n",
      "13:05:11.12 <<< Return value from _signature_from_callable: <Signature (d, e, f)>\n"
     ]
    }
   ],
   "source": [
    "fdb.snoop()"
   ]
  },
  {
   "cell_type": "code",
   "execution_count": 30,
   "id": "e6d0f22c",
   "metadata": {
    "hide_input": false
   },
   "outputs": [
    {
     "name": "stdout",
     "output_type": "stream",
     "text": [
      "=================================================     Investigating \u001b[91;1m_signature_from_callable\u001b[0m     =================================================\n",
      "===============================================================     on line \u001b[91;1m29\u001b[0m     ===============================================================\n",
      "=============================================================     with example \u001b[91;1m\u001b[0m     ==============================================================\n",
      "\n",
      "\u001b[93;1mprint selected srcline with expands below\u001b[0m--------\n",
      "    # Was this function wrapped by a decorator?                                                                                                         (27)\n",
      "    if follow_wrapper_chains:                                                                                                                           (28)\n",
      "        obj = unwrap(obj, stop=(lambda f: hasattr(f, \"__signature__\")))=================================================================================(29)\n",
      "                                                                                          \u001b[91;1mEvery obj must be unwrapped if wrapped, unless it has __signature__\u001b[0m\n",
      "        if isinstance(obj, types.MethodType):                                                                                                           (30)\n",
      "            # If the unwrapped object is a *method*, we might want to                                                                                   (31)\n",
      "\n",
      "==================================================================================================================\u001b[91;1mStart of my srcline exploration:\u001b[0m\n",
      "\n",
      "\n",
      "                                                                                                                   obj => obj : <class 'inspect.Foo_new_fix'>\n",
      "\n",
      "\n",
      "                                                                                                      obj = unwrap(obj) => obj: <class 'inspect.Foo_new_fix'>\n",
      "\n",
      "\n",
      "                                                        obj = unwrap(obj, stop=(lambda f: hasattr(f, '__signature__'))) => obj: <class 'inspect.Foo_new_fix'>\n",
      "\n",
      "\n",
      "inspect.getdoc(unwrap) => inspect.getdoc(unwrap) : Get the object wrapped by *func*.\n",
      "\n",
      "Follows the chain of :attr:`__wrapped__` attributes returning the last\n",
      "object in the chain.\n",
      "\n",
      "*stop* is an optional callback accepting an object in the wrapper chain\n",
      "as its sole argument that allows the unwrapping to be terminated early if\n",
      "the callback returns a true value. If the callback never returns a true\n",
      "value, the last object in the chain is returned as usual. For example,\n",
      ":func:`signature` uses this to stop unwrapping if any object in the\n",
      "chain has a ``__signature__`` attribute defined.\n",
      "\n",
      ":exc:`ValueError` is raised if a cycle is encountered.\n",
      "\n",
      " \n",
      "====================================================================================================================\u001b[91;1mEnd of my srcline exploration:\u001b[0m\n",
      "\n",
      "\n",
      "\u001b[93;1mReview srcode with all comments added so far\u001b[0m======================================================================================================\n",
      "        sig = _get_signature_of(obj.__func__)=============================================(20)      \n",
      "                                                                                                                                                        (21)\n",
      "        if skip_bound_arg:================================================================(22)      \n",
      "            return _signature_bound_method(sig)===========================================(23)      \n",
      "        else:=============================================================================(24)      \n",
      "            return sig====================================================================(25)      \n",
      "                                                                                                                                                        (26)\n",
      "    # Was this function wrapped by a decorator?===========================================(27)      \n",
      "    if follow_wrapper_chains:=============================================================(28)      \n",
      "        obj = unwrap(obj, stop=(lambda f: hasattr(f, \"__signature__\")))===================(29) # \u001b[93;1mEvery obj must be unwrapped if wrapped, unless it has __signature__\u001b[0m; \n",
      "        if isinstance(obj, types.MethodType):=============================================(30)      \n",
      "            # If the unwrapped object is a *method*, we might want to=====================(31)      \n",
      "            # skip its first parameter (self).============================================(32)      \n",
      "            # See test_signature_wrapped_bound_method for details.========================(33)      \n",
      "            return _get_signature_of(obj)=================================================(34)      \n",
      "                                                                                                                                                        (35)\n",
      "    try:==================================================================================(36)      \n",
      "        sig = obj.__signature__===========================================================(37)      \n",
      "    except AttributeError:================================================================(38)      \n",
      "        pass==============================================================================(39)      \n",
      "                                                                                                                                    part No.2 out of 10 parts\n",
      "\n"
     ]
    }
   ],
   "source": [
    "fdb.docsrc(29, \"Every obj must be unwrapped if wrapped, unless it has __signature__\", \"obj\", \"obj = unwrap(obj)\", \\\n",
    "            \"obj = unwrap(obj, stop=(lambda f: hasattr(f, '__signature__')))\", \"inspect.getdoc(unwrap)\")"
   ]
  },
  {
   "cell_type": "code",
   "execution_count": 31,
   "id": "dd828efc",
   "metadata": {},
   "outputs": [
    {
     "name": "stdout",
     "output_type": "stream",
     "text": [
      "=================================================     Investigating \u001b[91;1m_signature_from_callable\u001b[0m     =================================================\n",
      "===============================================================     on line \u001b[91;1m37\u001b[0m     ===============================================================\n",
      "=============================================================     with example \u001b[91;1m\u001b[0m     ==============================================================\n",
      "\n",
      "\u001b[93;1mprint selected srcline with expands below\u001b[0m--------\n",
      "                                                                                                                                                        (35)\n",
      "    try:                                                                                                                                                (36)\n",
      "        sig = obj.__signature__=========================================================================================================================(37)\n",
      "                                                                         \u001b[91;1mEvery obj must be checked with __signature__, if it has the attr, then use it as sig\u001b[0m\n",
      "    except AttributeError:                                                                                                                              (38)\n",
      "        pass                                                                                                                                            (39)\n",
      "\n",
      "\u001b[93;1mReview srcode with all comments added so far\u001b[0m======================================================================================================\n",
      "        sig = _get_signature_of(obj.__func__)=============================================(20)      \n",
      "                                                                                                                                                        (21)\n",
      "        if skip_bound_arg:================================================================(22)      \n",
      "            return _signature_bound_method(sig)===========================================(23)      \n",
      "        else:=============================================================================(24)      \n",
      "            return sig====================================================================(25)      \n",
      "                                                                                                                                                        (26)\n",
      "    # Was this function wrapped by a decorator?===========================================(27)      \n",
      "    if follow_wrapper_chains:=============================================================(28)      \n",
      "        obj = unwrap(obj, stop=(lambda f: hasattr(f, \"__signature__\")))===================(29) # \u001b[37;1mEvery obj must be unwrapped if wrapped, unless it has __signature__\u001b[0m; \n",
      "        if isinstance(obj, types.MethodType):=============================================(30)      \n",
      "            # If the unwrapped object is a *method*, we might want to=====================(31)      \n",
      "            # skip its first parameter (self).============================================(32)      \n",
      "            # See test_signature_wrapped_bound_method for details.========================(33)      \n",
      "            return _get_signature_of(obj)=================================================(34)      \n",
      "                                                                                                                                                        (35)\n",
      "    try:==================================================================================(36)      \n",
      "        sig = obj.__signature__===========================================================(37) # \u001b[34;1mEvery obj must be checked with __signature__, if it has the attr, then use it as sig\u001b[0m; \n",
      "    except AttributeError:================================================================(38)      \n",
      "        pass==============================================================================(39)      \n",
      "                                                                                                                                    part No.2 out of 10 parts\n",
      "\n"
     ]
    }
   ],
   "source": [
    "fdb.docsrc(37, \"Every obj must be checked with __signature__, if it has the attr, then use it as sig\", )"
   ]
  },
  {
   "cell_type": "markdown",
   "id": "91d18b84",
   "metadata": {},
   "source": [
    "### Example: metaclass own `__call__` can be a problem"
   ]
  },
  {
   "cell_type": "code",
   "execution_count": 32,
   "id": "a9a4d473",
   "metadata": {},
   "outputs": [
    {
     "data": {
      "text/plain": [
       "<Signature (*args, **kwargs)>"
      ]
     },
     "execution_count": 32,
     "metadata": {},
     "output_type": "execute_result"
    }
   ],
   "source": [
    "class BaseMeta(type): \n",
    "    # using __new__ from type\n",
    "    def __call__(cls, *args, **kwargs): pass\n",
    "class Foo_call(metaclass=BaseMeta): \n",
    "    def __init__(self, d, e, f): pass\n",
    "\n",
    "inspect._signature_from_callable(Foo_call, sigcls=inspect.Signature)"
   ]
  },
  {
   "cell_type": "code",
   "execution_count": 33,
   "id": "1e84ab99",
   "metadata": {},
   "outputs": [],
   "source": [
    "fdb.eg = \"\"\"\n",
    "class BaseMeta(type): \n",
    "    # using __new__ from type\n",
    "    def __call__(cls, *args, **kwargs): pass\n",
    "class Foo_call(metaclass=BaseMeta): \n",
    "    def __init__(self, d, e, f): pass\n",
    "\n",
    "inspect._signature_from_callable(Foo_call, sigcls=inspect.Signature)\n",
    "\"\"\""
   ]
  },
  {
   "cell_type": "code",
   "execution_count": 34,
   "id": "b821eeaa",
   "metadata": {},
   "outputs": [],
   "source": [
    "# fdb.takExample(example, Foo_call=Foo_call, inspect=inspect)"
   ]
  },
  {
   "cell_type": "code",
   "execution_count": 35,
   "id": "e7b55387",
   "metadata": {},
   "outputs": [
    {
     "name": "stderr",
     "output_type": "stream",
     "text": [
      "13:05:11.16 >>> Call to _signature_from_callable in File \"/tmp/_signature_from_callable.py\", line 3\n",
      "13:05:11.16 ...... obj = <class 'inspect.Foo_call'>\n",
      "13:05:11.16 ...... follow_wrapper_chains = True\n",
      "13:05:11.16 ...... skip_bound_arg = True\n",
      "13:05:11.16 ...... sigcls = <class 'inspect.Signature'>\n",
      "13:05:11.16    3 | def _signature_from_callable(obj, *,\n",
      "13:05:11.16   12 |     _get_signature_of = functools.partial(_signature_from_callable,\n",
      "13:05:11.16   13 |                                 follow_wrapper_chains=follow_wrapper_chains,\n",
      "13:05:11.16   14 |                                 skip_bound_arg=skip_bound_arg,\n",
      "13:05:11.16   15 |                                 sigcls=sigcls)\n",
      "13:05:11.16   12 |     _get_signature_of = functools.partial(_signature_from_callable,\n",
      "13:05:11.16 .......... _get_signature_of = functools.partial(<function _signature_from_call...und_arg=True, sigcls=<class 'inspect.Signature'>)\n",
      "13:05:11.16   17 |     if not callable(obj):\n",
      "13:05:11.16   20 |     if isinstance(obj, types.MethodType):\n",
      "13:05:11.16   31 |     if follow_wrapper_chains:\n",
      "13:05:11.16   32 |         obj = unwrap(obj, stop=(lambda f: hasattr(f, \"__signature__\")))\n",
      "13:05:11.16   33 |         if isinstance(obj, types.MethodType):\n",
      "13:05:11.16   39 |     try:\n",
      "13:05:11.16   40 |         sig = obj.__signature__\n",
      "13:05:11.16 !!! AttributeError: type object 'Foo_call' has no attribute '__signature__'\n",
      "13:05:11.16 !!! When getting attribute: obj.__signature__\n",
      "13:05:11.16   41 |     except AttributeError:\n",
      "13:05:11.16   42 |         pass\n",
      "13:05:11.17   51 |     try:\n",
      "13:05:11.17   52 |         partialmethod = obj._partialmethod\n",
      "13:05:11.17 !!! AttributeError: type object 'Foo_call' has no attribute '_partialmethod'\n",
      "13:05:11.17 !!! When getting attribute: obj._partialmethod\n",
      "13:05:11.17   53 |     except AttributeError:\n",
      "13:05:11.17   54 |         pass\n",
      "13:05:11.17   79 |     if isfunction(obj) or _signature_is_functionlike(obj):\n",
      "13:05:11.17   85 |     if _signature_is_builtin(obj):\n",
      "13:05:11.17   89 |     if isinstance(obj, functools.partial):\n",
      "13:05:11.17   93 |     sig = None\n",
      "13:05:11.17   94 |     if isinstance(obj, type):\n",
      "13:05:11.17   99 |         call = _signature_get_user_defined_method(type(obj), '__call__')\n",
      "13:05:11.17 .............. call = <function BaseMeta.__call__ at 0x1401283a0>\n",
      "13:05:11.17  100 |         if call is not None:\n",
      "13:05:11.17  101 |             sig = _get_signature_of(call)\n",
      "13:05:11.17 .................. sig = <Signature (cls, *args, **kwargs)>\n",
      "13:05:11.17  121 |         if sig is None:\n",
      "13:05:11.17  170 |     if sig is not None:\n",
      "13:05:11.17  173 |         if skip_bound_arg:\n",
      "13:05:11.17  174 |             return _signature_bound_method(sig)\n",
      "13:05:11.17 <<< Return value from _signature_from_callable: <Signature (*args, **kwargs)>\n"
     ]
    }
   ],
   "source": [
    "fdb.snoop()"
   ]
  },
  {
   "cell_type": "code",
   "execution_count": 36,
   "id": "8c4ac19f",
   "metadata": {},
   "outputs": [
    {
     "name": "stdout",
     "output_type": "stream",
     "text": [
      "=================================================     Investigating \u001b[91;1m_signature_from_callable\u001b[0m     =================================================\n",
      "===============================================================     on line \u001b[91;1m96\u001b[0m     ===============================================================\n",
      "=============================================================     with example \u001b[91;1m\u001b[0m     ==============================================================\n",
      "\n",
      "\u001b[93;1mprint selected srcline with expands below\u001b[0m--------\n",
      "        # First, let's see if it has an overloaded __call__ defined                                                                                     (94)\n",
      "        # in its metaclass                                                                                                                              (95)\n",
      "        call = _signature_get_user_defined_method(type(obj), '__call__')================================================================================(96)\n",
      "                                                                                                      \u001b[91;1mMust check whether Foo's metaclass has its own __call__\u001b[0m\n",
      "        if call is not None:                                                                                                                            (97)\n",
      "            sig = _get_signature_of(call)                                                                                                               (98)\n",
      "\n",
      "==================================================================================================================\u001b[91;1mStart of my srcline exploration:\u001b[0m\n",
      "\n",
      "\n",
      "                                        call = _signature_get_user_defined_method(type(obj), '__call__') => call: <function BaseMeta.__call__ at 0x14010c1f0>\n",
      "\n",
      "\n",
      "inspect.getdoc(_signature_get_user_defined_method) => inspect.getdoc(_signature_get_user_defined_method) : Private helper. Checks if ``cls`` has an attribute\n",
      "named ``method_name`` and returns it only if it is a\n",
      "pure python function.\n",
      "====================================================================================================================\u001b[91;1mEnd of my srcline exploration:\u001b[0m\n",
      "\n",
      "\n",
      "\u001b[93;1mReview srcode with all comments added so far\u001b[0m======================================================================================================\n",
      "                                        skip_bound_arg=skip_bound_arg)====================(80)      \n",
      "                                                                                                                                                        (81)\n",
      "    if _signature_is_builtin(obj):========================================================(82)      \n",
      "        return _signature_from_builtin(sigcls, obj,=======================================(83)      \n",
      "                                       skip_bound_arg=skip_bound_arg)=====================(84)      \n",
      "                                                                                                                                                        (85)\n",
      "    if isinstance(obj, functools.partial):================================================(86)      \n",
      "        wrapped_sig = _get_signature_of(obj.func)=========================================(87)      \n",
      "        return _signature_get_partial(wrapped_sig, obj)===================================(88)      \n",
      "                                                                                                                                                        (89)\n",
      "    sig = None============================================================================(90)      \n",
      "    if isinstance(obj, type):=============================================================(91) # \u001b[37;1mFoo is taken care of in this if block\u001b[0m; \n",
      "        # obj is a class or a metaclass===================================================(92)      \n",
      "                                                                                                                                                        (93)\n",
      "        # First, let's see if it has an overloaded __call__ defined=======================(94)      \n",
      "        # in its metaclass================================================================(95)      \n",
      "        call = _signature_get_user_defined_method(type(obj), '__call__')==================(96) # \u001b[34;1mMust check whether Foo's metaclass has its own __call__\u001b[0m; \n",
      "        if call is not None:==============================================================(97)      \n",
      "            sig = _get_signature_of(call)=================================================(98)      \n",
      "        else:=============================================================================(99)      \n",
      "                                                                                                                                    part No.5 out of 10 parts\n",
      "\n"
     ]
    }
   ],
   "source": [
    "fdb.docsrc(96, \"Must check whether Foo's metaclass has its own __call__\", \"call = _signature_get_user_defined_method(type(obj), '__call__')\",\\\n",
    "           \"inspect.getdoc(_signature_get_user_defined_method)\")"
   ]
  },
  {
   "cell_type": "code",
   "execution_count": 37,
   "id": "2492d574",
   "metadata": {},
   "outputs": [
    {
     "name": "stdout",
     "output_type": "stream",
     "text": [
      "=================================================     Investigating \u001b[91;1m_signature_from_callable\u001b[0m     =================================================\n",
      "===============================================================     on line \u001b[91;1m98\u001b[0m     ===============================================================\n",
      "=============================================================     with example \u001b[91;1m\u001b[0m     ==============================================================\n",
      "\n",
      "\u001b[93;1mprint selected srcline with expands below\u001b[0m--------\n",
      "        call = _signature_get_user_defined_method(type(obj), '__call__')                                                                                (96)\n",
      "        if call is not None:                                                                                                                            (97)\n",
      "            sig = _get_signature_of(call)===============================================================================================================(98)\n",
      "                                                         \u001b[91;1m_get_signature_of(call) will execute _signature_from_func(call) to get sig through step 4 on line 76\u001b[0m\n",
      "        else:                                                                                                                                           (99)\n",
      "            factory_method = None                                                                                                                       (100)\n",
      "\n",
      "\u001b[93;1mReview srcode with all comments added so far\u001b[0m======================================================================================================\n",
      "                                        skip_bound_arg=skip_bound_arg)====================(80)      \n",
      "                                                                                                                                                        (81)\n",
      "    if _signature_is_builtin(obj):========================================================(82)      \n",
      "        return _signature_from_builtin(sigcls, obj,=======================================(83)      \n",
      "                                       skip_bound_arg=skip_bound_arg)=====================(84)      \n",
      "                                                                                                                                                        (85)\n",
      "    if isinstance(obj, functools.partial):================================================(86)      \n",
      "        wrapped_sig = _get_signature_of(obj.func)=========================================(87)      \n",
      "        return _signature_get_partial(wrapped_sig, obj)===================================(88)      \n",
      "                                                                                                                                                        (89)\n",
      "    sig = None============================================================================(90)      \n",
      "    if isinstance(obj, type):=============================================================(91) # \u001b[93;1mFoo is taken care of in this if block\u001b[0m; \n",
      "        # obj is a class or a metaclass===================================================(92)      \n",
      "                                                                                                                                                        (93)\n",
      "        # First, let's see if it has an overloaded __call__ defined=======================(94)      \n",
      "        # in its metaclass================================================================(95)      \n",
      "        call = _signature_get_user_defined_method(type(obj), '__call__')==================(96) # \u001b[35;1mMust check whether Foo's metaclass has its own __call__\u001b[0m; \n",
      "        if call is not None:==============================================================(97)      \n",
      "            sig = _get_signature_of(call)=================================================(98) # \u001b[91;1m_get_signature_of(call) will execute _signature_from_func(call) to get sig through step 4 on line 76\u001b[0m; \n",
      "        else:=============================================================================(99)      \n",
      "                                                                                                                                    part No.5 out of 10 parts\n",
      "\n"
     ]
    }
   ],
   "source": [
    "fdb.docsrc(98, \"_get_signature_of(call) will execute _signature_from_func(call) to get sig through step 4 on line 76\")"
   ]
  },
  {
   "cell_type": "markdown",
   "id": "169986c3",
   "metadata": {},
   "source": [
    "### Example: How FixSigMeta fix metaclass' `__call__` problem"
   ]
  },
  {
   "cell_type": "code",
   "execution_count": 38,
   "id": "e22b0f83",
   "metadata": {},
   "outputs": [
    {
     "data": {
      "text/plain": [
       "<Signature (d, e, f)>"
      ]
     },
     "execution_count": 38,
     "metadata": {},
     "output_type": "execute_result"
    }
   ],
   "source": [
    "class BaseMeta(FixSigMeta): \n",
    "    # using __new__ of  FixSigMeta instead of type\n",
    "    def __call__(cls, *args, **kwargs): pass\n",
    "\n",
    "class Foo_call_fix(metaclass=BaseMeta): # Base\n",
    "    def __init__(self, d, e, f): pass\n",
    "\n",
    "inspect._signature_from_callable(Foo_call_fix, sigcls=inspect.Signature)    "
   ]
  },
  {
   "cell_type": "code",
   "execution_count": 39,
   "id": "7be33334",
   "metadata": {},
   "outputs": [],
   "source": [
    "fdb.eg = \"\"\"\n",
    "class BaseMeta(FixSigMeta): \n",
    "    # using __new__ of  FixSigMeta instead of type\n",
    "    def __call__(cls, *args, **kwargs): pass\n",
    "\n",
    "class Foo_call_fix(metaclass=BaseMeta): # Base\n",
    "    def __init__(self, d, e, f): pass\n",
    "\n",
    "inspect._signature_from_callable(Foo_call_fix, sigcls=inspect.Signature)    \n",
    "\"\"\""
   ]
  },
  {
   "cell_type": "code",
   "execution_count": 40,
   "id": "c1a54cbe",
   "metadata": {},
   "outputs": [],
   "source": [
    "# fdb.takExample(example, Foo_call_fix=Foo_call_fix, inspect=inspect)"
   ]
  },
  {
   "cell_type": "code",
   "execution_count": 41,
   "id": "539fdff4",
   "metadata": {},
   "outputs": [
    {
     "name": "stderr",
     "output_type": "stream",
     "text": [
      "13:05:11.23 >>> Call to _signature_from_callable in File \"/tmp/_signature_from_callable.py\", line 3\n",
      "13:05:11.23 ...... obj = <class 'inspect.Foo_call_fix'>\n",
      "13:05:11.23 ...... follow_wrapper_chains = True\n",
      "13:05:11.23 ...... skip_bound_arg = True\n",
      "13:05:11.23 ...... sigcls = <class 'inspect.Signature'>\n",
      "13:05:11.23    3 | def _signature_from_callable(obj, *,\n",
      "13:05:11.23   12 |     _get_signature_of = functools.partial(_signature_from_callable,\n",
      "13:05:11.23   13 |                                 follow_wrapper_chains=follow_wrapper_chains,\n",
      "13:05:11.23   14 |                                 skip_bound_arg=skip_bound_arg,\n",
      "13:05:11.23   15 |                                 sigcls=sigcls)\n",
      "13:05:11.23   12 |     _get_signature_of = functools.partial(_signature_from_callable,\n",
      "13:05:11.23 .......... _get_signature_of = functools.partial(<function _signature_from_call...und_arg=True, sigcls=<class 'inspect.Signature'>)\n",
      "13:05:11.23   17 |     if not callable(obj):\n",
      "13:05:11.23   20 |     if isinstance(obj, types.MethodType):\n",
      "13:05:11.23   31 |     if follow_wrapper_chains:\n",
      "13:05:11.23   32 |         obj = unwrap(obj, stop=(lambda f: hasattr(f, \"__signature__\")))\n",
      "13:05:11.23   33 |         if isinstance(obj, types.MethodType):\n",
      "13:05:11.23   39 |     try:\n",
      "13:05:11.23   40 |         sig = obj.__signature__\n",
      "13:05:11.23 .............. sig = <Signature (d, e, f)>\n",
      "13:05:11.23   44 |         if sig is not None:\n",
      "13:05:11.23   45 |             if not isinstance(sig, Signature):\n",
      "13:05:11.23   49 |             return sig\n",
      "13:05:11.23 <<< Return value from _signature_from_callable: <Signature (d, e, f)>\n"
     ]
    }
   ],
   "source": [
    "fdb.snoop()"
   ]
  },
  {
   "cell_type": "code",
   "execution_count": 42,
   "id": "50704177",
   "metadata": {},
   "outputs": [
    {
     "name": "stdout",
     "output_type": "stream",
     "text": [
      "=================================================     Investigating \u001b[91;1m_signature_from_callable\u001b[0m     =================================================\n",
      "===============================================================     on line \u001b[91;1m36\u001b[0m     ===============================================================\n",
      "=============================================================     with example \u001b[91;1m\u001b[0m     ==============================================================\n",
      "\n",
      "\u001b[93;1mprint selected srcline with expands below\u001b[0m--------\n",
      "            return _get_signature_of(obj)                                                                                                               (34)\n",
      "                                                                                                                                                        (35)\n",
      "    try:================================================================================================================================================(36)\n",
      "                                                                                   \u001b[91;1mcheck obj.__signature__ is executed before __call__, __new__, and __init__\u001b[0m\n",
      "        sig = obj.__signature__                                                                                                                         (37)\n",
      "    except AttributeError:                                                                                                                              (38)\n",
      "\n",
      "\u001b[93;1mReview srcode with all comments added so far\u001b[0m======================================================================================================\n",
      "        sig = _get_signature_of(obj.__func__)=============================================(20)      \n",
      "                                                                                                                                                        (21)\n",
      "        if skip_bound_arg:================================================================(22)      \n",
      "            return _signature_bound_method(sig)===========================================(23)      \n",
      "        else:=============================================================================(24)      \n",
      "            return sig====================================================================(25)      \n",
      "                                                                                                                                                        (26)\n",
      "    # Was this function wrapped by a decorator?===========================================(27)      \n",
      "    if follow_wrapper_chains:=============================================================(28)      \n",
      "        obj = unwrap(obj, stop=(lambda f: hasattr(f, \"__signature__\")))===================(29) # \u001b[91;1mEvery obj must be unwrapped if wrapped, unless it has __signature__\u001b[0m; \n",
      "        if isinstance(obj, types.MethodType):=============================================(30)      \n",
      "            # If the unwrapped object is a *method*, we might want to=====================(31)      \n",
      "            # skip its first parameter (self).============================================(32)      \n",
      "            # See test_signature_wrapped_bound_method for details.========================(33)      \n",
      "            return _get_signature_of(obj)=================================================(34)      \n",
      "                                                                                                                                                        (35)\n",
      "    try:==================================================================================(36) # \u001b[91;1mcheck obj.__signature__ is executed before __call__, __new__, and __init__\u001b[0m; \n",
      "        sig = obj.__signature__===========================================================(37) # \u001b[92;1mEvery obj must be checked with __signature__, if it has the attr, then use it as sig\u001b[0m; \n",
      "    except AttributeError:================================================================(38)      \n",
      "        pass==============================================================================(39)      \n",
      "                                                                                                                                    part No.2 out of 10 parts\n",
      "\n"
     ]
    }
   ],
   "source": [
    "fdb.docsrc(36, \"check obj.__signature__ is executed before __call__, __new__, and __init__\")"
   ]
  },
  {
   "cell_type": "markdown",
   "id": "73dea486",
   "metadata": {},
   "source": [
    "## Explore and documenting FixSigMeta"
   ]
  },
  {
   "cell_type": "code",
   "execution_count": 43,
   "id": "47c353cd",
   "metadata": {},
   "outputs": [],
   "source": [
    "# I have to import it seperately, as from fastcore.meta import * won't give me this func, and FixSigMeta needs it\n",
    "from fastcore.meta import _rm_self "
   ]
  },
  {
   "cell_type": "code",
   "execution_count": 44,
   "id": "17d29dce",
   "metadata": {},
   "outputs": [],
   "source": [
    "g = locals()\n",
    "fdbF = Fastdb(FixSigMeta, outloc=g)"
   ]
  },
  {
   "cell_type": "code",
   "execution_count": 45,
   "id": "cb648ab8",
   "metadata": {},
   "outputs": [
    {
     "name": "stdout",
     "output_type": "stream",
     "text": [
      "========================================================     Investigating \u001b[91;1mFixSigMeta\u001b[0m     ========================================================\n",
      "==============================================================     on line \u001b[91;1mNone\u001b[0m     ==============================================================\n",
      "=============================================================     with example \u001b[91;1m\u001b[0m     ==============================================================\n",
      "\n",
      "class FixSigMeta(type):===================================================================(0)       \n",
      "    \"A metaclass that fixes the signature on classes that override `__new__`\"=============(1)       \n",
      "    def __new__(cls, name, bases, dict):==================================================(2)       \n",
      "        res = super().__new__(cls, name, bases, dict)=====================================(3)       \n",
      "        if res.__init__ is not object.__init__: res.__signature__ = _rm_self(inspect.signature(res.__init__))                                           (4)\n",
      "        return res========================================================================(5)       \n",
      "                                                                                                                                                        (6)\n"
     ]
    }
   ],
   "source": [
    "fdbF.print()"
   ]
  },
  {
   "cell_type": "code",
   "execution_count": 46,
   "id": "2b5e6af8",
   "metadata": {},
   "outputs": [],
   "source": [
    "fdbF.eg = \"\"\"\n",
    "class BaseMeta(FixSigMeta): \n",
    "    # using __new__ of  FixSigMeta instead of type\n",
    "    def __call__(cls, *args, **kwargs): pass\n",
    "\n",
    "class Foo_call_fix(metaclass=BaseMeta): # Base\n",
    "    def __init__(self, d, e, f): pass\n",
    "\n",
    "pprint(inspect.signature(Foo_call_fix))\n",
    "\"\"\""
   ]
  },
  {
   "cell_type": "code",
   "execution_count": 47,
   "id": "2938943a",
   "metadata": {},
   "outputs": [],
   "source": [
    "# fdbF.takExample(example, inspect=inspect)"
   ]
  },
  {
   "cell_type": "code",
   "execution_count": 48,
   "id": "a3528297",
   "metadata": {},
   "outputs": [
    {
     "name": "stdout",
     "output_type": "stream",
     "text": [
      "<Signature (d, e, f)>\n"
     ]
    }
   ],
   "source": [
    "fdbF.snoop()"
   ]
  },
  {
   "cell_type": "code",
   "execution_count": 49,
   "id": "3f6dfa73",
   "metadata": {},
   "outputs": [
    {
     "name": "stdout",
     "output_type": "stream",
     "text": [
      "========================================================     Investigating \u001b[91;1mFixSigMeta\u001b[0m     ========================================================\n",
      "==============================================================     on line \u001b[91;1mNone\u001b[0m     ==============================================================\n",
      "=============================================================     with example \u001b[91;1m\u001b[0m     ==============================================================\n",
      "\n",
      "class FixSigMeta(type):===================================================================(0)       \n",
      "    \"A metaclass that fixes the signature on classes that override `__new__`\"=============(1)       \n",
      "    def __new__(cls, name, bases, dict):==================================================(2)       \n",
      "        res = super().__new__(cls, name, bases, dict)=====================================(3)       \n",
      "        if res.__init__ is not object.__init__: res.__signature__ = _rm_self(inspect.signature(res.__init__))                                           (4)\n",
      "        return res========================================================================(5)       \n",
      "                                                                                                                                                        (6)\n"
     ]
    }
   ],
   "source": [
    "fdbF.print()"
   ]
  },
  {
   "cell_type": "code",
   "execution_count": 50,
   "id": "e35b3935",
   "metadata": {},
   "outputs": [
    {
     "name": "stdout",
     "output_type": "stream",
     "text": [
      "========================================================     Investigating \u001b[91;1mFixSigMeta\u001b[0m     ========================================================\n",
      "===============================================================     on line \u001b[91;1m5\u001b[0m     ================================================================\n",
      "=============================================================     with example \u001b[91;1m\u001b[0m     ==============================================================\n",
      "\n",
      "\u001b[93;1mprint selected srcline with expands below\u001b[0m--------\n",
      "        res = super().__new__(cls, name, bases, dict)                                                                                                   (3)\n",
      "        if res.__init__ is not object.__init__: res.__signature__ = _rm_self(inspect.signature(res.__init__))                                           (4)\n",
      "        return res======================================================================================================================================(5)\n",
      "                                                                                                                                                  \u001b[91;1mwhat is res\u001b[0m\n",
      "                                                                                                                                                        (6)\n",
      "\n",
      "==================================================================================================================\u001b[91;1mStart of my srcline exploration:\u001b[0m\n",
      "\n",
      "\n",
      "                                                                                                            res => res : <class 'fastcore.meta.Foo_call_fix'>\n",
      "\n",
      "\n",
      "                                                                         inspect.signature(res.__init__) => inspect.signature(res.__init__) : (self, d, e, f)\n",
      "\n",
      "\n",
      "                                                           _rm_self(inspect.signature(res.__init__)) => _rm_self(inspect.signature(res.__init__)) : (d, e, f)\n",
      "\n",
      "\n",
      "                                                                                                           res.__signature__ => res.__signature__ : (d, e, f)\n",
      "====================================================================================================================\u001b[91;1mEnd of my srcline exploration:\u001b[0m\n",
      "\n",
      "<Signature (d, e, f)>\n",
      "\n",
      "\u001b[93;1mReview srcode with all comments added so far\u001b[0m======================================================================================================\n",
      "class FixSigMeta(type):===================================================================(0)       \n",
      "    \"A metaclass that fixes the signature on classes that override `__new__`\"=============(1)       \n",
      "    def __new__(cls, name, bases, dict):==================================================(2)       \n",
      "        res = super().__new__(cls, name, bases, dict)=====================================(3)       \n",
      "        if res.__init__ is not object.__init__: res.__signature__ = _rm_self(inspect.signature(res.__init__))                                           (4)\n",
      "        return res========================================================================(5) # \u001b[93;1mwhat is res\u001b[0m; \n",
      "                                                                                                                                                        (6)\n",
      "                                                                                                                                     part No.1 out of 1 parts\n",
      "\n"
     ]
    }
   ],
   "source": [
    "fsm = fdbF.docsrc(5, \"what is res\", \"res\",  \"inspect.signature(res.__init__)\", \\\n",
    "                   \"_rm_self(inspect.signature(res.__init__))\", \"res.__signature__\", db=False)"
   ]
  },
  {
   "cell_type": "code",
   "execution_count": null,
   "id": "bcf11e4f",
   "metadata": {},
   "outputs": [],
   "source": []
  },
  {
   "cell_type": "code",
   "execution_count": null,
   "id": "d79bf543",
   "metadata": {},
   "outputs": [],
   "source": []
  }
 ],
 "metadata": {
  "hide_input": false,
  "kernelspec": {
   "display_name": "Python 3 (ipykernel)",
   "language": "python",
   "name": "python3"
  },
  "language_info": {
   "codemirror_mode": {
    "name": "ipython",
    "version": 3
   },
   "file_extension": ".py",
   "mimetype": "text/x-python",
   "name": "python",
   "nbconvert_exporter": "python",
   "pygments_lexer": "ipython3",
   "version": "3.9.13"
  },
  "toc": {
   "base_numbering": 1,
   "nav_menu": {},
   "number_sections": true,
   "sideBar": true,
   "skip_h1_title": false,
   "title_cell": "Table of Contents",
   "title_sidebar": "Contents",
   "toc_cell": false,
   "toc_position": {},
   "toc_section_display": true,
   "toc_window_display": true
  }
 },
 "nbformat": 4,
 "nbformat_minor": 5
}
