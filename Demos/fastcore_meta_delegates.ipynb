{
 "cells": [
  {
   "cell_type": "code",
   "execution_count": 1,
   "id": "9029dccb-9cad-45a9-b4e1-0b445bf7eb3d",
   "metadata": {},
   "outputs": [],
   "source": [
    "# from IPython.core.display import display, HTML # a depreciated import\n",
    "from IPython.display import display, HTML "
   ]
  },
  {
   "cell_type": "code",
   "execution_count": 2,
   "id": "9b940390-ce64-471d-9ccc-811cb1589912",
   "metadata": {},
   "outputs": [
    {
     "data": {
      "text/html": [
       "<style>.container { width:100% !important; }</style>"
      ],
      "text/plain": [
       "<IPython.core.display.HTML object>"
      ]
     },
     "metadata": {},
     "output_type": "display_data"
    }
   ],
   "source": [
    "display(HTML(\"<style>.container { width:100% !important; }</style>\"))"
   ]
  },
  {
   "cell_type": "markdown",
   "id": "aee46c31",
   "metadata": {},
   "source": [
    "## Import"
   ]
  },
  {
   "cell_type": "code",
   "execution_count": 3,
   "id": "f6ac2f50",
   "metadata": {},
   "outputs": [],
   "source": [
    "from fastdebug.core import *\n",
    "import inspect\n",
    "from pprint import pprint"
   ]
  },
  {
   "cell_type": "code",
   "execution_count": null,
   "id": "d9da2e67",
   "metadata": {},
   "outputs": [],
   "source": []
  },
  {
   "cell_type": "markdown",
   "id": "f25fd4d2",
   "metadata": {},
   "source": [
    "## Example"
   ]
  },
  {
   "cell_type": "code",
   "execution_count": 4,
   "id": "8c1f628f",
   "metadata": {},
   "outputs": [],
   "source": [
    "from fastcore.meta import *\n",
    "from fastcore.imports import *\n",
    "import snoop"
   ]
  },
  {
   "cell_type": "code",
   "execution_count": 5,
   "id": "aa094291",
   "metadata": {},
   "outputs": [
    {
     "name": "stdout",
     "output_type": "stream",
     "text": [
      "<Signature (c, d=1, *, b=1)>\n"
     ]
    }
   ],
   "source": [
    "def low(a, b=1): pass\n",
    "def mid(c, d=1, **kwargs): pass\n",
    "\n",
    "pprint(inspect.signature(delegates(low)(mid)))"
   ]
  },
  {
   "cell_type": "code",
   "execution_count": 6,
   "id": "94fa6801",
   "metadata": {},
   "outputs": [],
   "source": [
    "g = locals()\n",
    "fdb = Fastdb(delegates, outloc=g)"
   ]
  },
  {
   "cell_type": "code",
   "execution_count": 7,
   "id": "1a3812a5",
   "metadata": {},
   "outputs": [],
   "source": [
    "fdb.eg = \"\"\"\n",
    "def low(a, b=1): pass\n",
    "def mid(c, d=1, **kwargs): pass\n",
    "\n",
    "pprint(inspect.signature(delegates(low)(mid)))\n",
    "\"\"\""
   ]
  },
  {
   "cell_type": "code",
   "execution_count": 8,
   "id": "e5540937",
   "metadata": {
    "scrolled": false
   },
   "outputs": [
    {
     "name": "stderr",
     "output_type": "stream",
     "text": [
      "22:55:11.55 >>> Call to delegates in File \"/tmp/delegates.py\", line 3\n",
      "22:55:11.55 ...... to = <function low at 0x12409da60>\n",
      "22:55:11.55 ...... keep = False\n",
      "22:55:11.55 ...... but = None\n",
      "22:55:11.55    3 | def delegates(to:FunctionType=None, # Delegatee\n",
      "22:55:11.55    7 |     if but is None: but = []\n",
      "22:55:11.55 ...... but = []\n",
      "22:55:11.55    8 |     import snoop\n",
      "22:55:11.55 .......... snoop = <class 'snoop.configuration.Config.__init__.<locals>.ConfiguredTracer'>\n",
      "22:55:11.55    9 |     @snoop\n",
      "22:55:11.55   10 |     def _f(f):\n",
      "22:55:11.55 .......... _f = <function delegates.<locals>._f at 0x1240b5040>\n",
      "22:55:11.55   28 |     return _f\n",
      "22:55:11.55 <<< Return value from delegates: <function delegates.<locals>._f at 0x1240b5040>\n",
      "22:55:11.55 >>> Call to delegates.<locals>._f in File \"/tmp/delegates.py\", line 10\n",
      "22:55:11.55 .......... f = <function mid at 0x12409daf0>\n",
      "22:55:11.55 .......... but = []\n",
      "22:55:11.55 .......... keep = False\n",
      "22:55:11.55 .......... to = <function low at 0x12409da60>\n",
      "22:55:11.55   10 |     def _f(f):\n",
      "22:55:11.55   11 |         if to is None: to_f,from_f = f.__base__.__init__,f.__init__\n",
      "22:55:11.55   12 |         else:          to_f,from_f = to.__init__ if isinstance(to,type) else to,f\n",
      "22:55:11.56 .............. to_f = <function low at 0x12409da60>\n",
      "22:55:11.56 .............. from_f = <function mid at 0x12409daf0>\n",
      "22:55:11.56   13 |         from_f = getattr(from_f,'__func__',from_f)\n",
      "22:55:11.56   14 |         to_f = getattr(to_f,'__func__',to_f)\n",
      "22:55:11.56   15 |         if hasattr(from_f,'__delwrap__'): return f\n",
      "22:55:11.56   16 |         sig = inspect.signature(from_f)\n",
      "22:55:11.56 .............. sig = <Signature (c, d=1, **kwargs)>\n",
      "22:55:11.56   17 |         sigd = dict(sig.parameters)\n",
      "22:55:11.56 .............. sigd = {'c': <Parameter \"c\">, 'd': <Parameter \"d=1\">, 'kwargs': <Parameter \"**kwargs\">}\n",
      "22:55:11.56 .............. len(sigd) = 3\n",
      "22:55:11.56   18 |         k = sigd.pop('kwargs')\n",
      "22:55:11.56 .............. k = <Parameter \"**kwargs\">\n",
      "22:55:11.56 .............. sigd = {'c': <Parameter \"c\">, 'd': <Parameter \"d=1\">}\n",
      "22:55:11.56 .............. len(sigd) = 2\n",
      "22:55:11.56   19 |         s2 = {k:v.replace(kind=inspect.Parameter.KEYWORD_ONLY) for k,v in inspect.signature(to_f).parameters.items()\n",
      "    22:55:11.56 Dict comprehension:\n",
      "    22:55:11.56   19 |         s2 = {k:v.replace(kind=inspect.Parameter.KEYWORD_ONLY) for k,v in inspect.signature(to_f).parameters.items()\n",
      "    22:55:11.56 .............. Iterating over <odict_iterator object at 0x1240ad810>\n",
      "    22:55:11.56 .............. Values of but: []\n",
      "    22:55:11.56 .............. Values of sigd: {'c': <Parameter \"c\">, 'd': <Parameter \"d=1\">}\n",
      "    22:55:11.56 .............. Values of len(sigd): 2\n",
      "    22:55:11.56 .............. Values of k: 'a', 'b'\n",
      "    22:55:11.56 .............. Values of v: <Parameter \"a\">, <Parameter \"b=1\">\n",
      "    22:55:11.56 Result: {'b': <Parameter \"b=1\">}\n",
      "22:55:11.56   19 |         s2 = {k:v.replace(kind=inspect.Parameter.KEYWORD_ONLY) for k,v in inspect.signature(to_f).parameters.items()\n",
      "22:55:11.56 .............. s2 = {'b': <Parameter \"b=1\">}\n",
      "22:55:11.56 .............. len(s2) = 1\n",
      "22:55:11.56   21 |         anno = {k:v for k,v in getattr(to_f, \"__annotations__\", {}).items() if k not in sigd and k not in but}\n",
      "    22:55:11.56 Dict comprehension:\n",
      "    22:55:11.56   21 |         anno = {k:v for k,v in getattr(to_f, \"__annotations__\", {}).items() if k not in sigd and k not in but}\n",
      "    22:55:11.57 .............. Iterating over <dict_itemiterator object at 0x1240b4c70>\n",
      "    22:55:11.57 .............. Values of but: []\n",
      "    22:55:11.57 .............. Values of sigd: {'c': <Parameter \"c\">, 'd': <Parameter \"d=1\">}\n",
      "    22:55:11.57 .............. Values of len(sigd): 2\n",
      "    22:55:11.57 Result: {}\n",
      "22:55:11.57   21 |         anno = {k:v for k,v in getattr(to_f, \"__annotations__\", {}).items() if k not in sigd and k not in but}\n",
      "22:55:11.57 .............. anno = {}\n",
      "22:55:11.57   22 |         sigd.update(s2)\n",
      "22:55:11.57 .............. sigd = {'c': <Parameter \"c\">, 'd': <Parameter \"d=1\">, 'b': <Parameter \"b=1\">}\n",
      "22:55:11.57 .............. len(sigd) = 3\n",
      "22:55:11.57   23 |         if keep: sigd['kwargs'] = k\n",
      "22:55:11.57   24 |         else: from_f.__delwrap__ = to_f\n",
      "22:55:11.57   25 |         from_f.__signature__ = sig.replace(parameters=sigd.values())\n",
      "22:55:11.57   26 |         if hasattr(from_f, '__annotations__'): from_f.__annotations__.update(anno)\n",
      "22:55:11.57   27 |         return f\n",
      "22:55:11.57 <<< Return value from delegates.<locals>._f: <function mid at 0x12409daf0>\n"
     ]
    },
    {
     "name": "stdout",
     "output_type": "stream",
     "text": [
      "<Signature (c, d=1, *, b=1)>\n"
     ]
    }
   ],
   "source": [
    "fdb.snoop(db=True)"
   ]
  },
  {
   "cell_type": "code",
   "execution_count": 9,
   "id": "84821bd3",
   "metadata": {},
   "outputs": [
    {
     "name": "stdout",
     "output_type": "stream",
     "text": [
      "========================================================     Investigating \u001b[91;1mdelegates\u001b[0m     =========================================================\n",
      "===============================================================     on line \u001b[91;1m4\u001b[0m     ================================================================\n",
      "=========     with example \u001b[91;1m\n",
      "def low(a, b=1): pass\n",
      "def mid(c, d=1, **kwargs): pass\n",
      "\n",
      "pprint(inspect.signature(self.dbsrc(low)(mid)))\n",
      "\u001b[0m     ==========\n",
      "\n",
      "\u001b[93;1mprint selected srcline with expands below\u001b[0m--------\n",
      "              but:list=None): # Exclude these parameters from signature                                                                                 (2)\n",
      "    \"Decorator: replace `**kwargs` in signature with params from `to`\"                                                                                  (3)\n",
      "    if but is None: but = []============================================================================================================================(4)\n",
      "                                                                                                                  \u001b[91;1mstart building a decorator called delegates\u001b[0m\n",
      "    def _f(f):                                                                                                                                          (5)\n",
      "        if to is None: to_f,from_f = f.__base__.__init__,f.__init__                                                                                     (6)\n",
      "\n",
      "==================================================================================================================\u001b[91;1mStart of my srcline exploration:\u001b[0m\n",
      "\n",
      "\n",
      "                                                                                                                                            but => but : None\n",
      "====================================================================================================================\u001b[91;1mEnd of my srcline exploration:\u001b[0m\n",
      "\n",
      "<Signature (c, d=1, *, b=1)>\n",
      "\n",
      "\u001b[93;1mReview srcode with all comments added so far\u001b[0m======================================================================================================\n",
      "def delegates(to:FunctionType=None, # Delegatee===========================================(0)       \n",
      "              keep=False, # Keep `kwargs` in decorated function?==========================(1)       \n",
      "              but:list=None): # Exclude these parameters from signature===================(2)       \n",
      "    \"Decorator: replace `**kwargs` in signature with params from `to`\"====================(3)       \n",
      "    if but is None: but = []==============================================================(4) # spot 0: \u001b[36;1mstart building a decorator called delegates\u001b[0m\n",
      "    def _f(f):============================================================================(5)       \n",
      "        if to is None: to_f,from_f = f.__base__.__init__,f.__init__=======================(6)       \n",
      "        else:          to_f,from_f = to.__init__ if isinstance(to,type) else to,f=========(7)       \n",
      "        from_f = getattr(from_f,'__func__',from_f)========================================(8)       \n",
      "        to_f = getattr(to_f,'__func__',to_f)==============================================(9)       \n",
      "        if hasattr(from_f,'__delwrap__'): return f========================================(10)      \n",
      "        sig = inspect.signature(from_f)===================================================(11)      \n",
      "        sigd = dict(sig.parameters)=======================================================(12)      \n",
      "        k = sigd.pop('kwargs')============================================================(13)      \n",
      "        s2 = {k:v.replace(kind=inspect.Parameter.KEYWORD_ONLY) for k,v in inspect.signature(to_f).parameters.items()                                    (14)\n",
      "              if v.default != inspect.Parameter.empty and k not in sigd and k not in but}=(15)      \n",
      "        anno = {k:v for k,v in getattr(to_f, \"__annotations__\", {}).items() if k not in sigd and k not in but}                                          (16)\n",
      "        sigd.update(s2)===================================================================(17)      \n",
      "        if keep: sigd['kwargs'] = k=======================================================(18)      \n",
      "        else: from_f.__delwrap__ = to_f===================================================(19)      \n",
      "        from_f.__signature__ = sig.replace(parameters=sigd.values())======================(20)      \n",
      "        if hasattr(from_f, '__annotations__'): from_f.__annotations__.update(anno)========(21)      \n",
      "        return f==========================================================================(22)      \n",
      "    return _f=============================================================================(23)      \n",
      "                                                                                                                                                        (24)\n",
      "                                                                                                                                     part No.1 out of 1 parts\n",
      "\n"
     ]
    }
   ],
   "source": [
    "fdb.docsrc(4, \"start building a decorator called delegates\", \"but\")"
   ]
  },
  {
   "cell_type": "code",
   "execution_count": 10,
   "id": "3f7bbc5f",
   "metadata": {},
   "outputs": [
    {
     "name": "stdout",
     "output_type": "stream",
     "text": [
      "========================================================     Investigating \u001b[91;1mdelegates\u001b[0m     =========================================================\n",
      "===============================================================     on line \u001b[91;1m5\u001b[0m     ================================================================\n",
      "=========     with example \u001b[91;1m\n",
      "def low(a, b=1): pass\n",
      "def mid(c, d=1, **kwargs): pass\n",
      "\n",
      "pprint(inspect.signature(self.dbsrc(low)(mid)))\n",
      "\n",
      "\u001b[0m     =========\n",
      "\n",
      "\u001b[93;1mprint selected srcline with expands below\u001b[0m--------\n",
      "    \"Decorator: replace `**kwargs` in signature with params from `to`\"                                                                                  (3)\n",
      "    if but is None: but = []                                                                                                                            (4)\n",
      "    def _f(f):==========================================================================================================================================(5)\n",
      "                                                                                          \u001b[91;1mstart defining a function _f(f) which takes another func f as param\u001b[0m\n",
      "        if to is None: to_f,from_f = f.__base__.__init__,f.__init__                                                                                     (6)\n",
      "        else:          to_f,from_f = to.__init__ if isinstance(to,type) else to,f                                                                       (7)\n",
      "<Signature (c, d=1, *, b=1)>\n",
      "\n",
      "\u001b[93;1mReview srcode with all comments added so far\u001b[0m======================================================================================================\n",
      "def delegates(to:FunctionType=None, # Delegatee===========================================(0)       \n",
      "              keep=False, # Keep `kwargs` in decorated function?==========================(1)       \n",
      "              but:list=None): # Exclude these parameters from signature===================(2)       \n",
      "    \"Decorator: replace `**kwargs` in signature with params from `to`\"====================(3)       \n",
      "    if but is None: but = []==============================================================(4) # spot 0: \u001b[35;1mstart building a decorator called delegates\u001b[0m\n",
      "    def _f(f):============================================================================(5) # spot 1: \u001b[35;1mstart defining a function _f(f) which takes another func f as param\u001b[0m\n",
      "        if to is None: to_f,from_f = f.__base__.__init__,f.__init__=======================(6)       \n",
      "        else:          to_f,from_f = to.__init__ if isinstance(to,type) else to,f=========(7)       \n",
      "        from_f = getattr(from_f,'__func__',from_f)========================================(8)       \n",
      "        to_f = getattr(to_f,'__func__',to_f)==============================================(9)       \n",
      "        if hasattr(from_f,'__delwrap__'): return f========================================(10)      \n",
      "        sig = inspect.signature(from_f)===================================================(11)      \n",
      "        sigd = dict(sig.parameters)=======================================================(12)      \n",
      "        k = sigd.pop('kwargs')============================================================(13)      \n",
      "        s2 = {k:v.replace(kind=inspect.Parameter.KEYWORD_ONLY) for k,v in inspect.signature(to_f).parameters.items()                                    (14)\n",
      "              if v.default != inspect.Parameter.empty and k not in sigd and k not in but}=(15)      \n",
      "        anno = {k:v for k,v in getattr(to_f, \"__annotations__\", {}).items() if k not in sigd and k not in but}                                          (16)\n",
      "        sigd.update(s2)===================================================================(17)      \n",
      "        if keep: sigd['kwargs'] = k=======================================================(18)      \n",
      "        else: from_f.__delwrap__ = to_f===================================================(19)      \n",
      "        from_f.__signature__ = sig.replace(parameters=sigd.values())======================(20)      \n",
      "        if hasattr(from_f, '__annotations__'): from_f.__annotations__.update(anno)========(21)      \n",
      "        return f==========================================================================(22)      \n",
      "    return _f=============================================================================(23)      \n",
      "                                                                                                                                                        (24)\n",
      "                                                                                                                                     part No.1 out of 1 parts\n",
      "\n"
     ]
    }
   ],
   "source": [
    "fdb.docsrc(5, \"start defining a function _f(f) which takes another func f as param\")"
   ]
  },
  {
   "cell_type": "code",
   "execution_count": 11,
   "id": "60af5fdc",
   "metadata": {
    "scrolled": false
   },
   "outputs": [
    {
     "name": "stdout",
     "output_type": "stream",
     "text": [
      "========================================================     Investigating \u001b[91;1mdelegates\u001b[0m     =========================================================\n",
      "===============================================================     on line \u001b[91;1m23\u001b[0m     ===============================================================\n",
      "========     with example \u001b[91;1m\n",
      "def low(a, b=1): pass\n",
      "def mid(c, d=1, **kwargs): pass\n",
      "\n",
      "pprint(inspect.signature(self.dbsrc(low)(mid)))\n",
      "\n",
      "\n",
      "\u001b[0m     =========\n",
      "\n",
      "\u001b[93;1mprint selected srcline with expands below\u001b[0m--------\n",
      "        if hasattr(from_f, '__annotations__'): from_f.__annotations__.update(anno)                                                                      (21)\n",
      "        return f                                                                                                                                        (22)\n",
      "    return _f===========================================================================================================================================(23)\n",
      "                                                                                                                                 \u001b[91;1mreturn the _f func as result\u001b[0m\n",
      "                                                                                                                                                        (24)\n",
      "<Signature (c, d=1, *, b=1)>\n",
      "\n",
      "\u001b[93;1mReview srcode with all comments added so far\u001b[0m======================================================================================================\n",
      "def delegates(to:FunctionType=None, # Delegatee===========================================(0)       \n",
      "              keep=False, # Keep `kwargs` in decorated function?==========================(1)       \n",
      "              but:list=None): # Exclude these parameters from signature===================(2)       \n",
      "    \"Decorator: replace `**kwargs` in signature with params from `to`\"====================(3)       \n",
      "    if but is None: but = []==============================================================(4) # spot 0: \u001b[34;1mstart building a decorator called delegates\u001b[0m\n",
      "    def _f(f):============================================================================(5) # spot 1: \u001b[34;1mstart defining a function _f(f) which takes another func f as param\u001b[0m\n",
      "        if to is None: to_f,from_f = f.__base__.__init__,f.__init__=======================(6)       \n",
      "        else:          to_f,from_f = to.__init__ if isinstance(to,type) else to,f=========(7)       \n",
      "        from_f = getattr(from_f,'__func__',from_f)========================================(8)       \n",
      "        to_f = getattr(to_f,'__func__',to_f)==============================================(9)       \n",
      "        if hasattr(from_f,'__delwrap__'): return f========================================(10)      \n",
      "        sig = inspect.signature(from_f)===================================================(11)      \n",
      "        sigd = dict(sig.parameters)=======================================================(12)      \n",
      "        k = sigd.pop('kwargs')============================================================(13)      \n",
      "        s2 = {k:v.replace(kind=inspect.Parameter.KEYWORD_ONLY) for k,v in inspect.signature(to_f).parameters.items()                                    (14)\n",
      "              if v.default != inspect.Parameter.empty and k not in sigd and k not in but}=(15)      \n",
      "        anno = {k:v for k,v in getattr(to_f, \"__annotations__\", {}).items() if k not in sigd and k not in but}                                          (16)\n",
      "        sigd.update(s2)===================================================================(17)      \n",
      "        if keep: sigd['kwargs'] = k=======================================================(18)      \n",
      "        else: from_f.__delwrap__ = to_f===================================================(19)      \n",
      "        from_f.__signature__ = sig.replace(parameters=sigd.values())======================(20)      \n",
      "        if hasattr(from_f, '__annotations__'): from_f.__annotations__.update(anno)========(21)      \n",
      "        return f==========================================================================(22)      \n",
      "    return _f=============================================================================(23) # spot 2: \u001b[34;1mreturn the _f func as result\u001b[0m\n",
      "                                                                                                                                                        (24)\n",
      "                                                                                                                                     part No.1 out of 1 parts\n",
      "\n"
     ]
    }
   ],
   "source": [
    "fdb.docsrc(23, \"return the _f func as result\")"
   ]
  },
  {
   "cell_type": "code",
   "execution_count": 12,
   "id": "d93eb028",
   "metadata": {},
   "outputs": [
    {
     "name": "stdout",
     "output_type": "stream",
     "text": [
      "========================================================     Investigating \u001b[91;1mdelegates\u001b[0m     =========================================================\n",
      "===============================================================     on line \u001b[91;1m6\u001b[0m     ================================================================\n",
      "========     with example \u001b[91;1m\n",
      "def low(a, b=1): pass\n",
      "def mid(c, d=1, **kwargs): pass\n",
      "\n",
      "pprint(inspect.signature(self.dbsrc(low)(mid)))\n",
      "\n",
      "\n",
      "\n",
      "\u001b[0m     ========\n",
      "\n",
      "\u001b[93;1mprint selected srcline with expands below\u001b[0m--------\n",
      "    if but is None: but = []                                                                                                                            (4)\n",
      "    def _f(f):                                                                                                                                          (5)\n",
      "        if to is None: to_f,from_f = f.__base__.__init__,f.__init__=====================================================================================(6)\n",
      "                                                                                                                                                         \u001b[91;1mdive\u001b[0m\n",
      "        else:          to_f,from_f = to.__init__ if isinstance(to,type) else to,f                                                                       (7)\n",
      "        from_f = getattr(from_f,'__func__',from_f)                                                                                                      (8)\n",
      "\n",
      "==================================================================================================================\u001b[91;1mStart of my srcline exploration:\u001b[0m\n",
      "\n",
      "\n",
      "                                                                                                                     to => to : <function low at 0x107d54160>\n",
      "====================================================================================================================\u001b[91;1mEnd of my srcline exploration:\u001b[0m\n",
      "\n",
      "<Signature (c, d=1, *, b=1)>\n",
      "\n",
      "\u001b[93;1mReview srcode with all comments added so far\u001b[0m======================================================================================================\n",
      "def delegates(to:FunctionType=None, # Delegatee===========================================(0)       \n",
      "              keep=False, # Keep `kwargs` in decorated function?==========================(1)       \n",
      "              but:list=None): # Exclude these parameters from signature===================(2)       \n",
      "    \"Decorator: replace `**kwargs` in signature with params from `to`\"====================(3)       \n",
      "    if but is None: but = []==============================================================(4) # spot 0: \u001b[35;1mstart building a decorator called delegates\u001b[0m\n",
      "    def _f(f):============================================================================(5) # spot 1: \u001b[35;1mstart defining a function _f(f) which takes another func f as param\u001b[0m\n",
      "        if to is None: to_f,from_f = f.__base__.__init__,f.__init__=======================(6) # spot 3: \u001b[35;1mdive\u001b[0m\n",
      "        else:          to_f,from_f = to.__init__ if isinstance(to,type) else to,f=========(7)       \n",
      "        from_f = getattr(from_f,'__func__',from_f)========================================(8)       \n",
      "        to_f = getattr(to_f,'__func__',to_f)==============================================(9)       \n",
      "        if hasattr(from_f,'__delwrap__'): return f========================================(10)      \n",
      "        sig = inspect.signature(from_f)===================================================(11)      \n",
      "        sigd = dict(sig.parameters)=======================================================(12)      \n",
      "        k = sigd.pop('kwargs')============================================================(13)      \n",
      "        s2 = {k:v.replace(kind=inspect.Parameter.KEYWORD_ONLY) for k,v in inspect.signature(to_f).parameters.items()                                    (14)\n",
      "              if v.default != inspect.Parameter.empty and k not in sigd and k not in but}=(15)      \n",
      "        anno = {k:v for k,v in getattr(to_f, \"__annotations__\", {}).items() if k not in sigd and k not in but}                                          (16)\n",
      "        sigd.update(s2)===================================================================(17)      \n",
      "        if keep: sigd['kwargs'] = k=======================================================(18)      \n",
      "        else: from_f.__delwrap__ = to_f===================================================(19)      \n",
      "        from_f.__signature__ = sig.replace(parameters=sigd.values())======================(20)      \n",
      "        if hasattr(from_f, '__annotations__'): from_f.__annotations__.update(anno)========(21)      \n",
      "        return f==========================================================================(22)      \n",
      "    return _f=============================================================================(23) # spot 2: \u001b[35;1mreturn the _f func as result\u001b[0m\n",
      "                                                                                                                                                        (24)\n",
      "                                                                                                                                     part No.1 out of 1 parts\n",
      "\n"
     ]
    }
   ],
   "source": [
    "fdb.docsrc(6, \"dive\", \"to\")"
   ]
  },
  {
   "cell_type": "code",
   "execution_count": 13,
   "id": "774d091f",
   "metadata": {},
   "outputs": [
    {
     "data": {
      "text/plain": [
       "'\\ndef low(a, b=1): pass\\ndef mid(c, d=1, **kwargs): pass\\n\\npprint(inspect.signature(self.dbsrc(low)(mid)))\\n\\n\\n\\n\\n'"
      ]
     },
     "execution_count": 13,
     "metadata": {},
     "output_type": "execute_result"
    }
   ],
   "source": [
    "fdb.eg"
   ]
  },
  {
   "cell_type": "code",
   "execution_count": null,
   "id": "9dacda7e",
   "metadata": {},
   "outputs": [],
   "source": []
  }
 ],
 "metadata": {
  "hide_input": false,
  "kernelspec": {
   "display_name": "Python 3 (ipykernel)",
   "language": "python",
   "name": "python3"
  },
  "language_info": {
   "codemirror_mode": {
    "name": "ipython",
    "version": 3
   },
   "file_extension": ".py",
   "mimetype": "text/x-python",
   "name": "python",
   "nbconvert_exporter": "python",
   "pygments_lexer": "ipython3",
   "version": "3.9.13"
  },
  "toc": {
   "base_numbering": 1,
   "nav_menu": {},
   "number_sections": true,
   "sideBar": true,
   "skip_h1_title": false,
   "title_cell": "Table of Contents",
   "title_sidebar": "Contents",
   "toc_cell": false,
   "toc_position": {},
   "toc_section_display": true,
   "toc_window_display": true
  }
 },
 "nbformat": 4,
 "nbformat_minor": 5
}
