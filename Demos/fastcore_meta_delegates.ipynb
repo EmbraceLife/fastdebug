{
 "cells": [
  {
   "cell_type": "code",
   "execution_count": 1,
   "id": "9029dccb-9cad-45a9-b4e1-0b445bf7eb3d",
   "metadata": {},
   "outputs": [],
   "source": [
    "# from IPython.core.display import display, HTML # a depreciated import\n",
    "from IPython.display import display, HTML "
   ]
  },
  {
   "cell_type": "code",
   "execution_count": 2,
   "id": "9b940390-ce64-471d-9ccc-811cb1589912",
   "metadata": {},
   "outputs": [
    {
     "data": {
      "text/html": [
       "<style>.container { width:100% !important; }</style>"
      ],
      "text/plain": [
       "<IPython.core.display.HTML object>"
      ]
     },
     "metadata": {},
     "output_type": "display_data"
    }
   ],
   "source": [
    "display(HTML(\"<style>.container { width:100% !important; }</style>\"))"
   ]
  },
  {
   "cell_type": "markdown",
   "id": "aee46c31",
   "metadata": {},
   "source": [
    "## Import"
   ]
  },
  {
   "cell_type": "code",
   "execution_count": 3,
   "id": "f6ac2f50",
   "metadata": {},
   "outputs": [],
   "source": [
    "from fastdebug.core import *"
   ]
  },
  {
   "cell_type": "code",
   "execution_count": 4,
   "id": "8c1f628f",
   "metadata": {},
   "outputs": [],
   "source": [
    "from fastcore.meta import delegates "
   ]
  },
  {
   "cell_type": "markdown",
   "id": "bc827bb7",
   "metadata": {},
   "source": [
    "## Initiate Fastdb and example in str"
   ]
  },
  {
   "cell_type": "code",
   "execution_count": 5,
   "id": "17c38aa2",
   "metadata": {},
   "outputs": [],
   "source": [
    "g = locals() # this is a must\n",
    "fdb = Fastdb(delegates, outloc=g)"
   ]
  },
  {
   "cell_type": "markdown",
   "id": "b9cb6f44",
   "metadata": {},
   "source": [
    "## Example"
   ]
  },
  {
   "cell_type": "code",
   "execution_count": 6,
   "id": "2674ff43",
   "metadata": {},
   "outputs": [
    {
     "name": "stdout",
     "output_type": "stream",
     "text": [
      "<Signature (c, d=1, *, b=1)>\n"
     ]
    }
   ],
   "source": [
    "def low(a, b=1): pass\n",
    "@delegates(low) # this format is fine too\n",
    "def mid(c, d=1, **kwargs): pass\n",
    "pprint(inspect.signature(mid)) # pprint and inspect is loaded from fastdebug"
   ]
  },
  {
   "cell_type": "code",
   "execution_count": 7,
   "id": "aa094291",
   "metadata": {},
   "outputs": [
    {
     "name": "stdout",
     "output_type": "stream",
     "text": [
      "<Signature (c, d=1, *, b=1)>\n"
     ]
    }
   ],
   "source": [
    "def low(a, b=1): pass\n",
    "def mid(c, d=1, **kwargs): pass\n",
    "pprint(inspect.signature(delegates(low)(mid))) "
   ]
  },
  {
   "cell_type": "code",
   "execution_count": 8,
   "id": "1a3812a5",
   "metadata": {},
   "outputs": [],
   "source": [
    "fdb.eg = \"\"\"\n",
    "def low(a, b=1): pass\n",
    "def mid(c, d=1, **kwargs): pass\n",
    "pprint(inspect.signature(delegates(low)(mid)))\n",
    "\"\"\""
   ]
  },
  {
   "cell_type": "code",
   "execution_count": 9,
   "id": "5acacdb1",
   "metadata": {},
   "outputs": [],
   "source": [
    "fdb.eg = \"\"\"\n",
    "def low(a, b=1): pass\n",
    "@delegates(low)\n",
    "def mid(c, d=1, **kwargs): pass\n",
    "pprint(inspect.signature(mid)) # pprint and inspect is loaded from fastdebug\n",
    "\"\"\""
   ]
  },
  {
   "cell_type": "code",
   "execution_count": 10,
   "id": "9d1b7bbc",
   "metadata": {},
   "outputs": [],
   "source": [
    "fdb.eg = \"\"\"\n",
    "class Foo:\n",
    "    @classmethod\n",
    "    def clsm(a, b=1): pass\n",
    "    \n",
    "    @delegates(clsm)\n",
    "    def instm(c, d=1, **kwargs): pass\n",
    "f = Foo()\n",
    "pprint(inspect.signature(f.instm)) # pprint and inspect is loaded from fastdebug\n",
    "\"\"\""
   ]
  },
  {
   "cell_type": "code",
   "execution_count": 11,
   "id": "c86f9d51",
   "metadata": {},
   "outputs": [],
   "source": [
    "fdb.eg = \"\"\"\n",
    "def low(a, b:int=1): pass\n",
    "@delegates(low)\n",
    "def mid(c, d:list=None, **kwargs): pass\n",
    "pprint(inspect.signature(mid)) # pprint and inspect is loaded from fastdebug\n",
    "\"\"\""
   ]
  },
  {
   "cell_type": "markdown",
   "id": "80a0ad86",
   "metadata": {},
   "source": [
    "## Snoop"
   ]
  },
  {
   "cell_type": "code",
   "execution_count": 12,
   "id": "4febfdc5",
   "metadata": {},
   "outputs": [
    {
     "name": "stderr",
     "output_type": "stream",
     "text": [
      "21:54:12.76 >>> Call to delegates in File \"/tmp/delegates.py\", line 3\n",
      "21:54:12.76 ...... to = <function low at 0x1079ccdc0>\n",
      "21:54:12.76 ...... keep = False\n",
      "21:54:12.76 ...... but = None\n",
      "21:54:12.76    3 | def delegates(to:FunctionType=None, # Delegatee\n",
      "21:54:12.76    7 |     if but is None: but = []\n",
      "21:54:12.76 ...... but = []\n",
      "21:54:12.76    8 |     import snoop\n",
      "21:54:12.76 .......... snoop = <class 'snoop.configuration.Config.__init__.<locals>.ConfiguredTracer'>\n",
      "21:54:12.76    9 |     @snoop\n",
      "21:54:12.76   10 |     def _f(f):\n",
      "21:54:12.76 .......... _f = <function delegates.<locals>._f at 0x11da14f70>\n",
      "21:54:12.76   28 |     return _f\n",
      "21:54:12.76 <<< Return value from delegates: <function delegates.<locals>._f at 0x11da14f70>\n",
      "21:54:12.76 >>> Call to delegates.<locals>._f in File \"/tmp/delegates.py\", line 10\n",
      "21:54:12.76 .......... f = <function mid at 0x11da14af0>\n",
      "21:54:12.76 .......... but = []\n",
      "21:54:12.76 .......... keep = False\n",
      "21:54:12.76 .......... to = <function low at 0x1079ccdc0>\n",
      "21:54:12.76   10 |     def _f(f):\n",
      "21:54:12.76   11 |         if to is None: to_f,from_f = f.__base__.__init__,f.__init__\n",
      "21:54:12.76   12 |         else:          to_f,from_f = to.__init__ if isinstance(to,type) else to,f\n",
      "21:54:12.76 .............. to_f = <function low at 0x1079ccdc0>\n",
      "21:54:12.76 .............. from_f = <function mid at 0x11da14af0>\n",
      "21:54:12.76   13 |         from_f = getattr(from_f,'__func__',from_f)\n",
      "21:54:12.76   14 |         to_f = getattr(to_f,'__func__',to_f)\n",
      "21:54:12.76   15 |         if hasattr(from_f,'__delwrap__'): return f\n",
      "21:54:12.76   16 |         sig = inspect.signature(from_f)\n",
      "21:54:12.76 .............. sig = <Signature (c, d: list = None, **kwargs)>\n",
      "21:54:12.76   17 |         sigd = dict(sig.parameters)\n",
      "21:54:12.76 .............. sigd = {'c': <Parameter \"c\">, 'd': <Parameter \"d: list = None\">, 'kwargs': <Parameter \"**kwargs\">}\n",
      "21:54:12.76 .............. len(sigd) = 3\n",
      "21:54:12.76   18 |         k = sigd.pop('kwargs')\n",
      "21:54:12.77 .............. k = <Parameter \"**kwargs\">\n",
      "21:54:12.77 .............. sigd = {'c': <Parameter \"c\">, 'd': <Parameter \"d: list = None\">}\n",
      "21:54:12.77 .............. len(sigd) = 2\n",
      "21:54:12.77   19 |         s2 = {k:v.replace(kind=inspect.Parameter.KEYWORD_ONLY) for k,v in inspect.signature(to_f).parameters.items()\n",
      "    21:54:12.77 Dict comprehension:\n",
      "    21:54:12.77   19 |         s2 = {k:v.replace(kind=inspect.Parameter.KEYWORD_ONLY) for k,v in inspect.signature(to_f).parameters.items()\n",
      "    21:54:12.77 .............. Iterating over <odict_iterator object at 0x107976360>\n",
      "    21:54:12.77 .............. Values of but: []\n",
      "    21:54:12.77 .............. Values of sigd: {'c': <Parameter \"c\">, 'd': <Parameter \"d: list = None\">}\n",
      "    21:54:12.77 .............. Values of len(sigd): 2\n",
      "    21:54:12.77 .............. Values of k: 'a', 'b'\n",
      "    21:54:12.77 .............. Values of v: <Parameter \"a\">, <Parameter \"b: int = 1\">\n",
      "    21:54:12.77 Result: {'b': <Parameter \"b: int = 1\">}\n",
      "21:54:12.77   19 |         s2 = {k:v.replace(kind=inspect.Parameter.KEYWORD_ONLY) for k,v in inspect.signature(to_f).parameters.items()\n",
      "21:54:12.77 .............. s2 = {'b': <Parameter \"b: int = 1\">}\n",
      "21:54:12.77 .............. len(s2) = 1\n",
      "21:54:12.77   21 |         anno = {k:v for k,v in getattr(to_f, \"__annotations__\", {}).items() if k not in sigd and k not in but}\n",
      "    21:54:12.77 Dict comprehension:\n",
      "    21:54:12.77   21 |         anno = {k:v for k,v in getattr(to_f, \"__annotations__\", {}).items() if k not in sigd and k not in but}\n",
      "    21:54:12.77 .............. Iterating over <dict_itemiterator object at 0x11d9e39f0>\n",
      "    21:54:12.77 .............. Values of but: []\n",
      "    21:54:12.77 .............. Values of sigd: {'c': <Parameter \"c\">, 'd': <Parameter \"d: list = None\">}\n",
      "    21:54:12.77 .............. Values of len(sigd): 2\n",
      "    21:54:12.77 .............. Values of k: 'b'\n",
      "    21:54:12.77 .............. Values of v: <class 'int'>\n",
      "    21:54:12.77 Result: {'b': <class 'int'>}\n",
      "21:54:12.77   21 |         anno = {k:v for k,v in getattr(to_f, \"__annotations__\", {}).items() if k not in sigd and k not in but}\n",
      "21:54:12.77 .............. anno = {'b': <class 'int'>}\n",
      "21:54:12.77 .............. len(anno) = 1\n",
      "21:54:12.77   22 |         sigd.update(s2)\n",
      "21:54:12.77 .............. sigd = {'c': <Parameter \"c\">, 'd': <Parameter \"d: list = None\">, 'b': <Parameter \"b: int = 1\">}\n",
      "21:54:12.77 .............. len(sigd) = 3\n",
      "21:54:12.77   23 |         if keep: sigd['kwargs'] = k\n",
      "21:54:12.77   24 |         else: from_f.__delwrap__ = to_f\n",
      "21:54:12.77   25 |         from_f.__signature__ = sig.replace(parameters=sigd.values())\n",
      "21:54:12.78   26 |         if hasattr(from_f, '__annotations__'): from_f.__annotations__.update(anno)\n",
      "21:54:12.78   27 |         return f\n",
      "21:54:12.78 <<< Return value from delegates.<locals>._f: <function mid at 0x11da14af0>\n"
     ]
    },
    {
     "name": "stdout",
     "output_type": "stream",
     "text": [
      "<Signature (c, d: list = None, *, b: int = 1)>\n"
     ]
    }
   ],
   "source": [
    "fdb.snoop(deco=True) # both examples above works for Fastdb"
   ]
  },
  {
   "cell_type": "markdown",
   "id": "de40e3b8",
   "metadata": {},
   "source": [
    "## docsrc"
   ]
  },
  {
   "cell_type": "code",
   "execution_count": 13,
   "id": "897b0391",
   "metadata": {},
   "outputs": [
    {
     "name": "stdout",
     "output_type": "stream",
     "text": [
      "========================================================     Investigating \u001b[91;1mdelegates\u001b[0m     =========================================================\n",
      "==============================================================     on line \u001b[91;1mNone\u001b[0m     ==============================================================\n",
      "=============================================================     with example \u001b[91;1m\u001b[0m     ==============================================================\n",
      "\n",
      "def delegates(to:FunctionType=None, # Delegatee===========================================(0)       \n",
      "              keep=False, # Keep `kwargs` in decorated function?==========================(1)       \n",
      "              but:list=None): # Exclude these parameters from signature===================(2)       \n",
      "    \"Decorator: replace `**kwargs` in signature with params from `to`\"====================(3)       \n",
      "    if but is None: but = []==============================================================(4)       \n",
      "    def _f(f):============================================================================(5)       \n",
      "        if to is None: to_f,from_f = f.__base__.__init__,f.__init__=======================(6)       \n",
      "        else:          to_f,from_f = to.__init__ if isinstance(to,type) else to,f=========(7)       \n",
      "        from_f = getattr(from_f,'__func__',from_f)========================================(8)       \n",
      "        to_f = getattr(to_f,'__func__',to_f)==============================================(9)       \n",
      "        if hasattr(from_f,'__delwrap__'): return f========================================(10)      \n",
      "        sig = inspect.signature(from_f)===================================================(11)      \n",
      "        sigd = dict(sig.parameters)=======================================================(12)      \n",
      "        k = sigd.pop('kwargs')============================================================(13)      \n",
      "        s2 = {k:v.replace(kind=inspect.Parameter.KEYWORD_ONLY) for k,v in inspect.signature(to_f).parameters.items()                                    (14)\n",
      "              if v.default != inspect.Parameter.empty and k not in sigd and k not in but}=(15)      \n",
      "        anno = {k:v for k,v in getattr(to_f, \"__annotations__\", {}).items() if k not in sigd and k not in but}                                          (16)\n",
      "        sigd.update(s2)===================================================================(17)      \n",
      "        if keep: sigd['kwargs'] = k=======================================================(18)      \n",
      "        else: from_f.__delwrap__ = to_f===================================================(19)      \n",
      "        from_f.__signature__ = sig.replace(parameters=sigd.values())======================(20)      \n",
      "        if hasattr(from_f, '__annotations__'): from_f.__annotations__.update(anno)========(21)      \n",
      "        return f==========================================================================(22)      \n",
      "    return _f=============================================================================(23)      \n",
      "                                                                                                                                                        (24)\n"
     ]
    }
   ],
   "source": [
    "fdb.print()"
   ]
  },
  {
   "cell_type": "code",
   "execution_count": 14,
   "id": "5ed70579",
   "metadata": {
    "scrolled": false
   },
   "outputs": [
    {
     "name": "stdout",
     "output_type": "stream",
     "text": [
      "========================================================     Investigating \u001b[91;1mdelegates\u001b[0m     =========================================================\n",
      "===============================================================     on line \u001b[91;1m3\u001b[0m     ================================================================\n",
      "=============================================================     with example \u001b[91;1m\u001b[0m     ==============================================================\n",
      "\n",
      "\u001b[93;1mprint selected srcline with expands below\u001b[0m--------\n",
      "              keep=False, # Keep `kwargs` in decorated function?                                                                                        (1)\n",
      "              but:list=None): # Exclude these parameters from signature                                                                                 (2)\n",
      "    \"Decorator: replace `**kwargs` in signature with params from `to`\"==================================================================================(3)\n",
      "\u001b[91;1mPersonal Docs: delegates(A)(B), given B has kwargs in sig; delegating params of A to B; A and B can be funcs, methods, classes; when A or B are classmethod or if they have __func__, then __func__ shall be used to get sig/params; when A and B are classes, A.__init__ is actually used to get sig/params, B offers sig/params as a class; B only take wanted and missing params with default values; B can keep its kwargs, if not, B will get __delwrap__ to prevent delegates(A)(B) again;B will get __signature__ and store its new sig; if B has __annotations__, then add what B want from A's __annotations__\u001b[0m\n",
      "    if but is None: but = []                                                                                                                            (4)\n",
      "    def _f(f):                                                                                                                                          (5)\n",
      "<Signature (c, d: list = None, *, b: int = 1)>\n",
      "\n",
      "\u001b[93;1mReview srcode with all comments added so far\u001b[0m======================================================================================================\n",
      "def delegates(to:FunctionType=None, # Delegatee===========================================(0)       \n",
      "              keep=False, # Keep `kwargs` in decorated function?==========================(1)       \n",
      "              but:list=None): # Exclude these parameters from signature===================(2)       \n",
      "    \"Decorator: replace `**kwargs` in signature with params from `to`\"====================(3) # \u001b[34;1mPersonal Docs: delegates(A)(B), given B has kwargs in sig\u001b[0m; \u001b[91;1mdelegating params of A to B\u001b[0m; \u001b[91;1mA and B can be funcs, methods, classes\u001b[0m; \u001b[37;1mwhen A or B are classmethod or if they have __func__, then __func__ shall be used to get sig/params\u001b[0m; \u001b[92;1mwhen A and B are classes, A.__init__ is actually used to get sig/params, B offers sig/params as a class\u001b[0m; \u001b[35;1mB only take wanted and missing params with default values\u001b[0m; \u001b[36;1mB can keep its kwargs, if not, B will get __delwrap__ to prevent delegates(A)(B) again;B will get __signature__ and store its new sig\u001b[0m; \u001b[93;1mif B has __annotations__, then add what B want from A's __annotations__\u001b[0m; \n",
      "    if but is None: but = []==============================================================(4)       \n",
      "    def _f(f):============================================================================(5)       \n",
      "        if to is None: to_f,from_f = f.__base__.__init__,f.__init__=======================(6)       \n",
      "        else:          to_f,from_f = to.__init__ if isinstance(to,type) else to,f=========(7)       \n",
      "        from_f = getattr(from_f,'__func__',from_f)========================================(8)       \n",
      "        to_f = getattr(to_f,'__func__',to_f)==============================================(9)       \n",
      "        if hasattr(from_f,'__delwrap__'): return f========================================(10)      \n",
      "        sig = inspect.signature(from_f)===================================================(11)      \n",
      "        sigd = dict(sig.parameters)=======================================================(12)      \n",
      "        k = sigd.pop('kwargs')============================================================(13)      \n",
      "        s2 = {k:v.replace(kind=inspect.Parameter.KEYWORD_ONLY) for k,v in inspect.signature(to_f).parameters.items()                                    (14)\n",
      "              if v.default != inspect.Parameter.empty and k not in sigd and k not in but}=(15)      \n",
      "        anno = {k:v for k,v in getattr(to_f, \"__annotations__\", {}).items() if k not in sigd and k not in but}                                          (16)\n",
      "        sigd.update(s2)===================================================================(17)      \n",
      "        if keep: sigd['kwargs'] = k=======================================================(18)      \n",
      "        else: from_f.__delwrap__ = to_f===================================================(19)      \n",
      "                                                                                                                                     part No.1 out of 2 parts\n",
      "\n"
     ]
    }
   ],
   "source": [
    "# fdb.docsrc(21, \"How to check whether a func has __annotations__; How add selected params' annotations from A to B's annotations;\")\n",
    "\n",
    "# fdb.docsrc(14, \"How to access a signature's parameters as a dict?; How to replace the kind of a parameter with a different kind?; \\\n",
    "# how to check whether a parameter has a default value?; How to check whether a string is in a dict and a list?; \\\n",
    "# how dict.items() and dict.values() differ\", \\\n",
    "# \"inspect.signature(to_f).parameters.items()\", \"inspect.signature(to_f).parameters.values()\", \"inspect.Parameter.empty\", \\\n",
    "# \"for k,v in inspect.signature(to_f).parameters.items():\\\\n\\\n",
    "#     printright(f'v.kind: {v.kind}')\\\\n\\\n",
    "#     printright(f'v.default: {v.default}')\\\\n\\\n",
    "#     v1 = v.replace(kind=inspect.Parameter.KEYWORD_ONLY)\\\\n\\\n",
    "#     printright(f'v1.kind: {v1.kind}')\")\n",
    "\n",
    "# fdb.docsrc(16, \"How to get A's __annotations__?; How to access it as a dict?; \\\n",
    "# How to select annotations of the right params with names?; How to put them into a dict?; How to do it all in a single line\", \\\n",
    "#           \"getattr(to_f, '__annotations__', {})\", \"getattr(from_f, '__annotations__', {})\")\n",
    "# fdb.docsrc(17, \"How to add the selected params from A's signature to B's signature; How to add items into a dict;\")\n",
    "# fdb.docsrc(18, \"How to add a new item into a dict;\")\n",
    "# fdb.docsrc(19, \"How to create a new attr for a function or obj;\")\n",
    "# fdb.docsrc(20, \"How to update a signature with a new set of parameters;\", \"sigd\", \"sigd.values()\", \"sig\", \\\n",
    "#            \"sig.replace(parameters=sigd.values())\")\n",
    "\n",
    "\n",
    "# fdb.docsrc(2, \"how to make delegates(to, but) to have 'but' as list and default as None\")\n",
    "# fdb.docsrc(0, \"how to make delegates(to) to have to as FunctionType and default as None\")\n",
    "# fdb.docsrc(6, \"how to write 2 ifs and elses in 2 lines\")\n",
    "# fdb.docsrc(7, \"how to assign a,b together with if and else\")\n",
    "# fdb.docsrc(8, \"Is classmethod callable; does classmethod has __func__; can we do inspect.signature(clsmethod); \\\n",
    "# how to use getattr(obj, attr, default)\", \\\n",
    "#            \"from_f\", \"to_f\", \\\n",
    "#            \"hasattr(from_f, '__func__')\", \"from_f = getattr(from_f,'__func__',from_f)\", \\\n",
    "#            \"hasattr(to_f, '__func__')\", \"from_f = getattr(to_f,'__func__',to_f)\", \"callable(to_f)\")\n",
    "\n",
    "# fdb.docsrc(10, \"if B has __delwrap__, can we do delegates(A)(B) again?; hasattr(obj, '__delwrap__')\")\n",
    "# fdb.docsrc(11, \"how to get signature obj of B; what does a signature look like; what is the type\", \"inspect.signature(from_f)\", \"type(inspect.signature(from_f))\")\n",
    "# fdb.docsrc(12, \"How to access parameters of a signature?; How to turn parameters into a dict?\", \"sig.parameters\", \"dict(sig.parameters)\")\n",
    "# fdb.docsrc(13, \"How to remove an item from a dict?; How to get the removed item from a dict?; How to add the removed item back to the dict?; \\\n",
    "# when writing expressions, as they share environment, so they may affect the following code\", \"sigd\", \"k = sigd.pop('kwargs')\", \"sigd\", \"sigd['kwargs'] = k\")\n",
    "\n",
    "\n",
    "fdb.docsrc(3,\"Personal Docs: delegates(A)(B), given B has kwargs in sig; delegating params of A to B; A and B can be funcs, methods, classes; \\\n",
    "when A or B are classmethod or if they have __func__, then __func__ shall be used to get sig/params; \\\n",
    "when A and B are classes, A.__init__ is actually used to get sig/params, B offers sig/params as a class; \\\n",
    "B only take wanted and missing params with default values; B can keep its kwargs, if not, B will get __delwrap__ to prevent delegates(A)(B) again;\\\n",
    "B will get __signature__ and store its new sig; if B has __annotations__, then add what B want from A's __annotations__\")"
   ]
  },
  {
   "cell_type": "code",
   "execution_count": 15,
   "id": "d8a67133",
   "metadata": {},
   "outputs": [
    {
     "name": "stdout",
     "output_type": "stream",
     "text": [
      "========================================================     Investigating \u001b[91;1mdelegates\u001b[0m     =========================================================\n",
      "===============================================================     on line \u001b[91;1m3\u001b[0m     ================================================================\n",
      "=============================================================     with example \u001b[91;1m\u001b[0m     ==============================================================\n",
      "\n",
      "def delegates(to:FunctionType=None, # Delegatee===========================================(0)       \n",
      "              keep=False, # Keep `kwargs` in decorated function?==========================(1)       \n",
      "              but:list=None): # Exclude these parameters from signature===================(2)       \n",
      "    \"Decorator: replace `**kwargs` in signature with params from `to`\"====================(3) # \u001b[35;1mPersonal Docs: delegates(A)(B), given B has kwargs in sig\u001b[0m; \u001b[92;1mdelegating params of A to B\u001b[0m; \u001b[37;1mA and B can be funcs, methods, classes\u001b[0m; \u001b[93;1mwhen A or B are classmethod or if they have __func__, then __func__ shall be used to get sig/params\u001b[0m; \u001b[91;1mwhen A and B are classes, A.__init__ is actually used to get sig/params, B offers sig/params as a class\u001b[0m; \u001b[92;1mB only take wanted and missing params with default values\u001b[0m; \u001b[34;1mB can keep its kwargs, if not, B will get __delwrap__ to prevent delegates(A)(B) again;B will get __signature__ and store its new sig\u001b[0m; \u001b[37;1mif B has __annotations__, then add what B want from A's __annotations__\u001b[0m; \n",
      "    if but is None: but = []==============================================================(4)       \n",
      "    def _f(f):============================================================================(5)       \n",
      "        if to is None: to_f,from_f = f.__base__.__init__,f.__init__=======================(6)       \n",
      "        else:          to_f,from_f = to.__init__ if isinstance(to,type) else to,f=========(7)       \n",
      "        from_f = getattr(from_f,'__func__',from_f)========================================(8)       \n",
      "        to_f = getattr(to_f,'__func__',to_f)==============================================(9)       \n",
      "        if hasattr(from_f,'__delwrap__'): return f========================================(10)      \n",
      "        sig = inspect.signature(from_f)===================================================(11)      \n",
      "        sigd = dict(sig.parameters)=======================================================(12)      \n",
      "        k = sigd.pop('kwargs')============================================================(13)      \n",
      "        s2 = {k:v.replace(kind=inspect.Parameter.KEYWORD_ONLY) for k,v in inspect.signature(to_f).parameters.items()                                    (14)\n",
      "              if v.default != inspect.Parameter.empty and k not in sigd and k not in but}=(15)      \n",
      "        anno = {k:v for k,v in getattr(to_f, \"__annotations__\", {}).items() if k not in sigd and k not in but}                                          (16)\n",
      "        sigd.update(s2)===================================================================(17)      \n",
      "        if keep: sigd['kwargs'] = k=======================================================(18)      \n",
      "        else: from_f.__delwrap__ = to_f===================================================(19)      \n",
      "        from_f.__signature__ = sig.replace(parameters=sigd.values())======================(20)      \n",
      "        if hasattr(from_f, '__annotations__'): from_f.__annotations__.update(anno)========(21)      \n",
      "        return f==========================================================================(22)      \n",
      "    return _f=============================================================================(23)      \n",
      "                                                                                                                                                        (24)\n"
     ]
    }
   ],
   "source": [
    "fdb.print()"
   ]
  },
  {
   "cell_type": "code",
   "execution_count": 16,
   "id": "7e55c00f",
   "metadata": {},
   "outputs": [
    {
     "name": "stdout",
     "output_type": "stream",
     "text": [
      "[jupytext] Reading /Users/Natsume/Documents/fastdebug/Demos/fastcore_meta_delegates.ipynb in format ipynb\n",
      "[jupytext] Writing /Users/Natsume/Documents/fastdebug/Demos/fastcore_meta_delegates.md\n",
      "[NbConvertApp] Converting notebook /Users/Natsume/Documents/fastdebug/utils.ipynb to markdown\n",
      "[NbConvertApp] Writing 10080 bytes to /Users/Natsume/Documents/divefastai/Debuggable/nbconvert/utils.md\n",
      "[NbConvertApp] Converting notebook /Users/Natsume/Documents/fastdebug/00_core.ipynb to markdown\n",
      "[NbConvertApp] Writing 393433 bytes to /Users/Natsume/Documents/divefastai/Debuggable/nbconvert/00_core.md\n",
      "[NbConvertApp] Converting notebook /Users/Natsume/Documents/fastdebug/index.ipynb to markdown\n",
      "[NbConvertApp] Writing 59178 bytes to /Users/Natsume/Documents/divefastai/Debuggable/nbconvert/index.md\n",
      "[NbConvertApp] Converting notebook /Users/Natsume/Documents/fastdebug/Demos/_signature_from_callable_with_FixSigMeta.ipynb to markdown\n",
      "[NbConvertApp] Writing 128624 bytes to /Users/Natsume/Documents/divefastai/Debuggable/nbconvert/_signature_from_callable_with_FixSigMeta.md\n",
      "[NbConvertApp] Converting notebook /Users/Natsume/Documents/fastdebug/Demos/fastcore_meta_delegates.ipynb to markdown\n",
      "[NbConvertApp] Writing 24860 bytes to /Users/Natsume/Documents/divefastai/Debuggable/nbconvert/fastcore_meta_delegates.md\n"
     ]
    }
   ],
   "source": [
    "#| hide\n",
    "!jupytext --to md /Users/Natsume/Documents/fastdebug/Demos/fastcore_meta_delegates.ipynb\n",
    "!mv /Users/Natsume/Documents/fastdebug/Demos/fastcore_meta_delegates.md \\\n",
    "/Users/Natsume/Documents/divefastai/Debuggable/jupytext/\n",
    "\n",
    "!jupyter nbconvert --config /Users/Natsume/Documents/mynbcfg.py --to markdown \\\n",
    "--output-dir /Users/Natsume/Documents/divefastai/Debuggable/nbconvert"
   ]
  },
  {
   "cell_type": "code",
   "execution_count": null,
   "id": "5f3ede11",
   "metadata": {},
   "outputs": [],
   "source": []
  }
 ],
 "metadata": {
  "hide_input": false,
  "kernelspec": {
   "display_name": "Python 3 (ipykernel)",
   "language": "python",
   "name": "python3"
  },
  "language_info": {
   "codemirror_mode": {
    "name": "ipython",
    "version": 3
   },
   "file_extension": ".py",
   "mimetype": "text/x-python",
   "name": "python",
   "nbconvert_exporter": "python",
   "pygments_lexer": "ipython3",
   "version": "3.9.13"
  },
  "toc": {
   "base_numbering": 1,
   "nav_menu": {},
   "number_sections": true,
   "sideBar": false,
   "skip_h1_title": false,
   "title_cell": "Table of Contents",
   "title_sidebar": "Contents",
   "toc_cell": false,
   "toc_position": {
    "height": "167px",
    "left": "1152px",
    "top": "54px",
    "width": "288px"
   },
   "toc_section_display": true,
   "toc_window_display": true
  }
 },
 "nbformat": 4,
 "nbformat_minor": 5
}
