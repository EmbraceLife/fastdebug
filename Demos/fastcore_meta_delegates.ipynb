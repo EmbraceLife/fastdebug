{
 "cells": [
  {
   "cell_type": "code",
   "execution_count": null,
   "id": "9029dccb-9cad-45a9-b4e1-0b445bf7eb3d",
   "metadata": {},
   "outputs": [],
   "source": [
    "# from IPython.core.display import display, HTML # a depreciated import\n",
    "from IPython.display import display, HTML "
   ]
  },
  {
   "cell_type": "code",
   "execution_count": null,
   "id": "9b940390-ce64-471d-9ccc-811cb1589912",
   "metadata": {},
   "outputs": [
    {
     "data": {
      "text/html": [
       "<style>.container { width:100% !important; }</style>"
      ],
      "text/plain": [
       "<IPython.core.display.HTML object>"
      ]
     },
     "metadata": {},
     "output_type": "display_data"
    }
   ],
   "source": [
    "display(HTML(\"<style>.container { width:100% !important; }</style>\"))"
   ]
  },
  {
   "cell_type": "markdown",
   "id": "aee46c31",
   "metadata": {},
   "source": [
    "## Import"
   ]
  },
  {
   "cell_type": "code",
   "execution_count": null,
   "id": "f6ac2f50",
   "metadata": {},
   "outputs": [],
   "source": [
    "from fastdebug.core import *\n",
    "import inspect"
   ]
  },
  {
   "cell_type": "code",
   "execution_count": null,
   "id": "d9da2e67",
   "metadata": {},
   "outputs": [],
   "source": []
  },
  {
   "cell_type": "markdown",
   "id": "f25fd4d2",
   "metadata": {},
   "source": [
    "## Example"
   ]
  },
  {
   "cell_type": "code",
   "execution_count": null,
   "id": "8c1f628f",
   "metadata": {},
   "outputs": [],
   "source": [
    "from fastcore.meta import *"
   ]
  },
  {
   "cell_type": "markdown",
   "id": "866cf9f7",
   "metadata": {},
   "source": [
    "## testing docsrc"
   ]
  },
  {
   "cell_type": "code",
   "execution_count": null,
   "id": "9d277578",
   "metadata": {},
   "outputs": [],
   "source": [
    "g = locals()\n",
    "fdb = Fastdb(delegates, outloc=g)"
   ]
  },
  {
   "cell_type": "code",
   "execution_count": null,
   "id": "db0d258f",
   "metadata": {},
   "outputs": [
    {
     "data": {
      "text/plain": [
       "False"
      ]
     },
     "execution_count": null,
     "metadata": {},
     "output_type": "execute_result"
    }
   ],
   "source": [
    "\"low\" in fdb.egEnv"
   ]
  },
  {
   "cell_type": "code",
   "execution_count": null,
   "id": "aa094291",
   "metadata": {},
   "outputs": [
    {
     "data": {
      "text/plain": [
       "<function __main__.mid(c, d=1, *, b=1)>"
      ]
     },
     "execution_count": null,
     "metadata": {},
     "output_type": "execute_result"
    }
   ],
   "source": [
    "def low(a, b=1): pass\n",
    "def mid(c, d=1, **kwargs): pass\n",
    "\n",
    "delegates(low)(mid)"
   ]
  },
  {
   "cell_type": "code",
   "execution_count": null,
   "id": "6725db7e",
   "metadata": {},
   "outputs": [
    {
     "name": "stdout",
     "output_type": "stream",
     "text": [
      "========================================================     Investigating \u001b[91;1mdelegates\u001b[0m     =========================================================\n",
      "==============================================================     on line \u001b[91;1mNone\u001b[0m     ==============================================================\n",
      "===========================================================     with example \u001b[91;1mNone\u001b[0m     ============================================================\n",
      "\n",
      "def delegates(to:FunctionType=None, # Delegatee===========================================(0)       \n",
      "              keep=False, # Keep `kwargs` in decorated function?==========================(1)       \n",
      "              but:list=None): # Exclude these parameters from signature===================(2)       \n",
      "    \"Decorator: replace `**kwargs` in signature with params from `to`\"====================(3)       \n",
      "    if but is None: but = []==============================================================(4)       \n",
      "    def _f(f):============================================================================(5)       \n",
      "        if to is None: to_f,from_f = f.__base__.__init__,f.__init__=======================(6)       \n",
      "        else:          to_f,from_f = to.__init__ if isinstance(to,type) else to,f=========(7)       \n",
      "        from_f = getattr(from_f,'__func__',from_f)========================================(8)       \n",
      "        to_f = getattr(to_f,'__func__',to_f)==============================================(9)       \n",
      "        if hasattr(from_f,'__delwrap__'): return f========================================(10)      \n",
      "        sig = inspect.signature(from_f)===================================================(11)      \n",
      "        sigd = dict(sig.parameters)=======================================================(12)      \n",
      "        k = sigd.pop('kwargs')============================================================(13)      \n",
      "        s2 = {k:v.replace(kind=inspect.Parameter.KEYWORD_ONLY) for k,v in inspect.signature(to_f).parameters.items()                                    (14)\n",
      "              if v.default != inspect.Parameter.empty and k not in sigd and k not in but}=(15)      \n",
      "        anno = {k:v for k,v in getattr(to_f, \"__annotations__\", {}).items() if k not in sigd and k not in but}                                          (16)\n",
      "        sigd.update(s2)===================================================================(17)      \n",
      "        if keep: sigd['kwargs'] = k=======================================================(18)      \n",
      "        else: from_f.__delwrap__ = to_f===================================================(19)      \n",
      "        from_f.__signature__ = sig.replace(parameters=sigd.values())======================(20)      \n",
      "        if hasattr(from_f, '__annotations__'): from_f.__annotations__.update(anno)========(21)      \n",
      "        return f==========================================================================(22)      \n",
      "    return _f=============================================================================(23)      \n",
      "                                                                                                                                                        (24)\n"
     ]
    }
   ],
   "source": [
    "fdb.print()"
   ]
  },
  {
   "cell_type": "markdown",
   "id": "7dcf146e",
   "metadata": {},
   "source": [
    "## testing run_example"
   ]
  },
  {
   "cell_type": "code",
   "execution_count": null,
   "id": "1a3812a5",
   "metadata": {},
   "outputs": [],
   "source": [
    "fdb.eg = \"\"\"\n",
    "def low(a, b=1): pass\n",
    "def mid(c, d=1, **kwargs): pass\n",
    "\n",
    "delegates(low)(mid)\n",
    "\"\"\""
   ]
  },
  {
   "cell_type": "code",
   "execution_count": null,
   "id": "84821bd3",
   "metadata": {},
   "outputs": [
    {
     "name": "stdout",
     "output_type": "stream",
     "text": [
      "========================================================     Investigating \u001b[91;1mdelegates\u001b[0m     =========================================================\n",
      "===============================================================     on line \u001b[91;1m4\u001b[0m     ================================================================\n",
      "=======================     with example \u001b[91;1m\n",
      "def low(a, b=1): pass\n",
      "def mid(c, d=1, **kwargs): pass\n",
      "\n",
      "delegates(low)(mid)\n",
      "\u001b[0m     ========================\n",
      "\n",
      "\u001b[93;1mprint selected srcline with expands below\u001b[0m--------\n",
      "              but:list=None): # Exclude these parameters from signature                                                                                 (2)\n",
      "    \"Decorator: replace `**kwargs` in signature with params from `to`\"                                                                                  (3)\n",
      "    if but is None: but = []============================================================================================================================(4)\n",
      "                                                                                                                  \u001b[91;1mstart building a decorator called delegates\u001b[0m\n",
      "    def _f(f):                                                                                                                                          (5)\n",
      "        if to is None: to_f,from_f = f.__base__.__init__,f.__init__                                                                                     (6)\n",
      "\n",
      "==================================================================================================================\u001b[91;1mStart of my srcline exploration:\u001b[0m\n",
      "\n",
      "\n",
      "                                                                                                                                            but => but : None\n",
      "====================================================================================================================\u001b[91;1mEnd of my srcline exploration:\u001b[0m\n",
      "\n",
      "\n",
      "\u001b[93;1mReview srcode with all comments added so far\u001b[0m======================================================================================================\n",
      "def delegates(to:FunctionType=None, # Delegatee===========================================(0)       \n",
      "              keep=False, # Keep `kwargs` in decorated function?==========================(1)       \n",
      "              but:list=None): # Exclude these parameters from signature===================(2)       \n",
      "    \"Decorator: replace `**kwargs` in signature with params from `to`\"====================(3)       \n",
      "    if but is None: but = []==============================================================(4) # spot 0: \u001b[36;1mstart building a decorator called delegates\u001b[0m\n",
      "    def _f(f):============================================================================(5)       \n",
      "        if to is None: to_f,from_f = f.__base__.__init__,f.__init__=======================(6)       \n",
      "        else:          to_f,from_f = to.__init__ if isinstance(to,type) else to,f=========(7)       \n",
      "        from_f = getattr(from_f,'__func__',from_f)========================================(8)       \n",
      "        to_f = getattr(to_f,'__func__',to_f)==============================================(9)       \n",
      "        if hasattr(from_f,'__delwrap__'): return f========================================(10)      \n",
      "        sig = inspect.signature(from_f)===================================================(11)      \n",
      "        sigd = dict(sig.parameters)=======================================================(12)      \n",
      "        k = sigd.pop('kwargs')============================================================(13)      \n",
      "        s2 = {k:v.replace(kind=inspect.Parameter.KEYWORD_ONLY) for k,v in inspect.signature(to_f).parameters.items()                                    (14)\n",
      "              if v.default != inspect.Parameter.empty and k not in sigd and k not in but}=(15)      \n",
      "        anno = {k:v for k,v in getattr(to_f, \"__annotations__\", {}).items() if k not in sigd and k not in but}                                          (16)\n",
      "        sigd.update(s2)===================================================================(17)      \n",
      "        if keep: sigd['kwargs'] = k=======================================================(18)      \n",
      "        else: from_f.__delwrap__ = to_f===================================================(19)      \n",
      "        from_f.__signature__ = sig.replace(parameters=sigd.values())======================(20)      \n",
      "        if hasattr(from_f, '__annotations__'): from_f.__annotations__.update(anno)========(21)      \n",
      "        return f==========================================================================(22)      \n",
      "    return _f=============================================================================(23)      \n",
      "                                                                                                                                                        (24)\n",
      "                                                                                                                                     part No.1 out of 1 parts\n",
      "\n"
     ]
    }
   ],
   "source": [
    "fdb.docsrc(4, \"start building a decorator called delegates\", \"but\")"
   ]
  },
  {
   "cell_type": "code",
   "execution_count": null,
   "id": "3f7bbc5f",
   "metadata": {},
   "outputs": [
    {
     "name": "stdout",
     "output_type": "stream",
     "text": [
      "========================================================     Investigating \u001b[91;1mdelegates\u001b[0m     =========================================================\n",
      "===============================================================     on line \u001b[91;1m5\u001b[0m     ================================================================\n",
      "=========================     with example \u001b[91;1m\n",
      "def low(a, b=1): pass\n",
      "def mid(c, d=1, **kwargs): pass\n",
      "\n",
      "self.dbsrc(low)\n",
      "\u001b[0m     ==========================\n",
      "\n",
      "\u001b[93;1mprint selected srcline with expands below\u001b[0m--------\n",
      "    \"Decorator: replace `**kwargs` in signature with params from `to`\"                                                                                  (3)\n",
      "    if but is None: but = []                                                                                                                            (4)\n",
      "    def _f(f):==========================================================================================================================================(5)\n",
      "                                                                                          \u001b[91;1mstart defining a function _f(f) which takes another func f as param\u001b[0m\n",
      "        if to is None: to_f,from_f = f.__base__.__init__,f.__init__                                                                                     (6)\n",
      "        else:          to_f,from_f = to.__init__ if isinstance(to,type) else to,f                                                                       (7)\n",
      "\n",
      "\u001b[93;1mReview srcode with all comments added so far\u001b[0m======================================================================================================\n",
      "def delegates(to:FunctionType=None, # Delegatee===========================================(0)       \n",
      "              keep=False, # Keep `kwargs` in decorated function?==========================(1)       \n",
      "              but:list=None): # Exclude these parameters from signature===================(2)       \n",
      "    \"Decorator: replace `**kwargs` in signature with params from `to`\"====================(3)       \n",
      "    if but is None: but = []==============================================================(4) # spot 0: \u001b[34;1mstart building a decorator called delegates\u001b[0m\n",
      "    def _f(f):============================================================================(5) # spot 1: \u001b[34;1mstart defining a function _f(f) which takes another func f as param\u001b[0m\n",
      "        if to is None: to_f,from_f = f.__base__.__init__,f.__init__=======================(6)       \n",
      "        else:          to_f,from_f = to.__init__ if isinstance(to,type) else to,f=========(7)       \n",
      "        from_f = getattr(from_f,'__func__',from_f)========================================(8)       \n",
      "        to_f = getattr(to_f,'__func__',to_f)==============================================(9)       \n",
      "        if hasattr(from_f,'__delwrap__'): return f========================================(10)      \n",
      "        sig = inspect.signature(from_f)===================================================(11)      \n",
      "        sigd = dict(sig.parameters)=======================================================(12)      \n",
      "        k = sigd.pop('kwargs')============================================================(13)      \n",
      "        s2 = {k:v.replace(kind=inspect.Parameter.KEYWORD_ONLY) for k,v in inspect.signature(to_f).parameters.items()                                    (14)\n",
      "              if v.default != inspect.Parameter.empty and k not in sigd and k not in but}=(15)      \n",
      "        anno = {k:v for k,v in getattr(to_f, \"__annotations__\", {}).items() if k not in sigd and k not in but}                                          (16)\n",
      "        sigd.update(s2)===================================================================(17)      \n",
      "        if keep: sigd['kwargs'] = k=======================================================(18)      \n",
      "        else: from_f.__delwrap__ = to_f===================================================(19)      \n",
      "        from_f.__signature__ = sig.replace(parameters=sigd.values())======================(20)      \n",
      "        if hasattr(from_f, '__annotations__'): from_f.__annotations__.update(anno)========(21)      \n",
      "        return f==========================================================================(22)      \n",
      "    return _f=============================================================================(23)      \n",
      "                                                                                                                                                        (24)\n",
      "                                                                                                                                     part No.1 out of 1 parts\n",
      "\n"
     ]
    }
   ],
   "source": [
    "fdb.docsrc(5, \"start defining a function _f(f) which takes another func f as param\")"
   ]
  },
  {
   "cell_type": "code",
   "execution_count": null,
   "id": "60af5fdc",
   "metadata": {},
   "outputs": [
    {
     "name": "stdout",
     "output_type": "stream",
     "text": [
      "========================================================     Investigating \u001b[91;1mdelegates\u001b[0m     =========================================================\n",
      "===============================================================     on line \u001b[91;1m23\u001b[0m     ===============================================================\n",
      "=========================     with example \u001b[91;1m\n",
      "def low(a, b=1): pass\n",
      "def mid(c, d=1, **kwargs): pass\n",
      "\n",
      "self.dbsrc(low)\n",
      "\n",
      "\u001b[0m     =========================\n",
      "\n",
      "\u001b[93;1mprint selected srcline with expands below\u001b[0m--------\n",
      "        if hasattr(from_f, '__annotations__'): from_f.__annotations__.update(anno)                                                                      (21)\n",
      "        return f                                                                                                                                        (22)\n",
      "    return _f===========================================================================================================================================(23)\n",
      "                                                                                                                                 \u001b[91;1mreturn the _f func as result\u001b[0m\n",
      "                                                                                                                                                        (24)\n",
      "\n",
      "\u001b[93;1mReview srcode with all comments added so far\u001b[0m======================================================================================================\n",
      "def delegates(to:FunctionType=None, # Delegatee===========================================(0)       \n",
      "              keep=False, # Keep `kwargs` in decorated function?==========================(1)       \n",
      "              but:list=None): # Exclude these parameters from signature===================(2)       \n",
      "    \"Decorator: replace `**kwargs` in signature with params from `to`\"====================(3)       \n",
      "    if but is None: but = []==============================================================(4) # spot 0: \u001b[34;1mstart building a decorator called delegates\u001b[0m\n",
      "    def _f(f):============================================================================(5) # spot 1: \u001b[34;1mstart defining a function _f(f) which takes another func f as param\u001b[0m\n",
      "        if to is None: to_f,from_f = f.__base__.__init__,f.__init__=======================(6)       \n",
      "        else:          to_f,from_f = to.__init__ if isinstance(to,type) else to,f=========(7)       \n",
      "        from_f = getattr(from_f,'__func__',from_f)========================================(8)       \n",
      "        to_f = getattr(to_f,'__func__',to_f)==============================================(9)       \n",
      "        if hasattr(from_f,'__delwrap__'): return f========================================(10)      \n",
      "        sig = inspect.signature(from_f)===================================================(11)      \n",
      "        sigd = dict(sig.parameters)=======================================================(12)      \n",
      "        k = sigd.pop('kwargs')============================================================(13)      \n",
      "        s2 = {k:v.replace(kind=inspect.Parameter.KEYWORD_ONLY) for k,v in inspect.signature(to_f).parameters.items()                                    (14)\n",
      "              if v.default != inspect.Parameter.empty and k not in sigd and k not in but}=(15)      \n",
      "        anno = {k:v for k,v in getattr(to_f, \"__annotations__\", {}).items() if k not in sigd and k not in but}                                          (16)\n",
      "        sigd.update(s2)===================================================================(17)      \n",
      "        if keep: sigd['kwargs'] = k=======================================================(18)      \n",
      "        else: from_f.__delwrap__ = to_f===================================================(19)      \n",
      "        from_f.__signature__ = sig.replace(parameters=sigd.values())======================(20)      \n",
      "        if hasattr(from_f, '__annotations__'): from_f.__annotations__.update(anno)========(21)      \n",
      "        return f==========================================================================(22)      \n",
      "    return _f=============================================================================(23) # spot 2: \u001b[34;1mreturn the _f func as result\u001b[0m\n",
      "                                                                                                                                                        (24)\n",
      "                                                                                                                                     part No.1 out of 1 parts\n",
      "\n"
     ]
    }
   ],
   "source": [
    "fdb.docsrc(23, \"return the _f func as result\")"
   ]
  },
  {
   "cell_type": "code",
   "execution_count": null,
   "id": "78acde4b",
   "metadata": {},
   "outputs": [],
   "source": []
  }
 ],
 "metadata": {
  "kernelspec": {
   "display_name": "Python 3 (ipykernel)",
   "language": "python",
   "name": "python3"
  }
 },
 "nbformat": 4,
 "nbformat_minor": 5
}
