{
 "cells": [
  {
   "cell_type": "markdown",
   "id": "f932d6a0",
   "metadata": {},
   "source": [
    "# Explore Fastdb class"
   ]
  },
  {
   "cell_type": "code",
   "execution_count": null,
   "id": "438215f1",
   "metadata": {},
   "outputs": [],
   "source": [
    "from IPython.display import display, HTML "
   ]
  },
  {
   "cell_type": "code",
   "execution_count": null,
   "id": "949323b7",
   "metadata": {},
   "outputs": [
    {
     "data": {
      "text/html": [
       "<style>.container { width:100% !important; }</style>"
      ],
      "text/plain": [
       "<IPython.core.display.HTML object>"
      ]
     },
     "metadata": {},
     "output_type": "display_data"
    }
   ],
   "source": [
    "display(HTML(\"<style>.container { width:100% !important; }</style>\"))"
   ]
  },
  {
   "cell_type": "markdown",
   "id": "7874adc2",
   "metadata": {},
   "source": [
    "## Why"
   ]
  },
  {
   "cell_type": "markdown",
   "id": "43d60796",
   "metadata": {},
   "source": [
    "So far I have created two demos, a simple one on `fastdebug.utils.whatinside` and a real world one on `fastcore.meta.FixSigMeta`. They should be enough as demos to show the usefulness of fastdebug library. "
   ]
  },
  {
   "cell_type": "markdown",
   "id": "1ba07ebd",
   "metadata": {},
   "source": [
    "However, I want to be thorough and really prove to myself that it can help me to conquer unknowns and clear doubts with ease and joy when exploring source code. "
   ]
  },
  {
   "cell_type": "markdown",
   "id": "01d1ba3e",
   "metadata": {},
   "source": [
    "Fastdb class and the funcs it uses contains all the tricks I learnt and difficulties I conquered which I don't always remember how and why. In fact I don't want to remember them. I want to just run all cells here and skim through the notebook and everything makes sense to me. "
   ]
  },
  {
   "cell_type": "markdown",
   "id": "71c678a9",
   "metadata": {},
   "source": [
    "Can fastdebug help me achieve it? Let's give a try!"
   ]
  },
  {
   "cell_type": "markdown",
   "id": "3406ddaa",
   "metadata": {},
   "source": [
    "## How to do it?"
   ]
  },
  {
   "cell_type": "markdown",
   "id": "4a7154d3",
   "metadata": {},
   "source": [
    "I need a few examples first. Maybe I could just use the simple demo as example for `Fastdb`."
   ]
  },
  {
   "cell_type": "markdown",
   "id": "3596fd44",
   "metadata": {},
   "source": [
    "## `whatinside` and `gw['whatinside']` are the same"
   ]
  },
  {
   "cell_type": "code",
   "execution_count": null,
   "id": "83a59310",
   "metadata": {},
   "outputs": [],
   "source": [
    "from fastdebug.utils import *\n",
    "import inspect"
   ]
  },
  {
   "cell_type": "code",
   "execution_count": null,
   "id": "3f90d5ba",
   "metadata": {},
   "outputs": [
    {
     "data": {
      "text/plain": [
       "20"
      ]
     },
     "execution_count": null,
     "metadata": {},
     "output_type": "execute_result"
    }
   ],
   "source": [
    "gw = {}\n",
    "gw.update(whatinside.__globals__)\n",
    "len(gw)"
   ]
  },
  {
   "cell_type": "code",
   "execution_count": null,
   "id": "118d10bc",
   "metadata": {},
   "outputs": [
    {
     "data": {
      "text/plain": [
       "'<code object whatinside at 0x103b9f0e0, file \"/Users/Natsume/Documents/fastdebug/fastdebug/utils.py\", line 14>'"
      ]
     },
     "execution_count": null,
     "metadata": {},
     "output_type": "execute_result"
    }
   ],
   "source": [
    "whatinside.__code__.__repr__()"
   ]
  },
  {
   "cell_type": "code",
   "execution_count": null,
   "id": "cb8420d3",
   "metadata": {},
   "outputs": [
    {
     "data": {
      "text/plain": [
       "<code object whatinside at 0x103b9f0e0, file \"/Users/Natsume/Documents/fastdebug/fastdebug/utils.py\", line 14>"
      ]
     },
     "execution_count": null,
     "metadata": {},
     "output_type": "execute_result"
    }
   ],
   "source": [
    "gw['whatinside'].__code__"
   ]
  },
  {
   "cell_type": "code",
   "execution_count": null,
   "id": "d3e507c1",
   "metadata": {},
   "outputs": [
    {
     "data": {
      "text/plain": [
       "'def whatinside(mo, # module, e.g., `import fastcore.all as fa`, use `fa` here\\n               dun:bool=False, # print all items in __all__\\n               func:bool=False, # print all user defined functions\\n               clas:bool=False, # print all class objects\\n               bltin:bool=False, # print all builtin funcs or methods\\n               lib:bool=False, # print all the modules of the library it belongs to\\n               cal:bool=False # print all callables\\n             ): \\n    \\'Check what inside a module: `__all__`, functions, classes, builtins, and callables\\'\\n    dun_all = len(mo.__all__) if hasattr(mo, \"__all__\") else 0\\n    funcs = inspect.getmembers(mo, inspect.isfunction)\\n    classes = inspect.getmembers(mo, inspect.isclass)\\n    builtins = inspect.getmembers(mo, inspect.isbuiltin)\\n    callables = inspect.getmembers(mo, callable)\\n    pkgpath = os.path.dirname(mo.__file__)\\n    print(f\"{mo.__name__} has: \\\\n{dun_all} items in its __all__, and \\\\n{len(funcs)} user defined functions, \\\\n{len(classes)} classes or class objects, \\\\n{len(builtins)} builtin funcs and methods, and\\\\n{len(callables)} callables.\\\\n\")  \\n    if hasattr(mo, \"__all__\") and dun: pprint(mo.__all__)\\n    if func: \\n        print(f\\'The user defined functions are:\\')\\n        pprint([i[0] for i in funcs])\\n    if clas: \\n        print(f\\'The class objects are:\\')\\n        pprint([i[0] for i in classes])\\n    if bltin: \\n        print(f\\'The builtin functions or methods are:\\')\\n        pprint([i[0] for i in builtins])\\n    if cal: \\n        print(f\\'The callables are: \\')\\n        pprint([i[0] for i in callables])\\n    if lib: \\n        modules = [name for _, name, _ in pkgutil.iter_modules([pkgpath])]\\n        print(f\\'The library has {len(modules)} modules\\')\\n        pprint(modules)\\n'"
      ]
     },
     "execution_count": null,
     "metadata": {},
     "output_type": "execute_result"
    }
   ],
   "source": [
    "inspect.getsource(gw['whatinside'])"
   ]
  },
  {
   "cell_type": "code",
   "execution_count": null,
   "id": "778edd93",
   "metadata": {},
   "outputs": [
    {
     "data": {
      "text/plain": [
       "True"
      ]
     },
     "execution_count": null,
     "metadata": {},
     "output_type": "execute_result"
    }
   ],
   "source": [
    "gw['whatinside'] == whatinside"
   ]
  },
  {
   "cell_type": "code",
   "execution_count": null,
   "id": "ce9ade7b",
   "metadata": {},
   "outputs": [],
   "source": []
  },
  {
   "cell_type": "code",
   "execution_count": null,
   "id": "64ba86bd",
   "metadata": {},
   "outputs": [],
   "source": []
  },
  {
   "cell_type": "markdown",
   "id": "7c467c61",
   "metadata": {},
   "source": [
    "## Dot it in a more natural and ordered way"
   ]
  },
  {
   "cell_type": "code",
   "execution_count": null,
   "id": "5e56f224",
   "metadata": {},
   "outputs": [],
   "source": [
    "from fastdebug.core import *"
   ]
  },
  {
   "cell_type": "code",
   "execution_count": null,
   "id": "5a7d69c6",
   "metadata": {},
   "outputs": [],
   "source": [
    "import inspect"
   ]
  },
  {
   "cell_type": "markdown",
   "id": "51edbdf9",
   "metadata": {},
   "source": [
    "### Prepare env for Fastdb.dbprint"
   ]
  },
  {
   "cell_type": "code",
   "execution_count": null,
   "id": "f731504c",
   "metadata": {},
   "outputs": [
    {
     "data": {
      "text/plain": [
       "157"
      ]
     },
     "execution_count": null,
     "metadata": {},
     "output_type": "execute_result"
    }
   ],
   "source": [
    "g = {}\n",
    "g.update(Fastdb.dbprint.__globals__)\n",
    "len(g)"
   ]
  },
  {
   "cell_type": "code",
   "execution_count": null,
   "id": "53eaf473",
   "metadata": {},
   "outputs": [
    {
     "data": {
      "text/plain": [
       "False"
      ]
     },
     "execution_count": null,
     "metadata": {},
     "output_type": "execute_result"
    }
   ],
   "source": [
    "'Fastdb.dbprint' in g"
   ]
  },
  {
   "cell_type": "code",
   "execution_count": null,
   "id": "df1a9a2a",
   "metadata": {},
   "outputs": [
    {
     "data": {
      "text/plain": [
       "True"
      ]
     },
     "execution_count": null,
     "metadata": {},
     "output_type": "execute_result"
    }
   ],
   "source": [
    "'Fastdb' in g"
   ]
  },
  {
   "cell_type": "code",
   "execution_count": null,
   "id": "98a06e0d",
   "metadata": {},
   "outputs": [
    {
     "data": {
      "text/plain": [
       "True"
      ]
     },
     "execution_count": null,
     "metadata": {},
     "output_type": "execute_result"
    }
   ],
   "source": [
    "'dbprint' in g "
   ]
  },
  {
   "cell_type": "code",
   "execution_count": null,
   "id": "49a4f9bb",
   "metadata": {},
   "outputs": [
    {
     "data": {
      "text/plain": [
       "NoneType"
      ]
     },
     "execution_count": null,
     "metadata": {},
     "output_type": "execute_result"
    }
   ],
   "source": [
    "type(g['dbprint']) # has nothing, this is probably come from the notebook 00_core"
   ]
  },
  {
   "cell_type": "markdown",
   "id": "8c24b5b6",
   "metadata": {},
   "source": [
    "#### Fastdb.dbprint and `g['Fastdb'].dbprint` are the same"
   ]
  },
  {
   "cell_type": "code",
   "execution_count": null,
   "id": "0e5dd98c",
   "metadata": {},
   "outputs": [
    {
     "data": {
      "text/plain": [
       "<function fastdebug.core.Fastdb.dbprint(self: fastdebug.core.Fastdb, dbcode: int, cmt: str, *codes, expand: int = 2, showdbsrc: bool = False)>"
      ]
     },
     "execution_count": null,
     "metadata": {},
     "output_type": "execute_result"
    }
   ],
   "source": [
    "g['Fastdb'].dbprint"
   ]
  },
  {
   "cell_type": "code",
   "execution_count": null,
   "id": "da274849",
   "metadata": {},
   "outputs": [
    {
     "data": {
      "text/plain": [
       "'Add comment and evaluate custom (single or multi lines) expressions to any srcline of the source code you are investigating'"
      ]
     },
     "execution_count": null,
     "metadata": {},
     "output_type": "execute_result"
    }
   ],
   "source": [
    "inspect.getdoc(g['Fastdb'].dbprint)"
   ]
  },
  {
   "cell_type": "code",
   "execution_count": null,
   "id": "c568eed6",
   "metadata": {},
   "outputs": [
    {
     "data": {
      "text/plain": [
       "True"
      ]
     },
     "execution_count": null,
     "metadata": {},
     "output_type": "execute_result"
    }
   ],
   "source": [
    "Fastdb.dbprint == g['Fastdb'].dbprint"
   ]
  },
  {
   "cell_type": "code",
   "execution_count": null,
   "id": "b84a1251",
   "metadata": {},
   "outputs": [
    {
     "data": {
      "text/plain": [
       "'@patch\\ndef dbprint(self:Fastdb, \\n            dbcode:int, # idx of a srcline under investigation, can only be int\\n            cmt:str, # comment added to the srcline\\n            *codes, # a list of expressions (str) you write to be evaluated above the srcline\\n            expand:int=2, # span 2 lines of srcode up and down from the srcline investigated\\n            showdbsrc:bool=False): # display dbsrc\\n    \"Add comment and evaluate custom (single or multi lines) expressions to any srcline of the source code you are investigating\"\\n\\n    src = self.orisrc\\n    if type(dbcode) == int: self.cmts.update({dbcode: cmt})\\n\\n    printsrc(src, dbcode, cmt, expand)\\n    print(\\'{:-<60}\\'.format(colorize(\"print selected srcline with expands above\", color=\"y\")))\\n    \\n    dbsrc = \"\"\\n    indent = 4\\n    onedbprint = False\\n\\n    lst = inspect.getsource(src).split(\\'\\\\n\\')\\n    if not bool(lst[-1]): lst = lst[:-1]\\n\\n    newlst = []\\n    for i in codes: # no matter whether there is \"\" or \"  \" in the front or in the middle of codes\\n        if bool(i.strip()): newlst.append(i)\\n    codes = newlst\\n\\n    srclines = \"\"\\n    if type(dbcode) == int:\\n        srclines = lst[dbcode]\\n    else:\\n        colwarn = colorize(\"Warning!\", color=\"r\")\\n        colmsg = colorize(\" param decode has to be an int as idx.\", color=\"y\")\\n        print(colwarn + colmsg)\\n#         srclines = dbcode\\n        return\\n\\n    for idx, l in zip(range(len(lst)), lst):\\n\\n        if bool(l.strip()) and l.strip() in srclines and idx == dbcode:\\n\\n            if len(codes) > 0: \\n                numindent = len(l) - len(l.lstrip()) # make sure indent not messed up by trailing spaces\\n                dbcodes = \"dbprintinsert(\"\\n                count = 1\\n                for c in codes:\\n                    if count == len(codes):\\n                        dbcodes = dbcodes + \\'\"\\' + c + \\'\"\\' + \",\" + \"env=g\" + \")\"\\n                    else:\\n                        dbcodes = dbcodes + \\'\"\\' + c + \\'\"\\' + \",\"\\n                    count = count + 1\\n\\n                dbsrc = dbsrc + \" \"*numindent + \"g = locals()\" + \\'\\\\n\\'\\n                dbsrc = dbsrc + \" \"*numindent + dbcodes + \\'\\\\n\\'\\n                dbsrc = dbsrc + l + \\'\\\\n\\'     \\n            else:\\n                dbsrc = dbsrc + l + \\'\\\\n\\'                \\n\\n        elif bool(l.strip()) and idx + 1 == len(lst):\\n            dbsrc = dbsrc + l\\n\\n        elif bool(l.strip()): # make sure pure indentation + \\\\n is ignored\\n            dbsrc = dbsrc + l + \\'\\\\n\\'\\n\\n    if showdbsrc: # added to debug\\n        print(\\'{:-<60}\\'.format(colorize(\"showdbsrc=Start\", color=\"y\")))\\n        totallen = 157\\n        lenidx = 5\\n        dblst = dbsrc.split(\\'\\\\n\\')\\n        for idx, l in zip(range(len(dblst)), dblst):\\n            lenl = len(l)\\n#             if \"dbprintinsert\" in l: \\n            if l.strip().startswith(\"dbprintinsert\"): \\n                print(l + \"=\"*(totallen-lenl-lenidx) + \"(db)\")\\n            else:\\n                print(l + \" \"*(totallen-lenl-lenidx) + \"(\" + str(idx) + \")\")\\n        print(f\"before exec, locals(): {list(locals().keys())}\")\\n        \\n    exec(dbsrc, globals().update(self.outenv)) # make sure b can access lst from above\\n    \\n    if showdbsrc: \\n        print(f\"after exec, locals(): {list(locals().keys())}\")\\n        print(f\\'self.orisrc.__name__: {self.orisrc.__name__}\\')\\n        print(f\\'locals()[self.orisrc.__name__]: {locals()[self.orisrc.__name__]}\\')\\n        print(\\'{:-<60}\\'.format(colorize(\"showdbsrc=End\", color=\"y\")))\\n        \\n    return locals()[self.orisrc.__name__]\\n'"
      ]
     },
     "execution_count": null,
     "metadata": {},
     "output_type": "execute_result"
    }
   ],
   "source": [
    "inspect.getsource(Fastdb.dbprint)"
   ]
  },
  {
   "cell_type": "markdown",
   "id": "3509c36b",
   "metadata": {},
   "source": [
    "### Create Fastdb object for `Fastdb.dbprint`"
   ]
  },
  {
   "cell_type": "code",
   "execution_count": null,
   "id": "aa1aeb41",
   "metadata": {},
   "outputs": [],
   "source": [
    "fdb = Fastdb(Fastdb.dbprint, g)"
   ]
  },
  {
   "cell_type": "code",
   "execution_count": null,
   "id": "9d7b205d",
   "metadata": {},
   "outputs": [
    {
     "name": "stdout",
     "output_type": "stream",
     "text": [
      "@patch====================================================================================(0)       \n",
      "def dbprint(self:Fastdb, =================================================================(1)       \n",
      "            dbcode:int, # idx of a srcline under investigation, can only be int===========(2)       \n",
      "            cmt:str, # comment added to the srcline=======================================(3)       \n",
      "            *codes, # a list of expressions (str) you write to be evaluated above the srcline                                                           (4)\n",
      "            expand:int=2, # span 2 lines of srcode up and down from the srcline investigated                                                            (5)\n",
      "            showdbsrc:bool=False): # display dbsrc========================================(6)       \n",
      "    \"Add comment and evaluate custom (single or multi lines) expressions to any srcline of the source code you are investigating\"                       (7)\n",
      "                                                                                                                                                        (8)\n",
      "    src = self.orisrc=====================================================================(9)       \n",
      "                                                                                                                                     part No.1 out of 3 parts\n"
     ]
    }
   ],
   "source": [
    "fdb.print(10, 1)"
   ]
  },
  {
   "cell_type": "markdown",
   "id": "19ba6ac2",
   "metadata": {},
   "source": [
    "Important! After running the following line, `Fastdb.dbprint` is updated by exec and source code can't be seen anymore."
   ]
  },
  {
   "cell_type": "code",
   "execution_count": null,
   "id": "b84a2f13",
   "metadata": {},
   "outputs": [
    {
     "name": "stdout",
     "output_type": "stream",
     "text": [
      "    \"Add comment and evaluate custom (single or multi lines) expressions to any srcline of the source code you are investigating\"                       (7)\n",
      "                                                                                                                                                        (8)\n",
      "    src = self.orisrc===================================================================================================================================(9)\n",
      "                                                                                                                                       \u001b[91mkeep original src safe\u001b[0m\n",
      "    if type(dbcode) == int: self.cmts.update({dbcode: cmt})                                                                                             (10)\n",
      "                                                                                                                                                        (11)\n",
      "\u001b[93mprint selected srcline with expands above\u001b[0m----------\n",
      "\u001b[93mshowdbsrc=Start\u001b[0m------------------------------------\n",
      "@patch                                                                                                                                                  (0)\n",
      "def dbprint(self:Fastdb,                                                                                                                                (1)\n",
      "            dbcode:int, # idx of a srcline under investigation, can only be int                                                                         (2)\n",
      "            cmt:str, # comment added to the srcline                                                                                                     (3)\n",
      "            *codes, # a list of expressions (str) you write to be evaluated above the srcline                                                           (4)\n",
      "            expand:int=2, # span 2 lines of srcode up and down from the srcline investigated                                                            (5)\n",
      "            showdbsrc:bool=False): # display dbsrc                                                                                                      (6)\n",
      "    \"Add comment and evaluate custom (single or multi lines) expressions to any srcline of the source code you are investigating\"                       (7)\n",
      "    g = locals()                                                                                                                                        (8)\n",
      "    dbprintinsert(\"self.orisrc\",env=g)==================================================================================================================(db)\n",
      "    src = self.orisrc                                                                                                                                   (10)\n",
      "    if type(dbcode) == int: self.cmts.update({dbcode: cmt})                                                                                             (11)\n",
      "    printsrc(src, dbcode, cmt, expand)                                                                                                                  (12)\n",
      "    print('{:-<60}'.format(colorize(\"print selected srcline with expands above\", color=\"y\")))                                                           (13)\n",
      "    dbsrc = \"\"                                                                                                                                          (14)\n",
      "    indent = 4                                                                                                                                          (15)\n",
      "    onedbprint = False                                                                                                                                  (16)\n",
      "    lst = inspect.getsource(src).split('\\n')                                                                                                            (17)\n",
      "    if not bool(lst[-1]): lst = lst[:-1]                                                                                                                (18)\n",
      "    newlst = []                                                                                                                                         (19)\n",
      "    for i in codes: # no matter whether there is \"\" or \"  \" in the front or in the middle of codes                                                      (20)\n",
      "        if bool(i.strip()): newlst.append(i)                                                                                                            (21)\n",
      "    codes = newlst                                                                                                                                      (22)\n",
      "    srclines = \"\"                                                                                                                                       (23)\n",
      "    if type(dbcode) == int:                                                                                                                             (24)\n",
      "        srclines = lst[dbcode]                                                                                                                          (25)\n",
      "    else:                                                                                                                                               (26)\n",
      "        colwarn = colorize(\"Warning!\", color=\"r\")                                                                                                       (27)\n",
      "        colmsg = colorize(\" param decode has to be an int as idx.\", color=\"y\")                                                                          (28)\n",
      "        print(colwarn + colmsg)                                                                                                                         (29)\n",
      "#         srclines = dbcode                                                                                                                             (30)\n",
      "        return                                                                                                                                          (31)\n",
      "    for idx, l in zip(range(len(lst)), lst):                                                                                                            (32)\n",
      "        if bool(l.strip()) and l.strip() in srclines and idx == dbcode:                                                                                 (33)\n",
      "            if len(codes) > 0:                                                                                                                          (34)\n",
      "                numindent = len(l) - len(l.lstrip()) # make sure indent not messed up by trailing spaces                                                (35)\n",
      "                dbcodes = \"dbprintinsert(\"                                                                                                              (36)\n",
      "                count = 1                                                                                                                               (37)\n",
      "                for c in codes:                                                                                                                         (38)\n",
      "                    if count == len(codes):                                                                                                             (39)\n",
      "                        dbcodes = dbcodes + '\"' + c + '\"' + \",\" + \"env=g\" + \")\"                                                                         (40)\n",
      "                    else:                                                                                                                               (41)\n",
      "                        dbcodes = dbcodes + '\"' + c + '\"' + \",\"                                                                                         (42)\n",
      "                    count = count + 1                                                                                                                   (43)\n",
      "                dbsrc = dbsrc + \" \"*numindent + \"g = locals()\" + '\\n'                                                                                   (44)\n",
      "                dbsrc = dbsrc + \" \"*numindent + dbcodes + '\\n'                                                                                          (45)\n",
      "                dbsrc = dbsrc + l + '\\n'                                                                                                                (46)\n",
      "            else:                                                                                                                                       (47)\n",
      "                dbsrc = dbsrc + l + '\\n'                                                                                                                (48)\n",
      "        elif bool(l.strip()) and idx + 1 == len(lst):                                                                                                   (49)\n",
      "            dbsrc = dbsrc + l                                                                                                                           (50)\n",
      "        elif bool(l.strip()): # make sure pure indentation + \\n is ignored                                                                              (51)\n",
      "            dbsrc = dbsrc + l + '\\n'                                                                                                                    (52)\n",
      "    if showdbsrc: # added to debug                                                                                                                      (53)\n",
      "        print('{:-<60}'.format(colorize(\"showdbsrc=Start\", color=\"y\")))                                                                                 (54)\n",
      "        totallen = 157                                                                                                                                  (55)\n",
      "        lenidx = 5                                                                                                                                      (56)\n",
      "        dblst = dbsrc.split('\\n')                                                                                                                       (57)\n",
      "        for idx, l in zip(range(len(dblst)), dblst):                                                                                                    (58)\n",
      "            lenl = len(l)                                                                                                                               (59)\n",
      "#             if \"dbprintinsert\" in l:                                                                                                                  (60)\n",
      "            if l.strip().startswith(\"dbprintinsert\"):                                                                                                   (61)\n",
      "                print(l + \"=\"*(totallen-lenl-lenidx) + \"(db)\")                                                                                          (62)\n",
      "            else:                                                                                                                                       (63)\n",
      "                print(l + \" \"*(totallen-lenl-lenidx) + \"(\" + str(idx) + \")\")                                                                            (64)\n",
      "        print(f\"before exec, locals(): {list(locals().keys())}\")                                                                                        (65)\n",
      "    exec(dbsrc, globals().update(self.outenv)) # make sure b can access lst from above                                                                  (66)\n",
      "    if showdbsrc:                                                                                                                                       (67)\n",
      "        print(f\"after exec, locals(): {list(locals().keys())}\")                                                                                         (68)\n",
      "        print(f'self.orisrc.__name__: {self.orisrc.__name__}')                                                                                          (69)\n",
      "        print(f'locals()[self.orisrc.__name__]: {locals()[self.orisrc.__name__]}')                                                                      (70)\n",
      "        print('{:-<60}'.format(colorize(\"showdbsrc=End\", color=\"y\")))                                                                                   (71)\n",
      "    return locals()[self.orisrc.__name__]                                                                                                               (72)\n",
      "before exec, locals(): ['self', 'dbcode', 'cmt', 'expand', 'showdbsrc', 'codes', 'src', 'dbsrc', 'indent', 'onedbprint', 'lst', 'newlst', 'i', 'srclines', 'idx', 'l', 'numindent', 'dbcodes', 'count', 'c', 'totallen', 'lenidx', 'dblst', 'lenl']\n",
      "after exec, locals(): ['self', 'dbcode', 'cmt', 'expand', 'showdbsrc', 'codes', 'src', 'dbsrc', 'indent', 'onedbprint', 'lst', 'newlst', 'i', 'srclines', 'idx', 'l', 'numindent', 'dbcodes', 'count', 'c', 'totallen', 'lenidx', 'dblst', 'lenl', 'dbprint']\n",
      "self.orisrc.__name__: dbprint\n",
      "locals()[self.orisrc.__name__]: None\n",
      "\u001b[93mshowdbsrc=End\u001b[0m--------------------------------------\n"
     ]
    }
   ],
   "source": [
    "dbsrc = fdb.dbprint(9, \"keep original src safe\", \"self.orisrc\", showdbsrc=True)"
   ]
  },
  {
   "cell_type": "markdown",
   "id": "22895485",
   "metadata": {},
   "source": [
    "Important!\n",
    "\n",
    "As updating `Fastdb.dbprint` with exec will send the updated src to the class `Fastdb` in `g`, the newly created `dbprint` in locals() is actually NoneType.\n",
    "\n",
    "Luckily, we still got `fdb.orisrc` which keep the original `Fastdb.dbprint` for us.\n",
    "\n",
    "So, we can run `Fastdb.dbprint = fdb.orisrc` to get `Fastdb.dbprint` back to normal"
   ]
  },
  {
   "cell_type": "markdown",
   "id": "170684e8",
   "metadata": {},
   "source": [
    "### Make an example with new `Fastdb.dbprint`"
   ]
  },
  {
   "cell_type": "code",
   "execution_count": null,
   "id": "e141da0f",
   "metadata": {},
   "outputs": [],
   "source": [
    "from fastdebug.utils import *"
   ]
  },
  {
   "cell_type": "code",
   "execution_count": null,
   "id": "68ead44e",
   "metadata": {},
   "outputs": [],
   "source": [
    "import fastdebug.core as core"
   ]
  },
  {
   "cell_type": "code",
   "execution_count": null,
   "id": "661f1bfa",
   "metadata": {},
   "outputs": [
    {
     "data": {
      "text/plain": [
       "20"
      ]
     },
     "execution_count": null,
     "metadata": {},
     "output_type": "execute_result"
    }
   ],
   "source": [
    "gw = {}\n",
    "gw.update(whatinside.__globals__)\n",
    "len(gw)"
   ]
  },
  {
   "cell_type": "code",
   "execution_count": null,
   "id": "69e0898e",
   "metadata": {},
   "outputs": [],
   "source": [
    "fdbw = Fastdb(whatinside, gw) # we are using the updated Fastdb whose dbprint has dbprintinsert() ready"
   ]
  },
  {
   "cell_type": "code",
   "execution_count": null,
   "id": "e7f81c1e",
   "metadata": {},
   "outputs": [
    {
     "name": "stdout",
     "output_type": "stream",
     "text": [
      "def whatinside(mo, # module, e.g., `import fastcore.all as fa`, use `fa` here=============(0)       \n",
      "               dun:bool=False, # print all items in __all__===============================(1)       \n",
      "               func:bool=False, # print all user defined functions========================(2)       \n",
      "               clas:bool=False, # print all class objects=================================(3)       \n",
      "               bltin:bool=False, # print all builtin funcs or methods=====================(4)       \n",
      "               lib:bool=False, # print all the modules of the library it belongs to=======(5)       \n",
      "               cal:bool=False # print all callables=======================================(6)       \n",
      "             ): ==========================================================================(7)       \n",
      "    'Check what inside a module: `__all__`, functions, classes, builtins, and callables'==(8)       \n",
      "    dun_all = len(mo.__all__) if hasattr(mo, \"__all__\") else 0============================(9)       \n",
      "                                                                                                                                     part No.1 out of 2 parts\n"
     ]
    }
   ],
   "source": [
    "fdbw.print(10,1) "
   ]
  },
  {
   "cell_type": "code",
   "execution_count": null,
   "id": "18e4d449",
   "metadata": {},
   "outputs": [
    {
     "name": "stdout",
     "output_type": "stream",
     "text": [
      "\n",
      "\n",
      "                                                                                            self.orisrc => self.orisrc : <function whatinside at 0x103c32940>\n",
      "             ):                                                                                                                                         (7)\n",
      "    'Check what inside a module: `__all__`, functions, classes, builtins, and callables'                                                                (8)\n",
      "    dun_all = len(mo.__all__) if hasattr(mo, \"__all__\") else 0==========================================================================================(9)\n",
      "                                                                                                                                \u001b[91mcount num of funcs in __all__\u001b[0m\n",
      "    funcs = inspect.getmembers(mo, inspect.isfunction)                                                                                                  (10)\n",
      "    classes = inspect.getmembers(mo, inspect.isclass)                                                                                                   (11)\n",
      "\u001b[93mprint selected srcline with expands above\u001b[0m----------\n",
      "\n",
      "\n",
      "                                                                                                                      type(mo) => type(mo) : <class 'module'>\n",
      "fastdebug.utils has: \n",
      "3 items in its __all__, and \n",
      "121 user defined functions, \n",
      "18 classes or class objects, \n",
      "1 builtin funcs and methods, and\n",
      "142 callables.\n",
      "\n"
     ]
    }
   ],
   "source": [
    "new = fdbw.dbprint(9, \"count num of funcs in __all__\", \"type(mo)\") # the updated dbprint will run here.\n",
    "\n",
    "whatinside = new\n",
    "whatinside(core)"
   ]
  },
  {
   "cell_type": "markdown",
   "id": "71647034",
   "metadata": {},
   "source": [
    "#### Turn Fastdb.dbprint and whatinside back to normal"
   ]
  },
  {
   "cell_type": "code",
   "execution_count": null,
   "id": "d6c129a2",
   "metadata": {},
   "outputs": [],
   "source": [
    "Fastdb.dbprint = fdb.orisrc\n",
    "whatinside = fdbw.orisrc # Important! remember to bring whatinside back to normal after each srcline exploration"
   ]
  },
  {
   "cell_type": "markdown",
   "id": "0b3c1070",
   "metadata": {},
   "source": [
    "### explore the second srcline of dbprint"
   ]
  },
  {
   "cell_type": "code",
   "execution_count": null,
   "id": "bdb428e3",
   "metadata": {},
   "outputs": [
    {
     "name": "stdout",
     "output_type": "stream",
     "text": [
      "@patch====================================================================================(0)       \n",
      "def dbprint(self:Fastdb, =================================================================(1)       \n",
      "            dbcode:int, # idx of a srcline under investigation, can only be int===========(2)       \n",
      "            cmt:str, # comment added to the srcline=======================================(3)       \n",
      "            *codes, # a list of expressions (str) you write to be evaluated above the srcline                                                           (4)\n",
      "            expand:int=2, # span 2 lines of srcode up and down from the srcline investigated                                                            (5)\n",
      "            showdbsrc:bool=False): # display dbsrc========================================(6)       \n",
      "    \"Add comment and evaluate custom (single or multi lines) expressions to any srcline of the source code you are investigating\"                       (7)\n",
      "                                                                                                                                                        (8)\n",
      "    src = self.orisrc=====================================================================(9) # keep original src safe\n",
      "    if type(dbcode) == int: self.cmts.update({dbcode: cmt})===============================(10)      \n",
      "                                                                                                                                                        (11)\n",
      "    printsrc(src, dbcode, cmt, expand)====================================================(12)      \n",
      "    print('{:-<60}'.format(colorize(\"print selected srcline with expands above\", color=\"y\")))                                                           (13)\n",
      "                                                                                                                                                        (14)\n",
      "    dbsrc = \"\"============================================================================(15)      \n",
      "    indent = 4============================================================================(16)      \n",
      "    onedbprint = False====================================================================(17)      \n",
      "                                                                                                                                                        (18)\n",
      "    lst = inspect.getsource(src).split('\\n')==============================================(19)      \n",
      "                                                                                                                                     part No.1 out of 3 parts\n"
     ]
    }
   ],
   "source": [
    "fdb.print(20, 1) # we are using fdb.orisrc to print, so no dbprintinsert() will be seen."
   ]
  },
  {
   "cell_type": "code",
   "execution_count": null,
   "id": "55076925",
   "metadata": {},
   "outputs": [
    {
     "name": "stdout",
     "output_type": "stream",
     "text": [
      "                                                                                                                                                        (8)\n",
      "    src = self.orisrc                                                                                                                                   (9)\n",
      "    if type(dbcode) == int: self.cmts.update({dbcode: cmt})=============================================================================================(10)\n",
      "                                                                                                                              \u001b[91mcollect and organize cmt by idx\u001b[0m\n",
      "                                                                                                                                                        (11)\n",
      "    printsrc(src, dbcode, cmt, expand)                                                                                                                  (12)\n",
      "\u001b[93mprint selected srcline with expands above\u001b[0m----------\n",
      "\u001b[93mshowdbsrc=Start\u001b[0m------------------------------------\n",
      "@patch                                                                                                                                                  (0)\n",
      "def dbprint(self:Fastdb,                                                                                                                                (1)\n",
      "            dbcode:int, # idx of a srcline under investigation, can only be int                                                                         (2)\n",
      "            cmt:str, # comment added to the srcline                                                                                                     (3)\n",
      "            *codes, # a list of expressions (str) you write to be evaluated above the srcline                                                           (4)\n",
      "            expand:int=2, # span 2 lines of srcode up and down from the srcline investigated                                                            (5)\n",
      "            showdbsrc:bool=False): # display dbsrc                                                                                                      (6)\n",
      "    \"Add comment and evaluate custom (single or multi lines) expressions to any srcline of the source code you are investigating\"                       (7)\n",
      "    src = self.orisrc                                                                                                                                   (8)\n",
      "    g = locals()                                                                                                                                        (9)\n",
      "    dbprintinsert(\"self.cmts\",\"dbcode\",\"cmt\",env=g)=====================================================================================================(db)\n",
      "    if type(dbcode) == int: self.cmts.update({dbcode: cmt})                                                                                             (11)\n",
      "    printsrc(src, dbcode, cmt, expand)                                                                                                                  (12)\n",
      "    print('{:-<60}'.format(colorize(\"print selected srcline with expands above\", color=\"y\")))                                                           (13)\n",
      "    dbsrc = \"\"                                                                                                                                          (14)\n",
      "    indent = 4                                                                                                                                          (15)\n",
      "    onedbprint = False                                                                                                                                  (16)\n",
      "    lst = inspect.getsource(src).split('\\n')                                                                                                            (17)\n",
      "    if not bool(lst[-1]): lst = lst[:-1]                                                                                                                (18)\n",
      "    newlst = []                                                                                                                                         (19)\n",
      "    for i in codes: # no matter whether there is \"\" or \"  \" in the front or in the middle of codes                                                      (20)\n",
      "        if bool(i.strip()): newlst.append(i)                                                                                                            (21)\n",
      "    codes = newlst                                                                                                                                      (22)\n",
      "    srclines = \"\"                                                                                                                                       (23)\n",
      "    if type(dbcode) == int:                                                                                                                             (24)\n",
      "        srclines = lst[dbcode]                                                                                                                          (25)\n",
      "    else:                                                                                                                                               (26)\n",
      "        colwarn = colorize(\"Warning!\", color=\"r\")                                                                                                       (27)\n",
      "        colmsg = colorize(\" param decode has to be an int as idx.\", color=\"y\")                                                                          (28)\n",
      "        print(colwarn + colmsg)                                                                                                                         (29)\n",
      "#         srclines = dbcode                                                                                                                             (30)\n",
      "        return                                                                                                                                          (31)\n",
      "    for idx, l in zip(range(len(lst)), lst):                                                                                                            (32)\n",
      "        if bool(l.strip()) and l.strip() in srclines and idx == dbcode:                                                                                 (33)\n",
      "            if len(codes) > 0:                                                                                                                          (34)\n",
      "                numindent = len(l) - len(l.lstrip()) # make sure indent not messed up by trailing spaces                                                (35)\n",
      "                dbcodes = \"dbprintinsert(\"                                                                                                              (36)\n",
      "                count = 1                                                                                                                               (37)\n",
      "                for c in codes:                                                                                                                         (38)\n",
      "                    if count == len(codes):                                                                                                             (39)\n",
      "                        dbcodes = dbcodes + '\"' + c + '\"' + \",\" + \"env=g\" + \")\"                                                                         (40)\n",
      "                    else:                                                                                                                               (41)\n",
      "                        dbcodes = dbcodes + '\"' + c + '\"' + \",\"                                                                                         (42)\n",
      "                    count = count + 1                                                                                                                   (43)\n",
      "                dbsrc = dbsrc + \" \"*numindent + \"g = locals()\" + '\\n'                                                                                   (44)\n",
      "                dbsrc = dbsrc + \" \"*numindent + dbcodes + '\\n'                                                                                          (45)\n",
      "                dbsrc = dbsrc + l + '\\n'                                                                                                                (46)\n",
      "            else:                                                                                                                                       (47)\n",
      "                dbsrc = dbsrc + l + '\\n'                                                                                                                (48)\n",
      "        elif bool(l.strip()) and idx + 1 == len(lst):                                                                                                   (49)\n",
      "            dbsrc = dbsrc + l                                                                                                                           (50)\n",
      "        elif bool(l.strip()): # make sure pure indentation + \\n is ignored                                                                              (51)\n",
      "            dbsrc = dbsrc + l + '\\n'                                                                                                                    (52)\n",
      "    if showdbsrc: # added to debug                                                                                                                      (53)\n",
      "        print('{:-<60}'.format(colorize(\"showdbsrc=Start\", color=\"y\")))                                                                                 (54)\n",
      "        totallen = 157                                                                                                                                  (55)\n",
      "        lenidx = 5                                                                                                                                      (56)\n",
      "        dblst = dbsrc.split('\\n')                                                                                                                       (57)\n",
      "        for idx, l in zip(range(len(dblst)), dblst):                                                                                                    (58)\n",
      "            lenl = len(l)                                                                                                                               (59)\n",
      "#             if \"dbprintinsert\" in l:                                                                                                                  (60)\n",
      "            if l.strip().startswith(\"dbprintinsert\"):                                                                                                   (61)\n",
      "                print(l + \"=\"*(totallen-lenl-lenidx) + \"(db)\")                                                                                          (62)\n",
      "            else:                                                                                                                                       (63)\n",
      "                print(l + \" \"*(totallen-lenl-lenidx) + \"(\" + str(idx) + \")\")                                                                            (64)\n",
      "        print(f\"before exec, locals(): {list(locals().keys())}\")                                                                                        (65)\n",
      "    exec(dbsrc, globals().update(self.outenv)) # make sure b can access lst from above                                                                  (66)\n",
      "    if showdbsrc:                                                                                                                                       (67)\n",
      "        print(f\"after exec, locals(): {list(locals().keys())}\")                                                                                         (68)\n",
      "        print(f'self.orisrc.__name__: {self.orisrc.__name__}')                                                                                          (69)\n",
      "        print(f'locals()[self.orisrc.__name__]: {locals()[self.orisrc.__name__]}')                                                                      (70)\n",
      "        print('{:-<60}'.format(colorize(\"showdbsrc=End\", color=\"y\")))                                                                                   (71)\n",
      "    return locals()[self.orisrc.__name__]                                                                                                               (72)\n",
      "before exec, locals(): ['self', 'dbcode', 'cmt', 'expand', 'showdbsrc', 'codes', 'src', 'dbsrc', 'indent', 'onedbprint', 'lst', 'newlst', 'i', 'srclines', 'idx', 'l', 'numindent', 'dbcodes', 'count', 'c', 'totallen', 'lenidx', 'dblst', 'lenl']\n",
      "after exec, locals(): ['self', 'dbcode', 'cmt', 'expand', 'showdbsrc', 'codes', 'src', 'dbsrc', 'indent', 'onedbprint', 'lst', 'newlst', 'i', 'srclines', 'idx', 'l', 'numindent', 'dbcodes', 'count', 'c', 'totallen', 'lenidx', 'dblst', 'lenl', 'dbprint']\n",
      "self.orisrc.__name__: dbprint\n",
      "locals()[self.orisrc.__name__]: None\n",
      "\u001b[93mshowdbsrc=End\u001b[0m--------------------------------------\n"
     ]
    }
   ],
   "source": [
    "# this line will udpate or change Fastdb.dbprint again\n",
    "fdb.dbprint(10, \"collect and organize cmt by idx\", \"self.cmts\", \"dbcode\", \"cmt\", showdbsrc=True)"
   ]
  },
  {
   "cell_type": "code",
   "execution_count": null,
   "id": "37c3f29f",
   "metadata": {},
   "outputs": [
    {
     "name": "stdout",
     "output_type": "stream",
     "text": [
      "def whatinside(mo, # module, e.g., `import fastcore.all as fa`, use `fa` here=============(0)       \n",
      "               dun:bool=False, # print all items in __all__===============================(1)       \n",
      "               func:bool=False, # print all user defined functions========================(2)       \n",
      "               clas:bool=False, # print all class objects=================================(3)       \n",
      "               bltin:bool=False, # print all builtin funcs or methods=====================(4)       \n",
      "               lib:bool=False, # print all the modules of the library it belongs to=======(5)       \n",
      "               cal:bool=False # print all callables=======================================(6)       \n",
      "             ): ==========================================================================(7)       \n",
      "    'Check what inside a module: `__all__`, functions, classes, builtins, and callables'==(8)       \n",
      "    dun_all = len(mo.__all__) if hasattr(mo, \"__all__\") else 0============================(9)       \n",
      "                                                                                                                                     part No.1 out of 2 parts\n"
     ]
    }
   ],
   "source": [
    "# Now, use the newly created or updated Fastdb to create an object for debugging whatinside\n",
    "fdbw = Fastdb(whatinside, gw)\n",
    "fdbw.print(10,1)"
   ]
  },
  {
   "cell_type": "code",
   "execution_count": null,
   "id": "2b90652b",
   "metadata": {},
   "outputs": [
    {
     "name": "stdout",
     "output_type": "stream",
     "text": [
      "\n",
      "\n",
      "                                                                                                                                  self.cmts => self.cmts : {}\n",
      "\n",
      "\n",
      "                                                                                                                                         dbcode => dbcode : 9\n",
      "\n",
      "\n",
      "                                                                                                                   cmt => cmt : count num of funcs in __all__\n",
      "             ):                                                                                                                                         (7)\n",
      "    'Check what inside a module: `__all__`, functions, classes, builtins, and callables'                                                                (8)\n",
      "    dun_all = len(mo.__all__) if hasattr(mo, \"__all__\") else 0==========================================================================================(9)\n",
      "                                                                                                                                \u001b[91mcount num of funcs in __all__\u001b[0m\n",
      "    funcs = inspect.getmembers(mo, inspect.isfunction)                                                                                                  (10)\n",
      "    classes = inspect.getmembers(mo, inspect.isclass)                                                                                                   (11)\n",
      "\u001b[93mprint selected srcline with expands above\u001b[0m----------\n",
      "\n",
      "\n",
      "                                                                                                                      type(mo) => type(mo) : <class 'module'>\n",
      "fastdebug.utils has: \n",
      "3 items in its __all__, and \n",
      "122 user defined functions, \n",
      "18 classes or class objects, \n",
      "1 builtin funcs and methods, and\n",
      "143 callables.\n",
      "\n"
     ]
    }
   ],
   "source": [
    "# we are still debugging the same line in whatinside\n",
    "new = fdbw.dbprint(9, \"count num of funcs in __all__\", \"type(mo)\")\n",
    "whatinside = new\n",
    "whatinside(core)"
   ]
  },
  {
   "cell_type": "markdown",
   "id": "ecf9448d",
   "metadata": {},
   "source": [
    "#### Turn Fastdb.dbprint and whatinside back to normal"
   ]
  },
  {
   "cell_type": "code",
   "execution_count": null,
   "id": "b738e6c9",
   "metadata": {},
   "outputs": [],
   "source": [
    "Fastdb.dbprint = fdb.orisrc\n",
    "whatinside = fdbw.orisrc # Important! remember to bring whatinside back to normal after each srcline exploration"
   ]
  },
  {
   "cell_type": "markdown",
   "id": "80292300",
   "metadata": {},
   "source": [
    "### Explore the third line"
   ]
  },
  {
   "cell_type": "code",
   "execution_count": null,
   "id": "181cc33a",
   "metadata": {},
   "outputs": [
    {
     "name": "stdout",
     "output_type": "stream",
     "text": [
      "@patch====================================================================================(0)       \n",
      "def dbprint(self:Fastdb, =================================================================(1)       \n",
      "            dbcode:int, # idx of a srcline under investigation, can only be int===========(2)       \n",
      "            cmt:str, # comment added to the srcline=======================================(3)       \n",
      "            *codes, # a list of expressions (str) you write to be evaluated above the srcline                                                           (4)\n",
      "            expand:int=2, # span 2 lines of srcode up and down from the srcline investigated                                                            (5)\n",
      "            showdbsrc:bool=False): # display dbsrc========================================(6)       \n",
      "    \"Add comment and evaluate custom (single or multi lines) expressions to any srcline of the source code you are investigating\"                       (7)\n",
      "                                                                                                                                                        (8)\n",
      "    src = self.orisrc=====================================================================(9) # keep original src safe\n",
      "    if type(dbcode) == int: self.cmts.update({dbcode: cmt})===============================(10) # collect and organize cmt by idx\n",
      "                                                                                                                                                        (11)\n",
      "    printsrc(src, dbcode, cmt, expand)====================================================(12)      \n",
      "    print('{:-<60}'.format(colorize(\"print selected srcline with expands above\", color=\"y\")))                                                           (13)\n",
      "                                                                                                                                                        (14)\n",
      "    dbsrc = \"\"============================================================================(15)      \n",
      "    indent = 4============================================================================(16)      \n",
      "    onedbprint = False====================================================================(17)      \n",
      "                                                                                                                                                        (18)\n",
      "    lst = inspect.getsource(src).split('\\n')==============================================(19)      \n",
      "                                                                                                                                     part No.1 out of 3 parts\n"
     ]
    }
   ],
   "source": [
    "fdb.print(20, 1)"
   ]
  },
  {
   "cell_type": "code",
   "execution_count": null,
   "id": "f5b4eebd",
   "metadata": {},
   "outputs": [
    {
     "name": "stdout",
     "output_type": "stream",
     "text": [
      "    if type(dbcode) == int: self.cmts.update({dbcode: cmt})                                                                                             (10)\n",
      "                                                                                                                                                        (11)\n",
      "    printsrc(src, dbcode, cmt, expand)==================================================================================================================(12)\n",
      "                                                                                                         \u001b[91mprint srcdoe with comment, idx and specified expands\u001b[0m\n",
      "    print('{:-<60}'.format(colorize(\"print selected srcline with expands above\", color=\"y\")))                                                           (13)\n",
      "                                                                                                                                                        (14)\n",
      "\u001b[93mprint selected srcline with expands above\u001b[0m----------\n",
      "\n",
      "\n",
      "                   inspect.getdoc(printsrc) => inspect.getdoc(printsrc) : print the seleted srcline with comment, idx and specified num of expanding srclines\n",
      "             ):                                                                                                                                         (7)\n",
      "    'Check what inside a module: `__all__`, functions, classes, builtins, and callables'                                                                (8)\n",
      "    dun_all = len(mo.__all__) if hasattr(mo, \"__all__\") else 0==========================================================================================(9)\n",
      "                                                                                                                                \u001b[91mcount num of funcs in __all__\u001b[0m\n",
      "    funcs = inspect.getmembers(mo, inspect.isfunction)                                                                                                  (10)\n",
      "    classes = inspect.getmembers(mo, inspect.isclass)                                                                                                   (11)\n",
      "\u001b[93mprint selected srcline with expands above\u001b[0m----------\n",
      "\n",
      "\n",
      "                                                                                                                      type(mo) => type(mo) : <class 'module'>\n",
      "fastdebug.utils has: \n",
      "3 items in its __all__, and \n",
      "122 user defined functions, \n",
      "18 classes or class objects, \n",
      "1 builtin funcs and methods, and\n",
      "143 callables.\n",
      "\n"
     ]
    }
   ],
   "source": [
    "# update a new Fastdb.dbprint\n",
    "fdb.dbprint(12, \"print srcdoe with comment, idx and specified expands\", \"inspect.getdoc(printsrc)\")\n",
    "# creating a db object on whatinside with new Fastdb.dbprint\n",
    "fdbw = Fastdb(whatinside, gw)\n",
    "# fdbw.print(10, 1)\n",
    "# we are still debuggin the same line in whatinside\n",
    "new = fdbw.dbprint(9, \"count num of funcs in __all__\", \"type(mo)\")\n",
    "whatinside = new\n",
    "whatinside(core)\n",
    "# Turn Fastdb.dbprint and whatinside back to normal\n",
    "Fastdb.dbprint = fdb.orisrc\n",
    "whatinside = fdbw.orisrc # Important! remember to bring whatinside back to normal after each srcline exploration"
   ]
  },
  {
   "cell_type": "code",
   "execution_count": null,
   "id": "bb7d28c9",
   "metadata": {},
   "outputs": [],
   "source": []
  },
  {
   "cell_type": "markdown",
   "id": "be5b0a02",
   "metadata": {},
   "source": [
    "### Explore the fourth line"
   ]
  },
  {
   "cell_type": "code",
   "execution_count": null,
   "id": "0936657b",
   "metadata": {},
   "outputs": [
    {
     "name": "stdout",
     "output_type": "stream",
     "text": [
      "@patch====================================================================================(0)       \n",
      "def dbprint(self:Fastdb, =================================================================(1)       \n",
      "            dbcode:int, # idx of a srcline under investigation, can only be int===========(2)       \n",
      "            cmt:str, # comment added to the srcline=======================================(3)       \n",
      "            *codes, # a list of expressions (str) you write to be evaluated above the srcline                                                           (4)\n",
      "            expand:int=2, # span 2 lines of srcode up and down from the srcline investigated                                                            (5)\n",
      "            showdbsrc:bool=False): # display dbsrc========================================(6)       \n",
      "    \"Add comment and evaluate custom (single or multi lines) expressions to any srcline of the source code you are investigating\"                       (7)\n",
      "                                                                                                                                                        (8)\n",
      "    src = self.orisrc=====================================================================(9) # keep original src safe\n",
      "    if type(dbcode) == int: self.cmts.update({dbcode: cmt})===============================(10) # collect and organize cmt by idx\n",
      "                                                                                                                                                        (11)\n",
      "    printsrc(src, dbcode, cmt, expand)====================================================(12) # print srcdoe with comment, idx and specified expands\n",
      "    print('{:-<60}'.format(colorize(\"print selected srcline with expands above\", color=\"y\")))                                                           (13)\n",
      "                                                                                                                                                        (14)\n",
      "    dbsrc = \"\"============================================================================(15)      \n",
      "    indent = 4============================================================================(16)      \n",
      "    onedbprint = False====================================================================(17)      \n",
      "                                                                                                                                                        (18)\n",
      "    lst = inspect.getsource(src).split('\\n')==============================================(19)      \n",
      "                                                                                                                                     part No.1 out of 3 parts\n"
     ]
    }
   ],
   "source": [
    "fdb.print(20, 1)"
   ]
  },
  {
   "cell_type": "code",
   "execution_count": null,
   "id": "80ebad5a",
   "metadata": {},
   "outputs": [
    {
     "name": "stdout",
     "output_type": "stream",
     "text": [
      "                                                                                                                                                        (14)\n",
      "    dbsrc = \"\"                                                                                                                                          (15)\n",
      "    indent = 4==========================================================================================================================================(16)\n",
      "                                                                                                             \u001b[91mmake sure only one srcline is selected at a time\u001b[0m\n",
      "    onedbprint = False                                                                                                                                  (17)\n",
      "                                                                                                                                                        (18)\n",
      "\u001b[93mprint selected srcline with expands above\u001b[0m----------\n",
      "             ):                                                                                                                                         (7)\n",
      "    'Check what inside a module: `__all__`, functions, classes, builtins, and callables'                                                                (8)\n",
      "    dun_all = len(mo.__all__) if hasattr(mo, \"__all__\") else 0==========================================================================================(9)\n",
      "                                                                                                                                \u001b[91mcount num of funcs in __all__\u001b[0m\n",
      "    funcs = inspect.getmembers(mo, inspect.isfunction)                                                                                                  (10)\n",
      "    classes = inspect.getmembers(mo, inspect.isclass)                                                                                                   (11)\n",
      "\u001b[93mprint selected srcline with expands above\u001b[0m----------\n",
      "\n",
      "\n",
      "                                                                                                                      type(mo) => type(mo) : <class 'module'>\n",
      "fastdebug.utils has: \n",
      "3 items in its __all__, and \n",
      "122 user defined functions, \n",
      "18 classes or class objects, \n",
      "1 builtin funcs and methods, and\n",
      "143 callables.\n",
      "\n"
     ]
    }
   ],
   "source": [
    "# update a new Fastdb.dbprint\n",
    "fdb.dbprint(16, \"make sure only one srcline is selected at a time\")\n",
    "# creating a db object on whatinside with new Fastdb.dbprint\n",
    "fdbw = Fastdb(whatinside, gw)\n",
    "# fdbw.print(10, 1)\n",
    "# we are still debuggin the same line in whatinside\n",
    "new = fdbw.dbprint(9, \"count num of funcs in __all__\", \"type(mo)\")\n",
    "whatinside = new\n",
    "whatinside(core)\n",
    "# Turn Fastdb.dbprint and whatinside back to normal\n",
    "Fastdb.dbprint = fdb.orisrc\n",
    "whatinside = fdbw.orisrc # Important! remember to bring whatinside back to normal after each srcline exploration"
   ]
  },
  {
   "cell_type": "code",
   "execution_count": null,
   "id": "9df01fa5",
   "metadata": {},
   "outputs": [],
   "source": []
  },
  {
   "cell_type": "markdown",
   "id": "05a8346a",
   "metadata": {},
   "source": [
    "### Explore the fifth line"
   ]
  },
  {
   "cell_type": "code",
   "execution_count": null,
   "id": "a0249cca",
   "metadata": {},
   "outputs": [
    {
     "name": "stdout",
     "output_type": "stream",
     "text": [
      "@patch====================================================================================(0)       \n",
      "def dbprint(self:Fastdb, =================================================================(1)       \n",
      "            dbcode:int, # idx of a srcline under investigation, can only be int===========(2)       \n",
      "            cmt:str, # comment added to the srcline=======================================(3)       \n",
      "            *codes, # a list of expressions (str) you write to be evaluated above the srcline                                                           (4)\n",
      "            expand:int=2, # span 2 lines of srcode up and down from the srcline investigated                                                            (5)\n",
      "            showdbsrc:bool=False): # display dbsrc========================================(6)       \n",
      "    \"Add comment and evaluate custom (single or multi lines) expressions to any srcline of the source code you are investigating\"                       (7)\n",
      "                                                                                                                                                        (8)\n",
      "    src = self.orisrc=====================================================================(9) # keep original src safe\n",
      "    if type(dbcode) == int: self.cmts.update({dbcode: cmt})===============================(10) # collect and organize cmt by idx\n",
      "                                                                                                                                                        (11)\n",
      "    printsrc(src, dbcode, cmt, expand)====================================================(12) # print srcdoe with comment, idx and specified expands\n",
      "    print('{:-<60}'.format(colorize(\"print selected srcline with expands above\", color=\"y\")))                                                           (13)\n",
      "                                                                                                                                                        (14)\n",
      "    dbsrc = \"\"============================================================================(15)      \n",
      "    indent = 4============================================================================(16) # make sure only one srcline is selected at a time\n",
      "    onedbprint = False====================================================================(17)      \n",
      "                                                                                                                                                        (18)\n",
      "    lst = inspect.getsource(src).split('\\n')==============================================(19)      \n",
      "                                                                                                                                     part No.1 out of 3 parts\n"
     ]
    }
   ],
   "source": [
    "fdb.print(20, 1)"
   ]
  },
  {
   "cell_type": "code",
   "execution_count": null,
   "id": "463b9bb5",
   "metadata": {},
   "outputs": [
    {
     "name": "stdout",
     "output_type": "stream",
     "text": [
      "    onedbprint = False                                                                                                                                  (17)\n",
      "                                                                                                                                                        (18)\n",
      "    lst = inspect.getsource(src).split('\\n')============================================================================================================(19)\n",
      "                                                                                                                          \u001b[91mremove the last line if it is empty\u001b[0m\n",
      "    if not bool(lst[-1]): lst = lst[:-1]                                                                                                                (20)\n",
      "                                                                                                                                                        (21)\n",
      "\u001b[93mprint selected srcline with expands above\u001b[0m----------\n",
      "             ):                                                                                                                                         (7)\n",
      "    'Check what inside a module: `__all__`, functions, classes, builtins, and callables'                                                                (8)\n",
      "    dun_all = len(mo.__all__) if hasattr(mo, \"__all__\") else 0==========================================================================================(9)\n",
      "                                                                                                                                \u001b[91mcount num of funcs in __all__\u001b[0m\n",
      "    funcs = inspect.getmembers(mo, inspect.isfunction)                                                                                                  (10)\n",
      "    classes = inspect.getmembers(mo, inspect.isclass)                                                                                                   (11)\n",
      "\u001b[93mprint selected srcline with expands above\u001b[0m----------\n",
      "\n",
      "\n",
      "                                                                                                                      type(mo) => type(mo) : <class 'module'>\n",
      "fastdebug.utils has: \n",
      "3 items in its __all__, and \n",
      "122 user defined functions, \n",
      "18 classes or class objects, \n",
      "1 builtin funcs and methods, and\n",
      "143 callables.\n",
      "\n"
     ]
    }
   ],
   "source": [
    "# update a new Fastdb.dbprint\n",
    "fdb.dbprint(19, \"remove the last line if it is empty\")\n",
    "# creating a db object on whatinside with new Fastdb.dbprint\n",
    "fdbw = Fastdb(whatinside, gw)\n",
    "# fdbw.print(10, 1)\n",
    "# we are still debuggin the same line in whatinside\n",
    "new = fdbw.dbprint(9, \"count num of funcs in __all__\", \"type(mo)\")\n",
    "whatinside = new\n",
    "whatinside(core)\n",
    "# Turn Fastdb.dbprint and whatinside back to normal\n",
    "Fastdb.dbprint = fdb.orisrc\n",
    "whatinside = fdbw.orisrc # Important! remember to bring whatinside back to normal after each srcline exploration"
   ]
  },
  {
   "cell_type": "code",
   "execution_count": null,
   "id": "aee451e6",
   "metadata": {},
   "outputs": [],
   "source": []
  },
  {
   "cell_type": "markdown",
   "id": "4a945119",
   "metadata": {},
   "source": [
    "### Explore the 6th line"
   ]
  },
  {
   "cell_type": "code",
   "execution_count": null,
   "id": "e04d4173",
   "metadata": {},
   "outputs": [
    {
     "name": "stdout",
     "output_type": "stream",
     "text": [
      "    dbsrc = \"\"============================================================================(15)      \n",
      "    indent = 4============================================================================(16) # make sure only one srcline is selected at a time\n",
      "    onedbprint = False====================================================================(17)      \n",
      "                                                                                                                                                        (18)\n",
      "    lst = inspect.getsource(src).split('\\n')==============================================(19) # remove the last line if it is empty\n",
      "    if not bool(lst[-1]): lst = lst[:-1]==================================================(20)      \n",
      "                                                                                                                                                        (21)\n",
      "    newlst = []===========================================================================(22)      \n",
      "    for i in codes: # no matter whether there is \"\" or \"  \" in the front or in the middle of codes                                                      (23)\n",
      "        if bool(i.strip()): newlst.append(i)==============================================(24)      \n",
      "    codes = newlst========================================================================(25)      \n",
      "                                                                                                                                                        (26)\n",
      "    srclines = \"\"=========================================================================(27)      \n",
      "    if type(dbcode) == int:===============================================================(28)      \n",
      "        srclines = lst[dbcode]============================================================(29)      \n",
      "                                                                                                                                     part No.2 out of 3 parts\n"
     ]
    }
   ],
   "source": [
    "fdb.print(15, 2)"
   ]
  },
  {
   "cell_type": "code",
   "execution_count": null,
   "id": "e97e4116",
   "metadata": {},
   "outputs": [
    {
     "name": "stdout",
     "output_type": "stream",
     "text": [
      "    newlst = []                                                                                                                                         (22)\n",
      "    for i in codes: # no matter whether there is \"\" or \"  \" in the front or in the middle of codes                                                      (23)\n",
      "        if bool(i.strip()): newlst.append(i)============================================================================================================(24)\n",
      "                                                                                                     \u001b[91musers can put '' and '  ' as codes, but will be ignored.\u001b[0m\n",
      "    codes = newlst                                                                                                                                      (25)\n",
      "                                                                                                                                                        (26)\n",
      "\u001b[93mprint selected srcline with expands above\u001b[0m----------\n",
      "             ):                                                                                                                                         (7)\n",
      "    'Check what inside a module: `__all__`, functions, classes, builtins, and callables'                                                                (8)\n",
      "    dun_all = len(mo.__all__) if hasattr(mo, \"__all__\") else 0==========================================================================================(9)\n",
      "                                                                                                                                \u001b[91mcount num of funcs in __all__\u001b[0m\n",
      "    funcs = inspect.getmembers(mo, inspect.isfunction)                                                                                                  (10)\n",
      "    classes = inspect.getmembers(mo, inspect.isclass)                                                                                                   (11)\n",
      "\u001b[93mprint selected srcline with expands above\u001b[0m----------\n",
      "\n",
      "\n",
      "                                                                                                                      type(mo) => type(mo) : <class 'module'>\n",
      "fastdebug.utils has: \n",
      "3 items in its __all__, and \n",
      "122 user defined functions, \n",
      "18 classes or class objects, \n",
      "1 builtin funcs and methods, and\n",
      "143 callables.\n",
      "\n"
     ]
    }
   ],
   "source": [
    "# update a new Fastdb.dbprint\n",
    "fdb.dbprint(24, \"users can put '' and '  ' as codes, but will be ignored.\")\n",
    "# creating a db object on whatinside with new Fastdb.dbprint\n",
    "fdbw = Fastdb(whatinside, gw)\n",
    "# fdbw.print(10, 1)\n",
    "# we are still debuggin the same line in whatinside\n",
    "new = fdbw.dbprint(9, \"count num of funcs in __all__\", \"type(mo)\")\n",
    "whatinside = new\n",
    "whatinside(core)\n",
    "# Turn Fastdb.dbprint and whatinside back to normal\n",
    "Fastdb.dbprint = fdb.orisrc\n",
    "whatinside = fdbw.orisrc # Important! remember to bring whatinside back to normal after each srcline exploration"
   ]
  },
  {
   "cell_type": "code",
   "execution_count": null,
   "id": "97b13618",
   "metadata": {},
   "outputs": [],
   "source": []
  },
  {
   "cell_type": "markdown",
   "id": "c03e069e",
   "metadata": {},
   "source": [
    "### Explore the 7th line"
   ]
  },
  {
   "cell_type": "code",
   "execution_count": null,
   "id": "cb656c0d",
   "metadata": {},
   "outputs": [
    {
     "name": "stdout",
     "output_type": "stream",
     "text": [
      "    if not bool(lst[-1]): lst = lst[:-1]==================================================(20)      \n",
      "                                                                                                                                                        (21)\n",
      "    newlst = []===========================================================================(22)      \n",
      "    for i in codes: # no matter whether there is \"\" or \"  \" in the front or in the middle of codes                                                      (23)\n",
      "        if bool(i.strip()): newlst.append(i)==============================================(24) # users can put '' and '  ' as codes, but will be ignored.\n",
      "    codes = newlst========================================================================(25)      \n",
      "                                                                                                                                                        (26)\n",
      "    srclines = \"\"=========================================================================(27)      \n",
      "    if type(dbcode) == int:===============================================================(28)      \n",
      "        srclines = lst[dbcode]============================================================(29)      \n",
      "    else:=================================================================================(30)      \n",
      "        colwarn = colorize(\"Warning!\", color=\"r\")=========================================(31)      \n",
      "        colmsg = colorize(\" param decode has to be an int as idx.\", color=\"y\")============(32)      \n",
      "        print(colwarn + colmsg)===========================================================(33)      \n",
      "#         srclines = dbcode===============================================================(34)      \n",
      "        return============================================================================(35)      \n",
      "                                                                                                                                                        (36)\n",
      "    for idx, l in zip(range(len(lst)), lst):==============================================(37)      \n",
      "                                                                                                                                                        (38)\n",
      "        if bool(l.strip()) and l.strip() in srclines and idx == dbcode:===================(39)      \n",
      "                                                                                                                                     part No.2 out of 3 parts\n"
     ]
    }
   ],
   "source": [
    "fdb.print(20, 2)"
   ]
  },
  {
   "cell_type": "code",
   "execution_count": null,
   "id": "2099d859",
   "metadata": {},
   "outputs": [
    {
     "name": "stdout",
     "output_type": "stream",
     "text": [
      "                                                                                                                                                        (26)\n",
      "    srclines = \"\"                                                                                                                                       (27)\n",
      "    if type(dbcode) == int:=============================================================================================================================(28)\n",
      "                                                                                           \u001b[91mturn idx of srcline into string if decode is not already a string.\u001b[0m\n",
      "        srclines = lst[dbcode]                                                                                                                          (29)\n",
      "    else:                                                                                                                                               (30)\n",
      "\u001b[93mprint selected srcline with expands above\u001b[0m----------\n",
      "             ):                                                                                                                                         (7)\n",
      "    'Check what inside a module: `__all__`, functions, classes, builtins, and callables'                                                                (8)\n",
      "    dun_all = len(mo.__all__) if hasattr(mo, \"__all__\") else 0==========================================================================================(9)\n",
      "                                                                                                                                \u001b[91mcount num of funcs in __all__\u001b[0m\n",
      "    funcs = inspect.getmembers(mo, inspect.isfunction)                                                                                                  (10)\n",
      "    classes = inspect.getmembers(mo, inspect.isclass)                                                                                                   (11)\n",
      "\u001b[93mprint selected srcline with expands above\u001b[0m----------\n",
      "\n",
      "\n",
      "                                                                                                                      type(mo) => type(mo) : <class 'module'>\n",
      "fastdebug.utils has: \n",
      "3 items in its __all__, and \n",
      "122 user defined functions, \n",
      "18 classes or class objects, \n",
      "1 builtin funcs and methods, and\n",
      "143 callables.\n",
      "\n"
     ]
    }
   ],
   "source": [
    "# update a new Fastdb.dbprint\n",
    "fdb.dbprint(28, \"turn idx of srcline into string if decode is not already a string.\")\n",
    "# creating a db object on whatinside with new Fastdb.dbprint\n",
    "fdbw = Fastdb(whatinside, gw)\n",
    "# fdbw.print(10, 1)\n",
    "# we are still debuggin the same line in whatinside\n",
    "new = fdbw.dbprint(9, \"count num of funcs in __all__\", \"type(mo)\")\n",
    "whatinside = new\n",
    "whatinside(core)\n",
    "# Turn Fastdb.dbprint and whatinside back to normal\n",
    "Fastdb.dbprint = fdb.orisrc\n",
    "whatinside = fdbw.orisrc # Important! remember to bring whatinside back to normal after each srcline exploration"
   ]
  },
  {
   "cell_type": "code",
   "execution_count": null,
   "id": "dea1893c",
   "metadata": {},
   "outputs": [],
   "source": []
  },
  {
   "cell_type": "markdown",
   "id": "7bbba275",
   "metadata": {},
   "source": [
    "### Explore the 8th line"
   ]
  },
  {
   "cell_type": "code",
   "execution_count": null,
   "id": "35d41ef9",
   "metadata": {},
   "outputs": [
    {
     "name": "stdout",
     "output_type": "stream",
     "text": [
      "    if not bool(lst[-1]): lst = lst[:-1]==================================================(20)      \n",
      "                                                                                                                                                        (21)\n",
      "    newlst = []===========================================================================(22)      \n",
      "    for i in codes: # no matter whether there is \"\" or \"  \" in the front or in the middle of codes                                                      (23)\n",
      "        if bool(i.strip()): newlst.append(i)==============================================(24) # users can put '' and '  ' as codes, but will be ignored.\n",
      "    codes = newlst========================================================================(25)      \n",
      "                                                                                                                                                        (26)\n",
      "    srclines = \"\"=========================================================================(27)      \n",
      "    if type(dbcode) == int:===============================================================(28) # turn idx of srcline into string if decode is not already a string.\n",
      "        srclines = lst[dbcode]============================================================(29)      \n",
      "    else:=================================================================================(30)      \n",
      "        colwarn = colorize(\"Warning!\", color=\"r\")=========================================(31)      \n",
      "        colmsg = colorize(\" param decode has to be an int as idx.\", color=\"y\")============(32)      \n",
      "        print(colwarn + colmsg)===========================================================(33)      \n",
      "#         srclines = dbcode===============================================================(34)      \n",
      "        return============================================================================(35)      \n",
      "                                                                                                                                                        (36)\n",
      "    for idx, l in zip(range(len(lst)), lst):==============================================(37)      \n",
      "                                                                                                                                                        (38)\n",
      "        if bool(l.strip()) and l.strip() in srclines and idx == dbcode:===================(39)      \n",
      "                                                                                                                                     part No.2 out of 3 parts\n"
     ]
    }
   ],
   "source": [
    "fdb.print(20, 2)"
   ]
  },
  {
   "cell_type": "code",
   "execution_count": null,
   "id": "eaefe41f",
   "metadata": {},
   "outputs": [
    {
     "name": "stdout",
     "output_type": "stream",
     "text": [
      "        colmsg = colorize(\" param decode has to be an int as idx.\", color=\"y\")                                                                          (32)\n",
      "        print(colwarn + colmsg)                                                                                                                         (33)\n",
      "#         srclines = dbcode=============================================================================================================================(34)\n",
      "                                                                                                             \u001b[91mWarning message if decode is not an int for idx.\u001b[0m\n",
      "        return                                                                                                                                          (35)\n",
      "                                                                                                                                                        (36)\n",
      "\u001b[93mprint selected srcline with expands above\u001b[0m----------\n",
      "             ):                                                                                                                                         (7)\n",
      "    'Check what inside a module: `__all__`, functions, classes, builtins, and callables'                                                                (8)\n",
      "    dun_all = len(mo.__all__) if hasattr(mo, \"__all__\") else 0==========================================================================================(9)\n",
      "                                                                                                                                \u001b[91mcount num of funcs in __all__\u001b[0m\n",
      "    funcs = inspect.getmembers(mo, inspect.isfunction)                                                                                                  (10)\n",
      "    classes = inspect.getmembers(mo, inspect.isclass)                                                                                                   (11)\n",
      "\u001b[93mprint selected srcline with expands above\u001b[0m----------\n",
      "\n",
      "\n",
      "                                                                                                                      type(mo) => type(mo) : <class 'module'>\n",
      "fastdebug.utils has: \n",
      "3 items in its __all__, and \n",
      "122 user defined functions, \n",
      "18 classes or class objects, \n",
      "1 builtin funcs and methods, and\n",
      "143 callables.\n",
      "\n"
     ]
    }
   ],
   "source": [
    "# update a new Fastdb.dbprint\n",
    "fdb.dbprint(34, \"Warning message if decode is not an int for idx.\")\n",
    "# creating a db object on whatinside with new Fastdb.dbprint\n",
    "fdbw = Fastdb(whatinside, gw)\n",
    "# fdbw.print(10, 1)\n",
    "# we are still debuggin the same line in whatinside\n",
    "new = fdbw.dbprint(9, \"count num of funcs in __all__\", \"type(mo)\")\n",
    "whatinside = new\n",
    "whatinside(core)\n",
    "# Turn Fastdb.dbprint and whatinside back to normal\n",
    "Fastdb.dbprint = fdb.orisrc\n",
    "whatinside = fdbw.orisrc # Important! remember to bring whatinside back to normal after each srcline exploration"
   ]
  },
  {
   "cell_type": "markdown",
   "id": "a5dacd81",
   "metadata": {},
   "source": [
    "## Make the above a function"
   ]
  },
  {
   "cell_type": "code",
   "execution_count": null,
   "id": "c2ec0a26",
   "metadata": {},
   "outputs": [],
   "source": [
    "# def dbdb(pmax, # max display of src per cell\n",
    "#          pt, # which part \n",
    "#          idx, # idx of srcline\n",
    "#          cmt, # comment\n",
    "#          *codes):  # codes\n",
    "#     global whatinside, fdbw, fdb, Fastdb, gw, g\n",
    "#     # print the srcode with specified length and part\n",
    "#     if bool(pmax): fdb.print(pmax, pt) # if pmax == 0, then no printing src\n",
    "    \n",
    "#     if bool(idx):\n",
    "#         # update a new Fastdb.dbprint\n",
    "#         fdb.dbprint(idx, cmt, *codes)\n",
    "#         # creating a db object on whatinside with new Fastdb.dbprint\n",
    "#         fdbw = Fastdb(whatinside, gw)\n",
    "#         # fdbw.print(10, 1)\n",
    "#         # we are still debuggin the same line in whatinside\n",
    "#         new = fdbw.dbprint(9, \"count num of funcs in __all__\", \"type(mo)\")\n",
    "#         whatinside = new\n",
    "#         whatinside(core)\n",
    "#         # Turn Fastdb.dbprint and whatinside back to normal\n",
    "#         Fastdb.dbprint = fdb.orisrc\n",
    "#         whatinside = fdbw.orisrc # Important! remember to bring whatinside back to normal after each srcline exploration\n",
    "#     else:\n",
    "#         pass"
   ]
  },
  {
   "cell_type": "markdown",
   "id": "1b1126f1",
   "metadata": {},
   "source": [
    "### Print the srcode at the end"
   ]
  },
  {
   "cell_type": "code",
   "execution_count": null,
   "id": "80d37015",
   "metadata": {},
   "outputs": [],
   "source": [
    "def dbdb(pmax, # max display of src per cell\n",
    "         pt, # which part \n",
    "         idx, # idx of srcline\n",
    "         cmt, # comment\n",
    "         *codes, # codes\n",
    "         db=False):\n",
    "    global whatinside, fdbw, fdb, Fastdb, gw, g\n",
    "\n",
    "    \n",
    "    if bool(idx):\n",
    "        # update a new Fastdb.dbprint\n",
    "        fdb.dbprint(idx, cmt, *codes, showdbsrc=db)\n",
    "        # creating a db object on whatinside with new Fastdb.dbprint\n",
    "        fdbw = Fastdb(whatinside, gw)\n",
    "        # fdbw.print(10, 1)\n",
    "        # we are still debuggin the same line in whatinside\n",
    "        new = fdbw.dbprint(9, \"count num of funcs in __all__\", \"type(mo)\")\n",
    "        whatinside = new\n",
    "        whatinside(core)\n",
    "        # Turn Fastdb.dbprint and whatinside back to normal\n",
    "        Fastdb.dbprint = fdb.orisrc\n",
    "        whatinside = fdbw.orisrc # Important! remember to bring whatinside back to normal after each srcline exploration\n",
    "    else:\n",
    "        pass\n",
    "    \n",
    "    # print the srcode with specified length and part\n",
    "    if bool(pmax): fdb.print(pmax, pt) # if pmax == 0, then no printing src"
   ]
  },
  {
   "cell_type": "markdown",
   "id": "91a6bac1",
   "metadata": {},
   "source": [
    "### Print the srcode at the end and automatically adjust the number of srclines using idx"
   ]
  },
  {
   "cell_type": "code",
   "execution_count": null,
   "id": "39c3cf95",
   "metadata": {},
   "outputs": [],
   "source": [
    "def dbdb(idx, # idx of srcline\n",
    "         cmt, # comment\n",
    "         *codes, # codes\n",
    "         db=False,\n",
    "         full=False):\n",
    "    global whatinside, fdbw, fdb, Fastdb, gw, g\n",
    "\n",
    "    \n",
    "    if bool(idx):\n",
    "        # update a new Fastdb.dbprint\n",
    "        fdb.dbprint(idx, cmt, *codes, showdbsrc=db)\n",
    "        # creating a db object on whatinside with new Fastdb.dbprint\n",
    "        fdbw = Fastdb(whatinside, gw)\n",
    "        # fdbw.print(10, 1)\n",
    "        # we are still debuggin the same line in whatinside\n",
    "        new = fdbw.dbprint(9, \"count num of funcs in __all__\", \"type(mo)\")\n",
    "        whatinside = new\n",
    "        whatinside(core)\n",
    "        # Turn Fastdb.dbprint and whatinside back to normal\n",
    "        Fastdb.dbprint = fdb.orisrc\n",
    "        whatinside = fdbw.orisrc # Important! remember to bring whatinside back to normal after each srcline exploration\n",
    "    else:\n",
    "        pass\n",
    "    \n",
    "    totalines = len(inspect.getsource(fdb.orisrc).split('\\n'))\n",
    "    maxpcell = 33\n",
    "    pt = idx // maxpcell\n",
    "    if full:\n",
    "        fdb.print()\n",
    "    elif idx > maxpcell and idx % maxpcell != 0:\n",
    "        fdb.print(maxpcell, pt + 1)\n",
    "    else:\n",
    "        fdb.print(maxpcell, 1)\n"
   ]
  },
  {
   "cell_type": "markdown",
   "id": "a16dc213",
   "metadata": {},
   "source": [
    "### which dbprint to use db=True"
   ]
  },
  {
   "cell_type": "code",
   "execution_count": null,
   "id": "0a78bf55",
   "metadata": {},
   "outputs": [],
   "source": [
    "def dbdb(idx, # idx of srcline\n",
    "         cmt, # comment\n",
    "         *codes, # codes\n",
    "         db=False,\n",
    "         full=False):\n",
    "    global whatinside, fdbw, fdb, Fastdb, gw, g\n",
    "\n",
    "    \n",
    "    if bool(idx):\n",
    "        # update a new Fastdb.dbprint\n",
    "#         fdb.dbprint(idx, cmt, *codes, showdbsrc=db)\n",
    "        fdb.dbprint(idx, cmt, *codes, showdbsrc=db)\n",
    "        print(\"\\n\")\n",
    "        print('{:-<157}'.format(colorize(\"writing dbcodes into Fastdb.dbprint is done above\", color=\"y\")))\n",
    "        print(\"\\n\")\n",
    "        # creating a db object on whatinside with new Fastdb.dbprint\n",
    "        fdbw = Fastdb(whatinside, gw)\n",
    "        # fdbw.print(10, 1)\n",
    "        # we are still debuggin the same line in whatinside\n",
    "        new = fdbw.dbprint(9, \"count num of funcs in __all__\", \"type(mo)\", showdbsrc=db)\n",
    "        print(\"\\n\")\n",
    "        print('{:-<157}'.format(colorize(\"using db Fastdb.dbprint to create db whatinside is done\", color=\"y\")))\n",
    "        print(\"\\n\")\n",
    "        whatinside = new\n",
    "        whatinside(core)\n",
    "        print(\"\\n\")\n",
    "        print('{:-<157}'.format(colorize(\"using db whatinside to run example on core above\", color=\"y\")))\n",
    "        print(\"\\n\")        \n",
    "        # Turn Fastdb.dbprint and whatinside back to normal\n",
    "        Fastdb.dbprint = fdb.orisrc\n",
    "        whatinside = fdbw.orisrc # Important! remember to bring whatinside back to normal after each srcline exploration\n",
    "    else:\n",
    "        pass\n",
    "    \n",
    "    totalines = len(inspect.getsource(fdb.orisrc).split('\\n'))\n",
    "    maxpcell = 33\n",
    "    pt = idx // maxpcell\n",
    "    if full:\n",
    "        fdb.print()\n",
    "    elif idx > maxpcell and idx % maxpcell != 0:\n",
    "        fdb.print(maxpcell, pt + 1)\n",
    "    else:\n",
    "        fdb.print(maxpcell, 1)\n"
   ]
  },
  {
   "cell_type": "code",
   "execution_count": null,
   "id": "79c7658f",
   "metadata": {},
   "outputs": [
    {
     "name": "stdout",
     "output_type": "stream",
     "text": [
      "#         srclines = dbcode                                                                                                                             (34)\n",
      "        return                                                                                                                                          (35)\n",
      "    for idx, l in zip(range(len(lst)), lst):                                                                                                            (37)\n",
      "                                                                                                                                                        (38)\n",
      "\u001b[93mprint selected srcline with expands above\u001b[0m----------\n",
      "\n",
      "\n",
      "\u001b[93mwriting dbcodes into Fastdb.dbprint is done above\u001b[0m---------------------------------------------------------------------------------------------------\n",
      "\n",
      "\n",
      "             ):                                                                                                                                         (7)\n",
      "    'Check what inside a module: `__all__`, functions, classes, builtins, and callables'                                                                (8)\n",
      "    dun_all = len(mo.__all__) if hasattr(mo, \"__all__\") else 0==========================================================================================(9)\n",
      "                                                                                                                                \u001b[91mcount num of funcs in __all__\u001b[0m\n",
      "    funcs = inspect.getmembers(mo, inspect.isfunction)                                                                                                  (10)\n",
      "    classes = inspect.getmembers(mo, inspect.isclass)                                                                                                   (11)\n",
      "\u001b[93mprint selected srcline with expands above\u001b[0m----------\n",
      "\n",
      "\n",
      "\u001b[93musing db Fastdb.dbprint to create db whatinside is done\u001b[0m---------------------------------------------------------------------------------------------\n",
      "\n",
      "\n",
      "\n",
      "\n",
      "                                                                                                                      type(mo) => type(mo) : <class 'module'>\n",
      "fastdebug.utils has: \n",
      "3 items in its __all__, and \n",
      "122 user defined functions, \n",
      "18 classes or class objects, \n",
      "1 builtin funcs and methods, and\n",
      "143 callables.\n",
      "\n",
      "\n",
      "\n",
      "\u001b[93musing db whatinside to run example on core above\u001b[0m----------------------------------------------------------------------------------------------------\n",
      "\n",
      "\n",
      "        print(colwarn + colmsg)===========================================================(33)      \n",
      "#         srclines = dbcode===============================================================(34) # Warning message if decode is not an int for idx.\n",
      "        return============================================================================(35)      \n",
      "                                                                                                                                                        (36)\n",
      "    for idx, l in zip(range(len(lst)), lst):==============================================(37)      \n",
      "                                                                                                                                                        (38)\n",
      "        if bool(l.strip()) and l.strip() in srclines and idx == dbcode:===================(39)      \n",
      "                                                                                                                                                        (40)\n",
      "            if len(codes) > 0: ===========================================================(41)      \n",
      "                numindent = len(l) - len(l.lstrip()) # make sure indent not messed up by trailing spaces                                                (42)\n",
      "                dbcodes = \"dbprintinsert(\"================================================(43)      \n",
      "                count = 1=================================================================(44)      \n",
      "                for c in codes:===========================================================(45)      \n",
      "                    if count == len(codes):===============================================(46)      \n",
      "                        dbcodes = dbcodes + '\"' + c + '\"' + \",\" + \"env=g\" + \")\"===========(47)      \n",
      "                    else:=================================================================(48)      \n",
      "                        dbcodes = dbcodes + '\"' + c + '\"' + \",\"===========================(49)      \n",
      "                    count = count + 1=====================================================(50)      \n",
      "                                                                                                                                                        (51)\n",
      "                dbsrc = dbsrc + \" \"*numindent + \"g = locals()\" + '\\n'=====================(52)      \n",
      "                dbsrc = dbsrc + \" \"*numindent + dbcodes + '\\n'============================(53)      \n",
      "                dbsrc = dbsrc + l + '\\n'     =============================================(54)      \n",
      "            else:=========================================================================(55)      \n",
      "                dbsrc = dbsrc + l + '\\n'                ==================================(56)      \n",
      "                                                                                                                                                        (57)\n",
      "        elif bool(l.strip()) and idx + 1 == len(lst):=====================================(58)      \n",
      "            dbsrc = dbsrc + l=============================================================(59)      \n",
      "                                                                                                                                                        (60)\n",
      "        elif bool(l.strip()): # make sure pure indentation + \\n is ignored================(61)      \n",
      "            dbsrc = dbsrc + l + '\\n'======================================================(62)      \n",
      "                                                                                                                                                        (63)\n",
      "    if showdbsrc: # added to debug========================================================(64)      \n",
      "        print('{:-<60}'.format(colorize(\"showdbsrc=Start\", color=\"y\")))===================(65)      \n",
      "                                                                                                                                     part No.2 out of 3 parts\n"
     ]
    }
   ],
   "source": [
    "dbdb(36, \"loop every srcline with idx\", \"len(lst)\")"
   ]
  },
  {
   "cell_type": "code",
   "execution_count": null,
   "id": "f1c8c53c",
   "metadata": {},
   "outputs": [
    {
     "name": "stdout",
     "output_type": "stream",
     "text": [
      "                                                                                                                                                        (36)\n",
      "    for idx, l in zip(range(len(lst)), lst):                                                                                                            (37)\n",
      "        if bool(l.strip()) and l.strip() in srclines and idx == dbcode:                                                                                 (39)\n",
      "                                                                                                                                                        (40)\n",
      "\u001b[93mprint selected srcline with expands above\u001b[0m----------\n",
      "\n",
      "\n",
      "\u001b[93mwriting dbcodes into Fastdb.dbprint is done above\u001b[0m---------------------------------------------------------------------------------------------------\n",
      "\n",
      "\n",
      "             ):                                                                                                                                         (7)\n",
      "    'Check what inside a module: `__all__`, functions, classes, builtins, and callables'                                                                (8)\n",
      "    dun_all = len(mo.__all__) if hasattr(mo, \"__all__\") else 0==========================================================================================(9)\n",
      "                                                                                                                                \u001b[91mcount num of funcs in __all__\u001b[0m\n",
      "    funcs = inspect.getmembers(mo, inspect.isfunction)                                                                                                  (10)\n",
      "    classes = inspect.getmembers(mo, inspect.isclass)                                                                                                   (11)\n",
      "\u001b[93mprint selected srcline with expands above\u001b[0m----------\n",
      "\n",
      "\n",
      "\u001b[93musing db Fastdb.dbprint to create db whatinside is done\u001b[0m---------------------------------------------------------------------------------------------\n",
      "\n",
      "\n",
      "\n",
      "\n",
      "                                                                                                                      type(mo) => type(mo) : <class 'module'>\n",
      "fastdebug.utils has: \n",
      "3 items in its __all__, and \n",
      "122 user defined functions, \n",
      "18 classes or class objects, \n",
      "1 builtin funcs and methods, and\n",
      "143 callables.\n",
      "\n",
      "\n",
      "\n",
      "\u001b[93musing db whatinside to run example on core above\u001b[0m----------------------------------------------------------------------------------------------------\n",
      "\n",
      "\n",
      "        print(colwarn + colmsg)===========================================================(33)      \n",
      "#         srclines = dbcode===============================================================(34) # Warning message if decode is not an int for idx.\n",
      "        return============================================================================(35)      \n",
      "                                                                                                                                                        (36)\n",
      "    for idx, l in zip(range(len(lst)), lst):==============================================(37)      \n",
      "                                                                                                                                                        (38)\n",
      "        if bool(l.strip()) and l.strip() in srclines and idx == dbcode:===================(39)      \n",
      "                                                                                                                                                        (40)\n",
      "            if len(codes) > 0: ===========================================================(41)      \n",
      "                numindent = len(l) - len(l.lstrip()) # make sure indent not messed up by trailing spaces                                                (42)\n",
      "                dbcodes = \"dbprintinsert(\"================================================(43)      \n",
      "                count = 1=================================================================(44)      \n",
      "                for c in codes:===========================================================(45)      \n",
      "                    if count == len(codes):===============================================(46)      \n",
      "                        dbcodes = dbcodes + '\"' + c + '\"' + \",\" + \"env=g\" + \")\"===========(47)      \n",
      "                    else:=================================================================(48)      \n",
      "                        dbcodes = dbcodes + '\"' + c + '\"' + \",\"===========================(49)      \n",
      "                    count = count + 1=====================================================(50)      \n",
      "                                                                                                                                                        (51)\n",
      "                dbsrc = dbsrc + \" \"*numindent + \"g = locals()\" + '\\n'=====================(52)      \n",
      "                dbsrc = dbsrc + \" \"*numindent + dbcodes + '\\n'============================(53)      \n",
      "                dbsrc = dbsrc + l + '\\n'     =============================================(54)      \n",
      "            else:=========================================================================(55)      \n",
      "                dbsrc = dbsrc + l + '\\n'                ==================================(56)      \n",
      "                                                                                                                                                        (57)\n",
      "        elif bool(l.strip()) and idx + 1 == len(lst):=====================================(58)      \n",
      "            dbsrc = dbsrc + l=============================================================(59)      \n",
      "                                                                                                                                                        (60)\n",
      "        elif bool(l.strip()): # make sure pure indentation + \\n is ignored================(61)      \n",
      "            dbsrc = dbsrc + l + '\\n'======================================================(62)      \n",
      "                                                                                                                                                        (63)\n",
      "    if showdbsrc: # added to debug========================================================(64)      \n",
      "        print('{:-<60}'.format(colorize(\"showdbsrc=Start\", color=\"y\")))===================(65)      \n",
      "                                                                                                                                     part No.2 out of 3 parts\n"
     ]
    }
   ],
   "source": [
    "dbdb(38, \"When a srcline is under investigation\")"
   ]
  },
  {
   "cell_type": "code",
   "execution_count": null,
   "id": "8350cf9f",
   "metadata": {},
   "outputs": [
    {
     "name": "stdout",
     "output_type": "stream",
     "text": [
      "                                                                                                                                                        (38)\n",
      "        if bool(l.strip()) and l.strip() in srclines and idx == dbcode:                                                                                 (39)\n",
      "            if len(codes) > 0:                                                                                                                          (41)\n",
      "                numindent = len(l) - len(l.lstrip()) # make sure indent not messed up by trailing spaces                                                (42)\n",
      "\u001b[93mprint selected srcline with expands above\u001b[0m----------\n",
      "\n",
      "\n",
      "\u001b[93mwriting dbcodes into Fastdb.dbprint is done above\u001b[0m---------------------------------------------------------------------------------------------------\n",
      "\n",
      "\n",
      "             ):                                                                                                                                         (7)\n",
      "    'Check what inside a module: `__all__`, functions, classes, builtins, and callables'                                                                (8)\n",
      "    dun_all = len(mo.__all__) if hasattr(mo, \"__all__\") else 0==========================================================================================(9)\n",
      "                                                                                                                                \u001b[91mcount num of funcs in __all__\u001b[0m\n",
      "    funcs = inspect.getmembers(mo, inspect.isfunction)                                                                                                  (10)\n",
      "    classes = inspect.getmembers(mo, inspect.isclass)                                                                                                   (11)\n",
      "\u001b[93mprint selected srcline with expands above\u001b[0m----------\n",
      "\n",
      "\n",
      "\u001b[93musing db Fastdb.dbprint to create db whatinside is done\u001b[0m---------------------------------------------------------------------------------------------\n",
      "\n",
      "\n",
      "\n",
      "\n",
      "                                                                                                                      type(mo) => type(mo) : <class 'module'>\n",
      "fastdebug.utils has: \n",
      "3 items in its __all__, and \n",
      "122 user defined functions, \n",
      "18 classes or class objects, \n",
      "1 builtin funcs and methods, and\n",
      "143 callables.\n",
      "\n",
      "\n",
      "\n",
      "\u001b[93musing db whatinside to run example on core above\u001b[0m----------------------------------------------------------------------------------------------------\n",
      "\n",
      "\n",
      "        print(colwarn + colmsg)===========================================================(33)      \n",
      "#         srclines = dbcode===============================================================(34) # Warning message if decode is not an int for idx.\n",
      "        return============================================================================(35)      \n",
      "                                                                                                                                                        (36)\n",
      "    for idx, l in zip(range(len(lst)), lst):==============================================(37)      \n",
      "                                                                                                                                                        (38)\n",
      "        if bool(l.strip()) and l.strip() in srclines and idx == dbcode:===================(39)      \n",
      "                                                                                                                                                        (40)\n",
      "            if len(codes) > 0: ===========================================================(41)      \n",
      "                numindent = len(l) - len(l.lstrip()) # make sure indent not messed up by trailing spaces                                                (42)\n",
      "                dbcodes = \"dbprintinsert(\"================================================(43)      \n",
      "                count = 1=================================================================(44)      \n",
      "                for c in codes:===========================================================(45)      \n",
      "                    if count == len(codes):===============================================(46)      \n",
      "                        dbcodes = dbcodes + '\"' + c + '\"' + \",\" + \"env=g\" + \")\"===========(47)      \n",
      "                    else:=================================================================(48)      \n",
      "                        dbcodes = dbcodes + '\"' + c + '\"' + \",\"===========================(49)      \n",
      "                    count = count + 1=====================================================(50)      \n",
      "                                                                                                                                                        (51)\n",
      "                dbsrc = dbsrc + \" \"*numindent + \"g = locals()\" + '\\n'=====================(52)      \n",
      "                dbsrc = dbsrc + \" \"*numindent + dbcodes + '\\n'============================(53)      \n",
      "                dbsrc = dbsrc + l + '\\n'     =============================================(54)      \n",
      "            else:=========================================================================(55)      \n",
      "                dbsrc = dbsrc + l + '\\n'                ==================================(56)      \n",
      "                                                                                                                                                        (57)\n",
      "        elif bool(l.strip()) and idx + 1 == len(lst):=====================================(58)      \n",
      "            dbsrc = dbsrc + l=============================================================(59)      \n",
      "                                                                                                                                                        (60)\n",
      "        elif bool(l.strip()): # make sure pure indentation + \\n is ignored================(61)      \n",
      "            dbsrc = dbsrc + l + '\\n'======================================================(62)      \n",
      "                                                                                                                                                        (63)\n",
      "    if showdbsrc: # added to debug========================================================(64)      \n",
      "        print('{:-<60}'.format(colorize(\"showdbsrc=Start\", color=\"y\")))===================(65)      \n",
      "                                                                                                                                     part No.2 out of 3 parts\n"
     ]
    }
   ],
   "source": [
    "dbdb(40, \"When there is codes to run\", \"codes\")"
   ]
  },
  {
   "cell_type": "code",
   "execution_count": null,
   "id": "78faef50",
   "metadata": {},
   "outputs": [
    {
     "name": "stdout",
     "output_type": "stream",
     "text": [
      "                                                                                                                                                        (51)\n",
      "                dbsrc = dbsrc + \" \"*numindent + \"g = locals()\" + '\\n'                                                                                   (52)\n",
      "                dbsrc = dbsrc + \" \"*numindent + dbcodes + '\\n'==========================================================================================(53)\n",
      "                                                                                                                       \u001b[91mwhat does dbprintinsert line look like\u001b[0m\n",
      "                dbsrc = dbsrc + l + '\\n'                                                                                                                (54)\n",
      "            else:                                                                                                                                       (55)\n",
      "\u001b[93mprint selected srcline with expands above\u001b[0m----------\n",
      "\n",
      "\n",
      "\u001b[93mwriting dbcodes into Fastdb.dbprint is done above\u001b[0m---------------------------------------------------------------------------------------------------\n",
      "\n",
      "\n",
      "             ):                                                                                                                                         (7)\n",
      "    'Check what inside a module: `__all__`, functions, classes, builtins, and callables'                                                                (8)\n",
      "    dun_all = len(mo.__all__) if hasattr(mo, \"__all__\") else 0==========================================================================================(9)\n",
      "                                                                                                                                \u001b[91mcount num of funcs in __all__\u001b[0m\n",
      "    funcs = inspect.getmembers(mo, inspect.isfunction)                                                                                                  (10)\n",
      "    classes = inspect.getmembers(mo, inspect.isclass)                                                                                                   (11)\n",
      "\u001b[93mprint selected srcline with expands above\u001b[0m----------\n",
      "\n",
      "\n",
      "dbsrc => dbsrc : def whatinside(mo, # module, e.g., `import fastcore.all as fa`, use `fa` here\n",
      "               dun:bool=False, # print all items in __all__\n",
      "               func:bool=False, # print all user defined functions\n",
      "               clas:bool=False, # print all class objects\n",
      "               bltin:bool=False, # print all builtin funcs or methods\n",
      "               lib:bool=False, # print all the modules of the library it belongs to\n",
      "               cal:bool=False # print all callables\n",
      "             ): \n",
      "    'Check what inside a module: `__all__`, functions, classes, builtins, and callables'\n",
      "    g = locals()\n",
      "\n",
      "\n",
      "\n",
      "dbsrc + l => dbsrc + l : def whatinside(mo, # module, e.g., `import fastcore.all as fa`, use `fa` here\n",
      "               dun:bool=False, # print all items in __all__\n",
      "               func:bool=False, # print all user defined functions\n",
      "               clas:bool=False, # print all class objects\n",
      "               bltin:bool=False, # print all builtin funcs or methods\n",
      "               lib:bool=False, # print all the modules of the library it belongs to\n",
      "               cal:bool=False # print all callables\n",
      "             ): \n",
      "    'Check what inside a module: `__all__`, functions, classes, builtins, and callables'\n",
      "    g = locals()\n",
      "    dun_all = len(mo.__all__) if hasattr(mo, \"__all__\") else 0\n",
      "\n",
      "\n",
      "\u001b[93musing db Fastdb.dbprint to create db whatinside is done\u001b[0m---------------------------------------------------------------------------------------------\n",
      "\n",
      "\n",
      "\n",
      "\n",
      "                                                                                                                      type(mo) => type(mo) : <class 'module'>\n",
      "fastdebug.utils has: \n",
      "3 items in its __all__, and \n",
      "122 user defined functions, \n",
      "18 classes or class objects, \n",
      "1 builtin funcs and methods, and\n",
      "143 callables.\n",
      "\n",
      "\n",
      "\n",
      "\u001b[93musing db whatinside to run example on core above\u001b[0m----------------------------------------------------------------------------------------------------\n",
      "\n",
      "\n",
      "        print(colwarn + colmsg)===========================================================(33)      \n",
      "#         srclines = dbcode===============================================================(34) # Warning message if decode is not an int for idx.\n",
      "        return============================================================================(35)      \n",
      "                                                                                                                                                        (36)\n",
      "    for idx, l in zip(range(len(lst)), lst):==============================================(37)      \n",
      "                                                                                                                                                        (38)\n",
      "        if bool(l.strip()) and l.strip() in srclines and idx == dbcode:===================(39)      \n",
      "                                                                                                                                                        (40)\n",
      "            if len(codes) > 0: ===========================================================(41)      \n",
      "                numindent = len(l) - len(l.lstrip()) # make sure indent not messed up by trailing spaces                                                (42)\n",
      "                dbcodes = \"dbprintinsert(\"================================================(43)      \n",
      "                count = 1=================================================================(44)      \n",
      "                for c in codes:===========================================================(45)      \n",
      "                    if count == len(codes):===============================================(46)      \n",
      "                        dbcodes = dbcodes + '\"' + c + '\"' + \",\" + \"env=g\" + \")\"===========(47)      \n",
      "                    else:=================================================================(48)      \n",
      "                        dbcodes = dbcodes + '\"' + c + '\"' + \",\"===========================(49)      \n",
      "                    count = count + 1=====================================================(50)      \n",
      "                                                                                                                                                        (51)\n",
      "                dbsrc = dbsrc + \" \"*numindent + \"g = locals()\" + '\\n'=====================(52)      \n",
      "                dbsrc = dbsrc + \" \"*numindent + dbcodes + '\\n'============================(53) # what does dbprintinsert line look like\n",
      "                dbsrc = dbsrc + l + '\\n'     =============================================(54)      \n",
      "            else:=========================================================================(55)      \n",
      "                dbsrc = dbsrc + l + '\\n'                ==================================(56)      \n",
      "                                                                                                                                                        (57)\n",
      "        elif bool(l.strip()) and idx + 1 == len(lst):=====================================(58)      \n",
      "            dbsrc = dbsrc + l=============================================================(59)      \n",
      "                                                                                                                                                        (60)\n",
      "        elif bool(l.strip()): # make sure pure indentation + \\n is ignored================(61)      \n",
      "            dbsrc = dbsrc + l + '\\n'======================================================(62)      \n",
      "                                                                                                                                                        (63)\n",
      "    if showdbsrc: # added to debug========================================================(64)      \n",
      "        print('{:-<60}'.format(colorize(\"showdbsrc=Start\", color=\"y\")))===================(65)      \n",
      "                                                                                                                                     part No.2 out of 3 parts\n"
     ]
    }
   ],
   "source": [
    "dbdb(53, \"what does dbprintinsert line look like\", \"dbsrc\", \"dbsrc + l\")"
   ]
  },
  {
   "cell_type": "code",
   "execution_count": null,
   "id": "10f5ec7c",
   "metadata": {},
   "outputs": [
    {
     "name": "stdout",
     "output_type": "stream",
     "text": [
      "            else:                                                                                                                                       (55)\n",
      "                dbsrc = dbsrc + l + '\\n'                                                                                                                (56)\n",
      "        elif bool(l.strip()) and idx + 1 == len(lst):                                                                                                   (58)\n",
      "            dbsrc = dbsrc + l                                                                                                                           (59)\n",
      "\u001b[93mprint selected srcline with expands above\u001b[0m----------\n",
      "\n",
      "\n",
      "\u001b[93mwriting dbcodes into Fastdb.dbprint is done above\u001b[0m---------------------------------------------------------------------------------------------------\n",
      "\n",
      "\n",
      "             ):                                                                                                                                         (7)\n",
      "    'Check what inside a module: `__all__`, functions, classes, builtins, and callables'                                                                (8)\n",
      "    dun_all = len(mo.__all__) if hasattr(mo, \"__all__\") else 0==========================================================================================(9)\n",
      "                                                                                                                                \u001b[91mcount num of funcs in __all__\u001b[0m\n",
      "    funcs = inspect.getmembers(mo, inspect.isfunction)                                                                                                  (10)\n",
      "    classes = inspect.getmembers(mo, inspect.isclass)                                                                                                   (11)\n",
      "\u001b[93mprint selected srcline with expands above\u001b[0m----------\n",
      "\n",
      "\n",
      "\u001b[93musing db Fastdb.dbprint to create db whatinside is done\u001b[0m---------------------------------------------------------------------------------------------\n",
      "\n",
      "\n",
      "\n",
      "\n",
      "                                                                                                                      type(mo) => type(mo) : <class 'module'>\n",
      "fastdebug.utils has: \n",
      "3 items in its __all__, and \n",
      "122 user defined functions, \n",
      "18 classes or class objects, \n",
      "1 builtin funcs and methods, and\n",
      "143 callables.\n",
      "\n",
      "\n",
      "\n",
      "\u001b[93musing db whatinside to run example on core above\u001b[0m----------------------------------------------------------------------------------------------------\n",
      "\n",
      "\n",
      "        print(colwarn + colmsg)===========================================================(33)      \n",
      "#         srclines = dbcode===============================================================(34) # Warning message if decode is not an int for idx.\n",
      "        return============================================================================(35)      \n",
      "                                                                                                                                                        (36)\n",
      "    for idx, l in zip(range(len(lst)), lst):==============================================(37)      \n",
      "                                                                                                                                                        (38)\n",
      "        if bool(l.strip()) and l.strip() in srclines and idx == dbcode:===================(39)      \n",
      "                                                                                                                                                        (40)\n",
      "            if len(codes) > 0: ===========================================================(41)      \n",
      "                numindent = len(l) - len(l.lstrip()) # make sure indent not messed up by trailing spaces                                                (42)\n",
      "                dbcodes = \"dbprintinsert(\"================================================(43)      \n",
      "                count = 1=================================================================(44)      \n",
      "                for c in codes:===========================================================(45)      \n",
      "                    if count == len(codes):===============================================(46)      \n",
      "                        dbcodes = dbcodes + '\"' + c + '\"' + \",\" + \"env=g\" + \")\"===========(47)      \n",
      "                    else:=================================================================(48)      \n",
      "                        dbcodes = dbcodes + '\"' + c + '\"' + \",\"===========================(49)      \n",
      "                    count = count + 1=====================================================(50)      \n",
      "                                                                                                                                                        (51)\n",
      "                dbsrc = dbsrc + \" \"*numindent + \"g = locals()\" + '\\n'=====================(52)      \n",
      "                dbsrc = dbsrc + \" \"*numindent + dbcodes + '\\n'============================(53) # what does dbprintinsert line look like\n",
      "                dbsrc = dbsrc + l + '\\n'     =============================================(54)      \n",
      "            else:=========================================================================(55)      \n",
      "                dbsrc = dbsrc + l + '\\n'                ==================================(56)      \n",
      "                                                                                                                                                        (57)\n",
      "        elif bool(l.strip()) and idx + 1 == len(lst):=====================================(58)      \n",
      "            dbsrc = dbsrc + l=============================================================(59)      \n",
      "                                                                                                                                                        (60)\n",
      "        elif bool(l.strip()): # make sure pure indentation + \\n is ignored================(61)      \n",
      "            dbsrc = dbsrc + l + '\\n'======================================================(62)      \n",
      "                                                                                                                                                        (63)\n",
      "    if showdbsrc: # added to debug========================================================(64)      \n",
      "        print('{:-<60}'.format(colorize(\"showdbsrc=Start\", color=\"y\")))===================(65)      \n",
      "                                                                                                                                     part No.2 out of 3 parts\n"
     ]
    }
   ],
   "source": [
    "dbdb(57, \"what to print at the end\")"
   ]
  },
  {
   "cell_type": "code",
   "execution_count": null,
   "id": "b39809bf",
   "metadata": {},
   "outputs": [
    {
     "name": "stdout",
     "output_type": "stream",
     "text": [
      "        elif bool(l.strip()): # make sure pure indentation + \\n is ignored                                                                              (61)\n",
      "            dbsrc = dbsrc + l + '\\n'                                                                                                                    (62)\n",
      "    if showdbsrc: # added to debug                                                                                                                      (64)\n",
      "        print('{:-<60}'.format(colorize(\"showdbsrc=Start\", color=\"y\")))                                                                                 (65)\n",
      "\u001b[93mprint selected srcline with expands above\u001b[0m----------\n",
      "\n",
      "\n",
      "\u001b[93mwriting dbcodes into Fastdb.dbprint is done above\u001b[0m---------------------------------------------------------------------------------------------------\n",
      "\n",
      "\n",
      "             ):                                                                                                                                         (7)\n",
      "    'Check what inside a module: `__all__`, functions, classes, builtins, and callables'                                                                (8)\n",
      "    dun_all = len(mo.__all__) if hasattr(mo, \"__all__\") else 0==========================================================================================(9)\n",
      "                                                                                                                                \u001b[91mcount num of funcs in __all__\u001b[0m\n",
      "    funcs = inspect.getmembers(mo, inspect.isfunction)                                                                                                  (10)\n",
      "    classes = inspect.getmembers(mo, inspect.isclass)                                                                                                   (11)\n",
      "\u001b[93mprint selected srcline with expands above\u001b[0m----------\n",
      "\n",
      "\n",
      "\u001b[93musing db Fastdb.dbprint to create db whatinside is done\u001b[0m---------------------------------------------------------------------------------------------\n",
      "\n",
      "\n",
      "\n",
      "\n",
      "                                                                                                                      type(mo) => type(mo) : <class 'module'>\n",
      "fastdebug.utils has: \n",
      "3 items in its __all__, and \n",
      "122 user defined functions, \n",
      "18 classes or class objects, \n",
      "1 builtin funcs and methods, and\n",
      "143 callables.\n",
      "\n",
      "\n",
      "\n",
      "\u001b[93musing db whatinside to run example on core above\u001b[0m----------------------------------------------------------------------------------------------------\n",
      "\n",
      "\n",
      "        print(colwarn + colmsg)===========================================================(33)      \n",
      "#         srclines = dbcode===============================================================(34) # Warning message if decode is not an int for idx.\n",
      "        return============================================================================(35)      \n",
      "                                                                                                                                                        (36)\n",
      "    for idx, l in zip(range(len(lst)), lst):==============================================(37)      \n",
      "                                                                                                                                                        (38)\n",
      "        if bool(l.strip()) and l.strip() in srclines and idx == dbcode:===================(39)      \n",
      "                                                                                                                                                        (40)\n",
      "            if len(codes) > 0: ===========================================================(41)      \n",
      "                numindent = len(l) - len(l.lstrip()) # make sure indent not messed up by trailing spaces                                                (42)\n",
      "                dbcodes = \"dbprintinsert(\"================================================(43)      \n",
      "                count = 1=================================================================(44)      \n",
      "                for c in codes:===========================================================(45)      \n",
      "                    if count == len(codes):===============================================(46)      \n",
      "                        dbcodes = dbcodes + '\"' + c + '\"' + \",\" + \"env=g\" + \")\"===========(47)      \n",
      "                    else:=================================================================(48)      \n",
      "                        dbcodes = dbcodes + '\"' + c + '\"' + \",\"===========================(49)      \n",
      "                    count = count + 1=====================================================(50)      \n",
      "                                                                                                                                                        (51)\n",
      "                dbsrc = dbsrc + \" \"*numindent + \"g = locals()\" + '\\n'=====================(52)      \n",
      "                dbsrc = dbsrc + \" \"*numindent + dbcodes + '\\n'============================(53) # what does dbprintinsert line look like\n",
      "                dbsrc = dbsrc + l + '\\n'     =============================================(54)      \n",
      "            else:=========================================================================(55)      \n",
      "                dbsrc = dbsrc + l + '\\n'                ==================================(56)      \n",
      "                                                                                                                                                        (57)\n",
      "        elif bool(l.strip()) and idx + 1 == len(lst):=====================================(58)      \n",
      "            dbsrc = dbsrc + l=============================================================(59)      \n",
      "                                                                                                                                                        (60)\n",
      "        elif bool(l.strip()): # make sure pure indentation + \\n is ignored================(61)      \n",
      "            dbsrc = dbsrc + l + '\\n'======================================================(62)      \n",
      "                                                                                                                                                        (63)\n",
      "    if showdbsrc: # added to debug========================================================(64)      \n",
      "        print('{:-<60}'.format(colorize(\"showdbsrc=Start\", color=\"y\")))===================(65)      \n",
      "                                                                                                                                     part No.2 out of 3 parts\n"
     ]
    }
   ],
   "source": [
    "dbdb(63, \"print out the srcode with dbprintinsert inserted\")"
   ]
  },
  {
   "cell_type": "code",
   "execution_count": null,
   "id": "75af19fa",
   "metadata": {},
   "outputs": [
    {
     "name": "stdout",
     "output_type": "stream",
     "text": [
      "                print(l + \"=\"*(totallen-lenl-lenidx) + \"(db)\")                                                                                          (73)\n",
      "            else:                                                                                                                                       (74)\n",
      "                print(l + \" \"*(totallen-lenl-lenidx) + \"(\" + str(idx) + \")\")============================================================================(75)\n",
      "                                                                                                       \u001b[91mcheck status of locals, Fastdb.dbprint and fdb.dbprint\u001b[0m\n",
      "        print(f\"before exec, locals(): {list(locals().keys())}\")                                                                                        (76)\n",
      "                                                                                                                                                        (77)\n",
      "\u001b[93mprint selected srcline with expands above\u001b[0m----------\n",
      "\u001b[93mshowdbsrc=Start\u001b[0m------------------------------------\n",
      "@patch                                                                                                                                                  (0)\n",
      "def dbprint(self:Fastdb,                                                                                                                                (1)\n",
      "            dbcode:int, # idx of a srcline under investigation, can only be int                                                                         (2)\n",
      "            cmt:str, # comment added to the srcline                                                                                                     (3)\n",
      "            *codes, # a list of expressions (str) you write to be evaluated above the srcline                                                           (4)\n",
      "            expand:int=2, # span 2 lines of srcode up and down from the srcline investigated                                                            (5)\n",
      "            showdbsrc:bool=False): # display dbsrc                                                                                                      (6)\n",
      "    \"Add comment and evaluate custom (single or multi lines) expressions to any srcline of the source code you are investigating\"                       (7)\n",
      "    src = self.orisrc                                                                                                                                   (8)\n",
      "    if type(dbcode) == int: self.cmts.update({dbcode: cmt})                                                                                             (9)\n",
      "    printsrc(src, dbcode, cmt, expand)                                                                                                                  (10)\n",
      "    print('{:-<60}'.format(colorize(\"print selected srcline with expands above\", color=\"y\")))                                                           (11)\n",
      "    dbsrc = \"\"                                                                                                                                          (12)\n",
      "    indent = 4                                                                                                                                          (13)\n",
      "    onedbprint = False                                                                                                                                  (14)\n",
      "    lst = inspect.getsource(src).split('\\n')                                                                                                            (15)\n",
      "    if not bool(lst[-1]): lst = lst[:-1]                                                                                                                (16)\n",
      "    newlst = []                                                                                                                                         (17)\n",
      "    for i in codes: # no matter whether there is \"\" or \"  \" in the front or in the middle of codes                                                      (18)\n",
      "        if bool(i.strip()): newlst.append(i)                                                                                                            (19)\n",
      "    codes = newlst                                                                                                                                      (20)\n",
      "    srclines = \"\"                                                                                                                                       (21)\n",
      "    if type(dbcode) == int:                                                                                                                             (22)\n",
      "        srclines = lst[dbcode]                                                                                                                          (23)\n",
      "    else:                                                                                                                                               (24)\n",
      "        colwarn = colorize(\"Warning!\", color=\"r\")                                                                                                       (25)\n",
      "        colmsg = colorize(\" param decode has to be an int as idx.\", color=\"y\")                                                                          (26)\n",
      "        print(colwarn + colmsg)                                                                                                                         (27)\n",
      "#         srclines = dbcode                                                                                                                             (28)\n",
      "        return                                                                                                                                          (29)\n",
      "    for idx, l in zip(range(len(lst)), lst):                                                                                                            (30)\n",
      "        if bool(l.strip()) and l.strip() in srclines and idx == dbcode:                                                                                 (31)\n",
      "            if len(codes) > 0:                                                                                                                          (32)\n",
      "                numindent = len(l) - len(l.lstrip()) # make sure indent not messed up by trailing spaces                                                (33)\n",
      "                dbcodes = \"dbprintinsert(\"                                                                                                              (34)\n",
      "                count = 1                                                                                                                               (35)\n",
      "                for c in codes:                                                                                                                         (36)\n",
      "                    if count == len(codes):                                                                                                             (37)\n",
      "                        dbcodes = dbcodes + '\"' + c + '\"' + \",\" + \"env=g\" + \")\"                                                                         (38)\n",
      "                    else:                                                                                                                               (39)\n",
      "                        dbcodes = dbcodes + '\"' + c + '\"' + \",\"                                                                                         (40)\n",
      "                    count = count + 1                                                                                                                   (41)\n",
      "                dbsrc = dbsrc + \" \"*numindent + \"g = locals()\" + '\\n'                                                                                   (42)\n",
      "                dbsrc = dbsrc + \" \"*numindent + dbcodes + '\\n'                                                                                          (43)\n",
      "                dbsrc = dbsrc + l + '\\n'                                                                                                                (44)\n",
      "            else:                                                                                                                                       (45)\n",
      "                dbsrc = dbsrc + l + '\\n'                                                                                                                (46)\n",
      "        elif bool(l.strip()) and idx + 1 == len(lst):                                                                                                   (47)\n",
      "            dbsrc = dbsrc + l                                                                                                                           (48)\n",
      "        elif bool(l.strip()): # make sure pure indentation + \\n is ignored                                                                              (49)\n",
      "            dbsrc = dbsrc + l + '\\n'                                                                                                                    (50)\n",
      "    if showdbsrc: # added to debug                                                                                                                      (51)\n",
      "        print('{:-<60}'.format(colorize(\"showdbsrc=Start\", color=\"y\")))                                                                                 (52)\n",
      "        totallen = 157                                                                                                                                  (53)\n",
      "        lenidx = 5                                                                                                                                      (54)\n",
      "        dblst = dbsrc.split('\\n')                                                                                                                       (55)\n",
      "        for idx, l in zip(range(len(dblst)), dblst):                                                                                                    (56)\n",
      "            lenl = len(l)                                                                                                                               (57)\n",
      "#             if \"dbprintinsert\" in l:                                                                                                                  (58)\n",
      "            if l.strip().startswith(\"dbprintinsert\"):                                                                                                   (59)\n",
      "                print(l + \"=\"*(totallen-lenl-lenidx) + \"(db)\")                                                                                          (60)\n",
      "            else:                                                                                                                                       (61)\n",
      "                print(l + \" \"*(totallen-lenl-lenidx) + \"(\" + str(idx) + \")\")                                                                            (62)\n",
      "        print(f\"before exec, locals(): {list(locals().keys())}\")                                                                                        (63)\n",
      "    exec(dbsrc, globals().update(self.outenv)) # make sure b can access lst from above                                                                  (64)\n",
      "    if showdbsrc:                                                                                                                                       (65)\n",
      "        print(f\"after exec, locals(): {list(locals().keys())}\")                                                                                         (66)\n",
      "        print(f'self.orisrc.__name__: {self.orisrc.__name__}')                                                                                          (67)\n",
      "        print(f'locals()[self.orisrc.__name__]: {locals()[self.orisrc.__name__]}')                                                                      (68)\n",
      "        print('{:-<60}'.format(colorize(\"showdbsrc=End\", color=\"y\")))                                                                                   (69)\n",
      "    return locals()[self.orisrc.__name__]                                                                                                               (70)\n",
      "before exec, locals(): ['self', 'dbcode', 'cmt', 'expand', 'showdbsrc', 'codes', 'src', 'dbsrc', 'indent', 'onedbprint', 'lst', 'newlst', 'srclines', 'idx', 'l', 'totallen', 'lenidx', 'dblst', 'lenl']\n",
      "after exec, locals(): ['self', 'dbcode', 'cmt', 'expand', 'showdbsrc', 'codes', 'src', 'dbsrc', 'indent', 'onedbprint', 'lst', 'newlst', 'srclines', 'idx', 'l', 'totallen', 'lenidx', 'dblst', 'lenl', 'dbprint']\n",
      "self.orisrc.__name__: dbprint\n",
      "locals()[self.orisrc.__name__]: None\n",
      "\u001b[93mshowdbsrc=End\u001b[0m--------------------------------------\n",
      "\n",
      "\n",
      "\u001b[93mwriting dbcodes into Fastdb.dbprint is done above\u001b[0m---------------------------------------------------------------------------------------------------\n",
      "\n",
      "\n",
      "             ):                                                                                                                                         (7)\n",
      "    'Check what inside a module: `__all__`, functions, classes, builtins, and callables'                                                                (8)\n",
      "    dun_all = len(mo.__all__) if hasattr(mo, \"__all__\") else 0==========================================================================================(9)\n",
      "                                                                                                                                \u001b[91mcount num of funcs in __all__\u001b[0m\n",
      "    funcs = inspect.getmembers(mo, inspect.isfunction)                                                                                                  (10)\n",
      "    classes = inspect.getmembers(mo, inspect.isclass)                                                                                                   (11)\n",
      "\u001b[93mprint selected srcline with expands above\u001b[0m----------\n",
      "\u001b[93mshowdbsrc=Start\u001b[0m------------------------------------\n",
      "def whatinside(mo, # module, e.g., `import fastcore.all as fa`, use `fa` here                                                                           (0)\n",
      "               dun:bool=False, # print all items in __all__                                                                                             (1)\n",
      "               func:bool=False, # print all user defined functions                                                                                      (2)\n",
      "               clas:bool=False, # print all class objects                                                                                               (3)\n",
      "               bltin:bool=False, # print all builtin funcs or methods                                                                                   (4)\n",
      "               lib:bool=False, # print all the modules of the library it belongs to                                                                     (5)\n",
      "               cal:bool=False # print all callables                                                                                                     (6)\n",
      "             ):                                                                                                                                         (7)\n",
      "    'Check what inside a module: `__all__`, functions, classes, builtins, and callables'                                                                (8)\n",
      "    g = locals()                                                                                                                                        (9)\n",
      "    dbprintinsert(\"type(mo)\",env=g)=====================================================================================================================(db)\n",
      "    dun_all = len(mo.__all__) if hasattr(mo, \"__all__\") else 0                                                                                          (11)\n",
      "    funcs = inspect.getmembers(mo, inspect.isfunction)                                                                                                  (12)\n",
      "    classes = inspect.getmembers(mo, inspect.isclass)                                                                                                   (13)\n",
      "    builtins = inspect.getmembers(mo, inspect.isbuiltin)                                                                                                (14)\n",
      "    callables = inspect.getmembers(mo, callable)                                                                                                        (15)\n",
      "    pkgpath = os.path.dirname(mo.__file__)                                                                                                              (16)\n",
      "    print(f\"{mo.__name__} has: \\n{dun_all} items in its __all__, and \\n{len(funcs)} user defined functions, \\n{len(classes)} classes or class objects, \\n{len(builtins)} builtin funcs and methods, and\\n{len(callables)} callables.\\n\")  (17)\n",
      "    if hasattr(mo, \"__all__\") and dun: pprint(mo.__all__)                                                                                               (18)\n",
      "    if func:                                                                                                                                            (19)\n",
      "        print(f'The user defined functions are:')                                                                                                       (20)\n",
      "        pprint([i[0] for i in funcs])                                                                                                                   (21)\n",
      "    if clas:                                                                                                                                            (22)\n",
      "        print(f'The class objects are:')                                                                                                                (23)\n",
      "        pprint([i[0] for i in classes])                                                                                                                 (24)\n",
      "    if bltin:                                                                                                                                           (25)\n",
      "        print(f'The builtin functions or methods are:')                                                                                                 (26)\n",
      "        pprint([i[0] for i in builtins])                                                                                                                (27)\n",
      "    if cal:                                                                                                                                             (28)\n",
      "        print(f'The callables are: ')                                                                                                                   (29)\n",
      "        pprint([i[0] for i in callables])                                                                                                               (30)\n",
      "    if lib:                                                                                                                                             (31)\n",
      "        modules = [name for _, name, _ in pkgutil.iter_modules([pkgpath])]                                                                              (32)\n",
      "        print(f'The library has {len(modules)} modules')                                                                                                (33)\n",
      "        pprint(modules)                                                                                                                                 (34)\n",
      "before exec, locals(): ['self', 'dbcode', 'cmt', 'expand', 'showdbsrc', 'codes', 'src', 'dbsrc', 'indent', 'onedbprint', 'lst', 'newlst', 'i', 'srclines', 'idx', 'l', 'numindent', 'dbcodes', 'count', 'c', 'totallen', 'lenidx', 'dblst', 'lenl']\n",
      "after exec, locals(): ['self', 'dbcode', 'cmt', 'expand', 'showdbsrc', 'codes', 'src', 'dbsrc', 'indent', 'onedbprint', 'lst', 'newlst', 'i', 'srclines', 'idx', 'l', 'numindent', 'dbcodes', 'count', 'c', 'totallen', 'lenidx', 'dblst', 'lenl', 'whatinside']\n",
      "self.orisrc.__name__: whatinside\n",
      "locals()[self.orisrc.__name__]: <function whatinside at 0x103ce00d0>\n",
      "\u001b[93mshowdbsrc=End\u001b[0m--------------------------------------\n",
      "\n",
      "\n",
      "\u001b[93musing db Fastdb.dbprint to create db whatinside is done\u001b[0m---------------------------------------------------------------------------------------------\n",
      "\n",
      "\n",
      "\n",
      "\n",
      "                                                                                                                      type(mo) => type(mo) : <class 'module'>\n",
      "fastdebug.utils has: \n",
      "3 items in its __all__, and \n",
      "122 user defined functions, \n",
      "18 classes or class objects, \n",
      "1 builtin funcs and methods, and\n",
      "143 callables.\n",
      "\n",
      "\n",
      "\n",
      "\u001b[93musing db whatinside to run example on core above\u001b[0m----------------------------------------------------------------------------------------------------\n",
      "\n",
      "\n",
      "        totallen = 157====================================================================(66)      \n",
      "        lenidx = 5========================================================================(67)      \n",
      "        dblst = dbsrc.split('\\n')=========================================================(68)      \n",
      "        for idx, l in zip(range(len(dblst)), dblst):======================================(69)      \n",
      "            lenl = len(l)=================================================================(70)      \n",
      "#             if \"dbprintinsert\" in l: ===================================================(71)      \n",
      "            if l.strip().startswith(\"dbprintinsert\"): ====================================(72)      \n",
      "                print(l + \"=\"*(totallen-lenl-lenidx) + \"(db)\")============================(73)      \n",
      "            else:=========================================================================(74)      \n",
      "                print(l + \" \"*(totallen-lenl-lenidx) + \"(\" + str(idx) + \")\")==============(75) # check status of locals, Fastdb.dbprint and fdb.dbprint\n",
      "        print(f\"before exec, locals(): {list(locals().keys())}\")==========================(76)      \n",
      "                                                                                                                                                        (77)\n",
      "    exec(dbsrc, globals().update(self.outenv)) # make sure b can access lst from above====(78)      \n",
      "                                                                                                                                                        (79)\n",
      "    if showdbsrc: ========================================================================(80)      \n",
      "        print(f\"after exec, locals(): {list(locals().keys())}\")===========================(81)      \n",
      "        print(f'self.orisrc.__name__: {self.orisrc.__name__}')============================(82)      \n",
      "        print(f'locals()[self.orisrc.__name__]: {locals()[self.orisrc.__name__]}')========(83)      \n",
      "        print('{:-<60}'.format(colorize(\"showdbsrc=End\", color=\"y\")))=====================(84)      \n",
      "                                                                                                                                                        (85)\n",
      "    return locals()[self.orisrc.__name__]=================================================(86)      \n",
      "                                                                                                                                                        (87)\n",
      "                                                                                                                                     part No.3 out of 3 parts\n"
     ]
    }
   ],
   "source": [
    "dbdb(75, \"check status of locals, Fastdb.dbprint and fdb.dbprint\", db=True)"
   ]
  },
  {
   "cell_type": "code",
   "execution_count": null,
   "id": "a8413878",
   "metadata": {},
   "outputs": [
    {
     "name": "stdout",
     "output_type": "stream",
     "text": [
      "             ):                                                                                                                                         (7)\n",
      "    'Check what inside a module: `__all__`, functions, classes, builtins, and callables'                                                                (8)\n",
      "    dun_all = len(mo.__all__) if hasattr(mo, \"__all__\") else 0==========================================================================================(9)\n",
      "                                                                                                                                \u001b[91mcount num of funcs in __all__\u001b[0m\n",
      "    funcs = inspect.getmembers(mo, inspect.isfunction)                                                                                                  (10)\n",
      "    classes = inspect.getmembers(mo, inspect.isclass)                                                                                                   (11)\n",
      "\u001b[93mprint selected srcline with expands above\u001b[0m----------\n",
      "\u001b[93mshowdbsrc=Start\u001b[0m------------------------------------\n",
      "def whatinside(mo, # module, e.g., `import fastcore.all as fa`, use `fa` here                                                                           (0)\n",
      "               dun:bool=False, # print all items in __all__                                                                                             (1)\n",
      "               func:bool=False, # print all user defined functions                                                                                      (2)\n",
      "               clas:bool=False, # print all class objects                                                                                               (3)\n",
      "               bltin:bool=False, # print all builtin funcs or methods                                                                                   (4)\n",
      "               lib:bool=False, # print all the modules of the library it belongs to                                                                     (5)\n",
      "               cal:bool=False # print all callables                                                                                                     (6)\n",
      "             ):                                                                                                                                         (7)\n",
      "    'Check what inside a module: `__all__`, functions, classes, builtins, and callables'                                                                (8)\n",
      "    g = locals()                                                                                                                                        (9)\n",
      "    dbprintinsert(\"type(mo)\",env=g)=====================================================================================================================(db)\n",
      "    dun_all = len(mo.__all__) if hasattr(mo, \"__all__\") else 0                                                                                          (11)\n",
      "    funcs = inspect.getmembers(mo, inspect.isfunction)                                                                                                  (12)\n",
      "    classes = inspect.getmembers(mo, inspect.isclass)                                                                                                   (13)\n",
      "    builtins = inspect.getmembers(mo, inspect.isbuiltin)                                                                                                (14)\n",
      "    callables = inspect.getmembers(mo, callable)                                                                                                        (15)\n",
      "    pkgpath = os.path.dirname(mo.__file__)                                                                                                              (16)\n",
      "    print(f\"{mo.__name__} has: \\n{dun_all} items in its __all__, and \\n{len(funcs)} user defined functions, \\n{len(classes)} classes or class objects, \\n{len(builtins)} builtin funcs and methods, and\\n{len(callables)} callables.\\n\")  (17)\n",
      "    if hasattr(mo, \"__all__\") and dun: pprint(mo.__all__)                                                                                               (18)\n",
      "    if func:                                                                                                                                            (19)\n",
      "        print(f'The user defined functions are:')                                                                                                       (20)\n",
      "        pprint([i[0] for i in funcs])                                                                                                                   (21)\n",
      "    if clas:                                                                                                                                            (22)\n",
      "        print(f'The class objects are:')                                                                                                                (23)\n",
      "        pprint([i[0] for i in classes])                                                                                                                 (24)\n",
      "    if bltin:                                                                                                                                           (25)\n",
      "        print(f'The builtin functions or methods are:')                                                                                                 (26)\n",
      "        pprint([i[0] for i in builtins])                                                                                                                (27)\n",
      "    if cal:                                                                                                                                             (28)\n",
      "        print(f'The callables are: ')                                                                                                                   (29)\n",
      "        pprint([i[0] for i in callables])                                                                                                               (30)\n",
      "    if lib:                                                                                                                                             (31)\n",
      "        modules = [name for _, name, _ in pkgutil.iter_modules([pkgpath])]                                                                              (32)\n",
      "        print(f'The library has {len(modules)} modules')                                                                                                (33)\n",
      "        pprint(modules)                                                                                                                                 (34)\n",
      "before exec, locals(): ['self', 'dbcode', 'cmt', 'expand', 'showdbsrc', 'codes', 'src', 'dbsrc', 'indent', 'onedbprint', 'lst', 'newlst', 'i', 'srclines', 'idx', 'l', 'numindent', 'dbcodes', 'count', 'c', 'totallen', 'lenidx', 'dblst', 'lenl']\n",
      "after exec, locals(): ['self', 'dbcode', 'cmt', 'expand', 'showdbsrc', 'codes', 'src', 'dbsrc', 'indent', 'onedbprint', 'lst', 'newlst', 'i', 'srclines', 'idx', 'l', 'numindent', 'dbcodes', 'count', 'c', 'totallen', 'lenidx', 'dblst', 'lenl', 'whatinside']\n",
      "self.orisrc.__name__: whatinside\n",
      "locals()[self.orisrc.__name__]: <function whatinside at 0x103ce03a0>\n",
      "\u001b[93mshowdbsrc=End\u001b[0m--------------------------------------\n"
     ]
    },
    {
     "data": {
      "text/plain": [
       "<function fastdebug.utils.whatinside(mo, dun: bool = False, func: bool = False, clas: bool = False, bltin: bool = False, lib: bool = False, cal: bool = False)>"
      ]
     },
     "execution_count": null,
     "metadata": {},
     "output_type": "execute_result"
    }
   ],
   "source": [
    "fdbw.dbprint(9, \"count num of funcs in __all__\", \"type(mo)\", showdbsrc=True)"
   ]
  },
  {
   "cell_type": "code",
   "execution_count": null,
   "id": "e176ac4e",
   "metadata": {},
   "outputs": [
    {
     "name": "stdout",
     "output_type": "stream",
     "text": [
      "                                                                                                                                                        (77)\n",
      "    exec(dbsrc, globals().update(self.outenv)) # make sure b can access lst from above                                                                  (78)\n",
      "    ====================================================================================================================================================(79)\n",
      "                                                                                                           \u001b[91mrun exec to create the dbsrc and store in locals()\u001b[0m\n",
      "    if showdbsrc:                                                                                                                                       (80)\n",
      "        print(f\"after exec, locals(): {list(locals().keys())}\")                                                                                         (81)\n",
      "\u001b[93mprint selected srcline with expands above\u001b[0m----------\n",
      "\n",
      "\n",
      "\u001b[93mwriting dbcodes into Fastdb.dbprint is done above\u001b[0m---------------------------------------------------------------------------------------------------\n",
      "\n",
      "\n",
      "             ):                                                                                                                                         (7)\n",
      "    'Check what inside a module: `__all__`, functions, classes, builtins, and callables'                                                                (8)\n",
      "    dun_all = len(mo.__all__) if hasattr(mo, \"__all__\") else 0==========================================================================================(9)\n",
      "                                                                                                                                \u001b[91mcount num of funcs in __all__\u001b[0m\n",
      "    funcs = inspect.getmembers(mo, inspect.isfunction)                                                                                                  (10)\n",
      "    classes = inspect.getmembers(mo, inspect.isclass)                                                                                                   (11)\n",
      "\u001b[93mprint selected srcline with expands above\u001b[0m----------\n",
      "\n",
      "\n",
      "\u001b[93musing db Fastdb.dbprint to create db whatinside is done\u001b[0m---------------------------------------------------------------------------------------------\n",
      "\n",
      "\n",
      "\n",
      "\n",
      "                                                                                                                      type(mo) => type(mo) : <class 'module'>\n",
      "fastdebug.utils has: \n",
      "3 items in its __all__, and \n",
      "122 user defined functions, \n",
      "18 classes or class objects, \n",
      "1 builtin funcs and methods, and\n",
      "143 callables.\n",
      "\n",
      "\n",
      "\n",
      "\u001b[93musing db whatinside to run example on core above\u001b[0m----------------------------------------------------------------------------------------------------\n",
      "\n",
      "\n",
      "        totallen = 157====================================================================(66)      \n",
      "        lenidx = 5========================================================================(67)      \n",
      "        dblst = dbsrc.split('\\n')=========================================================(68)      \n",
      "        for idx, l in zip(range(len(dblst)), dblst):======================================(69)      \n",
      "            lenl = len(l)=================================================================(70)      \n",
      "#             if \"dbprintinsert\" in l: ===================================================(71)      \n",
      "            if l.strip().startswith(\"dbprintinsert\"): ====================================(72)      \n",
      "                print(l + \"=\"*(totallen-lenl-lenidx) + \"(db)\")============================(73)      \n",
      "            else:=========================================================================(74)      \n",
      "                print(l + \" \"*(totallen-lenl-lenidx) + \"(\" + str(idx) + \")\")==============(75) # check status of locals, Fastdb.dbprint and fdb.dbprint\n",
      "        print(f\"before exec, locals(): {list(locals().keys())}\")==========================(76)      \n",
      "                                                                                                                                                        (77)\n",
      "    exec(dbsrc, globals().update(self.outenv)) # make sure b can access lst from above====(78)      \n",
      "                                                                                                                                                        (79)\n",
      "    if showdbsrc: ========================================================================(80)      \n",
      "        print(f\"after exec, locals(): {list(locals().keys())}\")===========================(81)      \n",
      "        print(f'self.orisrc.__name__: {self.orisrc.__name__}')============================(82)      \n",
      "        print(f'locals()[self.orisrc.__name__]: {locals()[self.orisrc.__name__]}')========(83)      \n",
      "        print('{:-<60}'.format(colorize(\"showdbsrc=End\", color=\"y\")))=====================(84)      \n",
      "                                                                                                                                                        (85)\n",
      "    return locals()[self.orisrc.__name__]=================================================(86)      \n",
      "                                                                                                                                                        (87)\n",
      "                                                                                                                                     part No.3 out of 3 parts\n"
     ]
    }
   ],
   "source": [
    "dbdb(79, \"run exec to create the dbsrc and store in locals()\", \"list(locals().keys())\", \"list(env.keys())\", \"list(self.outenv.keys())\")"
   ]
  },
  {
   "cell_type": "code",
   "execution_count": null,
   "id": "149f3347",
   "metadata": {},
   "outputs": [
    {
     "name": "stdout",
     "output_type": "stream",
     "text": [
      "        print(f\"after exec, locals(): {list(locals().keys())}\")                                                                                         (81)\n",
      "        print(f'self.orisrc.__name__: {self.orisrc.__name__}')                                                                                          (82)\n",
      "        print(f'locals()[self.orisrc.__name__]: {locals()[self.orisrc.__name__]}')======================================================================(83)\n",
      "                                                                                                                              \u001b[91mreturn the dbsrc using locals()\u001b[0m\n",
      "        print('{:-<60}'.format(colorize(\"showdbsrc=End\", color=\"y\")))                                                                                   (84)\n",
      "                                                                                                                                                        (85)\n",
      "\u001b[93mprint selected srcline with expands above\u001b[0m----------\n",
      "\u001b[93mshowdbsrc=Start\u001b[0m------------------------------------\n",
      "@patch                                                                                                                                                  (0)\n",
      "def dbprint(self:Fastdb,                                                                                                                                (1)\n",
      "            dbcode:int, # idx of a srcline under investigation, can only be int                                                                         (2)\n",
      "            cmt:str, # comment added to the srcline                                                                                                     (3)\n",
      "            *codes, # a list of expressions (str) you write to be evaluated above the srcline                                                           (4)\n",
      "            expand:int=2, # span 2 lines of srcode up and down from the srcline investigated                                                            (5)\n",
      "            showdbsrc:bool=False): # display dbsrc                                                                                                      (6)\n",
      "    \"Add comment and evaluate custom (single or multi lines) expressions to any srcline of the source code you are investigating\"                       (7)\n",
      "    src = self.orisrc                                                                                                                                   (8)\n",
      "    if type(dbcode) == int: self.cmts.update({dbcode: cmt})                                                                                             (9)\n",
      "    printsrc(src, dbcode, cmt, expand)                                                                                                                  (10)\n",
      "    print('{:-<60}'.format(colorize(\"print selected srcline with expands above\", color=\"y\")))                                                           (11)\n",
      "    dbsrc = \"\"                                                                                                                                          (12)\n",
      "    indent = 4                                                                                                                                          (13)\n",
      "    onedbprint = False                                                                                                                                  (14)\n",
      "    lst = inspect.getsource(src).split('\\n')                                                                                                            (15)\n",
      "    if not bool(lst[-1]): lst = lst[:-1]                                                                                                                (16)\n",
      "    newlst = []                                                                                                                                         (17)\n",
      "    for i in codes: # no matter whether there is \"\" or \"  \" in the front or in the middle of codes                                                      (18)\n",
      "        if bool(i.strip()): newlst.append(i)                                                                                                            (19)\n",
      "    codes = newlst                                                                                                                                      (20)\n",
      "    srclines = \"\"                                                                                                                                       (21)\n",
      "    if type(dbcode) == int:                                                                                                                             (22)\n",
      "        srclines = lst[dbcode]                                                                                                                          (23)\n",
      "    else:                                                                                                                                               (24)\n",
      "        colwarn = colorize(\"Warning!\", color=\"r\")                                                                                                       (25)\n",
      "        colmsg = colorize(\" param decode has to be an int as idx.\", color=\"y\")                                                                          (26)\n",
      "        print(colwarn + colmsg)                                                                                                                         (27)\n",
      "#         srclines = dbcode                                                                                                                             (28)\n",
      "        return                                                                                                                                          (29)\n",
      "    for idx, l in zip(range(len(lst)), lst):                                                                                                            (30)\n",
      "        if bool(l.strip()) and l.strip() in srclines and idx == dbcode:                                                                                 (31)\n",
      "            if len(codes) > 0:                                                                                                                          (32)\n",
      "                numindent = len(l) - len(l.lstrip()) # make sure indent not messed up by trailing spaces                                                (33)\n",
      "                dbcodes = \"dbprintinsert(\"                                                                                                              (34)\n",
      "                count = 1                                                                                                                               (35)\n",
      "                for c in codes:                                                                                                                         (36)\n",
      "                    if count == len(codes):                                                                                                             (37)\n",
      "                        dbcodes = dbcodes + '\"' + c + '\"' + \",\" + \"env=g\" + \")\"                                                                         (38)\n",
      "                    else:                                                                                                                               (39)\n",
      "                        dbcodes = dbcodes + '\"' + c + '\"' + \",\"                                                                                         (40)\n",
      "                    count = count + 1                                                                                                                   (41)\n",
      "                dbsrc = dbsrc + \" \"*numindent + \"g = locals()\" + '\\n'                                                                                   (42)\n",
      "                dbsrc = dbsrc + \" \"*numindent + dbcodes + '\\n'                                                                                          (43)\n",
      "                dbsrc = dbsrc + l + '\\n'                                                                                                                (44)\n",
      "            else:                                                                                                                                       (45)\n",
      "                dbsrc = dbsrc + l + '\\n'                                                                                                                (46)\n",
      "        elif bool(l.strip()) and idx + 1 == len(lst):                                                                                                   (47)\n",
      "            dbsrc = dbsrc + l                                                                                                                           (48)\n",
      "        elif bool(l.strip()): # make sure pure indentation + \\n is ignored                                                                              (49)\n",
      "            dbsrc = dbsrc + l + '\\n'                                                                                                                    (50)\n",
      "    if showdbsrc: # added to debug                                                                                                                      (51)\n",
      "        print('{:-<60}'.format(colorize(\"showdbsrc=Start\", color=\"y\")))                                                                                 (52)\n",
      "        totallen = 157                                                                                                                                  (53)\n",
      "        lenidx = 5                                                                                                                                      (54)\n",
      "        dblst = dbsrc.split('\\n')                                                                                                                       (55)\n",
      "        for idx, l in zip(range(len(dblst)), dblst):                                                                                                    (56)\n",
      "            lenl = len(l)                                                                                                                               (57)\n",
      "#             if \"dbprintinsert\" in l:                                                                                                                  (58)\n",
      "            if l.strip().startswith(\"dbprintinsert\"):                                                                                                   (59)\n",
      "                print(l + \"=\"*(totallen-lenl-lenidx) + \"(db)\")                                                                                          (60)\n",
      "            else:                                                                                                                                       (61)\n",
      "                print(l + \" \"*(totallen-lenl-lenidx) + \"(\" + str(idx) + \")\")                                                                            (62)\n",
      "        print(f\"before exec, locals(): {list(locals().keys())}\")                                                                                        (63)\n",
      "    exec(dbsrc, globals().update(self.outenv)) # make sure b can access lst from above                                                                  (64)\n",
      "    if showdbsrc:                                                                                                                                       (65)\n",
      "        print(f\"after exec, locals(): {list(locals().keys())}\")                                                                                         (66)\n",
      "        print(f'self.orisrc.__name__: {self.orisrc.__name__}')                                                                                          (67)\n",
      "        g = locals()                                                                                                                                    (68)\n",
      "        dbprintinsert(\"list(locals().keys())\",\"list(env.keys())\",\"list(self.outenv.keys())\",\"self.orisrc.__name__\",env=g)===============================(db)\n",
      "        print(f'locals()[self.orisrc.__name__]: {locals()[self.orisrc.__name__]}')                                                                      (70)\n",
      "        print('{:-<60}'.format(colorize(\"showdbsrc=End\", color=\"y\")))                                                                                   (71)\n",
      "    return locals()[self.orisrc.__name__]                                                                                                               (72)\n",
      "before exec, locals(): ['self', 'dbcode', 'cmt', 'expand', 'showdbsrc', 'codes', 'src', 'dbsrc', 'indent', 'onedbprint', 'lst', 'newlst', 'i', 'srclines', 'idx', 'l', 'numindent', 'dbcodes', 'count', 'c', 'totallen', 'lenidx', 'dblst', 'lenl']\n",
      "after exec, locals(): ['self', 'dbcode', 'cmt', 'expand', 'showdbsrc', 'codes', 'src', 'dbsrc', 'indent', 'onedbprint', 'lst', 'newlst', 'i', 'srclines', 'idx', 'l', 'numindent', 'dbcodes', 'count', 'c', 'totallen', 'lenidx', 'dblst', 'lenl', 'dbprint']\n",
      "self.orisrc.__name__: dbprint\n",
      "locals()[self.orisrc.__name__]: None\n",
      "\u001b[93mshowdbsrc=End\u001b[0m--------------------------------------\n",
      "\n",
      "\n",
      "\u001b[93mwriting dbcodes into Fastdb.dbprint is done above\u001b[0m---------------------------------------------------------------------------------------------------\n",
      "\n",
      "\n",
      "             ):                                                                                                                                         (7)\n",
      "    'Check what inside a module: `__all__`, functions, classes, builtins, and callables'                                                                (8)\n",
      "    dun_all = len(mo.__all__) if hasattr(mo, \"__all__\") else 0==========================================================================================(9)\n",
      "                                                                                                                                \u001b[91mcount num of funcs in __all__\u001b[0m\n",
      "    funcs = inspect.getmembers(mo, inspect.isfunction)                                                                                                  (10)\n",
      "    classes = inspect.getmembers(mo, inspect.isclass)                                                                                                   (11)\n",
      "\u001b[93mprint selected srcline with expands above\u001b[0m----------\n",
      "\u001b[93mshowdbsrc=Start\u001b[0m------------------------------------\n",
      "def whatinside(mo, # module, e.g., `import fastcore.all as fa`, use `fa` here                                                                           (0)\n",
      "               dun:bool=False, # print all items in __all__                                                                                             (1)\n",
      "               func:bool=False, # print all user defined functions                                                                                      (2)\n",
      "               clas:bool=False, # print all class objects                                                                                               (3)\n",
      "               bltin:bool=False, # print all builtin funcs or methods                                                                                   (4)\n",
      "               lib:bool=False, # print all the modules of the library it belongs to                                                                     (5)\n",
      "               cal:bool=False # print all callables                                                                                                     (6)\n",
      "             ):                                                                                                                                         (7)\n",
      "    'Check what inside a module: `__all__`, functions, classes, builtins, and callables'                                                                (8)\n",
      "    g = locals()                                                                                                                                        (9)\n",
      "    dbprintinsert(\"type(mo)\",env=g)=====================================================================================================================(db)\n",
      "    dun_all = len(mo.__all__) if hasattr(mo, \"__all__\") else 0                                                                                          (11)\n",
      "    funcs = inspect.getmembers(mo, inspect.isfunction)                                                                                                  (12)\n",
      "    classes = inspect.getmembers(mo, inspect.isclass)                                                                                                   (13)\n",
      "    builtins = inspect.getmembers(mo, inspect.isbuiltin)                                                                                                (14)\n",
      "    callables = inspect.getmembers(mo, callable)                                                                                                        (15)\n",
      "    pkgpath = os.path.dirname(mo.__file__)                                                                                                              (16)\n",
      "    print(f\"{mo.__name__} has: \\n{dun_all} items in its __all__, and \\n{len(funcs)} user defined functions, \\n{len(classes)} classes or class objects, \\n{len(builtins)} builtin funcs and methods, and\\n{len(callables)} callables.\\n\")  (17)\n",
      "    if hasattr(mo, \"__all__\") and dun: pprint(mo.__all__)                                                                                               (18)\n",
      "    if func:                                                                                                                                            (19)\n",
      "        print(f'The user defined functions are:')                                                                                                       (20)\n",
      "        pprint([i[0] for i in funcs])                                                                                                                   (21)\n",
      "    if clas:                                                                                                                                            (22)\n",
      "        print(f'The class objects are:')                                                                                                                (23)\n",
      "        pprint([i[0] for i in classes])                                                                                                                 (24)\n",
      "    if bltin:                                                                                                                                           (25)\n",
      "        print(f'The builtin functions or methods are:')                                                                                                 (26)\n",
      "        pprint([i[0] for i in builtins])                                                                                                                (27)\n",
      "    if cal:                                                                                                                                             (28)\n",
      "        print(f'The callables are: ')                                                                                                                   (29)\n",
      "        pprint([i[0] for i in callables])                                                                                                               (30)\n",
      "    if lib:                                                                                                                                             (31)\n",
      "        modules = [name for _, name, _ in pkgutil.iter_modules([pkgpath])]                                                                              (32)\n",
      "        print(f'The library has {len(modules)} modules')                                                                                                (33)\n",
      "        pprint(modules)                                                                                                                                 (34)\n",
      "before exec, locals(): ['self', 'dbcode', 'cmt', 'expand', 'showdbsrc', 'codes', 'src', 'dbsrc', 'indent', 'onedbprint', 'lst', 'newlst', 'i', 'srclines', 'idx', 'l', 'numindent', 'dbcodes', 'count', 'c', 'totallen', 'lenidx', 'dblst', 'lenl']\n",
      "after exec, locals(): ['self', 'dbcode', 'cmt', 'expand', 'showdbsrc', 'codes', 'src', 'dbsrc', 'indent', 'onedbprint', 'lst', 'newlst', 'i', 'srclines', 'idx', 'l', 'numindent', 'dbcodes', 'count', 'c', 'totallen', 'lenidx', 'dblst', 'lenl', 'whatinside']\n",
      "self.orisrc.__name__: whatinside\n",
      "\n",
      "\n",
      "                                                                                       list(locals().keys()) => list(locals().keys()) : ['env', 'codes', 'c']\n",
      "\n",
      "\n",
      "list(env.keys()) => list(env.keys()) : ['self', 'dbcode', 'cmt', 'expand', 'showdbsrc', 'codes', 'src', 'dbsrc', 'indent', 'onedbprint', 'lst', 'newlst', 'i', 'srclines', 'idx', 'l', 'numindent', 'dbcodes', 'count', 'c', 'totallen', 'lenidx', 'dblst', 'lenl', 'whatinside']\n",
      "\n",
      "\n",
      "list(self.outenv.keys()) => list(self.outenv.keys()) : ['__name__', '__doc__', '__package__', '__loader__', '__spec__', '__file__', '__cached__', '__builtins__', '__all__', 'os', 'pkgutil', 'pprint', 'inspect', 'whatinside', 'version', 'metadata', 'distribution', 'python_version', 'whichversion', 'tstenv']\n",
      "\n",
      "\n",
      "                                                                                                    self.orisrc.__name__ => self.orisrc.__name__ : whatinside\n",
      "locals()[self.orisrc.__name__]: <function whatinside at 0x103cd7e50>\n",
      "\u001b[93mshowdbsrc=End\u001b[0m--------------------------------------\n",
      "\n",
      "\n",
      "\u001b[93musing db Fastdb.dbprint to create db whatinside is done\u001b[0m---------------------------------------------------------------------------------------------\n",
      "\n",
      "\n",
      "\n",
      "\n",
      "                                                                                                                      type(mo) => type(mo) : <class 'module'>\n",
      "fastdebug.utils has: \n",
      "3 items in its __all__, and \n",
      "122 user defined functions, \n",
      "18 classes or class objects, \n",
      "1 builtin funcs and methods, and\n",
      "143 callables.\n",
      "\n",
      "\n",
      "\n",
      "\u001b[93musing db whatinside to run example on core above\u001b[0m----------------------------------------------------------------------------------------------------\n",
      "\n",
      "\n",
      "@patch====================================================================================(0)       \n",
      "def dbprint(self:Fastdb, =================================================================(1)       \n",
      "            dbcode:int, # idx of a srcline under investigation, can only be int===========(2)       \n",
      "            cmt:str, # comment added to the srcline=======================================(3)       \n",
      "            *codes, # a list of expressions (str) you write to be evaluated above the srcline                                                           (4)\n",
      "            expand:int=2, # span 2 lines of srcode up and down from the srcline investigated                                                            (5)\n",
      "            showdbsrc:bool=False): # display dbsrc========================================(6)       \n",
      "    \"Add comment and evaluate custom (single or multi lines) expressions to any srcline of the source code you are investigating\"                       (7)\n",
      "                                                                                                                                                        (8)\n",
      "    src = self.orisrc=====================================================================(9) # keep original src safe\n",
      "    if type(dbcode) == int: self.cmts.update({dbcode: cmt})===============================(10) # collect and organize cmt by idx\n",
      "                                                                                                                                                        (11)\n",
      "    printsrc(src, dbcode, cmt, expand)====================================================(12) # print srcdoe with comment, idx and specified expands\n",
      "    print('{:-<60}'.format(colorize(\"print selected srcline with expands above\", color=\"y\")))                                                           (13)\n",
      "                                                                                                                                                        (14)\n",
      "    dbsrc = \"\"============================================================================(15)      \n",
      "    indent = 4============================================================================(16) # make sure only one srcline is selected at a time\n",
      "    onedbprint = False====================================================================(17)      \n",
      "                                                                                                                                                        (18)\n",
      "    lst = inspect.getsource(src).split('\\n')==============================================(19) # remove the last line if it is empty\n",
      "    if not bool(lst[-1]): lst = lst[:-1]==================================================(20)      \n",
      "                                                                                                                                                        (21)\n",
      "    newlst = []===========================================================================(22)      \n",
      "    for i in codes: # no matter whether there is \"\" or \"  \" in the front or in the middle of codes                                                      (23)\n",
      "        if bool(i.strip()): newlst.append(i)==============================================(24) # users can put '' and '  ' as codes, but will be ignored.\n",
      "    codes = newlst========================================================================(25)      \n",
      "                                                                                                                                                        (26)\n",
      "    srclines = \"\"=========================================================================(27)      \n",
      "    if type(dbcode) == int:===============================================================(28) # turn idx of srcline into string if decode is not already a string.\n",
      "        srclines = lst[dbcode]============================================================(29)      \n",
      "    else:=================================================================================(30)      \n",
      "        colwarn = colorize(\"Warning!\", color=\"r\")=========================================(31)      \n",
      "        colmsg = colorize(\" param decode has to be an int as idx.\", color=\"y\")============(32)      \n",
      "        print(colwarn + colmsg)===========================================================(33)      \n",
      "#         srclines = dbcode===============================================================(34) # Warning message if decode is not an int for idx.\n",
      "        return============================================================================(35)      \n",
      "                                                                                                                                                        (36)\n",
      "    for idx, l in zip(range(len(lst)), lst):==============================================(37)      \n",
      "                                                                                                                                                        (38)\n",
      "        if bool(l.strip()) and l.strip() in srclines and idx == dbcode:===================(39)      \n",
      "                                                                                                                                                        (40)\n",
      "            if len(codes) > 0: ===========================================================(41)      \n",
      "                numindent = len(l) - len(l.lstrip()) # make sure indent not messed up by trailing spaces                                                (42)\n",
      "                dbcodes = \"dbprintinsert(\"================================================(43)      \n",
      "                count = 1=================================================================(44)      \n",
      "                for c in codes:===========================================================(45)      \n",
      "                    if count == len(codes):===============================================(46)      \n",
      "                        dbcodes = dbcodes + '\"' + c + '\"' + \",\" + \"env=g\" + \")\"===========(47)      \n",
      "                    else:=================================================================(48)      \n",
      "                        dbcodes = dbcodes + '\"' + c + '\"' + \",\"===========================(49)      \n",
      "                    count = count + 1=====================================================(50)      \n",
      "                                                                                                                                                        (51)\n",
      "                dbsrc = dbsrc + \" \"*numindent + \"g = locals()\" + '\\n'=====================(52)      \n",
      "                dbsrc = dbsrc + \" \"*numindent + dbcodes + '\\n'============================(53) # what does dbprintinsert line look like\n",
      "                dbsrc = dbsrc + l + '\\n'     =============================================(54)      \n",
      "            else:=========================================================================(55)      \n",
      "                dbsrc = dbsrc + l + '\\n'                ==================================(56)      \n",
      "                                                                                                                                                        (57)\n",
      "        elif bool(l.strip()) and idx + 1 == len(lst):=====================================(58)      \n",
      "            dbsrc = dbsrc + l=============================================================(59)      \n",
      "                                                                                                                                                        (60)\n",
      "        elif bool(l.strip()): # make sure pure indentation + \\n is ignored================(61)      \n",
      "            dbsrc = dbsrc + l + '\\n'======================================================(62)      \n",
      "                                                                                                                                                        (63)\n",
      "    if showdbsrc: # added to debug========================================================(64)      \n",
      "        print('{:-<60}'.format(colorize(\"showdbsrc=Start\", color=\"y\")))===================(65)      \n",
      "        totallen = 157====================================================================(66)      \n",
      "        lenidx = 5========================================================================(67)      \n",
      "        dblst = dbsrc.split('\\n')=========================================================(68)      \n",
      "        for idx, l in zip(range(len(dblst)), dblst):======================================(69)      \n",
      "            lenl = len(l)=================================================================(70)      \n",
      "#             if \"dbprintinsert\" in l: ===================================================(71)      \n",
      "            if l.strip().startswith(\"dbprintinsert\"): ====================================(72)      \n",
      "                print(l + \"=\"*(totallen-lenl-lenidx) + \"(db)\")============================(73)      \n",
      "            else:=========================================================================(74)      \n",
      "                print(l + \" \"*(totallen-lenl-lenidx) + \"(\" + str(idx) + \")\")==============(75) # check status of locals, Fastdb.dbprint and fdb.dbprint\n",
      "        print(f\"before exec, locals(): {list(locals().keys())}\")==========================(76)      \n",
      "                                                                                                                                                        (77)\n",
      "    exec(dbsrc, globals().update(self.outenv)) # make sure b can access lst from above====(78)      \n",
      "                                                                                                                                                        (79)\n",
      "    if showdbsrc: ========================================================================(80)      \n",
      "        print(f\"after exec, locals(): {list(locals().keys())}\")===========================(81)      \n",
      "        print(f'self.orisrc.__name__: {self.orisrc.__name__}')============================(82)      \n",
      "        print(f'locals()[self.orisrc.__name__]: {locals()[self.orisrc.__name__]}')========(83) # return the dbsrc using locals()\n",
      "        print('{:-<60}'.format(colorize(\"showdbsrc=End\", color=\"y\")))=====================(84)      \n",
      "                                                                                                                                                        (85)\n",
      "    return locals()[self.orisrc.__name__]=================================================(86)      \n",
      "                                                                                                                                                        (87)\n"
     ]
    }
   ],
   "source": [
    "dbdb(83, \"return the dbsrc using locals()\", \"list(locals().keys())\", \"list(env.keys())\", \"list(self.outenv.keys())\", \"self.orisrc.__name__\", db=True, full=True)"
   ]
  },
  {
   "cell_type": "markdown",
   "id": "07c79e40",
   "metadata": {},
   "source": [
    "### How to check whether two vars refer to the same object"
   ]
  },
  {
   "cell_type": "code",
   "execution_count": null,
   "id": "ebfc179b",
   "metadata": {},
   "outputs": [],
   "source": [
    "fdb.dbprint is Fastdb.dbprint"
   ]
  },
  {
   "cell_type": "code",
   "execution_count": null,
   "id": "8a1c4340",
   "metadata": {},
   "outputs": [],
   "source": [
    "fdb.dbprint is fdb.orisrc"
   ]
  },
  {
   "cell_type": "code",
   "execution_count": null,
   "id": "91c44399",
   "metadata": {},
   "outputs": [],
   "source": [
    "Fastdb.dbprint is fdb.orisrc"
   ]
  },
  {
   "cell_type": "markdown",
   "id": "2163f3ad",
   "metadata": {},
   "source": [
    "## Make the above into a class and methods"
   ]
  },
  {
   "cell_type": "code",
   "execution_count": null,
   "id": "33f04b04",
   "metadata": {},
   "outputs": [],
   "source": [
    "from fastdebug.core import *\n",
    "from fastdebug.utils import whatinside\n",
    "from fastcore.basics import *"
   ]
  },
  {
   "cell_type": "code",
   "execution_count": null,
   "id": "676c9749",
   "metadata": {},
   "outputs": [
    {
     "data": {
      "text/plain": [
       "'Fastdb.dbprint'"
      ]
     },
     "execution_count": null,
     "metadata": {},
     "output_type": "execute_result"
    }
   ],
   "source": [
    "Fastdb.dbprint.__qualname__"
   ]
  },
  {
   "cell_type": "code",
   "execution_count": null,
   "id": "5bfb6aac",
   "metadata": {},
   "outputs": [],
   "source": [
    "class DBDB():\n",
    "    \"Using Fastdb to debug Fastdb\"\n",
    "    def __init__(self, \n",
    "                 clsfunc=Fastdb.dbprint, # name of src code you are exploring\n",
    "                 egfunc=whatinside): # env variables needed for exploring the source code, e.g., g = globals()\n",
    "        self.oriclsfunc = clsfunc\n",
    "        self.oriegfunc = egfunc\n",
    "        self.cls = Fastdb # to use exec later\n",
    "        self.clsfunc = clsfunc\n",
    "        self.egfunc = egfunc\n",
    "        \n",
    "        self.g_clsfunc = {}\n",
    "        self.g_clsfunc.update(clsfunc.__globals__)\n",
    "        self.g_egfunc = {}\n",
    "        self.g_egfunc.update(egfunc.__globals__)\n",
    "        \n",
    "        self.fdb = self.cls(clsfunc, self.g_clsfunc)\n",
    "\n",
    "#         self.margin = 157\n",
    "#         self.outenv = env\n",
    "#         self.cmts = {}"
   ]
  },
  {
   "cell_type": "code",
   "execution_count": null,
   "id": "29da21b0",
   "metadata": {},
   "outputs": [],
   "source": [
    "@patch\n",
    "def print(self:DBDB,\n",
    "          pmax=10, # max display of src per cell\n",
    "          pt=1): # which part\n",
    "    \n",
    "    self.fdb.print(pmax, pt) # if pmax == 0, then no printing src"
   ]
  },
  {
   "cell_type": "code",
   "execution_count": null,
   "id": "b62b958d",
   "metadata": {},
   "outputs": [],
   "source": [
    "@patch\n",
    "def dbdb(self:DBDB,\n",
    "         idx, # idx of srcline\n",
    "         cmt, # comment\n",
    "         *codes): # expressions to evaluate\n",
    "\n",
    "    # Turn Fastdb.dbprint and whatinside back to normal\n",
    "    self.clsfunc = self.oriclsfunc\n",
    "    self.egfunc = self.oriegfunc # Important! remember to bring whatinside back to normal after each srcline exploration\n",
    "\n",
    "    # update a new Fastdb.dbprint\n",
    "    self.fdb.dbprint(idx, cmt, *codes)\n",
    "    # creating a db object on whatinside with new Fastdb.dbprint\n",
    "    self.fdbw = self.cls(self.egfunc, self.g_egfunc)\n",
    "    # fdbw.print(10, 1)\n",
    "    # we are still debuggin the same line in whatinside\n",
    "    new = self.fdbw.dbprint(9, \"count num of funcs in __all__\", \"type(mo)\")\n",
    "    self.egfunc = new\n",
    "    self.egfunc(core)\n",
    "    "
   ]
  },
  {
   "cell_type": "code",
   "execution_count": null,
   "id": "78e790b0",
   "metadata": {},
   "outputs": [],
   "source": [
    "obj = DBDB()"
   ]
  },
  {
   "cell_type": "code",
   "execution_count": null,
   "id": "0ec4535e",
   "metadata": {},
   "outputs": [
    {
     "name": "stdout",
     "output_type": "stream",
     "text": [
      "@patch====================================================================================(0)       \n",
      "def dbprint(self:Fastdb, =================================================================(1)       \n",
      "            dbcode:int, # idx of a srcline under investigation, can only be int===========(2)       \n",
      "            cmt:str, # comment added to the srcline=======================================(3)       \n",
      "            *codes, # a list of expressions (str) you write to be evaluated above the srcline                                                           (4)\n",
      "            expand:int=2, # span 2 lines of srcode up and down from the srcline investigated                                                            (5)\n",
      "            showdbsrc:bool=False): # display dbsrc========================================(6)       \n",
      "    \"Add comment and evaluate custom (single or multi lines) expressions to any srcline of the source code you are investigating\"                       (7)\n",
      "                                                                                                                                                        (8)\n",
      "    src = self.orisrc=====================================================================(9)       \n",
      "                                                                                                                                     part No.1 out of 3 parts\n"
     ]
    }
   ],
   "source": [
    "obj.print()"
   ]
  },
  {
   "cell_type": "code",
   "execution_count": null,
   "id": "36e9edc7",
   "metadata": {},
   "outputs": [
    {
     "name": "stdout",
     "output_type": "stream",
     "text": [
      "        return                                                                                                                                          (34)\n",
      "                                                                                                                                                        (35)\n",
      "    for idx, l in zip(range(len(lst)), lst):============================================================================================================(36)\n",
      "                                                                                                                                  \u001b[91mloop every srcline with idx\u001b[0m\n",
      "                                                                                                                                                        (37)\n",
      "        if bool(l.strip()) and l.strip() in srclines and idx == dbcode:                                                                                 (38)\n",
      "             ):                                                                                                                                         (7)\n",
      "    'Check what inside a module: `__all__`, functions, classes, builtins, and callables'                                                                (8)\n",
      "    dun_all = len(mo.__all__) if hasattr(mo, \"__all__\") else 0==========================================================================================(9)\n",
      "                                                                                                                                \u001b[91mcount num of funcs in __all__\u001b[0m\n",
      "    funcs = inspect.getmembers(mo, inspect.isfunction)                                                                                                  (10)\n",
      "    classes = inspect.getmembers(mo, inspect.isclass)                                                                                                   (11)\n",
      "\n",
      "\n",
      "                                                                                                                                    len(lst) => len(lst) : 33\n",
      "\n",
      "\n",
      "                                                                                                                      type(mo) => type(mo) : <class 'module'>\n",
      "fastdebug.utils has: \n",
      "3 items in its __all__, and \n",
      "122 user defined functions, \n",
      "18 classes or class objects, \n",
      "1 builtin funcs and methods, and\n",
      "143 callables.\n",
      "\n"
     ]
    }
   ],
   "source": [
    "obj.dbdb(36, \"loop every srcline with idx\", \"len(lst)\")"
   ]
  },
  {
   "cell_type": "code",
   "execution_count": null,
   "id": "3b6f2b47",
   "metadata": {},
   "outputs": [
    {
     "name": "stdout",
     "output_type": "stream",
     "text": [
      "    for idx, l in zip(range(len(lst)), lst):                                                                                                            (36)\n",
      "                                                                                                                                                        (37)\n",
      "        if bool(l.strip()) and l.strip() in srclines and idx == dbcode:=================================================================================(38)\n",
      "                                                                                                                                \u001b[91mwhen srcline match decode idx\u001b[0m\n",
      "                                                                                                                                                        (39)\n",
      "            if len(codes) > 0:                                                                                                                          (40)\n",
      "\n",
      "\n",
      "                                                                                                                                    len(lst) => len(lst) : 88\n",
      "             ):                                                                                                                                         (7)\n",
      "    'Check what inside a module: `__all__`, functions, classes, builtins, and callables'                                                                (8)\n",
      "    dun_all = len(mo.__all__) if hasattr(mo, \"__all__\") else 0==========================================================================================(9)\n",
      "                                                                                                                                \u001b[91mcount num of funcs in __all__\u001b[0m\n",
      "    funcs = inspect.getmembers(mo, inspect.isfunction)                                                                                                  (10)\n",
      "    classes = inspect.getmembers(mo, inspect.isclass)                                                                                                   (11)\n",
      "\n",
      "\n",
      "                                                                                                                      type(mo) => type(mo) : <class 'module'>\n",
      "fastdebug.utils has: \n",
      "3 items in its __all__, and \n",
      "122 user defined functions, \n",
      "18 classes or class objects, \n",
      "1 builtin funcs and methods, and\n",
      "143 callables.\n",
      "\n"
     ]
    }
   ],
   "source": [
    "obj.dbdb(38, \"when srcline match decode idx\")"
   ]
  },
  {
   "cell_type": "code",
   "execution_count": null,
   "id": "f2409d3c",
   "metadata": {},
   "outputs": [
    {
     "name": "stdout",
     "output_type": "stream",
     "text": [
      "        colwarn = colorize(\"Warning!\", color=\"r\")=========================================(30)      \n",
      "        colmsg = colorize(\" param decode has to be an int as idx.\", color=\"y\")============(31)      \n",
      "        print(colwarn + colmsg)===========================================================(32)      \n",
      "#         srclines = dbcode===============================================================(33)      \n",
      "        return============================================================================(34)      \n",
      "                                                                                                                                                        (35)\n",
      "    for idx, l in zip(range(len(lst)), lst):==============================================(36) # loop every srcline with idx\n",
      "                                                                                                                                                        (37)\n",
      "        if bool(l.strip()) and l.strip() in srclines and idx == dbcode:===================(38) # when srcline match decode idx\n",
      "                                                                                                                                                        (39)\n",
      "            if len(codes) > 0: ===========================================================(40)      \n",
      "                numindent = len(l) - len(l.lstrip()) # make sure indent not messed up by trailing spaces                                                (41)\n",
      "                dbcodes = \"dbprintinsert(\"================================================(42)      \n",
      "                count = 1=================================================================(43)      \n",
      "                for c in codes:===========================================================(44)      \n",
      "                    if count == len(codes):===============================================(45)      \n",
      "                        dbcodes = dbcodes + '\"' + c + '\"' + \",\" + \"env=g\" + \")\"===========(46)      \n",
      "                    else:=================================================================(47)      \n",
      "                        dbcodes = dbcodes + '\"' + c + '\"' + \",\"===========================(48)      \n",
      "                    count = count + 1=====================================================(49)      \n",
      "                                                                                                                                                        (50)\n",
      "                dbsrc = dbsrc + \" \"*numindent + \"g = locals()\" + '\\n'=====================(51)      \n",
      "                dbsrc = dbsrc + \" \"*numindent + dbcodes + '\\n'============================(52)      \n",
      "                dbsrc = dbsrc + l + '\\n'     =============================================(53)      \n",
      "            else:=========================================================================(54)      \n",
      "                dbsrc = dbsrc + l + '\\n'                ==================================(55)      \n",
      "                                                                                                                                                        (56)\n",
      "        elif bool(l.strip()) and idx + 1 == len(lst):=====================================(57)      \n",
      "            dbsrc = dbsrc + l=============================================================(58)      \n",
      "                                                                                                                                                        (59)\n",
      "                                                                                                                                     part No.2 out of 3 parts\n"
     ]
    }
   ],
   "source": [
    "obj.print(30,2)"
   ]
  },
  {
   "cell_type": "code",
   "execution_count": null,
   "id": "dec2d414",
   "metadata": {},
   "outputs": [
    {
     "name": "stdout",
     "output_type": "stream",
     "text": [
      "        if bool(l.strip()) and l.strip() in srclines and idx == dbcode:                                                                                 (38)\n",
      "                                                                                                                                                        (39)\n",
      "            if len(codes) > 0: =========================================================================================================================(40)\n",
      "                                                                                                                           \u001b[91mwhen there is code to be evaluated\u001b[0m\n",
      "                numindent = len(l) - len(l.lstrip()) # make sure indent not messed up by trailing spaces                                                (41)\n",
      "                dbcodes = \"dbprintinsert(\"                                                                                                              (42)\n",
      "             ):                                                                                                                                         (7)\n",
      "    'Check what inside a module: `__all__`, functions, classes, builtins, and callables'                                                                (8)\n",
      "    dun_all = len(mo.__all__) if hasattr(mo, \"__all__\") else 0==========================================================================================(9)\n",
      "                                                                                                                                \u001b[91mcount num of funcs in __all__\u001b[0m\n",
      "    funcs = inspect.getmembers(mo, inspect.isfunction)                                                                                                  (10)\n",
      "    classes = inspect.getmembers(mo, inspect.isclass)                                                                                                   (11)\n",
      "\n",
      "\n",
      "                                                                                                                     codes => codes : ('codes', 'len(codes)')\n",
      "\n",
      "\n",
      "                                                                                                                                 len(codes) => len(codes) : 2\n",
      "\n",
      "\n",
      "                                                                                                                      type(mo) => type(mo) : <class 'module'>\n",
      "fastdebug.utils has: \n",
      "3 items in its __all__, and \n",
      "122 user defined functions, \n",
      "18 classes or class objects, \n",
      "1 builtin funcs and methods, and\n",
      "143 callables.\n",
      "\n"
     ]
    }
   ],
   "source": [
    "obj.dbdb(40, \"when there is code to be evaluated\", \"codes\", \"len(codes)\")"
   ]
  },
  {
   "cell_type": "code",
   "execution_count": null,
   "id": "0d7b076d",
   "metadata": {},
   "outputs": [
    {
     "name": "stdout",
     "output_type": "stream",
     "text": [
      "            if len(codes) > 0: ===========================================================(40) # when there is code to be evaluated\n",
      "                numindent = len(l) - len(l.lstrip()) # make sure indent not messed up by trailing spaces                                                (41)\n",
      "                dbcodes = \"dbprintinsert(\"================================================(42)      \n",
      "                count = 1=================================================================(43)      \n",
      "                for c in codes:===========================================================(44)      \n",
      "                    if count == len(codes):===============================================(45)      \n",
      "                        dbcodes = dbcodes + '\"' + c + '\"' + \",\" + \"env=g\" + \")\"===========(46)      \n",
      "                    else:=================================================================(47)      \n",
      "                        dbcodes = dbcodes + '\"' + c + '\"' + \",\"===========================(48)      \n",
      "                    count = count + 1=====================================================(49)      \n",
      "                                                                                                                                                        (50)\n",
      "                dbsrc = dbsrc + \" \"*numindent + \"g = locals()\" + '\\n'=====================(51)      \n",
      "                dbsrc = dbsrc + \" \"*numindent + dbcodes + '\\n'============================(52)      \n",
      "                dbsrc = dbsrc + l + '\\n'     =============================================(53)      \n",
      "            else:=========================================================================(54)      \n",
      "                dbsrc = dbsrc + l + '\\n'                ==================================(55)      \n",
      "                                                                                                                                                        (56)\n",
      "        elif bool(l.strip()) and idx + 1 == len(lst):=====================================(57)      \n",
      "            dbsrc = dbsrc + l=============================================================(58)      \n",
      "                                                                                                                                                        (59)\n",
      "                                                                                                                                     part No.3 out of 3 parts\n"
     ]
    }
   ],
   "source": [
    "obj.print(20,3)"
   ]
  },
  {
   "cell_type": "code",
   "execution_count": null,
   "id": "b09efe5b",
   "metadata": {},
   "outputs": [
    {
     "data": {
      "text/plain": [
       "False"
      ]
     },
     "execution_count": null,
     "metadata": {},
     "output_type": "execute_result"
    }
   ],
   "source": [
    "obj.clsfunc == Fastdb.dbprint"
   ]
  },
  {
   "cell_type": "code",
   "execution_count": null,
   "id": "5dff595a",
   "metadata": {},
   "outputs": [
    {
     "data": {
      "text/plain": [
       "<function fastdebug.core.Fastdb.dbprint(self: fastdebug.core.Fastdb, dbcode: int, cmt: str, *codes, expand: int = 2, showdbsrc: bool = False)>"
      ]
     },
     "execution_count": null,
     "metadata": {},
     "output_type": "execute_result"
    }
   ],
   "source": [
    "obj.clsfunc"
   ]
  },
  {
   "cell_type": "code",
   "execution_count": null,
   "id": "c1f5fda7",
   "metadata": {},
   "outputs": [
    {
     "name": "stdout",
     "output_type": "stream",
     "text": [
      "                dbsrc = dbsrc + \" \"*numindent + \"g = locals()\" + '\\n'                                                                                   (51)\n",
      "                dbsrc = dbsrc + \" \"*numindent + dbcodes + '\\n'                                                                                          (52)\n",
      "                dbsrc = dbsrc + l + '\\n'     ===========================================================================================================(53)\n",
      "                                                                                                                       \u001b[91madd codes as strings into dbprintinser\u001b[0m\n",
      "            else:                                                                                                                                       (54)\n",
      "                dbsrc = dbsrc + l + '\\n'                                                                                                                (55)\n",
      "\n",
      "\n",
      "                                                                                                                     codes => codes : ('codes', 'len(codes)')\n",
      "\n",
      "\n",
      "                                                                                                                                 len(codes) => len(codes) : 2\n",
      "             ):                                                                                                                                         (7)\n",
      "    'Check what inside a module: `__all__`, functions, classes, builtins, and callables'                                                                (8)\n",
      "    dun_all = len(mo.__all__) if hasattr(mo, \"__all__\") else 0==========================================================================================(9)\n",
      "                                                                                                                                \u001b[91mcount num of funcs in __all__\u001b[0m\n",
      "    funcs = inspect.getmembers(mo, inspect.isfunction)                                                                                                  (10)\n",
      "    classes = inspect.getmembers(mo, inspect.isclass)                                                                                                   (11)\n",
      "\n",
      "\n",
      "dbsrc => dbsrc : def whatinside(mo, # module, e.g., `import fastcore.all as fa`, use `fa` here\n",
      "               dun:bool=False, # print all items in __all__\n",
      "               func:bool=False, # print all user defined functions\n",
      "               clas:bool=False, # print all class objects\n",
      "               bltin:bool=False, # print all builtin funcs or methods\n",
      "               lib:bool=False, # print all the modules of the library it belongs to\n",
      "               cal:bool=False # print all callables\n",
      "             ): \n",
      "    'Check what inside a module: `__all__`, functions, classes, builtins, and callables'\n",
      "    g = locals()\n",
      "    dbprintinsert(\"type(mo)\",env=g)\n",
      "\n",
      "\n",
      "\n",
      "dbsrc + l => dbsrc + l : def whatinside(mo, # module, e.g., `import fastcore.all as fa`, use `fa` here\n",
      "               dun:bool=False, # print all items in __all__\n",
      "               func:bool=False, # print all user defined functions\n",
      "               clas:bool=False, # print all class objects\n",
      "               bltin:bool=False, # print all builtin funcs or methods\n",
      "               lib:bool=False, # print all the modules of the library it belongs to\n",
      "               cal:bool=False # print all callables\n",
      "             ): \n",
      "    'Check what inside a module: `__all__`, functions, classes, builtins, and callables'\n",
      "    g = locals()\n",
      "    dbprintinsert(\"type(mo)\",env=g)\n",
      "    dun_all = len(mo.__all__) if hasattr(mo, \"__all__\") else 0\n",
      "\n",
      "\n",
      "                                                                                                                      type(mo) => type(mo) : <class 'module'>\n",
      "fastdebug.utils has: \n",
      "3 items in its __all__, and \n",
      "122 user defined functions, \n",
      "18 classes or class objects, \n",
      "1 builtin funcs and methods, and\n",
      "143 callables.\n",
      "\n"
     ]
    }
   ],
   "source": [
    "obj.dbdb(53, \"add codes as strings into dbprintinser\", \"dbsrc\", \"dbsrc + l\")"
   ]
  },
  {
   "cell_type": "code",
   "execution_count": null,
   "id": "ff5bcb8b",
   "metadata": {},
   "outputs": [],
   "source": []
  }
 ],
 "metadata": {
  "kernelspec": {
   "display_name": "Python 3 (ipykernel)",
   "language": "python",
   "name": "python3"
  }
 },
 "nbformat": 4,
 "nbformat_minor": 5
}
