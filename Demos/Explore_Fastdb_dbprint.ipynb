{
 "cells": [
  {
   "cell_type": "markdown",
   "id": "f932d6a0",
   "metadata": {},
   "source": [
    "# Explore Fastdb class"
   ]
  },
  {
   "cell_type": "code",
   "execution_count": null,
   "id": "438215f1",
   "metadata": {},
   "outputs": [],
   "source": [
    "from IPython.display import display, HTML "
   ]
  },
  {
   "cell_type": "code",
   "execution_count": null,
   "id": "949323b7",
   "metadata": {},
   "outputs": [
    {
     "data": {
      "text/html": [
       "<style>.container { width:90% !important; }</style>"
      ],
      "text/plain": [
       "<IPython.core.display.HTML object>"
      ]
     },
     "metadata": {},
     "output_type": "display_data"
    }
   ],
   "source": [
    "display(HTML(\"<style>.container { width:90% !important; }</style>\"))"
   ]
  },
  {
   "cell_type": "markdown",
   "id": "7874adc2",
   "metadata": {},
   "source": [
    "## Why"
   ]
  },
  {
   "cell_type": "markdown",
   "id": "43d60796",
   "metadata": {},
   "source": [
    "So far I have created two demos, a simple one on `fastdebug.utils.whatinside` and a real world one on `fastcore.meta.FixSigMeta`. They should be enough as demos to show the usefulness of fastdebug library. "
   ]
  },
  {
   "cell_type": "markdown",
   "id": "1ba07ebd",
   "metadata": {},
   "source": [
    "However, I want to be thorough and really prove to myself that it can help me to conquer unknowns and clear doubts with ease and joy when exploring source code. "
   ]
  },
  {
   "cell_type": "markdown",
   "id": "01d1ba3e",
   "metadata": {},
   "source": [
    "Fastdb class and the funcs it uses contains all the tricks I learnt and difficulties I conquered which I don't always remember how and why. In fact I don't want to remember them. I want to just run all cells here and skim through the notebook and everything makes sense to me. "
   ]
  },
  {
   "cell_type": "markdown",
   "id": "71c678a9",
   "metadata": {},
   "source": [
    "Can fastdebug help me achieve it? Let's give a try!"
   ]
  },
  {
   "cell_type": "markdown",
   "id": "3406ddaa",
   "metadata": {},
   "source": [
    "## How to do it?"
   ]
  },
  {
   "cell_type": "markdown",
   "id": "4a7154d3",
   "metadata": {},
   "source": [
    "I need a few examples first. Maybe I could just use the simple demo as example for `Fastdb`."
   ]
  },
  {
   "cell_type": "markdown",
   "id": "3596fd44",
   "metadata": {},
   "source": [
    "## `whatinside` and `gw['whatinside']` are the same"
   ]
  },
  {
   "cell_type": "code",
   "execution_count": null,
   "id": "83a59310",
   "metadata": {},
   "outputs": [],
   "source": [
    "from fastdebug.utils import *\n",
    "import inspect"
   ]
  },
  {
   "cell_type": "code",
   "execution_count": null,
   "id": "3f90d5ba",
   "metadata": {},
   "outputs": [
    {
     "data": {
      "text/plain": [
       "20"
      ]
     },
     "execution_count": null,
     "metadata": {},
     "output_type": "execute_result"
    }
   ],
   "source": [
    "gw = {}\n",
    "gw.update(whatinside.__globals__)\n",
    "len(gw)"
   ]
  },
  {
   "cell_type": "code",
   "execution_count": null,
   "id": "118d10bc",
   "metadata": {},
   "outputs": [
    {
     "data": {
      "text/plain": [
       "'<code object whatinside at 0x10809da80, file \"/Users/Natsume/Documents/fastdebug/fastdebug/utils.py\", line 14>'"
      ]
     },
     "execution_count": null,
     "metadata": {},
     "output_type": "execute_result"
    }
   ],
   "source": [
    "whatinside.__code__.__repr__()"
   ]
  },
  {
   "cell_type": "code",
   "execution_count": null,
   "id": "cb8420d3",
   "metadata": {},
   "outputs": [
    {
     "data": {
      "text/plain": [
       "<code object whatinside at 0x10809da80, file \"/Users/Natsume/Documents/fastdebug/fastdebug/utils.py\", line 14>"
      ]
     },
     "execution_count": null,
     "metadata": {},
     "output_type": "execute_result"
    }
   ],
   "source": [
    "gw['whatinside'].__code__"
   ]
  },
  {
   "cell_type": "code",
   "execution_count": null,
   "id": "d3e507c1",
   "metadata": {},
   "outputs": [
    {
     "data": {
      "text/plain": [
       "'def whatinside(mo, # module, e.g., `import fastcore.all as fa`, use `fa` here\\n               dun:bool=False, # print all items in __all__\\n               func:bool=False, # print all user defined functions\\n               clas:bool=False, # print all class objects\\n               bltin:bool=False, # print all builtin funcs or methods\\n               lib:bool=False, # print all the modules of the library it belongs to\\n               cal:bool=False # print all callables\\n             ): \\n    \\'Check what inside a module: `__all__`, functions, classes, builtins, and callables\\'\\n    dun_all = len(mo.__all__) if hasattr(mo, \"__all__\") else 0\\n    funcs = inspect.getmembers(mo, inspect.isfunction)\\n    classes = inspect.getmembers(mo, inspect.isclass)\\n    builtins = inspect.getmembers(mo, inspect.isbuiltin)\\n    callables = inspect.getmembers(mo, callable)\\n    pkgpath = os.path.dirname(mo.__file__)\\n    print(f\"{mo.__name__} has: \\\\n{dun_all} items in its __all__, and \\\\n{len(funcs)} user defined functions, \\\\n{len(classes)} classes or class objects, \\\\n{len(builtins)} builtin funcs and methods, and\\\\n{len(callables)} callables.\\\\n\")  \\n    if hasattr(mo, \"__all__\") and dun: pprint(mo.__all__)\\n    if func: \\n        print(f\\'The user defined functions are:\\')\\n        pprint([i[0] for i in funcs])\\n    if clas: \\n        print(f\\'The class objects are:\\')\\n        pprint([i[0] for i in classes])\\n    if bltin: \\n        print(f\\'The builtin functions or methods are:\\')\\n        pprint([i[0] for i in builtins])\\n    if cal: \\n        print(f\\'The callables are: \\')\\n        pprint([i[0] for i in callables])\\n    if lib: \\n        modules = [name for _, name, _ in pkgutil.iter_modules([pkgpath])]\\n        print(f\\'The library has {len(modules)} modules\\')\\n        pprint(modules)\\n'"
      ]
     },
     "execution_count": null,
     "metadata": {},
     "output_type": "execute_result"
    }
   ],
   "source": [
    "inspect.getsource(gw['whatinside'])"
   ]
  },
  {
   "cell_type": "code",
   "execution_count": null,
   "id": "778edd93",
   "metadata": {},
   "outputs": [
    {
     "data": {
      "text/plain": [
       "True"
      ]
     },
     "execution_count": null,
     "metadata": {},
     "output_type": "execute_result"
    }
   ],
   "source": [
    "gw['whatinside'] == whatinside"
   ]
  },
  {
   "cell_type": "code",
   "execution_count": null,
   "id": "ce9ade7b",
   "metadata": {},
   "outputs": [],
   "source": []
  },
  {
   "cell_type": "code",
   "execution_count": null,
   "id": "64ba86bd",
   "metadata": {},
   "outputs": [],
   "source": []
  },
  {
   "cell_type": "markdown",
   "id": "7c467c61",
   "metadata": {},
   "source": [
    "## Dot it in a more natural and ordered way"
   ]
  },
  {
   "cell_type": "code",
   "execution_count": null,
   "id": "5e56f224",
   "metadata": {},
   "outputs": [],
   "source": [
    "from fastdebug.core import *"
   ]
  },
  {
   "cell_type": "code",
   "execution_count": null,
   "id": "5a7d69c6",
   "metadata": {},
   "outputs": [],
   "source": [
    "import inspect"
   ]
  },
  {
   "cell_type": "markdown",
   "id": "51edbdf9",
   "metadata": {},
   "source": [
    "### Prepare env for Fastdb.dbprint"
   ]
  },
  {
   "cell_type": "code",
   "execution_count": null,
   "id": "f731504c",
   "metadata": {},
   "outputs": [
    {
     "data": {
      "text/plain": [
       "157"
      ]
     },
     "execution_count": null,
     "metadata": {},
     "output_type": "execute_result"
    }
   ],
   "source": [
    "g = {}\n",
    "g.update(Fastdb.dbprint.__globals__)\n",
    "len(g)"
   ]
  },
  {
   "cell_type": "code",
   "execution_count": null,
   "id": "53eaf473",
   "metadata": {},
   "outputs": [
    {
     "data": {
      "text/plain": [
       "False"
      ]
     },
     "execution_count": null,
     "metadata": {},
     "output_type": "execute_result"
    }
   ],
   "source": [
    "'Fastdb.dbprint' in g"
   ]
  },
  {
   "cell_type": "code",
   "execution_count": null,
   "id": "df1a9a2a",
   "metadata": {},
   "outputs": [
    {
     "data": {
      "text/plain": [
       "True"
      ]
     },
     "execution_count": null,
     "metadata": {},
     "output_type": "execute_result"
    }
   ],
   "source": [
    "'Fastdb' in g"
   ]
  },
  {
   "cell_type": "code",
   "execution_count": null,
   "id": "98a06e0d",
   "metadata": {},
   "outputs": [
    {
     "data": {
      "text/plain": [
       "True"
      ]
     },
     "execution_count": null,
     "metadata": {},
     "output_type": "execute_result"
    }
   ],
   "source": [
    "'dbprint' in g"
   ]
  },
  {
   "cell_type": "code",
   "execution_count": null,
   "id": "49a4f9bb",
   "metadata": {},
   "outputs": [],
   "source": [
    "g['dbprint'] # has nothing, this is probably come from the notebook 00_core"
   ]
  },
  {
   "cell_type": "code",
   "execution_count": null,
   "id": "0e5dd98c",
   "metadata": {},
   "outputs": [
    {
     "data": {
      "text/plain": [
       "<function fastdebug.core.Fastdb.dbprint(self: fastdebug.core.Fastdb, dbcode: int, cmt: str, *codes, expand: int = 2, showdbsrc: bool = False)>"
      ]
     },
     "execution_count": null,
     "metadata": {},
     "output_type": "execute_result"
    }
   ],
   "source": [
    "g['Fastdb'].dbprint"
   ]
  },
  {
   "cell_type": "code",
   "execution_count": null,
   "id": "da274849",
   "metadata": {},
   "outputs": [
    {
     "data": {
      "text/plain": [
       "'Add comment and evaluate custom (single or multi lines) expressions to any srcline of the source code you are investigating'"
      ]
     },
     "execution_count": null,
     "metadata": {},
     "output_type": "execute_result"
    }
   ],
   "source": [
    "inspect.getdoc(g['Fastdb'].dbprint)"
   ]
  },
  {
   "cell_type": "code",
   "execution_count": null,
   "id": "c568eed6",
   "metadata": {},
   "outputs": [
    {
     "data": {
      "text/plain": [
       "True"
      ]
     },
     "execution_count": null,
     "metadata": {},
     "output_type": "execute_result"
    }
   ],
   "source": [
    "Fastdb.dbprint == g['Fastdb'].dbprint"
   ]
  },
  {
   "cell_type": "code",
   "execution_count": null,
   "id": "b84a1251",
   "metadata": {},
   "outputs": [
    {
     "data": {
      "text/plain": [
       "'@patch\\ndef dbprint(self:Fastdb, \\n            dbcode:int, # a srcline under investigation, can be either string or int\\n            cmt:str, # comment added to the srcline\\n            *codes, # a list of expressions (str) you write to be evaluated above the srcline\\n            expand:int=2, # span 2 lines of srcode up and down from the srcline investigated\\n            showdbsrc:bool=False): # display dbsrc\\n    \"Add comment and evaluate custom (single or multi lines) expressions to any srcline of the source code you are investigating\"\\n\\n    src = self.orisrc\\n    if type(dbcode) == int: self.cmts.update({dbcode: cmt})\\n\\n    printsrc(src, dbcode, cmt, expand)\\n\\n    dbsrc = \"\"\\n    indent = 4\\n    onedbprint = False\\n\\n    lst = inspect.getsource(src).split(\\'\\\\n\\')\\n    if not bool(lst[-1]): lst = lst[:-1]\\n\\n    newlst = []\\n    for i in codes: # no matter whether there is \"\" or \"  \" in the front or in the middle of codes\\n        if bool(i.strip()): newlst.append(i)\\n    codes = newlst\\n\\n    srclines = \"\"\\n    if type(dbcode) == int:\\n        srclines = lst[dbcode]\\n    else:\\n        srclines = dbcode\\n\\n    for idx, l in zip(range(len(lst)), lst):\\n\\n        if bool(l.strip()) and l.strip() in srclines and idx == dbcode: \\n\\n            if len(codes) > 0: # if the new codes is not empty\\n                numindent = len(l) - len(l.strip())\\n                dbcodes = \"dbprintinsert(\"\\n                count = 1\\n                for c in codes:\\n                    if count == len(codes):\\n                        dbcodes = dbcodes + \\'\"\\' + c + \\'\"\\' + \",\" + \"env=g\" + \")\"\\n                    else:\\n                        dbcodes = dbcodes + \\'\"\\' + c + \\'\"\\' + \",\"\\n                    count = count + 1\\n\\n                dbsrc = dbsrc + \" \"*numindent + \"g = locals()\" + \\'\\\\n\\'\\n                dbsrc = dbsrc + \" \"*numindent + dbcodes + \\'\\\\n\\'\\n                dbsrc = dbsrc + l + \\'\\\\n\\'     \\n            else:\\n                dbsrc = dbsrc + l + \\'\\\\n\\'                \\n\\n        elif bool(l.strip()) and idx + 1 == len(lst):\\n            dbsrc = dbsrc + l\\n\\n        elif bool(l.strip()): # make sure pure indentation + \\\\n is ignored\\n            dbsrc = dbsrc + l + \\'\\\\n\\'\\n\\n    if showdbsrc: # added to debug\\n        totallen = 157\\n        lenidx = 5\\n        dblst = dbsrc.split(\\'\\\\n\\')\\n        for idx, l in zip(range(len(dblst)), dblst):\\n            lenl = len(l)\\n#             if \"dbprintinsert\" in l: \\n            if l.strip().startswith(\"dbprintinsert\"): \\n                print(l + \"=\"*(totallen-lenl-lenidx) + \"(db)\")\\n            else:\\n                print(l + \" \"*(totallen-lenl-lenidx) + \"(\" + str(idx) + \")\")\\n        \\n        print(f\"before exec, locals(): {list(locals().keys())}\")\\n        print(f\"Fastdb.dbprint has __code__?: {hasattr(Fastdb.dbprint, \\'__code__\\')}\")\\n        print(f\"does Fastdb.dbprint has source available?: {not inspect.getsourcefile(Fastdb.dbprint) == \\'<string>\\'}\")\\n        print(f\"outenv[self.orisrc.__qualname__.split(\\'.\\')[0]].dbprint == Fastdb.dbprint: {self.outenv[self.orisrc.__qualname__.split(\\'.\\')[0]].dbprint == Fastdb.dbprint}\")\\n    exec(dbsrc, globals().update(self.outenv)) # make sure b can access lst from above\\n    if showdbsrc: \\n        print(f\"after exec, locals(): {list(locals().keys())}\")\\n        print(f\"type(locals()[self.orisrc.__name__]): {type(locals()[self.orisrc.__name__])}\")\\n        print(f\"Fastdb.dbprint has __code__?: {hasattr(Fastdb.dbprint, \\'__code__\\')}\")\\n        print(f\"does Fastdb.dbprint has source available?: {not inspect.getsourcefile(Fastdb.dbprint) == \\'<string>\\'}\")\\n        print(f\"outenv[self.orisrc.__qualname__.split(\\'.\\')[0]].dbprint == Fastdb.dbprint: {self.outenv[self.orisrc.__qualname__.split(\\'.\\')[0]].dbprint == Fastdb.dbprint}\")\\n\\n    return locals()[self.orisrc.__name__]\\n'"
      ]
     },
     "execution_count": null,
     "metadata": {},
     "output_type": "execute_result"
    }
   ],
   "source": [
    "inspect.getsource(Fastdb.dbprint)"
   ]
  },
  {
   "cell_type": "markdown",
   "id": "3509c36b",
   "metadata": {},
   "source": [
    "### Create Fastdb object for `Fastdb.dbprint`"
   ]
  },
  {
   "cell_type": "code",
   "execution_count": null,
   "id": "aa1aeb41",
   "metadata": {},
   "outputs": [],
   "source": [
    "fdb = Fastdb(Fastdb.dbprint, g)"
   ]
  },
  {
   "cell_type": "code",
   "execution_count": null,
   "id": "9d7b205d",
   "metadata": {},
   "outputs": [
    {
     "name": "stdout",
     "output_type": "stream",
     "text": [
      "@patch====================================================================================(0)       \n",
      "def dbprint(self:Fastdb, =================================================================(1)       \n",
      "            dbcode:int, # a srcline under investigation, can be either string or int======(2)       \n",
      "            cmt:str, # comment added to the srcline=======================================(3)       \n",
      "            *codes, # a list of expressions (str) you write to be evaluated above the srcline                                                           (4)\n",
      "            expand:int=2, # span 2 lines of srcode up and down from the srcline investigated                                                            (5)\n",
      "            showdbsrc:bool=False): # display dbsrc========================================(6)       \n",
      "    \"Add comment and evaluate custom (single or multi lines) expressions to any srcline of the source code you are investigating\"                       (7)\n",
      "                                                                                                                                                        (8)\n",
      "    src = self.orisrc=====================================================================(9)       \n",
      "                                                                                                                                     part No.1 out of 3 parts\n"
     ]
    }
   ],
   "source": [
    "fdb.print(10, 1)"
   ]
  },
  {
   "cell_type": "markdown",
   "id": "19ba6ac2",
   "metadata": {},
   "source": [
    "After running the following line, `Fastdb.dbprint` is updated by exec and source code can't be seen anymore."
   ]
  },
  {
   "cell_type": "code",
   "execution_count": null,
   "id": "b84a2f13",
   "metadata": {},
   "outputs": [
    {
     "name": "stdout",
     "output_type": "stream",
     "text": [
      "    \"Add comment and evaluate custom (single or multi lines) expressions to any srcline of the source code you are investigating\"                       (7)\n",
      "                                                                                                                                                        (8)\n",
      "    src = self.orisrc===================================================================================================================================(9)\n",
      "                                                                                                                                       \u001b[91mkeep original src safe\u001b[0m\n",
      "    if type(dbcode) == int: self.cmts.update({dbcode: cmt})                                                                                             (10)\n",
      "                                                                                                                                                        (11)\n",
      "@patch                                                                                                                                                  (0)\n",
      "def dbprint(self:Fastdb,                                                                                                                                (1)\n",
      "            dbcode:int, # a srcline under investigation, can be either string or int                                                                    (2)\n",
      "            cmt:str, # comment added to the srcline                                                                                                     (3)\n",
      "            *codes, # a list of expressions (str) you write to be evaluated above the srcline                                                           (4)\n",
      "            expand:int=2, # span 2 lines of srcode up and down from the srcline investigated                                                            (5)\n",
      "            showdbsrc:bool=False): # display dbsrc                                                                                                      (6)\n",
      "    \"Add comment and evaluate custom (single or multi lines) expressions to any srcline of the source code you are investigating\"                       (7)\n",
      "    g = locals()                                                                                                                                        (8)\n",
      "    dbprintinsert(\"self.orisrc\",env=g)==================================================================================================================(db)\n",
      "    src = self.orisrc                                                                                                                                   (10)\n",
      "    if type(dbcode) == int: self.cmts.update({dbcode: cmt})                                                                                             (11)\n",
      "    printsrc(src, dbcode, cmt, expand)                                                                                                                  (12)\n",
      "    dbsrc = \"\"                                                                                                                                          (13)\n",
      "    indent = 4                                                                                                                                          (14)\n",
      "    onedbprint = False                                                                                                                                  (15)\n",
      "    lst = inspect.getsource(src).split('\\n')                                                                                                            (16)\n",
      "    if not bool(lst[-1]): lst = lst[:-1]                                                                                                                (17)\n",
      "    newlst = []                                                                                                                                         (18)\n",
      "    for i in codes: # no matter whether there is \"\" or \"  \" in the front or in the middle of codes                                                      (19)\n",
      "        if bool(i.strip()): newlst.append(i)                                                                                                            (20)\n",
      "    codes = newlst                                                                                                                                      (21)\n",
      "    srclines = \"\"                                                                                                                                       (22)\n",
      "    if type(dbcode) == int:                                                                                                                             (23)\n",
      "        srclines = lst[dbcode]                                                                                                                          (24)\n",
      "    else:                                                                                                                                               (25)\n",
      "        srclines = dbcode                                                                                                                               (26)\n",
      "    for idx, l in zip(range(len(lst)), lst):                                                                                                            (27)\n",
      "        if bool(l.strip()) and l.strip() in srclines and idx == dbcode:                                                                                 (28)\n",
      "            if len(codes) > 0: # if the new codes is not empty                                                                                          (29)\n",
      "                numindent = len(l) - len(l.strip())                                                                                                     (30)\n",
      "                dbcodes = \"dbprintinsert(\"                                                                                                              (31)\n",
      "                count = 1                                                                                                                               (32)\n",
      "                for c in codes:                                                                                                                         (33)\n",
      "                    if count == len(codes):                                                                                                             (34)\n",
      "                        dbcodes = dbcodes + '\"' + c + '\"' + \",\" + \"env=g\" + \")\"                                                                         (35)\n",
      "                    else:                                                                                                                               (36)\n",
      "                        dbcodes = dbcodes + '\"' + c + '\"' + \",\"                                                                                         (37)\n",
      "                    count = count + 1                                                                                                                   (38)\n",
      "                dbsrc = dbsrc + \" \"*numindent + \"g = locals()\" + '\\n'                                                                                   (39)\n",
      "                dbsrc = dbsrc + \" \"*numindent + dbcodes + '\\n'                                                                                          (40)\n",
      "                dbsrc = dbsrc + l + '\\n'                                                                                                                (41)\n",
      "            else:                                                                                                                                       (42)\n",
      "                dbsrc = dbsrc + l + '\\n'                                                                                                                (43)\n",
      "        elif bool(l.strip()) and idx + 1 == len(lst):                                                                                                   (44)\n",
      "            dbsrc = dbsrc + l                                                                                                                           (45)\n",
      "        elif bool(l.strip()): # make sure pure indentation + \\n is ignored                                                                              (46)\n",
      "            dbsrc = dbsrc + l + '\\n'                                                                                                                    (47)\n",
      "    if showdbsrc: # added to debug                                                                                                                      (48)\n",
      "        totallen = 157                                                                                                                                  (49)\n",
      "        lenidx = 5                                                                                                                                      (50)\n",
      "        dblst = dbsrc.split('\\n')                                                                                                                       (51)\n",
      "        for idx, l in zip(range(len(dblst)), dblst):                                                                                                    (52)\n",
      "            lenl = len(l)                                                                                                                               (53)\n",
      "#             if \"dbprintinsert\" in l:                                                                                                                  (54)\n",
      "            if l.strip().startswith(\"dbprintinsert\"):                                                                                                   (55)\n",
      "                print(l + \"=\"*(totallen-lenl-lenidx) + \"(db)\")                                                                                          (56)\n",
      "            else:                                                                                                                                       (57)\n",
      "                print(l + \" \"*(totallen-lenl-lenidx) + \"(\" + str(idx) + \")\")                                                                            (58)\n",
      "        print(f\"before exec, locals(): {list(locals().keys())}\")                                                                                        (59)\n",
      "        print(f\"Fastdb.dbprint has __code__?: {hasattr(Fastdb.dbprint, '__code__')}\")                                                                   (60)\n",
      "        print(f\"does Fastdb.dbprint has source available?: {not inspect.getsourcefile(Fastdb.dbprint) == '<string>'}\")                                  (61)\n",
      "        print(f\"outenv[self.orisrc.__qualname__.split('.')[0]].dbprint == Fastdb.dbprint: {self.outenv[self.orisrc.__qualname__.split('.')[0]].dbprint == Fastdb.dbprint}\")(62)\n",
      "    exec(dbsrc, globals().update(self.outenv)) # make sure b can access lst from above                                                                  (63)\n",
      "    if showdbsrc:                                                                                                                                       (64)\n",
      "        print(f\"after exec, locals(): {list(locals().keys())}\")                                                                                         (65)\n",
      "        print(f\"type(locals()[self.orisrc.__name__]): {type(locals()[self.orisrc.__name__])}\")                                                          (66)\n",
      "        print(f\"Fastdb.dbprint has __code__?: {hasattr(Fastdb.dbprint, '__code__')}\")                                                                   (67)\n",
      "        print(f\"does Fastdb.dbprint has source available?: {not inspect.getsourcefile(Fastdb.dbprint) == '<string>'}\")                                  (68)\n",
      "        print(f\"outenv[self.orisrc.__qualname__.split('.')[0]].dbprint == Fastdb.dbprint: {self.outenv[self.orisrc.__qualname__.split('.')[0]].dbprint == Fastdb.dbprint}\")(69)\n",
      "    return locals()[self.orisrc.__name__]                                                                                                               (70)\n",
      "before exec, locals(): ['self', 'dbcode', 'cmt', 'expand', 'showdbsrc', 'codes', 'src', 'dbsrc', 'indent', 'onedbprint', 'lst', 'newlst', 'i', 'srclines', 'idx', 'l', 'numindent', 'dbcodes', 'count', 'c', 'totallen', 'lenidx', 'dblst', 'lenl']\n",
      "Fastdb.dbprint has __code__?: True\n",
      "does Fastdb.dbprint has source available?: True\n",
      "outenv[self.orisrc.__qualname__.split('.')[0]].dbprint == Fastdb.dbprint: True\n",
      "after exec, locals(): ['self', 'dbcode', 'cmt', 'expand', 'showdbsrc', 'codes', 'src', 'dbsrc', 'indent', 'onedbprint', 'lst', 'newlst', 'i', 'srclines', 'idx', 'l', 'numindent', 'dbcodes', 'count', 'c', 'totallen', 'lenidx', 'dblst', 'lenl', 'dbprint']\n",
      "type(locals()[self.orisrc.__name__]): <class 'NoneType'>\n",
      "Fastdb.dbprint has __code__?: True\n",
      "does Fastdb.dbprint has source available?: False\n",
      "outenv[self.orisrc.__qualname__.split('.')[0]].dbprint == Fastdb.dbprint: True\n"
     ]
    }
   ],
   "source": [
    "dbsrc = fdb.dbprint(9, \"keep original src safe\", \"self.orisrc\", showdbsrc=True)"
   ]
  },
  {
   "cell_type": "markdown",
   "id": "22895485",
   "metadata": {},
   "source": [
    "As updating `Fastdb.dbprint` with exec will send the updated src to the class `Fastdb`, dbsrc is actually NoneType."
   ]
  },
  {
   "cell_type": "markdown",
   "id": "fa626fe1",
   "metadata": {},
   "source": [
    "Luckily, we still got `fdb.orisrc` which keep the original `Fastdb.dbprint` for us."
   ]
  },
  {
   "cell_type": "markdown",
   "id": "50755950",
   "metadata": {},
   "source": [
    "So, we can run `Fastdb.dbprint = fdb.orisrc` to get `Fastdb.dbprint` back to normal"
   ]
  },
  {
   "cell_type": "markdown",
   "id": "170684e8",
   "metadata": {},
   "source": [
    "### Make an example with new `Fastdb.dbprint`"
   ]
  },
  {
   "cell_type": "code",
   "execution_count": null,
   "id": "e141da0f",
   "metadata": {},
   "outputs": [],
   "source": [
    "from fastdebug.utils import *"
   ]
  },
  {
   "cell_type": "code",
   "execution_count": null,
   "id": "68ead44e",
   "metadata": {},
   "outputs": [],
   "source": [
    "import fastdebug.core as core"
   ]
  },
  {
   "cell_type": "code",
   "execution_count": null,
   "id": "661f1bfa",
   "metadata": {},
   "outputs": [
    {
     "data": {
      "text/plain": [
       "20"
      ]
     },
     "execution_count": null,
     "metadata": {},
     "output_type": "execute_result"
    }
   ],
   "source": [
    "gw = {}\n",
    "gw.update(whatinside.__globals__)\n",
    "len(gw)"
   ]
  },
  {
   "cell_type": "code",
   "execution_count": null,
   "id": "69e0898e",
   "metadata": {},
   "outputs": [],
   "source": [
    "fdbw = Fastdb(whatinside, gw) # we are using the updated Fastdb whose dbprint has dbprintinsert() ready"
   ]
  },
  {
   "cell_type": "code",
   "execution_count": null,
   "id": "e7f81c1e",
   "metadata": {},
   "outputs": [
    {
     "name": "stdout",
     "output_type": "stream",
     "text": [
      "def whatinside(mo, # module, e.g., `import fastcore.all as fa`, use `fa` here=============(0)       \n",
      "               dun:bool=False, # print all items in __all__===============================(1)       \n",
      "               func:bool=False, # print all user defined functions========================(2)       \n",
      "               clas:bool=False, # print all class objects=================================(3)       \n",
      "               bltin:bool=False, # print all builtin funcs or methods=====================(4)       \n",
      "               lib:bool=False, # print all the modules of the library it belongs to=======(5)       \n",
      "               cal:bool=False # print all callables=======================================(6)       \n",
      "             ): ==========================================================================(7)       \n",
      "    'Check what inside a module: `__all__`, functions, classes, builtins, and callables'==(8)       \n",
      "    dun_all = len(mo.__all__) if hasattr(mo, \"__all__\") else 0============================(9)       \n",
      "                                                                                                                                     part No.1 out of 2 parts\n"
     ]
    }
   ],
   "source": [
    "fdbw.print(10,1)"
   ]
  },
  {
   "cell_type": "markdown",
   "id": "71647034",
   "metadata": {},
   "source": [
    "#### Important lines to run"
   ]
  },
  {
   "cell_type": "code",
   "execution_count": null,
   "id": "d6c129a2",
   "metadata": {},
   "outputs": [
    {
     "name": "stdout",
     "output_type": "stream",
     "text": [
      "\n",
      "\n",
      "                                                                                            self.orisrc => self.orisrc : <function whatinside at 0x108133310>\n",
      "             ):                                                                                                                                         (7)\n",
      "    'Check what inside a module: `__all__`, functions, classes, builtins, and callables'                                                                (8)\n",
      "    dun_all = len(mo.__all__) if hasattr(mo, \"__all__\") else 0==========================================================================================(9)\n",
      "                                                                                                                                \u001b[91mcount num of funcs in __all__\u001b[0m\n",
      "    funcs = inspect.getmembers(mo, inspect.isfunction)                                                                                                  (10)\n",
      "    classes = inspect.getmembers(mo, inspect.isclass)                                                                                                   (11)\n",
      "\n",
      "\n",
      "                                                                                                                      type(mo) => type(mo) : <class 'module'>\n",
      "fastdebug.utils has: \n",
      "3 items in its __all__, and \n",
      "121 user defined functions, \n",
      "18 classes or class objects, \n",
      "1 builtin funcs and methods, and\n",
      "142 callables.\n",
      "\n"
     ]
    }
   ],
   "source": [
    "new = fdbw.dbprint(9, \"count num of funcs in __all__\", \"type(mo)\") # the updated dbprint will run here.\n",
    "whatinside = new\n",
    "whatinside(core)\n",
    "whatinside = fdbw.orisrc # Important! remember to bring whatinside back to normal after each srcline exploration"
   ]
  },
  {
   "cell_type": "markdown",
   "id": "0b3c1070",
   "metadata": {},
   "source": [
    "### explore the second srcline of dbprint"
   ]
  },
  {
   "cell_type": "code",
   "execution_count": null,
   "id": "bdb428e3",
   "metadata": {},
   "outputs": [
    {
     "name": "stdout",
     "output_type": "stream",
     "text": [
      "@patch====================================================================================(0)       \n",
      "def dbprint(self:Fastdb, =================================================================(1)       \n",
      "            dbcode:int, # a srcline under investigation, can be either string or int======(2)       \n",
      "            cmt:str, # comment added to the srcline=======================================(3)       \n",
      "            *codes, # a list of expressions (str) you write to be evaluated above the srcline                                                           (4)\n",
      "            expand:int=2, # span 2 lines of srcode up and down from the srcline investigated                                                            (5)\n",
      "            showdbsrc:bool=False): # display dbsrc========================================(6)       \n",
      "    \"Add comment and evaluate custom (single or multi lines) expressions to any srcline of the source code you are investigating\"                       (7)\n",
      "                                                                                                                                                        (8)\n",
      "    src = self.orisrc=====================================================================(9) # keep original src safe\n",
      "    if type(dbcode) == int: self.cmts.update({dbcode: cmt})===============================(10)      \n",
      "                                                                                                                                                        (11)\n",
      "    printsrc(src, dbcode, cmt, expand)====================================================(12)      \n",
      "                                                                                                                                                        (13)\n",
      "    dbsrc = \"\"============================================================================(14)      \n",
      "    indent = 4============================================================================(15)      \n",
      "    onedbprint = False====================================================================(16)      \n",
      "                                                                                                                                                        (17)\n",
      "    lst = inspect.getsource(src).split('\\n')==============================================(18)      \n",
      "    if not bool(lst[-1]): lst = lst[:-1]==================================================(19)      \n",
      "                                                                                                                                     part No.1 out of 3 parts\n"
     ]
    }
   ],
   "source": [
    "fdb.print(20, 1) # we are using fdb.orisrc to print, so no dbprintinsert() will be seen."
   ]
  },
  {
   "cell_type": "code",
   "execution_count": null,
   "id": "55076925",
   "metadata": {},
   "outputs": [
    {
     "name": "stdout",
     "output_type": "stream",
     "text": [
      "                                                                                                                                                        (8)\n",
      "    src = self.orisrc                                                                                                                                   (9)\n",
      "    if type(dbcode) == int: self.cmts.update({dbcode: cmt})=============================================================================================(10)\n",
      "                                                                                                                              \u001b[91mcollect and organize cmt by idx\u001b[0m\n",
      "                                                                                                                                                        (11)\n",
      "    printsrc(src, dbcode, cmt, expand)                                                                                                                  (12)\n",
      "@patch                                                                                                                                                  (0)\n",
      "def dbprint(self:Fastdb,                                                                                                                                (1)\n",
      "            dbcode:int, # a srcline under investigation, can be either string or int                                                                    (2)\n",
      "            cmt:str, # comment added to the srcline                                                                                                     (3)\n",
      "            *codes, # a list of expressions (str) you write to be evaluated above the srcline                                                           (4)\n",
      "            expand:int=2, # span 2 lines of srcode up and down from the srcline investigated                                                            (5)\n",
      "            showdbsrc:bool=False): # display dbsrc                                                                                                      (6)\n",
      "    \"Add comment and evaluate custom (single or multi lines) expressions to any srcline of the source code you are investigating\"                       (7)\n",
      "    src = self.orisrc                                                                                                                                   (8)\n",
      "    g = locals()                                                                                                                                        (9)\n",
      "    dbprintinsert(\"self.cmts\",\"dbcode\",\"cmt\",env=g)=====================================================================================================(db)\n",
      "    if type(dbcode) == int: self.cmts.update({dbcode: cmt})                                                                                             (11)\n",
      "    printsrc(src, dbcode, cmt, expand)                                                                                                                  (12)\n",
      "    dbsrc = \"\"                                                                                                                                          (13)\n",
      "    indent = 4                                                                                                                                          (14)\n",
      "    onedbprint = False                                                                                                                                  (15)\n",
      "    lst = inspect.getsource(src).split('\\n')                                                                                                            (16)\n",
      "    if not bool(lst[-1]): lst = lst[:-1]                                                                                                                (17)\n",
      "    newlst = []                                                                                                                                         (18)\n",
      "    for i in codes: # no matter whether there is \"\" or \"  \" in the front or in the middle of codes                                                      (19)\n",
      "        if bool(i.strip()): newlst.append(i)                                                                                                            (20)\n",
      "    codes = newlst                                                                                                                                      (21)\n",
      "    srclines = \"\"                                                                                                                                       (22)\n",
      "    if type(dbcode) == int:                                                                                                                             (23)\n",
      "        srclines = lst[dbcode]                                                                                                                          (24)\n",
      "    else:                                                                                                                                               (25)\n",
      "        srclines = dbcode                                                                                                                               (26)\n",
      "    for idx, l in zip(range(len(lst)), lst):                                                                                                            (27)\n",
      "        if bool(l.strip()) and l.strip() in srclines and idx == dbcode:                                                                                 (28)\n",
      "            if len(codes) > 0: # if the new codes is not empty                                                                                          (29)\n",
      "                numindent = len(l) - len(l.strip())                                                                                                     (30)\n",
      "                dbcodes = \"dbprintinsert(\"                                                                                                              (31)\n",
      "                count = 1                                                                                                                               (32)\n",
      "                for c in codes:                                                                                                                         (33)\n",
      "                    if count == len(codes):                                                                                                             (34)\n",
      "                        dbcodes = dbcodes + '\"' + c + '\"' + \",\" + \"env=g\" + \")\"                                                                         (35)\n",
      "                    else:                                                                                                                               (36)\n",
      "                        dbcodes = dbcodes + '\"' + c + '\"' + \",\"                                                                                         (37)\n",
      "                    count = count + 1                                                                                                                   (38)\n",
      "                dbsrc = dbsrc + \" \"*numindent + \"g = locals()\" + '\\n'                                                                                   (39)\n",
      "                dbsrc = dbsrc + \" \"*numindent + dbcodes + '\\n'                                                                                          (40)\n",
      "                dbsrc = dbsrc + l + '\\n'                                                                                                                (41)\n",
      "            else:                                                                                                                                       (42)\n",
      "                dbsrc = dbsrc + l + '\\n'                                                                                                                (43)\n",
      "        elif bool(l.strip()) and idx + 1 == len(lst):                                                                                                   (44)\n",
      "            dbsrc = dbsrc + l                                                                                                                           (45)\n",
      "        elif bool(l.strip()): # make sure pure indentation + \\n is ignored                                                                              (46)\n",
      "            dbsrc = dbsrc + l + '\\n'                                                                                                                    (47)\n",
      "    if showdbsrc: # added to debug                                                                                                                      (48)\n",
      "        totallen = 157                                                                                                                                  (49)\n",
      "        lenidx = 5                                                                                                                                      (50)\n",
      "        dblst = dbsrc.split('\\n')                                                                                                                       (51)\n",
      "        for idx, l in zip(range(len(dblst)), dblst):                                                                                                    (52)\n",
      "            lenl = len(l)                                                                                                                               (53)\n",
      "#             if \"dbprintinsert\" in l:                                                                                                                  (54)\n",
      "            if l.strip().startswith(\"dbprintinsert\"):                                                                                                   (55)\n",
      "                print(l + \"=\"*(totallen-lenl-lenidx) + \"(db)\")                                                                                          (56)\n",
      "            else:                                                                                                                                       (57)\n",
      "                print(l + \" \"*(totallen-lenl-lenidx) + \"(\" + str(idx) + \")\")                                                                            (58)\n",
      "        print(f\"before exec, locals(): {list(locals().keys())}\")                                                                                        (59)\n",
      "        print(f\"Fastdb.dbprint has __code__?: {hasattr(Fastdb.dbprint, '__code__')}\")                                                                   (60)\n",
      "        print(f\"does Fastdb.dbprint has source available?: {not inspect.getsourcefile(Fastdb.dbprint) == '<string>'}\")                                  (61)\n",
      "        print(f\"outenv[self.orisrc.__qualname__.split('.')[0]].dbprint == Fastdb.dbprint: {self.outenv[self.orisrc.__qualname__.split('.')[0]].dbprint == Fastdb.dbprint}\")(62)\n",
      "    exec(dbsrc, globals().update(self.outenv)) # make sure b can access lst from above                                                                  (63)\n",
      "    if showdbsrc:                                                                                                                                       (64)\n",
      "        print(f\"after exec, locals(): {list(locals().keys())}\")                                                                                         (65)\n",
      "        print(f\"type(locals()[self.orisrc.__name__]): {type(locals()[self.orisrc.__name__])}\")                                                          (66)\n",
      "        print(f\"Fastdb.dbprint has __code__?: {hasattr(Fastdb.dbprint, '__code__')}\")                                                                   (67)\n",
      "        print(f\"does Fastdb.dbprint has source available?: {not inspect.getsourcefile(Fastdb.dbprint) == '<string>'}\")                                  (68)\n",
      "        print(f\"outenv[self.orisrc.__qualname__.split('.')[0]].dbprint == Fastdb.dbprint: {self.outenv[self.orisrc.__qualname__.split('.')[0]].dbprint == Fastdb.dbprint}\")(69)\n",
      "    return locals()[self.orisrc.__name__]                                                                                                               (70)\n",
      "before exec, locals(): ['self', 'dbcode', 'cmt', 'expand', 'showdbsrc', 'codes', 'src', 'dbsrc', 'indent', 'onedbprint', 'lst', 'newlst', 'i', 'srclines', 'idx', 'l', 'numindent', 'dbcodes', 'count', 'c', 'totallen', 'lenidx', 'dblst', 'lenl']\n",
      "Fastdb.dbprint has __code__?: True\n",
      "does Fastdb.dbprint has source available?: True\n",
      "outenv[self.orisrc.__qualname__.split('.')[0]].dbprint == Fastdb.dbprint: True\n",
      "after exec, locals(): ['self', 'dbcode', 'cmt', 'expand', 'showdbsrc', 'codes', 'src', 'dbsrc', 'indent', 'onedbprint', 'lst', 'newlst', 'i', 'srclines', 'idx', 'l', 'numindent', 'dbcodes', 'count', 'c', 'totallen', 'lenidx', 'dblst', 'lenl', 'dbprint']\n",
      "type(locals()[self.orisrc.__name__]): <class 'NoneType'>\n",
      "Fastdb.dbprint has __code__?: True\n",
      "does Fastdb.dbprint has source available?: False\n",
      "outenv[self.orisrc.__qualname__.split('.')[0]].dbprint == Fastdb.dbprint: True\n"
     ]
    }
   ],
   "source": [
    "Fastdb.dbprint = fdb.orisrc\n",
    "fdb.dbprint(10, \"collect and organize cmt by idx\", \"self.cmts\", \"dbcode\", \"cmt\", showdbsrc=True)"
   ]
  },
  {
   "cell_type": "code",
   "execution_count": null,
   "id": "37c3f29f",
   "metadata": {},
   "outputs": [
    {
     "name": "stdout",
     "output_type": "stream",
     "text": [
      "def whatinside(mo, # module, e.g., `import fastcore.all as fa`, use `fa` here=============(0)       \n",
      "               dun:bool=False, # print all items in __all__===============================(1)       \n",
      "               func:bool=False, # print all user defined functions========================(2)       \n",
      "               clas:bool=False, # print all class objects=================================(3)       \n",
      "               bltin:bool=False, # print all builtin funcs or methods=====================(4)       \n",
      "               lib:bool=False, # print all the modules of the library it belongs to=======(5)       \n",
      "               cal:bool=False # print all callables=======================================(6)       \n",
      "             ): ==========================================================================(7)       \n",
      "    'Check what inside a module: `__all__`, functions, classes, builtins, and callables'==(8)       \n",
      "    dun_all = len(mo.__all__) if hasattr(mo, \"__all__\") else 0============================(9)       \n",
      "                                                                                                                                     part No.1 out of 2 parts\n"
     ]
    }
   ],
   "source": [
    "# whatinside = fdbw.orisrc\n",
    "fdbw = Fastdb(whatinside, gw)\n",
    "fdbw.print(10,1)"
   ]
  },
  {
   "cell_type": "code",
   "execution_count": null,
   "id": "2b90652b",
   "metadata": {},
   "outputs": [
    {
     "name": "stdout",
     "output_type": "stream",
     "text": [
      "\n",
      "\n",
      "                                                                                                                                  self.cmts => self.cmts : {}\n",
      "\n",
      "\n",
      "                                                                                                                                         dbcode => dbcode : 9\n",
      "\n",
      "\n",
      "                                                                                                                   cmt => cmt : count num of funcs in __all__\n",
      "             ):                                                                                                                                         (7)\n",
      "    'Check what inside a module: `__all__`, functions, classes, builtins, and callables'                                                                (8)\n",
      "    dun_all = len(mo.__all__) if hasattr(mo, \"__all__\") else 0==========================================================================================(9)\n",
      "                                                                                                                                \u001b[91mcount num of funcs in __all__\u001b[0m\n",
      "    funcs = inspect.getmembers(mo, inspect.isfunction)                                                                                                  (10)\n",
      "    classes = inspect.getmembers(mo, inspect.isclass)                                                                                                   (11)\n",
      "\n",
      "\n",
      "                                                                                                                      type(mo) => type(mo) : <class 'module'>\n",
      "fastdebug.utils has: \n",
      "3 items in its __all__, and \n",
      "122 user defined functions, \n",
      "18 classes or class objects, \n",
      "1 builtin funcs and methods, and\n",
      "143 callables.\n",
      "\n"
     ]
    }
   ],
   "source": [
    "new = fdbw.dbprint(9, \"count num of funcs in __all__\", \"type(mo)\")\n",
    "whatinside = new\n",
    "whatinside(core)"
   ]
  },
  {
   "cell_type": "code",
   "execution_count": null,
   "id": "18d691bb",
   "metadata": {},
   "outputs": [
    {
     "data": {
      "text/plain": [
       "'Fastdb.dbprint'"
      ]
     },
     "execution_count": null,
     "metadata": {},
     "output_type": "execute_result"
    }
   ],
   "source": [
    "Fastdb.dbprint.__qualname__"
   ]
  },
  {
   "cell_type": "code",
   "execution_count": null,
   "id": "f3ef490e",
   "metadata": {},
   "outputs": [
    {
     "data": {
      "text/plain": [
       "False"
      ]
     },
     "execution_count": null,
     "metadata": {},
     "output_type": "execute_result"
    }
   ],
   "source": [
    "Fastdb.dbprint.__qualname__ in g"
   ]
  },
  {
   "cell_type": "code",
   "execution_count": null,
   "id": "ff2f5955",
   "metadata": {},
   "outputs": [
    {
     "data": {
      "text/plain": [
       "True"
      ]
     },
     "execution_count": null,
     "metadata": {},
     "output_type": "execute_result"
    }
   ],
   "source": [
    "Fastdb.dbprint.__qualname__.split('.')[0] in g"
   ]
  },
  {
   "cell_type": "code",
   "execution_count": null,
   "id": "b22e8a77",
   "metadata": {},
   "outputs": [
    {
     "data": {
      "text/plain": [
       "'Fastdb'"
      ]
     },
     "execution_count": null,
     "metadata": {},
     "output_type": "execute_result"
    }
   ],
   "source": [
    "fdb.orisrc.__qualname__.split('.')[0]"
   ]
  },
  {
   "cell_type": "code",
   "execution_count": null,
   "id": "773d9f24",
   "metadata": {},
   "outputs": [],
   "source": []
  }
 ],
 "metadata": {
  "kernelspec": {
   "display_name": "Python 3 (ipykernel)",
   "language": "python",
   "name": "python3"
  }
 },
 "nbformat": 4,
 "nbformat_minor": 5
}
