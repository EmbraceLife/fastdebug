{
 "cells": [
  {
   "cell_type": "markdown",
   "id": "f932d6a0",
   "metadata": {},
   "source": [
    "# Explore Fastdb class"
   ]
  },
  {
   "cell_type": "code",
   "execution_count": null,
   "id": "438215f1",
   "metadata": {},
   "outputs": [],
   "source": [
    "from IPython.display import display, HTML "
   ]
  },
  {
   "cell_type": "code",
   "execution_count": null,
   "id": "949323b7",
   "metadata": {},
   "outputs": [
    {
     "data": {
      "text/html": [
       "<style>.container { width:100% !important; }</style>"
      ],
      "text/plain": [
       "<IPython.core.display.HTML object>"
      ]
     },
     "metadata": {},
     "output_type": "display_data"
    }
   ],
   "source": [
    "display(HTML(\"<style>.container { width:100% !important; }</style>\"))"
   ]
  },
  {
   "cell_type": "markdown",
   "id": "7874adc2",
   "metadata": {},
   "source": [
    "## Why"
   ]
  },
  {
   "cell_type": "markdown",
   "id": "43d60796",
   "metadata": {},
   "source": [
    "So far I have created two demos, a simple one on `fastdebug.utils.whatinside` and a real world one on `fastcore.meta.FixSigMeta`. They should be enough as demos to show the usefulness of fastdebug library. "
   ]
  },
  {
   "cell_type": "markdown",
   "id": "1ba07ebd",
   "metadata": {},
   "source": [
    "However, I want to be thorough and really prove to myself that it can help me to conquer unknowns and clear doubts with ease and joy when exploring source code. "
   ]
  },
  {
   "cell_type": "markdown",
   "id": "01d1ba3e",
   "metadata": {},
   "source": [
    "Fastdb class and the funcs it uses contains all the tricks I learnt and difficulties I conquered which I don't always remember how and why. In fact I don't want to remember them. I want to just run all cells here and skim through the notebook and everything makes sense to me. "
   ]
  },
  {
   "cell_type": "markdown",
   "id": "71c678a9",
   "metadata": {},
   "source": [
    "Can fastdebug help me achieve it? Let's give a try!"
   ]
  },
  {
   "cell_type": "markdown",
   "id": "3406ddaa",
   "metadata": {},
   "source": [
    "## How to do it?"
   ]
  },
  {
   "cell_type": "markdown",
   "id": "4a7154d3",
   "metadata": {},
   "source": [
    "I need a few examples first. Maybe I could just use the simple demo as example for `Fastdb`."
   ]
  },
  {
   "cell_type": "markdown",
   "id": "3596fd44",
   "metadata": {},
   "source": [
    "## `whatinside` and `gw['whatinside']` are the same"
   ]
  },
  {
   "cell_type": "code",
   "execution_count": null,
   "id": "83a59310",
   "metadata": {},
   "outputs": [],
   "source": [
    "from fastdebug.utils import *\n",
    "import inspect"
   ]
  },
  {
   "cell_type": "code",
   "execution_count": null,
   "id": "3f90d5ba",
   "metadata": {},
   "outputs": [
    {
     "data": {
      "text/plain": [
       "20"
      ]
     },
     "execution_count": null,
     "metadata": {},
     "output_type": "execute_result"
    }
   ],
   "source": [
    "gw = {}\n",
    "gw.update(whatinside.__globals__)\n",
    "len(gw)"
   ]
  },
  {
   "cell_type": "code",
   "execution_count": null,
   "id": "118d10bc",
   "metadata": {},
   "outputs": [
    {
     "data": {
      "text/plain": [
       "'<code object whatinside at 0x105a14c90, file \"/Users/Natsume/Documents/fastdebug/fastdebug/utils.py\", line 14>'"
      ]
     },
     "execution_count": null,
     "metadata": {},
     "output_type": "execute_result"
    }
   ],
   "source": [
    "whatinside.__code__.__repr__()"
   ]
  },
  {
   "cell_type": "code",
   "execution_count": null,
   "id": "cb8420d3",
   "metadata": {},
   "outputs": [
    {
     "data": {
      "text/plain": [
       "<code object whatinside at 0x105a14c90, file \"/Users/Natsume/Documents/fastdebug/fastdebug/utils.py\", line 14>"
      ]
     },
     "execution_count": null,
     "metadata": {},
     "output_type": "execute_result"
    }
   ],
   "source": [
    "gw['whatinside'].__code__"
   ]
  },
  {
   "cell_type": "code",
   "execution_count": null,
   "id": "d3e507c1",
   "metadata": {},
   "outputs": [
    {
     "data": {
      "text/plain": [
       "'def whatinside(mo, # module, e.g., `import fastcore.all as fa`, use `fa` here\\n               dun:bool=False, # print all items in __all__\\n               func:bool=False, # print all user defined functions\\n               clas:bool=False, # print all class objects\\n               bltin:bool=False, # print all builtin funcs or methods\\n               lib:bool=False, # print all the modules of the library it belongs to\\n               cal:bool=False # print all callables\\n             ): \\n    \\'Check what inside a module: `__all__`, functions, classes, builtins, and callables\\'\\n    dun_all = len(mo.__all__) if hasattr(mo, \"__all__\") else 0\\n    funcs = inspect.getmembers(mo, inspect.isfunction)\\n    classes = inspect.getmembers(mo, inspect.isclass)\\n    builtins = inspect.getmembers(mo, inspect.isbuiltin)\\n    callables = inspect.getmembers(mo, callable)\\n    pkgpath = os.path.dirname(mo.__file__)\\n    print(f\"{mo.__name__} has: \\\\n{dun_all} items in its __all__, and \\\\n{len(funcs)} user defined functions, \\\\n{len(classes)} classes or class objects, \\\\n{len(builtins)} builtin funcs and methods, and\\\\n{len(callables)} callables.\\\\n\")  \\n    if hasattr(mo, \"__all__\") and dun: pprint(mo.__all__)\\n    if func: \\n        print(f\\'The user defined functions are:\\')\\n        pprint([i[0] for i in funcs])\\n    if clas: \\n        print(f\\'The class objects are:\\')\\n        pprint([i[0] for i in classes])\\n    if bltin: \\n        print(f\\'The builtin functions or methods are:\\')\\n        pprint([i[0] for i in builtins])\\n    if cal: \\n        print(f\\'The callables are: \\')\\n        pprint([i[0] for i in callables])\\n    if lib: \\n        modules = [name for _, name, _ in pkgutil.iter_modules([pkgpath])]\\n        print(f\\'The library has {len(modules)} modules\\')\\n        pprint(modules)\\n'"
      ]
     },
     "execution_count": null,
     "metadata": {},
     "output_type": "execute_result"
    }
   ],
   "source": [
    "inspect.getsource(gw['whatinside'])"
   ]
  },
  {
   "cell_type": "code",
   "execution_count": null,
   "id": "778edd93",
   "metadata": {},
   "outputs": [
    {
     "data": {
      "text/plain": [
       "True"
      ]
     },
     "execution_count": null,
     "metadata": {},
     "output_type": "execute_result"
    }
   ],
   "source": [
    "gw['whatinside'] == whatinside"
   ]
  },
  {
   "cell_type": "code",
   "execution_count": null,
   "id": "9b297a18",
   "metadata": {},
   "outputs": [
    {
     "data": {
      "text/plain": [
       "True"
      ]
     },
     "execution_count": null,
     "metadata": {},
     "output_type": "execute_result"
    }
   ],
   "source": [
    "gw['whatinside'] is whatinside"
   ]
  },
  {
   "cell_type": "code",
   "execution_count": null,
   "id": "ce9ade7b",
   "metadata": {},
   "outputs": [],
   "source": []
  },
  {
   "cell_type": "code",
   "execution_count": null,
   "id": "64ba86bd",
   "metadata": {},
   "outputs": [],
   "source": []
  },
  {
   "cell_type": "markdown",
   "id": "7c467c61",
   "metadata": {},
   "source": [
    "## Dot it in a more natural and ordered way"
   ]
  },
  {
   "cell_type": "code",
   "execution_count": null,
   "id": "5e56f224",
   "metadata": {},
   "outputs": [],
   "source": [
    "from fastdebug.core import *"
   ]
  },
  {
   "cell_type": "code",
   "execution_count": null,
   "id": "5a7d69c6",
   "metadata": {},
   "outputs": [],
   "source": [
    "import inspect"
   ]
  },
  {
   "cell_type": "code",
   "execution_count": null,
   "id": "db5b550d",
   "metadata": {},
   "outputs": [],
   "source": [
    "from fastcore.test import *"
   ]
  },
  {
   "cell_type": "markdown",
   "id": "51edbdf9",
   "metadata": {},
   "source": [
    "### Prepare env for Fastdb.dbprint"
   ]
  },
  {
   "cell_type": "code",
   "execution_count": null,
   "id": "f731504c",
   "metadata": {},
   "outputs": [
    {
     "data": {
      "text/plain": [
       "157"
      ]
     },
     "execution_count": null,
     "metadata": {},
     "output_type": "execute_result"
    }
   ],
   "source": [
    "g = {}\n",
    "g.update(Fastdb.dbprint.__globals__)\n",
    "len(g)"
   ]
  },
  {
   "cell_type": "code",
   "execution_count": null,
   "id": "d2fe6c3c",
   "metadata": {},
   "outputs": [],
   "source": [
    "test_eq('Fastdb' in g, True)\n",
    "test_eq('Fastdb.dbprint' in g, False)\n",
    "test_eq('dbprint' in g, True)\n",
    "test_eq(type(g['dbprint']) == type(None), True) # has nothing, this is probably come from the notebook 00_core\n",
    "test_eq(g['Fastdb'] is Fastdb, True)\n",
    "test_eq(g['Fastdb'].dbprint is Fastdb.dbprint, True)\n",
    "test_eq(inspect.getsourcefile(g['Fastdb']) == '<string>', False)"
   ]
  },
  {
   "cell_type": "markdown",
   "id": "3509c36b",
   "metadata": {},
   "source": [
    "### Create Fastdb object for `Fastdb.dbprint`"
   ]
  },
  {
   "cell_type": "code",
   "execution_count": null,
   "id": "aa1aeb41",
   "metadata": {},
   "outputs": [],
   "source": [
    "fdb = Fastdb(Fastdb.dbprint, g)"
   ]
  },
  {
   "cell_type": "code",
   "execution_count": null,
   "id": "9d7b205d",
   "metadata": {},
   "outputs": [
    {
     "name": "stdout",
     "output_type": "stream",
     "text": [
      "@patch====================================================================================(0)       \n",
      "def dbprint(self:Fastdb, =================================================================(1)       \n",
      "            dbcode:int, # idx of a srcline under investigation, can only be int===========(2)       \n",
      "            cmt:str, # comment added to the srcline=======================================(3)       \n",
      "            *codes, # a list of expressions (str) you write to be evaluated above the srcline                                                           (4)\n",
      "            expand:int=2, # span 2 lines of srcode up and down from the srcline investigated                                                            (5)\n",
      "            showdbsrc:bool=False): # display dbsrc========================================(6)       \n",
      "    \"Add comment and evaluate custom (single or multi lines) expressions to any srcline of the source code \\                                            (7)\n",
      "you are investigating. Run exec on the entire srcode with added expressions (dbsrc), so that dbsrc is callable.\"                                        (8)\n",
      "                                                                                                                                                        (9)\n",
      "    src = self.orisrc=====================================================================(10)      \n",
      "    if type(dbcode) == int: self.cmts.update({dbcode: cmt})===============================(11)      \n",
      "                                                                                                                                                        (12)\n",
      "    printsrc(src, dbcode, cmt, expand)====================================================(13)      \n",
      "    print('{:-<60}'.format(colorize(\"print selected srcline with expands above\", color=\"y\")))                                                           (14)\n",
      "                                                                                                                                                        (15)\n",
      "    dbsrc = \"\"============================================================================(16)      \n",
      "    indent = 4============================================================================(17)      \n",
      "                                                                                                                                                        (18)\n",
      "    lst = inspect.getsource(src).split('\\n')==============================================(19)      \n",
      "                                                                                                                                     part No.1 out of 4 parts\n"
     ]
    }
   ],
   "source": [
    "fdb.print(20, 1)"
   ]
  },
  {
   "cell_type": "code",
   "execution_count": null,
   "id": "9ef4b7c3",
   "metadata": {},
   "outputs": [
    {
     "data": {
      "text/plain": [
       "False"
      ]
     },
     "execution_count": null,
     "metadata": {},
     "output_type": "execute_result"
    }
   ],
   "source": [
    "inspect.getsourcefile(Fastdb.dbprint) == '<string>' # Fastdb.dbprint has its source code file"
   ]
  },
  {
   "cell_type": "code",
   "execution_count": null,
   "id": "1d24c4cb",
   "metadata": {},
   "outputs": [
    {
     "data": {
      "text/plain": [
       "False"
      ]
     },
     "execution_count": null,
     "metadata": {},
     "output_type": "execute_result"
    }
   ],
   "source": [
    "inspect.getsourcefile(Fastdb) == '<string>' "
   ]
  },
  {
   "cell_type": "code",
   "execution_count": null,
   "id": "ed86c689",
   "metadata": {},
   "outputs": [
    {
     "data": {
      "text/plain": [
       "False"
      ]
     },
     "execution_count": null,
     "metadata": {},
     "output_type": "execute_result"
    }
   ],
   "source": [
    "inspect.getsourcefile(Fastdb.print) == '<string>'"
   ]
  },
  {
   "cell_type": "code",
   "execution_count": null,
   "id": "d3d7f8ec",
   "metadata": {},
   "outputs": [
    {
     "data": {
      "text/plain": [
       "True"
      ]
     },
     "execution_count": null,
     "metadata": {},
     "output_type": "execute_result"
    }
   ],
   "source": [
    "Fastdb.dbprint is fdb.orisrc # they are the same object"
   ]
  },
  {
   "cell_type": "code",
   "execution_count": null,
   "id": "0e075e98",
   "metadata": {},
   "outputs": [
    {
     "data": {
      "text/plain": [
       "False"
      ]
     },
     "execution_count": null,
     "metadata": {},
     "output_type": "execute_result"
    }
   ],
   "source": [
    "inspect.getsourcefile(fdb.dbprint) == '<string>'"
   ]
  },
  {
   "cell_type": "markdown",
   "id": "19ba6ac2",
   "metadata": {},
   "source": [
    "Important! After running the following line, `Fastdb.dbprint` is updated by exec and source code can't be seen anymore."
   ]
  },
  {
   "cell_type": "code",
   "execution_count": null,
   "id": "b84a2f13",
   "metadata": {},
   "outputs": [
    {
     "name": "stdout",
     "output_type": "stream",
     "text": [
      "you are investigating. Run exec on the entire srcode with added expressions (dbsrc), so that dbsrc is callable.\"                                        (8)\n",
      "                                                                                                                                                        (9)\n",
      "    src = self.orisrc===================================================================================================================================(10)\n",
      "                                                                                                                                       \u001b[91mkeep original src safe\u001b[0m\n",
      "    if type(dbcode) == int: self.cmts.update({dbcode: cmt})                                                                                             (11)\n",
      "                                                                                                                                                        (12)\n",
      "\u001b[93mprint selected srcline with expands above\u001b[0m----------\n",
      "\u001b[93mshowdbsrc=Start\u001b[0m------------------------------------\n",
      "@patch                                                                                                                                                  (0)\n",
      "def dbprint(self:Fastdb,                                                                                                                                (1)\n",
      "            dbcode:int, # idx of a srcline under investigation, can only be int                                                                         (2)\n",
      "            cmt:str, # comment added to the srcline                                                                                                     (3)\n",
      "            *codes, # a list of expressions (str) you write to be evaluated above the srcline                                                           (4)\n",
      "            expand:int=2, # span 2 lines of srcode up and down from the srcline investigated                                                            (5)\n",
      "            showdbsrc:bool=False): # display dbsrc                                                                                                      (6)\n",
      "    \"Add comment and evaluate custom (single or multi lines) expressions to any srcline of the source code \\                                            (7)\n",
      "you are investigating. Run exec on the entire srcode with added expressions (dbsrc), so that dbsrc is callable.\"                                        (8)\n",
      "    g = locals()                                                                                                                                        (9)\n",
      "    dbprintinsert(\"self.orisrc\",env=g)==================================================================================================================(db)\n",
      "    src = self.orisrc                                                                                                                                   (11)\n",
      "    if type(dbcode) == int: self.cmts.update({dbcode: cmt})                                                                                             (12)\n",
      "    printsrc(src, dbcode, cmt, expand)                                                                                                                  (13)\n",
      "    print('{:-<60}'.format(colorize(\"print selected srcline with expands above\", color=\"y\")))                                                           (14)\n",
      "    dbsrc = \"\"                                                                                                                                          (15)\n",
      "    indent = 4                                                                                                                                          (16)\n",
      "    lst = inspect.getsource(src).split('\\n')                                                                                                            (17)\n",
      "    if not bool(lst[-1]): lst = lst[:-1]                                                                                                                (18)\n",
      "    newlst = []                                                                                                                                         (19)\n",
      "    for i in codes: # no matter whether there is \"\" or \"  \" in the front or in the middle of codes                                                      (20)\n",
      "        if bool(i.strip()): newlst.append(i)                                                                                                            (21)\n",
      "    codes = newlst                                                                                                                                      (22)\n",
      "    srclines = \"\"                                                                                                                                       (23)\n",
      "    if type(dbcode) == int:                                                                                                                             (24)\n",
      "        srclines = lst[dbcode]                                                                                                                          (25)\n",
      "    else:                                                                                                                                               (26)\n",
      "        raise TypeError(\"decode must be an integer.\")                                                                                                   (27)\n",
      "    for idx, l in zip(range(len(lst)), lst):                                                                                                            (28)\n",
      "        if bool(l.strip()) and l.strip() in srclines and idx == dbcode:                                                                                 (29)\n",
      "            if len(codes) > 0:                                                                                                                          (30)\n",
      "                numindent = len(l) - len(l.lstrip()) # make sure indent not messed up by trailing spaces                                                (31)\n",
      "                dbcodes = \"dbprintinsert(\"                                                                                                              (32)\n",
      "                count = 1                                                                                                                               (33)\n",
      "                for c in codes:                                                                                                                         (34)\n",
      "                    if count == len(codes):                                                                                                             (35)\n",
      "                        dbcodes = dbcodes + '\"' + c + '\"' + \",\" + \"env=g\" + \")\"                                                                         (36)\n",
      "                    else:                                                                                                                               (37)\n",
      "                        dbcodes = dbcodes + '\"' + c + '\"' + \",\"                                                                                         (38)\n",
      "                    count = count + 1                                                                                                                   (39)\n",
      "                dbsrc = dbsrc + \" \"*numindent + \"g = locals()\" + '\\n'                                                                                   (40)\n",
      "                dbsrc = dbsrc + \" \"*numindent + dbcodes + '\\n'                                                                                          (41)\n",
      "                dbsrc = dbsrc + l + '\\n'                                                                                                                (42)\n",
      "            else:                                                                                                                                       (43)\n",
      "                dbsrc = dbsrc + l + '\\n'                                                                                                                (44)\n",
      "        elif bool(l.strip()) and idx + 1 == len(lst):                                                                                                   (45)\n",
      "            dbsrc = dbsrc + l                                                                                                                           (46)\n",
      "        elif bool(l.strip()): # make sure pure indentation + \\n is ignored                                                                              (47)\n",
      "            dbsrc = dbsrc + l + '\\n'                                                                                                                    (48)\n",
      "    if showdbsrc: # added to debug                                                                                                                      (49)\n",
      "        print('{:-<60}'.format(colorize(\"showdbsrc=Start\", color=\"y\")))                                                                                 (50)\n",
      "        totallen = 157                                                                                                                                  (51)\n",
      "        lenidx = 5                                                                                                                                      (52)\n",
      "        dblst = dbsrc.split('\\n')                                                                                                                       (53)\n",
      "        for idx, l in zip(range(len(dblst)), dblst):                                                                                                    (54)\n",
      "            lenl = len(l)                                                                                                                               (55)\n",
      "#             if \"dbprintinsert\" in l:                                                                                                                  (56)\n",
      "            if l.strip().startswith(\"dbprintinsert\"):                                                                                                   (57)\n",
      "                print(l + \"=\"*(totallen-lenl-lenidx) + \"(db)\")                                                                                          (58)\n",
      "            else:                                                                                                                                       (59)\n",
      "                print(l + \" \"*(totallen-lenl-lenidx) + \"(\" + str(idx) + \")\")                                                                            (60)\n",
      "        names = self.orisrc.__qualname__.split('.')                                                                                                     (61)\n",
      "        clsname = names[0]                                                                                                                              (62)\n",
      "        methodname = names[1]                                                                                                                           (63)\n",
      "        print(f\"before exec, is {methodname} in locals(): {methodname in locals()}\")                                                                    (64)\n",
      "        print(f\"before exec, is {clsname} in locals(): {clsname in locals()}\")                                                                          (65)\n",
      "        print(f\"before exec, is {self.orisrc.__qualname__} in locals(): {self.orisrc.__qualname__ in locals()}\")                                        (66)\n",
      "        print(f\"before exec, is {methodname} in self.outenv: {methodname in self.outenv}\")                                                              (67)\n",
      "        print(f\"before exec, is {clsname} in self.outenv: {clsname in self.outenv}\")                                                                    (68)\n",
      "        print(f\"before exec, is {self.orisrc.__qualname__} in self.outenv: {self.orisrc.__qualname__ in self.outenv}\")                                  (69)\n",
      "        expr = \"self.outenv[\" + \"'\" + clsname + \"'].\" + methodname                                                                                      (70)\n",
      "        expr1 = \"self.outenv[\" + \"'\" + methodname + \"']\"                                                                                                (71)\n",
      "        print(f\"inspect.getsourcefile({expr}) == '<string>': {True if inspect.getsourcefile(eval(expr)) == '<string>' else inspect.getsourcefile(eval(expr))}\")(72)\n",
      "        print(f\"self.outenv[{methodname}]: {eval(expr1)}\")                                                                                              (73)\n",
      "    exec(dbsrc, globals().update(self.outenv)) # make sure b can access lst from above                                                                  (74)\n",
      "    print('{:-<60}'.format(colorize(\"exec on dbsrc above\", color=\"y\")))                                                                                 (75)\n",
      "    if showdbsrc:                                                                                                                                       (76)\n",
      "        print(f\"locals() keys: {list(locals().keys())}\")                                                                                                (77)\n",
      "        print(f\"after exec, is {methodname} in locals(): {methodname in locals()}\")                                                                     (78)\n",
      "        print(f\"after exec, is {clsname} in locals(): {clsname in locals()}\")                                                                           (79)\n",
      "        print(f\"after exec, is {self.orisrc.__qualname__} in locals(): {self.orisrc.__qualname__ in locals()}\")                                         (80)\n",
      "        print(f\"after exec, is {methodname} in self.outenv: {methodname in self.outenv}\")                                                               (81)\n",
      "        print(f\"after exec, is {clsname} in self.outenv: {clsname in self.outenv}\")                                                                     (82)\n",
      "        print(f\"after exec, is {self.orisrc.__qualname__} in self.outenv: {self.orisrc.__qualname__ in self.outenv}\")                                   (83)\n",
      "#         print(f\"after exec, are {methodname} and {clsname} and {self.orisrc.__qualname__} in locals(): {[i in list(locals().keys()) for i in [self.orisrc.__name__, clsname, self.orisrc.__qualname__]]}\")(84)\n",
      "#         print(f\"after exec, are {methodname} and {clsname} and {self.orisrc.__qualname__} in self.outenv(): {[i in self.outenv for i in [methodname, clsname, self.orisrc.__qualname__]]}\")(85)\n",
      "        print(f\"inspect.getsourcefile({expr}) == '<string>': {True if inspect.getsourcefile(eval(expr)) == '<string>' else inspect.getsourcefile(eval(expr))}\")(86)\n",
      "        print(f\"self.outenv[{methodname}]: {eval(expr1)}\")                                                                                              (87)\n",
      "        print(f'self.orisrc.__name__: {self.orisrc.__name__}')                                                                                          (88)\n",
      "        print(f'locals()[self.orisrc.__name__]: {locals()[self.orisrc.__name__]}')                                                                      (89)\n",
      "        print('{:-<60}'.format(colorize(\"showdbsrc=End\", color=\"y\")))                                                                                   (90)\n",
      "    return locals()[self.orisrc.__name__]                                                                                                               (91)\n",
      "before exec, is dbprint in locals(): False\n",
      "before exec, is Fastdb in locals(): False\n",
      "before exec, is Fastdb.dbprint in locals(): False\n",
      "before exec, is dbprint in self.outenv: True\n",
      "before exec, is Fastdb in self.outenv: True\n",
      "before exec, is Fastdb.dbprint in self.outenv: False\n",
      "inspect.getsourcefile(self.outenv['Fastdb'].dbprint) == '<string>': /Users/Natsume/Documents/fastdebug/fastdebug/core.py\n",
      "self.outenv[dbprint]: None\n",
      "\u001b[93mexec on dbsrc above\u001b[0m--------------------------------\n",
      "locals() keys: ['self', 'dbcode', 'cmt', 'expand', 'showdbsrc', 'codes', 'src', 'dbsrc', 'indent', 'lst', 'newlst', 'i', 'srclines', 'idx', 'l', 'numindent', 'dbcodes', 'count', 'c', 'totallen', 'lenidx', 'dblst', 'lenl', 'names', 'clsname', 'methodname', 'expr', 'expr1', 'dbprint']\n",
      "after exec, is dbprint in locals(): True\n",
      "after exec, is Fastdb in locals(): False\n",
      "after exec, is Fastdb.dbprint in locals(): False\n",
      "after exec, is dbprint in self.outenv: True\n",
      "after exec, is Fastdb in self.outenv: True\n",
      "after exec, is Fastdb.dbprint in self.outenv: False\n",
      "inspect.getsourcefile(self.outenv['Fastdb'].dbprint) == '<string>': True\n",
      "self.outenv[dbprint]: None\n",
      "self.orisrc.__name__: dbprint\n",
      "locals()[self.orisrc.__name__]: None\n",
      "\u001b[93mshowdbsrc=End\u001b[0m--------------------------------------\n"
     ]
    }
   ],
   "source": [
    "dbsrc = fdb.dbprint(10, \"keep original src safe\", \"self.orisrc\", showdbsrc=True)"
   ]
  },
  {
   "cell_type": "markdown",
   "id": "22895485",
   "metadata": {},
   "source": [
    "Important!\n",
    "\n",
    "As updating `Fastdb.dbprint` with exec will send the updated src to the class `Fastdb` in `g`, the newly created `dbprint` in locals() is actually NoneType.\n",
    "\n",
    "Luckily, we still got `fdb.orisrc` which keep the original `Fastdb.dbprint` for us.\n",
    "\n",
    "So, we can run `Fastdb.dbprint = fdb.orisrc` to get `Fastdb.dbprint` back to normal"
   ]
  },
  {
   "cell_type": "code",
   "execution_count": null,
   "id": "14b40cd7",
   "metadata": {},
   "outputs": [
    {
     "data": {
      "text/plain": [
       "True"
      ]
     },
     "execution_count": null,
     "metadata": {},
     "output_type": "execute_result"
    }
   ],
   "source": [
    "inspect.getsourcefile(Fastdb.dbprint) == '<string>' # Fastdb.dbprint has its source code file no more"
   ]
  },
  {
   "cell_type": "code",
   "execution_count": null,
   "id": "ccea40e0",
   "metadata": {},
   "outputs": [
    {
     "data": {
      "text/plain": [
       "False"
      ]
     },
     "execution_count": null,
     "metadata": {},
     "output_type": "execute_result"
    }
   ],
   "source": [
    "inspect.getsourcefile(Fastdb) == '<string>' # Fastdb still has its source code file"
   ]
  },
  {
   "cell_type": "code",
   "execution_count": null,
   "id": "7c234634",
   "metadata": {},
   "outputs": [
    {
     "data": {
      "text/plain": [
       "False"
      ]
     },
     "execution_count": null,
     "metadata": {},
     "output_type": "execute_result"
    }
   ],
   "source": [
    "inspect.getsourcefile(Fastdb.print) == '<string>' # Fastdb.print still has its source code file"
   ]
  },
  {
   "cell_type": "code",
   "execution_count": null,
   "id": "c4b38b52",
   "metadata": {},
   "outputs": [
    {
     "data": {
      "text/plain": [
       "True"
      ]
     },
     "execution_count": null,
     "metadata": {},
     "output_type": "execute_result"
    }
   ],
   "source": [
    "inspect.getsourcefile(fdb.dbprint) == '<string>' "
   ]
  },
  {
   "cell_type": "code",
   "execution_count": null,
   "id": "97acf157",
   "metadata": {},
   "outputs": [
    {
     "data": {
      "text/plain": [
       "False"
      ]
     },
     "execution_count": null,
     "metadata": {},
     "output_type": "execute_result"
    }
   ],
   "source": [
    "Fastdb.dbprint is fdb.orisrc # no longer the same object"
   ]
  },
  {
   "cell_type": "markdown",
   "id": "170684e8",
   "metadata": {},
   "source": [
    "### Make an example with new `Fastdb.dbprint`"
   ]
  },
  {
   "cell_type": "code",
   "execution_count": null,
   "id": "e141da0f",
   "metadata": {},
   "outputs": [],
   "source": [
    "from fastdebug.utils import *"
   ]
  },
  {
   "cell_type": "code",
   "execution_count": null,
   "id": "68ead44e",
   "metadata": {},
   "outputs": [],
   "source": [
    "import fastdebug.core as core"
   ]
  },
  {
   "cell_type": "code",
   "execution_count": null,
   "id": "661f1bfa",
   "metadata": {},
   "outputs": [
    {
     "data": {
      "text/plain": [
       "20"
      ]
     },
     "execution_count": null,
     "metadata": {},
     "output_type": "execute_result"
    }
   ],
   "source": [
    "gw = {}\n",
    "gw.update(whatinside.__globals__)\n",
    "len(gw)"
   ]
  },
  {
   "cell_type": "code",
   "execution_count": null,
   "id": "69e0898e",
   "metadata": {},
   "outputs": [],
   "source": [
    "fdbw = Fastdb(whatinside, gw) # we are using the Fastdb whose .dbprint has dbprintinsert added"
   ]
  },
  {
   "cell_type": "code",
   "execution_count": null,
   "id": "849e5a8f",
   "metadata": {},
   "outputs": [
    {
     "data": {
      "text/plain": [
       "True"
      ]
     },
     "execution_count": null,
     "metadata": {},
     "output_type": "execute_result"
    }
   ],
   "source": [
    "inspect.getsourcefile(fdbw.dbprint) == '<string>' # fdbw.dbprint does not have its source code file, due to new Fastdb.dbprint"
   ]
  },
  {
   "cell_type": "code",
   "execution_count": null,
   "id": "e7f81c1e",
   "metadata": {},
   "outputs": [
    {
     "name": "stdout",
     "output_type": "stream",
     "text": [
      "def whatinside(mo, # module, e.g., `import fastcore.all as fa`, use `fa` here=============(0)       \n",
      "               dun:bool=False, # print all items in __all__===============================(1)       \n",
      "               func:bool=False, # print all user defined functions========================(2)       \n",
      "               clas:bool=False, # print all class objects=================================(3)       \n",
      "               bltin:bool=False, # print all builtin funcs or methods=====================(4)       \n",
      "               lib:bool=False, # print all the modules of the library it belongs to=======(5)       \n",
      "               cal:bool=False # print all callables=======================================(6)       \n",
      "             ): ==========================================================================(7)       \n",
      "    'Check what inside a module: `__all__`, functions, classes, builtins, and callables'==(8)       \n",
      "    dun_all = len(mo.__all__) if hasattr(mo, \"__all__\") else 0============================(9)       \n",
      "                                                                                                                                     part No.1 out of 2 parts\n"
     ]
    }
   ],
   "source": [
    "fdbw.print(10,1) # print out the original source of whatinside"
   ]
  },
  {
   "cell_type": "code",
   "execution_count": null,
   "id": "13a33d71",
   "metadata": {},
   "outputs": [
    {
     "name": "stdout",
     "output_type": "stream",
     "text": [
      "\n",
      "\n",
      "                                                                                            self.orisrc => self.orisrc : <function whatinside at 0x105aac9d0>\n",
      "             ):                                                                                                                                         (7)\n",
      "    'Check what inside a module: `__all__`, functions, classes, builtins, and callables'                                                                (8)\n",
      "    dun_all = len(mo.__all__) if hasattr(mo, \"__all__\") else 0==========================================================================================(9)\n",
      "                                                                                                                                \u001b[91mcount num of funcs in __all__\u001b[0m\n",
      "    funcs = inspect.getmembers(mo, inspect.isfunction)                                                                                                  (10)\n",
      "    classes = inspect.getmembers(mo, inspect.isclass)                                                                                                   (11)\n",
      "\u001b[93mprint selected srcline with expands above\u001b[0m----------\n",
      "\u001b[93mexec on dbsrc above\u001b[0m--------------------------------\n"
     ]
    }
   ],
   "source": [
    "new = fdbw.dbprint(9, \"count num of funcs in __all__\", \"type(mo)\") \n",
    "# what does this line of code do?\n",
    "# 1. the updated .dbprint is used here\n",
    "# 2. \"self.orisrc\" to be run when fdbw.dbprint run on whatinside\n",
    "# 3. \"type(mo)\" is inserted above srcline 9 and a new whatinside srcode is activated"
   ]
  },
  {
   "cell_type": "code",
   "execution_count": null,
   "id": "eafb7451",
   "metadata": {},
   "outputs": [],
   "source": [
    "test_eq(inspect.getsourcefile(whatinside), '/Users/Natsume/Documents/fastdebug/fastdebug/utils.py')"
   ]
  },
  {
   "cell_type": "code",
   "execution_count": null,
   "id": "18e4d449",
   "metadata": {},
   "outputs": [
    {
     "name": "stdout",
     "output_type": "stream",
     "text": [
      "\n",
      "\n",
      "                                                                                                                      type(mo) => type(mo) : <class 'module'>\n",
      "fastdebug.utils has: \n",
      "3 items in its __all__, and \n",
      "121 user defined functions, \n",
      "18 classes or class objects, \n",
      "1 builtin funcs and methods, and\n",
      "142 callables.\n",
      "\n"
     ]
    }
   ],
   "source": [
    "whatinside = new # assign the upated whatinside srcode to the variable whatinside\n",
    "whatinside(core) # run the updated whatinside srcode on core as an exmaple"
   ]
  },
  {
   "cell_type": "code",
   "execution_count": null,
   "id": "d7108754",
   "metadata": {},
   "outputs": [],
   "source": [
    "test_eq(inspect.getsourcefile(whatinside), '<string>')"
   ]
  },
  {
   "cell_type": "markdown",
   "id": "71647034",
   "metadata": {},
   "source": [
    "#### Turn Fastdb.dbprint and whatinside back to normal"
   ]
  },
  {
   "cell_type": "code",
   "execution_count": null,
   "id": "d6c129a2",
   "metadata": {},
   "outputs": [],
   "source": [
    "Fastdb.dbprint = fdb.orisrc\n",
    "whatinside = fdbw.orisrc # Important! remember to bring whatinside back to normal after each srcline exploration\n",
    "# this way we can debug other srcline of Fastdb.dbprint and whatinside from the original srcodes"
   ]
  },
  {
   "cell_type": "code",
   "execution_count": null,
   "id": "334a3fe6",
   "metadata": {},
   "outputs": [],
   "source": [
    "test_eq(inspect.getsourcefile(Fastdb.dbprint), '/Users/Natsume/Documents/fastdebug/fastdebug/core.py')"
   ]
  },
  {
   "cell_type": "code",
   "execution_count": null,
   "id": "34e560df",
   "metadata": {},
   "outputs": [],
   "source": [
    "test_eq(inspect.getsourcefile(whatinside), '/Users/Natsume/Documents/fastdebug/fastdebug/utils.py')"
   ]
  },
  {
   "cell_type": "code",
   "execution_count": null,
   "id": "854778ba",
   "metadata": {},
   "outputs": [],
   "source": [
    "test_eq(inspect.getsourcefile(fdb.dbprint), '/Users/Natsume/Documents/fastdebug/fastdebug/core.py')"
   ]
  },
  {
   "cell_type": "code",
   "execution_count": null,
   "id": "6aeb59c3",
   "metadata": {},
   "outputs": [],
   "source": [
    "test_eq(inspect.getsourcefile(fdbw.dbprint), '/Users/Natsume/Documents/fastdebug/fastdebug/core.py')"
   ]
  },
  {
   "cell_type": "code",
   "execution_count": null,
   "id": "f3e12cf6",
   "metadata": {},
   "outputs": [],
   "source": [
    "test_eq(inspect.getsourcefile(fdb.dbprint), '/Users/Natsume/Documents/fastdebug/fastdebug/core.py')"
   ]
  },
  {
   "cell_type": "code",
   "execution_count": null,
   "id": "822a2121",
   "metadata": {},
   "outputs": [],
   "source": [
    "test_eq(inspect.getsourcefile(fdbw.dbprint), '/Users/Natsume/Documents/fastdebug/fastdebug/core.py')"
   ]
  },
  {
   "cell_type": "markdown",
   "id": "0b3c1070",
   "metadata": {},
   "source": [
    "### explore the second srcline of dbprint"
   ]
  },
  {
   "cell_type": "code",
   "execution_count": null,
   "id": "bdb428e3",
   "metadata": {},
   "outputs": [
    {
     "name": "stdout",
     "output_type": "stream",
     "text": [
      "@patch====================================================================================(0)       \n",
      "def dbprint(self:Fastdb, =================================================================(1)       \n",
      "            dbcode:int, # idx of a srcline under investigation, can only be int===========(2)       \n",
      "            cmt:str, # comment added to the srcline=======================================(3)       \n",
      "            *codes, # a list of expressions (str) you write to be evaluated above the srcline                                                           (4)\n",
      "            expand:int=2, # span 2 lines of srcode up and down from the srcline investigated                                                            (5)\n",
      "            showdbsrc:bool=False): # display dbsrc========================================(6)       \n",
      "    \"Add comment and evaluate custom (single or multi lines) expressions to any srcline of the source code \\                                            (7)\n",
      "you are investigating. Run exec on the entire srcode with added expressions (dbsrc), so that dbsrc is callable.\"                                        (8)\n",
      "                                                                                                                                                        (9)\n",
      "    src = self.orisrc=====================================================================(10) # keep original src safe\n",
      "    if type(dbcode) == int: self.cmts.update({dbcode: cmt})===============================(11)      \n",
      "                                                                                                                                                        (12)\n",
      "    printsrc(src, dbcode, cmt, expand)====================================================(13)      \n",
      "    print('{:-<60}'.format(colorize(\"print selected srcline with expands above\", color=\"y\")))                                                           (14)\n",
      "                                                                                                                                                        (15)\n",
      "    dbsrc = \"\"============================================================================(16)      \n",
      "    indent = 4============================================================================(17)      \n",
      "                                                                                                                                                        (18)\n",
      "    lst = inspect.getsource(src).split('\\n')==============================================(19)      \n",
      "                                                                                                                                     part No.1 out of 4 parts\n"
     ]
    }
   ],
   "source": [
    "fdb.print(20, 1) # we are using fdb.orisrc to print, so no dbprintinsert() will be seen."
   ]
  },
  {
   "cell_type": "code",
   "execution_count": null,
   "id": "55076925",
   "metadata": {},
   "outputs": [
    {
     "name": "stdout",
     "output_type": "stream",
     "text": [
      "                                                                                                                                                        (9)\n",
      "    src = self.orisrc                                                                                                                                   (10)\n",
      "    if type(dbcode) == int: self.cmts.update({dbcode: cmt})=============================================================================================(11)\n",
      "                                                                                                                              \u001b[91mcollect and organize cmt by idx\u001b[0m\n",
      "                                                                                                                                                        (12)\n",
      "    printsrc(src, dbcode, cmt, expand)                                                                                                                  (13)\n",
      "\u001b[93mprint selected srcline with expands above\u001b[0m----------\n",
      "\u001b[93mshowdbsrc=Start\u001b[0m------------------------------------\n",
      "@patch                                                                                                                                                  (0)\n",
      "def dbprint(self:Fastdb,                                                                                                                                (1)\n",
      "            dbcode:int, # idx of a srcline under investigation, can only be int                                                                         (2)\n",
      "            cmt:str, # comment added to the srcline                                                                                                     (3)\n",
      "            *codes, # a list of expressions (str) you write to be evaluated above the srcline                                                           (4)\n",
      "            expand:int=2, # span 2 lines of srcode up and down from the srcline investigated                                                            (5)\n",
      "            showdbsrc:bool=False): # display dbsrc                                                                                                      (6)\n",
      "    \"Add comment and evaluate custom (single or multi lines) expressions to any srcline of the source code \\                                            (7)\n",
      "you are investigating. Run exec on the entire srcode with added expressions (dbsrc), so that dbsrc is callable.\"                                        (8)\n",
      "    src = self.orisrc                                                                                                                                   (9)\n",
      "    g = locals()                                                                                                                                        (10)\n",
      "    dbprintinsert(\"self.cmts\",\"dbcode\",\"cmt\",env=g)=====================================================================================================(db)\n",
      "    if type(dbcode) == int: self.cmts.update({dbcode: cmt})                                                                                             (12)\n",
      "    printsrc(src, dbcode, cmt, expand)                                                                                                                  (13)\n",
      "    print('{:-<60}'.format(colorize(\"print selected srcline with expands above\", color=\"y\")))                                                           (14)\n",
      "    dbsrc = \"\"                                                                                                                                          (15)\n",
      "    indent = 4                                                                                                                                          (16)\n",
      "    lst = inspect.getsource(src).split('\\n')                                                                                                            (17)\n",
      "    if not bool(lst[-1]): lst = lst[:-1]                                                                                                                (18)\n",
      "    newlst = []                                                                                                                                         (19)\n",
      "    for i in codes: # no matter whether there is \"\" or \"  \" in the front or in the middle of codes                                                      (20)\n",
      "        if bool(i.strip()): newlst.append(i)                                                                                                            (21)\n",
      "    codes = newlst                                                                                                                                      (22)\n",
      "    srclines = \"\"                                                                                                                                       (23)\n",
      "    if type(dbcode) == int:                                                                                                                             (24)\n",
      "        srclines = lst[dbcode]                                                                                                                          (25)\n",
      "    else:                                                                                                                                               (26)\n",
      "        raise TypeError(\"decode must be an integer.\")                                                                                                   (27)\n",
      "    for idx, l in zip(range(len(lst)), lst):                                                                                                            (28)\n",
      "        if bool(l.strip()) and l.strip() in srclines and idx == dbcode:                                                                                 (29)\n",
      "            if len(codes) > 0:                                                                                                                          (30)\n",
      "                numindent = len(l) - len(l.lstrip()) # make sure indent not messed up by trailing spaces                                                (31)\n",
      "                dbcodes = \"dbprintinsert(\"                                                                                                              (32)\n",
      "                count = 1                                                                                                                               (33)\n",
      "                for c in codes:                                                                                                                         (34)\n",
      "                    if count == len(codes):                                                                                                             (35)\n",
      "                        dbcodes = dbcodes + '\"' + c + '\"' + \",\" + \"env=g\" + \")\"                                                                         (36)\n",
      "                    else:                                                                                                                               (37)\n",
      "                        dbcodes = dbcodes + '\"' + c + '\"' + \",\"                                                                                         (38)\n",
      "                    count = count + 1                                                                                                                   (39)\n",
      "                dbsrc = dbsrc + \" \"*numindent + \"g = locals()\" + '\\n'                                                                                   (40)\n",
      "                dbsrc = dbsrc + \" \"*numindent + dbcodes + '\\n'                                                                                          (41)\n",
      "                dbsrc = dbsrc + l + '\\n'                                                                                                                (42)\n",
      "            else:                                                                                                                                       (43)\n",
      "                dbsrc = dbsrc + l + '\\n'                                                                                                                (44)\n",
      "        elif bool(l.strip()) and idx + 1 == len(lst):                                                                                                   (45)\n",
      "            dbsrc = dbsrc + l                                                                                                                           (46)\n",
      "        elif bool(l.strip()): # make sure pure indentation + \\n is ignored                                                                              (47)\n",
      "            dbsrc = dbsrc + l + '\\n'                                                                                                                    (48)\n",
      "    if showdbsrc: # added to debug                                                                                                                      (49)\n",
      "        print('{:-<60}'.format(colorize(\"showdbsrc=Start\", color=\"y\")))                                                                                 (50)\n",
      "        totallen = 157                                                                                                                                  (51)\n",
      "        lenidx = 5                                                                                                                                      (52)\n",
      "        dblst = dbsrc.split('\\n')                                                                                                                       (53)\n",
      "        for idx, l in zip(range(len(dblst)), dblst):                                                                                                    (54)\n",
      "            lenl = len(l)                                                                                                                               (55)\n",
      "#             if \"dbprintinsert\" in l:                                                                                                                  (56)\n",
      "            if l.strip().startswith(\"dbprintinsert\"):                                                                                                   (57)\n",
      "                print(l + \"=\"*(totallen-lenl-lenidx) + \"(db)\")                                                                                          (58)\n",
      "            else:                                                                                                                                       (59)\n",
      "                print(l + \" \"*(totallen-lenl-lenidx) + \"(\" + str(idx) + \")\")                                                                            (60)\n",
      "        names = self.orisrc.__qualname__.split('.')                                                                                                     (61)\n",
      "        clsname = names[0]                                                                                                                              (62)\n",
      "        methodname = names[1]                                                                                                                           (63)\n",
      "        print(f\"before exec, is {methodname} in locals(): {methodname in locals()}\")                                                                    (64)\n",
      "        print(f\"before exec, is {clsname} in locals(): {clsname in locals()}\")                                                                          (65)\n",
      "        print(f\"before exec, is {self.orisrc.__qualname__} in locals(): {self.orisrc.__qualname__ in locals()}\")                                        (66)\n",
      "        print(f\"before exec, is {methodname} in self.outenv: {methodname in self.outenv}\")                                                              (67)\n",
      "        print(f\"before exec, is {clsname} in self.outenv: {clsname in self.outenv}\")                                                                    (68)\n",
      "        print(f\"before exec, is {self.orisrc.__qualname__} in self.outenv: {self.orisrc.__qualname__ in self.outenv}\")                                  (69)\n",
      "        expr = \"self.outenv[\" + \"'\" + clsname + \"'].\" + methodname                                                                                      (70)\n",
      "        expr1 = \"self.outenv[\" + \"'\" + methodname + \"']\"                                                                                                (71)\n",
      "        print(f\"inspect.getsourcefile({expr}) == '<string>': {True if inspect.getsourcefile(eval(expr)) == '<string>' else inspect.getsourcefile(eval(expr))}\")(72)\n",
      "        print(f\"self.outenv[{methodname}]: {eval(expr1)}\")                                                                                              (73)\n",
      "    exec(dbsrc, globals().update(self.outenv)) # make sure b can access lst from above                                                                  (74)\n",
      "    print('{:-<60}'.format(colorize(\"exec on dbsrc above\", color=\"y\")))                                                                                 (75)\n",
      "    if showdbsrc:                                                                                                                                       (76)\n",
      "        print(f\"locals() keys: {list(locals().keys())}\")                                                                                                (77)\n",
      "        print(f\"after exec, is {methodname} in locals(): {methodname in locals()}\")                                                                     (78)\n",
      "        print(f\"after exec, is {clsname} in locals(): {clsname in locals()}\")                                                                           (79)\n",
      "        print(f\"after exec, is {self.orisrc.__qualname__} in locals(): {self.orisrc.__qualname__ in locals()}\")                                         (80)\n",
      "        print(f\"after exec, is {methodname} in self.outenv: {methodname in self.outenv}\")                                                               (81)\n",
      "        print(f\"after exec, is {clsname} in self.outenv: {clsname in self.outenv}\")                                                                     (82)\n",
      "        print(f\"after exec, is {self.orisrc.__qualname__} in self.outenv: {self.orisrc.__qualname__ in self.outenv}\")                                   (83)\n",
      "#         print(f\"after exec, are {methodname} and {clsname} and {self.orisrc.__qualname__} in locals(): {[i in list(locals().keys()) for i in [self.orisrc.__name__, clsname, self.orisrc.__qualname__]]}\")(84)\n",
      "#         print(f\"after exec, are {methodname} and {clsname} and {self.orisrc.__qualname__} in self.outenv(): {[i in self.outenv for i in [methodname, clsname, self.orisrc.__qualname__]]}\")(85)\n",
      "        print(f\"inspect.getsourcefile({expr}) == '<string>': {True if inspect.getsourcefile(eval(expr)) == '<string>' else inspect.getsourcefile(eval(expr))}\")(86)\n",
      "        print(f\"self.outenv[{methodname}]: {eval(expr1)}\")                                                                                              (87)\n",
      "        print(f'self.orisrc.__name__: {self.orisrc.__name__}')                                                                                          (88)\n",
      "        print(f'locals()[self.orisrc.__name__]: {locals()[self.orisrc.__name__]}')                                                                      (89)\n",
      "        print('{:-<60}'.format(colorize(\"showdbsrc=End\", color=\"y\")))                                                                                   (90)\n",
      "    return locals()[self.orisrc.__name__]                                                                                                               (91)\n",
      "before exec, is dbprint in locals(): False\n",
      "before exec, is Fastdb in locals(): False\n",
      "before exec, is Fastdb.dbprint in locals(): False\n",
      "before exec, is dbprint in self.outenv: True\n",
      "before exec, is Fastdb in self.outenv: True\n",
      "before exec, is Fastdb.dbprint in self.outenv: False\n",
      "inspect.getsourcefile(self.outenv['Fastdb'].dbprint) == '<string>': /Users/Natsume/Documents/fastdebug/fastdebug/core.py\n",
      "self.outenv[dbprint]: None\n",
      "\u001b[93mexec on dbsrc above\u001b[0m--------------------------------\n",
      "locals() keys: ['self', 'dbcode', 'cmt', 'expand', 'showdbsrc', 'codes', 'src', 'dbsrc', 'indent', 'lst', 'newlst', 'i', 'srclines', 'idx', 'l', 'numindent', 'dbcodes', 'count', 'c', 'totallen', 'lenidx', 'dblst', 'lenl', 'names', 'clsname', 'methodname', 'expr', 'expr1', 'dbprint']\n",
      "after exec, is dbprint in locals(): True\n",
      "after exec, is Fastdb in locals(): False\n",
      "after exec, is Fastdb.dbprint in locals(): False\n",
      "after exec, is dbprint in self.outenv: True\n",
      "after exec, is Fastdb in self.outenv: True\n",
      "after exec, is Fastdb.dbprint in self.outenv: False\n",
      "inspect.getsourcefile(self.outenv['Fastdb'].dbprint) == '<string>': True\n",
      "self.outenv[dbprint]: None\n",
      "self.orisrc.__name__: dbprint\n",
      "locals()[self.orisrc.__name__]: None\n",
      "\u001b[93mshowdbsrc=End\u001b[0m--------------------------------------\n"
     ]
    }
   ],
   "source": [
    "# this line will udpate or change Fastdb.dbprint again\n",
    "fdb.dbprint(11, \"collect and organize cmt by idx\", \"self.cmts\", \"dbcode\", \"cmt\", showdbsrc=True)\n",
    "# the codes expressions won't get run here, only added through dbprintinsert\n",
    "# however, if by accident you do run this cell again, the codes through dbprintinsert will take effect here too reasonably"
   ]
  },
  {
   "cell_type": "code",
   "execution_count": null,
   "id": "37c3f29f",
   "metadata": {},
   "outputs": [
    {
     "name": "stdout",
     "output_type": "stream",
     "text": [
      "def whatinside(mo, # module, e.g., `import fastcore.all as fa`, use `fa` here=============(0)       \n",
      "               dun:bool=False, # print all items in __all__===============================(1)       \n",
      "               func:bool=False, # print all user defined functions========================(2)       \n",
      "               clas:bool=False, # print all class objects=================================(3)       \n",
      "               bltin:bool=False, # print all builtin funcs or methods=====================(4)       \n",
      "               lib:bool=False, # print all the modules of the library it belongs to=======(5)       \n",
      "               cal:bool=False # print all callables=======================================(6)       \n",
      "             ): ==========================================================================(7)       \n",
      "    'Check what inside a module: `__all__`, functions, classes, builtins, and callables'==(8)       \n",
      "    dun_all = len(mo.__all__) if hasattr(mo, \"__all__\") else 0============================(9)       \n",
      "                                                                                                                                     part No.1 out of 2 parts\n"
     ]
    }
   ],
   "source": [
    "# no effect on these two lines below, as Fastdb.__init__ is not changed at all, only Fastdb.dbprint\n",
    "fdbw = Fastdb(whatinside, gw)\n",
    "fdbw.print(10,1)\n",
    "# after running fdbw.dbprint(..), and come back to run this line, error occurs due to no source code is reasonable."
   ]
  },
  {
   "cell_type": "code",
   "execution_count": null,
   "id": "0c8af0fa",
   "metadata": {},
   "outputs": [
    {
     "name": "stdout",
     "output_type": "stream",
     "text": [
      "\n",
      "\n",
      "                                                                                                                                  self.cmts => self.cmts : {}\n",
      "\n",
      "\n",
      "                                                                                                                                         dbcode => dbcode : 9\n",
      "\n",
      "\n",
      "                                                                                                                   cmt => cmt : count num of funcs in __all__\n",
      "             ):                                                                                                                                         (7)\n",
      "    'Check what inside a module: `__all__`, functions, classes, builtins, and callables'                                                                (8)\n",
      "    dun_all = len(mo.__all__) if hasattr(mo, \"__all__\") else 0==========================================================================================(9)\n",
      "                                                                                                                                \u001b[91mcount num of funcs in __all__\u001b[0m\n",
      "    funcs = inspect.getmembers(mo, inspect.isfunction)                                                                                                  (10)\n",
      "    classes = inspect.getmembers(mo, inspect.isclass)                                                                                                   (11)\n",
      "\u001b[93mprint selected srcline with expands above\u001b[0m----------\n",
      "\u001b[93mexec on dbsrc above\u001b[0m--------------------------------\n"
     ]
    }
   ],
   "source": [
    "# Now the updated .dbprint will print out the codes through dbprintinsert\n",
    "new = fdbw.dbprint(9, \"count num of funcs in __all__\", \"type(mo)\")"
   ]
  },
  {
   "cell_type": "code",
   "execution_count": null,
   "id": "2b90652b",
   "metadata": {},
   "outputs": [
    {
     "name": "stdout",
     "output_type": "stream",
     "text": [
      "\n",
      "\n",
      "                                                                                                                      type(mo) => type(mo) : <class 'module'>\n",
      "fastdebug.utils has: \n",
      "3 items in its __all__, and \n",
      "122 user defined functions, \n",
      "18 classes or class objects, \n",
      "1 builtin funcs and methods, and\n",
      "143 callables.\n",
      "\n"
     ]
    }
   ],
   "source": [
    "whatinside = new\n",
    "whatinside(core)"
   ]
  },
  {
   "cell_type": "markdown",
   "id": "ecf9448d",
   "metadata": {},
   "source": [
    "#### Turn Fastdb.dbprint and whatinside back to normal"
   ]
  },
  {
   "cell_type": "code",
   "execution_count": null,
   "id": "b738e6c9",
   "metadata": {},
   "outputs": [],
   "source": [
    "Fastdb.dbprint = fdb.orisrc\n",
    "whatinside = fdbw.orisrc # Important! remember to bring whatinside back to normal after each srcline exploration"
   ]
  },
  {
   "cell_type": "markdown",
   "id": "80292300",
   "metadata": {},
   "source": [
    "### Explore the third line"
   ]
  },
  {
   "cell_type": "code",
   "execution_count": null,
   "id": "181cc33a",
   "metadata": {},
   "outputs": [
    {
     "name": "stdout",
     "output_type": "stream",
     "text": [
      "@patch====================================================================================(0)       \n",
      "def dbprint(self:Fastdb, =================================================================(1)       \n",
      "            dbcode:int, # idx of a srcline under investigation, can only be int===========(2)       \n",
      "            cmt:str, # comment added to the srcline=======================================(3)       \n",
      "            *codes, # a list of expressions (str) you write to be evaluated above the srcline                                                           (4)\n",
      "            expand:int=2, # span 2 lines of srcode up and down from the srcline investigated                                                            (5)\n",
      "            showdbsrc:bool=False): # display dbsrc========================================(6)       \n",
      "    \"Add comment and evaluate custom (single or multi lines) expressions to any srcline of the source code \\                                            (7)\n",
      "you are investigating. Run exec on the entire srcode with added expressions (dbsrc), so that dbsrc is callable.\"                                        (8)\n",
      "                                                                                                                                                        (9)\n",
      "    src = self.orisrc=====================================================================(10) # keep original src safe\n",
      "    if type(dbcode) == int: self.cmts.update({dbcode: cmt})===============================(11) # collect and organize cmt by idx\n",
      "                                                                                                                                                        (12)\n",
      "    printsrc(src, dbcode, cmt, expand)====================================================(13)      \n",
      "    print('{:-<60}'.format(colorize(\"print selected srcline with expands above\", color=\"y\")))                                                           (14)\n",
      "                                                                                                                                                        (15)\n",
      "    dbsrc = \"\"============================================================================(16)      \n",
      "    indent = 4============================================================================(17)      \n",
      "                                                                                                                                                        (18)\n",
      "    lst = inspect.getsource(src).split('\\n')==============================================(19)      \n",
      "                                                                                                                                     part No.1 out of 4 parts\n"
     ]
    }
   ],
   "source": [
    "fdb.print(20, 1)"
   ]
  },
  {
   "cell_type": "code",
   "execution_count": null,
   "id": "f5b4eebd",
   "metadata": {},
   "outputs": [
    {
     "name": "stdout",
     "output_type": "stream",
     "text": [
      "    if type(dbcode) == int: self.cmts.update({dbcode: cmt})                                                                                             (11)\n",
      "                                                                                                                                                        (12)\n",
      "    printsrc(src, dbcode, cmt, expand)==================================================================================================================(13)\n",
      "                                                                                                         \u001b[91mprint srcdoe with comment, idx and specified expands\u001b[0m\n",
      "    print('{:-<60}'.format(colorize(\"print selected srcline with expands above\", color=\"y\")))                                                           (14)\n",
      "                                                                                                                                                        (15)\n",
      "\u001b[93mprint selected srcline with expands above\u001b[0m----------\n",
      "\u001b[93mexec on dbsrc above\u001b[0m--------------------------------\n",
      "\n",
      "\n",
      "                   inspect.getdoc(printsrc) => inspect.getdoc(printsrc) : print the seleted srcline with comment, idx and specified num of expanding srclines\n",
      "             ):                                                                                                                                         (7)\n",
      "    'Check what inside a module: `__all__`, functions, classes, builtins, and callables'                                                                (8)\n",
      "    dun_all = len(mo.__all__) if hasattr(mo, \"__all__\") else 0==========================================================================================(9)\n",
      "                                                                                                                                \u001b[91mcount num of funcs in __all__\u001b[0m\n",
      "    funcs = inspect.getmembers(mo, inspect.isfunction)                                                                                                  (10)\n",
      "    classes = inspect.getmembers(mo, inspect.isclass)                                                                                                   (11)\n",
      "\u001b[93mprint selected srcline with expands above\u001b[0m----------\n",
      "\u001b[93mexec on dbsrc above\u001b[0m--------------------------------\n",
      "\n",
      "\n",
      "                                                                                                                      type(mo) => type(mo) : <class 'module'>\n",
      "fastdebug.utils has: \n",
      "3 items in its __all__, and \n",
      "122 user defined functions, \n",
      "18 classes or class objects, \n",
      "1 builtin funcs and methods, and\n",
      "143 callables.\n",
      "\n"
     ]
    }
   ],
   "source": [
    "# update a new Fastdb.dbprint\n",
    "fdb.dbprint(13, \"print srcdoe with comment, idx and specified expands\", \"inspect.getdoc(printsrc)\")\n",
    "# creating a new db object on whatinside with new Fastdb.dbprint\n",
    "fdbw = Fastdb(whatinside, gw)\n",
    "# fdbw.print(10, 1)\n",
    "# we are still debuggin the same line in whatinside\n",
    "new = fdbw.dbprint(9, \"count num of funcs in __all__\", \"type(mo)\")\n",
    "whatinside = new\n",
    "whatinside(core)\n",
    "# Turn Fastdb.dbprint and whatinside back to normal\n",
    "Fastdb.dbprint = fdb.orisrc\n",
    "whatinside = fdbw.orisrc # Important! remember to bring whatinside back to normal after each srcline exploration"
   ]
  },
  {
   "cell_type": "code",
   "execution_count": null,
   "id": "bb7d28c9",
   "metadata": {},
   "outputs": [],
   "source": []
  },
  {
   "cell_type": "markdown",
   "id": "be5b0a02",
   "metadata": {},
   "source": [
    "### Explore the fourth line"
   ]
  },
  {
   "cell_type": "code",
   "execution_count": null,
   "id": "0936657b",
   "metadata": {},
   "outputs": [
    {
     "name": "stdout",
     "output_type": "stream",
     "text": [
      "@patch====================================================================================(0)       \n",
      "def dbprint(self:Fastdb, =================================================================(1)       \n",
      "            dbcode:int, # idx of a srcline under investigation, can only be int===========(2)       \n",
      "            cmt:str, # comment added to the srcline=======================================(3)       \n",
      "            *codes, # a list of expressions (str) you write to be evaluated above the srcline                                                           (4)\n",
      "            expand:int=2, # span 2 lines of srcode up and down from the srcline investigated                                                            (5)\n",
      "            showdbsrc:bool=False): # display dbsrc========================================(6)       \n",
      "    \"Add comment and evaluate custom (single or multi lines) expressions to any srcline of the source code \\                                            (7)\n",
      "you are investigating. Run exec on the entire srcode with added expressions (dbsrc), so that dbsrc is callable.\"                                        (8)\n",
      "                                                                                                                                                        (9)\n",
      "    src = self.orisrc=====================================================================(10) # keep original src safe\n",
      "    if type(dbcode) == int: self.cmts.update({dbcode: cmt})===============================(11) # collect and organize cmt by idx\n",
      "                                                                                                                                                        (12)\n",
      "    printsrc(src, dbcode, cmt, expand)====================================================(13) # print srcdoe with comment, idx and specified expands\n",
      "    print('{:-<60}'.format(colorize(\"print selected srcline with expands above\", color=\"y\")))                                                           (14)\n",
      "                                                                                                                                                        (15)\n",
      "    dbsrc = \"\"============================================================================(16)      \n",
      "    indent = 4============================================================================(17)      \n",
      "                                                                                                                                                        (18)\n",
      "    lst = inspect.getsource(src).split('\\n')==============================================(19)      \n",
      "    if not bool(lst[-1]): lst = lst[:-1]==================================================(20)      \n",
      "                                                                                                                                                        (21)\n",
      "    newlst = []===========================================================================(22)      \n",
      "    for i in codes: # no matter whether there is \"\" or \"  \" in the front or in the middle of codes                                                      (23)\n",
      "        if bool(i.strip()): newlst.append(i)==============================================(24)      \n",
      "    codes = newlst========================================================================(25)      \n",
      "                                                                                                                                                        (26)\n",
      "    srclines = \"\"=========================================================================(27)      \n",
      "    if type(dbcode) == int:===============================================================(28)      \n",
      "        srclines = lst[dbcode]============================================================(29)      \n",
      "    else:=================================================================================(30)      \n",
      "        raise TypeError(\"decode must be an integer.\")=====================================(31)      \n",
      "                                                                                                                                                        (32)\n",
      "                                                                                                                                     part No.1 out of 4 parts\n"
     ]
    }
   ],
   "source": [
    "fdb.print(33, 1)"
   ]
  },
  {
   "cell_type": "code",
   "execution_count": null,
   "id": "80ebad5a",
   "metadata": {},
   "outputs": [
    {
     "name": "stdout",
     "output_type": "stream",
     "text": [
      "    indent = 4                                                                                                                                          (17)\n",
      "                                                                                                                                                        (18)\n",
      "    lst = inspect.getsource(src).split('\\n')============================================================================================================(19)\n",
      "                                                                                                                      \u001b[91mremove the last line of srcode if empty\u001b[0m\n",
      "    if not bool(lst[-1]): lst = lst[:-1]                                                                                                                (20)\n",
      "                                                                                                                                                        (21)\n",
      "\u001b[93mprint selected srcline with expands above\u001b[0m----------\n",
      "\u001b[93mexec on dbsrc above\u001b[0m--------------------------------\n",
      "             ):                                                                                                                                         (7)\n",
      "    'Check what inside a module: `__all__`, functions, classes, builtins, and callables'                                                                (8)\n",
      "    dun_all = len(mo.__all__) if hasattr(mo, \"__all__\") else 0==========================================================================================(9)\n",
      "                                                                                                                                \u001b[91mcount num of funcs in __all__\u001b[0m\n",
      "    funcs = inspect.getmembers(mo, inspect.isfunction)                                                                                                  (10)\n",
      "    classes = inspect.getmembers(mo, inspect.isclass)                                                                                                   (11)\n",
      "\u001b[93mprint selected srcline with expands above\u001b[0m----------\n",
      "\u001b[93mexec on dbsrc above\u001b[0m--------------------------------\n",
      "\n",
      "\n",
      "                                                                                                                      type(mo) => type(mo) : <class 'module'>\n",
      "fastdebug.utils has: \n",
      "3 items in its __all__, and \n",
      "122 user defined functions, \n",
      "18 classes or class objects, \n",
      "1 builtin funcs and methods, and\n",
      "143 callables.\n",
      "\n"
     ]
    }
   ],
   "source": [
    "# update a new Fastdb.dbprint\n",
    "fdb.dbprint(19, \"remove the last line of srcode if empty\")\n",
    "# creating a db object on whatinside with new Fastdb.dbprint\n",
    "fdbw = Fastdb(whatinside, gw)\n",
    "# fdbw.print(10, 1)\n",
    "# we are still debuggin the same line in whatinside\n",
    "new = fdbw.dbprint(9, \"count num of funcs in __all__\", \"type(mo)\")\n",
    "whatinside = new\n",
    "whatinside(core)\n",
    "# Turn Fastdb.dbprint and whatinside back to normal\n",
    "Fastdb.dbprint = fdb.orisrc\n",
    "whatinside = fdbw.orisrc # Important! remember to bring whatinside back to normal after each srcline exploration"
   ]
  },
  {
   "cell_type": "code",
   "execution_count": null,
   "id": "9df01fa5",
   "metadata": {},
   "outputs": [],
   "source": []
  },
  {
   "cell_type": "markdown",
   "id": "05a8346a",
   "metadata": {},
   "source": [
    "### Explore the fifth line"
   ]
  },
  {
   "cell_type": "code",
   "execution_count": null,
   "id": "a0249cca",
   "metadata": {},
   "outputs": [
    {
     "name": "stdout",
     "output_type": "stream",
     "text": [
      "@patch====================================================================================(0)       \n",
      "def dbprint(self:Fastdb, =================================================================(1)       \n",
      "            dbcode:int, # idx of a srcline under investigation, can only be int===========(2)       \n",
      "            cmt:str, # comment added to the srcline=======================================(3)       \n",
      "            *codes, # a list of expressions (str) you write to be evaluated above the srcline                                                           (4)\n",
      "            expand:int=2, # span 2 lines of srcode up and down from the srcline investigated                                                            (5)\n",
      "            showdbsrc:bool=False): # display dbsrc========================================(6)       \n",
      "    \"Add comment and evaluate custom (single or multi lines) expressions to any srcline of the source code \\                                            (7)\n",
      "you are investigating. Run exec on the entire srcode with added expressions (dbsrc), so that dbsrc is callable.\"                                        (8)\n",
      "                                                                                                                                                        (9)\n",
      "    src = self.orisrc=====================================================================(10) # keep original src safe\n",
      "    if type(dbcode) == int: self.cmts.update({dbcode: cmt})===============================(11) # collect and organize cmt by idx\n",
      "                                                                                                                                                        (12)\n",
      "    printsrc(src, dbcode, cmt, expand)====================================================(13) # print srcdoe with comment, idx and specified expands\n",
      "    print('{:-<60}'.format(colorize(\"print selected srcline with expands above\", color=\"y\")))                                                           (14)\n",
      "                                                                                                                                                        (15)\n",
      "    dbsrc = \"\"============================================================================(16)      \n",
      "    indent = 4============================================================================(17)      \n",
      "                                                                                                                                                        (18)\n",
      "    lst = inspect.getsource(src).split('\\n')==============================================(19) # remove the last line of srcode if empty\n",
      "    if not bool(lst[-1]): lst = lst[:-1]==================================================(20)      \n",
      "                                                                                                                                                        (21)\n",
      "    newlst = []===========================================================================(22)      \n",
      "    for i in codes: # no matter whether there is \"\" or \"  \" in the front or in the middle of codes                                                      (23)\n",
      "        if bool(i.strip()): newlst.append(i)==============================================(24)      \n",
      "    codes = newlst========================================================================(25)      \n",
      "                                                                                                                                                        (26)\n",
      "    srclines = \"\"=========================================================================(27)      \n",
      "    if type(dbcode) == int:===============================================================(28)      \n",
      "        srclines = lst[dbcode]============================================================(29)      \n",
      "    else:=================================================================================(30)      \n",
      "        raise TypeError(\"decode must be an integer.\")=====================================(31)      \n",
      "                                                                                                                                                        (32)\n",
      "                                                                                                                                     part No.1 out of 4 parts\n"
     ]
    }
   ],
   "source": [
    "fdb.print(33, 1)"
   ]
  },
  {
   "cell_type": "code",
   "execution_count": null,
   "id": "463b9bb5",
   "metadata": {},
   "outputs": [
    {
     "name": "stdout",
     "output_type": "stream",
     "text": [
      "    if not bool(lst[-1]): lst = lst[:-1]                                                                                                                (20)\n",
      "                                                                                                                                                        (21)\n",
      "    newlst = []=========================================================================================================================================(22)\n",
      "                                                                                                                           \u001b[91mempty strings as codes are ignored\u001b[0m\n",
      "    for i in codes: # no matter whether there is \"\" or \"  \" in the front or in the middle of codes                                                      (23)\n",
      "        if bool(i.strip()): newlst.append(i)                                                                                                            (24)\n",
      "\u001b[93mprint selected srcline with expands above\u001b[0m----------\n",
      "\u001b[93mexec on dbsrc above\u001b[0m--------------------------------\n",
      "             ):                                                                                                                                         (7)\n",
      "    'Check what inside a module: `__all__`, functions, classes, builtins, and callables'                                                                (8)\n",
      "    dun_all = len(mo.__all__) if hasattr(mo, \"__all__\") else 0==========================================================================================(9)\n",
      "                                                                                                                                \u001b[91mcount num of funcs in __all__\u001b[0m\n",
      "    funcs = inspect.getmembers(mo, inspect.isfunction)                                                                                                  (10)\n",
      "    classes = inspect.getmembers(mo, inspect.isclass)                                                                                                   (11)\n",
      "\u001b[93mprint selected srcline with expands above\u001b[0m----------\n",
      "\u001b[93mexec on dbsrc above\u001b[0m--------------------------------\n",
      "\n",
      "\n",
      "                                                                                                                      type(mo) => type(mo) : <class 'module'>\n",
      "fastdebug.utils has: \n",
      "3 items in its __all__, and \n",
      "122 user defined functions, \n",
      "18 classes or class objects, \n",
      "1 builtin funcs and methods, and\n",
      "143 callables.\n",
      "\n"
     ]
    }
   ],
   "source": [
    "# update a new Fastdb.dbprint\n",
    "fdb.dbprint(22, \"empty strings as codes are ignored\")\n",
    "# creating a db object on whatinside with new Fastdb.dbprint\n",
    "fdbw = Fastdb(whatinside, gw)\n",
    "# fdbw.print(10, 1)\n",
    "# we are still debuggin the same line in whatinside\n",
    "new = fdbw.dbprint(9, \"count num of funcs in __all__\", \"type(mo)\")\n",
    "whatinside = new\n",
    "whatinside(core)\n",
    "# Turn Fastdb.dbprint and whatinside back to normal\n",
    "Fastdb.dbprint = fdb.orisrc\n",
    "whatinside = fdbw.orisrc # Important! remember to bring whatinside back to normal after each srcline exploration"
   ]
  },
  {
   "cell_type": "code",
   "execution_count": null,
   "id": "aee451e6",
   "metadata": {},
   "outputs": [],
   "source": []
  },
  {
   "cell_type": "markdown",
   "id": "4a945119",
   "metadata": {},
   "source": [
    "### Explore the 6th line"
   ]
  },
  {
   "cell_type": "code",
   "execution_count": null,
   "id": "e04d4173",
   "metadata": {},
   "outputs": [
    {
     "name": "stdout",
     "output_type": "stream",
     "text": [
      "@patch====================================================================================(0)       \n",
      "def dbprint(self:Fastdb, =================================================================(1)       \n",
      "            dbcode:int, # idx of a srcline under investigation, can only be int===========(2)       \n",
      "            cmt:str, # comment added to the srcline=======================================(3)       \n",
      "            *codes, # a list of expressions (str) you write to be evaluated above the srcline                                                           (4)\n",
      "            expand:int=2, # span 2 lines of srcode up and down from the srcline investigated                                                            (5)\n",
      "            showdbsrc:bool=False): # display dbsrc========================================(6)       \n",
      "    \"Add comment and evaluate custom (single or multi lines) expressions to any srcline of the source code \\                                            (7)\n",
      "you are investigating. Run exec on the entire srcode with added expressions (dbsrc), so that dbsrc is callable.\"                                        (8)\n",
      "                                                                                                                                                        (9)\n",
      "    src = self.orisrc=====================================================================(10) # keep original src safe\n",
      "    if type(dbcode) == int: self.cmts.update({dbcode: cmt})===============================(11) # collect and organize cmt by idx\n",
      "                                                                                                                                                        (12)\n",
      "    printsrc(src, dbcode, cmt, expand)====================================================(13) # print srcdoe with comment, idx and specified expands\n",
      "    print('{:-<60}'.format(colorize(\"print selected srcline with expands above\", color=\"y\")))                                                           (14)\n",
      "                                                                                                                                                        (15)\n",
      "    dbsrc = \"\"============================================================================(16)      \n",
      "    indent = 4============================================================================(17)      \n",
      "                                                                                                                                                        (18)\n",
      "    lst = inspect.getsource(src).split('\\n')==============================================(19) # remove the last line of srcode if empty\n",
      "    if not bool(lst[-1]): lst = lst[:-1]==================================================(20)      \n",
      "                                                                                                                                                        (21)\n",
      "    newlst = []===========================================================================(22) # empty strings as codes are ignored\n",
      "    for i in codes: # no matter whether there is \"\" or \"  \" in the front or in the middle of codes                                                      (23)\n",
      "        if bool(i.strip()): newlst.append(i)==============================================(24)      \n",
      "    codes = newlst========================================================================(25)      \n",
      "                                                                                                                                                        (26)\n",
      "    srclines = \"\"=========================================================================(27)      \n",
      "    if type(dbcode) == int:===============================================================(28)      \n",
      "        srclines = lst[dbcode]============================================================(29)      \n",
      "    else:=================================================================================(30)      \n",
      "        raise TypeError(\"decode must be an integer.\")=====================================(31)      \n",
      "                                                                                                                                                        (32)\n",
      "                                                                                                                                     part No.1 out of 4 parts\n"
     ]
    }
   ],
   "source": [
    "fdb.print(33, 1)"
   ]
  },
  {
   "cell_type": "code",
   "execution_count": null,
   "id": "e97e4116",
   "metadata": {},
   "outputs": [
    {
     "name": "stdout",
     "output_type": "stream",
     "text": [
      "    codes = newlst                                                                                                                                      (25)\n",
      "                                                                                                                                                        (26)\n",
      "    srclines = \"\"=======================================================================================================================================(27)\n",
      "                                                                                       \u001b[91mturn decode or idx into srcline string and raise type error if not int\u001b[0m\n",
      "    if type(dbcode) == int:                                                                                                                             (28)\n",
      "        srclines = lst[dbcode]                                                                                                                          (29)\n",
      "\u001b[93mprint selected srcline with expands above\u001b[0m----------\n",
      "\u001b[93mexec on dbsrc above\u001b[0m--------------------------------\n",
      "             ):                                                                                                                                         (7)\n",
      "    'Check what inside a module: `__all__`, functions, classes, builtins, and callables'                                                                (8)\n",
      "    dun_all = len(mo.__all__) if hasattr(mo, \"__all__\") else 0==========================================================================================(9)\n",
      "                                                                                                                                \u001b[91mcount num of funcs in __all__\u001b[0m\n",
      "    funcs = inspect.getmembers(mo, inspect.isfunction)                                                                                                  (10)\n",
      "    classes = inspect.getmembers(mo, inspect.isclass)                                                                                                   (11)\n",
      "\u001b[93mprint selected srcline with expands above\u001b[0m----------\n",
      "\u001b[93mexec on dbsrc above\u001b[0m--------------------------------\n",
      "\n",
      "\n",
      "                                                                                                                      type(mo) => type(mo) : <class 'module'>\n",
      "fastdebug.utils has: \n",
      "3 items in its __all__, and \n",
      "122 user defined functions, \n",
      "18 classes or class objects, \n",
      "1 builtin funcs and methods, and\n",
      "143 callables.\n",
      "\n"
     ]
    }
   ],
   "source": [
    "# update a new Fastdb.dbprint\n",
    "fdb.dbprint(27, \"turn decode or idx into srcline string and raise type error if not int\")\n",
    "# creating a db object on whatinside with new Fastdb.dbprint\n",
    "fdbw = Fastdb(whatinside, gw)\n",
    "# fdbw.print(10, 1)\n",
    "# we are still debuggin the same line in whatinside\n",
    "new = fdbw.dbprint(9, \"count num of funcs in __all__\", \"type(mo)\")\n",
    "whatinside = new\n",
    "whatinside(core)\n",
    "# Turn Fastdb.dbprint and whatinside back to normal\n",
    "Fastdb.dbprint = fdb.orisrc\n",
    "whatinside = fdbw.orisrc # Important! remember to bring whatinside back to normal after each srcline exploration"
   ]
  },
  {
   "cell_type": "code",
   "execution_count": null,
   "id": "97b13618",
   "metadata": {},
   "outputs": [
    {
     "name": "stdout",
     "output_type": "stream",
     "text": [
      "    else:=================================================================================(30)      \n",
      "        raise TypeError(\"decode must be an integer.\")=====================================(31)      \n",
      "                                                                                                                                                        (32)\n",
      "    for idx, l in zip(range(len(lst)), lst):==============================================(33)      \n",
      "                                                                                                                                                        (34)\n",
      "        if bool(l.strip()) and l.strip() in srclines and idx == dbcode:===================(35)      \n",
      "                                                                                                                                                        (36)\n",
      "            if len(codes) > 0: ===========================================================(37)      \n",
      "                numindent = len(l) - len(l.lstrip()) # make sure indent not messed up by trailing spaces                                                (38)\n",
      "                dbcodes = \"dbprintinsert(\"================================================(39)      \n",
      "                count = 1=================================================================(40)      \n",
      "                for c in codes:===========================================================(41)      \n",
      "                    if count == len(codes):===============================================(42)      \n",
      "                        dbcodes = dbcodes + '\"' + c + '\"' + \",\" + \"env=g\" + \")\"===========(43)      \n",
      "                    else:=================================================================(44)      \n",
      "                        dbcodes = dbcodes + '\"' + c + '\"' + \",\"===========================(45)      \n",
      "                    count = count + 1=====================================================(46)      \n",
      "                                                                                                                                                        (47)\n",
      "                dbsrc = dbsrc + \" \"*numindent + \"g = locals()\" + '\\n'=====================(48)      \n",
      "                dbsrc = dbsrc + \" \"*numindent + dbcodes + '\\n'============================(49)      \n",
      "                dbsrc = dbsrc + l + '\\n'     =============================================(50)      \n",
      "            else:=========================================================================(51)      \n",
      "                dbsrc = dbsrc + l + '\\n'                ==================================(52)      \n",
      "                                                                                                                                                        (53)\n",
      "        elif bool(l.strip()) and idx + 1 == len(lst):=====================================(54)      \n",
      "            dbsrc = dbsrc + l=============================================================(55)      \n",
      "                                                                                                                                                        (56)\n",
      "        elif bool(l.strip()): # make sure pure indentation + \\n is ignored================(57)      \n",
      "            dbsrc = dbsrc + l + '\\n'======================================================(58)      \n",
      "                                                                                                                                                        (59)\n",
      "                                                                                                                                     part No.2 out of 4 parts\n"
     ]
    }
   ],
   "source": [
    "fdb.print(30,2)"
   ]
  },
  {
   "cell_type": "markdown",
   "id": "a5dacd81",
   "metadata": {},
   "source": [
    "## Make the above a function"
   ]
  },
  {
   "cell_type": "code",
   "execution_count": null,
   "id": "80d37015",
   "metadata": {},
   "outputs": [],
   "source": [
    "# def dbdb(pmax, # max display of src per cell\n",
    "#          pt, # which part \n",
    "#          idx, # idx of srcline\n",
    "#          cmt, # comment\n",
    "#          *codes, # codes\n",
    "#          db=False):\n",
    "#     global whatinside, fdbw, fdb, Fastdb, gw, g\n",
    "\n",
    "    \n",
    "#     if bool(idx):\n",
    "#         # update a new Fastdb.dbprint\n",
    "#         fdb.dbprint(idx, cmt, *codes, showdbsrc=db)\n",
    "#         # creating a db object on whatinside with new Fastdb.dbprint\n",
    "#         fdbw = Fastdb(whatinside, gw)\n",
    "#         # fdbw.print(10, 1)\n",
    "#         # we are still debuggin the same line in whatinside\n",
    "#         new = fdbw.dbprint(9, \"count num of funcs in __all__\", \"type(mo)\")\n",
    "#         whatinside = new\n",
    "#         whatinside(core)\n",
    "#         # Turn Fastdb.dbprint and whatinside back to normal\n",
    "#         Fastdb.dbprint = fdb.orisrc\n",
    "#         whatinside = fdbw.orisrc # Important! remember to bring whatinside back to normal after each srcline exploration\n",
    "#     else:\n",
    "#         pass\n",
    "    \n",
    "#     # print the srcode with specified length and part\n",
    "#     if bool(pmax): fdb.print(pmax, pt) # if pmax == 0, then no printing src"
   ]
  },
  {
   "cell_type": "markdown",
   "id": "91a6bac1",
   "metadata": {},
   "source": [
    "### Print the srcode at the end and automatically adjust the number of srclines using idx"
   ]
  },
  {
   "cell_type": "code",
   "execution_count": null,
   "id": "39c3cf95",
   "metadata": {},
   "outputs": [],
   "source": [
    "# def dbdb(idx, # idx of srcline\n",
    "#          cmt, # comment\n",
    "#          *codes, # codes\n",
    "#          db=False,\n",
    "#          full=False):\n",
    "#     global whatinside, fdbw, fdb, Fastdb, gw, g\n",
    "\n",
    "    \n",
    "#     if bool(idx):\n",
    "#         # update a new Fastdb.dbprint\n",
    "#         fdb.dbprint(idx, cmt, *codes, showdbsrc=db)\n",
    "#         # creating a db object on whatinside with new Fastdb.dbprint\n",
    "#         fdbw = Fastdb(whatinside, gw)\n",
    "#         # fdbw.print(10, 1)\n",
    "#         # we are still debuggin the same line in whatinside\n",
    "#         new = fdbw.dbprint(9, \"count num of funcs in __all__\", \"type(mo)\")\n",
    "#         whatinside = new\n",
    "#         whatinside(core)\n",
    "#         # Turn Fastdb.dbprint and whatinside back to normal\n",
    "#         Fastdb.dbprint = fdb.orisrc\n",
    "#         whatinside = fdbw.orisrc # Important! remember to bring whatinside back to normal after each srcline exploration\n",
    "#     else:\n",
    "#         pass\n",
    "    \n",
    "#     totalines = len(inspect.getsource(fdb.orisrc).split('\\n'))\n",
    "#     maxpcell = 33\n",
    "#     pt = idx // maxpcell\n",
    "#     if full:\n",
    "#         fdb.print()\n",
    "#     elif idx > maxpcell and idx % maxpcell != 0:\n",
    "#         fdb.print(maxpcell, pt + 1)\n",
    "#     else:\n",
    "#         fdb.print(maxpcell, 1)\n"
   ]
  },
  {
   "cell_type": "markdown",
   "id": "a16dc213",
   "metadata": {},
   "source": [
    "### which dbprint to use db=True"
   ]
  },
  {
   "cell_type": "code",
   "execution_count": null,
   "id": "0a78bf55",
   "metadata": {},
   "outputs": [],
   "source": [
    "# def dbdb(idx, # idx of srcline\n",
    "#          cmt, # comment\n",
    "#          *codes, # codes\n",
    "#          db=False,\n",
    "#          full=False):\n",
    "#     global whatinside, fdbw, fdb, Fastdb, gw, g\n",
    "\n",
    "    \n",
    "#     if bool(idx):\n",
    "#         # update a new Fastdb.dbprint\n",
    "# #         fdb.dbprint(idx, cmt, *codes, showdbsrc=db)\n",
    "#         fdb.dbprint(idx, cmt, *codes, showdbsrc=db)\n",
    "#         print(\"\\n\")\n",
    "#         print('{:-<157}'.format(colorize(\"writing dbcodes into Fastdb.dbprint is done above\", color=\"y\")))\n",
    "#         print(\"\\n\")\n",
    "#         # creating a db object on whatinside with new Fastdb.dbprint\n",
    "#         fdbw = Fastdb(whatinside, gw)\n",
    "#         # fdbw.print(10, 1)\n",
    "#         # we are still debuggin the same line in whatinside\n",
    "#         new = fdbw.dbprint(9, \"count num of funcs in __all__\", \"type(mo)\", showdbsrc=db)\n",
    "#         print(\"\\n\")\n",
    "#         print('{:-<157}'.format(colorize(\"using db Fastdb.dbprint to create db whatinside is done\", color=\"y\")))\n",
    "#         print(\"\\n\")\n",
    "#         whatinside = new\n",
    "#         whatinside(core)\n",
    "#         print(\"\\n\")\n",
    "#         print('{:-<157}'.format(colorize(\"using db whatinside to run example on core above\", color=\"y\")))\n",
    "#         print(\"\\n\")        \n",
    "#         # Turn Fastdb.dbprint and whatinside back to normal\n",
    "#         Fastdb.dbprint = fdb.orisrc\n",
    "#         whatinside = fdbw.orisrc # Important! remember to bring whatinside back to normal after each srcline exploration\n",
    "#     else:\n",
    "#         pass\n",
    "    \n",
    "#     totalines = len(inspect.getsource(fdb.orisrc).split('\\n'))\n",
    "#     maxpcell = 33\n",
    "#     pt = idx // maxpcell\n",
    "#     if full:\n",
    "#         fdb.print()\n",
    "#     elif idx >= maxpcell and idx % maxpcell != 0:\n",
    "#         fdb.print(maxpcell, pt + 1)\n",
    "#     else:\n",
    "#         fdb.print(maxpcell, 1)\n"
   ]
  },
  {
   "cell_type": "markdown",
   "id": "bc27be56",
   "metadata": {},
   "source": [
    "### One function handles all"
   ]
  },
  {
   "cell_type": "code",
   "execution_count": null,
   "id": "23fcd896",
   "metadata": {},
   "outputs": [],
   "source": [
    "def dbdb(idx, # idx of srcline\n",
    "         cmt, # comment\n",
    "         *codes, # codes\n",
    "         db=False,\n",
    "         full=False):\n",
    "    global whatinside, fdbw, fdb, Fastdb, gw, g\n",
    "\n",
    "    \n",
    "    if bool(idx):\n",
    "        # update a new Fastdb.dbprint\n",
    "#         fdb.dbprint(idx, cmt, *codes, showdbsrc=db)\n",
    "        fdb.dbprint(idx, cmt, *codes, showdbsrc=db)\n",
    "        print(\"\\n\")\n",
    "        print('{:-<157}'.format(colorize(\"writing dbcodes into Fastdb.dbprint is done above\", color=\"y\")))\n",
    "        print(\"\\n\")\n",
    "        # creating a db object on whatinside with new Fastdb.dbprint\n",
    "        fdbw = Fastdb(whatinside, gw)\n",
    "        # fdbw.print(10, 1)\n",
    "        # we are still debuggin the same line in whatinside\n",
    "        new = fdbw.dbprint(9, \"count num of funcs in __all__\", \"type(mo)\", showdbsrc=db)\n",
    "        print(\"\\n\")\n",
    "        print('{:-<157}'.format(colorize(\"using db Fastdb.dbprint to create db whatinside is done\", color=\"y\")))\n",
    "        print(\"\\n\")\n",
    "        whatinside = new\n",
    "        whatinside(core)\n",
    "        print(\"\\n\")\n",
    "        print('{:-<157}'.format(colorize(\"using db whatinside to run example on core above\", color=\"y\")))\n",
    "        print(\"\\n\")        \n",
    "        # Turn Fastdb.dbprint and whatinside back to normal\n",
    "        Fastdb.dbprint = fdb.orisrc\n",
    "        whatinside = fdbw.orisrc # Important! remember to bring whatinside back to normal after each srcline exploration\n",
    "    else:\n",
    "        pass\n",
    "    \n",
    "    totalines = len(inspect.getsource(fdb.orisrc).split('\\n'))\n",
    "    maxpcell = 33\n",
    "    pt = idx // maxpcell\n",
    "    if full:\n",
    "        fdb.print()\n",
    "    elif idx > maxpcell and idx % maxpcell != 0:\n",
    "        fdb.print(maxpcell, pt + 1)\n",
    "    elif idx == maxpcell:\n",
    "        fdb.print(maxpcell, pt + 1)\n",
    "    else:\n",
    "        fdb.print(maxpcell, 1)\n"
   ]
  },
  {
   "cell_type": "code",
   "execution_count": null,
   "id": "79c7658f",
   "metadata": {},
   "outputs": [
    {
     "name": "stdout",
     "output_type": "stream",
     "text": [
      "        raise TypeError(\"decode must be an integer.\")                                                                                                   (31)\n",
      "                                                                                                                                                        (32)\n",
      "    for idx, l in zip(range(len(lst)), lst):============================================================================================================(33)\n",
      "                                                                                                                                  \u001b[91mloop every srcline with idx\u001b[0m\n",
      "                                                                                                                                                        (34)\n",
      "        if bool(l.strip()) and l.strip() in srclines and idx == dbcode:                                                                                 (35)\n",
      "\u001b[93mprint selected srcline with expands above\u001b[0m----------\n",
      "\u001b[93mexec on dbsrc above\u001b[0m--------------------------------\n",
      "\n",
      "\n",
      "\u001b[93mwriting dbcodes into Fastdb.dbprint is done above\u001b[0m---------------------------------------------------------------------------------------------------\n",
      "\n",
      "\n",
      "             ):                                                                                                                                         (7)\n",
      "    'Check what inside a module: `__all__`, functions, classes, builtins, and callables'                                                                (8)\n",
      "    dun_all = len(mo.__all__) if hasattr(mo, \"__all__\") else 0==========================================================================================(9)\n",
      "                                                                                                                                \u001b[91mcount num of funcs in __all__\u001b[0m\n",
      "    funcs = inspect.getmembers(mo, inspect.isfunction)                                                                                                  (10)\n",
      "    classes = inspect.getmembers(mo, inspect.isclass)                                                                                                   (11)\n",
      "\u001b[93mprint selected srcline with expands above\u001b[0m----------\n",
      "\n",
      "\n",
      "                                                                                                                                    len(lst) => len(lst) : 33\n",
      "\u001b[93mexec on dbsrc above\u001b[0m--------------------------------\n",
      "\n",
      "\n",
      "\u001b[93musing db Fastdb.dbprint to create db whatinside is done\u001b[0m---------------------------------------------------------------------------------------------\n",
      "\n",
      "\n",
      "\n",
      "\n",
      "                                                                                                                      type(mo) => type(mo) : <class 'module'>\n",
      "fastdebug.utils has: \n",
      "3 items in its __all__, and \n",
      "122 user defined functions, \n",
      "18 classes or class objects, \n",
      "1 builtin funcs and methods, and\n",
      "143 callables.\n",
      "\n",
      "\n",
      "\n",
      "\u001b[93musing db whatinside to run example on core above\u001b[0m----------------------------------------------------------------------------------------------------\n",
      "\n",
      "\n",
      "@patch====================================================================================(0)       \n",
      "def dbprint(self:Fastdb, =================================================================(1)       \n",
      "            dbcode:int, # idx of a srcline under investigation, can only be int===========(2)       \n",
      "            cmt:str, # comment added to the srcline=======================================(3)       \n",
      "            *codes, # a list of expressions (str) you write to be evaluated above the srcline                                                           (4)\n",
      "            expand:int=2, # span 2 lines of srcode up and down from the srcline investigated                                                            (5)\n",
      "            showdbsrc:bool=False): # display dbsrc========================================(6)       \n",
      "    \"Add comment and evaluate custom (single or multi lines) expressions to any srcline of the source code \\                                            (7)\n",
      "you are investigating. Run exec on the entire srcode with added expressions (dbsrc), so that dbsrc is callable.\"                                        (8)\n",
      "                                                                                                                                                        (9)\n",
      "    src = self.orisrc=====================================================================(10) # keep original src safe\n",
      "    if type(dbcode) == int: self.cmts.update({dbcode: cmt})===============================(11) # collect and organize cmt by idx\n",
      "                                                                                                                                                        (12)\n",
      "    printsrc(src, dbcode, cmt, expand)====================================================(13) # print srcdoe with comment, idx and specified expands\n",
      "    print('{:-<60}'.format(colorize(\"print selected srcline with expands above\", color=\"y\")))                                                           (14)\n",
      "                                                                                                                                                        (15)\n",
      "    dbsrc = \"\"============================================================================(16)      \n",
      "    indent = 4============================================================================(17)      \n",
      "                                                                                                                                                        (18)\n",
      "    lst = inspect.getsource(src).split('\\n')==============================================(19) # remove the last line of srcode if empty\n",
      "    if not bool(lst[-1]): lst = lst[:-1]==================================================(20)      \n",
      "                                                                                                                                                        (21)\n",
      "    newlst = []===========================================================================(22) # empty strings as codes are ignored\n",
      "    for i in codes: # no matter whether there is \"\" or \"  \" in the front or in the middle of codes                                                      (23)\n",
      "        if bool(i.strip()): newlst.append(i)==============================================(24)      \n",
      "    codes = newlst========================================================================(25)      \n",
      "                                                                                                                                                        (26)\n",
      "    srclines = \"\"=========================================================================(27) # turn decode or idx into srcline string and raise type error if not int\n",
      "    if type(dbcode) == int:===============================================================(28)      \n",
      "        srclines = lst[dbcode]============================================================(29)      \n",
      "    else:=================================================================================(30)      \n",
      "        raise TypeError(\"decode must be an integer.\")=====================================(31)      \n",
      "                                                                                                                                                        (32)\n",
      "                                                                                                                                     part No.1 out of 4 parts\n"
     ]
    }
   ],
   "source": [
    "dbdb(33, \"loop every srcline with idx\", \"len(lst)\")"
   ]
  },
  {
   "cell_type": "code",
   "execution_count": null,
   "id": "f1c8c53c",
   "metadata": {},
   "outputs": [
    {
     "name": "stdout",
     "output_type": "stream",
     "text": [
      "                                                                                                                                                        (36)\n",
      "            if len(codes) > 0:                                                                                                                          (37)\n",
      "                numindent = len(l) - len(l.lstrip()) # make sure indent not messed up by trailing spaces================================================(38)\n",
      "                                                                                                                        \u001b[91mWhen a srcline is under investigation\u001b[0m\n",
      "                dbcodes = \"dbprintinsert(\"                                                                                                              (39)\n",
      "                count = 1                                                                                                                               (40)\n",
      "\u001b[93mprint selected srcline with expands above\u001b[0m----------\n",
      "\u001b[93mexec on dbsrc above\u001b[0m--------------------------------\n",
      "\n",
      "\n",
      "\u001b[93mwriting dbcodes into Fastdb.dbprint is done above\u001b[0m---------------------------------------------------------------------------------------------------\n",
      "\n",
      "\n",
      "             ):                                                                                                                                         (7)\n",
      "    'Check what inside a module: `__all__`, functions, classes, builtins, and callables'                                                                (8)\n",
      "    dun_all = len(mo.__all__) if hasattr(mo, \"__all__\") else 0==========================================================================================(9)\n",
      "                                                                                                                                \u001b[91mcount num of funcs in __all__\u001b[0m\n",
      "    funcs = inspect.getmembers(mo, inspect.isfunction)                                                                                                  (10)\n",
      "    classes = inspect.getmembers(mo, inspect.isclass)                                                                                                   (11)\n",
      "\u001b[93mprint selected srcline with expands above\u001b[0m----------\n",
      "\u001b[93mexec on dbsrc above\u001b[0m--------------------------------\n",
      "\n",
      "\n",
      "\u001b[93musing db Fastdb.dbprint to create db whatinside is done\u001b[0m---------------------------------------------------------------------------------------------\n",
      "\n",
      "\n",
      "\n",
      "\n",
      "                                                                                                                      type(mo) => type(mo) : <class 'module'>\n",
      "fastdebug.utils has: \n",
      "3 items in its __all__, and \n",
      "122 user defined functions, \n",
      "18 classes or class objects, \n",
      "1 builtin funcs and methods, and\n",
      "143 callables.\n",
      "\n",
      "\n",
      "\n",
      "\u001b[93musing db whatinside to run example on core above\u001b[0m----------------------------------------------------------------------------------------------------\n",
      "\n",
      "\n",
      "    for idx, l in zip(range(len(lst)), lst):==============================================(33) # loop every srcline with idx\n",
      "                                                                                                                                                        (34)\n",
      "        if bool(l.strip()) and l.strip() in srclines and idx == dbcode:===================(35)      \n",
      "                                                                                                                                                        (36)\n",
      "            if len(codes) > 0: ===========================================================(37)      \n",
      "                numindent = len(l) - len(l.lstrip()) # make sure indent not messed up by trailing spaces # When a srcline is under investigation        (38)\n",
      "                dbcodes = \"dbprintinsert(\"================================================(39)      \n",
      "                count = 1=================================================================(40)      \n",
      "                for c in codes:===========================================================(41)      \n",
      "                    if count == len(codes):===============================================(42)      \n",
      "                        dbcodes = dbcodes + '\"' + c + '\"' + \",\" + \"env=g\" + \")\"===========(43)      \n",
      "                    else:=================================================================(44)      \n",
      "                        dbcodes = dbcodes + '\"' + c + '\"' + \",\"===========================(45)      \n",
      "                    count = count + 1=====================================================(46)      \n",
      "                                                                                                                                                        (47)\n",
      "                dbsrc = dbsrc + \" \"*numindent + \"g = locals()\" + '\\n'=====================(48)      \n",
      "                dbsrc = dbsrc + \" \"*numindent + dbcodes + '\\n'============================(49)      \n",
      "                dbsrc = dbsrc + l + '\\n'     =============================================(50)      \n",
      "            else:=========================================================================(51)      \n",
      "                dbsrc = dbsrc + l + '\\n'                ==================================(52)      \n",
      "                                                                                                                                                        (53)\n",
      "        elif bool(l.strip()) and idx + 1 == len(lst):=====================================(54)      \n",
      "            dbsrc = dbsrc + l=============================================================(55)      \n",
      "                                                                                                                                                        (56)\n",
      "        elif bool(l.strip()): # make sure pure indentation + \\n is ignored================(57)      \n",
      "            dbsrc = dbsrc + l + '\\n'======================================================(58)      \n",
      "                                                                                                                                                        (59)\n",
      "    if showdbsrc: # added to debug========================================================(60)      \n",
      "        print('{:-<60}'.format(colorize(\"showdbsrc=Start\", color=\"y\")))===================(61)      \n",
      "        totallen = 157====================================================================(62)      \n",
      "        lenidx = 5========================================================================(63)      \n",
      "        dblst = dbsrc.split('\\n')=========================================================(64)      \n",
      "        for idx, l in zip(range(len(dblst)), dblst):======================================(65)      \n",
      "                                                                                                                                     part No.2 out of 4 parts\n"
     ]
    }
   ],
   "source": [
    "dbdb(38, \"When a srcline is under investigation\")"
   ]
  },
  {
   "cell_type": "code",
   "execution_count": null,
   "id": "8350cf9f",
   "metadata": {},
   "outputs": [
    {
     "name": "stdout",
     "output_type": "stream",
     "text": [
      "                numindent = len(l) - len(l.lstrip()) # make sure indent not messed up by trailing spaces                                                (38)\n",
      "                dbcodes = \"dbprintinsert(\"                                                                                                              (39)\n",
      "                count = 1===============================================================================================================================(40)\n",
      "                                                                                                                                   \u001b[91mWhen there is codes to run\u001b[0m\n",
      "                for c in codes:                                                                                                                         (41)\n",
      "                    if count == len(codes):                                                                                                             (42)\n",
      "\u001b[93mprint selected srcline with expands above\u001b[0m----------\n",
      "\u001b[93mexec on dbsrc above\u001b[0m--------------------------------\n",
      "\n",
      "\n",
      "\u001b[93mwriting dbcodes into Fastdb.dbprint is done above\u001b[0m---------------------------------------------------------------------------------------------------\n",
      "\n",
      "\n",
      "             ):                                                                                                                                         (7)\n",
      "    'Check what inside a module: `__all__`, functions, classes, builtins, and callables'                                                                (8)\n",
      "    dun_all = len(mo.__all__) if hasattr(mo, \"__all__\") else 0==========================================================================================(9)\n",
      "                                                                                                                                \u001b[91mcount num of funcs in __all__\u001b[0m\n",
      "    funcs = inspect.getmembers(mo, inspect.isfunction)                                                                                                  (10)\n",
      "    classes = inspect.getmembers(mo, inspect.isclass)                                                                                                   (11)\n",
      "\u001b[93mprint selected srcline with expands above\u001b[0m----------\n",
      "\n",
      "\n",
      "                                                                                                                                  codes => codes : ('codes',)\n",
      "\u001b[93mexec on dbsrc above\u001b[0m--------------------------------\n",
      "\n",
      "\n",
      "\u001b[93musing db Fastdb.dbprint to create db whatinside is done\u001b[0m---------------------------------------------------------------------------------------------\n",
      "\n",
      "\n",
      "\n",
      "\n",
      "                                                                                                                      type(mo) => type(mo) : <class 'module'>\n",
      "fastdebug.utils has: \n",
      "3 items in its __all__, and \n",
      "122 user defined functions, \n",
      "18 classes or class objects, \n",
      "1 builtin funcs and methods, and\n",
      "143 callables.\n",
      "\n",
      "\n",
      "\n",
      "\u001b[93musing db whatinside to run example on core above\u001b[0m----------------------------------------------------------------------------------------------------\n",
      "\n",
      "\n",
      "    for idx, l in zip(range(len(lst)), lst):==============================================(33) # loop every srcline with idx\n",
      "                                                                                                                                                        (34)\n",
      "        if bool(l.strip()) and l.strip() in srclines and idx == dbcode:===================(35)      \n",
      "                                                                                                                                                        (36)\n",
      "            if len(codes) > 0: ===========================================================(37)      \n",
      "                numindent = len(l) - len(l.lstrip()) # make sure indent not messed up by trailing spaces # When a srcline is under investigation        (38)\n",
      "                dbcodes = \"dbprintinsert(\"================================================(39)      \n",
      "                count = 1=================================================================(40) # When there is codes to run\n",
      "                for c in codes:===========================================================(41)      \n",
      "                    if count == len(codes):===============================================(42)      \n",
      "                        dbcodes = dbcodes + '\"' + c + '\"' + \",\" + \"env=g\" + \")\"===========(43)      \n",
      "                    else:=================================================================(44)      \n",
      "                        dbcodes = dbcodes + '\"' + c + '\"' + \",\"===========================(45)      \n",
      "                    count = count + 1=====================================================(46)      \n",
      "                                                                                                                                                        (47)\n",
      "                dbsrc = dbsrc + \" \"*numindent + \"g = locals()\" + '\\n'=====================(48)      \n",
      "                dbsrc = dbsrc + \" \"*numindent + dbcodes + '\\n'============================(49)      \n",
      "                dbsrc = dbsrc + l + '\\n'     =============================================(50)      \n",
      "            else:=========================================================================(51)      \n",
      "                dbsrc = dbsrc + l + '\\n'                ==================================(52)      \n",
      "                                                                                                                                                        (53)\n",
      "        elif bool(l.strip()) and idx + 1 == len(lst):=====================================(54)      \n",
      "            dbsrc = dbsrc + l=============================================================(55)      \n",
      "                                                                                                                                                        (56)\n",
      "        elif bool(l.strip()): # make sure pure indentation + \\n is ignored================(57)      \n",
      "            dbsrc = dbsrc + l + '\\n'======================================================(58)      \n",
      "                                                                                                                                                        (59)\n",
      "    if showdbsrc: # added to debug========================================================(60)      \n",
      "        print('{:-<60}'.format(colorize(\"showdbsrc=Start\", color=\"y\")))===================(61)      \n",
      "        totallen = 157====================================================================(62)      \n",
      "        lenidx = 5========================================================================(63)      \n",
      "        dblst = dbsrc.split('\\n')=========================================================(64)      \n",
      "        for idx, l in zip(range(len(dblst)), dblst):======================================(65)      \n",
      "                                                                                                                                     part No.2 out of 4 parts\n"
     ]
    }
   ],
   "source": [
    "dbdb(40, \"When there is codes to run\", \"codes\")"
   ]
  },
  {
   "cell_type": "code",
   "execution_count": null,
   "id": "78faef50",
   "metadata": {},
   "outputs": [
    {
     "name": "stdout",
     "output_type": "stream",
     "text": [
      "            else:                                                                                                                                       (51)\n",
      "                dbsrc = dbsrc + l + '\\n'                                                                                                                (52)\n",
      "        elif bool(l.strip()) and idx + 1 == len(lst):                                                                                                   (54)\n",
      "            dbsrc = dbsrc + l                                                                                                                           (55)\n",
      "\u001b[93mprint selected srcline with expands above\u001b[0m----------\n",
      "\u001b[93mexec on dbsrc above\u001b[0m--------------------------------\n",
      "\n",
      "\n",
      "\u001b[93mwriting dbcodes into Fastdb.dbprint is done above\u001b[0m---------------------------------------------------------------------------------------------------\n",
      "\n",
      "\n",
      "             ):                                                                                                                                         (7)\n",
      "    'Check what inside a module: `__all__`, functions, classes, builtins, and callables'                                                                (8)\n",
      "    dun_all = len(mo.__all__) if hasattr(mo, \"__all__\") else 0==========================================================================================(9)\n",
      "                                                                                                                                \u001b[91mcount num of funcs in __all__\u001b[0m\n",
      "    funcs = inspect.getmembers(mo, inspect.isfunction)                                                                                                  (10)\n",
      "    classes = inspect.getmembers(mo, inspect.isclass)                                                                                                   (11)\n",
      "\u001b[93mprint selected srcline with expands above\u001b[0m----------\n",
      "\u001b[93mexec on dbsrc above\u001b[0m--------------------------------\n",
      "\n",
      "\n",
      "\u001b[93musing db Fastdb.dbprint to create db whatinside is done\u001b[0m---------------------------------------------------------------------------------------------\n",
      "\n",
      "\n",
      "\n",
      "\n",
      "                                                                                                                      type(mo) => type(mo) : <class 'module'>\n",
      "fastdebug.utils has: \n",
      "3 items in its __all__, and \n",
      "122 user defined functions, \n",
      "18 classes or class objects, \n",
      "1 builtin funcs and methods, and\n",
      "143 callables.\n",
      "\n",
      "\n",
      "\n",
      "\u001b[93musing db whatinside to run example on core above\u001b[0m----------------------------------------------------------------------------------------------------\n",
      "\n",
      "\n",
      "    for idx, l in zip(range(len(lst)), lst):==============================================(33) # loop every srcline with idx\n",
      "                                                                                                                                                        (34)\n",
      "        if bool(l.strip()) and l.strip() in srclines and idx == dbcode:===================(35)      \n",
      "                                                                                                                                                        (36)\n",
      "            if len(codes) > 0: ===========================================================(37)      \n",
      "                numindent = len(l) - len(l.lstrip()) # make sure indent not messed up by trailing spaces # When a srcline is under investigation        (38)\n",
      "                dbcodes = \"dbprintinsert(\"================================================(39)      \n",
      "                count = 1=================================================================(40) # When there is codes to run\n",
      "                for c in codes:===========================================================(41)      \n",
      "                    if count == len(codes):===============================================(42)      \n",
      "                        dbcodes = dbcodes + '\"' + c + '\"' + \",\" + \"env=g\" + \")\"===========(43)      \n",
      "                    else:=================================================================(44)      \n",
      "                        dbcodes = dbcodes + '\"' + c + '\"' + \",\"===========================(45)      \n",
      "                    count = count + 1=====================================================(46)      \n",
      "                                                                                                                                                        (47)\n",
      "                dbsrc = dbsrc + \" \"*numindent + \"g = locals()\" + '\\n'=====================(48)      \n",
      "                dbsrc = dbsrc + \" \"*numindent + dbcodes + '\\n'============================(49)      \n",
      "                dbsrc = dbsrc + l + '\\n'     =============================================(50)      \n",
      "            else:=========================================================================(51)      \n",
      "                dbsrc = dbsrc + l + '\\n'                ==================================(52)      \n",
      "                                                                                                                                                        (53)\n",
      "        elif bool(l.strip()) and idx + 1 == len(lst):=====================================(54)      \n",
      "            dbsrc = dbsrc + l=============================================================(55)      \n",
      "                                                                                                                                                        (56)\n",
      "        elif bool(l.strip()): # make sure pure indentation + \\n is ignored================(57)      \n",
      "            dbsrc = dbsrc + l + '\\n'======================================================(58)      \n",
      "                                                                                                                                                        (59)\n",
      "    if showdbsrc: # added to debug========================================================(60)      \n",
      "        print('{:-<60}'.format(colorize(\"showdbsrc=Start\", color=\"y\")))===================(61)      \n",
      "        totallen = 157====================================================================(62)      \n",
      "        lenidx = 5========================================================================(63)      \n",
      "        dblst = dbsrc.split('\\n')=========================================================(64)      \n",
      "        for idx, l in zip(range(len(dblst)), dblst):======================================(65)      \n",
      "                                                                                                                                     part No.2 out of 4 parts\n"
     ]
    }
   ],
   "source": [
    "dbdb(53, \"what does dbprintinsert line look like\", \"dbsrc\", \"dbsrc + l\")"
   ]
  },
  {
   "cell_type": "code",
   "execution_count": null,
   "id": "10f5ec7c",
   "metadata": {},
   "outputs": [
    {
     "name": "stdout",
     "output_type": "stream",
     "text": [
      "            dbsrc = dbsrc + l                                                                                                                           (55)\n",
      "                                                                                                                                                        (56)\n",
      "        elif bool(l.strip()): # make sure pure indentation + \\n is ignored==============================================================================(57)\n",
      "                                                                                                                                     \u001b[91mwhat to print at the end\u001b[0m\n",
      "            dbsrc = dbsrc + l + '\\n'                                                                                                                    (58)\n",
      "                                                                                                                                                        (59)\n",
      "\u001b[93mprint selected srcline with expands above\u001b[0m----------\n",
      "\u001b[93mexec on dbsrc above\u001b[0m--------------------------------\n",
      "\n",
      "\n",
      "\u001b[93mwriting dbcodes into Fastdb.dbprint is done above\u001b[0m---------------------------------------------------------------------------------------------------\n",
      "\n",
      "\n",
      "             ):                                                                                                                                         (7)\n",
      "    'Check what inside a module: `__all__`, functions, classes, builtins, and callables'                                                                (8)\n",
      "    dun_all = len(mo.__all__) if hasattr(mo, \"__all__\") else 0==========================================================================================(9)\n",
      "                                                                                                                                \u001b[91mcount num of funcs in __all__\u001b[0m\n",
      "    funcs = inspect.getmembers(mo, inspect.isfunction)                                                                                                  (10)\n",
      "    classes = inspect.getmembers(mo, inspect.isclass)                                                                                                   (11)\n",
      "\u001b[93mprint selected srcline with expands above\u001b[0m----------\n",
      "\u001b[93mexec on dbsrc above\u001b[0m--------------------------------\n",
      "\n",
      "\n",
      "\u001b[93musing db Fastdb.dbprint to create db whatinside is done\u001b[0m---------------------------------------------------------------------------------------------\n",
      "\n",
      "\n",
      "\n",
      "\n",
      "                                                                                                                      type(mo) => type(mo) : <class 'module'>\n",
      "fastdebug.utils has: \n",
      "3 items in its __all__, and \n",
      "122 user defined functions, \n",
      "18 classes or class objects, \n",
      "1 builtin funcs and methods, and\n",
      "143 callables.\n",
      "\n",
      "\n",
      "\n",
      "\u001b[93musing db whatinside to run example on core above\u001b[0m----------------------------------------------------------------------------------------------------\n",
      "\n",
      "\n",
      "    for idx, l in zip(range(len(lst)), lst):==============================================(33) # loop every srcline with idx\n",
      "                                                                                                                                                        (34)\n",
      "        if bool(l.strip()) and l.strip() in srclines and idx == dbcode:===================(35)      \n",
      "                                                                                                                                                        (36)\n",
      "            if len(codes) > 0: ===========================================================(37)      \n",
      "                numindent = len(l) - len(l.lstrip()) # make sure indent not messed up by trailing spaces # When a srcline is under investigation        (38)\n",
      "                dbcodes = \"dbprintinsert(\"================================================(39)      \n",
      "                count = 1=================================================================(40) # When there is codes to run\n",
      "                for c in codes:===========================================================(41)      \n",
      "                    if count == len(codes):===============================================(42)      \n",
      "                        dbcodes = dbcodes + '\"' + c + '\"' + \",\" + \"env=g\" + \")\"===========(43)      \n",
      "                    else:=================================================================(44)      \n",
      "                        dbcodes = dbcodes + '\"' + c + '\"' + \",\"===========================(45)      \n",
      "                    count = count + 1=====================================================(46)      \n",
      "                                                                                                                                                        (47)\n",
      "                dbsrc = dbsrc + \" \"*numindent + \"g = locals()\" + '\\n'=====================(48)      \n",
      "                dbsrc = dbsrc + \" \"*numindent + dbcodes + '\\n'============================(49)      \n",
      "                dbsrc = dbsrc + l + '\\n'     =============================================(50)      \n",
      "            else:=========================================================================(51)      \n",
      "                dbsrc = dbsrc + l + '\\n'                ==================================(52)      \n",
      "                                                                                                                                                        (53)\n",
      "        elif bool(l.strip()) and idx + 1 == len(lst):=====================================(54)      \n",
      "            dbsrc = dbsrc + l=============================================================(55)      \n",
      "                                                                                                                                                        (56)\n",
      "        elif bool(l.strip()): # make sure pure indentation + \\n is ignored================(57) # what to print at the end\n",
      "            dbsrc = dbsrc + l + '\\n'======================================================(58)      \n",
      "                                                                                                                                                        (59)\n",
      "    if showdbsrc: # added to debug========================================================(60)      \n",
      "        print('{:-<60}'.format(colorize(\"showdbsrc=Start\", color=\"y\")))===================(61)      \n",
      "        totallen = 157====================================================================(62)      \n",
      "        lenidx = 5========================================================================(63)      \n",
      "        dblst = dbsrc.split('\\n')=========================================================(64)      \n",
      "        for idx, l in zip(range(len(dblst)), dblst):======================================(65)      \n",
      "                                                                                                                                     part No.2 out of 4 parts\n"
     ]
    }
   ],
   "source": [
    "dbdb(57, \"what to print at the end\")"
   ]
  },
  {
   "cell_type": "code",
   "execution_count": null,
   "id": "b39809bf",
   "metadata": {},
   "outputs": [
    {
     "name": "stdout",
     "output_type": "stream",
     "text": [
      "                                                                                                                                                        (61)\n",
      "        elif bool(l.strip()): # make sure pure indentation + \\n is ignored                                                                              (62)\n",
      "            dbsrc = dbsrc + l + '\\n'====================================================================================================================(63)\n",
      "                                                                                                             \u001b[91mprint out the srcode with dbprintinsert inserted\u001b[0m\n",
      "                                                                                                                                                        (64)\n",
      "    if showdbsrc: # added to debug                                                                                                                      (65)\n",
      "\u001b[93mprint selected srcline with expands above\u001b[0m----------\n",
      "\n",
      "\n",
      "\u001b[93mwriting dbcodes into Fastdb.dbprint is done above\u001b[0m---------------------------------------------------------------------------------------------------\n",
      "\n",
      "\n",
      "             ):                                                                                                                                         (7)\n",
      "    'Check what inside a module: `__all__`, functions, classes, builtins, and callables'                                                                (8)\n",
      "    dun_all = len(mo.__all__) if hasattr(mo, \"__all__\") else 0==========================================================================================(9)\n",
      "                                                                                                                                \u001b[91mcount num of funcs in __all__\u001b[0m\n",
      "    funcs = inspect.getmembers(mo, inspect.isfunction)                                                                                                  (10)\n",
      "    classes = inspect.getmembers(mo, inspect.isclass)                                                                                                   (11)\n",
      "\u001b[93mprint selected srcline with expands above\u001b[0m----------\n",
      "\n",
      "\n",
      "\u001b[93musing db Fastdb.dbprint to create db whatinside is done\u001b[0m---------------------------------------------------------------------------------------------\n",
      "\n",
      "\n",
      "\n",
      "\n",
      "                                                                                                                      type(mo) => type(mo) : <class 'module'>\n",
      "fastdebug.utils has: \n",
      "3 items in its __all__, and \n",
      "122 user defined functions, \n",
      "18 classes or class objects, \n",
      "1 builtin funcs and methods, and\n",
      "143 callables.\n",
      "\n",
      "\n",
      "\n",
      "\u001b[93musing db whatinside to run example on core above\u001b[0m----------------------------------------------------------------------------------------------------\n",
      "\n",
      "\n",
      "        colmsg = colorize(\" param decode has to be an int as idx.\", color=\"y\")============(33)      \n",
      "        print(colwarn + colmsg)===========================================================(34) # Warning message if decode is not an int for idx.\n",
      "#         srclines = dbcode===============================================================(35)      \n",
      "        return============================================================================(36) # loop every srcline with idx\n",
      "                                                                                                                                                        (37)\n",
      "    for idx, l in zip(range(len(lst)), lst):==============================================(38) # When a srcline is under investigation\n",
      "                                                                                                                                                        (39)\n",
      "        if bool(l.strip()) and l.strip() in srclines and idx == dbcode:===================(40) # When there is codes to run\n",
      "                                                                                                                                                        (41)\n",
      "            if len(codes) > 0: ===========================================================(42)      \n",
      "                numindent = len(l) - len(l.lstrip()) # make sure indent not messed up by trailing spaces                                                (43)\n",
      "                dbcodes = \"dbprintinsert(\"================================================(44)      \n",
      "                count = 1=================================================================(45)      \n",
      "                for c in codes:===========================================================(46)      \n",
      "                    if count == len(codes):===============================================(47)      \n",
      "                        dbcodes = dbcodes + '\"' + c + '\"' + \",\" + \"env=g\" + \")\"===========(48)      \n",
      "                    else:=================================================================(49)      \n",
      "                        dbcodes = dbcodes + '\"' + c + '\"' + \",\"===========================(50)      \n",
      "                    count = count + 1=====================================================(51)      \n",
      "                                                                                                                                                        (52)\n",
      "                dbsrc = dbsrc + \" \"*numindent + \"g = locals()\" + '\\n'=====================(53) # what does dbprintinsert line look like\n",
      "                dbsrc = dbsrc + \" \"*numindent + dbcodes + '\\n'============================(54)      \n",
      "                dbsrc = dbsrc + l + '\\n'     =============================================(55)      \n",
      "            else:=========================================================================(56)      \n",
      "                dbsrc = dbsrc + l + '\\n'                ==================================(57) # what to print at the end\n",
      "                                                                                                                                                        (58)\n",
      "        elif bool(l.strip()) and idx + 1 == len(lst):=====================================(59)      \n",
      "            dbsrc = dbsrc + l=============================================================(60)      \n",
      "                                                                                                                                                        (61)\n",
      "        elif bool(l.strip()): # make sure pure indentation + \\n is ignored================(62)      \n",
      "            dbsrc = dbsrc + l + '\\n'======================================================(63) # print out the srcode with dbprintinsert inserted\n",
      "                                                                                                                                                        (64)\n",
      "    if showdbsrc: # added to debug========================================================(65)      \n",
      "                                                                                                                                     part No.2 out of 3 parts\n"
     ]
    }
   ],
   "source": [
    "dbdb(63, \"print out the srcode with dbprintinsert inserted\")"
   ]
  },
  {
   "cell_type": "code",
   "execution_count": null,
   "id": "75af19fa",
   "metadata": {},
   "outputs": [
    {
     "name": "stdout",
     "output_type": "stream",
     "text": [
      "            if l.strip().startswith(\"dbprintinsert\"):                                                                                                   (73)\n",
      "                print(l + \"=\"*(totallen-lenl-lenidx) + \"(db)\")                                                                                          (74)\n",
      "            else:=======================================================================================================================================(75)\n",
      "                                                                                                       \u001b[91mcheck status of locals, Fastdb.dbprint and fdb.dbprint\u001b[0m\n",
      "                print(l + \" \"*(totallen-lenl-lenidx) + \"(\" + str(idx) + \")\")                                                                            (76)\n",
      "        print(f\"before exec, locals(): {list(locals().keys())}\")                                                                                        (77)\n",
      "\u001b[93mprint selected srcline with expands above\u001b[0m----------\n",
      "\u001b[93mshowdbsrc=Start\u001b[0m------------------------------------\n",
      "@patch                                                                                                                                                  (0)\n",
      "def dbprint(self:Fastdb,                                                                                                                                (1)\n",
      "            dbcode:int, # idx of a srcline under investigation, can only be int                                                                         (2)\n",
      "            cmt:str, # comment added to the srcline                                                                                                     (3)\n",
      "            *codes, # a list of expressions (str) you write to be evaluated above the srcline                                                           (4)\n",
      "            expand:int=2, # span 2 lines of srcode up and down from the srcline investigated                                                            (5)\n",
      "            showdbsrc:bool=False): # display dbsrc                                                                                                      (6)\n",
      "    \"Add comment and evaluate custom (single or multi lines) expressions to any srcline of the source code \\                                            (7)\n",
      "    you are investigating. Run exec on the entire srcode with added expressions (dbsrc), so that dbsrc is callable.\"                                    (8)\n",
      "    src = self.orisrc                                                                                                                                   (9)\n",
      "    if type(dbcode) == int: self.cmts.update({dbcode: cmt})                                                                                             (10)\n",
      "    printsrc(src, dbcode, cmt, expand)                                                                                                                  (11)\n",
      "    print('{:-<60}'.format(colorize(\"print selected srcline with expands above\", color=\"y\")))                                                           (12)\n",
      "    dbsrc = \"\"                                                                                                                                          (13)\n",
      "    indent = 4                                                                                                                                          (14)\n",
      "    onedbprint = False                                                                                                                                  (15)\n",
      "    lst = inspect.getsource(src).split('\\n')                                                                                                            (16)\n",
      "    if not bool(lst[-1]): lst = lst[:-1]                                                                                                                (17)\n",
      "    newlst = []                                                                                                                                         (18)\n",
      "    for i in codes: # no matter whether there is \"\" or \"  \" in the front or in the middle of codes                                                      (19)\n",
      "        if bool(i.strip()): newlst.append(i)                                                                                                            (20)\n",
      "    codes = newlst                                                                                                                                      (21)\n",
      "    srclines = \"\"                                                                                                                                       (22)\n",
      "    if type(dbcode) == int:                                                                                                                             (23)\n",
      "        srclines = lst[dbcode]                                                                                                                          (24)\n",
      "    else:                                                                                                                                               (25)\n",
      "        colwarn = colorize(\"Warning!\", color=\"r\")                                                                                                       (26)\n",
      "        colmsg = colorize(\" param decode has to be an int as idx.\", color=\"y\")                                                                          (27)\n",
      "        print(colwarn + colmsg)                                                                                                                         (28)\n",
      "#         srclines = dbcode                                                                                                                             (29)\n",
      "        return                                                                                                                                          (30)\n",
      "    for idx, l in zip(range(len(lst)), lst):                                                                                                            (31)\n",
      "        if bool(l.strip()) and l.strip() in srclines and idx == dbcode:                                                                                 (32)\n",
      "            if len(codes) > 0:                                                                                                                          (33)\n",
      "                numindent = len(l) - len(l.lstrip()) # make sure indent not messed up by trailing spaces                                                (34)\n",
      "                dbcodes = \"dbprintinsert(\"                                                                                                              (35)\n",
      "                count = 1                                                                                                                               (36)\n",
      "                for c in codes:                                                                                                                         (37)\n",
      "                    if count == len(codes):                                                                                                             (38)\n",
      "                        dbcodes = dbcodes + '\"' + c + '\"' + \",\" + \"env=g\" + \")\"                                                                         (39)\n",
      "                    else:                                                                                                                               (40)\n",
      "                        dbcodes = dbcodes + '\"' + c + '\"' + \",\"                                                                                         (41)\n",
      "                    count = count + 1                                                                                                                   (42)\n",
      "                dbsrc = dbsrc + \" \"*numindent + \"g = locals()\" + '\\n'                                                                                   (43)\n",
      "                dbsrc = dbsrc + \" \"*numindent + dbcodes + '\\n'                                                                                          (44)\n",
      "                dbsrc = dbsrc + l + '\\n'                                                                                                                (45)\n",
      "            else:                                                                                                                                       (46)\n",
      "                dbsrc = dbsrc + l + '\\n'                                                                                                                (47)\n",
      "        elif bool(l.strip()) and idx + 1 == len(lst):                                                                                                   (48)\n",
      "            dbsrc = dbsrc + l                                                                                                                           (49)\n",
      "        elif bool(l.strip()): # make sure pure indentation + \\n is ignored                                                                              (50)\n",
      "            dbsrc = dbsrc + l + '\\n'                                                                                                                    (51)\n",
      "    if showdbsrc: # added to debug                                                                                                                      (52)\n",
      "        print('{:-<60}'.format(colorize(\"showdbsrc=Start\", color=\"y\")))                                                                                 (53)\n",
      "        totallen = 157                                                                                                                                  (54)\n",
      "        lenidx = 5                                                                                                                                      (55)\n",
      "        dblst = dbsrc.split('\\n')                                                                                                                       (56)\n",
      "        for idx, l in zip(range(len(dblst)), dblst):                                                                                                    (57)\n",
      "            lenl = len(l)                                                                                                                               (58)\n",
      "#             if \"dbprintinsert\" in l:                                                                                                                  (59)\n",
      "            if l.strip().startswith(\"dbprintinsert\"):                                                                                                   (60)\n",
      "                print(l + \"=\"*(totallen-lenl-lenidx) + \"(db)\")                                                                                          (61)\n",
      "            else:                                                                                                                                       (62)\n",
      "                print(l + \" \"*(totallen-lenl-lenidx) + \"(\" + str(idx) + \")\")                                                                            (63)\n",
      "        print(f\"before exec, locals(): {list(locals().keys())}\")                                                                                        (64)\n",
      "    exec(dbsrc, globals().update(self.outenv)) # make sure b can access lst from above                                                                  (65)\n",
      "    if showdbsrc:                                                                                                                                       (66)\n",
      "        print(f\"after exec, locals(): {list(locals().keys())}\")                                                                                         (67)\n",
      "        print(f'self.orisrc.__name__: {self.orisrc.__name__}')                                                                                          (68)\n",
      "        print(f'locals()[self.orisrc.__name__]: {locals()[self.orisrc.__name__]}')                                                                      (69)\n",
      "        print('{:-<60}'.format(colorize(\"showdbsrc=End\", color=\"y\")))                                                                                   (70)\n",
      "    return locals()[self.orisrc.__name__]                                                                                                               (71)\n",
      "before exec, locals(): ['self', 'dbcode', 'cmt', 'expand', 'showdbsrc', 'codes', 'src', 'dbsrc', 'indent', 'onedbprint', 'lst', 'newlst', 'srclines', 'idx', 'l', 'totallen', 'lenidx', 'dblst', 'lenl']\n",
      "after exec, locals(): ['self', 'dbcode', 'cmt', 'expand', 'showdbsrc', 'codes', 'src', 'dbsrc', 'indent', 'onedbprint', 'lst', 'newlst', 'srclines', 'idx', 'l', 'totallen', 'lenidx', 'dblst', 'lenl', 'dbprint']\n",
      "self.orisrc.__name__: dbprint\n",
      "locals()[self.orisrc.__name__]: None\n",
      "\u001b[93mshowdbsrc=End\u001b[0m--------------------------------------\n",
      "\n",
      "\n",
      "\u001b[93mwriting dbcodes into Fastdb.dbprint is done above\u001b[0m---------------------------------------------------------------------------------------------------\n",
      "\n",
      "\n",
      "             ):                                                                                                                                         (7)\n",
      "    'Check what inside a module: `__all__`, functions, classes, builtins, and callables'                                                                (8)\n",
      "    dun_all = len(mo.__all__) if hasattr(mo, \"__all__\") else 0==========================================================================================(9)\n",
      "                                                                                                                                \u001b[91mcount num of funcs in __all__\u001b[0m\n",
      "    funcs = inspect.getmembers(mo, inspect.isfunction)                                                                                                  (10)\n",
      "    classes = inspect.getmembers(mo, inspect.isclass)                                                                                                   (11)\n",
      "\u001b[93mprint selected srcline with expands above\u001b[0m----------\n",
      "\u001b[93mshowdbsrc=Start\u001b[0m------------------------------------\n",
      "def whatinside(mo, # module, e.g., `import fastcore.all as fa`, use `fa` here                                                                           (0)\n",
      "               dun:bool=False, # print all items in __all__                                                                                             (1)\n",
      "               func:bool=False, # print all user defined functions                                                                                      (2)\n",
      "               clas:bool=False, # print all class objects                                                                                               (3)\n",
      "               bltin:bool=False, # print all builtin funcs or methods                                                                                   (4)\n",
      "               lib:bool=False, # print all the modules of the library it belongs to                                                                     (5)\n",
      "               cal:bool=False # print all callables                                                                                                     (6)\n",
      "             ):                                                                                                                                         (7)\n",
      "    'Check what inside a module: `__all__`, functions, classes, builtins, and callables'                                                                (8)\n",
      "    g = locals()                                                                                                                                        (9)\n",
      "    dbprintinsert(\"type(mo)\",env=g)=====================================================================================================================(db)\n",
      "    dun_all = len(mo.__all__) if hasattr(mo, \"__all__\") else 0                                                                                          (11)\n",
      "    funcs = inspect.getmembers(mo, inspect.isfunction)                                                                                                  (12)\n",
      "    classes = inspect.getmembers(mo, inspect.isclass)                                                                                                   (13)\n",
      "    builtins = inspect.getmembers(mo, inspect.isbuiltin)                                                                                                (14)\n",
      "    callables = inspect.getmembers(mo, callable)                                                                                                        (15)\n",
      "    pkgpath = os.path.dirname(mo.__file__)                                                                                                              (16)\n",
      "    print(f\"{mo.__name__} has: \\n{dun_all} items in its __all__, and \\n{len(funcs)} user defined functions, \\n{len(classes)} classes or class objects, \\n{len(builtins)} builtin funcs and methods, and\\n{len(callables)} callables.\\n\")  (17)\n",
      "    if hasattr(mo, \"__all__\") and dun: pprint(mo.__all__)                                                                                               (18)\n",
      "    if func:                                                                                                                                            (19)\n",
      "        print(f'The user defined functions are:')                                                                                                       (20)\n",
      "        pprint([i[0] for i in funcs])                                                                                                                   (21)\n",
      "    if clas:                                                                                                                                            (22)\n",
      "        print(f'The class objects are:')                                                                                                                (23)\n",
      "        pprint([i[0] for i in classes])                                                                                                                 (24)\n",
      "    if bltin:                                                                                                                                           (25)\n",
      "        print(f'The builtin functions or methods are:')                                                                                                 (26)\n",
      "        pprint([i[0] for i in builtins])                                                                                                                (27)\n",
      "    if cal:                                                                                                                                             (28)\n",
      "        print(f'The callables are: ')                                                                                                                   (29)\n",
      "        pprint([i[0] for i in callables])                                                                                                               (30)\n",
      "    if lib:                                                                                                                                             (31)\n",
      "        modules = [name for _, name, _ in pkgutil.iter_modules([pkgpath])]                                                                              (32)\n",
      "        print(f'The library has {len(modules)} modules')                                                                                                (33)\n",
      "        pprint(modules)                                                                                                                                 (34)\n",
      "before exec, locals(): ['self', 'dbcode', 'cmt', 'expand', 'showdbsrc', 'codes', 'src', 'dbsrc', 'indent', 'onedbprint', 'lst', 'newlst', 'i', 'srclines', 'idx', 'l', 'numindent', 'dbcodes', 'count', 'c', 'totallen', 'lenidx', 'dblst', 'lenl']\n",
      "after exec, locals(): ['self', 'dbcode', 'cmt', 'expand', 'showdbsrc', 'codes', 'src', 'dbsrc', 'indent', 'onedbprint', 'lst', 'newlst', 'i', 'srclines', 'idx', 'l', 'numindent', 'dbcodes', 'count', 'c', 'totallen', 'lenidx', 'dblst', 'lenl', 'whatinside']\n",
      "self.orisrc.__name__: whatinside\n",
      "locals()[self.orisrc.__name__]: <function whatinside at 0x108355af0>\n",
      "\u001b[93mshowdbsrc=End\u001b[0m--------------------------------------\n",
      "\n",
      "\n",
      "\u001b[93musing db Fastdb.dbprint to create db whatinside is done\u001b[0m---------------------------------------------------------------------------------------------\n",
      "\n",
      "\n",
      "\n",
      "\n",
      "                                                                                                                      type(mo) => type(mo) : <class 'module'>\n",
      "fastdebug.utils has: \n",
      "3 items in its __all__, and \n",
      "122 user defined functions, \n",
      "18 classes or class objects, \n",
      "1 builtin funcs and methods, and\n",
      "143 callables.\n",
      "\n",
      "\n",
      "\n",
      "\u001b[93musing db whatinside to run example on core above\u001b[0m----------------------------------------------------------------------------------------------------\n",
      "\n",
      "\n",
      "        print('{:-<60}'.format(colorize(\"showdbsrc=Start\", color=\"y\")))===================(66)      \n",
      "        totallen = 157====================================================================(67)      \n",
      "        lenidx = 5========================================================================(68)      \n",
      "        dblst = dbsrc.split('\\n')=========================================================(69)      \n",
      "        for idx, l in zip(range(len(dblst)), dblst):======================================(70)      \n",
      "            lenl = len(l)=================================================================(71)      \n",
      "#             if \"dbprintinsert\" in l: ===================================================(72)      \n",
      "            if l.strip().startswith(\"dbprintinsert\"): ====================================(73)      \n",
      "                print(l + \"=\"*(totallen-lenl-lenidx) + \"(db)\")============================(74)      \n",
      "            else:=========================================================================(75) # check status of locals, Fastdb.dbprint and fdb.dbprint\n",
      "                print(l + \" \"*(totallen-lenl-lenidx) + \"(\" + str(idx) + \")\")==============(76)      \n",
      "        print(f\"before exec, locals(): {list(locals().keys())}\")==========================(77)      \n",
      "                                                                                                                                                        (78)\n",
      "    exec(dbsrc, globals().update(self.outenv)) # make sure b can access lst from above====(79)      \n",
      "                                                                                                                                                        (80)\n",
      "    if showdbsrc: ========================================================================(81)      \n",
      "        print(f\"after exec, locals(): {list(locals().keys())}\")===========================(82)      \n",
      "        print(f'self.orisrc.__name__: {self.orisrc.__name__}')============================(83)      \n",
      "        print(f'locals()[self.orisrc.__name__]: {locals()[self.orisrc.__name__]}')========(84)      \n",
      "        print('{:-<60}'.format(colorize(\"showdbsrc=End\", color=\"y\")))=====================(85)      \n",
      "                                                                                                                                                        (86)\n",
      "    return locals()[self.orisrc.__name__]=================================================(87)      \n",
      "                                                                                                                                                        (88)\n",
      "                                                                                                                                     part No.3 out of 3 parts\n"
     ]
    }
   ],
   "source": [
    "dbdb(75, \"check status of locals, Fastdb.dbprint and fdb.dbprint\", db=True)"
   ]
  },
  {
   "cell_type": "code",
   "execution_count": null,
   "id": "a8413878",
   "metadata": {},
   "outputs": [
    {
     "name": "stdout",
     "output_type": "stream",
     "text": [
      "             ):                                                                                                                                         (7)\n",
      "    'Check what inside a module: `__all__`, functions, classes, builtins, and callables'                                                                (8)\n",
      "    dun_all = len(mo.__all__) if hasattr(mo, \"__all__\") else 0==========================================================================================(9)\n",
      "                                                                                                                                \u001b[91mcount num of funcs in __all__\u001b[0m\n",
      "    funcs = inspect.getmembers(mo, inspect.isfunction)                                                                                                  (10)\n",
      "    classes = inspect.getmembers(mo, inspect.isclass)                                                                                                   (11)\n",
      "\u001b[93mprint selected srcline with expands above\u001b[0m----------\n",
      "\u001b[93mshowdbsrc=Start\u001b[0m------------------------------------\n",
      "def whatinside(mo, # module, e.g., `import fastcore.all as fa`, use `fa` here                                                                           (0)\n",
      "               dun:bool=False, # print all items in __all__                                                                                             (1)\n",
      "               func:bool=False, # print all user defined functions                                                                                      (2)\n",
      "               clas:bool=False, # print all class objects                                                                                               (3)\n",
      "               bltin:bool=False, # print all builtin funcs or methods                                                                                   (4)\n",
      "               lib:bool=False, # print all the modules of the library it belongs to                                                                     (5)\n",
      "               cal:bool=False # print all callables                                                                                                     (6)\n",
      "             ):                                                                                                                                         (7)\n",
      "    'Check what inside a module: `__all__`, functions, classes, builtins, and callables'                                                                (8)\n",
      "    g = locals()                                                                                                                                        (9)\n",
      "    dbprintinsert(\"type(mo)\",env=g)=====================================================================================================================(db)\n",
      "    dun_all = len(mo.__all__) if hasattr(mo, \"__all__\") else 0                                                                                          (11)\n",
      "    funcs = inspect.getmembers(mo, inspect.isfunction)                                                                                                  (12)\n",
      "    classes = inspect.getmembers(mo, inspect.isclass)                                                                                                   (13)\n",
      "    builtins = inspect.getmembers(mo, inspect.isbuiltin)                                                                                                (14)\n",
      "    callables = inspect.getmembers(mo, callable)                                                                                                        (15)\n",
      "    pkgpath = os.path.dirname(mo.__file__)                                                                                                              (16)\n",
      "    print(f\"{mo.__name__} has: \\n{dun_all} items in its __all__, and \\n{len(funcs)} user defined functions, \\n{len(classes)} classes or class objects, \\n{len(builtins)} builtin funcs and methods, and\\n{len(callables)} callables.\\n\")  (17)\n",
      "    if hasattr(mo, \"__all__\") and dun: pprint(mo.__all__)                                                                                               (18)\n",
      "    if func:                                                                                                                                            (19)\n",
      "        print(f'The user defined functions are:')                                                                                                       (20)\n",
      "        pprint([i[0] for i in funcs])                                                                                                                   (21)\n",
      "    if clas:                                                                                                                                            (22)\n",
      "        print(f'The class objects are:')                                                                                                                (23)\n",
      "        pprint([i[0] for i in classes])                                                                                                                 (24)\n",
      "    if bltin:                                                                                                                                           (25)\n",
      "        print(f'The builtin functions or methods are:')                                                                                                 (26)\n",
      "        pprint([i[0] for i in builtins])                                                                                                                (27)\n",
      "    if cal:                                                                                                                                             (28)\n",
      "        print(f'The callables are: ')                                                                                                                   (29)\n",
      "        pprint([i[0] for i in callables])                                                                                                               (30)\n",
      "    if lib:                                                                                                                                             (31)\n",
      "        modules = [name for _, name, _ in pkgutil.iter_modules([pkgpath])]                                                                              (32)\n",
      "        print(f'The library has {len(modules)} modules')                                                                                                (33)\n",
      "        pprint(modules)                                                                                                                                 (34)\n",
      "before exec, locals(): ['self', 'dbcode', 'cmt', 'expand', 'showdbsrc', 'codes', 'src', 'dbsrc', 'indent', 'onedbprint', 'lst', 'newlst', 'i', 'srclines', 'idx', 'l', 'numindent', 'dbcodes', 'count', 'c', 'totallen', 'lenidx', 'dblst', 'lenl']\n",
      "after exec, locals(): ['self', 'dbcode', 'cmt', 'expand', 'showdbsrc', 'codes', 'src', 'dbsrc', 'indent', 'onedbprint', 'lst', 'newlst', 'i', 'srclines', 'idx', 'l', 'numindent', 'dbcodes', 'count', 'c', 'totallen', 'lenidx', 'dblst', 'lenl', 'whatinside']\n",
      "self.orisrc.__name__: whatinside\n",
      "locals()[self.orisrc.__name__]: <function whatinside at 0x108355c10>\n",
      "\u001b[93mshowdbsrc=End\u001b[0m--------------------------------------\n"
     ]
    },
    {
     "data": {
      "text/plain": [
       "<function fastdebug.utils.whatinside(mo, dun: bool = False, func: bool = False, clas: bool = False, bltin: bool = False, lib: bool = False, cal: bool = False)>"
      ]
     },
     "execution_count": null,
     "metadata": {},
     "output_type": "execute_result"
    }
   ],
   "source": [
    "fdbw.dbprint(9, \"count num of funcs in __all__\", \"type(mo)\", showdbsrc=True)"
   ]
  },
  {
   "cell_type": "code",
   "execution_count": null,
   "id": "e176ac4e",
   "metadata": {},
   "outputs": [
    {
     "name": "stdout",
     "output_type": "stream",
     "text": [
      "        print(f\"before exec, locals(): {list(locals().keys())}\")                                                                                        (77)\n",
      "                                                                                                                                                        (78)\n",
      "    exec(dbsrc, globals().update(self.outenv)) # make sure b can access lst from above==================================================================(79)\n",
      "                                                                                                           \u001b[91mrun exec to create the dbsrc and store in locals()\u001b[0m\n",
      "                                                                                                                                                        (80)\n",
      "    if showdbsrc:                                                                                                                                       (81)\n",
      "\u001b[93mprint selected srcline with expands above\u001b[0m----------\n",
      "\n",
      "\n",
      "\u001b[93mwriting dbcodes into Fastdb.dbprint is done above\u001b[0m---------------------------------------------------------------------------------------------------\n",
      "\n",
      "\n",
      "             ):                                                                                                                                         (7)\n",
      "    'Check what inside a module: `__all__`, functions, classes, builtins, and callables'                                                                (8)\n",
      "    dun_all = len(mo.__all__) if hasattr(mo, \"__all__\") else 0==========================================================================================(9)\n",
      "                                                                                                                                \u001b[91mcount num of funcs in __all__\u001b[0m\n",
      "    funcs = inspect.getmembers(mo, inspect.isfunction)                                                                                                  (10)\n",
      "    classes = inspect.getmembers(mo, inspect.isclass)                                                                                                   (11)\n",
      "\u001b[93mprint selected srcline with expands above\u001b[0m----------\n",
      "\n",
      "\n",
      "                                                                                       list(locals().keys()) => list(locals().keys()) : ['env', 'codes', 'c']\n",
      "\n",
      "\n",
      "list(env.keys()) => list(env.keys()) : ['self', 'dbcode', 'cmt', 'expand', 'showdbsrc', 'codes', 'src', 'dbsrc', 'indent', 'onedbprint', 'lst', 'newlst', 'i', 'srclines', 'idx', 'l', 'numindent', 'dbcodes', 'count', 'c']\n",
      "\n",
      "\n",
      "list(self.outenv.keys()) => list(self.outenv.keys()) : ['__name__', '__doc__', '__package__', '__loader__', '__spec__', '__file__', '__cached__', '__builtins__', '__all__', 'os', 'pkgutil', 'pprint', 'inspect', 'whatinside', 'version', 'metadata', 'distribution', 'python_version', 'whichversion', 'tstenv']\n",
      "\n",
      "\n",
      "\u001b[93musing db Fastdb.dbprint to create db whatinside is done\u001b[0m---------------------------------------------------------------------------------------------\n",
      "\n",
      "\n",
      "\n",
      "\n",
      "                                                                                                                      type(mo) => type(mo) : <class 'module'>\n",
      "fastdebug.utils has: \n",
      "3 items in its __all__, and \n",
      "122 user defined functions, \n",
      "18 classes or class objects, \n",
      "1 builtin funcs and methods, and\n",
      "143 callables.\n",
      "\n",
      "\n",
      "\n",
      "\u001b[93musing db whatinside to run example on core above\u001b[0m----------------------------------------------------------------------------------------------------\n",
      "\n",
      "\n",
      "        print('{:-<60}'.format(colorize(\"showdbsrc=Start\", color=\"y\")))===================(66)      \n",
      "        totallen = 157====================================================================(67)      \n",
      "        lenidx = 5========================================================================(68)      \n",
      "        dblst = dbsrc.split('\\n')=========================================================(69)      \n",
      "        for idx, l in zip(range(len(dblst)), dblst):======================================(70)      \n",
      "            lenl = len(l)=================================================================(71)      \n",
      "#             if \"dbprintinsert\" in l: ===================================================(72)      \n",
      "            if l.strip().startswith(\"dbprintinsert\"): ====================================(73)      \n",
      "                print(l + \"=\"*(totallen-lenl-lenidx) + \"(db)\")============================(74)      \n",
      "            else:=========================================================================(75) # check status of locals, Fastdb.dbprint and fdb.dbprint\n",
      "                print(l + \" \"*(totallen-lenl-lenidx) + \"(\" + str(idx) + \")\")==============(76)      \n",
      "        print(f\"before exec, locals(): {list(locals().keys())}\")==========================(77)      \n",
      "                                                                                                                                                        (78)\n",
      "    exec(dbsrc, globals().update(self.outenv)) # make sure b can access lst from above====(79) # run exec to create the dbsrc and store in locals()\n",
      "                                                                                                                                                        (80)\n",
      "    if showdbsrc: ========================================================================(81)      \n",
      "        print(f\"after exec, locals(): {list(locals().keys())}\")===========================(82)      \n",
      "        print(f'self.orisrc.__name__: {self.orisrc.__name__}')============================(83)      \n",
      "        print(f'locals()[self.orisrc.__name__]: {locals()[self.orisrc.__name__]}')========(84)      \n",
      "        print('{:-<60}'.format(colorize(\"showdbsrc=End\", color=\"y\")))=====================(85)      \n",
      "                                                                                                                                                        (86)\n",
      "    return locals()[self.orisrc.__name__]=================================================(87)      \n",
      "                                                                                                                                                        (88)\n",
      "                                                                                                                                     part No.3 out of 3 parts\n"
     ]
    }
   ],
   "source": [
    "dbdb(79, \"run exec to create the dbsrc and store in locals()\", \"list(locals().keys())\", \"list(env.keys())\", \"list(self.outenv.keys())\")"
   ]
  },
  {
   "cell_type": "code",
   "execution_count": null,
   "id": "149f3347",
   "metadata": {},
   "outputs": [
    {
     "name": "stdout",
     "output_type": "stream",
     "text": [
      "    if showdbsrc:                                                                                                                                       (81)\n",
      "        print(f\"after exec, locals(): {list(locals().keys())}\")                                                                                         (82)\n",
      "        print(f'self.orisrc.__name__: {self.orisrc.__name__}')==========================================================================================(83)\n",
      "                                                                                                                              \u001b[91mreturn the dbsrc using locals()\u001b[0m\n",
      "        print(f'locals()[self.orisrc.__name__]: {locals()[self.orisrc.__name__]}')                                                                      (84)\n",
      "        print('{:-<60}'.format(colorize(\"showdbsrc=End\", color=\"y\")))                                                                                   (85)\n",
      "\u001b[93mprint selected srcline with expands above\u001b[0m----------\n",
      "\u001b[93mshowdbsrc=Start\u001b[0m------------------------------------\n",
      "@patch                                                                                                                                                  (0)\n",
      "def dbprint(self:Fastdb,                                                                                                                                (1)\n",
      "            dbcode:int, # idx of a srcline under investigation, can only be int                                                                         (2)\n",
      "            cmt:str, # comment added to the srcline                                                                                                     (3)\n",
      "            *codes, # a list of expressions (str) you write to be evaluated above the srcline                                                           (4)\n",
      "            expand:int=2, # span 2 lines of srcode up and down from the srcline investigated                                                            (5)\n",
      "            showdbsrc:bool=False): # display dbsrc                                                                                                      (6)\n",
      "    \"Add comment and evaluate custom (single or multi lines) expressions to any srcline of the source code \\                                            (7)\n",
      "    you are investigating. Run exec on the entire srcode with added expressions (dbsrc), so that dbsrc is callable.\"                                    (8)\n",
      "    src = self.orisrc                                                                                                                                   (9)\n",
      "    if type(dbcode) == int: self.cmts.update({dbcode: cmt})                                                                                             (10)\n",
      "    printsrc(src, dbcode, cmt, expand)                                                                                                                  (11)\n",
      "    print('{:-<60}'.format(colorize(\"print selected srcline with expands above\", color=\"y\")))                                                           (12)\n",
      "    dbsrc = \"\"                                                                                                                                          (13)\n",
      "    indent = 4                                                                                                                                          (14)\n",
      "    onedbprint = False                                                                                                                                  (15)\n",
      "    lst = inspect.getsource(src).split('\\n')                                                                                                            (16)\n",
      "    if not bool(lst[-1]): lst = lst[:-1]                                                                                                                (17)\n",
      "    newlst = []                                                                                                                                         (18)\n",
      "    for i in codes: # no matter whether there is \"\" or \"  \" in the front or in the middle of codes                                                      (19)\n",
      "        if bool(i.strip()): newlst.append(i)                                                                                                            (20)\n",
      "    codes = newlst                                                                                                                                      (21)\n",
      "    srclines = \"\"                                                                                                                                       (22)\n",
      "    if type(dbcode) == int:                                                                                                                             (23)\n",
      "        srclines = lst[dbcode]                                                                                                                          (24)\n",
      "    else:                                                                                                                                               (25)\n",
      "        colwarn = colorize(\"Warning!\", color=\"r\")                                                                                                       (26)\n",
      "        colmsg = colorize(\" param decode has to be an int as idx.\", color=\"y\")                                                                          (27)\n",
      "        print(colwarn + colmsg)                                                                                                                         (28)\n",
      "#         srclines = dbcode                                                                                                                             (29)\n",
      "        return                                                                                                                                          (30)\n",
      "    for idx, l in zip(range(len(lst)), lst):                                                                                                            (31)\n",
      "        if bool(l.strip()) and l.strip() in srclines and idx == dbcode:                                                                                 (32)\n",
      "            if len(codes) > 0:                                                                                                                          (33)\n",
      "                numindent = len(l) - len(l.lstrip()) # make sure indent not messed up by trailing spaces                                                (34)\n",
      "                dbcodes = \"dbprintinsert(\"                                                                                                              (35)\n",
      "                count = 1                                                                                                                               (36)\n",
      "                for c in codes:                                                                                                                         (37)\n",
      "                    if count == len(codes):                                                                                                             (38)\n",
      "                        dbcodes = dbcodes + '\"' + c + '\"' + \",\" + \"env=g\" + \")\"                                                                         (39)\n",
      "                    else:                                                                                                                               (40)\n",
      "                        dbcodes = dbcodes + '\"' + c + '\"' + \",\"                                                                                         (41)\n",
      "                    count = count + 1                                                                                                                   (42)\n",
      "                dbsrc = dbsrc + \" \"*numindent + \"g = locals()\" + '\\n'                                                                                   (43)\n",
      "                dbsrc = dbsrc + \" \"*numindent + dbcodes + '\\n'                                                                                          (44)\n",
      "                dbsrc = dbsrc + l + '\\n'                                                                                                                (45)\n",
      "            else:                                                                                                                                       (46)\n",
      "                dbsrc = dbsrc + l + '\\n'                                                                                                                (47)\n",
      "        elif bool(l.strip()) and idx + 1 == len(lst):                                                                                                   (48)\n",
      "            dbsrc = dbsrc + l                                                                                                                           (49)\n",
      "        elif bool(l.strip()): # make sure pure indentation + \\n is ignored                                                                              (50)\n",
      "            dbsrc = dbsrc + l + '\\n'                                                                                                                    (51)\n",
      "    if showdbsrc: # added to debug                                                                                                                      (52)\n",
      "        print('{:-<60}'.format(colorize(\"showdbsrc=Start\", color=\"y\")))                                                                                 (53)\n",
      "        totallen = 157                                                                                                                                  (54)\n",
      "        lenidx = 5                                                                                                                                      (55)\n",
      "        dblst = dbsrc.split('\\n')                                                                                                                       (56)\n",
      "        for idx, l in zip(range(len(dblst)), dblst):                                                                                                    (57)\n",
      "            lenl = len(l)                                                                                                                               (58)\n",
      "#             if \"dbprintinsert\" in l:                                                                                                                  (59)\n",
      "            if l.strip().startswith(\"dbprintinsert\"):                                                                                                   (60)\n",
      "                print(l + \"=\"*(totallen-lenl-lenidx) + \"(db)\")                                                                                          (61)\n",
      "            else:                                                                                                                                       (62)\n",
      "                print(l + \" \"*(totallen-lenl-lenidx) + \"(\" + str(idx) + \")\")                                                                            (63)\n",
      "        print(f\"before exec, locals(): {list(locals().keys())}\")                                                                                        (64)\n",
      "    exec(dbsrc, globals().update(self.outenv)) # make sure b can access lst from above                                                                  (65)\n",
      "    if showdbsrc:                                                                                                                                       (66)\n",
      "        print(f\"after exec, locals(): {list(locals().keys())}\")                                                                                         (67)\n",
      "        g = locals()                                                                                                                                    (68)\n",
      "        dbprintinsert(\"list(locals().keys())\",\"list(env.keys())\",\"list(self.outenv.keys())\",\"self.orisrc.__name__\",env=g)===============================(db)\n",
      "        print(f'self.orisrc.__name__: {self.orisrc.__name__}')                                                                                          (70)\n",
      "        print(f'locals()[self.orisrc.__name__]: {locals()[self.orisrc.__name__]}')                                                                      (71)\n",
      "        print('{:-<60}'.format(colorize(\"showdbsrc=End\", color=\"y\")))                                                                                   (72)\n",
      "    return locals()[self.orisrc.__name__]                                                                                                               (73)\n",
      "before exec, locals(): ['self', 'dbcode', 'cmt', 'expand', 'showdbsrc', 'codes', 'src', 'dbsrc', 'indent', 'onedbprint', 'lst', 'newlst', 'i', 'srclines', 'idx', 'l', 'numindent', 'dbcodes', 'count', 'c', 'totallen', 'lenidx', 'dblst', 'lenl']\n",
      "after exec, locals(): ['self', 'dbcode', 'cmt', 'expand', 'showdbsrc', 'codes', 'src', 'dbsrc', 'indent', 'onedbprint', 'lst', 'newlst', 'i', 'srclines', 'idx', 'l', 'numindent', 'dbcodes', 'count', 'c', 'totallen', 'lenidx', 'dblst', 'lenl', 'dbprint']\n",
      "self.orisrc.__name__: dbprint\n",
      "locals()[self.orisrc.__name__]: None\n",
      "\u001b[93mshowdbsrc=End\u001b[0m--------------------------------------\n",
      "\n",
      "\n",
      "\u001b[93mwriting dbcodes into Fastdb.dbprint is done above\u001b[0m---------------------------------------------------------------------------------------------------\n",
      "\n",
      "\n",
      "             ):                                                                                                                                         (7)\n",
      "    'Check what inside a module: `__all__`, functions, classes, builtins, and callables'                                                                (8)\n",
      "    dun_all = len(mo.__all__) if hasattr(mo, \"__all__\") else 0==========================================================================================(9)\n",
      "                                                                                                                                \u001b[91mcount num of funcs in __all__\u001b[0m\n",
      "    funcs = inspect.getmembers(mo, inspect.isfunction)                                                                                                  (10)\n",
      "    classes = inspect.getmembers(mo, inspect.isclass)                                                                                                   (11)\n",
      "\u001b[93mprint selected srcline with expands above\u001b[0m----------\n",
      "\u001b[93mshowdbsrc=Start\u001b[0m------------------------------------\n",
      "def whatinside(mo, # module, e.g., `import fastcore.all as fa`, use `fa` here                                                                           (0)\n",
      "               dun:bool=False, # print all items in __all__                                                                                             (1)\n",
      "               func:bool=False, # print all user defined functions                                                                                      (2)\n",
      "               clas:bool=False, # print all class objects                                                                                               (3)\n",
      "               bltin:bool=False, # print all builtin funcs or methods                                                                                   (4)\n",
      "               lib:bool=False, # print all the modules of the library it belongs to                                                                     (5)\n",
      "               cal:bool=False # print all callables                                                                                                     (6)\n",
      "             ):                                                                                                                                         (7)\n",
      "    'Check what inside a module: `__all__`, functions, classes, builtins, and callables'                                                                (8)\n",
      "    g = locals()                                                                                                                                        (9)\n",
      "    dbprintinsert(\"type(mo)\",env=g)=====================================================================================================================(db)\n",
      "    dun_all = len(mo.__all__) if hasattr(mo, \"__all__\") else 0                                                                                          (11)\n",
      "    funcs = inspect.getmembers(mo, inspect.isfunction)                                                                                                  (12)\n",
      "    classes = inspect.getmembers(mo, inspect.isclass)                                                                                                   (13)\n",
      "    builtins = inspect.getmembers(mo, inspect.isbuiltin)                                                                                                (14)\n",
      "    callables = inspect.getmembers(mo, callable)                                                                                                        (15)\n",
      "    pkgpath = os.path.dirname(mo.__file__)                                                                                                              (16)\n",
      "    print(f\"{mo.__name__} has: \\n{dun_all} items in its __all__, and \\n{len(funcs)} user defined functions, \\n{len(classes)} classes or class objects, \\n{len(builtins)} builtin funcs and methods, and\\n{len(callables)} callables.\\n\")  (17)\n",
      "    if hasattr(mo, \"__all__\") and dun: pprint(mo.__all__)                                                                                               (18)\n",
      "    if func:                                                                                                                                            (19)\n",
      "        print(f'The user defined functions are:')                                                                                                       (20)\n",
      "        pprint([i[0] for i in funcs])                                                                                                                   (21)\n",
      "    if clas:                                                                                                                                            (22)\n",
      "        print(f'The class objects are:')                                                                                                                (23)\n",
      "        pprint([i[0] for i in classes])                                                                                                                 (24)\n",
      "    if bltin:                                                                                                                                           (25)\n",
      "        print(f'The builtin functions or methods are:')                                                                                                 (26)\n",
      "        pprint([i[0] for i in builtins])                                                                                                                (27)\n",
      "    if cal:                                                                                                                                             (28)\n",
      "        print(f'The callables are: ')                                                                                                                   (29)\n",
      "        pprint([i[0] for i in callables])                                                                                                               (30)\n",
      "    if lib:                                                                                                                                             (31)\n",
      "        modules = [name for _, name, _ in pkgutil.iter_modules([pkgpath])]                                                                              (32)\n",
      "        print(f'The library has {len(modules)} modules')                                                                                                (33)\n",
      "        pprint(modules)                                                                                                                                 (34)\n",
      "before exec, locals(): ['self', 'dbcode', 'cmt', 'expand', 'showdbsrc', 'codes', 'src', 'dbsrc', 'indent', 'onedbprint', 'lst', 'newlst', 'i', 'srclines', 'idx', 'l', 'numindent', 'dbcodes', 'count', 'c', 'totallen', 'lenidx', 'dblst', 'lenl']\n",
      "after exec, locals(): ['self', 'dbcode', 'cmt', 'expand', 'showdbsrc', 'codes', 'src', 'dbsrc', 'indent', 'onedbprint', 'lst', 'newlst', 'i', 'srclines', 'idx', 'l', 'numindent', 'dbcodes', 'count', 'c', 'totallen', 'lenidx', 'dblst', 'lenl', 'whatinside']\n",
      "\n",
      "\n",
      "                                                                                       list(locals().keys()) => list(locals().keys()) : ['env', 'codes', 'c']\n",
      "\n",
      "\n",
      "list(env.keys()) => list(env.keys()) : ['self', 'dbcode', 'cmt', 'expand', 'showdbsrc', 'codes', 'src', 'dbsrc', 'indent', 'onedbprint', 'lst', 'newlst', 'i', 'srclines', 'idx', 'l', 'numindent', 'dbcodes', 'count', 'c', 'totallen', 'lenidx', 'dblst', 'lenl', 'whatinside']\n",
      "\n",
      "\n",
      "list(self.outenv.keys()) => list(self.outenv.keys()) : ['__name__', '__doc__', '__package__', '__loader__', '__spec__', '__file__', '__cached__', '__builtins__', '__all__', 'os', 'pkgutil', 'pprint', 'inspect', 'whatinside', 'version', 'metadata', 'distribution', 'python_version', 'whichversion', 'tstenv']\n",
      "\n",
      "\n",
      "                                                                                                    self.orisrc.__name__ => self.orisrc.__name__ : whatinside\n",
      "self.orisrc.__name__: whatinside\n",
      "locals()[self.orisrc.__name__]: <function whatinside at 0x10831f790>\n",
      "\u001b[93mshowdbsrc=End\u001b[0m--------------------------------------\n",
      "\n",
      "\n",
      "\u001b[93musing db Fastdb.dbprint to create db whatinside is done\u001b[0m---------------------------------------------------------------------------------------------\n",
      "\n",
      "\n",
      "\n",
      "\n",
      "                                                                                                                      type(mo) => type(mo) : <class 'module'>\n",
      "fastdebug.utils has: \n",
      "3 items in its __all__, and \n",
      "122 user defined functions, \n",
      "18 classes or class objects, \n",
      "1 builtin funcs and methods, and\n",
      "143 callables.\n",
      "\n",
      "\n",
      "\n",
      "\u001b[93musing db whatinside to run example on core above\u001b[0m----------------------------------------------------------------------------------------------------\n",
      "\n",
      "\n",
      "@patch====================================================================================(0)       \n",
      "def dbprint(self:Fastdb, =================================================================(1)       \n",
      "            dbcode:int, # idx of a srcline under investigation, can only be int===========(2)       \n",
      "            cmt:str, # comment added to the srcline=======================================(3)       \n",
      "            *codes, # a list of expressions (str) you write to be evaluated above the srcline                                                           (4)\n",
      "            expand:int=2, # span 2 lines of srcode up and down from the srcline investigated                                                            (5)\n",
      "            showdbsrc:bool=False): # display dbsrc========================================(6)       \n",
      "    \"Add comment and evaluate custom (single or multi lines) expressions to any srcline of the source code \\                                            (7)\n",
      "    you are investigating. Run exec on the entire srcode with added expressions (dbsrc), so that dbsrc is callable.\"                                    (8)\n",
      "                                                                                                                                                        (9)\n",
      "    src = self.orisrc=====================================================================(10) # collect and organize cmt by idx\n",
      "    if type(dbcode) == int: self.cmts.update({dbcode: cmt})===============================(11)      \n",
      "                                                                                                                                                        (12)\n",
      "    printsrc(src, dbcode, cmt, expand)====================================================(13)      \n",
      "    print('{:-<60}'.format(colorize(\"print selected srcline with expands above\", color=\"y\")))                                                           (14)\n",
      "                                                                                                                                                        (15)\n",
      "    dbsrc = \"\"============================================================================(16) # make sure only one srcline is selected at a time\n",
      "    indent = 4============================================================================(17)      \n",
      "    onedbprint = False====================================================================(18)      \n",
      "                                                                                                                                                        (19)\n",
      "    lst = inspect.getsource(src).split('\\n')==============================================(20)      \n",
      "    if not bool(lst[-1]): lst = lst[:-1]==================================================(21)      \n",
      "                                                                                                                                                        (22)\n",
      "    newlst = []===========================================================================(23)      \n",
      "    for i in codes: # no matter whether there is \"\" or \"  \" in the front or in the middle of codes # users can put '' and '  ' as codes, but will be ignored.(24)\n",
      "        if bool(i.strip()): newlst.append(i)==============================================(25)      \n",
      "    codes = newlst========================================================================(26)      \n",
      "                                                                                                                                                        (27)\n",
      "    srclines = \"\"=========================================================================(28) # turn idx of srcline into string if decode is not already a string.\n",
      "    if type(dbcode) == int:===============================================================(29)      \n",
      "        srclines = lst[dbcode]============================================================(30)      \n",
      "    else:=================================================================================(31)      \n",
      "        colwarn = colorize(\"Warning!\", color=\"r\")=========================================(32)      \n",
      "        colmsg = colorize(\" param decode has to be an int as idx.\", color=\"y\")============(33)      \n",
      "        print(colwarn + colmsg)===========================================================(34) # Warning message if decode is not an int for idx.\n",
      "#         srclines = dbcode===============================================================(35)      \n",
      "        return============================================================================(36) # loop every srcline with idx\n",
      "                                                                                                                                                        (37)\n",
      "    for idx, l in zip(range(len(lst)), lst):==============================================(38) # When a srcline is under investigation\n",
      "                                                                                                                                                        (39)\n",
      "        if bool(l.strip()) and l.strip() in srclines and idx == dbcode:===================(40) # When there is codes to run\n",
      "                                                                                                                                                        (41)\n",
      "            if len(codes) > 0: ===========================================================(42)      \n",
      "                numindent = len(l) - len(l.lstrip()) # make sure indent not messed up by trailing spaces                                                (43)\n",
      "                dbcodes = \"dbprintinsert(\"================================================(44)      \n",
      "                count = 1=================================================================(45)      \n",
      "                for c in codes:===========================================================(46)      \n",
      "                    if count == len(codes):===============================================(47)      \n",
      "                        dbcodes = dbcodes + '\"' + c + '\"' + \",\" + \"env=g\" + \")\"===========(48)      \n",
      "                    else:=================================================================(49)      \n",
      "                        dbcodes = dbcodes + '\"' + c + '\"' + \",\"===========================(50)      \n",
      "                    count = count + 1=====================================================(51)      \n",
      "                                                                                                                                                        (52)\n",
      "                dbsrc = dbsrc + \" \"*numindent + \"g = locals()\" + '\\n'=====================(53) # what does dbprintinsert line look like\n",
      "                dbsrc = dbsrc + \" \"*numindent + dbcodes + '\\n'============================(54)      \n",
      "                dbsrc = dbsrc + l + '\\n'     =============================================(55)      \n",
      "            else:=========================================================================(56)      \n",
      "                dbsrc = dbsrc + l + '\\n'                ==================================(57) # what to print at the end\n",
      "                                                                                                                                                        (58)\n",
      "        elif bool(l.strip()) and idx + 1 == len(lst):=====================================(59)      \n",
      "            dbsrc = dbsrc + l=============================================================(60)      \n",
      "                                                                                                                                                        (61)\n",
      "        elif bool(l.strip()): # make sure pure indentation + \\n is ignored================(62)      \n",
      "            dbsrc = dbsrc + l + '\\n'======================================================(63) # print out the srcode with dbprintinsert inserted\n",
      "                                                                                                                                                        (64)\n",
      "    if showdbsrc: # added to debug========================================================(65)      \n",
      "        print('{:-<60}'.format(colorize(\"showdbsrc=Start\", color=\"y\")))===================(66)      \n",
      "        totallen = 157====================================================================(67)      \n",
      "        lenidx = 5========================================================================(68)      \n",
      "        dblst = dbsrc.split('\\n')=========================================================(69)      \n",
      "        for idx, l in zip(range(len(dblst)), dblst):======================================(70)      \n",
      "            lenl = len(l)=================================================================(71)      \n",
      "#             if \"dbprintinsert\" in l: ===================================================(72)      \n",
      "            if l.strip().startswith(\"dbprintinsert\"): ====================================(73)      \n",
      "                print(l + \"=\"*(totallen-lenl-lenidx) + \"(db)\")============================(74)      \n",
      "            else:=========================================================================(75) # check status of locals, Fastdb.dbprint and fdb.dbprint\n",
      "                print(l + \" \"*(totallen-lenl-lenidx) + \"(\" + str(idx) + \")\")==============(76)      \n",
      "        print(f\"before exec, locals(): {list(locals().keys())}\")==========================(77)      \n",
      "                                                                                                                                                        (78)\n",
      "    exec(dbsrc, globals().update(self.outenv)) # make sure b can access lst from above====(79) # run exec to create the dbsrc and store in locals()\n",
      "                                                                                                                                                        (80)\n",
      "    if showdbsrc: ========================================================================(81)      \n",
      "        print(f\"after exec, locals(): {list(locals().keys())}\")===========================(82)      \n",
      "        print(f'self.orisrc.__name__: {self.orisrc.__name__}')============================(83) # return the dbsrc using locals()\n",
      "        print(f'locals()[self.orisrc.__name__]: {locals()[self.orisrc.__name__]}')========(84)      \n",
      "        print('{:-<60}'.format(colorize(\"showdbsrc=End\", color=\"y\")))=====================(85)      \n",
      "                                                                                                                                                        (86)\n",
      "    return locals()[self.orisrc.__name__]=================================================(87)      \n",
      "                                                                                                                                                        (88)\n"
     ]
    }
   ],
   "source": [
    "dbdb(83, \"return the dbsrc using locals()\", \"list(locals().keys())\", \"list(env.keys())\", \"list(self.outenv.keys())\", \"self.orisrc.__name__\", db=True, full=True)"
   ]
  },
  {
   "cell_type": "markdown",
   "id": "07c79e40",
   "metadata": {},
   "source": [
    "### How to check whether two vars refer to the same object"
   ]
  },
  {
   "cell_type": "code",
   "execution_count": null,
   "id": "ebfc179b",
   "metadata": {},
   "outputs": [],
   "source": [
    "fdb.dbprint is Fastdb.dbprint"
   ]
  },
  {
   "cell_type": "code",
   "execution_count": null,
   "id": "8a1c4340",
   "metadata": {},
   "outputs": [],
   "source": [
    "fdb.dbprint is fdb.orisrc"
   ]
  },
  {
   "cell_type": "code",
   "execution_count": null,
   "id": "91c44399",
   "metadata": {},
   "outputs": [],
   "source": [
    "Fastdb.dbprint is fdb.orisrc"
   ]
  },
  {
   "cell_type": "markdown",
   "id": "2163f3ad",
   "metadata": {},
   "source": [
    "## Make the above into a class and methods"
   ]
  },
  {
   "cell_type": "code",
   "execution_count": null,
   "id": "33f04b04",
   "metadata": {},
   "outputs": [],
   "source": [
    "from fastdebug.core import *\n",
    "from fastdebug.utils import whatinside\n",
    "from fastcore.basics import *"
   ]
  },
  {
   "cell_type": "code",
   "execution_count": null,
   "id": "676c9749",
   "metadata": {},
   "outputs": [
    {
     "data": {
      "text/plain": [
       "'Fastdb.dbprint'"
      ]
     },
     "execution_count": null,
     "metadata": {},
     "output_type": "execute_result"
    }
   ],
   "source": [
    "Fastdb.dbprint.__qualname__"
   ]
  },
  {
   "cell_type": "code",
   "execution_count": null,
   "id": "5bfb6aac",
   "metadata": {},
   "outputs": [],
   "source": [
    "class DBDB():\n",
    "    \"Using Fastdb to debug Fastdb\"\n",
    "    def __init__(self, \n",
    "                 clsfunc=Fastdb.dbprint, # name of src code you are exploring\n",
    "                 egfunc=whatinside): # env variables needed for exploring the source code, e.g., g = globals()\n",
    "        self.oriclsfunc = clsfunc\n",
    "        self.oriegfunc = egfunc\n",
    "        self.cls = Fastdb # to use exec later\n",
    "        self.clsfunc = clsfunc\n",
    "        self.egfunc = egfunc\n",
    "        \n",
    "        self.g_clsfunc = {}\n",
    "        self.g_clsfunc.update(clsfunc.__globals__)\n",
    "        self.g_egfunc = {}\n",
    "        self.g_egfunc.update(egfunc.__globals__)\n",
    "        \n",
    "        self.fdb = self.cls(clsfunc, self.g_clsfunc)\n",
    "\n",
    "#         self.margin = 157\n",
    "#         self.outenv = env\n",
    "#         self.cmts = {}"
   ]
  },
  {
   "cell_type": "code",
   "execution_count": null,
   "id": "29da21b0",
   "metadata": {},
   "outputs": [],
   "source": [
    "@patch\n",
    "def print(self:DBDB,\n",
    "          pmax=10, # max display of src per cell\n",
    "          pt=1): # which part\n",
    "    \n",
    "    self.fdb.print(pmax, pt) # if pmax == 0, then no printing src"
   ]
  },
  {
   "cell_type": "code",
   "execution_count": null,
   "id": "b62b958d",
   "metadata": {},
   "outputs": [],
   "source": [
    "@patch\n",
    "def dbdb(self:DBDB,\n",
    "         idx, # idx of srcline\n",
    "         cmt, # comment\n",
    "         *codes): # expressions to evaluate\n",
    "\n",
    "    # Turn Fastdb.dbprint and whatinside back to normal\n",
    "    self.clsfunc = self.oriclsfunc\n",
    "    self.egfunc = self.oriegfunc # Important! remember to bring whatinside back to normal after each srcline exploration\n",
    "\n",
    "    # update a new Fastdb.dbprint\n",
    "    self.fdb.dbprint(idx, cmt, *codes)\n",
    "    # creating a db object on whatinside with new Fastdb.dbprint\n",
    "    self.fdbw = self.cls(self.egfunc, self.g_egfunc)\n",
    "    # fdbw.print(10, 1)\n",
    "    # we are still debuggin the same line in whatinside\n",
    "    new = self.fdbw.dbprint(9, \"count num of funcs in __all__\", \"type(mo)\")\n",
    "    self.egfunc = new\n",
    "    self.egfunc(core)\n",
    "    "
   ]
  },
  {
   "cell_type": "code",
   "execution_count": null,
   "id": "78e790b0",
   "metadata": {},
   "outputs": [],
   "source": [
    "obj = DBDB()"
   ]
  },
  {
   "cell_type": "code",
   "execution_count": null,
   "id": "0ec4535e",
   "metadata": {},
   "outputs": [
    {
     "name": "stdout",
     "output_type": "stream",
     "text": [
      "@patch====================================================================================(0)       \n",
      "def dbprint(self:Fastdb, =================================================================(1)       \n",
      "            dbcode:int, # idx of a srcline under investigation, can only be int===========(2)       \n",
      "            cmt:str, # comment added to the srcline=======================================(3)       \n",
      "            *codes, # a list of expressions (str) you write to be evaluated above the srcline                                                           (4)\n",
      "            expand:int=2, # span 2 lines of srcode up and down from the srcline investigated                                                            (5)\n",
      "            showdbsrc:bool=False): # display dbsrc========================================(6)       \n",
      "    \"Add comment and evaluate custom (single or multi lines) expressions to any srcline of the source code you are investigating\"                       (7)\n",
      "                                                                                                                                                        (8)\n",
      "    src = self.orisrc=====================================================================(9)       \n",
      "                                                                                                                                     part No.1 out of 3 parts\n"
     ]
    }
   ],
   "source": [
    "obj.print()"
   ]
  },
  {
   "cell_type": "code",
   "execution_count": null,
   "id": "36e9edc7",
   "metadata": {},
   "outputs": [
    {
     "name": "stdout",
     "output_type": "stream",
     "text": [
      "        return                                                                                                                                          (34)\n",
      "                                                                                                                                                        (35)\n",
      "    for idx, l in zip(range(len(lst)), lst):============================================================================================================(36)\n",
      "                                                                                                                                  \u001b[91mloop every srcline with idx\u001b[0m\n",
      "                                                                                                                                                        (37)\n",
      "        if bool(l.strip()) and l.strip() in srclines and idx == dbcode:                                                                                 (38)\n",
      "             ):                                                                                                                                         (7)\n",
      "    'Check what inside a module: `__all__`, functions, classes, builtins, and callables'                                                                (8)\n",
      "    dun_all = len(mo.__all__) if hasattr(mo, \"__all__\") else 0==========================================================================================(9)\n",
      "                                                                                                                                \u001b[91mcount num of funcs in __all__\u001b[0m\n",
      "    funcs = inspect.getmembers(mo, inspect.isfunction)                                                                                                  (10)\n",
      "    classes = inspect.getmembers(mo, inspect.isclass)                                                                                                   (11)\n",
      "\n",
      "\n",
      "                                                                                                                                    len(lst) => len(lst) : 33\n",
      "\n",
      "\n",
      "                                                                                                                      type(mo) => type(mo) : <class 'module'>\n",
      "fastdebug.utils has: \n",
      "3 items in its __all__, and \n",
      "122 user defined functions, \n",
      "18 classes or class objects, \n",
      "1 builtin funcs and methods, and\n",
      "143 callables.\n",
      "\n"
     ]
    }
   ],
   "source": [
    "obj.dbdb(36, \"loop every srcline with idx\", \"len(lst)\")"
   ]
  },
  {
   "cell_type": "code",
   "execution_count": null,
   "id": "3b6f2b47",
   "metadata": {},
   "outputs": [
    {
     "name": "stdout",
     "output_type": "stream",
     "text": [
      "    for idx, l in zip(range(len(lst)), lst):                                                                                                            (36)\n",
      "                                                                                                                                                        (37)\n",
      "        if bool(l.strip()) and l.strip() in srclines and idx == dbcode:=================================================================================(38)\n",
      "                                                                                                                                \u001b[91mwhen srcline match decode idx\u001b[0m\n",
      "                                                                                                                                                        (39)\n",
      "            if len(codes) > 0:                                                                                                                          (40)\n",
      "\n",
      "\n",
      "                                                                                                                                    len(lst) => len(lst) : 88\n",
      "             ):                                                                                                                                         (7)\n",
      "    'Check what inside a module: `__all__`, functions, classes, builtins, and callables'                                                                (8)\n",
      "    dun_all = len(mo.__all__) if hasattr(mo, \"__all__\") else 0==========================================================================================(9)\n",
      "                                                                                                                                \u001b[91mcount num of funcs in __all__\u001b[0m\n",
      "    funcs = inspect.getmembers(mo, inspect.isfunction)                                                                                                  (10)\n",
      "    classes = inspect.getmembers(mo, inspect.isclass)                                                                                                   (11)\n",
      "\n",
      "\n",
      "                                                                                                                      type(mo) => type(mo) : <class 'module'>\n",
      "fastdebug.utils has: \n",
      "3 items in its __all__, and \n",
      "122 user defined functions, \n",
      "18 classes or class objects, \n",
      "1 builtin funcs and methods, and\n",
      "143 callables.\n",
      "\n"
     ]
    }
   ],
   "source": [
    "obj.dbdb(38, \"when srcline match decode idx\")"
   ]
  },
  {
   "cell_type": "code",
   "execution_count": null,
   "id": "f2409d3c",
   "metadata": {},
   "outputs": [
    {
     "name": "stdout",
     "output_type": "stream",
     "text": [
      "        colwarn = colorize(\"Warning!\", color=\"r\")=========================================(30)      \n",
      "        colmsg = colorize(\" param decode has to be an int as idx.\", color=\"y\")============(31)      \n",
      "        print(colwarn + colmsg)===========================================================(32)      \n",
      "#         srclines = dbcode===============================================================(33)      \n",
      "        return============================================================================(34)      \n",
      "                                                                                                                                                        (35)\n",
      "    for idx, l in zip(range(len(lst)), lst):==============================================(36) # loop every srcline with idx\n",
      "                                                                                                                                                        (37)\n",
      "        if bool(l.strip()) and l.strip() in srclines and idx == dbcode:===================(38) # when srcline match decode idx\n",
      "                                                                                                                                                        (39)\n",
      "            if len(codes) > 0: ===========================================================(40)      \n",
      "                numindent = len(l) - len(l.lstrip()) # make sure indent not messed up by trailing spaces                                                (41)\n",
      "                dbcodes = \"dbprintinsert(\"================================================(42)      \n",
      "                count = 1=================================================================(43)      \n",
      "                for c in codes:===========================================================(44)      \n",
      "                    if count == len(codes):===============================================(45)      \n",
      "                        dbcodes = dbcodes + '\"' + c + '\"' + \",\" + \"env=g\" + \")\"===========(46)      \n",
      "                    else:=================================================================(47)      \n",
      "                        dbcodes = dbcodes + '\"' + c + '\"' + \",\"===========================(48)      \n",
      "                    count = count + 1=====================================================(49)      \n",
      "                                                                                                                                                        (50)\n",
      "                dbsrc = dbsrc + \" \"*numindent + \"g = locals()\" + '\\n'=====================(51)      \n",
      "                dbsrc = dbsrc + \" \"*numindent + dbcodes + '\\n'============================(52)      \n",
      "                dbsrc = dbsrc + l + '\\n'     =============================================(53)      \n",
      "            else:=========================================================================(54)      \n",
      "                dbsrc = dbsrc + l + '\\n'                ==================================(55)      \n",
      "                                                                                                                                                        (56)\n",
      "        elif bool(l.strip()) and idx + 1 == len(lst):=====================================(57)      \n",
      "            dbsrc = dbsrc + l=============================================================(58)      \n",
      "                                                                                                                                                        (59)\n",
      "                                                                                                                                     part No.2 out of 3 parts\n"
     ]
    }
   ],
   "source": [
    "obj.print(30,2)"
   ]
  },
  {
   "cell_type": "code",
   "execution_count": null,
   "id": "dec2d414",
   "metadata": {},
   "outputs": [
    {
     "name": "stdout",
     "output_type": "stream",
     "text": [
      "        if bool(l.strip()) and l.strip() in srclines and idx == dbcode:                                                                                 (38)\n",
      "                                                                                                                                                        (39)\n",
      "            if len(codes) > 0: =========================================================================================================================(40)\n",
      "                                                                                                                           \u001b[91mwhen there is code to be evaluated\u001b[0m\n",
      "                numindent = len(l) - len(l.lstrip()) # make sure indent not messed up by trailing spaces                                                (41)\n",
      "                dbcodes = \"dbprintinsert(\"                                                                                                              (42)\n",
      "             ):                                                                                                                                         (7)\n",
      "    'Check what inside a module: `__all__`, functions, classes, builtins, and callables'                                                                (8)\n",
      "    dun_all = len(mo.__all__) if hasattr(mo, \"__all__\") else 0==========================================================================================(9)\n",
      "                                                                                                                                \u001b[91mcount num of funcs in __all__\u001b[0m\n",
      "    funcs = inspect.getmembers(mo, inspect.isfunction)                                                                                                  (10)\n",
      "    classes = inspect.getmembers(mo, inspect.isclass)                                                                                                   (11)\n",
      "\n",
      "\n",
      "                                                                                                                     codes => codes : ('codes', 'len(codes)')\n",
      "\n",
      "\n",
      "                                                                                                                                 len(codes) => len(codes) : 2\n",
      "\n",
      "\n",
      "                                                                                                                      type(mo) => type(mo) : <class 'module'>\n",
      "fastdebug.utils has: \n",
      "3 items in its __all__, and \n",
      "122 user defined functions, \n",
      "18 classes or class objects, \n",
      "1 builtin funcs and methods, and\n",
      "143 callables.\n",
      "\n"
     ]
    }
   ],
   "source": [
    "obj.dbdb(40, \"when there is code to be evaluated\", \"codes\", \"len(codes)\")"
   ]
  },
  {
   "cell_type": "code",
   "execution_count": null,
   "id": "0d7b076d",
   "metadata": {},
   "outputs": [
    {
     "name": "stdout",
     "output_type": "stream",
     "text": [
      "            if len(codes) > 0: ===========================================================(40) # when there is code to be evaluated\n",
      "                numindent = len(l) - len(l.lstrip()) # make sure indent not messed up by trailing spaces                                                (41)\n",
      "                dbcodes = \"dbprintinsert(\"================================================(42)      \n",
      "                count = 1=================================================================(43)      \n",
      "                for c in codes:===========================================================(44)      \n",
      "                    if count == len(codes):===============================================(45)      \n",
      "                        dbcodes = dbcodes + '\"' + c + '\"' + \",\" + \"env=g\" + \")\"===========(46)      \n",
      "                    else:=================================================================(47)      \n",
      "                        dbcodes = dbcodes + '\"' + c + '\"' + \",\"===========================(48)      \n",
      "                    count = count + 1=====================================================(49)      \n",
      "                                                                                                                                                        (50)\n",
      "                dbsrc = dbsrc + \" \"*numindent + \"g = locals()\" + '\\n'=====================(51)      \n",
      "                dbsrc = dbsrc + \" \"*numindent + dbcodes + '\\n'============================(52)      \n",
      "                dbsrc = dbsrc + l + '\\n'     =============================================(53)      \n",
      "            else:=========================================================================(54)      \n",
      "                dbsrc = dbsrc + l + '\\n'                ==================================(55)      \n",
      "                                                                                                                                                        (56)\n",
      "        elif bool(l.strip()) and idx + 1 == len(lst):=====================================(57)      \n",
      "            dbsrc = dbsrc + l=============================================================(58)      \n",
      "                                                                                                                                                        (59)\n",
      "                                                                                                                                     part No.3 out of 3 parts\n"
     ]
    }
   ],
   "source": [
    "obj.print(20,3)"
   ]
  },
  {
   "cell_type": "code",
   "execution_count": null,
   "id": "b09efe5b",
   "metadata": {},
   "outputs": [
    {
     "data": {
      "text/plain": [
       "False"
      ]
     },
     "execution_count": null,
     "metadata": {},
     "output_type": "execute_result"
    }
   ],
   "source": [
    "obj.clsfunc == Fastdb.dbprint"
   ]
  },
  {
   "cell_type": "code",
   "execution_count": null,
   "id": "5dff595a",
   "metadata": {},
   "outputs": [
    {
     "data": {
      "text/plain": [
       "<function fastdebug.core.Fastdb.dbprint(self: fastdebug.core.Fastdb, dbcode: int, cmt: str, *codes, expand: int = 2, showdbsrc: bool = False)>"
      ]
     },
     "execution_count": null,
     "metadata": {},
     "output_type": "execute_result"
    }
   ],
   "source": [
    "obj.clsfunc"
   ]
  },
  {
   "cell_type": "code",
   "execution_count": null,
   "id": "c1f5fda7",
   "metadata": {},
   "outputs": [
    {
     "name": "stdout",
     "output_type": "stream",
     "text": [
      "                dbsrc = dbsrc + \" \"*numindent + \"g = locals()\" + '\\n'                                                                                   (51)\n",
      "                dbsrc = dbsrc + \" \"*numindent + dbcodes + '\\n'                                                                                          (52)\n",
      "                dbsrc = dbsrc + l + '\\n'     ===========================================================================================================(53)\n",
      "                                                                                                                       \u001b[91madd codes as strings into dbprintinser\u001b[0m\n",
      "            else:                                                                                                                                       (54)\n",
      "                dbsrc = dbsrc + l + '\\n'                                                                                                                (55)\n",
      "\n",
      "\n",
      "                                                                                                                     codes => codes : ('codes', 'len(codes)')\n",
      "\n",
      "\n",
      "                                                                                                                                 len(codes) => len(codes) : 2\n",
      "             ):                                                                                                                                         (7)\n",
      "    'Check what inside a module: `__all__`, functions, classes, builtins, and callables'                                                                (8)\n",
      "    dun_all = len(mo.__all__) if hasattr(mo, \"__all__\") else 0==========================================================================================(9)\n",
      "                                                                                                                                \u001b[91mcount num of funcs in __all__\u001b[0m\n",
      "    funcs = inspect.getmembers(mo, inspect.isfunction)                                                                                                  (10)\n",
      "    classes = inspect.getmembers(mo, inspect.isclass)                                                                                                   (11)\n",
      "\n",
      "\n",
      "dbsrc => dbsrc : def whatinside(mo, # module, e.g., `import fastcore.all as fa`, use `fa` here\n",
      "               dun:bool=False, # print all items in __all__\n",
      "               func:bool=False, # print all user defined functions\n",
      "               clas:bool=False, # print all class objects\n",
      "               bltin:bool=False, # print all builtin funcs or methods\n",
      "               lib:bool=False, # print all the modules of the library it belongs to\n",
      "               cal:bool=False # print all callables\n",
      "             ): \n",
      "    'Check what inside a module: `__all__`, functions, classes, builtins, and callables'\n",
      "    g = locals()\n",
      "    dbprintinsert(\"type(mo)\",env=g)\n",
      "\n",
      "\n",
      "\n",
      "dbsrc + l => dbsrc + l : def whatinside(mo, # module, e.g., `import fastcore.all as fa`, use `fa` here\n",
      "               dun:bool=False, # print all items in __all__\n",
      "               func:bool=False, # print all user defined functions\n",
      "               clas:bool=False, # print all class objects\n",
      "               bltin:bool=False, # print all builtin funcs or methods\n",
      "               lib:bool=False, # print all the modules of the library it belongs to\n",
      "               cal:bool=False # print all callables\n",
      "             ): \n",
      "    'Check what inside a module: `__all__`, functions, classes, builtins, and callables'\n",
      "    g = locals()\n",
      "    dbprintinsert(\"type(mo)\",env=g)\n",
      "    dun_all = len(mo.__all__) if hasattr(mo, \"__all__\") else 0\n",
      "\n",
      "\n",
      "                                                                                                                      type(mo) => type(mo) : <class 'module'>\n",
      "fastdebug.utils has: \n",
      "3 items in its __all__, and \n",
      "122 user defined functions, \n",
      "18 classes or class objects, \n",
      "1 builtin funcs and methods, and\n",
      "143 callables.\n",
      "\n"
     ]
    }
   ],
   "source": [
    "obj.dbdb(53, \"add codes as strings into dbprintinser\", \"dbsrc\", \"dbsrc + l\")"
   ]
  },
  {
   "cell_type": "code",
   "execution_count": null,
   "id": "ff5bcb8b",
   "metadata": {},
   "outputs": [],
   "source": []
  }
 ],
 "metadata": {
  "kernelspec": {
   "display_name": "Python 3 (ipykernel)",
   "language": "python",
   "name": "python3"
  }
 },
 "nbformat": 4,
 "nbformat_minor": 5
}
