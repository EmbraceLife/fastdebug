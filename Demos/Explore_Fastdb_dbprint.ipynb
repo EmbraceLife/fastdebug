{
 "cells": [
  {
   "cell_type": "markdown",
   "id": "f932d6a0",
   "metadata": {},
   "source": [
    "# Explore Fastdb class"
   ]
  },
  {
   "cell_type": "code",
   "execution_count": null,
   "id": "438215f1",
   "metadata": {},
   "outputs": [],
   "source": [
    "from IPython.display import display, HTML "
   ]
  },
  {
   "cell_type": "code",
   "execution_count": null,
   "id": "949323b7",
   "metadata": {},
   "outputs": [
    {
     "data": {
      "text/html": [
       "<style>.container { width:100% !important; }</style>"
      ],
      "text/plain": [
       "<IPython.core.display.HTML object>"
      ]
     },
     "metadata": {},
     "output_type": "display_data"
    }
   ],
   "source": [
    "display(HTML(\"<style>.container { width:100% !important; }</style>\"))"
   ]
  },
  {
   "cell_type": "markdown",
   "id": "7874adc2",
   "metadata": {},
   "source": [
    "## Why"
   ]
  },
  {
   "cell_type": "markdown",
   "id": "43d60796",
   "metadata": {},
   "source": [
    "So far I have created two demos, a simple one on `fastdebug.utils.whatinside` and a real world one on `fastcore.meta.FixSigMeta`. They should be enough as demos to show the usefulness of fastdebug library. "
   ]
  },
  {
   "cell_type": "markdown",
   "id": "1ba07ebd",
   "metadata": {},
   "source": [
    "However, I want to be thorough and really prove to myself that it can help me to conquer unknowns and clear doubts with ease and joy when exploring source code. "
   ]
  },
  {
   "cell_type": "markdown",
   "id": "01d1ba3e",
   "metadata": {},
   "source": [
    "Fastdb class and the funcs it uses contains all the tricks I learnt and difficulties I conquered which I don't always remember how and why. In fact I don't want to remember them. I want to just run all cells here and skim through the notebook and everything makes sense to me. "
   ]
  },
  {
   "cell_type": "markdown",
   "id": "71c678a9",
   "metadata": {},
   "source": [
    "Can fastdebug help me achieve it? Let's give a try!"
   ]
  },
  {
   "cell_type": "markdown",
   "id": "3406ddaa",
   "metadata": {},
   "source": [
    "## How to do it?"
   ]
  },
  {
   "cell_type": "markdown",
   "id": "4a7154d3",
   "metadata": {},
   "source": [
    "I need a few examples first. Maybe I could just use the simple demo as example for `Fastdb`."
   ]
  },
  {
   "cell_type": "markdown",
   "id": "3596fd44",
   "metadata": {},
   "source": [
    "## `whatinside` and `gw['whatinside']` are the same"
   ]
  },
  {
   "cell_type": "code",
   "execution_count": null,
   "id": "83a59310",
   "metadata": {},
   "outputs": [],
   "source": [
    "from fastdebug.utils import *\n",
    "import inspect"
   ]
  },
  {
   "cell_type": "code",
   "execution_count": null,
   "id": "3f90d5ba",
   "metadata": {},
   "outputs": [
    {
     "data": {
      "text/plain": [
       "20"
      ]
     },
     "execution_count": null,
     "metadata": {},
     "output_type": "execute_result"
    }
   ],
   "source": [
    "gw = {}\n",
    "gw.update(whatinside.__globals__)\n",
    "len(gw)"
   ]
  },
  {
   "cell_type": "code",
   "execution_count": null,
   "id": "118d10bc",
   "metadata": {},
   "outputs": [
    {
     "data": {
      "text/plain": [
       "'<code object whatinside at 0x11023bf50, file \"/Users/Natsume/Documents/fastdebug/fastdebug/utils.py\", line 14>'"
      ]
     },
     "execution_count": null,
     "metadata": {},
     "output_type": "execute_result"
    }
   ],
   "source": [
    "whatinside.__code__.__repr__()"
   ]
  },
  {
   "cell_type": "code",
   "execution_count": null,
   "id": "cb8420d3",
   "metadata": {},
   "outputs": [
    {
     "data": {
      "text/plain": [
       "<code object whatinside at 0x11023bf50, file \"/Users/Natsume/Documents/fastdebug/fastdebug/utils.py\", line 14>"
      ]
     },
     "execution_count": null,
     "metadata": {},
     "output_type": "execute_result"
    }
   ],
   "source": [
    "gw['whatinside'].__code__"
   ]
  },
  {
   "cell_type": "code",
   "execution_count": null,
   "id": "d3e507c1",
   "metadata": {},
   "outputs": [
    {
     "data": {
      "text/plain": [
       "'def whatinside(mo, # module, e.g., `import fastcore.all as fa`, use `fa` here\\n               dun:bool=False, # print all items in __all__\\n               func:bool=False, # print all user defined functions\\n               clas:bool=False, # print all class objects\\n               bltin:bool=False, # print all builtin funcs or methods\\n               lib:bool=False, # print all the modules of the library it belongs to\\n               cal:bool=False # print all callables\\n             ): \\n    \\'Check what inside a module: `__all__`, functions, classes, builtins, and callables\\'\\n    dun_all = len(mo.__all__) if hasattr(mo, \"__all__\") else 0\\n    funcs = inspect.getmembers(mo, inspect.isfunction)\\n    classes = inspect.getmembers(mo, inspect.isclass)\\n    builtins = inspect.getmembers(mo, inspect.isbuiltin)\\n    callables = inspect.getmembers(mo, callable)\\n    pkgpath = os.path.dirname(mo.__file__)\\n    print(f\"{mo.__name__} has: \\\\n{dun_all} items in its __all__, and \\\\n{len(funcs)} user defined functions, \\\\n{len(classes)} classes or class objects, \\\\n{len(builtins)} builtin funcs and methods, and\\\\n{len(callables)} callables.\\\\n\")  \\n    if hasattr(mo, \"__all__\") and dun: pprint(mo.__all__)\\n    if func: \\n        print(f\\'The user defined functions are:\\')\\n        pprint([i[0] for i in funcs])\\n    if clas: \\n        print(f\\'The class objects are:\\')\\n        pprint([i[0] for i in classes])\\n    if bltin: \\n        print(f\\'The builtin functions or methods are:\\')\\n        pprint([i[0] for i in builtins])\\n    if cal: \\n        print(f\\'The callables are: \\')\\n        pprint([i[0] for i in callables])\\n    if lib: \\n        modules = [name for _, name, _ in pkgutil.iter_modules([pkgpath])]\\n        print(f\\'The library has {len(modules)} modules\\')\\n        pprint(modules)\\n'"
      ]
     },
     "execution_count": null,
     "metadata": {},
     "output_type": "execute_result"
    }
   ],
   "source": [
    "inspect.getsource(gw['whatinside'])"
   ]
  },
  {
   "cell_type": "code",
   "execution_count": null,
   "id": "778edd93",
   "metadata": {},
   "outputs": [
    {
     "data": {
      "text/plain": [
       "True"
      ]
     },
     "execution_count": null,
     "metadata": {},
     "output_type": "execute_result"
    }
   ],
   "source": [
    "gw['whatinside'] == whatinside"
   ]
  },
  {
   "cell_type": "code",
   "execution_count": null,
   "id": "de308592",
   "metadata": {},
   "outputs": [
    {
     "data": {
      "text/plain": [
       "True"
      ]
     },
     "execution_count": null,
     "metadata": {},
     "output_type": "execute_result"
    }
   ],
   "source": [
    "gw['whatinside'] is whatinside"
   ]
  },
  {
   "cell_type": "code",
   "execution_count": null,
   "id": "ce9ade7b",
   "metadata": {},
   "outputs": [],
   "source": []
  },
  {
   "cell_type": "code",
   "execution_count": null,
   "id": "64ba86bd",
   "metadata": {},
   "outputs": [],
   "source": []
  },
  {
   "cell_type": "markdown",
   "id": "7c467c61",
   "metadata": {},
   "source": [
    "## Dot it in a more natural and ordered way"
   ]
  },
  {
   "cell_type": "code",
   "execution_count": null,
   "id": "5e56f224",
   "metadata": {},
   "outputs": [],
   "source": [
    "from fastdebug.core import *"
   ]
  },
  {
   "cell_type": "code",
   "execution_count": null,
   "id": "5a7d69c6",
   "metadata": {},
   "outputs": [],
   "source": [
    "import inspect"
   ]
  },
  {
   "cell_type": "code",
   "execution_count": null,
   "id": "c924b1b0",
   "metadata": {},
   "outputs": [],
   "source": [
    "from fastcore.test import *"
   ]
  },
  {
   "cell_type": "markdown",
   "id": "51edbdf9",
   "metadata": {},
   "source": [
    "### Prepare env for Fastdb.dbprint"
   ]
  },
  {
   "cell_type": "code",
   "execution_count": null,
   "id": "f731504c",
   "metadata": {},
   "outputs": [
    {
     "data": {
      "text/plain": [
       "157"
      ]
     },
     "execution_count": null,
     "metadata": {},
     "output_type": "execute_result"
    }
   ],
   "source": [
    "g = {}\n",
    "g.update(Fastdb.dbprint.__globals__)\n",
    "len(g)"
   ]
  },
  {
   "cell_type": "code",
   "execution_count": null,
   "id": "c913bfaf",
   "metadata": {},
   "outputs": [],
   "source": [
    "test_eq('Fastdb' in g, True)\n",
    "test_eq('Fastdb.dbprint' in g, False)\n",
    "test_eq('dbprint' in g, True)\n",
    "test_eq(type(g['dbprint']) == type(None), True) # has nothing, this is probably come from the notebook 00_core\n",
    "test_eq(g['Fastdb'] is Fastdb, True)\n",
    "test_eq(g['Fastdb'].dbprint is Fastdb.dbprint, True)\n",
    "test_eq(inspect.getsourcefile(g['Fastdb']) == '<string>', False)"
   ]
  },
  {
   "cell_type": "markdown",
   "id": "3509c36b",
   "metadata": {},
   "source": [
    "### Create Fastdb object for `Fastdb.dbprint`"
   ]
  },
  {
   "cell_type": "code",
   "execution_count": null,
   "id": "aa1aeb41",
   "metadata": {},
   "outputs": [],
   "source": [
    "# fdb = Fastdb(Fastdb.dbprint, g)\n",
    "fdb = Fastdb(Fastdb.dbprint)"
   ]
  },
  {
   "cell_type": "code",
   "execution_count": null,
   "id": "9d7b205d",
   "metadata": {},
   "outputs": [
    {
     "name": "stdout",
     "output_type": "stream",
     "text": [
      "@patch====================================================================================(0)       \n",
      "def dbprint(self:Fastdb, =================================================================(1)       \n",
      "            dbcode:int, # idx of a srcline under investigation, can only be int===========(2)       \n",
      "            cmt:str, # comment added to the srcline=======================================(3)       \n",
      "            *codes, # a list of expressions (str) you write to be evaluated above the srcline                                                           (4)\n",
      "            expand:int=2, # span 2 lines of srcode up and down from the srcline investigated                                                            (5)\n",
      "            showdbsrc:bool=False): # display dbsrc========================================(6)       \n",
      "    \"Add comment and evaluate custom (single or multi lines) expressions to any srcline of the source code \\                                            (7)\n",
      "you are investigating. Run exec on the entire srcode with added expressions (dbsrc), so that dbsrc is callable.\"                                        (8)\n",
      "                                                                                                                                                        (9)\n",
      "    src = self.orisrc=====================================================================(10)      \n",
      "    if type(dbcode) == int: self.cmts.update({dbcode: cmt})===============================(11)      \n",
      "                                                                                                                                                        (12)\n",
      "    printsrc(src, dbcode, cmt, expand)====================================================(13)      \n",
      "    print('{:-<60}'.format(colorize(\"print selected srcline with expands above\", color=\"y\")))                                                           (14)\n",
      "                                                                                                                                                        (15)\n",
      "    dbsrc = \"\"============================================================================(16)      \n",
      "    indent = 4============================================================================(17)      \n",
      "                                                                                                                                                        (18)\n",
      "    lst = inspect.getsource(src).split('\\n')==============================================(19)      \n",
      "                                                                                                                                     part No.1 out of 4 parts\n"
     ]
    }
   ],
   "source": [
    "fdb.print(20, 1)"
   ]
  },
  {
   "cell_type": "code",
   "execution_count": null,
   "id": "7f6cc393",
   "metadata": {},
   "outputs": [
    {
     "data": {
      "text/plain": [
       "False"
      ]
     },
     "execution_count": null,
     "metadata": {},
     "output_type": "execute_result"
    }
   ],
   "source": [
    "inspect.getsourcefile(Fastdb.dbprint) == '<string>' # Fastdb.dbprint has its source code file"
   ]
  },
  {
   "cell_type": "code",
   "execution_count": null,
   "id": "1c303ea3",
   "metadata": {},
   "outputs": [
    {
     "data": {
      "text/plain": [
       "False"
      ]
     },
     "execution_count": null,
     "metadata": {},
     "output_type": "execute_result"
    }
   ],
   "source": [
    "inspect.getsourcefile(Fastdb) == '<string>' "
   ]
  },
  {
   "cell_type": "code",
   "execution_count": null,
   "id": "d7175a1f",
   "metadata": {},
   "outputs": [
    {
     "data": {
      "text/plain": [
       "False"
      ]
     },
     "execution_count": null,
     "metadata": {},
     "output_type": "execute_result"
    }
   ],
   "source": [
    "inspect.getsourcefile(Fastdb.print) == '<string>'"
   ]
  },
  {
   "cell_type": "code",
   "execution_count": null,
   "id": "c43717cd",
   "metadata": {},
   "outputs": [
    {
     "data": {
      "text/plain": [
       "True"
      ]
     },
     "execution_count": null,
     "metadata": {},
     "output_type": "execute_result"
    }
   ],
   "source": [
    "Fastdb.dbprint is fdb.orisrc # they are the same object"
   ]
  },
  {
   "cell_type": "code",
   "execution_count": null,
   "id": "797a5850",
   "metadata": {},
   "outputs": [
    {
     "data": {
      "text/plain": [
       "False"
      ]
     },
     "execution_count": null,
     "metadata": {},
     "output_type": "execute_result"
    }
   ],
   "source": [
    "inspect.getsourcefile(fdb.dbprint) == '<string>'"
   ]
  },
  {
   "cell_type": "markdown",
   "id": "19ba6ac2",
   "metadata": {},
   "source": [
    "Important! After running the following line, `Fastdb.dbprint` is updated by exec and source code can't be seen anymore."
   ]
  },
  {
   "cell_type": "code",
   "execution_count": null,
   "id": "b84a2f13",
   "metadata": {},
   "outputs": [
    {
     "name": "stdout",
     "output_type": "stream",
     "text": [
      "you are investigating. Run exec on the entire srcode with added expressions (dbsrc), so that dbsrc is callable.\"                                        (8)\n",
      "                                                                                                                                                        (9)\n",
      "    src = self.orisrc===================================================================================================================================(10)\n",
      "                                                                                                                                       \u001b[91mkeep original src safe\u001b[0m\n",
      "    if type(dbcode) == int: self.cmts.update({dbcode: cmt})                                                                                             (11)\n",
      "                                                                                                                                                        (12)\n",
      "\u001b[93mprint selected srcline with expands above\u001b[0m----------\n",
      "\u001b[93mshowdbsrc=Start\u001b[0m------------------------------------\n",
      "@patch--------------------------------------------------------------------------------------------------------------------------------------------------(0)\n",
      "def dbprint(self:Fastdb, -------------------------------------------------------------------------------------------------------------------------------(1)\n",
      "            dbcode:int, # idx of a srcline under investigation, can only be int-------------------------------------------------------------------------(2)\n",
      "            cmt:str, # comment added to the srcline-----------------------------------------------------------------------------------------------------(3)\n",
      "            *codes, # a list of expressions (str) you write to be evaluated above the srcline-----------------------------------------------------------(4)\n",
      "            expand:int=2, # span 2 lines of srcode up and down from the srcline investigated------------------------------------------------------------(5)\n",
      "            showdbsrc:bool=False): # display dbsrc------------------------------------------------------------------------------------------------------(6)\n",
      "    \"Add comment and evaluate custom (single or multi lines) expressions to any srcline of the source code \\--------------------------------------------(7)\n",
      "you are investigating. Run exec on the entire srcode with added expressions (dbsrc), so that dbsrc is callable.\"----------------------------------------(8)\n",
      "                                                                                                                                                        (9)\n",
      "    g = locals()----------------------------------------------------------------------------------------------------------------------------------------(10)\n",
      "    dbprintinsert(\"self.orisrc\",env=g)==================================================================================================================(db)\n",
      "    src = self.orisrc-----------------------------------------------------------------------------------------------------------------------------------(12)\n",
      "    if type(dbcode) == int: self.cmts.update({dbcode: cmt})---------------------------------------------------------------------------------------------(13)\n",
      "                                                                                                                                                        (14)\n",
      "    printsrc(src, dbcode, cmt, expand)------------------------------------------------------------------------------------------------------------------(15)\n",
      "    print('{:-<60}'.format(colorize(\"print selected srcline with expands above\", color=\"y\")))-----------------------------------------------------------(16)\n",
      "                                                                                                                                                        (17)\n",
      "    dbsrc = \"\"------------------------------------------------------------------------------------------------------------------------------------------(18)\n",
      "    indent = 4------------------------------------------------------------------------------------------------------------------------------------------(19)\n",
      "                                                                                                                                                        (20)\n",
      "    lst = inspect.getsource(src).split('\\n')------------------------------------------------------------------------------------------------------------(21)\n",
      "    if not bool(lst[-1]): lst = lst[:-1]----------------------------------------------------------------------------------------------------------------(22)\n",
      "                                                                                                                                                        (23)\n",
      "    newlst = []-----------------------------------------------------------------------------------------------------------------------------------------(24)\n",
      "    for i in codes: # no matter whether there is \"\" or \"  \" in the front or in the middle of codes------------------------------------------------------(25)\n",
      "        if bool(i.strip()): newlst.append(i)------------------------------------------------------------------------------------------------------------(26)\n",
      "    codes = newlst--------------------------------------------------------------------------------------------------------------------------------------(27)\n",
      "                                                                                                                                                        (28)\n",
      "    srclines = \"\"---------------------------------------------------------------------------------------------------------------------------------------(29)\n",
      "    if type(dbcode) == int:-----------------------------------------------------------------------------------------------------------------------------(30)\n",
      "        srclines = lst[dbcode]--------------------------------------------------------------------------------------------------------------------------(31)\n",
      "    else:-----------------------------------------------------------------------------------------------------------------------------------------------(32)\n",
      "        raise TypeError(\"decode must be an integer.\")---------------------------------------------------------------------------------------------------(33)\n",
      "                                                                                                                                                        (34)\n",
      "    for idx, l in zip(range(len(lst)), lst):------------------------------------------------------------------------------------------------------------(35)\n",
      "                                                                                                                                                        (36)\n",
      "        if bool(l.strip()) and l.strip() in srclines and idx == dbcode:---------------------------------------------------------------------------------(37)\n",
      "                                                                                                                                                        (38)\n",
      "            if len(codes) > 0: -------------------------------------------------------------------------------------------------------------------------(39)\n",
      "                numindent = len(l) - len(l.lstrip()) # make sure indent not messed up by trailing spaces------------------------------------------------(40)\n",
      "                dbcodes = \"dbprintinsert(\"--------------------------------------------------------------------------------------------------------------(41)\n",
      "                count = 1-------------------------------------------------------------------------------------------------------------------------------(42)\n",
      "                for c in codes:-------------------------------------------------------------------------------------------------------------------------(43)\n",
      "                    if count == len(codes):-------------------------------------------------------------------------------------------------------------(44)\n",
      "                        dbcodes = dbcodes + '\"' + c + '\"' + \",\" + \"env=g\" + \")\"-------------------------------------------------------------------------(45)\n",
      "                    else:-------------------------------------------------------------------------------------------------------------------------------(46)\n",
      "                        dbcodes = dbcodes + '\"' + c + '\"' + \",\"-----------------------------------------------------------------------------------------(47)\n",
      "                    count = count + 1-------------------------------------------------------------------------------------------------------------------(48)\n",
      "                                                                                                                                                        (49)\n",
      "                dbsrc = dbsrc + \" \"*numindent + \"g = locals()\" + '\\n'-----------------------------------------------------------------------------------(50)\n",
      "                dbsrc = dbsrc + \" \"*numindent + dbcodes + '\\n'------------------------------------------------------------------------------------------(51)\n",
      "                dbsrc = dbsrc + l + '\\n'     -----------------------------------------------------------------------------------------------------------(52)\n",
      "            else:---------------------------------------------------------------------------------------------------------------------------------------(53)\n",
      "                dbsrc = dbsrc + l + '\\n'                ------------------------------------------------------------------------------------------------(54)\n",
      "                                                                                                                                                        (55)\n",
      "        elif bool(l.strip()) and idx + 1 == len(lst):---------------------------------------------------------------------------------------------------(56)\n",
      "            dbsrc = dbsrc + l---------------------------------------------------------------------------------------------------------------------------(57)\n",
      "        else: # make sure this printout is identical to the printsrc output-----------------------------------------------------------------------------(58)\n",
      "            dbsrc = dbsrc + l + '\\n'--------------------------------------------------------------------------------------------------------------------(59)\n",
      "                                                                                                                                                        (60)\n",
      "    if showdbsrc: # added to debug----------------------------------------------------------------------------------------------------------------------(61)\n",
      "        print('{:-<60}'.format(colorize(\"showdbsrc=Start\", color=\"y\")))---------------------------------------------------------------------------------(62)\n",
      "        totallen = 157----------------------------------------------------------------------------------------------------------------------------------(63)\n",
      "        lenidx = 5--------------------------------------------------------------------------------------------------------------------------------------(64)\n",
      "        dblst = dbsrc.split('\\n')-----------------------------------------------------------------------------------------------------------------------(65)\n",
      "        for idx, l in zip(range(len(dblst)), dblst):----------------------------------------------------------------------------------------------------(66)\n",
      "            lenl = len(l)-------------------------------------------------------------------------------------------------------------------------------(67)\n",
      "#             if \"dbprintinsert\" in l: -----------------------------------------------------------------------------------------------------------------(68)\n",
      "            if l.strip().startswith(\"dbprintinsert\"): --------------------------------------------------------------------------------------------------(69)\n",
      "                print(l + \"=\"*(totallen-lenl-lenidx) + \"(db)\")------------------------------------------------------------------------------------------(70)\n",
      "            elif not bool(l.strip()):-------------------------------------------------------------------------------------------------------------------(71)\n",
      "                print(l + \" \"*(totallen-lenl-lenidx) + \"(\" + str(idx) + \")\")----------------------------------------------------------------------------(72)\n",
      "            else:---------------------------------------------------------------------------------------------------------------------------------------(73)\n",
      "                print(l + \"-\"*(totallen-lenl-lenidx) + \"(\" + str(idx) + \")\")----------------------------------------------------------------------------(74)\n",
      "                                                                                                                                                        (75)\n",
      "        print(f\"locals() keys: {list(locals().keys())}\")------------------------------------------------------------------------------------------------(76)\n",
      "        names = self.orisrc.__qualname__.split('.')-----------------------------------------------------------------------------------------------------(77)\n",
      "        if len(names) == 2:-----------------------------------------------------------------------------------------------------------------------------(78)\n",
      "            clsname = names[0]--------------------------------------------------------------------------------------------------------------------------(79)\n",
      "            methodname = names[1]-----------------------------------------------------------------------------------------------------------------------(80)\n",
      "            print(f\"before exec, is {methodname} in locals(): {methodname in locals()}\")----------------------------------------------------------------(81)\n",
      "            print(f\"before exec, is {clsname} in locals(): {clsname in locals()}\")----------------------------------------------------------------------(82)\n",
      "            print(f\"before exec, is {self.orisrc.__qualname__} in locals(): {self.orisrc.__qualname__ in locals()}\")------------------------------------(83)\n",
      "            print(f\"before exec, is {methodname} in self.outenv: {methodname in self.outenv}\")----------------------------------------------------------(84)\n",
      "            print(f\"before exec, is {clsname} in self.outenv: {clsname in self.outenv}\")----------------------------------------------------------------(85)\n",
      "            print(f\"before exec, is {self.orisrc.__qualname__} in self.outenv: {self.orisrc.__qualname__ in self.outenv}\")------------------------------(86)\n",
      "            expr = \"self.outenv[\" + \"'\" + clsname + \"'].\" + methodname----------------------------------------------------------------------------------(87)\n",
      "            expr1 = \"self.outenv[\" + \"'\" + methodname + \"']\"--------------------------------------------------------------------------------------------(88)\n",
      "            print(f\"inspect.getsourcefile({expr}) == '<string>': {True if inspect.getsourcefile(eval(expr)) == '<string>' else inspect.getsourcefile(eval(expr))}\")(89)\n",
      "            print(f\"self.outenv[{methodname}]: {eval(expr1)}\")------------------------------------------------------------------------------------------(90)\n",
      "            print(f\"{self.orisrc} is {expr}: {self.orisrc is eval(expr)}\")------------------------------------------------------------------------------(91)\n",
      "    exec(dbsrc, globals().update(self.outenv)) # make sure b can access lst from above------------------------------------------------------------------(92)\n",
      "    print('{:-<60}'.format(colorize(\"exec on dbsrc above\", color=\"y\")))---------------------------------------------------------------------------------(93)\n",
      "                                                                                                                                                        (94)\n",
      "    if showdbsrc: --------------------------------------------------------------------------------------------------------------------------------------(95)\n",
      "        print(f\"locals() keys: {list(locals().keys())}\")------------------------------------------------------------------------------------------------(96)\n",
      "        if len(names) == 2:-----------------------------------------------------------------------------------------------------------------------------(97)\n",
      "            print(f\"after exec, is {methodname} in locals(): {methodname in locals()}\")-----------------------------------------------------------------(98)\n",
      "            print(f\"after exec, is {clsname} in locals(): {clsname in locals()}\")-----------------------------------------------------------------------(99)\n",
      "            print(f\"after exec, is {self.orisrc.__qualname__} in locals(): {self.orisrc.__qualname__ in locals()}\")-------------------------------------(100)\n",
      "            print(f\"after exec, is {methodname} in self.outenv: {methodname in self.outenv}\")-----------------------------------------------------------(101)\n",
      "            print(f\"after exec, is {clsname} in self.outenv: {clsname in self.outenv}\")-----------------------------------------------------------------(102)\n",
      "            print(f\"after exec, is {self.orisrc.__qualname__} in self.outenv: {self.orisrc.__qualname__ in self.outenv}\")-------------------------------(103)\n",
      "    #         print(f\"after exec, are {methodname} and {clsname} and {self.orisrc.__qualname__} in locals(): {[i in list(locals().keys()) for i in [self.orisrc.__name__, clsname, self.orisrc.__qualname__]]}\")(104)\n",
      "    #         print(f\"after exec, are {methodname} and {clsname} and {self.orisrc.__qualname__} in self.outenv(): {[i in self.outenv for i in [methodname, clsname, self.orisrc.__qualname__]]}\")(105)\n",
      "            print(f\"inspect.getsourcefile({expr}) == '<string>': {True if inspect.getsourcefile(eval(expr)) == '<string>' else inspect.getsourcefile(eval(expr))}\")(106)\n",
      "            print(f\"self.outenv[{methodname}]: {eval(expr1)}\")------------------------------------------------------------------------------------------(107)\n",
      "            print(f\"{self.orisrc} is {expr}: {self.orisrc is eval(expr)}\")            ------------------------------------------------------------------(108)\n",
      "        print(f'self.orisrc.__name__: {self.orisrc.__name__}')------------------------------------------------------------------------------------------(109)\n",
      "        print(f'locals()[self.orisrc.__name__]: {locals()[self.orisrc.__name__]}')----------------------------------------------------------------------(110)\n",
      "        print('{:-<60}'.format(colorize(\"showdbsrc=End\", color=\"y\")))-----------------------------------------------------------------------------------(111)\n",
      "                                                                                                                                                        (112)\n",
      "    return locals()[self.orisrc.__name__]---------------------------------------------------------------------------------------------------------------(113)\n",
      "locals() keys: ['self', 'dbcode', 'cmt', 'expand', 'showdbsrc', 'codes', 'src', 'dbsrc', 'indent', 'lst', 'newlst', 'i', 'srclines', 'idx', 'l', 'numindent', 'dbcodes', 'count', 'c', 'totallen', 'lenidx', 'dblst', 'lenl']\n",
      "before exec, is dbprint in locals(): False\n",
      "before exec, is Fastdb in locals(): False\n",
      "before exec, is Fastdb.dbprint in locals(): False\n",
      "before exec, is dbprint in self.outenv: True\n",
      "before exec, is Fastdb in self.outenv: True\n",
      "before exec, is Fastdb.dbprint in self.outenv: False\n",
      "inspect.getsourcefile(self.outenv['Fastdb'].dbprint) == '<string>': /Users/Natsume/Documents/fastdebug/fastdebug/core.py\n",
      "self.outenv[dbprint]: None\n",
      "<function Fastdb.dbprint at 0x110553280> is self.outenv['Fastdb'].dbprint: True\n",
      "\u001b[93mexec on dbsrc above\u001b[0m--------------------------------\n",
      "locals() keys: ['self', 'dbcode', 'cmt', 'expand', 'showdbsrc', 'codes', 'src', 'dbsrc', 'indent', 'lst', 'newlst', 'i', 'srclines', 'idx', 'l', 'numindent', 'dbcodes', 'count', 'c', 'totallen', 'lenidx', 'dblst', 'lenl', 'names', 'clsname', 'methodname', 'expr', 'expr1', 'dbprint']\n",
      "after exec, is dbprint in locals(): True\n",
      "after exec, is Fastdb in locals(): False\n",
      "after exec, is Fastdb.dbprint in locals(): False\n",
      "after exec, is dbprint in self.outenv: True\n",
      "after exec, is Fastdb in self.outenv: True\n",
      "after exec, is Fastdb.dbprint in self.outenv: False\n",
      "inspect.getsourcefile(self.outenv['Fastdb'].dbprint) == '<string>': True\n",
      "self.outenv[dbprint]: None\n",
      "<function Fastdb.dbprint at 0x110553280> is self.outenv['Fastdb'].dbprint: False\n",
      "self.orisrc.__name__: dbprint\n",
      "locals()[self.orisrc.__name__]: None\n",
      "\u001b[93mshowdbsrc=End\u001b[0m--------------------------------------\n"
     ]
    }
   ],
   "source": [
    "dbsrc = fdb.dbprint(10, \"keep original src safe\", \"self.orisrc\", showdbsrc=True)"
   ]
  },
  {
   "cell_type": "markdown",
   "id": "22895485",
   "metadata": {},
   "source": [
    "Important!\n",
    "\n",
    "As updating `Fastdb.dbprint` with exec will send the updated src to the class `Fastdb` in `g`, the newly created `dbprint` in locals() is actually NoneType.\n",
    "\n",
    "Luckily, we still got `fdb.orisrc` which keep the original `Fastdb.dbprint` for us.\n",
    "\n",
    "So, we can run `Fastdb.dbprint = fdb.orisrc` to get `Fastdb.dbprint` back to normal"
   ]
  },
  {
   "cell_type": "code",
   "execution_count": null,
   "id": "036ccab4",
   "metadata": {},
   "outputs": [
    {
     "data": {
      "text/plain": [
       "True"
      ]
     },
     "execution_count": null,
     "metadata": {},
     "output_type": "execute_result"
    }
   ],
   "source": [
    "inspect.getsourcefile(Fastdb.dbprint) == '<string>' # Fastdb.dbprint has its source code file no more"
   ]
  },
  {
   "cell_type": "code",
   "execution_count": null,
   "id": "c619187c",
   "metadata": {},
   "outputs": [
    {
     "data": {
      "text/plain": [
       "False"
      ]
     },
     "execution_count": null,
     "metadata": {},
     "output_type": "execute_result"
    }
   ],
   "source": [
    "inspect.getsourcefile(Fastdb) == '<string>' # Fastdb still has its source code file"
   ]
  },
  {
   "cell_type": "code",
   "execution_count": null,
   "id": "88b3a14d",
   "metadata": {},
   "outputs": [
    {
     "data": {
      "text/plain": [
       "False"
      ]
     },
     "execution_count": null,
     "metadata": {},
     "output_type": "execute_result"
    }
   ],
   "source": [
    "inspect.getsourcefile(Fastdb.print) == '<string>' # Fastdb.print still has its source code file"
   ]
  },
  {
   "cell_type": "code",
   "execution_count": null,
   "id": "cb9e952e",
   "metadata": {},
   "outputs": [
    {
     "data": {
      "text/plain": [
       "True"
      ]
     },
     "execution_count": null,
     "metadata": {},
     "output_type": "execute_result"
    }
   ],
   "source": [
    "inspect.getsourcefile(fdb.dbprint) == '<string>' "
   ]
  },
  {
   "cell_type": "code",
   "execution_count": null,
   "id": "71012e9b",
   "metadata": {},
   "outputs": [
    {
     "data": {
      "text/plain": [
       "False"
      ]
     },
     "execution_count": null,
     "metadata": {},
     "output_type": "execute_result"
    }
   ],
   "source": [
    "Fastdb.dbprint is fdb.orisrc # no longer the same object"
   ]
  },
  {
   "cell_type": "markdown",
   "id": "170684e8",
   "metadata": {},
   "source": [
    "### Make an example with new `Fastdb.dbprint`"
   ]
  },
  {
   "cell_type": "code",
   "execution_count": null,
   "id": "e141da0f",
   "metadata": {},
   "outputs": [],
   "source": [
    "from fastdebug.utils import *"
   ]
  },
  {
   "cell_type": "code",
   "execution_count": null,
   "id": "68ead44e",
   "metadata": {},
   "outputs": [],
   "source": [
    "import fastdebug.core as core"
   ]
  },
  {
   "cell_type": "code",
   "execution_count": null,
   "id": "661f1bfa",
   "metadata": {},
   "outputs": [
    {
     "data": {
      "text/plain": [
       "20"
      ]
     },
     "execution_count": null,
     "metadata": {},
     "output_type": "execute_result"
    }
   ],
   "source": [
    "gw = {}\n",
    "gw.update(whatinside.__globals__)\n",
    "len(gw)"
   ]
  },
  {
   "cell_type": "code",
   "execution_count": null,
   "id": "69e0898e",
   "metadata": {},
   "outputs": [],
   "source": [
    "# fdbw = Fastdb(whatinside, gw) # we are using the Fastdb whose .dbprint has dbprintinsert added\n",
    "fdbw = Fastdb(whatinside) # we are using the Fastdb whose .dbprint has dbprintinsert added"
   ]
  },
  {
   "cell_type": "code",
   "execution_count": null,
   "id": "61d96e6b",
   "metadata": {},
   "outputs": [
    {
     "data": {
      "text/plain": [
       "True"
      ]
     },
     "execution_count": null,
     "metadata": {},
     "output_type": "execute_result"
    }
   ],
   "source": [
    "inspect.getsourcefile(fdbw.dbprint) == '<string>' # fdbw.dbprint does not have its source code file, due to new Fastdb.dbprint"
   ]
  },
  {
   "cell_type": "code",
   "execution_count": null,
   "id": "e7f81c1e",
   "metadata": {},
   "outputs": [
    {
     "name": "stdout",
     "output_type": "stream",
     "text": [
      "def whatinside(mo, # module, e.g., `import fastcore.all as fa`, use `fa` here=============(0)       \n",
      "               dun:bool=False, # print all items in __all__===============================(1)       \n",
      "               func:bool=False, # print all user defined functions========================(2)       \n",
      "               clas:bool=False, # print all class objects=================================(3)       \n",
      "               bltin:bool=False, # print all builtin funcs or methods=====================(4)       \n",
      "               lib:bool=False, # print all the modules of the library it belongs to=======(5)       \n",
      "               cal:bool=False # print all callables=======================================(6)       \n",
      "             ): ==========================================================================(7)       \n",
      "    'Check what inside a module: `__all__`, functions, classes, builtins, and callables'==(8)       \n",
      "    dun_all = len(mo.__all__) if hasattr(mo, \"__all__\") else 0============================(9)       \n",
      "                                                                                                                                     part No.1 out of 2 parts\n"
     ]
    }
   ],
   "source": [
    "fdbw.print(10,1) # print out the original source of whatinside"
   ]
  },
  {
   "cell_type": "code",
   "execution_count": null,
   "id": "fa53a192",
   "metadata": {},
   "outputs": [
    {
     "name": "stdout",
     "output_type": "stream",
     "text": [
      "\n",
      "\n",
      "                                                                                            self.orisrc => self.orisrc : <function whatinside at 0x1102d5670>\n",
      "             ):                                                                                                                                         (7)\n",
      "    'Check what inside a module: `__all__`, functions, classes, builtins, and callables'                                                                (8)\n",
      "    dun_all = len(mo.__all__) if hasattr(mo, \"__all__\") else 0==========================================================================================(9)\n",
      "                                                                                                                                \u001b[91mcount num of funcs in __all__\u001b[0m\n",
      "    funcs = inspect.getmembers(mo, inspect.isfunction)                                                                                                  (10)\n",
      "    classes = inspect.getmembers(mo, inspect.isclass)                                                                                                   (11)\n",
      "\u001b[93mprint selected srcline with expands above\u001b[0m----------\n",
      "\u001b[93mexec on dbsrc above\u001b[0m--------------------------------\n"
     ]
    }
   ],
   "source": [
    "new = fdbw.dbprint(9, \"count num of funcs in __all__\", \"type(mo)\") \n",
    "# what does this line of code do?\n",
    "# 1. the updated .dbprint is used here\n",
    "# 2. \"self.orisrc\" to be run when fdbw.dbprint run on whatinside\n",
    "# 3. \"type(mo)\" is inserted above srcline 9 and a new whatinside srcode is activated"
   ]
  },
  {
   "cell_type": "code",
   "execution_count": null,
   "id": "684f88ff",
   "metadata": {},
   "outputs": [],
   "source": [
    "test_eq(inspect.getsourcefile(whatinside), '/Users/Natsume/Documents/fastdebug/fastdebug/utils.py')"
   ]
  },
  {
   "cell_type": "code",
   "execution_count": null,
   "id": "18e4d449",
   "metadata": {},
   "outputs": [
    {
     "name": "stdout",
     "output_type": "stream",
     "text": [
      "\n",
      "\n",
      "                                                                                                                      type(mo) => type(mo) : <class 'module'>\n",
      "fastdebug.utils has: \n",
      "3 items in its __all__, and \n",
      "121 user defined functions, \n",
      "18 classes or class objects, \n",
      "1 builtin funcs and methods, and\n",
      "142 callables.\n",
      "\n"
     ]
    }
   ],
   "source": [
    "whatinside = new # assign the upated whatinside srcode to the variable whatinside\n",
    "whatinside(core) # run the updated whatinside srcode on core as an exmaple"
   ]
  },
  {
   "cell_type": "code",
   "execution_count": null,
   "id": "28c7c556",
   "metadata": {},
   "outputs": [],
   "source": [
    "test_eq(inspect.getsourcefile(whatinside), '<string>')"
   ]
  },
  {
   "cell_type": "markdown",
   "id": "71647034",
   "metadata": {},
   "source": [
    "#### Turn Fastdb.dbprint and whatinside back to normal"
   ]
  },
  {
   "cell_type": "code",
   "execution_count": null,
   "id": "d6c129a2",
   "metadata": {},
   "outputs": [],
   "source": [
    "Fastdb.dbprint = fdb.orisrc\n",
    "whatinside = fdbw.orisrc # Important! remember to bring whatinside back to normal after each srcline exploration\n",
    "# this way we can debug other srcline of Fastdb.dbprint and whatinside from the original srcodes"
   ]
  },
  {
   "cell_type": "code",
   "execution_count": null,
   "id": "1d964b8c",
   "metadata": {},
   "outputs": [],
   "source": [
    "test_eq(inspect.getsourcefile(Fastdb.dbprint), '/Users/Natsume/Documents/fastdebug/fastdebug/core.py')"
   ]
  },
  {
   "cell_type": "code",
   "execution_count": null,
   "id": "cde7b60c",
   "metadata": {},
   "outputs": [],
   "source": [
    "test_eq(inspect.getsourcefile(whatinside), '/Users/Natsume/Documents/fastdebug/fastdebug/utils.py')"
   ]
  },
  {
   "cell_type": "code",
   "execution_count": null,
   "id": "585afae8",
   "metadata": {},
   "outputs": [],
   "source": [
    "test_eq(inspect.getsourcefile(fdb.dbprint), '/Users/Natsume/Documents/fastdebug/fastdebug/core.py')"
   ]
  },
  {
   "cell_type": "code",
   "execution_count": null,
   "id": "125de170",
   "metadata": {},
   "outputs": [],
   "source": [
    "test_eq(inspect.getsourcefile(fdbw.dbprint), '/Users/Natsume/Documents/fastdebug/fastdebug/core.py')"
   ]
  },
  {
   "cell_type": "code",
   "execution_count": null,
   "id": "1721ccec",
   "metadata": {},
   "outputs": [],
   "source": [
    "test_eq(inspect.getsourcefile(fdb.dbprint), '/Users/Natsume/Documents/fastdebug/fastdebug/core.py')"
   ]
  },
  {
   "cell_type": "code",
   "execution_count": null,
   "id": "911a5a83",
   "metadata": {},
   "outputs": [],
   "source": [
    "test_eq(inspect.getsourcefile(fdbw.dbprint), '/Users/Natsume/Documents/fastdebug/fastdebug/core.py')"
   ]
  },
  {
   "cell_type": "markdown",
   "id": "0b3c1070",
   "metadata": {},
   "source": [
    "### explore the second srcline of dbprint"
   ]
  },
  {
   "cell_type": "code",
   "execution_count": null,
   "id": "bdb428e3",
   "metadata": {},
   "outputs": [
    {
     "name": "stdout",
     "output_type": "stream",
     "text": [
      "@patch====================================================================================(0)       \n",
      "def dbprint(self:Fastdb, =================================================================(1)       \n",
      "            dbcode:int, # idx of a srcline under investigation, can only be int===========(2)       \n",
      "            cmt:str, # comment added to the srcline=======================================(3)       \n",
      "            *codes, # a list of expressions (str) you write to be evaluated above the srcline                                                           (4)\n",
      "            expand:int=2, # span 2 lines of srcode up and down from the srcline investigated                                                            (5)\n",
      "            showdbsrc:bool=False): # display dbsrc========================================(6)       \n",
      "    \"Add comment and evaluate custom (single or multi lines) expressions to any srcline of the source code \\                                            (7)\n",
      "you are investigating. Run exec on the entire srcode with added expressions (dbsrc), so that dbsrc is callable.\"                                        (8)\n",
      "                                                                                                                                                        (9)\n",
      "    src = self.orisrc=====================================================================(10) # keep original src safe\n",
      "    if type(dbcode) == int: self.cmts.update({dbcode: cmt})===============================(11)      \n",
      "                                                                                                                                                        (12)\n",
      "    printsrc(src, dbcode, cmt, expand)====================================================(13)      \n",
      "    print('{:-<60}'.format(colorize(\"print selected srcline with expands above\", color=\"y\")))                                                           (14)\n",
      "                                                                                                                                                        (15)\n",
      "    dbsrc = \"\"============================================================================(16)      \n",
      "    indent = 4============================================================================(17)      \n",
      "                                                                                                                                                        (18)\n",
      "    lst = inspect.getsource(src).split('\\n')==============================================(19)      \n",
      "                                                                                                                                     part No.1 out of 4 parts\n"
     ]
    }
   ],
   "source": [
    "fdb.print(20, 1) # we are using fdb.orisrc to print, so no dbprintinsert() will be seen."
   ]
  },
  {
   "cell_type": "code",
   "execution_count": null,
   "id": "55076925",
   "metadata": {},
   "outputs": [
    {
     "name": "stdout",
     "output_type": "stream",
     "text": [
      "                                                                                                                                                        (9)\n",
      "    src = self.orisrc                                                                                                                                   (10)\n",
      "    if type(dbcode) == int: self.cmts.update({dbcode: cmt})=============================================================================================(11)\n",
      "                                                                                                                              \u001b[91mcollect and organize cmt by idx\u001b[0m\n",
      "                                                                                                                                                        (12)\n",
      "    printsrc(src, dbcode, cmt, expand)                                                                                                                  (13)\n",
      "\u001b[93mprint selected srcline with expands above\u001b[0m----------\n",
      "\u001b[93mshowdbsrc=Start\u001b[0m------------------------------------\n",
      "@patch--------------------------------------------------------------------------------------------------------------------------------------------------(0)\n",
      "def dbprint(self:Fastdb, -------------------------------------------------------------------------------------------------------------------------------(1)\n",
      "            dbcode:int, # idx of a srcline under investigation, can only be int-------------------------------------------------------------------------(2)\n",
      "            cmt:str, # comment added to the srcline-----------------------------------------------------------------------------------------------------(3)\n",
      "            *codes, # a list of expressions (str) you write to be evaluated above the srcline-----------------------------------------------------------(4)\n",
      "            expand:int=2, # span 2 lines of srcode up and down from the srcline investigated------------------------------------------------------------(5)\n",
      "            showdbsrc:bool=False): # display dbsrc------------------------------------------------------------------------------------------------------(6)\n",
      "    \"Add comment and evaluate custom (single or multi lines) expressions to any srcline of the source code \\--------------------------------------------(7)\n",
      "you are investigating. Run exec on the entire srcode with added expressions (dbsrc), so that dbsrc is callable.\"----------------------------------------(8)\n",
      "                                                                                                                                                        (9)\n",
      "    src = self.orisrc-----------------------------------------------------------------------------------------------------------------------------------(10)\n",
      "    g = locals()----------------------------------------------------------------------------------------------------------------------------------------(11)\n",
      "    dbprintinsert(\"self.cmts\",\"dbcode\",\"cmt\",env=g)=====================================================================================================(db)\n",
      "    if type(dbcode) == int: self.cmts.update({dbcode: cmt})---------------------------------------------------------------------------------------------(13)\n",
      "                                                                                                                                                        (14)\n",
      "    printsrc(src, dbcode, cmt, expand)------------------------------------------------------------------------------------------------------------------(15)\n",
      "    print('{:-<60}'.format(colorize(\"print selected srcline with expands above\", color=\"y\")))-----------------------------------------------------------(16)\n",
      "                                                                                                                                                        (17)\n",
      "    dbsrc = \"\"------------------------------------------------------------------------------------------------------------------------------------------(18)\n",
      "    indent = 4------------------------------------------------------------------------------------------------------------------------------------------(19)\n",
      "                                                                                                                                                        (20)\n",
      "    lst = inspect.getsource(src).split('\\n')------------------------------------------------------------------------------------------------------------(21)\n",
      "    if not bool(lst[-1]): lst = lst[:-1]----------------------------------------------------------------------------------------------------------------(22)\n",
      "                                                                                                                                                        (23)\n",
      "    newlst = []-----------------------------------------------------------------------------------------------------------------------------------------(24)\n",
      "    for i in codes: # no matter whether there is \"\" or \"  \" in the front or in the middle of codes------------------------------------------------------(25)\n",
      "        if bool(i.strip()): newlst.append(i)------------------------------------------------------------------------------------------------------------(26)\n",
      "    codes = newlst--------------------------------------------------------------------------------------------------------------------------------------(27)\n",
      "                                                                                                                                                        (28)\n",
      "    srclines = \"\"---------------------------------------------------------------------------------------------------------------------------------------(29)\n",
      "    if type(dbcode) == int:-----------------------------------------------------------------------------------------------------------------------------(30)\n",
      "        srclines = lst[dbcode]--------------------------------------------------------------------------------------------------------------------------(31)\n",
      "    else:-----------------------------------------------------------------------------------------------------------------------------------------------(32)\n",
      "        raise TypeError(\"decode must be an integer.\")---------------------------------------------------------------------------------------------------(33)\n",
      "                                                                                                                                                        (34)\n",
      "    for idx, l in zip(range(len(lst)), lst):------------------------------------------------------------------------------------------------------------(35)\n",
      "                                                                                                                                                        (36)\n",
      "        if bool(l.strip()) and l.strip() in srclines and idx == dbcode:---------------------------------------------------------------------------------(37)\n",
      "                                                                                                                                                        (38)\n",
      "            if len(codes) > 0: -------------------------------------------------------------------------------------------------------------------------(39)\n",
      "                numindent = len(l) - len(l.lstrip()) # make sure indent not messed up by trailing spaces------------------------------------------------(40)\n",
      "                dbcodes = \"dbprintinsert(\"--------------------------------------------------------------------------------------------------------------(41)\n",
      "                count = 1-------------------------------------------------------------------------------------------------------------------------------(42)\n",
      "                for c in codes:-------------------------------------------------------------------------------------------------------------------------(43)\n",
      "                    if count == len(codes):-------------------------------------------------------------------------------------------------------------(44)\n",
      "                        dbcodes = dbcodes + '\"' + c + '\"' + \",\" + \"env=g\" + \")\"-------------------------------------------------------------------------(45)\n",
      "                    else:-------------------------------------------------------------------------------------------------------------------------------(46)\n",
      "                        dbcodes = dbcodes + '\"' + c + '\"' + \",\"-----------------------------------------------------------------------------------------(47)\n",
      "                    count = count + 1-------------------------------------------------------------------------------------------------------------------(48)\n",
      "                                                                                                                                                        (49)\n",
      "                dbsrc = dbsrc + \" \"*numindent + \"g = locals()\" + '\\n'-----------------------------------------------------------------------------------(50)\n",
      "                dbsrc = dbsrc + \" \"*numindent + dbcodes + '\\n'------------------------------------------------------------------------------------------(51)\n",
      "                dbsrc = dbsrc + l + '\\n'     -----------------------------------------------------------------------------------------------------------(52)\n",
      "            else:---------------------------------------------------------------------------------------------------------------------------------------(53)\n",
      "                dbsrc = dbsrc + l + '\\n'                ------------------------------------------------------------------------------------------------(54)\n",
      "                                                                                                                                                        (55)\n",
      "        elif bool(l.strip()) and idx + 1 == len(lst):---------------------------------------------------------------------------------------------------(56)\n",
      "            dbsrc = dbsrc + l---------------------------------------------------------------------------------------------------------------------------(57)\n",
      "        else: # make sure this printout is identical to the printsrc output-----------------------------------------------------------------------------(58)\n",
      "            dbsrc = dbsrc + l + '\\n'--------------------------------------------------------------------------------------------------------------------(59)\n",
      "                                                                                                                                                        (60)\n",
      "    if showdbsrc: # added to debug----------------------------------------------------------------------------------------------------------------------(61)\n",
      "        print('{:-<60}'.format(colorize(\"showdbsrc=Start\", color=\"y\")))---------------------------------------------------------------------------------(62)\n",
      "        totallen = 157----------------------------------------------------------------------------------------------------------------------------------(63)\n",
      "        lenidx = 5--------------------------------------------------------------------------------------------------------------------------------------(64)\n",
      "        dblst = dbsrc.split('\\n')-----------------------------------------------------------------------------------------------------------------------(65)\n",
      "        for idx, l in zip(range(len(dblst)), dblst):----------------------------------------------------------------------------------------------------(66)\n",
      "            lenl = len(l)-------------------------------------------------------------------------------------------------------------------------------(67)\n",
      "#             if \"dbprintinsert\" in l: -----------------------------------------------------------------------------------------------------------------(68)\n",
      "            if l.strip().startswith(\"dbprintinsert\"): --------------------------------------------------------------------------------------------------(69)\n",
      "                print(l + \"=\"*(totallen-lenl-lenidx) + \"(db)\")------------------------------------------------------------------------------------------(70)\n",
      "            elif not bool(l.strip()):-------------------------------------------------------------------------------------------------------------------(71)\n",
      "                print(l + \" \"*(totallen-lenl-lenidx) + \"(\" + str(idx) + \")\")----------------------------------------------------------------------------(72)\n",
      "            else:---------------------------------------------------------------------------------------------------------------------------------------(73)\n",
      "                print(l + \"-\"*(totallen-lenl-lenidx) + \"(\" + str(idx) + \")\")----------------------------------------------------------------------------(74)\n",
      "                                                                                                                                                        (75)\n",
      "        print(f\"locals() keys: {list(locals().keys())}\")------------------------------------------------------------------------------------------------(76)\n",
      "        names = self.orisrc.__qualname__.split('.')-----------------------------------------------------------------------------------------------------(77)\n",
      "        if len(names) == 2:-----------------------------------------------------------------------------------------------------------------------------(78)\n",
      "            clsname = names[0]--------------------------------------------------------------------------------------------------------------------------(79)\n",
      "            methodname = names[1]-----------------------------------------------------------------------------------------------------------------------(80)\n",
      "            print(f\"before exec, is {methodname} in locals(): {methodname in locals()}\")----------------------------------------------------------------(81)\n",
      "            print(f\"before exec, is {clsname} in locals(): {clsname in locals()}\")----------------------------------------------------------------------(82)\n",
      "            print(f\"before exec, is {self.orisrc.__qualname__} in locals(): {self.orisrc.__qualname__ in locals()}\")------------------------------------(83)\n",
      "            print(f\"before exec, is {methodname} in self.outenv: {methodname in self.outenv}\")----------------------------------------------------------(84)\n",
      "            print(f\"before exec, is {clsname} in self.outenv: {clsname in self.outenv}\")----------------------------------------------------------------(85)\n",
      "            print(f\"before exec, is {self.orisrc.__qualname__} in self.outenv: {self.orisrc.__qualname__ in self.outenv}\")------------------------------(86)\n",
      "            expr = \"self.outenv[\" + \"'\" + clsname + \"'].\" + methodname----------------------------------------------------------------------------------(87)\n",
      "            expr1 = \"self.outenv[\" + \"'\" + methodname + \"']\"--------------------------------------------------------------------------------------------(88)\n",
      "            print(f\"inspect.getsourcefile({expr}) == '<string>': {True if inspect.getsourcefile(eval(expr)) == '<string>' else inspect.getsourcefile(eval(expr))}\")(89)\n",
      "            print(f\"self.outenv[{methodname}]: {eval(expr1)}\")------------------------------------------------------------------------------------------(90)\n",
      "            print(f\"{self.orisrc} is {expr}: {self.orisrc is eval(expr)}\")------------------------------------------------------------------------------(91)\n",
      "    exec(dbsrc, globals().update(self.outenv)) # make sure b can access lst from above------------------------------------------------------------------(92)\n",
      "    print('{:-<60}'.format(colorize(\"exec on dbsrc above\", color=\"y\")))---------------------------------------------------------------------------------(93)\n",
      "                                                                                                                                                        (94)\n",
      "    if showdbsrc: --------------------------------------------------------------------------------------------------------------------------------------(95)\n",
      "        print(f\"locals() keys: {list(locals().keys())}\")------------------------------------------------------------------------------------------------(96)\n",
      "        if len(names) == 2:-----------------------------------------------------------------------------------------------------------------------------(97)\n",
      "            print(f\"after exec, is {methodname} in locals(): {methodname in locals()}\")-----------------------------------------------------------------(98)\n",
      "            print(f\"after exec, is {clsname} in locals(): {clsname in locals()}\")-----------------------------------------------------------------------(99)\n",
      "            print(f\"after exec, is {self.orisrc.__qualname__} in locals(): {self.orisrc.__qualname__ in locals()}\")-------------------------------------(100)\n",
      "            print(f\"after exec, is {methodname} in self.outenv: {methodname in self.outenv}\")-----------------------------------------------------------(101)\n",
      "            print(f\"after exec, is {clsname} in self.outenv: {clsname in self.outenv}\")-----------------------------------------------------------------(102)\n",
      "            print(f\"after exec, is {self.orisrc.__qualname__} in self.outenv: {self.orisrc.__qualname__ in self.outenv}\")-------------------------------(103)\n",
      "    #         print(f\"after exec, are {methodname} and {clsname} and {self.orisrc.__qualname__} in locals(): {[i in list(locals().keys()) for i in [self.orisrc.__name__, clsname, self.orisrc.__qualname__]]}\")(104)\n",
      "    #         print(f\"after exec, are {methodname} and {clsname} and {self.orisrc.__qualname__} in self.outenv(): {[i in self.outenv for i in [methodname, clsname, self.orisrc.__qualname__]]}\")(105)\n",
      "            print(f\"inspect.getsourcefile({expr}) == '<string>': {True if inspect.getsourcefile(eval(expr)) == '<string>' else inspect.getsourcefile(eval(expr))}\")(106)\n",
      "            print(f\"self.outenv[{methodname}]: {eval(expr1)}\")------------------------------------------------------------------------------------------(107)\n",
      "            print(f\"{self.orisrc} is {expr}: {self.orisrc is eval(expr)}\")            ------------------------------------------------------------------(108)\n",
      "        print(f'self.orisrc.__name__: {self.orisrc.__name__}')------------------------------------------------------------------------------------------(109)\n",
      "        print(f'locals()[self.orisrc.__name__]: {locals()[self.orisrc.__name__]}')----------------------------------------------------------------------(110)\n",
      "        print('{:-<60}'.format(colorize(\"showdbsrc=End\", color=\"y\")))-----------------------------------------------------------------------------------(111)\n",
      "                                                                                                                                                        (112)\n",
      "    return locals()[self.orisrc.__name__]---------------------------------------------------------------------------------------------------------------(113)\n",
      "locals() keys: ['self', 'dbcode', 'cmt', 'expand', 'showdbsrc', 'codes', 'src', 'dbsrc', 'indent', 'lst', 'newlst', 'i', 'srclines', 'idx', 'l', 'numindent', 'dbcodes', 'count', 'c', 'totallen', 'lenidx', 'dblst', 'lenl']\n",
      "before exec, is dbprint in locals(): False\n",
      "before exec, is Fastdb in locals(): False\n",
      "before exec, is Fastdb.dbprint in locals(): False\n",
      "before exec, is dbprint in self.outenv: True\n",
      "before exec, is Fastdb in self.outenv: True\n",
      "before exec, is Fastdb.dbprint in self.outenv: False\n",
      "inspect.getsourcefile(self.outenv['Fastdb'].dbprint) == '<string>': /Users/Natsume/Documents/fastdebug/fastdebug/core.py\n",
      "self.outenv[dbprint]: None\n",
      "<function Fastdb.dbprint at 0x110553280> is self.outenv['Fastdb'].dbprint: True\n",
      "\u001b[93mexec on dbsrc above\u001b[0m--------------------------------\n",
      "locals() keys: ['self', 'dbcode', 'cmt', 'expand', 'showdbsrc', 'codes', 'src', 'dbsrc', 'indent', 'lst', 'newlst', 'i', 'srclines', 'idx', 'l', 'numindent', 'dbcodes', 'count', 'c', 'totallen', 'lenidx', 'dblst', 'lenl', 'names', 'clsname', 'methodname', 'expr', 'expr1', 'dbprint']\n",
      "after exec, is dbprint in locals(): True\n",
      "after exec, is Fastdb in locals(): False\n",
      "after exec, is Fastdb.dbprint in locals(): False\n",
      "after exec, is dbprint in self.outenv: True\n",
      "after exec, is Fastdb in self.outenv: True\n",
      "after exec, is Fastdb.dbprint in self.outenv: False\n",
      "inspect.getsourcefile(self.outenv['Fastdb'].dbprint) == '<string>': True\n",
      "self.outenv[dbprint]: None\n",
      "<function Fastdb.dbprint at 0x110553280> is self.outenv['Fastdb'].dbprint: False\n",
      "self.orisrc.__name__: dbprint\n",
      "locals()[self.orisrc.__name__]: None\n",
      "\u001b[93mshowdbsrc=End\u001b[0m--------------------------------------\n"
     ]
    }
   ],
   "source": [
    "# this line will udpate or change Fastdb.dbprint again\n",
    "fdb.dbprint(11, \"collect and organize cmt by idx\", \"self.cmts\", \"dbcode\", \"cmt\", showdbsrc=True)\n",
    "# the codes expressions won't get run here, only added through dbprintinsert\n",
    "# however, if by accident you do run this cell again, the codes through dbprintinsert will take effect here too reasonably"
   ]
  },
  {
   "cell_type": "code",
   "execution_count": null,
   "id": "37c3f29f",
   "metadata": {},
   "outputs": [
    {
     "name": "stdout",
     "output_type": "stream",
     "text": [
      "def whatinside(mo, # module, e.g., `import fastcore.all as fa`, use `fa` here=============(0)       \n",
      "               dun:bool=False, # print all items in __all__===============================(1)       \n",
      "               func:bool=False, # print all user defined functions========================(2)       \n",
      "               clas:bool=False, # print all class objects=================================(3)       \n",
      "               bltin:bool=False, # print all builtin funcs or methods=====================(4)       \n",
      "               lib:bool=False, # print all the modules of the library it belongs to=======(5)       \n",
      "               cal:bool=False # print all callables=======================================(6)       \n",
      "             ): ==========================================================================(7)       \n",
      "    'Check what inside a module: `__all__`, functions, classes, builtins, and callables'==(8)       \n",
      "    dun_all = len(mo.__all__) if hasattr(mo, \"__all__\") else 0============================(9)       \n",
      "                                                                                                                                     part No.1 out of 2 parts\n"
     ]
    }
   ],
   "source": [
    "# no effect on these two lines below, as Fastdb.__init__ is not changed at all, only Fastdb.dbprint\n",
    "# fdbw = Fastdb(whatinside, gw)\n",
    "fdbw = Fastdb(whatinside)\n",
    "fdbw.print(10,1)\n",
    "# after running fdbw.dbprint(..), and come back to run this line, error occurs due to no source code is reasonable."
   ]
  },
  {
   "cell_type": "code",
   "execution_count": null,
   "id": "c26986bd",
   "metadata": {},
   "outputs": [
    {
     "name": "stdout",
     "output_type": "stream",
     "text": [
      "\n",
      "\n",
      "                                                                                                                                  self.cmts => self.cmts : {}\n",
      "\n",
      "\n",
      "                                                                                                                                         dbcode => dbcode : 9\n",
      "\n",
      "\n",
      "                                                                                                                   cmt => cmt : count num of funcs in __all__\n",
      "             ):                                                                                                                                         (7)\n",
      "    'Check what inside a module: `__all__`, functions, classes, builtins, and callables'                                                                (8)\n",
      "    dun_all = len(mo.__all__) if hasattr(mo, \"__all__\") else 0==========================================================================================(9)\n",
      "                                                                                                                                \u001b[91mcount num of funcs in __all__\u001b[0m\n",
      "    funcs = inspect.getmembers(mo, inspect.isfunction)                                                                                                  (10)\n",
      "    classes = inspect.getmembers(mo, inspect.isclass)                                                                                                   (11)\n",
      "\u001b[93mprint selected srcline with expands above\u001b[0m----------\n",
      "\u001b[93mexec on dbsrc above\u001b[0m--------------------------------\n"
     ]
    }
   ],
   "source": [
    "# Now the updated .dbprint will print out the codes through dbprintinsert\n",
    "new = fdbw.dbprint(9, \"count num of funcs in __all__\", \"type(mo)\")"
   ]
  },
  {
   "cell_type": "code",
   "execution_count": null,
   "id": "2b90652b",
   "metadata": {},
   "outputs": [
    {
     "name": "stdout",
     "output_type": "stream",
     "text": [
      "\n",
      "\n",
      "                                                                                                                      type(mo) => type(mo) : <class 'module'>\n",
      "fastdebug.utils has: \n",
      "3 items in its __all__, and \n",
      "122 user defined functions, \n",
      "18 classes or class objects, \n",
      "1 builtin funcs and methods, and\n",
      "143 callables.\n",
      "\n"
     ]
    }
   ],
   "source": [
    "whatinside = new\n",
    "whatinside(core)"
   ]
  },
  {
   "cell_type": "markdown",
   "id": "ecf9448d",
   "metadata": {},
   "source": [
    "#### Turn Fastdb.dbprint and whatinside back to normal"
   ]
  },
  {
   "cell_type": "code",
   "execution_count": null,
   "id": "b738e6c9",
   "metadata": {},
   "outputs": [],
   "source": [
    "Fastdb.dbprint = fdb.orisrc\n",
    "whatinside = fdbw.orisrc # Important! remember to bring whatinside back to normal after each srcline exploration"
   ]
  },
  {
   "cell_type": "markdown",
   "id": "80292300",
   "metadata": {},
   "source": [
    "### Explore the third line"
   ]
  },
  {
   "cell_type": "code",
   "execution_count": null,
   "id": "181cc33a",
   "metadata": {},
   "outputs": [
    {
     "name": "stdout",
     "output_type": "stream",
     "text": [
      "@patch====================================================================================(0)       \n",
      "def dbprint(self:Fastdb, =================================================================(1)       \n",
      "            dbcode:int, # idx of a srcline under investigation, can only be int===========(2)       \n",
      "            cmt:str, # comment added to the srcline=======================================(3)       \n",
      "            *codes, # a list of expressions (str) you write to be evaluated above the srcline                                                           (4)\n",
      "            expand:int=2, # span 2 lines of srcode up and down from the srcline investigated                                                            (5)\n",
      "            showdbsrc:bool=False): # display dbsrc========================================(6)       \n",
      "    \"Add comment and evaluate custom (single or multi lines) expressions to any srcline of the source code \\                                            (7)\n",
      "you are investigating. Run exec on the entire srcode with added expressions (dbsrc), so that dbsrc is callable.\"                                        (8)\n",
      "                                                                                                                                                        (9)\n",
      "    src = self.orisrc=====================================================================(10) # keep original src safe\n",
      "    if type(dbcode) == int: self.cmts.update({dbcode: cmt})===============================(11) # collect and organize cmt by idx\n",
      "                                                                                                                                                        (12)\n",
      "    printsrc(src, dbcode, cmt, expand)====================================================(13)      \n",
      "    print('{:-<60}'.format(colorize(\"print selected srcline with expands above\", color=\"y\")))                                                           (14)\n",
      "                                                                                                                                                        (15)\n",
      "    dbsrc = \"\"============================================================================(16)      \n",
      "    indent = 4============================================================================(17)      \n",
      "                                                                                                                                                        (18)\n",
      "    lst = inspect.getsource(src).split('\\n')==============================================(19)      \n",
      "                                                                                                                                     part No.1 out of 4 parts\n"
     ]
    }
   ],
   "source": [
    "fdb.print(20, 1)"
   ]
  },
  {
   "cell_type": "code",
   "execution_count": null,
   "id": "f5b4eebd",
   "metadata": {},
   "outputs": [
    {
     "name": "stdout",
     "output_type": "stream",
     "text": [
      "    if type(dbcode) == int: self.cmts.update({dbcode: cmt})                                                                                             (11)\n",
      "                                                                                                                                                        (12)\n",
      "    printsrc(src, dbcode, cmt, expand)==================================================================================================================(13)\n",
      "                                                                                                         \u001b[91mprint srcdoe with comment, idx and specified expands\u001b[0m\n",
      "    print('{:-<60}'.format(colorize(\"print selected srcline with expands above\", color=\"y\")))                                                           (14)\n",
      "                                                                                                                                                        (15)\n",
      "\u001b[93mprint selected srcline with expands above\u001b[0m----------\n",
      "\u001b[93mexec on dbsrc above\u001b[0m--------------------------------\n",
      "\n",
      "\n",
      "                   inspect.getdoc(printsrc) => inspect.getdoc(printsrc) : print the seleted srcline with comment, idx and specified num of expanding srclines\n",
      "             ):                                                                                                                                         (7)\n",
      "    'Check what inside a module: `__all__`, functions, classes, builtins, and callables'                                                                (8)\n",
      "    dun_all = len(mo.__all__) if hasattr(mo, \"__all__\") else 0==========================================================================================(9)\n",
      "                                                                                                                                \u001b[91mcount num of funcs in __all__\u001b[0m\n",
      "    funcs = inspect.getmembers(mo, inspect.isfunction)                                                                                                  (10)\n",
      "    classes = inspect.getmembers(mo, inspect.isclass)                                                                                                   (11)\n",
      "\u001b[93mprint selected srcline with expands above\u001b[0m----------\n",
      "\u001b[93mexec on dbsrc above\u001b[0m--------------------------------\n",
      "\n",
      "\n",
      "                                                                                                                      type(mo) => type(mo) : <class 'module'>\n",
      "fastdebug.utils has: \n",
      "3 items in its __all__, and \n",
      "122 user defined functions, \n",
      "18 classes or class objects, \n",
      "1 builtin funcs and methods, and\n",
      "143 callables.\n",
      "\n"
     ]
    }
   ],
   "source": [
    "# update a new Fastdb.dbprint\n",
    "fdb.dbprint(13, \"print srcdoe with comment, idx and specified expands\", \"inspect.getdoc(printsrc)\")\n",
    "# creating a new db object on whatinside with new Fastdb.dbprint\n",
    "# fdbw = Fastdb(whatinside, gw)\n",
    "fdbw = Fastdb(whatinside)\n",
    "# fdbw.print(10, 1)\n",
    "# we are still debuggin the same line in whatinside\n",
    "new = fdbw.dbprint(9, \"count num of funcs in __all__\", \"type(mo)\")\n",
    "whatinside = new\n",
    "whatinside(core)\n",
    "# Turn Fastdb.dbprint and whatinside back to normal\n",
    "Fastdb.dbprint = fdb.orisrc\n",
    "whatinside = fdbw.orisrc # Important! remember to bring whatinside back to normal after each srcline exploration"
   ]
  },
  {
   "cell_type": "code",
   "execution_count": null,
   "id": "bb7d28c9",
   "metadata": {},
   "outputs": [],
   "source": []
  },
  {
   "cell_type": "markdown",
   "id": "be5b0a02",
   "metadata": {},
   "source": [
    "### Explore the fourth line"
   ]
  },
  {
   "cell_type": "code",
   "execution_count": null,
   "id": "0936657b",
   "metadata": {},
   "outputs": [
    {
     "name": "stdout",
     "output_type": "stream",
     "text": [
      "@patch====================================================================================(0)       \n",
      "def dbprint(self:Fastdb, =================================================================(1)       \n",
      "            dbcode:int, # idx of a srcline under investigation, can only be int===========(2)       \n",
      "            cmt:str, # comment added to the srcline=======================================(3)       \n",
      "            *codes, # a list of expressions (str) you write to be evaluated above the srcline                                                           (4)\n",
      "            expand:int=2, # span 2 lines of srcode up and down from the srcline investigated                                                            (5)\n",
      "            showdbsrc:bool=False): # display dbsrc========================================(6)       \n",
      "    \"Add comment and evaluate custom (single or multi lines) expressions to any srcline of the source code \\                                            (7)\n",
      "you are investigating. Run exec on the entire srcode with added expressions (dbsrc), so that dbsrc is callable.\"                                        (8)\n",
      "                                                                                                                                                        (9)\n",
      "    src = self.orisrc=====================================================================(10) # keep original src safe\n",
      "    if type(dbcode) == int: self.cmts.update({dbcode: cmt})===============================(11) # collect and organize cmt by idx\n",
      "                                                                                                                                                        (12)\n",
      "    printsrc(src, dbcode, cmt, expand)====================================================(13) # print srcdoe with comment, idx and specified expands\n",
      "    print('{:-<60}'.format(colorize(\"print selected srcline with expands above\", color=\"y\")))                                                           (14)\n",
      "                                                                                                                                                        (15)\n",
      "    dbsrc = \"\"============================================================================(16)      \n",
      "    indent = 4============================================================================(17)      \n",
      "                                                                                                                                                        (18)\n",
      "    lst = inspect.getsource(src).split('\\n')==============================================(19)      \n",
      "    if not bool(lst[-1]): lst = lst[:-1]==================================================(20)      \n",
      "                                                                                                                                                        (21)\n",
      "    newlst = []===========================================================================(22)      \n",
      "    for i in codes: # no matter whether there is \"\" or \"  \" in the front or in the middle of codes                                                      (23)\n",
      "        if bool(i.strip()): newlst.append(i)==============================================(24)      \n",
      "    codes = newlst========================================================================(25)      \n",
      "                                                                                                                                                        (26)\n",
      "    srclines = \"\"=========================================================================(27)      \n",
      "    if type(dbcode) == int:===============================================================(28)      \n",
      "        srclines = lst[dbcode]============================================================(29)      \n",
      "    else:=================================================================================(30)      \n",
      "        raise TypeError(\"decode must be an integer.\")=====================================(31)      \n",
      "                                                                                                                                                        (32)\n",
      "                                                                                                                                     part No.1 out of 4 parts\n"
     ]
    }
   ],
   "source": [
    "fdb.print(33, 1)"
   ]
  },
  {
   "cell_type": "code",
   "execution_count": null,
   "id": "80ebad5a",
   "metadata": {},
   "outputs": [
    {
     "name": "stdout",
     "output_type": "stream",
     "text": [
      "    indent = 4                                                                                                                                          (17)\n",
      "                                                                                                                                                        (18)\n",
      "    lst = inspect.getsource(src).split('\\n')============================================================================================================(19)\n",
      "                                                                                                                      \u001b[91mremove the last line of srcode if empty\u001b[0m\n",
      "    if not bool(lst[-1]): lst = lst[:-1]                                                                                                                (20)\n",
      "                                                                                                                                                        (21)\n",
      "\u001b[93mprint selected srcline with expands above\u001b[0m----------\n",
      "\u001b[93mexec on dbsrc above\u001b[0m--------------------------------\n",
      "             ):                                                                                                                                         (7)\n",
      "    'Check what inside a module: `__all__`, functions, classes, builtins, and callables'                                                                (8)\n",
      "    dun_all = len(mo.__all__) if hasattr(mo, \"__all__\") else 0==========================================================================================(9)\n",
      "                                                                                                                                \u001b[91mcount num of funcs in __all__\u001b[0m\n",
      "    funcs = inspect.getmembers(mo, inspect.isfunction)                                                                                                  (10)\n",
      "    classes = inspect.getmembers(mo, inspect.isclass)                                                                                                   (11)\n",
      "\u001b[93mprint selected srcline with expands above\u001b[0m----------\n",
      "\u001b[93mexec on dbsrc above\u001b[0m--------------------------------\n",
      "\n",
      "\n",
      "                                                                                                                      type(mo) => type(mo) : <class 'module'>\n",
      "fastdebug.utils has: \n",
      "3 items in its __all__, and \n",
      "122 user defined functions, \n",
      "18 classes or class objects, \n",
      "1 builtin funcs and methods, and\n",
      "143 callables.\n",
      "\n"
     ]
    }
   ],
   "source": [
    "# update a new Fastdb.dbprint\n",
    "fdb.dbprint(19, \"remove the last line of srcode if empty\")\n",
    "# creating a db object on whatinside with new Fastdb.dbprint\n",
    "# fdbw = Fastdb(whatinside, gw)\n",
    "fdbw = Fastdb(whatinside)\n",
    "# fdbw.print(10, 1)\n",
    "# we are still debuggin the same line in whatinside\n",
    "new = fdbw.dbprint(9, \"count num of funcs in __all__\", \"type(mo)\")\n",
    "whatinside = new\n",
    "whatinside(core)\n",
    "# Turn Fastdb.dbprint and whatinside back to normal\n",
    "Fastdb.dbprint = fdb.orisrc\n",
    "whatinside = fdbw.orisrc # Important! remember to bring whatinside back to normal after each srcline exploration"
   ]
  },
  {
   "cell_type": "code",
   "execution_count": null,
   "id": "9df01fa5",
   "metadata": {},
   "outputs": [],
   "source": []
  },
  {
   "cell_type": "markdown",
   "id": "05a8346a",
   "metadata": {},
   "source": [
    "### Explore the fifth line"
   ]
  },
  {
   "cell_type": "code",
   "execution_count": null,
   "id": "a0249cca",
   "metadata": {},
   "outputs": [
    {
     "name": "stdout",
     "output_type": "stream",
     "text": [
      "@patch====================================================================================(0)       \n",
      "def dbprint(self:Fastdb, =================================================================(1)       \n",
      "            dbcode:int, # idx of a srcline under investigation, can only be int===========(2)       \n",
      "            cmt:str, # comment added to the srcline=======================================(3)       \n",
      "            *codes, # a list of expressions (str) you write to be evaluated above the srcline                                                           (4)\n",
      "            expand:int=2, # span 2 lines of srcode up and down from the srcline investigated                                                            (5)\n",
      "            showdbsrc:bool=False): # display dbsrc========================================(6)       \n",
      "    \"Add comment and evaluate custom (single or multi lines) expressions to any srcline of the source code \\                                            (7)\n",
      "you are investigating. Run exec on the entire srcode with added expressions (dbsrc), so that dbsrc is callable.\"                                        (8)\n",
      "                                                                                                                                                        (9)\n",
      "    src = self.orisrc=====================================================================(10) # keep original src safe\n",
      "    if type(dbcode) == int: self.cmts.update({dbcode: cmt})===============================(11) # collect and organize cmt by idx\n",
      "                                                                                                                                                        (12)\n",
      "    printsrc(src, dbcode, cmt, expand)====================================================(13) # print srcdoe with comment, idx and specified expands\n",
      "    print('{:-<60}'.format(colorize(\"print selected srcline with expands above\", color=\"y\")))                                                           (14)\n",
      "                                                                                                                                                        (15)\n",
      "    dbsrc = \"\"============================================================================(16)      \n",
      "    indent = 4============================================================================(17)      \n",
      "                                                                                                                                                        (18)\n",
      "    lst = inspect.getsource(src).split('\\n')==============================================(19) # remove the last line of srcode if empty\n",
      "    if not bool(lst[-1]): lst = lst[:-1]==================================================(20)      \n",
      "                                                                                                                                                        (21)\n",
      "    newlst = []===========================================================================(22)      \n",
      "    for i in codes: # no matter whether there is \"\" or \"  \" in the front or in the middle of codes                                                      (23)\n",
      "        if bool(i.strip()): newlst.append(i)==============================================(24)      \n",
      "    codes = newlst========================================================================(25)      \n",
      "                                                                                                                                                        (26)\n",
      "    srclines = \"\"=========================================================================(27)      \n",
      "    if type(dbcode) == int:===============================================================(28)      \n",
      "        srclines = lst[dbcode]============================================================(29)      \n",
      "    else:=================================================================================(30)      \n",
      "        raise TypeError(\"decode must be an integer.\")=====================================(31)      \n",
      "                                                                                                                                                        (32)\n",
      "                                                                                                                                     part No.1 out of 4 parts\n"
     ]
    }
   ],
   "source": [
    "fdb.print(33, 1)"
   ]
  },
  {
   "cell_type": "code",
   "execution_count": null,
   "id": "463b9bb5",
   "metadata": {},
   "outputs": [
    {
     "name": "stdout",
     "output_type": "stream",
     "text": [
      "    if not bool(lst[-1]): lst = lst[:-1]                                                                                                                (20)\n",
      "                                                                                                                                                        (21)\n",
      "    newlst = []=========================================================================================================================================(22)\n",
      "                                                                                                                           \u001b[91mempty strings as codes are ignored\u001b[0m\n",
      "    for i in codes: # no matter whether there is \"\" or \"  \" in the front or in the middle of codes                                                      (23)\n",
      "        if bool(i.strip()): newlst.append(i)                                                                                                            (24)\n",
      "\u001b[93mprint selected srcline with expands above\u001b[0m----------\n",
      "\u001b[93mexec on dbsrc above\u001b[0m--------------------------------\n",
      "             ):                                                                                                                                         (7)\n",
      "    'Check what inside a module: `__all__`, functions, classes, builtins, and callables'                                                                (8)\n",
      "    dun_all = len(mo.__all__) if hasattr(mo, \"__all__\") else 0==========================================================================================(9)\n",
      "                                                                                                                                \u001b[91mcount num of funcs in __all__\u001b[0m\n",
      "    funcs = inspect.getmembers(mo, inspect.isfunction)                                                                                                  (10)\n",
      "    classes = inspect.getmembers(mo, inspect.isclass)                                                                                                   (11)\n",
      "\u001b[93mprint selected srcline with expands above\u001b[0m----------\n",
      "\u001b[93mexec on dbsrc above\u001b[0m--------------------------------\n",
      "\n",
      "\n",
      "                                                                                                                      type(mo) => type(mo) : <class 'module'>\n",
      "fastdebug.utils has: \n",
      "3 items in its __all__, and \n",
      "122 user defined functions, \n",
      "18 classes or class objects, \n",
      "1 builtin funcs and methods, and\n",
      "143 callables.\n",
      "\n"
     ]
    }
   ],
   "source": [
    "# update a new Fastdb.dbprint\n",
    "fdb.dbprint(22, \"empty strings as codes are ignored\")\n",
    "# creating a db object on whatinside with new Fastdb.dbprint\n",
    "# fdbw = Fastdb(whatinside, gw)\n",
    "fdbw = Fastdb(whatinside)\n",
    "# fdbw.print(10, 1)\n",
    "# we are still debuggin the same line in whatinside\n",
    "new = fdbw.dbprint(9, \"count num of funcs in __all__\", \"type(mo)\")\n",
    "whatinside = new\n",
    "whatinside(core)\n",
    "# Turn Fastdb.dbprint and whatinside back to normal\n",
    "Fastdb.dbprint = fdb.orisrc\n",
    "whatinside = fdbw.orisrc # Important! remember to bring whatinside back to normal after each srcline exploration"
   ]
  },
  {
   "cell_type": "code",
   "execution_count": null,
   "id": "aee451e6",
   "metadata": {},
   "outputs": [],
   "source": []
  },
  {
   "cell_type": "markdown",
   "id": "4a945119",
   "metadata": {},
   "source": [
    "### Explore the 6th line"
   ]
  },
  {
   "cell_type": "code",
   "execution_count": null,
   "id": "e04d4173",
   "metadata": {},
   "outputs": [
    {
     "name": "stdout",
     "output_type": "stream",
     "text": [
      "@patch====================================================================================(0)       \n",
      "def dbprint(self:Fastdb, =================================================================(1)       \n",
      "            dbcode:int, # idx of a srcline under investigation, can only be int===========(2)       \n",
      "            cmt:str, # comment added to the srcline=======================================(3)       \n",
      "            *codes, # a list of expressions (str) you write to be evaluated above the srcline                                                           (4)\n",
      "            expand:int=2, # span 2 lines of srcode up and down from the srcline investigated                                                            (5)\n",
      "            showdbsrc:bool=False): # display dbsrc========================================(6)       \n",
      "    \"Add comment and evaluate custom (single or multi lines) expressions to any srcline of the source code \\                                            (7)\n",
      "you are investigating. Run exec on the entire srcode with added expressions (dbsrc), so that dbsrc is callable.\"                                        (8)\n",
      "                                                                                                                                                        (9)\n",
      "    src = self.orisrc=====================================================================(10) # keep original src safe\n",
      "    if type(dbcode) == int: self.cmts.update({dbcode: cmt})===============================(11) # collect and organize cmt by idx\n",
      "                                                                                                                                                        (12)\n",
      "    printsrc(src, dbcode, cmt, expand)====================================================(13) # print srcdoe with comment, idx and specified expands\n",
      "    print('{:-<60}'.format(colorize(\"print selected srcline with expands above\", color=\"y\")))                                                           (14)\n",
      "                                                                                                                                                        (15)\n",
      "    dbsrc = \"\"============================================================================(16)      \n",
      "    indent = 4============================================================================(17)      \n",
      "                                                                                                                                                        (18)\n",
      "    lst = inspect.getsource(src).split('\\n')==============================================(19) # remove the last line of srcode if empty\n",
      "    if not bool(lst[-1]): lst = lst[:-1]==================================================(20)      \n",
      "                                                                                                                                                        (21)\n",
      "    newlst = []===========================================================================(22) # empty strings as codes are ignored\n",
      "    for i in codes: # no matter whether there is \"\" or \"  \" in the front or in the middle of codes                                                      (23)\n",
      "        if bool(i.strip()): newlst.append(i)==============================================(24)      \n",
      "    codes = newlst========================================================================(25)      \n",
      "                                                                                                                                                        (26)\n",
      "    srclines = \"\"=========================================================================(27)      \n",
      "    if type(dbcode) == int:===============================================================(28)      \n",
      "        srclines = lst[dbcode]============================================================(29)      \n",
      "    else:=================================================================================(30)      \n",
      "        raise TypeError(\"decode must be an integer.\")=====================================(31)      \n",
      "                                                                                                                                                        (32)\n",
      "                                                                                                                                     part No.1 out of 4 parts\n"
     ]
    }
   ],
   "source": [
    "fdb.print(33, 1)"
   ]
  },
  {
   "cell_type": "code",
   "execution_count": null,
   "id": "e97e4116",
   "metadata": {},
   "outputs": [
    {
     "name": "stdout",
     "output_type": "stream",
     "text": [
      "    codes = newlst                                                                                                                                      (25)\n",
      "                                                                                                                                                        (26)\n",
      "    srclines = \"\"=======================================================================================================================================(27)\n",
      "                                                                                       \u001b[91mturn decode or idx into srcline string and raise type error if not int\u001b[0m\n",
      "    if type(dbcode) == int:                                                                                                                             (28)\n",
      "        srclines = lst[dbcode]                                                                                                                          (29)\n",
      "\u001b[93mprint selected srcline with expands above\u001b[0m----------\n",
      "\u001b[93mshowdbsrc=Start\u001b[0m------------------------------------\n",
      "@patch--------------------------------------------------------------------------------------------------------------------------------------------------(0)\n",
      "def dbprint(self:Fastdb, -------------------------------------------------------------------------------------------------------------------------------(1)\n",
      "            dbcode:int, # idx of a srcline under investigation, can only be int-------------------------------------------------------------------------(2)\n",
      "            cmt:str, # comment added to the srcline-----------------------------------------------------------------------------------------------------(3)\n",
      "            *codes, # a list of expressions (str) you write to be evaluated above the srcline-----------------------------------------------------------(4)\n",
      "            expand:int=2, # span 2 lines of srcode up and down from the srcline investigated------------------------------------------------------------(5)\n",
      "            showdbsrc:bool=False): # display dbsrc------------------------------------------------------------------------------------------------------(6)\n",
      "    \"Add comment and evaluate custom (single or multi lines) expressions to any srcline of the source code \\--------------------------------------------(7)\n",
      "you are investigating. Run exec on the entire srcode with added expressions (dbsrc), so that dbsrc is callable.\"----------------------------------------(8)\n",
      "                                                                                                                                                        (9)\n",
      "    src = self.orisrc-----------------------------------------------------------------------------------------------------------------------------------(10)\n",
      "    if type(dbcode) == int: self.cmts.update({dbcode: cmt})---------------------------------------------------------------------------------------------(11)\n",
      "                                                                                                                                                        (12)\n",
      "    printsrc(src, dbcode, cmt, expand)------------------------------------------------------------------------------------------------------------------(13)\n",
      "    print('{:-<60}'.format(colorize(\"print selected srcline with expands above\", color=\"y\")))-----------------------------------------------------------(14)\n",
      "                                                                                                                                                        (15)\n",
      "    dbsrc = \"\"------------------------------------------------------------------------------------------------------------------------------------------(16)\n",
      "    indent = 4------------------------------------------------------------------------------------------------------------------------------------------(17)\n",
      "                                                                                                                                                        (18)\n",
      "    lst = inspect.getsource(src).split('\\n')------------------------------------------------------------------------------------------------------------(19)\n",
      "    if not bool(lst[-1]): lst = lst[:-1]----------------------------------------------------------------------------------------------------------------(20)\n",
      "                                                                                                                                                        (21)\n",
      "    newlst = []-----------------------------------------------------------------------------------------------------------------------------------------(22)\n",
      "    for i in codes: # no matter whether there is \"\" or \"  \" in the front or in the middle of codes------------------------------------------------------(23)\n",
      "        if bool(i.strip()): newlst.append(i)------------------------------------------------------------------------------------------------------------(24)\n",
      "    codes = newlst--------------------------------------------------------------------------------------------------------------------------------------(25)\n",
      "                                                                                                                                                        (26)\n",
      "    srclines = \"\"---------------------------------------------------------------------------------------------------------------------------------------(27)\n",
      "    if type(dbcode) == int:-----------------------------------------------------------------------------------------------------------------------------(28)\n",
      "        srclines = lst[dbcode]--------------------------------------------------------------------------------------------------------------------------(29)\n",
      "    else:-----------------------------------------------------------------------------------------------------------------------------------------------(30)\n",
      "        raise TypeError(\"decode must be an integer.\")---------------------------------------------------------------------------------------------------(31)\n",
      "                                                                                                                                                        (32)\n",
      "    for idx, l in zip(range(len(lst)), lst):------------------------------------------------------------------------------------------------------------(33)\n",
      "                                                                                                                                                        (34)\n",
      "        if bool(l.strip()) and l.strip() in srclines and idx == dbcode:---------------------------------------------------------------------------------(35)\n",
      "                                                                                                                                                        (36)\n",
      "            if len(codes) > 0: -------------------------------------------------------------------------------------------------------------------------(37)\n",
      "                numindent = len(l) - len(l.lstrip()) # make sure indent not messed up by trailing spaces------------------------------------------------(38)\n",
      "                dbcodes = \"dbprintinsert(\"--------------------------------------------------------------------------------------------------------------(39)\n",
      "                count = 1-------------------------------------------------------------------------------------------------------------------------------(40)\n",
      "                for c in codes:-------------------------------------------------------------------------------------------------------------------------(41)\n",
      "                    if count == len(codes):-------------------------------------------------------------------------------------------------------------(42)\n",
      "                        dbcodes = dbcodes + '\"' + c + '\"' + \",\" + \"env=g\" + \")\"-------------------------------------------------------------------------(43)\n",
      "                    else:-------------------------------------------------------------------------------------------------------------------------------(44)\n",
      "                        dbcodes = dbcodes + '\"' + c + '\"' + \",\"-----------------------------------------------------------------------------------------(45)\n",
      "                    count = count + 1-------------------------------------------------------------------------------------------------------------------(46)\n",
      "                                                                                                                                                        (47)\n",
      "                dbsrc = dbsrc + \" \"*numindent + \"g = locals()\" + '\\n'-----------------------------------------------------------------------------------(48)\n",
      "                dbsrc = dbsrc + \" \"*numindent + dbcodes + '\\n'------------------------------------------------------------------------------------------(49)\n",
      "                dbsrc = dbsrc + l + '\\n'     -----------------------------------------------------------------------------------------------------------(50)\n",
      "            else:---------------------------------------------------------------------------------------------------------------------------------------(51)\n",
      "                dbsrc = dbsrc + l + '\\n'                ------------------------------------------------------------------------------------------------(52)\n",
      "                                                                                                                                                        (53)\n",
      "        elif bool(l.strip()) and idx + 1 == len(lst):---------------------------------------------------------------------------------------------------(54)\n",
      "            dbsrc = dbsrc + l---------------------------------------------------------------------------------------------------------------------------(55)\n",
      "        else: # make sure this printout is identical to the printsrc output-----------------------------------------------------------------------------(56)\n",
      "            dbsrc = dbsrc + l + '\\n'--------------------------------------------------------------------------------------------------------------------(57)\n",
      "                                                                                                                                                        (58)\n",
      "    if showdbsrc: # added to debug----------------------------------------------------------------------------------------------------------------------(59)\n",
      "        print('{:-<60}'.format(colorize(\"showdbsrc=Start\", color=\"y\")))---------------------------------------------------------------------------------(60)\n",
      "        totallen = 157----------------------------------------------------------------------------------------------------------------------------------(61)\n",
      "        lenidx = 5--------------------------------------------------------------------------------------------------------------------------------------(62)\n",
      "        dblst = dbsrc.split('\\n')-----------------------------------------------------------------------------------------------------------------------(63)\n",
      "        for idx, l in zip(range(len(dblst)), dblst):----------------------------------------------------------------------------------------------------(64)\n",
      "            lenl = len(l)-------------------------------------------------------------------------------------------------------------------------------(65)\n",
      "#             if \"dbprintinsert\" in l: -----------------------------------------------------------------------------------------------------------------(66)\n",
      "            if l.strip().startswith(\"dbprintinsert\"): --------------------------------------------------------------------------------------------------(67)\n",
      "                print(l + \"=\"*(totallen-lenl-lenidx) + \"(db)\")------------------------------------------------------------------------------------------(68)\n",
      "            elif not bool(l.strip()):-------------------------------------------------------------------------------------------------------------------(69)\n",
      "                print(l + \" \"*(totallen-lenl-lenidx) + \"(\" + str(idx) + \")\")----------------------------------------------------------------------------(70)\n",
      "            else:---------------------------------------------------------------------------------------------------------------------------------------(71)\n",
      "                print(l + \"-\"*(totallen-lenl-lenidx) + \"(\" + str(idx) + \")\")----------------------------------------------------------------------------(72)\n",
      "                                                                                                                                                        (73)\n",
      "        print(f\"locals() keys: {list(locals().keys())}\")------------------------------------------------------------------------------------------------(74)\n",
      "        names = self.orisrc.__qualname__.split('.')-----------------------------------------------------------------------------------------------------(75)\n",
      "        if len(names) == 2:-----------------------------------------------------------------------------------------------------------------------------(76)\n",
      "            clsname = names[0]--------------------------------------------------------------------------------------------------------------------------(77)\n",
      "            methodname = names[1]-----------------------------------------------------------------------------------------------------------------------(78)\n",
      "            print(f\"before exec, is {methodname} in locals(): {methodname in locals()}\")----------------------------------------------------------------(79)\n",
      "            print(f\"before exec, is {clsname} in locals(): {clsname in locals()}\")----------------------------------------------------------------------(80)\n",
      "            print(f\"before exec, is {self.orisrc.__qualname__} in locals(): {self.orisrc.__qualname__ in locals()}\")------------------------------------(81)\n",
      "            print(f\"before exec, is {methodname} in self.outenv: {methodname in self.outenv}\")----------------------------------------------------------(82)\n",
      "            print(f\"before exec, is {clsname} in self.outenv: {clsname in self.outenv}\")----------------------------------------------------------------(83)\n",
      "            print(f\"before exec, is {self.orisrc.__qualname__} in self.outenv: {self.orisrc.__qualname__ in self.outenv}\")------------------------------(84)\n",
      "            expr = \"self.outenv[\" + \"'\" + clsname + \"'].\" + methodname----------------------------------------------------------------------------------(85)\n",
      "            expr1 = \"self.outenv[\" + \"'\" + methodname + \"']\"--------------------------------------------------------------------------------------------(86)\n",
      "            print(f\"inspect.getsourcefile({expr}) == '<string>': {True if inspect.getsourcefile(eval(expr)) == '<string>' else inspect.getsourcefile(eval(expr))}\")(87)\n",
      "            print(f\"self.outenv[{methodname}]: {eval(expr1)}\")------------------------------------------------------------------------------------------(88)\n",
      "            print(f\"{self.orisrc} is {expr}: {self.orisrc is eval(expr)}\")------------------------------------------------------------------------------(89)\n",
      "    exec(dbsrc, globals().update(self.outenv)) # make sure b can access lst from above------------------------------------------------------------------(90)\n",
      "    print('{:-<60}'.format(colorize(\"exec on dbsrc above\", color=\"y\")))---------------------------------------------------------------------------------(91)\n",
      "                                                                                                                                                        (92)\n",
      "    if showdbsrc: --------------------------------------------------------------------------------------------------------------------------------------(93)\n",
      "        print(f\"locals() keys: {list(locals().keys())}\")------------------------------------------------------------------------------------------------(94)\n",
      "        if len(names) == 2:-----------------------------------------------------------------------------------------------------------------------------(95)\n",
      "            print(f\"after exec, is {methodname} in locals(): {methodname in locals()}\")-----------------------------------------------------------------(96)\n",
      "            print(f\"after exec, is {clsname} in locals(): {clsname in locals()}\")-----------------------------------------------------------------------(97)\n",
      "            print(f\"after exec, is {self.orisrc.__qualname__} in locals(): {self.orisrc.__qualname__ in locals()}\")-------------------------------------(98)\n",
      "            print(f\"after exec, is {methodname} in self.outenv: {methodname in self.outenv}\")-----------------------------------------------------------(99)\n",
      "            print(f\"after exec, is {clsname} in self.outenv: {clsname in self.outenv}\")-----------------------------------------------------------------(100)\n",
      "            print(f\"after exec, is {self.orisrc.__qualname__} in self.outenv: {self.orisrc.__qualname__ in self.outenv}\")-------------------------------(101)\n",
      "    #         print(f\"after exec, are {methodname} and {clsname} and {self.orisrc.__qualname__} in locals(): {[i in list(locals().keys()) for i in [self.orisrc.__name__, clsname, self.orisrc.__qualname__]]}\")(102)\n",
      "    #         print(f\"after exec, are {methodname} and {clsname} and {self.orisrc.__qualname__} in self.outenv(): {[i in self.outenv for i in [methodname, clsname, self.orisrc.__qualname__]]}\")(103)\n",
      "            print(f\"inspect.getsourcefile({expr}) == '<string>': {True if inspect.getsourcefile(eval(expr)) == '<string>' else inspect.getsourcefile(eval(expr))}\")(104)\n",
      "            print(f\"self.outenv[{methodname}]: {eval(expr1)}\")------------------------------------------------------------------------------------------(105)\n",
      "            print(f\"{self.orisrc} is {expr}: {self.orisrc is eval(expr)}\")            ------------------------------------------------------------------(106)\n",
      "        print(f'self.orisrc.__name__: {self.orisrc.__name__}')------------------------------------------------------------------------------------------(107)\n",
      "        print(f'locals()[self.orisrc.__name__]: {locals()[self.orisrc.__name__]}')----------------------------------------------------------------------(108)\n",
      "        print('{:-<60}'.format(colorize(\"showdbsrc=End\", color=\"y\")))-----------------------------------------------------------------------------------(109)\n",
      "                                                                                                                                                        (110)\n",
      "    return locals()[self.orisrc.__name__]---------------------------------------------------------------------------------------------------------------(111)\n",
      "locals() keys: ['self', 'dbcode', 'cmt', 'expand', 'showdbsrc', 'codes', 'src', 'dbsrc', 'indent', 'lst', 'newlst', 'srclines', 'idx', 'l', 'totallen', 'lenidx', 'dblst', 'lenl']\n",
      "before exec, is dbprint in locals(): False\n",
      "before exec, is Fastdb in locals(): False\n",
      "before exec, is Fastdb.dbprint in locals(): False\n",
      "before exec, is dbprint in self.outenv: True\n",
      "before exec, is Fastdb in self.outenv: True\n",
      "before exec, is Fastdb.dbprint in self.outenv: False\n",
      "inspect.getsourcefile(self.outenv['Fastdb'].dbprint) == '<string>': /Users/Natsume/Documents/fastdebug/fastdebug/core.py\n",
      "self.outenv[dbprint]: None\n",
      "<function Fastdb.dbprint at 0x110553280> is self.outenv['Fastdb'].dbprint: True\n",
      "\u001b[93mexec on dbsrc above\u001b[0m--------------------------------\n",
      "locals() keys: ['self', 'dbcode', 'cmt', 'expand', 'showdbsrc', 'codes', 'src', 'dbsrc', 'indent', 'lst', 'newlst', 'srclines', 'idx', 'l', 'totallen', 'lenidx', 'dblst', 'lenl', 'names', 'clsname', 'methodname', 'expr', 'expr1', 'dbprint']\n",
      "after exec, is dbprint in locals(): True\n",
      "after exec, is Fastdb in locals(): False\n",
      "after exec, is Fastdb.dbprint in locals(): False\n",
      "after exec, is dbprint in self.outenv: True\n",
      "after exec, is Fastdb in self.outenv: True\n",
      "after exec, is Fastdb.dbprint in self.outenv: False\n",
      "inspect.getsourcefile(self.outenv['Fastdb'].dbprint) == '<string>': True\n",
      "self.outenv[dbprint]: None\n",
      "<function Fastdb.dbprint at 0x110553280> is self.outenv['Fastdb'].dbprint: False\n",
      "self.orisrc.__name__: dbprint\n",
      "locals()[self.orisrc.__name__]: None\n",
      "\u001b[93mshowdbsrc=End\u001b[0m--------------------------------------\n",
      "             ):                                                                                                                                         (7)\n",
      "    'Check what inside a module: `__all__`, functions, classes, builtins, and callables'                                                                (8)\n",
      "    dun_all = len(mo.__all__) if hasattr(mo, \"__all__\") else 0==========================================================================================(9)\n",
      "                                                                                                                                \u001b[91mcount num of funcs in __all__\u001b[0m\n",
      "    funcs = inspect.getmembers(mo, inspect.isfunction)                                                                                                  (10)\n",
      "    classes = inspect.getmembers(mo, inspect.isclass)                                                                                                   (11)\n",
      "\u001b[93mprint selected srcline with expands above\u001b[0m----------\n",
      "\u001b[93mshowdbsrc=Start\u001b[0m------------------------------------\n",
      "def whatinside(mo, # module, e.g., `import fastcore.all as fa`, use `fa` here---------------------------------------------------------------------------(0)\n",
      "               dun:bool=False, # print all items in __all__---------------------------------------------------------------------------------------------(1)\n",
      "               func:bool=False, # print all user defined functions--------------------------------------------------------------------------------------(2)\n",
      "               clas:bool=False, # print all class objects-----------------------------------------------------------------------------------------------(3)\n",
      "               bltin:bool=False, # print all builtin funcs or methods-----------------------------------------------------------------------------------(4)\n",
      "               lib:bool=False, # print all the modules of the library it belongs to---------------------------------------------------------------------(5)\n",
      "               cal:bool=False # print all callables-----------------------------------------------------------------------------------------------------(6)\n",
      "             ): ----------------------------------------------------------------------------------------------------------------------------------------(7)\n",
      "    'Check what inside a module: `__all__`, functions, classes, builtins, and callables'----------------------------------------------------------------(8)\n",
      "    g = locals()----------------------------------------------------------------------------------------------------------------------------------------(9)\n",
      "    dbprintinsert(\"type(mo)\",env=g)=====================================================================================================================(db)\n",
      "    dun_all = len(mo.__all__) if hasattr(mo, \"__all__\") else 0------------------------------------------------------------------------------------------(11)\n",
      "    funcs = inspect.getmembers(mo, inspect.isfunction)--------------------------------------------------------------------------------------------------(12)\n",
      "    classes = inspect.getmembers(mo, inspect.isclass)---------------------------------------------------------------------------------------------------(13)\n",
      "    builtins = inspect.getmembers(mo, inspect.isbuiltin)------------------------------------------------------------------------------------------------(14)\n",
      "    callables = inspect.getmembers(mo, callable)--------------------------------------------------------------------------------------------------------(15)\n",
      "    pkgpath = os.path.dirname(mo.__file__)--------------------------------------------------------------------------------------------------------------(16)\n",
      "    print(f\"{mo.__name__} has: \\n{dun_all} items in its __all__, and \\n{len(funcs)} user defined functions, \\n{len(classes)} classes or class objects, \\n{len(builtins)} builtin funcs and methods, and\\n{len(callables)} callables.\\n\")  (17)\n",
      "    if hasattr(mo, \"__all__\") and dun: pprint(mo.__all__)-----------------------------------------------------------------------------------------------(18)\n",
      "    if func: -------------------------------------------------------------------------------------------------------------------------------------------(19)\n",
      "        print(f'The user defined functions are:')-------------------------------------------------------------------------------------------------------(20)\n",
      "        pprint([i[0] for i in funcs])-------------------------------------------------------------------------------------------------------------------(21)\n",
      "    if clas: -------------------------------------------------------------------------------------------------------------------------------------------(22)\n",
      "        print(f'The class objects are:')----------------------------------------------------------------------------------------------------------------(23)\n",
      "        pprint([i[0] for i in classes])-----------------------------------------------------------------------------------------------------------------(24)\n",
      "    if bltin: ------------------------------------------------------------------------------------------------------------------------------------------(25)\n",
      "        print(f'The builtin functions or methods are:')-------------------------------------------------------------------------------------------------(26)\n",
      "        pprint([i[0] for i in builtins])----------------------------------------------------------------------------------------------------------------(27)\n",
      "    if cal: --------------------------------------------------------------------------------------------------------------------------------------------(28)\n",
      "        print(f'The callables are: ')-------------------------------------------------------------------------------------------------------------------(29)\n",
      "        pprint([i[0] for i in callables])---------------------------------------------------------------------------------------------------------------(30)\n",
      "    if lib: --------------------------------------------------------------------------------------------------------------------------------------------(31)\n",
      "        modules = [name for _, name, _ in pkgutil.iter_modules([pkgpath])]------------------------------------------------------------------------------(32)\n",
      "        print(f'The library has {len(modules)} modules')------------------------------------------------------------------------------------------------(33)\n",
      "        pprint(modules)---------------------------------------------------------------------------------------------------------------------------------(34)\n",
      "locals() keys: ['self', 'dbcode', 'cmt', 'expand', 'showdbsrc', 'codes', 'src', 'dbsrc', 'indent', 'lst', 'newlst', 'i', 'srclines', 'idx', 'l', 'numindent', 'dbcodes', 'count', 'c', 'totallen', 'lenidx', 'dblst', 'lenl']\n",
      "\u001b[93mexec on dbsrc above\u001b[0m--------------------------------\n",
      "locals() keys: ['self', 'dbcode', 'cmt', 'expand', 'showdbsrc', 'codes', 'src', 'dbsrc', 'indent', 'lst', 'newlst', 'i', 'srclines', 'idx', 'l', 'numindent', 'dbcodes', 'count', 'c', 'totallen', 'lenidx', 'dblst', 'lenl', 'names', 'whatinside']\n",
      "self.orisrc.__name__: whatinside\n",
      "locals()[self.orisrc.__name__]: <function whatinside at 0x11056f280>\n",
      "\u001b[93mshowdbsrc=End\u001b[0m--------------------------------------\n",
      "\n",
      "\n",
      "                                                                                                                      type(mo) => type(mo) : <class 'module'>\n",
      "fastdebug.utils has: \n",
      "3 items in its __all__, and \n",
      "122 user defined functions, \n",
      "18 classes or class objects, \n",
      "1 builtin funcs and methods, and\n",
      "143 callables.\n",
      "\n"
     ]
    }
   ],
   "source": [
    "# update a new Fastdb.dbprint\n",
    "fdb.dbprint(27, \"turn decode or idx into srcline string and raise type error if not int\", showdbsrc=True)\n",
    "# creating a db object on whatinside with new Fastdb.dbprint\n",
    "# fdbw = Fastdb(whatinside, gw)\n",
    "fdbw = Fastdb(whatinside)\n",
    "# fdbw.print(10, 1)\n",
    "# we are still debuggin the same line in whatinside\n",
    "new = fdbw.dbprint(9, \"count num of funcs in __all__\", \"type(mo)\", showdbsrc=True)\n",
    "whatinside = new\n",
    "whatinside(core)\n",
    "# Turn Fastdb.dbprint and whatinside back to normal\n",
    "Fastdb.dbprint = fdb.orisrc\n",
    "whatinside = fdbw.orisrc # Important! remember to bring whatinside back to normal after each srcline exploration"
   ]
  },
  {
   "cell_type": "code",
   "execution_count": null,
   "id": "97b13618",
   "metadata": {},
   "outputs": [
    {
     "name": "stdout",
     "output_type": "stream",
     "text": [
      "    else:=================================================================================(30)      \n",
      "        raise TypeError(\"decode must be an integer.\")=====================================(31)      \n",
      "                                                                                                                                                        (32)\n",
      "    for idx, l in zip(range(len(lst)), lst):==============================================(33)      \n",
      "                                                                                                                                                        (34)\n",
      "        if bool(l.strip()) and l.strip() in srclines and idx == dbcode:===================(35)      \n",
      "                                                                                                                                                        (36)\n",
      "            if len(codes) > 0: ===========================================================(37)      \n",
      "                numindent = len(l) - len(l.lstrip()) # make sure indent not messed up by trailing spaces                                                (38)\n",
      "                dbcodes = \"dbprintinsert(\"================================================(39)      \n",
      "                count = 1=================================================================(40)      \n",
      "                for c in codes:===========================================================(41)      \n",
      "                    if count == len(codes):===============================================(42)      \n",
      "                        dbcodes = dbcodes + '\"' + c + '\"' + \",\" + \"env=g\" + \")\"===========(43)      \n",
      "                    else:=================================================================(44)      \n",
      "                        dbcodes = dbcodes + '\"' + c + '\"' + \",\"===========================(45)      \n",
      "                    count = count + 1=====================================================(46)      \n",
      "                                                                                                                                                        (47)\n",
      "                dbsrc = dbsrc + \" \"*numindent + \"g = locals()\" + '\\n'=====================(48)      \n",
      "                dbsrc = dbsrc + \" \"*numindent + dbcodes + '\\n'============================(49)      \n",
      "                dbsrc = dbsrc + l + '\\n'     =============================================(50)      \n",
      "            else:=========================================================================(51)      \n",
      "                dbsrc = dbsrc + l + '\\n'                ==================================(52)      \n",
      "                                                                                                                                                        (53)\n",
      "        elif bool(l.strip()) and idx + 1 == len(lst):=====================================(54)      \n",
      "            dbsrc = dbsrc + l=============================================================(55)      \n",
      "        else: # make sure this printout is identical to the printsrc output===============(56)      \n",
      "            dbsrc = dbsrc + l + '\\n'======================================================(57)      \n",
      "                                                                                                                                                        (58)\n",
      "    if showdbsrc: # added to debug========================================================(59)      \n",
      "                                                                                                                                     part No.2 out of 4 parts\n"
     ]
    }
   ],
   "source": [
    "fdb.print(30,2)"
   ]
  },
  {
   "cell_type": "markdown",
   "id": "a5dacd81",
   "metadata": {},
   "source": [
    "## Make the above a function"
   ]
  },
  {
   "cell_type": "code",
   "execution_count": null,
   "id": "80d37015",
   "metadata": {},
   "outputs": [],
   "source": [
    "# def dbdb(pmax, # max display of src per cell\n",
    "#          pt, # which part \n",
    "#          idx, # idx of srcline\n",
    "#          cmt, # comment\n",
    "#          *codes, # codes\n",
    "#          db=False):\n",
    "#     global whatinside, fdbw, fdb, Fastdb, gw, g\n",
    "\n",
    "    \n",
    "#     if bool(idx):\n",
    "#         # update a new Fastdb.dbprint\n",
    "#         fdb.dbprint(idx, cmt, *codes, showdbsrc=db)\n",
    "#         # creating a db object on whatinside with new Fastdb.dbprint\n",
    "#         fdbw = Fastdb(whatinside, gw)\n",
    "#         # fdbw.print(10, 1)\n",
    "#         # we are still debuggin the same line in whatinside\n",
    "#         new = fdbw.dbprint(9, \"count num of funcs in __all__\", \"type(mo)\")\n",
    "#         whatinside = new\n",
    "#         whatinside(core)\n",
    "#         # Turn Fastdb.dbprint and whatinside back to normal\n",
    "#         Fastdb.dbprint = fdb.orisrc\n",
    "#         whatinside = fdbw.orisrc # Important! remember to bring whatinside back to normal after each srcline exploration\n",
    "#     else:\n",
    "#         pass\n",
    "    \n",
    "#     # print the srcode with specified length and part\n",
    "#     if bool(pmax): fdb.print(pmax, pt) # if pmax == 0, then no printing src"
   ]
  },
  {
   "cell_type": "markdown",
   "id": "91a6bac1",
   "metadata": {},
   "source": [
    "### Print the srcode at the end and automatically adjust the number of srclines using idx"
   ]
  },
  {
   "cell_type": "code",
   "execution_count": null,
   "id": "39c3cf95",
   "metadata": {},
   "outputs": [],
   "source": [
    "# def dbdb(idx, # idx of srcline\n",
    "#          cmt, # comment\n",
    "#          *codes, # codes\n",
    "#          db=False,\n",
    "#          full=False):\n",
    "#     global whatinside, fdbw, fdb, Fastdb, gw, g\n",
    "\n",
    "    \n",
    "#     if bool(idx):\n",
    "#         # update a new Fastdb.dbprint\n",
    "#         fdb.dbprint(idx, cmt, *codes, showdbsrc=db)\n",
    "#         # creating a db object on whatinside with new Fastdb.dbprint\n",
    "#         fdbw = Fastdb(whatinside, gw)\n",
    "#         # fdbw.print(10, 1)\n",
    "#         # we are still debuggin the same line in whatinside\n",
    "#         new = fdbw.dbprint(9, \"count num of funcs in __all__\", \"type(mo)\")\n",
    "#         whatinside = new\n",
    "#         whatinside(core)\n",
    "#         # Turn Fastdb.dbprint and whatinside back to normal\n",
    "#         Fastdb.dbprint = fdb.orisrc\n",
    "#         whatinside = fdbw.orisrc # Important! remember to bring whatinside back to normal after each srcline exploration\n",
    "#     else:\n",
    "#         pass\n",
    "    \n",
    "#     totalines = len(inspect.getsource(fdb.orisrc).split('\\n'))\n",
    "#     maxpcell = 33\n",
    "#     pt = idx // maxpcell\n",
    "#     if full:\n",
    "#         fdb.print()\n",
    "#     elif idx > maxpcell and idx % maxpcell != 0:\n",
    "#         fdb.print(maxpcell, pt + 1)\n",
    "#     else:\n",
    "#         fdb.print(maxpcell, 1)\n"
   ]
  },
  {
   "cell_type": "markdown",
   "id": "a16dc213",
   "metadata": {},
   "source": [
    "### which dbprint to use db=True"
   ]
  },
  {
   "cell_type": "code",
   "execution_count": null,
   "id": "0a78bf55",
   "metadata": {},
   "outputs": [],
   "source": [
    "# def dbdb(idx, # idx of srcline\n",
    "#          cmt, # comment\n",
    "#          *codes, # codes\n",
    "#          db=False,\n",
    "#          full=False):\n",
    "#     global whatinside, fdbw, fdb, Fastdb, gw, g\n",
    "\n",
    "    \n",
    "#     if bool(idx):\n",
    "#         # update a new Fastdb.dbprint\n",
    "# #         fdb.dbprint(idx, cmt, *codes, showdbsrc=db)\n",
    "#         fdb.dbprint(idx, cmt, *codes, showdbsrc=db)\n",
    "#         print(\"\\n\")\n",
    "#         print('{:-<157}'.format(colorize(\"writing dbcodes into Fastdb.dbprint is done above\", color=\"y\")))\n",
    "#         print(\"\\n\")\n",
    "#         # creating a db object on whatinside with new Fastdb.dbprint\n",
    "#         fdbw = Fastdb(whatinside, gw)\n",
    "#         # fdbw.print(10, 1)\n",
    "#         # we are still debuggin the same line in whatinside\n",
    "#         new = fdbw.dbprint(9, \"count num of funcs in __all__\", \"type(mo)\", showdbsrc=db)\n",
    "#         print(\"\\n\")\n",
    "#         print('{:-<157}'.format(colorize(\"using db Fastdb.dbprint to create db whatinside is done\", color=\"y\")))\n",
    "#         print(\"\\n\")\n",
    "#         whatinside = new\n",
    "#         whatinside(core)\n",
    "#         print(\"\\n\")\n",
    "#         print('{:-<157}'.format(colorize(\"using db whatinside to run example on core above\", color=\"y\")))\n",
    "#         print(\"\\n\")        \n",
    "#         # Turn Fastdb.dbprint and whatinside back to normal\n",
    "#         Fastdb.dbprint = fdb.orisrc\n",
    "#         whatinside = fdbw.orisrc # Important! remember to bring whatinside back to normal after each srcline exploration\n",
    "#     else:\n",
    "#         pass\n",
    "    \n",
    "#     totalines = len(inspect.getsource(fdb.orisrc).split('\\n'))\n",
    "#     maxpcell = 33\n",
    "#     pt = idx // maxpcell\n",
    "#     if full:\n",
    "#         fdb.print()\n",
    "#     elif idx >= maxpcell and idx % maxpcell != 0:\n",
    "#         fdb.print(maxpcell, pt + 1)\n",
    "#     else:\n",
    "#         fdb.print(maxpcell, 1)\n"
   ]
  },
  {
   "cell_type": "markdown",
   "id": "631a5321",
   "metadata": {},
   "source": [
    "### One function handles all"
   ]
  },
  {
   "cell_type": "code",
   "execution_count": null,
   "id": "329dfc25",
   "metadata": {},
   "outputs": [],
   "source": [
    "def dbdb(idx, # idx of srcline\n",
    "         cmt, # comment\n",
    "         *codes, # codes\n",
    "         db=False,\n",
    "         full=False):\n",
    "    global whatinside, fdbw, fdb, Fastdb, gw, g\n",
    "\n",
    "    \n",
    "    if bool(idx):\n",
    "        # update a new Fastdb.dbprint\n",
    "#         fdb.dbprint(idx, cmt, *codes, showdbsrc=db)\n",
    "        fdb.dbprint(idx, cmt, *codes, showdbsrc=db)\n",
    "        print(\"\\n\")\n",
    "        print('{:-<157}'.format(colorize(\"run .dbprint on Fastdb.dbprint is done above\", color=\"y\")))\n",
    "        print(\"\\n\")\n",
    "        # creating a db object on whatinside with new Fastdb.dbprint\n",
    "        # fdbw = Fastdb(whatinside, gw)\n",
    "        fdbw = Fastdb(whatinside)\n",
    "        # fdbw.print(10, 1)\n",
    "        # we are still debuggin the same line in whatinside\n",
    "        new = fdbw.dbprint(9, \"count num of funcs in __all__\", \"type(mo)\", showdbsrc=db)\n",
    "        print(\"\\n\")\n",
    "        print('{:-<157}'.format(colorize(\"run new .dbprint on whatinside is done\", color=\"y\")))\n",
    "        print(\"\\n\")\n",
    "        whatinside = new\n",
    "        whatinside(core)\n",
    "        print(\"\\n\")\n",
    "        print('{:-<157}'.format(colorize(\"run new whatinside on core above\", color=\"y\")))\n",
    "        print(\"\\n\")        \n",
    "        # Turn Fastdb.dbprint and whatinside back to normal\n",
    "        Fastdb.dbprint = fdb.orisrc\n",
    "        whatinside = fdbw.orisrc # Important! remember to bring whatinside back to normal after each srcline exploration\n",
    "    else:\n",
    "        pass\n",
    "    \n",
    "    totalines = len(inspect.getsource(fdb.orisrc).split('\\n'))\n",
    "    maxpcell = 33\n",
    "    pt = idx // maxpcell\n",
    "    if full:\n",
    "        fdb.print()\n",
    "    elif idx > maxpcell and idx % maxpcell != 0:\n",
    "        fdb.print(maxpcell, pt + 1)\n",
    "    elif idx == maxpcell:\n",
    "        fdb.print(maxpcell, pt + 1)\n",
    "    else:\n",
    "        fdb.print(maxpcell, 1)\n"
   ]
  },
  {
   "cell_type": "code",
   "execution_count": null,
   "id": "79c7658f",
   "metadata": {},
   "outputs": [
    {
     "name": "stdout",
     "output_type": "stream",
     "text": [
      "        raise TypeError(\"decode must be an integer.\")                                                                                                   (31)\n",
      "                                                                                                                                                        (32)\n",
      "    for idx, l in zip(range(len(lst)), lst):============================================================================================================(33)\n",
      "                                                                                                                                  \u001b[91mloop every srcline with idx\u001b[0m\n",
      "                                                                                                                                                        (34)\n",
      "        if bool(l.strip()) and l.strip() in srclines and idx == dbcode:                                                                                 (35)\n",
      "\u001b[93mprint selected srcline with expands above\u001b[0m----------\n",
      "\u001b[93mexec on dbsrc above\u001b[0m--------------------------------\n",
      "\n",
      "\n",
      "\u001b[93mrun .dbprint on Fastdb.dbprint is done above\u001b[0m--------------------------------------------------------------------------------------------------------\n",
      "\n",
      "\n",
      "             ):                                                                                                                                         (7)\n",
      "    'Check what inside a module: `__all__`, functions, classes, builtins, and callables'                                                                (8)\n",
      "    dun_all = len(mo.__all__) if hasattr(mo, \"__all__\") else 0==========================================================================================(9)\n",
      "                                                                                                                                \u001b[91mcount num of funcs in __all__\u001b[0m\n",
      "    funcs = inspect.getmembers(mo, inspect.isfunction)                                                                                                  (10)\n",
      "    classes = inspect.getmembers(mo, inspect.isclass)                                                                                                   (11)\n",
      "\u001b[93mprint selected srcline with expands above\u001b[0m----------\n",
      "\n",
      "\n",
      "                                                                                                                                    len(lst) => len(lst) : 33\n",
      "\u001b[93mexec on dbsrc above\u001b[0m--------------------------------\n",
      "\n",
      "\n",
      "\u001b[93mrun new .dbprint on whatinside is done\u001b[0m--------------------------------------------------------------------------------------------------------------\n",
      "\n",
      "\n",
      "\n",
      "\n",
      "                                                                                                                      type(mo) => type(mo) : <class 'module'>\n",
      "fastdebug.utils has: \n",
      "3 items in its __all__, and \n",
      "122 user defined functions, \n",
      "18 classes or class objects, \n",
      "1 builtin funcs and methods, and\n",
      "143 callables.\n",
      "\n",
      "\n",
      "\n",
      "\u001b[93mrun new whatinside on core above\u001b[0m--------------------------------------------------------------------------------------------------------------------\n",
      "\n",
      "\n",
      "    for idx, l in zip(range(len(lst)), lst):==============================================(33) # loop every srcline with idx\n",
      "                                                                                                                                                        (34)\n",
      "        if bool(l.strip()) and l.strip() in srclines and idx == dbcode:===================(35)      \n",
      "                                                                                                                                                        (36)\n",
      "            if len(codes) > 0: ===========================================================(37)      \n",
      "                numindent = len(l) - len(l.lstrip()) # make sure indent not messed up by trailing spaces                                                (38)\n",
      "                dbcodes = \"dbprintinsert(\"================================================(39)      \n",
      "                count = 1=================================================================(40)      \n",
      "                for c in codes:===========================================================(41)      \n",
      "                    if count == len(codes):===============================================(42)      \n",
      "                        dbcodes = dbcodes + '\"' + c + '\"' + \",\" + \"env=g\" + \")\"===========(43)      \n",
      "                    else:=================================================================(44)      \n",
      "                        dbcodes = dbcodes + '\"' + c + '\"' + \",\"===========================(45)      \n",
      "                    count = count + 1=====================================================(46)      \n",
      "                                                                                                                                                        (47)\n",
      "                dbsrc = dbsrc + \" \"*numindent + \"g = locals()\" + '\\n'=====================(48)      \n",
      "                dbsrc = dbsrc + \" \"*numindent + dbcodes + '\\n'============================(49)      \n",
      "                dbsrc = dbsrc + l + '\\n'     =============================================(50)      \n",
      "            else:=========================================================================(51)      \n",
      "                dbsrc = dbsrc + l + '\\n'                ==================================(52)      \n",
      "                                                                                                                                                        (53)\n",
      "        elif bool(l.strip()) and idx + 1 == len(lst):=====================================(54)      \n",
      "            dbsrc = dbsrc + l=============================================================(55)      \n",
      "        else: # make sure this printout is identical to the printsrc output===============(56)      \n",
      "            dbsrc = dbsrc + l + '\\n'======================================================(57)      \n",
      "                                                                                                                                                        (58)\n",
      "    if showdbsrc: # added to debug========================================================(59)      \n",
      "        print('{:-<60}'.format(colorize(\"showdbsrc=Start\", color=\"y\")))===================(60)      \n",
      "        totallen = 157====================================================================(61)      \n",
      "        lenidx = 5========================================================================(62)      \n",
      "        dblst = dbsrc.split('\\n')=========================================================(63)      \n",
      "        for idx, l in zip(range(len(dblst)), dblst):======================================(64)      \n",
      "            lenl = len(l)=================================================================(65)      \n",
      "                                                                                                                                     part No.2 out of 4 parts\n"
     ]
    }
   ],
   "source": [
    "dbdb(33, \"loop every srcline with idx\", \"len(lst)\")"
   ]
  },
  {
   "cell_type": "code",
   "execution_count": null,
   "id": "f1c8c53c",
   "metadata": {},
   "outputs": [
    {
     "name": "stdout",
     "output_type": "stream",
     "text": [
      "    for idx, l in zip(range(len(lst)), lst):                                                                                                            (33)\n",
      "                                                                                                                                                        (34)\n",
      "        if bool(l.strip()) and l.strip() in srclines and idx == dbcode:=================================================================================(35)\n",
      "                                                                                                    \u001b[91mWhen a srcline under investigation is detected in looping\u001b[0m\n",
      "                                                                                                                                                        (36)\n",
      "            if len(codes) > 0:                                                                                                                          (37)\n",
      "\u001b[93mprint selected srcline with expands above\u001b[0m----------\n",
      "\u001b[93mexec on dbsrc above\u001b[0m--------------------------------\n",
      "\n",
      "\n",
      "\u001b[93mrun .dbprint on Fastdb.dbprint is done above\u001b[0m--------------------------------------------------------------------------------------------------------\n",
      "\n",
      "\n",
      "             ):                                                                                                                                         (7)\n",
      "    'Check what inside a module: `__all__`, functions, classes, builtins, and callables'                                                                (8)\n",
      "    dun_all = len(mo.__all__) if hasattr(mo, \"__all__\") else 0==========================================================================================(9)\n",
      "                                                                                                                                \u001b[91mcount num of funcs in __all__\u001b[0m\n",
      "    funcs = inspect.getmembers(mo, inspect.isfunction)                                                                                                  (10)\n",
      "    classes = inspect.getmembers(mo, inspect.isclass)                                                                                                   (11)\n",
      "\u001b[93mprint selected srcline with expands above\u001b[0m----------\n",
      "\u001b[93mexec on dbsrc above\u001b[0m--------------------------------\n",
      "\n",
      "\n",
      "\u001b[93mrun new .dbprint on whatinside is done\u001b[0m--------------------------------------------------------------------------------------------------------------\n",
      "\n",
      "\n",
      "\n",
      "\n",
      "                                                                                                                      type(mo) => type(mo) : <class 'module'>\n",
      "fastdebug.utils has: \n",
      "3 items in its __all__, and \n",
      "122 user defined functions, \n",
      "18 classes or class objects, \n",
      "1 builtin funcs and methods, and\n",
      "143 callables.\n",
      "\n",
      "\n",
      "\n",
      "\u001b[93mrun new whatinside on core above\u001b[0m--------------------------------------------------------------------------------------------------------------------\n",
      "\n",
      "\n",
      "    for idx, l in zip(range(len(lst)), lst):==============================================(33) # loop every srcline with idx\n",
      "                                                                                                                                                        (34)\n",
      "        if bool(l.strip()) and l.strip() in srclines and idx == dbcode:===================(35) # When a srcline under investigation is detected in looping\n",
      "                                                                                                                                                        (36)\n",
      "            if len(codes) > 0: ===========================================================(37)      \n",
      "                numindent = len(l) - len(l.lstrip()) # make sure indent not messed up by trailing spaces                                                (38)\n",
      "                dbcodes = \"dbprintinsert(\"================================================(39)      \n",
      "                count = 1=================================================================(40)      \n",
      "                for c in codes:===========================================================(41)      \n",
      "                    if count == len(codes):===============================================(42)      \n",
      "                        dbcodes = dbcodes + '\"' + c + '\"' + \",\" + \"env=g\" + \")\"===========(43)      \n",
      "                    else:=================================================================(44)      \n",
      "                        dbcodes = dbcodes + '\"' + c + '\"' + \",\"===========================(45)      \n",
      "                    count = count + 1=====================================================(46)      \n",
      "                                                                                                                                                        (47)\n",
      "                dbsrc = dbsrc + \" \"*numindent + \"g = locals()\" + '\\n'=====================(48)      \n",
      "                dbsrc = dbsrc + \" \"*numindent + dbcodes + '\\n'============================(49)      \n",
      "                dbsrc = dbsrc + l + '\\n'     =============================================(50)      \n",
      "            else:=========================================================================(51)      \n",
      "                dbsrc = dbsrc + l + '\\n'                ==================================(52)      \n",
      "                                                                                                                                                        (53)\n",
      "        elif bool(l.strip()) and idx + 1 == len(lst):=====================================(54)      \n",
      "            dbsrc = dbsrc + l=============================================================(55)      \n",
      "        else: # make sure this printout is identical to the printsrc output===============(56)      \n",
      "            dbsrc = dbsrc + l + '\\n'======================================================(57)      \n",
      "                                                                                                                                                        (58)\n",
      "    if showdbsrc: # added to debug========================================================(59)      \n",
      "        print('{:-<60}'.format(colorize(\"showdbsrc=Start\", color=\"y\")))===================(60)      \n",
      "        totallen = 157====================================================================(61)      \n",
      "        lenidx = 5========================================================================(62)      \n",
      "        dblst = dbsrc.split('\\n')=========================================================(63)      \n",
      "        for idx, l in zip(range(len(dblst)), dblst):======================================(64)      \n",
      "            lenl = len(l)=================================================================(65)      \n",
      "                                                                                                                                     part No.2 out of 4 parts\n"
     ]
    }
   ],
   "source": [
    "dbdb(35, \"When a srcline under investigation is detected in looping\")"
   ]
  },
  {
   "cell_type": "code",
   "execution_count": null,
   "id": "8350cf9f",
   "metadata": {},
   "outputs": [
    {
     "name": "stdout",
     "output_type": "stream",
     "text": [
      "        if bool(l.strip()) and l.strip() in srclines and idx == dbcode:                                                                                 (35)\n",
      "                                                                                                                                                        (36)\n",
      "            if len(codes) > 0: =========================================================================================================================(37)\n",
      "                                                                                                                \u001b[91mWhen there is code expressions to be inserted\u001b[0m\n",
      "                numindent = len(l) - len(l.lstrip()) # make sure indent not messed up by trailing spaces                                                (38)\n",
      "                dbcodes = \"dbprintinsert(\"                                                                                                              (39)\n",
      "\u001b[93mprint selected srcline with expands above\u001b[0m----------\n",
      "\u001b[93mexec on dbsrc above\u001b[0m--------------------------------\n",
      "\n",
      "\n",
      "\u001b[93mrun .dbprint on Fastdb.dbprint is done above\u001b[0m--------------------------------------------------------------------------------------------------------\n",
      "\n",
      "\n",
      "             ):                                                                                                                                         (7)\n",
      "    'Check what inside a module: `__all__`, functions, classes, builtins, and callables'                                                                (8)\n",
      "    dun_all = len(mo.__all__) if hasattr(mo, \"__all__\") else 0==========================================================================================(9)\n",
      "                                                                                                                                \u001b[91mcount num of funcs in __all__\u001b[0m\n",
      "    funcs = inspect.getmembers(mo, inspect.isfunction)                                                                                                  (10)\n",
      "    classes = inspect.getmembers(mo, inspect.isclass)                                                                                                   (11)\n",
      "\u001b[93mprint selected srcline with expands above\u001b[0m----------\n",
      "\n",
      "\n",
      "                                                                                                                                 len(codes) => len(codes) : 2\n",
      "\n",
      "\n",
      "                                                                                                                     codes => codes : ('len(codes)', 'codes')\n",
      "\u001b[93mexec on dbsrc above\u001b[0m--------------------------------\n",
      "\n",
      "\n",
      "\u001b[93mrun new .dbprint on whatinside is done\u001b[0m--------------------------------------------------------------------------------------------------------------\n",
      "\n",
      "\n",
      "\n",
      "\n",
      "                                                                                                                      type(mo) => type(mo) : <class 'module'>\n",
      "fastdebug.utils has: \n",
      "3 items in its __all__, and \n",
      "122 user defined functions, \n",
      "18 classes or class objects, \n",
      "1 builtin funcs and methods, and\n",
      "143 callables.\n",
      "\n",
      "\n",
      "\n",
      "\u001b[93mrun new whatinside on core above\u001b[0m--------------------------------------------------------------------------------------------------------------------\n",
      "\n",
      "\n",
      "    for idx, l in zip(range(len(lst)), lst):==============================================(33) # loop every srcline with idx\n",
      "                                                                                                                                                        (34)\n",
      "        if bool(l.strip()) and l.strip() in srclines and idx == dbcode:===================(35) # When a srcline under investigation is detected in looping\n",
      "                                                                                                                                                        (36)\n",
      "            if len(codes) > 0: ===========================================================(37) # When there is code expressions to be inserted\n",
      "                numindent = len(l) - len(l.lstrip()) # make sure indent not messed up by trailing spaces                                                (38)\n",
      "                dbcodes = \"dbprintinsert(\"================================================(39)      \n",
      "                count = 1=================================================================(40)      \n",
      "                for c in codes:===========================================================(41)      \n",
      "                    if count == len(codes):===============================================(42)      \n",
      "                        dbcodes = dbcodes + '\"' + c + '\"' + \",\" + \"env=g\" + \")\"===========(43)      \n",
      "                    else:=================================================================(44)      \n",
      "                        dbcodes = dbcodes + '\"' + c + '\"' + \",\"===========================(45)      \n",
      "                    count = count + 1=====================================================(46)      \n",
      "                                                                                                                                                        (47)\n",
      "                dbsrc = dbsrc + \" \"*numindent + \"g = locals()\" + '\\n'=====================(48)      \n",
      "                dbsrc = dbsrc + \" \"*numindent + dbcodes + '\\n'============================(49)      \n",
      "                dbsrc = dbsrc + l + '\\n'     =============================================(50)      \n",
      "            else:=========================================================================(51)      \n",
      "                dbsrc = dbsrc + l + '\\n'                ==================================(52)      \n",
      "                                                                                                                                                        (53)\n",
      "        elif bool(l.strip()) and idx + 1 == len(lst):=====================================(54)      \n",
      "            dbsrc = dbsrc + l=============================================================(55)      \n",
      "        else: # make sure this printout is identical to the printsrc output===============(56)      \n",
      "            dbsrc = dbsrc + l + '\\n'======================================================(57)      \n",
      "                                                                                                                                                        (58)\n",
      "    if showdbsrc: # added to debug========================================================(59)      \n",
      "        print('{:-<60}'.format(colorize(\"showdbsrc=Start\", color=\"y\")))===================(60)      \n",
      "        totallen = 157====================================================================(61)      \n",
      "        lenidx = 5========================================================================(62)      \n",
      "        dblst = dbsrc.split('\\n')=========================================================(63)      \n",
      "        for idx, l in zip(range(len(dblst)), dblst):======================================(64)      \n",
      "            lenl = len(l)=================================================================(65)      \n",
      "                                                                                                                                     part No.2 out of 4 parts\n"
     ]
    }
   ],
   "source": [
    "dbdb(37, \"When there is code expressions to be inserted\", \"len(codes)\", \"codes\")"
   ]
  },
  {
   "cell_type": "code",
   "execution_count": null,
   "id": "78faef50",
   "metadata": {},
   "outputs": [
    {
     "name": "stdout",
     "output_type": "stream",
     "text": [
      "                dbsrc = dbsrc + \" \"*numindent + \"g = locals()\" + '\\n'                                                                                   (48)\n",
      "                dbsrc = dbsrc + \" \"*numindent + dbcodes + '\\n'                                                                                          (49)\n",
      "                dbsrc = dbsrc + l + '\\n'     ===========================================================================================================(50)\n",
      "                                                                                                                       \u001b[91mwhat does dbprintinsert line look like\u001b[0m\n",
      "            else:                                                                                                                                       (51)\n",
      "                dbsrc = dbsrc + l + '\\n'                                                                                                                (52)\n",
      "\u001b[93mprint selected srcline with expands above\u001b[0m----------\n",
      "\u001b[93mexec on dbsrc above\u001b[0m--------------------------------\n",
      "\n",
      "\n",
      "\u001b[93mrun .dbprint on Fastdb.dbprint is done above\u001b[0m--------------------------------------------------------------------------------------------------------\n",
      "\n",
      "\n",
      "             ):                                                                                                                                         (7)\n",
      "    'Check what inside a module: `__all__`, functions, classes, builtins, and callables'                                                                (8)\n",
      "    dun_all = len(mo.__all__) if hasattr(mo, \"__all__\") else 0==========================================================================================(9)\n",
      "                                                                                                                                \u001b[91mcount num of funcs in __all__\u001b[0m\n",
      "    funcs = inspect.getmembers(mo, inspect.isfunction)                                                                                                  (10)\n",
      "    classes = inspect.getmembers(mo, inspect.isclass)                                                                                                   (11)\n",
      "\u001b[93mprint selected srcline with expands above\u001b[0m----------\n",
      "\n",
      "\n",
      "dbsrc => dbsrc : def whatinside(mo, # module, e.g., `import fastcore.all as fa`, use `fa` here\n",
      "               dun:bool=False, # print all items in __all__\n",
      "               func:bool=False, # print all user defined functions\n",
      "               clas:bool=False, # print all class objects\n",
      "               bltin:bool=False, # print all builtin funcs or methods\n",
      "               lib:bool=False, # print all the modules of the library it belongs to\n",
      "               cal:bool=False # print all callables\n",
      "             ): \n",
      "    'Check what inside a module: `__all__`, functions, classes, builtins, and callables'\n",
      "    g = locals()\n",
      "    dbprintinsert(\"type(mo)\",env=g)\n",
      "\n",
      "\n",
      "\n",
      "dbsrc + l => dbsrc + l : def whatinside(mo, # module, e.g., `import fastcore.all as fa`, use `fa` here\n",
      "               dun:bool=False, # print all items in __all__\n",
      "               func:bool=False, # print all user defined functions\n",
      "               clas:bool=False, # print all class objects\n",
      "               bltin:bool=False, # print all builtin funcs or methods\n",
      "               lib:bool=False, # print all the modules of the library it belongs to\n",
      "               cal:bool=False # print all callables\n",
      "             ): \n",
      "    'Check what inside a module: `__all__`, functions, classes, builtins, and callables'\n",
      "    g = locals()\n",
      "    dbprintinsert(\"type(mo)\",env=g)\n",
      "    dun_all = len(mo.__all__) if hasattr(mo, \"__all__\") else 0\n",
      "\u001b[93mexec on dbsrc above\u001b[0m--------------------------------\n",
      "\n",
      "\n",
      "\u001b[93mrun new .dbprint on whatinside is done\u001b[0m--------------------------------------------------------------------------------------------------------------\n",
      "\n",
      "\n",
      "\n",
      "\n",
      "                                                                                                                      type(mo) => type(mo) : <class 'module'>\n",
      "fastdebug.utils has: \n",
      "3 items in its __all__, and \n",
      "122 user defined functions, \n",
      "18 classes or class objects, \n",
      "1 builtin funcs and methods, and\n",
      "143 callables.\n",
      "\n",
      "\n",
      "\n",
      "\u001b[93mrun new whatinside on core above\u001b[0m--------------------------------------------------------------------------------------------------------------------\n",
      "\n",
      "\n",
      "    for idx, l in zip(range(len(lst)), lst):==============================================(33) # loop every srcline with idx\n",
      "                                                                                                                                                        (34)\n",
      "        if bool(l.strip()) and l.strip() in srclines and idx == dbcode:===================(35) # When a srcline under investigation is detected in looping\n",
      "                                                                                                                                                        (36)\n",
      "            if len(codes) > 0: ===========================================================(37) # When there is code expressions to be inserted\n",
      "                numindent = len(l) - len(l.lstrip()) # make sure indent not messed up by trailing spaces                                                (38)\n",
      "                dbcodes = \"dbprintinsert(\"================================================(39)      \n",
      "                count = 1=================================================================(40)      \n",
      "                for c in codes:===========================================================(41)      \n",
      "                    if count == len(codes):===============================================(42)      \n",
      "                        dbcodes = dbcodes + '\"' + c + '\"' + \",\" + \"env=g\" + \")\"===========(43)      \n",
      "                    else:=================================================================(44)      \n",
      "                        dbcodes = dbcodes + '\"' + c + '\"' + \",\"===========================(45)      \n",
      "                    count = count + 1=====================================================(46)      \n",
      "                                                                                                                                                        (47)\n",
      "                dbsrc = dbsrc + \" \"*numindent + \"g = locals()\" + '\\n'=====================(48)      \n",
      "                dbsrc = dbsrc + \" \"*numindent + dbcodes + '\\n'============================(49)      \n",
      "                dbsrc = dbsrc + l + '\\n'     =============================================(50) # what does dbprintinsert line look like\n",
      "            else:=========================================================================(51)      \n",
      "                dbsrc = dbsrc + l + '\\n'                ==================================(52)      \n",
      "                                                                                                                                                        (53)\n",
      "        elif bool(l.strip()) and idx + 1 == len(lst):=====================================(54)      \n",
      "            dbsrc = dbsrc + l=============================================================(55)      \n",
      "        else: # make sure this printout is identical to the printsrc output===============(56)      \n",
      "            dbsrc = dbsrc + l + '\\n'======================================================(57)      \n",
      "                                                                                                                                                        (58)\n",
      "    if showdbsrc: # added to debug========================================================(59)      \n",
      "        print('{:-<60}'.format(colorize(\"showdbsrc=Start\", color=\"y\")))===================(60)      \n",
      "        totallen = 157====================================================================(61)      \n",
      "        lenidx = 5========================================================================(62)      \n",
      "        dblst = dbsrc.split('\\n')=========================================================(63)      \n",
      "        for idx, l in zip(range(len(dblst)), dblst):======================================(64)      \n",
      "            lenl = len(l)=================================================================(65)      \n",
      "                                                                                                                                     part No.2 out of 4 parts\n"
     ]
    }
   ],
   "source": [
    "dbdb(50, \"what does dbprintinsert line look like\", \"dbsrc\", \"dbsrc + l\")"
   ]
  },
  {
   "cell_type": "code",
   "execution_count": null,
   "id": "10f5ec7c",
   "metadata": {},
   "outputs": [
    {
     "name": "stdout",
     "output_type": "stream",
     "text": [
      "                dbsrc = dbsrc + l + '\\n'                                                                                                                (52)\n",
      "                                                                                                                                                        (53)\n",
      "        elif bool(l.strip()) and idx + 1 == len(lst):===================================================================================================(54)\n",
      "                                                                                                                            \u001b[91mwhat to print at the end of dbsrc\u001b[0m\n",
      "            dbsrc = dbsrc + l                                                                                                                           (55)\n",
      "        else: # make sure this printout is identical to the printsrc output                                                                             (56)\n",
      "\u001b[93mprint selected srcline with expands above\u001b[0m----------\n",
      "\u001b[93mexec on dbsrc above\u001b[0m--------------------------------\n",
      "\n",
      "\n",
      "\u001b[93mrun .dbprint on Fastdb.dbprint is done above\u001b[0m--------------------------------------------------------------------------------------------------------\n",
      "\n",
      "\n",
      "             ):                                                                                                                                         (7)\n",
      "    'Check what inside a module: `__all__`, functions, classes, builtins, and callables'                                                                (8)\n",
      "    dun_all = len(mo.__all__) if hasattr(mo, \"__all__\") else 0==========================================================================================(9)\n",
      "                                                                                                                                \u001b[91mcount num of funcs in __all__\u001b[0m\n",
      "    funcs = inspect.getmembers(mo, inspect.isfunction)                                                                                                  (10)\n",
      "    classes = inspect.getmembers(mo, inspect.isclass)                                                                                                   (11)\n",
      "\u001b[93mprint selected srcline with expands above\u001b[0m----------\n",
      "\u001b[93mexec on dbsrc above\u001b[0m--------------------------------\n",
      "\n",
      "\n",
      "\u001b[93mrun new .dbprint on whatinside is done\u001b[0m--------------------------------------------------------------------------------------------------------------\n",
      "\n",
      "\n",
      "\n",
      "\n",
      "                                                                                                                      type(mo) => type(mo) : <class 'module'>\n",
      "fastdebug.utils has: \n",
      "3 items in its __all__, and \n",
      "122 user defined functions, \n",
      "18 classes or class objects, \n",
      "1 builtin funcs and methods, and\n",
      "143 callables.\n",
      "\n",
      "\n",
      "\n",
      "\u001b[93mrun new whatinside on core above\u001b[0m--------------------------------------------------------------------------------------------------------------------\n",
      "\n",
      "\n",
      "    for idx, l in zip(range(len(lst)), lst):==============================================(33) # loop every srcline with idx\n",
      "                                                                                                                                                        (34)\n",
      "        if bool(l.strip()) and l.strip() in srclines and idx == dbcode:===================(35) # When a srcline under investigation is detected in looping\n",
      "                                                                                                                                                        (36)\n",
      "            if len(codes) > 0: ===========================================================(37) # When there is code expressions to be inserted\n",
      "                numindent = len(l) - len(l.lstrip()) # make sure indent not messed up by trailing spaces                                                (38)\n",
      "                dbcodes = \"dbprintinsert(\"================================================(39)      \n",
      "                count = 1=================================================================(40)      \n",
      "                for c in codes:===========================================================(41)      \n",
      "                    if count == len(codes):===============================================(42)      \n",
      "                        dbcodes = dbcodes + '\"' + c + '\"' + \",\" + \"env=g\" + \")\"===========(43)      \n",
      "                    else:=================================================================(44)      \n",
      "                        dbcodes = dbcodes + '\"' + c + '\"' + \",\"===========================(45)      \n",
      "                    count = count + 1=====================================================(46)      \n",
      "                                                                                                                                                        (47)\n",
      "                dbsrc = dbsrc + \" \"*numindent + \"g = locals()\" + '\\n'=====================(48)      \n",
      "                dbsrc = dbsrc + \" \"*numindent + dbcodes + '\\n'============================(49)      \n",
      "                dbsrc = dbsrc + l + '\\n'     =============================================(50) # what does dbprintinsert line look like\n",
      "            else:=========================================================================(51)      \n",
      "                dbsrc = dbsrc + l + '\\n'                ==================================(52)      \n",
      "                                                                                                                                                        (53)\n",
      "        elif bool(l.strip()) and idx + 1 == len(lst):=====================================(54) # what to print at the end of dbsrc\n",
      "            dbsrc = dbsrc + l=============================================================(55)      \n",
      "        else: # make sure this printout is identical to the printsrc output===============(56)      \n",
      "            dbsrc = dbsrc + l + '\\n'======================================================(57)      \n",
      "                                                                                                                                                        (58)\n",
      "    if showdbsrc: # added to debug========================================================(59)      \n",
      "        print('{:-<60}'.format(colorize(\"showdbsrc=Start\", color=\"y\")))===================(60)      \n",
      "        totallen = 157====================================================================(61)      \n",
      "        lenidx = 5========================================================================(62)      \n",
      "        dblst = dbsrc.split('\\n')=========================================================(63)      \n",
      "        for idx, l in zip(range(len(dblst)), dblst):======================================(64)      \n",
      "            lenl = len(l)=================================================================(65)      \n",
      "                                                                                                                                     part No.2 out of 4 parts\n"
     ]
    }
   ],
   "source": [
    "dbdb(54, \"what to print at the end of dbsrc\")"
   ]
  },
  {
   "cell_type": "code",
   "execution_count": null,
   "id": "48d433e0",
   "metadata": {},
   "outputs": [
    {
     "name": "stdout",
     "output_type": "stream",
     "text": [
      "        elif bool(l.strip()) and idx + 1 == len(lst):                                                                                                   (54)\n",
      "            dbsrc = dbsrc + l                                                                                                                           (55)\n",
      "        else: # make sure this printout is identical to the printsrc output=============================================================================(56)\n",
      "                                                                                                       \u001b[91mMake the dbsrc printout identical to printsrc printout\u001b[0m\n",
      "            dbsrc = dbsrc + l + '\\n'                                                                                                                    (57)\n",
      "                                                                                                                                                        (58)\n",
      "\u001b[93mprint selected srcline with expands above\u001b[0m----------\n",
      "\u001b[93mexec on dbsrc above\u001b[0m--------------------------------\n",
      "\n",
      "\n",
      "\u001b[93mrun .dbprint on Fastdb.dbprint is done above\u001b[0m--------------------------------------------------------------------------------------------------------\n",
      "\n",
      "\n",
      "             ):                                                                                                                                         (7)\n",
      "    'Check what inside a module: `__all__`, functions, classes, builtins, and callables'                                                                (8)\n",
      "    dun_all = len(mo.__all__) if hasattr(mo, \"__all__\") else 0==========================================================================================(9)\n",
      "                                                                                                                                \u001b[91mcount num of funcs in __all__\u001b[0m\n",
      "    funcs = inspect.getmembers(mo, inspect.isfunction)                                                                                                  (10)\n",
      "    classes = inspect.getmembers(mo, inspect.isclass)                                                                                                   (11)\n",
      "\u001b[93mprint selected srcline with expands above\u001b[0m----------\n",
      "\u001b[93mexec on dbsrc above\u001b[0m--------------------------------\n",
      "\n",
      "\n",
      "\u001b[93mrun new .dbprint on whatinside is done\u001b[0m--------------------------------------------------------------------------------------------------------------\n",
      "\n",
      "\n",
      "\n",
      "\n",
      "                                                                                                                      type(mo) => type(mo) : <class 'module'>\n",
      "fastdebug.utils has: \n",
      "3 items in its __all__, and \n",
      "122 user defined functions, \n",
      "18 classes or class objects, \n",
      "1 builtin funcs and methods, and\n",
      "143 callables.\n",
      "\n",
      "\n",
      "\n",
      "\u001b[93mrun new whatinside on core above\u001b[0m--------------------------------------------------------------------------------------------------------------------\n",
      "\n",
      "\n",
      "    for idx, l in zip(range(len(lst)), lst):==============================================(33) # loop every srcline with idx\n",
      "                                                                                                                                                        (34)\n",
      "        if bool(l.strip()) and l.strip() in srclines and idx == dbcode:===================(35) # When a srcline under investigation is detected in looping\n",
      "                                                                                                                                                        (36)\n",
      "            if len(codes) > 0: ===========================================================(37) # When there is code expressions to be inserted\n",
      "                numindent = len(l) - len(l.lstrip()) # make sure indent not messed up by trailing spaces                                                (38)\n",
      "                dbcodes = \"dbprintinsert(\"================================================(39)      \n",
      "                count = 1=================================================================(40)      \n",
      "                for c in codes:===========================================================(41)      \n",
      "                    if count == len(codes):===============================================(42)      \n",
      "                        dbcodes = dbcodes + '\"' + c + '\"' + \",\" + \"env=g\" + \")\"===========(43)      \n",
      "                    else:=================================================================(44)      \n",
      "                        dbcodes = dbcodes + '\"' + c + '\"' + \",\"===========================(45)      \n",
      "                    count = count + 1=====================================================(46)      \n",
      "                                                                                                                                                        (47)\n",
      "                dbsrc = dbsrc + \" \"*numindent + \"g = locals()\" + '\\n'=====================(48)      \n",
      "                dbsrc = dbsrc + \" \"*numindent + dbcodes + '\\n'============================(49)      \n",
      "                dbsrc = dbsrc + l + '\\n'     =============================================(50) # what does dbprintinsert line look like\n",
      "            else:=========================================================================(51)      \n",
      "                dbsrc = dbsrc + l + '\\n'                ==================================(52)      \n",
      "                                                                                                                                                        (53)\n",
      "        elif bool(l.strip()) and idx + 1 == len(lst):=====================================(54) # what to print at the end of dbsrc\n",
      "            dbsrc = dbsrc + l=============================================================(55)      \n",
      "        else: # make sure this printout is identical to the printsrc output===============(56) # Make the dbsrc printout identical to printsrc printout\n",
      "            dbsrc = dbsrc + l + '\\n'======================================================(57)      \n",
      "                                                                                                                                                        (58)\n",
      "    if showdbsrc: # added to debug========================================================(59)      \n",
      "        print('{:-<60}'.format(colorize(\"showdbsrc=Start\", color=\"y\")))===================(60)      \n",
      "        totallen = 157====================================================================(61)      \n",
      "        lenidx = 5========================================================================(62)      \n",
      "        dblst = dbsrc.split('\\n')=========================================================(63)      \n",
      "        for idx, l in zip(range(len(dblst)), dblst):======================================(64)      \n",
      "            lenl = len(l)=================================================================(65)      \n",
      "                                                                                                                                     part No.2 out of 4 parts\n"
     ]
    }
   ],
   "source": [
    "dbdb(56, \"Make the dbsrc printout identical to printsrc printout\")"
   ]
  },
  {
   "cell_type": "code",
   "execution_count": null,
   "id": "80debf35",
   "metadata": {},
   "outputs": [
    {
     "name": "stdout",
     "output_type": "stream",
     "text": [
      "                dbsrc = dbsrc + l + '\\n'     =============================================(50) # what does dbprintinsert line look like\n",
      "            else:=========================================================================(51)      \n",
      "                dbsrc = dbsrc + l + '\\n'                ==================================(52)      \n",
      "                                                                                                                                                        (53)\n",
      "        elif bool(l.strip()) and idx + 1 == len(lst):=====================================(54) # what to print at the end of dbsrc\n",
      "            dbsrc = dbsrc + l=============================================================(55)      \n",
      "        else: # make sure this printout is identical to the printsrc output===============(56) # Make the dbsrc printout identical to printsrc printout\n",
      "            dbsrc = dbsrc + l + '\\n'======================================================(57)      \n",
      "                                                                                                                                                        (58)\n",
      "    if showdbsrc: # added to debug========================================================(59)      \n",
      "        print('{:-<60}'.format(colorize(\"showdbsrc=Start\", color=\"y\")))===================(60)      \n",
      "        totallen = 157====================================================================(61)      \n",
      "        lenidx = 5========================================================================(62)      \n",
      "        dblst = dbsrc.split('\\n')=========================================================(63)      \n",
      "        for idx, l in zip(range(len(dblst)), dblst):======================================(64)      \n",
      "            lenl = len(l)=================================================================(65)      \n",
      "#             if \"dbprintinsert\" in l: ===================================================(66)      \n",
      "            if l.strip().startswith(\"dbprintinsert\"): ====================================(67)      \n",
      "                print(l + \"=\"*(totallen-lenl-lenidx) + \"(db)\")============================(68)      \n",
      "            elif not bool(l.strip()):=====================================================(69)      \n",
      "                print(l + \" \"*(totallen-lenl-lenidx) + \"(\" + str(idx) + \")\")==============(70)      \n",
      "            else:=========================================================================(71)      \n",
      "                print(l + \"-\"*(totallen-lenl-lenidx) + \"(\" + str(idx) + \")\")==============(72)      \n",
      "                                                                                                                                                        (73)\n",
      "        print(f\"locals() keys: {list(locals().keys())}\")==================================(74)      \n",
      "                                                                                                                                     part No.3 out of 4 parts\n"
     ]
    }
   ],
   "source": [
    "fdb.print(25,3)"
   ]
  },
  {
   "cell_type": "code",
   "execution_count": null,
   "id": "b39809bf",
   "metadata": {},
   "outputs": [
    {
     "name": "stdout",
     "output_type": "stream",
     "text": [
      "                print(l + \" \"*(totallen-lenl-lenidx) + \"(\" + str(idx) + \")\")                                                                            (70)\n",
      "            else:                                                                                                                                       (71)\n",
      "                print(l + \"-\"*(totallen-lenl-lenidx) + \"(\" + str(idx) + \")\")============================================================================(72)\n",
      "                                                                        \u001b[91mthe block above: when showdbsrc=True, print out the dbsrc with dbprintinsert inserted\u001b[0m\n",
      "                                                                                                                                                        (73)\n",
      "        print(f\"locals() keys: {list(locals().keys())}\")                                                                                                (74)\n",
      "\u001b[93mprint selected srcline with expands above\u001b[0m----------\n",
      "\u001b[93mexec on dbsrc above\u001b[0m--------------------------------\n",
      "\n",
      "\n",
      "\u001b[93mrun .dbprint on Fastdb.dbprint is done above\u001b[0m--------------------------------------------------------------------------------------------------------\n",
      "\n",
      "\n",
      "             ):                                                                                                                                         (7)\n",
      "    'Check what inside a module: `__all__`, functions, classes, builtins, and callables'                                                                (8)\n",
      "    dun_all = len(mo.__all__) if hasattr(mo, \"__all__\") else 0==========================================================================================(9)\n",
      "                                                                                                                                \u001b[91mcount num of funcs in __all__\u001b[0m\n",
      "    funcs = inspect.getmembers(mo, inspect.isfunction)                                                                                                  (10)\n",
      "    classes = inspect.getmembers(mo, inspect.isclass)                                                                                                   (11)\n",
      "\u001b[93mprint selected srcline with expands above\u001b[0m----------\n",
      "\u001b[93mexec on dbsrc above\u001b[0m--------------------------------\n",
      "\n",
      "\n",
      "\u001b[93mrun new .dbprint on whatinside is done\u001b[0m--------------------------------------------------------------------------------------------------------------\n",
      "\n",
      "\n",
      "\n",
      "\n",
      "                                                                                                                      type(mo) => type(mo) : <class 'module'>\n",
      "fastdebug.utils has: \n",
      "3 items in its __all__, and \n",
      "122 user defined functions, \n",
      "18 classes or class objects, \n",
      "1 builtin funcs and methods, and\n",
      "143 callables.\n",
      "\n",
      "\n",
      "\n",
      "\u001b[93mrun new whatinside on core above\u001b[0m--------------------------------------------------------------------------------------------------------------------\n",
      "\n",
      "\n",
      "#             if \"dbprintinsert\" in l: ===================================================(66)      \n",
      "            if l.strip().startswith(\"dbprintinsert\"): ====================================(67)      \n",
      "                print(l + \"=\"*(totallen-lenl-lenidx) + \"(db)\")============================(68)      \n",
      "            elif not bool(l.strip()):=====================================================(69)      \n",
      "                print(l + \" \"*(totallen-lenl-lenidx) + \"(\" + str(idx) + \")\")==============(70)      \n",
      "            else:=========================================================================(71)      \n",
      "                print(l + \"-\"*(totallen-lenl-lenidx) + \"(\" + str(idx) + \")\")==============(72) # the block above: when showdbsrc=True, print out the dbsrc with dbprintinsert inserted\n",
      "                                                                                                                                                        (73)\n",
      "        print(f\"locals() keys: {list(locals().keys())}\")==================================(74)      \n",
      "        names = self.orisrc.__qualname__.split('.')=======================================(75)      \n",
      "        if len(names) == 2:===============================================================(76)      \n",
      "            clsname = names[0]============================================================(77)      \n",
      "            methodname = names[1]=========================================================(78)      \n",
      "            print(f\"before exec, is {methodname} in locals(): {methodname in locals()}\")==(79)      \n",
      "            print(f\"before exec, is {clsname} in locals(): {clsname in locals()}\")========(80)      \n",
      "            print(f\"before exec, is {self.orisrc.__qualname__} in locals(): {self.orisrc.__qualname__ in locals()}\")                                    (81)\n",
      "            print(f\"before exec, is {methodname} in self.outenv: {methodname in self.outenv}\")                                                          (82)\n",
      "            print(f\"before exec, is {clsname} in self.outenv: {clsname in self.outenv}\")==(83)      \n",
      "            print(f\"before exec, is {self.orisrc.__qualname__} in self.outenv: {self.orisrc.__qualname__ in self.outenv}\")                              (84)\n",
      "            expr = \"self.outenv[\" + \"'\" + clsname + \"'].\" + methodname====================(85)      \n",
      "            expr1 = \"self.outenv[\" + \"'\" + methodname + \"']\"==============================(86)      \n",
      "            print(f\"inspect.getsourcefile({expr}) == '<string>': {True if inspect.getsourcefile(eval(expr)) == '<string>' else inspect.getsourcefile(eval(expr))}\")(87)\n",
      "            print(f\"self.outenv[{methodname}]: {eval(expr1)}\")============================(88)      \n",
      "            print(f\"{self.orisrc} is {expr}: {self.orisrc is eval(expr)}\")================(89)      \n",
      "    exec(dbsrc, globals().update(self.outenv)) # make sure b can access lst from above====(90)      \n",
      "    print('{:-<60}'.format(colorize(\"exec on dbsrc above\", color=\"y\")))===================(91)      \n",
      "                                                                                                                                                        (92)\n",
      "    if showdbsrc: ========================================================================(93)      \n",
      "        print(f\"locals() keys: {list(locals().keys())}\")==================================(94)      \n",
      "        if len(names) == 2:===============================================================(95)      \n",
      "            print(f\"after exec, is {methodname} in locals(): {methodname in locals()}\")===(96)      \n",
      "            print(f\"after exec, is {clsname} in locals(): {clsname in locals()}\")=========(97)      \n",
      "            print(f\"after exec, is {self.orisrc.__qualname__} in locals(): {self.orisrc.__qualname__ in locals()}\")                                     (98)\n",
      "                                                                                                                                     part No.3 out of 4 parts\n"
     ]
    }
   ],
   "source": [
    "dbdb(72, \"the block above: when showdbsrc=True, print out the dbsrc with dbprintinsert inserted\")"
   ]
  },
  {
   "cell_type": "code",
   "execution_count": null,
   "id": "75af19fa",
   "metadata": {},
   "outputs": [
    {
     "name": "stdout",
     "output_type": "stream",
     "text": [
      "                print(l + \"-\"*(totallen-lenl-lenidx) + \"(\" + str(idx) + \")\")                                                                            (72)\n",
      "                                                                                                                                                        (73)\n",
      "        print(f\"locals() keys: {list(locals().keys())}\")================================================================================================(74)\n",
      "                                                                                                                           \u001b[91mshow locals() before exec on dbsrc\u001b[0m\n",
      "        names = self.orisrc.__qualname__.split('.')                                                                                                     (75)\n",
      "        if len(names) == 2:                                                                                                                             (76)\n",
      "\u001b[93mprint selected srcline with expands above\u001b[0m----------\n",
      "\u001b[93mexec on dbsrc above\u001b[0m--------------------------------\n",
      "\n",
      "\n",
      "\u001b[93mrun .dbprint on Fastdb.dbprint is done above\u001b[0m--------------------------------------------------------------------------------------------------------\n",
      "\n",
      "\n",
      "             ):                                                                                                                                         (7)\n",
      "    'Check what inside a module: `__all__`, functions, classes, builtins, and callables'                                                                (8)\n",
      "    dun_all = len(mo.__all__) if hasattr(mo, \"__all__\") else 0==========================================================================================(9)\n",
      "                                                                                                                                \u001b[91mcount num of funcs in __all__\u001b[0m\n",
      "    funcs = inspect.getmembers(mo, inspect.isfunction)                                                                                                  (10)\n",
      "    classes = inspect.getmembers(mo, inspect.isclass)                                                                                                   (11)\n",
      "\u001b[93mprint selected srcline with expands above\u001b[0m----------\n",
      "\u001b[93mexec on dbsrc above\u001b[0m--------------------------------\n",
      "\n",
      "\n",
      "\u001b[93mrun new .dbprint on whatinside is done\u001b[0m--------------------------------------------------------------------------------------------------------------\n",
      "\n",
      "\n",
      "\n",
      "\n",
      "                                                                                                                      type(mo) => type(mo) : <class 'module'>\n",
      "fastdebug.utils has: \n",
      "3 items in its __all__, and \n",
      "122 user defined functions, \n",
      "18 classes or class objects, \n",
      "1 builtin funcs and methods, and\n",
      "143 callables.\n",
      "\n",
      "\n",
      "\n",
      "\u001b[93mrun new whatinside on core above\u001b[0m--------------------------------------------------------------------------------------------------------------------\n",
      "\n",
      "\n",
      "#             if \"dbprintinsert\" in l: ===================================================(66)      \n",
      "            if l.strip().startswith(\"dbprintinsert\"): ====================================(67)      \n",
      "                print(l + \"=\"*(totallen-lenl-lenidx) + \"(db)\")============================(68)      \n",
      "            elif not bool(l.strip()):=====================================================(69)      \n",
      "                print(l + \" \"*(totallen-lenl-lenidx) + \"(\" + str(idx) + \")\")==============(70)      \n",
      "            else:=========================================================================(71)      \n",
      "                print(l + \"-\"*(totallen-lenl-lenidx) + \"(\" + str(idx) + \")\")==============(72) # the block above: when showdbsrc=True, print out the dbsrc with dbprintinsert inserted\n",
      "                                                                                                                                                        (73)\n",
      "        print(f\"locals() keys: {list(locals().keys())}\")==================================(74) # show locals() before exec on dbsrc\n",
      "        names = self.orisrc.__qualname__.split('.')=======================================(75)      \n",
      "        if len(names) == 2:===============================================================(76)      \n",
      "            clsname = names[0]============================================================(77)      \n",
      "            methodname = names[1]=========================================================(78)      \n",
      "            print(f\"before exec, is {methodname} in locals(): {methodname in locals()}\")==(79)      \n",
      "            print(f\"before exec, is {clsname} in locals(): {clsname in locals()}\")========(80)      \n",
      "            print(f\"before exec, is {self.orisrc.__qualname__} in locals(): {self.orisrc.__qualname__ in locals()}\")                                    (81)\n",
      "            print(f\"before exec, is {methodname} in self.outenv: {methodname in self.outenv}\")                                                          (82)\n",
      "            print(f\"before exec, is {clsname} in self.outenv: {clsname in self.outenv}\")==(83)      \n",
      "            print(f\"before exec, is {self.orisrc.__qualname__} in self.outenv: {self.orisrc.__qualname__ in self.outenv}\")                              (84)\n",
      "            expr = \"self.outenv[\" + \"'\" + clsname + \"'].\" + methodname====================(85)      \n",
      "            expr1 = \"self.outenv[\" + \"'\" + methodname + \"']\"==============================(86)      \n",
      "            print(f\"inspect.getsourcefile({expr}) == '<string>': {True if inspect.getsourcefile(eval(expr)) == '<string>' else inspect.getsourcefile(eval(expr))}\")(87)\n",
      "            print(f\"self.outenv[{methodname}]: {eval(expr1)}\")============================(88)      \n",
      "            print(f\"{self.orisrc} is {expr}: {self.orisrc is eval(expr)}\")================(89)      \n",
      "    exec(dbsrc, globals().update(self.outenv)) # make sure b can access lst from above====(90)      \n",
      "    print('{:-<60}'.format(colorize(\"exec on dbsrc above\", color=\"y\")))===================(91)      \n",
      "                                                                                                                                                        (92)\n",
      "    if showdbsrc: ========================================================================(93)      \n",
      "        print(f\"locals() keys: {list(locals().keys())}\")==================================(94)      \n",
      "        if len(names) == 2:===============================================================(95)      \n",
      "            print(f\"after exec, is {methodname} in locals(): {methodname in locals()}\")===(96)      \n",
      "            print(f\"after exec, is {clsname} in locals(): {clsname in locals()}\")=========(97)      \n",
      "            print(f\"after exec, is {self.orisrc.__qualname__} in locals(): {self.orisrc.__qualname__ in locals()}\")                                     (98)\n",
      "                                                                                                                                     part No.3 out of 4 parts\n"
     ]
    }
   ],
   "source": [
    "dbdb(74, \"show locals() before exec on dbsrc\")"
   ]
  },
  {
   "cell_type": "code",
   "execution_count": null,
   "id": "e176ac4e",
   "metadata": {},
   "outputs": [
    {
     "name": "stdout",
     "output_type": "stream",
     "text": [
      "        print(f\"locals() keys: {list(locals().keys())}\")                                                                                                (74)\n",
      "        names = self.orisrc.__qualname__.split('.')                                                                                                     (75)\n",
      "        if len(names) == 2:=============================================================================================================================(76)\n",
      "                                                                                                                 \u001b[91mwhen debug on a method rather than a funcion\u001b[0m\n",
      "            clsname = names[0]                                                                                                                          (77)\n",
      "            methodname = names[1]                                                                                                                       (78)\n",
      "\u001b[93mprint selected srcline with expands above\u001b[0m----------\n",
      "\u001b[93mshowdbsrc=Start\u001b[0m------------------------------------\n",
      "@patch--------------------------------------------------------------------------------------------------------------------------------------------------(0)\n",
      "def dbprint(self:Fastdb, -------------------------------------------------------------------------------------------------------------------------------(1)\n",
      "            dbcode:int, # idx of a srcline under investigation, can only be int-------------------------------------------------------------------------(2)\n",
      "            cmt:str, # comment added to the srcline-----------------------------------------------------------------------------------------------------(3)\n",
      "            *codes, # a list of expressions (str) you write to be evaluated above the srcline-----------------------------------------------------------(4)\n",
      "            expand:int=2, # span 2 lines of srcode up and down from the srcline investigated------------------------------------------------------------(5)\n",
      "            showdbsrc:bool=False): # display dbsrc------------------------------------------------------------------------------------------------------(6)\n",
      "    \"Add comment and evaluate custom (single or multi lines) expressions to any srcline of the source code \\--------------------------------------------(7)\n",
      "you are investigating. Run exec on the entire srcode with added expressions (dbsrc), so that dbsrc is callable.\"----------------------------------------(8)\n",
      "                                                                                                                                                        (9)\n",
      "    src = self.orisrc-----------------------------------------------------------------------------------------------------------------------------------(10)\n",
      "    if type(dbcode) == int: self.cmts.update({dbcode: cmt})---------------------------------------------------------------------------------------------(11)\n",
      "                                                                                                                                                        (12)\n",
      "    printsrc(src, dbcode, cmt, expand)------------------------------------------------------------------------------------------------------------------(13)\n",
      "    print('{:-<60}'.format(colorize(\"print selected srcline with expands above\", color=\"y\")))-----------------------------------------------------------(14)\n",
      "                                                                                                                                                        (15)\n",
      "    dbsrc = \"\"------------------------------------------------------------------------------------------------------------------------------------------(16)\n",
      "    indent = 4------------------------------------------------------------------------------------------------------------------------------------------(17)\n",
      "                                                                                                                                                        (18)\n",
      "    lst = inspect.getsource(src).split('\\n')------------------------------------------------------------------------------------------------------------(19)\n",
      "    if not bool(lst[-1]): lst = lst[:-1]----------------------------------------------------------------------------------------------------------------(20)\n",
      "                                                                                                                                                        (21)\n",
      "    newlst = []-----------------------------------------------------------------------------------------------------------------------------------------(22)\n",
      "    for i in codes: # no matter whether there is \"\" or \"  \" in the front or in the middle of codes------------------------------------------------------(23)\n",
      "        if bool(i.strip()): newlst.append(i)------------------------------------------------------------------------------------------------------------(24)\n",
      "    codes = newlst--------------------------------------------------------------------------------------------------------------------------------------(25)\n",
      "                                                                                                                                                        (26)\n",
      "    srclines = \"\"---------------------------------------------------------------------------------------------------------------------------------------(27)\n",
      "    if type(dbcode) == int:-----------------------------------------------------------------------------------------------------------------------------(28)\n",
      "        srclines = lst[dbcode]--------------------------------------------------------------------------------------------------------------------------(29)\n",
      "    else:-----------------------------------------------------------------------------------------------------------------------------------------------(30)\n",
      "        raise TypeError(\"decode must be an integer.\")---------------------------------------------------------------------------------------------------(31)\n",
      "                                                                                                                                                        (32)\n",
      "    for idx, l in zip(range(len(lst)), lst):------------------------------------------------------------------------------------------------------------(33)\n",
      "                                                                                                                                                        (34)\n",
      "        if bool(l.strip()) and l.strip() in srclines and idx == dbcode:---------------------------------------------------------------------------------(35)\n",
      "                                                                                                                                                        (36)\n",
      "            if len(codes) > 0: -------------------------------------------------------------------------------------------------------------------------(37)\n",
      "                numindent = len(l) - len(l.lstrip()) # make sure indent not messed up by trailing spaces------------------------------------------------(38)\n",
      "                dbcodes = \"dbprintinsert(\"--------------------------------------------------------------------------------------------------------------(39)\n",
      "                count = 1-------------------------------------------------------------------------------------------------------------------------------(40)\n",
      "                for c in codes:-------------------------------------------------------------------------------------------------------------------------(41)\n",
      "                    if count == len(codes):-------------------------------------------------------------------------------------------------------------(42)\n",
      "                        dbcodes = dbcodes + '\"' + c + '\"' + \",\" + \"env=g\" + \")\"-------------------------------------------------------------------------(43)\n",
      "                    else:-------------------------------------------------------------------------------------------------------------------------------(44)\n",
      "                        dbcodes = dbcodes + '\"' + c + '\"' + \",\"-----------------------------------------------------------------------------------------(45)\n",
      "                    count = count + 1-------------------------------------------------------------------------------------------------------------------(46)\n",
      "                                                                                                                                                        (47)\n",
      "                dbsrc = dbsrc + \" \"*numindent + \"g = locals()\" + '\\n'-----------------------------------------------------------------------------------(48)\n",
      "                dbsrc = dbsrc + \" \"*numindent + dbcodes + '\\n'------------------------------------------------------------------------------------------(49)\n",
      "                dbsrc = dbsrc + l + '\\n'     -----------------------------------------------------------------------------------------------------------(50)\n",
      "            else:---------------------------------------------------------------------------------------------------------------------------------------(51)\n",
      "                dbsrc = dbsrc + l + '\\n'                ------------------------------------------------------------------------------------------------(52)\n",
      "                                                                                                                                                        (53)\n",
      "        elif bool(l.strip()) and idx + 1 == len(lst):---------------------------------------------------------------------------------------------------(54)\n",
      "            dbsrc = dbsrc + l---------------------------------------------------------------------------------------------------------------------------(55)\n",
      "        else: # make sure this printout is identical to the printsrc output-----------------------------------------------------------------------------(56)\n",
      "            dbsrc = dbsrc + l + '\\n'--------------------------------------------------------------------------------------------------------------------(57)\n",
      "                                                                                                                                                        (58)\n",
      "    if showdbsrc: # added to debug----------------------------------------------------------------------------------------------------------------------(59)\n",
      "        print('{:-<60}'.format(colorize(\"showdbsrc=Start\", color=\"y\")))---------------------------------------------------------------------------------(60)\n",
      "        totallen = 157----------------------------------------------------------------------------------------------------------------------------------(61)\n",
      "        lenidx = 5--------------------------------------------------------------------------------------------------------------------------------------(62)\n",
      "        dblst = dbsrc.split('\\n')-----------------------------------------------------------------------------------------------------------------------(63)\n",
      "        for idx, l in zip(range(len(dblst)), dblst):----------------------------------------------------------------------------------------------------(64)\n",
      "            lenl = len(l)-------------------------------------------------------------------------------------------------------------------------------(65)\n",
      "#             if \"dbprintinsert\" in l: -----------------------------------------------------------------------------------------------------------------(66)\n",
      "            if l.strip().startswith(\"dbprintinsert\"): --------------------------------------------------------------------------------------------------(67)\n",
      "                print(l + \"=\"*(totallen-lenl-lenidx) + \"(db)\")------------------------------------------------------------------------------------------(68)\n",
      "            elif not bool(l.strip()):-------------------------------------------------------------------------------------------------------------------(69)\n",
      "                print(l + \" \"*(totallen-lenl-lenidx) + \"(\" + str(idx) + \")\")----------------------------------------------------------------------------(70)\n",
      "            else:---------------------------------------------------------------------------------------------------------------------------------------(71)\n",
      "                print(l + \"-\"*(totallen-lenl-lenidx) + \"(\" + str(idx) + \")\")----------------------------------------------------------------------------(72)\n",
      "                                                                                                                                                        (73)\n",
      "        print(f\"locals() keys: {list(locals().keys())}\")------------------------------------------------------------------------------------------------(74)\n",
      "        names = self.orisrc.__qualname__.split('.')-----------------------------------------------------------------------------------------------------(75)\n",
      "        g = locals()------------------------------------------------------------------------------------------------------------------------------------(76)\n",
      "        dbprintinsert(\"len(names)\",\"names\",env=g)=======================================================================================================(db)\n",
      "        if len(names) == 2:-----------------------------------------------------------------------------------------------------------------------------(78)\n",
      "            clsname = names[0]--------------------------------------------------------------------------------------------------------------------------(79)\n",
      "            methodname = names[1]-----------------------------------------------------------------------------------------------------------------------(80)\n",
      "            print(f\"before exec, is {methodname} in locals(): {methodname in locals()}\")----------------------------------------------------------------(81)\n",
      "            print(f\"before exec, is {clsname} in locals(): {clsname in locals()}\")----------------------------------------------------------------------(82)\n",
      "            print(f\"before exec, is {self.orisrc.__qualname__} in locals(): {self.orisrc.__qualname__ in locals()}\")------------------------------------(83)\n",
      "            print(f\"before exec, is {methodname} in self.outenv: {methodname in self.outenv}\")----------------------------------------------------------(84)\n",
      "            print(f\"before exec, is {clsname} in self.outenv: {clsname in self.outenv}\")----------------------------------------------------------------(85)\n",
      "            print(f\"before exec, is {self.orisrc.__qualname__} in self.outenv: {self.orisrc.__qualname__ in self.outenv}\")------------------------------(86)\n",
      "            expr = \"self.outenv[\" + \"'\" + clsname + \"'].\" + methodname----------------------------------------------------------------------------------(87)\n",
      "            expr1 = \"self.outenv[\" + \"'\" + methodname + \"']\"--------------------------------------------------------------------------------------------(88)\n",
      "            print(f\"inspect.getsourcefile({expr}) == '<string>': {True if inspect.getsourcefile(eval(expr)) == '<string>' else inspect.getsourcefile(eval(expr))}\")(89)\n",
      "            print(f\"self.outenv[{methodname}]: {eval(expr1)}\")------------------------------------------------------------------------------------------(90)\n",
      "            print(f\"{self.orisrc} is {expr}: {self.orisrc is eval(expr)}\")------------------------------------------------------------------------------(91)\n",
      "    exec(dbsrc, globals().update(self.outenv)) # make sure b can access lst from above------------------------------------------------------------------(92)\n",
      "    print('{:-<60}'.format(colorize(\"exec on dbsrc above\", color=\"y\")))---------------------------------------------------------------------------------(93)\n",
      "                                                                                                                                                        (94)\n",
      "    if showdbsrc: --------------------------------------------------------------------------------------------------------------------------------------(95)\n",
      "        print(f\"locals() keys: {list(locals().keys())}\")------------------------------------------------------------------------------------------------(96)\n",
      "        if len(names) == 2:-----------------------------------------------------------------------------------------------------------------------------(97)\n",
      "            print(f\"after exec, is {methodname} in locals(): {methodname in locals()}\")-----------------------------------------------------------------(98)\n",
      "            print(f\"after exec, is {clsname} in locals(): {clsname in locals()}\")-----------------------------------------------------------------------(99)\n",
      "            print(f\"after exec, is {self.orisrc.__qualname__} in locals(): {self.orisrc.__qualname__ in locals()}\")-------------------------------------(100)\n",
      "            print(f\"after exec, is {methodname} in self.outenv: {methodname in self.outenv}\")-----------------------------------------------------------(101)\n",
      "            print(f\"after exec, is {clsname} in self.outenv: {clsname in self.outenv}\")-----------------------------------------------------------------(102)\n",
      "            print(f\"after exec, is {self.orisrc.__qualname__} in self.outenv: {self.orisrc.__qualname__ in self.outenv}\")-------------------------------(103)\n",
      "    #         print(f\"after exec, are {methodname} and {clsname} and {self.orisrc.__qualname__} in locals(): {[i in list(locals().keys()) for i in [self.orisrc.__name__, clsname, self.orisrc.__qualname__]]}\")(104)\n",
      "    #         print(f\"after exec, are {methodname} and {clsname} and {self.orisrc.__qualname__} in self.outenv(): {[i in self.outenv for i in [methodname, clsname, self.orisrc.__qualname__]]}\")(105)\n",
      "            print(f\"inspect.getsourcefile({expr}) == '<string>': {True if inspect.getsourcefile(eval(expr)) == '<string>' else inspect.getsourcefile(eval(expr))}\")(106)\n",
      "            print(f\"self.outenv[{methodname}]: {eval(expr1)}\")------------------------------------------------------------------------------------------(107)\n",
      "            print(f\"{self.orisrc} is {expr}: {self.orisrc is eval(expr)}\")            ------------------------------------------------------------------(108)\n",
      "        print(f'self.orisrc.__name__: {self.orisrc.__name__}')------------------------------------------------------------------------------------------(109)\n",
      "        print(f'locals()[self.orisrc.__name__]: {locals()[self.orisrc.__name__]}')----------------------------------------------------------------------(110)\n",
      "        print('{:-<60}'.format(colorize(\"showdbsrc=End\", color=\"y\")))-----------------------------------------------------------------------------------(111)\n",
      "                                                                                                                                                        (112)\n",
      "    return locals()[self.orisrc.__name__]---------------------------------------------------------------------------------------------------------------(113)\n",
      "locals() keys: ['self', 'dbcode', 'cmt', 'expand', 'showdbsrc', 'codes', 'src', 'dbsrc', 'indent', 'lst', 'newlst', 'i', 'srclines', 'idx', 'l', 'numindent', 'dbcodes', 'count', 'c', 'totallen', 'lenidx', 'dblst', 'lenl']\n",
      "before exec, is dbprint in locals(): False\n",
      "before exec, is Fastdb in locals(): False\n",
      "before exec, is Fastdb.dbprint in locals(): False\n",
      "before exec, is dbprint in self.outenv: True\n",
      "before exec, is Fastdb in self.outenv: True\n",
      "before exec, is Fastdb.dbprint in self.outenv: False\n",
      "inspect.getsourcefile(self.outenv['Fastdb'].dbprint) == '<string>': /Users/Natsume/Documents/fastdebug/fastdebug/core.py\n",
      "self.outenv[dbprint]: None\n",
      "<function Fastdb.dbprint at 0x110553280> is self.outenv['Fastdb'].dbprint: True\n",
      "\u001b[93mexec on dbsrc above\u001b[0m--------------------------------\n",
      "locals() keys: ['self', 'dbcode', 'cmt', 'expand', 'showdbsrc', 'codes', 'src', 'dbsrc', 'indent', 'lst', 'newlst', 'i', 'srclines', 'idx', 'l', 'numindent', 'dbcodes', 'count', 'c', 'totallen', 'lenidx', 'dblst', 'lenl', 'names', 'clsname', 'methodname', 'expr', 'expr1', 'dbprint']\n",
      "after exec, is dbprint in locals(): True\n",
      "after exec, is Fastdb in locals(): False\n",
      "after exec, is Fastdb.dbprint in locals(): False\n",
      "after exec, is dbprint in self.outenv: True\n",
      "after exec, is Fastdb in self.outenv: True\n",
      "after exec, is Fastdb.dbprint in self.outenv: False\n",
      "inspect.getsourcefile(self.outenv['Fastdb'].dbprint) == '<string>': True\n",
      "self.outenv[dbprint]: None\n",
      "<function Fastdb.dbprint at 0x110553280> is self.outenv['Fastdb'].dbprint: False\n",
      "self.orisrc.__name__: dbprint\n",
      "locals()[self.orisrc.__name__]: None\n",
      "\u001b[93mshowdbsrc=End\u001b[0m--------------------------------------\n",
      "\n",
      "\n",
      "\u001b[93mrun .dbprint on Fastdb.dbprint is done above\u001b[0m--------------------------------------------------------------------------------------------------------\n",
      "\n",
      "\n",
      "             ):                                                                                                                                         (7)\n",
      "    'Check what inside a module: `__all__`, functions, classes, builtins, and callables'                                                                (8)\n",
      "    dun_all = len(mo.__all__) if hasattr(mo, \"__all__\") else 0==========================================================================================(9)\n",
      "                                                                                                                                \u001b[91mcount num of funcs in __all__\u001b[0m\n",
      "    funcs = inspect.getmembers(mo, inspect.isfunction)                                                                                                  (10)\n",
      "    classes = inspect.getmembers(mo, inspect.isclass)                                                                                                   (11)\n",
      "\u001b[93mprint selected srcline with expands above\u001b[0m----------\n",
      "\u001b[93mshowdbsrc=Start\u001b[0m------------------------------------\n",
      "def whatinside(mo, # module, e.g., `import fastcore.all as fa`, use `fa` here---------------------------------------------------------------------------(0)\n",
      "               dun:bool=False, # print all items in __all__---------------------------------------------------------------------------------------------(1)\n",
      "               func:bool=False, # print all user defined functions--------------------------------------------------------------------------------------(2)\n",
      "               clas:bool=False, # print all class objects-----------------------------------------------------------------------------------------------(3)\n",
      "               bltin:bool=False, # print all builtin funcs or methods-----------------------------------------------------------------------------------(4)\n",
      "               lib:bool=False, # print all the modules of the library it belongs to---------------------------------------------------------------------(5)\n",
      "               cal:bool=False # print all callables-----------------------------------------------------------------------------------------------------(6)\n",
      "             ): ----------------------------------------------------------------------------------------------------------------------------------------(7)\n",
      "    'Check what inside a module: `__all__`, functions, classes, builtins, and callables'----------------------------------------------------------------(8)\n",
      "    g = locals()----------------------------------------------------------------------------------------------------------------------------------------(9)\n",
      "    dbprintinsert(\"type(mo)\",env=g)=====================================================================================================================(db)\n",
      "    dun_all = len(mo.__all__) if hasattr(mo, \"__all__\") else 0------------------------------------------------------------------------------------------(11)\n",
      "    funcs = inspect.getmembers(mo, inspect.isfunction)--------------------------------------------------------------------------------------------------(12)\n",
      "    classes = inspect.getmembers(mo, inspect.isclass)---------------------------------------------------------------------------------------------------(13)\n",
      "    builtins = inspect.getmembers(mo, inspect.isbuiltin)------------------------------------------------------------------------------------------------(14)\n",
      "    callables = inspect.getmembers(mo, callable)--------------------------------------------------------------------------------------------------------(15)\n",
      "    pkgpath = os.path.dirname(mo.__file__)--------------------------------------------------------------------------------------------------------------(16)\n",
      "    print(f\"{mo.__name__} has: \\n{dun_all} items in its __all__, and \\n{len(funcs)} user defined functions, \\n{len(classes)} classes or class objects, \\n{len(builtins)} builtin funcs and methods, and\\n{len(callables)} callables.\\n\")  (17)\n",
      "    if hasattr(mo, \"__all__\") and dun: pprint(mo.__all__)-----------------------------------------------------------------------------------------------(18)\n",
      "    if func: -------------------------------------------------------------------------------------------------------------------------------------------(19)\n",
      "        print(f'The user defined functions are:')-------------------------------------------------------------------------------------------------------(20)\n",
      "        pprint([i[0] for i in funcs])-------------------------------------------------------------------------------------------------------------------(21)\n",
      "    if clas: -------------------------------------------------------------------------------------------------------------------------------------------(22)\n",
      "        print(f'The class objects are:')----------------------------------------------------------------------------------------------------------------(23)\n",
      "        pprint([i[0] for i in classes])-----------------------------------------------------------------------------------------------------------------(24)\n",
      "    if bltin: ------------------------------------------------------------------------------------------------------------------------------------------(25)\n",
      "        print(f'The builtin functions or methods are:')-------------------------------------------------------------------------------------------------(26)\n",
      "        pprint([i[0] for i in builtins])----------------------------------------------------------------------------------------------------------------(27)\n",
      "    if cal: --------------------------------------------------------------------------------------------------------------------------------------------(28)\n",
      "        print(f'The callables are: ')-------------------------------------------------------------------------------------------------------------------(29)\n",
      "        pprint([i[0] for i in callables])---------------------------------------------------------------------------------------------------------------(30)\n",
      "    if lib: --------------------------------------------------------------------------------------------------------------------------------------------(31)\n",
      "        modules = [name for _, name, _ in pkgutil.iter_modules([pkgpath])]------------------------------------------------------------------------------(32)\n",
      "        print(f'The library has {len(modules)} modules')------------------------------------------------------------------------------------------------(33)\n",
      "        pprint(modules)---------------------------------------------------------------------------------------------------------------------------------(34)\n",
      "locals() keys: ['self', 'dbcode', 'cmt', 'expand', 'showdbsrc', 'codes', 'src', 'dbsrc', 'indent', 'lst', 'newlst', 'i', 'srclines', 'idx', 'l', 'numindent', 'dbcodes', 'count', 'c', 'totallen', 'lenidx', 'dblst', 'lenl']\n",
      "\n",
      "\n",
      "                                                                                                                                 len(names) => len(names) : 1\n",
      "\n",
      "\n",
      "                                                                                                                              names => names : ['whatinside']\n",
      "\u001b[93mexec on dbsrc above\u001b[0m--------------------------------\n",
      "locals() keys: ['self', 'dbcode', 'cmt', 'expand', 'showdbsrc', 'codes', 'src', 'dbsrc', 'indent', 'lst', 'newlst', 'i', 'srclines', 'idx', 'l', 'numindent', 'dbcodes', 'count', 'c', 'totallen', 'lenidx', 'dblst', 'lenl', 'names', 'g', 'whatinside']\n",
      "self.orisrc.__name__: whatinside\n",
      "locals()[self.orisrc.__name__]: <function whatinside at 0x1105aa940>\n",
      "\u001b[93mshowdbsrc=End\u001b[0m--------------------------------------\n",
      "\n",
      "\n",
      "\u001b[93mrun new .dbprint on whatinside is done\u001b[0m--------------------------------------------------------------------------------------------------------------\n",
      "\n",
      "\n",
      "\n",
      "\n",
      "                                                                                                                      type(mo) => type(mo) : <class 'module'>\n",
      "fastdebug.utils has: \n",
      "3 items in its __all__, and \n",
      "122 user defined functions, \n",
      "18 classes or class objects, \n",
      "1 builtin funcs and methods, and\n",
      "143 callables.\n",
      "\n",
      "\n",
      "\n",
      "\u001b[93mrun new whatinside on core above\u001b[0m--------------------------------------------------------------------------------------------------------------------\n",
      "\n",
      "\n",
      "#             if \"dbprintinsert\" in l: ===================================================(66)      \n",
      "            if l.strip().startswith(\"dbprintinsert\"): ====================================(67)      \n",
      "                print(l + \"=\"*(totallen-lenl-lenidx) + \"(db)\")============================(68)      \n",
      "            elif not bool(l.strip()):=====================================================(69)      \n",
      "                print(l + \" \"*(totallen-lenl-lenidx) + \"(\" + str(idx) + \")\")==============(70)      \n",
      "            else:=========================================================================(71)      \n",
      "                print(l + \"-\"*(totallen-lenl-lenidx) + \"(\" + str(idx) + \")\")==============(72) # the block above: when showdbsrc=True, print out the dbsrc with dbprintinsert inserted\n",
      "                                                                                                                                                        (73)\n",
      "        print(f\"locals() keys: {list(locals().keys())}\")==================================(74) # show locals() before exec on dbsrc\n",
      "        names = self.orisrc.__qualname__.split('.')=======================================(75)      \n",
      "        if len(names) == 2:===============================================================(76) # when debug on a method rather than a funcion\n",
      "            clsname = names[0]============================================================(77)      \n",
      "            methodname = names[1]=========================================================(78)      \n",
      "            print(f\"before exec, is {methodname} in locals(): {methodname in locals()}\")==(79)      \n",
      "            print(f\"before exec, is {clsname} in locals(): {clsname in locals()}\")========(80)      \n",
      "            print(f\"before exec, is {self.orisrc.__qualname__} in locals(): {self.orisrc.__qualname__ in locals()}\")                                    (81)\n",
      "            print(f\"before exec, is {methodname} in self.outenv: {methodname in self.outenv}\")                                                          (82)\n",
      "            print(f\"before exec, is {clsname} in self.outenv: {clsname in self.outenv}\")==(83)      \n",
      "            print(f\"before exec, is {self.orisrc.__qualname__} in self.outenv: {self.orisrc.__qualname__ in self.outenv}\")                              (84)\n",
      "            expr = \"self.outenv[\" + \"'\" + clsname + \"'].\" + methodname====================(85)      \n",
      "            expr1 = \"self.outenv[\" + \"'\" + methodname + \"']\"==============================(86)      \n",
      "            print(f\"inspect.getsourcefile({expr}) == '<string>': {True if inspect.getsourcefile(eval(expr)) == '<string>' else inspect.getsourcefile(eval(expr))}\")(87)\n",
      "            print(f\"self.outenv[{methodname}]: {eval(expr1)}\")============================(88)      \n",
      "            print(f\"{self.orisrc} is {expr}: {self.orisrc is eval(expr)}\")================(89)      \n",
      "    exec(dbsrc, globals().update(self.outenv)) # make sure b can access lst from above====(90)      \n",
      "    print('{:-<60}'.format(colorize(\"exec on dbsrc above\", color=\"y\")))===================(91)      \n",
      "                                                                                                                                                        (92)\n",
      "    if showdbsrc: ========================================================================(93)      \n",
      "        print(f\"locals() keys: {list(locals().keys())}\")==================================(94)      \n",
      "        if len(names) == 2:===============================================================(95)      \n",
      "            print(f\"after exec, is {methodname} in locals(): {methodname in locals()}\")===(96)      \n",
      "            print(f\"after exec, is {clsname} in locals(): {clsname in locals()}\")=========(97)      \n",
      "            print(f\"after exec, is {self.orisrc.__qualname__} in locals(): {self.orisrc.__qualname__ in locals()}\")                                     (98)\n",
      "                                                                                                                                     part No.3 out of 4 parts\n"
     ]
    }
   ],
   "source": [
    "dbdb(76, \"when debug on a method rather than a funcion\", \"len(names)\", \"names\", db=True)"
   ]
  },
  {
   "cell_type": "code",
   "execution_count": null,
   "id": "149f3347",
   "metadata": {},
   "outputs": [
    {
     "name": "stdout",
     "output_type": "stream",
     "text": [
      "            print(f\"inspect.getsourcefile({expr}) == '<string>': {True if inspect.getsourcefile(eval(expr)) == '<string>' else inspect.getsourcefile(eval(expr))}\")(87)\n",
      "            print(f\"self.outenv[{methodname}]: {eval(expr1)}\")                                                                                          (88)\n",
      "            print(f\"{self.orisrc} is {expr}: {self.orisrc is eval(expr)}\")==============================================================================(89)\n",
      "                                                                                                                                                \u001b[91mexec on dbsrc\u001b[0m\n",
      "    exec(dbsrc, globals().update(self.outenv)) # make sure b can access lst from above                                                                  (90)\n",
      "    print('{:-<60}'.format(colorize(\"exec on dbsrc above\", color=\"y\")))                                                                                 (91)\n",
      "\u001b[93mprint selected srcline with expands above\u001b[0m----------\n",
      "\u001b[93mexec on dbsrc above\u001b[0m--------------------------------\n",
      "\n",
      "\n",
      "\u001b[93mrun .dbprint on Fastdb.dbprint is done above\u001b[0m--------------------------------------------------------------------------------------------------------\n",
      "\n",
      "\n",
      "             ):                                                                                                                                         (7)\n",
      "    'Check what inside a module: `__all__`, functions, classes, builtins, and callables'                                                                (8)\n",
      "    dun_all = len(mo.__all__) if hasattr(mo, \"__all__\") else 0==========================================================================================(9)\n",
      "                                                                                                                                \u001b[91mcount num of funcs in __all__\u001b[0m\n",
      "    funcs = inspect.getmembers(mo, inspect.isfunction)                                                                                                  (10)\n",
      "    classes = inspect.getmembers(mo, inspect.isclass)                                                                                                   (11)\n",
      "\u001b[93mprint selected srcline with expands above\u001b[0m----------\n",
      "\u001b[93mexec on dbsrc above\u001b[0m--------------------------------\n",
      "\n",
      "\n",
      "\u001b[93mrun new .dbprint on whatinside is done\u001b[0m--------------------------------------------------------------------------------------------------------------\n",
      "\n",
      "\n",
      "\n",
      "\n",
      "                                                                                                                      type(mo) => type(mo) : <class 'module'>\n",
      "fastdebug.utils has: \n",
      "3 items in its __all__, and \n",
      "122 user defined functions, \n",
      "18 classes or class objects, \n",
      "1 builtin funcs and methods, and\n",
      "143 callables.\n",
      "\n",
      "\n",
      "\n",
      "\u001b[93mrun new whatinside on core above\u001b[0m--------------------------------------------------------------------------------------------------------------------\n",
      "\n",
      "\n",
      "#             if \"dbprintinsert\" in l: ===================================================(66)      \n",
      "            if l.strip().startswith(\"dbprintinsert\"): ====================================(67)      \n",
      "                print(l + \"=\"*(totallen-lenl-lenidx) + \"(db)\")============================(68)      \n",
      "            elif not bool(l.strip()):=====================================================(69)      \n",
      "                print(l + \" \"*(totallen-lenl-lenidx) + \"(\" + str(idx) + \")\")==============(70)      \n",
      "            else:=========================================================================(71)      \n",
      "                print(l + \"-\"*(totallen-lenl-lenidx) + \"(\" + str(idx) + \")\")==============(72) # the block above: when showdbsrc=True, print out the dbsrc with dbprintinsert inserted\n",
      "                                                                                                                                                        (73)\n",
      "        print(f\"locals() keys: {list(locals().keys())}\")==================================(74) # show locals() before exec on dbsrc\n",
      "        names = self.orisrc.__qualname__.split('.')=======================================(75)      \n",
      "        if len(names) == 2:===============================================================(76) # when debug on a method rather than a funcion\n",
      "            clsname = names[0]============================================================(77)      \n",
      "            methodname = names[1]=========================================================(78)      \n",
      "            print(f\"before exec, is {methodname} in locals(): {methodname in locals()}\")==(79)      \n",
      "            print(f\"before exec, is {clsname} in locals(): {clsname in locals()}\")========(80)      \n",
      "            print(f\"before exec, is {self.orisrc.__qualname__} in locals(): {self.orisrc.__qualname__ in locals()}\")                                    (81)\n",
      "            print(f\"before exec, is {methodname} in self.outenv: {methodname in self.outenv}\")                                                          (82)\n",
      "            print(f\"before exec, is {clsname} in self.outenv: {clsname in self.outenv}\")==(83)      \n",
      "            print(f\"before exec, is {self.orisrc.__qualname__} in self.outenv: {self.orisrc.__qualname__ in self.outenv}\")                              (84)\n",
      "            expr = \"self.outenv[\" + \"'\" + clsname + \"'].\" + methodname====================(85)      \n",
      "            expr1 = \"self.outenv[\" + \"'\" + methodname + \"']\"==============================(86)      \n",
      "            print(f\"inspect.getsourcefile({expr}) == '<string>': {True if inspect.getsourcefile(eval(expr)) == '<string>' else inspect.getsourcefile(eval(expr))}\")(87)\n",
      "            print(f\"self.outenv[{methodname}]: {eval(expr1)}\")============================(88)      \n",
      "            print(f\"{self.orisrc} is {expr}: {self.orisrc is eval(expr)}\")================(89) # exec on dbsrc\n",
      "    exec(dbsrc, globals().update(self.outenv)) # make sure b can access lst from above====(90)      \n",
      "    print('{:-<60}'.format(colorize(\"exec on dbsrc above\", color=\"y\")))===================(91)      \n",
      "                                                                                                                                                        (92)\n",
      "    if showdbsrc: ========================================================================(93)      \n",
      "        print(f\"locals() keys: {list(locals().keys())}\")==================================(94)      \n",
      "        if len(names) == 2:===============================================================(95)      \n",
      "            print(f\"after exec, is {methodname} in locals(): {methodname in locals()}\")===(96)      \n",
      "            print(f\"after exec, is {clsname} in locals(): {clsname in locals()}\")=========(97)      \n",
      "            print(f\"after exec, is {self.orisrc.__qualname__} in locals(): {self.orisrc.__qualname__ in locals()}\")                                     (98)\n",
      "                                                                                                                                     part No.3 out of 4 parts\n"
     ]
    }
   ],
   "source": [
    "dbdb(89, \"exec on dbsrc\")"
   ]
  },
  {
   "cell_type": "code",
   "execution_count": null,
   "id": "962ac268",
   "metadata": {},
   "outputs": [
    {
     "name": "stdout",
     "output_type": "stream",
     "text": [
      "    exec(dbsrc, globals().update(self.outenv)) # make sure b can access lst from above                                                                  (90)\n",
      "    print('{:-<60}'.format(colorize(\"exec on dbsrc above\", color=\"y\")))                                                                                 (91)\n",
      "    ====================================================================================================================================================(92)\n",
      "                                                                                                 \u001b[91mshowdbsrc=True, or debugging on .dbprint after exec on dbsrc\u001b[0m\n",
      "    if showdbsrc:                                                                                                                                       (93)\n",
      "        print(f\"locals() keys: {list(locals().keys())}\")                                                                                                (94)\n",
      "\u001b[93mprint selected srcline with expands above\u001b[0m----------\n",
      "\u001b[93mexec on dbsrc above\u001b[0m--------------------------------\n",
      "\n",
      "\n",
      "\u001b[93mrun .dbprint on Fastdb.dbprint is done above\u001b[0m--------------------------------------------------------------------------------------------------------\n",
      "\n",
      "\n",
      "             ):                                                                                                                                         (7)\n",
      "    'Check what inside a module: `__all__`, functions, classes, builtins, and callables'                                                                (8)\n",
      "    dun_all = len(mo.__all__) if hasattr(mo, \"__all__\") else 0==========================================================================================(9)\n",
      "                                                                                                                                \u001b[91mcount num of funcs in __all__\u001b[0m\n",
      "    funcs = inspect.getmembers(mo, inspect.isfunction)                                                                                                  (10)\n",
      "    classes = inspect.getmembers(mo, inspect.isclass)                                                                                                   (11)\n",
      "\u001b[93mprint selected srcline with expands above\u001b[0m----------\n",
      "\u001b[93mexec on dbsrc above\u001b[0m--------------------------------\n",
      "\n",
      "\n",
      "\u001b[93mrun new .dbprint on whatinside is done\u001b[0m--------------------------------------------------------------------------------------------------------------\n",
      "\n",
      "\n",
      "\n",
      "\n",
      "                                                                                                                      type(mo) => type(mo) : <class 'module'>\n",
      "fastdebug.utils has: \n",
      "3 items in its __all__, and \n",
      "122 user defined functions, \n",
      "18 classes or class objects, \n",
      "1 builtin funcs and methods, and\n",
      "143 callables.\n",
      "\n",
      "\n",
      "\n",
      "\u001b[93mrun new whatinside on core above\u001b[0m--------------------------------------------------------------------------------------------------------------------\n",
      "\n",
      "\n",
      "#             if \"dbprintinsert\" in l: ===================================================(66)      \n",
      "            if l.strip().startswith(\"dbprintinsert\"): ====================================(67)      \n",
      "                print(l + \"=\"*(totallen-lenl-lenidx) + \"(db)\")============================(68)      \n",
      "            elif not bool(l.strip()):=====================================================(69)      \n",
      "                print(l + \" \"*(totallen-lenl-lenidx) + \"(\" + str(idx) + \")\")==============(70)      \n",
      "            else:=========================================================================(71)      \n",
      "                print(l + \"-\"*(totallen-lenl-lenidx) + \"(\" + str(idx) + \")\")==============(72) # the block above: when showdbsrc=True, print out the dbsrc with dbprintinsert inserted\n",
      "                                                                                                                                                        (73)\n",
      "        print(f\"locals() keys: {list(locals().keys())}\")==================================(74) # show locals() before exec on dbsrc\n",
      "        names = self.orisrc.__qualname__.split('.')=======================================(75)      \n",
      "        if len(names) == 2:===============================================================(76) # when debug on a method rather than a funcion\n",
      "            clsname = names[0]============================================================(77)      \n",
      "            methodname = names[1]=========================================================(78)      \n",
      "            print(f\"before exec, is {methodname} in locals(): {methodname in locals()}\")==(79)      \n",
      "            print(f\"before exec, is {clsname} in locals(): {clsname in locals()}\")========(80)      \n",
      "            print(f\"before exec, is {self.orisrc.__qualname__} in locals(): {self.orisrc.__qualname__ in locals()}\")                                    (81)\n",
      "            print(f\"before exec, is {methodname} in self.outenv: {methodname in self.outenv}\")                                                          (82)\n",
      "            print(f\"before exec, is {clsname} in self.outenv: {clsname in self.outenv}\")==(83)      \n",
      "            print(f\"before exec, is {self.orisrc.__qualname__} in self.outenv: {self.orisrc.__qualname__ in self.outenv}\")                              (84)\n",
      "            expr = \"self.outenv[\" + \"'\" + clsname + \"'].\" + methodname====================(85)      \n",
      "            expr1 = \"self.outenv[\" + \"'\" + methodname + \"']\"==============================(86)      \n",
      "            print(f\"inspect.getsourcefile({expr}) == '<string>': {True if inspect.getsourcefile(eval(expr)) == '<string>' else inspect.getsourcefile(eval(expr))}\")(87)\n",
      "            print(f\"self.outenv[{methodname}]: {eval(expr1)}\")============================(88)      \n",
      "            print(f\"{self.orisrc} is {expr}: {self.orisrc is eval(expr)}\")================(89) # exec on dbsrc\n",
      "    exec(dbsrc, globals().update(self.outenv)) # make sure b can access lst from above====(90)      \n",
      "    print('{:-<60}'.format(colorize(\"exec on dbsrc above\", color=\"y\")))===================(91)      \n",
      "                                                                                                                                                        (92)\n",
      "    if showdbsrc: ========================================================================(93)      \n",
      "        print(f\"locals() keys: {list(locals().keys())}\")==================================(94)      \n",
      "        if len(names) == 2:===============================================================(95)      \n",
      "            print(f\"after exec, is {methodname} in locals(): {methodname in locals()}\")===(96)      \n",
      "            print(f\"after exec, is {clsname} in locals(): {clsname in locals()}\")=========(97)      \n",
      "            print(f\"after exec, is {self.orisrc.__qualname__} in locals(): {self.orisrc.__qualname__ in locals()}\")                                     (98)\n",
      "                                                                                                                                     part No.3 out of 4 parts\n"
     ]
    }
   ],
   "source": [
    "dbdb(92, \"showdbsrc=True, or debugging on .dbprint after exec on dbsrc\")"
   ]
  },
  {
   "cell_type": "code",
   "execution_count": null,
   "id": "5855f002",
   "metadata": {},
   "outputs": [
    {
     "name": "stdout",
     "output_type": "stream",
     "text": [
      "    exec(dbsrc, globals().update(self.outenv)) # make sure b can access lst from above====(90)      \n",
      "    print('{:-<60}'.format(colorize(\"exec on dbsrc above\", color=\"y\")))===================(91)      \n",
      "                                                                                                                                                        (92)\n",
      "    if showdbsrc: ========================================================================(93)      \n",
      "        print(f\"locals() keys: {list(locals().keys())}\")==================================(94)      \n",
      "        if len(names) == 2:===============================================================(95)      \n",
      "            print(f\"after exec, is {methodname} in locals(): {methodname in locals()}\")===(96)      \n",
      "            print(f\"after exec, is {clsname} in locals(): {clsname in locals()}\")=========(97)      \n",
      "            print(f\"after exec, is {self.orisrc.__qualname__} in locals(): {self.orisrc.__qualname__ in locals()}\")                                     (98)\n",
      "            print(f\"after exec, is {methodname} in self.outenv: {methodname in self.outenv}\")                                                           (99)\n",
      "            print(f\"after exec, is {clsname} in self.outenv: {clsname in self.outenv}\")===(100)     \n",
      "            print(f\"after exec, is {self.orisrc.__qualname__} in self.outenv: {self.orisrc.__qualname__ in self.outenv}\")                               (101)\n",
      "    #         print(f\"after exec, are {methodname} and {clsname} and {self.orisrc.__qualname__} in locals(): {[i in list(locals().keys()) for i in [self.orisrc.__name__, clsname, self.orisrc.__qualname__]]}\")(102)\n",
      "    #         print(f\"after exec, are {methodname} and {clsname} and {self.orisrc.__qualname__} in self.outenv(): {[i in self.outenv for i in [methodname, clsname, self.orisrc.__qualname__]]}\")(103)\n",
      "            print(f\"inspect.getsourcefile({expr}) == '<string>': {True if inspect.getsourcefile(eval(expr)) == '<string>' else inspect.getsourcefile(eval(expr))}\")(104)\n",
      "            print(f\"self.outenv[{methodname}]: {eval(expr1)}\")============================(105)     \n",
      "            print(f\"{self.orisrc} is {expr}: {self.orisrc is eval(expr)}\")            ====(106)     \n",
      "        print(f'self.orisrc.__name__: {self.orisrc.__name__}')============================(107)     \n",
      "        print(f'locals()[self.orisrc.__name__]: {locals()[self.orisrc.__name__]}')========(108)     \n",
      "        print('{:-<60}'.format(colorize(\"showdbsrc=End\", color=\"y\")))=====================(109)     \n",
      "                                                                                                                                                        (110)\n",
      "    return locals()[self.orisrc.__name__]=================================================(111)     \n",
      "                                                                                                                                                        (112)\n",
      "                                                                                                                                     part No.4 out of 4 parts\n"
     ]
    }
   ],
   "source": [
    "fdb.print(30, 4)"
   ]
  },
  {
   "cell_type": "code",
   "execution_count": null,
   "id": "6deb2322",
   "metadata": {},
   "outputs": [
    {
     "name": "stdout",
     "output_type": "stream",
     "text": [
      "        print(f'self.orisrc.__name__: {self.orisrc.__name__}')                                                                                          (107)\n",
      "        print(f'locals()[self.orisrc.__name__]: {locals()[self.orisrc.__name__]}')                                                                      (108)\n",
      "        print('{:-<60}'.format(colorize(\"showdbsrc=End\", color=\"y\")))===================================================================================(109)\n",
      "                                                                          \u001b[91mreturn the dbsrc variable in locals(), but it may be None when dealing with method.\u001b[0m\n",
      "                                                                                                                                                        (110)\n",
      "    return locals()[self.orisrc.__name__]                                                                                                               (111)\n",
      "\u001b[93mprint selected srcline with expands above\u001b[0m----------\n",
      "\u001b[93mexec on dbsrc above\u001b[0m--------------------------------\n",
      "\n",
      "\n",
      "\u001b[93mrun .dbprint on Fastdb.dbprint is done above\u001b[0m--------------------------------------------------------------------------------------------------------\n",
      "\n",
      "\n",
      "             ):                                                                                                                                         (7)\n",
      "    'Check what inside a module: `__all__`, functions, classes, builtins, and callables'                                                                (8)\n",
      "    dun_all = len(mo.__all__) if hasattr(mo, \"__all__\") else 0==========================================================================================(9)\n",
      "                                                                                                                                \u001b[91mcount num of funcs in __all__\u001b[0m\n",
      "    funcs = inspect.getmembers(mo, inspect.isfunction)                                                                                                  (10)\n",
      "    classes = inspect.getmembers(mo, inspect.isclass)                                                                                                   (11)\n",
      "\u001b[93mprint selected srcline with expands above\u001b[0m----------\n",
      "\u001b[93mexec on dbsrc above\u001b[0m--------------------------------\n",
      "\n",
      "\n",
      "\u001b[93mrun new .dbprint on whatinside is done\u001b[0m--------------------------------------------------------------------------------------------------------------\n",
      "\n",
      "\n",
      "\n",
      "\n",
      "                                                                                                                      type(mo) => type(mo) : <class 'module'>\n",
      "fastdebug.utils has: \n",
      "3 items in its __all__, and \n",
      "122 user defined functions, \n",
      "18 classes or class objects, \n",
      "1 builtin funcs and methods, and\n",
      "143 callables.\n",
      "\n",
      "\n",
      "\n",
      "\u001b[93mrun new whatinside on core above\u001b[0m--------------------------------------------------------------------------------------------------------------------\n",
      "\n",
      "\n",
      "@patch====================================================================================(0)       \n",
      "def dbprint(self:Fastdb, =================================================================(1)       \n",
      "            dbcode:int, # idx of a srcline under investigation, can only be int===========(2)       \n",
      "            cmt:str, # comment added to the srcline=======================================(3)       \n",
      "            *codes, # a list of expressions (str) you write to be evaluated above the srcline                                                           (4)\n",
      "            expand:int=2, # span 2 lines of srcode up and down from the srcline investigated                                                            (5)\n",
      "            showdbsrc:bool=False): # display dbsrc========================================(6)       \n",
      "    \"Add comment and evaluate custom (single or multi lines) expressions to any srcline of the source code \\                                            (7)\n",
      "you are investigating. Run exec on the entire srcode with added expressions (dbsrc), so that dbsrc is callable.\"                                        (8)\n",
      "                                                                                                                                                        (9)\n",
      "    src = self.orisrc=====================================================================(10) # keep original src safe\n",
      "    if type(dbcode) == int: self.cmts.update({dbcode: cmt})===============================(11) # collect and organize cmt by idx\n",
      "                                                                                                                                                        (12)\n",
      "    printsrc(src, dbcode, cmt, expand)====================================================(13) # print srcdoe with comment, idx and specified expands\n",
      "    print('{:-<60}'.format(colorize(\"print selected srcline with expands above\", color=\"y\")))                                                           (14)\n",
      "                                                                                                                                                        (15)\n",
      "    dbsrc = \"\"============================================================================(16)      \n",
      "    indent = 4============================================================================(17)      \n",
      "                                                                                                                                                        (18)\n",
      "    lst = inspect.getsource(src).split('\\n')==============================================(19) # remove the last line of srcode if empty\n",
      "    if not bool(lst[-1]): lst = lst[:-1]==================================================(20)      \n",
      "                                                                                                                                                        (21)\n",
      "    newlst = []===========================================================================(22) # empty strings as codes are ignored\n",
      "    for i in codes: # no matter whether there is \"\" or \"  \" in the front or in the middle of codes                                                      (23)\n",
      "        if bool(i.strip()): newlst.append(i)==============================================(24)      \n",
      "    codes = newlst========================================================================(25)      \n",
      "                                                                                                                                                        (26)\n",
      "    srclines = \"\"=========================================================================(27) # turn decode or idx into srcline string and raise type error if not int\n",
      "    if type(dbcode) == int:===============================================================(28)      \n",
      "        srclines = lst[dbcode]============================================================(29)      \n",
      "    else:=================================================================================(30)      \n",
      "        raise TypeError(\"decode must be an integer.\")=====================================(31)      \n",
      "                                                                                                                                                        (32)\n",
      "    for idx, l in zip(range(len(lst)), lst):==============================================(33) # loop every srcline with idx\n",
      "                                                                                                                                                        (34)\n",
      "        if bool(l.strip()) and l.strip() in srclines and idx == dbcode:===================(35) # When a srcline under investigation is detected in looping\n",
      "                                                                                                                                                        (36)\n",
      "            if len(codes) > 0: ===========================================================(37) # When there is code expressions to be inserted\n",
      "                numindent = len(l) - len(l.lstrip()) # make sure indent not messed up by trailing spaces                                                (38)\n",
      "                dbcodes = \"dbprintinsert(\"================================================(39)      \n",
      "                count = 1=================================================================(40)      \n",
      "                for c in codes:===========================================================(41)      \n",
      "                    if count == len(codes):===============================================(42)      \n",
      "                        dbcodes = dbcodes + '\"' + c + '\"' + \",\" + \"env=g\" + \")\"===========(43)      \n",
      "                    else:=================================================================(44)      \n",
      "                        dbcodes = dbcodes + '\"' + c + '\"' + \",\"===========================(45)      \n",
      "                    count = count + 1=====================================================(46)      \n",
      "                                                                                                                                                        (47)\n",
      "                dbsrc = dbsrc + \" \"*numindent + \"g = locals()\" + '\\n'=====================(48)      \n",
      "                dbsrc = dbsrc + \" \"*numindent + dbcodes + '\\n'============================(49)      \n",
      "                dbsrc = dbsrc + l + '\\n'     =============================================(50) # what does dbprintinsert line look like\n",
      "            else:=========================================================================(51)      \n",
      "                dbsrc = dbsrc + l + '\\n'                ==================================(52)      \n",
      "                                                                                                                                                        (53)\n",
      "        elif bool(l.strip()) and idx + 1 == len(lst):=====================================(54) # what to print at the end of dbsrc\n",
      "            dbsrc = dbsrc + l=============================================================(55)      \n",
      "        else: # make sure this printout is identical to the printsrc output===============(56) # Make the dbsrc printout identical to printsrc printout\n",
      "            dbsrc = dbsrc + l + '\\n'======================================================(57)      \n",
      "                                                                                                                                                        (58)\n",
      "    if showdbsrc: # added to debug========================================================(59)      \n",
      "        print('{:-<60}'.format(colorize(\"showdbsrc=Start\", color=\"y\")))===================(60)      \n",
      "        totallen = 157====================================================================(61)      \n",
      "        lenidx = 5========================================================================(62)      \n",
      "        dblst = dbsrc.split('\\n')=========================================================(63)      \n",
      "        for idx, l in zip(range(len(dblst)), dblst):======================================(64)      \n",
      "            lenl = len(l)=================================================================(65)      \n",
      "#             if \"dbprintinsert\" in l: ===================================================(66)      \n",
      "            if l.strip().startswith(\"dbprintinsert\"): ====================================(67)      \n",
      "                print(l + \"=\"*(totallen-lenl-lenidx) + \"(db)\")============================(68)      \n",
      "            elif not bool(l.strip()):=====================================================(69)      \n",
      "                print(l + \" \"*(totallen-lenl-lenidx) + \"(\" + str(idx) + \")\")==============(70)      \n",
      "            else:=========================================================================(71)      \n",
      "                print(l + \"-\"*(totallen-lenl-lenidx) + \"(\" + str(idx) + \")\")==============(72) # the block above: when showdbsrc=True, print out the dbsrc with dbprintinsert inserted\n",
      "                                                                                                                                                        (73)\n",
      "        print(f\"locals() keys: {list(locals().keys())}\")==================================(74) # show locals() before exec on dbsrc\n",
      "        names = self.orisrc.__qualname__.split('.')=======================================(75)      \n",
      "        if len(names) == 2:===============================================================(76) # when debug on a method rather than a funcion\n",
      "            clsname = names[0]============================================================(77)      \n",
      "            methodname = names[1]=========================================================(78)      \n",
      "            print(f\"before exec, is {methodname} in locals(): {methodname in locals()}\")==(79)      \n",
      "            print(f\"before exec, is {clsname} in locals(): {clsname in locals()}\")========(80)      \n",
      "            print(f\"before exec, is {self.orisrc.__qualname__} in locals(): {self.orisrc.__qualname__ in locals()}\")                                    (81)\n",
      "            print(f\"before exec, is {methodname} in self.outenv: {methodname in self.outenv}\")                                                          (82)\n",
      "            print(f\"before exec, is {clsname} in self.outenv: {clsname in self.outenv}\")==(83)      \n",
      "            print(f\"before exec, is {self.orisrc.__qualname__} in self.outenv: {self.orisrc.__qualname__ in self.outenv}\")                              (84)\n",
      "            expr = \"self.outenv[\" + \"'\" + clsname + \"'].\" + methodname====================(85)      \n",
      "            expr1 = \"self.outenv[\" + \"'\" + methodname + \"']\"==============================(86)      \n",
      "            print(f\"inspect.getsourcefile({expr}) == '<string>': {True if inspect.getsourcefile(eval(expr)) == '<string>' else inspect.getsourcefile(eval(expr))}\")(87)\n",
      "            print(f\"self.outenv[{methodname}]: {eval(expr1)}\")============================(88)      \n",
      "            print(f\"{self.orisrc} is {expr}: {self.orisrc is eval(expr)}\")================(89) # exec on dbsrc\n",
      "    exec(dbsrc, globals().update(self.outenv)) # make sure b can access lst from above====(90)      \n",
      "    print('{:-<60}'.format(colorize(\"exec on dbsrc above\", color=\"y\")))===================(91)      \n",
      "                                                                                                                                                        (92)\n",
      "    if showdbsrc: ========================================================================(93)      \n",
      "        print(f\"locals() keys: {list(locals().keys())}\")==================================(94)      \n",
      "        if len(names) == 2:===============================================================(95)      \n",
      "            print(f\"after exec, is {methodname} in locals(): {methodname in locals()}\")===(96)      \n",
      "            print(f\"after exec, is {clsname} in locals(): {clsname in locals()}\")=========(97)      \n",
      "            print(f\"after exec, is {self.orisrc.__qualname__} in locals(): {self.orisrc.__qualname__ in locals()}\")                                     (98)\n",
      "            print(f\"after exec, is {methodname} in self.outenv: {methodname in self.outenv}\")                                                           (99)\n",
      "            print(f\"after exec, is {clsname} in self.outenv: {clsname in self.outenv}\")===(100)     \n",
      "            print(f\"after exec, is {self.orisrc.__qualname__} in self.outenv: {self.orisrc.__qualname__ in self.outenv}\")                               (101)\n",
      "    #         print(f\"after exec, are {methodname} and {clsname} and {self.orisrc.__qualname__} in locals(): {[i in list(locals().keys()) for i in [self.orisrc.__name__, clsname, self.orisrc.__qualname__]]}\")(102)\n",
      "    #         print(f\"after exec, are {methodname} and {clsname} and {self.orisrc.__qualname__} in self.outenv(): {[i in self.outenv for i in [methodname, clsname, self.orisrc.__qualname__]]}\")(103)\n",
      "            print(f\"inspect.getsourcefile({expr}) == '<string>': {True if inspect.getsourcefile(eval(expr)) == '<string>' else inspect.getsourcefile(eval(expr))}\")(104)\n",
      "            print(f\"self.outenv[{methodname}]: {eval(expr1)}\")============================(105)     \n",
      "            print(f\"{self.orisrc} is {expr}: {self.orisrc is eval(expr)}\")            ====(106)     \n",
      "        print(f'self.orisrc.__name__: {self.orisrc.__name__}')============================(107)     \n",
      "        print(f'locals()[self.orisrc.__name__]: {locals()[self.orisrc.__name__]}')========(108)     \n",
      "        print('{:-<60}'.format(colorize(\"showdbsrc=End\", color=\"y\")))=====================(109) # return the dbsrc variable in locals(), but it may be None when dealing with method.\n",
      "                                                                                                                                                        (110)\n",
      "    return locals()[self.orisrc.__name__]=================================================(111)     \n",
      "                                                                                                                                                        (112)\n"
     ]
    }
   ],
   "source": [
    "dbdb(109, \"return the dbsrc variable in locals(), but it may be None when dealing with method.\", full=True)"
   ]
  },
  {
   "cell_type": "markdown",
   "id": "07c79e40",
   "metadata": {},
   "source": [
    "### How to check whether two vars refer to the same object"
   ]
  },
  {
   "cell_type": "code",
   "execution_count": null,
   "id": "ebfc179b",
   "metadata": {},
   "outputs": [
    {
     "data": {
      "text/plain": [
       "False"
      ]
     },
     "execution_count": null,
     "metadata": {},
     "output_type": "execute_result"
    }
   ],
   "source": [
    "fdb.dbprint is Fastdb.dbprint"
   ]
  },
  {
   "cell_type": "code",
   "execution_count": null,
   "id": "8a1c4340",
   "metadata": {},
   "outputs": [
    {
     "data": {
      "text/plain": [
       "False"
      ]
     },
     "execution_count": null,
     "metadata": {},
     "output_type": "execute_result"
    }
   ],
   "source": [
    "fdb.dbprint is fdb.orisrc"
   ]
  },
  {
   "cell_type": "code",
   "execution_count": null,
   "id": "91c44399",
   "metadata": {},
   "outputs": [
    {
     "data": {
      "text/plain": [
       "True"
      ]
     },
     "execution_count": null,
     "metadata": {},
     "output_type": "execute_result"
    }
   ],
   "source": [
    "Fastdb.dbprint is fdb.orisrc"
   ]
  },
  {
   "cell_type": "markdown",
   "id": "2163f3ad",
   "metadata": {},
   "source": [
    "## Make the above into a class and methods"
   ]
  },
  {
   "cell_type": "code",
   "execution_count": null,
   "id": "33f04b04",
   "metadata": {},
   "outputs": [],
   "source": [
    "from fastdebug.core import *\n",
    "from fastdebug.utils import whatinside\n",
    "from fastcore.basics import *\n",
    "import inspect\n",
    "import fastdebug.core as core"
   ]
  },
  {
   "cell_type": "code",
   "execution_count": null,
   "id": "5bfb6aac",
   "metadata": {},
   "outputs": [],
   "source": [
    "# class DBDB():\n",
    "#     \"Using Fastdb to debug method\"\n",
    "#     def __init__(self, \n",
    "#                  clsfunc=Fastdb.dbprint, # name of src code you are exploring\n",
    "#                  egfunc=whatinside): # env variables needed for exploring the source code, e.g., g = globals()\n",
    "# #         self.oriclsfunc = clsfunc # keep original method safe\n",
    "# #         self.oriegfunc = egfunc # keep original function safe\n",
    "#         self.cls = Fastdb # keep original class safe?????\n",
    "#         self.clsfunc = clsfunc # to use Fastdb.dbprint\n",
    "#         self.egfunc = egfunc # to use whatinside\n",
    "        \n",
    "#         self.g = {}\n",
    "#         self.g.update(clsfunc.__globals__)\n",
    "#         self.gw = {}\n",
    "#         self.gw.update(egfunc.__globals__)\n",
    "        \n",
    "#         self.fdb = self.cls(clsfunc, self.g)\n",
    "\n",
    "# #         self.margin = 157\n",
    "# #         self.outenv = env\n",
    "# #         self.cmts = {}"
   ]
  },
  {
   "cell_type": "code",
   "execution_count": null,
   "id": "cfbe7461",
   "metadata": {},
   "outputs": [],
   "source": [
    "# from fastcore.basics import *"
   ]
  },
  {
   "cell_type": "code",
   "execution_count": null,
   "id": "29da21b0",
   "metadata": {},
   "outputs": [],
   "source": [
    "# @patch\n",
    "# def print(self:DBDB,\n",
    "#           pmax=10, # max display of src per cell\n",
    "#           pt=1): # which part\n",
    "    \n",
    "#     self.fdb.print(pmax, pt) # if pmax == 0, then no printing src"
   ]
  },
  {
   "cell_type": "code",
   "execution_count": null,
   "id": "ebeb52a1",
   "metadata": {},
   "outputs": [],
   "source": [
    "# @patch\n",
    "# def dbdb(self:DBDB,\n",
    "#          idx, # idx of srcline\n",
    "#          cmt, # comment\n",
    "#          *codes, # codes\n",
    "#          db=False,\n",
    "#          full=False):\n",
    "# #     global whatinside, fdbw, fdb, Fastdb, gw, g\n",
    "    \n",
    "    \n",
    "#     if bool(idx):\n",
    "#         print(\"\\n\")\n",
    "#         print(f\"inspect.getsourcefile(self.cls): {inspect.getsourcefile(self.cls)}\")  \n",
    "#         print(f\"self.cls: {self.cls}\")        \n",
    "#         print(f\"inspect.getsourcefile(self.cls.dbprint): {inspect.getsourcefile(self.cls.dbprint)}\")  \n",
    "#         print(f\"inspect.getsourcefile(self.clsfunc): {inspect.getsourcefile(self.clsfunc)}\")      \n",
    "#         print(f\"inspect.getsourcefile(self.fdb): {inspect.getsourcefile(self.fdb.__class__)}\")    \n",
    "#         print(f\"self.fdb: {self.fdb}\")        \n",
    "#         print(f\"inspect.getsourcefile(self.fdb.dbprint): {inspect.getsourcefile(self.fdb.dbprint)}\")\n",
    "#         print(f\"inspect.getsourcefile(self.fdb.orisrc): {inspect.getsourcefile(self.fdb.orisrc)}\")       \n",
    "#         print(\"\\n\")        \n",
    "#         # update a new Fastdb.dbprint\n",
    "# #         fdb.dbprint(idx, cmt, *codes, showdbsrc=db)\n",
    "#         self.fdb.dbprint(idx, cmt, *codes, showdbsrc=db)\n",
    "        \n",
    "#         print(\"\\n\")\n",
    "#         print('{:-<157}'.format(colorize(\"run .dbprint on Fastdb.dbprint is done above\", color=\"y\")))\n",
    "#         print(\"\\n\")\n",
    "#         # creating a db object on whatinside with new Fastdb.dbprint\n",
    "# #         fdbw = Fastdb(whatinside, gw)\n",
    "#         fdbw = self.cls(self.egfunc, self.gw)              \n",
    "\n",
    "#         print(f\"inspect.getsourcefile(self.fdbw): {inspect.getsourcefile(fdbw.__class__)}\")   \n",
    "#         print(f\"self.fdbw: {fdbw}\")                \n",
    "#         print(f\"inspect.getsourcefile(self.fdbw.dbprint): {inspect.getsourcefile(fdbw.dbprint)}\")\n",
    "#         print(f\"inspect.getsourcefile(self.fdbw.orisrc): {inspect.getsourcefile(fdbw.orisrc)}\")    \n",
    "#         print(f\"inspect.getsourcefile(self.egfunc): {inspect.getsourcefile(self.egfunc)}\")       \n",
    "    \n",
    "#         new = fdbw.dbprint(9, \"count num of funcs in __all__\", \"type(mo)\", showdbsrc=db)\n",
    "#         print(\"\\n\")\n",
    "#         print('{:-<157}'.format(colorize(\"run new .dbprint on whatinside is done\", color=\"y\")))\n",
    "#         print(\"\\n\")\n",
    "        \n",
    "# #         whatinside = new\n",
    "#         self.egfunc = new              \n",
    "# #         whatinside(core)\n",
    "#         self.egfunc(core)              \n",
    "#         print(\"\\n\")\n",
    "#         print('{:-<157}'.format(colorize(\"run new whatinside on core above\", color=\"y\")))\n",
    "#         print(\"\\n\")        \n",
    "        \n",
    "#         print(\"\\n\")    \n",
    "#         print(f\"inspect.getsourcefile(self.cls): {inspect.getsourcefile(self.cls)}\")  \n",
    "#         print(f\"self.cls: {self.cls}\")\n",
    "#         print(f\"inspect.getsourcefile(self.cls.dbprint): {inspect.getsourcefile(self.cls.dbprint)}\")  \n",
    "#         print(f\"inspect.getsourcefile(self.clsfunc): {inspect.getsourcefile(self.clsfunc)}\")      \n",
    "#         print(f\"inspect.getsourcefile(self.fdb): {inspect.getsourcefile(self.fdb.__class__)}\")      \n",
    "#         print(f\"self.fdb: {self.fdb}\")\n",
    "#         print(f\"inspect.getsourcefile(self.fdb.dbprint): {inspect.getsourcefile(self.fdb.dbprint)}\")\n",
    "#         print(f\"inspect.getsourcefile(self.fdb.orisrc): {inspect.getsourcefile(self.fdb.orisrc)}\")  \n",
    "#         print(f\"inspect.getsourcefile(self.fdbw): {inspect.getsourcefile(fdbw.__class__)}\")    \n",
    "#         print(f\"self.fdbw: {fdbw}\")        \n",
    "#         print(f\"inspect.getsourcefile(self.fdbw.dbprint): {inspect.getsourcefile(fdbw.dbprint)}\")\n",
    "#         print(f\"inspect.getsourcefile(self.fdbw.orisrc): {inspect.getsourcefile(fdbw.orisrc)}\")     \n",
    "#         print(f\"inspect.getsourcefile(self.egfunc): {inspect.getsourcefile(self.egfunc)}\")     \n",
    "#         print(\"\\n\")        \n",
    "        \n",
    "#         # Turn Fastdb.dbprint and whatinside back to normal\n",
    "# #         Fastdb.dbprint = fdb.orisrc\n",
    "#         self.cls.dbprint = self.fdb.orisrc              \n",
    "#         self.egfunc = fdbw.orisrc # Important! remember to bring whatinside back to normal after each srcline exploration\n",
    "#     else:\n",
    "#         pass\n",
    "    \n",
    "#     totalines = len(inspect.getsource(self.fdb.orisrc).split('\\n'))\n",
    "#     maxpcell = 33\n",
    "#     pt = idx // maxpcell\n",
    "#     if full:\n",
    "#         self.fdb.print()\n",
    "#     elif idx > maxpcell and idx % maxpcell != 0:\n",
    "#         self.fdb.print(maxpcell, pt + 1)\n",
    "#     elif idx == maxpcell:\n",
    "#         self.fdb.print(maxpcell, pt + 1)\n",
    "#     else:\n",
    "#         self.fdb.print(maxpcell, 1)\n"
   ]
  }
 ],
 "metadata": {
  "kernelspec": {
   "display_name": "Python 3 (ipykernel)",
   "language": "python",
   "name": "python3"
  }
 },
 "nbformat": 4,
 "nbformat_minor": 5
}
