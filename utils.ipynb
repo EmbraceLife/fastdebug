{
 "cells": [
  {
   "cell_type": "code",
   "execution_count": null,
   "id": "ba6cee7b-e319-4856-b14b-cb8c02003d54",
   "metadata": {},
   "outputs": [],
   "source": [
    "#| default_exp utils"
   ]
  },
  {
   "cell_type": "markdown",
   "id": "2791b2c5-ccd8-4ff1-9e48-acbf646ef084",
   "metadata": {},
   "source": [
    "## whatinside a module of a library"
   ]
  },
  {
   "cell_type": "code",
   "execution_count": null,
   "id": "bb0e8d41-9417-43e0-b3eb-a018128a9488",
   "metadata": {},
   "outputs": [],
   "source": [
    "#| export\n",
    "# from inspect import getmembers, isfunction, isclass, isbuiltin, getsource\n",
    "import os.path, pkgutil\n",
    "from pprint import pprint\n",
    "import inspect\n"
   ]
  },
  {
   "cell_type": "code",
   "execution_count": null,
   "id": "1f4b1287-a8f5-426a-8ca6-93f5c36488ad",
   "metadata": {},
   "outputs": [],
   "source": [
    "#| export\n",
    "def whatinside(mo, # module, e.g., `import fastcore.all as fa`, use `fa` here\n",
    "               dun:bool=False, # print all items in __all__\n",
    "               func:bool=False, # print all user defined functions\n",
    "               clas:bool=False, # print all class objects\n",
    "               bltin:bool=False, # print all builtin funcs or methods\n",
    "               lib:bool=False, # print all the modules of the library it belongs to\n",
    "               cal:bool=False # print all callables\n",
    "             ): \n",
    "    'Check what inside a module: __all__, functions, classes, builtins, and callables'\n",
    "    dun_all = len(mo.__all__) if hasattr(mo, \"__all__\") else 0\n",
    "    funcs = inspect.getmembers(mo, inspect.isfunction)\n",
    "    classes = inspect.getmembers(mo, inspect.isclass)\n",
    "    builtins = inspect.getmembers(mo, inspect.isbuiltin)\n",
    "    callables = inspect.getmembers(mo, callable)\n",
    "    pkgpath = os.path.dirname(mo.__file__)\n",
    "    print(f\"{mo.__name__} has: \\n{dun_all} items in its __all__, and \\n{len(funcs)} user defined functions, \\n{len(classes)} classes or class objects, \\n{len(builtins)} builtin funcs and methods, and\\n{len(callables)} callables.\\n\")  \n",
    "    if hasattr(mo, \"__all__\") and dun: pprint(mo.__all__)\n",
    "    if func: \n",
    "        print(f'The user defined functions are:')\n",
    "        pprint([i[0] for i in funcs])\n",
    "    if clas: \n",
    "        print(f'The class objects are:')\n",
    "        pprint([i[0] for i in classes])\n",
    "    if bltin: \n",
    "        print(f'The builtin functions or methods are:')\n",
    "        pprint([i[0] for i in builtins])\n",
    "    if cal: \n",
    "        print(f'The callables are: ')\n",
    "        pprint([i[0] for i in callables])\n",
    "    if lib: \n",
    "        modules = [name for _, name, _ in pkgutil.iter_modules([pkgpath])]\n",
    "        print(f'The library has {len(modules)} modules')\n",
    "        pprint(modules)"
   ]
  },
  {
   "cell_type": "code",
   "execution_count": null,
   "id": "493e8a9f-8dac-4e16-b62e-d3e2ba6d49f9",
   "metadata": {},
   "outputs": [
    {
     "name": "stdout",
     "output_type": "stream",
     "text": [
      "inspect has: \n",
      "0 items in its __all__, and \n",
      "86 user defined functions, \n",
      "23 classes or class objects, \n",
      "0 builtin funcs and methods, and\n",
      "109 callables.\n",
      "\n"
     ]
    }
   ],
   "source": [
    "whatinside(inspect)"
   ]
  },
  {
   "cell_type": "code",
   "execution_count": null,
   "id": "bf65990a-7e87-447a-ae15-b45289c550c0",
   "metadata": {},
   "outputs": [
    {
     "name": "stdout",
     "output_type": "stream",
     "text": [
      "inspect has: \n",
      "0 items in its __all__, and \n",
      "86 user defined functions, \n",
      "23 classes or class objects, \n",
      "0 builtin funcs and methods, and\n",
      "109 callables.\n",
      "\n",
      "The user defined functions are:\n",
      "['_check_class',\n",
      " '_check_instance',\n",
      " '_findclass',\n",
      " '_finddoc',\n",
      " '_has_code_flag',\n",
      " '_is_type',\n",
      " '_main',\n",
      " '_missing_arguments',\n",
      " '_shadowed_dict',\n",
      " '_signature_bound_method',\n",
      " '_signature_from_builtin',\n",
      " '_signature_from_callable',\n",
      " '_signature_from_function',\n",
      " '_signature_fromstr',\n",
      " '_signature_get_bound_param',\n",
      " '_signature_get_partial',\n",
      " '_signature_get_user_defined_method',\n",
      " '_signature_is_builtin',\n",
      " '_signature_is_functionlike',\n",
      " '_signature_strip_non_python_syntax',\n",
      " '_static_getmro',\n",
      " '_too_many',\n",
      " 'classify_class_attrs',\n",
      " 'cleandoc',\n",
      " 'currentframe',\n",
      " 'findsource',\n",
      " 'formatannotation',\n",
      " 'formatannotationrelativeto',\n",
      " 'formatargspec',\n",
      " 'formatargvalues',\n",
      " 'getabsfile',\n",
      " 'getargs',\n",
      " 'getargspec',\n",
      " 'getargvalues',\n",
      " 'getattr_static',\n",
      " 'getblock',\n",
      " 'getcallargs',\n",
      " 'getclasstree',\n",
      " 'getclosurevars',\n",
      " 'getcomments',\n",
      " 'getcoroutinelocals',\n",
      " 'getcoroutinestate',\n",
      " 'getdoc',\n",
      " 'getfile',\n",
      " 'getframeinfo',\n",
      " 'getfullargspec',\n",
      " 'getgeneratorlocals',\n",
      " 'getgeneratorstate',\n",
      " 'getinnerframes',\n",
      " 'getlineno',\n",
      " 'getmembers',\n",
      " 'getmodule',\n",
      " 'getmodulename',\n",
      " 'getmro',\n",
      " 'getouterframes',\n",
      " 'getsource',\n",
      " 'getsourcefile',\n",
      " 'getsourcelines',\n",
      " 'indentsize',\n",
      " 'isabstract',\n",
      " 'isasyncgen',\n",
      " 'isasyncgenfunction',\n",
      " 'isawaitable',\n",
      " 'isbuiltin',\n",
      " 'isclass',\n",
      " 'iscode',\n",
      " 'iscoroutine',\n",
      " 'iscoroutinefunction',\n",
      " 'isdatadescriptor',\n",
      " 'isframe',\n",
      " 'isfunction',\n",
      " 'isgenerator',\n",
      " 'isgeneratorfunction',\n",
      " 'isgetsetdescriptor',\n",
      " 'ismemberdescriptor',\n",
      " 'ismethod',\n",
      " 'ismethoddescriptor',\n",
      " 'ismodule',\n",
      " 'isroutine',\n",
      " 'istraceback',\n",
      " 'namedtuple',\n",
      " 'signature',\n",
      " 'stack',\n",
      " 'trace',\n",
      " 'unwrap',\n",
      " 'walktree']\n"
     ]
    }
   ],
   "source": [
    "whatinside(inspect, func=True)"
   ]
  },
  {
   "cell_type": "code",
   "execution_count": null,
   "id": "e6863ef3-22fb-4995-8706-bc9287a307c8",
   "metadata": {},
   "outputs": [
    {
     "name": "stdout",
     "output_type": "stream",
     "text": [
      "inspect has: \n",
      "0 items in its __all__, and \n",
      "86 user defined functions, \n",
      "23 classes or class objects, \n",
      "0 builtin funcs and methods, and\n",
      "109 callables.\n",
      "\n",
      "The class objects are:\n",
      "['ArgInfo',\n",
      " 'ArgSpec',\n",
      " 'Arguments',\n",
      " 'Attribute',\n",
      " 'BlockFinder',\n",
      " 'BoundArguments',\n",
      " 'ClassFoundException',\n",
      " 'ClosureVars',\n",
      " 'EndOfBlock',\n",
      " 'FrameInfo',\n",
      " 'FullArgSpec',\n",
      " 'OrderedDict',\n",
      " 'Parameter',\n",
      " 'Signature',\n",
      " 'Traceback',\n",
      " '_ClassFinder',\n",
      " '_ClassMethodWrapper',\n",
      " '_MethodWrapper',\n",
      " '_ParameterKind',\n",
      " '_WrapperDescriptor',\n",
      " '_empty',\n",
      " '_void',\n",
      " 'attrgetter']\n"
     ]
    }
   ],
   "source": [
    "whatinside(inspect, clas=True)"
   ]
  },
  {
   "cell_type": "markdown",
   "id": "0f33d8ca-cd33-435a-a1e3-d93e61576d05",
   "metadata": {},
   "source": [
    "## whichversion of a library"
   ]
  },
  {
   "cell_type": "code",
   "execution_count": null,
   "id": "6634691e-6d88-4123-8ce0-6f09834f8681",
   "metadata": {},
   "outputs": [],
   "source": [
    "#| export\n",
    "from importlib.metadata import version, metadata, distribution\n",
    "from platform import python_version "
   ]
  },
  {
   "cell_type": "code",
   "execution_count": null,
   "id": "347d1e2f-db5b-4efd-b7e5-fe16c4b7e581",
   "metadata": {},
   "outputs": [],
   "source": [
    "#| export\n",
    "def whichversion(libname:str, # library name not string\n",
    "                req:bool=False, # print lib requirements \n",
    "                file:bool=False): # print all lib files\n",
    "    \"Give you library version and other basic info.\"\n",
    "    if libname == \"python\":\n",
    "        print(f\"python: {python_version()}\")\n",
    "    else: \n",
    "        print(f\"{metadata(libname)['Name']}: {version(libname)} \\n{metadata(libname)['Summary']}\\\n",
    "    \\n{metadata(libname)['Author']} \\n{metadata(libname)['Home-page']} \\\n",
    "    \\npython_version: {metadata(libname)['Requires-Python']} \\\n",
    "    \\n{distribution(libname).locate_file(libname)}\")\n",
    "\n",
    "    if req: \n",
    "        print(f\"\\n{libname} requires: \")\n",
    "        pprint(distribution(libname).requires)\n",
    "    if file: \n",
    "        print(f\"\\n{libname} has: \")\n",
    "        pprint(distribution(libname).files)\n",
    "    "
   ]
  },
  {
   "cell_type": "code",
   "execution_count": null,
   "id": "b4f1d524-68f1-4901-942d-f9218fc88569",
   "metadata": {},
   "outputs": [
    {
     "name": "stdout",
     "output_type": "stream",
     "text": [
      "python: 3.9.13\n"
     ]
    }
   ],
   "source": [
    "whichversion(\"python\")"
   ]
  },
  {
   "cell_type": "code",
   "execution_count": null,
   "id": "a2e68c5c-af06-4a21-a010-42c0f978aa33",
   "metadata": {},
   "outputs": [
    {
     "name": "stdout",
     "output_type": "stream",
     "text": [
      "fastcore: 1.5.22 \n",
      "Python supercharged for fastai development    \n",
      "Jeremy Howard and Sylvain Gugger \n",
      "https://github.com/fastai/fastcore/     \n",
      "python_version: >=3.7     \n",
      "/Users/Natsume/mambaforge/lib/python3.9/site-packages/fastcore\n"
     ]
    }
   ],
   "source": [
    "whichversion(\"fastcore\")"
   ]
  },
  {
   "cell_type": "code",
   "execution_count": null,
   "id": "195c2b3b-799c-42b2-958f-f10179f99c09",
   "metadata": {},
   "outputs": [
    {
     "name": "stdout",
     "output_type": "stream",
     "text": [
      "fastai: 2.7.9 \n",
      "fastai simplifies training fast and accurate neural nets using modern best practices    \n",
      "Jeremy Howard, Sylvain Gugger, and contributors \n",
      "https://github.com/fastai/fastai/tree/master/     \n",
      "python_version: >=3.7     \n",
      "/Users/Natsume/mambaforge/lib/python3.9/site-packages/fastai\n"
     ]
    }
   ],
   "source": [
    "whichversion(\"fastai\")"
   ]
  },
  {
   "cell_type": "code",
   "execution_count": null,
   "id": "229283cc-66f7-405f-8a51-5c2a77f646e6",
   "metadata": {},
   "outputs": [
    {
     "name": "stdout",
     "output_type": "stream",
     "text": [
      "jupyter: 1.0.0 \n",
      "Jupyter metapackage. Install all the Jupyter components in one go.    \n",
      "Jupyter Development Team \n",
      "http://jupyter.org     \n",
      "python_version: None     \n",
      "/Users/Natsume/mambaforge/lib/python3.9/site-packages/jupyter\n"
     ]
    }
   ],
   "source": [
    "whichversion(\"jupyter\")"
   ]
  },
  {
   "cell_type": "code",
   "execution_count": null,
   "id": "1be157fe-7da6-4fdd-bb1b-4d26be5db698",
   "metadata": {},
   "outputs": [
    {
     "name": "stdout",
     "output_type": "stream",
     "text": [
      "inspect won't work here\n"
     ]
    }
   ],
   "source": [
    "try:\n",
    "    whichversion(\"inspect\")\n",
    "except: \n",
    "    print(\"inspect won't work here\")"
   ]
  },
  {
   "cell_type": "markdown",
   "id": "305216d1-cf52-4008-90ee-98f9cd1737d0",
   "metadata": {},
   "source": [
    "#|hide\n",
    "## Export"
   ]
  },
  {
   "cell_type": "code",
   "execution_count": null,
   "id": "4efd0977-4efa-4e80-af27-b3aaa252a619",
   "metadata": {},
   "outputs": [],
   "source": [
    "#| hide\n",
    "from nbdev import nbdev_export\n",
    "nbdev_export()"
   ]
  },
  {
   "cell_type": "markdown",
   "id": "1cad45ac-aae4-4f3a-9984-f1780d211f5e",
   "metadata": {},
   "source": [
    "#|hide\n",
    "## Send to Obsidian"
   ]
  },
  {
   "cell_type": "code",
   "execution_count": null,
   "id": "6e4e2283-22e5-4aef-bbc3-aa4c8a68a7be",
   "metadata": {},
   "outputs": [
    {
     "name": "stdout",
     "output_type": "stream",
     "text": [
      "[jupytext] Reading /Users/Natsume/Documents/fastdebug/utils.ipynb in format ipynb\n",
      "[jupytext] Writing /Users/Natsume/Documents/fastdebug/utils.md\n"
     ]
    }
   ],
   "source": [
    "#| hide\n",
    "!jupytext --to md /Users/Natsume/Documents/fastdebug/utils.ipynb\n",
    "!mv /Users/Natsume/Documents/fastdebug/utils.md \\\n",
    "/Users/Natsume/Documents/divefastai/Debuggable/jupytext/"
   ]
  },
  {
   "cell_type": "code",
   "execution_count": null,
   "id": "436f0a49-eb51-4f91-98a3-bae3182e19ed",
   "metadata": {},
   "outputs": [
    {
     "name": "stdout",
     "output_type": "stream",
     "text": [
      "[NbConvertApp] WARNING | pattern '/Users/Natsume/Documents/fastdebug/fastcore/*.ipynb' matched no files\n",
      "[NbConvertApp] WARNING | pattern '/Users/Natsume/Documents/fastdebug/fastcore/meta/*.ipynb' matched no files\n",
      "[NbConvertApp] WARNING | pattern '/Users/Natsume/Documents/fastdebug/fastcore/findings/*.ipynb' matched no files\n",
      "[NbConvertApp] Converting notebook /Users/Natsume/Documents/fastdebug/index.ipynb to markdown\n",
      "[NbConvertApp] Writing 306 bytes to /Users/Natsume/Documents/divefastai/Debuggable/nbconvert/index.md\n",
      "[NbConvertApp] Converting notebook /Users/Natsume/Documents/fastdebug/FooGetSigInit.ipynb to markdown\n",
      "[NbConvertApp] Writing 39305 bytes to /Users/Natsume/Documents/divefastai/Debuggable/nbconvert/FooGetSigInit.md\n",
      "[NbConvertApp] Converting notebook /Users/Natsume/Documents/fastdebug/00_core.ipynb to markdown\n",
      "[NbConvertApp] Writing 12071 bytes to /Users/Natsume/Documents/divefastai/Debuggable/nbconvert/00_core.md\n",
      "[NbConvertApp] Converting notebook /Users/Natsume/Documents/fastdebug/utils.ipynb to markdown\n",
      "[NbConvertApp] Writing 9902 bytes to /Users/Natsume/Documents/divefastai/Debuggable/nbconvert/utils.md\n"
     ]
    }
   ],
   "source": [
    "#| hide\n",
    "!jupyter nbconvert --config /Users/Natsume/Documents/mynbcfg.py --to markdown \\\n",
    "--output-dir /Users/Natsume/Documents/divefastai/Debuggable/nbconvert"
   ]
  },
  {
   "cell_type": "code",
   "execution_count": null,
   "id": "556b34a7-a6c7-4920-a200-bc9a244baa0a",
   "metadata": {},
   "outputs": [],
   "source": []
  }
 ],
 "metadata": {
  "kernelspec": {
   "display_name": "Python 3 (ipykernel)",
   "language": "python",
   "name": "python3"
  }
 },
 "nbformat": 4,
 "nbformat_minor": 5
}
