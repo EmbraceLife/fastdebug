{
 "cells": [
  {
   "cell_type": "markdown",
   "metadata": {},
   "source": [
    "# core\n",
    "\n",
    "> the core functionalities of fastdebug"
   ]
  },
  {
   "cell_type": "code",
   "execution_count": null,
   "metadata": {},
   "outputs": [],
   "source": [
    "#| default_exp core"
   ]
  },
  {
   "cell_type": "code",
   "execution_count": null,
   "metadata": {},
   "outputs": [],
   "source": [
    "#| hide\n",
    "from nbdev.showdoc import *"
   ]
  },
  {
   "cell_type": "markdown",
   "metadata": {},
   "source": [
    "## make life easier with defaults  "
   ]
  },
  {
   "cell_type": "code",
   "execution_count": null,
   "metadata": {},
   "outputs": [],
   "source": [
    "#| export\n",
    "defaults = type('defaults', (object,), {'margin': 157 # align to the right by 157\n",
    "                                        # 'eg': None, # examples\n",
    "                                        # 'src': None, # official src\n",
    "                                       }) "
   ]
  },
  {
   "cell_type": "markdown",
   "metadata": {},
   "source": [
    "## Execute strings"
   ]
  },
  {
   "cell_type": "code",
   "execution_count": null,
   "metadata": {},
   "outputs": [
    {
     "data": {
      "text/plain": [
       "\u001b[0;31mSignature:\u001b[0m \u001b[0meval\u001b[0m\u001b[0;34m(\u001b[0m\u001b[0msource\u001b[0m\u001b[0;34m,\u001b[0m \u001b[0mglobals\u001b[0m\u001b[0;34m=\u001b[0m\u001b[0;32mNone\u001b[0m\u001b[0;34m,\u001b[0m \u001b[0mlocals\u001b[0m\u001b[0;34m=\u001b[0m\u001b[0;32mNone\u001b[0m\u001b[0;34m,\u001b[0m \u001b[0;34m/\u001b[0m\u001b[0;34m)\u001b[0m\u001b[0;34m\u001b[0m\u001b[0;34m\u001b[0m\u001b[0m\n",
       "\u001b[0;31mDocstring:\u001b[0m\n",
       "Evaluate the given source in the context of globals and locals.\n",
       "\n",
       "The source may be a string representing a Python expression\n",
       "or a code object as returned by compile().\n",
       "The globals must be a dictionary and locals can be any mapping,\n",
       "defaulting to the current globals and locals.\n",
       "If only globals is given, locals defaults to it.\n",
       "\u001b[0;31mType:\u001b[0m      builtin_function_or_method\n"
      ]
     },
     "metadata": {},
     "output_type": "display_data"
    }
   ],
   "source": [
    "eval?"
   ]
  },
  {
   "cell_type": "code",
   "execution_count": null,
   "metadata": {},
   "outputs": [
    {
     "data": {
      "text/plain": [
       "\u001b[0;31mSignature:\u001b[0m \u001b[0mexec\u001b[0m\u001b[0;34m(\u001b[0m\u001b[0msource\u001b[0m\u001b[0;34m,\u001b[0m \u001b[0mglobals\u001b[0m\u001b[0;34m=\u001b[0m\u001b[0;32mNone\u001b[0m\u001b[0;34m,\u001b[0m \u001b[0mlocals\u001b[0m\u001b[0;34m=\u001b[0m\u001b[0;32mNone\u001b[0m\u001b[0;34m,\u001b[0m \u001b[0;34m/\u001b[0m\u001b[0;34m)\u001b[0m\u001b[0;34m\u001b[0m\u001b[0;34m\u001b[0m\u001b[0m\n",
       "\u001b[0;31mDocstring:\u001b[0m\n",
       "Execute the given source in the context of globals and locals.\n",
       "\n",
       "The source may be a string representing one or more Python statements\n",
       "or a code object as returned by compile().\n",
       "The globals must be a dictionary and locals can be any mapping,\n",
       "defaulting to the current globals and locals.\n",
       "If only globals is given, locals defaults to it.\n",
       "\u001b[0;31mType:\u001b[0m      builtin_function_or_method\n"
      ]
     },
     "metadata": {},
     "output_type": "display_data"
    }
   ],
   "source": [
    "exec?"
   ]
  },
  {
   "cell_type": "code",
   "execution_count": null,
   "metadata": {},
   "outputs": [],
   "source": [
    "#| export\n",
    "from pprint import pprint"
   ]
  },
  {
   "cell_type": "markdown",
   "metadata": {},
   "source": [
    "### eval can access from globals() and locals()"
   ]
  },
  {
   "cell_type": "code",
   "execution_count": null,
   "metadata": {},
   "outputs": [
    {
     "name": "stdout",
     "output_type": "stream",
     "text": [
      "\"locals: {'a': '1+x'}\"\n",
      "2\n"
     ]
    }
   ],
   "source": [
    "x = 1\n",
    "def test():\n",
    "    a = \"1+x\"\n",
    "    pprint(f'locals: {locals()}', width=157) # x is not in locals() but in globals()\n",
    "    print(eval(a)) \n",
    "test()"
   ]
  },
  {
   "cell_type": "markdown",
   "metadata": {},
   "source": [
    "### eval can override its own globals() and locals()"
   ]
  },
  {
   "cell_type": "code",
   "execution_count": null,
   "metadata": {},
   "outputs": [
    {
     "name": "stdout",
     "output_type": "stream",
     "text": [
      "\"locals: {'a': 1, 'b': 'a+1'}\"\n",
      "b: 3\n",
      "\"locals: {'a': 1, 'b': 'a+1'}\"\n"
     ]
    }
   ],
   "source": [
    "def test():\n",
    "    a = 1\n",
    "    b = \"a+1\"\n",
    "    pprint(f'locals: {locals()}', width=157)\n",
    "    print(f'b: {eval(b, {}, {\"a\": 2})}') # globals() put to empty and locals() to include 'a' with a different value\n",
    "    pprint(f'locals: {locals()}', width=157) \n",
    "\n",
    "test()"
   ]
  },
  {
   "cell_type": "code",
   "execution_count": null,
   "metadata": {},
   "outputs": [
    {
     "name": "stdout",
     "output_type": "stream",
     "text": [
      "\"locals: {'a': 1, 'b': 'c = 1 + 1', 'c': 2}\"\n",
      "name 'c' is not defined\n"
     ]
    }
   ],
   "source": [
    "def test():\n",
    "    a = 1\n",
    "    b = \"c = 1 + 1\"\n",
    "    exec(b)\n",
    "    pprint(f'locals: {locals()}', width=157) # c is created and stored in locals()\n",
    "    print(a + c) # but c is not accessible directly\n",
    "\n",
    "try:\n",
    "    test()\n",
    "except NameError as e:\n",
    "    print(e)"
   ]
  },
  {
   "cell_type": "code",
   "execution_count": null,
   "metadata": {},
   "outputs": [
    {
     "name": "stdout",
     "output_type": "stream",
     "text": [
      "\"locals: {'a': 1, 'b': 'c = 1 + 1', 'c': 2}\"\n",
      "3\n"
     ]
    }
   ],
   "source": [
    "def test():\n",
    "    a = 1\n",
    "    b = \"c = 1 + 1\"\n",
    "    exec(b)\n",
    "    pprint(f'locals: {locals()}', width=157) # c is created and stored in locals()\n",
    "    d = locals()['c'] # we can't assign the value 2 back to c here, but have to choose a different variable\n",
    "    print(a + d)\n",
    "\n",
    "test()"
   ]
  },
  {
   "cell_type": "code",
   "execution_count": null,
   "metadata": {},
   "outputs": [
    {
     "name": "stdout",
     "output_type": "stream",
     "text": [
      "\"locals: {'a': 1, 'b': 'def add(x, y):\\\\n    return x + y'}\"\n",
      "invalid syntax (<string>, line 1)\n"
     ]
    }
   ],
   "source": [
    "def test():\n",
    "    a = 1\n",
    "    b = \"def add(x, y):\\n    return x + y\"\n",
    "    pprint(f'locals: {locals()}', width=157)\n",
    "    print(f'b: {eval(b)}')\n",
    "try:\n",
    "    test()\n",
    "except SyntaxError as e:\n",
    "    print(e)"
   ]
  },
  {
   "cell_type": "code",
   "execution_count": null,
   "metadata": {},
   "outputs": [
    {
     "name": "stdout",
     "output_type": "stream",
     "text": [
      "\"locals: {'a': 1, 'b': 'def add(x, y):\\\\n    return x + y', 'add': <function add>}\"\n",
      "name 'add' is not defined\n"
     ]
    }
   ],
   "source": [
    "def test():\n",
    "    a = 1\n",
    "    b = \"def add(x, y):\\n    return x + y\"\n",
    "    exec(b) # it returns nothing, but add function is created and stored inside locals()\n",
    "    pprint(f'locals: {locals()}', width=157)\n",
    "    print(add(1, 9)) # can't access add from locals() directly\n",
    "\n",
    "try:\n",
    "    test()\n",
    "except NameError as e:\n",
    "    print(e)"
   ]
  },
  {
   "cell_type": "code",
   "execution_count": null,
   "metadata": {},
   "outputs": [
    {
     "name": "stdout",
     "output_type": "stream",
     "text": [
      "b: None\n",
      "\"locals: {'a': 1, 'b': 'def add(x, y):\\\\n    return x + y', 'add': <function add>}\"\n",
      "10\n"
     ]
    }
   ],
   "source": [
    "def test():\n",
    "    a = 1\n",
    "    b = \"def add(x, y):\\n    return x + y\"\n",
    "    print(f'b: {exec(b)}')\n",
    "    pprint(f'locals: {locals()}', width=157)\n",
    "    add1 = locals()['add'] # doing add = locals()['add'] will cause error\n",
    "    print(add1(1,9))\n",
    "\n",
    "test()"
   ]
  },
  {
   "cell_type": "markdown",
   "metadata": {},
   "source": [
    "### Be careful with the naming of the function you are overriding with string"
   ]
  },
  {
   "cell_type": "code",
   "execution_count": null,
   "metadata": {},
   "outputs": [
    {
     "name": "stdout",
     "output_type": "stream",
     "text": [
      "(\"locals: {'func': <function add>, 'a': 1, 'b': 'def add(x, y):\\\\n    return x + y', 'c': <function add>, 'add': <function \"\n",
      " 'add at 0x11dcc3430>}')\n",
      "10\n"
     ]
    }
   ],
   "source": [
    "def add(x, y): pass\n",
    "\n",
    "def test(func):\n",
    "    a = 1\n",
    "    b = \"def add(x, y):\\n    return x + y\"\n",
    "    c = func\n",
    "    exec(b)\n",
    "    pprint(f'locals: {locals()}', width=157)\n",
    "    add1 = locals()['add'] # doing add = locals()['add'] will cause error\n",
    "    print(add1(1,9))\n",
    "\n",
    "test(add)"
   ]
  },
  {
   "cell_type": "code",
   "execution_count": null,
   "metadata": {},
   "outputs": [
    {
     "name": "stdout",
     "output_type": "stream",
     "text": [
      "\"locals: {'add': <function add>, 'a': 1, 'b': 'def add(x, y):\\\\n    return x + y', 'c': <function add>}\"\n",
      "None\n"
     ]
    }
   ],
   "source": [
    "def add(x, y): pass\n",
    "\n",
    "def test(add): # change func to add: cause an error! so, naming carefully and sensibly is important\n",
    "    a = 1\n",
    "    b = \"def add(x, y):\\n    return x + y\"\n",
    "    c = add  # change func to add: cause an error\n",
    "    exec(b) # in this example, {'add': <function 'add at 0x1184f7e50>}' does not get created and stored in locals()\n",
    "    pprint(f'locals: {locals()}', width=157)\n",
    "    add1 = locals()['add'] # doing add = locals()['add'] will cause error\n",
    "    print(add1(1,9))\n",
    "\n",
    "try:\n",
    "    test(add)\n",
    "except TypeError as e:\n",
    "    print(e)"
   ]
  },
  {
   "cell_type": "code",
   "execution_count": null,
   "metadata": {},
   "outputs": [
    {
     "name": "stdout",
     "output_type": "stream",
     "text": [
      "(\"locals: {'func': <function add>, 'a': 1, 'b': 'def add(x, y):\\\\n    return x + y', 'c': <function add>, 'add': <function \"\n",
      " 'add at 0x11dcc31f0>}')\n",
      "10\n",
      "1\n",
      "1\n",
      "1\n",
      "<function add>\n"
     ]
    }
   ],
   "source": [
    "def add(x, y): return 1\n",
    "\n",
    "def test(func):\n",
    "    a = 1\n",
    "    b = \"def add(x, y):\\n    return x + y\"\n",
    "    c = func\n",
    "    exec(b) # create the new add in locals\n",
    "    pprint(f'locals: {locals()}', width=157)\n",
    "    add1 = locals()['add'] # this add function only exist in locals()\n",
    "    print(add1(1,9)) # only from locals()\n",
    "    print(func(1,9)) # from globals()\n",
    "    print(c(1,9)) # from globals()\n",
    "    print(add(1,9)) # from globals()\n",
    "    print(globals()['add']) \n",
    "\n",
    "test(add)"
   ]
  },
  {
   "cell_type": "markdown",
   "metadata": {},
   "source": [
    "### What would happen if a value outside exec get updated inside exec?"
   ]
  },
  {
   "cell_type": "code",
   "execution_count": null,
   "metadata": {},
   "outputs": [
    {
     "name": "stdout",
     "output_type": "stream",
     "text": [
      "(\"locals: {'func': <function add>, 'a': 1, 'lst': [], 'b': 'def add(x, y):\\\\n    lst.append(x)\\\\n    return x + y', 'add': <function add at \"\n",
      " '0x11dcff310>}')\n",
      "name 'lst' is not defined\n"
     ]
    }
   ],
   "source": [
    "def add(x, y): return 1\n",
    "\n",
    "def test(func):\n",
    "    a = 1\n",
    "    lst = []\n",
    "    b = \"def add(x, y):\\n    lst.append(x)\\n    return x + y\"\n",
    "    exec(b) # create the new add in locals\n",
    "    pprint(f'locals: {locals()}', width=157)\n",
    "    add1 = locals()['add'] # this add function only exist in locals()\n",
    "    add1(5,6)\n",
    "    pprint(f'locals: {locals()}', width=157)\n",
    "\n",
    "try:\n",
    "    test(add)\n",
    "except NameError as e:\n",
    "    print(e)"
   ]
  },
  {
   "cell_type": "markdown",
   "metadata": {},
   "source": [
    "### magic of `exec(b, globals().update(locals()))`"
   ]
  },
  {
   "cell_type": "code",
   "execution_count": null,
   "metadata": {},
   "outputs": [
    {
     "name": "stdout",
     "output_type": "stream",
     "text": [
      "(\"locals: {'func': <function add>, 'a': 1, 'lst': [], 'b': 'def add(x, y):\\\\n    lst.append(x)\\\\n    return x + y', 'add': <function add at \"\n",
      " '0x11dcff550>}')\n",
      "11\n",
      "(\"locals: {'func': <function add>, 'a': 1, 'lst': [5], 'b': 'def add(x, y):\\\\n    lst.append(x)\\\\n    return x + y', 'add': <function add at \"\n",
      " \"0x11dcff550>, 'add1': <function add>}\")\n"
     ]
    }
   ],
   "source": [
    "def add(x, y): return 1\n",
    "\n",
    "def test(func):\n",
    "    a = 1\n",
    "    lst = []\n",
    "    b = \"def add(x, y):\\n    lst.append(x)\\n    return x + y\"\n",
    "    exec(b, globals().update(locals())) # add the env into exec, so that lst is available\n",
    "    pprint(f'locals: {locals()}', width=157)\n",
    "    add1 = locals()['add'] \n",
    "    print(add1(5,6))\n",
    "    pprint(f'locals: {locals()}', width=157)\n",
    "\n",
    "try:\n",
    "    test(add)\n",
    "except NameError as e:\n",
    "    print(e)"
   ]
  },
  {
   "cell_type": "markdown",
   "metadata": {},
   "source": [
    "### Mystery: to be solved"
   ]
  },
  {
   "cell_type": "code",
   "execution_count": null,
   "metadata": {},
   "outputs": [
    {
     "name": "stdout",
     "output_type": "stream",
     "text": [
      "\"locals: {'func': <function add>, 'a': 1, 'lst': [], 'b': 'def add(x, y):\\\\n    lst.append(x)\\\\n    return x + y'}\"\n",
      "11\n",
      "(\"locals: {'func': <function add>, 'a': 1, 'lst': [5, 5], 'b': 'def add(x, y):\\\\n    lst.append(x)\\\\n    return x + y', 'add': <function add \"\n",
      " \"at 0x11dcff9d0>, 'add1': <function add>}\")\n"
     ]
    }
   ],
   "source": [
    "def add(x, y): return 1\n",
    "\n",
    "def test(func):\n",
    "    a = 1\n",
    "    lst = []\n",
    "    b = \"def add(x, y):\\n    lst.append(x)\\n    return x + y\"\n",
    "    pprint(f'locals: {locals()}', width=157)    \n",
    "    exec(b, globals().update(locals())) # add the env into exec, so that lst is available\n",
    "\n",
    "    add1 = locals()['add'] \n",
    "    print(add1(5,6))\n",
    "    add1(5,6)\n",
    "    pprint(f'locals: {locals()}', width=157)\n",
    "\n",
    "try:\n",
    "    test(add)\n",
    "except NameError as e:\n",
    "    print(e)"
   ]
  },
  {
   "cell_type": "code",
   "execution_count": null,
   "metadata": {},
   "outputs": [],
   "source": []
  },
  {
   "cell_type": "markdown",
   "metadata": {},
   "source": [
    "## make a colorful string"
   ]
  },
  {
   "cell_type": "code",
   "execution_count": null,
   "metadata": {},
   "outputs": [],
   "source": [
    "#|export\n",
    "class dbcolors:\n",
    "    g = '\\033[92m' #GREEN\n",
    "    y = '\\033[93m' #YELLOW\n",
    "    r = '\\033[91m' #RED\n",
    "    reset = '\\033[0m' #RESET COLOR"
   ]
  },
  {
   "cell_type": "code",
   "execution_count": null,
   "metadata": {},
   "outputs": [],
   "source": [
    "#|export\n",
    "def colorize(cmt, color:str=None):\n",
    "    if color == \"g\":\n",
    "        return dbcolors.g + cmt + dbcolors.reset\n",
    "    elif color == \"y\":\n",
    "        return dbcolors.y + cmt + dbcolors.reset\n",
    "    elif color == \"r\":\n",
    "        return dbcolors.r + cmt + dbcolors.reset\n",
    "    else: \n",
    "        return cmt"
   ]
  },
  {
   "cell_type": "code",
   "execution_count": null,
   "metadata": {},
   "outputs": [
    {
     "data": {
      "text/plain": [
       "'\\x1b[91mthis is me\\x1b[0m'"
      ]
     },
     "execution_count": null,
     "metadata": {},
     "output_type": "execute_result"
    }
   ],
   "source": [
    "colorize(\"this is me\", \"r\")"
   ]
  },
  {
   "cell_type": "code",
   "execution_count": null,
   "metadata": {},
   "outputs": [
    {
     "name": "stdout",
     "output_type": "stream",
     "text": [
      "\u001b[91mthis is me\u001b[0m\n"
     ]
    }
   ],
   "source": [
    "print(colorize(\"this is me\", \"r\"))"
   ]
  },
  {
   "cell_type": "markdown",
   "metadata": {},
   "source": [
    "## align text to the most right"
   ]
  },
  {
   "cell_type": "code",
   "execution_count": null,
   "metadata": {},
   "outputs": [],
   "source": [
    "#| export\n",
    "import re"
   ]
  },
  {
   "cell_type": "code",
   "execution_count": null,
   "metadata": {},
   "outputs": [],
   "source": [
    "#| export\n",
    "def strip_ansi(source):\n",
    "    return re.sub(r'\\033\\[(\\d|;)+?m', '', source)"
   ]
  },
  {
   "cell_type": "code",
   "execution_count": null,
   "metadata": {},
   "outputs": [],
   "source": [
    "#| export\n",
    "def alignright(blocks):\n",
    "    lst = blocks.split('\\n')\n",
    "    maxlen = max(map(lambda l : len(strip_ansi(l)) , lst ))\n",
    "    indent = defaults.margin - maxlen\n",
    "    for l in lst:\n",
    "        print(' '*indent + format(l))"
   ]
  },
  {
   "cell_type": "code",
   "execution_count": null,
   "metadata": {},
   "outputs": [
    {
     "name": "stdout",
     "output_type": "stream",
     "text": [
      "                                                                                                                                                   this is me\n"
     ]
    }
   ],
   "source": [
    "alignright(\"this is me\")"
   ]
  },
  {
   "cell_type": "code",
   "execution_count": null,
   "metadata": {},
   "outputs": [],
   "source": []
  },
  {
   "cell_type": "markdown",
   "metadata": {},
   "source": [
    "## print out src code"
   ]
  },
  {
   "cell_type": "code",
   "execution_count": null,
   "metadata": {},
   "outputs": [],
   "source": [
    "#| export\n",
    "import inspect"
   ]
  },
  {
   "cell_type": "markdown",
   "metadata": {},
   "source": [
    "### basic version"
   ]
  },
  {
   "cell_type": "code",
   "execution_count": null,
   "metadata": {},
   "outputs": [],
   "source": [
    "\n",
    "def printsrc(src, srclines, cmt):\n",
    "# print out the title\n",
    "    print('\\n')\n",
    "    print('{:#^157}'.format(\" srcline under investigation \"))\n",
    "    print('\\n')\n",
    "\n",
    "\n",
    "    # convert the source code of the function into a list of strings splitted by '\\n'\n",
    "    lst = inspect.getsource(src).split('\\n')\n",
    "\n",
    "    ccount = 0\n",
    "    for l in lst:\n",
    "        if bool(l) and l.strip() in srclines:# print out the srcline under investigation\n",
    "            print('{:=<157}'.format(l))\n",
    "            ccount = ccount + 1\n",
    "\n",
    "            if bool(cmt): # print out comment at the end of the srclines under investigation\n",
    "                numsrclines = len(srclines.split(\"\\n\"))\n",
    "                if ccount == numsrclines:\n",
    "                    colcmt = colorize(cmt, \"r\") # colorize the comment\n",
    "                    alignright(colcmt) # put the comment to the most right\n",
    "\n",
    "        else: \n",
    "            print('{:<157}'.format(l)) # print out the rest of source code"
   ]
  },
  {
   "cell_type": "code",
   "execution_count": null,
   "metadata": {},
   "outputs": [],
   "source": [
    "def foo():     \n",
    "    a = 1 + 1\n",
    "    b = a + 1\n",
    "    pass"
   ]
  },
  {
   "cell_type": "code",
   "execution_count": null,
   "metadata": {},
   "outputs": [
    {
     "name": "stdout",
     "output_type": "stream",
     "text": [
      "\n",
      "\n",
      "################################################################ srcline under investigation ################################################################\n",
      "\n",
      "\n",
      "def foo():                                                                                                                                                   \n",
      "    a = 1 + 1================================================================================================================================================\n",
      "                                                                                                                                              \u001b[91mthis is comment\u001b[0m\n",
      "    b = a + 1                                                                                                                                                \n",
      "    pass                                                                                                                                                     \n",
      "                                                                                                                                                             \n"
     ]
    }
   ],
   "source": [
    "printsrc(foo, \"a = 1 + 1\", \"this is comment\")"
   ]
  },
  {
   "cell_type": "code",
   "execution_count": null,
   "metadata": {},
   "outputs": [
    {
     "name": "stdout",
     "output_type": "stream",
     "text": [
      "\n",
      "\n",
      "################################################################ srcline under investigation ################################################################\n",
      "\n",
      "\n",
      "def foo():                                                                                                                                                   \n",
      "    a = 1 + 1================================================================================================================================================\n",
      "    b = a + 1================================================================================================================================================\n",
      "                                                                                                                                              \u001b[91mthis is comment\u001b[0m\n",
      "    pass                                                                                                                                                     \n",
      "                                                                                                                                                             \n"
     ]
    }
   ],
   "source": [
    "printsrc(foo, \"    a = 1 + 1\\n    b = a + 1\", \"this is comment\")"
   ]
  },
  {
   "cell_type": "markdown",
   "metadata": {},
   "source": [
    "### print src with specific number of lines"
   ]
  },
  {
   "cell_type": "code",
   "execution_count": null,
   "metadata": {},
   "outputs": [],
   "source": [
    "#| export\n",
    "def printsrc(src, srclines, cmt, lines:int=5):\n",
    "# print out the title\n",
    "    print('\\n')\n",
    "    print('{:#^157}'.format(\" srcline under investigation \"))\n",
    "    print('\\n')\n",
    "\n",
    "\n",
    "    # convert the source code of the function into a list of strings splitted by '\\n'\n",
    "    lst = inspect.getsource(src).split('\\n')\n",
    "    \n",
    "    # find the idx of the first srcline under investigation in src code\n",
    "    \n",
    "\n",
    "    ccount = 0\n",
    "    for l in lst:\n",
    "        if bool(l) and l.strip() in srclines:# print out the srcline under investigation with # as padding\n",
    "            print('{:=<157}'.format(l))\n",
    "            ccount = ccount + 1\n",
    "\n",
    "            if bool(cmt): # print out comment at the end of the srclines under investigation\n",
    "                numsrclines = len(srclines.split(\"\\n\"))\n",
    "                if ccount == numsrclines:\n",
    "                    colcmt = colorize(cmt, \"r\") # colorize the comment\n",
    "                    alignright(colcmt) # put the comment to the most right\n",
    "\n",
    "        else:\n",
    "            print('{:<157}'.format(l)) # print out the rest of source code to the most left\n",
    "\n",
    "    "
   ]
  },
  {
   "cell_type": "markdown",
   "metadata": {},
   "source": [
    "## dbprint on expression"
   ]
  },
  {
   "cell_type": "markdown",
   "metadata": {},
   "source": [
    "### basic version"
   ]
  },
  {
   "cell_type": "code",
   "execution_count": null,
   "metadata": {},
   "outputs": [],
   "source": [
    "#| export\n",
    "def dbprint(src, # the src func name, e.g., foo\n",
    "            srclines:str, # the srclines under investigation\n",
    "            cmt:str, # comment\n",
    "            *code,   # a number of codes to run, each code is in str, e.g., \"a + b\", \"c = a - b\"\n",
    "            **env\n",
    "           ):  # a number of stuff needed to run the code, e.g. var1 = var1, func1 = func1\n",
    "    \"debug a srcline with one or more expressions with src printed.\"\n",
    "    \n",
    "    # print out src code: the basic version\n",
    "    printsrc(src, srclines, cmt)\n",
    "    \n",
    "    for c in code:\n",
    "    # print(f\"{c} => {c} : {eval(c, globals().update(env))}\") \n",
    "        output = f\"{c} => {c} : {eval(c, globals().update(env))}\"\n",
    "        print('{:>157}'.format(output))   "
   ]
  },
  {
   "cell_type": "code",
   "execution_count": null,
   "metadata": {},
   "outputs": [],
   "source": [
    "def foo():     \n",
    "    a = 1 + 1\n",
    "    b = a + 1\n",
    "    pass"
   ]
  },
  {
   "cell_type": "code",
   "execution_count": null,
   "metadata": {},
   "outputs": [],
   "source": [
    "def foo(): \n",
    "    dbprint(foo, \"    a = 1 + 1\", \"this is a test\", \"1+2\", \"str(1+2)\")\n",
    "    a = 1 + 1\n",
    "    pass"
   ]
  },
  {
   "cell_type": "code",
   "execution_count": null,
   "metadata": {},
   "outputs": [
    {
     "name": "stdout",
     "output_type": "stream",
     "text": [
      "\n",
      "\n",
      "################################################################ srcline under investigation ################################################################\n",
      "\n",
      "\n",
      "def foo():                                                                                                                                                   \n",
      "    dbprint(foo, \"    a = 1 + 1\", \"this is a test\", \"1+2\", \"str(1+2)\")                                                                                       \n",
      "    a = 1 + 1================================================================================================================================================\n",
      "                                                                                                                                               \u001b[91mthis is a test\u001b[0m\n",
      "    pass                                                                                                                                                     \n",
      "                                                                                                                                                             \n",
      "                                                                                                                                               1+2 => 1+2 : 3\n",
      "                                                                                                                                     str(1+2) => str(1+2) : 3\n"
     ]
    }
   ],
   "source": [
    "foo()"
   ]
  },
  {
   "cell_type": "code",
   "execution_count": null,
   "metadata": {},
   "outputs": [],
   "source": []
  },
  {
   "cell_type": "code",
   "execution_count": null,
   "metadata": {},
   "outputs": [],
   "source": []
  },
  {
   "cell_type": "markdown",
   "metadata": {},
   "source": [
    "## printrunsrclines() \n",
    "\n",
    "It can print out only srclines which actually ran"
   ]
  },
  {
   "cell_type": "markdown",
   "metadata": {},
   "source": [
    "### Examples"
   ]
  },
  {
   "cell_type": "markdown",
   "metadata": {},
   "source": [
    "#### simple example"
   ]
  },
  {
   "cell_type": "code",
   "execution_count": null,
   "metadata": {},
   "outputs": [],
   "source": [
    "# def foo(a):\n",
    "#     if a > 1:\n",
    "#         a = 1 + 1\n",
    "#     else:\n",
    "#         b = a + 1"
   ]
  },
  {
   "cell_type": "markdown",
   "metadata": {},
   "source": [
    "#### complex example"
   ]
  },
  {
   "cell_type": "code",
   "execution_count": null,
   "metadata": {},
   "outputs": [],
   "source": [
    "def foo(a):\n",
    "    \"this is docs\"\n",
    "    # this is a pure comment\n",
    "    if a > 1:\n",
    "        for i in range(3):\n",
    "            a = i + 1\n",
    "    else:\n",
    "        \"this is docs\"\n",
    "        b = a + 1\n",
    "    \"this is docs\"\n",
    "    return a\n",
    "        "
   ]
  },
  {
   "cell_type": "code",
   "execution_count": null,
   "metadata": {},
   "outputs": [
    {
     "data": {
      "text/plain": [
       "3"
      ]
     },
     "execution_count": null,
     "metadata": {},
     "output_type": "execute_result"
    }
   ],
   "source": [
    "foo(3)"
   ]
  },
  {
   "cell_type": "markdown",
   "metadata": {},
   "source": [
    "### insert a line after each srcline to add idx"
   ]
  },
  {
   "cell_type": "code",
   "execution_count": null,
   "metadata": {},
   "outputs": [],
   "source": [
    "srclines = inspect.getsource(foo).split('\\n')\n",
    "dbsrc = \"\"\n",
    "\n",
    "for idx, l in zip(range(len(srclines)), srclines):\n",
    "    # if \"if\" in l or \"else\" in l or \"for\" in l:\n",
    "        \n",
    "    dbsrc = dbsrc + l + f\"\\n    srcidx.append({idx})\\n\" # add srcidx.append(idx) to each line"
   ]
  },
  {
   "cell_type": "code",
   "execution_count": null,
   "metadata": {},
   "outputs": [
    {
     "name": "stdout",
     "output_type": "stream",
     "text": [
      "def foo(a):\n",
      "    srcidx.append(0)\n",
      "    \"this is docs\"\n",
      "    srcidx.append(1)\n",
      "    # this is a pure comment\n",
      "    srcidx.append(2)\n",
      "    if a > 1:\n",
      "    srcidx.append(3)\n",
      "        for i in range(3):\n",
      "    srcidx.append(4)\n",
      "            a = i + 1\n",
      "    srcidx.append(5)\n",
      "    else:\n",
      "    srcidx.append(6)\n",
      "        \"this is docs\"\n",
      "    srcidx.append(7)\n",
      "        b = a + 1\n",
      "    srcidx.append(8)\n",
      "    \"this is docs\"\n",
      "    srcidx.append(9)\n",
      "    return a\n",
      "    srcidx.append(10)\n",
      "\n",
      "    srcidx.append(11)\n",
      "\n"
     ]
    }
   ],
   "source": [
    "for l in dbsrc.split('\\n'):\n",
    "    print(l)"
   ]
  },
  {
   "cell_type": "markdown",
   "metadata": {},
   "source": [
    "### add correct indentation to each inserted line"
   ]
  },
  {
   "cell_type": "markdown",
   "metadata": {},
   "source": [
    "#### count the indentation for each srcline"
   ]
  },
  {
   "cell_type": "code",
   "execution_count": null,
   "metadata": {},
   "outputs": [
    {
     "data": {
      "text/plain": [
       "4"
      ]
     },
     "execution_count": null,
     "metadata": {},
     "output_type": "execute_result"
    }
   ],
   "source": [
    "len(\"    a = 1\") - len(\"    a = 1\".strip())"
   ]
  },
  {
   "cell_type": "code",
   "execution_count": null,
   "metadata": {},
   "outputs": [],
   "source": [
    "srclines = inspect.getsource(foo).split('\\n')\n",
    "dbsrc = \"\"\n",
    "\n",
    "for idx, l in zip(range(len(srclines)), srclines):\n",
    "    numindent = len(l) - len(l.strip())\n",
    "    addline = f\"srcidx.append({idx})\"\n",
    "    dbsrc = dbsrc + l + \"\\n\" + \" \"*numindent + addline + \"\\n\"   # add srcidx.append(idx) to each line"
   ]
  },
  {
   "cell_type": "code",
   "execution_count": null,
   "metadata": {},
   "outputs": [
    {
     "name": "stdout",
     "output_type": "stream",
     "text": [
      "def foo(a):\n",
      "srcidx.append(0)\n",
      "    \"this is docs\"\n",
      "    srcidx.append(1)\n",
      "    # this is a pure comment\n",
      "    srcidx.append(2)\n",
      "    if a > 1:\n",
      "    srcidx.append(3)\n",
      "        for i in range(3):\n",
      "        srcidx.append(4)\n",
      "            a = i + 1\n",
      "            srcidx.append(5)\n",
      "    else:\n",
      "    srcidx.append(6)\n",
      "        \"this is docs\"\n",
      "        srcidx.append(7)\n",
      "        b = a + 1\n",
      "        srcidx.append(8)\n",
      "    \"this is docs\"\n",
      "    srcidx.append(9)\n",
      "    return a\n",
      "    srcidx.append(10)\n",
      "\n",
      "srcidx.append(11)\n",
      "\n"
     ]
    }
   ],
   "source": [
    "for l in dbsrc.split('\\n'):\n",
    "    print(l)"
   ]
  },
  {
   "cell_type": "markdown",
   "metadata": {},
   "source": [
    "### indentation special case: if, else, for, def"
   ]
  },
  {
   "cell_type": "code",
   "execution_count": null,
   "metadata": {},
   "outputs": [],
   "source": [
    "srclines = inspect.getsource(foo).split('\\n')\n",
    "dbsrc = \"\"\n",
    "indent = 4\n",
    "\n",
    "for idx, l in zip(range(len(srclines)), srclines):\n",
    "    numindent = len(l) - len(l.strip())\n",
    "    addline = f\"srcidx.append({idx})\"\n",
    "\n",
    "    if \"if\" in l or \"else\" in l or \"for\" in l or \"def\" in l:\n",
    "        numindent = numindent + indent\n",
    "    \n",
    "    dbsrc = dbsrc + l + \"\\n\" + \" \"*numindent + addline + \"\\n\"  # add srcidx.append(idx) to each line"
   ]
  },
  {
   "cell_type": "code",
   "execution_count": null,
   "metadata": {},
   "outputs": [
    {
     "name": "stdout",
     "output_type": "stream",
     "text": [
      "def foo(a):\n",
      "    srcidx.append(0)\n",
      "    \"this is docs\"\n",
      "    srcidx.append(1)\n",
      "    # this is a pure comment\n",
      "    srcidx.append(2)\n",
      "    if a > 1:\n",
      "        srcidx.append(3)\n",
      "        for i in range(3):\n",
      "            srcidx.append(4)\n",
      "            a = i + 1\n",
      "            srcidx.append(5)\n",
      "    else:\n",
      "        srcidx.append(6)\n",
      "        \"this is docs\"\n",
      "        srcidx.append(7)\n",
      "        b = a + 1\n",
      "        srcidx.append(8)\n",
      "    \"this is docs\"\n",
      "    srcidx.append(9)\n",
      "    return a\n",
      "    srcidx.append(10)\n",
      "\n",
      "srcidx.append(11)\n",
      "\n"
     ]
    }
   ],
   "source": [
    "for l in dbsrc.split('\\n'):\n",
    "    print(l)"
   ]
  },
  {
   "cell_type": "markdown",
   "metadata": {},
   "source": [
    "### remove pure comments or docs from dbsrc\n",
    "Do not insert line for pure comment or pure \"\\n\""
   ]
  },
  {
   "cell_type": "code",
   "execution_count": null,
   "metadata": {},
   "outputs": [
    {
     "name": "stdout",
     "output_type": "stream",
     "text": [
      "'def foo(a):'\n",
      "'    \"this is docs\"'\n",
      "'    # this is a pure comment'\n",
      "'    if a > 1:'\n",
      "'        for i in range(3):'\n",
      "'            a = i + 1'\n",
      "'    else:'\n",
      "'        \"this is docs\"'\n",
      "'        b = a + 1'\n",
      "'    \"this is docs\"'\n",
      "'    return a'\n",
      "''\n"
     ]
    }
   ],
   "source": [
    "from pprint import pprint\n",
    "for l in srclines:\n",
    "    pprint(l)"
   ]
  },
  {
   "cell_type": "code",
   "execution_count": null,
   "metadata": {},
   "outputs": [
    {
     "data": {
      "text/plain": [
       "True"
      ]
     },
     "execution_count": null,
     "metadata": {},
     "output_type": "execute_result"
    }
   ],
   "source": [
    "\"# this is a comment\".startswith(\"#\")"
   ]
  },
  {
   "cell_type": "code",
   "execution_count": null,
   "metadata": {},
   "outputs": [
    {
     "data": {
      "text/plain": [
       "False"
      ]
     },
     "execution_count": null,
     "metadata": {},
     "output_type": "execute_result"
    }
   ],
   "source": [
    "\"a = 1 # this is comment\".startswith(\"#\")"
   ]
  },
  {
   "cell_type": "code",
   "execution_count": null,
   "metadata": {},
   "outputs": [],
   "source": [
    "srclines = inspect.getsource(foo).split('\\n')\n",
    "dbsrc = \"\"\n",
    "indent = 4\n",
    "\n",
    "for idx, l in zip(range(len(srclines)), srclines):\n",
    "    numindent = len(l) - len(l.strip())\n",
    "    addline = f\"srcidx.append({idx})\"\n",
    "\n",
    "    if \"if\" in l or \"else\" in l or \"for\" in l or \"def\" in l:\n",
    "        numindent = numindent + indent\n",
    "    \n",
    "    if bool(l): # ignore pure '\\n'\n",
    "        dbsrc = dbsrc + l + \"\\n\" + \" \"*numindent + addline + \"\\n\"  # add srcidx.append(idx) to each line"
   ]
  },
  {
   "cell_type": "code",
   "execution_count": null,
   "metadata": {},
   "outputs": [
    {
     "name": "stdout",
     "output_type": "stream",
     "text": [
      "def foo(a):\n",
      "    srcidx.append(0)\n",
      "    \"this is docs\"\n",
      "    srcidx.append(1)\n",
      "    # this is a pure comment\n",
      "    srcidx.append(2)\n",
      "    if a > 1:\n",
      "        srcidx.append(3)\n",
      "        for i in range(3):\n",
      "            srcidx.append(4)\n",
      "            a = i + 1\n",
      "            srcidx.append(5)\n",
      "    else:\n",
      "        srcidx.append(6)\n",
      "        \"this is docs\"\n",
      "        srcidx.append(7)\n",
      "        b = a + 1\n",
      "        srcidx.append(8)\n",
      "    \"this is docs\"\n",
      "    srcidx.append(9)\n",
      "    return a\n",
      "    srcidx.append(10)\n",
      "\n"
     ]
    }
   ],
   "source": [
    "for l in dbsrc.split('\\n'):\n",
    "    print(l)"
   ]
  },
  {
   "cell_type": "code",
   "execution_count": null,
   "metadata": {},
   "outputs": [],
   "source": [
    "srclines = inspect.getsource(foo).split('\\n')\n",
    "dbsrc = \"\"\n",
    "indent = 4\n",
    "\n",
    "for idx, l in zip(range(len(srclines)), srclines):\n",
    "    numindent = len(l) - len(l.strip())\n",
    "    addline = f\"srcidx.append({idx})\"\n",
    "\n",
    "    if \"if\" in l or \"else\" in l or \"for\" in l or \"def\" in l:\n",
    "        numindent = numindent + indent\n",
    "    \n",
    "    if bool(l) and not l.strip().startswith('#') and not (l.strip().startswith('\"') and l.strip().endswith('\"')): # ignore/remove pure quotations or docs\n",
    "        dbsrc = dbsrc + l + \"\\n\" + \" \"*numindent + addline + \"\\n\"  # add srcidx.append(idx) to each line"
   ]
  },
  {
   "cell_type": "code",
   "execution_count": null,
   "metadata": {},
   "outputs": [
    {
     "name": "stdout",
     "output_type": "stream",
     "text": [
      "def foo(a):\n",
      "    srcidx.append(0)\n",
      "    if a > 1:\n",
      "        srcidx.append(3)\n",
      "        for i in range(3):\n",
      "            srcidx.append(4)\n",
      "            a = i + 1\n",
      "            srcidx.append(5)\n",
      "    else:\n",
      "        srcidx.append(6)\n",
      "        b = a + 1\n",
      "        srcidx.append(8)\n",
      "    return a\n",
      "    srcidx.append(10)\n",
      "\n"
     ]
    }
   ],
   "source": [
    "for l in dbsrc.split('\\n'): # now the dbsrc has no pure comment and pure docs\n",
    "    print(l)"
   ]
  },
  {
   "cell_type": "code",
   "execution_count": null,
   "metadata": {},
   "outputs": [
    {
     "data": {
      "text/plain": [
       "\u001b[0;31mSignature:\u001b[0m \u001b[0mfoo\u001b[0m\u001b[0;34m(\u001b[0m\u001b[0ma\u001b[0m\u001b[0;34m)\u001b[0m\u001b[0;34m\u001b[0m\u001b[0;34m\u001b[0m\u001b[0m\n",
       "\u001b[0;31mSource:\u001b[0m   \n",
       "\u001b[0;32mdef\u001b[0m \u001b[0mfoo\u001b[0m\u001b[0;34m(\u001b[0m\u001b[0ma\u001b[0m\u001b[0;34m)\u001b[0m\u001b[0;34m:\u001b[0m\u001b[0;34m\u001b[0m\n",
       "\u001b[0;34m\u001b[0m    \u001b[0;34m\"this is docs\"\u001b[0m\u001b[0;34m\u001b[0m\n",
       "\u001b[0;34m\u001b[0m    \u001b[0;31m# this is a pure comment\u001b[0m\u001b[0;34m\u001b[0m\n",
       "\u001b[0;34m\u001b[0m    \u001b[0;32mif\u001b[0m \u001b[0ma\u001b[0m \u001b[0;34m>\u001b[0m \u001b[0;36m1\u001b[0m\u001b[0;34m:\u001b[0m\u001b[0;34m\u001b[0m\n",
       "\u001b[0;34m\u001b[0m        \u001b[0;32mfor\u001b[0m \u001b[0mi\u001b[0m \u001b[0;32min\u001b[0m \u001b[0mrange\u001b[0m\u001b[0;34m(\u001b[0m\u001b[0;36m3\u001b[0m\u001b[0;34m)\u001b[0m\u001b[0;34m:\u001b[0m\u001b[0;34m\u001b[0m\n",
       "\u001b[0;34m\u001b[0m            \u001b[0ma\u001b[0m \u001b[0;34m=\u001b[0m \u001b[0mi\u001b[0m \u001b[0;34m+\u001b[0m \u001b[0;36m1\u001b[0m\u001b[0;34m\u001b[0m\n",
       "\u001b[0;34m\u001b[0m    \u001b[0;32melse\u001b[0m\u001b[0;34m:\u001b[0m\u001b[0;34m\u001b[0m\n",
       "\u001b[0;34m\u001b[0m        \u001b[0;34m\"this is docs\"\u001b[0m\u001b[0;34m\u001b[0m\n",
       "\u001b[0;34m\u001b[0m        \u001b[0mb\u001b[0m \u001b[0;34m=\u001b[0m \u001b[0ma\u001b[0m \u001b[0;34m+\u001b[0m \u001b[0;36m1\u001b[0m\u001b[0;34m\u001b[0m\n",
       "\u001b[0;34m\u001b[0m    \u001b[0;34m\"this is docs\"\u001b[0m\u001b[0;34m\u001b[0m\n",
       "\u001b[0;34m\u001b[0m    \u001b[0;32mreturn\u001b[0m \u001b[0ma\u001b[0m\u001b[0;34m\u001b[0m\u001b[0;34m\u001b[0m\u001b[0m\n",
       "\u001b[0;31mFile:\u001b[0m      /var/folders/gz/ch3n2mp51m9386sytqf97s6w0000gn/T/ipykernel_15219/3208300118.py\n",
       "\u001b[0;31mType:\u001b[0m      function\n"
      ]
     },
     "metadata": {},
     "output_type": "display_data"
    }
   ],
   "source": [
    "foo??"
   ]
  },
  {
   "cell_type": "code",
   "execution_count": null,
   "metadata": {},
   "outputs": [],
   "source": [
    "exec(dbsrc) # give life to dbsrc"
   ]
  },
  {
   "cell_type": "code",
   "execution_count": null,
   "metadata": {},
   "outputs": [
    {
     "data": {
      "text/plain": [
       "\u001b[0;31mSignature:\u001b[0m \u001b[0mfoo\u001b[0m\u001b[0;34m(\u001b[0m\u001b[0ma\u001b[0m\u001b[0;34m)\u001b[0m\u001b[0;34m\u001b[0m\u001b[0;34m\u001b[0m\u001b[0m\n",
       "\u001b[0;31mDocstring:\u001b[0m <no docstring>\n",
       "\u001b[0;31mFile:\u001b[0m      Dynamically generated function. No source code available.\n",
       "\u001b[0;31mType:\u001b[0m      function\n"
      ]
     },
     "metadata": {},
     "output_type": "display_data"
    }
   ],
   "source": [
    "foo??"
   ]
  },
  {
   "cell_type": "code",
   "execution_count": null,
   "metadata": {},
   "outputs": [],
   "source": [
    "srcidx = [] #used outside the srcode"
   ]
  },
  {
   "cell_type": "code",
   "execution_count": null,
   "metadata": {},
   "outputs": [
    {
     "data": {
      "text/plain": [
       "[0, 3, 4, 5, 4, 5, 4, 5]"
      ]
     },
     "execution_count": null,
     "metadata": {},
     "output_type": "execute_result"
    }
   ],
   "source": [
    "foo(3) # run the example using dbsrc\n",
    "# foo(-1) # run the example using dbsrc\n",
    "srcidx # Now it should have all the idx whose srclines have run"
   ]
  },
  {
   "cell_type": "markdown",
   "metadata": {},
   "source": [
    "### print out the srclines which get run"
   ]
  },
  {
   "cell_type": "code",
   "execution_count": null,
   "metadata": {},
   "outputs": [
    {
     "name": "stdout",
     "output_type": "stream",
     "text": [
      "def foo(a):\n",
      "    if a > 1:\n",
      "        for i in range(3):\n",
      "            a = i + 1\n"
     ]
    }
   ],
   "source": [
    "for idx, l in zip(range(len(srclines)), srclines):\n",
    "    if idx in srcidx:\n",
    "        print(l)"
   ]
  },
  {
   "cell_type": "markdown",
   "metadata": {},
   "source": [
    "### Make sure all if, else, for get printed"
   ]
  },
  {
   "cell_type": "code",
   "execution_count": null,
   "metadata": {},
   "outputs": [
    {
     "name": "stdout",
     "output_type": "stream",
     "text": [
      "def foo(a):\n",
      "    if a > 1:\n",
      "        for i in range(3):\n",
      "            a = i + 1\n",
      "    else:\n"
     ]
    }
   ],
   "source": [
    "for idx, l in zip(range(len(srclines)), srclines):\n",
    "    if idx in srcidx or \"for\" in l or \"if\" in l or \"else\" in l:\n",
    "        print(l)"
   ]
  },
  {
   "cell_type": "markdown",
   "metadata": {},
   "source": [
    "### Put all together into the function printrunsrclines()"
   ]
  },
  {
   "cell_type": "code",
   "execution_count": null,
   "metadata": {},
   "outputs": [],
   "source": [
    "def foo(a):\n",
    "    \"this is docs\"\n",
    "    # this is a pure comment\n",
    "    if a > 1:\n",
    "        for i in range(3):\n",
    "            a = i + 1\n",
    "    else:\n",
    "        \"this is docs\"\n",
    "        b = a + 1\n",
    "    \"this is docs\"\n",
    "    return a\n",
    "        "
   ]
  },
  {
   "cell_type": "code",
   "execution_count": null,
   "metadata": {},
   "outputs": [],
   "source": [
    "def printrunsrclines(func):\n",
    "    srclines = inspect.getsource(func).split('\\n')\n",
    "    dbsrc = \"\"\n",
    "    indent = 4\n",
    "\n",
    "    for idx, l in zip(range(len(srclines)), srclines):\n",
    "        numindent = len(l) - len(l.strip())\n",
    "        addline = f\"srcidx.append({idx})\"\n",
    "\n",
    "        if \"if\" in l or \"else\" in l or \"for\" in l or \"def\" in l:\n",
    "            numindent = numindent + indent\n",
    "\n",
    "        if bool(l) and not l.strip().startswith('#') and not (l.strip().startswith('\"') and l.strip().endswith('\"')): # ignore/remove pure quotations or docs\n",
    "            dbsrc = dbsrc + l + \"\\n\" + \" \"*numindent + addline + \"\\n\"  # add srcidx.append(idx) to each line\n",
    "    \n",
    "    srcidx = [] \n",
    "    exec(dbsrc, globals().update(locals()))\n",
    "    fool = locals()['foo']\n",
    "    pprint(fool(3))\n",
    "    pprint(locals())\n",
    "\n",
    "     \n",
    "    # run = \"foo(3)\"\n",
    "    exec(\"fool(3)\")\n",
    "    print(srcidx)\n",
    "\n",
    "    for idx, l in zip(range(len(srclines)), srclines):\n",
    "        if idx in srcidx or \"for\" in l or \"if\" in l or \"else\" in l:\n",
    "            print(l)"
   ]
  },
  {
   "cell_type": "code",
   "execution_count": null,
   "metadata": {},
   "outputs": [
    {
     "name": "stdout",
     "output_type": "stream",
     "text": [
      "3\n",
      "{'addline': 'srcidx.append(11)',\n",
      " 'dbsrc': 'def foo(a):\\n'\n",
      "          '    srcidx.append(0)\\n'\n",
      "          '    if a > 1:\\n'\n",
      "          '        srcidx.append(3)\\n'\n",
      "          '        for i in range(3):\\n'\n",
      "          '            srcidx.append(4)\\n'\n",
      "          '            a = i + 1\\n'\n",
      "          '            srcidx.append(5)\\n'\n",
      "          '    else:\\n'\n",
      "          '        srcidx.append(6)\\n'\n",
      "          '        b = a + 1\\n'\n",
      "          '        srcidx.append(8)\\n'\n",
      "          '    return a\\n'\n",
      "          '    srcidx.append(10)\\n',\n",
      " 'foo': <function foo>,\n",
      " 'fool': <function foo>,\n",
      " 'func': <function foo>,\n",
      " 'idx': 11,\n",
      " 'indent': 4,\n",
      " 'l': '',\n",
      " 'numindent': 0,\n",
      " 'srcidx': [0, 3, 4, 5, 4, 5, 4, 5],\n",
      " 'srclines': ['def foo(a):',\n",
      "              '    \"this is docs\"',\n",
      "              '    # this is a pure comment',\n",
      "              '    if a > 1:',\n",
      "              '        for i in range(3):',\n",
      "              '            a = i + 1',\n",
      "              '    else:',\n",
      "              '        \"this is docs\"',\n",
      "              '        b = a + 1',\n",
      "              '    \"this is docs\"',\n",
      "              '    return a',\n",
      "              '']}\n",
      "[0, 3, 4, 5, 4, 5, 4, 5, 0, 3, 4, 5, 4, 5, 4, 5]\n",
      "def foo(a):\n",
      "    if a > 1:\n",
      "        for i in range(3):\n",
      "            a = i + 1\n",
      "    else:\n"
     ]
    }
   ],
   "source": [
    "printrunsrclines(foo)"
   ]
  },
  {
   "cell_type": "markdown",
   "metadata": {},
   "source": [
    "#### no more renaming of foo"
   ]
  },
  {
   "cell_type": "code",
   "execution_count": null,
   "metadata": {},
   "outputs": [],
   "source": [
    "def printrunsrclines(func):\n",
    "    srclines = inspect.getsource(func).split('\\n')\n",
    "    dbsrc = \"\"\n",
    "    indent = 4\n",
    "\n",
    "    for idx, l in zip(range(len(srclines)), srclines):\n",
    "        numindent = len(l) - len(l.strip())\n",
    "        addline = f\"srcidx.append({idx})\"\n",
    "\n",
    "        if \"if\" in l or \"else\" in l or \"for\" in l or \"def\" in l:\n",
    "            numindent = numindent + indent\n",
    "\n",
    "        if bool(l) and not l.strip().startswith('#') and not (l.strip().startswith('\"') and l.strip().endswith('\"')): # ignore/remove pure quotations or docs\n",
    "            dbsrc = dbsrc + l + \"\\n\" + \" \"*numindent + addline + \"\\n\"  # add srcidx.append(idx) to each line\n",
    "    \n",
    "    srcidx = [] \n",
    "    exec(dbsrc, globals().update(locals()))    \n",
    "    exec(\"foo(3)\") # now we can use foo as the new foo \n",
    "    print(srcidx)\n",
    "\n",
    "    for idx, l in zip(range(len(srclines)), srclines):\n",
    "        if idx in srcidx or \"for\" in l or \"if\" in l or \"else\" in l:\n",
    "            print(l)"
   ]
  },
  {
   "cell_type": "code",
   "execution_count": null,
   "metadata": {},
   "outputs": [],
   "source": [
    "def foo(a):\n",
    "\n",
    "    if a > 1:\n",
    "        for i in range(3):\n",
    "            a = i + 1\n",
    "    else:\n",
    "        b = a + 1\n",
    "    return a"
   ]
  },
  {
   "cell_type": "code",
   "execution_count": null,
   "metadata": {},
   "outputs": [
    {
     "name": "stdout",
     "output_type": "stream",
     "text": [
      "[0, 2, 3, 4, 3, 4, 3, 4]\n",
      "def foo(a):\n",
      "    if a > 1:\n",
      "        for i in range(3):\n",
      "            a = i + 1\n",
      "    else:\n"
     ]
    }
   ],
   "source": [
    "printrunsrclines(foo)"
   ]
  },
  {
   "cell_type": "code",
   "execution_count": null,
   "metadata": {},
   "outputs": [],
   "source": []
  },
  {
   "cell_type": "markdown",
   "metadata": {},
   "source": [
    "#### add example as a param into the function"
   ]
  },
  {
   "cell_type": "code",
   "execution_count": null,
   "metadata": {},
   "outputs": [],
   "source": [
    "#| export\n",
    "def printrunsrclines(func, example):\n",
    "    srclines = inspect.getsource(func).split('\\n')\n",
    "    dbsrc = \"\"\n",
    "    indent = 4\n",
    "\n",
    "    for idx, l in zip(range(len(srclines)), srclines):\n",
    "        numindent = len(l) - len(l.strip())\n",
    "        addline = f\"srcidx.append({idx})\"\n",
    "\n",
    "        if \"if\" in l or \"else\" in l or \"for\" in l or \"def\" in l:\n",
    "            numindent = numindent + indent\n",
    "\n",
    "        if bool(l) and not l.strip().startswith('#') and not (l.strip().startswith('\"') and l.strip().endswith('\"')): # ignore/remove pure quotations or docs\n",
    "            dbsrc = dbsrc + l + \"\\n\" + \" \"*numindent + addline + \"\\n\"  # add srcidx.append(idx) to each line\n",
    "\n",
    "    pprint(dbsrc)\n",
    "    srcidx = [] \n",
    "    exec(dbsrc, globals().update(locals()))    \n",
    "    exec(example) # now we can use foo as the new foo \n",
    "    print(srcidx)\n",
    "\n",
    "    for idx, l in zip(range(len(srclines)), srclines):\n",
    "        if idx in srcidx or \"for\" in l or \"if\" in l or \"else\" in l:\n",
    "            print(l)"
   ]
  },
  {
   "cell_type": "code",
   "execution_count": null,
   "metadata": {},
   "outputs": [
    {
     "name": "stdout",
     "output_type": "stream",
     "text": [
      "('def foo(a):\\n'\n",
      " '    srcidx.append(0)\\n'\n",
      " '    if a > 1:\\n'\n",
      " '        srcidx.append(2)\\n'\n",
      " '        for i in range(3):\\n'\n",
      " '            srcidx.append(3)\\n'\n",
      " '            a = i + 1\\n'\n",
      " '            srcidx.append(4)\\n'\n",
      " '    else:\\n'\n",
      " '        srcidx.append(5)\\n'\n",
      " '        b = a + 1\\n'\n",
      " '        srcidx.append(6)\\n'\n",
      " '    return a\\n'\n",
      " '    srcidx.append(7)\\n')\n",
      "[0, 5, 6]\n",
      "def foo(a):\n",
      "    if a > 1:\n",
      "        for i in range(3):\n",
      "    else:\n",
      "        b = a + 1\n"
     ]
    }
   ],
   "source": [
    "printrunsrclines(foo, \"foo(-1)\")"
   ]
  },
  {
   "cell_type": "code",
   "execution_count": null,
   "metadata": {},
   "outputs": [
    {
     "name": "stdout",
     "output_type": "stream",
     "text": [
      "('def foo(a):\\n'\n",
      " '    srcidx.append(0)\\n'\n",
      " '    if a > 1:\\n'\n",
      " '        srcidx.append(2)\\n'\n",
      " '        for i in range(3):\\n'\n",
      " '            srcidx.append(3)\\n'\n",
      " '            a = i + 1\\n'\n",
      " '            srcidx.append(4)\\n'\n",
      " '    else:\\n'\n",
      " '        srcidx.append(5)\\n'\n",
      " '        b = a + 1\\n'\n",
      " '        srcidx.append(6)\\n'\n",
      " '    return a\\n'\n",
      " '    srcidx.append(7)\\n')\n",
      "[0, 2, 3, 4, 3, 4, 3, 4]\n",
      "def foo(a):\n",
      "    if a > 1:\n",
      "        for i in range(3):\n",
      "            a = i + 1\n",
      "    else:\n"
     ]
    }
   ],
   "source": [
    "printrunsrclines(foo, \"foo(2)\")"
   ]
  },
  {
   "cell_type": "markdown",
   "metadata": {},
   "source": [
    "#### improve on search for `if`, else, for, def to avoid errors for more examples"
   ]
  },
  {
   "cell_type": "code",
   "execution_count": null,
   "metadata": {},
   "outputs": [],
   "source": [
    "\n",
    "def printrunsrclines(func, example):\n",
    "    srclines = inspect.getsource(func).split('\\n')\n",
    "    dbsrc = \"\"\n",
    "    indent = 4\n",
    "\n",
    "    for idx, l in zip(range(len(srclines)), srclines):\n",
    "        numindent = len(l) - len(l.strip())\n",
    "        addline = f\"srcidx.append({idx})\"\n",
    "\n",
    "        if \"if \" in l or \"else:\" in l or \"for \" in l or \"def \" in l:\n",
    "            numindent = numindent + indent\n",
    "\n",
    "        if bool(l) and not l.strip().startswith('#') \\\n",
    "        and not (l.strip().startswith('\"') and l.strip().endswith('\"')): # ignore/remove pure quotations or docs\n",
    "            dbsrc = dbsrc + l + \"\\n\" + \" \"*numindent + addline + \"\\n\"  # add srcidx.append(idx) to each line\n",
    "\n",
    "    pprint(dbsrc)\n",
    "    srcidx = [] \n",
    "    exec(dbsrc, globals().update(locals()))    \n",
    "    exec(example) # now we can use foo as the new foo \n",
    "    print(srcidx)\n",
    "\n",
    "    for idx, l in zip(range(len(srclines)), srclines):\n",
    "        if idx in srcidx or \"for\" in l or \"if\" in l or \"else\" in l:\n",
    "            print(l)"
   ]
  },
  {
   "cell_type": "code",
   "execution_count": null,
   "metadata": {},
   "outputs": [],
   "source": [
    "printrunsrclines(alignright, 'alignright(\"this is me\")')"
   ]
  },
  {
   "cell_type": "markdown",
   "metadata": {},
   "source": [
    "#### remove an empty line with indentation"
   ]
  },
  {
   "cell_type": "code",
   "execution_count": null,
   "metadata": {},
   "outputs": [
    {
     "name": "stdout",
     "output_type": "stream",
     "text": [
      "['', 'this is code', '     ', 'this is code', '']\n",
      "False\n",
      "True\n",
      "False\n",
      "True\n",
      "False\n"
     ]
    }
   ],
   "source": [
    "lst = \"\"\"\n",
    "this is code\\n\\\n",
    "     \\n\\\n",
    "this is code\n",
    "\"\"\".split('\\n')\n",
    "print(lst)\n",
    "for l in lst:\n",
    "    print(bool(l.strip()))"
   ]
  },
  {
   "cell_type": "code",
   "execution_count": null,
   "metadata": {},
   "outputs": [],
   "source": [
    "\n",
    "def printrunsrclines(func, example):\n",
    "    srclines = inspect.getsource(func).split('\\n')\n",
    "    dbsrc = \"\"\n",
    "    indent = 4\n",
    "\n",
    "    for idx, l in zip(range(len(srclines)), srclines):\n",
    "        numindent = len(l) - len(l.strip()) # how to strip only the left not the right?????\n",
    "        addline = f\"srcidx.append({idx})\"\n",
    "\n",
    "        if \"if \" in l or \"else:\" in l or \"for \" in l or \"def \" in l:\n",
    "            numindent = numindent + indent\n",
    "\n",
    "        if bool(l.strip()) and not l.strip().startswith('#') \\\n",
    "        and not (l.strip().startswith('\"') and l.strip().endswith('\"')): \n",
    "            dbsrc = dbsrc + l + \"\\n\" + \" \"*numindent + addline + \"\\n\"  # add srcidx.append(idx) to each line\n",
    "\n",
    "    pprint(dbsrc)\n",
    "    srcidx = [] \n",
    "    exec(dbsrc, globals().update(locals()))    \n",
    "    exec(example) # now we can use foo as the new foo \n",
    "    print(srcidx)\n",
    "\n",
    "    for idx, l in zip(range(len(srclines)), srclines):\n",
    "        if idx in srcidx or \"for\" in l or \"if\" in l or \"else\" in l:\n",
    "            print(l)"
   ]
  },
  {
   "cell_type": "code",
   "execution_count": null,
   "metadata": {},
   "outputs": [
    {
     "name": "stdout",
     "output_type": "stream",
     "text": [
      "('def alignright(blocks):\\n'\n",
      " '    srcidx.append(0)\\n'\n",
      " \"    lst = blocks.split('\\\\n')\\n\"\n",
      " '    srcidx.append(1)\\n'\n",
      " '    maxlen = max(map(lambda l : len(strip_ansi(l)) , lst ))\\n'\n",
      " '    srcidx.append(2)\\n'\n",
      " '    indent = defaults.margin - maxlen\\n'\n",
      " '    srcidx.append(3)\\n'\n",
      " '    for l in lst:\\n'\n",
      " '        srcidx.append(4)\\n'\n",
      " \"        print(' '*indent + format(l))\\n\"\n",
      " '        srcidx.append(5)\\n')\n",
      "                                                                                                                                                   this is me\n",
      "[0, 1, 2, 3, 4, 5]\n",
      "def alignright(blocks):\n",
      "    lst = blocks.split('\\n')\n",
      "    maxlen = max(map(lambda l : len(strip_ansi(l)) , lst ))\n",
      "    indent = defaults.margin - maxlen\n",
      "    for l in lst:\n",
      "        print(' '*indent + format(l))\n"
     ]
    }
   ],
   "source": [
    "printrunsrclines(alignright, 'alignright(\"this is me\")')"
   ]
  },
  {
   "cell_type": "code",
   "execution_count": null,
   "metadata": {},
   "outputs": [
    {
     "name": "stdout",
     "output_type": "stream",
     "text": [
      "('def printsrc(src, srclines, cmt, lines:int=5):\\n'\n",
      " '# print out the title\\n'\n",
      " \"    print('\\\\n')\\n\"\n",
      " '    print(\\'{:#^157}\\'.format(\" srcline under investigation \"))\\n'\n",
      " \"    print('\\\\n')\\n\"\n",
      " '\\n'\n",
      " '\\n'\n",
      " '    # convert the source code of the function into a list of strings '\n",
      " \"splitted by '\\\\n'\\n\"\n",
      " \"    lst = inspect.getsource(src).split('\\\\n')\\n\"\n",
      " '    \\n'\n",
      " '    # find the idx of the first srcline under investigation in src code\\n'\n",
      " '    \\n'\n",
      " '\\n'\n",
      " '    ccount = 0\\n'\n",
      " '    for l in lst:\\n'\n",
      " '        if bool(l) and l.strip() in srclines:# print out the srcline under '\n",
      " 'investigation with # as padding\\n'\n",
      " \"            print('{:=<157}'.format(l))\\n\"\n",
      " '            ccount = ccount + 1\\n'\n",
      " '\\n'\n",
      " '            if bool(cmt): # print out comment at the end of the srclines '\n",
      " 'under investigation\\n'\n",
      " '                numsrclines = len(srclines.split(\"\\\\n\"))\\n'\n",
      " '                if ccount == numsrclines:\\n'\n",
      " '                    colcmt = colorize(cmt, \"r\") # colorize the comment\\n'\n",
      " '                    alignright(colcmt) # put the comment to the most right\\n'\n",
      " '\\n'\n",
      " '        else:\\n'\n",
      " \"            print('{:<157}'.format(l)) # print out the rest of source code \"\n",
      " 'to the most left\\n')\n"
     ]
    }
   ],
   "source": [
    "pprint(inspect.getsource(printsrc))"
   ]
  },
  {
   "cell_type": "code",
   "execution_count": null,
   "metadata": {},
   "outputs": [],
   "source": [
    "#| export\n",
    "def printrunsrclines(func, example):\n",
    "    srclines = inspect.getsource(func).split('\\n')\n",
    "    dbsrc = \"\"\n",
    "    indent = 4\n",
    "\n",
    "    for idx, l in zip(range(len(srclines)), srclines):\n",
    "        numindent = len(l) - len(l.strip()) # how to strip only the left not the right?????\n",
    "        addline = f\"srcidx.append({idx})\"\n",
    "\n",
    "        if \"if \" in l or \"else:\" in l or \"for \" in l or \"def \" in l:\n",
    "            numindent = numindent + indent\n",
    "\n",
    "        if bool(l.strip()) and not l.strip().startswith('#') \\\n",
    "        and not (l.strip().startswith('\"') and l.strip().endswith('\"')): \n",
    "            dbsrc = dbsrc + l + \"\\n\" + \" \"*numindent + addline + \"\\n\"  # add srcidx.append(idx) to each line\n",
    "\n",
    "    # pprint(dbsrc)\n",
    "    srcidx = [] \n",
    "    exec(dbsrc, globals().update(locals()))    \n",
    "    exec(example) # now we can use foo as the new foo \n",
    "    # print(srcidx)\n",
    "\n",
    "    # pprint(srclines)\n",
    "    for idx, l in zip(range(len(srclines)), srclines):\n",
    "        if idx in srcidx or \"for\" in l or \"if\" in l or \"else\" in l:\n",
    "            print(l)"
   ]
  },
  {
   "cell_type": "code",
   "execution_count": null,
   "metadata": {},
   "outputs": [
    {
     "name": "stdout",
     "output_type": "stream",
     "text": [
      "\n",
      "\n",
      "################################################################ srcline under investigation ################################################################\n",
      "\n",
      "\n",
      "def foo(a):                                                                                                                                                  \n",
      "                                                                                                                                                             \n",
      "    if a > 1:                                                                                                                                                \n",
      "        for i in range(3):                                                                                                                                   \n",
      "            a = i + 1                                                                                                                                        \n",
      "    else:====================================================================================================================================================\n",
      "        b = a + 1============================================================================================================================================\n",
      "                                                                                                                                              \u001b[91mthis is comment\u001b[0m\n",
      "    return a                                                                                                                                                 \n",
      "                                                                                                                                                             \n",
      "def printsrc(src, srclines, cmt, lines:int=5):\n",
      "    print('\\n')\n",
      "    print('{:#^157}'.format(\" srcline under investigation \"))\n",
      "    print('\\n')\n",
      "    lst = inspect.getsource(src).split('\\n')\n",
      "    ccount = 0\n",
      "    for l in lst:\n",
      "        if bool(l) and l.strip() in srclines:# print out the srcline under investigation with # as padding\n",
      "            print('{:=<157}'.format(l))\n",
      "            ccount = ccount + 1\n",
      "            if bool(cmt): # print out comment at the end of the srclines under investigation\n",
      "                numsrclines = len(srclines.split(\"\\n\"))\n",
      "                if ccount == numsrclines:\n",
      "                    colcmt = colorize(cmt, \"r\") # colorize the comment\n",
      "                    alignright(colcmt) # put the comment to the most right\n",
      "        else:\n",
      "            print('{:<157}'.format(l)) # print out the rest of source code to the most left\n"
     ]
    }
   ],
   "source": [
    "printrunsrclines(printsrc, 'printsrc(foo, \"    else:\\\\n    b = a + 1\", \"this is comment\")') # make sure to use \\\\n not \\n"
   ]
  },
  {
   "cell_type": "code",
   "execution_count": null,
   "metadata": {},
   "outputs": [
    {
     "name": "stdout",
     "output_type": "stream",
     "text": [
      "\n",
      "\n",
      "################################################################ srcline under investigation ################################################################\n",
      "\n",
      "\n",
      "def foo(a):                                                                                                                                                  \n",
      "                                                                                                                                                             \n",
      "    if a > 1:                                                                                                                                                \n",
      "        for i in range(3):                                                                                                                                   \n",
      "            a = i + 1                                                                                                                                        \n",
      "    else:====================================================================================================================================================\n",
      "        b = a + 1============================================================================================================================================\n",
      "    return a                                                                                                                                                 \n",
      "                                                                                                                                                             \n",
      "def printsrc(src, srclines, cmt, lines:int=5):\n",
      "    print('\\n')\n",
      "    print('{:#^157}'.format(\" srcline under investigation \"))\n",
      "    print('\\n')\n",
      "    lst = inspect.getsource(src).split('\\n')\n",
      "    ccount = 0\n",
      "    for l in lst:\n",
      "        if bool(l) and l.strip() in srclines:# print out the srcline under investigation with # as padding\n",
      "            print('{:=<157}'.format(l))\n",
      "            ccount = ccount + 1\n",
      "            if bool(cmt): # print out comment at the end of the srclines under investigation\n",
      "                if ccount == numsrclines:\n",
      "        else:\n",
      "            print('{:<157}'.format(l)) # print out the rest of source code to the most left\n"
     ]
    }
   ],
   "source": [
    "printrunsrclines(printsrc, 'printsrc(foo, \"    else:\\\\n    b = a + 1\", \"\")') # make sure to use \\\\n not \\n"
   ]
  },
  {
   "cell_type": "markdown",
   "metadata": {},
   "source": [
    "### more difficult examples to test printrunsrc()"
   ]
  },
  {
   "cell_type": "code",
   "execution_count": null,
   "metadata": {},
   "outputs": [],
   "source": []
  },
  {
   "cell_type": "code",
   "execution_count": null,
   "metadata": {},
   "outputs": [],
   "source": []
  },
  {
   "cell_type": "code",
   "execution_count": null,
   "metadata": {},
   "outputs": [],
   "source": []
  },
  {
   "cell_type": "markdown",
   "metadata": {},
   "source": [
    "#|hide\n",
    "## Export"
   ]
  },
  {
   "cell_type": "code",
   "execution_count": null,
   "metadata": {},
   "outputs": [],
   "source": [
    "#| hide\n",
    "from nbdev import nbdev_export\n",
    "nbdev_export()"
   ]
  },
  {
   "cell_type": "markdown",
   "metadata": {},
   "source": [
    "#|hide\n",
    "## Send to Obsidian"
   ]
  },
  {
   "cell_type": "code",
   "execution_count": null,
   "metadata": {},
   "outputs": [],
   "source": [
    "#| hide\n",
    "!jupytext --to md /Users/Natsume/Documents/fastdebug/00_core.ipynb\n",
    "!mv /Users/Natsume/Documents/fastdebug/00_core.md \\\n",
    "/Users/Natsume/Documents/divefastai/Debuggable/jupytext/"
   ]
  },
  {
   "cell_type": "code",
   "execution_count": null,
   "metadata": {},
   "outputs": [],
   "source": [
    "#| hide\n",
    "!jupyter nbconvert --config /Users/Natsume/Documents/mynbcfg.py --to markdown \\\n",
    "--output-dir /Users/Natsume/Documents/divefastai/Debuggable/nbconvert"
   ]
  }
 ],
 "metadata": {
  "kernelspec": {
   "display_name": "Python 3 (ipykernel)",
   "language": "python",
   "name": "python3"
  }
 },
 "nbformat": 4,
 "nbformat_minor": 4
}
