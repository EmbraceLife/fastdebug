{
 "cells": [
  {
   "cell_type": "markdown",
   "metadata": {},
   "source": [
    "# core\n",
    "\n",
    "> the core functionalities of fastdebug"
   ]
  },
  {
   "cell_type": "code",
   "execution_count": null,
   "metadata": {},
   "outputs": [],
   "source": [
    "#| default_exp core"
   ]
  },
  {
   "cell_type": "code",
   "execution_count": null,
   "metadata": {},
   "outputs": [],
   "source": [
    "#| hide\n",
    "from nbdev.showdoc import *"
   ]
  },
  {
   "cell_type": "markdown",
   "metadata": {},
   "source": [
    "## make life easier with defaults  "
   ]
  },
  {
   "cell_type": "code",
   "execution_count": null,
   "metadata": {},
   "outputs": [],
   "source": [
    "#| export\n",
    "defaults = type('defaults', (object,), {'margin': 157 # align to the right by 157\n",
    "                                        # 'eg': None, # examples\n",
    "                                        # 'src': None, # official src\n",
    "                                       }) "
   ]
  },
  {
   "cell_type": "markdown",
   "metadata": {},
   "source": [
    "## Execute strings"
   ]
  },
  {
   "cell_type": "code",
   "execution_count": null,
   "metadata": {},
   "outputs": [
    {
     "data": {
      "text/plain": [
       "\u001b[0;31mSignature:\u001b[0m \u001b[0meval\u001b[0m\u001b[0;34m(\u001b[0m\u001b[0msource\u001b[0m\u001b[0;34m,\u001b[0m \u001b[0mglobals\u001b[0m\u001b[0;34m=\u001b[0m\u001b[0;32mNone\u001b[0m\u001b[0;34m,\u001b[0m \u001b[0mlocals\u001b[0m\u001b[0;34m=\u001b[0m\u001b[0;32mNone\u001b[0m\u001b[0;34m,\u001b[0m \u001b[0;34m/\u001b[0m\u001b[0;34m)\u001b[0m\u001b[0;34m\u001b[0m\u001b[0;34m\u001b[0m\u001b[0m\n",
       "\u001b[0;31mDocstring:\u001b[0m\n",
       "Evaluate the given source in the context of globals and locals.\n",
       "\n",
       "The source may be a string representing a Python expression\n",
       "or a code object as returned by compile().\n",
       "The globals must be a dictionary and locals can be any mapping,\n",
       "defaulting to the current globals and locals.\n",
       "If only globals is given, locals defaults to it.\n",
       "\u001b[0;31mType:\u001b[0m      builtin_function_or_method\n"
      ]
     },
     "metadata": {},
     "output_type": "display_data"
    }
   ],
   "source": [
    "eval?"
   ]
  },
  {
   "cell_type": "code",
   "execution_count": null,
   "metadata": {},
   "outputs": [
    {
     "data": {
      "text/plain": [
       "\u001b[0;31mSignature:\u001b[0m \u001b[0mexec\u001b[0m\u001b[0;34m(\u001b[0m\u001b[0msource\u001b[0m\u001b[0;34m,\u001b[0m \u001b[0mglobals\u001b[0m\u001b[0;34m=\u001b[0m\u001b[0;32mNone\u001b[0m\u001b[0;34m,\u001b[0m \u001b[0mlocals\u001b[0m\u001b[0;34m=\u001b[0m\u001b[0;32mNone\u001b[0m\u001b[0;34m,\u001b[0m \u001b[0;34m/\u001b[0m\u001b[0;34m)\u001b[0m\u001b[0;34m\u001b[0m\u001b[0;34m\u001b[0m\u001b[0m\n",
       "\u001b[0;31mDocstring:\u001b[0m\n",
       "Execute the given source in the context of globals and locals.\n",
       "\n",
       "The source may be a string representing one or more Python statements\n",
       "or a code object as returned by compile().\n",
       "The globals must be a dictionary and locals can be any mapping,\n",
       "defaulting to the current globals and locals.\n",
       "If only globals is given, locals defaults to it.\n",
       "\u001b[0;31mType:\u001b[0m      builtin_function_or_method\n"
      ]
     },
     "metadata": {},
     "output_type": "display_data"
    }
   ],
   "source": [
    "exec?"
   ]
  },
  {
   "cell_type": "code",
   "execution_count": null,
   "metadata": {},
   "outputs": [],
   "source": []
  },
  {
   "cell_type": "markdown",
   "metadata": {},
   "source": [
    "## make a colorful string"
   ]
  },
  {
   "cell_type": "code",
   "execution_count": null,
   "metadata": {},
   "outputs": [],
   "source": [
    "#|export\n",
    "class dbcolors:\n",
    "    g = '\\033[92m' #GREEN\n",
    "    y = '\\033[93m' #YELLOW\n",
    "    r = '\\033[91m' #RED\n",
    "    reset = '\\033[0m' #RESET COLOR"
   ]
  },
  {
   "cell_type": "code",
   "execution_count": null,
   "metadata": {},
   "outputs": [],
   "source": [
    "#|export\n",
    "def colorize(cmt, color:str=None):\n",
    "    if color == \"g\":\n",
    "        return dbcolors.g + cmt + dbcolors.reset\n",
    "    elif color == \"y\":\n",
    "        return dbcolors.y + cmt + dbcolors.reset\n",
    "    elif color == \"r\":\n",
    "        return dbcolors.r + cmt + dbcolors.reset\n",
    "    else: \n",
    "        return cmt"
   ]
  },
  {
   "cell_type": "code",
   "execution_count": null,
   "metadata": {},
   "outputs": [
    {
     "data": {
      "text/plain": [
       "'\\x1b[91mthis is me\\x1b[0m'"
      ]
     },
     "execution_count": null,
     "metadata": {},
     "output_type": "execute_result"
    }
   ],
   "source": [
    "colorize(\"this is me\", \"r\")"
   ]
  },
  {
   "cell_type": "code",
   "execution_count": null,
   "metadata": {},
   "outputs": [
    {
     "name": "stdout",
     "output_type": "stream",
     "text": [
      "\u001b[91mthis is me\u001b[0m\n"
     ]
    }
   ],
   "source": [
    "print(colorize(\"this is me\", \"r\"))"
   ]
  },
  {
   "cell_type": "markdown",
   "metadata": {},
   "source": [
    "## align text to the most right"
   ]
  },
  {
   "cell_type": "code",
   "execution_count": null,
   "metadata": {},
   "outputs": [],
   "source": [
    "#| export\n",
    "import re"
   ]
  },
  {
   "cell_type": "code",
   "execution_count": null,
   "metadata": {},
   "outputs": [],
   "source": [
    "#| export\n",
    "def strip_ansi(source):\n",
    "    return re.sub(r'\\033\\[(\\d|;)+?m', '', source)"
   ]
  },
  {
   "cell_type": "code",
   "execution_count": null,
   "metadata": {},
   "outputs": [],
   "source": [
    "#| export\n",
    "def alignright(blocks):\n",
    "    lst = blocks.split('\\n')\n",
    "    maxlen = max(map(lambda l : len(strip_ansi(l)) , lst ))\n",
    "    indent = defaults.margin - maxlen\n",
    "    for l in lst:\n",
    "        print(' '*indent + format(l))"
   ]
  },
  {
   "cell_type": "code",
   "execution_count": null,
   "metadata": {},
   "outputs": [
    {
     "name": "stdout",
     "output_type": "stream",
     "text": [
      "                                                                                                                                                   this is me\n"
     ]
    }
   ],
   "source": [
    "alignright(\"this is me\")"
   ]
  },
  {
   "cell_type": "code",
   "execution_count": null,
   "metadata": {},
   "outputs": [],
   "source": []
  },
  {
   "cell_type": "markdown",
   "metadata": {},
   "source": [
    "## print out src code"
   ]
  },
  {
   "cell_type": "code",
   "execution_count": null,
   "metadata": {},
   "outputs": [],
   "source": [
    "#| export\n",
    "import inspect"
   ]
  },
  {
   "cell_type": "markdown",
   "metadata": {},
   "source": [
    "### basic version"
   ]
  },
  {
   "cell_type": "code",
   "execution_count": null,
   "metadata": {},
   "outputs": [],
   "source": [
    "\n",
    "def printsrc(src, srclines, cmt):\n",
    "# print out the title\n",
    "    print('\\n')\n",
    "    print('{:#^157}'.format(\" srcline under investigation \"))\n",
    "    print('\\n')\n",
    "\n",
    "\n",
    "    # convert the source code of the function into a list of strings splitted by '\\n'\n",
    "    lst = inspect.getsource(src).split('\\n')\n",
    "\n",
    "    ccount = 0\n",
    "    for l in lst: \n",
    "        if bool(l) and l.strip() in srclines: # print out the srcline under investigation\n",
    "            print('{:=<157}'.format(l))\n",
    "            ccount = ccount + 1\n",
    "\n",
    "            if bool(cmt): # print out comment at the end of the srclines under investigation\n",
    "                numsrclines = len(srclines.split(\"\\n\"))\n",
    "                if ccount == numsrclines: \n",
    "                    colcmt = colorize(cmt, \"r\") # colorize the comment\n",
    "                    alignright(colcmt) # put the comment to the most right\n",
    "\n",
    "        else: \n",
    "            print('{:<157}'.format(l)) # print out the rest of source code"
   ]
  },
  {
   "cell_type": "code",
   "execution_count": null,
   "metadata": {},
   "outputs": [],
   "source": [
    "def foo():     \n",
    "    a = 1 + 1\n",
    "    b = a + 1\n",
    "    pass"
   ]
  },
  {
   "cell_type": "code",
   "execution_count": null,
   "metadata": {},
   "outputs": [
    {
     "name": "stdout",
     "output_type": "stream",
     "text": [
      "\n",
      "\n",
      "################################################################ srcline under investigation ################################################################\n",
      "\n",
      "\n",
      "def foo():                                                                                                                                                   \n",
      "    a = 1 + 1================================================================================================================================================\n",
      "                                                                                                                                              \u001b[91mthis is comment\u001b[0m\n",
      "    b = a + 1                                                                                                                                                \n",
      "    pass                                                                                                                                                     \n",
      "                                                                                                                                                             \n"
     ]
    }
   ],
   "source": [
    "printsrc(foo, \"a = 1 + 1\", \"this is comment\")"
   ]
  },
  {
   "cell_type": "code",
   "execution_count": null,
   "metadata": {},
   "outputs": [
    {
     "name": "stdout",
     "output_type": "stream",
     "text": [
      "\n",
      "\n",
      "################################################################ srcline under investigation ################################################################\n",
      "\n",
      "\n",
      "def foo():                                                                                                                                                   \n",
      "    a = 1 + 1================================================================================================================================================\n",
      "    b = a + 1================================================================================================================================================\n",
      "                                                                                                                                              \u001b[91mthis is comment\u001b[0m\n",
      "    pass                                                                                                                                                     \n",
      "                                                                                                                                                             \n"
     ]
    }
   ],
   "source": [
    "printsrc(foo, \"    a = 1 + 1\\n    b = a + 1\", \"this is comment\")"
   ]
  },
  {
   "cell_type": "markdown",
   "metadata": {},
   "source": [
    "### print src with specific number of lines"
   ]
  },
  {
   "cell_type": "code",
   "execution_count": null,
   "metadata": {},
   "outputs": [],
   "source": [
    "#| export\n",
    "def printsrc(src, srclines, cmt, lines:int=5):\n",
    "# print out the title\n",
    "    print('\\n')\n",
    "    print('{:#^157}'.format(\" srcline under investigation \"))\n",
    "    print('\\n')\n",
    "\n",
    "\n",
    "    # convert the source code of the function into a list of strings splitted by '\\n'\n",
    "    lst = inspect.getsource(src).split('\\n')\n",
    "    \n",
    "    # find the idx of the first srcline under investigation in src code\n",
    "    \n",
    "\n",
    "    ccount = 0\n",
    "    for l in lst: \n",
    "        if bool(l) and l.strip() in srclines: # print out the srcline under investigation with # as padding\n",
    "            print('{:=<157}'.format(l))\n",
    "            ccount = ccount + 1\n",
    "\n",
    "            if bool(cmt): # print out comment at the end of the srclines under investigation\n",
    "                numsrclines = len(srclines.split(\"\\n\"))\n",
    "                if ccount == numsrclines: \n",
    "                    colcmt = colorize(cmt, \"r\") # colorize the comment\n",
    "                    alignright(colcmt) # put the comment to the most right\n",
    "\n",
    "        else: \n",
    "            print('{:<157}'.format(l)) # print out the rest of source code to the most left\n",
    "\n",
    "    "
   ]
  },
  {
   "cell_type": "markdown",
   "metadata": {},
   "source": [
    "## dbprint on expression"
   ]
  },
  {
   "cell_type": "markdown",
   "metadata": {},
   "source": [
    "### basic version"
   ]
  },
  {
   "cell_type": "code",
   "execution_count": null,
   "metadata": {},
   "outputs": [],
   "source": [
    "#| export\n",
    "def dbprint(src, # the src func name, e.g., foo\n",
    "            srclines:str, # the srclines under investigation\n",
    "            cmt:str, # comment\n",
    "            *code,   # a number of codes to run, each code is in str, e.g., \"a + b\", \"c = a - b\"\n",
    "            **env\n",
    "           ):  # a number of stuff needed to run the code, e.g. var1 = var1, func1 = func1\n",
    "    \"debug a srcline with one or more expressions with src printed.\"\n",
    "    \n",
    "    # print out src code: the basic version\n",
    "    printsrc(src, srclines, cmt)\n",
    "    \n",
    "    for c in code:\n",
    "    # print(f\"{c} => {c} : {eval(c, globals().update(env))}\") \n",
    "        output = f\"{c} => {c} : {eval(c, globals().update(env))}\"\n",
    "        print('{:>157}'.format(output))   "
   ]
  },
  {
   "cell_type": "code",
   "execution_count": null,
   "metadata": {},
   "outputs": [],
   "source": [
    "def foo():     \n",
    "    a = 1 + 1\n",
    "    b = a + 1\n",
    "    pass"
   ]
  },
  {
   "cell_type": "code",
   "execution_count": null,
   "metadata": {},
   "outputs": [],
   "source": [
    "def foo(): \n",
    "    dbprint(foo, \"    a = 1 + 1\", \"this is a test\", \"1+2\", \"str(1+2)\")\n",
    "    a = 1 + 1\n",
    "    pass"
   ]
  },
  {
   "cell_type": "code",
   "execution_count": null,
   "metadata": {},
   "outputs": [
    {
     "name": "stdout",
     "output_type": "stream",
     "text": [
      "\n",
      "\n",
      "################################################################ srcline under investigation ################################################################\n",
      "\n",
      "\n",
      "def foo():                                                                                                                                                   \n",
      "    dbprint(foo, \"    a = 1 + 1\", \"this is a test\", \"1+2\", \"str(1+2)\")                                                                                       \n",
      "    a = 1 + 1================================================================================================================================================\n",
      "                                                                                                                                               \u001b[91mthis is a test\u001b[0m\n",
      "    pass                                                                                                                                                     \n",
      "                                                                                                                                                             \n",
      "                                                                                                                                               1+2 => 1+2 : 3\n",
      "                                                                                                                                     str(1+2) => str(1+2) : 3\n"
     ]
    }
   ],
   "source": [
    "foo()"
   ]
  },
  {
   "cell_type": "code",
   "execution_count": null,
   "metadata": {},
   "outputs": [],
   "source": [
    "#| hide\n",
    "import nbdev; nbdev.nbdev_export()"
   ]
  },
  {
   "cell_type": "code",
   "execution_count": null,
   "metadata": {},
   "outputs": [],
   "source": []
  },
  {
   "cell_type": "code",
   "execution_count": null,
   "metadata": {},
   "outputs": [],
   "source": []
  },
  {
   "cell_type": "code",
   "execution_count": null,
   "metadata": {},
   "outputs": [],
   "source": []
  },
  {
   "cell_type": "code",
   "execution_count": null,
   "metadata": {},
   "outputs": [],
   "source": []
  },
  {
   "cell_type": "code",
   "execution_count": null,
   "metadata": {},
   "outputs": [],
   "source": []
  },
  {
   "cell_type": "markdown",
   "metadata": {},
   "source": [
    "#|hide\n",
    "## Export"
   ]
  },
  {
   "cell_type": "code",
   "execution_count": null,
   "metadata": {},
   "outputs": [],
   "source": [
    "#| hide\n",
    "from nbdev import nbdev_export\n",
    "nbdev_export()"
   ]
  },
  {
   "cell_type": "markdown",
   "metadata": {},
   "source": [
    "#|hide\n",
    "## Send to Obsidian"
   ]
  },
  {
   "cell_type": "code",
   "execution_count": null,
   "metadata": {},
   "outputs": [
    {
     "name": "stdout",
     "output_type": "stream",
     "text": [
      "[jupytext] Reading /Users/Natsume/Documents/fastdebug/00_core.ipynb in format ipynb\n",
      "[jupytext] Writing /Users/Natsume/Documents/fastdebug/00_core.md\n"
     ]
    }
   ],
   "source": [
    "#| hide\n",
    "!jupytext --to md /Users/Natsume/Documents/fastdebug/00_core.ipynb\n",
    "!mv /Users/Natsume/Documents/fastdebug/00_core.md \\\n",
    "/Users/Natsume/Documents/divefastai/Debuggable/jupytext/"
   ]
  },
  {
   "cell_type": "code",
   "execution_count": null,
   "metadata": {},
   "outputs": [
    {
     "name": "stdout",
     "output_type": "stream",
     "text": [
      "[NbConvertApp] WARNING | pattern '/Users/Natsume/Documents/fastdebug/fastcore/*.ipynb' matched no files\n",
      "[NbConvertApp] WARNING | pattern '/Users/Natsume/Documents/fastdebug/fastcore/meta/*.ipynb' matched no files\n",
      "[NbConvertApp] WARNING | pattern '/Users/Natsume/Documents/fastdebug/fastcore/findings/*.ipynb' matched no files\n",
      "[NbConvertApp] Converting notebook /Users/Natsume/Documents/fastdebug/index.ipynb to markdown\n",
      "[NbConvertApp] Writing 306 bytes to /Users/Natsume/Documents/divefastai/Debuggable/nbconvert/index.md\n",
      "[NbConvertApp] Converting notebook /Users/Natsume/Documents/fastdebug/FooGetSigInit.ipynb to markdown\n",
      "[NbConvertApp] Writing 39305 bytes to /Users/Natsume/Documents/divefastai/Debuggable/nbconvert/FooGetSigInit.md\n",
      "[NbConvertApp] Converting notebook /Users/Natsume/Documents/fastdebug/00_core.ipynb to markdown\n",
      "[NbConvertApp] Writing 11849 bytes to /Users/Natsume/Documents/divefastai/Debuggable/nbconvert/00_core.md\n",
      "[NbConvertApp] Converting notebook /Users/Natsume/Documents/fastdebug/utils.ipynb to markdown\n",
      "[NbConvertApp] Writing 9902 bytes to /Users/Natsume/Documents/divefastai/Debuggable/nbconvert/utils.md\n"
     ]
    }
   ],
   "source": [
    "#| hide\n",
    "!jupyter nbconvert --config /Users/Natsume/Documents/mynbcfg.py --to markdown \\\n",
    "--output-dir /Users/Natsume/Documents/divefastai/Debuggable/nbconvert"
   ]
  }
 ],
 "metadata": {
  "kernelspec": {
   "display_name": "Python 3 (ipykernel)",
   "language": "python",
   "name": "python3"
  }
 },
 "nbformat": 4,
 "nbformat_minor": 4
}
