{
 "cells": [
  {
   "cell_type": "markdown",
   "metadata": {},
   "source": [
    "# core\n",
    "\n",
    "> the core functionalities of fastdebug"
   ]
  },
  {
   "cell_type": "code",
   "execution_count": null,
   "metadata": {},
   "outputs": [],
   "source": [
    "#| default_exp core"
   ]
  },
  {
   "cell_type": "code",
   "execution_count": null,
   "metadata": {},
   "outputs": [],
   "source": [
    "#| hide\n",
    "from nbdev.showdoc import *"
   ]
  },
  {
   "cell_type": "markdown",
   "metadata": {},
   "source": [
    "## make life easier with defaults  "
   ]
  },
  {
   "cell_type": "code",
   "execution_count": null,
   "metadata": {},
   "outputs": [],
   "source": [
    "#| export\n",
    "defaults = type('defaults', (object,), {'margin': 157, # align to the right by 157\n",
    "                                        'orisrc': None, # keep a copy of original official src code\n",
    "                                        'outenv': globals() # outside global env\n",
    "                                        # 'eg': None, # examples\n",
    "                                        # 'src': None, # official src\n",
    "                                       }) "
   ]
  },
  {
   "cell_type": "markdown",
   "metadata": {},
   "source": [
    "## globals() and locals()\n",
    "\n",
    "Interesting behavior of [locals()](https://stackoverflow.com/questions/7969949/whats-the-difference-between-globals-locals-and-vars)"
   ]
  },
  {
   "cell_type": "code",
   "execution_count": null,
   "metadata": {},
   "outputs": [
    {
     "data": {
      "text/plain": [
       "True"
      ]
     },
     "execution_count": null,
     "metadata": {},
     "output_type": "execute_result"
    }
   ],
   "source": [
    "locals() == globals()"
   ]
  },
  {
   "cell_type": "code",
   "execution_count": null,
   "metadata": {},
   "outputs": [
    {
     "data": {
      "text/plain": [
       "False"
      ]
     },
     "execution_count": null,
     "metadata": {},
     "output_type": "execute_result"
    }
   ],
   "source": [
    "\"functools\" in locals()"
   ]
  },
  {
   "cell_type": "code",
   "execution_count": null,
   "metadata": {},
   "outputs": [
    {
     "data": {
      "text/plain": [
       "False"
      ]
     },
     "execution_count": null,
     "metadata": {},
     "output_type": "execute_result"
    }
   ],
   "source": [
    "\"inspect\" in locals()"
   ]
  },
  {
   "cell_type": "code",
   "execution_count": null,
   "metadata": {},
   "outputs": [
    {
     "data": {
      "text/plain": [
       "False"
      ]
     },
     "execution_count": null,
     "metadata": {},
     "output_type": "execute_result"
    }
   ],
   "source": [
    "\"eval\" in locals()"
   ]
  },
  {
   "cell_type": "code",
   "execution_count": null,
   "metadata": {},
   "outputs": [
    {
     "data": {
      "text/plain": [
       "True"
      ]
     },
     "execution_count": null,
     "metadata": {},
     "output_type": "execute_result"
    }
   ],
   "source": [
    "\"defaults\" in locals()"
   ]
  },
  {
   "cell_type": "code",
   "execution_count": null,
   "metadata": {},
   "outputs": [
    {
     "data": {
      "text/plain": [
       "False"
      ]
     },
     "execution_count": null,
     "metadata": {},
     "output_type": "execute_result"
    }
   ],
   "source": [
    "\"whatinside\" in locals()"
   ]
  },
  {
   "cell_type": "code",
   "execution_count": null,
   "metadata": {},
   "outputs": [
    {
     "data": {
      "text/plain": [
       "False"
      ]
     },
     "execution_count": null,
     "metadata": {},
     "output_type": "execute_result"
    }
   ],
   "source": [
    "\"whichversion\" in locals()"
   ]
  },
  {
   "cell_type": "code",
   "execution_count": null,
   "metadata": {},
   "outputs": [],
   "source": [
    "from fastdebug.utils import *"
   ]
  },
  {
   "cell_type": "code",
   "execution_count": null,
   "metadata": {},
   "outputs": [
    {
     "data": {
      "text/plain": [
       "True"
      ]
     },
     "execution_count": null,
     "metadata": {},
     "output_type": "execute_result"
    }
   ],
   "source": [
    "\"whatinside\" in locals()"
   ]
  },
  {
   "cell_type": "code",
   "execution_count": null,
   "metadata": {},
   "outputs": [
    {
     "data": {
      "text/plain": [
       "True"
      ]
     },
     "execution_count": null,
     "metadata": {},
     "output_type": "execute_result"
    }
   ],
   "source": [
    "\"whichversion\" in globals()"
   ]
  },
  {
   "cell_type": "markdown",
   "metadata": {},
   "source": [
    "## Execute strings"
   ]
  },
  {
   "cell_type": "code",
   "execution_count": null,
   "metadata": {},
   "outputs": [
    {
     "data": {
      "text/plain": [
       "\u001b[0;31mSignature:\u001b[0m \u001b[0meval\u001b[0m\u001b[0;34m(\u001b[0m\u001b[0msource\u001b[0m\u001b[0;34m,\u001b[0m \u001b[0mglobals\u001b[0m\u001b[0;34m=\u001b[0m\u001b[0;32mNone\u001b[0m\u001b[0;34m,\u001b[0m \u001b[0mlocals\u001b[0m\u001b[0;34m=\u001b[0m\u001b[0;32mNone\u001b[0m\u001b[0;34m,\u001b[0m \u001b[0;34m/\u001b[0m\u001b[0;34m)\u001b[0m\u001b[0;34m\u001b[0m\u001b[0;34m\u001b[0m\u001b[0m\n",
       "\u001b[0;31mDocstring:\u001b[0m\n",
       "Evaluate the given source in the context of globals and locals.\n",
       "\n",
       "The source may be a string representing a Python expression\n",
       "or a code object as returned by compile().\n",
       "The globals must be a dictionary and locals can be any mapping,\n",
       "defaulting to the current globals and locals.\n",
       "If only globals is given, locals defaults to it.\n",
       "\u001b[0;31mType:\u001b[0m      builtin_function_or_method\n"
      ]
     },
     "metadata": {},
     "output_type": "display_data"
    }
   ],
   "source": [
    "eval?"
   ]
  },
  {
   "cell_type": "code",
   "execution_count": null,
   "metadata": {},
   "outputs": [
    {
     "data": {
      "text/plain": [
       "\u001b[0;31mSignature:\u001b[0m \u001b[0mexec\u001b[0m\u001b[0;34m(\u001b[0m\u001b[0msource\u001b[0m\u001b[0;34m,\u001b[0m \u001b[0mglobals\u001b[0m\u001b[0;34m=\u001b[0m\u001b[0;32mNone\u001b[0m\u001b[0;34m,\u001b[0m \u001b[0mlocals\u001b[0m\u001b[0;34m=\u001b[0m\u001b[0;32mNone\u001b[0m\u001b[0;34m,\u001b[0m \u001b[0;34m/\u001b[0m\u001b[0;34m)\u001b[0m\u001b[0;34m\u001b[0m\u001b[0;34m\u001b[0m\u001b[0m\n",
       "\u001b[0;31mDocstring:\u001b[0m\n",
       "Execute the given source in the context of globals and locals.\n",
       "\n",
       "The source may be a string representing one or more Python statements\n",
       "or a code object as returned by compile().\n",
       "The globals must be a dictionary and locals can be any mapping,\n",
       "defaulting to the current globals and locals.\n",
       "If only globals is given, locals defaults to it.\n",
       "\u001b[0;31mType:\u001b[0m      builtin_function_or_method\n"
      ]
     },
     "metadata": {},
     "output_type": "display_data"
    }
   ],
   "source": [
    "exec?"
   ]
  },
  {
   "cell_type": "code",
   "execution_count": null,
   "metadata": {},
   "outputs": [],
   "source": [
    "#| export\n",
    "from pprint import pprint"
   ]
  },
  {
   "cell_type": "markdown",
   "metadata": {},
   "source": [
    "### new variable or updated variable by exec will only be accessible from locals()"
   ]
  },
  {
   "cell_type": "code",
   "execution_count": null,
   "metadata": {},
   "outputs": [
    {
     "name": "stdout",
     "output_type": "stream",
     "text": [
      "\"locals: {'a': '1+x'}\"\n",
      "2\n"
     ]
    }
   ],
   "source": [
    "x = 1\n",
    "def test():\n",
    "    a = \"1+x\"\n",
    "    pprint(f'locals: {locals()}', width=157) # x is not in locals() but in globals()\n",
    "    print(eval(a)) \n",
    "test()"
   ]
  },
  {
   "cell_type": "code",
   "execution_count": null,
   "metadata": {},
   "outputs": [
    {
     "name": "stdout",
     "output_type": "stream",
     "text": [
      "{'a': 'b = 1+x'}\n",
      "exec(a): None\n",
      "{'a': 'b = 1+x', 'b': 2}\n",
      "name 'b' is not defined\n"
     ]
    }
   ],
   "source": [
    "x = 1\n",
    "def test():\n",
    "    a = \"b = 1+x\"\n",
    "    pprint(locals())\n",
    "    print(f'exec(a): {exec(a)}') \n",
    "    pprint(locals())\n",
    "    print(b) # b can't be accessed directly and not use the key b\n",
    "\n",
    "try:\n",
    "    test()\n",
    "except NameError as e:\n",
    "    print(e)\n",
    "    "
   ]
  },
  {
   "cell_type": "code",
   "execution_count": null,
   "metadata": {},
   "outputs": [
    {
     "name": "stdout",
     "output_type": "stream",
     "text": [
      "{'a': 'b = 1+x'}\n",
      "exec(a): None\n",
      "{'a': 'b = 1+x'}\n",
      "KeyError: 'b' does not exist\n"
     ]
    }
   ],
   "source": [
    "x = 1\n",
    "def test():\n",
    "    a = \"b = 1+x\"\n",
    "    pprint(locals())\n",
    "    print(f'exec(a): {exec(a)}') \n",
    "    pprint(locals())\n",
    "    b = locals()['b'] # you can't even assign the value to b, otherwise b:value won't be available\n",
    "    print(b)\n",
    "\n",
    "# test()\n",
    "try:\n",
    "    test()\n",
    "except KeyError as e:\n",
    "    print(\"KeyError: 'b' does not exist\")"
   ]
  },
  {
   "cell_type": "code",
   "execution_count": null,
   "metadata": {},
   "outputs": [
    {
     "name": "stdout",
     "output_type": "stream",
     "text": [
      "{'a': 'b = 1+x'}\n",
      "exec(a): None\n",
      "{'a': 'b = 1+x', 'b': 2}\n",
      "2\n",
      "{'a': 'b = 1+x', 'b': 2, 'c': 2}\n"
     ]
    }
   ],
   "source": [
    "x = 1\n",
    "def test():\n",
    "    a = \"b = 1+x\"\n",
    "    pprint(locals())\n",
    "    print(f'exec(a): {exec(a)}') \n",
    "    pprint(locals())\n",
    "    c = locals()['b'] # if assign to a different name, then b is available\n",
    "    print(c)\n",
    "    pprint(locals())\n",
    "\n",
    "# test()\n",
    "try:\n",
    "    test()\n",
    "except KeyError as e:\n",
    "    print(\"KeyError: 'b' does not exist\")"
   ]
  },
  {
   "cell_type": "code",
   "execution_count": null,
   "metadata": {},
   "outputs": [
    {
     "name": "stdout",
     "output_type": "stream",
     "text": [
      "{'a': 'b = 1+x'}\n",
      "exec(a): None\n",
      "{'a': 'b = 1+x', 'b': 2}\n",
      "c = locals()[\"b\"]; c: 2\n",
      "{'a': 'b = 1+x', 'b': 2, 'c': 2}\n",
      "exec(c = c + 1): None\n",
      "{'a': 'b = 1+x', 'b': 2, 'c': 2}\n"
     ]
    }
   ],
   "source": [
    "x = 1\n",
    "def test():\n",
    "    a = \"b = 1+x\"\n",
    "    pprint(locals())\n",
    "    print(f'exec(a): {exec(a)}') \n",
    "    pprint(locals())\n",
    "    c = locals()['b'] # if assign to a different name, then b is available\n",
    "    print(f'c = locals()[\"b\"]; c: {c}')\n",
    "    pprint(locals())\n",
    "    print(f'exec(c = c + 1): {exec(\"c = c + 1\")}') # update c won't change anything\n",
    "    pprint(locals())\n",
    "\n",
    "test()"
   ]
  },
  {
   "cell_type": "code",
   "execution_count": null,
   "metadata": {},
   "outputs": [
    {
     "name": "stdout",
     "output_type": "stream",
     "text": [
      "{'a': 'b = 1+x'}\n",
      "exec(a): None\n",
      "{'a': 'b = 1+x', 'b': 2}\n",
      "c = locals()[\"b\"]; c: 2\n",
      "{'a': 'b = 1+x', 'b': 2, 'c': 2}\n",
      "exec(d = c + 1): None\n",
      "{'a': 'b = 1+x', 'b': 2, 'c': 2, 'd': 3}\n"
     ]
    }
   ],
   "source": [
    "x = 1\n",
    "def test():\n",
    "    a = \"b = 1+x\"\n",
    "    pprint(locals())\n",
    "    print(f'exec(a): {exec(a)}') \n",
    "    pprint(locals())\n",
    "    c = locals()['b'] # if assign to a different name, then b is available\n",
    "    print(f'c = locals()[\"b\"]; c: {c}')\n",
    "    pprint(locals())\n",
    "    print(f'exec(d = c + 1): {exec(\"d = c + 1\")}') # must assign to a different variable, not c anymore\n",
    "    pprint(locals())\n",
    "\n",
    "test()"
   ]
  },
  {
   "cell_type": "markdown",
   "metadata": {},
   "source": [
    "### eval can override its own globals() and locals()"
   ]
  },
  {
   "cell_type": "code",
   "execution_count": null,
   "metadata": {},
   "outputs": [
    {
     "name": "stdout",
     "output_type": "stream",
     "text": [
      "\"locals: {'a': 1, 'b': 'a+1'}\"\n",
      "b: 3\n",
      "\"locals: {'a': 1, 'b': 'a+1'}\"\n"
     ]
    }
   ],
   "source": [
    "def test():\n",
    "    a = 1\n",
    "    b = \"a+1\"\n",
    "    pprint(f'locals: {locals()}', width=157)\n",
    "    print(f'b: {eval(b, {}, {\"a\": 2})}') # globals() put to empty and locals() to include 'a' with a different value\n",
    "    pprint(f'locals: {locals()}', width=157) \n",
    "\n",
    "test()"
   ]
  },
  {
   "cell_type": "markdown",
   "metadata": {},
   "source": [
    "### when exec update existing functions"
   ]
  },
  {
   "cell_type": "code",
   "execution_count": null,
   "metadata": {},
   "outputs": [],
   "source": [
    "#| export\n",
    "import inspect"
   ]
  },
  {
   "cell_type": "code",
   "execution_count": null,
   "metadata": {},
   "outputs": [
    {
     "name": "stdout",
     "output_type": "stream",
     "text": [
      "\"locals: {'func': <function foo>, 'a': 1, 'b': 'def foo(x, y): return x + y\\\\n', 'newb': 'def foo(x, y): return x + y + 3\\\\n', 'l': ''}\"\n",
      "exec(newb): None\n",
      "(\"locals: {'func': <function foo>, 'a': 1, 'b': 'def foo(x, y): return x + y\\\\n', 'newb': 'def foo(x, y): return x + y + 3\\\\n', 'l': '', \"\n",
      " \"'foo': <function foo>}\")\n",
      "13\n",
      "13\n",
      "10\n",
      "10\n"
     ]
    }
   ],
   "source": [
    "def foo(x, y): return x + y\n",
    "def test(func):\n",
    "    a = 1\n",
    "    b = inspect.getsource(func)\n",
    "    newb = \"\"\n",
    "    for l in b.split('\\n'):\n",
    "        if bool(l):\n",
    "            newb = newb + l\n",
    "    newb = newb + \" + 3\\n\"\n",
    "    pprint(f'locals: {locals()}', width=157) # foo is not available in locals()\n",
    "    print(f'exec(newb): {exec(newb)}') \n",
    "    pprint(f'locals: {locals()}', width=157) # a foo is available in locals(), but which one is it\n",
    "    newfoo = locals()[\"foo\"]\n",
    "    print(newfoo(1,9))\n",
    "    print(locals()[\"foo\"](1,9))\n",
    "    print(func(1,9))\n",
    "    print(foo(1,9))\n",
    "\n",
    "test(foo)    "
   ]
  },
  {
   "cell_type": "markdown",
   "metadata": {},
   "source": [
    "### when the func to be udpated involve other libraries"
   ]
  },
  {
   "cell_type": "code",
   "execution_count": null,
   "metadata": {},
   "outputs": [],
   "source": [
    "import functools"
   ]
  },
  {
   "cell_type": "code",
   "execution_count": null,
   "metadata": {},
   "outputs": [
    {
     "name": "stdout",
     "output_type": "stream",
     "text": [
      "(\"locals: {'func': <function foo>, 'a': 1, 'b': 'def foo(x, y): \\\\n    print(inspect.signature(foo))\\\\n    return x + y\\\\n', 'newb': 'def \"\n",
      " \"foo(x, y): \\\\n    print(inspect.signature(foo))\\\\n    return x + y + 3\\\\n', 'l': ''}\")\n",
      "exec(newb): None\n",
      "(\"locals: {'func': <function foo>, 'a': 1, 'b': 'def foo(x, y): \\\\n    print(inspect.signature(foo))\\\\n    return x + y\\\\n', 'newb': 'def \"\n",
      " \"foo(x, y): \\\\n    print(inspect.signature(foo))\\\\n    return x + y + 3\\\\n', 'l': '', 'foo': <function foo>}\")\n",
      "(x, y)\n",
      "13\n",
      "(x, y)\n",
      "13\n",
      "(x, y)\n",
      "10\n",
      "(x, y)\n",
      "10\n"
     ]
    }
   ],
   "source": [
    "def foo(x, y): \n",
    "    print(inspect.signature(foo))\n",
    "    return x + y\n",
    "def test(func):\n",
    "    a = 1\n",
    "    b = inspect.getsource(func)\n",
    "    newb = \"\"\n",
    "    for l in b.split('\\n'):\n",
    "        if bool(l) and \"return\" not in l :\n",
    "            newb = newb + l + '\\n'\n",
    "        elif bool(l):\n",
    "            newb = newb + l\n",
    "    newb = newb + \" + 3\\n\"\n",
    "    pprint(f'locals: {locals()}', width=157) # foo is not available in locals()\n",
    "    print(f'exec(newb): {exec(newb)}') \n",
    "    pprint(f'locals: {locals()}', width=157) # a foo is available in locals(), but which one is it\n",
    "    newfoo = locals()[\"foo\"]\n",
    "    print(newfoo(1,9))\n",
    "    print(locals()[\"foo\"](1,9))\n",
    "    print(func(1,9))\n",
    "    print(foo(1,9))\n",
    "\n",
    "test(foo)    "
   ]
  },
  {
   "cell_type": "markdown",
   "metadata": {},
   "source": [
    "### inside a function, exec() allow won't give you necessary env from function namespace"
   ]
  },
  {
   "cell_type": "code",
   "execution_count": null,
   "metadata": {},
   "outputs": [
    {
     "name": "stdout",
     "output_type": "stream",
     "text": [
      "\"locals: {'func': <function add>, 'a': 1, 'lst': [], 'b': 'def add(x, y):\\\\n    lst.append(x)\\\\n    return x + y'}\"\n",
      "(\"locals: {'func': <function add>, 'a': 1, 'lst': [], 'b': 'def add(x, y):\\\\n    lst.append(x)\\\\n    return x + y', 'add': <function add at \"\n",
      " '0x118b54700>}')\n",
      "add(5,6): 1\n",
      "name 'lst' is not defined\n"
     ]
    }
   ],
   "source": [
    "def add(x, y): return 1\n",
    "\n",
    "def test(func):\n",
    "    a = 1\n",
    "    lst = []\n",
    "    b = \"def add(x, y):\\n    lst.append(x)\\n    return x + y\"\n",
    "    pprint(f'locals: {locals()}', width=157)\n",
    "    exec(b) # create the new add in locals\n",
    "    pprint(f'locals: {locals()}', width=157)\n",
    "    print(f'add(5,6): {add(5,6)}')\n",
    "    add1 = locals()['add'] # assign a different name, add1\n",
    "    \n",
    "    print(f'add1(5,6): {add1(5,6)}') # error: lst is not defined, even though lst=[] is right above\n",
    "    \n",
    "    pprint(f'locals: {locals()}', width=157)\n",
    "\n",
    "try:\n",
    "    test(add)\n",
    "except NameError as e:\n",
    "    print(e)"
   ]
  },
  {
   "cell_type": "markdown",
   "metadata": {},
   "source": [
    "### magic of `exec(b, globals().update(locals()))`"
   ]
  },
  {
   "cell_type": "markdown",
   "metadata": {},
   "source": [
    "What about `exec(b, globals().update(globals()))`"
   ]
  },
  {
   "cell_type": "code",
   "execution_count": null,
   "metadata": {},
   "outputs": [
    {
     "name": "stdout",
     "output_type": "stream",
     "text": [
      "\"locals: {'func': <function add>, 'a': 1, 'lst': [], 'b': 'def add(x, y):\\\\n    lst.append(x)\\\\n    return x + y'}\"\n",
      "(\"locals: {'func': <function add>, 'a': 1, 'lst': [], 'b': 'def add(x, y):\\\\n    lst.append(x)\\\\n    return x + y', 'add': <function add at \"\n",
      " '0x118b549d0>}')\n",
      "exec(b, globals().update(globals())) won't give us lst in the func namespace\n"
     ]
    }
   ],
   "source": [
    "def add(x, y): return 1\n",
    "\n",
    "def test(func):\n",
    "    a = 1\n",
    "    lst = []\n",
    "    b = \"def add(x, y):\\n    lst.append(x)\\n    return x + y\"\n",
    "    pprint(f'locals: {locals()}', width=157)\n",
    "    \n",
    "    exec(b, globals().update(globals())) # update(globals()) won't give us lst above\n",
    "    \n",
    "    pprint(f'locals: {locals()}', width=157)\n",
    "    add1 = locals()['add'] \n",
    "    print(add1(5,6))\n",
    "    pprint(f'locals: {locals()}', width=157)\n",
    "\n",
    "\n",
    "\n",
    "try:\n",
    "    test(add)\n",
    "except: \n",
    "    print(\"exec(b, globals().update(globals())) won't give us lst in the func namespace\")"
   ]
  },
  {
   "cell_type": "code",
   "execution_count": null,
   "metadata": {},
   "outputs": [
    {
     "name": "stdout",
     "output_type": "stream",
     "text": [
      "\"locals: {'func': <function add>, 'a': 1, 'lst': [], 'b': 'def add(x, y):\\\\n    lst.append(x)\\\\n    return x + y'}\"\n",
      "(\"locals: {'func': <function add>, 'a': 1, 'lst': [], 'b': 'def add(x, y):\\\\n    lst.append(x)\\\\n    return x + y', 'add': <function add at \"\n",
      " '0x118b54dc0>}')\n",
      "11\n",
      "(\"locals: {'func': <function add>, 'a': 1, 'lst': [5], 'b': 'def add(x, y):\\\\n    lst.append(x)\\\\n    return x + y', 'add': <function add at \"\n",
      " \"0x118b54dc0>, 'add1': <function add>}\")\n",
      "1\n",
      "you can't bring add1 from a function namespace to the outside world\n"
     ]
    }
   ],
   "source": [
    "def add(x, y): return 1\n",
    "\n",
    "def test(func):\n",
    "    a = 1\n",
    "    lst = []\n",
    "    b = \"def add(x, y):\\n    lst.append(x)\\n    return x + y\"\n",
    "    pprint(f'locals: {locals()}', width=157)\n",
    "    \n",
    "    exec(b, globals().update(locals())) # make sure b can access lst from above\n",
    "    \n",
    "    pprint(f'locals: {locals()}', width=157)\n",
    "    add1 = locals()['add'] \n",
    "    print(add1(5,6))\n",
    "    pprint(f'locals: {locals()}', width=157)\n",
    "\n",
    "test(add)\n",
    "print(add(5,6))\n",
    "try:\n",
    "    print(add1(5,6))\n",
    "except: \n",
    "    print(\"you can't bring add1 from a function namespace to the outside world\")"
   ]
  },
  {
   "cell_type": "markdown",
   "metadata": {},
   "source": [
    "### Bring variables from a func namespace to the sideout world"
   ]
  },
  {
   "cell_type": "code",
   "execution_count": null,
   "metadata": {},
   "outputs": [
    {
     "name": "stdout",
     "output_type": "stream",
     "text": [
      "\"locals: {'func': <function add>, 'a': 1, 'lst': [], 'b': 'def add(x, y):\\\\n    lst.append(x)\\\\n    return x + y'}\"\n",
      "11\n",
      "(\"locals: {'func': <function add>, 'a': 1, 'lst': [5, 5], 'b': 'def add(x, y):\\\\n    lst.append(x)\\\\n    return x + y', 'add': <function add \"\n",
      " \"at 0x118b54ca0>, 'add1': <function add>}\")\n",
      "11\n",
      "11\n",
      "[5, 5, 5, 5]\n"
     ]
    }
   ],
   "source": [
    "def add(x, y): return 1\n",
    "\n",
    "def test(func):\n",
    "    a = 1\n",
    "    lst = []\n",
    "    b = \"def add(x, y):\\n    lst.append(x)\\n    return x + y\"\n",
    "    pprint(f'locals: {locals()}', width=157)    \n",
    "    \n",
    "    exec(b, globals().update(locals())) # make sure b can access lst from above\n",
    "\n",
    "    add1 = locals()['add'] \n",
    "    print(add1(5,6))\n",
    "    add1(5,6)\n",
    "    pprint(f'locals: {locals()}', width=157)\n",
    "\n",
    "    # bring variables inside a func to the outside\n",
    "    globals().update(locals())\n",
    "\n",
    "test(add)\n",
    "pprint(add(5,6)) # the original add is override by the add from the function's locals()\n",
    "pprint(add1(5,6))\n",
    "print(lst)"
   ]
  },
  {
   "cell_type": "markdown",
   "metadata": {},
   "source": [
    "### globals() in a cell vs globals() in a func"
   ]
  },
  {
   "cell_type": "code",
   "execution_count": null,
   "metadata": {},
   "outputs": [],
   "source": [
    "from fastdebug.utils import tstenv"
   ]
  },
  {
   "cell_type": "code",
   "execution_count": null,
   "metadata": {},
   "outputs": [
    {
     "data": {
      "text/plain": [
       "87"
      ]
     },
     "execution_count": null,
     "metadata": {},
     "output_type": "execute_result"
    }
   ],
   "source": [
    "len(globals().keys())"
   ]
  },
  {
   "cell_type": "code",
   "execution_count": null,
   "metadata": {},
   "outputs": [
    {
     "data": {
      "text/plain": [
       "'__main__'"
      ]
     },
     "execution_count": null,
     "metadata": {},
     "output_type": "execute_result"
    }
   ],
   "source": [
    "globals()['__name__']"
   ]
  },
  {
   "cell_type": "code",
   "execution_count": null,
   "metadata": {},
   "outputs": [
    {
     "name": "stdout",
     "output_type": "stream",
     "text": [
      "out global env has 20 vars\n",
      "inner global env has 20 vars\n",
      "inner local env has 20 vars\n",
      "['__name__', '__doc__', '__package__', '__loader__', '__spec__', '__file__', '__cached__', '__builtins__', '__all__', 'os']\n",
      "['__name__', '__doc__', '__package__', '__loader__', '__spec__', '__file__', '__cached__', '__builtins__', '__all__', 'os']\n",
      "out env['__name__']: fastdebug.utils\n",
      "inner env['__name__']: fastdebug.utils\n"
     ]
    }
   ],
   "source": [
    "tstenv()"
   ]
  },
  {
   "cell_type": "markdown",
   "metadata": {},
   "source": [
    "## make a colorful string"
   ]
  },
  {
   "cell_type": "code",
   "execution_count": null,
   "metadata": {},
   "outputs": [],
   "source": [
    "#|export\n",
    "class dbcolors:\n",
    "    g = '\\033[92m' #GREEN\n",
    "    y = '\\033[93m' #YELLOW\n",
    "    r = '\\033[91m' #RED\n",
    "    reset = '\\033[0m' #RESET COLOR"
   ]
  },
  {
   "cell_type": "code",
   "execution_count": null,
   "metadata": {},
   "outputs": [],
   "source": [
    "#|export\n",
    "def colorize(cmt, color:str=None):\n",
    "    if color == \"g\":\n",
    "        return dbcolors.g + cmt + dbcolors.reset\n",
    "    elif color == \"y\":\n",
    "        return dbcolors.y + cmt + dbcolors.reset\n",
    "    elif color == \"r\":\n",
    "        return dbcolors.r + cmt + dbcolors.reset\n",
    "    else: \n",
    "        return cmt"
   ]
  },
  {
   "cell_type": "code",
   "execution_count": null,
   "metadata": {},
   "outputs": [
    {
     "data": {
      "text/plain": [
       "'\\x1b[91mthis is me\\x1b[0m'"
      ]
     },
     "execution_count": null,
     "metadata": {},
     "output_type": "execute_result"
    }
   ],
   "source": [
    "colorize(\"this is me\", \"r\")"
   ]
  },
  {
   "cell_type": "code",
   "execution_count": null,
   "metadata": {},
   "outputs": [
    {
     "name": "stdout",
     "output_type": "stream",
     "text": [
      "\u001b[91mthis is me\u001b[0m\n"
     ]
    }
   ],
   "source": [
    "print(colorize(\"this is me\", \"r\"))"
   ]
  },
  {
   "cell_type": "markdown",
   "metadata": {},
   "source": [
    "## align text to the most right"
   ]
  },
  {
   "cell_type": "code",
   "execution_count": null,
   "metadata": {},
   "outputs": [],
   "source": [
    "#| export\n",
    "import re"
   ]
  },
  {
   "cell_type": "code",
   "execution_count": null,
   "metadata": {},
   "outputs": [],
   "source": [
    "#| export\n",
    "def strip_ansi(source):\n",
    "    return re.sub(r'\\033\\[(\\d|;)+?m', '', source)"
   ]
  },
  {
   "cell_type": "code",
   "execution_count": null,
   "metadata": {},
   "outputs": [],
   "source": [
    "#| export\n",
    "def alignright(blocks):\n",
    "    lst = blocks.split('\\n')\n",
    "    maxlen = max(map(lambda l : len(strip_ansi(l)) , lst ))\n",
    "    indent = defaults.margin - maxlen\n",
    "    for l in lst:\n",
    "        print(' '*indent + format(l))"
   ]
  },
  {
   "cell_type": "code",
   "execution_count": null,
   "metadata": {},
   "outputs": [
    {
     "name": "stdout",
     "output_type": "stream",
     "text": [
      "                                                                                                                                                   this is me\n"
     ]
    }
   ],
   "source": [
    "alignright(\"this is me\")"
   ]
  },
  {
   "cell_type": "code",
   "execution_count": null,
   "metadata": {},
   "outputs": [],
   "source": []
  },
  {
   "cell_type": "markdown",
   "metadata": {},
   "source": [
    "## print out src code"
   ]
  },
  {
   "cell_type": "code",
   "execution_count": null,
   "metadata": {},
   "outputs": [],
   "source": [
    "#| export\n",
    "import inspect"
   ]
  },
  {
   "cell_type": "markdown",
   "metadata": {},
   "source": [
    "### basic version"
   ]
  },
  {
   "cell_type": "code",
   "execution_count": null,
   "metadata": {},
   "outputs": [],
   "source": [
    "\n",
    "def printsrc(src, srclines, cmt):\n",
    "# print out the title\n",
    "    print('\\n')\n",
    "    print('{:#^157}'.format(\" srcline under investigation \"))\n",
    "    print('\\n')\n",
    "\n",
    "\n",
    "    # convert the source code of the function into a list of strings splitted by '\\n'\n",
    "    lst = inspect.getsource(src).split('\\n')\n",
    "\n",
    "    ccount = 0\n",
    "    for l in lst:\n",
    "        if bool(l) and l.strip() in srclines:# print out the srcline under investigation\n",
    "            print('{:=<157}'.format(l))\n",
    "            ccount = ccount + 1\n",
    "\n",
    "            if bool(cmt): # print out comment at the end of the srclines under investigation\n",
    "                numsrclines = len(srclines.split(\"\\n\"))\n",
    "                if ccount == numsrclines:\n",
    "                    colcmt = colorize(cmt, \"r\") # colorize the comment\n",
    "                    alignright(colcmt) # put the comment to the most right\n",
    "\n",
    "        else: \n",
    "            print('{:<157}'.format(l)) # print out the rest of source code"
   ]
  },
  {
   "cell_type": "code",
   "execution_count": null,
   "metadata": {},
   "outputs": [],
   "source": [
    "def foo():     \n",
    "    a = 1 + 1\n",
    "    b = a + 1\n",
    "    pass"
   ]
  },
  {
   "cell_type": "code",
   "execution_count": null,
   "metadata": {},
   "outputs": [
    {
     "name": "stdout",
     "output_type": "stream",
     "text": [
      "\n",
      "\n",
      "################################################################ srcline under investigation ################################################################\n",
      "\n",
      "\n",
      "def foo():                                                                                                                                                   \n",
      "    a = 1 + 1================================================================================================================================================\n",
      "                                                                                                                                              \u001b[91mthis is comment\u001b[0m\n",
      "    b = a + 1                                                                                                                                                \n",
      "    pass                                                                                                                                                     \n",
      "                                                                                                                                                             \n"
     ]
    }
   ],
   "source": [
    "printsrc(foo, \"a = 1 + 1\", \"this is comment\")"
   ]
  },
  {
   "cell_type": "code",
   "execution_count": null,
   "metadata": {},
   "outputs": [
    {
     "name": "stdout",
     "output_type": "stream",
     "text": [
      "\n",
      "\n",
      "################################################################ srcline under investigation ################################################################\n",
      "\n",
      "\n",
      "def foo():                                                                                                                                                   \n",
      "    a = 1 + 1================================================================================================================================================\n",
      "    b = a + 1================================================================================================================================================\n",
      "                                                                                                                                              \u001b[91mthis is comment\u001b[0m\n",
      "    pass                                                                                                                                                     \n",
      "                                                                                                                                                             \n"
     ]
    }
   ],
   "source": [
    "printsrc(foo, \"    a = 1 + 1\\n    b = a + 1\", \"this is comment\")"
   ]
  },
  {
   "cell_type": "markdown",
   "metadata": {},
   "source": [
    "### print src with specific number of lines"
   ]
  },
  {
   "cell_type": "code",
   "execution_count": null,
   "metadata": {},
   "outputs": [
    {
     "data": {
      "text/plain": [
       "2"
      ]
     },
     "execution_count": null,
     "metadata": {},
     "output_type": "execute_result"
    }
   ],
   "source": [
    "len(\"    this is a code\\nthis is another code\".split('\\n'))\n",
    "list(map(lambda x: bool(x.strip()), \"    this is a code\\n    this is another code\\n   \\n   \".split('\\n'))).count(True)"
   ]
  },
  {
   "cell_type": "code",
   "execution_count": null,
   "metadata": {},
   "outputs": [],
   "source": [
    "#| export\n",
    "def printsrc(src, srclines, cmt, expand:int=2):\n",
    "\n",
    "    # convert the source code of the function into a list of strings splitted by '\\n'\n",
    "    lst = inspect.getsource(src).split('\\n')\n",
    "    \n",
    "    # find out the idx of start srclines and end srclines\n",
    "    startidx = 0\n",
    "    numsrclines = list(map(lambda x: bool(x.strip()), srclines.split('\\n'))).count(True)\n",
    "    for idx, l in zip(range(len(lst)), lst):\n",
    "        if bool(l) and l.strip() in srclines:\n",
    "            startidx = idx\n",
    "    endidx = startidx + numsrclines - 1\n",
    "    \n",
    "    ccount = 0\n",
    "    for idx, l in zip(range(len(lst)), lst):\n",
    "        if bool(l) and l.strip() in srclines:# print out the srcline under investigation with # as padding\n",
    "            print('{:=<157}'.format(l))\n",
    "            ccount = ccount + 1\n",
    "\n",
    "            if bool(cmt): # print out comment at the end of the srclines under investigation\n",
    "                # numsrclines = len(srclines.split(\"\\n\"))\n",
    "                if ccount == numsrclines:\n",
    "                    colcmt = colorize(cmt, \"r\") # colorize the comment\n",
    "                    alignright(colcmt) # put the comment to the most right\n",
    "\n",
    "        elif idx < startidx and idx >= startidx - expand:\n",
    "            print('{:<157}'.format(l)) # print out the rest of source code to the most left\n",
    "\n",
    "        elif idx <= endidx + expand and idx > endidx:\n",
    "            print('{:<157}'.format(l)) # print out the rest of source code to the most left\n",
    "    "
   ]
  },
  {
   "cell_type": "code",
   "execution_count": null,
   "metadata": {},
   "outputs": [],
   "source": [
    "def foo(a):\n",
    "    \"this is docs\"\n",
    "    # this is a pure comment\n",
    "    if a > 1:\n",
    "        for i in range(3):\n",
    "            a = i + 1\n",
    "    else:\n",
    "        \"this is docs\"\n",
    "        b = a + 1\n",
    "    \"this is docs\"\n",
    "    return a"
   ]
  },
  {
   "cell_type": "code",
   "execution_count": null,
   "metadata": {},
   "outputs": [
    {
     "name": "stdout",
     "output_type": "stream",
     "text": [
      "    # this is a pure comment                                                                                                                                 \n",
      "    if a > 1:                                                                                                                                                \n",
      "        for i in range(3):                                                                                                                                   \n",
      "            a = i + 1                                                                                                                                        \n",
      "    else:====================================================================================================================================================\n",
      "                                                                                                                                              \u001b[91mthis is comment\u001b[0m\n",
      "        \"this is docs\"                                                                                                                                       \n",
      "        b = a + 1                                                                                                                                            \n",
      "    \"this is docs\"                                                                                                                                           \n",
      "    return a                                                                                                                                                 \n"
     ]
    }
   ],
   "source": [
    "printsrc(foo, \"else:\", \"this is comment\", expand=4)"
   ]
  },
  {
   "cell_type": "code",
   "execution_count": null,
   "metadata": {},
   "outputs": [
    {
     "name": "stdout",
     "output_type": "stream",
     "text": [
      "    \"this is docs\"                                                                                                                                           \n",
      "    return a=================================================================================================================================================\n",
      "                                                                                                                                              \u001b[91mthis is comment\u001b[0m\n",
      "                                                                                                                                                             \n"
     ]
    }
   ],
   "source": [
    "printsrc(foo, \"return a\", \"this is comment\", expand=1)"
   ]
  },
  {
   "cell_type": "code",
   "execution_count": null,
   "metadata": {},
   "outputs": [
    {
     "name": "stdout",
     "output_type": "stream",
     "text": [
      "    else:                                                                                                                                                    \n",
      "        \"this is docs\"                                                                                                                                       \n",
      "        b = a + 1============================================================================================================================================\n",
      "    return a                                                                                                                                                 \n",
      "                                                                                                                                                             \n"
     ]
    }
   ],
   "source": [
    "printsrc(foo, \"    a = 1 + 1\\n    b = a + 1\", \"this is comment\")"
   ]
  },
  {
   "cell_type": "markdown",
   "metadata": {},
   "source": [
    "more [complex example](./examples/printsrc.ipynb) on printsrc"
   ]
  },
  {
   "cell_type": "markdown",
   "metadata": {},
   "source": [
    "## dbprint on expression"
   ]
  },
  {
   "cell_type": "markdown",
   "metadata": {},
   "source": [
    "### basic version"
   ]
  },
  {
   "cell_type": "code",
   "execution_count": null,
   "metadata": {},
   "outputs": [],
   "source": [
    "\n",
    "def dbprint(src, # the src func name, e.g., foo\n",
    "            srclines:str, # the srclines under investigation\n",
    "            cmt:str, # comment\n",
    "            *code,   # a number of codes to run, each code is in str, e.g., \"a + b\", \"c = a - b\"\n",
    "            **env\n",
    "           ):  # a number of stuff needed to run the code, e.g. var1 = var1, func1 = func1\n",
    "    \"debug a srcline with one or more expressions with src printed.\"\n",
    "    \n",
    "    # print out src code: the basic version\n",
    "    printsrc(src, srclines, cmt)\n",
    "    \n",
    "    for c in code:\n",
    "    # print(f\"{c} => {c} : {eval(c, globals().update(env))}\") \n",
    "        output = f\"{c} => {c} : {eval(c, globals().update(env))}\"\n",
    "        print('{:>157}'.format(output))   "
   ]
  },
  {
   "cell_type": "code",
   "execution_count": null,
   "metadata": {},
   "outputs": [],
   "source": [
    "def foo():     \n",
    "    a = 1 + 1\n",
    "    b = a + 1\n",
    "    pass"
   ]
  },
  {
   "cell_type": "code",
   "execution_count": null,
   "metadata": {},
   "outputs": [],
   "source": [
    "def foo(): \n",
    "    dbprint(foo, \"    a = 1 + 1\", \"this is a test\", \"1+2\", \"str(1+2)\")\n",
    "    a = 1 + 1\n",
    "    pass"
   ]
  },
  {
   "cell_type": "code",
   "execution_count": null,
   "metadata": {},
   "outputs": [
    {
     "name": "stdout",
     "output_type": "stream",
     "text": [
      "def foo():                                                                                                                                                   \n",
      "    dbprint(foo, \"    a = 1 + 1\", \"this is a test\", \"1+2\", \"str(1+2)\")                                                                                       \n",
      "    a = 1 + 1================================================================================================================================================\n",
      "                                                                                                                                               \u001b[91mthis is a test\u001b[0m\n",
      "    pass                                                                                                                                                     \n",
      "                                                                                                                                                             \n",
      "                                                                                                                                               1+2 => 1+2 : 3\n",
      "                                                                                                                                     str(1+2) => str(1+2) : 3\n"
     ]
    }
   ],
   "source": [
    "foo()"
   ]
  },
  {
   "cell_type": "code",
   "execution_count": null,
   "metadata": {},
   "outputs": [],
   "source": []
  },
  {
   "cell_type": "markdown",
   "metadata": {},
   "source": [
    "### insert dbcode and make a new dbfunc"
   ]
  },
  {
   "cell_type": "markdown",
   "metadata": {},
   "source": [
    "when bringing back splitted lines back, we need add '\\n' back to them"
   ]
  },
  {
   "cell_type": "code",
   "execution_count": null,
   "metadata": {},
   "outputs": [
    {
     "name": "stdout",
     "output_type": "stream",
     "text": [
      "'def foo():     dbprint(foo, \"    a = 1 + 1\", \"this is a test\", \"1+2\", \"str(1+2)\")    a = 1 + 1    pass'\n"
     ]
    }
   ],
   "source": [
    "back = \"\"\n",
    "for l in inspect.getsource(foo).split('\\n'):\n",
    "    back = back + l\n",
    "pprint(back, width=157)"
   ]
  },
  {
   "cell_type": "code",
   "execution_count": null,
   "metadata": {},
   "outputs": [],
   "source": [
    "\n",
    "def dbprint(src, # the src func name, e.g., foo\n",
    "            srclines:str, # the srclines under investigation\n",
    "            cmt:str, # comment\n",
    "            *codes, # a list of dbcodes\n",
    "            expand:int=2 # span 2 lines of srcode up and down from the srcline investigated\n",
    "           ):  # a number of stuff needed to run the code, e.g. var1 = var1, func1 = func1\n",
    "    \"Insert dbcodes under srclines under investigation, and create a new dbsrc function to replace the official one\"\n",
    "    \n",
    "    # make sure the original official src is kept safe and used whenever dbprint is used\n",
    "    if defaults.orisrc == None:\n",
    "        defaults.orisrc = src\n",
    "    else: \n",
    "        src = defaults.orisrc\n",
    "    \n",
    "    \n",
    "    # print out src code: the basic version\n",
    "    printsrc(src, srclines, cmt, expand)\n",
    "    \n",
    "    # insert the dbcodes from *code into the original official srcode\n",
    "    dbsrc = \"\"\n",
    "    indent = 4\n",
    "    onedbprint = False\n",
    "    \n",
    "    # make sure the last line which is \"\" is removed from lst\n",
    "    lst = inspect.getsource(src).split('\\n')\n",
    "    if not bool(lst[-1]): lst = lst[:-1]\n",
    "    \n",
    "    # express and insert the dbcode after the srcline under investigation\n",
    "    for idx, l in zip(range(len(lst)), lst):\n",
    "        if bool(l.strip()) and l.strip() in srclines:\n",
    "            \n",
    "            # get current l's indentation is enough here, as dbcode is above l\n",
    "            numindent = len(l) - len(l.strip())\n",
    "            # attach dbcode above the l under investigation\n",
    "            dbcodes = \"dbprintinsert(\"\n",
    "            count = 1\n",
    "            for c in codes:\n",
    "                if count == len(codes) and \"=\" in c:\n",
    "                    dbcodes = dbcodes + c + \")\"\n",
    "                elif count == len(codes) and \"=\" not in c:\n",
    "                    dbcodes = dbcodes + '\"' + c + '\"' + \")\"\n",
    "                elif count != len(codes) and \"=\" in c:\n",
    "                    dbcodes = dbcodes + c + \",\"\n",
    "                elif count != len(codes) and \"=\" not in c:\n",
    "                    dbcodes = dbcodes + '\"' + c + '\"' + \",\"\n",
    "                count = count + 1\n",
    "\n",
    "            # make sure dbprint only written once for multi-srclines under investigation\n",
    "            if onedbprint == False:\n",
    "                dbsrc = dbsrc + \" \"*numindent + dbcodes + '\\n'\n",
    "                dbsrc = dbsrc + l + '\\n' # don't forget to add the srcline below dbprint\n",
    "                onedbprint = True\n",
    "            else:\n",
    "                dbsrc = dbsrc + l + '\\n'\n",
    "        \n",
    "        elif bool(l.strip()) and idx + 1 == len(lst): # handle the last line of srcode\n",
    "            dbsrc = dbsrc + l\n",
    "            \n",
    "        elif bool(l.strip()): # make sure pure indentation + \\n is ignored\n",
    "            dbsrc = dbsrc + l + '\\n'\n",
    "                \n",
    "\n",
    "    # print out the new srcode\n",
    "    # for l in dbsrc.split('\\n'):\n",
    "    #     print(l)\n",
    "    \n",
    "    # exec the dbsrc to replace the official source code\n",
    "    exec(dbsrc) # created new foo and saved inside locals()\n",
    "\n",
    "    \n",
    "    # check to see whether the new srcode is created\n",
    "    # print(locals())\n",
    "    \n",
    "    # move this new foo into globals, so that outside the cell we can still use it\n",
    "    globals().update(locals())\n",
    "    \n",
    "    return locals()[defaults.orisrc.__name__]\n",
    "    "
   ]
  },
  {
   "cell_type": "markdown",
   "metadata": {},
   "source": [
    "### Bring outside namespace variables into exec()"
   ]
  },
  {
   "cell_type": "code",
   "execution_count": null,
   "metadata": {},
   "outputs": [],
   "source": [
    "\n",
    "def dbprint(src, # the src func name, e.g., foo\n",
    "            srclines:str, # the srclines under investigation\n",
    "            cmt:str, # comment\n",
    "            *codes, # a list of dbcodes\n",
    "            expand:int=2, # span 2 lines of srcode up and down from the srcline investigated\n",
    "            env = globals() # outer env\n",
    "           ):  # a number of stuff needed to run the code, e.g. var1 = var1, func1 = func1\n",
    "    \"Insert dbcodes under srclines under investigation, and create a new dbsrc function to replace the official one\"\n",
    "    \n",
    "    # make sure the original official src is kept safe and used whenever dbprint is used\n",
    "    if defaults.orisrc == None:\n",
    "        defaults.orisrc = src\n",
    "    else: \n",
    "        src = defaults.orisrc\n",
    "    \n",
    "    \n",
    "    # print out src code: the basic version\n",
    "    printsrc(src, srclines, cmt, expand)\n",
    "    \n",
    "    # insert the dbcodes from *code into the original official srcode\n",
    "    dbsrc = \"\"\n",
    "    indent = 4\n",
    "    onedbprint = False\n",
    "    \n",
    "    # make sure the last line which is \"\" is removed from lst\n",
    "    lst = inspect.getsource(src).split('\\n')\n",
    "    if not bool(lst[-1]): lst = lst[:-1]\n",
    "    \n",
    "    # express and insert the dbcode after the srcline under investigation\n",
    "    for idx, l in zip(range(len(lst)), lst):\n",
    "        if bool(l.strip()) and l.strip() in srclines:\n",
    "            \n",
    "            # get current l's indentation is enough here, as dbcode is above l\n",
    "            numindent = len(l) - len(l.strip())\n",
    "            # attach dbcode above the l under investigation\n",
    "            dbcodes = \"dbprintinsert(\"\n",
    "            count = 1\n",
    "            for c in codes:\n",
    "                if count == len(codes) and \"=\" in c:\n",
    "                    dbcodes = dbcodes + c + \")\"\n",
    "                elif count == len(codes) and \"=\" not in c:\n",
    "                    dbcodes = dbcodes + '\"' + c + '\"' + \")\"\n",
    "                elif count != len(codes) and \"=\" in c:\n",
    "                    dbcodes = dbcodes + c + \",\"\n",
    "                elif count != len(codes) and \"=\" not in c:\n",
    "                    dbcodes = dbcodes + '\"' + c + '\"' + \",\"\n",
    "                count = count + 1\n",
    "\n",
    "            # make sure dbprint only written once for multi-srclines under investigation\n",
    "            if onedbprint == False:\n",
    "                dbsrc = dbsrc + \" \"*numindent + dbcodes + '\\n'\n",
    "                dbsrc = dbsrc + l + '\\n' # don't forget to add the srcline below dbprint\n",
    "                onedbprint = True\n",
    "            else:\n",
    "                dbsrc = dbsrc + l + '\\n'\n",
    "        \n",
    "        elif bool(l.strip()) and idx + 1 == len(lst): # handle the last line of srcode\n",
    "            dbsrc = dbsrc + l\n",
    "            \n",
    "        elif bool(l.strip()): # make sure pure indentation + \\n is ignored\n",
    "            dbsrc = dbsrc + l + '\\n'\n",
    "                \n",
    "\n",
    "    # print out the new srcode\n",
    "    # for l in dbsrc.split('\\n'):\n",
    "    #     print(l)\n",
    "    \n",
    "    # exec the dbsrc to replace the official source code\n",
    "    # exec(dbsrc) # created new foo and saved inside locals()\n",
    "    # exec(dbsrc, globals().update(locals())) # make sure b can access lst from above\n",
    "    exec(dbsrc, globals().update(env)) # make sure b can access lst from above\n",
    "    \n",
    "    # check to see whether the new srcode is created\n",
    "    # print(f'locals()[\"src\"]: {locals()[\"src\"]}')\n",
    "    # print(f'locals()[\"{src.__name__}\"]: {locals()[src.__name__]}')\n",
    "    \n",
    "    # move this new foo into globals, so that outside the cell we can still use it\n",
    "    globals().update(locals())\n",
    "    \n",
    "    return locals()[defaults.orisrc.__name__]\n",
    "    "
   ]
  },
  {
   "cell_type": "markdown",
   "metadata": {},
   "source": [
    "### Bring what inside the func namespace variables to the outside world"
   ]
  },
  {
   "cell_type": "code",
   "execution_count": null,
   "metadata": {},
   "outputs": [],
   "source": [
    "\n",
    "def dbprint(src, # the src func name, e.g., foo\n",
    "            srclines:str, # the srclines under investigation\n",
    "            cmt:str, # comment\n",
    "            *codes, # a list of dbcodes\n",
    "            expand:int=2, # span 2 lines of srcode up and down from the srcline investigated\n",
    "            env = globals() # outer env\n",
    "           ):  # a number of stuff needed to run the code, e.g. var1 = var1, func1 = func1\n",
    "    \"Insert dbcodes under srclines under investigation, and create a new dbsrc function to replace the official one\"\n",
    "    \n",
    "    # make sure the original official src is kept safe and used whenever dbprint is used\n",
    "    if defaults.orisrc == None:\n",
    "        defaults.orisrc = src\n",
    "    else: \n",
    "        src = defaults.orisrc\n",
    "    \n",
    "    \n",
    "    # print out src code: the basic version\n",
    "    printsrc(src, srclines, cmt, expand)\n",
    "    \n",
    "    # insert the dbcodes from *code into the original official srcode\n",
    "    dbsrc = \"\"\n",
    "    indent = 4\n",
    "    onedbprint = False\n",
    "    \n",
    "    # make sure the last line which is \"\" is removed from lst\n",
    "    lst = inspect.getsource(src).split('\\n')\n",
    "    if not bool(lst[-1]): lst = lst[:-1]\n",
    "    \n",
    "    # express and insert the dbcode after the srcline under investigation\n",
    "    for idx, l in zip(range(len(lst)), lst):\n",
    "        if bool(l.strip()) and l.strip() in srclines:\n",
    "            \n",
    "            # get current l's indentation is enough here, as dbcode is above l\n",
    "            numindent = len(l) - len(l.strip())\n",
    "            # attach dbcode above the l under investigation\n",
    "            dbcodes = \"dbprintinsert(\"\n",
    "            count = 1\n",
    "            for c in codes:\n",
    "                if count == len(codes) and \"=\" in c:\n",
    "                    dbcodes = dbcodes + c + \")\"\n",
    "                elif count == len(codes) and \"=\" not in c:\n",
    "                    dbcodes = dbcodes + '\"' + c + '\"' + \")\"\n",
    "                elif count != len(codes) and \"=\" in c:\n",
    "                    dbcodes = dbcodes + c + \",\"\n",
    "                elif count != len(codes) and \"=\" not in c:\n",
    "                    dbcodes = dbcodes + '\"' + c + '\"' + \",\"\n",
    "                count = count + 1\n",
    "\n",
    "            # make sure dbprint only written once for multi-srclines under investigation\n",
    "            if onedbprint == False:\n",
    "                dbsrc = dbsrc + \" \"*numindent + dbcodes + '\\n'\n",
    "                dbsrc = dbsrc + l + '\\n' # don't forget to add the srcline below dbprint\n",
    "                onedbprint = True\n",
    "            else:\n",
    "                dbsrc = dbsrc + l + '\\n'\n",
    "        \n",
    "        elif bool(l.strip()) and idx + 1 == len(lst): # handle the last line of srcode\n",
    "            dbsrc = dbsrc + l\n",
    "            \n",
    "        elif bool(l.strip()): # make sure pure indentation + \\n is ignored\n",
    "            dbsrc = dbsrc + l + '\\n'\n",
    "                \n",
    "\n",
    "    exec(dbsrc, globals().update(env)) # make sure b can access lst from above\n",
    "    \n",
    "    # check to see whether the new srcode is created\n",
    "    # print(f'locals()[\"src\"]: {locals()[\"src\"]}')\n",
    "    # print(f'locals()[\"{src.__name__}\"]: {locals()[src.__name__]}')\n",
    "    \n",
    "    # this is crucial to bring what inside a func namespace into the outside world\n",
    "    env.update(locals())\n",
    "    \n",
    "    return locals()[defaults.orisrc.__name__]\n",
    "    "
   ]
  },
  {
   "cell_type": "markdown",
   "metadata": {},
   "source": [
    "see a [complex example](./examples/dbprint.ipynb) on dbprint"
   ]
  },
  {
   "cell_type": "markdown",
   "metadata": {},
   "source": [
    "### Adding g = locals() to dbprintinsert to avoid adding env individually"
   ]
  },
  {
   "cell_type": "code",
   "execution_count": null,
   "metadata": {},
   "outputs": [],
   "source": [
    "#| export\n",
    "def dbprint(src, # the src func name, e.g., foo\n",
    "            srclines:str, # the srclines under investigation\n",
    "            cmt:str, # comment\n",
    "            *codes, # a list of dbcodes\n",
    "            expand:int=2, # span 2 lines of srcode up and down from the srcline investigated\n",
    "            env = {} # outer env\n",
    "           ):  # a number of stuff needed to run the code, e.g. var1 = var1, func1 = func1\n",
    "    \"Insert dbcodes under srclines under investigation, and create a new dbsrc function to replace the official one\"\n",
    "    \n",
    "    # make sure the original official src is kept safe and used whenever dbprint is used\n",
    "    if defaults.orisrc == None:\n",
    "        defaults.orisrc = src\n",
    "    else: \n",
    "        src = defaults.orisrc\n",
    "    \n",
    "    \n",
    "    # print out src code: the basic version\n",
    "    printsrc(src, srclines, cmt, expand)\n",
    "    \n",
    "    # insert the dbcodes from *code into the original official srcode\n",
    "    dbsrc = \"\"\n",
    "    indent = 4\n",
    "    onedbprint = False\n",
    "    \n",
    "    # make sure the last line which is \"\" is removed from lst\n",
    "    lst = inspect.getsource(src).split('\\n')\n",
    "    if not bool(lst[-1]): lst = lst[:-1]\n",
    "    \n",
    "    # express and insert the dbcode after the srcline under investigation\n",
    "    for idx, l in zip(range(len(lst)), lst):\n",
    "        if bool(l.strip()) and l.strip() in srclines:\n",
    "            \n",
    "            # get current l's indentation is enough here, as dbcode is above l\n",
    "            numindent = len(l) - len(l.strip())\n",
    "            # attach dbcode above the l under investigation\n",
    "            dbcodes = \"dbprintinsert(\"\n",
    "            count = 1\n",
    "            for c in codes:\n",
    "                if count == len(codes) and \"=\" in c:\n",
    "                    dbcodes = dbcodes + c + \")\"\n",
    "                elif count == len(codes) and \"=\" not in c:\n",
    "                    dbcodes = dbcodes + '\"' + c + '\"' + \")\"\n",
    "                elif count != len(codes) and \"=\" in c:\n",
    "                    dbcodes = dbcodes + c + \",\"\n",
    "                elif count != len(codes) and \"=\" not in c:\n",
    "                    dbcodes = dbcodes + '\"' + c + '\"' + \",\"\n",
    "                count = count + 1\n",
    "\n",
    "            # make sure dbprint only written once for multi-srclines under investigation\n",
    "            if onedbprint == False:\n",
    "                dbsrc = dbsrc + \" \"*numindent + \"g = locals()\" + '\\n' # adding this line above dbprint line\n",
    "                dbsrc = dbsrc + \" \"*numindent + dbcodes + '\\n'\n",
    "                dbsrc = dbsrc + l + '\\n' # don't forget to add the srcline below dbprint\n",
    "                onedbprint = True\n",
    "            else:\n",
    "                dbsrc = dbsrc + l + '\\n'\n",
    "        \n",
    "        elif bool(l.strip()) and idx + 1 == len(lst): # handle the last line of srcode\n",
    "            dbsrc = dbsrc + l\n",
    "            \n",
    "        elif bool(l.strip()): # make sure pure indentation + \\n is ignored\n",
    "            dbsrc = dbsrc + l + '\\n'\n",
    "    \n",
    "    # print out the new srcode\n",
    "    # for l in dbsrc.split('\\n'):\n",
    "    #     print(l)\n",
    "\n",
    "    exec(dbsrc, globals().update(env)) # make sure b can access lst from above\n",
    "    \n",
    "    # check to see whether the new srcode is created\n",
    "    # print(f'locals()[\"src\"]: {locals()[\"src\"]}')\n",
    "    # print(f'locals()[\"{src.__name__}\"]: {locals()[src.__name__]}')\n",
    "    \n",
    "    # this is crucial to bring what inside a func namespace into the outside world\n",
    "    env.update(locals())\n",
    "    \n",
    "    return locals()[defaults.orisrc.__name__]\n",
    "    "
   ]
  },
  {
   "cell_type": "markdown",
   "metadata": {},
   "source": [
    "## dbprintinsert"
   ]
  },
  {
   "cell_type": "markdown",
   "metadata": {},
   "source": [
    "### Run and display the inserted dbcodes \n",
    "for each srcline under investigation, used inside dbprint"
   ]
  },
  {
   "cell_type": "code",
   "execution_count": null,
   "metadata": {},
   "outputs": [],
   "source": [
    "\n",
    "def dbprintinsert(*codes, **env): \n",
    "    for c in codes:\n",
    "    # print(f\"{c} => {c} : {eval(c, globals().update(env))}\") \n",
    "        output = f\"{c} => {c} : {eval(c, globals().update(env))}\"\n",
    "        print('{:>157}'.format(output))   \n",
    "        "
   ]
  },
  {
   "cell_type": "code",
   "execution_count": null,
   "metadata": {},
   "outputs": [],
   "source": [
    "def foo(a):\n",
    "    a = a*2\n",
    "    b = a + 1\n",
    "    c = a * b\n",
    "    return c"
   ]
  },
  {
   "cell_type": "code",
   "execution_count": null,
   "metadata": {},
   "outputs": [
    {
     "data": {
      "text/plain": [
       "False"
      ]
     },
     "execution_count": null,
     "metadata": {},
     "output_type": "execute_result"
    }
   ],
   "source": [
    "bool(\"   \".strip())"
   ]
  },
  {
   "cell_type": "code",
   "execution_count": null,
   "metadata": {},
   "outputs": [
    {
     "name": "stdout",
     "output_type": "stream",
     "text": [
      "def foo(a):                                                                                                                                                  \n",
      "    a = a*2                                                                                                                                                  \n",
      "    b = a + 1================================================================================================================================================\n",
      "                                                                                                                                                      \u001b[91mcomment\u001b[0m\n",
      "    c = a * b                                                                                                                                                \n",
      "    return c                                                                                                                                                 \n"
     ]
    },
    {
     "data": {
      "text/plain": [
       "<function __main__.foo(a)>"
      ]
     },
     "execution_count": null,
     "metadata": {},
     "output_type": "execute_result"
    }
   ],
   "source": [
    "dbprint(foo, \"b = a + 1\", \"comment\", \"a\", \"a + 1\", \"a=a\")"
   ]
  },
  {
   "cell_type": "code",
   "execution_count": null,
   "metadata": {},
   "outputs": [
    {
     "data": {
      "text/plain": [
       "42"
      ]
     },
     "execution_count": null,
     "metadata": {},
     "output_type": "execute_result"
    }
   ],
   "source": [
    "foo(3) # "
   ]
  },
  {
   "cell_type": "code",
   "execution_count": null,
   "metadata": {},
   "outputs": [
    {
     "name": "stdout",
     "output_type": "stream",
     "text": [
      "def foo(a):                                                                                                                                                  \n",
      "    a = a*2                                                                                                                                                  \n",
      "    b = a + 1                                                                                                                                                \n",
      "    c = a * b================================================================================================================================================\n",
      "                                                                                                                                                      \u001b[91mcomment\u001b[0m\n",
      "    return c                                                                                                                                                 \n",
      "                                                                                                                                                             \n"
     ]
    },
    {
     "data": {
      "text/plain": [
       "<function __main__.foo(a)>"
      ]
     },
     "execution_count": null,
     "metadata": {},
     "output_type": "execute_result"
    }
   ],
   "source": [
    "dbprint(foo, \"c = a * b\", \"comment\", \"b\", \"b * a\", \"a=a\", \"b=b\", expand=3)"
   ]
  },
  {
   "cell_type": "code",
   "execution_count": null,
   "metadata": {},
   "outputs": [
    {
     "name": "stdout",
     "output_type": "stream",
     "text": [
      "                                                                                                                                                   a => a : 6\n",
      "                                                                                                                                           a + 1 => a + 1 : 7\n"
     ]
    },
    {
     "data": {
      "text/plain": [
       "42"
      ]
     },
     "execution_count": null,
     "metadata": {},
     "output_type": "execute_result"
    }
   ],
   "source": [
    "foo(3)"
   ]
  },
  {
   "cell_type": "code",
   "execution_count": null,
   "metadata": {},
   "outputs": [
    {
     "name": "stdout",
     "output_type": "stream",
     "text": [
      "def foo(a):                                                                                                                                                  \n",
      "    a = a*2                                                                                                                                                  \n",
      "    b = a + 1================================================================================================================================================\n",
      "    c = a * b================================================================================================================================================\n",
      "                                                                                                                                                      \u001b[91mcomment\u001b[0m\n",
      "                                                                                                                                                             \n",
      "                                                                                                                                                   b => b : 7\n",
      "                                                                                                                                          b * a => b * a : 42\n"
     ]
    },
    {
     "data": {
      "text/plain": [
       "42"
      ]
     },
     "execution_count": null,
     "metadata": {},
     "output_type": "execute_result"
    }
   ],
   "source": [
    "dbprint(foo, \"b = a + 1\\nc = a * b\", \"comment\", \"a\", \"b\", \"b * a\", \"a=a\", expand=3)\n",
    "\n",
    "foo(3)"
   ]
  },
  {
   "cell_type": "code",
   "execution_count": null,
   "metadata": {},
   "outputs": [
    {
     "name": "stdout",
     "output_type": "stream",
     "text": [
      "def foo(a):                                                                                                                                                  \n",
      "    a = a*2                                                                                                                                                  \n",
      "    b = a + 1================================================================================================================================================\n",
      "                                                                                                                                                      \u001b[91mcomment\u001b[0m\n",
      "    c = a * b                                                                                                                                                \n",
      "    return c                                                                                                                                                 \n",
      "                                                                                                                                                   a => a : 6\n",
      "                                                                                                                                           a + 1 => a + 1 : 7\n"
     ]
    },
    {
     "data": {
      "text/plain": [
       "42"
      ]
     },
     "execution_count": null,
     "metadata": {},
     "output_type": "execute_result"
    }
   ],
   "source": [
    "foo1 = dbprint(foo, \"b = a + 1\", \"comment\", \"a\", \"a + 1\", \"a=a\")\n",
    "foo1(3)"
   ]
  },
  {
   "cell_type": "markdown",
   "metadata": {},
   "source": [
    "### use locals() inside the dbsrc code to avoid adding env individually"
   ]
  },
  {
   "cell_type": "code",
   "execution_count": null,
   "metadata": {},
   "outputs": [],
   "source": [
    "#| export\n",
    "def dbprintinsert(*codes, env={}): \n",
    "    for c in codes:\n",
    "    # print(f\"{c} => {c} : {eval(c, globals().update(env))}\") \n",
    "        output = f\"{c} => {c} : {eval(c, globals().update(env))}\"\n",
    "        print('{:>157}'.format(output))   \n",
    "        "
   ]
  },
  {
   "cell_type": "code",
   "execution_count": null,
   "metadata": {},
   "outputs": [
    {
     "name": "stdout",
     "output_type": "stream",
     "text": [
      "def foo(a):                                                                                                                                                  \n",
      "    a = a*2                                                                                                                                                  \n",
      "    b = a + 1================================================================================================================================================\n",
      "                                                                                                                                                      \u001b[91mcomment\u001b[0m\n",
      "    c = a * b                                                                                                                                                \n",
      "    return c                                                                                                                                                 \n",
      "                                                                                                                                                   a => a : 6\n",
      "                                                                                                                                           a + 1 => a + 1 : 7\n"
     ]
    },
    {
     "data": {
      "text/plain": [
       "42"
      ]
     },
     "execution_count": null,
     "metadata": {},
     "output_type": "execute_result"
    }
   ],
   "source": [
    "foo1 = dbprint(foo, \"b = a + 1\", \"comment\", \"a\", \"a + 1\", \"env=g\")\n",
    "foo1(3)"
   ]
  },
  {
   "cell_type": "code",
   "execution_count": null,
   "metadata": {},
   "outputs": [
    {
     "data": {
      "text/plain": [
       "['def delegates(to:FunctionType=None, # Delegatee',\n",
       " '              keep=False, # Keep `kwargs` in decorated function?',\n",
       " '              but:list=None): # Exclude these parameters from signature',\n",
       " '    \"Decorator: replace `**kwargs` in signature with params from `to`\"',\n",
       " '    if but is None: but = []',\n",
       " '    def _f(f):',\n",
       " '        if to is None: to_f,from_f = f.__base__.__init__,f.__init__',\n",
       " '        else:          to_f,from_f = to.__init__ if isinstance(to,type) else to,f',\n",
       " \"        from_f = getattr(from_f,'__func__',from_f)\",\n",
       " \"        to_f = getattr(to_f,'__func__',to_f)\",\n",
       " \"        if hasattr(from_f,'__delwrap__'): return f\",\n",
       " '        sig = inspect.signature(from_f)',\n",
       " '        sigd = dict(sig.parameters)',\n",
       " \"        k = sigd.pop('kwargs')\",\n",
       " '        s2 = {k:v.replace(kind=inspect.Parameter.KEYWORD_ONLY) for k,v in inspect.signature(to_f).parameters.items()',\n",
       " '              if v.default != inspect.Parameter.empty and k not in sigd and k not in but}',\n",
       " '        anno = {k:v for k,v in to_f.__annotations__.items() if k not in sigd and k not in but}',\n",
       " '        sigd.update(s2)',\n",
       " \"        if keep: sigd['kwargs'] = k\",\n",
       " '        else: from_f.__delwrap__ = to_f',\n",
       " '        from_f.__signature__ = sig.replace(parameters=sigd.values())',\n",
       " \"        if hasattr(from_f, '__annotations__'): from_f.__annotations__.update(anno)\",\n",
       " '        return f',\n",
       " '    return _f']"
      ]
     },
     "execution_count": null,
     "metadata": {},
     "output_type": "execute_result"
    }
   ],
   "source": [
    "from fastcore.meta import delegates\n",
    "ls = inspect.getsource(delegates).split('\\n')\n",
    "ls = ls[:-1]\n",
    "ls"
   ]
  },
  {
   "cell_type": "markdown",
   "metadata": {},
   "source": [
    "## printrunsrclines() \n",
    "\n",
    "It can print out only srclines which actually ran"
   ]
  },
  {
   "cell_type": "markdown",
   "metadata": {},
   "source": [
    "### Examples"
   ]
  },
  {
   "cell_type": "markdown",
   "metadata": {},
   "source": [
    "#### simple example"
   ]
  },
  {
   "cell_type": "code",
   "execution_count": null,
   "metadata": {},
   "outputs": [],
   "source": [
    "# def foo(a):\n",
    "#     if a > 1:\n",
    "#         a = 1 + 1\n",
    "#     else:\n",
    "#         b = a + 1"
   ]
  },
  {
   "cell_type": "markdown",
   "metadata": {},
   "source": [
    "#### complex example"
   ]
  },
  {
   "cell_type": "code",
   "execution_count": null,
   "metadata": {},
   "outputs": [],
   "source": [
    "def foo(a):\n",
    "    \"this is docs\"\n",
    "    # this is a pure comment\n",
    "    if a > 1:\n",
    "        for i in range(3):\n",
    "            a = i + 1\n",
    "    else:\n",
    "        \"this is docs\"\n",
    "        b = a + 1\n",
    "    \"this is docs\"\n",
    "    return a\n",
    "        "
   ]
  },
  {
   "cell_type": "code",
   "execution_count": null,
   "metadata": {},
   "outputs": [
    {
     "data": {
      "text/plain": [
       "3"
      ]
     },
     "execution_count": null,
     "metadata": {},
     "output_type": "execute_result"
    }
   ],
   "source": [
    "foo(3)"
   ]
  },
  {
   "cell_type": "markdown",
   "metadata": {},
   "source": [
    "### insert a line after each srcline to add idx"
   ]
  },
  {
   "cell_type": "code",
   "execution_count": null,
   "metadata": {},
   "outputs": [],
   "source": [
    "srclines = inspect.getsource(foo).split('\\n')\n",
    "dbsrc = \"\"\n",
    "\n",
    "for idx, l in zip(range(len(srclines)), srclines):\n",
    "    # if \"if\" in l or \"else\" in l or \"for\" in l:\n",
    "        \n",
    "    dbsrc = dbsrc + l + f\"\\n    srcidx.append({idx})\\n\" # add srcidx.append(idx) to each line"
   ]
  },
  {
   "cell_type": "code",
   "execution_count": null,
   "metadata": {},
   "outputs": [
    {
     "name": "stdout",
     "output_type": "stream",
     "text": [
      "def foo(a):\n",
      "    srcidx.append(0)\n",
      "    \"this is docs\"\n",
      "    srcidx.append(1)\n",
      "    # this is a pure comment\n",
      "    srcidx.append(2)\n",
      "    if a > 1:\n",
      "    srcidx.append(3)\n",
      "        for i in range(3):\n",
      "    srcidx.append(4)\n",
      "            a = i + 1\n",
      "    srcidx.append(5)\n",
      "    else:\n",
      "    srcidx.append(6)\n",
      "        \"this is docs\"\n",
      "    srcidx.append(7)\n",
      "        b = a + 1\n",
      "    srcidx.append(8)\n",
      "    \"this is docs\"\n",
      "    srcidx.append(9)\n",
      "    return a\n",
      "    srcidx.append(10)\n",
      "\n",
      "    srcidx.append(11)\n",
      "\n"
     ]
    }
   ],
   "source": [
    "for l in dbsrc.split('\\n'):\n",
    "    print(l)"
   ]
  },
  {
   "cell_type": "markdown",
   "metadata": {},
   "source": [
    "### add correct indentation to each inserted line"
   ]
  },
  {
   "cell_type": "markdown",
   "metadata": {},
   "source": [
    "#### count the indentation for each srcline"
   ]
  },
  {
   "cell_type": "code",
   "execution_count": null,
   "metadata": {},
   "outputs": [
    {
     "data": {
      "text/plain": [
       "4"
      ]
     },
     "execution_count": null,
     "metadata": {},
     "output_type": "execute_result"
    }
   ],
   "source": [
    "len(\"    a = 1\") - len(\"    a = 1\".strip())"
   ]
  },
  {
   "cell_type": "code",
   "execution_count": null,
   "metadata": {},
   "outputs": [],
   "source": [
    "srclines = inspect.getsource(foo).split('\\n')\n",
    "dbsrc = \"\"\n",
    "\n",
    "for idx, l in zip(range(len(srclines)), srclines):\n",
    "    numindent = len(l) - len(l.strip())\n",
    "    addline = f\"srcidx.append({idx})\"\n",
    "    dbsrc = dbsrc + l + \"\\n\" + \" \"*numindent + addline + \"\\n\"   # add srcidx.append(idx) to each line"
   ]
  },
  {
   "cell_type": "code",
   "execution_count": null,
   "metadata": {},
   "outputs": [
    {
     "name": "stdout",
     "output_type": "stream",
     "text": [
      "def foo(a):\n",
      "srcidx.append(0)\n",
      "    \"this is docs\"\n",
      "    srcidx.append(1)\n",
      "    # this is a pure comment\n",
      "    srcidx.append(2)\n",
      "    if a > 1:\n",
      "    srcidx.append(3)\n",
      "        for i in range(3):\n",
      "        srcidx.append(4)\n",
      "            a = i + 1\n",
      "            srcidx.append(5)\n",
      "    else:\n",
      "    srcidx.append(6)\n",
      "        \"this is docs\"\n",
      "        srcidx.append(7)\n",
      "        b = a + 1\n",
      "        srcidx.append(8)\n",
      "    \"this is docs\"\n",
      "    srcidx.append(9)\n",
      "    return a\n",
      "    srcidx.append(10)\n",
      "\n",
      "srcidx.append(11)\n",
      "\n"
     ]
    }
   ],
   "source": [
    "for l in dbsrc.split('\\n'):\n",
    "    print(l)"
   ]
  },
  {
   "cell_type": "markdown",
   "metadata": {},
   "source": [
    "### indentation special case: if, else, for, def"
   ]
  },
  {
   "cell_type": "code",
   "execution_count": null,
   "metadata": {},
   "outputs": [],
   "source": [
    "srclines = inspect.getsource(foo).split('\\n')\n",
    "dbsrc = \"\"\n",
    "indent = 4\n",
    "\n",
    "for idx, l in zip(range(len(srclines)), srclines):\n",
    "    numindent = len(l) - len(l.strip())\n",
    "    addline = f\"srcidx.append({idx})\"\n",
    "\n",
    "    if \"if\" in l or \"else\" in l or \"for\" in l or \"def\" in l:\n",
    "        numindent = numindent + indent\n",
    "    \n",
    "    dbsrc = dbsrc + l + \"\\n\" + \" \"*numindent + addline + \"\\n\"  # add srcidx.append(idx) to each line"
   ]
  },
  {
   "cell_type": "code",
   "execution_count": null,
   "metadata": {},
   "outputs": [
    {
     "name": "stdout",
     "output_type": "stream",
     "text": [
      "def foo(a):\n",
      "    srcidx.append(0)\n",
      "    \"this is docs\"\n",
      "    srcidx.append(1)\n",
      "    # this is a pure comment\n",
      "    srcidx.append(2)\n",
      "    if a > 1:\n",
      "        srcidx.append(3)\n",
      "        for i in range(3):\n",
      "            srcidx.append(4)\n",
      "            a = i + 1\n",
      "            srcidx.append(5)\n",
      "    else:\n",
      "        srcidx.append(6)\n",
      "        \"this is docs\"\n",
      "        srcidx.append(7)\n",
      "        b = a + 1\n",
      "        srcidx.append(8)\n",
      "    \"this is docs\"\n",
      "    srcidx.append(9)\n",
      "    return a\n",
      "    srcidx.append(10)\n",
      "\n",
      "srcidx.append(11)\n",
      "\n"
     ]
    }
   ],
   "source": [
    "for l in dbsrc.split('\\n'):\n",
    "    print(l)"
   ]
  },
  {
   "cell_type": "markdown",
   "metadata": {},
   "source": [
    "### remove pure comments or docs from dbsrc\n",
    "Do not insert line for pure comment or pure \"\\n\""
   ]
  },
  {
   "cell_type": "code",
   "execution_count": null,
   "metadata": {},
   "outputs": [
    {
     "name": "stdout",
     "output_type": "stream",
     "text": [
      "'def foo(a):'\n",
      "'    \"this is docs\"'\n",
      "'    # this is a pure comment'\n",
      "'    if a > 1:'\n",
      "'        for i in range(3):'\n",
      "'            a = i + 1'\n",
      "'    else:'\n",
      "'        \"this is docs\"'\n",
      "'        b = a + 1'\n",
      "'    \"this is docs\"'\n",
      "'    return a'\n",
      "''\n"
     ]
    }
   ],
   "source": [
    "from pprint import pprint\n",
    "for l in srclines:\n",
    "    pprint(l)"
   ]
  },
  {
   "cell_type": "code",
   "execution_count": null,
   "metadata": {},
   "outputs": [
    {
     "data": {
      "text/plain": [
       "True"
      ]
     },
     "execution_count": null,
     "metadata": {},
     "output_type": "execute_result"
    }
   ],
   "source": [
    "\"# this is a comment\".startswith(\"#\")"
   ]
  },
  {
   "cell_type": "code",
   "execution_count": null,
   "metadata": {},
   "outputs": [
    {
     "data": {
      "text/plain": [
       "False"
      ]
     },
     "execution_count": null,
     "metadata": {},
     "output_type": "execute_result"
    }
   ],
   "source": [
    "\"a = 1 # this is comment\".startswith(\"#\")"
   ]
  },
  {
   "cell_type": "code",
   "execution_count": null,
   "metadata": {},
   "outputs": [],
   "source": [
    "srclines = inspect.getsource(foo).split('\\n')\n",
    "dbsrc = \"\"\n",
    "indent = 4\n",
    "\n",
    "for idx, l in zip(range(len(srclines)), srclines):\n",
    "    numindent = len(l) - len(l.strip())\n",
    "    addline = f\"srcidx.append({idx})\"\n",
    "\n",
    "    if \"if\" in l or \"else\" in l or \"for\" in l or \"def\" in l:\n",
    "        numindent = numindent + indent\n",
    "    \n",
    "    if bool(l): # ignore pure '\\n'\n",
    "        dbsrc = dbsrc + l + \"\\n\" + \" \"*numindent + addline + \"\\n\"  # add srcidx.append(idx) to each line"
   ]
  },
  {
   "cell_type": "code",
   "execution_count": null,
   "metadata": {},
   "outputs": [
    {
     "name": "stdout",
     "output_type": "stream",
     "text": [
      "def foo(a):\n",
      "    srcidx.append(0)\n",
      "    \"this is docs\"\n",
      "    srcidx.append(1)\n",
      "    # this is a pure comment\n",
      "    srcidx.append(2)\n",
      "    if a > 1:\n",
      "        srcidx.append(3)\n",
      "        for i in range(3):\n",
      "            srcidx.append(4)\n",
      "            a = i + 1\n",
      "            srcidx.append(5)\n",
      "    else:\n",
      "        srcidx.append(6)\n",
      "        \"this is docs\"\n",
      "        srcidx.append(7)\n",
      "        b = a + 1\n",
      "        srcidx.append(8)\n",
      "    \"this is docs\"\n",
      "    srcidx.append(9)\n",
      "    return a\n",
      "    srcidx.append(10)\n",
      "\n"
     ]
    }
   ],
   "source": [
    "for l in dbsrc.split('\\n'):\n",
    "    print(l)"
   ]
  },
  {
   "cell_type": "code",
   "execution_count": null,
   "metadata": {},
   "outputs": [],
   "source": [
    "srclines = inspect.getsource(foo).split('\\n')\n",
    "dbsrc = \"\"\n",
    "indent = 4\n",
    "\n",
    "for idx, l in zip(range(len(srclines)), srclines):\n",
    "    numindent = len(l) - len(l.strip())\n",
    "    addline = f\"srcidx.append({idx})\"\n",
    "\n",
    "    if \"if\" in l or \"else\" in l or \"for\" in l or \"def\" in l:\n",
    "        numindent = numindent + indent\n",
    "    \n",
    "    if bool(l) and not l.strip().startswith('#') and not (l.strip().startswith('\"') and l.strip().endswith('\"')): # ignore/remove pure quotations or docs\n",
    "        dbsrc = dbsrc + l + \"\\n\" + \" \"*numindent + addline + \"\\n\"  # add srcidx.append(idx) to each line"
   ]
  },
  {
   "cell_type": "code",
   "execution_count": null,
   "metadata": {},
   "outputs": [
    {
     "name": "stdout",
     "output_type": "stream",
     "text": [
      "def foo(a):\n",
      "    srcidx.append(0)\n",
      "    if a > 1:\n",
      "        srcidx.append(3)\n",
      "        for i in range(3):\n",
      "            srcidx.append(4)\n",
      "            a = i + 1\n",
      "            srcidx.append(5)\n",
      "    else:\n",
      "        srcidx.append(6)\n",
      "        b = a + 1\n",
      "        srcidx.append(8)\n",
      "    return a\n",
      "    srcidx.append(10)\n",
      "\n"
     ]
    }
   ],
   "source": [
    "for l in dbsrc.split('\\n'): # now the dbsrc has no pure comment and pure docs\n",
    "    print(l)"
   ]
  },
  {
   "cell_type": "code",
   "execution_count": null,
   "metadata": {},
   "outputs": [
    {
     "data": {
      "text/plain": [
       "\u001b[0;31mSignature:\u001b[0m \u001b[0mfoo\u001b[0m\u001b[0;34m(\u001b[0m\u001b[0ma\u001b[0m\u001b[0;34m)\u001b[0m\u001b[0;34m\u001b[0m\u001b[0;34m\u001b[0m\u001b[0m\n",
       "\u001b[0;31mSource:\u001b[0m   \n",
       "\u001b[0;32mdef\u001b[0m \u001b[0mfoo\u001b[0m\u001b[0;34m(\u001b[0m\u001b[0ma\u001b[0m\u001b[0;34m)\u001b[0m\u001b[0;34m:\u001b[0m\u001b[0;34m\u001b[0m\n",
       "\u001b[0;34m\u001b[0m    \u001b[0;34m\"this is docs\"\u001b[0m\u001b[0;34m\u001b[0m\n",
       "\u001b[0;34m\u001b[0m    \u001b[0;31m# this is a pure comment\u001b[0m\u001b[0;34m\u001b[0m\n",
       "\u001b[0;34m\u001b[0m    \u001b[0;32mif\u001b[0m \u001b[0ma\u001b[0m \u001b[0;34m>\u001b[0m \u001b[0;36m1\u001b[0m\u001b[0;34m:\u001b[0m\u001b[0;34m\u001b[0m\n",
       "\u001b[0;34m\u001b[0m        \u001b[0;32mfor\u001b[0m \u001b[0mi\u001b[0m \u001b[0;32min\u001b[0m \u001b[0mrange\u001b[0m\u001b[0;34m(\u001b[0m\u001b[0;36m3\u001b[0m\u001b[0;34m)\u001b[0m\u001b[0;34m:\u001b[0m\u001b[0;34m\u001b[0m\n",
       "\u001b[0;34m\u001b[0m            \u001b[0ma\u001b[0m \u001b[0;34m=\u001b[0m \u001b[0mi\u001b[0m \u001b[0;34m+\u001b[0m \u001b[0;36m1\u001b[0m\u001b[0;34m\u001b[0m\n",
       "\u001b[0;34m\u001b[0m    \u001b[0;32melse\u001b[0m\u001b[0;34m:\u001b[0m\u001b[0;34m\u001b[0m\n",
       "\u001b[0;34m\u001b[0m        \u001b[0;34m\"this is docs\"\u001b[0m\u001b[0;34m\u001b[0m\n",
       "\u001b[0;34m\u001b[0m        \u001b[0mb\u001b[0m \u001b[0;34m=\u001b[0m \u001b[0ma\u001b[0m \u001b[0;34m+\u001b[0m \u001b[0;36m1\u001b[0m\u001b[0;34m\u001b[0m\n",
       "\u001b[0;34m\u001b[0m    \u001b[0;34m\"this is docs\"\u001b[0m\u001b[0;34m\u001b[0m\n",
       "\u001b[0;34m\u001b[0m    \u001b[0;32mreturn\u001b[0m \u001b[0ma\u001b[0m\u001b[0;34m\u001b[0m\u001b[0;34m\u001b[0m\u001b[0m\n",
       "\u001b[0;31mFile:\u001b[0m      /var/folders/gz/ch3n2mp51m9386sytqf97s6w0000gn/T/ipykernel_56492/3208300118.py\n",
       "\u001b[0;31mType:\u001b[0m      function\n"
      ]
     },
     "metadata": {},
     "output_type": "display_data"
    }
   ],
   "source": [
    "foo??"
   ]
  },
  {
   "cell_type": "code",
   "execution_count": null,
   "metadata": {},
   "outputs": [],
   "source": [
    "exec(dbsrc) # give life to dbsrc"
   ]
  },
  {
   "cell_type": "code",
   "execution_count": null,
   "metadata": {},
   "outputs": [
    {
     "data": {
      "text/plain": [
       "\u001b[0;31mSignature:\u001b[0m \u001b[0mfoo\u001b[0m\u001b[0;34m(\u001b[0m\u001b[0ma\u001b[0m\u001b[0;34m)\u001b[0m\u001b[0;34m\u001b[0m\u001b[0;34m\u001b[0m\u001b[0m\n",
       "\u001b[0;31mDocstring:\u001b[0m <no docstring>\n",
       "\u001b[0;31mFile:\u001b[0m      Dynamically generated function. No source code available.\n",
       "\u001b[0;31mType:\u001b[0m      function\n"
      ]
     },
     "metadata": {},
     "output_type": "display_data"
    }
   ],
   "source": [
    "foo??"
   ]
  },
  {
   "cell_type": "code",
   "execution_count": null,
   "metadata": {},
   "outputs": [],
   "source": [
    "srcidx = [] #used outside the srcode"
   ]
  },
  {
   "cell_type": "code",
   "execution_count": null,
   "metadata": {},
   "outputs": [
    {
     "data": {
      "text/plain": [
       "[0, 3, 4, 5, 4, 5, 4, 5]"
      ]
     },
     "execution_count": null,
     "metadata": {},
     "output_type": "execute_result"
    }
   ],
   "source": [
    "foo(3) # run the example using dbsrc\n",
    "# foo(-1) # run the example using dbsrc\n",
    "srcidx # Now it should have all the idx whose srclines have run"
   ]
  },
  {
   "cell_type": "markdown",
   "metadata": {},
   "source": [
    "### print out the srclines which get run"
   ]
  },
  {
   "cell_type": "code",
   "execution_count": null,
   "metadata": {},
   "outputs": [
    {
     "name": "stdout",
     "output_type": "stream",
     "text": [
      "def foo(a):\n",
      "    if a > 1:\n",
      "        for i in range(3):\n",
      "            a = i + 1\n"
     ]
    }
   ],
   "source": [
    "for idx, l in zip(range(len(srclines)), srclines):\n",
    "    if idx in srcidx:\n",
    "        print(l)"
   ]
  },
  {
   "cell_type": "markdown",
   "metadata": {},
   "source": [
    "### Make sure all if, else, for get printed"
   ]
  },
  {
   "cell_type": "code",
   "execution_count": null,
   "metadata": {},
   "outputs": [
    {
     "name": "stdout",
     "output_type": "stream",
     "text": [
      "def foo(a):\n",
      "    if a > 1:\n",
      "        for i in range(3):\n",
      "            a = i + 1\n",
      "    else:\n"
     ]
    }
   ],
   "source": [
    "for idx, l in zip(range(len(srclines)), srclines):\n",
    "    if idx in srcidx or \"for\" in l or \"if\" in l or \"else\" in l:\n",
    "        print(l)"
   ]
  },
  {
   "cell_type": "markdown",
   "metadata": {},
   "source": [
    "### Put all together into the function printrunsrclines()"
   ]
  },
  {
   "cell_type": "code",
   "execution_count": null,
   "metadata": {},
   "outputs": [],
   "source": [
    "def foo(a):\n",
    "    \"this is docs\"\n",
    "    # this is a pure comment\n",
    "    if a > 1:\n",
    "        for i in range(3):\n",
    "            a = i + 1\n",
    "    else:\n",
    "        \"this is docs\"\n",
    "        b = a + 1\n",
    "    \"this is docs\"\n",
    "    return a\n",
    "        "
   ]
  },
  {
   "cell_type": "code",
   "execution_count": null,
   "metadata": {},
   "outputs": [],
   "source": [
    "def printrunsrclines(func):\n",
    "    srclines = inspect.getsource(func).split('\\n')\n",
    "    dbsrc = \"\"\n",
    "    indent = 4\n",
    "\n",
    "    for idx, l in zip(range(len(srclines)), srclines):\n",
    "        numindent = len(l) - len(l.strip())\n",
    "        addline = f\"srcidx.append({idx})\"\n",
    "\n",
    "        if \"if\" in l or \"else\" in l or \"for\" in l or \"def\" in l:\n",
    "            numindent = numindent + indent\n",
    "\n",
    "        if bool(l) and not l.strip().startswith('#') and not (l.strip().startswith('\"') and l.strip().endswith('\"')): # ignore/remove pure quotations or docs\n",
    "            dbsrc = dbsrc + l + \"\\n\" + \" \"*numindent + addline + \"\\n\"  # add srcidx.append(idx) to each line\n",
    "    \n",
    "    srcidx = [] \n",
    "    exec(dbsrc, globals().update(locals()))\n",
    "    fool = locals()['foo']\n",
    "    pprint(fool(3))\n",
    "    pprint(locals())\n",
    "\n",
    "     \n",
    "    # run = \"foo(3)\"\n",
    "    exec(\"fool(3)\")\n",
    "    print(srcidx)\n",
    "\n",
    "    for idx, l in zip(range(len(srclines)), srclines):\n",
    "        if idx in srcidx or \"for\" in l or \"if\" in l or \"else\" in l:\n",
    "            print(l)"
   ]
  },
  {
   "cell_type": "code",
   "execution_count": null,
   "metadata": {},
   "outputs": [
    {
     "name": "stdout",
     "output_type": "stream",
     "text": [
      "3\n",
      "{'addline': 'srcidx.append(11)',\n",
      " 'dbsrc': 'def foo(a):\\n'\n",
      "          '    srcidx.append(0)\\n'\n",
      "          '    if a > 1:\\n'\n",
      "          '        srcidx.append(3)\\n'\n",
      "          '        for i in range(3):\\n'\n",
      "          '            srcidx.append(4)\\n'\n",
      "          '            a = i + 1\\n'\n",
      "          '            srcidx.append(5)\\n'\n",
      "          '    else:\\n'\n",
      "          '        srcidx.append(6)\\n'\n",
      "          '        b = a + 1\\n'\n",
      "          '        srcidx.append(8)\\n'\n",
      "          '    return a\\n'\n",
      "          '    srcidx.append(10)\\n',\n",
      " 'foo': <function foo>,\n",
      " 'fool': <function foo>,\n",
      " 'func': <function foo>,\n",
      " 'idx': 11,\n",
      " 'indent': 4,\n",
      " 'l': '',\n",
      " 'numindent': 0,\n",
      " 'srcidx': [0, 3, 4, 5, 4, 5, 4, 5],\n",
      " 'srclines': ['def foo(a):',\n",
      "              '    \"this is docs\"',\n",
      "              '    # this is a pure comment',\n",
      "              '    if a > 1:',\n",
      "              '        for i in range(3):',\n",
      "              '            a = i + 1',\n",
      "              '    else:',\n",
      "              '        \"this is docs\"',\n",
      "              '        b = a + 1',\n",
      "              '    \"this is docs\"',\n",
      "              '    return a',\n",
      "              '']}\n",
      "[0, 3, 4, 5, 4, 5, 4, 5, 0, 3, 4, 5, 4, 5, 4, 5]\n",
      "def foo(a):\n",
      "    if a > 1:\n",
      "        for i in range(3):\n",
      "            a = i + 1\n",
      "    else:\n"
     ]
    }
   ],
   "source": [
    "printrunsrclines(foo)"
   ]
  },
  {
   "cell_type": "markdown",
   "metadata": {},
   "source": [
    "#### no more renaming of foo"
   ]
  },
  {
   "cell_type": "code",
   "execution_count": null,
   "metadata": {},
   "outputs": [],
   "source": [
    "def printrunsrclines(func):\n",
    "    srclines = inspect.getsource(func).split('\\n')\n",
    "    dbsrc = \"\"\n",
    "    indent = 4\n",
    "\n",
    "    for idx, l in zip(range(len(srclines)), srclines):\n",
    "        numindent = len(l) - len(l.strip())\n",
    "        addline = f\"srcidx.append({idx})\"\n",
    "\n",
    "        if \"if\" in l or \"else\" in l or \"for\" in l or \"def\" in l:\n",
    "            numindent = numindent + indent\n",
    "\n",
    "        if bool(l) and not l.strip().startswith('#') and not (l.strip().startswith('\"') and l.strip().endswith('\"')): # ignore/remove pure quotations or docs\n",
    "            dbsrc = dbsrc + l + \"\\n\" + \" \"*numindent + addline + \"\\n\"  # add srcidx.append(idx) to each line\n",
    "    \n",
    "    srcidx = [] \n",
    "    exec(dbsrc, globals().update(locals()))    \n",
    "    exec(\"foo(3)\") # now we can use foo as the new foo \n",
    "    print(srcidx)\n",
    "\n",
    "    for idx, l in zip(range(len(srclines)), srclines):\n",
    "        if idx in srcidx or \"for\" in l or \"if\" in l or \"else\" in l:\n",
    "            print(l)"
   ]
  },
  {
   "cell_type": "code",
   "execution_count": null,
   "metadata": {},
   "outputs": [],
   "source": [
    "def foo(a):\n",
    "\n",
    "    if a > 1:\n",
    "        for i in range(3):\n",
    "            a = i + 1\n",
    "    else:\n",
    "        b = a + 1\n",
    "    return a"
   ]
  },
  {
   "cell_type": "code",
   "execution_count": null,
   "metadata": {},
   "outputs": [
    {
     "name": "stdout",
     "output_type": "stream",
     "text": [
      "[0, 2, 3, 4, 3, 4, 3, 4]\n",
      "def foo(a):\n",
      "    if a > 1:\n",
      "        for i in range(3):\n",
      "            a = i + 1\n",
      "    else:\n"
     ]
    }
   ],
   "source": [
    "printrunsrclines(foo)"
   ]
  },
  {
   "cell_type": "code",
   "execution_count": null,
   "metadata": {},
   "outputs": [],
   "source": []
  },
  {
   "cell_type": "markdown",
   "metadata": {},
   "source": [
    "#### add example as a param into the function"
   ]
  },
  {
   "cell_type": "code",
   "execution_count": null,
   "metadata": {},
   "outputs": [],
   "source": [
    "#| export\n",
    "def printrunsrclines(func, example):\n",
    "    srclines = inspect.getsource(func).split('\\n')\n",
    "    dbsrc = \"\"\n",
    "    indent = 4\n",
    "\n",
    "    for idx, l in zip(range(len(srclines)), srclines):\n",
    "        numindent = len(l) - len(l.strip())\n",
    "        addline = f\"srcidx.append({idx})\"\n",
    "\n",
    "        if \"if\" in l or \"else\" in l or \"for\" in l or \"def\" in l:\n",
    "            numindent = numindent + indent\n",
    "\n",
    "        if bool(l) and not l.strip().startswith('#') and not (l.strip().startswith('\"') and l.strip().endswith('\"')): # ignore/remove pure quotations or docs\n",
    "            dbsrc = dbsrc + l + \"\\n\" + \" \"*numindent + addline + \"\\n\"  # add srcidx.append(idx) to each line\n",
    "\n",
    "    pprint(dbsrc)\n",
    "    srcidx = [] \n",
    "    exec(dbsrc, globals().update(locals()))    \n",
    "    exec(example) # now we can use foo as the new foo \n",
    "    print(srcidx)\n",
    "\n",
    "    for idx, l in zip(range(len(srclines)), srclines):\n",
    "        if idx in srcidx or \"for\" in l or \"if\" in l or \"else\" in l:\n",
    "            print(l)"
   ]
  },
  {
   "cell_type": "code",
   "execution_count": null,
   "metadata": {},
   "outputs": [
    {
     "name": "stdout",
     "output_type": "stream",
     "text": [
      "('def foo(a):\\n'\n",
      " '    srcidx.append(0)\\n'\n",
      " '    if a > 1:\\n'\n",
      " '        srcidx.append(2)\\n'\n",
      " '        for i in range(3):\\n'\n",
      " '            srcidx.append(3)\\n'\n",
      " '            a = i + 1\\n'\n",
      " '            srcidx.append(4)\\n'\n",
      " '    else:\\n'\n",
      " '        srcidx.append(5)\\n'\n",
      " '        b = a + 1\\n'\n",
      " '        srcidx.append(6)\\n'\n",
      " '    return a\\n'\n",
      " '    srcidx.append(7)\\n')\n",
      "[0, 5, 6]\n",
      "def foo(a):\n",
      "    if a > 1:\n",
      "        for i in range(3):\n",
      "    else:\n",
      "        b = a + 1\n"
     ]
    }
   ],
   "source": [
    "printrunsrclines(foo, \"foo(-1)\")"
   ]
  },
  {
   "cell_type": "code",
   "execution_count": null,
   "metadata": {},
   "outputs": [
    {
     "name": "stdout",
     "output_type": "stream",
     "text": [
      "('def foo(a):\\n'\n",
      " '    srcidx.append(0)\\n'\n",
      " '    if a > 1:\\n'\n",
      " '        srcidx.append(2)\\n'\n",
      " '        for i in range(3):\\n'\n",
      " '            srcidx.append(3)\\n'\n",
      " '            a = i + 1\\n'\n",
      " '            srcidx.append(4)\\n'\n",
      " '    else:\\n'\n",
      " '        srcidx.append(5)\\n'\n",
      " '        b = a + 1\\n'\n",
      " '        srcidx.append(6)\\n'\n",
      " '    return a\\n'\n",
      " '    srcidx.append(7)\\n')\n",
      "[0, 2, 3, 4, 3, 4, 3, 4]\n",
      "def foo(a):\n",
      "    if a > 1:\n",
      "        for i in range(3):\n",
      "            a = i + 1\n",
      "    else:\n"
     ]
    }
   ],
   "source": [
    "printrunsrclines(foo, \"foo(2)\")"
   ]
  },
  {
   "cell_type": "markdown",
   "metadata": {},
   "source": [
    "#### improve on search for `if`, else, for, def to avoid errors for more examples"
   ]
  },
  {
   "cell_type": "code",
   "execution_count": null,
   "metadata": {},
   "outputs": [],
   "source": [
    "\n",
    "def printrunsrclines(func, example):\n",
    "    srclines = inspect.getsource(func).split('\\n')\n",
    "    dbsrc = \"\"\n",
    "    indent = 4\n",
    "\n",
    "    for idx, l in zip(range(len(srclines)), srclines):\n",
    "        numindent = len(l) - len(l.strip())\n",
    "        addline = f\"srcidx.append({idx})\"\n",
    "\n",
    "        if \"if \" in l or \"else:\" in l or \"for \" in l or \"def \" in l:\n",
    "            numindent = numindent + indent\n",
    "\n",
    "        if bool(l) and not l.strip().startswith('#') \\\n",
    "        and not (l.strip().startswith('\"') and l.strip().endswith('\"')): # ignore/remove pure quotations or docs\n",
    "            dbsrc = dbsrc + l + \"\\n\" + \" \"*numindent + addline + \"\\n\"  # add srcidx.append(idx) to each line\n",
    "\n",
    "    pprint(dbsrc)\n",
    "    srcidx = [] \n",
    "    exec(dbsrc, globals().update(locals()))    \n",
    "    exec(example) # now we can use foo as the new foo \n",
    "    print(srcidx)\n",
    "\n",
    "    for idx, l in zip(range(len(srclines)), srclines):\n",
    "        if idx in srcidx or \"for\" in l or \"if\" in l or \"else\" in l:\n",
    "            print(l)"
   ]
  },
  {
   "cell_type": "code",
   "execution_count": null,
   "metadata": {},
   "outputs": [
    {
     "name": "stdout",
     "output_type": "stream",
     "text": [
      "('def alignright(blocks):\\n'\n",
      " '    srcidx.append(0)\\n'\n",
      " \"    lst = blocks.split('\\\\n')\\n\"\n",
      " '    srcidx.append(1)\\n'\n",
      " '    maxlen = max(map(lambda l : len(strip_ansi(l)) , lst ))\\n'\n",
      " '    srcidx.append(2)\\n'\n",
      " '    indent = defaults.margin - maxlen\\n'\n",
      " '    srcidx.append(3)\\n'\n",
      " '    for l in lst:\\n'\n",
      " '        srcidx.append(4)\\n'\n",
      " \"        print(' '*indent + format(l))\\n\"\n",
      " '        srcidx.append(5)\\n')\n",
      "                                                                                                                                                   this is me\n",
      "[0, 1, 2, 3, 4, 5]\n",
      "def alignright(blocks):\n",
      "    lst = blocks.split('\\n')\n",
      "    maxlen = max(map(lambda l : len(strip_ansi(l)) , lst ))\n",
      "    indent = defaults.margin - maxlen\n",
      "    for l in lst:\n",
      "        print(' '*indent + format(l))\n"
     ]
    }
   ],
   "source": [
    "printrunsrclines(alignright, 'alignright(\"this is me\")')"
   ]
  },
  {
   "cell_type": "markdown",
   "metadata": {},
   "source": [
    "#### remove an empty line with indentation"
   ]
  },
  {
   "cell_type": "code",
   "execution_count": null,
   "metadata": {},
   "outputs": [
    {
     "name": "stdout",
     "output_type": "stream",
     "text": [
      "['', 'this is code', '     ', 'this is code', '']\n",
      "False\n",
      "True\n",
      "False\n",
      "True\n",
      "False\n"
     ]
    }
   ],
   "source": [
    "lst = \"\"\"\n",
    "this is code\\n\\\n",
    "     \\n\\\n",
    "this is code\n",
    "\"\"\".split('\\n')\n",
    "print(lst)\n",
    "for l in lst:\n",
    "    print(bool(l.strip()))"
   ]
  },
  {
   "cell_type": "code",
   "execution_count": null,
   "metadata": {},
   "outputs": [],
   "source": [
    "\n",
    "def printrunsrclines(func, example):\n",
    "    srclines = inspect.getsource(func).split('\\n')\n",
    "    dbsrc = \"\"\n",
    "    indent = 4\n",
    "\n",
    "    for idx, l in zip(range(len(srclines)), srclines):\n",
    "        numindent = len(l) - len(l.strip()) # how to strip only the left not the right?????\n",
    "        addline = f\"srcidx.append({idx})\"\n",
    "\n",
    "        if \"if \" in l or \"else:\" in l or \"for \" in l or \"def \" in l:\n",
    "            numindent = numindent + indent\n",
    "\n",
    "        if bool(l.strip()) and not l.strip().startswith('#') \\\n",
    "        and not (l.strip().startswith('\"') and l.strip().endswith('\"')): \n",
    "            dbsrc = dbsrc + l + \"\\n\" + \" \"*numindent + addline + \"\\n\"  # add srcidx.append(idx) to each line\n",
    "\n",
    "    pprint(dbsrc)\n",
    "    srcidx = [] \n",
    "    exec(dbsrc, globals().update(locals()))    \n",
    "    exec(example) # now we can use foo as the new foo \n",
    "    print(srcidx)\n",
    "\n",
    "    for idx, l in zip(range(len(srclines)), srclines):\n",
    "        if idx in srcidx or \"for\" in l or \"if\" in l or \"else\" in l:\n",
    "            print(l)"
   ]
  },
  {
   "cell_type": "code",
   "execution_count": null,
   "metadata": {},
   "outputs": [
    {
     "name": "stdout",
     "output_type": "stream",
     "text": [
      "('def alignright(blocks):\\n'\n",
      " '    srcidx.append(0)\\n'\n",
      " \"    lst = blocks.split('\\\\n')\\n\"\n",
      " '    srcidx.append(1)\\n'\n",
      " '    maxlen = max(map(lambda l : len(strip_ansi(l)) , lst ))\\n'\n",
      " '    srcidx.append(2)\\n'\n",
      " '    indent = defaults.margin - maxlen\\n'\n",
      " '    srcidx.append(3)\\n'\n",
      " '    for l in lst:\\n'\n",
      " '        srcidx.append(4)\\n'\n",
      " \"        print(' '*indent + format(l))\\n\"\n",
      " '        srcidx.append(5)\\n')\n",
      "                                                                                                                                                   this is me\n",
      "[0, 1, 2, 3, 4, 5]\n",
      "def alignright(blocks):\n",
      "    lst = blocks.split('\\n')\n",
      "    maxlen = max(map(lambda l : len(strip_ansi(l)) , lst ))\n",
      "    indent = defaults.margin - maxlen\n",
      "    for l in lst:\n",
      "        print(' '*indent + format(l))\n"
     ]
    }
   ],
   "source": [
    "printrunsrclines(alignright, 'alignright(\"this is me\")')"
   ]
  },
  {
   "cell_type": "code",
   "execution_count": null,
   "metadata": {},
   "outputs": [
    {
     "name": "stdout",
     "output_type": "stream",
     "text": [
      "('def printsrc(src, srclines, cmt, expand:int=2):\\n'\n",
      " '\\n'\n",
      " '    # convert the source code of the function into a list of strings '\n",
      " \"splitted by '\\\\n'\\n\"\n",
      " \"    lst = inspect.getsource(src).split('\\\\n')\\n\"\n",
      " '    \\n'\n",
      " '    # find out the idx of start srclines and end srclines\\n'\n",
      " '    startidx = 0\\n'\n",
      " '    numsrclines = list(map(lambda x: bool(x.strip()), '\n",
      " \"srclines.split('\\\\n'))).count(True)\\n\"\n",
      " '    for idx, l in zip(range(len(lst)), lst):\\n'\n",
      " '        if bool(l) and l.strip() in srclines:\\n'\n",
      " '            startidx = idx\\n'\n",
      " '    endidx = startidx + numsrclines - 1\\n'\n",
      " '    \\n'\n",
      " '    ccount = 0\\n'\n",
      " '    for idx, l in zip(range(len(lst)), lst):\\n'\n",
      " '        if bool(l) and l.strip() in srclines:# print out the srcline under '\n",
      " 'investigation with # as padding\\n'\n",
      " \"            print('{:=<157}'.format(l))\\n\"\n",
      " '            ccount = ccount + 1\\n'\n",
      " '\\n'\n",
      " '            if bool(cmt): # print out comment at the end of the srclines '\n",
      " 'under investigation\\n'\n",
      " '                # numsrclines = len(srclines.split(\"\\\\n\"))\\n'\n",
      " '                if ccount == numsrclines:\\n'\n",
      " '                    colcmt = colorize(cmt, \"r\") # colorize the comment\\n'\n",
      " '                    alignright(colcmt) # put the comment to the most right\\n'\n",
      " '\\n'\n",
      " '        elif idx < startidx and idx >= startidx - expand:\\n'\n",
      " \"            print('{:<157}'.format(l)) # print out the rest of source code \"\n",
      " 'to the most left\\n'\n",
      " '\\n'\n",
      " '        elif idx <= endidx + expand and idx > endidx:\\n'\n",
      " \"            print('{:<157}'.format(l)) # print out the rest of source code \"\n",
      " 'to the most left\\n')\n"
     ]
    }
   ],
   "source": [
    "pprint(inspect.getsource(printsrc))"
   ]
  },
  {
   "cell_type": "code",
   "execution_count": null,
   "metadata": {},
   "outputs": [],
   "source": [
    "#| export\n",
    "def printrunsrclines(func, example):\n",
    "    srclines = inspect.getsource(func).split('\\n')\n",
    "    dbsrc = \"\"\n",
    "    indent = 4\n",
    "\n",
    "    for idx, l in zip(range(len(srclines)), srclines):\n",
    "        numindent = len(l) - len(l.strip()) # how to strip only the left not the right?????\n",
    "        addline = f\"srcidx.append({idx})\"\n",
    "\n",
    "        if \"if \" in l or \"else:\" in l or \"for \" in l or \"def \" in l:\n",
    "            numindent = numindent + indent\n",
    "\n",
    "        if bool(l.strip()) and not l.strip().startswith('#') \\\n",
    "        and not (l.strip().startswith('\"') and l.strip().endswith('\"')): \n",
    "            dbsrc = dbsrc + l + \"\\n\" + \" \"*numindent + addline + \"\\n\"  # add srcidx.append(idx) to each line\n",
    "\n",
    "    # pprint(dbsrc)\n",
    "    srcidx = [] \n",
    "    exec(dbsrc, globals().update(locals()))    \n",
    "    exec(example) # now we can use foo as the new foo \n",
    "    # print(srcidx)\n",
    "\n",
    "    # pprint(srclines)\n",
    "    for idx, l in zip(range(len(srclines)), srclines):\n",
    "        if idx in srcidx or \"for\" in l or \"if\" in l or \"else\" in l:\n",
    "            print(l)"
   ]
  },
  {
   "cell_type": "code",
   "execution_count": null,
   "metadata": {},
   "outputs": [
    {
     "name": "stdout",
     "output_type": "stream",
     "text": [
      "            a = i + 1                                                                                                                                        \n",
      "    else:====================================================================================================================================================\n",
      "        b = a + 1============================================================================================================================================\n",
      "                                                                                                                                              \u001b[91mthis is comment\u001b[0m\n",
      "                                                                                                                                                             \n",
      "def printsrc(src, srclines, cmt, expand:int=2):\n",
      "    lst = inspect.getsource(src).split('\\n')\n",
      "    startidx = 0\n",
      "    numsrclines = list(map(lambda x: bool(x.strip()), srclines.split('\\n'))).count(True)\n",
      "    for idx, l in zip(range(len(lst)), lst):\n",
      "        if bool(l) and l.strip() in srclines:\n",
      "            startidx = idx\n",
      "    endidx = startidx + numsrclines - 1\n",
      "    ccount = 0\n",
      "    for idx, l in zip(range(len(lst)), lst):\n",
      "        if bool(l) and l.strip() in srclines:# print out the srcline under investigation with # as padding\n",
      "            print('{:=<157}'.format(l))\n",
      "            ccount = ccount + 1\n",
      "            if bool(cmt): # print out comment at the end of the srclines under investigation\n",
      "                if ccount == numsrclines:\n",
      "                    colcmt = colorize(cmt, \"r\") # colorize the comment\n",
      "                    alignright(colcmt) # put the comment to the most right\n",
      "        elif idx < startidx and idx >= startidx - expand:\n",
      "            print('{:<157}'.format(l)) # print out the rest of source code to the most left\n",
      "        elif idx <= endidx + expand and idx > endidx:\n",
      "            print('{:<157}'.format(l)) # print out the rest of source code to the most left\n"
     ]
    }
   ],
   "source": [
    "printrunsrclines(printsrc, 'printsrc(foo, \"    else:\\\\n    b = a + 1\", \"this is comment\")') # make sure to use \\\\n not \\n"
   ]
  },
  {
   "cell_type": "code",
   "execution_count": null,
   "metadata": {},
   "outputs": [
    {
     "name": "stdout",
     "output_type": "stream",
     "text": [
      "            a = i + 1                                                                                                                                        \n",
      "    else:====================================================================================================================================================\n",
      "        b = a + 1============================================================================================================================================\n",
      "                                                                                                                                                             \n",
      "def printsrc(src, srclines, cmt, expand:int=2):\n",
      "    lst = inspect.getsource(src).split('\\n')\n",
      "    startidx = 0\n",
      "    numsrclines = list(map(lambda x: bool(x.strip()), srclines.split('\\n'))).count(True)\n",
      "    for idx, l in zip(range(len(lst)), lst):\n",
      "        if bool(l) and l.strip() in srclines:\n",
      "            startidx = idx\n",
      "    endidx = startidx + numsrclines - 1\n",
      "    ccount = 0\n",
      "    for idx, l in zip(range(len(lst)), lst):\n",
      "        if bool(l) and l.strip() in srclines:# print out the srcline under investigation with # as padding\n",
      "            print('{:=<157}'.format(l))\n",
      "            ccount = ccount + 1\n",
      "            if bool(cmt): # print out comment at the end of the srclines under investigation\n",
      "                if ccount == numsrclines:\n",
      "        elif idx < startidx and idx >= startidx - expand:\n",
      "            print('{:<157}'.format(l)) # print out the rest of source code to the most left\n",
      "        elif idx <= endidx + expand and idx > endidx:\n",
      "            print('{:<157}'.format(l)) # print out the rest of source code to the most left\n"
     ]
    }
   ],
   "source": [
    "printrunsrclines(printsrc, 'printsrc(foo, \"    else:\\\\n    b = a + 1\", \"\")') # make sure to use \\\\n not \\n"
   ]
  },
  {
   "cell_type": "markdown",
   "metadata": {},
   "source": [
    "### more difficult examples to test printrunsrc()"
   ]
  },
  {
   "cell_type": "code",
   "execution_count": null,
   "metadata": {},
   "outputs": [],
   "source": []
  },
  {
   "cell_type": "code",
   "execution_count": null,
   "metadata": {},
   "outputs": [],
   "source": []
  },
  {
   "cell_type": "code",
   "execution_count": null,
   "metadata": {},
   "outputs": [],
   "source": []
  },
  {
   "cell_type": "markdown",
   "metadata": {},
   "source": [
    "#|hide\n",
    "## Export"
   ]
  },
  {
   "cell_type": "code",
   "execution_count": null,
   "metadata": {},
   "outputs": [],
   "source": [
    "#| hide\n",
    "from nbdev import nbdev_export\n",
    "nbdev_export()"
   ]
  },
  {
   "cell_type": "markdown",
   "metadata": {},
   "source": [
    "#|hide\n",
    "## Send to Obsidian"
   ]
  },
  {
   "cell_type": "code",
   "execution_count": null,
   "metadata": {},
   "outputs": [
    {
     "name": "stdout",
     "output_type": "stream",
     "text": [
      "[jupytext] Reading /Users/Natsume/Documents/fastdebug/00_core.ipynb in format ipynb\n",
      "[jupytext] Writing /Users/Natsume/Documents/fastdebug/00_core.md\n"
     ]
    }
   ],
   "source": [
    "#| hide\n",
    "!jupytext --to md /Users/Natsume/Documents/fastdebug/00_core.ipynb\n",
    "!mv /Users/Natsume/Documents/fastdebug/00_core.md \\\n",
    "/Users/Natsume/Documents/divefastai/Debuggable/jupytext/"
   ]
  },
  {
   "cell_type": "code",
   "execution_count": null,
   "metadata": {},
   "outputs": [
    {
     "name": "stdout",
     "output_type": "stream",
     "text": [
      "[NbConvertApp] WARNING | pattern '/Users/Natsume/Documents/fastdebug/fastcore/*.ipynb' matched no files\n",
      "[NbConvertApp] WARNING | pattern '/Users/Natsume/Documents/fastdebug/fastcore/meta/*.ipynb' matched no files\n",
      "[NbConvertApp] WARNING | pattern '/Users/Natsume/Documents/fastdebug/fastcore/findings/*.ipynb' matched no files\n",
      "[NbConvertApp] Converting notebook /Users/Natsume/Documents/fastdebug/index.ipynb to markdown\n",
      "[NbConvertApp] Writing 306 bytes to /Users/Natsume/Documents/divefastai/Debuggable/nbconvert/index.md\n",
      "[NbConvertApp] Converting notebook /Users/Natsume/Documents/fastdebug/FooGetSigInit.ipynb to markdown\n",
      "[NbConvertApp] Writing 39294 bytes to /Users/Natsume/Documents/divefastai/Debuggable/nbconvert/FooGetSigInit.md\n",
      "[NbConvertApp] Converting notebook /Users/Natsume/Documents/fastdebug/00_core.ipynb to markdown\n",
      "[NbConvertApp] Writing 76407 bytes to /Users/Natsume/Documents/divefastai/Debuggable/nbconvert/00_core.md\n",
      "[NbConvertApp] Converting notebook /Users/Natsume/Documents/fastdebug/utils.ipynb to markdown\n",
      "[NbConvertApp] Writing 9933 bytes to /Users/Natsume/Documents/divefastai/Debuggable/nbconvert/utils.md\n"
     ]
    }
   ],
   "source": [
    "#| hide\n",
    "!jupyter nbconvert --config /Users/Natsume/Documents/mynbcfg.py --to markdown \\\n",
    "--output-dir /Users/Natsume/Documents/divefastai/Debuggable/nbconvert"
   ]
  }
 ],
 "metadata": {
  "kernelspec": {
   "display_name": "Python 3 (ipykernel)",
   "language": "python",
   "name": "python3"
  }
 },
 "nbformat": 4,
 "nbformat_minor": 4
}
