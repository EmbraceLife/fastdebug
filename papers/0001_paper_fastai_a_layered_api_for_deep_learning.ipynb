{
 "cells": [
  {
   "cell_type": "markdown",
   "id": "540708e5",
   "metadata": {},
   "source": [
    "# 0001_paper_fastai_a_layered_api_for_deep_learning"
   ]
  },
  {
   "cell_type": "markdown",
   "id": "5f648c06",
   "metadata": {},
   "source": [
    "Article\n",
    "## fastai: A Layered API for Deep Learning\n",
    "Jeremy Howard 1,2,† and Sylvain Gugger 1,†\n",
    "1\n",
    "fast.ai; j@fast.ai, s@fast.ai\n",
    "2 University of San Francisco\n",
    "† These authors contributed equally to this work."
   ]
  },
  {
   "cell_type": "markdown",
   "id": "d15c947f",
   "metadata": {},
   "source": [
    "### what is fastai designed for in one sentence"
   ]
  },
  {
   "cell_type": "markdown",
   "id": "47b6ba7a",
   "metadata": {},
   "source": [
    "Abstract: fastai is a deep learning library which provides practitioners with high-level components that\n",
    "can quickly and easily provide state-of-the-art results in standard deep learning domains, and provides\n",
    "researchers with low-level components that can be mixed and matched to build new approaches. "
   ]
  },
  {
   "cell_type": "markdown",
   "id": "5f876b74",
   "metadata": {},
   "source": [
    "### how does fastai achieve its design goal"
   ]
  },
  {
   "cell_type": "markdown",
   "id": "ec7d0ad1",
   "metadata": {},
   "source": [
    "It aims\n",
    "to do both things without substantial compromises in ease of use, flexibility, or performance. This is\n",
    "possible thanks to a carefully layered architecture, which expresses common underlying patterns of many\n",
    "deep learning and data processing techniques in terms of decoupled abstractions. These abstractions can\n",
    "be expressed concisely and clearly by leveraging the dynamism of the underlying Python language and\n",
    "the flexibility of the PyTorch library. "
   ]
  },
  {
   "cell_type": "markdown",
   "id": "96ee9637",
   "metadata": {},
   "source": [
    "fastai includes: a new type dispatch system for Python along with a\n",
    "semantic type hierarchy for tensors; a GPU-optimized computer vision library which can be extended\n",
    "in pure Python; an optimizer which refactors out the common functionality of modern optimizers into\n",
    "two basic pieces, allowing optimization algorithms to be implemented in 4-5 lines of code; a novel\n",
    "2-way callback system that can access any part of the data, model, or optimizer and change it at any\n",
    "point during training; a new data block API; and much more. We have used this library to successfully\n",
    "create a complete deep learning course, which we were able to write more quickly than using previous\n",
    "approaches, and the code was more clear. The library is already in wide use in research, industry, and\n",
    "teaching.\n",
    "Keywords: deep learning; data processing pipelines"
   ]
  },
  {
   "cell_type": "code",
   "execution_count": null,
   "id": "57ca437c",
   "metadata": {},
   "outputs": [],
   "source": []
  }
 ],
 "metadata": {
  "kernelspec": {
   "display_name": "Python 3 (ipykernel)",
   "language": "python",
   "name": "python3"
  }
 },
 "nbformat": 4,
 "nbformat_minor": 5
}
