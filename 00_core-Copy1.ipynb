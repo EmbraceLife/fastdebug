{
 "cells": [
  {
   "cell_type": "markdown",
   "metadata": {},
   "source": [
    "# core\n",
    "\n",
    "> the core functionalities of fastdebug"
   ]
  },
  {
   "cell_type": "code",
   "execution_count": null,
   "id": "438215f1",
   "metadata": {},
   "outputs": [],
   "source": [
    "from IPython.display import display, HTML "
   ]
  },
  {
   "cell_type": "code",
   "execution_count": null,
   "id": "949323b7",
   "metadata": {},
   "outputs": [
    {
     "data": {
      "text/html": [
       "<style>.container { width:100% !important; }</style>"
      ],
      "text/plain": [
       "<IPython.core.display.HTML object>"
      ]
     },
     "metadata": {},
     "output_type": "display_data"
    }
   ],
   "source": [
    "display(HTML(\"<style>.container { width:100% !important; }</style>\"))"
   ]
  },
  {
   "cell_type": "markdown",
   "metadata": {},
   "source": [
    "This notebook records the history of how I built this library from scratch. Well, not exactly from the scratch, because there is a [first version](https://github.com/EmbraceLife/debuggable) of this library where many difficulties have been already handled.\n",
    "\n",
    "If you want to see the latest functions of this module, just `cmd/ctrl + f` to search '#| export' and check them out this way."
   ]
  },
  {
   "cell_type": "code",
   "execution_count": null,
   "metadata": {},
   "outputs": [],
   "source": [
    "#| default_exp core0"
   ]
  },
  {
   "cell_type": "code",
   "execution_count": null,
   "metadata": {},
   "outputs": [],
   "source": [
    "#| hide\n",
    "from nbdev.showdoc import *"
   ]
  },
  {
   "cell_type": "markdown",
   "metadata": {},
   "source": [
    "## make life easier with defaults  "
   ]
  },
  {
   "cell_type": "code",
   "execution_count": null,
   "metadata": {},
   "outputs": [],
   "source": [
    "#| exports\n",
    "defaults = type('defaults', (object,), {'margin': 157, # align to the right by 157\n",
    "                                        'orisrc': None, # keep a copy of original official src code\n",
    "                                        'outenv': globals(), # outside global env\n",
    "                                        'cmts': {} # a dict to store idx and cmt\n",
    "                                        # 'eg': None, # examples\n",
    "                                        # 'src': None, # official src\n",
    "                                       }) "
   ]
  },
  {
   "cell_type": "markdown",
   "metadata": {},
   "source": [
    "### when exec update existing functions"
   ]
  },
  {
   "cell_type": "code",
   "execution_count": null,
   "metadata": {},
   "outputs": [],
   "source": [
    "#| export\n",
    "import inspect\n",
    "from pprint import pprint"
   ]
  },
  {
   "cell_type": "code",
   "execution_count": null,
   "metadata": {},
   "outputs": [
    {
     "name": "stdout",
     "output_type": "stream",
     "text": [
      "\"locals: {'func': <function foo at 0x10f99df70>, 'a': 1, 'b': 'def foo(x, y): return x + y\\\\n', 'newb': 'def foo(x, y): return x + y + 3\\\\n', 'l': ''}\"\n",
      "exec(newb): None\n",
      "(\"locals: {'func': <function foo at 0x10f99df70>, 'a': 1, 'b': 'def foo(x, y): return x + y\\\\n', 'newb': 'def foo(x, y): return x + y + 3\\\\n', 'l': '', \"\n",
      " \"'foo': <function foo at 0x10f9a0ee0>}\")\n",
      "13\n",
      "13\n",
      "10\n",
      "10\n"
     ]
    }
   ],
   "source": [
    "def foo(x, y): return x + y\n",
    "def test(func):\n",
    "    a = 1\n",
    "    b = inspect.getsource(func)\n",
    "    newb = \"\"\n",
    "    for l in b.split('\\n'):\n",
    "        if bool(l):\n",
    "            newb = newb + l\n",
    "    newb = newb + \" + 3\\n\"\n",
    "    pprint(f'locals: {locals()}', width=157) # foo is not available in locals()\n",
    "    print(f'exec(newb): {exec(newb)}') \n",
    "    pprint(f'locals: {locals()}', width=157) # a foo is available in locals(), but which one is it\n",
    "    newfoo = locals()[\"foo\"] # to use it, must assign to a different name\n",
    "    print(newfoo(1,9))\n",
    "    print(locals()[\"foo\"](1,9))\n",
    "    print(func(1,9))\n",
    "    print(foo(1,9))\n",
    "\n",
    "test(foo)    "
   ]
  },
  {
   "cell_type": "markdown",
   "metadata": {},
   "source": [
    "### when the func to be udpated involve other libraries"
   ]
  },
  {
   "cell_type": "code",
   "execution_count": null,
   "metadata": {},
   "outputs": [],
   "source": [
    "import functools"
   ]
  },
  {
   "cell_type": "code",
   "execution_count": null,
   "metadata": {},
   "outputs": [
    {
     "name": "stdout",
     "output_type": "stream",
     "text": [
      "(\"locals: {'func': <function foo at 0x10f99dd30>, 'a': 1, 'b': 'def foo(x, y): \\\\n    print(inspect.signature(foo))\\\\n    return x + y\\\\n', 'newb': 'def \"\n",
      " \"foo(x, y): \\\\n    print(inspect.signature(foo))\\\\n    return x + y + 3\\\\n', 'l': ''}\")\n",
      "exec(newb): None\n",
      "(\"locals: {'func': <function foo at 0x10f99dd30>, 'a': 1, 'b': 'def foo(x, y): \\\\n    print(inspect.signature(foo))\\\\n    return x + y\\\\n', 'newb': 'def \"\n",
      " \"foo(x, y): \\\\n    print(inspect.signature(foo))\\\\n    return x + y + 3\\\\n', 'l': '', 'foo': <function foo at 0x10f9ac040>}\")\n",
      "(x, y)\n",
      "13\n",
      "(x, y)\n",
      "13\n",
      "(x, y)\n",
      "10\n",
      "(x, y)\n",
      "10\n"
     ]
    }
   ],
   "source": [
    "def foo(x, y): \n",
    "    print(inspect.signature(foo))\n",
    "    return x + y\n",
    "def test(func):\n",
    "    a = 1\n",
    "    b = inspect.getsource(func)\n",
    "    newb = \"\"\n",
    "    for l in b.split('\\n'):\n",
    "        if bool(l) and \"return\" not in l :\n",
    "            newb = newb + l + '\\n'\n",
    "        elif bool(l):\n",
    "            newb = newb + l\n",
    "    newb = newb + \" + 3\\n\"\n",
    "    pprint(f'locals: {locals()}', width=157) # foo is not available in locals()\n",
    "    print(f'exec(newb): {exec(newb)}') \n",
    "    pprint(f'locals: {locals()}', width=157) # a foo is available in locals(), but which one is it\n",
    "    newfoo = locals()[\"foo\"]\n",
    "    print(newfoo(1,9))\n",
    "    print(locals()[\"foo\"](1,9))\n",
    "    print(func(1,9))\n",
    "    print(foo(1,9))\n",
    "\n",
    "test(foo)    "
   ]
  },
  {
   "cell_type": "markdown",
   "metadata": {},
   "source": [
    "### inside a function, exec() allow won't give you necessary env from function namespace"
   ]
  },
  {
   "cell_type": "code",
   "execution_count": null,
   "metadata": {},
   "outputs": [
    {
     "name": "stdout",
     "output_type": "stream",
     "text": [
      "\"locals: {'func': <function add at 0x10f99d940>, 'a': 1, 'lst': [], 'b': 'def add(x, y):\\\\n    lst.append(x)\\\\n    return x + y'}\"\n",
      "(\"locals: {'func': <function add at 0x10f99d940>, 'a': 1, 'lst': [], 'b': 'def add(x, y):\\\\n    lst.append(x)\\\\n    return x + y', 'add': <function add at \"\n",
      " '0x106816550>}')\n",
      "add(5,6): 1\n",
      "name 'lst' is not defined\n"
     ]
    }
   ],
   "source": [
    "def add(x, y): return 1\n",
    "\n",
    "def test(func):\n",
    "    a = 1\n",
    "    lst = []\n",
    "    b = \"def add(x, y):\\n    lst.append(x)\\n    return x + y\"\n",
    "    pprint(f'locals: {locals()}', width=157)\n",
    "    exec(b) # create the new add in locals\n",
    "    pprint(f'locals: {locals()}', width=157)\n",
    "    print(f'add(5,6): {add(5,6)}')\n",
    "    add1 = locals()['add'] # assign a different name, add1\n",
    "    \n",
    "    print(f'add1(5,6): {add1(5,6)}') # error: lst is not defined, even though lst=[] is right above\n",
    "    \n",
    "    pprint(f'locals: {locals()}', width=157)\n",
    "\n",
    "try:\n",
    "    test(add)\n",
    "except NameError as e:\n",
    "    print(e)"
   ]
  },
  {
   "cell_type": "markdown",
   "metadata": {},
   "source": [
    "### magic of `exec(b, globals().update(locals()))`"
   ]
  },
  {
   "cell_type": "markdown",
   "metadata": {},
   "source": [
    "What about `exec(b, globals().update(globals()))`"
   ]
  },
  {
   "cell_type": "code",
   "execution_count": null,
   "metadata": {},
   "outputs": [
    {
     "name": "stdout",
     "output_type": "stream",
     "text": [
      "\"locals: {'func': <function add at 0x10f9a0dc0>, 'a': 1, 'lst': [], 'b': 'def add(x, y):\\\\n    lst.append(x)\\\\n    return x + y'}\"\n",
      "(\"locals: {'func': <function add at 0x10f9a0dc0>, 'a': 1, 'lst': [], 'b': 'def add(x, y):\\\\n    lst.append(x)\\\\n    return x + y', 'add': <function add at \"\n",
      " '0x10f99ddc0>}')\n",
      "exec(b, globals().update(globals())) won't give us lst in the func namespace\n"
     ]
    }
   ],
   "source": [
    "def add(x, y): return 1\n",
    "\n",
    "def test(func):\n",
    "    a = 1\n",
    "    lst = []\n",
    "    b = \"def add(x, y):\\n    lst.append(x)\\n    return x + y\"\n",
    "    pprint(f'locals: {locals()}', width=157)\n",
    "    \n",
    "    exec(b, globals().update(globals())) # update(globals()) won't give us lst above\n",
    "    \n",
    "    pprint(f'locals: {locals()}', width=157)\n",
    "    add1 = locals()['add'] \n",
    "    print(add1(5,6))\n",
    "    pprint(f'locals: {locals()}', width=157)\n",
    "\n",
    "\n",
    "\n",
    "try:\n",
    "    test(add)\n",
    "except: \n",
    "    print(\"exec(b, globals().update(globals())) won't give us lst in the func namespace\")"
   ]
  },
  {
   "cell_type": "code",
   "execution_count": null,
   "metadata": {},
   "outputs": [
    {
     "name": "stdout",
     "output_type": "stream",
     "text": [
      "\"locals: {'func': <function add at 0x10f99ddc0>, 'a': 1, 'lst': [], 'b': 'def add(x, y):\\\\n    lst.append(x)\\\\n    return x + y'}\"\n",
      "(\"locals: {'func': <function add at 0x10f99ddc0>, 'a': 1, 'lst': [], 'b': 'def add(x, y):\\\\n    lst.append(x)\\\\n    return x + y', 'add': <function add at \"\n",
      " '0x10f99daf0>}')\n",
      "11\n",
      "(\"locals: {'func': <function add at 0x10f99ddc0>, 'a': 1, 'lst': [5], 'b': 'def add(x, y):\\\\n    lst.append(x)\\\\n    return x + y', 'add': <function add at \"\n",
      " \"0x10f99daf0>, 'add1': <function add at 0x10f99daf0>}\")\n",
      "1\n",
      "you can't bring add1 from a function namespace to the outside world\n"
     ]
    }
   ],
   "source": [
    "def add(x, y): return 1\n",
    "\n",
    "def test(func):\n",
    "    a = 1\n",
    "    lst = []\n",
    "    b = \"def add(x, y):\\n    lst.append(x)\\n    return x + y\"\n",
    "    pprint(f'locals: {locals()}', width=157)\n",
    "    \n",
    "    exec(b, globals().update(locals())) # make sure b can access lst from above\n",
    "    \n",
    "    pprint(f'locals: {locals()}', width=157)\n",
    "    add1 = locals()['add'] \n",
    "    print(add1(5,6))\n",
    "    pprint(f'locals: {locals()}', width=157)\n",
    "\n",
    "test(add)\n",
    "print(add(5,6))\n",
    "try:\n",
    "    print(add1(5,6))\n",
    "except: \n",
    "    print(\"you can't bring add1 from a function namespace to the outside world\")"
   ]
  },
  {
   "cell_type": "markdown",
   "metadata": {},
   "source": [
    "### Bring variables from a func namespace to the sideout world"
   ]
  },
  {
   "cell_type": "code",
   "execution_count": null,
   "metadata": {},
   "outputs": [
    {
     "name": "stdout",
     "output_type": "stream",
     "text": [
      "\"locals: {'func': <function add at 0x10f99daf0>, 'a': 1, 'lst': [], 'b': 'def add(x, y):\\\\n    lst.append(x)\\\\n    return x + y'}\"\n",
      "11\n",
      "(\"locals: {'func': <function add at 0x10f99daf0>, 'a': 1, 'lst': [5, 5], 'b': 'def add(x, y):\\\\n    lst.append(x)\\\\n    return x + y', 'add': <function add \"\n",
      " \"at 0x10f9ac310>, 'add1': <function add at 0x10f9ac310>}\")\n",
      "11\n",
      "11\n",
      "[5, 5, 5, 5]\n"
     ]
    }
   ],
   "source": [
    "def add(x, y): return 1\n",
    "\n",
    "def test(func):\n",
    "    a = 1\n",
    "    lst = []\n",
    "    b = \"def add(x, y):\\n    lst.append(x)\\n    return x + y\"\n",
    "    pprint(f'locals: {locals()}', width=157)    \n",
    "    \n",
    "    exec(b, globals().update(locals())) # make sure b can access lst from above\n",
    "\n",
    "    add1 = locals()['add'] \n",
    "    print(add1(5,6))\n",
    "    add1(5,6)\n",
    "    pprint(f'locals: {locals()}', width=157)\n",
    "\n",
    "    # bring variables inside a func to the outside\n",
    "    globals().update(locals())\n",
    "\n",
    "test(add)\n",
    "pprint(add(5,6)) # the original add is override by the add from the function's locals()\n",
    "pprint(add1(5,6))\n",
    "print(lst)"
   ]
  },
  {
   "cell_type": "markdown",
   "metadata": {},
   "source": [
    "### globals() in a cell vs globals() in a func"
   ]
  },
  {
   "cell_type": "code",
   "execution_count": null,
   "metadata": {},
   "outputs": [],
   "source": [
    "from fastdebug.utils import tstenv"
   ]
  },
  {
   "cell_type": "code",
   "execution_count": null,
   "metadata": {},
   "outputs": [
    {
     "data": {
      "text/plain": [
       "91"
      ]
     },
     "execution_count": null,
     "metadata": {},
     "output_type": "execute_result"
    }
   ],
   "source": [
    "len(globals().keys())"
   ]
  },
  {
   "cell_type": "code",
   "execution_count": null,
   "metadata": {},
   "outputs": [
    {
     "data": {
      "text/plain": [
       "'__main__'"
      ]
     },
     "execution_count": null,
     "metadata": {},
     "output_type": "execute_result"
    }
   ],
   "source": [
    "globals()['__name__']"
   ]
  },
  {
   "cell_type": "code",
   "execution_count": null,
   "metadata": {},
   "outputs": [],
   "source": [
    "tstenv??"
   ]
  },
  {
   "cell_type": "code",
   "execution_count": null,
   "metadata": {},
   "outputs": [
    {
     "name": "stdout",
     "output_type": "stream",
     "text": [
      "out global env has 20 vars\n",
      "inner global env has 20 vars\n",
      "inner local env has 20 vars\n",
      "['__name__', '__doc__', '__package__', '__loader__', '__spec__', '__file__', '__cached__', '__builtins__', '__all__', 'os']\n",
      "['__name__', '__doc__', '__package__', '__loader__', '__spec__', '__file__', '__cached__', '__builtins__', '__all__', 'os']\n",
      "out env['__name__']: fastdebug.utils\n",
      "inner env['__name__']: fastdebug.utils\n"
     ]
    }
   ],
   "source": [
    "tstenv()"
   ]
  },
  {
   "cell_type": "markdown",
   "metadata": {},
   "source": [
    "## make a colorful string"
   ]
  },
  {
   "cell_type": "code",
   "execution_count": null,
   "metadata": {},
   "outputs": [],
   "source": [
    "#| export\n",
    "from fastcore.basics import *"
   ]
  },
  {
   "cell_type": "code",
   "execution_count": null,
   "metadata": {},
   "outputs": [],
   "source": [
    "#| export\n",
    "class dbcolors:\n",
    "    g = '\\033[92m' #GREEN\n",
    "    y = '\\033[93m' #YELLOW\n",
    "    r = '\\033[91m' #RED\n",
    "    reset = '\\033[0m' #RESET COLOR"
   ]
  },
  {
   "cell_type": "code",
   "execution_count": null,
   "metadata": {},
   "outputs": [],
   "source": [
    "#| export\n",
    "def colorize(cmt, color:str=None):\n",
    "    if color == \"g\":\n",
    "        return dbcolors.g + cmt + dbcolors.reset\n",
    "    elif color == \"y\":\n",
    "        return dbcolors.y + cmt + dbcolors.reset\n",
    "    elif color == \"r\":\n",
    "        return dbcolors.r + cmt + dbcolors.reset\n",
    "    else: \n",
    "        return cmt"
   ]
  },
  {
   "cell_type": "markdown",
   "metadata": {},
   "source": [
    "## align text to the most right"
   ]
  },
  {
   "cell_type": "code",
   "execution_count": null,
   "metadata": {},
   "outputs": [],
   "source": [
    "#| export\n",
    "import re"
   ]
  },
  {
   "cell_type": "code",
   "execution_count": null,
   "metadata": {},
   "outputs": [],
   "source": [
    "#| export\n",
    "def strip_ansi(source):\n",
    "    return re.sub(r'\\033\\[(\\d|;)+?m', '', source)"
   ]
  },
  {
   "cell_type": "code",
   "execution_count": null,
   "metadata": {},
   "outputs": [],
   "source": [
    "#| export\n",
    "def alignright(blocks, margin:int=157):\n",
    "    lst = blocks.split('\\n')\n",
    "    maxlen = max(map(lambda l : len(strip_ansi(l)) , lst ))\n",
    "    indent = margin - maxlen\n",
    "    for l in lst:\n",
    "        print(' '*indent + format(l))"
   ]
  },
  {
   "cell_type": "code",
   "execution_count": null,
   "metadata": {},
   "outputs": [],
   "source": [
    "#| export\n",
    "import inspect"
   ]
  },
  {
   "cell_type": "code",
   "execution_count": null,
   "metadata": {},
   "outputs": [],
   "source": [
    "#| export\n",
    "def printsrclinewithidx(idx, l, fill=\" \"):\n",
    "    totallen = 157\n",
    "    lenidx = 5\n",
    "    lenl = len(l)\n",
    "    print(l + fill*(totallen-lenl-lenidx) + \"(\" + str(idx) + \")\")"
   ]
  },
  {
   "cell_type": "code",
   "execution_count": null,
   "metadata": {},
   "outputs": [],
   "source": [
    "#| export\n",
    "def printsrc(src, # name of src code such as foo, or delegates\n",
    "             dbcode, # string of codes or int of code idx number\n",
    "             cmt,\n",
    "             expand:int=2): # expand the codes around the srcline under investigation\n",
    "    \"print the seleted srcline with comment, idx and specified num of expanding srclines\"\n",
    "    lstsrc = inspect.getsource(src).split('\\n')\n",
    "    \n",
    "    dblines = \"\"\n",
    "    if type(dbcode) == int:\n",
    "        dblines = lstsrc[dbcode]\n",
    "    else:\n",
    "        dblines = dbcode\n",
    "        numdblines = list(map(lambda x: bool(x.strip()), dblines.split('\\n'))).count(True)\n",
    "    \n",
    "    \n",
    "    dblineidx = []\n",
    "    for idx, l in zip(range(len(lstsrc)), lstsrc):\n",
    "        if bool(l) and l.strip() in dblines:\n",
    "            dblineidx.append(idx)\n",
    "\n",
    "    for idx, l in zip(range(len(lstsrc)), lstsrc):\n",
    "        \n",
    "        srcidx = dbcode if type(dbcode) == int else dblineidx[0]\n",
    "        \n",
    "        if bool(l) and l.strip() in dblines and idx == srcidx:\n",
    "            printsrclinewithidx(idx, l, fill=\"=\")\n",
    "\n",
    "            if bool(cmt):\n",
    "                colcmt = colorize(cmt, \"r\")\n",
    "                alignright(colcmt) # also print the comment\n",
    "\n",
    "        if idx >= srcidx - expand and idx < srcidx:\n",
    "            printsrclinewithidx(idx, l)\n",
    "        elif idx <= srcidx + expand and idx > srcidx:\n",
    "            printsrclinewithidx(idx, l)\n"
   ]
  },
  {
   "cell_type": "code",
   "execution_count": null,
   "metadata": {},
   "outputs": [],
   "source": [
    "#| export\n",
    "import ast"
   ]
  },
  {
   "cell_type": "code",
   "execution_count": null,
   "metadata": {},
   "outputs": [],
   "source": [
    "#| export\n",
    "def dbprintinsert(*codes, env={}): \n",
    "\n",
    "        \n",
    "    # trial and error version for real code, still not quite why globals vs locals work in exec and eval\n",
    "    for c in codes:\n",
    "        print(\"\\n\")\n",
    "        \n",
    "        # handle a block of code\n",
    "        if \"\\n\" in c: \n",
    "            output = f\"Running your code block => \"\n",
    "            print('{:<157}'.format(c))       \n",
    "            print('{:>157}'.format(output))  \n",
    "            print('The code block printout => : ')\n",
    "            block = ast.parse(c, mode='exec')\n",
    "            exec(compile(block, '<string>', mode='exec'), globals().update(env))\n",
    "        \n",
    "        # handle assignment: 2. when = occur before if; 1. when no if only =\n",
    "        elif (\"=\" in c and \"if\" not in c) or (\"=\" in c and c.find(\"=\") < c.find(\"if\")): # make sure assignment and !== and == are differentiated\n",
    "            \n",
    "            # print('k' in locals())\n",
    "            exec(c, globals().update(env)) \n",
    "            # print('k' in locals())\n",
    "            variable = c.partition(\" = \")[0]\n",
    "            # print(f\"{c} => {variable}: {eval(variable)}\")\n",
    "            output = f\"{c} => {variable}: {eval(variable)}\"\n",
    "            print('{:>157}'.format(output))       \n",
    "            \n",
    "        # handle if statement\n",
    "        # Note: do insert code like this : `if abc == def: print(abc)`, print is a must\n",
    "        elif \"if\" in c: \n",
    "            cond = re.search('if (.*?):', c).group(1)\n",
    "            \n",
    "            # when code in string is like 'if abc == def:'\n",
    "            if c.endswith(':'):\n",
    "                \n",
    "                # print ... \n",
    "                # print(f\"{c} => {cond}: {eval(cond)}\")      \n",
    "                output = f\"{c} => {cond}: {eval(cond)}\"\n",
    "                print('{:>157}'.format(output))\n",
    "                \n",
    "            # when code in string is like 'if abc == def: print(...)'\n",
    "            else: \n",
    "                # if the cond is true, then print ...\n",
    "                if eval(cond):\n",
    "                    \n",
    "                    # \"if abc == def: print(abc)\".split(': ', 2)[1] to get 'print(abc)'\n",
    "                    printc = c.split(': ', 1)[1]\n",
    "                    # print(f\"{c} => {printc} : \")\n",
    "                    output = f\"{c} => {printc} : \"\n",
    "                    print('{:>157}'.format(output))      \n",
    "                    exec(c, globals().update(env))\n",
    "                    \n",
    "                # if cond is false, then print ...\n",
    "                else: \n",
    "                    # print(f\"{c} => {cond}: {eval(cond)}\")\n",
    "                    output = f\"{c} => {cond}: {eval(cond)}\"\n",
    "                    print('{:>157}'.format(output))   \n",
    "                \n",
    "                \n",
    "        # handle for in statement\n",
    "        elif \"for \" in c and \" in \" in c:           \n",
    "            \n",
    "            # in example like 'for k, v in abc:' or `for k, v in abc: print(...)`, if abc is empty\n",
    "            # step 1: access abc\n",
    "            # get the substring between 'in ' and ':', which is like 'abc'\n",
    "            abc = re.search('in (.*?):', c).group(1)\n",
    "            # if abc is empty dict or list: print and pass\n",
    "            if not bool(eval(abc)): \n",
    "                # print(f'{c} => {abc} is an emtpy {type(eval(abc))}')\n",
    "                output = f'{c} => {abc} is an emtpy {type(eval(abc))}'\n",
    "                print('{:>157}'.format(output))   \n",
    "                continue \n",
    "                # The break statement can be used if you need to break out of a for or while loop and move onto the next section of code.\n",
    "                # The continue statement can be used if you need to skip the current iteration of a for or while loop and move onto the next iteration.\n",
    "            \n",
    "            # if the code in string is like 'for k, v in abc:', there is no more code after `:`\n",
    "            if c.endswith(':'):\n",
    "                \n",
    "                # get the substring between 'for ' and ' in', which is like 'k, v'\n",
    "                variables = re.search('for (.*?) in', c).group(1)\n",
    "                \n",
    "                # if variables has a substring like ', ' inside\n",
    "                if (',') in variables: \n",
    "                    \n",
    "                    # split it by ', ' into a list of substrings\n",
    "                    vl = variables.split(',')\n",
    "                    key = vl[0]\n",
    "                    value = vl[1]\n",
    "                    \n",
    "                    # make sure key and value will get evaluated first before exec run\n",
    "                    # printc is for exec to run\n",
    "                    printc = \"print(f'{key}:{eval(key)}, {type(eval(key))} ; {value}:{eval(value)}, {type(eval(value))}')\" \n",
    "                    # printmsg is for reader to understand with ease\n",
    "                    printmsg = \"print(f'key: {key}, {type(key)} ; value: {value}, {type(value)}')\"\n",
    "                    c1 = c + \" \" + printc\n",
    "                    # print(f\"{c} => {printmsg} : \")      \n",
    "                    output = f\"{c} => {printmsg} : \"\n",
    "                    print('{:>157}'.format(output))   \n",
    "                    exec(c1, globals().update(env))\n",
    "                \n",
    "                else:\n",
    "                    printc = \"print(f'{variables} : {eval(variables)}')\"\n",
    "                    printmsg = \"print(f'i : {variables}')\"\n",
    "                    c1 = c + \" \" + printc\n",
    "                    # print(f\"{c} => {printmsg} : \")     \n",
    "                    output = f\"{c} => {printmsg} : \"\n",
    "                    print('{:>157}'.format(output))   \n",
    "                    exec(c1, globals().update(env))\n",
    "                    \n",
    "            # if the code in string is like 'for k, v in abc: print(abc)'\n",
    "            else:                 \n",
    "                # \"for k, v in abc: print(k)\".split(': ', 1)[1] to get 'print(k)'\n",
    "                printc = c.split(': ', 1)[1]\n",
    "                # print(f\"{c} => {printc} : \")\n",
    "                output = f\"{c} => {printc} : \"\n",
    "                print('{:>157}'.format(output))   \n",
    "                exec(c, globals().update(env)) # we can't use eval to run `for in` loop, but exec can.\n",
    "            ### Note: we shall not use the expression like `for k, v in abc print(abc)`\n",
    "            ### Note: we shall not use the expression like `for k, v in abc if k == def`\n",
    "        \n",
    "        \n",
    "        # handle evaluation\n",
    "        else: \n",
    "            # print(f\"{c} => {c} : {eval(c, globals().update(env))}\") \n",
    "            output = f\"{c} => {c} : {eval(c, globals().update(env))}\"\n",
    "            print('{:>157}'.format(output))   \n",
    "            \n",
    "        # the benefit of using global().update(env) is \n",
    "        # to ensure we don't need to include the same env fo"
   ]
  },
  {
   "cell_type": "markdown",
   "metadata": {},
   "source": [
    "## Make fastdebug a class"
   ]
  },
  {
   "cell_type": "markdown",
   "metadata": {},
   "source": [
    "### using @patch to enable docs for instance methods like `dbprint` and `print`"
   ]
  },
  {
   "cell_type": "code",
   "execution_count": null,
   "metadata": {},
   "outputs": [],
   "source": [
    "#| exports\n",
    "class Fastdb():\n",
    "    \"Create a Fastdebug class which has two functionalities: dbprint and print.\"\n",
    "    def __init__(self, \n",
    "                 src, # name of src code you are exploring\n",
    "                 env): # env variables needed for exploring the source code, e.g., g = globals()\n",
    "        self.orisrc = src\n",
    "        self.margin = 157\n",
    "        self.outenv = env\n",
    "        self.cmts = {}"
   ]
  },
  {
   "cell_type": "code",
   "execution_count": null,
   "metadata": {},
   "outputs": [],
   "source": [
    "#| exports        \n",
    "@patch\n",
    "def dbprint(self:Fastdb, \n",
    "            dbcode:int, # idx of a srcline under investigation, can only be int\n",
    "            cmt:str, # comment added to the srcline\n",
    "            *codes, # a list of expressions (str) you write to be evaluated above the srcline\n",
    "            expand:int=2, # span 2 lines of srcode up and down from the srcline investigated\n",
    "            showdbsrc:bool=False): # display dbsrc\n",
    "    \"Add comment and evaluate custom (single or multi lines) expressions to any srcline of the source code \\\n",
    "you are investigating. Run exec on the entire srcode with added expressions (dbsrc), so that dbsrc is callable.\"\n",
    "\n",
    "    src = self.orisrc\n",
    "    if type(dbcode) == int: self.cmts.update({dbcode: cmt})\n",
    "\n",
    "    printsrc(src, dbcode, cmt, expand)\n",
    "    print('{:-<60}'.format(colorize(\"print selected srcline with expands above\", color=\"y\")))\n",
    "    \n",
    "    dbsrc = \"\"\n",
    "    indent = 4\n",
    "    onedbprint = False\n",
    "\n",
    "    lst = inspect.getsource(src).split('\\n')\n",
    "    if not bool(lst[-1]): lst = lst[:-1]\n",
    "\n",
    "    newlst = []\n",
    "    for i in codes: # no matter whether there is \"\" or \"  \" in the front or in the middle of codes\n",
    "        if bool(i.strip()): newlst.append(i)\n",
    "    codes = newlst\n",
    "\n",
    "    srclines = \"\"\n",
    "    if type(dbcode) == int:\n",
    "        srclines = lst[dbcode]\n",
    "    else:\n",
    "        colwarn = colorize(\"Warning!\", color=\"r\")\n",
    "        colmsg = colorize(\" param decode has to be an int as idx.\", color=\"y\")\n",
    "        print(colwarn + colmsg)\n",
    "#         srclines = dbcode\n",
    "        return\n",
    "\n",
    "    for idx, l in zip(range(len(lst)), lst):\n",
    "\n",
    "        if bool(l.strip()) and l.strip() in srclines and idx == dbcode:\n",
    "\n",
    "            if len(codes) > 0: \n",
    "                numindent = len(l) - len(l.lstrip()) # make sure indent not messed up by trailing spaces\n",
    "                dbcodes = \"dbprintinsert(\"\n",
    "                count = 1\n",
    "                for c in codes:\n",
    "                    if count == len(codes):\n",
    "                        dbcodes = dbcodes + '\"' + c + '\"' + \",\" + \"env=g\" + \")\"\n",
    "                    else:\n",
    "                        dbcodes = dbcodes + '\"' + c + '\"' + \",\"\n",
    "                    count = count + 1\n",
    "\n",
    "                dbsrc = dbsrc + \" \"*numindent + \"g = locals()\" + '\\n'\n",
    "                dbsrc = dbsrc + \" \"*numindent + dbcodes + '\\n'\n",
    "                dbsrc = dbsrc + l + '\\n'     \n",
    "            else:\n",
    "                dbsrc = dbsrc + l + '\\n'                \n",
    "\n",
    "        elif bool(l.strip()) and idx + 1 == len(lst):\n",
    "            dbsrc = dbsrc + l\n",
    "\n",
    "        elif bool(l.strip()): # make sure pure indentation + \\n is ignored\n",
    "            dbsrc = dbsrc + l + '\\n'\n",
    "\n",
    "    if showdbsrc: # added to debug\n",
    "        print('{:-<60}'.format(colorize(\"showdbsrc=Start\", color=\"y\")))\n",
    "        totallen = 157\n",
    "        lenidx = 5\n",
    "        dblst = dbsrc.split('\\n')\n",
    "        for idx, l in zip(range(len(dblst)), dblst):\n",
    "            lenl = len(l)\n",
    "#             if \"dbprintinsert\" in l: \n",
    "            if l.strip().startswith(\"dbprintinsert\"): \n",
    "                print(l + \"=\"*(totallen-lenl-lenidx) + \"(db)\")\n",
    "            else:\n",
    "                print(l + \" \"*(totallen-lenl-lenidx) + \"(\" + str(idx) + \")\")\n",
    "                \n",
    "        names = self.orisrc.__qualname__.split('.')\n",
    "        clsname = names[0]\n",
    "        methodname = names[1]\n",
    "        print(f\"before exec, is {methodname} in locals(): {methodname in locals()}\")\n",
    "        print(f\"before exec, is {clsname} in locals(): {clsname in locals()}\")\n",
    "        print(f\"before exec, is {self.orisrc.__qualname__} in locals(): {self.orisrc.__qualname__ in locals()}\")\n",
    "        print(f\"before exec, is {methodname} in self.outenv: {methodname in self.outenv}\")\n",
    "        print(f\"before exec, is {clsname} in self.outenv: {clsname in self.outenv}\")\n",
    "        print(f\"before exec, is {self.orisrc.__qualname__} in self.outenv: {self.orisrc.__qualname__ in self.outenv}\")\n",
    "        expr = \"self.outenv[\" + \"'\" + clsname + \"'].\" + methodname\n",
    "        expr1 = \"self.outenv[\" + \"'\" + methodname + \"']\"\n",
    "        print(f\"inspect.getsourcefile({expr}) == '<string>': {True if inspect.getsourcefile(eval(expr)) == '<string>' else inspect.getsourcefile(eval(expr))}\")\n",
    "        print(f\"self.outenv[{methodname}]: {eval(expr1)}\")\n",
    "    exec(dbsrc, globals().update(self.outenv)) # make sure b can access lst from above\n",
    "    print('{:-<60}'.format(colorize(\"exec on dbsrc above\", color=\"y\")))\n",
    "    \n",
    "    if showdbsrc: \n",
    "        print(f\"locals() keys: {list(locals().keys())}\")\n",
    "        print(f\"after exec, is {methodname} in locals(): {methodname in locals()}\")\n",
    "        print(f\"after exec, is {clsname} in locals(): {clsname in locals()}\")\n",
    "        print(f\"after exec, is {self.orisrc.__qualname__} in locals(): {self.orisrc.__qualname__ in locals()}\")\n",
    "        print(f\"after exec, is {methodname} in self.outenv: {methodname in self.outenv}\")\n",
    "        print(f\"after exec, is {clsname} in self.outenv: {clsname in self.outenv}\")\n",
    "        print(f\"after exec, is {self.orisrc.__qualname__} in self.outenv: {self.orisrc.__qualname__ in self.outenv}\")\n",
    "#         print(f\"after exec, are {methodname} and {clsname} and {self.orisrc.__qualname__} in locals(): {[i in list(locals().keys()) for i in [self.orisrc.__name__, clsname, self.orisrc.__qualname__]]}\")\n",
    "#         print(f\"after exec, are {methodname} and {clsname} and {self.orisrc.__qualname__} in self.outenv(): {[i in self.outenv for i in [methodname, clsname, self.orisrc.__qualname__]]}\")\n",
    "        print(f\"inspect.getsourcefile({expr}) == '<string>': {True if inspect.getsourcefile(eval(expr)) == '<string>' else inspect.getsourcefile(eval(expr))}\")\n",
    "        print(f\"self.outenv[{methodname}]: {eval(expr1)}\")\n",
    "        print(f'self.orisrc.__name__: {self.orisrc.__name__}')\n",
    "        print(f'locals()[self.orisrc.__name__]: {locals()[self.orisrc.__name__]}')\n",
    "        print('{:-<60}'.format(colorize(\"showdbsrc=End\", color=\"y\")))\n",
    "        \n",
    "    return locals()[self.orisrc.__name__]\n"
   ]
  },
  {
   "cell_type": "code",
   "execution_count": null,
   "metadata": {},
   "outputs": [],
   "source": [
    "#| exports\n",
    "@patch\n",
    "def print(self:Fastdb, \n",
    "            maxlines:int=33, # maximum num of lines per page\n",
    "            part:int=0): # if the src is more than 33 lines, then divide the src by 33 into a few parts\n",
    "    \"Print the source code in whole or parts with idx and comments you added with dbprint along the way.\"\n",
    "\n",
    "    totallen = 157\n",
    "    lenidx = 5\n",
    "    lspace = 10\n",
    "    lstsrc = inspect.getsource(self.orisrc).split('\\n')\n",
    "    numparts = len(lstsrc) // 33 + 1 if len(lstsrc) % 33 != 0 else len(lstsrc) // 33\n",
    "    cmts = self.cmts\n",
    "    if part == 0: \n",
    "        for idx, l in zip(range(len(lstsrc)), lstsrc):\n",
    "            lenl = len(l)\n",
    "\n",
    "            if not bool(l.strip()):\n",
    "                print(l + \" \"*(totallen-lenl-lenidx) + \"(\" + str(idx) + \")\")\n",
    "\n",
    "            elif lenl + lspace >= 100:\n",
    "                if bool(cmts):\n",
    "                    cmtidx = [cmt[0] for cmt in list(cmts.items())]\n",
    "                    if idx in cmtidx:\n",
    "                        print(l + \" # \" + cmts[idx] + \" \"*(totallen-lenl-lenidx-len(cmts[idx])-3) + \"(\" + str(idx) + \")\")\n",
    "                    else:\n",
    "                        print(l + \" \"*(totallen-lenl-lenidx) + \"(\" + str(idx) + \")\")\n",
    "                else: \n",
    "                    print(l + \" \"*(totallen-lenl-lenidx) + \"(\" + str(idx) + \")\")\n",
    "\n",
    "            else:\n",
    "\n",
    "\n",
    "                if bool(cmts):\n",
    "                    cmtidx = [cmt[0] for cmt in list(cmts.items())]\n",
    "                    if idx in cmtidx:\n",
    "                        print('{:<100}'.format(l + \"=\"*(100-lenl-lspace) + f\"({idx})\" + \" # \" + cmts[idx]))\n",
    "                    else:\n",
    "                        print('{:<100}'.format(l + \"=\"*(100-lenl-lspace) + f\"({idx})\"))                                                      \n",
    "\n",
    "                else:\n",
    "                    print('{:<100}'.format(l + \"=\"*(100-lenl-lspace) + f\"({idx})\"))                 \n",
    "\n",
    "    for p in range(numparts):\n",
    "        for idx, l in zip(range(len(lstsrc)), lstsrc):\n",
    "\n",
    "            if (maxlines*p <= idx < maxlines*(p+1) and p+1 == part):\n",
    "                lenl = len(l)\n",
    "                if not bool(l.strip()):\n",
    "                    print(l + \" \"*(totallen-lenl-lenidx) + \"(\" + str(idx) + \")\")\n",
    "                elif lenl + lspace >= 100:\n",
    "                    if bool(cmts):\n",
    "                        cmtidx = [cmt[0] for cmt in list(cmts.items())]\n",
    "                        if idx in cmtidx:\n",
    "                            print(l + \" # \" + cmts[idx] + \" \"*(totallen-lenl-lenidx-len(cmts[idx])-3) + \"(\" + str(idx) + \")\")\n",
    "                        else:\n",
    "                            print(l + \" \"*(totallen-lenl-lenidx) + \"(\" + str(idx) + \")\")\n",
    "                    else: \n",
    "                        print(l + \" \"*(totallen-lenl-lenidx) + \"(\" + str(idx) + \")\")\n",
    "\n",
    "\n",
    "                else:\n",
    "\n",
    "                    if bool(cmts):\n",
    "                        cmtidx = [cmt[0] for cmt in list(cmts.items())]\n",
    "                        if idx in cmtidx:\n",
    "                            print('{:<100}'.format(l + \"=\"*(100-lenl-lspace) + f\"({idx})\" + \" # \" + cmts[idx]))\n",
    "                        else:\n",
    "                            print('{:<100}'.format(l + \"=\"*(100-lenl-lspace) + f\"({idx})\"))                                                          \n",
    "\n",
    "                    else:\n",
    "                        print('{:<100}'.format(l + \"=\"*(100-lenl-lspace) + f\"({idx})\"))                      \n",
    "\n",
    "            if (idx == maxlines*(p+1) or idx == len(lstsrc) - 1) and p+1 == part:\n",
    "                print('{:>157}'.format(f\"part No.{p+1} out of {numparts} parts\"))\n",
    "                return"
   ]
  },
  {
   "cell_type": "markdown",
   "metadata": {},
   "source": [
    "### use dbprint to override the original official code without changing its own pyfile"
   ]
  },
  {
   "cell_type": "markdown",
   "metadata": {},
   "source": [
    "see the example [here](./examples/dbprint.ipynb#make-inspect.signature-to-run-our-dbsrc-code)\n",
    "\n",
    "```python\n",
    "dbsig = sig.dbprint(29, \"why has to unwrap?\", \"hasattr(obj, '__signature__')\")\n",
    "inspect._signature_from_callable = dbsig\n",
    "pprint(inspect.signature(Foo))\n",
    "sig.print(part=1)\n",
    "```"
   ]
  },
  {
   "cell_type": "markdown",
   "metadata": {},
   "source": [
    "### use guide on Fastdb.dbprint"
   ]
  },
  {
   "cell_type": "markdown",
   "metadata": {},
   "source": [
    "1. don't use for the line start with `elif`, as putting `dbprintinsert` above `elif` without indentation will cause syntax error. I am not sure whether I need to fix it now."
   ]
  },
  {
   "cell_type": "markdown",
   "metadata": {},
   "source": [
    "see example [here](./examples/Fastdb.ipynb)"
   ]
  },
  {
   "cell_type": "markdown",
   "metadata": {},
   "source": [
    "test it with example [here](./examples/print.ipynb)"
   ]
  },
  {
   "cell_type": "markdown",
   "metadata": {},
   "source": [
    "#|hide\n",
    "## Export"
   ]
  },
  {
   "cell_type": "code",
   "execution_count": null,
   "metadata": {},
   "outputs": [],
   "source": [
    "#| hide\n",
    "from nbdev import nbdev_export\n",
    "nbdev_export()"
   ]
  },
  {
   "cell_type": "markdown",
   "metadata": {},
   "source": [
    "#|hide\n",
    "## Send to Obsidian"
   ]
  },
  {
   "cell_type": "code",
   "execution_count": null,
   "metadata": {},
   "outputs": [
    {
     "name": "stdout",
     "output_type": "stream",
     "text": [
      "[jupytext] Reading /Users/Natsume/Documents/fastdebug/00_core.ipynb in format ipynb\n",
      "[jupytext] Writing /Users/Natsume/Documents/fastdebug/00_core.md\n"
     ]
    }
   ],
   "source": [
    "#| hide\n",
    "!jupytext --to md /Users/Natsume/Documents/fastdebug/00_core.ipynb\n",
    "!mv /Users/Natsume/Documents/fastdebug/00_core.md \\\n",
    "/Users/Natsume/Documents/divefastai/Debuggable/jupytext/"
   ]
  },
  {
   "cell_type": "code",
   "execution_count": null,
   "metadata": {},
   "outputs": [
    {
     "name": "stdout",
     "output_type": "stream",
     "text": [
      "[NbConvertApp] Converting notebook /Users/Natsume/Documents/fastdebug/utils.ipynb to markdown\n",
      "[NbConvertApp] Writing 10080 bytes to /Users/Natsume/Documents/divefastai/Debuggable/nbconvert/utils.md\n",
      "[NbConvertApp] Converting notebook /Users/Natsume/Documents/fastdebug/00_core.ipynb to markdown\n",
      "[NbConvertApp] Writing 190345 bytes to /Users/Natsume/Documents/divefastai/Debuggable/nbconvert/00_core.md\n",
      "[NbConvertApp] Converting notebook /Users/Natsume/Documents/fastdebug/FixSigMeta.ipynb to markdown\n",
      "[NbConvertApp] Writing 171576 bytes to /Users/Natsume/Documents/divefastai/Debuggable/nbconvert/FixSigMeta.md\n",
      "[NbConvertApp] Converting notebook /Users/Natsume/Documents/fastdebug/index.ipynb to markdown\n",
      "[NbConvertApp] Writing 39619 bytes to /Users/Natsume/Documents/divefastai/Debuggable/nbconvert/index.md\n",
      "[NbConvertApp] Converting notebook /Users/Natsume/Documents/fastdebug/Demos/Untitled.ipynb to markdown\n",
      "[NbConvertApp] Writing 41396 bytes to /Users/Natsume/Documents/divefastai/Debuggable/nbconvert/Untitled.md\n",
      "[NbConvertApp] Converting notebook /Users/Natsume/Documents/fastdebug/Demos/Explore_Fastdb_dbprint.ipynb to markdown\n",
      "[NbConvertApp] Writing 228421 bytes to /Users/Natsume/Documents/divefastai/Debuggable/nbconvert/Explore_Fastdb_dbprint.md\n"
     ]
    }
   ],
   "source": [
    "#| hide\n",
    "!jupyter nbconvert --config /Users/Natsume/Documents/mynbcfg.py --to markdown \\\n",
    "--output-dir /Users/Natsume/Documents/divefastai/Debuggable/nbconvert"
   ]
  }
 ],
 "metadata": {
  "kernelspec": {
   "display_name": "Python 3 (ipykernel)",
   "language": "python",
   "name": "python3"
  }
 },
 "nbformat": 4,
 "nbformat_minor": 4
}
