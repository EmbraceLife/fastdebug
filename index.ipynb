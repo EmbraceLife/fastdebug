{
 "cells": [
  {
   "cell_type": "markdown",
   "metadata": {},
   "source": [
    "# fastdebug\n",
    "\n",
    "> a little tool to help me explore the source code of fastai libraries"
   ]
  },
  {
   "cell_type": "code",
   "execution_count": 1,
   "metadata": {},
   "outputs": [],
   "source": [
    "# %load_ext autoreload\n",
    "# %autoreload 2"
   ]
  },
  {
   "cell_type": "code",
   "execution_count": 2,
   "metadata": {},
   "outputs": [],
   "source": [
    "from IPython.display import display, HTML "
   ]
  },
  {
   "cell_type": "code",
   "execution_count": 3,
   "metadata": {},
   "outputs": [
    {
     "data": {
      "text/html": [
       "<style>.container { width:100% !important; }</style>"
      ],
      "text/plain": [
       "<IPython.core.display.HTML object>"
      ]
     },
     "metadata": {},
     "output_type": "display_data"
    }
   ],
   "source": [
    "display(HTML(\"<style>.container { width:100% !important; }</style>\"))"
   ]
  },
  {
   "cell_type": "markdown",
   "metadata": {},
   "source": [
    "## References I use when I explore"
   ]
  },
  {
   "cell_type": "markdown",
   "metadata": {},
   "source": [
    "### fastai style"
   ]
  },
  {
   "cell_type": "markdown",
   "metadata": {},
   "source": [
    "What is the fastai coding [style](https://docs.fast.ai/dev/style.html#style-guide)"
   ]
  },
  {
   "cell_type": "markdown",
   "metadata": {},
   "source": [
    "How to do [abbreviation](https://docs.fast.ai/dev/abbr.html) the fastai way"
   ]
  },
  {
   "cell_type": "markdown",
   "metadata": {},
   "source": [
    "A great example of how fastai libraries can make life more [comfortable](https://www.fast.ai/2019/08/06/delegation/)"
   ]
  },
  {
   "cell_type": "markdown",
   "metadata": {},
   "source": [
    "## What is the motivation behind `fastdebug` library?\n",
    "\n",
    "\n",
    "Please let me show you with a simple example here."
   ]
  },
  {
   "cell_type": "markdown",
   "metadata": {},
   "source": [
    "I have always wanted to explore the wonderful fastai libraries (I am starting with fastcore). I like to learn the fastai coding style, exploratory coding approach in jupyter and of course all the knowledge Jeremy distilled in the fastai libraries :). Even though every fastai function or class is quite short, but for a novice like me every library looks massive. To really make sense of what each line does is certainly a daunting task. So, is it possible to explore the libraries efficiently and joyfully? \n",
    "\n",
    "Are there any nice tools out there can help me explore and even document my learnings along the way? Yes, they are jupyter notebook/lab and ipdb (or visual debugger). However, ipdb and visual debugger felt clunky to me for my exploration and documentation purpose.\n",
    "\n",
    "Therefore, I decided to write a little tool (it becomes fastdebug) to allow me explore and document fastai libraries with ease and joy. Of course, as a beginner I would not dare to try writing a library without the wonderful [nbdev](https://nbdev.fast.ai/) and the amazing team behind it."
   ]
  },
  {
   "cell_type": "markdown",
   "metadata": {},
   "source": [
    "As you should know now, this lib does two things: explore and document source code. Let's start with `Fastdb.explore` first on a simple example. If you would like to see it working on a more complex real world example, I have `fastcore.meta.FixSigMeta` [ready](./FixSigMeta.ipynb) for you.\n",
    "\n",
    "If you find anything confusing or bug-like, please inform me in this forum [post](https://forums.fast.ai/t/hidden-docs-of-fastcore/98455)."
   ]
  },
  {
   "cell_type": "markdown",
   "metadata": {},
   "source": [
    "## Fastdb.explore"
   ]
  },
  {
   "cell_type": "markdown",
   "metadata": {},
   "source": [
    "### Why not explore with pure `ipdb.set_trace`?\n",
    "\n",
    "`Fastdb.explore` is a wrapper around `ipdb.set_trace` and make my life easier when I am exploring because:\n",
    "\n",
    "> I don't need to write `from ipdb import set_trace` for every notebook\n",
    "\n",
    "> I don't need to manually open the source code file and scroll down the source code\n",
    "\n",
    "> I don't need to insert `set_trace()` above every line of source code (srcline) I want to start exploring\n",
    "\n",
    "> I don't need to remove `set_trace()` from the source code every time after exploration"
   ]
  },
  {
   "cell_type": "markdown",
   "metadata": {},
   "source": [
    "### How to use `Fastdb.explore`?\n",
    "\n",
    "Let's explore the source code of `whatinside` from `fastdebug.utils` using this tool."
   ]
  },
  {
   "cell_type": "code",
   "execution_count": 4,
   "metadata": {},
   "outputs": [],
   "source": [
    "from fastdebug.utils import * # for making an example \n",
    "import fastdebug.utils as fu # for making an example \n",
    "from fastcore.test import * \n",
    "import inspect"
   ]
  },
  {
   "cell_type": "code",
   "execution_count": 5,
   "metadata": {},
   "outputs": [
    {
     "name": "stdout",
     "output_type": "stream",
     "text": [
      "fastdebug.utils has: \n",
      "3 items in its __all__, and \n",
      "8 user defined functions, \n",
      "0 classes or class objects, \n",
      "0 builtin funcs and methods, and\n",
      "8 callables.\n",
      "\n"
     ]
    }
   ],
   "source": [
    "whatinside(fu) # this is the example we are going to explore whatinside with"
   ]
  },
  {
   "cell_type": "code",
   "execution_count": 6,
   "metadata": {},
   "outputs": [],
   "source": [
    "from fastdebug.core import * # Let's import Fastdb and its dependencies"
   ]
  },
  {
   "cell_type": "code",
   "execution_count": 7,
   "metadata": {},
   "outputs": [],
   "source": [
    "g = locals()\n",
    "fdb = Fastdb(whatinside, outloc=g) # first, create an object of Fastdb class, using `whatinside` as param"
   ]
  },
  {
   "cell_type": "code",
   "execution_count": 8,
   "metadata": {},
   "outputs": [
    {
     "name": "stdout",
     "output_type": "stream",
     "text": [
      "def whatinside(mo, # module, e.g., `import fastcore.all as fa`, use `fa` here=============(0)       \n",
      "               dun:bool=False, # print all items in __all__===============================(1)       \n",
      "               func:bool=False, # print all user defined functions========================(2)       \n",
      "               clas:bool=False, # print all class objects=================================(3)       \n",
      "               bltin:bool=False, # print all builtin funcs or methods=====================(4)       \n",
      "               lib:bool=False, # print all the modules of the library it belongs to=======(5)       \n",
      "               cal:bool=False # print all callables=======================================(6)       \n",
      "             ): ==========================================================================(7)       \n",
      "    'Check what inside a module: `__all__`, functions, classes, builtins, and callables'==(8)       \n",
      "    dun_all = len(mo.__all__) if hasattr(mo, \"__all__\") else 0============================(9)       \n",
      "    funcs = inspect.getmembers(mo, inspect.isfunction)====================================(10)      \n",
      "    classes = inspect.getmembers(mo, inspect.isclass)=====================================(11)      \n",
      "    builtins = inspect.getmembers(mo, inspect.isbuiltin)==================================(12)      \n",
      "    callables = inspect.getmembers(mo, callable)==========================================(13)      \n",
      "    pkgpath = os.path.dirname(mo.__file__)================================================(14)      \n",
      "    print(f\"{mo.__name__} has: \\n{dun_all} items in its __all__, and \\n{len(funcs)} user defined functions, \\n{len(classes)} classes or class objects, \\n{len(builtins)} builtin funcs and methods, and\\n{len(callables)} callables.\\n\")  (15)\n",
      "    if hasattr(mo, \"__all__\") and dun: pprint(mo.__all__)=================================(16)      \n",
      "    if func: =============================================================================(17)      \n",
      "        print(f'The user defined functions are:')=========================================(18)      \n",
      "        pprint([i[0] for i in funcs])=====================================================(19)      \n",
      "                                                                                                                                     part No.1 out of 2 parts\n"
     ]
    }
   ],
   "source": [
    "# 1. you can view source code in whole or in parts with the length you set, \n",
    "# and it gives you srcline idx so that you can set breakpoint with ease.\n",
    "#| column: screen\n",
    "fdb.print(20,1) "
   ]
  },
  {
   "cell_type": "code",
   "execution_count": 9,
   "metadata": {},
   "outputs": [],
   "source": [
    "#| column: screen\n",
    "# 2. after viewing source code, choose a srcline idx to set breakpoint and write down why I want to explore this line\n",
    "# fdb.takExample(\"whatinside(fu)\", whatinside=whatinside, fu=fu)"
   ]
  },
  {
   "cell_type": "code",
   "execution_count": 10,
   "metadata": {},
   "outputs": [],
   "source": [
    "# fdb.explore(11, \"what is getmembers\") "
   ]
  },
  {
   "cell_type": "code",
   "execution_count": 11,
   "metadata": {},
   "outputs": [],
   "source": [
    "#| column: screen\n",
    "# 2. you can set multiple breakpoints from the start if you like (but not necessary)\n",
    "# fdb.explore([11, 16, 13], \"what is getmembers\") "
   ]
  },
  {
   "cell_type": "code",
   "execution_count": 12,
   "metadata": {
    "hide_input": false
   },
   "outputs": [],
   "source": [
    "# test_eq(inspect.getsourcefile(whatinside), \"/Users/Natsume/Documents/fastdebug/fastdebug/utils.py\")\n",
    "# test_eq(inspect.getsourcefile(fu.whatinside), \"/tmp/whatinside.py\") # this is the actual source file we are exploring, \n",
    "# so we are using fu.whatinside, not whatinside to run examples. \n",
    "# whatinside(fu) # whatinside is not touched"
   ]
  },
  {
   "cell_type": "code",
   "execution_count": 13,
   "metadata": {},
   "outputs": [],
   "source": [
    "# fdb.goback() # when you done exploring, return everything back to normal."
   ]
  },
  {
   "cell_type": "code",
   "execution_count": 14,
   "metadata": {
    "hide_input": false
   },
   "outputs": [],
   "source": [
    "# test_eq(inspect.getsourcefile(whatinside), \"/Users/Natsume/Documents/fastdebug/fastdebug/utils.py\")"
   ]
  },
  {
   "cell_type": "code",
   "execution_count": 15,
   "metadata": {
    "hide_input": false
   },
   "outputs": [],
   "source": [
    "# test_eq(inspect.getsourcefile(fu.whatinside), \"/Users/Natsume/Documents/fastdebug/fastdebug/utils.py\")"
   ]
  },
  {
   "cell_type": "markdown",
   "metadata": {},
   "source": [
    "## `Fastdb.dbprint`"
   ]
  },
  {
   "cell_type": "markdown",
   "metadata": {},
   "source": [
    "After exploration, if you realize there is something new to learn and maybe want to come back for a second look, you will find `ipdb` and the alike are not designed to document your learning. Here comes `dbprint` to make my life easier because:\n",
    "\n",
    "> I won't need to scroll through a long cell output of pdb commands, src prints and results to find what I learnt during exploration\n",
    "\n",
    "> I won't need to type all the expressions during last exploration to regenerate the findings for me\n",
    "\n",
    "> I can choose any srclines to explore and write any sinlge or multi-line expressions to evaluate the srcline\n",
    "\n",
    "> I can write down what I learn or what is new on any srcline as comment attached to the src code\n",
    "\n",
    "> All expressions with results and comments for each srcline under exploration are documented for easy reviews\n",
    "\n",
    "> Of course, no worry about your original source code, as it is untouched.\n"
   ]
  },
  {
   "cell_type": "markdown",
   "metadata": {},
   "source": [
    "### Let me start documenting as I explore"
   ]
  },
  {
   "cell_type": "code",
   "execution_count": 16,
   "metadata": {},
   "outputs": [],
   "source": [
    "#| hide\n",
    "test_eq(whatinside is fu.whatinside, True)\n",
    "test_eq(whatinside is whatinside.__globals__['whatinside'], True)\n",
    "test_eq(fu.whatinside is whatinside.__globals__['whatinside'], True)"
   ]
  },
  {
   "cell_type": "markdown",
   "metadata": {},
   "source": [
    "### Import"
   ]
  },
  {
   "cell_type": "code",
   "execution_count": 17,
   "metadata": {},
   "outputs": [],
   "source": [
    "from fastdebug.core import * # to make Fastdb available\n",
    "from fastdebug.utils import whatinside # for making an example \n",
    "import fastdebug.utils as fu # for using the dbsrc code"
   ]
  },
  {
   "cell_type": "markdown",
   "metadata": {},
   "source": [
    "### Initiating"
   ]
  },
  {
   "cell_type": "code",
   "execution_count": 18,
   "metadata": {},
   "outputs": [],
   "source": [
    "g = locals()\n",
    "fdb = Fastdb(whatinside, outloc=g) # use either fu.whatinside or whatinside is fine"
   ]
  },
  {
   "cell_type": "markdown",
   "metadata": {},
   "source": [
    "### Print src with idx"
   ]
  },
  {
   "cell_type": "code",
   "execution_count": 19,
   "metadata": {},
   "outputs": [
    {
     "name": "stdout",
     "output_type": "stream",
     "text": [
      "========================================================     Investigating \u001b[91;1mwhatinside\u001b[0m     ========================================================\n",
      "==============================================================     on line \u001b[91;1mNone\u001b[0m     ==============================================================\n",
      "===========================================================     with example \u001b[91;1mNone\u001b[0m     ============================================================\n",
      "\n",
      "def whatinside(mo, # module, e.g., `import fastcore.all as fa`, use `fa` here=============(0)       \n",
      "               dun:bool=False, # print all items in __all__===============================(1)       \n",
      "               func:bool=False, # print all user defined functions========================(2)       \n",
      "               clas:bool=False, # print all class objects=================================(3)       \n",
      "               bltin:bool=False, # print all builtin funcs or methods=====================(4)       \n",
      "               lib:bool=False, # print all the modules of the library it belongs to=======(5)       \n",
      "               cal:bool=False # print all callables=======================================(6)       \n",
      "             ): ==========================================================================(7)       \n",
      "    'Check what inside a module: `__all__`, functions, classes, builtins, and callables'==(8)       \n",
      "    dun_all = len(mo.__all__) if hasattr(mo, \"__all__\") else 0============================(9)       \n",
      "    funcs = inspect.getmembers(mo, inspect.isfunction)====================================(10)      \n",
      "    classes = inspect.getmembers(mo, inspect.isclass)=====================================(11)      \n",
      "    builtins = inspect.getmembers(mo, inspect.isbuiltin)==================================(12)      \n",
      "    callables = inspect.getmembers(mo, callable)==========================================(13)      \n",
      "    pkgpath = os.path.dirname(mo.__file__)================================================(14)      \n",
      "    print(f\"{mo.__name__} has: \\n{dun_all} items in its __all__, and \\n{len(funcs)} user defined functions, \\n{len(classes)} classes or class objects, \\n{len(builtins)} builtin funcs and methods, and\\n{len(callables)} callables.\\n\")  (15)\n",
      "    if hasattr(mo, \"__all__\") and dun: pprint(mo.__all__)=================================(16)      \n",
      "    if func: =============================================================================(17)      \n",
      "        print(f'The user defined functions are:')=========================================(18)      \n",
      "        pprint([i[0] for i in funcs])=====================================================(19)      \n",
      "    if clas: =============================================================================(20)      \n",
      "        print(f'The class objects are:')==================================================(21)      \n",
      "        pprint([i[0] for i in classes])===================================================(22)      \n",
      "    if bltin: ============================================================================(23)      \n",
      "        print(f'The builtin functions or methods are:')===================================(24)      \n",
      "        pprint([i[0] for i in builtins])==================================================(25)      \n",
      "    if cal: ==============================================================================(26)      \n",
      "        print(f'The callables are: ')=====================================================(27)      \n",
      "        pprint([i[0] for i in callables])=================================================(28)      \n",
      "    if lib: ==============================================================================(29)      \n",
      "        modules = [name for _, name, _ in pkgutil.iter_modules([pkgpath])]================(30)      \n",
      "        print(f'The library has {len(modules)} modules')==================================(31)      \n",
      "        pprint(modules)===================================================================(32)      \n",
      "                                                                                                                                                        (33)\n"
     ]
    }
   ],
   "source": [
    "#| column: screen\n",
    "fdb.print() # view the source code with idx "
   ]
  },
  {
   "cell_type": "markdown",
   "metadata": {},
   "source": [
    "### What does the first line do?"
   ]
  },
  {
   "cell_type": "code",
   "execution_count": 20,
   "metadata": {},
   "outputs": [],
   "source": [
    "# fdb.takExample(\"whatinside(fu)\", whatinside=whatinside, fu=fu)\n",
    "fdb.eg = \"whatinside(fu)\""
   ]
  },
  {
   "cell_type": "code",
   "execution_count": 21,
   "metadata": {},
   "outputs": [
    {
     "name": "stdout",
     "output_type": "stream",
     "text": [
      "========================================================     Investigating \u001b[91;1mwhatinside\u001b[0m     ========================================================\n",
      "===============================================================     on line \u001b[91;1m9\u001b[0m     ================================================================\n",
      "======================================================     with example \u001b[91;1mwhatinside(fu)\u001b[0m     =======================================================\n",
      "\n",
      "\u001b[93;1mprint selected srcline with expands below\u001b[0m--------\n",
      "             ):                                                                                                                                         (7)\n",
      "    'Check what inside a module: `__all__`, functions, classes, builtins, and callables'                                                                (8)\n",
      "    dun_all = len(mo.__all__) if hasattr(mo, \"__all__\") else 0==========================================================================================(9)\n",
      "                                                                                                                            \u001b[91;1mhow many items inside mo.__all__?\u001b[0m\n",
      "    funcs = inspect.getmembers(mo, inspect.isfunction)                                                                                                  (10)\n",
      "    classes = inspect.getmembers(mo, inspect.isclass)                                                                                                   (11)\n",
      "\n",
      "==================================================================================================================\u001b[91;1mStart of my srcline exploration:\u001b[0m\n",
      "\n",
      "\n",
      "                                                           mo => mo : <module 'fastdebug.utils' from '/Users/Natsume/Documents/fastdebug/fastdebug/utils.py'>\n",
      "\n",
      "\n",
      "if hasattr(mo, '__all__'):\n",
      "    print(f'mo: {mo}')\n",
      "    print(f'mo.__all__: {mo.__all__}')\n",
      "    print(f'len(mo.__all__): {len(mo.__all__)}')                    \n",
      "                                                                                                                                  Running your code block => \n",
      "The code block printout => : \n",
      "mo: <module 'fastdebug.utils' from '/Users/Natsume/Documents/fastdebug/fastdebug/utils.py'>\n",
      "mo.__all__: ['whatinside', 'whichversion', 'tstenv']\n",
      "len(mo.__all__): 3\n",
      "====================================================================================================================\u001b[91;1mEnd of my srcline exploration:\u001b[0m\n",
      "\n",
      "fastdebug.utils has: \n",
      "3 items in its __all__, and \n",
      "8 user defined functions, \n",
      "0 classes or class objects, \n",
      "0 builtin funcs and methods, and\n",
      "8 callables.\n",
      "\n",
      "\n",
      "\u001b[93;1mReview srcode with all comments added so far\u001b[0m======================================================================================================\n",
      "def whatinside(mo, # module, e.g., `import fastcore.all as fa`, use `fa` here=============(0)       \n",
      "               dun:bool=False, # print all items in __all__===============================(1)       \n",
      "               func:bool=False, # print all user defined functions========================(2)       \n",
      "               clas:bool=False, # print all class objects=================================(3)       \n",
      "               bltin:bool=False, # print all builtin funcs or methods=====================(4)       \n",
      "               lib:bool=False, # print all the modules of the library it belongs to=======(5)       \n",
      "               cal:bool=False # print all callables=======================================(6)       \n",
      "             ): ==========================================================================(7)       \n",
      "    'Check what inside a module: `__all__`, functions, classes, builtins, and callables'==(8)       \n",
      "    dun_all = len(mo.__all__) if hasattr(mo, \"__all__\") else 0============================(9) # spot 0: \u001b[36;1mhow many items inside mo.__all__?\u001b[0m\n",
      "    funcs = inspect.getmembers(mo, inspect.isfunction)====================================(10)      \n",
      "    classes = inspect.getmembers(mo, inspect.isclass)=====================================(11)      \n",
      "    builtins = inspect.getmembers(mo, inspect.isbuiltin)==================================(12)      \n",
      "    callables = inspect.getmembers(mo, callable)==========================================(13)      \n",
      "    pkgpath = os.path.dirname(mo.__file__)================================================(14)      \n",
      "    print(f\"{mo.__name__} has: \\n{dun_all} items in its __all__, and \\n{len(funcs)} user defined functions, \\n{len(classes)} classes or class objects, \\n{len(builtins)} builtin funcs and methods, and\\n{len(callables)} callables.\\n\")  (15)\n",
      "    if hasattr(mo, \"__all__\") and dun: pprint(mo.__all__)=================================(16)      \n",
      "    if func: =============================================================================(17)      \n",
      "        print(f'The user defined functions are:')=========================================(18)      \n",
      "        pprint([i[0] for i in funcs])=====================================================(19)      \n",
      "    if clas: =============================================================================(20)      \n",
      "        print(f'The class objects are:')==================================================(21)      \n",
      "        pprint([i[0] for i in classes])===================================================(22)      \n",
      "    if bltin: ============================================================================(23)      \n",
      "        print(f'The builtin functions or methods are:')===================================(24)      \n",
      "        pprint([i[0] for i in builtins])==================================================(25)      \n",
      "    if cal: ==============================================================================(26)      \n",
      "        print(f'The callables are: ')=====================================================(27)      \n",
      "        pprint([i[0] for i in callables])=================================================(28)      \n",
      "    if lib: ==============================================================================(29)      \n",
      "        modules = [name for _, name, _ in pkgutil.iter_modules([pkgpath])]================(30)      \n",
      "        print(f'The library has {len(modules)} modules')==================================(31)      \n",
      "        pprint(modules)===================================================================(32)      \n",
      "                                                                                                                                     part No.1 out of 2 parts\n",
      "\n"
     ]
    }
   ],
   "source": [
    "#| column: screen\n",
    "fdb.docsrc(9, \"how many items inside mo.__all__?\", \"mo\", \\\n",
    "\"if hasattr(mo, '__all__'):\\\\n\\\n",
    "    print(f'mo: {mo}')\\\\n\\\n",
    "    print(f'mo.__all__: {mo.__all__}')\\\\n\\\n",
    "    print(f'len(mo.__all__): {len(mo.__all__)}')\") "
   ]
  },
  {
   "cell_type": "code",
   "execution_count": 22,
   "metadata": {},
   "outputs": [
    {
     "name": "stdout",
     "output_type": "stream",
     "text": [
      "========================================================     Investigating \u001b[91;1mwhatinside\u001b[0m     ========================================================\n",
      "===============================================================     on line \u001b[91;1m10\u001b[0m     ===============================================================\n",
      "======================================================     with example \u001b[91;1mself.dbsrc(fu)\u001b[0m     =======================================================\n",
      "\n",
      "\u001b[93;1mprint selected srcline with expands below\u001b[0m--------\n",
      "    'Check what inside a module: `__all__`, functions, classes, builtins, and callables'                                                                (8)\n",
      "    dun_all = len(mo.__all__) if hasattr(mo, \"__all__\") else 0                                                                                          (9)\n",
      "    funcs = inspect.getmembers(mo, inspect.isfunction)==================================================================================================(10)\n",
      "                                                                                                                                    \u001b[91;1mget all funcs of a module\u001b[0m\n",
      "    classes = inspect.getmembers(mo, inspect.isclass)                                                                                                   (11)\n",
      "    builtins = inspect.getmembers(mo, inspect.isbuiltin)                                                                                                (12)\n",
      "\n",
      "==================================================================================================================\u001b[91;1mStart of my srcline exploration:\u001b[0m\n",
      "\n",
      "\n",
      "                                                           mo => mo : <module 'fastdebug.utils' from '/Users/Natsume/Documents/fastdebug/fastdebug/utils.py'>\n",
      "\n",
      "\n",
      "inspect.getdoc(inspect.isfunction) => inspect.getdoc(inspect.isfunction) : Return true if the object is a user-defined function.\n",
      "\n",
      "Function objects provide these attributes:\n",
      "    __doc__         documentation string\n",
      "    __name__        name with which this function was defined\n",
      "    __code__        code object containing compiled function bytecode\n",
      "    __defaults__    tuple of any default values for arguments\n",
      "    __globals__     global namespace in which this function was defined\n",
      "    __annotations__ dict of parameter annotations\n",
      "    __kwdefaults__  dict of keyword only parameters with defaults\n",
      "\n",
      "\n",
      "inspect.getdoc(inspect.getmembers) => inspect.getdoc(inspect.getmembers) : Return all members of an object as (name, value) pairs sorted by name.\n",
      "Optionally, only return members that satisfy a given predicate.\n",
      "\n",
      "\n",
      "funcs = inspect.getmembers(mo, inspect.isfunction) => funcs: [('distribution', <function distribution at 0x104338af0>), ('metadata', <function metadata at 0x104364c10>), ('pprint', <function pprint at 0x1019f7280>), ('python_version', <function python_version at 0x1016bed30>), ('tstenv', <function tstenv at 0x104338b80>), ('version', <function version at 0x104364ca0>), ('whatinside', <function whatinside at 0x104338940>), ('whichversion', <function whichversion at 0x104338a60>)]\n",
      "====================================================================================================================\u001b[91;1mEnd of my srcline exploration:\u001b[0m\n",
      "\n",
      "fastdebug.utils has: \n",
      "3 items in its __all__, and \n",
      "8 user defined functions, \n",
      "0 classes or class objects, \n",
      "0 builtin funcs and methods, and\n",
      "8 callables.\n",
      "\n",
      "\n",
      "\u001b[93;1mReview srcode with all comments added so far\u001b[0m======================================================================================================\n",
      "def whatinside(mo, # module, e.g., `import fastcore.all as fa`, use `fa` here=============(0)       \n",
      "               dun:bool=False, # print all items in __all__===============================(1)       \n",
      "               func:bool=False, # print all user defined functions========================(2)       \n",
      "               clas:bool=False, # print all class objects=================================(3)       \n",
      "               bltin:bool=False, # print all builtin funcs or methods=====================(4)       \n",
      "               lib:bool=False, # print all the modules of the library it belongs to=======(5)       \n",
      "               cal:bool=False # print all callables=======================================(6)       \n",
      "             ): ==========================================================================(7)       \n",
      "    'Check what inside a module: `__all__`, functions, classes, builtins, and callables'==(8)       \n",
      "    dun_all = len(mo.__all__) if hasattr(mo, \"__all__\") else 0============================(9) # spot 0: \u001b[34;1mhow many items inside mo.__all__?\u001b[0m\n",
      "    funcs = inspect.getmembers(mo, inspect.isfunction)====================================(10) # spot 1: \u001b[34;1mget all funcs of a module\u001b[0m\n",
      "    classes = inspect.getmembers(mo, inspect.isclass)=====================================(11)      \n",
      "    builtins = inspect.getmembers(mo, inspect.isbuiltin)==================================(12)      \n",
      "    callables = inspect.getmembers(mo, callable)==========================================(13)      \n",
      "    pkgpath = os.path.dirname(mo.__file__)================================================(14)      \n",
      "    print(f\"{mo.__name__} has: \\n{dun_all} items in its __all__, and \\n{len(funcs)} user defined functions, \\n{len(classes)} classes or class objects, \\n{len(builtins)} builtin funcs and methods, and\\n{len(callables)} callables.\\n\")  (15)\n",
      "    if hasattr(mo, \"__all__\") and dun: pprint(mo.__all__)=================================(16)      \n",
      "    if func: =============================================================================(17)      \n",
      "        print(f'The user defined functions are:')=========================================(18)      \n",
      "        pprint([i[0] for i in funcs])=====================================================(19)      \n",
      "    if clas: =============================================================================(20)      \n",
      "        print(f'The class objects are:')==================================================(21)      \n",
      "        pprint([i[0] for i in classes])===================================================(22)      \n",
      "    if bltin: ============================================================================(23)      \n",
      "        print(f'The builtin functions or methods are:')===================================(24)      \n",
      "        pprint([i[0] for i in builtins])==================================================(25)      \n",
      "    if cal: ==============================================================================(26)      \n",
      "        print(f'The callables are: ')=====================================================(27)      \n",
      "        pprint([i[0] for i in callables])=================================================(28)      \n",
      "    if lib: ==============================================================================(29)      \n",
      "        modules = [name for _, name, _ in pkgutil.iter_modules([pkgpath])]================(30)      \n",
      "        print(f'The library has {len(modules)} modules')==================================(31)      \n",
      "        pprint(modules)===================================================================(32)      \n",
      "                                                                                                                                     part No.1 out of 2 parts\n",
      "\n"
     ]
    }
   ],
   "source": [
    "#| column: screen\n",
    "dbsrc = fdb.docsrc(10, \"get all funcs of a module\", \"mo\", \"inspect.getdoc(inspect.isfunction)\", \\\n",
    "            \"inspect.getdoc(inspect.getmembers)\", \"funcs = inspect.getmembers(mo, inspect.isfunction)\")"
   ]
  },
  {
   "cell_type": "markdown",
   "metadata": {},
   "source": [
    "### If I find the src is too long, and I customize the print out of src the way I like"
   ]
  },
  {
   "cell_type": "code",
   "execution_count": 23,
   "metadata": {},
   "outputs": [
    {
     "name": "stdout",
     "output_type": "stream",
     "text": [
      "def whatinside(mo, # module, e.g., `import fastcore.all as fa`, use `fa` here=============(0)       \n",
      "               dun:bool=False, # print all items in __all__===============================(1)       \n",
      "               func:bool=False, # print all user defined functions========================(2)       \n",
      "               clas:bool=False, # print all class objects=================================(3)       \n",
      "               bltin:bool=False, # print all builtin funcs or methods=====================(4)       \n",
      "               lib:bool=False, # print all the modules of the library it belongs to=======(5)       \n",
      "               cal:bool=False # print all callables=======================================(6)       \n",
      "             ): ==========================================================================(7)       \n",
      "    'Check what inside a module: `__all__`, functions, classes, builtins, and callables'==(8)       \n",
      "    dun_all = len(mo.__all__) if hasattr(mo, \"__all__\") else 0============================(9) # spot 0: \u001b[35;1mhow many items inside mo.__all__?\u001b[0m\n",
      "    funcs = inspect.getmembers(mo, inspect.isfunction)====================================(10) # spot 1: \u001b[35;1mget all funcs of a module\u001b[0m\n",
      "    classes = inspect.getmembers(mo, inspect.isclass)=====================================(11)      \n",
      "    builtins = inspect.getmembers(mo, inspect.isbuiltin)==================================(12)      \n",
      "    callables = inspect.getmembers(mo, callable)==========================================(13)      \n",
      "    pkgpath = os.path.dirname(mo.__file__)================================================(14)      \n",
      "                                                                                                                                     part No.1 out of 2 parts\n"
     ]
    }
   ],
   "source": [
    "#| column: screen\n",
    "fdb.print(maxlines=15, part=1)"
   ]
  },
  {
   "cell_type": "markdown",
   "metadata": {},
   "source": [
    "### I can write a block of codes to evaluate"
   ]
  },
  {
   "cell_type": "code",
   "execution_count": 24,
   "metadata": {},
   "outputs": [],
   "source": [
    "import fastcore.meta as core"
   ]
  },
  {
   "cell_type": "code",
   "execution_count": 25,
   "metadata": {},
   "outputs": [
    {
     "name": "stdout",
     "output_type": "stream",
     "text": [
      "========================================================     Investigating \u001b[91;1mwhatinside\u001b[0m     ========================================================\n",
      "===============================================================     on line \u001b[91;1m11\u001b[0m     ===============================================================\n",
      "=====================================================     with example \u001b[91;1mwhatinside(core)\u001b[0m     ======================================================\n",
      "\n",
      "\u001b[93;1mprint selected srcline with expands below\u001b[0m--------\n",
      "    dun_all = len(mo.__all__) if hasattr(mo, \"__all__\") else 0                                                                                          (9)\n",
      "    funcs = inspect.getmembers(mo, inspect.isfunction)                                                                                                  (10)\n",
      "    classes = inspect.getmembers(mo, inspect.isclass)===================================================================================================(11)\n",
      "                                                                                                                              \u001b[91;1mget all classes from the module\u001b[0m\n",
      "    builtins = inspect.getmembers(mo, inspect.isbuiltin)                                                                                                (12)\n",
      "    callables = inspect.getmembers(mo, callable)                                                                                                        (13)\n",
      "\n",
      "==================================================================================================================\u001b[91;1mStart of my srcline exploration:\u001b[0m\n",
      "\n",
      "\n",
      "clas = inspect.getmembers(mo, inspect.isclass)\n",
      "for c in clas:\n",
      "    print(c)                                                                                   \n",
      "                                                                                                                                  Running your code block => \n",
      "The code block printout => : \n",
      "('AutoInit', <class 'fastcore.meta.AutoInit'>)\n",
      "('BuiltinFunctionType', <class 'builtin_function_or_method'>)\n",
      "('BuiltinMethodType', <class 'builtin_function_or_method'>)\n",
      "('BypassNewMeta', <class 'fastcore.meta.BypassNewMeta'>)\n",
      "('ExceptionExpected', <class 'fastcore.test.ExceptionExpected'>)\n",
      "('FixSigMeta', <class 'fastcore.meta.FixSigMeta'>)\n",
      "('FunctionType', <class 'function'>)\n",
      "('MethodDescriptorType', <class 'method_descriptor'>)\n",
      "('MethodType', <class 'method'>)\n",
      "('MethodWrapperType', <class 'method-wrapper'>)\n",
      "('NewChkMeta', <class 'fastcore.meta.NewChkMeta'>)\n",
      "('NoneType', <class 'NoneType'>)\n",
      "('Path', <class 'pathlib.Path'>)\n",
      "('PrePostInitMeta', <class 'fastcore.meta.PrePostInitMeta'>)\n",
      "('SimpleNamespace', <class 'types.SimpleNamespace'>)\n",
      "('WrapperDescriptorType', <class 'wrapper_descriptor'>)\n",
      "('attrgetter', <class 'operator.attrgetter'>)\n",
      "('itemgetter', <class 'operator.itemgetter'>)\n",
      "('partial', <class 'functools.partial'>)\n",
      "====================================================================================================================\u001b[91;1mEnd of my srcline exploration:\u001b[0m\n",
      "\n",
      "fastcore.meta has: \n",
      "13 items in its __all__, and \n",
      "43 user defined functions, \n",
      "19 classes or class objects, \n",
      "2 builtin funcs and methods, and\n",
      "74 callables.\n",
      "\n",
      "\n",
      "\u001b[93;1mReview srcode with all comments added so far\u001b[0m======================================================================================================\n",
      "def whatinside(mo, # module, e.g., `import fastcore.all as fa`, use `fa` here=============(0)       \n",
      "               dun:bool=False, # print all items in __all__===============================(1)       \n",
      "               func:bool=False, # print all user defined functions========================(2)       \n",
      "               clas:bool=False, # print all class objects=================================(3)       \n",
      "               bltin:bool=False, # print all builtin funcs or methods=====================(4)       \n",
      "               lib:bool=False, # print all the modules of the library it belongs to=======(5)       \n",
      "               cal:bool=False # print all callables=======================================(6)       \n",
      "             ): ==========================================================================(7)       \n",
      "    'Check what inside a module: `__all__`, functions, classes, builtins, and callables'==(8)       \n",
      "    dun_all = len(mo.__all__) if hasattr(mo, \"__all__\") else 0============================(9) # spot 0: \u001b[36;1mhow many items inside mo.__all__?\u001b[0m\n",
      "    funcs = inspect.getmembers(mo, inspect.isfunction)====================================(10) # spot 1: \u001b[36;1mget all funcs of a module\u001b[0m\n",
      "    classes = inspect.getmembers(mo, inspect.isclass)=====================================(11) # spot 2: \u001b[36;1mget all classes from the module\u001b[0m\n",
      "    builtins = inspect.getmembers(mo, inspect.isbuiltin)==================================(12)      \n",
      "    callables = inspect.getmembers(mo, callable)==========================================(13)      \n",
      "    pkgpath = os.path.dirname(mo.__file__)================================================(14)      \n",
      "    print(f\"{mo.__name__} has: \\n{dun_all} items in its __all__, and \\n{len(funcs)} user defined functions, \\n{len(classes)} classes or class objects, \\n{len(builtins)} builtin funcs and methods, and\\n{len(callables)} callables.\\n\")  (15)\n",
      "    if hasattr(mo, \"__all__\") and dun: pprint(mo.__all__)=================================(16)      \n",
      "    if func: =============================================================================(17)      \n",
      "        print(f'The user defined functions are:')=========================================(18)      \n",
      "        pprint([i[0] for i in funcs])=====================================================(19)      \n",
      "    if clas: =============================================================================(20)      \n",
      "        print(f'The class objects are:')==================================================(21)      \n",
      "        pprint([i[0] for i in classes])===================================================(22)      \n",
      "    if bltin: ============================================================================(23)      \n",
      "        print(f'The builtin functions or methods are:')===================================(24)      \n",
      "        pprint([i[0] for i in builtins])==================================================(25)      \n",
      "    if cal: ==============================================================================(26)      \n",
      "        print(f'The callables are: ')=====================================================(27)      \n",
      "        pprint([i[0] for i in callables])=================================================(28)      \n",
      "    if lib: ==============================================================================(29)      \n",
      "        modules = [name for _, name, _ in pkgutil.iter_modules([pkgpath])]================(30)      \n",
      "        print(f'The library has {len(modules)} modules')==================================(31)      \n",
      "        pprint(modules)===================================================================(32)      \n",
      "                                                                                                                                     part No.1 out of 2 parts\n",
      "\n"
     ]
    }
   ],
   "source": [
    "#| column: screen\n",
    "# fdb.takExample(\"whatinside(core)\", whatinside=whatinside, core=core)\n",
    "fdb.eg = \"whatinside(core)\"\n",
    "dbsrc = fdb.docsrc(11, \"get all classes from the module\", \\\n",
    "\"clas = inspect.getmembers(mo, inspect.isclass)\\\\n\\\n",
    "for c in clas:\\\\n\\\n",
    "    print(c)\")"
   ]
  },
  {
   "cell_type": "code",
   "execution_count": 26,
   "metadata": {},
   "outputs": [
    {
     "name": "stdout",
     "output_type": "stream",
     "text": [
      "========================================================     Investigating \u001b[91;1mwhatinside\u001b[0m     ========================================================\n",
      "===============================================================     on line \u001b[91;1m14\u001b[0m     ===============================================================\n",
      "=====================================================     with example \u001b[91;1mself.dbsrc(core)\u001b[0m     ======================================================\n",
      "\n",
      "\u001b[93;1mprint selected srcline with expands below\u001b[0m--------\n",
      "    builtins = inspect.getmembers(mo, inspect.isbuiltin)                                                                                                (12)\n",
      "    callables = inspect.getmembers(mo, callable)                                                                                                        (13)\n",
      "    pkgpath = os.path.dirname(mo.__file__)==============================================================================================================(14)\n",
      "                                                                                                                              \u001b[91;1mget the file path of the module\u001b[0m\n",
      "    print(f\"{mo.__name__} has: \\n{dun_all} items in its __all__, and \\n{len(funcs)} user defined functions, \\n{len(classes)} classes or class objects, \\n{len(builtins)} builtin funcs and methods, and\\n{len(callables)} callables.\\n\")  (15)\n",
      "    if hasattr(mo, \"__all__\") and dun: pprint(mo.__all__)                                                                                               (16)\n",
      "\n",
      "==================================================================================================================\u001b[91;1mStart of my srcline exploration:\u001b[0m\n",
      "\n",
      "\n",
      "                                                          mo.__file__ => mo.__file__ : /Users/Natsume/mambaforge/lib/python3.9/site-packages/fastcore/meta.py\n",
      "\n",
      "\n",
      "                                           inspect.getdoc(os.path.dirname) => inspect.getdoc(os.path.dirname) : Returns the directory component of a pathname\n",
      "\n",
      "\n",
      "                                            pkgpath = os.path.dirname(mo.__file__) => pkgpath: /Users/Natsume/mambaforge/lib/python3.9/site-packages/fastcore\n",
      "====================================================================================================================\u001b[91;1mEnd of my srcline exploration:\u001b[0m\n",
      "\n",
      "fastcore.meta has: \n",
      "13 items in its __all__, and \n",
      "43 user defined functions, \n",
      "19 classes or class objects, \n",
      "2 builtin funcs and methods, and\n",
      "74 callables.\n",
      "\n",
      "\n",
      "\u001b[93;1mReview srcode with all comments added so far\u001b[0m======================================================================================================\n",
      "def whatinside(mo, # module, e.g., `import fastcore.all as fa`, use `fa` here=============(0)       \n",
      "               dun:bool=False, # print all items in __all__===============================(1)       \n",
      "               func:bool=False, # print all user defined functions========================(2)       \n",
      "               clas:bool=False, # print all class objects=================================(3)       \n",
      "               bltin:bool=False, # print all builtin funcs or methods=====================(4)       \n",
      "               lib:bool=False, # print all the modules of the library it belongs to=======(5)       \n",
      "               cal:bool=False # print all callables=======================================(6)       \n",
      "             ): ==========================================================================(7)       \n",
      "    'Check what inside a module: `__all__`, functions, classes, builtins, and callables'==(8)       \n",
      "    dun_all = len(mo.__all__) if hasattr(mo, \"__all__\") else 0============================(9) # spot 0: \u001b[34;1mhow many items inside mo.__all__?\u001b[0m\n",
      "    funcs = inspect.getmembers(mo, inspect.isfunction)====================================(10) # spot 1: \u001b[34;1mget all funcs of a module\u001b[0m\n",
      "    classes = inspect.getmembers(mo, inspect.isclass)=====================================(11) # spot 2: \u001b[34;1mget all classes from the module\u001b[0m\n",
      "    builtins = inspect.getmembers(mo, inspect.isbuiltin)==================================(12)      \n",
      "    callables = inspect.getmembers(mo, callable)==========================================(13)      \n",
      "    pkgpath = os.path.dirname(mo.__file__)================================================(14) # spot 3: \u001b[34;1mget the file path of the module\u001b[0m\n",
      "    print(f\"{mo.__name__} has: \\n{dun_all} items in its __all__, and \\n{len(funcs)} user defined functions, \\n{len(classes)} classes or class objects, \\n{len(builtins)} builtin funcs and methods, and\\n{len(callables)} callables.\\n\")  (15)\n",
      "    if hasattr(mo, \"__all__\") and dun: pprint(mo.__all__)=================================(16)      \n",
      "    if func: =============================================================================(17)      \n",
      "        print(f'The user defined functions are:')=========================================(18)      \n",
      "        pprint([i[0] for i in funcs])=====================================================(19)      \n",
      "    if clas: =============================================================================(20)      \n",
      "        print(f'The class objects are:')==================================================(21)      \n",
      "        pprint([i[0] for i in classes])===================================================(22)      \n",
      "    if bltin: ============================================================================(23)      \n",
      "        print(f'The builtin functions or methods are:')===================================(24)      \n",
      "        pprint([i[0] for i in builtins])==================================================(25)      \n",
      "    if cal: ==============================================================================(26)      \n",
      "        print(f'The callables are: ')=====================================================(27)      \n",
      "        pprint([i[0] for i in callables])=================================================(28)      \n",
      "    if lib: ==============================================================================(29)      \n",
      "        modules = [name for _, name, _ in pkgutil.iter_modules([pkgpath])]================(30)      \n",
      "        print(f'The library has {len(modules)} modules')==================================(31)      \n",
      "        pprint(modules)===================================================================(32)      \n",
      "                                                                                                                                     part No.1 out of 2 parts\n",
      "\n"
     ]
    }
   ],
   "source": [
    "#| column: screen\n",
    "dbsrc = fdb.docsrc(14, \"get the file path of the module\", \"mo.__file__\", \"inspect.getdoc(os.path.dirname)\", \"pkgpath = os.path.dirname(mo.__file__)\")"
   ]
  },
  {
   "cell_type": "code",
   "execution_count": 27,
   "metadata": {
    "scrolled": false
   },
   "outputs": [
    {
     "name": "stdout",
     "output_type": "stream",
     "text": [
      "========================================================     Investigating \u001b[91;1mwhatinside\u001b[0m     ========================================================\n",
      "===============================================================     on line \u001b[91;1m30\u001b[0m     ===============================================================\n",
      "================================================     with example \u001b[91;1mwhatinside(core, lib=True)\u001b[0m     =================================================\n",
      "\n",
      "\u001b[93;1mprint selected srcline with expands below\u001b[0m--------\n",
      "        pprint([i[0] for i in callables])                                                                                                               (28)\n",
      "    if lib:                                                                                                                                             (29)\n",
      "        modules = [name for _, name, _ in pkgutil.iter_modules([pkgpath])]==============================================================================(30)\n",
      "                                                                                                                            \u001b[91;1mget names of all modules of a lib\u001b[0m\n",
      "        print(f'The library has {len(modules)} modules')                                                                                                (31)\n",
      "        pprint(modules)                                                                                                                                 (32)\n",
      "globals(): ['__name__', '__doc__', '__package__', '__loader__', '__spec__', '__file__', '__cached__', '__builtins__', '__all__', 'defaults', 'pprint', 'inspect', 'null', 'num_methods', 'rnum_methods', 'inum_methods', 'arg0', 'arg1', 'arg2', 'arg3', 'arg4', 'Self', 'ifnone', 'maybe_attr', 'basic_repr', 'is_array', 'listify', 'tuplify', 'true', 'NullType', 'tonull', 'get_class', 'mk_class', 'wrap_class', 'ignore_exceptions', 'exec_local', 'risinstance', 'Inf', 'in_', 'ret_true', 'ret_false', 'stop', 'gen', 'chunked', 'otherwise', 'custom_dir', 'AttrDict', 'get_annotations_ex', 'eval_type', 'type_hints', 'annotations', 'anno_ret', 'signature_ex', 'union2tuple', 'argnames', 'with_cast', 'store_attr', 'attrdict', 'properties', 'camel2words', 'camel2snake', 'snake2camel', 'class2attr', 'getcallable', 'getattrs', 'hasattrs', 'setattrs', 'try_attrs', 'GetAttrBase', 'GetAttr', 'delegate_attr', 'ShowPrint', 'Int', 'Str', 'Float', 'flatten', 'concat', 'strcat', 'detuplify', 'replicate', 'setify', 'merge', 'range_of', 'groupby', 'last_index', 'filter_dict', 'filter_keys', 'filter_values', 'cycle', 'zip_cycle', 'sorted_ex', 'not_', 'argwhere', 'filter_ex', 'renumerate', 'first', 'only', 'nested_attr', 'nested_setdefault', 'nested_callable', 'nested_idx', 'set_nested_idx', 'val2idx', 'uniqueify', 'loop_first_last', 'loop_first', 'loop_last', 'fastuple', 'bind', 'mapt', 'map_ex', 'compose', 'maps', 'partialler', 'instantiate', 'using_attr', 'copy_func', 'patch_to', 'patch', 'patch_property', 'compile_re', 'ImportEnum', 'StrEnum', 'str_enum', 'Stateful', 'PrettyString', 'even_mults', 'num_cpus', 'add_props', 'typed', 'exec_new', 'exec_import', 'str2bool', 'lt', 'gt', 'le', 'ge', 'eq', 'ne', 'add', 'sub', 'mul', 'truediv', 'is_', 'is_not', 'dbcolors', 'random', 'randomColor', 'colorize', 're', 'strip_ansi', 'alignright', 'printsrclinewithidx', 'printsrc', 'ast', 'dbprintinsert', 'Fastdb', 'dbprint', 'printtitle', 'docsrc', 'create_dbsrc_from_string', 'create_dbsrc_string', 'replaceWithDbsrc', 'run_example', 'autoprint', 'print', 'goback', 'ipdb', 'explore', 'snoop', 'takeoutExample', 'create_snoop_str', 'create_snoop_from_string', 'reliveonce', 'os', 'pkgutil', 'whatinside', 'version', 'metadata', 'distribution', 'python_version', 'whichversion', 'tstenv', 'self', 'db', 'mo', 'dun', 'func', 'clas', 'bltin', 'lib', 'cal', 'dun_all', 'funcs', 'classes', 'builtins', 'callables']\n",
      "locals(): ['self', 'db']\n",
      "fastcore.meta has: \n",
      "13 items in its __all__, and \n",
      "43 user defined functions, \n",
      "19 classes or class objects, \n",
      "2 builtin funcs and methods, and\n",
      "74 callables.\n",
      "\n",
      "\n",
      "==================================================================================================================\u001b[91;1mStart of my srcline exploration:\u001b[0m\n",
      "\n",
      "\n",
      "                                                                          pkgpath => pkgpath : /Users/Natsume/mambaforge/lib/python3.9/site-packages/fastcore\n",
      "\n",
      "\n",
      "inspect.getdoc(pkgutil.iter_modules) => inspect.getdoc(pkgutil.iter_modules) : Yields ModuleInfo for all submodules on path,\n",
      "or, if path is None, all top-level modules on sys.path.\n",
      "\n",
      "'path' should be either None or a list of paths to look for\n",
      "modules in.\n",
      "\n",
      "'prefix' is a string to output on the front of every module name\n",
      "on output.\n",
      "\n",
      "\n",
      "for a, b, c in pkgutil.iter_modules([pkgpath]):\n",
      "    print(f'{a} ; {b}; {c}')                                                                                 \n",
      "                                                                                                                                  Running your code block => \n",
      "The code block printout => : \n",
      "FileFinder('/Users/Natsume/mambaforge/lib/python3.9/site-packages/fastcore') ; _modidx; False\n",
      "FileFinder('/Users/Natsume/mambaforge/lib/python3.9/site-packages/fastcore') ; _nbdev; False\n",
      "FileFinder('/Users/Natsume/mambaforge/lib/python3.9/site-packages/fastcore') ; all; False\n",
      "FileFinder('/Users/Natsume/mambaforge/lib/python3.9/site-packages/fastcore') ; basics; False\n",
      "FileFinder('/Users/Natsume/mambaforge/lib/python3.9/site-packages/fastcore') ; dispatch; False\n",
      "FileFinder('/Users/Natsume/mambaforge/lib/python3.9/site-packages/fastcore') ; docments; False\n",
      "FileFinder('/Users/Natsume/mambaforge/lib/python3.9/site-packages/fastcore') ; docscrape; False\n",
      "FileFinder('/Users/Natsume/mambaforge/lib/python3.9/site-packages/fastcore') ; foundation; False\n",
      "FileFinder('/Users/Natsume/mambaforge/lib/python3.9/site-packages/fastcore') ; imports; False\n",
      "FileFinder('/Users/Natsume/mambaforge/lib/python3.9/site-packages/fastcore') ; meta; False\n",
      "FileFinder('/Users/Natsume/mambaforge/lib/python3.9/site-packages/fastcore') ; nb_imports; False\n",
      "FileFinder('/Users/Natsume/mambaforge/lib/python3.9/site-packages/fastcore') ; net; False\n",
      "FileFinder('/Users/Natsume/mambaforge/lib/python3.9/site-packages/fastcore') ; parallel; False\n",
      "FileFinder('/Users/Natsume/mambaforge/lib/python3.9/site-packages/fastcore') ; script; False\n",
      "FileFinder('/Users/Natsume/mambaforge/lib/python3.9/site-packages/fastcore') ; shutil; False\n",
      "FileFinder('/Users/Natsume/mambaforge/lib/python3.9/site-packages/fastcore') ; style; False\n",
      "FileFinder('/Users/Natsume/mambaforge/lib/python3.9/site-packages/fastcore') ; test; False\n",
      "FileFinder('/Users/Natsume/mambaforge/lib/python3.9/site-packages/fastcore') ; transform; False\n",
      "FileFinder('/Users/Natsume/mambaforge/lib/python3.9/site-packages/fastcore') ; utils; False\n",
      "FileFinder('/Users/Natsume/mambaforge/lib/python3.9/site-packages/fastcore') ; xdg; False\n",
      "FileFinder('/Users/Natsume/mambaforge/lib/python3.9/site-packages/fastcore') ; xtras; False\n",
      "====================================================================================================================\u001b[91;1mEnd of my srcline exploration:\u001b[0m\n",
      "\n",
      "The library has 21 modules\n",
      "['_modidx',\n",
      " '_nbdev',\n",
      " 'all',\n",
      " 'basics',\n",
      " 'dispatch',\n",
      " 'docments',\n",
      " 'docscrape',\n",
      " 'foundation',\n",
      " 'imports',\n",
      " 'meta',\n",
      " 'nb_imports',\n",
      " 'net',\n",
      " 'parallel',\n",
      " 'script',\n",
      " 'shutil',\n",
      " 'style',\n",
      " 'test',\n",
      " 'transform',\n",
      " 'utils',\n",
      " 'xdg',\n",
      " 'xtras']\n",
      "\n",
      "\u001b[93;1mReview srcode with all comments added so far\u001b[0m======================================================================================================\n",
      "def whatinside(mo, # module, e.g., `import fastcore.all as fa`, use `fa` here=============(0)       \n",
      "               dun:bool=False, # print all items in __all__===============================(1)       \n",
      "               func:bool=False, # print all user defined functions========================(2)       \n",
      "               clas:bool=False, # print all class objects=================================(3)       \n",
      "               bltin:bool=False, # print all builtin funcs or methods=====================(4)       \n",
      "               lib:bool=False, # print all the modules of the library it belongs to=======(5)       \n",
      "               cal:bool=False # print all callables=======================================(6)       \n",
      "             ): ==========================================================================(7)       \n",
      "    'Check what inside a module: `__all__`, functions, classes, builtins, and callables'==(8)       \n",
      "    dun_all = len(mo.__all__) if hasattr(mo, \"__all__\") else 0============================(9) # spot 0: \u001b[36;1mhow many items inside mo.__all__?\u001b[0m\n",
      "    funcs = inspect.getmembers(mo, inspect.isfunction)====================================(10) # spot 1: \u001b[36;1mget all funcs of a module\u001b[0m\n",
      "    classes = inspect.getmembers(mo, inspect.isclass)=====================================(11) # spot 2: \u001b[36;1mget all classes from the module\u001b[0m\n",
      "    builtins = inspect.getmembers(mo, inspect.isbuiltin)==================================(12)      \n",
      "    callables = inspect.getmembers(mo, callable)==========================================(13)      \n",
      "    pkgpath = os.path.dirname(mo.__file__)================================================(14) # spot 3: \u001b[36;1mget the file path of the module\u001b[0m\n",
      "    print(f\"{mo.__name__} has: \\n{dun_all} items in its __all__, and \\n{len(funcs)} user defined functions, \\n{len(classes)} classes or class objects, \\n{len(builtins)} builtin funcs and methods, and\\n{len(callables)} callables.\\n\")  (15)\n",
      "    if hasattr(mo, \"__all__\") and dun: pprint(mo.__all__)=================================(16)      \n",
      "    if func: =============================================================================(17)      \n",
      "        print(f'The user defined functions are:')=========================================(18)      \n",
      "        pprint([i[0] for i in funcs])=====================================================(19)      \n",
      "    if clas: =============================================================================(20)      \n",
      "        print(f'The class objects are:')==================================================(21)      \n",
      "        pprint([i[0] for i in classes])===================================================(22)      \n",
      "    if bltin: ============================================================================(23)      \n",
      "        print(f'The builtin functions or methods are:')===================================(24)      \n",
      "        pprint([i[0] for i in builtins])==================================================(25)      \n",
      "    if cal: ==============================================================================(26)      \n",
      "        print(f'The callables are: ')=====================================================(27)      \n",
      "        pprint([i[0] for i in callables])=================================================(28)      \n",
      "    if lib: ==============================================================================(29)      \n",
      "        modules = [name for _, name, _ in pkgutil.iter_modules([pkgpath])]================(30) # spot 4: \u001b[36;1mget names of all modules of a lib\u001b[0m\n",
      "        print(f'The library has {len(modules)} modules')==================================(31)      \n",
      "        pprint(modules)===================================================================(32)      \n",
      "                                                                                                                                     part No.1 out of 2 parts\n",
      "\n"
     ]
    }
   ],
   "source": [
    "#| column: screen\n",
    "# fdb.takExample(\"whatinside(core, lib=True)\", whatinside=whatinside, core=core)\n",
    "fdb.eg = \"whatinside(core, lib=True)\"\n",
    "dbsrc = fdb.docsrc(30, \"get names of all modules of a lib\", \"pkgpath\", \"inspect.getdoc(pkgutil.iter_modules)\", \\\n",
    "\"for a, b, c in pkgutil.iter_modules([pkgpath]):\\\\n\\\n",
    "    print(f'{a} ; {b}; {c}')\", db=True)"
   ]
  },
  {
   "cell_type": "markdown",
   "metadata": {},
   "source": [
    "### Print out the entire src with idx and comments, when I finish documenting"
   ]
  },
  {
   "cell_type": "code",
   "execution_count": 28,
   "metadata": {},
   "outputs": [
    {
     "name": "stdout",
     "output_type": "stream",
     "text": [
      "========================================================     Investigating \u001b[91;1mwhatinside\u001b[0m     ========================================================\n",
      "===============================================================     on line \u001b[91;1m30\u001b[0m     ===============================================================\n",
      "================================================     with example \u001b[91;1mself.dbsrc(core, lib=True)\u001b[0m     =================================================\n",
      "\n",
      "def whatinside(mo, # module, e.g., `import fastcore.all as fa`, use `fa` here=============(0)       \n",
      "               dun:bool=False, # print all items in __all__===============================(1)       \n",
      "               func:bool=False, # print all user defined functions========================(2)       \n",
      "               clas:bool=False, # print all class objects=================================(3)       \n",
      "               bltin:bool=False, # print all builtin funcs or methods=====================(4)       \n",
      "               lib:bool=False, # print all the modules of the library it belongs to=======(5)       \n",
      "               cal:bool=False # print all callables=======================================(6)       \n",
      "             ): ==========================================================================(7)       \n",
      "    'Check what inside a module: `__all__`, functions, classes, builtins, and callables'==(8)       \n",
      "    dun_all = len(mo.__all__) if hasattr(mo, \"__all__\") else 0============================(9) # spot 0: \u001b[35;1mhow many items inside mo.__all__?\u001b[0m\n",
      "    funcs = inspect.getmembers(mo, inspect.isfunction)====================================(10) # spot 1: \u001b[35;1mget all funcs of a module\u001b[0m\n",
      "    classes = inspect.getmembers(mo, inspect.isclass)=====================================(11) # spot 2: \u001b[35;1mget all classes from the module\u001b[0m\n",
      "    builtins = inspect.getmembers(mo, inspect.isbuiltin)==================================(12)      \n",
      "    callables = inspect.getmembers(mo, callable)==========================================(13)      \n",
      "    pkgpath = os.path.dirname(mo.__file__)================================================(14) # spot 3: \u001b[35;1mget the file path of the module\u001b[0m\n",
      "    print(f\"{mo.__name__} has: \\n{dun_all} items in its __all__, and \\n{len(funcs)} user defined functions, \\n{len(classes)} classes or class objects, \\n{len(builtins)} builtin funcs and methods, and\\n{len(callables)} callables.\\n\")  (15)\n",
      "    if hasattr(mo, \"__all__\") and dun: pprint(mo.__all__)=================================(16)      \n",
      "    if func: =============================================================================(17)      \n",
      "        print(f'The user defined functions are:')=========================================(18)      \n",
      "        pprint([i[0] for i in funcs])=====================================================(19)      \n",
      "    if clas: =============================================================================(20)      \n",
      "        print(f'The class objects are:')==================================================(21)      \n",
      "        pprint([i[0] for i in classes])===================================================(22)      \n",
      "    if bltin: ============================================================================(23)      \n",
      "        print(f'The builtin functions or methods are:')===================================(24)      \n",
      "        pprint([i[0] for i in builtins])==================================================(25)      \n",
      "    if cal: ==============================================================================(26)      \n",
      "        print(f'The callables are: ')=====================================================(27)      \n",
      "        pprint([i[0] for i in callables])=================================================(28)      \n",
      "    if lib: ==============================================================================(29)      \n",
      "        modules = [name for _, name, _ in pkgutil.iter_modules([pkgpath])]================(30) # spot 4: \u001b[35;1mget names of all modules of a lib\u001b[0m\n",
      "        print(f'The library has {len(modules)} modules')==================================(31)      \n",
      "        pprint(modules)===================================================================(32)      \n",
      "                                                                                                                                                        (33)\n"
     ]
    }
   ],
   "source": [
    "fdb.print()"
   ]
  },
  {
   "cell_type": "code",
   "execution_count": null,
   "metadata": {},
   "outputs": [],
   "source": []
  },
  {
   "cell_type": "markdown",
   "metadata": {},
   "source": [
    "### After running `.dbprint`, everything is back to normal automatically"
   ]
  },
  {
   "cell_type": "code",
   "execution_count": 29,
   "metadata": {},
   "outputs": [
    {
     "data": {
      "text/plain": [
       "'/Users/Natsume/Documents/fastdebug/fastdebug/utils.py'"
      ]
     },
     "execution_count": 29,
     "metadata": {},
     "output_type": "execute_result"
    }
   ],
   "source": [
    "inspect.getsourcefile(fu.whatinside)"
   ]
  },
  {
   "cell_type": "code",
   "execution_count": 30,
   "metadata": {},
   "outputs": [
    {
     "data": {
      "text/plain": [
       "'/Users/Natsume/Documents/fastdebug/fastdebug/utils.py'"
      ]
     },
     "execution_count": 30,
     "metadata": {},
     "output_type": "execute_result"
    }
   ],
   "source": [
    "inspect.getsourcefile(whatinside)"
   ]
  },
  {
   "cell_type": "code",
   "execution_count": null,
   "metadata": {},
   "outputs": [],
   "source": []
  },
  {
   "cell_type": "code",
   "execution_count": null,
   "metadata": {},
   "outputs": [],
   "source": []
  },
  {
   "cell_type": "markdown",
   "metadata": {},
   "source": [
    "To check, when run `whatinside??` we should see the actually source code whereas the db version of `whatinside` does not have."
   ]
  },
  {
   "cell_type": "markdown",
   "metadata": {},
   "source": [
    "## Install"
   ]
  },
  {
   "cell_type": "markdown",
   "metadata": {},
   "source": [
    "```sh\n",
    "pip install fastdebug\n",
    "```"
   ]
  },
  {
   "cell_type": "markdown",
   "metadata": {},
   "source": [
    "## How to use"
   ]
  },
  {
   "cell_type": "markdown",
   "metadata": {},
   "source": [
    "Fill me in please! Don't forget code examples:"
   ]
  },
  {
   "cell_type": "code",
   "execution_count": 31,
   "metadata": {},
   "outputs": [
    {
     "data": {
      "text/plain": [
       "2"
      ]
     },
     "execution_count": 31,
     "metadata": {},
     "output_type": "execute_result"
    }
   ],
   "source": [
    "1+1"
   ]
  },
  {
   "cell_type": "code",
   "execution_count": null,
   "metadata": {},
   "outputs": [],
   "source": []
  }
 ],
 "metadata": {
  "hide_input": false,
  "kernelspec": {
   "display_name": "Python 3 (ipykernel)",
   "language": "python",
   "name": "python3"
  },
  "language_info": {
   "codemirror_mode": {
    "name": "ipython",
    "version": 3
   },
   "file_extension": ".py",
   "mimetype": "text/x-python",
   "name": "python",
   "nbconvert_exporter": "python",
   "pygments_lexer": "ipython3",
   "version": "3.9.13"
  },
  "toc": {
   "base_numbering": 1,
   "nav_menu": {},
   "number_sections": true,
   "sideBar": false,
   "skip_h1_title": false,
   "title_cell": "Table of Contents",
   "title_sidebar": "Contents",
   "toc_cell": false,
   "toc_position": {
    "height": "584px",
    "left": "1152px",
    "top": "185px",
    "width": "288px"
   },
   "toc_section_display": true,
   "toc_window_display": true
  }
 },
 "nbformat": 4,
 "nbformat_minor": 4
}
