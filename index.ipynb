{
 "cells": [
  {
   "cell_type": "markdown",
   "metadata": {},
   "source": [
    "# fastdebug\n",
    "\n",
    "> a little tool to help me explore the source code of fastai libraries"
   ]
  },
  {
   "cell_type": "code",
   "execution_count": null,
   "metadata": {},
   "outputs": [],
   "source": [
    "%load_ext autoreload\n",
    "%autoreload 2"
   ]
  },
  {
   "cell_type": "code",
   "execution_count": null,
   "metadata": {},
   "outputs": [],
   "source": [
    "from IPython.display import display, HTML "
   ]
  },
  {
   "cell_type": "code",
   "execution_count": null,
   "metadata": {},
   "outputs": [
    {
     "data": {
      "text/html": [
       "<style>.container { width:100% !important; }</style>"
      ],
      "text/plain": [
       "<IPython.core.display.HTML object>"
      ]
     },
     "metadata": {},
     "output_type": "display_data"
    }
   ],
   "source": [
    "display(HTML(\"<style>.container { width:100% !important; }</style>\"))"
   ]
  },
  {
   "cell_type": "markdown",
   "metadata": {},
   "source": [
    "## References I use when I explore"
   ]
  },
  {
   "cell_type": "markdown",
   "metadata": {},
   "source": [
    "### fastai style"
   ]
  },
  {
   "cell_type": "markdown",
   "metadata": {},
   "source": [
    "What is the fastai coding [style](https://docs.fast.ai/dev/style.html#style-guide)"
   ]
  },
  {
   "cell_type": "markdown",
   "metadata": {},
   "source": [
    "How to do [abbreviation](https://docs.fast.ai/dev/abbr.html) the fastai way"
   ]
  },
  {
   "cell_type": "markdown",
   "metadata": {},
   "source": [
    "A great example of how fastai libraries can make life more [comfortable](https://www.fast.ai/2019/08/06/delegation/)"
   ]
  },
  {
   "cell_type": "markdown",
   "metadata": {},
   "source": [
    "## What is the motivation behind `fastdebug` library?\n",
    "\n",
    "\n",
    "Please let me show you with a simple example here."
   ]
  },
  {
   "cell_type": "markdown",
   "metadata": {},
   "source": [
    "I have always wanted to explore the wonderful fastai libraries (I am starting with fastcore). I like to learn the fastai coding style, exploratory coding approach in jupyter and of course all the knowledge Jeremy distilled in the fastai libraries :). Even though every fastai function or class is quite short, but for a novice like me every library looks massive. To really make sense of what each line does is certainly a daunting task. So, is it possible to explore the libraries efficiently and joyfully? \n",
    "\n",
    "Are there any nice tools out there can help me explore and even document my learnings along the way? Yes, they are jupyter notebook/lab and ipdb (or visual debugger). However, ipdb and visual debugger felt clunky to me for my exploration and documentation purpose.\n",
    "\n",
    "Therefore, I decided to write a little tool (it becomes fastdebug) to allow me explore and document fastai libraries with ease and joy. Of course, as a beginner I would not dare to try writing a library without the wonderful [nbdev](https://nbdev.fast.ai/) and the amazing team behind it."
   ]
  },
  {
   "cell_type": "markdown",
   "metadata": {},
   "source": [
    "As you should know now, this lib does two things: explore and document source code. Let's start with `Fastdb.explore` first on a simple example. If you would like to see it working on a more complex real world example, I have `fastcore.meta.FixSigMeta` [ready](./FixSigMeta.ipynb) for you.\n",
    "\n",
    "If you find anything confusing or bug-like, please inform me in this forum [post](https://forums.fast.ai/t/hidden-docs-of-fastcore/98455)."
   ]
  },
  {
   "cell_type": "markdown",
   "metadata": {},
   "source": [
    "## `Fastdb.explore`"
   ]
  },
  {
   "cell_type": "markdown",
   "metadata": {},
   "source": [
    "### Why not explore with pure `ipdb.set_trace`?\n",
    "\n",
    "`Fastdb.explore` is a wrapper around `ipdb.set_trace` and make my life easier when I am exploring because:\n",
    "\n",
    "> I don't need to write `from ipdb import set_trace` for every notebook\n",
    "\n",
    "> I don't need to manually open the source code file and scroll down the source code\n",
    "\n",
    "> I don't need to insert `set_trace()` above every line of source code (srcline) I want to start exploring\n",
    "\n",
    "> I don't need to remove `set_trace()` from the source code every time after exploration"
   ]
  },
  {
   "cell_type": "markdown",
   "metadata": {},
   "source": [
    "### How to `Fastdb.explore`?\n",
    "\n",
    "Let's explore the source code of `whatinside` from `fastdebug.utils` using this tool."
   ]
  },
  {
   "cell_type": "code",
   "execution_count": null,
   "metadata": {},
   "outputs": [],
   "source": [
    "from fastdebug.utils import * # for making an example \n",
    "import fastdebug.utils as fu # for making an example \n",
    "from fastcore.test import * \n",
    "import inspect"
   ]
  },
  {
   "cell_type": "code",
   "execution_count": null,
   "metadata": {},
   "outputs": [
    {
     "name": "stdout",
     "output_type": "stream",
     "text": [
      "fastdebug.utils has: \n",
      "3 items in its __all__, and \n",
      "8 user defined functions, \n",
      "0 classes or class objects, \n",
      "0 builtin funcs and methods, and\n",
      "8 callables.\n",
      "\n"
     ]
    }
   ],
   "source": [
    "whatinside(fu) # this is the example we are going to explore whatinside with"
   ]
  },
  {
   "cell_type": "code",
   "execution_count": null,
   "metadata": {},
   "outputs": [],
   "source": [
    "from fastdebug.core import * # Let's import Fastdb and its dependencies"
   ]
  },
  {
   "cell_type": "code",
   "execution_count": null,
   "metadata": {},
   "outputs": [],
   "source": [
    "fdb = Fastdb(whatinside) # first, create an object of Fastdb class, using `whatinside` as param"
   ]
  },
  {
   "cell_type": "code",
   "execution_count": null,
   "metadata": {},
   "outputs": [
    {
     "name": "stdout",
     "output_type": "stream",
     "text": [
      "def whatinside(mo, # module, e.g., `import fastcore.all as fa`, use `fa` here=============(0)       \n",
      "               dun:bool=False, # print all items in __all__===============================(1)       \n",
      "               func:bool=False, # print all user defined functions========================(2)       \n",
      "               clas:bool=False, # print all class objects=================================(3)       \n",
      "               bltin:bool=False, # print all builtin funcs or methods=====================(4)       \n",
      "               lib:bool=False, # print all the modules of the library it belongs to=======(5)       \n",
      "               cal:bool=False # print all callables=======================================(6)       \n",
      "             ): ==========================================================================(7)       \n",
      "    'Check what inside a module: `__all__`, functions, classes, builtins, and callables'==(8)       \n",
      "    dun_all = len(mo.__all__) if hasattr(mo, \"__all__\") else 0============================(9)       \n",
      "    funcs = inspect.getmembers(mo, inspect.isfunction)====================================(10)      \n",
      "    classes = inspect.getmembers(mo, inspect.isclass)=====================================(11)      \n",
      "    builtins = inspect.getmembers(mo, inspect.isbuiltin)==================================(12)      \n",
      "    callables = inspect.getmembers(mo, callable)==========================================(13)      \n",
      "    pkgpath = os.path.dirname(mo.__file__)================================================(14)      \n",
      "    print(f\"{mo.__name__} has: \\n{dun_all} items in its __all__, and \\n{len(funcs)} user defined functions, \\n{len(classes)} classes or class objects, \\n{len(builtins)} builtin funcs and methods, and\\n{len(callables)} callables.\\n\")  (15)\n",
      "    if hasattr(mo, \"__all__\") and dun: pprint(mo.__all__)=================================(16)      \n",
      "    if func: =============================================================================(17)      \n",
      "        print(f'The user defined functions are:')=========================================(18)      \n",
      "        pprint([i[0] for i in funcs])=====================================================(19)      \n",
      "                                                                                                                                     part No.1 out of 2 parts\n"
     ]
    }
   ],
   "source": [
    "# 1. you can view source code in whole or in parts with the length you set, \n",
    "# and it gives you srcline idx so that you can set breakpoint with ease.\n",
    "fdb.print(20,1) "
   ]
  },
  {
   "cell_type": "code",
   "execution_count": null,
   "metadata": {},
   "outputs": [],
   "source": [
    "test_eq(inspect.getsourcefile(whatinside), \"/Users/Natsume/Documents/fastdebug/fastdebug/utils.py\")\n",
    "test_eq(inspect.getsourcefile(fu.whatinside), \"/Users/Natsume/Documents/fastdebug/fastdebug/utils.py\")"
   ]
  },
  {
   "cell_type": "code",
   "execution_count": null,
   "metadata": {},
   "outputs": [
    {
     "name": "stdout",
     "output_type": "stream",
     "text": [
      "\u001b[93mprint selected srcline with expands above\u001b[0m----------\n",
      "\u001b[93mprint out dbsrc\u001b[0m------------------------------------\n",
      "def whatinside(mo, # module, e.g., `import fastcore.all as fa`, use `fa` here---------------------------------------------------------------------------(0)\n",
      "               dun:bool=False, # print all items in __all__---------------------------------------------------------------------------------------------(1)\n",
      "               func:bool=False, # print all user defined functions--------------------------------------------------------------------------------------(2)\n",
      "               clas:bool=False, # print all class objects-----------------------------------------------------------------------------------------------(3)\n",
      "               bltin:bool=False, # print all builtin funcs or methods-----------------------------------------------------------------------------------(4)\n",
      "               lib:bool=False, # print all the modules of the library it belongs to---------------------------------------------------------------------(5)\n",
      "               cal:bool=False # print all callables-----------------------------------------------------------------------------------------------------(6)\n",
      "             ): ----------------------------------------------------------------------------------------------------------------------------------------(7)\n",
      "    'Check what inside a module: `__all__`, functions, classes, builtins, and callables'----------------------------------------------------------------(8)\n",
      "    dun_all = len(mo.__all__) if hasattr(mo, \"__all__\") else 0------------------------------------------------------------------------------------------(9)\n",
      "    funcs = inspect.getmembers(mo, inspect.isfunction)--------------------------------------------------------------------------------------------------(10)\n",
      "    import ipdb; ipdb.set_trace()=======================================================================================================================(db)\n",
      "    classes = inspect.getmembers(mo, inspect.isclass)---------------------------------------------------------------------------------------------------(11)\n",
      "    builtins = inspect.getmembers(mo, inspect.isbuiltin)------------------------------------------------------------------------------------------------(12)\n",
      "    import ipdb; ipdb.set_trace()=======================================================================================================================(db)\n",
      "    callables = inspect.getmembers(mo, callable)--------------------------------------------------------------------------------------------------------(13)\n",
      "    pkgpath = os.path.dirname(mo.__file__)--------------------------------------------------------------------------------------------------------------(14)\n",
      "    print(f\"{mo.__name__} has: \\n{dun_all} items in its __all__, and \\n{len(funcs)} user defined functions, \\n{len(classes)} classes or class objects, \\n{len(builtins)} builtin funcs and methods, and\\n{len(callables)} callables.\\n\")  (15)\n",
      "    import ipdb; ipdb.set_trace()=======================================================================================================================(db)\n",
      "    if hasattr(mo, \"__all__\") and dun: pprint(mo.__all__)-----------------------------------------------------------------------------------------------(16)\n",
      "    if func: -------------------------------------------------------------------------------------------------------------------------------------------(17)\n",
      "        print(f'The user defined functions are:')-------------------------------------------------------------------------------------------------------(18)\n",
      "        pprint([i[0] for i in funcs])-------------------------------------------------------------------------------------------------------------------(19)\n",
      "    if clas: -------------------------------------------------------------------------------------------------------------------------------------------(20)\n",
      "        print(f'The class objects are:')----------------------------------------------------------------------------------------------------------------(21)\n",
      "        pprint([i[0] for i in classes])-----------------------------------------------------------------------------------------------------------------(22)\n",
      "    if bltin: ------------------------------------------------------------------------------------------------------------------------------------------(23)\n",
      "        print(f'The builtin functions or methods are:')-------------------------------------------------------------------------------------------------(24)\n",
      "        pprint([i[0] for i in builtins])----------------------------------------------------------------------------------------------------------------(25)\n",
      "    if cal: --------------------------------------------------------------------------------------------------------------------------------------------(26)\n",
      "        print(f'The callables are: ')-------------------------------------------------------------------------------------------------------------------(27)\n",
      "        pprint([i[0] for i in callables])---------------------------------------------------------------------------------------------------------------(28)\n",
      "    if lib: --------------------------------------------------------------------------------------------------------------------------------------------(29)\n",
      "        modules = [name for _, name, _ in pkgutil.iter_modules([pkgpath])]------------------------------------------------------------------------------(30)\n",
      "        print(f'The library has {len(modules)} modules')------------------------------------------------------------------------------------------------(31)\n",
      "        pprint(modules)---------------------------------------------------------------------------------------------------------------------------------(32)\n",
      "\u001b[93mexec on dbsrc above\u001b[0m--------------------------------\n",
      "locals() keys: ['self', 'idxsrc', 'cmt', 'showdbsrc', 'src', 'dbsrc', 'indent', 'lst', 'srclines', 'idxlst', 'idx', 'l', 'numindent', 'dbcodes', 'totallen', 'lenidx', 'dblst', 'idxsrcline', 'idxcount', 'lenl', 'names', 'file_name', 'f', 'code', 'whatinside']\n",
      "self.orisrc.__name__: whatinside\n",
      "locals()['whatinside']: <function whatinside at 0x103fb3af0>\n",
      "after exec and before self.outenv update, self.outenv['whatinside'] is locals()['whatinside']: False\n",
      "after exec and before self.outenv update, self.orisrc.__name__: whatinside is self.outenv['whatinside']: True\n",
      "after exec and before self.outenv update, self.orisrc.__name__: whatinside is locals()['whatinside']: False\n",
      "after update self.outenv, self.orisrc.__name__: whatinside is self.outenv['whatinside']: False\n",
      "after update self.outenv, self.orisrc.__name__: whatinside is fastdebug.utils.whatinside: False\n",
      "after update self.outenv, self.outenv['whatinside'] is fastdebug.utils.whatinside: True\n",
      "Therefore, to use dbsrc we must use self.outenv['whatinside'], or fastdebug.utils.whatinside\n",
      "\u001b[93mshowdbsrc=End\u001b[0m--------------------------------------\n"
     ]
    }
   ],
   "source": [
    "# 2. after viewing source code, choose a srcline idx to set breakpoint and write down why I want to explore this line\n",
    "fdb.explore([11, 16, 13], \"what is getmembers\", showdbsrc=True) "
   ]
  },
  {
   "cell_type": "code",
   "execution_count": null,
   "metadata": {},
   "outputs": [],
   "source": [
    "# 2. you can set multiple breakpoints from the start if you like (but not necessary)\n",
    "fdb.explore([11, 16, 13], \"what is getmembers\", showdbsrc=True) "
   ]
  },
  {
   "cell_type": "code",
   "execution_count": null,
   "metadata": {
    "hide_input": false
   },
   "outputs": [],
   "source": [
    "test_eq(inspect.getsourcefile(whatinside), \"/Users/Natsume/Documents/fastdebug/fastdebug/utils.py\")\n",
    "test_eq(inspect.getsourcefile(fu.whatinside), \"/tmp/whatinside.py\") # this is the actual source file we are exploring, \n",
    "# so we are using fu.whatinside, not whatinside to run examples"
   ]
  },
  {
   "cell_type": "code",
   "execution_count": null,
   "metadata": {},
   "outputs": [
    {
     "name": "stdout",
     "output_type": "stream",
     "text": [
      "<function save_history at 0x103f195e0>\n",
      "*** SyntaxError: EOF while scanning triple-quoted string literal\n",
      "*** SyntaxError: invalid syntax\n",
      "*** SyntaxError: unmatched ')'\n",
      "*** SyntaxError: invalid syntax\n",
      "*** SyntaxError: EOF while scanning triple-quoted string literal\n",
      "*** IndentationError: expected an indented block\n",
      "*** AttributeError: module 'pdb' has no attribute 'Color'\n",
      "*** AttributeError: module 'pdb' has no attribute 'Color'\n",
      "*** AttributeError: module 'pdb' has no attribute 'Color'\n",
      "> \u001b[0;32m/tmp/whatinside.py\u001b[0m(13)\u001b[0;36mwhatinside\u001b[0;34m()\u001b[0m\n",
      "\u001b[0;32m     12 \u001b[0;31m    \u001b[0;32mimport\u001b[0m \u001b[0mipdb\u001b[0m\u001b[0;34m;\u001b[0m \u001b[0mipdb\u001b[0m\u001b[0;34m.\u001b[0m\u001b[0mset_trace\u001b[0m\u001b[0;34m(\u001b[0m\u001b[0;34m)\u001b[0m\u001b[0;34m\u001b[0m\u001b[0;34m\u001b[0m\u001b[0m\n",
      "\u001b[0m\u001b[0;32m---> 13 \u001b[0;31m    \u001b[0mclasses\u001b[0m \u001b[0;34m=\u001b[0m \u001b[0minspect\u001b[0m\u001b[0;34m.\u001b[0m\u001b[0mgetmembers\u001b[0m\u001b[0;34m(\u001b[0m\u001b[0mmo\u001b[0m\u001b[0;34m,\u001b[0m \u001b[0minspect\u001b[0m\u001b[0;34m.\u001b[0m\u001b[0misclass\u001b[0m\u001b[0;34m)\u001b[0m\u001b[0;34m\u001b[0m\u001b[0;34m\u001b[0m\u001b[0m\n",
      "\u001b[0m\u001b[0;32m     14 \u001b[0;31m    \u001b[0mbuiltins\u001b[0m \u001b[0;34m=\u001b[0m \u001b[0minspect\u001b[0m\u001b[0;34m.\u001b[0m\u001b[0mgetmembers\u001b[0m\u001b[0;34m(\u001b[0m\u001b[0mmo\u001b[0m\u001b[0;34m,\u001b[0m \u001b[0minspect\u001b[0m\u001b[0;34m.\u001b[0m\u001b[0misbuiltin\u001b[0m\u001b[0;34m)\u001b[0m\u001b[0;34m\u001b[0m\u001b[0;34m\u001b[0m\u001b[0m\n",
      "\u001b[0m\n",
      "ipdb> q\n"
     ]
    }
   ],
   "source": [
    "fu.whatinside(fu) # 3. ipdb initiated on the breakpoint"
   ]
  },
  {
   "cell_type": "code",
   "execution_count": null,
   "metadata": {},
   "outputs": [],
   "source": [
    "fdb.goback() # when you done exploring, return everything back to normal."
   ]
  },
  {
   "cell_type": "code",
   "execution_count": null,
   "metadata": {
    "hide_input": false
   },
   "outputs": [],
   "source": [
    "test_eq(inspect.getsourcefile(whatinside), \"/Users/Natsume/Documents/fastdebug/fastdebug/utils.py\")\n",
    "test_eq(inspect.getsourcefile(fu.whatinside), \"/Users/Natsume/Documents/fastdebug/fastdebug/utils.py\")"
   ]
  },
  {
   "cell_type": "markdown",
   "metadata": {},
   "source": [
    "## `Fastdb.dbprint`"
   ]
  },
  {
   "cell_type": "markdown",
   "metadata": {},
   "source": [
    "After exploration, if you realize there is something new to learn and maybe want to come back for a second look, you will find `ipdb` and the alike are not designed to document your learning. Here comes `dbprint` to make my life easier because:\n",
    "\n",
    "> I won't need to scroll through a long cell output of pdb commands, src prints and results to find what I learnt during exploration\n",
    "\n",
    "> I won't need to type all the expressions during last exploration to regenerate the findings for me\n",
    "\n",
    "> I can choose any srclines to explore and write any sinlge or multi-line expressions to evaluate the srcline\n",
    "\n",
    "> I can write down what I learn or what is new on any srcline as comment attached to the src code\n",
    "\n",
    "> All expressions with results and comments for each srcline under exploration are documented for easy reviews\n",
    "\n",
    "> Of course, no worry about your original source code, as it is untouched.\n"
   ]
  },
  {
   "cell_type": "markdown",
   "metadata": {},
   "source": [
    "\n",
    "I would like to do is to read the source code, but I would like to have each line indiced so that I can specify exactly which line to dig into later."
   ]
  },
  {
   "cell_type": "markdown",
   "metadata": {},
   "source": [
    "### Step 0: get the globals of the source code before exploration"
   ]
  },
  {
   "cell_type": "markdown",
   "metadata": {},
   "source": [
    "We are exploring `whatinside`, so we need to have the env (see `g` below) where it is defined for `Fastdb` to use."
   ]
  },
  {
   "cell_type": "code",
   "execution_count": null,
   "metadata": {},
   "outputs": [],
   "source": [
    "\n",
    "test_eq(whatinside is fu.whatinside, True)\n",
    "test_eq(whatinside is whatinside.__globals__['whatinside'], True)\n",
    "test_eq(fu.whatinside is whatinside.__globals__['whatinside'], True)"
   ]
  },
  {
   "cell_type": "markdown",
   "metadata": {},
   "source": [
    "### Step 1: display the source code with idx"
   ]
  },
  {
   "cell_type": "code",
   "execution_count": null,
   "metadata": {},
   "outputs": [],
   "source": [
    "from fastdebug.core import *"
   ]
  },
  {
   "cell_type": "code",
   "execution_count": null,
   "metadata": {},
   "outputs": [],
   "source": [
    "# both whatinside and fu.whatinside are the same here, don't matter which\n",
    "# fdb = Fastdb(whatinside) # g is refactored inside Fastdb\n",
    "fdb = Fastdb(fu.whatinside)"
   ]
  },
  {
   "cell_type": "code",
   "execution_count": null,
   "metadata": {},
   "outputs": [
    {
     "name": "stdout",
     "output_type": "stream",
     "text": [
      "def whatinside(mo, # module, e.g., `import fastcore.all as fa`, use `fa` here=============(0)       \n",
      "               dun:bool=False, # print all items in __all__===============================(1)       \n",
      "               func:bool=False, # print all user defined functions========================(2)       \n",
      "               clas:bool=False, # print all class objects=================================(3)       \n",
      "               bltin:bool=False, # print all builtin funcs or methods=====================(4)       \n",
      "               lib:bool=False, # print all the modules of the library it belongs to=======(5)       \n",
      "               cal:bool=False # print all callables=======================================(6)       \n",
      "             ): ==========================================================================(7)       \n",
      "    'Check what inside a module: `__all__`, functions, classes, builtins, and callables'==(8)       \n",
      "    dun_all = len(mo.__all__) if hasattr(mo, \"__all__\") else 0============================(9)       \n",
      "    funcs = inspect.getmembers(mo, inspect.isfunction)====================================(10)      \n",
      "    classes = inspect.getmembers(mo, inspect.isclass)=====================================(11)      \n",
      "    builtins = inspect.getmembers(mo, inspect.isbuiltin)==================================(12)      \n",
      "    callables = inspect.getmembers(mo, callable)==========================================(13)      \n",
      "    pkgpath = os.path.dirname(mo.__file__)================================================(14)      \n",
      "    print(f\"{mo.__name__} has: \\n{dun_all} items in its __all__, and \\n{len(funcs)} user defined functions, \\n{len(classes)} classes or class objects, \\n{len(builtins)} builtin funcs and methods, and\\n{len(callables)} callables.\\n\")  (15)\n",
      "    if hasattr(mo, \"__all__\") and dun: pprint(mo.__all__)=================================(16)      \n",
      "    if func: =============================================================================(17)      \n",
      "        print(f'The user defined functions are:')=========================================(18)      \n",
      "        pprint([i[0] for i in funcs])=====================================================(19)      \n",
      "    if clas: =============================================================================(20)      \n",
      "        print(f'The class objects are:')==================================================(21)      \n",
      "        pprint([i[0] for i in classes])===================================================(22)      \n",
      "    if bltin: ============================================================================(23)      \n",
      "        print(f'The builtin functions or methods are:')===================================(24)      \n",
      "        pprint([i[0] for i in builtins])==================================================(25)      \n",
      "    if cal: ==============================================================================(26)      \n",
      "        print(f'The callables are: ')=====================================================(27)      \n",
      "        pprint([i[0] for i in callables])=================================================(28)      \n",
      "    if lib: ==============================================================================(29)      \n",
      "        modules = [name for _, name, _ in pkgutil.iter_modules([pkgpath])]================(30)      \n",
      "        print(f'The library has {len(modules)} modules')==================================(31)      \n",
      "        pprint(modules)===================================================================(32)      \n",
      "                                                                                                                                                        (33)\n"
     ]
    }
   ],
   "source": [
    "#| column: screen\n",
    "\n",
    "fdb.print()"
   ]
  },
  {
   "cell_type": "markdown",
   "metadata": {},
   "source": [
    "### Step 2: exploring, evaluating, and commenting as I like"
   ]
  },
  {
   "cell_type": "markdown",
   "metadata": {},
   "source": [
    "I usually write a question for exploration as comment, and after exploration I will replace it with a better summary."
   ]
  },
  {
   "cell_type": "code",
   "execution_count": null,
   "metadata": {},
   "outputs": [
    {
     "name": "stdout",
     "output_type": "stream",
     "text": [
      "             ):                                                                                                                                         (7)\n",
      "    'Check what inside a module: `__all__`, functions, classes, builtins, and callables'                                                                (8)\n",
      "    dun_all = len(mo.__all__) if hasattr(mo, \"__all__\") else 0==========================================================================================(9)\n",
      "                                                                                                                                         \u001b[91mcount num in __all__\u001b[0m\n",
      "    funcs = inspect.getmembers(mo, inspect.isfunction)                                                                                                  (10)\n",
      "    classes = inspect.getmembers(mo, inspect.isclass)                                                                                                   (11)\n",
      "\u001b[93mprint selected srcline with expands above\u001b[0m----------\n",
      "\u001b[93mshowdbsrc=Start\u001b[0m------------------------------------\n",
      "def whatinside(mo, # module, e.g., `import fastcore.all as fa`, use `fa` here---------------------------------------------------------------------------(0)\n",
      "               dun:bool=False, # print all items in __all__---------------------------------------------------------------------------------------------(1)\n",
      "               func:bool=False, # print all user defined functions--------------------------------------------------------------------------------------(2)\n",
      "               clas:bool=False, # print all class objects-----------------------------------------------------------------------------------------------(3)\n",
      "               bltin:bool=False, # print all builtin funcs or methods-----------------------------------------------------------------------------------(4)\n",
      "               lib:bool=False, # print all the modules of the library it belongs to---------------------------------------------------------------------(5)\n",
      "               cal:bool=False # print all callables-----------------------------------------------------------------------------------------------------(6)\n",
      "             ): ----------------------------------------------------------------------------------------------------------------------------------------(7)\n",
      "    'Check what inside a module: `__all__`, functions, classes, builtins, and callables'----------------------------------------------------------------(8)\n",
      "    dun_all = len(mo.__all__) if hasattr(mo, \"__all__\") else 0------------------------------------------------------------------------------------------(9)\n",
      "    funcs = inspect.getmembers(mo, inspect.isfunction)--------------------------------------------------------------------------------------------------(10)\n",
      "    classes = inspect.getmembers(mo, inspect.isclass)---------------------------------------------------------------------------------------------------(11)\n",
      "    builtins = inspect.getmembers(mo, inspect.isbuiltin)------------------------------------------------------------------------------------------------(12)\n",
      "    callables = inspect.getmembers(mo, callable)--------------------------------------------------------------------------------------------------------(13)\n",
      "    pkgpath = os.path.dirname(mo.__file__)--------------------------------------------------------------------------------------------------------------(14)\n",
      "    print(f\"{mo.__name__} has: \\n{dun_all} items in its __all__, and \\n{len(funcs)} user defined functions, \\n{len(classes)} classes or class objects, \\n{len(builtins)} builtin funcs and methods, and\\n{len(callables)} callables.\\n\")  (15)\n",
      "    if hasattr(mo, \"__all__\") and dun: pprint(mo.__all__)-----------------------------------------------------------------------------------------------(16)\n",
      "    if func: -------------------------------------------------------------------------------------------------------------------------------------------(17)\n",
      "        print(f'The user defined functions are:')-------------------------------------------------------------------------------------------------------(18)\n",
      "        pprint([i[0] for i in funcs])-------------------------------------------------------------------------------------------------------------------(19)\n",
      "    if clas: -------------------------------------------------------------------------------------------------------------------------------------------(20)\n",
      "        print(f'The class objects are:')----------------------------------------------------------------------------------------------------------------(21)\n",
      "        pprint([i[0] for i in classes])-----------------------------------------------------------------------------------------------------------------(22)\n",
      "    if bltin: ------------------------------------------------------------------------------------------------------------------------------------------(23)\n",
      "        print(f'The builtin functions or methods are:')-------------------------------------------------------------------------------------------------(24)\n",
      "        pprint([i[0] for i in builtins])----------------------------------------------------------------------------------------------------------------(25)\n",
      "    if cal: --------------------------------------------------------------------------------------------------------------------------------------------(26)\n",
      "        print(f'The callables are: ')-------------------------------------------------------------------------------------------------------------------(27)\n",
      "        pprint([i[0] for i in callables])---------------------------------------------------------------------------------------------------------------(28)\n",
      "    if lib: --------------------------------------------------------------------------------------------------------------------------------------------(29)\n",
      "        modules = [name for _, name, _ in pkgutil.iter_modules([pkgpath])]------------------------------------------------------------------------------(30)\n",
      "        print(f'The library has {len(modules)} modules')------------------------------------------------------------------------------------------------(31)\n",
      "        pprint(modules)---------------------------------------------------------------------------------------------------------------------------------(32)\n",
      "locals() keys: ['self', 'idxsrc', 'cmt', 'expand', 'showdbsrc', 'codes', 'src', 'dbsrc', 'indent', 'lst', 'newlst', 'srclines', 'idx', 'l', 'totallen', 'lenidx', 'dblst', 'idxsrcline', 'lenl']\n",
      "before update to exec, self.orisrc.__name__: whatinside is self.outenv['whatinside']: True\n",
      "\u001b[93mexec on dbsrc above\u001b[0m--------------------------------\n",
      "locals() keys: ['self', 'idxsrc', 'cmt', 'expand', 'showdbsrc', 'codes', 'src', 'dbsrc', 'indent', 'lst', 'newlst', 'srclines', 'idx', 'l', 'totallen', 'lenidx', 'dblst', 'idxsrcline', 'lenl', 'names', 'whatinside']\n",
      "self.orisrc.__name__: whatinside\n",
      "locals()['whatinside']: <function whatinside at 0x103fd71f0>\n",
      "after exec and before self.outenv update, self.outenv['whatinside'] is locals()['whatinside']: False\n",
      "after exec and before self.outenv update, self.orisrc.__name__: whatinside is self.outenv['whatinside']: True\n",
      "after exec and before self.outenv update, self.orisrc.__name__: whatinside is locals()['whatinside']: False\n",
      "after update self.outenv, self.orisrc.__name__: whatinside is self.outenv['whatinside']: False\n",
      "after update self.outenv, self.orisrc.__name__: whatinside is fastdebug.utils.whatinside: False\n",
      "after update self.outenv, self.outenv['whatinside'] is fastdebug.utils.whatinside: True\n",
      "Therefore, to use dbsrc we must use self.outenv['whatinside'], or fastdebug.utils.whatinside\n",
      "\u001b[93mshowdbsrc=End\u001b[0m--------------------------------------\n",
      "def whatinside(mo, # module, e.g., `import fastcore.all as fa`, use `fa` here=============(0)       \n",
      "               dun:bool=False, # print all items in __all__===============================(1)       \n",
      "               func:bool=False, # print all user defined functions========================(2)       \n",
      "               clas:bool=False, # print all class objects=================================(3)       \n",
      "               bltin:bool=False, # print all builtin funcs or methods=====================(4)       \n",
      "               lib:bool=False, # print all the modules of the library it belongs to=======(5)       \n",
      "               cal:bool=False # print all callables=======================================(6)       \n",
      "             ): ==========================================================================(7)       \n",
      "    'Check what inside a module: `__all__`, functions, classes, builtins, and callables'==(8)       \n",
      "    dun_all = len(mo.__all__) if hasattr(mo, \"__all__\") else 0============================(9) # count num in __all__\n",
      "    funcs = inspect.getmembers(mo, inspect.isfunction)====================================(10)      \n",
      "    classes = inspect.getmembers(mo, inspect.isclass)=====================================(11)      \n",
      "    builtins = inspect.getmembers(mo, inspect.isbuiltin)==================================(12)      \n",
      "    callables = inspect.getmembers(mo, callable)==========================================(13)      \n",
      "    pkgpath = os.path.dirname(mo.__file__)================================================(14)      \n",
      "                                                                                                                                     part No.1 out of 2 parts\n"
     ]
    }
   ],
   "source": [
    "#| column: screen\n",
    "fdb.dbprint(9, \"count num in __all__\", showdbsrc=True)\n",
    "fdb.print(maxlines=15, part=1)"
   ]
  },
  {
   "cell_type": "markdown",
   "metadata": {},
   "source": [
    "line 9 looks easy enough, but line 10 is unfamiliar to me, so I would like to explore and dig around it."
   ]
  },
  {
   "cell_type": "markdown",
   "metadata": {},
   "source": [
    "Here are a list of things I want to ask about this line of code \n",
    "\n",
    "1. what is `mo`? (easy)\n",
    "2. what does `inspect.isfunction` do?\n",
    "3. what does `inspect.getmembers` do?\n",
    "4. what does `funcs = inspect.getmembers(mo, inspect.isfunction)` give me?\n",
    "\n",
    "I want to find out about them without searching online, nor using running separate cells to be deleted later."
   ]
  },
  {
   "cell_type": "code",
   "execution_count": null,
   "metadata": {},
   "outputs": [
    {
     "name": "stdout",
     "output_type": "stream",
     "text": [
      "    'Check what inside a module: `__all__`, functions, classes, builtins, and callables'                                                                (8)\n",
      "    dun_all = len(mo.__all__) if hasattr(mo, \"__all__\") else 0                                                                                          (9)\n",
      "    funcs = inspect.getmembers(mo, inspect.isfunction)==================================================================================================(10)\n",
      "                                                                                                                                    \u001b[91mget all funcs of a module\u001b[0m\n",
      "    classes = inspect.getmembers(mo, inspect.isclass)                                                                                                   (11)\n",
      "    builtins = inspect.getmembers(mo, inspect.isbuiltin)                                                                                                (12)\n",
      "\n",
      "\n",
      "                                                           mo => mo : <module 'fastdebug.utils' from '/Users/Natsume/Documents/fastdebug/fastdebug/utils.py'>\n",
      "\n",
      "\n",
      "inspect.getdoc(inspect.isfunction) => inspect.getdoc(inspect.isfunction) : Return true if the object is a user-defined function.\n",
      "\n",
      "Function objects provide these attributes:\n",
      "    __doc__         documentation string\n",
      "    __name__        name with which this function was defined\n",
      "    __code__        code object containing compiled function bytecode\n",
      "    __defaults__    tuple of any default values for arguments\n",
      "    __globals__     global namespace in which this function was defined\n",
      "    __annotations__ dict of parameter annotations\n",
      "    __kwdefaults__  dict of keyword only parameters with defaults\n",
      "\n",
      "\n",
      "inspect.getdoc(inspect.getmembers) => inspect.getdoc(inspect.getmembers) : Return all members of an object as (name, value) pairs sorted by name.\n",
      "Optionally, only return members that satisfy a given predicate.\n",
      "\n",
      "\n",
      "funcs = inspect.getmembers(mo, inspect.isfunction) => funcs: [('distribution', <function distribution at 0x103f5d310>), ('metadata', <function metadata at 0x103f78040>), ('pprint', <function pprint at 0x101ebf3a0>), ('python_version', <function python_version at 0x1017f0040>), ('src', <function whatinside at 0x103f5d0d0>), ('tstenv', <function tstenv at 0x103f5d3a0>), ('version', <function version at 0x103f780d0>), ('whatinside', <function whatinside at 0x103fb3c10>), ('whichversion', <function whichversion at 0x103f5d1f0>)]\n",
      "fastdebug.utils has: \n",
      "3 items in its __all__, and \n",
      "9 user defined functions, \n",
      "0 classes or class objects, \n",
      "0 builtin funcs and methods, and\n",
      "9 callables.\n",
      "\n"
     ]
    }
   ],
   "source": [
    "#| column: screen\n",
    "dbsrc = fdb.dbprint(10, \"get all funcs of a module\", \"mo\", \"inspect.getdoc(inspect.isfunction)\", \\\n",
    "            \"inspect.getdoc(inspect.getmembers)\", \"funcs = inspect.getmembers(mo, inspect.isfunction)\")\n",
    "fu.whatinside(fu)"
   ]
  },
  {
   "cell_type": "markdown",
   "metadata": {},
   "source": [
    "Intesting and unexpected: something interesting and unexpected things discovered above for myself is the attributes of a function"
   ]
  },
  {
   "cell_type": "markdown",
   "metadata": {},
   "source": [
    "If you want to zoom in the source code, you could cut the source into parts and exam each part individually."
   ]
  },
  {
   "cell_type": "code",
   "execution_count": null,
   "metadata": {},
   "outputs": [
    {
     "name": "stdout",
     "output_type": "stream",
     "text": [
      "def whatinside(mo, # module, e.g., `import fastcore.all as fa`, use `fa` here=============(0)       \n",
      "               dun:bool=False, # print all items in __all__===============================(1)       \n",
      "               func:bool=False, # print all user defined functions========================(2)       \n",
      "               clas:bool=False, # print all class objects=================================(3)       \n",
      "               bltin:bool=False, # print all builtin funcs or methods=====================(4)       \n",
      "               lib:bool=False, # print all the modules of the library it belongs to=======(5)       \n",
      "               cal:bool=False # print all callables=======================================(6)       \n",
      "             ): ==========================================================================(7)       \n",
      "    'Check what inside a module: `__all__`, functions, classes, builtins, and callables'==(8)       \n",
      "    dun_all = len(mo.__all__) if hasattr(mo, \"__all__\") else 0============================(9) # count num in __all__\n",
      "    funcs = inspect.getmembers(mo, inspect.isfunction)====================================(10) # get all funcs of a module\n",
      "    classes = inspect.getmembers(mo, inspect.isclass)=====================================(11)      \n",
      "    builtins = inspect.getmembers(mo, inspect.isbuiltin)==================================(12)      \n",
      "    callables = inspect.getmembers(mo, callable)==========================================(13)      \n",
      "    pkgpath = os.path.dirname(mo.__file__)================================================(14)      \n",
      "                                                                                                                                     part No.1 out of 2 parts\n"
     ]
    }
   ],
   "source": [
    "#| column: screen\n",
    "fdb.print(maxlines=15, part=1)"
   ]
  },
  {
   "cell_type": "markdown",
   "metadata": {},
   "source": [
    "You may find the `funcs` difficult to read, if so you can write a block of codes to print out the `funcs` nicely."
   ]
  },
  {
   "cell_type": "code",
   "execution_count": null,
   "metadata": {},
   "outputs": [
    {
     "name": "stdout",
     "output_type": "stream",
     "text": [
      "    dun_all = len(mo.__all__) if hasattr(mo, \"__all__\") else 0                                                                                          (9)\n",
      "    funcs = inspect.getmembers(mo, inspect.isfunction)                                                                                                  (10)\n",
      "    classes = inspect.getmembers(mo, inspect.isclass)===================================================================================================(11)\n",
      "                                                                                                                              \u001b[91mget all classes from the module\u001b[0m\n",
      "    builtins = inspect.getmembers(mo, inspect.isbuiltin)                                                                                                (12)\n",
      "    callables = inspect.getmembers(mo, callable)                                                                                                        (13)\n",
      "\n",
      "\n",
      "clas = inspect.getmembers(mo, inspect.isclass)\n",
      "for c in clas:\n",
      "    print(c)                                                                                   \n",
      "                                                                                                                                  Running your code block => \n",
      "The code block printout => : \n",
      "fastdebug.utils has: \n",
      "3 items in its __all__, and \n",
      "9 user defined functions, \n",
      "0 classes or class objects, \n",
      "0 builtin funcs and methods, and\n",
      "9 callables.\n",
      "\n",
      "def whatinside(mo, # module, e.g., `import fastcore.all as fa`, use `fa` here=============(0)       \n",
      "               dun:bool=False, # print all items in __all__===============================(1)       \n",
      "               func:bool=False, # print all user defined functions========================(2)       \n",
      "               clas:bool=False, # print all class objects=================================(3)       \n",
      "               bltin:bool=False, # print all builtin funcs or methods=====================(4)       \n",
      "               lib:bool=False, # print all the modules of the library it belongs to=======(5)       \n",
      "               cal:bool=False # print all callables=======================================(6)       \n",
      "             ): ==========================================================================(7)       \n",
      "    'Check what inside a module: `__all__`, functions, classes, builtins, and callables'==(8)       \n",
      "    dun_all = len(mo.__all__) if hasattr(mo, \"__all__\") else 0============================(9) # count num in __all__\n",
      "    funcs = inspect.getmembers(mo, inspect.isfunction)====================================(10) # get all funcs of a module\n",
      "    classes = inspect.getmembers(mo, inspect.isclass)=====================================(11) # get all classes from the module\n",
      "    builtins = inspect.getmembers(mo, inspect.isbuiltin)==================================(12)      \n",
      "    callables = inspect.getmembers(mo, callable)==========================================(13)      \n",
      "    pkgpath = os.path.dirname(mo.__file__)================================================(14)      \n",
      "                                                                                                                                     part No.1 out of 2 parts\n"
     ]
    }
   ],
   "source": [
    "#| column: screen\n",
    "dbsrc = fdb.dbprint(11, \"get all classes from the module\", \\\n",
    "\"clas = inspect.getmembers(mo, inspect.isclass)\\\\n\\\n",
    "for c in clas:\\\\n\\\n",
    "    print(c)\")\n",
    "fu.whatinside(fu)\n",
    "fdb.print(maxlines=15, part=1)"
   ]
  },
  {
   "cell_type": "markdown",
   "metadata": {},
   "source": [
    "Keep reading, I want to see what exactly does line 14 do?"
   ]
  },
  {
   "cell_type": "code",
   "execution_count": null,
   "metadata": {},
   "outputs": [
    {
     "name": "stdout",
     "output_type": "stream",
     "text": [
      "    builtins = inspect.getmembers(mo, inspect.isbuiltin)                                                                                                (12)\n",
      "    callables = inspect.getmembers(mo, callable)                                                                                                        (13)\n",
      "    pkgpath = os.path.dirname(mo.__file__)==============================================================================================================(14)\n",
      "                                                                                                                              \u001b[91mget the file path of the module\u001b[0m\n",
      "    print(f\"{mo.__name__} has: \\n{dun_all} items in its __all__, and \\n{len(funcs)} user defined functions, \\n{len(classes)} classes or class objects, \\n{len(builtins)} builtin funcs and methods, and\\n{len(callables)} callables.\\n\")  (15)\n",
      "    if hasattr(mo, \"__all__\") and dun: pprint(mo.__all__)                                                                                               (16)\n",
      "\n",
      "\n",
      "                                                                           mo.__file__ => mo.__file__ : /Users/Natsume/Documents/fastdebug/fastdebug/utils.py\n",
      "\n",
      "\n",
      "                                           inspect.getdoc(os.path.dirname) => inspect.getdoc(os.path.dirname) : Returns the directory component of a pathname\n",
      "\n",
      "\n",
      "                                                              pkgpath = os.path.dirname(mo.__file__) => pkgpath: /Users/Natsume/Documents/fastdebug/fastdebug\n",
      "fastdebug.utils has: \n",
      "3 items in its __all__, and \n",
      "9 user defined functions, \n",
      "0 classes or class objects, \n",
      "0 builtin funcs and methods, and\n",
      "9 callables.\n",
      "\n",
      "    funcs = inspect.getmembers(mo, inspect.isfunction)====================================(10) # get all funcs of a module\n",
      "    classes = inspect.getmembers(mo, inspect.isclass)=====================================(11) # get all classes from the module\n",
      "    builtins = inspect.getmembers(mo, inspect.isbuiltin)==================================(12)      \n",
      "    callables = inspect.getmembers(mo, callable)==========================================(13)      \n",
      "    pkgpath = os.path.dirname(mo.__file__)================================================(14) # get the file path of the module\n",
      "    print(f\"{mo.__name__} has: \\n{dun_all} items in its __all__, and \\n{len(funcs)} user defined functions, \\n{len(classes)} classes or class objects, \\n{len(builtins)} builtin funcs and methods, and\\n{len(callables)} callables.\\n\")  (15)\n",
      "    if hasattr(mo, \"__all__\") and dun: pprint(mo.__all__)=================================(16)      \n",
      "    if func: =============================================================================(17)      \n",
      "        print(f'The user defined functions are:')=========================================(18)      \n",
      "        pprint([i[0] for i in funcs])=====================================================(19)      \n",
      "                                                                                                                                     part No.2 out of 2 parts\n"
     ]
    }
   ],
   "source": [
    "#| column: screen\n",
    "dbsrc = fdb.dbprint(14, \"get the file path of the module\", \"mo.__file__\", \"inspect.getdoc(os.path.dirname)\", \"pkgpath = os.path.dirname(mo.__file__)\")\n",
    "fu.whatinside(fu)\n",
    "fdb.print(maxlines=10, part=2)"
   ]
  },
  {
   "cell_type": "markdown",
   "metadata": {},
   "source": [
    "Finally, I want to dig into line 30 with a different example to trigger line 30."
   ]
  },
  {
   "cell_type": "code",
   "execution_count": null,
   "metadata": {},
   "outputs": [
    {
     "name": "stdout",
     "output_type": "stream",
     "text": [
      "    if clas: =============================================================================(20)      \n",
      "        print(f'The class objects are:')==================================================(21)      \n",
      "        pprint([i[0] for i in classes])===================================================(22)      \n",
      "    if bltin: ============================================================================(23)      \n",
      "        print(f'The builtin functions or methods are:')===================================(24)      \n",
      "        pprint([i[0] for i in builtins])==================================================(25)      \n",
      "    if cal: ==============================================================================(26)      \n",
      "        print(f'The callables are: ')=====================================================(27)      \n",
      "        pprint([i[0] for i in callables])=================================================(28)      \n",
      "    if lib: ==============================================================================(29)      \n",
      "        modules = [name for _, name, _ in pkgutil.iter_modules([pkgpath])]================(30)      \n",
      "        print(f'The library has {len(modules)} modules')==================================(31)      \n",
      "        pprint(modules)===================================================================(32)      \n",
      "                                                                                                                                                        (33)\n",
      "                                                                                                                                     part No.2 out of 2 parts\n"
     ]
    }
   ],
   "source": [
    "fdb.print(maxlines=20, part=2)"
   ]
  },
  {
   "cell_type": "code",
   "execution_count": null,
   "metadata": {},
   "outputs": [
    {
     "name": "stdout",
     "output_type": "stream",
     "text": [
      "        pprint([i[0] for i in callables])                                                                                                               (28)\n",
      "    if lib:                                                                                                                                             (29)\n",
      "        modules = [name for _, name, _ in pkgutil.iter_modules([pkgpath])]==============================================================================(30)\n",
      "                                                                                                                            \u001b[91mget names of all modules of a lib\u001b[0m\n",
      "        print(f'The library has {len(modules)} modules')                                                                                                (31)\n",
      "        pprint(modules)                                                                                                                                 (32)\n",
      "\u001b[93mprint selected srcline with expands above\u001b[0m----------\n",
      "\u001b[93mshowdbsrc=Start\u001b[0m------------------------------------\n",
      "def whatinside(mo, # module, e.g., `import fastcore.all as fa`, use `fa` here---------------------------------------------------------------------------(0)\n",
      "               dun:bool=False, # print all items in __all__---------------------------------------------------------------------------------------------(1)\n",
      "               func:bool=False, # print all user defined functions--------------------------------------------------------------------------------------(2)\n",
      "               clas:bool=False, # print all class objects-----------------------------------------------------------------------------------------------(3)\n",
      "               bltin:bool=False, # print all builtin funcs or methods-----------------------------------------------------------------------------------(4)\n",
      "               lib:bool=False, # print all the modules of the library it belongs to---------------------------------------------------------------------(5)\n",
      "               cal:bool=False # print all callables-----------------------------------------------------------------------------------------------------(6)\n",
      "             ): ----------------------------------------------------------------------------------------------------------------------------------------(7)\n",
      "    'Check what inside a module: `__all__`, functions, classes, builtins, and callables'----------------------------------------------------------------(8)\n",
      "    dun_all = len(mo.__all__) if hasattr(mo, \"__all__\") else 0------------------------------------------------------------------------------------------(9)\n",
      "    funcs = inspect.getmembers(mo, inspect.isfunction)--------------------------------------------------------------------------------------------------(10)\n",
      "    classes = inspect.getmembers(mo, inspect.isclass)---------------------------------------------------------------------------------------------------(11)\n",
      "    builtins = inspect.getmembers(mo, inspect.isbuiltin)------------------------------------------------------------------------------------------------(12)\n",
      "    callables = inspect.getmembers(mo, callable)--------------------------------------------------------------------------------------------------------(13)\n",
      "    pkgpath = os.path.dirname(mo.__file__)--------------------------------------------------------------------------------------------------------------(14)\n",
      "    print(f\"{mo.__name__} has: \\n{dun_all} items in its __all__, and \\n{len(funcs)} user defined functions, \\n{len(classes)} classes or class objects, \\n{len(builtins)} builtin funcs and methods, and\\n{len(callables)} callables.\\n\")  (15)\n",
      "    if hasattr(mo, \"__all__\") and dun: pprint(mo.__all__)-----------------------------------------------------------------------------------------------(16)\n",
      "    if func: -------------------------------------------------------------------------------------------------------------------------------------------(17)\n",
      "        print(f'The user defined functions are:')-------------------------------------------------------------------------------------------------------(18)\n",
      "        pprint([i[0] for i in funcs])-------------------------------------------------------------------------------------------------------------------(19)\n",
      "    if clas: -------------------------------------------------------------------------------------------------------------------------------------------(20)\n",
      "        print(f'The class objects are:')----------------------------------------------------------------------------------------------------------------(21)\n",
      "        pprint([i[0] for i in classes])-----------------------------------------------------------------------------------------------------------------(22)\n",
      "    if bltin: ------------------------------------------------------------------------------------------------------------------------------------------(23)\n",
      "        print(f'The builtin functions or methods are:')-------------------------------------------------------------------------------------------------(24)\n",
      "        pprint([i[0] for i in builtins])----------------------------------------------------------------------------------------------------------------(25)\n",
      "    if cal: --------------------------------------------------------------------------------------------------------------------------------------------(26)\n",
      "        print(f'The callables are: ')-------------------------------------------------------------------------------------------------------------------(27)\n",
      "        pprint([i[0] for i in callables])---------------------------------------------------------------------------------------------------------------(28)\n",
      "    if lib: --------------------------------------------------------------------------------------------------------------------------------------------(29)\n",
      "        g = locals()------------------------------------------------------------------------------------------------------------------------------------(30)\n",
      "        dbprintinsert(\"pkgpath\",\"inspect.getdoc(pkgutil.iter_modules)\",\"for a, b, c in pkgutil.iter_modules([pkgpath]):\\n    print(f'{a} ; {b}; {c}')\",env=g)(db)\n",
      "        modules = [name for _, name, _ in pkgutil.iter_modules([pkgpath])]------------------------------------------------------------------------------(31)\n",
      "        print(f'The library has {len(modules)} modules')------------------------------------------------------------------------------------------------(32)\n",
      "        pprint(modules)---------------------------------------------------------------------------------------------------------------------------------(33)\n",
      "locals() keys: ['self', 'idxsrc', 'cmt', 'expand', 'showdbsrc', 'codes', 'src', 'dbsrc', 'indent', 'lst', 'newlst', 'i', 'srclines', 'idx', 'l', 'numindent', 'dbcodes', 'count', 'c', 'totallen', 'lenidx', 'dblst', 'idxsrcline', 'lenl']\n",
      "before update to exec, self.orisrc.__name__: whatinside is self.outenv['whatinside']: False\n",
      "\u001b[93mexec on dbsrc above\u001b[0m--------------------------------\n",
      "locals() keys: ['self', 'idxsrc', 'cmt', 'expand', 'showdbsrc', 'codes', 'src', 'dbsrc', 'indent', 'lst', 'newlst', 'i', 'srclines', 'idx', 'l', 'numindent', 'dbcodes', 'count', 'c', 'totallen', 'lenidx', 'dblst', 'idxsrcline', 'lenl', 'names', 'whatinside']\n",
      "self.orisrc.__name__: whatinside\n",
      "locals()['whatinside']: <function whatinside at 0x103fb2e50>\n",
      "after exec and before self.outenv update, self.outenv['whatinside'] is locals()['whatinside']: False\n",
      "after exec and before self.outenv update, self.orisrc.__name__: whatinside is self.outenv['whatinside']: False\n",
      "after exec and before self.outenv update, self.orisrc.__name__: whatinside is locals()['whatinside']: False\n",
      "after update self.outenv, self.orisrc.__name__: whatinside is self.outenv['whatinside']: False\n",
      "after update self.outenv, self.orisrc.__name__: whatinside is fastdebug.utils.whatinside: False\n",
      "after update self.outenv, self.outenv['whatinside'] is fastdebug.utils.whatinside: True\n",
      "Therefore, to use dbsrc we must use self.outenv['whatinside'], or fastdebug.utils.whatinside\n",
      "\u001b[93mshowdbsrc=End\u001b[0m--------------------------------------\n",
      "fastdebug.utils has: \n",
      "3 items in its __all__, and \n",
      "9 user defined functions, \n",
      "0 classes or class objects, \n",
      "0 builtin funcs and methods, and\n",
      "9 callables.\n",
      "\n",
      "\n",
      "\n",
      "                                                                                            pkgpath => pkgpath : /Users/Natsume/Documents/fastdebug/fastdebug\n",
      "\n",
      "\n",
      "inspect.getdoc(pkgutil.iter_modules) => inspect.getdoc(pkgutil.iter_modules) : Yields ModuleInfo for all submodules on path,\n",
      "or, if path is None, all top-level modules on sys.path.\n",
      "\n",
      "'path' should be either None or a list of paths to look for\n",
      "modules in.\n",
      "\n",
      "'prefix' is a string to output on the front of every module name\n",
      "on output.\n",
      "\n",
      "\n",
      "for a, b, c in pkgutil.iter_modules([pkgpath]):\n",
      "    print(f'{a} ; {b}; {c}')                                                                                 \n",
      "                                                                                                                                  Running your code block => \n",
      "The code block printout => : \n",
      "FileFinder('/Users/Natsume/Documents/fastdebug/fastdebug') ; _modidx; False\n",
      "FileFinder('/Users/Natsume/Documents/fastdebug/fastdebug') ; core; False\n",
      "FileFinder('/Users/Natsume/Documents/fastdebug/fastdebug') ; core0; False\n",
      "FileFinder('/Users/Natsume/Documents/fastdebug/fastdebug') ; utils; False\n",
      "The library has 4 modules\n",
      "['_modidx', 'core', 'core0', 'utils']\n",
      "    if clas: =============================================================================(20)      \n",
      "        print(f'The class objects are:')==================================================(21)      \n",
      "        pprint([i[0] for i in classes])===================================================(22)      \n",
      "    if bltin: ============================================================================(23)      \n",
      "        print(f'The builtin functions or methods are:')===================================(24)      \n",
      "        pprint([i[0] for i in builtins])==================================================(25)      \n",
      "    if cal: ==============================================================================(26)      \n",
      "        print(f'The callables are: ')=====================================================(27)      \n",
      "        pprint([i[0] for i in callables])=================================================(28)      \n",
      "    if lib: ==============================================================================(29)      \n",
      "        modules = [name for _, name, _ in pkgutil.iter_modules([pkgpath])]================(30) # get names of all modules of a lib\n",
      "        print(f'The library has {len(modules)} modules')==================================(31)      \n",
      "        pprint(modules)===================================================================(32)      \n",
      "                                                                                                                                                        (33)\n",
      "                                                                                                                                     part No.2 out of 2 parts\n"
     ]
    }
   ],
   "source": [
    "#| column: screen\n",
    "dbsrc = fdb.dbprint(30, \"get names of all modules of a lib\", \"pkgpath\", \"inspect.getdoc(pkgutil.iter_modules)\", \\\n",
    "\"for a, b, c in pkgutil.iter_modules([pkgpath]):\\\\n\\\n",
    "    print(f'{a} ; {b}; {c}')\", showdbsrc=True)\n",
    "fu.whatinside(fu, lib=True)\n",
    "fdb.print(maxlines=20, part=2)"
   ]
  },
  {
   "cell_type": "markdown",
   "metadata": {},
   "source": [
    "Now, let's see the source code with all comments we made above. (After running each cell, I can rewrite the comment to sum what I explored)"
   ]
  },
  {
   "cell_type": "code",
   "execution_count": null,
   "metadata": {},
   "outputs": [
    {
     "name": "stdout",
     "output_type": "stream",
     "text": [
      "def whatinside(mo, # module, e.g., `import fastcore.all as fa`, use `fa` here=============(0)       \n",
      "               dun:bool=False, # print all items in __all__===============================(1)       \n",
      "               func:bool=False, # print all user defined functions========================(2)       \n",
      "               clas:bool=False, # print all class objects=================================(3)       \n",
      "               bltin:bool=False, # print all builtin funcs or methods=====================(4)       \n",
      "               lib:bool=False, # print all the modules of the library it belongs to=======(5)       \n",
      "               cal:bool=False # print all callables=======================================(6)       \n",
      "             ): ==========================================================================(7)       \n",
      "    'Check what inside a module: `__all__`, functions, classes, builtins, and callables'==(8)       \n",
      "    dun_all = len(mo.__all__) if hasattr(mo, \"__all__\") else 0============================(9) # count num in __all__\n",
      "    funcs = inspect.getmembers(mo, inspect.isfunction)====================================(10) # get all funcs of a module\n",
      "    classes = inspect.getmembers(mo, inspect.isclass)=====================================(11) # get all classes from the module\n",
      "    builtins = inspect.getmembers(mo, inspect.isbuiltin)==================================(12)      \n",
      "    callables = inspect.getmembers(mo, callable)==========================================(13)      \n",
      "    pkgpath = os.path.dirname(mo.__file__)================================================(14) # get the file path of the module\n",
      "    print(f\"{mo.__name__} has: \\n{dun_all} items in its __all__, and \\n{len(funcs)} user defined functions, \\n{len(classes)} classes or class objects, \\n{len(builtins)} builtin funcs and methods, and\\n{len(callables)} callables.\\n\")  (15)\n",
      "    if hasattr(mo, \"__all__\") and dun: pprint(mo.__all__)=================================(16)      \n",
      "    if func: =============================================================================(17)      \n",
      "        print(f'The user defined functions are:')=========================================(18)      \n",
      "        pprint([i[0] for i in funcs])=====================================================(19)      \n",
      "    if clas: =============================================================================(20)      \n",
      "        print(f'The class objects are:')==================================================(21)      \n",
      "        pprint([i[0] for i in classes])===================================================(22)      \n",
      "    if bltin: ============================================================================(23)      \n",
      "        print(f'The builtin functions or methods are:')===================================(24)      \n",
      "        pprint([i[0] for i in builtins])==================================================(25)      \n",
      "    if cal: ==============================================================================(26)      \n",
      "        print(f'The callables are: ')=====================================================(27)      \n",
      "        pprint([i[0] for i in callables])=================================================(28)      \n",
      "    if lib: ==============================================================================(29)      \n",
      "        modules = [name for _, name, _ in pkgutil.iter_modules([pkgpath])]================(30) # get names of all modules of a lib\n",
      "        print(f'The library has {len(modules)} modules')==================================(31)      \n",
      "        pprint(modules)===================================================================(32)      \n",
      "                                                                                                                                                        (33)\n"
     ]
    }
   ],
   "source": [
    "fdb.print()"
   ]
  },
  {
   "cell_type": "markdown",
   "metadata": {},
   "source": [
    "### Step 3: replace the db source with the original source code"
   ]
  },
  {
   "cell_type": "markdown",
   "metadata": {},
   "source": [
    "To finish, I need to give `whatinside` its own untouched source code back"
   ]
  },
  {
   "cell_type": "code",
   "execution_count": null,
   "metadata": {},
   "outputs": [],
   "source": [
    "import inspect"
   ]
  },
  {
   "cell_type": "code",
   "execution_count": null,
   "metadata": {},
   "outputs": [],
   "source": [
    "test_eq(inspect.getsourcefile(whatinside.__globals__['whatinside']), '<string>')\n",
    "test_eq(inspect.getsourcefile(fu.whatinside), '<string>')\n",
    "test_eq(fu.whatinside is whatinside.__globals__['whatinside'], True)\n",
    "\n",
    "test_eq(whatinside is whatinside.__globals__['whatinside'], False)\n",
    "test_eq(whatinside is fu.whatinside, False)\n",
    "test_eq(inspect.getsourcefile(whatinside), '/Users/Natsume/Documents/fastdebug/fastdebug/utils.py')"
   ]
  },
  {
   "cell_type": "code",
   "execution_count": null,
   "metadata": {},
   "outputs": [],
   "source": [
    "fdb.goback()"
   ]
  },
  {
   "cell_type": "code",
   "execution_count": null,
   "metadata": {},
   "outputs": [],
   "source": [
    "test_eq(inspect.getsourcefile(fu.whatinside), '/Users/Natsume/Documents/fastdebug/fastdebug/utils.py')\n",
    "test_eq(fu.whatinside is whatinside.__globals__['whatinside'], True)\n",
    "test_eq(whatinside is whatinside.__globals__['whatinside'], True)\n",
    "test_eq(whatinside is fu.whatinside, True)"
   ]
  },
  {
   "cell_type": "code",
   "execution_count": null,
   "metadata": {},
   "outputs": [],
   "source": [
    "test_eq(inspect.getsourcefile(whatinside), '/Users/Natsume/Documents/fastdebug/fastdebug/utils.py')"
   ]
  },
  {
   "cell_type": "markdown",
   "metadata": {},
   "source": [
    "To check, when run `whatinside??` we should see the actually source code whereas the db version of `whatinside` does not have."
   ]
  },
  {
   "cell_type": "markdown",
   "metadata": {},
   "source": [
    "## Install"
   ]
  },
  {
   "cell_type": "markdown",
   "metadata": {},
   "source": [
    "```sh\n",
    "pip install fastdebug\n",
    "```"
   ]
  },
  {
   "cell_type": "markdown",
   "metadata": {},
   "source": [
    "## How to use"
   ]
  },
  {
   "cell_type": "markdown",
   "metadata": {},
   "source": [
    "Fill me in please! Don't forget code examples:"
   ]
  },
  {
   "cell_type": "code",
   "execution_count": null,
   "metadata": {},
   "outputs": [],
   "source": [
    "1+1"
   ]
  },
  {
   "cell_type": "code",
   "execution_count": null,
   "metadata": {},
   "outputs": [],
   "source": []
  }
 ],
 "metadata": {
  "kernelspec": {
   "display_name": "Python 3 (ipykernel)",
   "language": "python",
   "name": "python3"
  }
 },
 "nbformat": 4,
 "nbformat_minor": 4
}
