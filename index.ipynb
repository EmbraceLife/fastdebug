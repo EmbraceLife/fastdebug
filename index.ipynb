{
 "cells": [
  {
   "cell_type": "markdown",
   "metadata": {},
   "source": [
    "# fastdebug\n",
    "\n",
    "> a little tool to help me explore the source code of fastai libraries"
   ]
  },
  {
   "cell_type": "code",
   "execution_count": 1,
   "metadata": {},
   "outputs": [],
   "source": [
    "from IPython.display import display, HTML "
   ]
  },
  {
   "cell_type": "code",
   "execution_count": 2,
   "metadata": {},
   "outputs": [
    {
     "data": {
      "text/html": [
       "<style>.container { width:100% !important; }</style>"
      ],
      "text/plain": [
       "<IPython.core.display.HTML object>"
      ]
     },
     "metadata": {},
     "output_type": "display_data"
    }
   ],
   "source": [
    "display(HTML(\"<style>.container { width:100% !important; }</style>\"))"
   ]
  },
  {
   "cell_type": "markdown",
   "metadata": {},
   "source": [
    "## References I use when I explore"
   ]
  },
  {
   "cell_type": "markdown",
   "metadata": {},
   "source": [
    "### fastai style"
   ]
  },
  {
   "cell_type": "markdown",
   "metadata": {},
   "source": [
    "What is the fastai coding [style](https://docs.fast.ai/dev/style.html#style-guide)"
   ]
  },
  {
   "cell_type": "markdown",
   "metadata": {},
   "source": [
    "How to do [abbreviation](https://docs.fast.ai/dev/abbr.html) the fastai way"
   ]
  },
  {
   "cell_type": "markdown",
   "metadata": {},
   "source": [
    "A great example of how fastai libraries can make life more [comfortable](https://www.fast.ai/2019/08/06/delegation/)"
   ]
  },
  {
   "cell_type": "markdown",
   "metadata": {},
   "source": [
    "## What is the motivation behind `fastdebug` library?\n",
    "\n",
    "\n",
    "Please let me show you with a simple example here."
   ]
  },
  {
   "cell_type": "code",
   "execution_count": 3,
   "metadata": {},
   "outputs": [],
   "source": [
    "# import fastdebug\n",
    "from fastdebug.utils import *\n",
    "import fastdebug.utils as fu\n",
    "from fastcore.test import *\n",
    "import inspect"
   ]
  },
  {
   "cell_type": "code",
   "execution_count": 4,
   "metadata": {},
   "outputs": [],
   "source": [
    "import fastcore.meta as fm"
   ]
  },
  {
   "cell_type": "code",
   "execution_count": 5,
   "metadata": {},
   "outputs": [
    {
     "name": "stdout",
     "output_type": "stream",
     "text": [
      "fastcore.meta has: \n",
      "13 items in its __all__, and \n",
      "43 user defined functions, \n",
      "19 classes or class objects, \n",
      "2 builtin funcs and methods, and\n",
      "74 callables.\n",
      "\n",
      "['test_sig',\n",
      " 'FixSigMeta',\n",
      " 'PrePostInitMeta',\n",
      " 'AutoInit',\n",
      " 'NewChkMeta',\n",
      " 'BypassNewMeta',\n",
      " 'empty2none',\n",
      " 'anno_dict',\n",
      " 'use_kwargs_dict',\n",
      " 'use_kwargs',\n",
      " 'delegates',\n",
      " 'method',\n",
      " 'funcs_kwargs']\n"
     ]
    }
   ],
   "source": [
    "whatinside(fm, dun=True)"
   ]
  },
  {
   "cell_type": "markdown",
   "metadata": {},
   "source": [
    "As this is the first time you see `whainside`, you probably will run `whatinside?` to know how to use it."
   ]
  },
  {
   "cell_type": "code",
   "execution_count": 6,
   "metadata": {},
   "outputs": [
    {
     "data": {
      "text/plain": [
       "<function fastdebug.utils.whatinside(mo, dun: bool = False, func: bool = False, clas: bool = False, bltin: bool = False, lib: bool = False, cal: bool = False)>"
      ]
     },
     "execution_count": 6,
     "metadata": {},
     "output_type": "execute_result"
    }
   ],
   "source": [
    "fu.whatinside"
   ]
  },
  {
   "cell_type": "code",
   "execution_count": 7,
   "metadata": {},
   "outputs": [
    {
     "data": {
      "text/plain": [
       "'fastdebug.utils'"
      ]
     },
     "execution_count": 7,
     "metadata": {},
     "output_type": "execute_result"
    }
   ],
   "source": [
    "fu.whatinside.__module__"
   ]
  },
  {
   "cell_type": "markdown",
   "metadata": {},
   "source": [
    "But if you want to make sense of how its source code works, then simply run `whatinside??` to read the source may not be sufficient for beginners like me to grasp what exactly is going on inside the source code. I need something more like `pdb` to help me dig deeper."
   ]
  },
  {
   "cell_type": "code",
   "execution_count": 8,
   "metadata": {},
   "outputs": [
    {
     "name": "stdout",
     "output_type": "stream",
     "text": [
      "def whatinside(mo, # module, e.g., `import fastcore.all as fa`, use `fa` here\n",
      "               dun:bool=False, # print all items in __all__\n",
      "               func:bool=False, # print all user defined functions\n",
      "               clas:bool=False, # print all class objects\n",
      "               bltin:bool=False, # print all builtin funcs or methods\n",
      "               lib:bool=False, # print all the modules of the library it belongs to\n",
      "               cal:bool=False # print all callables\n",
      "             ): \n",
      "    'Check what inside a module: `__all__`, functions, classes, builtins, and callables'\n",
      "    dun_all = len(mo.__all__) if hasattr(mo, \"__all__\") else 0\n",
      "    funcs = inspect.getmembers(mo, inspect.isfunction)\n",
      "    classes = inspect.getmembers(mo, inspect.isclass)\n",
      "    builtins = inspect.getmembers(mo, inspect.isbuiltin)\n",
      "    callables = inspect.getmembers(mo, callable)\n",
      "    pkgpath = os.path.dirname(mo.__file__)\n",
      "    print(f\"{mo.__name__} has: \\n{dun_all} items in its __all__, and \\n{len(funcs)} user defined functions, \\n{len(classes)} classes or class objects, \\n{len(builtins)} builtin funcs and methods, and\\n{len(callables)} callables.\\n\")  \n",
      "    if hasattr(mo, \"__all__\") and dun: pprint(mo.__all__)\n",
      "    if func: \n",
      "        print(f'The user defined functions are:')\n",
      "        pprint([i[0] for i in funcs])\n",
      "    if clas: \n",
      "        print(f'The class objects are:')\n",
      "        pprint([i[0] for i in classes])\n",
      "    if bltin: \n",
      "        print(f'The builtin functions or methods are:')\n",
      "        pprint([i[0] for i in builtins])\n",
      "    if cal: \n",
      "        print(f'The callables are: ')\n",
      "        pprint([i[0] for i in callables])\n",
      "    if lib: \n",
      "        modules = [name for _, name, _ in pkgutil.iter_modules([pkgpath])]\n",
      "        print(f'The library has {len(modules)} modules')\n",
      "        pprint(modules)\n",
      "\n"
     ]
    }
   ],
   "source": [
    "for l in inspect.getsource(fu.whatinside).split('\\n'):\n",
    "    print(l)"
   ]
  },
  {
   "cell_type": "markdown",
   "metadata": {},
   "source": [
    "I enjoyed `pdbpp` for exploring source code in terminal, which is super nice version of `ipdb`. However, we can't use it in jupyter notebook, even if we could use it, the outputs from running `pdb` commands are not good for documenting, meaning they usually are not easy to read when you come back to it. Jupyterlab's visual debugger is nice to have, but you can't document debugging process, and evaluating expressions feel a little clunky to me."
   ]
  },
  {
   "cell_type": "markdown",
   "metadata": {},
   "source": [
    "I have always wanted to explore the wonderful fastai libraries (I am starting with fastcore). I like to learn the fastai coding style, exploratory coding approach and of course all the knowledge Jeremy distilled in the fastai libraries. But every library looks massive to a novice like me. How can I explore the libraries efficiently and joyfully? I must use jupyterlab or jupyter notebook for exploratory coding, but I can't use pdbpp in jupyter to help."
   ]
  },
  {
   "cell_type": "markdown",
   "metadata": {},
   "source": [
    "So, I am thinking why not write a little debugging tool myself, and maybe I don't even need fancy inspect.py and pdb.py for it. But I would not dare to try to write a library of my own without being enpowered by the amazing [nbdev](https://nbdev.fast.ai/) and the wonderful team behind it. They make writing your own library unbelievably easy and joyful. "
   ]
  },
  {
   "cell_type": "markdown",
   "metadata": {},
   "source": [
    "So, Here I am, just finished the second version of this library, now I want to see whether this tool can help me make the process of exploring source code a joyful experience."
   ]
  },
  {
   "cell_type": "markdown",
   "metadata": {},
   "source": [
    "## How to use `fastdebug`?"
   ]
  },
  {
   "cell_type": "markdown",
   "metadata": {},
   "source": [
    "In this section, I will show you how I would like to explore fastai libs with this tool. As a simple demo, I will explore my own `wahtinside` instead. From now on, I will pretend to know nothing about this function.\n",
    "\n",
    "If you prefers a more real world example, I have `fastcore.meta.FixSigMeta` [ready](./FixSigMeta.ipynb) for you.\n",
    "\n",
    "If you find anything confusing or bug-like, please inform me at in this forum [post](https://forums.fast.ai/t/hidden-docs-of-fastcore/98455)."
   ]
  },
  {
   "cell_type": "markdown",
   "metadata": {},
   "source": [
    "\n",
    "I would like to do is to read the source code, but I would like to have each line indiced so that I can specify exactly which line to dig into later."
   ]
  },
  {
   "cell_type": "markdown",
   "metadata": {},
   "source": [
    "### Step 0: get the globals of the source code before exploration"
   ]
  },
  {
   "cell_type": "code",
   "execution_count": 9,
   "metadata": {},
   "outputs": [],
   "source": [
    "# import fastdebug.utils as fu"
   ]
  },
  {
   "cell_type": "markdown",
   "metadata": {},
   "source": [
    "We are exploring `whatinside`, so we need to have the env (see `g` below) where it is defined for `Fastdb` to use."
   ]
  },
  {
   "cell_type": "code",
   "execution_count": 10,
   "metadata": {},
   "outputs": [],
   "source": [
    "test_eq(whatinside is fu.whatinside, True)\n",
    "test_eq(whatinside is whatinside.__globals__['whatinside'], True)\n",
    "test_eq(fu.whatinside is whatinside.__globals__['whatinside'], True)"
   ]
  },
  {
   "cell_type": "code",
   "execution_count": 11,
   "metadata": {},
   "outputs": [],
   "source": [
    "# import fastdebug\n",
    "# fastdebug\n",
    "\n",
    "# exec(\"import \" + whatinside.__module__.split('.')[0])\n",
    "\n",
    "# fastdebug\n",
    "\n",
    "# exec(\"import fastdebug\")\n",
    "\n",
    "# fastdebug\n",
    "\n",
    "# eval(whatinside.__module__ + \".\" + whatinside.__name__)"
   ]
  },
  {
   "cell_type": "markdown",
   "metadata": {},
   "source": [
    "### Step 1: display the source code with idx"
   ]
  },
  {
   "cell_type": "code",
   "execution_count": 12,
   "metadata": {},
   "outputs": [],
   "source": [
    "from fastdebug.core import *"
   ]
  },
  {
   "cell_type": "code",
   "execution_count": 13,
   "metadata": {},
   "outputs": [
    {
     "name": "stdout",
     "output_type": "stream",
     "text": [
      "<function whatinside at 0x10443d3a0> is <function whatinside at 0x10443d3a0>: True\n"
     ]
    }
   ],
   "source": [
    "# both whatinside and fu.whatinside are the same here, don't matter which\n",
    "# fdb = Fastdb(whatinside) # g is refactored inside Fastdb\n",
    "fdb = Fastdb(fu.whatinside)"
   ]
  },
  {
   "cell_type": "code",
   "execution_count": 14,
   "metadata": {},
   "outputs": [
    {
     "name": "stdout",
     "output_type": "stream",
     "text": [
      "def whatinside(mo, # module, e.g., `import fastcore.all as fa`, use `fa` here=============(0)       \n",
      "               dun:bool=False, # print all items in __all__===============================(1)       \n",
      "               func:bool=False, # print all user defined functions========================(2)       \n",
      "               clas:bool=False, # print all class objects=================================(3)       \n",
      "               bltin:bool=False, # print all builtin funcs or methods=====================(4)       \n",
      "               lib:bool=False, # print all the modules of the library it belongs to=======(5)       \n",
      "               cal:bool=False # print all callables=======================================(6)       \n",
      "             ): ==========================================================================(7)       \n",
      "    'Check what inside a module: `__all__`, functions, classes, builtins, and callables'==(8)       \n",
      "    dun_all = len(mo.__all__) if hasattr(mo, \"__all__\") else 0============================(9)       \n",
      "    funcs = inspect.getmembers(mo, inspect.isfunction)====================================(10)      \n",
      "    classes = inspect.getmembers(mo, inspect.isclass)=====================================(11)      \n",
      "    builtins = inspect.getmembers(mo, inspect.isbuiltin)==================================(12)      \n",
      "    callables = inspect.getmembers(mo, callable)==========================================(13)      \n",
      "    pkgpath = os.path.dirname(mo.__file__)================================================(14)      \n",
      "    print(f\"{mo.__name__} has: \\n{dun_all} items in its __all__, and \\n{len(funcs)} user defined functions, \\n{len(classes)} classes or class objects, \\n{len(builtins)} builtin funcs and methods, and\\n{len(callables)} callables.\\n\")  (15)\n",
      "    if hasattr(mo, \"__all__\") and dun: pprint(mo.__all__)=================================(16)      \n",
      "    if func: =============================================================================(17)      \n",
      "        print(f'The user defined functions are:')=========================================(18)      \n",
      "        pprint([i[0] for i in funcs])=====================================================(19)      \n",
      "    if clas: =============================================================================(20)      \n",
      "        print(f'The class objects are:')==================================================(21)      \n",
      "        pprint([i[0] for i in classes])===================================================(22)      \n",
      "    if bltin: ============================================================================(23)      \n",
      "        print(f'The builtin functions or methods are:')===================================(24)      \n",
      "        pprint([i[0] for i in builtins])==================================================(25)      \n",
      "    if cal: ==============================================================================(26)      \n",
      "        print(f'The callables are: ')=====================================================(27)      \n",
      "        pprint([i[0] for i in callables])=================================================(28)      \n",
      "    if lib: ==============================================================================(29)      \n",
      "        modules = [name for _, name, _ in pkgutil.iter_modules([pkgpath])]================(30)      \n",
      "        print(f'The library has {len(modules)} modules')==================================(31)      \n",
      "        pprint(modules)===================================================================(32)      \n",
      "                                                                                                                                                        (33)\n"
     ]
    }
   ],
   "source": [
    "#| column: screen\n",
    "\n",
    "fdb.print()"
   ]
  },
  {
   "cell_type": "markdown",
   "metadata": {},
   "source": [
    "### Step 2: exploring, evaluating, and commenting as I like"
   ]
  },
  {
   "cell_type": "markdown",
   "metadata": {},
   "source": [
    "I usually write a question for exploration as comment, and after exploration I will replace it with a better summary."
   ]
  },
  {
   "cell_type": "code",
   "execution_count": 15,
   "metadata": {
    "scrolled": false
   },
   "outputs": [
    {
     "name": "stdout",
     "output_type": "stream",
     "text": [
      "             ):                                                                                                                                         (7)\n",
      "    'Check what inside a module: `__all__`, functions, classes, builtins, and callables'                                                                (8)\n",
      "    dun_all = len(mo.__all__) if hasattr(mo, \"__all__\") else 0==========================================================================================(9)\n",
      "                                                                                                                                         \u001b[91mcount num in __all__\u001b[0m\n",
      "    funcs = inspect.getmembers(mo, inspect.isfunction)                                                                                                  (10)\n",
      "    classes = inspect.getmembers(mo, inspect.isclass)                                                                                                   (11)\n",
      "\u001b[93mprint selected srcline with expands above\u001b[0m----------\n",
      "\u001b[93mshowdbsrc=Start\u001b[0m------------------------------------\n",
      "def whatinside(mo, # module, e.g., `import fastcore.all as fa`, use `fa` here---------------------------------------------------------------------------(0)\n",
      "               dun:bool=False, # print all items in __all__---------------------------------------------------------------------------------------------(1)\n",
      "               func:bool=False, # print all user defined functions--------------------------------------------------------------------------------------(2)\n",
      "               clas:bool=False, # print all class objects-----------------------------------------------------------------------------------------------(3)\n",
      "               bltin:bool=False, # print all builtin funcs or methods-----------------------------------------------------------------------------------(4)\n",
      "               lib:bool=False, # print all the modules of the library it belongs to---------------------------------------------------------------------(5)\n",
      "               cal:bool=False # print all callables-----------------------------------------------------------------------------------------------------(6)\n",
      "             ): ----------------------------------------------------------------------------------------------------------------------------------------(7)\n",
      "    'Check what inside a module: `__all__`, functions, classes, builtins, and callables'----------------------------------------------------------------(8)\n",
      "    dun_all = len(mo.__all__) if hasattr(mo, \"__all__\") else 0------------------------------------------------------------------------------------------(9)\n",
      "    funcs = inspect.getmembers(mo, inspect.isfunction)--------------------------------------------------------------------------------------------------(10)\n",
      "    classes = inspect.getmembers(mo, inspect.isclass)---------------------------------------------------------------------------------------------------(11)\n",
      "    builtins = inspect.getmembers(mo, inspect.isbuiltin)------------------------------------------------------------------------------------------------(12)\n",
      "    callables = inspect.getmembers(mo, callable)--------------------------------------------------------------------------------------------------------(13)\n",
      "    pkgpath = os.path.dirname(mo.__file__)--------------------------------------------------------------------------------------------------------------(14)\n",
      "    print(f\"{mo.__name__} has: \\n{dun_all} items in its __all__, and \\n{len(funcs)} user defined functions, \\n{len(classes)} classes or class objects, \\n{len(builtins)} builtin funcs and methods, and\\n{len(callables)} callables.\\n\")  (15)\n",
      "    if hasattr(mo, \"__all__\") and dun: pprint(mo.__all__)-----------------------------------------------------------------------------------------------(16)\n",
      "    if func: -------------------------------------------------------------------------------------------------------------------------------------------(17)\n",
      "        print(f'The user defined functions are:')-------------------------------------------------------------------------------------------------------(18)\n",
      "        pprint([i[0] for i in funcs])-------------------------------------------------------------------------------------------------------------------(19)\n",
      "    if clas: -------------------------------------------------------------------------------------------------------------------------------------------(20)\n",
      "        print(f'The class objects are:')----------------------------------------------------------------------------------------------------------------(21)\n",
      "        pprint([i[0] for i in classes])-----------------------------------------------------------------------------------------------------------------(22)\n",
      "    if bltin: ------------------------------------------------------------------------------------------------------------------------------------------(23)\n",
      "        print(f'The builtin functions or methods are:')-------------------------------------------------------------------------------------------------(24)\n",
      "        pprint([i[0] for i in builtins])----------------------------------------------------------------------------------------------------------------(25)\n",
      "    if cal: --------------------------------------------------------------------------------------------------------------------------------------------(26)\n",
      "        print(f'The callables are: ')-------------------------------------------------------------------------------------------------------------------(27)\n",
      "        pprint([i[0] for i in callables])---------------------------------------------------------------------------------------------------------------(28)\n",
      "    if lib: --------------------------------------------------------------------------------------------------------------------------------------------(29)\n",
      "        modules = [name for _, name, _ in pkgutil.iter_modules([pkgpath])]------------------------------------------------------------------------------(30)\n",
      "        print(f'The library has {len(modules)} modules')------------------------------------------------------------------------------------------------(31)\n",
      "        pprint(modules)---------------------------------------------------------------------------------------------------------------------------------(32)\n",
      "locals() keys: ['self', 'dbcode', 'cmt', 'expand', 'showdbsrc', 'codes', 'src', 'dbsrc', 'indent', 'lst', 'newlst', 'srclines', 'idx', 'l', 'totallen', 'lenidx', 'dblst', 'lenl']\n",
      "before update to exec, whatinside is self.outenv[whatinside]: True\n",
      "\u001b[93mexec on dbsrc above\u001b[0m--------------------------------\n",
      "locals() keys: ['self', 'dbcode', 'cmt', 'expand', 'showdbsrc', 'codes', 'src', 'dbsrc', 'indent', 'lst', 'newlst', 'srclines', 'idx', 'l', 'totallen', 'lenidx', 'dblst', 'lenl', 'names', 'whatinside']\n",
      "self.orisrc.__name__: whatinside\n",
      "locals()[self.orisrc.__name__]: <function whatinside at 0x1044ceee0>\n",
      "\u001b[93mshowdbsrc=End\u001b[0m--------------------------------------\n",
      "after exec and before self.outenv update, self.outenv['whatinside'] is locals()['whatinside']: False\n",
      "after exec and before self.outenv update, whatinside is self.outenv['whatinside']: True\n",
      "after exec and before self.outenv update, whatinside is locals()['whatinside']: False\n",
      "after update self.outenv, whatinside is self.outenv['whatinside']: False\n",
      "after update self.outenv, whatinside is fastdebug.utils.whatinside: False\n",
      "after update self.outenv, self.outenv['whatinside'] is fastdebug.utils.whatinside: True\n",
      "Therefore, to use dbsrc we must use self.outenv['whatinside']\n",
      "def whatinside(mo, # module, e.g., `import fastcore.all as fa`, use `fa` here=============(0)       \n",
      "               dun:bool=False, # print all items in __all__===============================(1)       \n",
      "               func:bool=False, # print all user defined functions========================(2)       \n",
      "               clas:bool=False, # print all class objects=================================(3)       \n",
      "               bltin:bool=False, # print all builtin funcs or methods=====================(4)       \n",
      "               lib:bool=False, # print all the modules of the library it belongs to=======(5)       \n",
      "               cal:bool=False # print all callables=======================================(6)       \n",
      "             ): ==========================================================================(7)       \n",
      "    'Check what inside a module: `__all__`, functions, classes, builtins, and callables'==(8)       \n",
      "    dun_all = len(mo.__all__) if hasattr(mo, \"__all__\") else 0============================(9) # count num in __all__\n",
      "    funcs = inspect.getmembers(mo, inspect.isfunction)====================================(10)      \n",
      "    classes = inspect.getmembers(mo, inspect.isclass)=====================================(11)      \n",
      "    builtins = inspect.getmembers(mo, inspect.isbuiltin)==================================(12)      \n",
      "    callables = inspect.getmembers(mo, callable)==========================================(13)      \n",
      "    pkgpath = os.path.dirname(mo.__file__)================================================(14)      \n",
      "                                                                                                                                     part No.1 out of 2 parts\n"
     ]
    }
   ],
   "source": [
    "#| column: screen\n",
    "fdb.dbprint(9, \"count num in __all__\", showdbsrc=True)\n",
    "fdb.print(maxlines=15, part=1)"
   ]
  },
  {
   "cell_type": "markdown",
   "metadata": {},
   "source": [
    "line 9 looks easy enough, but line 10 is unfamiliar to me, so I would like to explore and dig around it."
   ]
  },
  {
   "cell_type": "markdown",
   "metadata": {},
   "source": [
    "Here are a list of things I want to ask about this line of code \n",
    "\n",
    "1. what is `mo`? (easy)\n",
    "2. what does `inspect.isfunction` do?\n",
    "3. what does `inspect.getmembers` do?\n",
    "4. what does `funcs = inspect.getmembers(mo, inspect.isfunction)` give me?\n",
    "\n",
    "I want to find out about them without searching online, nor using running separate cells to be deleted later."
   ]
  },
  {
   "cell_type": "code",
   "execution_count": 16,
   "metadata": {},
   "outputs": [
    {
     "name": "stdout",
     "output_type": "stream",
     "text": [
      "    'Check what inside a module: `__all__`, functions, classes, builtins, and callables'                                                                (8)\n",
      "    dun_all = len(mo.__all__) if hasattr(mo, \"__all__\") else 0                                                                                          (9)\n",
      "    funcs = inspect.getmembers(mo, inspect.isfunction)==================================================================================================(10)\n",
      "                                                                                                                                    \u001b[91mget all funcs of a module\u001b[0m\n",
      "    classes = inspect.getmembers(mo, inspect.isclass)                                                                                                   (11)\n",
      "    builtins = inspect.getmembers(mo, inspect.isbuiltin)                                                                                                (12)\n",
      "\u001b[93mprint selected srcline with expands above\u001b[0m----------\n",
      "\u001b[93mexec on dbsrc above\u001b[0m--------------------------------\n",
      "\n",
      "\n",
      "                                            mo => mo : <module 'fastcore.meta' from '/Users/Natsume/mambaforge/lib/python3.9/site-packages/fastcore/meta.py'>\n",
      "\n",
      "\n",
      "inspect.getdoc(inspect.isfunction) => inspect.getdoc(inspect.isfunction) : Return true if the object is a user-defined function.\n",
      "\n",
      "Function objects provide these attributes:\n",
      "    __doc__         documentation string\n",
      "    __name__        name with which this function was defined\n",
      "    __code__        code object containing compiled function bytecode\n",
      "    __defaults__    tuple of any default values for arguments\n",
      "    __globals__     global namespace in which this function was defined\n",
      "    __annotations__ dict of parameter annotations\n",
      "    __kwdefaults__  dict of keyword only parameters with defaults\n",
      "\n",
      "\n",
      "inspect.getdoc(inspect.getmembers) => inspect.getdoc(inspect.getmembers) : Return all members of an object as (name, value) pairs sorted by name.\n",
      "Optionally, only return members that satisfy a given predicate.\n",
      "\n",
      "\n",
      "funcs = inspect.getmembers(mo, inspect.isfunction) => funcs: [('_funcs_kwargs', <function _funcs_kwargs at 0x10447baf0>), ('_mk_param', <function _mk_param at 0x10447b820>), ('_rm_self', <function _rm_self at 0x10447b160>), ('all_equal', <function all_equal at 0x10448ad30>), ('anno_dict', <function anno_dict at 0x10447b790>), ('any_is_instance', <function any_is_instance at 0x10448aee0>), ('array_equal', <function array_equal at 0x10448f040>), ('contextmanager', <function contextmanager at 0x101728c10>), ('copy', <function copy at 0x1019d7790>), ('delegates', <function delegates at 0x10447b9d0>), ('df_equal', <function df_equal at 0x10448f0d0>), ('empty2none', <function empty2none at 0x10447b430>), ('equals', <function equals at 0x10448f160>), ('funcs_kwargs', <function funcs_kwargs at 0x10447bb80>), ('in_colab', <function in_colab at 0x10448f310>), ('in_ipython', <function in_ipython at 0x10448f280>), ('in_jupyter', <function in_jupyter at 0x10448f3a0>), ('in_notebook', <function in_notebook at 0x10448f430>), ('ipython_shell', <function ipython_shell at 0x10448f1f0>), ('is_close', <function is_close at 0x10448f8b0>), ('is_coll', <function is_coll at 0x10448aca0>), ('is_iter', <function is_iter at 0x10448aaf0>), ('isinstance_str', <function isinstance_str at 0x10448af70>), ('method', <function method at 0x10447ba60>), ('nequals', <function nequals at 0x10448f670>), ('noop', <function noop at 0x10448adc0>), ('noops', <function noops at 0x10448ae50>), ('remove_prefix', <function remove_prefix at 0x10448f4c0>), ('remove_suffix', <function remove_suffix at 0x10448f550>), ('test', <function test at 0x10448f5e0>), ('test_close', <function test_close at 0x10448f940>), ('test_eq', <function test_eq at 0x10448f700>), ('test_eq_type', <function test_eq_type at 0x10448f790>), ('test_fail', <function test_fail at 0x101524160>), ('test_fig_exists', <function test_fig_exists at 0x10448fc10>), ('test_is', <function test_is at 0x10448f9d0>), ('test_ne', <function test_ne at 0x10448f820>), ('test_shuffled', <function test_shuffled at 0x10448fa60>), ('test_sig', <function test_sig at 0x10443d820>), ('test_stdout', <function test_stdout at 0x10448faf0>), ('test_warns', <function test_warns at 0x10448fb80>), ('use_kwargs', <function use_kwargs at 0x10447b940>), ('use_kwargs_dict', <function use_kwargs_dict at 0x10447b8b0>)]\n",
      "fastcore.meta has: \n",
      "13 items in its __all__, and \n",
      "43 user defined functions, \n",
      "19 classes or class objects, \n",
      "2 builtin funcs and methods, and\n",
      "74 callables.\n",
      "\n"
     ]
    }
   ],
   "source": [
    "#| column: screen\n",
    "dbsrc = fdb.dbprint(10, \"get all funcs of a module\", \"mo\", \"inspect.getdoc(inspect.isfunction)\", \\\n",
    "            \"inspect.getdoc(inspect.getmembers)\", \"funcs = inspect.getmembers(mo, inspect.isfunction)\")\n",
    "fu.whatinside(fm)"
   ]
  },
  {
   "cell_type": "markdown",
   "metadata": {},
   "source": [
    "Intesting and unexpected: something interesting and unexpected things discovered above for myself is the attributes of a function"
   ]
  },
  {
   "cell_type": "markdown",
   "metadata": {},
   "source": [
    "If you want to zoom in the source code, you could cut the source into parts and exam each part individually."
   ]
  },
  {
   "cell_type": "code",
   "execution_count": 17,
   "metadata": {},
   "outputs": [
    {
     "name": "stdout",
     "output_type": "stream",
     "text": [
      "def whatinside(mo, # module, e.g., `import fastcore.all as fa`, use `fa` here=============(0)       \n",
      "               dun:bool=False, # print all items in __all__===============================(1)       \n",
      "               func:bool=False, # print all user defined functions========================(2)       \n",
      "               clas:bool=False, # print all class objects=================================(3)       \n",
      "               bltin:bool=False, # print all builtin funcs or methods=====================(4)       \n",
      "               lib:bool=False, # print all the modules of the library it belongs to=======(5)       \n",
      "               cal:bool=False # print all callables=======================================(6)       \n",
      "             ): ==========================================================================(7)       \n",
      "    'Check what inside a module: `__all__`, functions, classes, builtins, and callables'==(8)       \n",
      "    dun_all = len(mo.__all__) if hasattr(mo, \"__all__\") else 0============================(9) # count num in __all__\n",
      "    funcs = inspect.getmembers(mo, inspect.isfunction)====================================(10) # get all funcs of a module\n",
      "    classes = inspect.getmembers(mo, inspect.isclass)=====================================(11)      \n",
      "    builtins = inspect.getmembers(mo, inspect.isbuiltin)==================================(12)      \n",
      "    callables = inspect.getmembers(mo, callable)==========================================(13)      \n",
      "    pkgpath = os.path.dirname(mo.__file__)================================================(14)      \n",
      "                                                                                                                                     part No.1 out of 2 parts\n"
     ]
    }
   ],
   "source": [
    "#| column: screen\n",
    "fdb.print(maxlines=15, part=1)"
   ]
  },
  {
   "cell_type": "markdown",
   "metadata": {},
   "source": [
    "You may find the `funcs` difficult to read, if so you can write a block of codes to print out the `funcs` nicely."
   ]
  },
  {
   "cell_type": "code",
   "execution_count": 18,
   "metadata": {},
   "outputs": [
    {
     "name": "stdout",
     "output_type": "stream",
     "text": [
      "    dun_all = len(mo.__all__) if hasattr(mo, \"__all__\") else 0                                                                                          (9)\n",
      "    funcs = inspect.getmembers(mo, inspect.isfunction)                                                                                                  (10)\n",
      "    classes = inspect.getmembers(mo, inspect.isclass)===================================================================================================(11)\n",
      "                                                                                                                              \u001b[91mget all classes from the module\u001b[0m\n",
      "    builtins = inspect.getmembers(mo, inspect.isbuiltin)                                                                                                (12)\n",
      "    callables = inspect.getmembers(mo, callable)                                                                                                        (13)\n",
      "\u001b[93mprint selected srcline with expands above\u001b[0m----------\n",
      "\u001b[93mexec on dbsrc above\u001b[0m--------------------------------\n",
      "\n",
      "\n",
      "clas = inspect.getmembers(mo, inspect.isclass)\n",
      "for c in clas:\n",
      "    print(c)                                                                                   \n",
      "                                                                                                                                  Running your code block => \n",
      "The code block printout => : \n",
      "('AutoInit', <class 'fastcore.meta.AutoInit'>)\n",
      "('BuiltinFunctionType', <class 'builtin_function_or_method'>)\n",
      "('BuiltinMethodType', <class 'builtin_function_or_method'>)\n",
      "('BypassNewMeta', <class 'fastcore.meta.BypassNewMeta'>)\n",
      "('ExceptionExpected', <class 'fastcore.test.ExceptionExpected'>)\n",
      "('FixSigMeta', <class 'fastcore.meta.FixSigMeta'>)\n",
      "('FunctionType', <class 'function'>)\n",
      "('MethodDescriptorType', <class 'method_descriptor'>)\n",
      "('MethodType', <class 'method'>)\n",
      "('MethodWrapperType', <class 'method-wrapper'>)\n",
      "('NewChkMeta', <class 'fastcore.meta.NewChkMeta'>)\n",
      "('NoneType', <class 'NoneType'>)\n",
      "('Path', <class 'pathlib.Path'>)\n",
      "('PrePostInitMeta', <class 'fastcore.meta.PrePostInitMeta'>)\n",
      "('SimpleNamespace', <class 'types.SimpleNamespace'>)\n",
      "('WrapperDescriptorType', <class 'wrapper_descriptor'>)\n",
      "('attrgetter', <class 'operator.attrgetter'>)\n",
      "('itemgetter', <class 'operator.itemgetter'>)\n",
      "('partial', <class 'functools.partial'>)\n",
      "fastcore.meta has: \n",
      "13 items in its __all__, and \n",
      "43 user defined functions, \n",
      "19 classes or class objects, \n",
      "2 builtin funcs and methods, and\n",
      "74 callables.\n",
      "\n",
      "def whatinside(mo, # module, e.g., `import fastcore.all as fa`, use `fa` here=============(0)       \n",
      "               dun:bool=False, # print all items in __all__===============================(1)       \n",
      "               func:bool=False, # print all user defined functions========================(2)       \n",
      "               clas:bool=False, # print all class objects=================================(3)       \n",
      "               bltin:bool=False, # print all builtin funcs or methods=====================(4)       \n",
      "               lib:bool=False, # print all the modules of the library it belongs to=======(5)       \n",
      "               cal:bool=False # print all callables=======================================(6)       \n",
      "             ): ==========================================================================(7)       \n",
      "    'Check what inside a module: `__all__`, functions, classes, builtins, and callables'==(8)       \n",
      "    dun_all = len(mo.__all__) if hasattr(mo, \"__all__\") else 0============================(9) # count num in __all__\n",
      "    funcs = inspect.getmembers(mo, inspect.isfunction)====================================(10) # get all funcs of a module\n",
      "    classes = inspect.getmembers(mo, inspect.isclass)=====================================(11) # get all classes from the module\n",
      "    builtins = inspect.getmembers(mo, inspect.isbuiltin)==================================(12)      \n",
      "    callables = inspect.getmembers(mo, callable)==========================================(13)      \n",
      "    pkgpath = os.path.dirname(mo.__file__)================================================(14)      \n",
      "                                                                                                                                     part No.1 out of 2 parts\n"
     ]
    }
   ],
   "source": [
    "#| column: screen\n",
    "dbsrc = fdb.dbprint(11, \"get all classes from the module\", \\\n",
    "\"clas = inspect.getmembers(mo, inspect.isclass)\\\\n\\\n",
    "for c in clas:\\\\n\\\n",
    "    print(c)\")\n",
    "fu.whatinside(fm)\n",
    "fdb.print(maxlines=15, part=1)"
   ]
  },
  {
   "cell_type": "markdown",
   "metadata": {},
   "source": [
    "Keep reading, I want to see what exactly does line 14 do?"
   ]
  },
  {
   "cell_type": "code",
   "execution_count": 19,
   "metadata": {},
   "outputs": [
    {
     "name": "stdout",
     "output_type": "stream",
     "text": [
      "    builtins = inspect.getmembers(mo, inspect.isbuiltin)                                                                                                (12)\n",
      "    callables = inspect.getmembers(mo, callable)                                                                                                        (13)\n",
      "    pkgpath = os.path.dirname(mo.__file__)==============================================================================================================(14)\n",
      "                                                                                                                              \u001b[91mget the file path of the module\u001b[0m\n",
      "    print(f\"{mo.__name__} has: \\n{dun_all} items in its __all__, and \\n{len(funcs)} user defined functions, \\n{len(classes)} classes or class objects, \\n{len(builtins)} builtin funcs and methods, and\\n{len(callables)} callables.\\n\")  (15)\n",
      "    if hasattr(mo, \"__all__\") and dun: pprint(mo.__all__)                                                                                               (16)\n",
      "\u001b[93mprint selected srcline with expands above\u001b[0m----------\n",
      "\u001b[93mexec on dbsrc above\u001b[0m--------------------------------\n",
      "\n",
      "\n",
      "                                                          mo.__file__ => mo.__file__ : /Users/Natsume/mambaforge/lib/python3.9/site-packages/fastcore/meta.py\n",
      "\n",
      "\n",
      "                                           inspect.getdoc(os.path.dirname) => inspect.getdoc(os.path.dirname) : Returns the directory component of a pathname\n",
      "\n",
      "\n",
      "                                            pkgpath = os.path.dirname(mo.__file__) => pkgpath: /Users/Natsume/mambaforge/lib/python3.9/site-packages/fastcore\n",
      "fastcore.meta has: \n",
      "13 items in its __all__, and \n",
      "43 user defined functions, \n",
      "19 classes or class objects, \n",
      "2 builtin funcs and methods, and\n",
      "74 callables.\n",
      "\n",
      "    funcs = inspect.getmembers(mo, inspect.isfunction)====================================(10) # get all funcs of a module\n",
      "    classes = inspect.getmembers(mo, inspect.isclass)=====================================(11) # get all classes from the module\n",
      "    builtins = inspect.getmembers(mo, inspect.isbuiltin)==================================(12)      \n",
      "    callables = inspect.getmembers(mo, callable)==========================================(13)      \n",
      "    pkgpath = os.path.dirname(mo.__file__)================================================(14) # get the file path of the module\n",
      "    print(f\"{mo.__name__} has: \\n{dun_all} items in its __all__, and \\n{len(funcs)} user defined functions, \\n{len(classes)} classes or class objects, \\n{len(builtins)} builtin funcs and methods, and\\n{len(callables)} callables.\\n\")  (15)\n",
      "    if hasattr(mo, \"__all__\") and dun: pprint(mo.__all__)=================================(16)      \n",
      "    if func: =============================================================================(17)      \n",
      "        print(f'The user defined functions are:')=========================================(18)      \n",
      "        pprint([i[0] for i in funcs])=====================================================(19)      \n",
      "                                                                                                                                     part No.2 out of 2 parts\n"
     ]
    }
   ],
   "source": [
    "#| column: screen\n",
    "dbsrc = fdb.dbprint(14, \"get the file path of the module\", \"mo.__file__\", \"inspect.getdoc(os.path.dirname)\", \"pkgpath = os.path.dirname(mo.__file__)\")\n",
    "fu.whatinside(fm)\n",
    "fdb.print(maxlines=10, part=2)"
   ]
  },
  {
   "cell_type": "markdown",
   "metadata": {},
   "source": [
    "Finally, I want to dig into line 30 with a different example to trigger line 30."
   ]
  },
  {
   "cell_type": "code",
   "execution_count": 20,
   "metadata": {},
   "outputs": [
    {
     "name": "stdout",
     "output_type": "stream",
     "text": [
      "    if clas: =============================================================================(20)      \n",
      "        print(f'The class objects are:')==================================================(21)      \n",
      "        pprint([i[0] for i in classes])===================================================(22)      \n",
      "    if bltin: ============================================================================(23)      \n",
      "        print(f'The builtin functions or methods are:')===================================(24)      \n",
      "        pprint([i[0] for i in builtins])==================================================(25)      \n",
      "    if cal: ==============================================================================(26)      \n",
      "        print(f'The callables are: ')=====================================================(27)      \n",
      "        pprint([i[0] for i in callables])=================================================(28)      \n",
      "    if lib: ==============================================================================(29)      \n",
      "        modules = [name for _, name, _ in pkgutil.iter_modules([pkgpath])]================(30)      \n",
      "        print(f'The library has {len(modules)} modules')==================================(31)      \n",
      "        pprint(modules)===================================================================(32)      \n",
      "                                                                                                                                                        (33)\n",
      "                                                                                                                                     part No.2 out of 2 parts\n"
     ]
    }
   ],
   "source": [
    "fdb.print(maxlines=20, part=2)"
   ]
  },
  {
   "cell_type": "code",
   "execution_count": 21,
   "metadata": {
    "scrolled": false
   },
   "outputs": [
    {
     "name": "stdout",
     "output_type": "stream",
     "text": [
      "        pprint([i[0] for i in callables])                                                                                                               (28)\n",
      "    if lib:                                                                                                                                             (29)\n",
      "        modules = [name for _, name, _ in pkgutil.iter_modules([pkgpath])]==============================================================================(30)\n",
      "                                                                                                                            \u001b[91mget names of all modules of a lib\u001b[0m\n",
      "        print(f'The library has {len(modules)} modules')                                                                                                (31)\n",
      "        pprint(modules)                                                                                                                                 (32)\n",
      "\u001b[93mprint selected srcline with expands above\u001b[0m----------\n",
      "\u001b[93mshowdbsrc=Start\u001b[0m------------------------------------\n",
      "def whatinside(mo, # module, e.g., `import fastcore.all as fa`, use `fa` here---------------------------------------------------------------------------(0)\n",
      "               dun:bool=False, # print all items in __all__---------------------------------------------------------------------------------------------(1)\n",
      "               func:bool=False, # print all user defined functions--------------------------------------------------------------------------------------(2)\n",
      "               clas:bool=False, # print all class objects-----------------------------------------------------------------------------------------------(3)\n",
      "               bltin:bool=False, # print all builtin funcs or methods-----------------------------------------------------------------------------------(4)\n",
      "               lib:bool=False, # print all the modules of the library it belongs to---------------------------------------------------------------------(5)\n",
      "               cal:bool=False # print all callables-----------------------------------------------------------------------------------------------------(6)\n",
      "             ): ----------------------------------------------------------------------------------------------------------------------------------------(7)\n",
      "    'Check what inside a module: `__all__`, functions, classes, builtins, and callables'----------------------------------------------------------------(8)\n",
      "    dun_all = len(mo.__all__) if hasattr(mo, \"__all__\") else 0------------------------------------------------------------------------------------------(9)\n",
      "    funcs = inspect.getmembers(mo, inspect.isfunction)--------------------------------------------------------------------------------------------------(10)\n",
      "    classes = inspect.getmembers(mo, inspect.isclass)---------------------------------------------------------------------------------------------------(11)\n",
      "    builtins = inspect.getmembers(mo, inspect.isbuiltin)------------------------------------------------------------------------------------------------(12)\n",
      "    callables = inspect.getmembers(mo, callable)--------------------------------------------------------------------------------------------------------(13)\n",
      "    pkgpath = os.path.dirname(mo.__file__)--------------------------------------------------------------------------------------------------------------(14)\n",
      "    print(f\"{mo.__name__} has: \\n{dun_all} items in its __all__, and \\n{len(funcs)} user defined functions, \\n{len(classes)} classes or class objects, \\n{len(builtins)} builtin funcs and methods, and\\n{len(callables)} callables.\\n\")  (15)\n",
      "    if hasattr(mo, \"__all__\") and dun: pprint(mo.__all__)-----------------------------------------------------------------------------------------------(16)\n",
      "    if func: -------------------------------------------------------------------------------------------------------------------------------------------(17)\n",
      "        print(f'The user defined functions are:')-------------------------------------------------------------------------------------------------------(18)\n",
      "        pprint([i[0] for i in funcs])-------------------------------------------------------------------------------------------------------------------(19)\n",
      "    if clas: -------------------------------------------------------------------------------------------------------------------------------------------(20)\n",
      "        print(f'The class objects are:')----------------------------------------------------------------------------------------------------------------(21)\n",
      "        pprint([i[0] for i in classes])-----------------------------------------------------------------------------------------------------------------(22)\n",
      "    if bltin: ------------------------------------------------------------------------------------------------------------------------------------------(23)\n",
      "        print(f'The builtin functions or methods are:')-------------------------------------------------------------------------------------------------(24)\n",
      "        pprint([i[0] for i in builtins])----------------------------------------------------------------------------------------------------------------(25)\n",
      "    if cal: --------------------------------------------------------------------------------------------------------------------------------------------(26)\n",
      "        print(f'The callables are: ')-------------------------------------------------------------------------------------------------------------------(27)\n",
      "        pprint([i[0] for i in callables])---------------------------------------------------------------------------------------------------------------(28)\n",
      "    if lib: --------------------------------------------------------------------------------------------------------------------------------------------(29)\n",
      "        g = locals()------------------------------------------------------------------------------------------------------------------------------------(30)\n",
      "        dbprintinsert(\"pkgpath\",\"inspect.getdoc(pkgutil.iter_modules)\",\"for a, b, c in pkgutil.iter_modules([pkgpath]):\\n    print(f'{a} ; {b}; {c}')\",env=g)(db)\n",
      "        modules = [name for _, name, _ in pkgutil.iter_modules([pkgpath])]------------------------------------------------------------------------------(32)\n",
      "        print(f'The library has {len(modules)} modules')------------------------------------------------------------------------------------------------(33)\n",
      "        pprint(modules)---------------------------------------------------------------------------------------------------------------------------------(34)\n",
      "locals() keys: ['self', 'dbcode', 'cmt', 'expand', 'showdbsrc', 'codes', 'src', 'dbsrc', 'indent', 'lst', 'newlst', 'i', 'srclines', 'idx', 'l', 'numindent', 'dbcodes', 'count', 'c', 'totallen', 'lenidx', 'dblst', 'lenl']\n",
      "before update to exec, whatinside is self.outenv[whatinside]: False\n",
      "\u001b[93mexec on dbsrc above\u001b[0m--------------------------------\n",
      "locals() keys: ['self', 'dbcode', 'cmt', 'expand', 'showdbsrc', 'codes', 'src', 'dbsrc', 'indent', 'lst', 'newlst', 'i', 'srclines', 'idx', 'l', 'numindent', 'dbcodes', 'count', 'c', 'totallen', 'lenidx', 'dblst', 'lenl', 'names', 'whatinside']\n",
      "self.orisrc.__name__: whatinside\n",
      "locals()[self.orisrc.__name__]: <function whatinside at 0x1044ceca0>\n",
      "\u001b[93mshowdbsrc=End\u001b[0m--------------------------------------\n",
      "after exec and before self.outenv update, self.outenv['whatinside'] is locals()['whatinside']: False\n",
      "after exec and before self.outenv update, whatinside is self.outenv['whatinside']: False\n",
      "after exec and before self.outenv update, whatinside is locals()['whatinside']: False\n",
      "after update self.outenv, whatinside is self.outenv['whatinside']: False\n",
      "after update self.outenv, whatinside is fastdebug.utils.whatinside: False\n",
      "after update self.outenv, self.outenv['whatinside'] is fastdebug.utils.whatinside: True\n",
      "Therefore, to use dbsrc we must use self.outenv['whatinside']\n",
      "fastcore.meta has: \n",
      "13 items in its __all__, and \n",
      "43 user defined functions, \n",
      "19 classes or class objects, \n",
      "2 builtin funcs and methods, and\n",
      "74 callables.\n",
      "\n",
      "\n",
      "\n",
      "                                                                          pkgpath => pkgpath : /Users/Natsume/mambaforge/lib/python3.9/site-packages/fastcore\n",
      "\n",
      "\n",
      "inspect.getdoc(pkgutil.iter_modules) => inspect.getdoc(pkgutil.iter_modules) : Yields ModuleInfo for all submodules on path,\n",
      "or, if path is None, all top-level modules on sys.path.\n",
      "\n",
      "'path' should be either None or a list of paths to look for\n",
      "modules in.\n",
      "\n",
      "'prefix' is a string to output on the front of every module name\n",
      "on output.\n",
      "\n",
      "\n",
      "for a, b, c in pkgutil.iter_modules([pkgpath]):\n",
      "    print(f'{a} ; {b}; {c}')                                                                                 \n",
      "                                                                                                                                  Running your code block => \n",
      "The code block printout => : \n",
      "FileFinder('/Users/Natsume/mambaforge/lib/python3.9/site-packages/fastcore') ; _modidx; False\n",
      "FileFinder('/Users/Natsume/mambaforge/lib/python3.9/site-packages/fastcore') ; _nbdev; False\n",
      "FileFinder('/Users/Natsume/mambaforge/lib/python3.9/site-packages/fastcore') ; all; False\n",
      "FileFinder('/Users/Natsume/mambaforge/lib/python3.9/site-packages/fastcore') ; basics; False\n",
      "FileFinder('/Users/Natsume/mambaforge/lib/python3.9/site-packages/fastcore') ; dispatch; False\n",
      "FileFinder('/Users/Natsume/mambaforge/lib/python3.9/site-packages/fastcore') ; docments; False\n",
      "FileFinder('/Users/Natsume/mambaforge/lib/python3.9/site-packages/fastcore') ; docscrape; False\n",
      "FileFinder('/Users/Natsume/mambaforge/lib/python3.9/site-packages/fastcore') ; foundation; False\n",
      "FileFinder('/Users/Natsume/mambaforge/lib/python3.9/site-packages/fastcore') ; imports; False\n",
      "FileFinder('/Users/Natsume/mambaforge/lib/python3.9/site-packages/fastcore') ; meta; False\n",
      "FileFinder('/Users/Natsume/mambaforge/lib/python3.9/site-packages/fastcore') ; nb_imports; False\n",
      "FileFinder('/Users/Natsume/mambaforge/lib/python3.9/site-packages/fastcore') ; net; False\n",
      "FileFinder('/Users/Natsume/mambaforge/lib/python3.9/site-packages/fastcore') ; parallel; False\n",
      "FileFinder('/Users/Natsume/mambaforge/lib/python3.9/site-packages/fastcore') ; script; False\n",
      "FileFinder('/Users/Natsume/mambaforge/lib/python3.9/site-packages/fastcore') ; shutil; False\n",
      "FileFinder('/Users/Natsume/mambaforge/lib/python3.9/site-packages/fastcore') ; style; False\n",
      "FileFinder('/Users/Natsume/mambaforge/lib/python3.9/site-packages/fastcore') ; test; False\n",
      "FileFinder('/Users/Natsume/mambaforge/lib/python3.9/site-packages/fastcore') ; transform; False\n",
      "FileFinder('/Users/Natsume/mambaforge/lib/python3.9/site-packages/fastcore') ; utils; False\n",
      "FileFinder('/Users/Natsume/mambaforge/lib/python3.9/site-packages/fastcore') ; xdg; False\n",
      "FileFinder('/Users/Natsume/mambaforge/lib/python3.9/site-packages/fastcore') ; xtras; False\n",
      "The library has 21 modules\n",
      "['_modidx',\n",
      " '_nbdev',\n",
      " 'all',\n",
      " 'basics',\n",
      " 'dispatch',\n",
      " 'docments',\n",
      " 'docscrape',\n",
      " 'foundation',\n",
      " 'imports',\n",
      " 'meta',\n",
      " 'nb_imports',\n",
      " 'net',\n",
      " 'parallel',\n",
      " 'script',\n",
      " 'shutil',\n",
      " 'style',\n",
      " 'test',\n",
      " 'transform',\n",
      " 'utils',\n",
      " 'xdg',\n",
      " 'xtras']\n",
      "    if clas: =============================================================================(20)      \n",
      "        print(f'The class objects are:')==================================================(21)      \n",
      "        pprint([i[0] for i in classes])===================================================(22)      \n",
      "    if bltin: ============================================================================(23)      \n",
      "        print(f'The builtin functions or methods are:')===================================(24)      \n",
      "        pprint([i[0] for i in builtins])==================================================(25)      \n",
      "    if cal: ==============================================================================(26)      \n",
      "        print(f'The callables are: ')=====================================================(27)      \n",
      "        pprint([i[0] for i in callables])=================================================(28)      \n",
      "    if lib: ==============================================================================(29)      \n",
      "        modules = [name for _, name, _ in pkgutil.iter_modules([pkgpath])]================(30) # get names of all modules of a lib\n",
      "        print(f'The library has {len(modules)} modules')==================================(31)      \n",
      "        pprint(modules)===================================================================(32)      \n",
      "                                                                                                                                                        (33)\n",
      "                                                                                                                                     part No.2 out of 2 parts\n"
     ]
    }
   ],
   "source": [
    "#| column: screen\n",
    "dbsrc = fdb.dbprint(30, \"get names of all modules of a lib\", \"pkgpath\", \"inspect.getdoc(pkgutil.iter_modules)\", \\\n",
    "\"for a, b, c in pkgutil.iter_modules([pkgpath]):\\\\n\\\n",
    "    print(f'{a} ; {b}; {c}')\", showdbsrc=True)\n",
    "fu.whatinside(fm, lib=True)\n",
    "fdb.print(maxlines=20, part=2)"
   ]
  },
  {
   "cell_type": "markdown",
   "metadata": {},
   "source": [
    "Now, let's see the source code with all comments we made above. (After running each cell, I can rewrite the comment to sum what I explored)"
   ]
  },
  {
   "cell_type": "code",
   "execution_count": 22,
   "metadata": {},
   "outputs": [
    {
     "name": "stdout",
     "output_type": "stream",
     "text": [
      "def whatinside(mo, # module, e.g., `import fastcore.all as fa`, use `fa` here=============(0)       \n",
      "               dun:bool=False, # print all items in __all__===============================(1)       \n",
      "               func:bool=False, # print all user defined functions========================(2)       \n",
      "               clas:bool=False, # print all class objects=================================(3)       \n",
      "               bltin:bool=False, # print all builtin funcs or methods=====================(4)       \n",
      "               lib:bool=False, # print all the modules of the library it belongs to=======(5)       \n",
      "               cal:bool=False # print all callables=======================================(6)       \n",
      "             ): ==========================================================================(7)       \n",
      "    'Check what inside a module: `__all__`, functions, classes, builtins, and callables'==(8)       \n",
      "    dun_all = len(mo.__all__) if hasattr(mo, \"__all__\") else 0============================(9) # count num in __all__\n",
      "    funcs = inspect.getmembers(mo, inspect.isfunction)====================================(10) # get all funcs of a module\n",
      "    classes = inspect.getmembers(mo, inspect.isclass)=====================================(11) # get all classes from the module\n",
      "    builtins = inspect.getmembers(mo, inspect.isbuiltin)==================================(12)      \n",
      "    callables = inspect.getmembers(mo, callable)==========================================(13)      \n",
      "    pkgpath = os.path.dirname(mo.__file__)================================================(14) # get the file path of the module\n",
      "    print(f\"{mo.__name__} has: \\n{dun_all} items in its __all__, and \\n{len(funcs)} user defined functions, \\n{len(classes)} classes or class objects, \\n{len(builtins)} builtin funcs and methods, and\\n{len(callables)} callables.\\n\")  (15)\n",
      "    if hasattr(mo, \"__all__\") and dun: pprint(mo.__all__)=================================(16)      \n",
      "    if func: =============================================================================(17)      \n",
      "        print(f'The user defined functions are:')=========================================(18)      \n",
      "        pprint([i[0] for i in funcs])=====================================================(19)      \n",
      "    if clas: =============================================================================(20)      \n",
      "        print(f'The class objects are:')==================================================(21)      \n",
      "        pprint([i[0] for i in classes])===================================================(22)      \n",
      "    if bltin: ============================================================================(23)      \n",
      "        print(f'The builtin functions or methods are:')===================================(24)      \n",
      "        pprint([i[0] for i in builtins])==================================================(25)      \n",
      "    if cal: ==============================================================================(26)      \n",
      "        print(f'The callables are: ')=====================================================(27)      \n",
      "        pprint([i[0] for i in callables])=================================================(28)      \n",
      "    if lib: ==============================================================================(29)      \n",
      "        modules = [name for _, name, _ in pkgutil.iter_modules([pkgpath])]================(30) # get names of all modules of a lib\n",
      "        print(f'The library has {len(modules)} modules')==================================(31)      \n",
      "        pprint(modules)===================================================================(32)      \n",
      "                                                                                                                                                        (33)\n"
     ]
    }
   ],
   "source": [
    "fdb.print()"
   ]
  },
  {
   "cell_type": "markdown",
   "metadata": {},
   "source": [
    "### Step 3: replace the db source with the original source code"
   ]
  },
  {
   "cell_type": "markdown",
   "metadata": {},
   "source": [
    "To finish, I need to give `whatinside` its own untouched source code back"
   ]
  },
  {
   "cell_type": "code",
   "execution_count": 23,
   "metadata": {},
   "outputs": [],
   "source": [
    "import inspect"
   ]
  },
  {
   "cell_type": "code",
   "execution_count": 24,
   "metadata": {},
   "outputs": [],
   "source": [
    "test_eq(inspect.getsourcefile(whatinside.__globals__['whatinside']), '<string>')\n",
    "test_eq(inspect.getsourcefile(fu.whatinside), '<string>')\n",
    "test_eq(fu.whatinside is whatinside.__globals__['whatinside'], True)\n",
    "\n",
    "test_eq(whatinside is whatinside.__globals__['whatinside'], False)\n",
    "test_eq(whatinside is fu.whatinside, False)\n",
    "test_eq(inspect.getsourcefile(whatinside), '/Users/Natsume/Documents/fastdebug/fastdebug/utils.py')"
   ]
  },
  {
   "cell_type": "code",
   "execution_count": 25,
   "metadata": {},
   "outputs": [],
   "source": [
    "fdb.goback()"
   ]
  },
  {
   "cell_type": "code",
   "execution_count": 26,
   "metadata": {},
   "outputs": [],
   "source": [
    "test_eq(inspect.getsourcefile(fu.whatinside), '/Users/Natsume/Documents/fastdebug/fastdebug/utils.py')\n",
    "test_eq(fu.whatinside is whatinside.__globals__['whatinside'], True)\n",
    "test_eq(whatinside is whatinside.__globals__['whatinside'], True)\n",
    "test_eq(whatinside is fu.whatinside, True)"
   ]
  },
  {
   "cell_type": "markdown",
   "metadata": {},
   "source": [
    "To check, when run `whatinside??` we should see the actually source code whereas the db version of `whatinside` does not have."
   ]
  },
  {
   "cell_type": "markdown",
   "metadata": {},
   "source": [
    "## Install"
   ]
  },
  {
   "cell_type": "markdown",
   "metadata": {},
   "source": [
    "```sh\n",
    "pip install fastdebug\n",
    "```"
   ]
  },
  {
   "cell_type": "markdown",
   "metadata": {},
   "source": [
    "## How to use"
   ]
  },
  {
   "cell_type": "markdown",
   "metadata": {},
   "source": [
    "Fill me in please! Don't forget code examples:"
   ]
  },
  {
   "cell_type": "code",
   "execution_count": 27,
   "metadata": {},
   "outputs": [
    {
     "data": {
      "text/plain": [
       "2"
      ]
     },
     "execution_count": 27,
     "metadata": {},
     "output_type": "execute_result"
    }
   ],
   "source": [
    "1+1"
   ]
  },
  {
   "cell_type": "code",
   "execution_count": null,
   "metadata": {},
   "outputs": [],
   "source": []
  }
 ],
 "metadata": {
  "hide_input": false,
  "kernelspec": {
   "display_name": "Python 3 (ipykernel)",
   "language": "python",
   "name": "python3"
  },
  "language_info": {
   "codemirror_mode": {
    "name": "ipython",
    "version": 3
   },
   "file_extension": ".py",
   "mimetype": "text/x-python",
   "name": "python",
   "nbconvert_exporter": "python",
   "pygments_lexer": "ipython3",
   "version": "3.9.13"
  },
  "toc": {
   "base_numbering": 1,
   "nav_menu": {},
   "number_sections": true,
   "sideBar": true,
   "skip_h1_title": false,
   "title_cell": "Table of Contents",
   "title_sidebar": "Contents",
   "toc_cell": false,
   "toc_position": {
    "height": "calc(100% - 180px)",
    "left": "10px",
    "top": "150px",
    "width": "288px"
   },
   "toc_section_display": true,
   "toc_window_display": true
  }
 },
 "nbformat": 4,
 "nbformat_minor": 4
}
