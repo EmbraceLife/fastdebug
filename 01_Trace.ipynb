{
 "cells": [
  {
   "cell_type": "markdown",
   "id": "835d7b38",
   "metadata": {},
   "source": [
    "## Explore and document `inspect._signature_from_callable` (a long src)"
   ]
  },
  {
   "cell_type": "code",
   "execution_count": null,
   "id": "9029dccb-9cad-45a9-b4e1-0b445bf7eb3d",
   "metadata": {},
   "outputs": [],
   "source": [
    "# from IPython.core.display import display, HTML # a depreciated import\n",
    "from IPython.display import display, HTML "
   ]
  },
  {
   "cell_type": "code",
   "execution_count": null,
   "id": "9b940390-ce64-471d-9ccc-811cb1589912",
   "metadata": {},
   "outputs": [
    {
     "data": {
      "text/html": [
       "<style>.container { width:100% !important; }</style>"
      ],
      "text/plain": [
       "<IPython.core.display.HTML object>"
      ]
     },
     "metadata": {},
     "output_type": "display_data"
    }
   ],
   "source": [
    "display(HTML(\"<style>.container { width:100% !important; }</style>\"))"
   ]
  },
  {
   "cell_type": "markdown",
   "id": "aea7f72d",
   "metadata": {},
   "source": [
    "### a single line example"
   ]
  },
  {
   "cell_type": "code",
   "execution_count": null,
   "id": "0bbeebe3",
   "metadata": {},
   "outputs": [],
   "source": [
    "import snoop\n",
    "from fastdebug.utils import whatinside\n",
    "import inspect"
   ]
  },
  {
   "cell_type": "code",
   "execution_count": null,
   "id": "1e877f26",
   "metadata": {},
   "outputs": [
    {
     "data": {
      "text/plain": [
       "<Signature (mo, dun: bool = False, func: bool = False, clas: bool = False, bltin: bool = False, lib: bool = False, cal: bool = False)>"
      ]
     },
     "execution_count": null,
     "metadata": {},
     "output_type": "execute_result"
    }
   ],
   "source": [
    "inspect._signature_from_callable(whatinside, sigcls=inspect.Signature)"
   ]
  },
  {
   "cell_type": "markdown",
   "id": "c6934e87",
   "metadata": {},
   "source": [
    "### Snoop it"
   ]
  },
  {
   "cell_type": "code",
   "execution_count": null,
   "id": "498ef59e",
   "metadata": {},
   "outputs": [],
   "source": [
    "from fastdebug.core import *"
   ]
  },
  {
   "cell_type": "code",
   "execution_count": null,
   "id": "15deafc5",
   "metadata": {},
   "outputs": [],
   "source": [
    "fdb = Fastdb(inspect._signature_from_callable)"
   ]
  },
  {
   "cell_type": "code",
   "execution_count": null,
   "id": "dbc0ff45",
   "metadata": {},
   "outputs": [],
   "source": [
    "fdb.takExample(\"inspect._signature_from_callable(whatinside, sigcls=inspect.Signature)\", inspect=inspect, whatinside=whatinside)"
   ]
  },
  {
   "cell_type": "code",
   "execution_count": null,
   "id": "3e3a9ed0",
   "metadata": {},
   "outputs": [
    {
     "name": "stderr",
     "output_type": "stream",
     "text": [
      "11:25:00.39 >>> Call to _signature_from_callable in File \"/Users/Natsume/mambaforge/lib/python3.9/inspect.py\", line 2246\n",
      "11:25:00.39 ...... obj = <function whatinside at 0x11f28cdc0>\n",
      "11:25:00.39 ...... follow_wrapper_chains = True\n",
      "11:25:00.39 ...... skip_bound_arg = True\n",
      "11:25:00.39 ...... sigcls = <class 'inspect.Signature'>\n",
      "11:25:00.39 2246 | def _signature_from_callable(obj, *,\n",
      "11:25:00.39 2255 |     _get_signature_of = functools.partial(_signature_from_callable,\n",
      "11:25:00.39 2256 |                                 follow_wrapper_chains=follow_wrapper_chains,\n",
      "11:25:00.39 2257 |                                 skip_bound_arg=skip_bound_arg,\n",
      "11:25:00.39 2258 |                                 sigcls=sigcls)\n",
      "11:25:00.39 2255 |     _get_signature_of = functools.partial(_signature_from_callable,\n",
      "11:25:00.39 .......... _get_signature_of = functools.partial(<function _signature_from_call...und_arg=True, sigcls=<class 'inspect.Signature'>)\n",
      "11:25:00.39 2260 |     if not callable(obj):\n",
      "11:25:00.39 2263 |     if isinstance(obj, types.MethodType):\n",
      "11:25:00.39 2274 |     if follow_wrapper_chains:\n",
      "11:25:00.39 2275 |         obj = unwrap(obj, stop=(lambda f: hasattr(f, \"__signature__\")))\n",
      "11:25:00.39 2276 |         if isinstance(obj, types.MethodType):\n",
      "11:25:00.39 2282 |     try:\n",
      "11:25:00.39 2283 |         sig = obj.__signature__\n",
      "11:25:00.72 !!! AttributeError: 'function' object has no attribute '__signature__'\n",
      "11:25:00.72 !!! When getting attribute: obj.__signature__\n",
      "11:25:00.72 2284 |     except AttributeError:\n",
      "11:25:00.72 2285 |         pass\n",
      "11:25:00.72 2294 |     try:\n",
      "11:25:00.72 2295 |         partialmethod = obj._partialmethod\n",
      "11:25:00.73 !!! AttributeError: 'function' object has no attribute '_partialmethod'\n",
      "11:25:00.73 !!! When getting attribute: obj._partialmethod\n",
      "11:25:00.74 2296 |     except AttributeError:\n",
      "11:25:00.74 2297 |         pass\n",
      "11:25:00.74 2322 |     if isfunction(obj) or _signature_is_functionlike(obj):\n",
      "11:25:00.74 2325 |         return _signature_from_function(sigcls, obj,\n",
      "11:25:00.74 2326 |                                         skip_bound_arg=skip_bound_arg)\n",
      "11:25:00.74 2325 |         return _signature_from_function(sigcls, obj,\n",
      "11:25:00.74 <<< Return value from _signature_from_callable: <Signature (mo, dun: bool = False, func: bool = ...l = False, lib: bool = False, cal: bool = False)>\n"
     ]
    }
   ],
   "source": [
    "fdb.snoop()"
   ]
  },
  {
   "cell_type": "markdown",
   "id": "83633015",
   "metadata": {},
   "source": [
    "### Start documenting"
   ]
  },
  {
   "cell_type": "code",
   "execution_count": null,
   "id": "a059dad0",
   "metadata": {},
   "outputs": [
    {
     "name": "stdout",
     "output_type": "stream",
     "text": [
      "=================================================     Investigating \u001b[91;1m_signature_from_callable\u001b[0m     =================================================\n",
      "===============================================================     on line \u001b[91;1m76\u001b[0m     ===============================================================\n",
      "==========================     with example \u001b[91;1minspect._signature_from_callable(whatinside, sigcls=inspect.Signature)\u001b[0m     ===========================\n",
      "\n",
      "                return sig.replace(parameters=new_params)                                                                                               (74)\n",
      "                                                                                                                                                        (75)\n",
      "    if isfunction(obj) or _signature_is_functionlike(obj):==============================================================================================(76)\n",
      "                                                                                            \u001b[91;1mwhatinside's sig is finally processed by _signature_from_function\u001b[0m\n",
      "        # If it's a pure Python function, or an object that is duck type                                                                                (77)\n",
      "        # of a Python function (Cython functions, for instance), then:                                                                                  (78)\n",
      "\n",
      "==================================================================================================================\u001b[91;1mStart of my srcline exploration:\u001b[0m\n",
      "\n",
      "\n",
      "                                                                                                            obj => obj : <function whatinside at 0x11f28cdc0>\n",
      "\n",
      "\n",
      "                                                                                                                    isfunction(obj) => isfunction(obj) : True\n",
      "====================================================================================================================\u001b[91;1mEnd of my srcline exploration:\u001b[0m\n",
      "\n",
      "<Signature (mo, dun: bool = False, func: bool = False, clas: bool = False, bltin: bool = False, lib: bool = False, cal: bool = False)>\n",
      "\n",
      "\u001b[93;1mReview srcode with all comments added so far\u001b[0m======================================================================================================\n",
      "                # First argument of the wrapped callable is `*args`, as in================(66)      \n",
      "                # `partialmethod(lambda *args)`.==========================================(67)      \n",
      "                return sig================================================================(68)      \n",
      "            else:=========================================================================(69)      \n",
      "                sig_params = tuple(sig.parameters.values())===============================(70)      \n",
      "                assert (not sig_params or=================================================(71)      \n",
      "                        first_wrapped_param is not sig_params[0])=========================(72)      \n",
      "                new_params = (first_wrapped_param,) + sig_params==========================(73)      \n",
      "                return sig.replace(parameters=new_params)=================================(74)      \n",
      "                                                                                                                                                        (75)\n",
      "    if isfunction(obj) or _signature_is_functionlike(obj):================================(76) # spot 0: \u001b[35;1mwhatinside's sig is finally processed by _signature_from_function\u001b[0m\n",
      "        # If it's a pure Python function, or an object that is duck type==================(77)      \n",
      "        # of a Python function (Cython functions, for instance), then:====================(78)      \n",
      "        return _signature_from_function(sigcls, obj,======================================(79)      \n",
      "                                        skip_bound_arg=skip_bound_arg)====================(80)      \n",
      "                                                                                                                                                        (81)\n",
      "    if _signature_is_builtin(obj):========================================================(82)      \n",
      "        return _signature_from_builtin(sigcls, obj,=======================================(83)      \n",
      "                                       skip_bound_arg=skip_bound_arg)=====================(84)      \n",
      "                                                                                                                                                        (85)\n",
      "    if isinstance(obj, functools.partial):================================================(86)      \n",
      "        wrapped_sig = _get_signature_of(obj.func)=========================================(87)      \n",
      "        return _signature_get_partial(wrapped_sig, obj)===================================(88)      \n",
      "                                                                                                                                                        (89)\n",
      "    sig = None============================================================================(90)      \n",
      "    if isinstance(obj, type):=============================================================(91)      \n",
      "        # obj is a class or a metaclass===================================================(92)      \n",
      "                                                                                                                                                        (93)\n",
      "        # First, let's see if it has an overloaded __call__ defined=======================(94)      \n",
      "        # in its metaclass================================================================(95)      \n",
      "        call = _signature_get_user_defined_method(type(obj), '__call__')==================(96)      \n",
      "        if call is not None:==============================================================(97)      \n",
      "            sig = _get_signature_of(call)=================================================(98)      \n",
      "                                                                                                                                     part No.3 out of 6 parts\n",
      "\n"
     ]
    },
    {
     "data": {
      "text/plain": [
       "<function inspect._signature_from_callable(obj, *, follow_wrapper_chains=True, skip_bound_arg=True, sigcls)>"
      ]
     },
     "execution_count": null,
     "metadata": {},
     "output_type": "execute_result"
    }
   ],
   "source": [
    "fdb.dbprint(76, \"whatinside's sig is finally processed by _signature_from_function\", \"obj\", \"isfunction(obj)\")"
   ]
  },
  {
   "cell_type": "code",
   "execution_count": null,
   "id": "3eac4b53",
   "metadata": {},
   "outputs": [
    {
     "data": {
      "text/plain": [
       "<Signature (a, b, c)>"
      ]
     },
     "execution_count": null,
     "metadata": {},
     "output_type": "execute_result"
    }
   ],
   "source": [
    "class Foo_init:\n",
    "    def __init__(self, a, b, c): pass\n",
    "\n",
    "inspect._signature_from_callable(Foo_init, sigcls=inspect.Signature)"
   ]
  },
  {
   "cell_type": "markdown",
   "id": "75b38072",
   "metadata": {},
   "source": [
    "### Example: Foo get sig from its `__init__`"
   ]
  },
  {
   "cell_type": "code",
   "execution_count": null,
   "id": "58f3f03f",
   "metadata": {},
   "outputs": [],
   "source": [
    "example = \"\"\"\n",
    "class Foo_init:\n",
    "    def __init__(self, a, b, c): pass\n",
    "\n",
    "inspect._signature_from_callable(Foo_init, sigcls=inspect.Signature)\n",
    "\"\"\""
   ]
  },
  {
   "cell_type": "code",
   "execution_count": null,
   "id": "af6accf3",
   "metadata": {},
   "outputs": [],
   "source": [
    "fdb.takExample(example, inspect=inspect, Foo_init=Foo_init)"
   ]
  },
  {
   "cell_type": "code",
   "execution_count": null,
   "id": "758b8880",
   "metadata": {},
   "outputs": [
    {
     "name": "stderr",
     "output_type": "stream",
     "text": [
      "11:25:00.76 >>> Call to _signature_from_callable in File \"/Users/Natsume/mambaforge/lib/python3.9/inspect.py\", line 2246\n",
      "11:25:00.76 ...... obj = <class '__main__.Foo_init'>\n",
      "11:25:00.76 ...... follow_wrapper_chains = True\n",
      "11:25:00.76 ...... skip_bound_arg = True\n",
      "11:25:00.76 ...... sigcls = <class 'inspect.Signature'>\n",
      "11:25:00.76 2246 | def _signature_from_callable(obj, *,\n",
      "11:25:00.76 2255 |     _get_signature_of = functools.partial(_signature_from_callable,\n",
      "11:25:00.76 2256 |                                 follow_wrapper_chains=follow_wrapper_chains,\n",
      "11:25:00.76 2257 |                                 skip_bound_arg=skip_bound_arg,\n",
      "11:25:00.76 2258 |                                 sigcls=sigcls)\n",
      "11:25:00.76 2255 |     _get_signature_of = functools.partial(_signature_from_callable,\n",
      "11:25:00.76 .......... _get_signature_of = functools.partial(<function _signature_from_call...und_arg=True, sigcls=<class 'inspect.Signature'>)\n",
      "11:25:00.76 2260 |     if not callable(obj):\n",
      "11:25:00.76 2263 |     if isinstance(obj, types.MethodType):\n",
      "11:25:00.76 2274 |     if follow_wrapper_chains:\n",
      "11:25:00.76 2275 |         obj = unwrap(obj, stop=(lambda f: hasattr(f, \"__signature__\")))\n",
      "11:25:00.76 2276 |         if isinstance(obj, types.MethodType):\n",
      "11:25:00.76 2282 |     try:\n",
      "11:25:00.76 2283 |         sig = obj.__signature__\n",
      "11:25:00.76 !!! AttributeError: type object 'Foo_init' has no attribute '__signature__'\n",
      "11:25:00.76 !!! When getting attribute: obj.__signature__\n",
      "11:25:00.77 2284 |     except AttributeError:\n",
      "11:25:00.77 2285 |         pass\n",
      "11:25:00.77 2294 |     try:\n",
      "11:25:00.77 2295 |         partialmethod = obj._partialmethod\n",
      "11:25:00.77 !!! AttributeError: type object 'Foo_init' has no attribute '_partialmethod'\n",
      "11:25:00.77 !!! When getting attribute: obj._partialmethod\n",
      "11:25:00.77 2296 |     except AttributeError:\n",
      "11:25:00.77 2297 |         pass\n",
      "11:25:00.77 2322 |     if isfunction(obj) or _signature_is_functionlike(obj):\n",
      "11:25:00.77 2328 |     if _signature_is_builtin(obj):\n",
      "11:25:00.77 2332 |     if isinstance(obj, functools.partial):\n",
      "11:25:00.77 2336 |     sig = None\n",
      "11:25:00.77 2337 |     if isinstance(obj, type):\n",
      "11:25:00.77 2342 |         call = _signature_get_user_defined_method(type(obj), '__call__')\n",
      "11:25:00.77 .............. call = None\n",
      "11:25:00.77 2343 |         if call is not None:\n",
      "11:25:00.77 2346 |             factory_method = None\n",
      "11:25:00.77 2347 |             new = _signature_get_user_defined_method(obj, '__new__')\n",
      "11:25:00.77 .................. new = None\n",
      "11:25:00.77 2348 |             init = _signature_get_user_defined_method(obj, '__init__')\n",
      "11:25:00.77 .................. init = <function Foo_init.__init__ at 0x12c640040>\n",
      "11:25:00.77 2350 |             if '__new__' in obj.__dict__:\n",
      "11:25:00.77 2353 |             elif '__init__' in obj.__dict__:\n",
      "11:25:00.77 2354 |                 factory_method = init\n",
      "11:25:00.77 ...................... factory_method = <function Foo_init.__init__ at 0x12c640040>\n",
      "11:25:00.77 2361 |             if factory_method is not None:\n",
      "11:25:00.77 2362 |                 sig = _get_signature_of(factory_method)\n",
      "    11:25:00.77 >>> Call to _signature_from_callable in File \"/Users/Natsume/mambaforge/lib/python3.9/inspect.py\", line 2246\n",
      "    11:25:00.77 ...... obj = <function Foo_init.__init__ at 0x12c640040>\n",
      "    11:25:00.77 ...... follow_wrapper_chains = True\n",
      "    11:25:00.77 ...... skip_bound_arg = True\n",
      "    11:25:00.77 ...... sigcls = <class 'inspect.Signature'>\n",
      "    11:25:00.77 2246 | def _signature_from_callable(obj, *,\n",
      "    11:25:00.77 2255 |     _get_signature_of = functools.partial(_signature_from_callable,\n",
      "    11:25:00.77 2256 |                                 follow_wrapper_chains=follow_wrapper_chains,\n",
      "    11:25:00.77 2257 |                                 skip_bound_arg=skip_bound_arg,\n",
      "    11:25:00.77 2258 |                                 sigcls=sigcls)\n",
      "    11:25:00.77 2255 |     _get_signature_of = functools.partial(_signature_from_callable,\n",
      "    11:25:00.77 .......... _get_signature_of = functools.partial(<function _signature_from_call...und_arg=True, sigcls=<class 'inspect.Signature'>)\n",
      "    11:25:00.77 2260 |     if not callable(obj):\n",
      "    11:25:00.77 2263 |     if isinstance(obj, types.MethodType):\n",
      "    11:25:00.77 2274 |     if follow_wrapper_chains:\n",
      "    11:25:00.77 2275 |         obj = unwrap(obj, stop=(lambda f: hasattr(f, \"__signature__\")))\n",
      "    11:25:00.77 2276 |         if isinstance(obj, types.MethodType):\n",
      "    11:25:00.77 2282 |     try:\n",
      "    11:25:00.77 2283 |         sig = obj.__signature__\n",
      "    11:25:00.77 !!! AttributeError: 'function' object has no attribute '__signature__'\n",
      "    11:25:00.77 !!! When getting attribute: obj.__signature__\n",
      "    11:25:00.77 2284 |     except AttributeError:\n",
      "    11:25:00.77 2285 |         pass\n",
      "    11:25:00.77 2294 |     try:\n",
      "    11:25:00.78 2295 |         partialmethod = obj._partialmethod\n",
      "    11:25:00.78 !!! AttributeError: 'function' object has no attribute '_partialmethod'\n",
      "    11:25:00.78 !!! When getting attribute: obj._partialmethod\n",
      "    11:25:00.78 2296 |     except AttributeError:\n",
      "    11:25:00.78 2297 |         pass\n",
      "    11:25:00.78 2322 |     if isfunction(obj) or _signature_is_functionlike(obj):\n",
      "    11:25:00.78 2325 |         return _signature_from_function(sigcls, obj,\n",
      "    11:25:00.78 2326 |                                         skip_bound_arg=skip_bound_arg)\n",
      "    11:25:00.78 2325 |         return _signature_from_function(sigcls, obj,\n",
      "    11:25:00.78 <<< Return value from _signature_from_callable: <Signature (self, a, b, c)>\n",
      "11:25:00.78 2362 |                 sig = _get_signature_of(factory_method)\n",
      "11:25:00.78 ...................... sig = <Signature (self, a, b, c)>\n",
      "11:25:00.78 2364 |         if sig is None:\n",
      "11:25:00.78 2413 |     if sig is not None:\n",
      "11:25:00.78 2416 |         if skip_bound_arg:\n",
      "11:25:00.78 2417 |             return _signature_bound_method(sig)\n",
      "11:25:00.78 <<< Return value from _signature_from_callable: <Signature (a, b, c)>\n"
     ]
    }
   ],
   "source": [
    "fdb.snoop()"
   ]
  },
  {
   "cell_type": "code",
   "execution_count": null,
   "id": "97d115f5",
   "metadata": {},
   "outputs": [
    {
     "name": "stdout",
     "output_type": "stream",
     "text": [
      "=================================================     Investigating \u001b[91;1m_signature_from_callable\u001b[0m     =================================================\n",
      "===============================================================     on line \u001b[91;1m91\u001b[0m     ===============================================================\n",
      "     with example \u001b[91;1m\n",
      "class Foo_init:\n",
      "    def __init__(self, a, b, c): pass\n",
      "\n",
      "inspect._signature_from_callable(Foo_init, sigcls=inspect.Signature)\n",
      "\u001b[0m     \n",
      "\n",
      "                                                                                                                                                        (89)\n",
      "    sig = None                                                                                                                                          (90)\n",
      "    if isinstance(obj, type):===========================================================================================================================(91)\n",
      "                                                                                                                        \u001b[91;1mFoo is taken care of in this if block\u001b[0m\n",
      "        # obj is a class or a metaclass                                                                                                                 (92)\n",
      "                                                                                                                                                        (93)\n",
      "\n",
      "==================================================================================================================\u001b[91;1mStart of my srcline exploration:\u001b[0m\n",
      "\n",
      "\n",
      "                                                                                                        isinstance(obj, type) => isinstance(obj, type) : True\n",
      "====================================================================================================================\u001b[91;1mEnd of my srcline exploration:\u001b[0m\n",
      "\n",
      "<Signature (a, b, c)>\n",
      "\n",
      "\u001b[93;1mReview srcode with all comments added so far\u001b[0m======================================================================================================\n",
      "                # First argument of the wrapped callable is `*args`, as in================(66)      \n",
      "                # `partialmethod(lambda *args)`.==========================================(67)      \n",
      "                return sig================================================================(68)      \n",
      "            else:=========================================================================(69)      \n",
      "                sig_params = tuple(sig.parameters.values())===============================(70)      \n",
      "                assert (not sig_params or=================================================(71)      \n",
      "                        first_wrapped_param is not sig_params[0])=========================(72)      \n",
      "                new_params = (first_wrapped_param,) + sig_params==========================(73)      \n",
      "                return sig.replace(parameters=new_params)=================================(74)      \n",
      "                                                                                                                                                        (75)\n",
      "    if isfunction(obj) or _signature_is_functionlike(obj):================================(76) # spot 0: \u001b[34;1mwhatinside's sig is finally processed by _signature_from_function\u001b[0m\n",
      "        # If it's a pure Python function, or an object that is duck type==================(77)      \n",
      "        # of a Python function (Cython functions, for instance), then:====================(78)      \n",
      "        return _signature_from_function(sigcls, obj,======================================(79)      \n",
      "                                        skip_bound_arg=skip_bound_arg)====================(80)      \n",
      "                                                                                                                                                        (81)\n",
      "    if _signature_is_builtin(obj):========================================================(82)      \n",
      "        return _signature_from_builtin(sigcls, obj,=======================================(83)      \n",
      "                                       skip_bound_arg=skip_bound_arg)=====================(84)      \n",
      "                                                                                                                                                        (85)\n",
      "    if isinstance(obj, functools.partial):================================================(86)      \n",
      "        wrapped_sig = _get_signature_of(obj.func)=========================================(87)      \n",
      "        return _signature_get_partial(wrapped_sig, obj)===================================(88)      \n",
      "                                                                                                                                                        (89)\n",
      "    sig = None============================================================================(90)      \n",
      "    if isinstance(obj, type):=============================================================(91) # spot 1: \u001b[34;1mFoo is taken care of in this if block\u001b[0m\n",
      "        # obj is a class or a metaclass===================================================(92)      \n",
      "                                                                                                                                                        (93)\n",
      "        # First, let's see if it has an overloaded __call__ defined=======================(94)      \n",
      "        # in its metaclass================================================================(95)      \n",
      "        call = _signature_get_user_defined_method(type(obj), '__call__')==================(96)      \n",
      "        if call is not None:==============================================================(97)      \n",
      "            sig = _get_signature_of(call)=================================================(98)      \n",
      "                                                                                                                                     part No.3 out of 6 parts\n",
      "\n"
     ]
    },
    {
     "data": {
      "text/plain": [
       "<function inspect._signature_from_callable(obj, *, follow_wrapper_chains=True, skip_bound_arg=True, sigcls)>"
      ]
     },
     "execution_count": null,
     "metadata": {},
     "output_type": "execute_result"
    }
   ],
   "source": [
    "fdb.dbprint(91, \"Foo is taken care of in this if block\", \"isinstance(obj, type)\")"
   ]
  },
  {
   "cell_type": "code",
   "execution_count": null,
   "id": "e2112658",
   "metadata": {},
   "outputs": [
    {
     "name": "stdout",
     "output_type": "stream",
     "text": [
      "=================================================     Investigating \u001b[91;1m_signature_from_callable\u001b[0m     =================================================\n",
      "==============================================================     on line \u001b[91;1m103\u001b[0m     ===============================================================\n",
      "     with example \u001b[91;1m\n",
      "class Foo_init:\n",
      "    def __init__(self, a, b, c): pass\n",
      "\n",
      "inspect._signature_from_callable(Foo_init, sigcls=inspect.Signature)\n",
      "\u001b[0m     \n",
      "\n",
      "            new = _signature_get_user_defined_method(obj, '__new__')                                                                                    (101)\n",
      "            init = _signature_get_user_defined_method(obj, '__init__')                                                                                  (102)\n",
      "            # Now we check if the 'obj' class has an own '__new__' method===============================================================================(103)\n",
      "                                                                                                             \u001b[91;1mFoo has no methods on call nor new, but has init\u001b[0m\n",
      "            if '__new__' in obj.__dict__:                                                                                                               (104)\n",
      "                factory_method = new                                                                                                                    (105)\n",
      "\n",
      "==================================================================================================================\u001b[91;1mStart of my srcline exploration:\u001b[0m\n",
      "\n",
      "\n",
      "                                                                                                                                          call => call : None\n",
      "\n",
      "\n",
      "                                                                                                                                            new => new : None\n",
      "\n",
      "\n",
      "                                                                                                   init => init : <function Foo_init.__init__ at 0x12c640040>\n",
      "====================================================================================================================\u001b[91;1mEnd of my srcline exploration:\u001b[0m\n",
      "\n",
      "<Signature (a, b, c)>\n",
      "\n",
      "\u001b[93;1mReview srcode with all comments added so far\u001b[0m======================================================================================================\n",
      "        else:=============================================================================(99)      \n",
      "            factory_method = None=========================================================(100)     \n",
      "            new = _signature_get_user_defined_method(obj, '__new__')======================(101)     \n",
      "            init = _signature_get_user_defined_method(obj, '__init__')====================(102)     \n",
      "            # Now we check if the 'obj' class has an own '__new__' method=================(103) # spot 2: \u001b[35;1mFoo has no methods on call nor new, but has init\u001b[0m\n",
      "            if '__new__' in obj.__dict__:=================================================(104)     \n",
      "                factory_method = new======================================================(105)     \n",
      "            # or an own '__init__' method=================================================(106)     \n",
      "            elif '__init__' in obj.__dict__:==============================================(107)     \n",
      "                factory_method = init=====================================================(108)     \n",
      "            # If not, we take inherited '__new__' or '__init__', if present===============(109)     \n",
      "            elif new is not None:=========================================================(110)     \n",
      "                factory_method = new======================================================(111)     \n",
      "            elif init is not None:========================================================(112)     \n",
      "                factory_method = init=====================================================(113)     \n",
      "                                                                                                                                                        (114)\n",
      "            if factory_method is not None:================================================(115)     \n",
      "                sig = _get_signature_of(factory_method)===================================(116)     \n",
      "                                                                                                                                                        (117)\n",
      "        if sig is None:===================================================================(118)     \n",
      "            # At this point we know, that `obj` is a class, with no user-=================(119)     \n",
      "            # defined '__init__', '__new__', or class-level '__call__'====================(120)     \n",
      "                                                                                                                                                        (121)\n",
      "            for base in obj.__mro__[:-1]:=================================================(122)     \n",
      "                # Since '__text_signature__' is implemented as a==========================(123)     \n",
      "                # descriptor that extracts text signature from the========================(124)     \n",
      "                # class docstring, if 'obj' is derived from a builtin=====================(125)     \n",
      "                # class, its own '__text_signature__' may be 'None'.======================(126)     \n",
      "                # Therefore, we go through the MRO (except the last=======================(127)     \n",
      "                # class in there, which is 'object') to find the first====================(128)     \n",
      "                # class with non-empty text signature.====================================(129)     \n",
      "                try:======================================================================(130)     \n",
      "                    text_sig = base.__text_signature__====================================(131)     \n",
      "                                                                                                                                     part No.4 out of 6 parts\n",
      "\n"
     ]
    },
    {
     "data": {
      "text/plain": [
       "<function inspect._signature_from_callable(obj, *, follow_wrapper_chains=True, skip_bound_arg=True, sigcls)>"
      ]
     },
     "execution_count": null,
     "metadata": {},
     "output_type": "execute_result"
    }
   ],
   "source": [
    "fdb.dbprint(103, \"Foo has no methods on call nor new, but has init\", \"call\", \"new\", \"init\")"
   ]
  },
  {
   "cell_type": "code",
   "execution_count": null,
   "id": "a18b9e57",
   "metadata": {},
   "outputs": [
    {
     "name": "stdout",
     "output_type": "stream",
     "text": [
      "=================================================     Investigating \u001b[91;1m_signature_from_callable\u001b[0m     =================================================\n",
      "==============================================================     on line \u001b[91;1m116\u001b[0m     ===============================================================\n",
      "     with example \u001b[91;1m\n",
      "class Foo_init:\n",
      "    def __init__(self, a, b, c): pass\n",
      "\n",
      "inspect._signature_from_callable(Foo_init, sigcls=inspect.Signature)\n",
      "\u001b[0m     \n",
      "\n",
      "                                                                                                                                                        (114)\n",
      "            if factory_method is not None:                                                                                                              (115)\n",
      "                sig = _get_signature_of(factory_method)=================================================================================================(116)\n",
      "                                                                                                                      \u001b[91;1minit func is taken by _get_signature_of\u001b[0m\n",
      "                                                                                                                                                        (117)\n",
      "        if sig is None:                                                                                                                                 (118)\n",
      "\n",
      "==================================================================================================================\u001b[91;1mStart of my srcline exploration:\u001b[0m\n",
      "\n",
      "\n",
      "                                                                                                       init == factory_method => init == factory_method: True\n",
      "====================================================================================================================\u001b[91;1mEnd of my srcline exploration:\u001b[0m\n",
      "\n",
      "<Signature (a, b, c)>\n",
      "\n",
      "\u001b[93;1mReview srcode with all comments added so far\u001b[0m======================================================================================================\n",
      "        else:=============================================================================(99)      \n",
      "            factory_method = None=========================================================(100)     \n",
      "            new = _signature_get_user_defined_method(obj, '__new__')======================(101)     \n",
      "            init = _signature_get_user_defined_method(obj, '__init__')====================(102)     \n",
      "            # Now we check if the 'obj' class has an own '__new__' method=================(103) # spot 2: \u001b[35;1mFoo has no methods on call nor new, but has init\u001b[0m\n",
      "            if '__new__' in obj.__dict__:=================================================(104)     \n",
      "                factory_method = new======================================================(105)     \n",
      "            # or an own '__init__' method=================================================(106)     \n",
      "            elif '__init__' in obj.__dict__:==============================================(107)     \n",
      "                factory_method = init=====================================================(108)     \n",
      "            # If not, we take inherited '__new__' or '__init__', if present===============(109)     \n",
      "            elif new is not None:=========================================================(110)     \n",
      "                factory_method = new======================================================(111)     \n",
      "            elif init is not None:========================================================(112)     \n",
      "                factory_method = init=====================================================(113)     \n",
      "                                                                                                                                                        (114)\n",
      "            if factory_method is not None:================================================(115)     \n",
      "                sig = _get_signature_of(factory_method)===================================(116) # spot 3: \u001b[35;1minit func is taken by _get_signature_of\u001b[0m\n",
      "                                                                                                                                                        (117)\n",
      "        if sig is None:===================================================================(118)     \n",
      "            # At this point we know, that `obj` is a class, with no user-=================(119)     \n",
      "            # defined '__init__', '__new__', or class-level '__call__'====================(120)     \n",
      "                                                                                                                                                        (121)\n",
      "            for base in obj.__mro__[:-1]:=================================================(122)     \n",
      "                # Since '__text_signature__' is implemented as a==========================(123)     \n",
      "                # descriptor that extracts text signature from the========================(124)     \n",
      "                # class docstring, if 'obj' is derived from a builtin=====================(125)     \n",
      "                # class, its own '__text_signature__' may be 'None'.======================(126)     \n",
      "                # Therefore, we go through the MRO (except the last=======================(127)     \n",
      "                # class in there, which is 'object') to find the first====================(128)     \n",
      "                # class with non-empty text signature.====================================(129)     \n",
      "                try:======================================================================(130)     \n",
      "                    text_sig = base.__text_signature__====================================(131)     \n",
      "                                                                                                                                     part No.4 out of 6 parts\n",
      "\n"
     ]
    },
    {
     "data": {
      "text/plain": [
       "<function inspect._signature_from_callable(obj, *, follow_wrapper_chains=True, skip_bound_arg=True, sigcls)>"
      ]
     },
     "execution_count": null,
     "metadata": {},
     "output_type": "execute_result"
    }
   ],
   "source": [
    "fdb.dbprint(116, \"init func is taken by _get_signature_of\", \"init == factory_method\")"
   ]
  },
  {
   "cell_type": "code",
   "execution_count": null,
   "id": "60b40522",
   "metadata": {},
   "outputs": [
    {
     "name": "stdout",
     "output_type": "stream",
     "text": [
      "=================================================     Investigating \u001b[91;1m_signature_from_callable\u001b[0m     =================================================\n",
      "===============================================================     on line \u001b[91;1m77\u001b[0m     ===============================================================\n",
      "     with example \u001b[91;1m\n",
      "class Foo_init:\n",
      "    def __init__(self, a, b, c): pass\n",
      "\n",
      "inspect._signature_from_callable(Foo_init, sigcls=inspect.Signature)\n",
      "\u001b[0m     \n",
      "\n",
      "                                                                                                                                                        (75)\n",
      "    if isfunction(obj) or _signature_is_functionlike(obj):                                                                                              (76)\n",
      "        # If it's a pure Python function, or an object that is duck type================================================================================(77)\n",
      "                                                          \u001b[91;1minit func will be processed by _signature_from_function in the block above. see explorations below:\u001b[0m\n",
      "        # of a Python function (Cython functions, for instance), then:                                                                                  (78)\n",
      "        return _signature_from_function(sigcls, obj,                                                                                                    (79)\n",
      "<Signature (a, b, c)>\n",
      "\n",
      "\u001b[93;1mReview srcode with all comments added so far\u001b[0m======================================================================================================\n",
      "                # First argument of the wrapped callable is `*args`, as in================(66)      \n",
      "                # `partialmethod(lambda *args)`.==========================================(67)      \n",
      "                return sig================================================================(68)      \n",
      "            else:=========================================================================(69)      \n",
      "                sig_params = tuple(sig.parameters.values())===============================(70)      \n",
      "                assert (not sig_params or=================================================(71)      \n",
      "                        first_wrapped_param is not sig_params[0])=========================(72)      \n",
      "                new_params = (first_wrapped_param,) + sig_params==========================(73)      \n",
      "                return sig.replace(parameters=new_params)=================================(74)      \n",
      "                                                                                                                                                        (75)\n",
      "    if isfunction(obj) or _signature_is_functionlike(obj):================================(76) # spot 0: \u001b[35;1mwhatinside's sig is finally processed by _signature_from_function\u001b[0m\n",
      "        # If it's a pure Python function, or an object that is duck type==================(77) # spot 4: \u001b[35;1minit func will be processed by _signature_from_function in the block above. see explorations below:\u001b[0m\n",
      "        # of a Python function (Cython functions, for instance), then:====================(78)      \n",
      "        return _signature_from_function(sigcls, obj,======================================(79)      \n",
      "                                        skip_bound_arg=skip_bound_arg)====================(80)      \n",
      "                                                                                                                                                        (81)\n",
      "    if _signature_is_builtin(obj):========================================================(82)      \n",
      "        return _signature_from_builtin(sigcls, obj,=======================================(83)      \n",
      "                                       skip_bound_arg=skip_bound_arg)=====================(84)      \n",
      "                                                                                                                                                        (85)\n",
      "    if isinstance(obj, functools.partial):================================================(86)      \n",
      "        wrapped_sig = _get_signature_of(obj.func)=========================================(87)      \n",
      "        return _signature_get_partial(wrapped_sig, obj)===================================(88)      \n",
      "                                                                                                                                                        (89)\n",
      "    sig = None============================================================================(90)      \n",
      "    if isinstance(obj, type):=============================================================(91) # spot 1: \u001b[35;1mFoo is taken care of in this if block\u001b[0m\n",
      "        # obj is a class or a metaclass===================================================(92)      \n",
      "                                                                                                                                                        (93)\n",
      "        # First, let's see if it has an overloaded __call__ defined=======================(94)      \n",
      "        # in its metaclass================================================================(95)      \n",
      "        call = _signature_get_user_defined_method(type(obj), '__call__')==================(96)      \n",
      "        if call is not None:==============================================================(97)      \n",
      "            sig = _get_signature_of(call)=================================================(98)      \n",
      "                                                                                                                                     part No.3 out of 6 parts\n",
      "\n"
     ]
    },
    {
     "data": {
      "text/plain": [
       "<function inspect._signature_from_callable(obj, *, follow_wrapper_chains=True, skip_bound_arg=True, sigcls)>"
      ]
     },
     "execution_count": null,
     "metadata": {},
     "output_type": "execute_result"
    }
   ],
   "source": [
    "fdb.dbprint(77, \"init func will be processed by _signature_from_function in the block above. see explorations below:\", \"obj.__init__\", \\\n",
    "            \"_signature_from_function(sigcls, obj.__init__, skip_bound_arg=skip_bound_arg)\")"
   ]
  },
  {
   "cell_type": "markdown",
   "id": "8b7e9c60",
   "metadata": {},
   "source": [
    "### Example: Base's own `__new__` can be a problem"
   ]
  },
  {
   "cell_type": "code",
   "execution_count": null,
   "id": "c5184454",
   "metadata": {},
   "outputs": [
    {
     "data": {
      "text/plain": [
       "<Signature (d, e, f)>"
      ]
     },
     "execution_count": null,
     "metadata": {},
     "output_type": "execute_result"
    }
   ],
   "source": [
    "class Base: # pass\n",
    "    def __new__(self, **args): pass  # defines a __new__ \n",
    "\n",
    "class Foo_new(Base):\n",
    "    def __init__(self, d, e, f): pass\n",
    "    \n",
    "inspect._signature_from_callable(Foo_new, sigcls=inspect.Signature)"
   ]
  },
  {
   "cell_type": "code",
   "execution_count": null,
   "id": "98458fd3",
   "metadata": {},
   "outputs": [],
   "source": [
    "example = \"\"\"\n",
    "class Base: # pass\n",
    "    def __new__(self, **args): pass  # defines a __new__ \n",
    "\n",
    "class Foo_new(Base):\n",
    "    def __init__(self, d, e, f): pass\n",
    "    \n",
    "inspect._signature_from_callable(Foo_new, sigcls=inspect.Signature)\n",
    "\"\"\""
   ]
  },
  {
   "cell_type": "code",
   "execution_count": null,
   "id": "51f5adfc",
   "metadata": {},
   "outputs": [],
   "source": [
    "fdb.takExample(example, inspect=inspect, Foo_new=Foo_new)"
   ]
  },
  {
   "cell_type": "code",
   "execution_count": null,
   "id": "d27aecfb",
   "metadata": {},
   "outputs": [
    {
     "name": "stderr",
     "output_type": "stream",
     "text": [
      "11:25:00.84 >>> Call to _signature_from_callable in File \"/Users/Natsume/mambaforge/lib/python3.9/inspect.py\", line 2246\n",
      "11:25:00.84 ...... obj = <class '__main__.Foo_new'>\n",
      "11:25:00.84 ...... follow_wrapper_chains = True\n",
      "11:25:00.84 ...... skip_bound_arg = True\n",
      "11:25:00.84 ...... sigcls = <class 'inspect.Signature'>\n",
      "11:25:00.84 2246 | def _signature_from_callable(obj, *,\n",
      "11:25:00.84 2255 |     _get_signature_of = functools.partial(_signature_from_callable,\n",
      "11:25:00.84 2256 |                                 follow_wrapper_chains=follow_wrapper_chains,\n",
      "11:25:00.84 2257 |                                 skip_bound_arg=skip_bound_arg,\n",
      "11:25:00.84 2258 |                                 sigcls=sigcls)\n",
      "11:25:00.84 2255 |     _get_signature_of = functools.partial(_signature_from_callable,\n",
      "11:25:00.84 .......... _get_signature_of = functools.partial(<function _signature_from_call...und_arg=True, sigcls=<class 'inspect.Signature'>)\n",
      "11:25:00.84 2260 |     if not callable(obj):\n",
      "11:25:00.84 2263 |     if isinstance(obj, types.MethodType):\n",
      "11:25:00.84 2274 |     if follow_wrapper_chains:\n",
      "11:25:00.84 2275 |         obj = unwrap(obj, stop=(lambda f: hasattr(f, \"__signature__\")))\n",
      "11:25:00.84 2276 |         if isinstance(obj, types.MethodType):\n",
      "11:25:00.84 2282 |     try:\n",
      "11:25:00.84 2283 |         sig = obj.__signature__\n",
      "11:25:00.84 !!! AttributeError: type object 'Foo_new' has no attribute '__signature__'\n",
      "11:25:00.84 !!! When getting attribute: obj.__signature__\n",
      "11:25:00.84 2284 |     except AttributeError:\n",
      "11:25:00.84 2285 |         pass\n",
      "11:25:00.84 2294 |     try:\n",
      "11:25:00.84 2295 |         partialmethod = obj._partialmethod\n",
      "11:25:00.84 !!! AttributeError: type object 'Foo_new' has no attribute '_partialmethod'\n",
      "11:25:00.84 !!! When getting attribute: obj._partialmethod\n",
      "11:25:00.84 2296 |     except AttributeError:\n",
      "11:25:00.84 2297 |         pass\n",
      "11:25:00.84 2322 |     if isfunction(obj) or _signature_is_functionlike(obj):\n",
      "11:25:00.84 2328 |     if _signature_is_builtin(obj):\n",
      "11:25:00.84 2332 |     if isinstance(obj, functools.partial):\n",
      "11:25:00.84 2336 |     sig = None\n",
      "11:25:00.84 2337 |     if isinstance(obj, type):\n",
      "11:25:00.84 2342 |         call = _signature_get_user_defined_method(type(obj), '__call__')\n",
      "11:25:00.84 .............. call = None\n",
      "11:25:00.84 2343 |         if call is not None:\n",
      "11:25:00.84 2346 |             factory_method = None\n",
      "11:25:00.84 2347 |             new = _signature_get_user_defined_method(obj, '__new__')\n",
      "11:25:00.85 .................. new = <function Base.__new__ at 0x12c67c0d0>\n",
      "11:25:00.85 2348 |             init = _signature_get_user_defined_method(obj, '__init__')\n",
      "11:25:00.85 .................. init = <function Foo_new.__init__ at 0x12c67c160>\n",
      "11:25:00.85 2350 |             if '__new__' in obj.__dict__:\n",
      "11:25:00.85 2353 |             elif '__init__' in obj.__dict__:\n",
      "11:25:00.85 2354 |                 factory_method = init\n",
      "11:25:00.85 ...................... factory_method = <function Foo_new.__init__ at 0x12c67c160>\n",
      "11:25:00.85 2361 |             if factory_method is not None:\n",
      "11:25:00.85 2362 |                 sig = _get_signature_of(factory_method)\n",
      "    11:25:00.85 >>> Call to _signature_from_callable in File \"/Users/Natsume/mambaforge/lib/python3.9/inspect.py\", line 2246\n",
      "    11:25:00.85 ...... obj = <function Foo_new.__init__ at 0x12c67c160>\n",
      "    11:25:00.85 ...... follow_wrapper_chains = True\n",
      "    11:25:00.85 ...... skip_bound_arg = True\n",
      "    11:25:00.85 ...... sigcls = <class 'inspect.Signature'>\n",
      "    11:25:00.85 2246 | def _signature_from_callable(obj, *,\n",
      "    11:25:00.85 2255 |     _get_signature_of = functools.partial(_signature_from_callable,\n",
      "    11:25:00.85 2256 |                                 follow_wrapper_chains=follow_wrapper_chains,\n",
      "    11:25:00.85 2257 |                                 skip_bound_arg=skip_bound_arg,\n",
      "    11:25:00.85 2258 |                                 sigcls=sigcls)\n",
      "    11:25:00.85 2255 |     _get_signature_of = functools.partial(_signature_from_callable,\n",
      "    11:25:00.85 .......... _get_signature_of = functools.partial(<function _signature_from_call...und_arg=True, sigcls=<class 'inspect.Signature'>)\n",
      "    11:25:00.85 2260 |     if not callable(obj):\n",
      "    11:25:00.85 2263 |     if isinstance(obj, types.MethodType):\n",
      "    11:25:00.85 2274 |     if follow_wrapper_chains:\n",
      "    11:25:00.85 2275 |         obj = unwrap(obj, stop=(lambda f: hasattr(f, \"__signature__\")))\n",
      "    11:25:00.85 2276 |         if isinstance(obj, types.MethodType):\n",
      "    11:25:00.85 2282 |     try:\n",
      "    11:25:00.85 2283 |         sig = obj.__signature__\n",
      "    11:25:00.85 !!! AttributeError: 'function' object has no attribute '__signature__'\n",
      "    11:25:00.85 !!! When getting attribute: obj.__signature__\n",
      "    11:25:00.85 2284 |     except AttributeError:\n",
      "    11:25:00.85 2285 |         pass\n",
      "    11:25:00.85 2294 |     try:\n",
      "    11:25:00.85 2295 |         partialmethod = obj._partialmethod\n",
      "    11:25:00.85 !!! AttributeError: 'function' object has no attribute '_partialmethod'\n",
      "    11:25:00.85 !!! When getting attribute: obj._partialmethod\n",
      "    11:25:00.85 2296 |     except AttributeError:\n",
      "    11:25:00.85 2297 |         pass\n",
      "    11:25:00.85 2322 |     if isfunction(obj) or _signature_is_functionlike(obj):\n",
      "    11:25:00.85 2325 |         return _signature_from_function(sigcls, obj,\n",
      "    11:25:00.85 2326 |                                         skip_bound_arg=skip_bound_arg)\n",
      "    11:25:00.85 2325 |         return _signature_from_function(sigcls, obj,\n",
      "    11:25:00.85 <<< Return value from _signature_from_callable: <Signature (self, d, e, f)>\n",
      "11:25:00.85 2362 |                 sig = _get_signature_of(factory_method)\n",
      "11:25:00.85 ...................... sig = <Signature (self, d, e, f)>\n",
      "11:25:00.85 2364 |         if sig is None:\n",
      "11:25:00.85 2413 |     if sig is not None:\n",
      "11:25:00.85 2416 |         if skip_bound_arg:\n",
      "11:25:00.86 2417 |             return _signature_bound_method(sig)\n",
      "11:25:00.86 <<< Return value from _signature_from_callable: <Signature (d, e, f)>\n"
     ]
    }
   ],
   "source": [
    "fdb.snoop()"
   ]
  },
  {
   "cell_type": "code",
   "execution_count": null,
   "id": "c635b734",
   "metadata": {},
   "outputs": [
    {
     "name": "stdout",
     "output_type": "stream",
     "text": [
      "        else:=============================================================================(99)      \n",
      "            factory_method = None=========================================================(100)     \n",
      "            new = _signature_get_user_defined_method(obj, '__new__')======================(101)     \n",
      "            init = _signature_get_user_defined_method(obj, '__init__')====================(102)     \n",
      "            # Now we check if the 'obj' class has an own '__new__' method=================(103) # spot 2: \u001b[35;1mFoo has no methods on call nor new, but has init\u001b[0m\n",
      "            if '__new__' in obj.__dict__:=================================================(104)     \n",
      "                factory_method = new======================================================(105)     \n",
      "            # or an own '__init__' method=================================================(106)     \n",
      "            elif '__init__' in obj.__dict__:==============================================(107)     \n",
      "                factory_method = init=====================================================(108)     \n",
      "            # If not, we take inherited '__new__' or '__init__', if present===============(109)     \n",
      "            elif new is not None:=========================================================(110)     \n",
      "                factory_method = new======================================================(111)     \n",
      "            elif init is not None:========================================================(112)     \n",
      "                factory_method = init=====================================================(113)     \n",
      "                                                                                                                                                        (114)\n",
      "            if factory_method is not None:================================================(115)     \n",
      "                sig = _get_signature_of(factory_method)===================================(116) # spot 3: \u001b[35;1minit func is taken by _get_signature_of\u001b[0m\n",
      "                                                                                                                                                        (117)\n",
      "        if sig is None:===================================================================(118)     \n",
      "            # At this point we know, that `obj` is a class, with no user-=================(119)     \n",
      "            # defined '__init__', '__new__', or class-level '__call__'====================(120)     \n",
      "                                                                                                                                                        (121)\n",
      "            for base in obj.__mro__[:-1]:=================================================(122)     \n",
      "                # Since '__text_signature__' is implemented as a==========================(123)     \n",
      "                # descriptor that extracts text signature from the========================(124)     \n",
      "                # class docstring, if 'obj' is derived from a builtin=====================(125)     \n",
      "                # class, its own '__text_signature__' may be 'None'.======================(126)     \n",
      "                # Therefore, we go through the MRO (except the last=======================(127)     \n",
      "                # class in there, which is 'object') to find the first====================(128)     \n",
      "                # class with non-empty text signature.====================================(129)     \n",
      "                try:======================================================================(130)     \n",
      "                    text_sig = base.__text_signature__====================================(131)     \n",
      "                                                                                                                                     part No.4 out of 6 parts\n"
     ]
    }
   ],
   "source": [
    "fdb.print(part=4)"
   ]
  },
  {
   "cell_type": "code",
   "execution_count": null,
   "id": "389e20b6",
   "metadata": {},
   "outputs": [
    {
     "name": "stdout",
     "output_type": "stream",
     "text": [
      "=================================================     Investigating \u001b[91;1m_signature_from_callable\u001b[0m     =================================================\n",
      "==============================================================     on line \u001b[91;1m104\u001b[0m     ===============================================================\n",
      "     with example \u001b[91;1m\n",
      "class Base: # pass\n",
      "    def __new__(self, **args): pass  # defines a __new__ \n",
      "\n",
      "class Foo_new(Base):\n",
      "    def __init__(self, d, e, f): pass\n",
      "    \n",
      "inspect._signature_from_callable(Foo_new, sigcls=inspect.Signature)\n",
      "\u001b[0m     \n",
      "\n",
      "            init = _signature_get_user_defined_method(obj, '__init__')                                                                                  (102)\n",
      "            # Now we check if the 'obj' class has an own '__new__' method                                                                               (103)\n",
      "            if '__new__' in obj.__dict__:===============================================================================================================(104)\n",
      "\u001b[91;1mAlthough Foo inherits __new__ from Base, but Foo.__dict__ refuse to have it. So, Foo only take sig from its own __init__. therefore it will go back to step 4 to process sig from function __init__\u001b[0m\n",
      "                factory_method = new                                                                                                                    (105)\n",
      "            # or an own '__init__' method                                                                                                               (106)\n",
      "\u001b[93;1mprint selected srcline with expands above\u001b[0m--------\n",
      "\u001b[93;1mshowdbsrc=Start\u001b[0m----------------------------------\n",
      "def _signature_from_callable(obj, *,--------------------------------------------------------------------------------------------------------------------(0)\n",
      "                             follow_wrapper_chains=True,------------------------------------------------------------------------------------------------(1)\n",
      "                             skip_bound_arg=True,-------------------------------------------------------------------------------------------------------(2)\n",
      "                             sigcls):-------------------------------------------------------------------------------------------------------------------(3)\n",
      "                                                                                                                                                        (4)\n",
      "    \"\"\"Private helper function to get signature for arbitrary-------------------------------------------------------------------------------------------(5)\n",
      "    callable objects.-----------------------------------------------------------------------------------------------------------------------------------(6)\n",
      "    \"\"\"-------------------------------------------------------------------------------------------------------------------------------------------------(7)\n",
      "                                                                                                                                                        (8)\n",
      "    _get_signature_of = functools.partial(_signature_from_callable,-------------------------------------------------------------------------------------(9)\n",
      "                                follow_wrapper_chains=follow_wrapper_chains,----------------------------------------------------------------------------(10)\n",
      "                                skip_bound_arg=skip_bound_arg,------------------------------------------------------------------------------------------(11)\n",
      "                                sigcls=sigcls)----------------------------------------------------------------------------------------------------------(12)\n",
      "                                                                                                                                                        (13)\n",
      "    if not callable(obj):-------------------------------------------------------------------------------------------------------------------------------(14)\n",
      "        raise TypeError('{!r} is not a callable object'.format(obj))------------------------------------------------------------------------------------(15)\n",
      "                                                                                                                                                        (16)\n",
      "    if isinstance(obj, types.MethodType):---------------------------------------------------------------------------------------------------------------(17)\n",
      "        # In this case we skip the first parameter of the underlying------------------------------------------------------------------------------------(18)\n",
      "        # function (usually `self` or `cls`).-----------------------------------------------------------------------------------------------------------(19)\n",
      "        sig = _get_signature_of(obj.__func__)-----------------------------------------------------------------------------------------------------------(20)\n",
      "                                                                                                                                                        (21)\n",
      "        if skip_bound_arg:------------------------------------------------------------------------------------------------------------------------------(22)\n",
      "            return _signature_bound_method(sig)---------------------------------------------------------------------------------------------------------(23)\n",
      "        else:-------------------------------------------------------------------------------------------------------------------------------------------(24)\n",
      "            return sig----------------------------------------------------------------------------------------------------------------------------------(25)\n",
      "                                                                                                                                                        (26)\n",
      "    # Was this function wrapped by a decorator?---------------------------------------------------------------------------------------------------------(27)\n",
      "    if follow_wrapper_chains:---------------------------------------------------------------------------------------------------------------------------(28)\n",
      "        obj = unwrap(obj, stop=(lambda f: hasattr(f, \"__signature__\")))---------------------------------------------------------------------------------(29)\n",
      "        if isinstance(obj, types.MethodType):-----------------------------------------------------------------------------------------------------------(30)\n",
      "            # If the unwrapped object is a *method*, we might want to-----------------------------------------------------------------------------------(31)\n",
      "            # skip its first parameter (self).----------------------------------------------------------------------------------------------------------(32)\n",
      "            # See test_signature_wrapped_bound_method for details.--------------------------------------------------------------------------------------(33)\n",
      "            return _get_signature_of(obj)---------------------------------------------------------------------------------------------------------------(34)\n",
      "                                                                                                                                                        (35)\n",
      "    try:------------------------------------------------------------------------------------------------------------------------------------------------(36)\n",
      "        sig = obj.__signature__-------------------------------------------------------------------------------------------------------------------------(37)\n",
      "    except AttributeError:------------------------------------------------------------------------------------------------------------------------------(38)\n",
      "        pass--------------------------------------------------------------------------------------------------------------------------------------------(39)\n",
      "    else:-----------------------------------------------------------------------------------------------------------------------------------------------(40)\n",
      "        if sig is not None:-----------------------------------------------------------------------------------------------------------------------------(41)\n",
      "            if not isinstance(sig, Signature):----------------------------------------------------------------------------------------------------------(42)\n",
      "                raise TypeError(------------------------------------------------------------------------------------------------------------------------(43)\n",
      "                    'unexpected object {!r} in __signature__ '------------------------------------------------------------------------------------------(44)\n",
      "                    'attribute'.format(sig))------------------------------------------------------------------------------------------------------------(45)\n",
      "            return sig----------------------------------------------------------------------------------------------------------------------------------(46)\n",
      "                                                                                                                                                        (47)\n",
      "    try:------------------------------------------------------------------------------------------------------------------------------------------------(48)\n",
      "        partialmethod = obj._partialmethod--------------------------------------------------------------------------------------------------------------(49)\n",
      "    except AttributeError:------------------------------------------------------------------------------------------------------------------------------(50)\n",
      "        pass--------------------------------------------------------------------------------------------------------------------------------------------(51)\n",
      "    else:-----------------------------------------------------------------------------------------------------------------------------------------------(52)\n",
      "        if isinstance(partialmethod, functools.partialmethod):------------------------------------------------------------------------------------------(53)\n",
      "            # Unbound partialmethod (see functools.partialmethod)---------------------------------------------------------------------------------------(54)\n",
      "            # This means, that we need to calculate the signature---------------------------------------------------------------------------------------(55)\n",
      "            # as if it's a regular partial object, but taking into--------------------------------------------------------------------------------------(56)\n",
      "            # account that the first positional argument------------------------------------------------------------------------------------------------(57)\n",
      "            # (usually `self`, or `cls`) will not be passed---------------------------------------------------------------------------------------------(58)\n",
      "            # automatically (as for boundmethods)-------------------------------------------------------------------------------------------------------(59)\n",
      "                                                                                                                                                        (60)\n",
      "            wrapped_sig = _get_signature_of(partialmethod.func)-----------------------------------------------------------------------------------------(61)\n",
      "                                                                                                                                                        (62)\n",
      "            sig = _signature_get_partial(wrapped_sig, partialmethod, (None,))---------------------------------------------------------------------------(63)\n",
      "            first_wrapped_param = tuple(wrapped_sig.parameters.values())[0]-----------------------------------------------------------------------------(64)\n",
      "            if first_wrapped_param.kind is Parameter.VAR_POSITIONAL:------------------------------------------------------------------------------------(65)\n",
      "                # First argument of the wrapped callable is `*args`, as in------------------------------------------------------------------------------(66)\n",
      "                # `partialmethod(lambda *args)`.--------------------------------------------------------------------------------------------------------(67)\n",
      "                return sig------------------------------------------------------------------------------------------------------------------------------(68)\n",
      "            else:---------------------------------------------------------------------------------------------------------------------------------------(69)\n",
      "                sig_params = tuple(sig.parameters.values())---------------------------------------------------------------------------------------------(70)\n",
      "                assert (not sig_params or---------------------------------------------------------------------------------------------------------------(71)\n",
      "                        first_wrapped_param is not sig_params[0])---------------------------------------------------------------------------------------(72)\n",
      "                new_params = (first_wrapped_param,) + sig_params----------------------------------------------------------------------------------------(73)\n",
      "                return sig.replace(parameters=new_params)-----------------------------------------------------------------------------------------------(74)\n",
      "                                                                                                                                                        (75)\n",
      "    if isfunction(obj) or _signature_is_functionlike(obj):----------------------------------------------------------------------------------------------(76)\n",
      "        # If it's a pure Python function, or an object that is duck type--------------------------------------------------------------------------------(77)\n",
      "        # of a Python function (Cython functions, for instance), then:----------------------------------------------------------------------------------(78)\n",
      "        return _signature_from_function(sigcls, obj,----------------------------------------------------------------------------------------------------(79)\n",
      "                                        skip_bound_arg=skip_bound_arg)----------------------------------------------------------------------------------(80)\n",
      "                                                                                                                                                        (81)\n",
      "    if _signature_is_builtin(obj):----------------------------------------------------------------------------------------------------------------------(82)\n",
      "        return _signature_from_builtin(sigcls, obj,-----------------------------------------------------------------------------------------------------(83)\n",
      "                                       skip_bound_arg=skip_bound_arg)-----------------------------------------------------------------------------------(84)\n",
      "                                                                                                                                                        (85)\n",
      "    if isinstance(obj, functools.partial):--------------------------------------------------------------------------------------------------------------(86)\n",
      "        wrapped_sig = _get_signature_of(obj.func)-------------------------------------------------------------------------------------------------------(87)\n",
      "        return _signature_get_partial(wrapped_sig, obj)-------------------------------------------------------------------------------------------------(88)\n",
      "                                                                                                                                                        (89)\n",
      "    sig = None------------------------------------------------------------------------------------------------------------------------------------------(90)\n",
      "    if isinstance(obj, type):---------------------------------------------------------------------------------------------------------------------------(91)\n",
      "        # obj is a class or a metaclass-----------------------------------------------------------------------------------------------------------------(92)\n",
      "                                                                                                                                                        (93)\n",
      "        # First, let's see if it has an overloaded __call__ defined-------------------------------------------------------------------------------------(94)\n",
      "        # in its metaclass------------------------------------------------------------------------------------------------------------------------------(95)\n",
      "        call = _signature_get_user_defined_method(type(obj), '__call__')--------------------------------------------------------------------------------(96)\n",
      "        if call is not None:----------------------------------------------------------------------------------------------------------------------------(97)\n",
      "            sig = _get_signature_of(call)---------------------------------------------------------------------------------------------------------------(98)\n",
      "        else:-------------------------------------------------------------------------------------------------------------------------------------------(99)\n",
      "            factory_method = None-----------------------------------------------------------------------------------------------------------------------(100)\n",
      "            new = _signature_get_user_defined_method(obj, '__new__')------------------------------------------------------------------------------------(101)\n",
      "            init = _signature_get_user_defined_method(obj, '__init__')----------------------------------------------------------------------------------(102)\n",
      "            # Now we check if the 'obj' class has an own '__new__' method-------------------------------------------------------------------------------(103)\n",
      "            print()=====================================================================================================================================(db)\n",
      "            print('{:=>157}'.format(colorize('Start of my srcline exploration:', color='r')))===========================================================(db)\n",
      "            g = locals()================================================================================================================================(db)\n",
      "            dbprintinsert(\"'__new__' in obj.__dict__\",\"'__init__' in obj.__dict__\",env=g)===============================================================(db)\n",
      "            print('{:=>157}'.format(colorize('End of my srcline exploration:', color='r')))=============================================================(db)\n",
      "            print()=====================================================================================================================================(db)\n",
      "            if '__new__' in obj.__dict__:---------------------------------------------------------------------------------------------------------------(104)\n",
      "                factory_method = new--------------------------------------------------------------------------------------------------------------------(105)\n",
      "            # or an own '__init__' method---------------------------------------------------------------------------------------------------------------(106)\n",
      "            elif '__init__' in obj.__dict__:------------------------------------------------------------------------------------------------------------(107)\n",
      "                factory_method = init-------------------------------------------------------------------------------------------------------------------(108)\n",
      "            # If not, we take inherited '__new__' or '__init__', if present-----------------------------------------------------------------------------(109)\n",
      "            elif new is not None:-----------------------------------------------------------------------------------------------------------------------(110)\n",
      "                factory_method = new--------------------------------------------------------------------------------------------------------------------(111)\n",
      "            elif init is not None:----------------------------------------------------------------------------------------------------------------------(112)\n",
      "                factory_method = init-------------------------------------------------------------------------------------------------------------------(113)\n",
      "                                                                                                                                                        (114)\n",
      "            if factory_method is not None:--------------------------------------------------------------------------------------------------------------(115)\n",
      "                sig = _get_signature_of(factory_method)-------------------------------------------------------------------------------------------------(116)\n",
      "                                                                                                                                                        (117)\n",
      "        if sig is None:---------------------------------------------------------------------------------------------------------------------------------(118)\n",
      "            # At this point we know, that `obj` is a class, with no user--------------------------------------------------------------------------------(119)\n",
      "            # defined '__init__', '__new__', or class-level '__call__'----------------------------------------------------------------------------------(120)\n",
      "                                                                                                                                                        (121)\n",
      "            for base in obj.__mro__[:-1]:---------------------------------------------------------------------------------------------------------------(122)\n",
      "                # Since '__text_signature__' is implemented as a----------------------------------------------------------------------------------------(123)\n",
      "                # descriptor that extracts text signature from the--------------------------------------------------------------------------------------(124)\n",
      "                # class docstring, if 'obj' is derived from a builtin-----------------------------------------------------------------------------------(125)\n",
      "                # class, its own '__text_signature__' may be 'None'.------------------------------------------------------------------------------------(126)\n",
      "                # Therefore, we go through the MRO (except the last-------------------------------------------------------------------------------------(127)\n",
      "                # class in there, which is 'object') to find the first----------------------------------------------------------------------------------(128)\n",
      "                # class with non-empty text signature.--------------------------------------------------------------------------------------------------(129)\n",
      "                try:------------------------------------------------------------------------------------------------------------------------------------(130)\n",
      "                    text_sig = base.__text_signature__--------------------------------------------------------------------------------------------------(131)\n",
      "                except AttributeError:------------------------------------------------------------------------------------------------------------------(132)\n",
      "                    pass--------------------------------------------------------------------------------------------------------------------------------(133)\n",
      "                else:-----------------------------------------------------------------------------------------------------------------------------------(134)\n",
      "                    if text_sig:------------------------------------------------------------------------------------------------------------------------(135)\n",
      "                        # If 'base' class has a __text_signature__ attribute:---------------------------------------------------------------------------(136)\n",
      "                        # return a signature based on it------------------------------------------------------------------------------------------------(137)\n",
      "                        return _signature_fromstr(sigcls, base, text_sig)-------------------------------------------------------------------------------(138)\n",
      "                                                                                                                                                        (139)\n",
      "            # No '__text_signature__' was found for the 'obj' class.------------------------------------------------------------------------------------(140)\n",
      "            # Last option is to check if its '__init__' is----------------------------------------------------------------------------------------------(141)\n",
      "            # object.__init__ or type.__init__.---------------------------------------------------------------------------------------------------------(142)\n",
      "            if type not in obj.__mro__:-----------------------------------------------------------------------------------------------------------------(143)\n",
      "                # We have a class (not metaclass), but no user-defined----------------------------------------------------------------------------------(144)\n",
      "                # __init__ or __new__ for it------------------------------------------------------------------------------------------------------------(145)\n",
      "                if (obj.__init__ is object.__init__ and-------------------------------------------------------------------------------------------------(146)\n",
      "                    obj.__new__ is object.__new__):-----------------------------------------------------------------------------------------------------(147)\n",
      "                    # Return a signature of 'object' builtin.-------------------------------------------------------------------------------------------(148)\n",
      "                    return sigcls.from_callable(object)-------------------------------------------------------------------------------------------------(149)\n",
      "                else:-----------------------------------------------------------------------------------------------------------------------------------(150)\n",
      "                    raise ValueError(-------------------------------------------------------------------------------------------------------------------(151)\n",
      "                        'no signature found for builtin type {!r}'.format(obj))-------------------------------------------------------------------------(152)\n",
      "                                                                                                                                                        (153)\n",
      "    elif not isinstance(obj, _NonUserDefinedCallables):-------------------------------------------------------------------------------------------------(154)\n",
      "        # An object with __call__-----------------------------------------------------------------------------------------------------------------------(155)\n",
      "        # We also check that the 'obj' is not an instance of--------------------------------------------------------------------------------------------(156)\n",
      "        # _WrapperDescriptor or _MethodWrapper to avoid-------------------------------------------------------------------------------------------------(157)\n",
      "        # infinite recursion (and even potential segfault)----------------------------------------------------------------------------------------------(158)\n",
      "        call = _signature_get_user_defined_method(type(obj), '__call__')--------------------------------------------------------------------------------(159)\n",
      "        if call is not None:----------------------------------------------------------------------------------------------------------------------------(160)\n",
      "            try:----------------------------------------------------------------------------------------------------------------------------------------(161)\n",
      "                sig = _get_signature_of(call)-----------------------------------------------------------------------------------------------------------(162)\n",
      "            except ValueError as ex:--------------------------------------------------------------------------------------------------------------------(163)\n",
      "                msg = 'no signature found for {!r}'.format(obj)-----------------------------------------------------------------------------------------(164)\n",
      "                raise ValueError(msg) from ex-----------------------------------------------------------------------------------------------------------(165)\n",
      "                                                                                                                                                        (166)\n",
      "    if sig is not None:---------------------------------------------------------------------------------------------------------------------------------(167)\n",
      "        # For classes and objects we skip the first parameter of their----------------------------------------------------------------------------------(168)\n",
      "        # __call__, __new__, or __init__ methods--------------------------------------------------------------------------------------------------------(169)\n",
      "        if skip_bound_arg:------------------------------------------------------------------------------------------------------------------------------(170)\n",
      "            return _signature_bound_method(sig)---------------------------------------------------------------------------------------------------------(171)\n",
      "        else:-------------------------------------------------------------------------------------------------------------------------------------------(172)\n",
      "            return sig----------------------------------------------------------------------------------------------------------------------------------(173)\n",
      "                                                                                                                                                        (174)\n",
      "    if isinstance(obj, types.BuiltinFunctionType):------------------------------------------------------------------------------------------------------(175)\n",
      "        # Raise a nicer error message for builtins------------------------------------------------------------------------------------------------------(176)\n",
      "        msg = 'no signature found for builtin function {!r}'.format(obj)--------------------------------------------------------------------------------(177)\n",
      "        raise ValueError(msg)---------------------------------------------------------------------------------------------------------------------------(178)\n",
      "                                                                                                                                                        (179)\n",
      "    raise ValueError('callable {!r} is not supported by signature'.format(obj))-------------------------------------------------------------------------(180)\n",
      "locals() keys: ['self', 'idxsrc', 'cmt', 'expand', 'showdbsrc', 'codes', 'src', 'dbsrc', 'indent', 'lst', 'newlst', 'i', 'srclines', 'idx', 'l', 'numindent', 'dbcodes', 'count', 'c', 'emptyline', 'exploreStart', 'exploreEnd', 'totallen', 'lenidx', 'dblst', 'idxsrcline', 'lenl']\n",
      "before exec, self.orisrc.__name__: _signature_from_callable is : <function _signature_from_callable at 0x104af64c0>\n",
      "\u001b[93;1mexec on dbsrc above\u001b[0m------------------------------\n",
      "locals() keys: ['self', 'idxsrc', 'cmt', 'expand', 'showdbsrc', 'codes', 'src', 'dbsrc', 'indent', 'lst', 'newlst', 'i', 'srclines', 'idx', 'l', 'numindent', 'dbcodes', 'count', 'c', 'emptyline', 'exploreStart', 'exploreEnd', 'totallen', 'lenidx', 'dblst', 'idxsrcline', 'lenl', 'names', '_signature_from_callable']\n",
      "self.orisrc.__name__: _signature_from_callable\n",
      "locals()['_signature_from_callable']: <function _signature_from_callable at 0x12c67cca0>\n",
      "inspect.getsourcefile(locals()['_signature_from_callable)): <string>\n",
      "after exec and before self.outenv update, self.orisrc.__name__: _signature_from_callable is locals()['_signature_from_callable']: False\n",
      "after update self.outenv, self.orisrc.__name__: _signature_from_callable is self.outenv['_signature_from_callable']: False\n",
      "after update self.outenv, self.orisrc.__name__: _signature_from_callable is inspect._signature_from_callable: False\n",
      "after update self.outenv, self.outenv['_signature_from_callable'] is inspect._signature_from_callable: True\n",
      "Therefore, to use dbsrc we must use self.outenv['_signature_from_callable'], or inspect._signature_from_callable\n",
      "\u001b[93;1mshowdbsrc=End\u001b[0m------------------------------------\n",
      "\n",
      "==================================================================================================================\u001b[91;1mStart of my srcline exploration:\u001b[0m\n",
      "\n",
      "\n",
      "                                                                                               '__new__' in obj.__dict__ => '__new__' in obj.__dict__ : False\n",
      "\n",
      "\n",
      "                                                                                              '__init__' in obj.__dict__ => '__init__' in obj.__dict__ : True\n",
      "====================================================================================================================\u001b[91;1mEnd of my srcline exploration:\u001b[0m\n",
      "\n",
      "<Signature (d, e, f)>\n",
      "\n",
      "\u001b[93;1mReview srcode with all comments added so far\u001b[0m======================================================================================================\n",
      "        else:=============================================================================(99)      \n",
      "            factory_method = None=========================================================(100)     \n",
      "            new = _signature_get_user_defined_method(obj, '__new__')======================(101)     \n",
      "            init = _signature_get_user_defined_method(obj, '__init__')====================(102)     \n",
      "            # Now we check if the 'obj' class has an own '__new__' method=================(103) # spot 2: \u001b[34;1mFoo has no methods on call nor new, but has init\u001b[0m\n",
      "            if '__new__' in obj.__dict__:=================================================(104) # spot 5: \u001b[34;1mAlthough Foo inherits __new__ from Base, but Foo.__dict__ refuse to have it. So, Foo only take sig from its own __init__. therefore it will go back to step 4 to process sig from function __init__\u001b[0m\n",
      "                factory_method = new======================================================(105)     \n",
      "            # or an own '__init__' method=================================================(106)     \n",
      "            elif '__init__' in obj.__dict__:==============================================(107)     \n",
      "                factory_method = init=====================================================(108)     \n",
      "            # If not, we take inherited '__new__' or '__init__', if present===============(109)     \n",
      "            elif new is not None:=========================================================(110)     \n",
      "                factory_method = new======================================================(111)     \n",
      "            elif init is not None:========================================================(112)     \n",
      "                factory_method = init=====================================================(113)     \n",
      "                                                                                                                                                        (114)\n",
      "            if factory_method is not None:================================================(115)     \n",
      "                sig = _get_signature_of(factory_method)===================================(116) # spot 3: \u001b[34;1minit func is taken by _get_signature_of\u001b[0m\n",
      "                                                                                                                                                        (117)\n",
      "        if sig is None:===================================================================(118)     \n",
      "            # At this point we know, that `obj` is a class, with no user-=================(119)     \n",
      "            # defined '__init__', '__new__', or class-level '__call__'====================(120)     \n",
      "                                                                                                                                                        (121)\n",
      "            for base in obj.__mro__[:-1]:=================================================(122)     \n",
      "                # Since '__text_signature__' is implemented as a==========================(123)     \n",
      "                # descriptor that extracts text signature from the========================(124)     \n",
      "                # class docstring, if 'obj' is derived from a builtin=====================(125)     \n",
      "                # class, its own '__text_signature__' may be 'None'.======================(126)     \n",
      "                # Therefore, we go through the MRO (except the last=======================(127)     \n",
      "                # class in there, which is 'object') to find the first====================(128)     \n",
      "                # class with non-empty text signature.====================================(129)     \n",
      "                try:======================================================================(130)     \n",
      "                    text_sig = base.__text_signature__====================================(131)     \n",
      "                                                                                                                                     part No.4 out of 6 parts\n",
      "\n"
     ]
    },
    {
     "data": {
      "text/plain": [
       "<function inspect._signature_from_callable(obj, *, follow_wrapper_chains=True, skip_bound_arg=True, sigcls)>"
      ]
     },
     "execution_count": null,
     "metadata": {},
     "output_type": "execute_result"
    }
   ],
   "source": [
    "fdb.dbprint(104, \"Although Foo inherits __new__ from Base, but Foo.__dict__ refuse to have it. \\\n",
    "So, Foo only take sig from its own __init__. therefore it will go back to step 4 to process sig from function __init__\", \"'__new__' in obj.__dict__\", \"'__init__' in obj.__dict__\", showdbsrc=True)"
   ]
  },
  {
   "cell_type": "code",
   "execution_count": null,
   "id": "9b3a1ef2",
   "metadata": {},
   "outputs": [
    {
     "name": "stdout",
     "output_type": "stream",
     "text": [
      "=================================================     Investigating \u001b[91;1m_signature_from_callable\u001b[0m     =================================================\n",
      "==============================================================     on line \u001b[91;1m104\u001b[0m     ===============================================================\n",
      "     with example \u001b[91;1m\n",
      "class Base: # pass\n",
      "    def __new__(self, **args): pass  # defines a __new__ \n",
      "\n",
      "class Foo_new(Base):\n",
      "    def __init__(self, d, e, f): pass\n",
      "    \n",
      "inspect._signature_from_callable(Foo_new, sigcls=inspect.Signature)\n",
      "\u001b[0m     \n",
      "\n",
      "def _signature_from_callable(obj, *,======================================================(0)       \n",
      "                             follow_wrapper_chains=True,==================================(1)       \n",
      "                             skip_bound_arg=True,=========================================(2)       \n",
      "                             sigcls):=====================================================(3)       \n",
      "                                                                                                                                                        (4)\n",
      "    \"\"\"Private helper function to get signature for arbitrary=============================(5)       \n",
      "    callable objects.=====================================================================(6)       \n",
      "    \"\"\"===================================================================================(7)       \n",
      "                                                                                                                                                        (8)\n",
      "    _get_signature_of = functools.partial(_signature_from_callable,=======================(9)       \n",
      "                                follow_wrapper_chains=follow_wrapper_chains,==============(10)      \n",
      "                                skip_bound_arg=skip_bound_arg,============================(11)      \n",
      "                                sigcls=sigcls)============================================(12)      \n",
      "                                                                                                                                                        (13)\n",
      "    if not callable(obj):=================================================================(14)      \n",
      "        raise TypeError('{!r} is not a callable object'.format(obj))======================(15)      \n",
      "                                                                                                                                                        (16)\n",
      "    if isinstance(obj, types.MethodType):=================================================(17)      \n",
      "        # In this case we skip the first parameter of the underlying======================(18)      \n",
      "        # function (usually `self` or `cls`).=============================================(19)      \n",
      "        sig = _get_signature_of(obj.__func__)=============================================(20)      \n",
      "                                                                                                                                                        (21)\n",
      "        if skip_bound_arg:================================================================(22)      \n",
      "            return _signature_bound_method(sig)===========================================(23)      \n",
      "        else:=============================================================================(24)      \n",
      "            return sig====================================================================(25)      \n",
      "                                                                                                                                                        (26)\n",
      "    # Was this function wrapped by a decorator?===========================================(27)      \n",
      "    if follow_wrapper_chains:=============================================================(28)      \n",
      "        obj = unwrap(obj, stop=(lambda f: hasattr(f, \"__signature__\")))===================(29)      \n",
      "        if isinstance(obj, types.MethodType):=============================================(30)      \n",
      "            # If the unwrapped object is a *method*, we might want to=====================(31)      \n",
      "            # skip its first parameter (self).============================================(32)      \n",
      "            # See test_signature_wrapped_bound_method for details.========================(33)      \n",
      "            return _get_signature_of(obj)=================================================(34)      \n",
      "                                                                                                                                                        (35)\n",
      "    try:==================================================================================(36)      \n",
      "        sig = obj.__signature__===========================================================(37)      \n",
      "    except AttributeError:================================================================(38)      \n",
      "        pass==============================================================================(39)      \n",
      "    else:=================================================================================(40)      \n",
      "        if sig is not None:===============================================================(41)      \n",
      "            if not isinstance(sig, Signature):============================================(42)      \n",
      "                raise TypeError(==========================================================(43)      \n",
      "                    'unexpected object {!r} in __signature__ '============================(44)      \n",
      "                    'attribute'.format(sig))==============================================(45)      \n",
      "            return sig====================================================================(46)      \n",
      "                                                                                                                                                        (47)\n",
      "    try:==================================================================================(48)      \n",
      "        partialmethod = obj._partialmethod================================================(49)      \n",
      "    except AttributeError:================================================================(50)      \n",
      "        pass==============================================================================(51)      \n",
      "    else:=================================================================================(52)      \n",
      "        if isinstance(partialmethod, functools.partialmethod):============================(53)      \n",
      "            # Unbound partialmethod (see functools.partialmethod)=========================(54)      \n",
      "            # This means, that we need to calculate the signature=========================(55)      \n",
      "            # as if it's a regular partial object, but taking into========================(56)      \n",
      "            # account that the first positional argument==================================(57)      \n",
      "            # (usually `self`, or `cls`) will not be passed===============================(58)      \n",
      "            # automatically (as for boundmethods)=========================================(59)      \n",
      "                                                                                                                                                        (60)\n",
      "            wrapped_sig = _get_signature_of(partialmethod.func)===========================(61)      \n",
      "                                                                                                                                                        (62)\n",
      "            sig = _signature_get_partial(wrapped_sig, partialmethod, (None,))=============(63)      \n",
      "            first_wrapped_param = tuple(wrapped_sig.parameters.values())[0]===============(64)      \n",
      "            if first_wrapped_param.kind is Parameter.VAR_POSITIONAL:======================(65)      \n",
      "                # First argument of the wrapped callable is `*args`, as in================(66)      \n",
      "                # `partialmethod(lambda *args)`.==========================================(67)      \n",
      "                return sig================================================================(68)      \n",
      "            else:=========================================================================(69)      \n",
      "                sig_params = tuple(sig.parameters.values())===============================(70)      \n",
      "                assert (not sig_params or=================================================(71)      \n",
      "                        first_wrapped_param is not sig_params[0])=========================(72)      \n",
      "                new_params = (first_wrapped_param,) + sig_params==========================(73)      \n",
      "                return sig.replace(parameters=new_params)=================================(74)      \n",
      "                                                                                                                                                        (75)\n",
      "    if isfunction(obj) or _signature_is_functionlike(obj):================================(76) # spot 0: \u001b[36;1mwhatinside's sig is finally processed by _signature_from_function\u001b[0m\n",
      "        # If it's a pure Python function, or an object that is duck type==================(77) # spot 4: \u001b[36;1minit func will be processed by _signature_from_function in the block above. see explorations below:\u001b[0m\n",
      "        # of a Python function (Cython functions, for instance), then:====================(78)      \n",
      "        return _signature_from_function(sigcls, obj,======================================(79)      \n",
      "                                        skip_bound_arg=skip_bound_arg)====================(80)      \n",
      "                                                                                                                                                        (81)\n",
      "    if _signature_is_builtin(obj):========================================================(82)      \n",
      "        return _signature_from_builtin(sigcls, obj,=======================================(83)      \n",
      "                                       skip_bound_arg=skip_bound_arg)=====================(84)      \n",
      "                                                                                                                                                        (85)\n",
      "    if isinstance(obj, functools.partial):================================================(86)      \n",
      "        wrapped_sig = _get_signature_of(obj.func)=========================================(87)      \n",
      "        return _signature_get_partial(wrapped_sig, obj)===================================(88)      \n",
      "                                                                                                                                                        (89)\n",
      "    sig = None============================================================================(90)      \n",
      "    if isinstance(obj, type):=============================================================(91) # spot 1: \u001b[36;1mFoo is taken care of in this if block\u001b[0m\n",
      "        # obj is a class or a metaclass===================================================(92)      \n",
      "                                                                                                                                                        (93)\n",
      "        # First, let's see if it has an overloaded __call__ defined=======================(94)      \n",
      "        # in its metaclass================================================================(95)      \n",
      "        call = _signature_get_user_defined_method(type(obj), '__call__')==================(96)      \n",
      "        if call is not None:==============================================================(97)      \n",
      "            sig = _get_signature_of(call)=================================================(98)      \n",
      "        else:=============================================================================(99)      \n",
      "            factory_method = None=========================================================(100)     \n",
      "            new = _signature_get_user_defined_method(obj, '__new__')======================(101)     \n",
      "            init = _signature_get_user_defined_method(obj, '__init__')====================(102)     \n",
      "            # Now we check if the 'obj' class has an own '__new__' method=================(103) # spot 2: \u001b[36;1mFoo has no methods on call nor new, but has init\u001b[0m\n",
      "            if '__new__' in obj.__dict__:=================================================(104) # spot 5: \u001b[36;1mAlthough Foo inherits __new__ from Base, but Foo.__dict__ refuse to have it. So, Foo only take sig from its own __init__. therefore it will go back to step 4 to process sig from function __init__\u001b[0m\n",
      "                factory_method = new======================================================(105)     \n",
      "            # or an own '__init__' method=================================================(106)     \n",
      "            elif '__init__' in obj.__dict__:==============================================(107)     \n",
      "                factory_method = init=====================================================(108)     \n",
      "            # If not, we take inherited '__new__' or '__init__', if present===============(109)     \n",
      "            elif new is not None:=========================================================(110)     \n",
      "                factory_method = new======================================================(111)     \n",
      "            elif init is not None:========================================================(112)     \n",
      "                factory_method = init=====================================================(113)     \n",
      "                                                                                                                                                        (114)\n",
      "            if factory_method is not None:================================================(115)     \n",
      "                sig = _get_signature_of(factory_method)===================================(116) # spot 3: \u001b[36;1minit func is taken by _get_signature_of\u001b[0m\n",
      "                                                                                                                                                        (117)\n",
      "        if sig is None:===================================================================(118)     \n",
      "            # At this point we know, that `obj` is a class, with no user-=================(119)     \n",
      "            # defined '__init__', '__new__', or class-level '__call__'====================(120)     \n",
      "                                                                                                                                                        (121)\n",
      "            for base in obj.__mro__[:-1]:=================================================(122)     \n",
      "                # Since '__text_signature__' is implemented as a==========================(123)     \n",
      "                # descriptor that extracts text signature from the========================(124)     \n",
      "                # class docstring, if 'obj' is derived from a builtin=====================(125)     \n",
      "                # class, its own '__text_signature__' may be 'None'.======================(126)     \n",
      "                # Therefore, we go through the MRO (except the last=======================(127)     \n",
      "                # class in there, which is 'object') to find the first====================(128)     \n",
      "                # class with non-empty text signature.====================================(129)     \n",
      "                try:======================================================================(130)     \n",
      "                    text_sig = base.__text_signature__====================================(131)     \n",
      "                except AttributeError:====================================================(132)     \n",
      "                    pass==================================================================(133)     \n",
      "                else:=====================================================================(134)     \n",
      "                    if text_sig:==========================================================(135)     \n",
      "                        # If 'base' class has a __text_signature__ attribute:=============(136)     \n",
      "                        # return a signature based on it==================================(137)     \n",
      "                        return _signature_fromstr(sigcls, base, text_sig)=================(138)     \n",
      "                                                                                                                                                        (139)\n",
      "            # No '__text_signature__' was found for the 'obj' class.======================(140)     \n",
      "            # Last option is to check if its '__init__' is================================(141)     \n",
      "            # object.__init__ or type.__init__.===========================================(142)     \n",
      "            if type not in obj.__mro__:===================================================(143)     \n",
      "                # We have a class (not metaclass), but no user-defined====================(144)     \n",
      "                # __init__ or __new__ for it==============================================(145)     \n",
      "                if (obj.__init__ is object.__init__ and===================================(146)     \n",
      "                    obj.__new__ is object.__new__):=======================================(147)     \n",
      "                    # Return a signature of 'object' builtin.=============================(148)     \n",
      "                    return sigcls.from_callable(object)===================================(149)     \n",
      "                else:=====================================================================(150)     \n",
      "                    raise ValueError(=====================================================(151)     \n",
      "                        'no signature found for builtin type {!r}'.format(obj))===========(152)     \n",
      "                                                                                                                                                        (153)\n",
      "    elif not isinstance(obj, _NonUserDefinedCallables):===================================(154)     \n",
      "        # An object with __call__=========================================================(155)     \n",
      "        # We also check that the 'obj' is not an instance of==============================(156)     \n",
      "        # _WrapperDescriptor or _MethodWrapper to avoid===================================(157)     \n",
      "        # infinite recursion (and even potential segfault)================================(158)     \n",
      "        call = _signature_get_user_defined_method(type(obj), '__call__')==================(159)     \n",
      "        if call is not None:==============================================================(160)     \n",
      "            try:==========================================================================(161)     \n",
      "                sig = _get_signature_of(call)=============================================(162)     \n",
      "            except ValueError as ex:======================================================(163)     \n",
      "                msg = 'no signature found for {!r}'.format(obj)===========================(164)     \n",
      "                raise ValueError(msg) from ex=============================================(165)     \n",
      "                                                                                                                                                        (166)\n",
      "    if sig is not None:===================================================================(167)     \n",
      "        # For classes and objects we skip the first parameter of their====================(168)     \n",
      "        # __call__, __new__, or __init__ methods==========================================(169)     \n",
      "        if skip_bound_arg:================================================================(170)     \n",
      "            return _signature_bound_method(sig)===========================================(171)     \n",
      "        else:=============================================================================(172)     \n",
      "            return sig====================================================================(173)     \n",
      "                                                                                                                                                        (174)\n",
      "    if isinstance(obj, types.BuiltinFunctionType):========================================(175)     \n",
      "        # Raise a nicer error message for builtins========================================(176)     \n",
      "        msg = 'no signature found for builtin function {!r}'.format(obj)==================(177)     \n",
      "        raise ValueError(msg)=============================================================(178)     \n",
      "                                                                                                                                                        (179)\n",
      "    raise ValueError('callable {!r} is not supported by signature'.format(obj))===========(180)     \n",
      "                                                                                                                                                        (181)\n"
     ]
    }
   ],
   "source": [
    "fdb.print()"
   ]
  },
  {
   "cell_type": "markdown",
   "id": "11008e37",
   "metadata": {},
   "source": [
    "### Example: How FixSigMeta fixed Base's `__new__` problem"
   ]
  },
  {
   "cell_type": "code",
   "execution_count": null,
   "id": "b8336bfe",
   "metadata": {},
   "outputs": [],
   "source": [
    "from fastcore.meta import *"
   ]
  },
  {
   "cell_type": "code",
   "execution_count": null,
   "id": "45323f63",
   "metadata": {},
   "outputs": [
    {
     "data": {
      "text/plain": [
       "<Signature (d, e, f)>"
      ]
     },
     "execution_count": null,
     "metadata": {},
     "output_type": "execute_result"
    }
   ],
   "source": [
    "class Base: # pass\n",
    "    def __new__(self, **args): pass  # defines a __new__ \n",
    "\n",
    "class Foo_new_fix(Base, metaclass=FixSigMeta):\n",
    "    def __init__(self, d, e, f): pass\n",
    "    \n",
    "inspect._signature_from_callable(Foo_new_fix, sigcls=inspect.Signature)"
   ]
  },
  {
   "cell_type": "code",
   "execution_count": null,
   "id": "a2e479f6",
   "metadata": {},
   "outputs": [],
   "source": [
    "example = \"\"\"\n",
    "class Base: # pass\n",
    "    def __new__(self, **args): pass  # defines a __new__ \n",
    "\n",
    "class Foo_new_fix(Base, metaclass=FixSigMeta):\n",
    "    def __init__(self, d, e, f): pass\n",
    "    \n",
    "inspect._signature_from_callable(Foo_new_fix, sigcls=inspect.Signature)\n",
    "\"\"\""
   ]
  },
  {
   "cell_type": "code",
   "execution_count": null,
   "id": "36cab797",
   "metadata": {},
   "outputs": [],
   "source": [
    "fdb.takExample(example, Foo_new_fix=Foo_new_fix, inspect=inspect)"
   ]
  },
  {
   "cell_type": "code",
   "execution_count": null,
   "id": "2c7cb903",
   "metadata": {},
   "outputs": [
    {
     "name": "stderr",
     "output_type": "stream",
     "text": [
      "11:25:00.90 >>> Call to _signature_from_callable in File \"/Users/Natsume/mambaforge/lib/python3.9/inspect.py\", line 2246\n",
      "11:25:00.90 ...... obj = <class '__main__.Foo_new_fix'>\n",
      "11:25:00.90 ...... follow_wrapper_chains = True\n",
      "11:25:00.90 ...... skip_bound_arg = True\n",
      "11:25:00.90 ...... sigcls = <class 'inspect.Signature'>\n",
      "11:25:00.90 2246 | def _signature_from_callable(obj, *,\n",
      "11:25:00.90 2255 |     _get_signature_of = functools.partial(_signature_from_callable,\n",
      "11:25:00.90 2256 |                                 follow_wrapper_chains=follow_wrapper_chains,\n",
      "11:25:00.90 2257 |                                 skip_bound_arg=skip_bound_arg,\n",
      "11:25:00.90 2258 |                                 sigcls=sigcls)\n",
      "11:25:00.90 2255 |     _get_signature_of = functools.partial(_signature_from_callable,\n",
      "11:25:00.90 .......... _get_signature_of = functools.partial(<function _signature_from_call...und_arg=True, sigcls=<class 'inspect.Signature'>)\n",
      "11:25:00.90 2260 |     if not callable(obj):\n",
      "11:25:00.90 2263 |     if isinstance(obj, types.MethodType):\n",
      "11:25:00.90 2274 |     if follow_wrapper_chains:\n",
      "11:25:00.90 2275 |         obj = unwrap(obj, stop=(lambda f: hasattr(f, \"__signature__\")))\n",
      "11:25:00.90 2276 |         if isinstance(obj, types.MethodType):\n",
      "11:25:00.90 2282 |     try:\n",
      "11:25:00.90 2283 |         sig = obj.__signature__\n",
      "11:25:00.90 .............. sig = <Signature (d, e, f)>\n",
      "11:25:00.90 2287 |         if sig is not None:\n",
      "11:25:00.90 2288 |             if not isinstance(sig, Signature):\n",
      "11:25:00.90 2292 |             return sig\n",
      "11:25:00.90 <<< Return value from _signature_from_callable: <Signature (d, e, f)>\n"
     ]
    }
   ],
   "source": [
    "fdb.snoop()"
   ]
  },
  {
   "cell_type": "code",
   "execution_count": null,
   "id": "71a66d6a",
   "metadata": {
    "hide_input": false
   },
   "outputs": [
    {
     "name": "stdout",
     "output_type": "stream",
     "text": [
      "=================================================     Investigating \u001b[91;1m_signature_from_callable\u001b[0m     =================================================\n",
      "===============================================================     on line \u001b[91;1m29\u001b[0m     ===============================================================\n",
      "     with example \u001b[91;1m\n",
      "class Base: # pass\n",
      "    def __new__(self, **args): pass  # defines a __new__ \n",
      "\n",
      "class Foo_new_fix(Base, metaclass=FixSigMeta):\n",
      "    def __init__(self, d, e, f): pass\n",
      "    \n",
      "inspect._signature_from_callable(Foo_new_fix, sigcls=inspect.Signature)\n",
      "\u001b[0m     \n",
      "\n",
      "    # Was this function wrapped by a decorator?                                                                                                         (27)\n",
      "    if follow_wrapper_chains:                                                                                                                           (28)\n",
      "        obj = unwrap(obj, stop=(lambda f: hasattr(f, \"__signature__\")))=================================================================================(29)\n",
      "                                                                                          \u001b[91;1mEvery obj must be unwrapped if wrapped, unless it has __signature__\u001b[0m\n",
      "        if isinstance(obj, types.MethodType):                                                                                                           (30)\n",
      "            # If the unwrapped object is a *method*, we might want to                                                                                   (31)\n",
      "\n",
      "==================================================================================================================\u001b[91;1mStart of my srcline exploration:\u001b[0m\n",
      "\n",
      "\n",
      "                                                                                                                  obj => obj : <class '__main__.Foo_new_fix'>\n",
      "\n",
      "\n",
      "                                                                                                     obj = unwrap(obj) => obj: <class '__main__.Foo_new_fix'>\n",
      "\n",
      "\n",
      "                                                       obj = unwrap(obj, stop=(lambda f: hasattr(f, '__signature__'))) => obj: <class '__main__.Foo_new_fix'>\n",
      "\n",
      "\n",
      "inspect.getdoc(unwrap) => inspect.getdoc(unwrap) : Get the object wrapped by *func*.\n",
      "\n",
      "Follows the chain of :attr:`__wrapped__` attributes returning the last\n",
      "object in the chain.\n",
      "\n",
      "*stop* is an optional callback accepting an object in the wrapper chain\n",
      "as its sole argument that allows the unwrapping to be terminated early if\n",
      "the callback returns a true value. If the callback never returns a true\n",
      "value, the last object in the chain is returned as usual. For example,\n",
      ":func:`signature` uses this to stop unwrapping if any object in the\n",
      "chain has a ``__signature__`` attribute defined.\n",
      "\n",
      ":exc:`ValueError` is raised if a cycle is encountered.\n",
      "\n",
      " \n",
      "====================================================================================================================\u001b[91;1mEnd of my srcline exploration:\u001b[0m\n",
      "\n",
      "<Signature (d, e, f)>\n",
      "\n",
      "\u001b[93;1mReview srcode with all comments added so far\u001b[0m======================================================================================================\n",
      "def _signature_from_callable(obj, *,======================================================(0)       \n",
      "                             follow_wrapper_chains=True,==================================(1)       \n",
      "                             skip_bound_arg=True,=========================================(2)       \n",
      "                             sigcls):=====================================================(3)       \n",
      "                                                                                                                                                        (4)\n",
      "    \"\"\"Private helper function to get signature for arbitrary=============================(5)       \n",
      "    callable objects.=====================================================================(6)       \n",
      "    \"\"\"===================================================================================(7)       \n",
      "                                                                                                                                                        (8)\n",
      "    _get_signature_of = functools.partial(_signature_from_callable,=======================(9)       \n",
      "                                follow_wrapper_chains=follow_wrapper_chains,==============(10)      \n",
      "                                skip_bound_arg=skip_bound_arg,============================(11)      \n",
      "                                sigcls=sigcls)============================================(12)      \n",
      "                                                                                                                                                        (13)\n",
      "    if not callable(obj):=================================================================(14)      \n",
      "        raise TypeError('{!r} is not a callable object'.format(obj))======================(15)      \n",
      "                                                                                                                                                        (16)\n",
      "    if isinstance(obj, types.MethodType):=================================================(17)      \n",
      "        # In this case we skip the first parameter of the underlying======================(18)      \n",
      "        # function (usually `self` or `cls`).=============================================(19)      \n",
      "        sig = _get_signature_of(obj.__func__)=============================================(20)      \n",
      "                                                                                                                                                        (21)\n",
      "        if skip_bound_arg:================================================================(22)      \n",
      "            return _signature_bound_method(sig)===========================================(23)      \n",
      "        else:=============================================================================(24)      \n",
      "            return sig====================================================================(25)      \n",
      "                                                                                                                                                        (26)\n",
      "    # Was this function wrapped by a decorator?===========================================(27)      \n",
      "    if follow_wrapper_chains:=============================================================(28)      \n",
      "        obj = unwrap(obj, stop=(lambda f: hasattr(f, \"__signature__\")))===================(29) # spot 6: \u001b[35;1mEvery obj must be unwrapped if wrapped, unless it has __signature__\u001b[0m\n",
      "        if isinstance(obj, types.MethodType):=============================================(30)      \n",
      "            # If the unwrapped object is a *method*, we might want to=====================(31)      \n",
      "            # skip its first parameter (self).============================================(32)      \n",
      "                                                                                                                                     part No.1 out of 6 parts\n",
      "\n"
     ]
    },
    {
     "data": {
      "text/plain": [
       "<function inspect._signature_from_callable(obj, *, follow_wrapper_chains=True, skip_bound_arg=True, sigcls)>"
      ]
     },
     "execution_count": null,
     "metadata": {},
     "output_type": "execute_result"
    }
   ],
   "source": [
    "fdb.dbprint(29, \"Every obj must be unwrapped if wrapped, unless it has __signature__\", \"obj\", \"obj = unwrap(obj)\", \\\n",
    "            \"obj = unwrap(obj, stop=(lambda f: hasattr(f, '__signature__')))\", \"inspect.getdoc(unwrap)\")"
   ]
  },
  {
   "cell_type": "code",
   "execution_count": null,
   "id": "c75bbee0",
   "metadata": {},
   "outputs": [
    {
     "name": "stdout",
     "output_type": "stream",
     "text": [
      "=================================================     Investigating \u001b[91;1m_signature_from_callable\u001b[0m     =================================================\n",
      "===============================================================     on line \u001b[91;1m37\u001b[0m     ===============================================================\n",
      "     with example \u001b[91;1m\n",
      "class Base: # pass\n",
      "    def __new__(self, **args): pass  # defines a __new__ \n",
      "\n",
      "class Foo_new_fix(Base, metaclass=FixSigMeta):\n",
      "    def __init__(self, d, e, f): pass\n",
      "    \n",
      "inspect._signature_from_callable(Foo_new_fix, sigcls=inspect.Signature)\n",
      "\u001b[0m     \n",
      "\n",
      "                                                                                                                                                        (35)\n",
      "    try:                                                                                                                                                (36)\n",
      "        sig = obj.__signature__=========================================================================================================================(37)\n",
      "                                                                         \u001b[91;1mEvery obj must be checked with __signature__, if it has the attr, then use it as sig\u001b[0m\n",
      "    except AttributeError:                                                                                                                              (38)\n",
      "        pass                                                                                                                                            (39)\n",
      "<Signature (d, e, f)>\n",
      "\n",
      "\u001b[93;1mReview srcode with all comments added so far\u001b[0m======================================================================================================\n",
      "            # See test_signature_wrapped_bound_method for details.========================(33)      \n",
      "            return _get_signature_of(obj)=================================================(34)      \n",
      "                                                                                                                                                        (35)\n",
      "    try:==================================================================================(36)      \n",
      "        sig = obj.__signature__===========================================================(37) # spot 7: \u001b[35;1mEvery obj must be checked with __signature__, if it has the attr, then use it as sig\u001b[0m\n",
      "    except AttributeError:================================================================(38)      \n",
      "        pass==============================================================================(39)      \n",
      "    else:=================================================================================(40)      \n",
      "        if sig is not None:===============================================================(41)      \n",
      "            if not isinstance(sig, Signature):============================================(42)      \n",
      "                raise TypeError(==========================================================(43)      \n",
      "                    'unexpected object {!r} in __signature__ '============================(44)      \n",
      "                    'attribute'.format(sig))==============================================(45)      \n",
      "            return sig====================================================================(46)      \n",
      "                                                                                                                                                        (47)\n",
      "    try:==================================================================================(48)      \n",
      "        partialmethod = obj._partialmethod================================================(49)      \n",
      "    except AttributeError:================================================================(50)      \n",
      "        pass==============================================================================(51)      \n",
      "    else:=================================================================================(52)      \n",
      "        if isinstance(partialmethod, functools.partialmethod):============================(53)      \n",
      "            # Unbound partialmethod (see functools.partialmethod)=========================(54)      \n",
      "            # This means, that we need to calculate the signature=========================(55)      \n",
      "            # as if it's a regular partial object, but taking into========================(56)      \n",
      "            # account that the first positional argument==================================(57)      \n",
      "            # (usually `self`, or `cls`) will not be passed===============================(58)      \n",
      "            # automatically (as for boundmethods)=========================================(59)      \n",
      "                                                                                                                                                        (60)\n",
      "            wrapped_sig = _get_signature_of(partialmethod.func)===========================(61)      \n",
      "                                                                                                                                                        (62)\n",
      "            sig = _signature_get_partial(wrapped_sig, partialmethod, (None,))=============(63)      \n",
      "            first_wrapped_param = tuple(wrapped_sig.parameters.values())[0]===============(64)      \n",
      "            if first_wrapped_param.kind is Parameter.VAR_POSITIONAL:======================(65)      \n",
      "                                                                                                                                     part No.2 out of 6 parts\n",
      "\n"
     ]
    },
    {
     "data": {
      "text/plain": [
       "<function inspect._signature_from_callable(obj, *, follow_wrapper_chains=True, skip_bound_arg=True, sigcls)>"
      ]
     },
     "execution_count": null,
     "metadata": {},
     "output_type": "execute_result"
    }
   ],
   "source": [
    "fdb.dbprint(37, \"Every obj must be checked with __signature__, if it has the attr, then use it as sig\", )"
   ]
  },
  {
   "cell_type": "markdown",
   "id": "8d66049d",
   "metadata": {},
   "source": [
    "### Example: metaclass own `__call__` can be a problem"
   ]
  },
  {
   "cell_type": "code",
   "execution_count": null,
   "id": "614741ec",
   "metadata": {},
   "outputs": [
    {
     "data": {
      "text/plain": [
       "<Signature (*args, **kwargs)>"
      ]
     },
     "execution_count": null,
     "metadata": {},
     "output_type": "execute_result"
    }
   ],
   "source": [
    "class BaseMeta(type): \n",
    "    # using __new__ from type\n",
    "    def __call__(cls, *args, **kwargs): pass\n",
    "class Foo_call(metaclass=BaseMeta): \n",
    "    def __init__(self, d, e, f): pass\n",
    "\n",
    "inspect._signature_from_callable(Foo_call, sigcls=inspect.Signature)"
   ]
  },
  {
   "cell_type": "code",
   "execution_count": null,
   "id": "d144cd91",
   "metadata": {},
   "outputs": [],
   "source": [
    "example = \"\"\"\n",
    "class BaseMeta(type): \n",
    "    # using __new__ from type\n",
    "    def __call__(cls, *args, **kwargs): pass\n",
    "class Foo_call(metaclass=BaseMeta): \n",
    "    def __init__(self, d, e, f): pass\n",
    "\n",
    "inspect._signature_from_callable(Foo_call, sigcls=inspect.Signature)\n",
    "\"\"\""
   ]
  },
  {
   "cell_type": "code",
   "execution_count": null,
   "id": "681bb5d6",
   "metadata": {},
   "outputs": [],
   "source": [
    "fdb.takExample(example, Foo_call=Foo_call, inspect=inspect)"
   ]
  },
  {
   "cell_type": "code",
   "execution_count": null,
   "id": "82319918",
   "metadata": {},
   "outputs": [
    {
     "name": "stderr",
     "output_type": "stream",
     "text": [
      "11:25:00.93 >>> Call to _signature_from_callable in File \"/Users/Natsume/mambaforge/lib/python3.9/inspect.py\", line 2246\n",
      "11:25:00.93 ...... obj = <class '__main__.Foo_call'>\n",
      "11:25:00.93 ...... follow_wrapper_chains = True\n",
      "11:25:00.93 ...... skip_bound_arg = True\n",
      "11:25:00.93 ...... sigcls = <class 'inspect.Signature'>\n",
      "11:25:00.93 2246 | def _signature_from_callable(obj, *,\n",
      "11:25:00.93 2255 |     _get_signature_of = functools.partial(_signature_from_callable,\n",
      "11:25:00.94 2256 |                                 follow_wrapper_chains=follow_wrapper_chains,\n",
      "11:25:00.94 2257 |                                 skip_bound_arg=skip_bound_arg,\n",
      "11:25:00.94 2258 |                                 sigcls=sigcls)\n",
      "11:25:00.94 2255 |     _get_signature_of = functools.partial(_signature_from_callable,\n",
      "11:25:00.94 .......... _get_signature_of = functools.partial(<function _signature_from_call...und_arg=True, sigcls=<class 'inspect.Signature'>)\n",
      "11:25:00.94 2260 |     if not callable(obj):\n",
      "11:25:00.94 2263 |     if isinstance(obj, types.MethodType):\n",
      "11:25:00.94 2274 |     if follow_wrapper_chains:\n",
      "11:25:00.94 2275 |         obj = unwrap(obj, stop=(lambda f: hasattr(f, \"__signature__\")))\n",
      "11:25:00.94 2276 |         if isinstance(obj, types.MethodType):\n",
      "11:25:00.94 2282 |     try:\n",
      "11:25:00.94 2283 |         sig = obj.__signature__\n",
      "11:25:00.94 !!! AttributeError: type object 'Foo_call' has no attribute '__signature__'\n",
      "11:25:00.94 !!! When getting attribute: obj.__signature__\n",
      "11:25:00.94 2284 |     except AttributeError:\n",
      "11:25:00.94 2285 |         pass\n",
      "11:25:00.94 2294 |     try:\n",
      "11:25:00.94 2295 |         partialmethod = obj._partialmethod\n",
      "11:25:00.94 !!! AttributeError: type object 'Foo_call' has no attribute '_partialmethod'\n",
      "11:25:00.94 !!! When getting attribute: obj._partialmethod\n",
      "11:25:00.94 2296 |     except AttributeError:\n",
      "11:25:00.94 2297 |         pass\n",
      "11:25:00.94 2322 |     if isfunction(obj) or _signature_is_functionlike(obj):\n",
      "11:25:00.94 2328 |     if _signature_is_builtin(obj):\n",
      "11:25:00.94 2332 |     if isinstance(obj, functools.partial):\n",
      "11:25:00.94 2336 |     sig = None\n",
      "11:25:00.94 2337 |     if isinstance(obj, type):\n",
      "11:25:00.94 2342 |         call = _signature_get_user_defined_method(type(obj), '__call__')\n",
      "11:25:00.94 .............. call = <function BaseMeta.__call__ at 0x12c608670>\n",
      "11:25:00.94 2343 |         if call is not None:\n",
      "11:25:00.94 2344 |             sig = _get_signature_of(call)\n",
      "    11:25:00.94 >>> Call to _signature_from_callable in File \"/Users/Natsume/mambaforge/lib/python3.9/inspect.py\", line 2246\n",
      "    11:25:00.94 ...... obj = <function BaseMeta.__call__ at 0x12c608670>\n",
      "    11:25:00.94 ...... follow_wrapper_chains = True\n",
      "    11:25:00.94 ...... skip_bound_arg = True\n",
      "    11:25:00.94 ...... sigcls = <class 'inspect.Signature'>\n",
      "    11:25:00.94 2246 | def _signature_from_callable(obj, *,\n",
      "    11:25:00.94 2255 |     _get_signature_of = functools.partial(_signature_from_callable,\n",
      "    11:25:00.94 2256 |                                 follow_wrapper_chains=follow_wrapper_chains,\n",
      "    11:25:00.94 2257 |                                 skip_bound_arg=skip_bound_arg,\n",
      "    11:25:00.94 2258 |                                 sigcls=sigcls)\n",
      "    11:25:00.94 2255 |     _get_signature_of = functools.partial(_signature_from_callable,\n",
      "    11:25:00.94 .......... _get_signature_of = functools.partial(<function _signature_from_call...und_arg=True, sigcls=<class 'inspect.Signature'>)\n",
      "    11:25:00.94 2260 |     if not callable(obj):\n",
      "    11:25:00.94 2263 |     if isinstance(obj, types.MethodType):\n",
      "    11:25:00.94 2274 |     if follow_wrapper_chains:\n",
      "    11:25:00.94 2275 |         obj = unwrap(obj, stop=(lambda f: hasattr(f, \"__signature__\")))\n",
      "    11:25:00.94 2276 |         if isinstance(obj, types.MethodType):\n",
      "    11:25:00.94 2282 |     try:\n",
      "    11:25:00.94 2283 |         sig = obj.__signature__\n",
      "    11:25:00.94 !!! AttributeError: 'function' object has no attribute '__signature__'\n",
      "    11:25:00.94 !!! When getting attribute: obj.__signature__\n",
      "    11:25:00.94 2284 |     except AttributeError:\n",
      "    11:25:00.94 2285 |         pass\n",
      "    11:25:00.95 2294 |     try:\n",
      "    11:25:00.95 2295 |         partialmethod = obj._partialmethod\n",
      "    11:25:00.95 !!! AttributeError: 'function' object has no attribute '_partialmethod'\n",
      "    11:25:00.95 !!! When getting attribute: obj._partialmethod\n",
      "    11:25:00.95 2296 |     except AttributeError:\n",
      "    11:25:00.95 2297 |         pass\n",
      "    11:25:00.95 2322 |     if isfunction(obj) or _signature_is_functionlike(obj):\n",
      "    11:25:00.95 2325 |         return _signature_from_function(sigcls, obj,\n",
      "    11:25:00.95 2326 |                                         skip_bound_arg=skip_bound_arg)\n",
      "    11:25:00.95 2325 |         return _signature_from_function(sigcls, obj,\n",
      "    11:25:00.95 <<< Return value from _signature_from_callable: <Signature (cls, *args, **kwargs)>\n",
      "11:25:00.95 2344 |             sig = _get_signature_of(call)\n",
      "11:25:00.95 .................. sig = <Signature (cls, *args, **kwargs)>\n",
      "11:25:00.95 2364 |         if sig is None:\n",
      "11:25:00.95 2413 |     if sig is not None:\n",
      "11:25:00.95 2416 |         if skip_bound_arg:\n",
      "11:25:00.95 2417 |             return _signature_bound_method(sig)\n",
      "11:25:00.95 <<< Return value from _signature_from_callable: <Signature (*args, **kwargs)>\n"
     ]
    }
   ],
   "source": [
    "fdb.snoop()"
   ]
  },
  {
   "cell_type": "code",
   "execution_count": null,
   "id": "61f35f0b",
   "metadata": {},
   "outputs": [
    {
     "name": "stdout",
     "output_type": "stream",
     "text": [
      "=================================================     Investigating \u001b[91;1m_signature_from_callable\u001b[0m     =================================================\n",
      "===============================================================     on line \u001b[91;1m96\u001b[0m     ===============================================================\n",
      "     with example \u001b[91;1m\n",
      "class BaseMeta(type): \n",
      "    # using __new__ from type\n",
      "    def __call__(cls, *args, **kwargs): pass\n",
      "class Foo_call(metaclass=BaseMeta): \n",
      "    def __init__(self, d, e, f): pass\n",
      "\n",
      "inspect._signature_from_callable(Foo_call, sigcls=inspect.Signature)\n",
      "\u001b[0m     \n",
      "\n",
      "        # First, let's see if it has an overloaded __call__ defined                                                                                     (94)\n",
      "        # in its metaclass                                                                                                                              (95)\n",
      "        call = _signature_get_user_defined_method(type(obj), '__call__')================================================================================(96)\n",
      "                                                                                                      \u001b[91;1mMust check whether Foo's metaclass has its own __call__\u001b[0m\n",
      "        if call is not None:                                                                                                                            (97)\n",
      "            sig = _get_signature_of(call)                                                                                                               (98)\n",
      "\n",
      "==================================================================================================================\u001b[91;1mStart of my srcline exploration:\u001b[0m\n",
      "\n",
      "\n",
      "                                        call = _signature_get_user_defined_method(type(obj), '__call__') => call: <function BaseMeta.__call__ at 0x12c608670>\n",
      "\n",
      "\n",
      "inspect.getdoc(_signature_get_user_defined_method) => inspect.getdoc(_signature_get_user_defined_method) : Private helper. Checks if ``cls`` has an attribute\n",
      "named ``method_name`` and returns it only if it is a\n",
      "pure python function.\n",
      "====================================================================================================================\u001b[91;1mEnd of my srcline exploration:\u001b[0m\n",
      "\n",
      "<Signature (*args, **kwargs)>\n",
      "\n",
      "\u001b[93;1mReview srcode with all comments added so far\u001b[0m======================================================================================================\n",
      "                # First argument of the wrapped callable is `*args`, as in================(66)      \n",
      "                # `partialmethod(lambda *args)`.==========================================(67)      \n",
      "                return sig================================================================(68)      \n",
      "            else:=========================================================================(69)      \n",
      "                sig_params = tuple(sig.parameters.values())===============================(70)      \n",
      "                assert (not sig_params or=================================================(71)      \n",
      "                        first_wrapped_param is not sig_params[0])=========================(72)      \n",
      "                new_params = (first_wrapped_param,) + sig_params==========================(73)      \n",
      "                return sig.replace(parameters=new_params)=================================(74)      \n",
      "                                                                                                                                                        (75)\n",
      "    if isfunction(obj) or _signature_is_functionlike(obj):================================(76) # spot 0: \u001b[36;1mwhatinside's sig is finally processed by _signature_from_function\u001b[0m\n",
      "        # If it's a pure Python function, or an object that is duck type==================(77) # spot 4: \u001b[36;1minit func will be processed by _signature_from_function in the block above. see explorations below:\u001b[0m\n",
      "        # of a Python function (Cython functions, for instance), then:====================(78)      \n",
      "        return _signature_from_function(sigcls, obj,======================================(79)      \n",
      "                                        skip_bound_arg=skip_bound_arg)====================(80)      \n",
      "                                                                                                                                                        (81)\n",
      "    if _signature_is_builtin(obj):========================================================(82)      \n",
      "        return _signature_from_builtin(sigcls, obj,=======================================(83)      \n",
      "                                       skip_bound_arg=skip_bound_arg)=====================(84)      \n",
      "                                                                                                                                                        (85)\n",
      "    if isinstance(obj, functools.partial):================================================(86)      \n",
      "        wrapped_sig = _get_signature_of(obj.func)=========================================(87)      \n",
      "        return _signature_get_partial(wrapped_sig, obj)===================================(88)      \n",
      "                                                                                                                                                        (89)\n",
      "    sig = None============================================================================(90)      \n",
      "    if isinstance(obj, type):=============================================================(91) # spot 1: \u001b[36;1mFoo is taken care of in this if block\u001b[0m\n",
      "        # obj is a class or a metaclass===================================================(92)      \n",
      "                                                                                                                                                        (93)\n",
      "        # First, let's see if it has an overloaded __call__ defined=======================(94)      \n",
      "        # in its metaclass================================================================(95)      \n",
      "        call = _signature_get_user_defined_method(type(obj), '__call__')==================(96) # spot 8: \u001b[36;1mMust check whether Foo's metaclass has its own __call__\u001b[0m\n",
      "        if call is not None:==============================================================(97)      \n",
      "            sig = _get_signature_of(call)=================================================(98)      \n",
      "                                                                                                                                     part No.3 out of 6 parts\n",
      "\n"
     ]
    },
    {
     "data": {
      "text/plain": [
       "<function inspect._signature_from_callable(obj, *, follow_wrapper_chains=True, skip_bound_arg=True, sigcls)>"
      ]
     },
     "execution_count": null,
     "metadata": {},
     "output_type": "execute_result"
    }
   ],
   "source": [
    "fdb.dbprint(96, \"Must check whether Foo's metaclass has its own __call__\", \"call = _signature_get_user_defined_method(type(obj), '__call__')\",\\\n",
    "           \"inspect.getdoc(_signature_get_user_defined_method)\")"
   ]
  },
  {
   "cell_type": "code",
   "execution_count": null,
   "id": "d672a199",
   "metadata": {},
   "outputs": [
    {
     "name": "stdout",
     "output_type": "stream",
     "text": [
      "=================================================     Investigating \u001b[91;1m_signature_from_callable\u001b[0m     =================================================\n",
      "===============================================================     on line \u001b[91;1m98\u001b[0m     ===============================================================\n",
      "     with example \u001b[91;1m\n",
      "class BaseMeta(type): \n",
      "    # using __new__ from type\n",
      "    def __call__(cls, *args, **kwargs): pass\n",
      "class Foo_call(metaclass=BaseMeta): \n",
      "    def __init__(self, d, e, f): pass\n",
      "\n",
      "inspect._signature_from_callable(Foo_call, sigcls=inspect.Signature)\n",
      "\u001b[0m     \n",
      "\n",
      "        call = _signature_get_user_defined_method(type(obj), '__call__')                                                                                (96)\n",
      "        if call is not None:                                                                                                                            (97)\n",
      "            sig = _get_signature_of(call)===============================================================================================================(98)\n",
      "                                                         \u001b[91;1m_get_signature_of(call) will execute _signature_from_func(call) to get sig through step 4 on line 76\u001b[0m\n",
      "        else:                                                                                                                                           (99)\n",
      "            factory_method = None                                                                                                                       (100)\n",
      "<Signature (*args, **kwargs)>\n",
      "\n",
      "\u001b[93;1mReview srcode with all comments added so far\u001b[0m======================================================================================================\n",
      "                # First argument of the wrapped callable is `*args`, as in================(66)      \n",
      "                # `partialmethod(lambda *args)`.==========================================(67)      \n",
      "                return sig================================================================(68)      \n",
      "            else:=========================================================================(69)      \n",
      "                sig_params = tuple(sig.parameters.values())===============================(70)      \n",
      "                assert (not sig_params or=================================================(71)      \n",
      "                        first_wrapped_param is not sig_params[0])=========================(72)      \n",
      "                new_params = (first_wrapped_param,) + sig_params==========================(73)      \n",
      "                return sig.replace(parameters=new_params)=================================(74)      \n",
      "                                                                                                                                                        (75)\n",
      "    if isfunction(obj) or _signature_is_functionlike(obj):================================(76) # spot 0: \u001b[34;1mwhatinside's sig is finally processed by _signature_from_function\u001b[0m\n",
      "        # If it's a pure Python function, or an object that is duck type==================(77) # spot 4: \u001b[34;1minit func will be processed by _signature_from_function in the block above. see explorations below:\u001b[0m\n",
      "        # of a Python function (Cython functions, for instance), then:====================(78)      \n",
      "        return _signature_from_function(sigcls, obj,======================================(79)      \n",
      "                                        skip_bound_arg=skip_bound_arg)====================(80)      \n",
      "                                                                                                                                                        (81)\n",
      "    if _signature_is_builtin(obj):========================================================(82)      \n",
      "        return _signature_from_builtin(sigcls, obj,=======================================(83)      \n",
      "                                       skip_bound_arg=skip_bound_arg)=====================(84)      \n",
      "                                                                                                                                                        (85)\n",
      "    if isinstance(obj, functools.partial):================================================(86)      \n",
      "        wrapped_sig = _get_signature_of(obj.func)=========================================(87)      \n",
      "        return _signature_get_partial(wrapped_sig, obj)===================================(88)      \n",
      "                                                                                                                                                        (89)\n",
      "    sig = None============================================================================(90)      \n",
      "    if isinstance(obj, type):=============================================================(91) # spot 1: \u001b[34;1mFoo is taken care of in this if block\u001b[0m\n",
      "        # obj is a class or a metaclass===================================================(92)      \n",
      "                                                                                                                                                        (93)\n",
      "        # First, let's see if it has an overloaded __call__ defined=======================(94)      \n",
      "        # in its metaclass================================================================(95)      \n",
      "        call = _signature_get_user_defined_method(type(obj), '__call__')==================(96) # spot 8: \u001b[34;1mMust check whether Foo's metaclass has its own __call__\u001b[0m\n",
      "        if call is not None:==============================================================(97)      \n",
      "            sig = _get_signature_of(call)=================================================(98) # spot 9: \u001b[34;1m_get_signature_of(call) will execute _signature_from_func(call) to get sig through step 4 on line 76\u001b[0m\n",
      "                                                                                                                                     part No.3 out of 6 parts\n",
      "\n"
     ]
    },
    {
     "data": {
      "text/plain": [
       "<function inspect._signature_from_callable(obj, *, follow_wrapper_chains=True, skip_bound_arg=True, sigcls)>"
      ]
     },
     "execution_count": null,
     "metadata": {},
     "output_type": "execute_result"
    }
   ],
   "source": [
    "fdb.dbprint(98, \"_get_signature_of(call) will execute _signature_from_func(call) to get sig through step 4 on line 76\")"
   ]
  },
  {
   "cell_type": "markdown",
   "id": "38af4ad4",
   "metadata": {},
   "source": [
    "### Example: How FixSigMeta fix metaclass' `__call__` problem"
   ]
  },
  {
   "cell_type": "code",
   "execution_count": null,
   "id": "622426e3",
   "metadata": {},
   "outputs": [
    {
     "data": {
      "text/plain": [
       "<Signature (d, e, f)>"
      ]
     },
     "execution_count": null,
     "metadata": {},
     "output_type": "execute_result"
    }
   ],
   "source": [
    "class BaseMeta(FixSigMeta): \n",
    "    # using __new__ of  FixSigMeta instead of type\n",
    "    def __call__(cls, *args, **kwargs): pass\n",
    "\n",
    "class Foo_call_fix(metaclass=BaseMeta): # Base\n",
    "    def __init__(self, d, e, f): pass\n",
    "\n",
    "inspect._signature_from_callable(Foo_call_fix, sigcls=inspect.Signature)    "
   ]
  },
  {
   "cell_type": "code",
   "execution_count": null,
   "id": "f4e9df9d",
   "metadata": {},
   "outputs": [],
   "source": [
    "example = \"\"\"\n",
    "class BaseMeta(FixSigMeta): \n",
    "    # using __new__ of  FixSigMeta instead of type\n",
    "    def __call__(cls, *args, **kwargs): pass\n",
    "\n",
    "class Foo_call_fix(metaclass=BaseMeta): # Base\n",
    "    def __init__(self, d, e, f): pass\n",
    "\n",
    "inspect._signature_from_callable(Foo_call_fix, sigcls=inspect.Signature)    \n",
    "\"\"\""
   ]
  },
  {
   "cell_type": "code",
   "execution_count": null,
   "id": "e544b253",
   "metadata": {},
   "outputs": [],
   "source": [
    "fdb.takExample(example, Foo_call_fix=Foo_call_fix, inspect=inspect)"
   ]
  },
  {
   "cell_type": "code",
   "execution_count": null,
   "id": "26db82ac",
   "metadata": {},
   "outputs": [
    {
     "name": "stderr",
     "output_type": "stream",
     "text": [
      "11:25:00.98 >>> Call to _signature_from_callable in File \"/Users/Natsume/mambaforge/lib/python3.9/inspect.py\", line 2246\n",
      "11:25:00.98 ...... obj = <class '__main__.Foo_call_fix'>\n",
      "11:25:00.98 ...... follow_wrapper_chains = True\n",
      "11:25:00.98 ...... skip_bound_arg = True\n",
      "11:25:00.98 ...... sigcls = <class 'inspect.Signature'>\n",
      "11:25:00.98 2246 | def _signature_from_callable(obj, *,\n",
      "11:25:00.98 2255 |     _get_signature_of = functools.partial(_signature_from_callable,\n",
      "11:25:00.98 2256 |                                 follow_wrapper_chains=follow_wrapper_chains,\n",
      "11:25:00.98 2257 |                                 skip_bound_arg=skip_bound_arg,\n",
      "11:25:00.98 2258 |                                 sigcls=sigcls)\n",
      "11:25:00.98 2255 |     _get_signature_of = functools.partial(_signature_from_callable,\n",
      "11:25:00.98 .......... _get_signature_of = functools.partial(<function _signature_from_call...und_arg=True, sigcls=<class 'inspect.Signature'>)\n",
      "11:25:00.98 2260 |     if not callable(obj):\n",
      "11:25:00.98 2263 |     if isinstance(obj, types.MethodType):\n",
      "11:25:00.99 2274 |     if follow_wrapper_chains:\n",
      "11:25:00.99 2275 |         obj = unwrap(obj, stop=(lambda f: hasattr(f, \"__signature__\")))\n",
      "11:25:00.99 2276 |         if isinstance(obj, types.MethodType):\n",
      "11:25:00.99 2282 |     try:\n",
      "11:25:00.99 2283 |         sig = obj.__signature__\n",
      "11:25:00.99 .............. sig = <Signature (d, e, f)>\n",
      "11:25:00.99 2287 |         if sig is not None:\n",
      "11:25:00.99 2288 |             if not isinstance(sig, Signature):\n",
      "11:25:00.99 2292 |             return sig\n",
      "11:25:00.99 <<< Return value from _signature_from_callable: <Signature (d, e, f)>\n"
     ]
    }
   ],
   "source": [
    "fdb.snoop()"
   ]
  },
  {
   "cell_type": "code",
   "execution_count": null,
   "id": "ba9028c3",
   "metadata": {},
   "outputs": [
    {
     "name": "stdout",
     "output_type": "stream",
     "text": [
      "=================================================     Investigating \u001b[91;1m_signature_from_callable\u001b[0m     =================================================\n",
      "===============================================================     on line \u001b[91;1m36\u001b[0m     ===============================================================\n",
      "     with example \u001b[91;1m\n",
      "class BaseMeta(FixSigMeta): \n",
      "    # using __new__ of  FixSigMeta instead of type\n",
      "    def __call__(cls, *args, **kwargs): pass\n",
      "\n",
      "class Foo_call_fix(metaclass=BaseMeta): # Base\n",
      "    def __init__(self, d, e, f): pass\n",
      "\n",
      "inspect._signature_from_callable(Foo_call_fix, sigcls=inspect.Signature)    \n",
      "\u001b[0m     \n",
      "\n",
      "            return _get_signature_of(obj)                                                                                                               (34)\n",
      "                                                                                                                                                        (35)\n",
      "    try:================================================================================================================================================(36)\n",
      "                                                                                   \u001b[91;1mcheck obj.__signature__ is executed before __call__, __new__, and __init__\u001b[0m\n",
      "        sig = obj.__signature__                                                                                                                         (37)\n",
      "    except AttributeError:                                                                                                                              (38)\n",
      "<Signature (d, e, f)>\n",
      "\n",
      "\u001b[93;1mReview srcode with all comments added so far\u001b[0m======================================================================================================\n",
      "            # See test_signature_wrapped_bound_method for details.========================(33)      \n",
      "            return _get_signature_of(obj)=================================================(34)      \n",
      "                                                                                                                                                        (35)\n",
      "    try:==================================================================================(36) # spot 10: \u001b[34;1mcheck obj.__signature__ is executed before __call__, __new__, and __init__\u001b[0m\n",
      "        sig = obj.__signature__===========================================================(37) # spot 7: \u001b[34;1mEvery obj must be checked with __signature__, if it has the attr, then use it as sig\u001b[0m\n",
      "    except AttributeError:================================================================(38)      \n",
      "        pass==============================================================================(39)      \n",
      "    else:=================================================================================(40)      \n",
      "        if sig is not None:===============================================================(41)      \n",
      "            if not isinstance(sig, Signature):============================================(42)      \n",
      "                raise TypeError(==========================================================(43)      \n",
      "                    'unexpected object {!r} in __signature__ '============================(44)      \n",
      "                    'attribute'.format(sig))==============================================(45)      \n",
      "            return sig====================================================================(46)      \n",
      "                                                                                                                                                        (47)\n",
      "    try:==================================================================================(48)      \n",
      "        partialmethod = obj._partialmethod================================================(49)      \n",
      "    except AttributeError:================================================================(50)      \n",
      "        pass==============================================================================(51)      \n",
      "    else:=================================================================================(52)      \n",
      "        if isinstance(partialmethod, functools.partialmethod):============================(53)      \n",
      "            # Unbound partialmethod (see functools.partialmethod)=========================(54)      \n",
      "            # This means, that we need to calculate the signature=========================(55)      \n",
      "            # as if it's a regular partial object, but taking into========================(56)      \n",
      "            # account that the first positional argument==================================(57)      \n",
      "            # (usually `self`, or `cls`) will not be passed===============================(58)      \n",
      "            # automatically (as for boundmethods)=========================================(59)      \n",
      "                                                                                                                                                        (60)\n",
      "            wrapped_sig = _get_signature_of(partialmethod.func)===========================(61)      \n",
      "                                                                                                                                                        (62)\n",
      "            sig = _signature_get_partial(wrapped_sig, partialmethod, (None,))=============(63)      \n",
      "            first_wrapped_param = tuple(wrapped_sig.parameters.values())[0]===============(64)      \n",
      "            if first_wrapped_param.kind is Parameter.VAR_POSITIONAL:======================(65)      \n",
      "                                                                                                                                     part No.2 out of 6 parts\n",
      "\n"
     ]
    },
    {
     "data": {
      "text/plain": [
       "<function inspect._signature_from_callable(obj, *, follow_wrapper_chains=True, skip_bound_arg=True, sigcls)>"
      ]
     },
     "execution_count": null,
     "metadata": {},
     "output_type": "execute_result"
    }
   ],
   "source": [
    "fdb.dbprint(36, \"check obj.__signature__ is executed before __call__, __new__, and __init__\")"
   ]
  },
  {
   "cell_type": "markdown",
   "id": "062da423",
   "metadata": {},
   "source": [
    "## Explore and documenting FixSigMeta"
   ]
  },
  {
   "cell_type": "code",
   "execution_count": null,
   "id": "faf53707",
   "metadata": {},
   "outputs": [],
   "source": [
    "# I have to import it seperately, as from fastcore.meta import * won't give me this func, and FixSigMeta needs it\n",
    "from fastcore.meta import _rm_self "
   ]
  },
  {
   "cell_type": "code",
   "execution_count": null,
   "id": "6e1e082d",
   "metadata": {},
   "outputs": [],
   "source": [
    "fdbF = Fastdb(FixSigMeta, _rm_self=_rm_self)"
   ]
  },
  {
   "cell_type": "code",
   "execution_count": null,
   "id": "79cf78cc",
   "metadata": {},
   "outputs": [
    {
     "name": "stdout",
     "output_type": "stream",
     "text": [
      "========================================================     Investigating \u001b[91;1mFixSigMeta\u001b[0m     ========================================================\n",
      "==============================================================     on line \u001b[91;1mNone\u001b[0m     ==============================================================\n",
      "===========================================================     with example \u001b[91;1mNone\u001b[0m     ============================================================\n",
      "\n",
      "class FixSigMeta(type):===================================================================(0)       \n",
      "    \"A metaclass that fixes the signature on classes that override `__new__`\"=============(1)       \n",
      "    def __new__(cls, name, bases, dict):==================================================(2)       \n",
      "        res = super().__new__(cls, name, bases, dict)=====================================(3)       \n",
      "        if res.__init__ is not object.__init__: res.__signature__ = _rm_self(inspect.signature(res.__init__))                                           (4)\n",
      "        return res========================================================================(5)       \n",
      "                                                                                                                                                        (6)\n"
     ]
    }
   ],
   "source": [
    "fdbF.print()"
   ]
  },
  {
   "cell_type": "code",
   "execution_count": null,
   "id": "c914809d",
   "metadata": {},
   "outputs": [],
   "source": [
    "example = \"\"\"\n",
    "class BaseMeta(FixSigMeta): \n",
    "    # using __new__ of  FixSigMeta instead of type\n",
    "    def __call__(cls, *args, **kwargs): pass\n",
    "\n",
    "class Foo_call_fix(metaclass=BaseMeta): # Base\n",
    "    def __init__(self, d, e, f): pass\n",
    "\n",
    "pprint(inspect.signature(Foo_call_fix))\n",
    "\"\"\""
   ]
  },
  {
   "cell_type": "code",
   "execution_count": null,
   "id": "f254cfac",
   "metadata": {},
   "outputs": [],
   "source": [
    "# from pprint import pprint"
   ]
  },
  {
   "cell_type": "code",
   "execution_count": null,
   "id": "f51965b7",
   "metadata": {},
   "outputs": [
    {
     "ename": "NameError",
     "evalue": "name 'pprint' is not defined",
     "output_type": "error",
     "traceback": [
      "\u001b[0;31m---------------------------------------------------------------------------\u001b[0m",
      "\u001b[0;31mNameError\u001b[0m                                 Traceback (most recent call last)",
      "Input \u001b[0;32mIn [48]\u001b[0m, in \u001b[0;36m<cell line: 2>\u001b[0;34m()\u001b[0m\n\u001b[1;32m      1\u001b[0m \u001b[38;5;66;03m# fdbF.takExample(example, inspect=inspect, fastcore=fastcore, pprint=pprint)\u001b[39;00m\n\u001b[0;32m----> 2\u001b[0m fdbF\u001b[38;5;241m.\u001b[39mtakExample(example, inspect\u001b[38;5;241m=\u001b[39minspect, pprint\u001b[38;5;241m=\u001b[39m\u001b[43mpprint\u001b[49m)\n",
      "\u001b[0;31mNameError\u001b[0m: name 'pprint' is not defined"
     ]
    }
   ],
   "source": [
    "# fdbF.takExample(example, inspect=inspect, fastcore=fastcore, pprint=pprint)\n",
    "# fdbF.takExample(example, inspect=inspect, pprint=pprint)\n",
    "fdbF.takExample(example, inspect=inspect)"
   ]
  },
  {
   "cell_type": "code",
   "execution_count": null,
   "id": "484f626e",
   "metadata": {},
   "outputs": [],
   "source": [
    "fdbF.egEnv"
   ]
  },
  {
   "cell_type": "code",
   "execution_count": null,
   "id": "d5fb9087",
   "metadata": {},
   "outputs": [],
   "source": [
    "fdbF.snoop()"
   ]
  },
  {
   "cell_type": "code",
   "execution_count": null,
   "id": "5203a000",
   "metadata": {},
   "outputs": [],
   "source": [
    "fdbF.print()"
   ]
  },
  {
   "cell_type": "code",
   "execution_count": null,
   "id": "30693e59",
   "metadata": {},
   "outputs": [],
   "source": [
    "fsm = fdbF.dbprint(5, \"what is res\", \"res\",  \"inspect.signature(res.__init__)\", \\\n",
    "                   \"_rm_self(inspect.signature(res.__init__))\", \"res.__signature__\", showdbsrc=False)"
   ]
  },
  {
   "cell_type": "code",
   "execution_count": null,
   "id": "26b8c5ed",
   "metadata": {},
   "outputs": [],
   "source": []
  },
  {
   "cell_type": "code",
   "execution_count": null,
   "id": "402fb773",
   "metadata": {},
   "outputs": [],
   "source": []
  }
 ],
 "metadata": {
  "kernelspec": {
   "display_name": "Python 3 (ipykernel)",
   "language": "python",
   "name": "python3"
  }
 },
 "nbformat": 4,
 "nbformat_minor": 5
}
