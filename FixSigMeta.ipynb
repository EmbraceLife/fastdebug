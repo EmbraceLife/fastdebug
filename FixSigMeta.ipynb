{
 "cells": [
  {
   "cell_type": "markdown",
   "id": "8a732f12-706d-4084-858b-25ab75931b76",
   "metadata": {},
   "source": [
    "# FixSigMeta"
   ]
  },
  {
   "cell_type": "markdown",
   "id": "a37282c9-6030-47a3-b273-fe073adad482",
   "metadata": {},
   "source": [
    "## Imports"
   ]
  },
  {
   "cell_type": "code",
   "execution_count": null,
   "id": "d105220e-7e7c-4c27-83b0-34030058a298",
   "metadata": {},
   "outputs": [],
   "source": [
    "from fastdebug.core import *"
   ]
  },
  {
   "cell_type": "markdown",
   "id": "c31b6af9-386b-4c9f-a906-c1d6ea923961",
   "metadata": {},
   "source": [
    "### print comments with idx"
   ]
  },
  {
   "cell_type": "code",
   "execution_count": null,
   "id": "43b48d8a-c910-4a0e-8bdd-54c3e874d1bd",
   "metadata": {},
   "outputs": [
    {
     "data": {
      "text/plain": [
       "{1: 'b'}"
      ]
     },
     "execution_count": null,
     "metadata": {},
     "output_type": "execute_result"
    }
   ],
   "source": [
    "a = {}\n",
    "a.update({1: \"b\"})\n",
    "a"
   ]
  },
  {
   "cell_type": "markdown",
   "id": "204a61ee-0d79-473a-97ea-cc0dc4fabba7",
   "metadata": {},
   "source": [
    "### collect cmt from dbprint and print"
   ]
  },
  {
   "cell_type": "code",
   "execution_count": null,
   "id": "dee5d4c1-1f81-4201-af2e-d1c314ee3651",
   "metadata": {},
   "outputs": [],
   "source": [
    "\n",
    "class Fastdb():\n",
    "    \n",
    "    def __init__(self, \n",
    "                 src, # name of src code\n",
    "                 env): # env = g, as g = globals()\n",
    "        self.orisrc = src\n",
    "        self.margin = 157\n",
    "        self.outenv = env\n",
    "        self.cmts = {}\n",
    "\n",
    "        \n",
    "    def dbprint(self, \n",
    "                # src, # the src func name, e.g., foo\n",
    "                dbcode, # the srclines under investigation, can be either string or int\n",
    "                cmt:str, # comment\n",
    "                *codes, # a list of dbcodes\n",
    "                expand:int=2): # span 2 lines of srcode up and down from the srcline investigated\n",
    "        \"Insert dbcodes under srclines under investigation, and create a new dbsrc function to replace the official one\"\n",
    "\n",
    "        src = self.orisrc\n",
    "        if type(dbcode) == int: self.cmts.update({dbcode: cmt})\n",
    "\n",
    "        printsrc(src, dbcode, cmt, expand)\n",
    "\n",
    "        dbsrc = \"\"\n",
    "        indent = 4\n",
    "        onedbprint = False\n",
    "\n",
    "        lst = inspect.getsource(src).split('\\n')\n",
    "        if not bool(lst[-1]): lst = lst[:-1]\n",
    "\n",
    "        srclines = \"\"\n",
    "        if type(dbcode) == int:\n",
    "            srclines = lst[dbcode]\n",
    "        else:\n",
    "            srclines = dbcode\n",
    "\n",
    "        for idx, l in zip(range(len(lst)), lst):\n",
    "            if bool(l.strip()) and l.strip() in srclines:\n",
    "\n",
    "                numindent = len(l) - len(l.strip())\n",
    "                dbcodes = \"dbprintinsert(\"\n",
    "                count = 1\n",
    "                for c in codes:\n",
    "                    if count == len(codes):\n",
    "                        dbcodes = dbcodes + '\"' + c + '\"' + \",\" + \"env=g\" + \")\"\n",
    "                    else:\n",
    "                        dbcodes = dbcodes + '\"' + c + '\"' + \",\"\n",
    "                    count = count + 1\n",
    "\n",
    "                if onedbprint == False:\n",
    "                    dbsrc = dbsrc + \" \"*numindent + \"g = locals()\" + '\\n'\n",
    "                    dbsrc = dbsrc + \" \"*numindent + dbcodes + '\\n'\n",
    "                    dbsrc = dbsrc + l + '\\n'\n",
    "                    onedbprint = True\n",
    "                else:\n",
    "                    dbsrc = dbsrc + l + '\\n'\n",
    "\n",
    "            elif bool(l.strip()) and idx + 1 == len(lst):\n",
    "                dbsrc = dbsrc + l\n",
    "\n",
    "            elif bool(l.strip()): # make sure pure indentation + \\n is ignored\n",
    "                dbsrc = dbsrc + l + '\\n'\n",
    "\n",
    "        exec(dbsrc, globals().update(self.outenv)) # make sure b can access lst from above\n",
    "\n",
    "        self.outenv.update(locals())\n",
    "\n",
    "        return locals()[self.orisrc.__name__]\n",
    "    \n",
    "    \n",
    "    def printsrcwithidx(self, \n",
    "                        maxlines:int=33, # maximum num of lines per page\n",
    "                        part:int=0): # if the src is more than 33 lines, then divide the src by 33 into a few parts\n",
    "        totallen = 157\n",
    "        lenidx = 5\n",
    "        lspace = 10\n",
    "        lstsrc = inspect.getsource(self.orisrc).split('\\n')\n",
    "        numparts = len(lstsrc) // 33 + 1 if len(lstsrc) % 33 != 0 else len(lstsrc) // 33\n",
    "        # cmts = {5:\"this is me\", 111:\"this is me\", 14:\"this is you this is you this is you this is you this is you this is you this is you this is you \"}\n",
    "        cmts = self.cmts\n",
    "        if part == 0: \n",
    "            for idx, l in zip(range(len(lstsrc)), lstsrc):\n",
    "                lenl = len(l)\n",
    "                \n",
    "                if not bool(l.strip()):\n",
    "                    print(l + \" \"*(totallen-lenl-lenidx) + \"(\" + str(idx) + \")\")\n",
    "                    \n",
    "                elif lenl + lspace >= 100:\n",
    "                    if bool(cmts):\n",
    "                        cmtidx = [cmt[0] for cmt in list(cmts.items())]\n",
    "                        if idx in cmtidx:\n",
    "                            print(l + \" # \" + cmts[idx] + \" \"*(totallen-lenl-lenidx-len(cmts[idx])-3) + \"(\" + str(idx) + \")\")\n",
    "                        else:\n",
    "                            print(l + \" \"*(totallen-lenl-lenidx) + \"(\" + str(idx) + \")\")\n",
    "                    else: \n",
    "                        print(l + \" \"*(totallen-lenl-lenidx) + \"(\" + str(idx) + \")\")\n",
    "                        \n",
    "                else:\n",
    "\n",
    "\n",
    "                    if bool(cmts):\n",
    "                        cmtidx = [cmt[0] for cmt in list(cmts.items())]\n",
    "                        if idx in cmtidx:\n",
    "                            print('{:<100}'.format(l + \"=\"*(100-lenl-lspace) + f\"({idx})\" + \" # \" + cmts[idx]))\n",
    "                        else:\n",
    "                            print('{:<100}'.format(l + \"=\"*(100-lenl-lspace) + f\"({idx})\"))                                                      \n",
    "\n",
    "                    else:\n",
    "                        print('{:<100}'.format(l + \"=\"*(100-lenl-lspace) + f\"({idx})\"))                 \n",
    "        \n",
    "        for p in range(numparts):\n",
    "            for idx, l in zip(range(len(lstsrc)), lstsrc):\n",
    "\n",
    "                if (maxlines*p <= idx < maxlines*(p+1) and p+1 == part):\n",
    "                    lenl = len(l)\n",
    "                    if not bool(l.strip()):\n",
    "                        print(l + \" \"*(totallen-lenl-lenidx) + \"(\" + str(idx) + \")\")\n",
    "                    elif lenl + lspace >= 100:\n",
    "                        if bool(cmts):\n",
    "                            cmtidx = [cmt[0] for cmt in list(cmts.items())]\n",
    "                            if idx in cmtidx:\n",
    "                                print(l + \" # \" + cmts[idx] + \" \"*(totallen-lenl-lenidx-len(cmts[idx])-3) + \"(\" + str(idx) + \")\")\n",
    "                            else:\n",
    "                                print(l + \" \"*(totallen-lenl-lenidx) + \"(\" + str(idx) + \")\")\n",
    "                        else: \n",
    "                            print(l + \" \"*(totallen-lenl-lenidx) + \"(\" + str(idx) + \")\")\n",
    "\n",
    "\n",
    "                    else:\n",
    "\n",
    "                        if bool(cmts):\n",
    "                            cmtidx = [cmt[0] for cmt in list(cmts.items())]\n",
    "                            if idx in cmtidx:\n",
    "                                print('{:<100}'.format(l + \"=\"*(100-lenl-lspace) + f\"({idx})\" + \" # \" + cmts[idx]))\n",
    "                            else:\n",
    "                                print('{:<100}'.format(l + \"=\"*(100-lenl-lspace) + f\"({idx})\"))                                                          \n",
    "                            \n",
    "                        else:\n",
    "                            print('{:<100}'.format(l + \"=\"*(100-lenl-lspace) + f\"({idx})\"))                      \n",
    "\n",
    "                if (idx == maxlines*(p+1) or idx == len(lstsrc) - 1) and p+1 == part:\n",
    "                    print('{:>157}'.format(f\"part No.{p+1} out of {numparts} parts\"))\n",
    "                    return"
   ]
  },
  {
   "cell_type": "code",
   "execution_count": null,
   "id": "682d5c4f-41d3-41f7-915d-96b2d36715e7",
   "metadata": {},
   "outputs": [
    {
     "data": {
      "text/plain": [
       "'cd'"
      ]
     },
     "execution_count": null,
     "metadata": {},
     "output_type": "execute_result"
    }
   ],
   "source": [
    "{1:'ab', 2:'cd'}[2]"
   ]
  },
  {
   "cell_type": "code",
   "execution_count": null,
   "id": "583e0dad-c6a0-4643-ac85-85b04dff1a0b",
   "metadata": {},
   "outputs": [
    {
     "data": {
      "text/plain": [
       "[(1, 'ab'), (2, 'cd')]"
      ]
     },
     "execution_count": null,
     "metadata": {},
     "output_type": "execute_result"
    }
   ],
   "source": [
    "list({1:'ab', 2:'cd'}.items())"
   ]
  },
  {
   "cell_type": "code",
   "execution_count": null,
   "id": "4aa5804b-8e50-42ba-9007-7949fab3b4ec",
   "metadata": {},
   "outputs": [],
   "source": [
    "import inspect\n",
    "from inspect import *\n",
    "from inspect import _signature_from_callable\n",
    "from inspect import _signature_is_functionlike, _signature_is_builtin, _signature_get_user_defined_method, _signature_from_function, _signature_bound_method"
   ]
  },
  {
   "cell_type": "code",
   "execution_count": null,
   "id": "7a1fc6de-4042-4423-9004-e7c2368b819e",
   "metadata": {},
   "outputs": [],
   "source": [
    "from inspect import _signature_from_callable"
   ]
  },
  {
   "cell_type": "code",
   "execution_count": null,
   "id": "8df39492-a712-4985-9bbb-34aea9a2b4dd",
   "metadata": {},
   "outputs": [],
   "source": [
    "_signature_from_callableNew = _signature_from_callable"
   ]
  },
  {
   "cell_type": "code",
   "execution_count": null,
   "id": "6a60d38c-f02d-41ef-9082-c3ed225e2d37",
   "metadata": {},
   "outputs": [],
   "source": [
    "def _signature_from_callableOld(obj, *,\n",
    "                             follow_wrapper_chains=True,\n",
    "                             skip_bound_arg=True,\n",
    "                             sigcls):\n",
    "\n",
    "    \"\"\"Private helper function to get signature for arbitrary\n",
    "    callable objects.\n",
    "    \"\"\"\n",
    "\n",
    "    if not callable(obj):\n",
    "        raise TypeError('{!r} is not a callable object'.format(obj))\n",
    "\n",
    "    if isinstance(obj, types.MethodType):\n",
    "        # In this case we skip the first parameter of the underlying\n",
    "        # function (usually `self` or `cls`).\n",
    "        sig = _signature_from_callable(\n",
    "            obj.__func__,\n",
    "            follow_wrapper_chains=follow_wrapper_chains,\n",
    "            skip_bound_arg=skip_bound_arg,\n",
    "            sigcls=sigcls)\n",
    "\n",
    "        if skip_bound_arg:\n",
    "            return _signature_bound_method(sig)\n",
    "        else:\n",
    "            return sig\n",
    "\n",
    "    # Was this function wrapped by a decorator?\n",
    "    if follow_wrapper_chains:\n",
    "        obj = unwrap(obj, stop=(lambda f: hasattr(f, \"__signature__\")))\n",
    "        if isinstance(obj, types.MethodType):\n",
    "            # If the unwrapped object is a *method*, we might want to\n",
    "            # skip its first parameter (self).\n",
    "            # See test_signature_wrapped_bound_method for details.\n",
    "            return _signature_from_callable(\n",
    "                obj,\n",
    "                follow_wrapper_chains=follow_wrapper_chains,\n",
    "                skip_bound_arg=skip_bound_arg,\n",
    "                sigcls=sigcls)\n",
    "\n",
    "    try:\n",
    "        sig = obj.__signature__\n",
    "    except AttributeError:\n",
    "        pass\n",
    "    else:\n",
    "        if sig is not None:\n",
    "            if not isinstance(sig, Signature):\n",
    "                raise TypeError(\n",
    "                    'unexpected object {!r} in __signature__ '\n",
    "                    'attribute'.format(sig))\n",
    "            return sig\n",
    "\n",
    "    try:\n",
    "        partialmethod = obj._partialmethod\n",
    "    except AttributeError:\n",
    "        pass\n",
    "    else:\n",
    "        if isinstance(partialmethod, functools.partialmethod):\n",
    "            # Unbound partialmethod (see functools.partialmethod)\n",
    "            # This means, that we need to calculate the signature\n",
    "            # as if it's a regular partial object, but taking into\n",
    "            # account that the first positional argument\n",
    "            # (usually `self`, or `cls`) will not be passed\n",
    "            # automatically (as for boundmethods)\n",
    "\n",
    "            wrapped_sig = _signature_from_callable(\n",
    "                partialmethod.func,\n",
    "                follow_wrapper_chains=follow_wrapper_chains,\n",
    "                skip_bound_arg=skip_bound_arg,\n",
    "                sigcls=sigcls)\n",
    "\n",
    "            sig = _signature_get_partial(wrapped_sig, partialmethod, (None,))\n",
    "            first_wrapped_param = tuple(wrapped_sig.parameters.values())[0]\n",
    "            if first_wrapped_param.kind is Parameter.VAR_POSITIONAL:\n",
    "                # First argument of the wrapped callable is `*args`, as in\n",
    "                # `partialmethod(lambda *args)`.\n",
    "                return sig\n",
    "            else:\n",
    "                sig_params = tuple(sig.parameters.values())\n",
    "                assert (not sig_params or\n",
    "                        first_wrapped_param is not sig_params[0])\n",
    "                new_params = (first_wrapped_param,) + sig_params\n",
    "                return sig.replace(parameters=new_params)\n",
    "\n",
    "    if isfunction(obj) or _signature_is_functionlike(obj):\n",
    "        # If it's a pure Python function, or an object that is duck type\n",
    "        # of a Python function (Cython functions, for instance), then:\n",
    "        return _signature_from_function(sigcls, obj)\n",
    "\n",
    "    if _signature_is_builtin(obj):\n",
    "        return _signature_from_builtin(sigcls, obj,\n",
    "                                       skip_bound_arg=skip_bound_arg)\n",
    "\n",
    "    if isinstance(obj, functools.partial):\n",
    "        wrapped_sig = _signature_from_callable(\n",
    "            obj.func,\n",
    "            follow_wrapper_chains=follow_wrapper_chains,\n",
    "            skip_bound_arg=skip_bound_arg,\n",
    "            sigcls=sigcls)\n",
    "        return _signature_get_partial(wrapped_sig, obj)\n",
    "\n",
    "    sig = None\n",
    "    if isinstance(obj, type):\n",
    "        # obj is a class or a metaclass\n",
    "\n",
    "        # First, let's see if it has an overloaded __call__ defined\n",
    "        # in its metaclass\n",
    "        call = _signature_get_user_defined_method(type(obj), '__call__')\n",
    "        if call is not None:\n",
    "            sig = _signature_from_callable(\n",
    "                call,\n",
    "                follow_wrapper_chains=follow_wrapper_chains,\n",
    "                skip_bound_arg=skip_bound_arg,\n",
    "                sigcls=sigcls)\n",
    "        else:\n",
    "            # Now we check if the 'obj' class has a '__new__' method\n",
    "            new = _signature_get_user_defined_method(obj, '__new__')\n",
    "            if new is not None:\n",
    "                sig = _signature_from_callable(\n",
    "                    new,\n",
    "                    follow_wrapper_chains=follow_wrapper_chains,\n",
    "                    skip_bound_arg=skip_bound_arg,\n",
    "                    sigcls=sigcls)\n",
    "            else:\n",
    "                # Finally, we should have at least __init__ implemented\n",
    "                init = _signature_get_user_defined_method(obj, '__init__')\n",
    "                if init is not None:\n",
    "                    sig = _signature_from_callable(\n",
    "                        init,\n",
    "                        follow_wrapper_chains=follow_wrapper_chains,\n",
    "                        skip_bound_arg=skip_bound_arg,\n",
    "                        sigcls=sigcls)\n",
    "\n",
    "        if sig is None:\n",
    "            # At this point we know, that `obj` is a class, with no user-\n",
    "            # defined '__init__', '__new__', or class-level '__call__'\n",
    "\n",
    "            for base in obj.__mro__[:-1]:\n",
    "                # Since '__text_signature__' is implemented as a\n",
    "                # descriptor that extracts text signature from the\n",
    "                # class docstring, if 'obj' is derived from a builtin\n",
    "                # class, its own '__text_signature__' may be 'None'.\n",
    "                # Therefore, we go through the MRO (except the last\n",
    "                # class in there, which is 'object') to find the first\n",
    "                # class with non-empty text signature.\n",
    "                try:\n",
    "                    text_sig = base.__text_signature__\n",
    "                except AttributeError:\n",
    "                    pass\n",
    "                else:\n",
    "                    if text_sig:\n",
    "                        # If 'obj' class has a __text_signature__ attribute:\n",
    "                        # return a signature based on it\n",
    "                        return _signature_fromstr(sigcls, obj, text_sig)\n",
    "\n",
    "            # No '__text_signature__' was found for the 'obj' class.\n",
    "            # Last option is to check if its '__init__' is\n",
    "            # object.__init__ or type.__init__.\n",
    "            if type not in obj.__mro__:\n",
    "                # We have a class (not metaclass), but no user-defined\n",
    "                # __init__ or __new__ for it\n",
    "                if (obj.__init__ is object.__init__ and\n",
    "                    obj.__new__ is object.__new__):\n",
    "                    # Return a signature of 'object' builtin.\n",
    "                    return sigcls.from_callable(object)\n",
    "                else:\n",
    "                    raise ValueError(\n",
    "                        'no signature found for builtin type {!r}'.format(obj))\n",
    "\n",
    "    elif not isinstance(obj, _NonUserDefinedCallables):\n",
    "        # An object with __call__\n",
    "        # We also check that the 'obj' is not an instance of\n",
    "        # _WrapperDescriptor or _MethodWrapper to avoid\n",
    "        # infinite recursion (and even potential segfault)\n",
    "        call = _signature_get_user_defined_method(type(obj), '__call__')\n",
    "        if call is not None:\n",
    "            try:\n",
    "                sig = _signature_from_callable(\n",
    "                    call,\n",
    "                    follow_wrapper_chains=follow_wrapper_chains,\n",
    "                    skip_bound_arg=skip_bound_arg,\n",
    "                    sigcls=sigcls)\n",
    "            except ValueError as ex:\n",
    "                msg = 'no signature found for {!r}'.format(obj)\n",
    "                raise ValueError(msg) from ex\n",
    "\n",
    "    if sig is not None:\n",
    "        # For classes and objects we skip the first parameter of their\n",
    "        # __call__, __new__, or __init__ methods\n",
    "        if skip_bound_arg:\n",
    "            return _signature_bound_method(sig)\n",
    "        else:\n",
    "            return sig\n",
    "\n",
    "    if isinstance(obj, types.BuiltinFunctionType):\n",
    "        # Raise a nicer error message for builtins\n",
    "        msg = 'no signature found for builtin function {!r}'.format(obj)\n",
    "        raise ValueError(msg)\n",
    "\n",
    "    raise ValueError('callable {!r} is not supported by signature'.format(obj))"
   ]
  },
  {
   "cell_type": "markdown",
   "id": "463e1a33-b4a2-4b79-a9ab-5366f82e2a36",
   "metadata": {},
   "source": [
    "## When or why to use `FixSigMeta`?"
   ]
  },
  {
   "cell_type": "markdown",
   "id": "6a8c8aaa-a78c-434d-858f-f1e564774e6f",
   "metadata": {},
   "source": [
    "When we want a class to use signature of `__init__` to be its class signature. "
   ]
  },
  {
   "cell_type": "code",
   "execution_count": null,
   "id": "237b59fa-a558-45dc-8e6d-3dc7eb2c4b2a",
   "metadata": {},
   "outputs": [],
   "source": [
    "import inspect"
   ]
  },
  {
   "cell_type": "code",
   "execution_count": null,
   "id": "4c0f9c62-2899-403b-ad95-a177d23764cc",
   "metadata": {},
   "outputs": [
    {
     "data": {
      "text/plain": [
       "<Signature (a, b, c)>"
      ]
     },
     "execution_count": null,
     "metadata": {},
     "output_type": "execute_result"
    }
   ],
   "source": [
    "class Foo:\n",
    "    def __init__(self, a, b, c): pass\n",
    "    \n",
    "inspect.signature(Foo)"
   ]
  },
  {
   "cell_type": "markdown",
   "id": "04e81f94-42f7-418a-a9eb-880a185cfaef",
   "metadata": {},
   "source": [
    "## How Foo borrow sig from `__init__`"
   ]
  },
  {
   "cell_type": "code",
   "execution_count": null,
   "id": "54fef17a-37bb-4027-a77d-7d3c6324ba3a",
   "metadata": {},
   "outputs": [],
   "source": [
    "g = globals()\n",
    "sig = Fastdb(_signature_from_callable, g)"
   ]
  },
  {
   "cell_type": "code",
   "execution_count": null,
   "id": "f4d86537-0d00-49b1-acaa-58a15d602694",
   "metadata": {},
   "outputs": [
    {
     "name": "stdout",
     "output_type": "stream",
     "text": [
      "def _signature_from_callable(obj, *,======================================================(0)       \n",
      "                             follow_wrapper_chains=True,==================================(1)       \n",
      "                             skip_bound_arg=True,=========================================(2)       \n",
      "                             sigcls):=====================================================(3)       \n",
      "                                                                                                                                                        (4)\n",
      "    \"\"\"Private helper function to get signature for arbitrary=============================(5)       \n",
      "    callable objects.=====================================================================(6)       \n",
      "    \"\"\"===================================================================================(7)       \n",
      "                                                                                                                                                        (8)\n",
      "    _get_signature_of = functools.partial(_signature_from_callable,=======================(9)       \n",
      "                                follow_wrapper_chains=follow_wrapper_chains,==============(10)      \n",
      "                                skip_bound_arg=skip_bound_arg,============================(11)      \n",
      "                                sigcls=sigcls)============================================(12)      \n",
      "                                                                                                                                                        (13)\n",
      "    if not callable(obj):=================================================================(14)      \n",
      "        raise TypeError('{!r} is not a callable object'.format(obj))======================(15)      \n",
      "                                                                                                                                                        (16)\n",
      "    if isinstance(obj, types.MethodType):=================================================(17)      \n",
      "        # In this case we skip the first parameter of the underlying======================(18)      \n",
      "        # function (usually `self` or `cls`).=============================================(19)      \n",
      "        sig = _get_signature_of(obj.__func__)=============================================(20)      \n",
      "                                                                                                                                                        (21)\n",
      "        if skip_bound_arg:================================================================(22)      \n",
      "            return _signature_bound_method(sig)===========================================(23)      \n",
      "        else:=============================================================================(24)      \n",
      "            return sig====================================================================(25)      \n",
      "                                                                                                                                                        (26)\n",
      "    # Was this function wrapped by a decorator?===========================================(27)      \n",
      "    if follow_wrapper_chains:=============================================================(28)      \n",
      "        obj = unwrap(obj, stop=(lambda f: hasattr(f, \"__signature__\")))===================(29)      \n",
      "        if isinstance(obj, types.MethodType):=============================================(30)      \n",
      "            # If the unwrapped object is a *method*, we might want to=====================(31)      \n",
      "            # skip its first parameter (self).============================================(32)      \n",
      "                                                                                                                                     part No.1 out of 6 parts\n"
     ]
    }
   ],
   "source": [
    "sig.printsrcwithidx(part=1) # the conditions and comments are well informed"
   ]
  },
  {
   "cell_type": "code",
   "execution_count": null,
   "id": "859f5f73-b72d-4367-b4db-41af83e8ed49",
   "metadata": {},
   "outputs": [
    {
     "name": "stdout",
     "output_type": "stream",
     "text": [
      "        else:=============================================================================(99)      \n",
      "            factory_method = None=========================================================(100)     \n",
      "            new = _signature_get_user_defined_method(obj, '__new__')======================(101)     \n",
      "            init = _signature_get_user_defined_method(obj, '__init__')====================(102)     \n",
      "            # Now we check if the 'obj' class has an own '__new__' method=================(103)     \n",
      "            if '__new__' in obj.__dict__:=================================================(104)     \n",
      "                factory_method = new======================================================(105)     \n",
      "            # or an own '__init__' method=================================================(106)     \n",
      "            elif '__init__' in obj.__dict__:==============================================(107)     \n",
      "                factory_method = init=====================================================(108)     \n",
      "            # If not, we take inherited '__new__' or '__init__', if present===============(109)     \n",
      "            elif new is not None:=========================================================(110)     \n",
      "                factory_method = new======================================================(111)     \n",
      "            elif init is not None:========================================================(112)     \n",
      "                factory_method = init=====================================================(113)     \n",
      "                                                                                                                                                        (114)\n",
      "            if factory_method is not None:================================================(115)     \n",
      "                sig = _get_signature_of(factory_method)===================================(116)     \n",
      "                                                                                                                                                        (117)\n",
      "        if sig is None:===================================================================(118)     \n",
      "            # At this point we know, that `obj` is a class, with no user-=================(119)     \n",
      "            # defined '__init__', '__new__', or class-level '__call__'====================(120)     \n",
      "                                                                                                                                                        (121)\n",
      "            for base in obj.__mro__[:-1]:=================================================(122)     \n",
      "                # Since '__text_signature__' is implemented as a==========================(123)     \n",
      "                # descriptor that extracts text signature from the========================(124)     \n",
      "                # class docstring, if 'obj' is derived from a builtin=====================(125)     \n",
      "                # class, its own '__text_signature__' may be 'None'.======================(126)     \n",
      "                # Therefore, we go through the MRO (except the last=======================(127)     \n",
      "                # class in there, which is 'object') to find the first====================(128)     \n",
      "                # class with non-empty text signature.====================================(129)     \n",
      "                try:======================================================================(130)     \n",
      "                    text_sig = base.__text_signature__====================================(131)     \n",
      "                                                                                                                                     part No.4 out of 6 parts\n"
     ]
    }
   ],
   "source": [
    "sig.printsrcwithidx(part=4) # the conditions and comments are well informed"
   ]
  },
  {
   "cell_type": "code",
   "execution_count": null,
   "id": "a448cf56-a2b3-4093-aeaf-eb0b35f153bd",
   "metadata": {},
   "outputs": [
    {
     "name": "stdout",
     "output_type": "stream",
     "text": [
      "    if not callable(obj):                                                                                                                               (14)\n",
      "        raise TypeError('{!r} is not a callable object'.format(obj))====================================================================================(15)\n",
      "                                                                                                                        \u001b[91mjust read the first line and comments\u001b[0m\n",
      "                                                                                                                                                        (16)\n"
     ]
    },
    {
     "data": {
      "text/plain": [
       "<function __main__._signature_from_callable(obj, *, follow_wrapper_chains=True, skip_bound_arg=True, sigcls)>"
      ]
     },
     "execution_count": null,
     "metadata": {},
     "output_type": "execute_result"
    }
   ],
   "source": [
    "sig.dbprint(15, \"just read the first line and comments\", \"\", expand=1)"
   ]
  },
  {
   "cell_type": "code",
   "execution_count": null,
   "id": "b8022b44-aabe-4110-b722-d8ab9d0f5562",
   "metadata": {},
   "outputs": [
    {
     "name": "stdout",
     "output_type": "stream",
     "text": [
      "def _signature_from_callable(obj, *,======================================================(0)       \n",
      "                             follow_wrapper_chains=True,==================================(1)       \n",
      "                             skip_bound_arg=True,=========================================(2)       \n",
      "                             sigcls):=====================================================(3)       \n",
      "                                                                                                                                                        (4)\n",
      "    \"\"\"Private helper function to get signature for arbitrary=============================(5)       \n",
      "    callable objects.=====================================================================(6)       \n",
      "    \"\"\"===================================================================================(7)       \n",
      "                                                                                                                                                        (8)\n",
      "    _get_signature_of = functools.partial(_signature_from_callable,=======================(9)       \n",
      "                                follow_wrapper_chains=follow_wrapper_chains,==============(10)      \n",
      "                                skip_bound_arg=skip_bound_arg,============================(11)      \n",
      "                                sigcls=sigcls)============================================(12)      \n",
      "                                                                                                                                                        (13)\n",
      "    if not callable(obj):=================================================================(14)      \n",
      "        raise TypeError('{!r} is not a callable object'.format(obj))======================(15) # just read the first line and comments\n",
      "                                                                                                                                                        (16)\n",
      "    if isinstance(obj, types.MethodType):=================================================(17)      \n",
      "        # In this case we skip the first parameter of the underlying======================(18)      \n",
      "        # function (usually `self` or `cls`).=============================================(19)      \n",
      "        sig = _get_signature_of(obj.__func__)=============================================(20)      \n",
      "                                                                                                                                                        (21)\n",
      "        if skip_bound_arg:================================================================(22)      \n",
      "            return _signature_bound_method(sig)===========================================(23)      \n",
      "        else:=============================================================================(24)      \n",
      "            return sig====================================================================(25)      \n",
      "                                                                                                                                                        (26)\n",
      "    # Was this function wrapped by a decorator?===========================================(27)      \n",
      "    if follow_wrapper_chains:=============================================================(28)      \n",
      "        obj = unwrap(obj, stop=(lambda f: hasattr(f, \"__signature__\")))===================(29)      \n",
      "        if isinstance(obj, types.MethodType):=============================================(30)      \n",
      "            # If the unwrapped object is a *method*, we might want to=====================(31)      \n",
      "            # skip its first parameter (self).============================================(32)      \n",
      "                                                                                                                                     part No.1 out of 6 parts\n"
     ]
    }
   ],
   "source": [
    "sig.printsrcwithidx(part=1) # the conditions and comments are well informed"
   ]
  },
  {
   "cell_type": "code",
   "execution_count": null,
   "id": "de249669-f122-4c62-9ea6-86c8674370e5",
   "metadata": {},
   "outputs": [
    {
     "name": "stdout",
     "output_type": "stream",
     "text": [
      "                # First argument of the wrapped callable is `*args`, as in================(66)      \n",
      "                # `partialmethod(lambda *args)`.==========================================(67)      \n",
      "                return sig================================================================(68)      \n",
      "            else:=========================================================================(69)      \n",
      "                sig_params = tuple(sig.parameters.values())===============================(70)      \n",
      "                assert (not sig_params or=================================================(71)      \n",
      "                        first_wrapped_param is not sig_params[0])=========================(72)      \n",
      "                new_params = (first_wrapped_param,) + sig_params==========================(73)      \n",
      "                return sig.replace(parameters=new_params)=================================(74)      \n",
      "                                                                                                                                                        (75)\n",
      "    if isfunction(obj) or _signature_is_functionlike(obj):================================(76)      \n",
      "        # If it's a pure Python function, or an object that is duck type==================(77)      \n",
      "        # of a Python function (Cython functions, for instance), then:====================(78)      \n",
      "        return _signature_from_function(sigcls, obj,======================================(79)      \n",
      "                                        skip_bound_arg=skip_bound_arg)====================(80)      \n",
      "                                                                                                                                                        (81)\n",
      "    if _signature_is_builtin(obj):========================================================(82)      \n",
      "        return _signature_from_builtin(sigcls, obj,=======================================(83)      \n",
      "                                       skip_bound_arg=skip_bound_arg)=====================(84)      \n",
      "                                                                                                                                                        (85)\n",
      "    if isinstance(obj, functools.partial):================================================(86)      \n",
      "        wrapped_sig = _get_signature_of(obj.func)=========================================(87)      \n",
      "        return _signature_get_partial(wrapped_sig, obj)===================================(88)      \n",
      "                                                                                                                                                        (89)\n",
      "    sig = None============================================================================(90)      \n",
      "    if isinstance(obj, type):=============================================================(91)      \n",
      "        # obj is a class or a metaclass===================================================(92)      \n",
      "                                                                                                                                                        (93)\n",
      "        # First, let's see if it has an overloaded __call__ defined=======================(94)      \n",
      "        # in its metaclass================================================================(95)      \n",
      "        call = _signature_get_user_defined_method(type(obj), '__call__')==================(96)      \n",
      "        if call is not None:==============================================================(97)      \n",
      "            sig = _get_signature_of(call)=================================================(98)      \n",
      "                                                                                                                                     part No.3 out of 6 parts\n"
     ]
    }
   ],
   "source": [
    "sig.printsrcwithidx(part=3) # the conditions and comments are well informed"
   ]
  },
  {
   "cell_type": "code",
   "execution_count": null,
   "id": "6da44d76-ce20-4cfb-bb56-0c4af11fe37d",
   "metadata": {},
   "outputs": [
    {
     "data": {
      "text/plain": [
       "\u001b[0;31mSignature:\u001b[0m \u001b[0msig\u001b[0m\u001b[0;34m.\u001b[0m\u001b[0mprintsrcwithidx\u001b[0m\u001b[0;34m(\u001b[0m\u001b[0mmaxlines\u001b[0m\u001b[0;34m:\u001b[0m \u001b[0mint\u001b[0m \u001b[0;34m=\u001b[0m \u001b[0;36m33\u001b[0m\u001b[0;34m,\u001b[0m \u001b[0mpart\u001b[0m\u001b[0;34m:\u001b[0m \u001b[0mint\u001b[0m \u001b[0;34m=\u001b[0m \u001b[0;36m0\u001b[0m\u001b[0;34m)\u001b[0m\u001b[0;34m\u001b[0m\u001b[0;34m\u001b[0m\u001b[0m\n",
       "\u001b[0;31mDocstring:\u001b[0m <no docstring>\n",
       "\u001b[0;31mSource:\u001b[0m   \n",
       "    \u001b[0;32mdef\u001b[0m \u001b[0mprintsrcwithidx\u001b[0m\u001b[0;34m(\u001b[0m\u001b[0mself\u001b[0m\u001b[0;34m,\u001b[0m \u001b[0;34m\u001b[0m\n",
       "\u001b[0;34m\u001b[0m                        \u001b[0mmaxlines\u001b[0m\u001b[0;34m:\u001b[0m\u001b[0mint\u001b[0m\u001b[0;34m=\u001b[0m\u001b[0;36m33\u001b[0m\u001b[0;34m,\u001b[0m \u001b[0;31m# maximum num of lines per page\u001b[0m\u001b[0;34m\u001b[0m\n",
       "\u001b[0;34m\u001b[0m                        \u001b[0mpart\u001b[0m\u001b[0;34m:\u001b[0m\u001b[0mint\u001b[0m\u001b[0;34m=\u001b[0m\u001b[0;36m0\u001b[0m\u001b[0;34m)\u001b[0m\u001b[0;34m:\u001b[0m \u001b[0;31m# if the src is more than 33 lines, then divide the src by 33 into a few parts\u001b[0m\u001b[0;34m\u001b[0m\n",
       "\u001b[0;34m\u001b[0m        \u001b[0mtotallen\u001b[0m \u001b[0;34m=\u001b[0m \u001b[0;36m157\u001b[0m\u001b[0;34m\u001b[0m\n",
       "\u001b[0;34m\u001b[0m        \u001b[0mlenidx\u001b[0m \u001b[0;34m=\u001b[0m \u001b[0;36m5\u001b[0m\u001b[0;34m\u001b[0m\n",
       "\u001b[0;34m\u001b[0m        \u001b[0mlspace\u001b[0m \u001b[0;34m=\u001b[0m \u001b[0;36m10\u001b[0m\u001b[0;34m\u001b[0m\n",
       "\u001b[0;34m\u001b[0m        \u001b[0mlstsrc\u001b[0m \u001b[0;34m=\u001b[0m \u001b[0minspect\u001b[0m\u001b[0;34m.\u001b[0m\u001b[0mgetsource\u001b[0m\u001b[0;34m(\u001b[0m\u001b[0mself\u001b[0m\u001b[0;34m.\u001b[0m\u001b[0morisrc\u001b[0m\u001b[0;34m)\u001b[0m\u001b[0;34m.\u001b[0m\u001b[0msplit\u001b[0m\u001b[0;34m(\u001b[0m\u001b[0;34m'\\n'\u001b[0m\u001b[0;34m)\u001b[0m\u001b[0;34m\u001b[0m\n",
       "\u001b[0;34m\u001b[0m        \u001b[0mnumparts\u001b[0m \u001b[0;34m=\u001b[0m \u001b[0mlen\u001b[0m\u001b[0;34m(\u001b[0m\u001b[0mlstsrc\u001b[0m\u001b[0;34m)\u001b[0m \u001b[0;34m//\u001b[0m \u001b[0;36m33\u001b[0m \u001b[0;34m+\u001b[0m \u001b[0;36m1\u001b[0m \u001b[0;32mif\u001b[0m \u001b[0mlen\u001b[0m\u001b[0;34m(\u001b[0m\u001b[0mlstsrc\u001b[0m\u001b[0;34m)\u001b[0m \u001b[0;34m%\u001b[0m \u001b[0;36m33\u001b[0m \u001b[0;34m!=\u001b[0m \u001b[0;36m0\u001b[0m \u001b[0;32melse\u001b[0m \u001b[0mlen\u001b[0m\u001b[0;34m(\u001b[0m\u001b[0mlstsrc\u001b[0m\u001b[0;34m)\u001b[0m \u001b[0;34m//\u001b[0m \u001b[0;36m33\u001b[0m\u001b[0;34m\u001b[0m\n",
       "\u001b[0;34m\u001b[0m        \u001b[0;31m# cmts = {5:\"this is me\", 111:\"this is me\", 14:\"this is you this is you this is you this is you this is you this is you this is you this is you \"}\u001b[0m\u001b[0;34m\u001b[0m\n",
       "\u001b[0;34m\u001b[0m        \u001b[0mcmts\u001b[0m \u001b[0;34m=\u001b[0m \u001b[0mself\u001b[0m\u001b[0;34m.\u001b[0m\u001b[0mcmts\u001b[0m\u001b[0;34m\u001b[0m\n",
       "\u001b[0;34m\u001b[0m        \u001b[0;32mif\u001b[0m \u001b[0mpart\u001b[0m \u001b[0;34m==\u001b[0m \u001b[0;36m0\u001b[0m\u001b[0;34m:\u001b[0m \u001b[0;34m\u001b[0m\n",
       "\u001b[0;34m\u001b[0m            \u001b[0;32mfor\u001b[0m \u001b[0midx\u001b[0m\u001b[0;34m,\u001b[0m \u001b[0ml\u001b[0m \u001b[0;32min\u001b[0m \u001b[0mzip\u001b[0m\u001b[0;34m(\u001b[0m\u001b[0mrange\u001b[0m\u001b[0;34m(\u001b[0m\u001b[0mlen\u001b[0m\u001b[0;34m(\u001b[0m\u001b[0mlstsrc\u001b[0m\u001b[0;34m)\u001b[0m\u001b[0;34m)\u001b[0m\u001b[0;34m,\u001b[0m \u001b[0mlstsrc\u001b[0m\u001b[0;34m)\u001b[0m\u001b[0;34m:\u001b[0m\u001b[0;34m\u001b[0m\n",
       "\u001b[0;34m\u001b[0m                \u001b[0mlenl\u001b[0m \u001b[0;34m=\u001b[0m \u001b[0mlen\u001b[0m\u001b[0;34m(\u001b[0m\u001b[0ml\u001b[0m\u001b[0;34m)\u001b[0m\u001b[0;34m\u001b[0m\n",
       "\u001b[0;34m\u001b[0m                \u001b[0;34m\u001b[0m\n",
       "\u001b[0;34m\u001b[0m                \u001b[0;32mif\u001b[0m \u001b[0;32mnot\u001b[0m \u001b[0mbool\u001b[0m\u001b[0;34m(\u001b[0m\u001b[0ml\u001b[0m\u001b[0;34m.\u001b[0m\u001b[0mstrip\u001b[0m\u001b[0;34m(\u001b[0m\u001b[0;34m)\u001b[0m\u001b[0;34m)\u001b[0m\u001b[0;34m:\u001b[0m\u001b[0;34m\u001b[0m\n",
       "\u001b[0;34m\u001b[0m                    \u001b[0mprint\u001b[0m\u001b[0;34m(\u001b[0m\u001b[0ml\u001b[0m \u001b[0;34m+\u001b[0m \u001b[0;34m\" \"\u001b[0m\u001b[0;34m*\u001b[0m\u001b[0;34m(\u001b[0m\u001b[0mtotallen\u001b[0m\u001b[0;34m-\u001b[0m\u001b[0mlenl\u001b[0m\u001b[0;34m-\u001b[0m\u001b[0mlenidx\u001b[0m\u001b[0;34m)\u001b[0m \u001b[0;34m+\u001b[0m \u001b[0;34m\"(\"\u001b[0m \u001b[0;34m+\u001b[0m \u001b[0mstr\u001b[0m\u001b[0;34m(\u001b[0m\u001b[0midx\u001b[0m\u001b[0;34m)\u001b[0m \u001b[0;34m+\u001b[0m \u001b[0;34m\")\"\u001b[0m\u001b[0;34m)\u001b[0m\u001b[0;34m\u001b[0m\n",
       "\u001b[0;34m\u001b[0m                    \u001b[0;34m\u001b[0m\n",
       "\u001b[0;34m\u001b[0m                \u001b[0;32melif\u001b[0m \u001b[0mlenl\u001b[0m \u001b[0;34m+\u001b[0m \u001b[0mlspace\u001b[0m \u001b[0;34m>=\u001b[0m \u001b[0;36m100\u001b[0m\u001b[0;34m:\u001b[0m\u001b[0;34m\u001b[0m\n",
       "\u001b[0;34m\u001b[0m                    \u001b[0;32mif\u001b[0m \u001b[0mbool\u001b[0m\u001b[0;34m(\u001b[0m\u001b[0mcmts\u001b[0m\u001b[0;34m)\u001b[0m\u001b[0;34m:\u001b[0m\u001b[0;34m\u001b[0m\n",
       "\u001b[0;34m\u001b[0m                        \u001b[0mcmtidx\u001b[0m \u001b[0;34m=\u001b[0m \u001b[0;34m[\u001b[0m\u001b[0mcmt\u001b[0m\u001b[0;34m[\u001b[0m\u001b[0;36m0\u001b[0m\u001b[0;34m]\u001b[0m \u001b[0;32mfor\u001b[0m \u001b[0mcmt\u001b[0m \u001b[0;32min\u001b[0m \u001b[0mlist\u001b[0m\u001b[0;34m(\u001b[0m\u001b[0mcmts\u001b[0m\u001b[0;34m.\u001b[0m\u001b[0mitems\u001b[0m\u001b[0;34m(\u001b[0m\u001b[0;34m)\u001b[0m\u001b[0;34m)\u001b[0m\u001b[0;34m]\u001b[0m\u001b[0;34m\u001b[0m\n",
       "\u001b[0;34m\u001b[0m                        \u001b[0;32mif\u001b[0m \u001b[0midx\u001b[0m \u001b[0;32min\u001b[0m \u001b[0mcmtidx\u001b[0m\u001b[0;34m:\u001b[0m\u001b[0;34m\u001b[0m\n",
       "\u001b[0;34m\u001b[0m                            \u001b[0mprint\u001b[0m\u001b[0;34m(\u001b[0m\u001b[0ml\u001b[0m \u001b[0;34m+\u001b[0m \u001b[0;34m\" # \"\u001b[0m \u001b[0;34m+\u001b[0m \u001b[0mcmts\u001b[0m\u001b[0;34m[\u001b[0m\u001b[0midx\u001b[0m\u001b[0;34m]\u001b[0m \u001b[0;34m+\u001b[0m \u001b[0;34m\" \"\u001b[0m\u001b[0;34m*\u001b[0m\u001b[0;34m(\u001b[0m\u001b[0mtotallen\u001b[0m\u001b[0;34m-\u001b[0m\u001b[0mlenl\u001b[0m\u001b[0;34m-\u001b[0m\u001b[0mlenidx\u001b[0m\u001b[0;34m-\u001b[0m\u001b[0mlen\u001b[0m\u001b[0;34m(\u001b[0m\u001b[0mcmts\u001b[0m\u001b[0;34m[\u001b[0m\u001b[0midx\u001b[0m\u001b[0;34m]\u001b[0m\u001b[0;34m)\u001b[0m\u001b[0;34m-\u001b[0m\u001b[0;36m3\u001b[0m\u001b[0;34m)\u001b[0m \u001b[0;34m+\u001b[0m \u001b[0;34m\"(\"\u001b[0m \u001b[0;34m+\u001b[0m \u001b[0mstr\u001b[0m\u001b[0;34m(\u001b[0m\u001b[0midx\u001b[0m\u001b[0;34m)\u001b[0m \u001b[0;34m+\u001b[0m \u001b[0;34m\")\"\u001b[0m\u001b[0;34m)\u001b[0m\u001b[0;34m\u001b[0m\n",
       "\u001b[0;34m\u001b[0m                        \u001b[0;32melse\u001b[0m\u001b[0;34m:\u001b[0m\u001b[0;34m\u001b[0m\n",
       "\u001b[0;34m\u001b[0m                            \u001b[0mprint\u001b[0m\u001b[0;34m(\u001b[0m\u001b[0ml\u001b[0m \u001b[0;34m+\u001b[0m \u001b[0;34m\" \"\u001b[0m\u001b[0;34m*\u001b[0m\u001b[0;34m(\u001b[0m\u001b[0mtotallen\u001b[0m\u001b[0;34m-\u001b[0m\u001b[0mlenl\u001b[0m\u001b[0;34m-\u001b[0m\u001b[0mlenidx\u001b[0m\u001b[0;34m)\u001b[0m \u001b[0;34m+\u001b[0m \u001b[0;34m\"(\"\u001b[0m \u001b[0;34m+\u001b[0m \u001b[0mstr\u001b[0m\u001b[0;34m(\u001b[0m\u001b[0midx\u001b[0m\u001b[0;34m)\u001b[0m \u001b[0;34m+\u001b[0m \u001b[0;34m\")\"\u001b[0m\u001b[0;34m)\u001b[0m\u001b[0;34m\u001b[0m\n",
       "\u001b[0;34m\u001b[0m                    \u001b[0;32melse\u001b[0m\u001b[0;34m:\u001b[0m \u001b[0;34m\u001b[0m\n",
       "\u001b[0;34m\u001b[0m                        \u001b[0mprint\u001b[0m\u001b[0;34m(\u001b[0m\u001b[0ml\u001b[0m \u001b[0;34m+\u001b[0m \u001b[0;34m\" \"\u001b[0m\u001b[0;34m*\u001b[0m\u001b[0;34m(\u001b[0m\u001b[0mtotallen\u001b[0m\u001b[0;34m-\u001b[0m\u001b[0mlenl\u001b[0m\u001b[0;34m-\u001b[0m\u001b[0mlenidx\u001b[0m\u001b[0;34m)\u001b[0m \u001b[0;34m+\u001b[0m \u001b[0;34m\"(\"\u001b[0m \u001b[0;34m+\u001b[0m \u001b[0mstr\u001b[0m\u001b[0;34m(\u001b[0m\u001b[0midx\u001b[0m\u001b[0;34m)\u001b[0m \u001b[0;34m+\u001b[0m \u001b[0;34m\")\"\u001b[0m\u001b[0;34m)\u001b[0m\u001b[0;34m\u001b[0m\n",
       "\u001b[0;34m\u001b[0m                        \u001b[0;34m\u001b[0m\n",
       "\u001b[0;34m\u001b[0m                \u001b[0;32melse\u001b[0m\u001b[0;34m:\u001b[0m\u001b[0;34m\u001b[0m\n",
       "\u001b[0;34m\u001b[0m\u001b[0;34m\u001b[0m\n",
       "\u001b[0;34m\u001b[0m\u001b[0;34m\u001b[0m\n",
       "\u001b[0;34m\u001b[0m                    \u001b[0;32mif\u001b[0m \u001b[0mbool\u001b[0m\u001b[0;34m(\u001b[0m\u001b[0mcmts\u001b[0m\u001b[0;34m)\u001b[0m\u001b[0;34m:\u001b[0m\u001b[0;34m\u001b[0m\n",
       "\u001b[0;34m\u001b[0m                        \u001b[0mcmtidx\u001b[0m \u001b[0;34m=\u001b[0m \u001b[0;34m[\u001b[0m\u001b[0mcmt\u001b[0m\u001b[0;34m[\u001b[0m\u001b[0;36m0\u001b[0m\u001b[0;34m]\u001b[0m \u001b[0;32mfor\u001b[0m \u001b[0mcmt\u001b[0m \u001b[0;32min\u001b[0m \u001b[0mlist\u001b[0m\u001b[0;34m(\u001b[0m\u001b[0mcmts\u001b[0m\u001b[0;34m.\u001b[0m\u001b[0mitems\u001b[0m\u001b[0;34m(\u001b[0m\u001b[0;34m)\u001b[0m\u001b[0;34m)\u001b[0m\u001b[0;34m]\u001b[0m\u001b[0;34m\u001b[0m\n",
       "\u001b[0;34m\u001b[0m                        \u001b[0;32mif\u001b[0m \u001b[0midx\u001b[0m \u001b[0;32min\u001b[0m \u001b[0mcmtidx\u001b[0m\u001b[0;34m:\u001b[0m\u001b[0;34m\u001b[0m\n",
       "\u001b[0;34m\u001b[0m                            \u001b[0mprint\u001b[0m\u001b[0;34m(\u001b[0m\u001b[0;34m'{:<100}'\u001b[0m\u001b[0;34m.\u001b[0m\u001b[0mformat\u001b[0m\u001b[0;34m(\u001b[0m\u001b[0ml\u001b[0m \u001b[0;34m+\u001b[0m \u001b[0;34m\"=\"\u001b[0m\u001b[0;34m*\u001b[0m\u001b[0;34m(\u001b[0m\u001b[0;36m100\u001b[0m\u001b[0;34m-\u001b[0m\u001b[0mlenl\u001b[0m\u001b[0;34m-\u001b[0m\u001b[0mlspace\u001b[0m\u001b[0;34m)\u001b[0m \u001b[0;34m+\u001b[0m \u001b[0;34mf\"({idx})\"\u001b[0m \u001b[0;34m+\u001b[0m \u001b[0;34m\" # \"\u001b[0m \u001b[0;34m+\u001b[0m \u001b[0mcmts\u001b[0m\u001b[0;34m[\u001b[0m\u001b[0midx\u001b[0m\u001b[0;34m]\u001b[0m\u001b[0;34m)\u001b[0m\u001b[0;34m)\u001b[0m\u001b[0;34m\u001b[0m\n",
       "\u001b[0;34m\u001b[0m                        \u001b[0;32melse\u001b[0m\u001b[0;34m:\u001b[0m\u001b[0;34m\u001b[0m\n",
       "\u001b[0;34m\u001b[0m                            \u001b[0mprint\u001b[0m\u001b[0;34m(\u001b[0m\u001b[0;34m'{:<100}'\u001b[0m\u001b[0;34m.\u001b[0m\u001b[0mformat\u001b[0m\u001b[0;34m(\u001b[0m\u001b[0ml\u001b[0m \u001b[0;34m+\u001b[0m \u001b[0;34m\"=\"\u001b[0m\u001b[0;34m*\u001b[0m\u001b[0;34m(\u001b[0m\u001b[0;36m100\u001b[0m\u001b[0;34m-\u001b[0m\u001b[0mlenl\u001b[0m\u001b[0;34m-\u001b[0m\u001b[0mlspace\u001b[0m\u001b[0;34m)\u001b[0m \u001b[0;34m+\u001b[0m \u001b[0;34mf\"({idx})\"\u001b[0m\u001b[0;34m)\u001b[0m\u001b[0;34m)\u001b[0m                                                      \u001b[0;34m\u001b[0m\n",
       "\u001b[0;34m\u001b[0m\u001b[0;34m\u001b[0m\n",
       "\u001b[0;34m\u001b[0m                    \u001b[0;32melse\u001b[0m\u001b[0;34m:\u001b[0m\u001b[0;34m\u001b[0m\n",
       "\u001b[0;34m\u001b[0m                        \u001b[0mprint\u001b[0m\u001b[0;34m(\u001b[0m\u001b[0;34m'{:<100}'\u001b[0m\u001b[0;34m.\u001b[0m\u001b[0mformat\u001b[0m\u001b[0;34m(\u001b[0m\u001b[0ml\u001b[0m \u001b[0;34m+\u001b[0m \u001b[0;34m\"=\"\u001b[0m\u001b[0;34m*\u001b[0m\u001b[0;34m(\u001b[0m\u001b[0;36m100\u001b[0m\u001b[0;34m-\u001b[0m\u001b[0mlenl\u001b[0m\u001b[0;34m-\u001b[0m\u001b[0mlspace\u001b[0m\u001b[0;34m)\u001b[0m \u001b[0;34m+\u001b[0m \u001b[0;34mf\"({idx})\"\u001b[0m\u001b[0;34m)\u001b[0m\u001b[0;34m)\u001b[0m                 \u001b[0;34m\u001b[0m\n",
       "\u001b[0;34m\u001b[0m        \u001b[0;34m\u001b[0m\n",
       "\u001b[0;34m\u001b[0m        \u001b[0;32mfor\u001b[0m \u001b[0mp\u001b[0m \u001b[0;32min\u001b[0m \u001b[0mrange\u001b[0m\u001b[0;34m(\u001b[0m\u001b[0mnumparts\u001b[0m\u001b[0;34m)\u001b[0m\u001b[0;34m:\u001b[0m\u001b[0;34m\u001b[0m\n",
       "\u001b[0;34m\u001b[0m            \u001b[0;32mfor\u001b[0m \u001b[0midx\u001b[0m\u001b[0;34m,\u001b[0m \u001b[0ml\u001b[0m \u001b[0;32min\u001b[0m \u001b[0mzip\u001b[0m\u001b[0;34m(\u001b[0m\u001b[0mrange\u001b[0m\u001b[0;34m(\u001b[0m\u001b[0mlen\u001b[0m\u001b[0;34m(\u001b[0m\u001b[0mlstsrc\u001b[0m\u001b[0;34m)\u001b[0m\u001b[0;34m)\u001b[0m\u001b[0;34m,\u001b[0m \u001b[0mlstsrc\u001b[0m\u001b[0;34m)\u001b[0m\u001b[0;34m:\u001b[0m\u001b[0;34m\u001b[0m\n",
       "\u001b[0;34m\u001b[0m\u001b[0;34m\u001b[0m\n",
       "\u001b[0;34m\u001b[0m                \u001b[0;32mif\u001b[0m \u001b[0;34m(\u001b[0m\u001b[0mmaxlines\u001b[0m\u001b[0;34m*\u001b[0m\u001b[0mp\u001b[0m \u001b[0;34m<=\u001b[0m \u001b[0midx\u001b[0m \u001b[0;34m<\u001b[0m \u001b[0mmaxlines\u001b[0m\u001b[0;34m*\u001b[0m\u001b[0;34m(\u001b[0m\u001b[0mp\u001b[0m\u001b[0;34m+\u001b[0m\u001b[0;36m1\u001b[0m\u001b[0;34m)\u001b[0m \u001b[0;32mand\u001b[0m \u001b[0mp\u001b[0m\u001b[0;34m+\u001b[0m\u001b[0;36m1\u001b[0m \u001b[0;34m==\u001b[0m \u001b[0mpart\u001b[0m\u001b[0;34m)\u001b[0m\u001b[0;34m:\u001b[0m\u001b[0;34m\u001b[0m\n",
       "\u001b[0;34m\u001b[0m                    \u001b[0mlenl\u001b[0m \u001b[0;34m=\u001b[0m \u001b[0mlen\u001b[0m\u001b[0;34m(\u001b[0m\u001b[0ml\u001b[0m\u001b[0;34m)\u001b[0m\u001b[0;34m\u001b[0m\n",
       "\u001b[0;34m\u001b[0m                    \u001b[0;32mif\u001b[0m \u001b[0;32mnot\u001b[0m \u001b[0mbool\u001b[0m\u001b[0;34m(\u001b[0m\u001b[0ml\u001b[0m\u001b[0;34m.\u001b[0m\u001b[0mstrip\u001b[0m\u001b[0;34m(\u001b[0m\u001b[0;34m)\u001b[0m\u001b[0;34m)\u001b[0m\u001b[0;34m:\u001b[0m\u001b[0;34m\u001b[0m\n",
       "\u001b[0;34m\u001b[0m                        \u001b[0mprint\u001b[0m\u001b[0;34m(\u001b[0m\u001b[0ml\u001b[0m \u001b[0;34m+\u001b[0m \u001b[0;34m\" \"\u001b[0m\u001b[0;34m*\u001b[0m\u001b[0;34m(\u001b[0m\u001b[0mtotallen\u001b[0m\u001b[0;34m-\u001b[0m\u001b[0mlenl\u001b[0m\u001b[0;34m-\u001b[0m\u001b[0mlenidx\u001b[0m\u001b[0;34m)\u001b[0m \u001b[0;34m+\u001b[0m \u001b[0;34m\"(\"\u001b[0m \u001b[0;34m+\u001b[0m \u001b[0mstr\u001b[0m\u001b[0;34m(\u001b[0m\u001b[0midx\u001b[0m\u001b[0;34m)\u001b[0m \u001b[0;34m+\u001b[0m \u001b[0;34m\")\"\u001b[0m\u001b[0;34m)\u001b[0m\u001b[0;34m\u001b[0m\n",
       "\u001b[0;34m\u001b[0m                    \u001b[0;32melif\u001b[0m \u001b[0mlenl\u001b[0m \u001b[0;34m+\u001b[0m \u001b[0mlspace\u001b[0m \u001b[0;34m>=\u001b[0m \u001b[0;36m100\u001b[0m\u001b[0;34m:\u001b[0m\u001b[0;34m\u001b[0m\n",
       "\u001b[0;34m\u001b[0m                        \u001b[0;32mif\u001b[0m \u001b[0mbool\u001b[0m\u001b[0;34m(\u001b[0m\u001b[0mcmts\u001b[0m\u001b[0;34m)\u001b[0m\u001b[0;34m:\u001b[0m\u001b[0;34m\u001b[0m\n",
       "\u001b[0;34m\u001b[0m                            \u001b[0mcmtidx\u001b[0m \u001b[0;34m=\u001b[0m \u001b[0;34m[\u001b[0m\u001b[0mcmt\u001b[0m\u001b[0;34m[\u001b[0m\u001b[0;36m0\u001b[0m\u001b[0;34m]\u001b[0m \u001b[0;32mfor\u001b[0m \u001b[0mcmt\u001b[0m \u001b[0;32min\u001b[0m \u001b[0mlist\u001b[0m\u001b[0;34m(\u001b[0m\u001b[0mcmts\u001b[0m\u001b[0;34m.\u001b[0m\u001b[0mitems\u001b[0m\u001b[0;34m(\u001b[0m\u001b[0;34m)\u001b[0m\u001b[0;34m)\u001b[0m\u001b[0;34m]\u001b[0m\u001b[0;34m\u001b[0m\n",
       "\u001b[0;34m\u001b[0m                            \u001b[0;32mif\u001b[0m \u001b[0midx\u001b[0m \u001b[0;32min\u001b[0m \u001b[0mcmtidx\u001b[0m\u001b[0;34m:\u001b[0m\u001b[0;34m\u001b[0m\n",
       "\u001b[0;34m\u001b[0m                                \u001b[0mprint\u001b[0m\u001b[0;34m(\u001b[0m\u001b[0ml\u001b[0m \u001b[0;34m+\u001b[0m \u001b[0;34m\" # \"\u001b[0m \u001b[0;34m+\u001b[0m \u001b[0mcmts\u001b[0m\u001b[0;34m[\u001b[0m\u001b[0midx\u001b[0m\u001b[0;34m]\u001b[0m \u001b[0;34m+\u001b[0m \u001b[0;34m\" \"\u001b[0m\u001b[0;34m*\u001b[0m\u001b[0;34m(\u001b[0m\u001b[0mtotallen\u001b[0m\u001b[0;34m-\u001b[0m\u001b[0mlenl\u001b[0m\u001b[0;34m-\u001b[0m\u001b[0mlenidx\u001b[0m\u001b[0;34m-\u001b[0m\u001b[0mlen\u001b[0m\u001b[0;34m(\u001b[0m\u001b[0mcmts\u001b[0m\u001b[0;34m[\u001b[0m\u001b[0midx\u001b[0m\u001b[0;34m]\u001b[0m\u001b[0;34m)\u001b[0m\u001b[0;34m-\u001b[0m\u001b[0;36m3\u001b[0m\u001b[0;34m)\u001b[0m \u001b[0;34m+\u001b[0m \u001b[0;34m\"(\"\u001b[0m \u001b[0;34m+\u001b[0m \u001b[0mstr\u001b[0m\u001b[0;34m(\u001b[0m\u001b[0midx\u001b[0m\u001b[0;34m)\u001b[0m \u001b[0;34m+\u001b[0m \u001b[0;34m\")\"\u001b[0m\u001b[0;34m)\u001b[0m\u001b[0;34m\u001b[0m\n",
       "\u001b[0;34m\u001b[0m                            \u001b[0;32melse\u001b[0m\u001b[0;34m:\u001b[0m\u001b[0;34m\u001b[0m\n",
       "\u001b[0;34m\u001b[0m                                \u001b[0mprint\u001b[0m\u001b[0;34m(\u001b[0m\u001b[0ml\u001b[0m \u001b[0;34m+\u001b[0m \u001b[0;34m\" \"\u001b[0m\u001b[0;34m*\u001b[0m\u001b[0;34m(\u001b[0m\u001b[0mtotallen\u001b[0m\u001b[0;34m-\u001b[0m\u001b[0mlenl\u001b[0m\u001b[0;34m-\u001b[0m\u001b[0mlenidx\u001b[0m\u001b[0;34m)\u001b[0m \u001b[0;34m+\u001b[0m \u001b[0;34m\"(\"\u001b[0m \u001b[0;34m+\u001b[0m \u001b[0mstr\u001b[0m\u001b[0;34m(\u001b[0m\u001b[0midx\u001b[0m\u001b[0;34m)\u001b[0m \u001b[0;34m+\u001b[0m \u001b[0;34m\")\"\u001b[0m\u001b[0;34m)\u001b[0m\u001b[0;34m\u001b[0m\n",
       "\u001b[0;34m\u001b[0m                        \u001b[0;32melse\u001b[0m\u001b[0;34m:\u001b[0m \u001b[0;34m\u001b[0m\n",
       "\u001b[0;34m\u001b[0m                            \u001b[0mprint\u001b[0m\u001b[0;34m(\u001b[0m\u001b[0ml\u001b[0m \u001b[0;34m+\u001b[0m \u001b[0;34m\" \"\u001b[0m\u001b[0;34m*\u001b[0m\u001b[0;34m(\u001b[0m\u001b[0mtotallen\u001b[0m\u001b[0;34m-\u001b[0m\u001b[0mlenl\u001b[0m\u001b[0;34m-\u001b[0m\u001b[0mlenidx\u001b[0m\u001b[0;34m)\u001b[0m \u001b[0;34m+\u001b[0m \u001b[0;34m\"(\"\u001b[0m \u001b[0;34m+\u001b[0m \u001b[0mstr\u001b[0m\u001b[0;34m(\u001b[0m\u001b[0midx\u001b[0m\u001b[0;34m)\u001b[0m \u001b[0;34m+\u001b[0m \u001b[0;34m\")\"\u001b[0m\u001b[0;34m)\u001b[0m\u001b[0;34m\u001b[0m\n",
       "\u001b[0;34m\u001b[0m\u001b[0;34m\u001b[0m\n",
       "\u001b[0;34m\u001b[0m\u001b[0;34m\u001b[0m\n",
       "\u001b[0;34m\u001b[0m                    \u001b[0;32melse\u001b[0m\u001b[0;34m:\u001b[0m\u001b[0;34m\u001b[0m\n",
       "\u001b[0;34m\u001b[0m\u001b[0;34m\u001b[0m\n",
       "\u001b[0;34m\u001b[0m                        \u001b[0;32mif\u001b[0m \u001b[0mbool\u001b[0m\u001b[0;34m(\u001b[0m\u001b[0mcmts\u001b[0m\u001b[0;34m)\u001b[0m\u001b[0;34m:\u001b[0m\u001b[0;34m\u001b[0m\n",
       "\u001b[0;34m\u001b[0m                            \u001b[0mcmtidx\u001b[0m \u001b[0;34m=\u001b[0m \u001b[0;34m[\u001b[0m\u001b[0mcmt\u001b[0m\u001b[0;34m[\u001b[0m\u001b[0;36m0\u001b[0m\u001b[0;34m]\u001b[0m \u001b[0;32mfor\u001b[0m \u001b[0mcmt\u001b[0m \u001b[0;32min\u001b[0m \u001b[0mlist\u001b[0m\u001b[0;34m(\u001b[0m\u001b[0mcmts\u001b[0m\u001b[0;34m.\u001b[0m\u001b[0mitems\u001b[0m\u001b[0;34m(\u001b[0m\u001b[0;34m)\u001b[0m\u001b[0;34m)\u001b[0m\u001b[0;34m]\u001b[0m\u001b[0;34m\u001b[0m\n",
       "\u001b[0;34m\u001b[0m                            \u001b[0;32mif\u001b[0m \u001b[0midx\u001b[0m \u001b[0;32min\u001b[0m \u001b[0mcmtidx\u001b[0m\u001b[0;34m:\u001b[0m\u001b[0;34m\u001b[0m\n",
       "\u001b[0;34m\u001b[0m                                \u001b[0mprint\u001b[0m\u001b[0;34m(\u001b[0m\u001b[0;34m'{:<100}'\u001b[0m\u001b[0;34m.\u001b[0m\u001b[0mformat\u001b[0m\u001b[0;34m(\u001b[0m\u001b[0ml\u001b[0m \u001b[0;34m+\u001b[0m \u001b[0;34m\"=\"\u001b[0m\u001b[0;34m*\u001b[0m\u001b[0;34m(\u001b[0m\u001b[0;36m100\u001b[0m\u001b[0;34m-\u001b[0m\u001b[0mlenl\u001b[0m\u001b[0;34m-\u001b[0m\u001b[0mlspace\u001b[0m\u001b[0;34m)\u001b[0m \u001b[0;34m+\u001b[0m \u001b[0;34mf\"({idx})\"\u001b[0m \u001b[0;34m+\u001b[0m \u001b[0;34m\" # \"\u001b[0m \u001b[0;34m+\u001b[0m \u001b[0mcmts\u001b[0m\u001b[0;34m[\u001b[0m\u001b[0midx\u001b[0m\u001b[0;34m]\u001b[0m\u001b[0;34m)\u001b[0m\u001b[0;34m)\u001b[0m\u001b[0;34m\u001b[0m\n",
       "\u001b[0;34m\u001b[0m                            \u001b[0;32melse\u001b[0m\u001b[0;34m:\u001b[0m\u001b[0;34m\u001b[0m\n",
       "\u001b[0;34m\u001b[0m                                \u001b[0mprint\u001b[0m\u001b[0;34m(\u001b[0m\u001b[0;34m'{:<100}'\u001b[0m\u001b[0;34m.\u001b[0m\u001b[0mformat\u001b[0m\u001b[0;34m(\u001b[0m\u001b[0ml\u001b[0m \u001b[0;34m+\u001b[0m \u001b[0;34m\"=\"\u001b[0m\u001b[0;34m*\u001b[0m\u001b[0;34m(\u001b[0m\u001b[0;36m100\u001b[0m\u001b[0;34m-\u001b[0m\u001b[0mlenl\u001b[0m\u001b[0;34m-\u001b[0m\u001b[0mlspace\u001b[0m\u001b[0;34m)\u001b[0m \u001b[0;34m+\u001b[0m \u001b[0;34mf\"({idx})\"\u001b[0m\u001b[0;34m)\u001b[0m\u001b[0;34m)\u001b[0m                                                          \u001b[0;34m\u001b[0m\n",
       "\u001b[0;34m\u001b[0m                            \u001b[0;34m\u001b[0m\n",
       "\u001b[0;34m\u001b[0m                        \u001b[0;32melse\u001b[0m\u001b[0;34m:\u001b[0m\u001b[0;34m\u001b[0m\n",
       "\u001b[0;34m\u001b[0m                            \u001b[0mprint\u001b[0m\u001b[0;34m(\u001b[0m\u001b[0;34m'{:<100}'\u001b[0m\u001b[0;34m.\u001b[0m\u001b[0mformat\u001b[0m\u001b[0;34m(\u001b[0m\u001b[0ml\u001b[0m \u001b[0;34m+\u001b[0m \u001b[0;34m\"=\"\u001b[0m\u001b[0;34m*\u001b[0m\u001b[0;34m(\u001b[0m\u001b[0;36m100\u001b[0m\u001b[0;34m-\u001b[0m\u001b[0mlenl\u001b[0m\u001b[0;34m-\u001b[0m\u001b[0mlspace\u001b[0m\u001b[0;34m)\u001b[0m \u001b[0;34m+\u001b[0m \u001b[0;34mf\"({idx})\"\u001b[0m\u001b[0;34m)\u001b[0m\u001b[0;34m)\u001b[0m                      \u001b[0;34m\u001b[0m\n",
       "\u001b[0;34m\u001b[0m\u001b[0;34m\u001b[0m\n",
       "\u001b[0;34m\u001b[0m                \u001b[0;32mif\u001b[0m \u001b[0;34m(\u001b[0m\u001b[0midx\u001b[0m \u001b[0;34m==\u001b[0m \u001b[0mmaxlines\u001b[0m\u001b[0;34m*\u001b[0m\u001b[0;34m(\u001b[0m\u001b[0mp\u001b[0m\u001b[0;34m+\u001b[0m\u001b[0;36m1\u001b[0m\u001b[0;34m)\u001b[0m \u001b[0;32mor\u001b[0m \u001b[0midx\u001b[0m \u001b[0;34m==\u001b[0m \u001b[0mlen\u001b[0m\u001b[0;34m(\u001b[0m\u001b[0mlstsrc\u001b[0m\u001b[0;34m)\u001b[0m \u001b[0;34m-\u001b[0m \u001b[0;36m1\u001b[0m\u001b[0;34m)\u001b[0m \u001b[0;32mand\u001b[0m \u001b[0mp\u001b[0m\u001b[0;34m+\u001b[0m\u001b[0;36m1\u001b[0m \u001b[0;34m==\u001b[0m \u001b[0mpart\u001b[0m\u001b[0;34m:\u001b[0m\u001b[0;34m\u001b[0m\n",
       "\u001b[0;34m\u001b[0m                    \u001b[0mprint\u001b[0m\u001b[0;34m(\u001b[0m\u001b[0;34m'{:>157}'\u001b[0m\u001b[0;34m.\u001b[0m\u001b[0mformat\u001b[0m\u001b[0;34m(\u001b[0m\u001b[0;34mf\"part No.{p+1} out of {numparts} parts\"\u001b[0m\u001b[0;34m)\u001b[0m\u001b[0;34m)\u001b[0m\u001b[0;34m\u001b[0m\n",
       "\u001b[0;34m\u001b[0m                    \u001b[0;32mreturn\u001b[0m\u001b[0;34m\u001b[0m\u001b[0;34m\u001b[0m\u001b[0m\n",
       "\u001b[0;31mFile:\u001b[0m      /var/folders/gz/ch3n2mp51m9386sytqf97s6w0000gn/T/ipykernel_24252/755320168.py\n",
       "\u001b[0;31mType:\u001b[0m      method\n"
      ]
     },
     "metadata": {},
     "output_type": "display_data"
    }
   ],
   "source": [
    "sig.printsrcwithidx??"
   ]
  },
  {
   "cell_type": "code",
   "execution_count": null,
   "id": "fe83f5e4-4664-4214-aa89-3e4bfa3f7260",
   "metadata": {},
   "outputs": [],
   "source": [
    "# def printsrcwithidx(self, \n",
    "#                     maxlines:int=33, # maximum num of lines per page\n",
    "#                     part:int=0): # if the src is more than 33 lines, then divide the src by 33 into a few parts\n",
    "#     totallen = 157\n",
    "#     lenidx = 5\n",
    "#     lstsrc = inspect.getsource(self.orisrc).split('\\n')\n",
    "#     numparts = len(lstsrc) // 33 + 1 if len(lstsrc) % 33 != 0 else len(lstsrc) // 33\n",
    "\n",
    "#     if part == 0: \n",
    "#         for idx, l in zip(range(len(lstsrc)), lstsrc):\n",
    "#             lenl = len(l)\n",
    "#             print(l + \" \"*(totallen-lenl-lenidx) + \"(\" + str(idx) + \")\")\n",
    "\n",
    "\n",
    "#     for p in range(numparts):\n",
    "#         for idx, l in zip(range(len(lstsrc)), lstsrc):\n",
    "\n",
    "#             if (maxlines*p <= idx < maxlines*(p+1) and p+1 == part):\n",
    "#                 lenl = len(l)\n",
    "#                 # print(l + \" \"*(totallen-lenl-lenidx) + \"(\" + str(idx) + \")\")\n",
    "#                 print(l + \" \"*lenidx + \"(\" + str(idx) + \")\")\n",
    "\n",
    "#             if (idx == maxlines*(p+1) or idx == len(lstsrc) - 1) and p+1 == part:\n",
    "#                 print('{:>157}'.format(f\"part No.{p+1} out of {numparts} parts\"))\n",
    "#                 # return"
   ]
  },
  {
   "cell_type": "markdown",
   "id": "aedca067-3237-4981-8620-b9bd379c831f",
   "metadata": {},
   "source": [
    "Many things can go wrong to prevent a class to use the signature from `__init__`. \n",
    "\n",
    "FixSigMeta is a metaclass, which helps us to get our classes' signature right.\n",
    "\n",
    "Then what types of the signature problems can FixSigMeta fix?"
   ]
  },
  {
   "cell_type": "markdown",
   "id": "f84ddcda-98ec-4aeb-b7e0-53005ecd96b0",
   "metadata": {},
   "source": [
    "1. when your class Foo inherits from class Base, if Base defines its `__new__`, then Foo can't get signature from `__init__`. (True for python 3.7 see [demos](https://www.kaggle.com/code/danielliao/notebook3edc928f49?scriptVersionId=104385507&cellId=1), no more for 3.9+)"
   ]
  },
  {
   "cell_type": "code",
   "execution_count": null,
   "id": "63a0bc0e-eb25-44ca-926d-926c67c350f5",
   "metadata": {},
   "outputs": [
    {
     "data": {
      "text/plain": [
       "<Signature (d, e, f)>"
      ]
     },
     "execution_count": null,
     "metadata": {},
     "output_type": "execute_result"
    }
   ],
   "source": [
    "class Base: # pass\n",
    "    def __new__(self, **args): pass  # defines a __new__ \n",
    "\n",
    "class Foo(Base):\n",
    "    def __init__(self, d, e, f): pass\n",
    "    \n",
    "inspect.signature(Foo) # no more problem for python 3.9+, "
   ]
  },
  {
   "cell_type": "code",
   "execution_count": null,
   "id": "9cd349f5-56dc-494c-9ee8-4e280654af6c",
   "metadata": {},
   "outputs": [
    {
     "data": {
      "text/html": [
       "\n",
       "        <iframe\n",
       "            width=\"1200\"\n",
       "            height=\"300\"\n",
       "            src=\"https://www.kaggle.com/embed/danielliao/notebook3edc928f49?cellIds=2&kernelSessionId=104407182?style=margin%3A+0+auto%3B+width%3A+100%25%3B+max-width%3A+950px%3B&frameborder=0&scrolling=auto&title=notebook3edc928f49\"\n",
       "            frameborder=\"0\"\n",
       "            allowfullscreen\n",
       "            \n",
       "        ></iframe>\n",
       "        "
      ],
      "text/plain": [
       "<IPython.lib.display.IFrame>"
      ]
     },
     "execution_count": null,
     "metadata": {},
     "output_type": "execute_result"
    }
   ],
   "source": [
    "from IPython.display import IFrame\n",
    "\n",
    "IFrame(src=\"https://www.kaggle.com/embed/danielliao/notebook3edc928f49?cellIds=2&kernelSessionId=104407182\", width = \"1200\", height=\"300\", \\\n",
    "       style=\"margin: 0 auto; width: 100%; max-width: 950px;\", frameborder=\"0\", scrolling=\"auto\", title=\"notebook3edc928f49\")"
   ]
  },
  {
   "cell_type": "code",
   "execution_count": null,
   "id": "901b6aec-1524-49fd-9b97-79b6b21bf71a",
   "metadata": {},
   "outputs": [
    {
     "data": {
      "text/plain": [
       "<Signature (**args)>"
      ]
     },
     "execution_count": null,
     "metadata": {},
     "output_type": "execute_result"
    }
   ],
   "source": [
    "inspect._signature_from_callable = _signature_from_callableOld\n",
    "inspect.signature(Foo) # it is a problem for python 3.7, "
   ]
  },
  {
   "cell_type": "code",
   "execution_count": null,
   "id": "e9a3e5da-0efe-4b25-8dc2-2c80379f4404",
   "metadata": {},
   "outputs": [],
   "source": [
    "inspect._signature_from_callable = _signature_from_callableNew"
   ]
  },
  {
   "cell_type": "markdown",
   "id": "99208e7f-fd8c-4a1b-93de-f247af1ff859",
   "metadata": {},
   "source": [
    "Solution to 1: By also inheriting from the metaclass FixSigMeta can solve the signature problem for Foo (for python 3.7)"
   ]
  },
  {
   "cell_type": "code",
   "execution_count": null,
   "id": "252ee17f-0320-4a0a-a454-006bdb27a0ae",
   "metadata": {},
   "outputs": [],
   "source": [
    "from fastcore.meta import FixSigMeta, test_sig"
   ]
  },
  {
   "cell_type": "code",
   "execution_count": null,
   "id": "7395b3e8-4e2a-48db-b123-d2ace1c4d679",
   "metadata": {},
   "outputs": [
    {
     "data": {
      "text/plain": [
       "<Signature (d, e, f)>"
      ]
     },
     "execution_count": null,
     "metadata": {},
     "output_type": "execute_result"
    }
   ],
   "source": [
    "class Base: # pass\n",
    "    def __new__(self, **args): pass  # defines a __new__ \n",
    "\n",
    "class Foo(Base, metaclass=FixSigMeta):\n",
    "    def __init__(self, d, e, f): pass\n",
    "    \n",
    "test_sig(Foo, '(d, e, f)')\n",
    "inspect.signature(Foo)"
   ]
  },
  {
   "cell_type": "code",
   "execution_count": null,
   "id": "483bb730-50e9-4b1e-bef9-37dcdd2e0e97",
   "metadata": {},
   "outputs": [
    {
     "data": {
      "text/html": [
       "\n",
       "        <iframe\n",
       "            width=\"1200\"\n",
       "            height=\"300\"\n",
       "            src=\"https://www.kaggle.com/embed/danielliao/notebook3edc928f49?cellIds=4&kernelSessionId=104407182?style=margin%3A+0+auto%3B+width%3A+100%25%3B+max-width%3A+950px%3B&frameborder=0&scrolling=auto&title=notebook3edc928f49\"\n",
       "            frameborder=\"0\"\n",
       "            allowfullscreen\n",
       "            \n",
       "        ></iframe>\n",
       "        "
      ],
      "text/plain": [
       "<IPython.lib.display.IFrame>"
      ]
     },
     "execution_count": null,
     "metadata": {},
     "output_type": "execute_result"
    }
   ],
   "source": [
    "IFrame(src=\"https://www.kaggle.com/embed/danielliao/notebook3edc928f49?cellIds=4&kernelSessionId=104407182\", width = \"1200\", height=\"300\", \\\n",
    "       style=\"margin: 0 auto; width: 100%; max-width: 950px;\", frameborder=\"0\", scrolling=\"auto\", title=\"notebook3edc928f49\")"
   ]
  },
  {
   "cell_type": "code",
   "execution_count": null,
   "id": "99888a52-4fe0-4243-bd18-c4ebf9033e22",
   "metadata": {},
   "outputs": [
    {
     "data": {
      "text/plain": [
       "<Signature (d, e, f)>"
      ]
     },
     "execution_count": null,
     "metadata": {},
     "output_type": "execute_result"
    }
   ],
   "source": [
    "inspect._signature_from_callable = _signature_from_callableOld\n",
    "inspect.signature(Foo) # it is a problem for python 3.7, "
   ]
  },
  {
   "cell_type": "code",
   "execution_count": null,
   "id": "d1c8eded-12a6-4752-b4fc-f0dac6dff9f0",
   "metadata": {},
   "outputs": [],
   "source": [
    "inspect._signature_from_callable = _signature_from_callableNew"
   ]
  },
  {
   "cell_type": "markdown",
   "id": "c17d7b71-4932-4685-9f69-a4ee385c684d",
   "metadata": {},
   "source": [
    "2. when your Foo has a metaclass BaseMeta, if BaseMeta need to define its `__call__`, then Foo can't get signature from `__init__`."
   ]
  },
  {
   "cell_type": "code",
   "execution_count": null,
   "id": "54c934c8-e3ad-4b27-9651-1d29343c74dc",
   "metadata": {},
   "outputs": [],
   "source": [
    "class BaseMeta(type): \n",
    "    # using __new__ from type\n",
    "    def __call__(cls, *args, **kwargs): pass\n",
    "class Foo(metaclass=BaseMeta): \n",
    "    def __init__(self, d, e, f): pass\n",
    "\n",
    "test_sig(Foo, '(*args, **kwargs)')"
   ]
  },
  {
   "cell_type": "code",
   "execution_count": null,
   "id": "e405e231-3a0c-48c1-9d61-d82bb09c5663",
   "metadata": {},
   "outputs": [],
   "source": [
    "class BaseMeta(type): \n",
    "    def __new__(cls, name, bases, dict):\n",
    "        return super().__new__(cls, name, bases, dict) # using __new__ from type\n",
    "    def __call__(cls, *args, **kwargs): pass\n",
    "class Foo(metaclass=BaseMeta): \n",
    "    def __init__(self, d, e, f): pass\n",
    "\n",
    "test_sig(Foo, '(*args, **kwargs)')"
   ]
  },
  {
   "cell_type": "markdown",
   "id": "9c051680-f28e-4433-91e1-a4ed6b51333d",
   "metadata": {},
   "source": [
    "Solution to problem 2: you need to inherit from FixSigMeta instead of type when constructing the metaclass to preserve the signature in `__init__`. Be careful not to override `__new__` when doing this:"
   ]
  },
  {
   "cell_type": "code",
   "execution_count": null,
   "id": "93b4401b-0370-4a12-9165-cf77ebf0edad",
   "metadata": {},
   "outputs": [],
   "source": [
    "class BaseMeta(FixSigMeta): \n",
    "    # using __new__ of  FixSigMeta instead of type\n",
    "    def __call__(cls, *args, **kwargs): pass\n",
    "\n",
    "class Foo(metaclass=BaseMeta): # Base\n",
    "    def __init__(self, d, e, f): pass\n",
    "\n",
    "test_sig(Foo, '(d, e, f)')"
   ]
  },
  {
   "cell_type": "code",
   "execution_count": null,
   "id": "562e6e5c-f2e3-477a-9968-e4faaa8f5116",
   "metadata": {},
   "outputs": [],
   "source": [
    "class BaseMeta(FixSigMeta): \n",
    "    def __new__(cls, name, bases, dict): # not really overriding __new__, but still using FixSigMeta.__new__\n",
    "        return super().__new__(cls, name, bases, dict)\n",
    "    def __call__(cls, *args, **kwargs): pass\n",
    "\n",
    "class Foo(metaclass=BaseMeta): # Base\n",
    "    def __init__(self, d, e, f): pass\n",
    "\n",
    "test_sig(Foo, '(d, e, f)')"
   ]
  },
  {
   "cell_type": "markdown",
   "id": "40e4d5cb-39d2-404d-ac4a-b6b3e3b850ab",
   "metadata": {},
   "source": [
    "Note: if Base also defines `__new__`, then FixSigMeta can't help. "
   ]
  },
  {
   "cell_type": "code",
   "execution_count": null,
   "id": "466e91f9-f59e-41f6-8c91-4982e24fa9c9",
   "metadata": {},
   "outputs": [],
   "source": [
    "from fastcore.meta import test_eq"
   ]
  },
  {
   "cell_type": "code",
   "execution_count": null,
   "id": "2b0c96ce-2274-45e7-bac4-3ce12709f064",
   "metadata": {},
   "outputs": [],
   "source": [
    "class BaseMeta(FixSigMeta): \n",
    "    # __new__ comes from FixSigMeta\n",
    "    def __new__(cls, *args, **kwargs): pass # actually overriding __new__, not using FixSigMeta.__new__ anymore\n",
    "    def __call__(cls, *args, **kwargs): pass\n",
    "\n",
    "class Foo(metaclass=BaseMeta): # Base\n",
    "    def __init__(self, d, e, f): pass\n",
    "\n",
    "test_eq(type(Foo), type(None))"
   ]
  },
  {
   "cell_type": "markdown",
   "id": "bdc52175-d2e5-4324-8f3b-8e7b86d34ab8",
   "metadata": {},
   "source": [
    "Note: if Base also defines `__init__`, then FixSigMeta can still help. "
   ]
  },
  {
   "cell_type": "code",
   "execution_count": null,
   "id": "1a2049e9-eba6-444c-afc0-cb7aea5372c7",
   "metadata": {},
   "outputs": [],
   "source": [
    "class BaseMeta(FixSigMeta): \n",
    "    # __new__ comes from FixSigMeta\n",
    "    def __init__(cls, *args, **kwargs): pass # overriding __init__ of FixSigMeta, is fine\n",
    "    def __call__(cls, *args, **kwargs): pass\n",
    "\n",
    "class Foo(metaclass=BaseMeta): # Base\n",
    "    def __init__(self, d, e, f): pass\n",
    "\n",
    "test_sig(Foo, '(d, e, f)')"
   ]
  },
  {
   "cell_type": "code",
   "execution_count": null,
   "id": "b3577de4-2282-42fe-9c78-2b02800823f1",
   "metadata": {},
   "outputs": [],
   "source": []
  },
  {
   "cell_type": "code",
   "execution_count": null,
   "id": "da6452ad-ca23-4e16-9610-0844a22160bb",
   "metadata": {},
   "outputs": [],
   "source": []
  }
 ],
 "metadata": {
  "kernelspec": {
   "display_name": "Python 3 (ipykernel)",
   "language": "python",
   "name": "python3"
  }
 },
 "nbformat": 4,
 "nbformat_minor": 5
}
