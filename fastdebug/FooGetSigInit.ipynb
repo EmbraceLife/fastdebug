{
 "cells": [
  {
   "cell_type": "markdown",
   "id": "72a5a128-46e0-4136-9e29-f7d662064d4c",
   "metadata": {},
   "source": [
    "# How Foo borrow signature from `__init__`"
   ]
  },
  {
   "cell_type": "markdown",
   "id": "ad289cdd-b7da-445d-86d5-93ef1080d339",
   "metadata": {},
   "source": [
    "## question demo"
   ]
  },
  {
   "cell_type": "code",
   "execution_count": null,
   "id": "f31d8969-d2da-4dc4-a573-b294129ea56b",
   "metadata": {},
   "outputs": [],
   "source": [
    "import inspect"
   ]
  },
  {
   "cell_type": "code",
   "execution_count": null,
   "id": "99114025-1f8d-4160-9ac4-c8ee3cf9a0d0",
   "metadata": {},
   "outputs": [
    {
     "data": {
      "text/plain": [
       "<Signature (a, b, c)>"
      ]
     },
     "execution_count": null,
     "metadata": {},
     "output_type": "execute_result"
    }
   ],
   "source": [
    "class Foo:\n",
    "    def __init__(self, a, b, c): pass\n",
    "\n",
    "inspect.signature(Foo)"
   ]
  },
  {
   "cell_type": "markdown",
   "id": "62573b86-6fa5-44ba-a6a8-58f82590c555",
   "metadata": {},
   "source": [
    "## Which func perform the job"
   ]
  },
  {
   "cell_type": "code",
   "execution_count": null,
   "id": "ddc67d71-af59-4daf-95f3-3be6f2b0581d",
   "metadata": {},
   "outputs": [
    {
     "data": {
      "text/plain": [
       "\u001b[0;31mSignature:\u001b[0m \u001b[0minspect\u001b[0m\u001b[0;34m.\u001b[0m\u001b[0msignature\u001b[0m\u001b[0;34m(\u001b[0m\u001b[0mobj\u001b[0m\u001b[0;34m,\u001b[0m \u001b[0;34m*\u001b[0m\u001b[0;34m,\u001b[0m \u001b[0mfollow_wrapped\u001b[0m\u001b[0;34m=\u001b[0m\u001b[0;32mTrue\u001b[0m\u001b[0;34m)\u001b[0m\u001b[0;34m\u001b[0m\u001b[0;34m\u001b[0m\u001b[0m\n",
       "\u001b[0;31mSource:\u001b[0m   \n",
       "\u001b[0;32mdef\u001b[0m \u001b[0msignature\u001b[0m\u001b[0;34m(\u001b[0m\u001b[0mobj\u001b[0m\u001b[0;34m,\u001b[0m \u001b[0;34m*\u001b[0m\u001b[0;34m,\u001b[0m \u001b[0mfollow_wrapped\u001b[0m\u001b[0;34m=\u001b[0m\u001b[0;32mTrue\u001b[0m\u001b[0;34m)\u001b[0m\u001b[0;34m:\u001b[0m\u001b[0;34m\u001b[0m\n",
       "\u001b[0;34m\u001b[0m    \u001b[0;34m\"\"\"Get a signature object for the passed callable.\"\"\"\u001b[0m\u001b[0;34m\u001b[0m\n",
       "\u001b[0;34m\u001b[0m    \u001b[0;32mreturn\u001b[0m \u001b[0mSignature\u001b[0m\u001b[0;34m.\u001b[0m\u001b[0mfrom_callable\u001b[0m\u001b[0;34m(\u001b[0m\u001b[0mobj\u001b[0m\u001b[0;34m,\u001b[0m \u001b[0mfollow_wrapped\u001b[0m\u001b[0;34m=\u001b[0m\u001b[0mfollow_wrapped\u001b[0m\u001b[0;34m)\u001b[0m\u001b[0;34m\u001b[0m\u001b[0;34m\u001b[0m\u001b[0m\n",
       "\u001b[0;31mFile:\u001b[0m      ~/mambaforge/lib/python3.9/inspect.py\n",
       "\u001b[0;31mType:\u001b[0m      function\n"
      ]
     },
     "metadata": {},
     "output_type": "display_data"
    }
   ],
   "source": [
    "inspect.signature??"
   ]
  },
  {
   "cell_type": "code",
   "execution_count": null,
   "id": "e44c5dde-a535-48f7-992c-99e779ed1d52",
   "metadata": {},
   "outputs": [
    {
     "data": {
      "text/plain": [
       "\u001b[0;31mSignature:\u001b[0m \u001b[0minspect\u001b[0m\u001b[0;34m.\u001b[0m\u001b[0mSignature\u001b[0m\u001b[0;34m.\u001b[0m\u001b[0mfrom_callable\u001b[0m\u001b[0;34m(\u001b[0m\u001b[0mobj\u001b[0m\u001b[0;34m,\u001b[0m \u001b[0;34m*\u001b[0m\u001b[0;34m,\u001b[0m \u001b[0mfollow_wrapped\u001b[0m\u001b[0;34m=\u001b[0m\u001b[0;32mTrue\u001b[0m\u001b[0;34m)\u001b[0m\u001b[0;34m\u001b[0m\u001b[0;34m\u001b[0m\u001b[0m\n",
       "\u001b[0;31mSource:\u001b[0m   \n",
       "    \u001b[0;34m@\u001b[0m\u001b[0mclassmethod\u001b[0m\u001b[0;34m\u001b[0m\n",
       "\u001b[0;34m\u001b[0m    \u001b[0;32mdef\u001b[0m \u001b[0mfrom_callable\u001b[0m\u001b[0;34m(\u001b[0m\u001b[0mcls\u001b[0m\u001b[0;34m,\u001b[0m \u001b[0mobj\u001b[0m\u001b[0;34m,\u001b[0m \u001b[0;34m*\u001b[0m\u001b[0;34m,\u001b[0m \u001b[0mfollow_wrapped\u001b[0m\u001b[0;34m=\u001b[0m\u001b[0;32mTrue\u001b[0m\u001b[0;34m)\u001b[0m\u001b[0;34m:\u001b[0m\u001b[0;34m\u001b[0m\n",
       "\u001b[0;34m\u001b[0m        \u001b[0;34m\"\"\"Constructs Signature for the given callable object.\"\"\"\u001b[0m\u001b[0;34m\u001b[0m\n",
       "\u001b[0;34m\u001b[0m        \u001b[0;32mreturn\u001b[0m \u001b[0m_signature_from_callable\u001b[0m\u001b[0;34m(\u001b[0m\u001b[0mobj\u001b[0m\u001b[0;34m,\u001b[0m \u001b[0msigcls\u001b[0m\u001b[0;34m=\u001b[0m\u001b[0mcls\u001b[0m\u001b[0;34m,\u001b[0m\u001b[0;34m\u001b[0m\n",
       "\u001b[0;34m\u001b[0m                                        \u001b[0mfollow_wrapper_chains\u001b[0m\u001b[0;34m=\u001b[0m\u001b[0mfollow_wrapped\u001b[0m\u001b[0;34m)\u001b[0m\u001b[0;34m\u001b[0m\u001b[0;34m\u001b[0m\u001b[0m\n",
       "\u001b[0;31mFile:\u001b[0m      ~/mambaforge/lib/python3.9/inspect.py\n",
       "\u001b[0;31mType:\u001b[0m      method\n"
      ]
     },
     "metadata": {},
     "output_type": "display_data"
    }
   ],
   "source": [
    "inspect.Signature.from_callable??"
   ]
  },
  {
   "cell_type": "code",
   "execution_count": null,
   "id": "d10ff08b-cbc9-4532-959a-05f46f2fc704",
   "metadata": {},
   "outputs": [
    {
     "data": {
      "text/plain": [
       "\u001b[0;31mSignature:\u001b[0m\n",
       "\u001b[0minspect\u001b[0m\u001b[0;34m.\u001b[0m\u001b[0m_signature_from_callable\u001b[0m\u001b[0;34m(\u001b[0m\u001b[0;34m\u001b[0m\n",
       "\u001b[0;34m\u001b[0m    \u001b[0mobj\u001b[0m\u001b[0;34m,\u001b[0m\u001b[0;34m\u001b[0m\n",
       "\u001b[0;34m\u001b[0m    \u001b[0;34m*\u001b[0m\u001b[0;34m,\u001b[0m\u001b[0;34m\u001b[0m\n",
       "\u001b[0;34m\u001b[0m    \u001b[0mfollow_wrapper_chains\u001b[0m\u001b[0;34m=\u001b[0m\u001b[0;32mTrue\u001b[0m\u001b[0;34m,\u001b[0m\u001b[0;34m\u001b[0m\n",
       "\u001b[0;34m\u001b[0m    \u001b[0mskip_bound_arg\u001b[0m\u001b[0;34m=\u001b[0m\u001b[0;32mTrue\u001b[0m\u001b[0;34m,\u001b[0m\u001b[0;34m\u001b[0m\n",
       "\u001b[0;34m\u001b[0m    \u001b[0msigcls\u001b[0m\u001b[0;34m,\u001b[0m\u001b[0;34m\u001b[0m\n",
       "\u001b[0;34m\u001b[0m\u001b[0;34m)\u001b[0m\u001b[0;34m\u001b[0m\u001b[0;34m\u001b[0m\u001b[0m\n",
       "\u001b[0;31mSource:\u001b[0m   \n",
       "\u001b[0;32mdef\u001b[0m \u001b[0m_signature_from_callable\u001b[0m\u001b[0;34m(\u001b[0m\u001b[0mobj\u001b[0m\u001b[0;34m,\u001b[0m \u001b[0;34m*\u001b[0m\u001b[0;34m,\u001b[0m\u001b[0;34m\u001b[0m\n",
       "\u001b[0;34m\u001b[0m                             \u001b[0mfollow_wrapper_chains\u001b[0m\u001b[0;34m=\u001b[0m\u001b[0;32mTrue\u001b[0m\u001b[0;34m,\u001b[0m\u001b[0;34m\u001b[0m\n",
       "\u001b[0;34m\u001b[0m                             \u001b[0mskip_bound_arg\u001b[0m\u001b[0;34m=\u001b[0m\u001b[0;32mTrue\u001b[0m\u001b[0;34m,\u001b[0m\u001b[0;34m\u001b[0m\n",
       "\u001b[0;34m\u001b[0m                             \u001b[0msigcls\u001b[0m\u001b[0;34m)\u001b[0m\u001b[0;34m:\u001b[0m\u001b[0;34m\u001b[0m\n",
       "\u001b[0;34m\u001b[0m\u001b[0;34m\u001b[0m\n",
       "\u001b[0;34m\u001b[0m    \u001b[0;34m\"\"\"Private helper function to get signature for arbitrary\u001b[0m\n",
       "\u001b[0;34m    callable objects.\u001b[0m\n",
       "\u001b[0;34m    \"\"\"\u001b[0m\u001b[0;34m\u001b[0m\n",
       "\u001b[0;34m\u001b[0m\u001b[0;34m\u001b[0m\n",
       "\u001b[0;34m\u001b[0m    \u001b[0m_get_signature_of\u001b[0m \u001b[0;34m=\u001b[0m \u001b[0mfunctools\u001b[0m\u001b[0;34m.\u001b[0m\u001b[0mpartial\u001b[0m\u001b[0;34m(\u001b[0m\u001b[0m_signature_from_callable\u001b[0m\u001b[0;34m,\u001b[0m\u001b[0;34m\u001b[0m\n",
       "\u001b[0;34m\u001b[0m                                \u001b[0mfollow_wrapper_chains\u001b[0m\u001b[0;34m=\u001b[0m\u001b[0mfollow_wrapper_chains\u001b[0m\u001b[0;34m,\u001b[0m\u001b[0;34m\u001b[0m\n",
       "\u001b[0;34m\u001b[0m                                \u001b[0mskip_bound_arg\u001b[0m\u001b[0;34m=\u001b[0m\u001b[0mskip_bound_arg\u001b[0m\u001b[0;34m,\u001b[0m\u001b[0;34m\u001b[0m\n",
       "\u001b[0;34m\u001b[0m                                \u001b[0msigcls\u001b[0m\u001b[0;34m=\u001b[0m\u001b[0msigcls\u001b[0m\u001b[0;34m)\u001b[0m\u001b[0;34m\u001b[0m\n",
       "\u001b[0;34m\u001b[0m\u001b[0;34m\u001b[0m\n",
       "\u001b[0;34m\u001b[0m    \u001b[0;32mif\u001b[0m \u001b[0;32mnot\u001b[0m \u001b[0mcallable\u001b[0m\u001b[0;34m(\u001b[0m\u001b[0mobj\u001b[0m\u001b[0;34m)\u001b[0m\u001b[0;34m:\u001b[0m\u001b[0;34m\u001b[0m\n",
       "\u001b[0;34m\u001b[0m        \u001b[0;32mraise\u001b[0m \u001b[0mTypeError\u001b[0m\u001b[0;34m(\u001b[0m\u001b[0;34m'{!r} is not a callable object'\u001b[0m\u001b[0;34m.\u001b[0m\u001b[0mformat\u001b[0m\u001b[0;34m(\u001b[0m\u001b[0mobj\u001b[0m\u001b[0;34m)\u001b[0m\u001b[0;34m)\u001b[0m\u001b[0;34m\u001b[0m\n",
       "\u001b[0;34m\u001b[0m\u001b[0;34m\u001b[0m\n",
       "\u001b[0;34m\u001b[0m    \u001b[0;32mif\u001b[0m \u001b[0misinstance\u001b[0m\u001b[0;34m(\u001b[0m\u001b[0mobj\u001b[0m\u001b[0;34m,\u001b[0m \u001b[0mtypes\u001b[0m\u001b[0;34m.\u001b[0m\u001b[0mMethodType\u001b[0m\u001b[0;34m)\u001b[0m\u001b[0;34m:\u001b[0m\u001b[0;34m\u001b[0m\n",
       "\u001b[0;34m\u001b[0m        \u001b[0;31m# In this case we skip the first parameter of the underlying\u001b[0m\u001b[0;34m\u001b[0m\n",
       "\u001b[0;34m\u001b[0m        \u001b[0;31m# function (usually `self` or `cls`).\u001b[0m\u001b[0;34m\u001b[0m\n",
       "\u001b[0;34m\u001b[0m        \u001b[0msig\u001b[0m \u001b[0;34m=\u001b[0m \u001b[0m_get_signature_of\u001b[0m\u001b[0;34m(\u001b[0m\u001b[0mobj\u001b[0m\u001b[0;34m.\u001b[0m\u001b[0m__func__\u001b[0m\u001b[0;34m)\u001b[0m\u001b[0;34m\u001b[0m\n",
       "\u001b[0;34m\u001b[0m\u001b[0;34m\u001b[0m\n",
       "\u001b[0;34m\u001b[0m        \u001b[0;32mif\u001b[0m \u001b[0mskip_bound_arg\u001b[0m\u001b[0;34m:\u001b[0m\u001b[0;34m\u001b[0m\n",
       "\u001b[0;34m\u001b[0m            \u001b[0;32mreturn\u001b[0m \u001b[0m_signature_bound_method\u001b[0m\u001b[0;34m(\u001b[0m\u001b[0msig\u001b[0m\u001b[0;34m)\u001b[0m\u001b[0;34m\u001b[0m\n",
       "\u001b[0;34m\u001b[0m        \u001b[0;32melse\u001b[0m\u001b[0;34m:\u001b[0m\u001b[0;34m\u001b[0m\n",
       "\u001b[0;34m\u001b[0m            \u001b[0;32mreturn\u001b[0m \u001b[0msig\u001b[0m\u001b[0;34m\u001b[0m\n",
       "\u001b[0;34m\u001b[0m\u001b[0;34m\u001b[0m\n",
       "\u001b[0;34m\u001b[0m    \u001b[0;31m# Was this function wrapped by a decorator?\u001b[0m\u001b[0;34m\u001b[0m\n",
       "\u001b[0;34m\u001b[0m    \u001b[0;32mif\u001b[0m \u001b[0mfollow_wrapper_chains\u001b[0m\u001b[0;34m:\u001b[0m\u001b[0;34m\u001b[0m\n",
       "\u001b[0;34m\u001b[0m        \u001b[0mobj\u001b[0m \u001b[0;34m=\u001b[0m \u001b[0munwrap\u001b[0m\u001b[0;34m(\u001b[0m\u001b[0mobj\u001b[0m\u001b[0;34m,\u001b[0m \u001b[0mstop\u001b[0m\u001b[0;34m=\u001b[0m\u001b[0;34m(\u001b[0m\u001b[0;32mlambda\u001b[0m \u001b[0mf\u001b[0m\u001b[0;34m:\u001b[0m \u001b[0mhasattr\u001b[0m\u001b[0;34m(\u001b[0m\u001b[0mf\u001b[0m\u001b[0;34m,\u001b[0m \u001b[0;34m\"__signature__\"\u001b[0m\u001b[0;34m)\u001b[0m\u001b[0;34m)\u001b[0m\u001b[0;34m)\u001b[0m\u001b[0;34m\u001b[0m\n",
       "\u001b[0;34m\u001b[0m        \u001b[0;32mif\u001b[0m \u001b[0misinstance\u001b[0m\u001b[0;34m(\u001b[0m\u001b[0mobj\u001b[0m\u001b[0;34m,\u001b[0m \u001b[0mtypes\u001b[0m\u001b[0;34m.\u001b[0m\u001b[0mMethodType\u001b[0m\u001b[0;34m)\u001b[0m\u001b[0;34m:\u001b[0m\u001b[0;34m\u001b[0m\n",
       "\u001b[0;34m\u001b[0m            \u001b[0;31m# If the unwrapped object is a *method*, we might want to\u001b[0m\u001b[0;34m\u001b[0m\n",
       "\u001b[0;34m\u001b[0m            \u001b[0;31m# skip its first parameter (self).\u001b[0m\u001b[0;34m\u001b[0m\n",
       "\u001b[0;34m\u001b[0m            \u001b[0;31m# See test_signature_wrapped_bound_method for details.\u001b[0m\u001b[0;34m\u001b[0m\n",
       "\u001b[0;34m\u001b[0m            \u001b[0;32mreturn\u001b[0m \u001b[0m_get_signature_of\u001b[0m\u001b[0;34m(\u001b[0m\u001b[0mobj\u001b[0m\u001b[0;34m)\u001b[0m\u001b[0;34m\u001b[0m\n",
       "\u001b[0;34m\u001b[0m\u001b[0;34m\u001b[0m\n",
       "\u001b[0;34m\u001b[0m    \u001b[0;32mtry\u001b[0m\u001b[0;34m:\u001b[0m\u001b[0;34m\u001b[0m\n",
       "\u001b[0;34m\u001b[0m        \u001b[0msig\u001b[0m \u001b[0;34m=\u001b[0m \u001b[0mobj\u001b[0m\u001b[0;34m.\u001b[0m\u001b[0m__signature__\u001b[0m\u001b[0;34m\u001b[0m\n",
       "\u001b[0;34m\u001b[0m    \u001b[0;32mexcept\u001b[0m \u001b[0mAttributeError\u001b[0m\u001b[0;34m:\u001b[0m\u001b[0;34m\u001b[0m\n",
       "\u001b[0;34m\u001b[0m        \u001b[0;32mpass\u001b[0m\u001b[0;34m\u001b[0m\n",
       "\u001b[0;34m\u001b[0m    \u001b[0;32melse\u001b[0m\u001b[0;34m:\u001b[0m\u001b[0;34m\u001b[0m\n",
       "\u001b[0;34m\u001b[0m        \u001b[0;32mif\u001b[0m \u001b[0msig\u001b[0m \u001b[0;32mis\u001b[0m \u001b[0;32mnot\u001b[0m \u001b[0;32mNone\u001b[0m\u001b[0;34m:\u001b[0m\u001b[0;34m\u001b[0m\n",
       "\u001b[0;34m\u001b[0m            \u001b[0;32mif\u001b[0m \u001b[0;32mnot\u001b[0m \u001b[0misinstance\u001b[0m\u001b[0;34m(\u001b[0m\u001b[0msig\u001b[0m\u001b[0;34m,\u001b[0m \u001b[0mSignature\u001b[0m\u001b[0;34m)\u001b[0m\u001b[0;34m:\u001b[0m\u001b[0;34m\u001b[0m\n",
       "\u001b[0;34m\u001b[0m                \u001b[0;32mraise\u001b[0m \u001b[0mTypeError\u001b[0m\u001b[0;34m(\u001b[0m\u001b[0;34m\u001b[0m\n",
       "\u001b[0;34m\u001b[0m                    \u001b[0;34m'unexpected object {!r} in __signature__ '\u001b[0m\u001b[0;34m\u001b[0m\n",
       "\u001b[0;34m\u001b[0m                    \u001b[0;34m'attribute'\u001b[0m\u001b[0;34m.\u001b[0m\u001b[0mformat\u001b[0m\u001b[0;34m(\u001b[0m\u001b[0msig\u001b[0m\u001b[0;34m)\u001b[0m\u001b[0;34m)\u001b[0m\u001b[0;34m\u001b[0m\n",
       "\u001b[0;34m\u001b[0m            \u001b[0;32mreturn\u001b[0m \u001b[0msig\u001b[0m\u001b[0;34m\u001b[0m\n",
       "\u001b[0;34m\u001b[0m\u001b[0;34m\u001b[0m\n",
       "\u001b[0;34m\u001b[0m    \u001b[0;32mtry\u001b[0m\u001b[0;34m:\u001b[0m\u001b[0;34m\u001b[0m\n",
       "\u001b[0;34m\u001b[0m        \u001b[0mpartialmethod\u001b[0m \u001b[0;34m=\u001b[0m \u001b[0mobj\u001b[0m\u001b[0;34m.\u001b[0m\u001b[0m_partialmethod\u001b[0m\u001b[0;34m\u001b[0m\n",
       "\u001b[0;34m\u001b[0m    \u001b[0;32mexcept\u001b[0m \u001b[0mAttributeError\u001b[0m\u001b[0;34m:\u001b[0m\u001b[0;34m\u001b[0m\n",
       "\u001b[0;34m\u001b[0m        \u001b[0;32mpass\u001b[0m\u001b[0;34m\u001b[0m\n",
       "\u001b[0;34m\u001b[0m    \u001b[0;32melse\u001b[0m\u001b[0;34m:\u001b[0m\u001b[0;34m\u001b[0m\n",
       "\u001b[0;34m\u001b[0m        \u001b[0;32mif\u001b[0m \u001b[0misinstance\u001b[0m\u001b[0;34m(\u001b[0m\u001b[0mpartialmethod\u001b[0m\u001b[0;34m,\u001b[0m \u001b[0mfunctools\u001b[0m\u001b[0;34m.\u001b[0m\u001b[0mpartialmethod\u001b[0m\u001b[0;34m)\u001b[0m\u001b[0;34m:\u001b[0m\u001b[0;34m\u001b[0m\n",
       "\u001b[0;34m\u001b[0m            \u001b[0;31m# Unbound partialmethod (see functools.partialmethod)\u001b[0m\u001b[0;34m\u001b[0m\n",
       "\u001b[0;34m\u001b[0m            \u001b[0;31m# This means, that we need to calculate the signature\u001b[0m\u001b[0;34m\u001b[0m\n",
       "\u001b[0;34m\u001b[0m            \u001b[0;31m# as if it's a regular partial object, but taking into\u001b[0m\u001b[0;34m\u001b[0m\n",
       "\u001b[0;34m\u001b[0m            \u001b[0;31m# account that the first positional argument\u001b[0m\u001b[0;34m\u001b[0m\n",
       "\u001b[0;34m\u001b[0m            \u001b[0;31m# (usually `self`, or `cls`) will not be passed\u001b[0m\u001b[0;34m\u001b[0m\n",
       "\u001b[0;34m\u001b[0m            \u001b[0;31m# automatically (as for boundmethods)\u001b[0m\u001b[0;34m\u001b[0m\n",
       "\u001b[0;34m\u001b[0m\u001b[0;34m\u001b[0m\n",
       "\u001b[0;34m\u001b[0m            \u001b[0mwrapped_sig\u001b[0m \u001b[0;34m=\u001b[0m \u001b[0m_get_signature_of\u001b[0m\u001b[0;34m(\u001b[0m\u001b[0mpartialmethod\u001b[0m\u001b[0;34m.\u001b[0m\u001b[0mfunc\u001b[0m\u001b[0;34m)\u001b[0m\u001b[0;34m\u001b[0m\n",
       "\u001b[0;34m\u001b[0m\u001b[0;34m\u001b[0m\n",
       "\u001b[0;34m\u001b[0m            \u001b[0msig\u001b[0m \u001b[0;34m=\u001b[0m \u001b[0m_signature_get_partial\u001b[0m\u001b[0;34m(\u001b[0m\u001b[0mwrapped_sig\u001b[0m\u001b[0;34m,\u001b[0m \u001b[0mpartialmethod\u001b[0m\u001b[0;34m,\u001b[0m \u001b[0;34m(\u001b[0m\u001b[0;32mNone\u001b[0m\u001b[0;34m,\u001b[0m\u001b[0;34m)\u001b[0m\u001b[0;34m)\u001b[0m\u001b[0;34m\u001b[0m\n",
       "\u001b[0;34m\u001b[0m            \u001b[0mfirst_wrapped_param\u001b[0m \u001b[0;34m=\u001b[0m \u001b[0mtuple\u001b[0m\u001b[0;34m(\u001b[0m\u001b[0mwrapped_sig\u001b[0m\u001b[0;34m.\u001b[0m\u001b[0mparameters\u001b[0m\u001b[0;34m.\u001b[0m\u001b[0mvalues\u001b[0m\u001b[0;34m(\u001b[0m\u001b[0;34m)\u001b[0m\u001b[0;34m)\u001b[0m\u001b[0;34m[\u001b[0m\u001b[0;36m0\u001b[0m\u001b[0;34m]\u001b[0m\u001b[0;34m\u001b[0m\n",
       "\u001b[0;34m\u001b[0m            \u001b[0;32mif\u001b[0m \u001b[0mfirst_wrapped_param\u001b[0m\u001b[0;34m.\u001b[0m\u001b[0mkind\u001b[0m \u001b[0;32mis\u001b[0m \u001b[0mParameter\u001b[0m\u001b[0;34m.\u001b[0m\u001b[0mVAR_POSITIONAL\u001b[0m\u001b[0;34m:\u001b[0m\u001b[0;34m\u001b[0m\n",
       "\u001b[0;34m\u001b[0m                \u001b[0;31m# First argument of the wrapped callable is `*args`, as in\u001b[0m\u001b[0;34m\u001b[0m\n",
       "\u001b[0;34m\u001b[0m                \u001b[0;31m# `partialmethod(lambda *args)`.\u001b[0m\u001b[0;34m\u001b[0m\n",
       "\u001b[0;34m\u001b[0m                \u001b[0;32mreturn\u001b[0m \u001b[0msig\u001b[0m\u001b[0;34m\u001b[0m\n",
       "\u001b[0;34m\u001b[0m            \u001b[0;32melse\u001b[0m\u001b[0;34m:\u001b[0m\u001b[0;34m\u001b[0m\n",
       "\u001b[0;34m\u001b[0m                \u001b[0msig_params\u001b[0m \u001b[0;34m=\u001b[0m \u001b[0mtuple\u001b[0m\u001b[0;34m(\u001b[0m\u001b[0msig\u001b[0m\u001b[0;34m.\u001b[0m\u001b[0mparameters\u001b[0m\u001b[0;34m.\u001b[0m\u001b[0mvalues\u001b[0m\u001b[0;34m(\u001b[0m\u001b[0;34m)\u001b[0m\u001b[0;34m)\u001b[0m\u001b[0;34m\u001b[0m\n",
       "\u001b[0;34m\u001b[0m                \u001b[0;32massert\u001b[0m \u001b[0;34m(\u001b[0m\u001b[0;32mnot\u001b[0m \u001b[0msig_params\u001b[0m \u001b[0;32mor\u001b[0m\u001b[0;34m\u001b[0m\n",
       "\u001b[0;34m\u001b[0m                        \u001b[0mfirst_wrapped_param\u001b[0m \u001b[0;32mis\u001b[0m \u001b[0;32mnot\u001b[0m \u001b[0msig_params\u001b[0m\u001b[0;34m[\u001b[0m\u001b[0;36m0\u001b[0m\u001b[0;34m]\u001b[0m\u001b[0;34m)\u001b[0m\u001b[0;34m\u001b[0m\n",
       "\u001b[0;34m\u001b[0m                \u001b[0mnew_params\u001b[0m \u001b[0;34m=\u001b[0m \u001b[0;34m(\u001b[0m\u001b[0mfirst_wrapped_param\u001b[0m\u001b[0;34m,\u001b[0m\u001b[0;34m)\u001b[0m \u001b[0;34m+\u001b[0m \u001b[0msig_params\u001b[0m\u001b[0;34m\u001b[0m\n",
       "\u001b[0;34m\u001b[0m                \u001b[0;32mreturn\u001b[0m \u001b[0msig\u001b[0m\u001b[0;34m.\u001b[0m\u001b[0mreplace\u001b[0m\u001b[0;34m(\u001b[0m\u001b[0mparameters\u001b[0m\u001b[0;34m=\u001b[0m\u001b[0mnew_params\u001b[0m\u001b[0;34m)\u001b[0m\u001b[0;34m\u001b[0m\n",
       "\u001b[0;34m\u001b[0m\u001b[0;34m\u001b[0m\n",
       "\u001b[0;34m\u001b[0m    \u001b[0;32mif\u001b[0m \u001b[0misfunction\u001b[0m\u001b[0;34m(\u001b[0m\u001b[0mobj\u001b[0m\u001b[0;34m)\u001b[0m \u001b[0;32mor\u001b[0m \u001b[0m_signature_is_functionlike\u001b[0m\u001b[0;34m(\u001b[0m\u001b[0mobj\u001b[0m\u001b[0;34m)\u001b[0m\u001b[0;34m:\u001b[0m\u001b[0;34m\u001b[0m\n",
       "\u001b[0;34m\u001b[0m        \u001b[0;31m# If it's a pure Python function, or an object that is duck type\u001b[0m\u001b[0;34m\u001b[0m\n",
       "\u001b[0;34m\u001b[0m        \u001b[0;31m# of a Python function (Cython functions, for instance), then:\u001b[0m\u001b[0;34m\u001b[0m\n",
       "\u001b[0;34m\u001b[0m        \u001b[0;32mreturn\u001b[0m \u001b[0m_signature_from_function\u001b[0m\u001b[0;34m(\u001b[0m\u001b[0msigcls\u001b[0m\u001b[0;34m,\u001b[0m \u001b[0mobj\u001b[0m\u001b[0;34m,\u001b[0m\u001b[0;34m\u001b[0m\n",
       "\u001b[0;34m\u001b[0m                                        \u001b[0mskip_bound_arg\u001b[0m\u001b[0;34m=\u001b[0m\u001b[0mskip_bound_arg\u001b[0m\u001b[0;34m)\u001b[0m\u001b[0;34m\u001b[0m\n",
       "\u001b[0;34m\u001b[0m\u001b[0;34m\u001b[0m\n",
       "\u001b[0;34m\u001b[0m    \u001b[0;32mif\u001b[0m \u001b[0m_signature_is_builtin\u001b[0m\u001b[0;34m(\u001b[0m\u001b[0mobj\u001b[0m\u001b[0;34m)\u001b[0m\u001b[0;34m:\u001b[0m\u001b[0;34m\u001b[0m\n",
       "\u001b[0;34m\u001b[0m        \u001b[0;32mreturn\u001b[0m \u001b[0m_signature_from_builtin\u001b[0m\u001b[0;34m(\u001b[0m\u001b[0msigcls\u001b[0m\u001b[0;34m,\u001b[0m \u001b[0mobj\u001b[0m\u001b[0;34m,\u001b[0m\u001b[0;34m\u001b[0m\n",
       "\u001b[0;34m\u001b[0m                                       \u001b[0mskip_bound_arg\u001b[0m\u001b[0;34m=\u001b[0m\u001b[0mskip_bound_arg\u001b[0m\u001b[0;34m)\u001b[0m\u001b[0;34m\u001b[0m\n",
       "\u001b[0;34m\u001b[0m\u001b[0;34m\u001b[0m\n",
       "\u001b[0;34m\u001b[0m    \u001b[0;32mif\u001b[0m \u001b[0misinstance\u001b[0m\u001b[0;34m(\u001b[0m\u001b[0mobj\u001b[0m\u001b[0;34m,\u001b[0m \u001b[0mfunctools\u001b[0m\u001b[0;34m.\u001b[0m\u001b[0mpartial\u001b[0m\u001b[0;34m)\u001b[0m\u001b[0;34m:\u001b[0m\u001b[0;34m\u001b[0m\n",
       "\u001b[0;34m\u001b[0m        \u001b[0mwrapped_sig\u001b[0m \u001b[0;34m=\u001b[0m \u001b[0m_get_signature_of\u001b[0m\u001b[0;34m(\u001b[0m\u001b[0mobj\u001b[0m\u001b[0;34m.\u001b[0m\u001b[0mfunc\u001b[0m\u001b[0;34m)\u001b[0m\u001b[0;34m\u001b[0m\n",
       "\u001b[0;34m\u001b[0m        \u001b[0;32mreturn\u001b[0m \u001b[0m_signature_get_partial\u001b[0m\u001b[0;34m(\u001b[0m\u001b[0mwrapped_sig\u001b[0m\u001b[0;34m,\u001b[0m \u001b[0mobj\u001b[0m\u001b[0;34m)\u001b[0m\u001b[0;34m\u001b[0m\n",
       "\u001b[0;34m\u001b[0m\u001b[0;34m\u001b[0m\n",
       "\u001b[0;34m\u001b[0m    \u001b[0msig\u001b[0m \u001b[0;34m=\u001b[0m \u001b[0;32mNone\u001b[0m\u001b[0;34m\u001b[0m\n",
       "\u001b[0;34m\u001b[0m    \u001b[0;32mif\u001b[0m \u001b[0misinstance\u001b[0m\u001b[0;34m(\u001b[0m\u001b[0mobj\u001b[0m\u001b[0;34m,\u001b[0m \u001b[0mtype\u001b[0m\u001b[0;34m)\u001b[0m\u001b[0;34m:\u001b[0m\u001b[0;34m\u001b[0m\n",
       "\u001b[0;34m\u001b[0m        \u001b[0;31m# obj is a class or a metaclass\u001b[0m\u001b[0;34m\u001b[0m\n",
       "\u001b[0;34m\u001b[0m\u001b[0;34m\u001b[0m\n",
       "\u001b[0;34m\u001b[0m        \u001b[0;31m# First, let's see if it has an overloaded __call__ defined\u001b[0m\u001b[0;34m\u001b[0m\n",
       "\u001b[0;34m\u001b[0m        \u001b[0;31m# in its metaclass\u001b[0m\u001b[0;34m\u001b[0m\n",
       "\u001b[0;34m\u001b[0m        \u001b[0mcall\u001b[0m \u001b[0;34m=\u001b[0m \u001b[0m_signature_get_user_defined_method\u001b[0m\u001b[0;34m(\u001b[0m\u001b[0mtype\u001b[0m\u001b[0;34m(\u001b[0m\u001b[0mobj\u001b[0m\u001b[0;34m)\u001b[0m\u001b[0;34m,\u001b[0m \u001b[0;34m'__call__'\u001b[0m\u001b[0;34m)\u001b[0m\u001b[0;34m\u001b[0m\n",
       "\u001b[0;34m\u001b[0m        \u001b[0;32mif\u001b[0m \u001b[0mcall\u001b[0m \u001b[0;32mis\u001b[0m \u001b[0;32mnot\u001b[0m \u001b[0;32mNone\u001b[0m\u001b[0;34m:\u001b[0m\u001b[0;34m\u001b[0m\n",
       "\u001b[0;34m\u001b[0m            \u001b[0msig\u001b[0m \u001b[0;34m=\u001b[0m \u001b[0m_get_signature_of\u001b[0m\u001b[0;34m(\u001b[0m\u001b[0mcall\u001b[0m\u001b[0;34m)\u001b[0m\u001b[0;34m\u001b[0m\n",
       "\u001b[0;34m\u001b[0m        \u001b[0;32melse\u001b[0m\u001b[0;34m:\u001b[0m\u001b[0;34m\u001b[0m\n",
       "\u001b[0;34m\u001b[0m            \u001b[0mfactory_method\u001b[0m \u001b[0;34m=\u001b[0m \u001b[0;32mNone\u001b[0m\u001b[0;34m\u001b[0m\n",
       "\u001b[0;34m\u001b[0m            \u001b[0mnew\u001b[0m \u001b[0;34m=\u001b[0m \u001b[0m_signature_get_user_defined_method\u001b[0m\u001b[0;34m(\u001b[0m\u001b[0mobj\u001b[0m\u001b[0;34m,\u001b[0m \u001b[0;34m'__new__'\u001b[0m\u001b[0;34m)\u001b[0m\u001b[0;34m\u001b[0m\n",
       "\u001b[0;34m\u001b[0m            \u001b[0minit\u001b[0m \u001b[0;34m=\u001b[0m \u001b[0m_signature_get_user_defined_method\u001b[0m\u001b[0;34m(\u001b[0m\u001b[0mobj\u001b[0m\u001b[0;34m,\u001b[0m \u001b[0;34m'__init__'\u001b[0m\u001b[0;34m)\u001b[0m\u001b[0;34m\u001b[0m\n",
       "\u001b[0;34m\u001b[0m            \u001b[0;31m# Now we check if the 'obj' class has an own '__new__' method\u001b[0m\u001b[0;34m\u001b[0m\n",
       "\u001b[0;34m\u001b[0m            \u001b[0;32mif\u001b[0m \u001b[0;34m'__new__'\u001b[0m \u001b[0;32min\u001b[0m \u001b[0mobj\u001b[0m\u001b[0;34m.\u001b[0m\u001b[0m__dict__\u001b[0m\u001b[0;34m:\u001b[0m\u001b[0;34m\u001b[0m\n",
       "\u001b[0;34m\u001b[0m                \u001b[0mfactory_method\u001b[0m \u001b[0;34m=\u001b[0m \u001b[0mnew\u001b[0m\u001b[0;34m\u001b[0m\n",
       "\u001b[0;34m\u001b[0m            \u001b[0;31m# or an own '__init__' method\u001b[0m\u001b[0;34m\u001b[0m\n",
       "\u001b[0;34m\u001b[0m            \u001b[0;32melif\u001b[0m \u001b[0;34m'__init__'\u001b[0m \u001b[0;32min\u001b[0m \u001b[0mobj\u001b[0m\u001b[0;34m.\u001b[0m\u001b[0m__dict__\u001b[0m\u001b[0;34m:\u001b[0m\u001b[0;34m\u001b[0m\n",
       "\u001b[0;34m\u001b[0m                \u001b[0mfactory_method\u001b[0m \u001b[0;34m=\u001b[0m \u001b[0minit\u001b[0m\u001b[0;34m\u001b[0m\n",
       "\u001b[0;34m\u001b[0m            \u001b[0;31m# If not, we take inherited '__new__' or '__init__', if present\u001b[0m\u001b[0;34m\u001b[0m\n",
       "\u001b[0;34m\u001b[0m            \u001b[0;32melif\u001b[0m \u001b[0mnew\u001b[0m \u001b[0;32mis\u001b[0m \u001b[0;32mnot\u001b[0m \u001b[0;32mNone\u001b[0m\u001b[0;34m:\u001b[0m\u001b[0;34m\u001b[0m\n",
       "\u001b[0;34m\u001b[0m                \u001b[0mfactory_method\u001b[0m \u001b[0;34m=\u001b[0m \u001b[0mnew\u001b[0m\u001b[0;34m\u001b[0m\n",
       "\u001b[0;34m\u001b[0m            \u001b[0;32melif\u001b[0m \u001b[0minit\u001b[0m \u001b[0;32mis\u001b[0m \u001b[0;32mnot\u001b[0m \u001b[0;32mNone\u001b[0m\u001b[0;34m:\u001b[0m\u001b[0;34m\u001b[0m\n",
       "\u001b[0;34m\u001b[0m                \u001b[0mfactory_method\u001b[0m \u001b[0;34m=\u001b[0m \u001b[0minit\u001b[0m\u001b[0;34m\u001b[0m\n",
       "\u001b[0;34m\u001b[0m\u001b[0;34m\u001b[0m\n",
       "\u001b[0;34m\u001b[0m            \u001b[0;32mif\u001b[0m \u001b[0mfactory_method\u001b[0m \u001b[0;32mis\u001b[0m \u001b[0;32mnot\u001b[0m \u001b[0;32mNone\u001b[0m\u001b[0;34m:\u001b[0m\u001b[0;34m\u001b[0m\n",
       "\u001b[0;34m\u001b[0m                \u001b[0msig\u001b[0m \u001b[0;34m=\u001b[0m \u001b[0m_get_signature_of\u001b[0m\u001b[0;34m(\u001b[0m\u001b[0mfactory_method\u001b[0m\u001b[0;34m)\u001b[0m\u001b[0;34m\u001b[0m\n",
       "\u001b[0;34m\u001b[0m\u001b[0;34m\u001b[0m\n",
       "\u001b[0;34m\u001b[0m        \u001b[0;32mif\u001b[0m \u001b[0msig\u001b[0m \u001b[0;32mis\u001b[0m \u001b[0;32mNone\u001b[0m\u001b[0;34m:\u001b[0m\u001b[0;34m\u001b[0m\n",
       "\u001b[0;34m\u001b[0m            \u001b[0;31m# At this point we know, that `obj` is a class, with no user-\u001b[0m\u001b[0;34m\u001b[0m\n",
       "\u001b[0;34m\u001b[0m            \u001b[0;31m# defined '__init__', '__new__', or class-level '__call__'\u001b[0m\u001b[0;34m\u001b[0m\n",
       "\u001b[0;34m\u001b[0m\u001b[0;34m\u001b[0m\n",
       "\u001b[0;34m\u001b[0m            \u001b[0;32mfor\u001b[0m \u001b[0mbase\u001b[0m \u001b[0;32min\u001b[0m \u001b[0mobj\u001b[0m\u001b[0;34m.\u001b[0m\u001b[0m__mro__\u001b[0m\u001b[0;34m[\u001b[0m\u001b[0;34m:\u001b[0m\u001b[0;34m-\u001b[0m\u001b[0;36m1\u001b[0m\u001b[0;34m]\u001b[0m\u001b[0;34m:\u001b[0m\u001b[0;34m\u001b[0m\n",
       "\u001b[0;34m\u001b[0m                \u001b[0;31m# Since '__text_signature__' is implemented as a\u001b[0m\u001b[0;34m\u001b[0m\n",
       "\u001b[0;34m\u001b[0m                \u001b[0;31m# descriptor that extracts text signature from the\u001b[0m\u001b[0;34m\u001b[0m\n",
       "\u001b[0;34m\u001b[0m                \u001b[0;31m# class docstring, if 'obj' is derived from a builtin\u001b[0m\u001b[0;34m\u001b[0m\n",
       "\u001b[0;34m\u001b[0m                \u001b[0;31m# class, its own '__text_signature__' may be 'None'.\u001b[0m\u001b[0;34m\u001b[0m\n",
       "\u001b[0;34m\u001b[0m                \u001b[0;31m# Therefore, we go through the MRO (except the last\u001b[0m\u001b[0;34m\u001b[0m\n",
       "\u001b[0;34m\u001b[0m                \u001b[0;31m# class in there, which is 'object') to find the first\u001b[0m\u001b[0;34m\u001b[0m\n",
       "\u001b[0;34m\u001b[0m                \u001b[0;31m# class with non-empty text signature.\u001b[0m\u001b[0;34m\u001b[0m\n",
       "\u001b[0;34m\u001b[0m                \u001b[0;32mtry\u001b[0m\u001b[0;34m:\u001b[0m\u001b[0;34m\u001b[0m\n",
       "\u001b[0;34m\u001b[0m                    \u001b[0mtext_sig\u001b[0m \u001b[0;34m=\u001b[0m \u001b[0mbase\u001b[0m\u001b[0;34m.\u001b[0m\u001b[0m__text_signature__\u001b[0m\u001b[0;34m\u001b[0m\n",
       "\u001b[0;34m\u001b[0m                \u001b[0;32mexcept\u001b[0m \u001b[0mAttributeError\u001b[0m\u001b[0;34m:\u001b[0m\u001b[0;34m\u001b[0m\n",
       "\u001b[0;34m\u001b[0m                    \u001b[0;32mpass\u001b[0m\u001b[0;34m\u001b[0m\n",
       "\u001b[0;34m\u001b[0m                \u001b[0;32melse\u001b[0m\u001b[0;34m:\u001b[0m\u001b[0;34m\u001b[0m\n",
       "\u001b[0;34m\u001b[0m                    \u001b[0;32mif\u001b[0m \u001b[0mtext_sig\u001b[0m\u001b[0;34m:\u001b[0m\u001b[0;34m\u001b[0m\n",
       "\u001b[0;34m\u001b[0m                        \u001b[0;31m# If 'base' class has a __text_signature__ attribute:\u001b[0m\u001b[0;34m\u001b[0m\n",
       "\u001b[0;34m\u001b[0m                        \u001b[0;31m# return a signature based on it\u001b[0m\u001b[0;34m\u001b[0m\n",
       "\u001b[0;34m\u001b[0m                        \u001b[0;32mreturn\u001b[0m \u001b[0m_signature_fromstr\u001b[0m\u001b[0;34m(\u001b[0m\u001b[0msigcls\u001b[0m\u001b[0;34m,\u001b[0m \u001b[0mbase\u001b[0m\u001b[0;34m,\u001b[0m \u001b[0mtext_sig\u001b[0m\u001b[0;34m)\u001b[0m\u001b[0;34m\u001b[0m\n",
       "\u001b[0;34m\u001b[0m\u001b[0;34m\u001b[0m\n",
       "\u001b[0;34m\u001b[0m            \u001b[0;31m# No '__text_signature__' was found for the 'obj' class.\u001b[0m\u001b[0;34m\u001b[0m\n",
       "\u001b[0;34m\u001b[0m            \u001b[0;31m# Last option is to check if its '__init__' is\u001b[0m\u001b[0;34m\u001b[0m\n",
       "\u001b[0;34m\u001b[0m            \u001b[0;31m# object.__init__ or type.__init__.\u001b[0m\u001b[0;34m\u001b[0m\n",
       "\u001b[0;34m\u001b[0m            \u001b[0;32mif\u001b[0m \u001b[0mtype\u001b[0m \u001b[0;32mnot\u001b[0m \u001b[0;32min\u001b[0m \u001b[0mobj\u001b[0m\u001b[0;34m.\u001b[0m\u001b[0m__mro__\u001b[0m\u001b[0;34m:\u001b[0m\u001b[0;34m\u001b[0m\n",
       "\u001b[0;34m\u001b[0m                \u001b[0;31m# We have a class (not metaclass), but no user-defined\u001b[0m\u001b[0;34m\u001b[0m\n",
       "\u001b[0;34m\u001b[0m                \u001b[0;31m# __init__ or __new__ for it\u001b[0m\u001b[0;34m\u001b[0m\n",
       "\u001b[0;34m\u001b[0m                \u001b[0;32mif\u001b[0m \u001b[0;34m(\u001b[0m\u001b[0mobj\u001b[0m\u001b[0;34m.\u001b[0m\u001b[0m__init__\u001b[0m \u001b[0;32mis\u001b[0m \u001b[0mobject\u001b[0m\u001b[0;34m.\u001b[0m\u001b[0m__init__\u001b[0m \u001b[0;32mand\u001b[0m\u001b[0;34m\u001b[0m\n",
       "\u001b[0;34m\u001b[0m                    \u001b[0mobj\u001b[0m\u001b[0;34m.\u001b[0m\u001b[0m__new__\u001b[0m \u001b[0;32mis\u001b[0m \u001b[0mobject\u001b[0m\u001b[0;34m.\u001b[0m\u001b[0m__new__\u001b[0m\u001b[0;34m)\u001b[0m\u001b[0;34m:\u001b[0m\u001b[0;34m\u001b[0m\n",
       "\u001b[0;34m\u001b[0m                    \u001b[0;31m# Return a signature of 'object' builtin.\u001b[0m\u001b[0;34m\u001b[0m\n",
       "\u001b[0;34m\u001b[0m                    \u001b[0;32mreturn\u001b[0m \u001b[0msigcls\u001b[0m\u001b[0;34m.\u001b[0m\u001b[0mfrom_callable\u001b[0m\u001b[0;34m(\u001b[0m\u001b[0mobject\u001b[0m\u001b[0;34m)\u001b[0m\u001b[0;34m\u001b[0m\n",
       "\u001b[0;34m\u001b[0m                \u001b[0;32melse\u001b[0m\u001b[0;34m:\u001b[0m\u001b[0;34m\u001b[0m\n",
       "\u001b[0;34m\u001b[0m                    \u001b[0;32mraise\u001b[0m \u001b[0mValueError\u001b[0m\u001b[0;34m(\u001b[0m\u001b[0;34m\u001b[0m\n",
       "\u001b[0;34m\u001b[0m                        \u001b[0;34m'no signature found for builtin type {!r}'\u001b[0m\u001b[0;34m.\u001b[0m\u001b[0mformat\u001b[0m\u001b[0;34m(\u001b[0m\u001b[0mobj\u001b[0m\u001b[0;34m)\u001b[0m\u001b[0;34m)\u001b[0m\u001b[0;34m\u001b[0m\n",
       "\u001b[0;34m\u001b[0m\u001b[0;34m\u001b[0m\n",
       "\u001b[0;34m\u001b[0m    \u001b[0;32melif\u001b[0m \u001b[0;32mnot\u001b[0m \u001b[0misinstance\u001b[0m\u001b[0;34m(\u001b[0m\u001b[0mobj\u001b[0m\u001b[0;34m,\u001b[0m \u001b[0m_NonUserDefinedCallables\u001b[0m\u001b[0;34m)\u001b[0m\u001b[0;34m:\u001b[0m\u001b[0;34m\u001b[0m\n",
       "\u001b[0;34m\u001b[0m        \u001b[0;31m# An object with __call__\u001b[0m\u001b[0;34m\u001b[0m\n",
       "\u001b[0;34m\u001b[0m        \u001b[0;31m# We also check that the 'obj' is not an instance of\u001b[0m\u001b[0;34m\u001b[0m\n",
       "\u001b[0;34m\u001b[0m        \u001b[0;31m# _WrapperDescriptor or _MethodWrapper to avoid\u001b[0m\u001b[0;34m\u001b[0m\n",
       "\u001b[0;34m\u001b[0m        \u001b[0;31m# infinite recursion (and even potential segfault)\u001b[0m\u001b[0;34m\u001b[0m\n",
       "\u001b[0;34m\u001b[0m        \u001b[0mcall\u001b[0m \u001b[0;34m=\u001b[0m \u001b[0m_signature_get_user_defined_method\u001b[0m\u001b[0;34m(\u001b[0m\u001b[0mtype\u001b[0m\u001b[0;34m(\u001b[0m\u001b[0mobj\u001b[0m\u001b[0;34m)\u001b[0m\u001b[0;34m,\u001b[0m \u001b[0;34m'__call__'\u001b[0m\u001b[0;34m)\u001b[0m\u001b[0;34m\u001b[0m\n",
       "\u001b[0;34m\u001b[0m        \u001b[0;32mif\u001b[0m \u001b[0mcall\u001b[0m \u001b[0;32mis\u001b[0m \u001b[0;32mnot\u001b[0m \u001b[0;32mNone\u001b[0m\u001b[0;34m:\u001b[0m\u001b[0;34m\u001b[0m\n",
       "\u001b[0;34m\u001b[0m            \u001b[0;32mtry\u001b[0m\u001b[0;34m:\u001b[0m\u001b[0;34m\u001b[0m\n",
       "\u001b[0;34m\u001b[0m                \u001b[0msig\u001b[0m \u001b[0;34m=\u001b[0m \u001b[0m_get_signature_of\u001b[0m\u001b[0;34m(\u001b[0m\u001b[0mcall\u001b[0m\u001b[0;34m)\u001b[0m\u001b[0;34m\u001b[0m\n",
       "\u001b[0;34m\u001b[0m            \u001b[0;32mexcept\u001b[0m \u001b[0mValueError\u001b[0m \u001b[0;32mas\u001b[0m \u001b[0mex\u001b[0m\u001b[0;34m:\u001b[0m\u001b[0;34m\u001b[0m\n",
       "\u001b[0;34m\u001b[0m                \u001b[0mmsg\u001b[0m \u001b[0;34m=\u001b[0m \u001b[0;34m'no signature found for {!r}'\u001b[0m\u001b[0;34m.\u001b[0m\u001b[0mformat\u001b[0m\u001b[0;34m(\u001b[0m\u001b[0mobj\u001b[0m\u001b[0;34m)\u001b[0m\u001b[0;34m\u001b[0m\n",
       "\u001b[0;34m\u001b[0m                \u001b[0;32mraise\u001b[0m \u001b[0mValueError\u001b[0m\u001b[0;34m(\u001b[0m\u001b[0mmsg\u001b[0m\u001b[0;34m)\u001b[0m \u001b[0;32mfrom\u001b[0m \u001b[0mex\u001b[0m\u001b[0;34m\u001b[0m\n",
       "\u001b[0;34m\u001b[0m\u001b[0;34m\u001b[0m\n",
       "\u001b[0;34m\u001b[0m    \u001b[0;32mif\u001b[0m \u001b[0msig\u001b[0m \u001b[0;32mis\u001b[0m \u001b[0;32mnot\u001b[0m \u001b[0;32mNone\u001b[0m\u001b[0;34m:\u001b[0m\u001b[0;34m\u001b[0m\n",
       "\u001b[0;34m\u001b[0m        \u001b[0;31m# For classes and objects we skip the first parameter of their\u001b[0m\u001b[0;34m\u001b[0m\n",
       "\u001b[0;34m\u001b[0m        \u001b[0;31m# __call__, __new__, or __init__ methods\u001b[0m\u001b[0;34m\u001b[0m\n",
       "\u001b[0;34m\u001b[0m        \u001b[0;32mif\u001b[0m \u001b[0mskip_bound_arg\u001b[0m\u001b[0;34m:\u001b[0m\u001b[0;34m\u001b[0m\n",
       "\u001b[0;34m\u001b[0m            \u001b[0;32mreturn\u001b[0m \u001b[0m_signature_bound_method\u001b[0m\u001b[0;34m(\u001b[0m\u001b[0msig\u001b[0m\u001b[0;34m)\u001b[0m\u001b[0;34m\u001b[0m\n",
       "\u001b[0;34m\u001b[0m        \u001b[0;32melse\u001b[0m\u001b[0;34m:\u001b[0m\u001b[0;34m\u001b[0m\n",
       "\u001b[0;34m\u001b[0m            \u001b[0;32mreturn\u001b[0m \u001b[0msig\u001b[0m\u001b[0;34m\u001b[0m\n",
       "\u001b[0;34m\u001b[0m\u001b[0;34m\u001b[0m\n",
       "\u001b[0;34m\u001b[0m    \u001b[0;32mif\u001b[0m \u001b[0misinstance\u001b[0m\u001b[0;34m(\u001b[0m\u001b[0mobj\u001b[0m\u001b[0;34m,\u001b[0m \u001b[0mtypes\u001b[0m\u001b[0;34m.\u001b[0m\u001b[0mBuiltinFunctionType\u001b[0m\u001b[0;34m)\u001b[0m\u001b[0;34m:\u001b[0m\u001b[0;34m\u001b[0m\n",
       "\u001b[0;34m\u001b[0m        \u001b[0;31m# Raise a nicer error message for builtins\u001b[0m\u001b[0;34m\u001b[0m\n",
       "\u001b[0;34m\u001b[0m        \u001b[0mmsg\u001b[0m \u001b[0;34m=\u001b[0m \u001b[0;34m'no signature found for builtin function {!r}'\u001b[0m\u001b[0;34m.\u001b[0m\u001b[0mformat\u001b[0m\u001b[0;34m(\u001b[0m\u001b[0mobj\u001b[0m\u001b[0;34m)\u001b[0m\u001b[0;34m\u001b[0m\n",
       "\u001b[0;34m\u001b[0m        \u001b[0;32mraise\u001b[0m \u001b[0mValueError\u001b[0m\u001b[0;34m(\u001b[0m\u001b[0mmsg\u001b[0m\u001b[0;34m)\u001b[0m\u001b[0;34m\u001b[0m\n",
       "\u001b[0;34m\u001b[0m\u001b[0;34m\u001b[0m\n",
       "\u001b[0;34m\u001b[0m    \u001b[0;32mraise\u001b[0m \u001b[0mValueError\u001b[0m\u001b[0;34m(\u001b[0m\u001b[0;34m'callable {!r} is not supported by signature'\u001b[0m\u001b[0;34m.\u001b[0m\u001b[0mformat\u001b[0m\u001b[0;34m(\u001b[0m\u001b[0mobj\u001b[0m\u001b[0;34m)\u001b[0m\u001b[0;34m)\u001b[0m\u001b[0;34m\u001b[0m\u001b[0;34m\u001b[0m\u001b[0m\n",
       "\u001b[0;31mFile:\u001b[0m      ~/mambaforge/lib/python3.9/inspect.py\n",
       "\u001b[0;31mType:\u001b[0m      function\n"
      ]
     },
     "metadata": {},
     "output_type": "display_data"
    }
   ],
   "source": [
    "inspect._signature_from_callable??"
   ]
  },
  {
   "cell_type": "markdown",
   "id": "9cd89df0-61aa-4660-80ff-7d1d2e98ecf4",
   "metadata": {},
   "source": [
    "## Reading the source with visual debugger"
   ]
  },
  {
   "cell_type": "code",
   "execution_count": null,
   "id": "f882fdca-a0c8-408b-8e1a-20f4461f77bf",
   "metadata": {},
   "outputs": [],
   "source": [
    "from inspect import *\n",
    "from inspect import _signature_from_callable\n",
    "from inspect import _signature_is_functionlike, _signature_is_builtin, _signature_get_user_defined_method, _signature_from_function, _signature_bound_method"
   ]
  },
  {
   "cell_type": "code",
   "execution_count": null,
   "id": "87cfe69f-3476-4db8-8820-c4bf5751009f",
   "metadata": {},
   "outputs": [],
   "source": [
    "def _signature_from_callable(obj, *,\n",
    "                             follow_wrapper_chains=True,\n",
    "                             skip_bound_arg=True,\n",
    "                             sigcls):\n",
    "\n",
    "    \"\"\"Private helper function to get signature for arbitrary\n",
    "    callable objects.\n",
    "    \"\"\"\n",
    "\n",
    "    _get_signature_of = functools.partial(_signature_from_callable,\n",
    "                                follow_wrapper_chains=follow_wrapper_chains,\n",
    "                                skip_bound_arg=skip_bound_arg,\n",
    "                                sigcls=sigcls)\n",
    "\n",
    "    if not callable(obj):\n",
    "        raise TypeError('{!r} is not a callable object'.format(obj))\n",
    "\n",
    "    if isinstance(obj, types.MethodType):\n",
    "        # In this case we skip the first parameter of the underlying\n",
    "        # function (usually `self` or `cls`).\n",
    "        sig = _get_signature_of(obj.__func__)\n",
    "\n",
    "        if skip_bound_arg:\n",
    "            return _signature_bound_method(sig)\n",
    "        else:\n",
    "            return sig\n",
    "\n",
    "    # Was this function wrapped by a decorator?\n",
    "    if follow_wrapper_chains:\n",
    "        obj = unwrap(obj, stop=(lambda f: hasattr(f, \"__signature__\")))\n",
    "        if isinstance(obj, types.MethodType):\n",
    "            # If the unwrapped object is a *method*, we might want to\n",
    "            # skip its first parameter (self).\n",
    "            # See test_signature_wrapped_bound_method for details.\n",
    "            return _get_signature_of(obj)\n",
    "\n",
    "    try:\n",
    "        sig = obj.__signature__\n",
    "    except AttributeError:\n",
    "        pass\n",
    "    else:\n",
    "        if sig is not None:\n",
    "            if not isinstance(sig, Signature):\n",
    "                raise TypeError(\n",
    "                    'unexpected object {!r} in __signature__ '\n",
    "                    'attribute'.format(sig))\n",
    "            return sig\n",
    "\n",
    "    try:\n",
    "        partialmethod = obj._partialmethod\n",
    "    except AttributeError:\n",
    "        pass\n",
    "    else:\n",
    "        if isinstance(partialmethod, functools.partialmethod):\n",
    "            # Unbound partialmethod (see functools.partialmethod)\n",
    "            # This means, that we need to calculate the signature\n",
    "            # as if it's a regular partial object, but taking into\n",
    "            # account that the first positional argument\n",
    "            # (usually `self`, or `cls`) will not be passed\n",
    "            # automatically (as for boundmethods)\n",
    "\n",
    "            wrapped_sig = _get_signature_of(partialmethod.func)\n",
    "\n",
    "            sig = _signature_get_partial(wrapped_sig, partialmethod, (None,))\n",
    "            first_wrapped_param = tuple(wrapped_sig.parameters.values())[0]\n",
    "            if first_wrapped_param.kind is Parameter.VAR_POSITIONAL:\n",
    "                # First argument of the wrapped callable is `*args`, as in\n",
    "                # `partialmethod(lambda *args)`.\n",
    "                return sig\n",
    "            else:\n",
    "                sig_params = tuple(sig.parameters.values())\n",
    "                assert (not sig_params or\n",
    "                        first_wrapped_param is not sig_params[0])\n",
    "                new_params = (first_wrapped_param,) + sig_params\n",
    "                return sig.replace(parameters=new_params)\n",
    "\n",
    "    if isfunction(obj) or _signature_is_functionlike(obj):\n",
    "        # If it's a pure Python function, or an object that is duck type\n",
    "        # of a Python function (Cython functions, for instance), then:\n",
    "        return _signature_from_function(sigcls, obj,\n",
    "                                        skip_bound_arg=skip_bound_arg)\n",
    "\n",
    "    if _signature_is_builtin(obj):\n",
    "        return _signature_from_builtin(sigcls, obj,\n",
    "                                       skip_bound_arg=skip_bound_arg)\n",
    "\n",
    "    if isinstance(obj, functools.partial):\n",
    "        wrapped_sig = _get_signature_of(obj.func)\n",
    "        return _signature_get_partial(wrapped_sig, obj)\n",
    "\n",
    "    sig = None\n",
    "    if isinstance(obj, type):\n",
    "        # obj is a class or a metaclass\n",
    "\n",
    "        # First, let's see if it has an overloaded __call__ defined\n",
    "        # in its metaclass\n",
    "        call = _signature_get_user_defined_method(type(obj), '__call__')\n",
    "        if call is not None:\n",
    "            sig = _get_signature_of(call)\n",
    "        else:\n",
    "            factory_method = None\n",
    "            new = _signature_get_user_defined_method(obj, '__new__')\n",
    "            init = _signature_get_user_defined_method(obj, '__init__')\n",
    "            # Now we check if the 'obj' class has an own '__new__' method\n",
    "            if '__new__' in obj.__dict__:\n",
    "                factory_method = new\n",
    "            # or an own '__init__' method\n",
    "            elif '__init__' in obj.__dict__:\n",
    "                factory_method = init\n",
    "            # If not, we take inherited '__new__' or '__init__', if present\n",
    "            elif new is not None:\n",
    "                factory_method = new\n",
    "            elif init is not None:\n",
    "                factory_method = init\n",
    "\n",
    "            if factory_method is not None:\n",
    "                sig = _get_signature_of(factory_method)\n",
    "\n",
    "        if sig is None:\n",
    "            # At this point we know, that `obj` is a class, with no user-\n",
    "            # defined '__init__', '__new__', or class-level '__call__'\n",
    "\n",
    "            for base in obj.__mro__[:-1]:\n",
    "                # Since '__text_signature__' is implemented as a\n",
    "                # descriptor that extracts text signature from the\n",
    "                # class docstring, if 'obj' is derived from a builtin\n",
    "                # class, its own '__text_signature__' may be 'None'.\n",
    "                # Therefore, we go through the MRO (except the last\n",
    "                # class in there, which is 'object') to find the first\n",
    "                # class with non-empty text signature.\n",
    "                try:\n",
    "                    text_sig = base.__text_signature__\n",
    "                except AttributeError:\n",
    "                    pass\n",
    "                else:\n",
    "                    if text_sig:\n",
    "                        # If 'base' class has a __text_signature__ attribute:\n",
    "                        # return a signature based on it\n",
    "                        return _signature_fromstr(sigcls, base, text_sig)\n",
    "\n",
    "            # No '__text_signature__' was found for the 'obj' class.\n",
    "            # Last option is to check if its '__init__' is\n",
    "            # object.__init__ or type.__init__.\n",
    "            if type not in obj.__mro__:\n",
    "                # We have a class (not metaclass), but no user-defined\n",
    "                # __init__ or __new__ for it\n",
    "                if (obj.__init__ is object.__init__ and\n",
    "                    obj.__new__ is object.__new__):\n",
    "                    # Return a signature of 'object' builtin.\n",
    "                    return sigcls.from_callable(object)\n",
    "                else:\n",
    "                    raise ValueError(\n",
    "                        'no signature found for builtin type {!r}'.format(obj))\n",
    "\n",
    "    elif not isinstance(obj, _NonUserDefinedCallables):\n",
    "        # An object with __call__\n",
    "        # We also check that the 'obj' is not an instance of\n",
    "        # _WrapperDescriptor or _MethodWrapper to avoid\n",
    "        # infinite recursion (and even potential segfault)\n",
    "        call = _signature_get_user_defined_method(type(obj), '__call__')\n",
    "        if call is not None:\n",
    "            try:\n",
    "                sig = _get_signature_of(call)\n",
    "            except ValueError as ex:\n",
    "                msg = 'no signature found for {!r}'.format(obj)\n",
    "                raise ValueError(msg) from ex\n",
    "\n",
    "    if sig is not None:\n",
    "        # For classes and objects we skip the first parameter of their\n",
    "        # __call__, __new__, or __init__ methods\n",
    "        if skip_bound_arg:\n",
    "            return _signature_bound_method(sig)\n",
    "        else:\n",
    "            return sig\n",
    "\n",
    "    if isinstance(obj, types.BuiltinFunctionType):\n",
    "        # Raise a nicer error message for builtins\n",
    "        msg = 'no signature found for builtin function {!r}'.format(obj)\n",
    "        raise ValueError(msg)\n",
    "\n",
    "    raise ValueError('callable {!r} is not supported by signature'.format(obj))"
   ]
  },
  {
   "cell_type": "code",
   "execution_count": null,
   "id": "3ea8c960-8e4d-4dc4-96ee-6ef0edea520f",
   "metadata": {},
   "outputs": [
    {
     "data": {
      "text/plain": [
       "<Signature (a, b, c)>"
      ]
     },
     "execution_count": null,
     "metadata": {},
     "output_type": "execute_result"
    }
   ],
   "source": [
    "class Foo:\n",
    "    def __init__(self, a, b, c): pass\n",
    "\n",
    "_signature_from_callable(Foo, sigcls=inspect.Signature, follow_wrapper_chains=True) # debug the function above through this example"
   ]
  },
  {
   "cell_type": "markdown",
   "id": "8b472025-d4d8-4a7c-9691-5cc03e14af20",
   "metadata": {},
   "source": [
    "## How exactly Foo get signatures from `__init__`"
   ]
  },
  {
   "cell_type": "markdown",
   "id": "2018c8b3-ad3b-4206-91a2-e33313509d5d",
   "metadata": {},
   "source": [
    "with visual debugger, we can run through the example above and find out that Foo's signature is indeeded borrowed from its `__init__` signature.\n",
    "\n",
    "The answer is that as Foo has not own its `__new__`, but has its own `__init__`, so getting signature is straightforward. If Foo has its own `__new__`, then Foo will get its signature from `__new__` instead of `__init__`."
   ]
  },
  {
   "cell_type": "markdown",
   "id": "2c57fee6-ac81-4396-9571-23e574b5374c",
   "metadata": {},
   "source": [
    "```python\n",
    "if isinstance(obj, type):\n",
    "        # obj is a class or a metaclass\n",
    "\n",
    "        # First, let's see if it has an overloaded __call__ defined\n",
    "        # in its metaclass\n",
    "        call = _signature_get_user_defined_method(type(obj), '__call__')\n",
    "        if call is not None:\n",
    "            sig = _get_signature_of(call)\n",
    "        else:\n",
    "            factory_method = None\n",
    "            new = _signature_get_user_defined_method(obj, '__new__')         ###############################\n",
    "            init = _signature_get_user_defined_method(obj, '__init__')\n",
    "            # Now we check if the 'obj' class has an own '__new__' method\n",
    "            if '__new__' in obj.__dict__:                                    ###############################\n",
    "                factory_method = new\n",
    "            # or an own '__init__' method\n",
    "            elif '__init__' in obj.__dict__:                                 ###############################\n",
    "                factory_method = init\n",
    "            # If not, we take inherited '__new__' or '__init__', if present\n",
    "            elif new is not None:\n",
    "                factory_method = new\n",
    "            elif init is not None:\n",
    "                factory_method = init\n",
    "\n",
    "            if factory_method is not None:\n",
    "                sig = _get_signature_of(factory_method)\n",
    "```"
   ]
  },
  {
   "cell_type": "markdown",
   "id": "39c46cc6-0e87-417d-b961-de33d3957cd8",
   "metadata": {},
   "source": [
    "## Why `Base.__new__` won't affect Foo get signature from `__init__`"
   ]
  },
  {
   "cell_type": "markdown",
   "id": "70baa136-ce84-4060-86f6-da1736f0464c",
   "metadata": {},
   "source": [
    "But how could overwritting `__new__` mess up with the process of getting signature from `__init__`?\n",
    "\n",
    "With visual debugger and source code above, we can find out that though Foo has `__new__` from Base, but it does not have its own `__new__` in its `__dict__`, so Foo will still get signature ffrom its own `__init__`."
   ]
  },
  {
   "cell_type": "code",
   "execution_count": null,
   "id": "701d0cff-1579-4cc9-8d06-c94c89f383c3",
   "metadata": {},
   "outputs": [
    {
     "data": {
      "text/plain": [
       "<Signature (d, e, f)>"
      ]
     },
     "execution_count": null,
     "metadata": {},
     "output_type": "execute_result"
    }
   ],
   "source": [
    "class Base: # pass\n",
    "    def __new__(self, **args): pass  # defines a __new__ \n",
    "\n",
    "class Foo(Base):\n",
    "    def __init__(self, d, e, f): pass\n",
    "    \n",
    "_signature_from_callable(Foo, sigcls=inspect.Signature, follow_wrapper_chains=True) # debug the function above through this example"
   ]
  },
  {
   "cell_type": "markdown",
   "id": "da9fa31b-2b61-4e9f-a4bb-9dce4178320a",
   "metadata": {},
   "source": [
    "## Why python 3.7 with inspect can't handle the example above?\n",
    "\n",
    "Because based on the code below, Foo will take `Base.__new__`'s signature even though it's not Foo's own `__new__`."
   ]
  },
  {
   "cell_type": "markdown",
   "id": "66a35862-5cb9-42af-b6f6-e19db05c293c",
   "metadata": {},
   "source": [
    "```python\n",
    "\n",
    "sig = None\n",
    "    if isinstance(obj, type):\n",
    "        # obj is a class or a metaclass\n",
    "\n",
    "        # First, let's see if it has an overloaded __call__ defined\n",
    "        # in its metaclass\n",
    "        call = _signature_get_user_defined_method(type(obj), '__call__')\n",
    "        if call is not None:\n",
    "            sig = _signature_from_callable(\n",
    "                call,\n",
    "                follow_wrapper_chains=follow_wrapper_chains,\n",
    "                skip_bound_arg=skip_bound_arg,\n",
    "                sigcls=sigcls)\n",
    "        else:\n",
    "            # Now we check if the 'obj' class has a '__new__' method\n",
    "            new = _signature_get_user_defined_method(obj, '__new__') ###############################\n",
    "            if new is not None:                                      ###############################\n",
    "                sig = _signature_from_callable(                      ###############################\n",
    "                    new,\n",
    "                    follow_wrapper_chains=follow_wrapper_chains,\n",
    "                    skip_bound_arg=skip_bound_arg,\n",
    "                    sigcls=sigcls)\n",
    "            else:\n",
    "                # Finally, we should have at least __init__ implemented\n",
    "                init = _signature_get_user_defined_method(obj, '__init__')\n",
    "                if init is not None:\n",
    "                    sig = _signature_from_callable(\n",
    "                        init,\n",
    "                        follow_wrapper_chains=follow_wrapper_chains,\n",
    "                        skip_bound_arg=skip_bound_arg,\n",
    "                        sigcls=sigcls)\n",
    "                    \n",
    "...\n",
    "\n",
    "if sig is not None:\n",
    "        # For classes and objects we skip the first parameter of their\n",
    "        # __call__, __new__, or __init__ methods\n",
    "        if skip_bound_arg:\n",
    "            return _signature_bound_method(sig)\n",
    "        else:\n",
    "            return sig\n",
    "```"
   ]
  },
  {
   "cell_type": "code",
   "execution_count": null,
   "id": "5e20391b-06c2-4950-ad82-3c4f037684a2",
   "metadata": {},
   "outputs": [],
   "source": []
  },
  {
   "cell_type": "code",
   "execution_count": null,
   "id": "efd1129b-aea4-42da-84c0-8629dc4d32c6",
   "metadata": {},
   "outputs": [],
   "source": []
  },
  {
   "cell_type": "markdown",
   "id": "d72041f9-f1c5-42c1-8908-df21a46149c8",
   "metadata": {},
   "source": [
    "## A big use case for debugging?"
   ]
  },
  {
   "cell_type": "markdown",
   "id": "763c0b78-e821-457b-aeb0-2412849de0cd",
   "metadata": {},
   "source": [
    "When a source code is very long, including many if elif else blocks. It's very informative to know which blocks are run. "
   ]
  },
  {
   "cell_type": "markdown",
   "id": "446f3de9-eee3-4539-aa2a-0953ff0f7ce0",
   "metadata": {},
   "source": [
    "### How useful would a function like `printrunsrclines()` be?"
   ]
  },
  {
   "cell_type": "markdown",
   "id": "325e73bc-8f9d-4202-8872-0366be893d9e",
   "metadata": {},
   "source": [
    "Reading src without debugging tools requires much experience and prior knowledge.\n",
    "\n",
    "Debugging tools like visual debugger and pdb can take you (jump) through each line quickly, but if the code is long, you may not remember which lines have jumped or run previously.\n",
    "\n",
    "printrunsrclines() is debugging tool which collect and display only the srclines get run by example. "
   ]
  },
  {
   "cell_type": "markdown",
   "id": "f3763435-275f-47c4-8008-8ce76ac7686d",
   "metadata": {},
   "source": [
    "### How would it make the debugging process with visual debugger any easier?"
   ]
  },
  {
   "cell_type": "markdown",
   "id": "4cf4d949-531c-401d-8adc-d774835e12fb",
   "metadata": {},
   "source": [
    "with srclines which get run displayed, you can use dbprint to further investigate on more relevant srclines.\n",
    "\n",
    "without it, any debugging tools are like headless flies won't be efficient helper.\n",
    "\n",
    "with it, you can prepare the investigation code first and dbprint is a better option than pdb or visual debugger in"
   ]
  },
  {
   "cell_type": "markdown",
   "id": "ebcf2126-dba2-4563-9d68-265058b59225",
   "metadata": {},
   "source": [
    "## How to approach such printrunsrclines?"
   ]
  },
  {
   "cell_type": "markdown",
   "id": "2b91f990-712d-41c4-ac78-3119c9c3edcf",
   "metadata": {},
   "source": [
    "insert a print function to print index for each srcline, so that after an example is run, we can get all the srcline index which have been run"
   ]
  },
  {
   "cell_type": "markdown",
   "id": "7563c06b-1046-449b-88e9-748f6a59358d",
   "metadata": {},
   "source": [
    "Then print out the srclines based on their indices"
   ]
  },
  {
   "cell_type": "code",
   "execution_count": null,
   "id": "c4eeb63c-6dea-40b9-ac42-f369ca5d1e3c",
   "metadata": {},
   "outputs": [],
   "source": []
  }
 ],
 "metadata": {
  "kernelspec": {
   "display_name": "Python 3 (ipykernel)",
   "language": "python",
   "name": "python3"
  }
 },
 "nbformat": 4,
 "nbformat_minor": 5
}
