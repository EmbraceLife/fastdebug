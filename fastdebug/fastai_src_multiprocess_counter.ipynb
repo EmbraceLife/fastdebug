{
 "cells": [
  {
   "cell_type": "code",
   "execution_count": null,
   "id": "c89dd300",
   "metadata": {},
   "outputs": [],
   "source": [
    "import multiprocessing as mp"
   ]
  },
  {
   "cell_type": "code",
   "execution_count": null,
   "id": "030b0a92",
   "metadata": {},
   "outputs": [],
   "source": [
    "list_of_lists = [[1,2,'a'], ['a', 1,1]]"
   ]
  },
  {
   "cell_type": "code",
   "execution_count": null,
   "id": "1ea8ec67",
   "metadata": {},
   "outputs": [],
   "source": [
    "def count(lst):\n",
    "    from collections import Counter # need to add this line to make the program work\n",
    "    return Counter(lst)"
   ]
  },
  {
   "cell_type": "code",
   "execution_count": null,
   "id": "c2c92285",
   "metadata": {},
   "outputs": [],
   "source": [
    "# how should we choose the number in general?\n",
    "with mp.Pool(2) as p: # I tried 1 - 10, even 100 is fine, but please don't do 1000.\n",
    "    results = p.map(count, list_of_lists)"
   ]
  },
  {
   "cell_type": "code",
   "execution_count": null,
   "id": "b7cd5219",
   "metadata": {},
   "outputs": [
    {
     "data": {
      "text/plain": [
       "[[1, 2, 'a'], ['a', 1, 1]]"
      ]
     },
     "execution_count": null,
     "metadata": {},
     "output_type": "execute_result"
    },
    {
     "data": {
      "text/plain": [
       "Counter({1: 3, 2: 1, 'a': 2})"
      ]
     },
     "execution_count": null,
     "metadata": {},
     "output_type": "execute_result"
    }
   ],
   "source": [
    "list_of_lists\n",
    "results[0] + results[1]"
   ]
  },
  {
   "cell_type": "code",
   "execution_count": null,
   "id": "47cd12b8",
   "metadata": {},
   "outputs": [],
   "source": []
  }
 ],
 "metadata": {
  "kernelspec": {
   "display_name": "Python 3 (ipykernel)",
   "language": "python",
   "name": "python3"
  }
 },
 "nbformat": 4,
 "nbformat_minor": 5
}
