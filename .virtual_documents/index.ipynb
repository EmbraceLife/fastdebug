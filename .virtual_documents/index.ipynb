from IPython.display import display, HTML 


display(HTML("<style>.container { width:100% !important; }</style>"))


from fastdebug.utils import *


import fastcore.meta as fm


whatinside(fm, dun=True)


get_ipython().run_line_magic('pinfo',  'whatinside')


get_ipython().run_line_magic('pinfo2',  'whatinside')


import fastdebug.utils as fu


g = {}
g.update(fu.__dict__) 
len(g)


from fastdebug.core import *


fdb = Fastdb(whatinside, g)


#| column: screen

fdb.print()


#| column: screen

#| code-overflow: scroll
dbsrc = fdb.dbprint(10, "what can getmembers and isfunction give me?", "mo", "inspect.getdoc(inspect.isfunction)", \
            "inspect.getdoc(inspect.getmembers)", "funcs = inspect.getmembers(mo, inspect.isfunction)")
whatinside = dbsrc
whatinside(fm)


#| column: screen
fdb.print(maxlines=15, part=1)


#| column: screen
dbsrc = fdb.dbprint(11, "can we print the list 'funcs' above nicely?", \
"funcs = inspect.getmembers(mo, inspect.isfunction)\\n\
for f in funcs:\\n\
    print(f)")
whatinside = dbsrc
whatinside(fm)
fdb.print(maxlines=15, part=1)


#| column: screen
dbsrc = fdb.dbprint(14, "what does os.path.dirname do?", "mo.__file__", "inspect.getdoc(os.path.dirname)", "pkgpath = os.path.dirname(mo.__file__)")
whatinside = dbsrc
whatinside(fm)
fdb.print(maxlines=20, part=2)


#| column: screen
dbsrc = fdb.dbprint(30, "what does pkgutil.iter_modules do?", "pkgpath", "inspect.getdoc(pkgutil.iter_modules)", \
"for a, b, c in pkgutil.iter_modules([pkgpath]):\\n\
    print(f'{a} ; {b}; {c}')")
whatinside = dbsrc
whatinside(fm, lib=True)
fdb.print(maxlines=20, part=2)





#| column: page
get_ipython().run_line_magic('pinfo2',  'Fastdb')


#| column: page
get_ipython().run_line_magic('pinfo2',  'Fastdb.dbprint')


#| column: page
get_ipython().run_line_magic('pinfo2',  'Fastdb.print')


1+1



