from IPython.display import display, HTML 


display(HTML("<style>.container { width:100% !important; }</style>"))


from fastdebug.utils import *
import fastdebug.utils as fu
from fastcore.test import *


import fastcore.meta as fm


whatinside(fm, dun=True)


get_ipython().run_line_magic('pinfo',  'fu.whatinside')


get_ipython().run_line_magic('pinfo2',  'fu.whatinside')


# import fastdebug.utils as fu


g = {}
# g.update(fu.__dict__) 
g.update(fu.whatinside.__globals__)
len(g)


from fastdebug.core import *


# both whatinside and fu.whatinside are the same here, don't matter which
fdb = Fastdb(whatinside) # g is refactored inside Fastdb
# fdb = Fastdb(fu.whatinside)


#| column: screen

fdb.print()


#| column: screen
fdb.dbprint(9, "count num in __all__")
fdb.print(maxlines=15, part=1)


#| column: screen
dbsrc = fdb.dbprint(10, "get all funcs of a module", "mo", "inspect.getdoc(inspect.isfunction)", \
            "inspect.getdoc(inspect.getmembers)", "funcs = inspect.getmembers(mo, inspect.isfunction)")
fu.whatinside(fm)


#| column: screen
fdb.print(maxlines=15, part=1)


#| column: screen
dbsrc = fdb.dbprint(11, "get all classes from the module", \
"clas = inspect.getmembers(mo, inspect.isclass)\\n\
for c in clas:\\n\
    print(c)")
fu.whatinside(fm)
fdb.print(maxlines=15, part=1)


#| column: screen
dbsrc = fdb.dbprint(14, "get the file path of the module", "mo.__file__", "inspect.getdoc(os.path.dirname)", "pkgpath = os.path.dirname(mo.__file__)")
fu.whatinside(fm)
fdb.print(maxlines=10, part=2)


fdb.print(maxlines=20, part=2)


#| column: screen
dbsrc = fdb.dbprint(30, "get names of all modules of a lib", "pkgpath", "inspect.getdoc(pkgutil.iter_modules)", \
"for a, b, c in pkgutil.iter_modules([pkgpath]):\\n\
    print(f'{a} ; {b}; {c}')", showdbsrc=True)
fu.whatinside(fm, lib=True)
fdb.print(maxlines=20, part=2)


fdb.print()


import inspect


test_eq(inspect.getsourcefile(whatinside.__globals__['whatinside']), '<string>')
test_eq(inspect.getsourcefile(fu.whatinside), '<string>')
test_eq(fu.whatinside is whatinside.__globals__['whatinside'], True)

test_eq(whatinside is whatinside.__globals__['whatinside'], False)
test_eq(whatinside is fu.whatinside, False)
test_eq(inspect.getsourcefile(whatinside), '/Users/Natsume/Documents/fastdebug/fastdebug/utils.py')


fdb.goback()


test_eq(inspect.getsourcefile(fu.whatinside), '/Users/Natsume/Documents/fastdebug/fastdebug/utils.py')
test_eq(fu.whatinside is whatinside.__globals__['whatinside'], True)
test_eq(whatinside is whatinside.__globals__['whatinside'], True)
test_eq(whatinside is fu.whatinside, True)


1+1



