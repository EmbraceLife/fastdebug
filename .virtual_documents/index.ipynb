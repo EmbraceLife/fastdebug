#| hide
from fastdebug.core import *


1+1



