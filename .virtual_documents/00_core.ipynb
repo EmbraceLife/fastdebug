#| default_exp core


#| hide
from nbdev.showdoc import *


get_ipython().run_line_magic('pinfo',  'eval')


get_ipython().run_line_magic('pinfo',  'exec')


def dbprint(src:str, # the source to debug in str
            cmt:str,
            *code,   # a number of codes to run, each code is in str, e.g., "a + b", "c = a - b"
            **env
           ):  # a number of stuff needed to run the code, e.g. var1 = var1, func1 = func1
    
    # print out the title
    print('\n')
    print('{:#^157}'.format(" srcline under investigation "))
    print('\n')


    # print the source code of the function
    lst = defaults.src.split('\n')

    ccount = 0
    for l in lst: 
        if bool(l) and l.strip() in src: # print out the srcline under investigation
            print('{:=<157}'.format(l))
            ccount = ccount + 1

            if bool(cmt): # print out comment at the end of the srclines under investigation
                numsrclines = len(src.split("\n"))
                if ccount == numsrclines: 
                    colcmt = colorize(cmt, "r") # colorize the comment
                    alignright(colcmt) # put the comment to the most right

        else: 
            print('{:<157}'.format(l)) # print out the rest of source code

    # print out the example
    print('{:<157}'.format(defaults.eg))
    
    for c in code:
    # print(f"{c} => {c} : {eval(c, globals().update(env))}") 
        output = f"{c} => {c} : {eval(c, globals().update(env))}"
        print('{:>157}'.format(output))   


defaults = type('defaults', (object,), {'eg': None, # examples
                                        'src': None, # official src
                                       }) 


str(1+2)


def foo():     
    a = 1 + 1
    pass


#|export
import inspect


defaults.src = inspect.getsource(foo)


def foo(): 
    
    dbprint("    a = 1+1", "this is a test", "1+2", "str(1+2)")
        
    a = 1 + 1
    pass


defaults.eg = "foo()"


foo()



# defaults = type('defaults', (object,), {'block': False, # whether inside a block of code investigation or not
#                                      'src': None, # store the source code of the functiong being debugged
#                                      'deb': None, # store the debuggable source code
#                                      'debp': None, # store the debuggable source code for color printing
#                                      'name': None, # the name of the func to be debugged
#                                      'startsrc': None, # a piece of str in the starting line of the src code
#                                      'endsrc': None, # a piece of str in the ending line of the src code
#                                      'eg': None, # save an example in str
#                                      'margin': 157, # for align to the right
#                                      'multi': False, # debugging multiline source codes
#                                      'srcdbps': [], # a list to store srclines and dbcodes
#                                      'src2dbp': type('fastcore.meta', (object,), {'delegates': [], # a list of lists of (srcline, dbcode) 
#                                                                                   'delegatesdb': None, # the debuggable source
#                                                                                   'FixSigMeta': [], # a list of lists of (srcline, dbcode) 
#                                                                                   'FixSigMetadb': None, # the debuggable source
#                                                                                   '_signature_from_callable': [], # a list of lists of (srcline, dbcode) 
#                                                                                   '_signature_from_callabledb': None, # the debuggable source
#                                                                                  }) # store a list of (srcline, dbcode)
#                                     }) 



# def dbprint(src:str, # the source to debug in str
#             cmt:str,
#             *code,   # a number of codes to run, each code is in str, e.g., "a + b", "c = a - b"
#             **env
#            ):  # a number of stuff needed to run the code, e.g. var1 = var1, func1 = func1
#     "Insert and run your codes and give readable output during debugging. Caution 1: \
#     avoid using the same variable name used in both global and local scopes, e.g., \
#     use `k` in the func and use `k` again inside a for loop inside the func.\
#     Caution 2: make sure to include all the necessary env variables to avoid \
#     the same variable with different values from different scopes. Caution 3: when an env variable is updated, \
#     then you need to includ it again in the next dbprint. Caution 4: be strict on the spaces, e.g., `for k,v in` \
#     and `a = createsth(...)`"
    
#     # Inside the source code, ff you ever add a block of multiline codes like `for in` or `if`, and run dbprint for each line of the block, then set 
#     # defaults.block to True
#     if defaults.block == True:
#         print('\n')
#         print('{:>157}'.format("===source inside a block==="))
#         print('{:>157}'.format(src))
#         print('\n')
#         # print(src + "<===== source code =======") 

#     else:
#         print('\n')
#         # print('{:>157}'.format("======================== source code ==========================="))
#         print('{:#^157}'.format(" source code with lines under investigation "))
#         print('\n')
#         # print('{:<157}'.format(src))        
        
#         # print the source code of the function
#         lst = defaults.src.split('\n')

#         ccount = 0
#         for l in lst: 
#             if bool(l) and l.strip() in src: # how to make sure all these ls are close to each other???
#                 print('{:=<157}'.format(l))
#                 ccount = ccount + 1
                
#                 if bool(cmt): # make sure the comments are colored and aligned to the most right
#                     # if this is the last srcline of the srcblock under investigation
#                     numsrclines = len(src.split("\n"))
#                     if ccount == numsrclines:
#                         colcmt = colorize(cmt, "r")
#                         alignright(colcmt)
#                     # clst = cmt.split('\n') 
#                     # if ccount <= len(clst)-1:
#                     #     # print('{:>157}'.format(colorize(clst[ccount], "r")))
#                     #     colcmt = colorize(clst[ccount], "r")
#                     #     alignright(colcmt)
#                     #     ccount = ccount + 1

#             else: 
#                 print('{:<157}'.format(l))

#         # print out the example
#         print('{:<157}'.format(defaults.eg))
        
    
#     # trial and error version for real code, still not quite why globals vs locals work in exec and eval
#     for c in code:
#         print("\n")
        
#         # handle a block of code
#         if "\n" in c: 
#             output = f"Running your code block => "
#             print('{:<157}'.format(c))       
#             print('{:>157}'.format(output))  
#             print('The code block printout => : ')
#             block = ast.parse(c, mode='exec')
#             exec(compile(block, '<string>', mode='exec'), globals().update(env))
        
#         # handle assignment: 2. when = occur before if; 1. when no if only =
#         elif ("=" in c and "if" not in c) or ("=" in c and c.find("=") < c.find("if")): # make sure assignment and !== and == are differentiated
            
#             # print('k' in locals())
#             exec(c, globals().update(env)) 
#             # print('k' in locals())
#             variable = c.partition(" = ")[0]
#             # print(f"{c} => {variable}: {eval(variable)}")
#             output = f"{c} => {variable}: {eval(variable)}"
#             print('{:>157}'.format(output))       
            
#         # handle if statement
#         # Note: do insert code like this : `if abc == def: print(abc)`, print is a must
#         elif "if" in c: 
#             cond = re.search('if (.*?):', c).group(1)
            
#             # when code in string is like 'if abc == def:'
#             if c.endswith(':'):
                
#                 # print ... 
#                 # print(f"{c} => {cond}: {eval(cond)}")      
#                 output = f"{c} => {cond}: {eval(cond)}"
#                 print('{:>157}'.format(output))
                
#             # when code in string is like 'if abc == def: print(...)'
#             else: 
#                 # if the cond is true, then print ...
#                 if eval(cond):
                    
#                     # "if abc == def: print(abc)".split(': ', 2)[1] to get 'print(abc)'
#                     printc = c.split(': ', 1)[1]
#                     # print(f"{c} => {printc} : ")
#                     output = f"{c} => {printc} : "
#                     print('{:>157}'.format(output))      
#                     exec(c, globals().update(env))
                    
#                 # if cond is false, then print ...
#                 else: 
#                     # print(f"{c} => {cond}: {eval(cond)}")
#                     output = f"{c} => {cond}: {eval(cond)}"
#                     print('{:>157}'.format(output))   
                
                
#         # handle for in statement
#         elif "for " in c and " in " in c:           
            
#             # in example like 'for k, v in abc:' or `for k, v in abc: print(...)`, if abc is empty
#             # step 1: access abc
#             # get the substring between 'in ' and ':', which is like 'abc'
#             abc = re.search('in (.*?):', c).group(1)
#             # if abc is empty dict or list: print and pass
#             if not bool(eval(abc)): 
#                 # print(f'{c} => {abc} is an emtpy {type(eval(abc))}')
#                 output = f'{c} => {abc} is an emtpy {type(eval(abc))}'
#                 print('{:>157}'.format(output))   
#                 continue 
#                 # The break statement can be used if you need to break out of a for or while loop and move onto the next section of code.
#                 # The continue statement can be used if you need to skip the current iteration of a for or while loop and move onto the next iteration.
            
#             # if the code in string is like 'for k, v in abc:', there is no more code after `:`
#             if c.endswith(':'):
                
#                 # get the substring between 'for ' and ' in', which is like 'k, v'
#                 variables = re.search('for (.*?) in', c).group(1)
                
#                 # if variables has a substring like ', ' inside
#                 if (',') in variables: 
                    
#                     # split it by ', ' into a list of substrings
#                     vl = variables.split(',')
#                     key = vl[0]
#                     value = vl[1]
                    
#                     # make sure key and value will get evaluated first before exec run
#                     # printc is for exec to run
#                     printc = "print(f'{key}:{eval(key)}, {type(eval(key))} ; {value}:{eval(value)}, {type(eval(value))}')" 
#                     # printmsg is for reader to understand with ease
#                     printmsg = "print(f'key: {key}, {type(key)} ; value: {value}, {type(value)}')"
#                     c1 = c + " " + printc
#                     # print(f"{c} => {printmsg} : ")      
#                     output = f"{c} => {printmsg} : "
#                     print('{:>157}'.format(output))   
#                     exec(c1, globals().update(env))
                
#                 else:
#                     printc = "print(f'{variables} : {eval(variables)}')"
#                     printmsg = "print(f'i : {variables}')"
#                     c1 = c + " " + printc
#                     # print(f"{c} => {printmsg} : ")     
#                     output = f"{c} => {printmsg} : "
#                     print('{:>157}'.format(output))   
#                     exec(c1, globals().update(env))
                    
#             # if the code in string is like 'for k, v in abc: print(abc)'
#             else:                 
#                 # "for k, v in abc: print(k)".split(': ', 1)[1] to get 'print(k)'
#                 printc = c.split(': ', 1)[1]
#                 # print(f"{c} => {printc} : ")
#                 output = f"{c} => {printc} : "
#                 print('{:>157}'.format(output))   
#                 exec(c, globals().update(env)) # we can't use eval to run `for in` loop, but exec can.
#             ### Note: we shall not use the expression like `for k, v in abc print(abc)`
#             ### Note: we shall not use the expression like `for k, v in abc if k == def`
        
        
#         # handle evaluation
#         else: 
#             # print(f"{c} => {c} : {eval(c, globals().update(env))}") 
#             output = f"{c} => {c} : {eval(c, globals().update(env))}"
#             print('{:>157}'.format(output))   
            
#         # the benefit of using global().update(env) is 
#         # to ensure we don't need to include the same env for the second time


#| hide
import nbdev; nbdev.nbdev_export()

















#| hide
from nbdev import nbdev_export
nbdev_export()


#| hide
get_ipython().getoutput("jupytext --to md /Users/Natsume/Documents/fastdebug/utils.ipynb")
get_ipython().getoutput("mv /Users/Natsume/Documents/fastdebug/utils.md \")
/Users/Natsume/Documents/divefastai/Debuggable/jupytext/


#| hide
get_ipython().getoutput("jupyter nbconvert --config /Users/Natsume/Documents/mynbcfg.py --to markdown \")
--output-dir /Users/Natsume/Documents/divefastai/Debuggable/nbconvert
