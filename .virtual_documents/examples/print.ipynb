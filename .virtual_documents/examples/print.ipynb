from fastdebug.utils import *


linewidthfull()


from fastdebug.core import *
from fastcore.meta import delegates
from fastcore.imports import *
g = globals()
dg = Fastdb(delegates, g)


get_ipython().run_line_magic('pinfo2',  'Fastdb')


dg.print()


dg.dbprint(6, "depend on type of to")


dg.dbprint(8, "only for classmethod", "", "getattr(from_f,'__func__',from_f)", "   ", showdbsrc=True)


dg.dbprint(14, "test here")


dg.print()









