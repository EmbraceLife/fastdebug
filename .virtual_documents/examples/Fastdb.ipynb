from fastdebug.core import *


import inspect
from inspect import *
from inspect import _signature_from_callable
from inspect import _signature_is_functionlike, _signature_is_builtin, _signature_get_user_defined_method, _signature_from_function, _signature_bound_method


class Foo:
    def __init__(self, a, b, c): pass


inspect.signature(Foo)


_signature_from_callable(Foo, sigcls=inspect.Signature, follow_wrapper_chains=True) # debug the function above through this example


g = globals()
s = Fastdb(_signature_from_callable, g)


s.dbprint("if isinstance(obj, type):", "this is comment", \
              "locals()", "isinstance(obj, type)", \
              expand=1)

_signature_from_callable(Foo, sigcls=inspect.Signature, follow_wrapper_chains=True) # debug the function above through this example


s.dbprint(91, "this is comment", \
              "locals()", "isinstance(obj, type)", \
              expand=5, showdbsrc=True)

inspect._signature_from_callable = _signature_from_callable
inspect.signature(Foo) 


s.dbprint(101, "this is comment",\
"loc = list(locals().items())[:5]\\n\
for k, v in loc:\\n\
    print(f'{k}: {v}')", expand=3)

inspect._signature_from_callable = _signature_from_callable
inspect.signature(Foo) 


s.print(part=4)


get_ipython().run_line_magic('pinfo2',  'printsrc')


from fastcore.meta import delegates


printsrcwithidx(delegates)


10 // 33


from fastcore.imports import *


g = globals()


s1 = Fastdb(delegates, g)


s1.print()


def low(a, b=1): pass


s1.dbprint(5, "before if ot is None", "to", "to is None",showdbsrc=True)

delegates(low)


s1.print()









