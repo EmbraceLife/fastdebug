from fastdebug.core import *


import inspect
from inspect import *
from inspect import _signature_from_callable
from inspect import _signature_is_functionlike, _signature_is_builtin, _signature_get_user_defined_method, _signature_from_function, _signature_bound_method


class Foo:
    def __init__(self, a, b, c): pass


inspect.signature(Foo)


get_ipython().run_line_magic('pinfo2',  'inspect.signature')


get_ipython().run_line_magic('pinfo2',  'Signature.from_callable')


_signature_from_callable(Foo, sigcls=inspect.Signature, follow_wrapper_chains=True) # debug the function above through this example


g = globals() # this is a crucial step
# 1. it brings everything _signature_from_callable needed from inspect.py 
# 2. it allows the new srcode function override the original official srcode in outer scope, 
# so that you can call the new function with the same name _signature_from_callable


sfc = dbprint(_signature_from_callable, "if isinstance(obj, type):", "this is comment", \
              "locals()", "isinstance(obj, type)", "env=g", \
              expand=1, env=g)

_signature_from_callable(Foo, sigcls=inspect.Signature, follow_wrapper_chains=True) # debug the function above through this example


inspect.signature(Foo)


get_ipython().run_line_magic('pinfo',  '_signature_from_callable')


get_ipython().run_line_magic('pinfo',  'defaults.orisrc')


get_ipython().run_line_magic('pinfo',  'sfc')


sfc(Foo, sigcls=inspect.Signature, follow_wrapper_chains=True) # debug the function above through this example


sfc = dbprint(_signature_from_callable, "call = _signature_get_user_defined_method(type(obj), '__call__')", "this is comment", \
              "locals()", "_signature_get_user_defined_method(type(obj), '__call__')", "inspect.getdoc(_signature_get_user_defined_method)", "env=g", expand=5, env=g)

_signature_from_callable(Foo, sigcls=inspect.Signature, follow_wrapper_chains=True) # debug the function above through this example


sfc = dbprint(_signature_from_callable, 91, "this is comment", \
              "pprint(locals(), width=157)", "env=g", expand=1, env=g)

_signature_from_callable(Foo, sigcls=inspect.Signature, follow_wrapper_chains=True) # debug the function above through this example


list(locals().items())[:5]



sfc = dbprint(_signature_from_callable, 91, "this is comment", \
"loc = list(locals().items())[:5]\\n\
for k, v in loc:\\n\
    print(f'{k}: {v}')", "env=g", expand=1, env=g)

_signature_from_callable(Foo, sigcls=inspect.Signature, follow_wrapper_chains=True) # debug the function above through this example


g = globals()
s = FD(_signature_from_callable, g)


s.orisrc = None


class FD():
    
    def __init__(self, 
                 src, # name of src code
                 env): # env = g, as g = globals()
        self.orisrc = src
        self.margin = 157
        self.outenv = env
        self.g = '\033[92m' #GREEN
        self.y = '\033[93m' #YELLOW
        self.r = '\033[91m' #RED
        self.reset = '\033[0m' #RESET COLOR
        
    def dbprint(self, 
                # src, # the src func name, e.g., foo
                dbcode, # the srclines under investigation, can be either string or int
                cmt:str, # comment
                *codes, # a list of dbcodes
                expand:int=2): # span 2 lines of srcode up and down from the srcline investigated
        "Insert dbcodes under srclines under investigation, and create a new dbsrc function to replace the official one"

        # make sure the original official src is kept safe and used whenever dbprint is used
        # if defaults.orisrc == None:
        #     defaults.orisrc = src
        # else: 
        #     src = defaults.orisrc
        src = self.orisrc


        # print out src code: the basic version
        self.printsrc(src, dbcode, cmt, expand)

        # insert the dbcodes from *code into the original official srcode
        dbsrc = ""
        indent = 4
        onedbprint = False

        # make sure the last line which is "" is removed from lst
        lst = inspect.getsource(src).split('\n')
        if not bool(lst[-1]): lst = lst[:-1]

        # dbprint is enabled to accept both string or int
        srclines = ""
        if type(dbcode) == int:
            srclines = lst[dbcode]
        else:
            srclines = dbcode

        # express and insert the dbcode after the srcline under investigation
        for idx, l in zip(range(len(lst)), lst):
            if bool(l.strip()) and l.strip() in srclines:

                # get current l's indentation is enough here, as dbcode is above l
                numindent = len(l) - len(l.strip())
                # attach dbcode above the l under investigation
                dbcodes = "dbprintinsert("
                count = 1
                for c in codes:
                    if count == len(codes) and "env=" in c:
                        dbcodes = dbcodes + c + ")"
                    # elif count == len(codes) and "=" not in c:
                    #     dbcodes = dbcodes + '"' + c + '"' + ")"
                    # elif count != len(codes) and "=" in c:
                    #     dbcodes = dbcodes + c + ","
                    # elif count != len(codes) and "=" not in c:
                    else:
                        dbcodes = dbcodes + '"' + c + '"' + ","
                    count = count + 1

                # make sure dbprint only written once for multi-srclines under investigation
                if onedbprint == False:
                    dbsrc = dbsrc + " "*numindent + "g = locals()" + '\n' # adding this line above dbprint line
                    dbsrc = dbsrc + " "*numindent + dbcodes + '\n'
                    dbsrc = dbsrc + l + '\n' # don't forget to add the srcline below dbprint
                    onedbprint = True
                else:
                    dbsrc = dbsrc + l + '\n'

            elif bool(l.strip()) and idx + 1 == len(lst): # handle the last line of srcode
                dbsrc = dbsrc + l

            elif bool(l.strip()): # make sure pure indentation + \n is ignored
                dbsrc = dbsrc + l + '\n'

        # print out the new srcode
        # for l in dbsrc.split('\n'):
        #     print(l)

        exec(dbsrc, globals().update(self.outenv)) # make sure b can access lst from above

        # check to see whether the new srcode is created
        # print(f'locals()["src"]: {locals()["src"]}')
        # print(f'locals()["{src.__name__}"]: {locals()[src.__name__]}')

        # this is crucial to bring what inside a func namespace into the outside world
        env.update(locals())

        return locals()[self.orisrc.__name__]
    
    
    def printsrc(self,
                 src, # name of src code such as foo, or delegates
                 dbcode, # string of codes or int of code idx number
                 cmt,
                 expand:int=2): # expand the codes around the srcline under investigation
    
        lstsrc = inspect.getsource(src).split('\n')

        dblines = ""
        if type(dbcode) == int:
            dblines = lstsrc[dbcode]
        else:
            dblines = dbcode
            numdblines = list(map(lambda x: bool(x.strip()), dblines.split('\n'))).count(True)

        dblineidx = []
        for idx, l in zip(range(len(lstsrc)), lstsrc):
            if bool(l) and l.strip() in dblines:
                dblineidx.append(idx)

        for idx, l in zip(range(len(lstsrc)), lstsrc):
            if bool(l) and l.strip() in dblines:
                self.printsrclinewithidx(idx, l, fill="=")

                if bool(cmt):
                    colcmt = self.colorize(cmt, "r")
                    self.alignright(colcmt) # also print the comment

            for o, dbidx in zip(range(len(dblineidx)), dblineidx):
                if idx >= dbidx - expand and idx < dbidx:
                    self.printsrclinewithidx(idx, l)
                elif idx <= dbidx + expand and idx > dbidx:
                    self.printsrclinewithidx(idx, l)

                    if idx == dbidx + expand and len(dblineidx)>=2:
                        print("\n")
                        print('{:=^157}'.format(f" The occurance {o} "))
                        print("\n")
    
    def printsrclinewithidx(self, idx, l, fill=" "):
        totallen = 157
        lenidx = 5
        lenl = len(l)
        print(l + fill*(totallen-lenl-lenidx) + "(" + str(idx) + ")")
    
    def colorize(self, cmt, color:str=None):
        if color == "g":
            return self.g + cmt + self.reset
        elif color == "y":
            return self.y + cmt + self.reset
        elif color == "r":
            return self.r + cmt + self.reset
        else: 
            return cmt
        
    def alignright(self, blocks):
        lst = blocks.split('\n')
        maxlen = max(map(lambda l : len(strip_ansi(l)) , lst ))
        indent = defaults.margin - maxlen
        for l in lst:
            print(' '*indent + format(l))
    
    
    def dbprintinsert(self, *codes, env={}): 


        # trial and error version for real code, still not quite why globals vs locals work in exec and eval
        for c in codes:
            print("\n")

            # handle a block of code
            if "\n" in c: 
                output = f"Running your code block => "
                print('{:<157}'.format(c))       
                print('{:>157}'.format(output))  
                print('The code block printout => : ')
                block = ast.parse(c, mode='exec')
                exec(compile(block, '<string>', mode='exec'), globals().update(env))

            # handle assignment: 2. when = occur before if; 1. when no if only =
            elif ("=" in c and "if" not in c) or ("=" in c and c.find("=") < c.find("if")): # make sure assignment and !== and == are differentiated

                # print('k' in locals())
                exec(c, globals().update(env)) 
                # print('k' in locals())
                variable = c.partition(" = ")[0]
                # print(f"{c} => {variable}: {eval(variable)}")
                output = f"{c} => {variable}: {eval(variable)}"
                print('{:>157}'.format(output))       

            # handle if statement
            # Note: do insert code like this : `if abc == def: print(abc)`, print is a must
            elif "if" in c: 
                cond = re.search('if (.*?):', c).group(1)

                # when code in string is like 'if abc == def:'
                if c.endswith(':'):

                    # print ... 
                    # print(f"{c} => {cond}: {eval(cond)}")      
                    output = f"{c} => {cond}: {eval(cond)}"
                    print('{:>157}'.format(output))

                # when code in string is like 'if abc == def: print(...)'
                else: 
                    # if the cond is true, then print ...
                    if eval(cond):

                        # "if abc == def: print(abc)".split(': ', 2)[1] to get 'print(abc)'
                        printc = c.split(': ', 1)[1]
                        # print(f"{c} => {printc} : ")
                        output = f"{c} => {printc} : "
                        print('{:>157}'.format(output))      
                        exec(c, globals().update(env))

                    # if cond is false, then print ...
                    else: 
                        # print(f"{c} => {cond}: {eval(cond)}")
                        output = f"{c} => {cond}: {eval(cond)}"
                        print('{:>157}'.format(output))   


            # handle for in statement
            elif "for " in c and " in " in c:           

                # in example like 'for k, v in abc:' or `for k, v in abc: print(...)`, if abc is empty
                # step 1: access abc
                # get the substring between 'in ' and ':', which is like 'abc'
                abc = re.search('in (.*?):', c).group(1)
                # if abc is empty dict or list: print and pass
                if not bool(eval(abc)): 
                    # print(f'{c} => {abc} is an emtpy {type(eval(abc))}')
                    output = f'{c} => {abc} is an emtpy {type(eval(abc))}'
                    print('{:>157}'.format(output))   
                    continue 
                    # The break statement can be used if you need to break out of a for or while loop and move onto the next section of code.
                    # The continue statement can be used if you need to skip the current iteration of a for or while loop and move onto the next iteration.

                # if the code in string is like 'for k, v in abc:', there is no more code after `:`
                if c.endswith(':'):

                    # get the substring between 'for ' and ' in', which is like 'k, v'
                    variables = re.search('for (.*?) in', c).group(1)

                    # if variables has a substring like ', ' inside
                    if (',') in variables: 

                        # split it by ', ' into a list of substrings
                        vl = variables.split(',')
                        key = vl[0]
                        value = vl[1]

                        # make sure key and value will get evaluated first before exec run
                        # printc is for exec to run
                        printc = "print(f'{key}:{eval(key)}, {type(eval(key))} ; {value}:{eval(value)}, {type(eval(value))}')" 
                        # printmsg is for reader to understand with ease
                        printmsg = "print(f'key: {key}, {type(key)} ; value: {value}, {type(value)}')"
                        c1 = c + " " + printc
                        # print(f"{c} => {printmsg} : ")      
                        output = f"{c} => {printmsg} : "
                        print('{:>157}'.format(output))   
                        exec(c1, globals().update(env))

                    else:
                        printc = "print(f'{variables} : {eval(variables)}')"
                        printmsg = "print(f'i : {variables}')"
                        c1 = c + " " + printc
                        # print(f"{c} => {printmsg} : ")     
                        output = f"{c} => {printmsg} : "
                        print('{:>157}'.format(output))   
                        exec(c1, globals().update(env))

                # if the code in string is like 'for k, v in abc: print(abc)'
                else:                 
                    # "for k, v in abc: print(k)".split(': ', 1)[1] to get 'print(k)'
                    printc = c.split(': ', 1)[1]
                    # print(f"{c} => {printc} : ")
                    output = f"{c} => {printc} : "
                    print('{:>157}'.format(output))   
                    exec(c, globals().update(env)) # we can't use eval to run `for in` loop, but exec can.
                ### Note: we shall not use the expression like `for k, v in abc print(abc)`
                ### Note: we shall not use the expression like `for k, v in abc if k == def`


            # handle evaluation
            else: 
                # print(f"{c} => {c} : {eval(c, globals().update(env))}") 
                output = f"{c} => {c} : {eval(c, globals().update(env))}"
                print('{:>157}'.format(output))   

            # the benefit of using global().update(env) is 
            # to ensure we don't need to include the same env fo




get_ipython().run_line_magic('pinfo2',  'alignright')


get_ipython().run_line_magic('pinfo2',  'dbprintinsert')


printsrcwithidx(defaults.orisrc)



