


# from IPython.core.display import display, HTML # a depreciated import
from IPython.display import display, HTML 


display(HTML("<style>.container { width:100% !important; }</style>"))


from fastdebug.utils import *


import IPython


whatinside(IPython)


whichversion("IPython")


from fastdebug.core import *


import inspect
from inspect import *
from inspect import _signature_from_callable
from inspect import _signature_is_functionlike, _signature_is_builtin, _signature_get_user_defined_method, _signature_from_function, _signature_bound_method


import fastcore.meta as fm


_signature_from_callableNew = _signature_from_callable


def _signature_from_callableOld(obj, *,
                             follow_wrapper_chains=True,
                             skip_bound_arg=True,
                             sigcls):

    """Private helper function to get signature for arbitrary
    callable objects.
    """

    if not callable(obj):
        raise TypeError('{!r} is not a callable object'.format(obj))

    if isinstance(obj, types.MethodType):
        # In this case we skip the first parameter of the underlying
        # function (usually `self` or `cls`).
        sig = _signature_from_callable(
            obj.__func__,
            follow_wrapper_chains=follow_wrapper_chains,
            skip_bound_arg=skip_bound_arg,
            sigcls=sigcls)

        if skip_bound_arg:
            return _signature_bound_method(sig)
        else:
            return sig

    # Was this function wrapped by a decorator?
    if follow_wrapper_chains:
        obj = unwrap(obj, stop=(lambda f: hasattr(f, "__signature__")))
        if isinstance(obj, types.MethodType):
            # If the unwrapped object is a *method*, we might want to
            # skip its first parameter (self).
            # See test_signature_wrapped_bound_method for details.
            return _signature_from_callable(
                obj,
                follow_wrapper_chains=follow_wrapper_chains,
                skip_bound_arg=skip_bound_arg,
                sigcls=sigcls)

    try:
        sig = obj.__signature__
    except AttributeError:
        pass
    else:
        if sig is not None:
            if not isinstance(sig, Signature):
                raise TypeError(
                    'unexpected object {!r} in __signature__ '
                    'attribute'.format(sig))
            return sig

    try:
        partialmethod = obj._partialmethod
    except AttributeError:
        pass
    else:
        if isinstance(partialmethod, functools.partialmethod):
            # Unbound partialmethod (see functools.partialmethod)
            # This means, that we need to calculate the signature
            # as if it's a regular partial object, but taking into
            # account that the first positional argument
            # (usually `self`, or `cls`) will not be passed
            # automatically (as for boundmethods)

            wrapped_sig = _signature_from_callable(
                partialmethod.func,
                follow_wrapper_chains=follow_wrapper_chains,
                skip_bound_arg=skip_bound_arg,
                sigcls=sigcls)

            sig = _signature_get_partial(wrapped_sig, partialmethod, (None,))
            first_wrapped_param = tuple(wrapped_sig.parameters.values())[0]
            if first_wrapped_param.kind is Parameter.VAR_POSITIONAL:
                # First argument of the wrapped callable is `*args`, as in
                # `partialmethod(lambda *args)`.
                return sig
            else:
                sig_params = tuple(sig.parameters.values())
                assert (not sig_params or
                        first_wrapped_param is not sig_params[0])
                new_params = (first_wrapped_param,) + sig_params
                return sig.replace(parameters=new_params)

    if isfunction(obj) or _signature_is_functionlike(obj):
        # If it's a pure Python function, or an object that is duck type
        # of a Python function (Cython functions, for instance), then:
        return _signature_from_function(sigcls, obj)

    if _signature_is_builtin(obj):
        return _signature_from_builtin(sigcls, obj,
                                       skip_bound_arg=skip_bound_arg)

    if isinstance(obj, functools.partial):
        wrapped_sig = _signature_from_callable(
            obj.func,
            follow_wrapper_chains=follow_wrapper_chains,
            skip_bound_arg=skip_bound_arg,
            sigcls=sigcls)
        return _signature_get_partial(wrapped_sig, obj)

    sig = None
    if isinstance(obj, type):
        # obj is a class or a metaclass

        # First, let's see if it has an overloaded __call__ defined
        # in its metaclass
        call = _signature_get_user_defined_method(type(obj), '__call__')
        if call is not None:
            sig = _signature_from_callable(
                call,
                follow_wrapper_chains=follow_wrapper_chains,
                skip_bound_arg=skip_bound_arg,
                sigcls=sigcls)
        else:
            # Now we check if the 'obj' class has a '__new__' method
            new = _signature_get_user_defined_method(obj, '__new__')
            if new is not None:
                sig = _signature_from_callable(
                    new,
                    follow_wrapper_chains=follow_wrapper_chains,
                    skip_bound_arg=skip_bound_arg,
                    sigcls=sigcls)
            else:
                # Finally, we should have at least __init__ implemented
                init = _signature_get_user_defined_method(obj, '__init__')
                if init is not None:
                    sig = _signature_from_callable(
                        init,
                        follow_wrapper_chains=follow_wrapper_chains,
                        skip_bound_arg=skip_bound_arg,
                        sigcls=sigcls)

        if sig is None:
            # At this point we know, that `obj` is a class, with no user-
            # defined '__init__', '__new__', or class-level '__call__'

            for base in obj.__mro__[:-1]:
                # Since '__text_signature__' is implemented as a
                # descriptor that extracts text signature from the
                # class docstring, if 'obj' is derived from a builtin
                # class, its own '__text_signature__' may be 'None'.
                # Therefore, we go through the MRO (except the last
                # class in there, which is 'object') to find the first
                # class with non-empty text signature.
                try:
                    text_sig = base.__text_signature__
                except AttributeError:
                    pass
                else:
                    if text_sig:
                        # If 'obj' class has a __text_signature__ attribute:
                        # return a signature based on it
                        return _signature_fromstr(sigcls, obj, text_sig)

            # No '__text_signature__' was found for the 'obj' class.
            # Last option is to check if its '__init__' is
            # object.__init__ or type.__init__.
            if type not in obj.__mro__:
                # We have a class (not metaclass), but no user-defined
                # __init__ or __new__ for it
                if (obj.__init__ is object.__init__ and
                    obj.__new__ is object.__new__):
                    # Return a signature of 'object' builtin.
                    return sigcls.from_callable(object)
                else:
                    raise ValueError(
                        'no signature found for builtin type {!r}'.format(obj))

    elif not isinstance(obj, _NonUserDefinedCallables):
        # An object with __call__
        # We also check that the 'obj' is not an instance of
        # _WrapperDescriptor or _MethodWrapper to avoid
        # infinite recursion (and even potential segfault)
        call = _signature_get_user_defined_method(type(obj), '__call__')
        if call is not None:
            try:
                sig = _signature_from_callable(
                    call,
                    follow_wrapper_chains=follow_wrapper_chains,
                    skip_bound_arg=skip_bound_arg,
                    sigcls=sigcls)
            except ValueError as ex:
                msg = 'no signature found for {!r}'.format(obj)
                raise ValueError(msg) from ex

    if sig is not None:
        # For classes and objects we skip the first parameter of their
        # __call__, __new__, or __init__ methods
        if skip_bound_arg:
            return _signature_bound_method(sig)
        else:
            return sig

    if isinstance(obj, types.BuiltinFunctionType):
        # Raise a nicer error message for builtins
        msg = 'no signature found for builtin function {!r}'.format(obj)
        raise ValueError(msg)

    raise ValueError('callable {!r} is not supported by signature'.format(obj))


len(dir(fm))


len(inspect.__dict__)


g = {}
g.update(inspect.__dict__)
g.update(fm.__dict__)
len(g)


class Foo:
    def __init__(self, a, b, c): pass

    @classmethod
    def clsmed(): pass
    
inspect.signature(Foo)


# g = locals()
sig = Fastdb(_signature_from_callable, g)


#| column: screen

sig.dbprint(9, "so that it can use in itself")
sig.print(part=1)


#| column: screen

sig.dbprint(14, "obj must be callable")
sig.print(part=1)


isinstance(Foo.clsmed, types.MethodType)


#| column: screen

sig.dbprint(17, "obj can be a classmethod")
sig.print(part=1)


from fastcore.meta import delegates


def low(a, b=1): pass
@delegates(low)
def mid(c, d=1, **kwargs): pass


#| column: screen

dbsig = sig.dbprint(28, "does Foo has __signature__?", "follow_wrapper_chains", \
            "obj = unwrap(obj, stop=(lambda f: hasattr(f, '__signature__')))", "isinstance(obj, types.MethodType)")

# inspect._signature_from_callable = _signature_from_callable
inspect._signature_from_callable = dbsig
# inspect._signature_from_callable = g['_signature_from_callable']

inspect.signature(mid)
sig.print(part=1) 


#| column: screen

dbsig = sig.dbprint(37, "check __signature__", "obj = unwrap(obj, stop=(lambda f: hasattr(f, '__signature__')))", "obj.__signature__")
inspect._signature_from_callable = dbsig
inspect.signature(mid)
sig.print(part=2) 





#| column: screen

dbsig = sig.dbprint(91, "step 1: obj is a class?", "isinstance(obj, type)")
inspect._signature_from_callable = dbsig
inspect.signature(Foo)
sig.print(part=3) 


#| column: screen

dbsig = sig.dbprint(96, "step 2: define its own __call__?", "call = _signature_get_user_defined_method(type(obj), '__call__')")
inspect._signature_from_callable = dbsig
inspect.signature(Foo)
sig.print(part=3) 


#| column: screen

dbsig = sig.dbprint(101, "step 3: define its own __new__?", "new = _signature_get_user_defined_method(obj, '__new__')")
inspect._signature_from_callable = dbsig
inspect.signature(Foo)
sig.print(part=4)


#| column: screen

sig.dbprint(102, "step 4: define its own __init__?", "init = _signature_get_user_defined_method(obj, '__init__')")
inspect._signature_from_callable = dbsig
inspect.signature(Foo)
sig.print(part=4)


#| column: screen

sig.dbprint(108, "step 5: __init__ is inside obj.__dict__?", "'__init__' in obj.__dict__")
inspect._signature_from_callable = dbsig
inspect.signature(Foo)
sig.print(part=4)


#| column: screen
dbsig = sig.dbprint(116, "step 6: run on itself using functools.partial", "sig = _get_signature_of(factory_method)")
inspect._signature_from_callable = dbsig
inspect.signature(Foo)


#| column: screen
dbsig = sig.dbprint(76, "step 7: run on itself will run here", "isfunction(obj)", "_signature_is_functionlike(obj)")
inspect._signature_from_callable = dbsig
inspect.signature(Foo.__init__)


#| column: screen
dbsig = sig.dbprint(79, "step 8: get sig with a different func", "env")
inspect._signature_from_callable = dbsig
inspect.signature(Foo)


#| column: screen
sig.print()


class Base: # pass
    def __new__(self, **args): pass  # defines a __new__ 

class Foo(Base):
    def __init__(self, d, e, f): pass
    
inspect._signature_from_callable = sig.orisrc
inspect.signature(Foo) # no more problem for python 3.9+, 


# from IPython.display import IFrame

# IFrame(src="https://www.kaggle.com/embed/danielliao/notebook3edc928f49?cellIds=2&kernelSessionId=104407182", width = "1200", height="300", \
#        style="margin: 0 auto; width: 100%; max-width: 950px;", frameborder="0", scrolling="auto", title="notebook3edc928f49")


inspect._signature_from_callable = _signature_from_callableOld
inspect.signature(Foo) # it is a problem for python 3.7, 


# g = locals()


sigOld = Fastdb(_signature_from_callableOld, g)


#| column: screen

dbsigOld = sigOld.dbprint(115, "messup step 1: overriding __new__ is detected", "new = _signature_get_user_defined_method(obj, '__new__')")
inspect._signature_from_callable = dbsigOld 
print(inspect.signature(Foo)) # it is a problem for python 3.7, 
sigOld.print(part=4)


from pprint import pprint


#| column: screen

dbsigOld = sigOld.dbprint(117, "messup step 2: only __new__ sig is extracted", "env")
inspect._signature_from_callable = dbsigOld 
pprint(inspect.signature(Foo)) # it is a problem for python 3.7, 
sigOld.print(part=4)


#| column: screen

dbsigOld = sigOld.dbprint(124, "messup step 3: __init__ don't even get accessed")
inspect._signature_from_callable = dbsigOld 
pprint(inspect.signature(Foo))
sigOld.print(part=4)








from fastcore.meta import FixSigMeta, test_sig


inspect._signature_from_callable = _signature_from_callableNew


class Base: # pass
    def __new__(self, **args): pass  # defines a __new__ 

class Foo(Base, metaclass=FixSigMeta):
    def __init__(self, d, e, f): pass
    
test_sig(Foo, '(d, e, f)')
inspect.signature(Foo)


inspect._signature_from_callable = dbsigOld
inspect.signature(Foo) # No more a problem for python 3.7


class Base: # pass
    def __new__(self, **args): pass  # defines a __new__ 

class Foo(Base):
    def __init__(self, d, e, f): pass
    
inspect._signature_from_callable = sigOld.orisrc
inspect.signature(Foo) 


hasattr(Foo, '__signature__')


class Base: # pass
    def __new__(self, **args): pass  # defines a __new__ 

class Foo(Base, metaclass=FixSigMeta):
    def __init__(self, d, e, f): pass
    
test_sig(Foo, '(d, e, f)')
inspect.signature(Foo)


Foo.__signature__


#| column: screen

dbsigOld = sigOld.dbprint(27, "FixSigMeta step 1: does it have __signature__", "env", "hasattr(obj, '__signature__')", \
               "obj = unwrap(obj, stop=(lambda f: hasattr(f, '__signature__')))", "inspect.getdoc(unwrap)")
inspect._signature_from_callable = dbsigOld
pprint(inspect.signature(Foo)) 
sigOld.print(part=1)


#| column: screen

dbsigOld = sigOld.dbprint(44, "FixSigMeta step 2: use __signature__ as Foo's sig", "env", "sig = obj.__signature__", "isinstance(sig, Signature)")
inspect._signature_from_callable = dbsigOld
pprint(inspect.signature(Foo)) 
sigOld.print(part=2)


#| column: screen

sigOld.print()





inspect._signature_from_callable = _signature_from_callableNew


class BaseMeta(type): 
    # using __new__ from type
    def __call__(cls, *args, **kwargs): pass
class Foo(metaclass=BaseMeta): 
    def __init__(self, d, e, f): pass

test_sig(Foo, '(*args, **kwargs)')


class BaseMeta(type): 
    def __new__(cls, name, bases, dict):
        return super().__new__(cls, name, bases, dict) # using __new__ from type
    def __call__(cls, *args, **kwargs): pass
class Foo(metaclass=BaseMeta): 
    def __init__(self, d, e, f): pass

test_sig(Foo, '(*args, **kwargs)')





#| column: screen

dbsig = sig.dbprint(37, "does Foo store sig inside __signature__", "hasattr(obj, '__signature__')")
inspect._signature_from_callable = dbsig
pprint(inspect.signature(Foo))
sig.print(part=2)


#| column: screen

dbsig = sig.dbprint(98, "__call__ is defined", "sig = _get_signature_of(call)")
inspect._signature_from_callable = dbsig
pprint(inspect.signature(Foo))
sig.print(part=3)


class BaseMeta(FixSigMeta): 
    # using __new__ of  FixSigMeta instead of type
    def __call__(cls, *args, **kwargs): pass

class Foo(metaclass=BaseMeta): # Base
    def __init__(self, d, e, f): pass

test_sig(Foo, '(d, e, f)')


class BaseMeta(FixSigMeta): 
    def __new__(cls, name, bases, dict): # not really overriding __new__, still using FixSigMeta.__new__ actually
        return super().__new__(cls, name, bases, dict)
    def __call__(cls, *args, **kwargs): pass

class Foo(metaclass=BaseMeta): # Base
    def __init__(self, d, e, f): pass

test_sig(Foo, '(d, e, f)')


#| column: screen

dbsig = sig.dbprint(29, "why has to unwrap?", "hasattr(obj, '__signature__')")
inspect._signature_from_callable = dbsig
pprint(inspect.signature(Foo))
sig.print(part=1)


#| column: screen

dbsig = sig.dbprint(30, "what is wrapped by Foo?", "isinstance(obj, types.MethodType)", "obj", "type(obj)")
inspect._signature_from_callable = dbsig
pprint(inspect.signature(Foo))
sig.print(part=2)


# g = locals()
fsm = Fastdb(FixSigMeta, g)


from fastcore.meta import _rm_self


#| column: screen

dbfsm = fsm.dbprint(4, "FixSigMeta create Foo with its __new__", "res", "inspect.signature(res.__init__)", "_rm_self(inspect.signature(res.__init__))")
FixSigMeta = dbfsm
inspect._signature_from_callable = sig.orisrc # deactivate it

class BaseMeta(FixSigMeta): 
    def __new__(cls, name, bases, dict): # not really overriding __new__, still using FixSigMeta.__new__ actually
        return super().__new__(cls, name, bases, dict)
    def __call__(cls, *args, **kwargs): pass

class Foo(metaclass=BaseMeta): # Base
    def __init__(self, d, e, f): pass

test_sig(Foo, '(d, e, f)')


fsm.print()


FixSigMeta = fsm.orisrc


from fastcore.meta import test_eq


class BaseMeta(FixSigMeta): 
    # __new__ comes from FixSigMeta
    def __new__(cls, *args, **kwargs): pass # as it create None for Foo, there is no signature neither
    def __call__(cls, *args, **kwargs): pass

class Foo(metaclass=BaseMeta): # Base
    def __init__(self, d, e, f): pass

test_eq(type(Foo), type(None))


class BaseMeta(FixSigMeta): 
    # __new__ comes from FixSigMeta
    def __init__(cls, *args, **kwargs): pass # this __init__ is not used by Foo
    def __call__(cls, *args, **kwargs): pass

class Foo(metaclass=BaseMeta): # Base
    def __init__(self, d, e, f): pass # override the __init__ above

test_sig(Foo, '(d, e, f)')



