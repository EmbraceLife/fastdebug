{
 "cells": [
  {
   "cell_type": "code",
   "execution_count": null,
   "id": "492903a1",
   "metadata": {},
   "outputs": [
    {
     "data": {
      "text/html": [
       "<style>.container { width:100% !important; }</style>"
      ],
      "text/plain": [
       "<IPython.core.display.HTML object>"
      ]
     },
     "metadata": {},
     "output_type": "display_data"
    }
   ],
   "source": [
    "#| hide\n",
    "from fastdebug.utils import *"
   ]
  },
  {
   "cell_type": "markdown",
   "id": "e7d9f2be",
   "metadata": {},
   "source": [
    "# Make Learning Fastai Uncool"
   ]
  },
  {
   "cell_type": "markdown",
   "id": "cf6aaaa7",
   "metadata": {},
   "source": [
    "## Todos"
   ]
  },
  {
   "cell_type": "markdown",
   "id": "13584fc9",
   "metadata": {},
   "source": [
    "### 2022.11.7"
   ]
  },
  {
   "cell_type": "markdown",
   "id": "a06fc148",
   "metadata": {},
   "source": [
    "- [x] a workflow: 1. create a pure verion of code for training models; 2. create code for exploring src; 3. create links to open both codes \n",
    "- [ ] redo kaggle paddy part 1 with new workflow\n",
    "- [ ] share my notes of meta learning and ask Radek for permession of sharing\n",
    "- [ ] start to work on Radek's notebooks on OTTO competition \n",
    "- [ ] display all important forum posts of mine and others I admire \n",
    "- [ ] what do I most like to work on and share (kaggle notebooks dissection as a beginner)"
   ]
  },
  {
   "cell_type": "markdown",
   "id": "81df481d",
   "metadata": {},
   "source": [
    "## How to use this notebook"
   ]
  },
  {
   "cell_type": "markdown",
   "id": "cf93b01a",
   "metadata": {},
   "source": [
    "### use `fastlistnbs` to check menu"
   ]
  },
  {
   "cell_type": "code",
   "execution_count": null,
   "id": "ed3986ff",
   "metadata": {},
   "outputs": [
    {
     "data": {
      "text/markdown": [
       "---\n",
       "\n",
       "[source](https://github.com/EmbraceLife/fastdebug/blob/master/fastdebug/utils.py#LNone){target=\"_blank\" style=\"float:right; font-size:smaller\"}\n",
       "\n",
       "### fastlistnbs\n",
       "\n",
       ">      fastlistnbs (query='all', flt_fd='src')\n",
       "\n",
       "display section headings of notebooks, filter options: fastai, part2, groundup, src_fastai,src_fastcore, all\n",
       "\n",
       "|    | **Type** | **Default** | **Details** |\n",
       "| -- | -------- | ----------- | ----------- |\n",
       "| query | str | all | \"howto\", \"srcode\", \"journey\", \"question\", \"doc\", \"radek\", \"practice\", \"links\", or \"all\" |\n",
       "| flt_fd | str | src | other options: \"groundup\", \"part2\", \"all\" |"
      ],
      "text/plain": [
       "---\n",
       "\n",
       "[source](https://github.com/EmbraceLife/fastdebug/blob/master/fastdebug/utils.py#LNone){target=\"_blank\" style=\"float:right; font-size:smaller\"}\n",
       "\n",
       "### fastlistnbs\n",
       "\n",
       ">      fastlistnbs (query='all', flt_fd='src')\n",
       "\n",
       "display section headings of notebooks, filter options: fastai, part2, groundup, src_fastai,src_fastcore, all\n",
       "\n",
       "|    | **Type** | **Default** | **Details** |\n",
       "| -- | -------- | ----------- | ----------- |\n",
       "| query | str | all | \"howto\", \"srcode\", \"journey\", \"question\", \"doc\", \"radek\", \"practice\", \"links\", or \"all\" |\n",
       "| flt_fd | str | src | other options: \"groundup\", \"part2\", \"all\" |"
      ]
     },
     "execution_count": null,
     "metadata": {},
     "output_type": "execute_result"
    }
   ],
   "source": [
    "show_doc(fastlistnbs)"
   ]
  },
  {
   "cell_type": "code",
   "execution_count": null,
   "id": "09f97110",
   "metadata": {},
   "outputs": [],
   "source": [
    "fastnbs(\"src: fastlistnbs\")"
   ]
  },
  {
   "cell_type": "code",
   "execution_count": null,
   "id": "6f57752e",
   "metadata": {},
   "outputs": [
    {
     "data": {
      "text/plain": [
       "0          ht: imports\n",
       "1    ht: data_download\n",
       "2      ht: data_access\n",
       "3        ht: data_prep\n",
       "4     ht: data_loaders\n",
       "5         ht: cbs_tfms\n",
       "6          ht: learner\n",
       "7              ht: fit\n",
       "8             ht: pred\n",
       "9               ht: fu\n",
       "dtype: object"
      ]
     },
     "execution_count": null,
     "metadata": {},
     "output_type": "execute_result"
    }
   ],
   "source": [
    "hts"
   ]
  },
  {
   "cell_type": "code",
   "execution_count": null,
   "id": "b01e5bf4",
   "metadata": {},
   "outputs": [],
   "source": []
  },
  {
   "cell_type": "markdown",
   "id": "15616df9",
   "metadata": {},
   "source": [
    "### use `fastnbs` to dive in"
   ]
  },
  {
   "cell_type": "code",
   "execution_count": null,
   "id": "2440950f",
   "metadata": {},
   "outputs": [
    {
     "data": {
      "text/markdown": [
       "---\n",
       "\n",
       "[source](https://github.com/EmbraceLife/fastdebug/blob/master/fastdebug/utils.py#LNone){target=\"_blank\" style=\"float:right; font-size:smaller\"}\n",
       "\n",
       "### fastnbs\n",
       "\n",
       ">      fastnbs (question:str, filter_folder='src', strict=False, output=False,\n",
       ">               accu:float=0.8, nb=True, db=False)\n",
       "\n",
       "check with fastlistnbs() to skim through all the learning points as section titles; then use fastnotes() to find interesting lines which can be notes or codes, and finally use fastnbs() display the entire learning points section including notes and codes.\n",
       "\n",
       "|    | **Type** | **Default** | **Details** |\n",
       "| -- | -------- | ----------- | ----------- |\n",
       "| question | str |  | see fastlistnbs() results for what to search \"doc: \", \"rd: \", \"src: \", \"ht: \", \"jn: \", \"qt: \", \"pt:\" |\n",
       "| filter_folder | str | src | options: src, all, |\n",
       "| strict | bool | False | loose search keyword, not as the first query word |\n",
       "| output | bool | False | True for nice print of cell output |\n",
       "| accu | float | 0.8 |  |\n",
       "| nb | bool | True |  |\n",
       "| db | bool | False |  |"
      ],
      "text/plain": [
       "---\n",
       "\n",
       "[source](https://github.com/EmbraceLife/fastdebug/blob/master/fastdebug/utils.py#LNone){target=\"_blank\" style=\"float:right; font-size:smaller\"}\n",
       "\n",
       "### fastnbs\n",
       "\n",
       ">      fastnbs (question:str, filter_folder='src', strict=False, output=False,\n",
       ">               accu:float=0.8, nb=True, db=False)\n",
       "\n",
       "check with fastlistnbs() to skim through all the learning points as section titles; then use fastnotes() to find interesting lines which can be notes or codes, and finally use fastnbs() display the entire learning points section including notes and codes.\n",
       "\n",
       "|    | **Type** | **Default** | **Details** |\n",
       "| -- | -------- | ----------- | ----------- |\n",
       "| question | str |  | see fastlistnbs() results for what to search \"doc: \", \"rd: \", \"src: \", \"ht: \", \"jn: \", \"qt: \", \"pt:\" |\n",
       "| filter_folder | str | src | options: src, all, |\n",
       "| strict | bool | False | loose search keyword, not as the first query word |\n",
       "| output | bool | False | True for nice print of cell output |\n",
       "| accu | float | 0.8 |  |\n",
       "| nb | bool | True |  |\n",
       "| db | bool | False |  |"
      ]
     },
     "execution_count": null,
     "metadata": {},
     "output_type": "execute_result"
    }
   ],
   "source": [
    "show_doc(fastnbs)"
   ]
  },
  {
   "cell_type": "code",
   "execution_count": null,
   "id": "401b14ea",
   "metadata": {},
   "outputs": [
    {
     "data": {
      "text/markdown": [
       "### <mark style=\"background-color: #ffff00\">src:</mark>  <mark style=\"background-color: #FFFF00\">fastnbs</mark> (question, filter_folder=\"src\", ...)\n"
      ],
      "text/plain": [
       "<IPython.core.display.Markdown object>"
      ]
     },
     "metadata": {},
     "output_type": "display_data"
    },
    {
     "data": {
      "text/markdown": [
       "heading 3.\n",
       "\n",
       "\n",
       "```python\n",
       "#| export\n",
       "# @snoop\n",
       "def fastnbs(question:str, # see fastlistnbs() results for what to search \"doc: \", \"rd: \", \"src: \", \"ht: \", \"jn: \", \"qt: \", \"pt:\"\n",
       "            filter_folder=\"src\", # options: src, all,\n",
       "            strict=False, # loose search keyword, not as the first query word\n",
       "            output=False, # True for nice print of cell output\n",
       "            accu:float=0.8, \n",
       "            nb=True, \n",
       "            db=False):\n",
       "    \"check with fastlistnbs() to skim through all the learning points as section titles; \\\n",
       "then use fastnotes() to find interesting lines which can be notes or codes, and finally \\\n",
       "use fastnbs() display the entire learning points section including notes and codes.\"\n",
       "    questlst = question.split(' ')\n",
       "    mds_no_output, folder, ipynbs, ipyfolder, mds_output, output_fd, pys, py_folder = get_all_nbs()\n",
       "    if not output: mds = mds_no_output\n",
       "    else: mds = mds_output\n",
       "        \n",
       "    for file_path in mds:\n",
       "        if filter_folder == \"fastai\" and \"_fastai_\" in file_path and not \"_fastai_pt2_\" in file_path:\n",
       "            file_fullname = file_path\n",
       "        elif filter_folder == \"part2\" and \"_fastai_pt2_\" in file_path:\n",
       "            file_fullname = file_path\n",
       "        elif filter_folder == \"src\" and \"fast\" in file_path:\n",
       "            file_fullname = file_path            \n",
       "        elif filter_folder == \"all\": \n",
       "            file_fullname = file_path\n",
       "        else: continue\n",
       "\n",
       "        file_name = file_fullname.split('/')[-1]\n",
       "        with open(file_fullname, 'r') as file:\n",
       "            for count, l in enumerate(file):\n",
       "                if l.startswith(\"## \") or l.startswith(\"### \") or l.startswith(\"#### \"):\n",
       "                    truelst = [q.lower() in l.lower() for q in questlst]\n",
       "                    pct = sum(truelst)/len(truelst)\n",
       "                    ctn = l.split(\"# ```\")[1] if \"# ```\" in l else l.split(\"# \")[1] if \"# \" in l else l.split(\"# `\")\n",
       "                    if strict:\n",
       "                        if pct >= accu and ctn.startswith(questlst[0]): # make sure the heading start with the exact quest word\n",
       "                            if db: \n",
       "                                head1 = f\"keyword match is {pct}, Found a section: in {file_name}\"\n",
       "                                head1 = highlight(str(pct), head1)\n",
       "                                head1 = highlight(file_name, head1)\n",
       "                                display_md(head1)\n",
       "                                highlighted_line = highlight(question, l, db=db)                        \n",
       "        #                         print()\n",
       "                            display_block(l, file_fullname, output=output, keywords=question)\n",
       "                            if nb: # to link a notebook with specific heading\n",
       "                                if \"# ```\" in l: openNB(file_name, l.split(\"```\")[1].replace(\" \", \"-\"), db=db)\n",
       "                                else: openNB(file_name, l.split(\"# \")[1].replace(\" \", \"-\"), db=db)\n",
       "\n",
       "                                openNBKaggle(file_name, db=db)\n",
       "                    else: \n",
       "                        if pct >= accu: # make sure the heading start with the exact quest word\n",
       "                            if db: \n",
       "                                head1 = f\"keyword match is {pct}, Found a section: in {file_name}\"\n",
       "                                head1 = highlight(str(pct), head1)\n",
       "                                head1 = highlight(file_name, head1)\n",
       "                                display_md(head1)\n",
       "                                highlighted_line = highlight(question, l, db=db)                        \n",
       "        #                         print()\n",
       "                            display_block(l, file_fullname, output=output, keywords=question)\n",
       "                            if nb: # to link a notebook with specific heading\n",
       "                                if \"# ```\" in l: openNB(file_name, l.split(\"```\")[1].replace(\" \", \"-\"), db=db)\n",
       "                                else: openNB(file_name, l.split(\"# \")[1].replace(\" \", \"-\"), db=db)\n",
       "\n",
       "                                openNBKaggle(file_name, db=db)\n",
       "```\n",
       "\n",
       "```python\n",
       "\"# this is me\".split(\"# \")[1].replace(\" \", \"-\")\n",
       "\"# thisisme\".split(\"# \")[1].replace(\" \", \"-\")\n",
       "```\n",
       "\n",
       "```python\n",
       "# fastnbs(\"Snoop them together in one go\", output=True)\n",
       "# fastnbs(\"how matrix multiplication\")\n",
       "# fastnbs(\"how matrix multiplication\", folder=\"fastai\")\n",
       "# fastnbs(\"show_image\", \"src\")\n",
       "# fastnbs(\"module\", \"src\")\n",
       "# fastnbs(\"module\", \"src\", False)\n",
       "# fastnbs(\"module\")\n",
       "# fastnbs(\"apply\")\n",
       "# fastnbs(\"get all nbs\")\n",
       "```\n",
       "\n",
       "```python\n",
       "\"### ```show_image(b, a, c)```\".split(\"```\")[1].replace(\" \", \"-\")\n",
       "```\n",
       "\n",
       "Next, heading 2\n",
       "## fastcodes"
      ],
      "text/plain": [
       "<IPython.core.display.Markdown object>"
      ]
     },
     "metadata": {},
     "output_type": "display_data"
    },
    {
     "data": {
      "text/markdown": [
       "[Open `01_utils` in Jupyter Notebook locally](http://localhost:8888/tree/nbs/lib/01_utils.ipynb#src:-fastnbs(question,-filter_folder=\"src\",-...)\n",
       ")"
      ],
      "text/plain": [
       "<IPython.core.display.Markdown object>"
      ]
     },
     "metadata": {},
     "output_type": "display_data"
    }
   ],
   "source": [
    "fastnbs(\"src: fastnbs\")"
   ]
  },
  {
   "cell_type": "markdown",
   "id": "b6d79915",
   "metadata": {},
   "source": [
    "## Search my Journey "
   ]
  },
  {
   "cell_type": "code",
   "execution_count": null,
   "id": "94a9ba54",
   "metadata": {},
   "outputs": [],
   "source": []
  },
  {
   "cell_type": "code",
   "execution_count": null,
   "id": "28c23d63",
   "metadata": {},
   "outputs": [
    {
     "name": "stdout",
     "output_type": "stream",
     "text": [
      "jn by dates: ========\n",
      "### jn: help other is the best way forward  /2022-11-2\n",
      "### jn: combine experimenting notebooks with reading and writing codes /2022-11-5\n",
      "### jn: Why start to try Kaggle Recommendation competition OTTO now /2022-11-7\n",
      "### jn: The inner voice often reminds me: You won't succeed no matter how hard you try. But with all the amazing alumni like Radek, Moody etc in fastai community I can't help trying /2022-11-7\n",
      "### jn: A get-started  [post](https://www.kaggle.com/competitions/otto-recommender-system) on recsys by Radek /2022-11-8\n",
      "#### jn: don't worry many theories or models or equations about recsys I don't understand as good libraries of recsys should have them all in code. As long as I can use the code in practice, I should be able to understand them in the end /2022-11-9\n",
      "#### jn: I should run code and experiment notebooks daily when even I don't have a whole picture of recsys /2022-11-9\n",
      "### jn: Radek - do tell the world what you are up to /2022-11-9\n",
      "### jn: Radek - Don't worry about how your writing is written /2022-11-9\n",
      "### jn: Radek - let Kaggle be a life changing experience /2022-11-9\n",
      "### jn: Radek - how to do project based learning /2022-11-9\n",
      "### jn: I preordered walk with fastai, but I will primarily focus on Radek and OTTO /2022-11-10\n",
      "### jn: as Radek suggested, I should focus on notebooks and discussions shared on Kaggle OTTO to grow myself bit by bit /2022-11-10\n",
      "### jn: I have experimented `process_data.ipynb` and `eda on OTTO.ipynb` by Radek /2022-11-10\n",
      "### jn: I started to read https://github.com/otto-de/recsys-dataset which has a lot helpful info for beginners /2022-11-10\n",
      "### jn: record all techniques learnt within a context (using \"recsys - otto - get started\") is much more helpful than extract it from the context it's learnt /2022-11-11\n",
      "### jn: starting to work on Radek's [notebook](https://www.kaggle.com/code/radek1/howto-full-dataset-as-parquet-csv-files?scriptVersionId=109945227) on how to use the otto dataset in parquet file /2022-11-11\n",
      "### jn: started the notebook [co-visitation matrix - simplified, imprvd logic 🔥](https://www.kaggle.com/code/radek1/co-visitation-matrix-simplified-imprvd-logic) and half way through. At first the notebook was intimidating even though Radek made the codes easy to follow, and after experiment line by line I can taste the refresh and interesting flavor from this notebook /2022-11-11\n",
      "### jn: in the discussion word2vec is frequently mentioned, I will at some point [search embedding](https://forums.fast.ai/t/exploring-fastai-with-excel-and-python/97426/4?u=daniel) in fastai lectures (videos) for related content (search [colab](https://colab.research.google.com/drive/102_vWdSfRxw8SI61CED1B9uVE2cJxpCC?usp=sharing)) /2022-11-11\n"
     ]
    }
   ],
   "source": [
    "fastlistnbs(\"journey\")"
   ]
  },
  {
   "cell_type": "code",
   "execution_count": null,
   "id": "4264478d",
   "metadata": {},
   "outputs": [
    {
     "data": {
      "text/markdown": [
       "### <mark style=\"background-color: #ffff00\">jn:</mark>  <mark style=\"background-color: #ffff00\">the</mark>  inner <mark style=\"background-color: #ffff00\">voice</mark>  <mark style=\"background-color: #ffff00\">often</mark>  <mark style=\"background-color: #ffff00\">reminds</mark>  <mark style=\"background-color: #FFFF00\">me</mark> : you won't succeed no matter how hard you try. but with all <mark style=\"background-color: #ffff00\">the</mark>  amazing alumni like radek, moody etc in fastai community i can't help trying /2022-11-7\n"
      ],
      "text/plain": [
       "<IPython.core.display.Markdown object>"
      ]
     },
     "metadata": {},
     "output_type": "display_data"
    },
    {
     "data": {
      "text/markdown": [
       "heading 3.\n",
       "\n",
       "\n",
       "Next, heading 3\n",
       "### jn: combine experimenting notebooks with reading and writing codes /2022-11-5"
      ],
      "text/plain": [
       "<IPython.core.display.Markdown object>"
      ]
     },
     "metadata": {},
     "output_type": "display_data"
    },
    {
     "data": {
      "text/markdown": [
       "[Open `00_fastai_Meta_learning_Radek` in Jupyter Notebook locally](http://localhost:8888/tree/nbs/fastai_notebooks/00_fastai_Meta_learning_Radek.ipynb#jn:-The-inner-voice-often-reminds-me:-You-won't-succeed-no-matter-how-hard-you-try.-But-with-all-the-amazing-alumni-like-Radek,-Moody-etc-in-fastai-community-I-can't-help-trying-/2022-11-7\n",
       ")"
      ],
      "text/plain": [
       "<IPython.core.display.Markdown object>"
      ]
     },
     "metadata": {},
     "output_type": "display_data"
    }
   ],
   "source": [
    "fastnbs(\"jn: The nner voice often reminds me\")"
   ]
  },
  {
   "cell_type": "markdown",
   "id": "b5a6958f",
   "metadata": {},
   "source": [
    "## Search docs"
   ]
  },
  {
   "cell_type": "code",
   "execution_count": null,
   "id": "698927ab",
   "metadata": {},
   "outputs": [
    {
     "name": "stdout",
     "output_type": "stream",
     "text": [
      "### doc: DataBlock.datasets(source, verbose)\n",
      "### doc: DataBlock.dataloaders\n",
      "/Users/Natsume/Documents/fastdebug/mds/fastai_notebooks/0001_fastai_is_it_a_bird.md\n",
      "\n",
      "### doc: download_kaggle_dataset(comp, local_folder='', install='fastai \"timm>=0.6.2.dev0\")\n",
      "### doc: check_subfolders_img(path, db=False)\n",
      "### doc: randomdisplay(path, size, db=False)\n",
      "### doc: remove_failed\n",
      "### doc: ImageDataLoaders.from_folder\n",
      "### doc: aug_transforms(size=128, min_scale=0.75)\n",
      "### doc: vision_learner(dls, 'resnet26d', metrics=error_rate, path='.').to_fp16()\n",
      "### doc: learn.export(fname='export.pkl', pickle_module=pickle, pickle_protocol=2)\n",
      "/Users/Natsume/Documents/fastdebug/mds/fastai_notebooks/0008_fastai_first_steps_road_to_top_part_1.md\n",
      "\n",
      "### doc: ImageDataLoaders.from_name_func(path: 'str | Path', fnames: 'list', label_func: 'callable', **kwargs) -> 'DataLoaders'\n",
      "/Users/Natsume/Documents/fastdebug/mds/fastai_notebooks/0002_fastai_saving_a_basic_fastai_model.md\n",
      "\n",
      "jn by dates: ========\n"
     ]
    }
   ],
   "source": [
    "fastlistnbs(\"doc\")"
   ]
  },
  {
   "cell_type": "code",
   "execution_count": null,
   "id": "07ae0686",
   "metadata": {},
   "outputs": [
    {
     "data": {
      "text/markdown": [
       "### <mark style=\"background-color: #ffff00\">doc:</mark>  <mark style=\"background-color: #FFFF00\">imagedataloaders</mark> .from_folder\n"
      ],
      "text/plain": [
       "<IPython.core.display.Markdown object>"
      ]
     },
     "metadata": {},
     "output_type": "display_data"
    },
    {
     "data": {
      "text/markdown": [
       "heading 3.\n",
       "\n",
       "\n",
       "\n",
       "To create a DataLoader obj from a folder, and a dataloader prepares functions for splitting training and validation sets, extracting images and labels, each item transformations, and batch transformations.\n",
       "\n",
       "eg., give it `trn_path` (folder has subfolders like train, test or even valid), `valid_pct` (split a portion from train to create validation set), `seed` (set a seed for reproducibility), `item_tfms` (do transforms to each item), and `batch_tfms` (do transformations on batches)\n",
       "\n",
       "<!-- #region -->\n",
       "```python\n",
       "dls = ImageDataLoaders.from_folder(trn_path, valid_pct=0.2, seed=42,\n",
       "    item_tfms=Resize(480, method='squish'),\n",
       "    batch_tfms=aug_transforms(size=128, min_scale=0.75))\n",
       "\n",
       "dls.show_batch(max_n=6)\n",
       "```\n",
       "<!-- #endregion -->\n",
       "\n",
       "<!-- #region -->\n",
       "```python\n",
       "@classmethod\n",
       "@delegates(DataLoaders.from_dblock)\n",
       "def from_folder(cls:ImageDataLoaders, path, train='train', valid='valid', valid_pct=None, seed=None, vocab=None, item_tfms=None,\n",
       "                batch_tfms=None, img_cls=PILImage, **kwargs):\n",
       "    \"Create from imagenet style dataset in `path` with `train` and `valid` subfolders (or provide `valid_pct`)\"\n",
       "    # get the splitter function to split training and validation sets\n",
       "    splitter = GrandparentSplitter(train_name=train, valid_name=valid) if valid_pct is None else RandomSplitter(valid_pct, seed=seed)\n",
       "    # get the function to extract image files from using get_image_files in different spices\n",
       "    get_items = get_image_files if valid_pct else partial(get_image_files, folders=[train, valid])\n",
       "    # create a DataBlock object to organise all the data processing functions or callbacks\n",
       "    dblock = DataBlock(blocks=(ImageBlock(img_cls), CategoryBlock(vocab=vocab)),\n",
       "                       get_items=get_items,\n",
       "                       splitter=splitter,\n",
       "                       get_y=parent_label,\n",
       "                       item_tfms=item_tfms,\n",
       "                       batch_tfms=batch_tfms)\n",
       "    # return a dataloaders created from the given DataBlock object above calling DataBlock.dataloaders\n",
       "    return cls.from_dblock(dblock, path, path=path, **kwargs)\n",
       "# File:      ~/mambaforge/lib/python3.9/site-packages/fastai/vision/data.py\n",
       "# Type:      method\n",
       "```\n",
       "<!-- #endregion -->\n",
       "\n",
       "```python\n",
       "show_doc(ImageDataLoaders.from_folder)\n",
       "```\n",
       "\n",
       "Next, heading 3\n",
       "### src: ImageDataLoaders.from_folder"
      ],
      "text/plain": [
       "<IPython.core.display.Markdown object>"
      ]
     },
     "metadata": {},
     "output_type": "display_data"
    },
    {
     "data": {
      "text/markdown": [
       "[Open `0008_fastai_first_steps_road_to_top_part_1` in Jupyter Notebook locally](http://localhost:8888/tree/nbs/fastai_notebooks/0008_fastai_first_steps_road_to_top_part_1.ipynb#doc:-ImageDataLoaders.from_folder\n",
       ")"
      ],
      "text/plain": [
       "<IPython.core.display.Markdown object>"
      ]
     },
     "metadata": {},
     "output_type": "display_data"
    },
    {
     "data": {
      "text/markdown": [
       "[Open `0008_fastai_first_steps_road_to_top_part_1` in Jupyter Notebook on Kaggle](https://www.kaggle.com/code/jhoward/first-steps-road-to-the-top-part-1)"
      ],
      "text/plain": [
       "<IPython.core.display.Markdown object>"
      ]
     },
     "metadata": {},
     "output_type": "display_data"
    },
    {
     "data": {
      "text/markdown": [
       "### <mark style=\"background-color: #ffff00\">doc:</mark>  <mark style=\"background-color: #FFFF00\">imagedataloaders</mark> .from_name_func(path: 'str | path', fnames: 'list', label_func: 'callable', **kwargs) -> 'dataloaders'\n"
      ],
      "text/plain": [
       "<IPython.core.display.Markdown object>"
      ]
     },
     "metadata": {},
     "output_type": "display_data"
    },
    {
     "data": {
      "text/markdown": [
       "heading 3.\n",
       "\n",
       "\n",
       "\n",
       "official: \"Create from the name attrs of `fnames` in `path`s with `label_func`\"\n",
       "\n",
       "use `using_attr(label_func, 'name')` as `f`, and pass `f` to `from_path_func` to create a DataLoaders (which later passed to a learner)\n",
       "\n",
       "from_name_func: because the label is inside the name of the image filename\n",
       "\n",
       "label_func: is to get the targe or label from the name of the image filename\n",
       "\n",
       "path: is the string name or path for the folder which is to store models\n",
       "\n",
       "fnames: all the image/data filenames to be used for the model, get_image_files(path) can return a L list of image filenames/path\n",
       "\n",
       "`f = using_attr(label_func, 'name')`: make sure `is_cat` is to work on the `name` of a image filename. (see example inside source below)\n",
       "\n",
       "```python\n",
       "# fastnbs(\"DataBlock.dataloaders\")\n",
       "# fastnbs(\"DataBlock.datasets\")\n",
       "# fastnbs(\"Datasets\")\n",
       "```\n",
       "\n",
       "Next, heading 3\n",
       "### src: ImageDataLoaders.from_name_func(path: 'str | Path', fnames: 'list', label_func: 'callable', **kwargs) -> 'DataLoaders'"
      ],
      "text/plain": [
       "<IPython.core.display.Markdown object>"
      ]
     },
     "metadata": {},
     "output_type": "display_data"
    },
    {
     "data": {
      "text/markdown": [
       "[Open `0002_fastai_saving_a_basic_fastai_model` in Jupyter Notebook locally](http://localhost:8888/tree/nbs/fastai_notebooks/0002_fastai_saving_a_basic_fastai_model.ipynb#doc:-ImageDataLoaders.from_name_func(path:-'str-|-Path',-fnames:-'list',-label_func:-'callable',-**kwargs)-->-'DataLoaders'\n",
       ")"
      ],
      "text/plain": [
       "<IPython.core.display.Markdown object>"
      ]
     },
     "metadata": {},
     "output_type": "display_data"
    },
    {
     "data": {
      "text/markdown": [
       "[Open `0002_fastai_saving_a_basic_fastai_model` in Jupyter Notebook on Kaggle](https://www.kaggle.com/code/jhoward/saving-a-basic-fastai-model)"
      ],
      "text/plain": [
       "<IPython.core.display.Markdown object>"
      ]
     },
     "metadata": {},
     "output_type": "display_data"
    }
   ],
   "source": [
    "fastnbs(\"doc: ImageDataLoaders\")"
   ]
  },
  {
   "cell_type": "markdown",
   "id": "3fee3d1b",
   "metadata": {},
   "source": [
    "## Search source code"
   ]
  },
  {
   "cell_type": "markdown",
   "id": "9838f16c",
   "metadata": {},
   "source": [
    "To run actual source code with snoop, but first search with `fastlistnbs` and `export_open_py`"
   ]
  },
  {
   "cell_type": "code",
   "execution_count": null,
   "id": "fcd2bea1",
   "metadata": {},
   "outputs": [
    {
     "name": "stdout",
     "output_type": "stream",
     "text": [
      "### src: itemgot(self:L, *idxs)\n",
      "### src: itemgetter\n",
      "### src: DataBlock.datasets((source, verbose)\n",
      "### src: DataBlock.dataloaders\n",
      "/Users/Natsume/Documents/fastdebug/mds/fastai_notebooks/0001_fastai_is_it_a_bird.md\n",
      "\n",
      "### src: download_kaggle_dataset\n",
      "### src: check_subfolders_img(path, db=False)\n",
      "### src: randomdisplay(path, size, db=False)\n",
      "### src: remove_failed\n",
      "### src: check_sizes_img(files)\n",
      "### src: ImageDataLoaders.from_folder\n",
      "### src: aug_transforms(size=128, min_scale=0.75)\n",
      "### src: vision_learner(dls, 'resnet26d', metrics=error_rate, path='.').to_fp16()\n",
      "/Users/Natsume/Documents/fastdebug/mds/fastai_notebooks/0008_fastai_first_steps_road_to_top_part_1.md\n",
      "\n",
      "### src: ImageDataLoaders.from_name_func(path: 'str | Path', fnames: 'list', label_func: 'callable', **kwargs) -> 'DataLoaders'\n",
      "/Users/Natsume/Documents/fastdebug/mds/fastai_notebooks/0002_fastai_saving_a_basic_fastai_model.md\n",
      "\n",
      "jn by dates: ========\n"
     ]
    }
   ],
   "source": [
    "fastlistnbs(\"srcode\")"
   ]
  },
  {
   "cell_type": "code",
   "execution_count": null,
   "id": "fb1c53d1",
   "metadata": {},
   "outputs": [
    {
     "data": {
      "text/markdown": [
       "### <mark style=\"background-color: #ffff00\">src:</mark>  <mark style=\"background-color: #FFFF00\">download_kaggle</mark> _dataset\n"
      ],
      "text/plain": [
       "<IPython.core.display.Markdown object>"
      ]
     },
     "metadata": {},
     "output_type": "display_data"
    },
    {
     "data": {
      "text/markdown": [
       "heading 3.\n",
       "\n",
       "\n",
       "```python\n",
       "export_open_py()\n",
       "```\n",
       "\n",
       "```python\n",
       "exec(export_open_py().replace('pyfile', 'src_download'))\n",
       "```\n",
       "\n",
       "Next, heading 3\n",
       "### ht: fu - debug every srcline without breaking"
      ],
      "text/plain": [
       "<IPython.core.display.Markdown object>"
      ]
     },
     "metadata": {},
     "output_type": "display_data"
    },
    {
     "data": {
      "text/markdown": [
       "[Open `0008_fastai_first_steps_road_to_top_part_1` in Jupyter Notebook locally](http://localhost:8888/tree/nbs/fastai_notebooks/0008_fastai_first_steps_road_to_top_part_1.ipynb#src:-download_kaggle_dataset\n",
       ")"
      ],
      "text/plain": [
       "<IPython.core.display.Markdown object>"
      ]
     },
     "metadata": {},
     "output_type": "display_data"
    },
    {
     "data": {
      "text/markdown": [
       "[Open `0008_fastai_first_steps_road_to_top_part_1` in Jupyter Notebook on Kaggle](https://www.kaggle.com/code/jhoward/first-steps-road-to-the-top-part-1)"
      ],
      "text/plain": [
       "<IPython.core.display.Markdown object>"
      ]
     },
     "metadata": {},
     "output_type": "display_data"
    }
   ],
   "source": [
    "fastnbs(\"src: download_kaggle\")"
   ]
  },
  {
   "cell_type": "code",
   "execution_count": null,
   "id": "4b2f54e1",
   "metadata": {},
   "outputs": [
    {
     "data": {
      "text/markdown": [
       "## <mark style=\"background-color: #ffff00\">src:</mark>  <mark style=\"background-color: #FFFF00\">export</mark> _nbdev\n"
      ],
      "text/plain": [
       "<IPython.core.display.Markdown object>"
      ]
     },
     "metadata": {},
     "output_type": "display_data"
    },
    {
     "data": {
      "text/markdown": [
       "heading 2.\n",
       "\n",
       "\n",
       "```python\n",
       "#| export\n",
       "# calling from a different notebook, nbdev_export() will cause error, this is why use exec() to call in a different notebook\n",
       "export_nbdev = \"import nbdev; nbdev.nbdev_export()\"\n",
       "```\n",
       "\n",
       "```python\n",
       "exec(export_nbdev)\n",
       "```\n",
       "\n",
       "```python\n",
       "\n",
       "```\n",
       "\n",
       "Next, heading 2\n",
       "## download_kaggle_dataset"
      ],
      "text/plain": [
       "<IPython.core.display.Markdown object>"
      ]
     },
     "metadata": {},
     "output_type": "display_data"
    },
    {
     "data": {
      "text/markdown": [
       "[Open `01_utils` in Jupyter Notebook locally](http://localhost:8888/tree/nbs/lib/01_utils.ipynb#src:-export_nbdev\n",
       ")"
      ],
      "text/plain": [
       "<IPython.core.display.Markdown object>"
      ]
     },
     "metadata": {},
     "output_type": "display_data"
    }
   ],
   "source": [
    "fastnbs(\"src: export\")"
   ]
  },
  {
   "cell_type": "markdown",
   "id": "0294e717",
   "metadata": {},
   "source": [
    "## Search howto"
   ]
  },
  {
   "cell_type": "code",
   "execution_count": null,
   "id": "68eaf8e5",
   "metadata": {},
   "outputs": [
    {
     "name": "stdout",
     "output_type": "stream",
     "text": [
      "step 0: ht: imports==========================================================================================================================================\n",
      "\n",
      "## ht: imports - vision\n",
      "### ht: imports - fastkaggle \n",
      "### ht: imports - imports fastdebug.utils on Kaggle\n",
      "### ht: imports - import for vision\n",
      "### ht: imports - upload and update mylib in kaggle\n",
      "### ht: imports - create libs as datasets for kaggle with `create_libs_datasets`\n",
      "/Users/Natsume/Documents/fastdebug/mds/fastai_notebooks/0008_fastai_first_steps_road_to_top_part_1.md\n",
      "\n",
      "step 1: ht: data_download====================================================================================================================================\n",
      "\n",
      "## ht: data_download - kaggle competition dataset\n",
      "### ht: data_download - join, `kaggle.json`, `setup_comp` for local use\n",
      "/Users/Natsume/Documents/fastdebug/mds/fastai_notebooks/0008_fastai_first_steps_road_to_top_part_1.md\n",
      "\n",
      "step 2: ht: data_access======================================================================================================================================\n",
      "### ht: data_access - map subfolders content with `check_subfolders_img`\n",
      "### ht: data_access - extract all images for test and train with `get_image_files`\n",
      "### ht: data_access - display an image from test_files or train_files with `randomdisplay`\n",
      "### ht: data_access - select a subset from each subfolder with `get_image_files_subset`\n",
      "/Users/Natsume/Documents/fastdebug/mds/fastai_notebooks/0008_fastai_first_steps_road_to_top_part_1.md\n",
      "\n",
      "step 3: ht: data_prep========================================================================================================================================\n",
      "### ht: data_prep reproducibility in training a model\n",
      "### ht: data_prep - remove images that fail to open with `remove_failed(path)`\n",
      "### ht: data_prep - describe sizes of all images with `check_sizes_img`\n",
      "/Users/Natsume/Documents/fastdebug/mds/fastai_notebooks/0008_fastai_first_steps_road_to_top_part_1.md\n",
      "\n",
      "step 4: ht: data_loaders=====================================================================================================================================\n",
      "### ht: data_loaders - create a dataloader from a folder with `ImageDataLoaders.from_folder`\n",
      "### ht: data_loaders - apply transformations to each image with `item_tfms = Resize(480, method='squish')`\n",
      "### ht: data_loaders - apply image augmentations to each batch of data with `batch_tfms = aug_transforms`\n",
      "/Users/Natsume/Documents/fastdebug/mds/fastai_notebooks/0008_fastai_first_steps_road_to_top_part_1.md\n",
      "\n",
      "step 5: ht: cbs_tfms=========================================================================================================================================\n",
      "step 6: ht: learner==========================================================================================================================================\n",
      "### ht: learner - model arch - how to pick the first to try\n",
      "### ht: learner - vision_learner - build a learner for vision\n",
      "### ht: learner - find learning rate with `learn.lr_find(suggest_funcs=(valley, slide))`\n",
      "### ht: learner - save model with `learn.export`\n",
      "/Users/Natsume/Documents/fastdebug/mds/fastai_notebooks/0008_fastai_first_steps_road_to_top_part_1.md\n",
      "\n",
      "step 7: ht: fit==============================================================================================================================================\n",
      "step 8: ht: pred=============================================================================================================================================\n",
      "step 9: ht: fu===============================================================================================================================================\n",
      "### ht: fu - whatinside, show_doc, fastlistnbs, fastnbs\n",
      "### ht: fu - git - when a commit takes too long\n",
      "### ht: fu - debug every srcline without breaking\n",
      "### ht: fu - (de)activate snoop without commenting out using `snoopon()` and `snoopoff()`  \n",
      "/Users/Natsume/Documents/fastdebug/mds/fastai_notebooks/0008_fastai_first_steps_road_to_top_part_1.md\n",
      "\n",
      "jn by dates: ========\n"
     ]
    }
   ],
   "source": [
    "# show_doc(fastnotes)\n",
    "# show_doc(fastlistsrcs)\n",
    "\n",
    "# how to do notes from now on? make them notebooks first for using fastlistnbs and fastnbs\n",
    "# make howto internal steps breakable?\n",
    "fastlistnbs(\"howto\")"
   ]
  },
  {
   "cell_type": "code",
   "execution_count": null,
   "id": "4a2f464a",
   "metadata": {},
   "outputs": [
    {
     "data": {
      "text/markdown": [
       "### <mark style=\"background-color: #ffff00\">ht:</mark>  <mark style=\"background-color: #ffff00\">learner</mark>  - <mark style=\"background-color: #ffff00\">save</mark>  <mark style=\"background-color: #FFFF00\">model</mark>  with `learn.export`\n"
      ],
      "text/plain": [
       "<IPython.core.display.Markdown object>"
      ]
     },
     "metadata": {},
     "output_type": "display_data"
    },
    {
     "data": {
      "text/markdown": [
       "heading 3.\n",
       "\n",
       "\n",
       "\n",
       "Next, heading 3\n",
       "### doc: learn.export(fname='export.pkl', pickle_module=pickle, pickle_protocol=2)"
      ],
      "text/plain": [
       "<IPython.core.display.Markdown object>"
      ]
     },
     "metadata": {},
     "output_type": "display_data"
    },
    {
     "data": {
      "text/markdown": [
       "[Open `0008_fastai_first_steps_road_to_top_part_1` in Jupyter Notebook locally](http://localhost:8888/tree/nbs/fastai_notebooks/0008_fastai_first_steps_road_to_top_part_1.ipynb#ht:-learner---save-model-with-`learn.export`\n",
       ")"
      ],
      "text/plain": [
       "<IPython.core.display.Markdown object>"
      ]
     },
     "metadata": {},
     "output_type": "display_data"
    },
    {
     "data": {
      "text/markdown": [
       "[Open `0008_fastai_first_steps_road_to_top_part_1` in Jupyter Notebook on Kaggle](https://www.kaggle.com/code/jhoward/first-steps-road-to-the-top-part-1)"
      ],
      "text/plain": [
       "<IPython.core.display.Markdown object>"
      ]
     },
     "metadata": {},
     "output_type": "display_data"
    }
   ],
   "source": [
    "fastnbs('ht: learner save model')"
   ]
  },
  {
   "cell_type": "code",
   "execution_count": null,
   "id": "21145439",
   "metadata": {},
   "outputs": [
    {
     "data": {
      "text/markdown": [
       "### <mark style=\"background-color: #ffff00\">doc:</mark>  <mark style=\"background-color: #FFFF00\">learn.export</mark> (fname='export.pkl', pickle_module=pickle, pickle_protocol=2)\n"
      ],
      "text/plain": [
       "<IPython.core.display.Markdown object>"
      ]
     },
     "metadata": {},
     "output_type": "display_data"
    },
    {
     "data": {
      "text/markdown": [
       "heading 3.\n",
       "\n",
       "\n",
       "\n",
       "return: nothing, but saved a model as a pkl file in `learn.path` with the name given by `fname`\n",
       "\n",
       "we can change the folder for storing model by changing `learn.path`\n",
       "\n",
       "we can give a detailed name to specify the model\n",
       "\n",
       "<!-- #region -->\n",
       "```python\n",
       "@patch\n",
       "def export(self:Learner, fname='export.pkl', pickle_module=pickle, pickle_protocol=2):\n",
       "    \"Export the content of `self` without the items and the optimizer state for inference\"\n",
       "    if rank_distrib(): return # don't export if child proc\n",
       "    self._end_cleanup()\n",
       "    old_dbunch = self.dls\n",
       "    self.dls = self.dls.new_empty()\n",
       "    state = self.opt.state_dict() if self.opt is not None else None\n",
       "    self.opt = None\n",
       "    with warnings.catch_warnings():\n",
       "        #To avoid the warning that come from PyTorch about model not being checked\n",
       "        warnings.simplefilter(\"ignore\")\n",
       "        # the folder is defined by self.path\n",
       "        torch.save(self, self.path/fname, pickle_module=pickle_module, pickle_protocol=pickle_protocol)\n",
       "    self.create_opt()\n",
       "    if state is not None: self.opt.load_state_dict(state)\n",
       "    self.dls = old_dbunch\n",
       "# File:      ~/mambaforge/lib/python3.9/site-packages/fastai/learner.py\n",
       "# Type:      method\n",
       "```\n",
       "<!-- #endregion -->\n",
       "\n",
       "```python\n",
       "learn.path\n",
       "```\n",
       "\n",
       "```python\n",
       "learn.path = Path('models')\n",
       "```\n",
       "\n",
       "```python\n",
       "learn.path\n",
       "```\n",
       "\n",
       "```python\n",
       "learn.export(\"paddy_10pct_resnet26d_10epochs.pkl\")\n",
       "```\n",
       "\n",
       "```python\n",
       "\n",
       "```\n",
       "\n",
       "Next, heading 3\n",
       "### qt: How many epochs should I train in general in this early stage with 10% dataset without gpu"
      ],
      "text/plain": [
       "<IPython.core.display.Markdown object>"
      ]
     },
     "metadata": {},
     "output_type": "display_data"
    },
    {
     "data": {
      "text/markdown": [
       "[Open `0008_fastai_first_steps_road_to_top_part_1` in Jupyter Notebook locally](http://localhost:8888/tree/nbs/fastai_notebooks/0008_fastai_first_steps_road_to_top_part_1.ipynb#doc:-learn.export(fname='export.pkl',-pickle_module=pickle,-pickle_protocol=2)\n",
       ")"
      ],
      "text/plain": [
       "<IPython.core.display.Markdown object>"
      ]
     },
     "metadata": {},
     "output_type": "display_data"
    },
    {
     "data": {
      "text/markdown": [
       "[Open `0008_fastai_first_steps_road_to_top_part_1` in Jupyter Notebook on Kaggle](https://www.kaggle.com/code/jhoward/first-steps-road-to-the-top-part-1)"
      ],
      "text/plain": [
       "<IPython.core.display.Markdown object>"
      ]
     },
     "metadata": {},
     "output_type": "display_data"
    }
   ],
   "source": [
    "fastnbs(\"doc: learn.export\")"
   ]
  },
  {
   "cell_type": "markdown",
   "id": "1392b7c2",
   "metadata": {},
   "source": [
    "## Search questions (notes and Q&A on forum) "
   ]
  },
  {
   "cell_type": "code",
   "execution_count": null,
   "id": "f5cefde7",
   "metadata": {},
   "outputs": [
    {
     "name": "stdout",
     "output_type": "stream",
     "text": [
      "### qt: how to display a list of images?\n",
      "#### qt: why must all images have the same dimensions? how to resolve this problem?\n",
      "#### qt: why should we start with small resized images\n",
      "### qt: How many epochs should I train in general in this early stage with 10% dataset without gpu\n",
      "### qt: how to display video and embed webpage\n",
      "/Users/Natsume/Documents/fastdebug/mds/fastai_notebooks/0008_fastai_first_steps_road_to_top_part_1.md\n",
      "\n",
      "jn by dates: ========\n"
     ]
    }
   ],
   "source": [
    "fastlistnbs(\"question\")"
   ]
  },
  {
   "cell_type": "code",
   "execution_count": null,
   "id": "d407260b",
   "metadata": {},
   "outputs": [
    {
     "data": {
      "text/plain": [
       "0          ht: imports\n",
       "1    ht: data_download\n",
       "2      ht: data_access\n",
       "3        ht: data_prep\n",
       "4     ht: data_loaders\n",
       "5         ht: cbs_tfms\n",
       "6          ht: learner\n",
       "7              ht: fit\n",
       "8             ht: pred\n",
       "9               ht: fu\n",
       "dtype: object"
      ]
     },
     "execution_count": null,
     "metadata": {},
     "output_type": "execute_result"
    }
   ],
   "source": [
    "hts"
   ]
  },
  {
   "cell_type": "code",
   "execution_count": null,
   "id": "c962b605",
   "metadata": {},
   "outputs": [],
   "source": [
    "# fastnbs(\"ht: load\")"
   ]
  },
  {
   "cell_type": "markdown",
   "id": "2f57491e",
   "metadata": {},
   "source": [
    "## Search Mentors, like \"radek\""
   ]
  },
  {
   "cell_type": "code",
   "execution_count": null,
   "id": "cc5c24e8",
   "metadata": {},
   "outputs": [],
   "source": [
    "# fastnbs(\"rd: process jsonl to df\")"
   ]
  },
  {
   "cell_type": "code",
   "execution_count": null,
   "id": "d161a9f6",
   "metadata": {},
   "outputs": [
    {
     "name": "stdout",
     "output_type": "stream",
     "text": [
      "### rd: recsys - otto - get started - Andrew Ng recsys old videos 2022-11-7\n",
      "### rd:  recsys - otto - get started - Andrew Ng on new recsys videos 2022-11-8\n",
      "#### rd: recsys - otto - get started - The best recsys intro video recommended by Radek\n",
      "#### rd: recsys - otto - get started - What is session based recommendations and current development of recsys\n",
      "#### rd: recsys - otto - get started - transformers - post recommended by Radek\n",
      "### rd: recsys - otto - get started - Intro of recsys (video) by Xavier Amatriain\n",
      "### rd: recsys - otto - get started - advices from Radek - how to get started on recsys with OTTO\n",
      "/Users/Natsume/Documents/fastdebug/mds/fastai_notebooks/fastai_kaggle_Radek_OTTO.md\n",
      "\n",
      "### rd: recsys - otto - get started - subset the training set based on entire sessions, train.drop_duplicates(['session']).sample(frac=fraction_of_sessions_to_use, random_state=42)['session'], train[train.session.isin(lucky_sessions_train)]\n",
      "/Users/Natsume/Documents/fastdebug/mds/fastai_notebooks/kaggle_otto_Radek_covisiation_matrix.md\n",
      "\n",
      "### rd: recsys - otto - get started - save a list or dict into pkl and load them\n",
      "### rd: recsys - otto - get started - process jsonl to df\n",
      "### rd: recsys - otto - get started - RAM needed to process data on Kaggle, 400MB jsonl takes up nearly 4GB ram\n",
      "### rd: recsys - otto - get started - use parquet over csv, why and how\n",
      "### rd: recsys - otto - get started - use parquet to instead of jsonl or csv to save space on disk\n",
      "### rd: recsys - otto - get started - use `uint8` instead of `int` or `str` to reduce RAM usage by 9 times\n",
      "/Users/Natsume/Documents/fastdebug/mds/fastai_notebooks/fastai_radek_otto_get_started_process_data.md\n",
      "\n",
      "### rd: recsys - otto - get started - copy and paste dataset path and use !ls to see what inside\n",
      "### rd: recsys - otto - get started - pd.read_parquet('copy and paste the dataset path')\n",
      "### rd: recsys - otto - get started - load a function from a pickle file with pickle5, with open as fh: and pick.load(fh)\n",
      "### rd: recsys - otto - get started - convert int back to string, train.iloc[:1000].type.map(lambda i: id2type[i])\n",
      "/Users/Natsume/Documents/fastdebug/mds/fastai_notebooks/fastai_kaggle_otto_access_parquet_dataset.md\n",
      "\n",
      "### rd: recsys - otto - get started - Read parquet file with `pd.read_parquet`\n",
      "### rd: recsys - otto - get started - find all the unique sessions, train.session.unique()\n",
      "### rd: recsys - otto - get started - group 'aid' by 'session' and count, test.groupby('session')['aid'].count()\n",
      "### rd: recsys - otto - get started - return natural log and also be super accurate in floating point, train.groupby('session')['aid'].count().apply(np.log1p).hist()\n",
      "### rd: recsys - otto - get started - train and test sessions have no time intersection, datetime.datetime.fromtimestamp, question\n",
      "### rd: recsys - otto - get started - no new items in test, len(set(test.aid.tolist()) - set(train.aid.tolist()))\n",
      "### rd: recsys - otto - get started - train and test have different session length distributions, train.groupby('session')['aid'].count().describe()\n",
      "### rd: recsys - otto - get started - define a session (a tracking period)\n",
      "### rd: recsys - otto - get started - train and test have no common sessions, train.session.max(), test.session.min()\n",
      "/Users/Natsume/Documents/fastdebug/mds/fastai_notebooks/fastai_kaggle_radek_otto_eda.md\n",
      "\n",
      "\n",
      "## rd: The problem with theory\n",
      "### rd: How Hinton approaches and discover theories\n",
      "### rd: Why must practice before theory\n",
      "### rd: How to make practice before theory\n",
      "\n",
      "## rd: For best effects, use one cup of theory, one cup of practice. Rinse and repeat\n",
      "### rd: Is your learning of theory takes you where you want to go\n",
      "### rd: What is the darker effect of just learning theory\n",
      "### rd: How to combine practice and theory as a learner of image classification\n",
      "### rd: What benefits does the practice + theory approach offer\n",
      "\n",
      "## rd: Practice wins every time\n",
      "\n",
      "## rd: Programming is all about what you have to say\n",
      "### rd: What makes one a good programmer? (give me the most wrong answer)\n",
      "### rd: How is your ability to program ultimately measured\n",
      "### rd: What is the only way to really understand a piece of syntax\n",
      "### rd: How to learn a new language by reading and writing\n",
      "### rd: Why knowing the programming language is only a starting point\n",
      "### rd: Why domain knowledge comes first? \n",
      "### rd: What is the fastest way to learn to program?\n",
      "\n",
      "## rd: The secret of good developers\n",
      "### rd: Why it is costly to enter your zone of work\n",
      "### rd: What's wrong with switching context during work\n",
      "### rd: Tips to achieve a long uninterrupted sessions\n",
      "\n",
      "## rd: The best way to improve as a developer\n",
      "### rd: How to be better at something\n",
      "### rd:  What being a developer is all about\n",
      "### rd: How to start to read code\n",
      "### rd: How to start to write code\n",
      "### rd: Just do it\n",
      "\n",
      "## rd: How to use your tools to achieve a state of flow\n",
      "### rd: What is a state of flow and why it is great to be in\n",
      "### rd: What developers often do for achieving a state of flow\n",
      "### rd: What can prevent you dive into a state of flow\n",
      "### rd: How to get into a state of flow more often\n",
      "\n",
      "## rd: Use reality as your mirror\n",
      "### rd: Why testing beliefs and assumptions\n",
      "### rd: How Radek overcomed the fear of tweeting\n",
      "### rd: How to face the unknown\n",
      "\n",
      "## rd: Do genuine work (it compounds)\n",
      "### rd: Why writing is better than thinking\n",
      "### rd: Why sharing is even better than writing alone\n",
      "### rd: What is the best/fastest way to learn\n",
      "\n",
      "## rd: The hidden game of machine learning\n",
      "### rd: What are the essential questions of machine learning\n",
      "### rd: What makes you an adept practitioner? \n",
      "### rd: What makes you a great practitioner? \n",
      "### rd: What can lead to a tragic consequence of your model? \n",
      "### rd: How to gain a deeper understanding of the ability to generalize to unseen data?\n",
      "\n",
      "## rd: How to structure a healthy machine learning project\n",
      "### rd: ingredient 1 - train-validation-test split\n",
      "### rd: ingredient 2 - what is a baseline\n",
      "### rd: what does a simplest baseline look like\n",
      "### rd: Why is having a baseline so crucial? \n",
      "### rd: What to experiment on after baseline\n",
      "### rd: Why running entire pipeline regularly?\n",
      "### rd: How to allow time to do the rest\n",
      "### rd: A beautiful sum up by Radek\n",
      "\n",
      "## rd: How to win Kaggle\n",
      "### rd: even getting started can take a while\n",
      "### rd: Why Kaggle competition takes time\n",
      "### rd: Join the competition early for creativity\n",
      "### rd: What to do with Kaggle forum\n",
      "### rd: How to read papers for kaggle\n",
      "### rd: What about blog posts on papers\n",
      "### rd: What to tweak daily\n",
      "### rd: How to build a baseline for kaggle\n",
      "### rd: What's the objective of initial models\n",
      "### rd: The importance of validation split\n",
      "### rd: how do we measure whether we got it right?\n",
      "### rd: Why ensemble is a must\n",
      "### rd: cross-validation (???)\n",
      "### rd: Sum up\n",
      "\n",
      "## rd: How to Pick Up What They Put Down by swyx\n",
      "### rd: Who are they?\n",
      "### rd: What do you mean by “put down”?\n",
      "### rd: How do I pick “it” up? \n",
      "### rd: Love what you do above and tag them\n",
      "### rd: What happens when you do this?\n",
      "### rd: Why does this work on them?\n",
      "### rd: Why does this work on you?\n",
      "### rd: How to get started\n",
      "\n",
      "## rd: The Permissionless Apprenticeship by jackbutcher\n",
      "### rd: How to have their attention\n",
      "### rd: Why working for them without asking\n",
      "### rd: How to work for them\n",
      "### rd: The worse scenario of working for them\n",
      "/Users/Natsume/Documents/fastdebug/mds/fastai_notebooks/00_fastai_Meta_learning_Radek.md\n",
      "\n",
      "jn by dates: ========\n"
     ]
    }
   ],
   "source": [
    "fastlistnbs(\"radek\")"
   ]
  },
  {
   "cell_type": "code",
   "execution_count": null,
   "id": "f2261636",
   "metadata": {},
   "outputs": [
    {
     "data": {
      "text/markdown": [
       "### <mark style=\"background-color: #ffff00\">rd:</mark>  what to <mark style=\"background-color: #FFFF00\">experiment</mark>  on after baseline\n"
      ],
      "text/plain": [
       "<IPython.core.display.Markdown object>"
      ]
     },
     "metadata": {},
     "output_type": "display_data"
    },
    {
     "data": {
      "text/markdown": [
       "heading 3.\n",
       "\n",
       "\n",
       "> However, it is important that we **not** run the experiments solely to tweak the **hyperparameters**, especially early in the training. We want to invest our time where it matters. That usually means **exploring a larger set of architectures and developing diagnostic code**. The more we learn about **how our models are performing**, the better. Additionally, **trying out different architectures can be a great source of insight on what is possible**.\n",
       "\n",
       "\n",
       "> As we build on our baseline, the idea is to keep moving in small steps. Just as we didn’t want to go from having no pipeline to training a complex model, neither do we want to jump straight to it now. Before we train an elaborate, state-of-the- art deep learning model, we might want to **try random forest[31] or a simple model consisting only of fully connected layers**.\n",
       "\n",
       "> [31] Random Forest is a great algorithm to reach for, given the chance! It is very quick to train and it doesn’t overfit. On many datasets, it can match the performance of more complex methods. It also lends itself extremely well to interpretation. For an example in which a Random Forest classifier matched the performance of a neural network, see this repository. Additionally, it enabled a deeper understanding of the factors at play, which would be very hard or impossible to get at using the RNN!\n",
       "\n",
       "\n",
       "> Extending this way of thinking to the implementation of our most complex model, we probably **don**’t want to go about **building it in one sweep**. We might want to **begin by implementing the loss and bolting it onto a simple model consisting of only fully connected layers**. The **next** step might be to implement **some set of layers** and **pass a batch from our dataloader through it**. Ensuring we **get something other than all zeros and an output of the correct shape is a very valuable check**.[32]\n",
       "\n",
       "> [32] This can be taken further, where we **look at the means and standard deviations of intermittent layers**, **monitor for how many dead ReLus** we have, and so on. In many instances, just a single check will suffice as it provides a great value for the time invested.\n",
       "\n",
       "> The idea is to always move in **small increments**, using simpler models as **a stepping stone to more complex** ones.\n",
       "\n",
       "Next, heading 3\n",
       "### pt: how to explore architectures and developing diagnostic code in tiny steps (above)"
      ],
      "text/plain": [
       "<IPython.core.display.Markdown object>"
      ]
     },
     "metadata": {},
     "output_type": "display_data"
    },
    {
     "data": {
      "text/markdown": [
       "[Open `00_fastai_Meta_learning_Radek` in Jupyter Notebook locally](http://localhost:8888/tree/nbs/fastai_notebooks/00_fastai_Meta_learning_Radek.ipynb#rd:-What-to-experiment-on-after-baseline\n",
       ")"
      ],
      "text/plain": [
       "<IPython.core.display.Markdown object>"
      ]
     },
     "metadata": {},
     "output_type": "display_data"
    }
   ],
   "source": [
    "fastnbs(\"rd: experiment\")"
   ]
  },
  {
   "cell_type": "markdown",
   "id": "358058c8",
   "metadata": {},
   "source": [
    "## Search my practice"
   ]
  },
  {
   "cell_type": "code",
   "execution_count": null,
   "id": "c8419a12",
   "metadata": {},
   "outputs": [
    {
     "name": "stdout",
     "output_type": "stream",
     "text": [
      "### pt: what does Radek mean by benchmarks and where are they and how to use them\n",
      "### pt: how my tool help me stay in the flow\n",
      "### pt: what is my voice and how could I help others (myself)?\n",
      "### pt: how to explore architectures and developing diagnostic code in tiny steps (above)\n",
      "#### pt: how to find (what) valuable insights from simple model with subset of data?\n",
      "/Users/Natsume/Documents/fastdebug/mds/fastai_notebooks/00_fastai_Meta_learning_Radek.md\n",
      "\n",
      "jn by dates: ========\n"
     ]
    }
   ],
   "source": [
    "fastlistnbs(\"practice\")"
   ]
  },
  {
   "cell_type": "code",
   "execution_count": null,
   "id": "d25173b0",
   "metadata": {},
   "outputs": [
    {
     "data": {
      "text/markdown": [
       "### <mark style=\"background-color: #ffff00\">pt:</mark>  how <mark style=\"background-color: #ffff00\">my</mark>  <mark style=\"background-color: #FFFF00\">tool</mark>  help me stay in the flow\n"
      ],
      "text/plain": [
       "<IPython.core.display.Markdown object>"
      ]
     },
     "metadata": {},
     "output_type": "display_data"
    },
    {
     "data": {
      "text/markdown": [
       "heading 3.\n",
       "\n",
       "\n",
       "Building index.ipynb using fastlistnbs and fastnbs on howto, doc, src, question, radek is the way to get closer to a state of flow \n",
       "\n",
       "Next, heading 2\n",
       "## rd: Use reality as your mirror"
      ],
      "text/plain": [
       "<IPython.core.display.Markdown object>"
      ]
     },
     "metadata": {},
     "output_type": "display_data"
    },
    {
     "data": {
      "text/markdown": [
       "[Open `00_fastai_Meta_learning_Radek` in Jupyter Notebook locally](http://localhost:8888/tree/nbs/fastai_notebooks/00_fastai_Meta_learning_Radek.ipynb#pt:-how-my-tool-help-me-stay-in-the-flow\n",
       ")"
      ],
      "text/plain": [
       "<IPython.core.display.Markdown object>"
      ]
     },
     "metadata": {},
     "output_type": "display_data"
    }
   ],
   "source": [
    "fastnbs(\"pt: my tool\")"
   ]
  },
  {
   "cell_type": "markdown",
   "id": "7cfe9805",
   "metadata": {},
   "source": [
    "## Search links"
   ]
  },
  {
   "cell_type": "code",
   "execution_count": null,
   "id": "7d5c7b35",
   "metadata": {},
   "outputs": [
    {
     "name": "stdout",
     "output_type": "stream",
     "text": [
      "### lk: Jeremy and Paddy\n",
      "### lk: Daniel's fastai forum posts\n",
      "### lk: Radek on animal language models\n",
      "### lk: Radek and OTTO\n",
      "### lk: ilovescience on kaggle\n",
      "/Users/Natsume/Documents/fastdebug/mds/fastai_notebooks/fastai_links_forums_kaggle_github.md\n",
      "\n",
      "jn by dates: ========\n"
     ]
    }
   ],
   "source": [
    "fastlistnbs(\"links\")"
   ]
  },
  {
   "cell_type": "code",
   "execution_count": null,
   "id": "0f6defef",
   "metadata": {},
   "outputs": [
    {
     "data": {
      "text/markdown": [
       "### <mark style=\"background-color: #ffff00\">lk:</mark>  <mark style=\"background-color: #ffff00\">daniel's</mark>  <mark style=\"background-color: #ffff00\">fastai</mark>  <mark style=\"background-color: #ffff00\">forum</mark>  <mark style=\"background-color: #FFFF00\">pos</mark> ts\n"
      ],
      "text/plain": [
       "<IPython.core.display.Markdown object>"
      ]
     },
     "metadata": {},
     "output_type": "display_data"
    },
    {
     "data": {
      "text/markdown": [
       "heading 3.\n",
       "\n",
       "  \n",
       "[Exploring fastai with Excel and Python](https://forums.fast.ai/t/exploring-fastai-with-excel-and-python/97426)\n",
       "  \n",
       "[Hidden Docs of Fastcore](https://forums.fast.ai/t/hidden-docs-of-fastcore/98455)\n",
       "  \n",
       "[Help: reading fastcore and fastai docs](https://forums.fast.ai/t/help-reading-fastcore-and-fastai-docs/100168) \n",
       "\n",
       "\n",
       "Next, heading 3\n",
       "### lk: Radek on animal language models"
      ],
      "text/plain": [
       "<IPython.core.display.Markdown object>"
      ]
     },
     "metadata": {},
     "output_type": "display_data"
    },
    {
     "data": {
      "text/markdown": [
       "[Open `fastai_links_forums_kaggle_github` in Jupyter Notebook locally](http://localhost:8888/tree/nbs/fastai_notebooks/fastai_links_forums_kaggle_github.ipynb#lk:-Daniel's-fastai-forum-posts\n",
       ")"
      ],
      "text/plain": [
       "<IPython.core.display.Markdown object>"
      ]
     },
     "metadata": {},
     "output_type": "display_data"
    }
   ],
   "source": [
    "fastnbs(\"lk: Daniel's fastai forum pos\")"
   ]
  },
  {
   "cell_type": "code",
   "execution_count": null,
   "id": "84143a5a",
   "metadata": {},
   "outputs": [],
   "source": []
  },
  {
   "cell_type": "markdown",
   "id": "b873e62c",
   "metadata": {},
   "source": [
    "## Search pyfiles"
   ]
  },
  {
   "cell_type": "code",
   "execution_count": null,
   "id": "f06ef195",
   "metadata": {},
   "outputs": [
    {
     "name": "stdout",
     "output_type": "stream",
     "text": [
      "['/Users/Natsume/Documents/fastdebug/fastdebug/fastaiTD.py',\n",
      " '/Users/Natsume/Documents/fastdebug/fastdebug/fastai_src_utils_remove_failed.py',\n",
      " '/Users/Natsume/Documents/fastdebug/fastdebug/kaggle_paddy_pt1.py',\n",
      " '/Users/Natsume/Documents/fastdebug/fastdebug/fastai_src_multiprocess_counter.ipynb',\n",
      " '/Users/Natsume/Documents/fastdebug/fastdebug/fast_src_download_kaggle_dataset.py',\n",
      " '/Users/Natsume/Documents/fastdebug/fastdebug/kaggle_utils_dataset.py',\n",
      " '/Users/Natsume/Documents/fastdebug/fastdebug/fastai_src_utils_randomdisplay.py',\n",
      " '/Users/Natsume/Documents/fastdebug/fastdebug/fastai_src_check_subfolders_img.py']\n"
     ]
    }
   ],
   "source": [
    "openpy()"
   ]
  },
  {
   "cell_type": "code",
   "execution_count": null,
   "id": "4bff526e",
   "metadata": {},
   "outputs": [
    {
     "data": {
      "text/markdown": [
       "[Open `kaggle_utils_dataset` in Jupyter Notebook locally](http://localhost:8888/tree/fastdebug/kaggle_utils_dataset.py)"
      ],
      "text/plain": [
       "<IPython.core.display.Markdown object>"
      ]
     },
     "metadata": {},
     "output_type": "display_data"
    }
   ],
   "source": [
    "openpy('kaggle_utils')"
   ]
  },
  {
   "cell_type": "markdown",
   "id": "96b42884",
   "metadata": {},
   "source": [
    "todos: \n",
    "- fastlistnbs(\"rd: nbs\")"
   ]
  }
 ],
 "metadata": {
  "kernelspec": {
   "display_name": "Python 3 (ipykernel)",
   "language": "python",
   "name": "python3"
  }
 },
 "nbformat": 4,
 "nbformat_minor": 5
}
