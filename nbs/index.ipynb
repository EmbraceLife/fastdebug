{
 "cells": [
  {
   "cell_type": "markdown",
   "id": "e7d9f2be",
   "metadata": {},
   "source": [
    "# Make Learning Fastai Uncool"
   ]
  },
  {
   "cell_type": "markdown",
   "id": "cf6aaaa7",
   "metadata": {},
   "source": [
    "## Todos"
   ]
  },
  {
   "cell_type": "markdown",
   "id": "a06fc148",
   "metadata": {},
   "source": [
    "- a workflow: use nbdev to split and assembly code/notebooks starting with kaggle notebook 1 \n",
    "- start to work on Radek's notebooks on OTTO competition [started]\n",
    "- display all important forum posts of mine and others I admire [done]\n",
    "- what do I most like to work on and share (kaggle notebooks dissection)\n"
   ]
  },
  {
   "cell_type": "code",
   "execution_count": null,
   "id": "492903a1",
   "metadata": {},
   "outputs": [
    {
     "data": {
      "text/html": [
       "<style>.container { width:100% !important; }</style>"
      ],
      "text/plain": [
       "<IPython.core.display.HTML object>"
      ]
     },
     "metadata": {},
     "output_type": "display_data"
    }
   ],
   "source": [
    "#| hide\n",
    "from fastdebug.utils import *"
   ]
  },
  {
   "cell_type": "markdown",
   "id": "cf93b01a",
   "metadata": {},
   "source": [
    "## use `fastlistnbs` to check menu"
   ]
  },
  {
   "cell_type": "code",
   "execution_count": null,
   "id": "ed3986ff",
   "metadata": {},
   "outputs": [
    {
     "data": {
      "text/markdown": [
       "---\n",
       "\n",
       "[source](https://github.com/EmbraceLife/fastdebug/blob/master/fastdebug/utils.py#LNone){target=\"_blank\" style=\"float:right; font-size:smaller\"}\n",
       "\n",
       "### fastlistnbs\n",
       "\n",
       ">      fastlistnbs (query='all', flt_fd='src')\n",
       "\n",
       "display section headings of notebooks, filter options: fastai, part2, groundup, src_fastai,src_fastcore, all\n",
       "\n",
       "|    | **Type** | **Default** | **Details** |\n",
       "| -- | -------- | ----------- | ----------- |\n",
       "| query | str | all | \"howto\", \"srcode\", \"journey\", \"question\", \"doc\", \"radek\", \"practice\", \"links\", or \"all\" |\n",
       "| flt_fd | str | src | other options: \"groundup\", \"part2\", \"all\" |"
      ],
      "text/plain": [
       "---\n",
       "\n",
       "[source](https://github.com/EmbraceLife/fastdebug/blob/master/fastdebug/utils.py#LNone){target=\"_blank\" style=\"float:right; font-size:smaller\"}\n",
       "\n",
       "### fastlistnbs\n",
       "\n",
       ">      fastlistnbs (query='all', flt_fd='src')\n",
       "\n",
       "display section headings of notebooks, filter options: fastai, part2, groundup, src_fastai,src_fastcore, all\n",
       "\n",
       "|    | **Type** | **Default** | **Details** |\n",
       "| -- | -------- | ----------- | ----------- |\n",
       "| query | str | all | \"howto\", \"srcode\", \"journey\", \"question\", \"doc\", \"radek\", \"practice\", \"links\", or \"all\" |\n",
       "| flt_fd | str | src | other options: \"groundup\", \"part2\", \"all\" |"
      ]
     },
     "execution_count": null,
     "metadata": {},
     "output_type": "execute_result"
    }
   ],
   "source": [
    "show_doc(fastlistnbs)"
   ]
  },
  {
   "cell_type": "code",
   "execution_count": null,
   "id": "09f97110",
   "metadata": {},
   "outputs": [
    {
     "data": {
      "text/markdown": [
       "### <mark style=\"background-color: #ffff00\">src:</mark>  <mark style=\"background-color: #FFFF00\">fastlistnbs</mark> (query, fld_fd), hts\n"
      ],
      "text/plain": [
       "<IPython.core.display.Markdown object>"
      ]
     },
     "metadata": {},
     "output_type": "display_data"
    },
    {
     "data": {
      "text/markdown": [
       "heading 3.\n",
       "\n",
       "\n",
       "```python\n",
       "#| export \n",
       "import pandas as pd\n",
       "```\n",
       "\n",
       "```python\n",
       "#| export\n",
       "hts = pd.Series(list(map(lambda x: \"ht: \" + x, \"imports, data_download, data_access, data_prep, data_loaders, cbs_tfms, learner, fit, pred, fu\".split(\", \"))))\n",
       "```\n",
       "\n",
       "```python\n",
       "hts\n",
       "```\n",
       "\n",
       "```python\n",
       "#| export\n",
       "def fastlistnbs(query=\"all\", # \"howto\", \"srcode\", \"journey\", \"question\", \"doc\", \"radek\", \"practice\", \"links\", or \"all\"\n",
       "                flt_fd=\"src\"): # other options: \"groundup\", \"part2\", \"all\"\n",
       "    \"display section headings of notebooks, filter options: fastai, part2, groundup, src_fastai,\\\n",
       "src_fastcore, all\"\n",
       "    nbs, folder, _, _, _, _, pys, py_folder = get_all_nbs()\n",
       "    nb_rt = \"\"\n",
       "    nbs_fd = []\n",
       "    for nb in nbs:\n",
       "        if flt_fd == \"fastai\" and \"_fastai_\" in nb.split(\"/\")[-1] and not \"_fastai_pt2\" in nb.split(\"/\")[-1]: \n",
       "            nbs_fd.append(nb)\n",
       "        elif flt_fd == \"part2\" and \"_fastai_pt2\" in nb.split(\"/\")[-1]:\n",
       "            nbs_fd.append(nb)\n",
       "        elif flt_fd == \"groundup\" and \"groundup_\" in nb.split(\"/\")[-1]:            \n",
       "            nbs_fd.append(nb)\n",
       "        elif flt_fd == \"src\" and \"fast\" in nb.split(\"/\")[-1]:\n",
       "            nbs_fd.append(nb)\n",
       "        elif flt_fd == \"all\": \n",
       "            nbs_fd.append(nb)\n",
       "        else: \n",
       "            continue      \n",
       "\n",
       "    if query != \"howto\":\n",
       "        for nb_rt in nbs_fd:\n",
       "            with open(nb_rt, 'r') as file:\n",
       "                found = False\n",
       "                for idx, l in enumerate(file):\n",
       "                    if \"##\" in l:\n",
       "                        if query == \"howto\" and \"ht:\" in l:\n",
       "                            if l.count(\"#\") == 2: print()\n",
       "                            print(l, end=\"\") # no extra new line between each line printed   \n",
       "                            found = True\n",
       "                        elif query == \"srcode\" and \"src:\" in l:\n",
       "                            if l.count(\"#\") == 2: print()                        \n",
       "                            print(l, end=\"\") \n",
       "                            found = True\n",
       "                        elif query == \"doc\" and \"doc:\" in l:\n",
       "                            if l.count(\"#\") == 2: print()                        \n",
       "                            print(l, end=\"\") \n",
       "                            found = True                        \n",
       "                        elif query == \"journey\" and \"jn:\" in l:\n",
       "                            if l.count(\"#\") == 2: print()                        \n",
       "                            print(l, end=\"\") \n",
       "                            found = True\n",
       "                        elif query == \"question\" and \"qt:\" in l:\n",
       "                            if l.count(\"#\") == 2: print()                        \n",
       "                            print(l, end=\"\") \n",
       "                            found = True\n",
       "                        elif query == \"radek\" and \"rd:\" in l:\n",
       "                            if l.count(\"#\") == 2: print()                        \n",
       "                            print(l, end=\"\") \n",
       "                            found = True\n",
       "                        elif query == \"practice\" and \"pt:\" in l:\n",
       "                            if l.count(\"#\") == 2: print()                        \n",
       "                            print(l, end=\"\") \n",
       "                            found = True\n",
       "                        elif query == \"links\" and \"lk:\" in l:\n",
       "                            if l.count(\"#\") == 2: print()                        \n",
       "                            print(l, end=\"\") \n",
       "                            found = True                            \n",
       "                        elif query == \"all\": \n",
       "                            if l.count(\"#\") == 2: print()                        \n",
       "                            print(l, end=\"\") \n",
       "                            found = True                        \n",
       "                if found: print(nb_rt + \"\\n\")\n",
       "    else:\n",
       "        for idx, o in enumerate(hts):\n",
       "            print('{:=<157}'.format(f\"step {idx}: {o}\"))\n",
       "            for nb_rt in nbs_fd:\n",
       "                with open(nb_rt, 'r') as file:\n",
       "                    found = False\n",
       "                    for idx, l in enumerate(file):\n",
       "                        if \"##\" in l:\n",
       "                            if o in l:\n",
       "                                if l.count(\"#\") == 2: print()\n",
       "                                print(l, end=\"\") # no extra new line between each line printed   \n",
       "                                found = True                   \n",
       "                    if found: print(nb_rt + \"\\n\")\n",
       "```\n",
       "\n",
       "```python\n",
       "# for i, o in enumerate(\"imports, data-download, data-access, data-prep, data-loaders, cbs-tfms, learner, fit, pred\".split(\", \")):\n",
       "#     i, o\n",
       "```\n",
       "\n",
       "```python\n",
       "fastlistnbs(\"howto\")\n",
       "# fastlistnbs(\"doc\")\n",
       "# fastlistnbs(\"srcode\")\n",
       "# fastlistnbs(\"journey\")\n",
       "\n",
       "```\n",
       "\n",
       "Next, heading 2\n",
       "## fastlistsrcs"
      ],
      "text/plain": [
       "<IPython.core.display.Markdown object>"
      ]
     },
     "metadata": {},
     "output_type": "display_data"
    },
    {
     "data": {
      "text/markdown": [
       "[Open `01_utils` in Jupyter Notebook locally](http://localhost:8888/tree/nbs/lib/01_utils.ipynb#src:-fastlistnbs(query,-fld_fd),-hts\n",
       ")"
      ],
      "text/plain": [
       "<IPython.core.display.Markdown object>"
      ]
     },
     "metadata": {},
     "output_type": "display_data"
    }
   ],
   "source": [
    "fastnbs(\"src: fastlistnbs\")"
   ]
  },
  {
   "cell_type": "code",
   "execution_count": null,
   "id": "6f57752e",
   "metadata": {},
   "outputs": [
    {
     "data": {
      "text/plain": [
       "0          ht: imports\n",
       "1    ht: data_download\n",
       "2      ht: data_access\n",
       "3        ht: data_prep\n",
       "4     ht: data_loaders\n",
       "5         ht: cbs_tfms\n",
       "6          ht: learner\n",
       "7              ht: fit\n",
       "8             ht: pred\n",
       "9               ht: fu\n",
       "dtype: object"
      ]
     },
     "execution_count": null,
     "metadata": {},
     "output_type": "execute_result"
    }
   ],
   "source": [
    "hts"
   ]
  },
  {
   "cell_type": "markdown",
   "id": "15616df9",
   "metadata": {},
   "source": [
    "## use fastnbs to dive in"
   ]
  },
  {
   "cell_type": "code",
   "execution_count": null,
   "id": "2440950f",
   "metadata": {},
   "outputs": [
    {
     "data": {
      "text/markdown": [
       "---\n",
       "\n",
       "[source](https://github.com/EmbraceLife/fastdebug/blob/master/fastdebug/utils.py#LNone){target=\"_blank\" style=\"float:right; font-size:smaller\"}\n",
       "\n",
       "### fastnbs\n",
       "\n",
       ">      fastnbs (question:str, filter_folder='src', strict=False, output=False,\n",
       ">               accu:float=0.8, nb=True, db=False)\n",
       "\n",
       "check with fastlistnbs() to skim through all the learning points as section titles; then use fastnotes() to find interesting lines which can be notes or codes, and finally use fastnbs() display the entire learning points section including notes and codes.\n",
       "\n",
       "|    | **Type** | **Default** | **Details** |\n",
       "| -- | -------- | ----------- | ----------- |\n",
       "| question | str |  | query options, \"rd: adept practitioner\", \"doc: ImageDataLoaders\", \"src: DataBlock\", \"ht: git\", \"jn: help others is the way\" |\n",
       "| filter_folder | str | src | options: src, all, |\n",
       "| strict | bool | False | loose search keyword, not as the first query word |\n",
       "| output | bool | False | True for nice print of cell output |\n",
       "| accu | float | 0.8 |  |\n",
       "| nb | bool | True |  |\n",
       "| db | bool | False |  |"
      ],
      "text/plain": [
       "---\n",
       "\n",
       "[source](https://github.com/EmbraceLife/fastdebug/blob/master/fastdebug/utils.py#LNone){target=\"_blank\" style=\"float:right; font-size:smaller\"}\n",
       "\n",
       "### fastnbs\n",
       "\n",
       ">      fastnbs (question:str, filter_folder='src', strict=False, output=False,\n",
       ">               accu:float=0.8, nb=True, db=False)\n",
       "\n",
       "check with fastlistnbs() to skim through all the learning points as section titles; then use fastnotes() to find interesting lines which can be notes or codes, and finally use fastnbs() display the entire learning points section including notes and codes.\n",
       "\n",
       "|    | **Type** | **Default** | **Details** |\n",
       "| -- | -------- | ----------- | ----------- |\n",
       "| question | str |  | query options, \"rd: adept practitioner\", \"doc: ImageDataLoaders\", \"src: DataBlock\", \"ht: git\", \"jn: help others is the way\" |\n",
       "| filter_folder | str | src | options: src, all, |\n",
       "| strict | bool | False | loose search keyword, not as the first query word |\n",
       "| output | bool | False | True for nice print of cell output |\n",
       "| accu | float | 0.8 |  |\n",
       "| nb | bool | True |  |\n",
       "| db | bool | False |  |"
      ]
     },
     "execution_count": null,
     "metadata": {},
     "output_type": "execute_result"
    }
   ],
   "source": [
    "show_doc(fastnbs)"
   ]
  },
  {
   "cell_type": "markdown",
   "id": "b6d79915",
   "metadata": {},
   "source": [
    "## Search my Journey "
   ]
  },
  {
   "cell_type": "code",
   "execution_count": null,
   "id": "28c23d63",
   "metadata": {},
   "outputs": [
    {
     "name": "stdout",
     "output_type": "stream",
     "text": [
      "### jn: help other is the best way forward\n",
      "### jn: how to iterate or make one step forward at at time\n",
      "/Users/Natsume/Documents/fastdebug/mds/fastai_notebooks/0008_fastai_first_steps_road_to_top_part_1.md\n",
      "\n"
     ]
    }
   ],
   "source": [
    "fastlistnbs(\"journey\")"
   ]
  },
  {
   "cell_type": "code",
   "execution_count": null,
   "id": "4264478d",
   "metadata": {},
   "outputs": [
    {
     "data": {
      "text/markdown": [
       "### <mark style=\"background-color: #ffff00\">jn:</mark>  <mark style=\"background-color: #ffff00\">help</mark>  <mark style=\"background-color: #FFFF00\">other</mark>  is the best way forward\n"
      ],
      "text/plain": [
       "<IPython.core.display.Markdown object>"
      ]
     },
     "metadata": {},
     "output_type": "display_data"
    },
    {
     "data": {
      "text/markdown": [
       "heading 3.\n",
       "\n",
       "\n",
       "\n",
       "**Reflection on Radek's 1st newsletter**\n",
       "\n",
       "One way to summarize Radek's secret to success is the following: \n",
       "\n",
       "> No matter which stage of journey in the deep learning or any subject, when you are doing your best to help others to learn what you learnt and what you are dying to find out, and if you persist, you will be happy and successful. \n",
       "\n",
       "I have dreamed of such hypothesis many times when I motivated myself to share online, and Radek proved it to be solid and true! No time to waste now!\n",
       "\n",
       "Another extremely simple but shocking secret to Radek's success is, in his words (now I can recite):\n",
       "\n",
       "> I would suspend my disbelief and do exactly what Jeremy Howard told us to do in the lectures\n",
       "\n",
       "What Jeremy told us to do is loud and clear, the 4 steps (watch, experiment, reproduce, apply elsewhere). More importantly, they are true and working if one holds onto it like Radek did. \n",
       "\n",
       "Why I am always trying to do something different? Why couldn't I just follow this great advice right from the start? I walked [a long way around it](https://twitter.com/shendusuipian/status/1587429658621988871?s=20&t=zjz1OlYRt7yJJ8HVBdsqoA) and luckily I get my sense back and move onto the second step now. \n",
       "\n",
       "\n",
       "Next, heading 2\n",
       "## ht: imports - vision"
      ],
      "text/plain": [
       "<IPython.core.display.Markdown object>"
      ]
     },
     "metadata": {},
     "output_type": "display_data"
    },
    {
     "data": {
      "text/markdown": [
       "[Open `0008_fastai_first_steps_road_to_top_part_1` in Jupyter Notebook locally](http://localhost:8888/tree/nbs/fastai_notebooks/0008_fastai_first_steps_road_to_top_part_1.ipynb#jn:-help-other-is-the-best-way-forward\n",
       ")"
      ],
      "text/plain": [
       "<IPython.core.display.Markdown object>"
      ]
     },
     "metadata": {},
     "output_type": "display_data"
    },
    {
     "data": {
      "text/markdown": [
       "[Open `0008_fastai_first_steps_road_to_top_part_1` in Jupyter Notebook on Kaggle](https://www.kaggle.com/code/jhoward/first-steps-road-to-the-top-part-1)"
      ],
      "text/plain": [
       "<IPython.core.display.Markdown object>"
      ]
     },
     "metadata": {},
     "output_type": "display_data"
    }
   ],
   "source": [
    "fastnbs(\"jn: help other\")"
   ]
  },
  {
   "cell_type": "markdown",
   "id": "b5a6958f",
   "metadata": {},
   "source": [
    "## Search docs"
   ]
  },
  {
   "cell_type": "code",
   "execution_count": null,
   "id": "698927ab",
   "metadata": {},
   "outputs": [
    {
     "name": "stdout",
     "output_type": "stream",
     "text": [
      "### doc: DataBlock.datasets(source, verbose)\n",
      "### doc: DataBlock.dataloaders\n",
      "/Users/Natsume/Documents/fastdebug/mds/fastai_notebooks/0001_fastai_is_it_a_bird.md\n",
      "\n",
      "### doc: download_kaggle_dataset(comp, local_folder='', install='fastai \"timm>=0.6.2.dev0\")\n",
      "### doc: ImageDataLoaders.from_folder\n",
      "### doc: aug_transforms(size=128, min_scale=0.75)\n",
      "### doc: vision_learner(dls, 'resnet26d', metrics=error_rate, path='.').to_fp16()\n",
      "### doc: learn.export(fname='export.pkl', pickle_module=pickle, pickle_protocol=2)\n",
      "/Users/Natsume/Documents/fastdebug/mds/fastai_notebooks/0008_fastai_first_steps_road_to_top_part_1.md\n",
      "\n",
      "### doc: ImageDataLoaders.from_name_func(path: 'str | Path', fnames: 'list', label_func: 'callable', **kwargs) -> 'DataLoaders'\n",
      "/Users/Natsume/Documents/fastdebug/mds/fastai_notebooks/0002_fastai_saving_a_basic_fastai_model.md\n",
      "\n"
     ]
    }
   ],
   "source": [
    "fastlistnbs(\"doc\")"
   ]
  },
  {
   "cell_type": "code",
   "execution_count": null,
   "id": "07ae0686",
   "metadata": {},
   "outputs": [
    {
     "data": {
      "text/markdown": [
       "### <mark style=\"background-color: #ffff00\">doc:</mark>  <mark style=\"background-color: #FFFF00\">imagedataloaders</mark> .from_folder\n"
      ],
      "text/plain": [
       "<IPython.core.display.Markdown object>"
      ]
     },
     "metadata": {},
     "output_type": "display_data"
    },
    {
     "data": {
      "text/markdown": [
       "heading 3.\n",
       "\n",
       "\n",
       "\n",
       "To create a DataLoader obj from a folder, and a dataloader prepares functions for splitting training and validation sets, extracting images and labels, each item transformations, and batch transformations.\n",
       "\n",
       "eg., give it `trn_path` (folder has subfolders like train, test or even valid), `valid_pct` (split a portion from train to create validation set), `seed` (set a seed for reproducibility), `item_tfms` (do transforms to each item), and `batch_tfms` (do transformations on batches)\n",
       "\n",
       "<!-- #region -->\n",
       "```python\n",
       "dls = ImageDataLoaders.from_folder(trn_path, valid_pct=0.2, seed=42,\n",
       "    item_tfms=Resize(480, method='squish'),\n",
       "    batch_tfms=aug_transforms(size=128, min_scale=0.75))\n",
       "\n",
       "dls.show_batch(max_n=6)\n",
       "```\n",
       "<!-- #endregion -->\n",
       "\n",
       "<!-- #region -->\n",
       "```python\n",
       "@classmethod\n",
       "@delegates(DataLoaders.from_dblock)\n",
       "def from_folder(cls:ImageDataLoaders, path, train='train', valid='valid', valid_pct=None, seed=None, vocab=None, item_tfms=None,\n",
       "                batch_tfms=None, img_cls=PILImage, **kwargs):\n",
       "    \"Create from imagenet style dataset in `path` with `train` and `valid` subfolders (or provide `valid_pct`)\"\n",
       "    # get the splitter function to split training and validation sets\n",
       "    splitter = GrandparentSplitter(train_name=train, valid_name=valid) if valid_pct is None else RandomSplitter(valid_pct, seed=seed)\n",
       "    # get the function to extract image files from using get_image_files in different spices\n",
       "    get_items = get_image_files if valid_pct else partial(get_image_files, folders=[train, valid])\n",
       "    # create a DataBlock object to organise all the data processing functions or callbacks\n",
       "    dblock = DataBlock(blocks=(ImageBlock(img_cls), CategoryBlock(vocab=vocab)),\n",
       "                       get_items=get_items,\n",
       "                       splitter=splitter,\n",
       "                       get_y=parent_label,\n",
       "                       item_tfms=item_tfms,\n",
       "                       batch_tfms=batch_tfms)\n",
       "    # return a dataloaders created from the given DataBlock object above calling DataBlock.dataloaders\n",
       "    return cls.from_dblock(dblock, path, path=path, **kwargs)\n",
       "# File:      ~/mambaforge/lib/python3.9/site-packages/fastai/vision/data.py\n",
       "# Type:      method\n",
       "```\n",
       "<!-- #endregion -->\n",
       "\n",
       "```python\n",
       "show_doc(ImageDataLoaders.from_folder)\n",
       "```\n",
       "\n",
       "Next, heading 3\n",
       "### src: ImageDataLoaders.from_folder"
      ],
      "text/plain": [
       "<IPython.core.display.Markdown object>"
      ]
     },
     "metadata": {},
     "output_type": "display_data"
    },
    {
     "data": {
      "text/markdown": [
       "[Open `0008_fastai_first_steps_road_to_top_part_1` in Jupyter Notebook locally](http://localhost:8888/tree/nbs/fastai_notebooks/0008_fastai_first_steps_road_to_top_part_1.ipynb#doc:-ImageDataLoaders.from_folder\n",
       ")"
      ],
      "text/plain": [
       "<IPython.core.display.Markdown object>"
      ]
     },
     "metadata": {},
     "output_type": "display_data"
    },
    {
     "data": {
      "text/markdown": [
       "[Open `0008_fastai_first_steps_road_to_top_part_1` in Jupyter Notebook on Kaggle](https://www.kaggle.com/code/jhoward/first-steps-road-to-the-top-part-1)"
      ],
      "text/plain": [
       "<IPython.core.display.Markdown object>"
      ]
     },
     "metadata": {},
     "output_type": "display_data"
    },
    {
     "data": {
      "text/markdown": [
       "### <mark style=\"background-color: #ffff00\">doc:</mark>  <mark style=\"background-color: #FFFF00\">imagedataloaders</mark> .from_name_func(path: 'str | path', fnames: 'list', label_func: 'callable', **kwargs) -> 'dataloaders'\n"
      ],
      "text/plain": [
       "<IPython.core.display.Markdown object>"
      ]
     },
     "metadata": {},
     "output_type": "display_data"
    },
    {
     "data": {
      "text/markdown": [
       "heading 3.\n",
       "\n",
       "\n",
       "\n",
       "official: \"Create from the name attrs of `fnames` in `path`s with `label_func`\"\n",
       "\n",
       "use `using_attr(label_func, 'name')` as `f`, and pass `f` to `from_path_func` to create a DataLoaders (which later passed to a learner)\n",
       "\n",
       "from_name_func: because the label is inside the name of the image filename\n",
       "\n",
       "label_func: is to get the targe or label from the name of the image filename\n",
       "\n",
       "path: is the string name or path for the folder which is to store models\n",
       "\n",
       "fnames: all the image/data filenames to be used for the model, get_image_files(path) can return a L list of image filenames/path\n",
       "\n",
       "`f = using_attr(label_func, 'name')`: make sure `is_cat` is to work on the `name` of a image filename. (see example inside source below)\n",
       "\n",
       "```python\n",
       "# fastnbs(\"DataBlock.dataloaders\")\n",
       "# fastnbs(\"DataBlock.datasets\")\n",
       "# fastnbs(\"Datasets\")\n",
       "```\n",
       "\n",
       "Next, heading 3\n",
       "### src: ImageDataLoaders.from_name_func(path: 'str | Path', fnames: 'list', label_func: 'callable', **kwargs) -> 'DataLoaders'"
      ],
      "text/plain": [
       "<IPython.core.display.Markdown object>"
      ]
     },
     "metadata": {},
     "output_type": "display_data"
    },
    {
     "data": {
      "text/markdown": [
       "[Open `0002_fastai_saving_a_basic_fastai_model` in Jupyter Notebook locally](http://localhost:8888/tree/nbs/fastai_notebooks/0002_fastai_saving_a_basic_fastai_model.ipynb#doc:-ImageDataLoaders.from_name_func(path:-'str-|-Path',-fnames:-'list',-label_func:-'callable',-**kwargs)-->-'DataLoaders'\n",
       ")"
      ],
      "text/plain": [
       "<IPython.core.display.Markdown object>"
      ]
     },
     "metadata": {},
     "output_type": "display_data"
    },
    {
     "data": {
      "text/markdown": [
       "[Open `0002_fastai_saving_a_basic_fastai_model` in Jupyter Notebook on Kaggle](https://www.kaggle.com/code/jhoward/saving-a-basic-fastai-model)"
      ],
      "text/plain": [
       "<IPython.core.display.Markdown object>"
      ]
     },
     "metadata": {},
     "output_type": "display_data"
    }
   ],
   "source": [
    "fastnbs(\"doc: ImageDataLoaders\")"
   ]
  },
  {
   "cell_type": "markdown",
   "id": "3fee3d1b",
   "metadata": {},
   "source": [
    "## Search source code"
   ]
  },
  {
   "cell_type": "markdown",
   "id": "8dc3f6dc",
   "metadata": {},
   "source": [
    "Run these"
   ]
  },
  {
   "cell_type": "code",
   "execution_count": null,
   "id": "fcd2bea1",
   "metadata": {},
   "outputs": [
    {
     "name": "stdout",
     "output_type": "stream",
     "text": [
      "### src: itemgot(self:L, *idxs)\n",
      "### src: itemgetter\n",
      "### src: DataBlock.datasets((source, verbose)\n",
      "### src: DataBlock.dataloaders\n",
      "/Users/Natsume/Documents/fastdebug/mds/fastai_notebooks/0001_fastai_is_it_a_bird.md\n",
      "\n",
      "### src: download_kaggle_dataset\n",
      "### src: check_subfolders_img(path, db=False)\n",
      "### src: randomdisplay(path, size, db=False)\n",
      "### src: check_sizes_img(files)\n",
      "### src: ImageDataLoaders.from_folder\n",
      "### src: aug_transforms(size=128, min_scale=0.75)\n",
      "### src: vision_learner(dls, 'resnet26d', metrics=error_rate, path='.').to_fp16()\n",
      "/Users/Natsume/Documents/fastdebug/mds/fastai_notebooks/0008_fastai_first_steps_road_to_top_part_1.md\n",
      "\n",
      "### src: ImageDataLoaders.from_name_func(path: 'str | Path', fnames: 'list', label_func: 'callable', **kwargs) -> 'DataLoaders'\n",
      "/Users/Natsume/Documents/fastdebug/mds/fastai_notebooks/0002_fastai_saving_a_basic_fastai_model.md\n",
      "\n"
     ]
    }
   ],
   "source": [
    "fastlistnbs(\"srcode\")"
   ]
  },
  {
   "cell_type": "code",
   "execution_count": null,
   "id": "fb1c53d1",
   "metadata": {},
   "outputs": [
    {
     "data": {
      "text/markdown": [
       "### <mark style=\"background-color: #ffff00\">src:</mark>  <mark style=\"background-color: #FFFF00\">download_kaggle</mark> _dataset\n"
      ],
      "text/plain": [
       "<IPython.core.display.Markdown object>"
      ]
     },
     "metadata": {},
     "output_type": "display_data"
    },
    {
     "data": {
      "text/markdown": [
       "heading 3.\n",
       "\n",
       "\n",
       "```python\n",
       "export_open_py()\n",
       "```\n",
       "\n",
       "```python\n",
       "exec(export_open_py().replace('pyfile', 'src_download'))\n",
       "```\n",
       "\n",
       "Next, heading 3\n",
       "### ht: fu - debug every srcline without breaking"
      ],
      "text/plain": [
       "<IPython.core.display.Markdown object>"
      ]
     },
     "metadata": {},
     "output_type": "display_data"
    },
    {
     "data": {
      "text/markdown": [
       "[Open `0008_fastai_first_steps_road_to_top_part_1` in Jupyter Notebook locally](http://localhost:8888/tree/nbs/fastai_notebooks/0008_fastai_first_steps_road_to_top_part_1.ipynb#src:-download_kaggle_dataset\n",
       ")"
      ],
      "text/plain": [
       "<IPython.core.display.Markdown object>"
      ]
     },
     "metadata": {},
     "output_type": "display_data"
    },
    {
     "data": {
      "text/markdown": [
       "[Open `0008_fastai_first_steps_road_to_top_part_1` in Jupyter Notebook on Kaggle](https://www.kaggle.com/code/jhoward/first-steps-road-to-the-top-part-1)"
      ],
      "text/plain": [
       "<IPython.core.display.Markdown object>"
      ]
     },
     "metadata": {},
     "output_type": "display_data"
    }
   ],
   "source": [
    "fastnbs(\"src: download_kaggle\")"
   ]
  },
  {
   "cell_type": "code",
   "execution_count": null,
   "id": "23ec543b",
   "metadata": {},
   "outputs": [
    {
     "name": "stdout",
     "output_type": "stream",
     "text": [
      "['/Users/Natsume/Documents/fastdebug/fastdebug/kaggle_paddy_pt1.py',\n",
      " '/Users/Natsume/Documents/fastdebug/fastdebug/fast_src_download_kaggle_dataset.py',\n",
      " '/Users/Natsume/Documents/fastdebug/fastdebug/kaggle_notebook.py']\n"
     ]
    },
    {
     "data": {
      "text/markdown": [
       "[Open `fast_src_download_kaggle_dataset` in Jupyter Notebook locally](http://localhost:8888/tree/fastdebug/fast_src_download_kaggle_dataset.py)"
      ],
      "text/plain": [
       "<IPython.core.display.Markdown object>"
      ]
     },
     "metadata": {},
     "output_type": "display_data"
    }
   ],
   "source": [
    "exec(export_open_py().replace('pyfile', 'src_download'))"
   ]
  },
  {
   "cell_type": "markdown",
   "id": "0294e717",
   "metadata": {},
   "source": [
    "## Search howto"
   ]
  },
  {
   "cell_type": "code",
   "execution_count": null,
   "id": "68eaf8e5",
   "metadata": {},
   "outputs": [
    {
     "name": "stdout",
     "output_type": "stream",
     "text": [
      "step 0: ht: imports==========================================================================================================================================\n",
      "\n",
      "## ht: imports - vision\n",
      "### ht: imports - fastkaggle \n",
      "### ht: imports - imports fastdebug.utils on Kaggle\n",
      "### ht: imports - import for vision\n",
      "### ht: imports - upload and update mylib in kaggle\n",
      "### ht: imports - create libs as datasets for kaggle with `create_libs_datasets`\n",
      "/Users/Natsume/Documents/fastdebug/mds/fastai_notebooks/0008_fastai_first_steps_road_to_top_part_1.md\n",
      "\n",
      "step 1: ht: data_download====================================================================================================================================\n",
      "\n",
      "## ht: data_download - kaggle competition dataset\n",
      "### ht: data_download - join, `kaggle.json`, `setup_comp` for local use\n",
      "/Users/Natsume/Documents/fastdebug/mds/fastai_notebooks/0008_fastai_first_steps_road_to_top_part_1.md\n",
      "\n",
      "step 2: ht: data_access======================================================================================================================================\n",
      "### ht: data_access - map subfolders content with `check_subfolders_img`\n",
      "### ht: data_access - extract all images for test and train with `get_image_files`\n",
      "### ht: data_access - display an image from test_files or train_files with `randomdisplay`\n",
      "### ht: data_access - select a subset from each subfolder with `get_image_files_subset`\n",
      "/Users/Natsume/Documents/fastdebug/mds/fastai_notebooks/0008_fastai_first_steps_road_to_top_part_1.md\n",
      "\n",
      "step 3: ht: data_prep========================================================================================================================================\n",
      "### ht: data_prep reproducibility in training a model\n",
      "### ht: data_prep - remove images that fail to open with `remove_failed(path)`\n",
      "### ht: data_prep - describe sizes of all images with `check_sizes_img`\n",
      "/Users/Natsume/Documents/fastdebug/mds/fastai_notebooks/0008_fastai_first_steps_road_to_top_part_1.md\n",
      "\n",
      "step 4: ht: data_loaders=====================================================================================================================================\n",
      "### ht: data_loaders - create a dataloader from a folder with `ImageDataLoaders.from_folder`\n",
      "### ht: data_loaders - apply transformations to each image with `item_tfms = Resize(480, method='squish')`\n",
      "### ht: data_loaders - apply image augmentations to each batch of data with `batch_tfms = aug_transforms`\n",
      "/Users/Natsume/Documents/fastdebug/mds/fastai_notebooks/0008_fastai_first_steps_road_to_top_part_1.md\n",
      "\n",
      "step 5: ht: cbs_tfms=========================================================================================================================================\n",
      "step 6: ht: learner==========================================================================================================================================\n",
      "### ht: learner - model arch - how to pick the first to try\n",
      "### ht: learner - vision_learner - build a learner for vision\n",
      "### ht: learner - find learning rate with `learn.lr_find(suggest_funcs=(valley, slide))`\n",
      "### ht: learner - save model with `learn.export`\n",
      "/Users/Natsume/Documents/fastdebug/mds/fastai_notebooks/0008_fastai_first_steps_road_to_top_part_1.md\n",
      "\n",
      "step 7: ht: fit==============================================================================================================================================\n",
      "step 8: ht: pred=============================================================================================================================================\n",
      "step 9: ht: fu===============================================================================================================================================\n",
      "### ht: fu - whatinside, show_doc, fastlistnbs, fastnbs\n",
      "### ht: fu - git - when a commit takes too long\n",
      "### ht: fu - debug every srcline without breaking\n",
      "### ht: fu - (de)activate snoop without commenting out using `snoopon()` and `snoopoff()`  \n",
      "/Users/Natsume/Documents/fastdebug/mds/fastai_notebooks/0008_fastai_first_steps_road_to_top_part_1.md\n",
      "\n"
     ]
    }
   ],
   "source": [
    "# show_doc(fastnotes)\n",
    "# show_doc(fastlistsrcs)\n",
    "\n",
    "# how to do notes from now on? make them notebooks first for using fastlistnbs and fastnbs\n",
    "# make howto internal steps breakable?\n",
    "fastlistnbs(\"howto\")"
   ]
  },
  {
   "cell_type": "code",
   "execution_count": null,
   "id": "4a2f464a",
   "metadata": {},
   "outputs": [
    {
     "data": {
      "text/markdown": [
       "### <mark style=\"background-color: #ffff00\">ht:</mark>  <mark style=\"background-color: #ffff00\">learner</mark>  - <mark style=\"background-color: #ffff00\">save</mark>  <mark style=\"background-color: #FFFF00\">model</mark>  with `learn.export`\n"
      ],
      "text/plain": [
       "<IPython.core.display.Markdown object>"
      ]
     },
     "metadata": {},
     "output_type": "display_data"
    },
    {
     "data": {
      "text/markdown": [
       "heading 3.\n",
       "\n",
       "\n",
       "\n",
       "Next, heading 3\n",
       "### doc: learn.export(fname='export.pkl', pickle_module=pickle, pickle_protocol=2)"
      ],
      "text/plain": [
       "<IPython.core.display.Markdown object>"
      ]
     },
     "metadata": {},
     "output_type": "display_data"
    },
    {
     "data": {
      "text/markdown": [
       "[Open `0008_fastai_first_steps_road_to_top_part_1` in Jupyter Notebook locally](http://localhost:8888/tree/nbs/fastai_notebooks/0008_fastai_first_steps_road_to_top_part_1.ipynb#ht:-learner---save-model-with-`learn.export`\n",
       ")"
      ],
      "text/plain": [
       "<IPython.core.display.Markdown object>"
      ]
     },
     "metadata": {},
     "output_type": "display_data"
    },
    {
     "data": {
      "text/markdown": [
       "[Open `0008_fastai_first_steps_road_to_top_part_1` in Jupyter Notebook on Kaggle](https://www.kaggle.com/code/jhoward/first-steps-road-to-the-top-part-1)"
      ],
      "text/plain": [
       "<IPython.core.display.Markdown object>"
      ]
     },
     "metadata": {},
     "output_type": "display_data"
    }
   ],
   "source": [
    "fastnbs('ht: learner save model')"
   ]
  },
  {
   "cell_type": "code",
   "execution_count": null,
   "id": "21145439",
   "metadata": {},
   "outputs": [
    {
     "data": {
      "text/markdown": [
       "### <mark style=\"background-color: #ffff00\">doc:</mark>  <mark style=\"background-color: #FFFF00\">learn.export</mark> (fname='export.pkl', pickle_module=pickle, pickle_protocol=2)\n"
      ],
      "text/plain": [
       "<IPython.core.display.Markdown object>"
      ]
     },
     "metadata": {},
     "output_type": "display_data"
    },
    {
     "data": {
      "text/markdown": [
       "heading 3.\n",
       "\n",
       "\n",
       "\n",
       "return: nothing, but saved a model as a pkl file in `learn.path` with the name given by `fname`\n",
       "\n",
       "we can change the folder for storing model by changing `learn.path`\n",
       "\n",
       "we can give a detailed name to specify the model\n",
       "\n",
       "<!-- #region -->\n",
       "```python\n",
       "@patch\n",
       "def export(self:Learner, fname='export.pkl', pickle_module=pickle, pickle_protocol=2):\n",
       "    \"Export the content of `self` without the items and the optimizer state for inference\"\n",
       "    if rank_distrib(): return # don't export if child proc\n",
       "    self._end_cleanup()\n",
       "    old_dbunch = self.dls\n",
       "    self.dls = self.dls.new_empty()\n",
       "    state = self.opt.state_dict() if self.opt is not None else None\n",
       "    self.opt = None\n",
       "    with warnings.catch_warnings():\n",
       "        #To avoid the warning that come from PyTorch about model not being checked\n",
       "        warnings.simplefilter(\"ignore\")\n",
       "        # the folder is defined by self.path\n",
       "        torch.save(self, self.path/fname, pickle_module=pickle_module, pickle_protocol=pickle_protocol)\n",
       "    self.create_opt()\n",
       "    if state is not None: self.opt.load_state_dict(state)\n",
       "    self.dls = old_dbunch\n",
       "# File:      ~/mambaforge/lib/python3.9/site-packages/fastai/learner.py\n",
       "# Type:      method\n",
       "```\n",
       "<!-- #endregion -->\n",
       "\n",
       "```python\n",
       "learn.path\n",
       "```\n",
       "\n",
       "```python\n",
       "learn.path = Path('models')\n",
       "```\n",
       "\n",
       "```python\n",
       "learn.path\n",
       "```\n",
       "\n",
       "```python\n",
       "learn.export(\"paddy_10pct_resnet26d_10epochs.pkl\")\n",
       "```\n",
       "\n",
       "```python\n",
       "\n",
       "```\n",
       "\n",
       "Next, heading 3\n",
       "### qt: How many epochs should I train in general in this early stage with 10% dataset without gpu"
      ],
      "text/plain": [
       "<IPython.core.display.Markdown object>"
      ]
     },
     "metadata": {},
     "output_type": "display_data"
    },
    {
     "data": {
      "text/markdown": [
       "[Open `0008_fastai_first_steps_road_to_top_part_1` in Jupyter Notebook locally](http://localhost:8888/tree/nbs/fastai_notebooks/0008_fastai_first_steps_road_to_top_part_1.ipynb#doc:-learn.export(fname='export.pkl',-pickle_module=pickle,-pickle_protocol=2)\n",
       ")"
      ],
      "text/plain": [
       "<IPython.core.display.Markdown object>"
      ]
     },
     "metadata": {},
     "output_type": "display_data"
    },
    {
     "data": {
      "text/markdown": [
       "[Open `0008_fastai_first_steps_road_to_top_part_1` in Jupyter Notebook on Kaggle](https://www.kaggle.com/code/jhoward/first-steps-road-to-the-top-part-1)"
      ],
      "text/plain": [
       "<IPython.core.display.Markdown object>"
      ]
     },
     "metadata": {},
     "output_type": "display_data"
    }
   ],
   "source": [
    "fastnbs(\"doc: learn.export\")"
   ]
  },
  {
   "cell_type": "markdown",
   "id": "1392b7c2",
   "metadata": {},
   "source": [
    "## Search questions (notes and Q&A on forum) "
   ]
  },
  {
   "cell_type": "code",
   "execution_count": null,
   "id": "f5cefde7",
   "metadata": {},
   "outputs": [
    {
     "name": "stdout",
     "output_type": "stream",
     "text": [
      "### qt: how to display a list of images?\n",
      "#### qt: why must all images have the same dimensions? how to resolve this problem?\n",
      "#### qt: why should we start with small resized images\n",
      "### qt: How many epochs should I train in general in this early stage with 10% dataset without gpu\n",
      "### qt: how to display video and embed webpage\n",
      "/Users/Natsume/Documents/fastdebug/mds/fastai_notebooks/0008_fastai_first_steps_road_to_top_part_1.md\n",
      "\n"
     ]
    }
   ],
   "source": [
    "fastlistnbs(\"question\")"
   ]
  },
  {
   "cell_type": "code",
   "execution_count": null,
   "id": "d407260b",
   "metadata": {},
   "outputs": [
    {
     "data": {
      "text/plain": [
       "0          ht: imports\n",
       "1    ht: data_download\n",
       "2      ht: data_access\n",
       "3        ht: data_prep\n",
       "4     ht: data_loaders\n",
       "5         ht: cbs_tfms\n",
       "6          ht: learner\n",
       "7              ht: fit\n",
       "8             ht: pred\n",
       "9               ht: fu\n",
       "dtype: object"
      ]
     },
     "execution_count": null,
     "metadata": {},
     "output_type": "execute_result"
    }
   ],
   "source": [
    "hts"
   ]
  },
  {
   "cell_type": "code",
   "execution_count": null,
   "id": "c962b605",
   "metadata": {},
   "outputs": [],
   "source": [
    "# fastnbs(\"ht: load\")"
   ]
  },
  {
   "cell_type": "markdown",
   "id": "2f57491e",
   "metadata": {},
   "source": [
    "## Search Meta"
   ]
  },
  {
   "cell_type": "code",
   "execution_count": null,
   "id": "d161a9f6",
   "metadata": {},
   "outputs": [
    {
     "name": "stdout",
     "output_type": "stream",
     "text": [
      "\n",
      "## rd: The problem with theory\n",
      "### rd: How Hinton approaches and discover theories\n",
      "### rd: Why must practice before theory\n",
      "### rd: How to make practice before theory\n",
      "\n",
      "## rd: For best effects, use one cup of theory, one cup of practice. Rinse and repeat\n",
      "### rd: Is your learning of theory takes you where you want to go\n",
      "### rd: What is the darker effect of just learning theory\n",
      "### rd: How to combine practice and theory as a learner of image classification\n",
      "### rd: What benefits does the practice + theory approach offer\n",
      "\n",
      "## rd: Practice wins every time\n",
      "\n",
      "## rd: Programming is all about what you have to say\n",
      "### rd: What makes one a good programmer? (give me the most wrong answer)\n",
      "### rd: How is your ability to program ultimately measured\n",
      "### rd: What is the only way to really understand a piece of syntax\n",
      "### rd: How to learn a new language by reading and writing\n",
      "### rd: Why knowing the programming language is only a starting point\n",
      "### rd: Why domain knowledge comes first? \n",
      "### rd: What is the fastest way to learn to program?\n",
      "\n",
      "## rd: The secret of good developers\n",
      "### rd: Why it is costly to enter your zone of work\n",
      "### rd: What's wrong with switching context during work\n",
      "### rd: Tips to achieve a long uninterrupted sessions\n",
      "\n",
      "## rd: The best way to improve as a developer\n",
      "### rd: How to be better at something\n",
      "### rd:  What being a developer is all about\n",
      "### rd: How to start to read code\n",
      "### rd: How to start to write code\n",
      "### rd: Just do it\n",
      "\n",
      "## rd: How to use your tools to achieve a state of flow\n",
      "### rd: What is a state of flow and why it is great to be in\n",
      "### rd: What developers often do for achieving a state of flow\n",
      "### rd: What can prevent you dive into a state of flow\n",
      "### rd: How to get into a state of flow more often\n",
      "\n",
      "## rd: Use reality as your mirror\n",
      "### rd: Why testing beliefs and assumptions\n",
      "### rd: How Radek overcomed the fear of tweeting\n",
      "### rd: How to face the unknown\n",
      "\n",
      "## rd: Do genuine work (it compounds)\n",
      "### rd: Why writing is better than thinking\n",
      "### rd: Why sharing is even better than writing alone\n",
      "### rd: What is the best/fastest way to learn\n",
      "\n",
      "## rd: The hidden game of machine learning\n",
      "### rd: What are the essential questions of machine learning\n",
      "### rd: What makes you an adept practitioner? \n",
      "### rd: What makes you a great practitioner? \n",
      "### rd: What can lead to a tragic consequence of your model? \n",
      "### rd: How to gain a deeper understanding of the ability to generalize to unseen data?\n",
      "\n",
      "## rd: How to structure a healthy machine learning project\n",
      "### rd: ingredient 1 - train-validation-test split\n",
      "### rd: ingredient 2 - what is a baseline\n",
      "### rd: what does a simplest baseline look like\n",
      "### rd: Why is having a baseline so crucial? \n",
      "### rd: What to experiment on after baseline\n",
      "### rd: Why running entire pipeline regularly?\n",
      "### rd: How to allow time to do the rest\n",
      "### rd: A beautiful sum up by Radek\n",
      "\n",
      "## rd: How to win Kaggle\n",
      "### rd: even getting started can take a while\n",
      "### rd: Why Kaggle competition takes time\n",
      "### rd: Join the competition early for creativity\n",
      "### rd: What to do with Kaggle forum\n",
      "### rd: How to read papers for kaggle\n",
      "### rd: What about blog posts on papers\n",
      "### rd: What to tweak daily\n",
      "### rd: How to build a baseline for kaggle\n",
      "### rd: What's the objective of initial models\n",
      "### rd: The importance of validation split\n",
      "### rd: how do we measure whether we got it right?\n",
      "### rd: Why ensemble is a must\n",
      "### rd: cross-validation is a must (not clear to me)\n",
      "### rd: Sum up\n",
      "\n",
      "## rd: How to Pick Up What They Put Down by swyx\n",
      "### rd: Who are they?\n",
      "### rd: What do you mean by “put down”?\n",
      "### rd: How do I pick “it” up? \n",
      "### rd: Love what you do above and tag your mentor\n",
      "### rd: What happens when you do this?\n",
      "### rd: Why does this work on them?\n",
      "### rd: Why does this work on you?\n",
      "### rd: How to get started\n",
      "\n",
      "## rd: The Permissionless Apprenticeship\n",
      "### rd: How to have their attention\n",
      "### rd: Why working for them without asking\n",
      "### rd: How to work for them\n",
      "### rd: The worse scenario of working for them\n",
      "/Users/Natsume/Documents/fastdebug/mds/fastai_notebooks/00_fastai_Meta_learning_Radek.md\n",
      "\n"
     ]
    }
   ],
   "source": [
    "fastlistnbs(\"radek\")"
   ]
  },
  {
   "cell_type": "code",
   "execution_count": null,
   "id": "f2261636",
   "metadata": {},
   "outputs": [
    {
     "data": {
      "text/markdown": [
       "### <mark style=\"background-color: #ffff00\">rd:</mark>  what to <mark style=\"background-color: #FFFF00\">experiment</mark>  on after baseline\n"
      ],
      "text/plain": [
       "<IPython.core.display.Markdown object>"
      ]
     },
     "metadata": {},
     "output_type": "display_data"
    },
    {
     "data": {
      "text/markdown": [
       "heading 3.\n",
       "\n",
       "\n",
       "> However, it is important that we **not** run the experiments solely to tweak the **hyperparameters**, especially early in the training. We want to invest our time where it matters. That usually means **exploring a larger set of architectures and developing diagnostic code**. The more we learn about **how our models are performing**, the better. Additionally, **trying out different architectures can be a great source of insight on what is possible**.\n",
       "\n",
       "\n",
       "> As we build on our baseline, the idea is to keep moving in small steps. Just as we didn’t want to go from having no pipeline to training a complex model, neither do we want to jump straight to it now. Before we train an elaborate, state-of-the- art deep learning model, we might want to **try random forest[31] or a simple model consisting only of fully connected layers**.\n",
       "\n",
       "> [31] Random Forest is a great algorithm to reach for, given the chance! It is very quick to train and it doesn’t overfit. On many datasets, it can match the performance of more complex methods. It also lends itself extremely well to interpretation. For an example in which a Random Forest classifier matched the performance of a neural network, see this repository. Additionally, it enabled a deeper understanding of the factors at play, which would be very hard or impossible to get at using the RNN!\n",
       "\n",
       "\n",
       "> Extending this way of thinking to the implementation of our most complex model, we probably **don**’t want to go about **building it in one sweep**. We might want to **begin by implementing the loss and bolting it onto a simple model consisting of only fully connected layers**. The **next** step might be to implement **some set of layers** and **pass a batch from our dataloader through it**. Ensuring we **get something other than all zeros and an output of the correct shape is a very valuable check**.[32]\n",
       "\n",
       "> [32] This can be taken further, where we **look at the means and standard deviations of intermittent layers**, **monitor for how many dead ReLus** we have, and so on. In many instances, just a single check will suffice as it provides a great value for the time invested.\n",
       "\n",
       "> The idea is to always move in **small increments**, using simpler models as **a stepping stone to more complex** ones.\n",
       "\n",
       "Next, heading 3\n",
       "### pt: how to explore architectures and developing diagnostic code in tiny steps (above)"
      ],
      "text/plain": [
       "<IPython.core.display.Markdown object>"
      ]
     },
     "metadata": {},
     "output_type": "display_data"
    },
    {
     "data": {
      "text/markdown": [
       "[Open `00_fastai_Meta_learning_Radek` in Jupyter Notebook locally](http://localhost:8888/tree/nbs/fastai_notebooks/00_fastai_Meta_learning_Radek.ipynb#rd:-What-to-experiment-on-after-baseline\n",
       ")"
      ],
      "text/plain": [
       "<IPython.core.display.Markdown object>"
      ]
     },
     "metadata": {},
     "output_type": "display_data"
    }
   ],
   "source": [
    "fastnbs(\"rd: experiment\")"
   ]
  },
  {
   "cell_type": "markdown",
   "id": "358058c8",
   "metadata": {},
   "source": [
    "## Search my practice"
   ]
  },
  {
   "cell_type": "code",
   "execution_count": null,
   "id": "c8419a12",
   "metadata": {},
   "outputs": [
    {
     "name": "stdout",
     "output_type": "stream",
     "text": [
      "### pt: what does Radek mean by benchmarks and where are they and how to use them\n",
      "### pt: how my tool help me stay in the flow\n",
      "### pt: what is my voice and how could I help others (myself)?\n",
      "### pt: how to explore architectures and developing diagnostic code in tiny steps (above)\n",
      "#### pt: how to find (what) valuable insights from simple model with subset of data?\n",
      "/Users/Natsume/Documents/fastdebug/mds/fastai_notebooks/00_fastai_Meta_learning_Radek.md\n",
      "\n"
     ]
    }
   ],
   "source": [
    "fastlistnbs(\"practice\")"
   ]
  },
  {
   "cell_type": "code",
   "execution_count": null,
   "id": "d25173b0",
   "metadata": {},
   "outputs": [
    {
     "data": {
      "text/markdown": [
       "### <mark style=\"background-color: #ffff00\">pt:</mark>  how <mark style=\"background-color: #ffff00\">my</mark>  <mark style=\"background-color: #FFFF00\">tool</mark>  help me stay in the flow\n"
      ],
      "text/plain": [
       "<IPython.core.display.Markdown object>"
      ]
     },
     "metadata": {},
     "output_type": "display_data"
    },
    {
     "data": {
      "text/markdown": [
       "heading 3.\n",
       "\n",
       "\n",
       "Building index.ipynb using fastlistnbs and fastnbs on howto, doc, src, question, radek is the way to get closer to a state of flow \n",
       "\n",
       "Next, heading 2\n",
       "## rd: Use reality as your mirror"
      ],
      "text/plain": [
       "<IPython.core.display.Markdown object>"
      ]
     },
     "metadata": {},
     "output_type": "display_data"
    },
    {
     "data": {
      "text/markdown": [
       "[Open `00_fastai_Meta_learning_Radek` in Jupyter Notebook locally](http://localhost:8888/tree/nbs/fastai_notebooks/00_fastai_Meta_learning_Radek.ipynb#pt:-how-my-tool-help-me-stay-in-the-flow\n",
       ")"
      ],
      "text/plain": [
       "<IPython.core.display.Markdown object>"
      ]
     },
     "metadata": {},
     "output_type": "display_data"
    }
   ],
   "source": [
    "fastnbs(\"pt: my tool\")"
   ]
  },
  {
   "cell_type": "markdown",
   "id": "7cfe9805",
   "metadata": {},
   "source": [
    "## Search links"
   ]
  },
  {
   "cell_type": "code",
   "execution_count": null,
   "id": "7d5c7b35",
   "metadata": {},
   "outputs": [
    {
     "name": "stdout",
     "output_type": "stream",
     "text": [
      "### lk: Jeremy and Paddy\n",
      "### lk: Daniel's fastai forum posts\n",
      "### lk: Radek and OTTO\n",
      "### lk: ilovescience on kaggle\n",
      "/Users/Natsume/Documents/fastdebug/mds/fastai_notebooks/fastai_links_forums_kaggle_github.md\n",
      "\n"
     ]
    }
   ],
   "source": [
    "fastlistnbs(\"links\")"
   ]
  },
  {
   "cell_type": "code",
   "execution_count": null,
   "id": "0f6defef",
   "metadata": {},
   "outputs": [
    {
     "data": {
      "text/markdown": [
       "### <mark style=\"background-color: #ffff00\">lk:</mark>  <mark style=\"background-color: #ffff00\">radek</mark>  and <mark style=\"background-color: #FFFF00\">otto</mark> \n"
      ],
      "text/plain": [
       "<IPython.core.display.Markdown object>"
      ]
     },
     "metadata": {},
     "output_type": "display_data"
    },
    {
     "data": {
      "text/markdown": [
       "heading 3.\n",
       "\n",
       "Radek on [twitter](https://twitter.com/radekosmulski)\n",
       "\n",
       "How to get started [post](https://www.kaggle.com/competitions/otto-recommender-system/discussion/364062)\n",
       "\n",
       "Baseline model [notebook](https://www.kaggle.com/code/radek1/co-visitation-matrix-simplified-imprvd-logic/notebook?scriptVersionId=110068977)\n",
       "\n",
       "Full dataset converted to csv/parquet format [post](https://www.kaggle.com/competitions/otto-recommender-system/discussion/363843) with notebooks\n",
       "\n",
       "Next, heading 3\n",
       "### lk: ilovescience on kaggle"
      ],
      "text/plain": [
       "<IPython.core.display.Markdown object>"
      ]
     },
     "metadata": {},
     "output_type": "display_data"
    },
    {
     "data": {
      "text/markdown": [
       "[Open `fastai_links_forums_kaggle_github` in Jupyter Notebook locally](http://localhost:8888/tree/nbs/fastai_notebooks/fastai_links_forums_kaggle_github.ipynb#lk:-Radek-and-OTTO\n",
       ")"
      ],
      "text/plain": [
       "<IPython.core.display.Markdown object>"
      ]
     },
     "metadata": {},
     "output_type": "display_data"
    }
   ],
   "source": [
    "fastnbs(\"lk: Radek Otto\")"
   ]
  },
  {
   "cell_type": "code",
   "execution_count": null,
   "id": "84143a5a",
   "metadata": {},
   "outputs": [],
   "source": []
  }
 ],
 "metadata": {
  "kernelspec": {
   "display_name": "Python 3 (ipykernel)",
   "language": "python",
   "name": "python3"
  }
 },
 "nbformat": 4,
 "nbformat_minor": 5
}
