{
 "cells": [
  {
   "cell_type": "markdown",
   "id": "e7d9f2be",
   "metadata": {},
   "source": [
    "# Make Learning Fastai Uncool"
   ]
  },
  {
   "cell_type": "code",
   "execution_count": null,
   "id": "492903a1",
   "metadata": {},
   "outputs": [
    {
     "data": {
      "text/html": [
       "<style>.container { width:100% !important; }</style>"
      ],
      "text/plain": [
       "<IPython.core.display.HTML object>"
      ]
     },
     "metadata": {},
     "output_type": "display_data"
    }
   ],
   "source": [
    "#| hide\n",
    "from fastdebug.utils import *"
   ]
  },
  {
   "cell_type": "markdown",
   "id": "cf93b01a",
   "metadata": {},
   "source": [
    "## `fastlistnbs` to read menu, `fastnbs` to dive in"
   ]
  },
  {
   "cell_type": "code",
   "execution_count": null,
   "id": "ed3986ff",
   "metadata": {},
   "outputs": [
    {
     "data": {
      "text/markdown": [
       "---\n",
       "\n",
       "[source](https://github.com/EmbraceLife/fastdebug/blob/master/fastdebug/utils.py#LNone){target=\"_blank\" style=\"float:right; font-size:smaller\"}\n",
       "\n",
       "### fastlistnbs\n",
       "\n",
       ">      fastlistnbs (query='all', flt_fd='src')\n",
       "\n",
       "display section headings of notebooks, filter options: fastai, part2, groundup, src_fastai,src_fastcore, all\n",
       "\n",
       "|    | **Type** | **Default** | **Details** |\n",
       "| -- | -------- | ----------- | ----------- |\n",
       "| query | str | all | howto, srcode, journey, or all |\n",
       "| flt_fd | str | src | other options: \"groundup\", \"part2\", \"all\" |"
      ],
      "text/plain": [
       "---\n",
       "\n",
       "[source](https://github.com/EmbraceLife/fastdebug/blob/master/fastdebug/utils.py#LNone){target=\"_blank\" style=\"float:right; font-size:smaller\"}\n",
       "\n",
       "### fastlistnbs\n",
       "\n",
       ">      fastlistnbs (query='all', flt_fd='src')\n",
       "\n",
       "display section headings of notebooks, filter options: fastai, part2, groundup, src_fastai,src_fastcore, all\n",
       "\n",
       "|    | **Type** | **Default** | **Details** |\n",
       "| -- | -------- | ----------- | ----------- |\n",
       "| query | str | all | howto, srcode, journey, or all |\n",
       "| flt_fd | str | src | other options: \"groundup\", \"part2\", \"all\" |"
      ]
     },
     "execution_count": null,
     "metadata": {},
     "output_type": "execute_result"
    }
   ],
   "source": [
    "show_doc(fastlistnbs)"
   ]
  },
  {
   "cell_type": "code",
   "execution_count": null,
   "id": "6f57752e",
   "metadata": {},
   "outputs": [],
   "source": [
    "# fastlistnbs??"
   ]
  },
  {
   "cell_type": "code",
   "execution_count": null,
   "id": "2440950f",
   "metadata": {},
   "outputs": [
    {
     "data": {
      "text/markdown": [
       "---\n",
       "\n",
       "[source](https://github.com/EmbraceLife/fastdebug/blob/master/fastdebug/utils.py#LNone){target=\"_blank\" style=\"float:right; font-size:smaller\"}\n",
       "\n",
       "### fastnbs\n",
       "\n",
       ">      fastnbs (question:str, filter_folder='all', strict=False, output=False,\n",
       ">               accu:float=0.8, nb=True, db=False)\n",
       "\n",
       "check with fastlistnbs() to skim through all the learning points as section titles; then use fastnotes() to find interesting lines which can be notes or codes, and finally use fastnbs() display the entire learning points section including notes and codes.\n",
       "\n",
       "|    | **Type** | **Default** | **Details** |\n",
       "| -- | -------- | ----------- | ----------- |\n",
       "| question | str |  | query options, \"doc: ImageDataLoaders\", \"src: DataBlock\", \"ht: git\", \"jn: help others is the way\" |\n",
       "| filter_folder | str | all | options: src, all, |\n",
       "| strict | bool | False | loose search keyword, not as the first query word |\n",
       "| output | bool | False | True for nice print of cell output |\n",
       "| accu | float | 0.8 |  |\n",
       "| nb | bool | True |  |\n",
       "| db | bool | False |  |"
      ],
      "text/plain": [
       "---\n",
       "\n",
       "[source](https://github.com/EmbraceLife/fastdebug/blob/master/fastdebug/utils.py#LNone){target=\"_blank\" style=\"float:right; font-size:smaller\"}\n",
       "\n",
       "### fastnbs\n",
       "\n",
       ">      fastnbs (question:str, filter_folder='all', strict=False, output=False,\n",
       ">               accu:float=0.8, nb=True, db=False)\n",
       "\n",
       "check with fastlistnbs() to skim through all the learning points as section titles; then use fastnotes() to find interesting lines which can be notes or codes, and finally use fastnbs() display the entire learning points section including notes and codes.\n",
       "\n",
       "|    | **Type** | **Default** | **Details** |\n",
       "| -- | -------- | ----------- | ----------- |\n",
       "| question | str |  | query options, \"doc: ImageDataLoaders\", \"src: DataBlock\", \"ht: git\", \"jn: help others is the way\" |\n",
       "| filter_folder | str | all | options: src, all, |\n",
       "| strict | bool | False | loose search keyword, not as the first query word |\n",
       "| output | bool | False | True for nice print of cell output |\n",
       "| accu | float | 0.8 |  |\n",
       "| nb | bool | True |  |\n",
       "| db | bool | False |  |"
      ]
     },
     "execution_count": null,
     "metadata": {},
     "output_type": "execute_result"
    }
   ],
   "source": [
    "show_doc(fastnbs)"
   ]
  },
  {
   "cell_type": "markdown",
   "id": "b6d79915",
   "metadata": {},
   "source": [
    "## Search my Journey "
   ]
  },
  {
   "cell_type": "code",
   "execution_count": null,
   "id": "28c23d63",
   "metadata": {},
   "outputs": [
    {
     "name": "stdout",
     "output_type": "stream",
     "text": [
      "### jn: help other is the best way forward\n",
      "### jn: how to iterate or make one step forward at at time\n",
      "/Users/Natsume/Documents/fastdebug/mds/fastai_notebooks/0008_fastai_first_steps_road_to_top_part_1.md\n",
      "\n"
     ]
    }
   ],
   "source": [
    "fastlistnbs(\"journey\")"
   ]
  },
  {
   "cell_type": "code",
   "execution_count": null,
   "id": "4264478d",
   "metadata": {},
   "outputs": [
    {
     "data": {
      "text/markdown": [
       "### <mark style=\"background-color: #ffff00\">jn:</mark>  <mark style=\"background-color: #FFFF00\">help</mark>  other is the best way forward\n"
      ],
      "text/plain": [
       "<IPython.core.display.Markdown object>"
      ]
     },
     "metadata": {},
     "output_type": "display_data"
    },
    {
     "data": {
      "text/markdown": [
       "The current section is heading 3.\n",
       "\n",
       "\n",
       "\n",
       "**Reflection on Radek's 1st newsletter**\n",
       "\n",
       "One way to summarize Radek's secret to success is the following: \n",
       "\n",
       "> No matter which stage of journey in the deep learning or any subject, when you are doing your best to help others to learn what you learnt and what you are dying to find out, and if you persist, you will be happy and successful. \n",
       "\n",
       "I have dreamed of such hypothesis many times when I motivated myself to share online, and Radek proved it to be solid and true! No time to waste now!\n",
       "\n",
       "Another extremely simple but shocking secret to Radek's success is, in his words (now I can recite):\n",
       "\n",
       "> I would suspend my disbelief and do exactly what Jeremy Howard told us to do in the lectures\n",
       "\n",
       "What Jeremy told us to do is loud and clear, the 4 steps (watch, experiment, reproduce, apply elsewhere). More importantly, they are true and working if one holds onto it like Radek did. \n",
       "\n",
       "Why I am always trying to do something different? Why couldn't I just follow this great advice right from the start? I walked [a long way around it](https://twitter.com/shendusuipian/status/1587429658621988871?s=20&t=zjz1OlYRt7yJJ8HVBdsqoA) and luckily I get my sense back and move onto the second step now. \n",
       "\n",
       "\n",
       "start of heading 2\n",
       "## ht: imports for vision"
      ],
      "text/plain": [
       "<IPython.core.display.Markdown object>"
      ]
     },
     "metadata": {},
     "output_type": "display_data"
    },
    {
     "data": {
      "text/markdown": [
       "[Open `0008_fastai_first_steps_road_to_top_part_1` in Jupyter Notebook locally](http://localhost:8888/tree/nbs/fastai_notebooks/0008_fastai_first_steps_road_to_top_part_1.ipynb#jn:-help-other-is-the-best-way-forward\n",
       ")"
      ],
      "text/plain": [
       "<IPython.core.display.Markdown object>"
      ]
     },
     "metadata": {},
     "output_type": "display_data"
    },
    {
     "data": {
      "text/markdown": [
       "[Open `0008_fastai_first_steps_road_to_top_part_1` in Jupyter Notebook on Kaggle](https://www.kaggle.com/code/jhoward/first-steps-road-to-the-top-part-1)"
      ],
      "text/plain": [
       "<IPython.core.display.Markdown object>"
      ]
     },
     "metadata": {},
     "output_type": "display_data"
    }
   ],
   "source": [
    "fastnbs(\"jn: help\")"
   ]
  },
  {
   "cell_type": "markdown",
   "id": "b5a6958f",
   "metadata": {},
   "source": [
    "## Search docs"
   ]
  },
  {
   "cell_type": "code",
   "execution_count": null,
   "id": "698927ab",
   "metadata": {},
   "outputs": [
    {
     "name": "stdout",
     "output_type": "stream",
     "text": [
      "### doc: DataBlock.datasets(source, verbose)\n",
      "### doc: DataBlock.dataloaders\n",
      "/Users/Natsume/Documents/fastdebug/mds/fastai_notebooks/0001_fastai_is_it_a_bird.md\n",
      "\n",
      "### doc: ImageDataLoaders.from_folder\n",
      "/Users/Natsume/Documents/fastdebug/mds/fastai_notebooks/0008_fastai_first_steps_road_to_top_part_1.md\n",
      "\n",
      "### doc: ImageDataLoaders.from_name_func(path: 'str | Path', fnames: 'list', label_func: 'callable', **kwargs) -> 'DataLoaders'\n",
      "/Users/Natsume/Documents/fastdebug/mds/fastai_notebooks/0002_fastai_saving_a_basic_fastai_model.md\n",
      "\n"
     ]
    }
   ],
   "source": [
    "fastlistnbs(\"doc\")"
   ]
  },
  {
   "cell_type": "code",
   "execution_count": null,
   "id": "07ae0686",
   "metadata": {},
   "outputs": [
    {
     "data": {
      "text/markdown": [
       "### <mark style=\"background-color: #ffff00\">doc:</mark>  <mark style=\"background-color: #FFFF00\">datablock.datasets</mark> (source, verbose)\n"
      ],
      "text/plain": [
       "<IPython.core.display.Markdown object>"
      ]
     },
     "metadata": {},
     "output_type": "display_data"
    },
    {
     "data": {
      "text/markdown": [
       "The current section is heading 3.\n",
       "\n",
       "get data items from the source, and split the items and use `fastai.data.core.Datasets` to create the datasets\n",
       "\n",
       "\n",
       "start of another heading 3\n",
       "### src: DataBlock.datasets((source, verbose)"
      ],
      "text/plain": [
       "<IPython.core.display.Markdown object>"
      ]
     },
     "metadata": {},
     "output_type": "display_data"
    },
    {
     "data": {
      "text/markdown": [
       "[Open `0001_fastai_is_it_a_bird` in Jupyter Notebook locally](http://localhost:8888/tree/nbs/fastai_notebooks/0001_fastai_is_it_a_bird.ipynb#doc:-DataBlock.datasets(source,-verbose)\n",
       ")"
      ],
      "text/plain": [
       "<IPython.core.display.Markdown object>"
      ]
     },
     "metadata": {},
     "output_type": "display_data"
    },
    {
     "data": {
      "text/markdown": [
       "[Open `0001_fastai_is_it_a_bird` in Jupyter Notebook on Kaggle](https://www.kaggle.com/code/jhoward/is-it-a-bird-creating-a-model-from-your-own-data)"
      ],
      "text/plain": [
       "<IPython.core.display.Markdown object>"
      ]
     },
     "metadata": {},
     "output_type": "display_data"
    }
   ],
   "source": [
    "fastnbs(\"doc: DataBlock.datasets\")"
   ]
  },
  {
   "cell_type": "markdown",
   "id": "3fee3d1b",
   "metadata": {},
   "source": [
    "## Search source code"
   ]
  },
  {
   "cell_type": "code",
   "execution_count": null,
   "id": "fcd2bea1",
   "metadata": {},
   "outputs": [
    {
     "name": "stdout",
     "output_type": "stream",
     "text": [
      "### src: itemgot(self:L, *idxs)\n",
      "### src: itemgetter\n",
      "### src: DataBlock.datasets((source, verbose)\n",
      "### src: DataBlock.dataloaders\n",
      "/Users/Natsume/Documents/fastdebug/mds/fastai_notebooks/0001_fastai_is_it_a_bird.md\n",
      "\n",
      "### src: setup_comp(comp, install='fastai \"timm>=0.6.2.dev0\")\n",
      "### src: check_subfolders_img(path, db=False)\n",
      "### src: randomdisplay(path, size, db=False)\n",
      "### src: check_sizes_img(files)\n",
      "### src: ImageDataLoaders.from_folder\n",
      "/Users/Natsume/Documents/fastdebug/mds/fastai_notebooks/0008_fastai_first_steps_road_to_top_part_1.md\n",
      "\n",
      "### src: ImageDataLoaders.from_name_func(path: 'str | Path', fnames: 'list', label_func: 'callable', **kwargs) -> 'DataLoaders'\n",
      "/Users/Natsume/Documents/fastdebug/mds/fastai_notebooks/0002_fastai_saving_a_basic_fastai_model.md\n",
      "\n"
     ]
    }
   ],
   "source": [
    "fastlistnbs(\"srcode\")"
   ]
  },
  {
   "cell_type": "code",
   "execution_count": null,
   "id": "fb1c53d1",
   "metadata": {},
   "outputs": [
    {
     "data": {
      "text/markdown": [
       "### <mark style=\"background-color: #ffff00\">src:</mark>  <mark style=\"background-color: #FFFF00\">imagedataloaders.from_name</mark> _func(path: 'str | path', fnames: 'list', label_func: 'callable', **kwargs) -> 'dataloaders'\n"
      ],
      "text/plain": [
       "<IPython.core.display.Markdown object>"
      ]
     },
     "metadata": {},
     "output_type": "display_data"
    },
    {
     "data": {
      "text/markdown": [
       "The current section is heading 3.\n",
       "\n",
       "\n",
       "```python\n",
       "doc_sig(ImageDataLoaders.from_name_func)\n",
       "doc_sig(get_image_files)\n",
       "```\n",
       "\n",
       "```python\n",
       "from __future__ import annotations # to ensure path:str|Path='.' can work\n",
       "```\n",
       "\n",
       "```python\n",
       "# DataLoaders.from_dblock??\n",
       "```\n",
       "\n",
       "```python\n",
       "class ImageDataLoaders(DataLoaders):\n",
       "    \"Basic wrapper around several `DataLoader`s with factory methods for computer vision problems\"\n",
       "    @classmethod\n",
       "    @delegates(DataLoaders.from_dblock)\n",
       "    def from_folder(cls, path, train='train', valid='valid', valid_pct=None, seed=None, vocab=None, item_tfms=None,\n",
       "                    batch_tfms=None, **kwargs):\n",
       "        \"Create from imagenet style dataset in `path` with `train` and `valid` subfolders (or provide `valid_pct`)\"\n",
       "        splitter = GrandparentSplitter(train_name=train, valid_name=valid) if valid_pct is None else RandomSplitter(valid_pct, seed=seed)\n",
       "        get_items = get_image_files if valid_pct else partial(get_image_files, folders=[train, valid])\n",
       "        dblock = DataBlock(blocks=(ImageBlock, CategoryBlock(vocab=vocab)),\n",
       "                           get_items=get_items,\n",
       "                           splitter=splitter,\n",
       "                           get_y=parent_label,\n",
       "                           item_tfms=item_tfms,\n",
       "                           batch_tfms=batch_tfms)\n",
       "        return cls.from_dblock(dblock, path, path=path, **kwargs)\n",
       "\n",
       "    @classmethod\n",
       "    @delegates(DataLoaders.from_dblock)\n",
       "    def from_path_func(cls, path, fnames, label_func, valid_pct=0.2, seed=None, item_tfms=None, batch_tfms=None, **kwargs):\n",
       "        \"Create from list of `fnames` in `path`s with `label_func`\"\n",
       "        dblock = DataBlock(blocks=(ImageBlock, CategoryBlock),\n",
       "                           splitter=RandomSplitter(valid_pct, seed=seed),\n",
       "                           get_y=label_func,\n",
       "                           item_tfms=item_tfms,\n",
       "                           batch_tfms=batch_tfms)\n",
       "        return cls.from_dblock(dblock, fnames, path=path, **kwargs)\n",
       "\n",
       "    @classmethod\n",
       "    @snoop\n",
       "    def from_name_func(cls,\n",
       "        path:str|Path, # Set the default path to a directory that a `Learner` can use to save files like models\n",
       "        fnames:list, # A list of `os.Pathlike`'s to individual image files\n",
       "        label_func:callable, # A function that receives a string (the file name) and outputs a label\n",
       "        **kwargs\n",
       "    ) -> DataLoaders:\n",
       "        \"Create from the name attrs of `fnames` in `path`s with `label_func`\"\n",
       "        if sys.platform == 'win32' and isinstance(label_func, types.LambdaType) and label_func.__name__ == '<lambda>':\n",
       "            # https://medium.com/@jwnx/multiprocessing-serialization-in-python-with-pickle-9844f6fa1812\n",
       "            raise ValueError(\"label_func couldn't be lambda function on Windows\")\n",
       "        f = using_attr(label_func, 'name')\n",
       "        pp(doc_sig(using_attr), f)\n",
       "        pp(f(fnames[0]), fnames[0].name) # no need to worry about getting the name out of the filename\n",
       "        return cls.from_path_func(path, fnames, f, **kwargs)\n",
       "\n",
       "    @classmethod\n",
       "    def from_path_re(cls, path, fnames, pat, **kwargs):\n",
       "        \"Create from list of `fnames` in `path`s with re expression `pat`\"\n",
       "        return cls.from_path_func(path, fnames, RegexLabeller(pat), **kwargs)\n",
       "\n",
       "    @classmethod\n",
       "    @delegates(DataLoaders.from_dblock)\n",
       "    def from_name_re(cls, path, fnames, pat, **kwargs):\n",
       "        \"Create from the name attrs of `fnames` in `path`s with re expression `pat`\"\n",
       "        return cls.from_name_func(path, fnames, RegexLabeller(pat), **kwargs)\n",
       "\n",
       "    @classmethod\n",
       "    @delegates(DataLoaders.from_dblock)\n",
       "    def from_df(cls, df, path='.', valid_pct=0.2, seed=None, fn_col=0, folder=None, suff='', label_col=1, label_delim=None,\n",
       "                y_block=None, valid_col=None, item_tfms=None, batch_tfms=None, **kwargs):\n",
       "        \"Create from `df` using `fn_col` and `label_col`\"\n",
       "        pref = f'{Path(path) if folder is None else Path(path)/folder}{os.path.sep}'\n",
       "        if y_block is None:\n",
       "            is_multi = (is_listy(label_col) and len(label_col) > 1) or label_delim is not None\n",
       "            y_block = MultiCategoryBlock if is_multi else CategoryBlock\n",
       "        splitter = RandomSplitter(valid_pct, seed=seed) if valid_col is None else ColSplitter(valid_col)\n",
       "        dblock = DataBlock(blocks=(ImageBlock, y_block),\n",
       "                           get_x=ColReader(fn_col, pref=pref, suff=suff),\n",
       "                           get_y=ColReader(label_col, label_delim=label_delim),\n",
       "                           splitter=splitter,\n",
       "                           item_tfms=item_tfms,\n",
       "                           batch_tfms=batch_tfms)\n",
       "        return cls.from_dblock(dblock, df, path=path, **kwargs)\n",
       "\n",
       "    @classmethod\n",
       "    def from_csv(cls, path, csv_fname='labels.csv', header='infer', delimiter=None, **kwargs):\n",
       "        \"Create from `path/csv_fname` using `fn_col` and `label_col`\"\n",
       "        df = pd.read_csv(Path(path)/csv_fname, header=header, delimiter=delimiter)\n",
       "        return cls.from_df(df, path=path, **kwargs)\n",
       "\n",
       "    @classmethod\n",
       "    @delegates(DataLoaders.from_dblock)\n",
       "    def from_lists(cls, path, fnames, labels, valid_pct=0.2, seed:int=None, y_block=None, item_tfms=None, batch_tfms=None,\n",
       "                   **kwargs):\n",
       "        \"Create from list of `fnames` and `labels` in `path`\"\n",
       "        if y_block is None:\n",
       "            y_block = MultiCategoryBlock if is_listy(labels[0]) and len(labels[0]) > 1 else (\n",
       "                RegressionBlock if isinstance(labels[0], float) else CategoryBlock)\n",
       "        dblock = DataBlock.from_columns(blocks=(ImageBlock, y_block),\n",
       "                           splitter=RandomSplitter(valid_pct, seed=seed),\n",
       "                           item_tfms=item_tfms,\n",
       "                           batch_tfms=batch_tfms)\n",
       "        return cls.from_dblock(dblock, (fnames, labels), path=path, **kwargs)\n",
       "# File:           ~/mambaforge/lib/python3.9/site-packages/fastai/vision/data.py\n",
       "# Type:           type\n",
       "# Subclasses:     \n",
       "```\n",
       "\n",
       "```python\n",
       "# fastnbs(\"DataBlock.__\")\n",
       "\n",
       "# fastnbs(\"get_image_files\")\n",
       "# fastnbs(\"Resize\", \"src\", True)\n",
       "```\n",
       "\n",
       "```python\n",
       "#|eval: false\n",
       "dls = ImageDataLoaders.from_name_func('.',\n",
       "    get_image_files(path), \n",
       "    valid_pct=0.2, \n",
       "    seed=42,\n",
       "    label_func=is_cat,\n",
       "    item_tfms=Resize(192))\n",
       "```\n",
       "\n",
       "```python\n",
       "class ImageDataLoaders(DataLoaders):\n",
       "    \"Basic wrapper around several `DataLoader`s with factory methods for computer vision problems\"\n",
       "    @classmethod\n",
       "    @delegates(DataLoaders.from_dblock)\n",
       "    def from_folder(cls, path, train='train', valid='valid', valid_pct=None, seed=None, vocab=None, item_tfms=None,\n",
       "                    batch_tfms=None, **kwargs):\n",
       "        \"Create from imagenet style dataset in `path` with `train` and `valid` subfolders (or provide `valid_pct`)\"\n",
       "        splitter = GrandparentSplitter(train_name=train, valid_name=valid) if valid_pct is None else RandomSplitter(valid_pct, seed=seed)\n",
       "        get_items = get_image_files if valid_pct else partial(get_image_files, folders=[train, valid])\n",
       "        dblock = DataBlock(blocks=(ImageBlock, CategoryBlock(vocab=vocab)),\n",
       "                           get_items=get_items,\n",
       "                           splitter=splitter,\n",
       "                           get_y=parent_label,\n",
       "                           item_tfms=item_tfms,\n",
       "                           batch_tfms=batch_tfms)\n",
       "        return cls.from_dblock(dblock, path, path=path, **kwargs)\n",
       "\n",
       "    @classmethod\n",
       "    @delegates(DataLoaders.from_dblock)\n",
       "    def from_path_func(cls, path, fnames, label_func, valid_pct=0.2, seed=None, item_tfms=None, batch_tfms=None, **kwargs):\n",
       "        \"Create from list of `fnames` in `path`s with `label_func`\"\n",
       "        dblock = DataBlock(blocks=(ImageBlock, CategoryBlock),\n",
       "                           splitter=RandomSplitter(valid_pct, seed=seed),\n",
       "                           get_y=label_func,\n",
       "                           item_tfms=item_tfms,\n",
       "                           batch_tfms=batch_tfms)\n",
       "        return cls.from_dblock(dblock, fnames, path=path, **kwargs)\n",
       "\n",
       "    @classmethod\n",
       "    def from_name_func(cls,\n",
       "        path:str|Path, # Set the default path to a directory that a `Learner` can use to save files like models\n",
       "        fnames:list, # A list of `os.Pathlike`'s to individual image files\n",
       "        label_func:callable, # A function that receives a string (the file name) and outputs a label\n",
       "        **kwargs\n",
       "    ) -> DataLoaders:\n",
       "        \"Create from the name attrs of `fnames` in `path`s with `label_func`\"\n",
       "        if sys.platform == 'win32' and isinstance(label_func, types.LambdaType) and label_func.__name__ == '<lambda>':\n",
       "            # https://medium.com/@jwnx/multiprocessing-serialization-in-python-with-pickle-9844f6fa1812\n",
       "            raise ValueError(\"label_func couldn't be lambda function on Windows\")\n",
       "        f = using_attr(label_func, 'name')\n",
       "        return cls.from_path_func(path, fnames, f, **kwargs)\n",
       "\n",
       "    @classmethod\n",
       "    def from_path_re(cls, path, fnames, pat, **kwargs):\n",
       "        \"Create from list of `fnames` in `path`s with re expression `pat`\"\n",
       "        return cls.from_path_func(path, fnames, RegexLabeller(pat), **kwargs)\n",
       "\n",
       "    @classmethod\n",
       "    @delegates(DataLoaders.from_dblock)\n",
       "    def from_name_re(cls, path, fnames, pat, **kwargs):\n",
       "        \"Create from the name attrs of `fnames` in `path`s with re expression `pat`\"\n",
       "        return cls.from_name_func(path, fnames, RegexLabeller(pat), **kwargs)\n",
       "\n",
       "    @classmethod\n",
       "    @delegates(DataLoaders.from_dblock)\n",
       "    def from_df(cls, df, path='.', valid_pct=0.2, seed=None, fn_col=0, folder=None, suff='', label_col=1, label_delim=None,\n",
       "                y_block=None, valid_col=None, item_tfms=None, batch_tfms=None, **kwargs):\n",
       "        \"Create from `df` using `fn_col` and `label_col`\"\n",
       "        pref = f'{Path(path) if folder is None else Path(path)/folder}{os.path.sep}'\n",
       "        if y_block is None:\n",
       "            is_multi = (is_listy(label_col) and len(label_col) > 1) or label_delim is not None\n",
       "            y_block = MultiCategoryBlock if is_multi else CategoryBlock\n",
       "        splitter = RandomSplitter(valid_pct, seed=seed) if valid_col is None else ColSplitter(valid_col)\n",
       "        dblock = DataBlock(blocks=(ImageBlock, y_block),\n",
       "                           get_x=ColReader(fn_col, pref=pref, suff=suff),\n",
       "                           get_y=ColReader(label_col, label_delim=label_delim),\n",
       "                           splitter=splitter,\n",
       "                           item_tfms=item_tfms,\n",
       "                           batch_tfms=batch_tfms)\n",
       "        return cls.from_dblock(dblock, df, path=path, **kwargs)\n",
       "\n",
       "    @classmethod\n",
       "    def from_csv(cls, path, csv_fname='labels.csv', header='infer', delimiter=None, **kwargs):\n",
       "        \"Create from `path/csv_fname` using `fn_col` and `label_col`\"\n",
       "        df = pd.read_csv(Path(path)/csv_fname, header=header, delimiter=delimiter)\n",
       "        return cls.from_df(df, path=path, **kwargs)\n",
       "\n",
       "    @classmethod\n",
       "    @delegates(DataLoaders.from_dblock)\n",
       "    def from_lists(cls, path, fnames, labels, valid_pct=0.2, seed:int=None, y_block=None, item_tfms=None, batch_tfms=None,\n",
       "                   **kwargs):\n",
       "        \"Create from list of `fnames` and `labels` in `path`\"\n",
       "        if y_block is None:\n",
       "            y_block = MultiCategoryBlock if is_listy(labels[0]) and len(labels[0]) > 1 else (\n",
       "                RegressionBlock if isinstance(labels[0], float) else CategoryBlock)\n",
       "        dblock = DataBlock.from_columns(blocks=(ImageBlock, y_block),\n",
       "                           splitter=RandomSplitter(valid_pct, seed=seed),\n",
       "                           item_tfms=item_tfms,\n",
       "                           batch_tfms=batch_tfms)\n",
       "        return cls.from_dblock(dblock, (fnames, labels), path=path, **kwargs)\n",
       "# File:           ~/mambaforge/lib/python3.9/site-packages/fastai/vision/data.py\n",
       "# Type:           type\n",
       "# Subclasses:     \n",
       "```\n",
       "\n",
       "```python\n",
       "@docs\n",
       "class DataLoaders(GetAttr):\n",
       "    \"Basic wrapper around several `DataLoader`s.\"\n",
       "    _default='train'\n",
       "    def __init__(self, \n",
       "        *loaders, # `DataLoader` objects to wrap\n",
       "        path:str|Path='.', # Path to store export objects\n",
       "        device=None # Device to put `DataLoaders`\n",
       "    ):\n",
       "        self.loaders,self.path = list(loaders),Path(path)\n",
       "        if device is not None or hasattr(loaders[0],'to'): self.device = device\n",
       "\n",
       "    def __getitem__(self, i): return self.loaders[i]\n",
       "    def __len__(self): return len(self.loaders)\n",
       "    def new_empty(self):\n",
       "        loaders = [dl.new(dl.dataset.new_empty()) for dl in self.loaders]\n",
       "        return type(self)(*loaders, path=self.path, device=self.device)\n",
       "\n",
       "    def _set(i, self, v): self.loaders[i] = v\n",
       "    train   ,valid    = add_props(lambda i,x: x[i], _set)\n",
       "    train_ds,valid_ds = add_props(lambda i,x: x[i].dataset)\n",
       "\n",
       "    @property\n",
       "    def device(self): return self._device\n",
       "\n",
       "    @device.setter\n",
       "    def device(self, \n",
       "        d # Device to put `DataLoaders`\n",
       "    ):\n",
       "        for dl in self.loaders: dl.to(d)\n",
       "        self._device = d\n",
       "\n",
       "    def to(self, \n",
       "        device # Device to put `DataLoaders`\n",
       "    ):\n",
       "        self.device = device\n",
       "        return self\n",
       "            \n",
       "    def _add_tfms(self, tfms, event, dl_idx):\n",
       "        \"Adds `tfms` to `event` on `dl`\"\n",
       "        if(isinstance(dl_idx,str)): dl_idx = 0 if(dl_idx=='train') else 1\n",
       "        dl_tfms = getattr(self[dl_idx], event)\n",
       "        apply(dl_tfms.add, tfms)\n",
       "        \n",
       "    def add_tfms(self,\n",
       "        tfms, # List of `Transform`(s) or `Pipeline` to apply\n",
       "        event, # When to run `Transform`. Events mentioned in `TfmdDL`\n",
       "        loaders=None # List of `DataLoader` objects to add `tfms` to\n",
       "    ):\n",
       "        \"Adds `tfms` to `events` on `loaders`\"\n",
       "        if(loaders is None): loaders=range(len(self.loaders))\n",
       "        if not is_listy(loaders): loaders = listify(loaders)\n",
       "        for loader in loaders:\n",
       "            self._add_tfms(tfms,event,loader)      \n",
       "\n",
       "    def cuda(self): return self.to(device=default_device())\n",
       "    def cpu(self):  return self.to(device=torch.device('cpu'))\n",
       "\n",
       "    @classmethod\n",
       "    def from_dsets(cls, \n",
       "        *ds, # `Datasets` object(s)\n",
       "        path:str|Path='.', # Path to put in `DataLoaders`\n",
       "        bs:int=64, # Size of batch\n",
       "        device=None, # Device to put `DataLoaders`\n",
       "        dl_type=TfmdDL, # Type of `DataLoader`\n",
       "        **kwargs\n",
       "    ):\n",
       "        default = (True,) + (False,) * (len(ds)-1)\n",
       "        defaults = {'shuffle': default, 'drop_last': default}\n",
       "        tfms = {k:tuple(Pipeline(kwargs[k]) for i in range_of(ds)) for k in _batch_tfms if k in kwargs}\n",
       "        kwargs = merge(defaults, {k: tuplify(v, match=ds) for k,v in kwargs.items() if k not in _batch_tfms}, tfms)\n",
       "        kwargs = [{k: v[i] for k,v in kwargs.items()} for i in range_of(ds)]\n",
       "        return cls(*[dl_type(d, bs=bs, **k) for d,k in zip(ds, kwargs)], path=path, device=device)\n",
       "\n",
       "    @classmethod\n",
       "    def from_dblock(cls, \n",
       "        dblock, # `DataBlock` object\n",
       "        source, # Source of data. Can be `Path` to files\n",
       "        path:str|Path='.', # Path to put in `DataLoaders`\n",
       "        bs:int=64, # Size of batch\n",
       "        val_bs:int=None, # Size of batch for validation `DataLoader`\n",
       "        shuffle:bool=True, # Whether to shuffle data\n",
       "        device=None, # Device to put `DataLoaders`\n",
       "        **kwargs\n",
       "    ):\n",
       "        return dblock.dataloaders(source, path=path, bs=bs, val_bs=val_bs, shuffle=shuffle, device=device, **kwargs)\n",
       "\n",
       "    _docs=dict(__getitem__=\"Retrieve `DataLoader` at `i` (`0` is training, `1` is validation)\",\n",
       "               train=\"Training `DataLoader`\",\n",
       "               valid=\"Validation `DataLoader`\",\n",
       "               train_ds=\"Training `Dataset`\",\n",
       "               valid_ds=\"Validation `Dataset`\",\n",
       "               to=\"Use `device`\",\n",
       "               add_tfms=\"Add `tfms` to `loaders` for `event\",\n",
       "               cuda=\"Use accelerator if available\",\n",
       "               cpu=\"Use the cpu\",\n",
       "               new_empty=\"Create a new empty version of `self` with the same transforms\",\n",
       "               from_dblock=\"Create a dataloaders from a given `dblock`\")\n",
       "# File:           ~/mambaforge/lib/python3.9/site-packages/fastai/data/core.py\n",
       "# Type:           type\n",
       "# Subclasses:     ImageDataLoaders, SegmentationDataLoaders\n",
       "```\n",
       "\n",
       "```python\n",
       "\n",
       "```\n",
       "\n",
       "start of another heading 3\n",
       "### vision_learner(dls, resnet18, metrics=error_rate)"
      ],
      "text/plain": [
       "<IPython.core.display.Markdown object>"
      ]
     },
     "metadata": {},
     "output_type": "display_data"
    },
    {
     "data": {
      "text/markdown": [
       "[Open `0002_fastai_saving_a_basic_fastai_model` in Jupyter Notebook locally](http://localhost:8888/tree/nbs/fastai_notebooks/0002_fastai_saving_a_basic_fastai_model.ipynb#src:-ImageDataLoaders.from_name_func(path:-'str-|-Path',-fnames:-'list',-label_func:-'callable',-**kwargs)-->-'DataLoaders'\n",
       ")"
      ],
      "text/plain": [
       "<IPython.core.display.Markdown object>"
      ]
     },
     "metadata": {},
     "output_type": "display_data"
    },
    {
     "data": {
      "text/markdown": [
       "[Open `0002_fastai_saving_a_basic_fastai_model` in Jupyter Notebook on Kaggle](https://www.kaggle.com/code/jhoward/saving-a-basic-fastai-model)"
      ],
      "text/plain": [
       "<IPython.core.display.Markdown object>"
      ]
     },
     "metadata": {},
     "output_type": "display_data"
    }
   ],
   "source": [
    "fastnbs(\"src: ImageDataLoaders.from_name\")"
   ]
  },
  {
   "cell_type": "code",
   "execution_count": null,
   "id": "23ec543b",
   "metadata": {},
   "outputs": [],
   "source": []
  },
  {
   "cell_type": "markdown",
   "id": "0294e717",
   "metadata": {},
   "source": [
    "## Search howto"
   ]
  },
  {
   "cell_type": "code",
   "execution_count": null,
   "id": "68eaf8e5",
   "metadata": {},
   "outputs": [
    {
     "name": "stdout",
     "output_type": "stream",
     "text": [
      "step 0: ht: imports==========================================================================================================================================\n",
      "\n",
      "## ht: imports - vision\n",
      "### ht: imports - fastkaggle \n",
      "### ht: imports - use mylib in kaggle\n",
      "### ht: imports - fastkaggle - push libs to kaggle\n",
      "/Users/Natsume/Documents/fastdebug/mds/fastai_notebooks/0008_fastai_first_steps_road_to_top_part_1.md\n",
      "\n",
      "step 1: ht: data_download====================================================================================================================================\n",
      "\n",
      "## ht: data_download - kaggle competition dataset\n",
      "### ht: data_download - kaggle set up\n",
      "/Users/Natsume/Documents/fastdebug/mds/fastai_notebooks/0008_fastai_first_steps_road_to_top_part_1.md\n",
      "\n",
      "step 2: ht: data_access======================================================================================================================================\n",
      "step 3: ht: data_prep========================================================================================================================================\n",
      "step 4: ht: data_loaders=====================================================================================================================================\n",
      "step 5: ht: cbs_tfms=========================================================================================================================================\n",
      "step 6: ht: learner==========================================================================================================================================\n",
      "step 7: ht: fit==============================================================================================================================================\n",
      "step 8: ht: pred=============================================================================================================================================\n",
      "step 9: ht: fu===============================================================================================================================================\n",
      "### ht: fu - whatinside, show_doc, fastlistnbs, fastnbs\n",
      "### ht: fu - git - when a commit takes too long\n",
      "/Users/Natsume/Documents/fastdebug/mds/fastai_notebooks/0008_fastai_first_steps_road_to_top_part_1.md\n",
      "\n"
     ]
    }
   ],
   "source": [
    "# show_doc(fastnotes)\n",
    "# show_doc(fastlistsrcs)\n",
    "\n",
    "# how to do notes from now on? make them notebooks first for using fastlistnbs and fastnbs\n",
    "# make howto internal steps breakable?\n",
    "fastlistnbs(\"howto\")"
   ]
  },
  {
   "cell_type": "code",
   "execution_count": null,
   "id": "4a2f464a",
   "metadata": {},
   "outputs": [],
   "source": []
  },
  {
   "cell_type": "markdown",
   "id": "1392b7c2",
   "metadata": {},
   "source": [
    "## Search questions (notes and Q&A on forum) "
   ]
  },
  {
   "cell_type": "code",
   "execution_count": null,
   "id": "f5cefde7",
   "metadata": {},
   "outputs": [
    {
     "name": "stdout",
     "output_type": "stream",
     "text": [
      "### qt: how to display a list of images?\n",
      "#### qt: why must all images have the same dimensions?\n",
      "/Users/Natsume/Documents/fastdebug/mds/fastai_notebooks/0008_fastai_first_steps_road_to_top_part_1.md\n",
      "\n"
     ]
    }
   ],
   "source": [
    "fastlistnbs(\"question\")"
   ]
  },
  {
   "cell_type": "code",
   "execution_count": null,
   "id": "d407260b",
   "metadata": {},
   "outputs": [
    {
     "data": {
      "text/plain": [
       "0          ht: imports\n",
       "1    ht: data_download\n",
       "2      ht: data_access\n",
       "3        ht: data_prep\n",
       "4     ht: data_loaders\n",
       "5         ht: cbs_tfms\n",
       "6          ht: learner\n",
       "7              ht: fit\n",
       "8             ht: pred\n",
       "9               ht: fu\n",
       "dtype: object"
      ]
     },
     "execution_count": null,
     "metadata": {},
     "output_type": "execute_result"
    }
   ],
   "source": [
    "hts"
   ]
  },
  {
   "cell_type": "code",
   "execution_count": null,
   "id": "c962b605",
   "metadata": {},
   "outputs": [],
   "source": [
    "# fastnbs(\"ht: load\")"
   ]
  },
  {
   "cell_type": "code",
   "execution_count": null,
   "id": "7dd9acdf",
   "metadata": {},
   "outputs": [],
   "source": []
  },
  {
   "cell_type": "code",
   "execution_count": null,
   "id": "d161a9f6",
   "metadata": {},
   "outputs": [],
   "source": []
  }
 ],
 "metadata": {
  "kernelspec": {
   "display_name": "Python 3 (ipykernel)",
   "language": "python",
   "name": "python3"
  }
 },
 "nbformat": 4,
 "nbformat_minor": 5
}
