{
 "cells": [
  {
   "cell_type": "markdown",
   "id": "c79b60ac",
   "metadata": {},
   "source": [
    "# 0001_The_origin_of_APL "
   ]
  },
  {
   "cell_type": "markdown",
   "id": "7249a4e1",
   "metadata": {},
   "source": [
    "[brief](https://youtu.be/8kUQWuK1L4w?t=143) summary: the intention of APL design\n",
    "\n",
    "[The end of summary](https://youtu.be/8kUQWuK1L4w?t=287): of Everson \n",
    "    \n",
    "    - their [paper](https://www.jsoftware.com/papers/APLDesign.htm): the design of APL\n",
    "\n",
    "[Fallkoff start talking](https://youtu.be/8kUQWuK1L4w?t=485)\n",
    "\n",
    "Iverson [continued](https://youtu.be/8kUQWuK1L4w?t=950)\n",
    "\n",
    "one of The first implementer [speaks](https://youtu.be/8kUQWuK1L4w?t=1003)"
   ]
  },
  {
   "cell_type": "markdown",
   "id": "96c9703a",
   "metadata": {},
   "source": [
    "more informative of APL [books](https://onlinebooks.library.upenn.edu/webbin/book/lookupname?key=Iverson%2C%20Kenneth%20E%2E)"
   ]
  }
 ],
 "metadata": {
  "kernelspec": {
   "display_name": "Python 3 (ipykernel)",
   "language": "python",
   "name": "python3"
  }
 },
 "nbformat": 4,
 "nbformat_minor": 5
}
