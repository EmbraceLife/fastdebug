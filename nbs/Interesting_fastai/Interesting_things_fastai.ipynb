{
 "cells": [
  {
   "cell_type": "markdown",
   "id": "f3991414",
   "metadata": {},
   "source": [
    "integrate fastai with huggingface transformer [library](https://github.com/ohmeow/blurr)"
   ]
  }
 ],
 "metadata": {
  "kernelspec": {
   "display_name": "Python 3 (ipykernel)",
   "language": "python",
   "name": "python3"
  }
 },
 "nbformat": 4,
 "nbformat_minor": 5
}
