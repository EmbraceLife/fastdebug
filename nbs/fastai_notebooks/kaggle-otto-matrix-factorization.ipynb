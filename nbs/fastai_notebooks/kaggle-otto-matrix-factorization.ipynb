{
 "cells": [
  {
   "cell_type": "markdown",
   "metadata": {},
   "source": [
    "## rd: recsys - otto - matrix factorization - \n",
    "### rd: recsys - otto - matrix factorization - todos: learn more of ideas of co-visitation, matrix factorization, embeddings, and how do they relate to each other\n",
    "### rd: recsys - otto - matrix factorization - todos: before moving onto exploring the ideas and gain proper understanding of those ideas, I should get myself very very familiar with the codes and what they do"
   ]
  },
  {
   "cell_type": "markdown",
   "metadata": {},
   "source": [
    "A co-visitation matrix is essentially an \"analog\" approximation to matrix factorization! I talk a bit more about this idea here: [💡 What is the co-visitation matrix, really?](https://www.kaggle.com/competitions/otto-recommender-system/discussion/365358).\n",
    "\n",
    "But matrix factorization has a lot of advantages as compared to co-visitation matrices. First of all, it can make better use of data -- it operates on the notion of similarity between categories. We can construct a more powerful representation if our model understands that aid `1` is similar to aid `142` as opposed to it treating each aid as an atomic entity (this is the jump from unigram/bigram/trigram models to word2vec in NLP).\n",
    "\n",
    "Let us thus train a matrix factorization model and replace the co-visitation matrices with it!\n",
    "\n",
    "Now, I don't expect that the first version of the model will be particularly well tuned. There has already been a lot of work put into co-visitation matrices and in the later versions we work off 3 different matrices, one for each category of actions! A similar progression can and will happen with matrix factorization 🙂 This notebook hopefully will enable us to jumpstart this type of exploration 🙂\n",
    "\n",
    "To streamline the work, we will use data in `parquet` format. (Here is the notebook [💡 [Howto] Full dataset as parquet/csv files](https://www.kaggle.com/code/radek1/howto-full-dataset-as-parquet-csv-files) and here is [the most up-to-date version of the dataset](https://www.kaggle.com/datasets/radek1/otto-full-optimized-memory-footprint), no need for dealing with `jasonl` files and the associated mess any longer! Please upvote if you find this useful!)\n",
    "\n",
    "For data processing we will use [polars](https://www.pola.rs/). `Polars` has a much smaller memory footprint than `pandas` and is quite fast. Plus it has really clean, intuitive API.\n",
    "\n",
    "Let's get to work! 🙂\n",
    "\n",
    "**If you like this notebook, please smash the upvote button! Thank you! 🙏**\n",
    "\n",
    "\n",
    "## Other resources you might find useful:\n",
    "\n",
    "* [💡 [Howto] Full dataset as parquet/csv files](https://www.kaggle.com/code/radek1/howto-full-dataset-as-parquet-csv-files) -- basing your work off parquet files without having to iterate over `jsonl` can save you a lot of time!\n",
    "* [🐘 the elephant in the room -- high cardinality of targets and what to do about this](https://www.kaggle.com/competitions/otto-recommender-system/discussion/364722)\n",
    "* [💡 Best hyperparams for the co-visitation matrix based on HPO study with 30 runs](https://www.kaggle.com/competitions/otto-recommender-system/discussion/365153)\n",
    "* [💡A robust local validation framework 🚀🚀🚀](https://www.kaggle.com/code/radek1/a-robust-local-validation-framework)\n",
    "* [📅 Dataset for local validation created using organizer's repository (parquet files)](https://www.kaggle.com/competitions/otto-recommender-system/discussion/364534)"
   ]
  },
  {
   "cell_type": "markdown",
   "metadata": {},
   "source": [
    "## import my utils"
   ]
  },
  {
   "cell_type": "code",
   "execution_count": null,
   "metadata": {},
   "outputs": [
    {
     "data": {
      "text/html": [
       "<style>.container { width:100% !important; }</style>"
      ],
      "text/plain": [
       "<IPython.core.display.HTML object>"
      ]
     },
     "metadata": {},
     "output_type": "display_data"
    }
   ],
   "source": [
    "import os\n",
    "\n",
    "try: import fastkaggle\n",
    "except ModuleNotFoundError:\n",
    "    os.system(\"pip install -Uq fastkaggle\")\n",
    "\n",
    "from fastkaggle import *\n",
    "\n",
    "# use fastdebug.utils \n",
    "if iskaggle: os.system(\"pip install nbdev snoop\")\n",
    "\n",
    "if iskaggle:\n",
    "    path = \"../input/fastdebugutils0\"\n",
    "    import sys\n",
    "    sys.path\n",
    "    sys.path.insert(1, path)\n",
    "    import utils as fu\n",
    "    from utils import *\n",
    "else: \n",
    "    from fastdebug.utils import *\n",
    "    import fastdebug.utils as fu\n"
   ]
  },
  {
   "cell_type": "markdown",
   "metadata": {},
   "source": [
    "## rd: recsys - otto - matrix factorization - takes 50+ mins to run, based on version 6 of @radek1's notebook"
   ]
  },
  {
   "cell_type": "markdown",
   "metadata": {},
   "source": [
    "## rd: recsys - otto - matrix factorization - @radek1 provides us ways to improve on this notebook"
   ]
  },
  {
   "cell_type": "markdown",
   "metadata": {},
   "source": [
    "## rd: recsys - otto - matrix factorization - use polars to read train.parquet and test.parquet - !pip install polars - import polars as pl - train = pl.read_parquet('../input/otto-full-optimized-memory-footprint/train.parquet')"
   ]
  },
  {
   "cell_type": "code",
   "execution_count": null,
   "metadata": {},
   "outputs": [],
   "source": [
    "!pip install polars\n",
    "\n",
    "import polars as pl\n",
    "\n",
    "train = pl.read_parquet('../input/otto-full-optimized-memory-footprint/train.parquet')\n",
    "test = pl.read_parquet('../input/otto-full-optimized-memory-footprint/test.parquet')"
   ]
  },
  {
   "cell_type": "markdown",
   "metadata": {},
   "source": [
    "We need to create `aid-aid` pairs to train our matrix factorization model!\n",
    "\n",
    "Let's us grab the pairs both from the train and test set."
   ]
  },
  {
   "cell_type": "markdown",
   "metadata": {},
   "source": [
    "## rd: recsys - otto - matrix factorization - build aid-aid pairs of train + test - this is the entire training set for this notebook - no other columns are used"
   ]
  },
  {
   "cell_type": "markdown",
   "metadata": {},
   "source": [
    "### rd: recsys - otto - matrix factorization - stack train on top of test - pl.concat([train, test])"
   ]
  },
  {
   "cell_type": "markdown",
   "metadata": {},
   "source": [
    "### rd: recsys - otto - matrix factorization - group by session, aggregate/compress rows of column 'aid' in the session into a single row and aggregate column 'aid' and shift forward by 1 and name it 'aid_next' - df.groupby('session').agg([pl.col('aid'),pl.col('aid').shift(-1).alias('aid_next')])"
   ]
  },
  {
   "cell_type": "markdown",
   "metadata": {},
   "source": [
    "### rd: recsys - otto - matrix factorization - explode the values of each row in columns 'aid' and 'aid_next' - df.explode(['aid', 'aid_next'])"
   ]
  },
  {
   "cell_type": "markdown",
   "metadata": {},
   "source": [
    "### rd: recsys - otto - matrix factorization - remove all nulls in all rows - df.drop_nulls()"
   ]
  },
  {
   "cell_type": "markdown",
   "metadata": {},
   "source": [
    "### rd: recsys - otto - matrix factorization - select only specified columns - df[['aid', 'aid_next']]"
   ]
  },
  {
   "cell_type": "code",
   "execution_count": null,
   "metadata": {},
   "outputs": [],
   "source": [
    "%%time\n",
    "\n",
    "train_pairs = (pl.concat([train, test])\n",
    "    .groupby('session').agg([\n",
    "        pl.col('aid'),\n",
    "        pl.col('aid').shift(-1).alias('aid_next')\n",
    "    ])\n",
    "    .explode(['aid', 'aid_next'])\n",
    "    .drop_nulls()\n",
    ")[['aid', 'aid_next']]"
   ]
  },
  {
   "cell_type": "markdown",
   "metadata": {},
   "source": [
    "### rd: recsys - otto - matrix factorization - how many rows and memory useage of train_pairs - ppn(train_pairs.shape) - train_pairs.to_pandas().memory_usage()"
   ]
  },
  {
   "cell_type": "code",
   "execution_count": null,
   "metadata": {},
   "outputs": [],
   "source": [
    "train_pairs.shape[0] / 1_000_000, ppn(train_pairs.shape[0])"
   ]
  },
  {
   "cell_type": "markdown",
   "metadata": {},
   "source": [
    "That is 209 million pairs created in 40 seconds without running out of RAM! 🙂 Not too bad"
   ]
  },
  {
   "cell_type": "code",
   "execution_count": null,
   "metadata": {},
   "outputs": [],
   "source": [
    "train_pairs.head()\n",
    "train_pairs.to_pandas().memory_usage()"
   ]
  },
  {
   "cell_type": "markdown",
   "metadata": {},
   "source": [
    "Let's see what is the cardinality of our aids -- we will need this to create the embedding layer."
   ]
  },
  {
   "cell_type": "markdown",
   "metadata": {},
   "source": [
    "## rd: recsys - otto - matrix factorization - help(polars_df) to find out more of the usages"
   ]
  },
  {
   "cell_type": "markdown",
   "metadata": {},
   "source": [
    "### rd: recsys - otto - matrix factorization - sort a single or multiple columns in reverse order or not - train_pairs.sort([pl.col(\"aid\"), pl.col(\"aid_next\")],reverse=[True, False],)"
   ]
  },
  {
   "cell_type": "markdown",
   "metadata": {},
   "source": [
    "### rd: recsys - otto - matrix factorization - (polars) find unique rows - len(train_pairs.to_pandas().aid.unique()), len(train_pairs.to_pandas().aid_next.unique()), "
   ]
  },
  {
   "cell_type": "markdown",
   "metadata": {},
   "source": [
    "### rd: recsys - otto - matrix factorization - question: what does cardinality really mean? - cardinality_aids = max(train_pairs['aid'].max(), train_pairs['aid_next'].max()) - It seems to be the largest aid number"
   ]
  },
  {
   "cell_type": "code",
   "execution_count": null,
   "metadata": {},
   "outputs": [],
   "source": [
    "cardinality_aids = max(train_pairs['aid'].max(), train_pairs['aid_next'].max())"
   ]
  },
  {
   "cell_type": "code",
   "execution_count": null,
   "metadata": {},
   "outputs": [],
   "source": [
    "ppn(cardinality_aids)"
   ]
  },
  {
   "cell_type": "markdown",
   "metadata": {},
   "source": [
    "We will have up to `1855602` -- that is a lot! But our matrix factorization model will be able to handle this.\n",
    "\n",
    "Let's construct a `PyTorch` dataset and `dataloader`."
   ]
  },
  {
   "cell_type": "markdown",
   "metadata": {},
   "source": [
    "## rd: recsys - otto - matrix factorization - build a ClicksDataset"
   ]
  },
  {
   "cell_type": "markdown",
   "metadata": {},
   "source": [
    "### rd: recsys - otto - matrix factorization - import what needed from torch - import torch, from torch import nn, from torch.utils.data import Dataset, DataLoader"
   ]
  },
  {
   "cell_type": "markdown",
   "metadata": {},
   "source": [
    "### rd: recsys - otto - matrix factorization - how to build a ClickDataset class - build __init__, __getitem__, __len__ - see src below"
   ]
  },
  {
   "cell_type": "code",
   "execution_count": null,
   "metadata": {},
   "outputs": [],
   "source": [
    "import torch\n",
    "from torch import nn\n",
    "from torch.utils.data import Dataset, DataLoader\n",
    "\n",
    "class ClicksDataset(Dataset):\n",
    "    def __init__(self, pairs):\n",
    "        self.aid1 = pairs['aid'].to_numpy()\n",
    "        self.aid2 = pairs['aid_next'].to_numpy()\n",
    "    def __getitem__(self, idx):\n",
    "        aid1 = self.aid1[idx]\n",
    "        aid2 = self.aid2[idx]\n",
    "        return [aid1, aid2]\n",
    "    def __len__(self):\n",
    "        return len(self.aid1)\n",
    "\n",
    "train_ds = ClicksDataset(train_pairs[:-10_000_000])\n",
    "valid_ds = ClicksDataset(train_pairs[10_000_000:])"
   ]
  },
  {
   "cell_type": "markdown",
   "metadata": {},
   "source": [
    "Let us see how quickly we can iterate over a single epoch with a batch size of `65536`."
   ]
  },
  {
   "cell_type": "markdown",
   "metadata": {},
   "source": [
    "### rd: recsys - otto - matrix factorization - instantiate a ClicksDataset and create a DataLoader - train_ds = ClicksDataset(train_pairs) - train_dl_pytorch = DataLoader(train_ds, 65536, True, num_workers=2)"
   ]
  },
  {
   "cell_type": "code",
   "execution_count": null,
   "metadata": {},
   "outputs": [],
   "source": [
    "train_ds = ClicksDataset(train_pairs)\n",
    "train_dl_pytorch = DataLoader(train_ds, 65536, True, num_workers=2)"
   ]
  },
  {
   "cell_type": "markdown",
   "metadata": {},
   "source": [
    "### rd: recsys - otto - matrix factorization - loop every batch of 65536 samples and access data from each sample and time the process - %%time - for batch in train_dl_pytorch: aid1, aid2 = batch[0], batch[1]"
   ]
  },
  {
   "cell_type": "code",
   "execution_count": null,
   "metadata": {},
   "outputs": [],
   "source": [
    "%%time\n",
    "for batch in train_dl_pytorch:\n",
    "    aid1, aid2 = batch[0], batch[1]"
   ]
  },
  {
   "cell_type": "markdown",
   "metadata": {},
   "source": [
    "## rd: recsys - otto - matrix factorization - why torch Dataset and DataLoader take so long to access data? indexing into the the arrays and collating results into batches is very computationally expensive."
   ]
  },
  {
   "cell_type": "markdown",
   "metadata": {},
   "source": [
    "Oh dear, that took forever! Mind you, were are not doing anything here, apart from iterating over the dataset for a single epoch (and that is without validation!).\n",
    "\n",
    "The reason this is taking so long is that indexing into the the arrays and collating results into batches is very computationally expensive.\n",
    "\n",
    "There are ways to work around this but they require writing a lot of code (you could use the iterable-style dataset). And still our solution wouldn't be particularly well optimized."
   ]
  },
  {
   "cell_type": "markdown",
   "metadata": {},
   "source": [
    "## rd: recsys - otto - matrix factorization - Merlin DataLoader can rescue torch DataLoader with great speed, but kaggle's GPU RAM is too small so we have to use Merlin DataLoader with CPU RAM."
   ]
  },
  {
   "cell_type": "markdown",
   "metadata": {},
   "source": [
    "Let us do something else instead!\n",
    "\n",
    "We will use a brand new [Merlin Dataloader](https://github.com/NVIDIA-Merlin/dataloader). It is a library that my team launched just a couple of days ago 🙂\n",
    "\n",
    "Now this library shines when you have a GPU, which is what you generally want when training DL models. But, alas, Kaggle gives you only 13 GB of RAM on a kernel with a GPU, and that wouldn't allow us to process our dataset!\n",
    "\n",
    "Let's see how far we can get with CPU only."
   ]
  },
  {
   "cell_type": "markdown",
   "metadata": {},
   "source": [
    "## rd: recsys - otto - matrix factorization - how to install Merlin DataLoader - !pip install merlin-dataloader"
   ]
  },
  {
   "cell_type": "code",
   "execution_count": null,
   "metadata": {},
   "outputs": [],
   "source": [
    "!pip install merlin-dataloader"
   ]
  },
  {
   "cell_type": "markdown",
   "metadata": {},
   "source": [
    "### rd: recsys - otto - matrix factorization - save dataframe into parquet files - train_pairs[:-10_000_000].to_pandas().to_parquet('train_pairs.parquet') - train_pairs[-10_000_000:].to_pandas().to_parquet('valid_pairs.parquet')"
   ]
  },
  {
   "cell_type": "markdown",
   "metadata": {},
   "source": [
    "### rd: recsys - otto - matrix factorization - what to import from merlin - from merlin.loader.torch import Loader - from merlin.io import Dataset"
   ]
  },
  {
   "cell_type": "markdown",
   "metadata": {},
   "source": [
    "### rd: recsys - otto - matrix factorization - merlin dataloader can access dataset directly from disk with parquet files and make into Datase and Loader - train_ds = Dataset('train_pairs.parquet') - train_dl_merlin = Loader(train_ds, 65536, True)"
   ]
  },
  {
   "cell_type": "markdown",
   "metadata": {},
   "source": [
    "### rd: recsys - otto - matrix factorization - access  - %%time - for batch in train_dl_merlin: - aid1, aid2 = batch[0], batch[1]"
   ]
  },
  {
   "cell_type": "markdown",
   "metadata": {},
   "source": [
    "### rd: recsys - otto - matrix factorization - help(df) to learn more of how to use merlin-dataloader"
   ]
  },
  {
   "cell_type": "markdown",
   "metadata": {},
   "source": [
    "We can read data directly from the disk -- even better!\n",
    "\n",
    "Let's write our datasets to disk."
   ]
  },
  {
   "cell_type": "code",
   "execution_count": null,
   "metadata": {},
   "outputs": [],
   "source": [
    "train_pairs[:-10_000_000].to_pandas().to_parquet('train_pairs.parquet')\n",
    "train_pairs[-10_000_000:].to_pandas().to_parquet('valid_pairs.parquet')"
   ]
  },
  {
   "cell_type": "code",
   "execution_count": null,
   "metadata": {},
   "outputs": [],
   "source": [
    "from merlin.loader.torch import Loader \n",
    "from merlin.io import Dataset\n",
    "\n",
    "train_ds = Dataset('train_pairs.parquet')\n",
    "train_dl_merlin = Loader(train_ds, 65536, True)"
   ]
  },
  {
   "cell_type": "code",
   "execution_count": null,
   "metadata": {},
   "outputs": [],
   "source": [
    "%%time\n",
    "\n",
    "for batch in train_dl_merlin:\n",
    "    aid1, aid2 = batch[0], batch[1]"
   ]
  },
  {
   "cell_type": "markdown",
   "metadata": {},
   "source": [
    "That is much better 🙂. Let's train our matrix factorization model!"
   ]
  },
  {
   "cell_type": "markdown",
   "metadata": {},
   "source": [
    "## rd: recsys - otto - matrix factorization - how to build a layer/model of MatrixFactorization"
   ]
  },
  {
   "cell_type": "markdown",
   "metadata": {},
   "source": [
    "### rd: recsys - otto - matrix factorization - how to initialize to create an embedding function -     def __init__(self, n_aids, n_factors): - super().__init__() - self.aid_factors = nn.Embedding(n_aids, n_factors, sparse=True)"
   ]
  },
  {
   "cell_type": "markdown",
   "metadata": {},
   "source": [
    "### rd: recsys - otto - matrix factorization - how to write the forward function -     def forward(self, aid1, aid2): - aid1 = self.aid_factors(aid1) - aid2 = self.aid_factors(aid2) - return (aid1 * aid2).sum(dim=1)"
   ]
  },
  {
   "cell_type": "markdown",
   "metadata": {},
   "source": [
    "## rd: recsys - otto - matrix factorization - how to write a AverageMeter class"
   ]
  },
  {
   "cell_type": "markdown",
   "metadata": {},
   "source": [
    "### rd: recsys - otto - matrix factorization - how to write __init__, reset, update, __str__"
   ]
  },
  {
   "cell_type": "markdown",
   "metadata": {},
   "source": [
    "## rd: recsys - otto - matrix factorization - create a Dataset and DataLoader with merlin-dataloader for valid set"
   ]
  },
  {
   "cell_type": "markdown",
   "metadata": {},
   "source": [
    "### rd: recsys - otto - matrix factorization - from valid_pairs.parquet - valid_ds = Dataset('valid_pairs.parquet') - valid_dl_merlin = Loader(valid_ds, 65536, True)"
   ]
  },
  {
   "cell_type": "code",
   "execution_count": null,
   "metadata": {},
   "outputs": [],
   "source": [
    "class MatrixFactorization(nn.Module):\n",
    "    def __init__(self, n_aids, n_factors):\n",
    "        super().__init__()\n",
    "        self.aid_factors = nn.Embedding(n_aids, n_factors, sparse=True)\n",
    "        \n",
    "    def forward(self, aid1, aid2):\n",
    "        aid1 = self.aid_factors(aid1)\n",
    "        aid2 = self.aid_factors(aid2)\n",
    "        return (aid1 * aid2).sum(dim=1)\n",
    "    \n",
    "class AverageMeter(object):\n",
    "    \"\"\"Computes and stores the average and current value\"\"\"\n",
    "    def __init__(self, name, fmt=':f'):\n",
    "        self.name = name\n",
    "        self.fmt = fmt\n",
    "        self.reset()\n",
    "\n",
    "    def reset(self):\n",
    "        self.val = 0\n",
    "        self.avg = 0\n",
    "        self.sum = 0\n",
    "        self.count = 0\n",
    "\n",
    "    def update(self, val, n=1):\n",
    "        self.val = val\n",
    "        self.sum += val * n\n",
    "        self.count += n\n",
    "        self.avg = self.sum / self.count\n",
    "\n",
    "    def __str__(self):\n",
    "        fmtstr = '{name} {val' + self.fmt + '} ({avg' + self.fmt + '})'\n",
    "        return fmtstr.format(**self.__dict__)\n",
    "\n",
    "valid_ds = Dataset('valid_pairs.parquet')\n",
    "valid_dl_merlin = Loader(valid_ds, 65536, True)"
   ]
  },
  {
   "cell_type": "markdown",
   "metadata": {},
   "source": [
    "## rd: recsys - otto - matrix factorization - Instantiate a MatrixFactorization model and create an optimizer and loss function"
   ]
  },
  {
   "cell_type": "markdown",
   "metadata": {},
   "source": [
    "### rd: recsys - otto - matrix factorization - Instantiate a model with MatrixFactorization - model = MatrixFactorization(cardinality_aids+1, 32)"
   ]
  },
  {
   "cell_type": "markdown",
   "metadata": {},
   "source": [
    "### rd: recsys - otto - matrix factorization - Create an optimizer - from torch.optim import SparseAdam - num_epochs=1- lr=0.1 - optimizer = SparseAdam(model.parameters(), lr=lr)"
   ]
  },
  {
   "cell_type": "markdown",
   "metadata": {},
   "source": [
    "### rd: recsys - otto - matrix factorization - Create a loss function - criterion = nn.BCEWithLogitsLoss()"
   ]
  },
  {
   "cell_type": "code",
   "execution_count": null,
   "metadata": {},
   "outputs": [],
   "source": [
    "from torch.optim import SparseAdam\n",
    "\n",
    "num_epochs=1\n",
    "lr=0.1\n",
    "\n",
    "model = MatrixFactorization(cardinality_aids+1, 32)\n",
    "optimizer = SparseAdam(model.parameters(), lr=lr)\n",
    "criterion = nn.BCEWithLogitsLoss()"
   ]
  },
  {
   "cell_type": "markdown",
   "metadata": {},
   "source": [
    "## rd: recsys - otto - matrix factorization - train matrix factorization model: forward, backward, trainloss and accuracy (see src below)"
   ]
  },
  {
   "cell_type": "markdown",
   "metadata": {},
   "source": [
    "### rd: recsys - otto - matrix factorization - what are negative output and what they are  for? see radek's answer [here](https://www.kaggle.com/code/radek1/matrix-factorization-pytorch-merlin-dataloader/comments#2039714)"
   ]
  },
  {
   "cell_type": "code",
   "execution_count": null,
   "metadata": {},
   "outputs": [],
   "source": [
    "%%time\n",
    "\n",
    "for epoch in range(num_epochs):\n",
    "    for batch, _ in train_dl_merlin: # question: why this line of code is different from the demo above? \n",
    "        model.train()\n",
    "        losses = AverageMeter('Loss', ':.4e')\n",
    "            \n",
    "        aid1, aid2 = batch['aid'], batch['aid_next']\n",
    "        output_pos = model(aid1, aid2)\n",
    "        output_neg = model(aid1, aid2[torch.randperm(aid2.shape[0])]) # explained nicely by Radek in the link above\n",
    "        \n",
    "        output = torch.cat([output_pos, output_neg])\n",
    "        targets = torch.cat([torch.ones_like(output_pos), torch.zeros_like(output_pos)]) # explained nicely by Radek in the link above\n",
    "        loss = criterion(output, targets)\n",
    "        losses.update(loss.item())\n",
    "        \n",
    "        optimizer.zero_grad()\n",
    "        loss.backward()\n",
    "        optimizer.step()\n",
    "        \n",
    "    model.eval()\n",
    "    \n",
    "    # running local validation below ? (I think so)\n",
    "    with torch.no_grad():\n",
    "        accuracy = AverageMeter('accuracy')\n",
    "        for batch, _ in valid_dl_merlin: # what is the other thing here in _?\n",
    "            aid1, aid2 = batch['aid'], batch['aid_next']\n",
    "            output_pos = model(aid1, aid2)\n",
    "            output_neg = model(aid1, aid2[torch.randperm(aid2.shape[0])])\n",
    "            accuracy_batch = torch.cat([output_pos.sigmoid() > 0.5, output_neg.sigmoid() < 0.5]).float().mean()\n",
    "            accuracy.update(accuracy_batch, aid1.shape[0])\n",
    "            \n",
    "    print(f'{epoch+1:02d}: * TrainLoss {losses.avg:.3f}  * Accuracy {accuracy.avg:.3f}')"
   ]
  },
  {
   "cell_type": "markdown",
   "metadata": {},
   "source": [
    "Let's grab the embeddings!"
   ]
  },
  {
   "cell_type": "markdown",
   "metadata": {},
   "source": [
    "## rd: recsys - otto - matrix factorization - extract embeddings from the model for use later - embeddings = model.aid_factors.weight.detach().numpy()"
   ]
  },
  {
   "cell_type": "code",
   "execution_count": null,
   "metadata": {},
   "outputs": [],
   "source": [
    "embeddings = model.aid_factors.weight.detach().numpy()"
   ]
  },
  {
   "cell_type": "code",
   "execution_count": null,
   "metadata": {},
   "outputs": [],
   "source": [
    "embeddings.shape"
   ]
  },
  {
   "cell_type": "markdown",
   "metadata": {},
   "source": [
    "## rd: recsys - otto - matrix factorization - create an instance of AnnoyIndex for approximate nearest neighbor search"
   ]
  },
  {
   "cell_type": "markdown",
   "metadata": {},
   "source": [
    "### rd: recsys - otto - matrix factorization - import and create an instance of AnnoyIndex - from annoy import AnnoyIndex - index = AnnoyIndex(32, 'euclidean')"
   ]
  },
  {
   "cell_type": "markdown",
   "metadata": {},
   "source": [
    "### rd: recsys - otto - matrix factorization - load embeddings to annoyindex - for i, v in enumerate(embeddings): - index.add_item(i, v)"
   ]
  },
  {
   "cell_type": "markdown",
   "metadata": {},
   "source": [
    "### rd: recsys - otto - matrix factorization - build a forest of n trees - index.build(10) - question: do we must run this line?"
   ]
  },
  {
   "cell_type": "code",
   "execution_count": null,
   "metadata": {},
   "outputs": [],
   "source": [
    "%%time\n",
    "\n",
    "from annoy import AnnoyIndex\n",
    "\n",
    "index = AnnoyIndex(32, 'euclidean')\n",
    "for i, v in enumerate(embeddings):\n",
    "    index.add_item(i, v)\n",
    "    \n",
    "index.build(10)"
   ]
  },
  {
   "cell_type": "markdown",
   "metadata": {},
   "source": [
    "###  recsys - otto - matrix factorization - Now for any `aid`, we can find its nearest neighbor - index.get_nns_by_item(123, 10)"
   ]
  },
  {
   "cell_type": "code",
   "execution_count": null,
   "metadata": {},
   "outputs": [],
   "source": [
    "index.get_nns_by_item(123, 10)"
   ]
  },
  {
   "cell_type": "markdown",
   "metadata": {},
   "source": [
    "Let's create a submission! 🙂"
   ]
  },
  {
   "cell_type": "markdown",
   "metadata": {},
   "source": [
    "## rd: recsys - otto - matrix factorization - make predictions on every session of test set with co-visitation matrix heuristic when a session has more than 20 aids and use nearest neights to generate candidates when a session has less than 20 aids"
   ]
  },
  {
   "cell_type": "markdown",
   "metadata": {},
   "source": [
    "### rd: recsys - otto - matrix factorization - group aids/types of each session into a list - test_session_AIDs = test.to_pandas().reset_index(drop=True).groupby('session')['aid'].apply(list) - test_session_types = test.to_pandas().reset_index(drop=True).groupby('session')['type'].apply(list)"
   ]
  },
  {
   "cell_type": "markdown",
   "metadata": {},
   "source": [
    "### rd: recsys - otto - matrix factorization - where to get defaultdict - from collections import defaultdict"
   ]
  },
  {
   "cell_type": "markdown",
   "metadata": {},
   "source": [
    "### rd: recsys - otto - matrix factorization - how to read data from csv file - sample_sub = pd.read_csv('../input/otto-recommender-system//sample_submission.csv')"
   ]
  },
  {
   "cell_type": "markdown",
   "metadata": {},
   "source": [
    "### rd: recsys - otto - matrix factorization - how to give different weights to clicks, carts and orders - type_weight_multipliers = {0: 1, 1: 6, 2: 3}"
   ]
  },
  {
   "cell_type": "markdown",
   "metadata": {},
   "source": [
    "### rd: recsys - otto - matrix factorization - how to loop each session to access the list of aids and the list of types - for AIDs, types in zip(test_session_AIDs, test_session_types):"
   ]
  },
  {
   "cell_type": "markdown",
   "metadata": {},
   "source": [
    "### rd: recsys - otto - matrix factorization - create a list of time_weights which log2-increase itself as time goes - weights=np.logspace(0.1,1,len(AIDs),base=2, endpoint=True)-1 # time weighted aid "
   ]
  },
  {
   "cell_type": "markdown",
   "metadata": {},
   "source": [
    "### rd: recsys - otto - matrix factorization - create a defaultdict to store data if no value is given to the key then use 0 as value -         aids_temp=defaultdict(lambda: 0)"
   ]
  },
  {
   "cell_type": "markdown",
   "metadata": {},
   "source": [
    "###  rd: recsys - otto - matrix factorization - loop every aid, weight and type from the lists of aids, weights and types of a session  - for aid,w,t in zip(AIDs,weights,types):  - then accumulate the weight of an aid based on its type_weight, time_weight and occurrences, and then save aid and its accumulated weight into the defaultdict - aids_temp[aid]+= w * type_weight_multipliers[t]"
   ]
  },
  {
   "cell_type": "markdown",
   "metadata": {},
   "source": [
    "### rd: recsys - otto - matrix factorization - aid_temp is a special defaultdict which make the weight zero/0 if no weight of the aid is given or initialize every aid's weight value to be 0 - aids_temp=defaultdict(lambda: 0) "
   ]
  },
  {
   "cell_type": "code",
   "execution_count": null,
   "metadata": {},
   "outputs": [
    {
     "data": {
      "text/plain": [
       "0"
      ]
     },
     "execution_count": null,
     "metadata": {},
     "output_type": "execute_result"
    },
    {
     "data": {
      "text/plain": [
       "3"
      ]
     },
     "execution_count": null,
     "metadata": {},
     "output_type": "execute_result"
    }
   ],
   "source": [
    "# code experiment\n",
    "from collections import defaultdict\n",
    "aids_temp=defaultdict(lambda: 0)\n",
    "aids_temp[1]\n",
    "aids_temp[1] += 3\n",
    "aids_temp[1]"
   ]
  },
  {
   "cell_type": "markdown",
   "metadata": {},
   "source": [
    "###  rd: recsys - otto - matrix factorization -  sort a dict by its values and reverse the order (from highest value to the lowest value), and then take the keys into a list -    sorted_aids=[k for k, v in sorted(aids_temp.items(), key=lambda item: -item[1])]"
   ]
  },
  {
   "cell_type": "code",
   "execution_count": null,
   "metadata": {},
   "outputs": [
    {
     "data": {
      "text/plain": [
       "[2, 1, 3]"
      ]
     },
     "execution_count": null,
     "metadata": {},
     "output_type": "execute_result"
    }
   ],
   "source": [
    "[k for k, v in sorted({1:3, 2:4, 3:1}.items(), key=lambda item: -item[1])]"
   ]
  },
  {
   "cell_type": "markdown",
   "metadata": {},
   "source": [
    "###  rd: recsys - otto - matrix factorization  - take the first 20 aids from the list sorted_aids and append to the list labels -  labels.append(sorted_aids[:20])"
   ]
  },
  {
   "cell_type": "markdown",
   "metadata": {},
   "source": [
    "### rd: recsys - otto - matrix factorization - if there are less than 20 aids in a session, then select the last aid and use approximate nearest neighbor search and our embeddings to generate candidates, and then combine the existing aids with candidates, and select the first 20 as labels"
   ]
  },
  {
   "cell_type": "markdown",
   "metadata": {},
   "source": [
    "###  rd: recsys - otto - matrix factorization - reverse the order of a list - AIDs[::-1] - remove the duplicates  - dict.fromkeys(AIDs[::-1]) - and put the rest into a list  - list(...)  - AIDs = list(dict.fromkeys(AIDs[::-1]))"
   ]
  },
  {
   "cell_type": "markdown",
   "metadata": {},
   "source": [
    "### rd: recsys - otto - matrix factorization - get the most recent aid - most_recent_aid = AIDs[0]"
   ]
  },
  {
   "cell_type": "markdown",
   "metadata": {},
   "source": [
    "### rd: recsys - otto - matrix factorization - get 21 nearest neights of the most recent aid - nns = index.get_nns_by_item(most_recent_aid, 21)[1:]"
   ]
  },
  {
   "cell_type": "markdown",
   "metadata": {},
   "source": [
    "### rd: recsys - otto - matrix factorization - combine two lists and take the first 20 aids from it and append to the list labels - labels.append((AIDs+nns)[:20])"
   ]
  },
  {
   "cell_type": "code",
   "execution_count": null,
   "metadata": {},
   "outputs": [],
   "source": [
    "import pandas as pd\n",
    "import numpy as np\n",
    "\n",
    "from collections import defaultdict\n",
    "\n",
    "sample_sub = pd.read_csv('../input/otto-recommender-system//sample_submission.csv')\n",
    "\n",
    "session_types = ['clicks', 'carts', 'orders']\n",
    "test_session_AIDs = test.to_pandas().reset_index(drop=True).groupby('session')['aid'].apply(list)\n",
    "test_session_types = test.to_pandas().reset_index(drop=True).groupby('session')['type'].apply(list)\n",
    "\n",
    "labels = []\n",
    "\n",
    "type_weight_multipliers = {0: 1, 1: 6, 2: 3}\n",
    "for AIDs, types in zip(test_session_AIDs, test_session_types):\n",
    "    if len(AIDs) >= 20:\n",
    "        # if we have enough aids (over equals 20) we don't need to look for candidates! we just use the old logic\n",
    "        weights=np.logspace(0.1,1,len(AIDs),base=2, endpoint=True)-1 # time weighted aid \n",
    "        aids_temp=defaultdict(lambda: 0)\n",
    "        for aid,w,t in zip(AIDs,weights,types): \n",
    "            aids_temp[aid]+= w * type_weight_multipliers[t]\n",
    "            \n",
    "        sorted_aids=[k for k, v in sorted(aids_temp.items(), key=lambda item: -item[1])]\n",
    "        labels.append(sorted_aids[:20])\n",
    "    else:\n",
    "        # here we don't have 20 aids to output -- we will use approximate nearest neighbor search and our embeddings\n",
    "        # to generate candidates!\n",
    "        AIDs = list(dict.fromkeys(AIDs[::-1]))\n",
    "        \n",
    "        # let's grab the most recent aid\n",
    "        most_recent_aid = AIDs[0]\n",
    "        \n",
    "        # and look for some neighbors!\n",
    "        nns = index.get_nns_by_item(most_recent_aid, 21)[1:]\n",
    "                        \n",
    "        labels.append((AIDs+nns)[:20])"
   ]
  },
  {
   "cell_type": "markdown",
   "metadata": {},
   "source": [
    "Let's now pull it all together and write to a file,"
   ]
  },
  {
   "cell_type": "markdown",
   "metadata": {},
   "source": [
    "## rd: recsys - otto - matrix factorization - make the format right for submission: predictions/labels of a session needs to be in a long string separated by '_'; the session id needs to attach with its type in a string too."
   ]
  },
  {
   "cell_type": "markdown",
   "metadata": {},
   "source": [
    "### rd: recsys - otto - matrix factorization - turn a list of lists of values into a list of a long string with values connected with  '_' - labels_as_strings = [' '.join([str(l) for l in lls]) for lls in labels]"
   ]
  },
  {
   "cell_type": "markdown",
   "metadata": {},
   "source": [
    "### rd: recsys - otto - matrix factorization - create a pd.DataFrame with a dict of (a Series and a list) - predictions = pd.DataFrame(data={'session_type': test_session_AIDs.index, 'labels': labels_as_strings})"
   ]
  },
  {
   "cell_type": "markdown",
   "metadata": {},
   "source": [
    "### rd: recsys - otto - matrix factorization - make a copy of a dataframe -  modified_predictions = predictions.copy()"
   ]
  },
  {
   "cell_type": "markdown",
   "metadata": {},
   "source": [
    "### rd: recsys - otto - matrix factorization - change a column's values' type from int to str and then their string values -     modified_predictions.session_type = modified_predictions.session_type.astype('str') + f'_{st}'"
   ]
  },
  {
   "cell_type": "markdown",
   "metadata": {},
   "source": [
    "### rd: recsys - otto - matrix factorization - append a dataframe into a list -     prediction_dfs.append(modified_predictions)"
   ]
  },
  {
   "cell_type": "markdown",
   "metadata": {},
   "source": [
    "### rd: recsys - otto - matrix factorization - stack a list of dataframe vertically and drop the original index - submission = pd.concat(prediction_dfs).reset_index(drop=True)"
   ]
  },
  {
   "cell_type": "markdown",
   "metadata": {},
   "source": [
    "### rd: recsys - otto - matrix factorization - write a dataframe into a csv file without the index carried from the dataframe - submission.to_csv('submission.csv', index=False)"
   ]
  },
  {
   "cell_type": "code",
   "execution_count": null,
   "metadata": {},
   "outputs": [],
   "source": [
    "labels_as_strings = [' '.join([str(l) for l in lls]) for lls in labels]\n",
    "\n",
    "predictions = pd.DataFrame(data={'session_type': test_session_AIDs.index, 'labels': labels_as_strings})\n",
    "\n",
    "prediction_dfs = []\n",
    "\n",
    "for st in session_types:\n",
    "    modified_predictions = predictions.copy()\n",
    "    modified_predictions.session_type = modified_predictions.session_type.astype('str') + f'_{st}'\n",
    "    prediction_dfs.append(modified_predictions)\n",
    "\n",
    "submission = pd.concat(prediction_dfs).reset_index(drop=True)\n",
    "submission.to_csv('submission.csv', index=False)"
   ]
  },
  {
   "cell_type": "markdown",
   "metadata": {},
   "source": [
    "## rd: recsys - otto - matrix factorization - what to do next on this notebook"
   ]
  },
  {
   "cell_type": "markdown",
   "metadata": {},
   "source": [
    "And we are done!\n",
    "\n",
    "\n",
    "**If you like this notebook, please smash the upvote button! Thank you! 😊**\n",
    "\n",
    "There are many ways in which this can be expanded:\n",
    "* we can train on the GPU\n",
    "* we can train for longer\n",
    "* maybe we would get better results if we were to filter our train data by type?\n",
    "* should we train only on adjacent aids? maybe we should expand the neighborhood we train on\n",
    "\n",
    "We can keep asking ourselves many questions like this 🙂 Now we have a framework to start answering them!\n",
    "\n",
    "Thank you for reading! Happy Kaggling! 🙌"
   ]
  },
  {
   "cell_type": "markdown",
   "metadata": {},
   "source": [
    "## Journey"
   ]
  },
  {
   "cell_type": "markdown",
   "metadata": {},
   "source": [
    "### jn: well, I kind of finished all the notebooks shared by Radek on otto at the moment, my goal is to be able to experiment further on these notebooks freely on my own. The next step is to familiarize those notebooks, read more on the models even come back to the videos by Xavier /2022-11-23"
   ]
  },
  {
   "cell_type": "markdown",
   "metadata": {},
   "source": [
    "### jn: speaking of things I could do to benefit myself and others and contribute to Radek's work, I could do the random split on the training set for his local validation dataset: 1) how to do random split like organizer's script, 2) apply it to the training set of the local validation set /2022-11-23"
   ]
  },
  {
   "cell_type": "code",
   "execution_count": null,
   "metadata": {},
   "outputs": [],
   "source": []
  }
 ],
 "metadata": {
  "kernelspec": {
   "display_name": "Python 3 (ipykernel)",
   "language": "python",
   "name": "python3"
  }
 },
 "nbformat": 4,
 "nbformat_minor": 4
}
