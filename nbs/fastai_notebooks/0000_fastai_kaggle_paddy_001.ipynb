{
 "cells": [
  {
   "cell_type": "raw",
   "id": "295b6f88",
   "metadata": {},
   "source": [
    "---\n",
    "skip_exec: true\n",
    "---"
   ]
  },
  {
   "cell_type": "code",
   "execution_count": null,
   "id": "4c459481",
   "metadata": {},
   "outputs": [],
   "source": [
    "#| default_exp kaggle_paddy_pt1"
   ]
  },
  {
   "cell_type": "code",
   "execution_count": null,
   "id": "dc25b90e",
   "metadata": {},
   "outputs": [],
   "source": [
    "#| export\n",
    "# this is a notebook for receiving code snippet from other notebooks"
   ]
  },
  {
   "cell_type": "code",
   "execution_count": null,
   "id": "79afb2ef",
   "metadata": {},
   "outputs": [],
   "source": []
  }
 ],
 "metadata": {
  "kernelspec": {
   "display_name": "Python 3 (ipykernel)",
   "language": "python",
   "name": "python3"
  }
 },
 "nbformat": 4,
 "nbformat_minor": 5
}
