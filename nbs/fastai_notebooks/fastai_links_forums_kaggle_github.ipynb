{
 "cells": [
  {
   "cell_type": "markdown",
   "id": "28ae107a",
   "metadata": {},
   "source": [
    "### lk: Jeremy and Paddy\n",
    "\n",
    "Jeremy on [kaggle](https://www.kaggle.com/jhoward)\n",
    "\n",
    "Paddy doctor on [kaggle](https://www.kaggle.com/competitions/paddy-disease-classification/submissions)\n",
    "\n",
    "### lk: Daniel's fastai forum posts\n",
    "  \n",
    "[Exploring fastai with Excel and Python](https://forums.fast.ai/t/exploring-fastai-with-excel-and-python/97426)\n",
    "  \n",
    "[Hidden Docs of Fastcore](https://forums.fast.ai/t/hidden-docs-of-fastcore/98455)\n",
    "  \n",
    "[Help: reading fastcore and fastai docs](https://forums.fast.ai/t/help-reading-fastcore-and-fastai-docs/100168) \n",
    "\n",
    "### lk: Radek and OTTO\n",
    "Radek on [twitter](https://twitter.com/radekosmulski)\n",
    "\n",
    "How to get started [post](https://www.kaggle.com/competitions/otto-recommender-system/discussion/364062)\n",
    "\n",
    "Baseline model [notebook](https://www.kaggle.com/code/radek1/co-visitation-matrix-simplified-imprvd-logic/notebook?scriptVersionId=110068977)\n",
    "\n",
    "Full dataset converted to csv/parquet format [post](https://www.kaggle.com/competitions/otto-recommender-system/discussion/363843) with notebooks\n",
    "\n",
    "### lk: ilovescience on kaggle\n",
    "\n",
    "[taniqish on kaggle](https://www.kaggle.com/tanlikesmath)"
   ]
  }
 ],
 "metadata": {
  "kernelspec": {
   "display_name": "Python 3 (ipykernel)",
   "language": "python",
   "name": "python3"
  }
 },
 "nbformat": 4,
 "nbformat_minor": 5
}
