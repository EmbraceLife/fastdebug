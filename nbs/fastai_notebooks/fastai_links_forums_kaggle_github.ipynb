{
 "cells": [
  {
   "cell_type": "markdown",
   "id": "7efe6ded",
   "metadata": {},
   "source": [
    "### lk: Jeremy and Paddy\n",
    "\n",
    "Jeremy on [kaggle](https://www.kaggle.com/jhoward)\n",
    "\n",
    "Paddy doctor on [kaggle](https://www.kaggle.com/competitions/paddy-disease-classification/submissions)\n",
    "\n",
    "### lk: Daniel's fastai forum posts\n",
    "  \n",
    "[Exploring fastai with Excel and Python](https://forums.fast.ai/t/exploring-fastai-with-excel-and-python/97426)\n",
    "  \n",
    "[Hidden Docs of Fastcore](https://forums.fast.ai/t/hidden-docs-of-fastcore/98455)\n",
    "  \n",
    "[Help: reading fastcore and fastai docs](https://forums.fast.ai/t/help-reading-fastcore-and-fastai-docs/100168) "
   ]
  },
  {
   "cell_type": "markdown",
   "id": "e1adf261",
   "metadata": {},
   "source": [
    "### lk: Radek on animal language models\n",
    "Radek's [post](https://forums.fast.ai/t/invitation-to-open-collaboration-practice-what-you-learn-in-the-course-and-help-animal-researchers/66259) on open collaboration on animal language models\n",
    "\n",
    "### lk: Radek and OTTO\n",
    "Radek's [post](https://forums.fast.ai/t/do-you-have-a-second-to-talk-about-recommender-systems-a-fun-activity-over-the-break/96590/15) on how to start Recommendation sys with recommended [resources](https://forums.fast.ai/t/do-you-have-a-second-to-talk-about-recommender-systems-a-fun-activity-over-the-break/96590/15?u=daniel) for beginners\n",
    "\n",
    "Radek on [twitter](https://twitter.com/radekosmulski)\n",
    "\n",
    "How to get started on OTTO [post](https://www.kaggle.com/competitions/otto-recommender-system/discussion/364062)\n",
    "\n",
    "Baseline model OTTO [notebook](https://www.kaggle.com/code/radek1/co-visitation-matrix-simplified-imprvd-logic/notebook?scriptVersionId=110068977)\n",
    "\n",
    "Full dataset converted to csv/parquet format for OTTO [post](https://www.kaggle.com/competitions/otto-recommender-system/discussion/363843) with notebooks\n",
    "\n",
    "### lk: ilovescience on kaggle\n",
    "\n",
    "[taniqish on kaggle](https://www.kaggle.com/tanlikesmath)"
   ]
  }
 ],
 "metadata": {
  "kernelspec": {
   "display_name": "Python 3 (ipykernel)",
   "language": "python",
   "name": "python3"
  }
 },
 "nbformat": 4,
 "nbformat_minor": 5
}
