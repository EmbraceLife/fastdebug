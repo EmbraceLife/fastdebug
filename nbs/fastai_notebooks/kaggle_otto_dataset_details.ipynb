{
 "cells": [
  {
   "cell_type": "markdown",
   "id": "c9b7360f",
   "metadata": {},
   "source": [
    "### jn: what does `density` suppose to tell us and how it is calcuated? I have raised an [issue](https://github.com/otto-de/recsys-dataset/issues/2) in the otto dataset github /2022-11-14\n",
    "\n",
    "### jn: I should find time to work on the [TBA](https://github.com/otto-de/recsys-dataset#dataset-statistics) of the dataset which helps me know better of the dataset and also it is the lower hanging fruits to contribute to the repo /2022-11-14\n",
    "\n",
    "### jn: actually as the test set is not fully available due to competition, and after the competition test set statistics will be made available. I have done the basic statistics for the competition test set, can be seen [here](https://www.kaggle.com/code/danielliao/eda-an-overview-of-the-full-dataset?scriptVersionId=110913371) /2022-11-14"
   ]
  }
 ],
 "metadata": {
  "kernelspec": {
   "display_name": "Python 3 (ipykernel)",
   "language": "python",
   "name": "python3"
  }
 },
 "nbformat": 4,
 "nbformat_minor": 5
}
