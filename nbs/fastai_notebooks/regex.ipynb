{
 "cells": [
  {
   "cell_type": "code",
   "execution_count": null,
   "id": "787edb34",
   "metadata": {},
   "outputs": [
    {
     "data": {
      "text/html": [
       "<style>.container { width:100% !important; }</style>"
      ],
      "text/plain": [
       "<IPython.core.display.HTML object>"
      ]
     },
     "metadata": {},
     "output_type": "display_data"
    }
   ],
   "source": [
    "from fastdebug.utils import *"
   ]
  },
  {
   "cell_type": "code",
   "execution_count": null,
   "id": "754278e5",
   "metadata": {},
   "outputs": [
    {
     "name": "stdout",
     "output_type": "stream",
     "text": [
      "\n",
      "## ht: imports for vision\n",
      "### ht: let fastdebug help\n",
      "### ht: install fastkaggle if not available else import it\n",
      "### ht: kaggle - add your own library\n",
      "### ht: kaggle - use fastkaggle to push a group of libs as a dataset to kaggle\n",
      "### ht: git - push too long due to a very large dataset how to reverse it\n",
      "### ht: iterate like a grandmaster\n",
      "\n",
      "## ht: download and access kaggle competition dataset\n",
      "### ht: set up before downloading\n",
      "### ht: reproducibility in training\n",
      "\n",
      "## ht: data - access dataset\n",
      "### ht: data - map subfolders content\n",
      "### ht: data - extract all images for test and train with `get_image_files`\n",
      "### ht: data - display an image from test_files or train_files\n",
      "### ht: data - clean - remove images that fail to open with `remove_failed(path)`\n",
      "### ht: data - describe sizes of all images with `check_sizes_img`\n",
      "/Users/Natsume/Documents/fastdebug/mds/fastai_notebooks/0008_fastai_first_steps_road_to_top_part_1.md\n",
      "\n"
     ]
    }
   ],
   "source": [
    "fastlistnbs('howto')"
   ]
  },
  {
   "cell_type": "code",
   "execution_count": null,
   "id": "0ebe01da",
   "metadata": {},
   "outputs": [],
   "source": []
  },
  {
   "cell_type": "code",
   "execution_count": null,
   "id": "4f32d135",
   "metadata": {},
   "outputs": [],
   "source": []
  },
  {
   "cell_type": "markdown",
   "id": "80d33d10",
   "metadata": {},
   "source": [
    "### regex jeremy for daniel"
   ]
  },
  {
   "cell_type": "code",
   "execution_count": null,
   "id": "21a7e7d7",
   "metadata": {},
   "outputs": [],
   "source": [
    "from fastcore.utils import *\n",
    "import gradio as gr\n",
    "\n",
    "def fix_imgs(src, dst):\n",
    "    found = {n:(s,f) for n,s,f in\n",
    "             re.findall(r'!\\[(\\S+)\\|(\\S+)\\]\\((\\S+)\\)', src)}\n",
    "\n",
    "    def repl_img(x):\n",
    "        res = found.get(x.group(1))\n",
    "        if res:\n",
    "            sz,nm = res\n",
    "            return f'![{x.group(1)}|{sz}]({nm})'\n",
    "        else: return f'MISSING IMAGE: {x.group(1)}'\n",
    "    \n",
    "#     result = re.sub(r'!\\[\\[([^.]+)\\.\\w+(\\|\\d+)?\\]\\]', repl_img, dst)\n",
    "    result = re.sub(r'!\\[\\[(\\S+)\\.(png|jpeg)(\\|\\d+)?\\]\\]', repl_img, dst)\n",
    "    return result\n",
    "\n",
    "def fix_imgs_with_hide(src, dst):\n",
    "    if dst != \"\":\n",
    "        result_no_hide = fix_imgs(src, dst)\n",
    "    else:\n",
    "        result_no_hide = src\n",
    "    \n",
    "    def add_hide_top_func(x):\n",
    "        add_hide_top = \"\"\"\\n\\n[details='Images']\\n\\n\"\"\"\n",
    "        return     f'{x.group(1)}{add_hide_top}{x.group(2)}'\n",
    "\n",
    "    result_top_hide = re.sub(r'([\\.|\\?|\\w|\\`][\\s]*)([\\n]*!\\[[^|]+\\|\\S+\\]\\(\\S+\\))', add_hide_top_func, result_no_hide)\n",
    "\n",
    "    def add_hide_bottom_func(x):\n",
    "        add_hide_bottom = \"\"\"[/details]\\n\\n\"\"\"\n",
    "        return     f'{x.group(1)}{add_hide_bottom}{x.group(2)}'\n",
    "\n",
    "    return re.sub(r'(!\\[[^|]+\\|\\S+\\]\\(\\S+\\)[\\n]+)(\\w|#)', add_hide_bottom_func, result_top_hide)\n",
    "\n",
    "\n",
    "# src_txt = Path('src.txt').read_text()\n",
    "# dst_txt = Path('dst.txt').read_text()\n",
    "\n",
    "# print(fix_imgs_with_hide(src_txt, dst_txt))\n",
    "\n",
    "\n",
    "\n",
    "# gr.Interface(fn=fix_imgs_with_hide, inputs=[gr.Textbox(lines=15),gr.Textbox(lines=15)], outputs=gr.Textbox(lines=15)).launch()"
   ]
  },
  {
   "cell_type": "markdown",
   "id": "e329c3f9",
   "metadata": {},
   "source": [
    "### regex \\w, \\d, [a-z], ?, +, *\n",
    "`adfd-12184-*()`\n",
    "`\\d` :  has 5 matches  https://regex101.com/r/qae1H4/1\n",
    "`\\d+` : has 1 match https://regex101.com/r/OXMih8/1\n",
    "\n",
    "`121adfd-*12d18dd4-*()_`\n",
    "`\\w*`: has 10 matches (so many because 0 or more == not `\\w` or more `\\w`) https://regex101.com/r/lk4VNo/1\n",
    "`\\w\\w*`: has 3 matches  https://regex101.com/r/rfSbS9/1\n",
    "\n",
    "`adfd-12184-*()_`\n",
    "`\\w`: has 10 matches https://regex101.com/r/KmRLIB/1\n",
    "`\\w+`: has 3 matches  https://regex101.com/r/VUBDnJ/1\n",
    "`[a-z]` : has 4 matches https://regex101.com/r/klycje/1\n",
    "`[a-z]+`: has 1 match https://regex101.com/r/FtFZeA/1\n",
    "\n",
    "`121adfd-12184-*()_`\n",
    "`[a-z]*`: match every character as 0 occurance is accepted too  https://regex101.com/r/0NbPzr/1\n",
    "\n",
    "`121adfd-12d18dd4-*()_`\n",
    "`d[a-z]*`: has 3 matches   https://regex101.com/r/gROAgR/1\n",
    "`d[a-z]?`: has 4 matches   https://regex101.com/r/Ii4LYs/1\n",
    "\n",
    "keep working https://www.youtube.com/watch?v=GyJtxd14DTc&loop=0"
   ]
  },
  {
   "cell_type": "code",
   "execution_count": null,
   "id": "418c587d",
   "metadata": {},
   "outputs": [],
   "source": []
  }
 ],
 "metadata": {
  "kernelspec": {
   "display_name": "Python 3 (ipykernel)",
   "language": "python",
   "name": "python3"
  }
 },
 "nbformat": 4,
 "nbformat_minor": 5
}
