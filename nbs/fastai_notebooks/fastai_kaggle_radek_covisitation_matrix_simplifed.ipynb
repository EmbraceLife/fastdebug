{
 "cells": [
  {
   "cell_type": "markdown",
   "metadata": {},
   "source": [
    "**This notebook is the annotated version of the original [notebook](https://www.kaggle.com/code/radek1/co-visitation-matrix-simplified-imprvd-logic) by @radek1**"
   ]
  },
  {
   "cell_type": "markdown",
   "metadata": {},
   "source": [
    "This notebook builds on [the work](https://www.kaggle.com/code/vslaykovsky/co-visitation-matrix) by [@vslaykovsky](https://www.kaggle.com/vslaykovsky). As suggested by [@cdeotte](https://www.kaggle.com/cdeotte) [here](https://www.kaggle.com/code/cdeotte/test-data-leak-lb-boost) I am including test information in clculating the co-visitation matrix.\n",
    "\n",
    "Here I provide a simplified implementation that is easier to follow and that can also be more easily extended!\n",
    "\n",
    "Please find some additional discussion on this notebook in this [thread](https://www.kaggle.com/competitions/otto-recommender-system/discussion/364210).\n",
    "\n",
    "**Would appreciate [your upvote on the thread](https://www.kaggle.com/competitions/otto-recommender-system/discussion/364210) to increase visibility.** 🙏\n",
    "\n",
    "Because the code is simpler, it was straightforward to modify the logic and make a couple of different decisions to achieve a better result.\n",
    "\n",
    "Additionally, I am also using a version of the dataset that I shared [here](https://www.kaggle.com/competitions/otto-recommender-system/discussion/363843). This further simplifies matters as we no longer have to read the data from `jasonl` files!\n",
    "\n",
    "**If you like this notebook, please upvote! Thank you! 😊**\n",
    "\n",
    "## You might also find useful:\n",
    "\n",
    "* [💡 Do not disregard longer sessions -- they contribute disproportionately to the competition metric!](https://www.kaggle.com/competitions/otto-recommender-system/discussion/364375)\n",
    "* [🐘 the elephant in the room -- high cardinality of targets and what to do about this](https://www.kaggle.com/competitions/otto-recommender-system/discussion/364722)\n",
    "* [📅 Dataset for local validation created using organizer's repository (parquet files)](https://www.kaggle.com/competitions/otto-recommender-system/discussion/364534)\n",
    "\n",
    "\n",
    "### Update:\n",
    "\n",
    "* added sorting of `AIDs` in test based on number of clicks from [Multiple clicks vs latest items](https://www.kaggle.com/code/pietromaldini1/multiple-clicks-vs-latest-items) by [pietromaldini1](https://www.kaggle.com/pietromaldini1)\n",
    "* added speed improvements from [Fast Co-Visitation Matrix](https://www.kaggle.com/code/pietromaldini1/multiple-clicks-vs-latest-items) by [dpalbrecht](https://www.kaggle.com/dpalbrecht)\n",
    "* added weigting by type of `AIDs` in test from [Item type vs multiple clicks vs latest items](https://www.kaggle.com/code/ingvarasgalinskas/item-type-vs-multiple-clicks-vs-latest-items) by [ingvarasgalinskas](https://www.kaggle.com/ingvarasgalinskas)"
   ]
  },
  {
   "cell_type": "markdown",
   "metadata": {},
   "source": [
    "## imports"
   ]
  },
  {
   "cell_type": "code",
   "execution_count": null,
   "metadata": {},
   "outputs": [
    {
     "name": "stdout",
     "output_type": "stream",
     "text": [
      "Requirement already satisfied: nbdev in /opt/conda/lib/python3.7/site-packages (2.3.9)\n",
      "Requirement already satisfied: snoop in /opt/conda/lib/python3.7/site-packages (0.4.2)\n",
      "Requirement already satisfied: watchdog in /opt/conda/lib/python3.7/site-packages (from nbdev) (2.1.9)\n",
      "Requirement already satisfied: PyYAML in /opt/conda/lib/python3.7/site-packages (from nbdev) (6.0)\n",
      "Requirement already satisfied: execnb>=0.1.4 in /opt/conda/lib/python3.7/site-packages (from nbdev) (0.1.4)\n",
      "Requirement already satisfied: astunparse in /opt/conda/lib/python3.7/site-packages (from nbdev) (1.6.3)\n",
      "Requirement already satisfied: fastcore>=1.5.27 in /opt/conda/lib/python3.7/site-packages (from nbdev) (1.5.27)\n",
      "Requirement already satisfied: asttokens in /opt/conda/lib/python3.7/site-packages (from nbdev) (2.1.0)\n",
      "Requirement already satisfied: ghapi>=1.0.3 in /opt/conda/lib/python3.7/site-packages (from nbdev) (1.0.3)\n",
      "Requirement already satisfied: executing in /opt/conda/lib/python3.7/site-packages (from snoop) (1.2.0)\n",
      "Requirement already satisfied: cheap-repr>=0.4.0 in /opt/conda/lib/python3.7/site-packages (from snoop) (0.5.1)\n",
      "Requirement already satisfied: pygments in /opt/conda/lib/python3.7/site-packages (from snoop) (2.12.0)\n",
      "Requirement already satisfied: six in /opt/conda/lib/python3.7/site-packages (from snoop) (1.15.0)\n",
      "Requirement already satisfied: ipython in /opt/conda/lib/python3.7/site-packages (from execnb>=0.1.4->nbdev) (7.33.0)\n",
      "Requirement already satisfied: pip in /opt/conda/lib/python3.7/site-packages (from fastcore>=1.5.27->nbdev) (22.1.2)\n",
      "Requirement already satisfied: packaging in /opt/conda/lib/python3.7/site-packages (from fastcore>=1.5.27->nbdev) (21.3)\n",
      "Requirement already satisfied: wheel<1.0,>=0.23.0 in /opt/conda/lib/python3.7/site-packages (from astunparse->nbdev) (0.37.1)\n",
      "Requirement already satisfied: pickleshare in /opt/conda/lib/python3.7/site-packages (from ipython->execnb>=0.1.4->nbdev) (0.7.5)\n",
      "Requirement already satisfied: pexpect>4.3 in /opt/conda/lib/python3.7/site-packages (from ipython->execnb>=0.1.4->nbdev) (4.8.0)\n",
      "Requirement already satisfied: setuptools>=18.5 in /opt/conda/lib/python3.7/site-packages (from ipython->execnb>=0.1.4->nbdev) (59.8.0)\n",
      "Requirement already satisfied: traitlets>=4.2 in /opt/conda/lib/python3.7/site-packages (from ipython->execnb>=0.1.4->nbdev) (5.3.0)\n",
      "Requirement already satisfied: backcall in /opt/conda/lib/python3.7/site-packages (from ipython->execnb>=0.1.4->nbdev) (0.2.0)\n",
      "Requirement already satisfied: prompt-toolkit!=3.0.0,!=3.0.1,<3.1.0,>=2.0.0 in /opt/conda/lib/python3.7/site-packages (from ipython->execnb>=0.1.4->nbdev) (3.0.30)\n",
      "Requirement already satisfied: decorator in /opt/conda/lib/python3.7/site-packages (from ipython->execnb>=0.1.4->nbdev) (5.1.1)\n",
      "Requirement already satisfied: jedi>=0.16 in /opt/conda/lib/python3.7/site-packages (from ipython->execnb>=0.1.4->nbdev) (0.18.1)\n",
      "Requirement already satisfied: matplotlib-inline in /opt/conda/lib/python3.7/site-packages (from ipython->execnb>=0.1.4->nbdev) (0.1.3)\n",
      "Requirement already satisfied: pyparsing!=3.0.5,>=2.0.2 in /opt/conda/lib/python3.7/site-packages (from packaging->fastcore>=1.5.27->nbdev) (3.0.9)\n",
      "Requirement already satisfied: parso<0.9.0,>=0.8.0 in /opt/conda/lib/python3.7/site-packages (from jedi>=0.16->ipython->execnb>=0.1.4->nbdev) (0.8.3)\n",
      "Requirement already satisfied: ptyprocess>=0.5 in /opt/conda/lib/python3.7/site-packages (from pexpect>4.3->ipython->execnb>=0.1.4->nbdev) (0.7.0)\n",
      "Requirement already satisfied: wcwidth in /opt/conda/lib/python3.7/site-packages (from prompt-toolkit!=3.0.0,!=3.0.1,<3.1.0,>=2.0.0->ipython->execnb>=0.1.4->nbdev) (0.2.5)\n"
     ]
    },
    {
     "name": "stderr",
     "output_type": "stream",
     "text": [
      "WARNING: Running pip as the 'root' user can result in broken permissions and conflicting behaviour with the system package manager. It is recommended to use a virtual environment instead: https://pip.pypa.io/warnings/venv\n"
     ]
    },
    {
     "data": {
      "text/plain": [
       "0"
      ]
     },
     "execution_count": null,
     "metadata": {},
     "output_type": "execute_result"
    },
    {
     "data": {
      "text/plain": [
       "['/kaggle/working',\n",
       " '../input/fastdebugutils0',\n",
       " '../input/fastdebugutils0',\n",
       " '/kaggle/lib/kagglegym',\n",
       " '/kaggle/lib',\n",
       " '/kaggle/input/otto-recommender-system',\n",
       " '/opt/conda/lib/python37.zip',\n",
       " '/opt/conda/lib/python3.7',\n",
       " '/opt/conda/lib/python3.7/lib-dynload',\n",
       " '',\n",
       " '/root/.local/lib/python3.7/site-packages',\n",
       " '/opt/conda/lib/python3.7/site-packages',\n",
       " '/src/bq-helper',\n",
       " '/opt/conda/lib/python3.7/site-packages/IPython/extensions',\n",
       " '/root/.ipython']"
      ]
     },
     "execution_count": null,
     "metadata": {},
     "output_type": "execute_result"
    }
   ],
   "source": [
    "# make sure fastkaggle is install and imported\n",
    "import os\n",
    "\n",
    "try: import fastkaggle\n",
    "except ModuleNotFoundError:\n",
    "    os.system(\"pip install -Uq fastkaggle\")\n",
    "\n",
    "from fastkaggle import *\n",
    "\n",
    "# use fastdebug.utils \n",
    "if iskaggle: os.system(\"pip install nbdev snoop\")\n",
    "\n",
    "if iskaggle:\n",
    "    path = \"../input/fastdebugutils0\"\n",
    "    import sys\n",
    "    sys.path\n",
    "    sys.path.insert(1, path)\n",
    "    import utils as fu\n",
    "    from utils import *\n",
    "else: \n",
    "    from fastdebug.utils import *\n",
    "    import fastdebug.utils as fu"
   ]
  },
  {
   "cell_type": "code",
   "execution_count": null,
   "metadata": {},
   "outputs": [],
   "source": [
    "import pandas as pd\n",
    "import numpy as np"
   ]
  },
  {
   "cell_type": "markdown",
   "metadata": {},
   "source": [
    "## rd: recsys - otto - covisitation_simplified - load the dataset files and have a peek at them"
   ]
  },
  {
   "cell_type": "markdown",
   "metadata": {},
   "source": [
    "### rd: recsys - otto - covisitation_simplified - read parquet and csv from dataset, pd.read_parquet('copy & paste the file path'), pd.read_csv('copy & paste path')"
   ]
  },
  {
   "cell_type": "code",
   "execution_count": null,
   "metadata": {},
   "outputs": [],
   "source": [
    "train = pd.read_parquet('../input/otto-full-optimized-memory-footprint//train.parquet')\n",
    "test = pd.read_parquet('../input/otto-full-optimized-memory-footprint/test.parquet')\n",
    "\n",
    "sample_sub = pd.read_csv('../input/otto-recommender-system//sample_submission.csv')"
   ]
  },
  {
   "cell_type": "code",
   "execution_count": null,
   "metadata": {},
   "outputs": [
    {
     "data": {
      "text/html": [
       "<div>\n",
       "<style scoped>\n",
       "    .dataframe tbody tr th:only-of-type {\n",
       "        vertical-align: middle;\n",
       "    }\n",
       "\n",
       "    .dataframe tbody tr th {\n",
       "        vertical-align: top;\n",
       "    }\n",
       "\n",
       "    .dataframe thead th {\n",
       "        text-align: right;\n",
       "    }\n",
       "</style>\n",
       "<table border=\"1\" class=\"dataframe\">\n",
       "  <thead>\n",
       "    <tr style=\"text-align: right;\">\n",
       "      <th></th>\n",
       "      <th>session</th>\n",
       "      <th>aid</th>\n",
       "      <th>ts</th>\n",
       "      <th>type</th>\n",
       "    </tr>\n",
       "  </thead>\n",
       "  <tbody>\n",
       "    <tr>\n",
       "      <th>0</th>\n",
       "      <td>0</td>\n",
       "      <td>1517085</td>\n",
       "      <td>1659304800</td>\n",
       "      <td>0</td>\n",
       "    </tr>\n",
       "    <tr>\n",
       "      <th>1</th>\n",
       "      <td>0</td>\n",
       "      <td>1563459</td>\n",
       "      <td>1659304904</td>\n",
       "      <td>0</td>\n",
       "    </tr>\n",
       "    <tr>\n",
       "      <th>2</th>\n",
       "      <td>0</td>\n",
       "      <td>1309446</td>\n",
       "      <td>1659367439</td>\n",
       "      <td>0</td>\n",
       "    </tr>\n",
       "    <tr>\n",
       "      <th>3</th>\n",
       "      <td>0</td>\n",
       "      <td>16246</td>\n",
       "      <td>1659367719</td>\n",
       "      <td>0</td>\n",
       "    </tr>\n",
       "    <tr>\n",
       "      <th>4</th>\n",
       "      <td>0</td>\n",
       "      <td>1781822</td>\n",
       "      <td>1659367871</td>\n",
       "      <td>0</td>\n",
       "    </tr>\n",
       "  </tbody>\n",
       "</table>\n",
       "</div>"
      ],
      "text/plain": [
       "   session      aid          ts  type\n",
       "0        0  1517085  1659304800     0\n",
       "1        0  1563459  1659304904     0\n",
       "2        0  1309446  1659367439     0\n",
       "3        0    16246  1659367719     0\n",
       "4        0  1781822  1659367871     0"
      ]
     },
     "execution_count": null,
     "metadata": {},
     "output_type": "execute_result"
    }
   ],
   "source": [
    "train.head()"
   ]
  },
  {
   "cell_type": "code",
   "execution_count": null,
   "metadata": {},
   "outputs": [
    {
     "data": {
      "text/html": [
       "<div>\n",
       "<style scoped>\n",
       "    .dataframe tbody tr th:only-of-type {\n",
       "        vertical-align: middle;\n",
       "    }\n",
       "\n",
       "    .dataframe tbody tr th {\n",
       "        vertical-align: top;\n",
       "    }\n",
       "\n",
       "    .dataframe thead th {\n",
       "        text-align: right;\n",
       "    }\n",
       "</style>\n",
       "<table border=\"1\" class=\"dataframe\">\n",
       "  <thead>\n",
       "    <tr style=\"text-align: right;\">\n",
       "      <th></th>\n",
       "      <th>session</th>\n",
       "      <th>aid</th>\n",
       "      <th>ts</th>\n",
       "      <th>type</th>\n",
       "    </tr>\n",
       "  </thead>\n",
       "  <tbody>\n",
       "    <tr>\n",
       "      <th>0</th>\n",
       "      <td>12899779</td>\n",
       "      <td>59625</td>\n",
       "      <td>1661724000</td>\n",
       "      <td>0</td>\n",
       "    </tr>\n",
       "    <tr>\n",
       "      <th>1</th>\n",
       "      <td>12899780</td>\n",
       "      <td>1142000</td>\n",
       "      <td>1661724000</td>\n",
       "      <td>0</td>\n",
       "    </tr>\n",
       "    <tr>\n",
       "      <th>2</th>\n",
       "      <td>12899780</td>\n",
       "      <td>582732</td>\n",
       "      <td>1661724058</td>\n",
       "      <td>0</td>\n",
       "    </tr>\n",
       "    <tr>\n",
       "      <th>3</th>\n",
       "      <td>12899780</td>\n",
       "      <td>973453</td>\n",
       "      <td>1661724109</td>\n",
       "      <td>0</td>\n",
       "    </tr>\n",
       "    <tr>\n",
       "      <th>4</th>\n",
       "      <td>12899780</td>\n",
       "      <td>736515</td>\n",
       "      <td>1661724136</td>\n",
       "      <td>0</td>\n",
       "    </tr>\n",
       "  </tbody>\n",
       "</table>\n",
       "</div>"
      ],
      "text/plain": [
       "    session      aid          ts  type\n",
       "0  12899779    59625  1661724000     0\n",
       "1  12899780  1142000  1661724000     0\n",
       "2  12899780   582732  1661724058     0\n",
       "3  12899780   973453  1661724109     0\n",
       "4  12899780   736515  1661724136     0"
      ]
     },
     "execution_count": null,
     "metadata": {},
     "output_type": "execute_result"
    }
   ],
   "source": [
    "test.head()"
   ]
  },
  {
   "cell_type": "code",
   "execution_count": null,
   "metadata": {},
   "outputs": [
    {
     "data": {
      "text/html": [
       "<div>\n",
       "<style scoped>\n",
       "    .dataframe tbody tr th:only-of-type {\n",
       "        vertical-align: middle;\n",
       "    }\n",
       "\n",
       "    .dataframe tbody tr th {\n",
       "        vertical-align: top;\n",
       "    }\n",
       "\n",
       "    .dataframe thead th {\n",
       "        text-align: right;\n",
       "    }\n",
       "</style>\n",
       "<table border=\"1\" class=\"dataframe\">\n",
       "  <thead>\n",
       "    <tr style=\"text-align: right;\">\n",
       "      <th></th>\n",
       "      <th>session_type</th>\n",
       "      <th>labels</th>\n",
       "    </tr>\n",
       "  </thead>\n",
       "  <tbody>\n",
       "    <tr>\n",
       "      <th>0</th>\n",
       "      <td>12899779_clicks</td>\n",
       "      <td>129004 126836 118524</td>\n",
       "    </tr>\n",
       "    <tr>\n",
       "      <th>1</th>\n",
       "      <td>12899779_carts</td>\n",
       "      <td>129004 126836 118524</td>\n",
       "    </tr>\n",
       "    <tr>\n",
       "      <th>2</th>\n",
       "      <td>12899779_orders</td>\n",
       "      <td>129004 126836 118524</td>\n",
       "    </tr>\n",
       "    <tr>\n",
       "      <th>3</th>\n",
       "      <td>12899780_clicks</td>\n",
       "      <td>129004 126836 118524</td>\n",
       "    </tr>\n",
       "    <tr>\n",
       "      <th>4</th>\n",
       "      <td>12899780_carts</td>\n",
       "      <td>129004 126836 118524</td>\n",
       "    </tr>\n",
       "  </tbody>\n",
       "</table>\n",
       "</div>"
      ],
      "text/plain": [
       "      session_type                labels\n",
       "0  12899779_clicks  129004 126836 118524\n",
       "1   12899779_carts  129004 126836 118524\n",
       "2  12899779_orders  129004 126836 118524\n",
       "3  12899780_clicks  129004 126836 118524\n",
       "4   12899780_carts  129004 126836 118524"
      ]
     },
     "execution_count": null,
     "metadata": {},
     "output_type": "execute_result"
    }
   ],
   "source": [
    "sample_sub.head()"
   ]
  },
  {
   "cell_type": "markdown",
   "metadata": {},
   "source": [
    "## rd: recsys - otto - covisitation_simplified - taking subset for fast experiment"
   ]
  },
  {
   "cell_type": "markdown",
   "metadata": {},
   "source": [
    "### rd: recsys - otto - covisitation_simplified - subset based on entire sessions, train.drop_duplicates(['session']).sample(frac=fraction_of_sessions_to_use, random_state=42)['session'], train[train.session.isin(lucky_sessions_train)]"
   ]
  },
  {
   "cell_type": "code",
   "execution_count": null,
   "metadata": {},
   "outputs": [],
   "source": [
    "fraction_of_sessions_to_use = 0.000001 # 0.001 is recommended, but 0.000001 can finish in less than 4 minutes"
   ]
  },
  {
   "cell_type": "code",
   "execution_count": null,
   "metadata": {},
   "outputs": [
    {
     "data": {
      "text/plain": [
       "(216716096, 4)"
      ]
     },
     "execution_count": null,
     "metadata": {},
     "output_type": "execute_result"
    }
   ],
   "source": [
    "train.shape # how many rows"
   ]
  },
  {
   "cell_type": "code",
   "execution_count": null,
   "metadata": {},
   "outputs": [
    {
     "data": {
      "text/plain": [
       "(12899779, 4)"
      ]
     },
     "execution_count": null,
     "metadata": {},
     "output_type": "execute_result"
    }
   ],
   "source": [
    "train.drop_duplicates(['session']).shape # how many unique sessions (drop rows with the same session)"
   ]
  },
  {
   "cell_type": "code",
   "execution_count": null,
   "metadata": {},
   "outputs": [
    {
     "data": {
      "text/plain": [
       "(217,)"
      ]
     },
     "execution_count": null,
     "metadata": {},
     "output_type": "execute_result"
    }
   ],
   "source": [
    "subset_of_train_no_duplicate = train.sample(frac=fraction_of_sessions_to_use, random_state=42)['session']\n",
    "subset_of_train_no_duplicate.shape # take 0.000001 from entire train"
   ]
  },
  {
   "cell_type": "code",
   "execution_count": null,
   "metadata": {},
   "outputs": [
    {
     "data": {
      "text/plain": [
       "(13,)"
      ]
     },
     "execution_count": null,
     "metadata": {},
     "output_type": "execute_result"
    }
   ],
   "source": [
    "lucky_sessions_train = train.drop_duplicates(['session']).sample(frac=fraction_of_sessions_to_use, random_state=42)['session']\n",
    "lucky_sessions_train.shape # take 0.000001 from a dataframe in which each row is an unique session"
   ]
  },
  {
   "cell_type": "code",
   "execution_count": null,
   "metadata": {},
   "outputs": [
    {
     "data": {
      "text/plain": [
       "161074658    7345999\n",
       "136385904    5537326\n",
       "165592490    7723696\n",
       "134046856    5390256\n",
       "136142264    5521908\n",
       "Name: session, dtype: int32"
      ]
     },
     "execution_count": null,
     "metadata": {},
     "output_type": "execute_result"
    },
    {
     "data": {
      "text/plain": [
       "0    7345999\n",
       "1    5537326\n",
       "2    7723696\n",
       "3    5390256\n",
       "4    5521908\n",
       "Name: session, dtype: int32"
      ]
     },
     "execution_count": null,
     "metadata": {},
     "output_type": "execute_result"
    }
   ],
   "source": [
    "lucky_sessions_train.head()\n",
    "lucky_sessions_train.reset_index(drop=True).head() # make index easier to see"
   ]
  },
  {
   "cell_type": "code",
   "execution_count": null,
   "metadata": {},
   "outputs": [
    {
     "data": {
      "text/plain": [
       "116"
      ]
     },
     "execution_count": null,
     "metadata": {},
     "output_type": "execute_result"
    }
   ],
   "source": [
    "train.session.isin(lucky_sessions_train).sum() # how many rows under the 13 sessions"
   ]
  },
  {
   "cell_type": "code",
   "execution_count": null,
   "metadata": {},
   "outputs": [],
   "source": [
    "if fraction_of_sessions_to_use != 1:\n",
    "    lucky_sessions_train = train.drop_duplicates(['session']).sample(frac=fraction_of_sessions_to_use, random_state=42)['session']\n",
    "    subset_of_train = train[train.session.isin(lucky_sessions_train)]\n",
    "    \n",
    "    lucky_sessions_test = test.drop_duplicates(['session']).sample(frac=fraction_of_sessions_to_use, random_state=42)['session']\n",
    "    subset_of_test = test[test.session.isin(lucky_sessions_test)]\n",
    "else:\n",
    "    subset_of_train = train\n",
    "    subset_of_test = test"
   ]
  },
  {
   "cell_type": "code",
   "execution_count": null,
   "metadata": {},
   "outputs": [
    {
     "data": {
      "text/plain": [
       "(116, 4)"
      ]
     },
     "execution_count": null,
     "metadata": {},
     "output_type": "execute_result"
    }
   ],
   "source": [
    "subset_of_train.shape"
   ]
  },
  {
   "cell_type": "code",
   "execution_count": null,
   "metadata": {},
   "outputs": [
    {
     "data": {
      "text/html": [
       "<div>\n",
       "<style scoped>\n",
       "    .dataframe tbody tr th:only-of-type {\n",
       "        vertical-align: middle;\n",
       "    }\n",
       "\n",
       "    .dataframe tbody tr th {\n",
       "        vertical-align: top;\n",
       "    }\n",
       "\n",
       "    .dataframe thead th {\n",
       "        text-align: right;\n",
       "    }\n",
       "</style>\n",
       "<table border=\"1\" class=\"dataframe\">\n",
       "  <thead>\n",
       "    <tr style=\"text-align: right;\">\n",
       "      <th></th>\n",
       "      <th>session</th>\n",
       "      <th>aid</th>\n",
       "      <th>ts</th>\n",
       "      <th>type</th>\n",
       "    </tr>\n",
       "  </thead>\n",
       "  <tbody>\n",
       "    <tr>\n",
       "      <th>47752837</th>\n",
       "      <td>1252181</td>\n",
       "      <td>1150072</td>\n",
       "      <td>1659396245</td>\n",
       "      <td>0</td>\n",
       "    </tr>\n",
       "    <tr>\n",
       "      <th>47752838</th>\n",
       "      <td>1252181</td>\n",
       "      <td>1053941</td>\n",
       "      <td>1659839377</td>\n",
       "      <td>0</td>\n",
       "    </tr>\n",
       "    <tr>\n",
       "      <th>47752839</th>\n",
       "      <td>1252181</td>\n",
       "      <td>1412178</td>\n",
       "      <td>1659839582</td>\n",
       "      <td>0</td>\n",
       "    </tr>\n",
       "    <tr>\n",
       "      <th>47752840</th>\n",
       "      <td>1252181</td>\n",
       "      <td>1412178</td>\n",
       "      <td>1659839601</td>\n",
       "      <td>1</td>\n",
       "    </tr>\n",
       "    <tr>\n",
       "      <th>47752841</th>\n",
       "      <td>1252181</td>\n",
       "      <td>567959</td>\n",
       "      <td>1659839627</td>\n",
       "      <td>0</td>\n",
       "    </tr>\n",
       "    <tr>\n",
       "      <th>...</th>\n",
       "      <td>...</td>\n",
       "      <td>...</td>\n",
       "      <td>...</td>\n",
       "      <td>...</td>\n",
       "    </tr>\n",
       "    <tr>\n",
       "      <th>209483943</th>\n",
       "      <td>12014664</td>\n",
       "      <td>635761</td>\n",
       "      <td>1661429463</td>\n",
       "      <td>0</td>\n",
       "    </tr>\n",
       "    <tr>\n",
       "      <th>209483944</th>\n",
       "      <td>12014664</td>\n",
       "      <td>635761</td>\n",
       "      <td>1661429657</td>\n",
       "      <td>1</td>\n",
       "    </tr>\n",
       "    <tr>\n",
       "      <th>209483945</th>\n",
       "      <td>12014664</td>\n",
       "      <td>635761</td>\n",
       "      <td>1661429811</td>\n",
       "      <td>1</td>\n",
       "    </tr>\n",
       "    <tr>\n",
       "      <th>209483946</th>\n",
       "      <td>12014664</td>\n",
       "      <td>1765902</td>\n",
       "      <td>1661429871</td>\n",
       "      <td>0</td>\n",
       "    </tr>\n",
       "    <tr>\n",
       "      <th>209483947</th>\n",
       "      <td>12014664</td>\n",
       "      <td>635761</td>\n",
       "      <td>1661429890</td>\n",
       "      <td>0</td>\n",
       "    </tr>\n",
       "  </tbody>\n",
       "</table>\n",
       "<p>116 rows × 4 columns</p>\n",
       "</div>"
      ],
      "text/plain": [
       "            session      aid          ts  type\n",
       "47752837    1252181  1150072  1659396245     0\n",
       "47752838    1252181  1053941  1659839377     0\n",
       "47752839    1252181  1412178  1659839582     0\n",
       "47752840    1252181  1412178  1659839601     1\n",
       "47752841    1252181   567959  1659839627     0\n",
       "...             ...      ...         ...   ...\n",
       "209483943  12014664   635761  1661429463     0\n",
       "209483944  12014664   635761  1661429657     1\n",
       "209483945  12014664   635761  1661429811     1\n",
       "209483946  12014664  1765902  1661429871     0\n",
       "209483947  12014664   635761  1661429890     0\n",
       "\n",
       "[116 rows x 4 columns]"
      ]
     },
     "execution_count": null,
     "metadata": {},
     "output_type": "execute_result"
    }
   ],
   "source": [
    "subset_of_train"
   ]
  },
  {
   "cell_type": "markdown",
   "metadata": {},
   "source": [
    "## rd: recsys - otto - covisitation_simplified - some setups before training"
   ]
  },
  {
   "cell_type": "markdown",
   "metadata": {},
   "source": [
    "### rd: recsys - otto - covisitation_simplified - use session column as index, subset_of_train.index = pd.MultiIndex.from_frame(subset_of_train[['session']]), [['session']] as Series not DataFrame"
   ]
  },
  {
   "cell_type": "code",
   "execution_count": null,
   "metadata": {},
   "outputs": [
    {
     "data": {
      "text/plain": [
       "(            session\n",
       " 47752837    1252181\n",
       " 47752838    1252181\n",
       " 47752839    1252181\n",
       " 47752840    1252181\n",
       " 47752841    1252181\n",
       " ...             ...\n",
       " 209483943  12014664\n",
       " 209483944  12014664\n",
       " 209483945  12014664\n",
       " 209483946  12014664\n",
       " 209483947  12014664\n",
       " \n",
       " [116 rows x 1 columns],\n",
       " 47752837      1252181\n",
       " 47752838      1252181\n",
       " 47752839      1252181\n",
       " 47752840      1252181\n",
       " 47752841      1252181\n",
       "                ...   \n",
       " 209483943    12014664\n",
       " 209483944    12014664\n",
       " 209483945    12014664\n",
       " 209483946    12014664\n",
       " 209483947    12014664\n",
       " Name: session, Length: 116, dtype: int32)"
      ]
     },
     "execution_count": null,
     "metadata": {},
     "output_type": "execute_result"
    }
   ],
   "source": [
    "# see the difference between \n",
    "subset_of_train[['session']], subset_of_train['session']"
   ]
  },
  {
   "cell_type": "code",
   "execution_count": null,
   "metadata": {},
   "outputs": [
    {
     "data": {
      "text/html": [
       "<div>\n",
       "<style scoped>\n",
       "    .dataframe tbody tr th:only-of-type {\n",
       "        vertical-align: middle;\n",
       "    }\n",
       "\n",
       "    .dataframe tbody tr th {\n",
       "        vertical-align: top;\n",
       "    }\n",
       "\n",
       "    .dataframe thead th {\n",
       "        text-align: right;\n",
       "    }\n",
       "</style>\n",
       "<table border=\"1\" class=\"dataframe\">\n",
       "  <thead>\n",
       "    <tr style=\"text-align: right;\">\n",
       "      <th></th>\n",
       "      <th>session</th>\n",
       "      <th>aid</th>\n",
       "      <th>ts</th>\n",
       "      <th>type</th>\n",
       "    </tr>\n",
       "    <tr>\n",
       "      <th>session</th>\n",
       "      <th></th>\n",
       "      <th></th>\n",
       "      <th></th>\n",
       "      <th></th>\n",
       "    </tr>\n",
       "  </thead>\n",
       "  <tbody>\n",
       "    <tr>\n",
       "      <th>1252181</th>\n",
       "      <td>1252181</td>\n",
       "      <td>1150072</td>\n",
       "      <td>1659396245</td>\n",
       "      <td>0</td>\n",
       "    </tr>\n",
       "    <tr>\n",
       "      <th>1252181</th>\n",
       "      <td>1252181</td>\n",
       "      <td>1053941</td>\n",
       "      <td>1659839377</td>\n",
       "      <td>0</td>\n",
       "    </tr>\n",
       "    <tr>\n",
       "      <th>1252181</th>\n",
       "      <td>1252181</td>\n",
       "      <td>1412178</td>\n",
       "      <td>1659839582</td>\n",
       "      <td>0</td>\n",
       "    </tr>\n",
       "    <tr>\n",
       "      <th>1252181</th>\n",
       "      <td>1252181</td>\n",
       "      <td>1412178</td>\n",
       "      <td>1659839601</td>\n",
       "      <td>1</td>\n",
       "    </tr>\n",
       "    <tr>\n",
       "      <th>1252181</th>\n",
       "      <td>1252181</td>\n",
       "      <td>567959</td>\n",
       "      <td>1659839627</td>\n",
       "      <td>0</td>\n",
       "    </tr>\n",
       "    <tr>\n",
       "      <th>...</th>\n",
       "      <td>...</td>\n",
       "      <td>...</td>\n",
       "      <td>...</td>\n",
       "      <td>...</td>\n",
       "    </tr>\n",
       "    <tr>\n",
       "      <th>12014664</th>\n",
       "      <td>12014664</td>\n",
       "      <td>635761</td>\n",
       "      <td>1661429463</td>\n",
       "      <td>0</td>\n",
       "    </tr>\n",
       "    <tr>\n",
       "      <th>12014664</th>\n",
       "      <td>12014664</td>\n",
       "      <td>635761</td>\n",
       "      <td>1661429657</td>\n",
       "      <td>1</td>\n",
       "    </tr>\n",
       "    <tr>\n",
       "      <th>12014664</th>\n",
       "      <td>12014664</td>\n",
       "      <td>635761</td>\n",
       "      <td>1661429811</td>\n",
       "      <td>1</td>\n",
       "    </tr>\n",
       "    <tr>\n",
       "      <th>12014664</th>\n",
       "      <td>12014664</td>\n",
       "      <td>1765902</td>\n",
       "      <td>1661429871</td>\n",
       "      <td>0</td>\n",
       "    </tr>\n",
       "    <tr>\n",
       "      <th>12014664</th>\n",
       "      <td>12014664</td>\n",
       "      <td>635761</td>\n",
       "      <td>1661429890</td>\n",
       "      <td>0</td>\n",
       "    </tr>\n",
       "  </tbody>\n",
       "</table>\n",
       "<p>116 rows × 4 columns</p>\n",
       "</div>"
      ],
      "text/plain": [
       "           session      aid          ts  type\n",
       "session                                      \n",
       "1252181    1252181  1150072  1659396245     0\n",
       "1252181    1252181  1053941  1659839377     0\n",
       "1252181    1252181  1412178  1659839582     0\n",
       "1252181    1252181  1412178  1659839601     1\n",
       "1252181    1252181   567959  1659839627     0\n",
       "...            ...      ...         ...   ...\n",
       "12014664  12014664   635761  1661429463     0\n",
       "12014664  12014664   635761  1661429657     1\n",
       "12014664  12014664   635761  1661429811     1\n",
       "12014664  12014664  1765902  1661429871     0\n",
       "12014664  12014664   635761  1661429890     0\n",
       "\n",
       "[116 rows x 4 columns]"
      ]
     },
     "execution_count": null,
     "metadata": {},
     "output_type": "execute_result"
    }
   ],
   "source": [
    "subset_of_train.index = pd.MultiIndex.from_frame(subset_of_train[['session']])\n",
    "subset_of_train"
   ]
  },
  {
   "cell_type": "code",
   "execution_count": null,
   "metadata": {},
   "outputs": [
    {
     "data": {
      "text/html": [
       "<div>\n",
       "<style scoped>\n",
       "    .dataframe tbody tr th:only-of-type {\n",
       "        vertical-align: middle;\n",
       "    }\n",
       "\n",
       "    .dataframe tbody tr th {\n",
       "        vertical-align: top;\n",
       "    }\n",
       "\n",
       "    .dataframe thead th {\n",
       "        text-align: right;\n",
       "    }\n",
       "</style>\n",
       "<table border=\"1\" class=\"dataframe\">\n",
       "  <thead>\n",
       "    <tr style=\"text-align: right;\">\n",
       "      <th></th>\n",
       "      <th>session</th>\n",
       "      <th>aid</th>\n",
       "      <th>ts</th>\n",
       "      <th>type</th>\n",
       "    </tr>\n",
       "    <tr>\n",
       "      <th>session</th>\n",
       "      <th></th>\n",
       "      <th></th>\n",
       "      <th></th>\n",
       "      <th></th>\n",
       "    </tr>\n",
       "  </thead>\n",
       "  <tbody>\n",
       "    <tr>\n",
       "      <th>13993132</th>\n",
       "      <td>13993132</td>\n",
       "      <td>1096609</td>\n",
       "      <td>1662115398</td>\n",
       "      <td>0</td>\n",
       "    </tr>\n",
       "    <tr>\n",
       "      <th>14088154</th>\n",
       "      <td>14088154</td>\n",
       "      <td>14170</td>\n",
       "      <td>1662144895</td>\n",
       "      <td>0</td>\n",
       "    </tr>\n",
       "  </tbody>\n",
       "</table>\n",
       "</div>"
      ],
      "text/plain": [
       "           session      aid          ts  type\n",
       "session                                      \n",
       "13993132  13993132  1096609  1662115398     0\n",
       "14088154  14088154    14170  1662144895     0"
      ]
     },
     "execution_count": null,
     "metadata": {},
     "output_type": "execute_result"
    }
   ],
   "source": [
    "subset_of_test.index = pd.MultiIndex.from_frame(subset_of_test[['session']])\n",
    "subset_of_test"
   ]
  },
  {
   "cell_type": "markdown",
   "metadata": {},
   "source": [
    "### rd: recsys - otto - covisitation_simplified - get starting and end timestamp for all sessions from start of training set to end of test set, train.ts.min() test.ts.max()"
   ]
  },
  {
   "cell_type": "code",
   "execution_count": null,
   "metadata": {},
   "outputs": [
    {
     "data": {
      "text/plain": [
       "(1659304800, 1662328791)"
      ]
     },
     "execution_count": null,
     "metadata": {},
     "output_type": "execute_result"
    }
   ],
   "source": [
    "min_ts = train.ts.min()\n",
    "max_ts = test.ts.max()\n",
    "\n",
    "min_ts, max_ts"
   ]
  },
  {
   "cell_type": "markdown",
   "metadata": {},
   "source": [
    "### rd: recsys - otto - covisitation_simplified - use defaultdict + Counter to count occurences, next_AIDs = defaultdict(Counter)"
   ]
  },
  {
   "cell_type": "code",
   "execution_count": null,
   "metadata": {},
   "outputs": [
    {
     "data": {
      "text/plain": [
       "defaultdict(collections.Counter, {})"
      ]
     },
     "execution_count": null,
     "metadata": {},
     "output_type": "execute_result"
    }
   ],
   "source": [
    "from collections import defaultdict, Counter\n",
    "next_AIDs = defaultdict(Counter)\n",
    "next_AIDs"
   ]
  },
  {
   "cell_type": "markdown",
   "metadata": {},
   "source": [
    "### rd: recsys - otto - covisitation_simplified - use test for training, get subsets, sessions, sessions_train, sessions_test - subsets = pd.concat([subset_of_train, subset_of_test]) - sessions = subsets.session.unique()"
   ]
  },
  {
   "cell_type": "code",
   "execution_count": null,
   "metadata": {},
   "outputs": [
    {
     "data": {
      "text/plain": [
       "(15, 13, 2)"
      ]
     },
     "execution_count": null,
     "metadata": {},
     "output_type": "execute_result"
    }
   ],
   "source": [
    "subsets = pd.concat([subset_of_train, subset_of_test]) # use test set for training too\n",
    "sessions = subsets.session.unique() # unique sessions in subsets\n",
    "sessions_train = subset_of_train.session.unique() # unique sessions in train\n",
    "sessions_test = subset_of_test.session.unique() # unique sessions in test\n",
    "len(sessions), len(sessions_train), len(sessions_test)"
   ]
  },
  {
   "cell_type": "code",
   "execution_count": null,
   "metadata": {},
   "outputs": [
    {
     "data": {
      "text/html": [
       "<div>\n",
       "<style scoped>\n",
       "    .dataframe tbody tr th:only-of-type {\n",
       "        vertical-align: middle;\n",
       "    }\n",
       "\n",
       "    .dataframe tbody tr th {\n",
       "        vertical-align: top;\n",
       "    }\n",
       "\n",
       "    .dataframe thead th {\n",
       "        text-align: right;\n",
       "    }\n",
       "</style>\n",
       "<table border=\"1\" class=\"dataframe\">\n",
       "  <thead>\n",
       "    <tr style=\"text-align: right;\">\n",
       "      <th></th>\n",
       "      <th>session</th>\n",
       "      <th>aid</th>\n",
       "      <th>ts</th>\n",
       "      <th>type</th>\n",
       "    </tr>\n",
       "    <tr>\n",
       "      <th>session</th>\n",
       "      <th></th>\n",
       "      <th></th>\n",
       "      <th></th>\n",
       "      <th></th>\n",
       "    </tr>\n",
       "  </thead>\n",
       "  <tbody>\n",
       "    <tr>\n",
       "      <th>1252181</th>\n",
       "      <td>1252181</td>\n",
       "      <td>1150072</td>\n",
       "      <td>1659396245</td>\n",
       "      <td>0</td>\n",
       "    </tr>\n",
       "    <tr>\n",
       "      <th>1252181</th>\n",
       "      <td>1252181</td>\n",
       "      <td>1053941</td>\n",
       "      <td>1659839377</td>\n",
       "      <td>0</td>\n",
       "    </tr>\n",
       "    <tr>\n",
       "      <th>1252181</th>\n",
       "      <td>1252181</td>\n",
       "      <td>1412178</td>\n",
       "      <td>1659839582</td>\n",
       "      <td>0</td>\n",
       "    </tr>\n",
       "    <tr>\n",
       "      <th>1252181</th>\n",
       "      <td>1252181</td>\n",
       "      <td>1412178</td>\n",
       "      <td>1659839601</td>\n",
       "      <td>1</td>\n",
       "    </tr>\n",
       "    <tr>\n",
       "      <th>1252181</th>\n",
       "      <td>1252181</td>\n",
       "      <td>567959</td>\n",
       "      <td>1659839627</td>\n",
       "      <td>0</td>\n",
       "    </tr>\n",
       "    <tr>\n",
       "      <th>...</th>\n",
       "      <td>...</td>\n",
       "      <td>...</td>\n",
       "      <td>...</td>\n",
       "      <td>...</td>\n",
       "    </tr>\n",
       "    <tr>\n",
       "      <th>12014664</th>\n",
       "      <td>12014664</td>\n",
       "      <td>635761</td>\n",
       "      <td>1661429811</td>\n",
       "      <td>1</td>\n",
       "    </tr>\n",
       "    <tr>\n",
       "      <th>12014664</th>\n",
       "      <td>12014664</td>\n",
       "      <td>1765902</td>\n",
       "      <td>1661429871</td>\n",
       "      <td>0</td>\n",
       "    </tr>\n",
       "    <tr>\n",
       "      <th>12014664</th>\n",
       "      <td>12014664</td>\n",
       "      <td>635761</td>\n",
       "      <td>1661429890</td>\n",
       "      <td>0</td>\n",
       "    </tr>\n",
       "    <tr>\n",
       "      <th>13993132</th>\n",
       "      <td>13993132</td>\n",
       "      <td>1096609</td>\n",
       "      <td>1662115398</td>\n",
       "      <td>0</td>\n",
       "    </tr>\n",
       "    <tr>\n",
       "      <th>14088154</th>\n",
       "      <td>14088154</td>\n",
       "      <td>14170</td>\n",
       "      <td>1662144895</td>\n",
       "      <td>0</td>\n",
       "    </tr>\n",
       "  </tbody>\n",
       "</table>\n",
       "<p>118 rows × 4 columns</p>\n",
       "</div>"
      ],
      "text/plain": [
       "           session      aid          ts  type\n",
       "session                                      \n",
       "1252181    1252181  1150072  1659396245     0\n",
       "1252181    1252181  1053941  1659839377     0\n",
       "1252181    1252181  1412178  1659839582     0\n",
       "1252181    1252181  1412178  1659839601     1\n",
       "1252181    1252181   567959  1659839627     0\n",
       "...            ...      ...         ...   ...\n",
       "12014664  12014664   635761  1661429811     1\n",
       "12014664  12014664  1765902  1661429871     0\n",
       "12014664  12014664   635761  1661429890     0\n",
       "13993132  13993132  1096609  1662115398     0\n",
       "14088154  14088154    14170  1662144895     0\n",
       "\n",
       "[118 rows x 4 columns]"
      ]
     },
     "execution_count": null,
     "metadata": {},
     "output_type": "execute_result"
    }
   ],
   "source": [
    "subsets"
   ]
  },
  {
   "cell_type": "code",
   "execution_count": null,
   "metadata": {},
   "outputs": [
    {
     "data": {
      "text/plain": [
       "(array([1252181, 4769706, 5390256, 5521908, 5537326], dtype=int32),\n",
       " array([10523604, 10556736, 12014664, 13993132, 14088154], dtype=int32),\n",
       " array([1252181, 4769706, 5390256, 5521908, 5537326], dtype=int32),\n",
       " array([13993132, 14088154], dtype=int32))"
      ]
     },
     "execution_count": null,
     "metadata": {},
     "output_type": "execute_result"
    }
   ],
   "source": [
    "sessions[:5], sessions[-5:], sessions_train[:5], sessions_test[-5:]"
   ]
  },
  {
   "cell_type": "markdown",
   "metadata": {},
   "source": [
    "## rd: recsys - otto - covisitation_simplified - Training: when one aid occurred, keep track of what other aid occurred, how often they occurred. Do this for every aid across both train and test sessions."
   ]
  },
  {
   "cell_type": "markdown",
   "metadata": {},
   "source": [
    "### rd: recsys - otto - covisitation_simplified - loop every chunk_size number unique sessions - for i in range(0, sessions.shape[0], chunk_size): \n",
    "### rd: recsys - otto - covisitation_simplified - take a chunk_size number of sessions (each session in its entirety, ie, probably with many rows) from subsets as current_chunk - current_chunk = subsets.loc[sessions[i]:sessions[min(sessions.shape[0]-1, i+chunk_size-1)]].reset_index(drop=True) "
   ]
  },
  {
   "cell_type": "code",
   "execution_count": null,
   "metadata": {},
   "outputs": [
    {
     "name": "stderr",
     "output_type": "stream",
     "text": [
      "13:32:49.68 LOG:\n",
      "13:32:49.69 .... i = 0\n",
      "13:32:49.69 .... sessions[i] = 1252181\n",
      "13:32:49.69 .... sessions.shape[0]-1 = 14\n",
      "13:32:49.69 .... i+chunk_size-1 = 29999\n",
      "13:32:49.70 .... min(sessions.shape[0]-1, i+chunk_size-1) = 14\n"
     ]
    },
    {
     "data": {
      "text/plain": [
       "(0, 1252181, 14, 29999, 14)"
      ]
     },
     "execution_count": null,
     "metadata": {},
     "output_type": "execute_result"
    },
    {
     "name": "stderr",
     "output_type": "stream",
     "text": [
      "13:32:49.70 LOG:\n",
      "13:32:49.71 .... current_chunk.head() =    session      aid          ts  type\n",
      "13:32:49.71                             0  1252181  1150072  1659396245     0\n",
      "13:32:49.71                             1  1252181  1053941  1659839377     0\n",
      "13:32:49.71                             2  1252181  1412178  1659839582     0\n",
      "13:32:49.71                             3  1252181  1412178  1659839601     1\n",
      "13:32:49.71                             4  1252181   567959  1659839627     0\n",
      "13:32:49.72 .... current_chunk.tail() =       session      aid          ts  type\n",
      "13:32:49.72                             113  12014664   635761  1661429811     1\n",
      "13:32:49.72                             114  12014664  1765902  1661429871     0\n",
      "13:32:49.72                             115  12014664   635761  1661429890     0\n",
      "13:32:49.72                             116  13993132  1096609  1662115398     0\n",
      "13:32:49.72                             117  14088154    14170  1662144895     0\n"
     ]
    },
    {
     "data": {
      "text/plain": [
       "(   session      aid          ts  type\n",
       " 0  1252181  1150072  1659396245     0\n",
       " 1  1252181  1053941  1659839377     0\n",
       " 2  1252181  1412178  1659839582     0\n",
       " 3  1252181  1412178  1659839601     1\n",
       " 4  1252181   567959  1659839627     0,\n",
       "       session      aid          ts  type\n",
       " 113  12014664   635761  1661429811     1\n",
       " 114  12014664  1765902  1661429871     0\n",
       " 115  12014664   635761  1661429890     0\n",
       " 116  13993132  1096609  1662115398     0\n",
       " 117  14088154    14170  1662144895     0)"
      ]
     },
     "execution_count": null,
     "metadata": {},
     "output_type": "execute_result"
    }
   ],
   "source": [
    "chunk_size = 30_000\n",
    "\n",
    "for i in range(0, sessions.shape[0], chunk_size): # loop every 30_000 unique sessions\n",
    "    \n",
    "    #### take a chunk_size number of sessions (each session in its entirety, ie., many rows) from subsets as current_chunk\n",
    "    \n",
    "    pp(i, sessions[i], sessions.shape[0]-1, i+chunk_size-1, min(sessions.shape[0]-1, i+chunk_size-1))\n",
    "    current_chunk = subsets.loc[sessions[i]:sessions[min(sessions.shape[0]-1, i+chunk_size-1)]].reset_index(drop=True) # to remove index column\n",
    "    pp(current_chunk.head(), current_chunk.tail())\n",
    "    break\n",
    "\n",
    "    #### In current_chunk, from each session (in its entirety) only takes the last/latest 30 events and combine them to update current_chunk\n",
    "#     pp(range(-30,0), list(range(-30,0)))\n",
    "    current_chunk = current_chunk.groupby('session', as_index=False).nth(list(range(-30,0))).reset_index(drop=True)\n",
    "#     pp(current_chunk[:31], current_chunk[30:61])\n",
    "#     pp(doc_sig(pd.DataFrame.reset_index))\n",
    "#     pp(doc_sig(current_chunk.groupby('session', as_index=False).nth))\n",
    "\n",
    "    #### merge an session of its entirety onto itself (help to see the relation between one aid and every other aid within each session)\n",
    "    consecutive_AIDs = current_chunk.merge(current_chunk, on='session')\n",
    "#     pp(consecutive_AIDs[:30])\n",
    "#     pp(consecutive_AIDs[29:61])\n",
    "\n",
    "    #### remove all the rows which aid_x == aid_y (remove the row when the two articles are the same)\n",
    "    consecutive_AIDs = consecutive_AIDs[consecutive_AIDs.aid_x != consecutive_AIDs.aid_y]\n",
    "    \n",
    "    #### add a column named 'days_elapsed' which shows how many days passed between the two aids in a session\n",
    "    consecutive_AIDs['days_elapsed'] = (consecutive_AIDs.ts_y - consecutive_AIDs.ts_x) / (24 * 60 * 60)\n",
    "#     pp(consecutive_AIDs[:61])\n",
    "\n",
    "    #### keep the rows if the two aids of a session are occurred within the same day on the right order\n",
    "    consecutive_AIDs = consecutive_AIDs[(consecutive_AIDs.days_elapsed >= 0) & (consecutive_AIDs.days_elapsed <= 1)]\n",
    "    \n",
    "    #### among all sessions or all users, for each article occurred, count how often the other articles are occurred\n",
    "    for aid_x, aid_y in zip(consecutive_AIDs['aid_x'], consecutive_AIDs['aid_y']):\n",
    "        next_AIDs[aid_x][aid_y] += 1\n",
    "    "
   ]
  },
  {
   "cell_type": "markdown",
   "metadata": {},
   "source": [
    "### rd: recsys - otto - covisitation_simplified - In current_chunk, from each session (in its entirety) only takes the last/latest 30 events/rows and combine them to update current_chunk (focus on the latest 30 events to save computations) - current_chunk = current_chunk.groupby('session', as_index=False).nth(list(range(-30,0))).reset_index(drop=True)"
   ]
  },
  {
   "cell_type": "code",
   "execution_count": null,
   "metadata": {},
   "outputs": [
    {
     "name": "stderr",
     "output_type": "stream",
     "text": [
      "13:32:49.74 LOG:\n",
      "13:32:49.76 .... range(-30,0) = range(-30, 0)\n",
      "13:32:49.76 .... list(range(-30,0)) = [-30,\n",
      "13:32:49.76                            -29,\n",
      "13:32:49.76                            -28,\n",
      "13:32:49.76                            -27,\n",
      "13:32:49.76                            -26,\n",
      "13:32:49.76                            -25,\n",
      "13:32:49.76                            -24,\n",
      "13:32:49.76                            -23,\n",
      "13:32:49.76                            -22,\n",
      "13:32:49.76                            -21,\n",
      "13:32:49.76                            -20,\n",
      "13:32:49.76                            -19,\n",
      "13:32:49.76                            -18,\n",
      "13:32:49.76                            -17,\n",
      "13:32:49.76                            -16,\n",
      "13:32:49.76                            -15,\n",
      "13:32:49.76                            -14,\n",
      "13:32:49.76                            -13,\n",
      "13:32:49.76                            -12,\n",
      "13:32:49.76                            -11,\n",
      "13:32:49.76                            -10,\n",
      "13:32:49.76                            -9,\n",
      "13:32:49.76                            -8,\n",
      "13:32:49.76                            -7,\n",
      "13:32:49.76                            -6,\n",
      "13:32:49.76                            -5,\n",
      "13:32:49.76                            -4,\n",
      "13:32:49.76                            -3,\n",
      "13:32:49.76                            -2,\n",
      "13:32:49.76                            -1]\n"
     ]
    },
    {
     "data": {
      "text/plain": [
       "(range(-30, 0),\n",
       " [-30,\n",
       "  -29,\n",
       "  -28,\n",
       "  -27,\n",
       "  -26,\n",
       "  -25,\n",
       "  -24,\n",
       "  -23,\n",
       "  -22,\n",
       "  -21,\n",
       "  -20,\n",
       "  -19,\n",
       "  -18,\n",
       "  -17,\n",
       "  -16,\n",
       "  -15,\n",
       "  -14,\n",
       "  -13,\n",
       "  -12,\n",
       "  -11,\n",
       "  -10,\n",
       "  -9,\n",
       "  -8,\n",
       "  -7,\n",
       "  -6,\n",
       "  -5,\n",
       "  -4,\n",
       "  -3,\n",
       "  -2,\n",
       "  -1])"
      ]
     },
     "execution_count": null,
     "metadata": {},
     "output_type": "execute_result"
    },
    {
     "name": "stderr",
     "output_type": "stream",
     "text": [
      "13:32:49.77 LOG:\n",
      "13:32:49.78 .... current_chunk[:31] =     session      aid          ts  type\n",
      "13:32:49.78                           0   1252181  1150072  1659396245     0\n",
      "13:32:49.78                           1   1252181  1053941  1659839377     0\n",
      "13:32:49.78                           2   1252181  1412178  1659839582     0\n",
      "13:32:49.78                           3   1252181  1412178  1659839601     1\n",
      "13:32:49.78                           4   1252181   567959  1659839627     0\n",
      "13:32:49.78                           5   1252181   567959  1659839652     1\n",
      "13:32:49.78                           6   1252181  1590011  1659839669     0\n",
      "13:32:49.78                           7   1252181  1410065  1659839702     0\n",
      "13:32:49.78                           8   1252181   527209  1659839727     0\n",
      "13:32:49.78                           9   1252181   118631  1660746871     0\n",
      "13:32:49.78                           10  1252181  1810463  1660746883     0\n",
      "13:32:49.78                           11  1252181  1810463  1660746896     1\n",
      "13:32:49.78                           12  1252181   809254  1660841728     0\n",
      "13:32:49.78                           13  1252181   252823  1660841753     1\n",
      "13:32:49.78                           14  1252181   809254  1660841762     1\n",
      "13:32:49.78                           15  1252181   755752  1660841916     0\n",
      "13:32:49.78                           16  1252181   473784  1660841955     0\n",
      "13:32:49.78                           17  1252181  1043532  1660884796     0\n",
      "13:32:49.78                           18  1252181   424449  1660884938     0\n",
      "13:32:49.78                           19  1252181  1084504  1661677104     0\n",
      "13:32:49.78                           20  1252181  1043532  1661677227     0\n",
      "13:32:49.78                           21  1252181    30388  1661677294     0\n",
      "13:32:49.78                           22  1252181  1001867  1661677339     0\n",
      "13:32:49.78                           23  1252181   473301  1661677465     0\n",
      "13:32:49.78                           24  4769706  1624432  1659817824     0\n",
      "13:32:49.78                           25  4769706    64194  1661213580     0\n",
      "13:32:49.78                           26  4769706  1266300  1661213591     0\n",
      "13:32:49.78                           27  4769706   215407  1661213828     0\n",
      "13:32:49.78                           28  4769706  1266300  1661213834     0\n",
      "13:32:49.78                           29  4769706  1397797  1661213852     0\n",
      "13:32:49.78                           30  5390256  1551267  1659938448     0\n",
      "13:32:49.79 .... current_chunk[29:61] =     session      aid          ts  type\n",
      "13:32:49.79                             29  4769706  1397797  1661213852     0\n",
      "13:32:49.79                             30  5390256  1551267  1659938448     0\n",
      "13:32:49.79                             31  5390256  1551267  1660505535     0\n",
      "13:32:49.79                             32  5390256  1551267  1660505743     0\n",
      "13:32:49.79                             33  5390256  1551267  1660505748     1\n",
      "13:32:49.79                             34  5390256  1551267  1660505778     2\n",
      "13:32:49.79                             35  5390256  1647157  1660801123     0\n",
      "13:32:49.79                             36  5390256  1818264  1660801212     0\n",
      "13:32:49.79                             37  5390256   771924  1660801349     0\n",
      "13:32:49.79                             38  5390256  1047179  1660801577     0\n",
      "13:32:49.79                             39  5390256  1047179  1660801630     1\n",
      "13:32:49.79                             40  5390256   140798  1660801906     0\n",
      "13:32:49.79                             41  5390256   140798  1660801919     1\n",
      "13:32:49.79                             42  5390256   140798  1660801983     2\n",
      "13:32:49.79                             43  5390256  1047179  1660801983     2\n",
      "13:32:49.79                             44  5390256  1047179  1660806555     0\n",
      "13:32:49.79                             45  5390256   140798  1660806705     0\n",
      "13:32:49.79                             46  5390256  1473792  1660855228     0\n",
      "13:32:49.79                             47  5521908  1796103  1659962162     0\n",
      "13:32:49.79                             48  5521908  1615007  1659962165     0\n",
      "13:32:49.79                             49  5521908   150461  1659962176     0\n",
      "13:32:49.79                             50  5521908  1615007  1659962195     0\n",
      "13:32:49.79                             51  5521908   945579  1659962215     0\n",
      "13:32:49.79                             52  5521908  1615007  1659962322     0\n",
      "13:32:49.79                             53  5537326   962155  1659964509     0\n",
      "13:32:49.79                             54  5537326  1790606  1659964528     0\n",
      "13:32:49.79                             55  5537326  1790606  1659977063     0\n",
      "13:32:49.79                             56  6837607  1303378  1660217765     0\n",
      "13:32:49.79                             57  6837607   674124  1660217943     0\n",
      "13:32:49.79                             58  6837607   617221  1660218035     0\n",
      "13:32:49.79                             59  6837607  1578927  1660218127     0\n",
      "13:32:49.79                             60  6837607  1578927  1660218147     1\n"
     ]
    },
    {
     "data": {
      "text/plain": [
       "(    session      aid          ts  type\n",
       " 0   1252181  1150072  1659396245     0\n",
       " 1   1252181  1053941  1659839377     0\n",
       " 2   1252181  1412178  1659839582     0\n",
       " 3   1252181  1412178  1659839601     1\n",
       " 4   1252181   567959  1659839627     0\n",
       " 5   1252181   567959  1659839652     1\n",
       " 6   1252181  1590011  1659839669     0\n",
       " 7   1252181  1410065  1659839702     0\n",
       " 8   1252181   527209  1659839727     0\n",
       " 9   1252181   118631  1660746871     0\n",
       " 10  1252181  1810463  1660746883     0\n",
       " 11  1252181  1810463  1660746896     1\n",
       " 12  1252181   809254  1660841728     0\n",
       " 13  1252181   252823  1660841753     1\n",
       " 14  1252181   809254  1660841762     1\n",
       " 15  1252181   755752  1660841916     0\n",
       " 16  1252181   473784  1660841955     0\n",
       " 17  1252181  1043532  1660884796     0\n",
       " 18  1252181   424449  1660884938     0\n",
       " 19  1252181  1084504  1661677104     0\n",
       " 20  1252181  1043532  1661677227     0\n",
       " 21  1252181    30388  1661677294     0\n",
       " 22  1252181  1001867  1661677339     0\n",
       " 23  1252181   473301  1661677465     0\n",
       " 24  4769706  1624432  1659817824     0\n",
       " 25  4769706    64194  1661213580     0\n",
       " 26  4769706  1266300  1661213591     0\n",
       " 27  4769706   215407  1661213828     0\n",
       " 28  4769706  1266300  1661213834     0\n",
       " 29  4769706  1397797  1661213852     0\n",
       " 30  5390256  1551267  1659938448     0,\n",
       "     session      aid          ts  type\n",
       " 29  4769706  1397797  1661213852     0\n",
       " 30  5390256  1551267  1659938448     0\n",
       " 31  5390256  1551267  1660505535     0\n",
       " 32  5390256  1551267  1660505743     0\n",
       " 33  5390256  1551267  1660505748     1\n",
       " 34  5390256  1551267  1660505778     2\n",
       " 35  5390256  1647157  1660801123     0\n",
       " 36  5390256  1818264  1660801212     0\n",
       " 37  5390256   771924  1660801349     0\n",
       " 38  5390256  1047179  1660801577     0\n",
       " 39  5390256  1047179  1660801630     1\n",
       " 40  5390256   140798  1660801906     0\n",
       " 41  5390256   140798  1660801919     1\n",
       " 42  5390256   140798  1660801983     2\n",
       " 43  5390256  1047179  1660801983     2\n",
       " 44  5390256  1047179  1660806555     0\n",
       " 45  5390256   140798  1660806705     0\n",
       " 46  5390256  1473792  1660855228     0\n",
       " 47  5521908  1796103  1659962162     0\n",
       " 48  5521908  1615007  1659962165     0\n",
       " 49  5521908   150461  1659962176     0\n",
       " 50  5521908  1615007  1659962195     0\n",
       " 51  5521908   945579  1659962215     0\n",
       " 52  5521908  1615007  1659962322     0\n",
       " 53  5537326   962155  1659964509     0\n",
       " 54  5537326  1790606  1659964528     0\n",
       " 55  5537326  1790606  1659977063     0\n",
       " 56  6837607  1303378  1660217765     0\n",
       " 57  6837607   674124  1660217943     0\n",
       " 58  6837607   617221  1660218035     0\n",
       " 59  6837607  1578927  1660218127     0\n",
       " 60  6837607  1578927  1660218147     1)"
      ]
     },
     "execution_count": null,
     "metadata": {},
     "output_type": "execute_result"
    },
    {
     "name": "stderr",
     "output_type": "stream",
     "text": [
      "13:32:49.80 LOG:\n",
      "13:32:49.81 .... doc_sig(pd.DataFrame.reset_index) = ('no mro',\n",
      "13:32:49.81                                           'Reset the index, or a level of it.\\n'\n",
      "13:32:49.81                                           '\\n'\n",
      "13:32:49.81                                           'Reset the index of the DataFrame, and use the default one instead.\\n'\n",
      "13:32:49.81                                           'If the DataFrame has a MultiIndex, this method can remove one or more\\n'\n",
      "13:32:49.81                                           'levels.\\n'\n",
      "13:32:49.81                                           '\\n'\n",
      "13:32:49.81                                           'Parameters\\n'\n",
      "13:32:49.81                                           '----------\\n'\n",
      "13:32:49.81                                           'level : int, str, tuple, or list, default None\\n'\n",
      "13:32:49.81                                           '    Only remove the given levels from the index. Removes all levels by\\n'\n",
      "13:32:49.81                                           '    default.\\n'\n",
      "13:32:49.81                                           'drop : bool, default False\\n'\n",
      "13:32:49.81                                           '    Do not try to insert index into dataframe columns. This resets\\n'\n",
      "13:32:49.81                                           '    the index to the default integer index.\\n'\n",
      "13:32:49.81                                           'inplace : bool, default False\\n'\n",
      "13:32:49.81                                           '    Modify the DataFrame in place (do not create a new object).\\n'\n",
      "13:32:49.81                                           'col_level : int or str, default 0\\n'\n",
      "13:32:49.81                                           '    If the columns have multiple levels, determines which level the\\n'\n",
      "13:32:49.81                                           '    labels are inserted into. By default it is inserted into the first\\n'\n",
      "13:32:49.81                                           '    level.\\n'\n",
      "13:32:49.81                                           \"col_fill : object, default ''\\n\"\n",
      "13:32:49.81                                           '    If the columns have multiple levels, determines how the other\\n'\n",
      "13:32:49.81                                           '    levels are named. If None then the index name is repeated.\\n'\n",
      "13:32:49.81                                           '\\n'\n",
      "13:32:49.81                                           'Returns\\n'\n",
      "13:32:49.81                                           '-------\\n'\n",
      "13:32:49.81                                           'DataFrame or None\\n'\n",
      "13:32:49.81                                           '    DataFrame with the new index or None if ``inplace=True``.\\n'\n",
      "13:32:49.81                                           '\\n'\n",
      "13:32:49.81                                           'See Also\\n'\n",
      "13:32:49.81                                           '--------\\n'\n",
      "13:32:49.81                                           'DataFrame.set_index : Opposite of reset_index.\\n'\n",
      "13:32:49.81                                           'DataFrame.reindex : Change to new indices or expand indices.\\n'\n",
      "13:32:49.81                                           'DataFrame.reindex_like : Change to same indices as other DataFrame.\\n'\n",
      "13:32:49.81                                           '\\n'\n",
      "13:32:49.81                                           'Examples\\n'\n",
      "13:32:49.81                                           '--------\\n'\n",
      "13:32:49.81                                           \">>> df = pd.DataFrame([('bird', 389.0),\\n\"\n",
      "13:32:49.81                                           \"...                    ('bird', 24.0),\\n\"\n",
      "13:32:49.81                                           \"...                    ('mammal', 80.5),\\n\"\n",
      "13:32:49.81                                           \"...                    ('mammal', np.nan)],\\n\"\n",
      "13:32:49.81                                           \"...                   index=['falcon', 'parrot', 'lion', 'monkey'],\\n\"\n",
      "13:32:49.81                                           \"...                   columns=('class', 'max_speed'))\\n\"\n",
      "13:32:49.81                                           '>>> df\\n'\n",
      "13:32:49.81                                           '         class  max_speed\\n'\n",
      "13:32:49.81                                           'falcon    bird      389.0\\n'\n",
      "13:32:49.81                                           'parrot    bird       24.0\\n'\n",
      "13:32:49.81                                           'lion    mammal       80.5\\n'\n",
      "13:32:49.81                                           'monkey  mammal        NaN\\n'\n",
      "13:32:49.81                                           '\\n'\n",
      "13:32:49.81                                           'When we reset the index, the old index is added as a column, and a\\n'\n",
      "13:32:49.81                                           'new sequential index is used:\\n'\n",
      "13:32:49.81                                           '\\n'\n",
      "13:32:49.81                                           '>>> df.reset_index()\\n'\n",
      "13:32:49.81                                           '    index   class  max_speed\\n'\n",
      "13:32:49.81                                           '0  falcon    bird      389.0\\n'\n",
      "13:32:49.81                                           '1  parrot    bird       24.0\\n'\n",
      "13:32:49.81                                           '2    lion  mammal       80.5\\n'\n",
      "13:32:49.81                                           '3  monkey  mammal        NaN\\n'\n",
      "13:32:49.81                                           '\\n'\n",
      "13:32:49.81                                           'We can use the `drop` parameter to avoid the old index being added as\\n'\n",
      "13:32:49.81                                           'a column:\\n'\n",
      "13:32:49.81                                           '\\n'\n",
      "13:32:49.81                                           '>>> df.reset_index(drop=True)\\n'\n",
      "13:32:49.81                                           '    class  max_speed\\n'\n",
      "13:32:49.81                                           '0    bird      389.0\\n'\n",
      "13:32:49.81                                           '1    bird       24.0\\n'\n",
      "13:32:49.81                                           '2  mammal       80.5\\n'\n",
      "13:32:49.81                                           '3  mammal        NaN\\n'\n",
      "13:32:49.81                                           '\\n'\n",
      "13:32:49.81                                           'You can also use `reset_index` with `MultiIndex`.\\n'\n",
      "13:32:49.81                                           '\\n'\n",
      "13:32:49.81                                           \">>> index = pd.MultiIndex.from_tuples([('bird', 'falcon'),\\n\"\n",
      "13:32:49.81                                           \"...                                    ('bird', 'parrot'),\\n\"\n",
      "13:32:49.81                                           \"...                                    ('mammal', 'lion'),\\n\"\n",
      "13:32:49.81                                           \"...                                    ('mammal', 'monkey')],\\n\"\n",
      "13:32:49.81                                           \"...                                   names=['class', 'name'])\\n\"\n",
      "13:32:49.81                                           \">>> columns = pd.MultiIndex.from_tuples([('speed', 'max'),\\n\"\n",
      "13:32:49.81                                           \"...                                      ('species', 'type')])\\n\"\n",
      "13:32:49.81                                           \">>> df = pd.DataFrame([(389.0, 'fly'),\\n\"\n",
      "13:32:49.81                                           \"...                    ( 24.0, 'fly'),\\n\"\n",
      "13:32:49.81                                           \"...                    ( 80.5, 'run'),\\n\"\n",
      "13:32:49.81                                           \"...                    (np.nan, 'jump')],\\n\"\n",
      "13:32:49.81                                           '...                   index=index,\\n'\n",
      "13:32:49.81                                           '...                   columns=columns)\\n'\n",
      "13:32:49.81                                           '>>> df\\n'\n",
      "13:32:49.81                                           '               speed species\\n'\n",
      "13:32:49.81                                           '                 max    type\\n'\n",
      "13:32:49.81                                           'class  name\\n'\n",
      "13:32:49.81                                           'bird   falcon  389.0     fly\\n'\n",
      "13:32:49.81                                           '       parrot   24.0     fly\\n'\n",
      "13:32:49.81                                           'mammal lion     80.5     run\\n'\n",
      "13:32:49.81                                           '       monkey    NaN    jump\\n'\n",
      "13:32:49.81                                           '\\n'\n",
      "13:32:49.81                                           'If the index has multiple levels, we can reset a subset of them:\\n'\n",
      "13:32:49.81                                           '\\n'\n",
      "13:32:49.81                                           \">>> df.reset_index(level='class')\\n\"\n",
      "13:32:49.81                                           '         class  speed species\\n'\n",
      "13:32:49.81                                           '                  max    type\\n'\n",
      "13:32:49.81                                           'name\\n'\n",
      "13:32:49.81                                           'falcon    bird  389.0     fly\\n'\n",
      "13:32:49.81                                           'parrot    bird   24.0     fly\\n'\n",
      "13:32:49.81                                           'lion    mammal   80.5     run\\n'\n",
      "13:32:49.81                                           'monkey  mammal    NaN    jump\\n'\n",
      "13:32:49.81                                           '\\n'\n",
      "13:32:49.81                                           'If we are not dropping the index, by default, it is placed in the top\\n'\n",
      "13:32:49.81                                           'level. We can place it in another level:\\n'\n",
      "13:32:49.81                                           '\\n'\n",
      "13:32:49.81                                           \">>> df.reset_index(level='class', col_level=1)\\n\"\n",
      "13:32:49.81                                           '                speed species\\n'\n",
      "13:32:49.81                                           '         class    max    type\\n'\n",
      "13:32:49.81                                           'name\\n'\n",
      "13:32:49.81                                           'falcon    bird  389.0     fly\\n'\n",
      "13:32:49.81                                           'parrot    bird   24.0     fly\\n'\n",
      "13:32:49.81                                           'lion    mammal   80.5     run\\n'\n",
      "13:32:49.81                                           'monkey  mammal    NaN    jump\\n'\n",
      "13:32:49.81                                           '\\n'\n",
      "13:32:49.81                                           'When the index is inserted under another level, we can specify under\\n'\n",
      "13:32:49.81                                           'which one with the parameter `col_fill`:\\n'\n",
      "13:32:49.81                                           '\\n'\n",
      "13:32:49.81                                           \">>> df.reset_index(level='class', col_level=1, col_fill='species')\\n\"\n",
      "13:32:49.81                                           '              species  speed species\\n'\n",
      "13:32:49.81                                           '                class    max    type\\n'\n",
      "13:32:49.81                                           'name\\n'\n",
      "13:32:49.81                                           'falcon           bird  389.0     fly\\n'\n",
      "13:32:49.81                                           'parrot           bird   24.0     fly\\n'\n",
      "13:32:49.81                                           'lion           mammal   80.5     run\\n'\n",
      "13:32:49.81                                           'monkey         mammal    NaN    jump\\n'\n",
      "13:32:49.81                                           '\\n'\n",
      "13:32:49.81                                           'If we specify a nonexistent level for `col_fill`, it is created:\\n'\n",
      "13:32:49.81                                           '\\n'\n",
      "13:32:49.81                                           \">>> df.reset_index(level='class', col_level=1, col_fill='genus')\\n\"\n",
      "13:32:49.81                                           '                genus  speed species\\n'\n",
      "13:32:49.81                                           '                class    max    type\\n'\n",
      "13:32:49.81                                           'name\\n'\n",
      "13:32:49.81                                           'falcon           bird  389.0     fly\\n'\n",
      "13:32:49.81                                           'parrot           bird   24.0     fly\\n'\n",
      "13:32:49.81                                           'lion           mammal   80.5     run\\n'\n",
      "13:32:49.81                                           'monkey         mammal    NaN    jump',\n",
      "13:32:49.81                                           <Signature (self, level: 'Hashable | Sequence[Hashable] | None' = None, drop: 'bool' = False, inplace: 'bool' = False, col_level: 'Hashable' = 0, col_fill: 'Hashable' = '') -> 'DataFrame | None'>)\n"
     ]
    },
    {
     "data": {
      "text/plain": [
       "('no mro',\n",
       " \"Reset the index, or a level of it.\\n\\nReset the index of the DataFrame, and use the default one instead.\\nIf the DataFrame has a MultiIndex, this method can remove one or more\\nlevels.\\n\\nParameters\\n----------\\nlevel : int, str, tuple, or list, default None\\n    Only remove the given levels from the index. Removes all levels by\\n    default.\\ndrop : bool, default False\\n    Do not try to insert index into dataframe columns. This resets\\n    the index to the default integer index.\\ninplace : bool, default False\\n    Modify the DataFrame in place (do not create a new object).\\ncol_level : int or str, default 0\\n    If the columns have multiple levels, determines which level the\\n    labels are inserted into. By default it is inserted into the first\\n    level.\\ncol_fill : object, default ''\\n    If the columns have multiple levels, determines how the other\\n    levels are named. If None then the index name is repeated.\\n\\nReturns\\n-------\\nDataFrame or None\\n    DataFrame with the new index or None if ``inplace=True``.\\n\\nSee Also\\n--------\\nDataFrame.set_index : Opposite of reset_index.\\nDataFrame.reindex : Change to new indices or expand indices.\\nDataFrame.reindex_like : Change to same indices as other DataFrame.\\n\\nExamples\\n--------\\n>>> df = pd.DataFrame([('bird', 389.0),\\n...                    ('bird', 24.0),\\n...                    ('mammal', 80.5),\\n...                    ('mammal', np.nan)],\\n...                   index=['falcon', 'parrot', 'lion', 'monkey'],\\n...                   columns=('class', 'max_speed'))\\n>>> df\\n         class  max_speed\\nfalcon    bird      389.0\\nparrot    bird       24.0\\nlion    mammal       80.5\\nmonkey  mammal        NaN\\n\\nWhen we reset the index, the old index is added as a column, and a\\nnew sequential index is used:\\n\\n>>> df.reset_index()\\n    index   class  max_speed\\n0  falcon    bird      389.0\\n1  parrot    bird       24.0\\n2    lion  mammal       80.5\\n3  monkey  mammal        NaN\\n\\nWe can use the `drop` parameter to avoid the old index being added as\\na column:\\n\\n>>> df.reset_index(drop=True)\\n    class  max_speed\\n0    bird      389.0\\n1    bird       24.0\\n2  mammal       80.5\\n3  mammal        NaN\\n\\nYou can also use `reset_index` with `MultiIndex`.\\n\\n>>> index = pd.MultiIndex.from_tuples([('bird', 'falcon'),\\n...                                    ('bird', 'parrot'),\\n...                                    ('mammal', 'lion'),\\n...                                    ('mammal', 'monkey')],\\n...                                   names=['class', 'name'])\\n>>> columns = pd.MultiIndex.from_tuples([('speed', 'max'),\\n...                                      ('species', 'type')])\\n>>> df = pd.DataFrame([(389.0, 'fly'),\\n...                    ( 24.0, 'fly'),\\n...                    ( 80.5, 'run'),\\n...                    (np.nan, 'jump')],\\n...                   index=index,\\n...                   columns=columns)\\n>>> df\\n               speed species\\n                 max    type\\nclass  name\\nbird   falcon  389.0     fly\\n       parrot   24.0     fly\\nmammal lion     80.5     run\\n       monkey    NaN    jump\\n\\nIf the index has multiple levels, we can reset a subset of them:\\n\\n>>> df.reset_index(level='class')\\n         class  speed species\\n                  max    type\\nname\\nfalcon    bird  389.0     fly\\nparrot    bird   24.0     fly\\nlion    mammal   80.5     run\\nmonkey  mammal    NaN    jump\\n\\nIf we are not dropping the index, by default, it is placed in the top\\nlevel. We can place it in another level:\\n\\n>>> df.reset_index(level='class', col_level=1)\\n                speed species\\n         class    max    type\\nname\\nfalcon    bird  389.0     fly\\nparrot    bird   24.0     fly\\nlion    mammal   80.5     run\\nmonkey  mammal    NaN    jump\\n\\nWhen the index is inserted under another level, we can specify under\\nwhich one with the parameter `col_fill`:\\n\\n>>> df.reset_index(level='class', col_level=1, col_fill='species')\\n              species  speed species\\n                class    max    type\\nname\\nfalcon           bird  389.0     fly\\nparrot           bird   24.0     fly\\nlion           mammal   80.5     run\\nmonkey         mammal    NaN    jump\\n\\nIf we specify a nonexistent level for `col_fill`, it is created:\\n\\n>>> df.reset_index(level='class', col_level=1, col_fill='genus')\\n                genus  speed species\\n                class    max    type\\nname\\nfalcon           bird  389.0     fly\\nparrot           bird   24.0     fly\\nlion           mammal   80.5     run\\nmonkey         mammal    NaN    jump\",\n",
       " <Signature (self, level: 'Hashable | Sequence[Hashable] | None' = None, drop: 'bool' = False, inplace: 'bool' = False, col_level: 'Hashable' = 0, col_fill: 'Hashable' = '') -> 'DataFrame | None'>)"
      ]
     },
     "execution_count": null,
     "metadata": {},
     "output_type": "execute_result"
    },
    {
     "name": "stderr",
     "output_type": "stream",
     "text": [
      "13:32:49.82 LOG:\n",
      "13:32:49.83 .... doc_sig(current_chunk.groupby('session', as_index=False).nth) = ('no mro',\n",
      "13:32:49.83                                                                       'Take the nth row from each group if n is an int, or a subset of rows\\n'\n",
      "13:32:49.83                                                                       'if n is a list of ints.\\n'\n",
      "13:32:49.83                                                                       '\\n'\n",
      "13:32:49.83                                                                       'If dropna, will take the nth non-null row, dropna is either\\n'\n",
      "13:32:49.83                                                                       \"'all' or 'any'; this is equivalent to calling dropna(how=dropna)\\n\"\n",
      "13:32:49.83                                                                       'before the groupby.\\n'\n",
      "13:32:49.83                                                                       '\\n'\n",
      "13:32:49.83                                                                       'Parameters\\n'\n",
      "13:32:49.83                                                                       '----------\\n'\n",
      "13:32:49.83                                                                       'n : int or list of ints\\n'\n",
      "13:32:49.83                                                                       '    A single nth value for the row or a list of nth values.\\n'\n",
      "13:32:49.83                                                                       \"dropna : {'any', 'all', None}, default None\\n\"\n",
      "13:32:49.83                                                                       '    Apply the specified dropna operation before counting which row is\\n'\n",
      "13:32:49.83                                                                       '    the nth row.\\n'\n",
      "13:32:49.83                                                                       '\\n'\n",
      "13:32:49.83                                                                       'Returns\\n'\n",
      "13:32:49.83                                                                       '-------\\n'\n",
      "13:32:49.83                                                                       'Series or DataFrame\\n'\n",
      "13:32:49.83                                                                       '    N-th value within each group.\\n'\n",
      "13:32:49.83                                                                       '\\n'\n",
      "13:32:49.83                                                                       'See Also\\n'\n",
      "13:32:49.83                                                                       '--------\\n'\n",
      "13:32:49.83                                                                       'Series.groupby : Apply a function groupby to a Series.\\n'\n",
      "13:32:49.83                                                                       'DataFrame.groupby : Apply a function groupby\\n'\n",
      "13:32:49.83                                                                       '    to each row or column of a DataFrame.\\n'\n",
      "13:32:49.83                                                                       '\\n'\n",
      "13:32:49.83                                                                       'Examples\\n'\n",
      "13:32:49.83                                                                       '--------\\n'\n",
      "13:32:49.83                                                                       '\\n'\n",
      "13:32:49.83                                                                       \">>> df = pd.DataFrame({'A': [1, 1, 2, 1, 2],\\n\"\n",
      "13:32:49.83                                                                       \"...                    'B': [np.nan, 2, 3, 4, 5]}, columns=['A', 'B'])\\n\"\n",
      "13:32:49.83                                                                       \">>> g = df.groupby('A')\\n\"\n",
      "13:32:49.83                                                                       '>>> g.nth(0)\\n'\n",
      "13:32:49.83                                                                       '     B\\n'\n",
      "13:32:49.83                                                                       'A\\n'\n",
      "13:32:49.83                                                                       '1  NaN\\n'\n",
      "13:32:49.83                                                                       '2  3.0\\n'\n",
      "13:32:49.83                                                                       '>>> g.nth(1)\\n'\n",
      "13:32:49.83                                                                       '     B\\n'\n",
      "13:32:49.83                                                                       'A\\n'\n",
      "13:32:49.83                                                                       '1  2.0\\n'\n",
      "13:32:49.83                                                                       '2  5.0\\n'\n",
      "13:32:49.83                                                                       '>>> g.nth(-1)\\n'\n",
      "13:32:49.83                                                                       '     B\\n'\n",
      "13:32:49.83                                                                       'A\\n'\n",
      "13:32:49.83                                                                       '1  4.0\\n'\n",
      "13:32:49.83                                                                       '2  5.0\\n'\n",
      "13:32:49.83                                                                       '>>> g.nth([0, 1])\\n'\n",
      "13:32:49.83                                                                       '     B\\n'\n",
      "13:32:49.83                                                                       'A\\n'\n",
      "13:32:49.83                                                                       '1  NaN\\n'\n",
      "13:32:49.83                                                                       '1  2.0\\n'\n",
      "13:32:49.83                                                                       '2  3.0\\n'\n",
      "13:32:49.83                                                                       '2  5.0\\n'\n",
      "13:32:49.83                                                                       '\\n'\n",
      "13:32:49.83                                                                       'Specifying `dropna` allows count ignoring ``NaN``\\n'\n",
      "13:32:49.83                                                                       '\\n'\n",
      "13:32:49.83                                                                       \">>> g.nth(0, dropna='any')\\n\"\n",
      "13:32:49.83                                                                       '     B\\n'\n",
      "13:32:49.83                                                                       'A\\n'\n",
      "13:32:49.83                                                                       '1  2.0\\n'\n",
      "13:32:49.83                                                                       '2  3.0\\n'\n",
      "13:32:49.83                                                                       '\\n'\n",
      "13:32:49.83                                                                       'NaNs denote group exhausted when using dropna\\n'\n",
      "13:32:49.83                                                                       '\\n'\n",
      "13:32:49.83                                                                       \">>> g.nth(3, dropna='any')\\n\"\n",
      "13:32:49.83                                                                       '    B\\n'\n",
      "13:32:49.83                                                                       'A\\n'\n",
      "13:32:49.83                                                                       '1 NaN\\n'\n",
      "13:32:49.83                                                                       '2 NaN\\n'\n",
      "13:32:49.83                                                                       '\\n'\n",
      "13:32:49.83                                                                       'Specifying `as_index=False` in `groupby` keeps the original index.\\n'\n",
      "13:32:49.83                                                                       '\\n'\n",
      "13:32:49.83                                                                       \">>> df.groupby('A', as_index=False).nth(1)\\n\"\n",
      "13:32:49.83                                                                       '   A    B\\n'\n",
      "13:32:49.83                                                                       '1  1  2.0\\n'\n",
      "13:32:49.83                                                                       '4  2  5.0',\n",
      "13:32:49.83                                                                       <Signature (n: 'int | list[int]', dropna: \"Literal[('any', 'all', None)]\" = None) -> 'DataFrame'>)\n"
     ]
    },
    {
     "data": {
      "text/plain": [
       "('no mro',\n",
       " \"Take the nth row from each group if n is an int, or a subset of rows\\nif n is a list of ints.\\n\\nIf dropna, will take the nth non-null row, dropna is either\\n'all' or 'any'; this is equivalent to calling dropna(how=dropna)\\nbefore the groupby.\\n\\nParameters\\n----------\\nn : int or list of ints\\n    A single nth value for the row or a list of nth values.\\ndropna : {'any', 'all', None}, default None\\n    Apply the specified dropna operation before counting which row is\\n    the nth row.\\n\\nReturns\\n-------\\nSeries or DataFrame\\n    N-th value within each group.\\n\\nSee Also\\n--------\\nSeries.groupby : Apply a function groupby to a Series.\\nDataFrame.groupby : Apply a function groupby\\n    to each row or column of a DataFrame.\\n\\nExamples\\n--------\\n\\n>>> df = pd.DataFrame({'A': [1, 1, 2, 1, 2],\\n...                    'B': [np.nan, 2, 3, 4, 5]}, columns=['A', 'B'])\\n>>> g = df.groupby('A')\\n>>> g.nth(0)\\n     B\\nA\\n1  NaN\\n2  3.0\\n>>> g.nth(1)\\n     B\\nA\\n1  2.0\\n2  5.0\\n>>> g.nth(-1)\\n     B\\nA\\n1  4.0\\n2  5.0\\n>>> g.nth([0, 1])\\n     B\\nA\\n1  NaN\\n1  2.0\\n2  3.0\\n2  5.0\\n\\nSpecifying `dropna` allows count ignoring ``NaN``\\n\\n>>> g.nth(0, dropna='any')\\n     B\\nA\\n1  2.0\\n2  3.0\\n\\nNaNs denote group exhausted when using dropna\\n\\n>>> g.nth(3, dropna='any')\\n    B\\nA\\n1 NaN\\n2 NaN\\n\\nSpecifying `as_index=False` in `groupby` keeps the original index.\\n\\n>>> df.groupby('A', as_index=False).nth(1)\\n   A    B\\n1  1  2.0\\n4  2  5.0\",\n",
       " <Signature (n: 'int | list[int]', dropna: \"Literal[('any', 'all', None)]\" = None) -> 'DataFrame'>)"
      ]
     },
     "execution_count": null,
     "metadata": {},
     "output_type": "execute_result"
    }
   ],
   "source": [
    "chunk_size = 30_000\n",
    "\n",
    "for i in range(0, sessions.shape[0], chunk_size): # loop every 30_000 unique sessions\n",
    "    \n",
    "    #### take a chunk_size number of sessions (each session in its entirety, ie., many rows) from subsets as current_chunk\n",
    "    \n",
    "#     pp(i, sessions[i], sessions.shape[0]-1, i+chunk_size-1, min(sessions.shape[0]-1, i+chunk_size-1))\n",
    "    current_chunk = subsets.loc[sessions[i]:sessions[min(sessions.shape[0]-1, i+chunk_size-1)]].reset_index(drop=True) # to remove index column\n",
    "#     pp(current_chunk.head(), current_chunk.tail())\n",
    "#     break\n",
    "\n",
    "    #### In current_chunk, from each session (in its entirety) only takes the last/latest 30 events and combine them to update current_chunk\n",
    "    pp(range(-30,0), list(range(-30,0)))\n",
    "    current_chunk = current_chunk.groupby('session', as_index=False).nth(list(range(-30,0))).reset_index(drop=True)\n",
    "    pp(current_chunk[:31], current_chunk[29:61])\n",
    "    pp(doc_sig(pd.DataFrame.reset_index))\n",
    "    pp(doc_sig(current_chunk.groupby('session', as_index=False).nth))\n",
    "    break\n",
    "\n",
    "    #### merge an session of its entirety onto itself (help to see the relation between one aid and every other aid within each session)\n",
    "    consecutive_AIDs = current_chunk.merge(current_chunk, on='session')\n",
    "#     pp(consecutive_AIDs[:30])\n",
    "#     pp(consecutive_AIDs[29:61])\n",
    "\n",
    "    #### remove all the rows which aid_x == aid_y (remove the row when the two articles are the same)\n",
    "    consecutive_AIDs = consecutive_AIDs[consecutive_AIDs.aid_x != consecutive_AIDs.aid_y]\n",
    "    \n",
    "    #### add a column named 'days_elapsed' which shows how many days passed between the two aids in a session\n",
    "    consecutive_AIDs['days_elapsed'] = (consecutive_AIDs.ts_y - consecutive_AIDs.ts_x) / (24 * 60 * 60)\n",
    "#     pp(consecutive_AIDs[:61])\n",
    "\n",
    "    #### keep the rows if the two aids of a session are occurred within the same day on the right order\n",
    "    consecutive_AIDs = consecutive_AIDs[(consecutive_AIDs.days_elapsed >= 0) & (consecutive_AIDs.days_elapsed <= 1)]\n",
    "    \n",
    "    #### among all sessions or all users, for each article occurred, count how often the other articles are occurred\n",
    "    for aid_x, aid_y in zip(consecutive_AIDs['aid_x'], consecutive_AIDs['aid_y']):\n",
    "        next_AIDs[aid_x][aid_y] += 1\n",
    "    "
   ]
  },
  {
   "cell_type": "markdown",
   "metadata": {},
   "source": [
    "### rd: recsys - otto - covisitation_simplified - merge an session of its entirety onto itself (help to see the relation between one aid and every other aid within each session) - consecutive_AIDs = current_chunk.merge(current_chunk, on='session')"
   ]
  },
  {
   "cell_type": "code",
   "execution_count": null,
   "metadata": {},
   "outputs": [
    {
     "name": "stderr",
     "output_type": "stream",
     "text": [
      "13:32:49.86 LOG:\n",
      "13:32:49.88 .... consecutive_AIDs[:30] =     session    aid_x        ts_x  type_x    aid_y        ts_y  type_y\n",
      "13:32:49.88                              0   1252181  1150072  1659396245       0  1150072  1659396245       0\n",
      "13:32:49.88                              1   1252181  1150072  1659396245       0  1053941  1659839377       0\n",
      "13:32:49.88                              2   1252181  1150072  1659396245       0  1412178  1659839582       0\n",
      "13:32:49.88                              3   1252181  1150072  1659396245       0  1412178  1659839601       1\n",
      "13:32:49.88                              4   1252181  1150072  1659396245       0   567959  1659839627       0\n",
      "13:32:49.88                              5   1252181  1150072  1659396245       0   567959  1659839652       1\n",
      "13:32:49.88                              6   1252181  1150072  1659396245       0  1590011  1659839669       0\n",
      "13:32:49.88                              7   1252181  1150072  1659396245       0  1410065  1659839702       0\n",
      "13:32:49.88                              8   1252181  1150072  1659396245       0   527209  1659839727       0\n",
      "13:32:49.88                              9   1252181  1150072  1659396245       0   118631  1660746871       0\n",
      "13:32:49.88                              10  1252181  1150072  1659396245       0  1810463  1660746883       0\n",
      "13:32:49.88                              11  1252181  1150072  1659396245       0  1810463  1660746896       1\n",
      "13:32:49.88                              12  1252181  1150072  1659396245       0   809254  1660841728       0\n",
      "13:32:49.88                              13  1252181  1150072  1659396245       0   252823  1660841753       1\n",
      "13:32:49.88                              14  1252181  1150072  1659396245       0   809254  1660841762       1\n",
      "13:32:49.88                              15  1252181  1150072  1659396245       0   755752  1660841916       0\n",
      "13:32:49.88                              16  1252181  1150072  1659396245       0   473784  1660841955       0\n",
      "13:32:49.88                              17  1252181  1150072  1659396245       0  1043532  1660884796       0\n",
      "13:32:49.88                              18  1252181  1150072  1659396245       0   424449  1660884938       0\n",
      "13:32:49.88                              19  1252181  1150072  1659396245       0  1084504  1661677104       0\n",
      "13:32:49.88                              20  1252181  1150072  1659396245       0  1043532  1661677227       0\n",
      "13:32:49.88                              21  1252181  1150072  1659396245       0    30388  1661677294       0\n",
      "13:32:49.88                              22  1252181  1150072  1659396245       0  1001867  1661677339       0\n",
      "13:32:49.88                              23  1252181  1150072  1659396245       0   473301  1661677465       0\n",
      "13:32:49.88                              24  1252181  1053941  1659839377       0  1150072  1659396245       0\n",
      "13:32:49.88                              25  1252181  1053941  1659839377       0  1053941  1659839377       0\n",
      "13:32:49.88                              26  1252181  1053941  1659839377       0  1412178  1659839582       0\n",
      "13:32:49.88                              27  1252181  1053941  1659839377       0  1412178  1659839601       1\n",
      "13:32:49.88                              28  1252181  1053941  1659839377       0   567959  1659839627       0\n",
      "13:32:49.88                              29  1252181  1053941  1659839377       0   567959  1659839652       1\n"
     ]
    },
    {
     "data": {
      "text/html": [
       "<div>\n",
       "<style scoped>\n",
       "    .dataframe tbody tr th:only-of-type {\n",
       "        vertical-align: middle;\n",
       "    }\n",
       "\n",
       "    .dataframe tbody tr th {\n",
       "        vertical-align: top;\n",
       "    }\n",
       "\n",
       "    .dataframe thead th {\n",
       "        text-align: right;\n",
       "    }\n",
       "</style>\n",
       "<table border=\"1\" class=\"dataframe\">\n",
       "  <thead>\n",
       "    <tr style=\"text-align: right;\">\n",
       "      <th></th>\n",
       "      <th>session</th>\n",
       "      <th>aid_x</th>\n",
       "      <th>ts_x</th>\n",
       "      <th>type_x</th>\n",
       "      <th>aid_y</th>\n",
       "      <th>ts_y</th>\n",
       "      <th>type_y</th>\n",
       "    </tr>\n",
       "  </thead>\n",
       "  <tbody>\n",
       "    <tr>\n",
       "      <th>0</th>\n",
       "      <td>1252181</td>\n",
       "      <td>1150072</td>\n",
       "      <td>1659396245</td>\n",
       "      <td>0</td>\n",
       "      <td>1150072</td>\n",
       "      <td>1659396245</td>\n",
       "      <td>0</td>\n",
       "    </tr>\n",
       "    <tr>\n",
       "      <th>1</th>\n",
       "      <td>1252181</td>\n",
       "      <td>1150072</td>\n",
       "      <td>1659396245</td>\n",
       "      <td>0</td>\n",
       "      <td>1053941</td>\n",
       "      <td>1659839377</td>\n",
       "      <td>0</td>\n",
       "    </tr>\n",
       "    <tr>\n",
       "      <th>2</th>\n",
       "      <td>1252181</td>\n",
       "      <td>1150072</td>\n",
       "      <td>1659396245</td>\n",
       "      <td>0</td>\n",
       "      <td>1412178</td>\n",
       "      <td>1659839582</td>\n",
       "      <td>0</td>\n",
       "    </tr>\n",
       "    <tr>\n",
       "      <th>3</th>\n",
       "      <td>1252181</td>\n",
       "      <td>1150072</td>\n",
       "      <td>1659396245</td>\n",
       "      <td>0</td>\n",
       "      <td>1412178</td>\n",
       "      <td>1659839601</td>\n",
       "      <td>1</td>\n",
       "    </tr>\n",
       "    <tr>\n",
       "      <th>4</th>\n",
       "      <td>1252181</td>\n",
       "      <td>1150072</td>\n",
       "      <td>1659396245</td>\n",
       "      <td>0</td>\n",
       "      <td>567959</td>\n",
       "      <td>1659839627</td>\n",
       "      <td>0</td>\n",
       "    </tr>\n",
       "    <tr>\n",
       "      <th>5</th>\n",
       "      <td>1252181</td>\n",
       "      <td>1150072</td>\n",
       "      <td>1659396245</td>\n",
       "      <td>0</td>\n",
       "      <td>567959</td>\n",
       "      <td>1659839652</td>\n",
       "      <td>1</td>\n",
       "    </tr>\n",
       "    <tr>\n",
       "      <th>6</th>\n",
       "      <td>1252181</td>\n",
       "      <td>1150072</td>\n",
       "      <td>1659396245</td>\n",
       "      <td>0</td>\n",
       "      <td>1590011</td>\n",
       "      <td>1659839669</td>\n",
       "      <td>0</td>\n",
       "    </tr>\n",
       "    <tr>\n",
       "      <th>7</th>\n",
       "      <td>1252181</td>\n",
       "      <td>1150072</td>\n",
       "      <td>1659396245</td>\n",
       "      <td>0</td>\n",
       "      <td>1410065</td>\n",
       "      <td>1659839702</td>\n",
       "      <td>0</td>\n",
       "    </tr>\n",
       "    <tr>\n",
       "      <th>8</th>\n",
       "      <td>1252181</td>\n",
       "      <td>1150072</td>\n",
       "      <td>1659396245</td>\n",
       "      <td>0</td>\n",
       "      <td>527209</td>\n",
       "      <td>1659839727</td>\n",
       "      <td>0</td>\n",
       "    </tr>\n",
       "    <tr>\n",
       "      <th>9</th>\n",
       "      <td>1252181</td>\n",
       "      <td>1150072</td>\n",
       "      <td>1659396245</td>\n",
       "      <td>0</td>\n",
       "      <td>118631</td>\n",
       "      <td>1660746871</td>\n",
       "      <td>0</td>\n",
       "    </tr>\n",
       "    <tr>\n",
       "      <th>10</th>\n",
       "      <td>1252181</td>\n",
       "      <td>1150072</td>\n",
       "      <td>1659396245</td>\n",
       "      <td>0</td>\n",
       "      <td>1810463</td>\n",
       "      <td>1660746883</td>\n",
       "      <td>0</td>\n",
       "    </tr>\n",
       "    <tr>\n",
       "      <th>11</th>\n",
       "      <td>1252181</td>\n",
       "      <td>1150072</td>\n",
       "      <td>1659396245</td>\n",
       "      <td>0</td>\n",
       "      <td>1810463</td>\n",
       "      <td>1660746896</td>\n",
       "      <td>1</td>\n",
       "    </tr>\n",
       "    <tr>\n",
       "      <th>12</th>\n",
       "      <td>1252181</td>\n",
       "      <td>1150072</td>\n",
       "      <td>1659396245</td>\n",
       "      <td>0</td>\n",
       "      <td>809254</td>\n",
       "      <td>1660841728</td>\n",
       "      <td>0</td>\n",
       "    </tr>\n",
       "    <tr>\n",
       "      <th>13</th>\n",
       "      <td>1252181</td>\n",
       "      <td>1150072</td>\n",
       "      <td>1659396245</td>\n",
       "      <td>0</td>\n",
       "      <td>252823</td>\n",
       "      <td>1660841753</td>\n",
       "      <td>1</td>\n",
       "    </tr>\n",
       "    <tr>\n",
       "      <th>14</th>\n",
       "      <td>1252181</td>\n",
       "      <td>1150072</td>\n",
       "      <td>1659396245</td>\n",
       "      <td>0</td>\n",
       "      <td>809254</td>\n",
       "      <td>1660841762</td>\n",
       "      <td>1</td>\n",
       "    </tr>\n",
       "    <tr>\n",
       "      <th>15</th>\n",
       "      <td>1252181</td>\n",
       "      <td>1150072</td>\n",
       "      <td>1659396245</td>\n",
       "      <td>0</td>\n",
       "      <td>755752</td>\n",
       "      <td>1660841916</td>\n",
       "      <td>0</td>\n",
       "    </tr>\n",
       "    <tr>\n",
       "      <th>16</th>\n",
       "      <td>1252181</td>\n",
       "      <td>1150072</td>\n",
       "      <td>1659396245</td>\n",
       "      <td>0</td>\n",
       "      <td>473784</td>\n",
       "      <td>1660841955</td>\n",
       "      <td>0</td>\n",
       "    </tr>\n",
       "    <tr>\n",
       "      <th>17</th>\n",
       "      <td>1252181</td>\n",
       "      <td>1150072</td>\n",
       "      <td>1659396245</td>\n",
       "      <td>0</td>\n",
       "      <td>1043532</td>\n",
       "      <td>1660884796</td>\n",
       "      <td>0</td>\n",
       "    </tr>\n",
       "    <tr>\n",
       "      <th>18</th>\n",
       "      <td>1252181</td>\n",
       "      <td>1150072</td>\n",
       "      <td>1659396245</td>\n",
       "      <td>0</td>\n",
       "      <td>424449</td>\n",
       "      <td>1660884938</td>\n",
       "      <td>0</td>\n",
       "    </tr>\n",
       "    <tr>\n",
       "      <th>19</th>\n",
       "      <td>1252181</td>\n",
       "      <td>1150072</td>\n",
       "      <td>1659396245</td>\n",
       "      <td>0</td>\n",
       "      <td>1084504</td>\n",
       "      <td>1661677104</td>\n",
       "      <td>0</td>\n",
       "    </tr>\n",
       "    <tr>\n",
       "      <th>20</th>\n",
       "      <td>1252181</td>\n",
       "      <td>1150072</td>\n",
       "      <td>1659396245</td>\n",
       "      <td>0</td>\n",
       "      <td>1043532</td>\n",
       "      <td>1661677227</td>\n",
       "      <td>0</td>\n",
       "    </tr>\n",
       "    <tr>\n",
       "      <th>21</th>\n",
       "      <td>1252181</td>\n",
       "      <td>1150072</td>\n",
       "      <td>1659396245</td>\n",
       "      <td>0</td>\n",
       "      <td>30388</td>\n",
       "      <td>1661677294</td>\n",
       "      <td>0</td>\n",
       "    </tr>\n",
       "    <tr>\n",
       "      <th>22</th>\n",
       "      <td>1252181</td>\n",
       "      <td>1150072</td>\n",
       "      <td>1659396245</td>\n",
       "      <td>0</td>\n",
       "      <td>1001867</td>\n",
       "      <td>1661677339</td>\n",
       "      <td>0</td>\n",
       "    </tr>\n",
       "    <tr>\n",
       "      <th>23</th>\n",
       "      <td>1252181</td>\n",
       "      <td>1150072</td>\n",
       "      <td>1659396245</td>\n",
       "      <td>0</td>\n",
       "      <td>473301</td>\n",
       "      <td>1661677465</td>\n",
       "      <td>0</td>\n",
       "    </tr>\n",
       "    <tr>\n",
       "      <th>24</th>\n",
       "      <td>1252181</td>\n",
       "      <td>1053941</td>\n",
       "      <td>1659839377</td>\n",
       "      <td>0</td>\n",
       "      <td>1150072</td>\n",
       "      <td>1659396245</td>\n",
       "      <td>0</td>\n",
       "    </tr>\n",
       "    <tr>\n",
       "      <th>25</th>\n",
       "      <td>1252181</td>\n",
       "      <td>1053941</td>\n",
       "      <td>1659839377</td>\n",
       "      <td>0</td>\n",
       "      <td>1053941</td>\n",
       "      <td>1659839377</td>\n",
       "      <td>0</td>\n",
       "    </tr>\n",
       "    <tr>\n",
       "      <th>26</th>\n",
       "      <td>1252181</td>\n",
       "      <td>1053941</td>\n",
       "      <td>1659839377</td>\n",
       "      <td>0</td>\n",
       "      <td>1412178</td>\n",
       "      <td>1659839582</td>\n",
       "      <td>0</td>\n",
       "    </tr>\n",
       "    <tr>\n",
       "      <th>27</th>\n",
       "      <td>1252181</td>\n",
       "      <td>1053941</td>\n",
       "      <td>1659839377</td>\n",
       "      <td>0</td>\n",
       "      <td>1412178</td>\n",
       "      <td>1659839601</td>\n",
       "      <td>1</td>\n",
       "    </tr>\n",
       "    <tr>\n",
       "      <th>28</th>\n",
       "      <td>1252181</td>\n",
       "      <td>1053941</td>\n",
       "      <td>1659839377</td>\n",
       "      <td>0</td>\n",
       "      <td>567959</td>\n",
       "      <td>1659839627</td>\n",
       "      <td>0</td>\n",
       "    </tr>\n",
       "    <tr>\n",
       "      <th>29</th>\n",
       "      <td>1252181</td>\n",
       "      <td>1053941</td>\n",
       "      <td>1659839377</td>\n",
       "      <td>0</td>\n",
       "      <td>567959</td>\n",
       "      <td>1659839652</td>\n",
       "      <td>1</td>\n",
       "    </tr>\n",
       "  </tbody>\n",
       "</table>\n",
       "</div>"
      ],
      "text/plain": [
       "    session    aid_x        ts_x  type_x    aid_y        ts_y  type_y\n",
       "0   1252181  1150072  1659396245       0  1150072  1659396245       0\n",
       "1   1252181  1150072  1659396245       0  1053941  1659839377       0\n",
       "2   1252181  1150072  1659396245       0  1412178  1659839582       0\n",
       "3   1252181  1150072  1659396245       0  1412178  1659839601       1\n",
       "4   1252181  1150072  1659396245       0   567959  1659839627       0\n",
       "5   1252181  1150072  1659396245       0   567959  1659839652       1\n",
       "6   1252181  1150072  1659396245       0  1590011  1659839669       0\n",
       "7   1252181  1150072  1659396245       0  1410065  1659839702       0\n",
       "8   1252181  1150072  1659396245       0   527209  1659839727       0\n",
       "9   1252181  1150072  1659396245       0   118631  1660746871       0\n",
       "10  1252181  1150072  1659396245       0  1810463  1660746883       0\n",
       "11  1252181  1150072  1659396245       0  1810463  1660746896       1\n",
       "12  1252181  1150072  1659396245       0   809254  1660841728       0\n",
       "13  1252181  1150072  1659396245       0   252823  1660841753       1\n",
       "14  1252181  1150072  1659396245       0   809254  1660841762       1\n",
       "15  1252181  1150072  1659396245       0   755752  1660841916       0\n",
       "16  1252181  1150072  1659396245       0   473784  1660841955       0\n",
       "17  1252181  1150072  1659396245       0  1043532  1660884796       0\n",
       "18  1252181  1150072  1659396245       0   424449  1660884938       0\n",
       "19  1252181  1150072  1659396245       0  1084504  1661677104       0\n",
       "20  1252181  1150072  1659396245       0  1043532  1661677227       0\n",
       "21  1252181  1150072  1659396245       0    30388  1661677294       0\n",
       "22  1252181  1150072  1659396245       0  1001867  1661677339       0\n",
       "23  1252181  1150072  1659396245       0   473301  1661677465       0\n",
       "24  1252181  1053941  1659839377       0  1150072  1659396245       0\n",
       "25  1252181  1053941  1659839377       0  1053941  1659839377       0\n",
       "26  1252181  1053941  1659839377       0  1412178  1659839582       0\n",
       "27  1252181  1053941  1659839377       0  1412178  1659839601       1\n",
       "28  1252181  1053941  1659839377       0   567959  1659839627       0\n",
       "29  1252181  1053941  1659839377       0   567959  1659839652       1"
      ]
     },
     "execution_count": null,
     "metadata": {},
     "output_type": "execute_result"
    },
    {
     "name": "stderr",
     "output_type": "stream",
     "text": [
      "13:32:49.89 LOG:\n",
      "13:32:49.90 .... consecutive_AIDs[29:61] =     session    aid_x        ts_x  type_x    aid_y        ts_y  type_y\n",
      "13:32:49.90                                29  1252181  1053941  1659839377       0   567959  1659839652       1\n",
      "13:32:49.90                                30  1252181  1053941  1659839377       0  1590011  1659839669       0\n",
      "13:32:49.90                                31  1252181  1053941  1659839377       0  1410065  1659839702       0\n",
      "13:32:49.90                                32  1252181  1053941  1659839377       0   527209  1659839727       0\n",
      "13:32:49.90                                33  1252181  1053941  1659839377       0   118631  1660746871       0\n",
      "13:32:49.90                                34  1252181  1053941  1659839377       0  1810463  1660746883       0\n",
      "13:32:49.90                                35  1252181  1053941  1659839377       0  1810463  1660746896       1\n",
      "13:32:49.90                                36  1252181  1053941  1659839377       0   809254  1660841728       0\n",
      "13:32:49.90                                37  1252181  1053941  1659839377       0   252823  1660841753       1\n",
      "13:32:49.90                                38  1252181  1053941  1659839377       0   809254  1660841762       1\n",
      "13:32:49.90                                39  1252181  1053941  1659839377       0   755752  1660841916       0\n",
      "13:32:49.90                                40  1252181  1053941  1659839377       0   473784  1660841955       0\n",
      "13:32:49.90                                41  1252181  1053941  1659839377       0  1043532  1660884796       0\n",
      "13:32:49.90                                42  1252181  1053941  1659839377       0   424449  1660884938       0\n",
      "13:32:49.90                                43  1252181  1053941  1659839377       0  1084504  1661677104       0\n",
      "13:32:49.90                                44  1252181  1053941  1659839377       0  1043532  1661677227       0\n",
      "13:32:49.90                                45  1252181  1053941  1659839377       0    30388  1661677294       0\n",
      "13:32:49.90                                46  1252181  1053941  1659839377       0  1001867  1661677339       0\n",
      "13:32:49.90                                47  1252181  1053941  1659839377       0   473301  1661677465       0\n",
      "13:32:49.90                                48  1252181  1412178  1659839582       0  1150072  1659396245       0\n",
      "13:32:49.90                                49  1252181  1412178  1659839582       0  1053941  1659839377       0\n",
      "13:32:49.90                                50  1252181  1412178  1659839582       0  1412178  1659839582       0\n",
      "13:32:49.90                                51  1252181  1412178  1659839582       0  1412178  1659839601       1\n",
      "13:32:49.90                                52  1252181  1412178  1659839582       0   567959  1659839627       0\n",
      "13:32:49.90                                53  1252181  1412178  1659839582       0   567959  1659839652       1\n",
      "13:32:49.90                                54  1252181  1412178  1659839582       0  1590011  1659839669       0\n",
      "13:32:49.90                                55  1252181  1412178  1659839582       0  1410065  1659839702       0\n",
      "13:32:49.90                                56  1252181  1412178  1659839582       0   527209  1659839727       0\n",
      "13:32:49.90                                57  1252181  1412178  1659839582       0   118631  1660746871       0\n",
      "13:32:49.90                                58  1252181  1412178  1659839582       0  1810463  1660746883       0\n",
      "13:32:49.90                                59  1252181  1412178  1659839582       0  1810463  1660746896       1\n",
      "13:32:49.90                                60  1252181  1412178  1659839582       0   809254  1660841728       0\n"
     ]
    },
    {
     "data": {
      "text/html": [
       "<div>\n",
       "<style scoped>\n",
       "    .dataframe tbody tr th:only-of-type {\n",
       "        vertical-align: middle;\n",
       "    }\n",
       "\n",
       "    .dataframe tbody tr th {\n",
       "        vertical-align: top;\n",
       "    }\n",
       "\n",
       "    .dataframe thead th {\n",
       "        text-align: right;\n",
       "    }\n",
       "</style>\n",
       "<table border=\"1\" class=\"dataframe\">\n",
       "  <thead>\n",
       "    <tr style=\"text-align: right;\">\n",
       "      <th></th>\n",
       "      <th>session</th>\n",
       "      <th>aid_x</th>\n",
       "      <th>ts_x</th>\n",
       "      <th>type_x</th>\n",
       "      <th>aid_y</th>\n",
       "      <th>ts_y</th>\n",
       "      <th>type_y</th>\n",
       "    </tr>\n",
       "  </thead>\n",
       "  <tbody>\n",
       "    <tr>\n",
       "      <th>29</th>\n",
       "      <td>1252181</td>\n",
       "      <td>1053941</td>\n",
       "      <td>1659839377</td>\n",
       "      <td>0</td>\n",
       "      <td>567959</td>\n",
       "      <td>1659839652</td>\n",
       "      <td>1</td>\n",
       "    </tr>\n",
       "    <tr>\n",
       "      <th>30</th>\n",
       "      <td>1252181</td>\n",
       "      <td>1053941</td>\n",
       "      <td>1659839377</td>\n",
       "      <td>0</td>\n",
       "      <td>1590011</td>\n",
       "      <td>1659839669</td>\n",
       "      <td>0</td>\n",
       "    </tr>\n",
       "    <tr>\n",
       "      <th>31</th>\n",
       "      <td>1252181</td>\n",
       "      <td>1053941</td>\n",
       "      <td>1659839377</td>\n",
       "      <td>0</td>\n",
       "      <td>1410065</td>\n",
       "      <td>1659839702</td>\n",
       "      <td>0</td>\n",
       "    </tr>\n",
       "    <tr>\n",
       "      <th>32</th>\n",
       "      <td>1252181</td>\n",
       "      <td>1053941</td>\n",
       "      <td>1659839377</td>\n",
       "      <td>0</td>\n",
       "      <td>527209</td>\n",
       "      <td>1659839727</td>\n",
       "      <td>0</td>\n",
       "    </tr>\n",
       "    <tr>\n",
       "      <th>33</th>\n",
       "      <td>1252181</td>\n",
       "      <td>1053941</td>\n",
       "      <td>1659839377</td>\n",
       "      <td>0</td>\n",
       "      <td>118631</td>\n",
       "      <td>1660746871</td>\n",
       "      <td>0</td>\n",
       "    </tr>\n",
       "    <tr>\n",
       "      <th>34</th>\n",
       "      <td>1252181</td>\n",
       "      <td>1053941</td>\n",
       "      <td>1659839377</td>\n",
       "      <td>0</td>\n",
       "      <td>1810463</td>\n",
       "      <td>1660746883</td>\n",
       "      <td>0</td>\n",
       "    </tr>\n",
       "    <tr>\n",
       "      <th>35</th>\n",
       "      <td>1252181</td>\n",
       "      <td>1053941</td>\n",
       "      <td>1659839377</td>\n",
       "      <td>0</td>\n",
       "      <td>1810463</td>\n",
       "      <td>1660746896</td>\n",
       "      <td>1</td>\n",
       "    </tr>\n",
       "    <tr>\n",
       "      <th>36</th>\n",
       "      <td>1252181</td>\n",
       "      <td>1053941</td>\n",
       "      <td>1659839377</td>\n",
       "      <td>0</td>\n",
       "      <td>809254</td>\n",
       "      <td>1660841728</td>\n",
       "      <td>0</td>\n",
       "    </tr>\n",
       "    <tr>\n",
       "      <th>37</th>\n",
       "      <td>1252181</td>\n",
       "      <td>1053941</td>\n",
       "      <td>1659839377</td>\n",
       "      <td>0</td>\n",
       "      <td>252823</td>\n",
       "      <td>1660841753</td>\n",
       "      <td>1</td>\n",
       "    </tr>\n",
       "    <tr>\n",
       "      <th>38</th>\n",
       "      <td>1252181</td>\n",
       "      <td>1053941</td>\n",
       "      <td>1659839377</td>\n",
       "      <td>0</td>\n",
       "      <td>809254</td>\n",
       "      <td>1660841762</td>\n",
       "      <td>1</td>\n",
       "    </tr>\n",
       "    <tr>\n",
       "      <th>39</th>\n",
       "      <td>1252181</td>\n",
       "      <td>1053941</td>\n",
       "      <td>1659839377</td>\n",
       "      <td>0</td>\n",
       "      <td>755752</td>\n",
       "      <td>1660841916</td>\n",
       "      <td>0</td>\n",
       "    </tr>\n",
       "    <tr>\n",
       "      <th>40</th>\n",
       "      <td>1252181</td>\n",
       "      <td>1053941</td>\n",
       "      <td>1659839377</td>\n",
       "      <td>0</td>\n",
       "      <td>473784</td>\n",
       "      <td>1660841955</td>\n",
       "      <td>0</td>\n",
       "    </tr>\n",
       "    <tr>\n",
       "      <th>41</th>\n",
       "      <td>1252181</td>\n",
       "      <td>1053941</td>\n",
       "      <td>1659839377</td>\n",
       "      <td>0</td>\n",
       "      <td>1043532</td>\n",
       "      <td>1660884796</td>\n",
       "      <td>0</td>\n",
       "    </tr>\n",
       "    <tr>\n",
       "      <th>42</th>\n",
       "      <td>1252181</td>\n",
       "      <td>1053941</td>\n",
       "      <td>1659839377</td>\n",
       "      <td>0</td>\n",
       "      <td>424449</td>\n",
       "      <td>1660884938</td>\n",
       "      <td>0</td>\n",
       "    </tr>\n",
       "    <tr>\n",
       "      <th>43</th>\n",
       "      <td>1252181</td>\n",
       "      <td>1053941</td>\n",
       "      <td>1659839377</td>\n",
       "      <td>0</td>\n",
       "      <td>1084504</td>\n",
       "      <td>1661677104</td>\n",
       "      <td>0</td>\n",
       "    </tr>\n",
       "    <tr>\n",
       "      <th>44</th>\n",
       "      <td>1252181</td>\n",
       "      <td>1053941</td>\n",
       "      <td>1659839377</td>\n",
       "      <td>0</td>\n",
       "      <td>1043532</td>\n",
       "      <td>1661677227</td>\n",
       "      <td>0</td>\n",
       "    </tr>\n",
       "    <tr>\n",
       "      <th>45</th>\n",
       "      <td>1252181</td>\n",
       "      <td>1053941</td>\n",
       "      <td>1659839377</td>\n",
       "      <td>0</td>\n",
       "      <td>30388</td>\n",
       "      <td>1661677294</td>\n",
       "      <td>0</td>\n",
       "    </tr>\n",
       "    <tr>\n",
       "      <th>46</th>\n",
       "      <td>1252181</td>\n",
       "      <td>1053941</td>\n",
       "      <td>1659839377</td>\n",
       "      <td>0</td>\n",
       "      <td>1001867</td>\n",
       "      <td>1661677339</td>\n",
       "      <td>0</td>\n",
       "    </tr>\n",
       "    <tr>\n",
       "      <th>47</th>\n",
       "      <td>1252181</td>\n",
       "      <td>1053941</td>\n",
       "      <td>1659839377</td>\n",
       "      <td>0</td>\n",
       "      <td>473301</td>\n",
       "      <td>1661677465</td>\n",
       "      <td>0</td>\n",
       "    </tr>\n",
       "    <tr>\n",
       "      <th>48</th>\n",
       "      <td>1252181</td>\n",
       "      <td>1412178</td>\n",
       "      <td>1659839582</td>\n",
       "      <td>0</td>\n",
       "      <td>1150072</td>\n",
       "      <td>1659396245</td>\n",
       "      <td>0</td>\n",
       "    </tr>\n",
       "    <tr>\n",
       "      <th>49</th>\n",
       "      <td>1252181</td>\n",
       "      <td>1412178</td>\n",
       "      <td>1659839582</td>\n",
       "      <td>0</td>\n",
       "      <td>1053941</td>\n",
       "      <td>1659839377</td>\n",
       "      <td>0</td>\n",
       "    </tr>\n",
       "    <tr>\n",
       "      <th>50</th>\n",
       "      <td>1252181</td>\n",
       "      <td>1412178</td>\n",
       "      <td>1659839582</td>\n",
       "      <td>0</td>\n",
       "      <td>1412178</td>\n",
       "      <td>1659839582</td>\n",
       "      <td>0</td>\n",
       "    </tr>\n",
       "    <tr>\n",
       "      <th>51</th>\n",
       "      <td>1252181</td>\n",
       "      <td>1412178</td>\n",
       "      <td>1659839582</td>\n",
       "      <td>0</td>\n",
       "      <td>1412178</td>\n",
       "      <td>1659839601</td>\n",
       "      <td>1</td>\n",
       "    </tr>\n",
       "    <tr>\n",
       "      <th>52</th>\n",
       "      <td>1252181</td>\n",
       "      <td>1412178</td>\n",
       "      <td>1659839582</td>\n",
       "      <td>0</td>\n",
       "      <td>567959</td>\n",
       "      <td>1659839627</td>\n",
       "      <td>0</td>\n",
       "    </tr>\n",
       "    <tr>\n",
       "      <th>53</th>\n",
       "      <td>1252181</td>\n",
       "      <td>1412178</td>\n",
       "      <td>1659839582</td>\n",
       "      <td>0</td>\n",
       "      <td>567959</td>\n",
       "      <td>1659839652</td>\n",
       "      <td>1</td>\n",
       "    </tr>\n",
       "    <tr>\n",
       "      <th>54</th>\n",
       "      <td>1252181</td>\n",
       "      <td>1412178</td>\n",
       "      <td>1659839582</td>\n",
       "      <td>0</td>\n",
       "      <td>1590011</td>\n",
       "      <td>1659839669</td>\n",
       "      <td>0</td>\n",
       "    </tr>\n",
       "    <tr>\n",
       "      <th>55</th>\n",
       "      <td>1252181</td>\n",
       "      <td>1412178</td>\n",
       "      <td>1659839582</td>\n",
       "      <td>0</td>\n",
       "      <td>1410065</td>\n",
       "      <td>1659839702</td>\n",
       "      <td>0</td>\n",
       "    </tr>\n",
       "    <tr>\n",
       "      <th>56</th>\n",
       "      <td>1252181</td>\n",
       "      <td>1412178</td>\n",
       "      <td>1659839582</td>\n",
       "      <td>0</td>\n",
       "      <td>527209</td>\n",
       "      <td>1659839727</td>\n",
       "      <td>0</td>\n",
       "    </tr>\n",
       "    <tr>\n",
       "      <th>57</th>\n",
       "      <td>1252181</td>\n",
       "      <td>1412178</td>\n",
       "      <td>1659839582</td>\n",
       "      <td>0</td>\n",
       "      <td>118631</td>\n",
       "      <td>1660746871</td>\n",
       "      <td>0</td>\n",
       "    </tr>\n",
       "    <tr>\n",
       "      <th>58</th>\n",
       "      <td>1252181</td>\n",
       "      <td>1412178</td>\n",
       "      <td>1659839582</td>\n",
       "      <td>0</td>\n",
       "      <td>1810463</td>\n",
       "      <td>1660746883</td>\n",
       "      <td>0</td>\n",
       "    </tr>\n",
       "    <tr>\n",
       "      <th>59</th>\n",
       "      <td>1252181</td>\n",
       "      <td>1412178</td>\n",
       "      <td>1659839582</td>\n",
       "      <td>0</td>\n",
       "      <td>1810463</td>\n",
       "      <td>1660746896</td>\n",
       "      <td>1</td>\n",
       "    </tr>\n",
       "    <tr>\n",
       "      <th>60</th>\n",
       "      <td>1252181</td>\n",
       "      <td>1412178</td>\n",
       "      <td>1659839582</td>\n",
       "      <td>0</td>\n",
       "      <td>809254</td>\n",
       "      <td>1660841728</td>\n",
       "      <td>0</td>\n",
       "    </tr>\n",
       "  </tbody>\n",
       "</table>\n",
       "</div>"
      ],
      "text/plain": [
       "    session    aid_x        ts_x  type_x    aid_y        ts_y  type_y\n",
       "29  1252181  1053941  1659839377       0   567959  1659839652       1\n",
       "30  1252181  1053941  1659839377       0  1590011  1659839669       0\n",
       "31  1252181  1053941  1659839377       0  1410065  1659839702       0\n",
       "32  1252181  1053941  1659839377       0   527209  1659839727       0\n",
       "33  1252181  1053941  1659839377       0   118631  1660746871       0\n",
       "34  1252181  1053941  1659839377       0  1810463  1660746883       0\n",
       "35  1252181  1053941  1659839377       0  1810463  1660746896       1\n",
       "36  1252181  1053941  1659839377       0   809254  1660841728       0\n",
       "37  1252181  1053941  1659839377       0   252823  1660841753       1\n",
       "38  1252181  1053941  1659839377       0   809254  1660841762       1\n",
       "39  1252181  1053941  1659839377       0   755752  1660841916       0\n",
       "40  1252181  1053941  1659839377       0   473784  1660841955       0\n",
       "41  1252181  1053941  1659839377       0  1043532  1660884796       0\n",
       "42  1252181  1053941  1659839377       0   424449  1660884938       0\n",
       "43  1252181  1053941  1659839377       0  1084504  1661677104       0\n",
       "44  1252181  1053941  1659839377       0  1043532  1661677227       0\n",
       "45  1252181  1053941  1659839377       0    30388  1661677294       0\n",
       "46  1252181  1053941  1659839377       0  1001867  1661677339       0\n",
       "47  1252181  1053941  1659839377       0   473301  1661677465       0\n",
       "48  1252181  1412178  1659839582       0  1150072  1659396245       0\n",
       "49  1252181  1412178  1659839582       0  1053941  1659839377       0\n",
       "50  1252181  1412178  1659839582       0  1412178  1659839582       0\n",
       "51  1252181  1412178  1659839582       0  1412178  1659839601       1\n",
       "52  1252181  1412178  1659839582       0   567959  1659839627       0\n",
       "53  1252181  1412178  1659839582       0   567959  1659839652       1\n",
       "54  1252181  1412178  1659839582       0  1590011  1659839669       0\n",
       "55  1252181  1412178  1659839582       0  1410065  1659839702       0\n",
       "56  1252181  1412178  1659839582       0   527209  1659839727       0\n",
       "57  1252181  1412178  1659839582       0   118631  1660746871       0\n",
       "58  1252181  1412178  1659839582       0  1810463  1660746883       0\n",
       "59  1252181  1412178  1659839582       0  1810463  1660746896       1\n",
       "60  1252181  1412178  1659839582       0   809254  1660841728       0"
      ]
     },
     "execution_count": null,
     "metadata": {},
     "output_type": "execute_result"
    }
   ],
   "source": [
    "chunk_size = 30_000\n",
    "\n",
    "for i in range(0, sessions.shape[0], chunk_size): # loop every 30_000 unique sessions\n",
    "    \n",
    "    #### take a chunk_size number of sessions (each session in its entirety, ie., many rows) from subsets as current_chunk\n",
    "    \n",
    "#     pp(i, sessions[i], sessions.shape[0]-1, i+chunk_size-1, min(sessions.shape[0]-1, i+chunk_size-1))\n",
    "    current_chunk = subsets.loc[sessions[i]:sessions[min(sessions.shape[0]-1, i+chunk_size-1)]].reset_index(drop=True) # to remove index column\n",
    "#     pp(current_chunk.head(), current_chunk.tail())\n",
    "#     break\n",
    "\n",
    "    #### In current_chunk, from each session (in its entirety) only takes the last/latest 30 events and combine them to update current_chunk\n",
    "#     pp(range(-30,0), list(range(-30,0)))\n",
    "    current_chunk = current_chunk.groupby('session', as_index=False).nth(list(range(-30,0))).reset_index(drop=True)\n",
    "#     pp(current_chunk[:31], current_chunk[29:61])\n",
    "#     pp(doc_sig(pd.DataFrame.reset_index))\n",
    "#     pp(doc_sig(current_chunk.groupby('session', as_index=False).nth))\n",
    "#     break\n",
    "\n",
    "    #### merge an session of its entirety onto itself (help to see the relation between one aid and every other aid within each session)\n",
    "    consecutive_AIDs = current_chunk.merge(current_chunk, on='session')\n",
    "    pp(consecutive_AIDs[:30])\n",
    "    pp(consecutive_AIDs[29:61])\n",
    "    break\n",
    "\n",
    "    #### remove all the rows which aid_x == aid_y (remove the row when the two articles are the same)\n",
    "    consecutive_AIDs = consecutive_AIDs[consecutive_AIDs.aid_x != consecutive_AIDs.aid_y]\n",
    "    \n",
    "    #### add a column named 'days_elapsed' which shows how many days passed between the two aids in a session\n",
    "    consecutive_AIDs['days_elapsed'] = (consecutive_AIDs.ts_y - consecutive_AIDs.ts_x) / (24 * 60 * 60)\n",
    "#     pp(consecutive_AIDs[:61])\n",
    "\n",
    "    #### keep the rows if the two aids of a session are occurred within the same day on the right order\n",
    "    consecutive_AIDs = consecutive_AIDs[(consecutive_AIDs.days_elapsed >= 0) & (consecutive_AIDs.days_elapsed <= 1)]\n",
    "    \n",
    "    #### among all sessions or all users, for each article occurred, count how often the other articles are occurred\n",
    "    for aid_x, aid_y in zip(consecutive_AIDs['aid_x'], consecutive_AIDs['aid_y']):\n",
    "        next_AIDs[aid_x][aid_y] += 1\n",
    "    "
   ]
  },
  {
   "cell_type": "markdown",
   "metadata": {},
   "source": [
    "### rd: recsys - otto - covisitation_simplified - remove all the rows which aid_x == aid_y (remove the row when the two articles are the same) as they are meaningless - consecutive_AIDs[consecutive_AIDs.aid_x != consecutive_AIDs.aid_y]\n",
    "\n",
    "### rd: recsys - otto - covisitation_simplified - add a column named 'days_elapsed' which shows how many days passed between the two aids in a session - consecutive_AIDs['days_elapsed'] = (consecutive_AIDs.ts_y - consecutive_AIDs.ts_x) / (24 * 60 * 60)\n",
    "\n",
    "### rd: recsys - otto - covisitation_simplified - keep the rows if the two aids of a session are occurred within the same day on the right order (one after the other) -     consecutive_AIDs = consecutive_AIDs[(consecutive_AIDs.days_elapsed >= 0) & (consecutive_AIDs.days_elapsed <= 1)]"
   ]
  },
  {
   "cell_type": "code",
   "execution_count": null,
   "metadata": {},
   "outputs": [
    {
     "name": "stderr",
     "output_type": "stream",
     "text": [
      "13:32:49.94 LOG:\n",
      "13:32:49.95 .... consecutive_AIDs[:20] =     session    aid_x        ts_x  type_x    aid_y        ts_y  type_y  \\\n",
      "13:32:49.95                              1   1252181  1150072  1659396245       0  1053941  1659839377       0   \n",
      "13:32:49.95                              2   1252181  1150072  1659396245       0  1412178  1659839582       0   \n",
      "13:32:49.95                              3   1252181  1150072  1659396245       0  1412178  1659839601       1   \n",
      "13:32:49.95                              4   1252181  1150072  1659396245       0   567959  1659839627       0   \n",
      "13:32:49.95                              5   1252181  1150072  1659396245       0   567959  1659839652       1   \n",
      "13:32:49.95                              6   1252181  1150072  1659396245       0  1590011  1659839669       0   \n",
      "13:32:49.95                              7   1252181  1150072  1659396245       0  1410065  1659839702       0   \n",
      "13:32:49.95                              8   1252181  1150072  1659396245       0   527209  1659839727       0   \n",
      "13:32:49.95                              9   1252181  1150072  1659396245       0   118631  1660746871       0   \n",
      "13:32:49.95                              10  1252181  1150072  1659396245       0  1810463  1660746883       0   \n",
      "13:32:49.95                              11  1252181  1150072  1659396245       0  1810463  1660746896       1   \n",
      "13:32:49.95                              12  1252181  1150072  1659396245       0   809254  1660841728       0   \n",
      "13:32:49.95                              13  1252181  1150072  1659396245       0   252823  1660841753       1   \n",
      "13:32:49.95                              14  1252181  1150072  1659396245       0   809254  1660841762       1   \n",
      "13:32:49.95                              15  1252181  1150072  1659396245       0   755752  1660841916       0   \n",
      "13:32:49.95                              16  1252181  1150072  1659396245       0   473784  1660841955       0   \n",
      "13:32:49.95                              17  1252181  1150072  1659396245       0  1043532  1660884796       0   \n",
      "13:32:49.95                              18  1252181  1150072  1659396245       0   424449  1660884938       0   \n",
      "13:32:49.95                              19  1252181  1150072  1659396245       0  1084504  1661677104       0   \n",
      "13:32:49.95                              20  1252181  1150072  1659396245       0  1043532  1661677227       0   \n",
      "13:32:49.95                              \n",
      "13:32:49.95                                  days_elapsed  \n",
      "13:32:49.95                              1       5.128843  \n",
      "13:32:49.95                              2       5.131215  \n",
      "13:32:49.95                              3       5.131435  \n",
      "13:32:49.95                              4       5.131736  \n",
      "13:32:49.95                              5       5.132025  \n",
      "13:32:49.95                              6       5.132222  \n",
      "13:32:49.95                              7       5.132604  \n",
      "13:32:49.95                              8       5.132894  \n",
      "13:32:49.95                              9      15.632245  \n",
      "13:32:49.95                              10     15.632384  \n",
      "13:32:49.95                              11     15.632535  \n",
      "13:32:49.95                              12     16.730127  \n",
      "13:32:49.95                              13     16.730417  \n",
      "13:32:49.95                              14     16.730521  \n",
      "13:32:49.95                              15     16.732303  \n",
      "13:32:49.95                              16     16.732755  \n",
      "13:32:49.95                              17     17.228600  \n",
      "13:32:49.95                              18     17.230243  \n",
      "13:32:49.95                              19     26.398831  \n",
      "13:32:49.95                              20     26.400255  \n"
     ]
    },
    {
     "data": {
      "text/html": [
       "<div>\n",
       "<style scoped>\n",
       "    .dataframe tbody tr th:only-of-type {\n",
       "        vertical-align: middle;\n",
       "    }\n",
       "\n",
       "    .dataframe tbody tr th {\n",
       "        vertical-align: top;\n",
       "    }\n",
       "\n",
       "    .dataframe thead th {\n",
       "        text-align: right;\n",
       "    }\n",
       "</style>\n",
       "<table border=\"1\" class=\"dataframe\">\n",
       "  <thead>\n",
       "    <tr style=\"text-align: right;\">\n",
       "      <th></th>\n",
       "      <th>session</th>\n",
       "      <th>aid_x</th>\n",
       "      <th>ts_x</th>\n",
       "      <th>type_x</th>\n",
       "      <th>aid_y</th>\n",
       "      <th>ts_y</th>\n",
       "      <th>type_y</th>\n",
       "      <th>days_elapsed</th>\n",
       "    </tr>\n",
       "  </thead>\n",
       "  <tbody>\n",
       "    <tr>\n",
       "      <th>1</th>\n",
       "      <td>1252181</td>\n",
       "      <td>1150072</td>\n",
       "      <td>1659396245</td>\n",
       "      <td>0</td>\n",
       "      <td>1053941</td>\n",
       "      <td>1659839377</td>\n",
       "      <td>0</td>\n",
       "      <td>5.128843</td>\n",
       "    </tr>\n",
       "    <tr>\n",
       "      <th>2</th>\n",
       "      <td>1252181</td>\n",
       "      <td>1150072</td>\n",
       "      <td>1659396245</td>\n",
       "      <td>0</td>\n",
       "      <td>1412178</td>\n",
       "      <td>1659839582</td>\n",
       "      <td>0</td>\n",
       "      <td>5.131215</td>\n",
       "    </tr>\n",
       "    <tr>\n",
       "      <th>3</th>\n",
       "      <td>1252181</td>\n",
       "      <td>1150072</td>\n",
       "      <td>1659396245</td>\n",
       "      <td>0</td>\n",
       "      <td>1412178</td>\n",
       "      <td>1659839601</td>\n",
       "      <td>1</td>\n",
       "      <td>5.131435</td>\n",
       "    </tr>\n",
       "    <tr>\n",
       "      <th>4</th>\n",
       "      <td>1252181</td>\n",
       "      <td>1150072</td>\n",
       "      <td>1659396245</td>\n",
       "      <td>0</td>\n",
       "      <td>567959</td>\n",
       "      <td>1659839627</td>\n",
       "      <td>0</td>\n",
       "      <td>5.131736</td>\n",
       "    </tr>\n",
       "    <tr>\n",
       "      <th>5</th>\n",
       "      <td>1252181</td>\n",
       "      <td>1150072</td>\n",
       "      <td>1659396245</td>\n",
       "      <td>0</td>\n",
       "      <td>567959</td>\n",
       "      <td>1659839652</td>\n",
       "      <td>1</td>\n",
       "      <td>5.132025</td>\n",
       "    </tr>\n",
       "    <tr>\n",
       "      <th>6</th>\n",
       "      <td>1252181</td>\n",
       "      <td>1150072</td>\n",
       "      <td>1659396245</td>\n",
       "      <td>0</td>\n",
       "      <td>1590011</td>\n",
       "      <td>1659839669</td>\n",
       "      <td>0</td>\n",
       "      <td>5.132222</td>\n",
       "    </tr>\n",
       "    <tr>\n",
       "      <th>7</th>\n",
       "      <td>1252181</td>\n",
       "      <td>1150072</td>\n",
       "      <td>1659396245</td>\n",
       "      <td>0</td>\n",
       "      <td>1410065</td>\n",
       "      <td>1659839702</td>\n",
       "      <td>0</td>\n",
       "      <td>5.132604</td>\n",
       "    </tr>\n",
       "    <tr>\n",
       "      <th>8</th>\n",
       "      <td>1252181</td>\n",
       "      <td>1150072</td>\n",
       "      <td>1659396245</td>\n",
       "      <td>0</td>\n",
       "      <td>527209</td>\n",
       "      <td>1659839727</td>\n",
       "      <td>0</td>\n",
       "      <td>5.132894</td>\n",
       "    </tr>\n",
       "    <tr>\n",
       "      <th>9</th>\n",
       "      <td>1252181</td>\n",
       "      <td>1150072</td>\n",
       "      <td>1659396245</td>\n",
       "      <td>0</td>\n",
       "      <td>118631</td>\n",
       "      <td>1660746871</td>\n",
       "      <td>0</td>\n",
       "      <td>15.632245</td>\n",
       "    </tr>\n",
       "    <tr>\n",
       "      <th>10</th>\n",
       "      <td>1252181</td>\n",
       "      <td>1150072</td>\n",
       "      <td>1659396245</td>\n",
       "      <td>0</td>\n",
       "      <td>1810463</td>\n",
       "      <td>1660746883</td>\n",
       "      <td>0</td>\n",
       "      <td>15.632384</td>\n",
       "    </tr>\n",
       "    <tr>\n",
       "      <th>11</th>\n",
       "      <td>1252181</td>\n",
       "      <td>1150072</td>\n",
       "      <td>1659396245</td>\n",
       "      <td>0</td>\n",
       "      <td>1810463</td>\n",
       "      <td>1660746896</td>\n",
       "      <td>1</td>\n",
       "      <td>15.632535</td>\n",
       "    </tr>\n",
       "    <tr>\n",
       "      <th>12</th>\n",
       "      <td>1252181</td>\n",
       "      <td>1150072</td>\n",
       "      <td>1659396245</td>\n",
       "      <td>0</td>\n",
       "      <td>809254</td>\n",
       "      <td>1660841728</td>\n",
       "      <td>0</td>\n",
       "      <td>16.730127</td>\n",
       "    </tr>\n",
       "    <tr>\n",
       "      <th>13</th>\n",
       "      <td>1252181</td>\n",
       "      <td>1150072</td>\n",
       "      <td>1659396245</td>\n",
       "      <td>0</td>\n",
       "      <td>252823</td>\n",
       "      <td>1660841753</td>\n",
       "      <td>1</td>\n",
       "      <td>16.730417</td>\n",
       "    </tr>\n",
       "    <tr>\n",
       "      <th>14</th>\n",
       "      <td>1252181</td>\n",
       "      <td>1150072</td>\n",
       "      <td>1659396245</td>\n",
       "      <td>0</td>\n",
       "      <td>809254</td>\n",
       "      <td>1660841762</td>\n",
       "      <td>1</td>\n",
       "      <td>16.730521</td>\n",
       "    </tr>\n",
       "    <tr>\n",
       "      <th>15</th>\n",
       "      <td>1252181</td>\n",
       "      <td>1150072</td>\n",
       "      <td>1659396245</td>\n",
       "      <td>0</td>\n",
       "      <td>755752</td>\n",
       "      <td>1660841916</td>\n",
       "      <td>0</td>\n",
       "      <td>16.732303</td>\n",
       "    </tr>\n",
       "    <tr>\n",
       "      <th>16</th>\n",
       "      <td>1252181</td>\n",
       "      <td>1150072</td>\n",
       "      <td>1659396245</td>\n",
       "      <td>0</td>\n",
       "      <td>473784</td>\n",
       "      <td>1660841955</td>\n",
       "      <td>0</td>\n",
       "      <td>16.732755</td>\n",
       "    </tr>\n",
       "    <tr>\n",
       "      <th>17</th>\n",
       "      <td>1252181</td>\n",
       "      <td>1150072</td>\n",
       "      <td>1659396245</td>\n",
       "      <td>0</td>\n",
       "      <td>1043532</td>\n",
       "      <td>1660884796</td>\n",
       "      <td>0</td>\n",
       "      <td>17.228600</td>\n",
       "    </tr>\n",
       "    <tr>\n",
       "      <th>18</th>\n",
       "      <td>1252181</td>\n",
       "      <td>1150072</td>\n",
       "      <td>1659396245</td>\n",
       "      <td>0</td>\n",
       "      <td>424449</td>\n",
       "      <td>1660884938</td>\n",
       "      <td>0</td>\n",
       "      <td>17.230243</td>\n",
       "    </tr>\n",
       "    <tr>\n",
       "      <th>19</th>\n",
       "      <td>1252181</td>\n",
       "      <td>1150072</td>\n",
       "      <td>1659396245</td>\n",
       "      <td>0</td>\n",
       "      <td>1084504</td>\n",
       "      <td>1661677104</td>\n",
       "      <td>0</td>\n",
       "      <td>26.398831</td>\n",
       "    </tr>\n",
       "    <tr>\n",
       "      <th>20</th>\n",
       "      <td>1252181</td>\n",
       "      <td>1150072</td>\n",
       "      <td>1659396245</td>\n",
       "      <td>0</td>\n",
       "      <td>1043532</td>\n",
       "      <td>1661677227</td>\n",
       "      <td>0</td>\n",
       "      <td>26.400255</td>\n",
       "    </tr>\n",
       "  </tbody>\n",
       "</table>\n",
       "</div>"
      ],
      "text/plain": [
       "    session    aid_x        ts_x  type_x    aid_y        ts_y  type_y  \\\n",
       "1   1252181  1150072  1659396245       0  1053941  1659839377       0   \n",
       "2   1252181  1150072  1659396245       0  1412178  1659839582       0   \n",
       "3   1252181  1150072  1659396245       0  1412178  1659839601       1   \n",
       "4   1252181  1150072  1659396245       0   567959  1659839627       0   \n",
       "5   1252181  1150072  1659396245       0   567959  1659839652       1   \n",
       "6   1252181  1150072  1659396245       0  1590011  1659839669       0   \n",
       "7   1252181  1150072  1659396245       0  1410065  1659839702       0   \n",
       "8   1252181  1150072  1659396245       0   527209  1659839727       0   \n",
       "9   1252181  1150072  1659396245       0   118631  1660746871       0   \n",
       "10  1252181  1150072  1659396245       0  1810463  1660746883       0   \n",
       "11  1252181  1150072  1659396245       0  1810463  1660746896       1   \n",
       "12  1252181  1150072  1659396245       0   809254  1660841728       0   \n",
       "13  1252181  1150072  1659396245       0   252823  1660841753       1   \n",
       "14  1252181  1150072  1659396245       0   809254  1660841762       1   \n",
       "15  1252181  1150072  1659396245       0   755752  1660841916       0   \n",
       "16  1252181  1150072  1659396245       0   473784  1660841955       0   \n",
       "17  1252181  1150072  1659396245       0  1043532  1660884796       0   \n",
       "18  1252181  1150072  1659396245       0   424449  1660884938       0   \n",
       "19  1252181  1150072  1659396245       0  1084504  1661677104       0   \n",
       "20  1252181  1150072  1659396245       0  1043532  1661677227       0   \n",
       "\n",
       "    days_elapsed  \n",
       "1       5.128843  \n",
       "2       5.131215  \n",
       "3       5.131435  \n",
       "4       5.131736  \n",
       "5       5.132025  \n",
       "6       5.132222  \n",
       "7       5.132604  \n",
       "8       5.132894  \n",
       "9      15.632245  \n",
       "10     15.632384  \n",
       "11     15.632535  \n",
       "12     16.730127  \n",
       "13     16.730417  \n",
       "14     16.730521  \n",
       "15     16.732303  \n",
       "16     16.732755  \n",
       "17     17.228600  \n",
       "18     17.230243  \n",
       "19     26.398831  \n",
       "20     26.400255  "
      ]
     },
     "execution_count": null,
     "metadata": {},
     "output_type": "execute_result"
    },
    {
     "name": "stderr",
     "output_type": "stream",
     "text": [
      "13:32:49.97 LOG:\n",
      "13:32:49.98 .... consecutive_AIDs[:20] =      session    aid_x        ts_x  type_x    aid_y        ts_y  type_y  \\\n",
      "13:32:49.98                              26   1252181  1053941  1659839377       0  1412178  1659839582       0   \n",
      "13:32:49.98                              27   1252181  1053941  1659839377       0  1412178  1659839601       1   \n",
      "13:32:49.98                              28   1252181  1053941  1659839377       0   567959  1659839627       0   \n",
      "13:32:49.98                              29   1252181  1053941  1659839377       0   567959  1659839652       1   \n",
      "13:32:49.98                              30   1252181  1053941  1659839377       0  1590011  1659839669       0   \n",
      "13:32:49.98                              31   1252181  1053941  1659839377       0  1410065  1659839702       0   \n",
      "13:32:49.98                              32   1252181  1053941  1659839377       0   527209  1659839727       0   \n",
      "13:32:49.98                              52   1252181  1412178  1659839582       0   567959  1659839627       0   \n",
      "13:32:49.98                              53   1252181  1412178  1659839582       0   567959  1659839652       1   \n",
      "13:32:49.98                              54   1252181  1412178  1659839582       0  1590011  1659839669       0   \n",
      "13:32:49.98                              55   1252181  1412178  1659839582       0  1410065  1659839702       0   \n",
      "13:32:49.98                              56   1252181  1412178  1659839582       0   527209  1659839727       0   \n",
      "13:32:49.98                              76   1252181  1412178  1659839601       1   567959  1659839627       0   \n",
      "13:32:49.98                              77   1252181  1412178  1659839601       1   567959  1659839652       1   \n",
      "13:32:49.98                              78   1252181  1412178  1659839601       1  1590011  1659839669       0   \n",
      "13:32:49.98                              79   1252181  1412178  1659839601       1  1410065  1659839702       0   \n",
      "13:32:49.98                              80   1252181  1412178  1659839601       1   527209  1659839727       0   \n",
      "13:32:49.98                              102  1252181   567959  1659839627       0  1590011  1659839669       0   \n",
      "13:32:49.98                              103  1252181   567959  1659839627       0  1410065  1659839702       0   \n",
      "13:32:49.98                              104  1252181   567959  1659839627       0   527209  1659839727       0   \n",
      "13:32:49.98                              \n",
      "13:32:49.98                                   days_elapsed  \n",
      "13:32:49.98                              26       0.002373  \n",
      "13:32:49.98                              27       0.002593  \n",
      "13:32:49.98                              28       0.002894  \n",
      "13:32:49.98                              29       0.003183  \n",
      "13:32:49.98                              30       0.003380  \n",
      "13:32:49.98                              31       0.003762  \n",
      "13:32:49.98                              32       0.004051  \n",
      "13:32:49.98                              52       0.000521  \n",
      "13:32:49.98                              53       0.000810  \n",
      "13:32:49.98                              54       0.001007  \n",
      "13:32:49.98                              55       0.001389  \n",
      "13:32:49.98                              56       0.001678  \n",
      "13:32:49.98                              76       0.000301  \n",
      "13:32:49.98                              77       0.000590  \n",
      "13:32:49.98                              78       0.000787  \n",
      "13:32:49.98                              79       0.001169  \n",
      "13:32:49.98                              80       0.001458  \n",
      "13:32:49.98                              102      0.000486  \n",
      "13:32:49.98                              103      0.000868  \n",
      "13:32:49.98                              104      0.001157  \n"
     ]
    },
    {
     "data": {
      "text/html": [
       "<div>\n",
       "<style scoped>\n",
       "    .dataframe tbody tr th:only-of-type {\n",
       "        vertical-align: middle;\n",
       "    }\n",
       "\n",
       "    .dataframe tbody tr th {\n",
       "        vertical-align: top;\n",
       "    }\n",
       "\n",
       "    .dataframe thead th {\n",
       "        text-align: right;\n",
       "    }\n",
       "</style>\n",
       "<table border=\"1\" class=\"dataframe\">\n",
       "  <thead>\n",
       "    <tr style=\"text-align: right;\">\n",
       "      <th></th>\n",
       "      <th>session</th>\n",
       "      <th>aid_x</th>\n",
       "      <th>ts_x</th>\n",
       "      <th>type_x</th>\n",
       "      <th>aid_y</th>\n",
       "      <th>ts_y</th>\n",
       "      <th>type_y</th>\n",
       "      <th>days_elapsed</th>\n",
       "    </tr>\n",
       "  </thead>\n",
       "  <tbody>\n",
       "    <tr>\n",
       "      <th>26</th>\n",
       "      <td>1252181</td>\n",
       "      <td>1053941</td>\n",
       "      <td>1659839377</td>\n",
       "      <td>0</td>\n",
       "      <td>1412178</td>\n",
       "      <td>1659839582</td>\n",
       "      <td>0</td>\n",
       "      <td>0.002373</td>\n",
       "    </tr>\n",
       "    <tr>\n",
       "      <th>27</th>\n",
       "      <td>1252181</td>\n",
       "      <td>1053941</td>\n",
       "      <td>1659839377</td>\n",
       "      <td>0</td>\n",
       "      <td>1412178</td>\n",
       "      <td>1659839601</td>\n",
       "      <td>1</td>\n",
       "      <td>0.002593</td>\n",
       "    </tr>\n",
       "    <tr>\n",
       "      <th>28</th>\n",
       "      <td>1252181</td>\n",
       "      <td>1053941</td>\n",
       "      <td>1659839377</td>\n",
       "      <td>0</td>\n",
       "      <td>567959</td>\n",
       "      <td>1659839627</td>\n",
       "      <td>0</td>\n",
       "      <td>0.002894</td>\n",
       "    </tr>\n",
       "    <tr>\n",
       "      <th>29</th>\n",
       "      <td>1252181</td>\n",
       "      <td>1053941</td>\n",
       "      <td>1659839377</td>\n",
       "      <td>0</td>\n",
       "      <td>567959</td>\n",
       "      <td>1659839652</td>\n",
       "      <td>1</td>\n",
       "      <td>0.003183</td>\n",
       "    </tr>\n",
       "    <tr>\n",
       "      <th>30</th>\n",
       "      <td>1252181</td>\n",
       "      <td>1053941</td>\n",
       "      <td>1659839377</td>\n",
       "      <td>0</td>\n",
       "      <td>1590011</td>\n",
       "      <td>1659839669</td>\n",
       "      <td>0</td>\n",
       "      <td>0.003380</td>\n",
       "    </tr>\n",
       "    <tr>\n",
       "      <th>31</th>\n",
       "      <td>1252181</td>\n",
       "      <td>1053941</td>\n",
       "      <td>1659839377</td>\n",
       "      <td>0</td>\n",
       "      <td>1410065</td>\n",
       "      <td>1659839702</td>\n",
       "      <td>0</td>\n",
       "      <td>0.003762</td>\n",
       "    </tr>\n",
       "    <tr>\n",
       "      <th>32</th>\n",
       "      <td>1252181</td>\n",
       "      <td>1053941</td>\n",
       "      <td>1659839377</td>\n",
       "      <td>0</td>\n",
       "      <td>527209</td>\n",
       "      <td>1659839727</td>\n",
       "      <td>0</td>\n",
       "      <td>0.004051</td>\n",
       "    </tr>\n",
       "    <tr>\n",
       "      <th>52</th>\n",
       "      <td>1252181</td>\n",
       "      <td>1412178</td>\n",
       "      <td>1659839582</td>\n",
       "      <td>0</td>\n",
       "      <td>567959</td>\n",
       "      <td>1659839627</td>\n",
       "      <td>0</td>\n",
       "      <td>0.000521</td>\n",
       "    </tr>\n",
       "    <tr>\n",
       "      <th>53</th>\n",
       "      <td>1252181</td>\n",
       "      <td>1412178</td>\n",
       "      <td>1659839582</td>\n",
       "      <td>0</td>\n",
       "      <td>567959</td>\n",
       "      <td>1659839652</td>\n",
       "      <td>1</td>\n",
       "      <td>0.000810</td>\n",
       "    </tr>\n",
       "    <tr>\n",
       "      <th>54</th>\n",
       "      <td>1252181</td>\n",
       "      <td>1412178</td>\n",
       "      <td>1659839582</td>\n",
       "      <td>0</td>\n",
       "      <td>1590011</td>\n",
       "      <td>1659839669</td>\n",
       "      <td>0</td>\n",
       "      <td>0.001007</td>\n",
       "    </tr>\n",
       "    <tr>\n",
       "      <th>55</th>\n",
       "      <td>1252181</td>\n",
       "      <td>1412178</td>\n",
       "      <td>1659839582</td>\n",
       "      <td>0</td>\n",
       "      <td>1410065</td>\n",
       "      <td>1659839702</td>\n",
       "      <td>0</td>\n",
       "      <td>0.001389</td>\n",
       "    </tr>\n",
       "    <tr>\n",
       "      <th>56</th>\n",
       "      <td>1252181</td>\n",
       "      <td>1412178</td>\n",
       "      <td>1659839582</td>\n",
       "      <td>0</td>\n",
       "      <td>527209</td>\n",
       "      <td>1659839727</td>\n",
       "      <td>0</td>\n",
       "      <td>0.001678</td>\n",
       "    </tr>\n",
       "    <tr>\n",
       "      <th>76</th>\n",
       "      <td>1252181</td>\n",
       "      <td>1412178</td>\n",
       "      <td>1659839601</td>\n",
       "      <td>1</td>\n",
       "      <td>567959</td>\n",
       "      <td>1659839627</td>\n",
       "      <td>0</td>\n",
       "      <td>0.000301</td>\n",
       "    </tr>\n",
       "    <tr>\n",
       "      <th>77</th>\n",
       "      <td>1252181</td>\n",
       "      <td>1412178</td>\n",
       "      <td>1659839601</td>\n",
       "      <td>1</td>\n",
       "      <td>567959</td>\n",
       "      <td>1659839652</td>\n",
       "      <td>1</td>\n",
       "      <td>0.000590</td>\n",
       "    </tr>\n",
       "    <tr>\n",
       "      <th>78</th>\n",
       "      <td>1252181</td>\n",
       "      <td>1412178</td>\n",
       "      <td>1659839601</td>\n",
       "      <td>1</td>\n",
       "      <td>1590011</td>\n",
       "      <td>1659839669</td>\n",
       "      <td>0</td>\n",
       "      <td>0.000787</td>\n",
       "    </tr>\n",
       "    <tr>\n",
       "      <th>79</th>\n",
       "      <td>1252181</td>\n",
       "      <td>1412178</td>\n",
       "      <td>1659839601</td>\n",
       "      <td>1</td>\n",
       "      <td>1410065</td>\n",
       "      <td>1659839702</td>\n",
       "      <td>0</td>\n",
       "      <td>0.001169</td>\n",
       "    </tr>\n",
       "    <tr>\n",
       "      <th>80</th>\n",
       "      <td>1252181</td>\n",
       "      <td>1412178</td>\n",
       "      <td>1659839601</td>\n",
       "      <td>1</td>\n",
       "      <td>527209</td>\n",
       "      <td>1659839727</td>\n",
       "      <td>0</td>\n",
       "      <td>0.001458</td>\n",
       "    </tr>\n",
       "    <tr>\n",
       "      <th>102</th>\n",
       "      <td>1252181</td>\n",
       "      <td>567959</td>\n",
       "      <td>1659839627</td>\n",
       "      <td>0</td>\n",
       "      <td>1590011</td>\n",
       "      <td>1659839669</td>\n",
       "      <td>0</td>\n",
       "      <td>0.000486</td>\n",
       "    </tr>\n",
       "    <tr>\n",
       "      <th>103</th>\n",
       "      <td>1252181</td>\n",
       "      <td>567959</td>\n",
       "      <td>1659839627</td>\n",
       "      <td>0</td>\n",
       "      <td>1410065</td>\n",
       "      <td>1659839702</td>\n",
       "      <td>0</td>\n",
       "      <td>0.000868</td>\n",
       "    </tr>\n",
       "    <tr>\n",
       "      <th>104</th>\n",
       "      <td>1252181</td>\n",
       "      <td>567959</td>\n",
       "      <td>1659839627</td>\n",
       "      <td>0</td>\n",
       "      <td>527209</td>\n",
       "      <td>1659839727</td>\n",
       "      <td>0</td>\n",
       "      <td>0.001157</td>\n",
       "    </tr>\n",
       "  </tbody>\n",
       "</table>\n",
       "</div>"
      ],
      "text/plain": [
       "     session    aid_x        ts_x  type_x    aid_y        ts_y  type_y  \\\n",
       "26   1252181  1053941  1659839377       0  1412178  1659839582       0   \n",
       "27   1252181  1053941  1659839377       0  1412178  1659839601       1   \n",
       "28   1252181  1053941  1659839377       0   567959  1659839627       0   \n",
       "29   1252181  1053941  1659839377       0   567959  1659839652       1   \n",
       "30   1252181  1053941  1659839377       0  1590011  1659839669       0   \n",
       "31   1252181  1053941  1659839377       0  1410065  1659839702       0   \n",
       "32   1252181  1053941  1659839377       0   527209  1659839727       0   \n",
       "52   1252181  1412178  1659839582       0   567959  1659839627       0   \n",
       "53   1252181  1412178  1659839582       0   567959  1659839652       1   \n",
       "54   1252181  1412178  1659839582       0  1590011  1659839669       0   \n",
       "55   1252181  1412178  1659839582       0  1410065  1659839702       0   \n",
       "56   1252181  1412178  1659839582       0   527209  1659839727       0   \n",
       "76   1252181  1412178  1659839601       1   567959  1659839627       0   \n",
       "77   1252181  1412178  1659839601       1   567959  1659839652       1   \n",
       "78   1252181  1412178  1659839601       1  1590011  1659839669       0   \n",
       "79   1252181  1412178  1659839601       1  1410065  1659839702       0   \n",
       "80   1252181  1412178  1659839601       1   527209  1659839727       0   \n",
       "102  1252181   567959  1659839627       0  1590011  1659839669       0   \n",
       "103  1252181   567959  1659839627       0  1410065  1659839702       0   \n",
       "104  1252181   567959  1659839627       0   527209  1659839727       0   \n",
       "\n",
       "     days_elapsed  \n",
       "26       0.002373  \n",
       "27       0.002593  \n",
       "28       0.002894  \n",
       "29       0.003183  \n",
       "30       0.003380  \n",
       "31       0.003762  \n",
       "32       0.004051  \n",
       "52       0.000521  \n",
       "53       0.000810  \n",
       "54       0.001007  \n",
       "55       0.001389  \n",
       "56       0.001678  \n",
       "76       0.000301  \n",
       "77       0.000590  \n",
       "78       0.000787  \n",
       "79       0.001169  \n",
       "80       0.001458  \n",
       "102      0.000486  \n",
       "103      0.000868  \n",
       "104      0.001157  "
      ]
     },
     "execution_count": null,
     "metadata": {},
     "output_type": "execute_result"
    }
   ],
   "source": [
    "chunk_size = 30_000\n",
    "\n",
    "for i in range(0, sessions.shape[0], chunk_size): # loop every 30_000 unique sessions\n",
    "    \n",
    "    #### take a chunk_size number of sessions (each session in its entirety, ie., many rows) from subsets as current_chunk\n",
    "    \n",
    "#     pp(i, sessions[i], sessions.shape[0]-1, i+chunk_size-1, min(sessions.shape[0]-1, i+chunk_size-1))\n",
    "    current_chunk = subsets.loc[sessions[i]:sessions[min(sessions.shape[0]-1, i+chunk_size-1)]].reset_index(drop=True) # to remove index column\n",
    "#     pp(current_chunk.head(), current_chunk.tail())\n",
    "#     break\n",
    "\n",
    "    #### In current_chunk, from each session (in its entirety) only takes the last/latest 30 events and combine them to update current_chunk\n",
    "#     pp(range(-30,0), list(range(-30,0)))\n",
    "    current_chunk = current_chunk.groupby('session', as_index=False).nth(list(range(-30,0))).reset_index(drop=True)\n",
    "#     pp(current_chunk[:31], current_chunk[29:61])\n",
    "#     pp(doc_sig(pd.DataFrame.reset_index))\n",
    "#     pp(doc_sig(current_chunk.groupby('session', as_index=False).nth))\n",
    "#     break\n",
    "\n",
    "    #### merge an session of its entirety onto itself (help to see the relation between one aid and every other aid within each session)\n",
    "    consecutive_AIDs = current_chunk.merge(current_chunk, on='session')\n",
    "#     pp(consecutive_AIDs[:30])\n",
    "#     pp(consecutive_AIDs[29:61])\n",
    "#     break\n",
    "\n",
    "    #### remove all the rows which aid_x == aid_y (remove the row when the two articles are the same)\n",
    "    consecutive_AIDs = consecutive_AIDs[consecutive_AIDs.aid_x != consecutive_AIDs.aid_y]\n",
    "    \n",
    "    #### add a column named 'days_elapsed' which shows how many days passed between the two aids in a session\n",
    "    consecutive_AIDs['days_elapsed'] = (consecutive_AIDs.ts_y - consecutive_AIDs.ts_x) / (24 * 60 * 60)\n",
    "    pp(consecutive_AIDs[:20])\n",
    "\n",
    "    #### keep the rows if the two aids of a session are occurred within the same day on the right order\n",
    "    consecutive_AIDs = consecutive_AIDs[(consecutive_AIDs.days_elapsed >= 0) & (consecutive_AIDs.days_elapsed <= 1)]\n",
    "    pp(consecutive_AIDs[:20])\n",
    "    break\n",
    "    \n",
    "    #### among all sessions or all users, for each article occurred, count how often the other articles are occurred\n",
    "    for aid_x, aid_y in zip(consecutive_AIDs['aid_x'], consecutive_AIDs['aid_y']):\n",
    "        next_AIDs[aid_x][aid_y] += 1\n",
    "    "
   ]
  },
  {
   "cell_type": "markdown",
   "metadata": {},
   "source": [
    "### rd: recsys - otto - covisitation_simplified - among all sessions/rows selected (regardless which session we are looking at), for each aid occurred, count how often the other aids are occurred -     for aid_x, aid_y in zip(consecutive_AIDs['aid_x'], consecutive_AIDs['aid_y']): next_AIDs[aid_x][aid_y] += 1"
   ]
  },
  {
   "cell_type": "code",
   "execution_count": null,
   "metadata": {},
   "outputs": [
    {
     "name": "stderr",
     "output_type": "stream",
     "text": [
      "13:32:50.01 LOG:\n",
      "13:32:50.02 .... next_AIDs = defaultdict(<class 'collections.Counter'>,\n",
      "13:32:50.02                              {30388: Counter({1001867: 1, 473301: 1}),\n",
      "13:32:50.02                               44215: Counter({635761: 4, 1765902: 1}),\n",
      "13:32:50.02                               64194: Counter({1266300: 2, 215407: 1, 1397797: 1}),\n",
      "13:32:50.02                               87202: Counter({681053: 2, 137221: 1, 517894: 1}),\n",
      "13:32:50.02                               118631: Counter({1810463: 2}),\n",
      "13:32:50.02                               137221: Counter({87202: 3, 517894: 2, 681053: 2}),\n",
      "13:32:50.02                               140798: Counter({1047179: 6, 1473792: 4}),\n",
      "13:32:50.02                               150461: Counter({1615007: 2, 945579: 1}),\n",
      "13:32:50.02                               215407: Counter({1266300: 1, 1397797: 1}),\n",
      "13:32:50.02                               252823: Counter({809254: 1,\n",
      "13:32:50.02                                                755752: 1,\n",
      "13:32:50.02                                                473784: 1,\n",
      "13:32:50.02                                                1043532: 1,\n",
      "13:32:50.02                                                424449: 1}),\n",
      "13:32:50.02                               473784: Counter({1043532: 1, 424449: 1}),\n",
      "13:32:50.02                               517894: Counter({87202: 1, 681053: 1}),\n",
      "13:32:50.02                               567959: Counter({1590011: 2, 1410065: 2, 527209: 2}),\n",
      "13:32:50.02                               600422: Counter({1576989: 5}),\n",
      "13:32:50.02                               600579: Counter({620508: 2, 1836671: 1}),\n",
      "13:32:50.02                               608398: Counter({1576989: 5, 600422: 1}),\n",
      "13:32:50.02                               617221: Counter({1578927: 2, 1049927: 1, 611753: 1}),\n",
      "13:32:50.02                               620508: Counter({600579: 4, 1836671: 2}),\n",
      "13:32:50.02                               635761: Counter({1765902: 4, 44215: 1}),\n",
      "13:32:50.02                               649012: Counter({654298: 2, 1521487: 1, 822755: 1}),\n",
      "13:32:50.02                               654298: Counter({822755: 3, 1251248: 1, 649012: 1, 1521487: 1}),\n",
      "13:32:50.02                               674124: Counter({1578927: 2, 617221: 1, 1049927: 1, 611753: 1}),\n",
      "13:32:50.02                               755752: Counter({473784: 1, 1043532: 1, 424449: 1}),\n",
      "13:32:50.02                               771924: Counter({1047179: 4, 140798: 4, 1473792: 1}),\n",
      "13:32:50.02                               809254: Counter({755752: 2,\n",
      "13:32:50.02                                                473784: 2,\n",
      "13:32:50.02                                                1043532: 2,\n",
      "13:32:50.02                                                424449: 2,\n",
      "13:32:50.02                                                252823: 1}),\n",
      "13:32:50.02                               822755: Counter({654298: 3, 1251248: 1, 649012: 1, 1521487: 1}),\n",
      "13:32:50.02                               945579: Counter({1615007: 1}),\n",
      "13:32:50.02                               962155: Counter({1790606: 2}),\n",
      "13:32:50.02                               1001867: Counter({473301: 1}),\n",
      "13:32:50.02                               1037029: Counter({726978: 1}),\n",
      "13:32:50.02                               1043532: Counter({424449: 1, 30388: 1, 1001867: 1, 473301: 1}),\n",
      "13:32:50.02                               1047179: Counter({140798: 11, 1473792: 4}),\n",
      "13:32:50.02                               1049927: Counter({611753: 1}),\n",
      "13:32:50.02                               1051056: Counter({1329717: 1}),\n",
      "13:32:50.02                               1053941: Counter({1412178: 2,\n",
      "13:32:50.02                                                 567959: 2,\n",
      "13:32:50.02                                                 1590011: 1,\n",
      "13:32:50.02                                                 1410065: 1,\n",
      "13:32:50.02                                                 527209: 1}),\n",
      "13:32:50.02                               1084504: Counter({1043532: 1, 30388: 1, 1001867: 1, 473301: 1}),\n",
      "13:32:50.02                               1251248: Counter({654298: 2, 649012: 1, 1521487: 1, 822755: 1}),\n",
      "13:32:50.02                               1266300: Counter({1397797: 2, 215407: 1}),\n",
      "13:32:50.02                               1303378: Counter({1578927: 2,\n",
      "13:32:50.02                                                 674124: 1,\n",
      "13:32:50.02                                                 617221: 1,\n",
      "13:32:50.02                                                 1049927: 1,\n",
      "13:32:50.02                                                 611753: 1}),\n",
      "13:32:50.02                               1371624: Counter({1576989: 5,\n",
      "13:32:50.02                                                 1444835: 3,\n",
      "13:32:50.02                                                 1490590: 3,\n",
      "13:32:50.02                                                 608398: 1,\n",
      "13:32:50.02                                                 600422: 1}),\n",
      "13:32:50.02                               1410065: Counter({527209: 1}),\n",
      "13:32:50.02                               1412178: Counter({567959: 4, 1590011: 2, 1410065: 2, 527209: 2}),\n",
      "13:32:50.02                               1444835: Counter({1576989: 20,\n",
      "13:32:50.02                                                 1490590: 9,\n",
      "13:32:50.02                                                 608398: 4,\n",
      "13:32:50.02                                                 600422: 4,\n",
      "13:32:50.02                                                 1371624: 1}),\n",
      "13:32:50.02                               1450303: Counter({402101: 1}),\n",
      "13:32:50.02                               1490590: Counter({1576989: 15, 1444835: 3, 608398: 3, 600422: 3}),\n",
      "13:32:50.02                               1521487: Counter({654298: 2, 822755: 1}),\n",
      "13:32:50.02                               1578927: Counter({1049927: 2, 611753: 2}),\n",
      "13:32:50.02                               1590011: Counter({1410065: 1, 527209: 1}),\n",
      "13:32:50.02                               1615007: Counter({945579: 2, 150461: 1}),\n",
      "13:32:50.02                               1647157: Counter({1047179: 4,\n",
      "13:32:50.02                                                 140798: 4,\n",
      "13:32:50.02                                                 1818264: 1,\n",
      "13:32:50.02                                                 771924: 1,\n",
      "13:32:50.02                                                 1473792: 1}),\n",
      "13:32:50.02                               1765902: Counter({635761: 1}),\n",
      "13:32:50.02                               1796103: Counter({1615007: 3, 150461: 1, 945579: 1}),\n",
      "13:32:50.02                               1818264: Counter({1047179: 4, 140798: 4, 771924: 1, 1473792: 1}),\n",
      "13:32:50.02                               1836671: Counter({600579: 1, 620508: 1})})\n"
     ]
    },
    {
     "data": {
      "text/plain": [
       "defaultdict(collections.Counter,\n",
       "            {1053941: Counter({1412178: 2,\n",
       "                      567959: 2,\n",
       "                      1590011: 1,\n",
       "                      1410065: 1,\n",
       "                      527209: 1}),\n",
       "             1412178: Counter({567959: 4, 1590011: 2, 1410065: 2, 527209: 2}),\n",
       "             567959: Counter({1590011: 2, 1410065: 2, 527209: 2}),\n",
       "             1590011: Counter({1410065: 1, 527209: 1}),\n",
       "             1410065: Counter({527209: 1}),\n",
       "             118631: Counter({1810463: 2}),\n",
       "             809254: Counter({252823: 1,\n",
       "                      755752: 2,\n",
       "                      473784: 2,\n",
       "                      1043532: 2,\n",
       "                      424449: 2}),\n",
       "             252823: Counter({809254: 1,\n",
       "                      755752: 1,\n",
       "                      473784: 1,\n",
       "                      1043532: 1,\n",
       "                      424449: 1}),\n",
       "             755752: Counter({473784: 1, 1043532: 1, 424449: 1}),\n",
       "             473784: Counter({1043532: 1, 424449: 1}),\n",
       "             1043532: Counter({424449: 1, 30388: 1, 1001867: 1, 473301: 1}),\n",
       "             1084504: Counter({1043532: 1, 30388: 1, 1001867: 1, 473301: 1}),\n",
       "             30388: Counter({1001867: 1, 473301: 1}),\n",
       "             1001867: Counter({473301: 1}),\n",
       "             64194: Counter({1266300: 2, 215407: 1, 1397797: 1}),\n",
       "             1266300: Counter({215407: 1, 1397797: 2}),\n",
       "             215407: Counter({1266300: 1, 1397797: 1}),\n",
       "             1647157: Counter({1818264: 1,\n",
       "                      771924: 1,\n",
       "                      1047179: 4,\n",
       "                      140798: 4,\n",
       "                      1473792: 1}),\n",
       "             1818264: Counter({771924: 1, 1047179: 4, 140798: 4, 1473792: 1}),\n",
       "             771924: Counter({1047179: 4, 140798: 4, 1473792: 1}),\n",
       "             1047179: Counter({140798: 11, 1473792: 4}),\n",
       "             140798: Counter({1047179: 6, 1473792: 4}),\n",
       "             1796103: Counter({1615007: 3, 150461: 1, 945579: 1}),\n",
       "             1615007: Counter({150461: 1, 945579: 2}),\n",
       "             150461: Counter({1615007: 2, 945579: 1}),\n",
       "             945579: Counter({1615007: 1}),\n",
       "             962155: Counter({1790606: 2}),\n",
       "             1303378: Counter({674124: 1,\n",
       "                      617221: 1,\n",
       "                      1578927: 2,\n",
       "                      1049927: 1,\n",
       "                      611753: 1}),\n",
       "             674124: Counter({617221: 1, 1578927: 2, 1049927: 1, 611753: 1}),\n",
       "             617221: Counter({1578927: 2, 1049927: 1, 611753: 1}),\n",
       "             1578927: Counter({1049927: 2, 611753: 2}),\n",
       "             1049927: Counter({611753: 1}),\n",
       "             1444835: Counter({1371624: 1,\n",
       "                      1490590: 9,\n",
       "                      608398: 4,\n",
       "                      600422: 4,\n",
       "                      1576989: 20}),\n",
       "             1371624: Counter({1444835: 3,\n",
       "                      1490590: 3,\n",
       "                      608398: 1,\n",
       "                      600422: 1,\n",
       "                      1576989: 5}),\n",
       "             1490590: Counter({1444835: 3, 608398: 3, 600422: 3, 1576989: 15}),\n",
       "             608398: Counter({600422: 1, 1576989: 5}),\n",
       "             600422: Counter({1576989: 5}),\n",
       "             654298: Counter({822755: 3, 1251248: 1, 649012: 1, 1521487: 1}),\n",
       "             822755: Counter({1251248: 1, 649012: 1, 1521487: 1, 654298: 3}),\n",
       "             1251248: Counter({649012: 1, 1521487: 1, 654298: 2, 822755: 1}),\n",
       "             649012: Counter({1521487: 1, 654298: 2, 822755: 1}),\n",
       "             1521487: Counter({654298: 2, 822755: 1}),\n",
       "             1051056: Counter({1329717: 1}),\n",
       "             137221: Counter({87202: 3, 517894: 2, 681053: 2}),\n",
       "             87202: Counter({137221: 1, 517894: 1, 681053: 2}),\n",
       "             517894: Counter({87202: 1, 681053: 1}),\n",
       "             620508: Counter({600579: 4, 1836671: 2}),\n",
       "             600579: Counter({1836671: 1, 620508: 2}),\n",
       "             1836671: Counter({600579: 1, 620508: 1}),\n",
       "             1450303: Counter({402101: 1}),\n",
       "             1037029: Counter({726978: 1}),\n",
       "             635761: Counter({44215: 1, 1765902: 4}),\n",
       "             44215: Counter({635761: 4, 1765902: 1}),\n",
       "             1765902: Counter({635761: 1})})"
      ]
     },
     "execution_count": null,
     "metadata": {},
     "output_type": "execute_result"
    }
   ],
   "source": [
    "chunk_size = 30_000\n",
    "\n",
    "for i in range(0, sessions.shape[0], chunk_size): # loop every 30_000 unique sessions\n",
    "    \n",
    "    #### take a chunk_size number of sessions (each session in its entirety, ie., many rows) from subsets as current_chunk\n",
    "    \n",
    "#     pp(i, sessions[i], sessions.shape[0]-1, i+chunk_size-1, min(sessions.shape[0]-1, i+chunk_size-1))\n",
    "    current_chunk = subsets.loc[sessions[i]:sessions[min(sessions.shape[0]-1, i+chunk_size-1)]].reset_index(drop=True) # to remove index column\n",
    "#     pp(current_chunk.head(), current_chunk.tail())\n",
    "#     break\n",
    "\n",
    "    #### In current_chunk, from each session (in its entirety) only takes the last/latest 30 events and combine them to update current_chunk\n",
    "#     pp(range(-30,0), list(range(-30,0)))\n",
    "    current_chunk = current_chunk.groupby('session', as_index=False).nth(list(range(-30,0))).reset_index(drop=True)\n",
    "#     pp(current_chunk[:31], current_chunk[29:61])\n",
    "#     pp(doc_sig(pd.DataFrame.reset_index))\n",
    "#     pp(doc_sig(current_chunk.groupby('session', as_index=False).nth))\n",
    "#     break\n",
    "\n",
    "    #### merge an session of its entirety onto itself (help to see the relation between one aid and every other aid within each session)\n",
    "    consecutive_AIDs = current_chunk.merge(current_chunk, on='session')\n",
    "#     pp(consecutive_AIDs[:30])\n",
    "#     pp(consecutive_AIDs[29:61])\n",
    "#     break\n",
    "\n",
    "    #### remove all the rows which aid_x == aid_y (remove the row when the two articles are the same)\n",
    "    consecutive_AIDs = consecutive_AIDs[consecutive_AIDs.aid_x != consecutive_AIDs.aid_y]\n",
    "    \n",
    "    #### add a column named 'days_elapsed' which shows how many days passed between the two aids in a session\n",
    "    consecutive_AIDs['days_elapsed'] = (consecutive_AIDs.ts_y - consecutive_AIDs.ts_x) / (24 * 60 * 60)\n",
    "#     pp(consecutive_AIDs[:20])\n",
    "\n",
    "    #### keep the rows if the two aids of a session are occurred within the same day on the right order\n",
    "    consecutive_AIDs = consecutive_AIDs[(consecutive_AIDs.days_elapsed >= 0) & (consecutive_AIDs.days_elapsed <= 1)]\n",
    "#     pp(consecutive_AIDs[:20])\n",
    "#     break\n",
    "    \n",
    "    #### among all sessions or all users, for each article occurred, count how often the other articles are occurred\n",
    "    for aid_x, aid_y in zip(consecutive_AIDs['aid_x'], consecutive_AIDs['aid_y']):\n",
    "        next_AIDs[aid_x][aid_y] += 1\n",
    "    pp(next_AIDs)\n",
    "    break"
   ]
  },
  {
   "cell_type": "markdown",
   "metadata": {},
   "source": [
    "### rd: src - recsys - otto - covisitation_simplified"
   ]
  },
  {
   "cell_type": "code",
   "execution_count": null,
   "metadata": {},
   "outputs": [],
   "source": [
    "chunk_size = 30_000\n",
    "\n",
    "for i in range(0, sessions.shape[0], chunk_size): # loop every 30_000 unique sessions\n",
    "    \n",
    "    #### take a chunk_size number of sessions (each session in its entirety, ie., many rows) from subsets as current_chunk\n",
    "    \n",
    "#     pp(i, sessions[i], sessions.shape[0]-1, i+chunk_size-1, min(sessions.shape[0]-1, i+chunk_size-1))\n",
    "    current_chunk = subsets.loc[sessions[i]:sessions[min(sessions.shape[0]-1, i+chunk_size-1)]].reset_index(drop=True) # to remove index column\n",
    "#     pp(current_chunk.head(), current_chunk.tail())\n",
    "#     break\n",
    "\n",
    "    #### In current_chunk, from each session (in its entirety) only takes the last/latest 30 events and combine them to update current_chunk\n",
    "#     pp(range(-30,0), list(range(-30,0)))\n",
    "    current_chunk = current_chunk.groupby('session', as_index=False).nth(list(range(-30,0))).reset_index(drop=True)\n",
    "#     pp(current_chunk[:31], current_chunk[29:61])\n",
    "#     pp(doc_sig(pd.DataFrame.reset_index))\n",
    "#     pp(doc_sig(current_chunk.groupby('session', as_index=False).nth))\n",
    "#     break\n",
    "\n",
    "    #### merge an session of its entirety onto itself (help to see the relation between one aid and every other aid within each session)\n",
    "    consecutive_AIDs = current_chunk.merge(current_chunk, on='session')\n",
    "#     pp(consecutive_AIDs[:30])\n",
    "#     pp(consecutive_AIDs[29:61])\n",
    "#     break\n",
    "\n",
    "    #### remove all the rows which aid_x == aid_y (remove the row when the two articles are the same)\n",
    "    consecutive_AIDs = consecutive_AIDs[consecutive_AIDs.aid_x != consecutive_AIDs.aid_y]\n",
    "    \n",
    "    #### add a column named 'days_elapsed' which shows how many days passed between the two aids in a session\n",
    "    consecutive_AIDs['days_elapsed'] = (consecutive_AIDs.ts_y - consecutive_AIDs.ts_x) / (24 * 60 * 60)\n",
    "#     pp(consecutive_AIDs[:20])\n",
    "\n",
    "    #### keep the rows if the two aids of a session are occurred within the same day on the right order\n",
    "    consecutive_AIDs = consecutive_AIDs[(consecutive_AIDs.days_elapsed >= 0) & (consecutive_AIDs.days_elapsed <= 1)]\n",
    "#     pp(consecutive_AIDs[:20])\n",
    "#     break\n",
    "    \n",
    "    #### among all sessions or all users, for each article occurred, count how often the other articles are occurred\n",
    "    for aid_x, aid_y in zip(consecutive_AIDs['aid_x'], consecutive_AIDs['aid_y']):\n",
    "        next_AIDs[aid_x][aid_y] += 1\n",
    "#     pp(next_AIDs)\n",
    "#     break"
   ]
  },
  {
   "cell_type": "markdown",
   "metadata": {},
   "source": [
    "### rd: recsys - otto - covisitation_simplified - remove some data objects to save RAM"
   ]
  },
  {
   "cell_type": "code",
   "execution_count": null,
   "metadata": {},
   "outputs": [],
   "source": [
    "del train, subset_of_train, subsets # to save RAM"
   ]
  },
  {
   "cell_type": "markdown",
   "metadata": {},
   "source": [
    "## rd: recsys - otto - covisitation_simplified - make predictions"
   ]
  },
  {
   "cell_type": "markdown",
   "metadata": {},
   "source": [
    "### rd: recsys - otto - covisitation_simplified - group the test set by session, under each session, put all aids into a list, and put all action types into another list - test.reset_index(drop=True).groupby('session')['aid'].apply(list)"
   ]
  },
  {
   "cell_type": "code",
   "execution_count": null,
   "metadata": {},
   "outputs": [
    {
     "data": {
      "text/plain": [
       "(          session      aid          ts  type\n",
       " 0        12899779    59625  1661724000     0\n",
       " 1        12899780  1142000  1661724000     0\n",
       " 2        12899780   582732  1661724058     0\n",
       " 3        12899780   973453  1661724109     0\n",
       " 4        12899780   736515  1661724136     0\n",
       " ...           ...      ...         ...   ...\n",
       " 6928118  14571577  1141710  1662328774     0\n",
       " 6928119  14571578   519105  1662328775     0\n",
       " 6928120  14571579   739876  1662328775     0\n",
       " 6928121  14571580   202353  1662328781     0\n",
       " 6928122  14571581  1100210  1662328791     0\n",
       " \n",
       " [6928123 rows x 4 columns],\n",
       "           session      aid          ts  type\n",
       " 0        12899779    59625  1661724000     0\n",
       " 1        12899780  1142000  1661724000     0\n",
       " 2        12899780   582732  1661724058     0\n",
       " 3        12899780   973453  1661724109     0\n",
       " 4        12899780   736515  1661724136     0\n",
       " ...           ...      ...         ...   ...\n",
       " 6928118  14571577  1141710  1662328774     0\n",
       " 6928119  14571578   519105  1662328775     0\n",
       " 6928120  14571579   739876  1662328775     0\n",
       " 6928121  14571580   202353  1662328781     0\n",
       " 6928122  14571581  1100210  1662328791     0\n",
       " \n",
       " [6928123 rows x 4 columns])"
      ]
     },
     "execution_count": null,
     "metadata": {},
     "output_type": "execute_result"
    }
   ],
   "source": [
    "test, test.reset_index(drop=True)"
   ]
  },
  {
   "cell_type": "code",
   "execution_count": null,
   "metadata": {},
   "outputs": [],
   "source": [
    "test_session_AIDs = test.reset_index(drop=True).groupby('session')['aid'].apply(list)\n",
    "test_session_types = test.reset_index(drop=True).groupby('session')['type'].apply(list)"
   ]
  },
  {
   "cell_type": "code",
   "execution_count": null,
   "metadata": {},
   "outputs": [
    {
     "data": {
      "text/plain": [
       "session\n",
       "12899779                                                                                                                                                                                                                                                                                                                                                                                                                                                                                                                                                                                               [59625]\n",
       "12899780                                                                                                                                                                                                                                                                                                                                                                                                                                                                                                                                                            [1142000, 582732, 973453, 736515, 1142000]\n",
       "12899781                                                                                                                                                                                                                                                                                                                                                                                                                                                                                                               [141736, 199008, 57315, 194067, 199008, 199008, 199008, 199008, 199008, 199008, 918667]\n",
       "12899782    [1669402, 1494780, 1494780, 1494780, 1494780, 1674681, 602722, 1596098, 45034, 603159, 413962, 413962, 413962, 779477, 1037537, 779477, 779477, 476063, 562753, 779477, 562753, 476063, 779477, 779477, 562753, 779477, 476063, 975116, 975116, 595994, 595994, 595994, 1299062, 1352725, 1344773, 1344773, 794259, 363336, 829180, 1711180, 127404, 654809, 723956, 476063, 975116, 406001, 889671, 889671, 834354, 834354, 889671, 1099390, 987399, 987399, 638410, 1072927, 530899, 229748, 229748, 740494, 740494, 834354, 1669402, 829180, 1696036, 479970, 834354, 1033148, 595994, 1007613]\n",
       "12899783                                                                                                                                                                                                                                                                                                                                                                                                                                                                                                         [255297, 1114789, 255297, 300127, 198385, 300127, 1729553, 1216820, 1754419, 607638, 1817895]\n",
       "                                                                                                                                                                                                                                                                                                           ...                                                                                                                                                                                                                                                                                                \n",
       "14571577                                                                                                                                                                                                                                                                                                                                                                                                                                                                                                                                                                                             [1141710]\n",
       "14571578                                                                                                                                                                                                                                                                                                                                                                                                                                                                                                                                                                                              [519105]\n",
       "14571579                                                                                                                                                                                                                                                                                                                                                                                                                                                                                                                                                                                              [739876]\n",
       "14571580                                                                                                                                                                                                                                                                                                                                                                                                                                                                                                                                                                                              [202353]\n",
       "14571581                                                                                                                                                                                                                                                                                                                                                                                                                                                                                                                                                                                             [1100210]\n",
       "Name: aid, Length: 1671803, dtype: object"
      ]
     },
     "execution_count": null,
     "metadata": {},
     "output_type": "execute_result"
    },
    {
     "data": {
      "text/plain": [
       "session\n",
       "12899779                                                                                                                                                                                                                   [0]\n",
       "12899780                                                                                                                                                                                                       [0, 0, 0, 0, 0]\n",
       "12899781                                                                                                                                                                                     [0, 0, 0, 0, 0, 0, 1, 0, 0, 0, 0]\n",
       "12899782    [0, 0, 0, 0, 1, 0, 0, 0, 0, 0, 0, 1, 0, 0, 0, 0, 1, 0, 1, 0, 0, 1, 0, 1, 0, 0, 0, 0, 1, 0, 1, 0, 0, 0, 0, 1, 0, 0, 0, 1, 1, 0, 0, 0, 0, 0, 0, 1, 0, 1, 0, 0, 0, 1, 0, 0, 0, 0, 0, 0, 1, 1, 2, 2, 2, 2, 2, 2, 2, 2]\n",
       "12899783                                                                                                                                                                                     [0, 0, 0, 0, 0, 0, 0, 0, 0, 0, 0]\n",
       "                                                                                                                   ...                                                                                                        \n",
       "14571577                                                                                                                                                                                                                   [0]\n",
       "14571578                                                                                                                                                                                                                   [0]\n",
       "14571579                                                                                                                                                                                                                   [0]\n",
       "14571580                                                                                                                                                                                                                   [0]\n",
       "14571581                                                                                                                                                                                                                   [0]\n",
       "Name: type, Length: 1671803, dtype: object"
      ]
     },
     "execution_count": null,
     "metadata": {},
     "output_type": "execute_result"
    }
   ],
   "source": [
    "test_session_AIDs\n",
    "test_session_types"
   ]
  },
  {
   "cell_type": "markdown",
   "metadata": {},
   "source": [
    "### rd: recsys - otto - covisitation_simplified - setup, create some containers, such as labels, no_data, no_data_all_aids - type_weight_multipliers = {0: 1, 1: 6, 2: 3} - session_types = ['clicks', 'carts', 'orders']"
   ]
  },
  {
   "cell_type": "code",
   "execution_count": null,
   "metadata": {},
   "outputs": [],
   "source": [
    "labels = []\n",
    "\n",
    "no_data = 0\n",
    "no_data_all_aids = 0\n",
    "type_weight_multipliers = {0: 1, 1: 6, 2: 3}\n",
    "session_types = ['clicks', 'carts', 'orders']"
   ]
  },
  {
   "cell_type": "markdown",
   "metadata": {},
   "source": [
    "### rd: recsys - otto - covisitation_simplified - loop every session, access all of its aids and types - for AIDs, types in zip(test_session_AIDs, test_session_types):\n",
    "### rd: recsys - otto - covisitation_simplified - when there are >= 20 aids in a session: \n",
    "### rd: recsys - otto - covisitation_simplified - assign logspaced weight to each aid under each session, as the latter aids should have higher weight/probability to occur than the earlier aids. - if len(AIDs) >= 20: - weights=np.logspace(0.1,1,len(AIDs),base=2, endpoint=True)-1"
   ]
  },
  {
   "cell_type": "code",
   "execution_count": null,
   "metadata": {},
   "outputs": [
    {
     "name": "stderr",
     "output_type": "stream",
     "text": [
      "13:33:51.87 LOG:\n",
      "13:33:51.89 .... AIDs = [1669402,\n",
      "13:33:51.89              1494780,\n",
      "13:33:51.89              1494780,\n",
      "13:33:51.89              1494780,\n",
      "13:33:51.89              1494780,\n",
      "13:33:51.89              1674681,\n",
      "13:33:51.89              602722,\n",
      "13:33:51.89              1596098,\n",
      "13:33:51.89              45034,\n",
      "13:33:51.89              603159,\n",
      "13:33:51.89              413962,\n",
      "13:33:51.89              413962,\n",
      "13:33:51.89              413962,\n",
      "13:33:51.89              779477,\n",
      "13:33:51.89              1037537,\n",
      "13:33:51.89              779477,\n",
      "13:33:51.89              779477,\n",
      "13:33:51.89              476063,\n",
      "13:33:51.89              562753,\n",
      "13:33:51.89              779477,\n",
      "13:33:51.89              562753,\n",
      "13:33:51.89              476063,\n",
      "13:33:51.89              779477,\n",
      "13:33:51.89              779477,\n",
      "13:33:51.89              562753,\n",
      "13:33:51.89              779477,\n",
      "13:33:51.89              476063,\n",
      "13:33:51.89              975116,\n",
      "13:33:51.89              975116,\n",
      "13:33:51.89              595994,\n",
      "13:33:51.89              595994,\n",
      "13:33:51.89              595994,\n",
      "13:33:51.89              1299062,\n",
      "13:33:51.89              1352725,\n",
      "13:33:51.89              1344773,\n",
      "13:33:51.89              1344773,\n",
      "13:33:51.89              794259,\n",
      "13:33:51.89              363336,\n",
      "13:33:51.89              829180,\n",
      "13:33:51.89              1711180,\n",
      "13:33:51.89              127404,\n",
      "13:33:51.89              654809,\n",
      "13:33:51.89              723956,\n",
      "13:33:51.89              476063,\n",
      "13:33:51.89              975116,\n",
      "13:33:51.89              406001,\n",
      "13:33:51.89              889671,\n",
      "13:33:51.89              889671,\n",
      "13:33:51.89              834354,\n",
      "13:33:51.89              834354,\n",
      "13:33:51.89              889671,\n",
      "13:33:51.89              1099390,\n",
      "13:33:51.89              987399,\n",
      "13:33:51.89              987399,\n",
      "13:33:51.89              638410,\n",
      "13:33:51.89              1072927,\n",
      "13:33:51.89              530899,\n",
      "13:33:51.89              229748,\n",
      "13:33:51.89              229748,\n",
      "13:33:51.89              740494,\n",
      "13:33:51.89              740494,\n",
      "13:33:51.89              834354,\n",
      "13:33:51.89              1669402,\n",
      "13:33:51.89              829180,\n",
      "13:33:51.89              1696036,\n",
      "13:33:51.89              479970,\n",
      "13:33:51.89              834354,\n",
      "13:33:51.89              1033148,\n",
      "13:33:51.89              595994,\n",
      "13:33:51.89              1007613]\n",
      "13:33:51.89 .... len(AIDs) = 70\n",
      "13:33:51.89 .... np.logspace(0.1,1,len(AIDs),base=2, endpoint=True) = array([1.07177346, 1.08150736, 1.09132965, 1.10124116, 1.11124268,\n",
      "13:33:51.89                                                                  1.12133503, 1.13151905, 1.14179555, 1.15216539, 1.16262941,\n",
      "13:33:51.89                                                                  1.17318846, 1.18384341, 1.19459512, 1.20544449, 1.21639239,\n",
      "13:33:51.89                                                                  1.22743972, 1.23858738, 1.24983629, 1.26118735, 1.27264151,\n",
      "13:33:51.89                                                                  1.2841997 , 1.29586286, 1.30763194, 1.31950791, 1.33149174,\n",
      "13:33:51.89                                                                  1.34358441, 1.3557869 , 1.36810021, 1.38052536, 1.39306335,\n",
      "13:33:51.89                                                                  1.40571522, 1.41848198, 1.4313647 , 1.44436442, 1.4574822 ,\n",
      "13:33:51.89                                                                  1.47071911, 1.48407625, 1.4975547 , 1.51115555, 1.52487993,\n",
      "13:33:51.89                                                                  1.53872896, 1.55270376, 1.56680549, 1.58103528, 1.59539432,\n",
      "13:33:51.89                                                                  1.60988376, 1.62450479, 1.63925862, 1.65414644, 1.66916947,\n",
      "13:33:51.89                                                                  1.68432894, 1.69962609, 1.71506216, 1.73063843, 1.74635617,\n",
      "13:33:51.89                                                                  1.76221665, 1.77822118, 1.79437106, 1.81066762, 1.82711218,\n",
      "13:33:51.89                                                                  1.8437061 , 1.86045072, 1.87734741, 1.89439756, 1.91160257,\n",
      "13:33:51.89                                                                  1.92896382, 1.94648276, 1.9641608 , 1.98199939, 2.        ])\n",
      "13:33:51.89 .... np.logspace(0.1,1,len(AIDs),base=2, endpoint=False) = array([1.07177346, 1.08136768, 1.09104778, 1.10081454, 1.11066872,\n",
      "13:33:51.89                                                                   1.12061112, 1.13064252, 1.14076372, 1.15097551, 1.16127873,\n",
      "13:33:51.89                                                                   1.17167417, 1.18216267, 1.19274506, 1.20342218, 1.21419488,\n",
      "13:33:51.89                                                                   1.22506402, 1.23603045, 1.24709505, 1.2582587 , 1.26952228,\n",
      "13:33:51.89                                                                   1.28088669, 1.29235283, 1.30392161, 1.31559396, 1.32737079,\n",
      "13:33:51.89                                                                   1.33925304, 1.35124166, 1.3633376 , 1.37554182, 1.38785529,\n",
      "13:33:51.89                                                                   1.40027898, 1.41281389, 1.425461  , 1.43822133, 1.45109589,\n",
      "13:33:51.89                                                                   1.4640857 , 1.47719178, 1.49041519, 1.50375697, 1.51721819,\n",
      "13:33:51.89                                                                   1.5307999 , 1.5445032 , 1.55832916, 1.57227889, 1.58635349,\n",
      "13:33:51.89                                                                   1.60055409, 1.6148818 , 1.62933777, 1.64392315, 1.65863909,\n",
      "13:33:51.89                                                                   1.67348677, 1.68846735, 1.70358204, 1.71883204, 1.73421854,\n",
      "13:33:51.89                                                                   1.74974278, 1.76540599, 1.78120942, 1.79715431, 1.81324193,\n",
      "13:33:51.89                                                                   1.82947357, 1.84585051, 1.86237404, 1.8790455 , 1.89586619,\n",
      "13:33:51.89                                                                   1.91283746, 1.92996064, 1.94723711, 1.96466824, 1.9822554 ])\n"
     ]
    },
    {
     "data": {
      "text/plain": [
       "([1669402,\n",
       "  1494780,\n",
       "  1494780,\n",
       "  1494780,\n",
       "  1494780,\n",
       "  1674681,\n",
       "  602722,\n",
       "  1596098,\n",
       "  45034,\n",
       "  603159,\n",
       "  413962,\n",
       "  413962,\n",
       "  413962,\n",
       "  779477,\n",
       "  1037537,\n",
       "  779477,\n",
       "  779477,\n",
       "  476063,\n",
       "  562753,\n",
       "  779477,\n",
       "  562753,\n",
       "  476063,\n",
       "  779477,\n",
       "  779477,\n",
       "  562753,\n",
       "  779477,\n",
       "  476063,\n",
       "  975116,\n",
       "  975116,\n",
       "  595994,\n",
       "  595994,\n",
       "  595994,\n",
       "  1299062,\n",
       "  1352725,\n",
       "  1344773,\n",
       "  1344773,\n",
       "  794259,\n",
       "  363336,\n",
       "  829180,\n",
       "  1711180,\n",
       "  127404,\n",
       "  654809,\n",
       "  723956,\n",
       "  476063,\n",
       "  975116,\n",
       "  406001,\n",
       "  889671,\n",
       "  889671,\n",
       "  834354,\n",
       "  834354,\n",
       "  889671,\n",
       "  1099390,\n",
       "  987399,\n",
       "  987399,\n",
       "  638410,\n",
       "  1072927,\n",
       "  530899,\n",
       "  229748,\n",
       "  229748,\n",
       "  740494,\n",
       "  740494,\n",
       "  834354,\n",
       "  1669402,\n",
       "  829180,\n",
       "  1696036,\n",
       "  479970,\n",
       "  834354,\n",
       "  1033148,\n",
       "  595994,\n",
       "  1007613],\n",
       " 70,\n",
       " array([1.07177346, 1.08150736, 1.09132965, 1.10124116, 1.11124268,\n",
       "        1.12133503, 1.13151905, 1.14179555, 1.15216539, 1.16262941,\n",
       "        1.17318846, 1.18384341, 1.19459512, 1.20544449, 1.21639239,\n",
       "        1.22743972, 1.23858738, 1.24983629, 1.26118735, 1.27264151,\n",
       "        1.2841997 , 1.29586286, 1.30763194, 1.31950791, 1.33149174,\n",
       "        1.34358441, 1.3557869 , 1.36810021, 1.38052536, 1.39306335,\n",
       "        1.40571522, 1.41848198, 1.4313647 , 1.44436442, 1.4574822 ,\n",
       "        1.47071911, 1.48407625, 1.4975547 , 1.51115555, 1.52487993,\n",
       "        1.53872896, 1.55270376, 1.56680549, 1.58103528, 1.59539432,\n",
       "        1.60988376, 1.62450479, 1.63925862, 1.65414644, 1.66916947,\n",
       "        1.68432894, 1.69962609, 1.71506216, 1.73063843, 1.74635617,\n",
       "        1.76221665, 1.77822118, 1.79437106, 1.81066762, 1.82711218,\n",
       "        1.8437061 , 1.86045072, 1.87734741, 1.89439756, 1.91160257,\n",
       "        1.92896382, 1.94648276, 1.9641608 , 1.98199939, 2.        ]),\n",
       " array([1.07177346, 1.08136768, 1.09104778, 1.10081454, 1.11066872,\n",
       "        1.12061112, 1.13064252, 1.14076372, 1.15097551, 1.16127873,\n",
       "        1.17167417, 1.18216267, 1.19274506, 1.20342218, 1.21419488,\n",
       "        1.22506402, 1.23603045, 1.24709505, 1.2582587 , 1.26952228,\n",
       "        1.28088669, 1.29235283, 1.30392161, 1.31559396, 1.32737079,\n",
       "        1.33925304, 1.35124166, 1.3633376 , 1.37554182, 1.38785529,\n",
       "        1.40027898, 1.41281389, 1.425461  , 1.43822133, 1.45109589,\n",
       "        1.4640857 , 1.47719178, 1.49041519, 1.50375697, 1.51721819,\n",
       "        1.5307999 , 1.5445032 , 1.55832916, 1.57227889, 1.58635349,\n",
       "        1.60055409, 1.6148818 , 1.62933777, 1.64392315, 1.65863909,\n",
       "        1.67348677, 1.68846735, 1.70358204, 1.71883204, 1.73421854,\n",
       "        1.74974278, 1.76540599, 1.78120942, 1.79715431, 1.81324193,\n",
       "        1.82947357, 1.84585051, 1.86237404, 1.8790455 , 1.89586619,\n",
       "        1.91283746, 1.92996064, 1.94723711, 1.96466824, 1.9822554 ]))"
      ]
     },
     "execution_count": null,
     "metadata": {},
     "output_type": "execute_result"
    },
    {
     "name": "stderr",
     "output_type": "stream",
     "text": [
      "13:33:51.90 LOG:\n",
      "13:33:51.91 .... weights = array([0.07177346, 0.08150736, 0.09132965, 0.10124116, 0.11124268,\n",
      "13:33:51.91                       0.12133503, 0.13151905, 0.14179555, 0.15216539, 0.16262941,\n",
      "13:33:51.91                       0.17318846, 0.18384341, 0.19459512, 0.20544449, 0.21639239,\n",
      "13:33:51.91                       0.22743972, 0.23858738, 0.24983629, 0.26118735, 0.27264151,\n",
      "13:33:51.91                       0.2841997 , 0.29586286, 0.30763194, 0.31950791, 0.33149174,\n",
      "13:33:51.91                       0.34358441, 0.3557869 , 0.36810021, 0.38052536, 0.39306335,\n",
      "13:33:51.91                       0.40571522, 0.41848198, 0.4313647 , 0.44436442, 0.4574822 ,\n",
      "13:33:51.91                       0.47071911, 0.48407625, 0.4975547 , 0.51115555, 0.52487993,\n",
      "13:33:51.91                       0.53872896, 0.55270376, 0.56680549, 0.58103528, 0.59539432,\n",
      "13:33:51.91                       0.60988376, 0.62450479, 0.63925862, 0.65414644, 0.66916947,\n",
      "13:33:51.91                       0.68432894, 0.69962609, 0.71506216, 0.73063843, 0.74635617,\n",
      "13:33:51.91                       0.76221665, 0.77822118, 0.79437106, 0.81066762, 0.82711218,\n",
      "13:33:51.91                       0.8437061 , 0.86045072, 0.87734741, 0.89439756, 0.91160257,\n",
      "13:33:51.91                       0.92896382, 0.94648276, 0.9641608 , 0.98199939, 1.        ])\n"
     ]
    },
    {
     "data": {
      "text/plain": [
       "array([0.07177346, 0.08150736, 0.09132965, 0.10124116, 0.11124268,\n",
       "       0.12133503, 0.13151905, 0.14179555, 0.15216539, 0.16262941,\n",
       "       0.17318846, 0.18384341, 0.19459512, 0.20544449, 0.21639239,\n",
       "       0.22743972, 0.23858738, 0.24983629, 0.26118735, 0.27264151,\n",
       "       0.2841997 , 0.29586286, 0.30763194, 0.31950791, 0.33149174,\n",
       "       0.34358441, 0.3557869 , 0.36810021, 0.38052536, 0.39306335,\n",
       "       0.40571522, 0.41848198, 0.4313647 , 0.44436442, 0.4574822 ,\n",
       "       0.47071911, 0.48407625, 0.4975547 , 0.51115555, 0.52487993,\n",
       "       0.53872896, 0.55270376, 0.56680549, 0.58103528, 0.59539432,\n",
       "       0.60988376, 0.62450479, 0.63925862, 0.65414644, 0.66916947,\n",
       "       0.68432894, 0.69962609, 0.71506216, 0.73063843, 0.74635617,\n",
       "       0.76221665, 0.77822118, 0.79437106, 0.81066762, 0.82711218,\n",
       "       0.8437061 , 0.86045072, 0.87734741, 0.89439756, 0.91160257,\n",
       "       0.92896382, 0.94648276, 0.9641608 , 0.98199939, 1.        ])"
      ]
     },
     "execution_count": null,
     "metadata": {},
     "output_type": "execute_result"
    },
    {
     "name": "stderr",
     "output_type": "stream",
     "text": [
      "13:33:51.92 LOG:\n",
      "13:33:51.93 .... doc_sig(np.logspace) = ('no mro',\n",
      "13:33:51.93                              'Return numbers spaced evenly on a log scale.\\n'\n",
      "13:33:51.93                              '\\n'\n",
      "13:33:51.93                              'In linear space, the sequence starts at ``base ** start``\\n'\n",
      "13:33:51.93                              '(`base` to the power of `start`) and ends with ``base ** stop``\\n'\n",
      "13:33:51.93                              '(see `endpoint` below).\\n'\n",
      "13:33:51.93                              '\\n'\n",
      "13:33:51.93                              '.. versionchanged:: 1.16.0\\n'\n",
      "13:33:51.93                              '    Non-scalar `start` and `stop` are now supported.\\n'\n",
      "13:33:51.93                              '\\n'\n",
      "13:33:51.93                              'Parameters\\n'\n",
      "13:33:51.93                              '----------\\n'\n",
      "13:33:51.93                              'start : array_like\\n'\n",
      "13:33:51.93                              '    ``base ** start`` is the starting value of the sequence.\\n'\n",
      "13:33:51.93                              'stop : array_like\\n'\n",
      "13:33:51.93                              '    ``base ** stop`` is the final value of the sequence, unless `endpoint`\\n'\n",
      "13:33:51.93                              '    is False.  In that case, ``num + 1`` values are spaced over the\\n'\n",
      "13:33:51.93                              '    interval in log-space, of which all but the last (a sequence of\\n'\n",
      "13:33:51.93                              '    length `num`) are returned.\\n'\n",
      "13:33:51.93                              'num : integer, optional\\n'\n",
      "13:33:51.93                              '    Number of samples to generate.  Default is 50.\\n'\n",
      "13:33:51.93                              'endpoint : boolean, optional\\n'\n",
      "13:33:51.93                              '    If true, `stop` is the last sample. Otherwise, it is not included.\\n'\n",
      "13:33:51.93                              '    Default is True.\\n'\n",
      "13:33:51.93                              'base : array_like, optional\\n'\n",
      "13:33:51.93                              '    The base of the log space. The step size between the elements in\\n'\n",
      "13:33:51.93                              '    ``ln(samples) / ln(base)`` (or ``log_base(samples)``) is uniform.\\n'\n",
      "13:33:51.93                              '    Default is 10.0.\\n'\n",
      "13:33:51.93                              'dtype : dtype\\n'\n",
      "13:33:51.93                              '    The type of the output array.  If `dtype` is not given, the data type\\n'\n",
      "13:33:51.93                              '    is inferred from `start` and `stop`. The inferred type will never be\\n'\n",
      "13:33:51.93                              '    an integer; `float` is chosen even if the arguments would produce an\\n'\n",
      "13:33:51.93                              '    array of integers.\\n'\n",
      "13:33:51.93                              'axis : int, optional\\n'\n",
      "13:33:51.93                              '    The axis in the result to store the samples.  Relevant only if start\\n'\n",
      "13:33:51.93                              '    or stop are array-like.  By default (0), the samples will be along a\\n'\n",
      "13:33:51.93                              '    new axis inserted at the beginning. Use -1 to get an axis at the end.\\n'\n",
      "13:33:51.93                              '\\n'\n",
      "13:33:51.93                              '    .. versionadded:: 1.16.0\\n'\n",
      "13:33:51.93                              '\\n'\n",
      "13:33:51.93                              '\\n'\n",
      "13:33:51.93                              'Returns\\n'\n",
      "13:33:51.93                              '-------\\n'\n",
      "13:33:51.93                              'samples : ndarray\\n'\n",
      "13:33:51.93                              '    `num` samples, equally spaced on a log scale.\\n'\n",
      "13:33:51.93                              '\\n'\n",
      "13:33:51.93                              'See Also\\n'\n",
      "13:33:51.93                              '--------\\n'\n",
      "13:33:51.93                              'arange : Similar to linspace, with the step size specified instead of the\\n'\n",
      "13:33:51.93                              '         number of samples. Note that, when used with a float endpoint, the\\n'\n",
      "13:33:51.93                              '         endpoint may or may not be included.\\n'\n",
      "13:33:51.93                              'linspace : Similar to logspace, but with the samples uniformly distributed\\n'\n",
      "13:33:51.93                              '           in linear space, instead of log space.\\n'\n",
      "13:33:51.93                              'geomspace : Similar to logspace, but with endpoints specified directly.\\n'\n",
      "13:33:51.93                              '\\n'\n",
      "13:33:51.93                              'Notes\\n'\n",
      "13:33:51.93                              '-----\\n'\n",
      "13:33:51.93                              'Logspace is equivalent to the code\\n'\n",
      "13:33:51.93                              '\\n'\n",
      "13:33:51.93                              '>>> y = np.linspace(start, stop, num=num, endpoint=endpoint)\\n'\n",
      "13:33:51.93                              '... # doctest: +SKIP\\n'\n",
      "13:33:51.93                              '>>> power(base, y).astype(dtype)\\n'\n",
      "13:33:51.93                              '... # doctest: +SKIP\\n'\n",
      "13:33:51.93                              '\\n'\n",
      "13:33:51.93                              'Examples\\n'\n",
      "13:33:51.93                              '--------\\n'\n",
      "13:33:51.93                              '>>> np.logspace(2.0, 3.0, num=4)\\n'\n",
      "13:33:51.93                              'array([ 100.        ,  215.443469  ,  464.15888336, 1000.        ])\\n'\n",
      "13:33:51.93                              '>>> np.logspace(2.0, 3.0, num=4, endpoint=False)\\n'\n",
      "13:33:51.93                              'array([100.        ,  177.827941  ,  316.22776602,  562.34132519])\\n'\n",
      "13:33:51.93                              '>>> np.logspace(2.0, 3.0, num=4, base=2.0)\\n'\n",
      "13:33:51.93                              'array([4.        ,  5.0396842 ,  6.34960421,  8.        ])\\n'\n",
      "13:33:51.93                              '\\n'\n",
      "13:33:51.93                              'Graphical illustration:\\n'\n",
      "13:33:51.93                              '\\n'\n",
      "13:33:51.93                              '>>> import matplotlib.pyplot as plt\\n'\n",
      "13:33:51.93                              '>>> N = 10\\n'\n",
      "13:33:51.93                              '>>> x1 = np.logspace(0.1, 1, N, endpoint=True)\\n'\n",
      "13:33:51.93                              '>>> x2 = np.logspace(0.1, 1, N, endpoint=False)\\n'\n",
      "13:33:51.93                              '>>> y = np.zeros(N)\\n'\n",
      "13:33:51.93                              \">>> plt.plot(x1, y, 'o')\\n\"\n",
      "13:33:51.93                              '[<matplotlib.lines.Line2D object at 0x...>]\\n'\n",
      "13:33:51.93                              \">>> plt.plot(x2, y + 0.5, 'o')\\n\"\n",
      "13:33:51.93                              '[<matplotlib.lines.Line2D object at 0x...>]\\n'\n",
      "13:33:51.93                              '>>> plt.ylim([-0.5, 1])\\n'\n",
      "13:33:51.93                              '(-0.5, 1)\\n'\n",
      "13:33:51.93                              '>>> plt.show()',\n",
      "13:33:51.93                              <Signature (start, stop, num=50, endpoint=True, base=10.0, dtype=None, axis=0)>)\n"
     ]
    },
    {
     "data": {
      "text/plain": [
       "('no mro',\n",
       " \"Return numbers spaced evenly on a log scale.\\n\\nIn linear space, the sequence starts at ``base ** start``\\n(`base` to the power of `start`) and ends with ``base ** stop``\\n(see `endpoint` below).\\n\\n.. versionchanged:: 1.16.0\\n    Non-scalar `start` and `stop` are now supported.\\n\\nParameters\\n----------\\nstart : array_like\\n    ``base ** start`` is the starting value of the sequence.\\nstop : array_like\\n    ``base ** stop`` is the final value of the sequence, unless `endpoint`\\n    is False.  In that case, ``num + 1`` values are spaced over the\\n    interval in log-space, of which all but the last (a sequence of\\n    length `num`) are returned.\\nnum : integer, optional\\n    Number of samples to generate.  Default is 50.\\nendpoint : boolean, optional\\n    If true, `stop` is the last sample. Otherwise, it is not included.\\n    Default is True.\\nbase : array_like, optional\\n    The base of the log space. The step size between the elements in\\n    ``ln(samples) / ln(base)`` (or ``log_base(samples)``) is uniform.\\n    Default is 10.0.\\ndtype : dtype\\n    The type of the output array.  If `dtype` is not given, the data type\\n    is inferred from `start` and `stop`. The inferred type will never be\\n    an integer; `float` is chosen even if the arguments would produce an\\n    array of integers.\\naxis : int, optional\\n    The axis in the result to store the samples.  Relevant only if start\\n    or stop are array-like.  By default (0), the samples will be along a\\n    new axis inserted at the beginning. Use -1 to get an axis at the end.\\n\\n    .. versionadded:: 1.16.0\\n\\n\\nReturns\\n-------\\nsamples : ndarray\\n    `num` samples, equally spaced on a log scale.\\n\\nSee Also\\n--------\\narange : Similar to linspace, with the step size specified instead of the\\n         number of samples. Note that, when used with a float endpoint, the\\n         endpoint may or may not be included.\\nlinspace : Similar to logspace, but with the samples uniformly distributed\\n           in linear space, instead of log space.\\ngeomspace : Similar to logspace, but with endpoints specified directly.\\n\\nNotes\\n-----\\nLogspace is equivalent to the code\\n\\n>>> y = np.linspace(start, stop, num=num, endpoint=endpoint)\\n... # doctest: +SKIP\\n>>> power(base, y).astype(dtype)\\n... # doctest: +SKIP\\n\\nExamples\\n--------\\n>>> np.logspace(2.0, 3.0, num=4)\\narray([ 100.        ,  215.443469  ,  464.15888336, 1000.        ])\\n>>> np.logspace(2.0, 3.0, num=4, endpoint=False)\\narray([100.        ,  177.827941  ,  316.22776602,  562.34132519])\\n>>> np.logspace(2.0, 3.0, num=4, base=2.0)\\narray([4.        ,  5.0396842 ,  6.34960421,  8.        ])\\n\\nGraphical illustration:\\n\\n>>> import matplotlib.pyplot as plt\\n>>> N = 10\\n>>> x1 = np.logspace(0.1, 1, N, endpoint=True)\\n>>> x2 = np.logspace(0.1, 1, N, endpoint=False)\\n>>> y = np.zeros(N)\\n>>> plt.plot(x1, y, 'o')\\n[<matplotlib.lines.Line2D object at 0x...>]\\n>>> plt.plot(x2, y + 0.5, 'o')\\n[<matplotlib.lines.Line2D object at 0x...>]\\n>>> plt.ylim([-0.5, 1])\\n(-0.5, 1)\\n>>> plt.show()\",\n",
       " <Signature (start, stop, num=50, endpoint=True, base=10.0, dtype=None, axis=0)>)"
      ]
     },
     "execution_count": null,
     "metadata": {},
     "output_type": "execute_result"
    }
   ],
   "source": [
    "labels = []\n",
    "\n",
    "no_data = 0\n",
    "no_data_all_aids = 0\n",
    "type_weight_multipliers = {0: 1, 1: 6, 2: 3}\n",
    "session_types = ['clicks', 'carts', 'orders']\n",
    "idx = 0\n",
    "for AIDs, types in zip(test_session_AIDs, test_session_types): #### for each session, get all of its aids and types\n",
    "    if len(AIDs) >= 20:\n",
    "        #### assign logspaced weight to each arcticle id under each session\n",
    "        pp(AIDs, len(AIDs), np.logspace(0.1,1,len(AIDs),base=2, endpoint=True), np.logspace(0.1,1,len(AIDs),base=2, endpoint=False))\n",
    "        weights=np.logspace(0.1,1,len(AIDs),base=2, endpoint=True)-1\n",
    "        pp(weights)\n",
    "        pp(doc_sig(np.logspace))\n",
    "        break\n",
    "\n",
    "        #### create a defaultdict to store weight for each id article under a session\n",
    "        aids_temp=defaultdict(lambda: 0)\n",
    "    \n",
    "        #### loop each article id, its weight and its type from all aids, their weights, and types\n",
    "#         pp(AIDs) # there are repeated aids\n",
    "        for aid,w,t in zip(AIDs,weights,types): \n",
    "        \n",
    "            #### Within each session, accumulate the weight for each aid based on its occurences, \n",
    "            #### event_type and logspaced weight; save the accumulated weight for each aid into a defaultdict, \n",
    "            #### no duplicated aid here in this dict\n",
    "            aids_temp[aid] += w * type_weight_multipliers[t]\n",
    "            \n",
    "        #### sort a defaultdict from largest value to smallest, and then put its keys into a list\n",
    "#         pp(aids_temp.items())\n",
    "#         pp(sorted(aids_temp.items(), key=lambda item: -item[1]))\n",
    "#         pp(sorted(aids_temp.items(), key=lambda item: item[1])) \n",
    "        sorted_aids=[k for k, v in sorted(aids_temp.items(), key=lambda item: -item[1])]\n",
    "#         pp(aids_temp, sorted_aids)\n",
    "#         break\n",
    "\n",
    "        #### store the first 20 aids into the list 'labels'\n",
    "        labels.append(sorted_aids[:20])\n",
    "        \n",
    "    else:\n",
    "        \n",
    "        #### reverse the order of AIDs, remove the duplicated, put into a list, reassign it to AIDs\n",
    "#         if len(AIDs) > 10:\n",
    "#             pp(AIDs, AIDs[::-1], dict.fromkeys(AIDs[::-1]), list(dict.fromkeys(AIDs[::-1])), doc_sig(dict.fromkeys))\n",
    "# https://stackoverflow.com/questions/31633635/what-is-the-meaning-of-inta-1-in-python [::-1] means reverse order\n",
    "#             pp(AIDs, list(dict.fromkeys(AIDs[::-1])), list(dict.fromkeys(AIDs[::1])), list(dict.fromkeys(AIDs)))\n",
    "#             break\n",
    "        AIDs = list(dict.fromkeys(AIDs[::-1]))\n",
    "    \n",
    "        #### keep track the length of AIDs\n",
    "        AIDs_len_start = len(AIDs)\n",
    "        \n",
    "        candidates = []\n",
    "        for AID in AIDs:\n",
    "            #### if AID is in the keys of next_AIDs, then take the 20 most common other aids occurred when AID occurred into a list\n",
    "            #### and add this list into the list candidate (not a list of list, just a merged list)\n",
    "            if AID in next_AIDs: candidates += [aid for aid, count in next_AIDs[AID].most_common(20)]\n",
    "#         if len(candidates) > 0: \n",
    "#             pp(candidates, Counter(candidates), Counter(candidates).most_common(40))\n",
    "#             break\n",
    "\n",
    "        #### use Counter to find the first 40 most common aid in candidate, and if they are not in AIDs then merge them into AIDs list\n",
    "        AIDs += [AID for AID, cnt in Counter(candidates).most_common(40) if AID not in AIDs]\n",
    "        \n",
    "        #### append the first 20 aids to labels; \n",
    "        #### also count how many times a test session have no aid in next_AIDs from training\n",
    "        #### count how many new other aids offerred by next_AIDs\n",
    "        labels.append(AIDs[:20])\n",
    "        if candidates == []: no_data += 1\n",
    "        if AIDs_len_start == len(AIDs): no_data_all_aids += 1\n",
    "            \n",
    "#         pp(AIDs, labels, no_data, no_data_all_aids)\n",
    "#         idx += 1\n",
    "#         if idx > 2: break"
   ]
  },
  {
   "cell_type": "markdown",
   "metadata": {},
   "source": [
    "### rd: recsys - otto - covisitation_simplified - create a defaultdict (if no value to the key, set value to 0) - aids_temp=defaultdict(lambda: 0)"
   ]
  },
  {
   "cell_type": "code",
   "execution_count": null,
   "metadata": {},
   "outputs": [
    {
     "name": "stderr",
     "output_type": "stream",
     "text": [
      "13:33:51.97 LOG:\n",
      "13:33:51.98 .... aids_temp['a'] = 0\n",
      "13:33:51.98 .... help(defaultdict) = None\n"
     ]
    },
    {
     "name": "stdout",
     "output_type": "stream",
     "text": [
      "Help on class defaultdict in module collections:\n",
      "\n",
      "class defaultdict(builtins.dict)\n",
      " |  defaultdict(default_factory[, ...]) --> dict with default factory\n",
      " |  \n",
      " |  The default factory is called without arguments to produce\n",
      " |  a new value when a key is not present, in __getitem__ only.\n",
      " |  A defaultdict compares equal to a dict with the same items.\n",
      " |  All remaining arguments are treated the same as if they were\n",
      " |  passed to the dict constructor, including keyword arguments.\n",
      " |  \n",
      " |  Method resolution order:\n",
      " |      defaultdict\n",
      " |      builtins.dict\n",
      " |      builtins.object\n",
      " |  \n",
      " |  Methods defined here:\n",
      " |  \n",
      " |  __copy__(...)\n",
      " |      D.copy() -> a shallow copy of D.\n",
      " |  \n",
      " |  __getattribute__(self, name, /)\n",
      " |      Return getattr(self, name).\n",
      " |  \n",
      " |  __init__(self, /, *args, **kwargs)\n",
      " |      Initialize self.  See help(type(self)) for accurate signature.\n",
      " |  \n",
      " |  __missing__(...)\n",
      " |      __missing__(key) # Called by __getitem__ for missing key; pseudo-code:\n",
      " |      if self.default_factory is None: raise KeyError((key,))\n",
      " |      self[key] = value = self.default_factory()\n",
      " |      return value\n",
      " |  \n",
      " |  __reduce__(...)\n",
      " |      Return state information for pickling.\n",
      " |  \n",
      " |  __repr__(self, /)\n",
      " |      Return repr(self).\n",
      " |  \n",
      " |  copy(...)\n",
      " |      D.copy() -> a shallow copy of D.\n",
      " |  \n",
      " |  ----------------------------------------------------------------------\n",
      " |  Data descriptors defined here:\n",
      " |  \n",
      " |  default_factory\n",
      " |      Factory for default value called by __missing__().\n",
      " |  \n",
      " |  ----------------------------------------------------------------------\n",
      " |  Methods inherited from builtins.dict:\n",
      " |  \n",
      " |  __contains__(self, key, /)\n",
      " |      True if the dictionary has the specified key, else False.\n",
      " |  \n",
      " |  __delitem__(self, key, /)\n",
      " |      Delete self[key].\n",
      " |  \n",
      " |  __eq__(self, value, /)\n",
      " |      Return self==value.\n",
      " |  \n",
      " |  __ge__(self, value, /)\n",
      " |      Return self>=value.\n",
      " |  \n",
      " |  __getitem__(...)\n",
      " |      x.__getitem__(y) <==> x[y]\n",
      " |  \n",
      " |  __gt__(self, value, /)\n",
      " |      Return self>value.\n",
      " |  \n",
      " |  __iter__(self, /)\n",
      " |      Implement iter(self).\n",
      " |  \n",
      " |  __le__(self, value, /)\n",
      " |      Return self<=value.\n",
      " |  \n",
      " |  __len__(self, /)\n",
      " |      Return len(self).\n",
      " |  \n",
      " |  __lt__(self, value, /)\n",
      " |      Return self<value.\n",
      " |  \n",
      " |  __ne__(self, value, /)\n",
      " |      Return self!=value.\n",
      " |  \n",
      " |  __setitem__(self, key, value, /)\n",
      " |      Set self[key] to value.\n",
      " |  \n",
      " |  __sizeof__(...)\n",
      " |      D.__sizeof__() -> size of D in memory, in bytes\n",
      " |  \n",
      " |  clear(...)\n",
      " |      D.clear() -> None.  Remove all items from D.\n",
      " |  \n",
      " |  get(self, key, default=None, /)\n",
      " |      Return the value for key if key is in the dictionary, else default.\n",
      " |  \n",
      " |  items(...)\n",
      " |      D.items() -> a set-like object providing a view on D's items\n",
      " |  \n",
      " |  keys(...)\n",
      " |      D.keys() -> a set-like object providing a view on D's keys\n",
      " |  \n",
      " |  pop(...)\n",
      " |      D.pop(k[,d]) -> v, remove specified key and return the corresponding value.\n",
      " |      If key is not found, d is returned if given, otherwise KeyError is raised\n",
      " |  \n",
      " |  popitem(...)\n",
      " |      D.popitem() -> (k, v), remove and return some (key, value) pair as a\n",
      " |      2-tuple; but raise KeyError if D is empty.\n",
      " |  \n",
      " |  setdefault(self, key, default=None, /)\n",
      " |      Insert key with a value of default if key is not in the dictionary.\n",
      " |      \n",
      " |      Return the value for key if key is in the dictionary, else default.\n",
      " |  \n",
      " |  update(...)\n",
      " |      D.update([E, ]**F) -> None.  Update D from dict/iterable E and F.\n",
      " |      If E is present and has a .keys() method, then does:  for k in E: D[k] = E[k]\n",
      " |      If E is present and lacks a .keys() method, then does:  for k, v in E: D[k] = v\n",
      " |      In either case, this is followed by: for k in F:  D[k] = F[k]\n",
      " |  \n",
      " |  values(...)\n",
      " |      D.values() -> an object providing a view on D's values\n",
      " |  \n",
      " |  ----------------------------------------------------------------------\n",
      " |  Class methods inherited from builtins.dict:\n",
      " |  \n",
      " |  fromkeys(iterable, value=None, /) from builtins.type\n",
      " |      Create a new dictionary with keys from iterable and values set to value.\n",
      " |  \n",
      " |  ----------------------------------------------------------------------\n",
      " |  Static methods inherited from builtins.dict:\n",
      " |  \n",
      " |  __new__(*args, **kwargs) from builtins.type\n",
      " |      Create and return a new object.  See help(type) for accurate signature.\n",
      " |  \n",
      " |  ----------------------------------------------------------------------\n",
      " |  Data and other attributes inherited from builtins.dict:\n",
      " |  \n",
      " |  __hash__ = None\n",
      "\n"
     ]
    },
    {
     "data": {
      "text/plain": [
       "(0, None)"
      ]
     },
     "execution_count": null,
     "metadata": {},
     "output_type": "execute_result"
    }
   ],
   "source": [
    "labels = []\n",
    "\n",
    "no_data = 0\n",
    "no_data_all_aids = 0\n",
    "type_weight_multipliers = {0: 1, 1: 6, 2: 3}\n",
    "session_types = ['clicks', 'carts', 'orders']\n",
    "\n",
    "idx = 0\n",
    "for AIDs, types in zip(test_session_AIDs, test_session_types): #### for each session, get all of its aids and types\n",
    "    if len(AIDs) >= 20:\n",
    "        #### assign logspaced weight to each arcticle id under each session\n",
    "#         pp(AIDs, len(AIDs), np.logspace(0.1,1,len(AIDs),base=2, endpoint=True), np.logspace(0.1,1,len(AIDs),base=2, endpoint=False))\n",
    "        weights=np.logspace(0.1,1,len(AIDs),base=2, endpoint=True)-1\n",
    "#         pp(weights)\n",
    "#         pp(doc_sig(np.logspace))\n",
    "#         break\n",
    "\n",
    "        #### create a defaultdict to store weight for each id article under a session\n",
    "        aids_temp=defaultdict(lambda: 0)\n",
    "        pp(aids_temp['a'], help(defaultdict))\n",
    "        break\n",
    "    \n",
    "        #### loop each article id, its weight and its type from all aids, their weights, and types\n",
    "#         pp(AIDs) # there are repeated aids\n",
    "        for aid,w,t in zip(AIDs,weights,types): \n",
    "        \n",
    "            #### Within each session, accumulate the weight for each aid based on its occurences, \n",
    "            #### event_type and logspaced weight; save the accumulated weight for each aid into a defaultdict, \n",
    "            #### no duplicated aid here in this dict\n",
    "            aids_temp[aid] += w * type_weight_multipliers[t]\n",
    "            \n",
    "        #### sort a defaultdict from largest value to smallest, and then put its keys into a list\n",
    "#         pp(aids_temp.items())\n",
    "#         pp(sorted(aids_temp.items(), key=lambda item: -item[1]))\n",
    "#         pp(sorted(aids_temp.items(), key=lambda item: item[1])) \n",
    "        sorted_aids=[k for k, v in sorted(aids_temp.items(), key=lambda item: -item[1])]\n",
    "#         pp(aids_temp, sorted_aids)\n",
    "#         break\n",
    "\n",
    "        #### store the first 20 aids into the list 'labels'\n",
    "        labels.append(sorted_aids[:20])\n",
    "        \n",
    "    else:\n",
    "        \n",
    "        #### reverse the order of AIDs, remove the duplicated, put into a list, reassign it to AIDs\n",
    "#         if len(AIDs) > 10:\n",
    "#             pp(AIDs, AIDs[::-1], dict.fromkeys(AIDs[::-1]), list(dict.fromkeys(AIDs[::-1])), doc_sig(dict.fromkeys))\n",
    "# https://stackoverflow.com/questions/31633635/what-is-the-meaning-of-inta-1-in-python [::-1] means reverse order\n",
    "#             pp(AIDs, list(dict.fromkeys(AIDs[::-1])), list(dict.fromkeys(AIDs[::1])), list(dict.fromkeys(AIDs)))\n",
    "#             break\n",
    "        AIDs = list(dict.fromkeys(AIDs[::-1]))\n",
    "    \n",
    "        #### keep track the length of AIDs\n",
    "        AIDs_len_start = len(AIDs)\n",
    "        \n",
    "        candidates = []\n",
    "        for AID in AIDs:\n",
    "            #### if AID is in the keys of next_AIDs, then take the 20 most common other aids occurred when AID occurred into a list\n",
    "            #### and add this list into the list candidate (not a list of list, just a merged list)\n",
    "            if AID in next_AIDs: candidates += [aid for aid, count in next_AIDs[AID].most_common(20)]\n",
    "#         if len(candidates) > 0: \n",
    "#             pp(candidates, Counter(candidates), Counter(candidates).most_common(40))\n",
    "#             break\n",
    "\n",
    "        #### use Counter to find the first 40 most common aid in candidate, and if they are not in AIDs then merge them into AIDs list\n",
    "        AIDs += [AID for AID, cnt in Counter(candidates).most_common(40) if AID not in AIDs]\n",
    "        \n",
    "        #### append the first 20 aids to labels; \n",
    "        #### also count how many times a test session have no aid in next_AIDs from training\n",
    "        #### count how many new other aids offerred by next_AIDs\n",
    "        labels.append(AIDs[:20])\n",
    "        if candidates == []: no_data += 1\n",
    "        if AIDs_len_start == len(AIDs): no_data_all_aids += 1\n",
    "            \n",
    "#         pp(AIDs, labels, no_data, no_data_all_aids)\n",
    "#         idx += 1\n",
    "#         if idx > 2: break"
   ]
  },
  {
   "cell_type": "markdown",
   "metadata": {},
   "source": [
    "### rd: recsys - otto - covisitation_simplified - loop each aid, weight, event_type of a session: - for aid,w,t in zip(AIDs,weights,types):\n",
    "### rd: recsys - otto - covisitation_simplified - Within each session, accumulate the weight for each aid based on its occurences, event_type and logspaced weight; save the accumulated weight as value and each aid as key into a defaultdict (aids_temp), no duplicated aid here in this dict, and every session has its own aid_temp - aids_temp[aid] += w * type_weight_multipliers[t]"
   ]
  },
  {
   "cell_type": "code",
   "execution_count": null,
   "metadata": {},
   "outputs": [
    {
     "name": "stderr",
     "output_type": "stream",
     "text": [
      "13:33:52.00 LOG:\n",
      "13:33:52.01 .... AIDs = [1669402,\n",
      "13:33:52.01              1494780,\n",
      "13:33:52.01              1494780,\n",
      "13:33:52.01              1494780,\n",
      "13:33:52.01              1494780,\n",
      "13:33:52.01              1674681,\n",
      "13:33:52.01              602722,\n",
      "13:33:52.01              1596098,\n",
      "13:33:52.01              45034,\n",
      "13:33:52.01              603159,\n",
      "13:33:52.01              413962,\n",
      "13:33:52.01              413962,\n",
      "13:33:52.01              413962,\n",
      "13:33:52.01              779477,\n",
      "13:33:52.01              1037537,\n",
      "13:33:52.01              779477,\n",
      "13:33:52.01              779477,\n",
      "13:33:52.01              476063,\n",
      "13:33:52.01              562753,\n",
      "13:33:52.01              779477,\n",
      "13:33:52.01              562753,\n",
      "13:33:52.01              476063,\n",
      "13:33:52.01              779477,\n",
      "13:33:52.01              779477,\n",
      "13:33:52.01              562753,\n",
      "13:33:52.01              779477,\n",
      "13:33:52.01              476063,\n",
      "13:33:52.01              975116,\n",
      "13:33:52.01              975116,\n",
      "13:33:52.01              595994,\n",
      "13:33:52.01              595994,\n",
      "13:33:52.01              595994,\n",
      "13:33:52.01              1299062,\n",
      "13:33:52.01              1352725,\n",
      "13:33:52.01              1344773,\n",
      "13:33:52.01              1344773,\n",
      "13:33:52.01              794259,\n",
      "13:33:52.01              363336,\n",
      "13:33:52.01              829180,\n",
      "13:33:52.01              1711180,\n",
      "13:33:52.01              127404,\n",
      "13:33:52.01              654809,\n",
      "13:33:52.01              723956,\n",
      "13:33:52.01              476063,\n",
      "13:33:52.01              975116,\n",
      "13:33:52.01              406001,\n",
      "13:33:52.01              889671,\n",
      "13:33:52.01              889671,\n",
      "13:33:52.01              834354,\n",
      "13:33:52.01              834354,\n",
      "13:33:52.01              889671,\n",
      "13:33:52.01              1099390,\n",
      "13:33:52.01              987399,\n",
      "13:33:52.01              987399,\n",
      "13:33:52.01              638410,\n",
      "13:33:52.01              1072927,\n",
      "13:33:52.01              530899,\n",
      "13:33:52.01              229748,\n",
      "13:33:52.01              229748,\n",
      "13:33:52.01              740494,\n",
      "13:33:52.01              740494,\n",
      "13:33:52.01              834354,\n",
      "13:33:52.01              1669402,\n",
      "13:33:52.01              829180,\n",
      "13:33:52.01              1696036,\n",
      "13:33:52.01              479970,\n",
      "13:33:52.01              834354,\n",
      "13:33:52.01              1033148,\n",
      "13:33:52.01              595994,\n",
      "13:33:52.01              1007613]\n",
      "13:33:52.01 .... aids_temp = defaultdict(<function <lambda>>,\n",
      "13:33:52.01                              {45034: 0.15216538980246397,\n",
      "13:33:52.01                               127404: 3.2323737629344955,\n",
      "13:33:52.01                               229748: 1.605038684877593,\n",
      "13:33:52.01                               363336: 0.4975546953197658,\n",
      "13:33:52.01                               406001: 0.6098837577117002,\n",
      "13:33:52.01                               413962: 1.4708440241070397,\n",
      "13:33:52.01                               476063: 2.961835608717208,\n",
      "13:33:52.01                               479970: 2.786891471107457,\n",
      "13:33:52.01                               530899: 0.7782211811540747,\n",
      "13:33:52.01                               562753: 2.182815559438255,\n",
      "13:33:52.01                               595994: 6.191834812668787,\n",
      "13:33:52.01                               602722: 0.1315190467584635,\n",
      "13:33:52.01                               603159: 0.16262940648086266,\n",
      "13:33:52.01                               638410: 0.746356168683505,\n",
      "13:33:52.01                               654809: 0.5527037644960433,\n",
      "13:33:52.01                               723956: 0.5668054882868307,\n",
      "13:33:52.01                               740494: 5.889348764642284,\n",
      "13:33:52.01                               779477: 4.7053138154586955,\n",
      "13:33:52.01                               794259: 0.4840762496333857,\n",
      "13:33:52.01                               829180: 3.194348242916396,\n",
      "13:33:52.01                               834354: 12.671315804076116,\n",
      "13:33:52.01                               889671: 5.144385428629587,\n",
      "13:33:52.01                               975116: 3.2466466975049197,\n",
      "13:33:52.01                               987399: 5.098892770923411,\n",
      "13:33:52.01                               1007613: 3.0,\n",
      "13:33:52.01                               1033148: 2.8924823993495936,\n",
      "13:33:52.01                               1037537: 0.2163923899480118,\n",
      "13:33:52.01                               1072927: 0.7622166521151952,\n",
      "13:33:52.01                               1099390: 0.6996260857281598,\n",
      "13:33:52.01                               1299062: 0.43136469857942994,\n",
      "13:33:52.01                               1344773: 3.2817968809446407,\n",
      "13:33:52.01                               1352725: 0.4443644156438129,\n",
      "13:33:52.01                               1494780: 0.9415342346298132,\n",
      "13:33:52.01                               1596098: 0.1417955524424579,\n",
      "13:33:52.01                               1669402: 2.70381569764724,\n",
      "13:33:52.01                               1674681: 0.12133503273713808,\n",
      "13:33:52.01                               1696036: 2.734807695716773,\n",
      "13:33:52.01                               1711180: 3.149279603696791})\n"
     ]
    },
    {
     "data": {
      "text/plain": [
       "([1669402,\n",
       "  1494780,\n",
       "  1494780,\n",
       "  1494780,\n",
       "  1494780,\n",
       "  1674681,\n",
       "  602722,\n",
       "  1596098,\n",
       "  45034,\n",
       "  603159,\n",
       "  413962,\n",
       "  413962,\n",
       "  413962,\n",
       "  779477,\n",
       "  1037537,\n",
       "  779477,\n",
       "  779477,\n",
       "  476063,\n",
       "  562753,\n",
       "  779477,\n",
       "  562753,\n",
       "  476063,\n",
       "  779477,\n",
       "  779477,\n",
       "  562753,\n",
       "  779477,\n",
       "  476063,\n",
       "  975116,\n",
       "  975116,\n",
       "  595994,\n",
       "  595994,\n",
       "  595994,\n",
       "  1299062,\n",
       "  1352725,\n",
       "  1344773,\n",
       "  1344773,\n",
       "  794259,\n",
       "  363336,\n",
       "  829180,\n",
       "  1711180,\n",
       "  127404,\n",
       "  654809,\n",
       "  723956,\n",
       "  476063,\n",
       "  975116,\n",
       "  406001,\n",
       "  889671,\n",
       "  889671,\n",
       "  834354,\n",
       "  834354,\n",
       "  889671,\n",
       "  1099390,\n",
       "  987399,\n",
       "  987399,\n",
       "  638410,\n",
       "  1072927,\n",
       "  530899,\n",
       "  229748,\n",
       "  229748,\n",
       "  740494,\n",
       "  740494,\n",
       "  834354,\n",
       "  1669402,\n",
       "  829180,\n",
       "  1696036,\n",
       "  479970,\n",
       "  834354,\n",
       "  1033148,\n",
       "  595994,\n",
       "  1007613],\n",
       " defaultdict(<function __main__.<lambda>()>,\n",
       "             {1669402: 2.70381569764724,\n",
       "              1494780: 0.9415342346298132,\n",
       "              1674681: 0.12133503273713808,\n",
       "              602722: 0.1315190467584635,\n",
       "              1596098: 0.1417955524424579,\n",
       "              45034: 0.15216538980246397,\n",
       "              603159: 0.16262940648086266,\n",
       "              413962: 1.4708440241070397,\n",
       "              779477: 4.7053138154586955,\n",
       "              1037537: 0.2163923899480118,\n",
       "              476063: 2.961835608717208,\n",
       "              562753: 2.182815559438255,\n",
       "              975116: 3.2466466975049197,\n",
       "              595994: 6.191834812668787,\n",
       "              1299062: 0.43136469857942994,\n",
       "              1352725: 0.4443644156438129,\n",
       "              1344773: 3.2817968809446407,\n",
       "              794259: 0.4840762496333857,\n",
       "              363336: 0.4975546953197658,\n",
       "              829180: 3.194348242916396,\n",
       "              1711180: 3.149279603696791,\n",
       "              127404: 3.2323737629344955,\n",
       "              654809: 0.5527037644960433,\n",
       "              723956: 0.5668054882868307,\n",
       "              406001: 0.6098837577117002,\n",
       "              889671: 5.144385428629587,\n",
       "              834354: 12.671315804076116,\n",
       "              1099390: 0.6996260857281598,\n",
       "              987399: 5.098892770923411,\n",
       "              638410: 0.746356168683505,\n",
       "              1072927: 0.7622166521151952,\n",
       "              530899: 0.7782211811540747,\n",
       "              229748: 1.605038684877593,\n",
       "              740494: 5.889348764642284,\n",
       "              1696036: 2.734807695716773,\n",
       "              479970: 2.786891471107457,\n",
       "              1033148: 2.8924823993495936,\n",
       "              1007613: 3.0}))"
      ]
     },
     "execution_count": null,
     "metadata": {},
     "output_type": "execute_result"
    }
   ],
   "source": [
    "labels = []\n",
    "\n",
    "no_data = 0\n",
    "no_data_all_aids = 0\n",
    "type_weight_multipliers = {0: 1, 1: 6, 2: 3}\n",
    "session_types = ['clicks', 'carts', 'orders']\n",
    "\n",
    "idx = 0\n",
    "for AIDs, types in zip(test_session_AIDs, test_session_types): #### for each session, get all of its aids and types\n",
    "    if len(AIDs) >= 20:\n",
    "        #### assign logspaced weight to each arcticle id under each session\n",
    "#         pp(AIDs, len(AIDs), np.logspace(0.1,1,len(AIDs),base=2, endpoint=True), np.logspace(0.1,1,len(AIDs),base=2, endpoint=False))\n",
    "        weights=np.logspace(0.1,1,len(AIDs),base=2, endpoint=True)-1\n",
    "#         pp(weights)\n",
    "#         pp(doc_sig(np.logspace))\n",
    "#         break\n",
    "\n",
    "        #### create a defaultdict to store weight for each id article under a session\n",
    "        aids_temp=defaultdict(lambda: 0)\n",
    "#         pp(aids_temp['a'], help(defaultdict))\n",
    "#         break\n",
    "    \n",
    "        #### loop each article id, its weight and its type from all aids, their weights, and types\n",
    "        for aid,w,t in zip(AIDs,weights,types):\n",
    "        \n",
    "            #### Within each session, accumulate the weight for each aid based on its occurences, \n",
    "            #### event_type and logspaced weight; save the accumulated weight for each aid into a defaultdict, \n",
    "            #### no duplicated aid here in this dict\n",
    "            aids_temp[aid] += w * type_weight_multipliers[t]\n",
    "        pp(AIDs, aids_temp) \n",
    "        break\n",
    "        \n",
    "        #### sort a defaultdict from largest value to smallest, and then put its keys into a list\n",
    "#         pp(aids_temp.items())\n",
    "#         pp(sorted(aids_temp.items(), key=lambda item: -item[1]))\n",
    "#         pp(sorted(aids_temp.items(), key=lambda item: item[1])) \n",
    "        sorted_aids=[k for k, v in sorted(aids_temp.items(), key=lambda item: -item[1])]\n",
    "#         pp(aids_temp, sorted_aids)\n",
    "#         break\n",
    "\n",
    "        #### store the first 20 aids into the list 'labels'\n",
    "        labels.append(sorted_aids[:20])\n",
    "        \n",
    "    else:\n",
    "        \n",
    "        #### reverse the order of AIDs, remove the duplicated, put into a list, reassign it to AIDs\n",
    "#         if len(AIDs) > 10:\n",
    "#             pp(AIDs, AIDs[::-1], dict.fromkeys(AIDs[::-1]), list(dict.fromkeys(AIDs[::-1])), doc_sig(dict.fromkeys))\n",
    "# https://stackoverflow.com/questions/31633635/what-is-the-meaning-of-inta-1-in-python [::-1] means reverse order\n",
    "#             pp(AIDs, list(dict.fromkeys(AIDs[::-1])), list(dict.fromkeys(AIDs[::1])), list(dict.fromkeys(AIDs)))\n",
    "#             break\n",
    "        AIDs = list(dict.fromkeys(AIDs[::-1]))\n",
    "    \n",
    "        #### keep track the length of AIDs\n",
    "        AIDs_len_start = len(AIDs)\n",
    "        \n",
    "        candidates = []\n",
    "        for AID in AIDs:\n",
    "            #### if AID is in the keys of next_AIDs, then take the 20 most common other aids occurred when AID occurred into a list\n",
    "            #### and add this list into the list candidate (not a list of list, just a merged list)\n",
    "            if AID in next_AIDs: candidates += [aid for aid, count in next_AIDs[AID].most_common(20)]\n",
    "#         if len(candidates) > 0: \n",
    "#             pp(candidates, Counter(candidates), Counter(candidates).most_common(40))\n",
    "#             break\n",
    "\n",
    "        #### use Counter to find the first 40 most common aid in candidate, and if they are not in AIDs then merge them into AIDs list\n",
    "        AIDs += [AID for AID, cnt in Counter(candidates).most_common(40) if AID not in AIDs]\n",
    "        \n",
    "        #### append the first 20 aids to labels; \n",
    "        #### also count how many times a test session have no aid in next_AIDs from training\n",
    "        #### count how many new other aids offerred by next_AIDs\n",
    "        labels.append(AIDs[:20])\n",
    "        if candidates == []: no_data += 1\n",
    "        if AIDs_len_start == len(AIDs): no_data_all_aids += 1\n",
    "            \n",
    "#         pp(AIDs, labels, no_data, no_data_all_aids)\n",
    "#         idx += 1\n",
    "#         if idx > 2: break"
   ]
  },
  {
   "cell_type": "markdown",
   "metadata": {},
   "source": [
    "### rd: recsys - otto - covisitation_simplified - sort a defaultdict from largest weight to smallest weight of all aids in each session???, and then put its keys into a list named sorted_aids - sorted_aids=[k for k, v in sorted(aids_temp.items(), key=lambda item: -item[1])]\n",
    "\n",
    "### rd: recsys - otto - covisitation_simplified - store the first 20 aids (the most weighted or most likely aids to be acted upon within a session) into the list 'labels' -         labels.append(sorted_aids[:20])"
   ]
  },
  {
   "cell_type": "code",
   "execution_count": null,
   "metadata": {},
   "outputs": [
    {
     "name": "stderr",
     "output_type": "stream",
     "text": [
      "13:33:52.03 LOG:\n",
      "13:33:52.04 .... aids_temp.items() = dict_items([(1669402, 2.70381569764724), (1494780, 0.9415342346298132), (1674681, 0.12133503273713808), (602722, 0.1315190467584635), (1596098, 0.1417955524424579), (45034, 0.15216538980246397), (603159, 0.16262940648086266), (413962, 1.4708440241070397), (779477, 4.7053138154586955), (1037537, 0.2163923899480118), (476063, 2.961835608717208), (562753, 2.182815559438255), (975116, 3.2466466975049197), (595994, 6.191834812668787), (1299062, 0.43136469857942994), (1352725, 0.4443644156438129), (1344773, 3.2817968809446407), (794259, 0.4840762496333857), (363336, 0.4975546953197658), (829180, 3.194348242916396), (1711180, 3.149279603696791), (127404, 3.2323737629344955), (654809, 0.5527037644960433), (723956, 0.5668054882868307), (406001, 0.6098837577117002), (889671, 5.144385428629587), (834354, 12.671315804076116), (1099390, 0.6996260857281598), (987399, 5.098892770923411), (638410, 0.746356168683505), (1072927, 0.7622166521151952), (530899, 0.7782211811540747), (229748, 1.605038684877593), (740494, 5.889348764642284), (1696036, 2.734807695716773), (479970, 2.786891471107457), (1033148, 2.8924823993495936), (1007613, 3.0)])\n"
     ]
    },
    {
     "data": {
      "text/plain": [
       "dict_items([(1669402, 2.70381569764724), (1494780, 0.9415342346298132), (1674681, 0.12133503273713808), (602722, 0.1315190467584635), (1596098, 0.1417955524424579), (45034, 0.15216538980246397), (603159, 0.16262940648086266), (413962, 1.4708440241070397), (779477, 4.7053138154586955), (1037537, 0.2163923899480118), (476063, 2.961835608717208), (562753, 2.182815559438255), (975116, 3.2466466975049197), (595994, 6.191834812668787), (1299062, 0.43136469857942994), (1352725, 0.4443644156438129), (1344773, 3.2817968809446407), (794259, 0.4840762496333857), (363336, 0.4975546953197658), (829180, 3.194348242916396), (1711180, 3.149279603696791), (127404, 3.2323737629344955), (654809, 0.5527037644960433), (723956, 0.5668054882868307), (406001, 0.6098837577117002), (889671, 5.144385428629587), (834354, 12.671315804076116), (1099390, 0.6996260857281598), (987399, 5.098892770923411), (638410, 0.746356168683505), (1072927, 0.7622166521151952), (530899, 0.7782211811540747), (229748, 1.605038684877593), (740494, 5.889348764642284), (1696036, 2.734807695716773), (479970, 2.786891471107457), (1033148, 2.8924823993495936), (1007613, 3.0)])"
      ]
     },
     "execution_count": null,
     "metadata": {},
     "output_type": "execute_result"
    },
    {
     "name": "stderr",
     "output_type": "stream",
     "text": [
      "13:33:52.05 LOG:\n",
      "13:33:52.06 .... sorted(aids_temp.items(), key=lambda item: -item[1]) = [(834354, 12.671315804076116),\n",
      "13:33:52.06                                                              (595994, 6.191834812668787),\n",
      "13:33:52.06                                                              (740494, 5.889348764642284),\n",
      "13:33:52.06                                                              (889671, 5.144385428629587),\n",
      "13:33:52.06                                                              (987399, 5.098892770923411),\n",
      "13:33:52.06                                                              (779477, 4.7053138154586955),\n",
      "13:33:52.06                                                              (1344773, 3.2817968809446407),\n",
      "13:33:52.06                                                              (975116, 3.2466466975049197),\n",
      "13:33:52.06                                                              (127404, 3.2323737629344955),\n",
      "13:33:52.06                                                              (829180, 3.194348242916396),\n",
      "13:33:52.06                                                              (1711180, 3.149279603696791),\n",
      "13:33:52.06                                                              (1007613, 3.0),\n",
      "13:33:52.06                                                              (476063, 2.961835608717208),\n",
      "13:33:52.06                                                              (1033148, 2.8924823993495936),\n",
      "13:33:52.06                                                              (479970, 2.786891471107457),\n",
      "13:33:52.06                                                              (1696036, 2.734807695716773),\n",
      "13:33:52.06                                                              (1669402, 2.70381569764724),\n",
      "13:33:52.06                                                              (562753, 2.182815559438255),\n",
      "13:33:52.06                                                              (229748, 1.605038684877593),\n",
      "13:33:52.06                                                              (413962, 1.4708440241070397),\n",
      "13:33:52.06                                                              (1494780, 0.9415342346298132),\n",
      "13:33:52.06                                                              (530899, 0.7782211811540747),\n",
      "13:33:52.06                                                              (1072927, 0.7622166521151952),\n",
      "13:33:52.06                                                              (638410, 0.746356168683505),\n",
      "13:33:52.06                                                              (1099390, 0.6996260857281598),\n",
      "13:33:52.06                                                              (406001, 0.6098837577117002),\n",
      "13:33:52.06                                                              (723956, 0.5668054882868307),\n",
      "13:33:52.06                                                              (654809, 0.5527037644960433),\n",
      "13:33:52.06                                                              (363336, 0.4975546953197658),\n",
      "13:33:52.06                                                              (794259, 0.4840762496333857),\n",
      "13:33:52.06                                                              (1352725, 0.4443644156438129),\n",
      "13:33:52.06                                                              (1299062, 0.43136469857942994),\n",
      "13:33:52.06                                                              (1037537, 0.2163923899480118),\n",
      "13:33:52.06                                                              (603159, 0.16262940648086266),\n",
      "13:33:52.06                                                              (45034, 0.15216538980246397),\n",
      "13:33:52.06                                                              (1596098, 0.1417955524424579),\n",
      "13:33:52.06                                                              (602722, 0.1315190467584635),\n",
      "13:33:52.06                                                              (1674681, 0.12133503273713808)]\n"
     ]
    },
    {
     "data": {
      "text/plain": [
       "[(834354, 12.671315804076116),\n",
       " (595994, 6.191834812668787),\n",
       " (740494, 5.889348764642284),\n",
       " (889671, 5.144385428629587),\n",
       " (987399, 5.098892770923411),\n",
       " (779477, 4.7053138154586955),\n",
       " (1344773, 3.2817968809446407),\n",
       " (975116, 3.2466466975049197),\n",
       " (127404, 3.2323737629344955),\n",
       " (829180, 3.194348242916396),\n",
       " (1711180, 3.149279603696791),\n",
       " (1007613, 3.0),\n",
       " (476063, 2.961835608717208),\n",
       " (1033148, 2.8924823993495936),\n",
       " (479970, 2.786891471107457),\n",
       " (1696036, 2.734807695716773),\n",
       " (1669402, 2.70381569764724),\n",
       " (562753, 2.182815559438255),\n",
       " (229748, 1.605038684877593),\n",
       " (413962, 1.4708440241070397),\n",
       " (1494780, 0.9415342346298132),\n",
       " (530899, 0.7782211811540747),\n",
       " (1072927, 0.7622166521151952),\n",
       " (638410, 0.746356168683505),\n",
       " (1099390, 0.6996260857281598),\n",
       " (406001, 0.6098837577117002),\n",
       " (723956, 0.5668054882868307),\n",
       " (654809, 0.5527037644960433),\n",
       " (363336, 0.4975546953197658),\n",
       " (794259, 0.4840762496333857),\n",
       " (1352725, 0.4443644156438129),\n",
       " (1299062, 0.43136469857942994),\n",
       " (1037537, 0.2163923899480118),\n",
       " (603159, 0.16262940648086266),\n",
       " (45034, 0.15216538980246397),\n",
       " (1596098, 0.1417955524424579),\n",
       " (602722, 0.1315190467584635),\n",
       " (1674681, 0.12133503273713808)]"
      ]
     },
     "execution_count": null,
     "metadata": {},
     "output_type": "execute_result"
    },
    {
     "name": "stderr",
     "output_type": "stream",
     "text": [
      "13:33:52.07 LOG:\n",
      "13:33:52.08 .... sorted(aids_temp.items(), key=lambda item: item[1]) = [(1674681, 0.12133503273713808),\n",
      "13:33:52.08                                                             (602722, 0.1315190467584635),\n",
      "13:33:52.08                                                             (1596098, 0.1417955524424579),\n",
      "13:33:52.08                                                             (45034, 0.15216538980246397),\n",
      "13:33:52.08                                                             (603159, 0.16262940648086266),\n",
      "13:33:52.08                                                             (1037537, 0.2163923899480118),\n",
      "13:33:52.08                                                             (1299062, 0.43136469857942994),\n",
      "13:33:52.08                                                             (1352725, 0.4443644156438129),\n",
      "13:33:52.08                                                             (794259, 0.4840762496333857),\n",
      "13:33:52.08                                                             (363336, 0.4975546953197658),\n",
      "13:33:52.08                                                             (654809, 0.5527037644960433),\n",
      "13:33:52.08                                                             (723956, 0.5668054882868307),\n",
      "13:33:52.08                                                             (406001, 0.6098837577117002),\n",
      "13:33:52.08                                                             (1099390, 0.6996260857281598),\n",
      "13:33:52.08                                                             (638410, 0.746356168683505),\n",
      "13:33:52.08                                                             (1072927, 0.7622166521151952),\n",
      "13:33:52.08                                                             (530899, 0.7782211811540747),\n",
      "13:33:52.08                                                             (1494780, 0.9415342346298132),\n",
      "13:33:52.08                                                             (413962, 1.4708440241070397),\n",
      "13:33:52.08                                                             (229748, 1.605038684877593),\n",
      "13:33:52.08                                                             (562753, 2.182815559438255),\n",
      "13:33:52.08                                                             (1669402, 2.70381569764724),\n",
      "13:33:52.08                                                             (1696036, 2.734807695716773),\n",
      "13:33:52.08                                                             (479970, 2.786891471107457),\n",
      "13:33:52.08                                                             (1033148, 2.8924823993495936),\n",
      "13:33:52.08                                                             (476063, 2.961835608717208),\n",
      "13:33:52.08                                                             (1007613, 3.0),\n",
      "13:33:52.08                                                             (1711180, 3.149279603696791),\n",
      "13:33:52.08                                                             (829180, 3.194348242916396),\n",
      "13:33:52.08                                                             (127404, 3.2323737629344955),\n",
      "13:33:52.08                                                             (975116, 3.2466466975049197),\n",
      "13:33:52.08                                                             (1344773, 3.2817968809446407),\n",
      "13:33:52.08                                                             (779477, 4.7053138154586955),\n",
      "13:33:52.08                                                             (987399, 5.098892770923411),\n",
      "13:33:52.08                                                             (889671, 5.144385428629587),\n",
      "13:33:52.08                                                             (740494, 5.889348764642284),\n",
      "13:33:52.08                                                             (595994, 6.191834812668787),\n",
      "13:33:52.08                                                             (834354, 12.671315804076116)]\n"
     ]
    },
    {
     "data": {
      "text/plain": [
       "[(1674681, 0.12133503273713808),\n",
       " (602722, 0.1315190467584635),\n",
       " (1596098, 0.1417955524424579),\n",
       " (45034, 0.15216538980246397),\n",
       " (603159, 0.16262940648086266),\n",
       " (1037537, 0.2163923899480118),\n",
       " (1299062, 0.43136469857942994),\n",
       " (1352725, 0.4443644156438129),\n",
       " (794259, 0.4840762496333857),\n",
       " (363336, 0.4975546953197658),\n",
       " (654809, 0.5527037644960433),\n",
       " (723956, 0.5668054882868307),\n",
       " (406001, 0.6098837577117002),\n",
       " (1099390, 0.6996260857281598),\n",
       " (638410, 0.746356168683505),\n",
       " (1072927, 0.7622166521151952),\n",
       " (530899, 0.7782211811540747),\n",
       " (1494780, 0.9415342346298132),\n",
       " (413962, 1.4708440241070397),\n",
       " (229748, 1.605038684877593),\n",
       " (562753, 2.182815559438255),\n",
       " (1669402, 2.70381569764724),\n",
       " (1696036, 2.734807695716773),\n",
       " (479970, 2.786891471107457),\n",
       " (1033148, 2.8924823993495936),\n",
       " (476063, 2.961835608717208),\n",
       " (1007613, 3.0),\n",
       " (1711180, 3.149279603696791),\n",
       " (829180, 3.194348242916396),\n",
       " (127404, 3.2323737629344955),\n",
       " (975116, 3.2466466975049197),\n",
       " (1344773, 3.2817968809446407),\n",
       " (779477, 4.7053138154586955),\n",
       " (987399, 5.098892770923411),\n",
       " (889671, 5.144385428629587),\n",
       " (740494, 5.889348764642284),\n",
       " (595994, 6.191834812668787),\n",
       " (834354, 12.671315804076116)]"
      ]
     },
     "execution_count": null,
     "metadata": {},
     "output_type": "execute_result"
    },
    {
     "name": "stderr",
     "output_type": "stream",
     "text": [
      "13:33:52.09 LOG:\n",
      "13:33:52.10 .... aids_temp = defaultdict(<function <lambda>>,\n",
      "13:33:52.10                              {45034: 0.15216538980246397,\n",
      "13:33:52.10                               127404: 3.2323737629344955,\n",
      "13:33:52.10                               229748: 1.605038684877593,\n",
      "13:33:52.10                               363336: 0.4975546953197658,\n",
      "13:33:52.10                               406001: 0.6098837577117002,\n",
      "13:33:52.10                               413962: 1.4708440241070397,\n",
      "13:33:52.10                               476063: 2.961835608717208,\n",
      "13:33:52.10                               479970: 2.786891471107457,\n",
      "13:33:52.10                               530899: 0.7782211811540747,\n",
      "13:33:52.10                               562753: 2.182815559438255,\n",
      "13:33:52.10                               595994: 6.191834812668787,\n",
      "13:33:52.10                               602722: 0.1315190467584635,\n",
      "13:33:52.10                               603159: 0.16262940648086266,\n",
      "13:33:52.10                               638410: 0.746356168683505,\n",
      "13:33:52.10                               654809: 0.5527037644960433,\n",
      "13:33:52.10                               723956: 0.5668054882868307,\n",
      "13:33:52.10                               740494: 5.889348764642284,\n",
      "13:33:52.10                               779477: 4.7053138154586955,\n",
      "13:33:52.10                               794259: 0.4840762496333857,\n",
      "13:33:52.10                               829180: 3.194348242916396,\n",
      "13:33:52.10                               834354: 12.671315804076116,\n",
      "13:33:52.10                               889671: 5.144385428629587,\n",
      "13:33:52.10                               975116: 3.2466466975049197,\n",
      "13:33:52.10                               987399: 5.098892770923411,\n",
      "13:33:52.10                               1007613: 3.0,\n",
      "13:33:52.10                               1033148: 2.8924823993495936,\n",
      "13:33:52.10                               1037537: 0.2163923899480118,\n",
      "13:33:52.10                               1072927: 0.7622166521151952,\n",
      "13:33:52.10                               1099390: 0.6996260857281598,\n",
      "13:33:52.10                               1299062: 0.43136469857942994,\n",
      "13:33:52.10                               1344773: 3.2817968809446407,\n",
      "13:33:52.10                               1352725: 0.4443644156438129,\n",
      "13:33:52.10                               1494780: 0.9415342346298132,\n",
      "13:33:52.10                               1596098: 0.1417955524424579,\n",
      "13:33:52.10                               1669402: 2.70381569764724,\n",
      "13:33:52.10                               1674681: 0.12133503273713808,\n",
      "13:33:52.10                               1696036: 2.734807695716773,\n",
      "13:33:52.10                               1711180: 3.149279603696791})\n",
      "13:33:52.10 .... sorted_aids = [834354,\n",
      "13:33:52.10                     595994,\n",
      "13:33:52.10                     740494,\n",
      "13:33:52.10                     889671,\n",
      "13:33:52.10                     987399,\n",
      "13:33:52.10                     779477,\n",
      "13:33:52.10                     1344773,\n",
      "13:33:52.10                     975116,\n",
      "13:33:52.10                     127404,\n",
      "13:33:52.10                     829180,\n",
      "13:33:52.10                     1711180,\n",
      "13:33:52.10                     1007613,\n",
      "13:33:52.10                     476063,\n",
      "13:33:52.10                     1033148,\n",
      "13:33:52.10                     479970,\n",
      "13:33:52.10                     1696036,\n",
      "13:33:52.10                     1669402,\n",
      "13:33:52.10                     562753,\n",
      "13:33:52.10                     229748,\n",
      "13:33:52.10                     413962,\n",
      "13:33:52.10                     1494780,\n",
      "13:33:52.10                     530899,\n",
      "13:33:52.10                     1072927,\n",
      "13:33:52.10                     638410,\n",
      "13:33:52.10                     1099390,\n",
      "13:33:52.10                     406001,\n",
      "13:33:52.10                     723956,\n",
      "13:33:52.10                     654809,\n",
      "13:33:52.10                     363336,\n",
      "13:33:52.10                     794259,\n",
      "13:33:52.10                     1352725,\n",
      "13:33:52.10                     1299062,\n",
      "13:33:52.10                     1037537,\n",
      "13:33:52.10                     603159,\n",
      "13:33:52.10                     45034,\n",
      "13:33:52.10                     1596098,\n",
      "13:33:52.10                     602722,\n",
      "13:33:52.10                     1674681]\n"
     ]
    },
    {
     "data": {
      "text/plain": [
       "(defaultdict(<function __main__.<lambda>()>,\n",
       "             {1669402: 2.70381569764724,\n",
       "              1494780: 0.9415342346298132,\n",
       "              1674681: 0.12133503273713808,\n",
       "              602722: 0.1315190467584635,\n",
       "              1596098: 0.1417955524424579,\n",
       "              45034: 0.15216538980246397,\n",
       "              603159: 0.16262940648086266,\n",
       "              413962: 1.4708440241070397,\n",
       "              779477: 4.7053138154586955,\n",
       "              1037537: 0.2163923899480118,\n",
       "              476063: 2.961835608717208,\n",
       "              562753: 2.182815559438255,\n",
       "              975116: 3.2466466975049197,\n",
       "              595994: 6.191834812668787,\n",
       "              1299062: 0.43136469857942994,\n",
       "              1352725: 0.4443644156438129,\n",
       "              1344773: 3.2817968809446407,\n",
       "              794259: 0.4840762496333857,\n",
       "              363336: 0.4975546953197658,\n",
       "              829180: 3.194348242916396,\n",
       "              1711180: 3.149279603696791,\n",
       "              127404: 3.2323737629344955,\n",
       "              654809: 0.5527037644960433,\n",
       "              723956: 0.5668054882868307,\n",
       "              406001: 0.6098837577117002,\n",
       "              889671: 5.144385428629587,\n",
       "              834354: 12.671315804076116,\n",
       "              1099390: 0.6996260857281598,\n",
       "              987399: 5.098892770923411,\n",
       "              638410: 0.746356168683505,\n",
       "              1072927: 0.7622166521151952,\n",
       "              530899: 0.7782211811540747,\n",
       "              229748: 1.605038684877593,\n",
       "              740494: 5.889348764642284,\n",
       "              1696036: 2.734807695716773,\n",
       "              479970: 2.786891471107457,\n",
       "              1033148: 2.8924823993495936,\n",
       "              1007613: 3.0}),\n",
       " [834354,\n",
       "  595994,\n",
       "  740494,\n",
       "  889671,\n",
       "  987399,\n",
       "  779477,\n",
       "  1344773,\n",
       "  975116,\n",
       "  127404,\n",
       "  829180,\n",
       "  1711180,\n",
       "  1007613,\n",
       "  476063,\n",
       "  1033148,\n",
       "  479970,\n",
       "  1696036,\n",
       "  1669402,\n",
       "  562753,\n",
       "  229748,\n",
       "  413962,\n",
       "  1494780,\n",
       "  530899,\n",
       "  1072927,\n",
       "  638410,\n",
       "  1099390,\n",
       "  406001,\n",
       "  723956,\n",
       "  654809,\n",
       "  363336,\n",
       "  794259,\n",
       "  1352725,\n",
       "  1299062,\n",
       "  1037537,\n",
       "  603159,\n",
       "  45034,\n",
       "  1596098,\n",
       "  602722,\n",
       "  1674681])"
      ]
     },
     "execution_count": null,
     "metadata": {},
     "output_type": "execute_result"
    },
    {
     "name": "stderr",
     "output_type": "stream",
     "text": [
      "13:33:52.11 LOG:\n",
      "13:33:52.12 .... help(sorted) = None\n"
     ]
    },
    {
     "name": "stdout",
     "output_type": "stream",
     "text": [
      "Help on built-in function sorted in module builtins:\n",
      "\n",
      "sorted(iterable, /, *, key=None, reverse=False)\n",
      "    Return a new list containing all items from the iterable in ascending order.\n",
      "    \n",
      "    A custom key function can be supplied to customize the sort order, and the\n",
      "    reverse flag can be set to request the result in descending order.\n",
      "\n"
     ]
    }
   ],
   "source": [
    "labels = []\n",
    "\n",
    "no_data = 0\n",
    "no_data_all_aids = 0\n",
    "type_weight_multipliers = {0: 1, 1: 6, 2: 3}\n",
    "session_types = ['clicks', 'carts', 'orders']\n",
    "\n",
    "idx = 0\n",
    "for AIDs, types in zip(test_session_AIDs, test_session_types): #### for each session, get all of its aids and types\n",
    "    if len(AIDs) >= 20:\n",
    "        #### assign logspaced weight to each arcticle id under each session\n",
    "#         pp(AIDs, len(AIDs), np.logspace(0.1,1,len(AIDs),base=2, endpoint=True), np.logspace(0.1,1,len(AIDs),base=2, endpoint=False))\n",
    "        weights=np.logspace(0.1,1,len(AIDs),base=2, endpoint=True)-1\n",
    "#         pp(weights)\n",
    "#         pp(doc_sig(np.logspace))\n",
    "#         break\n",
    "\n",
    "        #### create a defaultdict to store weight for each id article under a session\n",
    "        aids_temp=defaultdict(lambda: 0)\n",
    "#         pp(aids_temp['a'], help(defaultdict))\n",
    "#         break\n",
    "    \n",
    "        #### loop each article id, its weight and its type from all aids, their weights, and types\n",
    "        for aid,w,t in zip(AIDs,weights,types): \n",
    "        \n",
    "            #### Within each session, accumulate the weight for each aid based on its occurences, \n",
    "            #### event_type and logspaced weight; save the accumulated weight for each aid into a defaultdict, \n",
    "            #### no duplicated aid here in this dict\n",
    "            aids_temp[aid] += w * type_weight_multipliers[t]\n",
    "#         pp(AIDs, aids_temp) \n",
    "#         break\n",
    "        \n",
    "        #### sort a defaultdict from largest value to smallest, and then put its keys into a list\n",
    "        pp(aids_temp.items())\n",
    "        pp(sorted(aids_temp.items(), key=lambda item: -item[1]))\n",
    "        pp(sorted(aids_temp.items(), key=lambda item: item[1])) \n",
    "        sorted_aids=[k for k, v in sorted(aids_temp.items(), key=lambda item: -item[1])]\n",
    "        pp(aids_temp, sorted_aids)\n",
    "        pp(help(sorted))\n",
    "        break\n",
    "\n",
    "        #### store the first 20 aids into the list 'labels'\n",
    "        labels.append(sorted_aids[:20])\n",
    "        \n",
    "    else:\n",
    "        \n",
    "        #### reverse the order of AIDs, remove the duplicated, put into a list, reassign it to AIDs\n",
    "#         if len(AIDs) > 10:\n",
    "#             pp(AIDs, AIDs[::-1], dict.fromkeys(AIDs[::-1]), list(dict.fromkeys(AIDs[::-1])), doc_sig(dict.fromkeys))\n",
    "# https://stackoverflow.com/questions/31633635/what-is-the-meaning-of-inta-1-in-python [::-1] means reverse order\n",
    "#             pp(AIDs, list(dict.fromkeys(AIDs[::-1])), list(dict.fromkeys(AIDs[::1])), list(dict.fromkeys(AIDs)))\n",
    "#             break\n",
    "        AIDs = list(dict.fromkeys(AIDs[::-1]))\n",
    "    \n",
    "        #### keep track the length of AIDs\n",
    "        AIDs_len_start = len(AIDs)\n",
    "        \n",
    "        candidates = []\n",
    "        for AID in AIDs:\n",
    "            #### if AID is in the keys of next_AIDs, then take the 20 most common other aids occurred when AID occurred into a list\n",
    "            #### and add this list into the list candidate (not a list of list, just a merged list)\n",
    "            if AID in next_AIDs: candidates += [aid for aid, count in next_AIDs[AID].most_common(20)]\n",
    "#         if len(candidates) > 0: \n",
    "#             pp(candidates, Counter(candidates), Counter(candidates).most_common(40))\n",
    "#             break\n",
    "\n",
    "        #### use Counter to find the first 40 most common aid in candidate, and if they are not in AIDs then merge them into AIDs list\n",
    "        AIDs += [AID for AID, cnt in Counter(candidates).most_common(40) if AID not in AIDs]\n",
    "        \n",
    "        #### append the first 20 aids to labels; \n",
    "        #### also count how many times a test session have no aid in next_AIDs from training\n",
    "        #### count how many new other aids offerred by next_AIDs\n",
    "        labels.append(AIDs[:20])\n",
    "        if candidates == []: no_data += 1\n",
    "        if AIDs_len_start == len(AIDs): no_data_all_aids += 1\n",
    "            \n",
    "#         pp(AIDs, labels, no_data, no_data_all_aids)\n",
    "#         idx += 1\n",
    "#         if idx > 2: break"
   ]
  },
  {
   "cell_type": "markdown",
   "metadata": {},
   "source": []
  },
  {
   "cell_type": "markdown",
   "metadata": {},
   "source": [
    "### rd: recsys - otto - covisitation_simplified - when there are < 20 aids in a session: - if len(AIDs) > 10:\n",
    "### rd: recsys - otto - covisitation_simplified - within each test session, reverse the order of AIDs, remove the duplicated, put into a list, reassign it to AIDs - AIDs = list(dict.fromkeys(AIDs[::-1]))"
   ]
  },
  {
   "cell_type": "code",
   "execution_count": null,
   "metadata": {},
   "outputs": [
    {
     "name": "stderr",
     "output_type": "stream",
     "text": [
      "13:33:52.14 LOG:\n",
      "13:33:52.15 .... AIDs = [141736,\n",
      "13:33:52.15              199008,\n",
      "13:33:52.15              57315,\n",
      "13:33:52.15              194067,\n",
      "13:33:52.15              199008,\n",
      "13:33:52.15              199008,\n",
      "13:33:52.15              199008,\n",
      "13:33:52.15              199008,\n",
      "13:33:52.15              199008,\n",
      "13:33:52.15              199008,\n",
      "13:33:52.15              918667]\n",
      "13:33:52.15 .... AIDs[::-1] = [918667,\n",
      "13:33:52.15                    199008,\n",
      "13:33:52.15                    199008,\n",
      "13:33:52.15                    199008,\n",
      "13:33:52.15                    199008,\n",
      "13:33:52.15                    199008,\n",
      "13:33:52.15                    199008,\n",
      "13:33:52.15                    194067,\n",
      "13:33:52.15                    57315,\n",
      "13:33:52.15                    199008,\n",
      "13:33:52.15                    141736]\n",
      "13:33:52.15 .... dict.fromkeys(AIDs[::-1]) = {57315: None, 141736: None, 194067: None, 199008: None, 918667: None}\n",
      "13:33:52.15 .... list(dict.fromkeys(AIDs[::-1])) = [918667, 199008, 194067, 57315, 141736]\n"
     ]
    },
    {
     "data": {
      "text/plain": [
       "([141736,\n",
       "  199008,\n",
       "  57315,\n",
       "  194067,\n",
       "  199008,\n",
       "  199008,\n",
       "  199008,\n",
       "  199008,\n",
       "  199008,\n",
       "  199008,\n",
       "  918667],\n",
       " [918667,\n",
       "  199008,\n",
       "  199008,\n",
       "  199008,\n",
       "  199008,\n",
       "  199008,\n",
       "  199008,\n",
       "  194067,\n",
       "  57315,\n",
       "  199008,\n",
       "  141736],\n",
       " {918667: None, 199008: None, 194067: None, 57315: None, 141736: None},\n",
       " [918667, 199008, 194067, 57315, 141736])"
      ]
     },
     "execution_count": null,
     "metadata": {},
     "output_type": "execute_result"
    },
    {
     "name": "stderr",
     "output_type": "stream",
     "text": [
      "13:33:52.16 LOG:\n",
      "13:33:52.18 .... AIDs = [141736,\n",
      "13:33:52.18              199008,\n",
      "13:33:52.18              57315,\n",
      "13:33:52.18              194067,\n",
      "13:33:52.18              199008,\n",
      "13:33:52.18              199008,\n",
      "13:33:52.18              199008,\n",
      "13:33:52.18              199008,\n",
      "13:33:52.18              199008,\n",
      "13:33:52.18              199008,\n",
      "13:33:52.18              918667]\n",
      "13:33:52.18 .... list(dict.fromkeys(AIDs[::-1])) = [918667, 199008, 194067, 57315, 141736]\n",
      "13:33:52.18 .... list(dict.fromkeys(AIDs[::1])) = [141736, 199008, 57315, 194067, 918667]\n",
      "13:33:52.18 .... list(dict.fromkeys(AIDs)) = [141736, 199008, 57315, 194067, 918667]\n"
     ]
    },
    {
     "data": {
      "text/plain": [
       "([141736,\n",
       "  199008,\n",
       "  57315,\n",
       "  194067,\n",
       "  199008,\n",
       "  199008,\n",
       "  199008,\n",
       "  199008,\n",
       "  199008,\n",
       "  199008,\n",
       "  918667],\n",
       " [918667, 199008, 194067, 57315, 141736],\n",
       " [141736, 199008, 57315, 194067, 918667],\n",
       " [141736, 199008, 57315, 194067, 918667])"
      ]
     },
     "execution_count": null,
     "metadata": {},
     "output_type": "execute_result"
    }
   ],
   "source": [
    "labels = []\n",
    "\n",
    "no_data = 0\n",
    "no_data_all_aids = 0\n",
    "type_weight_multipliers = {0: 1, 1: 6, 2: 3}\n",
    "session_types = ['clicks', 'carts', 'orders']\n",
    "\n",
    "idx = 0\n",
    "for AIDs, types in zip(test_session_AIDs, test_session_types): #### for each session, get all of its aids and types\n",
    "    if len(AIDs) >= 20:\n",
    "        #### assign logspaced weight to each arcticle id under each session\n",
    "#         pp(AIDs, len(AIDs), np.logspace(0.1,1,len(AIDs),base=2, endpoint=True), np.logspace(0.1,1,len(AIDs),base=2, endpoint=False))\n",
    "        weights=np.logspace(0.1,1,len(AIDs),base=2, endpoint=True)-1\n",
    "#         pp(weights)\n",
    "#         pp(doc_sig(np.logspace))\n",
    "#         break\n",
    "\n",
    "        #### create a defaultdict to store weight for each id article under a session\n",
    "        aids_temp=defaultdict(lambda: 0)\n",
    "#         pp(aids_temp['a'], help(defaultdict))\n",
    "#         break\n",
    "    \n",
    "        #### loop each article id, its weight and its type from all aids, their weights, and types\n",
    "        for aid,w,t in zip(AIDs,weights,types): \n",
    "        \n",
    "            #### Within each session, accumulate the weight for each aid based on its occurences, \n",
    "            #### event_type and logspaced weight; save the accumulated weight for each aid into a defaultdict, \n",
    "            #### no duplicated aid here in this dict\n",
    "            aids_temp[aid] += w * type_weight_multipliers[t]\n",
    "#         pp(AIDs, aids_temp) \n",
    "#         break\n",
    "        \n",
    "        #### sort a defaultdict from largest value to smallest, and then put its keys into a list\n",
    "#         pp(aids_temp.items())\n",
    "#         pp(sorted(aids_temp.items(), key=lambda item: -item[1]))\n",
    "#         pp(sorted(aids_temp.items(), key=lambda item: item[1])) \n",
    "        sorted_aids=[k for k, v in sorted(aids_temp.items(), key=lambda item: -item[1])]\n",
    "#         pp(aids_temp, sorted_aids)\n",
    "#         pp(help(sorted))\n",
    "#         break\n",
    "\n",
    "        #### store the first 20 aids into the list 'labels'\n",
    "        labels.append(sorted_aids[:20])\n",
    "        \n",
    "    else:\n",
    "        \n",
    "        #### reverse the order of AIDs, remove the duplicated, put into a list, reassign it to AIDs\n",
    "        if len(AIDs) > 10:\n",
    "            pp(AIDs, AIDs[::-1], dict.fromkeys(AIDs[::-1]), list(dict.fromkeys(AIDs[::-1])))\n",
    "# https://stackoverflow.com/questions/31633635/what-is-the-meaning-of-inta-1-in-python [::-1] means reverse order\n",
    "            pp(AIDs, list(dict.fromkeys(AIDs[::-1])), list(dict.fromkeys(AIDs[::1])), list(dict.fromkeys(AIDs)))\n",
    "            break\n",
    "        AIDs = list(dict.fromkeys(AIDs[::-1]))\n",
    "    \n",
    "        #### keep track the length of AIDs\n",
    "        AIDs_len_start = len(AIDs)\n",
    "        \n",
    "        candidates = []\n",
    "        for AID in AIDs:\n",
    "            #### if AID is in the keys of next_AIDs, then take the 20 most common other aids occurred when AID occurred into a list\n",
    "            #### and add this list into the list candidate (not a list of list, just a merged list)\n",
    "            if AID in next_AIDs: candidates += [aid for aid, count in next_AIDs[AID].most_common(20)]\n",
    "#         if len(candidates) > 0: \n",
    "#             pp(candidates, Counter(candidates), Counter(candidates).most_common(40))\n",
    "#             break\n",
    "\n",
    "        #### use Counter to find the first 40 most common aid in candidate, and if they are not in AIDs then merge them into AIDs list\n",
    "        AIDs += [AID for AID, cnt in Counter(candidates).most_common(40) if AID not in AIDs]\n",
    "        \n",
    "        #### append the first 20 aids to labels; \n",
    "        #### also count how many times a test session have no aid in next_AIDs from training\n",
    "        #### count how many new other aids offerred by next_AIDs\n",
    "        labels.append(AIDs[:20])\n",
    "        if candidates == []: no_data += 1\n",
    "        if AIDs_len_start == len(AIDs): no_data_all_aids += 1\n",
    "            \n",
    "#         pp(AIDs, labels, no_data, no_data_all_aids)\n",
    "#         idx += 1\n",
    "#         if idx > 2: break"
   ]
  },
  {
   "cell_type": "markdown",
   "metadata": {},
   "source": [
    "### rd: recsys - otto - covisitation_simplified - keep track the length of AIDs and create an empty list named candidates - AIDs_len_start = len(AIDs)\n",
    "### rd: recsys - otto - covisitation_simplified - (within a session) for each AID inside AIDs: if AID is in the keys of next_AIDs (from training), then take the 20 most common other aids occurred (from next_AIDs) when AID occurred, into a list and add this list into the list named candidate (not a list of list, just a merged list). Each candidate in its full size has len(AIDs) * 20 number of other aids, which can have duplicated ids. -         for AID in AIDs: - if AID in next_AIDs: - candidates = candidates + [aid for aid, count in next_AIDs[AID].most_common(20)]"
   ]
  },
  {
   "cell_type": "code",
   "execution_count": null,
   "metadata": {},
   "outputs": [
    {
     "name": "stderr",
     "output_type": "stream",
     "text": [
      "13:33:52.21 LOG:\n",
      "13:33:52.22 .... <argument> = [59625]\n"
     ]
    },
    {
     "data": {
      "text/plain": [
       "[59625]"
      ]
     },
     "execution_count": null,
     "metadata": {},
     "output_type": "execute_result"
    },
    {
     "name": "stderr",
     "output_type": "stream",
     "text": [
      "13:33:52.23 LOG:\n",
      "13:33:52.23 .... <argument> = [1142000, 736515, 973453, 582732]\n"
     ]
    },
    {
     "data": {
      "text/plain": [
       "[1142000, 736515, 973453, 582732]"
      ]
     },
     "execution_count": null,
     "metadata": {},
     "output_type": "execute_result"
    },
    {
     "name": "stderr",
     "output_type": "stream",
     "text": [
      "13:33:52.24 LOG:\n",
      "13:33:52.24 .... <argument> = [918667, 199008, 194067, 57315, 141736]\n"
     ]
    },
    {
     "data": {
      "text/plain": [
       "[918667, 199008, 194067, 57315, 141736]"
      ]
     },
     "execution_count": null,
     "metadata": {},
     "output_type": "execute_result"
    },
    {
     "name": "stderr",
     "output_type": "stream",
     "text": [
      "13:33:52.24 LOG:\n",
      "13:33:52.25 .... <argument> = [1817895, 607638, 1754419, 1216820, 1729553, 300127, 198385, 255297, 1114789]\n"
     ]
    },
    {
     "data": {
      "text/plain": [
       "[1817895, 607638, 1754419, 1216820, 1729553, 300127, 198385, 255297, 1114789]"
      ]
     },
     "execution_count": null,
     "metadata": {},
     "output_type": "execute_result"
    },
    {
     "name": "stderr",
     "output_type": "stream",
     "text": [
      "13:33:52.25 LOG:\n",
      "13:33:52.25 .... <argument> = [1190477, 22981, 1546830, 1579935, 476216, 1269952, 1036375]\n"
     ]
    },
    {
     "data": {
      "text/plain": [
       "[1190477, 22981, 1546830, 1579935, 476216, 1269952, 1036375]"
      ]
     },
     "execution_count": null,
     "metadata": {},
     "output_type": "execute_result"
    },
    {
     "name": "stderr",
     "output_type": "stream",
     "text": [
      "13:33:52.26 LOG:\n",
      "13:33:52.26 .... <argument> = [955252]\n"
     ]
    },
    {
     "data": {
      "text/plain": [
       "[955252]"
      ]
     },
     "execution_count": null,
     "metadata": {},
     "output_type": "execute_result"
    },
    {
     "name": "stderr",
     "output_type": "stream",
     "text": [
      "13:33:52.26 LOG:\n",
      "13:33:52.26 .... <argument> = [1024433, 1682750]\n"
     ]
    },
    {
     "data": {
      "text/plain": [
       "[1024433, 1682750]"
      ]
     },
     "execution_count": null,
     "metadata": {},
     "output_type": "execute_result"
    },
    {
     "name": "stderr",
     "output_type": "stream",
     "text": [
      "13:33:52.27 LOG:\n",
      "13:33:52.27 .... <argument> = [1663048, 1259911, 39846, 245131]\n"
     ]
    },
    {
     "data": {
      "text/plain": [
       "[1663048, 1259911, 39846, 245131]"
      ]
     },
     "execution_count": null,
     "metadata": {},
     "output_type": "execute_result"
    },
    {
     "name": "stderr",
     "output_type": "stream",
     "text": [
      "13:33:52.27 LOG:\n",
      "13:33:52.27 .... <argument> = [1569899, 631398, 525156]\n"
     ]
    },
    {
     "data": {
      "text/plain": [
       "[1569899, 631398, 525156]"
      ]
     },
     "execution_count": null,
     "metadata": {},
     "output_type": "execute_result"
    },
    {
     "name": "stderr",
     "output_type": "stream",
     "text": [
      "13:33:52.28 LOG:\n",
      "13:33:52.28 .... <argument> = [1219653, 1830166]\n"
     ]
    },
    {
     "data": {
      "text/plain": [
       "[1219653, 1830166]"
      ]
     },
     "execution_count": null,
     "metadata": {},
     "output_type": "execute_result"
    },
    {
     "name": "stderr",
     "output_type": "stream",
     "text": [
      "13:33:52.29 LOG:\n",
      "13:33:52.29 .... <argument> = [1305729, 1787713, 1365651, 1501214, 915175]\n"
     ]
    },
    {
     "data": {
      "text/plain": [
       "[1305729, 1787713, 1365651, 1501214, 915175]"
      ]
     },
     "execution_count": null,
     "metadata": {},
     "output_type": "execute_result"
    },
    {
     "name": "stderr",
     "output_type": "stream",
     "text": [
      "13:33:52.29 LOG:\n",
      "13:33:52.29 .... <argument> = [132681, 1672169, 1537160]\n"
     ]
    },
    {
     "data": {
      "text/plain": [
       "[132681, 1672169, 1537160]"
      ]
     },
     "execution_count": null,
     "metadata": {},
     "output_type": "execute_result"
    },
    {
     "name": "stderr",
     "output_type": "stream",
     "text": [
      "13:33:52.30 LOG:\n",
      "13:33:52.30 .... <argument> = [450729, 736802, 942589, 808362, 1132001, 1585431, 1792644, 1181781]\n"
     ]
    },
    {
     "data": {
      "text/plain": [
       "[450729, 736802, 942589, 808362, 1132001, 1585431, 1792644, 1181781]"
      ]
     },
     "execution_count": null,
     "metadata": {},
     "output_type": "execute_result"
    },
    {
     "name": "stderr",
     "output_type": "stream",
     "text": [
      "13:33:52.31 LOG:\n",
      "13:33:52.31 .... <argument> = [1242729, 1746099]\n"
     ]
    },
    {
     "data": {
      "text/plain": [
       "[1242729, 1746099]"
      ]
     },
     "execution_count": null,
     "metadata": {},
     "output_type": "execute_result"
    },
    {
     "name": "stderr",
     "output_type": "stream",
     "text": [
      "13:33:52.31 LOG:\n",
      "13:33:52.31 .... <argument> = [641250, 207754]\n"
     ]
    },
    {
     "data": {
      "text/plain": [
       "[641250, 207754]"
      ]
     },
     "execution_count": null,
     "metadata": {},
     "output_type": "execute_result"
    },
    {
     "name": "stderr",
     "output_type": "stream",
     "text": [
      "13:33:52.32 LOG:\n",
      "13:33:52.32 .... <argument> = [4503]\n"
     ]
    },
    {
     "data": {
      "text/plain": [
       "[4503]"
      ]
     },
     "execution_count": null,
     "metadata": {},
     "output_type": "execute_result"
    },
    {
     "name": "stderr",
     "output_type": "stream",
     "text": [
      "13:33:52.32 LOG:\n",
      "13:33:52.33 .... <argument> = [156020, 1335784]\n"
     ]
    },
    {
     "data": {
      "text/plain": [
       "[156020, 1335784]"
      ]
     },
     "execution_count": null,
     "metadata": {},
     "output_type": "execute_result"
    },
    {
     "name": "stderr",
     "output_type": "stream",
     "text": [
      "13:33:52.33 LOG:\n",
      "13:33:52.33 .... <argument> = [99354,\n",
      "13:33:52.33                    558573,\n",
      "13:33:52.33                    1291799,\n",
      "13:33:52.33                    211030,\n",
      "13:33:52.33                    1344706,\n",
      "13:33:52.33                    653178,\n",
      "13:33:52.33                    1536321,\n",
      "13:33:52.33                    660518,\n",
      "13:33:52.33                    1441157,\n",
      "13:33:52.33                    379440]\n"
     ]
    },
    {
     "data": {
      "text/plain": [
       "[99354,\n",
       " 558573,\n",
       " 1291799,\n",
       " 211030,\n",
       " 1344706,\n",
       " 653178,\n",
       " 1536321,\n",
       " 660518,\n",
       " 1441157,\n",
       " 379440]"
      ]
     },
     "execution_count": null,
     "metadata": {},
     "output_type": "execute_result"
    },
    {
     "name": "stderr",
     "output_type": "stream",
     "text": [
      "13:33:52.34 LOG:\n",
      "13:33:52.34 .... <argument> = [609871]\n"
     ]
    },
    {
     "data": {
      "text/plain": [
       "[609871]"
      ]
     },
     "execution_count": null,
     "metadata": {},
     "output_type": "execute_result"
    },
    {
     "name": "stderr",
     "output_type": "stream",
     "text": [
      "13:33:52.34 LOG:\n",
      "13:33:52.35 .... <argument> = [725164, 861433, 812857, 703051, 173308, 1750538, 1645990]\n"
     ]
    },
    {
     "data": {
      "text/plain": [
       "[725164, 861433, 812857, 703051, 173308, 1750538, 1645990]"
      ]
     },
     "execution_count": null,
     "metadata": {},
     "output_type": "execute_result"
    },
    {
     "name": "stderr",
     "output_type": "stream",
     "text": [
      "13:33:52.35 LOG:\n",
      "13:33:52.35 .... <argument> = [488045, 229371]\n"
     ]
    },
    {
     "data": {
      "text/plain": [
       "[488045, 229371]"
      ]
     },
     "execution_count": null,
     "metadata": {},
     "output_type": "execute_result"
    },
    {
     "name": "stderr",
     "output_type": "stream",
     "text": [
      "13:33:52.36 LOG:\n",
      "13:33:52.36 .... <argument> = [1558691]\n"
     ]
    },
    {
     "data": {
      "text/plain": [
       "[1558691]"
      ]
     },
     "execution_count": null,
     "metadata": {},
     "output_type": "execute_result"
    },
    {
     "name": "stderr",
     "output_type": "stream",
     "text": [
      "13:33:52.36 LOG:\n",
      "13:33:52.36 .... <argument> = [967498, 22940]\n"
     ]
    },
    {
     "data": {
      "text/plain": [
       "[967498, 22940]"
      ]
     },
     "execution_count": null,
     "metadata": {},
     "output_type": "execute_result"
    },
    {
     "name": "stderr",
     "output_type": "stream",
     "text": [
      "13:33:52.37 LOG:\n",
      "13:33:52.37 .... <argument> = [619898]\n"
     ]
    },
    {
     "data": {
      "text/plain": [
       "[619898]"
      ]
     },
     "execution_count": null,
     "metadata": {},
     "output_type": "execute_result"
    },
    {
     "name": "stderr",
     "output_type": "stream",
     "text": [
      "13:33:52.37 LOG:\n",
      "13:33:52.38 .... <argument> = [1407421, 473986, 409527, 200257, 864925, 871551, 251413]\n"
     ]
    },
    {
     "data": {
      "text/plain": [
       "[1407421, 473986, 409527, 200257, 864925, 871551, 251413]"
      ]
     },
     "execution_count": null,
     "metadata": {},
     "output_type": "execute_result"
    },
    {
     "name": "stderr",
     "output_type": "stream",
     "text": [
      "13:33:52.38 LOG:\n",
      "13:33:52.38 .... <argument> = [934396, 1766994]\n"
     ]
    },
    {
     "data": {
      "text/plain": [
       "[934396, 1766994]"
      ]
     },
     "execution_count": null,
     "metadata": {},
     "output_type": "execute_result"
    },
    {
     "name": "stderr",
     "output_type": "stream",
     "text": [
      "13:33:52.39 LOG:\n",
      "13:33:52.39 .... <argument> = [861724, 161153]\n"
     ]
    },
    {
     "data": {
      "text/plain": [
       "[861724, 161153]"
      ]
     },
     "execution_count": null,
     "metadata": {},
     "output_type": "execute_result"
    },
    {
     "name": "stderr",
     "output_type": "stream",
     "text": [
      "13:33:52.39 LOG:\n",
      "13:33:52.39 .... <argument> = [954951, 42708, 1591142, 1645990]\n"
     ]
    },
    {
     "data": {
      "text/plain": [
       "[954951, 42708, 1591142, 1645990]"
      ]
     },
     "execution_count": null,
     "metadata": {},
     "output_type": "execute_result"
    },
    {
     "name": "stderr",
     "output_type": "stream",
     "text": [
      "13:33:52.40 LOG:\n",
      "13:33:52.40 .... <argument> = [891286, 30478, 1251548, 520133]\n"
     ]
    },
    {
     "data": {
      "text/plain": [
       "[891286, 30478, 1251548, 520133]"
      ]
     },
     "execution_count": null,
     "metadata": {},
     "output_type": "execute_result"
    },
    {
     "name": "stderr",
     "output_type": "stream",
     "text": [
      "13:33:52.40 LOG:\n",
      "13:33:52.41 .... <argument> = [1042563]\n"
     ]
    },
    {
     "data": {
      "text/plain": [
       "[1042563]"
      ]
     },
     "execution_count": null,
     "metadata": {},
     "output_type": "execute_result"
    },
    {
     "name": "stderr",
     "output_type": "stream",
     "text": [
      "13:33:52.41 LOG:\n",
      "13:33:52.41 .... <argument> = [702421, 837621, 16770]\n"
     ]
    },
    {
     "data": {
      "text/plain": [
       "[702421, 837621, 16770]"
      ]
     },
     "execution_count": null,
     "metadata": {},
     "output_type": "execute_result"
    },
    {
     "name": "stderr",
     "output_type": "stream",
     "text": [
      "13:33:52.42 LOG:\n",
      "13:33:52.42 .... <argument> = [28543, 1047575, 35237, 43022, 726566, 874041, 1664302]\n"
     ]
    },
    {
     "data": {
      "text/plain": [
       "[28543, 1047575, 35237, 43022, 726566, 874041, 1664302]"
      ]
     },
     "execution_count": null,
     "metadata": {},
     "output_type": "execute_result"
    },
    {
     "name": "stderr",
     "output_type": "stream",
     "text": [
      "13:33:52.43 LOG:\n",
      "13:33:52.43 .... <argument> = [367383, 277371, 201670, 1093674, 598138, 541904, 1331583, 1401375]\n"
     ]
    },
    {
     "data": {
      "text/plain": [
       "[367383, 277371, 201670, 1093674, 598138, 541904, 1331583, 1401375]"
      ]
     },
     "execution_count": null,
     "metadata": {},
     "output_type": "execute_result"
    },
    {
     "name": "stderr",
     "output_type": "stream",
     "text": [
      "13:33:52.43 LOG:\n",
      "13:33:52.43 .... <argument> = [1356337]\n"
     ]
    },
    {
     "data": {
      "text/plain": [
       "[1356337]"
      ]
     },
     "execution_count": null,
     "metadata": {},
     "output_type": "execute_result"
    },
    {
     "name": "stderr",
     "output_type": "stream",
     "text": [
      "13:33:52.44 LOG:\n",
      "13:33:52.44 .... <argument> = [986164]\n"
     ]
    },
    {
     "data": {
      "text/plain": [
       "[986164]"
      ]
     },
     "execution_count": null,
     "metadata": {},
     "output_type": "execute_result"
    },
    {
     "name": "stderr",
     "output_type": "stream",
     "text": [
      "13:33:52.45 LOG:\n",
      "13:33:52.45 .... <argument> = [1361418]\n"
     ]
    },
    {
     "data": {
      "text/plain": [
       "[1361418]"
      ]
     },
     "execution_count": null,
     "metadata": {},
     "output_type": "execute_result"
    },
    {
     "name": "stderr",
     "output_type": "stream",
     "text": [
      "13:33:52.45 LOG:\n",
      "13:33:52.45 .... <argument> = [815311, 122810, 108676, 1754009]\n"
     ]
    },
    {
     "data": {
      "text/plain": [
       "[815311, 122810, 108676, 1754009]"
      ]
     },
     "execution_count": null,
     "metadata": {},
     "output_type": "execute_result"
    },
    {
     "name": "stderr",
     "output_type": "stream",
     "text": [
      "13:33:52.46 LOG:\n",
      "13:33:52.47 .... <argument> = [276267]\n"
     ]
    },
    {
     "data": {
      "text/plain": [
       "[276267]"
      ]
     },
     "execution_count": null,
     "metadata": {},
     "output_type": "execute_result"
    },
    {
     "name": "stderr",
     "output_type": "stream",
     "text": [
      "13:33:52.47 LOG:\n",
      "13:33:52.47 .... <argument> = [942372, 1557108, 1359971]\n"
     ]
    },
    {
     "data": {
      "text/plain": [
       "[942372, 1557108, 1359971]"
      ]
     },
     "execution_count": null,
     "metadata": {},
     "output_type": "execute_result"
    },
    {
     "name": "stderr",
     "output_type": "stream",
     "text": [
      "13:33:52.47 LOG:\n",
      "13:33:52.48 .... <argument> = [1418100]\n"
     ]
    },
    {
     "data": {
      "text/plain": [
       "[1418100]"
      ]
     },
     "execution_count": null,
     "metadata": {},
     "output_type": "execute_result"
    },
    {
     "name": "stderr",
     "output_type": "stream",
     "text": [
      "13:33:52.48 LOG:\n",
      "13:33:52.49 .... <argument> = [1214819, 1064014, 1726485]\n"
     ]
    },
    {
     "data": {
      "text/plain": [
       "[1214819, 1064014, 1726485]"
      ]
     },
     "execution_count": null,
     "metadata": {},
     "output_type": "execute_result"
    },
    {
     "name": "stderr",
     "output_type": "stream",
     "text": [
      "13:33:52.49 LOG:\n",
      "13:33:52.49 .... <argument> = [1383942, 1838106, 1063368, 552652]\n"
     ]
    },
    {
     "data": {
      "text/plain": [
       "[1383942, 1838106, 1063368, 552652]"
      ]
     },
     "execution_count": null,
     "metadata": {},
     "output_type": "execute_result"
    },
    {
     "name": "stderr",
     "output_type": "stream",
     "text": [
      "13:33:52.50 LOG:\n",
      "13:33:52.50 .... <argument> = [1848427]\n"
     ]
    },
    {
     "data": {
      "text/plain": [
       "[1848427]"
      ]
     },
     "execution_count": null,
     "metadata": {},
     "output_type": "execute_result"
    },
    {
     "name": "stderr",
     "output_type": "stream",
     "text": [
      "13:33:52.51 LOG:\n",
      "13:33:52.51 .... <argument> = [1743324,\n",
      "13:33:52.51                    1820938,\n",
      "13:33:52.51                    564363,\n",
      "13:33:52.51                    799666,\n",
      "13:33:52.51                    1336393,\n",
      "13:33:52.51                    313053,\n",
      "13:33:52.51                    1509329,\n",
      "13:33:52.51                    247787,\n",
      "13:33:52.51                    290770,\n",
      "13:33:52.51                    1444213,\n",
      "13:33:52.51                    1207788,\n",
      "13:33:52.51                    905740,\n",
      "13:33:52.51                    1009567,\n",
      "13:33:52.51                    258640,\n",
      "13:33:52.51                    191614]\n"
     ]
    },
    {
     "data": {
      "text/plain": [
       "[1743324,\n",
       " 1820938,\n",
       " 564363,\n",
       " 799666,\n",
       " 1336393,\n",
       " 313053,\n",
       " 1509329,\n",
       " 247787,\n",
       " 290770,\n",
       " 1444213,\n",
       " 1207788,\n",
       " 905740,\n",
       " 1009567,\n",
       " 258640,\n",
       " 191614]"
      ]
     },
     "execution_count": null,
     "metadata": {},
     "output_type": "execute_result"
    },
    {
     "name": "stderr",
     "output_type": "stream",
     "text": [
      "13:33:52.52 LOG:\n",
      "13:33:52.52 .... <argument> = [1034916]\n"
     ]
    },
    {
     "data": {
      "text/plain": [
       "[1034916]"
      ]
     },
     "execution_count": null,
     "metadata": {},
     "output_type": "execute_result"
    },
    {
     "name": "stderr",
     "output_type": "stream",
     "text": [
      "13:33:52.52 LOG:\n",
      "13:33:52.53 .... <argument> = [938014,\n",
      "13:33:52.53                    67154,\n",
      "13:33:52.53                    959399,\n",
      "13:33:52.53                    1056103,\n",
      "13:33:52.53                    1414499,\n",
      "13:33:52.53                    1135200,\n",
      "13:33:52.53                    408313,\n",
      "13:33:52.53                    1702774,\n",
      "13:33:52.53                    416466,\n",
      "13:33:52.53                    1610884]\n"
     ]
    },
    {
     "data": {
      "text/plain": [
       "[938014,\n",
       " 67154,\n",
       " 959399,\n",
       " 1056103,\n",
       " 1414499,\n",
       " 1135200,\n",
       " 408313,\n",
       " 1702774,\n",
       " 416466,\n",
       " 1610884]"
      ]
     },
     "execution_count": null,
     "metadata": {},
     "output_type": "execute_result"
    },
    {
     "name": "stderr",
     "output_type": "stream",
     "text": [
      "13:33:52.53 LOG:\n",
      "13:33:52.53 .... <argument> = [380292, 1013514, 914769, 180234, 975791, 950036, 1246880, 1714898]\n"
     ]
    },
    {
     "data": {
      "text/plain": [
       "[380292, 1013514, 914769, 180234, 975791, 950036, 1246880, 1714898]"
      ]
     },
     "execution_count": null,
     "metadata": {},
     "output_type": "execute_result"
    },
    {
     "name": "stderr",
     "output_type": "stream",
     "text": [
      "13:33:52.54 LOG:\n",
      "13:33:52.54 .... <argument> = [1447078, 1307583]\n"
     ]
    },
    {
     "data": {
      "text/plain": [
       "[1447078, 1307583]"
      ]
     },
     "execution_count": null,
     "metadata": {},
     "output_type": "execute_result"
    },
    {
     "name": "stderr",
     "output_type": "stream",
     "text": [
      "13:33:52.55 LOG:\n",
      "13:33:52.55 .... <argument> = [1736360]\n"
     ]
    },
    {
     "data": {
      "text/plain": [
       "[1736360]"
      ]
     },
     "execution_count": null,
     "metadata": {},
     "output_type": "execute_result"
    },
    {
     "name": "stderr",
     "output_type": "stream",
     "text": [
      "13:33:52.55 LOG:\n",
      "13:33:52.55 .... <argument> = [1742451]\n"
     ]
    },
    {
     "data": {
      "text/plain": [
       "[1742451]"
      ]
     },
     "execution_count": null,
     "metadata": {},
     "output_type": "execute_result"
    },
    {
     "name": "stderr",
     "output_type": "stream",
     "text": [
      "13:33:52.56 LOG:\n",
      "13:33:52.56 .... <argument> = [1333534, 409354]\n"
     ]
    },
    {
     "data": {
      "text/plain": [
       "[1333534, 409354]"
      ]
     },
     "execution_count": null,
     "metadata": {},
     "output_type": "execute_result"
    },
    {
     "name": "stderr",
     "output_type": "stream",
     "text": [
      "13:33:52.56 LOG:\n",
      "13:33:52.57 .... <argument> = [25964, 329725, 618429, 881836, 651801, 235568, 1702657]\n"
     ]
    },
    {
     "data": {
      "text/plain": [
       "[25964, 329725, 618429, 881836, 651801, 235568, 1702657]"
      ]
     },
     "execution_count": null,
     "metadata": {},
     "output_type": "execute_result"
    },
    {
     "name": "stderr",
     "output_type": "stream",
     "text": [
      "13:33:52.57 LOG:\n",
      "13:33:52.57 .... <argument> = [1095597, 1140357, 1807958, 914928, 1343486, 1617506, 1238640, 46318]\n"
     ]
    },
    {
     "data": {
      "text/plain": [
       "[1095597, 1140357, 1807958, 914928, 1343486, 1617506, 1238640, 46318]"
      ]
     },
     "execution_count": null,
     "metadata": {},
     "output_type": "execute_result"
    },
    {
     "name": "stderr",
     "output_type": "stream",
     "text": [
      "13:33:52.58 LOG:\n",
      "13:33:52.58 .... <argument> = [433190]\n"
     ]
    },
    {
     "data": {
      "text/plain": [
       "[433190]"
      ]
     },
     "execution_count": null,
     "metadata": {},
     "output_type": "execute_result"
    },
    {
     "name": "stderr",
     "output_type": "stream",
     "text": [
      "13:33:52.58 LOG:\n",
      "13:33:52.59 .... <argument> = [1606591, 1704504, 306013, 711993, 230425, 677063, 480578]\n"
     ]
    },
    {
     "data": {
      "text/plain": [
       "[1606591, 1704504, 306013, 711993, 230425, 677063, 480578]"
      ]
     },
     "execution_count": null,
     "metadata": {},
     "output_type": "execute_result"
    },
    {
     "name": "stderr",
     "output_type": "stream",
     "text": [
      "13:33:52.59 LOG:\n",
      "13:33:52.59 .... <argument> = [138431, 621238, 476629, 151775, 1636805, 1196256, 1697138, 225619, 784175]\n"
     ]
    },
    {
     "data": {
      "text/plain": [
       "[138431, 621238, 476629, 151775, 1636805, 1196256, 1697138, 225619, 784175]"
      ]
     },
     "execution_count": null,
     "metadata": {},
     "output_type": "execute_result"
    },
    {
     "name": "stderr",
     "output_type": "stream",
     "text": [
      "13:33:52.60 LOG:\n",
      "13:33:52.60 .... <argument> = [1182062, 258647, 1251508]\n"
     ]
    },
    {
     "data": {
      "text/plain": [
       "[1182062, 258647, 1251508]"
      ]
     },
     "execution_count": null,
     "metadata": {},
     "output_type": "execute_result"
    },
    {
     "name": "stderr",
     "output_type": "stream",
     "text": [
      "13:33:52.60 LOG:\n",
      "13:33:52.61 .... <argument> = [1379999, 301163]\n"
     ]
    },
    {
     "data": {
      "text/plain": [
       "[1379999, 301163]"
      ]
     },
     "execution_count": null,
     "metadata": {},
     "output_type": "execute_result"
    },
    {
     "name": "stderr",
     "output_type": "stream",
     "text": [
      "13:33:52.61 LOG:\n",
      "13:33:52.61 .... <argument> = [1551646]\n"
     ]
    },
    {
     "data": {
      "text/plain": [
       "[1551646]"
      ]
     },
     "execution_count": null,
     "metadata": {},
     "output_type": "execute_result"
    },
    {
     "name": "stderr",
     "output_type": "stream",
     "text": [
      "13:33:52.62 LOG:\n",
      "13:33:52.62 .... <argument> = [705659, 2209]\n"
     ]
    },
    {
     "data": {
      "text/plain": [
       "[705659, 2209]"
      ]
     },
     "execution_count": null,
     "metadata": {},
     "output_type": "execute_result"
    },
    {
     "name": "stderr",
     "output_type": "stream",
     "text": [
      "13:33:52.63 LOG:\n",
      "13:33:52.63 .... <argument> = [1326565, 926561, 136439, 1132096]\n"
     ]
    },
    {
     "data": {
      "text/plain": [
       "[1326565, 926561, 136439, 1132096]"
      ]
     },
     "execution_count": null,
     "metadata": {},
     "output_type": "execute_result"
    },
    {
     "name": "stderr",
     "output_type": "stream",
     "text": [
      "13:33:52.64 LOG:\n",
      "13:33:52.64 .... <argument> = [79434, 435395, 569926, 20646, 1241744]\n"
     ]
    },
    {
     "data": {
      "text/plain": [
       "[79434, 435395, 569926, 20646, 1241744]"
      ]
     },
     "execution_count": null,
     "metadata": {},
     "output_type": "execute_result"
    },
    {
     "name": "stderr",
     "output_type": "stream",
     "text": [
      "13:33:52.65 LOG:\n",
      "13:33:52.65 .... <argument> = [6321]\n"
     ]
    },
    {
     "data": {
      "text/plain": [
       "[6321]"
      ]
     },
     "execution_count": null,
     "metadata": {},
     "output_type": "execute_result"
    },
    {
     "name": "stderr",
     "output_type": "stream",
     "text": [
      "13:33:52.66 LOG:\n",
      "13:33:52.66 .... <argument> = [636101]\n"
     ]
    },
    {
     "data": {
      "text/plain": [
       "[636101]"
      ]
     },
     "execution_count": null,
     "metadata": {},
     "output_type": "execute_result"
    },
    {
     "name": "stderr",
     "output_type": "stream",
     "text": [
      "13:33:52.67 LOG:\n",
      "13:33:52.67 .... <argument> = [1043508, 764336]\n"
     ]
    },
    {
     "data": {
      "text/plain": [
       "[1043508, 764336]"
      ]
     },
     "execution_count": null,
     "metadata": {},
     "output_type": "execute_result"
    },
    {
     "name": "stderr",
     "output_type": "stream",
     "text": [
      "13:33:52.67 LOG:\n",
      "13:33:52.68 .... <argument> = [90961,\n",
      "13:33:52.68                    1670052,\n",
      "13:33:52.68                    733110,\n",
      "13:33:52.68                    608801,\n",
      "13:33:52.68                    682504,\n",
      "13:33:52.68                    250297,\n",
      "13:33:52.68                    799604,\n",
      "13:33:52.68                    970477,\n",
      "13:33:52.68                    1620386,\n",
      "13:33:52.68                    255527,\n",
      "13:33:52.68                    1577871,\n",
      "13:33:52.68                    734008,\n",
      "13:33:52.68                    325125]\n"
     ]
    },
    {
     "data": {
      "text/plain": [
       "[90961,\n",
       " 1670052,\n",
       " 733110,\n",
       " 608801,\n",
       " 682504,\n",
       " 250297,\n",
       " 799604,\n",
       " 970477,\n",
       " 1620386,\n",
       " 255527,\n",
       " 1577871,\n",
       " 734008,\n",
       " 325125]"
      ]
     },
     "execution_count": null,
     "metadata": {},
     "output_type": "execute_result"
    },
    {
     "name": "stderr",
     "output_type": "stream",
     "text": [
      "13:33:52.68 LOG:\n",
      "13:33:52.68 .... <argument> = [542997, 1293588, 850306, 703118]\n"
     ]
    },
    {
     "data": {
      "text/plain": [
       "[542997, 1293588, 850306, 703118]"
      ]
     },
     "execution_count": null,
     "metadata": {},
     "output_type": "execute_result"
    },
    {
     "name": "stderr",
     "output_type": "stream",
     "text": [
      "13:33:52.69 LOG:\n",
      "13:33:52.69 .... <argument> = [1480934]\n"
     ]
    },
    {
     "data": {
      "text/plain": [
       "[1480934]"
      ]
     },
     "execution_count": null,
     "metadata": {},
     "output_type": "execute_result"
    },
    {
     "name": "stderr",
     "output_type": "stream",
     "text": [
      "13:33:52.70 LOG:\n",
      "13:33:52.70 .... <argument> = [1278329, 1421450]\n"
     ]
    },
    {
     "data": {
      "text/plain": [
       "[1278329, 1421450]"
      ]
     },
     "execution_count": null,
     "metadata": {},
     "output_type": "execute_result"
    },
    {
     "name": "stderr",
     "output_type": "stream",
     "text": [
      "13:33:52.71 LOG:\n",
      "13:33:52.71 .... <argument> = [360483]\n"
     ]
    },
    {
     "data": {
      "text/plain": [
       "[360483]"
      ]
     },
     "execution_count": null,
     "metadata": {},
     "output_type": "execute_result"
    },
    {
     "name": "stderr",
     "output_type": "stream",
     "text": [
      "13:33:52.71 LOG:\n",
      "13:33:52.71 .... <argument> = [687449,\n",
      "13:33:52.71                    93635,\n",
      "13:33:52.71                    1737566,\n",
      "13:33:52.71                    271117,\n",
      "13:33:52.71                    1202229,\n",
      "13:33:52.71                    1095721,\n",
      "13:33:52.71                    566467,\n",
      "13:33:52.71                    430419,\n",
      "13:33:52.71                    1176853,\n",
      "13:33:52.71                    1427717]\n"
     ]
    },
    {
     "data": {
      "text/plain": [
       "[687449,\n",
       " 93635,\n",
       " 1737566,\n",
       " 271117,\n",
       " 1202229,\n",
       " 1095721,\n",
       " 566467,\n",
       " 430419,\n",
       " 1176853,\n",
       " 1427717]"
      ]
     },
     "execution_count": null,
     "metadata": {},
     "output_type": "execute_result"
    },
    {
     "name": "stderr",
     "output_type": "stream",
     "text": [
      "13:33:52.72 LOG:\n",
      "13:33:52.72 .... <argument> = [1494433, 1368651, 1676064, 1074266, 1672515]\n"
     ]
    },
    {
     "data": {
      "text/plain": [
       "[1494433, 1368651, 1676064, 1074266, 1672515]"
      ]
     },
     "execution_count": null,
     "metadata": {},
     "output_type": "execute_result"
    },
    {
     "name": "stderr",
     "output_type": "stream",
     "text": [
      "13:33:52.73 LOG:\n",
      "13:33:52.73 .... <argument> = [224749]\n"
     ]
    },
    {
     "data": {
      "text/plain": [
       "[224749]"
      ]
     },
     "execution_count": null,
     "metadata": {},
     "output_type": "execute_result"
    },
    {
     "name": "stderr",
     "output_type": "stream",
     "text": [
      "13:33:52.74 LOG:\n",
      "13:33:52.74 .... <argument> = [439495, 588256]\n"
     ]
    },
    {
     "data": {
      "text/plain": [
       "[439495, 588256]"
      ]
     },
     "execution_count": null,
     "metadata": {},
     "output_type": "execute_result"
    },
    {
     "name": "stderr",
     "output_type": "stream",
     "text": [
      "13:33:52.74 LOG:\n",
      "13:33:52.75 .... <argument> = [54385, 1758423]\n"
     ]
    },
    {
     "data": {
      "text/plain": [
       "[54385, 1758423]"
      ]
     },
     "execution_count": null,
     "metadata": {},
     "output_type": "execute_result"
    },
    {
     "name": "stderr",
     "output_type": "stream",
     "text": [
      "13:33:52.75 LOG:\n",
      "13:33:52.75 .... <argument> = [1065027]\n"
     ]
    },
    {
     "data": {
      "text/plain": [
       "[1065027]"
      ]
     },
     "execution_count": null,
     "metadata": {},
     "output_type": "execute_result"
    },
    {
     "name": "stderr",
     "output_type": "stream",
     "text": [
      "13:33:52.76 LOG:\n",
      "13:33:52.76 .... <argument> = [1574424, 1196026]\n"
     ]
    },
    {
     "data": {
      "text/plain": [
       "[1574424, 1196026]"
      ]
     },
     "execution_count": null,
     "metadata": {},
     "output_type": "execute_result"
    },
    {
     "name": "stderr",
     "output_type": "stream",
     "text": [
      "13:33:52.77 LOG:\n",
      "13:33:52.77 .... <argument> = [284287]\n"
     ]
    },
    {
     "data": {
      "text/plain": [
       "[284287]"
      ]
     },
     "execution_count": null,
     "metadata": {},
     "output_type": "execute_result"
    },
    {
     "name": "stderr",
     "output_type": "stream",
     "text": [
      "13:33:52.77 LOG:\n",
      "13:33:52.77 .... <argument> = [682001, 1382328, 333024, 252476, 1590431, 1514518]\n"
     ]
    },
    {
     "data": {
      "text/plain": [
       "[682001, 1382328, 333024, 252476, 1590431, 1514518]"
      ]
     },
     "execution_count": null,
     "metadata": {},
     "output_type": "execute_result"
    },
    {
     "name": "stderr",
     "output_type": "stream",
     "text": [
      "13:33:52.78 LOG:\n",
      "13:33:52.78 .... <argument> = [1207885, 1294997, 1721572]\n"
     ]
    },
    {
     "data": {
      "text/plain": [
       "[1207885, 1294997, 1721572]"
      ]
     },
     "execution_count": null,
     "metadata": {},
     "output_type": "execute_result"
    },
    {
     "name": "stderr",
     "output_type": "stream",
     "text": [
      "13:33:52.79 LOG:\n",
      "13:33:52.79 .... <argument> = [923948]\n"
     ]
    },
    {
     "data": {
      "text/plain": [
       "[923948]"
      ]
     },
     "execution_count": null,
     "metadata": {},
     "output_type": "execute_result"
    },
    {
     "name": "stderr",
     "output_type": "stream",
     "text": [
      "13:33:52.80 LOG:\n",
      "13:33:52.80 .... <argument> = [568264, 97191]\n"
     ]
    },
    {
     "data": {
      "text/plain": [
       "[568264, 97191]"
      ]
     },
     "execution_count": null,
     "metadata": {},
     "output_type": "execute_result"
    },
    {
     "name": "stderr",
     "output_type": "stream",
     "text": [
      "13:33:52.81 LOG:\n",
      "13:33:52.81 .... <argument> = [143920]\n"
     ]
    },
    {
     "data": {
      "text/plain": [
       "[143920]"
      ]
     },
     "execution_count": null,
     "metadata": {},
     "output_type": "execute_result"
    },
    {
     "name": "stderr",
     "output_type": "stream",
     "text": [
      "13:33:52.81 LOG:\n",
      "13:33:52.82 .... <argument> = [960659]\n"
     ]
    },
    {
     "data": {
      "text/plain": [
       "[960659]"
      ]
     },
     "execution_count": null,
     "metadata": {},
     "output_type": "execute_result"
    },
    {
     "name": "stderr",
     "output_type": "stream",
     "text": [
      "13:33:52.82 LOG:\n",
      "13:33:52.82 .... <argument> = [291706]\n"
     ]
    },
    {
     "data": {
      "text/plain": [
       "[291706]"
      ]
     },
     "execution_count": null,
     "metadata": {},
     "output_type": "execute_result"
    },
    {
     "name": "stderr",
     "output_type": "stream",
     "text": [
      "13:33:52.83 LOG:\n",
      "13:33:52.83 .... <argument> = [1057154, 321817]\n"
     ]
    },
    {
     "data": {
      "text/plain": [
       "[1057154, 321817]"
      ]
     },
     "execution_count": null,
     "metadata": {},
     "output_type": "execute_result"
    },
    {
     "name": "stderr",
     "output_type": "stream",
     "text": [
      "13:33:52.84 LOG:\n",
      "13:33:52.84 .... <argument> = [1309098]\n"
     ]
    },
    {
     "data": {
      "text/plain": [
       "[1309098]"
      ]
     },
     "execution_count": null,
     "metadata": {},
     "output_type": "execute_result"
    },
    {
     "name": "stderr",
     "output_type": "stream",
     "text": [
      "13:33:52.84 LOG:\n",
      "13:33:52.85 .... <argument> = [1451742]\n"
     ]
    },
    {
     "data": {
      "text/plain": [
       "[1451742]"
      ]
     },
     "execution_count": null,
     "metadata": {},
     "output_type": "execute_result"
    },
    {
     "name": "stderr",
     "output_type": "stream",
     "text": [
      "13:33:52.85 LOG:\n",
      "13:33:52.85 .... <argument> = [1476166, 711876, 45494, 260753, 1627270, 1302436]\n"
     ]
    },
    {
     "data": {
      "text/plain": [
       "[1476166, 711876, 45494, 260753, 1627270, 1302436]"
      ]
     },
     "execution_count": null,
     "metadata": {},
     "output_type": "execute_result"
    },
    {
     "name": "stderr",
     "output_type": "stream",
     "text": [
      "13:33:52.86 LOG:\n",
      "13:33:52.86 .... <argument> = [1647563, 1752011, 1356337, 513525, 1045755, 1334447]\n"
     ]
    },
    {
     "data": {
      "text/plain": [
       "[1647563, 1752011, 1356337, 513525, 1045755, 1334447]"
      ]
     },
     "execution_count": null,
     "metadata": {},
     "output_type": "execute_result"
    },
    {
     "name": "stderr",
     "output_type": "stream",
     "text": [
      "13:33:52.87 LOG:\n",
      "13:33:52.87 .... <argument> = [1412336, 1153482, 1750113]\n"
     ]
    },
    {
     "data": {
      "text/plain": [
       "[1412336, 1153482, 1750113]"
      ]
     },
     "execution_count": null,
     "metadata": {},
     "output_type": "execute_result"
    },
    {
     "name": "stderr",
     "output_type": "stream",
     "text": [
      "13:33:52.88 LOG:\n",
      "13:33:52.88 .... <argument> = [191532]\n"
     ]
    },
    {
     "data": {
      "text/plain": [
       "[191532]"
      ]
     },
     "execution_count": null,
     "metadata": {},
     "output_type": "execute_result"
    },
    {
     "name": "stderr",
     "output_type": "stream",
     "text": [
      "13:33:52.88 LOG:\n",
      "13:33:52.88 .... <argument> = [10901]\n"
     ]
    },
    {
     "data": {
      "text/plain": [
       "[10901]"
      ]
     },
     "execution_count": null,
     "metadata": {},
     "output_type": "execute_result"
    },
    {
     "name": "stderr",
     "output_type": "stream",
     "text": [
      "13:33:52.89 LOG:\n",
      "13:33:52.89 .... <argument> = [1349276, 811371, 754412, 689660, 832432, 781826]\n"
     ]
    },
    {
     "data": {
      "text/plain": [
       "[1349276, 811371, 754412, 689660, 832432, 781826]"
      ]
     },
     "execution_count": null,
     "metadata": {},
     "output_type": "execute_result"
    },
    {
     "name": "stderr",
     "output_type": "stream",
     "text": [
      "13:33:52.89 LOG:\n",
      "13:33:52.89 .... <argument> = [330085]\n"
     ]
    },
    {
     "data": {
      "text/plain": [
       "[330085]"
      ]
     },
     "execution_count": null,
     "metadata": {},
     "output_type": "execute_result"
    },
    {
     "name": "stderr",
     "output_type": "stream",
     "text": [
      "13:33:52.90 LOG:\n",
      "13:33:52.90 .... <argument> = [289406]\n"
     ]
    },
    {
     "data": {
      "text/plain": [
       "[289406]"
      ]
     },
     "execution_count": null,
     "metadata": {},
     "output_type": "execute_result"
    },
    {
     "name": "stderr",
     "output_type": "stream",
     "text": [
      "13:33:52.90 LOG:\n",
      "13:33:52.91 .... <argument> = [510818, 1854499, 1081857, 206730]\n"
     ]
    },
    {
     "data": {
      "text/plain": [
       "[510818, 1854499, 1081857, 206730]"
      ]
     },
     "execution_count": null,
     "metadata": {},
     "output_type": "execute_result"
    },
    {
     "name": "stderr",
     "output_type": "stream",
     "text": [
      "13:33:52.91 LOG:\n",
      "13:33:52.91 .... <argument> = [1756028, 144125, 679694, 1032200, 1277690, 1219643, 404609, 975318]\n"
     ]
    },
    {
     "data": {
      "text/plain": [
       "[1756028, 144125, 679694, 1032200, 1277690, 1219643, 404609, 975318]"
      ]
     },
     "execution_count": null,
     "metadata": {},
     "output_type": "execute_result"
    },
    {
     "name": "stderr",
     "output_type": "stream",
     "text": [
      "13:33:52.92 LOG:\n",
      "13:33:52.92 .... <argument> = [1594943]\n"
     ]
    },
    {
     "data": {
      "text/plain": [
       "[1594943]"
      ]
     },
     "execution_count": null,
     "metadata": {},
     "output_type": "execute_result"
    },
    {
     "name": "stderr",
     "output_type": "stream",
     "text": [
      "13:33:52.92 LOG:\n",
      "13:33:52.92 .... <argument> = [404633]\n"
     ]
    },
    {
     "data": {
      "text/plain": [
       "[404633]"
      ]
     },
     "execution_count": null,
     "metadata": {},
     "output_type": "execute_result"
    },
    {
     "name": "stderr",
     "output_type": "stream",
     "text": [
      "13:33:52.93 LOG:\n",
      "13:33:52.93 .... <argument> = [1430995, 772019, 1180573, 556326, 1446722, 1268569, 1290663, 356889]\n"
     ]
    },
    {
     "data": {
      "text/plain": [
       "[1430995, 772019, 1180573, 556326, 1446722, 1268569, 1290663, 356889]"
      ]
     },
     "execution_count": null,
     "metadata": {},
     "output_type": "execute_result"
    },
    {
     "name": "stderr",
     "output_type": "stream",
     "text": [
      "13:33:52.93 LOG:\n",
      "13:33:52.94 .... <argument> = [1589199, 1350395, 364851, 1561268]\n"
     ]
    },
    {
     "data": {
      "text/plain": [
       "[1589199, 1350395, 364851, 1561268]"
      ]
     },
     "execution_count": null,
     "metadata": {},
     "output_type": "execute_result"
    },
    {
     "name": "stderr",
     "output_type": "stream",
     "text": [
      "13:33:52.94 LOG:\n",
      "13:33:52.95 .... <argument> = [777987]\n"
     ]
    },
    {
     "data": {
      "text/plain": [
       "[777987]"
      ]
     },
     "execution_count": null,
     "metadata": {},
     "output_type": "execute_result"
    },
    {
     "name": "stderr",
     "output_type": "stream",
     "text": [
      "13:33:52.95 LOG:\n",
      "13:33:52.95 .... <argument> = [341740, 270850]\n"
     ]
    },
    {
     "data": {
      "text/plain": [
       "[341740, 270850]"
      ]
     },
     "execution_count": null,
     "metadata": {},
     "output_type": "execute_result"
    },
    {
     "name": "stderr",
     "output_type": "stream",
     "text": [
      "13:33:52.96 LOG:\n",
      "13:33:52.96 .... <argument> = [1711459]\n"
     ]
    },
    {
     "data": {
      "text/plain": [
       "[1711459]"
      ]
     },
     "execution_count": null,
     "metadata": {},
     "output_type": "execute_result"
    },
    {
     "name": "stderr",
     "output_type": "stream",
     "text": [
      "13:33:52.96 LOG:\n",
      "13:33:52.97 .... <argument> = [814462, 1098601, 1649480]\n"
     ]
    },
    {
     "data": {
      "text/plain": [
       "[814462, 1098601, 1649480]"
      ]
     },
     "execution_count": null,
     "metadata": {},
     "output_type": "execute_result"
    },
    {
     "name": "stderr",
     "output_type": "stream",
     "text": [
      "13:33:52.97 LOG:\n",
      "13:33:52.97 .... <argument> = [1615654]\n"
     ]
    },
    {
     "data": {
      "text/plain": [
       "[1615654]"
      ]
     },
     "execution_count": null,
     "metadata": {},
     "output_type": "execute_result"
    },
    {
     "name": "stderr",
     "output_type": "stream",
     "text": [
      "13:33:52.98 LOG:\n",
      "13:33:52.98 .... <argument> = [820627, 532036]\n"
     ]
    },
    {
     "data": {
      "text/plain": [
       "[820627, 532036]"
      ]
     },
     "execution_count": null,
     "metadata": {},
     "output_type": "execute_result"
    },
    {
     "name": "stderr",
     "output_type": "stream",
     "text": [
      "13:33:52.99 LOG:\n",
      "13:33:52.99 .... <argument> = [819423, 38843, 854944, 101653, 460360, 224347]\n"
     ]
    },
    {
     "data": {
      "text/plain": [
       "[819423, 38843, 854944, 101653, 460360, 224347]"
      ]
     },
     "execution_count": null,
     "metadata": {},
     "output_type": "execute_result"
    },
    {
     "name": "stderr",
     "output_type": "stream",
     "text": [
      "13:33:52.99 LOG:\n",
      "13:33:52.99 .... <argument> = [128007,\n",
      "13:33:52.99                    1214755,\n",
      "13:33:52.99                    1360606,\n",
      "13:33:52.99                    1515511,\n",
      "13:33:52.99                    1502122,\n",
      "13:33:52.99                    673262,\n",
      "13:33:52.99                    209046,\n",
      "13:33:52.99                    358012,\n",
      "13:33:52.99                    1381944,\n",
      "13:33:52.99                    1541892,\n",
      "13:33:52.99                    462845,\n",
      "13:33:52.99                    61599]\n"
     ]
    },
    {
     "data": {
      "text/plain": [
       "[128007,\n",
       " 1214755,\n",
       " 1360606,\n",
       " 1515511,\n",
       " 1502122,\n",
       " 673262,\n",
       " 209046,\n",
       " 358012,\n",
       " 1381944,\n",
       " 1541892,\n",
       " 462845,\n",
       " 61599]"
      ]
     },
     "execution_count": null,
     "metadata": {},
     "output_type": "execute_result"
    },
    {
     "name": "stderr",
     "output_type": "stream",
     "text": [
      "13:33:53.00 LOG:\n",
      "13:33:53.00 .... <argument> = [178939, 108125]\n"
     ]
    },
    {
     "data": {
      "text/plain": [
       "[178939, 108125]"
      ]
     },
     "execution_count": null,
     "metadata": {},
     "output_type": "execute_result"
    },
    {
     "name": "stderr",
     "output_type": "stream",
     "text": [
      "13:33:53.01 LOG:\n",
      "13:33:53.01 .... <argument> = [1534383, 305158]\n"
     ]
    },
    {
     "data": {
      "text/plain": [
       "[1534383, 305158]"
      ]
     },
     "execution_count": null,
     "metadata": {},
     "output_type": "execute_result"
    },
    {
     "name": "stderr",
     "output_type": "stream",
     "text": [
      "13:33:53.01 LOG:\n",
      "13:33:53.01 .... <argument> = [1635351,\n",
      "13:33:53.01                    821300,\n",
      "13:33:53.01                    646708,\n",
      "13:33:53.01                    1038671,\n",
      "13:33:53.01                    32322,\n",
      "13:33:53.01                    1065696,\n",
      "13:33:53.01                    825034,\n",
      "13:33:53.01                    700085,\n",
      "13:33:53.01                    1674807,\n",
      "13:33:53.01                    1136156]\n"
     ]
    },
    {
     "data": {
      "text/plain": [
       "[1635351,\n",
       " 821300,\n",
       " 646708,\n",
       " 1038671,\n",
       " 32322,\n",
       " 1065696,\n",
       " 825034,\n",
       " 700085,\n",
       " 1674807,\n",
       " 1136156]"
      ]
     },
     "execution_count": null,
     "metadata": {},
     "output_type": "execute_result"
    },
    {
     "name": "stderr",
     "output_type": "stream",
     "text": [
      "13:33:53.02 LOG:\n",
      "13:33:53.02 .... <argument> = [917900]\n"
     ]
    },
    {
     "data": {
      "text/plain": [
       "[917900]"
      ]
     },
     "execution_count": null,
     "metadata": {},
     "output_type": "execute_result"
    },
    {
     "name": "stderr",
     "output_type": "stream",
     "text": [
      "13:33:53.03 LOG:\n",
      "13:33:53.03 .... <argument> = [558573, 1101606, 531395, 1610239, 1626009, 1217563, 1522691]\n"
     ]
    },
    {
     "data": {
      "text/plain": [
       "[558573, 1101606, 531395, 1610239, 1626009, 1217563, 1522691]"
      ]
     },
     "execution_count": null,
     "metadata": {},
     "output_type": "execute_result"
    },
    {
     "name": "stderr",
     "output_type": "stream",
     "text": [
      "13:33:53.03 LOG:\n",
      "13:33:53.03 .... <argument> = [220797, 21209, 1386923, 1725392, 118880, 24159, 1536592, 1340196, 1379108]\n"
     ]
    },
    {
     "data": {
      "text/plain": [
       "[220797, 21209, 1386923, 1725392, 118880, 24159, 1536592, 1340196, 1379108]"
      ]
     },
     "execution_count": null,
     "metadata": {},
     "output_type": "execute_result"
    },
    {
     "name": "stderr",
     "output_type": "stream",
     "text": [
      "13:33:53.04 LOG:\n",
      "13:33:53.04 .... <argument> = [195179]\n"
     ]
    },
    {
     "data": {
      "text/plain": [
       "[195179]"
      ]
     },
     "execution_count": null,
     "metadata": {},
     "output_type": "execute_result"
    },
    {
     "name": "stderr",
     "output_type": "stream",
     "text": [
      "13:33:53.05 LOG:\n",
      "13:33:53.05 .... <argument> = [506009, 688884, 1455357, 1638518, 1386073, 526157]\n"
     ]
    },
    {
     "data": {
      "text/plain": [
       "[506009, 688884, 1455357, 1638518, 1386073, 526157]"
      ]
     },
     "execution_count": null,
     "metadata": {},
     "output_type": "execute_result"
    },
    {
     "name": "stderr",
     "output_type": "stream",
     "text": [
      "13:33:53.05 LOG:\n",
      "13:33:53.06 .... <argument> = [249007, 1127083]\n"
     ]
    },
    {
     "data": {
      "text/plain": [
       "[249007, 1127083]"
      ]
     },
     "execution_count": null,
     "metadata": {},
     "output_type": "execute_result"
    },
    {
     "name": "stderr",
     "output_type": "stream",
     "text": [
      "13:33:53.06 LOG:\n",
      "13:33:53.06 .... <argument> = [259246, 1155739, 805848]\n"
     ]
    },
    {
     "data": {
      "text/plain": [
       "[259246, 1155739, 805848]"
      ]
     },
     "execution_count": null,
     "metadata": {},
     "output_type": "execute_result"
    },
    {
     "name": "stderr",
     "output_type": "stream",
     "text": [
      "13:33:53.07 LOG:\n",
      "13:33:53.07 .... <argument> = [1390864]\n"
     ]
    },
    {
     "data": {
      "text/plain": [
       "[1390864]"
      ]
     },
     "execution_count": null,
     "metadata": {},
     "output_type": "execute_result"
    },
    {
     "name": "stderr",
     "output_type": "stream",
     "text": [
      "13:33:53.07 LOG:\n",
      "13:33:53.08 .... <argument> = [1115498]\n"
     ]
    },
    {
     "data": {
      "text/plain": [
       "[1115498]"
      ]
     },
     "execution_count": null,
     "metadata": {},
     "output_type": "execute_result"
    },
    {
     "name": "stderr",
     "output_type": "stream",
     "text": [
      "13:33:53.08 LOG:\n",
      "13:33:53.08 .... <argument> = [1280391]\n"
     ]
    },
    {
     "data": {
      "text/plain": [
       "[1280391]"
      ]
     },
     "execution_count": null,
     "metadata": {},
     "output_type": "execute_result"
    },
    {
     "name": "stderr",
     "output_type": "stream",
     "text": [
      "13:33:53.09 LOG:\n",
      "13:33:53.09 .... <argument> = [798265, 585523, 1242508, 1844795]\n"
     ]
    },
    {
     "data": {
      "text/plain": [
       "[798265, 585523, 1242508, 1844795]"
      ]
     },
     "execution_count": null,
     "metadata": {},
     "output_type": "execute_result"
    },
    {
     "name": "stderr",
     "output_type": "stream",
     "text": [
      "13:33:53.09 LOG:\n",
      "13:33:53.10 .... <argument> = [232578, 1091465]\n"
     ]
    },
    {
     "data": {
      "text/plain": [
       "[232578, 1091465]"
      ]
     },
     "execution_count": null,
     "metadata": {},
     "output_type": "execute_result"
    },
    {
     "name": "stderr",
     "output_type": "stream",
     "text": [
      "13:33:53.10 LOG:\n",
      "13:33:53.10 .... <argument> = [321312, 726694]\n"
     ]
    },
    {
     "data": {
      "text/plain": [
       "[321312, 726694]"
      ]
     },
     "execution_count": null,
     "metadata": {},
     "output_type": "execute_result"
    },
    {
     "name": "stderr",
     "output_type": "stream",
     "text": [
      "13:33:53.11 LOG:\n",
      "13:33:53.11 .... <argument> = [325587,\n",
      "13:33:53.11                    1274447,\n",
      "13:33:53.11                    56576,\n",
      "13:33:53.11                    758889,\n",
      "13:33:53.11                    9712,\n",
      "13:33:53.11                    1844698,\n",
      "13:33:53.11                    1026267,\n",
      "13:33:53.11                    251409,\n",
      "13:33:53.11                    262840,\n",
      "13:33:53.11                    159789,\n",
      "13:33:53.11                    1745713]\n"
     ]
    },
    {
     "data": {
      "text/plain": [
       "[325587,\n",
       " 1274447,\n",
       " 56576,\n",
       " 758889,\n",
       " 9712,\n",
       " 1844698,\n",
       " 1026267,\n",
       " 251409,\n",
       " 262840,\n",
       " 159789,\n",
       " 1745713]"
      ]
     },
     "execution_count": null,
     "metadata": {},
     "output_type": "execute_result"
    },
    {
     "name": "stderr",
     "output_type": "stream",
     "text": [
      "13:33:53.11 LOG:\n",
      "13:33:53.12 .... <argument> = [779699, 1650634]\n"
     ]
    },
    {
     "data": {
      "text/plain": [
       "[779699, 1650634]"
      ]
     },
     "execution_count": null,
     "metadata": {},
     "output_type": "execute_result"
    },
    {
     "name": "stderr",
     "output_type": "stream",
     "text": [
      "13:33:53.12 LOG:\n",
      "13:33:53.12 .... <argument> = [810043, 1552910, 1646329]\n"
     ]
    },
    {
     "data": {
      "text/plain": [
       "[810043, 1552910, 1646329]"
      ]
     },
     "execution_count": null,
     "metadata": {},
     "output_type": "execute_result"
    },
    {
     "name": "stderr",
     "output_type": "stream",
     "text": [
      "13:33:53.13 LOG:\n",
      "13:33:53.14 .... <argument> = [1232025, 547575]\n"
     ]
    },
    {
     "data": {
      "text/plain": [
       "[1232025, 547575]"
      ]
     },
     "execution_count": null,
     "metadata": {},
     "output_type": "execute_result"
    },
    {
     "name": "stderr",
     "output_type": "stream",
     "text": [
      "13:33:53.15 LOG:\n",
      "13:33:53.15 .... <argument> = [125478]\n"
     ]
    },
    {
     "data": {
      "text/plain": [
       "[125478]"
      ]
     },
     "execution_count": null,
     "metadata": {},
     "output_type": "execute_result"
    },
    {
     "name": "stderr",
     "output_type": "stream",
     "text": [
      "13:33:53.16 LOG:\n",
      "13:33:53.16 .... <argument> = [1740796]\n"
     ]
    },
    {
     "data": {
      "text/plain": [
       "[1740796]"
      ]
     },
     "execution_count": null,
     "metadata": {},
     "output_type": "execute_result"
    },
    {
     "name": "stderr",
     "output_type": "stream",
     "text": [
      "13:33:53.17 LOG:\n",
      "13:33:53.17 .... <argument> = [197957]\n"
     ]
    },
    {
     "data": {
      "text/plain": [
       "[197957]"
      ]
     },
     "execution_count": null,
     "metadata": {},
     "output_type": "execute_result"
    },
    {
     "name": "stderr",
     "output_type": "stream",
     "text": [
      "13:33:53.18 LOG:\n",
      "13:33:53.18 .... <argument> = [932022, 459882]\n"
     ]
    },
    {
     "data": {
      "text/plain": [
       "[932022, 459882]"
      ]
     },
     "execution_count": null,
     "metadata": {},
     "output_type": "execute_result"
    },
    {
     "name": "stderr",
     "output_type": "stream",
     "text": [
      "13:33:53.19 LOG:\n",
      "13:33:53.19 .... <argument> = [1270482, 1307179, 626322]\n"
     ]
    },
    {
     "data": {
      "text/plain": [
       "[1270482, 1307179, 626322]"
      ]
     },
     "execution_count": null,
     "metadata": {},
     "output_type": "execute_result"
    },
    {
     "name": "stderr",
     "output_type": "stream",
     "text": [
      "13:33:53.19 LOG:\n",
      "13:33:53.19 .... <argument> = [474393, 1313994, 1245637]\n"
     ]
    },
    {
     "data": {
      "text/plain": [
       "[474393, 1313994, 1245637]"
      ]
     },
     "execution_count": null,
     "metadata": {},
     "output_type": "execute_result"
    },
    {
     "name": "stderr",
     "output_type": "stream",
     "text": [
      "13:33:53.20 LOG:\n",
      "13:33:53.20 .... <argument> = [264570]\n"
     ]
    },
    {
     "data": {
      "text/plain": [
       "[264570]"
      ]
     },
     "execution_count": null,
     "metadata": {},
     "output_type": "execute_result"
    },
    {
     "name": "stderr",
     "output_type": "stream",
     "text": [
      "13:33:53.21 LOG:\n",
      "13:33:53.21 .... <argument> = [1571865]\n"
     ]
    },
    {
     "data": {
      "text/plain": [
       "[1571865]"
      ]
     },
     "execution_count": null,
     "metadata": {},
     "output_type": "execute_result"
    },
    {
     "name": "stderr",
     "output_type": "stream",
     "text": [
      "13:33:53.21 LOG:\n",
      "13:33:53.22 .... <argument> = [1652087, 673407, 725706, 758446, 1465840, 627187, 1602805, 107982, 1414079]\n"
     ]
    },
    {
     "data": {
      "text/plain": [
       "[1652087, 673407, 725706, 758446, 1465840, 627187, 1602805, 107982, 1414079]"
      ]
     },
     "execution_count": null,
     "metadata": {},
     "output_type": "execute_result"
    },
    {
     "name": "stderr",
     "output_type": "stream",
     "text": [
      "13:33:53.22 LOG:\n",
      "13:33:53.23 .... <argument> = [260865, 1293374, 705593, 1394671, 1419449, 941558, 683164]\n"
     ]
    },
    {
     "data": {
      "text/plain": [
       "[260865, 1293374, 705593, 1394671, 1419449, 941558, 683164]"
      ]
     },
     "execution_count": null,
     "metadata": {},
     "output_type": "execute_result"
    },
    {
     "name": "stderr",
     "output_type": "stream",
     "text": [
      "13:33:53.23 LOG:\n",
      "13:33:53.23 .... <argument> = [298732, 274422]\n"
     ]
    },
    {
     "data": {
      "text/plain": [
       "[298732, 274422]"
      ]
     },
     "execution_count": null,
     "metadata": {},
     "output_type": "execute_result"
    },
    {
     "name": "stderr",
     "output_type": "stream",
     "text": [
      "13:33:53.24 LOG:\n",
      "13:33:53.24 .... <argument> = [271387]\n"
     ]
    },
    {
     "data": {
      "text/plain": [
       "[271387]"
      ]
     },
     "execution_count": null,
     "metadata": {},
     "output_type": "execute_result"
    },
    {
     "name": "stderr",
     "output_type": "stream",
     "text": [
      "13:33:53.24 LOG:\n",
      "13:33:53.24 .... <argument> = [155580, 1291900]\n"
     ]
    },
    {
     "data": {
      "text/plain": [
       "[155580, 1291900]"
      ]
     },
     "execution_count": null,
     "metadata": {},
     "output_type": "execute_result"
    },
    {
     "name": "stderr",
     "output_type": "stream",
     "text": [
      "13:33:53.25 LOG:\n",
      "13:33:53.25 .... <argument> = [1030910]\n"
     ]
    },
    {
     "data": {
      "text/plain": [
       "[1030910]"
      ]
     },
     "execution_count": null,
     "metadata": {},
     "output_type": "execute_result"
    },
    {
     "name": "stderr",
     "output_type": "stream",
     "text": [
      "13:33:53.26 LOG:\n",
      "13:33:53.26 .... <argument> = [1190361]\n"
     ]
    },
    {
     "data": {
      "text/plain": [
       "[1190361]"
      ]
     },
     "execution_count": null,
     "metadata": {},
     "output_type": "execute_result"
    },
    {
     "name": "stderr",
     "output_type": "stream",
     "text": [
      "13:33:53.26 LOG:\n",
      "13:33:53.26 .... <argument> = [129764, 1691643, 1758634]\n"
     ]
    },
    {
     "data": {
      "text/plain": [
       "[129764, 1691643, 1758634]"
      ]
     },
     "execution_count": null,
     "metadata": {},
     "output_type": "execute_result"
    },
    {
     "name": "stderr",
     "output_type": "stream",
     "text": [
      "13:33:53.27 LOG:\n",
      "13:33:53.27 .... <argument> = [1836089, 855399, 1490620, 961134]\n"
     ]
    },
    {
     "data": {
      "text/plain": [
       "[1836089, 855399, 1490620, 961134]"
      ]
     },
     "execution_count": null,
     "metadata": {},
     "output_type": "execute_result"
    },
    {
     "name": "stderr",
     "output_type": "stream",
     "text": [
      "13:33:53.28 LOG:\n",
      "13:33:53.28 .... <argument> = [1325338,\n",
      "13:33:53.28                    1135314,\n",
      "13:33:53.28                    659399,\n",
      "13:33:53.28                    108125,\n",
      "13:33:53.28                    1120255,\n",
      "13:33:53.28                    1583100,\n",
      "13:33:53.28                    1122047,\n",
      "13:33:53.28                    316394,\n",
      "13:33:53.28                    1412071,\n",
      "13:33:53.28                    1402537,\n",
      "13:33:53.28                    933576]\n"
     ]
    },
    {
     "data": {
      "text/plain": [
       "[1325338,\n",
       " 1135314,\n",
       " 659399,\n",
       " 108125,\n",
       " 1120255,\n",
       " 1583100,\n",
       " 1122047,\n",
       " 316394,\n",
       " 1412071,\n",
       " 1402537,\n",
       " 933576]"
      ]
     },
     "execution_count": null,
     "metadata": {},
     "output_type": "execute_result"
    },
    {
     "name": "stderr",
     "output_type": "stream",
     "text": [
      "13:33:53.28 LOG:\n",
      "13:33:53.28 .... <argument> = [1274553]\n"
     ]
    },
    {
     "data": {
      "text/plain": [
       "[1274553]"
      ]
     },
     "execution_count": null,
     "metadata": {},
     "output_type": "execute_result"
    },
    {
     "name": "stderr",
     "output_type": "stream",
     "text": [
      "13:33:53.29 LOG:\n",
      "13:33:53.29 .... <argument> = [144135,\n",
      "13:33:53.29                    151965,\n",
      "13:33:53.29                    1081016,\n",
      "13:33:53.29                    470802,\n",
      "13:33:53.29                    1257191,\n",
      "13:33:53.29                    1067506,\n",
      "13:33:53.29                    1236058,\n",
      "13:33:53.29                    51953,\n",
      "13:33:53.29                    1281746,\n",
      "13:33:53.29                    938014]\n"
     ]
    },
    {
     "data": {
      "text/plain": [
       "[144135,\n",
       " 151965,\n",
       " 1081016,\n",
       " 470802,\n",
       " 1257191,\n",
       " 1067506,\n",
       " 1236058,\n",
       " 51953,\n",
       " 1281746,\n",
       " 938014]"
      ]
     },
     "execution_count": null,
     "metadata": {},
     "output_type": "execute_result"
    },
    {
     "name": "stderr",
     "output_type": "stream",
     "text": [
      "13:33:53.29 LOG:\n",
      "13:33:53.30 .... <argument> = [1545414,\n",
      "13:33:53.30                    648016,\n",
      "13:33:53.30                    542738,\n",
      "13:33:53.30                    981272,\n",
      "13:33:53.30                    1354736,\n",
      "13:33:53.30                    444494,\n",
      "13:33:53.30                    249949,\n",
      "13:33:53.30                    1127177,\n",
      "13:33:53.30                    707254,\n",
      "13:33:53.30                    1338926]\n"
     ]
    },
    {
     "data": {
      "text/plain": [
       "[1545414,\n",
       " 648016,\n",
       " 542738,\n",
       " 981272,\n",
       " 1354736,\n",
       " 444494,\n",
       " 249949,\n",
       " 1127177,\n",
       " 707254,\n",
       " 1338926]"
      ]
     },
     "execution_count": null,
     "metadata": {},
     "output_type": "execute_result"
    },
    {
     "name": "stderr",
     "output_type": "stream",
     "text": [
      "13:33:53.30 LOG:\n",
      "13:33:53.30 .... <argument> = [589592, 28651, 30818, 183848, 1844379]\n"
     ]
    },
    {
     "data": {
      "text/plain": [
       "[589592, 28651, 30818, 183848, 1844379]"
      ]
     },
     "execution_count": null,
     "metadata": {},
     "output_type": "execute_result"
    },
    {
     "name": "stderr",
     "output_type": "stream",
     "text": [
      "13:33:53.31 LOG:\n",
      "13:33:53.31 .... <argument> = [965974, 904693]\n"
     ]
    },
    {
     "data": {
      "text/plain": [
       "[965974, 904693]"
      ]
     },
     "execution_count": null,
     "metadata": {},
     "output_type": "execute_result"
    },
    {
     "name": "stderr",
     "output_type": "stream",
     "text": [
      "13:33:53.32 LOG:\n",
      "13:33:53.32 .... <argument> = [1386890, 948338, 250718, 1709636, 1739471, 324280, 1172428]\n"
     ]
    },
    {
     "data": {
      "text/plain": [
       "[1386890, 948338, 250718, 1709636, 1739471, 324280, 1172428]"
      ]
     },
     "execution_count": null,
     "metadata": {},
     "output_type": "execute_result"
    },
    {
     "name": "stderr",
     "output_type": "stream",
     "text": [
      "13:33:53.32 LOG:\n",
      "13:33:53.32 .... <argument> = [1015266,\n",
      "13:33:53.32                    1460500,\n",
      "13:33:53.32                    78628,\n",
      "13:33:53.32                    889671,\n",
      "13:33:53.32                    759502,\n",
      "13:33:53.32                    363324,\n",
      "13:33:53.32                    1714681,\n",
      "13:33:53.32                    905448,\n",
      "13:33:53.32                    1264167,\n",
      "13:33:53.32                    874124,\n",
      "13:33:53.32                    865933,\n",
      "13:33:53.32                    978966,\n",
      "13:33:53.32                    1639484,\n",
      "13:33:53.32                    1595571,\n",
      "13:33:53.32                    216371]\n"
     ]
    },
    {
     "data": {
      "text/plain": [
       "[1015266,\n",
       " 1460500,\n",
       " 78628,\n",
       " 889671,\n",
       " 759502,\n",
       " 363324,\n",
       " 1714681,\n",
       " 905448,\n",
       " 1264167,\n",
       " 874124,\n",
       " 865933,\n",
       " 978966,\n",
       " 1639484,\n",
       " 1595571,\n",
       " 216371]"
      ]
     },
     "execution_count": null,
     "metadata": {},
     "output_type": "execute_result"
    },
    {
     "name": "stderr",
     "output_type": "stream",
     "text": [
      "13:33:53.33 LOG:\n",
      "13:33:53.33 .... <argument> = [682630, 1384443]\n"
     ]
    },
    {
     "data": {
      "text/plain": [
       "[682630, 1384443]"
      ]
     },
     "execution_count": null,
     "metadata": {},
     "output_type": "execute_result"
    },
    {
     "name": "stderr",
     "output_type": "stream",
     "text": [
      "13:33:53.34 LOG:\n",
      "13:33:53.34 .... <argument> = [1560287, 1425538]\n"
     ]
    },
    {
     "data": {
      "text/plain": [
       "[1560287, 1425538]"
      ]
     },
     "execution_count": null,
     "metadata": {},
     "output_type": "execute_result"
    },
    {
     "name": "stderr",
     "output_type": "stream",
     "text": [
      "13:33:53.35 LOG:\n",
      "13:33:53.35 .... <argument> = [1247728, 1691463, 1572430, 1187871, 888918, 1585733, 904809, 720682]\n"
     ]
    },
    {
     "data": {
      "text/plain": [
       "[1247728, 1691463, 1572430, 1187871, 888918, 1585733, 904809, 720682]"
      ]
     },
     "execution_count": null,
     "metadata": {},
     "output_type": "execute_result"
    },
    {
     "name": "stderr",
     "output_type": "stream",
     "text": [
      "13:33:53.35 LOG:\n",
      "13:33:53.36 .... <argument> = [230370, 859822, 1843767, 849568, 381152, 1093076, 504072, 247799]\n"
     ]
    },
    {
     "data": {
      "text/plain": [
       "[230370, 859822, 1843767, 849568, 381152, 1093076, 504072, 247799]"
      ]
     },
     "execution_count": null,
     "metadata": {},
     "output_type": "execute_result"
    },
    {
     "name": "stderr",
     "output_type": "stream",
     "text": [
      "13:33:53.36 LOG:\n",
      "13:33:53.36 .... <argument> = [1360963,\n",
      "13:33:53.36                    1347835,\n",
      "13:33:53.36                    245812,\n",
      "13:33:53.36                    886812,\n",
      "13:33:53.36                    382693,\n",
      "13:33:53.36                    984587,\n",
      "13:33:53.36                    978556,\n",
      "13:33:53.36                    1513110,\n",
      "13:33:53.36                    850947,\n",
      "13:33:53.36                    1606560]\n"
     ]
    },
    {
     "data": {
      "text/plain": [
       "[1360963,\n",
       " 1347835,\n",
       " 245812,\n",
       " 886812,\n",
       " 382693,\n",
       " 984587,\n",
       " 978556,\n",
       " 1513110,\n",
       " 850947,\n",
       " 1606560]"
      ]
     },
     "execution_count": null,
     "metadata": {},
     "output_type": "execute_result"
    },
    {
     "name": "stderr",
     "output_type": "stream",
     "text": [
      "13:33:53.37 LOG:\n",
      "13:33:53.37 .... <argument> = [1758603, 1263108, 1257293, 801774, 110930, 405486]\n"
     ]
    },
    {
     "data": {
      "text/plain": [
       "[1758603, 1263108, 1257293, 801774, 110930, 405486]"
      ]
     },
     "execution_count": null,
     "metadata": {},
     "output_type": "execute_result"
    },
    {
     "name": "stderr",
     "output_type": "stream",
     "text": [
      "13:33:53.38 LOG:\n",
      "13:33:53.38 .... <argument> = [610887, 577558, 34321]\n"
     ]
    },
    {
     "data": {
      "text/plain": [
       "[610887, 577558, 34321]"
      ]
     },
     "execution_count": null,
     "metadata": {},
     "output_type": "execute_result"
    },
    {
     "name": "stderr",
     "output_type": "stream",
     "text": [
      "13:33:53.39 LOG:\n",
      "13:33:53.39 .... <argument> = [800147]\n"
     ]
    },
    {
     "data": {
      "text/plain": [
       "[800147]"
      ]
     },
     "execution_count": null,
     "metadata": {},
     "output_type": "execute_result"
    },
    {
     "name": "stderr",
     "output_type": "stream",
     "text": [
      "13:33:53.40 LOG:\n",
      "13:33:53.40 .... <argument> = [1835907, 822115, 252600, 1364415, 1602986, 1611528, 416225]\n"
     ]
    },
    {
     "data": {
      "text/plain": [
       "[1835907, 822115, 252600, 1364415, 1602986, 1611528, 416225]"
      ]
     },
     "execution_count": null,
     "metadata": {},
     "output_type": "execute_result"
    },
    {
     "name": "stderr",
     "output_type": "stream",
     "text": [
      "13:33:53.41 LOG:\n",
      "13:33:53.41 .... <argument> = [550147]\n"
     ]
    },
    {
     "data": {
      "text/plain": [
       "[550147]"
      ]
     },
     "execution_count": null,
     "metadata": {},
     "output_type": "execute_result"
    },
    {
     "name": "stderr",
     "output_type": "stream",
     "text": [
      "13:33:53.42 LOG:\n",
      "13:33:53.42 .... <argument> = [1545025, 1582485]\n"
     ]
    },
    {
     "data": {
      "text/plain": [
       "[1545025, 1582485]"
      ]
     },
     "execution_count": null,
     "metadata": {},
     "output_type": "execute_result"
    },
    {
     "name": "stderr",
     "output_type": "stream",
     "text": [
      "13:33:53.43 LOG:\n",
      "13:33:53.43 .... <argument> = [1619386, 505968, 327012, 964724, 1499656]\n"
     ]
    },
    {
     "data": {
      "text/plain": [
       "[1619386, 505968, 327012, 964724, 1499656]"
      ]
     },
     "execution_count": null,
     "metadata": {},
     "output_type": "execute_result"
    },
    {
     "name": "stderr",
     "output_type": "stream",
     "text": [
      "13:33:53.44 LOG:\n",
      "13:33:53.44 .... <argument> = [1438899, 1245216]\n"
     ]
    },
    {
     "data": {
      "text/plain": [
       "[1438899, 1245216]"
      ]
     },
     "execution_count": null,
     "metadata": {},
     "output_type": "execute_result"
    },
    {
     "name": "stderr",
     "output_type": "stream",
     "text": [
      "13:33:53.45 LOG:\n",
      "13:33:53.45 .... <argument> = [511409]\n"
     ]
    },
    {
     "data": {
      "text/plain": [
       "[511409]"
      ]
     },
     "execution_count": null,
     "metadata": {},
     "output_type": "execute_result"
    },
    {
     "name": "stderr",
     "output_type": "stream",
     "text": [
      "13:33:53.46 LOG:\n",
      "13:33:53.46 .... <argument> = [409620]\n"
     ]
    },
    {
     "data": {
      "text/plain": [
       "[409620]"
      ]
     },
     "execution_count": null,
     "metadata": {},
     "output_type": "execute_result"
    },
    {
     "name": "stderr",
     "output_type": "stream",
     "text": [
      "13:33:53.47 LOG:\n",
      "13:33:53.47 .... <argument> = [1014597,\n",
      "13:33:53.47                    1787442,\n",
      "13:33:53.47                    1187148,\n",
      "13:33:53.47                    370141,\n",
      "13:33:53.47                    1444861,\n",
      "13:33:53.47                    1830235,\n",
      "13:33:53.47                    1679713,\n",
      "13:33:53.47                    231113,\n",
      "13:33:53.47                    720192,\n",
      "13:33:53.47                    1782678,\n",
      "13:33:53.47                    54958,\n",
      "13:33:53.47                    3504,\n",
      "13:33:53.47                    1190306,\n",
      "13:33:53.47                    1320277,\n",
      "13:33:53.47                    484592]\n"
     ]
    },
    {
     "data": {
      "text/plain": [
       "[1014597,\n",
       " 1787442,\n",
       " 1187148,\n",
       " 370141,\n",
       " 1444861,\n",
       " 1830235,\n",
       " 1679713,\n",
       " 231113,\n",
       " 720192,\n",
       " 1782678,\n",
       " 54958,\n",
       " 3504,\n",
       " 1190306,\n",
       " 1320277,\n",
       " 484592]"
      ]
     },
     "execution_count": null,
     "metadata": {},
     "output_type": "execute_result"
    },
    {
     "name": "stderr",
     "output_type": "stream",
     "text": [
      "13:33:53.48 LOG:\n",
      "13:33:53.48 .... <argument> = [1202763, 236352, 1184230]\n"
     ]
    },
    {
     "data": {
      "text/plain": [
       "[1202763, 236352, 1184230]"
      ]
     },
     "execution_count": null,
     "metadata": {},
     "output_type": "execute_result"
    },
    {
     "name": "stderr",
     "output_type": "stream",
     "text": [
      "13:33:53.48 LOG:\n",
      "13:33:53.49 .... <argument> = [1833236]\n"
     ]
    },
    {
     "data": {
      "text/plain": [
       "[1833236]"
      ]
     },
     "execution_count": null,
     "metadata": {},
     "output_type": "execute_result"
    },
    {
     "name": "stderr",
     "output_type": "stream",
     "text": [
      "13:33:53.49 LOG:\n",
      "13:33:53.49 .... <argument> = [732299]\n"
     ]
    },
    {
     "data": {
      "text/plain": [
       "[732299]"
      ]
     },
     "execution_count": null,
     "metadata": {},
     "output_type": "execute_result"
    },
    {
     "name": "stderr",
     "output_type": "stream",
     "text": [
      "13:33:53.50 LOG:\n",
      "13:33:53.50 .... <argument> = [1759166]\n"
     ]
    },
    {
     "data": {
      "text/plain": [
       "[1759166]"
      ]
     },
     "execution_count": null,
     "metadata": {},
     "output_type": "execute_result"
    },
    {
     "name": "stderr",
     "output_type": "stream",
     "text": [
      "13:33:53.51 LOG:\n",
      "13:33:53.51 .... <argument> = [1320734, 1567288]\n"
     ]
    },
    {
     "data": {
      "text/plain": [
       "[1320734, 1567288]"
      ]
     },
     "execution_count": null,
     "metadata": {},
     "output_type": "execute_result"
    },
    {
     "name": "stderr",
     "output_type": "stream",
     "text": [
      "13:33:53.52 LOG:\n",
      "13:33:53.52 .... <argument> = [445830]\n"
     ]
    },
    {
     "data": {
      "text/plain": [
       "[445830]"
      ]
     },
     "execution_count": null,
     "metadata": {},
     "output_type": "execute_result"
    },
    {
     "name": "stderr",
     "output_type": "stream",
     "text": [
      "13:33:53.52 LOG:\n",
      "13:33:53.53 .... <argument> = [601909, 935671, 1804349]\n"
     ]
    },
    {
     "data": {
      "text/plain": [
       "[601909, 935671, 1804349]"
      ]
     },
     "execution_count": null,
     "metadata": {},
     "output_type": "execute_result"
    },
    {
     "name": "stderr",
     "output_type": "stream",
     "text": [
      "13:33:53.53 LOG:\n",
      "13:33:53.54 .... <argument> = [1342567]\n"
     ]
    },
    {
     "data": {
      "text/plain": [
       "[1342567]"
      ]
     },
     "execution_count": null,
     "metadata": {},
     "output_type": "execute_result"
    },
    {
     "name": "stderr",
     "output_type": "stream",
     "text": [
      "13:33:53.54 LOG:\n",
      "13:33:53.54 .... <argument> = [1635995]\n"
     ]
    },
    {
     "data": {
      "text/plain": [
       "[1635995]"
      ]
     },
     "execution_count": null,
     "metadata": {},
     "output_type": "execute_result"
    },
    {
     "name": "stderr",
     "output_type": "stream",
     "text": [
      "13:33:53.55 LOG:\n",
      "13:33:53.55 .... <argument> = [994230, 183408, 1695303, 1382328]\n"
     ]
    },
    {
     "data": {
      "text/plain": [
       "[994230, 183408, 1695303, 1382328]"
      ]
     },
     "execution_count": null,
     "metadata": {},
     "output_type": "execute_result"
    },
    {
     "name": "stderr",
     "output_type": "stream",
     "text": [
      "13:33:53.56 LOG:\n",
      "13:33:53.56 .... <argument> = [187686]\n"
     ]
    },
    {
     "data": {
      "text/plain": [
       "[187686]"
      ]
     },
     "execution_count": null,
     "metadata": {},
     "output_type": "execute_result"
    },
    {
     "name": "stderr",
     "output_type": "stream",
     "text": [
      "13:33:53.57 LOG:\n",
      "13:33:53.57 .... <argument> = [850483]\n"
     ]
    },
    {
     "data": {
      "text/plain": [
       "[850483]"
      ]
     },
     "execution_count": null,
     "metadata": {},
     "output_type": "execute_result"
    },
    {
     "name": "stderr",
     "output_type": "stream",
     "text": [
      "13:33:53.57 LOG:\n",
      "13:33:53.57 .... <argument> = [1587233, 184976]\n"
     ]
    },
    {
     "data": {
      "text/plain": [
       "[1587233, 184976]"
      ]
     },
     "execution_count": null,
     "metadata": {},
     "output_type": "execute_result"
    },
    {
     "name": "stderr",
     "output_type": "stream",
     "text": [
      "13:33:53.58 LOG:\n",
      "13:33:53.58 .... <argument> = [1099100]\n"
     ]
    },
    {
     "data": {
      "text/plain": [
       "[1099100]"
      ]
     },
     "execution_count": null,
     "metadata": {},
     "output_type": "execute_result"
    },
    {
     "name": "stderr",
     "output_type": "stream",
     "text": [
      "13:33:53.59 LOG:\n",
      "13:33:53.59 .... <argument> = [1782099, 1355511]\n"
     ]
    },
    {
     "data": {
      "text/plain": [
       "[1782099, 1355511]"
      ]
     },
     "execution_count": null,
     "metadata": {},
     "output_type": "execute_result"
    },
    {
     "name": "stderr",
     "output_type": "stream",
     "text": [
      "13:33:53.60 LOG:\n",
      "13:33:53.60 .... <argument> = [520388]\n"
     ]
    },
    {
     "data": {
      "text/plain": [
       "[520388]"
      ]
     },
     "execution_count": null,
     "metadata": {},
     "output_type": "execute_result"
    },
    {
     "name": "stderr",
     "output_type": "stream",
     "text": [
      "13:33:53.60 LOG:\n",
      "13:33:53.61 .... <argument> = [1645990]\n"
     ]
    },
    {
     "data": {
      "text/plain": [
       "[1645990]"
      ]
     },
     "execution_count": null,
     "metadata": {},
     "output_type": "execute_result"
    },
    {
     "name": "stderr",
     "output_type": "stream",
     "text": [
      "13:33:53.61 LOG:\n",
      "13:33:53.61 .... <argument> = [1766339, 1158280]\n"
     ]
    },
    {
     "data": {
      "text/plain": [
       "[1766339, 1158280]"
      ]
     },
     "execution_count": null,
     "metadata": {},
     "output_type": "execute_result"
    },
    {
     "name": "stderr",
     "output_type": "stream",
     "text": [
      "13:33:53.62 LOG:\n",
      "13:33:53.62 .... <argument> = [903014, 1250786]\n"
     ]
    },
    {
     "data": {
      "text/plain": [
       "[903014, 1250786]"
      ]
     },
     "execution_count": null,
     "metadata": {},
     "output_type": "execute_result"
    },
    {
     "name": "stderr",
     "output_type": "stream",
     "text": [
      "13:33:53.63 LOG:\n",
      "13:33:53.63 .... <argument> = [881592]\n"
     ]
    },
    {
     "data": {
      "text/plain": [
       "[881592]"
      ]
     },
     "execution_count": null,
     "metadata": {},
     "output_type": "execute_result"
    },
    {
     "name": "stderr",
     "output_type": "stream",
     "text": [
      "13:33:53.63 LOG:\n",
      "13:33:53.63 .... <argument> = [662750, 505745, 1095609, 1666813]\n"
     ]
    },
    {
     "data": {
      "text/plain": [
       "[662750, 505745, 1095609, 1666813]"
      ]
     },
     "execution_count": null,
     "metadata": {},
     "output_type": "execute_result"
    },
    {
     "name": "stderr",
     "output_type": "stream",
     "text": [
      "13:33:53.64 LOG:\n",
      "13:33:53.64 .... <argument> = [934781, 1813930, 1754248]\n"
     ]
    },
    {
     "data": {
      "text/plain": [
       "[934781, 1813930, 1754248]"
      ]
     },
     "execution_count": null,
     "metadata": {},
     "output_type": "execute_result"
    },
    {
     "name": "stderr",
     "output_type": "stream",
     "text": [
      "13:33:53.64 LOG:\n",
      "13:33:53.64 .... <argument> = [979388]\n"
     ]
    },
    {
     "data": {
      "text/plain": [
       "[979388]"
      ]
     },
     "execution_count": null,
     "metadata": {},
     "output_type": "execute_result"
    },
    {
     "name": "stderr",
     "output_type": "stream",
     "text": [
      "13:33:53.65 LOG:\n",
      "13:33:53.65 .... <argument> = [786469]\n"
     ]
    },
    {
     "data": {
      "text/plain": [
       "[786469]"
      ]
     },
     "execution_count": null,
     "metadata": {},
     "output_type": "execute_result"
    },
    {
     "name": "stderr",
     "output_type": "stream",
     "text": [
      "13:33:53.65 LOG:\n",
      "13:33:53.65 .... <argument> = [1587914, 530268, 453360, 519551, 296622, 1560267, 1342719, 587252]\n"
     ]
    },
    {
     "data": {
      "text/plain": [
       "[1587914, 530268, 453360, 519551, 296622, 1560267, 1342719, 587252]"
      ]
     },
     "execution_count": null,
     "metadata": {},
     "output_type": "execute_result"
    },
    {
     "name": "stderr",
     "output_type": "stream",
     "text": [
      "13:33:53.66 LOG:\n",
      "13:33:53.66 .... <argument> = [633754]\n"
     ]
    },
    {
     "data": {
      "text/plain": [
       "[633754]"
      ]
     },
     "execution_count": null,
     "metadata": {},
     "output_type": "execute_result"
    },
    {
     "name": "stderr",
     "output_type": "stream",
     "text": [
      "13:33:53.67 LOG:\n",
      "13:33:53.67 .... <argument> = [682579, 1294924]\n"
     ]
    },
    {
     "data": {
      "text/plain": [
       "[682579, 1294924]"
      ]
     },
     "execution_count": null,
     "metadata": {},
     "output_type": "execute_result"
    },
    {
     "name": "stderr",
     "output_type": "stream",
     "text": [
      "13:33:53.67 LOG:\n",
      "13:33:53.67 .... <argument> = [521405, 1195903, 1206619, 84643, 1646360, 881807, 1650587, 1621765, 760741]\n"
     ]
    },
    {
     "data": {
      "text/plain": [
       "[521405, 1195903, 1206619, 84643, 1646360, 881807, 1650587, 1621765, 760741]"
      ]
     },
     "execution_count": null,
     "metadata": {},
     "output_type": "execute_result"
    },
    {
     "name": "stderr",
     "output_type": "stream",
     "text": [
      "13:33:53.68 LOG:\n",
      "13:33:53.68 .... <argument> = [800220, 537035, 37339, 256175, 1705606]\n"
     ]
    },
    {
     "data": {
      "text/plain": [
       "[800220, 537035, 37339, 256175, 1705606]"
      ]
     },
     "execution_count": null,
     "metadata": {},
     "output_type": "execute_result"
    },
    {
     "name": "stderr",
     "output_type": "stream",
     "text": [
      "13:33:53.68 LOG:\n",
      "13:33:53.68 .... <argument> = [567476, 618888, 1837008]\n"
     ]
    },
    {
     "data": {
      "text/plain": [
       "[567476, 618888, 1837008]"
      ]
     },
     "execution_count": null,
     "metadata": {},
     "output_type": "execute_result"
    },
    {
     "name": "stderr",
     "output_type": "stream",
     "text": [
      "13:33:53.69 LOG:\n",
      "13:33:53.69 .... <argument> = [1519088, 1516571]\n"
     ]
    },
    {
     "data": {
      "text/plain": [
       "[1519088, 1516571]"
      ]
     },
     "execution_count": null,
     "metadata": {},
     "output_type": "execute_result"
    },
    {
     "name": "stderr",
     "output_type": "stream",
     "text": [
      "13:33:53.70 LOG:\n",
      "13:33:53.70 .... <argument> = [1347100, 1751056]\n"
     ]
    },
    {
     "data": {
      "text/plain": [
       "[1347100, 1751056]"
      ]
     },
     "execution_count": null,
     "metadata": {},
     "output_type": "execute_result"
    },
    {
     "name": "stderr",
     "output_type": "stream",
     "text": [
      "13:33:53.70 LOG:\n",
      "13:33:53.70 .... <argument> = [289406, 1122211, 74861]\n"
     ]
    },
    {
     "data": {
      "text/plain": [
       "[289406, 1122211, 74861]"
      ]
     },
     "execution_count": null,
     "metadata": {},
     "output_type": "execute_result"
    },
    {
     "name": "stderr",
     "output_type": "stream",
     "text": [
      "13:33:53.71 LOG:\n",
      "13:33:53.71 .... <argument> = [841206, 1603001]\n"
     ]
    },
    {
     "data": {
      "text/plain": [
       "[841206, 1603001]"
      ]
     },
     "execution_count": null,
     "metadata": {},
     "output_type": "execute_result"
    },
    {
     "name": "stderr",
     "output_type": "stream",
     "text": [
      "13:33:53.71 LOG:\n",
      "13:33:53.71 .... <argument> = [990334]\n"
     ]
    },
    {
     "data": {
      "text/plain": [
       "[990334]"
      ]
     },
     "execution_count": null,
     "metadata": {},
     "output_type": "execute_result"
    },
    {
     "name": "stderr",
     "output_type": "stream",
     "text": [
      "13:33:53.72 LOG:\n",
      "13:33:53.72 .... <argument> = [1328568, 877318, 191089, 1146002, 849217, 78262, 554660, 1110894, 1354482]\n"
     ]
    },
    {
     "data": {
      "text/plain": [
       "[1328568, 877318, 191089, 1146002, 849217, 78262, 554660, 1110894, 1354482]"
      ]
     },
     "execution_count": null,
     "metadata": {},
     "output_type": "execute_result"
    },
    {
     "name": "stderr",
     "output_type": "stream",
     "text": [
      "13:33:53.73 LOG:\n",
      "13:33:53.73 .... <argument> = [690138, 699378, 1808961]\n"
     ]
    },
    {
     "data": {
      "text/plain": [
       "[690138, 699378, 1808961]"
      ]
     },
     "execution_count": null,
     "metadata": {},
     "output_type": "execute_result"
    },
    {
     "name": "stderr",
     "output_type": "stream",
     "text": [
      "13:33:53.73 LOG:\n",
      "13:33:53.73 .... <argument> = [129651]\n"
     ]
    },
    {
     "data": {
      "text/plain": [
       "[129651]"
      ]
     },
     "execution_count": null,
     "metadata": {},
     "output_type": "execute_result"
    },
    {
     "name": "stderr",
     "output_type": "stream",
     "text": [
      "13:33:53.74 LOG:\n",
      "13:33:53.74 .... <argument> = [1840048, 554230, 291583, 1528579]\n"
     ]
    },
    {
     "data": {
      "text/plain": [
       "[1840048, 554230, 291583, 1528579]"
      ]
     },
     "execution_count": null,
     "metadata": {},
     "output_type": "execute_result"
    },
    {
     "name": "stderr",
     "output_type": "stream",
     "text": [
      "13:33:53.74 LOG:\n",
      "13:33:53.74 .... <argument> = [858376, 1173485]\n"
     ]
    },
    {
     "data": {
      "text/plain": [
       "[858376, 1173485]"
      ]
     },
     "execution_count": null,
     "metadata": {},
     "output_type": "execute_result"
    },
    {
     "name": "stderr",
     "output_type": "stream",
     "text": [
      "13:33:53.75 LOG:\n",
      "13:33:53.75 .... <argument> = [556314, 880854, 939040]\n"
     ]
    },
    {
     "data": {
      "text/plain": [
       "[556314, 880854, 939040]"
      ]
     },
     "execution_count": null,
     "metadata": {},
     "output_type": "execute_result"
    },
    {
     "name": "stderr",
     "output_type": "stream",
     "text": [
      "13:33:53.75 LOG:\n",
      "13:33:53.75 .... <argument> = [289004, 1678286]\n"
     ]
    },
    {
     "data": {
      "text/plain": [
       "[289004, 1678286]"
      ]
     },
     "execution_count": null,
     "metadata": {},
     "output_type": "execute_result"
    },
    {
     "name": "stderr",
     "output_type": "stream",
     "text": [
      "13:33:53.76 LOG:\n",
      "13:33:53.76 .... <argument> = [756740, 735721]\n"
     ]
    },
    {
     "data": {
      "text/plain": [
       "[756740, 735721]"
      ]
     },
     "execution_count": null,
     "metadata": {},
     "output_type": "execute_result"
    },
    {
     "name": "stderr",
     "output_type": "stream",
     "text": [
      "13:33:53.77 LOG:\n",
      "13:33:53.77 .... <argument> = [1037068]\n"
     ]
    },
    {
     "data": {
      "text/plain": [
       "[1037068]"
      ]
     },
     "execution_count": null,
     "metadata": {},
     "output_type": "execute_result"
    },
    {
     "name": "stderr",
     "output_type": "stream",
     "text": [
      "13:33:53.77 LOG:\n",
      "13:33:53.77 .... <argument> = [152502, 187686]\n"
     ]
    },
    {
     "data": {
      "text/plain": [
       "[152502, 187686]"
      ]
     },
     "execution_count": null,
     "metadata": {},
     "output_type": "execute_result"
    },
    {
     "name": "stderr",
     "output_type": "stream",
     "text": [
      "13:33:53.78 LOG:\n",
      "13:33:53.78 .... <argument> = [280965]\n"
     ]
    },
    {
     "data": {
      "text/plain": [
       "[280965]"
      ]
     },
     "execution_count": null,
     "metadata": {},
     "output_type": "execute_result"
    },
    {
     "name": "stderr",
     "output_type": "stream",
     "text": [
      "13:33:53.78 LOG:\n",
      "13:33:53.78 .... <argument> = [1006198, 122983, 827580, 1424634]\n"
     ]
    },
    {
     "data": {
      "text/plain": [
       "[1006198, 122983, 827580, 1424634]"
      ]
     },
     "execution_count": null,
     "metadata": {},
     "output_type": "execute_result"
    },
    {
     "name": "stderr",
     "output_type": "stream",
     "text": [
      "13:33:53.79 LOG:\n",
      "13:33:53.79 .... <argument> = [1274966]\n"
     ]
    },
    {
     "data": {
      "text/plain": [
       "[1274966]"
      ]
     },
     "execution_count": null,
     "metadata": {},
     "output_type": "execute_result"
    },
    {
     "name": "stderr",
     "output_type": "stream",
     "text": [
      "13:33:53.80 LOG:\n",
      "13:33:53.80 .... <argument> = [1850598, 704864, 1785578]\n"
     ]
    },
    {
     "data": {
      "text/plain": [
       "[1850598, 704864, 1785578]"
      ]
     },
     "execution_count": null,
     "metadata": {},
     "output_type": "execute_result"
    },
    {
     "name": "stderr",
     "output_type": "stream",
     "text": [
      "13:33:53.80 LOG:\n",
      "13:33:53.80 .... <argument> = [1725068, 56520, 645920]\n"
     ]
    },
    {
     "data": {
      "text/plain": [
       "[1725068, 56520, 645920]"
      ]
     },
     "execution_count": null,
     "metadata": {},
     "output_type": "execute_result"
    },
    {
     "name": "stderr",
     "output_type": "stream",
     "text": [
      "13:33:53.81 LOG:\n",
      "13:33:53.81 .... <argument> = [1831227]\n"
     ]
    },
    {
     "data": {
      "text/plain": [
       "[1831227]"
      ]
     },
     "execution_count": null,
     "metadata": {},
     "output_type": "execute_result"
    },
    {
     "name": "stderr",
     "output_type": "stream",
     "text": [
      "13:33:53.81 LOG:\n",
      "13:33:53.82 .... <argument> = [1341141, 1798996, 1502600, 249286, 1242123, 1072927, 721434, 1702657]\n"
     ]
    },
    {
     "data": {
      "text/plain": [
       "[1341141, 1798996, 1502600, 249286, 1242123, 1072927, 721434, 1702657]"
      ]
     },
     "execution_count": null,
     "metadata": {},
     "output_type": "execute_result"
    },
    {
     "name": "stderr",
     "output_type": "stream",
     "text": [
      "13:33:53.82 LOG:\n",
      "13:33:53.82 .... <argument> = [1754719, 1097391, 1720028, 331491]\n"
     ]
    },
    {
     "data": {
      "text/plain": [
       "[1754719, 1097391, 1720028, 331491]"
      ]
     },
     "execution_count": null,
     "metadata": {},
     "output_type": "execute_result"
    },
    {
     "name": "stderr",
     "output_type": "stream",
     "text": [
      "13:33:53.83 LOG:\n",
      "13:33:53.83 .... <argument> = [1259138]\n"
     ]
    },
    {
     "data": {
      "text/plain": [
       "[1259138]"
      ]
     },
     "execution_count": null,
     "metadata": {},
     "output_type": "execute_result"
    },
    {
     "name": "stderr",
     "output_type": "stream",
     "text": [
      "13:33:53.83 LOG:\n",
      "13:33:53.84 .... <argument> = [980024, 654580, 119113]\n"
     ]
    },
    {
     "data": {
      "text/plain": [
       "[980024, 654580, 119113]"
      ]
     },
     "execution_count": null,
     "metadata": {},
     "output_type": "execute_result"
    },
    {
     "name": "stderr",
     "output_type": "stream",
     "text": [
      "13:33:53.84 LOG:\n",
      "13:33:53.84 .... <argument> = [423932, 1202752, 423359, 257912, 16944]\n"
     ]
    },
    {
     "data": {
      "text/plain": [
       "[423932, 1202752, 423359, 257912, 16944]"
      ]
     },
     "execution_count": null,
     "metadata": {},
     "output_type": "execute_result"
    },
    {
     "name": "stderr",
     "output_type": "stream",
     "text": [
      "13:33:53.85 LOG:\n",
      "13:33:53.85 .... <argument> = [1281746, 508776, 1430645, 425292]\n"
     ]
    },
    {
     "data": {
      "text/plain": [
       "[1281746, 508776, 1430645, 425292]"
      ]
     },
     "execution_count": null,
     "metadata": {},
     "output_type": "execute_result"
    },
    {
     "name": "stderr",
     "output_type": "stream",
     "text": [
      "13:33:53.85 LOG:\n",
      "13:33:53.85 .... <argument> = [877470, 108125, 1440439, 229371, 814997]\n"
     ]
    },
    {
     "data": {
      "text/plain": [
       "[877470, 108125, 1440439, 229371, 814997]"
      ]
     },
     "execution_count": null,
     "metadata": {},
     "output_type": "execute_result"
    },
    {
     "name": "stderr",
     "output_type": "stream",
     "text": [
      "13:33:53.86 LOG:\n",
      "13:33:53.86 .... <argument> = [469555]\n"
     ]
    },
    {
     "data": {
      "text/plain": [
       "[469555]"
      ]
     },
     "execution_count": null,
     "metadata": {},
     "output_type": "execute_result"
    },
    {
     "name": "stderr",
     "output_type": "stream",
     "text": [
      "13:33:53.86 LOG:\n",
      "13:33:53.86 .... <argument> = [174509]\n"
     ]
    },
    {
     "data": {
      "text/plain": [
       "[174509]"
      ]
     },
     "execution_count": null,
     "metadata": {},
     "output_type": "execute_result"
    },
    {
     "name": "stderr",
     "output_type": "stream",
     "text": [
      "13:33:53.87 LOG:\n",
      "13:33:53.87 .... <argument> = [145332, 18232]\n"
     ]
    },
    {
     "data": {
      "text/plain": [
       "[145332, 18232]"
      ]
     },
     "execution_count": null,
     "metadata": {},
     "output_type": "execute_result"
    },
    {
     "name": "stderr",
     "output_type": "stream",
     "text": [
      "13:33:53.87 LOG:\n",
      "13:33:53.88 .... <argument> = [1833990, 1731920, 854685, 1233030, 1604220]\n"
     ]
    },
    {
     "data": {
      "text/plain": [
       "[1833990, 1731920, 854685, 1233030, 1604220]"
      ]
     },
     "execution_count": null,
     "metadata": {},
     "output_type": "execute_result"
    },
    {
     "name": "stderr",
     "output_type": "stream",
     "text": [
      "13:33:53.88 LOG:\n",
      "13:33:53.88 .... <argument> = [149896]\n"
     ]
    },
    {
     "data": {
      "text/plain": [
       "[149896]"
      ]
     },
     "execution_count": null,
     "metadata": {},
     "output_type": "execute_result"
    },
    {
     "name": "stderr",
     "output_type": "stream",
     "text": [
      "13:33:53.89 LOG:\n",
      "13:33:53.89 .... <argument> = [309445, 1359971, 1083665]\n"
     ]
    },
    {
     "data": {
      "text/plain": [
       "[309445, 1359971, 1083665]"
      ]
     },
     "execution_count": null,
     "metadata": {},
     "output_type": "execute_result"
    },
    {
     "name": "stderr",
     "output_type": "stream",
     "text": [
      "13:33:53.89 LOG:\n",
      "13:33:53.89 .... <argument> = [1431330]\n"
     ]
    },
    {
     "data": {
      "text/plain": [
       "[1431330]"
      ]
     },
     "execution_count": null,
     "metadata": {},
     "output_type": "execute_result"
    },
    {
     "name": "stderr",
     "output_type": "stream",
     "text": [
      "13:33:53.90 LOG:\n",
      "13:33:53.90 .... <argument> = [195381]\n"
     ]
    },
    {
     "data": {
      "text/plain": [
       "[195381]"
      ]
     },
     "execution_count": null,
     "metadata": {},
     "output_type": "execute_result"
    },
    {
     "name": "stderr",
     "output_type": "stream",
     "text": [
      "13:33:53.90 LOG:\n",
      "13:33:53.91 .... <argument> = [1639066]\n"
     ]
    },
    {
     "data": {
      "text/plain": [
       "[1639066]"
      ]
     },
     "execution_count": null,
     "metadata": {},
     "output_type": "execute_result"
    },
    {
     "name": "stderr",
     "output_type": "stream",
     "text": [
      "13:33:53.91 LOG:\n",
      "13:33:53.91 .... <argument> = [1651724]\n"
     ]
    },
    {
     "data": {
      "text/plain": [
       "[1651724]"
      ]
     },
     "execution_count": null,
     "metadata": {},
     "output_type": "execute_result"
    },
    {
     "name": "stderr",
     "output_type": "stream",
     "text": [
      "13:33:53.92 LOG:\n",
      "13:33:53.92 .... <argument> = [78766,\n",
      "13:33:53.92                    946853,\n",
      "13:33:53.92                    1489732,\n",
      "13:33:53.92                    1518552,\n",
      "13:33:53.92                    551787,\n",
      "13:33:53.92                    1593526,\n",
      "13:33:53.92                    1604782,\n",
      "13:33:53.92                    1640070,\n",
      "13:33:53.92                    794870,\n",
      "13:33:53.92                    132658,\n",
      "13:33:53.92                    918490,\n",
      "13:33:53.92                    1464289,\n",
      "13:33:53.92                    916410,\n",
      "13:33:53.92                    612170]\n"
     ]
    },
    {
     "data": {
      "text/plain": [
       "[78766,\n",
       " 946853,\n",
       " 1489732,\n",
       " 1518552,\n",
       " 551787,\n",
       " 1593526,\n",
       " 1604782,\n",
       " 1640070,\n",
       " 794870,\n",
       " 132658,\n",
       " 918490,\n",
       " 1464289,\n",
       " 916410,\n",
       " 612170]"
      ]
     },
     "execution_count": null,
     "metadata": {},
     "output_type": "execute_result"
    },
    {
     "name": "stderr",
     "output_type": "stream",
     "text": [
      "13:33:53.92 LOG:\n",
      "13:33:53.93 .... <argument> = [906168, 1232627]\n"
     ]
    },
    {
     "data": {
      "text/plain": [
       "[906168, 1232627]"
      ]
     },
     "execution_count": null,
     "metadata": {},
     "output_type": "execute_result"
    },
    {
     "name": "stderr",
     "output_type": "stream",
     "text": [
      "13:33:53.93 LOG:\n",
      "13:33:53.93 .... <argument> = [331682]\n"
     ]
    },
    {
     "data": {
      "text/plain": [
       "[331682]"
      ]
     },
     "execution_count": null,
     "metadata": {},
     "output_type": "execute_result"
    },
    {
     "name": "stderr",
     "output_type": "stream",
     "text": [
      "13:33:53.94 LOG:\n",
      "13:33:53.94 .... <argument> = [642804]\n"
     ]
    },
    {
     "data": {
      "text/plain": [
       "[642804]"
      ]
     },
     "execution_count": null,
     "metadata": {},
     "output_type": "execute_result"
    },
    {
     "name": "stderr",
     "output_type": "stream",
     "text": [
      "13:33:53.95 LOG:\n",
      "13:33:53.95 .... <argument> = [1244151]\n"
     ]
    },
    {
     "data": {
      "text/plain": [
       "[1244151]"
      ]
     },
     "execution_count": null,
     "metadata": {},
     "output_type": "execute_result"
    },
    {
     "name": "stderr",
     "output_type": "stream",
     "text": [
      "13:33:53.95 LOG:\n",
      "13:33:53.95 .... <argument> = [493683]\n"
     ]
    },
    {
     "data": {
      "text/plain": [
       "[493683]"
      ]
     },
     "execution_count": null,
     "metadata": {},
     "output_type": "execute_result"
    },
    {
     "name": "stderr",
     "output_type": "stream",
     "text": [
      "13:33:53.96 LOG:\n",
      "13:33:53.96 .... <argument> = [1305920, 1635696, 931983, 137514]\n"
     ]
    },
    {
     "data": {
      "text/plain": [
       "[1305920, 1635696, 931983, 137514]"
      ]
     },
     "execution_count": null,
     "metadata": {},
     "output_type": "execute_result"
    },
    {
     "name": "stderr",
     "output_type": "stream",
     "text": [
      "13:33:53.96 LOG:\n",
      "13:33:53.97 .... <argument> = [1445562, 1012438, 762188, 801774, 798763, 1037646]\n"
     ]
    },
    {
     "data": {
      "text/plain": [
       "[1445562, 1012438, 762188, 801774, 798763, 1037646]"
      ]
     },
     "execution_count": null,
     "metadata": {},
     "output_type": "execute_result"
    },
    {
     "name": "stderr",
     "output_type": "stream",
     "text": [
      "13:33:53.97 LOG:\n",
      "13:33:53.97 .... <argument> = [1784888, 475300]\n"
     ]
    },
    {
     "data": {
      "text/plain": [
       "[1784888, 475300]"
      ]
     },
     "execution_count": null,
     "metadata": {},
     "output_type": "execute_result"
    },
    {
     "name": "stderr",
     "output_type": "stream",
     "text": [
      "13:33:53.98 LOG:\n",
      "13:33:53.98 .... <argument> = [1315944, 1625234]\n"
     ]
    },
    {
     "data": {
      "text/plain": [
       "[1315944, 1625234]"
      ]
     },
     "execution_count": null,
     "metadata": {},
     "output_type": "execute_result"
    },
    {
     "name": "stderr",
     "output_type": "stream",
     "text": [
      "13:33:53.98 LOG:\n",
      "13:33:53.99 .... <argument> = [1830813]\n"
     ]
    },
    {
     "data": {
      "text/plain": [
       "[1830813]"
      ]
     },
     "execution_count": null,
     "metadata": {},
     "output_type": "execute_result"
    },
    {
     "name": "stderr",
     "output_type": "stream",
     "text": [
      "13:33:53.99 LOG:\n",
      "13:33:53.99 .... <argument> = [1389984]\n"
     ]
    },
    {
     "data": {
      "text/plain": [
       "[1389984]"
      ]
     },
     "execution_count": null,
     "metadata": {},
     "output_type": "execute_result"
    },
    {
     "name": "stderr",
     "output_type": "stream",
     "text": [
      "13:33:54.00 LOG:\n",
      "13:33:54.00 .... <argument> = [1731425, 139139, 235135]\n"
     ]
    },
    {
     "data": {
      "text/plain": [
       "[1731425, 139139, 235135]"
      ]
     },
     "execution_count": null,
     "metadata": {},
     "output_type": "execute_result"
    },
    {
     "name": "stderr",
     "output_type": "stream",
     "text": [
      "13:33:54.01 LOG:\n",
      "13:33:54.01 .... <argument> = [1469891]\n"
     ]
    },
    {
     "data": {
      "text/plain": [
       "[1469891]"
      ]
     },
     "execution_count": null,
     "metadata": {},
     "output_type": "execute_result"
    },
    {
     "name": "stderr",
     "output_type": "stream",
     "text": [
      "13:33:54.01 LOG:\n",
      "13:33:54.01 .... <argument> = [1668511]\n"
     ]
    },
    {
     "data": {
      "text/plain": [
       "[1668511]"
      ]
     },
     "execution_count": null,
     "metadata": {},
     "output_type": "execute_result"
    },
    {
     "name": "stderr",
     "output_type": "stream",
     "text": [
      "13:33:54.02 LOG:\n",
      "13:33:54.02 .... <argument> = [494878, 206969, 1031119, 1577128, 269651, 1057733, 1644278]\n"
     ]
    },
    {
     "data": {
      "text/plain": [
       "[494878, 206969, 1031119, 1577128, 269651, 1057733, 1644278]"
      ]
     },
     "execution_count": null,
     "metadata": {},
     "output_type": "execute_result"
    },
    {
     "name": "stderr",
     "output_type": "stream",
     "text": [
      "13:33:54.03 LOG:\n",
      "13:33:54.03 .... <argument> = [758525]\n"
     ]
    },
    {
     "data": {
      "text/plain": [
       "[758525]"
      ]
     },
     "execution_count": null,
     "metadata": {},
     "output_type": "execute_result"
    },
    {
     "name": "stderr",
     "output_type": "stream",
     "text": [
      "13:33:54.03 LOG:\n",
      "13:33:54.03 .... <argument> = [411271]\n"
     ]
    },
    {
     "data": {
      "text/plain": [
       "[411271]"
      ]
     },
     "execution_count": null,
     "metadata": {},
     "output_type": "execute_result"
    },
    {
     "name": "stderr",
     "output_type": "stream",
     "text": [
      "13:33:54.04 LOG:\n",
      "13:33:54.04 .... <argument> = [563432, 418027, 10116, 788890, 1776244]\n"
     ]
    },
    {
     "data": {
      "text/plain": [
       "[563432, 418027, 10116, 788890, 1776244]"
      ]
     },
     "execution_count": null,
     "metadata": {},
     "output_type": "execute_result"
    },
    {
     "name": "stderr",
     "output_type": "stream",
     "text": [
      "13:33:54.05 LOG:\n",
      "13:33:54.05 .... <argument> = [281464, 204813, 880589, 1011530, 828327, 1585788, 1567816]\n"
     ]
    },
    {
     "data": {
      "text/plain": [
       "[281464, 204813, 880589, 1011530, 828327, 1585788, 1567816]"
      ]
     },
     "execution_count": null,
     "metadata": {},
     "output_type": "execute_result"
    },
    {
     "name": "stderr",
     "output_type": "stream",
     "text": [
      "13:33:54.05 LOG:\n",
      "13:33:54.06 .... <argument> = [584027, 510488]\n"
     ]
    },
    {
     "data": {
      "text/plain": [
       "[584027, 510488]"
      ]
     },
     "execution_count": null,
     "metadata": {},
     "output_type": "execute_result"
    },
    {
     "name": "stderr",
     "output_type": "stream",
     "text": [
      "13:33:54.06 LOG:\n",
      "13:33:54.06 .... <argument> = [1372457, 617783]\n"
     ]
    },
    {
     "data": {
      "text/plain": [
       "[1372457, 617783]"
      ]
     },
     "execution_count": null,
     "metadata": {},
     "output_type": "execute_result"
    },
    {
     "name": "stderr",
     "output_type": "stream",
     "text": [
      "13:33:54.07 LOG:\n",
      "13:33:54.07 .... <argument> = [21305, 755127]\n"
     ]
    },
    {
     "data": {
      "text/plain": [
       "[21305, 755127]"
      ]
     },
     "execution_count": null,
     "metadata": {},
     "output_type": "execute_result"
    },
    {
     "name": "stderr",
     "output_type": "stream",
     "text": [
      "13:33:54.08 LOG:\n",
      "13:33:54.08 .... <argument> = [1314491]\n"
     ]
    },
    {
     "data": {
      "text/plain": [
       "[1314491]"
      ]
     },
     "execution_count": null,
     "metadata": {},
     "output_type": "execute_result"
    },
    {
     "name": "stderr",
     "output_type": "stream",
     "text": [
      "13:33:54.08 LOG:\n",
      "13:33:54.09 .... <argument> = [153704, 1597834, 1515955, 1723905, 478707]\n"
     ]
    },
    {
     "data": {
      "text/plain": [
       "[153704, 1597834, 1515955, 1723905, 478707]"
      ]
     },
     "execution_count": null,
     "metadata": {},
     "output_type": "execute_result"
    },
    {
     "name": "stderr",
     "output_type": "stream",
     "text": [
      "13:33:54.09 LOG:\n",
      "13:33:54.09 .... <argument> = [1333254, 846265, 977500, 185252, 1776347, 1318316, 422078]\n"
     ]
    },
    {
     "data": {
      "text/plain": [
       "[1333254, 846265, 977500, 185252, 1776347, 1318316, 422078]"
      ]
     },
     "execution_count": null,
     "metadata": {},
     "output_type": "execute_result"
    },
    {
     "name": "stderr",
     "output_type": "stream",
     "text": [
      "13:33:54.10 LOG:\n",
      "13:33:54.10 .... <argument> = [1397987]\n"
     ]
    },
    {
     "data": {
      "text/plain": [
       "[1397987]"
      ]
     },
     "execution_count": null,
     "metadata": {},
     "output_type": "execute_result"
    },
    {
     "name": "stderr",
     "output_type": "stream",
     "text": [
      "13:33:54.10 LOG:\n",
      "13:33:54.11 .... <argument> = [624674, 1351114, 1032830, 1721372, 1231891]\n"
     ]
    },
    {
     "data": {
      "text/plain": [
       "[624674, 1351114, 1032830, 1721372, 1231891]"
      ]
     },
     "execution_count": null,
     "metadata": {},
     "output_type": "execute_result"
    },
    {
     "name": "stderr",
     "output_type": "stream",
     "text": [
      "13:33:54.11 LOG:\n",
      "13:33:54.11 .... <argument> = [1157411, 114092]\n"
     ]
    },
    {
     "data": {
      "text/plain": [
       "[1157411, 114092]"
      ]
     },
     "execution_count": null,
     "metadata": {},
     "output_type": "execute_result"
    },
    {
     "name": "stderr",
     "output_type": "stream",
     "text": [
      "13:33:54.12 LOG:\n",
      "13:33:54.12 .... <argument> = [735729]\n"
     ]
    },
    {
     "data": {
      "text/plain": [
       "[735729]"
      ]
     },
     "execution_count": null,
     "metadata": {},
     "output_type": "execute_result"
    },
    {
     "name": "stderr",
     "output_type": "stream",
     "text": [
      "13:33:54.12 LOG:\n",
      "13:33:54.13 .... <argument> = [490563, 1479826, 910319]\n"
     ]
    },
    {
     "data": {
      "text/plain": [
       "[490563, 1479826, 910319]"
      ]
     },
     "execution_count": null,
     "metadata": {},
     "output_type": "execute_result"
    },
    {
     "name": "stderr",
     "output_type": "stream",
     "text": [
      "13:33:54.13 LOG:\n",
      "13:33:54.13 .... <argument> = [1629155]\n"
     ]
    },
    {
     "data": {
      "text/plain": [
       "[1629155]"
      ]
     },
     "execution_count": null,
     "metadata": {},
     "output_type": "execute_result"
    },
    {
     "name": "stderr",
     "output_type": "stream",
     "text": [
      "13:33:54.14 LOG:\n",
      "13:33:54.14 .... <argument> = [892964]\n"
     ]
    },
    {
     "data": {
      "text/plain": [
       "[892964]"
      ]
     },
     "execution_count": null,
     "metadata": {},
     "output_type": "execute_result"
    },
    {
     "name": "stderr",
     "output_type": "stream",
     "text": [
      "13:33:54.15 LOG:\n",
      "13:33:54.15 .... <argument> = [110836]\n"
     ]
    },
    {
     "data": {
      "text/plain": [
       "[110836]"
      ]
     },
     "execution_count": null,
     "metadata": {},
     "output_type": "execute_result"
    },
    {
     "name": "stderr",
     "output_type": "stream",
     "text": [
      "13:33:54.15 LOG:\n",
      "13:33:54.15 .... <argument> = [350152, 869726, 1444266]\n"
     ]
    },
    {
     "data": {
      "text/plain": [
       "[350152, 869726, 1444266]"
      ]
     },
     "execution_count": null,
     "metadata": {},
     "output_type": "execute_result"
    },
    {
     "name": "stderr",
     "output_type": "stream",
     "text": [
      "13:33:54.16 LOG:\n",
      "13:33:54.16 .... <argument> = [1451358, 230100]\n"
     ]
    },
    {
     "data": {
      "text/plain": [
       "[1451358, 230100]"
      ]
     },
     "execution_count": null,
     "metadata": {},
     "output_type": "execute_result"
    },
    {
     "name": "stderr",
     "output_type": "stream",
     "text": [
      "13:33:54.17 LOG:\n",
      "13:33:54.17 .... <argument> = [1326157]\n"
     ]
    },
    {
     "data": {
      "text/plain": [
       "[1326157]"
      ]
     },
     "execution_count": null,
     "metadata": {},
     "output_type": "execute_result"
    },
    {
     "name": "stderr",
     "output_type": "stream",
     "text": [
      "13:33:54.17 LOG:\n",
      "13:33:54.18 .... <argument> = [1280716, 337471, 1793171]\n"
     ]
    },
    {
     "data": {
      "text/plain": [
       "[1280716, 337471, 1793171]"
      ]
     },
     "execution_count": null,
     "metadata": {},
     "output_type": "execute_result"
    },
    {
     "name": "stderr",
     "output_type": "stream",
     "text": [
      "13:33:54.18 LOG:\n",
      "13:33:54.18 .... <argument> = [1844379, 1363719, 236756, 114275, 171093, 1569122]\n"
     ]
    },
    {
     "data": {
      "text/plain": [
       "[1844379, 1363719, 236756, 114275, 171093, 1569122]"
      ]
     },
     "execution_count": null,
     "metadata": {},
     "output_type": "execute_result"
    },
    {
     "name": "stderr",
     "output_type": "stream",
     "text": [
      "13:33:54.19 LOG:\n",
      "13:33:54.19 .... <argument> = [99634]\n"
     ]
    },
    {
     "data": {
      "text/plain": [
       "[99634]"
      ]
     },
     "execution_count": null,
     "metadata": {},
     "output_type": "execute_result"
    },
    {
     "name": "stderr",
     "output_type": "stream",
     "text": [
      "13:33:54.19 LOG:\n",
      "13:33:54.20 .... <argument> = [1489526,\n",
      "13:33:54.20                    1320014,\n",
      "13:33:54.20                    382802,\n",
      "13:33:54.20                    1309446,\n",
      "13:33:54.20                    47128,\n",
      "13:33:54.20                    572266,\n",
      "13:33:54.20                    6602,\n",
      "13:33:54.20                    51631,\n",
      "13:33:54.20                    1844682,\n",
      "13:33:54.20                    564157,\n",
      "13:33:54.20                    954198,\n",
      "13:33:54.20                    1387430,\n",
      "13:33:54.20                    282400,\n",
      "13:33:54.20                    76420,\n",
      "13:33:54.20                    549612]\n"
     ]
    },
    {
     "data": {
      "text/plain": [
       "[1489526,\n",
       " 1320014,\n",
       " 382802,\n",
       " 1309446,\n",
       " 47128,\n",
       " 572266,\n",
       " 6602,\n",
       " 51631,\n",
       " 1844682,\n",
       " 564157,\n",
       " 954198,\n",
       " 1387430,\n",
       " 282400,\n",
       " 76420,\n",
       " 549612]"
      ]
     },
     "execution_count": null,
     "metadata": {},
     "output_type": "execute_result"
    },
    {
     "name": "stderr",
     "output_type": "stream",
     "text": [
      "13:33:54.20 LOG:\n",
      "13:33:54.20 .... <argument> = [733694]\n"
     ]
    },
    {
     "data": {
      "text/plain": [
       "[733694]"
      ]
     },
     "execution_count": null,
     "metadata": {},
     "output_type": "execute_result"
    },
    {
     "name": "stderr",
     "output_type": "stream",
     "text": [
      "13:33:54.21 LOG:\n",
      "13:33:54.21 .... <argument> = [1518154]\n"
     ]
    },
    {
     "data": {
      "text/plain": [
       "[1518154]"
      ]
     },
     "execution_count": null,
     "metadata": {},
     "output_type": "execute_result"
    },
    {
     "name": "stderr",
     "output_type": "stream",
     "text": [
      "13:33:54.21 LOG:\n",
      "13:33:54.21 .... <argument> = [1706228, 676748, 420672, 1566944, 1572293, 489254, 435804, 1815596]\n"
     ]
    },
    {
     "data": {
      "text/plain": [
       "[1706228, 676748, 420672, 1566944, 1572293, 489254, 435804, 1815596]"
      ]
     },
     "execution_count": null,
     "metadata": {},
     "output_type": "execute_result"
    },
    {
     "name": "stderr",
     "output_type": "stream",
     "text": [
      "13:33:54.22 LOG:\n",
      "13:33:54.22 .... <argument> = [1358508, 1539309]\n"
     ]
    },
    {
     "data": {
      "text/plain": [
       "[1358508, 1539309]"
      ]
     },
     "execution_count": null,
     "metadata": {},
     "output_type": "execute_result"
    },
    {
     "name": "stderr",
     "output_type": "stream",
     "text": [
      "13:33:54.23 LOG:\n",
      "13:33:54.23 .... <argument> = [1588564, 1034447]\n"
     ]
    },
    {
     "data": {
      "text/plain": [
       "[1588564, 1034447]"
      ]
     },
     "execution_count": null,
     "metadata": {},
     "output_type": "execute_result"
    },
    {
     "name": "stderr",
     "output_type": "stream",
     "text": [
      "13:33:54.23 LOG:\n",
      "13:33:54.23 .... <argument> = [664595, 1201727, 1132166, 1485093, 1441583, 1789712]\n"
     ]
    },
    {
     "data": {
      "text/plain": [
       "[664595, 1201727, 1132166, 1485093, 1441583, 1789712]"
      ]
     },
     "execution_count": null,
     "metadata": {},
     "output_type": "execute_result"
    },
    {
     "name": "stderr",
     "output_type": "stream",
     "text": [
      "13:33:54.24 LOG:\n",
      "13:33:54.24 .... <argument> = [106566]\n"
     ]
    },
    {
     "data": {
      "text/plain": [
       "[106566]"
      ]
     },
     "execution_count": null,
     "metadata": {},
     "output_type": "execute_result"
    },
    {
     "name": "stderr",
     "output_type": "stream",
     "text": [
      "13:33:54.25 LOG:\n",
      "13:33:54.25 .... <argument> = [1082417, 1715883, 392910, 785135, 215156]\n"
     ]
    },
    {
     "data": {
      "text/plain": [
       "[1082417, 1715883, 392910, 785135, 215156]"
      ]
     },
     "execution_count": null,
     "metadata": {},
     "output_type": "execute_result"
    },
    {
     "name": "stderr",
     "output_type": "stream",
     "text": [
      "13:33:54.25 LOG:\n",
      "13:33:54.25 .... <argument> = [215618, 389871, 1313777, 141364, 398325, 1436002, 349161, 365577, 645357]\n"
     ]
    },
    {
     "data": {
      "text/plain": [
       "[215618, 389871, 1313777, 141364, 398325, 1436002, 349161, 365577, 645357]"
      ]
     },
     "execution_count": null,
     "metadata": {},
     "output_type": "execute_result"
    },
    {
     "name": "stderr",
     "output_type": "stream",
     "text": [
      "13:33:54.26 LOG:\n",
      "13:33:54.26 .... <argument> = [1428321,\n",
      "13:33:54.26                    277870,\n",
      "13:33:54.26                    461590,\n",
      "13:33:54.26                    1847290,\n",
      "13:33:54.26                    582057,\n",
      "13:33:54.26                    1795294,\n",
      "13:33:54.26                    571627,\n",
      "13:33:54.26                    1209771,\n",
      "13:33:54.26                    72748,\n",
      "13:33:54.26                    1430563,\n",
      "13:33:54.26                    1098720,\n",
      "13:33:54.26                    181044]\n"
     ]
    },
    {
     "data": {
      "text/plain": [
       "[1428321,\n",
       " 277870,\n",
       " 461590,\n",
       " 1847290,\n",
       " 582057,\n",
       " 1795294,\n",
       " 571627,\n",
       " 1209771,\n",
       " 72748,\n",
       " 1430563,\n",
       " 1098720,\n",
       " 181044]"
      ]
     },
     "execution_count": null,
     "metadata": {},
     "output_type": "execute_result"
    },
    {
     "name": "stderr",
     "output_type": "stream",
     "text": [
      "13:33:54.27 LOG:\n",
      "13:33:54.27 .... <argument> = [227603,\n",
      "13:33:54.27                    514478,\n",
      "13:33:54.27                    258021,\n",
      "13:33:54.27                    717853,\n",
      "13:33:54.27                    1676344,\n",
      "13:33:54.27                    1837614,\n",
      "13:33:54.27                    827776,\n",
      "13:33:54.27                    39862,\n",
      "13:33:54.27                    953545,\n",
      "13:33:54.27                    284960,\n",
      "13:33:54.27                    612693]\n"
     ]
    },
    {
     "data": {
      "text/plain": [
       "[227603,\n",
       " 514478,\n",
       " 258021,\n",
       " 717853,\n",
       " 1676344,\n",
       " 1837614,\n",
       " 827776,\n",
       " 39862,\n",
       " 953545,\n",
       " 284960,\n",
       " 612693]"
      ]
     },
     "execution_count": null,
     "metadata": {},
     "output_type": "execute_result"
    },
    {
     "name": "stderr",
     "output_type": "stream",
     "text": [
      "13:33:54.27 LOG:\n",
      "13:33:54.28 .... <argument> = [832192]\n"
     ]
    },
    {
     "data": {
      "text/plain": [
       "[832192]"
      ]
     },
     "execution_count": null,
     "metadata": {},
     "output_type": "execute_result"
    },
    {
     "name": "stderr",
     "output_type": "stream",
     "text": [
      "13:33:54.28 LOG:\n",
      "13:33:54.28 .... <argument> = [1663342, 520820]\n"
     ]
    },
    {
     "data": {
      "text/plain": [
       "[1663342, 520820]"
      ]
     },
     "execution_count": null,
     "metadata": {},
     "output_type": "execute_result"
    },
    {
     "name": "stderr",
     "output_type": "stream",
     "text": [
      "13:33:54.29 LOG:\n",
      "13:33:54.29 .... <argument> = [1262947, 1237554, 1290996, 314795, 1647528, 159173]\n"
     ]
    },
    {
     "data": {
      "text/plain": [
       "[1262947, 1237554, 1290996, 314795, 1647528, 159173]"
      ]
     },
     "execution_count": null,
     "metadata": {},
     "output_type": "execute_result"
    },
    {
     "name": "stderr",
     "output_type": "stream",
     "text": [
      "13:33:54.30 LOG:\n",
      "13:33:54.30 .... <argument> = [549612, 1384693, 536184, 670066, 1733943, 712423, 352474, 952175]\n"
     ]
    },
    {
     "data": {
      "text/plain": [
       "[549612, 1384693, 536184, 670066, 1733943, 712423, 352474, 952175]"
      ]
     },
     "execution_count": null,
     "metadata": {},
     "output_type": "execute_result"
    },
    {
     "name": "stderr",
     "output_type": "stream",
     "text": [
      "13:33:54.30 LOG:\n",
      "13:33:54.31 .... <argument> = [1455953]\n"
     ]
    },
    {
     "data": {
      "text/plain": [
       "[1455953]"
      ]
     },
     "execution_count": null,
     "metadata": {},
     "output_type": "execute_result"
    },
    {
     "name": "stderr",
     "output_type": "stream",
     "text": [
      "13:33:54.31 LOG:\n",
      "13:33:54.31 .... <argument> = [864394]\n"
     ]
    },
    {
     "data": {
      "text/plain": [
       "[864394]"
      ]
     },
     "execution_count": null,
     "metadata": {},
     "output_type": "execute_result"
    },
    {
     "name": "stderr",
     "output_type": "stream",
     "text": [
      "13:33:54.32 LOG:\n",
      "13:33:54.32 .... <argument> = [108197]\n"
     ]
    },
    {
     "data": {
      "text/plain": [
       "[108197]"
      ]
     },
     "execution_count": null,
     "metadata": {},
     "output_type": "execute_result"
    },
    {
     "name": "stderr",
     "output_type": "stream",
     "text": [
      "13:33:54.32 LOG:\n",
      "13:33:54.33 .... <argument> = [979900]\n"
     ]
    },
    {
     "data": {
      "text/plain": [
       "[979900]"
      ]
     },
     "execution_count": null,
     "metadata": {},
     "output_type": "execute_result"
    },
    {
     "name": "stderr",
     "output_type": "stream",
     "text": [
      "13:33:54.33 LOG:\n",
      "13:33:54.33 .... <argument> = [495435, 1746663]\n"
     ]
    },
    {
     "data": {
      "text/plain": [
       "[495435, 1746663]"
      ]
     },
     "execution_count": null,
     "metadata": {},
     "output_type": "execute_result"
    },
    {
     "name": "stderr",
     "output_type": "stream",
     "text": [
      "13:33:54.34 LOG:\n",
      "13:33:54.34 .... <argument> = [1157411]\n"
     ]
    },
    {
     "data": {
      "text/plain": [
       "[1157411]"
      ]
     },
     "execution_count": null,
     "metadata": {},
     "output_type": "execute_result"
    },
    {
     "name": "stderr",
     "output_type": "stream",
     "text": [
      "13:33:54.35 LOG:\n",
      "13:33:54.35 .... <argument> = [1474672,\n",
      "13:33:54.35                    588279,\n",
      "13:33:54.35                    549327,\n",
      "13:33:54.35                    458188,\n",
      "13:33:54.35                    120840,\n",
      "13:33:54.35                    347814,\n",
      "13:33:54.35                    970074,\n",
      "13:33:54.35                    842757,\n",
      "13:33:54.35                    501373,\n",
      "13:33:54.35                    1140879,\n",
      "13:33:54.35                    1362717,\n",
      "13:33:54.35                    258596,\n",
      "13:33:54.35                    743155,\n",
      "13:33:54.35                    665796]\n"
     ]
    },
    {
     "data": {
      "text/plain": [
       "[1474672,\n",
       " 588279,\n",
       " 549327,\n",
       " 458188,\n",
       " 120840,\n",
       " 347814,\n",
       " 970074,\n",
       " 842757,\n",
       " 501373,\n",
       " 1140879,\n",
       " 1362717,\n",
       " 258596,\n",
       " 743155,\n",
       " 665796]"
      ]
     },
     "execution_count": null,
     "metadata": {},
     "output_type": "execute_result"
    },
    {
     "name": "stderr",
     "output_type": "stream",
     "text": [
      "13:33:54.35 LOG:\n",
      "13:33:54.36 .... <argument> = [290143, 992663]\n"
     ]
    },
    {
     "data": {
      "text/plain": [
       "[290143, 992663]"
      ]
     },
     "execution_count": null,
     "metadata": {},
     "output_type": "execute_result"
    },
    {
     "name": "stderr",
     "output_type": "stream",
     "text": [
      "13:33:54.36 LOG:\n",
      "13:33:54.36 .... <argument> = [28614, 387139]\n"
     ]
    },
    {
     "data": {
      "text/plain": [
       "[28614, 387139]"
      ]
     },
     "execution_count": null,
     "metadata": {},
     "output_type": "execute_result"
    },
    {
     "name": "stderr",
     "output_type": "stream",
     "text": [
      "13:33:54.37 LOG:\n",
      "13:33:54.37 .... <argument> = [1368314]\n"
     ]
    },
    {
     "data": {
      "text/plain": [
       "[1368314]"
      ]
     },
     "execution_count": null,
     "metadata": {},
     "output_type": "execute_result"
    },
    {
     "name": "stderr",
     "output_type": "stream",
     "text": [
      "13:33:54.38 LOG:\n",
      "13:33:54.38 .... <argument> = [49928, 1377352, 1848591, 909140]\n"
     ]
    },
    {
     "data": {
      "text/plain": [
       "[49928, 1377352, 1848591, 909140]"
      ]
     },
     "execution_count": null,
     "metadata": {},
     "output_type": "execute_result"
    },
    {
     "name": "stderr",
     "output_type": "stream",
     "text": [
      "13:33:54.38 LOG:\n",
      "13:33:54.38 .... <argument> = [694960, 988362]\n"
     ]
    },
    {
     "data": {
      "text/plain": [
       "[694960, 988362]"
      ]
     },
     "execution_count": null,
     "metadata": {},
     "output_type": "execute_result"
    },
    {
     "name": "stderr",
     "output_type": "stream",
     "text": [
      "13:33:54.39 LOG:\n",
      "13:33:54.39 .... <argument> = [916619]\n"
     ]
    },
    {
     "data": {
      "text/plain": [
       "[916619]"
      ]
     },
     "execution_count": null,
     "metadata": {},
     "output_type": "execute_result"
    },
    {
     "name": "stderr",
     "output_type": "stream",
     "text": [
      "13:33:54.39 LOG:\n",
      "13:33:54.39 .... <argument> = [1116095]\n"
     ]
    },
    {
     "data": {
      "text/plain": [
       "[1116095]"
      ]
     },
     "execution_count": null,
     "metadata": {},
     "output_type": "execute_result"
    },
    {
     "name": "stderr",
     "output_type": "stream",
     "text": [
      "13:33:54.40 LOG:\n",
      "13:33:54.40 .... <argument> = [1570000, 1565649]\n"
     ]
    },
    {
     "data": {
      "text/plain": [
       "[1570000, 1565649]"
      ]
     },
     "execution_count": null,
     "metadata": {},
     "output_type": "execute_result"
    },
    {
     "name": "stderr",
     "output_type": "stream",
     "text": [
      "13:33:54.40 LOG:\n",
      "13:33:54.40 .... <argument> = [771166, 884589, 1842716, 596109, 228284, 472804]\n"
     ]
    },
    {
     "data": {
      "text/plain": [
       "[771166, 884589, 1842716, 596109, 228284, 472804]"
      ]
     },
     "execution_count": null,
     "metadata": {},
     "output_type": "execute_result"
    },
    {
     "name": "stderr",
     "output_type": "stream",
     "text": [
      "13:33:54.41 LOG:\n",
      "13:33:54.41 .... <argument> = [591925]\n"
     ]
    },
    {
     "data": {
      "text/plain": [
       "[591925]"
      ]
     },
     "execution_count": null,
     "metadata": {},
     "output_type": "execute_result"
    },
    {
     "name": "stderr",
     "output_type": "stream",
     "text": [
      "13:33:54.42 LOG:\n",
      "13:33:54.42 .... <argument> = [1406560]\n"
     ]
    },
    {
     "data": {
      "text/plain": [
       "[1406560]"
      ]
     },
     "execution_count": null,
     "metadata": {},
     "output_type": "execute_result"
    },
    {
     "name": "stderr",
     "output_type": "stream",
     "text": [
      "13:33:54.42 LOG:\n",
      "13:33:54.43 .... <argument> = [406905]\n"
     ]
    },
    {
     "data": {
      "text/plain": [
       "[406905]"
      ]
     },
     "execution_count": null,
     "metadata": {},
     "output_type": "execute_result"
    },
    {
     "name": "stderr",
     "output_type": "stream",
     "text": [
      "13:33:54.43 LOG:\n",
      "13:33:54.43 .... <argument> = [622789]\n"
     ]
    },
    {
     "data": {
      "text/plain": [
       "[622789]"
      ]
     },
     "execution_count": null,
     "metadata": {},
     "output_type": "execute_result"
    },
    {
     "name": "stderr",
     "output_type": "stream",
     "text": [
      "13:33:54.44 LOG:\n",
      "13:33:54.44 .... <argument> = [971341, 679167, 799923]\n"
     ]
    },
    {
     "data": {
      "text/plain": [
       "[971341, 679167, 799923]"
      ]
     },
     "execution_count": null,
     "metadata": {},
     "output_type": "execute_result"
    },
    {
     "name": "stderr",
     "output_type": "stream",
     "text": [
      "13:33:54.45 LOG:\n",
      "13:33:54.45 .... <argument> = [1350248,\n",
      "13:33:54.45                    1452148,\n",
      "13:33:54.45                    879717,\n",
      "13:33:54.45                    1606221,\n",
      "13:33:54.45                    283428,\n",
      "13:33:54.45                    176070,\n",
      "13:33:54.45                    163984,\n",
      "13:33:54.45                    28771,\n",
      "13:33:54.45                    1701031,\n",
      "13:33:54.45                    147716]\n"
     ]
    },
    {
     "data": {
      "text/plain": [
       "[1350248,\n",
       " 1452148,\n",
       " 879717,\n",
       " 1606221,\n",
       " 283428,\n",
       " 176070,\n",
       " 163984,\n",
       " 28771,\n",
       " 1701031,\n",
       " 147716]"
      ]
     },
     "execution_count": null,
     "metadata": {},
     "output_type": "execute_result"
    },
    {
     "name": "stderr",
     "output_type": "stream",
     "text": [
      "13:33:54.45 LOG:\n",
      "13:33:54.45 .... <argument> = [241332]\n"
     ]
    },
    {
     "data": {
      "text/plain": [
       "[241332]"
      ]
     },
     "execution_count": null,
     "metadata": {},
     "output_type": "execute_result"
    },
    {
     "name": "stderr",
     "output_type": "stream",
     "text": [
      "13:33:54.46 LOG:\n",
      "13:33:54.46 .... <argument> = [1423964, 540036]\n"
     ]
    },
    {
     "data": {
      "text/plain": [
       "[1423964, 540036]"
      ]
     },
     "execution_count": null,
     "metadata": {},
     "output_type": "execute_result"
    },
    {
     "name": "stderr",
     "output_type": "stream",
     "text": [
      "13:33:54.47 LOG:\n",
      "13:33:54.47 .... <argument> = [469321, 1794690]\n"
     ]
    },
    {
     "data": {
      "text/plain": [
       "[469321, 1794690]"
      ]
     },
     "execution_count": null,
     "metadata": {},
     "output_type": "execute_result"
    },
    {
     "name": "stderr",
     "output_type": "stream",
     "text": [
      "13:33:54.47 LOG:\n",
      "13:33:54.47 .... <argument> = [341365, 1119263]\n"
     ]
    },
    {
     "data": {
      "text/plain": [
       "[341365, 1119263]"
      ]
     },
     "execution_count": null,
     "metadata": {},
     "output_type": "execute_result"
    },
    {
     "name": "stderr",
     "output_type": "stream",
     "text": [
      "13:33:54.48 LOG:\n",
      "13:33:54.48 .... <argument> = [286820, 627426, 224409, 291229]\n"
     ]
    },
    {
     "data": {
      "text/plain": [
       "[286820, 627426, 224409, 291229]"
      ]
     },
     "execution_count": null,
     "metadata": {},
     "output_type": "execute_result"
    },
    {
     "name": "stderr",
     "output_type": "stream",
     "text": [
      "13:33:54.48 LOG:\n",
      "13:33:54.48 .... <argument> = [772127, 792196, 909449, 1526552, 363506]\n"
     ]
    },
    {
     "data": {
      "text/plain": [
       "[772127, 792196, 909449, 1526552, 363506]"
      ]
     },
     "execution_count": null,
     "metadata": {},
     "output_type": "execute_result"
    },
    {
     "name": "stderr",
     "output_type": "stream",
     "text": [
      "13:33:54.49 LOG:\n",
      "13:33:54.49 .... <argument> = [820242,\n",
      "13:33:54.49                    1425053,\n",
      "13:33:54.49                    247872,\n",
      "13:33:54.49                    462254,\n",
      "13:33:54.49                    440409,\n",
      "13:33:54.49                    1823141,\n",
      "13:33:54.49                    258709,\n",
      "13:33:54.49                    1122211,\n",
      "13:33:54.49                    252092,\n",
      "13:33:54.49                    289406,\n",
      "13:33:54.49                    285492,\n",
      "13:33:54.49                    1575992]\n"
     ]
    },
    {
     "data": {
      "text/plain": [
       "[820242,\n",
       " 1425053,\n",
       " 247872,\n",
       " 462254,\n",
       " 440409,\n",
       " 1823141,\n",
       " 258709,\n",
       " 1122211,\n",
       " 252092,\n",
       " 289406,\n",
       " 285492,\n",
       " 1575992]"
      ]
     },
     "execution_count": null,
     "metadata": {},
     "output_type": "execute_result"
    },
    {
     "name": "stderr",
     "output_type": "stream",
     "text": [
      "13:33:54.50 LOG:\n",
      "13:33:54.50 .... <argument> = [1420543, 1802029]\n"
     ]
    },
    {
     "data": {
      "text/plain": [
       "[1420543, 1802029]"
      ]
     },
     "execution_count": null,
     "metadata": {},
     "output_type": "execute_result"
    },
    {
     "name": "stderr",
     "output_type": "stream",
     "text": [
      "13:33:54.51 LOG:\n",
      "13:33:54.51 .... <argument> = [55272]\n"
     ]
    },
    {
     "data": {
      "text/plain": [
       "[55272]"
      ]
     },
     "execution_count": null,
     "metadata": {},
     "output_type": "execute_result"
    },
    {
     "name": "stderr",
     "output_type": "stream",
     "text": [
      "13:33:54.51 LOG:\n",
      "13:33:54.51 .... <argument> = [944895]\n"
     ]
    },
    {
     "data": {
      "text/plain": [
       "[944895]"
      ]
     },
     "execution_count": null,
     "metadata": {},
     "output_type": "execute_result"
    },
    {
     "name": "stderr",
     "output_type": "stream",
     "text": [
      "13:33:54.52 LOG:\n",
      "13:33:54.52 .... <argument> = [856266, 805826, 50154, 1141033, 293000]\n"
     ]
    },
    {
     "data": {
      "text/plain": [
       "[856266, 805826, 50154, 1141033, 293000]"
      ]
     },
     "execution_count": null,
     "metadata": {},
     "output_type": "execute_result"
    },
    {
     "name": "stderr",
     "output_type": "stream",
     "text": [
      "13:33:54.52 LOG:\n",
      "13:33:54.53 .... <argument> = [126478,\n",
      "13:33:54.53                    410490,\n",
      "13:33:54.53                    919278,\n",
      "13:33:54.53                    1764976,\n",
      "13:33:54.53                    860722,\n",
      "13:33:54.53                    1519088,\n",
      "13:33:54.53                    523174,\n",
      "13:33:54.53                    307097,\n",
      "13:33:54.53                    1689044,\n",
      "13:33:54.53                    409620]\n"
     ]
    },
    {
     "data": {
      "text/plain": [
       "[126478,\n",
       " 410490,\n",
       " 919278,\n",
       " 1764976,\n",
       " 860722,\n",
       " 1519088,\n",
       " 523174,\n",
       " 307097,\n",
       " 1689044,\n",
       " 409620]"
      ]
     },
     "execution_count": null,
     "metadata": {},
     "output_type": "execute_result"
    },
    {
     "name": "stderr",
     "output_type": "stream",
     "text": [
      "13:33:54.53 LOG:\n",
      "13:33:54.53 .... <argument> = [1477413, 518510, 1373193, 225259, 375966]\n"
     ]
    },
    {
     "data": {
      "text/plain": [
       "[1477413, 518510, 1373193, 225259, 375966]"
      ]
     },
     "execution_count": null,
     "metadata": {},
     "output_type": "execute_result"
    },
    {
     "name": "stderr",
     "output_type": "stream",
     "text": [
      "13:33:54.54 LOG:\n",
      "13:33:54.54 .... <argument> = [229899]\n"
     ]
    },
    {
     "data": {
      "text/plain": [
       "[229899]"
      ]
     },
     "execution_count": null,
     "metadata": {},
     "output_type": "execute_result"
    },
    {
     "name": "stderr",
     "output_type": "stream",
     "text": [
      "13:33:54.54 LOG:\n",
      "13:33:54.55 .... <argument> = [856323]\n"
     ]
    },
    {
     "data": {
      "text/plain": [
       "[856323]"
      ]
     },
     "execution_count": null,
     "metadata": {},
     "output_type": "execute_result"
    },
    {
     "name": "stderr",
     "output_type": "stream",
     "text": [
      "13:33:54.55 LOG:\n",
      "13:33:54.55 .... <argument> = [1187871, 1765162]\n"
     ]
    },
    {
     "data": {
      "text/plain": [
       "[1187871, 1765162]"
      ]
     },
     "execution_count": null,
     "metadata": {},
     "output_type": "execute_result"
    },
    {
     "name": "stderr",
     "output_type": "stream",
     "text": [
      "13:33:54.56 LOG:\n",
      "13:33:54.56 .... <argument> = [60749, 570426, 1324979, 1229555]\n"
     ]
    },
    {
     "data": {
      "text/plain": [
       "[60749, 570426, 1324979, 1229555]"
      ]
     },
     "execution_count": null,
     "metadata": {},
     "output_type": "execute_result"
    },
    {
     "name": "stderr",
     "output_type": "stream",
     "text": [
      "13:33:54.56 LOG:\n",
      "13:33:54.57 .... <argument> = [485261, 1439409, 1281615]\n"
     ]
    },
    {
     "data": {
      "text/plain": [
       "[485261, 1439409, 1281615]"
      ]
     },
     "execution_count": null,
     "metadata": {},
     "output_type": "execute_result"
    },
    {
     "name": "stderr",
     "output_type": "stream",
     "text": [
      "13:33:54.57 LOG:\n",
      "13:33:54.57 .... <argument> = [574105, 1670735, 113935, 819288]\n"
     ]
    },
    {
     "data": {
      "text/plain": [
       "[574105, 1670735, 113935, 819288]"
      ]
     },
     "execution_count": null,
     "metadata": {},
     "output_type": "execute_result"
    },
    {
     "name": "stderr",
     "output_type": "stream",
     "text": [
      "13:33:54.58 LOG:\n",
      "13:33:54.58 .... <argument> = [986638, 464285, 1592149, 1567844]\n"
     ]
    },
    {
     "data": {
      "text/plain": [
       "[986638, 464285, 1592149, 1567844]"
      ]
     },
     "execution_count": null,
     "metadata": {},
     "output_type": "execute_result"
    },
    {
     "name": "stderr",
     "output_type": "stream",
     "text": [
      "13:33:54.58 LOG:\n",
      "13:33:54.58 .... <argument> = [1383464]\n"
     ]
    },
    {
     "data": {
      "text/plain": [
       "[1383464]"
      ]
     },
     "execution_count": null,
     "metadata": {},
     "output_type": "execute_result"
    },
    {
     "name": "stderr",
     "output_type": "stream",
     "text": [
      "13:33:54.59 LOG:\n",
      "13:33:54.59 .... <argument> = [25391]\n"
     ]
    },
    {
     "data": {
      "text/plain": [
       "[25391]"
      ]
     },
     "execution_count": null,
     "metadata": {},
     "output_type": "execute_result"
    },
    {
     "name": "stderr",
     "output_type": "stream",
     "text": [
      "13:33:54.59 LOG:\n",
      "13:33:54.60 .... <argument> = [841461]\n"
     ]
    },
    {
     "data": {
      "text/plain": [
       "[841461]"
      ]
     },
     "execution_count": null,
     "metadata": {},
     "output_type": "execute_result"
    },
    {
     "name": "stderr",
     "output_type": "stream",
     "text": [
      "13:33:54.60 LOG:\n",
      "13:33:54.60 .... <argument> = [1131422]\n"
     ]
    },
    {
     "data": {
      "text/plain": [
       "[1131422]"
      ]
     },
     "execution_count": null,
     "metadata": {},
     "output_type": "execute_result"
    },
    {
     "name": "stderr",
     "output_type": "stream",
     "text": [
      "13:33:54.61 LOG:\n",
      "13:33:54.61 .... <argument> = [187686]\n"
     ]
    },
    {
     "data": {
      "text/plain": [
       "[187686]"
      ]
     },
     "execution_count": null,
     "metadata": {},
     "output_type": "execute_result"
    },
    {
     "name": "stderr",
     "output_type": "stream",
     "text": [
      "13:33:54.61 LOG:\n",
      "13:33:54.62 .... <argument> = [1708163]\n"
     ]
    },
    {
     "data": {
      "text/plain": [
       "[1708163]"
      ]
     },
     "execution_count": null,
     "metadata": {},
     "output_type": "execute_result"
    },
    {
     "name": "stderr",
     "output_type": "stream",
     "text": [
      "13:33:54.62 LOG:\n",
      "13:33:54.62 .... <argument> = [701817]\n"
     ]
    },
    {
     "data": {
      "text/plain": [
       "[701817]"
      ]
     },
     "execution_count": null,
     "metadata": {},
     "output_type": "execute_result"
    },
    {
     "name": "stderr",
     "output_type": "stream",
     "text": [
      "13:33:54.63 LOG:\n",
      "13:33:54.63 .... <argument> = [1341843]\n"
     ]
    },
    {
     "data": {
      "text/plain": [
       "[1341843]"
      ]
     },
     "execution_count": null,
     "metadata": {},
     "output_type": "execute_result"
    },
    {
     "name": "stderr",
     "output_type": "stream",
     "text": [
      "13:33:54.63 LOG:\n",
      "13:33:54.63 .... <argument> = [1186096, 555996, 1529663, 782306, 904958, 1166806, 342242, 93726, 1795955]\n"
     ]
    },
    {
     "data": {
      "text/plain": [
       "[1186096, 555996, 1529663, 782306, 904958, 1166806, 342242, 93726, 1795955]"
      ]
     },
     "execution_count": null,
     "metadata": {},
     "output_type": "execute_result"
    },
    {
     "name": "stderr",
     "output_type": "stream",
     "text": [
      "13:33:54.64 LOG:\n",
      "13:33:54.64 .... <argument> = [1043508]\n"
     ]
    },
    {
     "data": {
      "text/plain": [
       "[1043508]"
      ]
     },
     "execution_count": null,
     "metadata": {},
     "output_type": "execute_result"
    },
    {
     "name": "stderr",
     "output_type": "stream",
     "text": [
      "13:33:54.65 LOG:\n",
      "13:33:54.65 .... <argument> = [1406666, 1270528]\n"
     ]
    },
    {
     "data": {
      "text/plain": [
       "[1406666, 1270528]"
      ]
     },
     "execution_count": null,
     "metadata": {},
     "output_type": "execute_result"
    },
    {
     "name": "stderr",
     "output_type": "stream",
     "text": [
      "13:33:54.65 LOG:\n",
      "13:33:54.66 .... <argument> = [573780, 766326, 1276792, 291783, 658734, 823529, 1604242]\n"
     ]
    },
    {
     "data": {
      "text/plain": [
       "[573780, 766326, 1276792, 291783, 658734, 823529, 1604242]"
      ]
     },
     "execution_count": null,
     "metadata": {},
     "output_type": "execute_result"
    },
    {
     "name": "stderr",
     "output_type": "stream",
     "text": [
      "13:33:54.66 LOG:\n",
      "13:33:54.66 .... <argument> = [1627469]\n"
     ]
    },
    {
     "data": {
      "text/plain": [
       "[1627469]"
      ]
     },
     "execution_count": null,
     "metadata": {},
     "output_type": "execute_result"
    },
    {
     "name": "stderr",
     "output_type": "stream",
     "text": [
      "13:33:54.67 LOG:\n",
      "13:33:54.67 .... <argument> = [474736,\n",
      "13:33:54.67                    1722560,\n",
      "13:33:54.67                    1715896,\n",
      "13:33:54.67                    636148,\n",
      "13:33:54.67                    1083380,\n",
      "13:33:54.67                    1160146,\n",
      "13:33:54.67                    1273827,\n",
      "13:33:54.67                    1101435,\n",
      "13:33:54.67                    331731,\n",
      "13:33:54.67                    970785,\n",
      "13:33:54.67                    424295,\n",
      "13:33:54.67                    1345438,\n",
      "13:33:54.67                    968250,\n",
      "13:33:54.67                    1478107,\n",
      "13:33:54.67                    1133328]\n"
     ]
    },
    {
     "data": {
      "text/plain": [
       "[474736,\n",
       " 1722560,\n",
       " 1715896,\n",
       " 636148,\n",
       " 1083380,\n",
       " 1160146,\n",
       " 1273827,\n",
       " 1101435,\n",
       " 331731,\n",
       " 970785,\n",
       " 424295,\n",
       " 1345438,\n",
       " 968250,\n",
       " 1478107,\n",
       " 1133328]"
      ]
     },
     "execution_count": null,
     "metadata": {},
     "output_type": "execute_result"
    },
    {
     "name": "stderr",
     "output_type": "stream",
     "text": [
      "13:33:54.67 LOG:\n",
      "13:33:54.68 .... <argument> = [285492]\n"
     ]
    },
    {
     "data": {
      "text/plain": [
       "[285492]"
      ]
     },
     "execution_count": null,
     "metadata": {},
     "output_type": "execute_result"
    },
    {
     "name": "stderr",
     "output_type": "stream",
     "text": [
      "13:33:54.68 LOG:\n",
      "13:33:54.68 .... <argument> = [298320, 239610]\n"
     ]
    },
    {
     "data": {
      "text/plain": [
       "[298320, 239610]"
      ]
     },
     "execution_count": null,
     "metadata": {},
     "output_type": "execute_result"
    },
    {
     "name": "stderr",
     "output_type": "stream",
     "text": [
      "13:33:54.69 LOG:\n",
      "13:33:54.69 .... <argument> = [470187, 589964, 1545215]\n"
     ]
    },
    {
     "data": {
      "text/plain": [
       "[470187, 589964, 1545215]"
      ]
     },
     "execution_count": null,
     "metadata": {},
     "output_type": "execute_result"
    },
    {
     "name": "stderr",
     "output_type": "stream",
     "text": [
      "13:33:54.69 LOG:\n",
      "13:33:54.69 .... <argument> = [801044, 694144]\n"
     ]
    },
    {
     "data": {
      "text/plain": [
       "[801044, 694144]"
      ]
     },
     "execution_count": null,
     "metadata": {},
     "output_type": "execute_result"
    },
    {
     "name": "stderr",
     "output_type": "stream",
     "text": [
      "13:33:54.70 LOG:\n",
      "13:33:54.70 .... <argument> = [1112814]\n"
     ]
    },
    {
     "data": {
      "text/plain": [
       "[1112814]"
      ]
     },
     "execution_count": null,
     "metadata": {},
     "output_type": "execute_result"
    },
    {
     "name": "stderr",
     "output_type": "stream",
     "text": [
      "13:33:54.70 LOG:\n",
      "13:33:54.71 .... <argument> = [1164334]\n"
     ]
    },
    {
     "data": {
      "text/plain": [
       "[1164334]"
      ]
     },
     "execution_count": null,
     "metadata": {},
     "output_type": "execute_result"
    },
    {
     "name": "stderr",
     "output_type": "stream",
     "text": [
      "13:33:54.71 LOG:\n",
      "13:33:54.71 .... <argument> = [1597139, 1420240, 424618, 852087, 584064, 13710]\n"
     ]
    },
    {
     "data": {
      "text/plain": [
       "[1597139, 1420240, 424618, 852087, 584064, 13710]"
      ]
     },
     "execution_count": null,
     "metadata": {},
     "output_type": "execute_result"
    },
    {
     "name": "stderr",
     "output_type": "stream",
     "text": [
      "13:33:54.72 LOG:\n",
      "13:33:54.72 .... <argument> = [1173032, 284631]\n"
     ]
    },
    {
     "data": {
      "text/plain": [
       "[1173032, 284631]"
      ]
     },
     "execution_count": null,
     "metadata": {},
     "output_type": "execute_result"
    },
    {
     "name": "stderr",
     "output_type": "stream",
     "text": [
      "13:33:54.72 LOG:\n",
      "13:33:54.72 .... <argument> = [819288]\n"
     ]
    },
    {
     "data": {
      "text/plain": [
       "[819288]"
      ]
     },
     "execution_count": null,
     "metadata": {},
     "output_type": "execute_result"
    },
    {
     "name": "stderr",
     "output_type": "stream",
     "text": [
      "13:33:54.73 LOG:\n",
      "13:33:54.73 .... <argument> = [1792691, 385213]\n"
     ]
    },
    {
     "data": {
      "text/plain": [
       "[1792691, 385213]"
      ]
     },
     "execution_count": null,
     "metadata": {},
     "output_type": "execute_result"
    },
    {
     "name": "stderr",
     "output_type": "stream",
     "text": [
      "13:33:54.73 LOG:\n",
      "13:33:54.73 .... <argument> = [631899]\n"
     ]
    },
    {
     "data": {
      "text/plain": [
       "[631899]"
      ]
     },
     "execution_count": null,
     "metadata": {},
     "output_type": "execute_result"
    },
    {
     "name": "stderr",
     "output_type": "stream",
     "text": [
      "13:33:54.74 LOG:\n",
      "13:33:54.74 .... <argument> = [470507]\n"
     ]
    },
    {
     "data": {
      "text/plain": [
       "[470507]"
      ]
     },
     "execution_count": null,
     "metadata": {},
     "output_type": "execute_result"
    },
    {
     "name": "stderr",
     "output_type": "stream",
     "text": [
      "13:33:54.74 LOG:\n",
      "13:33:54.75 .... <argument> = [706042, 906935]\n"
     ]
    },
    {
     "data": {
      "text/plain": [
       "[706042, 906935]"
      ]
     },
     "execution_count": null,
     "metadata": {},
     "output_type": "execute_result"
    },
    {
     "name": "stderr",
     "output_type": "stream",
     "text": [
      "13:33:54.75 LOG:\n",
      "13:33:54.75 .... <argument> = [209781, 921829]\n"
     ]
    },
    {
     "data": {
      "text/plain": [
       "[209781, 921829]"
      ]
     },
     "execution_count": null,
     "metadata": {},
     "output_type": "execute_result"
    },
    {
     "name": "stderr",
     "output_type": "stream",
     "text": [
      "13:33:54.76 LOG:\n",
      "13:33:54.76 .... <argument> = [4453, 1667230]\n"
     ]
    },
    {
     "data": {
      "text/plain": [
       "[4453, 1667230]"
      ]
     },
     "execution_count": null,
     "metadata": {},
     "output_type": "execute_result"
    },
    {
     "name": "stderr",
     "output_type": "stream",
     "text": [
      "13:33:54.76 LOG:\n",
      "13:33:54.76 .... <argument> = [1430179,\n",
      "13:33:54.76                    240751,\n",
      "13:33:54.76                    1816774,\n",
      "13:33:54.76                    1662006,\n",
      "13:33:54.76                    904034,\n",
      "13:33:54.76                    658234,\n",
      "13:33:54.76                    80770,\n",
      "13:33:54.76                    1190472,\n",
      "13:33:54.76                    870232,\n",
      "13:33:54.76                    1133209,\n",
      "13:33:54.76                    942224,\n",
      "13:33:54.76                    1068669,\n",
      "13:33:54.76                    1639325,\n",
      "13:33:54.76                    1499178]\n"
     ]
    },
    {
     "data": {
      "text/plain": [
       "[1430179,\n",
       " 240751,\n",
       " 1816774,\n",
       " 1662006,\n",
       " 904034,\n",
       " 658234,\n",
       " 80770,\n",
       " 1190472,\n",
       " 870232,\n",
       " 1133209,\n",
       " 942224,\n",
       " 1068669,\n",
       " 1639325,\n",
       " 1499178]"
      ]
     },
     "execution_count": null,
     "metadata": {},
     "output_type": "execute_result"
    },
    {
     "name": "stderr",
     "output_type": "stream",
     "text": [
      "13:33:54.77 LOG:\n",
      "13:33:54.77 .... <argument> = [682691, 551132, 154018, 1064768, 477541, 807444, 954650, 441217, 812004]\n"
     ]
    },
    {
     "data": {
      "text/plain": [
       "[682691, 551132, 154018, 1064768, 477541, 807444, 954650, 441217, 812004]"
      ]
     },
     "execution_count": null,
     "metadata": {},
     "output_type": "execute_result"
    },
    {
     "name": "stderr",
     "output_type": "stream",
     "text": [
      "13:33:54.77 LOG:\n",
      "13:33:54.78 .... <argument> = [218540, 607738]\n"
     ]
    },
    {
     "data": {
      "text/plain": [
       "[218540, 607738]"
      ]
     },
     "execution_count": null,
     "metadata": {},
     "output_type": "execute_result"
    },
    {
     "name": "stderr",
     "output_type": "stream",
     "text": [
      "13:33:54.78 LOG:\n",
      "13:33:54.78 .... <argument> = [135618, 85567, 792339]\n"
     ]
    },
    {
     "data": {
      "text/plain": [
       "[135618, 85567, 792339]"
      ]
     },
     "execution_count": null,
     "metadata": {},
     "output_type": "execute_result"
    },
    {
     "name": "stderr",
     "output_type": "stream",
     "text": [
      "13:33:54.79 LOG:\n",
      "13:33:54.79 .... <argument> = [1751325, 80589, 409467, 1674581, 1685375]\n"
     ]
    },
    {
     "data": {
      "text/plain": [
       "[1751325, 80589, 409467, 1674581, 1685375]"
      ]
     },
     "execution_count": null,
     "metadata": {},
     "output_type": "execute_result"
    },
    {
     "name": "stderr",
     "output_type": "stream",
     "text": [
      "13:33:54.79 LOG:\n",
      "13:33:54.80 .... <argument> = [270169, 1494845, 976892, 586193, 1055367]\n"
     ]
    },
    {
     "data": {
      "text/plain": [
       "[270169, 1494845, 976892, 586193, 1055367]"
      ]
     },
     "execution_count": null,
     "metadata": {},
     "output_type": "execute_result"
    },
    {
     "name": "stderr",
     "output_type": "stream",
     "text": [
      "13:33:54.80 LOG:\n",
      "13:33:54.80 .... <argument> = [1766926, 1432554]\n"
     ]
    },
    {
     "data": {
      "text/plain": [
       "[1766926, 1432554]"
      ]
     },
     "execution_count": null,
     "metadata": {},
     "output_type": "execute_result"
    },
    {
     "name": "stderr",
     "output_type": "stream",
     "text": [
      "13:33:54.81 LOG:\n",
      "13:33:54.81 .... <argument> = [169239]\n"
     ]
    },
    {
     "data": {
      "text/plain": [
       "[169239]"
      ]
     },
     "execution_count": null,
     "metadata": {},
     "output_type": "execute_result"
    },
    {
     "name": "stderr",
     "output_type": "stream",
     "text": [
      "13:33:54.82 LOG:\n",
      "13:33:54.82 .... <argument> = [1779252, 1736150]\n"
     ]
    },
    {
     "data": {
      "text/plain": [
       "[1779252, 1736150]"
      ]
     },
     "execution_count": null,
     "metadata": {},
     "output_type": "execute_result"
    },
    {
     "name": "stderr",
     "output_type": "stream",
     "text": [
      "13:33:54.82 LOG:\n",
      "13:33:54.82 .... <argument> = [347814]\n"
     ]
    },
    {
     "data": {
      "text/plain": [
       "[347814]"
      ]
     },
     "execution_count": null,
     "metadata": {},
     "output_type": "execute_result"
    },
    {
     "name": "stderr",
     "output_type": "stream",
     "text": [
      "13:33:54.83 LOG:\n",
      "13:33:54.83 .... <argument> = [1409629, 1254221]\n"
     ]
    },
    {
     "data": {
      "text/plain": [
       "[1409629, 1254221]"
      ]
     },
     "execution_count": null,
     "metadata": {},
     "output_type": "execute_result"
    },
    {
     "name": "stderr",
     "output_type": "stream",
     "text": [
      "13:33:54.84 LOG:\n",
      "13:33:54.84 .... <argument> = [1658987]\n"
     ]
    },
    {
     "data": {
      "text/plain": [
       "[1658987]"
      ]
     },
     "execution_count": null,
     "metadata": {},
     "output_type": "execute_result"
    },
    {
     "name": "stderr",
     "output_type": "stream",
     "text": [
      "13:33:54.84 LOG:\n",
      "13:33:54.84 .... <argument> = [472428, 895827, 1829472, 312373]\n"
     ]
    },
    {
     "data": {
      "text/plain": [
       "[472428, 895827, 1829472, 312373]"
      ]
     },
     "execution_count": null,
     "metadata": {},
     "output_type": "execute_result"
    },
    {
     "name": "stderr",
     "output_type": "stream",
     "text": [
      "13:33:54.85 LOG:\n",
      "13:33:54.85 .... <argument> = [1659685]\n"
     ]
    },
    {
     "data": {
      "text/plain": [
       "[1659685]"
      ]
     },
     "execution_count": null,
     "metadata": {},
     "output_type": "execute_result"
    },
    {
     "name": "stderr",
     "output_type": "stream",
     "text": [
      "13:33:54.86 LOG:\n",
      "13:33:54.86 .... <argument> = [157563]\n"
     ]
    },
    {
     "data": {
      "text/plain": [
       "[157563]"
      ]
     },
     "execution_count": null,
     "metadata": {},
     "output_type": "execute_result"
    },
    {
     "name": "stderr",
     "output_type": "stream",
     "text": [
      "13:33:54.86 LOG:\n",
      "13:33:54.86 .... <argument> = [539252]\n"
     ]
    },
    {
     "data": {
      "text/plain": [
       "[539252]"
      ]
     },
     "execution_count": null,
     "metadata": {},
     "output_type": "execute_result"
    },
    {
     "name": "stderr",
     "output_type": "stream",
     "text": [
      "13:33:54.87 LOG:\n",
      "13:33:54.87 .... <argument> = [1086830, 842655]\n"
     ]
    },
    {
     "data": {
      "text/plain": [
       "[1086830, 842655]"
      ]
     },
     "execution_count": null,
     "metadata": {},
     "output_type": "execute_result"
    },
    {
     "name": "stderr",
     "output_type": "stream",
     "text": [
      "13:33:54.87 LOG:\n",
      "13:33:54.88 .... <argument> = [749023]\n"
     ]
    },
    {
     "data": {
      "text/plain": [
       "[749023]"
      ]
     },
     "execution_count": null,
     "metadata": {},
     "output_type": "execute_result"
    },
    {
     "name": "stderr",
     "output_type": "stream",
     "text": [
      "13:33:54.88 LOG:\n",
      "13:33:54.88 .... <argument> = [816965, 1615362, 978308]\n"
     ]
    },
    {
     "data": {
      "text/plain": [
       "[816965, 1615362, 978308]"
      ]
     },
     "execution_count": null,
     "metadata": {},
     "output_type": "execute_result"
    },
    {
     "name": "stderr",
     "output_type": "stream",
     "text": [
      "13:33:54.89 LOG:\n",
      "13:33:54.89 .... <argument> = [1538526, 552972, 1058229, 1614785, 302551, 1150935, 1739996]\n"
     ]
    },
    {
     "data": {
      "text/plain": [
       "[1538526, 552972, 1058229, 1614785, 302551, 1150935, 1739996]"
      ]
     },
     "execution_count": null,
     "metadata": {},
     "output_type": "execute_result"
    },
    {
     "name": "stderr",
     "output_type": "stream",
     "text": [
      "13:33:54.89 LOG:\n",
      "13:33:54.90 .... <argument> = [1769274]\n"
     ]
    },
    {
     "data": {
      "text/plain": [
       "[1769274]"
      ]
     },
     "execution_count": null,
     "metadata": {},
     "output_type": "execute_result"
    },
    {
     "name": "stderr",
     "output_type": "stream",
     "text": [
      "13:33:54.90 LOG:\n",
      "13:33:54.90 .... <argument> = [509549, 216889, 1159444, 1308055, 1273128]\n"
     ]
    },
    {
     "data": {
      "text/plain": [
       "[509549, 216889, 1159444, 1308055, 1273128]"
      ]
     },
     "execution_count": null,
     "metadata": {},
     "output_type": "execute_result"
    },
    {
     "name": "stderr",
     "output_type": "stream",
     "text": [
      "13:33:54.91 LOG:\n",
      "13:33:54.91 .... <argument> = [1289029, 363604]\n"
     ]
    },
    {
     "data": {
      "text/plain": [
       "[1289029, 363604]"
      ]
     },
     "execution_count": null,
     "metadata": {},
     "output_type": "execute_result"
    },
    {
     "name": "stderr",
     "output_type": "stream",
     "text": [
      "13:33:54.91 LOG:\n",
      "13:33:54.91 .... <argument> = [541107]\n"
     ]
    },
    {
     "data": {
      "text/plain": [
       "[541107]"
      ]
     },
     "execution_count": null,
     "metadata": {},
     "output_type": "execute_result"
    },
    {
     "name": "stderr",
     "output_type": "stream",
     "text": [
      "13:33:54.92 LOG:\n",
      "13:33:54.92 .... <argument> = [1086272,\n",
      "13:33:54.92                    115416,\n",
      "13:33:54.92                    1343145,\n",
      "13:33:54.92                    597946,\n",
      "13:33:54.92                    1673623,\n",
      "13:33:54.92                    1126803,\n",
      "13:33:54.92                    732758,\n",
      "13:33:54.92                    1730464,\n",
      "13:33:54.92                    22440,\n",
      "13:33:54.92                    1071122,\n",
      "13:33:54.92                    1773258,\n",
      "13:33:54.92                    413128,\n",
      "13:33:54.92                    96165,\n",
      "13:33:54.92                    1751274]\n"
     ]
    },
    {
     "data": {
      "text/plain": [
       "[1086272,\n",
       " 115416,\n",
       " 1343145,\n",
       " 597946,\n",
       " 1673623,\n",
       " 1126803,\n",
       " 732758,\n",
       " 1730464,\n",
       " 22440,\n",
       " 1071122,\n",
       " 1773258,\n",
       " 413128,\n",
       " 96165,\n",
       " 1751274]"
      ]
     },
     "execution_count": null,
     "metadata": {},
     "output_type": "execute_result"
    },
    {
     "name": "stderr",
     "output_type": "stream",
     "text": [
      "13:33:54.93 LOG:\n",
      "13:33:54.93 .... <argument> = [540998, 1011548, 682088]\n"
     ]
    },
    {
     "data": {
      "text/plain": [
       "[540998, 1011548, 682088]"
      ]
     },
     "execution_count": null,
     "metadata": {},
     "output_type": "execute_result"
    },
    {
     "name": "stderr",
     "output_type": "stream",
     "text": [
      "13:33:54.93 LOG:\n",
      "13:33:54.93 .... <argument> = [1331786,\n",
      "13:33:54.93                    88789,\n",
      "13:33:54.93                    1737408,\n",
      "13:33:54.93                    1070336,\n",
      "13:33:54.93                    998432,\n",
      "13:33:54.93                    1624153,\n",
      "13:33:54.93                    1583680,\n",
      "13:33:54.93                    1101053,\n",
      "13:33:54.93                    145606,\n",
      "13:33:54.93                    194869,\n",
      "13:33:54.93                    1437687,\n",
      "13:33:54.93                    739392]\n"
     ]
    },
    {
     "data": {
      "text/plain": [
       "[1331786,\n",
       " 88789,\n",
       " 1737408,\n",
       " 1070336,\n",
       " 998432,\n",
       " 1624153,\n",
       " 1583680,\n",
       " 1101053,\n",
       " 145606,\n",
       " 194869,\n",
       " 1437687,\n",
       " 739392]"
      ]
     },
     "execution_count": null,
     "metadata": {},
     "output_type": "execute_result"
    },
    {
     "name": "stderr",
     "output_type": "stream",
     "text": [
      "13:33:54.94 LOG:\n",
      "13:33:54.94 .... <argument> = [48117, 1247959]\n"
     ]
    },
    {
     "data": {
      "text/plain": [
       "[48117, 1247959]"
      ]
     },
     "execution_count": null,
     "metadata": {},
     "output_type": "execute_result"
    },
    {
     "name": "stderr",
     "output_type": "stream",
     "text": [
      "13:33:54.95 LOG:\n",
      "13:33:54.95 .... <argument> = [1189163, 1827820]\n"
     ]
    },
    {
     "data": {
      "text/plain": [
       "[1189163, 1827820]"
      ]
     },
     "execution_count": null,
     "metadata": {},
     "output_type": "execute_result"
    },
    {
     "name": "stderr",
     "output_type": "stream",
     "text": [
      "13:33:54.95 LOG:\n",
      "13:33:54.95 .... <argument> = [226788, 1032810, 86049, 1648600, 801348]\n"
     ]
    },
    {
     "data": {
      "text/plain": [
       "[226788, 1032810, 86049, 1648600, 801348]"
      ]
     },
     "execution_count": null,
     "metadata": {},
     "output_type": "execute_result"
    },
    {
     "name": "stderr",
     "output_type": "stream",
     "text": [
      "13:33:54.96 LOG:\n",
      "13:33:54.96 .... <argument> = [245232]\n"
     ]
    },
    {
     "data": {
      "text/plain": [
       "[245232]"
      ]
     },
     "execution_count": null,
     "metadata": {},
     "output_type": "execute_result"
    },
    {
     "name": "stderr",
     "output_type": "stream",
     "text": [
      "13:33:54.96 LOG:\n",
      "13:33:54.96 .... <argument> = [1644266]\n"
     ]
    },
    {
     "data": {
      "text/plain": [
       "[1644266]"
      ]
     },
     "execution_count": null,
     "metadata": {},
     "output_type": "execute_result"
    },
    {
     "name": "stderr",
     "output_type": "stream",
     "text": [
      "13:33:54.97 LOG:\n",
      "13:33:54.97 .... <argument> = [1680086]\n"
     ]
    },
    {
     "data": {
      "text/plain": [
       "[1680086]"
      ]
     },
     "execution_count": null,
     "metadata": {},
     "output_type": "execute_result"
    },
    {
     "name": "stderr",
     "output_type": "stream",
     "text": [
      "13:33:54.98 LOG:\n",
      "13:33:54.98 .... <argument> = [605105, 1636744, 658503]\n"
     ]
    },
    {
     "data": {
      "text/plain": [
       "[605105, 1636744, 658503]"
      ]
     },
     "execution_count": null,
     "metadata": {},
     "output_type": "execute_result"
    },
    {
     "name": "stderr",
     "output_type": "stream",
     "text": [
      "13:33:54.98 LOG:\n",
      "13:33:54.98 .... <argument> = [71903,\n",
      "13:33:54.98                    793060,\n",
      "13:33:54.98                    898579,\n",
      "13:33:54.98                    1081094,\n",
      "13:33:54.98                    873957,\n",
      "13:33:54.98                    1022566,\n",
      "13:33:54.98                    681418,\n",
      "13:33:54.98                    526757,\n",
      "13:33:54.98                    882615,\n",
      "13:33:54.98                    927543]\n"
     ]
    },
    {
     "data": {
      "text/plain": [
       "[71903,\n",
       " 793060,\n",
       " 898579,\n",
       " 1081094,\n",
       " 873957,\n",
       " 1022566,\n",
       " 681418,\n",
       " 526757,\n",
       " 882615,\n",
       " 927543]"
      ]
     },
     "execution_count": null,
     "metadata": {},
     "output_type": "execute_result"
    },
    {
     "name": "stderr",
     "output_type": "stream",
     "text": [
      "13:33:54.99 LOG:\n",
      "13:33:54.99 .... <argument> = [1110593]\n"
     ]
    },
    {
     "data": {
      "text/plain": [
       "[1110593]"
      ]
     },
     "execution_count": null,
     "metadata": {},
     "output_type": "execute_result"
    },
    {
     "name": "stderr",
     "output_type": "stream",
     "text": [
      "13:33:55.00 LOG:\n",
      "13:33:55.00 .... <argument> = [1461086, 9497, 500439, 1451972, 1808629]\n"
     ]
    },
    {
     "data": {
      "text/plain": [
       "[1461086, 9497, 500439, 1451972, 1808629]"
      ]
     },
     "execution_count": null,
     "metadata": {},
     "output_type": "execute_result"
    },
    {
     "name": "stderr",
     "output_type": "stream",
     "text": [
      "13:33:55.00 LOG:\n",
      "13:33:55.01 .... <argument> = [1598282, 801774, 756588]\n"
     ]
    },
    {
     "data": {
      "text/plain": [
       "[1598282, 801774, 756588]"
      ]
     },
     "execution_count": null,
     "metadata": {},
     "output_type": "execute_result"
    },
    {
     "name": "stderr",
     "output_type": "stream",
     "text": [
      "13:33:55.01 LOG:\n",
      "13:33:55.01 .... <argument> = [1638068,\n",
      "13:33:55.01                    554028,\n",
      "13:33:55.01                    178845,\n",
      "13:33:55.01                    975442,\n",
      "13:33:55.01                    1428321,\n",
      "13:33:55.01                    1026526,\n",
      "13:33:55.01                    406962,\n",
      "13:33:55.01                    112350,\n",
      "13:33:55.01                    1432755,\n",
      "13:33:55.01                    1192215,\n",
      "13:33:55.01                    1252357,\n",
      "13:33:55.01                    954276]\n"
     ]
    },
    {
     "data": {
      "text/plain": [
       "[1638068,\n",
       " 554028,\n",
       " 178845,\n",
       " 975442,\n",
       " 1428321,\n",
       " 1026526,\n",
       " 406962,\n",
       " 112350,\n",
       " 1432755,\n",
       " 1192215,\n",
       " 1252357,\n",
       " 954276]"
      ]
     },
     "execution_count": null,
     "metadata": {},
     "output_type": "execute_result"
    },
    {
     "name": "stderr",
     "output_type": "stream",
     "text": [
      "13:33:55.02 LOG:\n",
      "13:33:55.02 .... <argument> = [1542180]\n"
     ]
    },
    {
     "data": {
      "text/plain": [
       "[1542180]"
      ]
     },
     "execution_count": null,
     "metadata": {},
     "output_type": "execute_result"
    },
    {
     "name": "stderr",
     "output_type": "stream",
     "text": [
      "13:33:55.02 LOG:\n",
      "13:33:55.02 .... <argument> = [713074]\n"
     ]
    },
    {
     "data": {
      "text/plain": [
       "[713074]"
      ]
     },
     "execution_count": null,
     "metadata": {},
     "output_type": "execute_result"
    },
    {
     "name": "stderr",
     "output_type": "stream",
     "text": [
      "13:33:55.03 LOG:\n",
      "13:33:55.03 .... <argument> = [142836]\n"
     ]
    },
    {
     "data": {
      "text/plain": [
       "[142836]"
      ]
     },
     "execution_count": null,
     "metadata": {},
     "output_type": "execute_result"
    },
    {
     "name": "stderr",
     "output_type": "stream",
     "text": [
      "13:33:55.04 LOG:\n",
      "13:33:55.04 .... <argument> = [35534]\n"
     ]
    },
    {
     "data": {
      "text/plain": [
       "[35534]"
      ]
     },
     "execution_count": null,
     "metadata": {},
     "output_type": "execute_result"
    },
    {
     "name": "stderr",
     "output_type": "stream",
     "text": [
      "13:33:55.05 LOG:\n",
      "13:33:55.05 .... <argument> = [1242496, 72084]\n"
     ]
    },
    {
     "data": {
      "text/plain": [
       "[1242496, 72084]"
      ]
     },
     "execution_count": null,
     "metadata": {},
     "output_type": "execute_result"
    },
    {
     "name": "stderr",
     "output_type": "stream",
     "text": [
      "13:33:55.06 LOG:\n",
      "13:33:55.06 .... <argument> = [693533, 986164]\n"
     ]
    },
    {
     "data": {
      "text/plain": [
       "[693533, 986164]"
      ]
     },
     "execution_count": null,
     "metadata": {},
     "output_type": "execute_result"
    },
    {
     "name": "stderr",
     "output_type": "stream",
     "text": [
      "13:33:55.06 LOG:\n",
      "13:33:55.06 .... <argument> = [573705]\n"
     ]
    },
    {
     "data": {
      "text/plain": [
       "[573705]"
      ]
     },
     "execution_count": null,
     "metadata": {},
     "output_type": "execute_result"
    },
    {
     "name": "stderr",
     "output_type": "stream",
     "text": [
      "13:33:55.07 LOG:\n",
      "13:33:55.07 .... <argument> = [789095]\n"
     ]
    },
    {
     "data": {
      "text/plain": [
       "[789095]"
      ]
     },
     "execution_count": null,
     "metadata": {},
     "output_type": "execute_result"
    },
    {
     "name": "stderr",
     "output_type": "stream",
     "text": [
      "13:33:55.08 LOG:\n",
      "13:33:55.08 .... <argument> = [915602]\n"
     ]
    },
    {
     "data": {
      "text/plain": [
       "[915602]"
      ]
     },
     "execution_count": null,
     "metadata": {},
     "output_type": "execute_result"
    },
    {
     "name": "stderr",
     "output_type": "stream",
     "text": [
      "13:33:55.08 LOG:\n",
      "13:33:55.08 .... <argument> = [299131, 1751274]\n"
     ]
    },
    {
     "data": {
      "text/plain": [
       "[299131, 1751274]"
      ]
     },
     "execution_count": null,
     "metadata": {},
     "output_type": "execute_result"
    },
    {
     "name": "stderr",
     "output_type": "stream",
     "text": [
      "13:33:55.09 LOG:\n",
      "13:33:55.09 .... <argument> = [1487224, 928726, 661397, 744114]\n"
     ]
    },
    {
     "data": {
      "text/plain": [
       "[1487224, 928726, 661397, 744114]"
      ]
     },
     "execution_count": null,
     "metadata": {},
     "output_type": "execute_result"
    },
    {
     "name": "stderr",
     "output_type": "stream",
     "text": [
      "13:33:55.10 LOG:\n",
      "13:33:55.10 .... <argument> = [1502268, 1551356, 1844471, 1824093, 1659226]\n"
     ]
    },
    {
     "data": {
      "text/plain": [
       "[1502268, 1551356, 1844471, 1824093, 1659226]"
      ]
     },
     "execution_count": null,
     "metadata": {},
     "output_type": "execute_result"
    },
    {
     "name": "stderr",
     "output_type": "stream",
     "text": [
      "13:33:55.10 LOG:\n",
      "13:33:55.10 .... <argument> = [585186, 83856]\n"
     ]
    },
    {
     "data": {
      "text/plain": [
       "[585186, 83856]"
      ]
     },
     "execution_count": null,
     "metadata": {},
     "output_type": "execute_result"
    },
    {
     "name": "stderr",
     "output_type": "stream",
     "text": [
      "13:33:55.11 LOG:\n",
      "13:33:55.11 .... <argument> = [590095,\n",
      "13:33:55.11                    1100628,\n",
      "13:33:55.11                    644656,\n",
      "13:33:55.11                    229215,\n",
      "13:33:55.11                    1624652,\n",
      "13:33:55.11                    1172177,\n",
      "13:33:55.11                    417182,\n",
      "13:33:55.11                    1097028,\n",
      "13:33:55.11                    827562,\n",
      "13:33:55.11                    1242744,\n",
      "13:33:55.11                    526498,\n",
      "13:33:55.11                    1460983,\n",
      "13:33:55.11                    1723959,\n",
      "13:33:55.11                    1370962]\n"
     ]
    },
    {
     "data": {
      "text/plain": [
       "[590095,\n",
       " 1100628,\n",
       " 644656,\n",
       " 229215,\n",
       " 1624652,\n",
       " 1172177,\n",
       " 417182,\n",
       " 1097028,\n",
       " 827562,\n",
       " 1242744,\n",
       " 526498,\n",
       " 1460983,\n",
       " 1723959,\n",
       " 1370962]"
      ]
     },
     "execution_count": null,
     "metadata": {},
     "output_type": "execute_result"
    },
    {
     "name": "stderr",
     "output_type": "stream",
     "text": [
      "13:33:55.12 LOG:\n",
      "13:33:55.12 .... <argument> = [1074695]\n"
     ]
    },
    {
     "data": {
      "text/plain": [
       "[1074695]"
      ]
     },
     "execution_count": null,
     "metadata": {},
     "output_type": "execute_result"
    },
    {
     "name": "stderr",
     "output_type": "stream",
     "text": [
      "13:33:55.13 LOG:\n",
      "13:33:55.13 .... <argument> = [854867, 824077]\n"
     ]
    },
    {
     "data": {
      "text/plain": [
       "[854867, 824077]"
      ]
     },
     "execution_count": null,
     "metadata": {},
     "output_type": "execute_result"
    },
    {
     "name": "stderr",
     "output_type": "stream",
     "text": [
      "13:33:55.13 LOG:\n",
      "13:33:55.13 .... <argument> = [832873]\n"
     ]
    },
    {
     "data": {
      "text/plain": [
       "[832873]"
      ]
     },
     "execution_count": null,
     "metadata": {},
     "output_type": "execute_result"
    },
    {
     "name": "stderr",
     "output_type": "stream",
     "text": [
      "13:33:55.14 LOG:\n",
      "13:33:55.14 .... <argument> = [572237, 1644534]\n"
     ]
    },
    {
     "data": {
      "text/plain": [
       "[572237, 1644534]"
      ]
     },
     "execution_count": null,
     "metadata": {},
     "output_type": "execute_result"
    },
    {
     "name": "stderr",
     "output_type": "stream",
     "text": [
      "13:33:55.15 LOG:\n",
      "13:33:55.15 .... <argument> = [1278671]\n"
     ]
    },
    {
     "data": {
      "text/plain": [
       "[1278671]"
      ]
     },
     "execution_count": null,
     "metadata": {},
     "output_type": "execute_result"
    },
    {
     "name": "stderr",
     "output_type": "stream",
     "text": [
      "13:33:55.16 LOG:\n",
      "13:33:55.16 .... <argument> = [416839, 1632977, 1613930, 1775736, 1006180, 590651, 25653, 1735875, 334174]\n"
     ]
    },
    {
     "data": {
      "text/plain": [
       "[416839, 1632977, 1613930, 1775736, 1006180, 590651, 25653, 1735875, 334174]"
      ]
     },
     "execution_count": null,
     "metadata": {},
     "output_type": "execute_result"
    },
    {
     "name": "stderr",
     "output_type": "stream",
     "text": [
      "13:33:55.16 LOG:\n",
      "13:33:55.17 .... <argument> = [1232286, 542814, 1335595, 1199487]\n"
     ]
    },
    {
     "data": {
      "text/plain": [
       "[1232286, 542814, 1335595, 1199487]"
      ]
     },
     "execution_count": null,
     "metadata": {},
     "output_type": "execute_result"
    },
    {
     "name": "stderr",
     "output_type": "stream",
     "text": [
      "13:33:55.17 LOG:\n",
      "13:33:55.17 .... <argument> = [910123]\n"
     ]
    },
    {
     "data": {
      "text/plain": [
       "[910123]"
      ]
     },
     "execution_count": null,
     "metadata": {},
     "output_type": "execute_result"
    },
    {
     "name": "stderr",
     "output_type": "stream",
     "text": [
      "13:33:55.18 LOG:\n",
      "13:33:55.18 .... <argument> = [333247]\n"
     ]
    },
    {
     "data": {
      "text/plain": [
       "[333247]"
      ]
     },
     "execution_count": null,
     "metadata": {},
     "output_type": "execute_result"
    },
    {
     "name": "stderr",
     "output_type": "stream",
     "text": [
      "13:33:55.19 LOG:\n",
      "13:33:55.19 .... <argument> = [40063]\n"
     ]
    },
    {
     "data": {
      "text/plain": [
       "[40063]"
      ]
     },
     "execution_count": null,
     "metadata": {},
     "output_type": "execute_result"
    },
    {
     "name": "stderr",
     "output_type": "stream",
     "text": [
      "13:33:55.19 LOG:\n",
      "13:33:55.20 .... <argument> = [905448]\n"
     ]
    },
    {
     "data": {
      "text/plain": [
       "[905448]"
      ]
     },
     "execution_count": null,
     "metadata": {},
     "output_type": "execute_result"
    },
    {
     "name": "stderr",
     "output_type": "stream",
     "text": [
      "13:33:55.20 LOG:\n",
      "13:33:55.20 .... <argument> = [1624965]\n"
     ]
    },
    {
     "data": {
      "text/plain": [
       "[1624965]"
      ]
     },
     "execution_count": null,
     "metadata": {},
     "output_type": "execute_result"
    },
    {
     "name": "stderr",
     "output_type": "stream",
     "text": [
      "13:33:55.21 LOG:\n",
      "13:33:55.21 .... <argument> = [1366313]\n"
     ]
    },
    {
     "data": {
      "text/plain": [
       "[1366313]"
      ]
     },
     "execution_count": null,
     "metadata": {},
     "output_type": "execute_result"
    },
    {
     "name": "stderr",
     "output_type": "stream",
     "text": [
      "13:33:55.22 LOG:\n",
      "13:33:55.22 .... <argument> = [1459288, 704068, 1752011, 585186, 1420377]\n"
     ]
    },
    {
     "data": {
      "text/plain": [
       "[1459288, 704068, 1752011, 585186, 1420377]"
      ]
     },
     "execution_count": null,
     "metadata": {},
     "output_type": "execute_result"
    },
    {
     "name": "stderr",
     "output_type": "stream",
     "text": [
      "13:33:55.22 LOG:\n",
      "13:33:55.22 .... <argument> = [1061250, 332195]\n"
     ]
    },
    {
     "data": {
      "text/plain": [
       "[1061250, 332195]"
      ]
     },
     "execution_count": null,
     "metadata": {},
     "output_type": "execute_result"
    },
    {
     "name": "stderr",
     "output_type": "stream",
     "text": [
      "13:33:55.23 LOG:\n",
      "13:33:55.23 .... <argument> = [184976]\n"
     ]
    },
    {
     "data": {
      "text/plain": [
       "[184976]"
      ]
     },
     "execution_count": null,
     "metadata": {},
     "output_type": "execute_result"
    },
    {
     "name": "stderr",
     "output_type": "stream",
     "text": [
      "13:33:55.24 LOG:\n",
      "13:33:55.24 .... <argument> = [71237, 147248, 1765065, 1753000, 314672, 330397, 557157]\n"
     ]
    },
    {
     "data": {
      "text/plain": [
       "[71237, 147248, 1765065, 1753000, 314672, 330397, 557157]"
      ]
     },
     "execution_count": null,
     "metadata": {},
     "output_type": "execute_result"
    },
    {
     "name": "stderr",
     "output_type": "stream",
     "text": [
      "13:33:55.24 LOG:\n",
      "13:33:55.24 .... <argument> = [1441288, 1078269]\n"
     ]
    },
    {
     "data": {
      "text/plain": [
       "[1441288, 1078269]"
      ]
     },
     "execution_count": null,
     "metadata": {},
     "output_type": "execute_result"
    },
    {
     "name": "stderr",
     "output_type": "stream",
     "text": [
      "13:33:55.25 LOG:\n",
      "13:33:55.25 .... <argument> = [117313]\n"
     ]
    },
    {
     "data": {
      "text/plain": [
       "[117313]"
      ]
     },
     "execution_count": null,
     "metadata": {},
     "output_type": "execute_result"
    },
    {
     "name": "stderr",
     "output_type": "stream",
     "text": [
      "13:33:55.26 LOG:\n",
      "13:33:55.26 .... <argument> = [1836248]\n"
     ]
    },
    {
     "data": {
      "text/plain": [
       "[1836248]"
      ]
     },
     "execution_count": null,
     "metadata": {},
     "output_type": "execute_result"
    },
    {
     "name": "stderr",
     "output_type": "stream",
     "text": [
      "13:33:55.26 LOG:\n",
      "13:33:55.26 .... <argument> = [746209, 1311790]\n"
     ]
    },
    {
     "data": {
      "text/plain": [
       "[746209, 1311790]"
      ]
     },
     "execution_count": null,
     "metadata": {},
     "output_type": "execute_result"
    },
    {
     "name": "stderr",
     "output_type": "stream",
     "text": [
      "13:33:55.27 LOG:\n",
      "13:33:55.27 .... <argument> = [433861, 298888]\n"
     ]
    },
    {
     "data": {
      "text/plain": [
       "[433861, 298888]"
      ]
     },
     "execution_count": null,
     "metadata": {},
     "output_type": "execute_result"
    },
    {
     "name": "stderr",
     "output_type": "stream",
     "text": [
      "13:33:55.28 LOG:\n",
      "13:33:55.28 .... <argument> = [921162]\n"
     ]
    },
    {
     "data": {
      "text/plain": [
       "[921162]"
      ]
     },
     "execution_count": null,
     "metadata": {},
     "output_type": "execute_result"
    },
    {
     "name": "stderr",
     "output_type": "stream",
     "text": [
      "13:33:55.28 LOG:\n",
      "13:33:55.28 .... <argument> = [972075, 711097]\n"
     ]
    },
    {
     "data": {
      "text/plain": [
       "[972075, 711097]"
      ]
     },
     "execution_count": null,
     "metadata": {},
     "output_type": "execute_result"
    },
    {
     "name": "stderr",
     "output_type": "stream",
     "text": [
      "13:33:55.29 LOG:\n",
      "13:33:55.29 .... <argument> = [429979, 1465357, 425184, 423113, 555120]\n"
     ]
    },
    {
     "data": {
      "text/plain": [
       "[429979, 1465357, 425184, 423113, 555120]"
      ]
     },
     "execution_count": null,
     "metadata": {},
     "output_type": "execute_result"
    },
    {
     "name": "stderr",
     "output_type": "stream",
     "text": [
      "13:33:55.29 LOG:\n",
      "13:33:55.29 .... <argument> = [722357]\n"
     ]
    },
    {
     "data": {
      "text/plain": [
       "[722357]"
      ]
     },
     "execution_count": null,
     "metadata": {},
     "output_type": "execute_result"
    },
    {
     "name": "stderr",
     "output_type": "stream",
     "text": [
      "13:33:55.30 LOG:\n",
      "13:33:55.30 .... <argument> = [1090261, 405132]\n"
     ]
    },
    {
     "data": {
      "text/plain": [
       "[1090261, 405132]"
      ]
     },
     "execution_count": null,
     "metadata": {},
     "output_type": "execute_result"
    },
    {
     "name": "stderr",
     "output_type": "stream",
     "text": [
      "13:33:55.30 LOG:\n",
      "13:33:55.30 .... <argument> = [835597]\n"
     ]
    },
    {
     "data": {
      "text/plain": [
       "[835597]"
      ]
     },
     "execution_count": null,
     "metadata": {},
     "output_type": "execute_result"
    },
    {
     "name": "stderr",
     "output_type": "stream",
     "text": [
      "13:33:55.31 LOG:\n",
      "13:33:55.31 .... <argument> = [470826]\n"
     ]
    },
    {
     "data": {
      "text/plain": [
       "[470826]"
      ]
     },
     "execution_count": null,
     "metadata": {},
     "output_type": "execute_result"
    },
    {
     "name": "stderr",
     "output_type": "stream",
     "text": [
      "13:33:55.31 LOG:\n",
      "13:33:55.31 .... <argument> = [1258306]\n"
     ]
    },
    {
     "data": {
      "text/plain": [
       "[1258306]"
      ]
     },
     "execution_count": null,
     "metadata": {},
     "output_type": "execute_result"
    },
    {
     "name": "stderr",
     "output_type": "stream",
     "text": [
      "13:33:55.32 LOG:\n",
      "13:33:55.32 .... <argument> = [1258702, 1854035, 588721, 1642255]\n"
     ]
    },
    {
     "data": {
      "text/plain": [
       "[1258702, 1854035, 588721, 1642255]"
      ]
     },
     "execution_count": null,
     "metadata": {},
     "output_type": "execute_result"
    },
    {
     "name": "stderr",
     "output_type": "stream",
     "text": [
      "13:33:55.32 LOG:\n",
      "13:33:55.33 .... <argument> = [1152725]\n"
     ]
    },
    {
     "data": {
      "text/plain": [
       "[1152725]"
      ]
     },
     "execution_count": null,
     "metadata": {},
     "output_type": "execute_result"
    },
    {
     "name": "stderr",
     "output_type": "stream",
     "text": [
      "13:33:55.33 LOG:\n",
      "13:33:55.33 .... <argument> = [163867]\n"
     ]
    },
    {
     "data": {
      "text/plain": [
       "[163867]"
      ]
     },
     "execution_count": null,
     "metadata": {},
     "output_type": "execute_result"
    },
    {
     "name": "stderr",
     "output_type": "stream",
     "text": [
      "13:33:55.34 LOG:\n",
      "13:33:55.34 .... <argument> = [156760, 1432554, 1262320]\n"
     ]
    },
    {
     "data": {
      "text/plain": [
       "[156760, 1432554, 1262320]"
      ]
     },
     "execution_count": null,
     "metadata": {},
     "output_type": "execute_result"
    },
    {
     "name": "stderr",
     "output_type": "stream",
     "text": [
      "13:33:55.35 LOG:\n",
      "13:33:55.35 .... <argument> = [1164882]\n"
     ]
    },
    {
     "data": {
      "text/plain": [
       "[1164882]"
      ]
     },
     "execution_count": null,
     "metadata": {},
     "output_type": "execute_result"
    },
    {
     "name": "stderr",
     "output_type": "stream",
     "text": [
      "13:33:55.35 LOG:\n",
      "13:33:55.35 .... <argument> = [1478461, 1534995, 1404356, 30801, 744727, 1031188, 1628319, 791231]\n"
     ]
    },
    {
     "data": {
      "text/plain": [
       "[1478461, 1534995, 1404356, 30801, 744727, 1031188, 1628319, 791231]"
      ]
     },
     "execution_count": null,
     "metadata": {},
     "output_type": "execute_result"
    },
    {
     "name": "stderr",
     "output_type": "stream",
     "text": [
      "13:33:55.36 LOG:\n",
      "13:33:55.36 .... <argument> = [27425, 1412777]\n"
     ]
    },
    {
     "data": {
      "text/plain": [
       "[27425, 1412777]"
      ]
     },
     "execution_count": null,
     "metadata": {},
     "output_type": "execute_result"
    },
    {
     "name": "stderr",
     "output_type": "stream",
     "text": [
      "13:33:55.36 LOG:\n",
      "13:33:55.36 .... <argument> = [1800349, 319580, 581383, 148883, 1464063, 1232436, 240614, 810678, 1105583]\n"
     ]
    },
    {
     "data": {
      "text/plain": [
       "[1800349, 319580, 581383, 148883, 1464063, 1232436, 240614, 810678, 1105583]"
      ]
     },
     "execution_count": null,
     "metadata": {},
     "output_type": "execute_result"
    },
    {
     "name": "stderr",
     "output_type": "stream",
     "text": [
      "13:33:55.37 LOG:\n",
      "13:33:55.37 .... <argument> = [531395, 925000]\n"
     ]
    },
    {
     "data": {
      "text/plain": [
       "[531395, 925000]"
      ]
     },
     "execution_count": null,
     "metadata": {},
     "output_type": "execute_result"
    },
    {
     "name": "stderr",
     "output_type": "stream",
     "text": [
      "13:33:55.38 LOG:\n",
      "13:33:55.38 .... <argument> = [1332346, 1406481, 674028, 663179]\n"
     ]
    },
    {
     "data": {
      "text/plain": [
       "[1332346, 1406481, 674028, 663179]"
      ]
     },
     "execution_count": null,
     "metadata": {},
     "output_type": "execute_result"
    },
    {
     "name": "stderr",
     "output_type": "stream",
     "text": [
      "13:33:55.38 LOG:\n",
      "13:33:55.38 .... <argument> = [1304792, 1532781]\n"
     ]
    },
    {
     "data": {
      "text/plain": [
       "[1304792, 1532781]"
      ]
     },
     "execution_count": null,
     "metadata": {},
     "output_type": "execute_result"
    },
    {
     "name": "stderr",
     "output_type": "stream",
     "text": [
      "13:33:55.39 LOG:\n",
      "13:33:55.39 .... <argument> = [803378]\n"
     ]
    },
    {
     "data": {
      "text/plain": [
       "[803378]"
      ]
     },
     "execution_count": null,
     "metadata": {},
     "output_type": "execute_result"
    },
    {
     "name": "stderr",
     "output_type": "stream",
     "text": [
      "13:33:55.39 LOG:\n",
      "13:33:55.40 .... <argument> = [689181, 1816241, 1562012, 1117561, 901097, 1468584, 1207428, 801041]\n"
     ]
    },
    {
     "data": {
      "text/plain": [
       "[689181, 1816241, 1562012, 1117561, 901097, 1468584, 1207428, 801041]"
      ]
     },
     "execution_count": null,
     "metadata": {},
     "output_type": "execute_result"
    },
    {
     "name": "stderr",
     "output_type": "stream",
     "text": [
      "13:33:55.40 LOG:\n",
      "13:33:55.40 .... <argument> = [1778480, 1753616, 916983]\n"
     ]
    },
    {
     "data": {
      "text/plain": [
       "[1778480, 1753616, 916983]"
      ]
     },
     "execution_count": null,
     "metadata": {},
     "output_type": "execute_result"
    },
    {
     "name": "stderr",
     "output_type": "stream",
     "text": [
      "13:33:55.41 LOG:\n",
      "13:33:55.41 .... <argument> = [1386536]\n"
     ]
    },
    {
     "data": {
      "text/plain": [
       "[1386536]"
      ]
     },
     "execution_count": null,
     "metadata": {},
     "output_type": "execute_result"
    },
    {
     "name": "stderr",
     "output_type": "stream",
     "text": [
      "13:33:55.41 LOG:\n",
      "13:33:55.42 .... <argument> = [1800871, 1504379]\n"
     ]
    },
    {
     "data": {
      "text/plain": [
       "[1800871, 1504379]"
      ]
     },
     "execution_count": null,
     "metadata": {},
     "output_type": "execute_result"
    },
    {
     "name": "stderr",
     "output_type": "stream",
     "text": [
      "13:33:55.42 LOG:\n",
      "13:33:55.42 .... <argument> = [404919]\n"
     ]
    },
    {
     "data": {
      "text/plain": [
       "[404919]"
      ]
     },
     "execution_count": null,
     "metadata": {},
     "output_type": "execute_result"
    },
    {
     "name": "stderr",
     "output_type": "stream",
     "text": [
      "13:33:55.43 LOG:\n",
      "13:33:55.43 .... <argument> = [610369]\n"
     ]
    },
    {
     "data": {
      "text/plain": [
       "[610369]"
      ]
     },
     "execution_count": null,
     "metadata": {},
     "output_type": "execute_result"
    },
    {
     "name": "stderr",
     "output_type": "stream",
     "text": [
      "13:33:55.43 LOG:\n",
      "13:33:55.44 .... <argument> = [1290173, 684195, 1363631, 107206]\n"
     ]
    },
    {
     "data": {
      "text/plain": [
       "[1290173, 684195, 1363631, 107206]"
      ]
     },
     "execution_count": null,
     "metadata": {},
     "output_type": "execute_result"
    },
    {
     "name": "stderr",
     "output_type": "stream",
     "text": [
      "13:33:55.44 LOG:\n",
      "13:33:55.44 .... <argument> = [819288, 629781, 719622]\n"
     ]
    },
    {
     "data": {
      "text/plain": [
       "[819288, 629781, 719622]"
      ]
     },
     "execution_count": null,
     "metadata": {},
     "output_type": "execute_result"
    },
    {
     "name": "stderr",
     "output_type": "stream",
     "text": [
      "13:33:55.45 LOG:\n",
      "13:33:55.45 .... <argument> = [898554]\n"
     ]
    },
    {
     "data": {
      "text/plain": [
       "[898554]"
      ]
     },
     "execution_count": null,
     "metadata": {},
     "output_type": "execute_result"
    },
    {
     "name": "stderr",
     "output_type": "stream",
     "text": [
      "13:33:55.45 LOG:\n",
      "13:33:55.45 .... <argument> = [1733487, 560948]\n"
     ]
    },
    {
     "data": {
      "text/plain": [
       "[1733487, 560948]"
      ]
     },
     "execution_count": null,
     "metadata": {},
     "output_type": "execute_result"
    },
    {
     "name": "stderr",
     "output_type": "stream",
     "text": [
      "13:33:55.46 LOG:\n",
      "13:33:55.46 .... <argument> = [303578]\n"
     ]
    },
    {
     "data": {
      "text/plain": [
       "[303578]"
      ]
     },
     "execution_count": null,
     "metadata": {},
     "output_type": "execute_result"
    },
    {
     "name": "stderr",
     "output_type": "stream",
     "text": [
      "13:33:55.47 LOG:\n",
      "13:33:55.47 .... <argument> = [194612]\n"
     ]
    },
    {
     "data": {
      "text/plain": [
       "[194612]"
      ]
     },
     "execution_count": null,
     "metadata": {},
     "output_type": "execute_result"
    },
    {
     "name": "stderr",
     "output_type": "stream",
     "text": [
      "13:33:55.48 LOG:\n",
      "13:33:55.48 .... <argument> = [90714, 940999, 150954, 1149441]\n"
     ]
    },
    {
     "data": {
      "text/plain": [
       "[90714, 940999, 150954, 1149441]"
      ]
     },
     "execution_count": null,
     "metadata": {},
     "output_type": "execute_result"
    },
    {
     "name": "stderr",
     "output_type": "stream",
     "text": [
      "13:33:55.48 LOG:\n",
      "13:33:55.48 .... <argument> = [1115478, 101491]\n"
     ]
    },
    {
     "data": {
      "text/plain": [
       "[1115478, 101491]"
      ]
     },
     "execution_count": null,
     "metadata": {},
     "output_type": "execute_result"
    },
    {
     "name": "stderr",
     "output_type": "stream",
     "text": [
      "13:33:55.49 LOG:\n",
      "13:33:55.49 .... <argument> = [439025]\n"
     ]
    },
    {
     "data": {
      "text/plain": [
       "[439025]"
      ]
     },
     "execution_count": null,
     "metadata": {},
     "output_type": "execute_result"
    },
    {
     "name": "stderr",
     "output_type": "stream",
     "text": [
      "13:33:55.50 LOG:\n",
      "13:33:55.50 .... <argument> = [693270]\n"
     ]
    },
    {
     "data": {
      "text/plain": [
       "[693270]"
      ]
     },
     "execution_count": null,
     "metadata": {},
     "output_type": "execute_result"
    },
    {
     "name": "stderr",
     "output_type": "stream",
     "text": [
      "13:33:55.50 LOG:\n",
      "13:33:55.50 .... <argument> = [1424674, 630151, 481475, 619470]\n"
     ]
    },
    {
     "data": {
      "text/plain": [
       "[1424674, 630151, 481475, 619470]"
      ]
     },
     "execution_count": null,
     "metadata": {},
     "output_type": "execute_result"
    },
    {
     "name": "stderr",
     "output_type": "stream",
     "text": [
      "13:33:55.51 LOG:\n",
      "13:33:55.51 .... <argument> = [488837, 385761, 1749067, 56985, 1211441, 1251890, 1327307, 712169]\n"
     ]
    },
    {
     "data": {
      "text/plain": [
       "[488837, 385761, 1749067, 56985, 1211441, 1251890, 1327307, 712169]"
      ]
     },
     "execution_count": null,
     "metadata": {},
     "output_type": "execute_result"
    },
    {
     "name": "stderr",
     "output_type": "stream",
     "text": [
      "13:33:55.52 LOG:\n",
      "13:33:55.52 .... <argument> = [722971]\n"
     ]
    },
    {
     "data": {
      "text/plain": [
       "[722971]"
      ]
     },
     "execution_count": null,
     "metadata": {},
     "output_type": "execute_result"
    },
    {
     "name": "stderr",
     "output_type": "stream",
     "text": [
      "13:33:55.52 LOG:\n",
      "13:33:55.53 .... <argument> = [654388]\n"
     ]
    },
    {
     "data": {
      "text/plain": [
       "[654388]"
      ]
     },
     "execution_count": null,
     "metadata": {},
     "output_type": "execute_result"
    },
    {
     "name": "stderr",
     "output_type": "stream",
     "text": [
      "13:33:55.53 LOG:\n",
      "13:33:55.53 .... <argument> = [232677, 420127]\n"
     ]
    },
    {
     "data": {
      "text/plain": [
       "[232677, 420127]"
      ]
     },
     "execution_count": null,
     "metadata": {},
     "output_type": "execute_result"
    },
    {
     "name": "stderr",
     "output_type": "stream",
     "text": [
      "13:33:55.54 LOG:\n",
      "13:33:55.54 .... <argument> = [1838523, 1330250, 514680, 1388448, 1584808, 981108, 1156516]\n"
     ]
    },
    {
     "data": {
      "text/plain": [
       "[1838523, 1330250, 514680, 1388448, 1584808, 981108, 1156516]"
      ]
     },
     "execution_count": null,
     "metadata": {},
     "output_type": "execute_result"
    },
    {
     "name": "stderr",
     "output_type": "stream",
     "text": [
      "13:33:55.54 LOG:\n",
      "13:33:55.54 .... <argument> = [808687,\n",
      "13:33:55.54                    988899,\n",
      "13:33:55.54                    884502,\n",
      "13:33:55.54                    1403849,\n",
      "13:33:55.54                    487136,\n",
      "13:33:55.54                    40841,\n",
      "13:33:55.54                    1094444,\n",
      "13:33:55.54                    172463,\n",
      "13:33:55.54                    1129685,\n",
      "13:33:55.54                    929862,\n",
      "13:33:55.54                    470210,\n",
      "13:33:55.54                    734500]\n"
     ]
    },
    {
     "data": {
      "text/plain": [
       "[808687,\n",
       " 988899,\n",
       " 884502,\n",
       " 1403849,\n",
       " 487136,\n",
       " 40841,\n",
       " 1094444,\n",
       " 172463,\n",
       " 1129685,\n",
       " 929862,\n",
       " 470210,\n",
       " 734500]"
      ]
     },
     "execution_count": null,
     "metadata": {},
     "output_type": "execute_result"
    },
    {
     "name": "stderr",
     "output_type": "stream",
     "text": [
      "13:33:55.55 LOG:\n",
      "13:33:55.55 .... <argument> = [1286636]\n"
     ]
    },
    {
     "data": {
      "text/plain": [
       "[1286636]"
      ]
     },
     "execution_count": null,
     "metadata": {},
     "output_type": "execute_result"
    },
    {
     "name": "stderr",
     "output_type": "stream",
     "text": [
      "13:33:55.55 LOG:\n",
      "13:33:55.55 .... <argument> = [1536792]\n"
     ]
    },
    {
     "data": {
      "text/plain": [
       "[1536792]"
      ]
     },
     "execution_count": null,
     "metadata": {},
     "output_type": "execute_result"
    },
    {
     "name": "stderr",
     "output_type": "stream",
     "text": [
      "13:33:55.56 LOG:\n",
      "13:33:55.56 .... <argument> = [1701906, 1734570, 1566895]\n"
     ]
    },
    {
     "data": {
      "text/plain": [
       "[1701906, 1734570, 1566895]"
      ]
     },
     "execution_count": null,
     "metadata": {},
     "output_type": "execute_result"
    },
    {
     "name": "stderr",
     "output_type": "stream",
     "text": [
      "13:33:55.56 LOG:\n",
      "13:33:55.56 .... <argument> = [1384693, 823143]\n"
     ]
    },
    {
     "data": {
      "text/plain": [
       "[1384693, 823143]"
      ]
     },
     "execution_count": null,
     "metadata": {},
     "output_type": "execute_result"
    },
    {
     "name": "stderr",
     "output_type": "stream",
     "text": [
      "13:33:55.57 LOG:\n",
      "13:33:55.57 .... <argument> = [1254221, 597742]\n"
     ]
    },
    {
     "data": {
      "text/plain": [
       "[1254221, 597742]"
      ]
     },
     "execution_count": null,
     "metadata": {},
     "output_type": "execute_result"
    },
    {
     "name": "stderr",
     "output_type": "stream",
     "text": [
      "13:33:55.58 LOG:\n",
      "13:33:55.58 .... <argument> = [937058]\n"
     ]
    },
    {
     "data": {
      "text/plain": [
       "[937058]"
      ]
     },
     "execution_count": null,
     "metadata": {},
     "output_type": "execute_result"
    },
    {
     "name": "stderr",
     "output_type": "stream",
     "text": [
      "13:33:55.58 LOG:\n",
      "13:33:55.58 .... <argument> = [890034, 1270269, 1476808, 341769, 142677, 1259798, 1007882]\n"
     ]
    },
    {
     "data": {
      "text/plain": [
       "[890034, 1270269, 1476808, 341769, 142677, 1259798, 1007882]"
      ]
     },
     "execution_count": null,
     "metadata": {},
     "output_type": "execute_result"
    },
    {
     "name": "stderr",
     "output_type": "stream",
     "text": [
      "13:33:55.59 LOG:\n",
      "13:33:55.59 .... <argument> = [1853968, 273821, 846648, 482707]\n"
     ]
    },
    {
     "data": {
      "text/plain": [
       "[1853968, 273821, 846648, 482707]"
      ]
     },
     "execution_count": null,
     "metadata": {},
     "output_type": "execute_result"
    },
    {
     "name": "stderr",
     "output_type": "stream",
     "text": [
      "13:33:55.59 LOG:\n",
      "13:33:55.60 .... <argument> = [1168074, 1835325, 1084847, 946898, 1298859, 784388, 1665718, 1431407]\n"
     ]
    },
    {
     "data": {
      "text/plain": [
       "[1168074, 1835325, 1084847, 946898, 1298859, 784388, 1665718, 1431407]"
      ]
     },
     "execution_count": null,
     "metadata": {},
     "output_type": "execute_result"
    },
    {
     "name": "stderr",
     "output_type": "stream",
     "text": [
      "13:33:55.60 LOG:\n",
      "13:33:55.60 .... <argument> = [324356]\n"
     ]
    },
    {
     "data": {
      "text/plain": [
       "[324356]"
      ]
     },
     "execution_count": null,
     "metadata": {},
     "output_type": "execute_result"
    },
    {
     "name": "stderr",
     "output_type": "stream",
     "text": [
      "13:33:55.61 LOG:\n",
      "13:33:55.61 .... <argument> = [384768, 1744717]\n"
     ]
    },
    {
     "data": {
      "text/plain": [
       "[384768, 1744717]"
      ]
     },
     "execution_count": null,
     "metadata": {},
     "output_type": "execute_result"
    },
    {
     "name": "stderr",
     "output_type": "stream",
     "text": [
      "13:33:55.61 LOG:\n",
      "13:33:55.62 .... <argument> = [997205]\n"
     ]
    },
    {
     "data": {
      "text/plain": [
       "[997205]"
      ]
     },
     "execution_count": null,
     "metadata": {},
     "output_type": "execute_result"
    },
    {
     "name": "stderr",
     "output_type": "stream",
     "text": [
      "13:33:55.62 LOG:\n",
      "13:33:55.62 .... <argument> = [634452]\n"
     ]
    },
    {
     "data": {
      "text/plain": [
       "[634452]"
      ]
     },
     "execution_count": null,
     "metadata": {},
     "output_type": "execute_result"
    },
    {
     "name": "stderr",
     "output_type": "stream",
     "text": [
      "13:33:55.63 LOG:\n",
      "13:33:55.63 .... <argument> = [613059]\n"
     ]
    },
    {
     "data": {
      "text/plain": [
       "[613059]"
      ]
     },
     "execution_count": null,
     "metadata": {},
     "output_type": "execute_result"
    },
    {
     "name": "stderr",
     "output_type": "stream",
     "text": [
      "13:33:55.63 LOG:\n",
      "13:33:55.63 .... <argument> = [928542]\n"
     ]
    },
    {
     "data": {
      "text/plain": [
       "[928542]"
      ]
     },
     "execution_count": null,
     "metadata": {},
     "output_type": "execute_result"
    },
    {
     "name": "stderr",
     "output_type": "stream",
     "text": [
      "13:33:55.64 LOG:\n",
      "13:33:55.64 .... <argument> = [742581]\n"
     ]
    },
    {
     "data": {
      "text/plain": [
       "[742581]"
      ]
     },
     "execution_count": null,
     "metadata": {},
     "output_type": "execute_result"
    },
    {
     "name": "stderr",
     "output_type": "stream",
     "text": [
      "13:33:55.65 LOG:\n",
      "13:33:55.65 .... <argument> = [1586024, 1446614]\n"
     ]
    },
    {
     "data": {
      "text/plain": [
       "[1586024, 1446614]"
      ]
     },
     "execution_count": null,
     "metadata": {},
     "output_type": "execute_result"
    },
    {
     "name": "stderr",
     "output_type": "stream",
     "text": [
      "13:33:55.65 LOG:\n",
      "13:33:55.65 .... <argument> = [1628000]\n"
     ]
    },
    {
     "data": {
      "text/plain": [
       "[1628000]"
      ]
     },
     "execution_count": null,
     "metadata": {},
     "output_type": "execute_result"
    },
    {
     "name": "stderr",
     "output_type": "stream",
     "text": [
      "13:33:55.66 LOG:\n",
      "13:33:55.66 .... <argument> = [366170]\n"
     ]
    },
    {
     "data": {
      "text/plain": [
       "[366170]"
      ]
     },
     "execution_count": null,
     "metadata": {},
     "output_type": "execute_result"
    },
    {
     "name": "stderr",
     "output_type": "stream",
     "text": [
      "13:33:55.66 LOG:\n",
      "13:33:55.66 .... <argument> = [1719548]\n"
     ]
    },
    {
     "data": {
      "text/plain": [
       "[1719548]"
      ]
     },
     "execution_count": null,
     "metadata": {},
     "output_type": "execute_result"
    },
    {
     "name": "stderr",
     "output_type": "stream",
     "text": [
      "13:33:55.67 LOG:\n",
      "13:33:55.67 .... <argument> = [1635176]\n"
     ]
    },
    {
     "data": {
      "text/plain": [
       "[1635176]"
      ]
     },
     "execution_count": null,
     "metadata": {},
     "output_type": "execute_result"
    },
    {
     "name": "stderr",
     "output_type": "stream",
     "text": [
      "13:33:55.67 LOG:\n",
      "13:33:55.67 .... <argument> = [1431632]\n"
     ]
    },
    {
     "data": {
      "text/plain": [
       "[1431632]"
      ]
     },
     "execution_count": null,
     "metadata": {},
     "output_type": "execute_result"
    },
    {
     "name": "stderr",
     "output_type": "stream",
     "text": [
      "13:33:55.68 LOG:\n",
      "13:33:55.68 .... <argument> = [407533, 774931, 1805901, 1188611, 1203471, 1497677]\n"
     ]
    },
    {
     "data": {
      "text/plain": [
       "[407533, 774931, 1805901, 1188611, 1203471, 1497677]"
      ]
     },
     "execution_count": null,
     "metadata": {},
     "output_type": "execute_result"
    },
    {
     "name": "stderr",
     "output_type": "stream",
     "text": [
      "13:33:55.69 LOG:\n",
      "13:33:55.69 .... <argument> = [221533]\n"
     ]
    },
    {
     "data": {
      "text/plain": [
       "[221533]"
      ]
     },
     "execution_count": null,
     "metadata": {},
     "output_type": "execute_result"
    },
    {
     "name": "stderr",
     "output_type": "stream",
     "text": [
      "13:33:55.69 LOG:\n",
      "13:33:55.69 .... <argument> = [614385, 1683563]\n"
     ]
    },
    {
     "data": {
      "text/plain": [
       "[614385, 1683563]"
      ]
     },
     "execution_count": null,
     "metadata": {},
     "output_type": "execute_result"
    },
    {
     "name": "stderr",
     "output_type": "stream",
     "text": [
      "13:33:55.70 LOG:\n",
      "13:33:55.70 .... <argument> = [1171858]\n"
     ]
    },
    {
     "data": {
      "text/plain": [
       "[1171858]"
      ]
     },
     "execution_count": null,
     "metadata": {},
     "output_type": "execute_result"
    },
    {
     "name": "stderr",
     "output_type": "stream",
     "text": [
      "13:33:55.70 LOG:\n",
      "13:33:55.71 .... <argument> = [972159]\n"
     ]
    },
    {
     "data": {
      "text/plain": [
       "[972159]"
      ]
     },
     "execution_count": null,
     "metadata": {},
     "output_type": "execute_result"
    },
    {
     "name": "stderr",
     "output_type": "stream",
     "text": [
      "13:33:55.71 LOG:\n",
      "13:33:55.71 .... <argument> = [1136478]\n"
     ]
    },
    {
     "data": {
      "text/plain": [
       "[1136478]"
      ]
     },
     "execution_count": null,
     "metadata": {},
     "output_type": "execute_result"
    },
    {
     "name": "stderr",
     "output_type": "stream",
     "text": [
      "13:33:55.72 LOG:\n",
      "13:33:55.72 .... <argument> = [850685]\n"
     ]
    },
    {
     "data": {
      "text/plain": [
       "[850685]"
      ]
     },
     "execution_count": null,
     "metadata": {},
     "output_type": "execute_result"
    },
    {
     "name": "stderr",
     "output_type": "stream",
     "text": [
      "13:33:55.72 LOG:\n",
      "13:33:55.72 .... <argument> = [1817803]\n"
     ]
    },
    {
     "data": {
      "text/plain": [
       "[1817803]"
      ]
     },
     "execution_count": null,
     "metadata": {},
     "output_type": "execute_result"
    },
    {
     "name": "stderr",
     "output_type": "stream",
     "text": [
      "13:33:55.73 LOG:\n",
      "13:33:55.73 .... <argument> = [1604769,\n",
      "13:33:55.73                    1501395,\n",
      "13:33:55.73                    313329,\n",
      "13:33:55.73                    818061,\n",
      "13:33:55.73                    221333,\n",
      "13:33:55.73                    1353007,\n",
      "13:33:55.73                    143082,\n",
      "13:33:55.73                    284860,\n",
      "13:33:55.73                    1177090,\n",
      "13:33:55.73                    458138]\n"
     ]
    },
    {
     "data": {
      "text/plain": [
       "[1604769,\n",
       " 1501395,\n",
       " 313329,\n",
       " 818061,\n",
       " 221333,\n",
       " 1353007,\n",
       " 143082,\n",
       " 284860,\n",
       " 1177090,\n",
       " 458138]"
      ]
     },
     "execution_count": null,
     "metadata": {},
     "output_type": "execute_result"
    },
    {
     "name": "stderr",
     "output_type": "stream",
     "text": [
      "13:33:55.74 LOG:\n",
      "13:33:55.74 .... <argument> = [725529, 398349, 1507138, 635610, 144236]\n"
     ]
    },
    {
     "data": {
      "text/plain": [
       "[725529, 398349, 1507138, 635610, 144236]"
      ]
     },
     "execution_count": null,
     "metadata": {},
     "output_type": "execute_result"
    },
    {
     "name": "stderr",
     "output_type": "stream",
     "text": [
      "13:33:55.74 LOG:\n",
      "13:33:55.74 .... <argument> = [565065]\n"
     ]
    },
    {
     "data": {
      "text/plain": [
       "[565065]"
      ]
     },
     "execution_count": null,
     "metadata": {},
     "output_type": "execute_result"
    },
    {
     "name": "stderr",
     "output_type": "stream",
     "text": [
      "13:33:55.75 LOG:\n",
      "13:33:55.75 .... <argument> = [1240426]\n"
     ]
    },
    {
     "data": {
      "text/plain": [
       "[1240426]"
      ]
     },
     "execution_count": null,
     "metadata": {},
     "output_type": "execute_result"
    },
    {
     "name": "stderr",
     "output_type": "stream",
     "text": [
      "13:33:55.76 LOG:\n",
      "13:33:55.76 .... <argument> = [1478936, 461190, 504301, 932046, 1440439, 1673641, 738098]\n"
     ]
    },
    {
     "data": {
      "text/plain": [
       "[1478936, 461190, 504301, 932046, 1440439, 1673641, 738098]"
      ]
     },
     "execution_count": null,
     "metadata": {},
     "output_type": "execute_result"
    },
    {
     "name": "stderr",
     "output_type": "stream",
     "text": [
      "13:33:55.76 LOG:\n",
      "13:33:55.76 .... <argument> = [1806580]\n"
     ]
    },
    {
     "data": {
      "text/plain": [
       "[1806580]"
      ]
     },
     "execution_count": null,
     "metadata": {},
     "output_type": "execute_result"
    },
    {
     "name": "stderr",
     "output_type": "stream",
     "text": [
      "13:33:55.77 LOG:\n",
      "13:33:55.77 .... <argument> = [1367314]\n"
     ]
    },
    {
     "data": {
      "text/plain": [
       "[1367314]"
      ]
     },
     "execution_count": null,
     "metadata": {},
     "output_type": "execute_result"
    },
    {
     "name": "stderr",
     "output_type": "stream",
     "text": [
      "13:33:55.78 LOG:\n",
      "13:33:55.78 .... <argument> = [106525,\n",
      "13:33:55.78                    154073,\n",
      "13:33:55.78                    1054710,\n",
      "13:33:55.78                    1438302,\n",
      "13:33:55.78                    1587351,\n",
      "13:33:55.78                    1424632,\n",
      "13:33:55.78                    1715476,\n",
      "13:33:55.78                    1100785,\n",
      "13:33:55.78                    1351031,\n",
      "13:33:55.78                    1821098,\n",
      "13:33:55.78                    503776,\n",
      "13:33:55.78                    72564,\n",
      "13:33:55.78                    1831207,\n",
      "13:33:55.78                    1423709,\n",
      "13:33:55.78                    224074]\n"
     ]
    },
    {
     "data": {
      "text/plain": [
       "[106525,\n",
       " 154073,\n",
       " 1054710,\n",
       " 1438302,\n",
       " 1587351,\n",
       " 1424632,\n",
       " 1715476,\n",
       " 1100785,\n",
       " 1351031,\n",
       " 1821098,\n",
       " 503776,\n",
       " 72564,\n",
       " 1831207,\n",
       " 1423709,\n",
       " 224074]"
      ]
     },
     "execution_count": null,
     "metadata": {},
     "output_type": "execute_result"
    },
    {
     "name": "stderr",
     "output_type": "stream",
     "text": [
      "13:33:55.78 LOG:\n",
      "13:33:55.79 .... <argument> = [1614459, 1315176]\n"
     ]
    },
    {
     "data": {
      "text/plain": [
       "[1614459, 1315176]"
      ]
     },
     "execution_count": null,
     "metadata": {},
     "output_type": "execute_result"
    },
    {
     "name": "stderr",
     "output_type": "stream",
     "text": [
      "13:33:55.79 LOG:\n",
      "13:33:55.79 .... <argument> = [986164]\n"
     ]
    },
    {
     "data": {
      "text/plain": [
       "[986164]"
      ]
     },
     "execution_count": null,
     "metadata": {},
     "output_type": "execute_result"
    },
    {
     "name": "stderr",
     "output_type": "stream",
     "text": [
      "13:33:55.80 LOG:\n",
      "13:33:55.80 .... <argument> = [921455]\n"
     ]
    },
    {
     "data": {
      "text/plain": [
       "[921455]"
      ]
     },
     "execution_count": null,
     "metadata": {},
     "output_type": "execute_result"
    },
    {
     "name": "stderr",
     "output_type": "stream",
     "text": [
      "13:33:55.80 LOG:\n",
      "13:33:55.80 .... <argument> = [1460571]\n"
     ]
    },
    {
     "data": {
      "text/plain": [
       "[1460571]"
      ]
     },
     "execution_count": null,
     "metadata": {},
     "output_type": "execute_result"
    },
    {
     "name": "stderr",
     "output_type": "stream",
     "text": [
      "13:33:55.81 LOG:\n",
      "13:33:55.81 .... <argument> = [986164]\n"
     ]
    },
    {
     "data": {
      "text/plain": [
       "[986164]"
      ]
     },
     "execution_count": null,
     "metadata": {},
     "output_type": "execute_result"
    },
    {
     "name": "stderr",
     "output_type": "stream",
     "text": [
      "13:33:55.81 LOG:\n",
      "13:33:55.81 .... <argument> = [364190, 465905, 1021631, 1619610, 505140, 1782127, 441106, 764955]\n"
     ]
    },
    {
     "data": {
      "text/plain": [
       "[364190, 465905, 1021631, 1619610, 505140, 1782127, 441106, 764955]"
      ]
     },
     "execution_count": null,
     "metadata": {},
     "output_type": "execute_result"
    },
    {
     "name": "stderr",
     "output_type": "stream",
     "text": [
      "13:33:55.82 LOG:\n",
      "13:33:55.82 .... <argument> = [1330139]\n"
     ]
    },
    {
     "data": {
      "text/plain": [
       "[1330139]"
      ]
     },
     "execution_count": null,
     "metadata": {},
     "output_type": "execute_result"
    },
    {
     "name": "stderr",
     "output_type": "stream",
     "text": [
      "13:33:55.83 LOG:\n",
      "13:33:55.83 .... <argument> = [1509619, 678165, 1460604, 155950, 1352258, 836626, 290987, 1117820, 1047057]\n"
     ]
    },
    {
     "data": {
      "text/plain": [
       "[1509619, 678165, 1460604, 155950, 1352258, 836626, 290987, 1117820, 1047057]"
      ]
     },
     "execution_count": null,
     "metadata": {},
     "output_type": "execute_result"
    },
    {
     "name": "stderr",
     "output_type": "stream",
     "text": [
      "13:33:55.83 LOG:\n",
      "13:33:55.83 .... <argument> = [177803, 384668]\n"
     ]
    },
    {
     "data": {
      "text/plain": [
       "[177803, 384668]"
      ]
     },
     "execution_count": null,
     "metadata": {},
     "output_type": "execute_result"
    },
    {
     "name": "stderr",
     "output_type": "stream",
     "text": [
      "13:33:55.84 LOG:\n",
      "13:33:55.84 .... <argument> = [187632, 521316]\n"
     ]
    },
    {
     "data": {
      "text/plain": [
       "[187632, 521316]"
      ]
     },
     "execution_count": null,
     "metadata": {},
     "output_type": "execute_result"
    },
    {
     "name": "stderr",
     "output_type": "stream",
     "text": [
      "13:33:55.84 LOG:\n",
      "13:33:55.85 .... <argument> = [217344, 1690534]\n"
     ]
    },
    {
     "data": {
      "text/plain": [
       "[217344, 1690534]"
      ]
     },
     "execution_count": null,
     "metadata": {},
     "output_type": "execute_result"
    },
    {
     "name": "stderr",
     "output_type": "stream",
     "text": [
      "13:33:55.85 LOG:\n",
      "13:33:55.85 .... <argument> = [1204405, 1460571, 887370, 1259573, 1370091, 944778]\n"
     ]
    },
    {
     "data": {
      "text/plain": [
       "[1204405, 1460571, 887370, 1259573, 1370091, 944778]"
      ]
     },
     "execution_count": null,
     "metadata": {},
     "output_type": "execute_result"
    },
    {
     "name": "stderr",
     "output_type": "stream",
     "text": [
      "13:33:55.86 LOG:\n",
      "13:33:55.86 .... <argument> = [1149615]\n"
     ]
    },
    {
     "data": {
      "text/plain": [
       "[1149615]"
      ]
     },
     "execution_count": null,
     "metadata": {},
     "output_type": "execute_result"
    },
    {
     "name": "stderr",
     "output_type": "stream",
     "text": [
      "13:33:55.87 LOG:\n",
      "13:33:55.87 .... <argument> = [937472]\n"
     ]
    },
    {
     "data": {
      "text/plain": [
       "[937472]"
      ]
     },
     "execution_count": null,
     "metadata": {},
     "output_type": "execute_result"
    },
    {
     "name": "stderr",
     "output_type": "stream",
     "text": [
      "13:33:55.88 LOG:\n",
      "13:33:55.88 .... <argument> = [1853183]\n"
     ]
    },
    {
     "data": {
      "text/plain": [
       "[1853183]"
      ]
     },
     "execution_count": null,
     "metadata": {},
     "output_type": "execute_result"
    },
    {
     "name": "stderr",
     "output_type": "stream",
     "text": [
      "13:33:55.88 LOG:\n",
      "13:33:55.88 .... <argument> = [1069964]\n"
     ]
    },
    {
     "data": {
      "text/plain": [
       "[1069964]"
      ]
     },
     "execution_count": null,
     "metadata": {},
     "output_type": "execute_result"
    },
    {
     "name": "stderr",
     "output_type": "stream",
     "text": [
      "13:33:55.89 LOG:\n",
      "13:33:55.89 .... <argument> = [1298728, 1127580, 1698752]\n"
     ]
    },
    {
     "data": {
      "text/plain": [
       "[1298728, 1127580, 1698752]"
      ]
     },
     "execution_count": null,
     "metadata": {},
     "output_type": "execute_result"
    },
    {
     "name": "stderr",
     "output_type": "stream",
     "text": [
      "13:33:55.89 LOG:\n",
      "13:33:55.90 .... <argument> = [970557, 886247, 500009, 1778682]\n"
     ]
    },
    {
     "data": {
      "text/plain": [
       "[970557, 886247, 500009, 1778682]"
      ]
     },
     "execution_count": null,
     "metadata": {},
     "output_type": "execute_result"
    },
    {
     "name": "stderr",
     "output_type": "stream",
     "text": [
      "13:33:55.90 LOG:\n",
      "13:33:55.90 .... <argument> = [798811]\n"
     ]
    },
    {
     "data": {
      "text/plain": [
       "[798811]"
      ]
     },
     "execution_count": null,
     "metadata": {},
     "output_type": "execute_result"
    },
    {
     "name": "stderr",
     "output_type": "stream",
     "text": [
      "13:33:55.91 LOG:\n",
      "13:33:55.91 .... <argument> = [23518]\n"
     ]
    },
    {
     "data": {
      "text/plain": [
       "[23518]"
      ]
     },
     "execution_count": null,
     "metadata": {},
     "output_type": "execute_result"
    },
    {
     "name": "stderr",
     "output_type": "stream",
     "text": [
      "13:33:55.91 LOG:\n",
      "13:33:55.92 .... <argument> = [50885]\n"
     ]
    },
    {
     "data": {
      "text/plain": [
       "[50885]"
      ]
     },
     "execution_count": null,
     "metadata": {},
     "output_type": "execute_result"
    },
    {
     "name": "stderr",
     "output_type": "stream",
     "text": [
      "13:33:55.92 LOG:\n",
      "13:33:55.92 .... <argument> = [1504057,\n",
      "13:33:55.92                    1269531,\n",
      "13:33:55.92                    1042654,\n",
      "13:33:55.92                    1820931,\n",
      "13:33:55.92                    1794344,\n",
      "13:33:55.92                    789531,\n",
      "13:33:55.92                    235726,\n",
      "13:33:55.92                    1071211,\n",
      "13:33:55.92                    1843285,\n",
      "13:33:55.92                    245594]\n"
     ]
    },
    {
     "data": {
      "text/plain": [
       "[1504057,\n",
       " 1269531,\n",
       " 1042654,\n",
       " 1820931,\n",
       " 1794344,\n",
       " 789531,\n",
       " 235726,\n",
       " 1071211,\n",
       " 1843285,\n",
       " 245594]"
      ]
     },
     "execution_count": null,
     "metadata": {},
     "output_type": "execute_result"
    },
    {
     "name": "stderr",
     "output_type": "stream",
     "text": [
      "13:33:55.93 LOG:\n",
      "13:33:55.93 .... <argument> = [134365]\n"
     ]
    },
    {
     "data": {
      "text/plain": [
       "[134365]"
      ]
     },
     "execution_count": null,
     "metadata": {},
     "output_type": "execute_result"
    },
    {
     "name": "stderr",
     "output_type": "stream",
     "text": [
      "13:33:55.93 LOG:\n",
      "13:33:55.94 .... <argument> = [723663]\n"
     ]
    },
    {
     "data": {
      "text/plain": [
       "[723663]"
      ]
     },
     "execution_count": null,
     "metadata": {},
     "output_type": "execute_result"
    },
    {
     "name": "stderr",
     "output_type": "stream",
     "text": [
      "13:33:55.94 LOG:\n",
      "13:33:55.94 .... <argument> = [1199617]\n"
     ]
    },
    {
     "data": {
      "text/plain": [
       "[1199617]"
      ]
     },
     "execution_count": null,
     "metadata": {},
     "output_type": "execute_result"
    },
    {
     "name": "stderr",
     "output_type": "stream",
     "text": [
      "13:33:55.95 LOG:\n",
      "13:33:55.95 .... <argument> = [1084758]\n"
     ]
    },
    {
     "data": {
      "text/plain": [
       "[1084758]"
      ]
     },
     "execution_count": null,
     "metadata": {},
     "output_type": "execute_result"
    },
    {
     "name": "stderr",
     "output_type": "stream",
     "text": [
      "13:33:55.95 LOG:\n",
      "13:33:55.95 .... <argument> = [432206, 1401675]\n"
     ]
    },
    {
     "data": {
      "text/plain": [
       "[432206, 1401675]"
      ]
     },
     "execution_count": null,
     "metadata": {},
     "output_type": "execute_result"
    },
    {
     "name": "stderr",
     "output_type": "stream",
     "text": [
      "13:33:55.96 LOG:\n",
      "13:33:55.96 .... <argument> = [55389, 1115468, 147648]\n"
     ]
    },
    {
     "data": {
      "text/plain": [
       "[55389, 1115468, 147648]"
      ]
     },
     "execution_count": null,
     "metadata": {},
     "output_type": "execute_result"
    },
    {
     "name": "stderr",
     "output_type": "stream",
     "text": [
      "13:33:55.97 LOG:\n",
      "13:33:55.97 .... <argument> = [345807]\n"
     ]
    },
    {
     "data": {
      "text/plain": [
       "[345807]"
      ]
     },
     "execution_count": null,
     "metadata": {},
     "output_type": "execute_result"
    },
    {
     "name": "stderr",
     "output_type": "stream",
     "text": [
      "13:33:55.97 LOG:\n",
      "13:33:55.97 .... <argument> = [1545155, 1580825]\n"
     ]
    },
    {
     "data": {
      "text/plain": [
       "[1545155, 1580825]"
      ]
     },
     "execution_count": null,
     "metadata": {},
     "output_type": "execute_result"
    },
    {
     "name": "stderr",
     "output_type": "stream",
     "text": [
      "13:33:55.98 LOG:\n",
      "13:33:55.98 .... <argument> = [596295]\n"
     ]
    },
    {
     "data": {
      "text/plain": [
       "[596295]"
      ]
     },
     "execution_count": null,
     "metadata": {},
     "output_type": "execute_result"
    },
    {
     "name": "stderr",
     "output_type": "stream",
     "text": [
      "13:33:55.98 LOG:\n",
      "13:33:55.99 .... <argument> = [1830805]\n"
     ]
    },
    {
     "data": {
      "text/plain": [
       "[1830805]"
      ]
     },
     "execution_count": null,
     "metadata": {},
     "output_type": "execute_result"
    },
    {
     "name": "stderr",
     "output_type": "stream",
     "text": [
      "13:33:55.99 LOG:\n",
      "13:33:55.99 .... <argument> = [125975, 851424, 989262, 2805, 797422, 1717716, 544452, 624112, 1748393]\n"
     ]
    },
    {
     "data": {
      "text/plain": [
       "[125975, 851424, 989262, 2805, 797422, 1717716, 544452, 624112, 1748393]"
      ]
     },
     "execution_count": null,
     "metadata": {},
     "output_type": "execute_result"
    },
    {
     "name": "stderr",
     "output_type": "stream",
     "text": [
      "13:33:56.00 LOG:\n",
      "13:33:56.00 .... <argument> = [979495]\n"
     ]
    },
    {
     "data": {
      "text/plain": [
       "[979495]"
      ]
     },
     "execution_count": null,
     "metadata": {},
     "output_type": "execute_result"
    },
    {
     "name": "stderr",
     "output_type": "stream",
     "text": [
      "13:33:56.00 LOG:\n",
      "13:33:56.00 .... <argument> = [1015632, 632565, 1358534]\n"
     ]
    },
    {
     "data": {
      "text/plain": [
       "[1015632, 632565, 1358534]"
      ]
     },
     "execution_count": null,
     "metadata": {},
     "output_type": "execute_result"
    },
    {
     "name": "stderr",
     "output_type": "stream",
     "text": [
      "13:33:56.01 LOG:\n",
      "13:33:56.01 .... <argument> = [1291256, 1563671]\n"
     ]
    },
    {
     "data": {
      "text/plain": [
       "[1291256, 1563671]"
      ]
     },
     "execution_count": null,
     "metadata": {},
     "output_type": "execute_result"
    },
    {
     "name": "stderr",
     "output_type": "stream",
     "text": [
      "13:33:56.02 LOG:\n",
      "13:33:56.02 .... <argument> = [1554258, 1150397, 894387, 977422, 1030009]\n"
     ]
    },
    {
     "data": {
      "text/plain": [
       "[1554258, 1150397, 894387, 977422, 1030009]"
      ]
     },
     "execution_count": null,
     "metadata": {},
     "output_type": "execute_result"
    },
    {
     "name": "stderr",
     "output_type": "stream",
     "text": [
      "13:33:56.02 LOG:\n",
      "13:33:56.03 .... <argument> = [1370091]\n"
     ]
    },
    {
     "data": {
      "text/plain": [
       "[1370091]"
      ]
     },
     "execution_count": null,
     "metadata": {},
     "output_type": "execute_result"
    },
    {
     "name": "stderr",
     "output_type": "stream",
     "text": [
      "13:33:56.03 LOG:\n",
      "13:33:56.03 .... <argument> = [1753716]\n"
     ]
    },
    {
     "data": {
      "text/plain": [
       "[1753716]"
      ]
     },
     "execution_count": null,
     "metadata": {},
     "output_type": "execute_result"
    },
    {
     "name": "stderr",
     "output_type": "stream",
     "text": [
      "13:33:56.04 LOG:\n",
      "13:33:56.04 .... <argument> = [1338168]\n"
     ]
    },
    {
     "data": {
      "text/plain": [
       "[1338168]"
      ]
     },
     "execution_count": null,
     "metadata": {},
     "output_type": "execute_result"
    },
    {
     "name": "stderr",
     "output_type": "stream",
     "text": [
      "13:33:56.05 LOG:\n",
      "13:33:56.05 .... <argument> = [802541]\n"
     ]
    },
    {
     "data": {
      "text/plain": [
       "[802541]"
      ]
     },
     "execution_count": null,
     "metadata": {},
     "output_type": "execute_result"
    },
    {
     "name": "stderr",
     "output_type": "stream",
     "text": [
      "13:33:56.05 LOG:\n",
      "13:33:56.06 .... <argument> = [1137786]\n"
     ]
    },
    {
     "data": {
      "text/plain": [
       "[1137786]"
      ]
     },
     "execution_count": null,
     "metadata": {},
     "output_type": "execute_result"
    },
    {
     "name": "stderr",
     "output_type": "stream",
     "text": [
      "13:33:56.06 LOG:\n",
      "13:33:56.06 .... <argument> = [675557, 382071, 1049953, 644666, 902826, 378390, 1405552, 407712]\n"
     ]
    },
    {
     "data": {
      "text/plain": [
       "[675557, 382071, 1049953, 644666, 902826, 378390, 1405552, 407712]"
      ]
     },
     "execution_count": null,
     "metadata": {},
     "output_type": "execute_result"
    },
    {
     "name": "stderr",
     "output_type": "stream",
     "text": [
      "13:33:56.07 LOG:\n",
      "13:33:56.07 .... <argument> = [1497421, 918212]\n"
     ]
    },
    {
     "data": {
      "text/plain": [
       "[1497421, 918212]"
      ]
     },
     "execution_count": null,
     "metadata": {},
     "output_type": "execute_result"
    },
    {
     "name": "stderr",
     "output_type": "stream",
     "text": [
      "13:33:56.08 LOG:\n",
      "13:33:56.08 .... <argument> = [425795]\n"
     ]
    },
    {
     "data": {
      "text/plain": [
       "[425795]"
      ]
     },
     "execution_count": null,
     "metadata": {},
     "output_type": "execute_result"
    },
    {
     "name": "stderr",
     "output_type": "stream",
     "text": [
      "13:33:56.08 LOG:\n",
      "13:33:56.08 .... <argument> = [329363, 1391052, 666500, 1436028]\n"
     ]
    },
    {
     "data": {
      "text/plain": [
       "[329363, 1391052, 666500, 1436028]"
      ]
     },
     "execution_count": null,
     "metadata": {},
     "output_type": "execute_result"
    },
    {
     "name": "stderr",
     "output_type": "stream",
     "text": [
      "13:33:56.09 LOG:\n",
      "13:33:56.09 .... <argument> = [1050377]\n"
     ]
    },
    {
     "data": {
      "text/plain": [
       "[1050377]"
      ]
     },
     "execution_count": null,
     "metadata": {},
     "output_type": "execute_result"
    },
    {
     "name": "stderr",
     "output_type": "stream",
     "text": [
      "13:33:56.10 LOG:\n",
      "13:33:56.10 .... <argument> = [282000, 432679]\n"
     ]
    },
    {
     "data": {
      "text/plain": [
       "[282000, 432679]"
      ]
     },
     "execution_count": null,
     "metadata": {},
     "output_type": "execute_result"
    },
    {
     "name": "stderr",
     "output_type": "stream",
     "text": [
      "13:33:56.10 LOG:\n",
      "13:33:56.10 .... <argument> = [97414, 351300]\n"
     ]
    },
    {
     "data": {
      "text/plain": [
       "[97414, 351300]"
      ]
     },
     "execution_count": null,
     "metadata": {},
     "output_type": "execute_result"
    },
    {
     "name": "stderr",
     "output_type": "stream",
     "text": [
      "13:33:56.11 LOG:\n",
      "13:33:56.11 .... <argument> = [31121]\n"
     ]
    },
    {
     "data": {
      "text/plain": [
       "[31121]"
      ]
     },
     "execution_count": null,
     "metadata": {},
     "output_type": "execute_result"
    },
    {
     "name": "stderr",
     "output_type": "stream",
     "text": [
      "13:33:56.12 LOG:\n",
      "13:33:56.12 .... <argument> = [442504]\n"
     ]
    },
    {
     "data": {
      "text/plain": [
       "[442504]"
      ]
     },
     "execution_count": null,
     "metadata": {},
     "output_type": "execute_result"
    },
    {
     "name": "stderr",
     "output_type": "stream",
     "text": [
      "13:33:56.12 LOG:\n",
      "13:33:56.12 .... <argument> = [881286, 194612, 277965, 726480]\n"
     ]
    },
    {
     "data": {
      "text/plain": [
       "[881286, 194612, 277965, 726480]"
      ]
     },
     "execution_count": null,
     "metadata": {},
     "output_type": "execute_result"
    },
    {
     "name": "stderr",
     "output_type": "stream",
     "text": [
      "13:33:56.13 LOG:\n",
      "13:33:56.13 .... <argument> = [305158]\n"
     ]
    },
    {
     "data": {
      "text/plain": [
       "[305158]"
      ]
     },
     "execution_count": null,
     "metadata": {},
     "output_type": "execute_result"
    },
    {
     "name": "stderr",
     "output_type": "stream",
     "text": [
      "13:33:56.14 LOG:\n",
      "13:33:56.14 .... <argument> = [1042433, 698907, 570336, 1138588]\n"
     ]
    },
    {
     "data": {
      "text/plain": [
       "[1042433, 698907, 570336, 1138588]"
      ]
     },
     "execution_count": null,
     "metadata": {},
     "output_type": "execute_result"
    },
    {
     "name": "stderr",
     "output_type": "stream",
     "text": [
      "13:33:56.14 LOG:\n",
      "13:33:56.14 .... <argument> = [597742, 1800959]\n"
     ]
    },
    {
     "data": {
      "text/plain": [
       "[597742, 1800959]"
      ]
     },
     "execution_count": null,
     "metadata": {},
     "output_type": "execute_result"
    },
    {
     "name": "stderr",
     "output_type": "stream",
     "text": [
      "13:33:56.15 LOG:\n",
      "13:33:56.15 .... <argument> = [503848]\n"
     ]
    },
    {
     "data": {
      "text/plain": [
       "[503848]"
      ]
     },
     "execution_count": null,
     "metadata": {},
     "output_type": "execute_result"
    },
    {
     "name": "stderr",
     "output_type": "stream",
     "text": [
      "13:33:56.16 LOG:\n",
      "13:33:56.16 .... <argument> = [1708450, 411961, 194612, 986954]\n"
     ]
    },
    {
     "data": {
      "text/plain": [
       "[1708450, 411961, 194612, 986954]"
      ]
     },
     "execution_count": null,
     "metadata": {},
     "output_type": "execute_result"
    },
    {
     "name": "stderr",
     "output_type": "stream",
     "text": [
      "13:33:56.16 LOG:\n",
      "13:33:56.16 .... <argument> = [75099, 909449, 1203484]\n"
     ]
    },
    {
     "data": {
      "text/plain": [
       "[75099, 909449, 1203484]"
      ]
     },
     "execution_count": null,
     "metadata": {},
     "output_type": "execute_result"
    },
    {
     "name": "stderr",
     "output_type": "stream",
     "text": [
      "13:33:56.17 LOG:\n",
      "13:33:56.17 .... <argument> = [1274966]\n"
     ]
    },
    {
     "data": {
      "text/plain": [
       "[1274966]"
      ]
     },
     "execution_count": null,
     "metadata": {},
     "output_type": "execute_result"
    },
    {
     "name": "stderr",
     "output_type": "stream",
     "text": [
      "13:33:56.18 LOG:\n",
      "13:33:56.18 .... <argument> = [1291531]\n"
     ]
    },
    {
     "data": {
      "text/plain": [
       "[1291531]"
      ]
     },
     "execution_count": null,
     "metadata": {},
     "output_type": "execute_result"
    },
    {
     "name": "stderr",
     "output_type": "stream",
     "text": [
      "13:33:56.18 LOG:\n",
      "13:33:56.19 .... <argument> = [598802, 1771012]\n"
     ]
    },
    {
     "data": {
      "text/plain": [
       "[598802, 1771012]"
      ]
     },
     "execution_count": null,
     "metadata": {},
     "output_type": "execute_result"
    },
    {
     "name": "stderr",
     "output_type": "stream",
     "text": [
      "13:33:56.19 LOG:\n",
      "13:33:56.19 .... <argument> = [701599, 466816, 405916, 1464973, 746567, 1764889, 206950, 625604, 1249236]\n"
     ]
    },
    {
     "data": {
      "text/plain": [
       "[701599, 466816, 405916, 1464973, 746567, 1764889, 206950, 625604, 1249236]"
      ]
     },
     "execution_count": null,
     "metadata": {},
     "output_type": "execute_result"
    },
    {
     "name": "stderr",
     "output_type": "stream",
     "text": [
      "13:33:56.20 LOG:\n",
      "13:33:56.20 .... <argument> = [368653, 1157544, 322370, 1608320]\n"
     ]
    },
    {
     "data": {
      "text/plain": [
       "[368653, 1157544, 322370, 1608320]"
      ]
     },
     "execution_count": null,
     "metadata": {},
     "output_type": "execute_result"
    },
    {
     "name": "stderr",
     "output_type": "stream",
     "text": [
      "13:33:56.20 LOG:\n",
      "13:33:56.20 .... <argument> = [283828, 1616627]\n"
     ]
    },
    {
     "data": {
      "text/plain": [
       "[283828, 1616627]"
      ]
     },
     "execution_count": null,
     "metadata": {},
     "output_type": "execute_result"
    },
    {
     "name": "stderr",
     "output_type": "stream",
     "text": [
      "13:33:56.21 LOG:\n",
      "13:33:56.21 .... <argument> = [749428]\n"
     ]
    },
    {
     "data": {
      "text/plain": [
       "[749428]"
      ]
     },
     "execution_count": null,
     "metadata": {},
     "output_type": "execute_result"
    },
    {
     "name": "stderr",
     "output_type": "stream",
     "text": [
      "13:33:56.21 LOG:\n",
      "13:33:56.21 .... <argument> = [1105772, 1830559, 1317135, 1431969, 498254, 84278]\n"
     ]
    },
    {
     "data": {
      "text/plain": [
       "[1105772, 1830559, 1317135, 1431969, 498254, 84278]"
      ]
     },
     "execution_count": null,
     "metadata": {},
     "output_type": "execute_result"
    },
    {
     "name": "stderr",
     "output_type": "stream",
     "text": [
      "13:33:56.22 LOG:\n",
      "13:33:56.22 .... <argument> = [1141586, 689021, 169311, 412471]\n"
     ]
    },
    {
     "data": {
      "text/plain": [
       "[1141586, 689021, 169311, 412471]"
      ]
     },
     "execution_count": null,
     "metadata": {},
     "output_type": "execute_result"
    },
    {
     "name": "stderr",
     "output_type": "stream",
     "text": [
      "13:33:56.22 LOG:\n",
      "13:33:56.22 .... <argument> = [1727393, 338192]\n"
     ]
    },
    {
     "data": {
      "text/plain": [
       "[1727393, 338192]"
      ]
     },
     "execution_count": null,
     "metadata": {},
     "output_type": "execute_result"
    },
    {
     "name": "stderr",
     "output_type": "stream",
     "text": [
      "13:33:56.23 LOG:\n",
      "13:33:56.23 .... <argument> = [917658]\n"
     ]
    },
    {
     "data": {
      "text/plain": [
       "[917658]"
      ]
     },
     "execution_count": null,
     "metadata": {},
     "output_type": "execute_result"
    },
    {
     "name": "stderr",
     "output_type": "stream",
     "text": [
      "13:33:56.23 LOG:\n",
      "13:33:56.23 .... <argument> = [454353]\n"
     ]
    },
    {
     "data": {
      "text/plain": [
       "[454353]"
      ]
     },
     "execution_count": null,
     "metadata": {},
     "output_type": "execute_result"
    },
    {
     "name": "stderr",
     "output_type": "stream",
     "text": [
      "13:33:56.24 LOG:\n",
      "13:33:56.24 .... <argument> = [146252]\n"
     ]
    },
    {
     "data": {
      "text/plain": [
       "[146252]"
      ]
     },
     "execution_count": null,
     "metadata": {},
     "output_type": "execute_result"
    },
    {
     "name": "stderr",
     "output_type": "stream",
     "text": [
      "13:33:56.25 LOG:\n",
      "13:33:56.25 .... <argument> = [262579]\n"
     ]
    },
    {
     "data": {
      "text/plain": [
       "[262579]"
      ]
     },
     "execution_count": null,
     "metadata": {},
     "output_type": "execute_result"
    },
    {
     "name": "stderr",
     "output_type": "stream",
     "text": [
      "13:33:56.25 LOG:\n",
      "13:33:56.25 .... <argument> = [1259668, 998933, 1569761]\n"
     ]
    },
    {
     "data": {
      "text/plain": [
       "[1259668, 998933, 1569761]"
      ]
     },
     "execution_count": null,
     "metadata": {},
     "output_type": "execute_result"
    },
    {
     "name": "stderr",
     "output_type": "stream",
     "text": [
      "13:33:56.26 LOG:\n",
      "13:33:56.26 .... <argument> = [1653700]\n"
     ]
    },
    {
     "data": {
      "text/plain": [
       "[1653700]"
      ]
     },
     "execution_count": null,
     "metadata": {},
     "output_type": "execute_result"
    },
    {
     "name": "stderr",
     "output_type": "stream",
     "text": [
      "13:33:56.27 LOG:\n",
      "13:33:56.27 .... <argument> = [1191288, 152728]\n"
     ]
    },
    {
     "data": {
      "text/plain": [
       "[1191288, 152728]"
      ]
     },
     "execution_count": null,
     "metadata": {},
     "output_type": "execute_result"
    },
    {
     "name": "stderr",
     "output_type": "stream",
     "text": [
      "13:33:56.27 LOG:\n",
      "13:33:56.28 .... <argument> = [991245, 174411, 980551]\n"
     ]
    },
    {
     "data": {
      "text/plain": [
       "[991245, 174411, 980551]"
      ]
     },
     "execution_count": null,
     "metadata": {},
     "output_type": "execute_result"
    },
    {
     "name": "stderr",
     "output_type": "stream",
     "text": [
      "13:33:56.28 LOG:\n",
      "13:33:56.28 .... <argument> = [1232670, 1128064, 1158956, 1781812, 1239186, 942532, 1739807, 536718]\n"
     ]
    },
    {
     "data": {
      "text/plain": [
       "[1232670, 1128064, 1158956, 1781812, 1239186, 942532, 1739807, 536718]"
      ]
     },
     "execution_count": null,
     "metadata": {},
     "output_type": "execute_result"
    },
    {
     "name": "stderr",
     "output_type": "stream",
     "text": [
      "13:33:56.29 LOG:\n",
      "13:33:56.29 .... <argument> = [1197287, 875236]\n"
     ]
    },
    {
     "data": {
      "text/plain": [
       "[1197287, 875236]"
      ]
     },
     "execution_count": null,
     "metadata": {},
     "output_type": "execute_result"
    },
    {
     "name": "stderr",
     "output_type": "stream",
     "text": [
      "13:33:56.29 LOG:\n",
      "13:33:56.29 .... <argument> = [1404608, 1195318, 1854421, 1789909, 117811, 1220899]\n"
     ]
    },
    {
     "data": {
      "text/plain": [
       "[1404608, 1195318, 1854421, 1789909, 117811, 1220899]"
      ]
     },
     "execution_count": null,
     "metadata": {},
     "output_type": "execute_result"
    },
    {
     "name": "stderr",
     "output_type": "stream",
     "text": [
      "13:33:56.30 LOG:\n",
      "13:33:56.30 .... <argument> = [700917, 1325727]\n"
     ]
    },
    {
     "data": {
      "text/plain": [
       "[700917, 1325727]"
      ]
     },
     "execution_count": null,
     "metadata": {},
     "output_type": "execute_result"
    },
    {
     "name": "stderr",
     "output_type": "stream",
     "text": [
      "13:33:56.31 LOG:\n",
      "13:33:56.31 .... <argument> = [604004]\n"
     ]
    },
    {
     "data": {
      "text/plain": [
       "[604004]"
      ]
     },
     "execution_count": null,
     "metadata": {},
     "output_type": "execute_result"
    },
    {
     "name": "stderr",
     "output_type": "stream",
     "text": [
      "13:33:56.31 LOG:\n",
      "13:33:56.32 .... <argument> = [235952, 1660475, 1374602, 253183, 944166]\n"
     ]
    },
    {
     "data": {
      "text/plain": [
       "[235952, 1660475, 1374602, 253183, 944166]"
      ]
     },
     "execution_count": null,
     "metadata": {},
     "output_type": "execute_result"
    },
    {
     "name": "stderr",
     "output_type": "stream",
     "text": [
      "13:33:56.32 LOG:\n",
      "13:33:56.32 .... <argument> = [1733943]\n"
     ]
    },
    {
     "data": {
      "text/plain": [
       "[1733943]"
      ]
     },
     "execution_count": null,
     "metadata": {},
     "output_type": "execute_result"
    },
    {
     "name": "stderr",
     "output_type": "stream",
     "text": [
      "13:33:56.33 LOG:\n",
      "13:33:56.33 .... <argument> = [1751274]\n"
     ]
    },
    {
     "data": {
      "text/plain": [
       "[1751274]"
      ]
     },
     "execution_count": null,
     "metadata": {},
     "output_type": "execute_result"
    },
    {
     "name": "stderr",
     "output_type": "stream",
     "text": [
      "13:33:56.34 LOG:\n",
      "13:33:56.34 .... <argument> = [1095524]\n"
     ]
    },
    {
     "data": {
      "text/plain": [
       "[1095524]"
      ]
     },
     "execution_count": null,
     "metadata": {},
     "output_type": "execute_result"
    },
    {
     "name": "stderr",
     "output_type": "stream",
     "text": [
      "13:33:56.34 LOG:\n",
      "13:33:56.34 .... <argument> = [651238,\n",
      "13:33:56.34                    1304914,\n",
      "13:33:56.34                    571581,\n",
      "13:33:56.34                    446441,\n",
      "13:33:56.34                    1174761,\n",
      "13:33:56.34                    1450052,\n",
      "13:33:56.34                    1675253,\n",
      "13:33:56.34                    1806232,\n",
      "13:33:56.34                    434137,\n",
      "13:33:56.34                    639870,\n",
      "13:33:56.34                    1329700]\n"
     ]
    },
    {
     "data": {
      "text/plain": [
       "[651238,\n",
       " 1304914,\n",
       " 571581,\n",
       " 446441,\n",
       " 1174761,\n",
       " 1450052,\n",
       " 1675253,\n",
       " 1806232,\n",
       " 434137,\n",
       " 639870,\n",
       " 1329700]"
      ]
     },
     "execution_count": null,
     "metadata": {},
     "output_type": "execute_result"
    },
    {
     "name": "stderr",
     "output_type": "stream",
     "text": [
      "13:33:56.35 LOG:\n",
      "13:33:56.35 .... <argument> = [648076,\n",
      "13:33:56.35                    675155,\n",
      "13:33:56.35                    1456954,\n",
      "13:33:56.35                    553639,\n",
      "13:33:56.35                    1587204,\n",
      "13:33:56.35                    718165,\n",
      "13:33:56.35                    923200,\n",
      "13:33:56.35                    139818,\n",
      "13:33:56.35                    287069,\n",
      "13:33:56.35                    650663,\n",
      "13:33:56.35                    576116,\n",
      "13:33:56.35                    1782534]\n"
     ]
    },
    {
     "data": {
      "text/plain": [
       "[648076,\n",
       " 675155,\n",
       " 1456954,\n",
       " 553639,\n",
       " 1587204,\n",
       " 718165,\n",
       " 923200,\n",
       " 139818,\n",
       " 287069,\n",
       " 650663,\n",
       " 576116,\n",
       " 1782534]"
      ]
     },
     "execution_count": null,
     "metadata": {},
     "output_type": "execute_result"
    },
    {
     "name": "stderr",
     "output_type": "stream",
     "text": [
      "13:33:56.36 LOG:\n",
      "13:33:56.36 .... <argument> = [333870, 844815]\n"
     ]
    },
    {
     "data": {
      "text/plain": [
       "[333870, 844815]"
      ]
     },
     "execution_count": null,
     "metadata": {},
     "output_type": "execute_result"
    },
    {
     "name": "stderr",
     "output_type": "stream",
     "text": [
      "13:33:56.37 LOG:\n",
      "13:33:56.37 .... <argument> = [413195, 1215370, 1592149, 1567844, 12596, 1248796]\n"
     ]
    },
    {
     "data": {
      "text/plain": [
       "[413195, 1215370, 1592149, 1567844, 12596, 1248796]"
      ]
     },
     "execution_count": null,
     "metadata": {},
     "output_type": "execute_result"
    },
    {
     "name": "stderr",
     "output_type": "stream",
     "text": [
      "13:33:56.37 LOG:\n",
      "13:33:56.38 .... <argument> = [1032523, 103220, 1021289, 219482, 795278, 1426451]\n"
     ]
    },
    {
     "data": {
      "text/plain": [
       "[1032523, 103220, 1021289, 219482, 795278, 1426451]"
      ]
     },
     "execution_count": null,
     "metadata": {},
     "output_type": "execute_result"
    },
    {
     "name": "stderr",
     "output_type": "stream",
     "text": [
      "13:33:56.38 LOG:\n",
      "13:33:56.39 .... <argument> = [418493]\n"
     ]
    },
    {
     "data": {
      "text/plain": [
       "[418493]"
      ]
     },
     "execution_count": null,
     "metadata": {},
     "output_type": "execute_result"
    },
    {
     "name": "stderr",
     "output_type": "stream",
     "text": [
      "13:33:56.39 LOG:\n",
      "13:33:56.39 .... <argument> = [398921]\n"
     ]
    },
    {
     "data": {
      "text/plain": [
       "[398921]"
      ]
     },
     "execution_count": null,
     "metadata": {},
     "output_type": "execute_result"
    },
    {
     "name": "stderr",
     "output_type": "stream",
     "text": [
      "13:33:56.40 LOG:\n",
      "13:33:56.40 .... <argument> = [986164]\n"
     ]
    },
    {
     "data": {
      "text/plain": [
       "[986164]"
      ]
     },
     "execution_count": null,
     "metadata": {},
     "output_type": "execute_result"
    },
    {
     "name": "stderr",
     "output_type": "stream",
     "text": [
      "13:33:56.41 LOG:\n",
      "13:33:56.41 .... <argument> = [55662, 1214819]\n"
     ]
    },
    {
     "data": {
      "text/plain": [
       "[55662, 1214819]"
      ]
     },
     "execution_count": null,
     "metadata": {},
     "output_type": "execute_result"
    },
    {
     "name": "stderr",
     "output_type": "stream",
     "text": [
      "13:33:56.41 LOG:\n",
      "13:33:56.41 .... <argument> = [1436856]\n"
     ]
    },
    {
     "data": {
      "text/plain": [
       "[1436856]"
      ]
     },
     "execution_count": null,
     "metadata": {},
     "output_type": "execute_result"
    },
    {
     "name": "stderr",
     "output_type": "stream",
     "text": [
      "13:33:56.42 LOG:\n",
      "13:33:56.42 .... <argument> = [12364, 1722923, 1019736]\n"
     ]
    },
    {
     "data": {
      "text/plain": [
       "[12364, 1722923, 1019736]"
      ]
     },
     "execution_count": null,
     "metadata": {},
     "output_type": "execute_result"
    },
    {
     "name": "stderr",
     "output_type": "stream",
     "text": [
      "13:33:56.42 LOG:\n",
      "13:33:56.42 .... <argument> = [1549323]\n"
     ]
    },
    {
     "data": {
      "text/plain": [
       "[1549323]"
      ]
     },
     "execution_count": null,
     "metadata": {},
     "output_type": "execute_result"
    },
    {
     "name": "stderr",
     "output_type": "stream",
     "text": [
      "13:33:56.43 LOG:\n",
      "13:33:56.43 .... <argument> = [1176612, 517978, 1748561, 250384, 1289211]\n"
     ]
    },
    {
     "data": {
      "text/plain": [
       "[1176612, 517978, 1748561, 250384, 1289211]"
      ]
     },
     "execution_count": null,
     "metadata": {},
     "output_type": "execute_result"
    },
    {
     "name": "stderr",
     "output_type": "stream",
     "text": [
      "13:33:56.44 LOG:\n",
      "13:33:56.44 .... <argument> = [1588382, 1694411]\n"
     ]
    },
    {
     "data": {
      "text/plain": [
       "[1588382, 1694411]"
      ]
     },
     "execution_count": null,
     "metadata": {},
     "output_type": "execute_result"
    },
    {
     "name": "stderr",
     "output_type": "stream",
     "text": [
      "13:33:56.44 LOG:\n",
      "13:33:56.44 .... <argument> = [1449873]\n"
     ]
    },
    {
     "data": {
      "text/plain": [
       "[1449873]"
      ]
     },
     "execution_count": null,
     "metadata": {},
     "output_type": "execute_result"
    },
    {
     "name": "stderr",
     "output_type": "stream",
     "text": [
      "13:33:56.45 LOG:\n",
      "13:33:56.45 .... <argument> = [1304914]\n"
     ]
    },
    {
     "data": {
      "text/plain": [
       "[1304914]"
      ]
     },
     "execution_count": null,
     "metadata": {},
     "output_type": "execute_result"
    },
    {
     "name": "stderr",
     "output_type": "stream",
     "text": [
      "13:33:56.46 LOG:\n",
      "13:33:56.46 .... <argument> = [224347, 1836775, 1080743, 713257]\n"
     ]
    },
    {
     "data": {
      "text/plain": [
       "[224347, 1836775, 1080743, 713257]"
      ]
     },
     "execution_count": null,
     "metadata": {},
     "output_type": "execute_result"
    },
    {
     "name": "stderr",
     "output_type": "stream",
     "text": [
      "13:33:56.47 LOG:\n",
      "13:33:56.47 .... <argument> = [1568916]\n"
     ]
    },
    {
     "data": {
      "text/plain": [
       "[1568916]"
      ]
     },
     "execution_count": null,
     "metadata": {},
     "output_type": "execute_result"
    },
    {
     "name": "stderr",
     "output_type": "stream",
     "text": [
      "13:33:56.48 LOG:\n",
      "13:33:56.48 .... <argument> = [1089988, 905646, 1284307]\n"
     ]
    },
    {
     "data": {
      "text/plain": [
       "[1089988, 905646, 1284307]"
      ]
     },
     "execution_count": null,
     "metadata": {},
     "output_type": "execute_result"
    },
    {
     "name": "stderr",
     "output_type": "stream",
     "text": [
      "13:33:56.48 LOG:\n",
      "13:33:56.49 .... <argument> = [274863, 482831]\n"
     ]
    },
    {
     "data": {
      "text/plain": [
       "[274863, 482831]"
      ]
     },
     "execution_count": null,
     "metadata": {},
     "output_type": "execute_result"
    },
    {
     "name": "stderr",
     "output_type": "stream",
     "text": [
      "13:33:56.49 LOG:\n",
      "13:33:56.49 .... <argument> = [1141063]\n"
     ]
    },
    {
     "data": {
      "text/plain": [
       "[1141063]"
      ]
     },
     "execution_count": null,
     "metadata": {},
     "output_type": "execute_result"
    },
    {
     "name": "stderr",
     "output_type": "stream",
     "text": [
      "13:33:56.50 LOG:\n",
      "13:33:56.50 .... <argument> = [909384]\n"
     ]
    },
    {
     "data": {
      "text/plain": [
       "[909384]"
      ]
     },
     "execution_count": null,
     "metadata": {},
     "output_type": "execute_result"
    },
    {
     "name": "stderr",
     "output_type": "stream",
     "text": [
      "13:33:56.51 LOG:\n",
      "13:33:56.51 .... <argument> = [131839, 663333, 1104350, 439222]\n"
     ]
    },
    {
     "data": {
      "text/plain": [
       "[131839, 663333, 1104350, 439222]"
      ]
     },
     "execution_count": null,
     "metadata": {},
     "output_type": "execute_result"
    },
    {
     "name": "stderr",
     "output_type": "stream",
     "text": [
      "13:33:56.51 LOG:\n",
      "13:33:56.52 .... <argument> = [323804, 1318124, 522450, 149039]\n"
     ]
    },
    {
     "data": {
      "text/plain": [
       "[323804, 1318124, 522450, 149039]"
      ]
     },
     "execution_count": null,
     "metadata": {},
     "output_type": "execute_result"
    },
    {
     "name": "stderr",
     "output_type": "stream",
     "text": [
      "13:33:56.52 LOG:\n",
      "13:33:56.52 .... <argument> = [688607]\n"
     ]
    },
    {
     "data": {
      "text/plain": [
       "[688607]"
      ]
     },
     "execution_count": null,
     "metadata": {},
     "output_type": "execute_result"
    },
    {
     "name": "stderr",
     "output_type": "stream",
     "text": [
      "13:33:56.53 LOG:\n",
      "13:33:56.53 .... <argument> = [1582723, 297106, 1146473]\n"
     ]
    },
    {
     "data": {
      "text/plain": [
       "[1582723, 297106, 1146473]"
      ]
     },
     "execution_count": null,
     "metadata": {},
     "output_type": "execute_result"
    },
    {
     "name": "stderr",
     "output_type": "stream",
     "text": [
      "13:33:56.54 LOG:\n",
      "13:33:56.54 .... <argument> = [1429847, 775650]\n"
     ]
    },
    {
     "data": {
      "text/plain": [
       "[1429847, 775650]"
      ]
     },
     "execution_count": null,
     "metadata": {},
     "output_type": "execute_result"
    },
    {
     "name": "stderr",
     "output_type": "stream",
     "text": [
      "13:33:56.54 LOG:\n",
      "13:33:56.55 .... <argument> = [1612914]\n"
     ]
    },
    {
     "data": {
      "text/plain": [
       "[1612914]"
      ]
     },
     "execution_count": null,
     "metadata": {},
     "output_type": "execute_result"
    },
    {
     "name": "stderr",
     "output_type": "stream",
     "text": [
      "13:33:56.55 LOG:\n",
      "13:33:56.55 .... <argument> = [1504298, 88659]\n"
     ]
    },
    {
     "data": {
      "text/plain": [
       "[1504298, 88659]"
      ]
     },
     "execution_count": null,
     "metadata": {},
     "output_type": "execute_result"
    },
    {
     "name": "stderr",
     "output_type": "stream",
     "text": [
      "13:33:56.56 LOG:\n",
      "13:33:56.56 .... <argument> = [1117997]\n"
     ]
    },
    {
     "data": {
      "text/plain": [
       "[1117997]"
      ]
     },
     "execution_count": null,
     "metadata": {},
     "output_type": "execute_result"
    },
    {
     "name": "stderr",
     "output_type": "stream",
     "text": [
      "13:33:56.56 LOG:\n",
      "13:33:56.56 .... <argument> = [389273]\n"
     ]
    },
    {
     "data": {
      "text/plain": [
       "[389273]"
      ]
     },
     "execution_count": null,
     "metadata": {},
     "output_type": "execute_result"
    },
    {
     "name": "stderr",
     "output_type": "stream",
     "text": [
      "13:33:56.57 LOG:\n",
      "13:33:56.57 .... <argument> = [279335]\n"
     ]
    },
    {
     "data": {
      "text/plain": [
       "[279335]"
      ]
     },
     "execution_count": null,
     "metadata": {},
     "output_type": "execute_result"
    },
    {
     "name": "stderr",
     "output_type": "stream",
     "text": [
      "13:33:56.57 LOG:\n",
      "13:33:56.58 .... <argument> = [1634917, 1262018, 1756194, 1384129, 146160, 1842170, 1593619, 541076]\n"
     ]
    },
    {
     "data": {
      "text/plain": [
       "[1634917, 1262018, 1756194, 1384129, 146160, 1842170, 1593619, 541076]"
      ]
     },
     "execution_count": null,
     "metadata": {},
     "output_type": "execute_result"
    },
    {
     "name": "stderr",
     "output_type": "stream",
     "text": [
      "13:33:56.58 LOG:\n",
      "13:33:56.58 .... <argument> = [562947]\n"
     ]
    },
    {
     "data": {
      "text/plain": [
       "[562947]"
      ]
     },
     "execution_count": null,
     "metadata": {},
     "output_type": "execute_result"
    },
    {
     "name": "stderr",
     "output_type": "stream",
     "text": [
      "13:33:56.58 LOG:\n",
      "13:33:56.59 .... <argument> = [1731157, 1668343, 615566, 579690, 1644439]\n"
     ]
    },
    {
     "data": {
      "text/plain": [
       "[1731157, 1668343, 615566, 579690, 1644439]"
      ]
     },
     "execution_count": null,
     "metadata": {},
     "output_type": "execute_result"
    },
    {
     "name": "stderr",
     "output_type": "stream",
     "text": [
      "13:33:56.59 LOG:\n",
      "13:33:56.59 .... <argument> = [808459]\n"
     ]
    },
    {
     "data": {
      "text/plain": [
       "[808459]"
      ]
     },
     "execution_count": null,
     "metadata": {},
     "output_type": "execute_result"
    },
    {
     "name": "stderr",
     "output_type": "stream",
     "text": [
      "13:33:56.60 LOG:\n",
      "13:33:56.60 .... <argument> = [201884, 674118]\n"
     ]
    },
    {
     "data": {
      "text/plain": [
       "[201884, 674118]"
      ]
     },
     "execution_count": null,
     "metadata": {},
     "output_type": "execute_result"
    },
    {
     "name": "stderr",
     "output_type": "stream",
     "text": [
      "13:33:56.60 LOG:\n",
      "13:33:56.61 .... <argument> = [576666]\n"
     ]
    },
    {
     "data": {
      "text/plain": [
       "[576666]"
      ]
     },
     "execution_count": null,
     "metadata": {},
     "output_type": "execute_result"
    },
    {
     "name": "stderr",
     "output_type": "stream",
     "text": [
      "13:33:56.61 LOG:\n",
      "13:33:56.61 .... <argument> = [460148]\n"
     ]
    },
    {
     "data": {
      "text/plain": [
       "[460148]"
      ]
     },
     "execution_count": null,
     "metadata": {},
     "output_type": "execute_result"
    },
    {
     "name": "stderr",
     "output_type": "stream",
     "text": [
      "13:33:56.62 LOG:\n",
      "13:33:56.62 .... <argument> = [1558724]\n"
     ]
    },
    {
     "data": {
      "text/plain": [
       "[1558724]"
      ]
     },
     "execution_count": null,
     "metadata": {},
     "output_type": "execute_result"
    },
    {
     "name": "stderr",
     "output_type": "stream",
     "text": [
      "13:33:56.63 LOG:\n",
      "13:33:56.63 .... <argument> = [231926, 1796349]\n"
     ]
    },
    {
     "data": {
      "text/plain": [
       "[231926, 1796349]"
      ]
     },
     "execution_count": null,
     "metadata": {},
     "output_type": "execute_result"
    },
    {
     "name": "stderr",
     "output_type": "stream",
     "text": [
      "13:33:56.63 LOG:\n",
      "13:33:56.63 .... <argument> = [136219]\n"
     ]
    },
    {
     "data": {
      "text/plain": [
       "[136219]"
      ]
     },
     "execution_count": null,
     "metadata": {},
     "output_type": "execute_result"
    },
    {
     "name": "stderr",
     "output_type": "stream",
     "text": [
      "13:33:56.64 LOG:\n",
      "13:33:56.64 .... <argument> = [1616381]\n"
     ]
    },
    {
     "data": {
      "text/plain": [
       "[1616381]"
      ]
     },
     "execution_count": null,
     "metadata": {},
     "output_type": "execute_result"
    },
    {
     "name": "stderr",
     "output_type": "stream",
     "text": [
      "13:33:56.65 LOG:\n",
      "13:33:56.65 .... <argument> = [823814, 1466369]\n"
     ]
    },
    {
     "data": {
      "text/plain": [
       "[823814, 1466369]"
      ]
     },
     "execution_count": null,
     "metadata": {},
     "output_type": "execute_result"
    },
    {
     "name": "stderr",
     "output_type": "stream",
     "text": [
      "13:33:56.66 LOG:\n",
      "13:33:56.66 .... <argument> = [1232788, 835866]\n"
     ]
    },
    {
     "data": {
      "text/plain": [
       "[1232788, 835866]"
      ]
     },
     "execution_count": null,
     "metadata": {},
     "output_type": "execute_result"
    },
    {
     "name": "stderr",
     "output_type": "stream",
     "text": [
      "13:33:56.66 LOG:\n",
      "13:33:56.66 .... <argument> = [201195]\n"
     ]
    },
    {
     "data": {
      "text/plain": [
       "[201195]"
      ]
     },
     "execution_count": null,
     "metadata": {},
     "output_type": "execute_result"
    },
    {
     "name": "stderr",
     "output_type": "stream",
     "text": [
      "13:33:56.67 LOG:\n",
      "13:33:56.67 .... <argument> = [1046574, 1610320]\n"
     ]
    },
    {
     "data": {
      "text/plain": [
       "[1046574, 1610320]"
      ]
     },
     "execution_count": null,
     "metadata": {},
     "output_type": "execute_result"
    },
    {
     "name": "stderr",
     "output_type": "stream",
     "text": [
      "13:33:56.68 LOG:\n",
      "13:33:56.68 .... <argument> = [1478473]\n"
     ]
    },
    {
     "data": {
      "text/plain": [
       "[1478473]"
      ]
     },
     "execution_count": null,
     "metadata": {},
     "output_type": "execute_result"
    },
    {
     "name": "stderr",
     "output_type": "stream",
     "text": [
      "13:33:56.68 LOG:\n",
      "13:33:56.68 .... <argument> = [1259147]\n"
     ]
    },
    {
     "data": {
      "text/plain": [
       "[1259147]"
      ]
     },
     "execution_count": null,
     "metadata": {},
     "output_type": "execute_result"
    },
    {
     "name": "stderr",
     "output_type": "stream",
     "text": [
      "13:33:56.69 LOG:\n",
      "13:33:56.69 .... <argument> = [1651565, 645442]\n"
     ]
    },
    {
     "data": {
      "text/plain": [
       "[1651565, 645442]"
      ]
     },
     "execution_count": null,
     "metadata": {},
     "output_type": "execute_result"
    },
    {
     "name": "stderr",
     "output_type": "stream",
     "text": [
      "13:33:56.70 LOG:\n",
      "13:33:56.70 .... <argument> = [846336, 485682, 279533, 597855]\n"
     ]
    },
    {
     "data": {
      "text/plain": [
       "[846336, 485682, 279533, 597855]"
      ]
     },
     "execution_count": null,
     "metadata": {},
     "output_type": "execute_result"
    },
    {
     "name": "stderr",
     "output_type": "stream",
     "text": [
      "13:33:56.70 LOG:\n",
      "13:33:56.71 .... <argument> = [839166, 1744883, 1075560, 823507, 1240088]\n"
     ]
    },
    {
     "data": {
      "text/plain": [
       "[839166, 1744883, 1075560, 823507, 1240088]"
      ]
     },
     "execution_count": null,
     "metadata": {},
     "output_type": "execute_result"
    },
    {
     "name": "stderr",
     "output_type": "stream",
     "text": [
      "13:33:56.71 LOG:\n",
      "13:33:56.71 .... <argument> = [528667, 309445]\n"
     ]
    },
    {
     "data": {
      "text/plain": [
       "[528667, 309445]"
      ]
     },
     "execution_count": null,
     "metadata": {},
     "output_type": "execute_result"
    },
    {
     "name": "stderr",
     "output_type": "stream",
     "text": [
      "13:33:56.72 LOG:\n",
      "13:33:56.72 .... <argument> = [1499632]\n"
     ]
    },
    {
     "data": {
      "text/plain": [
       "[1499632]"
      ]
     },
     "execution_count": null,
     "metadata": {},
     "output_type": "execute_result"
    },
    {
     "name": "stderr",
     "output_type": "stream",
     "text": [
      "13:33:56.72 LOG:\n",
      "13:33:56.73 .... <argument> = [1707476, 475580]\n"
     ]
    },
    {
     "data": {
      "text/plain": [
       "[1707476, 475580]"
      ]
     },
     "execution_count": null,
     "metadata": {},
     "output_type": "execute_result"
    },
    {
     "name": "stderr",
     "output_type": "stream",
     "text": [
      "13:33:56.73 LOG:\n",
      "13:33:56.73 .... <argument> = [1128071, 1645454, 883326, 944553, 897742]\n"
     ]
    },
    {
     "data": {
      "text/plain": [
       "[1128071, 1645454, 883326, 944553, 897742]"
      ]
     },
     "execution_count": null,
     "metadata": {},
     "output_type": "execute_result"
    },
    {
     "name": "stderr",
     "output_type": "stream",
     "text": [
      "13:33:56.74 LOG:\n",
      "13:33:56.74 .... <argument> = [798718]\n"
     ]
    },
    {
     "data": {
      "text/plain": [
       "[798718]"
      ]
     },
     "execution_count": null,
     "metadata": {},
     "output_type": "execute_result"
    },
    {
     "name": "stderr",
     "output_type": "stream",
     "text": [
      "13:33:56.74 LOG:\n",
      "13:33:56.74 .... <argument> = [342765]\n"
     ]
    },
    {
     "data": {
      "text/plain": [
       "[342765]"
      ]
     },
     "execution_count": null,
     "metadata": {},
     "output_type": "execute_result"
    },
    {
     "name": "stderr",
     "output_type": "stream",
     "text": [
      "13:33:56.75 LOG:\n",
      "13:33:56.75 .... <argument> = [619964]\n"
     ]
    },
    {
     "data": {
      "text/plain": [
       "[619964]"
      ]
     },
     "execution_count": null,
     "metadata": {},
     "output_type": "execute_result"
    },
    {
     "name": "stderr",
     "output_type": "stream",
     "text": [
      "13:33:56.76 LOG:\n",
      "13:33:56.76 .... <argument> = [579784, 534813, 127470, 1083549]\n"
     ]
    },
    {
     "data": {
      "text/plain": [
       "[579784, 534813, 127470, 1083549]"
      ]
     },
     "execution_count": null,
     "metadata": {},
     "output_type": "execute_result"
    },
    {
     "name": "stderr",
     "output_type": "stream",
     "text": [
      "13:33:56.76 LOG:\n",
      "13:33:56.76 .... <argument> = [167015]\n"
     ]
    },
    {
     "data": {
      "text/plain": [
       "[167015]"
      ]
     },
     "execution_count": null,
     "metadata": {},
     "output_type": "execute_result"
    },
    {
     "name": "stderr",
     "output_type": "stream",
     "text": [
      "13:33:56.77 LOG:\n",
      "13:33:56.77 .... <argument> = [517762]\n"
     ]
    },
    {
     "data": {
      "text/plain": [
       "[517762]"
      ]
     },
     "execution_count": null,
     "metadata": {},
     "output_type": "execute_result"
    },
    {
     "name": "stderr",
     "output_type": "stream",
     "text": [
      "13:33:56.78 LOG:\n",
      "13:33:56.78 .... <argument> = [954193, 247240, 506436, 210207, 151775, 544304, 1439071]\n"
     ]
    },
    {
     "data": {
      "text/plain": [
       "[954193, 247240, 506436, 210207, 151775, 544304, 1439071]"
      ]
     },
     "execution_count": null,
     "metadata": {},
     "output_type": "execute_result"
    },
    {
     "name": "stderr",
     "output_type": "stream",
     "text": [
      "13:33:56.78 LOG:\n",
      "13:33:56.78 .... <argument> = [1321398]\n"
     ]
    },
    {
     "data": {
      "text/plain": [
       "[1321398]"
      ]
     },
     "execution_count": null,
     "metadata": {},
     "output_type": "execute_result"
    },
    {
     "name": "stderr",
     "output_type": "stream",
     "text": [
      "13:33:56.79 LOG:\n",
      "13:33:56.79 .... <argument> = [1566130, 1379483, 638880, 60386, 1337423, 1041833, 1135199, 730391]\n"
     ]
    },
    {
     "data": {
      "text/plain": [
       "[1566130, 1379483, 638880, 60386, 1337423, 1041833, 1135199, 730391]"
      ]
     },
     "execution_count": null,
     "metadata": {},
     "output_type": "execute_result"
    },
    {
     "name": "stderr",
     "output_type": "stream",
     "text": [
      "13:33:56.80 LOG:\n",
      "13:33:56.80 .... <argument> = [511499, 7651, 503010, 1325760, 1438872, 40073, 108125, 1674289]\n"
     ]
    },
    {
     "data": {
      "text/plain": [
       "[511499, 7651, 503010, 1325760, 1438872, 40073, 108125, 1674289]"
      ]
     },
     "execution_count": null,
     "metadata": {},
     "output_type": "execute_result"
    },
    {
     "name": "stderr",
     "output_type": "stream",
     "text": [
      "13:33:56.80 LOG:\n",
      "13:33:56.81 .... <argument> = [1501351]\n"
     ]
    },
    {
     "data": {
      "text/plain": [
       "[1501351]"
      ]
     },
     "execution_count": null,
     "metadata": {},
     "output_type": "execute_result"
    },
    {
     "name": "stderr",
     "output_type": "stream",
     "text": [
      "13:33:56.81 LOG:\n",
      "13:33:56.81 .... <argument> = [132096]\n"
     ]
    },
    {
     "data": {
      "text/plain": [
       "[132096]"
      ]
     },
     "execution_count": null,
     "metadata": {},
     "output_type": "execute_result"
    },
    {
     "name": "stderr",
     "output_type": "stream",
     "text": [
      "13:33:56.82 LOG:\n",
      "13:33:56.82 .... <argument> = [291229, 604085]\n"
     ]
    },
    {
     "data": {
      "text/plain": [
       "[291229, 604085]"
      ]
     },
     "execution_count": null,
     "metadata": {},
     "output_type": "execute_result"
    },
    {
     "name": "stderr",
     "output_type": "stream",
     "text": [
      "13:33:56.82 LOG:\n",
      "13:33:56.82 .... <argument> = [360989, 1230519, 895810, 811843]\n"
     ]
    },
    {
     "data": {
      "text/plain": [
       "[360989, 1230519, 895810, 811843]"
      ]
     },
     "execution_count": null,
     "metadata": {},
     "output_type": "execute_result"
    },
    {
     "name": "stderr",
     "output_type": "stream",
     "text": [
      "13:33:56.83 LOG:\n",
      "13:33:56.83 .... <argument> = [1153482, 1077738, 573918, 1685554, 1216613, 1311630, 500869]\n"
     ]
    },
    {
     "data": {
      "text/plain": [
       "[1153482, 1077738, 573918, 1685554, 1216613, 1311630, 500869]"
      ]
     },
     "execution_count": null,
     "metadata": {},
     "output_type": "execute_result"
    },
    {
     "name": "stderr",
     "output_type": "stream",
     "text": [
      "13:33:56.84 LOG:\n",
      "13:33:56.84 .... <argument> = [1496876, 307317]\n"
     ]
    },
    {
     "data": {
      "text/plain": [
       "[1496876, 307317]"
      ]
     },
     "execution_count": null,
     "metadata": {},
     "output_type": "execute_result"
    },
    {
     "name": "stderr",
     "output_type": "stream",
     "text": [
      "13:33:56.84 LOG:\n",
      "13:33:56.84 .... <argument> = [1684953, 1647491, 1424634]\n"
     ]
    },
    {
     "data": {
      "text/plain": [
       "[1684953, 1647491, 1424634]"
      ]
     },
     "execution_count": null,
     "metadata": {},
     "output_type": "execute_result"
    },
    {
     "name": "stderr",
     "output_type": "stream",
     "text": [
      "13:33:56.85 LOG:\n",
      "13:33:56.85 .... <argument> = [122046]\n"
     ]
    },
    {
     "data": {
      "text/plain": [
       "[122046]"
      ]
     },
     "execution_count": null,
     "metadata": {},
     "output_type": "execute_result"
    },
    {
     "name": "stderr",
     "output_type": "stream",
     "text": [
      "13:33:56.86 LOG:\n",
      "13:33:56.86 .... <argument> = [224347]\n"
     ]
    },
    {
     "data": {
      "text/plain": [
       "[224347]"
      ]
     },
     "execution_count": null,
     "metadata": {},
     "output_type": "execute_result"
    },
    {
     "name": "stderr",
     "output_type": "stream",
     "text": [
      "13:33:56.86 LOG:\n",
      "13:33:56.87 .... <argument> = [194612]\n"
     ]
    },
    {
     "data": {
      "text/plain": [
       "[194612]"
      ]
     },
     "execution_count": null,
     "metadata": {},
     "output_type": "execute_result"
    },
    {
     "name": "stderr",
     "output_type": "stream",
     "text": [
      "13:33:56.87 LOG:\n",
      "13:33:56.87 .... <argument> = [1548742, 1509935, 548754, 829416, 1462420, 305402, 98351]\n"
     ]
    },
    {
     "data": {
      "text/plain": [
       "[1548742, 1509935, 548754, 829416, 1462420, 305402, 98351]"
      ]
     },
     "execution_count": null,
     "metadata": {},
     "output_type": "execute_result"
    },
    {
     "name": "stderr",
     "output_type": "stream",
     "text": [
      "13:33:56.88 LOG:\n",
      "13:33:56.88 .... <argument> = [267978]\n"
     ]
    },
    {
     "data": {
      "text/plain": [
       "[267978]"
      ]
     },
     "execution_count": null,
     "metadata": {},
     "output_type": "execute_result"
    },
    {
     "name": "stderr",
     "output_type": "stream",
     "text": [
      "13:33:56.88 LOG:\n",
      "13:33:56.88 .... <argument> = [627897, 887630]\n"
     ]
    },
    {
     "data": {
      "text/plain": [
       "[627897, 887630]"
      ]
     },
     "execution_count": null,
     "metadata": {},
     "output_type": "execute_result"
    },
    {
     "name": "stderr",
     "output_type": "stream",
     "text": [
      "13:33:56.89 LOG:\n",
      "13:33:56.89 .... <argument> = [975481]\n"
     ]
    },
    {
     "data": {
      "text/plain": [
       "[975481]"
      ]
     },
     "execution_count": null,
     "metadata": {},
     "output_type": "execute_result"
    },
    {
     "name": "stderr",
     "output_type": "stream",
     "text": [
      "13:33:56.89 LOG:\n",
      "13:33:56.90 .... <argument> = [1661844, 1814543, 930816, 104421, 1737345]\n"
     ]
    },
    {
     "data": {
      "text/plain": [
       "[1661844, 1814543, 930816, 104421, 1737345]"
      ]
     },
     "execution_count": null,
     "metadata": {},
     "output_type": "execute_result"
    },
    {
     "name": "stderr",
     "output_type": "stream",
     "text": [
      "13:33:56.90 LOG:\n",
      "13:33:56.90 .... <argument> = [1459727]\n"
     ]
    },
    {
     "data": {
      "text/plain": [
       "[1459727]"
      ]
     },
     "execution_count": null,
     "metadata": {},
     "output_type": "execute_result"
    },
    {
     "name": "stderr",
     "output_type": "stream",
     "text": [
      "13:33:56.91 LOG:\n",
      "13:33:56.91 .... <argument> = [783501]\n"
     ]
    },
    {
     "data": {
      "text/plain": [
       "[783501]"
      ]
     },
     "execution_count": null,
     "metadata": {},
     "output_type": "execute_result"
    },
    {
     "name": "stderr",
     "output_type": "stream",
     "text": [
      "13:33:56.91 LOG:\n",
      "13:33:56.91 .... <argument> = [1339435]\n"
     ]
    },
    {
     "data": {
      "text/plain": [
       "[1339435]"
      ]
     },
     "execution_count": null,
     "metadata": {},
     "output_type": "execute_result"
    },
    {
     "name": "stderr",
     "output_type": "stream",
     "text": [
      "13:33:56.92 LOG:\n",
      "13:33:56.92 .... <argument> = [250427, 1682122]\n"
     ]
    },
    {
     "data": {
      "text/plain": [
       "[250427, 1682122]"
      ]
     },
     "execution_count": null,
     "metadata": {},
     "output_type": "execute_result"
    },
    {
     "name": "stderr",
     "output_type": "stream",
     "text": [
      "13:33:56.93 LOG:\n",
      "13:33:56.93 .... <argument> = [292184]\n"
     ]
    },
    {
     "data": {
      "text/plain": [
       "[292184]"
      ]
     },
     "execution_count": null,
     "metadata": {},
     "output_type": "execute_result"
    },
    {
     "name": "stderr",
     "output_type": "stream",
     "text": [
      "13:33:56.93 LOG:\n",
      "13:33:56.93 .... <argument> = [425682, 430400]\n"
     ]
    },
    {
     "data": {
      "text/plain": [
       "[425682, 430400]"
      ]
     },
     "execution_count": null,
     "metadata": {},
     "output_type": "execute_result"
    },
    {
     "name": "stderr",
     "output_type": "stream",
     "text": [
      "13:33:56.94 LOG:\n",
      "13:33:56.94 .... <argument> = [1841503, 1754811, 1475942, 974927]\n"
     ]
    },
    {
     "data": {
      "text/plain": [
       "[1841503, 1754811, 1475942, 974927]"
      ]
     },
     "execution_count": null,
     "metadata": {},
     "output_type": "execute_result"
    },
    {
     "name": "stderr",
     "output_type": "stream",
     "text": [
      "13:33:56.95 LOG:\n",
      "13:33:56.95 .... <argument> = [442504, 1717449]\n"
     ]
    },
    {
     "data": {
      "text/plain": [
       "[442504, 1717449]"
      ]
     },
     "execution_count": null,
     "metadata": {},
     "output_type": "execute_result"
    },
    {
     "name": "stderr",
     "output_type": "stream",
     "text": [
      "13:33:56.95 LOG:\n",
      "13:33:56.95 .... <argument> = [1317714, 685010, 1482380]\n"
     ]
    },
    {
     "data": {
      "text/plain": [
       "[1317714, 685010, 1482380]"
      ]
     },
     "execution_count": null,
     "metadata": {},
     "output_type": "execute_result"
    },
    {
     "name": "stderr",
     "output_type": "stream",
     "text": [
      "13:33:56.96 LOG:\n",
      "13:33:56.96 .... <argument> = [1765740, 214063, 1101417]\n"
     ]
    },
    {
     "data": {
      "text/plain": [
       "[1765740, 214063, 1101417]"
      ]
     },
     "execution_count": null,
     "metadata": {},
     "output_type": "execute_result"
    },
    {
     "name": "stderr",
     "output_type": "stream",
     "text": [
      "13:33:56.96 LOG:\n",
      "13:33:56.97 .... <argument> = [597977]\n"
     ]
    },
    {
     "data": {
      "text/plain": [
       "[597977]"
      ]
     },
     "execution_count": null,
     "metadata": {},
     "output_type": "execute_result"
    },
    {
     "name": "stderr",
     "output_type": "stream",
     "text": [
      "13:33:56.97 LOG:\n",
      "13:33:56.97 .... <argument> = [1415101, 900577]\n"
     ]
    },
    {
     "data": {
      "text/plain": [
       "[1415101, 900577]"
      ]
     },
     "execution_count": null,
     "metadata": {},
     "output_type": "execute_result"
    },
    {
     "name": "stderr",
     "output_type": "stream",
     "text": [
      "13:33:56.98 LOG:\n",
      "13:33:56.98 .... <argument> = [1314325]\n"
     ]
    },
    {
     "data": {
      "text/plain": [
       "[1314325]"
      ]
     },
     "execution_count": null,
     "metadata": {},
     "output_type": "execute_result"
    },
    {
     "name": "stderr",
     "output_type": "stream",
     "text": [
      "13:33:56.99 LOG:\n",
      "13:33:56.99 .... <argument> = [831650]\n"
     ]
    },
    {
     "data": {
      "text/plain": [
       "[831650]"
      ]
     },
     "execution_count": null,
     "metadata": {},
     "output_type": "execute_result"
    },
    {
     "name": "stderr",
     "output_type": "stream",
     "text": [
      "13:33:56.99 LOG:\n",
      "13:33:56.99 .... <argument> = [1503818, 122384, 1822658, 336127]\n"
     ]
    },
    {
     "data": {
      "text/plain": [
       "[1503818, 122384, 1822658, 336127]"
      ]
     },
     "execution_count": null,
     "metadata": {},
     "output_type": "execute_result"
    },
    {
     "name": "stderr",
     "output_type": "stream",
     "text": [
      "13:33:57.00 LOG:\n",
      "13:33:57.00 .... <argument> = [1556803]\n"
     ]
    },
    {
     "data": {
      "text/plain": [
       "[1556803]"
      ]
     },
     "execution_count": null,
     "metadata": {},
     "output_type": "execute_result"
    },
    {
     "name": "stderr",
     "output_type": "stream",
     "text": [
      "13:33:57.01 LOG:\n",
      "13:33:57.01 .... <argument> = [1392264, 1836036, 1496885, 1695122]\n"
     ]
    },
    {
     "data": {
      "text/plain": [
       "[1392264, 1836036, 1496885, 1695122]"
      ]
     },
     "execution_count": null,
     "metadata": {},
     "output_type": "execute_result"
    },
    {
     "name": "stderr",
     "output_type": "stream",
     "text": [
      "13:33:57.01 LOG:\n",
      "13:33:57.01 .... <argument> = [1509935, 1139139, 1133737, 66316, 658902]\n"
     ]
    },
    {
     "data": {
      "text/plain": [
       "[1509935, 1139139, 1133737, 66316, 658902]"
      ]
     },
     "execution_count": null,
     "metadata": {},
     "output_type": "execute_result"
    },
    {
     "name": "stderr",
     "output_type": "stream",
     "text": [
      "13:33:57.02 LOG:\n",
      "13:33:57.02 .... <argument> = [840480, 1132779, 46318]\n"
     ]
    },
    {
     "data": {
      "text/plain": [
       "[840480, 1132779, 46318]"
      ]
     },
     "execution_count": null,
     "metadata": {},
     "output_type": "execute_result"
    },
    {
     "name": "stderr",
     "output_type": "stream",
     "text": [
      "13:33:57.03 LOG:\n",
      "13:33:57.03 .... <argument> = [1122221, 1498214]\n"
     ]
    },
    {
     "data": {
      "text/plain": [
       "[1122221, 1498214]"
      ]
     },
     "execution_count": null,
     "metadata": {},
     "output_type": "execute_result"
    },
    {
     "name": "stderr",
     "output_type": "stream",
     "text": [
      "13:33:57.03 LOG:\n",
      "13:33:57.03 .... <argument> = [1469891, 754412, 1833745, 406843]\n"
     ]
    },
    {
     "data": {
      "text/plain": [
       "[1469891, 754412, 1833745, 406843]"
      ]
     },
     "execution_count": null,
     "metadata": {},
     "output_type": "execute_result"
    },
    {
     "name": "stderr",
     "output_type": "stream",
     "text": [
      "13:33:57.04 LOG:\n",
      "13:33:57.04 .... <argument> = [960106, 915003, 391632]\n"
     ]
    },
    {
     "data": {
      "text/plain": [
       "[960106, 915003, 391632]"
      ]
     },
     "execution_count": null,
     "metadata": {},
     "output_type": "execute_result"
    },
    {
     "name": "stderr",
     "output_type": "stream",
     "text": [
      "13:33:57.05 LOG:\n",
      "13:33:57.05 .... <argument> = [405179, 720272, 346184]\n"
     ]
    },
    {
     "data": {
      "text/plain": [
       "[405179, 720272, 346184]"
      ]
     },
     "execution_count": null,
     "metadata": {},
     "output_type": "execute_result"
    },
    {
     "name": "stderr",
     "output_type": "stream",
     "text": [
      "13:33:57.05 LOG:\n",
      "13:33:57.05 .... <argument> = [691858, 1692124, 551651, 946898, 646526, 1537794, 1504187, 131157, 333800]\n"
     ]
    },
    {
     "data": {
      "text/plain": [
       "[691858, 1692124, 551651, 946898, 646526, 1537794, 1504187, 131157, 333800]"
      ]
     },
     "execution_count": null,
     "metadata": {},
     "output_type": "execute_result"
    },
    {
     "name": "stderr",
     "output_type": "stream",
     "text": [
      "13:33:57.06 LOG:\n",
      "13:33:57.06 .... <argument> = [697008]\n"
     ]
    },
    {
     "data": {
      "text/plain": [
       "[697008]"
      ]
     },
     "execution_count": null,
     "metadata": {},
     "output_type": "execute_result"
    },
    {
     "name": "stderr",
     "output_type": "stream",
     "text": [
      "13:33:57.07 LOG:\n",
      "13:33:57.07 .... <argument> = [776749, 457354, 309323]\n"
     ]
    },
    {
     "data": {
      "text/plain": [
       "[776749, 457354, 309323]"
      ]
     },
     "execution_count": null,
     "metadata": {},
     "output_type": "execute_result"
    },
    {
     "name": "stderr",
     "output_type": "stream",
     "text": [
      "13:33:57.07 LOG:\n",
      "13:33:57.07 .... <argument> = [1687425]\n"
     ]
    },
    {
     "data": {
      "text/plain": [
       "[1687425]"
      ]
     },
     "execution_count": null,
     "metadata": {},
     "output_type": "execute_result"
    },
    {
     "name": "stderr",
     "output_type": "stream",
     "text": [
      "13:33:57.08 LOG:\n",
      "13:33:57.08 .... <argument> = [1359006]\n"
     ]
    },
    {
     "data": {
      "text/plain": [
       "[1359006]"
      ]
     },
     "execution_count": null,
     "metadata": {},
     "output_type": "execute_result"
    },
    {
     "name": "stderr",
     "output_type": "stream",
     "text": [
      "13:33:57.08 LOG:\n",
      "13:33:57.09 .... <argument> = [25964]\n"
     ]
    },
    {
     "data": {
      "text/plain": [
       "[25964]"
      ]
     },
     "execution_count": null,
     "metadata": {},
     "output_type": "execute_result"
    },
    {
     "name": "stderr",
     "output_type": "stream",
     "text": [
      "13:33:57.09 LOG:\n",
      "13:33:57.09 .... <argument> = [1466241,\n",
      "13:33:57.09                    364132,\n",
      "13:33:57.09                    624142,\n",
      "13:33:57.09                    1490921,\n",
      "13:33:57.09                    1164761,\n",
      "13:33:57.09                    793101,\n",
      "13:33:57.09                    1833852,\n",
      "13:33:57.09                    659727,\n",
      "13:33:57.09                    44006,\n",
      "13:33:57.09                    1502562,\n",
      "13:33:57.09                    1807124,\n",
      "13:33:57.09                    1705194,\n",
      "13:33:57.09                    1064185]\n"
     ]
    },
    {
     "data": {
      "text/plain": [
       "[1466241,\n",
       " 364132,\n",
       " 624142,\n",
       " 1490921,\n",
       " 1164761,\n",
       " 793101,\n",
       " 1833852,\n",
       " 659727,\n",
       " 44006,\n",
       " 1502562,\n",
       " 1807124,\n",
       " 1705194,\n",
       " 1064185]"
      ]
     },
     "execution_count": null,
     "metadata": {},
     "output_type": "execute_result"
    },
    {
     "name": "stderr",
     "output_type": "stream",
     "text": [
      "13:33:57.10 LOG:\n",
      "13:33:57.10 .... <argument> = [938417, 449963, 1623065]\n"
     ]
    },
    {
     "data": {
      "text/plain": [
       "[938417, 449963, 1623065]"
      ]
     },
     "execution_count": null,
     "metadata": {},
     "output_type": "execute_result"
    },
    {
     "name": "stderr",
     "output_type": "stream",
     "text": [
      "13:33:57.10 LOG:\n",
      "13:33:57.10 .... <argument> = [979572]\n"
     ]
    },
    {
     "data": {
      "text/plain": [
       "[979572]"
      ]
     },
     "execution_count": null,
     "metadata": {},
     "output_type": "execute_result"
    },
    {
     "name": "stderr",
     "output_type": "stream",
     "text": [
      "13:33:57.11 LOG:\n",
      "13:33:57.11 .... <argument> = [1535069]\n"
     ]
    },
    {
     "data": {
      "text/plain": [
       "[1535069]"
      ]
     },
     "execution_count": null,
     "metadata": {},
     "output_type": "execute_result"
    },
    {
     "name": "stderr",
     "output_type": "stream",
     "text": [
      "13:33:57.12 LOG:\n",
      "13:33:57.12 .... <argument> = [1462899]\n"
     ]
    },
    {
     "data": {
      "text/plain": [
       "[1462899]"
      ]
     },
     "execution_count": null,
     "metadata": {},
     "output_type": "execute_result"
    },
    {
     "name": "stderr",
     "output_type": "stream",
     "text": [
      "13:33:57.12 LOG:\n",
      "13:33:57.12 .... <argument> = [1064128, 664854]\n"
     ]
    },
    {
     "data": {
      "text/plain": [
       "[1064128, 664854]"
      ]
     },
     "execution_count": null,
     "metadata": {},
     "output_type": "execute_result"
    },
    {
     "name": "stderr",
     "output_type": "stream",
     "text": [
      "13:33:57.13 LOG:\n",
      "13:33:57.13 .... <argument> = [72322]\n"
     ]
    },
    {
     "data": {
      "text/plain": [
       "[72322]"
      ]
     },
     "execution_count": null,
     "metadata": {},
     "output_type": "execute_result"
    },
    {
     "name": "stderr",
     "output_type": "stream",
     "text": [
      "13:33:57.14 LOG:\n",
      "13:33:57.14 .... <argument> = [78453]\n"
     ]
    },
    {
     "data": {
      "text/plain": [
       "[78453]"
      ]
     },
     "execution_count": null,
     "metadata": {},
     "output_type": "execute_result"
    },
    {
     "name": "stderr",
     "output_type": "stream",
     "text": [
      "13:33:57.15 LOG:\n",
      "13:33:57.15 .... <argument> = [1329105, 764308, 673465, 255854, 362418, 355658, 1678935]\n"
     ]
    },
    {
     "data": {
      "text/plain": [
       "[1329105, 764308, 673465, 255854, 362418, 355658, 1678935]"
      ]
     },
     "execution_count": null,
     "metadata": {},
     "output_type": "execute_result"
    },
    {
     "name": "stderr",
     "output_type": "stream",
     "text": [
      "13:33:57.15 LOG:\n",
      "13:33:57.15 .... <argument> = [92604, 967572]\n"
     ]
    },
    {
     "data": {
      "text/plain": [
       "[92604, 967572]"
      ]
     },
     "execution_count": null,
     "metadata": {},
     "output_type": "execute_result"
    },
    {
     "name": "stderr",
     "output_type": "stream",
     "text": [
      "13:33:57.16 LOG:\n",
      "13:33:57.16 .... <argument> = [964322]\n"
     ]
    },
    {
     "data": {
      "text/plain": [
       "[964322]"
      ]
     },
     "execution_count": null,
     "metadata": {},
     "output_type": "execute_result"
    },
    {
     "name": "stderr",
     "output_type": "stream",
     "text": [
      "13:33:57.17 LOG:\n",
      "13:33:57.17 .... <argument> = [911594]\n"
     ]
    },
    {
     "data": {
      "text/plain": [
       "[911594]"
      ]
     },
     "execution_count": null,
     "metadata": {},
     "output_type": "execute_result"
    },
    {
     "name": "stderr",
     "output_type": "stream",
     "text": [
      "13:33:57.17 LOG:\n",
      "13:33:57.17 .... <argument> = [701915, 1724383, 446678, 532129, 849637]\n"
     ]
    },
    {
     "data": {
      "text/plain": [
       "[701915, 1724383, 446678, 532129, 849637]"
      ]
     },
     "execution_count": null,
     "metadata": {},
     "output_type": "execute_result"
    },
    {
     "name": "stderr",
     "output_type": "stream",
     "text": [
      "13:33:57.18 LOG:\n",
      "13:33:57.18 .... <argument> = [1104013]\n"
     ]
    },
    {
     "data": {
      "text/plain": [
       "[1104013]"
      ]
     },
     "execution_count": null,
     "metadata": {},
     "output_type": "execute_result"
    },
    {
     "name": "stderr",
     "output_type": "stream",
     "text": [
      "13:33:57.19 LOG:\n",
      "13:33:57.19 .... <argument> = [1223894]\n"
     ]
    },
    {
     "data": {
      "text/plain": [
       "[1223894]"
      ]
     },
     "execution_count": null,
     "metadata": {},
     "output_type": "execute_result"
    },
    {
     "name": "stderr",
     "output_type": "stream",
     "text": [
      "13:33:57.19 LOG:\n",
      "13:33:57.20 .... <argument> = [466081]\n"
     ]
    },
    {
     "data": {
      "text/plain": [
       "[466081]"
      ]
     },
     "execution_count": null,
     "metadata": {},
     "output_type": "execute_result"
    },
    {
     "name": "stderr",
     "output_type": "stream",
     "text": [
      "13:33:57.20 LOG:\n",
      "13:33:57.20 .... <argument> = [271466, 1797102, 1270472, 204216]\n"
     ]
    },
    {
     "data": {
      "text/plain": [
       "[271466, 1797102, 1270472, 204216]"
      ]
     },
     "execution_count": null,
     "metadata": {},
     "output_type": "execute_result"
    },
    {
     "name": "stderr",
     "output_type": "stream",
     "text": [
      "13:33:57.21 LOG:\n",
      "13:33:57.21 .... <argument> = [1006462, 836852]\n"
     ]
    },
    {
     "data": {
      "text/plain": [
       "[1006462, 836852]"
      ]
     },
     "execution_count": null,
     "metadata": {},
     "output_type": "execute_result"
    },
    {
     "name": "stderr",
     "output_type": "stream",
     "text": [
      "13:33:57.22 LOG:\n",
      "13:33:57.22 .... <argument> = [376484]\n"
     ]
    },
    {
     "data": {
      "text/plain": [
       "[376484]"
      ]
     },
     "execution_count": null,
     "metadata": {},
     "output_type": "execute_result"
    },
    {
     "name": "stderr",
     "output_type": "stream",
     "text": [
      "13:33:57.23 LOG:\n",
      "13:33:57.23 .... <argument> = [659270, 187853]\n"
     ]
    },
    {
     "data": {
      "text/plain": [
       "[659270, 187853]"
      ]
     },
     "execution_count": null,
     "metadata": {},
     "output_type": "execute_result"
    },
    {
     "name": "stderr",
     "output_type": "stream",
     "text": [
      "13:33:57.24 LOG:\n",
      "13:33:57.24 .... <argument> = [988269]\n"
     ]
    },
    {
     "data": {
      "text/plain": [
       "[988269]"
      ]
     },
     "execution_count": null,
     "metadata": {},
     "output_type": "execute_result"
    },
    {
     "name": "stderr",
     "output_type": "stream",
     "text": [
      "13:33:57.24 LOG:\n",
      "13:33:57.25 .... <argument> = [1639166]\n"
     ]
    },
    {
     "data": {
      "text/plain": [
       "[1639166]"
      ]
     },
     "execution_count": null,
     "metadata": {},
     "output_type": "execute_result"
    },
    {
     "name": "stderr",
     "output_type": "stream",
     "text": [
      "13:33:57.25 LOG:\n",
      "13:33:57.25 .... <argument> = [810718]\n"
     ]
    },
    {
     "data": {
      "text/plain": [
       "[810718]"
      ]
     },
     "execution_count": null,
     "metadata": {},
     "output_type": "execute_result"
    },
    {
     "name": "stderr",
     "output_type": "stream",
     "text": [
      "13:33:57.26 LOG:\n",
      "13:33:57.26 .... <argument> = [1426485, 635864, 1497166, 1548608, 696677]\n"
     ]
    },
    {
     "data": {
      "text/plain": [
       "[1426485, 635864, 1497166, 1548608, 696677]"
      ]
     },
     "execution_count": null,
     "metadata": {},
     "output_type": "execute_result"
    },
    {
     "name": "stderr",
     "output_type": "stream",
     "text": [
      "13:33:57.27 LOG:\n",
      "13:33:57.27 .... <argument> = [1008141]\n"
     ]
    },
    {
     "data": {
      "text/plain": [
       "[1008141]"
      ]
     },
     "execution_count": null,
     "metadata": {},
     "output_type": "execute_result"
    },
    {
     "name": "stderr",
     "output_type": "stream",
     "text": [
      "13:33:57.27 LOG:\n",
      "13:33:57.28 .... <argument> = [1423866, 882415]\n"
     ]
    },
    {
     "data": {
      "text/plain": [
       "[1423866, 882415]"
      ]
     },
     "execution_count": null,
     "metadata": {},
     "output_type": "execute_result"
    },
    {
     "name": "stderr",
     "output_type": "stream",
     "text": [
      "13:33:57.28 LOG:\n",
      "13:33:57.28 .... <argument> = [257002]\n"
     ]
    },
    {
     "data": {
      "text/plain": [
       "[257002]"
      ]
     },
     "execution_count": null,
     "metadata": {},
     "output_type": "execute_result"
    },
    {
     "name": "stderr",
     "output_type": "stream",
     "text": [
      "13:33:57.29 LOG:\n",
      "13:33:57.29 .... <argument> = [773567, 1299179, 948319]\n"
     ]
    },
    {
     "data": {
      "text/plain": [
       "[773567, 1299179, 948319]"
      ]
     },
     "execution_count": null,
     "metadata": {},
     "output_type": "execute_result"
    },
    {
     "name": "stderr",
     "output_type": "stream",
     "text": [
      "13:33:57.29 LOG:\n",
      "13:33:57.29 .... <argument> = [211497]\n"
     ]
    },
    {
     "data": {
      "text/plain": [
       "[211497]"
      ]
     },
     "execution_count": null,
     "metadata": {},
     "output_type": "execute_result"
    },
    {
     "name": "stderr",
     "output_type": "stream",
     "text": [
      "13:33:57.30 LOG:\n",
      "13:33:57.30 .... <argument> = [1749616]\n"
     ]
    },
    {
     "data": {
      "text/plain": [
       "[1749616]"
      ]
     },
     "execution_count": null,
     "metadata": {},
     "output_type": "execute_result"
    },
    {
     "name": "stderr",
     "output_type": "stream",
     "text": [
      "13:33:57.31 LOG:\n",
      "13:33:57.31 .... <argument> = [661816]\n"
     ]
    },
    {
     "data": {
      "text/plain": [
       "[661816]"
      ]
     },
     "execution_count": null,
     "metadata": {},
     "output_type": "execute_result"
    },
    {
     "name": "stderr",
     "output_type": "stream",
     "text": [
      "13:33:57.31 LOG:\n",
      "13:33:57.31 .... <argument> = [7903]\n"
     ]
    },
    {
     "data": {
      "text/plain": [
       "[7903]"
      ]
     },
     "execution_count": null,
     "metadata": {},
     "output_type": "execute_result"
    },
    {
     "name": "stderr",
     "output_type": "stream",
     "text": [
      "13:33:57.32 LOG:\n",
      "13:33:57.32 .... <argument> = [613617]\n"
     ]
    },
    {
     "data": {
      "text/plain": [
       "[613617]"
      ]
     },
     "execution_count": null,
     "metadata": {},
     "output_type": "execute_result"
    },
    {
     "name": "stderr",
     "output_type": "stream",
     "text": [
      "13:33:57.33 LOG:\n",
      "13:33:57.33 .... <argument> = [587956, 1595894]\n"
     ]
    },
    {
     "data": {
      "text/plain": [
       "[587956, 1595894]"
      ]
     },
     "execution_count": null,
     "metadata": {},
     "output_type": "execute_result"
    },
    {
     "name": "stderr",
     "output_type": "stream",
     "text": [
      "13:33:57.33 LOG:\n",
      "13:33:57.34 .... <argument> = [103513,\n",
      "13:33:57.34                    1615693,\n",
      "13:33:57.34                    636068,\n",
      "13:33:57.34                    1560621,\n",
      "13:33:57.34                    545300,\n",
      "13:33:57.34                    1854775,\n",
      "13:33:57.34                    734516,\n",
      "13:33:57.34                    270871,\n",
      "13:33:57.34                    1341754,\n",
      "13:33:57.34                    182474,\n",
      "13:33:57.34                    85930,\n",
      "13:33:57.34                    1218879,\n",
      "13:33:57.34                    1615513,\n",
      "13:33:57.34                    744114,\n",
      "13:33:57.34                    1525876,\n",
      "13:33:57.34                    51136]\n"
     ]
    },
    {
     "data": {
      "text/plain": [
       "[103513,\n",
       " 1615693,\n",
       " 636068,\n",
       " 1560621,\n",
       " 545300,\n",
       " 1854775,\n",
       " 734516,\n",
       " 270871,\n",
       " 1341754,\n",
       " 182474,\n",
       " 85930,\n",
       " 1218879,\n",
       " 1615513,\n",
       " 744114,\n",
       " 1525876,\n",
       " 51136]"
      ]
     },
     "execution_count": null,
     "metadata": {},
     "output_type": "execute_result"
    },
    {
     "name": "stderr",
     "output_type": "stream",
     "text": [
      "13:33:57.34 LOG:\n",
      "13:33:57.34 .... <argument> = [169239]\n"
     ]
    },
    {
     "data": {
      "text/plain": [
       "[169239]"
      ]
     },
     "execution_count": null,
     "metadata": {},
     "output_type": "execute_result"
    },
    {
     "name": "stderr",
     "output_type": "stream",
     "text": [
      "13:33:57.35 LOG:\n",
      "13:33:57.35 .... <argument> = [1409430]\n"
     ]
    },
    {
     "data": {
      "text/plain": [
       "[1409430]"
      ]
     },
     "execution_count": null,
     "metadata": {},
     "output_type": "execute_result"
    },
    {
     "name": "stderr",
     "output_type": "stream",
     "text": [
      "13:33:57.35 LOG:\n",
      "13:33:57.36 .... <argument> = [1224530]\n"
     ]
    },
    {
     "data": {
      "text/plain": [
       "[1224530]"
      ]
     },
     "execution_count": null,
     "metadata": {},
     "output_type": "execute_result"
    },
    {
     "name": "stderr",
     "output_type": "stream",
     "text": [
      "13:33:57.36 LOG:\n",
      "13:33:57.36 .... <argument> = [510693, 480296]\n"
     ]
    },
    {
     "data": {
      "text/plain": [
       "[510693, 480296]"
      ]
     },
     "execution_count": null,
     "metadata": {},
     "output_type": "execute_result"
    },
    {
     "name": "stderr",
     "output_type": "stream",
     "text": [
      "13:33:57.37 LOG:\n",
      "13:33:57.37 .... <argument> = [1263282]\n"
     ]
    },
    {
     "data": {
      "text/plain": [
       "[1263282]"
      ]
     },
     "execution_count": null,
     "metadata": {},
     "output_type": "execute_result"
    },
    {
     "name": "stderr",
     "output_type": "stream",
     "text": [
      "13:33:57.37 LOG:\n",
      "13:33:57.37 .... <argument> = [1771996,\n",
      "13:33:57.37                    73705,\n",
      "13:33:57.37                    458228,\n",
      "13:33:57.37                    1823547,\n",
      "13:33:57.37                    1645486,\n",
      "13:33:57.37                    670875,\n",
      "13:33:57.37                    1266809,\n",
      "13:33:57.37                    1676702,\n",
      "13:33:57.37                    1244458,\n",
      "13:33:57.37                    419851,\n",
      "13:33:57.37                    1794054,\n",
      "13:33:57.37                    54039,\n",
      "13:33:57.37                    1832471]\n"
     ]
    },
    {
     "data": {
      "text/plain": [
       "[1771996,\n",
       " 73705,\n",
       " 458228,\n",
       " 1823547,\n",
       " 1645486,\n",
       " 670875,\n",
       " 1266809,\n",
       " 1676702,\n",
       " 1244458,\n",
       " 419851,\n",
       " 1794054,\n",
       " 54039,\n",
       " 1832471]"
      ]
     },
     "execution_count": null,
     "metadata": {},
     "output_type": "execute_result"
    },
    {
     "name": "stderr",
     "output_type": "stream",
     "text": [
      "13:33:57.38 LOG:\n",
      "13:33:57.38 .... <argument> = [1822294]\n"
     ]
    },
    {
     "data": {
      "text/plain": [
       "[1822294]"
      ]
     },
     "execution_count": null,
     "metadata": {},
     "output_type": "execute_result"
    },
    {
     "name": "stderr",
     "output_type": "stream",
     "text": [
      "13:33:57.38 LOG:\n",
      "13:33:57.38 .... <argument> = [284, 526768, 371048, 799533]\n"
     ]
    },
    {
     "data": {
      "text/plain": [
       "[284, 526768, 371048, 799533]"
      ]
     },
     "execution_count": null,
     "metadata": {},
     "output_type": "execute_result"
    },
    {
     "name": "stderr",
     "output_type": "stream",
     "text": [
      "13:33:57.39 LOG:\n",
      "13:33:57.39 .... <argument> = [1274684, 706442, 1731603, 1021811, 1340380]\n"
     ]
    },
    {
     "data": {
      "text/plain": [
       "[1274684, 706442, 1731603, 1021811, 1340380]"
      ]
     },
     "execution_count": null,
     "metadata": {},
     "output_type": "execute_result"
    },
    {
     "name": "stderr",
     "output_type": "stream",
     "text": [
      "13:33:57.40 LOG:\n",
      "13:33:57.40 .... <argument> = [1448648,\n",
      "13:33:57.40                    667232,\n",
      "13:33:57.40                    887072,\n",
      "13:33:57.40                    1068918,\n",
      "13:33:57.40                    609223,\n",
      "13:33:57.40                    589725,\n",
      "13:33:57.40                    836343,\n",
      "13:33:57.40                    790938,\n",
      "13:33:57.40                    931809,\n",
      "13:33:57.40                    839095,\n",
      "13:33:57.40                    43490,\n",
      "13:33:57.40                    64938,\n",
      "13:33:57.40                    1762201]\n"
     ]
    },
    {
     "data": {
      "text/plain": [
       "[1448648,\n",
       " 667232,\n",
       " 887072,\n",
       " 1068918,\n",
       " 609223,\n",
       " 589725,\n",
       " 836343,\n",
       " 790938,\n",
       " 931809,\n",
       " 839095,\n",
       " 43490,\n",
       " 64938,\n",
       " 1762201]"
      ]
     },
     "execution_count": null,
     "metadata": {},
     "output_type": "execute_result"
    },
    {
     "name": "stderr",
     "output_type": "stream",
     "text": [
      "13:33:57.40 LOG:\n",
      "13:33:57.40 .... <argument> = [1554877, 1390847, 946765, 1245452, 1290473, 57520, 1318164]\n"
     ]
    },
    {
     "data": {
      "text/plain": [
       "[1554877, 1390847, 946765, 1245452, 1290473, 57520, 1318164]"
      ]
     },
     "execution_count": null,
     "metadata": {},
     "output_type": "execute_result"
    },
    {
     "name": "stderr",
     "output_type": "stream",
     "text": [
      "13:33:57.41 LOG:\n",
      "13:33:57.41 .... <argument> = [44614]\n"
     ]
    },
    {
     "data": {
      "text/plain": [
       "[44614]"
      ]
     },
     "execution_count": null,
     "metadata": {},
     "output_type": "execute_result"
    },
    {
     "name": "stderr",
     "output_type": "stream",
     "text": [
      "13:33:57.41 LOG:\n",
      "13:33:57.42 .... <argument> = [1331391, 1344942]\n"
     ]
    },
    {
     "data": {
      "text/plain": [
       "[1331391, 1344942]"
      ]
     },
     "execution_count": null,
     "metadata": {},
     "output_type": "execute_result"
    },
    {
     "name": "stderr",
     "output_type": "stream",
     "text": [
      "13:33:57.42 LOG:\n",
      "13:33:57.42 .... <argument> = [1304695, 203831, 1127096, 1019610, 679467]\n"
     ]
    },
    {
     "data": {
      "text/plain": [
       "[1304695, 203831, 1127096, 1019610, 679467]"
      ]
     },
     "execution_count": null,
     "metadata": {},
     "output_type": "execute_result"
    },
    {
     "name": "stderr",
     "output_type": "stream",
     "text": [
      "13:33:57.43 LOG:\n",
      "13:33:57.43 .... <argument> = [579933,\n",
      "13:33:57.43                    857417,\n",
      "13:33:57.43                    619885,\n",
      "13:33:57.43                    309445,\n",
      "13:33:57.43                    1648527,\n",
      "13:33:57.43                    1217083,\n",
      "13:33:57.43                    378053,\n",
      "13:33:57.43                    672432,\n",
      "13:33:57.43                    1192114,\n",
      "13:33:57.43                    400653,\n",
      "13:33:57.43                    298829,\n",
      "13:33:57.43                    1839036,\n",
      "13:33:57.43                    1083413]\n"
     ]
    },
    {
     "data": {
      "text/plain": [
       "[579933,\n",
       " 857417,\n",
       " 619885,\n",
       " 309445,\n",
       " 1648527,\n",
       " 1217083,\n",
       " 378053,\n",
       " 672432,\n",
       " 1192114,\n",
       " 400653,\n",
       " 298829,\n",
       " 1839036,\n",
       " 1083413]"
      ]
     },
     "execution_count": null,
     "metadata": {},
     "output_type": "execute_result"
    },
    {
     "name": "stderr",
     "output_type": "stream",
     "text": [
      "13:33:57.43 LOG:\n",
      "13:33:57.43 .... <argument> = [706272, 1151978, 1326838, 919678]\n"
     ]
    },
    {
     "data": {
      "text/plain": [
       "[706272, 1151978, 1326838, 919678]"
      ]
     },
     "execution_count": null,
     "metadata": {},
     "output_type": "execute_result"
    },
    {
     "name": "stderr",
     "output_type": "stream",
     "text": [
      "13:33:57.44 LOG:\n",
      "13:33:57.44 .... <argument> = [75488, 216723]\n"
     ]
    },
    {
     "data": {
      "text/plain": [
       "[75488, 216723]"
      ]
     },
     "execution_count": null,
     "metadata": {},
     "output_type": "execute_result"
    },
    {
     "name": "stderr",
     "output_type": "stream",
     "text": [
      "13:33:57.45 LOG:\n",
      "13:33:57.45 .... <argument> = [226998, 595331, 85067, 1095516]\n"
     ]
    },
    {
     "data": {
      "text/plain": [
       "[226998, 595331, 85067, 1095516]"
      ]
     },
     "execution_count": null,
     "metadata": {},
     "output_type": "execute_result"
    },
    {
     "name": "stderr",
     "output_type": "stream",
     "text": [
      "13:33:57.45 LOG:\n",
      "13:33:57.45 .... <argument> = [1448916, 1385393, 1839025, 1492045]\n"
     ]
    },
    {
     "data": {
      "text/plain": [
       "[1448916, 1385393, 1839025, 1492045]"
      ]
     },
     "execution_count": null,
     "metadata": {},
     "output_type": "execute_result"
    },
    {
     "name": "stderr",
     "output_type": "stream",
     "text": [
      "13:33:57.46 LOG:\n",
      "13:33:57.46 .... <argument> = [537977, 1770222, 1275076, 840415, 783722, 1666772]\n"
     ]
    },
    {
     "data": {
      "text/plain": [
       "[537977, 1770222, 1275076, 840415, 783722, 1666772]"
      ]
     },
     "execution_count": null,
     "metadata": {},
     "output_type": "execute_result"
    },
    {
     "name": "stderr",
     "output_type": "stream",
     "text": [
      "13:33:57.47 LOG:\n",
      "13:33:57.47 .... <argument> = [132994, 282734]\n"
     ]
    },
    {
     "data": {
      "text/plain": [
       "[132994, 282734]"
      ]
     },
     "execution_count": null,
     "metadata": {},
     "output_type": "execute_result"
    },
    {
     "name": "stderr",
     "output_type": "stream",
     "text": [
      "13:33:57.47 LOG:\n",
      "13:33:57.47 .... <argument> = [797931, 1573262, 1278671]\n"
     ]
    },
    {
     "data": {
      "text/plain": [
       "[797931, 1573262, 1278671]"
      ]
     },
     "execution_count": null,
     "metadata": {},
     "output_type": "execute_result"
    },
    {
     "name": "stderr",
     "output_type": "stream",
     "text": [
      "13:33:57.48 LOG:\n",
      "13:33:57.48 .... <argument> = [1223024, 1777315, 1330705]\n"
     ]
    },
    {
     "data": {
      "text/plain": [
       "[1223024, 1777315, 1330705]"
      ]
     },
     "execution_count": null,
     "metadata": {},
     "output_type": "execute_result"
    },
    {
     "name": "stderr",
     "output_type": "stream",
     "text": [
      "13:33:57.49 LOG:\n",
      "13:33:57.49 .... <argument> = [1671573, 114735, 1793293, 1273215, 1697460, 1712129, 1302234]\n"
     ]
    },
    {
     "data": {
      "text/plain": [
       "[1671573, 114735, 1793293, 1273215, 1697460, 1712129, 1302234]"
      ]
     },
     "execution_count": null,
     "metadata": {},
     "output_type": "execute_result"
    },
    {
     "name": "stderr",
     "output_type": "stream",
     "text": [
      "13:33:57.49 LOG:\n",
      "13:33:57.49 .... <argument> = [951595]\n"
     ]
    },
    {
     "data": {
      "text/plain": [
       "[951595]"
      ]
     },
     "execution_count": null,
     "metadata": {},
     "output_type": "execute_result"
    },
    {
     "name": "stderr",
     "output_type": "stream",
     "text": [
      "13:33:57.50 LOG:\n",
      "13:33:57.50 .... <argument> = [370892]\n"
     ]
    },
    {
     "data": {
      "text/plain": [
       "[370892]"
      ]
     },
     "execution_count": null,
     "metadata": {},
     "output_type": "execute_result"
    },
    {
     "name": "stderr",
     "output_type": "stream",
     "text": [
      "13:33:57.50 LOG:\n",
      "13:33:57.50 .... <argument> = [1121034, 1150397, 788882, 845100]\n"
     ]
    },
    {
     "data": {
      "text/plain": [
       "[1121034, 1150397, 788882, 845100]"
      ]
     },
     "execution_count": null,
     "metadata": {},
     "output_type": "execute_result"
    },
    {
     "name": "stderr",
     "output_type": "stream",
     "text": [
      "13:33:57.51 LOG:\n",
      "13:33:57.51 .... <argument> = [168781, 1348462, 1426024]\n"
     ]
    },
    {
     "data": {
      "text/plain": [
       "[168781, 1348462, 1426024]"
      ]
     },
     "execution_count": null,
     "metadata": {},
     "output_type": "execute_result"
    },
    {
     "name": "stderr",
     "output_type": "stream",
     "text": [
      "13:33:57.51 LOG:\n",
      "13:33:57.51 .... <argument> = [339693, 1344203, 433183]\n"
     ]
    },
    {
     "data": {
      "text/plain": [
       "[339693, 1344203, 433183]"
      ]
     },
     "execution_count": null,
     "metadata": {},
     "output_type": "execute_result"
    },
    {
     "name": "stderr",
     "output_type": "stream",
     "text": [
      "13:33:57.52 LOG:\n",
      "13:33:57.52 .... <argument> = [384195]\n"
     ]
    },
    {
     "data": {
      "text/plain": [
       "[384195]"
      ]
     },
     "execution_count": null,
     "metadata": {},
     "output_type": "execute_result"
    },
    {
     "name": "stderr",
     "output_type": "stream",
     "text": [
      "13:33:57.52 LOG:\n",
      "13:33:57.52 .... <argument> = [918956]\n"
     ]
    },
    {
     "data": {
      "text/plain": [
       "[918956]"
      ]
     },
     "execution_count": null,
     "metadata": {},
     "output_type": "execute_result"
    },
    {
     "name": "stderr",
     "output_type": "stream",
     "text": [
      "13:33:57.53 LOG:\n",
      "13:33:57.53 .... <argument> = [1722991]\n"
     ]
    },
    {
     "data": {
      "text/plain": [
       "[1722991]"
      ]
     },
     "execution_count": null,
     "metadata": {},
     "output_type": "execute_result"
    },
    {
     "name": "stderr",
     "output_type": "stream",
     "text": [
      "13:33:57.54 LOG:\n",
      "13:33:57.54 .... <argument> = [1122211]\n"
     ]
    },
    {
     "data": {
      "text/plain": [
       "[1122211]"
      ]
     },
     "execution_count": null,
     "metadata": {},
     "output_type": "execute_result"
    },
    {
     "name": "stderr",
     "output_type": "stream",
     "text": [
      "13:33:57.54 LOG:\n",
      "13:33:57.54 .... <argument> = [590629, 814997, 659399, 435253, 108125]\n"
     ]
    },
    {
     "data": {
      "text/plain": [
       "[590629, 814997, 659399, 435253, 108125]"
      ]
     },
     "execution_count": null,
     "metadata": {},
     "output_type": "execute_result"
    },
    {
     "name": "stderr",
     "output_type": "stream",
     "text": [
      "13:33:57.55 LOG:\n",
      "13:33:57.55 .... <argument> = [1733943, 1708326, 1582485]\n"
     ]
    },
    {
     "data": {
      "text/plain": [
       "[1733943, 1708326, 1582485]"
      ]
     },
     "execution_count": null,
     "metadata": {},
     "output_type": "execute_result"
    },
    {
     "name": "stderr",
     "output_type": "stream",
     "text": [
      "13:33:57.55 LOG:\n",
      "13:33:57.56 .... <argument> = [144236, 1571965, 99166, 1408200, 465800, 347960, 88246, 1823846, 1334347]\n"
     ]
    },
    {
     "data": {
      "text/plain": [
       "[144236, 1571965, 99166, 1408200, 465800, 347960, 88246, 1823846, 1334347]"
      ]
     },
     "execution_count": null,
     "metadata": {},
     "output_type": "execute_result"
    },
    {
     "name": "stderr",
     "output_type": "stream",
     "text": [
      "13:33:57.56 LOG:\n",
      "13:33:57.56 .... <argument> = [1520088]\n"
     ]
    },
    {
     "data": {
      "text/plain": [
       "[1520088]"
      ]
     },
     "execution_count": null,
     "metadata": {},
     "output_type": "execute_result"
    },
    {
     "name": "stderr",
     "output_type": "stream",
     "text": [
      "13:33:57.57 LOG:\n",
      "13:33:57.57 .... <argument> = [580866]\n"
     ]
    },
    {
     "data": {
      "text/plain": [
       "[580866]"
      ]
     },
     "execution_count": null,
     "metadata": {},
     "output_type": "execute_result"
    },
    {
     "name": "stderr",
     "output_type": "stream",
     "text": [
      "13:33:57.57 LOG:\n",
      "13:33:57.57 .... <argument> = [609584]\n"
     ]
    },
    {
     "data": {
      "text/plain": [
       "[609584]"
      ]
     },
     "execution_count": null,
     "metadata": {},
     "output_type": "execute_result"
    },
    {
     "name": "stderr",
     "output_type": "stream",
     "text": [
      "13:33:57.58 LOG:\n",
      "13:33:57.58 .... <argument> = [1648506]\n"
     ]
    },
    {
     "data": {
      "text/plain": [
       "[1648506]"
      ]
     },
     "execution_count": null,
     "metadata": {},
     "output_type": "execute_result"
    },
    {
     "name": "stderr",
     "output_type": "stream",
     "text": [
      "13:33:57.59 LOG:\n",
      "13:33:57.59 .... <argument> = [1375083]\n"
     ]
    },
    {
     "data": {
      "text/plain": [
       "[1375083]"
      ]
     },
     "execution_count": null,
     "metadata": {},
     "output_type": "execute_result"
    },
    {
     "name": "stderr",
     "output_type": "stream",
     "text": [
      "13:33:57.59 LOG:\n",
      "13:33:57.60 .... <argument> = [1164176, 70581, 528327]\n"
     ]
    },
    {
     "data": {
      "text/plain": [
       "[1164176, 70581, 528327]"
      ]
     },
     "execution_count": null,
     "metadata": {},
     "output_type": "execute_result"
    },
    {
     "name": "stderr",
     "output_type": "stream",
     "text": [
      "13:33:57.60 LOG:\n",
      "13:33:57.60 .... <argument> = [1128064]\n"
     ]
    },
    {
     "data": {
      "text/plain": [
       "[1128064]"
      ]
     },
     "execution_count": null,
     "metadata": {},
     "output_type": "execute_result"
    },
    {
     "name": "stderr",
     "output_type": "stream",
     "text": [
      "13:33:57.61 LOG:\n",
      "13:33:57.61 .... <argument> = [1553952]\n"
     ]
    },
    {
     "data": {
      "text/plain": [
       "[1553952]"
      ]
     },
     "execution_count": null,
     "metadata": {},
     "output_type": "execute_result"
    },
    {
     "name": "stderr",
     "output_type": "stream",
     "text": [
      "13:33:57.61 LOG:\n",
      "13:33:57.62 .... <argument> = [1633592, 1129720, 1214173, 476597, 1384867, 875944, 878351, 352192, 457356]\n"
     ]
    },
    {
     "data": {
      "text/plain": [
       "[1633592, 1129720, 1214173, 476597, 1384867, 875944, 878351, 352192, 457356]"
      ]
     },
     "execution_count": null,
     "metadata": {},
     "output_type": "execute_result"
    },
    {
     "name": "stderr",
     "output_type": "stream",
     "text": [
      "13:33:57.62 LOG:\n",
      "13:33:57.62 .... <argument> = [1398209, 991684, 1192647]\n"
     ]
    },
    {
     "data": {
      "text/plain": [
       "[1398209, 991684, 1192647]"
      ]
     },
     "execution_count": null,
     "metadata": {},
     "output_type": "execute_result"
    },
    {
     "name": "stderr",
     "output_type": "stream",
     "text": [
      "13:33:57.63 LOG:\n",
      "13:33:57.63 .... <argument> = [983068]\n"
     ]
    },
    {
     "data": {
      "text/plain": [
       "[983068]"
      ]
     },
     "execution_count": null,
     "metadata": {},
     "output_type": "execute_result"
    },
    {
     "name": "stderr",
     "output_type": "stream",
     "text": [
      "13:33:57.64 LOG:\n",
      "13:33:57.64 .... <argument> = [15451, 79494, 859099]\n"
     ]
    },
    {
     "data": {
      "text/plain": [
       "[15451, 79494, 859099]"
      ]
     },
     "execution_count": null,
     "metadata": {},
     "output_type": "execute_result"
    },
    {
     "name": "stderr",
     "output_type": "stream",
     "text": [
      "13:33:57.64 LOG:\n",
      "13:33:57.64 .... <argument> = [1074147]\n"
     ]
    },
    {
     "data": {
      "text/plain": [
       "[1074147]"
      ]
     },
     "execution_count": null,
     "metadata": {},
     "output_type": "execute_result"
    },
    {
     "name": "stderr",
     "output_type": "stream",
     "text": [
      "13:33:57.65 LOG:\n",
      "13:33:57.65 .... <argument> = [372662]\n"
     ]
    },
    {
     "data": {
      "text/plain": [
       "[372662]"
      ]
     },
     "execution_count": null,
     "metadata": {},
     "output_type": "execute_result"
    },
    {
     "name": "stderr",
     "output_type": "stream",
     "text": [
      "13:33:57.66 LOG:\n",
      "13:33:57.66 .... <argument> = [1221641]\n"
     ]
    },
    {
     "data": {
      "text/plain": [
       "[1221641]"
      ]
     },
     "execution_count": null,
     "metadata": {},
     "output_type": "execute_result"
    },
    {
     "name": "stderr",
     "output_type": "stream",
     "text": [
      "13:33:57.66 LOG:\n",
      "13:33:57.66 .... <argument> = [986074]\n"
     ]
    },
    {
     "data": {
      "text/plain": [
       "[986074]"
      ]
     },
     "execution_count": null,
     "metadata": {},
     "output_type": "execute_result"
    },
    {
     "name": "stderr",
     "output_type": "stream",
     "text": [
      "13:33:57.67 LOG:\n",
      "13:33:57.67 .... <argument> = [1061239]\n"
     ]
    },
    {
     "data": {
      "text/plain": [
       "[1061239]"
      ]
     },
     "execution_count": null,
     "metadata": {},
     "output_type": "execute_result"
    },
    {
     "name": "stderr",
     "output_type": "stream",
     "text": [
      "13:33:57.67 LOG:\n",
      "13:33:57.68 .... <argument> = [877252]\n"
     ]
    },
    {
     "data": {
      "text/plain": [
       "[877252]"
      ]
     },
     "execution_count": null,
     "metadata": {},
     "output_type": "execute_result"
    },
    {
     "name": "stderr",
     "output_type": "stream",
     "text": [
      "13:33:57.68 LOG:\n",
      "13:33:57.68 .... <argument> = [1341720, 1446715, 1116864, 1347221]\n"
     ]
    },
    {
     "data": {
      "text/plain": [
       "[1341720, 1446715, 1116864, 1347221]"
      ]
     },
     "execution_count": null,
     "metadata": {},
     "output_type": "execute_result"
    },
    {
     "name": "stderr",
     "output_type": "stream",
     "text": [
      "13:33:57.69 LOG:\n",
      "13:33:57.69 .... <argument> = [623834,\n",
      "13:33:57.69                    819193,\n",
      "13:33:57.69                    1248278,\n",
      "13:33:57.69                    1487855,\n",
      "13:33:57.69                    1347608,\n",
      "13:33:57.69                    1679488,\n",
      "13:33:57.69                    1675914,\n",
      "13:33:57.69                    1840929,\n",
      "13:33:57.69                    1436519,\n",
      "13:33:57.69                    1198145]\n"
     ]
    },
    {
     "data": {
      "text/plain": [
       "[623834,\n",
       " 819193,\n",
       " 1248278,\n",
       " 1487855,\n",
       " 1347608,\n",
       " 1679488,\n",
       " 1675914,\n",
       " 1840929,\n",
       " 1436519,\n",
       " 1198145]"
      ]
     },
     "execution_count": null,
     "metadata": {},
     "output_type": "execute_result"
    },
    {
     "name": "stderr",
     "output_type": "stream",
     "text": [
      "13:33:57.69 LOG:\n",
      "13:33:57.70 .... <argument> = [1642097]\n"
     ]
    },
    {
     "data": {
      "text/plain": [
       "[1642097]"
      ]
     },
     "execution_count": null,
     "metadata": {},
     "output_type": "execute_result"
    },
    {
     "name": "stderr",
     "output_type": "stream",
     "text": [
      "13:33:57.70 LOG:\n",
      "13:33:57.70 .... <argument> = [199409, 102345, 1020580, 452680]\n"
     ]
    },
    {
     "data": {
      "text/plain": [
       "[199409, 102345, 1020580, 452680]"
      ]
     },
     "execution_count": null,
     "metadata": {},
     "output_type": "execute_result"
    },
    {
     "name": "stderr",
     "output_type": "stream",
     "text": [
      "13:33:57.71 LOG:\n",
      "13:33:57.71 .... <argument> = [1675581]\n"
     ]
    },
    {
     "data": {
      "text/plain": [
       "[1675581]"
      ]
     },
     "execution_count": null,
     "metadata": {},
     "output_type": "execute_result"
    },
    {
     "name": "stderr",
     "output_type": "stream",
     "text": [
      "13:33:57.72 LOG:\n",
      "13:33:57.72 .... <argument> = [1629353]\n"
     ]
    },
    {
     "data": {
      "text/plain": [
       "[1629353]"
      ]
     },
     "execution_count": null,
     "metadata": {},
     "output_type": "execute_result"
    },
    {
     "name": "stderr",
     "output_type": "stream",
     "text": [
      "13:33:57.72 LOG:\n",
      "13:33:57.72 .... <argument> = [1746101, 1626731, 717965, 1733943]\n"
     ]
    },
    {
     "data": {
      "text/plain": [
       "[1746101, 1626731, 717965, 1733943]"
      ]
     },
     "execution_count": null,
     "metadata": {},
     "output_type": "execute_result"
    },
    {
     "name": "stderr",
     "output_type": "stream",
     "text": [
      "13:33:57.73 LOG:\n",
      "13:33:57.73 .... <argument> = [207928]\n"
     ]
    },
    {
     "data": {
      "text/plain": [
       "[207928]"
      ]
     },
     "execution_count": null,
     "metadata": {},
     "output_type": "execute_result"
    },
    {
     "name": "stderr",
     "output_type": "stream",
     "text": [
      "13:33:57.73 LOG:\n",
      "13:33:57.73 .... <argument> = [310490]\n"
     ]
    },
    {
     "data": {
      "text/plain": [
       "[310490]"
      ]
     },
     "execution_count": null,
     "metadata": {},
     "output_type": "execute_result"
    },
    {
     "name": "stderr",
     "output_type": "stream",
     "text": [
      "13:33:57.74 LOG:\n",
      "13:33:57.74 .... <argument> = [515717]\n"
     ]
    },
    {
     "data": {
      "text/plain": [
       "[515717]"
      ]
     },
     "execution_count": null,
     "metadata": {},
     "output_type": "execute_result"
    },
    {
     "name": "stderr",
     "output_type": "stream",
     "text": [
      "13:33:57.74 LOG:\n",
      "13:33:57.74 .... <argument> = [1782099, 1169727, 1410174]\n"
     ]
    },
    {
     "data": {
      "text/plain": [
       "[1782099, 1169727, 1410174]"
      ]
     },
     "execution_count": null,
     "metadata": {},
     "output_type": "execute_result"
    },
    {
     "name": "stderr",
     "output_type": "stream",
     "text": [
      "13:33:57.75 LOG:\n",
      "13:33:57.75 .... <argument> = [195775, 190687, 70436, 1082539]\n"
     ]
    },
    {
     "data": {
      "text/plain": [
       "[195775, 190687, 70436, 1082539]"
      ]
     },
     "execution_count": null,
     "metadata": {},
     "output_type": "execute_result"
    },
    {
     "name": "stderr",
     "output_type": "stream",
     "text": [
      "13:33:57.75 LOG:\n",
      "13:33:57.75 .... <argument> = [964577]\n"
     ]
    },
    {
     "data": {
      "text/plain": [
       "[964577]"
      ]
     },
     "execution_count": null,
     "metadata": {},
     "output_type": "execute_result"
    },
    {
     "name": "stderr",
     "output_type": "stream",
     "text": [
      "13:33:57.76 LOG:\n",
      "13:33:57.76 .... <argument> = [1682122, 1595303]\n"
     ]
    },
    {
     "data": {
      "text/plain": [
       "[1682122, 1595303]"
      ]
     },
     "execution_count": null,
     "metadata": {},
     "output_type": "execute_result"
    },
    {
     "name": "stderr",
     "output_type": "stream",
     "text": [
      "13:33:57.76 LOG:\n",
      "13:33:57.76 .... <argument> = [827914]\n"
     ]
    },
    {
     "data": {
      "text/plain": [
       "[827914]"
      ]
     },
     "execution_count": null,
     "metadata": {},
     "output_type": "execute_result"
    },
    {
     "name": "stderr",
     "output_type": "stream",
     "text": [
      "13:33:57.77 LOG:\n",
      "13:33:57.77 .... <argument> = [1544984, 1324287, 1242304, 11994, 653376, 1578590]\n"
     ]
    },
    {
     "data": {
      "text/plain": [
       "[1544984, 1324287, 1242304, 11994, 653376, 1578590]"
      ]
     },
     "execution_count": null,
     "metadata": {},
     "output_type": "execute_result"
    },
    {
     "name": "stderr",
     "output_type": "stream",
     "text": [
      "13:33:57.77 LOG:\n",
      "13:33:57.77 .... <argument> = [1047832]\n"
     ]
    },
    {
     "data": {
      "text/plain": [
       "[1047832]"
      ]
     },
     "execution_count": null,
     "metadata": {},
     "output_type": "execute_result"
    },
    {
     "name": "stderr",
     "output_type": "stream",
     "text": [
      "13:33:57.78 LOG:\n",
      "13:33:57.78 .... <argument> = [656445, 1109377, 1473473]\n"
     ]
    },
    {
     "data": {
      "text/plain": [
       "[656445, 1109377, 1473473]"
      ]
     },
     "execution_count": null,
     "metadata": {},
     "output_type": "execute_result"
    },
    {
     "name": "stderr",
     "output_type": "stream",
     "text": [
      "13:33:57.78 LOG:\n",
      "13:33:57.78 .... <argument> = [1065012]\n"
     ]
    },
    {
     "data": {
      "text/plain": [
       "[1065012]"
      ]
     },
     "execution_count": null,
     "metadata": {},
     "output_type": "execute_result"
    },
    {
     "name": "stderr",
     "output_type": "stream",
     "text": [
      "13:33:57.79 LOG:\n",
      "13:33:57.79 .... <argument> = [1630677]\n"
     ]
    },
    {
     "data": {
      "text/plain": [
       "[1630677]"
      ]
     },
     "execution_count": null,
     "metadata": {},
     "output_type": "execute_result"
    },
    {
     "name": "stderr",
     "output_type": "stream",
     "text": [
      "13:33:57.79 LOG:\n",
      "13:33:57.80 .... <argument> = [1247806]\n"
     ]
    },
    {
     "data": {
      "text/plain": [
       "[1247806]"
      ]
     },
     "execution_count": null,
     "metadata": {},
     "output_type": "execute_result"
    },
    {
     "name": "stderr",
     "output_type": "stream",
     "text": [
      "13:33:57.80 LOG:\n",
      "13:33:57.80 .... <argument> = [1170894]\n"
     ]
    },
    {
     "data": {
      "text/plain": [
       "[1170894]"
      ]
     },
     "execution_count": null,
     "metadata": {},
     "output_type": "execute_result"
    },
    {
     "name": "stderr",
     "output_type": "stream",
     "text": [
      "13:33:57.81 LOG:\n",
      "13:33:57.81 .... <argument> = [79965]\n"
     ]
    },
    {
     "data": {
      "text/plain": [
       "[79965]"
      ]
     },
     "execution_count": null,
     "metadata": {},
     "output_type": "execute_result"
    },
    {
     "name": "stderr",
     "output_type": "stream",
     "text": [
      "13:33:57.81 LOG:\n",
      "13:33:57.81 .... <argument> = [443659]\n"
     ]
    },
    {
     "data": {
      "text/plain": [
       "[443659]"
      ]
     },
     "execution_count": null,
     "metadata": {},
     "output_type": "execute_result"
    },
    {
     "name": "stderr",
     "output_type": "stream",
     "text": [
      "13:33:57.82 LOG:\n",
      "13:33:57.82 .... <argument> = [581383]\n"
     ]
    },
    {
     "data": {
      "text/plain": [
       "[581383]"
      ]
     },
     "execution_count": null,
     "metadata": {},
     "output_type": "execute_result"
    },
    {
     "name": "stderr",
     "output_type": "stream",
     "text": [
      "13:33:57.83 LOG:\n",
      "13:33:57.83 .... <argument> = [1389586]\n"
     ]
    },
    {
     "data": {
      "text/plain": [
       "[1389586]"
      ]
     },
     "execution_count": null,
     "metadata": {},
     "output_type": "execute_result"
    },
    {
     "name": "stderr",
     "output_type": "stream",
     "text": [
      "13:33:57.83 LOG:\n",
      "13:33:57.83 .... <argument> = [1364463]\n"
     ]
    },
    {
     "data": {
      "text/plain": [
       "[1364463]"
      ]
     },
     "execution_count": null,
     "metadata": {},
     "output_type": "execute_result"
    },
    {
     "name": "stderr",
     "output_type": "stream",
     "text": [
      "13:33:57.84 LOG:\n",
      "13:33:57.84 .... <argument> = [614834]\n"
     ]
    },
    {
     "data": {
      "text/plain": [
       "[614834]"
      ]
     },
     "execution_count": null,
     "metadata": {},
     "output_type": "execute_result"
    },
    {
     "name": "stderr",
     "output_type": "stream",
     "text": [
      "13:33:57.85 LOG:\n",
      "13:33:57.85 .... <argument> = [544558, 295201, 1501844, 666174, 1021391, 1281695]\n"
     ]
    },
    {
     "data": {
      "text/plain": [
       "[544558, 295201, 1501844, 666174, 1021391, 1281695]"
      ]
     },
     "execution_count": null,
     "metadata": {},
     "output_type": "execute_result"
    },
    {
     "name": "stderr",
     "output_type": "stream",
     "text": [
      "13:33:57.85 LOG:\n",
      "13:33:57.85 .... <argument> = [1566562]\n"
     ]
    },
    {
     "data": {
      "text/plain": [
       "[1566562]"
      ]
     },
     "execution_count": null,
     "metadata": {},
     "output_type": "execute_result"
    },
    {
     "name": "stderr",
     "output_type": "stream",
     "text": [
      "13:33:57.86 LOG:\n",
      "13:33:57.86 .... <argument> = [627791]\n"
     ]
    },
    {
     "data": {
      "text/plain": [
       "[627791]"
      ]
     },
     "execution_count": null,
     "metadata": {},
     "output_type": "execute_result"
    },
    {
     "name": "stderr",
     "output_type": "stream",
     "text": [
      "13:33:57.87 LOG:\n",
      "13:33:57.87 .... <argument> = [351313]\n"
     ]
    },
    {
     "data": {
      "text/plain": [
       "[351313]"
      ]
     },
     "execution_count": null,
     "metadata": {},
     "output_type": "execute_result"
    },
    {
     "name": "stderr",
     "output_type": "stream",
     "text": [
      "13:33:57.87 LOG:\n",
      "13:33:57.87 .... <argument> = [1228379]\n"
     ]
    },
    {
     "data": {
      "text/plain": [
       "[1228379]"
      ]
     },
     "execution_count": null,
     "metadata": {},
     "output_type": "execute_result"
    },
    {
     "name": "stderr",
     "output_type": "stream",
     "text": [
      "13:33:57.88 LOG:\n",
      "13:33:57.88 .... <argument> = [1496273, 1219876]\n"
     ]
    },
    {
     "data": {
      "text/plain": [
       "[1496273, 1219876]"
      ]
     },
     "execution_count": null,
     "metadata": {},
     "output_type": "execute_result"
    },
    {
     "name": "stderr",
     "output_type": "stream",
     "text": [
      "13:33:57.89 LOG:\n",
      "13:33:57.89 .... <argument> = [344353]\n"
     ]
    },
    {
     "data": {
      "text/plain": [
       "[344353]"
      ]
     },
     "execution_count": null,
     "metadata": {},
     "output_type": "execute_result"
    },
    {
     "name": "stderr",
     "output_type": "stream",
     "text": [
      "13:33:57.89 LOG:\n",
      "13:33:57.89 .... <argument> = [1670024, 29208]\n"
     ]
    },
    {
     "data": {
      "text/plain": [
       "[1670024, 29208]"
      ]
     },
     "execution_count": null,
     "metadata": {},
     "output_type": "execute_result"
    },
    {
     "name": "stderr",
     "output_type": "stream",
     "text": [
      "13:33:57.90 LOG:\n",
      "13:33:57.90 .... <argument> = [357864, 490171, 1431314, 102670]\n"
     ]
    },
    {
     "data": {
      "text/plain": [
       "[357864, 490171, 1431314, 102670]"
      ]
     },
     "execution_count": null,
     "metadata": {},
     "output_type": "execute_result"
    },
    {
     "name": "stderr",
     "output_type": "stream",
     "text": [
      "13:33:57.91 LOG:\n",
      "13:33:57.91 .... <argument> = [1846375, 149554, 298318]\n"
     ]
    },
    {
     "data": {
      "text/plain": [
       "[1846375, 149554, 298318]"
      ]
     },
     "execution_count": null,
     "metadata": {},
     "output_type": "execute_result"
    },
    {
     "name": "stderr",
     "output_type": "stream",
     "text": [
      "13:33:57.91 LOG:\n",
      "13:33:57.91 .... <argument> = [909449]\n"
     ]
    },
    {
     "data": {
      "text/plain": [
       "[909449]"
      ]
     },
     "execution_count": null,
     "metadata": {},
     "output_type": "execute_result"
    },
    {
     "name": "stderr",
     "output_type": "stream",
     "text": [
      "13:33:57.92 LOG:\n",
      "13:33:57.92 .... <argument> = [1584808]\n"
     ]
    },
    {
     "data": {
      "text/plain": [
       "[1584808]"
      ]
     },
     "execution_count": null,
     "metadata": {},
     "output_type": "execute_result"
    },
    {
     "name": "stderr",
     "output_type": "stream",
     "text": [
      "13:33:57.93 LOG:\n",
      "13:33:57.93 .... <argument> = [956644]\n"
     ]
    },
    {
     "data": {
      "text/plain": [
       "[956644]"
      ]
     },
     "execution_count": null,
     "metadata": {},
     "output_type": "execute_result"
    },
    {
     "name": "stderr",
     "output_type": "stream",
     "text": [
      "13:33:57.93 LOG:\n",
      "13:33:57.94 .... <argument> = [1751871]\n"
     ]
    },
    {
     "data": {
      "text/plain": [
       "[1751871]"
      ]
     },
     "execution_count": null,
     "metadata": {},
     "output_type": "execute_result"
    },
    {
     "name": "stderr",
     "output_type": "stream",
     "text": [
      "13:33:57.94 LOG:\n",
      "13:33:57.94 .... <argument> = [938389, 1500858, 872334, 1786381, 856293, 434756]\n"
     ]
    },
    {
     "data": {
      "text/plain": [
       "[938389, 1500858, 872334, 1786381, 856293, 434756]"
      ]
     },
     "execution_count": null,
     "metadata": {},
     "output_type": "execute_result"
    },
    {
     "name": "stderr",
     "output_type": "stream",
     "text": [
      "13:33:57.95 LOG:\n",
      "13:33:57.95 .... <argument> = [1225996, 423136]\n"
     ]
    },
    {
     "data": {
      "text/plain": [
       "[1225996, 423136]"
      ]
     },
     "execution_count": null,
     "metadata": {},
     "output_type": "execute_result"
    },
    {
     "name": "stderr",
     "output_type": "stream",
     "text": [
      "13:33:57.95 LOG:\n",
      "13:33:57.96 .... <argument> = [1845463]\n"
     ]
    },
    {
     "data": {
      "text/plain": [
       "[1845463]"
      ]
     },
     "execution_count": null,
     "metadata": {},
     "output_type": "execute_result"
    },
    {
     "name": "stderr",
     "output_type": "stream",
     "text": [
      "13:33:57.96 LOG:\n",
      "13:33:57.96 .... <argument> = [1411592, 1095609]\n"
     ]
    },
    {
     "data": {
      "text/plain": [
       "[1411592, 1095609]"
      ]
     },
     "execution_count": null,
     "metadata": {},
     "output_type": "execute_result"
    },
    {
     "name": "stderr",
     "output_type": "stream",
     "text": [
      "13:33:57.97 LOG:\n",
      "13:33:57.97 .... <argument> = [443254]\n"
     ]
    },
    {
     "data": {
      "text/plain": [
       "[443254]"
      ]
     },
     "execution_count": null,
     "metadata": {},
     "output_type": "execute_result"
    },
    {
     "name": "stderr",
     "output_type": "stream",
     "text": [
      "13:33:57.98 LOG:\n",
      "13:33:57.98 .... <argument> = [1070692]\n"
     ]
    },
    {
     "data": {
      "text/plain": [
       "[1070692]"
      ]
     },
     "execution_count": null,
     "metadata": {},
     "output_type": "execute_result"
    },
    {
     "name": "stderr",
     "output_type": "stream",
     "text": [
      "13:33:57.98 LOG:\n",
      "13:33:57.98 .... <argument> = [1499564, 341291]\n"
     ]
    },
    {
     "data": {
      "text/plain": [
       "[1499564, 341291]"
      ]
     },
     "execution_count": null,
     "metadata": {},
     "output_type": "execute_result"
    },
    {
     "name": "stderr",
     "output_type": "stream",
     "text": [
      "13:33:57.99 LOG:\n",
      "13:33:57.99 .... <argument> = [239165, 995470]\n"
     ]
    },
    {
     "data": {
      "text/plain": [
       "[239165, 995470]"
      ]
     },
     "execution_count": null,
     "metadata": {},
     "output_type": "execute_result"
    },
    {
     "name": "stderr",
     "output_type": "stream",
     "text": [
      "13:33:57.99 LOG:\n",
      "13:33:58.00 .... <argument> = [663157]\n"
     ]
    },
    {
     "data": {
      "text/plain": [
       "[663157]"
      ]
     },
     "execution_count": null,
     "metadata": {},
     "output_type": "execute_result"
    },
    {
     "name": "stderr",
     "output_type": "stream",
     "text": [
      "13:33:58.00 LOG:\n",
      "13:33:58.00 .... <argument> = [1760374, 151422]\n"
     ]
    },
    {
     "data": {
      "text/plain": [
       "[1760374, 151422]"
      ]
     },
     "execution_count": null,
     "metadata": {},
     "output_type": "execute_result"
    },
    {
     "name": "stderr",
     "output_type": "stream",
     "text": [
      "13:33:58.01 LOG:\n",
      "13:33:58.01 .... <argument> = [686781]\n"
     ]
    },
    {
     "data": {
      "text/plain": [
       "[686781]"
      ]
     },
     "execution_count": null,
     "metadata": {},
     "output_type": "execute_result"
    },
    {
     "name": "stderr",
     "output_type": "stream",
     "text": [
      "13:33:58.01 LOG:\n",
      "13:33:58.01 .... <argument> = [489453, 24316, 1497245, 178544]\n"
     ]
    },
    {
     "data": {
      "text/plain": [
       "[489453, 24316, 1497245, 178544]"
      ]
     },
     "execution_count": null,
     "metadata": {},
     "output_type": "execute_result"
    },
    {
     "name": "stderr",
     "output_type": "stream",
     "text": [
      "13:33:58.02 LOG:\n",
      "13:33:58.02 .... <argument> = [272037]\n"
     ]
    },
    {
     "data": {
      "text/plain": [
       "[272037]"
      ]
     },
     "execution_count": null,
     "metadata": {},
     "output_type": "execute_result"
    },
    {
     "name": "stderr",
     "output_type": "stream",
     "text": [
      "13:33:58.03 LOG:\n",
      "13:33:58.03 .... <argument> = [1678731, 1541651, 1363818, 1633493, 133675, 78262]\n"
     ]
    },
    {
     "data": {
      "text/plain": [
       "[1678731, 1541651, 1363818, 1633493, 133675, 78262]"
      ]
     },
     "execution_count": null,
     "metadata": {},
     "output_type": "execute_result"
    },
    {
     "name": "stderr",
     "output_type": "stream",
     "text": [
      "13:33:58.04 LOG:\n",
      "13:33:58.04 .... <argument> = [499942,\n",
      "13:33:58.04                    1402243,\n",
      "13:33:58.04                    313092,\n",
      "13:33:58.04                    1754309,\n",
      "13:33:58.04                    439168,\n",
      "13:33:58.04                    1781263,\n",
      "13:33:58.04                    886625,\n",
      "13:33:58.04                    1803276,\n",
      "13:33:58.04                    1214819,\n",
      "13:33:58.04                    477618,\n",
      "13:33:58.04                    710623,\n",
      "13:33:58.04                    1076779,\n",
      "13:33:58.04                    991434,\n",
      "13:33:58.04                    1810824]\n"
     ]
    },
    {
     "data": {
      "text/plain": [
       "[499942,\n",
       " 1402243,\n",
       " 313092,\n",
       " 1754309,\n",
       " 439168,\n",
       " 1781263,\n",
       " 886625,\n",
       " 1803276,\n",
       " 1214819,\n",
       " 477618,\n",
       " 710623,\n",
       " 1076779,\n",
       " 991434,\n",
       " 1810824]"
      ]
     },
     "execution_count": null,
     "metadata": {},
     "output_type": "execute_result"
    },
    {
     "name": "stderr",
     "output_type": "stream",
     "text": [
      "13:33:58.04 LOG:\n",
      "13:33:58.04 .... <argument> = [600276, 1441288]\n"
     ]
    },
    {
     "data": {
      "text/plain": [
       "[600276, 1441288]"
      ]
     },
     "execution_count": null,
     "metadata": {},
     "output_type": "execute_result"
    },
    {
     "name": "stderr",
     "output_type": "stream",
     "text": [
      "13:33:58.05 LOG:\n",
      "13:33:58.05 .... <argument> = [1201299]\n"
     ]
    },
    {
     "data": {
      "text/plain": [
       "[1201299]"
      ]
     },
     "execution_count": null,
     "metadata": {},
     "output_type": "execute_result"
    },
    {
     "name": "stderr",
     "output_type": "stream",
     "text": [
      "13:33:58.06 LOG:\n",
      "13:33:58.06 .... <argument> = [952691, 664588, 146707, 724429, 877820, 1710382]\n"
     ]
    },
    {
     "data": {
      "text/plain": [
       "[952691, 664588, 146707, 724429, 877820, 1710382]"
      ]
     },
     "execution_count": null,
     "metadata": {},
     "output_type": "execute_result"
    },
    {
     "name": "stderr",
     "output_type": "stream",
     "text": [
      "13:33:58.06 LOG:\n",
      "13:33:58.07 .... <argument> = [1056531]\n"
     ]
    },
    {
     "data": {
      "text/plain": [
       "[1056531]"
      ]
     },
     "execution_count": null,
     "metadata": {},
     "output_type": "execute_result"
    },
    {
     "name": "stderr",
     "output_type": "stream",
     "text": [
      "13:33:58.07 LOG:\n",
      "13:33:58.07 .... <argument> = [177958, 1030009, 1708687, 1034470, 905037, 696536, 977422]\n"
     ]
    },
    {
     "data": {
      "text/plain": [
       "[177958, 1030009, 1708687, 1034470, 905037, 696536, 977422]"
      ]
     },
     "execution_count": null,
     "metadata": {},
     "output_type": "execute_result"
    },
    {
     "name": "stderr",
     "output_type": "stream",
     "text": [
      "13:33:58.08 LOG:\n",
      "13:33:58.08 .... <argument> = [1291466]\n"
     ]
    },
    {
     "data": {
      "text/plain": [
       "[1291466]"
      ]
     },
     "execution_count": null,
     "metadata": {},
     "output_type": "execute_result"
    },
    {
     "name": "stderr",
     "output_type": "stream",
     "text": [
      "13:33:58.08 LOG:\n",
      "13:33:58.08 .... <argument> = [1845463]\n"
     ]
    },
    {
     "data": {
      "text/plain": [
       "[1845463]"
      ]
     },
     "execution_count": null,
     "metadata": {},
     "output_type": "execute_result"
    },
    {
     "name": "stderr",
     "output_type": "stream",
     "text": [
      "13:33:58.09 LOG:\n",
      "13:33:58.09 .... <argument> = [786974, 1083413, 187853]\n"
     ]
    },
    {
     "data": {
      "text/plain": [
       "[786974, 1083413, 187853]"
      ]
     },
     "execution_count": null,
     "metadata": {},
     "output_type": "execute_result"
    },
    {
     "name": "stderr",
     "output_type": "stream",
     "text": [
      "13:33:58.10 LOG:\n",
      "13:33:58.10 .... <argument> = [1021064]\n"
     ]
    },
    {
     "data": {
      "text/plain": [
       "[1021064]"
      ]
     },
     "execution_count": null,
     "metadata": {},
     "output_type": "execute_result"
    },
    {
     "name": "stderr",
     "output_type": "stream",
     "text": [
      "13:33:58.10 LOG:\n",
      "13:33:58.10 .... <argument> = [521377]\n"
     ]
    },
    {
     "data": {
      "text/plain": [
       "[521377]"
      ]
     },
     "execution_count": null,
     "metadata": {},
     "output_type": "execute_result"
    },
    {
     "name": "stderr",
     "output_type": "stream",
     "text": [
      "13:33:58.11 LOG:\n",
      "13:33:58.11 .... <argument> = [1151018, 1333494, 1591214, 60056, 1387139, 1101180]\n"
     ]
    },
    {
     "data": {
      "text/plain": [
       "[1151018, 1333494, 1591214, 60056, 1387139, 1101180]"
      ]
     },
     "execution_count": null,
     "metadata": {},
     "output_type": "execute_result"
    },
    {
     "name": "stderr",
     "output_type": "stream",
     "text": [
      "13:33:58.12 LOG:\n",
      "13:33:58.12 .... <argument> = [712483, 72748, 147278]\n"
     ]
    },
    {
     "data": {
      "text/plain": [
       "[712483, 72748, 147278]"
      ]
     },
     "execution_count": null,
     "metadata": {},
     "output_type": "execute_result"
    },
    {
     "name": "stderr",
     "output_type": "stream",
     "text": [
      "13:33:58.12 LOG:\n",
      "13:33:58.12 .... <argument> = [572697]\n"
     ]
    },
    {
     "data": {
      "text/plain": [
       "[572697]"
      ]
     },
     "execution_count": null,
     "metadata": {},
     "output_type": "execute_result"
    },
    {
     "name": "stderr",
     "output_type": "stream",
     "text": [
      "13:33:58.13 LOG:\n",
      "13:33:58.13 .... <argument> = [1776640, 1200464, 1250562, 964201, 459473]\n"
     ]
    },
    {
     "data": {
      "text/plain": [
       "[1776640, 1200464, 1250562, 964201, 459473]"
      ]
     },
     "execution_count": null,
     "metadata": {},
     "output_type": "execute_result"
    },
    {
     "name": "stderr",
     "output_type": "stream",
     "text": [
      "13:33:58.13 LOG:\n",
      "13:33:58.14 .... <argument> = [476457, 1372337]\n"
     ]
    },
    {
     "data": {
      "text/plain": [
       "[476457, 1372337]"
      ]
     },
     "execution_count": null,
     "metadata": {},
     "output_type": "execute_result"
    },
    {
     "name": "stderr",
     "output_type": "stream",
     "text": [
      "13:33:58.14 LOG:\n",
      "13:33:58.14 .... <argument> = [108125, 1185084, 1774995]\n"
     ]
    },
    {
     "data": {
      "text/plain": [
       "[108125, 1185084, 1774995]"
      ]
     },
     "execution_count": null,
     "metadata": {},
     "output_type": "execute_result"
    },
    {
     "name": "stderr",
     "output_type": "stream",
     "text": [
      "13:33:58.15 LOG:\n",
      "13:33:58.15 .... <argument> = [536134]\n"
     ]
    },
    {
     "data": {
      "text/plain": [
       "[536134]"
      ]
     },
     "execution_count": null,
     "metadata": {},
     "output_type": "execute_result"
    },
    {
     "name": "stderr",
     "output_type": "stream",
     "text": [
      "13:33:58.15 LOG:\n",
      "13:33:58.16 .... <argument> = [1339108, 70603, 533444]\n"
     ]
    },
    {
     "data": {
      "text/plain": [
       "[1339108, 70603, 533444]"
      ]
     },
     "execution_count": null,
     "metadata": {},
     "output_type": "execute_result"
    },
    {
     "name": "stderr",
     "output_type": "stream",
     "text": [
      "13:33:58.16 LOG:\n",
      "13:33:58.16 .... <argument> = [454207, 897478]\n"
     ]
    },
    {
     "data": {
      "text/plain": [
       "[454207, 897478]"
      ]
     },
     "execution_count": null,
     "metadata": {},
     "output_type": "execute_result"
    },
    {
     "name": "stderr",
     "output_type": "stream",
     "text": [
      "13:33:58.17 LOG:\n",
      "13:33:58.17 .... <argument> = [409817, 1080743, 506225]\n"
     ]
    },
    {
     "data": {
      "text/plain": [
       "[409817, 1080743, 506225]"
      ]
     },
     "execution_count": null,
     "metadata": {},
     "output_type": "execute_result"
    },
    {
     "name": "stderr",
     "output_type": "stream",
     "text": [
      "13:33:58.17 LOG:\n",
      "13:33:58.17 .... <argument> = [1174576, 644911, 1762836, 1758038]\n"
     ]
    },
    {
     "data": {
      "text/plain": [
       "[1174576, 644911, 1762836, 1758038]"
      ]
     },
     "execution_count": null,
     "metadata": {},
     "output_type": "execute_result"
    },
    {
     "name": "stderr",
     "output_type": "stream",
     "text": [
      "13:33:58.18 LOG:\n",
      "13:33:58.18 .... <argument> = [1644439, 654388]\n"
     ]
    },
    {
     "data": {
      "text/plain": [
       "[1644439, 654388]"
      ]
     },
     "execution_count": null,
     "metadata": {},
     "output_type": "execute_result"
    },
    {
     "name": "stderr",
     "output_type": "stream",
     "text": [
      "13:33:58.19 LOG:\n",
      "13:33:58.19 .... <argument> = [104976]\n"
     ]
    },
    {
     "data": {
      "text/plain": [
       "[104976]"
      ]
     },
     "execution_count": null,
     "metadata": {},
     "output_type": "execute_result"
    },
    {
     "name": "stderr",
     "output_type": "stream",
     "text": [
      "13:33:58.19 LOG:\n",
      "13:33:58.19 .... <argument> = [1299203]\n"
     ]
    },
    {
     "data": {
      "text/plain": [
       "[1299203]"
      ]
     },
     "execution_count": null,
     "metadata": {},
     "output_type": "execute_result"
    },
    {
     "name": "stderr",
     "output_type": "stream",
     "text": [
      "13:33:58.20 LOG:\n",
      "13:33:58.20 .... <argument> = [561174]\n"
     ]
    },
    {
     "data": {
      "text/plain": [
       "[561174]"
      ]
     },
     "execution_count": null,
     "metadata": {},
     "output_type": "execute_result"
    },
    {
     "name": "stderr",
     "output_type": "stream",
     "text": [
      "13:33:58.21 LOG:\n",
      "13:33:58.21 .... <argument> = [797769, 1393507, 1617208, 265836, 1479451, 432184, 1787877]\n"
     ]
    },
    {
     "data": {
      "text/plain": [
       "[797769, 1393507, 1617208, 265836, 1479451, 432184, 1787877]"
      ]
     },
     "execution_count": null,
     "metadata": {},
     "output_type": "execute_result"
    },
    {
     "name": "stderr",
     "output_type": "stream",
     "text": [
      "13:33:58.21 LOG:\n",
      "13:33:58.21 .... <argument> = [685302]\n"
     ]
    },
    {
     "data": {
      "text/plain": [
       "[685302]"
      ]
     },
     "execution_count": null,
     "metadata": {},
     "output_type": "execute_result"
    },
    {
     "name": "stderr",
     "output_type": "stream",
     "text": [
      "13:33:58.22 LOG:\n",
      "13:33:58.22 .... <argument> = [253407]\n"
     ]
    },
    {
     "data": {
      "text/plain": [
       "[253407]"
      ]
     },
     "execution_count": null,
     "metadata": {},
     "output_type": "execute_result"
    },
    {
     "name": "stderr",
     "output_type": "stream",
     "text": [
      "13:33:58.23 LOG:\n",
      "13:33:58.23 .... <argument> = [1465385, 751360, 1704743, 842860, 261197, 1420848, 1123561, 1505182]\n"
     ]
    },
    {
     "data": {
      "text/plain": [
       "[1465385, 751360, 1704743, 842860, 261197, 1420848, 1123561, 1505182]"
      ]
     },
     "execution_count": null,
     "metadata": {},
     "output_type": "execute_result"
    },
    {
     "name": "stderr",
     "output_type": "stream",
     "text": [
      "13:33:58.23 LOG:\n",
      "13:33:58.23 .... <argument> = [964883]\n"
     ]
    },
    {
     "data": {
      "text/plain": [
       "[964883]"
      ]
     },
     "execution_count": null,
     "metadata": {},
     "output_type": "execute_result"
    },
    {
     "name": "stderr",
     "output_type": "stream",
     "text": [
      "13:33:58.24 LOG:\n",
      "13:33:58.24 .... <argument> = [1835418, 1483717]\n"
     ]
    },
    {
     "data": {
      "text/plain": [
       "[1835418, 1483717]"
      ]
     },
     "execution_count": null,
     "metadata": {},
     "output_type": "execute_result"
    },
    {
     "name": "stderr",
     "output_type": "stream",
     "text": [
      "13:33:58.25 LOG:\n",
      "13:33:58.25 .... <argument> = [603037, 72469, 157253]\n"
     ]
    },
    {
     "data": {
      "text/plain": [
       "[603037, 72469, 157253]"
      ]
     },
     "execution_count": null,
     "metadata": {},
     "output_type": "execute_result"
    },
    {
     "name": "stderr",
     "output_type": "stream",
     "text": [
      "13:33:58.25 LOG:\n",
      "13:33:58.25 .... <argument> = [1567663]\n"
     ]
    },
    {
     "data": {
      "text/plain": [
       "[1567663]"
      ]
     },
     "execution_count": null,
     "metadata": {},
     "output_type": "execute_result"
    },
    {
     "name": "stderr",
     "output_type": "stream",
     "text": [
      "13:33:58.26 LOG:\n",
      "13:33:58.26 .... <argument> = [201982, 39132]\n"
     ]
    },
    {
     "data": {
      "text/plain": [
       "[201982, 39132]"
      ]
     },
     "execution_count": null,
     "metadata": {},
     "output_type": "execute_result"
    },
    {
     "name": "stderr",
     "output_type": "stream",
     "text": [
      "13:33:58.27 LOG:\n",
      "13:33:58.27 .... <argument> = [1384219]\n"
     ]
    },
    {
     "data": {
      "text/plain": [
       "[1384219]"
      ]
     },
     "execution_count": null,
     "metadata": {},
     "output_type": "execute_result"
    },
    {
     "name": "stderr",
     "output_type": "stream",
     "text": [
      "13:33:58.27 LOG:\n",
      "13:33:58.28 .... <argument> = [1250786, 50028]\n"
     ]
    },
    {
     "data": {
      "text/plain": [
       "[1250786, 50028]"
      ]
     },
     "execution_count": null,
     "metadata": {},
     "output_type": "execute_result"
    },
    {
     "name": "stderr",
     "output_type": "stream",
     "text": [
      "13:33:58.28 LOG:\n",
      "13:33:58.28 .... <argument> = [102345]\n"
     ]
    },
    {
     "data": {
      "text/plain": [
       "[102345]"
      ]
     },
     "execution_count": null,
     "metadata": {},
     "output_type": "execute_result"
    },
    {
     "name": "stderr",
     "output_type": "stream",
     "text": [
      "13:33:58.29 LOG:\n",
      "13:33:58.29 .... <argument> = [329268, 837341]\n"
     ]
    },
    {
     "data": {
      "text/plain": [
       "[329268, 837341]"
      ]
     },
     "execution_count": null,
     "metadata": {},
     "output_type": "execute_result"
    },
    {
     "name": "stderr",
     "output_type": "stream",
     "text": [
      "13:33:58.29 LOG:\n",
      "13:33:58.30 .... <argument> = [1255801]\n"
     ]
    },
    {
     "data": {
      "text/plain": [
       "[1255801]"
      ]
     },
     "execution_count": null,
     "metadata": {},
     "output_type": "execute_result"
    },
    {
     "name": "stderr",
     "output_type": "stream",
     "text": [
      "13:33:58.30 LOG:\n",
      "13:33:58.30 .... <argument> = [41139, 603403]\n"
     ]
    },
    {
     "data": {
      "text/plain": [
       "[41139, 603403]"
      ]
     },
     "execution_count": null,
     "metadata": {},
     "output_type": "execute_result"
    },
    {
     "name": "stderr",
     "output_type": "stream",
     "text": [
      "13:33:58.31 LOG:\n",
      "13:33:58.31 .... <argument> = [1126551, 230492, 820332, 1721629, 323715, 904215, 116951]\n"
     ]
    },
    {
     "data": {
      "text/plain": [
       "[1126551, 230492, 820332, 1721629, 323715, 904215, 116951]"
      ]
     },
     "execution_count": null,
     "metadata": {},
     "output_type": "execute_result"
    },
    {
     "name": "stderr",
     "output_type": "stream",
     "text": [
      "13:33:58.32 LOG:\n",
      "13:33:58.32 .... <argument> = [1608431, 343953]\n"
     ]
    },
    {
     "data": {
      "text/plain": [
       "[1608431, 343953]"
      ]
     },
     "execution_count": null,
     "metadata": {},
     "output_type": "execute_result"
    },
    {
     "name": "stderr",
     "output_type": "stream",
     "text": [
      "13:33:58.32 LOG:\n",
      "13:33:58.32 .... <argument> = [1645528, 1479980, 1510088, 1138509, 1731460, 770857, 59162]\n"
     ]
    },
    {
     "data": {
      "text/plain": [
       "[1645528, 1479980, 1510088, 1138509, 1731460, 770857, 59162]"
      ]
     },
     "execution_count": null,
     "metadata": {},
     "output_type": "execute_result"
    },
    {
     "name": "stderr",
     "output_type": "stream",
     "text": [
      "13:33:58.33 LOG:\n",
      "13:33:58.33 .... <argument> = [1097207, 704134]\n"
     ]
    },
    {
     "data": {
      "text/plain": [
       "[1097207, 704134]"
      ]
     },
     "execution_count": null,
     "metadata": {},
     "output_type": "execute_result"
    },
    {
     "name": "stderr",
     "output_type": "stream",
     "text": [
      "13:33:58.34 LOG:\n",
      "13:33:58.34 .... <argument> = [1051851]\n"
     ]
    },
    {
     "data": {
      "text/plain": [
       "[1051851]"
      ]
     },
     "execution_count": null,
     "metadata": {},
     "output_type": "execute_result"
    },
    {
     "name": "stderr",
     "output_type": "stream",
     "text": [
      "13:33:58.34 LOG:\n",
      "13:33:58.34 .... <argument> = [1607184, 1524888, 1763592, 901503, 743413]\n"
     ]
    },
    {
     "data": {
      "text/plain": [
       "[1607184, 1524888, 1763592, 901503, 743413]"
      ]
     },
     "execution_count": null,
     "metadata": {},
     "output_type": "execute_result"
    },
    {
     "name": "stderr",
     "output_type": "stream",
     "text": [
      "13:33:58.35 LOG:\n",
      "13:33:58.35 .... <argument> = [1690823]\n"
     ]
    },
    {
     "data": {
      "text/plain": [
       "[1690823]"
      ]
     },
     "execution_count": null,
     "metadata": {},
     "output_type": "execute_result"
    },
    {
     "name": "stderr",
     "output_type": "stream",
     "text": [
      "13:33:58.36 LOG:\n",
      "13:33:58.36 .... <argument> = [518692, 1157019, 1347221]\n"
     ]
    },
    {
     "data": {
      "text/plain": [
       "[518692, 1157019, 1347221]"
      ]
     },
     "execution_count": null,
     "metadata": {},
     "output_type": "execute_result"
    },
    {
     "name": "stderr",
     "output_type": "stream",
     "text": [
      "13:33:58.36 LOG:\n",
      "13:33:58.36 .... <argument> = [531685]\n"
     ]
    },
    {
     "data": {
      "text/plain": [
       "[531685]"
      ]
     },
     "execution_count": null,
     "metadata": {},
     "output_type": "execute_result"
    },
    {
     "name": "stderr",
     "output_type": "stream",
     "text": [
      "13:33:58.37 LOG:\n",
      "13:33:58.37 .... <argument> = [291180]\n"
     ]
    },
    {
     "data": {
      "text/plain": [
       "[291180]"
      ]
     },
     "execution_count": null,
     "metadata": {},
     "output_type": "execute_result"
    },
    {
     "name": "stderr",
     "output_type": "stream",
     "text": [
      "13:33:58.38 LOG:\n",
      "13:33:58.38 .... <argument> = [1712548, 350054]\n"
     ]
    },
    {
     "data": {
      "text/plain": [
       "[1712548, 350054]"
      ]
     },
     "execution_count": null,
     "metadata": {},
     "output_type": "execute_result"
    },
    {
     "name": "stderr",
     "output_type": "stream",
     "text": [
      "13:33:58.38 LOG:\n",
      "13:33:58.38 .... <argument> = [428096]\n"
     ]
    },
    {
     "data": {
      "text/plain": [
       "[428096]"
      ]
     },
     "execution_count": null,
     "metadata": {},
     "output_type": "execute_result"
    },
    {
     "name": "stderr",
     "output_type": "stream",
     "text": [
      "13:33:58.39 LOG:\n",
      "13:33:58.39 .... <argument> = [1172231, 1783610, 890690, 1168047, 69116]\n"
     ]
    },
    {
     "data": {
      "text/plain": [
       "[1172231, 1783610, 890690, 1168047, 69116]"
      ]
     },
     "execution_count": null,
     "metadata": {},
     "output_type": "execute_result"
    },
    {
     "name": "stderr",
     "output_type": "stream",
     "text": [
      "13:33:58.40 LOG:\n",
      "13:33:58.40 .... <argument> = [836852, 1778843]\n"
     ]
    },
    {
     "data": {
      "text/plain": [
       "[836852, 1778843]"
      ]
     },
     "execution_count": null,
     "metadata": {},
     "output_type": "execute_result"
    },
    {
     "name": "stderr",
     "output_type": "stream",
     "text": [
      "13:33:58.40 LOG:\n",
      "13:33:58.41 .... <argument> = [1722130]\n"
     ]
    },
    {
     "data": {
      "text/plain": [
       "[1722130]"
      ]
     },
     "execution_count": null,
     "metadata": {},
     "output_type": "execute_result"
    },
    {
     "name": "stderr",
     "output_type": "stream",
     "text": [
      "13:33:58.41 LOG:\n",
      "13:33:58.41 .... <argument> = [229562]\n"
     ]
    },
    {
     "data": {
      "text/plain": [
       "[229562]"
      ]
     },
     "execution_count": null,
     "metadata": {},
     "output_type": "execute_result"
    },
    {
     "name": "stderr",
     "output_type": "stream",
     "text": [
      "13:33:58.42 LOG:\n",
      "13:33:58.42 .... <argument> = [1737873]\n"
     ]
    },
    {
     "data": {
      "text/plain": [
       "[1737873]"
      ]
     },
     "execution_count": null,
     "metadata": {},
     "output_type": "execute_result"
    },
    {
     "name": "stderr",
     "output_type": "stream",
     "text": [
      "13:33:58.43 LOG:\n",
      "13:33:58.43 .... <argument> = [1834447, 372163]\n"
     ]
    },
    {
     "data": {
      "text/plain": [
       "[1834447, 372163]"
      ]
     },
     "execution_count": null,
     "metadata": {},
     "output_type": "execute_result"
    },
    {
     "name": "stderr",
     "output_type": "stream",
     "text": [
      "13:33:58.43 LOG:\n",
      "13:33:58.43 .... <argument> = [1197465, 18148, 728786]\n"
     ]
    },
    {
     "data": {
      "text/plain": [
       "[1197465, 18148, 728786]"
      ]
     },
     "execution_count": null,
     "metadata": {},
     "output_type": "execute_result"
    },
    {
     "name": "stderr",
     "output_type": "stream",
     "text": [
      "13:33:58.44 LOG:\n",
      "13:33:58.44 .... <argument> = [1512013,\n",
      "13:33:58.44                    1462420,\n",
      "13:33:58.44                    169604,\n",
      "13:33:58.44                    651686,\n",
      "13:33:58.44                    1260564,\n",
      "13:33:58.44                    1509935,\n",
      "13:33:58.44                    1310373,\n",
      "13:33:58.44                    1658239,\n",
      "13:33:58.44                    637827,\n",
      "13:33:58.44                    1684953,\n",
      "13:33:58.44                    892871,\n",
      "13:33:58.44                    82039,\n",
      "13:33:58.44                    1214819]\n"
     ]
    },
    {
     "data": {
      "text/plain": [
       "[1512013,\n",
       " 1462420,\n",
       " 169604,\n",
       " 651686,\n",
       " 1260564,\n",
       " 1509935,\n",
       " 1310373,\n",
       " 1658239,\n",
       " 637827,\n",
       " 1684953,\n",
       " 892871,\n",
       " 82039,\n",
       " 1214819]"
      ]
     },
     "execution_count": null,
     "metadata": {},
     "output_type": "execute_result"
    },
    {
     "name": "stderr",
     "output_type": "stream",
     "text": [
      "13:33:58.44 LOG:\n",
      "13:33:58.45 .... <argument> = [322935]\n"
     ]
    },
    {
     "data": {
      "text/plain": [
       "[322935]"
      ]
     },
     "execution_count": null,
     "metadata": {},
     "output_type": "execute_result"
    },
    {
     "name": "stderr",
     "output_type": "stream",
     "text": [
      "13:33:58.45 LOG:\n",
      "13:33:58.45 .... <argument> = [1702775]\n"
     ]
    },
    {
     "data": {
      "text/plain": [
       "[1702775]"
      ]
     },
     "execution_count": null,
     "metadata": {},
     "output_type": "execute_result"
    },
    {
     "name": "stderr",
     "output_type": "stream",
     "text": [
      "13:33:58.46 LOG:\n",
      "13:33:58.46 .... <argument> = [86005, 269146, 120944, 1266193, 179419, 1764047, 849587, 1124953, 1336084]\n"
     ]
    },
    {
     "data": {
      "text/plain": [
       "[86005, 269146, 120944, 1266193, 179419, 1764047, 849587, 1124953, 1336084]"
      ]
     },
     "execution_count": null,
     "metadata": {},
     "output_type": "execute_result"
    },
    {
     "name": "stderr",
     "output_type": "stream",
     "text": [
      "13:33:58.47 LOG:\n",
      "13:33:58.47 .... <argument> = [756000]\n"
     ]
    },
    {
     "data": {
      "text/plain": [
       "[756000]"
      ]
     },
     "execution_count": null,
     "metadata": {},
     "output_type": "execute_result"
    },
    {
     "name": "stderr",
     "output_type": "stream",
     "text": [
      "13:33:58.47 LOG:\n",
      "13:33:58.47 .... <argument> = [1492725]\n"
     ]
    },
    {
     "data": {
      "text/plain": [
       "[1492725]"
      ]
     },
     "execution_count": null,
     "metadata": {},
     "output_type": "execute_result"
    },
    {
     "name": "stderr",
     "output_type": "stream",
     "text": [
      "13:33:58.48 LOG:\n",
      "13:33:58.48 .... <argument> = [1484977, 1432595]\n"
     ]
    },
    {
     "data": {
      "text/plain": [
       "[1484977, 1432595]"
      ]
     },
     "execution_count": null,
     "metadata": {},
     "output_type": "execute_result"
    },
    {
     "name": "stderr",
     "output_type": "stream",
     "text": [
      "13:33:58.49 LOG:\n",
      "13:33:58.49 .... <argument> = [1625234]\n"
     ]
    },
    {
     "data": {
      "text/plain": [
       "[1625234]"
      ]
     },
     "execution_count": null,
     "metadata": {},
     "output_type": "execute_result"
    },
    {
     "name": "stderr",
     "output_type": "stream",
     "text": [
      "13:33:58.49 LOG:\n",
      "13:33:58.50 .... <argument> = [1513669, 379702, 1714682, 1380560, 433092]\n"
     ]
    },
    {
     "data": {
      "text/plain": [
       "[1513669, 379702, 1714682, 1380560, 433092]"
      ]
     },
     "execution_count": null,
     "metadata": {},
     "output_type": "execute_result"
    },
    {
     "name": "stderr",
     "output_type": "stream",
     "text": [
      "13:33:58.50 LOG:\n",
      "13:33:58.50 .... <argument> = [1013755,\n",
      "13:33:58.50                    223917,\n",
      "13:33:58.50                    1008124,\n",
      "13:33:58.50                    636232,\n",
      "13:33:58.50                    1028949,\n",
      "13:33:58.50                    736383,\n",
      "13:33:58.50                    403013,\n",
      "13:33:58.50                    480463,\n",
      "13:33:58.50                    1599125,\n",
      "13:33:58.50                    1740199]\n"
     ]
    },
    {
     "data": {
      "text/plain": [
       "[1013755,\n",
       " 223917,\n",
       " 1008124,\n",
       " 636232,\n",
       " 1028949,\n",
       " 736383,\n",
       " 403013,\n",
       " 480463,\n",
       " 1599125,\n",
       " 1740199]"
      ]
     },
     "execution_count": null,
     "metadata": {},
     "output_type": "execute_result"
    },
    {
     "name": "stderr",
     "output_type": "stream",
     "text": [
      "13:33:58.51 LOG:\n",
      "13:33:58.51 .... <argument> = [167178, 731877]\n"
     ]
    },
    {
     "data": {
      "text/plain": [
       "[167178, 731877]"
      ]
     },
     "execution_count": null,
     "metadata": {},
     "output_type": "execute_result"
    },
    {
     "name": "stderr",
     "output_type": "stream",
     "text": [
      "13:33:58.51 LOG:\n",
      "13:33:58.52 .... <argument> = [691809]\n"
     ]
    },
    {
     "data": {
      "text/plain": [
       "[691809]"
      ]
     },
     "execution_count": null,
     "metadata": {},
     "output_type": "execute_result"
    },
    {
     "name": "stderr",
     "output_type": "stream",
     "text": [
      "13:33:58.52 LOG:\n",
      "13:33:58.52 .... <argument> = [447852, 1163166]\n"
     ]
    },
    {
     "data": {
      "text/plain": [
       "[447852, 1163166]"
      ]
     },
     "execution_count": null,
     "metadata": {},
     "output_type": "execute_result"
    },
    {
     "name": "stderr",
     "output_type": "stream",
     "text": [
      "13:33:58.53 LOG:\n",
      "13:33:58.53 .... <argument> = [97742, 112854]\n"
     ]
    },
    {
     "data": {
      "text/plain": [
       "[97742, 112854]"
      ]
     },
     "execution_count": null,
     "metadata": {},
     "output_type": "execute_result"
    },
    {
     "name": "stderr",
     "output_type": "stream",
     "text": [
      "13:33:58.54 LOG:\n",
      "13:33:58.54 .... <argument> = [602958, 1793374]\n"
     ]
    },
    {
     "data": {
      "text/plain": [
       "[602958, 1793374]"
      ]
     },
     "execution_count": null,
     "metadata": {},
     "output_type": "execute_result"
    },
    {
     "name": "stderr",
     "output_type": "stream",
     "text": [
      "13:33:58.54 LOG:\n",
      "13:33:58.54 .... <argument> = [1633799, 1239658, 119418, 888739, 716650, 64177, 558081, 1833603, 1122221]\n"
     ]
    },
    {
     "data": {
      "text/plain": [
       "[1633799, 1239658, 119418, 888739, 716650, 64177, 558081, 1833603, 1122221]"
      ]
     },
     "execution_count": null,
     "metadata": {},
     "output_type": "execute_result"
    },
    {
     "name": "stderr",
     "output_type": "stream",
     "text": [
      "13:33:58.55 LOG:\n",
      "13:33:58.55 .... <argument> = [1619255]\n"
     ]
    },
    {
     "data": {
      "text/plain": [
       "[1619255]"
      ]
     },
     "execution_count": null,
     "metadata": {},
     "output_type": "execute_result"
    },
    {
     "name": "stderr",
     "output_type": "stream",
     "text": [
      "13:33:58.56 LOG:\n",
      "13:33:58.56 .... <argument> = [833245, 171388, 1136390, 1555393, 239683, 1043067, 1283407, 374370, 224449]\n"
     ]
    },
    {
     "data": {
      "text/plain": [
       "[833245, 171388, 1136390, 1555393, 239683, 1043067, 1283407, 374370, 224449]"
      ]
     },
     "execution_count": null,
     "metadata": {},
     "output_type": "execute_result"
    },
    {
     "name": "stderr",
     "output_type": "stream",
     "text": [
      "13:33:58.56 LOG:\n",
      "13:33:58.56 .... <argument> = [1086434]\n"
     ]
    },
    {
     "data": {
      "text/plain": [
       "[1086434]"
      ]
     },
     "execution_count": null,
     "metadata": {},
     "output_type": "execute_result"
    },
    {
     "name": "stderr",
     "output_type": "stream",
     "text": [
      "13:33:58.57 LOG:\n",
      "13:33:58.57 .... <argument> = [1845463]\n"
     ]
    },
    {
     "data": {
      "text/plain": [
       "[1845463]"
      ]
     },
     "execution_count": null,
     "metadata": {},
     "output_type": "execute_result"
    },
    {
     "name": "stderr",
     "output_type": "stream",
     "text": [
      "13:33:58.58 LOG:\n",
      "13:33:58.58 .... <argument> = [980102, 211677, 1378570, 1396474, 145332]\n"
     ]
    },
    {
     "data": {
      "text/plain": [
       "[980102, 211677, 1378570, 1396474, 145332]"
      ]
     },
     "execution_count": null,
     "metadata": {},
     "output_type": "execute_result"
    },
    {
     "name": "stderr",
     "output_type": "stream",
     "text": [
      "13:33:58.58 LOG:\n",
      "13:33:58.58 .... <argument> = [691, 1306014, 969038, 950016, 1685214, 1509658, 995877]\n"
     ]
    },
    {
     "data": {
      "text/plain": [
       "[691, 1306014, 969038, 950016, 1685214, 1509658, 995877]"
      ]
     },
     "execution_count": null,
     "metadata": {},
     "output_type": "execute_result"
    },
    {
     "name": "stderr",
     "output_type": "stream",
     "text": [
      "13:33:58.59 LOG:\n",
      "13:33:58.59 .... <argument> = [1500008, 605667]\n"
     ]
    },
    {
     "data": {
      "text/plain": [
       "[1500008, 605667]"
      ]
     },
     "execution_count": null,
     "metadata": {},
     "output_type": "execute_result"
    },
    {
     "name": "stderr",
     "output_type": "stream",
     "text": [
      "13:33:58.59 LOG:\n",
      "13:33:58.59 .... <argument> = [337471]\n"
     ]
    },
    {
     "data": {
      "text/plain": [
       "[337471]"
      ]
     },
     "execution_count": null,
     "metadata": {},
     "output_type": "execute_result"
    },
    {
     "name": "stderr",
     "output_type": "stream",
     "text": [
      "13:33:58.60 LOG:\n",
      "13:33:58.60 .... <argument> = [1822040, 787398, 1205181]\n"
     ]
    },
    {
     "data": {
      "text/plain": [
       "[1822040, 787398, 1205181]"
      ]
     },
     "execution_count": null,
     "metadata": {},
     "output_type": "execute_result"
    },
    {
     "name": "stderr",
     "output_type": "stream",
     "text": [
      "13:33:58.60 LOG:\n",
      "13:33:58.60 .... <argument> = [1047001]\n"
     ]
    },
    {
     "data": {
      "text/plain": [
       "[1047001]"
      ]
     },
     "execution_count": null,
     "metadata": {},
     "output_type": "execute_result"
    },
    {
     "name": "stderr",
     "output_type": "stream",
     "text": [
      "13:33:58.61 LOG:\n",
      "13:33:58.61 .... <argument> = [1102527]\n"
     ]
    },
    {
     "data": {
      "text/plain": [
       "[1102527]"
      ]
     },
     "execution_count": null,
     "metadata": {},
     "output_type": "execute_result"
    },
    {
     "name": "stderr",
     "output_type": "stream",
     "text": [
      "13:33:58.61 LOG:\n",
      "13:33:58.61 .... <argument> = [376618]\n"
     ]
    },
    {
     "data": {
      "text/plain": [
       "[376618]"
      ]
     },
     "execution_count": null,
     "metadata": {},
     "output_type": "execute_result"
    },
    {
     "name": "stderr",
     "output_type": "stream",
     "text": [
      "13:33:58.62 LOG:\n",
      "13:33:58.62 .... <argument> = [700554]\n"
     ]
    },
    {
     "data": {
      "text/plain": [
       "[700554]"
      ]
     },
     "execution_count": null,
     "metadata": {},
     "output_type": "execute_result"
    },
    {
     "name": "stderr",
     "output_type": "stream",
     "text": [
      "13:33:58.63 LOG:\n",
      "13:33:58.63 .... <argument> = [1416997]\n"
     ]
    },
    {
     "data": {
      "text/plain": [
       "[1416997]"
      ]
     },
     "execution_count": null,
     "metadata": {},
     "output_type": "execute_result"
    },
    {
     "name": "stderr",
     "output_type": "stream",
     "text": [
      "13:33:58.64 LOG:\n",
      "13:33:58.64 .... <argument> = [350632, 1367669]\n"
     ]
    },
    {
     "data": {
      "text/plain": [
       "[350632, 1367669]"
      ]
     },
     "execution_count": null,
     "metadata": {},
     "output_type": "execute_result"
    },
    {
     "name": "stderr",
     "output_type": "stream",
     "text": [
      "13:33:58.64 LOG:\n",
      "13:33:58.64 .... <argument> = [1141633, 1273863, 1078831, 1480581, 143108]\n"
     ]
    },
    {
     "data": {
      "text/plain": [
       "[1141633, 1273863, 1078831, 1480581, 143108]"
      ]
     },
     "execution_count": null,
     "metadata": {},
     "output_type": "execute_result"
    },
    {
     "name": "stderr",
     "output_type": "stream",
     "text": [
      "13:33:58.65 LOG:\n",
      "13:33:58.65 .... <argument> = [275682]\n"
     ]
    },
    {
     "data": {
      "text/plain": [
       "[275682]"
      ]
     },
     "execution_count": null,
     "metadata": {},
     "output_type": "execute_result"
    },
    {
     "name": "stderr",
     "output_type": "stream",
     "text": [
      "13:33:58.66 LOG:\n",
      "13:33:58.66 .... <argument> = [1098720]\n"
     ]
    },
    {
     "data": {
      "text/plain": [
       "[1098720]"
      ]
     },
     "execution_count": null,
     "metadata": {},
     "output_type": "execute_result"
    },
    {
     "name": "stderr",
     "output_type": "stream",
     "text": [
      "13:33:58.66 LOG:\n",
      "13:33:58.66 .... <argument> = [487136, 992903]\n"
     ]
    },
    {
     "data": {
      "text/plain": [
       "[487136, 992903]"
      ]
     },
     "execution_count": null,
     "metadata": {},
     "output_type": "execute_result"
    },
    {
     "name": "stderr",
     "output_type": "stream",
     "text": [
      "13:33:58.67 LOG:\n",
      "13:33:58.67 .... <argument> = [962547, 1296291]\n"
     ]
    },
    {
     "data": {
      "text/plain": [
       "[962547, 1296291]"
      ]
     },
     "execution_count": null,
     "metadata": {},
     "output_type": "execute_result"
    },
    {
     "name": "stderr",
     "output_type": "stream",
     "text": [
      "13:33:58.68 LOG:\n",
      "13:33:58.68 .... <argument> = [1176073,\n",
      "13:33:58.68                    1765740,\n",
      "13:33:58.68                    897911,\n",
      "13:33:58.68                    506952,\n",
      "13:33:58.68                    1330017,\n",
      "13:33:58.68                    1571865,\n",
      "13:33:58.68                    1400323,\n",
      "13:33:58.68                    430946,\n",
      "13:33:58.68                    1769647,\n",
      "13:33:58.68                    1592066]\n"
     ]
    },
    {
     "data": {
      "text/plain": [
       "[1176073,\n",
       " 1765740,\n",
       " 897911,\n",
       " 506952,\n",
       " 1330017,\n",
       " 1571865,\n",
       " 1400323,\n",
       " 430946,\n",
       " 1769647,\n",
       " 1592066]"
      ]
     },
     "execution_count": null,
     "metadata": {},
     "output_type": "execute_result"
    },
    {
     "name": "stderr",
     "output_type": "stream",
     "text": [
      "13:33:58.68 LOG:\n",
      "13:33:58.68 .... <argument> = [1387742, 631747, 1646981, 626148, 1620794]\n"
     ]
    },
    {
     "data": {
      "text/plain": [
       "[1387742, 631747, 1646981, 626148, 1620794]"
      ]
     },
     "execution_count": null,
     "metadata": {},
     "output_type": "execute_result"
    },
    {
     "name": "stderr",
     "output_type": "stream",
     "text": [
      "13:33:58.69 LOG:\n",
      "13:33:58.69 .... <argument> = [1673233]\n"
     ]
    },
    {
     "data": {
      "text/plain": [
       "[1673233]"
      ]
     },
     "execution_count": null,
     "metadata": {},
     "output_type": "execute_result"
    },
    {
     "name": "stderr",
     "output_type": "stream",
     "text": [
      "13:33:58.69 LOG:\n",
      "13:33:58.70 .... <argument> = [1748862]\n"
     ]
    },
    {
     "data": {
      "text/plain": [
       "[1748862]"
      ]
     },
     "execution_count": null,
     "metadata": {},
     "output_type": "execute_result"
    },
    {
     "name": "stderr",
     "output_type": "stream",
     "text": [
      "13:33:58.70 LOG:\n",
      "13:33:58.70 .... <argument> = [273021, 357225]\n"
     ]
    },
    {
     "data": {
      "text/plain": [
       "[273021, 357225]"
      ]
     },
     "execution_count": null,
     "metadata": {},
     "output_type": "execute_result"
    },
    {
     "name": "stderr",
     "output_type": "stream",
     "text": [
      "13:33:58.71 LOG:\n",
      "13:33:58.71 .... <argument> = [1535289, 927268]\n"
     ]
    },
    {
     "data": {
      "text/plain": [
       "[1535289, 927268]"
      ]
     },
     "execution_count": null,
     "metadata": {},
     "output_type": "execute_result"
    },
    {
     "name": "stderr",
     "output_type": "stream",
     "text": [
      "13:33:58.71 LOG:\n",
      "13:33:58.72 .... <argument> = [1270528, 1535403]\n"
     ]
    },
    {
     "data": {
      "text/plain": [
       "[1270528, 1535403]"
      ]
     },
     "execution_count": null,
     "metadata": {},
     "output_type": "execute_result"
    },
    {
     "name": "stderr",
     "output_type": "stream",
     "text": [
      "13:33:58.72 LOG:\n",
      "13:33:58.72 .... <argument> = [1190816]\n"
     ]
    },
    {
     "data": {
      "text/plain": [
       "[1190816]"
      ]
     },
     "execution_count": null,
     "metadata": {},
     "output_type": "execute_result"
    },
    {
     "name": "stderr",
     "output_type": "stream",
     "text": [
      "13:33:58.73 LOG:\n",
      "13:33:58.73 .... <argument> = [508695]\n"
     ]
    },
    {
     "data": {
      "text/plain": [
       "[508695]"
      ]
     },
     "execution_count": null,
     "metadata": {},
     "output_type": "execute_result"
    },
    {
     "name": "stderr",
     "output_type": "stream",
     "text": [
      "13:33:58.73 LOG:\n",
      "13:33:58.74 .... <argument> = [766447, 1554962, 1599045, 582825, 1138908, 1402449]\n"
     ]
    },
    {
     "data": {
      "text/plain": [
       "[766447, 1554962, 1599045, 582825, 1138908, 1402449]"
      ]
     },
     "execution_count": null,
     "metadata": {},
     "output_type": "execute_result"
    },
    {
     "name": "stderr",
     "output_type": "stream",
     "text": [
      "13:33:58.74 LOG:\n",
      "13:33:58.74 .... <argument> = [409717]\n"
     ]
    },
    {
     "data": {
      "text/plain": [
       "[409717]"
      ]
     },
     "execution_count": null,
     "metadata": {},
     "output_type": "execute_result"
    },
    {
     "name": "stderr",
     "output_type": "stream",
     "text": [
      "13:33:58.75 LOG:\n",
      "13:33:58.75 .... <argument> = [1751274]\n"
     ]
    },
    {
     "data": {
      "text/plain": [
       "[1751274]"
      ]
     },
     "execution_count": null,
     "metadata": {},
     "output_type": "execute_result"
    },
    {
     "name": "stderr",
     "output_type": "stream",
     "text": [
      "13:33:58.75 LOG:\n",
      "13:33:58.75 .... <argument> = [1551308, 1734132, 735729]\n"
     ]
    },
    {
     "data": {
      "text/plain": [
       "[1551308, 1734132, 735729]"
      ]
     },
     "execution_count": null,
     "metadata": {},
     "output_type": "execute_result"
    },
    {
     "name": "stderr",
     "output_type": "stream",
     "text": [
      "13:33:58.76 LOG:\n",
      "13:33:58.76 .... <argument> = [911129, 1651571]\n"
     ]
    },
    {
     "data": {
      "text/plain": [
       "[911129, 1651571]"
      ]
     },
     "execution_count": null,
     "metadata": {},
     "output_type": "execute_result"
    },
    {
     "name": "stderr",
     "output_type": "stream",
     "text": [
      "13:33:58.76 LOG:\n",
      "13:33:58.76 .... <argument> = [226839]\n"
     ]
    },
    {
     "data": {
      "text/plain": [
       "[226839]"
      ]
     },
     "execution_count": null,
     "metadata": {},
     "output_type": "execute_result"
    },
    {
     "name": "stderr",
     "output_type": "stream",
     "text": [
      "13:33:58.77 LOG:\n",
      "13:33:58.77 .... <argument> = [668368]\n"
     ]
    },
    {
     "data": {
      "text/plain": [
       "[668368]"
      ]
     },
     "execution_count": null,
     "metadata": {},
     "output_type": "execute_result"
    },
    {
     "name": "stderr",
     "output_type": "stream",
     "text": [
      "13:33:58.77 LOG:\n",
      "13:33:58.77 .... <argument> = [1356483, 1395176]\n"
     ]
    },
    {
     "data": {
      "text/plain": [
       "[1356483, 1395176]"
      ]
     },
     "execution_count": null,
     "metadata": {},
     "output_type": "execute_result"
    },
    {
     "name": "stderr",
     "output_type": "stream",
     "text": [
      "13:33:58.78 LOG:\n",
      "13:33:58.78 .... <argument> = [365717, 923948, 783444]\n"
     ]
    },
    {
     "data": {
      "text/plain": [
       "[365717, 923948, 783444]"
      ]
     },
     "execution_count": null,
     "metadata": {},
     "output_type": "execute_result"
    },
    {
     "name": "stderr",
     "output_type": "stream",
     "text": [
      "13:33:58.78 LOG:\n",
      "13:33:58.79 .... <argument> = [1555739]\n"
     ]
    },
    {
     "data": {
      "text/plain": [
       "[1555739]"
      ]
     },
     "execution_count": null,
     "metadata": {},
     "output_type": "execute_result"
    },
    {
     "name": "stderr",
     "output_type": "stream",
     "text": [
      "13:33:58.79 LOG:\n",
      "13:33:58.79 .... <argument> = [304308, 1435903, 572399]\n"
     ]
    },
    {
     "data": {
      "text/plain": [
       "[304308, 1435903, 572399]"
      ]
     },
     "execution_count": null,
     "metadata": {},
     "output_type": "execute_result"
    },
    {
     "name": "stderr",
     "output_type": "stream",
     "text": [
      "13:33:58.80 LOG:\n",
      "13:33:58.80 .... <argument> = [1811653, 1770718]\n"
     ]
    },
    {
     "data": {
      "text/plain": [
       "[1811653, 1770718]"
      ]
     },
     "execution_count": null,
     "metadata": {},
     "output_type": "execute_result"
    },
    {
     "name": "stderr",
     "output_type": "stream",
     "text": [
      "13:33:58.80 LOG:\n",
      "13:33:58.81 .... <argument> = [1708033, 23421, 475054, 423186, 1574073, 983198, 516077, 1614913, 885746]\n"
     ]
    },
    {
     "data": {
      "text/plain": [
       "[1708033, 23421, 475054, 423186, 1574073, 983198, 516077, 1614913, 885746]"
      ]
     },
     "execution_count": null,
     "metadata": {},
     "output_type": "execute_result"
    },
    {
     "name": "stderr",
     "output_type": "stream",
     "text": [
      "13:33:58.81 LOG:\n",
      "13:33:58.81 .... <argument> = [580343, 470548]\n"
     ]
    },
    {
     "data": {
      "text/plain": [
       "[580343, 470548]"
      ]
     },
     "execution_count": null,
     "metadata": {},
     "output_type": "execute_result"
    },
    {
     "name": "stderr",
     "output_type": "stream",
     "text": [
      "13:33:58.82 LOG:\n",
      "13:33:58.82 .... <argument> = [1709965]\n"
     ]
    },
    {
     "data": {
      "text/plain": [
       "[1709965]"
      ]
     },
     "execution_count": null,
     "metadata": {},
     "output_type": "execute_result"
    },
    {
     "name": "stderr",
     "output_type": "stream",
     "text": [
      "13:33:58.82 LOG:\n",
      "13:33:58.82 .... <argument> = [745322]\n"
     ]
    },
    {
     "data": {
      "text/plain": [
       "[745322]"
      ]
     },
     "execution_count": null,
     "metadata": {},
     "output_type": "execute_result"
    },
    {
     "name": "stderr",
     "output_type": "stream",
     "text": [
      "13:33:58.83 LOG:\n",
      "13:33:58.83 .... <argument> = [589240, 52918, 218696, 1310440, 1240097, 1733231, 1794799, 1670280]\n"
     ]
    },
    {
     "data": {
      "text/plain": [
       "[589240, 52918, 218696, 1310440, 1240097, 1733231, 1794799, 1670280]"
      ]
     },
     "execution_count": null,
     "metadata": {},
     "output_type": "execute_result"
    },
    {
     "name": "stderr",
     "output_type": "stream",
     "text": [
      "13:33:58.84 LOG:\n",
      "13:33:58.84 .... <argument> = [1236775]\n"
     ]
    },
    {
     "data": {
      "text/plain": [
       "[1236775]"
      ]
     },
     "execution_count": null,
     "metadata": {},
     "output_type": "execute_result"
    },
    {
     "name": "stderr",
     "output_type": "stream",
     "text": [
      "13:33:58.84 LOG:\n",
      "13:33:58.84 .... <argument> = [1312133]\n"
     ]
    },
    {
     "data": {
      "text/plain": [
       "[1312133]"
      ]
     },
     "execution_count": null,
     "metadata": {},
     "output_type": "execute_result"
    },
    {
     "name": "stderr",
     "output_type": "stream",
     "text": [
      "13:33:58.85 LOG:\n",
      "13:33:58.85 .... <argument> = [53114]\n"
     ]
    },
    {
     "data": {
      "text/plain": [
       "[53114]"
      ]
     },
     "execution_count": null,
     "metadata": {},
     "output_type": "execute_result"
    },
    {
     "name": "stderr",
     "output_type": "stream",
     "text": [
      "13:33:58.86 LOG:\n",
      "13:33:58.86 .... <argument> = [411401, 1072916]\n"
     ]
    },
    {
     "data": {
      "text/plain": [
       "[411401, 1072916]"
      ]
     },
     "execution_count": null,
     "metadata": {},
     "output_type": "execute_result"
    },
    {
     "name": "stderr",
     "output_type": "stream",
     "text": [
      "13:33:58.86 LOG:\n",
      "13:33:58.86 .... <argument> = [1488970, 166478]\n"
     ]
    },
    {
     "data": {
      "text/plain": [
       "[1488970, 166478]"
      ]
     },
     "execution_count": null,
     "metadata": {},
     "output_type": "execute_result"
    },
    {
     "name": "stderr",
     "output_type": "stream",
     "text": [
      "13:33:58.87 LOG:\n",
      "13:33:58.87 .... <argument> = [263686, 915763]\n"
     ]
    },
    {
     "data": {
      "text/plain": [
       "[263686, 915763]"
      ]
     },
     "execution_count": null,
     "metadata": {},
     "output_type": "execute_result"
    },
    {
     "name": "stderr",
     "output_type": "stream",
     "text": [
      "13:33:58.88 LOG:\n",
      "13:33:58.88 .... <argument> = [642877, 688503, 1697138]\n"
     ]
    },
    {
     "data": {
      "text/plain": [
       "[642877, 688503, 1697138]"
      ]
     },
     "execution_count": null,
     "metadata": {},
     "output_type": "execute_result"
    },
    {
     "name": "stderr",
     "output_type": "stream",
     "text": [
      "13:33:58.88 LOG:\n",
      "13:33:58.88 .... <argument> = [1738029,\n",
      "13:33:58.88                    465610,\n",
      "13:33:58.88                    788405,\n",
      "13:33:58.88                    461213,\n",
      "13:33:58.88                    976538,\n",
      "13:33:58.88                    1562700,\n",
      "13:33:58.88                    1604175,\n",
      "13:33:58.88                    802882,\n",
      "13:33:58.88                    344638,\n",
      "13:33:58.88                    968415,\n",
      "13:33:58.88                    633315]\n"
     ]
    },
    {
     "data": {
      "text/plain": [
       "[1738029,\n",
       " 465610,\n",
       " 788405,\n",
       " 461213,\n",
       " 976538,\n",
       " 1562700,\n",
       " 1604175,\n",
       " 802882,\n",
       " 344638,\n",
       " 968415,\n",
       " 633315]"
      ]
     },
     "execution_count": null,
     "metadata": {},
     "output_type": "execute_result"
    },
    {
     "name": "stderr",
     "output_type": "stream",
     "text": [
      "13:33:58.89 LOG:\n",
      "13:33:58.89 .... <argument> = [794297, 567335, 1641635, 1805441, 536837, 1683927]\n"
     ]
    },
    {
     "data": {
      "text/plain": [
       "[794297, 567335, 1641635, 1805441, 536837, 1683927]"
      ]
     },
     "execution_count": null,
     "metadata": {},
     "output_type": "execute_result"
    },
    {
     "name": "stderr",
     "output_type": "stream",
     "text": [
      "13:33:58.89 LOG:\n",
      "13:33:58.90 .... <argument> = [447242, 326100, 830721]\n"
     ]
    },
    {
     "data": {
      "text/plain": [
       "[447242, 326100, 830721]"
      ]
     },
     "execution_count": null,
     "metadata": {},
     "output_type": "execute_result"
    },
    {
     "name": "stderr",
     "output_type": "stream",
     "text": [
      "13:33:58.90 LOG:\n",
      "13:33:58.90 .... <argument> = [1320998]\n"
     ]
    },
    {
     "data": {
      "text/plain": [
       "[1320998]"
      ]
     },
     "execution_count": null,
     "metadata": {},
     "output_type": "execute_result"
    },
    {
     "name": "stderr",
     "output_type": "stream",
     "text": [
      "13:33:58.91 LOG:\n",
      "13:33:58.91 .... <argument> = [1688300, 882957]\n"
     ]
    },
    {
     "data": {
      "text/plain": [
       "[1688300, 882957]"
      ]
     },
     "execution_count": null,
     "metadata": {},
     "output_type": "execute_result"
    },
    {
     "name": "stderr",
     "output_type": "stream",
     "text": [
      "13:33:58.92 LOG:\n",
      "13:33:58.92 .... <argument> = [183243]\n"
     ]
    },
    {
     "data": {
      "text/plain": [
       "[183243]"
      ]
     },
     "execution_count": null,
     "metadata": {},
     "output_type": "execute_result"
    },
    {
     "name": "stderr",
     "output_type": "stream",
     "text": [
      "13:33:58.92 LOG:\n",
      "13:33:58.93 .... <argument> = [839420, 612920, 582057]\n"
     ]
    },
    {
     "data": {
      "text/plain": [
       "[839420, 612920, 582057]"
      ]
     },
     "execution_count": null,
     "metadata": {},
     "output_type": "execute_result"
    },
    {
     "name": "stderr",
     "output_type": "stream",
     "text": [
      "13:33:58.93 LOG:\n",
      "13:33:58.93 .... <argument> = [352192]\n"
     ]
    },
    {
     "data": {
      "text/plain": [
       "[352192]"
      ]
     },
     "execution_count": null,
     "metadata": {},
     "output_type": "execute_result"
    },
    {
     "name": "stderr",
     "output_type": "stream",
     "text": [
      "13:33:58.94 LOG:\n",
      "13:33:58.95 .... candidates = [1810463]\n",
      "13:33:58.95 .... Counter(candidates) = Counter({1810463: 1})\n",
      "13:33:58.95 .... Counter(candidates).most_common(40) = [(1810463, 1)]\n"
     ]
    },
    {
     "data": {
      "text/plain": [
       "([1810463], Counter({1810463: 1}), [(1810463, 1)])"
      ]
     },
     "execution_count": null,
     "metadata": {},
     "output_type": "execute_result"
    }
   ],
   "source": [
    "labels = []\n",
    "\n",
    "no_data = 0\n",
    "no_data_all_aids = 0\n",
    "type_weight_multipliers = {0: 1, 1: 6, 2: 3}\n",
    "session_types = ['clicks', 'carts', 'orders']\n",
    "\n",
    "idx = 0\n",
    "for AIDs, types in zip(test_session_AIDs, test_session_types): #### for each session, get all of its aids and types\n",
    "    if len(AIDs) >= 20:\n",
    "        #### assign logspaced weight to each arcticle id under each session\n",
    "#         pp(AIDs, len(AIDs), np.logspace(0.1,1,len(AIDs),base=2, endpoint=True), np.logspace(0.1,1,len(AIDs),base=2, endpoint=False))\n",
    "        weights=np.logspace(0.1,1,len(AIDs),base=2, endpoint=True)-1\n",
    "#         pp(weights)\n",
    "#         pp(doc_sig(np.logspace))\n",
    "#         break\n",
    "\n",
    "        #### create a defaultdict to store weight for each id article under a session\n",
    "        aids_temp=defaultdict(lambda: 0)\n",
    "#         pp(aids_temp['a'], help(defaultdict))\n",
    "#         break\n",
    "    \n",
    "        #### loop each article id, its weight and its type from all aids, their weights, and types\n",
    "        for aid,w,t in zip(AIDs,weights,types): \n",
    "        \n",
    "            #### Within each session, accumulate the weight for each aid based on its occurences, \n",
    "            #### event_type and logspaced weight; save the accumulated weight for each aid into a defaultdict, \n",
    "            #### no duplicated aid here in this dict\n",
    "            aids_temp[aid] += w * type_weight_multipliers[t]\n",
    "#         pp(AIDs, aids_temp) \n",
    "#         break\n",
    "        \n",
    "        #### sort a defaultdict from largest value to smallest, and then put its keys into a list\n",
    "#         pp(aids_temp.items())\n",
    "#         pp(sorted(aids_temp.items(), key=lambda item: -item[1]))\n",
    "#         pp(sorted(aids_temp.items(), key=lambda item: item[1])) \n",
    "        sorted_aids=[k for k, v in sorted(aids_temp.items(), key=lambda item: -item[1])]\n",
    "#         pp(aids_temp, sorted_aids)\n",
    "#         pp(help(sorted))\n",
    "#         break\n",
    "\n",
    "        #### store the first 20 aids into the list 'labels'\n",
    "        labels.append(sorted_aids[:20])\n",
    "        \n",
    "    else:\n",
    "        \n",
    "        #### reverse the order of AIDs, remove the duplicated, put into a list, reassign it to AIDs\n",
    "#         if len(AIDs) > 10:\n",
    "#             pp(AIDs, AIDs[::-1], dict.fromkeys(AIDs[::-1]), list(dict.fromkeys(AIDs[::-1])))\n",
    "# # https://stackoverflow.com/questions/31633635/what-is-the-meaning-of-inta-1-in-python [::-1] means reverse order\n",
    "#             pp(AIDs, list(dict.fromkeys(AIDs[::-1])), list(dict.fromkeys(AIDs[::1])), list(dict.fromkeys(AIDs)))\n",
    "#             break\n",
    "        AIDs = list(dict.fromkeys(AIDs[::-1]))\n",
    "    \n",
    "        #### keep track the length of AIDs\n",
    "        AIDs_len_start = len(AIDs)\n",
    "        \n",
    "        candidates = []\n",
    "\n",
    "        for AID in AIDs:\n",
    "            #### if AID is in the keys of next_AIDs, then take the 20 most common other aids occurred when AID occurred into a list\n",
    "            #### and add this list into the list candidate (not a list of list, just a merged list)\n",
    "            if AID in next_AIDs: \n",
    "                candidates = candidates + [aid for aid, count in next_AIDs[AID].most_common(20)]\n",
    "\n",
    "#         if not bool(candidates): pp(AIDs)\n",
    "#         if len(candidates) > 0: \n",
    "#             pp(candidates, Counter(candidates), Counter(candidates).most_common(40))\n",
    "#             break\n",
    "\n",
    "        #### use Counter to find the first 40 most common aid in candidate, and if they are not in AIDs then merge them into AIDs list\n",
    "        AIDs += [AID for AID, cnt in Counter(candidates).most_common(40) if AID not in AIDs]\n",
    "        \n",
    "        #### append the first 20 aids to labels; \n",
    "        #### also count how many times a test session have no aid in next_AIDs from training\n",
    "        #### count how many new other aids offerred by next_AIDs\n",
    "        labels.append(AIDs[:20])\n",
    "        if candidates == []: no_data += 1\n",
    "        if AIDs_len_start == len(AIDs): no_data_all_aids += 1\n",
    "            \n",
    "#         pp(AIDs, labels, no_data, no_data_all_aids)\n",
    "#         idx += 1\n",
    "#         if idx > 2: break"
   ]
  },
  {
   "cell_type": "markdown",
   "metadata": {},
   "source": [
    "### rd: recsys - otto - covisitation_simplified - find the first 40 most common aids in a candidate (for a session); and if they (these aids) are not found in AIDs then merge them into AIDs list, so that a session has a updated AIDs list (which most likely to occur) - AIDs += [AID for AID, cnt in Counter(candidates).most_common(40) if AID not in AIDs]\n",
    "### rd: recsys - otto - covisitation_simplified - give the first 20 aids from AIDs to labels (a list); count how many test sessions whose aids are not seen in next_AIDs from training; count how many test sessions don't receive additional aids from next_AIDs  labels.append(AIDs[:20]) - if candidates == []: no_data += 1 - if AIDs_len_start == len(AIDs): no_data_all_aids += 1"
   ]
  },
  {
   "cell_type": "code",
   "execution_count": null,
   "metadata": {},
   "outputs": [
    {
     "name": "stderr",
     "output_type": "stream",
     "text": [
      "13:33:58.98 LOG:\n",
      "13:33:58.99 .... AIDs = [59625]\n",
      "13:33:58.99 .... labels = [[59625]]\n",
      "13:33:58.99 .... no_data = 1\n",
      "13:33:58.99 .... no_data_all_aids = 1\n"
     ]
    },
    {
     "data": {
      "text/plain": [
       "([59625], [[59625]], 1, 1)"
      ]
     },
     "execution_count": null,
     "metadata": {},
     "output_type": "execute_result"
    },
    {
     "name": "stderr",
     "output_type": "stream",
     "text": [
      "13:33:59.00 LOG:\n",
      "13:33:59.00 .... AIDs = [1142000, 736515, 973453, 582732]\n",
      "13:33:59.00 .... labels = [[59625], [1142000, 736515, 973453, 582732]]\n",
      "13:33:59.00 .... no_data = 2\n",
      "13:33:59.00 .... no_data_all_aids = 2\n"
     ]
    },
    {
     "data": {
      "text/plain": [
       "([1142000, 736515, 973453, 582732],\n",
       " [[59625], [1142000, 736515, 973453, 582732]],\n",
       " 2,\n",
       " 2)"
      ]
     },
     "execution_count": null,
     "metadata": {},
     "output_type": "execute_result"
    },
    {
     "name": "stderr",
     "output_type": "stream",
     "text": [
      "13:33:59.01 LOG:\n",
      "13:33:59.01 .... AIDs = [918667, 199008, 194067, 57315, 141736]\n",
      "13:33:59.01 .... labels = [[59625],\n",
      "13:33:59.01                [1142000, 736515, 973453, 582732],\n",
      "13:33:59.01                [918667, 199008, 194067, 57315, 141736]]\n",
      "13:33:59.01 .... no_data = 3\n",
      "13:33:59.01 .... no_data_all_aids = 3\n"
     ]
    },
    {
     "data": {
      "text/plain": [
       "([918667, 199008, 194067, 57315, 141736],\n",
       " [[59625],\n",
       "  [1142000, 736515, 973453, 582732],\n",
       "  [918667, 199008, 194067, 57315, 141736]],\n",
       " 3,\n",
       " 3)"
      ]
     },
     "execution_count": null,
     "metadata": {},
     "output_type": "execute_result"
    }
   ],
   "source": [
    "labels = []\n",
    "\n",
    "no_data = 0\n",
    "no_data_all_aids = 0\n",
    "type_weight_multipliers = {0: 1, 1: 6, 2: 3}\n",
    "session_types = ['clicks', 'carts', 'orders']\n",
    "\n",
    "idx = 0\n",
    "for AIDs, types in zip(test_session_AIDs, test_session_types): #### for each session, get all of its aids and types\n",
    "    if len(AIDs) >= 20:\n",
    "        #### assign logspaced weight to each arcticle id under each session\n",
    "#         pp(AIDs, len(AIDs), np.logspace(0.1,1,len(AIDs),base=2, endpoint=True), np.logspace(0.1,1,len(AIDs),base=2, endpoint=False))\n",
    "        weights=np.logspace(0.1,1,len(AIDs),base=2, endpoint=True)-1\n",
    "#         pp(weights)\n",
    "#         pp(doc_sig(np.logspace))\n",
    "#         break\n",
    "\n",
    "        #### create a defaultdict to store weight for each id article under a session\n",
    "        aids_temp=defaultdict(lambda: 0)\n",
    "#         pp(aids_temp['a'], help(defaultdict))\n",
    "#         break\n",
    "    \n",
    "        #### loop each article id, its weight and its type from all aids, their weights, and types\n",
    "        for aid,w,t in zip(AIDs,weights,types): \n",
    "        \n",
    "            #### Within each session, accumulate the weight for each aid based on its occurences, \n",
    "            #### event_type and logspaced weight; save the accumulated weight for each aid into a defaultdict, \n",
    "            #### no duplicated aid here in this dict\n",
    "            aids_temp[aid] += w * type_weight_multipliers[t]\n",
    "#         pp(AIDs, aids_temp) \n",
    "#         break\n",
    "        \n",
    "        #### sort a defaultdict from largest value to smallest, and then put its keys into a list\n",
    "#         pp(aids_temp.items())\n",
    "#         pp(sorted(aids_temp.items(), key=lambda item: -item[1]))\n",
    "#         pp(sorted(aids_temp.items(), key=lambda item: item[1])) \n",
    "        sorted_aids=[k for k, v in sorted(aids_temp.items(), key=lambda item: -item[1])]\n",
    "#         pp(aids_temp, sorted_aids)\n",
    "#         pp(help(sorted))\n",
    "#         break\n",
    "\n",
    "        #### store the first 20 aids into the list 'labels'\n",
    "        labels.append(sorted_aids[:20])\n",
    "        \n",
    "    else:\n",
    "        \n",
    "        #### reverse the order of AIDs, remove the duplicated, put into a list, reassign it to AIDs\n",
    "#         if len(AIDs) > 10:\n",
    "#             pp(AIDs, AIDs[::-1], dict.fromkeys(AIDs[::-1]), list(dict.fromkeys(AIDs[::-1])))\n",
    "# # https://stackoverflow.com/questions/31633635/what-is-the-meaning-of-inta-1-in-python [::-1] means reverse order\n",
    "#             pp(AIDs, list(dict.fromkeys(AIDs[::-1])), list(dict.fromkeys(AIDs[::1])), list(dict.fromkeys(AIDs)))\n",
    "#             break\n",
    "        AIDs = list(dict.fromkeys(AIDs[::-1]))\n",
    "    \n",
    "        #### keep track the length of AIDs\n",
    "        AIDs_len_start = len(AIDs)\n",
    "        \n",
    "        candidates = []\n",
    "#         with snoop:\n",
    "#             idx = 0\n",
    "        for AID in AIDs:\n",
    "            #### if AID is in the keys of next_AIDs, then take the 20 most common other aids occurred when AID occurred into a list\n",
    "            #### and add this list into the list candidate (not a list of list, just a merged list)\n",
    "            if AID in next_AIDs: \n",
    "                candidates = candidates + [aid for aid, count in next_AIDs[AID].most_common(20)]\n",
    "#                 idx+=1\n",
    "#                 if idx > 2: break\n",
    "\n",
    "\n",
    "#         if len(candidates) > 0: \n",
    "#             pp(candidates, Counter(candidates), Counter(candidates).most_common(40))\n",
    "#             break\n",
    "\n",
    "        #### use Counter to find the first 40 most common aid in candidate, and if they are not in AIDs then merge them into AIDs list\n",
    "        AIDs += [AID for AID, cnt in Counter(candidates).most_common(40) if AID not in AIDs]\n",
    "        \n",
    "        #### append the first 20 aids to labels; \n",
    "        #### also count how many test sessions whose aids are not seen in next_AIDs from training\n",
    "        #### count how many test sessions don't receive additional aids from next_AIDs\n",
    "        labels.append(AIDs[:20])\n",
    "        if candidates == []: no_data += 1\n",
    "        if AIDs_len_start == len(AIDs): no_data_all_aids += 1\n",
    "            \n",
    "        pp(AIDs, labels, no_data, no_data_all_aids)\n",
    "        idx += 1\n",
    "        if idx > 2: break"
   ]
  },
  {
   "cell_type": "markdown",
   "metadata": {},
   "source": [
    "### rd: src - recsys - otto - covisitation_simplified"
   ]
  },
  {
   "cell_type": "code",
   "execution_count": null,
   "metadata": {},
   "outputs": [],
   "source": [
    "labels = []\n",
    "\n",
    "no_data = 0\n",
    "no_data_all_aids = 0\n",
    "type_weight_multipliers = {0: 1, 1: 6, 2: 3}\n",
    "session_types = ['clicks', 'carts', 'orders']\n",
    "\n",
    "idx = 0\n",
    "for AIDs, types in zip(test_session_AIDs, test_session_types): #### for each session, get all of its aids and types\n",
    "    if len(AIDs) >= 20:\n",
    "        #### assign logspaced weight to each arcticle id under each session\n",
    "#         pp(AIDs, len(AIDs), np.logspace(0.1,1,len(AIDs),base=2, endpoint=True), np.logspace(0.1,1,len(AIDs),base=2, endpoint=False))\n",
    "        weights=np.logspace(0.1,1,len(AIDs),base=2, endpoint=True)-1\n",
    "#         pp(weights)\n",
    "#         pp(doc_sig(np.logspace))\n",
    "#         break\n",
    "\n",
    "        #### create a defaultdict to store weight for each id article under a session\n",
    "        aids_temp=defaultdict(lambda: 0)\n",
    "#         pp(aids_temp['a'], help(defaultdict))\n",
    "#         break\n",
    "    \n",
    "        #### loop each article id, its weight and its type from all aids, their weights, and types\n",
    "        for aid,w,t in zip(AIDs,weights,types): \n",
    "        \n",
    "            #### Within each session, accumulate the weight for each aid based on its occurences, \n",
    "            #### event_type and logspaced weight; save the accumulated weight for each aid into a defaultdict, \n",
    "            #### no duplicated aid here in this dict\n",
    "            aids_temp[aid] += w * type_weight_multipliers[t]\n",
    "#         pp(AIDs, aids_temp) \n",
    "#         break\n",
    "        \n",
    "        #### sort a defaultdict from largest value to smallest, and then put its keys into a list\n",
    "#         pp(aids_temp.items())\n",
    "#         pp(sorted(aids_temp.items(), key=lambda item: -item[1]))\n",
    "#         pp(sorted(aids_temp.items(), key=lambda item: item[1])) \n",
    "        sorted_aids=[k for k, v in sorted(aids_temp.items(), key=lambda item: -item[1])]\n",
    "#         pp(aids_temp, sorted_aids)\n",
    "#         pp(help(sorted))\n",
    "#         break\n",
    "\n",
    "        #### store the first 20 aids into the list 'labels'\n",
    "        labels.append(sorted_aids[:20])\n",
    "        \n",
    "    else:\n",
    "        \n",
    "        #### reverse the order of AIDs, remove the duplicated, put into a list, reassign it to AIDs\n",
    "#         if len(AIDs) > 10:\n",
    "#             pp(AIDs, AIDs[::-1], dict.fromkeys(AIDs[::-1]), list(dict.fromkeys(AIDs[::-1])))\n",
    "# # https://stackoverflow.com/questions/31633635/what-is-the-meaning-of-inta-1-in-python [::-1] means reverse order\n",
    "#             pp(AIDs, list(dict.fromkeys(AIDs[::-1])), list(dict.fromkeys(AIDs[::1])), list(dict.fromkeys(AIDs)))\n",
    "#             break\n",
    "        AIDs = list(dict.fromkeys(AIDs[::-1]))\n",
    "    \n",
    "        #### keep track the length of AIDs\n",
    "        AIDs_len_start = len(AIDs)\n",
    "        \n",
    "        candidates = []\n",
    "#         with snoop:\n",
    "#             idx = 0\n",
    "        for AID in AIDs:\n",
    "            #### if AID is in the keys of next_AIDs, then take the 20 most common other aids occurred when AID occurred into a list\n",
    "            #### and add this list into the list candidate (not a list of list, just a merged list)\n",
    "            if AID in next_AIDs: \n",
    "                candidates = candidates + [aid for aid, count in next_AIDs[AID].most_common(20)]\n",
    "#                 idx+=1\n",
    "#                 if idx > 2: break\n",
    "\n",
    "\n",
    "#         if len(candidates) > 0: \n",
    "#             pp(candidates, Counter(candidates), Counter(candidates).most_common(40))\n",
    "#             break\n",
    "\n",
    "        #### use Counter to find the first 40 most common aid in candidate, and if they are not in AIDs then merge them into AIDs list\n",
    "        AIDs += [AID for AID, cnt in Counter(candidates).most_common(40) if AID not in AIDs]\n",
    "        \n",
    "        #### append the first 20 aids to labels; \n",
    "        #### also count how many test sessions whose aids are not seen in next_AIDs from training\n",
    "        #### count how many test sessions don't receive additional aids from next_AIDs\n",
    "        labels.append(AIDs[:20])\n",
    "        if candidates == []: no_data += 1\n",
    "        if AIDs_len_start == len(AIDs): no_data_all_aids += 1\n",
    "            \n",
    "#         pp(AIDs, labels, no_data, no_data_all_aids)\n",
    "#         idx += 1\n",
    "#         if idx > 2: break"
   ]
  },
  {
   "cell_type": "markdown",
   "metadata": {},
   "source": [
    "## rd: recsys - otto - covisitation_simplified - prepare results to CSV"
   ]
  },
  {
   "cell_type": "markdown",
   "metadata": {},
   "source": [
    "### rd: recsys - otto - covisitation_simplified - make a list of lists (labels) into a list of strings (labels_as_strings) - labels_as_strings = [' '.join([str(l) for l in lls]) for lls in labels]"
   ]
  },
  {
   "cell_type": "code",
   "execution_count": null,
   "metadata": {},
   "outputs": [
    {
     "name": "stderr",
     "output_type": "stream",
     "text": [
      "13:34:22.15 LOG:\n",
      "13:34:22.15 .... labels[:2] = [[59625], [1142000, 736515, 973453, 582732]]\n",
      "13:34:22.15 .... labels_as_strings[:2] = ['59625', '1142000 736515 973453 582732']\n"
     ]
    },
    {
     "data": {
      "text/plain": [
       "([[59625], [1142000, 736515, 973453, 582732]],\n",
       " ['59625', '1142000 736515 973453 582732'])"
      ]
     },
     "execution_count": null,
     "metadata": {},
     "output_type": "execute_result"
    }
   ],
   "source": [
    "labels_as_strings = [' '.join([str(l) for l in lls]) for lls in labels]\n",
    "pp(labels[:2], labels_as_strings[:2])"
   ]
  },
  {
   "cell_type": "markdown",
   "metadata": {},
   "source": [
    "### rd: recsys - otto - covisitation_simplified - give each list of label strings a session number - predictions = pd.DataFrame(data={'session_type': test_session_AIDs.index, 'labels': labels_as_strings})"
   ]
  },
  {
   "cell_type": "code",
   "execution_count": null,
   "metadata": {},
   "outputs": [
    {
     "name": "stderr",
     "output_type": "stream",
     "text": [
      "13:34:22.16 LOG:\n",
      "13:34:22.17 .... len(test_session_AIDs.index) = 1671803\n",
      "13:34:22.17 .... len(labels_as_strings) = 1671803\n",
      "13:34:22.18 .... test_session_AIDs.head() = session\n",
      "13:34:22.18                                 12899779                                                                                                                                                                                                                                                                                                                                                                                                                                                                                                                                                                                               [59625]\n",
      "13:34:22.18                                 12899780                                                                                                                                                                                                                                                                                                                                                                                                                                                                                                                                                            [1142000, 582732, 973453, 736515, 1142000]\n",
      "13:34:22.18                                 12899781                                                                                                                                                                                                                                                                                                                                                                                                                                                                                                               [141736, 199008, 57315, 194067, 199008, 199008, 199008, 199008, 199008, 199008, 918667]\n",
      "13:34:22.18                                 12899782    [1669402, 1494780, 1494780, 1494780, 1494780, 1674681, 602722, 1596098, 45034, 603159, 413962, 413962, 413962, 779477, 1037537, 779477, 779477, 476063, 562753, 779477, 562753, 476063, 779477, 779477, 562753, 779477, 476063, 975116, 975116, 595994, 595994, 595994, 1299062, 1352725, 1344773, 1344773, 794259, 363336, 829180, 1711180, 127404, 654809, 723956, 476063, 975116, 406001, 889671, 889671, 834354, 834354, 889671, 1099390, 987399, 987399, 638410, 1072927, 530899, 229748, 229748, 740494, 740494, 834354, 1669402, 829180, 1696036, 479970, 834354, 1033148, 595994, 1007613]\n",
      "13:34:22.18                                 12899783                                                                                                                                                                                                                                                                                                                                                                                                                                                                                                         [255297, 1114789, 255297, 300127, 198385, 300127, 1729553, 1216820, 1754419, 607638, 1817895]\n",
      "13:34:22.18                                 Name: aid, dtype: object\n"
     ]
    },
    {
     "data": {
      "text/plain": [
       "(1671803,\n",
       " 1671803,\n",
       " session\n",
       " 12899779                                                                                                                                                                                                                                                                                                                                                                                                                                                                                                                                                                                               [59625]\n",
       " 12899780                                                                                                                                                                                                                                                                                                                                                                                                                                                                                                                                                            [1142000, 582732, 973453, 736515, 1142000]\n",
       " 12899781                                                                                                                                                                                                                                                                                                                                                                                                                                                                                                               [141736, 199008, 57315, 194067, 199008, 199008, 199008, 199008, 199008, 199008, 918667]\n",
       " 12899782    [1669402, 1494780, 1494780, 1494780, 1494780, 1674681, 602722, 1596098, 45034, 603159, 413962, 413962, 413962, 779477, 1037537, 779477, 779477, 476063, 562753, 779477, 562753, 476063, 779477, 779477, 562753, 779477, 476063, 975116, 975116, 595994, 595994, 595994, 1299062, 1352725, 1344773, 1344773, 794259, 363336, 829180, 1711180, 127404, 654809, 723956, 476063, 975116, 406001, 889671, 889671, 834354, 834354, 889671, 1099390, 987399, 987399, 638410, 1072927, 530899, 229748, 229748, 740494, 740494, 834354, 1669402, 829180, 1696036, 479970, 834354, 1033148, 595994, 1007613]\n",
       " 12899783                                                                                                                                                                                                                                                                                                                                                                                                                                                                                                         [255297, 1114789, 255297, 300127, 198385, 300127, 1729553, 1216820, 1754419, 607638, 1817895]\n",
       " Name: aid, dtype: object)"
      ]
     },
     "execution_count": null,
     "metadata": {},
     "output_type": "execute_result"
    },
    {
     "data": {
      "text/html": [
       "<div>\n",
       "<style scoped>\n",
       "    .dataframe tbody tr th:only-of-type {\n",
       "        vertical-align: middle;\n",
       "    }\n",
       "\n",
       "    .dataframe tbody tr th {\n",
       "        vertical-align: top;\n",
       "    }\n",
       "\n",
       "    .dataframe thead th {\n",
       "        text-align: right;\n",
       "    }\n",
       "</style>\n",
       "<table border=\"1\" class=\"dataframe\">\n",
       "  <thead>\n",
       "    <tr style=\"text-align: right;\">\n",
       "      <th></th>\n",
       "      <th>session_type</th>\n",
       "      <th>labels</th>\n",
       "    </tr>\n",
       "  </thead>\n",
       "  <tbody>\n",
       "    <tr>\n",
       "      <th>0</th>\n",
       "      <td>12899779</td>\n",
       "      <td>59625</td>\n",
       "    </tr>\n",
       "    <tr>\n",
       "      <th>1</th>\n",
       "      <td>12899780</td>\n",
       "      <td>1142000 736515 973453 582732</td>\n",
       "    </tr>\n",
       "    <tr>\n",
       "      <th>2</th>\n",
       "      <td>12899781</td>\n",
       "      <td>918667 199008 194067 57315 141736</td>\n",
       "    </tr>\n",
       "    <tr>\n",
       "      <th>3</th>\n",
       "      <td>12899782</td>\n",
       "      <td>834354 595994 740494 889671 987399 779477 1344773 975116 127404 829180 1711180 1007613 476063 1033148 479970 1696036 1669402 562753 229748 413962</td>\n",
       "    </tr>\n",
       "    <tr>\n",
       "      <th>4</th>\n",
       "      <td>12899783</td>\n",
       "      <td>1817895 607638 1754419 1216820 1729553 300127 198385 255297 1114789</td>\n",
       "    </tr>\n",
       "  </tbody>\n",
       "</table>\n",
       "</div>"
      ],
      "text/plain": [
       "   session_type  \\\n",
       "0      12899779   \n",
       "1      12899780   \n",
       "2      12899781   \n",
       "3      12899782   \n",
       "4      12899783   \n",
       "\n",
       "                                                                                                                                              labels  \n",
       "0                                                                                                                                              59625  \n",
       "1                                                                                                                       1142000 736515 973453 582732  \n",
       "2                                                                                                                  918667 199008 194067 57315 141736  \n",
       "3  834354 595994 740494 889671 987399 779477 1344773 975116 127404 829180 1711180 1007613 476063 1033148 479970 1696036 1669402 562753 229748 413962  \n",
       "4                                                                                1817895 607638 1754419 1216820 1729553 300127 198385 255297 1114789  "
      ]
     },
     "execution_count": null,
     "metadata": {},
     "output_type": "execute_result"
    }
   ],
   "source": [
    "pp(len(test_session_AIDs.index), len(labels_as_strings), test_session_AIDs.head())\n",
    "predictions = pd.DataFrame(data={'session_type': test_session_AIDs.index, 'labels': labels_as_strings})\n",
    "predictions.head()"
   ]
  },
  {
   "cell_type": "markdown",
   "metadata": {},
   "source": [
    "### rd: recsys - otto - covisitation_simplified - multi-objective means 'clicks', 'carts', and 'orders'; and we make the same predictions on them - session_types = ['clicks', 'carts', 'orders'] - for st in session_types: - modified_predictions = predictions.copy() - modified_predictions.session_type = modified_predictions.session_type.astype('str') + f'_{st}' - prediction_dfs.append(modified_predictions)"
   ]
  },
  {
   "cell_type": "code",
   "execution_count": null,
   "metadata": {},
   "outputs": [],
   "source": [
    "prediction_dfs = []\n",
    "session_types = ['clicks', 'carts', 'orders']\n",
    "for st in session_types:\n",
    "    modified_predictions = predictions.copy()\n",
    "    modified_predictions.session_type = modified_predictions.session_type.astype('str') + f'_{st}'\n",
    "    prediction_dfs.append(modified_predictions)"
   ]
  },
  {
   "cell_type": "code",
   "execution_count": null,
   "metadata": {},
   "outputs": [
    {
     "name": "stderr",
     "output_type": "stream",
     "text": [
      "13:34:26.43 LOG:\n",
      "13:34:26.44 .... prediction_dfs[0][:5] =       session_type  \\\n",
      "13:34:26.44                              0  12899779_clicks   \n",
      "13:34:26.44                              1  12899780_clicks   \n",
      "13:34:26.44                              2  12899781_clicks   \n",
      "13:34:26.44                              3  12899782_clicks   \n",
      "13:34:26.44                              4  12899783_clicks   \n",
      "13:34:26.44                              \n",
      "13:34:26.44                                                                                                                                                                            labels  \n",
      "13:34:26.44                              0                                                                                                                                              59625  \n",
      "13:34:26.44                              1                                                                                                                       1142000 736515 973453 582732  \n",
      "13:34:26.44                              2                                                                                                                  918667 199008 194067 57315 141736  \n",
      "13:34:26.44                              3  834354 595994 740494 889671 987399 779477 1344773 975116 127404 829180 1711180 1007613 476063 1033148 479970 1696036 1669402 562753 229748 413962  \n",
      "13:34:26.44                              4                                                                                1817895 607638 1754419 1216820 1729553 300127 198385 255297 1114789  \n",
      "13:34:26.44 .... prediction_dfs[1][:5] =      session_type  \\\n",
      "13:34:26.44                              0  12899779_carts   \n",
      "13:34:26.44                              1  12899780_carts   \n",
      "13:34:26.44                              2  12899781_carts   \n",
      "13:34:26.44                              3  12899782_carts   \n",
      "13:34:26.44                              4  12899783_carts   \n",
      "13:34:26.44                              \n",
      "13:34:26.44                                                                                                                                                                            labels  \n",
      "13:34:26.44                              0                                                                                                                                              59625  \n",
      "13:34:26.44                              1                                                                                                                       1142000 736515 973453 582732  \n",
      "13:34:26.44                              2                                                                                                                  918667 199008 194067 57315 141736  \n",
      "13:34:26.44                              3  834354 595994 740494 889671 987399 779477 1344773 975116 127404 829180 1711180 1007613 476063 1033148 479970 1696036 1669402 562753 229748 413962  \n",
      "13:34:26.44                              4                                                                                1817895 607638 1754419 1216820 1729553 300127 198385 255297 1114789  \n",
      "13:34:26.44 .... prediction_dfs[2][:5] =       session_type  \\\n",
      "13:34:26.44                              0  12899779_orders   \n",
      "13:34:26.44                              1  12899780_orders   \n",
      "13:34:26.44                              2  12899781_orders   \n",
      "13:34:26.44                              3  12899782_orders   \n",
      "13:34:26.44                              4  12899783_orders   \n",
      "13:34:26.44                              \n",
      "13:34:26.44                                                                                                                                                                            labels  \n",
      "13:34:26.44                              0                                                                                                                                              59625  \n",
      "13:34:26.44                              1                                                                                                                       1142000 736515 973453 582732  \n",
      "13:34:26.44                              2                                                                                                                  918667 199008 194067 57315 141736  \n",
      "13:34:26.44                              3  834354 595994 740494 889671 987399 779477 1344773 975116 127404 829180 1711180 1007613 476063 1033148 479970 1696036 1669402 562753 229748 413962  \n",
      "13:34:26.44                              4                                                                                1817895 607638 1754419 1216820 1729553 300127 198385 255297 1114789  \n"
     ]
    },
    {
     "data": {
      "text/plain": [
       "(      session_type  \\\n",
       " 0  12899779_clicks   \n",
       " 1  12899780_clicks   \n",
       " 2  12899781_clicks   \n",
       " 3  12899782_clicks   \n",
       " 4  12899783_clicks   \n",
       " \n",
       "                                                                                                                                               labels  \n",
       " 0                                                                                                                                              59625  \n",
       " 1                                                                                                                       1142000 736515 973453 582732  \n",
       " 2                                                                                                                  918667 199008 194067 57315 141736  \n",
       " 3  834354 595994 740494 889671 987399 779477 1344773 975116 127404 829180 1711180 1007613 476063 1033148 479970 1696036 1669402 562753 229748 413962  \n",
       " 4                                                                                1817895 607638 1754419 1216820 1729553 300127 198385 255297 1114789  ,\n",
       "      session_type  \\\n",
       " 0  12899779_carts   \n",
       " 1  12899780_carts   \n",
       " 2  12899781_carts   \n",
       " 3  12899782_carts   \n",
       " 4  12899783_carts   \n",
       " \n",
       "                                                                                                                                               labels  \n",
       " 0                                                                                                                                              59625  \n",
       " 1                                                                                                                       1142000 736515 973453 582732  \n",
       " 2                                                                                                                  918667 199008 194067 57315 141736  \n",
       " 3  834354 595994 740494 889671 987399 779477 1344773 975116 127404 829180 1711180 1007613 476063 1033148 479970 1696036 1669402 562753 229748 413962  \n",
       " 4                                                                                1817895 607638 1754419 1216820 1729553 300127 198385 255297 1114789  ,\n",
       "       session_type  \\\n",
       " 0  12899779_orders   \n",
       " 1  12899780_orders   \n",
       " 2  12899781_orders   \n",
       " 3  12899782_orders   \n",
       " 4  12899783_orders   \n",
       " \n",
       "                                                                                                                                               labels  \n",
       " 0                                                                                                                                              59625  \n",
       " 1                                                                                                                       1142000 736515 973453 582732  \n",
       " 2                                                                                                                  918667 199008 194067 57315 141736  \n",
       " 3  834354 595994 740494 889671 987399 779477 1344773 975116 127404 829180 1711180 1007613 476063 1033148 479970 1696036 1669402 562753 229748 413962  \n",
       " 4                                                                                1817895 607638 1754419 1216820 1729553 300127 198385 255297 1114789  )"
      ]
     },
     "execution_count": null,
     "metadata": {},
     "output_type": "execute_result"
    }
   ],
   "source": [
    "pp(prediction_dfs[0][:5], prediction_dfs[1][:5], prediction_dfs[2][:5])"
   ]
  },
  {
   "cell_type": "markdown",
   "metadata": {},
   "source": [
    "### rd: recsys - otto - covisitation_simplified - get the csv file ready, stack on each other. - submission = pd.concat(prediction_dfs).reset_index(drop=True) - submission.to_csv('submission.csv', index=False) - submission.head()"
   ]
  },
  {
   "cell_type": "markdown",
   "metadata": {},
   "source": [
    "the order of the rows does not matter, according to the dataset official [site](https://github.com/otto-de/recsys-dataset#submission-format)"
   ]
  },
  {
   "cell_type": "code",
   "execution_count": null,
   "metadata": {},
   "outputs": [
    {
     "data": {
      "text/html": [
       "<div>\n",
       "<style scoped>\n",
       "    .dataframe tbody tr th:only-of-type {\n",
       "        vertical-align: middle;\n",
       "    }\n",
       "\n",
       "    .dataframe tbody tr th {\n",
       "        vertical-align: top;\n",
       "    }\n",
       "\n",
       "    .dataframe thead th {\n",
       "        text-align: right;\n",
       "    }\n",
       "</style>\n",
       "<table border=\"1\" class=\"dataframe\">\n",
       "  <thead>\n",
       "    <tr style=\"text-align: right;\">\n",
       "      <th></th>\n",
       "      <th>session_type</th>\n",
       "      <th>labels</th>\n",
       "    </tr>\n",
       "  </thead>\n",
       "  <tbody>\n",
       "    <tr>\n",
       "      <th>0</th>\n",
       "      <td>12899779_clicks</td>\n",
       "      <td>59625</td>\n",
       "    </tr>\n",
       "    <tr>\n",
       "      <th>1</th>\n",
       "      <td>12899780_clicks</td>\n",
       "      <td>1142000 736515 973453 582732</td>\n",
       "    </tr>\n",
       "    <tr>\n",
       "      <th>2</th>\n",
       "      <td>12899781_clicks</td>\n",
       "      <td>918667 199008 194067 57315 141736</td>\n",
       "    </tr>\n",
       "    <tr>\n",
       "      <th>3</th>\n",
       "      <td>12899782_clicks</td>\n",
       "      <td>834354 595994 740494 889671 987399 779477 1344773 975116 127404 829180 1711180 1007613 476063 1033148 479970 1696036 1669402 562753 229748 413962</td>\n",
       "    </tr>\n",
       "    <tr>\n",
       "      <th>4</th>\n",
       "      <td>12899783_clicks</td>\n",
       "      <td>1817895 607638 1754419 1216820 1729553 300127 198385 255297 1114789</td>\n",
       "    </tr>\n",
       "  </tbody>\n",
       "</table>\n",
       "</div>"
      ],
      "text/plain": [
       "      session_type  \\\n",
       "0  12899779_clicks   \n",
       "1  12899780_clicks   \n",
       "2  12899781_clicks   \n",
       "3  12899782_clicks   \n",
       "4  12899783_clicks   \n",
       "\n",
       "                                                                                                                                              labels  \n",
       "0                                                                                                                                              59625  \n",
       "1                                                                                                                       1142000 736515 973453 582732  \n",
       "2                                                                                                                  918667 199008 194067 57315 141736  \n",
       "3  834354 595994 740494 889671 987399 779477 1344773 975116 127404 829180 1711180 1007613 476063 1033148 479970 1696036 1669402 562753 229748 413962  \n",
       "4                                                                                1817895 607638 1754419 1216820 1729553 300127 198385 255297 1114789  "
      ]
     },
     "execution_count": null,
     "metadata": {},
     "output_type": "execute_result"
    },
    {
     "name": "stdout",
     "output_type": "stream",
     "text": [
      "Test sessions that we did not manage to extend based on the co-visitation matrix: 1615211\n"
     ]
    }
   ],
   "source": [
    "submission = pd.concat(prediction_dfs).reset_index(drop=True)\n",
    "submission.to_csv('submission.csv', index=False)\n",
    "submission.head()\n",
    "print(f'Test sessions that we did not manage to extend based on the co-visitation matrix: {no_data_all_aids}')"
   ]
  },
  {
   "cell_type": "code",
   "execution_count": null,
   "metadata": {},
   "outputs": [
    {
     "data": {
      "text/html": [
       "<div>\n",
       "<style scoped>\n",
       "    .dataframe tbody tr th:only-of-type {\n",
       "        vertical-align: middle;\n",
       "    }\n",
       "\n",
       "    .dataframe tbody tr th {\n",
       "        vertical-align: top;\n",
       "    }\n",
       "\n",
       "    .dataframe thead th {\n",
       "        text-align: right;\n",
       "    }\n",
       "</style>\n",
       "<table border=\"1\" class=\"dataframe\">\n",
       "  <thead>\n",
       "    <tr style=\"text-align: right;\">\n",
       "      <th></th>\n",
       "      <th>session_type</th>\n",
       "      <th>labels</th>\n",
       "    </tr>\n",
       "  </thead>\n",
       "  <tbody>\n",
       "    <tr>\n",
       "      <th>0</th>\n",
       "      <td>12899779_clicks</td>\n",
       "      <td>129004 126836 118524</td>\n",
       "    </tr>\n",
       "    <tr>\n",
       "      <th>1</th>\n",
       "      <td>12899779_carts</td>\n",
       "      <td>129004 126836 118524</td>\n",
       "    </tr>\n",
       "    <tr>\n",
       "      <th>2</th>\n",
       "      <td>12899779_orders</td>\n",
       "      <td>129004 126836 118524</td>\n",
       "    </tr>\n",
       "    <tr>\n",
       "      <th>3</th>\n",
       "      <td>12899780_clicks</td>\n",
       "      <td>129004 126836 118524</td>\n",
       "    </tr>\n",
       "    <tr>\n",
       "      <th>4</th>\n",
       "      <td>12899780_carts</td>\n",
       "      <td>129004 126836 118524</td>\n",
       "    </tr>\n",
       "  </tbody>\n",
       "</table>\n",
       "</div>"
      ],
      "text/plain": [
       "      session_type                labels\n",
       "0  12899779_clicks  129004 126836 118524\n",
       "1   12899779_carts  129004 126836 118524\n",
       "2  12899779_orders  129004 126836 118524\n",
       "3  12899780_clicks  129004 126836 118524\n",
       "4   12899780_carts  129004 126836 118524"
      ]
     },
     "execution_count": null,
     "metadata": {},
     "output_type": "execute_result"
    }
   ],
   "source": [
    "sample_sub.head()"
   ]
  },
  {
   "cell_type": "markdown",
   "metadata": {},
   "source": [
    "The following plot (combined with the information printed above) is quite significant -- it show us how much data we are still missing, how many predictions are not at their maximum allowable length.\n",
    "\n",
    "And there is never a point in not outputting all 20 AIDs for any given prediction!"
   ]
  },
  {
   "cell_type": "code",
   "execution_count": null,
   "metadata": {},
   "outputs": [
    {
     "data": {
      "image/png": "[encoded data removed]",
      "text/plain": [
       "<Figure size 432x288 with 1 Axes>"
      ]
     },
     "metadata": {
      "needs_background": "light"
     },
     "output_type": "display_data"
    }
   ],
   "source": [
    "from matplotlib import pyplot as plt\n",
    "\n",
    "plt.hist([len(l) for l in labels]);\n",
    "plt.suptitle('Distribution of predicted sequence lengths');"
   ]
  },
  {
   "cell_type": "code",
   "execution_count": null,
   "metadata": {},
   "outputs": [],
   "source": [
    "# fraction_of_sessions_to_use = 0.000001 # takes about 3 mins to run\n",
    "\n",
    "# import pandas as pd\n",
    "# import numpy as np\n",
    "\n",
    "# train = pd.read_parquet('../input/otto-full-optimized-memory-footprint//train.parquet')\n",
    "# test = pd.read_parquet('../input/otto-full-optimized-memory-footprint/test.parquet')\n",
    "\n",
    "# sample_sub = pd.read_csv('../input/otto-recommender-system//sample_submission.csv')\n",
    "\n",
    "# if fraction_of_sessions_to_use != 1:\n",
    "#     lucky_sessions_train = train.drop_duplicates(['session']).sample(frac=fraction_of_sessions_to_use, random_state=42)['session']\n",
    "#     subset_of_train = train[train.session.isin(lucky_sessions_train)]\n",
    "    \n",
    "#     lucky_sessions_test = test.drop_duplicates(['session']).sample(frac=fraction_of_sessions_to_use, random_state=42)['session']\n",
    "#     subset_of_test = test[test.session.isin(lucky_sessions_test)]\n",
    "# else:\n",
    "#     subset_of_train = train\n",
    "#     subset_of_test = test\n",
    "\n",
    "# subset_of_train.index = pd.MultiIndex.from_frame(subset_of_train[['session']])\n",
    "# subset_of_test.index = pd.MultiIndex.from_frame(subset_of_test[['session']])\n",
    "\n",
    "# chunk_size = 30_000\n",
    "# min_ts = train.ts.min()\n",
    "# max_ts = test.ts.max()\n",
    "\n",
    "# from collections import defaultdict, Counter\n",
    "# next_AIDs = defaultdict(Counter)\n",
    "\n",
    "# subsets = pd.concat([subset_of_train, subset_of_test])\n",
    "# sessions = subsets.session.unique()\n",
    "# for i in range(0, sessions.shape[0], chunk_size):\n",
    "#     current_chunk = subsets.loc[sessions[i]:sessions[min(sessions.shape[0]-1, i+chunk_size-1)]].reset_index(drop=True)\n",
    "#     current_chunk = current_chunk.groupby('session', as_index=False).nth(list(range(-30,0))).reset_index(drop=True)\n",
    "#     consecutive_AIDs = current_chunk.merge(current_chunk, on='session')\n",
    "#     consecutive_AIDs = consecutive_AIDs[consecutive_AIDs.aid_x != consecutive_AIDs.aid_y]\n",
    "#     consecutive_AIDs['days_elapsed'] = (consecutive_AIDs.ts_y - consecutive_AIDs.ts_x) / (24 * 60 * 60)\n",
    "#     consecutive_AIDs = consecutive_AIDs[(consecutive_AIDs.days_elapsed >= 0) & (consecutive_AIDs.days_elapsed <= 1)]\n",
    "    \n",
    "#     for aid_x, aid_y in zip(consecutive_AIDs['aid_x'], consecutive_AIDs['aid_y']):\n",
    "#         next_AIDs[aid_x][aid_y] += 1\n",
    "    \n",
    "# del train, subset_of_train, subsets\n",
    "\n",
    "# session_types = ['clicks', 'carts', 'orders']\n",
    "# test_session_AIDs = test.reset_index(drop=True).groupby('session')['aid'].apply(list)\n",
    "# test_session_types = test.reset_index(drop=True).groupby('session')['type'].apply(list)\n",
    "\n",
    "# labels = []\n",
    "\n",
    "# no_data = 0\n",
    "# no_data_all_aids = 0\n",
    "# type_weight_multipliers = {0: 1, 1: 6, 2: 3}\n",
    "# for AIDs, types in zip(test_session_AIDs, test_session_types):\n",
    "#     if len(AIDs) >= 20:\n",
    "#         weights=np.logspace(0.1,1,len(AIDs),base=2, endpoint=True)-1\n",
    "#         aids_temp=defaultdict(lambda: 0)\n",
    "#         for aid,w,t in zip(AIDs,weights,types): \n",
    "#             aids_temp[aid]+= w * type_weight_multipliers[t]\n",
    "            \n",
    "#         sorted_aids=[k for k, v in sorted(aids_temp.items(), key=lambda item: -item[1])]\n",
    "#         labels.append(sorted_aids[:20])\n",
    "#     else:\n",
    "#         AIDs = list(dict.fromkeys(AIDs[::-1]))\n",
    "#         AIDs_len_start = len(AIDs)\n",
    "        \n",
    "#         candidates = []\n",
    "#         for AID in AIDs:\n",
    "#             if AID in next_AIDs: candidates += [aid for aid, count in next_AIDs[AID].most_common(20)]\n",
    "#         AIDs += [AID for AID, cnt in Counter(candidates).most_common(40) if AID not in AIDs]\n",
    "        \n",
    "#         labels.append(AIDs[:20])\n",
    "#         if candidates == []: no_data += 1\n",
    "#         if AIDs_len_start == len(AIDs): no_data_all_aids += 1\n",
    "\n",
    "# # >>> outputting results to CSV\n",
    "\n",
    "# labels_as_strings = [' '.join([str(l) for l in lls]) for lls in labels]\n",
    "\n",
    "# predictions = pd.DataFrame(data={'session_type': test_session_AIDs.index, 'labels': labels_as_strings})"
   ]
  },
  {
   "cell_type": "code",
   "execution_count": null,
   "metadata": {},
   "outputs": [],
   "source": [
    "# pp(len(test_session_AIDs.index), len(labels_as_strings))"
   ]
  },
  {
   "cell_type": "code",
   "execution_count": null,
   "metadata": {},
   "outputs": [],
   "source": [
    "# predictions\n",
    "# prediction_dfs = []\n",
    "\n",
    "# for st in session_types:\n",
    "#     modified_predictions = predictions.copy()\n",
    "#     modified_predictions.session_type = modified_predictions.session_type.astype('str') + f'_{st}'\n",
    "#     prediction_dfs.append(modified_predictions)\n",
    "\n",
    "# submission = pd.concat(prediction_dfs).reset_index(drop=True)\n",
    "# submission.to_csv('submission.csv', index=False)\n",
    "\n",
    "# print(f'Test sessions that we did not manage to extend based on the co-visitation matrix: {no_data_all_aids}')"
   ]
  },
  {
   "cell_type": "markdown",
   "metadata": {},
   "source": [
    "## rd: recsys - otto - covisitation simplified - todo: read a post about hyperparam for covisitations https://www.kaggle.com/competitions/otto-recommender-system/discussion/365153"
   ]
  },
  {
   "cell_type": "code",
   "execution_count": null,
   "metadata": {},
   "outputs": [],
   "source": []
  }
 ],
 "metadata": {
  "kernelspec": {
   "display_name": "Python 3 (ipykernel)",
   "language": "python",
   "name": "python3"
  }
 },
 "nbformat": 4,
 "nbformat_minor": 4
}
