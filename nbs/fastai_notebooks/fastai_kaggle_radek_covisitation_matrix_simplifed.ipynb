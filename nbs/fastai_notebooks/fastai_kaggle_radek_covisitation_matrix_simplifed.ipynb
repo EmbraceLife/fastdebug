{
 "cells": [
  {
   "cell_type": "markdown",
   "metadata": {},
   "source": [
    "**This notebook is the annotated version of the original [notebook](https://www.kaggle.com/code/radek1/co-visitation-matrix-simplified-imprvd-logic) by @radek1**"
   ]
  },
  {
   "cell_type": "markdown",
   "metadata": {},
   "source": [
    "This notebook builds on [the work](https://www.kaggle.com/code/vslaykovsky/co-visitation-matrix) by [@vslaykovsky](https://www.kaggle.com/vslaykovsky). As suggested by [@cdeotte](https://www.kaggle.com/cdeotte) [here](https://www.kaggle.com/code/cdeotte/test-data-leak-lb-boost) I am including test information in clculating the co-visitation matrix.\n",
    "\n",
    "Here I provide a simplified implementation that is easier to follow and that can also be more easily extended!\n",
    "\n",
    "Please find some additional discussion on this notebook in this [thread](https://www.kaggle.com/competitions/otto-recommender-system/discussion/364210).\n",
    "\n",
    "**Would appreciate [your upvote on the thread](https://www.kaggle.com/competitions/otto-recommender-system/discussion/364210) to increase visibility.** 🙏\n",
    "\n",
    "Because the code is simpler, it was straightforward to modify the logic and make a couple of different decisions to achieve a better result.\n",
    "\n",
    "Additionally, I am also using a version of the dataset that I shared [here](https://www.kaggle.com/competitions/otto-recommender-system/discussion/363843). This further simplifies matters as we no longer have to read the data from `jasonl` files!\n",
    "\n",
    "**If you like this notebook, please upvote! Thank you! 😊**\n",
    "\n",
    "## You might also find useful:\n",
    "\n",
    "* [💡 Do not disregard longer sessions -- they contribute disproportionately to the competition metric!](https://www.kaggle.com/competitions/otto-recommender-system/discussion/364375)\n",
    "* [🐘 the elephant in the room -- high cardinality of targets and what to do about this](https://www.kaggle.com/competitions/otto-recommender-system/discussion/364722)\n",
    "* [📅 Dataset for local validation created using organizer's repository (parquet files)](https://www.kaggle.com/competitions/otto-recommender-system/discussion/364534)\n",
    "\n",
    "\n",
    "### Update:\n",
    "\n",
    "* added sorting of `AIDs` in test based on number of clicks from [Multiple clicks vs latest items](https://www.kaggle.com/code/pietromaldini1/multiple-clicks-vs-latest-items) by [pietromaldini1](https://www.kaggle.com/pietromaldini1)\n",
    "* added speed improvements from [Fast Co-Visitation Matrix](https://www.kaggle.com/code/pietromaldini1/multiple-clicks-vs-latest-items) by [dpalbrecht](https://www.kaggle.com/dpalbrecht)\n",
    "* added weigting by type of `AIDs` in test from [Item type vs multiple clicks vs latest items](https://www.kaggle.com/code/ingvarasgalinskas/item-type-vs-multiple-clicks-vs-latest-items) by [ingvarasgalinskas](https://www.kaggle.com/ingvarasgalinskas)"
   ]
  },
  {
   "cell_type": "markdown",
   "metadata": {},
   "source": [
    "## imports"
   ]
  },
  {
   "cell_type": "code",
   "execution_count": null,
   "metadata": {},
   "outputs": [
    {
     "data": {
      "text/html": [
       "<style>.container { width:100% !important; }</style>"
      ],
      "text/plain": [
       "<IPython.core.display.HTML object>"
      ]
     },
     "metadata": {},
     "output_type": "display_data"
    }
   ],
   "source": [
    "# make sure fastkaggle is install and imported\n",
    "import os\n",
    "\n",
    "try: import fastkaggle\n",
    "except ModuleNotFoundError:\n",
    "    os.system(\"pip install -Uq fastkaggle\")\n",
    "\n",
    "from fastkaggle import *\n",
    "\n",
    "# use fastdebug.utils \n",
    "if iskaggle: os.system(\"pip install nbdev snoop\")\n",
    "\n",
    "if iskaggle:\n",
    "    path = \"../input/fastdebugutils0\"\n",
    "    import sys\n",
    "    sys.path\n",
    "    sys.path.insert(1, path)\n",
    "    import utils as fu\n",
    "    from utils import *\n",
    "else: \n",
    "    from fastdebug.utils import *\n",
    "    import fastdebug.utils as fu"
   ]
  },
  {
   "cell_type": "code",
   "execution_count": null,
   "metadata": {},
   "outputs": [],
   "source": [
    "import pandas as pd\n",
    "import numpy as np"
   ]
  },
  {
   "cell_type": "markdown",
   "metadata": {},
   "source": [
    "## rd: recsys - otto - covisitation_simplified - read the dataset files"
   ]
  },
  {
   "cell_type": "markdown",
   "metadata": {},
   "source": [
    "### rd: recsys - otto - covisitation_simplified - read parquet and csv from dataset, pd.read_parquet('copy & paste'), pd.read_csv('copy & paste')"
   ]
  },
  {
   "cell_type": "code",
   "execution_count": null,
   "metadata": {},
   "outputs": [],
   "source": [
    "train = pd.read_parquet('../input/otto-full-optimized-memory-footprint//train.parquet')\n",
    "test = pd.read_parquet('../input/otto-full-optimized-memory-footprint/test.parquet')\n",
    "\n",
    "sample_sub = pd.read_csv('../input/otto-recommender-system//sample_submission.csv')"
   ]
  },
  {
   "cell_type": "code",
   "execution_count": null,
   "metadata": {},
   "outputs": [
    {
     "data": {
      "text/html": [
       "<div>\n",
       "<style scoped>\n",
       "    .dataframe tbody tr th:only-of-type {\n",
       "        vertical-align: middle;\n",
       "    }\n",
       "\n",
       "    .dataframe tbody tr th {\n",
       "        vertical-align: top;\n",
       "    }\n",
       "\n",
       "    .dataframe thead th {\n",
       "        text-align: right;\n",
       "    }\n",
       "</style>\n",
       "<table border=\"1\" class=\"dataframe\">\n",
       "  <thead>\n",
       "    <tr style=\"text-align: right;\">\n",
       "      <th></th>\n",
       "      <th>session</th>\n",
       "      <th>aid</th>\n",
       "      <th>ts</th>\n",
       "      <th>type</th>\n",
       "    </tr>\n",
       "  </thead>\n",
       "  <tbody>\n",
       "    <tr>\n",
       "      <th>0</th>\n",
       "      <td>0</td>\n",
       "      <td>1517085</td>\n",
       "      <td>1659304800</td>\n",
       "      <td>0</td>\n",
       "    </tr>\n",
       "    <tr>\n",
       "      <th>1</th>\n",
       "      <td>0</td>\n",
       "      <td>1563459</td>\n",
       "      <td>1659304904</td>\n",
       "      <td>0</td>\n",
       "    </tr>\n",
       "    <tr>\n",
       "      <th>2</th>\n",
       "      <td>0</td>\n",
       "      <td>1309446</td>\n",
       "      <td>1659367439</td>\n",
       "      <td>0</td>\n",
       "    </tr>\n",
       "    <tr>\n",
       "      <th>3</th>\n",
       "      <td>0</td>\n",
       "      <td>16246</td>\n",
       "      <td>1659367719</td>\n",
       "      <td>0</td>\n",
       "    </tr>\n",
       "    <tr>\n",
       "      <th>4</th>\n",
       "      <td>0</td>\n",
       "      <td>1781822</td>\n",
       "      <td>1659367871</td>\n",
       "      <td>0</td>\n",
       "    </tr>\n",
       "  </tbody>\n",
       "</table>\n",
       "</div>"
      ],
      "text/plain": [
       "   session      aid          ts  type\n",
       "0        0  1517085  1659304800     0\n",
       "1        0  1563459  1659304904     0\n",
       "2        0  1309446  1659367439     0\n",
       "3        0    16246  1659367719     0\n",
       "4        0  1781822  1659367871     0"
      ]
     },
     "execution_count": null,
     "metadata": {},
     "output_type": "execute_result"
    }
   ],
   "source": [
    "train.head()"
   ]
  },
  {
   "cell_type": "code",
   "execution_count": null,
   "metadata": {},
   "outputs": [
    {
     "data": {
      "text/html": [
       "<div>\n",
       "<style scoped>\n",
       "    .dataframe tbody tr th:only-of-type {\n",
       "        vertical-align: middle;\n",
       "    }\n",
       "\n",
       "    .dataframe tbody tr th {\n",
       "        vertical-align: top;\n",
       "    }\n",
       "\n",
       "    .dataframe thead th {\n",
       "        text-align: right;\n",
       "    }\n",
       "</style>\n",
       "<table border=\"1\" class=\"dataframe\">\n",
       "  <thead>\n",
       "    <tr style=\"text-align: right;\">\n",
       "      <th></th>\n",
       "      <th>session</th>\n",
       "      <th>aid</th>\n",
       "      <th>ts</th>\n",
       "      <th>type</th>\n",
       "    </tr>\n",
       "  </thead>\n",
       "  <tbody>\n",
       "    <tr>\n",
       "      <th>0</th>\n",
       "      <td>12899779</td>\n",
       "      <td>59625</td>\n",
       "      <td>1661724000</td>\n",
       "      <td>0</td>\n",
       "    </tr>\n",
       "    <tr>\n",
       "      <th>1</th>\n",
       "      <td>12899780</td>\n",
       "      <td>1142000</td>\n",
       "      <td>1661724000</td>\n",
       "      <td>0</td>\n",
       "    </tr>\n",
       "    <tr>\n",
       "      <th>2</th>\n",
       "      <td>12899780</td>\n",
       "      <td>582732</td>\n",
       "      <td>1661724058</td>\n",
       "      <td>0</td>\n",
       "    </tr>\n",
       "    <tr>\n",
       "      <th>3</th>\n",
       "      <td>12899780</td>\n",
       "      <td>973453</td>\n",
       "      <td>1661724109</td>\n",
       "      <td>0</td>\n",
       "    </tr>\n",
       "    <tr>\n",
       "      <th>4</th>\n",
       "      <td>12899780</td>\n",
       "      <td>736515</td>\n",
       "      <td>1661724136</td>\n",
       "      <td>0</td>\n",
       "    </tr>\n",
       "  </tbody>\n",
       "</table>\n",
       "</div>"
      ],
      "text/plain": [
       "    session      aid          ts  type\n",
       "0  12899779    59625  1661724000     0\n",
       "1  12899780  1142000  1661724000     0\n",
       "2  12899780   582732  1661724058     0\n",
       "3  12899780   973453  1661724109     0\n",
       "4  12899780   736515  1661724136     0"
      ]
     },
     "execution_count": null,
     "metadata": {},
     "output_type": "execute_result"
    }
   ],
   "source": [
    "test.head()"
   ]
  },
  {
   "cell_type": "code",
   "execution_count": null,
   "metadata": {},
   "outputs": [
    {
     "data": {
      "text/html": [
       "<div>\n",
       "<style scoped>\n",
       "    .dataframe tbody tr th:only-of-type {\n",
       "        vertical-align: middle;\n",
       "    }\n",
       "\n",
       "    .dataframe tbody tr th {\n",
       "        vertical-align: top;\n",
       "    }\n",
       "\n",
       "    .dataframe thead th {\n",
       "        text-align: right;\n",
       "    }\n",
       "</style>\n",
       "<table border=\"1\" class=\"dataframe\">\n",
       "  <thead>\n",
       "    <tr style=\"text-align: right;\">\n",
       "      <th></th>\n",
       "      <th>session_type</th>\n",
       "      <th>labels</th>\n",
       "    </tr>\n",
       "  </thead>\n",
       "  <tbody>\n",
       "    <tr>\n",
       "      <th>0</th>\n",
       "      <td>12899779_clicks</td>\n",
       "      <td>129004 126836 118524</td>\n",
       "    </tr>\n",
       "    <tr>\n",
       "      <th>1</th>\n",
       "      <td>12899779_carts</td>\n",
       "      <td>129004 126836 118524</td>\n",
       "    </tr>\n",
       "    <tr>\n",
       "      <th>2</th>\n",
       "      <td>12899779_orders</td>\n",
       "      <td>129004 126836 118524</td>\n",
       "    </tr>\n",
       "    <tr>\n",
       "      <th>3</th>\n",
       "      <td>12899780_clicks</td>\n",
       "      <td>129004 126836 118524</td>\n",
       "    </tr>\n",
       "    <tr>\n",
       "      <th>4</th>\n",
       "      <td>12899780_carts</td>\n",
       "      <td>129004 126836 118524</td>\n",
       "    </tr>\n",
       "  </tbody>\n",
       "</table>\n",
       "</div>"
      ],
      "text/plain": [
       "      session_type                labels\n",
       "0  12899779_clicks  129004 126836 118524\n",
       "1   12899779_carts  129004 126836 118524\n",
       "2  12899779_orders  129004 126836 118524\n",
       "3  12899780_clicks  129004 126836 118524\n",
       "4   12899780_carts  129004 126836 118524"
      ]
     },
     "execution_count": null,
     "metadata": {},
     "output_type": "execute_result"
    }
   ],
   "source": [
    "sample_sub.head()"
   ]
  },
  {
   "cell_type": "markdown",
   "metadata": {},
   "source": [
    "## rd: recsys - otto - covisitation_simplified - taking subset for fast experiment"
   ]
  },
  {
   "cell_type": "markdown",
   "metadata": {},
   "source": [
    "### rd: recsys - otto - covisitation_simplified - subset based on entire sessions, train.drop_duplicates(['session']).sample(frac=fraction_of_sessions_to_use, random_state=42)['session'], train[train.session.isin(lucky_sessions_train)]"
   ]
  },
  {
   "cell_type": "code",
   "execution_count": null,
   "metadata": {},
   "outputs": [],
   "source": [
    "fraction_of_sessions_to_use = 0.000001 # 0.001 is recommended, but 0.000001 can finish in less than 4 minutes"
   ]
  },
  {
   "cell_type": "code",
   "execution_count": null,
   "metadata": {},
   "outputs": [
    {
     "data": {
      "text/plain": [
       "(216716096, 4)"
      ]
     },
     "execution_count": null,
     "metadata": {},
     "output_type": "execute_result"
    }
   ],
   "source": [
    "train.shape # how many rows"
   ]
  },
  {
   "cell_type": "code",
   "execution_count": null,
   "metadata": {},
   "outputs": [
    {
     "data": {
      "text/plain": [
       "(12899779, 4)"
      ]
     },
     "execution_count": null,
     "metadata": {},
     "output_type": "execute_result"
    }
   ],
   "source": [
    "train.drop_duplicates(['session']).shape # how many unique sessions (drop rows with the same session)"
   ]
  },
  {
   "cell_type": "code",
   "execution_count": null,
   "metadata": {},
   "outputs": [
    {
     "data": {
      "text/plain": [
       "(217,)"
      ]
     },
     "execution_count": null,
     "metadata": {},
     "output_type": "execute_result"
    }
   ],
   "source": [
    "subset_of_train_no_duplicate = train.sample(frac=fraction_of_sessions_to_use, random_state=42)['session']\n",
    "subset_of_train_no_duplicate.shape # take 0.000001 from entire train"
   ]
  },
  {
   "cell_type": "code",
   "execution_count": null,
   "metadata": {},
   "outputs": [
    {
     "data": {
      "text/plain": [
       "(13,)"
      ]
     },
     "execution_count": null,
     "metadata": {},
     "output_type": "execute_result"
    }
   ],
   "source": [
    "lucky_sessions_train = train.drop_duplicates(['session']).sample(frac=fraction_of_sessions_to_use, random_state=42)['session']\n",
    "lucky_sessions_train.shape # take 0.000001 from a dataframe in which each row is an unique session"
   ]
  },
  {
   "cell_type": "code",
   "execution_count": null,
   "metadata": {},
   "outputs": [
    {
     "data": {
      "text/plain": [
       "161074658    7345999\n",
       "136385904    5537326\n",
       "165592490    7723696\n",
       "134046856    5390256\n",
       "136142264    5521908\n",
       "Name: session, dtype: int32"
      ]
     },
     "execution_count": null,
     "metadata": {},
     "output_type": "execute_result"
    }
   ],
   "source": [
    "lucky_sessions_train.head()\n",
    "lucky_sessions_train.reset_index(drop=True).head() # make index easier to see"
   ]
  },
  {
   "cell_type": "code",
   "execution_count": null,
   "metadata": {},
   "outputs": [
    {
     "data": {
      "text/plain": [
       "116"
      ]
     },
     "execution_count": null,
     "metadata": {},
     "output_type": "execute_result"
    }
   ],
   "source": [
    "train.session.isin(lucky_sessions_train).sum() # how many rows under the 13 sessions"
   ]
  },
  {
   "cell_type": "code",
   "execution_count": null,
   "metadata": {},
   "outputs": [],
   "source": [
    "if fraction_of_sessions_to_use != 1:\n",
    "    lucky_sessions_train = train.drop_duplicates(['session']).sample(frac=fraction_of_sessions_to_use, random_state=42)['session']\n",
    "    subset_of_train = train[train.session.isin(lucky_sessions_train)]\n",
    "    \n",
    "    lucky_sessions_test = test.drop_duplicates(['session']).sample(frac=fraction_of_sessions_to_use, random_state=42)['session']\n",
    "    subset_of_test = test[test.session.isin(lucky_sessions_test)]\n",
    "else:\n",
    "    subset_of_train = train\n",
    "    subset_of_test = test"
   ]
  },
  {
   "cell_type": "code",
   "execution_count": null,
   "metadata": {},
   "outputs": [
    {
     "data": {
      "text/plain": [
       "(116, 4)"
      ]
     },
     "execution_count": null,
     "metadata": {},
     "output_type": "execute_result"
    }
   ],
   "source": [
    "subset_of_train.shape"
   ]
  },
  {
   "cell_type": "code",
   "execution_count": null,
   "metadata": {},
   "outputs": [
    {
     "data": {
      "text/html": [
       "<div>\n",
       "<style scoped>\n",
       "    .dataframe tbody tr th:only-of-type {\n",
       "        vertical-align: middle;\n",
       "    }\n",
       "\n",
       "    .dataframe tbody tr th {\n",
       "        vertical-align: top;\n",
       "    }\n",
       "\n",
       "    .dataframe thead th {\n",
       "        text-align: right;\n",
       "    }\n",
       "</style>\n",
       "<table border=\"1\" class=\"dataframe\">\n",
       "  <thead>\n",
       "    <tr style=\"text-align: right;\">\n",
       "      <th></th>\n",
       "      <th>session</th>\n",
       "      <th>aid</th>\n",
       "      <th>ts</th>\n",
       "      <th>type</th>\n",
       "    </tr>\n",
       "  </thead>\n",
       "  <tbody>\n",
       "    <tr>\n",
       "      <th>47752837</th>\n",
       "      <td>1252181</td>\n",
       "      <td>1150072</td>\n",
       "      <td>1659396245</td>\n",
       "      <td>0</td>\n",
       "    </tr>\n",
       "    <tr>\n",
       "      <th>47752838</th>\n",
       "      <td>1252181</td>\n",
       "      <td>1053941</td>\n",
       "      <td>1659839377</td>\n",
       "      <td>0</td>\n",
       "    </tr>\n",
       "    <tr>\n",
       "      <th>47752839</th>\n",
       "      <td>1252181</td>\n",
       "      <td>1412178</td>\n",
       "      <td>1659839582</td>\n",
       "      <td>0</td>\n",
       "    </tr>\n",
       "    <tr>\n",
       "      <th>47752840</th>\n",
       "      <td>1252181</td>\n",
       "      <td>1412178</td>\n",
       "      <td>1659839601</td>\n",
       "      <td>1</td>\n",
       "    </tr>\n",
       "    <tr>\n",
       "      <th>47752841</th>\n",
       "      <td>1252181</td>\n",
       "      <td>567959</td>\n",
       "      <td>1659839627</td>\n",
       "      <td>0</td>\n",
       "    </tr>\n",
       "    <tr>\n",
       "      <th>...</th>\n",
       "      <td>...</td>\n",
       "      <td>...</td>\n",
       "      <td>...</td>\n",
       "      <td>...</td>\n",
       "    </tr>\n",
       "    <tr>\n",
       "      <th>209483943</th>\n",
       "      <td>12014664</td>\n",
       "      <td>635761</td>\n",
       "      <td>1661429463</td>\n",
       "      <td>0</td>\n",
       "    </tr>\n",
       "    <tr>\n",
       "      <th>209483944</th>\n",
       "      <td>12014664</td>\n",
       "      <td>635761</td>\n",
       "      <td>1661429657</td>\n",
       "      <td>1</td>\n",
       "    </tr>\n",
       "    <tr>\n",
       "      <th>209483945</th>\n",
       "      <td>12014664</td>\n",
       "      <td>635761</td>\n",
       "      <td>1661429811</td>\n",
       "      <td>1</td>\n",
       "    </tr>\n",
       "    <tr>\n",
       "      <th>209483946</th>\n",
       "      <td>12014664</td>\n",
       "      <td>1765902</td>\n",
       "      <td>1661429871</td>\n",
       "      <td>0</td>\n",
       "    </tr>\n",
       "    <tr>\n",
       "      <th>209483947</th>\n",
       "      <td>12014664</td>\n",
       "      <td>635761</td>\n",
       "      <td>1661429890</td>\n",
       "      <td>0</td>\n",
       "    </tr>\n",
       "  </tbody>\n",
       "</table>\n",
       "<p>116 rows × 4 columns</p>\n",
       "</div>"
      ],
      "text/plain": [
       "            session      aid          ts  type\n",
       "47752837    1252181  1150072  1659396245     0\n",
       "47752838    1252181  1053941  1659839377     0\n",
       "47752839    1252181  1412178  1659839582     0\n",
       "47752840    1252181  1412178  1659839601     1\n",
       "47752841    1252181   567959  1659839627     0\n",
       "...             ...      ...         ...   ...\n",
       "209483943  12014664   635761  1661429463     0\n",
       "209483944  12014664   635761  1661429657     1\n",
       "209483945  12014664   635761  1661429811     1\n",
       "209483946  12014664  1765902  1661429871     0\n",
       "209483947  12014664   635761  1661429890     0\n",
       "\n",
       "[116 rows x 4 columns]"
      ]
     },
     "execution_count": null,
     "metadata": {},
     "output_type": "execute_result"
    }
   ],
   "source": [
    "subset_of_train"
   ]
  },
  {
   "cell_type": "markdown",
   "metadata": {},
   "source": [
    "## rd: recsys - otto - covisitation_simplified - use session column as index"
   ]
  },
  {
   "cell_type": "markdown",
   "metadata": {},
   "source": [
    "### rd: recsys - otto - covisitation_simplified - subset_of_train.index = pd.MultiIndex.from_frame(subset_of_train[['session']]), [['session']] as Series not DataFrame"
   ]
  },
  {
   "cell_type": "code",
   "execution_count": null,
   "metadata": {},
   "outputs": [
    {
     "data": {
      "text/plain": [
       "(            session\n",
       " 47752837    1252181\n",
       " 47752838    1252181\n",
       " 47752839    1252181\n",
       " 47752840    1252181\n",
       " 47752841    1252181\n",
       " ...             ...\n",
       " 209483943  12014664\n",
       " 209483944  12014664\n",
       " 209483945  12014664\n",
       " 209483946  12014664\n",
       " 209483947  12014664\n",
       " \n",
       " [116 rows x 1 columns],\n",
       " 47752837      1252181\n",
       " 47752838      1252181\n",
       " 47752839      1252181\n",
       " 47752840      1252181\n",
       " 47752841      1252181\n",
       "                ...   \n",
       " 209483943    12014664\n",
       " 209483944    12014664\n",
       " 209483945    12014664\n",
       " 209483946    12014664\n",
       " 209483947    12014664\n",
       " Name: session, Length: 116, dtype: int32)"
      ]
     },
     "execution_count": null,
     "metadata": {},
     "output_type": "execute_result"
    }
   ],
   "source": [
    "# see the difference between \n",
    "subset_of_train[['session']], subset_of_train['session']"
   ]
  },
  {
   "cell_type": "code",
   "execution_count": null,
   "metadata": {},
   "outputs": [
    {
     "data": {
      "text/html": [
       "<div>\n",
       "<style scoped>\n",
       "    .dataframe tbody tr th:only-of-type {\n",
       "        vertical-align: middle;\n",
       "    }\n",
       "\n",
       "    .dataframe tbody tr th {\n",
       "        vertical-align: top;\n",
       "    }\n",
       "\n",
       "    .dataframe thead th {\n",
       "        text-align: right;\n",
       "    }\n",
       "</style>\n",
       "<table border=\"1\" class=\"dataframe\">\n",
       "  <thead>\n",
       "    <tr style=\"text-align: right;\">\n",
       "      <th></th>\n",
       "      <th>session</th>\n",
       "      <th>aid</th>\n",
       "      <th>ts</th>\n",
       "      <th>type</th>\n",
       "    </tr>\n",
       "    <tr>\n",
       "      <th>session</th>\n",
       "      <th></th>\n",
       "      <th></th>\n",
       "      <th></th>\n",
       "      <th></th>\n",
       "    </tr>\n",
       "  </thead>\n",
       "  <tbody>\n",
       "    <tr>\n",
       "      <th>1252181</th>\n",
       "      <td>1252181</td>\n",
       "      <td>1150072</td>\n",
       "      <td>1659396245</td>\n",
       "      <td>0</td>\n",
       "    </tr>\n",
       "    <tr>\n",
       "      <th>1252181</th>\n",
       "      <td>1252181</td>\n",
       "      <td>1053941</td>\n",
       "      <td>1659839377</td>\n",
       "      <td>0</td>\n",
       "    </tr>\n",
       "    <tr>\n",
       "      <th>1252181</th>\n",
       "      <td>1252181</td>\n",
       "      <td>1412178</td>\n",
       "      <td>1659839582</td>\n",
       "      <td>0</td>\n",
       "    </tr>\n",
       "    <tr>\n",
       "      <th>1252181</th>\n",
       "      <td>1252181</td>\n",
       "      <td>1412178</td>\n",
       "      <td>1659839601</td>\n",
       "      <td>1</td>\n",
       "    </tr>\n",
       "    <tr>\n",
       "      <th>1252181</th>\n",
       "      <td>1252181</td>\n",
       "      <td>567959</td>\n",
       "      <td>1659839627</td>\n",
       "      <td>0</td>\n",
       "    </tr>\n",
       "    <tr>\n",
       "      <th>...</th>\n",
       "      <td>...</td>\n",
       "      <td>...</td>\n",
       "      <td>...</td>\n",
       "      <td>...</td>\n",
       "    </tr>\n",
       "    <tr>\n",
       "      <th>12014664</th>\n",
       "      <td>12014664</td>\n",
       "      <td>635761</td>\n",
       "      <td>1661429463</td>\n",
       "      <td>0</td>\n",
       "    </tr>\n",
       "    <tr>\n",
       "      <th>12014664</th>\n",
       "      <td>12014664</td>\n",
       "      <td>635761</td>\n",
       "      <td>1661429657</td>\n",
       "      <td>1</td>\n",
       "    </tr>\n",
       "    <tr>\n",
       "      <th>12014664</th>\n",
       "      <td>12014664</td>\n",
       "      <td>635761</td>\n",
       "      <td>1661429811</td>\n",
       "      <td>1</td>\n",
       "    </tr>\n",
       "    <tr>\n",
       "      <th>12014664</th>\n",
       "      <td>12014664</td>\n",
       "      <td>1765902</td>\n",
       "      <td>1661429871</td>\n",
       "      <td>0</td>\n",
       "    </tr>\n",
       "    <tr>\n",
       "      <th>12014664</th>\n",
       "      <td>12014664</td>\n",
       "      <td>635761</td>\n",
       "      <td>1661429890</td>\n",
       "      <td>0</td>\n",
       "    </tr>\n",
       "  </tbody>\n",
       "</table>\n",
       "<p>116 rows × 4 columns</p>\n",
       "</div>"
      ],
      "text/plain": [
       "           session      aid          ts  type\n",
       "session                                      \n",
       "1252181    1252181  1150072  1659396245     0\n",
       "1252181    1252181  1053941  1659839377     0\n",
       "1252181    1252181  1412178  1659839582     0\n",
       "1252181    1252181  1412178  1659839601     1\n",
       "1252181    1252181   567959  1659839627     0\n",
       "...            ...      ...         ...   ...\n",
       "12014664  12014664   635761  1661429463     0\n",
       "12014664  12014664   635761  1661429657     1\n",
       "12014664  12014664   635761  1661429811     1\n",
       "12014664  12014664  1765902  1661429871     0\n",
       "12014664  12014664   635761  1661429890     0\n",
       "\n",
       "[116 rows x 4 columns]"
      ]
     },
     "execution_count": null,
     "metadata": {},
     "output_type": "execute_result"
    }
   ],
   "source": [
    "subset_of_train.index = pd.MultiIndex.from_frame(subset_of_train[['session']])\n",
    "subset_of_train"
   ]
  },
  {
   "cell_type": "code",
   "execution_count": null,
   "metadata": {},
   "outputs": [
    {
     "data": {
      "text/html": [
       "<div>\n",
       "<style scoped>\n",
       "    .dataframe tbody tr th:only-of-type {\n",
       "        vertical-align: middle;\n",
       "    }\n",
       "\n",
       "    .dataframe tbody tr th {\n",
       "        vertical-align: top;\n",
       "    }\n",
       "\n",
       "    .dataframe thead th {\n",
       "        text-align: right;\n",
       "    }\n",
       "</style>\n",
       "<table border=\"1\" class=\"dataframe\">\n",
       "  <thead>\n",
       "    <tr style=\"text-align: right;\">\n",
       "      <th></th>\n",
       "      <th>session</th>\n",
       "      <th>aid</th>\n",
       "      <th>ts</th>\n",
       "      <th>type</th>\n",
       "    </tr>\n",
       "    <tr>\n",
       "      <th>session</th>\n",
       "      <th></th>\n",
       "      <th></th>\n",
       "      <th></th>\n",
       "      <th></th>\n",
       "    </tr>\n",
       "  </thead>\n",
       "  <tbody>\n",
       "    <tr>\n",
       "      <th>13993132</th>\n",
       "      <td>13993132</td>\n",
       "      <td>1096609</td>\n",
       "      <td>1662115398</td>\n",
       "      <td>0</td>\n",
       "    </tr>\n",
       "    <tr>\n",
       "      <th>14088154</th>\n",
       "      <td>14088154</td>\n",
       "      <td>14170</td>\n",
       "      <td>1662144895</td>\n",
       "      <td>0</td>\n",
       "    </tr>\n",
       "  </tbody>\n",
       "</table>\n",
       "</div>"
      ],
      "text/plain": [
       "           session      aid          ts  type\n",
       "session                                      \n",
       "13993132  13993132  1096609  1662115398     0\n",
       "14088154  14088154    14170  1662144895     0"
      ]
     },
     "execution_count": null,
     "metadata": {},
     "output_type": "execute_result"
    }
   ],
   "source": [
    "subset_of_test.index = pd.MultiIndex.from_frame(subset_of_test[['session']])\n",
    "subset_of_test"
   ]
  },
  {
   "cell_type": "markdown",
   "metadata": {},
   "source": [
    "### rd: recsys - otto - covisitation_simplified - get starting and end session timestamp, train.ts.min() test.ts.max()"
   ]
  },
  {
   "cell_type": "code",
   "execution_count": null,
   "metadata": {},
   "outputs": [
    {
     "data": {
      "text/plain": [
       "(1659304800, 1662328791)"
      ]
     },
     "execution_count": null,
     "metadata": {},
     "output_type": "execute_result"
    }
   ],
   "source": [
    "min_ts = train.ts.min()\n",
    "max_ts = test.ts.max()\n",
    "\n",
    "min_ts, max_ts"
   ]
  },
  {
   "cell_type": "markdown",
   "metadata": {},
   "source": [
    "## rd: recsys - otto - covisitation_simplified - create defaultdict+Counter to count occurences"
   ]
  },
  {
   "cell_type": "markdown",
   "metadata": {},
   "source": [
    "### rd: recsys - otto - covisitation_simplified - create defaultdict on Counter for next_AIDs, next_AIDs = defaultdict(Counter)"
   ]
  },
  {
   "cell_type": "code",
   "execution_count": null,
   "metadata": {},
   "outputs": [
    {
     "data": {
      "text/plain": [
       "defaultdict(collections.Counter, {})"
      ]
     },
     "execution_count": null,
     "metadata": {},
     "output_type": "execute_result"
    }
   ],
   "source": [
    "from collections import defaultdict, Counter\n",
    "next_AIDs = defaultdict(Counter)\n",
    "next_AIDs"
   ]
  },
  {
   "cell_type": "markdown",
   "metadata": {},
   "source": [
    "## rd: recsys - otto - covisitation_simplified - use test for training, get subsets, sessions, sessions_train, sessions_test"
   ]
  },
  {
   "cell_type": "code",
   "execution_count": null,
   "metadata": {},
   "outputs": [
    {
     "data": {
      "text/plain": [
       "(15, 13, 2)"
      ]
     },
     "execution_count": null,
     "metadata": {},
     "output_type": "execute_result"
    }
   ],
   "source": [
    "subsets = pd.concat([subset_of_train, subset_of_test]) # use test set for training too\n",
    "sessions = subsets.session.unique() # unique sessions in subsets\n",
    "sessions_train = subset_of_train.session.unique() # unique sessions in train\n",
    "sessions_test = subset_of_test.session.unique() # unique sessions in test\n",
    "len(sessions), len(sessions_train), len(sessions_test)"
   ]
  },
  {
   "cell_type": "code",
   "execution_count": null,
   "metadata": {},
   "outputs": [
    {
     "data": {
      "text/html": [
       "<div>\n",
       "<style scoped>\n",
       "    .dataframe tbody tr th:only-of-type {\n",
       "        vertical-align: middle;\n",
       "    }\n",
       "\n",
       "    .dataframe tbody tr th {\n",
       "        vertical-align: top;\n",
       "    }\n",
       "\n",
       "    .dataframe thead th {\n",
       "        text-align: right;\n",
       "    }\n",
       "</style>\n",
       "<table border=\"1\" class=\"dataframe\">\n",
       "  <thead>\n",
       "    <tr style=\"text-align: right;\">\n",
       "      <th></th>\n",
       "      <th>session</th>\n",
       "      <th>aid</th>\n",
       "      <th>ts</th>\n",
       "      <th>type</th>\n",
       "    </tr>\n",
       "    <tr>\n",
       "      <th>session</th>\n",
       "      <th></th>\n",
       "      <th></th>\n",
       "      <th></th>\n",
       "      <th></th>\n",
       "    </tr>\n",
       "  </thead>\n",
       "  <tbody>\n",
       "    <tr>\n",
       "      <th>1252181</th>\n",
       "      <td>1252181</td>\n",
       "      <td>1150072</td>\n",
       "      <td>1659396245</td>\n",
       "      <td>0</td>\n",
       "    </tr>\n",
       "    <tr>\n",
       "      <th>1252181</th>\n",
       "      <td>1252181</td>\n",
       "      <td>1053941</td>\n",
       "      <td>1659839377</td>\n",
       "      <td>0</td>\n",
       "    </tr>\n",
       "    <tr>\n",
       "      <th>1252181</th>\n",
       "      <td>1252181</td>\n",
       "      <td>1412178</td>\n",
       "      <td>1659839582</td>\n",
       "      <td>0</td>\n",
       "    </tr>\n",
       "    <tr>\n",
       "      <th>1252181</th>\n",
       "      <td>1252181</td>\n",
       "      <td>1412178</td>\n",
       "      <td>1659839601</td>\n",
       "      <td>1</td>\n",
       "    </tr>\n",
       "    <tr>\n",
       "      <th>1252181</th>\n",
       "      <td>1252181</td>\n",
       "      <td>567959</td>\n",
       "      <td>1659839627</td>\n",
       "      <td>0</td>\n",
       "    </tr>\n",
       "    <tr>\n",
       "      <th>...</th>\n",
       "      <td>...</td>\n",
       "      <td>...</td>\n",
       "      <td>...</td>\n",
       "      <td>...</td>\n",
       "    </tr>\n",
       "    <tr>\n",
       "      <th>12014664</th>\n",
       "      <td>12014664</td>\n",
       "      <td>635761</td>\n",
       "      <td>1661429811</td>\n",
       "      <td>1</td>\n",
       "    </tr>\n",
       "    <tr>\n",
       "      <th>12014664</th>\n",
       "      <td>12014664</td>\n",
       "      <td>1765902</td>\n",
       "      <td>1661429871</td>\n",
       "      <td>0</td>\n",
       "    </tr>\n",
       "    <tr>\n",
       "      <th>12014664</th>\n",
       "      <td>12014664</td>\n",
       "      <td>635761</td>\n",
       "      <td>1661429890</td>\n",
       "      <td>0</td>\n",
       "    </tr>\n",
       "    <tr>\n",
       "      <th>13993132</th>\n",
       "      <td>13993132</td>\n",
       "      <td>1096609</td>\n",
       "      <td>1662115398</td>\n",
       "      <td>0</td>\n",
       "    </tr>\n",
       "    <tr>\n",
       "      <th>14088154</th>\n",
       "      <td>14088154</td>\n",
       "      <td>14170</td>\n",
       "      <td>1662144895</td>\n",
       "      <td>0</td>\n",
       "    </tr>\n",
       "  </tbody>\n",
       "</table>\n",
       "<p>118 rows × 4 columns</p>\n",
       "</div>"
      ],
      "text/plain": [
       "           session      aid          ts  type\n",
       "session                                      \n",
       "1252181    1252181  1150072  1659396245     0\n",
       "1252181    1252181  1053941  1659839377     0\n",
       "1252181    1252181  1412178  1659839582     0\n",
       "1252181    1252181  1412178  1659839601     1\n",
       "1252181    1252181   567959  1659839627     0\n",
       "...            ...      ...         ...   ...\n",
       "12014664  12014664   635761  1661429811     1\n",
       "12014664  12014664  1765902  1661429871     0\n",
       "12014664  12014664   635761  1661429890     0\n",
       "13993132  13993132  1096609  1662115398     0\n",
       "14088154  14088154    14170  1662144895     0\n",
       "\n",
       "[118 rows x 4 columns]"
      ]
     },
     "execution_count": null,
     "metadata": {},
     "output_type": "execute_result"
    }
   ],
   "source": [
    "subsets"
   ]
  },
  {
   "cell_type": "code",
   "execution_count": null,
   "metadata": {},
   "outputs": [
    {
     "data": {
      "text/plain": [
       "(array([1252181, 4769706, 5390256, 5521908, 5537326], dtype=int32),\n",
       " array([10523604, 10556736, 12014664, 13993132, 14088154], dtype=int32),\n",
       " array([1252181, 4769706, 5390256, 5521908, 5537326], dtype=int32),\n",
       " array([13993132, 14088154], dtype=int32))"
      ]
     },
     "execution_count": null,
     "metadata": {},
     "output_type": "execute_result"
    }
   ],
   "source": [
    "sessions[:5], sessions[-5:], sessions_train[:5], sessions_test[-5:]"
   ]
  },
  {
   "cell_type": "markdown",
   "metadata": {},
   "source": [
    "## rd: recsys - otto - covisitation_simplified - when one aid occurred, what other aid occurred and how often they(the other) occurred; and do this for every aid."
   ]
  },
  {
   "cell_type": "markdown",
   "metadata": {},
   "source": [
    "### rd: recsys - otto - covisitation_simplified - loop every chunk_size number unique sessions\n",
    "### rd: recsys - otto - covisitation_simplified - take a chunk_size number of sessions (each session in its entirety, ie., many rows) from subsets as current_chunk\n",
    "### rd: recsys - otto - covisitation_simplified - In current_chunk, from each session (in its entirety) only takes the last/latest 30 events and combine them to update current_chunk\n",
    "### rd: recsys - otto - covisitation_simplified - merge an session of its entirety onto itself (help to see the relation between one aid and every other aid within each session)\n",
    "### rd: recsys - otto - covisitation_simplified - remove all the rows which aid_x == aid_y (remove the row when the two articles are the same)\n",
    "### rd: recsys - otto - covisitation_simplified - add a column named 'days_elapsed' which shows how many days passed between the two aids in a session\n",
    "### rd: recsys - otto - covisitation_simplified - keep the rows if the two aids of a session are occurred within the same day on the right order\n",
    "### rd: recsys - otto - covisitation_simplified - among all sessions/rows left(regardless which session we are looking at), for each aid occurred, count how often the other aid are occurred\n"
   ]
  },
  {
   "cell_type": "code",
   "execution_count": null,
   "metadata": {},
   "outputs": [],
   "source": [
    "chunk_size = 30_000\n",
    "\n",
    "for i in range(0, sessions.shape[0], chunk_size): # loop every 30_000 unique sessions\n",
    "    \n",
    "    #### take a chunk_size number of sessions (each session in its entirety, ie., many rows) from subsets as current_chunk\n",
    "    \n",
    "#     pp(i, sessions[i], sessions.shape[0]-1, i+chunk_size-1, sessions[min(sessions.shape[0]-1, i+chunk_size-1)])\n",
    "    current_chunk = subsets.loc[sessions[i]:sessions[min(sessions.shape[0]-1, i+chunk_size-1)]].reset_index(drop=True) # to remove index column\n",
    "#     pp(current_chunk.head(), current_chunk.tail())\n",
    "#     pp(doc_sig(pd.DataFrame.reset_index)) \n",
    "\n",
    "    #### In current_chunk, from each session (in its entirety) only takes the last/latest 30 events and combine them to update current_chunk\n",
    "#     pp(range(-30,0), list(range(-30,0)), doc_sig(current_chunk.groupby('session', as_index=False).nth))\n",
    "    current_chunk = current_chunk.groupby('session', as_index=False).nth(list(range(-30,0))).reset_index(drop=True)\n",
    "#     pp(current_chunk[:31], current_chunk[30:61])\n",
    "\n",
    "    #### merge an session of its entirety onto itself (help to see the relation between one aid and every other aid within each session)\n",
    "    consecutive_AIDs = current_chunk.merge(current_chunk, on='session')\n",
    "#     pp(consecutive_AIDs[:30])\n",
    "#     pp(consecutive_AIDs[29:61])\n",
    "\n",
    "    #### remove all the rows which aid_x == aid_y (remove the row when the two articles are the same)\n",
    "    consecutive_AIDs = consecutive_AIDs[consecutive_AIDs.aid_x != consecutive_AIDs.aid_y]\n",
    "    \n",
    "    #### add a column named 'days_elapsed' which shows how many days passed between the two aids in a session\n",
    "    consecutive_AIDs['days_elapsed'] = (consecutive_AIDs.ts_y - consecutive_AIDs.ts_x) / (24 * 60 * 60)\n",
    "#     pp(consecutive_AIDs[:61])\n",
    "\n",
    "    #### keep the rows if the two aids of a session are occurred within the same day on the right order\n",
    "    consecutive_AIDs = consecutive_AIDs[(consecutive_AIDs.days_elapsed >= 0) & (consecutive_AIDs.days_elapsed <= 1)]\n",
    "    \n",
    "    #### among all sessions or all users, for each article occurred, count how often the other articles are occurred\n",
    "    for aid_x, aid_y in zip(consecutive_AIDs['aid_x'], consecutive_AIDs['aid_y']):\n",
    "        next_AIDs[aid_x][aid_y] += 1\n",
    "    "
   ]
  },
  {
   "cell_type": "code",
   "execution_count": null,
   "metadata": {},
   "outputs": [
    {
     "data": {
      "text/plain": [
       "defaultdict(collections.Counter,\n",
       "            {1053941: Counter({1412178: 2,\n",
       "                      567959: 2,\n",
       "                      1590011: 1,\n",
       "                      1410065: 1,\n",
       "                      527209: 1}),\n",
       "             1412178: Counter({567959: 4, 1590011: 2, 1410065: 2, 527209: 2}),\n",
       "             567959: Counter({1590011: 2, 1410065: 2, 527209: 2}),\n",
       "             1590011: Counter({1410065: 1, 527209: 1}),\n",
       "             1410065: Counter({527209: 1}),\n",
       "             118631: Counter({1810463: 2}),\n",
       "             809254: Counter({252823: 1,\n",
       "                      755752: 2,\n",
       "                      473784: 2,\n",
       "                      1043532: 2,\n",
       "                      424449: 2}),\n",
       "             252823: Counter({809254: 1,\n",
       "                      755752: 1,\n",
       "                      473784: 1,\n",
       "                      1043532: 1,\n",
       "                      424449: 1}),\n",
       "             755752: Counter({473784: 1, 1043532: 1, 424449: 1}),\n",
       "             473784: Counter({1043532: 1, 424449: 1}),\n",
       "             1043532: Counter({424449: 1, 30388: 1, 1001867: 1, 473301: 1}),\n",
       "             1084504: Counter({1043532: 1, 30388: 1, 1001867: 1, 473301: 1}),\n",
       "             30388: Counter({1001867: 1, 473301: 1}),\n",
       "             1001867: Counter({473301: 1}),\n",
       "             64194: Counter({1266300: 2, 215407: 1, 1397797: 1}),\n",
       "             1266300: Counter({215407: 1, 1397797: 2}),\n",
       "             215407: Counter({1266300: 1, 1397797: 1}),\n",
       "             1647157: Counter({1818264: 1,\n",
       "                      771924: 1,\n",
       "                      1047179: 4,\n",
       "                      140798: 4,\n",
       "                      1473792: 1}),\n",
       "             1818264: Counter({771924: 1, 1047179: 4, 140798: 4, 1473792: 1}),\n",
       "             771924: Counter({1047179: 4, 140798: 4, 1473792: 1}),\n",
       "             1047179: Counter({140798: 11, 1473792: 4}),\n",
       "             140798: Counter({1047179: 6, 1473792: 4}),\n",
       "             1796103: Counter({1615007: 3, 150461: 1, 945579: 1}),\n",
       "             1615007: Counter({150461: 1, 945579: 2}),\n",
       "             150461: Counter({1615007: 2, 945579: 1}),\n",
       "             945579: Counter({1615007: 1}),\n",
       "             962155: Counter({1790606: 2}),\n",
       "             1303378: Counter({674124: 1,\n",
       "                      617221: 1,\n",
       "                      1578927: 2,\n",
       "                      1049927: 1,\n",
       "                      611753: 1}),\n",
       "             674124: Counter({617221: 1, 1578927: 2, 1049927: 1, 611753: 1}),\n",
       "             617221: Counter({1578927: 2, 1049927: 1, 611753: 1}),\n",
       "             1578927: Counter({1049927: 2, 611753: 2}),\n",
       "             1049927: Counter({611753: 1}),\n",
       "             1444835: Counter({1371624: 1,\n",
       "                      1490590: 9,\n",
       "                      608398: 4,\n",
       "                      600422: 4,\n",
       "                      1576989: 20}),\n",
       "             1371624: Counter({1444835: 3,\n",
       "                      1490590: 3,\n",
       "                      608398: 1,\n",
       "                      600422: 1,\n",
       "                      1576989: 5}),\n",
       "             1490590: Counter({1444835: 3, 608398: 3, 600422: 3, 1576989: 15}),\n",
       "             608398: Counter({600422: 1, 1576989: 5}),\n",
       "             600422: Counter({1576989: 5}),\n",
       "             654298: Counter({822755: 3, 1251248: 1, 649012: 1, 1521487: 1}),\n",
       "             822755: Counter({1251248: 1, 649012: 1, 1521487: 1, 654298: 3}),\n",
       "             1251248: Counter({649012: 1, 1521487: 1, 654298: 2, 822755: 1}),\n",
       "             649012: Counter({1521487: 1, 654298: 2, 822755: 1}),\n",
       "             1521487: Counter({654298: 2, 822755: 1}),\n",
       "             1051056: Counter({1329717: 1}),\n",
       "             137221: Counter({87202: 3, 517894: 2, 681053: 2}),\n",
       "             87202: Counter({137221: 1, 517894: 1, 681053: 2}),\n",
       "             517894: Counter({87202: 1, 681053: 1}),\n",
       "             620508: Counter({600579: 4, 1836671: 2}),\n",
       "             600579: Counter({1836671: 1, 620508: 2}),\n",
       "             1836671: Counter({600579: 1, 620508: 1}),\n",
       "             1450303: Counter({402101: 1}),\n",
       "             1037029: Counter({726978: 1}),\n",
       "             635761: Counter({44215: 1, 1765902: 4}),\n",
       "             44215: Counter({635761: 4, 1765902: 1}),\n",
       "             1765902: Counter({635761: 1})})"
      ]
     },
     "execution_count": null,
     "metadata": {},
     "output_type": "execute_result"
    }
   ],
   "source": [
    "next_AIDs"
   ]
  },
  {
   "cell_type": "markdown",
   "metadata": {},
   "source": [
    "### rd: recsys - otto - covisitation_simplified - remove some data objects to save RAM"
   ]
  },
  {
   "cell_type": "code",
   "execution_count": null,
   "metadata": {},
   "outputs": [],
   "source": [
    "del train, subset_of_train, subsets # to save RAM"
   ]
  },
  {
   "cell_type": "markdown",
   "metadata": {},
   "source": [
    "## rd: recsys - otto - covisitation_simplified - make predictions"
   ]
  },
  {
   "cell_type": "markdown",
   "metadata": {},
   "source": [
    "## rd: recsys - otto - covisitation_simplified - under each session, put all aids into a list, put all action types into a list"
   ]
  },
  {
   "cell_type": "markdown",
   "metadata": {},
   "source": [
    "### rd: recsys - otto - covisitation_simplified - put all article ids or type into a list under the same session, test.reset_index(drop=True).groupby('session')['aid'].apply(list)"
   ]
  },
  {
   "cell_type": "code",
   "execution_count": null,
   "metadata": {},
   "outputs": [
    {
     "data": {
      "text/plain": [
       "(          session      aid          ts  type\n",
       " 0        12899779    59625  1661724000     0\n",
       " 1        12899780  1142000  1661724000     0\n",
       " 2        12899780   582732  1661724058     0\n",
       " 3        12899780   973453  1661724109     0\n",
       " 4        12899780   736515  1661724136     0\n",
       " ...           ...      ...         ...   ...\n",
       " 6928118  14571577  1141710  1662328774     0\n",
       " 6928119  14571578   519105  1662328775     0\n",
       " 6928120  14571579   739876  1662328775     0\n",
       " 6928121  14571580   202353  1662328781     0\n",
       " 6928122  14571581  1100210  1662328791     0\n",
       " \n",
       " [6928123 rows x 4 columns],\n",
       "           session      aid          ts  type\n",
       " 0        12899779    59625  1661724000     0\n",
       " 1        12899780  1142000  1661724000     0\n",
       " 2        12899780   582732  1661724058     0\n",
       " 3        12899780   973453  1661724109     0\n",
       " 4        12899780   736515  1661724136     0\n",
       " ...           ...      ...         ...   ...\n",
       " 6928118  14571577  1141710  1662328774     0\n",
       " 6928119  14571578   519105  1662328775     0\n",
       " 6928120  14571579   739876  1662328775     0\n",
       " 6928121  14571580   202353  1662328781     0\n",
       " 6928122  14571581  1100210  1662328791     0\n",
       " \n",
       " [6928123 rows x 4 columns])"
      ]
     },
     "execution_count": null,
     "metadata": {},
     "output_type": "execute_result"
    }
   ],
   "source": [
    "test, test.reset_index(drop=True)"
   ]
  },
  {
   "cell_type": "code",
   "execution_count": null,
   "metadata": {},
   "outputs": [],
   "source": [
    "\n",
    "test_session_AIDs = test.reset_index(drop=True).groupby('session')['aid'].apply(list)\n",
    "test_session_types = test.reset_index(drop=True).groupby('session')['type'].apply(list)"
   ]
  },
  {
   "cell_type": "code",
   "execution_count": null,
   "metadata": {},
   "outputs": [
    {
     "data": {
      "text/plain": [
       "session\n",
       "12899779                                                                                                                                                                                                                                                                                                                                                                                                                                                                                                                                                                                               [59625]\n",
       "12899780                                                                                                                                                                                                                                                                                                                                                                                                                                                                                                                                                            [1142000, 582732, 973453, 736515, 1142000]\n",
       "12899781                                                                                                                                                                                                                                                                                                                                                                                                                                                                                                               [141736, 199008, 57315, 194067, 199008, 199008, 199008, 199008, 199008, 199008, 918667]\n",
       "12899782    [1669402, 1494780, 1494780, 1494780, 1494780, 1674681, 602722, 1596098, 45034, 603159, 413962, 413962, 413962, 779477, 1037537, 779477, 779477, 476063, 562753, 779477, 562753, 476063, 779477, 779477, 562753, 779477, 476063, 975116, 975116, 595994, 595994, 595994, 1299062, 1352725, 1344773, 1344773, 794259, 363336, 829180, 1711180, 127404, 654809, 723956, 476063, 975116, 406001, 889671, 889671, 834354, 834354, 889671, 1099390, 987399, 987399, 638410, 1072927, 530899, 229748, 229748, 740494, 740494, 834354, 1669402, 829180, 1696036, 479970, 834354, 1033148, 595994, 1007613]\n",
       "12899783                                                                                                                                                                                                                                                                                                                                                                                                                                                                                                         [255297, 1114789, 255297, 300127, 198385, 300127, 1729553, 1216820, 1754419, 607638, 1817895]\n",
       "                                                                                                                                                                                                                                                                                                           ...                                                                                                                                                                                                                                                                                                \n",
       "14571577                                                                                                                                                                                                                                                                                                                                                                                                                                                                                                                                                                                             [1141710]\n",
       "14571578                                                                                                                                                                                                                                                                                                                                                                                                                                                                                                                                                                                              [519105]\n",
       "14571579                                                                                                                                                                                                                                                                                                                                                                                                                                                                                                                                                                                              [739876]\n",
       "14571580                                                                                                                                                                                                                                                                                                                                                                                                                                                                                                                                                                                              [202353]\n",
       "14571581                                                                                                                                                                                                                                                                                                                                                                                                                                                                                                                                                                                             [1100210]\n",
       "Name: aid, Length: 1671803, dtype: object"
      ]
     },
     "execution_count": null,
     "metadata": {},
     "output_type": "execute_result"
    },
    {
     "data": {
      "text/plain": [
       "session\n",
       "12899779                                                                                                                                                                                                                   [0]\n",
       "12899780                                                                                                                                                                                                       [0, 0, 0, 0, 0]\n",
       "12899781                                                                                                                                                                                     [0, 0, 0, 0, 0, 0, 1, 0, 0, 0, 0]\n",
       "12899782    [0, 0, 0, 0, 1, 0, 0, 0, 0, 0, 0, 1, 0, 0, 0, 0, 1, 0, 1, 0, 0, 1, 0, 1, 0, 0, 0, 0, 1, 0, 1, 0, 0, 0, 0, 1, 0, 0, 0, 1, 1, 0, 0, 0, 0, 0, 0, 1, 0, 1, 0, 0, 0, 1, 0, 0, 0, 0, 0, 0, 1, 1, 2, 2, 2, 2, 2, 2, 2, 2]\n",
       "12899783                                                                                                                                                                                     [0, 0, 0, 0, 0, 0, 0, 0, 0, 0, 0]\n",
       "                                                                                                                   ...                                                                                                        \n",
       "14571577                                                                                                                                                                                                                   [0]\n",
       "14571578                                                                                                                                                                                                                   [0]\n",
       "14571579                                                                                                                                                                                                                   [0]\n",
       "14571580                                                                                                                                                                                                                   [0]\n",
       "14571581                                                                                                                                                                                                                   [0]\n",
       "Name: type, Length: 1671803, dtype: object"
      ]
     },
     "execution_count": null,
     "metadata": {},
     "output_type": "execute_result"
    }
   ],
   "source": [
    "test_session_AIDs\n",
    "test_session_types"
   ]
  },
  {
   "cell_type": "markdown",
   "metadata": {},
   "source": [
    "### rd: recsys - otto - covisitation_simplified - create some containers?"
   ]
  },
  {
   "cell_type": "code",
   "execution_count": null,
   "metadata": {},
   "outputs": [],
   "source": [
    "labels = []\n",
    "\n",
    "no_data = 0\n",
    "no_data_all_aids = 0\n",
    "type_weight_multipliers = {0: 1, 1: 6, 2: 3}\n",
    "session_types = ['clicks', 'carts', 'orders']"
   ]
  },
  {
   "cell_type": "markdown",
   "metadata": {},
   "source": [
    "### rd: recsys - otto - covisitation_simplified - loop every session, access all of its aids and types\n",
    "### rd: recsys - otto - covisitation_simplified - when there are >= 20 aids in a session: \n",
    "### rd: recsys - otto - covisitation_simplified - assign logspaced weight to each aid under each session, as the latest aid should have higher weight for user action\n",
    "### rd: recsys - otto - covisitation_simplified - create a defaultdict to store weight for each aid under a session???\n",
    "### rd: recsys - otto - covisitation_simplified - loop each aid, weight, event_type of a session:\n",
    "### rd: recsys - otto - covisitation_simplified - Within each session, accumulate the weight for each aid based on its occurences, event_type and logspaced weight; save the accumulated weight for each aid into a defaultdict, no duplicated aid here in this dict\n",
    "### rd: recsys - otto - covisitation_simplified - sort a defaultdict from largest value to smallest, and then put its keys into a list\n",
    "### rd: recsys - otto - covisitation_simplified - store the first 20 aids (the most weighted or most likely aids to be acted upon within a session) into the list 'labels'\n",
    "### rd: recsys - otto - covisitation_simplified - when there are < 20 aids in a session: \n",
    "### rd: recsys - otto - covisitation_simplified - reverse the order of AIDs, remove the duplicated, put into a list, reassign it to AIDs --- to be continued"
   ]
  },
  {
   "cell_type": "code",
   "execution_count": null,
   "metadata": {},
   "outputs": [],
   "source": [
    "idx = 0\n",
    "for AIDs, types in zip(test_session_AIDs, test_session_types): #### for each session, get all of its aids and types\n",
    "    if len(AIDs) >= 20:\n",
    "        #### assign logspaced weight to each arcticle id under each session\n",
    "#         pp(doc_sig(np.logspace),len(AIDs), np.logspace(0.1,1,len(AIDs),base=2, endpoint=True), np.logspace(0.1,1,len(AIDs),base=2, endpoint=False))\n",
    "        weights=np.logspace(0.1,1,len(AIDs),base=2, endpoint=True)-1\n",
    "#         pp(weights)\n",
    "\n",
    "        #### create a defaultdict to store weight for each id article under a session\n",
    "        aids_temp=defaultdict(lambda: 0)\n",
    "    \n",
    "        #### loop each article id, its weight and its type from all aids, their weights, and types\n",
    "#         pp(AIDs) # there are repeated aids\n",
    "        for aid,w,t in zip(AIDs,weights,types): \n",
    "        \n",
    "            #### Within each session, accumulate the weight for each aid based on its occurences, \n",
    "            #### event_type and logspaced weight; save the accumulated weight for each aid into a defaultdict, \n",
    "            #### no duplicated aid here in this dict\n",
    "            aids_temp[aid] += w * type_weight_multipliers[t]\n",
    "            \n",
    "        #### sort a defaultdict from largest value to smallest, and then put its keys into a list\n",
    "#         pp(aids_temp.items())\n",
    "#         pp(sorted(aids_temp.items(), key=lambda item: -item[1]))\n",
    "#         pp(sorted(aids_temp.items(), key=lambda item: item[1])) \n",
    "        sorted_aids=[k for k, v in sorted(aids_temp.items(), key=lambda item: -item[1])]\n",
    "#         pp(aids_temp, sorted_aids)\n",
    "#         break\n",
    "\n",
    "        #### store the first 20 aids into the list 'labels'\n",
    "        labels.append(sorted_aids[:20])\n",
    "        \n",
    "    else:\n",
    "        \n",
    "        #### reverse the order of AIDs, remove the duplicated, put into a list, reassign it to AIDs\n",
    "#         if len(AIDs) > 10:\n",
    "#             pp(AIDs, AIDs[::-1], dict.fromkeys(AIDs[::-1]), list(dict.fromkeys(AIDs[::-1])), doc_sig(dict.fromkeys))\n",
    "# https://stackoverflow.com/questions/31633635/what-is-the-meaning-of-inta-1-in-python [::-1] means reverse order\n",
    "#             pp(AIDs, list(dict.fromkeys(AIDs[::-1])), list(dict.fromkeys(AIDs[::1])), list(dict.fromkeys(AIDs)))\n",
    "#             break\n",
    "        AIDs = list(dict.fromkeys(AIDs[::-1]))\n",
    "    \n",
    "        #### keep track the length of AIDs\n",
    "        AIDs_len_start = len(AIDs)\n",
    "        \n",
    "        candidates = []\n",
    "        for AID in AIDs:\n",
    "            #### if AID is in the keys of next_AIDs, then take the 20 most common other aids occurred when AID occurred into a list\n",
    "            #### and add this list into the list candidate (not a list of list, just a merged list)\n",
    "            if AID in next_AIDs: candidates += [aid for aid, count in next_AIDs[AID].most_common(20)]\n",
    "#         if len(candidates) > 0: \n",
    "#             pp(candidates, Counter(candidates), Counter(candidates).most_common(40))\n",
    "#             break\n",
    "\n",
    "        #### use Counter to find the first 40 most common aid in candidate, and if they are not in AIDs then merge them into AIDs list\n",
    "        AIDs += [AID for AID, cnt in Counter(candidates).most_common(40) if AID not in AIDs]\n",
    "        \n",
    "        #### append the first 20 aids to labels\n",
    "        labels.append(AIDs[:20])\n",
    "        if candidates == []: no_data += 1\n",
    "        if AIDs_len_start == len(AIDs): no_data_all_aids += 1\n",
    "            \n",
    "#         pp(AIDs, labels, no_data, no_data_all_aids)\n",
    "#         idx += 1\n",
    "#         if idx > 2: break"
   ]
  },
  {
   "cell_type": "markdown",
   "metadata": {},
   "source": [
    "```\n",
    "11:39:47.48 LOG:\n",
    "11:39:47.49 .... AIDs = [59625]\n",
    "11:39:47.49 .... labels = [[59625]]\n",
    "11:39:47.49 .... no_data = 1\n",
    "11:39:47.49 .... no_data_all_aids = 1\n",
    "([59625], [[59625]], 1, 1)\n",
    "11:39:47.50 LOG:\n",
    "11:39:47.50 .... AIDs = [1142000,\n",
    "11:39:47.50              736515,\n",
    "11:39:47.50              973453,\n",
    "11:39:47.50              582732,\n",
    "11:39:47.50              76352,\n",
    "11:39:47.50              1032776,\n",
    "11:39:47.50              448755,\n",
    "11:39:47.50              1660665,\n",
    "11:39:47.50              481350,\n",
    "11:39:47.50              1419849,\n",
    "11:39:47.50              1712906,\n",
    "11:39:47.50              1075100,\n",
    "11:39:47.50              1403849,\n",
    "11:39:47.50              1516571,\n",
    "11:39:47.50              1344942,\n",
    "11:39:47.50              876129]\n",
    "11:39:47.50 .... labels = [[59625],\n",
    "11:39:47.50                [1142000,\n",
    "11:39:47.50                 736515,\n",
    "11:39:47.50                 973453,\n",
    "11:39:47.50                 582732,\n",
    "11:39:47.50                 76352,\n",
    "11:39:47.50                 1032776,\n",
    "11:39:47.50                 448755,\n",
    "11:39:47.50                 1660665,\n",
    "11:39:47.50                 481350,\n",
    "11:39:47.50                 1419849,\n",
    "11:39:47.50                 1712906,\n",
    "11:39:47.50                 1075100,\n",
    "11:39:47.50                 1403849,\n",
    "11:39:47.50                 1516571,\n",
    "11:39:47.50                 1344942,\n",
    "11:39:47.50                 876129]]\n",
    "11:39:47.50 .... no_data = 1\n",
    "11:39:47.50 .... no_data_all_aids = 1\n",
    "([1142000,\n",
    "  736515,\n",
    "  973453,\n",
    "  582732,\n",
    "  76352,\n",
    "  1032776,\n",
    "  448755,\n",
    "  1660665,\n",
    "  481350,\n",
    "  1419849,\n",
    "  1712906,\n",
    "  1075100,\n",
    "  1403849,\n",
    "  1516571,\n",
    "  1344942,\n",
    "  876129],\n",
    " [[59625],\n",
    "  [1142000,\n",
    "   736515,\n",
    "   973453,\n",
    "   582732,\n",
    "   76352,\n",
    "   1032776,\n",
    "   448755,\n",
    "   1660665,\n",
    "   481350,\n",
    "   1419849,\n",
    "   1712906,\n",
    "   1075100,\n",
    "   1403849,\n",
    "   1516571,\n",
    "   1344942,\n",
    "   876129]],\n",
    " 1,\n",
    " 1)\n",
    "11:39:47.51 LOG:\n",
    "11:39:47.51 .... AIDs = [918667, 199008, 194067, 57315, 141736, 626338, 1833745, 1617920, 703029]\n",
    "11:39:47.51 .... labels = [[59625],\n",
    "11:39:47.51                [1142000,\n",
    "11:39:47.51                 736515,\n",
    "11:39:47.51                 973453,\n",
    "11:39:47.51                 582732,\n",
    "11:39:47.51                 76352,\n",
    "11:39:47.51                 1032776,\n",
    "11:39:47.51                 448755,\n",
    "11:39:47.51                 1660665,\n",
    "11:39:47.51                 481350,\n",
    "11:39:47.51                 1419849,\n",
    "11:39:47.51                 1712906,\n",
    "11:39:47.51                 1075100,\n",
    "11:39:47.51                 1403849,\n",
    "11:39:47.51                 1516571,\n",
    "11:39:47.51                 1344942,\n",
    "11:39:47.51                 876129],\n",
    "11:39:47.51                [918667, 199008, 194067, 57315, 141736, 626338, 1833745, 1617920, 703029]]\n",
    "11:39:47.51 .... no_data = 1\n",
    "11:39:47.51 .... no_data_all_aids = 1\n",
    "([918667, 199008, 194067, 57315, 141736, 626338, 1833745, 1617920, 703029],\n",
    " [[59625],\n",
    "  [1142000,\n",
    "   736515,\n",
    "   973453,\n",
    "   582732,\n",
    "   76352,\n",
    "   1032776,\n",
    "   448755,\n",
    "   1660665,\n",
    "   481350,\n",
    "   1419849,\n",
    "   1712906,\n",
    "   1075100,\n",
    "   1403849,\n",
    "   1516571,\n",
    "   1344942,\n",
    "   876129],\n",
    "  [918667, 199008, 194067, 57315, 141736, 626338, 1833745, 1617920, 703029]],\n",
    " 1,\n",
    " 1)\n",
    "add Codeadd Markdown\n",
    "# >>> outputting results to CSV\n",
    "​\n",
    "labels_as_strings = [' '.join([str(l) for l in lls]) for lls in labels]\n",
    "pp(labels[:2], labels_as_strings[:2])\n",
    "11:40:28.32 LOG:\n",
    "11:40:28.33 .... labels[:2] = [[59625],\n",
    "11:40:28.33                    [1142000,\n",
    "11:40:28.33                     736515,\n",
    "11:40:28.33                     973453,\n",
    "11:40:28.33                     582732,\n",
    "11:40:28.33                     76352,\n",
    "11:40:28.33                     1032776,\n",
    "11:40:28.33                     448755,\n",
    "11:40:28.33                     1660665,\n",
    "11:40:28.33                     481350,\n",
    "11:40:28.33                     1419849,\n",
    "11:40:28.33                     1712906,\n",
    "11:40:28.33                     1075100,\n",
    "11:40:28.33                     1403849,\n",
    "11:40:28.33                     1516571,\n",
    "11:40:28.33                     1344942,\n",
    "11:40:28.33                     876129]]\n",
    "11:40:28.33 .... labels_as_strings[:2] = ['59625',\n",
    "11:40:28.33                               '1142000 736515 973453 582732 76352 1032776 448755 1660665 481350 1419849 '\n",
    "11:40:28.33                               '1712906 1075100 1403849 1516571 1344942 876129']\n",
    "([[59625],\n",
    "  [1142000,\n",
    "   736515,\n",
    "   973453,\n",
    "   582732,\n",
    "   76352,\n",
    "   1032776,\n",
    "   448755,\n",
    "   1660665,\n",
    "   481350,\n",
    "   1419849,\n",
    "   1712906,\n",
    "   1075100,\n",
    "   1403849,\n",
    "   1516571,\n",
    "   1344942,\n",
    "   876129]],\n",
    " ['59625',\n",
    "  '1142000 736515 973453 582732 76352 1032776 448755 1660665 481350 1419849 1712906 1075100 1403849 1516571 1344942 876129'])\n",
    "add Codeadd Markdown\n",
    "```"
   ]
  },
  {
   "cell_type": "code",
   "execution_count": null,
   "metadata": {},
   "outputs": [
    {
     "name": "stderr",
     "output_type": "stream",
     "text": [
      "12:33:16.08 LOG:\n",
      "12:33:16.53 .... labels[:2] = [[59625], [1142000, 736515, 973453, 582732]]\n",
      "12:33:16.53 .... labels_as_strings[:2] = ['59625', '1142000 736515 973453 582732']\n"
     ]
    },
    {
     "data": {
      "text/plain": [
       "([[59625], [1142000, 736515, 973453, 582732]],\n",
       " ['59625', '1142000 736515 973453 582732'])"
      ]
     },
     "execution_count": null,
     "metadata": {},
     "output_type": "execute_result"
    }
   ],
   "source": [
    "# >>> outputting results to CSV\n",
    "\n",
    "labels_as_strings = [' '.join([str(l) for l in lls]) for lls in labels]\n",
    "pp(labels[:2], labels_as_strings[:2])"
   ]
  },
  {
   "cell_type": "code",
   "execution_count": null,
   "metadata": {},
   "outputs": [
    {
     "name": "stderr",
     "output_type": "stream",
     "text": [
      "12:33:16.54 LOG:\n",
      "12:33:16.55 .... len(test_session_AIDs.index) = 1671803\n",
      "12:33:16.55 .... len(labels_as_strings) = 1671803\n"
     ]
    },
    {
     "data": {
      "text/plain": [
       "(1671803, 1671803)"
      ]
     },
     "execution_count": null,
     "metadata": {},
     "output_type": "execute_result"
    }
   ],
   "source": [
    "pp(len(test_session_AIDs.index), len(labels_as_strings))\n",
    "predictions = pd.DataFrame(data={'session_type': test_session_AIDs.index, 'labels': labels_as_strings})\n"
   ]
  },
  {
   "cell_type": "code",
   "execution_count": null,
   "metadata": {},
   "outputs": [],
   "source": [
    "prediction_dfs = []\n",
    "\n",
    "for st in session_types:\n",
    "    modified_predictions = predictions.copy()\n",
    "    modified_predictions.session_type = modified_predictions.session_type.astype('str') + f'_{st}'\n",
    "    prediction_dfs.append(modified_predictions)"
   ]
  },
  {
   "cell_type": "code",
   "execution_count": null,
   "metadata": {},
   "outputs": [
    {
     "name": "stderr",
     "output_type": "stream",
     "text": [
      "12:41:51.17 LOG:\n",
      "12:41:51.19 .... prediction_dfs[:2] = [            session_type  \\\n",
      "12:41:51.19                           0        12899779_clicks   \n",
      "12:41:51.19                           1        12899780_clicks   \n",
      "12:41:51.19                           2        12899781_clicks   \n",
      "12:41:51.19                           3        12899782_clicks   \n",
      "12:41:51.19                           4        12899783_clicks   \n",
      "12:41:51.19                           ...                  ...   \n",
      "12:41:51.19                           1671798  14571577_clicks   \n",
      "12:41:51.19                           1671799  14571578_clicks   \n",
      "12:41:51.19                           1671800  14571579_clicks   \n",
      "12:41:51.19                           1671801  14571580_clicks   \n",
      "12:41:51.19                           1671802  14571581_clicks   \n",
      "12:41:51.19                           \n",
      "12:41:51.19                                                                                                                                                                               labels  \n",
      "12:41:51.19                           0                                                                                                                                                    59625  \n",
      "12:41:51.19                           1                                                                                                                             1142000 736515 973453 582732  \n",
      "12:41:51.19                           2                                                                                                                        918667 199008 194067 57315 141736  \n",
      "12:41:51.19                           3        834354 595994 740494 889671 987399 779477 1344773 975116 127404 829180 1711180 1007613 476063 1033148 479970 1696036 1669402 562753 229748 413962  \n",
      "12:41:51.19                           4                                                                                      1817895 607638 1754419 1216820 1729553 300127 198385 255297 1114789  \n",
      "12:41:51.19                           ...                                                                                                                                                    ...  \n",
      "12:41:51.19                           1671798                                                                                                                                            1141710  \n",
      "12:41:51.19                           1671799                                                                                                                                             519105  \n",
      "12:41:51.19                           1671800                                                                                                                                             739876  \n",
      "12:41:51.19                           1671801                                                                                                                                             202353  \n",
      "12:41:51.19                           1671802                                                                                                                                            1100210  \n",
      "12:41:51.19                           \n",
      "12:41:51.19                           [1671803 rows x 2 columns],\n",
      "12:41:51.19                                       session_type  \\\n",
      "12:41:51.19                           0        12899779_carts   \n",
      "12:41:51.19                           1        12899780_carts   \n",
      "12:41:51.19                           2        12899781_carts   \n",
      "12:41:51.19                           3        12899782_carts   \n",
      "12:41:51.19                           4        12899783_carts   \n",
      "12:41:51.19                           ...                 ...   \n",
      "12:41:51.19                           1671798  14571577_carts   \n",
      "12:41:51.19                           1671799  14571578_carts   \n",
      "12:41:51.19                           1671800  14571579_carts   \n",
      "12:41:51.19                           1671801  14571580_carts   \n",
      "12:41:51.19                           1671802  14571581_carts   \n",
      "12:41:51.19                           \n",
      "12:41:51.19                                                                                                                                                                               labels  \n",
      "12:41:51.19                           0                                                                                                                                                    59625  \n",
      "12:41:51.19                           1                                                                                                                             1142000 736515 973453 582732  \n",
      "12:41:51.19                           2                                                                                                                        918667 199008 194067 57315 141736  \n",
      "12:41:51.19                           3        834354 595994 740494 889671 987399 779477 1344773 975116 127404 829180 1711180 1007613 476063 1033148 479970 1696036 1669402 562753 229748 413962  \n",
      "12:41:51.19                           4                                                                                      1817895 607638 1754419 1216820 1729553 300127 198385 255297 1114789  \n",
      "12:41:51.19                           ...                                                                                                                                                    ...  \n",
      "12:41:51.19                           1671798                                                                                                                                            1141710  \n",
      "12:41:51.19                           1671799                                                                                                                                             519105  \n",
      "12:41:51.19                           1671800                                                                                                                                             739876  \n",
      "12:41:51.19                           1671801                                                                                                                                             202353  \n",
      "12:41:51.19                           1671802                                                                                                                                            1100210  \n",
      "12:41:51.19                           \n",
      "12:41:51.19                           [1671803 rows x 2 columns]]\n"
     ]
    },
    {
     "data": {
      "text/plain": [
       "[            session_type  \\\n",
       " 0        12899779_clicks   \n",
       " 1        12899780_clicks   \n",
       " 2        12899781_clicks   \n",
       " 3        12899782_clicks   \n",
       " 4        12899783_clicks   \n",
       " ...                  ...   \n",
       " 1671798  14571577_clicks   \n",
       " 1671799  14571578_clicks   \n",
       " 1671800  14571579_clicks   \n",
       " 1671801  14571580_clicks   \n",
       " 1671802  14571581_clicks   \n",
       " \n",
       "                                                                                                                                                     labels  \n",
       " 0                                                                                                                                                    59625  \n",
       " 1                                                                                                                             1142000 736515 973453 582732  \n",
       " 2                                                                                                                        918667 199008 194067 57315 141736  \n",
       " 3        834354 595994 740494 889671 987399 779477 1344773 975116 127404 829180 1711180 1007613 476063 1033148 479970 1696036 1669402 562753 229748 413962  \n",
       " 4                                                                                      1817895 607638 1754419 1216820 1729553 300127 198385 255297 1114789  \n",
       " ...                                                                                                                                                    ...  \n",
       " 1671798                                                                                                                                            1141710  \n",
       " 1671799                                                                                                                                             519105  \n",
       " 1671800                                                                                                                                             739876  \n",
       " 1671801                                                                                                                                             202353  \n",
       " 1671802                                                                                                                                            1100210  \n",
       " \n",
       " [1671803 rows x 2 columns],\n",
       "            session_type  \\\n",
       " 0        12899779_carts   \n",
       " 1        12899780_carts   \n",
       " 2        12899781_carts   \n",
       " 3        12899782_carts   \n",
       " 4        12899783_carts   \n",
       " ...                 ...   \n",
       " 1671798  14571577_carts   \n",
       " 1671799  14571578_carts   \n",
       " 1671800  14571579_carts   \n",
       " 1671801  14571580_carts   \n",
       " 1671802  14571581_carts   \n",
       " \n",
       "                                                                                                                                                     labels  \n",
       " 0                                                                                                                                                    59625  \n",
       " 1                                                                                                                             1142000 736515 973453 582732  \n",
       " 2                                                                                                                        918667 199008 194067 57315 141736  \n",
       " 3        834354 595994 740494 889671 987399 779477 1344773 975116 127404 829180 1711180 1007613 476063 1033148 479970 1696036 1669402 562753 229748 413962  \n",
       " 4                                                                                      1817895 607638 1754419 1216820 1729553 300127 198385 255297 1114789  \n",
       " ...                                                                                                                                                    ...  \n",
       " 1671798                                                                                                                                            1141710  \n",
       " 1671799                                                                                                                                             519105  \n",
       " 1671800                                                                                                                                             739876  \n",
       " 1671801                                                                                                                                             202353  \n",
       " 1671802                                                                                                                                            1100210  \n",
       " \n",
       " [1671803 rows x 2 columns]]"
      ]
     },
     "execution_count": null,
     "metadata": {},
     "output_type": "execute_result"
    }
   ],
   "source": [
    "pp(prediction_dfs[:2])"
   ]
  },
  {
   "cell_type": "code",
   "execution_count": null,
   "metadata": {},
   "outputs": [
    {
     "name": "stdout",
     "output_type": "stream",
     "text": [
      "Test sessions that we did not manage to extend based on the co-visitation matrix: 1615211\n"
     ]
    }
   ],
   "source": [
    "submission = pd.concat(prediction_dfs).reset_index(drop=True)\n",
    "submission.to_csv('submission.csv', index=False)\n",
    "\n",
    "print(f'Test sessions that we did not manage to extend based on the co-visitation matrix: {no_data_all_aids}')"
   ]
  },
  {
   "cell_type": "markdown",
   "metadata": {},
   "source": [
    "The following plot (combined with the information printed above) is quite significant -- it show us how much data we are still missing, how many predictions are not at their maximum allowable length.\n",
    "\n",
    "And there is never a point in not outputting all 20 AIDs for any given prediction!"
   ]
  },
  {
   "cell_type": "code",
   "execution_count": null,
   "metadata": {},
   "outputs": [
    {
     "data": {
      "image/png": "[encoded data removed]",
      "text/plain": [
       "<Figure size 432x288 with 1 Axes>"
      ]
     },
     "metadata": {
      "needs_background": "light"
     },
     "output_type": "display_data"
    }
   ],
   "source": [
    "from matplotlib import pyplot as plt\n",
    "\n",
    "plt.hist([len(l) for l in labels]);\n",
    "plt.suptitle('Distribution of predicted sequence lengths');"
   ]
  },
  {
   "cell_type": "code",
   "execution_count": null,
   "metadata": {},
   "outputs": [],
   "source": [
    "# fraction_of_sessions_to_use = 0.000001 # takes about 3 mins to run\n",
    "\n",
    "# import pandas as pd\n",
    "# import numpy as np\n",
    "\n",
    "# train = pd.read_parquet('../input/otto-full-optimized-memory-footprint//train.parquet')\n",
    "# test = pd.read_parquet('../input/otto-full-optimized-memory-footprint/test.parquet')\n",
    "\n",
    "# sample_sub = pd.read_csv('../input/otto-recommender-system//sample_submission.csv')\n",
    "\n",
    "# if fraction_of_sessions_to_use != 1:\n",
    "#     lucky_sessions_train = train.drop_duplicates(['session']).sample(frac=fraction_of_sessions_to_use, random_state=42)['session']\n",
    "#     subset_of_train = train[train.session.isin(lucky_sessions_train)]\n",
    "    \n",
    "#     lucky_sessions_test = test.drop_duplicates(['session']).sample(frac=fraction_of_sessions_to_use, random_state=42)['session']\n",
    "#     subset_of_test = test[test.session.isin(lucky_sessions_test)]\n",
    "# else:\n",
    "#     subset_of_train = train\n",
    "#     subset_of_test = test\n",
    "\n",
    "# subset_of_train.index = pd.MultiIndex.from_frame(subset_of_train[['session']])\n",
    "# subset_of_test.index = pd.MultiIndex.from_frame(subset_of_test[['session']])\n",
    "\n",
    "# chunk_size = 30_000\n",
    "# min_ts = train.ts.min()\n",
    "# max_ts = test.ts.max()\n",
    "\n",
    "# from collections import defaultdict, Counter\n",
    "# next_AIDs = defaultdict(Counter)\n",
    "\n",
    "# subsets = pd.concat([subset_of_train, subset_of_test])\n",
    "# sessions = subsets.session.unique()\n",
    "# for i in range(0, sessions.shape[0], chunk_size):\n",
    "#     current_chunk = subsets.loc[sessions[i]:sessions[min(sessions.shape[0]-1, i+chunk_size-1)]].reset_index(drop=True)\n",
    "#     current_chunk = current_chunk.groupby('session', as_index=False).nth(list(range(-30,0))).reset_index(drop=True)\n",
    "#     consecutive_AIDs = current_chunk.merge(current_chunk, on='session')\n",
    "#     consecutive_AIDs = consecutive_AIDs[consecutive_AIDs.aid_x != consecutive_AIDs.aid_y]\n",
    "#     consecutive_AIDs['days_elapsed'] = (consecutive_AIDs.ts_y - consecutive_AIDs.ts_x) / (24 * 60 * 60)\n",
    "#     consecutive_AIDs = consecutive_AIDs[(consecutive_AIDs.days_elapsed >= 0) & (consecutive_AIDs.days_elapsed <= 1)]\n",
    "    \n",
    "#     for aid_x, aid_y in zip(consecutive_AIDs['aid_x'], consecutive_AIDs['aid_y']):\n",
    "#         next_AIDs[aid_x][aid_y] += 1\n",
    "    \n",
    "# del train, subset_of_train, subsets\n",
    "\n",
    "# session_types = ['clicks', 'carts', 'orders']\n",
    "# test_session_AIDs = test.reset_index(drop=True).groupby('session')['aid'].apply(list)\n",
    "# test_session_types = test.reset_index(drop=True).groupby('session')['type'].apply(list)\n",
    "\n",
    "# labels = []\n",
    "\n",
    "# no_data = 0\n",
    "# no_data_all_aids = 0\n",
    "# type_weight_multipliers = {0: 1, 1: 6, 2: 3}\n",
    "# for AIDs, types in zip(test_session_AIDs, test_session_types):\n",
    "#     if len(AIDs) >= 20:\n",
    "#         weights=np.logspace(0.1,1,len(AIDs),base=2, endpoint=True)-1\n",
    "#         aids_temp=defaultdict(lambda: 0)\n",
    "#         for aid,w,t in zip(AIDs,weights,types): \n",
    "#             aids_temp[aid]+= w * type_weight_multipliers[t]\n",
    "            \n",
    "#         sorted_aids=[k for k, v in sorted(aids_temp.items(), key=lambda item: -item[1])]\n",
    "#         labels.append(sorted_aids[:20])\n",
    "#     else:\n",
    "#         AIDs = list(dict.fromkeys(AIDs[::-1]))\n",
    "#         AIDs_len_start = len(AIDs)\n",
    "        \n",
    "#         candidates = []\n",
    "#         for AID in AIDs:\n",
    "#             if AID in next_AIDs: candidates += [aid for aid, count in next_AIDs[AID].most_common(20)]\n",
    "#         AIDs += [AID for AID, cnt in Counter(candidates).most_common(40) if AID not in AIDs]\n",
    "        \n",
    "#         labels.append(AIDs[:20])\n",
    "#         if candidates == []: no_data += 1\n",
    "#         if AIDs_len_start == len(AIDs): no_data_all_aids += 1\n",
    "\n",
    "# # >>> outputting results to CSV\n",
    "\n",
    "# labels_as_strings = [' '.join([str(l) for l in lls]) for lls in labels]\n",
    "\n",
    "# predictions = pd.DataFrame(data={'session_type': test_session_AIDs.index, 'labels': labels_as_strings})"
   ]
  },
  {
   "cell_type": "code",
   "execution_count": null,
   "metadata": {},
   "outputs": [],
   "source": [
    "# pp(len(test_session_AIDs.index), len(labels_as_strings))"
   ]
  },
  {
   "cell_type": "code",
   "execution_count": null,
   "metadata": {},
   "outputs": [],
   "source": [
    "# predictions\n",
    "# prediction_dfs = []\n",
    "\n",
    "# for st in session_types:\n",
    "#     modified_predictions = predictions.copy()\n",
    "#     modified_predictions.session_type = modified_predictions.session_type.astype('str') + f'_{st}'\n",
    "#     prediction_dfs.append(modified_predictions)\n",
    "\n",
    "# submission = pd.concat(prediction_dfs).reset_index(drop=True)\n",
    "# submission.to_csv('submission.csv', index=False)\n",
    "\n",
    "# print(f'Test sessions that we did not manage to extend based on the co-visitation matrix: {no_data_all_aids}')"
   ]
  },
  {
   "cell_type": "code",
   "execution_count": null,
   "metadata": {},
   "outputs": [],
   "source": []
  }
 ],
 "metadata": {
  "kernelspec": {
   "display_name": "Python 3 (ipykernel)",
   "language": "python",
   "name": "python3"
  }
 },
 "nbformat": 4,
 "nbformat_minor": 4
}
