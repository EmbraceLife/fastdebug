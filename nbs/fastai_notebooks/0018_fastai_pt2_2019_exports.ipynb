{
 "cells": [
  {
   "cell_type": "markdown",
   "id": "ea259382",
   "metadata": {},
   "source": [
    "# 0018_fastai_pt2_2019_exports"
   ]
  },
  {
   "cell_type": "raw",
   "id": "9bca465f",
   "metadata": {
    "lines_to_next_cell": 0
   },
   "source": [
    "---\n",
    "skip_exec: true\n",
    "---"
   ]
  },
  {
   "cell_type": "markdown",
   "id": "d1899dc9",
   "metadata": {},
   "source": []
  },
  {
   "cell_type": "markdown",
   "id": "605d038e",
   "metadata": {},
   "source": [
    "### [28:09](https://youtu.be/4u8FxNEDUeg?list=PLfYUBJiXbdtTIdtE1U8qgyxo4Jy2Y91uj&t=1689) - how to build a library with jupyter notebook with export and notebook2script.py (fastforward to 2022, we use `#| export`, `nbdev_export`, `#| default_exp`) Jupyter [notebook](https://nbviewer.org/github/fastai/course-v3/blob/7fceebfd14d4f3bc7e0ec649834309b8cb786e40/nbs/dl2/00_exports.ipynb) is just a json data file\n",
    "\n"
   ]
  },
  {
   "cell_type": "code",
   "execution_count": null,
   "id": "7eb0c55c",
   "metadata": {},
   "outputs": [],
   "source": [
    "#export\n",
    "TEST = 'test'"
   ]
  },
  {
   "cell_type": "markdown",
   "id": "e11189f7",
   "metadata": {},
   "source": [
    "Export"
   ]
  },
  {
   "cell_type": "code",
   "execution_count": null,
   "id": "59e22c78",
   "metadata": {},
   "outputs": [],
   "source": [
    "!python notebook2script.py 00_exports.ipynb"
   ]
  },
  {
   "cell_type": "markdown",
   "id": "a7c07b03",
   "metadata": {},
   "source": [
    "How it works:"
   ]
  },
  {
   "cell_type": "code",
   "execution_count": null,
   "id": "67cb4d4d",
   "metadata": {},
   "outputs": [],
   "source": [
    "import json\n",
    "d = json.load(open('00_exports.ipynb','r'))['cells']"
   ]
  },
  {
   "cell_type": "code",
   "execution_count": null,
   "id": "ca81ebf3",
   "metadata": {
    "lines_to_next_cell": 0
   },
   "outputs": [],
   "source": [
    "d[0]"
   ]
  },
  {
   "cell_type": "markdown",
   "id": "6c2e004a",
   "metadata": {},
   "source": [
    "\n"
   ]
  }
 ],
 "metadata": {
  "kernelspec": {
   "display_name": "Python 3 (ipykernel)",
   "language": "python",
   "name": "python3"
  }
 },
 "nbformat": 4,
 "nbformat_minor": 5
}
