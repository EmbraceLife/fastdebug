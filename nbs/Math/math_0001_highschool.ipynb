{
 "cells": [
  {
   "cell_type": "markdown",
   "id": "0ffb2be2",
   "metadata": {},
   "source": [
    "# High school math"
   ]
  },
  {
   "cell_type": "raw",
   "id": "efcad42f",
   "metadata": {},
   "source": [
    "---\n",
    "skip_exec: true\n",
    "---"
   ]
  },
  {
   "cell_type": "code",
   "execution_count": null,
   "id": "bc7e5621",
   "metadata": {},
   "outputs": [
    {
     "data": {
      "text/html": [
       "<style>.container { width:100% !important; }</style>"
      ],
      "text/plain": [
       "<IPython.core.display.HTML object>"
      ]
     },
     "metadata": {},
     "output_type": "display_data"
    }
   ],
   "source": [
    "from fastdebug.utils import *"
   ]
  },
  {
   "cell_type": "markdown",
   "id": "221887fd",
   "metadata": {},
   "source": [
    "## Sympy"
   ]
  },
  {
   "cell_type": "markdown",
   "id": "5ff1dbeb",
   "metadata": {},
   "source": [
    "### Symbol, x.name"
   ]
  },
  {
   "cell_type": "code",
   "execution_count": null,
   "id": "38562296",
   "metadata": {},
   "outputs": [],
   "source": [
    "from sympy import Symbol"
   ]
  },
  {
   "cell_type": "code",
   "execution_count": null,
   "id": "3501c561",
   "metadata": {},
   "outputs": [],
   "source": [
    "x = Symbol('x')"
   ]
  },
  {
   "cell_type": "code",
   "execution_count": null,
   "id": "3f73090a",
   "metadata": {},
   "outputs": [
    {
     "data": {
      "text/latex": [
       "$\\displaystyle x$"
      ],
      "text/plain": [
       "x"
      ]
     },
     "execution_count": null,
     "metadata": {},
     "output_type": "execute_result"
    }
   ],
   "source": [
    "x"
   ]
  },
  {
   "cell_type": "code",
   "execution_count": null,
   "id": "455abbaa",
   "metadata": {},
   "outputs": [
    {
     "data": {
      "text/latex": [
       "$\\displaystyle 2 x + 1$"
      ],
      "text/plain": [
       "2*x + 1"
      ]
     },
     "execution_count": null,
     "metadata": {},
     "output_type": "execute_result"
    }
   ],
   "source": [
    "x + x + 1"
   ]
  },
  {
   "cell_type": "code",
   "execution_count": null,
   "id": "152d5346",
   "metadata": {},
   "outputs": [
    {
     "data": {
      "text/latex": [
       "$\\displaystyle 2 x + 1$"
      ],
      "text/plain": [
       "2*x + 1"
      ]
     },
     "execution_count": null,
     "metadata": {},
     "output_type": "execute_result"
    }
   ],
   "source": [
    "a = Symbol('x')\n",
    "a + a + 1"
   ]
  },
  {
   "cell_type": "code",
   "execution_count": null,
   "id": "a9cc8ec0",
   "metadata": {},
   "outputs": [
    {
     "data": {
      "text/plain": [
       "'x'"
      ]
     },
     "execution_count": null,
     "metadata": {},
     "output_type": "execute_result"
    },
    {
     "data": {
      "text/plain": [
       "'x'"
      ]
     },
     "execution_count": null,
     "metadata": {},
     "output_type": "execute_result"
    }
   ],
   "source": [
    "x.name\n",
    "a.name"
   ]
  },
  {
   "cell_type": "markdown",
   "id": "8d9aec29",
   "metadata": {},
   "source": [
    "### symbols"
   ]
  },
  {
   "cell_type": "code",
   "execution_count": null,
   "id": "962da74a",
   "metadata": {},
   "outputs": [],
   "source": [
    "from sympy import symbols"
   ]
  },
  {
   "cell_type": "code",
   "execution_count": null,
   "id": "67921984",
   "metadata": {},
   "outputs": [],
   "source": [
    "x, y, z = symbols(\"x,y,z\")"
   ]
  },
  {
   "cell_type": "code",
   "execution_count": null,
   "id": "5f5f3913",
   "metadata": {},
   "outputs": [
    {
     "data": {
      "text/latex": [
       "$\\displaystyle x$"
      ],
      "text/plain": [
       "x"
      ]
     },
     "execution_count": null,
     "metadata": {},
     "output_type": "execute_result"
    },
    {
     "data": {
      "text/latex": [
       "$\\displaystyle y$"
      ],
      "text/plain": [
       "y"
      ]
     },
     "execution_count": null,
     "metadata": {},
     "output_type": "execute_result"
    },
    {
     "data": {
      "text/latex": [
       "$\\displaystyle z$"
      ],
      "text/plain": [
       "z"
      ]
     },
     "execution_count": null,
     "metadata": {},
     "output_type": "execute_result"
    }
   ],
   "source": [
    "x\n",
    "y\n",
    "z"
   ]
  },
  {
   "cell_type": "markdown",
   "id": "c7ec38ee",
   "metadata": {},
   "source": [
    "### basic ops"
   ]
  },
  {
   "cell_type": "code",
   "execution_count": null,
   "id": "f1004c9f",
   "metadata": {},
   "outputs": [
    {
     "data": {
      "text/latex": [
       "$\\displaystyle 2 x y$"
      ],
      "text/plain": [
       "2*x*y"
      ]
     },
     "execution_count": null,
     "metadata": {},
     "output_type": "execute_result"
    }
   ],
   "source": [
    "x*y + x*y"
   ]
  },
  {
   "cell_type": "code",
   "execution_count": null,
   "id": "0fa366a7",
   "metadata": {},
   "outputs": [
    {
     "data": {
      "text/latex": [
       "$\\displaystyle 4$"
      ],
      "text/plain": [
       "4"
      ]
     },
     "execution_count": null,
     "metadata": {},
     "output_type": "execute_result"
    }
   ],
   "source": [
    "(x*y + x*y).subs({'x':1, 'y':2})"
   ]
  },
  {
   "cell_type": "code",
   "execution_count": null,
   "id": "42243d8a",
   "metadata": {},
   "outputs": [
    {
     "data": {
      "text/latex": [
       "$\\displaystyle \\frac{x}{z}$"
      ],
      "text/plain": [
       "x/z"
      ]
     },
     "execution_count": null,
     "metadata": {},
     "output_type": "execute_result"
    },
    {
     "data": {
      "text/latex": [
       "$\\displaystyle \\frac{5}{3}$"
      ],
      "text/plain": [
       "5/3"
      ]
     },
     "execution_count": null,
     "metadata": {},
     "output_type": "execute_result"
    },
    {
     "data": {
      "text/latex": [
       "$\\displaystyle 1.66666666666667$"
      ],
      "text/plain": [
       "1.66666666666667"
      ]
     },
     "execution_count": null,
     "metadata": {},
     "output_type": "execute_result"
    }
   ],
   "source": [
    "x / z\n",
    "(x / z).subs({'x':5, 'z':3})\n",
    "(x / z).subs({'x':5.0, 'z':3})"
   ]
  },
  {
   "cell_type": "code",
   "execution_count": null,
   "id": "39d0f606",
   "metadata": {},
   "outputs": [
    {
     "data": {
      "text/latex": [
       "$\\displaystyle \\left\\lfloor{\\frac{x}{z}}\\right\\rfloor$"
      ],
      "text/plain": [
       "floor(x/z)"
      ]
     },
     "execution_count": null,
     "metadata": {},
     "output_type": "execute_result"
    },
    {
     "data": {
      "text/latex": [
       "$\\displaystyle 1$"
      ],
      "text/plain": [
       "1"
      ]
     },
     "execution_count": null,
     "metadata": {},
     "output_type": "execute_result"
    }
   ],
   "source": [
    "x // z  # floor division\n",
    "(x // z).subs({'x':5., 'z':3})"
   ]
  },
  {
   "cell_type": "code",
   "execution_count": null,
   "id": "664ea44d",
   "metadata": {},
   "outputs": [
    {
     "data": {
      "text/latex": [
       "$\\displaystyle x \\bmod z$"
      ],
      "text/plain": [
       "Mod(x, z)"
      ]
     },
     "execution_count": null,
     "metadata": {},
     "output_type": "execute_result"
    },
    {
     "data": {
      "text/latex": [
       "$\\displaystyle 2.0$"
      ],
      "text/plain": [
       "2.00000000000000"
      ]
     },
     "execution_count": null,
     "metadata": {},
     "output_type": "execute_result"
    }
   ],
   "source": [
    "x % z  # modulo operator\n",
    "(x % z).subs({'x':5., 'z':3})"
   ]
  },
  {
   "cell_type": "code",
   "execution_count": null,
   "id": "fa452fe7",
   "metadata": {},
   "outputs": [
    {
     "data": {
      "text/latex": [
       "$\\displaystyle y^{z}$"
      ],
      "text/plain": [
       "y**z"
      ]
     },
     "execution_count": null,
     "metadata": {},
     "output_type": "execute_result"
    }
   ],
   "source": [
    "y ** z"
   ]
  },
  {
   "cell_type": "code",
   "execution_count": null,
   "id": "81205a9f",
   "metadata": {},
   "outputs": [
    {
     "data": {
      "text/latex": [
       "$\\displaystyle 2 x^{2}$"
      ],
      "text/plain": [
       "2*x**2"
      ]
     },
     "execution_count": null,
     "metadata": {},
     "output_type": "execute_result"
    }
   ],
   "source": [
    "p = x*(x + x)\n",
    "p"
   ]
  },
  {
   "cell_type": "markdown",
   "id": "22b0fb88",
   "metadata": {},
   "source": [
    "### more complex expressions"
   ]
  },
  {
   "cell_type": "code",
   "execution_count": null,
   "id": "363dfb6f",
   "metadata": {},
   "outputs": [
    {
     "data": {
      "text/latex": [
       "$\\displaystyle \\left(x + 2\\right) \\left(x + 3\\right)$"
      ],
      "text/plain": [
       "(x + 2)*(x + 3)"
      ]
     },
     "execution_count": null,
     "metadata": {},
     "output_type": "execute_result"
    }
   ],
   "source": [
    "p = (x + 2)*(x + 3)\n",
    "p"
   ]
  },
  {
   "cell_type": "code",
   "execution_count": null,
   "id": "b126625a",
   "metadata": {},
   "outputs": [
    {
     "data": {
      "text/latex": [
       "$\\displaystyle x^{2} + 5 x + 6$"
      ],
      "text/plain": [
       "x**2 + 5*x + 6"
      ]
     },
     "execution_count": null,
     "metadata": {},
     "output_type": "execute_result"
    }
   ],
   "source": [
    "p.expand()"
   ]
  },
  {
   "cell_type": "markdown",
   "id": "0d2fb87c",
   "metadata": {},
   "source": [
    "### factor and expand"
   ]
  },
  {
   "cell_type": "code",
   "execution_count": null,
   "id": "01f127d5",
   "metadata": {},
   "outputs": [],
   "source": [
    "from sympy import Symbol"
   ]
  },
  {
   "cell_type": "code",
   "execution_count": null,
   "id": "8bf9dd06",
   "metadata": {},
   "outputs": [],
   "source": [
    "x = Symbol('x')"
   ]
  },
  {
   "cell_type": "code",
   "execution_count": null,
   "id": "3bb9fb02",
   "metadata": {},
   "outputs": [],
   "source": [
    "y = Symbol('y')"
   ]
  },
  {
   "cell_type": "code",
   "execution_count": null,
   "id": "49df22df",
   "metadata": {},
   "outputs": [],
   "source": [
    "from sympy import factor"
   ]
  },
  {
   "cell_type": "code",
   "execution_count": null,
   "id": "4f9e6bd8",
   "metadata": {},
   "outputs": [],
   "source": [
    "expr = x**2 - y**2"
   ]
  },
  {
   "cell_type": "code",
   "execution_count": null,
   "id": "95783aa5",
   "metadata": {},
   "outputs": [
    {
     "data": {
      "text/latex": [
       "$\\displaystyle x^{2} - y^{2}$"
      ],
      "text/plain": [
       "x**2 - y**2"
      ]
     },
     "execution_count": null,
     "metadata": {},
     "output_type": "execute_result"
    }
   ],
   "source": [
    "expr"
   ]
  },
  {
   "cell_type": "code",
   "execution_count": null,
   "id": "2a268b15",
   "metadata": {},
   "outputs": [
    {
     "data": {
      "text/latex": [
       "$\\displaystyle x^{2} - y^{2}$"
      ],
      "text/plain": [
       "x**2 - y**2"
      ]
     },
     "execution_count": null,
     "metadata": {},
     "output_type": "execute_result"
    }
   ],
   "source": [
    "expr.expand()"
   ]
  },
  {
   "cell_type": "code",
   "execution_count": null,
   "id": "4b4fa223",
   "metadata": {},
   "outputs": [
    {
     "data": {
      "text/latex": [
       "$\\displaystyle \\left(x - y\\right) \\left(x + y\\right)$"
      ],
      "text/plain": [
       "(x - y)*(x + y)"
      ]
     },
     "execution_count": null,
     "metadata": {},
     "output_type": "execute_result"
    }
   ],
   "source": [
    "expr.factor()"
   ]
  },
  {
   "cell_type": "code",
   "execution_count": null,
   "id": "48594598",
   "metadata": {},
   "outputs": [
    {
     "data": {
      "text/latex": [
       "$\\displaystyle x^{2} - y^{2}$"
      ],
      "text/plain": [
       "x**2 - y**2"
      ]
     },
     "execution_count": null,
     "metadata": {},
     "output_type": "execute_result"
    }
   ],
   "source": [
    "expr.factor().expand()"
   ]
  },
  {
   "cell_type": "code",
   "execution_count": null,
   "id": "56b9c30c",
   "metadata": {},
   "outputs": [
    {
     "data": {
      "text/latex": [
       "$\\displaystyle x^{3} + 3 x^{2} y + 3 x y^{2} + y^{3}$"
      ],
      "text/plain": [
       "x**3 + 3*x**2*y + 3*x*y**2 + y**3"
      ]
     },
     "execution_count": null,
     "metadata": {},
     "output_type": "execute_result"
    }
   ],
   "source": [
    "expr = x**3 + 3*x**2*y + 3*x*y**2 + y**3\n",
    "expr"
   ]
  },
  {
   "cell_type": "code",
   "execution_count": null,
   "id": "7fa229c2",
   "metadata": {},
   "outputs": [
    {
     "data": {
      "text/latex": [
       "$\\displaystyle \\left(x + y\\right)^{3}$"
      ],
      "text/plain": [
       "(x + y)**3"
      ]
     },
     "execution_count": null,
     "metadata": {},
     "output_type": "execute_result"
    }
   ],
   "source": [
    "expr.factor()"
   ]
  },
  {
   "cell_type": "code",
   "execution_count": null,
   "id": "8de2463b",
   "metadata": {},
   "outputs": [
    {
     "data": {
      "text/latex": [
       "$\\displaystyle x^{3} + 3 x^{2} y + 3 x y^{2} + y^{3}$"
      ],
      "text/plain": [
       "x**3 + 3*x**2*y + 3*x*y**2 + y**3"
      ]
     },
     "execution_count": null,
     "metadata": {},
     "output_type": "execute_result"
    }
   ],
   "source": [
    "expr.factor().expand()"
   ]
  },
  {
   "cell_type": "code",
   "execution_count": null,
   "id": "f58d3296",
   "metadata": {},
   "outputs": [],
   "source": [
    "expr = x + y + x*y # can't be factored"
   ]
  },
  {
   "cell_type": "code",
   "execution_count": null,
   "id": "22975f37",
   "metadata": {},
   "outputs": [
    {
     "data": {
      "text/latex": [
       "$\\displaystyle x y + x + y$"
      ],
      "text/plain": [
       "x*y + x + y"
      ]
     },
     "execution_count": null,
     "metadata": {},
     "output_type": "execute_result"
    }
   ],
   "source": [
    "expr.factor()"
   ]
  },
  {
   "cell_type": "markdown",
   "id": "e48610a2",
   "metadata": {},
   "source": [
    "### pprint, init_printing"
   ]
  },
  {
   "cell_type": "code",
   "execution_count": null,
   "id": "8ef7c53e",
   "metadata": {},
   "outputs": [],
   "source": [
    "expr = x*x + 2*x*y + y*y"
   ]
  },
  {
   "cell_type": "code",
   "execution_count": null,
   "id": "ee89f9fd",
   "metadata": {},
   "outputs": [],
   "source": [
    "from sympy import pprint"
   ]
  },
  {
   "cell_type": "code",
   "execution_count": null,
   "id": "3d4144b7",
   "metadata": {},
   "outputs": [
    {
     "name": "stdout",
     "output_type": "stream",
     "text": [
      " 2            2\n",
      "x  + 2⋅x⋅y + y \n"
     ]
    }
   ],
   "source": [
    "pprint(expr)"
   ]
  },
  {
   "cell_type": "code",
   "execution_count": null,
   "id": "50de9eba",
   "metadata": {},
   "outputs": [
    {
     "name": "stdout",
     "output_type": "stream",
     "text": [
      "   2          \n",
      "2⋅x  + 2⋅x + 1\n"
     ]
    }
   ],
   "source": [
    "expr = 1 + 2*x + 2*x**2\n",
    "pprint(expr)"
   ]
  },
  {
   "cell_type": "code",
   "execution_count": null,
   "id": "50595659",
   "metadata": {},
   "outputs": [],
   "source": [
    "from sympy import init_printing"
   ]
  },
  {
   "cell_type": "code",
   "execution_count": null,
   "id": "fd6ffbbe",
   "metadata": {},
   "outputs": [
    {
     "name": "stdout",
     "output_type": "stream",
     "text": [
      "             2\n",
      "1 + 2⋅x + 2⋅x \n"
     ]
    }
   ],
   "source": [
    "init_printing(order='rev-lex') \n",
    "pprint(expr)"
   ]
  },
  {
   "cell_type": "markdown",
   "id": "5b8d972f",
   "metadata": {},
   "source": [
    "### expr.subs({x:1})"
   ]
  },
  {
   "cell_type": "code",
   "execution_count": null,
   "id": "59942223",
   "metadata": {},
   "outputs": [
    {
     "data": {
      "image/png": "[encoded data removed]",
      "text/latex": [
       "$\\displaystyle 5$"
      ],
      "text/plain": [
       "5"
      ]
     },
     "execution_count": null,
     "metadata": {},
     "output_type": "execute_result"
    },
    {
     "data": {
      "image/png": "[encoded data removed]",
      "text/latex": [
       "$\\displaystyle 13$"
      ],
      "text/plain": [
       "13"
      ]
     },
     "execution_count": null,
     "metadata": {},
     "output_type": "execute_result"
    }
   ],
   "source": [
    "expr.subs({x:1})\n",
    "expr.subs({x:2})"
   ]
  },
  {
   "cell_type": "code",
   "execution_count": null,
   "id": "eac57f33",
   "metadata": {},
   "outputs": [
    {
     "data": {
      "image/png": "[encoded data removed]",
      "text/latex": [
       "$\\displaystyle y^{2} + 2 x y + x^{2}$"
      ],
      "text/plain": [
       " 2            2\n",
       "y  + 2⋅x⋅y + x "
      ]
     },
     "execution_count": null,
     "metadata": {},
     "output_type": "execute_result"
    }
   ],
   "source": [
    "expr = x*x + x*y + x*y + y*y\n",
    "expr"
   ]
  },
  {
   "cell_type": "code",
   "execution_count": null,
   "id": "dccb4101",
   "metadata": {},
   "outputs": [
    {
     "data": {
      "image/png": "[encoded data removed]",
      "text/latex": [
       "$\\displaystyle 9$"
      ],
      "text/plain": [
       "9"
      ]
     },
     "execution_count": null,
     "metadata": {},
     "output_type": "execute_result"
    }
   ],
   "source": [
    "expr.subs({x:1, y:2})"
   ]
  },
  {
   "cell_type": "code",
   "execution_count": null,
   "id": "33f1c366",
   "metadata": {},
   "outputs": [
    {
     "data": {
      "image/png": "[encoded data removed]",
      "text/latex": [
       "$\\displaystyle \\left(1 - y\\right)^{2} + 2 y \\left(1 - y\\right) + y^{2}$"
      ],
      "text/plain": [
       "       2                  2\n",
       "(1 - y)  + 2⋅y⋅(1 - y) + y "
      ]
     },
     "execution_count": null,
     "metadata": {},
     "output_type": "execute_result"
    }
   ],
   "source": [
    "expr.subs({x:1-y})"
   ]
  },
  {
   "cell_type": "code",
   "execution_count": null,
   "id": "150d6649",
   "metadata": {},
   "outputs": [
    {
     "data": {
      "image/png": "[encoded data removed]",
      "text/latex": [
       "$\\displaystyle 1$"
      ],
      "text/plain": [
       "1"
      ]
     },
     "execution_count": null,
     "metadata": {},
     "output_type": "execute_result"
    }
   ],
   "source": [
    "expr.subs({x:1-y}).factor()"
   ]
  },
  {
   "cell_type": "markdown",
   "id": "9570b73b",
   "metadata": {},
   "source": [
    "### simplify"
   ]
  },
  {
   "cell_type": "code",
   "execution_count": null,
   "id": "4349f3fd",
   "metadata": {},
   "outputs": [],
   "source": [
    "from sympy import simplify"
   ]
  },
  {
   "cell_type": "code",
   "execution_count": null,
   "id": "1eb8b8f4",
   "metadata": {},
   "outputs": [
    {
     "data": {
      "image/png": "[encoded data removed]",
      "text/latex": [
       "$\\displaystyle \\left(1 - y\\right)^{2} + 2 y \\left(1 - y\\right) + y^{2}$"
      ],
      "text/plain": [
       "       2                  2\n",
       "(1 - y)  + 2⋅y⋅(1 - y) + y "
      ]
     },
     "execution_count": null,
     "metadata": {},
     "output_type": "execute_result"
    }
   ],
   "source": [
    "cancelout = expr.subs({x:1-y})\n",
    "cancelout"
   ]
  },
  {
   "cell_type": "code",
   "execution_count": null,
   "id": "68595139",
   "metadata": {},
   "outputs": [
    {
     "data": {
      "image/png": "[encoded data removed]",
      "text/latex": [
       "$\\displaystyle 1$"
      ],
      "text/plain": [
       "1"
      ]
     },
     "execution_count": null,
     "metadata": {},
     "output_type": "execute_result"
    }
   ],
   "source": [
    "cancelout.factor()"
   ]
  },
  {
   "cell_type": "code",
   "execution_count": null,
   "id": "08dadacd",
   "metadata": {},
   "outputs": [
    {
     "data": {
      "image/png": "[encoded data removed]",
      "text/latex": [
       "$\\displaystyle 1$"
      ],
      "text/plain": [
       "1"
      ]
     },
     "execution_count": null,
     "metadata": {},
     "output_type": "execute_result"
    }
   ],
   "source": [
    "simplify(cancelout)"
   ]
  },
  {
   "cell_type": "markdown",
   "id": "e0bb69b8",
   "metadata": {},
   "source": [
    "### "
   ]
  },
  {
   "cell_type": "code",
   "execution_count": null,
   "id": "7bfb4852",
   "metadata": {},
   "outputs": [],
   "source": [
    "from sympy import Symbol, pprint, init_printing"
   ]
  },
  {
   "cell_type": "code",
   "execution_count": null,
   "id": "c31210f5",
   "metadata": {},
   "outputs": [],
   "source": [
    "def print_series(n, x_value):\n",
    "    # Initialize printing system with reverse order\n",
    "    init_printing(order='rev-lex')\n",
    "    x = Symbol('x')\n",
    "    series = x\n",
    "    for i in range(2, n+1):\n",
    "        series = series + (x**i)/i\n",
    "    pprint(series)\n",
    "        # Evaluate the series at x_value\n",
    "    series_value = series.subs({x:x_value})\n",
    "    print('Value of the series at {0}: {1}'.format(x_value, series_value))"
   ]
  },
  {
   "cell_type": "code",
   "execution_count": null,
   "id": "1f2e81bc",
   "metadata": {},
   "outputs": [
    {
     "name": "stdout",
     "output_type": "stream",
     "text": [
      "     2    3    4    5\n",
      "    x    x    x    x \n",
      "x + ── + ── + ── + ──\n",
      "    2    3    4    5 \n",
      "Value of the series at 1.2: 3.51206400000000\n"
     ]
    }
   ],
   "source": [
    "print_series(5, 1.2)"
   ]
  },
  {
   "cell_type": "markdown",
   "id": "6908fc18",
   "metadata": {},
   "source": [
    "### sympify"
   ]
  },
  {
   "cell_type": "code",
   "execution_count": null,
   "id": "30e3785c",
   "metadata": {},
   "outputs": [],
   "source": [
    "from sympy import sympify"
   ]
  },
  {
   "cell_type": "code",
   "execution_count": null,
   "id": "bef98248",
   "metadata": {},
   "outputs": [],
   "source": [
    "expr = \"g**2 + 3*g + g**3 + 2*g\""
   ]
  },
  {
   "cell_type": "code",
   "execution_count": null,
   "id": "a2b5ef95",
   "metadata": {},
   "outputs": [
    {
     "data": {
      "image/png": "[encoded data removed]",
      "text/latex": [
       "$\\displaystyle 5 g + g^{2} + g^{3}$"
      ],
      "text/plain": [
       "       2    3\n",
       "5⋅g + g  + g "
      ]
     },
     "execution_count": null,
     "metadata": {},
     "output_type": "execute_result"
    }
   ],
   "source": [
    "expr = sympify(expr)\n",
    "expr"
   ]
  },
  {
   "cell_type": "code",
   "execution_count": null,
   "id": "bbaa1ee4",
   "metadata": {},
   "outputs": [
    {
     "data": {
      "image/png": "[encoded data removed]",
      "text/latex": [
       "$\\displaystyle 10 g + 2 g^{2} + 2 g^{3}$"
      ],
      "text/plain": [
       "          2      3\n",
       "10⋅g + 2⋅g  + 2⋅g "
      ]
     },
     "execution_count": null,
     "metadata": {},
     "output_type": "execute_result"
    }
   ],
   "source": [
    "2*expr"
   ]
  },
  {
   "cell_type": "markdown",
   "id": "383e8464",
   "metadata": {},
   "source": [
    "### SympifyError"
   ]
  },
  {
   "cell_type": "code",
   "execution_count": null,
   "id": "ad2b8735",
   "metadata": {},
   "outputs": [],
   "source": [
    "from sympy.core.sympify import SympifyError"
   ]
  },
  {
   "cell_type": "code",
   "execution_count": null,
   "id": "7c9e4d6f",
   "metadata": {},
   "outputs": [],
   "source": [
    "expr = \"x**2 + 3*x + x**3 + 2x\""
   ]
  },
  {
   "cell_type": "code",
   "execution_count": null,
   "id": "f8b5c547",
   "metadata": {},
   "outputs": [
    {
     "name": "stdout",
     "output_type": "stream",
     "text": [
      "Invalid input\n"
     ]
    }
   ],
   "source": [
    "try:\n",
    "    expr = sympify(expr)\n",
    "except SympifyError:\n",
    "    print('Invalid input')"
   ]
  },
  {
   "cell_type": "code",
   "execution_count": null,
   "id": "c46f93bc",
   "metadata": {},
   "outputs": [],
   "source": []
  },
  {
   "cell_type": "code",
   "execution_count": null,
   "id": "689bf8f2",
   "metadata": {},
   "outputs": [],
   "source": []
  },
  {
   "cell_type": "markdown",
   "id": "71b71c07",
   "metadata": {},
   "source": [
    "### print_series"
   ]
  },
  {
   "cell_type": "code",
   "execution_count": null,
   "id": "b90f6f7e",
   "metadata": {},
   "outputs": [],
   "source": [
    "from sympy import Symbol, pprint, init_printing"
   ]
  },
  {
   "cell_type": "code",
   "execution_count": null,
   "id": "9432e94c",
   "metadata": {},
   "outputs": [
    {
     "data": {
      "image/png": "[encoded data removed]",
      "text/latex": [
       "$\\displaystyle \\left[ 2, \\  3, \\  4\\right]$"
      ],
      "text/plain": [
       "[2, 3, 4]"
      ]
     },
     "execution_count": null,
     "metadata": {},
     "output_type": "execute_result"
    }
   ],
   "source": [
    "[i for i in range(2, 5)]"
   ]
  },
  {
   "cell_type": "code",
   "execution_count": null,
   "id": "4533d23c",
   "metadata": {},
   "outputs": [],
   "source": [
    "def print_series(n):\n",
    "    # Initialize printing system with reverse order\n",
    "    init_printing(order='rev-lex')\n",
    "    x = Symbol('x')\n",
    "    series = x\n",
    "    for i in range(2, n+1):\n",
    "        pprint(series)\n",
    "        series = series + (x**i)/i\n",
    "    pprint(series)\n",
    "    return series"
   ]
  },
  {
   "cell_type": "code",
   "execution_count": null,
   "id": "49992565",
   "metadata": {},
   "outputs": [
    {
     "name": "stdout",
     "output_type": "stream",
     "text": [
      "x\n",
      "     2\n",
      "    x \n",
      "x + ──\n",
      "    2 \n",
      "     2    3\n",
      "    x    x \n",
      "x + ── + ──\n",
      "    2    3 \n",
      "     2    3    4\n",
      "    x    x    x \n",
      "x + ── + ── + ──\n",
      "    2    3    4 \n",
      "     2    3    4    5\n",
      "    x    x    x    x \n",
      "x + ── + ── + ── + ──\n",
      "    2    3    4    5 \n"
     ]
    },
    {
     "data": {
      "image/png": "[encoded data removed]",
      "text/latex": [
       "$\\displaystyle x + \\frac{x^{2}}{2} + \\frac{x^{3}}{3} + \\frac{x^{4}}{4} + \\frac{x^{5}}{5}$"
      ],
      "text/plain": [
       "     2    3    4    5\n",
       "    x    x    x    x \n",
       "x + ── + ── + ── + ──\n",
       "    2    3    4    5 "
      ]
     },
     "execution_count": null,
     "metadata": {},
     "output_type": "execute_result"
    }
   ],
   "source": [
    "expr = print_series(5)\n",
    "expr"
   ]
  },
  {
   "cell_type": "code",
   "execution_count": null,
   "id": "9cd96c7b",
   "metadata": {},
   "outputs": [
    {
     "data": {
      "image/png": "[encoded data removed]",
      "text/latex": [
       "$\\displaystyle \\frac{137}{60}$"
      ],
      "text/plain": [
       "137\n",
       "───\n",
       " 60"
      ]
     },
     "execution_count": null,
     "metadata": {},
     "output_type": "execute_result"
    },
    {
     "data": {
      "image/png": "[encoded data removed]",
      "text/latex": [
       "$\\displaystyle \\frac{256}{15}$"
      ],
      "text/plain": [
       "256\n",
       "───\n",
       " 15"
      ]
     },
     "execution_count": null,
     "metadata": {},
     "output_type": "execute_result"
    }
   ],
   "source": [
    "expr.subs({x:1})\n",
    "expr.subs({x:2})"
   ]
  },
  {
   "cell_type": "code",
   "execution_count": null,
   "id": "1b0c3a14",
   "metadata": {},
   "outputs": [],
   "source": []
  },
  {
   "cell_type": "markdown",
   "id": "728d598b",
   "metadata": {},
   "source": [
    "### multiple expressions"
   ]
  },
  {
   "cell_type": "code",
   "execution_count": null,
   "id": "ae9d0d1d",
   "metadata": {},
   "outputs": [],
   "source": [
    "from sympy import expand, sympify, pprint\n",
    "from sympy.core.sympify import SympifyError\n",
    "def product(expr1, expr2):\n",
    "    try:\n",
    "        expr1 = sympify(expr1)\n",
    "        expr2 = sympify(expr2)\n",
    "        pprint(expr1)\n",
    "        pprint(expr2)\n",
    "    except SympifyError:\n",
    "        print(\"Invalid input\")\n",
    "    else: \n",
    "        prod = expand(expr1*expr2)\n",
    "        pprint(prod)"
   ]
  },
  {
   "cell_type": "code",
   "execution_count": null,
   "id": "1b85413e",
   "metadata": {},
   "outputs": [],
   "source": [
    "expr1 = \"x**2 + 4*x\"\n",
    "expr2 = \"y**(1/2) + 3*y\""
   ]
  },
  {
   "cell_type": "code",
   "execution_count": null,
   "id": "b69be437",
   "metadata": {},
   "outputs": [
    {
     "name": "stdout",
     "output_type": "stream",
     "text": [
      "       2\n",
      "4⋅x + x \n",
      "3⋅y + √y\n",
      "                     2      2   \n",
      "12⋅x⋅y + 4⋅x⋅√y + 3⋅x ⋅y + x ⋅√y\n"
     ]
    }
   ],
   "source": [
    "product(expr1, expr2)"
   ]
  },
  {
   "cell_type": "markdown",
   "id": "c980548b",
   "metadata": {},
   "source": [
    "### `__name == __main__` and input()"
   ]
  },
  {
   "cell_type": "code",
   "execution_count": null,
   "id": "cf88e06a",
   "metadata": {},
   "outputs": [],
   "source": [
    "# if __name__=='__main__':\n",
    "#     expr1 = input('Enter the first expression: ')\n",
    "#     expr2 = input('Enter the second expression: ')"
   ]
  },
  {
   "cell_type": "code",
   "execution_count": null,
   "id": "595903a4",
   "metadata": {},
   "outputs": [],
   "source": []
  },
  {
   "cell_type": "markdown",
   "id": "392fc144",
   "metadata": {},
   "source": [
    "### solve"
   ]
  },
  {
   "cell_type": "code",
   "execution_count": null,
   "id": "0d348f1d",
   "metadata": {},
   "outputs": [
    {
     "data": {
      "image/png": "[encoded data removed]",
      "text/latex": [
       "$\\displaystyle \\left[ 12\\right]$"
      ],
      "text/plain": [
       "[12]"
      ]
     },
     "execution_count": null,
     "metadata": {},
     "output_type": "execute_result"
    }
   ],
   "source": [
    "from sympy import Symbol, solve \n",
    "x = Symbol('x')\n",
    "# the equation in mind is x - 5 = 7\n",
    "expr = x - 5 - 7 # to solve it must make sure the other side of the expression is 0\n",
    "solve(expr)"
   ]
  },
  {
   "cell_type": "code",
   "execution_count": null,
   "id": "b24a26e3",
   "metadata": {},
   "outputs": [
    {
     "data": {
      "image/png": "[encoded data removed]",
      "text/latex": [
       "$\\displaystyle \\left[ \\left\\{ x : -4\\right\\}, \\  \\left\\{ x : -1\\right\\}\\right]$"
      ],
      "text/plain": [
       "[{x: -4}, {x: -1}]"
      ]
     },
     "execution_count": null,
     "metadata": {},
     "output_type": "execute_result"
    }
   ],
   "source": [
    "from sympy import solve\n",
    "x = Symbol('x')\n",
    "expr = x**2 + 5*x + 4 \n",
    "solve(expr, dict=True)"
   ]
  },
  {
   "cell_type": "code",
   "execution_count": null,
   "id": "262da1ca",
   "metadata": {},
   "outputs": [
    {
     "data": {
      "image/png": "[encoded data removed]",
      "text/latex": [
       "$\\displaystyle \\left[ \\left\\{ x : - \\frac{\\sqrt{3} i}{2} - \\frac{1}{2}\\right\\}, \\  \\left\\{ x : \\frac{\\sqrt{3} i}{2} - \\frac{1}{2}\\right\\}\\right]$"
      ],
      "text/plain": [
       "⎡⎧     √3⋅ⅈ   1⎫  ⎧   √3⋅ⅈ   1⎫⎤\n",
       "⎢⎨x: - ──── - ─⎬, ⎨x: ──── - ─⎬⎥\n",
       "⎣⎩      2     2⎭  ⎩    2     2⎭⎦"
      ]
     },
     "execution_count": null,
     "metadata": {},
     "output_type": "execute_result"
    }
   ],
   "source": [
    "x=Symbol('x')\n",
    "expr = x**2 + x + 1\n",
    "solve(expr, dict=True)"
   ]
  },
  {
   "cell_type": "code",
   "execution_count": null,
   "id": "09820c76",
   "metadata": {},
   "outputs": [],
   "source": []
  },
  {
   "cell_type": "markdown",
   "id": "faa84d8a",
   "metadata": {},
   "source": [
    "### solve(expr, x, dict=True)"
   ]
  },
  {
   "cell_type": "code",
   "execution_count": null,
   "id": "406358d6",
   "metadata": {},
   "outputs": [
    {
     "data": {
      "image/png": "[encoded data removed]",
      "text/latex": [
       "$\\displaystyle \\left[ \\left\\{ x : \\frac{- \\sqrt{b^{2} - 4 a c} - b}{2 a}\\right\\}, \\  \\left\\{ x : \\frac{\\sqrt{b^{2} - 4 a c} - b}{2 a}\\right\\}\\right]$"
      ],
      "text/plain": [
       "⎡⎧        ____________    ⎫  ⎧      ____________    ⎫⎤\n",
       "⎢⎪       ╱  2             ⎪  ⎪     ╱  2             ⎪⎥\n",
       "⎢⎨   - ╲╱  b  - 4⋅a⋅c  - b⎬  ⎨   ╲╱  b  - 4⋅a⋅c  - b⎬⎥\n",
       "⎢⎪x: ─────────────────────⎪, ⎪x: ───────────────────⎪⎥\n",
       "⎣⎩            2⋅a         ⎭  ⎩           2⋅a        ⎭⎦"
      ]
     },
     "execution_count": null,
     "metadata": {},
     "output_type": "execute_result"
    }
   ],
   "source": [
    "x = Symbol('x') \n",
    "a = Symbol('a') \n",
    "b = Symbol('b') \n",
    "c = Symbol('c')\n",
    "expr = a*x*x + b*x + c\n",
    "solve(expr, x, dict=True)"
   ]
  },
  {
   "cell_type": "code",
   "execution_count": null,
   "id": "316ea334",
   "metadata": {},
   "outputs": [
    {
     "name": "stdout",
     "output_type": "stream",
     "text": [
      "⎡⎧                        ______________    ⎫  ⎧                      ______________    ⎫⎤\n",
      "⎢⎪                       ╱      2           ⎪  ⎪                     ╱      2           ⎪⎥\n",
      "⎢⎨   - 1.4142135623731⋅╲╱  0.5⋅u  + a⋅s  - u⎬  ⎨   1.4142135623731⋅╲╱  0.5⋅u  + a⋅s  - u⎬⎥\n",
      "⎢⎪t: ───────────────────────────────────────⎪, ⎪t: ─────────────────────────────────────⎪⎥\n",
      "⎣⎩                      a                   ⎭  ⎩                     a                  ⎭⎦\n"
     ]
    }
   ],
   "source": [
    "from sympy import Symbol, solve, pprint \n",
    "s = Symbol('s')\n",
    "u = Symbol('u')\n",
    "t = Symbol('t')\n",
    "a = Symbol('a')\n",
    "expr = u*t + (1/2)*a*t*t - s\n",
    "t_expr = solve(expr,t, dict=True) \n",
    "pprint(t_expr)"
   ]
  },
  {
   "cell_type": "markdown",
   "id": "99e5b668",
   "metadata": {},
   "source": [
    "### Solving a System of Linear Equations"
   ]
  },
  {
   "cell_type": "code",
   "execution_count": null,
   "id": "544e39a0",
   "metadata": {},
   "outputs": [
    {
     "data": {
      "image/png": "[encoded data removed]",
      "text/latex": [
       "$\\displaystyle \\left[ \\left\\{ x : \\frac{24}{5}, \\  y : - \\frac{6}{5}\\right\\}\\right]$"
      ],
      "text/plain": [
       "[{x: 24/5, y: -6/5}]"
      ]
     },
     "execution_count": null,
     "metadata": {},
     "output_type": "execute_result"
    }
   ],
   "source": [
    "x = Symbol('x')\n",
    "y = Symbol('y')\n",
    "expr1 = 2*x + 3*y - 6 \n",
    "expr2 = 3*x + 2*y - 12\n",
    "solve((expr1, expr2), dict=True)"
   ]
  },
  {
   "cell_type": "code",
   "execution_count": null,
   "id": "a9b49277",
   "metadata": {},
   "outputs": [
    {
     "data": {
      "image/png": "[encoded data removed]",
      "text/latex": [
       "$\\displaystyle \\left\\{ x : \\frac{24}{5}, \\  y : - \\frac{6}{5}\\right\\}$"
      ],
      "text/plain": [
       "{x: 24/5, y: -6/5}"
      ]
     },
     "execution_count": null,
     "metadata": {},
     "output_type": "execute_result"
    },
    {
     "data": {
      "image/png": "[encoded data removed]",
      "text/latex": [
       "$\\displaystyle -6 + 3 y + 2 x$"
      ],
      "text/plain": [
       "-6 + 3⋅y + 2⋅x"
      ]
     },
     "execution_count": null,
     "metadata": {},
     "output_type": "execute_result"
    },
    {
     "data": {
      "image/png": "[encoded data removed]",
      "text/latex": [
       "$\\displaystyle 0$"
      ],
      "text/plain": [
       "0"
      ]
     },
     "execution_count": null,
     "metadata": {},
     "output_type": "execute_result"
    },
    {
     "data": {
      "image/png": "[encoded data removed]",
      "text/latex": [
       "$\\displaystyle -12 + 2 y + 3 x$"
      ],
      "text/plain": [
       "-12 + 2⋅y + 3⋅x"
      ]
     },
     "execution_count": null,
     "metadata": {},
     "output_type": "execute_result"
    },
    {
     "data": {
      "image/png": "[encoded data removed]",
      "text/latex": [
       "$\\displaystyle 0$"
      ],
      "text/plain": [
       "0"
      ]
     },
     "execution_count": null,
     "metadata": {},
     "output_type": "execute_result"
    }
   ],
   "source": [
    "soln = solve((expr1, expr2), dict=True) \n",
    "soln = soln[0]\n",
    "soln\n",
    "expr1\n",
    "expr1.subs({x:soln[x], y:soln[y]})\n",
    "expr2\n",
    "expr2.subs({x:soln[x], y:soln[y]})"
   ]
  },
  {
   "cell_type": "markdown",
   "id": "67c40c95",
   "metadata": {},
   "source": [
    "### plot"
   ]
  },
  {
   "cell_type": "code",
   "execution_count": null,
   "id": "f000fabe",
   "metadata": {},
   "outputs": [
    {
     "data": {
      "image/png": "[encoded data removed]",
      "text/plain": [
       "<Figure size 640x480 with 1 Axes>"
      ]
     },
     "metadata": {},
     "output_type": "display_data"
    },
    {
     "data": {
      "text/plain": [
       "<sympy.plotting.plot.Plot>"
      ]
     },
     "execution_count": null,
     "metadata": {},
     "output_type": "execute_result"
    }
   ],
   "source": [
    "from sympy.plotting import plot \n",
    "from sympy import Symbol\n",
    "x = Symbol('x')\n",
    "plot(2*x+3)"
   ]
  },
  {
   "cell_type": "code",
   "execution_count": null,
   "id": "1dc20c36",
   "metadata": {},
   "outputs": [
    {
     "data": {
      "image/png": "[encoded data removed]",
      "text/plain": [
       "<Figure size 640x480 with 1 Axes>"
      ]
     },
     "metadata": {},
     "output_type": "display_data"
    },
    {
     "data": {
      "text/plain": [
       "<sympy.plotting.plot.Plot>"
      ]
     },
     "execution_count": null,
     "metadata": {},
     "output_type": "execute_result"
    }
   ],
   "source": [
    "plot((2*x + 3), (x, -5, 5))"
   ]
  },
  {
   "cell_type": "code",
   "execution_count": null,
   "id": "e7b875f9",
   "metadata": {},
   "outputs": [
    {
     "data": {
      "image/png": "[encoded data removed]",
      "text/plain": [
       "<Figure size 640x480 with 1 Axes>"
      ]
     },
     "metadata": {},
     "output_type": "display_data"
    },
    {
     "data": {
      "text/plain": [
       "<sympy.plotting.plot.Plot>"
      ]
     },
     "execution_count": null,
     "metadata": {},
     "output_type": "execute_result"
    }
   ],
   "source": [
    "plot(2*x + 3, (x, -5, 5), title='A Line', xlabel='x', ylabel='2x+3')"
   ]
  },
  {
   "cell_type": "code",
   "execution_count": null,
   "id": "9f1829c9",
   "metadata": {},
   "outputs": [],
   "source": [
    "p = plot(2*x + 3, (x, -5, 5), title='A Line', xlabel='x', ylabel='2x+3', show=False)"
   ]
  },
  {
   "cell_type": "code",
   "execution_count": null,
   "id": "f2286dc8",
   "metadata": {},
   "outputs": [
    {
     "data": {
      "image/png": "[encoded data removed]",
      "text/plain": [
       "<Figure size 640x480 with 1 Axes>"
      ]
     },
     "metadata": {},
     "output_type": "display_data"
    }
   ],
   "source": [
    "p.save('line.png')"
   ]
  },
  {
   "cell_type": "code",
   "execution_count": null,
   "id": "c8257229",
   "metadata": {},
   "outputs": [
    {
     "data": {
      "image/png": "[encoded data removed]",
      "text/latex": [
       "$\\displaystyle \\left[ 2 - \\frac{2 x}{3}\\right]$"
      ],
      "text/plain": [
       "⎡    2⋅x⎤\n",
       "⎢2 - ───⎥\n",
       "⎣     3 ⎦"
      ]
     },
     "execution_count": null,
     "metadata": {},
     "output_type": "execute_result"
    }
   ],
   "source": [
    "# expr = input('Enter an expression: ')\n",
    "expr = \"2*x + 3*y - 6\"\n",
    "expr = sympify(expr)\n",
    "y = Symbol('y')\n",
    "solve(expr, y)"
   ]
  },
  {
   "cell_type": "code",
   "execution_count": null,
   "id": "342044d2",
   "metadata": {},
   "outputs": [
    {
     "data": {
      "image/png": "[encoded data removed]",
      "text/latex": [
       "$\\displaystyle 2 - \\frac{2 x}{3}$"
      ],
      "text/plain": [
       "    2⋅x\n",
       "2 - ───\n",
       "     3 "
      ]
     },
     "execution_count": null,
     "metadata": {},
     "output_type": "execute_result"
    }
   ],
   "source": [
    "solutions = solve(expr, 'y')\n",
    "expr_y = solutions[0]\n",
    "expr_y"
   ]
  },
  {
   "cell_type": "code",
   "execution_count": null,
   "id": "8e97f650",
   "metadata": {},
   "outputs": [],
   "source": [
    "from sympy import Symbol, sympify, solve\n",
    "from sympy.plotting import plot"
   ]
  },
  {
   "cell_type": "code",
   "execution_count": null,
   "id": "1eb56c2a",
   "metadata": {},
   "outputs": [],
   "source": [
    "def plot_expression(expr):\n",
    "    try:\n",
    "        expr = sympify(expr)\n",
    "    except SympifyError:\n",
    "        print('Invalid input')\n",
    "    else:\n",
    "        y = Symbol('y')\n",
    "        solutions = solve(expr, y)\n",
    "        expr_y = solutions[0]\n",
    "        plot(expr_y)"
   ]
  },
  {
   "cell_type": "code",
   "execution_count": null,
   "id": "c2d6cff5",
   "metadata": {},
   "outputs": [
    {
     "data": {
      "image/png": "[encoded data removed]",
      "text/plain": [
       "<Figure size 640x480 with 1 Axes>"
      ]
     },
     "metadata": {},
     "output_type": "display_data"
    }
   ],
   "source": [
    "plot_expression(\"y + x\")"
   ]
  },
  {
   "cell_type": "markdown",
   "id": "17487ff1",
   "metadata": {},
   "source": [
    "### plot multiple functions"
   ]
  },
  {
   "cell_type": "code",
   "execution_count": null,
   "id": "aa33febb",
   "metadata": {},
   "outputs": [],
   "source": [
    "from sympy.plotting import plot \n",
    "from sympy import Symbol"
   ]
  },
  {
   "cell_type": "code",
   "execution_count": null,
   "id": "6fb1c42e",
   "metadata": {},
   "outputs": [
    {
     "data": {
      "image/png": "[encoded data removed]",
      "text/plain": [
       "<Figure size 640x480 with 1 Axes>"
      ]
     },
     "metadata": {},
     "output_type": "display_data"
    },
    {
     "data": {
      "text/plain": [
       "<sympy.plotting.plot.Plot>"
      ]
     },
     "execution_count": null,
     "metadata": {},
     "output_type": "execute_result"
    }
   ],
   "source": [
    "x = Symbol('x')\n",
    "plot(2*x+3, 3*x+1)"
   ]
  },
  {
   "cell_type": "code",
   "execution_count": null,
   "id": "4ff89b1a",
   "metadata": {},
   "outputs": [
    {
     "data": {
      "image/png": "[encoded data removed]",
      "text/plain": [
       "<Figure size 640x480 with 1 Axes>"
      ]
     },
     "metadata": {},
     "output_type": "display_data"
    }
   ],
   "source": [
    "from sympy.plotting import plot \n",
    "from sympy import Symbol\n",
    "x = Symbol('x')\n",
    "p = plot(2*x+3, 3*x+1, legend=True, show=False) \n",
    "p[0].line_color = 'b'\n",
    "p[1].line_color = 'r'\n",
    "p.show()"
   ]
  },
  {
   "cell_type": "code",
   "execution_count": null,
   "id": "76d8ecb9",
   "metadata": {},
   "outputs": [],
   "source": [
    "from sympy.plotting import plot \n",
    "from sympy import Symbol\n",
    "from fastai.layers import sigmoid\n",
    "from torch import Tensor"
   ]
  },
  {
   "cell_type": "code",
   "execution_count": null,
   "id": "4dc9f7d0",
   "metadata": {},
   "outputs": [
    {
     "name": "stdout",
     "output_type": "stream",
     "text": [
      "Help on function sigmoid in module fastai.layers:\n",
      "\n",
      "sigmoid(input, eps=1e-07)\n",
      "    Same as `torch.sigmoid`, plus clamping to `(eps,1-eps)\n",
      "\n"
     ]
    },
    {
     "data": {
      "text/plain": [
       "<method 'sigmoid' of 'torch._C._TensorBase' objects>"
      ]
     },
     "execution_count": null,
     "metadata": {},
     "output_type": "execute_result"
    }
   ],
   "source": [
    "help(sigmoid)\n",
    "Tensor.sigmoid"
   ]
  },
  {
   "cell_type": "code",
   "execution_count": null,
   "id": "093201f1",
   "metadata": {},
   "outputs": [],
   "source": [
    "# fastnbs(\"sigmoid\")"
   ]
  },
  {
   "cell_type": "markdown",
   "id": "8294682b",
   "metadata": {},
   "source": [
    "## Set"
   ]
  },
  {
   "cell_type": "markdown",
   "id": "f46191c9",
   "metadata": {},
   "source": [
    "### FiniteSet, Fraction, len"
   ]
  },
  {
   "cell_type": "code",
   "execution_count": null,
   "id": "f7c7c4fe",
   "metadata": {},
   "outputs": [
    {
     "data": {
      "image/png": "[encoded data removed]",
      "text/latex": [
       "$\\displaystyle \\left\\{2, 4, 6\\right\\}$"
      ],
      "text/plain": [
       "{2, 4, 6}"
      ]
     },
     "execution_count": null,
     "metadata": {},
     "output_type": "execute_result"
    }
   ],
   "source": [
    "from sympy import FiniteSet \n",
    "s = FiniteSet(2, 4, 6)\n",
    "s"
   ]
  },
  {
   "cell_type": "code",
   "execution_count": null,
   "id": "395622cb",
   "metadata": {},
   "outputs": [
    {
     "data": {
      "image/png": "[encoded data removed]",
      "text/latex": [
       "$\\displaystyle \\left\\{\\frac{1}{5}, 1, 1.5\\right\\}$"
      ],
      "text/plain": [
       "{1/5, 1, 1.5}"
      ]
     },
     "execution_count": null,
     "metadata": {},
     "output_type": "execute_result"
    }
   ],
   "source": [
    "from sympy import FiniteSet\n",
    "from fractions import Fraction\n",
    "s = FiniteSet(1, 1.5, Fraction(1, 5))\n",
    "s"
   ]
  },
  {
   "cell_type": "code",
   "execution_count": null,
   "id": "f2875a9f",
   "metadata": {},
   "outputs": [
    {
     "data": {
      "image/png": "[encoded data removed]",
      "text/latex": [
       "$\\displaystyle 3$"
      ],
      "text/plain": [
       "3"
      ]
     },
     "execution_count": null,
     "metadata": {},
     "output_type": "execute_result"
    }
   ],
   "source": [
    "s = FiniteSet(1, 1.5, 3) \n",
    "len(s)"
   ]
  },
  {
   "cell_type": "markdown",
   "id": "85fcc5f0",
   "metadata": {},
   "source": [
    "### 4 in s"
   ]
  },
  {
   "cell_type": "code",
   "execution_count": null,
   "id": "48b9b798",
   "metadata": {},
   "outputs": [
    {
     "data": {
      "text/plain": [
       "False"
      ]
     },
     "execution_count": null,
     "metadata": {},
     "output_type": "execute_result"
    }
   ],
   "source": [
    "4 in s"
   ]
  },
  {
   "cell_type": "code",
   "execution_count": null,
   "id": "2640b65a",
   "metadata": {},
   "outputs": [
    {
     "data": {
      "image/png": "[encoded data removed]",
      "text/latex": [
       "$\\displaystyle \\emptyset$"
      ],
      "text/plain": [
       "∅"
      ]
     },
     "execution_count": null,
     "metadata": {},
     "output_type": "execute_result"
    }
   ],
   "source": [
    "s = FiniteSet()\n",
    "s"
   ]
  },
  {
   "cell_type": "markdown",
   "id": "0fb2d393",
   "metadata": {},
   "source": [
    "### FiniteSet(*list)"
   ]
  },
  {
   "cell_type": "code",
   "execution_count": null,
   "id": "f5410483",
   "metadata": {},
   "outputs": [
    {
     "data": {
      "image/png": "[encoded data removed]",
      "text/latex": [
       "$\\displaystyle \\left\\{1, 2, 3\\right\\}$"
      ],
      "text/plain": [
       "{1, 2, 3}"
      ]
     },
     "execution_count": null,
     "metadata": {},
     "output_type": "execute_result"
    }
   ],
   "source": [
    "members = [1, 2, 3]\n",
    "s = FiniteSet(*members) \n",
    "s"
   ]
  },
  {
   "cell_type": "markdown",
   "id": "04bc7b35",
   "metadata": {},
   "source": [
    "### no repeat, no order"
   ]
  },
  {
   "cell_type": "code",
   "execution_count": null,
   "id": "153868eb",
   "metadata": {},
   "outputs": [
    {
     "data": {
      "image/png": "[encoded data removed]",
      "text/latex": [
       "$\\displaystyle \\left\\{1, 2, 3\\right\\}$"
      ],
      "text/plain": [
       "{1, 2, 3}"
      ]
     },
     "execution_count": null,
     "metadata": {},
     "output_type": "execute_result"
    }
   ],
   "source": [
    "from sympy import FiniteSet \n",
    "members = [1, 2, 3, 2]\n",
    "FiniteSet(*members)"
   ]
  },
  {
   "cell_type": "markdown",
   "id": "ca7ee480",
   "metadata": {},
   "source": [
    "### for member in set"
   ]
  },
  {
   "cell_type": "code",
   "execution_count": null,
   "id": "5152917c",
   "metadata": {},
   "outputs": [
    {
     "name": "stdout",
     "output_type": "stream",
     "text": [
      "1\n",
      "2\n",
      "3\n"
     ]
    }
   ],
   "source": [
    "from sympy import FiniteSet \n",
    "s = FiniteSet(1, 2, 3)\n",
    "for member in s:\n",
    "    print(member)"
   ]
  },
  {
   "cell_type": "code",
   "execution_count": null,
   "id": "a02a42f8",
   "metadata": {},
   "outputs": [
    {
     "data": {
      "text/plain": [
       "True"
      ]
     },
     "execution_count": null,
     "metadata": {},
     "output_type": "execute_result"
    }
   ],
   "source": [
    "from sympy import FiniteSet \n",
    "s = FiniteSet(3, 4, 5)\n",
    "t = FiniteSet(5, 4, 3)\n",
    "s == t"
   ]
  },
  {
   "cell_type": "markdown",
   "id": "363ed7de",
   "metadata": {},
   "source": [
    "### Subsets, Supersets, and Power Sets"
   ]
  },
  {
   "cell_type": "code",
   "execution_count": null,
   "id": "b43c4af3",
   "metadata": {},
   "outputs": [
    {
     "data": {
      "text/plain": [
       "True"
      ]
     },
     "execution_count": null,
     "metadata": {},
     "output_type": "execute_result"
    },
    {
     "data": {
      "text/plain": [
       "False"
      ]
     },
     "execution_count": null,
     "metadata": {},
     "output_type": "execute_result"
    }
   ],
   "source": [
    "s = FiniteSet(1) \n",
    "t = FiniteSet(1,2) \n",
    "s.is_subset(t)\n",
    "t.is_subset(s)"
   ]
  },
  {
   "cell_type": "code",
   "execution_count": null,
   "id": "7eae3a41",
   "metadata": {},
   "outputs": [
    {
     "data": {
      "text/plain": [
       "True"
      ]
     },
     "execution_count": null,
     "metadata": {},
     "output_type": "execute_result"
    },
    {
     "data": {
      "text/plain": [
       "True"
      ]
     },
     "execution_count": null,
     "metadata": {},
     "output_type": "execute_result"
    }
   ],
   "source": [
    "s.is_subset(s) \n",
    "t.is_subset(t)"
   ]
  },
  {
   "cell_type": "code",
   "execution_count": null,
   "id": "78bf95b7",
   "metadata": {},
   "outputs": [
    {
     "data": {
      "text/plain": [
       "False"
      ]
     },
     "execution_count": null,
     "metadata": {},
     "output_type": "execute_result"
    },
    {
     "data": {
      "text/plain": [
       "True"
      ]
     },
     "execution_count": null,
     "metadata": {},
     "output_type": "execute_result"
    }
   ],
   "source": [
    "s.is_superset(t)\n",
    "t.is_superset(s)"
   ]
  },
  {
   "cell_type": "markdown",
   "id": "1c583bcc",
   "metadata": {},
   "source": [
    "### powerset"
   ]
  },
  {
   "cell_type": "code",
   "execution_count": null,
   "id": "48f4de39",
   "metadata": {},
   "outputs": [
    {
     "data": {
      "image/png": "[encoded data removed]",
      "text/latex": [
       "$\\displaystyle 8$"
      ],
      "text/plain": [
       "8"
      ]
     },
     "execution_count": null,
     "metadata": {},
     "output_type": "execute_result"
    },
    {
     "data": {
      "image/png": "[encoded data removed]",
      "text/latex": [
       "$\\displaystyle \\left\\{\\emptyset, \\left\\{1\\right\\}, \\left\\{2\\right\\}, \\left\\{3\\right\\}, \\left\\{1, 2\\right\\}, \\left\\{1, 3\\right\\}, \\left\\{2, 3\\right\\}, \\left\\{1, 2, 3\\right\\}\\right\\}$"
      ],
      "text/plain": [
       "{∅, {1}, {2}, {3}, {1, 2}, {1, 3}, {2, 3}, {1, 2, 3}}"
      ]
     },
     "execution_count": null,
     "metadata": {},
     "output_type": "execute_result"
    }
   ],
   "source": [
    "s = FiniteSet(1, 2, 3)\n",
    "ps = s.powerset()\n",
    "len(ps)\n",
    "ps"
   ]
  },
  {
   "cell_type": "markdown",
   "id": "4d6f2d8e",
   "metadata": {},
   "source": [
    "### is_proper_subset"
   ]
  },
  {
   "cell_type": "code",
   "execution_count": null,
   "id": "82c0fc90",
   "metadata": {},
   "outputs": [
    {
     "data": {
      "text/plain": [
       "False"
      ]
     },
     "execution_count": null,
     "metadata": {},
     "output_type": "execute_result"
    },
    {
     "data": {
      "text/plain": [
       "False"
      ]
     },
     "execution_count": null,
     "metadata": {},
     "output_type": "execute_result"
    }
   ],
   "source": [
    "from sympy import FiniteSet \n",
    "s = FiniteSet(1, 2, 3)\n",
    "t = FiniteSet(1, 2, 3)\n",
    "s.is_proper_subset(t)\n",
    "t.is_proper_superset(s)"
   ]
  },
  {
   "cell_type": "code",
   "execution_count": null,
   "id": "ca1b02b5",
   "metadata": {},
   "outputs": [
    {
     "data": {
      "text/plain": [
       "True"
      ]
     },
     "execution_count": null,
     "metadata": {},
     "output_type": "execute_result"
    },
    {
     "data": {
      "text/plain": [
       "True"
      ]
     },
     "execution_count": null,
     "metadata": {},
     "output_type": "execute_result"
    }
   ],
   "source": [
    "t = FiniteSet(1, 2, 3, 4) \n",
    "s.is_proper_subset(t)\n",
    "t.is_proper_superset(s)"
   ]
  },
  {
   "cell_type": "markdown",
   "id": "1c8f995f",
   "metadata": {},
   "source": [
    "### union, intersect"
   ]
  },
  {
   "cell_type": "code",
   "execution_count": null,
   "id": "cf1be8f2",
   "metadata": {},
   "outputs": [
    {
     "data": {
      "image/png": "[encoded data removed]",
      "text/latex": [
       "$\\displaystyle \\left\\{1, 2, 3, 4, 6\\right\\}$"
      ],
      "text/plain": [
       "{1, 2, 3, 4, 6}"
      ]
     },
     "execution_count": null,
     "metadata": {},
     "output_type": "execute_result"
    }
   ],
   "source": [
    "from sympy import FiniteSet \n",
    "s = FiniteSet(1, 2, 3)\n",
    "t = FiniteSet(2, 4, 6)\n",
    "s.union(t)"
   ]
  },
  {
   "cell_type": "code",
   "execution_count": null,
   "id": "95e325c9",
   "metadata": {},
   "outputs": [
    {
     "data": {
      "image/png": "[encoded data removed]",
      "text/latex": [
       "$\\displaystyle \\left\\{2\\right\\}$"
      ],
      "text/plain": [
       "{2}"
      ]
     },
     "execution_count": null,
     "metadata": {},
     "output_type": "execute_result"
    }
   ],
   "source": [
    "s = FiniteSet(1, 2) \n",
    "t = FiniteSet(2, 3) \n",
    "s.intersect(t)"
   ]
  },
  {
   "cell_type": "code",
   "execution_count": null,
   "id": "112073d5",
   "metadata": {},
   "outputs": [
    {
     "data": {
      "image/png": "[encoded data removed]",
      "text/latex": [
       "$\\displaystyle \\left\\{1, 2, 3, 4, 5, 6, 7\\right\\}$"
      ],
      "text/plain": [
       "{1, 2, 3, 4, 5, 6, 7}"
      ]
     },
     "execution_count": null,
     "metadata": {},
     "output_type": "execute_result"
    }
   ],
   "source": [
    "from sympy import FiniteSet \n",
    "s = FiniteSet(1, 2, 3)\n",
    "t = FiniteSet(2, 4, 6)\n",
    "u = FiniteSet(3, 5, 7)\n",
    "s.union(t).union(u)"
   ]
  },
  {
   "cell_type": "code",
   "execution_count": null,
   "id": "fbff030d",
   "metadata": {},
   "outputs": [
    {
     "data": {
      "image/png": "[encoded data removed]",
      "text/latex": [
       "$\\displaystyle \\emptyset$"
      ],
      "text/plain": [
       "∅"
      ]
     },
     "execution_count": null,
     "metadata": {},
     "output_type": "execute_result"
    }
   ],
   "source": [
    "s.intersect(t).intersect(u)"
   ]
  },
  {
   "cell_type": "code",
   "execution_count": null,
   "id": "7d02fb14",
   "metadata": {},
   "outputs": [],
   "source": []
  },
  {
   "cell_type": "markdown",
   "id": "0c25445e",
   "metadata": {},
   "source": [
    "### Cartesian Product"
   ]
  },
  {
   "cell_type": "code",
   "execution_count": null,
   "id": "37df5a3f",
   "metadata": {},
   "outputs": [
    {
     "data": {
      "image/png": "[encoded data removed]",
      "text/latex": [
       "$\\displaystyle 4$"
      ],
      "text/plain": [
       "4"
      ]
     },
     "execution_count": null,
     "metadata": {},
     "output_type": "execute_result"
    },
    {
     "data": {
      "image/png": "[encoded data removed]",
      "text/latex": [
       "$\\displaystyle \\left\\{1, 2\\right\\} \\times \\left\\{3, 4\\right\\}$"
      ],
      "text/plain": [
       "{1, 2} × {3, 4}"
      ]
     },
     "execution_count": null,
     "metadata": {},
     "output_type": "execute_result"
    },
    {
     "name": "stdout",
     "output_type": "stream",
     "text": [
      "{1, 2} × {3, 4}\n"
     ]
    }
   ],
   "source": [
    "from sympy import FiniteSet, pprint\n",
    "s = FiniteSet(1, 2)\n",
    "t = FiniteSet(3, 4)\n",
    "p = s*t\n",
    "len(p)\n",
    "p\n",
    "pprint(p)"
   ]
  },
  {
   "cell_type": "code",
   "execution_count": null,
   "id": "64f272e8",
   "metadata": {},
   "outputs": [
    {
     "name": "stdout",
     "output_type": "stream",
     "text": [
      "(1, 3)\n",
      "(2, 3)\n",
      "(1, 4)\n",
      "(2, 4)\n"
     ]
    }
   ],
   "source": [
    "for elem in p: print(elem)"
   ]
  },
  {
   "cell_type": "code",
   "execution_count": null,
   "id": "bac166f9",
   "metadata": {},
   "outputs": [],
   "source": [
    "def print_elem(product): \n",
    "    print(len(product))\n",
    "    for elem in product: print(elem)"
   ]
  },
  {
   "cell_type": "code",
   "execution_count": null,
   "id": "f2cf6709",
   "metadata": {},
   "outputs": [
    {
     "data": {
      "image/png": "[encoded data removed]",
      "text/latex": [
       "$\\displaystyle 2$"
      ],
      "text/plain": [
       "2"
      ]
     },
     "execution_count": null,
     "metadata": {},
     "output_type": "execute_result"
    },
    {
     "data": {
      "image/png": "[encoded data removed]",
      "text/latex": [
       "$\\displaystyle 2$"
      ],
      "text/plain": [
       "2"
      ]
     },
     "execution_count": null,
     "metadata": {},
     "output_type": "execute_result"
    },
    {
     "data": {
      "text/plain": [
       "True"
      ]
     },
     "execution_count": null,
     "metadata": {},
     "output_type": "execute_result"
    }
   ],
   "source": [
    "len(s)\n",
    "len(t)\n",
    "len(p) == len(s)*len(t)"
   ]
  },
  {
   "cell_type": "code",
   "execution_count": null,
   "id": "80e99ec2",
   "metadata": {},
   "outputs": [
    {
     "data": {
      "image/png": "[encoded data removed]",
      "text/latex": [
       "$\\displaystyle \\left( \\left\\{1, 2\\right\\}^{2}, \\  4\\right)$"
      ],
      "text/plain": [
       "⎛      2   ⎞\n",
       "⎝{1, 2} , 4⎠"
      ]
     },
     "execution_count": null,
     "metadata": {},
     "output_type": "execute_result"
    },
    {
     "data": {
      "image/png": "[encoded data removed]",
      "text/latex": [
       "$\\displaystyle \\left( \\left\\{1, 2\\right\\}^{3}, \\  8\\right)$"
      ],
      "text/plain": [
       "⎛      3   ⎞\n",
       "⎝{1, 2} , 8⎠"
      ]
     },
     "execution_count": null,
     "metadata": {},
     "output_type": "execute_result"
    },
    {
     "data": {
      "image/png": "[encoded data removed]",
      "text/latex": [
       "$\\displaystyle \\left( \\left\\{1, 2\\right\\}^{4}, \\  16\\right)$"
      ],
      "text/plain": [
       "⎛      4    ⎞\n",
       "⎝{1, 2} , 16⎠"
      ]
     },
     "execution_count": null,
     "metadata": {},
     "output_type": "execute_result"
    }
   ],
   "source": [
    "from sympy import FiniteSet, pprint\n",
    "s = FiniteSet(1, 2)\n",
    "p2 = s**2\n",
    "p3 = s**3\n",
    "p4 = s**4\n",
    "p2, len(p2)\n",
    "p3, len(p3)\n",
    "p4, len(p4)"
   ]
  },
  {
   "cell_type": "code",
   "execution_count": null,
   "id": "27fd5337",
   "metadata": {},
   "outputs": [
    {
     "name": "stdout",
     "output_type": "stream",
     "text": [
      "4\n",
      "(1, 1)\n",
      "(2, 1)\n",
      "(1, 2)\n",
      "(2, 2)\n",
      "8\n",
      "(1, 1, 1)\n",
      "(2, 1, 1)\n",
      "(1, 2, 1)\n",
      "(2, 2, 1)\n",
      "(1, 1, 2)\n",
      "(2, 1, 2)\n",
      "(1, 2, 2)\n",
      "(2, 2, 2)\n",
      "16\n",
      "(1, 1, 1, 1)\n",
      "(2, 1, 1, 1)\n",
      "(1, 2, 1, 1)\n",
      "(2, 2, 1, 1)\n",
      "(1, 1, 2, 1)\n",
      "(2, 1, 2, 1)\n",
      "(1, 2, 2, 1)\n",
      "(2, 2, 2, 1)\n",
      "(1, 1, 1, 2)\n",
      "(2, 1, 1, 2)\n",
      "(1, 2, 1, 2)\n",
      "(2, 2, 1, 2)\n",
      "(1, 1, 2, 2)\n",
      "(2, 1, 2, 2)\n",
      "(1, 2, 2, 2)\n",
      "(2, 2, 2, 2)\n"
     ]
    }
   ],
   "source": [
    "print_elem(p2)\n",
    "print_elem(p3)\n",
    "print_elem(p4)"
   ]
  },
  {
   "cell_type": "code",
   "execution_count": null,
   "id": "418a09e3",
   "metadata": {},
   "outputs": [],
   "source": []
  },
  {
   "cell_type": "markdown",
   "id": "35280edd",
   "metadata": {},
   "source": [
    "### Eq, pi\n",
    "how to write an equation in sympy"
   ]
  },
  {
   "cell_type": "markdown",
   "id": "881d53d0",
   "metadata": {},
   "source": [
    "Consider a simple pendulum of length L. The time period, T, of this pendulum—that is, the amount of time it takes for the pendulum to complete one full swing—is given by the formula"
   ]
  },
  {
   "cell_type": "code",
   "execution_count": null,
   "id": "be4face0",
   "metadata": {},
   "outputs": [],
   "source": [
    "from sympy import sympify, pi, Eq, Symbol"
   ]
  },
  {
   "cell_type": "code",
   "execution_count": null,
   "id": "17050e2b",
   "metadata": {},
   "outputs": [
    {
     "data": {
      "image/png": "[encoded data removed]",
      "text/latex": [
       "$\\displaystyle 2 \\pi \\sqrt{\\frac{L}{g}}$"
      ],
      "text/plain": [
       "        ___\n",
       "       ╱ L \n",
       "2⋅π⋅  ╱  ─ \n",
       "    ╲╱   g "
      ]
     },
     "execution_count": null,
     "metadata": {},
     "output_type": "execute_result"
    }
   ],
   "source": [
    "expr = sympify(\"2*pi*(L/g)**(1/2)\")\n",
    "expr"
   ]
  },
  {
   "cell_type": "code",
   "execution_count": null,
   "id": "49ca8734",
   "metadata": {},
   "outputs": [
    {
     "data": {
      "image/png": "[encoded data removed]",
      "text/latex": [
       "$\\displaystyle T = 2 \\pi \\sqrt{\\frac{L}{g}}$"
      ],
      "text/plain": [
       "            ___\n",
       "           ╱ L \n",
       "T = 2⋅π⋅  ╱  ─ \n",
       "        ╲╱   g "
      ]
     },
     "execution_count": null,
     "metadata": {},
     "output_type": "execute_result"
    }
   ],
   "source": [
    "T = Symbol(\"T\")\n",
    "Eq(T, expr)"
   ]
  },
  {
   "cell_type": "markdown",
   "id": "c3989f91",
   "metadata": {},
   "source": [
    "### calc with cartesian product"
   ]
  },
  {
   "cell_type": "code",
   "execution_count": null,
   "id": "f29ecbdf",
   "metadata": {},
   "outputs": [],
   "source": [
    "from sympy import FiniteSet, pi"
   ]
  },
  {
   "cell_type": "code",
   "execution_count": null,
   "id": "919030ec",
   "metadata": {},
   "outputs": [],
   "source": [
    "def time_period(length):\n",
    "    g = 9.8\n",
    "    T = 2*pi*(length/g)**0.5 \n",
    "    return T"
   ]
  },
  {
   "cell_type": "code",
   "execution_count": null,
   "id": "44183aed",
   "metadata": {},
   "outputs": [
    {
     "name": "stdout",
     "output_type": "stream",
     "text": [
      "Length: 22.5 cm Time Period: 0.952 s\n",
      "Length: 15.0 cm Time Period: 0.777 s\n",
      "Length: 18.0 cm Time Period: 0.852 s\n",
      "Length: 21.0 cm Time Period: 0.920 s\n",
      "Length: 25.0 cm Time Period: 1.004 s\n"
     ]
    }
   ],
   "source": [
    "\n",
    "L = FiniteSet(15, 18, 22.5, 25, 21)\n",
    "for l in L:\n",
    "    t = time_period(l/100)\n",
    "    print('Length: {0} cm Time Period: {1:.3f} s'. format(float(l), float(t)))"
   ]
  },
  {
   "cell_type": "code",
   "execution_count": null,
   "id": "42226811",
   "metadata": {},
   "outputs": [],
   "source": [
    "from sympy import FiniteSet, pi"
   ]
  },
  {
   "cell_type": "code",
   "execution_count": null,
   "id": "d090baef",
   "metadata": {},
   "outputs": [],
   "source": [
    "def time_period(length, g):\n",
    "    T = 2*pi*(length/g)**0.5\n",
    "    return T"
   ]
  },
  {
   "cell_type": "code",
   "execution_count": null,
   "id": "ce212e68",
   "metadata": {},
   "outputs": [
    {
     "name": "stdout",
     "output_type": "stream",
     "text": [
      "  Length(cm)   Gravity(m/s^2) Time Period(s) \n"
     ]
    }
   ],
   "source": [
    "L = FiniteSet(15, 18, 21, 22.5, 25)\n",
    "g_values = FiniteSet(9.8, 9.78, 9.83)\n",
    "print('{0:^15}{1:^15}{2:^15}'.format('Length(cm)', 'Gravity(m/s^2)', 'Time Period(s)'))"
   ]
  },
  {
   "cell_type": "code",
   "execution_count": null,
   "id": "9070826d",
   "metadata": {},
   "outputs": [
    {
     "data": {
      "image/png": "[encoded data removed]",
      "text/latex": [
       "$\\displaystyle 15$"
      ],
      "text/plain": [
       "15"
      ]
     },
     "execution_count": null,
     "metadata": {},
     "output_type": "execute_result"
    },
    {
     "name": "stdout",
     "output_type": "stream",
     "text": [
      "     22.5           9.78           0.953      (22.5000000000000, 9.78000000000000)\n",
      "     15.0           9.78           0.778      (15, 9.78000000000000)\n",
      "     22.5            9.8           0.952      (22.5000000000000, 9.80000000000000)\n",
      "     18.0           9.78           0.852      (18, 9.78000000000000)\n",
      "     15.0            9.8           0.777      (15, 9.80000000000000)\n",
      "     22.5           9.83           0.951      (22.5000000000000, 9.83000000000000)\n",
      "     21.0           9.78           0.921      (21, 9.78000000000000)\n",
      "     18.0            9.8           0.852      (18, 9.80000000000000)\n",
      "     15.0           9.83           0.776      (15, 9.83000000000000)\n",
      "     25.0           9.78           1.005      (25, 9.78000000000000)\n",
      "     21.0            9.8           0.920      (21, 9.80000000000000)\n",
      "     18.0           9.83           0.850      (18, 9.83000000000000)\n",
      "     25.0            9.8           1.004      (25, 9.80000000000000)\n",
      "     21.0           9.83           0.918      (21, 9.83000000000000)\n",
      "     25.0           9.83           1.002      (25, 9.83000000000000)\n"
     ]
    }
   ],
   "source": [
    "len(L*g_values)\n",
    "for elem in L*g_values:\n",
    "    l = elem[0]\n",
    "    g = elem[1]\n",
    "    t = time_period(l/100, g)\n",
    "    print('{0:^15}{1:^15}{2:^15.3f}'.format(float(l), float(g), float(t)), elem)"
   ]
  },
  {
   "cell_type": "markdown",
   "id": "af1f1ccc",
   "metadata": {},
   "source": [
    "This experiment presents a simple scenario where you need all possible combinations of the elements of multiple sets (or a group of numbers). In this type of situation, the Cartesian product is exactly what you need."
   ]
  },
  {
   "cell_type": "markdown",
   "id": "4357bc6c",
   "metadata": {},
   "source": [
    "## Probabilities"
   ]
  },
  {
   "cell_type": "markdown",
   "id": "7774408f",
   "metadata": {},
   "source": [
    "### definitions\n"
   ]
  },
  {
   "cell_type": "markdown",
   "id": "ca327edf",
   "metadata": {},
   "source": [
    "Experiment\n",
    "> The experiment is simply the test we want to perform. We perform the test because we’re interested in the probability of each possible outcome. Rolling a die, flipping a coin, and pulling a card from a deck of cards are all examples of experiments. A single run of an experiment is referred to as a trial.\n",
    "\n",
    "Sample space \n",
    "> All possible outcomes of an experiment form a set known as the sample space, which we’ll usually call S in our formulas. For example, when a six-sided die is rolled once, the sample space is {1, 2, 3, 4, 5, 6}.\n",
    "\n",
    "Event \n",
    "> An event is a set of outcomes that we want to calculate the probability of and that form a subset of the sample space. For example, we might want to know the probability of a particular outcome, like rolling a 3, or the probability of a set of multiple outcomes, such as rolling an even number (either 2, 4, or 6). We’ll use the letter E in our formulas to stand for an event."
   ]
  },
  {
   "cell_type": "markdown",
   "id": "258aa5b7",
   "metadata": {},
   "source": [
    "### uniform distribution, sympy.Function\n",
    "How to write a probability equation with sympy\n",
    "if each outcome in the sample space is equally likely to occur."
   ]
  },
  {
   "cell_type": "code",
   "execution_count": null,
   "id": "b98ebb10",
   "metadata": {},
   "outputs": [],
   "source": [
    "from sympy import sympify, Eq, symbols, Function"
   ]
  },
  {
   "cell_type": "code",
   "execution_count": null,
   "id": "c2abb6c8",
   "metadata": {},
   "outputs": [
    {
     "data": {
      "image/png": "[encoded data removed]",
      "text/latex": [
       "$\\displaystyle P{\\left(E \\right)}$"
      ],
      "text/plain": [
       "P(E)"
      ]
     },
     "execution_count": null,
     "metadata": {},
     "output_type": "execute_result"
    },
    {
     "data": {
      "image/png": "[encoded data removed]",
      "text/latex": [
       "$\\displaystyle n{\\left(E \\right)}$"
      ],
      "text/plain": [
       "n(E)"
      ]
     },
     "execution_count": null,
     "metadata": {},
     "output_type": "execute_result"
    },
    {
     "data": {
      "image/png": "[encoded data removed]",
      "text/latex": [
       "$\\displaystyle n{\\left(S \\right)}$"
      ],
      "text/plain": [
       "n(S)"
      ]
     },
     "execution_count": null,
     "metadata": {},
     "output_type": "execute_result"
    }
   ],
   "source": [
    "E,S = symbols(\"E,S\")\n",
    "P = Function(\"P\")\n",
    "n = Function(\"n\")\n",
    "P(E)\n",
    "n(E)\n",
    "n(S)"
   ]
  },
  {
   "cell_type": "code",
   "execution_count": null,
   "id": "fb02b3e5",
   "metadata": {},
   "outputs": [
    {
     "data": {
      "image/png": "[encoded data removed]",
      "text/latex": [
       "$\\displaystyle P{\\left(E \\right)} = \\frac{n{\\left(E \\right)}}{n{\\left(S \\right)}}$"
      ],
      "text/plain": [
       "       n(E)\n",
       "P(E) = ────\n",
       "       n(S)"
      ]
     },
     "execution_count": null,
     "metadata": {},
     "output_type": "execute_result"
    }
   ],
   "source": [
    "Eq(P(E), n(E)/n(S))"
   ]
  },
  {
   "cell_type": "markdown",
   "id": "af294823",
   "metadata": {},
   "source": [
    "### probability(s,e), check_prime(num)"
   ]
  },
  {
   "cell_type": "code",
   "execution_count": null,
   "id": "1c80eeea",
   "metadata": {},
   "outputs": [],
   "source": [
    "def probability(space, event):\n",
    "    return len(event)/len(space)"
   ]
  },
  {
   "cell_type": "code",
   "execution_count": null,
   "id": "a6d28db5",
   "metadata": {},
   "outputs": [],
   "source": [
    "def check_prime(number): \n",
    "    if number != 1:\n",
    "        for factor in range(2, number):\n",
    "            if number % factor == 0:\n",
    "                return False\n",
    "    else:\n",
    "        return False\n",
    "    return True"
   ]
  },
  {
   "cell_type": "code",
   "execution_count": null,
   "id": "bebc6243",
   "metadata": {},
   "outputs": [
    {
     "data": {
      "image/png": "[encoded data removed]",
      "text/latex": [
       "$\\displaystyle \\left\\{1, 2, 3, 4, 5, 6, 7, 8, 9, 10, 11, 12, 13, 14, 15, 16, 17, 18, 19, 20\\right\\}$"
      ],
      "text/plain": [
       "{1, 2, 3, 4, 5, 6, 7, 8, 9, 10, 11, 12, 13, 14, 15, 16, 17, 18, 19, 20}"
      ]
     },
     "execution_count": null,
     "metadata": {},
     "output_type": "execute_result"
    }
   ],
   "source": [
    "space = FiniteSet(*range(1, 21))\n",
    "space"
   ]
  },
  {
   "cell_type": "code",
   "execution_count": null,
   "id": "719deb84",
   "metadata": {},
   "outputs": [
    {
     "data": {
      "image/png": "[encoded data removed]",
      "text/latex": [
       "$\\displaystyle \\left[ 2, \\  3, \\  5, \\  7, \\  11, \\  13, \\  17, \\  19\\right]$"
      ],
      "text/plain": [
       "[2, 3, 5, 7, 11, 13, 17, 19]"
      ]
     },
     "execution_count": null,
     "metadata": {},
     "output_type": "execute_result"
    }
   ],
   "source": [
    "primes = []\n",
    "for num in space:\n",
    "    if check_prime(num):\n",
    "        primes.append(num)\n",
    "primes"
   ]
  },
  {
   "cell_type": "code",
   "execution_count": null,
   "id": "d786d98a",
   "metadata": {},
   "outputs": [
    {
     "name": "stdout",
     "output_type": "stream",
     "text": [
      "Sample space: {1, 2, 3, 4, 5, 6, 7, 8, 9, 10, 11, 12, 13, 14, 15, 16, 17, 18, 19, 20}\n",
      "Event: {2, 3, 5, 7, 11, 13, 17, 19}\n",
      "Probability of rolling a prime: 0.40000\n"
     ]
    }
   ],
   "source": [
    "event= FiniteSet(*primes)\n",
    "p = probability(space, event)\n",
    "print('Sample space: {0}'.format(space))\n",
    "print('Event: {0}'.format(event))\n",
    "print('Probability of rolling a prime: {0:.5f}'.format(p))"
   ]
  },
  {
   "cell_type": "markdown",
   "id": "c074e9ea",
   "metadata": {},
   "source": [
    "### Probability of Event A or Event B "
   ]
  },
  {
   "cell_type": "code",
   "execution_count": null,
   "id": "26ec1c1c",
   "metadata": {},
   "outputs": [
    {
     "data": {
      "image/png": "[encoded data removed]",
      "text/latex": [
       "$\\displaystyle 0.666666666666667$"
      ],
      "text/plain": [
       "0.6666666666666666"
      ]
     },
     "execution_count": null,
     "metadata": {},
     "output_type": "execute_result"
    }
   ],
   "source": [
    "from sympy import FiniteSet\n",
    "s = FiniteSet(1, 2, 3, 4, 5, 6) \n",
    "a = FiniteSet(2, 3, 5)\n",
    "b = FiniteSet(1, 3, 5)\n",
    "e = a.union(b) \n",
    "len(e)/len(s)"
   ]
  },
  {
   "cell_type": "markdown",
   "id": "d880f8bb",
   "metadata": {},
   "source": [
    "### Probability of Event A and Event B"
   ]
  },
  {
   "cell_type": "code",
   "execution_count": null,
   "id": "1505fc35",
   "metadata": {},
   "outputs": [
    {
     "data": {
      "image/png": "[encoded data removed]",
      "text/latex": [
       "$\\displaystyle 0.333333333333333$"
      ],
      "text/plain": [
       "0.3333333333333333"
      ]
     },
     "execution_count": null,
     "metadata": {},
     "output_type": "execute_result"
    }
   ],
   "source": [
    "from sympy import FiniteSet\n",
    "s = FiniteSet(1, 2, 3, 4, 5, 6) \n",
    "a = FiniteSet(2, 3, 5)\n",
    "b = FiniteSet(1, 3, 5)\n",
    "e = a.intersect(b)\n",
    "len(e)/len(s)"
   ]
  },
  {
   "cell_type": "markdown",
   "id": "09d50046",
   "metadata": {},
   "source": [
    "### Simulating a Die Roll"
   ]
  },
  {
   "cell_type": "code",
   "execution_count": null,
   "id": "81be998d",
   "metadata": {},
   "outputs": [
    {
     "data": {
      "image/png": "[encoded data removed]",
      "text/latex": [
       "$\\displaystyle 3$"
      ],
      "text/plain": [
       "3"
      ]
     },
     "execution_count": null,
     "metadata": {},
     "output_type": "execute_result"
    }
   ],
   "source": [
    "import random\n",
    "random.randint(1, 6)"
   ]
  },
  {
   "cell_type": "code",
   "execution_count": null,
   "id": "cca3e57d",
   "metadata": {},
   "outputs": [
    {
     "name": "stdout",
     "output_type": "stream",
     "text": [
      "signature: (a, b)\n",
      "__class__: <class 'method'>\n",
      "__repr__: <bound method Random.randint of <random.Random object>>\n",
      "\n",
      "__doc__:\n",
      "Return random integer in range [a, b], including both end points.\n",
      "        \n",
      "__dict__: \n",
      "{}\n",
      "metaclass: False\n",
      "class: False\n",
      "decorator: False\n",
      "function: False\n",
      "method: True\n"
     ]
    }
   ],
   "source": [
    "check(random.randint)"
   ]
  },
  {
   "cell_type": "markdown",
   "id": "e4a93316",
   "metadata": {},
   "source": [
    "### scroll a score"
   ]
  },
  {
   "cell_type": "code",
   "execution_count": null,
   "id": "96d64941",
   "metadata": {},
   "outputs": [],
   "source": [
    "import matplotlib.pyplot as plt\n",
    "import random"
   ]
  },
  {
   "cell_type": "code",
   "execution_count": null,
   "id": "4da44627",
   "metadata": {},
   "outputs": [],
   "source": [
    "def roll():\n",
    "    return random.randint(1, 6)"
   ]
  },
  {
   "cell_type": "code",
   "execution_count": null,
   "id": "c582df84",
   "metadata": {},
   "outputs": [],
   "source": [
    "target_score = 20\n",
    "score = 0\n",
    "num_rolls = 0"
   ]
  },
  {
   "cell_type": "code",
   "execution_count": null,
   "id": "1d5dd075",
   "metadata": {},
   "outputs": [
    {
     "name": "stdout",
     "output_type": "stream",
     "text": [
      "Rolled: 6\n",
      "Rolled: 6\n",
      "Rolled: 3\n",
      "Rolled: 1\n",
      "Rolled: 2\n",
      "Rolled: 1\n",
      "Rolled: 5\n",
      "Score of 24 reached in 7 rolls\n"
     ]
    }
   ],
   "source": [
    "while score < target_score:\n",
    "    die_roll = roll()\n",
    "    num_rolls += 1\n",
    "    print('Rolled: {0}'.format(die_roll))\n",
    "    score += die_roll\n",
    "print('Score of {0} reached in {1} rolls'.format(score, num_rolls))\n",
    "     "
   ]
  },
  {
   "cell_type": "markdown",
   "id": "8a83b255",
   "metadata": {},
   "source": [
    "### Is the Target Score Possible?"
   ]
  },
  {
   "cell_type": "code",
   "execution_count": null,
   "id": "e0c16bb4",
   "metadata": {},
   "outputs": [],
   "source": [
    "from sympy import FiniteSet\n",
    "import random"
   ]
  },
  {
   "cell_type": "code",
   "execution_count": null,
   "id": "c2dd6655",
   "metadata": {},
   "outputs": [],
   "source": [
    "def find_prob(target_score, max_rolls, show_space=False):\n",
    "    die_sides = FiniteSet(1, 2, 3, 4, 5, 6)\n",
    "    # Sample space\n",
    "    s = die_sides**max_rolls\n",
    "    if show_space: print_elem(s)\n",
    "    # Find the event set\n",
    "    if max_rolls > 1:\n",
    "        success_rolls = []\n",
    "        for elem in s:\n",
    "            if sum(elem) >= target_score:\n",
    "                success_rolls.append(elem)\n",
    "    else:\n",
    "        if target_score > 6:\n",
    "            success_rolls = []\n",
    "        else:\n",
    "            success_rolls = []\n",
    "            for roll in die_sides:\n",
    "                if roll >= target_score:\n",
    "                    success_rolls.append(roll)\n",
    "    e = FiniteSet(*success_rolls)\n",
    "    # Calculate the probability of reaching target score\n",
    "    return len(e)/len(s)"
   ]
  },
  {
   "cell_type": "code",
   "execution_count": null,
   "id": "00e0e378",
   "metadata": {},
   "outputs": [
    {
     "name": "stdout",
     "output_type": "stream",
     "text": [
      "Probability:  0.66667\n"
     ]
    }
   ],
   "source": [
    "target_score = 3\n",
    "max_rolls  = 1\n",
    "p = find_prob(target_score, max_rolls)\n",
    "print('Probability:  {0:.5f}'.format(p))"
   ]
  },
  {
   "cell_type": "code",
   "execution_count": null,
   "id": "0c0309f6",
   "metadata": {},
   "outputs": [],
   "source": []
  },
  {
   "cell_type": "markdown",
   "id": "9db34cfc",
   "metadata": {},
   "source": [
    "### Nonuniform Random Numbers"
   ]
  },
  {
   "cell_type": "markdown",
   "id": "cfb49156",
   "metadata": {},
   "source": [
    "The `random.randint()` function, for example, returns an integer in the specified range assuming that each integer is equally likely. We refer to such probability as uniform probability and to random numbers generated by the `randint()` function as uniform random numbers. "
   ]
  },
  {
   "cell_type": "markdown",
   "id": "d8d53fa3",
   "metadata": {},
   "source": [
    "#### toss_biased"
   ]
  },
  {
   "cell_type": "markdown",
   "id": "c7138752",
   "metadata": {},
   "source": [
    "however, that we want to simulate a biased coin toss—a loaded coin for which heads is **twice** as likely to occur as tails. We’d then need a way to generate nonuniform random numbers"
   ]
  },
  {
   "cell_type": "code",
   "execution_count": null,
   "id": "a462bb78",
   "metadata": {},
   "outputs": [],
   "source": [
    "import random"
   ]
  },
  {
   "cell_type": "code",
   "execution_count": null,
   "id": "8dc2641e",
   "metadata": {},
   "outputs": [],
   "source": [
    "def toss_biased():\n",
    "       # 0 -> Heads, 1-> Tails\n",
    "    if random.random() < 2/3: \n",
    "        return 0\n",
    "    else:\n",
    "        return 1"
   ]
  },
  {
   "cell_type": "code",
   "execution_count": null,
   "id": "dd0c6706",
   "metadata": {},
   "outputs": [
    {
     "data": {
      "image/png": "[encoded data removed]",
      "text/latex": [
       "$\\displaystyle 0.63$"
      ],
      "text/plain": [
       "0.63"
      ]
     },
     "execution_count": null,
     "metadata": {},
     "output_type": "execute_result"
    }
   ],
   "source": [
    "[toss_biased() for _ in range(100)].count(0)/100"
   ]
  },
  {
   "cell_type": "markdown",
   "id": "3249a8f7",
   "metadata": {},
   "source": [
    "#### cash_biased"
   ]
  },
  {
   "cell_type": "markdown",
   "id": "d4b5ab7f",
   "metadata": {},
   "source": [
    "the probability of a `$5` bill or `$10` bill being dispensed is 1/6, and the probability of a `$20` bill or `$50` bill being dispensed is 1/3."
   ]
  },
  {
   "cell_type": "code",
   "execution_count": null,
   "id": "dd589f4a",
   "metadata": {},
   "outputs": [],
   "source": [
    "import random"
   ]
  },
  {
   "cell_type": "code",
   "execution_count": null,
   "id": "88b7229b",
   "metadata": {},
   "outputs": [],
   "source": [
    "def get_index(probability):\n",
    "    c_probability = 0\n",
    "    sum_probability = [] \n",
    "    for p in probability:\n",
    "        c_probability += p\n",
    "        sum_probability.append(c_probability) # this is crucial\n",
    "    print(\"sum_probability: {0}\".format(sum_probability))\n",
    "    r = random.random()\n",
    "    print(\"rand prob: {0}\".format(r))\n",
    "    for index, sp in enumerate(sum_probability):\n",
    "        if r <= sp:\n",
    "            return index\n",
    "    return len(probability)-1"
   ]
  },
  {
   "cell_type": "code",
   "execution_count": null,
   "id": "b7a4213e",
   "metadata": {},
   "outputs": [],
   "source": [
    "def cash_biased():\n",
    "    dollar_bills = [5, 10, 20, 50]\n",
    "    probability = [1/6, 1/6, 1/3, 1/3]\n",
    "    bill_index = get_index(probability)\n",
    "    return dollar_bills[bill_index]"
   ]
  },
  {
   "cell_type": "code",
   "execution_count": null,
   "id": "c2bc841e",
   "metadata": {},
   "outputs": [
    {
     "name": "stdout",
     "output_type": "stream",
     "text": [
      "sum_probability: [0.16666666666666666, 0.3333333333333333, 0.6666666666666666, 1.0]\n",
      "rand prob: 0.3965485288361118\n"
     ]
    },
    {
     "data": {
      "image/png": "[encoded data removed]",
      "text/latex": [
       "$\\displaystyle 20$"
      ],
      "text/plain": [
       "20"
      ]
     },
     "execution_count": null,
     "metadata": {},
     "output_type": "execute_result"
    }
   ],
   "source": [
    "cash_biased()"
   ]
  },
  {
   "cell_type": "markdown",
   "id": "33775883",
   "metadata": {},
   "source": [
    "## Drawing geometric shapes and fractals"
   ]
  },
  {
   "cell_type": "markdown",
   "id": "057d2a9c",
   "metadata": {},
   "source": [
    "### pyplot"
   ]
  },
  {
   "cell_type": "code",
   "execution_count": null,
   "id": "55fb7c88",
   "metadata": {},
   "outputs": [],
   "source": [
    "import matplotlib.pyplot as plt"
   ]
  },
  {
   "cell_type": "code",
   "execution_count": null,
   "id": "f6e5f727",
   "metadata": {},
   "outputs": [
    {
     "data": {
      "text/plain": [
       "[<matplotlib.lines.Line2D>]"
      ]
     },
     "execution_count": null,
     "metadata": {},
     "output_type": "execute_result"
    },
    {
     "data": {
      "image/png": "[encoded data removed]",
      "text/plain": [
       "<Figure size 640x480 with 1 Axes>"
      ]
     },
     "metadata": {},
     "output_type": "display_data"
    }
   ],
   "source": [
    "x = [1, 2, 3]\n",
    "y = [1, 2, 3]\n",
    "plt.plot(x, y)\n",
    "plt.show()"
   ]
  },
  {
   "cell_type": "markdown",
   "id": "b1181f2b",
   "metadata": {},
   "source": [
    "### plt.figure(), plt.axes()"
   ]
  },
  {
   "cell_type": "code",
   "execution_count": null,
   "id": "98d3ad5b",
   "metadata": {},
   "outputs": [],
   "source": [
    "import matplotlib.pyplot as plt "
   ]
  },
  {
   "cell_type": "code",
   "execution_count": null,
   "id": "47564e53",
   "metadata": {},
   "outputs": [
    {
     "data": {
      "text/plain": [
       "[<matplotlib.lines.Line2D>]"
      ]
     },
     "execution_count": null,
     "metadata": {},
     "output_type": "execute_result"
    },
    {
     "data": {
      "image/png": "[encoded data removed]",
      "text/plain": [
       "<Figure size 640x480 with 1 Axes>"
      ]
     },
     "metadata": {},
     "output_type": "display_data"
    }
   ],
   "source": [
    "x = [1, 2, 3]\n",
    "y = [1, 2, 3]\n",
    "fig = plt.figure() \n",
    "ax = plt.axes()\n",
    "plt.plot(x, y)\n",
    "plt.show()"
   ]
  },
  {
   "cell_type": "markdown",
   "id": "0924ad87",
   "metadata": {},
   "source": [
    "## circle"
   ]
  },
  {
   "cell_type": "code",
   "execution_count": null,
   "id": "90923ae4",
   "metadata": {},
   "outputs": [],
   "source": [
    "import matplotlib.pyplot as plt"
   ]
  },
  {
   "cell_type": "code",
   "execution_count": null,
   "id": "6175943f",
   "metadata": {},
   "outputs": [],
   "source": [
    "def create_circle():\n",
    "    circle = plt.Circle((0, 0), radius = 0.5)\n",
    "    return circle"
   ]
  },
  {
   "cell_type": "code",
   "execution_count": null,
   "id": "6ec34dc4",
   "metadata": {},
   "outputs": [
    {
     "name": "stdout",
     "output_type": "stream",
     "text": [
      "signature: (**kwargs)\n",
      "__class__: <class 'function'>\n",
      "__repr__: <function gca>\n",
      "\n",
      "__doc__:\n",
      "Get the current Axes.\n",
      "\n",
      "If there is currently no Axes on this Figure, a new one is created\n",
      "using `.Figure.add_subplot`.  (To test whether there is currently an\n",
      "Axes on a Figure, check whether ``figure.axes`` is empty.  To test\n",
      "whether there is currently a Figure on the pyplot figure stack, check\n",
      "whether `.pyplot.get_fignums()` is empty.)\n",
      "\n",
      "The following kwargs are supported for ensuring the returned Axes\n",
      "adheres to the given projection etc., and for Axes creation if\n",
      "the active Axes does not exist:\n",
      "__dict__: \n",
      "{}\n",
      "metaclass: False\n",
      "class: False\n",
      "decorator: False\n",
      "function: True\n",
      "method: False\n"
     ]
    }
   ],
   "source": [
    "check(plt.gca)"
   ]
  },
  {
   "cell_type": "code",
   "execution_count": null,
   "id": "c5d1feb4",
   "metadata": {},
   "outputs": [
    {
     "name": "stdout",
     "output_type": "stream",
     "text": [
      "signature: (p)\n",
      "__class__: <class 'method'>\n",
      "__repr__: <bound method _AxesBase.add_patch of <AxesSubplot:>>\n",
      "\n",
      "__doc__:\n",
      "Add a `.Patch` to the Axes; return the patch.\n",
      "__dict__: \n",
      "{}\n",
      "metaclass: False\n",
      "class: False\n",
      "decorator: False\n",
      "function: False\n",
      "method: True\n"
     ]
    },
    {
     "data": {
      "image/png": "[encoded data removed]",
      "text/plain": [
       "<Figure size 640x480 with 1 Axes>"
      ]
     },
     "metadata": {},
     "output_type": "display_data"
    }
   ],
   "source": [
    "check(plt.gca().add_patch)"
   ]
  },
  {
   "cell_type": "code",
   "execution_count": null,
   "id": "f6ef0880",
   "metadata": {},
   "outputs": [
    {
     "name": "stdout",
     "output_type": "stream",
     "text": [
      "signature: (*args, emit=True, **kwargs)\n",
      "__class__: <class 'function'>\n",
      "__repr__: <function axis>\n",
      "\n",
      "__doc__:\n",
      "Convenience method to get or set some axis properties.\n",
      "\n",
      "Call signatures::\n",
      "\n",
      "  xmin, xmax, ymin, ymax = axis()\n",
      "  xmin, xmax, ymin, ymax = axis([xmin, xmax, ymin, ymax])\n",
      "  xmin, xmax, ymin, ymax = axis(option)\n",
      "  xmin, xmax, ymin, ymax = axis(**kwargs)\n",
      "\n",
      "Parameters\n",
      "----------\n",
      "__dict__: \n",
      "{}\n",
      "metaclass: False\n",
      "class: False\n",
      "decorator: False\n",
      "function: True\n",
      "method: False\n"
     ]
    }
   ],
   "source": [
    "check(plt.axis)"
   ]
  },
  {
   "cell_type": "code",
   "execution_count": null,
   "id": "9a06f2e2",
   "metadata": {},
   "outputs": [],
   "source": [
    "def show_shape(patch):\n",
    "    ax = plt.gca()\n",
    "    ax.add_patch(patch)\n",
    "    plt.axis('scaled')\n",
    "#     plt.axis([0,1,0,1])\n",
    "    plt.show()"
   ]
  },
  {
   "cell_type": "code",
   "execution_count": null,
   "id": "b400c90d",
   "metadata": {},
   "outputs": [
    {
     "data": {
      "image/png": "[encoded data removed]",
      "text/plain": [
       "<Figure size 640x480 with 1 Axes>"
      ]
     },
     "metadata": {},
     "output_type": "display_data"
    }
   ],
   "source": [
    "c = create_circle()\n",
    "show_shape(c)"
   ]
  },
  {
   "cell_type": "markdown",
   "id": "14e144ac",
   "metadata": {},
   "source": [
    "### animation, A growing circle"
   ]
  },
  {
   "cell_type": "code",
   "execution_count": null,
   "id": "532c30cb",
   "metadata": {},
   "outputs": [],
   "source": [
    "from matplotlib import pyplot as plt\n",
    "from matplotlib import animation"
   ]
  },
  {
   "cell_type": "code",
   "execution_count": null,
   "id": "1788c434",
   "metadata": {},
   "outputs": [],
   "source": [
    "def create_circle():\n",
    "    circle = plt.Circle((0, 0), 0.05)\n",
    "    return circle\n",
    "def update_radius(frame, circle):\n",
    "    circle.radius = frame*0.5\n",
    "    return (circle,)"
   ]
  },
  {
   "cell_type": "code",
   "execution_count": null,
   "id": "dcb265f2",
   "metadata": {},
   "outputs": [],
   "source": [
    "def create_animation():\n",
    "    fig = plt.gcf()\n",
    "    ax = plt.axes(xlim=(-10, 10), ylim=(-10, 10))\n",
    "    ax.set_aspect('equal')\n",
    "    circle = create_circle()\n",
    "    ax.add_patch(circle)\n",
    "    anim = animation.FuncAnimation(fig, update_radius, fargs = (circle,), frames=30, interval=50)\n",
    "    return anim\n"
   ]
  },
  {
   "cell_type": "code",
   "execution_count": null,
   "id": "a531b5e1",
   "metadata": {},
   "outputs": [],
   "source": [
    "from IPython.display import HTML"
   ]
  },
  {
   "cell_type": "code",
   "execution_count": null,
   "id": "cb3ecbf3",
   "metadata": {},
   "outputs": [
    {
     "data": {
      "image/png": "[encoded data removed]",
      "text/plain": [
       "<Figure size 640x480 with 1 Axes>"
      ]
     },
     "metadata": {},
     "output_type": "display_data"
    }
   ],
   "source": [
    "anim = create_animation()"
   ]
  },
  {
   "cell_type": "code",
   "execution_count": null,
   "id": "16ac9380",
   "metadata": {},
   "outputs": [
    {
     "data": {
      "text/html": [
       "<video width=\"640\" height=\"480\" controls autoplay loop>\n",
       "  <source type=\"video/mp4\" src=\"data:video/mp4;base64,AAAAIGZ0eXBNNFYgAAACAE00ViBpc29taXNvMmF2YzEAAAAIZnJlZQAAN5VtZGF0AAACsAYF//+s\n",
       "3EXpvebZSLeWLNgg2SPu73gyNjQgLSBjb3JlIDE2MSByMzAzME0gOGJkNmQyOCAtIEguMjY0L01Q\n",
       "RUctNCBBVkMgY29kZWMgLSBDb3B5bGVmdCAyMDAzLTIwMjAgLSBodHRwOi8vd3d3LnZpZGVvbGFu\n",
       "Lm9yZy94MjY0Lmh0bWwgLSBvcHRpb25zOiBjYWJhYz0xIHJlZj0zIGRlYmxvY2s9MTowOjAgYW5h\n",
       "bHlzZT0weDM6MHgxMTMgbWU9aGV4IHN1Ym1lPTcgcHN5PTEgcHN5X3JkPTEuMDA6MC4wMCBtaXhl\n",
       "ZF9yZWY9MSBtZV9yYW5nZT0xNiBjaHJvbWFfbWU9MSB0cmVsbGlzPTEgOHg4ZGN0PTEgY3FtPTAg\n",
       "ZGVhZHpvbmU9MjEsMTEgZmFzdF9wc2tpcD0xIGNocm9tYV9xcF9vZmZzZXQ9LTIgdGhyZWFkcz0x\n",
       "MiBsb29rYWhlYWRfdGhyZWFkcz0yIHNsaWNlZF90aHJlYWRzPTAgbnI9MCBkZWNpbWF0ZT0xIGlu\n",
       "dGVybGFjZWQ9MCBibHVyYXlfY29tcGF0PTAgY29uc3RyYWluZWRfaW50cmE9MCBiZnJhbWVzPTMg\n",
       "Yl9weXJhbWlkPTIgYl9hZGFwdD0xIGJfYmlhcz0wIGRpcmVjdD0xIHdlaWdodGI9MSBvcGVuX2dv\n",
       "cD0wIHdlaWdodHA9MiBrZXlpbnQ9MjUwIGtleWludF9taW49MjAgc2NlbmVjdXQ9NDAgaW50cmFf\n",
       "cmVmcmVzaD0wIHJjX2xvb2thaGVhZD00MCByYz1jcmYgbWJ0cmVlPTEgY3JmPTIzLjAgcWNvbXA9\n",
       "MC42MCBxcG1pbj0wIHFwbWF4PTY5IHFwc3RlcD00IGlwX3JhdGlvPTEuNDAgYXE9MToxLjAwAIAA\n",
       "AA9bZYiEADv//vdOvwKbRZdqA5JXCvbKpCZZuVJrAfKmAAADAAADAAADAJCEce5rlck9ZoAAAC9g\n",
       "CTox3qjWxx4AE5Jh18GOLa0EU9NyWJHBClKerzPXJw7FwjYMl009yrXB8hzE5v3S36RYW770hw/M\n",
       "2NjMeeOmiSW2F3ANWvkx/B3gnoAVud/WVYTeZQ/PzYCT3WTOgYBUpjXf0HG9KXgUvki0Jlg9osU/\n",
       "XtluGrwI9O/0Do+eFx+pIc8L2qnNraGMZ3nWG6Ixjnf8phqSgGCGPrPK3fh3uzi9s3SXO7lWtRuI\n",
       "UuQyyOc2DNgspfSZ5M1SGSLq4aYWoOVjsPLnPagj8dPQ/Kn9wR8oq2MZoQNl8D9xTMOvc3ymXYfu\n",
       "YFnQxaiGbM6V+UH+WO0vqbBBrU6LSzR6o2UuCbRNtLkGOdXGhXPPOPUdEm1hYx5vFwFj90GoaIGj\n",
       "r18HMKBkABjlYFe5RcKMrEhDXgy7tYUXzHBjIRzuZiYFTh69nhF0tBm0jnV2gH7r+cHwIdpVRYW4\n",
       "kzkIyw6KvSQSs4uGcIGe500xK1rn+6jdGtMmOMFIYZ0e0stF6X4GbHg3y3CWhqPg7Au6KOsmEcIS\n",
       "qNOioxuShhPbQJvsj0N0WfVEQZZ2IFBFvFlr8Xhyzrue8JPZtq9VycM/WYAXoH8jJVl1bJwZBzRP\n",
       "7OqMaXX1jUsNIMfF7fCxJJXVvuJiQ29Kw7Jeyc/rb6wHMCrDE2EeAAMcv3Ul//PDFf4i0bzOCOSI\n",
       "nxN9gZbvtp+S5w1pdWJFbbyA3jPRxge3bgPHNjF0wRUxxKFM4x0ttlqdvQa5ItdQIOE0Mya1sQ9k\n",
       "245liWUKf4MqgXgUqGqdrvm2wy1y3SUyVnoldo1oWfj4893jnFPLqGOPHOA1Th7dkZcUlKx+Z7Wo\n",
       "FEUT4bRGTBZIS0QMEaTmgVoE8Hp1VMJcAZ1vStoQdZ5FffHhW4gAvwbgAAADAMCLu/5l/3KdZtBF\n",
       "rom9c1OMEl8533fAr6+RFLKeqhxIfaf/RiWgZkysJzt/9U4V7log/9vKxPn3vippb+03ic6UbK5V\n",
       "4A3yOvCU13hek+qvfzvg5AZQpa34gzEnQYB6S05hNkMtmsAky9jRKhBSgThzkWPH4edhrnAhjZvN\n",
       "NLXw1H2unAV2wilxQxQx/Dk1PyICGEIc8im52ANSHlYceaVUaOrgVQAAoZkzcgMe6TI4UsWnmSpr\n",
       "x2DuohlujZilX4knSqUcmUl4/k8m1VTRzm4PE0EXgYRo2pMQ1ERqIvZVPAAokAAP+kNnm9pqMNnG\n",
       "ixQhJZ+Q4j6F3usxvxT+ua+3Z3U/aV6iT6oKTQrNThu/Hvu7Aeqn02sC+E/svPyeMGuYqD2/T3FB\n",
       "jOSMuZOkjkknQw3he4Vhp0ozzlbK1stX3QINbzHZorHwyEFxo5c0eAQXYVjmMI/1eEbuEbwdIJFi\n",
       "bpouSABamfAWjZtKXQYfYXl915zlcctn0+baP45U81rvFeifuYR6xQTXv+BPYWaDojkJFS8uCuSK\n",
       "FHmKZhsY3QmuAjhit/5iHRdGAhcARtcp1YTmyXlWZPGy0/7SwNlqvXwfbTP3S5GshEyR6fxVSGKK\n",
       "yQW9L6PUZxKjTAgOBN6fSzuPAXr4xVj/txLRbChvSXkp8EJFHP7JubtbzmT30EG2Xfffsnf2S0kV\n",
       "ZFo8zF8tvIc1kWnSUFLryDvfB5N9RZ7rz+dkon2h27xP9mb4W4/h1PQRn41AFaILVzm4OQwZvF9E\n",
       "I/yKp8U3RzcATFKwCdarzaX2yFwqjNbz49UsBt19Vbl4ZPF4TWxXT4FEU6IqQxaFKvHK2C3jh3fW\n",
       "sLFfdq+bYlLzOg0L5oOCAC7IDNmlAND9DiaND87Y4W2qdjmtT7z2ttYmqJBNsZb5V3Ymmy5CV9I1\n",
       "cLJ4uoJicqBDT9RCAYB2R5NIi4bfXQoNAMmq2OPLsj80PReaAAJXIvJqayl5HDgVYZtgoPEx48c6\n",
       "wUIbwMn5qWqYM3IpFovWVtAjiFAaGMNfi2t5nuGbWLL8Apu3Gldk0VH8S9jP3R9MGCZk8lTPU5Lu\n",
       "ndJzn/OARpII/fKooJTzA3jBAEhxXvyy7Z9lrLe5dPAmApYzQ3D1QTLK5bspldEZTYmwSO8wr+6v\n",
       "oeVAscSqeIH7WDkv3spacXUkIOyEf+XajG48niGNZ9Pr+L9LlvNeRYhhdWqQJg+usG68tpYh7wSK\n",
       "YToI5T3cU6btJNNzx8UtdU/yblJq11CmJTTdyKKq1t2EZySLZPdfPoUXM3+kXlFlgAAi5NmeZ402\n",
       "h8yL9yJ7r5httv1vbDKx1S3lgSreIxaA6ArDeZmJx5hQekIJw0tDI5LT9OC0u8bFy8NvKBaFJAG1\n",
       "MeSoVSeKxQbfT7njAb0Wq9gh10AgGVxGANKlc58RiQYNEz5bTCE0T7mbUUQvjrITLUqsT1J7iYRr\n",
       "pxZh+8X2zjD5HG+qpEhnPZNo605uA/kTF0hY9e/eIisk0YfP9CnbY2BOod7eGfztbG+JcUSosP+X\n",
       "Diip9Eci9exsmUgzLd3dvuXyYAgGtngd6D2ASjg2fjoEJVcSHUgqJV95ZtvolxlK1g+XpvIJv3fz\n",
       "FYRFAt2tcqL9BOUm1dyxo7Vtp4317vRbyzDeRTDm0mEnUBdpJ6PSurAuQcG11OP8UqvHvVCiBrjM\n",
       "mJMLNgGRUwbpmeTrcSwHbYEPo8yNPL3S1BIGaDTK0Kr7P+CcHwa1wIlOSd/9bONT08AJ5ZSLDOB3\n",
       "CQlZ4QsJzopM8IN440edrXsxSA5TNmz90E2lNh+xOyKyszMJphQN5fksqTyM699G4/ioMdW2Nfou\n",
       "wEbyOPGXKTUdjyFMNFz+F7vZX+JWH2JjHfo/EaJDadCSww631x4tHZfZlWyDNZSBkZyEpDLfwADI\n",
       "1aBKAjvYWcJlzrsvUpBKz/1MG4o5MfaFi151NZJh3LLS4uE0PnGbRGgpDb/z/resTW8hBfiu5hq/\n",
       "Pwg2rT/fiNClNvthQoHxuIqZwu/f5Ib4xTJxwc+OGe826oM2aUuC+Kd5/ixmrPY0WQsfBasuVJjC\n",
       "yMcSwOrP6gUEE+xwsayHvXnYXAzBzK8/pqcPzOUlL0hXghgIimcxTumY7gIG5dTuy+LZaIst9mVl\n",
       "rWluXPe9TNwgSgT9jB0kxOnC68MN1ILzceZSdeGMsP/EWaS0/tbrSYFMTOX1CzI9/7p7Yu4hOqM8\n",
       "nnXpRB8PvFpwvlxI58VQoL6GZo/ZsUNRJ8SvzTcT+g8WJXZdDAaLENwjYunWCQ6mC0JQ0dkTqzhf\n",
       "snpRBdVgd4/fQ//2nTvh4BiYvw0NrtFC4SnXZou260uMRKz7ekvP4kmJ/pHMED/8CbworjHdm+5M\n",
       "09ZP4rJ2er2zXybi1shRNFf8euJnz7a7E+kJzA4oZJAU16cX+2Ol31c6lM2QRQyAZqa+83ZFrMO5\n",
       "SS6SeZMJOAizi50IRPpKKz3kGsP1sSyjHJesBys7jqG78riYcRIucdWeOXFRl9Qq/w9HlIoXlGeB\n",
       "Vbh/TbyflqCbb1peTBlmKOaWW4c6YyqYB1HUPHJAgVNg9MAaDdoJ/Kdo1NzMxygPOS4qhoOw+C5D\n",
       "uyHSX3N4vBGgUB1f1ySxHhDqzPRyIC7o1cH9+uQdsnfZGNAbIgKtrsD0W2x7NnrmEPXTCX4mXRqO\n",
       "uiNiDvGLDpTIm5aLtC/Up1hStWFyjyocjNNdLk7sW0r409QuvmhLcwnvxuLtNXCfcWD86/1J9dpT\n",
       "sDyW72kdh10DzHDD2wpCn1d3yT2NATrVOc8qPiSaastvvkt1rvD8N/+1yBOAkj3YcqyRIjmWPFh0\n",
       "jbSPbq0Bi4NyOMw/Tu9OuPFmvsU5CcJt6Z/cEwdSwInOR5/vhOnVrT+sTwOwMD8Bq/P1ojxw31BE\n",
       "DaqhzGXoZ2SPYn2a9F4wwWFHTJP0yMV5zS7NpB/KtenIaIQ85knzGz8agL3moHE5zLKKgn76Vsn2\n",
       "DaQ8T+L5VxjEP9SjlQn1gGERj6AsIseWhMYE4W5LrEfvIbXRBACxtwuozTnjmANoF06h/B4TpGWO\n",
       "1UbA0AEkJDWi9QEaoBH8tItQWvqRY+RkRyJVaAkTUHzJr7MytUavePoNBGBiUq4huPbyQyj8U4h0\n",
       "n5MFtw0xwejmnPsEVKFBDnyTJeWOwdMemQkMcSZKDI7d/6QzfnokWpqNWAerzCyeUd5UJltcbTy3\n",
       "VjXtbwbz/qw/+sJDB03VVNfQ4V8UHcxLpFl+PO2FA2tp9jlJAoZhEL+Lh+pMS9tdABJV2IY5gkv7\n",
       "bxKjc6mNLWqcMIFZRn5q0bXVpkS8b4uPhr5T/5qLiqiexSX9MMF9UI4Wag1Nq4CV4BKH0AP/XDYo\n",
       "pfHv1r9WqqhOWa64QQffxkOTyjeSNFu9vwE8gFxahY7v7COYmx9GY2aN1HsWWA6593/TRTrQn/lW\n",
       "TmxtAuR49DoiXhwoIR9Zo7w5uZL3qJ6UTBinDGHLFO4sIP5MHgMhYeeMcfVdov63uO4VfJTuZhLv\n",
       "1Lds5aj1od5G7nHccwJpejw0ptuAQop6gUdK4E4kB2L6Oz0U2dbb4FYXGE60ffdo65aeGf38MZJ3\n",
       "pEh5tG0dTQ0CxsQU2k/xBgFiJmI9uHiKoApTkctcj9DF/EQd9dmu46o1cHlGo7YA0lsUTlF4dten\n",
       "Pt67eqT6Tncs83sXvMiCjJQkaScTXBlAjfOqN5rrlIUATCE3bxVleTA6qTpwa7Zk8D3nKPezQ5qu\n",
       "E2BlhDE6fZ5s/1wXjQkCIIPSJyS3zSwvYOngod66/Uh8Lo5eLzUBu/peWHTjSqN5kzileIyMkwGX\n",
       "FeS3cN14FTjGFqt0SEPQIdkAA8ZxlqXrz2RhyRsm3Glo4VqIRs7MT3bLinKkMLzQ+C5lVmURVjGi\n",
       "BHrkgpYnk/kLYUouib7o/b8AOipD7Q4CSTqkIdySS2GEarjzvhDwr1dHSiKy2/IlrFUzrBAMFt5Q\n",
       "VdxLhOh/8uOMQAfsrzDiP880RO+dI5ZGsIN0zJkk4HtuyuvEwO0JG1uZrMEGpSltR4pngTVqBnTt\n",
       "z11bBm0DLKN+jbFnxH3WQt8xPrcqQFDEW1qMI7mpcU0dQwCMqo8Ln0TjRheqURuwg7w7Re1UixJx\n",
       "Jys47N3zkU7tjgPP/Jdt6ppUlxC5Y4tlm5CLe0m0ljrFxbuZ8/u3gBUYjpZ43Nr25U/yu4IuUaZn\n",
       "pmmBHvV1yD0F8GARgpMjOEA3ZcaRx2DEpQUnFcdr9zXBouksMdGhEPP9lApmMCal1bAj3Reo6AAC\n",
       "XwAAAdVBmiNsQ7/+qZYAAbK/ogBfgL/V2V6dCo8N/MQntL4M5DuDV8UdROGK/JoFxLU8Zt2SU8M1\n",
       "ago/H6LlKOvwjz82n1aGSFNsqK/R4bwns1b00UNuMLe99KPiexx9QVTcHCEw5CcO/VEyUVTHCGNB\n",
       "1olur5ka5pU7YVpgfAOn+VPVDaJ6tvm7H/c7pXLU+TRhbHfsd2cu4hSJSAZk6OxUtCy91AysJcSS\n",
       "241tIBuyp0ZuvyULe2myRhtK6EWkPfOsxXhI+2OKGThzNL7Zlx4SsIQ3Tyr5CcAH0m2WxcZWAun0\n",
       "GWnKaZ9DlAbf9K+tgj3q8vxG6vn/3qPBbnill79D5XCsHLmI3cUhXOX1a9NH6sHoB2pHGsMikjuK\n",
       "mF88IJF3KF4E4mBOHuSLgozJKsI3hMBr2auC2vO0+zteBFElMcyIXMx7064syBNXsox/jPF8rG+0\n",
       "sj8lh7AMPjzlH5uhXydOXb5kpJiUOCWwN1Lcu8Ao+aw2RgTDYA/whXsSq7lQCzOlcZ23NlhCJc/v\n",
       "tJ7fpN6wTYtRUGwGgg+1vs4AlXrAh7/WLDosP8/oscKG+JyxN2AIZ6kq6obpzBcZG75aXHqnnaby\n",
       "p104vTG4gC3jswXPmi08+zTAAAAAgEGeQXiF/wAFrx3O5pXhcQznVo6yXrbN2iAQqwzYSpWy0+L9\n",
       "Tvm5xjBy+bBXmhdFuZCCeEc/nvh3KOhKg3LwtHMPViUxipdTr3fZx4hxeBhLCt76Yl4CKnTwkDGh\n",
       "rT2yUwWxXxW0dpG7NzoKNpdR1GYXnDBStZgAB5Ui9qvgP6nlAAAAVAGeYmpCvwAAAwBnHQyoxpLN\n",
       "UlYlq1v9JgHFLM7a4AgCWw00VQGf0i777ZusWE7FH2EH6dZUoHWrP57iIOB+luJJh66TDSCumKkz\n",
       "jpfgdoapfhJtUAAAATxBmmVJqEFomUwU8O/+qZYAAAMAsrEnvUU3EAHE85xMrqllcxRRGcPbX7zV\n",
       "V7+wdZMv5YC3C2zMfE1B5fW9gxR/UusYNxN/HlVR7nq0dXvUMlIsmshmAnIWFJc0Db2CF+TIzZ8U\n",
       "euuwvUrh3Grm88CUgomZmMTwEGONHitTyF9lhAYUWIeW1wLPu9ETROLXT3tXTYdoDVWnzKymvPZW\n",
       "/Z4eJzXvV7+28D1x37NQgWYwsEeEAip9WhiLaqJevotW0ZsuZCMkmtZDdilaqQ+uvl0gCz5KCDaY\n",
       "Ygz2vkVzLhGf4edwxZx7FtP7rm7mKoVA9CVsPw4RDisoi+78uY2164wMGuavlFmmC6vGno4OHlC3\n",
       "9U7PwhkxMiMA6FfQl4LnbLB/SFJuVgpH31f48xKTd6Hgn5GillilsJHJ0sDhAAAAcAGehGpCvwAA\n",
       "AwL86XDXdIUzWkCuTQI9oJ8wEf1lst7LH4Z17Tf8k0v0LL+Em2OClUjpJrkEjsgGGPc74rgATiFe\n",
       "fJbkqkFAZgvRDyqKtN6kzqMuaJomEBcViKSD0dX/UjbLpUtQdTlyVfQ2BNbIbaEAAAF3QZqHSeEK\n",
       "UmUwUsO//qmWAAAFJ30T6zhJjKuWraa/mMW5p3/va2jLULHklDizU25IYZgBtaqkywMAzrdVN9jd\n",
       "ylqAsOJ7vO1xoNRUgxO65I8gR5YP6ucZXRsySaQ9rrDjSssEVWWqeadvSVnpBQWLfkzjLmMiAlGm\n",
       "x0bp1VbfJ3I4aFu7r7zcLpNcMnXMTy3FAT+FG82RmY1N+lFFZN2b07WkmnoJlh2h3cw2jtwva/c+\n",
       "HEfjrHcNeq7JQPnRJI7bePBvWshHOEwozVs7FnA1rZcM21LHCWVcMP08RMM4gHLt9PSPmp9VIkj0\n",
       "0sF9HS5bkVhdU/1Dj6cxkMC6u50kDQkoe70JrC4UKqvpm1ygjyf/oARtMwSNP3086VcwbFkohzcr\n",
       "s6WaiBeO2OhZbLg+rVb6lunnqKEisoRJXVGOvVSFYrnTY5BP6PlJmSa/Yk52+vFT1tDAWr7rJGkj\n",
       "eFWZe/STzuXl3CYLThbJ7eqStPXOcD0eKt6BAAAAjgGepmpCvwAACG6/w15qhxRA3Iu+ISVIE6bf\n",
       "ER9i9OlLwi3+SYkQAlSCaTsPkP1ChhCp6l4Oqiw14cIatUaEXpKQqargsM/aCOsQCw61J7tU40Tz\n",
       "1jQlgr9YripUAiqjYxLTyPON44nX8+90yQAWXTNVUCV2osDPRmBotEaFa/nzOrDOtqU8VwWuVxqb\n",
       "QvkAAANCQZqrSeEOiZTAh3/+qZYAACpchaEv8NK28yweV2Vyidz7urXkzN/Gr73vIPDOFElnMG2J\n",
       "H344kvGZuBJp1+4+Ptij9ASgY/ar/Hr4nGodSzL/jx7Jl+5Vs2k+rObwCyk6qJj3w+Y/hHpg8lpG\n",
       "dirtaPPW1TrbJ7U84aA4tmGruugfGj05SxXymykcd8ib4zhkkNaqaTMHt/ZlvyLJhOvoVOumAxUn\n",
       "dSWPsd9KdLKYv8Nr+FRPUKRXFSPiMniDXPtbUTTF3ZIlaloyNaSa6GTcZq+TVJtyA9D14Js6fUeO\n",
       "lceLoOrudSeu5es7SxrH6tNtAZTzKjetNhur3edZfYcvH94TgJdq5BI43RPeEUmH/+IEjN1PfMkn\n",
       "dkEiGUfucV7eN1sF5Ftmeq5S3GiUYLz73CCzxbrgd1Uh1XnQvAlQWznfGY8OtEbIT87n4AwzSTUI\n",
       "wOjzUuxsXROWuJFAs5iDzTgmvEYsEkD/FU0VVKjufirGsEF3XPnXu/Q3bRkdmpkv+SO7hZ3dGK4s\n",
       "LCvVulI8HlXgSIlI5vCSLYwF17IBqZueH1AT1NWxprMjPEa7VsLxPtEIjYq6oCQh1Cj910fSIjt/\n",
       "2Wwj0YEokjWvoYagNbUSMkoDkaRTPPD/5K+KuwudkrznBTVMHPtz2bf/6aGG5a00z3XIMEJwDqH/\n",
       "JSSyhGTe21gANDvRdN4s58ETNuw9Sobeay2gZ4UyK5usMpYk5wd/SB0moXe7QNOkPCbq6rRDU4kC\n",
       "GYd19aGgjj6p8+ly15vR6AzvvN7PLQpHNBHPfqQSJOsJBdGXYP5ZG0uUVhFNDiXphTn7jh9TgrjT\n",
       "NwZp/0VVyzcc5QSOx38BEy73PTs5IVADJDgAjR/QCMDqJajxbOuyfY15+3xE2a3AAK/5oO1xSOB1\n",
       "aIeQXJmiqbAxGwAZN9+lpB2yj74PyLBi8eF1mAFH+EpBH6SWgfZnDmTBQIqbRZ05Bhxs4x4hkcJB\n",
       "YmrZGmmiNuyVzxv/va6C7cebL8eBMjSnJe5p0IlD+vEE8Jge3xF+iLhA+IEIO7T0QfFl/OLXLJSM\n",
       "dOUlDMQ1AsQHFwx1mxRCtfQGGQwWb2il6p5VBe8n+y2ndVJ2k7oC/kV7AAABC0GeyUUVPDP/AAQW\n",
       "gELcDLfZJdkoyWoQ3Y/vhBQuo3IB2eSbae/L7Xho/I6f8j4p0eh1gx54auZbvhwdzIt6gY+jrZn+\n",
       "TShWP5JtJKh/1FnmSjsK/v+o+9WyC1IaX53ilIEAnvYifje+jubId1dnkr6nGqfA7JFxPpSpP/g7\n",
       "r7597owhBxm1nWH7CUARPRL/RQQGMofcMAABM7OKjbWZAfAFx54Ec0FUyCt2ZZtLwdMz5VcrMBXB\n",
       "PGwSYZNb6zVdp1EwJxVfm4pJ3Nr0OLyDE/2jcczxIh7gcdTdjdlY8YkMsvuWEGvrZ+NTeMbAHU7Y\n",
       "veQJMG2Q5RR/f2FqaMKKHrY3E1+odPFNFD+WOAAAALgBnuh0Qr8AABfo3/PKUjpXRayi+r02NnDs\n",
       "hzEFj1fRtzpuyHBnYudOLqu8sqJVJgsdaUqG/e1taTpPEi7vDzKzKnqX5MdFNzQWB5gj+6xMALVm\n",
       "dA1eHgL5HcI/4wnbMlTM9WwWrUbMFL4kht1ubsEOVii+Qo3hMxktn0HJLlReGbRZOUVGfNlh3WwQ\n",
       "HgbAelxZlMYPlqDIchS4IzzNz8uUg42OuRf92P0VGkRJOQFp98wTsgPB++SBAAAA8AGe6mpCvwAA\n",
       "Q3XcqMYxQiuIoIoWCQx/g7ucFYY2XdUYNSd/0HY473JO+aUJJeM6Qc7ku6teEyykMqUnHI0+zSke\n",
       "cbtgQKB8lQyvEVHwytsKfe+EL44vne/sehsIMgLFJgW9ddoc01eABp9FnMpymD1Ituxtc/WZ4mfE\n",
       "2LtE89XpdD/vox4edGRnm05m3awpO1o5d7whbJCz54blAO7cy5LabsEFvgKID4s3LU5n2D2aE5GH\n",
       "neY35DRlpm98XmFR2EL30ZltwfYhStQrSau1X/cAUAr0xGyMhfsQs7St+QA9wjPgn2Ajj1nGAzJj\n",
       "QyRFZQAAAudBmu5JqEFomUwIb//+p4QAAmpVvvobB0ejkzC1sv4GvzAF/uLOxDoYp2zxX6YmdGP6\n",
       "8+N3zhJFy6OxttgzUYHW6mZgq54jxgd4pTShz515Hz3Z/nGQURMvMDTxwGTXoAl51bTtDirkqkxn\n",
       "TsmwcciZk/Fqxl3QDOJlsqXueurWTm3fJOBU6WMaMOPuHu9cW1MsmHYP6YoU6kWkHAzncOyx03ZZ\n",
       "ZHk0WDM0k7dhJ5qdVjiyb+UZPP1Qr5bwC1LyULDRUQjiPWhyDYlRSJ0Dcyu3aGluf8H/Jm7gjhWI\n",
       "eVmXae7DWLbJn9PrmHlqsjvubOAXGQPGYJ5fQwTTEraNuSXyDxweOwFfNxC1yw5mt9fQsjuztDHh\n",
       "IrrPP2Kfni7j4WOQKY9muwlpNY6OYaMPtK2a/2ns0/6Q8Zh6Ho3jr0g10+GmgL4KOM7d3zsa1ue/\n",
       "oEm16SWpt2kNMitz9a3pfZQAoO0tnysF8D9AnBZjqA0y+avUpPhMjkgYeM2Bwzg1hXqRkCxLjAdU\n",
       "Z6eME5ymTXVlzBSpWZioj5mOWBs2zeRA+3wh8L2G83bQCdXD5HcfKyGNe6OXGiJ5RyByxj9TKTab\n",
       "dq51HBDjUqQqOOrSkK6QqmrEdHwDo9gO8ZvXznDBg5zSDoZLa0p9tgS5KHBy9E28ZvQBJptfkPdi\n",
       "aUp7FNVJUqE8YR99SE0PIUNxjxKLUmTRUUL7wyfhcG/b3U3En50mLo36UN+Rhu8TwTPb6E+WDSDb\n",
       "xFClMKQEDN271zEjTOP8510WLazuObRGPjabwHktt+ZPvEIWORI2pl6unt4fQ+vzHq9KPbM5gUAc\n",
       "PXQ/s/nZlDl0tgadYm/I+wYOVmj98s0qXnYVjRXbqpvK7svo2Eu67kYLWd/shNCNr0P930v6H7OJ\n",
       "a/mSxWGLyubMVLVc7PX/s5W5lkkX+uG2wmgrqM7bjJqhlR0QQsd9sLoXTnHgrYnpBizoDC5fsius\n",
       "3h2iQK5jO3nJlAAAASdBnwxFESwv/wAFryLxNuNHH5emwvhuMNbiMh65+0dGu6exIiu3VhDj9T9A\n",
       "nhI3RdSrZ4jmNu1VeBuu91kWXreOU4GGKfAIy4oEZA4SbRMKOCOX2gRzTNLTr15/WbLinQQCfYw+\n",
       "t984+Yd3vqmRyVJBB1NR13kqLExt6dDD5iMB3fCsA8KgzkYyZ4OUQQbGbKV3WqHyAGyrY/agpvNb\n",
       "OqiLFIWoI7wbaS/XcjA3q4s3dGTB9OhZcQwZtcTarCABWdEcOG4CHc3pFHbFUYTA6hFWk5lU65cD\n",
       "HONmYzDujmNsHUoR3wSlBslU1foIUk3eMWGMQ8pYVL90N8xD1KghG5r+OiEOBni5v6CQFcZNdXOJ\n",
       "bgaS5+ZGKTb9FD84QFzscoV9Fn1gL5PfAAAA/wGfLWpCvwACC67myauDcNsOZDAV0AJJBAYvEFxF\n",
       "yd9oG7xVAW+Ko/4OiUTMcbyxADrOaoJheqzOk/+PC2EjUMSOQzYA8U8AjXgiuJg44xf0RmUT8q8I\n",
       "ch32lUHHux9afddeDyUVRLg9vRuHsI84dWBwiFtQ1EtLAw1jeH90M0tEqFTziZkfR+SbW4OZrEix\n",
       "/nhruki3E/3gB9jM/g+Q7VcoOdd3E523FoEmHUzxj0Vbx6kZuqiw/m0zLKuZMuofXfC4jj/4V936\n",
       "ll0XzpJN/ob4PBgkoPo2xLBNYbe/CAMmxXE6b+MR+AAxBMUpjviAuzulF0qfovWjOB+Pxic+YQAA\n",
       "AfdBmy9JqEFsmUwId//+qZYAAVNiJK9xOIAOMfiFt1DAVf5ddi1kCghWLzKAId9o01Fdf+Yb4j1A\n",
       "GcGqpjv6z+5xBDLq/oM5ohmESo57NB5Hd4MhiIF+3hVz+lGx5dyNjekd5TbRCntkvo/cQC77ntfx\n",
       "FHXp+yz5UCoCCE94Rh5RZm3fZDTWS/W3tAM9/QzpEPB494G3vzaDScDRipxA/1X7pn/CEPB92+O2\n",
       "63WBKQ/hGqcr8M88oEQ0CDn7X9IP0ZuThdQSf33Hl9NnYuzeKxWwssCgOOmuxZWjHMD1LmnACPs+\n",
       "ZYx27bPq46OcwDncbVZMFYztPukb+FPlIDLY8HKLusyRY38WN7qHQAG0U7h/WfOPPZMRYSjWJuu8\n",
       "E1RaOd7asS6GTdViSPqrbH+AYFal1aV+vbJZiVTkt6Z9fv/Ti7s8I5IYdPfglclYPVF7H4csoDFq\n",
       "sJpjho7ZpvKAKwOSeq+q8mSTF9O7Y+88CI11ntffnbUi1kg9xUNFYWbaVobvuVMNVSu5V2wrMb54\n",
       "MOPcyOHiw9AryGdfK2tY6re+tMNLyceoUHc02uhRNGeOzBUp0Cg1aLAeWZbSMF/91VTwMEInADi1\n",
       "VlRqD9thoCPqzuRwmxegSzXnVdqMdnxA0JoPu4jXOy6HfqN+hIrFBD3Rg4WxR9IUkQAAAgRBm1FJ\n",
       "4QpSZTBRUsO//qmWAAO/s/4GdB6dAL3yHgepF+sJHvfFlMHvLtXIiBg/RkhITVMKK2ogF+Mp7DwV\n",
       "zZ/UiCe1aWViwjREPdSp/APt/Is46SWADFi9aidIi4a0v/Wn92ds6maG90zj1iek1QRUbpJxHNP4\n",
       "TkRlmTdIN/kpuJLJdxJQY+MqYlNxkczsuIfARUCFxMlqjJZWn3bD3yQRtG6DTEzNxLg1EYkm2Yzf\n",
       "OImIp0VlATZ67JMFg8yI9FgFH54s2Wi+U1spmORaaQUoBzCKARa6nX1PiWmlK8wh+pefVdBPR/dZ\n",
       "7JgwSAjOeNcj+kOpIFG187lyWW9l99LaOT9tgp98LoONKBl5owfNIecfYxtcVIq83EwF/vI+ysYn\n",
       "bFpDjflRtPG4TaGOJbnexpVM/x8OqMC/v714I862Zg1eQkR0KXcsHJOdBK4YtvRuJpu2fSp+psiz\n",
       "nfi28JoVCwg00cIiW7cnB545rkYe6T6Vsvk1vMDe2IgAB0ywsQ44kk9xehpjKbd1mXM4q5Qz7JPw\n",
       "n6wGKrgM7a24NcVvNJRwuz6hdIoNrEBvaF+20H0U5DQz+XQ4iWdVqxV1LG+JSvAuUJ0gGGjH5nTO\n",
       "jdbbn4HlvElEa+Kn54bP/stVm3LHVjxKuG53uRF4wGP+cG4H6asMdpaQNqLXuab/5RXVCTOWGBAA\n",
       "AAEgAZ9wakK/AA8zKlDXtnhCelTqKLeTR+ZJwwbAo7jmfl+NN4uV0UrH8cDUpc1URMZ6RfE9+mPG\n",
       "dDWVpZqzkNQtmMRf7CQIuTK6AAnenupvi2YE9txFCHHdsfND2TJdCkwItSuHcFi3RsPi03CUD1a8\n",
       "YKkT2ALggQ1KaBXi+7ebj8IBv/k62Gb/Hywq63gOTeUb0jfvs5WHPW5dcLfaVVJE3R0fa7LgBZxR\n",
       "ZQPOdmFIq9NJEgTbgL598WKWuRITfzvsTSUClHUceOj5cuWUHs9vrmZgndiVUrzxgcVPl+JBc9/e\n",
       "ycRHgJnY0zT6VRSBB8WAFm+HSEgGhYimR+gAVTwDo2lyYYJ8nzPu0LG+rF1YPWQnxlaYbRApp5Of\n",
       "Cb6k2gUsAAACCkGbc0nhDomUwUTDv/6plgAKloxhUeoNh23Jzgb0MGWiboSCUbCND0ACzg/QOVW7\n",
       "LBs2QF40ei2nBQRZKF1QNbrkR3HmWkgGjQNH+V8LAFINIFbgLeTme5Xvdl7uAvWEm/FnSbkGXyv3\n",
       "1f51MJGloZi54HTBcG67F/uGW+bH4LlHGgRuxDp4mUzirl3UkHhT9npZclPjlF2X+dkY95IsDi4F\n",
       "c3vAJPIYuP4DxxaGgXcoRaNw4kc9INXsnWVNY98fLl2JQ64wu/4zaiUhxOIZQFcQC8XqIk9xP9lK\n",
       "yV+RjpSWXAKz4P8Zg75pY7PvcfcBw2ycVCpaNxhHn9CAEtgbJJ1bX+RdJEUD7tLCXWotnGBDfTVW\n",
       "rr13czb40Y5o/4D9nOIvpbkbAQCC0nvcsd2pizr8umoVw39W46pNYKJDWzGdeE6zcdGvhcFs+PV4\n",
       "VBemfbCOyf8GmTFlMfp1VghyAAADATWgLR35qLkyYWsALBSztAziXCo+KCaL8QjAAq0Fl/qCTG3s\n",
       "/hHZUfipBDWo9CziHWybt64pTsua7WAGc89O/mI6guKRqPaCfMJ1Lhn0D3zuZlmi1Bh2v/Dc8Tas\n",
       "HW/GWRNqikx54kmB5K1An2Qdio1szvHSIA2XLjrrAmccD88v+AOGR/rHQIn01XRH18OHNBCHEdWX\n",
       "y82uzmeLuceuBfHAtZjUp1rFbQAAAV4Bn5JqQr8AEV13KjMw531bA62nu/sK0X0AH7QDBWG5MMCy\n",
       "iuVpZFJhS6G+37jmgGXzp5gPLZ/NJcx3d3OZBfmSBW3BeTNoe50fYAAu37XN7a4jtUuSKKaGLiPX\n",
       "nlig5Wzfi1zBIVxPEtfEeSRPc34nQfNSh2MZTmP1f0BKWzzTN3vqUU/1vssxZdMfYTJN+UT6OvO2\n",
       "aymF7m4RrD8QYBxW4hzhKtM9QurJN4tsg9W0JVR4ri1AsDwAUUvzntUtiM3mVK3xEfhS1FJVQ56i\n",
       "OTMBD+/6zOdLt3VnWIRavp0UK1FJW9KRdInkGMCQkazLg+FpH2brAaJ7PoTfdrUTiLrwbMUVuQqc\n",
       "OFhLribB6jP7uwvuFakTmjYWO1XRkoZ3SbnPdVhKKN+iy9lIRXKgAl730ulQa9BtKTtLS2SXqvtQ\n",
       "L5s06X6UcHkOXoAAiWjwQ7v8QJPxp8UUAtbt8/25YAAAAv9Bm5dJ4Q8mUwId//6plgAfXZ/tzhr2\n",
       "YABtVxMvjdVhk4+e9bwQCBLSyWZ/IoCPl2J0xcP/dsyhRuIB21irqgYGbG1Gg6u/ygPG07vn60EG\n",
       "fTGEKRaEbFGfs8+/HOhJLgjDbt76xUhrVtmt3SNAdoGKucrnZVBxcDCXKM/dOefChe2QeBIvIAMx\n",
       "3CYX8g53VWMvoETP/kb3aYBmQYQRVsFKcfnKU5uw0IVzV4BPGKa4ENxu8dKfm0AjzbapX828zagp\n",
       "KmYEmDnbItIFuSyfGsm5SUylPpGnDn8R2mlwqknIsrbxDBsAAVX8wwC9ZlhcIC5jRXALe/Itoz9k\n",
       "z3x/Z9F0dq+RfZH57FSVtpw0hhm3M23d9pk5J3V+kEiEC3iJiRbNWql20pXiKL6icgfJhAJRcgWi\n",
       "QOiPpr5mCwgnEl/inxB0+Y1LGbKvXkicxvGeSbskgM3PyE6Chu6HvgvXf/Zh4UQWUh0icGOsRApw\n",
       "liCQV/WahuuBQGU6iRdVOfFE6fNbwcFBTK6q3wL7EMF9CAxR3q2ZO1d1nY2oLn/fG/z1mOONd6Yd\n",
       "IJ2JiEhgIzluQv1L88vBXXZS1CfF83qRA84s056IJH/6hvHmHpJDTmIxcrVNf4xHq/ixZP034pr4\n",
       "bgsVrkFBgAJ7XlwbviEHgBiv5tqnwdf3VvxL1u7k+gPIP0cRJhFK1Hq8/tG67ivdRCc9n2/pGv3+\n",
       "Fcz9AADM6d/PBQDrkYgJabNTsf4DHPVhqCukX4qQGqvY1qAVRbPf++PJI6hO+wlxfz4PU9W2pb9s\n",
       "MHRcC7DaiOJgMdgp6T0/6Q4toXtYCkKQIaNP5nWkqb9kCiF4mq/lswd9qZO9ZwddLCS8/TH1RnYV\n",
       "w33f//+aIHGhhHx8k3RPaKYqNWT5vokvjstCzP5jJw0UzGPTu+RJKK5p7q6hlj32or4zrmOIHVWg\n",
       "UZXKQpOmdEOnNx2vxIhCf67etZBvKHDdFk2+XQCYMEXlvbPIcjHDCsYDzm95jUnBr3t55A7YjdDC\n",
       "wk94kAAAAaRBn7VFETwz/wAbo1mo2Z8AJq9QEosArSjhmEOZLRZzGj8Xm4cdLmLpd/o1V14Fp7fu\n",
       "Jlp3bXW/oo4yf1k+7YWe1Cco7JpiRZeGxYkB+Twt5cwlJVNbEZXvZ+CVyqjE2p1BzD2+eJhDRXLO\n",
       "vPD3BU6psRr5Qd0t7VGpNa0ElxpwhnBrtYDIeCBE/DBlycxGAUUh3mOrxeHf6PFmOYBIugArKRN5\n",
       "e8quV/Vq54saea/XicWcTkv3+a0ir2lPHlm60G12qut5V3BiXK7Br7gURSaNIKR6iTr/DeUxYW87\n",
       "kZrHbvKAXWZ0jMIu/plJQnwxiZaLz+xUVmvZIwqMpC1bJPHi15YQbXxt9lzebdyNw/vQwU/Md5eN\n",
       "y6l4Atk88+pd3enLAJB2/ggT+5R4GOGsDrOO0dwG6pQni+YI9FPlDD1QSvyA+9yLuPjpYIEW5mBK\n",
       "y4MZiI+bFJ3wo3GnBC0yRUtVH/8dET6eIwFwyBSaG5xSpXKv3iR/Mnk81kvo98CLMiWr2DBZUQbz\n",
       "V6zdfOfNoU8L1Qxz07YTKR9xV/0CX0qbPfPlsj8AAAGkAZ/UdEK/ADERv3Rf3Cl384AE6zhqK8zA\n",
       "L3AsIkJvf0xcEfj1jub5c3MFbRaUU0fAC0CXFZCwDyF8MbYVpPKveKayTJQ5v9mgBiEdDpXsCXdY\n",
       "BGUay1tDchUdkXrUtNI7nBrY4bNt+uswdaaa0rWPjYYlLzHmMJy5k+zUcwod/01K3d4ihHjQ/Qvk\n",
       "tAf79hKARDJqHWtGPx3Z/kKIwQUO+w+LSfUWAWX/etU17b4Wnanj2KZbOFxB/L8jvNbx8gK/Ln7x\n",
       "4WtG+xNW8ZLjAiqTxobD+vQB5agDYcYFZKL7EJHrlRqVntKLZo7vyqk7N53pf+CbfVGt4dq593+i\n",
       "l/i/BGyT+R4qi3pguMBBflGRbiMmX8tMpPZTTgF8sB9mTwWJUkhZUj8KMs6e1yMkjl48lvDOl8oo\n",
       "Ov3cMa63UQd2KYxtfWqIU97XSW0nKlrtiAPXehyNhiKs+vl2n/5K3Kg377Qfupd/+tqn8oAK++UE\n",
       "m8zrTwo989tmauoP8c3cwYlDeK4UoNRAjoikc8HC2nezeV/ye7lZc0JzQKz6LP4l+rGItw7oAAAB\n",
       "CAGf1mpCvwAzjoWjAnvAAS1stie0sVawEGr9BNxZrmNnRCRbICzZ46ftj8T8smnWP6Ha6Xk67gkz\n",
       "47GmoDScN5SOl9MszOAF7P5iLajQXRSFe1aJrb1NxZArlGKiqoKLD2pLENUtjLXd33/VbwkCzmkF\n",
       "Yndn/4ZyZPHAIbNdUl4C2qHg/QLyPA+tM2Oegyt0AMry36AKFIwm/H31mm9FyB5f34aghQvxd6ty\n",
       "7KdlmBhttUNe1x5d5VVICQPedy0zD4QYHyPZ44cYq4rNYy3SVZH8Vn3muCVWPSOq8Ro4acUqDSId\n",
       "pf/pRqcXpUUDWYptp4cmnyp5xY1HifJpuugPCSBTH2qq9rwSaQAAAR5Bm9tJqEFomUwIZ//+nhAB\n",
       "DNv3hB/J4ADsZElS9jsyytkodZRvUMs2HOcI2P+37fUbmATH/ZDHQhF79pwUFnMkBw03ZMyhJgeL\n",
       "lGzE97K3yJBqt0S/gRHba+nssfKGJ1zTiTrgWjf8xjke6PkPaJsCBqM7uXrVK8Hcok8l4lBLb2Wh\n",
       "/KMRfQVF3ATu5UBCQYxf6IQdq16nkOYSa0xI/8pgoiaVaZAHszIWlnafqB13cdCIvbG4AkHglX7W\n",
       "50/UZcDLJXVZVRlBtasaP1PULFB+KW92rJnTuLamcx3+7o4N5UVeqHetYm5tTYwy0iuVfMJ/5ie4\n",
       "NTKJ+lQzf5qYZE0I8znpQYfuPgZFX0opyoK5mSuLuh04wvM7n8ojf8fNAAAA5kGf+UURLDP/AB5i\n",
       "vabxCvFpDI4P8lFbiK5bMFZwxG8AUWqrdnM9AA1OfKGVWJuFXssYKLhujjW7L8IGLj2jPV/jQYxJ\n",
       "2ij2JDEmdx+rYGVDwyMxF7uA0rMZXQMjbftsl55Zqg7zXZTTGctaMoE9Cg4PYAAdkUv0IUt5LrQr\n",
       "3p/beB4XHBwthpCqn/TnpCLtPeK4tyHOBYTwH+XyRZxS0JoCohYQs7tXQTp+k5k8ouu/4ZbUugSv\n",
       "ivHX1mD7ylkXWA0UUf/Md2rUeFtihv5wz49b8IGF3G2wXumUHQrUQOgqaxYTvwYSAAAAsAGeGHRC\n",
       "vwA2EaSUY7djusfdf3JTxlvrwcdLljN/APEn78gGYidzEYISRTRkMiqwMdY6u+ht4AN3Udxml3qJ\n",
       "OwuqdcnUQsaOPI8iRcudDBUPzcUrIrI4At8JA1Q4IuDDTzw+/nGKhbJwme2ABNMiwPnz/kmmg8X4\n",
       "AUS5vJCuxk8G2TlLlMzbrybrJVlcXUTt/KbLrEUf4wcr9wplClV5fCpkW8tn6hyKteIDionY8Of1\n",
       "AAAAcgGeGmpCvwA4rIrciS+cNNJ9xIG9w93rb2NKcibsQb8NL/MIASaKlzce6TZJhIhK7oD1qLGx\n",
       "bl1lg6TMJQQESECurQ+Kgoc3KhdzOtg6MFH7SOlasUT5EBJum9/XN5KJVybrvHlbUig4Ncee++U3\n",
       "UAaQ8AAAAGBBmh1JqEFsmUwUTCv//jhABBPWHVZ87zHu52AC1QfEkU3b6uXjQpjioAJTeje8h3a7\n",
       "uPh1GNLWinJo/KHAAADo7XvlT3/uSZ1od/xynQ38A9HnZBz9Vbf8+9dZmT+4VsEAAABSAZ48akK/\n",
       "ADiq3Eeed0xlhT0ALcLoyKg1rHmJ2QUS8EO2Keg57FgYY9SxFVEQpgnOBwS/AgjEg3w/wNuFcNlN\n",
       "0GOPdQDOZOZMqKsQ8YYsQ6steQAABIptb292AAAAbG12aGQAAAAAAAAAAAAAAAAAAAPoAAAF3AAB\n",
       "AAABAAAAAAAAAAAAAAAAAQAAAAAAAAAAAAAAAAAAAAEAAAAAAAAAAAAAAAAAAEAAAAAAAAAAAAAA\n",
       "AAAAAAAAAAAAAAAAAAAAAAAAAAACAAADtHRyYWsAAABcdGtoZAAAAAMAAAAAAAAAAAAAAAEAAAAA\n",
       "AAAF3AAAAAAAAAAAAAAAAAAAAAAAAQAAAAAAAAAAAAAAAAAAAAEAAAAAAAAAAAAAAAAAAEAAAAAC\n",
       "gAAAAeAAAAAAACRlZHRzAAAAHGVsc3QAAAAAAAAAAQAABdwAAAQAAAEAAAAAAyxtZGlhAAAAIG1k\n",
       "aGQAAAAAAAAAAAAAAAAAACgAAAA8AFXEAAAAAAAtaGRscgAAAAAAAAAAdmlkZQAAAAAAAAAAAAAA\n",
       "AFZpZGVvSGFuZGxlcgAAAALXbWluZgAAABR2bWhkAAAAAQAAAAAAAAAAAAAAJGRpbmYAAAAcZHJl\n",
       "ZgAAAAAAAAABAAAADHVybCAAAAABAAACl3N0YmwAAAC3c3RzZAAAAAAAAAABAAAAp2F2YzEAAAAA\n",
       "AAAAAQAAAAAAAAAAAAAAAAAAAAACgAHgAEgAAABIAAAAAAAAAAEAAAAAAAAAAAAAAAAAAAAAAAAA\n",
       "AAAAAAAAAAAAAAAAAAAY//8AAAA1YXZjQwFkAB7/4QAYZ2QAHqzZQKA9oQAAAwABAAADACgPFi2W\n",
       "AQAGaOvjyyLA/fj4AAAAABx1dWlka2hA8l8kT8W6OaUbzwMj8wAAAAAAAAAYc3R0cwAAAAAAAAAB\n",
       "AAAAHgAAAgAAAAAUc3RzcwAAAAAAAAABAAAAAQAAAPBjdHRzAAAAAAAAABwAAAABAAAEAAAAAAEA\n",
       "AAgAAAAAAgAAAgAAAAABAAAGAAAAAAEAAAIAAAAAAQAABgAAAAABAAACAAAAAAEAAAoAAAAAAQAA\n",
       "BAAAAAABAAAAAAAAAAEAAAIAAAAAAQAACAAAAAACAAACAAAAAAEAAAQAAAAAAQAABgAAAAABAAAC\n",
       "AAAAAAEAAAYAAAAAAQAAAgAAAAABAAAKAAAAAAEAAAQAAAAAAQAAAAAAAAABAAACAAAAAAEAAAoA\n",
       "AAAAAQAABAAAAAABAAAAAAAAAAEAAAIAAAAAAQAABgAAAAABAAACAAAAABxzdHNjAAAAAAAAAAEA\n",
       "AAABAAAAHgAAAAEAAACMc3RzegAAAAAAAAAAAAAAHgAAEhMAAAHZAAAAhAAAAFgAAAFAAAAAdAAA\n",
       "AXsAAACSAAADRgAAAQ8AAAC8AAAA9AAAAusAAAErAAABAwAAAfsAAAIIAAABJAAAAg4AAAFiAAAD\n",
       "AwAAAagAAAGoAAABDAAAASIAAADqAAAAtAAAAHYAAABkAAAAVgAAABRzdGNvAAAAAAAAAAEAAAAw\n",
       "AAAAYnVkdGEAAABabWV0YQAAAAAAAAAhaGRscgAAAAAAAAAAbWRpcmFwcGwAAAAAAAAAAAAAAAAt\n",
       "aWxzdAAAACWpdG9vAAAAHWRhdGEAAAABAAAAAExhdmY1OC43Ni4xMDA=\n",
       "\">\n",
       "  Your browser does not support the video tag.\n",
       "</video>"
      ],
      "text/plain": [
       "<IPython.core.display.HTML object>"
      ]
     },
     "execution_count": null,
     "metadata": {},
     "output_type": "execute_result"
    }
   ],
   "source": [
    "HTML(anim.to_html5_video())"
   ]
  },
  {
   "cell_type": "markdown",
   "id": "f4d42389",
   "metadata": {},
   "source": [
    "### Animating a projectile's projectory"
   ]
  },
  {
   "cell_type": "code",
   "execution_count": null,
   "id": "5b0d7581",
   "metadata": {},
   "outputs": [],
   "source": [
    "from matplotlib import pyplot as plt\n",
    "from matplotlib import animation\n",
    "import math"
   ]
  },
  {
   "cell_type": "code",
   "execution_count": null,
   "id": "fe8a1734",
   "metadata": {},
   "outputs": [],
   "source": [
    "g = 9.8\n",
    "\n",
    "def get_intervals(u, theta):\n",
    "    t_flight = 2*u*math.sin(theta)/g\n",
    "    intervals = []\n",
    "    start = 0\n",
    "    interval = 0.005\n",
    "    while start < t_flight:\n",
    "        intervals.append(start)\n",
    "        start = start + interval\n",
    "    return intervals\n",
    "\n",
    "def update_position(i, circle, intervals, u, theta):\n",
    "    t = intervals[i]\n",
    "    x = u*math.cos(theta)*t\n",
    "    y = u*math.sin(theta)*t - 0.5*g*t*t\n",
    "    circle.center = x, y\n",
    "    return circle,\n",
    "\n",
    "def create_animation(u, theta):\n",
    "    intervals = get_intervals(u, theta)\n",
    "    xmin = 0\n",
    "    xmax = u*math.cos(theta)*intervals[-1]\n",
    "    ymin = 0\n",
    "    t_max = u*math.sin(theta)/g\n",
    "    ymax = u*math.sin(theta)*t_max - 0.5*g*t_max**2\n",
    "    fig = plt.gcf()\n",
    "    ax = plt.axes(xlim=(xmin, xmax), ylim=(ymin, ymax))\n",
    "    circle = plt.Circle((xmin, ymin), 1.0)\n",
    "    ax.add_patch(circle)\n",
    "    anim = animation.FuncAnimation(fig, update_position,\n",
    "                        fargs=(circle, intervals, u, theta),\n",
    "                        frames=len(intervals), interval=1,\n",
    "                        repeat=False)\n",
    "    plt.title('Projectile Motion')\n",
    "    plt.xlabel('X')\n",
    "    plt.ylabel('Y')\n",
    "#     plt.show()\n",
    "    return anim"
   ]
  },
  {
   "cell_type": "code",
   "execution_count": null,
   "id": "a3c74995",
   "metadata": {},
   "outputs": [
    {
     "data": {
      "text/html": [
       "<video width=\"640\" height=\"480\" controls autoplay>\n",
       "  <source type=\"video/mp4\" src=\"data:video/mp4;base64,AAAAIGZ0eXBNNFYgAAACAE00ViBpc29taXNvMmF2YzEAAAAIZnJlZQAArOVtZGF0AAACsAYF//+s\n",
       "3EXpvebZSLeWLNgg2SPu73gyNjQgLSBjb3JlIDE2MSByMzAzME0gOGJkNmQyOCAtIEguMjY0L01Q\n",
       "RUctNCBBVkMgY29kZWMgLSBDb3B5bGVmdCAyMDAzLTIwMjAgLSBodHRwOi8vd3d3LnZpZGVvbGFu\n",
       "Lm9yZy94MjY0Lmh0bWwgLSBvcHRpb25zOiBjYWJhYz0xIHJlZj0zIGRlYmxvY2s9MTowOjAgYW5h\n",
       "bHlzZT0weDM6MHgxMTMgbWU9aGV4IHN1Ym1lPTcgcHN5PTEgcHN5X3JkPTEuMDA6MC4wMCBtaXhl\n",
       "ZF9yZWY9MSBtZV9yYW5nZT0xNiBjaHJvbWFfbWU9MSB0cmVsbGlzPTEgOHg4ZGN0PTEgY3FtPTAg\n",
       "ZGVhZHpvbmU9MjEsMTEgZmFzdF9wc2tpcD0xIGNocm9tYV9xcF9vZmZzZXQ9LTIgdGhyZWFkcz0x\n",
       "MiBsb29rYWhlYWRfdGhyZWFkcz0yIHNsaWNlZF90aHJlYWRzPTAgbnI9MCBkZWNpbWF0ZT0xIGlu\n",
       "dGVybGFjZWQ9MCBibHVyYXlfY29tcGF0PTAgY29uc3RyYWluZWRfaW50cmE9MCBiZnJhbWVzPTMg\n",
       "Yl9weXJhbWlkPTIgYl9hZGFwdD0xIGJfYmlhcz0wIGRpcmVjdD0xIHdlaWdodGI9MSBvcGVuX2dv\n",
       "cD0wIHdlaWdodHA9MiBrZXlpbnQ9MjUwIGtleWludF9taW49MjUgc2NlbmVjdXQ9NDAgaW50cmFf\n",
       "cmVmcmVzaD0wIHJjX2xvb2thaGVhZD00MCByYz1jcmYgbWJ0cmVlPTEgY3JmPTIzLjAgcWNvbXA9\n",
       "MC42MCBxcG1pbj0wIHFwbWF4PTY5IHFwc3RlcD00IGlwX3JhdGlvPTEuNDAgYXE9MToxLjAwAIAA\n",
       "AAvpZYiEACP//vUn+BTUEvxL4Wth7dS3STDRcLEts9AAAAMAAAMAABjP2Ln3p41yi4AAAB1ERWJ6\n",
       "UddLysABXwJpB0nB1TDPFAaXjOyuI3A4OqKf9tEhfig/3qyD9BUEGvKQy1qR+QW8kA1zI/6fPmkW\n",
       "cxDhGuzT5nqdP1hOVhT59afUIZwxNK6I8ZWO/oOvoUtSK9ESQJ69avzMMJKJ31kB6/A9KcFN65Te\n",
       "CvcqWjAMqZMn7kl7UprwXwyONR3nu2ysLajfD2oKo49f0wIwz269t8sEtE+/at4vw18tMUF221R8\n",
       "Up2rP5lVuw9jptgtEAvgnK/atGHHeUZzGD0VV+eE2HmTUAzPC9zqCab7DuzxTuwptzDMcCNyvlQe\n",
       "2za45Kf8Cc+GqNdWgypzF7eL3f8TK+OsBA5PQ1eIHbl9/Nc6VTATTnViRTfR+w9jFFq6SbNr9Osq\n",
       "ge/6GRrhYIjmVpGJaajQDW+0fM7mWIFRSBKYsnYdvtUsPNXhr2MXUVsFVrwzS/WpCu+xhdHyOve8\n",
       "PgUXjKJbnKyEoSlruXOPdcz5d805X99wB5GeSvdlPu7Tf96rTVMufLY/OT6ZBlELGNxC5yQ9dTJg\n",
       "/ivsQiu7Eu0oeLa2aZkeWZ8BlSb/S8GLRpXtM6SzSQZ6ntmXUy/Y+AlcdFQoDOHMbFVU0qAQDXaz\n",
       "DJgAzWEvDbFwD5wDOubRx/brPow76RLXZupJrxyVo6oR4vvlGh1/lS/J/GJ6AHxOy3X/JmKe4gDX\n",
       "/3+TxEYss1Ou2xY7vIOJh6wbJWzGFaXUHZULJkcCFc/5nPfpEs5Ijm51fVlg8QWNh8rHr9Iq1aBK\n",
       "+WIwrqBoB2G8fy93+WfbwNLU/Oe3mUORMAAAAwAPvIAAF8dWFpNHqvts3odPcT9lrUlrVz3KKv3S\n",
       "ehGiygn72PB5uUzia39JSVkSeVt1QFDyMewaO5GkdjD3WHLTzQ7XF0GR4+/dHojTgZJ96jF9GIL5\n",
       "U2p3Pp15qAULFXSBNkkMnR9TWhw8El/04m8iYHOA5wDi43ZzfhB1aP4diBD2ES58FqP70IJ7TgxH\n",
       "flHesWwybxCLWRe/ofv3fDbp8D1vr53/c0MSgOnKL7DmBhFQGvd4hb4A3IJLQUpPKbzYKBpYTzn0\n",
       "VWxwDsy5siODkR8H5wDGKkfCIav8nDRWFX2IZzXm+QMb0KaRXJoIuuNxC/pnd4HHIZUKfRUzk4Gz\n",
       "1Gk+Ov0QfaczWJF4ok/xz/v2VbzpPf/s4xMqfT+Vb6O2Z1TtCjLEHpwLwmjaiKMS8DEG4ZxZ1bpp\n",
       "v+2O64V5ssxQgRX4SleQjIehL97M5C94xKyg8M3RsJR3DnnERxua273o4exltjz32tyW+9pk7Ww4\n",
       "Ou0ac9SK3zPk5GZzcnPrwHhRxhzbhMVAgebxVLQ4xrtQ28ugh/oGD/sSz7fPgM4ehkBTcKg4U8Xx\n",
       "09039sRgsshKnj3lVwAAAwM7PiYEZCW0B62mlZwE4stUlQmAAHkAAAMADyFLa/7/jb7+wpFSQA05\n",
       "LNvLPbkGhS5VQu82IhAxXnwHwLplzwrVkxRBhIeNIbhjtu+sKBu9JYHoEAKYCn432f9FUno1viYf\n",
       "2MulFrb81HCGiFc1Gt12GgmQRYePp+5o2/B3wpdZszps5xIlffWBBwfEwnVIekpfe3j5LBLPx6Le\n",
       "Nlerp7EFhuBmG/GiDEc0QB3vRBKdt6m9kxxAAqwJ6rOwAAADAKE3bRZ7ho0f+/sE+QeHNfqPPx2b\n",
       "r94OXr2wySTtakgfuIaCuM+EiWI45TbgJIqsigARC5y7RE5jbEGZeJQnioclX+kVmkUfdSTQ+/rN\n",
       "oU22C1brlDH5I6EneOlt9QNg/O1D1lix+MchGIBNcgW9Hi3CjO+Y2bSnR17qGsKaMHC+kbLjv0vl\n",
       "F0vIyNkFJhrm80dUAEVJpJQWSCkKJVusdrZkmngqxHkbYNVGABEy7JB2mQ+DQp2KSdLK02XAGVBh\n",
       "kuksky9ZIv6cmi5MBiamslpnMjgAgrLjdE9C5rUkTsmVrKUtAAADAEazRE8AGFPuvYrKRh/FbgTo\n",
       "XJsdJvqv0RDkZdekX0BnNnDXCTQTM5AVZ8sjZrpvYr3elzlRVtajMnCqNqOYalMOfo7Gz88BDiv3\n",
       "qRBOTw9FklsChoZ0lz8tUKZyIv8mnl46QyLUFg6K7II8pwM+SmF0Gh9xfOOhqdp/0bG5EfFj1ZgE\n",
       "jqom82VNHGLx7cRfy/Cv+RSezddf0KKjtc9REnOBQgAiX0POt1D5uPIFsYSj5QHDmtr7cdvaBE6O\n",
       "jGQHj3Xd3kz7MZkjeSXK1MU9F1a/uGnXSGtP9HfkaeG08i9AAAajX3wZtIMnmNDaBrbe+dLryzoY\n",
       "Ui5+5MON3tFL6xALDDVHxzqUVJT6eRLPy5+WKrwRek30gACHngHZABJKThdBezKUC3EcfPiVFzVT\n",
       "s3y+4pWA7/GF+SRaXlGuAAhFhLOCSLsUtAkzKcw2WrijKil31GEMidJfKgArq9xoDsMafrqU6sAP\n",
       "jYf9bnd74jl3cHz2RqcVoszsxUdhfpRnDRpL2KppnJdreHlAaGSa91mSDKbl7U9z0nIFcG/xp4Q4\n",
       "/GuE/xN2oktuB9aLprJpTYmRc7ro5u0dZJgyxz6JnKw9cask1yubSr2vebe7K5uUccU+hkwfuRpA\n",
       "jaBDeUCoYeK3/LEyW8zDAMGNqVqEipVvVMaaFSFTmiqKujw9jwgavsP4eD5FZYXeEkos2WC/kUuM\n",
       "64EYRhk+j9P/akT03aXZCUdY//Q9w/CJ3rdtFV7n67rM0vxpyVZTnXtW5tgC1qF3wEpjSxKJct9f\n",
       "GhlYajc/Ta1pbLf2Myuxa3qjwGEC6YnhQWwtVPTlnz+DtQuKctiRlR4lu5D9BpOLJCYn7KLrSOZE\n",
       "kSHq9iWDlcjTBEbmncHMXB1/dFtRNv45H9xZGKp7yx23RQfM/Wer49eTd/VD3RGo+w0kKPtl8aWM\n",
       "4yRJL29My74fkKcBvzDVum817RpvJwEhdwyQRX8m4XhKDmGFGavBPPYcTEH6xSQq5uxq+w130NEO\n",
       "7CUDYJc/tD9g6/gPKNXqZvQLqj0VwaOdVw2EQ3QYD99ka9sZ10tre6hd2EE7e/9QYLJjxXtOggP5\n",
       "2zaD/lyi3sJ9eEIxdEgf1K/GZWW+W5vFZoBtJ9lyb245ynYfNWUITLbvHwOo/M3h/+DA5CE/1hJ4\n",
       "SdAdqZUwPY2+EeEO+peB/uJey35RImVSgiTH3O6SSHwoYa52H/hefICILEXWhPX2QAPHxhYtxl8x\n",
       "46MmStTZleRoEWYFh31Fh6akiH6tVpoNLxdcMVxBvFPMlR0pozqqN/fuw0/t8VLXAqEX+PVZUWoO\n",
       "zfzLh9JJDnSrx7UF4uehbKBBQ9LhWGmovJVT2sL0COJ70PftSlguGftiEtH99DgNNnfWIZS1O9sc\n",
       "uyIfq0aCV8okyqRlsZdeOoZqg48t41nFj2Y92ulVcbRF+xPsYGDgDOA0G2mxsXR2WwULuw7uoDDO\n",
       "aBof2VCJncEH9HK9nAoFbpaJYO6SKQvr78gbNlRGiopqN4m1KFmE2xJGm8iVpPT0K1JkQyXQyhJU\n",
       "/abKisEzq5CAs1HMb501w15KMcBjkBU7bO8pd+iJuG4yFbvahG+h3lY/mW1nH5FE/0UDBE0GNJvU\n",
       "QKATi+avo4I3W+oN0qC3atyWeq3yhL4rM/i0azQYFPoRtVxM8RwnOEnb5SaHgEFuzKd0g+OHJDp4\n",
       "jfZnlmZDSqcP6GUBQfZB0Rgdjy05efotmCyjdgiIb+4PiDRoQbriECfPJhGqNelvmJjjk//2gJvC\n",
       "58AJVlQO69FfrDJQaY16YuiccfRk37NlpO+FWVEZn303e93R7gbHorhX+lItOE7x1oKNg98E4MA3\n",
       "VrRsn2P5H4RHJn/ZBbN3vpQ8xaebeVIH5qgBqEwDnAU5Efl8uHlASGqq27ONhyJWJ2LVsDUJBnkI\n",
       "yL53DmjyTnKKvkilYo1QZzfMbwc11ObCh3vpFoeDDkXZTdi97GtZVjkLbrOx/AAAlgQQ9I0yQ2OS\n",
       "1M/pk0qSZoFUrCkzSXIw4zR2v6N/fZpxKgU0fgB2wQAAAJRBmiJsQj/94QAGlr64AQ7l0QBzBBJT\n",
       "4LgW0NpoZP9VZwPi44KMiJLrEpplGm29sXJ7YUEXjsj/b7/TGnnp836BySv/+ejiaRQ99IT8NfTE\n",
       "/0ZtpzQESE6oL1ulwCXZ50bRQ34oPFWWrmG4L+XzHSCidxXBnRdZsFxYuMrZmTgrVFplq1HoefaV\n",
       "MZDh84tmm5O0oc3AAAAARQGeQXkX/wAABm9XRf9vrkcuc2n41IVbuVm8ssBrJL2BNU3zMAFmhSVv\n",
       "Ir0kBdr+PRHXUlujCjdZ5svx5ScJCgJ3f5AQkQAAAHZBmkM8IZMphCP//eEAAAMAAdrwFbrrdJAA\n",
       "NhL8vL0vyaoW5OxRMWKA39aOxhRGo79L9dbuclXhcNvF0oB1p/FkCiKJivcYNlcx9Q7/a6In/mZ5\n",
       "dSLLveKUnqBYunOVMm263YrR+hHxE7WfFKhJ3jHWbCbwhbvQAAAAd0GaZUnhDyZTBTx//IQAAAMA\n",
       "Bz/A2YbuvwAHn6wV/5eBvoQ5tqb1bbJVy5SjanTkMwGXjUsv4wRIaoEzrV3tpNy4RuxBShW1TEdq\n",
       "t5lPusivwUSZG0eTlQJD/7jX71yPLGcbK4M9sZ9rx2v0sNYASTRk0KrV4YStAAAAPgGehGpF/wAA\n",
       "AwAZqWFCoL8REbRzaDzoWvEmGiF3soVxuvhZHkqEbSh/LCqFA0QCEfXXrGqEHaC3WuHT8CElAAAA\n",
       "ZEGahknhDyZTAhH//eEAAAMABUH7YCv3r7+tjSPzZBnG313WTLBt8RxkXkx9800hWClcKvuv+iVE\n",
       "hhc6qmTCiosMqhBlpguQppLIkGU2HcFXUwBGzq4gKKsrJRS8p6zhFGjDCIEAAABKQZqnSeEPJlMC\n",
       "Ef/94QAAAwAFPBHhhBb5EgggAOWnmDU0T+LOypztEhlPbQvBS3MEFFa28qwb3XHSyx6auRVVcRV1\n",
       "B7/PI9t0DuEAAAB+QZrJSeEPJlMFETwj//3hAAADAA6BhJD5z/ADdbkU09G3LLUokNfkGOj4sFJy\n",
       "cC4y6d9VPl/APmxuZbUMwQlecyLhf6ERoh1zR7RpokdIV5mhYcg1NHRkB8G9bszPQxul7qG+Xzn+\n",
       "JxVvsDrF1HO0eeGf6A6Wt5xEWvbrMamoAAAAQQGe6GpF/wAAAwDJR7T+WLZzIu2BBQlUNnJzvnUA\n",
       "RTeP7TwVYFfIeroXTrheorJjuPckVXjjTU+dsg5YqA1v56boAAAAW0Ga6knhDyZTAhH//eEAAAMA\n",
       "Dn99U11lPulJzhBd/0MJCbhcKaPjzU+S6G4lF2sfnDzvGrI9d7J9AwvUSlLTJiWfHN0f1/nIeOiw\n",
       "df4gF2f6T4N+U8vJp1YvlsEAAACZQZsMSeEPJlMFETwj//3hAAADACj1y64pyaS2o5Y8GCfDou4J\n",
       "wKkyonj5bDeNfWyYXIgmxE0G2/qKb7ordGpX22+56WE3NNUekZM/Jbwk1iGuf/2VBLJXB4tdurMx\n",
       "3zGrwxZINUMY5262m8qd8gcYFHsxsE2IQCZXmz7Lo4/ih17r4yMG8ZnDqKbp6V+78I6EJmEZGVG0\n",
       "w229AAAASAGfK2pF/wAAAwIb6L+JytStFbc6QGOb77/mskECUwDcYROKM4a2NDqERsZGhtgz2B4u\n",
       "Y6e9l7QU/nQoIyYVMi8nElbXCqeknAAAAJBBmy5J4Q8mUwU8I//94QAAAwBxAzV1pgCLnSBv8AFq\n",
       "VleVsTzyLqSowvSx64/m3fcCkpq8rRtEoCtfjoB+m/5DbxYVq6R7b4SKolwalWua7E0ukZv8rjo0\n",
       "sXLBGLpWfpJfWqtDHGqeZpPeqeP5cCCyykNEgzjbNM5UpQlQd1rgjHTis5cTcbGvvAn2WNDD22EA\n",
       "AABHAZ9NakX/AAAF+kbrs2VVfN4WXbZk1iSJzv3F33f5J6lVSLsr/YLwkAC6cOOnci57pZGgww0U\n",
       "i4zZnkvPRihFYquydkqrpmEAAAB9QZtQSeEPJlMFPH/8hAAAAwG7HFTD1NUV8UALDAKvgHNjsgEk\n",
       "KflQg07URYtcLn4uR1x2van28ZKwoiAQqbZYB8Sat23v6vCsDAo7K3CzpQ5EXkfvAeURokXvCfsJ\n",
       "PBX4kGJVnt39642vcACTRw78tiQ2oDXKdwk9YnM7ChsAAABGAZ9vakX/AAAF/Ewi18NCZwN244DB\n",
       "qUmjA6RKJvqSndCcMZzo9FoYSg/bJArmhdqqebbHrdnOoXaKOgBmQg5d1kPuVoCLgAAAAGNBm3FJ\n",
       "4Q8mUwIR//3hAAADAT40U7lKM8aenzxcQS9jDOvcQA18QFvjXGMFqzEMSWouQW5JJ53U/7WIArYU\n",
       "NLKo7WwgzY3N2A1k4DNgtZsmLN5OTwnDXLeRhMdUvER38qVuct4AAACNQZuTSeEPJlMFETx//IQA\n",
       "AATUvje29ShTfYXXEAXS9jVqx1cgANWQgl6mZmt4vg5/7lnBX7yt3vfdyZZSZKhK7l7vzytxYRKg\n",
       "pjdynk0zWFS54vvL9h+Tb/cRB4MQUyX81HmtKaC4uOAbIHRiEZZBbUzo+GGlGWznQP3/yLFL8+tm\n",
       "iNdd8HDYZjJXpoiFAAAASQGfsmpF/wAAEF8p4M9HCjRSLb4EdPtpRyQ/i/ismMUNVWagalJckNQ2\n",
       "+J3rOe898J92t6uIirOhj647ieP8rYhWQ+geAGBMVBAAAABnQZu0SeEPJlMCP//8hAAABLLttoZZ\n",
       "OeCcfXbjLnjLCW1wJwFho093WNkOyrtMg1CfSHj9y4G3a5aGfZtqh0xzWm8O8hWtq7kKWr8leNmX\n",
       "E8It2oiuPNh4r1Qdroox0Js/c1AhoCafMAAAAH1Bm9VJ4Q8mUwIR//3hAAADATVFHm2eceMULAAJ\n",
       "gbO09Va5rK/Ttvs9EkR3fLDg2VClPHV3h5F4J9dJllHhGTlGk46vNk6c+W4adIsTujNolVlfG8dt\n",
       "GCDVhHOM7TphY91RZLKOfNVtlR2BRqDMZvSXlpyKHbNIMgBZXkQB8QAAAIFBm/ZJ4Q8mUwIR//3h\n",
       "AAADA0+/7YOJOnOdxLuUAIQoU9pm3GVwayKwjMbe4fv7GM+l6MokZjRaSR+35xj0geshwO2sUXcy\n",
       "UCKGLwqfqgN1qI0R7njsOZ1wDEY/zpoxwdV5AQMLsjV1K6EprsC9t+1c2m2TR8Z7Nls6LE1vhfVz\n",
       "XA8AAAC2QZoXSeEPJlMCEf/94QAAAwNjx5Zjxxu8TeugFtQknDbtMlhGufC7heApvGNJT2nUfcjq\n",
       "r6cEaXiNqqPXBZpzSaUozqX+pj/ZoNugEeGPXl/VZLj0ZIxT+Qu1ymQYOf0K5XIJxHj+OI5Ai4sy\n",
       "aEbGYkMmglXxvuwe4F/gTEU7k+JU1jQsCzSUVDWdQSjzDv8Qf9FriIQIibusstoEzKNWBb2345gP\n",
       "J1LD+Z13vNSRbatHtVTABN0AAAEkQZo7SeEPJlMCP//8hAAAI5byTjdQIAONPISJy0HChKMHy49Q\n",
       "TxVOoOg9+OJuGw8vFcBIgSwewW1iyFBHtTHmNPef6jRovYqKyp1LEqHKi6iRLSskJT0BYK/xDgCA\n",
       "loHlwjANoX+bGxgZmGVfk2OAKHBU/NzYW8E41bR0u8hWOLqH1/9rfj2m1OzUvghG6STqWRVDy12G\n",
       "fIjQcwQ2jAzYYCvbFdCRBw4mRMNWjpfYKMv7kiw0kq9vt+l2tceOmpVDSkW+SONi4jyKCvwhctlL\n",
       "nKNcnBXPWC7m1qcdlH4VOQ6iXh43bpO6qtcZkFnAyA47ZLcOjX7usKMZ06X3/1N848lumxVKnR/D\n",
       "nLnGHJ4m2wMnd+zkSadCKKNKLmls4Bfbx4AnYQAAAJlBnllFETxvAABkpCpjrlTBJ2wS+Z4dXTeK\n",
       "iR05MbejdxKa2QLia8qv+kdnrWrrxXkkNpCje1zd5rfF2zhha8tF4cIFT6Tivo+0v2ualKu4SJ8A\n",
       "z7hPABaWYL1wCy6GH0uoev8MulNnEFG4u2xmpHESY08wdR4wRdvIIvFrHoteqfwpTPMATVqlPx/X\n",
       "6d36X0Jk5oQAJ7McU1MAAABcAZ54dEX/AAAud/pX29SfZ8Q8l6EnmPMFWgQA/l+IHRqufSK/WDMJ\n",
       "HMNuXKB1hisp2HXkpzCwvNduYqQhWw7lUI7jkqKDkbV2c7mJvXNM3Nd2ZdZ11e3Z51cOzfEAAABU\n",
       "AZ56akX/AAB8WxEGsB6ogXgFbb9Bxu48XXH90CuYjURIf6LcE8W0Af903kJXWteCO9qTrLDUcVq7\n",
       "WvZtiuB8gg4vn9VxSX+WiFwKir4GtS0QoEjAAAAAt0GafEmoQWiZTAj//IQAACOXlLGeCwpanWpC\n",
       "xzwvgj6LQ7aKOwgTmEhu5GTx5xSGCLRfLWN1WuCoWU93qkzMsG95y9RUR5tMF3ugsp+L+2IOQevw\n",
       "WT7QIgRF+j1laXz1/RVOxJFKkjqTTA47mTH90aUeh8lk3gw1QMV7U/vi5iL2xcDiPd/IrUqfJ8oV\n",
       "CTJ6hn/rQHElU0mLgH5fz91PdtWCFVy0ftWA1SHd5bgVHsaT74pu1hEZFwAAAM1Bmp1J4QpSZTAj\n",
       "//yEAAAkph/OCL7UGE+9HrtN9sgK3hMsI4PRE4CXxkWM7UFlKxzi5vxmTg8WDRFyFS/FcOS0klK9\n",
       "09D8o+TFUNtBKglzxLUOpR/+sbGU8w/e079GTrd/O6+nohYVcgYA8YjkZHB1TJEtAFrBnnxufcUs\n",
       "fIVOR7Grchyth2PJsKGryhRtq7C38KAcq9VP7OYYncBymsWN7xyMYx2nc8g9tHAVF3Y7NlPfu94c\n",
       "bUiu99wCnICW0BTQRJmKHpPqnWz6LymBAAAArEGavknhDomUwIR//eEAAAlo5y4YVFNfDL1V00t3\n",
       "BEubybUnIgSJ1s8hnXGS9iZ2ra5SN1T6z2srljJzlU2QD69Bf/e0xA3QhzT32Zeyg2WU9ky6IfE0\n",
       "MbLwCBtP6cQyHhxytrNzj7JXya5qb3Il6JCjR57kGsHeMBsG0nv6X33ZMJ1TFDsv5phuo1I9uXHA\n",
       "uaJlyfi9ayFy/icjPp6ZKxq//SsThohKOzjYnMAAAADGQZrfSeEPJlMCEf/94QAAGbGQ+N+vCOWP\n",
       "NCi9kABa6jnHiSEf9pMeDUM6oKBGu7sSpe9ZDBwn6nltWl7zcDj+XD2QE0PfisQRkXMOIDy//WxB\n",
       "hyV0ZyMgRn1d0gPmewTNr1J6L+n/9ERVid/VpAgJGEo2cE2vgDHPld+u9s2dfEHN1Z7EMQ87g4og\n",
       "LmbJkmPbfpyxpvfPDmMpzxS+Tk4NLdELPRrzw0mOcZKwJ6gfYV4GCdBgktlU10E2LoY2keTSgvWK\n",
       "wAnwAAAA3UGa4EnhDyZTAhH//eEAABnCAhRT31RO+4vo871d+bmFh+tj+HiLrxO2QATl8Nwku+/v\n",
       "ZUjusXI/QSfZ5IAOttXw+d+hQ6T8O4xCTnaR7igTxvwxj1rgCFHeEwR8kPbqoxyZmP4+SNfGoC4R\n",
       "TtbSDmf5oTj3bcc/OmK16zA7LZLxZiSPtjf49v3w6HMQ1nOwLNAqqLI12cJEtGDkFsXLbQhu4TI0\n",
       "yx11HO/TP+c0VtovSYwJZngN56un2jxTMjAG1npgz3WozJseyVm4kDh7kKgmM4u1rymtfy0MtWYL\n",
       "AAAA60GbA0nhDyZTAhH//eEAAEVRSta7wdUMNLH7t3BNiAYgOiHk76QngmWqeFg4ePVE2GTbsAdQ\n",
       "f2/bsKhKf3t+grmxpYt6VBIj8Jc61pY/lqXIZIaU4iVCxiR/g7v4z5/YdqXABq8GyKxLsPkExLvj\n",
       "+5y2EJtMd/IXrQJOFH2rbPXdF9H8jlerh++q5bI3S6hmJnjyPYs/c///Mvz4rjvAv/7cZ5p3eYTt\n",
       "90IpF/2CqbE0lOcB7jSGnORPTrqmjipJvNSuvmImL9WpV6hoOp2LOgt2L4JcbmbD1VW/5+WqyLnY\n",
       "xqHs5AOYJmUkrSAAAACBQZ8hRRE8XwADttiIN/2U8fq85wd0kH8R7uX06etiP97KNLBdlSshsovq\n",
       "Uz15uNjJ0Y5UG9RH/QWBYSBI+aB7nwqMQAf3ObS1IQ2eAwmUzSiodmXKfzKyhq7PdR8rjITv8/DB\n",
       "CzupvB31BU8o9DPF4fScKLGC0AZ8F5XaPUp8nWrvAAAAcgGfQmpF/wADttiIN/2U5BkE8YVVYROR\n",
       "We5ck41zH82uSjr4vT0sD5ZXu3FCkO3MOyFRlnkFnkaZL3LIXTgw6x9okDxG6xgdtTmmd0rSM6dE\n",
       "BGDJuOpjYVTWax+0DR6Qvtox9M5+eebLTT2Yx2l0p5RdcAAAAMdBm0RJqEFomUwIR//94QAARz9r\n",
       "yrNmduLkRKsu+nRH6GoIv4YXCRYZRBKa1OexhSZw+AGWVt3k+mCBhrqNOzGMc89twytbUi6ElOov\n",
       "V8CJIfrINj21W8A4xioVmbZaUCY/PKMPP/R0wyFhEi5eE2mW1g5r5gOPWGj1nPpd0vNrBzCupGy5\n",
       "n8DA5i6TuIsl/+1saiS+7Sp79ftmDm+69LazcQrVYv7J2x/KCP0bxCuEXoM19h0J9OmbkMmPX5ug\n",
       "S5LtFQXBBKtBAAAA4kGbZUnhClJlMCE//fEAAC1QbzoZdHebACaI6I7POScxNbEdeVsbo8yB5saW\n",
       "z8cibzKmVE/4+awfBH7PKHDQ87k/lO9OWRnWZGVq2lYFAoSbnEG84WdQd/87GIp5Rix8sjslVlPl\n",
       "GAMCeF4KvR84XA4ueFsuLfhdzL9opDrHdbzhtzNIqfyzlNBgE/Iha2zpwq7huahRvZuc9bksgenx\n",
       "W40UBJQ4O0v2uF6EpMVJD4zyfmS3bRdTRaybat5y55w+MHPK2VxqgThls7JqNqt2vr/N6kgV+/L8\n",
       "cwm98qG6o/QHsUkAAADZQZuJSeEOiZTAhH/94QAAw4oWAJ0pmXnf2OSCQYC3KIAEp/t21L22KH//\n",
       "wPNx+b6k/VbxIq9YEoV1o4/7p9Hk++43DZhqEifTsBNLnklwDco1bANDh2RFr+FKQ+lEps0vEGwI\n",
       "b3y7AcQ9VQ56bDwiGJMH55wjJEfH/oDJgtV6G+iVWLUnG/w17FplT4fSVblCQa710hLfXeKVqACz\n",
       "SPiKDVyCarzoYY3aX5C18InAKz+dRHC38v5QjxRwDQpedY6vxV6V7uQBA347qA2Ht9MdsliXO04B\n",
       "oVSV8QAAAItBn6dFETxvAAgp45wICunsm5ZD6ccLJs7AJ/ffmUzDEHhSzjvYpppfDhYnjuUPUXF5\n",
       "nknR+Z24bn5mZSD+dJ8yzw+HOwBic4FawZxzr8Vw0JzxQuZkIBezNINJK3t69DIfLlMxQH3iGre6\n",
       "+8uXrlYxcAHYWBsPt15pCVUWvHRxLVjFCb52qDzgp2khAAAAZgGfxnRF/wAKh72hn+ksOyWmAibg\n",
       "FE2lHDILaikikiWfEpLM5WJKV46gU/A9PSiggyGCFfMqA7rOmmAqP1At8hX26uNEbOQXXyZ2VraJ\n",
       "vb4aswxK62Tk0Y7zxRD+Pj1fCGFmK3guIAAAAIABn8hqRf8ACn5L0uCJEOkOdLEDHswNXgrE/IB9\n",
       "CcCB8/wwaxXEpv1o/SVQcrTLRKJhJy/SiDuC0HVVpd0e6/WZEVM8gCl0klbiUI3tMhHiYI34tvMB\n",
       "hvKDDzX4npbIz8OWUwp+qckblMRPSK4tuc9uJu6rY00WQTF3Xj4A/XknpAAAALNBm8tJqEFomUwU\n",
       "8J/98QABT3Vplv7THspswQTXNQB5oKWOQk15oIrc/it+r/vzibaaRFp0rssNv2Dtd1TRdpW7Mr5p\n",
       "wPYYfaE2ztNvwdg7KMj2zaoNGTb61Do/br2kzZHGvR2AvowUeU0glNjMXcT0+yG1FgJM/ahc3W/S\n",
       "4dBlWz4sMWy9kSjgZJYMeveWYv+sGcjIy0Xz60Ik3OJQfIiZjypAbpBbNUAKm7Ak+SxewBXfawAA\n",
       "AHYBn+pqRf8AHFb2kXoEXfb/fjmI7b8eDxaQ+z6G4FGzsLP+Wwb49bREf6u9gc+zL9AZqMyxuWIF\n",
       "aPZIhAwkhWIeoXxEaORWuBQVvbxCdorJidmfW88PCxCHpy7IKtkEDCs5MW1ScVZEm9OSMYtM9Ckr\n",
       "IAh7OY+AAAAAu0Gb7knhClJlMCEf/eEAAhpbVgISPbGeELxm/O4LKh35MxQ79Sm2JxfmbcgASn+F\n",
       "oQqPKcKTV5ZcQaApjTeKvA/svEGvLcVwXH7UZ7g2403PtgfHJ+Xnq87JVZJjMWmMBbpaNTuayi1R\n",
       "tIWHr7Glsgyzzzzd2HhorV6a1pZ8B68xiJFnf9a21sFzGyJm1JgK5RniaR8xAc0Ax13X1TwMSb75\n",
       "h0z4f9UDmBkS+/koHSXIj6EHukWcggOv2FsAAAB4QZ4MRTRMXwAdBr9hvPYDnmP7v59RRaiM3Y+4\n",
       "n8uJXzKu3VpXzgx1rVihwLXOe5Z27/ICxfRcimfLibOa6H+zhBQY5/tI4vjalfOpnVYqMA0ZkaY4\n",
       "UoEWx0/fo9k9FQrMmIJ8t0n49cwYNKTLOud+oNfyNfIXXFOzAAAAfAGeLWpF/wAdCpYEa7NCHHQ+\n",
       "MuIE+/cRb9vLKxLY9enCl6MVK9KAVsr/5woxsaSiokUcpVcGra7wDOOrP4ApLFjrZWS5RzpcaD45\n",
       "22zTt6D4vXN8YYnqhHH9UlFFW1A7GYr3OTCCOMevv6fGadLIMQ6NL0t3fXoaObCvJOEAAAC2QZow\n",
       "SahBaJlMFPCP/eEABc+mufClbeL0/uorel9jbnCWWdgP/WAgAa3yRGUKZFiH46Zcg/xWoI6gDet7\n",
       "0Gf/3/p/aFnsE0Nl3i1siGZASPzYqTBDMtHFNFy8FDI+I4b1YqwN8lFlSGGVmbNVGnmNNs/JQJRj\n",
       "d9BJxtmjUInP1LAyB6yZ5EpshgQzC/UnYbGy0iOf0xKi3yBBsa4xodJqUkb8ifR1MrJyGbt6xR2c\n",
       "n6FUVrQ2F3EAAABvAZ5PakX/AE+zR4NW3CvmwrA9koSxXRZK+5AVFg9h+SoRJaMw99IRoKW97BjX\n",
       "JkSPjDYk39+0F1GYD0v1ONQ+cbBYlSpsd41JNSRznUsr0sqvAwCNEKw1i3F7QMMsHzsgUBp+bKru\n",
       "fo6v6aLVz/GhAAAAsEGaU0nhClJlMCEf/eEABc2MX9XDjL6hO+O8bwF7T+eC27Bz4IqAAZyI0RzO\n",
       "edioAeidGFY8Bpi4nYbumiDJgY0CQIeiG1jUjAXTwjTsZdH037A+MrUERpYgZHii+73Wivoe7lww\n",
       "Y6zAfp0nuN7GMNbIjsdF93+Oxd5QjM/7CKEb12nRC8aD41x28hwFCPwBK+WZc+//spD9TT8lIOyF\n",
       "6cxJQDrq4akPV0coAWlgS8m4AAAAckGecUU0TF8AT66jjZdIQyw53oHVDzuq3jus4OHm8VcUEJzp\n",
       "sTLxV1jAqrpyg03eIqOrLWVDjXKYiSfQJTh8BqdwLFb7YuogcwxZyb9ODgs5VyBkinp8GOVvEO0H\n",
       "DoVtPvlcTaWPAd6+9y2S7nkYEU33+QAAAGoBnpJqRf8AT3dkMOcoLBr57A2yd+KhWjTVNQn0kqu/\n",
       "rRz2peSzvtak1NBTaybUmmGAW5UASpG5dRdL3t7TXumQWx4aXHKdSGQ+IyoFBMleRe453C8DAh8R\n",
       "vOpEi2FLuaD/0QU6UuwhKAh4AAAA1kGalUmoQWiZTBTwj/3hAA+Wob0TzeYQAmmRHSzWlH3I10lV\n",
       "3QzKt03VC230PxVPOTcc1LxEWSMWvXnEupB0wp5zhlNGnvBTE1B6/FrQamNZCL2m7HA0i4m2V6T0\n",
       "MiPcecU/BHKSTn3v2qZfbNHitrQzt5XpUdwZO6K7kY5ShGi9yIJCxBJIg9uB4k8O0ufHHCUqpBqi\n",
       "B0zd5qURBUbVOOSpHvfB/vT6RLd9NvxgkFbEhuMaLz7Tt7taoSE+VKHmjJGfXRXbROSZjJRSnySh\n",
       "AkPz1jInQRcAAABzAZ60akX/ANhHuCE7jDuq9/I6mul+yVYLB870M6UgvCZMJHr4vFPsx22+hd2H\n",
       "G3Y55y+EjP6rbr02OvcP6zzssSWJ+m6Y3CHlG+eZqWc9106eeH4WATYMjIhNcLDyDAUU1+YQXxUZ\n",
       "8QI2ztd1hE4WsmiD0wAAAN1BmrZJ4QpSZTAhP/3xAAo1FPgE18t+r7YYbVBK5PuVNTtuoT/3/RD4\n",
       "fjy0WF6j49G4YuXs1cnqGclK+sGcQcxxUI51ZVVbm+HgGkpHSEkki9mV2XT2mrl52YK8cZziG9kp\n",
       "5MzDnwnXFI66h1IqMvY05o5AVJoqtjO0+rnDF8rXjFcAkwWbjflvrSy9l/AzcvXV6W62Qy/r89cU\n",
       "a44hE/XvAO/NKO78ADTzUzWxK46IdB9G2nSbyngfwYTf4aiPtMgs8OnjUw+qtcpFel/3kw4J/MiH\n",
       "RzXZuBWy6QR6QAAAARxBmthJ4Q6JlMFNEwn//fEACjOjgoABxnH8LUZyrEuH4RPcDntaAJBvER0Q\n",
       "KC0guKBKlJwbTII8+/8qMEplmQT1hSv20zeBNETlpS0rqHlvoI4tLZb0kLm4xkQtWEngiLEaNBIM\n",
       "8B4NcOqV6EBUR2ZFr4hrQMXrOvtfz3MlkPM8BG4s9vH67cQk4yRr+K9vZ6KxxDf/jshUt1dhKwSO\n",
       "I49q8H3E8zISZaeXSl7BN1fDT8L6jdfsrqcxNCGVNgXMMs5/btmCDWh/+X9xXcaPna4nxMSRZefa\n",
       "D04hEjgiJXveh7IwZJtDaKUckiNaHD3AE5UO5GdASkL1wR1ozDQ43k04pqaofDmo84s8ricWGcTS\n",
       "veKO9c2M6COxtyEduQAAAIEBnvdqRf8A3M2jNTG5JsLa50URrENe0Os0AOsYH4AKetft90xp+efz\n",
       "bg+nXSuPHihYnR1m6Qa9WJG1gUsMdK07rr1ZGiZv8RThvjFeTVMgwOO6xMIzFQAPC76BJrklIMdY\n",
       "ZSMuKZJ3vDFX0ZuAwJ02KLQOn7IFVA6RWcDmgym+pO0AAAD4QZr8SeEPJlMCE//98QAKM/xWAAXO\n",
       "31EF4zUJbvyal5OALFcMNoRq9wvULaXJSpu5WO1Tj5mM9WeCMk/4fP6fYdjbHjAUDoYoiJhe9ywY\n",
       "+3h4BfYIbcKL5rlzTFGOf8+36uSNOuwqlZ2x7Noj25hsZhcLEYcR+hrt2IFlyyH/vEbLsJV1YVl7\n",
       "tV+OBkidMs1eyH0zXqVBSo3whw8XEd66UCALHKMqGfM3AWIsXYHfO63GWKVDRZQDywRidzfgcgAJ\n",
       "Av8NdJr8CL7VjO1RAWVwYqslfwcj8VDN5GjHMStjQbKXavouLtOQVMDWjtMHaEYQmPdsfKgKk4AA\n",
       "AACWQZ8aRRE8bwCxFY/B8unR/04Rj1YyIf5w3X4iT2KjI3Yai8dhLGUJ3w4+4saG96h2qhBUzHcV\n",
       "hjYFPV8mrY7TW8B5BlQP3pK3lAB++1BZiYCibiI1u4K3DL44Fq/ufRQsbtEQUx1ONOVjIQcfktPZ\n",
       "CRz8SYlUnY0sctyHVQiblCeSrhxBM5k/5w2xE9DBrsTlW4mMzOCBAAAAewGfOXRF/wDdEPyDK33t\n",
       "dJ26F2ePr8/m0eEZ33huayIwCsHEFhZcuQV42YA9G1ZWDy5J48pzic/8nb/+U4ZZ7ya09W9UEodu\n",
       "6Dd4stlFRkgKXadSl1/m/pBRHadnnPZUTQGdLnczMHNmRPwW5fUjSIexDvptC69gWsjycAAAAHwB\n",
       "nztqRf8Azbui4dPl4FboDf2gRB4/oGJoE+rGd8pQyOby686tZeqDa0w3djNB1D84h+yC4R3RBTbY\n",
       "mh3PBKc3u99tyDFIcZaqYYI4YALVy6xmOmT1HaBCcbMeNcer+Y97IppxbWAwK8E0zJVnm4544MPi\n",
       "wgTfEgZQrRuBAAAA4EGbIEmoQWiZTAhP//3xAAoz6OLrRVRQAJaejZEumg48MfH7PW2GFMsftaZj\n",
       "TCP8ChXL9QnGrsGFKVH/w5pL/0S8yjyrJlyj7s0tGu1adtwwaevdw46Fvocm+MYG3jWmKKR17ZQl\n",
       "dfxy2XqKnG5QdAY9tvgQN/vSdJY1+Z0+TFB4pc+TyNQA7tef44ORBHoaDPJK45jGw8GXsKK6ciV5\n",
       "60mODeGYP9NvYBjTL4qHVBdFU67np5P5c9XJ8TtD5nEYuZ/avNqLI+wxj2iwyu0e8mfB9wvoT4oP\n",
       "TnOLaoXgucHBAAAAi0GfXkURLG8AsP/RfoWb7jY6iY01WOzRQoULTu2cuQsP30DeUNoHYccjwP2x\n",
       "vjGGL/0AgVfKin4xQnK/FPZc7KubMPALf9iiHxIKotWaObUP/cemkx1a4V2agfBodznvy7egiUwq\n",
       "jAAYC4U9p4rbszIZh31QgvF5Jfc4TNAxbOEEfngX+zBFzAre0XEAAABvAZ99dEX/AMiiMDQ5BPnH\n",
       "MKz2E6iRTdn675xdjqCeXSX7sRmpqES+0K+WY4TYii3PQGpwT+75T5ND/a5u+far7pailF5Dq75w\n",
       "pgLixGtOqKJ1Lycn7Icowd0R5YiFhVNvyu8D5HUgkXZd9NXsgBxwAAAAbgGff2pF/wDcz5hHpQsg\n",
       "eupVwyZVoMVipgIckFhrnvSb9W23RETa4Ed6hIxONXE+oOoUCMSkpXtgBKbu0WLH8njetT4UkLee\n",
       "+ANY4I9ksNGeKBxayxmDcAlmNF/tJ7rA7aJGVBt7q+YFQXihwJWBAAAA7EGbZEmoQWyZTAhP//3x\n",
       "AAozyC2/AnwATrFlgl9HZj8BNi5muQs/tpxG1spSkJxTtMp4JSukrvVnSm42IAP+ZZdzT7WmCsXn\n",
       "ARDXUBhxARRTMOx1smHnijaWMf0QLE841JtBIXOl07FqSWRyNfn8Ao2V1uFcD1D8AVgPt6/cmbJa\n",
       "5sgY1DvGIOvPSpiR/sMYvit11+b62KSvuuxyKPIZxuBfo9ka3AglWWNym7pKoqK09z/S3ldNxCpB\n",
       "TRtmnk7vHIV4ZQN6rK+XB7vXeTQxHgEVX6+z6yQrq83WWIKceDNk5pEqX+gJX0qsoCZtAAAAk0Gf\n",
       "gkUVLG8AsVhvG9DVLnYYNzvb529zoFTSWU2FRhUnFReVD5mFepa66sQBrpk6cf6U12zRkth0erTC\n",
       "m2Zuf3eO3vzbur7lCMlohQpxWJlde/TWdHsM1XmgeXAawtyWdTiu776e8vGRZWUQIPXqIAIuLuwc\n",
       "lnG9GlhqAPsLVBQNWnWW2TiDwgIxjbse38xQRLVpwQAAAIcBn6F0Rf8A3QsSeDwx3At+cM70a0OF\n",
       "nAsBCQotY2Dqc7peIrQYuAoQ4lces7mdgbx2IKOdC5gj+66MTFcmoibJCeRvi7v8g+Z3PgH6hEV5\n",
       "cAhxjcbdZofmyY8EyB8GYycjEvIkQp0K9z2ZQXGnFX9eW5mnsTe/d+ItCzEEOHBCgZJHcA8fKiYA\n",
       "AAB6AZ+jakX/ANzo7wDZfLmxWnnTy+iEtpAGvxHPDzsxxr5pC3ezt1+r7kueuhkyub+ZUTDihQP1\n",
       "awV32vrsB2eNwXS4vMZ/gJ3X9iteoDFzCjaaktUP59I528UjPy+zrVwCKX4kSi8APh/V8jUxoPBT\n",
       "YXgZtD/3ACjNCkkAAADCQZuoSahBbJlMCE///fEACeu2puG7ugmL+KOJhv24TdGPrp1d9TGQ7DvY\n",
       "TgAuEBeRskO4wGQmQlTW1U0w0rVucPx5Hyf49gIO2AHA2nHpuevPK/IeYj/2nb5kx1tQEI2JrVaX\n",
       "bSjVgI/26q5IuYu5RMoV5/HhOHNV0BEOMF1YSuGb30lPdrQpvijjGMhCZBHp1r17dqSBdFWEQFUl\n",
       "lyNTncFM7upqLI4M8sGYJE/tSXG5M4+eY3W37NDSonh/jliccj8AAACGQZ/GRRUsbwCs2HTCNneS\n",
       "Iqw5k4ilxjCgCyao67uvFu2acSDYBlzvVsHsTRbjdys6vktriH3we1MQ7ru5s3IETHni/ccH2g7x\n",
       "uKuAHXuWp42ZhPZTbmaaiYNvcRupYYXETTTaOSPm1d5Y7w3l9eX2/wgOtI+Eo0VY/fKwRtL907Eq\n",
       "gCNdBN0AAABrAZ/ldEX/ANhSEaVssNyVHkVIYeWMAeaSZJU6T2shpoOi49pkJ2mdPS/w8/uA4irS\n",
       "HSOjdlyx/fz9dqBm9E+2WUK6QMoiHJCNQ47FF5/dax1iGeeBrCVVX0VX60Ftus58/yeM32X97BBa\n",
       "PScAAABnAZ/nakX/ANfKHjp9Er/lOupj7DOjTGMJujQicTriSKGodPiLA2Yw/PdPEe0yS3GO0dHA\n",
       "GqJ8Ytm8l7UDkPdZXe3g7or0J6yu6GpLxp3jqS9jnx2//G28Ffc1ApKYCStHf0wAjUIl4AAAAM1B\n",
       "m+xJqEFsmUwIT//98QAJ67kuoABc+vwglwcCxvtsCeFPDu1izhyHFytulL1DPuw7gcAscT8tUAaV\n",
       "BtmR8F0m+AP763H4ZpihlGMGRLjsT0fDHIGpWQYE3poIOYR4swfxfJug/E+RemIQAmQKPfF5oSRf\n",
       "Pxt/lpMc6VySeD7CRYunCoJXfybTpFc6qS5s9UtM/ZoPe9ghT141yzgPiq9T1gyoVb4kxp9odnD8\n",
       "lXpCcefqpzztCw/rKxAHUH2Crlphh1hKRB5MOdBIfIVAAAAAdUGeCkUVLG8ArDKzOD0G1/lO30uG\n",
       "IZtaoOkvq741/SUZ3qUoq6q+J/J0XJQlYV203sgRUQHoEIVzLAN0LX7g3a0uC16ewTFcLHfJzncs\n",
       "PQ8oIsE9uyL5Sr+DEavNvc4VCtyW97bB2JCD0wq5U0KHY14AblTKiQAAAG4Bnil0Rf8A16rvuBFh\n",
       "FhfQTflLmsUDN43YgEkaAbcJbQlrFDpTLhlI6EvLJF1O7IdLJ7XfTGUp8dBD4Gl/u1cuDOik3tDU\n",
       "Z1o+N9LSW71Jbml5cFZBuUD2dpZOjCrMEKDa0GaOgo4IvNnYjAC7gAAAAGYBnitqRf8A1YvkepeK\n",
       "A4jSSld37jhT1odGYu+C3/iCpRUAlBVBKQXRfcgFJHUdHuZfu8cwbJAJCKUDrQmqR+7CNrzHzg/m\n",
       "SMkGVCP6qrabkC0TXjdRuMqaokPIQTcQ8qqjP2oAAQcAAADLQZowSahBbJlMCE///fEACe7kyGoc\n",
       "oc1+9sudtnHj8hL8YppbhpsG1rH3scgiF5n0vU8aCuOjkI5lEwY38lw0ALGd5i/0nr9LYq2PntHt\n",
       "Nzniwv6brIrgciZUZzQ6Pj0IxPRKSiZ8y8HqS551kiLtjxGnRKxNK4XNrF3rt6SrW4vi9vetpk6/\n",
       "DmIXoyX84/PWon3zhQtxzWSvtaB/6kycuuG2RMidRex6lwPLRAGe6Mq0PAQosKoSNb4bW++Rv2kt\n",
       "MD51eAFnEa7bGcEAAABwQZ5ORRUsbwCsdNzFDB3C22yZQpHpcRos0kDXGJMRBttll7/iXiekYYvb\n",
       "7aTOPUBmhtOd9eiyGE5KRO8EKESrCcer573ww9hWl9sDFSRWu+C/FyYqEXb81SfnzUwSaem9ua03\n",
       "BN+8/6hLVjoAeFsygQAAAGMBnm10Rf8A16nOZIN6Vp5KDr0Ce4wrtHaQUG1X4MnaaE4pNprCgwKz\n",
       "froXviJvQAAzKHZhGUqzl52hPDjA2cmD0TgCE3triYjblcjH4V1PtXPfuBBFZJcqg3itPHmuCoAA\n",
       "CkkAAABkAZ5vakX/ANfIBidXWyc9Ua+onKsxY+icG1HHy4mYMnjVKZtHMLFmKWw++mko1hJKsOPx\n",
       "z+DIoAutc0qeTy21xEW2EPF3wD9PDR383QV0/VSe6BG821SEyp3CwIOHatUSgAATcAAAALRBmnRJ\n",
       "qEFsmUwIT//98QAJ/8HESYcP/W2sMc6w6r+j93fy8AhJLF5zPpUEX6vK7ABGUJFIfuLFuw/nESEQ\n",
       "DxBm38uLnwt+R95IBGAnp3dWBtp1JYyLlN4Mjt9KfnR3EqI/CzNBxkSiFjXUNfzCncV7e7H9n0u0\n",
       "7vtBqCNQSJwCaK45UXmJfIwlQLbFtKbIK5Bf/E7iSm4ZGNOEP2CduzZu477jysGBBfT6IHQAgo0M\n",
       "bHVZC2gAAAB3QZ6SRRUsbwCslkW/ZUSjpF3L+tvGPNsrkPO7MuCpRZEvEyzyDLBBTyEIABbSAQg2\n",
       "OKilpdQw9QyYUYDvGclyr20GOLawCb5sA64gstTE1I7zvAxaPPkM2c03+mFm2bwsRGpYf8oKiqSa\n",
       "gve2pUB3Z3iAG+V/5J0AAABnAZ6xdEX/ANe6QpPgH8U2fznhoC0Snb8dVzPuh/zLhSZX5LwjUvAV\n",
       "6X5Ls9fv3KSgv2mmJSlWOk8NMa/yDfYve6ISL6wngsPtDRFbXYt5Vn7N4TGhnjXSphnUINrkdLsb\n",
       "lgC42Y0GXAAAAGcBnrNqRf8A0sgHIJxKV+8vB0xDBQwpeIlth6eTH3Lwxt37C9OJaTrJwZm+A8z4\n",
       "lLP4k4+x88Kuy4PVNMJuMp0qvRTPQiMAgAMROg6c06Ki6XmXHdZfKQT3pZr3BS1VhqIStDWwiUH9\n",
       "AAAAtUGauEmoQWyZTAhP//3xAAmm9sCHMpqzePoz5HzCrWp7CBiAtPwVGIAOMPIRbS25T+st42ag\n",
       "Lz/ikB/WHTNij9bZ2UegwP7pml3evKeec658pZziUkp+MncyuxikPuocmZRslKTifqaZ7j6fqqHX\n",
       "GW+7bX3TDvQUR/AXR6ZPQJZUxCFoGbHpPen0VgKG3ttfVwSoun4WzaIKm7EtBKdoU7+oVD8LfPiT\n",
       "Ih5EIBKOp6RzFY7e/80AAAB0QZ7WRRUsbwCn9WRE4xhM+nZNCXsImq3FooBJPVK6z8tPZ8wGX68n\n",
       "cE3i+Z/8BttuQDfwIAMTwJ0sKlpjMRee6O/DD3Mk3oAsCuLCcndaqQ9j61pkGQOKK8IO1qp8d7In\n",
       "bwEmV/Vg5F1XIu110AD8/OG/O6AAAABoAZ71dEX/ANNNISLtoXrWQziNPRU39X1G1p493nxaw5Ed\n",
       "Z7xOVZAACd/K3lgh69lwEB6z2ad8OCT6eZ1nImrApXt4EpCMO/fvfHqqcUkVKczGnINj3WYjdKu4\n",
       "JjaLwRRUw/5dkTQABD0AAABeAZ73akX/ANLIBkHSOsFGJjSFps9ZMjqREfcGnJPS4Q060JOTAAnk\n",
       "QaS3A+NNJJLFClec0sjmsoI0W26FGXwk7Tr/n012B5nXnnzk3/X5WgH9RwvvgNMeGjBmuABNwQAA\n",
       "AJVBmvpJqEFsmUwUTCf//fEACabeNHgBNTyn4gzU/bEC/I4A4flC3LZl62/DMm1OECWF5SJm0JMX\n",
       "uG939YJcd22250CHFRjZuMFQS6v8aB114I4Rf6n/oj/yBg9+KkL2of8uhR9iYHjgGSDUuCHQ93Lr\n",
       "tKco590p3kpFCSvAztM4lB61aGXmC0IV68Bj6io4aUhJOwQv4gAAAGQBnxlqRf8A0sgGQdI66c6t\n",
       "qmsULL/r9GGfzlyejbR2nQ6T6T6wo+aAv/ugr5wS+ZI3Tv97MdC0WbmmYqvKyUdDweo2i4Ljfo3q\n",
       "1heNZDm3V5WmXGQqoXy7HkpMDDEahctSObSZAAAAv0GbHknhClJlMCE//fEACbfNygFTV/Ha1qqI\n",
       "AZgjdiIX865tD2P/8/EWtQ7f39/mBLAIFRB5+JFhy6Xve6Nz3yOdxaCS4I0NnaCbFe5UyBoVX8Tw\n",
       "QYmzpeIJfrluJ+6n95CML32kK2Wg8CStRXJxZMg92SzQ7X93UEfDllljgET9EkIKlDBec1U+SsaJ\n",
       "JP4WS5e8hGnUXNxiGL4qNdbWy1mm85Pmh6K4IjsnQElEmmztHUYp6OHdujrbYxqcQFtrAAAAZEGf\n",
       "PEU0TG8AqBUL4E4XONHjcSvpQAcfEoJhMm3vocgJ44OgMr8YoFLrnihnWP+PaiDmlLvCY3/7l7jy\n",
       "ciOlkiHWNHTlfNUylj+xMIho0MjUGyGRf7x749CbuwEpFSAKe/TK3BEAAABaAZ9bdEX/ANKout8O\n",
       "r6uObYV9Ufe+uJ/fP2ESbq1KBRLyPazBu3fn7mDR8CZql3cUEXkM4qV6P2bYIhY3weZscEOEd+B5\n",
       "pqp1TC3Q3NEURm+T14okTmgTwEvBAAAAZAGfXWpF/wDNyAcgnDnYehtZ4BAqFbYlSpBDAADgkdnW\n",
       "g4Y/xZ4KFL/+8IjF2JnKWtvFLtsdzUtbpuGSiAY56riF6+LvSGvqc/bbv/mB0CQ4LCV42+PWtiqJ\n",
       "C65WAM7XlSlT0kAAAACzQZtCSahBaJlMCE///fEACWluvtlgSH/c/P3sr1wCl7XeWmknNSctJ2fV\n",
       "vLlCZgVWoTMmla4YBc3vM3ZD7bB3XtrOzHCOwzDYaEkvoUGqm0CSlqiQeJlmVef/klAFXwzNkViU\n",
       "TG9BVoApYFPz721waLa38en1qVRTmEvOEI03XySsKhG+Bo+Yw1+z4yUDPHf49M7G97Hf6uvUTMQW\n",
       "epsU6iqBfpSLM3Upt8iE2/BYwlD9+LAAAABlQZ9gRREsbwCjdWP0M863RJqIUyeLCBIjku4CUDNt\n",
       "xxHD4uUIACsDvSXe7whxcmViPDLhIhOCePBab39bHcC+q/n/74SGiIbW0mylqogBbIjbgBFx8f5U\n",
       "qwsTPxsDHSOYOqIquSEAAABdAZ+fdEX/AM5KaBRtdTB3SxlTBn9ADV6K7Y5ywtExE73Fu/ZlENZY\n",
       "LtgrIiy0aO4C0CVsD/hOGTWPWTkV+8FzQtfWxAP5YPeXnvIvHnZG9cpF88ueYJiBjDMm3D3gAAAA\n",
       "XAGfgWpF/wDLmYDPvfqhrOjogXo9PRTgtstWHkeiORT6ML+6q9ndLQuINZMYMwm4QP1+9CNVPGCd\n",
       "l++gDwoTnSNbEWjuhORbtLy72JKHaa8GbrCCKuSjo8w4RQ7hAAAAvUGbhkmoQWyZTAhP//3xAAlp\n",
       "b1oZm7z4KACPbNiXpp5ymrwfAPBloDMyHWI3moxDAOdJmuvNTUoj3E8R4vADxmsDfs1kUCjmQRzp\n",
       "LgVnPNWuYhJ7cV+ApdGItL6fE6wex5jlA818LYhN6vANois8gVSfJSHUSBgje4BfN1G8Isndnla9\n",
       "xW6usuh4DPMim5/jMbWBen5FB6jbDHTO6X30SZH8Z8hS06ifMFY5ytOegvLFTFNP2uPRIAUpS3p5\n",
       "cAAAAGZBn6RFFSxvAKN164WyGOwBKHcvLZ7CZhTE4F5KMlG47UbNQo4cmZEjb2WEATA3PEPeaSLd\n",
       "B/G0jltKXjyVZysOdPg4QLdIBVEWrp2QpL15/Jd9wpIDkAc6uCY+qAuImew7RXNQq3EAAABYAZ/D\n",
       "dEX/AM4MOUka8lLtXTDxN7Jloy6jTc0xw95sdyux3r4m+N4zzBdiWlb+DAQsK19QbxI/Hfue4whK\n",
       "dsWXmSSKJa0suJPT/yvZbzgzY4IAKpCSpmQV8QAAAFwBn8VqRf8AzcZWFQSdPn9+OjNXLdBK2hbS\n",
       "NO8cpVgzLvL9lPNqcFTdCQMNtSvw/oh8vex9PJyuzL9Ik9Rlw0EYkHmPS9c9vaEkRSw0Z6ieNd5F\n",
       "pgZBsQEtuRxwYQAAAKNBm8pJqEFsmUwIT//98QAJZz1CWTRcpkvu+B7/buck9giib4zu3GwVamji\n",
       "rXuLW8tzftxeP9WXP95b1EXfkxLdZTjHcwYVCVcSe5i/ML4Ibav3hFE3qa+aPUgV1BifcA3vlP+K\n",
       "cKqId8S1RIpCzLey2zfiUnN4y/SVuNpe4KWzYfTOPNGDxEQtb/7++XQx/nW7Ax2QGySw9nK57SZO\n",
       "FG9IXYOhAAAAZEGf6EUVLG8An1U3MUbL4E1m8zv4E+XC2VeBFIRU/DFP8T4SDbknhv0Dk2eGZAss\n",
       "Z2SU9mJX3qGAALrp65oIvLoKe+HRM9PmRxOZ/OqLQjsO1aqLY6WU42JYimT4Joca+VXwycAAAABZ\n",
       "AZ4HdEX/AMin63l3P+gWTisuLoA084yvzBxUaPHThwGwgoUXubO7afoKD2oaQpdiO6GJ/DCOrrlr\n",
       "jz12UI3TsPLngwW29ZnGoQFZqoyXK3pcFyAB+uZAVMAAAABSAZ4JakX/AMjIBjH9AsDmXi3HkHJl\n",
       "rGWaAHcSFBnyLDFyUXCp0XgDGTReTd6G2GohMwFLWa4JNI2neAjvKbB7DmvdB7bWp3KX5ZzDLUzz\n",
       "jv2d0QAAAItBmg5JqEFsmUwIT//98QAJKim0i2ZxDX1mk4kA3AJzAaXsPA+gUpjOCFv0IsnyFHOU\n",
       "CSAmENU+D0Um0Kt6omUsPAJ49ifLjKZ1x4kM+Ypx36aUEvmoDOjEMpYO758LJa9RDWScdks9eWRH\n",
       "fAHqFksfvZVdoGx5GQTXlv0dVbR8KgNc2jD1mihShBrYAAAAYkGeLEUVLG8AnvXriZ5aXKTq/ZnV\n",
       "9odeQd2vn6LYsfGwkkbvgD5qkGqyLOX1zKDoNjCNBZoq9EqDovaaoQJ7fpSK9xrv1HculFEsnCrO\n",
       "WfKCYYlFVhSBiM2TRBpgux4+guEgAAAAVQGeS3RF/wDGv4ycDPjVQZWosl96kDrYxoe04GesYqnp\n",
       "YmR938Q0zQf8QbAcMfCE74PNZS1Wn1+nCnPElCjPY+fD9rf3Btv/gxuZw9YpshlIphPWNmEAAABQ\n",
       "AZ5NakX/AMk4gAxr7rstXLmgdo8su07cvqnkseWWrNGsmfmVnB0F1Ix0mdz+lbrYBixAYArSiTsQ\n",
       "Wm+vhosHdn/v3KZ2LO+mDoC5dsQoqYEAAAB/QZpQSahBbJlMFEwn//3xAAkm9PoThXP+29lh7faB\n",
       "uP9QArbR36tW32/v4V2n4xwP8GSaS+yg42OY0L1Ip7tLJDvx9ngh9G7aw7ZjQDj3NOMFE7abARom\n",
       "DI/oEojCQFwgMQ9YY7DmwMedtAAAAwIvRPGdImmmbm/50Hx/bnix6QAAAFkBnm9qRf8AyTh6U3zx\n",
       "bsLVa3y7CnUlC0zzudZ03N5eC+3B7pZXSXZpWu//lT9+X6ii/rBfaNdzxiE/MqU7BqI+dQSzkReV\n",
       "rdsklQGTWviRySNTNtubphIl4AAAAHVBmnRJ4QpSZTAhP/3xAAjpbwPZm7xFWabtPlOclWmReozr\n",
       "jDFYYTHrAS6bujPHxFMy3Qihd67quJrxElKSKaJiZRArQGn/EwCDxY8wgwHz1oLeO+7rpA34lpZj\n",
       "SDWkM9XC/slQybdakEMI3s6PIqDrmEAAKmAAAABhQZ6SRTRMbwCanDT40fl6Yp/a9AvePTiclzTe\n",
       "Xur5VNYdmvF0FZEmlsGZCUT13SNubIsUTruXYFijLvBN/RrE1de+b+8wvPM11jjoUZHZGZITy5CU\n",
       "u66mmJWsNG9BPsyhgQAAAFABnrF0Rf8AxAw5SRr32havieFjBub7LbPDEFfr/x27jku/8rIVqUM8\n",
       "njk2wa3EERMt8Nh5JMJuHy4+QLL+QN3fkTO5VybV/eHRqnvdVygLiAAAAEoBnrNqRf8Aw8ZWFQSa\n",
       "1932PM73OHMMWhFGYq5d5hptyropMrwqp7BBAVph4d3l+LZOjOGagLGUk7Dc834pz1ifkQRjLjqA\n",
       "gZsJuAAAAI5BmrhJqEFomUwIR//94QAOHQ22h4WI0/5eEAGyQiJIsIN7vOu7nO6wIfG4D6+eN/XP\n",
       "c0FJrUHtVmkPdbV6e3fj6yBkMstqyB/cpjSu6nI5qft1b/zYTMkzHwhghvtOhZfWSjZnDMUzX9OZ\n",
       "y8iQCHBuLMINM/fVeTYG6+fnPmz9gYpdEEmebQQLX0sbQLmZAAAAZUGe1kURLG8Ampw0+NH5bBJ+\n",
       "5HPwABNYF8fxHIGjMYt9kA1fGrsSDOXpijUCNmk6CMeBL6qMyMBccnJnNYo+4H+OCuRsmrk9m+XM\n",
       "CKv0GvrREEIS/3n36jJrP+tLCdjEiVBRh+zAAAAAUwGe9XRF/wDESmgcJzvXj1QVJfB6AX1Bh4qL\n",
       "Qr2YgIPVr63mf7DMXYHU0MsvyMlFgD/qrqATS9LxZSXwoD/uJ5Hwfiz1kYFh5V+TdisD82WXNWVB\n",
       "AAAAVwGe92pF/wDDxlYVBJydRMW82T55eGXJiW4UwuSXU9r0WUT4a/kyo8uqXA6A6vaAaQ60gRyE\n",
       "bGKSNGZ7EWv+VyrzmjHacxIc30tfko3vokENoApijPad8wAAAJ1BmvlJqEFsmUwIT//98QAI5xm4\n",
       "zhjLRSkaf6AHSFLgAt9d6JAiqi/+L7gGqgWjC3YYddN/RKW5WOyVdmWbLugrBKgZk+xqn7Tddj4n\n",
       "tjURGWMDZkALvn6AgRZJ8WfwKdg5+8rZ8nQ/UxgGEHv8bO1lg2AsJVuLR8+vIDedsVu6VW9S8MYb\n",
       "o41+3BD3XryCN7bWq9tUmTUrYRKfSVtGAAAAn0GbHUnhClJlMCE//fEACPfNygnzNf0BwtOX9LBb\n",
       "9xT3cUshWHQf7yt6pkZnyP7cnaknqU//NQAaHdIkUwjtPLuC3Hp6KYGXDkGoZhO88KwNxVtWiNd7\n",
       "kJ8gBrwDWlJr0S7nM/qC0kMn5/DtB5YWv8C3qXcyIu1GYtRtPc+GTpMr0jiJCXHJj1M04wph6PFy\n",
       "mpoRXgAQtzS8/mVmTbDCaQAAAFdBnztFNExvAJq4rdaQMM7Or3IPNcAAUVEIBrAJLGlgTuumgyQg\n",
       "OeYESd/OWYMnPotFQuV3jU47CIt/4ETl/vN0Y3+a16oWf/czIEBrsS2EbjG0Q5H3r4AAAABMAZ9a\n",
       "dEX/AMO7tmCojcuypl4HWSl4Y5v7w8VNhP2nyGhYRH1eaU/FJf2s9iAiZ/vXFDXdn6LSqfnVX9lK\n",
       "T18NtJwtU2H2ezKshpyY0QAAAEsBn1xqRf8AvzfyEAXCov9E503lnrwmd7gs0+5Esc+uRS4Ud5cd\n",
       "f8FnYxujQNOR4csWHFkJOiO3eQ8/GdOMfu287IZtt3wATk9QFtEAAACWQZtBSahBaJlMCE///fEA\n",
       "CKb6QHnCxFZZzdmof79hypCQAeYUhB68fqJQYmYKj9/5erBbUomG7yO5fmS+uICfh7vMXErbtc8M\n",
       "pYZmzlnwFk8yk4Jh6oS03nnrryH5PfvXTeQIgarZuLAGppHXntQX9cZx+04D6PYCOQQny9ElD9k9\n",
       "YIv+bA7CLoOblu20FmUgvkGph96AAAAAUkGff0URLG8AlQNWeippPBSLEHGKamc9u6iNKrMaU8BL\n",
       "czqKSZ8ESIOnqfZ1AQRhLbFNLjyDxbilUMz9PpeYOr5m8I87Z38nXMUjvlzUjyV1oOAAAABFAZ+e\n",
       "dEX/AL5A3q+8/7/EIFa27Ut605BI68/biNcxKAB444ZpuM0MhkHGy+DhgCVCEynQU4mACqKpf9rA\n",
       "8oGvpEsz6BBxAAAATQGfgGpF/wC/OIAMbIb/JJOr8UGxhMntyw/tKO6EiMeLLtM29qXVU9xDPBTs\n",
       "RKdV3IsYgpThsecxofisayn7vbWxYlKfSP7xK2gZWIXEAAAAhUGbhUmoQWyZTAhP//3xAAi3zeoa\n",
       "AQJxXn6xBZRR+yaJH8DHz73/R5fCNBQdI610TBum9/Y2304yizOzrMTr5IvN7gavkH7DfSrm++Mz\n",
       "1A/KFaDDMgl/rMJWTezwG8wk9NvHvNRKvRqJKA7wGOhMVK/Q8z30uGKQUw5kDY4tjKMoZgCGu4EA\n",
       "AABSQZ+jRRUsbwCWtmz0bhr+STW/MA6Ah//YOyOMS44f2OB3HkHSRYPNe4OarpZy/geEs9i5w8dh\n",
       "HkbpWR8zbZSVZRY+5GucxDV6n7Pifx4REIsl2AAAAEwBn8J0Rf8Av0pd50wSBedpZ2vQDEPwgqDn\n",
       "KHBsFVh1WEDeFculDtaVupJswUDtwBRq3hYHm0flsEeGJHZ6tOGr4TBbDTiCQpjrN+I/AAAATQGf\n",
       "xGpF/wC5S8CX1Yu0wjv1DAFU494EC+59bh0vapPaEdIppYIgLPgKacoB2iIMDBUufiTWU2vewnCn\n",
       "FBN1UYH5kXu9CAgAsKXon6cFAAAAhUGbyUmoQWyZTAhP//3xAAhysOQxMP/SWfb3BNpNdiiFB98U\n",
       "pLMlmbtO9gbaV8cj1IboU2IBKQfv6HHkCKJrJYe7J+YsJDXh7ol/Couwf16hMcubdPjxUNkMj1nW\n",
       "2X59NWhLcPsY7DvyH8fXYOG3He07BVO5V5iTlDOrW6nLQAIWX8ASVCEAAABOQZ/nRRUsbwCQ06Fi\n",
       "HQNS3MHRkgBAWbEGjLJUAkx9+xtqtFpd7i/XgaFS88lg/YevSA0N19EaVy0WnSb4N2dRJuJ7U3P7\n",
       "LrGYPpJlfyVnAAAASQGeBnRF/wC5dk1ffP96HWmJxqpEuMkz4gnWDr7YjGYPn16uWRyOHwqq2mwm\n",
       "IQ8KB2Dt45zIJZzIJmx8J0UF0IpiABvleE1BkJAAAABSAZ4IakX/ALmT6zQgfownivY9XAu3LZZk\n",
       "cLZlJ6PJjKFfrNiSpggIBlTvdfR8aZwXnVtddDNP49vRhq48OXjyIRCgkkRgMIotOj/DAAar49AG\n",
       "FAAAAK9Bmg1JqEFsmUwIT//98QAIcrFTRaZwALrUytCCjYa+rzRC+p825QD/06+g7ns9/sv1/ngr\n",
       "BzXv040GQc/WSROOMMSYYaT38X+fGeviH8hVVIozBEbYJu+IA/2W5qNhT6OsbTw25HVHbuVfYpzo\n",
       "3A8UOGfGsuO/394mfEBeJm0w1ChncOyR4huhAOLpgZteDlA+4pNwfhzKLUneUvIRZUo77XUAGfw3\n",
       "GNvUrg1VhODhAAAAVUGeK0UVLG8AkhRoFJoNrIqtqvGJ1Pt0AWTcBgKO+opVsPScoKJjEi8y3HZ+\n",
       "puddBGGDuj+b5E4SN7OpNzv8MLFJyPuhGRs+fQwAfejNsi8V5GZsBpwAAABRAZ5KdEX/ALmsqVRC\n",
       "EcyJBmTzRXNsdP3aPV6DsObLrGdlYHeEwNGPiDtI8HHf7u/BLY6Jp/gxvFR76Fo7vw5h+OqsA+Ov\n",
       "Bzywoaeq37WXEQMCAAAAUwGeTGpF/wC6Eb+dZH0VKvyCBpOW0iBmQjCBy4V6/iNRsKH+TvNpQP0O\n",
       "kii9kcT6YhLFNz2LEI7vovEyTJSeOrGBDwaV6giA35cmuVKVVifa1twtAAAAgEGaUUmoQWyZTAhP\n",
       "//3xAAgzhWcDFGQlDE7rFczT9b0+wO6vS8qIfu9JydknqQMn/0kPVt+FZsxRTuxKbRvn46KvVMwU\n",
       "FwOVVbQtOUcBLBiqQPREuuUnOmDmR1t1xCuKPe60URPejsMq66twcWkMjCLuM2txdqGoHbJYofHN\n",
       "eB/TAAAAV0Geb0UVLG8Ajleygbiwvmd/07RiRZhqggrEn++gACZLG2dbhmqeDbS8x8J18ucuezcB\n",
       "hxLMi68/NOkQHLwpNEsuFy6XZUSff/96MzVePqe3AHj7KzBiywAAAFABno50Rf8AtPZUHtS/k7ea\n",
       "VRm3h/MwBDaxMIsrk/Cie7tkl2TAAd5TYPcmgOLAyWyI9zDmoawNCos8Ulvvmam4E+KSoedeVp9t\n",
       "kKedFSuSNgAAAFEBnpBqRf8AtRPrNCB+hlXJWbh+aJNClkBjI5r4ALGBIvFc4194XdfkpefvVHYK\n",
       "BXqE/zcuFPjxo9l7BchTVCtEm84NZvGVMQACFirVROy7ZUwAAAB7QZqVSahBbJlMCE///fEACDKx\n",
       "hwxMQnbW6YAEIv7qh1Ls84wkql3/BgQWYDHHkqTDDsZx3sjWB4E8OGlMmhH64Wxm2oQeW9oU9Tiq\n",
       "ap3Z+h/s9B3VaJq7moLtTenFSvhMPbOaA2vWVGID8jo7PfjSS6dl5T29DPWtXTynAAAAWkGes0UV\n",
       "LG8AjhRoQqDWKQ/kuJ0Cs1PvHADpmSHCqPIjJRYhdUBuh+9Nr0cEXQog+MpcYaE1+oztzbRisDHG\n",
       "eC4rZijgHDqe/XC5FqUiko0Pl51AFEFdlyEjKgAAAFABntJ0Rf8AtSypVEIR4YucLXwOj5UEdCIF\n",
       "xQZsm2AaJjk2r0lbXBY7kcLeE//4Aq7M8StgGFmmLZh4ubO+DqrABX00v32yundebokKqDnIuAAA\n",
       "AE4BntRqRf8AtRPrMLK88xLlW6eGdmI01TQk44JinI1RTuR4YQLPysjA1HgULLGOFdq9CP4Vetyp\n",
       "k1woj9XOvxh5TrHaLwAAcGiFCJVt1W0AAABpQZrZSahBbJlMCE///fEAB/OlVjxl+NQQNb1GamrT\n",
       "P270CXmIcZSwd4LpP5N7in9DumhdBT4RqZ2Ew9K7wswgxRpLBVLjZ2GepfNGPlJVDCuG1nktilwY\n",
       "cHRu4M+Kb+QedvWLMZIAAH+AAAAAVEGe90UVLG8AihRXUqDWPi2er/LfaIQimRdMw5yXld3UK7H5\n",
       "agA9wGsgBOUmbdtw2ey5qNfFkNQhObk4iCqhAQ2X3Mzdrwhqm4gKaKobPgD2AE+P8QAAAE4BnxZ0\n",
       "Rf8AsKypU+Uu7iAGYUxxE740+Ud2RzA608rJrYLfXPucAc19ErhaYp1FGVzdtmJMustBwm6mrVr/\n",
       "yJf0sf5fPi2M3lkASkqFwrcAAABLAZ8YakX/ALCT6zOuelmEGKrXv76ciHyfqmIRNJqBfSnZyUIB\n",
       "VZyXAgOY0OPC9lZtOwgp4DRHMRtMo1JbwO1fHtkMoOIAD3S0bkvAAAAAbUGbHUmoQWyZTAhP//3x\n",
       "AAf0ZkesQ5h/SW4IK7ay9bTYeDAGc+BtaqacMU4BX2Igz/ExLgEgicftsWutO0hRqaTnoxhe+YPB\n",
       "aef1KsYRPlpQATiRgI2vCmrUnYSn4HFWIIYY0iOU4/J+q/iU62kAAABQQZ87RRUsbwCKV7KB4O/x\n",
       "0aOZVPkj5PFixB9M9DyQXNo3BRzb8y7/YzLyKhwlR2AAFKPmAwj6rOlR6JvHtzGSUuzyiRGlM+mM\n",
       "GyADwgewDjgAAABGAZ9adEX/ALCsqVRB79YRqpONQbx2YsrHtiqTYS9nmd/nzpIK0KH0/NXQ3yU6\n",
       "B88NUB/hBvPWUe85g6DO9ebn0AICPujWUQAAAEoBn1xqRf8AsJPrNCB+iY4k60hBDuaflpvbl3Xo\n",
       "EyTferaNr/vF0woOL9U3rcrYXcZfcSftyvunUekOCeDE9T59E43wQIJ5q/tISQAAAH1Bm0FJqEFs\n",
       "mUwIT//98QAH6QgeC40tROi0IABxU+F6Vhv9m0oRqeHd5nulhF+/XUy0wZeNvXy5nD/0/SoxsJRg\n",
       "6Yg+zx2HuqML44nkxhv1iWhErbKlT9Z98B2ahbCUWOY9L0oGs1PU4+eZobchZjNtFl3Kl0TRb/2B\n",
       "gXexgAAAAFZBn39FFSxvAIq2bP0+HrO0mYVRC9payjsVvxPOX0vIVDYUeABPggUCqYTxCincq4LN\n",
       "3bjsIJYV/u/quSaJBIgDVxeEZDcGdFehjzvfEwGuXA8PTBlIwAAAAEUBn550Rf8AsKyo9Gm/vIbN\n",
       "sb+/Mdt8+xD7CiD/owe0bQlnzunrH0FFaG2bjs2qKak7wIeXYlWrcWyrnDi10UOv4SJyBL0AAABC\n",
       "AZ+AakX/AKwT6zSNDkTZnXKJcLXk5nO5kRQtejfT/yBhwTnMH1VGhLOInT0YEiVoiyeAb4ymFlVv\n",
       "kH5SQAAbcDxgAAAAkEGbg0moQWyZTBRMJ//98QAHvQcje2D4d+RO6xiuKkHqrRzK+H2oAyDKFrRT\n",
       "/VzPJGln6+qZgQAfWxz26E+UrAR4JibRJRvRe7hUUYDSZtUv8WF8FcQyAQ4A47eaLry3o3aJPEId\n",
       "WhGMNc2Zcsoz/L+O0BmggVwH/hpIqdGi6knPxspzZ+SEShsXMcQqK9mrgQAAAEcBn6JqRf8ArBPr\n",
       "NCrPXGjP0GLZReOH7nwyZTAeaU18VZd3KwSdx3oJxILLaHVO6+nICwRCiJ3vEANMTTX6HZ2Z8bIZ\n",
       "EDTdNwAAAJpBm6dJ4QpSZTAhP/3xAAfHpWvMxnyAwEU9M8nYLG8ElS58ZOr7Uq1qFZ0YlNlTiJ5l\n",
       "x05FUpYKjepcYaYW91qNWZbpjAszYDyz8usDMc0pmipvHtsBtWkdeHA1zocvvibNiXtXSP+xs5sc\n",
       "xKG5SZFtCb5b1kFQUUDXLoGqaXzlXuJ7UpFhQliRu7el2/lnY28KesORt9KpnH5nAAAAaUGfxUU0\n",
       "TG8Ahleyggo4M0dKRiDlKNuOiqOxr4Q1r0uLrlSq01u3KyeyT7o6PCe76uB8slDV2DQUQSdg2xI1\n",
       "JGFqaHRlx0XbnJMlT7daKdZ9ggYS8L5QwDIeLfyuYhkl0dLQ6k9h4gcLaQAAAE8Bn+R0Rf8ArCyp\n",
       "VMO+LQ93O+xPvpOkOiQ3n+JRTUWoMVsYRrR7KcZxuGsI1DH5omdCJ5EgGgd/FD4cjbiNOdbaOWi8\n",
       "qcyI2uPUrZQbluHtAAAAVAGf5mpF/wCsE+syQX1DqfVQ6pHqIhHC57gOmnmHhZX14gP1Gths/N6B\n",
       "m9vUVqBpA81pae4zzQ5UEm8riQMSie59lcaJyV/a5HaO5FthE5NOMjYgYQAAAJdBm+tJqEFomUwI\n",
       "T//98QAHx6uJZvyjrNzMg/XMRGAGiECjQcD5V7a+DiMegRRM8x0Qc4+P96IJ/zz1Ym2PEpi5oFG/\n",
       "mP5q5OfnfGelI5ozZ08Qub3sx6L3Ja4EDwb5bDMorJoKE+rzaPRa7iPNlrKzt/Zg2hlsqDjs4ETm\n",
       "mUb1fo73pJ23/3vVJroS8bFkFYxwFGsfallAAAAAVUGeCUURLG8AhrZtBgqwcT/bKC0v6t7W79AE\n",
       "HAxUNWiAsTLqP3z6v532LcPmYocqTz/WgeSdwxTFMw4U1jYbw46W/DH7QI17jJhWhgTfwBusgxoU\n",
       "2gYAAABLAZ4odEX/AKxxJVV94TWeE3IaQWBI5i1mZ8RL8IYOPxFnUKaHM9o9taENDnC0d3ifJb+b\n",
       "CDKG4NFYwTl1Q/2hhMEusHSjw6UidX/TAAAATgGeKmpF/wCnk+NXycaN8zE5+KQKQ6Qy27Z+H6qb\n",
       "pJR1b9OZzYQcfZN2jOxl5DpBfhXFj1eAFu13+Hy4wEMp9zuW207n9SxiQkDGxceVsAAAAJBBmi9J\n",
       "qEFsmUwIT//98QAHm6VrzIYqv7bggrK5FBWfbR1RmsqMjUcq12QALkeCJQIlo+P/DmtPzrv+lbul\n",
       "mkJpmeP+Tn/yvCGnlXBmHAbq5qk3DMDfV5WASUvUpELBAYiN+XmXHQ0mX810HPAtcpi4i3JOY6xA\n",
       "cuGiR+pBm5vMq/JKPp49MCEmMQGGS6W9zjwAAABjQZ5NRRUsbwCCV7bqOV4mH2HBKf98qjbX4Ol2\n",
       "mOtXSKszvVZ8R/vm2i7Xz7RiSrPsx03oMTBYxmARL8ICOK5W8TkD0SkhroxzaO3amy5hPH4o9Iba\n",
       "0Rw5P5RWKSd6iSV/FBNxAAAARwGebHRF/wCnrKlVAc4OaMyjZ4AzLb4PVP72ui9FPos+zZU4IRiU\n",
       "c7st65vYKdXlWZwhK+5F3M3ORQESj9l/ma84O+APFxGxAAAATQGebmpF/wCnk+s0jQ5FqjFibXk8\n",
       "zDZSVH0ci35YoSTrcPMQG3TvGla+snV1ycRKlRoPxkVhgD2JHsrpxfyJUSQCZ4m3UROQswA94E7B\n",
       "AAAAkEGac0moQWyZTAhP//3xAAecZk2ACbNCN+6VEtKTdqkd/cQz0f+ExhyOSysni+Py8L/3BkOI\n",
       "ucfVOHXsCYQ6b0788RuDo/3DW9jsWv4DIPJW5jnivPZuXnUAnfAQiKTt+aWdi91V2YQb6LbZcAL/\n",
       "EH4OELH+XQrkkeeNUccaRyINXOUVsrFpROCnyg/nseUGMAAAAFNBnpFFFSxvAIK2bP0+H/wRUZGQ\n",
       "cAAkqtQx7+JXeP5uc3YbEk3r4JcGYrDTfE8SFSFJcqec9abbqS3RhkbSVCI/AwqfGKfQ8WXxJi/n\n",
       "gABnSpHJwAAAAFEBnrB0Rf8Ap3ZNJwc33zB/4W7TBC75jIqCjHDCBWeXlQPBhaZkRGdlkhFEbL8Z\n",
       "yzeEPDWA6hS1CpCYAxaDVrRHcfQGBXvlZjibYBccBrkpjzkAAABTAZ6yakX/AKMT6zVGbTLJyR2+\n",
       "PZHlcdlFU2qw1lFeO46V0IA0BK34LhIvWkMDvlqmEcBL2jKfzVvHb05Jmkp1OAHH4Ve7DAj6Wifc\n",
       "fe7AQM9T+X8AAACMQZq3SahBbJlMCE///fEAB2+la8yGKr+24ILAtmZhS6OxoZdZLD436tBCpuKm\n",
       "yyBIbFh4kKgb//mHnO91vnCRIfYWWBwF/DZa0osFUjteRquwOq4J6oobEqJuvOAh0XPbl4KHGECf\n",
       "XqgLQHIj8VF3xAvdCHDPLtAHcKYeP3eoRYlwcJpYmn68IKAASMAAAABaQZ7VRRUsbwB9g2B4Ff8N\n",
       "rgOme5YvOglhZ0Cp8nEkaQIUlB4bSHCNo6KTbBz5+qQx2btY4Yzzy+DTih9JevC0p3ro2K0GdwVl\n",
       "Bab+2pTsDmw+griYAbVysPKbAAAARQGe9HRF/wCjLKlUcocX+HbA3/cbxD9k4RPI3h40D+T8PR8I\n",
       "mAT52Bxe/xo1CXgfdtJTZKUUVe4x5KjFpAAOUlfORFfbQAAAAEwBnvZqRf8AoxPrNI6XTLDK98cU\n",
       "7YfB6LXjdm5YW6jeotXFZAtbIb49gYGhmhotNUDIO2BYzQAHC/YQz9YngvDjfTnJSXRhUNA8ExTB\n",
       "AAAAkUGa+0moQWyZTAhP//3xAAdrR5vS9AEADN1Mq1B7y630vaIX1BHTRSmOFyARDmDpJRQaA9Qe\n",
       "5fMlZhThdn4Lp4oCfA1EzfjR0q2n1KkuPJwUgDsNU5ubq71gR06G9XUcA042qwAR7BEdSaGpW2GN\n",
       "ZLmTRB71r7zK+Zpypx/Ru5K8F+QUHQSL1h9drUJAJY91CUEAAABkQZ8ZRRUsbwB+d+I8y92/P/WN\n",
       "pRNlFugQQo16j4CkpHTUdBRnWHn1I7gLvdUuEp0MLUhWdJv6SDxHi/DOW4XcD7hZpLXxK+wliTYh\n",
       "eJsJkvZOnmVJZctcV9IxdNdpvwAa3Ca5jQAAAFEBnzh0Rf8AoyygV9Qt4i8XGzj0OsSoKGP6HwEH\n",
       "IaHD4klL9S8fowesOBgaMdttGeR3KibIumrQBUHR52zrvTwpJGEqad3jyy/xEgZvQCwbumEAAABc\n",
       "AZ86akX/AKOR96ta27ie0YzoBLfXd0CiQiy/0jU1BRoYHau9tvl32Je9nkbZeDUAVDqMp/l43gQq\n",
       "yZjmAeSgxRYI615gqr4+0Zh7/CyBMDjUunQJYAB7+Q4Ag4AAAACVQZs/SahBbJlMCE///fEAB0Ol\n",
       "luyKUE1XF2vT33oN8oDACBb6Mhg95m1BAecydH0xVuxXa+2+QMGJCcWFjYzp940lXPM2478avreF\n",
       "oqjF7E66unv4eDwG6/JEV0itGLe94mLTtnoqVM29Ttibr3nkKV1iEUOkoR4kGucj5lbbkvcUIdyL\n",
       "ImGDkWVMSY/9Cmhsa/kAB80AAABlQZ9dRRUsbwB7t+JY1WSvXA/CY2bi/ZSfGPgFVEjs8XdwASjB\n",
       "DbLOtp663t4+j7GuxNLybYREezVYE6GzIfHmUKgFbmhV60Oidxv7finjoUcW1tMGPeVzfY5guaXv\n",
       "riADbN45UHEAAABNAZ98dEX/AJ6soFfVTQAm6tjro5rU9tN7HiqnTk5l/fqJzahQtTOpN9owb8r4\n",
       "zRzT8ZMvzgN8oxAPwqRlMnXj3JvDGsX3GDlPmDRgVcAAAABUAZ9+akX/AJz1+arCMbnKia9SgAM5\n",
       "vk2X1hps/DeCDzKKbUfwzZ1A3vxtzYR3EaKCMkEJBqi1ajYkPgpSpRpj2eZ0qw0/HwB/9aHvJYAu\n",
       "XAB+9i2AAAAAlUGbYkmoQWyZTAhP//3xAAdEOrj+JAFQAIyzIE0dOAIG4hXcTiCSN5sepSPkHTqn\n",
       "dVfby5oS39sCBoGvUliQoXkF3Aw008br76hC1QxEl3BjlMUiyh7cKGex7p/hj5zSc1X2pcaCDZRw\n",
       "Jaom+4l3IJdMeIsW18j9TghLkdXzNL4F9AmAQ+QOVHUJhsyznMF+fmd63haBAAAAYEGfgEUVLF8A\n",
       "npO279k6VWxj0yz2S9SLR3B7sL3ozznnc1Z1nGskr9LE64IqRRNU1Z7s7wwc3hCXEIYkvODQ+0UE\n",
       "kJMM/0frnVVDl5YUDfaxJ36XUfnqWiAPelQlzdLR8AAAAF0Bn6FqRf8AnpPjV3A+Ra2JAr2b+B/C\n",
       "AD5scCLVeBOsiSdnJC4N0bUA8Agxp1WMkmYXLBHrYSl/UCUdt7Wb8cZ3ZGKvgbGcUnOoHYDL5IgB\n",
       "NqHRLY9x1wFgWABFqHkAAAB+QZumSahBbJlMCE///fEAB0OmCbSQCXxRGM8W7VQIPAV5LYVQt8Vd\n",
       "VL4D14sydufk+4wyttKQAH3QCvv3pZpmFee0+G8LcZVBdjgun6aj1CqEVPMtwcPdqgZtR/IE9EjD\n",
       "BhikRaMVsP4OAdm5IYbotFRCRFBgSCcdgG0AAG/AAAAAeEGfxEUVLG8AfCQdDt6FqQssFCl6Y3AP\n",
       "N6JWsVE0r/2JuPuwAAhUC+tlPe+5C4PLALt9UkS1TG/eFmrHERo4fnm5yITF6+omUYT+ETT+n3O2\n",
       "qPX60ZuwcMvjU8XvM/mdTfgyh9+KZHJ8XqT7SNAS0vr1eAEsmFlI2QAAAGMBn+N0Rf8Anu3fD1Um\n",
       "5YbpTg3Mt1hMqKKLULAwjyTx1Lri3DIq7xvVCwJnA8l4h7emfsxRYnGUiXq0ZEdih7L4lqY9xX4i\n",
       "ocaUpcAOjVJEgkx/OA8W3722d040CEAAUtCtFN0AAABUAZ/lakX/AJpJ7Jseg/cdeX0UCHIOiMEI\n",
       "WGJfydq46yp3w9n9FSq/CJwjkkpGqF3/YyQRSvr5JL1xXhWCBzl+478u7JtaluGZI4RAiP8PgDTI\n",
       "hSGzAAAAnUGb6kmoQWyZTAhP//3xAAcYOsfWMAEe67Ndtth3WrxNfhAFKOGi2uNBEXA4A4kPemEt\n",
       "kc+pQNmrLPJztHngy40N3TqYSkl+bGoWefKVG7X41ykuzLHlgrjM0/XUeApWJv/8aVoVVht4/rIt\n",
       "I0+yoAUEutn46q2HSpChtXmcv1YKGg0TmMZLXTxq0gF5qIH1Yxst1DxyPqeLx1NBJgcAAAB1QZ4I\n",
       "RRUsbwB5ItPdJmZymmRb6WTOsPUhbv23jyVvErvZJhZvUSJCFuhZkOI5Cj6Y+FU8rHEgCaBilART\n",
       "Skjs/E2dhJUNQ2dIEg7+lVZnG4r2/uFcgoP1Jok6+lGbGE/6AoThJAHCc6B47bFaVgRolCmXreVM\n",
       "AAAAWgGeJ3RF/wCaL5/dPdUyCZAYT3miOVp5uenv2zG1HdiAfe4D3fdvre22l92CzWLEl9OTBT2a\n",
       "/2YtgQ2bf7+ignsF/jtX9XKK7FEjDqnLhRtf0QrSSM4AVXbywAAAAF4BnilqRf8Amknsl3A+RMvu\n",
       "MmVHru5frWe/6BbHgq/BolPUQJr6SIeJifnO6LK1EQFBRD301CuBGSKrj/H9BccevEwbQ4nNIFjk\n",
       "GCVgjn5QT2WJjryxy3GhITN8wELBAAAAtUGaLkmoQWyZTAhP//3xAAcXpRU/emcMCEm8dH6TT68i\n",
       "1UDdaIRAGYrsxcLWgcJoTCMYy+JGv7Qqr95+iig45bZaM5ekDJ3bRdQFjwxbantE3X4nuWFFcLDL\n",
       "u09nra0NPvFB5A9jwWuA694r4Ke1sdVRHcaqQ+ytS6c8A2ZnQxYcHkwXwEAUVE+GopIUBYoJy4YU\n",
       "+v0EodYSvvvYM+FiotIXel+OWSOKjbYgIkuhZ8kK+GSOoIwAAAByQZ5MRRUsbwB5ZB0O3ewuETfV\n",
       "9KTc4LXaE6TU/BOEhAPcDsKPjHyupJagW1x7F/xkA8aCVLOr+KS27emOxpf8IBTkgSktQT7oRZs7\n",
       "d5pjboGq4E6LPVRM7r5WDTnqNoGm+SD/qH427KZ0p6HOUdESYB0QAAAAXgGea3RF/wCa0nPISksb\n",
       "U4xBkzudyz2O1vhKlL7k0sPyGZR9R0MH2HNGRnxQ9k146LFn6Wzgvp3e9v1ySkh6mYQv8hYmOoLR\n",
       "+1DN3zuzoyjf/kLcplbxOgdmQBjwMqEAAABoAZ5takX/AJZJ7JsCP/XMIjZEdPuNuIbA7uY5lq+K\n",
       "XHtq4f4+OVbv8kq3YbzsZ/TWJdvcH2/LA5Hw6JiI4BDKDqK+N9yqiQHXSaVRrBUtQfcdeNfM2oTO\n",
       "zEoQgGOvyleXA9xTzPZXwS8AAACvQZpySahBbJlMCE///fEABuxS2UTABcot5QI7+IUAtncO4gYS\n",
       "w2xKsqqJwf1dWauZK0adOet4Aj7vMkSm+FfaVEVUuH7at1vr1MYsiaQj80+zeprOnuWc5QlNTBVC\n",
       "3MQjNL94ismKMI2K1vqqvE14J1AjxcQNRBL8EqV9qwtad2Ni7g5+KG3uQApX4YeRFdKZynbHUyK6\n",
       "2amf0OstHz4DNLrDu6FJMx/6mu/PlDTJgQAAAHpBnpBFFSxvAHZi1rSX+rP92ABR5OzXO/ukRhkw\n",
       "/DM12MC/UWHSDraAc51GgUDBhjrzxE0ghxNSoajDGv5tWpo03tlyb6raALpcPrZXC+l2wgNObojT\n",
       "AegSTUwFSrJASeTrLEuyTRRXdmSg6VE0W4oOIAUVtPE0gziCgAAAAGMBnq90Rf8All+n36xmVnl3\n",
       "O/kVpY/sV1gZWope0Ta7PLnX4TLX8ngQ3fgQ3P7j/d33TPNfcnlArVX+FE4apkOTmZ6VrNuZRVWY\n",
       "yeodUXAgS259ZgbwpiTTN7xGGMnAFMhn/IwAAABqAZ6xakX/AWsfwPLdojIdwZE3dH0KhGYXG+8w\n",
       "f514yLG0HJyCglniAj7kuVZjsQ1qQm8w6S3DsZXBAZf0LRZIEajoBLRrGlKVGa4JVvmcFPTz1483\n",
       "xysuiHRwzU93g8sNtQnom83lH8EogQAAALxBmrZJqEFsmUwIT//98QAG7FFM/KF4kYdKhABOakC8\n",
       "5gbb+Ccufl9N3Uhg+AfRS/9Owt/HX+rIIfHNRehFM/+DgBaOWPB/3eHzlJRxT8KKGo/Ct4MjZ8T4\n",
       "IOnsM3oS5CRwFaip3uPLuQHqvT6RzE92SroKNCiMUW1g3gUkeeXYMP0tT+/km6lFcOctddWqMyYg\n",
       "0igXmOpJxsyLba27St2uKDEbJxEDhLbZuDD7w/WKCDE0gq1i0OTonIXF/AAAAHZBntRFFSxvAHak\n",
       "psPGchRjtTociXXaZT28JmrWEU8wCGl6CIu9oTy+5S+ZtNLwgLWe68h7Cy9HnWnlS+Vaied2Mf/W\n",
       "JzZeTKpqFNbAWj6rgA3YVzcyGl9OEGmnZJTEVKzFnnEldfbg9Qtxnoj65YGw+W7XPitgAAAAYQGe\n",
       "83RF/wCWkFSS7pG/qvyEQQ7BvG9qjkXsekSMKg+0Q7fddZxqFc+2DUpeOnkOZIt8O7gddtmepdQD\n",
       "SOm1xF9KnbV6AmQJKkWtAzGHEUOlqP3oEwJrMXGBmQAA6jsA84EAAAB2AZ71akX/AJKJzk5GOraF\n",
       "0pDZvwmOk+T+Om7+pmRPe3QCZfwQ/iez5Vj1TaYiiGSiGJWXAbq9tWMlBNvYSQRfEypVicl74Bta\n",
       "5LNPzweD+ENmsTtlzdDxjWunjKKAmxiYXTdABFsR3xF5yGjuhcsqMDiclGA6YAAAANVBmvpJqEFs\n",
       "mUwIT//98QAGx1N7gPswUfUbAN+MYw4D0RJBgegI2hKGjXNncsilKOrIX2W/mEoPYEJ/d6DiGJqE\n",
       "UW2VND0shlhZYmM7iWKpApstVk0V3O5PV6Nv4yhhnXHw3eN+YpWmDOOWutPuW4NffjJyjsf9AMap\n",
       "U9Ko2t0rOqyIgKq6Ogn3nk49TmPIWOAzXpzc2C9m+S2SZNLdYdM9BTFG8RAJKCjzppyUAxT26VJL\n",
       "cerHDBWc8xi4pbPnFnNFq+botsXQE5WXRBs1VRDBkfROfrEAAAB1QZ8YRRUsbwBz0phzEj4eWdzV\n",
       "6fWmE1osdrVfmUhlJhotZBvFmhn1fgKl8kvm3QIp1aJDbc7rfa+2zrxFRjqZP3zXoKoYgCYVOrD2\n",
       "sGYgG6Bxdod2x9KLkXdZDH0IaMIqHEwfISvEou81ge4ms+YDWJTLuMppAAAAZgGfN3RF/wCSfQ5g\n",
       "wf+C8jkgVRBgbAaEOY89dx5VEdO/XugeTvXBoCFI79qVGui8wSc6C1YKBCWPI9cNJYnvhJQ9xAno\n",
       "Ymp6IEbk0F68EIPvXt5NH23j+VkmyVfchxMtQAAHqR8EnAAAAGgBnzlqRf8AkupQvkDpyYzonby0\n",
       "C52FI5hJlSCLnEcoyHn1Qu+x2Clqrzc27Fr/76KlLnY2I5WSIVG9U+msvMjMNupIU01y8DhhzQcE\n",
       "JEbCmwJqEbf0EX7lot1JiAEAiFt1t4BrzmDU3QAAANZBmz5JqEFsmUwIT//98QAGlKYHtll/tqrz\n",
       "AA4sf+cRvk+zQQ9oybrKpuW06pbWBZxpjSLBggZCCXrWtB6mr9R39J/xbPPrHybqyEbBwU0kZS8s\n",
       "tcaJJmr8/YEG5Saj+dSnGf4cYTf3VtVBtbVyPdq92Bpgwd/+e8zTZnq4Qgn143QqToY5/5m0IBrR\n",
       "1a0fbCxLMEMKzSxw6YKyhoWVHUpkLRu1HMhw1armbTNxsRxAbWmurL7pnCxiN0Tj/K/c6pPKLtik\n",
       "nM+1gO9JbGwFYrOyc0Nn0r2AAAAAhUGfXEUVLG8AcRK8UB6cytB1HPRkloTE1GVyWSEKx922JU0z\n",
       "pTdyz6p9fATczflsXiVSXVgDxH1B5BSpY3Li8OEWbWuQjlqH+7hKBEfNJChcT1eE8o9QY7xUJHVA\n",
       "2b8204TiB23lvZ20eM9jUANZbgJCx1YMRne5vvYs/g+BdfRr3sjkyYEAAABjAZ97dEX/AI71HlyX\n",
       "2C/Uf/syM64vkOCSKkpz+4dzjkatuK8if6w9WsXChE2lhxJ6Z/gYXj8ZBgQMjUo7ILHvBJtkS9fa\n",
       "fQzUpsI11dIQJ6ff8IjXs1II3Vzx0WFtJQAHZnmFAAAAbwGffWpF/wCOit2Vms0YuJ3y7e7Ziuxd\n",
       "PRuoguEIBXhKaBnIkWjlkGDTVDTL5w+dtk2sgSfAbINbjR6VqUY0sIi+V/uawYriVAGQ4u0M376f\n",
       "baNb0DhjVxLpjST2w2WCh33EmTMrO1V7po4dGECZgAAAAQtBm2JJqEFsmUwIT//98QAGn91F8PZO\n",
       "QAnbuIp5IWhCWPrp92z4pj6H3IOHB2yZDTywXCVh3Zm9lY/SJ1cIpNZolAm9SclSxacB/y+tzvq7\n",
       "KV6aLKIaJkE1l1fqwasNYfoQd54X/aoWM26MX9KY46pCHRmxXQqlr5AkPCCSxKlB3+/pYY1wcrHC\n",
       "3E1FXLtqltzVIsXSMB1n4pF0+UWMv/BAfqkqNHblrV00+tz7xIWpuSl+U/V04oSYFN4EpTqTLKWI\n",
       "DDJHJ+pHIuvXXDt9fVwaV8++ybFE8+m1FeVIPKCKCpMidZMMvO4ItDuasIhL9IibjkFEhVyoHFB4\n",
       "Rb/i4WDWOeXVCrOSU9tCixwAAACNQZ+ARRUsbwBxJKgWqeCAorqfX6J3DNOtyPQIS9JtMHE+HlRo\n",
       "eBkQ2ZGNFBIZogUZ4VeNVcnYMe6QERyxzMXI6Z+dpe5/MEYnLfbkYeoHQ1KjE6nOgKxFyTS9qEYX\n",
       "dEwpuyS3N+56H9iCJs6g/I/Ex3rDrtQoNEg/HXZE2E5EFFMr8hgCEHREHHd/qcu5AAAAdQGfv3RF\n",
       "/wCOfVJH9ZnG1WY3fVAWAlX5P2DyvKc2ZASINNl39p4HAgmQSgvlQY6HC0Sc0IrOxFAvbZ+lZwr2\n",
       "wAIOzH8D13JLyl1jZpnmNFAc2tD25b4iWDSQryFHIrRSsbom6DnhyCuM4bT0+2kIiA3wAxrDdAAA\n",
       "AHYBn6FqRf8AiordjpDEH1mVcthhQhkpvJMphvjZ+nWFRzyrlHRJFmBeMGlo3QWiKRJAzvG8D3Z6\n",
       "51+xJqH9ZyVuEml1v1oQEPDFVEDfh/Eh40PHXfKsf0bIY4CdHy68GT1LR5Tw5q0VvXkM9yrPrA/R\n",
       "i0A3wHdBAAAA5EGbpkmoQWyZTAhP//3xAAZ33U9JEy2uTasAA+B2y0Nj60aYw6WBuvNf229LcY06\n",
       "talD0Rts4peNGB0KyUVJFomi/Gf6CsyTob4u4sh1b81KX91Pi6qOS/kqTloNWd9LGZqpiffCJVHD\n",
       "VQ3AVZbogCpgAg9g0XUUOsg5ua5KEXniAJQhCQoYGTtIuNnBz2dddH4c+KP8s0l2axa+DOv+1Lb+\n",
       "YAaOH5cDu3IZUyljc9eHmW6l0Y5i3g1ZW7EDNSYUoLwh88VudjTpfXtvGCAGCxT159jQBKNCYUUk\n",
       "j3wV2HxWDjtgQAAAAIVBn8RFFSxvAG6dJ5BHKWUJjmo+QVoWgt1uljitHjNB43kitWYPK/nx/svX\n",
       "8rnge9ew4z1ecfcYC1drwuCnnSy4e0eGFpW8xUcT5ceW7fqWUh4vQRc/QeCjdoig7C8Dxpcw64+i\n",
       "i9/0O/RcZzSEKgbkKungrFu/ge1aA8lyw0pxiAfj6oIfAAAAdgGf43RF/wCK9eFgLaHsecTtKFqz\n",
       "MamIfkf/+YMmfKJOhzpQJ4BveWHIhzObhB/lxvAm4VwfOAydFITUvJzX64WXxbP40JU7EdW8ZWMm\n",
       "DObqCOgA8qr+Fu9ESneNqLHaWCkiMl8430wobCY6+Zfoo/xkO4uXRlEAAAB4AZ/lakX/AIqrVaKD\n",
       "wCy1zrJlEEMoPG4GbkXoY95o/XGX2KBNszFCYXgndUIsbILuhPf7MZZ/ZzHwooenGTfRd8fo6jRe\n",
       "Uy6HmqwEOO3Ah4B1nBW/GwDR2dDYuJo7iZr6PHKIESrTH2PZGhZHhgo8dPGPBYFjFjKhAAABAUGb\n",
       "6kmoQWyZTAhP//3xAAZP3UX3sfOQAaDkrmBsXzIzlVe161SyE04B89i5dw422Rd5GVaSwXRPwbnf\n",
       "c6MibydL3v1+Nkx2uqQIhEkzLVAoMVVoYyQoyo0bBMC/hVo4tTX13f4BFdpSWCgVTcQDQdHYCeQG\n",
       "6kr1GQeRBO3Fu5jba8tJi/J7lE0IX+y8bCd6QtjG+v+w/LJrkja+eWPdD/kFKUx7ZkNVGcTYhagU\n",
       "NyFH7R6+USH/5ZrdvuiccyLcdOFBONx6FFTpvXTUBgLCf5j8Y7sQJSv2PZv/5HZ8LeiYzXCg9OMw\n",
       "WWjH5hwTd22JFhWyQRA2KneTbDNYAIOBUkxRAAAAmUGeCEUVLG8Aa+akyFAAmXnX+JKBo5x9mPXp\n",
       "O/QpK5IASHm97Fa1xBDQj2uexp+WNEQUFyQlbGKn0BQGMPphh0gRumT8mxPr9uuGdkB0Y71r7Gej\n",
       "vmzTNGK/anYIP2fNNLLiLXn4LyjFAFr0DQ0x6ucvrydSkR9wLySpyP+kdyTx/h7s9diWCwJ4KHSu\n",
       "DBITHTTUJhKgvHbhJwAAAH0Bnid0Rf8AhmV9FXLqP7WO9BB6uRWKV7QRJyCjyaCtTbxMgOvSQx5F\n",
       "8eTb29jlYIjLDE5nzuWue6b+SklxhwaO0tFf7Xi9RtOvMG2hFqwtFAo125fPaXSsoMGcRJiNK4WK\n",
       "fh/G4SxBfRXAb/dJQ89qnRg/WyqbEI1kwPs0ZQAAAIoBnilqRf8AhuwQSjWYBV4X0163xsLxVdZx\n",
       "D93Pf6BkOKin0zylqjE5sa8YKVHw2N7kotSkn1sLqwAFCwDBvwQycvzRI1cNBR3THaNsuM8b00iH\n",
       "Z2GMoGOb/to6M28Hk7nNFDeQJNozQgQKsEeTiGT27ad/wvPEEh2Gmr1W1s5GkNH+rrshQSEBAxcA\n",
       "AADqQZosSahBbJlMFEwn//3xAAYnmIAAcGPR+x6gj3yLutgmg6wmiCmW/454kAWk/lklfT2W8E2r\n",
       "SteVQFByTkMBukzmSjnvt18lPKMWAaZEhEzvO8SAREdK6mByYj7Hu19qPaf1LoqL0FWUaPuEfgHF\n",
       "+8k54JSlNYxx3DtfusWlVPpmAAkV5HOX4jaRBgg33b5DZG+6sVR/oITU9K4BJHJV5Ls+035r8dfH\n",
       "vTjk641uYmiHZCTjoiQpJ34i3QkqM16d+cY3NHRqtqHF7jQU6XdNJn69ZSoj1znQtSKxsuGOFu3d\n",
       "AU2xsRuP2BmkAAAAhgGeS2pF/wCC7HYOgAQyFhXIwoKI9gWEriyH3kOz+gWs2OaTm+jNHrpuAq9m\n",
       "QxZ8v2+er7X16Uihb+orloB/petz7Q1jiAmot03t+9OnLYgdzBhWp/a4O7uNF1h05u7o8lHJyJAe\n",
       "kTx5e6H3UshDcqjk92pQ3cK8WxIemWBiIO+aiGkDd4nAAAAAxUGaUEnhClJlMCE//fEABifdaSKC\n",
       "vr7wilXbOeMxRkACYNhCQH/WI6jIr3nfnJYM5HTIbc+rbXOMH/xp8FfByoEToQGdcJP9JBt2F5C7\n",
       "IbKtafE8f+z2mu7iPSQ4H8SGpnbmE+ZrPg8wpu/zZZta/l4NuTXyNxPrmJ/M0LqY8DHPHUW1N9NL\n",
       "uCAFOpX680wju2RkpvQWu3u1S8eEAc8GS8b4o2MbVwiCsCUoC8B5iQ0JlI7D5Bq4WJSYEB2IgncF\n",
       "YC/OSSzBAAAAlEGebkU0TG8AaXcLg2QSWSUTKjORr0cCZzC6msLaiDgORscswgXYZuHCVYOvASFg\n",
       "FqruycqNpj4AJYFSa009J4vV8QS3LaUdkLljyZ0UkaoSzl5gCAj+xFqOmkZRSA4SRMWYXfsLFObE\n",
       "MJNJkMga2J58Iil308ZmzZQUE5YJ5bo+hGUkjkHC9NSkZdSSnutG3BKcxbUAAACAAZ6NdEX/AIKQ\n",
       "/5kse26/pKqCqmNSfiNtFY2kpViXlPPJbgdPMuP5ahbM3krK62Gn6Xvo52qSHm1UF6YJKH5aOUJg\n",
       "ybrMkNhjzcallD5zoT5WPRKUYhL6f0Q04DozPJZYEPq7oTpOlhWpwHwC5LdWKtd1L0XZcqP5hbhO\n",
       "ntqaaDkAAAB8AZ6PakX/AC+yLEU87QtOu7tlgqSk+03zYqL3mK/B9Lb0yQuFt8XTOi3stTsZou7K\n",
       "qmjZc8l7OG5epdxEqoMCKqb01g1nJcsFP5Z/S+SbhAHAvleQizEiKEcIoM5e1Z8o8moRLIpKsEhN\n",
       "57QmywHkRtBSu704552mmQacQQAAALNBmpRJqEFomUwIT//98QACHfAMiBpU6X5KubE7gkiuKiwA\n",
       "C2tloHeuQdaa+N5I1/0R71hi7YImQltQ9FOTaBXuOohrmdu89sBY6ONFeohq75ZZbuCfCdgVSP/r\n",
       "aTzATB3EVowQ7uPc5kfmMlYCHHUhLr8NrRUKQQ13H4zGVB0EHzsCxB+w815q/slqQXf0Plvp29P0\n",
       "uXNQBVhJZyOmwq8dOyukeNDrho0EWt6hgKnXYsMp7gAAAJtBnrJFESxvACSt4O3g2LC6lvkzUtiF\n",
       "Dm0ZdUBVc4CH9nJWO+PFShpFpB24t/4shr8coLj50lBZgC/AxDrx/t9BXB+2h+xGHlvMjSQPGeaj\n",
       "8hVMBVuLsSANoaMVp4C3q9FlBvp1AV9UbQcUHJX2JXENhxUxzK0TSHsc/xHkDx0r1sMVqslbLg1Z\n",
       "DdhZshPOiqM0mJUuocT5EJ1VQQAAAIsBntF0Rf8ALnHXYsQZCUXCb+Q5v0X3QuZXmHqDyb+eUEaa\n",
       "L4Hs3dnzFTmJgQcsgjWJGx9ZcZC+HAjNbxRfPGJR56JdvrR737546lDW3e/RJhvGgEUP1xJsQY9Y\n",
       "74eGnz77T7H2GTUJQWGQ7KCi0d7baXvfuKqDHzZKe8Qc34RNTvY9rgRaIcoNX8O6AAAAkQGe02pF\n",
       "/wAugxbdbuN+afqsFbY401iw4BZsqgLkvT34tmvPRplfiksoRP+SoaACh7SlYoos+n+F4GkLuDqz\n",
       "5Yh/l5kZ6lqB6xkakZt9nQOvgBKyMhJlbmQ9eYrOZAeHjWxEWpS9jCBgdb/9tgWteBSPk9gufRS7\n",
       "vryiNpa+/IMz+Muio4Bfy9FsmS7Em82u4HAAAADQQZrYSahBbJlMCE///fEAAMT6bg/m33DJObUD\n",
       "w/yjzoasnhm3gWcFaxE9MAJzy22KJ0N7M/oM9gAuVv3LKJ2lfMYngD5n7bwwYZvlB0bM2/3UL58U\n",
       "/8K0DmbiO/scfBD37a33BkMgv5tbNFfVKmbgbPZGJa+gB89MbDB7B6IH72yp7HVbaRxEaHoVajte\n",
       "++bn76DwjaP2/uci12Y8elH31vVIf3EROvFY/VzVWIUs3jKE5cbPWaqLEg00CwdUPwrd6tPijBr5\n",
       "fjLP4oxWjfrdfwAAAIdBnvZFFSxvAA0u4IGCnXdJKHBjoX1PeVMW12uIB1fAymDSMOx6vsTq8GBG\n",
       "s88do6tTw7K+2zJ6Rkdjmx2JsGckuXRxsU0vfsa5WpbWZmnyoc+SVqBE+Yb0d2+vCN1sDDhGw/pU\n",
       "hkZMwDU/pw1tFyR+4tzxOP3UO70YU23oQpy7aukS14lYzEwAAAB6AZ8VdEX/ABBQjSatQZ2JHbuo\n",
       "T/Wx1qrjH1tMreYxAe3UZAgk3M3y/WFR6eAq/NuKzpR1c6lk8ONwUArWXkFcDIa31kU8/5AAGUn4\n",
       "Rqiaop0fEJQTQW3ATjYCKrCz+oxEyWZG9tVZRsxEHmjqrLgpnbacWAT+py/OQRcAAAB/AZ8XakX/\n",
       "ABBWO0K/WOdXUa7TJDNnmEXtz2M3WCH2ar5Ow6saUJpbSUDSkkL4O/7DgGXOsIB/7Ho6riD1C8VG\n",
       "8+cT8sRmATA+ul7gOf7bixhAvhRgzZuffo7lM33yiY5YvdhR0W1c4D0jdqrq+zLntp5Sfn0MrXEn\n",
       "Tvtx9jgHpQAAAH1BmxlJqEFsmUwIv/pYAANVv9sRZLe/oyroHCUkvP0OrhoSwX902vrwcvVGRJ79\n",
       "Wmi7miFSF3JPq8m+uISrp56YNgwbMNWAP7g+thVgfFrXdFfnZleLYsozydvYKHZuSHOETCfTyQah\n",
       "39ZtgI4fYCaU5mJC4eADtmFTCXM8IAAAEPNliIIADP/+9uy+BTX9n9CXESzF2kpwPiqkgIB3NMAA\n",
       "AAMAAAMAAASEU/oqJ1bF1HgAAAMCWlkvkO7Hs51MABF2coGjVr8MHNUxPNq/C8EifutRMpPKdfcW\n",
       "G0Ha9SMnra1ZbJisj4YsKB5h+bnblpczMANHb+mCp+5McpCOfl2lahBJNowVsIYFxz1dwd/rRkbQ\n",
       "b4NjE2FMRGQGQ5SWt6FmP+htOnY4tFNG6OclLu42pBqq5vXNTb6HaLBc+Lvyr1APWROhwqd3oK2/\n",
       "IhbelsGjr4TYFQMrDlgyIwvvDBdGkSqo1z+Cp2FZ6a1pvf8vQ85N8tJP7wvr1IrB4+p9BvCSOLMt\n",
       "LsnnkwPxWgo8sQf2887cuElk4yN5se4ORa7r5geaT6dvGdx1x2feGHpsw6jwYyFFaIVvRc4apdmd\n",
       "yO9FH4UNhu5hOFuX7DhLXURKkFnVIldxc7/iL1uHDqk5rLbAP55gUXupcjCFbJ2LNSO5/JBxjnde\n",
       "+bmvAckNl6g2qzPzxdAM8n8nWCnfOxR33Kr3qjvtFjS8/ecnwOULGdoGi1cU3bKKg9+vRcbguvSM\n",
       "YPIyOMQTfZurdLpYBx6/7NxTdomtd9agBiDPv0YeQwI08dQW7FXJXqdSOZOeQ0d+E8eNjJ6OstYo\n",
       "Pyl7P37+arH4nkAKGfb0F6P4lwgdpZO97mBTsbUQsLnO0mB0If25A/bU07LKEqfjDZEnD5BN8B/N\n",
       "Ag9hKbcKifNMilqFnGKz4NY1gj6omMZTEyxGJhmoDuJB87vrTxkc8e4H1tvTUdkj9ZtAP+XRh4NS\n",
       "W7KfFqx1eFviTWjBzkdit+oEvryggvfB4B66wwB9e1jGw6MEbsFJr9YfHSLCQE7m3hAmvGsYSlSn\n",
       "awDCVpxp9Zy4T1cSEG18yg4IDMYd1I3NnV8D/T7OyUeHPJU+LmxjMf37gwfKbqXHz35k20mI2r3X\n",
       "F/Z8pqxerPMJAd+zd1sWXL/rYP9So8yulFT7+Vn0xtlzjIoDYsUogkv7AFB6xooQF36yhl8SpAXI\n",
       "DKvwrDKRgIJD3oHJaqvGj/s7fV+78LcgMfX2CwFwMSJ7ckw7RaP7fAqJdVo37n1iT2yKeFTr2kEH\n",
       "Uqqwpsi0++yIiq9Ttj/ij5vAlQvatCcHxamracLBCLMws0NI+QP66Vuerdw2iNi+aUp5FfbB6D19\n",
       "PTPAwZPNfNW0V42MkWp0a8fh2LGZwR/2NIOE/FkNOAk43tbv5nAX/e8I5iPfFklVv0hEJNCMAwey\n",
       "39CmjAMawqBcz3x8XB+iiwpMdP8X5B3jQ0G+Y9vR8ZmD3lY13//99n62DilBLVdsw+o11ulZ+2Ks\n",
       "V2tu/mcPEq7BikHNDTF0oZJTHOAM81y3KwMUs/DVO1IAmsmjoZiUC0CC6eHp6gcsFwpVcTuCLJhM\n",
       "b049LBlU6YLSTOaPQnMYAoUHm17oqWnBonligQwVp5/v404yQP61VTvheDvnmmeeVcBC+Zn+nc7k\n",
       "+fvQnOfOgOJon/ss5XCfYL7R7iJhWO2VyNrK21wcKTT/WwLf/msuKl5gBlnDu+an0iQJ0oqqt0wC\n",
       "saI0p84+KOrdnpY8XIP5usvBkRREAuvb6fWkyQJXuIAAzqy2ZEGuKO+UIvrTwolojmYLravw34AR\n",
       "fUiF7gEbKT/MgBacj18REVQQQjAnAijGbgGskpvnGzT4PCn+EmMxITH/DBnEYQe9Zz/LbrDkSi6X\n",
       "fJUKqJH+jej4EFlnKqKnjEJiLf0y/+2p2AkFL8pVA7vbBH2AjK4dwravYpzy85rVkzTLd6GO3HE3\n",
       "cpzE+Bs8D7oPTg0fdimDBDaOEkQVJevJHxsTcKbVppKKu28yROi9y4EMwULpbV4sDBJrwdrk2Xkg\n",
       "BD7lGTGoR6/8GU35KdOYu2WMzE8pXsXTFt6P4m/34jb+cJLE+Z2BHf/fr27y/itNeF5z9FbwH9X1\n",
       "Us4GUQiJOik7itJb4VCklZaFq+V5vdnf26JsmThlhF37c2ux52P9DpJCLdXPvOLjA4BsRPS1VcsQ\n",
       "C4SYGXXpIP8uwd3UX2bpW7iOQZ/2DS0+5MgyD/HWxiJ0tNjF84uqj0kyaKHhuiI4bCvuQxw+mCY5\n",
       "CTh9vx02VXuYjbd/EFISbJixEFcSSYCPCGHM3nFH4Jj0zlGD/NhZe5QFVaR21Fsi7kGEN5RKoIvm\n",
       "FKcKE/Wt3Ms+A0N9NOtAvv6lXdcB6Uj8aLaFzXbOa6aIqWQTZq5aY2rdD7ySFeCfaYFnfO/LIHVp\n",
       "AAQSf9HBVpiMdwB/kSxfuujYjocPOBGllhVffOU0hHrSVhB+ls0VhKqT+cRCrlhbkdQkDLUsysvG\n",
       "uVVtNlS9rFszJAkzysDkJkuCQMRHTiOesmfe9mcutVtHlkk1xGWcZNtVXfTSyBKtZWhtWNcUttjc\n",
       "tMYBCdXi/sbhQhqyRKZ3/dvPKuTXg/1pSvKTo//mD/q3ea8qdaudHjd2lTpnOiqeshGgH/caCVSp\n",
       "7j+IusHyX20hT1gFZDtNIxNd0ihI28CWbAFpEBjvXhWxRwmUDifwXeFL+10wQIMfVqBnpBBj6DF4\n",
       "DJP0riHPfCpBInAdpeiHBJHRspeQi7K5wSO7/Fu3u5t1GWaW7KEpvcUdJZ7XCwSN1tQD+X1T9UEH\n",
       "26tDluPMQYkhBvZ4zXuTlj5CjusMBa2sjwERp0ZDXjm3EtAMA24iICtMCEWuCjJAXc1GaVGMcgwz\n",
       "r2uxPAeYvt0k4Ahcg1ODnHIpNeDJm0R0CF81J99jcj6E7aTAUndAXthhafOO2xeBRwNTrIv87kDS\n",
       "qJoM/xQ4bzAPfb+WQgsc1X3SR/vCEVodnp1zSVZRssZEsa9lvnRGpFElAH+SSJcusNy3z9I7mcxX\n",
       "+iF26gxkxbIDSrN2gJ3oojrTLmOE5prOYGEwaL7Dh+IHtUVhhiP0DUAU8uylqPU4DESa3T922ehI\n",
       "4oCtEumbXr2HSzl2lM+qye2GTmYRex1RRsYhMzsaDvukYaw5gr5u4sbX+mPDhg3NPYMUO3XMWSpJ\n",
       "w33q1lRLqfIC7C9sD8T2InP+JL2lbgARoMVFkOhfxqCg1xiNMq0ael6vwU/8ofPUuiGvgRYAjSi9\n",
       "bV12jo1p2P0ABvqzd1sty9B9HKQNn/TSt16pH2f9RRDJpIMwkWuX+IwELDBQmB6nl3iF9MR5rk4A\n",
       "yEnSZ4ZJWOdSSj/50Lv1Le4Y7HHRn18Dd4KSAAADAwLxieQiDlHuyBA/m+thnm484SYL47o+If0n\n",
       "sLR3Nh5LBiXKbYgMCJh6YyKa1Iw7b7THjbaSo5X/JmJhCCH6OseWFczMQLNPKSG1+CnKIuvpVsUP\n",
       "0iMED/9RttK+0lTpzxd/exO7BMKg+AXl8oTCSW43AIYatz6aSfHzmWB2Kr8YzOpQB/Q6hLPLCmN1\n",
       "XohsYUP7lg6NmgIwFubehy/HkebkyLggHcgPHUQ985tnOAXQ2mcLguDXP36Za0uZQAAnP/w9Ofqv\n",
       "h7P1kYcEnrMz+JqzdZ4T6VkdPhroKXJvbBEk0XnhMO7dBA2KZ3AiCRv70TDOGGv1QuLLq735p+ke\n",
       "oGcoPCStyaCbTwmv81NyV33plR/SoArjYRDoo9MgJTf9ui2rNjNJSj+0+GE2LwYOFTjo09dBv3ST\n",
       "87w7VTA3DtnIBFwlNzj45T/QFFsveY5ABL2jaUMca6DvGrOYQYhTtrl/opzOfZdYqrAOaAhDCsKW\n",
       "3w+GaeNffWKJIb72ToUR5LwSUhoV/NuuPz+Pv7y8k61QjmWK68wGK2PnLNhGR/Ryg1QSWPFceMlx\n",
       "2d9/5jbOYgnnQD8CoMtfAaRrn1GvIrbq+g/9htCDWeFISeRdlE3An6Zj43xLWYbVxG2M1He4s0X/\n",
       "uITz7NL4ZHdzCsh65GwBfZd98klxNFN86mhSpXQ8p/vpim/Q2IM/h3/gwLa3kuWNZIUOQBuC+csB\n",
       "lHKDZx8VD1Qlv6NcYRgkV769Ufu9GKaRvCT1YX2w01tbmWxroG6NUH3RgcLi1cU6hWE2/m6gwl9I\n",
       "k62IEHEYT0XdeghDZnaqDTw38mUcQ/GpDrtG0gSQdxVQQpZ7CyZuW/+p/QO/yTB6Y2O+IOSgAGqo\n",
       "VttFuJ4hcpEiRPD6hoIQlGyBmJRFz0NdqVZGeQRmT1uMXlHkUkkAWQuUjdfKburi0ershcr8h3wx\n",
       "H7E5Dd/W75I0c/SwU5x3RAF2DIV4NWZhLOa3Wh4BcjpwABcQ2EvdTnbNuvGMEMf505ASh/W3ZqvH\n",
       "xwTl+34NSpnpIwT+H0BvhuX6uY/1788as5FnXbikY+ENTXt106Cx9Oo4Ro2RbRBsl/xz0UAAAZZ4\n",
       "XW/P/at8itlGfgZR7feVQSa/7x1YVT88DDP/wL/D+LDyM0TYjtAfx+c9qp+AWCDU4dVghQW3s03i\n",
       "+WCUwfLUDfcpQqctEUVDj8KJxa3g6ZV4hs3bhXLCEYOS3YYXsQlqlATHSgK0WdMtVwRqwAAZLccZ\n",
       "o/YBKsDU0w741//93xkK1h9V2PzJ7U0/oArwTd7uEXq0COY20TNOyBleIbW4IqinHsjje/l7Wz28\n",
       "ZrqV9NrX9sXQieyDi+SRZa7255pst4va2T0uezd1tUNuYO9czZxMWefzYOYMExyj6/hTZ99LouiW\n",
       "jJygNnn2MBPBG6QI2PkoJT9XsY3JigOaH2CcADvUfQ/xVdtEH6F+ZDl2l2A8rNNwhU+YCbQmR55K\n",
       "WdAwJAG//oNRppfIUBrRRFfH0ZzrDIIT/sBvZcK64foSORSX7jqCTbXZiyhvWIkhI3MNkvOz//gI\n",
       "j8C43IYOJhq4ClIOFczquuP4c7NNqjIaj1iJBld4yEzfPgD/rgD44drfHj3PSyDquswilDK6+mxS\n",
       "w5O1BuF1bFX2IItCp+fweTYTKeq3bnA7fZQgaXtxab2PuhYoi30UvHc0a26g56WVBhNdmfXDHBT4\n",
       "S39g81ypTzbRUI6yt/n2oZbBR5OtXIhjmgEO5qevCvASHWYcMY/HDRkRI5DG8UN+LBjn1ig+WIP5\n",
       "K0w68r+G2yepFsebdgBnffh2CvAx4OGypwdgbje6jxboek0w8QJJ1CZuK2pTjHgM1rfRFb7YfJ1d\n",
       "yRLW12huCVACp6VGT1tRLsOTdZcrFds5z2MQm0rhC5bBZdfsbz+aEgvFY0tFVJV02Hx0CB/RY0VC\n",
       "kett7kfVbSqyPicJB/572YEF+P78nEf3Ww51Uc0ONDAbkWlJu1Kqtstu9SROydYJ/GkMxHC8xioo\n",
       "4yDLjfGML23H5yK6/F3fYJmLDjRDdZ8SmTp/X/OgkraUwnVNUAOK8W3T+8Eq72oZ1qETinu1nLU0\n",
       "Ji1e1Y4UwmQ8BlIcbinbifj32EfRR+YqLLqVIGQAXBKCilzA9CglJH7e2gEO0eAvWzjUiZl0qLhy\n",
       "tdU6APzDv2Zpqcs2bPzTnp7+c4Zsb9eq79Ib3x9cWTfmsuKQv28i/wDmHHjFthnkGRAGjKbfTTLB\n",
       "slkyPof5EI/bE+iv3O+/Qs0iGufKQLNcaeQz3+AJ+CA9x/ijqicLgsTo3lpU3GFa73YxStWYupL6\n",
       "52VTOMHm3P4QdExXVyONynIpLJq6TFwMPKigRDhOKCdgtSpBhS4nj2F7H/YDMZTpB1C+Dpsi+gM8\n",
       "4Wh75sOoUKUPTAcRA/eq/IJK/IP9USUPprNpqvbEugAB7feNqbiL8SHXB+HM316Bdt3+1CxBLhNW\n",
       "PNRT5cpI9BOWjHTRzoh9P+5i049NhgJ8crXzMFT/cmKLWhYo6CdZu81O6RgAAHX8oFvtGwphYNJW\n",
       "IicvkHZFqgWwi2WcHTLM25/gGaH6lbY7pu5hVQp7QDahAAAA6kGaJGxCf/3xAABDvgGN5a7Y6mTg\n",
       "YZHdsuE7ltumMPqMMEa+At5aADk62RsKZ/XGZGoT5N3Dz7ru2ARY8c6+MDo6lHWTTwfxB5q0wJQG\n",
       "lGJx7u7/lFnHjzK80G8LYbfBr0EchzlpUjQ5ejKDJ5ZGc2shfFh21VSlRpRPFYY4rU7ZPp2KYUer\n",
       "/2m498ONyzuRGKhhFqlB2//uMHoi8lVokuww3NbiSY46AWSNRD51bHBeUG+pMBW6qXw3A7/IrZSs\n",
       "Frgl3Eg2OSD2YsmMyh6fvSOI8c+sR0wRiIpagasVZDUo2yru1xTZgvlWpwAAAKVBnkJ4jf8BRa1t\n",
       "0xdOuEYXEda4V5D4TeFeTxb/hTJ9hjkB3hihHNsx8LJBgYDsqVml4zgppeCMF9ioH52WFv1TOGxO\n",
       "1b8SVN1PrrSNYeaUKdo4YPEDv5LFcvIXtopG3No/9AfTMnrXcLoHYCvJZ2Uhy1YO9sguUlVL3QML\n",
       "KuL3Bfdc6boocumwrLlzT9wZdub2mGi3CepHYBYUxKmpG51yPGjVAz8AAACHAZ5hdEX/AAXPcgxy\n",
       "kI2U/eSGLHAeU0l6hVaJwdFveM73bR9wH0PT1eChl5rdQERQeWSzExK47zUYCWySFHXoJfSEWYaq\n",
       "o4TyrEyAGL3sdmBsBAvedFNy+1M0M98MRvnRhZ4ofNhBye4GmU6/NcK+nvEUALfvLSrwfMyQ92py\n",
       "77noteV8tqwZAAAAiQGeY2pF/wACGq3IEz/ho+sjtg8H7hEKLVPglvMXV/o6mK36UTPfZRMxZ7OR\n",
       "hq7HBd0/L5/rbvWC+FC+bRw1e0hQDH7zPg8TXyEnfL7RG01HoBKHayoL/nF7Am4P3GqKQPlKEIGw\n",
       "ZY2xIwH5JshoJ/XZQkysuYb/OUV9vP8OxOBksAyfZIUw18X8AAAA5UGaaEmoQWiZTAhH//3hAAAm\n",
       "3uqvdb3L7Lt+QsA01FqWwEWwve6xMhE8AQWiW/YtvQBlEju/k+qHsmjFvX/55roL8cN07tWrQ9lH\n",
       "sM/lLNQRciPYQgYVGaG2t8JepYJbdhO6kXEoTyVQfQG7XGoxEAvMjKG8mlY1HKRCksAYK2/qXmWf\n",
       "/ddFBb1SJsd3iM20pa8ZIAMXNhgBkp30PNOcFCyk2iyBr44NgPtEfSAOE+Wkmzx0CZJwCIqj1z98\n",
       "XqNjzNuY5Xg+JPzlvk+FSA00Ni7MslXyaQmKY2j9kQHb8rTZiI++yYAAAACeQZ6GRREsbwFFrWz3\n",
       "YKjxSEiUCXMZhxYC5k7XskqhpIOWD67SGQt1QeuLm8QbCIbdCO/A9LZRh41Zn8lcPg27UAJFtzLC\n",
       "giSCMispctz1Ybno6MG2EGJFQ+oKadnrRWO3C/nAKW2Ucj2a3gmUhcxjs88z2O4EagraA3MkTV0t\n",
       "m3ObBSiO4yHl+Z0mN/uDfXh57vgVqliUcL6zSjOM/J0AAACLAZ6ldEX/AAIKRADs30ejdAyvQyKN\n",
       "5KHIBc3Y2kx+BDd76XXH8AhCSNRIDyOAivD0mxfQGXUGwhNKZwzLP9bAqi6o12ox7c5r7+rRF3eU\n",
       "+KZV8ikuTxtMHZpQsWQgf8VnZPpceC/s6DtZ3mJjChrD8H3b310OTvDmxiLhY1T4qxd53XOzY65m\n",
       "3ID0gAAAAIsBnqdqRf8AAfuGnEFyDiZeQuZXRyQMy9EXexi9wdW2ROgzdTQXgCd355dctXbkoyTb\n",
       "S1KkHScn9RiOVVUFF/Nt6JRc7R5+ve99Ep+628XPnNp7QfYlA29iFiOXSj/p4pkFaeu6YpcM6+1j\n",
       "SAp9T9uuiQJ4SFh+uoA3PF3l1soLH4i3jvLTHOxREGWfAAAAwEGaqkmoQWyZTBRMI//94QAADY7/\n",
       "tKAB6XNNgodCi5kYj9NIYlQ4eT/dE1SePyQpozgQeRA1UhS0fSifsodl0bieNVvfdaEBGz4zCxUl\n",
       "okj9IMhXMdWAA+epTpAEkc6i/OHM9Q6pvpvCCS9AIfX98BTMySmCrilKgnrzu3dypIC2nXFJaeef\n",
       "zJMGCTKC0VLo09qpbUm16Z3D0nmIhyNDWkSuv2yN2BT/Ka5UUPtqHPIpXWnwuyGRtauCUsZAFkAa\n",
       "ZAAAAIABnslqRf8BmxTjJCJKeU4FyvmGQHm2e68UPh5kci4cxurUcAxjlg2sB8hRCjJJ0GaOQrjR\n",
       "v5rwVAIJ/JORv8OUdPlEeDIG+Li6SbPJ7Z22JgKqywmSmHAQaAY/x8/TXlzG1s20noF3wARu/NS0\n",
       "1ihCJVq7KU1J3y1l9tYavQWSpwAAAJ1BmsxJ4QpSZTBSwj/94QAABP+T3K2l4LaVIsc6rpe99N3p\n",
       "tvLazDst+gotlJag+zP6tADdJYzpaF7ywuJkpnz84R0Es8NkO1LU8ksuoUwzD0NPJuknMsNqhqag\n",
       "BNQxIjhM+2HVcGaOl+S+wA7p2+713nHLd7LF2i3rW6jSybJ2m+fM2djRVDv0vOAYTKsY0iRFuxXj\n",
       "i5JGCvdVxg2hAAAAXQGe62pF/wGbFOKbnNOLWHCF+Um+3UJcfP0ZzBmiPbLFN/7evQPEFYANd2mD\n",
       "v0sQqkvB/Kw5QOIwWA5e7qEfGdXJPi9UDmnXkE69f+TUwE464H+dEr0mN7tXzD2ekQAAAJtBmu1J\n",
       "4Q6JlMCE//3xAAADAxO/7WY1N9avFSBir4fUbdHgBLCa+kQHDCx1JIqAYvC0KsWkMoEvD3HdLJZn\n",
       "0On+STxDk9YT2Kvk1tZjIVmtPc79/7oR3PIwVLItrkKjxqUM2JUTJ0rdi0PsJkeusvIbdeIvdLJm\n",
       "W/UpKIO6UkkN56kfylwg6rr7EXgg7ZrCQMLAy4TqAG9b29FclQAAAKFBmxFJ4Q8mUwIT//3xAAAD\n",
       "ARbom1mMcwqeSByUGp3/kfJHbSKHOAEkTNAkAoBP7D8yQXjcV9s8fmqdOfST04IjsLn2PJSnQkHG\n",
       "c+ci/rq8DbWTxzCLTgaoncPiNr99rnHLSiJPSkjDz5LPiud4PLd5kqhuqwI6RcrD7dv1AD699FDc\n",
       "szyDZgdibjdxp56JvJ7o8CLaQP0tjeIoIxWKuwr27gAAAHJBny9FETxvAUWtbIVvMRmBmDgcnyBG\n",
       "TnkRH8eeh+Op2+0UAbwu4016KcZhQmOpDSHsiLEXScnzqC+imnYaekJpqRyTNHEZBjnyDHAGG3ym\n",
       "FkfM0S6LEx0vFkTV8WmFFDJr5mfVQHjfNRHlxTKWyq6nzuwAAABfAZ9OdEX/AAAX4YeDtC6Xg14d\n",
       "aKfvyo8RpXOFjABSoYP7jlitm7YgQIV6PTCw5SZkCCXcriz0Vu2XcXjcI0ulTGRJed6cJaGapB7K\n",
       "JBbivJeWzhrTFmagBEBI1C5Xw0MAAABgAZ9QakX/AAAX3QJeADngucUxu6/32k2ZwJmUVREueUOB\n",
       "JFg3zgjy0RMdHHRBN0ZjW/tXEQVsFUo6fjbmJKK9/uOcC5mFTRp/+80V748BwfJLAxcmSoeHLff8\n",
       "SBi+9MqAAAAAgEGbVUmoQWiZTAhP//3xAAADAGT9NwfzSa0vr25UTESFQqHzsv6cak50GSX8tH/q\n",
       "7RoQcsyF4pH/OvZkB9YS3c4/1w61nH1qDmLRXyGV5+kesQgKL6cJd5bSFgVSsNZJ+haOW9r58rQn\n",
       "hpg7XZCCJZZp/BgAopBZ7BikLjzDLB/AAAAAa0Gfc0URLG8BRa1sjqARB/nsbhZvSNs2Q59zgDv4\n",
       "jQSuLfizvR33zByT7xW2uFrfkDdhwqOcKlM/qwoW24B8l5CxeHCRGoQMbhpRzs1TYfIAeWGM57vq\n",
       "mz8eF/xtmxLomHnAtdJv4Be7SEuNAAAAUwGfknRF/wAACGMOgrCaxnEMBzL8NaNc0uZg+7oDn8h/\n",
       "iFF02YosD3lTPVmeiBitkWE2lB0dNxtIrKccLOSDtmnMJUISPFSiuAFkDH0hBb4N/t6RAAAATQGf\n",
       "lGpF/wAACCq9+3rBWyhE5oI6iDL/nU2QxOxQlhCqMHdFmwvrCzxwKP0GjWp5iSWJvWRGVgFWaZRk\n",
       "dprXsIWLueG4llQmf2TuUOt5AAAAbkGbmUmoQWyZTAhP//3xAAADACLfAMbxPYyf/FE8bhUa1dvz\n",
       "Abh1oDJ466pf8neRVOzSTzhynLdLUV9S2/8p4680DVhWt2nwdlOcf3mjrQXG2HuNquWsrDvUYtxc\n",
       "YDaASLQc4MsZ4vzQeCIC7iyYAAAAVkGft0UVLG8BRa1sjqAQmeyPCCa5NJjd3Voj2pfDc6HqekpC\n",
       "mcryrWdg0N8nbEbhwvMIkLo7+fdfCh6XVWbM7aI7VLc6LaoEZv4JrZEpQOeUhXQpWATgAAAASAGf\n",
       "1nRF/wAAAwL9BRa3H1IFIv45CBIXX5E+rgTXF00G/gQmZdCWiTlotcVffdEL9OYbUUD4VqfAmf+e\n",
       "TUTNtGcudCsrGh09JwAAAE0Bn9hqRf8AAAMC6D8Ffhg4E6MSeP1Dnuw5HbNdtdiNeAmphW3hIACg\n",
       "a+xb7Ao62FSzrlz4beiR4zKpjtJpTfWu6FP6v6/5l5iOChbiQAAAAGlBm91JqEFsmUwIR//94QAA\n",
       "AwAT/1siKv0LYFN+Rh43CyRFh+U5DgcI9ITX2t+GjHNm9Mu9Nf/9aeY7hmGhDLG7BrsCvrpIgEfO\n",
       "Q+IpMSC+raFwpbWUCEH4mvwIYd7DAAsCNyR3KrT2OZgAAABTQZ/7RRUsbwFFrWyOoBB0/1KuGALo\n",
       "b4GvZ0olwhigTVR6FFXCuidW+EYYVJensfThOkZekpMJzq4dp3pXsDVnkUTjLUk1ecPFPLjhUyNr\n",
       "w6tXX8cAAABCAZ4adEX/AAADAQ0h5cFm+2UN3AE1JCDjjnNV2A2RoB/YEhwPEjCkrIytDzeK1bX0\n",
       "PmE5Bq4gB+G348O+shR1RoSYAAAAQQGeHGpF/wAAAwEFXerSm0CmPvUly5JMMwmPbmwgVzJN9J9s\n",
       "uIfuAj6Ihvz8flN/Bdy1eFJ3ZRzL3KyzcVzQnouBAAAAYEGaH0moQWyZTBRMI//94QAAAwAG79G7\n",
       "3W9y+qrNOvAH4YxcOHJIGYpkIQgmL1chfs6BaKDtUPqug9zmVfT03RV+vaOYPu9F2GSuu6wZrjv+\n",
       "UFB0IzRcEtJ4AVIVyYItNQAAAEMBnj5qRf8BmxTimnIDLykFgjwvMjJQLI9/6tep7lxt5ezH2wag\n",
       "Qvj2X6px8ykdRwh0aIpFWiLe0PcOisg9w3giNQv6AAAAUkGaIknhClJlMCP//IQAAAMACbc6xHJf\n",
       "Xmt/k3iqbxYpnztJHjVuARJ2pFEwS/3JWQ6g5axm5zQweo2TMUNPosGPNbv/DIPJCUhPGVbGqK+k\n",
       "ZfEAAAA/QZ5ARTRMXwGbFOKabqWSwxBuRJqDP70+S7wSCmjO3o7Wu+FQBYjmKvxAT9FWh+cXHGkV\n",
       "8DOQuggSoWDkAYXAAAAAOQGeYWpF/wAAAwBfdWAP/YtTWaWnrNzD5rB/oJzP2s1J0kASxj9Qk1YE\n",
       "I2njOz4xiHbb8RRUjyD06QAAAEtBmmNJqEFomUwI//yEAAADAANyDAMgdGy/j19/4zFDNg7rLeAa\n",
       "6Q+iFlW+G0OMiqAxSAhP898Kxo1Yc2ReO6SX+Ybb3ukRTbmGCO0AAABHQZqGSeEKUmUwIv/6WAAA\n",
       "AwAG04ukmXaf+HNnPApbnCchfgzoROR0Qt5Kj5vBweu82MzE8oqwqEvDVlY6D4rPMDCdvjba8EQA\n",
       "AAA5QZ6kRTRMXwGbFOKabqWQ+BcNUWUxQawZevRwSazz3CqUbwf+2lDSr0lqMpdsAdI3GcGt1aOI\n",
       "P/slAAAAPgGexWpF/wAAAwAL7rO4LFYFf6ItCJ+ZBPBwkht4v1xWYlAjB0LktfCE47+Nu7emWil0\n",
       "nDKktlXLGVxgtCaRAAAQQW1vb3YAAABsbXZoZAAAAAAAAAAAAAAAAAAAA+gAAAEhAAEAAAEAAAAA\n",
       "AAAAAAAAAAABAAAAAAAAAAAAAAAAAAAAAQAAAAAAAAAAAAAAAAAAQAAAAAAAAAAAAAAAAAAAAAAA\n",
       "AAAAAAAAAAAAAAAAAAIAAA9rdHJhawAAAFx0a2hkAAAAAwAAAAAAAAAAAAAAAQAAAAAAAAEhAAAA\n",
       "AAAAAAAAAAAAAAAAAAABAAAAAAAAAAAAAAAAAAAAAQAAAAAAAAAAAAAAAAAAQAAAAAKAAAAB4AAA\n",
       "AAAAJGVkdHMAAAAcZWxzdAAAAAAAAAABAAABIQAAACAAAQAAAAAO421kaWEAAAAgbWRoZAAAAAAA\n",
       "AAAAAAAAAAAAPoAAABIQVcQAAAAAAC1oZGxyAAAAAAAAAAB2aWRlAAAAAAAAAAAAAAAAVmlkZW9I\n",
       "YW5kbGVyAAAADo5taW5mAAAAFHZtaGQAAAABAAAAAAAAAAAAAAAkZGluZgAAABxkcmVmAAAAAAAA\n",
       "AAEAAAAMdXJsIAAAAAEAAA5Oc3RibAAAALZzdHNkAAAAAAAAAAEAAACmYXZjMQAAAAAAAAABAAAA\n",
       "AAAAAAAAAAAAAAAAAAKAAeAASAAAAEgAAAAAAAAAAQAAAAAAAAAAAAAAAAAAAAAAAAAAAAAAAAAA\n",
       "AAAAAAAAABj//wAAADRhdmNDAWQANP/hABdnZAA0rNlAoD2hAAADAAEAAAfQDxgxlgEABmjr48si\n",
       "wP34+AAAAAAcdXVpZGtoQPJfJE/FujmlG88DI/MAAAAAAAAAGHN0dHMAAAAAAAAAAQAAASEAAAAQ\n",
       "AAAAGHN0c3MAAAAAAAAAAgAAAAEAAAD7AAAImGN0dHMAAAAAAAABEQAAAAEAAAAgAAAAAQAAADAA\n",
       "AAABAAAAEAAAAAEAAAAgAAAAAQAAADAAAAABAAAAEAAAAAIAAAAgAAAAAQAAADAAAAABAAAAEAAA\n",
       "AAEAAAAgAAAAAQAAADAAAAABAAAAEAAAAAEAAAAwAAAAAQAAABAAAAABAAAAMAAAAAEAAAAQAAAA\n",
       "AQAAACAAAAABAAAAMAAAAAEAAAAQAAAABAAAACAAAAABAAAAUAAAAAEAAAAgAAAAAQAAAAAAAAAB\n",
       "AAAAEAAAAAUAAAAgAAAAAQAAAEAAAAACAAAAEAAAAAIAAAAgAAAAAQAAAFAAAAABAAAAIAAAAAEA\n",
       "AAAAAAAAAQAAABAAAAABAAAAMAAAAAEAAAAQAAAAAQAAAEAAAAACAAAAEAAAAAEAAAAwAAAAAQAA\n",
       "ABAAAAABAAAAQAAAAAIAAAAQAAAAAQAAADAAAAABAAAAEAAAAAEAAAAgAAAAAQAAADAAAAABAAAA\n",
       "EAAAAAEAAABQAAAAAQAAACAAAAABAAAAAAAAAAEAAAAQAAAAAQAAAFAAAAABAAAAIAAAAAEAAAAA\n",
       "AAAAAQAAABAAAAABAAAAUAAAAAEAAAAgAAAAAQAAAAAAAAABAAAAEAAAAAEAAABQAAAAAQAAACAA\n",
       "AAABAAAAAAAAAAEAAAAQAAAAAQAAAFAAAAABAAAAIAAAAAEAAAAAAAAAAQAAABAAAAABAAAAUAAA\n",
       "AAEAAAAgAAAAAQAAAAAAAAABAAAAEAAAAAEAAABQAAAAAQAAACAAAAABAAAAAAAAAAEAAAAQAAAA\n",
       "AQAAAFAAAAABAAAAIAAAAAEAAAAAAAAAAQAAABAAAAABAAAAMAAAAAEAAAAQAAAAAQAAAFAAAAAB\n",
       "AAAAIAAAAAEAAAAAAAAAAQAAABAAAAABAAAAUAAAAAEAAAAgAAAAAQAAAAAAAAABAAAAEAAAAAEA\n",
       "AABQAAAAAQAAACAAAAABAAAAAAAAAAEAAAAQAAAAAQAAAFAAAAABAAAAIAAAAAEAAAAAAAAAAQAA\n",
       "ABAAAAABAAAAUAAAAAEAAAAgAAAAAQAAAAAAAAABAAAAEAAAAAEAAAAwAAAAAQAAABAAAAABAAAA\n",
       "UAAAAAEAAAAgAAAAAQAAAAAAAAABAAAAEAAAAAEAAABQAAAAAQAAACAAAAABAAAAAAAAAAEAAAAQ\n",
       "AAAAAQAAACAAAAABAAAAUAAAAAEAAAAgAAAAAQAAAAAAAAABAAAAEAAAAAEAAABQAAAAAQAAACAA\n",
       "AAABAAAAAAAAAAEAAAAQAAAAAQAAAFAAAAABAAAAIAAAAAEAAAAAAAAAAQAAABAAAAABAAAAUAAA\n",
       "AAEAAAAgAAAAAQAAAAAAAAABAAAAEAAAAAEAAABQAAAAAQAAACAAAAABAAAAAAAAAAEAAAAQAAAA\n",
       "AQAAAFAAAAABAAAAIAAAAAEAAAAAAAAAAQAAABAAAAABAAAAUAAAAAEAAAAgAAAAAQAAAAAAAAAB\n",
       "AAAAEAAAAAEAAABQAAAAAQAAACAAAAABAAAAAAAAAAEAAAAQAAAAAQAAAFAAAAABAAAAIAAAAAEA\n",
       "AAAAAAAAAQAAABAAAAABAAAAUAAAAAEAAAAgAAAAAQAAAAAAAAABAAAAEAAAAAEAAAAwAAAAAQAA\n",
       "ABAAAAABAAAAUAAAAAEAAAAgAAAAAQAAAAAAAAABAAAAEAAAAAEAAABQAAAAAQAAACAAAAABAAAA\n",
       "AAAAAAEAAAAQAAAAAQAAAFAAAAABAAAAIAAAAAEAAAAAAAAAAQAAABAAAAABAAAAUAAAAAEAAAAg\n",
       "AAAAAQAAAAAAAAABAAAAEAAAAAEAAABQAAAAAQAAACAAAAABAAAAAAAAAAEAAAAQAAAAAQAAAFAA\n",
       "AAABAAAAIAAAAAEAAAAAAAAAAQAAABAAAAABAAAAUAAAAAEAAAAgAAAAAQAAAAAAAAABAAAAEAAA\n",
       "AAEAAABAAAAAAgAAABAAAAABAAAAUAAAAAEAAAAgAAAAAQAAAAAAAAABAAAAEAAAAAEAAABQAAAA\n",
       "AQAAACAAAAABAAAAAAAAAAEAAAAQAAAAAQAAAFAAAAABAAAAIAAAAAEAAAAAAAAAAQAAABAAAAAB\n",
       "AAAAUAAAAAEAAAAgAAAAAQAAAAAAAAABAAAAEAAAAAEAAABQAAAAAQAAACAAAAABAAAAAAAAAAEA\n",
       "AAAQAAAAAQAAAFAAAAABAAAAIAAAAAEAAAAAAAAAAQAAABAAAAABAAAAUAAAAAEAAAAgAAAAAQAA\n",
       "AAAAAAABAAAAEAAAAAEAAABQAAAAAQAAACAAAAABAAAAAAAAAAEAAAAQAAAAAQAAAFAAAAABAAAA\n",
       "IAAAAAEAAAAAAAAAAQAAABAAAAABAAAAUAAAAAEAAAAgAAAAAQAAAAAAAAABAAAAEAAAAAEAAAAw\n",
       "AAAAAQAAABAAAAABAAAAUAAAAAEAAAAgAAAAAQAAAAAAAAABAAAAEAAAAAEAAABQAAAAAQAAACAA\n",
       "AAABAAAAAAAAAAEAAAAQAAAAAQAAAFAAAAABAAAAIAAAAAEAAAAAAAAAAQAAABAAAAACAAAAIAAA\n",
       "AAEAAABQAAAAAQAAACAAAAABAAAAAAAAAAEAAAAQAAAAAQAAAFAAAAABAAAAIAAAAAEAAAAAAAAA\n",
       "AQAAABAAAAABAAAAMAAAAAEAAAAQAAAAAQAAADAAAAABAAAAEAAAAAEAAAAgAAAAAQAAAFAAAAAB\n",
       "AAAAIAAAAAEAAAAAAAAAAQAAABAAAAABAAAAUAAAAAEAAAAgAAAAAQAAAAAAAAABAAAAEAAAAAEA\n",
       "AABQAAAAAQAAACAAAAABAAAAAAAAAAEAAAAQAAAAAQAAAFAAAAABAAAAIAAAAAEAAAAAAAAAAQAA\n",
       "ABAAAAABAAAAMAAAAAEAAAAQAAAAAQAAAEAAAAACAAAAEAAAAAEAAAAgAAAAAQAAAEAAAAACAAAA\n",
       "EAAAABxzdHNjAAAAAAAAAAEAAAABAAABIQAAAAEAAASYc3RzegAAAAAAAAAAAAABIQAADqEAAACY\n",
       "AAAASQAAAHoAAAB7AAAAQgAAAGgAAABOAAAAggAAAEUAAABfAAAAnQAAAEwAAACUAAAASwAAAIEA\n",
       "AABKAAAAZwAAAJEAAABNAAAAawAAAIEAAACFAAAAugAAASgAAACdAAAAYAAAAFgAAAC7AAAA0QAA\n",
       "ALAAAADKAAAA4QAAAO8AAACFAAAAdgAAAMsAAADmAAAA3QAAAI8AAABqAAAAhAAAALcAAAB6AAAA\n",
       "vwAAAHwAAACAAAAAugAAAHMAAAC0AAAAdgAAAG4AAADaAAAAdwAAAOEAAAEgAAAAhQAAAPwAAACa\n",
       "AAAAfwAAAIAAAADkAAAAjwAAAHMAAAByAAAA8AAAAJcAAACLAAAAfgAAAMYAAACKAAAAbwAAAGsA\n",
       "AADRAAAAeQAAAHIAAABqAAAAzwAAAHQAAABnAAAAaAAAALgAAAB7AAAAawAAAGsAAAC5AAAAeAAA\n",
       "AGwAAABiAAAAmQAAAGgAAADDAAAAaAAAAF4AAABoAAAAtwAAAGkAAABhAAAAYAAAAMEAAABqAAAA\n",
       "XAAAAGAAAACnAAAAaAAAAF0AAABWAAAAjwAAAGYAAABZAAAAVAAAAIMAAABdAAAAeQAAAGUAAABU\n",
       "AAAATgAAAJIAAABpAAAAVwAAAFsAAAChAAAAowAAAFsAAABQAAAATwAAAJoAAABWAAAASQAAAFEA\n",
       "AACJAAAAVgAAAFAAAABRAAAAiQAAAFIAAABNAAAAVgAAALMAAABZAAAAVQAAAFcAAACEAAAAWwAA\n",
       "AFQAAABVAAAAfwAAAF4AAABUAAAAUgAAAG0AAABYAAAAUgAAAE8AAABxAAAAVAAAAEoAAABOAAAA\n",
       "gQAAAFoAAABJAAAARgAAAJQAAABLAAAAngAAAG0AAABTAAAAWAAAAJsAAABZAAAATwAAAFIAAACU\n",
       "AAAAZwAAAEsAAABRAAAAlAAAAFcAAABVAAAAVwAAAJAAAABeAAAASQAAAFAAAACVAAAAaAAAAFUA\n",
       "AABgAAAAmQAAAGkAAABRAAAAWAAAAJkAAABkAAAAYQAAAIIAAAB8AAAAZwAAAFgAAAChAAAAeQAA\n",
       "AF4AAABiAAAAuQAAAHYAAABiAAAAbAAAALMAAAB+AAAAZwAAAG4AAADAAAAAegAAAGUAAAB6AAAA\n",
       "2QAAAHkAAABqAAAAbAAAANoAAACJAAAAZwAAAHMAAAEPAAAAkQAAAHkAAAB6AAAA6AAAAIkAAAB6\n",
       "AAAAfAAAAQUAAACdAAAAgQAAAI4AAADuAAAAigAAAMkAAACYAAAAhAAAAIAAAAC3AAAAnwAAAI8A\n",
       "AACVAAAA1AAAAIsAAAB+AAAAgwAAAIEAABD3AAAA7gAAAKkAAACLAAAAjQAAAOkAAACiAAAAjwAA\n",
       "AI8AAADEAAAAhAAAAKEAAABhAAAAnwAAAKUAAAB2AAAAYwAAAGQAAACEAAAAbwAAAFcAAABRAAAA\n",
       "cgAAAFoAAABMAAAAUQAAAG0AAABXAAAARgAAAEUAAABkAAAARwAAAFYAAABDAAAAPQAAAE8AAABL\n",
       "AAAAPQAAAEIAAAAUc3RjbwAAAAAAAAABAAAAMAAAAGJ1ZHRhAAAAWm1ldGEAAAAAAAAAIWhkbHIA\n",
       "AAAAAAAAAG1kaXJhcHBsAAAAAAAAAAAAAAAALWlsc3QAAAAlqXRvbwAAAB1kYXRhAAAAAQAAAABM\n",
       "YXZmNTguNzYuMTAw\n",
       "\">\n",
       "  Your browser does not support the video tag.\n",
       "</video>"
      ],
      "text/plain": [
       "<IPython.core.display.HTML object>"
      ]
     },
     "execution_count": null,
     "metadata": {},
     "output_type": "execute_result"
    },
    {
     "data": {
      "image/png": "[encoded data removed]",
      "text/plain": [
       "<Figure size 640x480 with 1 Axes>"
      ]
     },
     "metadata": {},
     "output_type": "display_data"
    }
   ],
   "source": [
    "\n",
    "try:\n",
    "    u = 10 #'Enter the initial velocity (m/s)\n",
    "    theta = 45 # 'Enter the angle of projection (degrees):\n",
    "except ValueError:\n",
    "    print('You entered an invalid input')\n",
    "else:\n",
    "    theta = math.radians(theta)\n",
    "    anim = create_animation(u, theta)\n",
    "    HTML(anim.to_html5_video())"
   ]
  },
  {
   "cell_type": "markdown",
   "id": "5f0c4f8f",
   "metadata": {},
   "source": [
    "### Random walk of a point in a plane"
   ]
  },
  {
   "cell_type": "code",
   "execution_count": null,
   "id": "6c150f78",
   "metadata": {},
   "outputs": [
    {
     "data": {
      "text/plain": [
       "'\\nExample of selecting a transformation from two equally probable\\ntransformations\\n'"
      ]
     },
     "execution_count": null,
     "metadata": {},
     "output_type": "execute_result"
    }
   ],
   "source": [
    "'''\n",
    "Example of selecting a transformation from two equally probable\n",
    "transformations\n",
    "'''\n",
    "\n",
    "import matplotlib.pyplot as plt\n",
    "import random"
   ]
  },
  {
   "cell_type": "code",
   "execution_count": null,
   "id": "65e12db8",
   "metadata": {},
   "outputs": [
    {
     "data": {
      "text/plain": [
       "[<matplotlib.lines.Line2D>]"
      ]
     },
     "execution_count": null,
     "metadata": {},
     "output_type": "execute_result"
    },
    {
     "data": {
      "text/plain": [
       "Text(0.5, 0, 'X')"
      ]
     },
     "execution_count": null,
     "metadata": {},
     "output_type": "execute_result"
    },
    {
     "data": {
      "text/plain": [
       "Text(0, 0.5, 'Y')"
      ]
     },
     "execution_count": null,
     "metadata": {},
     "output_type": "execute_result"
    },
    {
     "data": {
      "image/png": "[encoded data removed]",
      "text/plain": [
       "<Figure size 640x480 with 1 Axes>"
      ]
     },
     "metadata": {},
     "output_type": "display_data"
    }
   ],
   "source": [
    "def transformation_1(p):\n",
    "    x = p[0]\n",
    "    y = p[1]\n",
    "    return x + 1, y - 1\n",
    "\n",
    "def transformation_2(p):\n",
    "    x = p[0]\n",
    "    y = p[1]\n",
    "    return x + 1, y + 1\n",
    "\n",
    "def transform(p):\n",
    "    # list of transformation functions\n",
    "    transformations = [transformation_1, transformation_2]\n",
    "    # pick a random transformation function and call it\n",
    "    t = random.choice(transformations)\n",
    "    x, y = t(p)\n",
    "    return x, y\n",
    "\n",
    "def build_trajectory(p, n):\n",
    "    x = [p[0]]\n",
    "    y = [p[1]]\n",
    "    for i in range(n):\n",
    "        p = transform(p)\n",
    "        x.append(p[0])\n",
    "        y.append(p[1])\n",
    "    return x, y\n",
    "\n",
    "\n",
    "# initial point\n",
    "p = (1, 1)\n",
    "n = 300 # 'Enter the number of iterations: '))\n",
    "x, y = build_trajectory(p, n)\n",
    "# plot\n",
    "plt.plot(x, y)\n",
    "plt.xlabel('X')\n",
    "plt.ylabel('Y')\n",
    "plt.show()"
   ]
  },
  {
   "cell_type": "markdown",
   "id": "9eb9093e",
   "metadata": {},
   "source": [
    "### P165: Draw Barnsley Fern"
   ]
  },
  {
   "cell_type": "code",
   "execution_count": null,
   "id": "54d425e8",
   "metadata": {},
   "outputs": [
    {
     "data": {
      "text/plain": [
       "'\\nDraw Barnsley Fern\\n'"
      ]
     },
     "execution_count": null,
     "metadata": {},
     "output_type": "execute_result"
    }
   ],
   "source": [
    "'''\n",
    "Draw Barnsley Fern\n",
    "'''\n",
    "import random\n",
    "import matplotlib.pyplot as plt"
   ]
  },
  {
   "cell_type": "code",
   "execution_count": null,
   "id": "e0a3920a",
   "metadata": {},
   "outputs": [],
   "source": [
    "def transformation_1(p):\n",
    "    x = p[0]\n",
    "    y = p[1]\n",
    "    x1 = 0.85*x + 0.04*y\n",
    "    y1 = -0.04*x + 0.85*y + 1.6\n",
    "    return x1, y1\n",
    "\n",
    "def transformation_2(p):\n",
    "    x = p[0]\n",
    "    y = p[1]\n",
    "    x1 = 0.2*x - 0.26*y\n",
    "    y1 = 0.23*x + 0.22*y + 1.6\n",
    "    return x1, y1\n",
    "\n",
    "def transformation_3(p):\n",
    "    x = p[0]\n",
    "    y = p[1]\n",
    "    x1 = -0.15*x + 0.28*y\n",
    "    y1 = 0.26*x  + 0.24*y + 0.44\n",
    "    return x1, y1\n",
    "\n",
    "def transformation_4(p):\n",
    "    x = p[0]\n",
    "    y = p[1]\n",
    "    x1 = 0\n",
    "    y1 = 0.16*y\n",
    "    return x1, y1\n",
    "\n",
    "def get_index(probability):\n",
    "    r = random.random()\n",
    "    c_probability = 0\n",
    "    sum_probability = []\n",
    "    for p in probability:\n",
    "        c_probability += p\n",
    "        sum_probability.append(c_probability)\n",
    "    for item, sp in enumerate(sum_probability):\n",
    "        if r <= sp:\n",
    "            return item\n",
    "    return len(probability)-1\n",
    "\n",
    "def transform(p):\n",
    "    # list of transformation functions\n",
    "    transformations = [transformation_1, transformation_2,\n",
    "                           transformation_3, transformation_4]\n",
    "    probability = [0.85, 0.07, 0.07, 0.01]\n",
    "    # pick a random transformation function and call it\n",
    "    tindex = get_index(probability)\n",
    "    t = transformations[tindex]\n",
    "    x, y = t(p)\n",
    "    return x, y\n",
    "\n",
    "def draw_fern(n):\n",
    "    # We start with (0, 0)\n",
    "    x = [0]\n",
    "    y = [0]\n",
    "    x1, y1 = 0, 0\n",
    "    for i in range(n):\n",
    "        x1, y1 = transform((x1, y1))\n",
    "        x.append(x1)\n",
    "        y.append(y1)\n",
    "    return x, y"
   ]
  },
  {
   "cell_type": "code",
   "execution_count": null,
   "id": "f72a8806",
   "metadata": {},
   "outputs": [
    {
     "data": {
      "text/plain": [
       "[<matplotlib.lines.Line2D>]"
      ]
     },
     "execution_count": null,
     "metadata": {},
     "output_type": "execute_result"
    },
    {
     "data": {
      "text/plain": [
       "Text(0.5, 1.0, 'Fern with 300 points')"
      ]
     },
     "execution_count": null,
     "metadata": {},
     "output_type": "execute_result"
    },
    {
     "data": {
      "image/png": "[encoded data removed]",
      "text/plain": [
       "<Figure size 640x480 with 1 Axes>"
      ]
     },
     "metadata": {},
     "output_type": "display_data"
    }
   ],
   "source": [
    "n = 300# int(input('Enter the number of points in the Fern: '))\n",
    "x, y = draw_fern(n)\n",
    "# Plot the points\n",
    "plt.plot(x, y, 'o')\n",
    "plt.title('Fern with {0} points'.format(n))\n",
    "plt.show()"
   ]
  },
  {
   "cell_type": "markdown",
   "id": "2299128e",
   "metadata": {},
   "source": [
    "### P174: Example of using the imshow() function"
   ]
  },
  {
   "cell_type": "code",
   "execution_count": null,
   "id": "b8643b75",
   "metadata": {},
   "outputs": [],
   "source": [
    "import matplotlib.pyplot as plt\n",
    "import matplotlib.cm as cm\n",
    "import random"
   ]
  },
  {
   "cell_type": "code",
   "execution_count": null,
   "id": "25b2af43",
   "metadata": {},
   "outputs": [],
   "source": [
    "def initialize_image(x_p, y_p): \n",
    "    image = []\n",
    "    for i in range(y_p):\n",
    "        x_colors = []\n",
    "        for j in range(x_p):\n",
    "            x_colors.append(0)\n",
    "        image.append(x_colors)\n",
    "    return image\n",
    "\n",
    "def color_points():\n",
    "    x_p = 20\n",
    "    y_p = 20\n",
    "    image = initialize_image(x_p, y_p)\n",
    "    for i in range(y_p):\n",
    "        for j in range(x_p):\n",
    "            image[i][j] = random.randint(0, 10)\n",
    "    plt.imshow(image, origin='lower', extent=(0, 5, 0, 5),\n",
    "               cmap=cm.Greys_r, interpolation='nearest')\n",
    "    plt.colorbar()\n",
    "    plt.show()\n",
    "    "
   ]
  },
  {
   "cell_type": "code",
   "execution_count": null,
   "id": "e101a836",
   "metadata": {},
   "outputs": [
    {
     "data": {
      "image/png": "[encoded data removed]",
      "text/plain": [
       "<Figure size 640x480 with 2 Axes>"
      ]
     },
     "metadata": {},
     "output_type": "display_data"
    }
   ],
   "source": [
    "color_points()"
   ]
  },
  {
   "cell_type": "markdown",
   "id": "6f5174a2",
   "metadata": {},
   "source": [
    "### P165 of \"Doing Math with Python\": Interactive version of drawing the Barnsley Fern"
   ]
  },
  {
   "cell_type": "code",
   "execution_count": null,
   "id": "b50f142b",
   "metadata": {},
   "outputs": [],
   "source": [
    "%matplotlib inline\n",
    "\n",
    "from ipywidgets import interact\n",
    "import ipywidgets as widgets\n",
    "\n",
    "import random\n",
    "import matplotlib.pyplot as plt\n",
    "\n",
    "def transformation_1(p):\n",
    "    x = p[0]\n",
    "    y = p[1]\n",
    "    x1 = 0.85*x + 0.04*y\n",
    "    y1 = -0.04*x + 0.85*y + 1.6\n",
    "    return x1, y1\n",
    "\n",
    "def transformation_2(p):\n",
    "    x = p[0]\n",
    "    y = p[1]\n",
    "    x1 = 0.2*x - 0.26*y\n",
    "    y1 = 0.23*x + 0.22*y + 1.6\n",
    "    return x1, y1\n",
    "\n",
    "def transformation_3(p):\n",
    "    x = p[0]\n",
    "    y = p[1]\n",
    "    x1 = -0.15*x + 0.28*y\n",
    "    y1 = 0.26*x  + 0.24*y + 0.44\n",
    "    return x1, y1\n",
    "\n",
    "def transformation_4(p):\n",
    "    x = p[0]\n",
    "    y = p[1]\n",
    "    x1 = 0\n",
    "    y1 = 0.16*y\n",
    "    return x1, y1\n",
    "\n",
    "def get_index(probability):\n",
    "    r = random.random()\n",
    "    c_probability = 0\n",
    "    sum_probability = []\n",
    "    for p in probability:\n",
    "        c_probability += p\n",
    "        sum_probability.append(c_probability)\n",
    "    for item, sp in enumerate(sum_probability):\n",
    "        if r <= sp:\n",
    "            return item\n",
    "    return len(probability)-1\n",
    "\n",
    "def transform(p):\n",
    "    # list of transformation functions\n",
    "    transformations = [transformation_1, transformation_2,\n",
    "                           transformation_3, transformation_4]\n",
    "    probability = [0.85, 0.07, 0.07, 0.01]\n",
    "    # pick a random transformation function and call it\n",
    "    tindex = get_index(probability)\n",
    "    t = transformations[tindex]\n",
    "    x, y = t(p)\n",
    "    return x, y\n",
    "\n",
    "def draw_fern(n):\n",
    "    # We start with (0, 0)\n",
    "    x = [0]\n",
    "    y = [0]\n",
    "    x1, y1 = 0, 0\n",
    "    for i in range(n):\n",
    "        x1, y1 = transform((x1, y1))\n",
    "        x.append(x1)\n",
    "        y.append(y1)\n",
    "    \n",
    "    # Plot the points\n",
    "    plt.plot(x, y, 'o')\n",
    "    plt.title('Fern with {0} points'.format(n))\n",
    "    plt.show()\n",
    " "
   ]
  },
  {
   "cell_type": "code",
   "execution_count": null,
   "id": "ebb11c02",
   "metadata": {},
   "outputs": [
    {
     "data": {
      "application/vnd.jupyter.widget-view+json": {
       "model_id": "89bf5bbcfa254abca6f9731094a02fab",
       "version_major": 2,
       "version_minor": 0
      },
      "text/plain": [
       "interactive(children=(IntSlider(value=10, description='n', max=10000), Output()), _dom_classes=('widget-intera…"
      ]
     },
     "metadata": {},
     "output_type": "display_data"
    }
   ],
   "source": [
    "# Allow interaction via the interact() function and an Integer slider widget\n",
    "i = interact(draw_fern, n=widgets.IntSlider(min=0, max=10000,step=1,value=10))"
   ]
  },
  {
   "cell_type": "markdown",
   "id": "b0e4ebea",
   "metadata": {},
   "source": [
    "### Interactive version of the \"Mandelbrot Set\" "
   ]
  },
  {
   "cell_type": "code",
   "execution_count": null,
   "id": "8b78fe9c",
   "metadata": {},
   "outputs": [
    {
     "data": {
      "text/plain": [
       "'\\nmandelbrot.py\\n\\nDraw a Mandelbrot set\\n\\nUsing \"Escape time algorithm\" from:\\nhttp://en.wikipedia.org/wiki/Mandelbrot_set#Computer_drawings\\n\\nThanks to http://www.vallis.org/salon/summary-10.html for some important\\nideas for implementation.\\n'"
      ]
     },
     "execution_count": null,
     "metadata": {},
     "output_type": "execute_result"
    }
   ],
   "source": [
    "%matplotlib inline\n",
    "'''\n",
    "mandelbrot.py\n",
    "\n",
    "Draw a Mandelbrot set\n",
    "\n",
    "Using \"Escape time algorithm\" from:\n",
    "http://en.wikipedia.org/wiki/Mandelbrot_set#Computer_drawings\n",
    "\n",
    "Thanks to http://www.vallis.org/salon/summary-10.html for some important\n",
    "ideas for implementation.\n",
    "'''"
   ]
  },
  {
   "cell_type": "code",
   "execution_count": null,
   "id": "3d46958f",
   "metadata": {},
   "outputs": [],
   "source": [
    "from ipywidgets import interact\n",
    "import ipywidgets as widgets\n",
    "\n",
    "\n",
    "import matplotlib.pyplot as plt\n",
    "import matplotlib.cm as cm"
   ]
  },
  {
   "cell_type": "code",
   "execution_count": null,
   "id": "009673e3",
   "metadata": {},
   "outputs": [
    {
     "data": {
      "application/vnd.jupyter.widget-view+json": {
       "model_id": "a82ee50f4e3040e4aee9dc0c6e4d61bc",
       "version_major": 2,
       "version_minor": 0
      },
      "text/plain": [
       "interactive(children=(IntSlider(value=100, description='n', max=600, min=100), IntSlider(value=100, descriptio…"
      ]
     },
     "metadata": {},
     "output_type": "display_data"
    }
   ],
   "source": [
    "# Subset of the complex plane we are considering\n",
    "x0, x1 = -2.5, 1\n",
    "y0, y1 = -1, 1\n",
    "\n",
    "def initialize_image(x_p, y_p):\n",
    "    image = []\n",
    "    for i in range(y_p):\n",
    "        x_colors = []\n",
    "        for j in range(x_p):\n",
    "            x_colors.append(0)\n",
    "        image.append(x_colors)\n",
    "    return image\n",
    "\n",
    "def mandelbrot_set(n, max_iterations):\n",
    "    image = initialize_image(n, n)\n",
    "    \n",
    "    # Generate a set of equally spaced points in the region\n",
    "    # above\n",
    "    dx = (x1-x0)/(n-1)\n",
    "    dy = (y1-y0)/(n-1)\n",
    "    x_coords = [x0 + i*dx for i in range(n)]\n",
    "    y_coords = [y0 + i*dy for i in range(n)]\n",
    "\n",
    "    for i, x in enumerate(x_coords):\n",
    "        for k, y in enumerate(y_coords):\n",
    "            z1 = complex(0, 0)\n",
    "            iteration = 0\n",
    "            c = complex(x, y)\n",
    "            while (abs(z1) < 2  and iteration < max_iterations):\n",
    "                z1 = z1**2 + c\n",
    "                iteration += 1\n",
    "            image[k][i] = iteration\n",
    "    return image\n",
    "\n",
    "def draw_mandelbrot(n, max_iterations):\n",
    "    image = mandelbrot_set(n, max_iterations)\n",
    "    plt.imshow(image, origin='lower', extent=(x0, x1, y0,y1),\n",
    "               cmap=cm.Greys_r, interpolation='nearest')\n",
    "    plt.show()\n",
    "    \n",
    "\n",
    "# Allow interaction via the interact() function and an Integer slider widget\n",
    "i = interact(draw_mandelbrot, \n",
    "             n=widgets.IntSlider(min=100, max=600,step=1,value=10), \n",
    "             max_iterations=widgets.IntSlider(min=100, max=10000,step=1,value=10),\n",
    "             # This keyword argument adds a button so that the drawing happens\n",
    "             # only when the button is clicked\n",
    "             __manual=True\n",
    "             )"
   ]
  },
  {
   "cell_type": "code",
   "execution_count": null,
   "id": "3ab75a41",
   "metadata": {},
   "outputs": [
    {
     "data": {
      "text/plain": [
       "'\\nsierpinski.py\\n\\nDraw Sierpinski Triangle\\n'"
      ]
     },
     "execution_count": null,
     "metadata": {},
     "output_type": "execute_result"
    }
   ],
   "source": [
    "from ipywidgets import interact\n",
    "import ipywidgets as widgets\n",
    "\n",
    "# Interactive version of drawing the Sierpinski triangle\n",
    "# Doing Math with Python (Chapter 6)\n",
    "\n",
    "'''\n",
    "sierpinski.py\n",
    "\n",
    "Draw Sierpinski Triangle\n",
    "'''\n",
    "import random\n",
    "import matplotlib.pyplot as plt"
   ]
  },
  {
   "cell_type": "code",
   "execution_count": null,
   "id": "cc119cad",
   "metadata": {},
   "outputs": [
    {
     "data": {
      "application/vnd.jupyter.widget-view+json": {
       "model_id": "f9a7f75de4a24c0dbc38ebac92413ca6",
       "version_major": 2,
       "version_minor": 0
      },
      "text/plain": [
       "interactive(children=(IntSlider(value=100, description='n', max=10000, min=100), Output()), _dom_classes=('wid…"
      ]
     },
     "metadata": {},
     "output_type": "display_data"
    }
   ],
   "source": [
    "def transformation_1(p):\n",
    "    x = p[0]\n",
    "    y = p[1]\n",
    "    x1 = 0.5*x\n",
    "    y1 = 0.5*y\n",
    "    return x1, y1\n",
    "\n",
    "def transformation_2(p):\n",
    "    x = p[0]\n",
    "    y = p[1]\n",
    "    x1 = 0.5*x + 0.5\n",
    "    y1 = 0.5*y + 0.5\n",
    "    return x1, y1\n",
    "\n",
    "def transformation_3(p):\n",
    "    x = p[0]\n",
    "    y = p[1]\n",
    "    x1 = 0.5*x + 1\n",
    "    y1 = 0.5*y\n",
    "    return x1, y1\n",
    "\n",
    "def get_index(probability):\n",
    "    r = random.random()\n",
    "    c_probability = 0\n",
    "    sum_probability = []\n",
    "    for p in probability:\n",
    "        c_probability += p\n",
    "        sum_probability.append(c_probability)\n",
    "    for item, sp in enumerate(sum_probability):\n",
    "        if r <= sp:\n",
    "            return item\n",
    "    return len(probability)-1\n",
    "\n",
    "def transform(p):\n",
    "    # list of transformation functions\n",
    "    transformations = [transformation_1, transformation_2, transformation_3]\n",
    "    probability = [1/3, 1/3, 1/3]\n",
    "    # pick a random transformation function and call it\n",
    "    tindex = get_index(probability)\n",
    "    t = transformations[tindex]\n",
    "    x, y = t(p)\n",
    "    return x, y\n",
    "\n",
    "def draw_sierpinski(n):\n",
    "    # We start with (0, 0)\n",
    "    x = [0]\n",
    "    y = [0]\n",
    "\n",
    "    x1, y1 = 0, 0\n",
    "    for i in range(n):\n",
    "        x1, y1 = transform((x1, y1))\n",
    "        x.append(x1)\n",
    "        y.append(y1)  \n",
    "    \n",
    "    plt.plot(x, y, 'o')\n",
    "    plt.title('Sierpinski with {0} points'.format(n))\n",
    "    plt.show()\n",
    "\n",
    "i = interact(draw_sierpinski, n=widgets.IntSlider(min=100, max=10000, step=1, value=10))"
   ]
  },
  {
   "cell_type": "markdown",
   "id": "f8d8e89f",
   "metadata": {},
   "source": [
    "## calculus"
   ]
  },
  {
   "cell_type": "markdown",
   "id": "65c31942",
   "metadata": {},
   "source": [
    "### sympy math ops"
   ]
  },
  {
   "cell_type": "code",
   "execution_count": null,
   "id": "3194b24c",
   "metadata": {},
   "outputs": [
    {
     "data": {
      "image/png": "[encoded data removed]",
      "text/latex": [
       "$\\displaystyle 1.0$"
      ],
      "text/plain": [
       "1.0"
      ]
     },
     "execution_count": null,
     "metadata": {},
     "output_type": "execute_result"
    }
   ],
   "source": [
    "import math\n",
    "math.sin(math.pi/2)"
   ]
  },
  {
   "cell_type": "code",
   "execution_count": null,
   "id": "323a7d5a",
   "metadata": {},
   "outputs": [
    {
     "data": {
      "image/png": "[encoded data removed]",
      "text/latex": [
       "$\\displaystyle 1.0$"
      ],
      "text/plain": [
       "1.00000000000000"
      ]
     },
     "execution_count": null,
     "metadata": {},
     "output_type": "execute_result"
    }
   ],
   "source": [
    "import sympy\n",
    "sympy.sin(math.pi/2)"
   ]
  },
  {
   "cell_type": "code",
   "execution_count": null,
   "id": "fe520405",
   "metadata": {},
   "outputs": [
    {
     "data": {
      "image/png": "[encoded data removed]",
      "text/latex": [
       "$\\displaystyle 2 \\sin{\\left(\\theta \\right)}$"
      ],
      "text/plain": [
       "2⋅sin(θ)"
      ]
     },
     "execution_count": null,
     "metadata": {},
     "output_type": "execute_result"
    }
   ],
   "source": [
    "from sympy import Symbol\n",
    "theta = Symbol('theta')\n",
    "# math.sin(theta) + math.sin(theta)\n",
    "sympy.sin(theta) + sympy.sin(theta)"
   ]
  },
  {
   "cell_type": "code",
   "execution_count": null,
   "id": "6dd2e165",
   "metadata": {},
   "outputs": [
    {
     "data": {
      "image/png": "[encoded data removed]",
      "text/latex": [
       "$\\displaystyle \\left[ \\frac{u \\sin{\\left(\\theta \\right)}}{g}\\right]$"
      ],
      "text/plain": [
       "⎡u⋅sin(θ)⎤\n",
       "⎢────────⎥\n",
       "⎣   g    ⎦"
      ]
     },
     "execution_count": null,
     "metadata": {},
     "output_type": "execute_result"
    }
   ],
   "source": [
    "from sympy import sin, solve, Symbol \n",
    "u = Symbol('u')\n",
    "t = Symbol('t')\n",
    "g = Symbol('g')\n",
    "theta = Symbol('theta') \n",
    "solve(u*sin(theta)-g*t, t)"
   ]
  },
  {
   "cell_type": "code",
   "execution_count": null,
   "id": "c8252ef0",
   "metadata": {},
   "outputs": [
    {
     "name": "stdout",
     "output_type": "stream",
     "text": [
      "Do Something\n"
     ]
    }
   ],
   "source": [
    "x = Symbol('x', positive=True) # negative, real, integer, complex, imaginary\n",
    "if (x+5) > 0:\n",
    "    print('Do Something')\n",
    "else:\n",
    "    print('Do Something else')"
   ]
  },
  {
   "cell_type": "code",
   "execution_count": null,
   "id": "70c552dc",
   "metadata": {},
   "outputs": [],
   "source": []
  },
  {
   "cell_type": "markdown",
   "id": "f1906ca7",
   "metadata": {},
   "source": [
    "### Limit, S.Infinity"
   ]
  },
  {
   "cell_type": "code",
   "execution_count": null,
   "id": "eef43072",
   "metadata": {},
   "outputs": [],
   "source": [
    "#P182: Simple example of finding the limit\n",
    "from sympy import Limit, Symbol, S "
   ]
  },
  {
   "cell_type": "code",
   "execution_count": null,
   "id": "03d17128",
   "metadata": {},
   "outputs": [
    {
     "name": "stdout",
     "output_type": "stream",
     "text": [
      "signature: (locals=None, convert_xor=True, strict=False, rational=False, evaluate=None)\n",
      "__class__: <class 'sympy.core.singleton.SingletonRegistry'>\n",
      "__repr__: S\n",
      "\n",
      "__doc__:\n",
      "The registry for the singleton classes (accessible as ``S``).\n",
      "\n",
      "Explanation\n",
      "===========\n",
      "\n",
      "This class serves as two separate things.\n",
      "\n",
      "The first thing it is is the ``SingletonRegistry``. Several classes in\n",
      "SymPy appear so often that they are singletonized, that is, using some\n",
      "metaprogramming they are made so that they can only be instantiated once\n",
      "(see the :class:`sympy.core.singleton.Singleton` class for details). For\n",
      "__dict__: not exist \n",
      "\n",
      "metaclass: False\n",
      "class: False\n",
      "decorator: False\n",
      "function: False\n",
      "method: False\n"
     ]
    }
   ],
   "source": [
    "check(S)"
   ]
  },
  {
   "cell_type": "code",
   "execution_count": null,
   "id": "75b84b77",
   "metadata": {},
   "outputs": [
    {
     "data": {
      "image/png": "[encoded data removed]",
      "text/latex": [
       "$\\displaystyle \\lim_{x \\to \\infty} \\frac{1}{x}$"
      ],
      "text/plain": [
       "    1\n",
       "lim ─\n",
       "x─→∞x"
      ]
     },
     "execution_count": null,
     "metadata": {},
     "output_type": "execute_result"
    },
    {
     "data": {
      "image/png": "[encoded data removed]",
      "text/latex": [
       "$\\displaystyle 0$"
      ],
      "text/plain": [
       "0"
      ]
     },
     "execution_count": null,
     "metadata": {},
     "output_type": "execute_result"
    },
    {
     "data": {
      "image/png": "[encoded data removed]",
      "text/latex": [
       "$\\displaystyle \\frac{1}{100}$"
      ],
      "text/plain": [
       "1/100"
      ]
     },
     "execution_count": null,
     "metadata": {},
     "output_type": "execute_result"
    }
   ],
   "source": [
    "x = Symbol('x')\n",
    "# passing it three arguments: 1/x, the variable x, \n",
    "# and finally the value at which we want to calculate the function’s limit (infinity, given by S.Infinity).\n",
    "Limit(1/x, x, S.Infinity) \n",
    "Limit(1/x, x, S.Infinity).doit()\n",
    "Limit(1/x, x, 100).doit()"
   ]
  },
  {
   "cell_type": "markdown",
   "id": "50c639db",
   "metadata": {},
   "source": [
    "### limit direction: negative"
   ]
  },
  {
   "cell_type": "code",
   "execution_count": null,
   "id": "5c5fe095",
   "metadata": {},
   "outputs": [],
   "source": [
    "from sympy import Limit"
   ]
  },
  {
   "cell_type": "code",
   "execution_count": null,
   "id": "d490153a",
   "metadata": {},
   "outputs": [
    {
     "data": {
      "image/png": "[encoded data removed]",
      "text/latex": [
       "$\\displaystyle \\infty$"
      ],
      "text/plain": [
       "∞"
      ]
     },
     "execution_count": null,
     "metadata": {},
     "output_type": "execute_result"
    },
    {
     "data": {
      "image/png": "[encoded data removed]",
      "text/latex": [
       "$\\displaystyle -\\infty$"
      ],
      "text/plain": [
       "-∞"
      ]
     },
     "execution_count": null,
     "metadata": {},
     "output_type": "execute_result"
    }
   ],
   "source": [
    "Limit(1/x, x, 0).doit()\n",
    "Limit(1/x, x, 0, dir='-').doit()"
   ]
  },
  {
   "cell_type": "markdown",
   "id": "1e0ccc77",
   "metadata": {},
   "source": [
    "### limit direction: positive"
   ]
  },
  {
   "cell_type": "code",
   "execution_count": null,
   "id": "b34ea780",
   "metadata": {},
   "outputs": [],
   "source": [
    "from sympy import Limit"
   ]
  },
  {
   "cell_type": "code",
   "execution_count": null,
   "id": "f902beac",
   "metadata": {},
   "outputs": [
    {
     "data": {
      "image/png": "[encoded data removed]",
      "text/latex": [
       "$\\displaystyle \\infty$"
      ],
      "text/plain": [
       "∞"
      ]
     },
     "execution_count": null,
     "metadata": {},
     "output_type": "execute_result"
    }
   ],
   "source": [
    "Limit(1/x, x, 0, dir='+').doit()"
   ]
  },
  {
   "cell_type": "markdown",
   "id": "867d9851",
   "metadata": {},
   "source": [
    "### Indeterminate limit"
   ]
  },
  {
   "cell_type": "code",
   "execution_count": null,
   "id": "7ea93d3a",
   "metadata": {},
   "outputs": [],
   "source": [
    "from sympy import Symbol, sin "
   ]
  },
  {
   "cell_type": "code",
   "execution_count": null,
   "id": "b9622875",
   "metadata": {},
   "outputs": [
    {
     "data": {
      "image/png": "[encoded data removed]",
      "text/latex": [
       "$\\displaystyle 0$"
      ],
      "text/plain": [
       "0"
      ]
     },
     "execution_count": null,
     "metadata": {},
     "output_type": "execute_result"
    },
    {
     "data": {
      "image/png": "[encoded data removed]",
      "text/latex": [
       "$\\displaystyle 1$"
      ],
      "text/plain": [
       "1"
      ]
     },
     "execution_count": null,
     "metadata": {},
     "output_type": "execute_result"
    },
    {
     "data": {
      "image/png": "[encoded data removed]",
      "text/latex": [
       "$\\displaystyle 1$"
      ],
      "text/plain": [
       "1"
      ]
     },
     "execution_count": null,
     "metadata": {},
     "output_type": "execute_result"
    }
   ],
   "source": [
    "sin(0)\n",
    "Limit(sin(x)/x, x, 0).doit() # 0/0\n",
    "Limit((1/x)/(1/x), x, 0).doit() # infinity/infinity"
   ]
  },
  {
   "cell_type": "markdown",
   "id": "88fa9308",
   "metadata": {},
   "source": [
    "### Continuous Compound Interest"
   ]
  },
  {
   "cell_type": "code",
   "execution_count": null,
   "id": "695611d8",
   "metadata": {},
   "outputs": [],
   "source": [
    "from sympy import Symbol, Limit, S, Eq"
   ]
  },
  {
   "cell_type": "code",
   "execution_count": null,
   "id": "076d6599",
   "metadata": {},
   "outputs": [
    {
     "data": {
      "image/png": "[encoded data removed]",
      "text/latex": [
       "$\\displaystyle A = \\left(\\frac{1}{n} + 1\\right)^{n}$"
      ],
      "text/plain": [
       "           n\n",
       "    ⎛1    ⎞ \n",
       "A = ⎜─ + 1⎟ \n",
       "    ⎝n    ⎠ "
      ]
     },
     "execution_count": null,
     "metadata": {},
     "output_type": "execute_result"
    }
   ],
   "source": [
    "n = Symbol('n')\n",
    "A = Symbol('A')\n",
    "Eq(A, (1+1/n)**n)"
   ]
  },
  {
   "cell_type": "code",
   "execution_count": null,
   "id": "1b358a7c",
   "metadata": {},
   "outputs": [
    {
     "data": {
      "image/png": "[encoded data removed]",
      "text/latex": [
       "$\\displaystyle e$"
      ],
      "text/plain": [
       "ℯ"
      ]
     },
     "execution_count": null,
     "metadata": {},
     "output_type": "execute_result"
    }
   ],
   "source": [
    "Limit((1+1/n)**n, n, S.Infinity).doit() # when n approaches infinity"
   ]
  },
  {
   "cell_type": "code",
   "execution_count": null,
   "id": "d199e9a1",
   "metadata": {},
   "outputs": [
    {
     "data": {
      "image/png": "[encoded data removed]",
      "text/latex": [
       "$\\displaystyle A = p \\left(\\frac{r}{n} + 1\\right)^{n t}$"
      ],
      "text/plain": [
       "             n⋅t\n",
       "      ⎛r    ⎞   \n",
       "A = p⋅⎜─ + 1⎟   \n",
       "      ⎝n    ⎠   "
      ]
     },
     "execution_count": null,
     "metadata": {},
     "output_type": "execute_result"
    },
    {
     "data": {
      "image/png": "[encoded data removed]",
      "text/latex": [
       "$\\displaystyle p e^{r t}$"
      ],
      "text/plain": [
       "   r⋅t\n",
       "p⋅ℯ   "
      ]
     },
     "execution_count": null,
     "metadata": {},
     "output_type": "execute_result"
    }
   ],
   "source": [
    "n = Symbol('n')\n",
    "p = Symbol('p', positive=True)\n",
    "r = Symbol('r', positive=True)\n",
    "t = Symbol('t', positive=True)\n",
    "Eq(A, p*(1+r/n)**(n*t))\n",
    "Limit(p*(1+r/n)**(n*t), n, S.Infinity).doit()"
   ]
  },
  {
   "cell_type": "markdown",
   "id": "8817d1a6",
   "metadata": {},
   "source": [
    "### Instantaneous Rate of Change as derivative"
   ]
  },
  {
   "cell_type": "code",
   "execution_count": null,
   "id": "4dd837cc",
   "metadata": {},
   "outputs": [],
   "source": [
    "from sympy import Symbol, Limit"
   ]
  },
  {
   "cell_type": "code",
   "execution_count": null,
   "id": "3d8062d4",
   "metadata": {},
   "outputs": [
    {
     "data": {
      "image/png": "[encoded data removed]",
      "text/latex": [
       "$\\displaystyle 8 + 2 t + 5 t^{2}$"
      ],
      "text/plain": [
       "             2\n",
       "8 + 2⋅t + 5⋅t "
      ]
     },
     "execution_count": null,
     "metadata": {},
     "output_type": "execute_result"
    }
   ],
   "source": [
    "t = Symbol('t') \n",
    "St = 5*t**2 + 2*t + 8\n",
    "St"
   ]
  },
  {
   "cell_type": "code",
   "execution_count": null,
   "id": "09fb2441",
   "metadata": {},
   "outputs": [
    {
     "data": {
      "image/png": "[encoded data removed]",
      "text/latex": [
       "$\\displaystyle 8 + 2 t_{1} + 5 t_{1}^{2}$"
      ],
      "text/plain": [
       "               2\n",
       "8 + 2⋅t₁ + 5⋅t₁ "
      ]
     },
     "execution_count": null,
     "metadata": {},
     "output_type": "execute_result"
    }
   ],
   "source": [
    "t1 = Symbol('t1')\n",
    "delta_t = Symbol('delta_t')\n",
    "St1 = St.subs({t: t1})\n",
    "St1"
   ]
  },
  {
   "cell_type": "code",
   "execution_count": null,
   "id": "54fb6112",
   "metadata": {},
   "outputs": [
    {
     "data": {
      "image/png": "[encoded data removed]",
      "text/latex": [
       "$\\displaystyle 8 + 5 \\left(t_{1} + \\delta_{t}\\right)^{2} + 2 t_{1} + 2 \\delta_{t}$"
      ],
      "text/plain": [
       "               2              \n",
       "8 + 5⋅(t₁ + δₜ)  + 2⋅t₁ + 2⋅δₜ"
      ]
     },
     "execution_count": null,
     "metadata": {},
     "output_type": "execute_result"
    }
   ],
   "source": [
    "St1_delta = St.subs({t: t1 + delta_t})\n",
    "St1_delta"
   ]
  },
  {
   "cell_type": "code",
   "execution_count": null,
   "id": "e4ae0d31",
   "metadata": {},
   "outputs": [
    {
     "data": {
      "image/png": "[encoded data removed]",
      "text/latex": [
       "$\\displaystyle 2 + 10 t_{1}$"
      ],
      "text/plain": [
       "2 + 10⋅t₁"
      ]
     },
     "execution_count": null,
     "metadata": {},
     "output_type": "execute_result"
    }
   ],
   "source": [
    "Limit((St1_delta-St1)/delta_t, delta_t, 0).doit()"
   ]
  },
  {
   "cell_type": "markdown",
   "id": "a595bdd6",
   "metadata": {},
   "source": [
    "### Finding the derivative"
   ]
  },
  {
   "cell_type": "code",
   "execution_count": null,
   "id": "b6194af0",
   "metadata": {},
   "outputs": [],
   "source": [
    "from sympy import Symbol, Derivative "
   ]
  },
  {
   "cell_type": "code",
   "execution_count": null,
   "id": "0ec987c7",
   "metadata": {},
   "outputs": [
    {
     "data": {
      "image/png": "[encoded data removed]",
      "text/latex": [
       "$\\displaystyle \\frac{d}{d t} \\left(8 + 2 t + 5 t^{2}\\right)$"
      ],
      "text/plain": [
       "d ⎛             2⎞\n",
       "──⎝8 + 2⋅t + 5⋅t ⎠\n",
       "dt                "
      ]
     },
     "execution_count": null,
     "metadata": {},
     "output_type": "execute_result"
    },
    {
     "data": {
      "image/png": "[encoded data removed]",
      "text/latex": [
       "$\\displaystyle 2 + 10 t$"
      ],
      "text/plain": [
       "2 + 10⋅t"
      ]
     },
     "execution_count": null,
     "metadata": {},
     "output_type": "execute_result"
    },
    {
     "data": {
      "image/png": "[encoded data removed]",
      "text/latex": [
       "$\\displaystyle 2 + 10 t_{1}$"
      ],
      "text/plain": [
       "2 + 10⋅t₁"
      ]
     },
     "execution_count": null,
     "metadata": {},
     "output_type": "execute_result"
    }
   ],
   "source": [
    "t = Symbol('t')\n",
    "St = 5*t**2 + 2*t + 8\n",
    "d = Derivative(St, t)\n",
    "d\n",
    "d.doit()\n",
    "d.doit().subs({t:t1})"
   ]
  },
  {
   "cell_type": "markdown",
   "id": "19ab8f9a",
   "metadata": {},
   "source": [
    "### Derivative of a complicated arbitrary function"
   ]
  },
  {
   "cell_type": "code",
   "execution_count": null,
   "id": "7735d50f",
   "metadata": {},
   "outputs": [
    {
     "data": {
      "image/png": "[encoded data removed]",
      "text/latex": [
       "$\\displaystyle \\left(x + x^{2}\\right) \\left(x + x^{2} + x^{3}\\right)$"
      ],
      "text/plain": [
       "⎛     2⎞ ⎛     2    3⎞\n",
       "⎝x + x ⎠⋅⎝x + x  + x ⎠"
      ]
     },
     "execution_count": null,
     "metadata": {},
     "output_type": "execute_result"
    },
    {
     "data": {
      "image/png": "[encoded data removed]",
      "text/latex": [
       "$\\displaystyle \\frac{d}{d x} \\left(x + x^{2}\\right) \\left(x + x^{2} + x^{3}\\right)$"
      ],
      "text/plain": [
       "d ⎛⎛     2⎞ ⎛     2    3⎞⎞\n",
       "──⎝⎝x + x ⎠⋅⎝x + x  + x ⎠⎠\n",
       "dx                        "
      ]
     },
     "execution_count": null,
     "metadata": {},
     "output_type": "execute_result"
    },
    {
     "data": {
      "image/png": "[encoded data removed]",
      "text/latex": [
       "$\\displaystyle \\left(x + x^{2}\\right) \\left(1 + 2 x + 3 x^{2}\\right) + \\left(1 + 2 x\\right) \\left(x + x^{2} + x^{3}\\right)$"
      ],
      "text/plain": [
       "⎛     2⎞ ⎛             2⎞             ⎛     2    3⎞\n",
       "⎝x + x ⎠⋅⎝1 + 2⋅x + 3⋅x ⎠ + (1 + 2⋅x)⋅⎝x + x  + x ⎠"
      ]
     },
     "execution_count": null,
     "metadata": {},
     "output_type": "execute_result"
    }
   ],
   "source": [
    "from sympy import Derivative, Symbol \n",
    "x = Symbol('x')\n",
    "f = (x**3 + x**2 + x)*(x**2+x)\n",
    "f\n",
    "Derivative(f, x)\n",
    "Derivative(f, x).doit()"
   ]
  },
  {
   "cell_type": "markdown",
   "id": "c628e35d",
   "metadata": {},
   "source": [
    "### Derivative calculator"
   ]
  },
  {
   "cell_type": "code",
   "execution_count": null,
   "id": "026e2f05",
   "metadata": {},
   "outputs": [],
   "source": [
    "from sympy import Symbol, Derivative, sympify, pprint\n",
    "from sympy.core.sympify import SympifyError"
   ]
  },
  {
   "cell_type": "code",
   "execution_count": null,
   "id": "2a401072",
   "metadata": {},
   "outputs": [],
   "source": [
    "def derivative(f, var):\n",
    "    var = Symbol(var)\n",
    "    d = Derivative(f, var).doit()\n",
    "    pprint(d)"
   ]
  },
  {
   "cell_type": "code",
   "execution_count": null,
   "id": "85c9f88a",
   "metadata": {},
   "outputs": [
    {
     "name": "stdout",
     "output_type": "stream",
     "text": [
      "       2\n",
      "2⋅y + y \n"
     ]
    }
   ],
   "source": [
    "f = \"x**3\" # input('Enter a function: ')\n",
    "f = \"a*x**2 + b*x + c\"\n",
    "f = \"2*x*y + x*y**2\"\n",
    "var = \"x\" # input('Enter the variable to differentiate with respect to: ')\n",
    "try:\n",
    "    f = sympify(f)\n",
    "except SympifyError:\n",
    "    print('Invalid input')\n",
    "else:\n",
    "    derivative(f, var)"
   ]
  },
  {
   "cell_type": "markdown",
   "id": "51129061",
   "metadata": {},
   "source": [
    "### 1st order derivatives"
   ]
  },
  {
   "cell_type": "code",
   "execution_count": null,
   "id": "4a44ab57",
   "metadata": {},
   "outputs": [
    {
     "data": {
      "image/png": "[encoded data removed]",
      "text/latex": [
       "$\\displaystyle 50 x - 30 x^{3} + x^{5}$"
      ],
      "text/plain": [
       "           3    5\n",
       "50⋅x - 30⋅x  + x "
      ]
     },
     "execution_count": null,
     "metadata": {},
     "output_type": "execute_result"
    },
    {
     "data": {
      "image/png": "[encoded data removed]",
      "text/plain": [
       "<Figure size 640x480 with 1 Axes>"
      ]
     },
     "metadata": {},
     "output_type": "display_data"
    },
    {
     "data": {
      "text/plain": [
       "<sympy.plotting.plot.Plot>"
      ]
     },
     "execution_count": null,
     "metadata": {},
     "output_type": "execute_result"
    },
    {
     "data": {
      "image/png": "[encoded data removed]",
      "text/latex": [
       "$\\displaystyle \\frac{d}{d x} \\left(50 x - 30 x^{3} + x^{5}\\right)$"
      ],
      "text/plain": [
       "d ⎛           3    5⎞\n",
       "──⎝50⋅x - 30⋅x  + x ⎠\n",
       "dx                   "
      ]
     },
     "execution_count": null,
     "metadata": {},
     "output_type": "execute_result"
    },
    {
     "data": {
      "image/png": "[encoded data removed]",
      "text/latex": [
       "$\\displaystyle 50 - 90 x^{2} + 5 x^{4}$"
      ],
      "text/plain": [
       "         2      4\n",
       "50 - 90⋅x  + 5⋅x "
      ]
     },
     "execution_count": null,
     "metadata": {},
     "output_type": "execute_result"
    }
   ],
   "source": [
    "from sympy import Symbol, solve, Derivative, plot\n",
    "x = Symbol('x')\n",
    "f = x**5 - 30*x**3 + 50*x\n",
    "f\n",
    "plot(f, (x, -5.,5.))\n",
    "Derivative(f, x)\n",
    "d1 = Derivative(f, x).doit()\n",
    "d1"
   ]
  },
  {
   "cell_type": "markdown",
   "id": "83d3b6f8",
   "metadata": {},
   "source": [
    "### local and global minimum and maximum"
   ]
  },
  {
   "cell_type": "code",
   "execution_count": null,
   "id": "245a0d5e",
   "metadata": {},
   "outputs": [
    {
     "data": {
      "image/png": "[encoded data removed]",
      "text/latex": [
       "$\\displaystyle 50 - 90 x^{2} + 5 x^{4}$"
      ],
      "text/plain": [
       "         2      4\n",
       "50 - 90⋅x  + 5⋅x "
      ]
     },
     "execution_count": null,
     "metadata": {},
     "output_type": "execute_result"
    },
    {
     "data": {
      "image/png": "[encoded data removed]",
      "text/latex": [
       "$\\displaystyle \\left[ - \\sqrt{9 - \\sqrt{71}}, \\  \\sqrt{9 - \\sqrt{71}}, \\  - \\sqrt{9 + \\sqrt{71}}, \\  \\sqrt{9 + \\sqrt{71}}\\right]$"
      ],
      "text/plain": [
       "⎡   _________    _________     _________    _________⎤\n",
       "⎣-╲╱ 9 - √71 , ╲╱ 9 - √71 , -╲╱ 9 + √71 , ╲╱ 9 + √71 ⎦"
      ]
     },
     "execution_count": null,
     "metadata": {},
     "output_type": "execute_result"
    },
    {
     "data": {
      "image/png": "[encoded data removed]",
      "text/plain": [
       "<Figure size 640x480 with 1 Axes>"
      ]
     },
     "metadata": {},
     "output_type": "display_data"
    },
    {
     "data": {
      "text/plain": [
       "<sympy.plotting.plot.Plot>"
      ]
     },
     "execution_count": null,
     "metadata": {},
     "output_type": "execute_result"
    },
    {
     "data": {
      "image/png": "[encoded data removed]",
      "text/plain": [
       "<Figure size 640x480 with 1 Axes>"
      ]
     },
     "metadata": {},
     "output_type": "display_data"
    },
    {
     "data": {
      "text/plain": [
       "<sympy.plotting.plot.Plot>"
      ]
     },
     "execution_count": null,
     "metadata": {},
     "output_type": "execute_result"
    }
   ],
   "source": [
    "d1\n",
    "critical_points = solve(d1)\n",
    "critical_points # both local and global minimum\n",
    "plot(f, d1, (x, -2,2), ylim=(-150,150)) \n",
    "plot(f, d1, (x, -5,5), ylim=(-1000,1000)) "
   ]
  },
  {
   "cell_type": "markdown",
   "id": "bef3a3d1",
   "metadata": {},
   "source": [
    "### 2nd order derivatives\n"
   ]
  },
  {
   "cell_type": "markdown",
   "id": "aa921115",
   "metadata": {},
   "source": [
    "Because all the critical points for this function lie within the considered interval, they are all relevant for our search for the global maximum and minimum of f(x). \n",
    "\n",
    "We may now apply the so-called second derivative test to narrow down which critical points could be global maxima or minima.\n",
    "\n",
    "First, we calculate the second-order derivative for the function f(x). Note that to do so, we enter 2 as the third argument:"
   ]
  },
  {
   "cell_type": "code",
   "execution_count": null,
   "id": "fd64cd52",
   "metadata": {},
   "outputs": [],
   "source": [
    "A = critical_points[2]\n",
    "B = critical_points[0]\n",
    "C = critical_points[1]\n",
    "D = critical_points[3]"
   ]
  },
  {
   "cell_type": "code",
   "execution_count": null,
   "id": "1767924c",
   "metadata": {},
   "outputs": [
    {
     "data": {
      "image/png": "[encoded data removed]",
      "text/latex": [
       "$\\displaystyle \\frac{d^{2}}{d x^{2}} \\left(50 x - 30 x^{3} + x^{5}\\right)$"
      ],
      "text/plain": [
       "  2                   \n",
       " d ⎛           3    5⎞\n",
       "───⎝50⋅x - 30⋅x  + x ⎠\n",
       "  2                   \n",
       "dx                    "
      ]
     },
     "execution_count": null,
     "metadata": {},
     "output_type": "execute_result"
    },
    {
     "data": {
      "image/png": "[encoded data removed]",
      "text/latex": [
       "$\\displaystyle 20 x \\left(-9 + x^{2}\\right)$"
      ],
      "text/plain": [
       "     ⎛      2⎞\n",
       "20⋅x⋅⎝-9 + x ⎠"
      ]
     },
     "execution_count": null,
     "metadata": {},
     "output_type": "execute_result"
    },
    {
     "data": {
      "image/png": "[encoded data removed]",
      "text/plain": [
       "<Figure size 640x480 with 1 Axes>"
      ]
     },
     "metadata": {},
     "output_type": "display_data"
    },
    {
     "data": {
      "text/plain": [
       "<sympy.plotting.plot.Plot>"
      ]
     },
     "execution_count": null,
     "metadata": {},
     "output_type": "execute_result"
    }
   ],
   "source": [
    "Derivative(f, x, 2)\n",
    "d2 = Derivative(f, x, 2).doit()\n",
    "d2\n",
    "plot(d1, d2, (x, -5,5))"
   ]
  },
  {
   "cell_type": "code",
   "execution_count": null,
   "id": "5d080bb4",
   "metadata": {},
   "outputs": [
    {
     "name": "stdout",
     "output_type": "stream",
     "text": [
      "signature: (n=15, subs=None, maxn=100, chop=False, strict=False, quad=None, verbose=False)\n",
      "__class__: <class 'method'>\n",
      "__repr__: <bound method EvalfMixin.evalf of 20*sqrt(71)*sqrt(9 - sqrt(71))>\n",
      "\n",
      "__doc__:\n",
      "Evaluate the given formula to an accuracy of *n* digits.\n",
      "\n",
      "Parameters\n",
      "==========\n",
      "\n",
      "subs : dict, optional\n",
      "    Substitute numerical values for symbols, e.g.\n",
      "    ``subs={x:3, y:1+pi}``. The substitutions must be given as a\n",
      "    dictionary.\n",
      "\n",
      "maxn : int, optional\n",
      "__dict__: \n",
      "{}\n",
      "metaclass: False\n",
      "class: False\n",
      "decorator: False\n",
      "function: False\n",
      "method: True\n"
     ]
    }
   ],
   "source": [
    "check(d2.subs({x:B}).evalf)"
   ]
  },
  {
   "cell_type": "code",
   "execution_count": null,
   "id": "bff256c2",
   "metadata": {},
   "outputs": [
    {
     "data": {
      "image/png": "[encoded data removed]",
      "text/latex": [
       "$\\displaystyle 127.661$"
      ],
      "text/plain": [
       "127.661"
      ]
     },
     "execution_count": null,
     "metadata": {},
     "output_type": "execute_result"
    },
    {
     "data": {
      "image/png": "[encoded data removed]",
      "text/latex": [
       "$\\displaystyle -127.661060789073$"
      ],
      "text/plain": [
       "-127.661060789073"
      ]
     },
     "execution_count": null,
     "metadata": {},
     "output_type": "execute_result"
    },
    {
     "data": {
      "image/png": "[encoded data removed]",
      "text/latex": [
       "$\\displaystyle -703.493179468151$"
      ],
      "text/plain": [
       "-703.493179468151"
      ]
     },
     "execution_count": null,
     "metadata": {},
     "output_type": "execute_result"
    },
    {
     "data": {
      "image/png": "[encoded data removed]",
      "text/latex": [
       "$\\displaystyle 703.493179468151$"
      ],
      "text/plain": [
       "703.493179468151"
      ]
     },
     "execution_count": null,
     "metadata": {},
     "output_type": "execute_result"
    }
   ],
   "source": [
    "d2.subs({x:B}).evalf(6)\n",
    "d2.subs({x:C}).evalf()\n",
    "d2.subs({x:A}).evalf() # global minimum\n",
    "d2.subs({x:D}).evalf() # global maximum"
   ]
  },
  {
   "cell_type": "code",
   "execution_count": null,
   "id": "46d8f729",
   "metadata": {},
   "outputs": [],
   "source": []
  },
  {
   "cell_type": "code",
   "execution_count": null,
   "id": "7d745d07",
   "metadata": {},
   "outputs": [],
   "source": []
  },
  {
   "cell_type": "markdown",
   "id": "b75705c8",
   "metadata": {},
   "source": [
    "### Use gradient ascent to find the angle at which a projectile has a maximum range\n",
    "\n",
    "'''\n",
    "Use gradient ascent to find the angle at which the projectile\n",
    "has maximum range for a fixed velocity, 25 m/s\n",
    "'''"
   ]
  },
  {
   "cell_type": "code",
   "execution_count": null,
   "id": "e102fcf4",
   "metadata": {},
   "outputs": [],
   "source": [
    "import math\n",
    "from sympy import Derivative, Symbol, sin"
   ]
  },
  {
   "cell_type": "code",
   "execution_count": null,
   "id": "20b5f25c",
   "metadata": {},
   "outputs": [],
   "source": [
    "def grad_ascent(x0, f1x, x):\n",
    "    epsilon =  1e-6\n",
    "    step_size = 1e-4\n",
    "    x_old = x0\n",
    "    x_new = x_old + step_size*f1x.subs({x:x_old}).evalf()\n",
    "    while abs(x_old - x_new) > epsilon:\n",
    "        x_old = x_new\n",
    "        x_new = x_old + step_size*f1x.subs({x:x_old}).evalf()\n",
    "    return x_new"
   ]
  },
  {
   "cell_type": "code",
   "execution_count": null,
   "id": "64ca43f7",
   "metadata": {},
   "outputs": [],
   "source": [
    "def find_max_theta(R, theta):\n",
    "    # Calculate the first derivative\n",
    "    R1theta = Derivative(R, theta).doit()\n",
    "    theta0 = 1e-3\n",
    "    theta_max = grad_ascent(theta0, R1theta, theta) \n",
    "    return theta_max"
   ]
  },
  {
   "cell_type": "code",
   "execution_count": null,
   "id": "d5a5e101",
   "metadata": {},
   "outputs": [
    {
     "name": "stdout",
     "output_type": "stream",
     "text": [
      "Theta: 44.997815081691805\n",
      "Maximum Range: 63.7755100185965\n"
     ]
    }
   ],
   "source": [
    "g = 9.8\n",
    "# Assume initial velocity\n",
    "u = 25\n",
    "# Expression for range\n",
    "theta = Symbol('theta')\n",
    "R = u**2*sin(2*theta)/g\n",
    "theta_max = find_max_theta(R, theta)\n",
    "print('Theta: {0}'.format(math.degrees(theta_max)))\n",
    "print('Maximum Range: {0}'.format(R.subs({theta:theta_max})))"
   ]
  },
  {
   "cell_type": "code",
   "execution_count": null,
   "id": "0451a59c",
   "metadata": {},
   "outputs": [],
   "source": [
    "%matplotlib inline\n",
    "\n",
    "#P193: This is the program corresponding to Figure 7-5\n",
    "'''\n",
    "Find the angle at which the projectile has maximum range for\n",
    "a fixed velocty, u. This also shows the intermediate points.\n",
    "'''\n",
    "\n",
    "import math\n",
    "import matplotlib.pyplot as plt\n",
    "from sympy import Derivative, Symbol, sin, cos, solve\n",
    "\n",
    "def plot_range_theta(u):\n",
    "    g = 9.8\n",
    "    angles = range(0, 90, 1)\n",
    "    R = [u**2*math.sin(math.radians(2*angle))/g for angle in angles]\n",
    "    plt.plot(angles, R)\n",
    "    # Use LaTex for the X-axis label\n",
    "    #plt.rc('text', usetex=True)\n",
    "    plt.plot(angles, R)\n",
    "    #plt.xlabel(r'$\\theta$ : Angle of projection (degrees)')\n",
    "    plt.ylabel('R: Distance traveled by projectile (meters)')\n",
    "\n",
    "def grad_ascent(x0, f1x):\n",
    "    theta = Symbol('theta')\n",
    "    epsilon =  1e-6\n",
    "    step_size = 1e-4\n",
    "    x_old = x0\n",
    "    x_new = x_old + step_size*f1x.subs({theta:x_old}).evalf()\n",
    "\n",
    "    X = []\n",
    "    while abs(x_old - x_new) > epsilon:\n",
    "        X.append(x_new)\n",
    "        x_old = x_new\n",
    "        x_new = x_old + step_size*f1x.subs({theta:x_old}).evalf()\n",
    "\n",
    "    return x_new, X\n",
    "\n",
    "def find_max_theta(R, theta):\n",
    "    # Calculate the first derivative\n",
    "    R1theta = Derivative(R, theta).doit()\n",
    "    theta0 = 1e-3\n",
    "    theta_max, X = grad_ascent(0.001, R1theta)\n",
    "    return math.degrees(theta_max.evalf()), X\n",
    "\n",
    "if __name__ == '__main__':\n",
    "    g = 9.8\n",
    "    # Assume initial velocity\n",
    "    u = 25\n",
    "    plot_range_theta(u)\n",
    "    theta = Symbol('theta')\n",
    "    # Expression for range\n",
    "    R = u**2*sin(2*theta)/g\n",
    "    theta_max, X = find_max_theta(R, theta)\n",
    "\n",
    "    # calculate R for all theta's traversed\n",
    "    Y = [u**2*math.sin(2*angle)/g for angle in X]\n",
    "    X = [math.degrees(angle) for angle in X]\n",
    "    plt.plot(X, Y, 'ro')\n",
    "    plt.show()\n",
    "    print('Theta: {0}, Max. Range: {1}'.format(theta_max, R.subs({theta:theta_max})))\n",
    "\n",
    "#P195: Generic program for gradient ascent\n",
    "'''\n",
    "Use gradient ascent to find the maximum value of a\n",
    "single variable function\n",
    "'''\n",
    "from sympy import Derivative, Symbol, sympify\n",
    "def grad_ascent(x0, f1x, x):\n",
    "    epsilon =  1e-6\n",
    "    step_size = 1e-4\n",
    "    x_old = x0\n",
    "    x_new = x_old + step_size*f1x.subs({x:x_old}).evalf()\n",
    "    while abs(x_old - x_new) > epsilon:\n",
    "        x_old = x_new\n",
    "        x_new = x_old + step_size*f1x.subs({x:x_old}).evalf()\n",
    "    return x_new\n",
    "\n",
    "if __name__ == '__main__':\n",
    "    f = input('Enter a function in one variable: ')\n",
    "    var = input('Enter the variable to differentiate with respect to: ')\n",
    "    var0 = float(input('Enter the initial value of the variable: '))\n",
    "    try:\n",
    "        f = sympify(f)\n",
    "    except SympifyError:\n",
    "        print('Invalid function entered')\n",
    "    else:\n",
    "        var = Symbol(var)\n",
    "        d = Derivative(f, var).doit()\n",
    "        var_max = grad_ascent(var0, d, var)\n",
    "        print('{0}: {1}'.format(var.name, var_max))\n",
    "        print('Maximum value: {0}'.format(f.subs({var:var_max})))\n",
    "\n",
    "#P198: \n",
    "\n",
    "'''\n",
    "Use gradient ascent to find the maximum value of a single-variable function. \n",
    "This also checks for the existence of a solution for the equation f'(x)=0.\n",
    "'''\n",
    "from sympy import Derivative, Symbol, sympify, solve\n",
    "def grad_ascent(x0, f1x, x):\n",
    "    # check if f1x=0 has a solution \n",
    "    if not solve(f1x):\n",
    "        print('Cannot continue, solution for {0}=0 does not exist'.format(f1x))\n",
    "        return \n",
    "    epsilon = 1e-6\n",
    "    step_size = 1e-4\n",
    "    x_old = x0\n",
    "    x_new = x_old + step_size*f1x.subs({x:x_old}).evalf() \n",
    "    while abs(x_old - x_new) > epsilon:\n",
    "        x_old = x_new\n",
    "        x_new = x_old + step_size*f1x.subs({x:x_old}).evalf()\n",
    "    return x_new\n",
    "\n",
    "if __name__ == '__main__':\n",
    "    f = input('Enter a function in one variable: ')\n",
    "    var = input('Enter the variable to differentiate with respect to: ') \n",
    "    var0 = float(input('Enter the initial value of the variable: '))\n",
    "    try:\n",
    "        f = sympify(f) \n",
    "    except SympifyError:\n",
    "        print('Invalid function entered') \n",
    "    else:\n",
    "        var = Symbol(var)\n",
    "        d = Derivative(f, var).doit() \n",
    "        var_max = grad_ascent(var0, d, var) \n",
    "        if var_max:\n",
    "            print('{0}: {1}'.format(var.name, var_max)) \n",
    "            print('Maximum value: {0}'.format(f.subs({var:var_max})))\n",
    "\n",
    "#P200: Basic example of finding the indefinite Integral\n",
    ">>> from sympy import Integral, Symbol \n",
    ">>> x = Symbol('x')\n",
    ">>> k = Symbol('k')\n",
    ">>> Integral(k*x, x).doit()\n",
    "\n",
    "#P200: Basic example of finding the definite integral\n",
    ">>> from sympy import Integral, Symbol \n",
    ">>> x = Symbol('x')\n",
    ">>> k = Symbol('k')\n",
    ">>> Integral(k*x, (x, 0, 2)).doit()\n",
    "\n",
    "#P203: Probability of the grade falling between  11 and 12\n",
    ">>> from sympy import Symbol, exp, sqrt, pi, Integral\n",
    ">>> x = Symbol('x')\n",
    ">>> p = exp(-(x - 10)**2/2)/sqrt(2*pi)\n",
    ">>> Integral(p, (x, 11, 12)).doit().evalf()\n",
    "\n",
    "#P204: The probability density function is such that the integral between -infinity and infinity is 1\n",
    ">>> from sympy import Symbol, exp, sqrt, pi, Integral, S\n",
    ">>> x = Symbol('x')\n",
    ">>> p = exp(-(x - 10)**2/2)/sqrt(2*pi)\n",
    ">>> Integral(p, (x, S.NegativeInfinity, S.Infinity)).doit().evalf()"
   ]
  }
 ],
 "metadata": {
  "kernelspec": {
   "display_name": "Python 3 (ipykernel)",
   "language": "python",
   "name": "python3"
  }
 },
 "nbformat": 4,
 "nbformat_minor": 5
}
