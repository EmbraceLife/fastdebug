{
 "cells": [
  {
   "cell_type": "markdown",
   "id": "81186bb2",
   "metadata": {},
   "source": [
    "# 08_use_kwargs_dict"
   ]
  },
  {
   "cell_type": "markdown",
   "id": "b7dc82a7",
   "metadata": {},
   "source": [
    "## Imports"
   ]
  },
  {
   "cell_type": "code",
   "execution_count": null,
   "id": "ece7c472",
   "metadata": {},
   "outputs": [
    {
     "data": {
      "text/html": [
       "<style>.container { width:100% !important; }</style>"
      ],
      "text/plain": [
       "<IPython.core.display.HTML object>"
      ]
     },
     "metadata": {},
     "output_type": "display_data"
    }
   ],
   "source": [
    "from fastdebug.utils import *\n",
    "from fastdebug.core import *\n",
    "from fastcore.meta import *"
   ]
  },
  {
   "cell_type": "markdown",
   "id": "e1ec5f23",
   "metadata": {},
   "source": [
    "## Reading official docs"
   ]
  },
  {
   "cell_type": "code",
   "execution_count": null,
   "id": "41cb9800",
   "metadata": {},
   "outputs": [],
   "source": [
    "from fastcore.meta import _mk_param # not included in __all__"
   ]
  },
  {
   "cell_type": "markdown",
   "id": "27132cd4",
   "metadata": {},
   "source": [
    "## empty2none"
   ]
  },
  {
   "cell_type": "code",
   "execution_count": null,
   "id": "595ec435",
   "metadata": {},
   "outputs": [
    {
     "name": "stdout",
     "output_type": "stream",
     "text": [
      "========================================================     Investigating \u001b[91;1mempty2none\u001b[0m     ========================================================\n",
      "===============================================================     on line \u001b[91;1m0\u001b[0m     ================================================================\n",
      "=============================================================     with example \u001b[91;1m\u001b[0m     ==============================================================\n",
      "\n",
      "\u001b[93;1mprint selected srcline with expands below\u001b[0m--------\n",
      "def empty2none(p):======================================================================================================================================(0)\n",
      "                                                                                                                             \u001b[91;1mp is the Parameter.default value\u001b[0m\n",
      "    \"Replace `Parameter.empty` with `None`\"                                                                                                             (1)\n",
      "    return None if p==inspect.Parameter.empty else p                                                                                                    (2)\n",
      "========================================================     Investigating \u001b[91;1mempty2none\u001b[0m     ========================================================\n",
      "===============================================================     on line \u001b[91;1m1\u001b[0m     ================================================================\n",
      "=============================================================     with example \u001b[91;1m\n",
      "\u001b[0m     =============================================================\n",
      "\n",
      "\u001b[93;1mprint selected srcline with expands below\u001b[0m--------\n",
      "def empty2none(p):                                                                                                                                      (0)\n",
      "    \"Replace `Parameter.empty` with `None`\"=============================================================================================================(1)\n",
      "                                                                           \u001b[91;1mto use empty2none, I need to make sure p is not a parameter, but parameter.default\u001b[0m\n",
      "    return None if p==inspect.Parameter.empty else p                                                                                                    (2)\n",
      "                                                                                                                                                        (3)\n",
      "\n",
      "\u001b[93;1mReview srcode with all comments added so far\u001b[0m======================================================================================================\n",
      "def empty2none(p):========================================================================(0) # \u001b[36;1mp is the Parameter.default value\u001b[0m; \n",
      "    \"Replace `Parameter.empty` with `None`\"===============================================(1) # \u001b[36;1mto use empty2none, I need to make sure p is not a parameter, but parameter.default\u001b[0m; \n",
      "    return None if p==inspect.Parameter.empty else p======================================(2)       \n",
      "                                                                                                                                                        (3)\n",
      "                                                                                                                                     part No.1 out of 1 parts\n",
      "\n",
      "========================================================     Investigating \u001b[91;1mempty2none\u001b[0m     ========================================================\n",
      "===============================================================     on line \u001b[91;1m2\u001b[0m     ================================================================\n",
      "============================================================     with example \u001b[91;1m\n",
      "\n",
      "\u001b[0m     =============================================================\n",
      "\n",
      "\u001b[93;1mprint selected srcline with expands below\u001b[0m--------\n",
      "def empty2none(p):                                                                                                                                      (0)\n",
      "    \"Replace `Parameter.empty` with `None`\"                                                                                                             (1)\n",
      "    return None if p==inspect.Parameter.empty else p====================================================================================================(2)\n",
      "                                                                                                      \u001b[91;1mhow to check whether a parameter default value is empty\u001b[0m\n",
      "                                                                                                                                                        (3)\n",
      "\n",
      "\u001b[93;1mReview srcode with all comments added so far\u001b[0m======================================================================================================\n",
      "def empty2none(p):========================================================================(0) # \u001b[93;1mp is the Parameter.default value\u001b[0m; \n",
      "    \"Replace `Parameter.empty` with `None`\"===============================================(1) # \u001b[37;1mto use empty2none, I need to make sure p is not a parameter, but parameter.default\u001b[0m; \n",
      "    return None if p==inspect.Parameter.empty else p======================================(2) # \u001b[36;1mhow to check whether a parameter default value is empty\u001b[0m; \n",
      "                                                                                                                                                        (3)\n",
      "                                                                                                                                     part No.1 out of 1 parts\n",
      "\n"
     ]
    }
   ],
   "source": [
    "fdbe = Fastdb(empty2none)\n",
    "fdbe.docsrc(0, \"p is the Parameter.default value\")\n",
    "fdbe.docsrc(1, \"to use empty2none, I need to make sure p is not a parameter, but parameter.default\")\n",
    "fdbe.docsrc(2, \"how to check whether a parameter default value is empty\")"
   ]
  },
  {
   "cell_type": "code",
   "execution_count": null,
   "id": "0f701f21",
   "metadata": {},
   "outputs": [],
   "source": [
    "# def foo(a, b=1): pass\n",
    "# sig = inspect.signature(foo)\n",
    "# print(sig.parameters.items())\n",
    "# for k,v in sig.parameters.items():\n",
    "#     print(f'{k} : {v.default} => empty2none => {empty2none(v.default)}')"
   ]
  },
  {
   "cell_type": "code",
   "execution_count": null,
   "id": "9f649b87",
   "metadata": {},
   "outputs": [],
   "source": [
    "fdbe.eg = \"\"\"\n",
    "def foo(a, b=1): pass\n",
    "sig = inspect.signature(foo)\n",
    "print(sig.parameters.items())\n",
    "for k,v in sig.parameters.items():\n",
    "    print(f'{k} : {v.default} => empty2none => {empty2none(v.default)}')\n",
    "\"\"\""
   ]
  },
  {
   "cell_type": "code",
   "execution_count": null,
   "id": "dc522796",
   "metadata": {},
   "outputs": [
    {
     "name": "stderr",
     "output_type": "stream",
     "text": [
      "22:14:40.57 >>> Call to empty2none in File \"/tmp/empty2none.py\", line 3\n",
      "22:14:40.57 ...... p = <class 'inspect._empty'>\n",
      "22:14:40.57    3 | def empty2none(p):\n",
      "22:14:40.57    5 |     return None if p==inspect.Parameter.empty else p\n",
      "22:14:40.57 <<< Return value from empty2none: None\n",
      "22:14:40.57 >>> Call to empty2none in File \"/tmp/empty2none.py\", line 3\n",
      "22:14:40.57 ...... p = 1\n",
      "22:14:40.57    3 | def empty2none(p):\n",
      "22:14:40.57    5 |     return None if p==inspect.Parameter.empty else p\n",
      "22:14:40.57 <<< Return value from empty2none: 1\n"
     ]
    },
    {
     "name": "stdout",
     "output_type": "stream",
     "text": [
      "========================================================     Investigating \u001b[91;1mempty2none\u001b[0m     ========================================================\n",
      "==============================================================     on line \u001b[91;1mNone\u001b[0m     ==============================================================\n",
      "     with example \u001b[91;1m\n",
      "def foo(a, b=1): pass\n",
      "sig = inspect.signature(foo)\n",
      "print(sig.parameters.items())\n",
      "for k,v in sig.parameters.items():\n",
      "    print(f'{k} : {v.default} => empty2none => {empty2none(v.default)}')\n",
      "\u001b[0m     \n",
      "\n",
      "odict_items([('a', <Parameter \"a\">), ('b', <Parameter \"b=1\">)])\n",
      "a : <class 'inspect._empty'> => empty2none => None\n",
      "b : 1 => empty2none => 1\n"
     ]
    }
   ],
   "source": [
    "fdbe.snoop()"
   ]
  },
  {
   "cell_type": "markdown",
   "id": "0ae3ada9",
   "metadata": {},
   "source": [
    "## `_mk_param`"
   ]
  },
  {
   "cell_type": "code",
   "execution_count": null,
   "id": "790a594b",
   "metadata": {},
   "outputs": [
    {
     "name": "stdout",
     "output_type": "stream",
     "text": [
      "========================================================     Investigating \u001b[91;1m_mk_param\u001b[0m     =========================================================\n",
      "==============================================================     on line \u001b[91;1mNone\u001b[0m     ==============================================================\n",
      "=============================================================     with example \u001b[91;1m\u001b[0m     ==============================================================\n",
      "\n",
      "def _mk_param(n,d=None): return inspect.Parameter(n, inspect.Parameter.KEYWORD_ONLY, default=d)                                                         (0)\n",
      "                                                                                                                                                        (1)\n"
     ]
    }
   ],
   "source": [
    "fdb = Fastdb(_mk_param)\n",
    "fdb.print()"
   ]
  },
  {
   "cell_type": "code",
   "execution_count": null,
   "id": "b0808fef",
   "metadata": {},
   "outputs": [],
   "source": [
    "fdb.eg = \"\"\"\n",
    "print(_mk_param(\"a\", 1))\n",
    "\"\"\""
   ]
  },
  {
   "cell_type": "code",
   "execution_count": null,
   "id": "9c4ee1fe",
   "metadata": {},
   "outputs": [
    {
     "name": "stderr",
     "output_type": "stream",
     "text": [
      "22:14:40.58 >>> Call to _mk_param in File \"/tmp/_mk_param.py\", line 3\n",
      "22:14:40.58 ...... n = 'a'\n",
      "22:14:40.58 ...... d = 1\n",
      "22:14:40.58    3 | def _mk_param(n,d=None): return inspect.Parameter(n, inspect.Parameter.KEYWORD_ONLY, default=d)\n",
      "22:14:40.58    3 | def _mk_param(n,d=None): return inspect.Parameter(n, inspect.Parameter.KEYWORD_ONLY, default=d)\n",
      "22:14:40.58 <<< Return value from _mk_param: <Parameter \"a=1\">\n"
     ]
    },
    {
     "name": "stdout",
     "output_type": "stream",
     "text": [
      "========================================================     Investigating \u001b[91;1m_mk_param\u001b[0m     =========================================================\n",
      "==============================================================     on line \u001b[91;1mNone\u001b[0m     ==============================================================\n",
      "================================================     with example \u001b[91;1m\n",
      "print(_mk_param(\"a\", 1))\n",
      "\u001b[0m     =================================================\n",
      "\n",
      "a=1\n"
     ]
    }
   ],
   "source": [
    "fdb.snoop()"
   ]
  },
  {
   "cell_type": "code",
   "execution_count": null,
   "id": "45f4ff09",
   "metadata": {},
   "outputs": [
    {
     "name": "stdout",
     "output_type": "stream",
     "text": [
      "========================================================     Investigating \u001b[91;1m_mk_param\u001b[0m     =========================================================\n",
      "===============================================================     on line \u001b[91;1m0\u001b[0m     ================================================================\n",
      "================================================     with example \u001b[91;1m\n",
      "print(_mk_param(\"a\", 1))\n",
      "\u001b[0m     =================================================\n",
      "\n",
      "\u001b[93;1mprint selected srcline with expands below\u001b[0m--------\n",
      "def _mk_param(n,d=None): return inspect.Parameter(n, inspect.Parameter.KEYWORD_ONLY, default=d)=========================================================(0)\n",
      "                                                 \u001b[91;1m_mk_param is to create a new parameter as KEYWORD_ONLY kind; n is its name in string; d is its default value\u001b[0m\n",
      "                                                                                                                                                        (1)\n",
      "a=1\n"
     ]
    }
   ],
   "source": [
    "fdb.docsrc(0, \"_mk_param is to create a new parameter as KEYWORD_ONLY kind; n is its name in string; d is its default value\")"
   ]
  },
  {
   "cell_type": "markdown",
   "id": "2f7dcd29",
   "metadata": {},
   "source": [
    "## use_kwargs_dict"
   ]
  },
  {
   "cell_type": "markdown",
   "id": "3931f778",
   "metadata": {},
   "source": [
    "### Reading docs"
   ]
  },
  {
   "cell_type": "markdown",
   "id": "ea08d5ad",
   "metadata": {},
   "source": [
    "Replace all **kwargs with named arguments like so:\n",
    "```python\n",
    "@use_kwargs_dict(y=1,z=None)\n",
    "def foo(a, b=1, **kwargs): pass\n",
    "\n",
    "test_sig(foo, '(a, b=1, *, y=1, z=None)')\n",
    "```\n",
    "Add named arguments, but optionally keep **kwargs by setting keep=True:\n",
    "```python\n",
    "@use_kwargs_dict(y=1,z=None, keep=True)\n",
    "def foo(a, b=1, **kwargs): pass\n",
    "\n",
    "test_sig(foo, '(a, b=1, *, y=1, z=None, **kwargs)')\n",
    "```"
   ]
  },
  {
   "cell_type": "code",
   "execution_count": null,
   "id": "4f5d7563",
   "metadata": {},
   "outputs": [
    {
     "name": "stdout",
     "output_type": "stream",
     "text": [
      "def use_kwargs_dict(keep=False, **kwargs):\n",
      "    \"Decorator: replace `**kwargs` in signature with `names` params\"\n",
      "    def _f(f):\n",
      "        sig = inspect.signature(f)\n",
      "        sigd = dict(sig.parameters)\n",
      "        k = sigd.pop('kwargs')\n",
      "        s2 = {n:_mk_param(n,d) for n,d in kwargs.items() if n not in sigd}\n",
      "        sigd.update(s2)\n",
      "        if keep: sigd['kwargs'] = k\n",
      "        f.__signature__ = sig.replace(parameters=sigd.values())\n",
      "        return f\n",
      "    return _f\n",
      "\n"
     ]
    }
   ],
   "source": [
    "print(inspect.getsource(use_kwargs_dict))"
   ]
  },
  {
   "cell_type": "code",
   "execution_count": null,
   "id": "88e08b2a",
   "metadata": {},
   "outputs": [],
   "source": [
    "fdb = Fastdb(use_kwargs_dict)\n",
    "fdb.eg = \"\"\"\n",
    "@use_kwargs_dict(y=1,z=None)\n",
    "def foo(a, b=1, **kwargs): pass\n",
    "\n",
    "test_sig(foo, '(a, b=1, *, y=1, z=None)')\n",
    "\"\"\"\n",
    "\n",
    "fdb.eg = \"\"\"\n",
    "@use_kwargs_dict(y=1,z=None, keep=True)\n",
    "def foo(a, b=1, **kwargs): pass\n",
    "\n",
    "test_sig(foo, '(a, b=1, *, y=1, z=None, **kwargs)')\n",
    "\"\"\""
   ]
  },
  {
   "cell_type": "code",
   "execution_count": null,
   "id": "be8b8265",
   "metadata": {},
   "outputs": [
    {
     "name": "stdout",
     "output_type": "stream",
     "text": [
      "=====================================================     Investigating \u001b[91;1muse_kwargs_dict\u001b[0m     ======================================================\n",
      "==============================================================     on line \u001b[91;1mNone\u001b[0m     ==============================================================\n",
      "     with example \u001b[91;1m\n",
      "@use_kwargs_dict(y=1,z=None, keep=True)\n",
      "def foo(a, b=1, **kwargs): pass\n",
      "\n",
      "test_sig(foo, '(a, b=1, *, y=1, z=None, **kwargs)')\n",
      "\u001b[0m     \n",
      "\n",
      "def use_kwargs_dict(keep=False, **kwargs):================================================(0)       \n",
      "    \"Decorator: replace `**kwargs` in signature with `names` params\"======================(1)       \n",
      "    def _f(f):============================================================================(2)       \n",
      "        sig = inspect.signature(f)========================================================(3)       \n",
      "        sigd = dict(sig.parameters)=======================================================(4)       \n",
      "        k = sigd.pop('kwargs')============================================================(5)       \n",
      "        s2 = {n:_mk_param(n,d) for n,d in kwargs.items() if n not in sigd}================(6)       \n",
      "        sigd.update(s2)===================================================================(7)       \n",
      "        if keep: sigd['kwargs'] = k=======================================================(8)       \n",
      "        f.__signature__ = sig.replace(parameters=sigd.values())===========================(9)       \n",
      "        return f==========================================================================(10)      \n",
      "    return _f=============================================================================(11)      \n",
      "                                                                                                                                                        (12)\n"
     ]
    }
   ],
   "source": [
    "fdb.print()"
   ]
  },
  {
   "cell_type": "code",
   "execution_count": null,
   "id": "a79b2afd",
   "metadata": {},
   "outputs": [
    {
     "name": "stdout",
     "output_type": "stream",
     "text": [
      "=====================================================     Investigating \u001b[91;1muse_kwargs_dict\u001b[0m     ======================================================\n",
      "===============================================================     on line \u001b[91;1m1\u001b[0m     ================================================================\n",
      "     with example \u001b[91;1m\n",
      "@use_kwargs_dict(y=1,z=None, keep=True)\n",
      "def foo(a, b=1, **kwargs): pass\n",
      "\n",
      "test_sig(foo, '(a, b=1, *, y=1, z=None, **kwargs)')\n",
      "\u001b[0m     \n",
      "\n",
      "\u001b[93;1mprint selected srcline with expands below\u001b[0m--------\n",
      "def use_kwargs_dict(keep=False, **kwargs):                                                                                                              (0)\n",
      "    \"Decorator: replace `**kwargs` in signature with `names` params\"====================================================================================(1)\n",
      "\u001b[91;1mhow to use use_kwargs_dict; use_kwargs_dict is to replace **kwargs with newly created KEYWORD_ONLY params based on a dict; f's signature is saved inside f.__signature__\u001b[0m\n",
      "    def _f(f):                                                                                                                                          (2)\n",
      "        sig = inspect.signature(f)                                                                                                                      (3)\n",
      "\n",
      "\u001b[93;1mReview srcode with all comments added so far\u001b[0m======================================================================================================\n",
      "def use_kwargs_dict(keep=False, **kwargs):================================================(0)       \n",
      "    \"Decorator: replace `**kwargs` in signature with `names` params\"======================(1) # \u001b[34;1mhow to use use_kwargs_dict\u001b[0m; \u001b[92;1muse_kwargs_dict is to replace **kwargs with newly created KEYWORD_ONLY params based on a dict\u001b[0m; \u001b[92;1mf's signature is saved inside f.__signature__\u001b[0m; \n",
      "    def _f(f):============================================================================(2)       \n",
      "        sig = inspect.signature(f)========================================================(3)       \n",
      "        sigd = dict(sig.parameters)=======================================================(4)       \n",
      "        k = sigd.pop('kwargs')============================================================(5)       \n",
      "        s2 = {n:_mk_param(n,d) for n,d in kwargs.items() if n not in sigd}================(6)       \n",
      "        sigd.update(s2)===================================================================(7)       \n",
      "        if keep: sigd['kwargs'] = k=======================================================(8)       \n",
      "        f.__signature__ = sig.replace(parameters=sigd.values())===========================(9)       \n",
      "        return f==========================================================================(10)      \n",
      "    return _f=============================================================================(11)      \n",
      "                                                                                                                                                        (12)\n",
      "                                                                                                                                     part No.1 out of 1 parts\n",
      "\n",
      "=====================================================     Investigating \u001b[91;1muse_kwargs_dict\u001b[0m     ======================================================\n",
      "===============================================================     on line \u001b[91;1m3\u001b[0m     ================================================================\n",
      "     with example \u001b[91;1m\n",
      "@use_kwargs_dict(y=1,z=None, keep=True)\n",
      "def foo(a, b=1, **kwargs): pass\n",
      "\n",
      "test_sig(foo, '(a, b=1, *, y=1, z=None, **kwargs)')\n",
      "\u001b[0m     \n",
      "\n",
      "\u001b[93;1mprint selected srcline with expands below\u001b[0m--------\n",
      "    \"Decorator: replace `**kwargs` in signature with `names` params\"                                                                                    (1)\n",
      "    def _f(f):                                                                                                                                          (2)\n",
      "        sig = inspect.signature(f)======================================================================================================================(3)\n",
      "                                                                                                                      \u001b[91;1mhow to get the signature from an object\u001b[0m\n",
      "        sigd = dict(sig.parameters)                                                                                                                     (4)\n",
      "        k = sigd.pop('kwargs')                                                                                                                          (5)\n",
      "\n",
      "\u001b[93;1mReview srcode with all comments added so far\u001b[0m======================================================================================================\n",
      "def use_kwargs_dict(keep=False, **kwargs):================================================(0)       \n",
      "    \"Decorator: replace `**kwargs` in signature with `names` params\"======================(1) # \u001b[34;1mhow to use use_kwargs_dict\u001b[0m; \u001b[35;1muse_kwargs_dict is to replace **kwargs with newly created KEYWORD_ONLY params based on a dict\u001b[0m; \u001b[34;1mf's signature is saved inside f.__signature__\u001b[0m; \n",
      "    def _f(f):============================================================================(2)       \n",
      "        sig = inspect.signature(f)========================================================(3) # \u001b[93;1mhow to get the signature from an object\u001b[0m; \n",
      "        sigd = dict(sig.parameters)=======================================================(4)       \n",
      "        k = sigd.pop('kwargs')============================================================(5)       \n",
      "        s2 = {n:_mk_param(n,d) for n,d in kwargs.items() if n not in sigd}================(6)       \n",
      "        sigd.update(s2)===================================================================(7)       \n",
      "        if keep: sigd['kwargs'] = k=======================================================(8)       \n",
      "        f.__signature__ = sig.replace(parameters=sigd.values())===========================(9)       \n",
      "        return f==========================================================================(10)      \n",
      "    return _f=============================================================================(11)      \n",
      "                                                                                                                                                        (12)\n",
      "                                                                                                                                     part No.1 out of 1 parts\n",
      "\n",
      "=====================================================     Investigating \u001b[91;1muse_kwargs_dict\u001b[0m     ======================================================\n",
      "===============================================================     on line \u001b[91;1m4\u001b[0m     ================================================================\n",
      "     with example \u001b[91;1m\n",
      "@use_kwargs_dict(y=1,z=None, keep=True)\n",
      "def foo(a, b=1, **kwargs): pass\n",
      "\n",
      "test_sig(foo, '(a, b=1, *, y=1, z=None, **kwargs)')\n",
      "\u001b[0m     \n",
      "\n",
      "\u001b[93;1mprint selected srcline with expands below\u001b[0m--------\n",
      "    def _f(f):                                                                                                                                          (2)\n",
      "        sig = inspect.signature(f)                                                                                                                      (3)\n",
      "        sigd = dict(sig.parameters)=====================================================================================================================(4)\n",
      "                                                                                       \u001b[91;1mhow to get all parameters of a signature; how to make it into a dict; \u001b[0m\n",
      "        k = sigd.pop('kwargs')                                                                                                                          (5)\n",
      "        s2 = {n:_mk_param(n,d) for n,d in kwargs.items() if n not in sigd}                                                                              (6)\n",
      "\n",
      "\u001b[93;1mReview srcode with all comments added so far\u001b[0m======================================================================================================\n",
      "def use_kwargs_dict(keep=False, **kwargs):================================================(0)       \n",
      "    \"Decorator: replace `**kwargs` in signature with `names` params\"======================(1) # \u001b[92;1mhow to use use_kwargs_dict\u001b[0m; \u001b[36;1muse_kwargs_dict is to replace **kwargs with newly created KEYWORD_ONLY params based on a dict\u001b[0m; \u001b[37;1mf's signature is saved inside f.__signature__\u001b[0m; \n",
      "    def _f(f):============================================================================(2)       \n",
      "        sig = inspect.signature(f)========================================================(3) # \u001b[35;1mhow to get the signature from an object\u001b[0m; \n",
      "        sigd = dict(sig.parameters)=======================================================(4) # \u001b[37;1mhow to get all parameters of a signature\u001b[0m; \u001b[36;1mhow to make it into a dict\u001b[0m; \u001b[34;1m\u001b[0m; \n",
      "        k = sigd.pop('kwargs')============================================================(5)       \n",
      "        s2 = {n:_mk_param(n,d) for n,d in kwargs.items() if n not in sigd}================(6)       \n",
      "        sigd.update(s2)===================================================================(7)       \n",
      "        if keep: sigd['kwargs'] = k=======================================================(8)       \n",
      "        f.__signature__ = sig.replace(parameters=sigd.values())===========================(9)       \n",
      "        return f==========================================================================(10)      \n",
      "    return _f=============================================================================(11)      \n",
      "                                                                                                                                                        (12)\n",
      "                                                                                                                                     part No.1 out of 1 parts\n",
      "\n",
      "=====================================================     Investigating \u001b[91;1muse_kwargs_dict\u001b[0m     ======================================================\n",
      "===============================================================     on line \u001b[91;1m5\u001b[0m     ================================================================\n",
      "     with example \u001b[91;1m\n",
      "@use_kwargs_dict(y=1,z=None, keep=True)\n",
      "def foo(a, b=1, **kwargs): pass\n",
      "\n",
      "test_sig(foo, '(a, b=1, *, y=1, z=None, **kwargs)')\n",
      "\u001b[0m     \n",
      "\n",
      "\u001b[93;1mprint selected srcline with expands below\u001b[0m--------\n",
      "        sig = inspect.signature(f)                                                                                                                      (3)\n",
      "        sigd = dict(sig.parameters)                                                                                                                     (4)\n",
      "        k = sigd.pop('kwargs')==========================================================================================================================(5)\n",
      "                                                                                                                           \u001b[91;1mhow to pop out an item from a dict\u001b[0m\n",
      "        s2 = {n:_mk_param(n,d) for n,d in kwargs.items() if n not in sigd}                                                                              (6)\n",
      "        sigd.update(s2)                                                                                                                                 (7)\n",
      "\n",
      "\u001b[93;1mReview srcode with all comments added so far\u001b[0m======================================================================================================\n",
      "def use_kwargs_dict(keep=False, **kwargs):================================================(0)       \n",
      "    \"Decorator: replace `**kwargs` in signature with `names` params\"======================(1) # \u001b[93;1mhow to use use_kwargs_dict\u001b[0m; \u001b[36;1muse_kwargs_dict is to replace **kwargs with newly created KEYWORD_ONLY params based on a dict\u001b[0m; \u001b[92;1mf's signature is saved inside f.__signature__\u001b[0m; \n",
      "    def _f(f):============================================================================(2)       \n",
      "        sig = inspect.signature(f)========================================================(3) # \u001b[35;1mhow to get the signature from an object\u001b[0m; \n",
      "        sigd = dict(sig.parameters)=======================================================(4) # \u001b[35;1mhow to get all parameters of a signature\u001b[0m; \u001b[93;1mhow to make it into a dict\u001b[0m; \u001b[37;1m\u001b[0m; \n",
      "        k = sigd.pop('kwargs')============================================================(5) # \u001b[36;1mhow to pop out an item from a dict\u001b[0m; \n",
      "        s2 = {n:_mk_param(n,d) for n,d in kwargs.items() if n not in sigd}================(6)       \n",
      "        sigd.update(s2)===================================================================(7)       \n",
      "        if keep: sigd['kwargs'] = k=======================================================(8)       \n",
      "        f.__signature__ = sig.replace(parameters=sigd.values())===========================(9)       \n",
      "        return f==========================================================================(10)      \n",
      "    return _f=============================================================================(11)      \n",
      "                                                                                                                                                        (12)\n",
      "                                                                                                                                     part No.1 out of 1 parts\n",
      "\n",
      "=====================================================     Investigating \u001b[91;1muse_kwargs_dict\u001b[0m     ======================================================\n",
      "===============================================================     on line \u001b[91;1m6\u001b[0m     ================================================================\n",
      "     with example \u001b[91;1m\n",
      "@use_kwargs_dict(y=1,z=None, keep=True)\n",
      "def foo(a, b=1, **kwargs): pass\n",
      "\n",
      "test_sig(foo, '(a, b=1, *, y=1, z=None, **kwargs)')\n",
      "\u001b[0m     \n",
      "\n",
      "\u001b[93;1mprint selected srcline with expands below\u001b[0m--------\n",
      "        sigd = dict(sig.parameters)                                                                                                                     (4)\n",
      "        k = sigd.pop('kwargs')                                                                                                                          (5)\n",
      "        s2 = {n:_mk_param(n,d) for n,d in kwargs.items() if n not in sigd}==============================================================================(6)\n",
      "                                                                                                               \u001b[91;1mhow to create a dict of params based on a dict\u001b[0m\n",
      "        sigd.update(s2)                                                                                                                                 (7)\n",
      "        if keep: sigd['kwargs'] = k                                                                                                                     (8)\n",
      "\n",
      "\u001b[93;1mReview srcode with all comments added so far\u001b[0m======================================================================================================\n",
      "def use_kwargs_dict(keep=False, **kwargs):================================================(0)       \n",
      "    \"Decorator: replace `**kwargs` in signature with `names` params\"======================(1) # \u001b[36;1mhow to use use_kwargs_dict\u001b[0m; \u001b[35;1muse_kwargs_dict is to replace **kwargs with newly created KEYWORD_ONLY params based on a dict\u001b[0m; \u001b[93;1mf's signature is saved inside f.__signature__\u001b[0m; \n",
      "    def _f(f):============================================================================(2)       \n",
      "        sig = inspect.signature(f)========================================================(3) # \u001b[35;1mhow to get the signature from an object\u001b[0m; \n",
      "        sigd = dict(sig.parameters)=======================================================(4) # \u001b[92;1mhow to get all parameters of a signature\u001b[0m; \u001b[35;1mhow to make it into a dict\u001b[0m; \u001b[35;1m\u001b[0m; \n",
      "        k = sigd.pop('kwargs')============================================================(5) # \u001b[37;1mhow to pop out an item from a dict\u001b[0m; \n",
      "        s2 = {n:_mk_param(n,d) for n,d in kwargs.items() if n not in sigd}================(6) # \u001b[36;1mhow to create a dict of params based on a dict\u001b[0m; \n",
      "        sigd.update(s2)===================================================================(7)       \n",
      "        if keep: sigd['kwargs'] = k=======================================================(8)       \n",
      "        f.__signature__ = sig.replace(parameters=sigd.values())===========================(9)       \n",
      "        return f==========================================================================(10)      \n",
      "    return _f=============================================================================(11)      \n",
      "                                                                                                                                                        (12)\n",
      "                                                                                                                                     part No.1 out of 1 parts\n",
      "\n",
      "=====================================================     Investigating \u001b[91;1muse_kwargs_dict\u001b[0m     ======================================================\n",
      "===============================================================     on line \u001b[91;1m7\u001b[0m     ================================================================\n",
      "     with example \u001b[91;1m\n",
      "@use_kwargs_dict(y=1,z=None, keep=True)\n",
      "def foo(a, b=1, **kwargs): pass\n",
      "\n",
      "test_sig(foo, '(a, b=1, *, y=1, z=None, **kwargs)')\n",
      "\u001b[0m     \n",
      "\n",
      "\u001b[93;1mprint selected srcline with expands below\u001b[0m--------\n",
      "        k = sigd.pop('kwargs')                                                                                                                          (5)\n",
      "        s2 = {n:_mk_param(n,d) for n,d in kwargs.items() if n not in sigd}                                                                              (6)\n",
      "        sigd.update(s2)=================================================================================================================================(7)\n",
      "                                                                                                                     \u001b[91;1mhow to udpate one dict into another dict\u001b[0m\n",
      "        if keep: sigd['kwargs'] = k                                                                                                                     (8)\n",
      "        f.__signature__ = sig.replace(parameters=sigd.values())                                                                                         (9)\n",
      "\n",
      "\u001b[93;1mReview srcode with all comments added so far\u001b[0m======================================================================================================\n",
      "def use_kwargs_dict(keep=False, **kwargs):================================================(0)       \n",
      "    \"Decorator: replace `**kwargs` in signature with `names` params\"======================(1) # \u001b[34;1mhow to use use_kwargs_dict\u001b[0m; \u001b[92;1muse_kwargs_dict is to replace **kwargs with newly created KEYWORD_ONLY params based on a dict\u001b[0m; \u001b[34;1mf's signature is saved inside f.__signature__\u001b[0m; \n",
      "    def _f(f):============================================================================(2)       \n",
      "        sig = inspect.signature(f)========================================================(3) # \u001b[91;1mhow to get the signature from an object\u001b[0m; \n",
      "        sigd = dict(sig.parameters)=======================================================(4) # \u001b[37;1mhow to get all parameters of a signature\u001b[0m; \u001b[35;1mhow to make it into a dict\u001b[0m; \u001b[92;1m\u001b[0m; \n",
      "        k = sigd.pop('kwargs')============================================================(5) # \u001b[36;1mhow to pop out an item from a dict\u001b[0m; \n",
      "        s2 = {n:_mk_param(n,d) for n,d in kwargs.items() if n not in sigd}================(6) # \u001b[36;1mhow to create a dict of params based on a dict\u001b[0m; \n",
      "        sigd.update(s2)===================================================================(7) # \u001b[91;1mhow to udpate one dict into another dict\u001b[0m; \n",
      "        if keep: sigd['kwargs'] = k=======================================================(8)       \n",
      "        f.__signature__ = sig.replace(parameters=sigd.values())===========================(9)       \n",
      "        return f==========================================================================(10)      \n",
      "    return _f=============================================================================(11)      \n",
      "                                                                                                                                                        (12)\n",
      "                                                                                                                                     part No.1 out of 1 parts\n",
      "\n",
      "=====================================================     Investigating \u001b[91;1muse_kwargs_dict\u001b[0m     ======================================================\n",
      "===============================================================     on line \u001b[91;1m8\u001b[0m     ================================================================\n",
      "     with example \u001b[91;1m\n",
      "@use_kwargs_dict(y=1,z=None, keep=True)\n",
      "def foo(a, b=1, **kwargs): pass\n",
      "\n",
      "test_sig(foo, '(a, b=1, *, y=1, z=None, **kwargs)')\n",
      "\u001b[0m     \n",
      "\n",
      "\u001b[93;1mprint selected srcline with expands below\u001b[0m--------\n",
      "        s2 = {n:_mk_param(n,d) for n,d in kwargs.items() if n not in sigd}                                                                              (6)\n",
      "        sigd.update(s2)                                                                                                                                 (7)\n",
      "        if keep: sigd['kwargs'] = k=====================================================================================================================(8)\n",
      "                                                                                                                           \u001b[91;1mhow to create a new item in a dict\u001b[0m\n",
      "        f.__signature__ = sig.replace(parameters=sigd.values())                                                                                         (9)\n",
      "        return f                                                                                                                                        (10)\n",
      "\n",
      "\u001b[93;1mReview srcode with all comments added so far\u001b[0m======================================================================================================\n",
      "def use_kwargs_dict(keep=False, **kwargs):================================================(0)       \n",
      "    \"Decorator: replace `**kwargs` in signature with `names` params\"======================(1) # \u001b[37;1mhow to use use_kwargs_dict\u001b[0m; \u001b[92;1muse_kwargs_dict is to replace **kwargs with newly created KEYWORD_ONLY params based on a dict\u001b[0m; \u001b[36;1mf's signature is saved inside f.__signature__\u001b[0m; \n",
      "    def _f(f):============================================================================(2)       \n",
      "        sig = inspect.signature(f)========================================================(3) # \u001b[93;1mhow to get the signature from an object\u001b[0m; \n",
      "        sigd = dict(sig.parameters)=======================================================(4) # \u001b[91;1mhow to get all parameters of a signature\u001b[0m; \u001b[34;1mhow to make it into a dict\u001b[0m; \u001b[34;1m\u001b[0m; \n",
      "        k = sigd.pop('kwargs')============================================================(5) # \u001b[91;1mhow to pop out an item from a dict\u001b[0m; \n",
      "        s2 = {n:_mk_param(n,d) for n,d in kwargs.items() if n not in sigd}================(6) # \u001b[36;1mhow to create a dict of params based on a dict\u001b[0m; \n",
      "        sigd.update(s2)===================================================================(7) # \u001b[35;1mhow to udpate one dict into another dict\u001b[0m; \n",
      "        if keep: sigd['kwargs'] = k=======================================================(8) # \u001b[34;1mhow to create a new item in a dict\u001b[0m; \n",
      "        f.__signature__ = sig.replace(parameters=sigd.values())===========================(9)       \n",
      "        return f==========================================================================(10)      \n",
      "    return _f=============================================================================(11)      \n",
      "                                                                                                                                                        (12)\n",
      "                                                                                                                                     part No.1 out of 1 parts\n",
      "\n",
      "=====================================================     Investigating \u001b[91;1muse_kwargs_dict\u001b[0m     ======================================================\n",
      "===============================================================     on line \u001b[91;1m9\u001b[0m     ================================================================\n",
      "     with example \u001b[91;1m\n",
      "@use_kwargs_dict(y=1,z=None, keep=True)\n",
      "def foo(a, b=1, **kwargs): pass\n",
      "\n",
      "test_sig(foo, '(a, b=1, *, y=1, z=None, **kwargs)')\n",
      "\u001b[0m     \n",
      "\n",
      "\u001b[93;1mprint selected srcline with expands below\u001b[0m--------\n",
      "        sigd.update(s2)                                                                                                                                 (7)\n",
      "        if keep: sigd['kwargs'] = k                                                                                                                     (8)\n",
      "        f.__signature__ = sig.replace(parameters=sigd.values())=========================================================================================(9)\n",
      "                                                                          \u001b[91;1mhow to update a signature with a new set of parameters in the form of a dict values\u001b[0m\n",
      "        return f                                                                                                                                        (10)\n",
      "    return _f                                                                                                                                           (11)\n",
      "\n",
      "\u001b[93;1mReview srcode with all comments added so far\u001b[0m======================================================================================================\n",
      "def use_kwargs_dict(keep=False, **kwargs):================================================(0)       \n",
      "    \"Decorator: replace `**kwargs` in signature with `names` params\"======================(1) # \u001b[91;1mhow to use use_kwargs_dict\u001b[0m; \u001b[92;1muse_kwargs_dict is to replace **kwargs with newly created KEYWORD_ONLY params based on a dict\u001b[0m; \u001b[34;1mf's signature is saved inside f.__signature__\u001b[0m; \n",
      "    def _f(f):============================================================================(2)       \n",
      "        sig = inspect.signature(f)========================================================(3) # \u001b[93;1mhow to get the signature from an object\u001b[0m; \n",
      "        sigd = dict(sig.parameters)=======================================================(4) # \u001b[93;1mhow to get all parameters of a signature\u001b[0m; \u001b[35;1mhow to make it into a dict\u001b[0m; \u001b[93;1m\u001b[0m; \n",
      "        k = sigd.pop('kwargs')============================================================(5) # \u001b[35;1mhow to pop out an item from a dict\u001b[0m; \n",
      "        s2 = {n:_mk_param(n,d) for n,d in kwargs.items() if n not in sigd}================(6) # \u001b[36;1mhow to create a dict of params based on a dict\u001b[0m; \n",
      "        sigd.update(s2)===================================================================(7) # \u001b[37;1mhow to udpate one dict into another dict\u001b[0m; \n",
      "        if keep: sigd['kwargs'] = k=======================================================(8) # \u001b[35;1mhow to create a new item in a dict\u001b[0m; \n",
      "        f.__signature__ = sig.replace(parameters=sigd.values())===========================(9) # \u001b[91;1mhow to update a signature with a new set of parameters in the form of a dict values\u001b[0m; \n",
      "        return f==========================================================================(10)      \n",
      "    return _f=============================================================================(11)      \n",
      "                                                                                                                                                        (12)\n",
      "                                                                                                                                     part No.1 out of 1 parts\n",
      "\n"
     ]
    }
   ],
   "source": [
    "fdb.docsrc(1, \"how to use use_kwargs_dict; use_kwargs_dict is to replace **kwargs with newly created KEYWORD_ONLY params based on a dict; \\\n",
    "f's signature is saved inside f.__signature__\")\n",
    "fdb.docsrc(3, \"how to get the signature from an object\")\n",
    "fdb.docsrc(4, \"how to get all parameters of a signature; how to make it into a dict; \")\n",
    "fdb.docsrc(5, \"how to pop out an item from a dict\")\n",
    "fdb.docsrc(6, \"how to create a dict of params based on a dict\")\n",
    "fdb.docsrc(7, \"how to udpate one dict into another dict\")\n",
    "fdb.docsrc(8, \"how to create a new item in a dict\")\n",
    "fdb.docsrc(9, \"how to update a signature with a new set of parameters in the form of a dict values\")"
   ]
  },
  {
   "cell_type": "code",
   "execution_count": null,
   "id": "e11aa37c",
   "metadata": {},
   "outputs": [
    {
     "name": "stderr",
     "output_type": "stream",
     "text": [
      "22:14:40.62 >>> Call to use_kwargs_dict in File \"/tmp/use_kwargs_dict.py\", line 3\n",
      "22:14:40.62 ...... keep = True\n",
      "22:14:40.62 ...... kwargs = {'y': 1, 'z': None}\n",
      "22:14:40.62 ...... len(kwargs) = 2\n",
      "22:14:40.62    3 | def use_kwargs_dict(keep=False, **kwargs):\n",
      "22:14:40.62    5 |     import snoop\n",
      "22:14:40.62 .......... snoop = <class 'snoop.configuration.Config.__init__.<locals>.ConfiguredTracer'>\n",
      "22:14:40.62    6 |     @snoop\n",
      "22:14:40.62    7 |     def _f(f):\n",
      "22:14:40.62 .......... _f = <function use_kwargs_dict.<locals>._f>\n",
      "22:14:40.62   16 |     return _f\n",
      "22:14:40.62 <<< Return value from use_kwargs_dict: <function use_kwargs_dict.<locals>._f>\n",
      "22:14:40.62 >>> Call to use_kwargs_dict.<locals>._f in File \"/tmp/use_kwargs_dict.py\", line 7\n",
      "22:14:40.62 .......... f = <function foo>\n",
      "22:14:40.62 .......... keep = True\n",
      "22:14:40.62 .......... kwargs = {'y': 1, 'z': None}\n",
      "22:14:40.62 .......... len(kwargs) = 2\n",
      "22:14:40.62    7 |     def _f(f):\n",
      "22:14:40.62    8 |         sig = inspect.signature(f)\n",
      "22:14:40.62 .............. sig = <Signature (a, b=1, **kwargs)>\n",
      "22:14:40.62    9 |         sigd = dict(sig.parameters)\n",
      "22:14:40.62 .............. sigd = {'a': <Parameter \"a\">, 'b': <Parameter \"b=1\">, 'kwargs': <Parameter \"**kwargs\">}\n",
      "22:14:40.62 .............. len(sigd) = 3\n",
      "22:14:40.62   10 |         k = sigd.pop('kwargs')\n",
      "22:14:40.62 .............. k = <Parameter \"**kwargs\">\n",
      "22:14:40.62 .............. sigd = {'a': <Parameter \"a\">, 'b': <Parameter \"b=1\">}\n",
      "22:14:40.62 .............. len(sigd) = 2\n",
      "22:14:40.62   11 |         s2 = {n:_mk_param(n,d) for n,d in kwargs.items() if n not in sigd}\n",
      "    22:14:40.62 Dict comprehension:\n",
      "    22:14:40.62   11 |         s2 = {n:_mk_param(n,d) for n,d in kwargs.items() if n not in sigd}\n",
      "    22:14:40.62 .............. Iterating over <dict_itemiterator object>\n",
      "    22:14:40.62 .............. Values of sigd: {'a': <Parameter \"a\">, 'b': <Parameter \"b=1\">}\n",
      "    22:14:40.62 .............. Values of len(sigd): 2\n",
      "    22:14:40.62 .............. Values of n: 'y', 'z'\n",
      "    22:14:40.62 .............. Values of d: 1, None\n",
      "    22:14:40.62 Result: {'y': <Parameter \"y=1\">, 'z': <Parameter \"z=None\">}\n",
      "22:14:40.62   11 |         s2 = {n:_mk_param(n,d) for n,d in kwargs.items() if n not in sigd}\n",
      "22:14:40.62 .............. s2 = {'y': <Parameter \"y=1\">, 'z': <Parameter \"z=None\">}\n",
      "22:14:40.62 .............. len(s2) = 2\n",
      "22:14:40.62   12 |         sigd.update(s2)\n",
      "22:14:40.62 .............. sigd = {'a': <Parameter \"a\">, 'b': <Parameter \"b=1\">, 'y': <Parameter \"y=1\">, 'z': <Parameter \"z=None\">}\n",
      "22:14:40.62 .............. len(sigd) = 4\n",
      "22:14:40.62   13 |         if keep: sigd['kwargs'] = k\n",
      "22:14:40.62 ...... sigd = {'a': <Parameter \"a\">, 'b': <Parameter \"b=1\">, 'y': <Parameter \"y=1\">, 'z': <Parameter \"z=None\">, ...}\n",
      "22:14:40.62 ...... len(sigd) = 5\n",
      "22:14:40.62   14 |         f.__signature__ = sig.replace(parameters=sigd.values())\n",
      "22:14:40.63   15 |         return f\n",
      "22:14:40.63 <<< Return value from use_kwargs_dict.<locals>._f: <function foo>\n"
     ]
    },
    {
     "name": "stdout",
     "output_type": "stream",
     "text": [
      "=====================================================     Investigating \u001b[91;1muse_kwargs_dict\u001b[0m     ======================================================\n",
      "==============================================================     on line \u001b[91;1mNone\u001b[0m     ==============================================================\n",
      "     with example \u001b[91;1m\n",
      "@use_kwargs_dict(y=1,z=None, keep=True)\n",
      "def foo(a, b=1, **kwargs): pass\n",
      "\n",
      "test_sig(foo, '(a, b=1, *, y=1, z=None, **kwargs)')\n",
      "\u001b[0m     \n",
      "\n"
     ]
    }
   ],
   "source": [
    "fdb.snoop(deco=True) # how to use snoop on decorator"
   ]
  },
  {
   "cell_type": "markdown",
   "id": "d90e4971",
   "metadata": {},
   "source": [
    "## use_kwargs"
   ]
  },
  {
   "cell_type": "markdown",
   "id": "5c37cc05",
   "metadata": {},
   "source": [
    "### Reading docs"
   ]
  },
  {
   "cell_type": "markdown",
   "id": "8fcbe65e",
   "metadata": {},
   "source": [
    "use_kwargs is different than use_kwargs_dict as it only replaces **kwargs with named parameters without any default values:\n",
    "```python\n",
    "@use_kwargs(['y', 'z'])\n",
    "def foo(a, b=1, **kwargs): pass\n",
    "\n",
    "test_sig(foo, '(a, b=1, *, y=None, z=None)')\n",
    "```\n",
    "You may optionally keep the **kwargs argument in your signature by setting keep=True:\n",
    "```python\n",
    "@use_kwargs(['y', 'z'], keep=True)\n",
    "def foo(a, *args, b=1, **kwargs): pass\n",
    "test_sig(foo, '(a, *args, b=1, y=None, z=None, **kwargs)')\n",
    "```"
   ]
  },
  {
   "cell_type": "code",
   "execution_count": null,
   "id": "c80bbae5",
   "metadata": {},
   "outputs": [
    {
     "name": "stdout",
     "output_type": "stream",
     "text": [
      "def use_kwargs(names, keep=False):\n",
      "    \"Decorator: replace `**kwargs` in signature with `names` params\"\n",
      "    def _f(f):\n",
      "        sig = inspect.signature(f)\n",
      "        sigd = dict(sig.parameters)\n",
      "        k = sigd.pop('kwargs')\n",
      "        s2 = {n:_mk_param(n) for n in names if n not in sigd}\n",
      "        sigd.update(s2)\n",
      "        if keep: sigd['kwargs'] = k\n",
      "        f.__signature__ = sig.replace(parameters=sigd.values())\n",
      "        return f\n",
      "    return _f\n",
      "\n"
     ]
    }
   ],
   "source": [
    "print(inspect.getsource(use_kwargs))"
   ]
  },
  {
   "cell_type": "code",
   "execution_count": null,
   "id": "b82923ee",
   "metadata": {},
   "outputs": [],
   "source": [
    "fdb = Fastdb(use_kwargs)\n",
    "fdb.eg = \"\"\"\n",
    "@use_kwargs(['y', 'z'])\n",
    "def foo(a, b=1, **kwargs): pass\n",
    "\n",
    "test_sig(foo, '(a, b=1, *, y=None, z=None)')\n",
    "\"\"\"\n",
    "\n",
    "fdb.eg = \"\"\"\n",
    "@use_kwargs(['y', 'z'], keep=True)\n",
    "def foo(a, *args, b=1, **kwargs): pass\n",
    "test_sig(foo, '(a, *args, b=1, y=None, z=None, **kwargs)')\n",
    "\"\"\""
   ]
  },
  {
   "cell_type": "code",
   "execution_count": null,
   "id": "e6db8526",
   "metadata": {},
   "outputs": [
    {
     "name": "stdout",
     "output_type": "stream",
     "text": [
      "========================================================     Investigating \u001b[91;1muse_kwargs\u001b[0m     ========================================================\n",
      "==============================================================     on line \u001b[91;1mNone\u001b[0m     ==============================================================\n",
      "     with example \u001b[91;1m\n",
      "@use_kwargs(['y', 'z'], keep=True)\n",
      "def foo(a, *args, b=1, **kwargs): pass\n",
      "test_sig(foo, '(a, *args, b=1, y=None, z=None, **kwargs)')\n",
      "\u001b[0m     \n",
      "\n",
      "def use_kwargs(names, keep=False):========================================================(0)       \n",
      "    \"Decorator: replace `**kwargs` in signature with `names` params\"======================(1)       \n",
      "    def _f(f):============================================================================(2)       \n",
      "        sig = inspect.signature(f)========================================================(3)       \n",
      "        sigd = dict(sig.parameters)=======================================================(4)       \n",
      "        k = sigd.pop('kwargs')============================================================(5)       \n",
      "        s2 = {n:_mk_param(n) for n in names if n not in sigd}=============================(6)       \n",
      "        sigd.update(s2)===================================================================(7)       \n",
      "        if keep: sigd['kwargs'] = k=======================================================(8)       \n",
      "        f.__signature__ = sig.replace(parameters=sigd.values())===========================(9)       \n",
      "        return f==========================================================================(10)      \n",
      "    return _f=============================================================================(11)      \n",
      "                                                                                                                                                        (12)\n"
     ]
    }
   ],
   "source": [
    "fdb.print()"
   ]
  },
  {
   "cell_type": "code",
   "execution_count": null,
   "id": "190dea18",
   "metadata": {},
   "outputs": [
    {
     "name": "stdout",
     "output_type": "stream",
     "text": [
      "========================================================     Investigating \u001b[91;1muse_kwargs\u001b[0m     ========================================================\n",
      "===============================================================     on line \u001b[91;1m0\u001b[0m     ================================================================\n",
      "     with example \u001b[91;1m\n",
      "@use_kwargs(['y', 'z'], keep=True)\n",
      "def foo(a, *args, b=1, **kwargs): pass\n",
      "test_sig(foo, '(a, *args, b=1, y=None, z=None, **kwargs)')\n",
      "\u001b[0m     \n",
      "\n",
      "\u001b[93;1mprint selected srcline with expands below\u001b[0m--------\n",
      "def use_kwargs(names, keep=False):======================================================================================================================(0)\n",
      "\u001b[91;1mHow to use use_kwargs; use_kwargs has names as a list of strings; all the newly created params have None as default value; f's signature is saved inside f.__signature__\u001b[0m\n",
      "    \"Decorator: replace `**kwargs` in signature with `names` params\"                                                                                    (1)\n",
      "    def _f(f):                                                                                                                                          (2)\n"
     ]
    }
   ],
   "source": [
    "fdb.docsrc(0, \"How to use use_kwargs; use_kwargs has names as a list of strings; all the newly created params have None as default value; f's signature \\\n",
    "is saved inside f.__signature__\")"
   ]
  },
  {
   "cell_type": "code",
   "execution_count": null,
   "id": "8eaa4cdc",
   "metadata": {},
   "outputs": [
    {
     "name": "stderr",
     "output_type": "stream",
     "text": [
      "22:14:40.65 >>> Call to use_kwargs in File \"/tmp/use_kwargs.py\", line 3\n",
      "22:14:40.65 ...... names = ['y', 'z']\n",
      "22:14:40.65 ...... len(names) = 2\n",
      "22:14:40.65 ...... keep = True\n",
      "22:14:40.65    3 | def use_kwargs(names, keep=False):\n",
      "22:14:40.65    5 |     import snoop\n",
      "22:14:40.65 .......... snoop = <class 'snoop.configuration.Config.__init__.<locals>.ConfiguredTracer'>\n",
      "22:14:40.65    6 |     @snoop\n",
      "22:14:40.65    7 |     def _f(f):\n",
      "22:14:40.65 .......... _f = <function use_kwargs.<locals>._f>\n",
      "22:14:40.65   16 |     return _f\n",
      "22:14:40.65 <<< Return value from use_kwargs: <function use_kwargs.<locals>._f>\n",
      "22:14:40.65 >>> Call to use_kwargs.<locals>._f in File \"/tmp/use_kwargs.py\", line 7\n",
      "22:14:40.65 .......... f = <function foo>\n",
      "22:14:40.65 .......... keep = True\n",
      "22:14:40.65 .......... names = ['y', 'z']\n",
      "22:14:40.65 .......... len(names) = 2\n",
      "22:14:40.65    7 |     def _f(f):\n",
      "22:14:40.65    8 |         sig = inspect.signature(f)\n",
      "22:14:40.65 .............. sig = <Signature (a, *args, b=1, **kwargs)>\n",
      "22:14:40.65    9 |         sigd = dict(sig.parameters)\n",
      "22:14:40.65 .............. sigd = {'a': <Parameter \"a\">, 'args': <Parameter \"*args\">, 'b': <Parameter \"b=1\">, 'kwargs': <Parameter \"**kwargs\">}\n",
      "22:14:40.65 .............. len(sigd) = 4\n",
      "22:14:40.65   10 |         k = sigd.pop('kwargs')\n",
      "22:14:40.65 .............. k = <Parameter \"**kwargs\">\n",
      "22:14:40.65 .............. sigd = {'a': <Parameter \"a\">, 'args': <Parameter \"*args\">, 'b': <Parameter \"b=1\">}\n",
      "22:14:40.65 .............. len(sigd) = 3\n",
      "22:14:40.65   11 |         s2 = {n:_mk_param(n) for n in names if n not in sigd}\n",
      "    22:14:40.65 Dict comprehension:\n",
      "    22:14:40.65   11 |         s2 = {n:_mk_param(n) for n in names if n not in sigd}\n",
      "    22:14:40.65 .............. Iterating over <list_iterator object>\n",
      "    22:14:40.65 .............. Values of sigd: {'a': <Parameter \"a\">, 'args': <Parameter \"*args\">, 'b': <Parameter \"b=1\">}\n",
      "    22:14:40.65 .............. Values of len(sigd): 3\n",
      "    22:14:40.65 .............. Values of n: 'y', 'z'\n",
      "    22:14:40.65 Result: {'y': <Parameter \"y=None\">, 'z': <Parameter \"z=None\">}\n",
      "22:14:40.65   11 |         s2 = {n:_mk_param(n) for n in names if n not in sigd}\n",
      "22:14:40.65 .............. s2 = {'y': <Parameter \"y=None\">, 'z': <Parameter \"z=None\">}\n",
      "22:14:40.65 .............. len(s2) = 2\n",
      "22:14:40.65   12 |         sigd.update(s2)\n",
      "22:14:40.65 .............. sigd = {'a': <Parameter \"a\">, 'args': <Parameter \"*args\">, 'b': <Parameter \"b=1\">, 'y': <Parameter \"y=None\">, ...}\n",
      "22:14:40.65 .............. len(sigd) = 5\n",
      "22:14:40.65   13 |         if keep: sigd['kwargs'] = k\n",
      "22:14:40.65 ...... len(sigd) = 6\n",
      "22:14:40.65   14 |         f.__signature__ = sig.replace(parameters=sigd.values())\n",
      "22:14:40.65   15 |         return f\n",
      "22:14:40.65 <<< Return value from use_kwargs.<locals>._f: <function foo>\n"
     ]
    },
    {
     "name": "stdout",
     "output_type": "stream",
     "text": [
      "========================================================     Investigating \u001b[91;1muse_kwargs\u001b[0m     ========================================================\n",
      "==============================================================     on line \u001b[91;1mNone\u001b[0m     ==============================================================\n",
      "     with example \u001b[91;1m\n",
      "@use_kwargs(['y', 'z'], keep=True)\n",
      "def foo(a, *args, b=1, **kwargs): pass\n",
      "test_sig(foo, '(a, *args, b=1, y=None, z=None, **kwargs)')\n",
      "\u001b[0m     \n",
      "\n"
     ]
    }
   ],
   "source": [
    "fdb.snoop(deco=True)"
   ]
  },
  {
   "cell_type": "code",
   "execution_count": null,
   "id": "60278024",
   "metadata": {},
   "outputs": [],
   "source": []
  }
 ],
 "metadata": {
  "kernelspec": {
   "display_name": "Python 3 (ipykernel)",
   "language": "python",
   "name": "python3"
  }
 },
 "nbformat": 4,
 "nbformat_minor": 5
}
