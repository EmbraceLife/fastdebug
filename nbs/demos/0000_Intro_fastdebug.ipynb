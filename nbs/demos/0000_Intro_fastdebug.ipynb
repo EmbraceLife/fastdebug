{
 "cells": [
  {
   "cell_type": "markdown",
   "metadata": {},
   "source": [
    "# Introducing fastdebug\n",
    "\n",
    "> a little tool to help me explore fastai with joy and ease"
   ]
  },
  {
   "cell_type": "code",
   "execution_count": null,
   "metadata": {},
   "outputs": [],
   "source": [
    "%load_ext autoreload\n",
    "%autoreload 2"
   ]
  },
  {
   "cell_type": "markdown",
   "metadata": {},
   "source": [
    "## References I use when I explore"
   ]
  },
  {
   "cell_type": "markdown",
   "metadata": {},
   "source": [
    "### fastai style"
   ]
  },
  {
   "cell_type": "markdown",
   "metadata": {},
   "source": [
    "What is the fastai coding [style](https://docs.fast.ai/dev/style.html#style-guide)"
   ]
  },
  {
   "cell_type": "markdown",
   "metadata": {},
   "source": [
    "How to do [abbreviation](https://docs.fast.ai/dev/abbr.html) the fastai way"
   ]
  },
  {
   "cell_type": "markdown",
   "metadata": {},
   "source": [
    "A great example of how fastai libraries can make life more [comfortable](https://www.fast.ai/2019/08/06/delegation/)"
   ]
  },
  {
   "cell_type": "markdown",
   "metadata": {},
   "source": [
    "## What is the motivation behind `fastdebug` library?\n",
    "\n",
    "I have always wanted to explore and learn the fastai libraries thoroughly. However, reading source code is intimidating for beginners even for well-designed and written libraries like fastcore, fastai. So, I have relied on pdbpp to explore source code previously. To do fastai is to do exploratory coding with jupyter, but pdbpp is not working for jupyter at the moment and none of debugging tools I know exactly suit my needs. So, with the help of the amazing nbdev, I created this little library with 4 little tools to assist me explore source code and document my learning along the way.\n"
   ]
  },
  {
   "cell_type": "markdown",
   "metadata": {},
   "source": [
    "Here are the four tools:\n",
    "> Fastdb.snoop(): print out all the executed lines and local vars of the source code I am exploring\n",
    "\n",
    "> Fastdb.explore(9): start pdb at source line 9 or any srcline at my choose\n",
    "\n",
    "> Fastdb.print(10, 2): print out the 2nd part of source code, given the source code is divded into multi parts (each part has 10 lines)\n",
    "\n",
    "> Fastdb.docsrc(10, \"comments\", \"code expression1\", \"code expression2\", \"multi-line expressions\"): to document the leanring of the srcline 10"
   ]
  },
  {
   "cell_type": "markdown",
   "metadata": {},
   "source": [
    "As you should know now, this lib does two things: explore and document source code. Let's start with `Fastdb.explore` first on a simple example. If you would like to see it working on a more complex real world example, I have `fastcore.meta.FixSigMeta` [ready](./FixSigMeta.ipynb) for you.\n",
    "\n",
    "If you find anything confusing or bug-like, please inform me in this forum [post](https://forums.fast.ai/t/hidden-docs-of-fastcore/98455)."
   ]
  },
  {
   "cell_type": "markdown",
   "metadata": {},
   "source": [
    "## Fastdb.explore"
   ]
  },
  {
   "cell_type": "markdown",
   "metadata": {},
   "source": [
    "### Why not explore with pure `ipdb.set_trace`?\n",
    "\n",
    "`Fastdb.explore` is a wrapper around `ipdb.set_trace` and make my life easier when I am exploring because:\n",
    "\n",
    "> I don't need to write `from ipdb import set_trace` for every notebook\n",
    "\n",
    "> I don't need to manually open the source code file and scroll down the source code\n",
    "\n",
    "> I don't need to insert `set_trace()` above every line of source code (srcline) I want to start exploring\n",
    "\n",
    "> I don't need to remove `set_trace()` from the source code every time after exploration"
   ]
  },
  {
   "cell_type": "markdown",
   "metadata": {},
   "source": [
    "### How to use `Fastdb.explore`?\n",
    "\n",
    "Let's explore the source code of `whatinside` from `fastdebug.utils` using this tool."
   ]
  },
  {
   "cell_type": "code",
   "execution_count": null,
   "metadata": {},
   "outputs": [
    {
     "data": {
      "text/html": [
       "<style>.container { width:100% !important; }</style>"
      ],
      "text/plain": [
       "<IPython.core.display.HTML object>"
      ]
     },
     "metadata": {},
     "output_type": "display_data"
    }
   ],
   "source": [
    "from fastdebug.utils import * # for making an example \n",
    "from fastcore.test import * \n",
    "import inspect"
   ]
  },
  {
   "cell_type": "code",
   "execution_count": null,
   "metadata": {},
   "outputs": [],
   "source": [
    "import fastdebug.utils as fu"
   ]
  },
  {
   "cell_type": "code",
   "execution_count": null,
   "metadata": {},
   "outputs": [
    {
     "name": "stdout",
     "output_type": "stream",
     "text": [
      "fastdebug.utils has: \n",
      "8 items in its __all__, and \n",
      "23 user defined functions, \n",
      "1 classes or class objects, \n",
      "0 builtin funcs and methods, and\n",
      "24 callables.\n",
      "\n"
     ]
    }
   ],
   "source": [
    "whatinside(fu) # this is the example we are going to explore whatinside with"
   ]
  },
  {
   "cell_type": "code",
   "execution_count": null,
   "metadata": {},
   "outputs": [],
   "source": [
    "from fastdebug.core import * # Let's import Fastdb and its dependencies"
   ]
  },
  {
   "cell_type": "code",
   "execution_count": null,
   "metadata": {},
   "outputs": [],
   "source": [
    "# g = locals()\n",
    "# fdb = Fastdb(whatinside, outloc=g) # first, create an object of Fastdb class, using `whatinside` as param\n",
    "fdb = Fastdb(whatinside)"
   ]
  },
  {
   "cell_type": "code",
   "execution_count": null,
   "metadata": {},
   "outputs": [
    {
     "name": "stdout",
     "output_type": "stream",
     "text": [
      "def whatinside(mo, # module, e.g., `import fastcore.all as fa`, use `fa` here=============(0)       \n",
      "               dun:bool=False, # print all items in __all__===============================(1)       \n",
      "               func:bool=False, # print all user defined functions========================(2)       \n",
      "               clas:bool=False, # print all class objects=================================(3)       \n",
      "               bltin:bool=False, # print all builtin funcs or methods=====================(4)       \n",
      "               lib:bool=False, # print all the modules of the library it belongs to=======(5)       \n",
      "               cal:bool=False # print all callables=======================================(6)       \n",
      "             ): ==========================================================================(7)       \n",
      "    'Check what inside a module: `__all__`, functions, classes, builtins, and callables'==(8)       \n",
      "    dun_all = len(mo.__all__) if hasattr(mo, \"__all__\") else 0============================(9)       \n",
      "    funcs = inspect.getmembers(mo, inspect.isfunction)====================================(10)      \n",
      "    classes = inspect.getmembers(mo, inspect.isclass)=====================================(11)      \n",
      "    builtins = inspect.getmembers(mo, inspect.isbuiltin)==================================(12)      \n",
      "    callables = inspect.getmembers(mo, callable)==========================================(13)      \n",
      "    pkgpath = os.path.dirname(mo.__file__)================================================(14)      \n",
      "    if not lib:===========================================================================(15)      \n",
      "        print(f\"{mo.__name__} has: \\n{dun_all} items in its __all__, and \\n{len(funcs)} user defined functions, \\n{len(classes)} classes or class objects, \\n{len(builtins)} builtin funcs and methods, and\\n{len(callables)} callables.\\n\")  (16)\n",
      "    if hasattr(mo, \"__all__\") and dun: pprint(mo.__all__)=================================(17)      \n",
      "    if func: =============================================================================(18)      \n",
      "        print(f'The user defined functions are:')=========================================(19)      \n",
      "                                                                                                                                     part No.1 out of 2 parts\n"
     ]
    }
   ],
   "source": [
    "# 1. you can view source code in whole or in parts with the length you set, \n",
    "# and it gives you srcline idx so that you can set breakpoint with ease.\n",
    "#| column: screen\n",
    "fdb.print(20,1) "
   ]
  },
  {
   "cell_type": "code",
   "execution_count": null,
   "metadata": {},
   "outputs": [],
   "source": [
    "#| column: screen\n",
    "# 2. after viewing source code, choose a srcline idx to set breakpoint and write down why I want to explore this line\n",
    "fdb.eg = \"\"\"\n",
    "import fastdebug.utils as fu\n",
    "whatinside(fu)\n",
    "\"\"\""
   ]
  },
  {
   "cell_type": "code",
   "execution_count": null,
   "metadata": {},
   "outputs": [],
   "source": [
    "# fdb.explore(11) "
   ]
  },
  {
   "cell_type": "code",
   "execution_count": null,
   "metadata": {},
   "outputs": [],
   "source": [
    "#| column: screen\n",
    "# 2. you can set multiple breakpoints from the start if you like (but not necessary)\n",
    "# fdb.explore([11, 16, 13]) "
   ]
  },
  {
   "cell_type": "markdown",
   "metadata": {},
   "source": [
    "## Fastdb.snoop\n",
    "\n",
    "But more often I just want to have an overview of what srclines get run so that I know which lines to dive into and start documenting.\n",
    "\n",
    "Note: I borrowed `snoop` from snoop library and automated it."
   ]
  },
  {
   "cell_type": "code",
   "execution_count": null,
   "metadata": {},
   "outputs": [
    {
     "name": "stderr",
     "output_type": "stream",
     "text": [
      "06:33:11.07 >>> Call to whatinside in File \"/tmp/whatinside.py\", line 3\n",
      "06:33:11.07 ...... mo = <module 'fastdebug.utils' from '/Users/Natsume/Documents/fastdebug/fastdebug/utils.py'>\n",
      "06:33:11.07 ...... dun = False\n",
      "06:33:11.07 ...... func = False\n",
      "06:33:11.07 ...... clas = False\n",
      "06:33:11.07 ...... bltin = False\n",
      "06:33:11.07 ...... lib = False\n",
      "06:33:11.07 ...... cal = False\n",
      "06:33:11.07    3 | def whatinside(mo, # module, e.g., `import fastcore.all as fa`, use `fa` here\n",
      "06:33:11.07   12 |     dun_all = len(mo.__all__) if hasattr(mo, \"__all__\") else 0\n",
      "06:33:11.07 .......... dun_all = 8\n",
      "06:33:11.07   13 |     funcs = inspect.getmembers(mo, inspect.isfunction)\n",
      "06:33:11.07 .......... funcs = [('distribution', <function distribution>), ('expandcell', <function expandcell>), ('inspect_class', <function inspect_class>), ..., ('version', <function version>), ('whatinside', <function whatinside>), ('whichversion', <function whichversion>)]\n",
      "06:33:11.07 .......... len(funcs) = 23\n",
      "06:33:11.07   14 |     classes = inspect.getmembers(mo, inspect.isclass)\n",
      "06:33:11.07 .......... classes = [('ExceptionExpected', <class 'fastcore.test.ExceptionExpected'>)]\n",
      "06:33:11.07 .......... len(classes) = 1\n",
      "06:33:11.07   15 |     builtins = inspect.getmembers(mo, inspect.isbuiltin)\n",
      "06:33:11.07 .......... builtins = []\n",
      "06:33:11.07   16 |     callables = inspect.getmembers(mo, callable)\n",
      "06:33:11.07 .......... callables = [('ExceptionExpected', <class 'fastcore.test.ExceptionExpected'>), ('distribution', <function distribution>), ('expandcell', <function expandcell>), ..., ('version', <function version>), ('whatinside', <function whatinside>), ('whichversion', <function whichversion>)]\n",
      "06:33:11.07 .......... len(callables) = 24\n",
      "06:33:11.07   17 |     pkgpath = os.path.dirname(mo.__file__)\n",
      "06:33:11.07 .......... pkgpath = '/Users/Natsume/Documents/fastdebug/fastdebug'\n",
      "06:33:11.07   18 |     if not lib:\n",
      "06:33:11.07   19 |         print(f\"{mo.__name__} has: \\n{dun_all} items in its __all__, and \\n{len(funcs)} user defined functions, \\n{len(classes)} classes or class objects, \\n{len(builtins)} builtin funcs and methods, and\\n{len(callables)} callables.\\n\")  \n",
      "06:33:11.07   20 |     if hasattr(mo, \"__all__\") and dun: pprint(mo.__all__)\n",
      "06:33:11.08   21 |     if func: \n",
      "06:33:11.08   24 |     if clas: \n",
      "06:33:11.08   27 |     if bltin: \n",
      "06:33:11.08   30 |     if cal: \n",
      "06:33:11.08   33 |     if lib: \n",
      "06:33:11.08 <<< Return value from whatinside: None\n"
     ]
    },
    {
     "name": "stdout",
     "output_type": "stream",
     "text": [
      "========================================================     Investigating \u001b[91;1mwhatinside\u001b[0m     ========================================================\n",
      "==============================================================     on line \u001b[91;1mNone\u001b[0m     ==============================================================\n",
      "=======================================     with example \u001b[91;1m\n",
      "import fastdebug.utils as fu\n",
      "whatinside(fu)\n",
      "\u001b[0m     =======================================\n",
      "\n",
      "fastdebug.utils has: \n",
      "8 items in its __all__, and \n",
      "23 user defined functions, \n",
      "1 classes or class objects, \n",
      "0 builtin funcs and methods, and\n",
      "24 callables.\n",
      "\n"
     ]
    }
   ],
   "source": [
    "fdb.snoop()"
   ]
  },
  {
   "cell_type": "markdown",
   "metadata": {},
   "source": [
    "## Fastdb.docsrc"
   ]
  },
  {
   "cell_type": "markdown",
   "metadata": {},
   "source": [
    "After exploring and snooping, if I realize there is something new to learn and maybe want to come back for a second look, I find `ipdb` and the alike are not designed to document my learning. So, I created `docsrc` to make my life easier in the following ways:\n",
    "\n",
    "> I won't need to scroll through a long cell output of pdb commands, src prints and results to find what I learnt during exploration\n",
    "\n",
    "> I won't need to type all the expressions during last exploration to regenerate the findings for me\n",
    "\n",
    "> I can choose any srclines to explore and write any sinlge or multi-line expressions to evaluate the srcline\n",
    "\n",
    "> I can write down what I learn or what is new on any srcline as comment, and all comments are attached to the src code for review\n",
    "\n",
    "> All expressions with results and comments for each srcline under exploration are documented for easy reviews\n",
    "\n",
    "> Of course, no worry about your original source code, as it is untouched.\n"
   ]
  },
  {
   "cell_type": "markdown",
   "metadata": {},
   "source": [
    "### Import"
   ]
  },
  {
   "cell_type": "code",
   "execution_count": null,
   "metadata": {},
   "outputs": [],
   "source": [
    "from fastdebug.core import * # to make Fastdb available\n",
    "from fastdebug.utils import whatinside # for making an example "
   ]
  },
  {
   "cell_type": "markdown",
   "metadata": {},
   "source": [
    "### Initiating"
   ]
  },
  {
   "cell_type": "code",
   "execution_count": null,
   "metadata": {},
   "outputs": [],
   "source": [
    "g = locals()\n",
    "fdb = Fastdb(whatinside, outloc=g) # use either fu.whatinside or whatinside is fine"
   ]
  },
  {
   "cell_type": "code",
   "execution_count": null,
   "metadata": {},
   "outputs": [
    {
     "name": "stdout",
     "output_type": "stream",
     "text": [
      "def whatinside(mo, # module, e.g., `import fastcore.all as fa`, use `fa` here=============(0)       \n",
      "               dun:bool=False, # print all items in __all__===============================(1)       \n",
      "               func:bool=False, # print all user defined functions========================(2)       \n",
      "               clas:bool=False, # print all class objects=================================(3)       \n",
      "               bltin:bool=False, # print all builtin funcs or methods=====================(4)       \n",
      "               lib:bool=False, # print all the modules of the library it belongs to=======(5)       \n",
      "               cal:bool=False # print all callables=======================================(6)       \n",
      "             ): ==========================================================================(7)       \n",
      "    'Check what inside a module: `__all__`, functions, classes, builtins, and callables'==(8)       \n",
      "    dun_all = len(mo.__all__) if hasattr(mo, \"__all__\") else 0============================(9)       \n",
      "    funcs = inspect.getmembers(mo, inspect.isfunction)====================================(10)      \n",
      "    classes = inspect.getmembers(mo, inspect.isclass)=====================================(11)      \n",
      "    builtins = inspect.getmembers(mo, inspect.isbuiltin)==================================(12)      \n",
      "    callables = inspect.getmembers(mo, callable)==========================================(13)      \n",
      "    pkgpath = os.path.dirname(mo.__file__)================================================(14)      \n",
      "    if not lib:===========================================================================(15)      \n",
      "        print(f\"{mo.__name__} has: \\n{dun_all} items in its __all__, and \\n{len(funcs)} user defined functions, \\n{len(classes)} classes or class objects, \\n{len(builtins)} builtin funcs and methods, and\\n{len(callables)} callables.\\n\")  (16)\n",
      "    if hasattr(mo, \"__all__\") and dun: pprint(mo.__all__)=================================(17)      \n",
      "    if func: =============================================================================(18)      \n",
      "        print(f'The user defined functions are:')=========================================(19)      \n",
      "                                                                                                                                     part No.1 out of 2 parts\n"
     ]
    }
   ],
   "source": [
    "#| column: screen\n",
    "fdb.print(maxlines=20, part=1) # view the source code with idx "
   ]
  },
  {
   "cell_type": "markdown",
   "metadata": {},
   "source": [
    "### What does the first line do?"
   ]
  },
  {
   "cell_type": "code",
   "execution_count": null,
   "metadata": {},
   "outputs": [],
   "source": [
    "fdb.eg = \"whatinside(fu)\""
   ]
  },
  {
   "cell_type": "code",
   "execution_count": null,
   "metadata": {},
   "outputs": [
    {
     "name": "stdout",
     "output_type": "stream",
     "text": [
      "========================================================     Investigating \u001b[91;1mwhatinside\u001b[0m     ========================================================\n",
      "===============================================================     on line \u001b[91;1m9\u001b[0m     ================================================================\n",
      "======================================================     with example \u001b[91;1mwhatinside(fu)\u001b[0m     =======================================================\n",
      "\n",
      "\u001b[93;1mprint selected srcline with expands below\u001b[0m--------\n",
      "             ):                                                                                                                                         (7)\n",
      "    'Check what inside a module: `__all__`, functions, classes, builtins, and callables'                                                                (8)\n",
      "    dun_all = len(mo.__all__) if hasattr(mo, \"__all__\") else 0==========================================================================================(9)\n",
      "                                                                                                                            \u001b[91;1mhow many items inside mo.__all__?\u001b[0m\n",
      "    funcs = inspect.getmembers(mo, inspect.isfunction)                                                                                                  (10)\n",
      "    classes = inspect.getmembers(mo, inspect.isclass)                                                                                                   (11)\n",
      "\n",
      "==================================================================================================================\u001b[91;1mStart of my srcline exploration:\u001b[0m\n",
      "\n",
      "\n",
      "                                                           mo => mo : <module 'fastdebug.utils' from '/Users/Natsume/Documents/fastdebug/fastdebug/utils.py'>\n",
      "\n",
      "\n",
      "if hasattr(mo, '__all__'):\n",
      "    printright(f'mo: {mo}')\n",
      "    printright(f'mo.__all__: {mo.__all__}')\n",
      "    printright(f'len(mo.__all__): {len(mo.__all__)}')     \n",
      "\n",
      "Running the code block above => ====================================================================\n",
      "\n",
      "                                                                  mo: <module 'fastdebug.utils' from '/Users/Natsume/Documents/fastdebug/fastdebug/utils.py'>\n",
      "                                     mo.__all__: ['expand', 'test_eq', 'test_is', 'expandcell', 'inspect_class', 'ismetaclass', 'whatinside', 'whichversion']\n",
      "                                                                                                                                           len(mo.__all__): 8\n",
      "====================================================================================================================\u001b[91;1mEnd of my srcline exploration:\u001b[0m\n",
      "\n",
      "fastdebug.utils has: \n",
      "8 items in its __all__, and \n",
      "23 user defined functions, \n",
      "1 classes or class objects, \n",
      "0 builtin funcs and methods, and\n",
      "24 callables.\n",
      "\n",
      "\n",
      "\u001b[93;1mReview srcode with all comments added so far\u001b[0m======================================================================================================\n",
      "def whatinside(mo, # module, e.g., `import fastcore.all as fa`, use `fa` here=============(0)       \n",
      "               dun:bool=False, # print all items in __all__===============================(1)       \n",
      "               func:bool=False, # print all user defined functions========================(2)       \n",
      "               clas:bool=False, # print all class objects=================================(3)       \n",
      "               bltin:bool=False, # print all builtin funcs or methods=====================(4)       \n",
      "               lib:bool=False, # print all the modules of the library it belongs to=======(5)       \n",
      "               cal:bool=False # print all callables=======================================(6)       \n",
      "             ): ==========================================================================(7)       \n",
      "    'Check what inside a module: `__all__`, functions, classes, builtins, and callables'==(8)       \n",
      "    dun_all = len(mo.__all__) if hasattr(mo, \"__all__\") else 0============================(9) # \u001b[37;1mhow many items inside mo.__all__?\u001b[0m; \n",
      "    funcs = inspect.getmembers(mo, inspect.isfunction)====================================(10)      \n",
      "    classes = inspect.getmembers(mo, inspect.isclass)=====================================(11)      \n",
      "    builtins = inspect.getmembers(mo, inspect.isbuiltin)==================================(12)      \n",
      "    callables = inspect.getmembers(mo, callable)==========================================(13)      \n",
      "    pkgpath = os.path.dirname(mo.__file__)================================================(14)      \n",
      "    if not lib:===========================================================================(15)      \n",
      "        print(f\"{mo.__name__} has: \\n{dun_all} items in its __all__, and \\n{len(funcs)} user defined functions, \\n{len(classes)} classes or class objects, \\n{len(builtins)} builtin funcs and methods, and\\n{len(callables)} callables.\\n\")  (16)\n",
      "    if hasattr(mo, \"__all__\") and dun: pprint(mo.__all__)=================================(17)      \n",
      "    if func: =============================================================================(18)      \n",
      "        print(f'The user defined functions are:')=========================================(19)      \n",
      "                                                                                                                                     part No.1 out of 2 parts\n",
      "\n"
     ]
    }
   ],
   "source": [
    "#| column: screen\n",
    "fdb.docsrc(9, \"how many items inside mo.__all__?\", \"mo\", \\\n",
    "\"if hasattr(mo, '__all__'):\\\\n\\\n",
    "    printright(f'mo: {mo}')\\\\n\\\n",
    "    printright(f'mo.__all__: {mo.__all__}')\\\\n\\\n",
    "    printright(f'len(mo.__all__): {len(mo.__all__)}')\") "
   ]
  },
  {
   "cell_type": "code",
   "execution_count": null,
   "metadata": {},
   "outputs": [
    {
     "name": "stdout",
     "output_type": "stream",
     "text": [
      "========================================================     Investigating \u001b[91;1mwhatinside\u001b[0m     ========================================================\n",
      "===============================================================     on line \u001b[91;1m10\u001b[0m     ===============================================================\n",
      "======================================================     with example \u001b[91;1mwhatinside(fu)\u001b[0m     =======================================================\n",
      "\n",
      "\u001b[93;1mprint selected srcline with expands below\u001b[0m--------\n",
      "    'Check what inside a module: `__all__`, functions, classes, builtins, and callables'                                                                (8)\n",
      "    dun_all = len(mo.__all__) if hasattr(mo, \"__all__\") else 0                                                                                          (9)\n",
      "    funcs = inspect.getmembers(mo, inspect.isfunction)==================================================================================================(10)\n",
      "                                                                                                                                    \u001b[91;1mget all funcs of a module\u001b[0m\n",
      "    classes = inspect.getmembers(mo, inspect.isclass)                                                                                                   (11)\n",
      "    builtins = inspect.getmembers(mo, inspect.isbuiltin)                                                                                                (12)\n",
      "\n",
      "==================================================================================================================\u001b[91;1mStart of my srcline exploration:\u001b[0m\n",
      "\n",
      "\n",
      "                                                           mo => mo : <module 'fastdebug.utils' from '/Users/Natsume/Documents/fastdebug/fastdebug/utils.py'>\n",
      "\n",
      "\n",
      "inspect.getdoc(inspect.isfunction) => inspect.getdoc(inspect.isfunction) : Return true if the object is a user-defined function.\n",
      "\n",
      "Function objects provide these attributes:\n",
      "    __doc__         documentation string\n",
      "    __name__        name with which this function was defined\n",
      "    __code__        code object containing compiled function bytecode\n",
      "    __defaults__    tuple of any default values for arguments\n",
      "    __globals__     global namespace in which this function was defined\n",
      "    __annotations__ dict of parameter annotations\n",
      "    __kwdefaults__  dict of keyword only parameters with defaults\n",
      "\n",
      "\n",
      "inspect.getdoc(inspect.getmembers) => inspect.getdoc(inspect.getmembers) : Return all members of an object as (name, value) pairs sorted by name.\n",
      "Optionally, only return members that satisfy a given predicate.\n",
      "\n",
      "\n",
      "funcs = inspect.getmembers(mo, inspect.isfunction) => funcs: [('distribution', <function distribution>), ('expandcell', <function expandcell>), ('inspect_class', <function inspect_class>), ('is_close', <function is_close>), ('ismetaclass', <function ismetaclass>), ('metadata', <function metadata>), ('nequals', <function nequals>), ('pprint', <function pprint>), ('python_version', <function python_version>), ('test', <function test>), ('test_close', <function test_close>), ('test_eq', <function test_eq>), ('test_eq_type', <function test_eq_type>), ('test_fail', <function test_fail>), ('test_fig_exists', <function test_fig_exists>), ('test_is', <function test_is>), ('test_ne', <function test_ne>), ('test_shuffled', <function test_shuffled>), ('test_stdout', <function test_stdout>), ('test_warns', <function test_warns>), ('version', <function version>), ('whatinside', <function whatinside>), ('whichversion', <function whichversion>)]\n",
      "====================================================================================================================\u001b[91;1mEnd of my srcline exploration:\u001b[0m\n",
      "\n",
      "fastdebug.utils has: \n",
      "8 items in its __all__, and \n",
      "23 user defined functions, \n",
      "1 classes or class objects, \n",
      "0 builtin funcs and methods, and\n",
      "24 callables.\n",
      "\n",
      "\n",
      "\u001b[93;1mReview srcode with all comments added so far\u001b[0m======================================================================================================\n",
      "def whatinside(mo, # module, e.g., `import fastcore.all as fa`, use `fa` here=============(0)       \n",
      "               dun:bool=False, # print all items in __all__===============================(1)       \n",
      "               func:bool=False, # print all user defined functions========================(2)       \n",
      "               clas:bool=False, # print all class objects=================================(3)       \n",
      "               bltin:bool=False, # print all builtin funcs or methods=====================(4)       \n",
      "               lib:bool=False, # print all the modules of the library it belongs to=======(5)       \n",
      "               cal:bool=False # print all callables=======================================(6)       \n",
      "             ): ==========================================================================(7)       \n",
      "    'Check what inside a module: `__all__`, functions, classes, builtins, and callables'==(8)       \n",
      "    dun_all = len(mo.__all__) if hasattr(mo, \"__all__\") else 0============================(9) # \u001b[92;1mhow many items inside mo.__all__?\u001b[0m; \n",
      "    funcs = inspect.getmembers(mo, inspect.isfunction)====================================(10) # \u001b[34;1mget all funcs of a module\u001b[0m; \n",
      "    classes = inspect.getmembers(mo, inspect.isclass)=====================================(11)      \n",
      "    builtins = inspect.getmembers(mo, inspect.isbuiltin)==================================(12)      \n",
      "    callables = inspect.getmembers(mo, callable)==========================================(13)      \n",
      "    pkgpath = os.path.dirname(mo.__file__)================================================(14)      \n",
      "    if not lib:===========================================================================(15)      \n",
      "        print(f\"{mo.__name__} has: \\n{dun_all} items in its __all__, and \\n{len(funcs)} user defined functions, \\n{len(classes)} classes or class objects, \\n{len(builtins)} builtin funcs and methods, and\\n{len(callables)} callables.\\n\")  (16)\n",
      "    if hasattr(mo, \"__all__\") and dun: pprint(mo.__all__)=================================(17)      \n",
      "    if func: =============================================================================(18)      \n",
      "        print(f'The user defined functions are:')=========================================(19)      \n",
      "                                                                                                                                     part No.1 out of 2 parts\n",
      "\n"
     ]
    }
   ],
   "source": [
    "#| column: screen\n",
    "dbsrc = fdb.docsrc(10, \"get all funcs of a module\", \"mo\", \"inspect.getdoc(inspect.isfunction)\", \\\n",
    "            \"inspect.getdoc(inspect.getmembers)\", \"funcs = inspect.getmembers(mo, inspect.isfunction)\")"
   ]
  },
  {
   "cell_type": "markdown",
   "metadata": {},
   "source": [
    "### If I find the src is too long, and I customize the print out of src the way I like"
   ]
  },
  {
   "cell_type": "code",
   "execution_count": null,
   "metadata": {},
   "outputs": [
    {
     "name": "stdout",
     "output_type": "stream",
     "text": [
      "def whatinside(mo, # module, e.g., `import fastcore.all as fa`, use `fa` here=============(0)       \n",
      "               dun:bool=False, # print all items in __all__===============================(1)       \n",
      "               func:bool=False, # print all user defined functions========================(2)       \n",
      "               clas:bool=False, # print all class objects=================================(3)       \n",
      "               bltin:bool=False, # print all builtin funcs or methods=====================(4)       \n",
      "               lib:bool=False, # print all the modules of the library it belongs to=======(5)       \n",
      "               cal:bool=False # print all callables=======================================(6)       \n",
      "             ): ==========================================================================(7)       \n",
      "    'Check what inside a module: `__all__`, functions, classes, builtins, and callables'==(8)       \n",
      "    dun_all = len(mo.__all__) if hasattr(mo, \"__all__\") else 0============================(9) # \u001b[36;1mhow many items inside mo.__all__?\u001b[0m; \n",
      "    funcs = inspect.getmembers(mo, inspect.isfunction)====================================(10) # \u001b[92;1mget all funcs of a module\u001b[0m; \n",
      "    classes = inspect.getmembers(mo, inspect.isclass)=====================================(11)      \n",
      "    builtins = inspect.getmembers(mo, inspect.isbuiltin)==================================(12)      \n",
      "    callables = inspect.getmembers(mo, callable)==========================================(13)      \n",
      "    pkgpath = os.path.dirname(mo.__file__)================================================(14)      \n",
      "                                                                                                                                     part No.1 out of 3 parts\n"
     ]
    }
   ],
   "source": [
    "#| column: screen\n",
    "fdb.print(maxlines=15, part=1)"
   ]
  },
  {
   "cell_type": "markdown",
   "metadata": {},
   "source": [
    "### I can write a block of codes to evaluate"
   ]
  },
  {
   "cell_type": "code",
   "execution_count": null,
   "metadata": {},
   "outputs": [],
   "source": [
    "import fastcore.meta as core"
   ]
  },
  {
   "cell_type": "code",
   "execution_count": null,
   "metadata": {},
   "outputs": [
    {
     "name": "stdout",
     "output_type": "stream",
     "text": [
      "========================================================     Investigating \u001b[91;1mwhatinside\u001b[0m     ========================================================\n",
      "===============================================================     on line \u001b[91;1m11\u001b[0m     ===============================================================\n",
      "=====================================================     with example \u001b[91;1mwhatinside(core)\u001b[0m     ======================================================\n",
      "\n",
      "\u001b[93;1mprint selected srcline with expands below\u001b[0m--------\n",
      "    dun_all = len(mo.__all__) if hasattr(mo, \"__all__\") else 0                                                                                          (9)\n",
      "    funcs = inspect.getmembers(mo, inspect.isfunction)                                                                                                  (10)\n",
      "    classes = inspect.getmembers(mo, inspect.isclass)===================================================================================================(11)\n",
      "                                                                                                                              \u001b[91;1mget all classes from the module\u001b[0m\n",
      "    builtins = inspect.getmembers(mo, inspect.isbuiltin)                                                                                                (12)\n",
      "    callables = inspect.getmembers(mo, callable)                                                                                                        (13)\n",
      "\n",
      "==================================================================================================================\u001b[91;1mStart of my srcline exploration:\u001b[0m\n",
      "\n",
      "\n",
      "clas = inspect.getmembers(mo, inspect.isclass)\n",
      "for c in clas:\n",
      "    print(c)                                                                                   \n",
      "\n",
      "Running the code block above => ====================================================================\n",
      "\n",
      "('AutoInit', <class 'fastcore.meta.AutoInit'>)\n",
      "('BuiltinFunctionType', <class 'builtin_function_or_method'>)\n",
      "('BuiltinMethodType', <class 'builtin_function_or_method'>)\n",
      "('BypassNewMeta', <class 'fastcore.meta.BypassNewMeta'>)\n",
      "('ExceptionExpected', <class 'fastcore.test.ExceptionExpected'>)\n",
      "('FixSigMeta', <class 'fastcore.meta.FixSigMeta'>)\n",
      "('FunctionType', <class 'function'>)\n",
      "('MethodDescriptorType', <class 'method_descriptor'>)\n",
      "('MethodType', <class 'method'>)\n",
      "('MethodWrapperType', <class 'method-wrapper'>)\n",
      "('NewChkMeta', <class 'fastcore.meta.NewChkMeta'>)\n",
      "('NoneType', <class 'NoneType'>)\n",
      "('Path', <class 'pathlib.Path'>)\n",
      "('PrePostInitMeta', <class 'fastcore.meta.PrePostInitMeta'>)\n",
      "('SimpleNamespace', <class 'types.SimpleNamespace'>)\n",
      "('WrapperDescriptorType', <class 'wrapper_descriptor'>)\n",
      "('attrgetter', <class 'operator.attrgetter'>)\n",
      "('itemgetter', <class 'operator.itemgetter'>)\n",
      "('partial', <class 'functools.partial'>)\n",
      "====================================================================================================================\u001b[91;1mEnd of my srcline exploration:\u001b[0m\n",
      "\n",
      "fastcore.meta has: \n",
      "13 items in its __all__, and \n",
      "43 user defined functions, \n",
      "19 classes or class objects, \n",
      "2 builtin funcs and methods, and\n",
      "74 callables.\n",
      "\n",
      "\n",
      "\u001b[93;1mReview srcode with all comments added so far\u001b[0m======================================================================================================\n",
      "def whatinside(mo, # module, e.g., `import fastcore.all as fa`, use `fa` here=============(0)       \n",
      "               dun:bool=False, # print all items in __all__===============================(1)       \n",
      "               func:bool=False, # print all user defined functions========================(2)       \n",
      "               clas:bool=False, # print all class objects=================================(3)       \n",
      "               bltin:bool=False, # print all builtin funcs or methods=====================(4)       \n",
      "               lib:bool=False, # print all the modules of the library it belongs to=======(5)       \n",
      "               cal:bool=False # print all callables=======================================(6)       \n",
      "             ): ==========================================================================(7)       \n",
      "    'Check what inside a module: `__all__`, functions, classes, builtins, and callables'==(8)       \n",
      "    dun_all = len(mo.__all__) if hasattr(mo, \"__all__\") else 0============================(9) # \u001b[92;1mhow many items inside mo.__all__?\u001b[0m; \n",
      "    funcs = inspect.getmembers(mo, inspect.isfunction)====================================(10) # \u001b[93;1mget all funcs of a module\u001b[0m; \n",
      "    classes = inspect.getmembers(mo, inspect.isclass)=====================================(11) # \u001b[35;1mget all classes from the module\u001b[0m; \n",
      "    builtins = inspect.getmembers(mo, inspect.isbuiltin)==================================(12)      \n",
      "    callables = inspect.getmembers(mo, callable)==========================================(13)      \n",
      "    pkgpath = os.path.dirname(mo.__file__)================================================(14)      \n",
      "    if not lib:===========================================================================(15)      \n",
      "        print(f\"{mo.__name__} has: \\n{dun_all} items in its __all__, and \\n{len(funcs)} user defined functions, \\n{len(classes)} classes or class objects, \\n{len(builtins)} builtin funcs and methods, and\\n{len(callables)} callables.\\n\")  (16)\n",
      "    if hasattr(mo, \"__all__\") and dun: pprint(mo.__all__)=================================(17)      \n",
      "    if func: =============================================================================(18)      \n",
      "        print(f'The user defined functions are:')=========================================(19)      \n",
      "                                                                                                                                     part No.1 out of 2 parts\n",
      "\n"
     ]
    }
   ],
   "source": [
    "#| column: screen\n",
    "# fdb.takExample(\"whatinside(core)\", whatinside=whatinside, core=core)\n",
    "fdb.eg = \"whatinside(core)\"\n",
    "dbsrc = fdb.docsrc(11, \"get all classes from the module\", \\\n",
    "\"clas = inspect.getmembers(mo, inspect.isclass)\\\\n\\\n",
    "for c in clas:\\\\n\\\n",
    "    print(c)\")"
   ]
  },
  {
   "cell_type": "code",
   "execution_count": null,
   "metadata": {},
   "outputs": [
    {
     "name": "stdout",
     "output_type": "stream",
     "text": [
      "========================================================     Investigating \u001b[91;1mwhatinside\u001b[0m     ========================================================\n",
      "===============================================================     on line \u001b[91;1m14\u001b[0m     ===============================================================\n",
      "=====================================================     with example \u001b[91;1mwhatinside(core)\u001b[0m     ======================================================\n",
      "\n",
      "\u001b[93;1mprint selected srcline with expands below\u001b[0m--------\n",
      "    builtins = inspect.getmembers(mo, inspect.isbuiltin)                                                                                                (12)\n",
      "    callables = inspect.getmembers(mo, callable)                                                                                                        (13)\n",
      "    pkgpath = os.path.dirname(mo.__file__)==============================================================================================================(14)\n",
      "                                                                                                                              \u001b[91;1mget the file path of the module\u001b[0m\n",
      "    if not lib:                                                                                                                                         (15)\n",
      "        print(f\"{mo.__name__} has: \\n{dun_all} items in its __all__, and \\n{len(funcs)} user defined functions, \\n{len(classes)} classes or class objects, \\n{len(builtins)} builtin funcs and methods, and\\n{len(callables)} callables.\\n\")  (16)\n",
      "\n",
      "==================================================================================================================\u001b[91;1mStart of my srcline exploration:\u001b[0m\n",
      "\n",
      "\n",
      "                                                          mo.__file__ => mo.__file__ : /Users/Natsume/mambaforge/lib/python3.9/site-packages/fastcore/meta.py\n",
      "\n",
      "\n",
      "                                           inspect.getdoc(os.path.dirname) => inspect.getdoc(os.path.dirname) : Returns the directory component of a pathname\n",
      "\n",
      "\n",
      "                                            pkgpath = os.path.dirname(mo.__file__) => pkgpath: /Users/Natsume/mambaforge/lib/python3.9/site-packages/fastcore\n",
      "====================================================================================================================\u001b[91;1mEnd of my srcline exploration:\u001b[0m\n",
      "\n",
      "fastcore.meta has: \n",
      "13 items in its __all__, and \n",
      "43 user defined functions, \n",
      "19 classes or class objects, \n",
      "2 builtin funcs and methods, and\n",
      "74 callables.\n",
      "\n",
      "\n",
      "\u001b[93;1mReview srcode with all comments added so far\u001b[0m======================================================================================================\n",
      "def whatinside(mo, # module, e.g., `import fastcore.all as fa`, use `fa` here=============(0)       \n",
      "               dun:bool=False, # print all items in __all__===============================(1)       \n",
      "               func:bool=False, # print all user defined functions========================(2)       \n",
      "               clas:bool=False, # print all class objects=================================(3)       \n",
      "               bltin:bool=False, # print all builtin funcs or methods=====================(4)       \n",
      "               lib:bool=False, # print all the modules of the library it belongs to=======(5)       \n",
      "               cal:bool=False # print all callables=======================================(6)       \n",
      "             ): ==========================================================================(7)       \n",
      "    'Check what inside a module: `__all__`, functions, classes, builtins, and callables'==(8)       \n",
      "    dun_all = len(mo.__all__) if hasattr(mo, \"__all__\") else 0============================(9) # \u001b[93;1mhow many items inside mo.__all__?\u001b[0m; \n",
      "    funcs = inspect.getmembers(mo, inspect.isfunction)====================================(10) # \u001b[92;1mget all funcs of a module\u001b[0m; \n",
      "    classes = inspect.getmembers(mo, inspect.isclass)=====================================(11) # \u001b[93;1mget all classes from the module\u001b[0m; \n",
      "    builtins = inspect.getmembers(mo, inspect.isbuiltin)==================================(12)      \n",
      "    callables = inspect.getmembers(mo, callable)==========================================(13)      \n",
      "    pkgpath = os.path.dirname(mo.__file__)================================================(14) # \u001b[93;1mget the file path of the module\u001b[0m; \n",
      "    if not lib:===========================================================================(15)      \n",
      "        print(f\"{mo.__name__} has: \\n{dun_all} items in its __all__, and \\n{len(funcs)} user defined functions, \\n{len(classes)} classes or class objects, \\n{len(builtins)} builtin funcs and methods, and\\n{len(callables)} callables.\\n\")  (16)\n",
      "    if hasattr(mo, \"__all__\") and dun: pprint(mo.__all__)=================================(17)      \n",
      "    if func: =============================================================================(18)      \n",
      "        print(f'The user defined functions are:')=========================================(19)      \n",
      "                                                                                                                                     part No.1 out of 2 parts\n",
      "\n"
     ]
    }
   ],
   "source": [
    "#| column: screen\n",
    "dbsrc = fdb.docsrc(14, \"get the file path of the module\", \"mo.__file__\", \"inspect.getdoc(os.path.dirname)\", \"pkgpath = os.path.dirname(mo.__file__)\")"
   ]
  },
  {
   "cell_type": "code",
   "execution_count": null,
   "metadata": {},
   "outputs": [
    {
     "name": "stdout",
     "output_type": "stream",
     "text": [
      "========================================================     Investigating \u001b[91;1mwhatinside\u001b[0m     ========================================================\n",
      "===============================================================     on line \u001b[91;1m30\u001b[0m     ===============================================================\n",
      "================================================     with example \u001b[91;1mwhatinside(core, lib=True)\u001b[0m     =================================================\n",
      "\n",
      "\u001b[93;1mprint selected srcline with expands below\u001b[0m--------\n",
      "        print(f'The callables are: ')                                                                                                                   (28)\n",
      "        pprint([i[0] for i in callables])                                                                                                               (29)\n",
      "    if lib: ============================================================================================================================================(30)\n",
      "                                                                                                                            \u001b[91;1mget names of all modules of a lib\u001b[0m\n",
      "        modules = [name for _, name, _ in pkgutil.iter_modules([pkgpath])]                                                                              (31)\n",
      "        print(f'The library has {len(modules)} modules')                                                                                                (32)\n",
      "\n",
      "==================================================================================================================\u001b[91;1mStart of my srcline exploration:\u001b[0m\n",
      "\n",
      "\n",
      "                                                                          pkgpath => pkgpath : /Users/Natsume/mambaforge/lib/python3.9/site-packages/fastcore\n",
      "\n",
      "\n",
      "inspect.getdoc(pkgutil.iter_modules) => inspect.getdoc(pkgutil.iter_modules) : Yields ModuleInfo for all submodules on path,\n",
      "or, if path is None, all top-level modules on sys.path.\n",
      "\n",
      "'path' should be either None or a list of paths to look for\n",
      "modules in.\n",
      "\n",
      "'prefix' is a string to output on the front of every module name\n",
      "on output.\n",
      "\n",
      "\n",
      "for a, b, c in pkgutil.iter_modules([pkgpath]):\n",
      "    printright(f'{a} ; {b}; {c}')                                                                            \n",
      "\n",
      "Running the code block above => ====================================================================\n",
      "\n",
      "                                                                FileFinder('/Users/Natsume/mambaforge/lib/python3.9/site-packages/fastcore') ; _modidx; False\n",
      "                                                                 FileFinder('/Users/Natsume/mambaforge/lib/python3.9/site-packages/fastcore') ; _nbdev; False\n",
      "                                                                    FileFinder('/Users/Natsume/mambaforge/lib/python3.9/site-packages/fastcore') ; all; False\n",
      "                                                                 FileFinder('/Users/Natsume/mambaforge/lib/python3.9/site-packages/fastcore') ; basics; False\n",
      "                                                               FileFinder('/Users/Natsume/mambaforge/lib/python3.9/site-packages/fastcore') ; dispatch; False\n",
      "                                                               FileFinder('/Users/Natsume/mambaforge/lib/python3.9/site-packages/fastcore') ; docments; False\n",
      "                                                              FileFinder('/Users/Natsume/mambaforge/lib/python3.9/site-packages/fastcore') ; docscrape; False\n",
      "                                                             FileFinder('/Users/Natsume/mambaforge/lib/python3.9/site-packages/fastcore') ; foundation; False\n",
      "                                                                FileFinder('/Users/Natsume/mambaforge/lib/python3.9/site-packages/fastcore') ; imports; False\n",
      "                                                                   FileFinder('/Users/Natsume/mambaforge/lib/python3.9/site-packages/fastcore') ; meta; False\n",
      "                                                             FileFinder('/Users/Natsume/mambaforge/lib/python3.9/site-packages/fastcore') ; nb_imports; False\n",
      "                                                                    FileFinder('/Users/Natsume/mambaforge/lib/python3.9/site-packages/fastcore') ; net; False\n",
      "                                                               FileFinder('/Users/Natsume/mambaforge/lib/python3.9/site-packages/fastcore') ; parallel; False\n",
      "                                                                 FileFinder('/Users/Natsume/mambaforge/lib/python3.9/site-packages/fastcore') ; script; False\n",
      "                                                                 FileFinder('/Users/Natsume/mambaforge/lib/python3.9/site-packages/fastcore') ; shutil; False\n",
      "                                                                  FileFinder('/Users/Natsume/mambaforge/lib/python3.9/site-packages/fastcore') ; style; False\n",
      "                                                                   FileFinder('/Users/Natsume/mambaforge/lib/python3.9/site-packages/fastcore') ; test; False\n",
      "                                                              FileFinder('/Users/Natsume/mambaforge/lib/python3.9/site-packages/fastcore') ; transform; False\n",
      "                                                                  FileFinder('/Users/Natsume/mambaforge/lib/python3.9/site-packages/fastcore') ; utils; False\n",
      "                                                                    FileFinder('/Users/Natsume/mambaforge/lib/python3.9/site-packages/fastcore') ; xdg; False\n",
      "                                                                  FileFinder('/Users/Natsume/mambaforge/lib/python3.9/site-packages/fastcore') ; xtras; False\n",
      "====================================================================================================================\u001b[91;1mEnd of my srcline exploration:\u001b[0m\n",
      "\n",
      "The library has 21 modules\n",
      "['_modidx',\n",
      " '_nbdev',\n",
      " 'all',\n",
      " 'basics',\n",
      " 'dispatch',\n",
      " 'docments',\n",
      " 'docscrape',\n",
      " 'foundation',\n",
      " 'imports',\n",
      " 'meta',\n",
      " 'nb_imports',\n",
      " 'net',\n",
      " 'parallel',\n",
      " 'script',\n",
      " 'shutil',\n",
      " 'style',\n",
      " 'test',\n",
      " 'transform',\n",
      " 'utils',\n",
      " 'xdg',\n",
      " 'xtras']\n",
      "\n",
      "\u001b[93;1mReview srcode with all comments added so far\u001b[0m======================================================================================================\n",
      "        pprint([i[0] for i in funcs])=====================================================(20)      \n",
      "    if clas: =============================================================================(21)      \n",
      "        print(f'The class objects are:')==================================================(22)      \n",
      "        pprint([i[0] for i in classes])===================================================(23)      \n",
      "    if bltin: ============================================================================(24)      \n",
      "        print(f'The builtin functions or methods are:')===================================(25)      \n",
      "        pprint([i[0] for i in builtins])==================================================(26)      \n",
      "    if cal: ==============================================================================(27)      \n",
      "        print(f'The callables are: ')=====================================================(28)      \n",
      "        pprint([i[0] for i in callables])=================================================(29)      \n",
      "    if lib: ==============================================================================(30) # \u001b[36;1mget names of all modules of a lib\u001b[0m; \n",
      "        modules = [name for _, name, _ in pkgutil.iter_modules([pkgpath])]================(31)      \n",
      "        print(f'The library has {len(modules)} modules')==================================(32)      \n",
      "        pprint(modules)===================================================================(33)      \n",
      "                                                                                                                                                        (34)\n",
      "                                                                                                                                     part No.2 out of 2 parts\n",
      "\n"
     ]
    }
   ],
   "source": [
    "#| column: screen\n",
    "# fdb.takExample(\"whatinside(core, lib=True)\", whatinside=whatinside, core=core)\n",
    "fdb.eg = \"whatinside(core, lib=True)\"\n",
    "dbsrc = fdb.docsrc(30, \"get names of all modules of a lib\", \"pkgpath\", \"inspect.getdoc(pkgutil.iter_modules)\", \\\n",
    "\"for a, b, c in pkgutil.iter_modules([pkgpath]):\\\\n\\\n",
    "    printright(f'{a} ; {b}; {c}')\", db=True)"
   ]
  },
  {
   "cell_type": "markdown",
   "metadata": {},
   "source": [
    "### Print out the entire src with idx and comments, when I finish documenting"
   ]
  },
  {
   "cell_type": "code",
   "execution_count": null,
   "metadata": {},
   "outputs": [
    {
     "name": "stdout",
     "output_type": "stream",
     "text": [
      "========================================================     Investigating \u001b[91;1mwhatinside\u001b[0m     ========================================================\n",
      "===============================================================     on line \u001b[91;1m30\u001b[0m     ===============================================================\n",
      "================================================     with example \u001b[91;1mwhatinside(core, lib=True)\u001b[0m     =================================================\n",
      "\n",
      "def whatinside(mo, # module, e.g., `import fastcore.all as fa`, use `fa` here=============(0)       \n",
      "               dun:bool=False, # print all items in __all__===============================(1)       \n",
      "               func:bool=False, # print all user defined functions========================(2)       \n",
      "               clas:bool=False, # print all class objects=================================(3)       \n",
      "               bltin:bool=False, # print all builtin funcs or methods=====================(4)       \n",
      "               lib:bool=False, # print all the modules of the library it belongs to=======(5)       \n",
      "               cal:bool=False # print all callables=======================================(6)       \n",
      "             ): ==========================================================================(7)       \n",
      "    'Check what inside a module: `__all__`, functions, classes, builtins, and callables'==(8)       \n",
      "    dun_all = len(mo.__all__) if hasattr(mo, \"__all__\") else 0============================(9) # \u001b[91;1mhow many items inside mo.__all__?\u001b[0m; \n",
      "    funcs = inspect.getmembers(mo, inspect.isfunction)====================================(10) # \u001b[91;1mget all funcs of a module\u001b[0m; \n",
      "    classes = inspect.getmembers(mo, inspect.isclass)=====================================(11) # \u001b[93;1mget all classes from the module\u001b[0m; \n",
      "    builtins = inspect.getmembers(mo, inspect.isbuiltin)==================================(12)      \n",
      "    callables = inspect.getmembers(mo, callable)==========================================(13)      \n",
      "    pkgpath = os.path.dirname(mo.__file__)================================================(14) # \u001b[37;1mget the file path of the module\u001b[0m; \n",
      "    if not lib:===========================================================================(15)      \n",
      "        print(f\"{mo.__name__} has: \\n{dun_all} items in its __all__, and \\n{len(funcs)} user defined functions, \\n{len(classes)} classes or class objects, \\n{len(builtins)} builtin funcs and methods, and\\n{len(callables)} callables.\\n\")  (16)\n",
      "    if hasattr(mo, \"__all__\") and dun: pprint(mo.__all__)=================================(17)      \n",
      "    if func: =============================================================================(18)      \n",
      "        print(f'The user defined functions are:')=========================================(19)      \n",
      "        pprint([i[0] for i in funcs])=====================================================(20)      \n",
      "    if clas: =============================================================================(21)      \n",
      "        print(f'The class objects are:')==================================================(22)      \n",
      "        pprint([i[0] for i in classes])===================================================(23)      \n",
      "    if bltin: ============================================================================(24)      \n",
      "        print(f'The builtin functions or methods are:')===================================(25)      \n",
      "        pprint([i[0] for i in builtins])==================================================(26)      \n",
      "    if cal: ==============================================================================(27)      \n",
      "        print(f'The callables are: ')=====================================================(28)      \n",
      "        pprint([i[0] for i in callables])=================================================(29)      \n",
      "    if lib: ==============================================================================(30) # \u001b[35;1mget names of all modules of a lib\u001b[0m; \n",
      "        modules = [name for _, name, _ in pkgutil.iter_modules([pkgpath])]================(31)      \n",
      "        print(f'The library has {len(modules)} modules')==================================(32)      \n",
      "        pprint(modules)===================================================================(33)      \n",
      "                                                                                                                                                        (34)\n"
     ]
    }
   ],
   "source": [
    "fdb.print()"
   ]
  },
  {
   "cell_type": "code",
   "execution_count": null,
   "metadata": {},
   "outputs": [],
   "source": []
  },
  {
   "cell_type": "markdown",
   "metadata": {},
   "source": [
    "### After running `.dbprint`, everything is back to normal automatically"
   ]
  },
  {
   "cell_type": "code",
   "execution_count": null,
   "metadata": {},
   "outputs": [
    {
     "data": {
      "text/plain": [
       "'/Users/Natsume/Documents/fastdebug/fastdebug/utils.py'"
      ]
     },
     "execution_count": null,
     "metadata": {},
     "output_type": "execute_result"
    }
   ],
   "source": [
    "inspect.getsourcefile(fu.whatinside)"
   ]
  },
  {
   "cell_type": "code",
   "execution_count": null,
   "metadata": {},
   "outputs": [
    {
     "data": {
      "text/plain": [
       "'/Users/Natsume/Documents/fastdebug/fastdebug/utils.py'"
      ]
     },
     "execution_count": null,
     "metadata": {},
     "output_type": "execute_result"
    }
   ],
   "source": [
    "inspect.getsourcefile(whatinside)"
   ]
  },
  {
   "cell_type": "code",
   "execution_count": null,
   "metadata": {},
   "outputs": [],
   "source": []
  },
  {
   "cell_type": "code",
   "execution_count": null,
   "metadata": {},
   "outputs": [],
   "source": []
  },
  {
   "cell_type": "markdown",
   "metadata": {},
   "source": [
    "To check, when run `whatinside??` we should see the actually source code whereas the db version of `whatinside` does not have."
   ]
  },
  {
   "cell_type": "markdown",
   "metadata": {},
   "source": [
    "## Install"
   ]
  },
  {
   "cell_type": "markdown",
   "metadata": {},
   "source": [
    "```sh\n",
    "pip install fastdebug\n",
    "```"
   ]
  },
  {
   "cell_type": "markdown",
   "metadata": {},
   "source": [
    "## How to use"
   ]
  },
  {
   "cell_type": "markdown",
   "metadata": {},
   "source": [
    "Fill me in please! Don't forget code examples:"
   ]
  },
  {
   "cell_type": "code",
   "execution_count": null,
   "metadata": {},
   "outputs": [
    {
     "data": {
      "text/plain": [
       "2"
      ]
     },
     "execution_count": null,
     "metadata": {},
     "output_type": "execute_result"
    }
   ],
   "source": [
    "1+1"
   ]
  },
  {
   "cell_type": "markdown",
   "metadata": {},
   "source": [
    "#|hide\n",
    "## Send to Obsidian"
   ]
  },
  {
   "cell_type": "code",
   "execution_count": null,
   "metadata": {},
   "outputs": [
    {
     "name": "stdout",
     "output_type": "stream",
     "text": [
      "[jupytext] Reading /Users/Natsume/Documents/fastdebug/index.ipynb in format ipynb\n",
      "[jupytext] Writing /Users/Natsume/Documents/fastdebug/index.md\n",
      "[NbConvertApp] WARNING | pattern 'Users/Natsume/Documents/fastdebug/Demos/fastcore/*.ipynb' matched no files\n",
      "[NbConvertApp] Converting notebook /Users/Natsume/Documents/fastdebug/utils.ipynb to markdown\n",
      "[NbConvertApp] Writing 14660 bytes to /Users/Natsume/Documents/divefastai/Debuggable/nbconvert/utils.md\n",
      "[NbConvertApp] Converting notebook /Users/Natsume/Documents/fastdebug/00_core.ipynb to markdown\n",
      "[NbConvertApp] Writing 405737 bytes to /Users/Natsume/Documents/divefastai/Debuggable/nbconvert/00_core.md\n",
      "[NbConvertApp] Converting notebook /Users/Natsume/Documents/fastdebug/index.ipynb to markdown\n",
      "[NbConvertApp] Writing 58037 bytes to /Users/Natsume/Documents/divefastai/Debuggable/nbconvert/index.md\n",
      "[NbConvertApp] Converting notebook /Users/Natsume/Documents/fastdebug/Demos/08_use_kwargs_dict.ipynb to markdown\n",
      "[NbConvertApp] Writing 56920 bytes to /Users/Natsume/Documents/divefastai/Debuggable/nbconvert/08_use_kwargs_dict.md\n",
      "[NbConvertApp] Converting notebook /Users/Natsume/Documents/fastdebug/Demos/04_fastcore.meta._rm_self.ipynb to markdown\n",
      "[NbConvertApp] Writing 15997 bytes to /Users/Natsume/Documents/divefastai/Debuggable/nbconvert/04_fastcore.meta._rm_self.md\n",
      "[NbConvertApp] Converting notebook /Users/Natsume/Documents/fastdebug/Demos/03_Explore_document_FixSigMeta_PrePostInitMeta_AutoInit.ipynb to markdown\n",
      "[NbConvertApp] Writing 89716 bytes to /Users/Natsume/Documents/divefastai/Debuggable/nbconvert/03_Explore_document_FixSigMeta_PrePostInitMeta_AutoInit.md\n",
      "[NbConvertApp] Converting notebook /Users/Natsume/Documents/fastdebug/Demos/05_fastcore.meta.test_sig.ipynb to markdown\n",
      "[NbConvertApp] Writing 10298 bytes to /Users/Natsume/Documents/divefastai/Debuggable/nbconvert/05_fastcore.meta.test_sig.md\n",
      "[NbConvertApp] Converting notebook /Users/Natsume/Documents/fastdebug/Demos/01_signature_from_callable_with_FixSigMeta.ipynb to markdown\n",
      "[NbConvertApp] Writing 47166 bytes to /Users/Natsume/Documents/divefastai/Debuggable/nbconvert/01_signature_from_callable_with_FixSigMeta.md\n",
      "[NbConvertApp] Converting notebook /Users/Natsume/Documents/fastdebug/Demos/07_fastcore.meta.BypassNewMeta.ipynb to markdown\n",
      "[NbConvertApp] Writing 30628 bytes to /Users/Natsume/Documents/divefastai/Debuggable/nbconvert/07_fastcore.meta.BypassNewMeta.md\n",
      "[NbConvertApp] Converting notebook /Users/Natsume/Documents/fastdebug/Demos/00_fastcore_meta_delegates.ipynb to markdown\n",
      "[NbConvertApp] Writing 98471 bytes to /Users/Natsume/Documents/divefastai/Debuggable/nbconvert/00_fastcore_meta_delegates.md\n",
      "[NbConvertApp] Converting notebook /Users/Natsume/Documents/fastdebug/Demos/06_fastcore.meta.NewChkMeta.ipynb to markdown\n",
      "[NbConvertApp] Writing 30935 bytes to /Users/Natsume/Documents/divefastai/Debuggable/nbconvert/06_fastcore.meta.NewChkMeta.md\n"
     ]
    }
   ],
   "source": [
    "#| hide\n",
    "!jupytext --to md /Users/Natsume/Documents/fastdebug/index.ipynb\n",
    "!mv /Users/Natsume/Documents/fastdebug/index.md \\\n",
    "/Users/Natsume/Documents/divefastai/Debuggable/jupytext/\n",
    "\n",
    "!jupyter nbconvert --config /Users/Natsume/Documents/mynbcfg.py --to markdown \\\n",
    "--output-dir /Users/Natsume/Documents/divefastai/Debuggable/nbconvert"
   ]
  },
  {
   "cell_type": "code",
   "execution_count": null,
   "metadata": {},
   "outputs": [],
   "source": []
  }
 ],
 "metadata": {
  "kernelspec": {
   "display_name": "Python 3 (ipykernel)",
   "language": "python",
   "name": "python3"
  }
 },
 "nbformat": 4,
 "nbformat_minor": 4
}
