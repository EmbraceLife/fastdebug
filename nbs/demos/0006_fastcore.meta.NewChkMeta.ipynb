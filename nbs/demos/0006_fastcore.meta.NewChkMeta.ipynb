{
 "cells": [
  {
   "cell_type": "markdown",
   "id": "c7034344",
   "metadata": {},
   "source": [
    "# 06_NewChkMeta"
   ]
  },
  {
   "cell_type": "markdown",
   "id": "1afe57e0",
   "metadata": {},
   "source": [
    "## Import and Initalization"
   ]
  },
  {
   "cell_type": "code",
   "execution_count": null,
   "id": "c207a90c",
   "metadata": {},
   "outputs": [
    {
     "data": {
      "text/html": [
       "<style>.container { width:100% !important; }</style>"
      ],
      "text/plain": [
       "<IPython.core.display.HTML object>"
      ]
     },
     "metadata": {},
     "output_type": "display_data"
    }
   ],
   "source": [
    "from fastdebug.utils import *\n",
    "from fastdebug.core import *\n",
    "from fastcore.meta import *"
   ]
  },
  {
   "cell_type": "code",
   "execution_count": null,
   "id": "f07f2dda",
   "metadata": {},
   "outputs": [],
   "source": [
    "g = locals()\n",
    "fdb = Fastdb(NewChkMeta, outloc = g)"
   ]
  },
  {
   "cell_type": "code",
   "execution_count": null,
   "id": "5386e6e7",
   "metadata": {},
   "outputs": [
    {
     "name": "stdout",
     "output_type": "stream",
     "text": [
      "========================================================     Investigating \u001b[91;1mNewChkMeta\u001b[0m     ========================================================\n",
      "==============================================================     on line \u001b[91;1mNone\u001b[0m     ==============================================================\n",
      "=============================================================     with example \u001b[91;1m\u001b[0m     ==============================================================\n",
      "\n",
      "class NewChkMeta(FixSigMeta):=============================================================(0)       \n",
      "    \"Metaclass to avoid recreating object passed to constructor\"==========================(1)       \n",
      "    def __call__(cls, x=None, *args, **kwargs):===========================================(2)       \n",
      "        if not args and not kwargs and x is not None and isinstance(x,cls): return x======(3)       \n",
      "        res = super().__call__(*((x,) + args), **kwargs)==================================(4)       \n",
      "        return res========================================================================(5)       \n",
      "                                                                                                                                                        (6)\n"
     ]
    }
   ],
   "source": [
    "fdb.print()"
   ]
  },
  {
   "cell_type": "markdown",
   "id": "e3a33d85",
   "metadata": {},
   "source": [
    "## Official docs\n",
    "The official docs (at first, it does not make sense to me)"
   ]
  },
  {
   "cell_type": "markdown",
   "id": "c2a3cd87",
   "metadata": {},
   "source": [
    "`NewChkMeta` is used when an object of the same type is the first argument to your class's constructor (i.e. the __init__ function), and you would rather it not create a new object but point to the same exact object.\n",
    "\n",
    "This is used in L, for example, to avoid creating a new object when the object is already of type L. This allows the users to defenisvely instantiate an L object and just return a reference to the same object if it already happens to be of type L.\n",
    "\n",
    "For example, the below class _T optionally accepts an object o as its first argument. A new object is returned upon instantiation per usual:"
   ]
  },
  {
   "cell_type": "code",
   "execution_count": null,
   "id": "fafce4cd",
   "metadata": {},
   "outputs": [],
   "source": [
    "class _T():\n",
    "    \"Testing\"\n",
    "    def __init__(self, o): \n",
    "        # if `o` is not an object without an attribute `foo`, set foo = 1\n",
    "        self.foo = getattr(o,'foo',1)\n",
    "        \n",
    "t = _T(3)\n",
    "test_eq(t.foo,1) # 1 was not of type _T, so foo = 1\n",
    "\n",
    "t2 = _T(t) #t1 is of type _T\n",
    "assert t is not t2 # t1 and t2 are different objects"
   ]
  },
  {
   "cell_type": "markdown",
   "id": "9a8703bc",
   "metadata": {},
   "source": [
    "However, if we want _T to return a reference to the same object when passed an an object of type _T we can inherit from the NewChkMeta class as illustrated below:"
   ]
  },
  {
   "cell_type": "code",
   "execution_count": null,
   "id": "22b14d0b",
   "metadata": {},
   "outputs": [],
   "source": [
    "class _T(metaclass=NewChkMeta):\n",
    "    \"Testing with metaclass NewChkMeta\"\n",
    "    def __init__(self, o=None, b=1):\n",
    "        # if `o` is not an object without an attribute `foo`, set foo = 1\n",
    "        self.foo = getattr(o,'foo',1)\n",
    "        self.b = b\n",
    "\n",
    "t = _T(3)\n",
    "test_eq(t.foo,1) # 1 was not of type _T, so foo = 1\n",
    "\n",
    "t2 = _T(t) # t2 will now reference t\n",
    "\n",
    "test_is(t, t2) # t and t2 are the same object\n",
    "t2.foo = 5 # this will also change t.foo to 5 because it is the same object\n",
    "test_eq(t.foo, 5)\n",
    "test_eq(t2.foo, 5)\n",
    "\n",
    "t3 = _T(t, b=1)\n",
    "assert t3 is not t\n",
    "\n",
    "t4 = _T(t) # without any arguments the constructor will return a reference to the same object\n",
    "assert t4 is t"
   ]
  },
  {
   "cell_type": "code",
   "execution_count": null,
   "id": "ad48fa80",
   "metadata": {},
   "outputs": [],
   "source": []
  },
  {
   "cell_type": "markdown",
   "id": "edbd91bf",
   "metadata": {},
   "source": [
    "## Prepare Example"
   ]
  },
  {
   "cell_type": "code",
   "execution_count": null,
   "id": "7e040f47",
   "metadata": {},
   "outputs": [],
   "source": [
    "fdb.eg = \"\"\"\n",
    "class _T(metaclass=NewChkMeta):\n",
    "    \"Testing with metaclass NewChkMeta\"\n",
    "    def __init__(self, o=None, b=1):\n",
    "        # if `o` is not an object without an attribute `foo`, set foo = 1\n",
    "        self.foo = getattr(o,'foo',1)\n",
    "        self.b = b\n",
    "\n",
    "t = _T(3)\n",
    "test_eq(t.foo,1) # 1 was not of type _T, so foo = 1\n",
    "\n",
    "t2 = _T(t) # t2 will now reference t\n",
    "\n",
    "test_is(t, t2) # t and t2 are the same object\n",
    "t2.foo = 5 # this will also change t.foo to 5 because it is the same object\n",
    "test_eq(t.foo, 5)\n",
    "test_eq(t2.foo, 5)\n",
    "\n",
    "t3 = _T(t, b=1)\n",
    "assert t3 is not t\n",
    "\n",
    "t4 = _T(t) # without any arguments the constructor will return a reference to the same object\n",
    "assert t4 is t\n",
    "\"\"\""
   ]
  },
  {
   "cell_type": "markdown",
   "id": "df4d5a0e",
   "metadata": {},
   "source": [
    "## Inspect classes"
   ]
  },
  {
   "cell_type": "code",
   "execution_count": null,
   "id": "346eb548",
   "metadata": {},
   "outputs": [
    {
     "name": "stdout",
     "output_type": "stream",
     "text": [
      "class NewChkMeta(FixSigMeta):\n",
      "    \"Metaclass to avoid recreating object passed to constructor\"\n",
      "    def __call__(cls, x=None, *args, **kwargs):\n",
      "        if not args and not kwargs and x is not None and isinstance(x,cls): return x\n",
      "        res = super().__call__(*((x,) + args), **kwargs)\n",
      "        return res\n",
      "\n",
      "\n",
      "is NewChkMeta a metaclass: True\n",
      "is NewChkMeta created by a metaclass: False\n",
      "NewChkMeta is created by <class 'type'>\n",
      "NewChkMeta.__new__ is object.__new__: False\n",
      "NewChkMeta.__new__ is type.__new__: False\n",
      "NewChkMeta.__new__: <function FixSigMeta.__new__>\n",
      "NewChkMeta.__init__ is object.__init__: False\n",
      "NewChkMeta.__init__ is type.__init__: True\n",
      "NewChkMeta.__init__: <slot wrapper '__init__' of 'type' objects>\n",
      "NewChkMeta.__call__ is object.__call__: False\n",
      "NewChkMeta.__call__ is type.__call__: False\n",
      "NewChkMeta.__call__: <function NewChkMeta.__call__>\n",
      "NewChkMeta.__class__: <class 'type'>\n",
      "NewChkMeta.__bases__: (<class 'fastcore.meta.FixSigMeta'>,)\n",
      "NewChkMeta.__mro__: (<class 'fastcore.meta.NewChkMeta'>, <class 'fastcore.meta.FixSigMeta'>, <class 'type'>, <class 'object'>)\n",
      "\n",
      "NewChkMeta's function members are:\n",
      "{'__call__': <function NewChkMeta.__call__>,\n",
      " '__new__': <function FixSigMeta.__new__>}\n",
      "\n",
      "NewChkMeta's method members are:\n",
      "{}\n",
      "\n",
      "NewChkMeta's class members are:\n",
      "{'__base__': <class 'fastcore.meta.FixSigMeta'>, '__class__': <class 'type'>}\n",
      "\n",
      "NewChkMeta's namespace are:\n",
      "mappingproxy({'__call__': <function NewChkMeta.__call__>,\n",
      "              '__doc__': 'Metaclass to avoid recreating object passed to '\n",
      "                         'constructor',\n",
      "              '__module__': 'fastcore.meta'})\n"
     ]
    }
   ],
   "source": [
    "inspect_class(NewChkMeta)"
   ]
  },
  {
   "cell_type": "code",
   "execution_count": null,
   "id": "4b70bb9f",
   "metadata": {},
   "outputs": [
    {
     "name": "stdout",
     "output_type": "stream",
     "text": [
      "\n",
      "is _T a metaclass: False\n",
      "is _T created by a metaclass: True\n",
      "_T is created by metaclass <class 'fastcore.meta.NewChkMeta'>\n",
      "_T.__new__ is object.__new__: True\n",
      "_T.__new__ is type.__new__: False\n",
      "_T.__new__: <built-in method __new__ of type object>\n",
      "_T.__init__ is object.__init__: False\n",
      "_T.__init__ is type.__init__: False\n",
      "_T.__init__: <function _T.__init__>\n",
      "_T.__call__ is object.__call__: False\n",
      "_T.__call__ is type.__call__: False\n",
      "_T.__call__: <bound method NewChkMeta.__call__ of <class '__main__._T'>>\n",
      "_T.__class__: <class 'fastcore.meta.NewChkMeta'>\n",
      "_T.__bases__: (<class 'object'>,)\n",
      "_T.__mro__: (<class '__main__._T'>, <class 'object'>)\n",
      "\n",
      "_T's metaclass <class 'fastcore.meta.NewChkMeta'>'s function members are:\n",
      "{'__call__': <function NewChkMeta.__call__>,\n",
      " '__new__': <function FixSigMeta.__new__>}\n",
      "\n",
      "_T's function members are:\n",
      "{'__init__': <function _T.__init__>}\n",
      "\n",
      "_T's method members are:\n",
      "{}\n",
      "\n",
      "_T's class members are:\n",
      "{'__class__': <class 'fastcore.meta.NewChkMeta'>}\n",
      "\n",
      "_T's namespace are:\n",
      "mappingproxy({'__dict__': <attribute '__dict__' of '_T' objects>,\n",
      "              '__doc__': 'Testing with metaclass NewChkMeta',\n",
      "              '__init__': <function _T.__init__>,\n",
      "              '__module__': '__main__',\n",
      "              '__signature__': <Signature (o=None, b=1)>,\n",
      "              '__weakref__': <attribute '__weakref__' of '_T' objects>})\n"
     ]
    }
   ],
   "source": [
    "inspect_class(_T)"
   ]
  },
  {
   "cell_type": "markdown",
   "id": "f26ea3ff",
   "metadata": {},
   "source": [
    "## Snoop"
   ]
  },
  {
   "cell_type": "code",
   "execution_count": null,
   "id": "41911401",
   "metadata": {},
   "outputs": [
    {
     "name": "stderr",
     "output_type": "stream",
     "text": [
      "21:38:05.32 >>> Call to NewChkMeta.__call__ in File \"/tmp/NewChkMeta.py\", line 5\n",
      "21:38:05.32 .......... cls = <class 'fastcore.meta._T'>\n",
      "21:38:05.32 .......... x = 3\n",
      "21:38:05.32 .......... args = ()\n",
      "21:38:05.32 .......... kwargs = {}\n",
      "21:38:05.32 .......... __class__ = <class 'fastcore.meta.NewChkMeta'>\n",
      "21:38:05.32    5 |     def __call__(cls, x=None, *args, **kwargs):\n",
      "21:38:05.32    6 |         if not args and not kwargs and x is not None and isinstance(x,cls): return x\n",
      "21:38:05.32    7 |         res = super().__call__(*((x,) + args), **kwargs)\n",
      "21:38:05.32 .............. res = <fastcore.meta._T object>\n",
      "21:38:05.32    8 |         return res\n",
      "21:38:05.32 <<< Return value from NewChkMeta.__call__: <fastcore.meta._T object>\n",
      "21:38:05.32 >>> Call to NewChkMeta.__call__ in File \"/tmp/NewChkMeta.py\", line 5\n",
      "21:38:05.32 .......... cls = <class 'fastcore.meta._T'>\n",
      "21:38:05.32 .......... x = <fastcore.meta._T object>\n",
      "21:38:05.32 .......... args = ()\n",
      "21:38:05.32 .......... kwargs = {}\n",
      "21:38:05.32 .......... __class__ = <class 'fastcore.meta.NewChkMeta'>\n",
      "21:38:05.32    5 |     def __call__(cls, x=None, *args, **kwargs):\n",
      "21:38:05.32    6 |         if not args and not kwargs and x is not None and isinstance(x,cls): return x\n",
      "21:38:05.32 <<< Return value from NewChkMeta.__call__: <fastcore.meta._T object>\n",
      "21:38:05.32 >>> Call to NewChkMeta.__call__ in File \"/tmp/NewChkMeta.py\", line 5\n",
      "21:38:05.32 .......... cls = <class 'fastcore.meta._T'>\n",
      "21:38:05.32 .......... x = <fastcore.meta._T object>\n",
      "21:38:05.32 .......... args = ()\n",
      "21:38:05.32 .......... kwargs = {'b': 1}\n",
      "21:38:05.32 .......... len(kwargs) = 1\n",
      "21:38:05.32 .......... __class__ = <class 'fastcore.meta.NewChkMeta'>\n",
      "21:38:05.32    5 |     def __call__(cls, x=None, *args, **kwargs):\n",
      "21:38:05.32    6 |         if not args and not kwargs and x is not None and isinstance(x,cls): return x\n",
      "21:38:05.32    7 |         res = super().__call__(*((x,) + args), **kwargs)\n",
      "21:38:05.32 .............. res = <fastcore.meta._T object>\n",
      "21:38:05.32    8 |         return res\n",
      "21:38:05.32 <<< Return value from NewChkMeta.__call__: <fastcore.meta._T object>\n",
      "21:38:05.32 >>> Call to NewChkMeta.__call__ in File \"/tmp/NewChkMeta.py\", line 5\n",
      "21:38:05.32 .......... cls = <class 'fastcore.meta._T'>\n",
      "21:38:05.32 .......... x = <fastcore.meta._T object>\n",
      "21:38:05.32 .......... args = ()\n",
      "21:38:05.32 .......... kwargs = {}\n",
      "21:38:05.32 .......... __class__ = <class 'fastcore.meta.NewChkMeta'>\n",
      "21:38:05.32    5 |     def __call__(cls, x=None, *args, **kwargs):\n",
      "21:38:05.32    6 |         if not args and not kwargs and x is not None and isinstance(x,cls): return x\n",
      "21:38:05.32 <<< Return value from NewChkMeta.__call__: <fastcore.meta._T object>\n"
     ]
    },
    {
     "name": "stdout",
     "output_type": "stream",
     "text": [
      "========================================================     Investigating \u001b[91;1mNewChkMeta\u001b[0m     ========================================================\n",
      "==============================================================     on line \u001b[91;1mNone\u001b[0m     ==============================================================\n",
      "     with example \u001b[91;1m\n",
      "class _T(metaclass=NewChkMeta):\n",
      "    \"Testing with metaclass NewChkMeta\"\n",
      "    def __init__(self, o=None, b=1):\n",
      "        # if `o` is not an object without an attribute `foo`, set foo = 1\n",
      "        self.foo = getattr(o,'foo',1)\n",
      "        self.b = b\n",
      "\n",
      "t = _T(3)\n",
      "test_eq(t.foo,1) # 1 was not of type _T, so foo = 1\n",
      "\n",
      "t2 = _T(t) # t2 will now reference t\n",
      "\n",
      "test_is(t, t2) # t and t2 are the same object\n",
      "t2.foo = 5 # this will also change t.foo to 5 because it is the same object\n",
      "test_eq(t.foo, 5)\n",
      "test_eq(t2.foo, 5)\n",
      "\n",
      "t3 = _T(t, b=1)\n",
      "assert t3 is not t\n",
      "\n",
      "t4 = _T(t) # without any arguments the constructor will return a reference to the same object\n",
      "assert t4 is t\n",
      "\u001b[0m     \n",
      "\n"
     ]
    }
   ],
   "source": [
    "fdb.snoop()"
   ]
  },
  {
   "cell_type": "markdown",
   "id": "3fc08b47",
   "metadata": {},
   "source": [
    "## Document"
   ]
  },
  {
   "cell_type": "code",
   "execution_count": null,
   "id": "204f43c8",
   "metadata": {},
   "outputs": [
    {
     "name": "stdout",
     "output_type": "stream",
     "text": [
      "========================================================     Investigating \u001b[91;1mNewChkMeta\u001b[0m     ========================================================\n",
      "===============================================================     on line \u001b[91;1m1\u001b[0m     ================================================================\n",
      "     with example \u001b[91;1m\n",
      "class _T(metaclass=NewChkMeta):\n",
      "    \"Testing with metaclass NewChkMeta\"\n",
      "    def __init__(self, o=None, b=1):\n",
      "        # if `o` is not an object without an attribute `foo`, set foo = 1\n",
      "        self.foo = getattr(o,'foo',1)\n",
      "        self.b = b\n",
      "\n",
      "t = _T(3)\n",
      "test_eq(t.foo,1) # 1 was not of type _T, so foo = 1\n",
      "\n",
      "t2 = _T(t) # t2 will now reference t\n",
      "\n",
      "test_is(t, t2) # t and t2 are the same object\n",
      "t2.foo = 5 # this will also change t.foo to 5 because it is the same object\n",
      "test_eq(t.foo, 5)\n",
      "test_eq(t2.foo, 5)\n",
      "\n",
      "t3 = _T(t, b=1)\n",
      "assert t3 is not t\n",
      "\n",
      "t4 = _T(t) # without any arguments the constructor will return a reference to the same object\n",
      "assert t4 is t\n",
      "\u001b[0m     \n",
      "\n",
      "\u001b[93;1mprint selected srcline with expands below\u001b[0m--------\n",
      "class NewChkMeta(FixSigMeta):                                                                                                                           (0)\n",
      "    \"Metaclass to avoid recreating object passed to constructor\"========================================================================================(1)\n",
      "\u001b[91;1mNewChkMeta is a metaclass inherited from FixSigMea; it makes its own __call__; when its class instance, e.g., _T, create object instances (e.g, t) without args nor kwargs but only x, and x is an object of the instance class, then return x; otherwise, create and return a new object created by the instance class's super class' __call__ method with x as param; In other words, t = _T(3) will create a new obj; _T(t) will return t; _T(t, 1) or _T(t, b=1) will also return a new obj\u001b[0m\n",
      "    def __call__(cls, x=None, *args, **kwargs):                                                                                                         (2)\n",
      "        if not args and not kwargs and x is not None and isinstance(x,cls): return x                                                                    (3)\n",
      "\n",
      "\u001b[93;1mReview srcode with all comments added so far\u001b[0m======================================================================================================\n",
      "class NewChkMeta(FixSigMeta):=============================================================(0)       \n",
      "    \"Metaclass to avoid recreating object passed to constructor\"==========================(1) # \u001b[34;1mNewChkMeta is a metaclass inherited from FixSigMea\u001b[0m; \u001b[91;1mit makes its own __call__\u001b[0m; \u001b[34;1mwhen its class instance, e.g., _T, create object instances (e.g, t) without args nor kwargs but only x, and x is an object of the instance class, then return x\u001b[0m; \u001b[93;1motherwise, create and return a new object created by the instance class's super class' __call__ method with x as param\u001b[0m; \u001b[91;1mIn other words, t = _T(3) will create a new obj\u001b[0m; \u001b[93;1m_T(t) will return t\u001b[0m; \u001b[35;1m_T(t, 1) or _T(t, b=1) will also return a new obj\u001b[0m; \n",
      "    def __call__(cls, x=None, *args, **kwargs):===========================================(2)       \n",
      "        if not args and not kwargs and x is not None and isinstance(x,cls): return x======(3)       \n",
      "        res = super().__call__(*((x,) + args), **kwargs)==================================(4)       \n",
      "        return res========================================================================(5)       \n",
      "                                                                                                                                                        (6)\n",
      "                                                                                                                                     part No.1 out of 1 parts\n",
      "\n",
      "========================================================     Investigating \u001b[91;1mNewChkMeta\u001b[0m     ========================================================\n",
      "===============================================================     on line \u001b[91;1m2\u001b[0m     ================================================================\n",
      "     with example \u001b[91;1m\n",
      "class _T(metaclass=NewChkMeta):\n",
      "    \"Testing with metaclass NewChkMeta\"\n",
      "    def __init__(self, o=None, b=1):\n",
      "        # if `o` is not an object without an attribute `foo`, set foo = 1\n",
      "        self.foo = getattr(o,'foo',1)\n",
      "        self.b = b\n",
      "\n",
      "t = _T(3)\n",
      "test_eq(t.foo,1) # 1 was not of type _T, so foo = 1\n",
      "\n",
      "t2 = _T(t) # t2 will now reference t\n",
      "\n",
      "test_is(t, t2) # t and t2 are the same object\n",
      "t2.foo = 5 # this will also change t.foo to 5 because it is the same object\n",
      "test_eq(t.foo, 5)\n",
      "test_eq(t2.foo, 5)\n",
      "\n",
      "t3 = _T(t, b=1)\n",
      "assert t3 is not t\n",
      "\n",
      "t4 = _T(t) # without any arguments the constructor will return a reference to the same object\n",
      "assert t4 is t\n",
      "\u001b[0m     \n",
      "\n",
      "\u001b[93;1mprint selected srcline with expands below\u001b[0m--------\n",
      "class NewChkMeta(FixSigMeta):                                                                                                                           (0)\n",
      "    \"Metaclass to avoid recreating object passed to constructor\"                                                                                        (1)\n",
      "    def __call__(cls, x=None, *args, **kwargs):=========================================================================================================(2)\n",
      "                                                                                          \u001b[91;1mhow to create a __call__ method with param cls, x, *args, **kwargs;\u001b[0m\n",
      "        if not args and not kwargs and x is not None and isinstance(x,cls): return x                                                                    (3)\n",
      "        res = super().__call__(*((x,) + args), **kwargs)                                                                                                (4)\n",
      "\n",
      "\u001b[93;1mReview srcode with all comments added so far\u001b[0m======================================================================================================\n",
      "class NewChkMeta(FixSigMeta):=============================================================(0)       \n",
      "    \"Metaclass to avoid recreating object passed to constructor\"==========================(1) # \u001b[36;1mNewChkMeta is a metaclass inherited from FixSigMea\u001b[0m; \u001b[92;1mit makes its own __call__\u001b[0m; \u001b[36;1mwhen its class instance, e.g., _T, create object instances (e.g, t) without args nor kwargs but only x, and x is an object of the instance class, then return x\u001b[0m; \u001b[91;1motherwise, create and return a new object created by the instance class's super class' __call__ method with x as param\u001b[0m; \u001b[36;1mIn other words, t = _T(3) will create a new obj\u001b[0m; \u001b[37;1m_T(t) will return t\u001b[0m; \u001b[37;1m_T(t, 1) or _T(t, b=1) will also return a new obj\u001b[0m; \n",
      "    def __call__(cls, x=None, *args, **kwargs):===========================================(2) # \u001b[34;1mhow to create a __call__ method with param cls, x, *args, **kwargs;\u001b[0m; \n",
      "        if not args and not kwargs and x is not None and isinstance(x,cls): return x======(3)       \n",
      "        res = super().__call__(*((x,) + args), **kwargs)==================================(4)       \n",
      "        return res========================================================================(5)       \n",
      "                                                                                                                                                        (6)\n",
      "                                                                                                                                     part No.1 out of 1 parts\n",
      "\n",
      "========================================================     Investigating \u001b[91;1mNewChkMeta\u001b[0m     ========================================================\n",
      "===============================================================     on line \u001b[91;1m3\u001b[0m     ================================================================\n",
      "     with example \u001b[91;1m\n",
      "class _T(metaclass=NewChkMeta):\n",
      "    \"Testing with metaclass NewChkMeta\"\n",
      "    def __init__(self, o=None, b=1):\n",
      "        # if `o` is not an object without an attribute `foo`, set foo = 1\n",
      "        self.foo = getattr(o,'foo',1)\n",
      "        self.b = b\n",
      "\n",
      "t = _T(3)\n",
      "test_eq(t.foo,1) # 1 was not of type _T, so foo = 1\n",
      "\n",
      "t2 = _T(t) # t2 will now reference t\n",
      "\n",
      "test_is(t, t2) # t and t2 are the same object\n",
      "t2.foo = 5 # this will also change t.foo to 5 because it is the same object\n",
      "test_eq(t.foo, 5)\n",
      "test_eq(t2.foo, 5)\n",
      "\n",
      "t3 = _T(t, b=1)\n",
      "assert t3 is not t\n",
      "\n",
      "t4 = _T(t) # without any arguments the constructor will return a reference to the same object\n",
      "assert t4 is t\n",
      "\u001b[0m     \n",
      "\n",
      "\u001b[93;1mprint selected srcline with expands below\u001b[0m--------\n",
      "    \"Metaclass to avoid recreating object passed to constructor\"                                                                                        (1)\n",
      "    def __call__(cls, x=None, *args, **kwargs):                                                                                                         (2)\n",
      "        if not args and not kwargs and x is not None and isinstance(x,cls): return x====================================================================(3)\n",
      "                                                                                            \u001b[91;1mhow to express no args and no kwargs and x is an instance of cls?\u001b[0m\n",
      "        res = super().__call__(*((x,) + args), **kwargs)                                                                                                (4)\n",
      "        return res                                                                                                                                      (5)\n",
      "\n",
      "\u001b[93;1mReview srcode with all comments added so far\u001b[0m======================================================================================================\n",
      "class NewChkMeta(FixSigMeta):=============================================================(0)       \n",
      "    \"Metaclass to avoid recreating object passed to constructor\"==========================(1) # \u001b[36;1mNewChkMeta is a metaclass inherited from FixSigMea\u001b[0m; \u001b[37;1mit makes its own __call__\u001b[0m; \u001b[37;1mwhen its class instance, e.g., _T, create object instances (e.g, t) without args nor kwargs but only x, and x is an object of the instance class, then return x\u001b[0m; \u001b[35;1motherwise, create and return a new object created by the instance class's super class' __call__ method with x as param\u001b[0m; \u001b[34;1mIn other words, t = _T(3) will create a new obj\u001b[0m; \u001b[91;1m_T(t) will return t\u001b[0m; \u001b[92;1m_T(t, 1) or _T(t, b=1) will also return a new obj\u001b[0m; \n",
      "    def __call__(cls, x=None, *args, **kwargs):===========================================(2) # \u001b[34;1mhow to create a __call__ method with param cls, x, *args, **kwargs;\u001b[0m; \n",
      "        if not args and not kwargs and x is not None and isinstance(x,cls): return x======(3) # \u001b[93;1mhow to express no args and no kwargs and x is an instance of cls?\u001b[0m; \n",
      "        res = super().__call__(*((x,) + args), **kwargs)==================================(4)       \n",
      "        return res========================================================================(5)       \n",
      "                                                                                                                                                        (6)\n",
      "                                                                                                                                     part No.1 out of 1 parts\n",
      "\n",
      "========================================================     Investigating \u001b[91;1mNewChkMeta\u001b[0m     ========================================================\n",
      "===============================================================     on line \u001b[91;1m4\u001b[0m     ================================================================\n",
      "     with example \u001b[91;1m\n",
      "class _T(metaclass=NewChkMeta):\n",
      "    \"Testing with metaclass NewChkMeta\"\n",
      "    def __init__(self, o=None, b=1):\n",
      "        # if `o` is not an object without an attribute `foo`, set foo = 1\n",
      "        self.foo = getattr(o,'foo',1)\n",
      "        self.b = b\n",
      "\n",
      "t = _T(3)\n",
      "test_eq(t.foo,1) # 1 was not of type _T, so foo = 1\n",
      "\n",
      "t2 = _T(t) # t2 will now reference t\n",
      "\n",
      "test_is(t, t2) # t and t2 are the same object\n",
      "t2.foo = 5 # this will also change t.foo to 5 because it is the same object\n",
      "test_eq(t.foo, 5)\n",
      "test_eq(t2.foo, 5)\n",
      "\n",
      "t3 = _T(t, b=1)\n",
      "assert t3 is not t\n",
      "\n",
      "t4 = _T(t) # without any arguments the constructor will return a reference to the same object\n",
      "assert t4 is t\n",
      "\u001b[0m     \n",
      "\n",
      "\u001b[93;1mprint selected srcline with expands below\u001b[0m--------\n",
      "    def __call__(cls, x=None, *args, **kwargs):                                                                                                         (2)\n",
      "        if not args and not kwargs and x is not None and isinstance(x,cls): return x                                                                    (3)\n",
      "        res = super().__call__(*((x,) + args), **kwargs)================================================================================================(4)\n",
      "                                                           \u001b[91;1mhow to call __call__ of super class with x and consider all possible situations of args and kwargs\u001b[0m\n",
      "        return res                                                                                                                                      (5)\n",
      "                                                                                                                                                        (6)\n",
      "\n",
      "\u001b[93;1mReview srcode with all comments added so far\u001b[0m======================================================================================================\n",
      "class NewChkMeta(FixSigMeta):=============================================================(0)       \n",
      "    \"Metaclass to avoid recreating object passed to constructor\"==========================(1) # \u001b[36;1mNewChkMeta is a metaclass inherited from FixSigMea\u001b[0m; \u001b[93;1mit makes its own __call__\u001b[0m; \u001b[34;1mwhen its class instance, e.g., _T, create object instances (e.g, t) without args nor kwargs but only x, and x is an object of the instance class, then return x\u001b[0m; \u001b[93;1motherwise, create and return a new object created by the instance class's super class' __call__ method with x as param\u001b[0m; \u001b[93;1mIn other words, t = _T(3) will create a new obj\u001b[0m; \u001b[91;1m_T(t) will return t\u001b[0m; \u001b[92;1m_T(t, 1) or _T(t, b=1) will also return a new obj\u001b[0m; \n",
      "    def __call__(cls, x=None, *args, **kwargs):===========================================(2) # \u001b[91;1mhow to create a __call__ method with param cls, x, *args, **kwargs;\u001b[0m; \n",
      "        if not args and not kwargs and x is not None and isinstance(x,cls): return x======(3) # \u001b[92;1mhow to express no args and no kwargs and x is an instance of cls?\u001b[0m; \n",
      "        res = super().__call__(*((x,) + args), **kwargs)==================================(4) # \u001b[91;1mhow to call __call__ of super class with x and consider all possible situations of args and kwargs\u001b[0m; \n",
      "        return res========================================================================(5)       \n",
      "                                                                                                                                                        (6)\n",
      "                                                                                                                                     part No.1 out of 1 parts\n",
      "\n"
     ]
    }
   ],
   "source": [
    "fdb.docsrc(1, \"NewChkMeta is a metaclass inherited from FixSigMea; it makes its own __call__; \\\n",
    "when its class instance, e.g., _T, create object instances (e.g, t) without args nor kwargs but only x, \\\n",
    "and x is an object of the instance class, then return x; otherwise, create and return a new object created by \\\n",
    "the instance class's super class' __call__ method with x as param; In other words, t = _T(3) will create a new obj; \\\n",
    "_T(t) will return t; _T(t, 1) or _T(t, b=1) will also return a new obj\")\n",
    "fdb.docsrc(2, \"how to create a __call__ method with param cls, x, *args, **kwargs;\")\n",
    "fdb.docsrc(3, \"how to express no args and no kwargs and x is an instance of cls?\")\n",
    "fdb.docsrc(4, \"how to call __call__ of super class with x and consider all possible situations of args and kwargs\")"
   ]
  },
  {
   "cell_type": "code",
   "execution_count": null,
   "id": "1110f9e1",
   "metadata": {},
   "outputs": [
    {
     "name": "stdout",
     "output_type": "stream",
     "text": [
      "========================================================     Investigating \u001b[91;1mNewChkMeta\u001b[0m     ========================================================\n",
      "===============================================================     on line \u001b[91;1m4\u001b[0m     ================================================================\n",
      "     with example \u001b[91;1m\n",
      "class _T(metaclass=NewChkMeta):\n",
      "    \"Testing with metaclass NewChkMeta\"\n",
      "    def __init__(self, o=None, b=1):\n",
      "        # if `o` is not an object without an attribute `foo`, set foo = 1\n",
      "        self.foo = getattr(o,'foo',1)\n",
      "        self.b = b\n",
      "\n",
      "t = _T(3)\n",
      "test_eq(t.foo,1) # 1 was not of type _T, so foo = 1\n",
      "\n",
      "t2 = _T(t) # t2 will now reference t\n",
      "\n",
      "test_is(t, t2) # t and t2 are the same object\n",
      "t2.foo = 5 # this will also change t.foo to 5 because it is the same object\n",
      "test_eq(t.foo, 5)\n",
      "test_eq(t2.foo, 5)\n",
      "\n",
      "t3 = _T(t, b=1)\n",
      "assert t3 is not t\n",
      "\n",
      "t4 = _T(t) # without any arguments the constructor will return a reference to the same object\n",
      "assert t4 is t\n",
      "\u001b[0m     \n",
      "\n",
      "class NewChkMeta(FixSigMeta):=============================================================(0)       \n",
      "    \"Metaclass to avoid recreating object passed to constructor\"==========================(1) # \u001b[36;1mNewChkMeta is a metaclass inherited from FixSigMea\u001b[0m; \u001b[93;1mit makes its own __call__\u001b[0m; \u001b[93;1mwhen its class instance, e.g., _T, create object instances (e.g, t) without args nor kwargs but only x, and x is an object of the instance class, then return x\u001b[0m; \u001b[35;1motherwise, create and return a new object created by the instance class's super class' __call__ method with x as param\u001b[0m; \u001b[93;1mIn other words, t = _T(3) will create a new obj\u001b[0m; \u001b[34;1m_T(t) will return t\u001b[0m; \u001b[34;1m_T(t, 1) or _T(t, b=1) will also return a new obj\u001b[0m; \n",
      "    def __call__(cls, x=None, *args, **kwargs):===========================================(2) # \u001b[37;1mhow to create a __call__ method with param cls, x, *args, **kwargs;\u001b[0m; \n",
      "        if not args and not kwargs and x is not None and isinstance(x,cls): return x======(3) # \u001b[37;1mhow to express no args and no kwargs and x is an instance of cls?\u001b[0m; \n",
      "        res = super().__call__(*((x,) + args), **kwargs)==================================(4) # \u001b[34;1mhow to call __call__ of super class with x and consider all possible situations of args and kwargs\u001b[0m; \n",
      "        return res========================================================================(5)       \n",
      "                                                                                                                                                        (6)\n"
     ]
    }
   ],
   "source": [
    "fdb.print()"
   ]
  },
  {
   "cell_type": "code",
   "execution_count": null,
   "id": "6127950f",
   "metadata": {},
   "outputs": [],
   "source": []
  }
 ],
 "metadata": {
  "kernelspec": {
   "display_name": "Python 3 (ipykernel)",
   "language": "python",
   "name": "python3"
  }
 },
 "nbformat": 4,
 "nbformat_minor": 5
}
