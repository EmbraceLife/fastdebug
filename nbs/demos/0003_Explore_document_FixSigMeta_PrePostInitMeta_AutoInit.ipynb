{
 "cells": [
  {
   "cell_type": "markdown",
   "id": "e454a9ad",
   "metadata": {},
   "source": [
    "# 03_FixSigMeta_PrePostInitMeta_AutoInit"
   ]
  },
  {
   "cell_type": "code",
   "execution_count": null,
   "id": "b4bf4bd1",
   "metadata": {},
   "outputs": [
    {
     "data": {
      "text/html": [
       "<style>.container { width:100% !important; }</style>"
      ],
      "text/plain": [
       "<IPython.core.display.HTML object>"
      ]
     },
     "metadata": {},
     "output_type": "display_data"
    }
   ],
   "source": [
    "from fastdebug.utils import *\n",
    "from fastdebug.core import *\n",
    "import inspect"
   ]
  },
  {
   "cell_type": "code",
   "execution_count": null,
   "id": "9ec2ed74",
   "metadata": {},
   "outputs": [],
   "source": [
    "from fastcore.meta import *\n",
    "from fastcore.test import *"
   ]
  },
  {
   "cell_type": "markdown",
   "id": "8fb39705",
   "metadata": {},
   "source": [
    "## Initialize fastdebug objects"
   ]
  },
  {
   "cell_type": "code",
   "execution_count": null,
   "id": "163b7a48",
   "metadata": {},
   "outputs": [],
   "source": [
    "g = locals() # g can update itself as more cells get run, like globals() in the __main__\n",
    "fdbF = Fastdb(FixSigMeta, outloc=g)\n",
    "fdbP = Fastdb(PrePostInitMeta, outloc=g)\n",
    "fdbA = Fastdb(AutoInit, outloc=g)"
   ]
  },
  {
   "cell_type": "markdown",
   "id": "6b8df620",
   "metadata": {},
   "source": [
    "## class FixSigMeta(type) vs class Foo(type)"
   ]
  },
  {
   "cell_type": "markdown",
   "id": "2c5bc937",
   "metadata": {},
   "source": [
    "FixSigMeta inherits `__init__`, and `__call__` from `type`, but writes its own `__new__`    \n",
    "Foo inherits all three from `type`    \n",
    "FixSigMeta is used to create class instance not object instance"
   ]
  },
  {
   "cell_type": "code",
   "execution_count": null,
   "id": "ff932853",
   "metadata": {},
   "outputs": [
    {
     "name": "stdout",
     "output_type": "stream",
     "text": [
      "========================================================     Investigating \u001b[91;1mFixSigMeta\u001b[0m     ========================================================\n",
      "===============================================================     on line \u001b[91;1m1\u001b[0m     ================================================================\n",
      "=============================================================     with example \u001b[91;1m\u001b[0m     ==============================================================\n",
      "\n",
      "\u001b[93;1mprint selected srcline with expands below\u001b[0m--------\n",
      "class FixSigMeta(type):                                                                                                                                 (0)\n",
      "    \"A metaclass that fixes the signature on classes that override `__new__`\"===========================================================================(1)\n",
      "\u001b[91;1mFixSigMeta inherits __init__, and __call__ from type; but writes its own __new__; Foo inherits all three from type; FixSigMeta is used to create class instance not object instance.\u001b[0m\n",
      "    def __new__(cls, name, bases, dict):                                                                                                                (2)\n",
      "        res = super().__new__(cls, name, bases, dict)                                                                                                   (3)\n"
     ]
    }
   ],
   "source": [
    "fdbF.docsrc(1, \"FixSigMeta inherits __init__, and __call__ from type; but writes its own __new__; Foo inherits all three from type; \\\n",
    "FixSigMeta is used to create class instance not object instance.\")\n",
    "# fdbF.print()"
   ]
  },
  {
   "cell_type": "code",
   "execution_count": null,
   "id": "032e2a29",
   "metadata": {},
   "outputs": [
    {
     "name": "stdout",
     "output_type": "stream",
     "text": [
      "class FixSigMeta(type):\n",
      "    \"A metaclass that fixes the signature on classes that override `__new__`\"\n",
      "    def __new__(cls, name, bases, dict):\n",
      "        res = super().__new__(cls, name, bases, dict)\n",
      "        if res.__init__ is not object.__init__: res.__signature__ = _rm_self(inspect.signature(res.__init__))\n",
      "        return res\n",
      "\n"
     ]
    }
   ],
   "source": [
    "print(inspect.getsource(FixSigMeta))"
   ]
  },
  {
   "cell_type": "code",
   "execution_count": null,
   "id": "4654f002",
   "metadata": {},
   "outputs": [
    {
     "name": "stdout",
     "output_type": "stream",
     "text": [
      "class FixSigMeta(type):\n",
      "    \"A metaclass that fixes the signature on classes that override `__new__`\"\n",
      "    def __new__(cls, name, bases, dict):\n",
      "        res = super().__new__(cls, name, bases, dict)\n",
      "        if res.__init__ is not object.__init__: res.__signature__ = _rm_self(inspect.signature(res.__init__))\n",
      "        return res\n",
      "\n",
      "\n",
      "is FixSigMeta a metaclass: True\n",
      "is FixSigMeta created by a metaclass: False\n",
      "FixSigMeta is created by <class 'type'>\n",
      "FixSigMeta.__new__ is object.__new__: False\n",
      "FixSigMeta.__new__ is type.__new__: False\n",
      "FixSigMeta.__new__: <function FixSigMeta.__new__>\n",
      "FixSigMeta.__init__ is object.__init__: False\n",
      "FixSigMeta.__init__ is type.__init__: True\n",
      "FixSigMeta.__init__: <slot wrapper '__init__' of 'type' objects>\n",
      "FixSigMeta.__call__ is object.__call__: False\n",
      "FixSigMeta.__call__ is type.__call__: True\n",
      "FixSigMeta.__call__: <slot wrapper '__call__' of 'type' objects>\n",
      "FixSigMeta.__class__: <class 'type'>\n",
      "FixSigMeta.__bases__: (<class 'type'>,)\n",
      "FixSigMeta.__mro__: (<class 'fastcore.meta.FixSigMeta'>, <class 'type'>, <class 'object'>)\n",
      "\n",
      "FixSigMeta's function members are:\n",
      "{'__new__': <function FixSigMeta.__new__>}\n",
      "\n",
      "FixSigMeta's method members are:\n",
      "{}\n",
      "\n",
      "FixSigMeta's class members are:\n",
      "{'__base__': <class 'type'>, '__class__': <class 'type'>}\n",
      "\n",
      "FixSigMeta's namespace are:\n",
      "mappingproxy({'__doc__': 'A metaclass that fixes the signature on classes that '\n",
      "                         'override `__new__`',\n",
      "              '__module__': 'fastcore.meta',\n",
      "              '__new__': <staticmethod object>})\n"
     ]
    }
   ],
   "source": [
    "inspect_class(FixSigMeta)"
   ]
  },
  {
   "cell_type": "code",
   "execution_count": null,
   "id": "930405f7",
   "metadata": {},
   "outputs": [
    {
     "name": "stdout",
     "output_type": "stream",
     "text": [
      "\n",
      "is Foo a metaclass: True\n",
      "is Foo created by a metaclass: False\n",
      "Foo is created by <class 'type'>\n",
      "Foo.__new__ is object.__new__: False\n",
      "Foo.__new__ is type.__new__: True\n",
      "Foo.__new__: <built-in method __new__ of type object>\n",
      "Foo.__init__ is object.__init__: False\n",
      "Foo.__init__ is type.__init__: True\n",
      "Foo.__init__: <slot wrapper '__init__' of 'type' objects>\n",
      "Foo.__call__ is object.__call__: False\n",
      "Foo.__call__ is type.__call__: True\n",
      "Foo.__call__: <slot wrapper '__call__' of 'type' objects>\n",
      "Foo.__class__: <class 'type'>\n",
      "Foo.__bases__: (<class 'type'>,)\n",
      "Foo.__mro__: (<class '__main__.Foo'>, <class 'type'>, <class 'object'>)\n",
      "\n",
      "Foo's function members are:\n",
      "{}\n",
      "\n",
      "Foo's method members are:\n",
      "{}\n",
      "\n",
      "Foo's class members are:\n",
      "{'__base__': <class 'type'>, '__class__': <class 'type'>}\n",
      "\n",
      "Foo's namespace are:\n",
      "mappingproxy({'__module__': '__main__', '__doc__': None})\n"
     ]
    }
   ],
   "source": [
    "class Foo(type): pass\n",
    "inspect_class(Foo)"
   ]
  },
  {
   "cell_type": "markdown",
   "id": "55e15c40",
   "metadata": {},
   "source": [
    "## class Foo()"
   ]
  },
  {
   "cell_type": "markdown",
   "id": "e1b02041",
   "metadata": {},
   "source": [
    "When Foo inherit `__new__` and `__new__` from `object`    \n",
    "but `__call__` of Foo and `__call__` of `object` maybe the same but different objects    \n",
    "Foo is to create object instance not class instance"
   ]
  },
  {
   "cell_type": "code",
   "execution_count": null,
   "id": "185e3e62",
   "metadata": {},
   "outputs": [
    {
     "name": "stdout",
     "output_type": "stream",
     "text": [
      "\n",
      "is Foo a metaclass: False\n",
      "is Foo created by a metaclass: False\n",
      "Foo is created by <class 'type'>\n",
      "Foo.__new__ is object.__new__: True\n",
      "Foo.__new__ is type.__new__: False\n",
      "Foo.__new__: <built-in method __new__ of type object>\n",
      "Foo.__init__ is object.__init__: True\n",
      "Foo.__init__ is type.__init__: False\n",
      "Foo.__init__: <slot wrapper '__init__' of 'object' objects>\n",
      "Foo.__call__ is object.__call__: False\n",
      "Foo.__call__ is type.__call__: False\n",
      "Foo.__call__: <method-wrapper '__call__' of type object>\n",
      "Foo.__class__: <class 'type'>\n",
      "Foo.__bases__: (<class 'object'>,)\n",
      "Foo.__mro__: (<class '__main__.Foo'>, <class 'object'>)\n",
      "\n",
      "Foo's function members are:\n",
      "{}\n",
      "\n",
      "Foo's method members are:\n",
      "{}\n",
      "\n",
      "Foo's class members are:\n",
      "{'__class__': <class 'type'>}\n",
      "\n",
      "Foo's namespace are:\n",
      "mappingproxy({'__dict__': <attribute '__dict__' of 'Foo' objects>,\n",
      "              '__doc__': None,\n",
      "              '__module__': '__main__',\n",
      "              '__weakref__': <attribute '__weakref__' of 'Foo' objects>})\n"
     ]
    }
   ],
   "source": [
    "class Foo(): pass\n",
    "inspect_class(Foo)"
   ]
  },
  {
   "cell_type": "markdown",
   "id": "33239e09",
   "metadata": {},
   "source": [
    "## class PrePostInitMeta(FixSigMeta)"
   ]
  },
  {
   "cell_type": "markdown",
   "id": "b9cae698",
   "metadata": {},
   "source": [
    "`PrePostInitMeta` inherit `__new__` and `__init__` from `FixSigMeta` as a metaclass (a different type), not from `type`, nor from `object`    \n",
    "`PrePostInitMeta` is itself a metaclass, which is used to create class instance not object instance     \n",
    "`PrePostInitMeta` writes its own `__call__` which regulates how its class instance create and initialize object instance "
   ]
  },
  {
   "cell_type": "code",
   "execution_count": null,
   "id": "e80100a6",
   "metadata": {},
   "outputs": [
    {
     "name": "stdout",
     "output_type": "stream",
     "text": [
      "=====================================================     Investigating \u001b[91;1mPrePostInitMeta\u001b[0m     ======================================================\n",
      "===============================================================     on line \u001b[91;1m1\u001b[0m     ================================================================\n",
      "=============================================================     with example \u001b[91;1m\u001b[0m     ==============================================================\n",
      "\n",
      "\u001b[93;1mprint selected srcline with expands below\u001b[0m--------\n",
      "class PrePostInitMeta(FixSigMeta):                                                                                                                      (0)\n",
      "    \"A metaclass that calls optional `__pre_init__` and `__post_init__` methods\"========================================================================(1)\n",
      "\u001b[91;1mPrePostInitMeta inherit __new__ and __init__ from FixSigMeta as a metaclass (a different type); not from type, nor from object; PrePostInitMeta is itself a metaclass, which is used to create class instance not object instance; PrePostInitMeta writes its own __call__ which regulates how its class instance create and initialize object instance\u001b[0m\n",
      "    def __call__(cls, *args, **kwargs):                                                                                                                 (2)\n",
      "        res = cls.__new__(cls)                                                                                                                          (3)\n"
     ]
    }
   ],
   "source": [
    "fdbP.docsrc(1, \"PrePostInitMeta inherit __new__ and __init__ from FixSigMeta as a metaclass (a different type); \\\n",
    "not from type, nor from object; PrePostInitMeta is itself a metaclass, which is used to create class instance not object instance; \\\n",
    "PrePostInitMeta writes its own __call__ which regulates how its class instance create and initialize object instance\")"
   ]
  },
  {
   "cell_type": "code",
   "execution_count": null,
   "id": "b998bee2",
   "metadata": {},
   "outputs": [
    {
     "name": "stdout",
     "output_type": "stream",
     "text": [
      "class PrePostInitMeta(FixSigMeta):\n",
      "    \"A metaclass that calls optional `__pre_init__` and `__post_init__` methods\"\n",
      "    def __call__(cls, *args, **kwargs):\n",
      "        res = cls.__new__(cls)\n",
      "        if type(res)==cls:\n",
      "            if hasattr(res,'__pre_init__'): res.__pre_init__(*args,**kwargs)\n",
      "            res.__init__(*args,**kwargs)\n",
      "            if hasattr(res,'__post_init__'): res.__post_init__(*args,**kwargs)\n",
      "        return res\n",
      "\n",
      "\n",
      "is PrePostInitMeta a metaclass: True\n",
      "is PrePostInitMeta created by a metaclass: False\n",
      "PrePostInitMeta is created by <class 'type'>\n",
      "PrePostInitMeta.__new__ is object.__new__: False\n",
      "PrePostInitMeta.__new__ is type.__new__: False\n",
      "PrePostInitMeta.__new__: <function FixSigMeta.__new__>\n",
      "PrePostInitMeta.__init__ is object.__init__: False\n",
      "PrePostInitMeta.__init__ is type.__init__: True\n",
      "PrePostInitMeta.__init__: <slot wrapper '__init__' of 'type' objects>\n",
      "PrePostInitMeta.__call__ is object.__call__: False\n",
      "PrePostInitMeta.__call__ is type.__call__: False\n",
      "PrePostInitMeta.__call__: <function PrePostInitMeta.__call__>\n",
      "PrePostInitMeta.__class__: <class 'type'>\n",
      "PrePostInitMeta.__bases__: (<class 'fastcore.meta.FixSigMeta'>,)\n",
      "PrePostInitMeta.__mro__: (<class 'fastcore.meta.PrePostInitMeta'>, <class 'fastcore.meta.FixSigMeta'>, <class 'type'>, <class 'object'>)\n",
      "\n",
      "PrePostInitMeta's function members are:\n",
      "{'__call__': <function PrePostInitMeta.__call__>,\n",
      " '__new__': <function FixSigMeta.__new__>}\n",
      "\n",
      "PrePostInitMeta's method members are:\n",
      "{}\n",
      "\n",
      "PrePostInitMeta's class members are:\n",
      "{'__base__': <class 'fastcore.meta.FixSigMeta'>, '__class__': <class 'type'>}\n",
      "\n",
      "PrePostInitMeta's namespace are:\n",
      "mappingproxy({'__call__': <function PrePostInitMeta.__call__>,\n",
      "              '__doc__': 'A metaclass that calls optional `__pre_init__` and '\n",
      "                         '`__post_init__` methods',\n",
      "              '__module__': 'fastcore.meta'})\n"
     ]
    }
   ],
   "source": [
    "inspect_class(PrePostInitMeta)"
   ]
  },
  {
   "cell_type": "code",
   "execution_count": null,
   "id": "ac6b02ac",
   "metadata": {},
   "outputs": [
    {
     "name": "stdout",
     "output_type": "stream",
     "text": [
      "\n",
      "is Foo a metaclass: True\n",
      "is Foo created by a metaclass: False\n",
      "Foo is created by <class 'type'>\n",
      "Foo.__new__ is object.__new__: False\n",
      "Foo.__new__ is type.__new__: False\n",
      "Foo.__new__: <function FixSigMeta.__new__>\n",
      "Foo.__init__ is object.__init__: False\n",
      "Foo.__init__ is type.__init__: True\n",
      "Foo.__init__: <slot wrapper '__init__' of 'type' objects>\n",
      "Foo.__call__ is object.__call__: False\n",
      "Foo.__call__ is type.__call__: True\n",
      "Foo.__call__: <slot wrapper '__call__' of 'type' objects>\n",
      "Foo.__class__: <class 'type'>\n",
      "Foo.__bases__: (<class 'fastcore.meta.FixSigMeta'>,)\n",
      "Foo.__mro__: (<class '__main__.Foo'>, <class 'fastcore.meta.FixSigMeta'>, <class 'type'>, <class 'object'>)\n",
      "\n",
      "Foo's function members are:\n",
      "{'__new__': <function FixSigMeta.__new__>}\n",
      "\n",
      "Foo's method members are:\n",
      "{}\n",
      "\n",
      "Foo's class members are:\n",
      "{'__base__': <class 'fastcore.meta.FixSigMeta'>, '__class__': <class 'type'>}\n",
      "\n",
      "Foo's namespace are:\n",
      "mappingproxy({'__module__': '__main__', '__doc__': None})\n"
     ]
    }
   ],
   "source": [
    "class Foo(FixSigMeta): pass\n",
    "inspect_class(Foo)"
   ]
  },
  {
   "cell_type": "markdown",
   "id": "de45634b",
   "metadata": {},
   "source": [
    "## class Foo(metaclass=FixSigMeta)"
   ]
  },
  {
   "cell_type": "markdown",
   "id": "c5af209e",
   "metadata": {},
   "source": [
    "Foo inherit `__new__`, `__init__` from object to create object instance     \n",
    "Foo uses FixSigMeta not type to create class instance\n",
    "FixSigMeta.`__new__` determine what kind of a class is Foo    \n",
    "In this case, FixSigMeta.`__new__` create Foo class and an attr `__signature__` if Foo has its own `__init__`    \n",
    "FixSigMeta.`__new__` create Foo the class, has nothing to do with the instance method Foo.`__init__`"
   ]
  },
  {
   "cell_type": "code",
   "execution_count": null,
   "id": "4865f8e1",
   "metadata": {},
   "outputs": [
    {
     "name": "stdout",
     "output_type": "stream",
     "text": [
      "\n",
      "is Foo a metaclass: False\n",
      "is Foo created by a metaclass: True\n",
      "Foo is created by metaclass <class 'fastcore.meta.FixSigMeta'>\n",
      "Foo.__new__ is object.__new__: True\n",
      "Foo.__new__ is type.__new__: False\n",
      "Foo.__new__: <built-in method __new__ of type object>\n",
      "Foo.__init__ is object.__init__: True\n",
      "Foo.__init__ is type.__init__: False\n",
      "Foo.__init__: <slot wrapper '__init__' of 'object' objects>\n",
      "Foo.__call__ is object.__call__: False\n",
      "Foo.__call__ is type.__call__: False\n",
      "Foo.__call__: <method-wrapper '__call__' of FixSigMeta object>\n",
      "Foo.__class__: <class 'fastcore.meta.FixSigMeta'>\n",
      "Foo.__bases__: (<class 'object'>,)\n",
      "Foo.__mro__: (<class '__main__.Foo'>, <class 'object'>)\n",
      "\n",
      "Foo's metaclass <class 'fastcore.meta.FixSigMeta'>'s function members are:\n",
      "{'__new__': <function FixSigMeta.__new__>}\n",
      "\n",
      "Foo's function members are:\n",
      "{}\n",
      "\n",
      "Foo's method members are:\n",
      "{}\n",
      "\n",
      "Foo's class members are:\n",
      "{'__class__': <class 'fastcore.meta.FixSigMeta'>}\n",
      "\n",
      "Foo's namespace are:\n",
      "mappingproxy({'__dict__': <attribute '__dict__' of 'Foo' objects>,\n",
      "              '__doc__': None,\n",
      "              '__module__': '__main__',\n",
      "              '__weakref__': <attribute '__weakref__' of 'Foo' objects>})\n"
     ]
    }
   ],
   "source": [
    "class Foo(metaclass=FixSigMeta): pass\n",
    "inspect_class(Foo)"
   ]
  },
  {
   "cell_type": "code",
   "execution_count": null,
   "id": "83f8ceb6",
   "metadata": {},
   "outputs": [
    {
     "name": "stdout",
     "output_type": "stream",
     "text": [
      "\n",
      "is Foo a metaclass: False\n",
      "is Foo created by a metaclass: True\n",
      "Foo is created by metaclass <class 'fastcore.meta.FixSigMeta'>\n",
      "Foo.__new__ is object.__new__: True\n",
      "Foo.__new__ is type.__new__: False\n",
      "Foo.__new__: <built-in method __new__ of type object>\n",
      "Foo.__init__ is object.__init__: False\n",
      "Foo.__init__ is type.__init__: False\n",
      "Foo.__init__: <function Foo.__init__>\n",
      "Foo.__call__ is object.__call__: False\n",
      "Foo.__call__ is type.__call__: False\n",
      "Foo.__call__: <method-wrapper '__call__' of FixSigMeta object>\n",
      "Foo.__class__: <class 'fastcore.meta.FixSigMeta'>\n",
      "Foo.__bases__: (<class 'object'>,)\n",
      "Foo.__mro__: (<class '__main__.Foo'>, <class 'object'>)\n",
      "\n",
      "Foo's metaclass <class 'fastcore.meta.FixSigMeta'>'s function members are:\n",
      "{'__new__': <function FixSigMeta.__new__>}\n",
      "\n",
      "Foo's function members are:\n",
      "{'__init__': <function Foo.__init__>}\n",
      "\n",
      "Foo's method members are:\n",
      "{}\n",
      "\n",
      "Foo's class members are:\n",
      "{'__class__': <class 'fastcore.meta.FixSigMeta'>}\n",
      "\n",
      "Foo's namespace are:\n",
      "mappingproxy({'__dict__': <attribute '__dict__' of 'Foo' objects>,\n",
      "              '__doc__': None,\n",
      "              '__init__': <function Foo.__init__>,\n",
      "              '__module__': '__main__',\n",
      "              '__signature__': <Signature (a, b)>,\n",
      "              '__weakref__': <attribute '__weakref__' of 'Foo' objects>})\n"
     ]
    }
   ],
   "source": [
    "class Foo(metaclass=FixSigMeta): \n",
    "    def __init__(self, a, b): pass\n",
    "inspect_class(Foo)"
   ]
  },
  {
   "cell_type": "markdown",
   "id": "7a98e7d9",
   "metadata": {},
   "source": [
    "## class AutoInit(metaclass=PrePostInitMeta)"
   ]
  },
  {
   "cell_type": "markdown",
   "id": "784ff2dc",
   "metadata": {},
   "source": [
    "AutoInit inherit `__new__` and `__init__` from `object` to create and initialize object instances     \n",
    "AutoInit uses PrePostInitMeta.`__new__` or in fact FixSigMeta.`__new__` to create its own class instance, which can have `__signature__`    \n",
    "AutoInit uses PrePostInitMeta.`__call__` to specify how its object instance to be created and initialized (with pre_init, init, post_init)     \n",
    "AutoInit as a normal or non-metaclass, it writes its own `__pre_init__` instance method"
   ]
  },
  {
   "cell_type": "code",
   "execution_count": null,
   "id": "55f2505a",
   "metadata": {},
   "outputs": [
    {
     "name": "stdout",
     "output_type": "stream",
     "text": [
      "=========================================================     Investigating \u001b[91;1mAutoInit\u001b[0m     =========================================================\n",
      "===============================================================     on line \u001b[91;1m1\u001b[0m     ================================================================\n",
      "=============================================================     with example \u001b[91;1m\u001b[0m     ==============================================================\n",
      "\n",
      "\u001b[93;1mprint selected srcline with expands below\u001b[0m--------\n",
      "class AutoInit(metaclass=PrePostInitMeta):                                                                                                              (0)\n",
      "    \"Same as `object`, but no need for subclasses to call `super().__init__`\"===========================================================================(1)\n",
      "\u001b[91;1mAutoInit inherit __new__ and __init__ from object to create and initialize object instances; AutoInit uses PrePostInitMeta.__new__ or in fact FixSigMeta.__new__ to create its own class instance, which can have __signature__; AutoInit uses PrePostInitMeta.__call__ to specify how its object instance to be created and initialized (with pre_init, init, post_init)); AutoInit as a normal or non-metaclass, it writes its own __pre_init__ method\u001b[0m\n",
      "    def __pre_init__(self, *args, **kwargs): super().__init__(*args, **kwargs)                                                                          (2)\n",
      "                                                                                                                                                        (3)\n"
     ]
    }
   ],
   "source": [
    "fdbA.docsrc(1, \"AutoInit inherit __new__ and __init__ from object to create and initialize object instances; \\\n",
    "AutoInit uses PrePostInitMeta.__new__ or in fact FixSigMeta.__new__ to create its own class instance, which can have __signature__; \\\n",
    "AutoInit uses PrePostInitMeta.__call__ to specify how its object instance to be created and initialized (with pre_init, init, post_init)); \\\n",
    "AutoInit as a normal or non-metaclass, it writes its own __pre_init__ method\")"
   ]
  },
  {
   "cell_type": "code",
   "execution_count": null,
   "id": "a03f18cb",
   "metadata": {},
   "outputs": [],
   "source": []
  },
  {
   "cell_type": "code",
   "execution_count": null,
   "id": "051a1152",
   "metadata": {},
   "outputs": [
    {
     "name": "stdout",
     "output_type": "stream",
     "text": [
      "class AutoInit(metaclass=PrePostInitMeta):\n",
      "    \"Same as `object`, but no need for subclasses to call `super().__init__`\"\n",
      "    def __pre_init__(self, *args, **kwargs): super().__init__(*args, **kwargs)\n",
      "\n",
      "\n",
      "is AutoInit a metaclass: False\n",
      "is AutoInit created by a metaclass: True\n",
      "AutoInit is created by metaclass <class 'fastcore.meta.PrePostInitMeta'>\n",
      "AutoInit.__new__ is object.__new__: True\n",
      "AutoInit.__new__ is type.__new__: False\n",
      "AutoInit.__new__: <built-in method __new__ of type object>\n",
      "AutoInit.__init__ is object.__init__: True\n",
      "AutoInit.__init__ is type.__init__: False\n",
      "AutoInit.__init__: <slot wrapper '__init__' of 'object' objects>\n",
      "AutoInit.__call__ is object.__call__: False\n",
      "AutoInit.__call__ is type.__call__: False\n",
      "AutoInit.__call__: <bound method PrePostInitMeta.__call__ of <class 'fastcore.meta.AutoInit'>>\n",
      "AutoInit.__class__: <class 'fastcore.meta.PrePostInitMeta'>\n",
      "AutoInit.__bases__: (<class 'object'>,)\n",
      "AutoInit.__mro__: (<class 'fastcore.meta.AutoInit'>, <class 'object'>)\n",
      "\n",
      "AutoInit's metaclass <class 'fastcore.meta.PrePostInitMeta'>'s function members are:\n",
      "{'__call__': <function PrePostInitMeta.__call__>,\n",
      " '__new__': <function FixSigMeta.__new__>}\n",
      "\n",
      "AutoInit's function members are:\n",
      "{'__pre_init__': <function AutoInit.__pre_init__>}\n",
      "\n",
      "AutoInit's method members are:\n",
      "{}\n",
      "\n",
      "AutoInit's class members are:\n",
      "{'__class__': <class 'fastcore.meta.PrePostInitMeta'>}\n",
      "\n",
      "AutoInit's namespace are:\n",
      "mappingproxy({'__dict__': <attribute '__dict__' of 'AutoInit' objects>,\n",
      "              '__doc__': 'Same as `object`, but no need for subclasses to call '\n",
      "                         '`super().__init__`',\n",
      "              '__module__': 'fastcore.meta',\n",
      "              '__pre_init__': <function AutoInit.__pre_init__>,\n",
      "              '__weakref__': <attribute '__weakref__' of 'AutoInit' objects>})\n"
     ]
    }
   ],
   "source": [
    "inspect_class(AutoInit)"
   ]
  },
  {
   "cell_type": "code",
   "execution_count": null,
   "id": "55b18f75",
   "metadata": {},
   "outputs": [
    {
     "name": "stdout",
     "output_type": "stream",
     "text": [
      "\n",
      "is Foo a metaclass: False\n",
      "is Foo created by a metaclass: True\n",
      "Foo is created by metaclass <class 'fastcore.meta.PrePostInitMeta'>\n",
      "Foo.__new__ is object.__new__: True\n",
      "Foo.__new__ is type.__new__: False\n",
      "Foo.__new__: <built-in method __new__ of type object>\n",
      "Foo.__init__ is object.__init__: True\n",
      "Foo.__init__ is type.__init__: False\n",
      "Foo.__init__: <slot wrapper '__init__' of 'object' objects>\n",
      "Foo.__call__ is object.__call__: False\n",
      "Foo.__call__ is type.__call__: False\n",
      "Foo.__call__: <bound method PrePostInitMeta.__call__ of <class '__main__.Foo'>>\n",
      "Foo.__class__: <class 'fastcore.meta.PrePostInitMeta'>\n",
      "Foo.__bases__: (<class 'fastcore.meta.AutoInit'>,)\n",
      "Foo.__mro__: (<class '__main__.Foo'>, <class 'fastcore.meta.AutoInit'>, <class 'object'>)\n",
      "\n",
      "Foo's metaclass <class 'fastcore.meta.PrePostInitMeta'>'s function members are:\n",
      "{'__call__': <function PrePostInitMeta.__call__>,\n",
      " '__new__': <function FixSigMeta.__new__>}\n",
      "\n",
      "Foo's function members are:\n",
      "{'__pre_init__': <function AutoInit.__pre_init__>}\n",
      "\n",
      "Foo's method members are:\n",
      "{}\n",
      "\n",
      "Foo's class members are:\n",
      "{'__class__': <class 'fastcore.meta.PrePostInitMeta'>}\n",
      "\n",
      "Foo's namespace are:\n",
      "mappingproxy({'__module__': '__main__', '__doc__': None})\n"
     ]
    }
   ],
   "source": [
    "class Foo(AutoInit): pass\n",
    "inspect_class(Foo)"
   ]
  },
  {
   "cell_type": "code",
   "execution_count": null,
   "id": "edfce4dc",
   "metadata": {},
   "outputs": [
    {
     "name": "stdout",
     "output_type": "stream",
     "text": [
      "\n",
      "is Foo a metaclass: False\n",
      "is Foo created by a metaclass: True\n",
      "Foo is created by metaclass <class 'fastcore.meta.PrePostInitMeta'>\n",
      "Foo.__new__ is object.__new__: True\n",
      "Foo.__new__ is type.__new__: False\n",
      "Foo.__new__: <built-in method __new__ of type object>\n",
      "Foo.__init__ is object.__init__: False\n",
      "Foo.__init__ is type.__init__: False\n",
      "Foo.__init__: <function Foo.__init__>\n",
      "Foo.__call__ is object.__call__: False\n",
      "Foo.__call__ is type.__call__: False\n",
      "Foo.__call__: <bound method PrePostInitMeta.__call__ of <class '__main__.Foo'>>\n",
      "Foo.__class__: <class 'fastcore.meta.PrePostInitMeta'>\n",
      "Foo.__bases__: (<class 'fastcore.meta.AutoInit'>,)\n",
      "Foo.__mro__: (<class '__main__.Foo'>, <class 'fastcore.meta.AutoInit'>, <class 'object'>)\n",
      "\n",
      "Foo's metaclass <class 'fastcore.meta.PrePostInitMeta'>'s function members are:\n",
      "{'__call__': <function PrePostInitMeta.__call__>,\n",
      " '__new__': <function FixSigMeta.__new__>}\n",
      "\n",
      "Foo's function members are:\n",
      "{'__init__': <function Foo.__init__>,\n",
      " '__pre_init__': <function AutoInit.__pre_init__>}\n",
      "\n",
      "Foo's method members are:\n",
      "{}\n",
      "\n",
      "Foo's class members are:\n",
      "{'__class__': <class 'fastcore.meta.PrePostInitMeta'>}\n",
      "\n",
      "Foo's namespace are:\n",
      "mappingproxy({'__doc__': None,\n",
      "              '__init__': <function Foo.__init__>,\n",
      "              '__module__': '__main__',\n",
      "              '__signature__': <Signature ()>})\n"
     ]
    }
   ],
   "source": [
    "class Foo(AutoInit): \n",
    "    def __init__(self): pass # to enable __signature__ by FixSigMeta.__new__\n",
    "inspect_class(Foo)"
   ]
  },
  {
   "cell_type": "code",
   "execution_count": null,
   "id": "38acb4ef",
   "metadata": {},
   "outputs": [
    {
     "name": "stdout",
     "output_type": "stream",
     "text": [
      "\n",
      "is TestChild a metaclass: False\n",
      "is TestChild created by a metaclass: True\n",
      "TestChild is created by metaclass <class 'fastcore.meta.PrePostInitMeta'>\n",
      "TestChild.__new__ is object.__new__: True\n",
      "TestChild.__new__ is type.__new__: False\n",
      "TestChild.__new__: <built-in method __new__ of type object>\n",
      "TestChild.__init__ is object.__init__: False\n",
      "TestChild.__init__ is type.__init__: False\n",
      "TestChild.__init__: <function TestChild.__init__>\n",
      "TestChild.__call__ is object.__call__: False\n",
      "TestChild.__call__ is type.__call__: False\n",
      "TestChild.__call__: <bound method PrePostInitMeta.__call__ of <class '__main__.TestChild'>>\n",
      "TestChild.__class__: <class 'fastcore.meta.PrePostInitMeta'>\n",
      "TestChild.__bases__: (<class 'fastcore.meta.AutoInit'>, <class '__main__.TestParent'>)\n",
      "TestChild.__mro__: (<class '__main__.TestChild'>, <class 'fastcore.meta.AutoInit'>, <class '__main__.TestParent'>, <class 'object'>)\n",
      "\n",
      "TestChild's metaclass <class 'fastcore.meta.PrePostInitMeta'>'s function members are:\n",
      "{'__call__': <function PrePostInitMeta.__call__>,\n",
      " '__new__': <function FixSigMeta.__new__>}\n",
      "\n",
      "TestChild's function members are:\n",
      "{'__init__': <function TestChild.__init__>,\n",
      " '__pre_init__': <function AutoInit.__pre_init__>}\n",
      "\n",
      "TestChild's method members are:\n",
      "{}\n",
      "\n",
      "TestChild's class members are:\n",
      "{'__class__': <class 'fastcore.meta.PrePostInitMeta'>}\n",
      "\n",
      "TestChild's namespace are:\n",
      "mappingproxy({'__doc__': None,\n",
      "              '__init__': <function TestChild.__init__>,\n",
      "              '__module__': '__main__',\n",
      "              '__signature__': <Signature ()>})\n"
     ]
    }
   ],
   "source": [
    "class TestParent():\n",
    "    def __init__(self): self.h = 10\n",
    "        \n",
    "class TestChild(AutoInit, TestParent):\n",
    "    def __init__(self): self.k = self.h + 2\n",
    "inspect_class(TestChild)"
   ]
  },
  {
   "cell_type": "code",
   "execution_count": null,
   "id": "17da29e5",
   "metadata": {},
   "outputs": [
    {
     "name": "stdout",
     "output_type": "stream",
     "text": [
      "\n",
      "is _T a metaclass: False\n",
      "is _T created by a metaclass: True\n",
      "_T is created by metaclass <class 'fastcore.meta.PrePostInitMeta'>\n",
      "_T.__new__ is object.__new__: True\n",
      "_T.__new__ is type.__new__: False\n",
      "_T.__new__: <built-in method __new__ of type object>\n",
      "_T.__init__ is object.__init__: False\n",
      "_T.__init__ is type.__init__: False\n",
      "_T.__init__: <function _T.__init__>\n",
      "_T.__call__ is object.__call__: False\n",
      "_T.__call__ is type.__call__: False\n",
      "_T.__call__: <bound method PrePostInitMeta.__call__ of <class '__main__._T'>>\n",
      "_T.__class__: <class 'fastcore.meta.PrePostInitMeta'>\n",
      "_T.__bases__: (<class 'object'>,)\n",
      "_T.__mro__: (<class '__main__._T'>, <class 'object'>)\n",
      "\n",
      "_T's metaclass <class 'fastcore.meta.PrePostInitMeta'>'s function members are:\n",
      "{'__call__': <function PrePostInitMeta.__call__>,\n",
      " '__new__': <function FixSigMeta.__new__>}\n",
      "\n",
      "_T's function members are:\n",
      "{'__init__': <function _T.__init__>,\n",
      " '__post_init__': <function _T.__post_init__>,\n",
      " '__pre_init__': <function _T.__pre_init__>}\n",
      "\n",
      "_T's method members are:\n",
      "{}\n",
      "\n",
      "_T's class members are:\n",
      "{'__class__': <class 'fastcore.meta.PrePostInitMeta'>}\n",
      "\n",
      "_T's namespace are:\n",
      "mappingproxy({'__dict__': <attribute '__dict__' of '_T' objects>,\n",
      "              '__doc__': None,\n",
      "              '__init__': <function _T.__init__>,\n",
      "              '__module__': '__main__',\n",
      "              '__post_init__': <function _T.__post_init__>,\n",
      "              '__pre_init__': <function _T.__pre_init__>,\n",
      "              '__signature__': <Signature (b=0)>,\n",
      "              '__weakref__': <attribute '__weakref__' of '_T' objects>})\n"
     ]
    }
   ],
   "source": [
    "class _T(metaclass=PrePostInitMeta):\n",
    "    def __pre_init__(self):  self.a  = 0; \n",
    "    def __init__(self,b=0):  self.b = self.a + 1; assert self.b==1\n",
    "    def __post_init__(self): self.c = self.b + 2; assert self.c==3\n",
    "inspect_class(_T)"
   ]
  },
  {
   "cell_type": "code",
   "execution_count": null,
   "id": "0106719b",
   "metadata": {},
   "outputs": [],
   "source": []
  },
  {
   "cell_type": "markdown",
   "id": "ffb63992",
   "metadata": {},
   "source": [
    "## Prepare examples for FixSigMeta, PrePostInitMeta, AutoInit "
   ]
  },
  {
   "cell_type": "code",
   "execution_count": null,
   "id": "e9504aae",
   "metadata": {},
   "outputs": [],
   "source": [
    "# g = locals() \n",
    "# fdbF = Fastdb(FixSigMeta, outloc=g)\n",
    "fdbF.eg = \"\"\"\n",
    "class Foo(metaclass=FixSigMeta):\n",
    "    def __init__(self): pass\n",
    "\"\"\"\n",
    "\n",
    "# fdbP = Fastdb(PrePostInitMeta, outloc=g)\n",
    "fdbP.eg = \"\"\"\n",
    "class _T(metaclass=PrePostInitMeta):\n",
    "    def __pre_init__(self):  self.a  = 0; \n",
    "    def __init__(self,b=0):  self.b = self.a + 1; assert self.b==1\n",
    "    def __post_init__(self): self.c = self.b + 2; assert self.c==3\n",
    "\n",
    "t = _T()\n",
    "test_eq(t.a, 0) # set with __pre_init__\n",
    "test_eq(t.b, 1) # set with __init__\n",
    "test_eq(t.c, 3) # set with __post_init__\n",
    "inspect.signature(_T)\n",
    "\"\"\"\n",
    "\n",
    "# fdbA = Fastdb(AutoInit, outloc=g)\n",
    "fdbA.eg = \"\"\"\n",
    "class TestParent():\n",
    "    def __init__(self): self.h = 10\n",
    "        \n",
    "class TestChild(AutoInit, TestParent):\n",
    "    def __init__(self): self.k = self.h + 2\n",
    "    \n",
    "t = TestChild()\n",
    "test_eq(t.h, 10) # h=10 is initialized in the parent class\n",
    "test_eq(t.k, 12)\n",
    "\"\"\""
   ]
  },
  {
   "cell_type": "markdown",
   "id": "5566dcd8",
   "metadata": {},
   "source": [
    "## Snoop them together in one go"
   ]
  },
  {
   "cell_type": "code",
   "execution_count": null,
   "id": "71fc59d4",
   "metadata": {},
   "outputs": [
    {
     "name": "stderr",
     "output_type": "stream",
     "text": [
      "23:04:33.14 >>> Call to FixSigMeta.__new__ in File \"/tmp/FixSigMeta.py\", line 5\n",
      "23:04:33.14 .......... cls = <class 'fastcore.meta.FixSigMeta'>\n",
      "23:04:33.14 .......... name = 'Foo'\n",
      "23:04:33.14 .......... bases = ()\n",
      "23:04:33.14 .......... dict = {'__module__': '__main__', '__qualname__': 'Foo', '__init__': <function Foo.__init__>}\n",
      "23:04:33.14 .......... len(dict) = 3\n",
      "23:04:33.14 .......... __class__ = <class 'fastcore.meta.FixSigMeta'>\n",
      "23:04:33.14    5 |     def __new__(cls, name, bases, dict):\n",
      "23:04:33.14    6 |         res = super().__new__(cls, name, bases, dict)\n",
      "23:04:33.14 .............. res = <class '__main__.Foo'>\n",
      "23:04:33.14 .............. type(res) = <class 'fastcore.meta.FixSigMeta'>\n",
      "23:04:33.14 .............. res.__class__ = <class 'fastcore.meta.FixSigMeta'>\n",
      "23:04:33.14 .............. res.__dict__ = mappingproxy({'__module__': '__main__', '__init_...__weakref__' of 'Foo' objects>, '__doc__': None})\n",
      "23:04:33.14 .............. len(res.__dict__) = 5\n",
      "23:04:33.14    7 |         if res.__init__ is not object.__init__: res.__signature__ = _rm_self(inspect.signature(res.__init__))\n",
      "23:04:33.14 ...... res.__dict__ = mappingproxy({'__module__': '__main__', '__init_...__doc__': None, '__signature__': <Signature ()>})\n",
      "23:04:33.14 ...... len(res.__dict__) = 6\n",
      "23:04:33.14    8 |         return res\n",
      "23:04:33.14 <<< Return value from FixSigMeta.__new__: <class '__main__.Foo'>\n"
     ]
    },
    {
     "name": "stdout",
     "output_type": "stream",
     "text": [
      "========================================================     Investigating \u001b[91;1mFixSigMeta\u001b[0m     ========================================================\n",
      "==============================================================     on line \u001b[91;1mNone\u001b[0m     ==============================================================\n",
      "==============================     with example \u001b[91;1m\n",
      "class Foo(metaclass=FixSigMeta):\n",
      "    def __init__(self): pass\n",
      "\u001b[0m     ==============================\n",
      "\n"
     ]
    }
   ],
   "source": [
    "\n",
    "fdbF.snoop(watch=['res', 'type(res)', 'res.__class__', 'res.__dict__'])"
   ]
  },
  {
   "cell_type": "markdown",
   "id": "775d8813",
   "metadata": {},
   "source": [
    "### embed the dbsrc of FixSigMeta into PrePostInitMeta"
   ]
  },
  {
   "cell_type": "markdown",
   "id": "79508373",
   "metadata": {},
   "source": [
    "**Important!**    \n",
    "FixSigMeta is untouched, fdbF.dbsrc.`__new__` is the actual dbsrc     \n",
    "To use fdbF.dbsrc in other functions or classes which uses FixSigMeta, we need to assign `fdbF.dbsrc` to `fm.FixSigMeta`"
   ]
  },
  {
   "cell_type": "code",
   "execution_count": null,
   "id": "f131fe02",
   "metadata": {},
   "outputs": [],
   "source": [
    "import fastcore.meta as fm"
   ]
  },
  {
   "cell_type": "code",
   "execution_count": null,
   "id": "610905fa",
   "metadata": {},
   "outputs": [],
   "source": [
    "fm.FixSigMeta = fdbF.dbsrc"
   ]
  },
  {
   "cell_type": "code",
   "execution_count": null,
   "id": "8e2bc42c",
   "metadata": {},
   "outputs": [
    {
     "name": "stderr",
     "output_type": "stream",
     "text": [
      "23:04:33.18 >>> Call to FixSigMeta.__new__ in File \"/tmp/FixSigMeta.py\", line 5\n",
      "23:04:33.18 .......... cls = <class 'fastcore.meta.PrePostInitMeta'>\n",
      "23:04:33.18 .......... name = '_T'\n",
      "23:04:33.18 .......... bases = ()\n",
      "23:04:33.18 .......... dict = {'__module__': '__main__', '__qualname__': '_T', '__pre_init__': <function _T.__pre_init__>, '__init__': <function _T.__init__>, ...}\n",
      "23:04:33.18 .......... len(dict) = 5\n",
      "23:04:33.18 .......... __class__ = <class 'fastcore.meta.FixSigMeta'>\n",
      "23:04:33.18    5 |     def __new__(cls, name, bases, dict):\n",
      "23:04:33.18    6 |         res = super().__new__(cls, name, bases, dict)\n",
      "23:04:33.18 .............. res = <class '__main__._T'>\n",
      "23:04:33.18 .............. type(res) = <class 'fastcore.meta.PrePostInitMeta'>\n",
      "23:04:33.18 .............. res.__class__ = <class 'fastcore.meta.PrePostInitMeta'>\n",
      "23:04:33.18 .............. res.__dict__ = mappingproxy({'__module__': '__main__', '__pre_i...'__weakref__' of '_T' objects>, '__doc__': None})\n",
      "23:04:33.18 .............. len(res.__dict__) = 7\n",
      "23:04:33.18    7 |         if res.__init__ is not object.__init__: res.__signature__ = _rm_self(inspect.signature(res.__init__))\n",
      "23:04:33.18 ...... res.__dict__ = mappingproxy({'__module__': '__main__', '__pre_i...oc__': None, '__signature__': <Signature (b=0)>})\n",
      "23:04:33.18 ...... len(res.__dict__) = 8\n",
      "23:04:33.18    8 |         return res\n",
      "23:04:33.18 <<< Return value from FixSigMeta.__new__: <class '__main__._T'>\n",
      "23:04:33.19 >>> Call to PrePostInitMeta.__call__ in File \"/tmp/PrePostInitMeta.py\", line 5\n",
      "23:04:33.19 .......... cls = <class '__main__._T'>\n",
      "23:04:33.19 .......... args = ()\n",
      "23:04:33.19 .......... kwargs = {}\n",
      "23:04:33.19    5 |     def __call__(cls, *args, **kwargs):\n",
      "23:04:33.19    6 |         res = cls.__new__(cls)\n",
      "23:04:33.19 .............. res = <__main__._T object>\n",
      "23:04:33.19 .............. res.__dict__ = {}\n",
      "23:04:33.19    7 |         if type(res)==cls:\n",
      "23:04:33.19    8 |             if hasattr(res,'__pre_init__'): res.__pre_init__(*args,**kwargs)\n",
      "23:04:33.19 ...... res.__dict__ = {'a': 0}\n",
      "23:04:33.19 ...... len(res.__dict__) = 1\n",
      "23:04:33.19    9 |             res.__init__(*args,**kwargs)\n",
      "23:04:33.19 .................. res.__dict__ = {'a': 0, 'b': 1}\n",
      "23:04:33.19 .................. len(res.__dict__) = 2\n",
      "23:04:33.19   10 |             if hasattr(res,'__post_init__'): res.__post_init__(*args,**kwargs)\n",
      "23:04:33.19 ...... res.__dict__ = {'a': 0, 'b': 1, 'c': 3}\n",
      "23:04:33.19 ...... len(res.__dict__) = 3\n",
      "23:04:33.19   11 |         return res\n",
      "23:04:33.19 <<< Return value from PrePostInitMeta.__call__: <__main__._T object>\n"
     ]
    },
    {
     "name": "stdout",
     "output_type": "stream",
     "text": [
      "=====================================================     Investigating \u001b[91;1mPrePostInitMeta\u001b[0m     ======================================================\n",
      "==============================================================     on line \u001b[91;1mNone\u001b[0m     ==============================================================\n",
      "     with example \u001b[91;1m\n",
      "class _T(metaclass=PrePostInitMeta):\n",
      "    def __pre_init__(self):  self.a  = 0; \n",
      "    def __init__(self,b=0):  self.b = self.a + 1; assert self.b==1\n",
      "    def __post_init__(self): self.c = self.b + 2; assert self.c==3\n",
      "\n",
      "t = _T()\n",
      "test_eq(t.a, 0) # set with __pre_init__\n",
      "test_eq(t.b, 1) # set with __init__\n",
      "test_eq(t.c, 3) # set with __post_init__\n",
      "inspect.signature(_T)\n",
      "\u001b[0m     \n",
      "\n"
     ]
    }
   ],
   "source": [
    "fdbP.snoop(['res.__dict__'])"
   ]
  },
  {
   "cell_type": "markdown",
   "id": "5717a975",
   "metadata": {},
   "source": [
    "### embed dbsrc of PrePostInitMeta into AutoInit"
   ]
  },
  {
   "cell_type": "code",
   "execution_count": null,
   "id": "44f256c0",
   "metadata": {},
   "outputs": [],
   "source": [
    "fm.PrePostInitMeta = fdbP.dbsrc"
   ]
  },
  {
   "cell_type": "code",
   "execution_count": null,
   "id": "7952e27c",
   "metadata": {},
   "outputs": [
    {
     "name": "stderr",
     "output_type": "stream",
     "text": [
      "23:04:33.20 >>> Call to FixSigMeta.__new__ in File \"/tmp/FixSigMeta.py\", line 5\n",
      "23:04:33.20 .......... cls = <class 'fastcore.meta.PrePostInitMeta'>\n",
      "23:04:33.20 .......... name = 'AutoInit'\n",
      "23:04:33.20 .......... bases = ()\n",
      "23:04:33.20 .......... dict = {'__module__': 'fastcore.meta', '__qualname__': 'AutoInit', '__doc__': 'Same as `object`, but no need for subclasses to call `super().__init__`', 'snoop': <class 'snoop.configuration.Config.__init__.<locals>.ConfiguredTracer'>, ...}\n",
      "23:04:33.20 .......... len(dict) = 6\n",
      "23:04:33.20 .......... __class__ = <class 'fastcore.meta.FixSigMeta'>\n",
      "23:04:33.20    5 |     def __new__(cls, name, bases, dict):\n",
      "23:04:33.20    6 |         res = super().__new__(cls, name, bases, dict)\n",
      "23:04:33.20 .............. res = <class 'fastcore.meta.AutoInit'>\n",
      "23:04:33.20 .............. type(res) = <class 'fastcore.meta.PrePostInitMeta'>\n",
      "23:04:33.20 .............. res.__class__ = <class 'fastcore.meta.PrePostInitMeta'>\n",
      "23:04:33.20 .............. res.__dict__ = mappingproxy({'__module__': 'fastcore.meta', '__...<attribute '__weakref__' of 'AutoInit' objects>})\n",
      "23:04:33.20 .............. len(res.__dict__) = 6\n",
      "23:04:33.20    7 |         if res.__init__ is not object.__init__: res.__signature__ = _rm_self(inspect.signature(res.__init__))\n",
      "23:04:33.20    8 |         return res\n",
      "23:04:33.20 <<< Return value from FixSigMeta.__new__: <class 'fastcore.meta.AutoInit'>\n",
      "23:04:33.20 >>> Call to FixSigMeta.__new__ in File \"/tmp/FixSigMeta.py\", line 5\n",
      "23:04:33.20 .......... cls = <class 'fastcore.meta.PrePostInitMeta'>\n",
      "23:04:33.20 .......... name = 'TestChild'\n",
      "23:04:33.20 .......... bases = (<class 'fastcore.meta.AutoInit'>, <class '__main__.TestParent'>)\n",
      "23:04:33.20 .......... len(bases) = 2\n",
      "23:04:33.20 .......... dict = {'__module__': '__main__', '__qualname__': 'TestChild', '__init__': <function TestChild.__init__>}\n",
      "23:04:33.20 .......... len(dict) = 3\n",
      "23:04:33.20 .......... __class__ = <class 'fastcore.meta.FixSigMeta'>\n",
      "23:04:33.20    5 |     def __new__(cls, name, bases, dict):\n",
      "23:04:33.20    6 |         res = super().__new__(cls, name, bases, dict)\n",
      "23:04:33.20 .............. res = <class '__main__.TestChild'>\n",
      "23:04:33.20 .............. type(res) = <class 'fastcore.meta.PrePostInitMeta'>\n",
      "23:04:33.20 .............. res.__class__ = <class 'fastcore.meta.PrePostInitMeta'>\n",
      "23:04:33.20 .............. res.__dict__ = mappingproxy({'__module__': '__main__', '__init_...Child.__init__ at 0x11fbf51f0>, '__doc__': None})\n",
      "23:04:33.20 .............. len(res.__dict__) = 3\n",
      "23:04:33.20    7 |         if res.__init__ is not object.__init__: res.__signature__ = _rm_self(inspect.signature(res.__init__))\n",
      "23:04:33.20 ...... res.__dict__ = mappingproxy({'__module__': '__main__', '__init_...__doc__': None, '__signature__': <Signature ()>})\n",
      "23:04:33.20 ...... len(res.__dict__) = 4\n",
      "23:04:33.20    8 |         return res\n",
      "23:04:33.20 <<< Return value from FixSigMeta.__new__: <class '__main__.TestChild'>\n",
      "23:04:33.20 >>> Call to PrePostInitMeta.__call__ in File \"/tmp/PrePostInitMeta.py\", line 5\n",
      "23:04:33.20 .......... cls = <class '__main__.TestChild'>\n",
      "23:04:33.20 .......... args = ()\n",
      "23:04:33.20 .......... kwargs = {}\n",
      "23:04:33.20    5 |     def __call__(cls, *args, **kwargs):\n",
      "23:04:33.20    6 |         res = cls.__new__(cls)\n",
      "23:04:33.20 .............. res = <__main__.TestChild object>\n",
      "23:04:33.20 .............. res.__dict__ = {}\n",
      "23:04:33.20    7 |         if type(res)==cls:\n",
      "23:04:33.20    8 |             if hasattr(res,'__pre_init__'): res.__pre_init__(*args,**kwargs)\n",
      "    23:04:33.20 >>> Call to AutoInit.__pre_init__ in File \"/tmp/AutoInit.py\", line 5\n",
      "    23:04:33.20 .......... self = <__main__.TestChild object>\n",
      "    23:04:33.20 .......... args = ()\n",
      "    23:04:33.20 .......... kwargs = {}\n",
      "    23:04:33.20 .......... __class__ = <class 'fastcore.meta.AutoInit'>\n",
      "    23:04:33.20    5 |     def __pre_init__(self, *args, **kwargs): super().__init__(*args, **kwargs)\n",
      "    23:04:33.20    5 |     def __pre_init__(self, *args, **kwargs): super().__init__(*args, **kwargs)\n",
      "    23:04:33.20 <<< Return value from AutoInit.__pre_init__: None\n",
      "23:04:33.20    8 |             if hasattr(res,'__pre_init__'): res.__pre_init__(*args,**kwargs)\n",
      "23:04:33.20 ...... res.__dict__ = {'h': 10}\n",
      "23:04:33.20 ...... len(res.__dict__) = 1\n",
      "23:04:33.20    9 |             res.__init__(*args,**kwargs)\n",
      "23:04:33.20 .................. res.__dict__ = {'h': 10, 'k': 12}\n",
      "23:04:33.20 .................. len(res.__dict__) = 2\n",
      "23:04:33.20   10 |             if hasattr(res,'__post_init__'): res.__post_init__(*args,**kwargs)\n",
      "23:04:33.20   11 |         return res\n",
      "23:04:33.20 <<< Return value from PrePostInitMeta.__call__: <__main__.TestChild object>\n"
     ]
    },
    {
     "name": "stdout",
     "output_type": "stream",
     "text": [
      "=========================================================     Investigating \u001b[91;1mAutoInit\u001b[0m     =========================================================\n",
      "==============================================================     on line \u001b[91;1mNone\u001b[0m     ==============================================================\n",
      "     with example \u001b[91;1m\n",
      "class TestParent():\n",
      "    def __init__(self): self.h = 10\n",
      "        \n",
      "class TestChild(AutoInit, TestParent):\n",
      "    def __init__(self): self.k = self.h + 2\n",
      "    \n",
      "t = TestChild()\n",
      "test_eq(t.h, 10) # h=10 is initialized in the parent class\n",
      "test_eq(t.k, 12)\n",
      "\u001b[0m     \n",
      "\n"
     ]
    }
   ],
   "source": [
    "fdbA.snoop()"
   ]
  },
  {
   "cell_type": "markdown",
   "id": "8fc635d2",
   "metadata": {},
   "source": [
    "## Explore and Document on them together "
   ]
  },
  {
   "cell_type": "code",
   "execution_count": null,
   "id": "123596d2",
   "metadata": {},
   "outputs": [
    {
     "name": "stdout",
     "output_type": "stream",
     "text": [
      "========================================================     Investigating \u001b[91;1mFixSigMeta\u001b[0m     ========================================================\n",
      "===============================================================     on line \u001b[91;1m4\u001b[0m     ================================================================\n",
      "==============================     with example \u001b[91;1m\n",
      "class Foo(metaclass=FixSigMeta):\n",
      "    def __init__(self): pass\n",
      "\u001b[0m     ==============================\n",
      "\n",
      "\u001b[93;1mprint selected srcline with expands below\u001b[0m--------\n",
      "    def __new__(cls, name, bases, dict):                                                                                                                (2)\n",
      "        res = super().__new__(cls, name, bases, dict)                                                                                                   (3)\n",
      "        if res.__init__ is not object.__init__: res.__signature__ = _rm_self(inspect.signature(res.__init__))===========================================(4)\n",
      "                                                                                                                                      \u001b[91;1mFixSigMeta: what is res\u001b[0m\n",
      "        return res                                                                                                                                      (5)\n",
      "                                                                                                                                                        (6)\n",
      "\n",
      "==================================================================================================================\u001b[91;1mStart of my srcline exploration:\u001b[0m\n",
      "\n",
      "\n",
      "                                                                       'inside FixSigMeta, line 4' => 'inside FixSigMeta, line 4' : inside FixSigMeta, line 4\n",
      "\n",
      "\n",
      "                                                                                                                           res.__name__ => res.__name__ : Foo\n",
      "====================================================================================================================\u001b[91;1mEnd of my srcline exploration:\u001b[0m\n",
      "\n",
      "\n",
      "\u001b[93;1mReview srcode with all comments added so far\u001b[0m======================================================================================================\n",
      "class FixSigMeta(type):===================================================================(0)       \n",
      "    \"A metaclass that fixes the signature on classes that override `__new__`\"=============(1) # \u001b[35;1mFixSigMeta inherits __init__, and __call__ from type\u001b[0m; \u001b[35;1mbut writes its own __new__\u001b[0m; \u001b[92;1mFoo inherits all three from type\u001b[0m; \u001b[34;1mFixSigMeta is used to create class instance not object instance.\u001b[0m; \n",
      "    def __new__(cls, name, bases, dict):==================================================(2)       \n",
      "        res = super().__new__(cls, name, bases, dict)=====================================(3)       \n",
      "        if res.__init__ is not object.__init__: res.__signature__ = _rm_self(inspect.signature(res.__init__)) # \u001b[35;1mFixSigMeta: what is res\u001b[0m;                   (4)\n",
      "        return res========================================================================(5)       \n",
      "                                                                                                                                                        (6)\n",
      "                                                                                                                                     part No.1 out of 1 parts\n",
      "\n"
     ]
    }
   ],
   "source": [
    "fdbF.docsrc(4, \"FixSigMeta: what is res\", \"'inside FixSigMeta, line 4'\", \"res.__name__\")\n",
    "fm.FixSigMeta = fdbF.dbsrc"
   ]
  },
  {
   "cell_type": "code",
   "execution_count": null,
   "id": "5c21c607",
   "metadata": {},
   "outputs": [
    {
     "name": "stdout",
     "output_type": "stream",
     "text": [
      "=====================================================     Investigating \u001b[91;1mPrePostInitMeta\u001b[0m     ======================================================\n",
      "===============================================================     on line \u001b[91;1m6\u001b[0m     ================================================================\n",
      "     with example \u001b[91;1m\n",
      "class _T(metaclass=PrePostInitMeta):\n",
      "    def __pre_init__(self):  self.a  = 0; \n",
      "    def __init__(self,b=0):  self.b = self.a + 1; assert self.b==1\n",
      "    def __post_init__(self): self.c = self.b + 2; assert self.c==3\n",
      "\n",
      "t = _T()\n",
      "test_eq(t.a, 0) # set with __pre_init__\n",
      "test_eq(t.b, 1) # set with __init__\n",
      "test_eq(t.c, 3) # set with __post_init__\n",
      "inspect.signature(_T)\n",
      "\u001b[0m     \n",
      "\n",
      "\u001b[93;1mprint selected srcline with expands below\u001b[0m--------\n",
      "        if type(res)==cls:                                                                                                                              (4)\n",
      "            if hasattr(res,'__pre_init__'): res.__pre_init__(*args,**kwargs)                                                                            (5)\n",
      "            res.__init__(*args,**kwargs)================================================================================================================(6)\n",
      "                                                                                                                                     \u001b[91;1mwhat inside res.__dict__\u001b[0m\n",
      "            if hasattr(res,'__post_init__'): res.__post_init__(*args,**kwargs)                                                                          (7)\n",
      "        return res                                                                                                                                      (8)\n",
      "\n",
      "==================================================================================================================\u001b[91;1mStart of my srcline exploration:\u001b[0m\n",
      "\n",
      "\n",
      "                                                                       'inside FixSigMeta, line 4' => 'inside FixSigMeta, line 4' : inside FixSigMeta, line 4\n",
      "\n",
      "\n",
      "                                                                                                                            res.__name__ => res.__name__ : _T\n",
      "====================================================================================================================\u001b[91;1mEnd of my srcline exploration:\u001b[0m\n",
      "\n",
      "\n",
      "==================================================================================================================\u001b[91;1mStart of my srcline exploration:\u001b[0m\n",
      "\n",
      "\n",
      "                                                                          'inside PrePostInitMeta: ' => 'inside PrePostInitMeta: ' : inside PrePostInitMeta: \n",
      "\n",
      "\n",
      "                                                                                                                      res.__dict__ => res.__dict__ : {'a': 0}\n",
      "====================================================================================================================\u001b[91;1mEnd of my srcline exploration:\u001b[0m\n",
      "\n",
      "\n",
      "\u001b[93;1mReview srcode with all comments added so far\u001b[0m======================================================================================================\n",
      "class PrePostInitMeta(FixSigMeta):========================================================(0)       \n",
      "    \"A metaclass that calls optional `__pre_init__` and `__post_init__` methods\"==========(1) # \u001b[92;1mPrePostInitMeta inherit __new__ and __init__ from FixSigMeta as a metaclass (a different type)\u001b[0m; \u001b[91;1mnot from type, nor from object\u001b[0m; \u001b[36;1mPrePostInitMeta is itself a metaclass, which is used to create class instance not object instance\u001b[0m; \u001b[92;1mPrePostInitMeta writes its own __call__ which regulates how its class instance create and initialize object instance\u001b[0m; \n",
      "    def __call__(cls, *args, **kwargs):===================================================(2)       \n",
      "        res = cls.__new__(cls)============================================================(3)       \n",
      "        if type(res)==cls:================================================================(4)       \n",
      "            if hasattr(res,'__pre_init__'): res.__pre_init__(*args,**kwargs)==============(5)       \n",
      "            res.__init__(*args,**kwargs)==================================================(6) # \u001b[91;1mwhat inside res.__dict__\u001b[0m; \n",
      "            if hasattr(res,'__post_init__'): res.__post_init__(*args,**kwargs)============(7)       \n",
      "        return res========================================================================(8)       \n",
      "                                                                                                                                                        (9)\n",
      "                                                                                                                                     part No.1 out of 1 parts\n",
      "\n"
     ]
    }
   ],
   "source": [
    "fdbP.docsrc(6, \"what inside res.__dict__\", \"'inside PrePostInitMeta: '\", \"res.__dict__\")\n",
    "fm.PrePostInitMeta = fdbP.dbsrc"
   ]
  },
  {
   "cell_type": "code",
   "execution_count": null,
   "id": "45a6cdc7",
   "metadata": {},
   "outputs": [
    {
     "name": "stdout",
     "output_type": "stream",
     "text": [
      "=========================================================     Investigating \u001b[91;1mAutoInit\u001b[0m     =========================================================\n",
      "===============================================================     on line \u001b[91;1m2\u001b[0m     ================================================================\n",
      "     with example \u001b[91;1m\n",
      "class TestParent():\n",
      "    def __init__(self): self.h = 10\n",
      "        \n",
      "class TestChild(AutoInit, TestParent):\n",
      "    def __init__(self): self.k = self.h + 2\n",
      "    \n",
      "t = TestChild()\n",
      "test_eq(t.h, 10) # h=10 is initialized in the parent class\n",
      "test_eq(t.k, 12)\n",
      "\u001b[0m     \n",
      "\n",
      "\u001b[93;1mprint selected srcline with expands below\u001b[0m--------\n",
      "class AutoInit(metaclass=PrePostInitMeta):                                                                                                              (0)\n",
      "    \"Same as `object`, but no need for subclasses to call `super().__init__`\"                                                                           (1)\n",
      "    def __pre_init__(self, *args, **kwargs): super().__init__(*args, **kwargs)==========================================================================(2)\n",
      "                                                                                                                                                  \u001b[91;1mwhat is cls\u001b[0m\n",
      "                                                                                                                                                        (3)\n",
      "\n",
      "==================================================================================================================\u001b[91;1mStart of my srcline exploration:\u001b[0m\n",
      "\n",
      "\n",
      "                                                                                                     'Inside AutoInit' => 'Inside AutoInit' : Inside AutoInit\n",
      "\n",
      "\n",
      "                                                                                                                           cls => cls : <class '__main__._T'>\n",
      "====================================================================================================================\u001b[91;1mEnd of my srcline exploration:\u001b[0m\n",
      "\n",
      "\n",
      "==================================================================================================================\u001b[91;1mStart of my srcline exploration:\u001b[0m\n",
      "\n",
      "\n",
      "                                                                       'inside FixSigMeta, line 4' => 'inside FixSigMeta, line 4' : inside FixSigMeta, line 4\n",
      "\n",
      "\n",
      "                                                                                                                      res.__name__ => res.__name__ : AutoInit\n",
      "====================================================================================================================\u001b[91;1mEnd of my srcline exploration:\u001b[0m\n",
      "\n",
      "\n",
      "==================================================================================================================\u001b[91;1mStart of my srcline exploration:\u001b[0m\n",
      "\n",
      "\n",
      "                                                                       'inside FixSigMeta, line 4' => 'inside FixSigMeta, line 4' : inside FixSigMeta, line 4\n",
      "\n",
      "\n",
      "                                                                                                                     res.__name__ => res.__name__ : TestChild\n",
      "====================================================================================================================\u001b[91;1mEnd of my srcline exploration:\u001b[0m\n",
      "\n",
      "\n",
      "==================================================================================================================\u001b[91;1mStart of my srcline exploration:\u001b[0m\n",
      "\n",
      "\n",
      "                                                                          'inside PrePostInitMeta: ' => 'inside PrePostInitMeta: ' : inside PrePostInitMeta: \n",
      "\n",
      "\n",
      "                                                                                                                     res.__dict__ => res.__dict__ : {'h': 10}\n",
      "====================================================================================================================\u001b[91;1mEnd of my srcline exploration:\u001b[0m\n",
      "\n",
      "\n",
      "\u001b[93;1mReview srcode with all comments added so far\u001b[0m======================================================================================================\n",
      "class AutoInit(metaclass=PrePostInitMeta):================================================(0)       \n",
      "    \"Same as `object`, but no need for subclasses to call `super().__init__`\"=============(1) # \u001b[92;1mAutoInit inherit __new__ and __init__ from object to create and initialize object instances\u001b[0m; \u001b[93;1mAutoInit uses PrePostInitMeta.__new__ or in fact FixSigMeta.__new__ to create its own class instance, which can have __signature__\u001b[0m; \u001b[37;1mAutoInit uses PrePostInitMeta.__call__ to specify how its object instance to be created and initialized (with pre_init, init, post_init))\u001b[0m; \u001b[36;1mAutoInit as a normal or non-metaclass, it writes its own __pre_init__ method\u001b[0m; \n",
      "    def __pre_init__(self, *args, **kwargs): super().__init__(*args, **kwargs)============(2) # \u001b[93;1mwhat is cls\u001b[0m; \n",
      "                                                                                                                                                        (3)\n",
      "                                                                                                                                     part No.1 out of 1 parts\n",
      "\n"
     ]
    }
   ],
   "source": [
    "fdbA.docsrc(2, \"what is cls\", \"'Inside AutoInit'\", \"cls\") # need to run it twice (a little bug here)"
   ]
  },
  {
   "cell_type": "code",
   "execution_count": null,
   "id": "b99c1ce3",
   "metadata": {},
   "outputs": [
    {
     "name": "stdout",
     "output_type": "stream",
     "text": [
      "========================================================     Investigating \u001b[91;1mFixSigMeta\u001b[0m     ========================================================\n",
      "===============================================================     on line \u001b[91;1m3\u001b[0m     ================================================================\n",
      "==============================     with example \u001b[91;1m\n",
      "class Foo(metaclass=FixSigMeta):\n",
      "    def __init__(self): pass\n",
      "\u001b[0m     ==============================\n",
      "\n",
      "\u001b[93;1mprint selected srcline with expands below\u001b[0m--------\n",
      "    \"A metaclass that fixes the signature on classes that override `__new__`\"                                                                           (1)\n",
      "    def __new__(cls, name, bases, dict):                                                                                                                (2)\n",
      "        res = super().__new__(cls, name, bases, dict)===================================================================================================(3)\n",
      "                    \u001b[91;1mhow to create a new class instance with type dynamically; the rest below is how FixSigMeta as a metaclass create its own instance classes\u001b[0m\n",
      "        if res.__init__ is not object.__init__: res.__signature__ = _rm_self(inspect.signature(res.__init__))                                           (4)\n",
      "        return res                                                                                                                                      (5)\n",
      "========================================================     Investigating \u001b[91;1mFixSigMeta\u001b[0m     ========================================================\n",
      "===============================================================     on line \u001b[91;1m4\u001b[0m     ================================================================\n",
      "==============================     with example \u001b[91;1m\n",
      "class Foo(metaclass=FixSigMeta):\n",
      "    def __init__(self): pass\n",
      "\u001b[0m     ==============================\n",
      "\n",
      "\u001b[93;1mprint selected srcline with expands below\u001b[0m--------\n",
      "    def __new__(cls, name, bases, dict):                                                                                                                (2)\n",
      "        res = super().__new__(cls, name, bases, dict)                                                                                                   (3)\n",
      "        if res.__init__ is not object.__init__: res.__signature__ = _rm_self(inspect.signature(res.__init__))===========================================(4)\n",
      "                                                        \u001b[91;1mhow to check whether a class has its own __init__ function; how to remove self param from a signature\u001b[0m\n",
      "        return res                                                                                                                                      (5)\n",
      "                                                                                                                                                        (6)\n"
     ]
    }
   ],
   "source": [
    "fdbF.docsrc(3, \"how to create a new class instance with type dynamically; \\\n",
    "the rest below is how FixSigMeta as a metaclass create its own instance classes\")\n",
    "fdbF.docsrc(4, \"how to check whether a class has its own __init__ function; how to remove self param from a signature\")"
   ]
  },
  {
   "cell_type": "code",
   "execution_count": null,
   "id": "52a2bf6c",
   "metadata": {},
   "outputs": [
    {
     "name": "stdout",
     "output_type": "stream",
     "text": [
      "========================================================     Investigating \u001b[91;1mFixSigMeta\u001b[0m     ========================================================\n",
      "===============================================================     on line \u001b[91;1m4\u001b[0m     ================================================================\n",
      "==============================     with example \u001b[91;1m\n",
      "class Foo(metaclass=FixSigMeta):\n",
      "    def __init__(self): pass\n",
      "\u001b[0m     ==============================\n",
      "\n",
      "class FixSigMeta(type):===================================================================(0)       \n",
      "    \"A metaclass that fixes the signature on classes that override `__new__`\"=============(1) # \u001b[34;1mFixSigMeta inherits __init__, and __call__ from type\u001b[0m; \u001b[36;1mbut writes its own __new__\u001b[0m; \u001b[36;1mFoo inherits all three from type\u001b[0m; \u001b[93;1mFixSigMeta is used to create class instance not object instance.\u001b[0m; \n",
      "    def __new__(cls, name, bases, dict):==================================================(2)       \n",
      "        res = super().__new__(cls, name, bases, dict)=====================================(3) # \u001b[92;1mhow to create a new class instance with type dynamically\u001b[0m; \u001b[36;1mthe rest below is how FixSigMeta as a metaclass create its own instance classes\u001b[0m; \n",
      "        if res.__init__ is not object.__init__: res.__signature__ = _rm_self(inspect.signature(res.__init__)) # \u001b[34;1mhow to check whether a class has its own __init__ function\u001b[0m; \u001b[92;1mhow to remove self param from a signature\u001b[0m;  (4)\n",
      "        return res========================================================================(5)       \n",
      "                                                                                                                                                        (6)\n"
     ]
    }
   ],
   "source": [
    "fdbF.print()"
   ]
  },
  {
   "cell_type": "code",
   "execution_count": null,
   "id": "4544a623",
   "metadata": {},
   "outputs": [
    {
     "name": "stdout",
     "output_type": "stream",
     "text": [
      "=====================================================     Investigating \u001b[91;1mPrePostInitMeta\u001b[0m     ======================================================\n",
      "===============================================================     on line \u001b[91;1m3\u001b[0m     ================================================================\n",
      "     with example \u001b[91;1m\n",
      "class _T(metaclass=PrePostInitMeta):\n",
      "    def __pre_init__(self):  self.a  = 0; \n",
      "    def __init__(self,b=0):  self.b = self.a + 1; assert self.b==1\n",
      "    def __post_init__(self): self.c = self.b + 2; assert self.c==3\n",
      "\n",
      "t = _T()\n",
      "test_eq(t.a, 0) # set with __pre_init__\n",
      "test_eq(t.b, 1) # set with __init__\n",
      "test_eq(t.c, 3) # set with __post_init__\n",
      "inspect.signature(_T)\n",
      "\u001b[0m     \n",
      "\n",
      "\u001b[93;1mprint selected srcline with expands below\u001b[0m--------\n",
      "    \"A metaclass that calls optional `__pre_init__` and `__post_init__` methods\"                                                                        (1)\n",
      "    def __call__(cls, *args, **kwargs):                                                                                                                 (2)\n",
      "        res = cls.__new__(cls)==========================================================================================================================(3)\n",
      "                    \u001b[91;1mhow to create an object instance with a cls; how to check the type of an object is cls; how to run a function without knowing its params;\u001b[0m\n",
      "        if type(res)==cls:                                                                                                                              (4)\n",
      "            if hasattr(res,'__pre_init__'): res.__pre_init__(*args,**kwargs)                                                                            (5)\n",
      "=====================================================     Investigating \u001b[91;1mPrePostInitMeta\u001b[0m     ======================================================\n",
      "===============================================================     on line \u001b[91;1m3\u001b[0m     ================================================================\n",
      "     with example \u001b[91;1m\n",
      "class _T(metaclass=PrePostInitMeta):\n",
      "    def __pre_init__(self):  self.a  = 0; \n",
      "    def __init__(self,b=0):  self.b = self.a + 1; assert self.b==1\n",
      "    def __post_init__(self): self.c = self.b + 2; assert self.c==3\n",
      "\n",
      "t = _T()\n",
      "test_eq(t.a, 0) # set with __pre_init__\n",
      "test_eq(t.b, 1) # set with __init__\n",
      "test_eq(t.c, 3) # set with __post_init__\n",
      "inspect.signature(_T)\n",
      "\u001b[0m     \n",
      "\n",
      "class PrePostInitMeta(FixSigMeta):========================================================(0)       \n",
      "    \"A metaclass that calls optional `__pre_init__` and `__post_init__` methods\"==========(1) # \u001b[93;1mPrePostInitMeta inherit __new__ and __init__ from FixSigMeta as a metaclass (a different type)\u001b[0m; \u001b[92;1mnot from type, nor from object\u001b[0m; \u001b[35;1mPrePostInitMeta is itself a metaclass, which is used to create class instance not object instance\u001b[0m; \u001b[91;1mPrePostInitMeta writes its own __call__ which regulates how its class instance create and initialize object instance\u001b[0m; \n",
      "    def __call__(cls, *args, **kwargs):===================================================(2)       \n",
      "        res = cls.__new__(cls)============================================================(3) # \u001b[37;1mhow to create an object instance with a cls\u001b[0m; \u001b[37;1mhow to check the type of an object is cls\u001b[0m; \u001b[34;1mhow to run a function without knowing its params;\u001b[0m; \n",
      "        if type(res)==cls:================================================================(4)       \n",
      "            if hasattr(res,'__pre_init__'): res.__pre_init__(*args,**kwargs)==============(5)       \n",
      "            res.__init__(*args,**kwargs)==================================================(6) # \u001b[35;1mwhat inside res.__dict__\u001b[0m; \n",
      "            if hasattr(res,'__post_init__'): res.__post_init__(*args,**kwargs)============(7)       \n",
      "        return res========================================================================(8)       \n",
      "                                                                                                                                                        (9)\n"
     ]
    }
   ],
   "source": [
    "fdbP.docsrc(3, \"how to create an object instance with a cls; how to check the type of an object is cls; \\\n",
    "how to run a function without knowing its params;\")\n",
    "fdbP.print()"
   ]
  },
  {
   "cell_type": "code",
   "execution_count": null,
   "id": "dd342a5c",
   "metadata": {},
   "outputs": [
    {
     "name": "stdout",
     "output_type": "stream",
     "text": [
      "=========================================================     Investigating \u001b[91;1mAutoInit\u001b[0m     =========================================================\n",
      "===============================================================     on line \u001b[91;1m2\u001b[0m     ================================================================\n",
      "     with example \u001b[91;1m\n",
      "class TestParent():\n",
      "    def __init__(self): self.h = 10\n",
      "        \n",
      "class TestChild(AutoInit, TestParent):\n",
      "    def __init__(self): self.k = self.h + 2\n",
      "    \n",
      "t = TestChild()\n",
      "test_eq(t.h, 10) # h=10 is initialized in the parent class\n",
      "test_eq(t.k, 12)\n",
      "\u001b[0m     \n",
      "\n",
      "\u001b[93;1mprint selected srcline with expands below\u001b[0m--------\n",
      "class AutoInit(metaclass=PrePostInitMeta):                                                                                                              (0)\n",
      "    \"Same as `object`, but no need for subclasses to call `super().__init__`\"                                                                           (1)\n",
      "    def __pre_init__(self, *args, **kwargs): super().__init__(*args, **kwargs)==========================================================================(2)\n",
      "                                                                                                                     \u001b[91;1mhow to run superclass' __init__ function\u001b[0m\n",
      "                                                                                                                                                        (3)\n"
     ]
    }
   ],
   "source": [
    "fdbA.docsrc(2, \"how to run superclass' __init__ function\")"
   ]
  },
  {
   "cell_type": "code",
   "execution_count": null,
   "id": "c32f2579",
   "metadata": {},
   "outputs": [
    {
     "name": "stdout",
     "output_type": "stream",
     "text": [
      "=========================================================     Investigating \u001b[91;1mAutoInit\u001b[0m     =========================================================\n",
      "===============================================================     on line \u001b[91;1m2\u001b[0m     ================================================================\n",
      "     with example \u001b[91;1m\n",
      "class TestParent():\n",
      "    def __init__(self): self.h = 10\n",
      "        \n",
      "class TestChild(AutoInit, TestParent):\n",
      "    def __init__(self): self.k = self.h + 2\n",
      "    \n",
      "t = TestChild()\n",
      "test_eq(t.h, 10) # h=10 is initialized in the parent class\n",
      "test_eq(t.k, 12)\n",
      "\u001b[0m     \n",
      "\n",
      "class AutoInit(metaclass=PrePostInitMeta):================================================(0)       \n",
      "    \"Same as `object`, but no need for subclasses to call `super().__init__`\"=============(1) # \u001b[92;1mAutoInit inherit __new__ and __init__ from object to create and initialize object instances\u001b[0m; \u001b[91;1mAutoInit uses PrePostInitMeta.__new__ or in fact FixSigMeta.__new__ to create its own class instance, which can have __signature__\u001b[0m; \u001b[92;1mAutoInit uses PrePostInitMeta.__call__ to specify how its object instance to be created and initialized (with pre_init, init, post_init))\u001b[0m; \u001b[34;1mAutoInit as a normal or non-metaclass, it writes its own __pre_init__ method\u001b[0m; \n",
      "    def __pre_init__(self, *args, **kwargs): super().__init__(*args, **kwargs)============(2) # \u001b[91;1mhow to run superclass' __init__ function\u001b[0m; \n",
      "                                                                                                                                                        (3)\n"
     ]
    }
   ],
   "source": [
    "fdbA.print()"
   ]
  },
  {
   "cell_type": "code",
   "execution_count": null,
   "id": "5c23c956",
   "metadata": {},
   "outputs": [
    {
     "name": "stdout",
     "output_type": "stream",
     "text": [
      "=====================================================     Investigating \u001b[91;1mPrePostInitMeta\u001b[0m     ======================================================\n",
      "===============================================================     on line \u001b[91;1m6\u001b[0m     ================================================================\n",
      "     with example \u001b[91;1m\n",
      "class _T(metaclass=PrePostInitMeta):\n",
      "    def __pre_init__(self):  self.a  = 0; \n",
      "    def __init__(self,b=0):  self.b = self.a + 1; assert self.b==1\n",
      "    def __post_init__(self): self.c = self.b + 2; assert self.c==3\n",
      "\n",
      "t = _T()\n",
      "test_eq(t.a, 0) # set with __pre_init__\n",
      "test_eq(t.b, 1) # set with __init__\n",
      "test_eq(t.c, 3) # set with __post_init__\n",
      "inspect.signature(_T)\n",
      "\u001b[0m     \n",
      "\n",
      "\u001b[93;1mprint selected srcline with expands below\u001b[0m--------\n",
      "        if type(res)==cls:                                                                                                                              (4)\n",
      "            if hasattr(res,'__pre_init__'): res.__pre_init__(*args,**kwargs)                                                                            (5)\n",
      "            res.__init__(*args,**kwargs)================================================================================================================(6)\n",
      "                                                                                                               \u001b[91;1mhow to run __init__ without knowing its params\u001b[0m\n",
      "            if hasattr(res,'__post_init__'): res.__post_init__(*args,**kwargs)                                                                          (7)\n",
      "        return res                                                                                                                                      (8)\n"
     ]
    }
   ],
   "source": [
    "fdbP.docsrc(6, \"how to run __init__ without knowing its params\")"
   ]
  },
  {
   "cell_type": "code",
   "execution_count": null,
   "id": "54448ed9",
   "metadata": {},
   "outputs": [
    {
     "name": "stdout",
     "output_type": "stream",
     "text": [
      "=====================================================     Investigating \u001b[91;1mPrePostInitMeta\u001b[0m     ======================================================\n",
      "===============================================================     on line \u001b[91;1m6\u001b[0m     ================================================================\n",
      "     with example \u001b[91;1m\n",
      "class _T(metaclass=PrePostInitMeta):\n",
      "    def __pre_init__(self):  self.a  = 0; \n",
      "    def __init__(self,b=0):  self.b = self.a + 1; assert self.b==1\n",
      "    def __post_init__(self): self.c = self.b + 2; assert self.c==3\n",
      "\n",
      "t = _T()\n",
      "test_eq(t.a, 0) # set with __pre_init__\n",
      "test_eq(t.b, 1) # set with __init__\n",
      "test_eq(t.c, 3) # set with __post_init__\n",
      "inspect.signature(_T)\n",
      "\u001b[0m     \n",
      "\n",
      "class PrePostInitMeta(FixSigMeta):========================================================(0)       \n",
      "    \"A metaclass that calls optional `__pre_init__` and `__post_init__` methods\"==========(1) # \u001b[35;1mPrePostInitMeta inherit __new__ and __init__ from FixSigMeta as a metaclass (a different type)\u001b[0m; \u001b[37;1mnot from type, nor from object\u001b[0m; \u001b[93;1mPrePostInitMeta is itself a metaclass, which is used to create class instance not object instance\u001b[0m; \u001b[93;1mPrePostInitMeta writes its own __call__ which regulates how its class instance create and initialize object instance\u001b[0m; \n",
      "    def __call__(cls, *args, **kwargs):===================================================(2)       \n",
      "        res = cls.__new__(cls)============================================================(3) # \u001b[37;1mhow to create an object instance with a cls\u001b[0m; \u001b[34;1mhow to check the type of an object is cls\u001b[0m; \u001b[36;1mhow to run a function without knowing its params;\u001b[0m; \n",
      "        if type(res)==cls:================================================================(4)       \n",
      "            if hasattr(res,'__pre_init__'): res.__pre_init__(*args,**kwargs)==============(5)       \n",
      "            res.__init__(*args,**kwargs)==================================================(6) # \u001b[35;1mhow to run __init__ without knowing its params\u001b[0m; \n",
      "            if hasattr(res,'__post_init__'): res.__post_init__(*args,**kwargs)============(7)       \n",
      "        return res========================================================================(8)       \n",
      "                                                                                                                                                        (9)\n"
     ]
    }
   ],
   "source": [
    "fdbP.print()"
   ]
  },
  {
   "cell_type": "code",
   "execution_count": null,
   "id": "2987af59",
   "metadata": {},
   "outputs": [
    {
     "name": "stdout",
     "output_type": "stream",
     "text": [
      "========================================================     Investigating \u001b[91;1mFixSigMeta\u001b[0m     ========================================================\n",
      "===============================================================     on line \u001b[91;1m4\u001b[0m     ================================================================\n",
      "==============================     with example \u001b[91;1m\n",
      "class Foo(metaclass=FixSigMeta):\n",
      "    def __init__(self): pass\n",
      "\u001b[0m     ==============================\n",
      "\n",
      "class FixSigMeta(type):===================================================================(0)       \n",
      "    \"A metaclass that fixes the signature on classes that override `__new__`\"=============(1) # \u001b[35;1mFixSigMeta inherits __init__, and __call__ from type\u001b[0m; \u001b[35;1mbut writes its own __new__\u001b[0m; \u001b[91;1mFoo inherits all three from type\u001b[0m; \u001b[35;1mFixSigMeta is used to create class instance not object instance.\u001b[0m; \n",
      "    def __new__(cls, name, bases, dict):==================================================(2)       \n",
      "        res = super().__new__(cls, name, bases, dict)=====================================(3) # \u001b[34;1mhow to create a new class instance with type dynamically\u001b[0m; \u001b[35;1mthe rest below is how FixSigMeta as a metaclass create its own instance classes\u001b[0m; \n",
      "        if res.__init__ is not object.__init__: res.__signature__ = _rm_self(inspect.signature(res.__init__)) # \u001b[36;1mhow to check whether a class has its own __init__ function\u001b[0m; \u001b[36;1mhow to remove self param from a signature\u001b[0m;  (4)\n",
      "        return res========================================================================(5)       \n",
      "                                                                                                                                                        (6)\n"
     ]
    }
   ],
   "source": [
    "fdbF.print()"
   ]
  },
  {
   "cell_type": "code",
   "execution_count": null,
   "id": "2bfe22ee",
   "metadata": {},
   "outputs": [],
   "source": []
  }
 ],
 "metadata": {
  "kernelspec": {
   "display_name": "Python 3 (ipykernel)",
   "language": "python",
   "name": "python3"
  }
 },
 "nbformat": 4,
 "nbformat_minor": 5
}
