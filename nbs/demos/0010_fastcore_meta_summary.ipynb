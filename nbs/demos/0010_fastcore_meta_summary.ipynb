{
 "cells": [
  {
   "cell_type": "markdown",
   "id": "e26325f3",
   "metadata": {},
   "source": [
    "# 0010_fastcore_meta_summary"
   ]
  },
  {
   "cell_type": "markdown",
   "id": "5aef5a94",
   "metadata": {},
   "source": [
    "## import"
   ]
  },
  {
   "cell_type": "code",
   "execution_count": null,
   "id": "6c775756",
   "metadata": {},
   "outputs": [
    {
     "data": {
      "text/html": [
       "<style>.container { width:100% !important; }</style>"
      ],
      "text/plain": [
       "<IPython.core.display.HTML object>"
      ]
     },
     "metadata": {},
     "output_type": "display_data"
    }
   ],
   "source": [
    "from fastdebug.utils import *\n",
    "from fastdebug.core import *"
   ]
  },
  {
   "cell_type": "markdown",
   "id": "a0243681",
   "metadata": {},
   "source": [
    "## fastcore"
   ]
  },
  {
   "cell_type": "code",
   "execution_count": null,
   "id": "0048d3cb",
   "metadata": {},
   "outputs": [],
   "source": [
    "import fastcore"
   ]
  },
  {
   "cell_type": "code",
   "execution_count": null,
   "id": "ce3690d0",
   "metadata": {},
   "outputs": [
    {
     "name": "stdout",
     "output_type": "stream",
     "text": [
      "fastcore: 1.5.27 \n",
      "Python supercharged for fastai development    \n",
      "Jeremy Howard and Sylvain Gugger \n",
      "https://github.com/fastai/fastcore/     \n",
      "python_version: >=3.7     \n",
      "/Users/Natsume/mambaforge/lib/python3.9/site-packages/fastcore\n"
     ]
    }
   ],
   "source": [
    "whichversion(\"fastcore\")"
   ]
  },
  {
   "cell_type": "code",
   "execution_count": null,
   "id": "f45c7775",
   "metadata": {},
   "outputs": [
    {
     "name": "stdout",
     "output_type": "stream",
     "text": [
      "The library has 21 modules\n",
      "['_modidx',\n",
      " '_nbdev',\n",
      " 'all',\n",
      " 'basics',\n",
      " 'dispatch',\n",
      " 'docments',\n",
      " 'docscrape',\n",
      " 'foundation',\n",
      " 'imports',\n",
      " 'meta',\n",
      " 'nb_imports',\n",
      " 'net',\n",
      " 'parallel',\n",
      " 'script',\n",
      " 'shutil',\n",
      " 'style',\n",
      " 'test',\n",
      " 'transform',\n",
      " 'utils',\n",
      " 'xdg',\n",
      " 'xtras']\n"
     ]
    }
   ],
   "source": [
    "whatinside(fastcore, lib=True)"
   ]
  },
  {
   "cell_type": "code",
   "execution_count": null,
   "id": "ea508ea3",
   "metadata": {},
   "outputs": [],
   "source": [
    "from fastcore.meta import *\n",
    "import fastcore.meta as fm"
   ]
  },
  {
   "cell_type": "code",
   "execution_count": null,
   "id": "c42b5245",
   "metadata": {},
   "outputs": [
    {
     "name": "stdout",
     "output_type": "stream",
     "text": [
      "fastcore.meta has: \n",
      "13 items in its __all__, and \n",
      "43 user defined functions, \n",
      "19 classes or class objects, \n",
      "2 builtin funcs and methods, and\n",
      "74 callables.\n",
      "\n",
      "test_sig:            function    (f, b)\n",
      "FixSigMeta:          metaclass, type    (name, bases, dict)\n",
      "PrePostInitMeta:     metaclass, type    (name, bases, dict)\n",
      "AutoInit:            class, PrePostInitMeta    (*args, **kwargs)\n",
      "NewChkMeta:          metaclass, type    (name, bases, dict)\n",
      "BypassNewMeta:       metaclass, type    (name, bases, dict)\n",
      "empty2none:          function    (p)\n",
      "anno_dict:           function    (f)\n",
      "use_kwargs_dict:     decorator, function    (keep=False, **kwargs)\n",
      "use_kwargs:          decorator, function    (names, keep=False)\n",
      "delegates:           decorator, function    (to: function = None, keep=False, but: list = None)\n",
      "method:              function    (f)\n",
      "funcs_kwargs:        decorator, function    (as_method=False)\n"
     ]
    }
   ],
   "source": [
    "whatinside(fm, dun=True)"
   ]
  },
  {
   "cell_type": "code",
   "execution_count": null,
   "id": "fed6863e",
   "metadata": {},
   "outputs": [
    {
     "name": "stdout",
     "output_type": "stream",
     "text": [
      "fastcore.meta has: \n",
      "13 items in its __all__, and \n",
      "43 user defined functions, \n",
      "19 classes or class objects, \n",
      "2 builtin funcs and methods, and\n",
      "74 callables.\n",
      "\n",
      "The user defined functions are:\n",
      "_funcs_kwargs:       function    (cls, as_method)\n",
      "_mk_param:           function    (n, d=None)\n",
      "_rm_self:            function    (sig)\n",
      "all_equal:           function    (a, b)\n",
      "anno_dict:           function    (f)\n",
      "any_is_instance:     function    (t, *args)\n",
      "array_equal:         function    (a, b)\n",
      "contextmanager:      decorator    (func)\n",
      "copy:                function    (x)\n",
      "delegates:           decorator    (to: function = None, keep=False, but: list = None)\n",
      "df_equal:            function    (a, b)\n",
      "empty2none:          function    (p)\n",
      "equals:              function    (a, b)\n",
      "funcs_kwargs:        decorator    (as_method=False)\n",
      "in_colab:            function    ()\n",
      "in_ipython:          function    ()\n",
      "in_jupyter:          function    ()\n",
      "in_notebook:         function    ()\n",
      "ipython_shell:       function    ()\n",
      "is_close:            function    (a, b, eps=1e-05)\n",
      "is_coll:             function    (o)\n",
      "is_iter:             function    (o)\n",
      "isinstance_str:      function    (x, cls_name)\n",
      "method:              function    (f)\n",
      "nequals:             function    (a, b)\n",
      "noop:                function    (x=None, *args, **kwargs)\n",
      "noops:               function    (self, x=None, *args, **kwargs)\n",
      "remove_prefix:       function    (text, prefix)\n",
      "remove_suffix:       function    (text, suffix)\n",
      "test:                function    (a, b, cmp, cname=None)\n",
      "test_close:          function    (a, b, eps=1e-05)\n",
      "test_eq:             function    (a, b)\n",
      "test_eq_type:        function    (a, b)\n",
      "test_fail:           function    (f, msg='', contains='', args=None, kwargs=None)\n",
      "test_fig_exists:     function    (ax)\n",
      "test_is:             function    (a, b)\n",
      "test_ne:             function    (a, b)\n",
      "test_shuffled:       function    (a, b)\n",
      "test_sig:            function    (f, b)\n",
      "test_stdout:         function    (f, exp, regex=False)\n",
      "test_warns:          function    (f, show=False)\n",
      "use_kwargs:          decorator    (names, keep=False)\n",
      "use_kwargs_dict:     decorator    (keep=False, **kwargs)\n"
     ]
    }
   ],
   "source": [
    "whatinside(fm, func=True)"
   ]
  },
  {
   "cell_type": "code",
   "execution_count": null,
   "id": "01a19833",
   "metadata": {},
   "outputs": [
    {
     "name": "stdout",
     "output_type": "stream",
     "text": [
      "fastcore.meta has: \n",
      "13 items in its __all__, and \n",
      "43 user defined functions, \n",
      "19 classes or class objects, \n",
      "2 builtin funcs and methods, and\n",
      "74 callables.\n",
      "\n",
      "The class objects are:\n",
      "AutoInit:            class\n",
      "BuiltinFunctionType: class\n",
      "BuiltinMethodType:   class\n",
      "BypassNewMeta:       metaclass\n",
      "ExceptionExpected:   class\n",
      "FixSigMeta:          metaclass\n",
      "FunctionType:        class\n",
      "MethodDescriptorType:class\n",
      "MethodType:          class\n",
      "MethodWrapperType:   class\n",
      "NewChkMeta:          metaclass\n",
      "NoneType:            class\n",
      "Path:                class\n",
      "PrePostInitMeta:     metaclass\n",
      "SimpleNamespace:     class\n",
      "WrapperDescriptorType:class\n",
      "attrgetter:          class\n",
      "itemgetter:          class\n",
      "partial:             class\n"
     ]
    }
   ],
   "source": [
    "whatinside(fm, clas=True)"
   ]
  },
  {
   "cell_type": "code",
   "execution_count": null,
   "id": "40c30cc6",
   "metadata": {},
   "outputs": [
    {
     "name": "stderr",
     "output_type": "stream",
     "text": [
      "ERROR:root:No traceback has been produced, nothing to debug.\n"
     ]
    }
   ],
   "source": [
    "%debug"
   ]
  },
  {
   "cell_type": "code",
   "execution_count": null,
   "id": "82f5b908",
   "metadata": {},
   "outputs": [
    {
     "name": "stdout",
     "output_type": "stream",
     "text": [
      "fastcore.meta has: \n",
      "13 items in its __all__, and \n",
      "43 user defined functions, \n",
      "19 classes or class objects, \n",
      "2 builtin funcs and methods, and\n",
      "74 callables.\n",
      "\n",
      "The builtin functions or methods are:\n",
      "['reduce', 'warn']\n"
     ]
    }
   ],
   "source": [
    "whatinside(fm, bltin=True)"
   ]
  },
  {
   "cell_type": "code",
   "execution_count": null,
   "id": "6a75ceab",
   "metadata": {},
   "outputs": [],
   "source": []
  }
 ],
 "metadata": {
  "kernelspec": {
   "display_name": "Python 3 (ipykernel)",
   "language": "python",
   "name": "python3"
  }
 },
 "nbformat": 4,
 "nbformat_minor": 5
}
