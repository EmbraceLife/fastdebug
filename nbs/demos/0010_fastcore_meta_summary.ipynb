{
 "cells": [
  {
   "cell_type": "markdown",
   "id": "38f61337",
   "metadata": {},
   "source": [
    "# 0010_fastcore_meta_summary"
   ]
  },
  {
   "cell_type": "markdown",
   "id": "904dc208",
   "metadata": {},
   "source": [
    "## import"
   ]
  },
  {
   "cell_type": "code",
   "execution_count": null,
   "id": "a8acc8c6",
   "metadata": {},
   "outputs": [
    {
     "data": {
      "text/html": [
       "<style>.container { width:100% !important; }</style>"
      ],
      "text/plain": [
       "<IPython.core.display.HTML object>"
      ]
     },
     "metadata": {},
     "output_type": "display_data"
    }
   ],
   "source": [
    "from fastdebug.utils import *\n",
    "from fastdebug.core import *"
   ]
  },
  {
   "cell_type": "markdown",
   "id": "84d4e707",
   "metadata": {},
   "source": [
    "## fastcore"
   ]
  },
  {
   "cell_type": "code",
   "execution_count": null,
   "id": "2e8c5423",
   "metadata": {},
   "outputs": [],
   "source": [
    "import fastcore"
   ]
  },
  {
   "cell_type": "code",
   "execution_count": null,
   "id": "079c9778",
   "metadata": {},
   "outputs": [
    {
     "name": "stdout",
     "output_type": "stream",
     "text": [
      "fastcore: 1.5.27 \n",
      "Python supercharged for fastai development    \n",
      "Jeremy Howard and Sylvain Gugger \n",
      "https://github.com/fastai/fastcore/     \n",
      "python_version: >=3.7     \n",
      "/Users/Natsume/mambaforge/lib/python3.9/site-packages/fastcore\n"
     ]
    }
   ],
   "source": [
    "whichversion(\"fastcore\")"
   ]
  },
  {
   "cell_type": "code",
   "execution_count": null,
   "id": "f41161dd",
   "metadata": {},
   "outputs": [
    {
     "name": "stdout",
     "output_type": "stream",
     "text": [
      "The library has 21 modules\n",
      "['_modidx',\n",
      " '_nbdev',\n",
      " 'all',\n",
      " 'basics',\n",
      " 'dispatch',\n",
      " 'docments',\n",
      " 'docscrape',\n",
      " 'foundation',\n",
      " 'imports',\n",
      " 'meta',\n",
      " 'nb_imports',\n",
      " 'net',\n",
      " 'parallel',\n",
      " 'script',\n",
      " 'shutil',\n",
      " 'style',\n",
      " 'test',\n",
      " 'transform',\n",
      " 'utils',\n",
      " 'xdg',\n",
      " 'xtras']\n"
     ]
    }
   ],
   "source": [
    "whatinside(fastcore, lib=True)"
   ]
  },
  {
   "cell_type": "code",
   "execution_count": null,
   "id": "615a4ef4",
   "metadata": {},
   "outputs": [],
   "source": [
    "from fastcore.meta import *\n",
    "import fastcore.meta as fm"
   ]
  },
  {
   "cell_type": "code",
   "execution_count": null,
   "id": "9dc186c3",
   "metadata": {},
   "outputs": [
    {
     "name": "stdout",
     "output_type": "stream",
     "text": [
      "fastcore.meta has: \n",
      "13 items in its __all__, and \n",
      "43 user defined functions, \n",
      "19 classes or class objects, \n",
      "2 builtin funcs and methods, and\n",
      "74 callables.\n",
      "\n",
      "test_sig:            function    (f, b)\n",
      "FixSigMeta:          metaclass, type    (name, bases, dict)\n",
      "PrePostInitMeta:     metaclass, type    (name, bases, dict)\n",
      "AutoInit:            class, PrePostInitMeta    (*args, **kwargs)\n",
      "NewChkMeta:          metaclass, type    (name, bases, dict)\n",
      "BypassNewMeta:       metaclass, type    (name, bases, dict)\n",
      "empty2none:          function    (p)\n",
      "anno_dict:           function    (f)\n",
      "use_kwargs_dict:     decorator, function    (keep=False, **kwargs)\n",
      "use_kwargs:          decorator, function    (names, keep=False)\n",
      "delegates:           decorator, function    (to: function = None, keep=False, but: list = None)\n",
      "method:              function    (f)\n",
      "funcs_kwargs:        decorator, function    (as_method=False)\n"
     ]
    }
   ],
   "source": [
    "whatinside(fm, dun=True)"
   ]
  },
  {
   "cell_type": "markdown",
   "id": "14ba7ca7",
   "metadata": {},
   "source": [
    "## Review individual funcs and classes"
   ]
  },
  {
   "cell_type": "code",
   "execution_count": null,
   "id": "feb86f56",
   "metadata": {},
   "outputs": [
    {
     "name": "stdout",
     "output_type": "stream",
     "text": [
      "test_sig.py\n",
      "BypassNewMeta.py\n",
      "FixSigMeta.py\n",
      "funcs_kwargs.py\n",
      "NewChkMeta.py\n",
      "AutoInit.py\n",
      "method.py\n",
      "_rm_self.py\n",
      "delegates.py\n",
      "PrePostInitMeta.py\n",
      "_funcs_kwargs.py\n",
      "whatinside.py\n"
     ]
    }
   ],
   "source": [
    "fastlist()"
   ]
  },
  {
   "cell_type": "code",
   "execution_count": null,
   "id": "a9ec570e",
   "metadata": {},
   "outputs": [
    {
     "name": "stdout",
     "output_type": "stream",
     "text": [
      "class NewChkMeta(FixSigMeta):=============================================================(0)       \n",
      "    \"Metaclass to avoid recreating object passed to constructor\"==========================(1) # \u001b[36;1mNewChkMeta is a metaclass inherited from FixSigMea\u001b[0m; \u001b[34;1mit makes its own __call__\u001b[0m; \u001b[92;1mwhen its class instance, e.g., _T, create object instances (e.g, t) without args nor kwargs but only x, and x is an object of the instance class, then return x\u001b[0m; \u001b[93;1motherwise, create and return a new object created by the instance class's super class' __call__ method with x as param\u001b[0m; \u001b[34;1mIn other words, t = _T(3) will create a new obj\u001b[0m; \u001b[93;1m_T(t) will return t\u001b[0m; \u001b[92;1m_T(t, 1) or _T(t, b=1) will also return a new obj\u001b[0m; \n",
      "    def __call__(cls, x=None, *args, **kwargs):===========================================(2) # \u001b[92;1mhow to create a __call__ method with param cls, x, *args, **kwargs;\u001b[0m; \n",
      "        if not args and not kwargs and x is not None and isinstance(x,cls): return x======(3) # \u001b[34;1mhow to express no args and no kwargs and x is an instance of cls?\u001b[0m; \n",
      "        res = super().__call__(*((x,) + args), **kwargs)==================================(4) # \u001b[37;1mhow to call __call__ of super class with x and consider all possible situations of args and kwargs\u001b[0m; \n",
      "        return res========================================================================(5)       \n",
      "                                                                                                                                                        (6)\n"
     ]
    }
   ],
   "source": [
    "fastview(NewChkMeta)"
   ]
  },
  {
   "cell_type": "code",
   "execution_count": null,
   "id": "338a85ec",
   "metadata": {},
   "outputs": [
    {
     "name": "stdout",
     "output_type": "stream",
     "text": [
      "class FixSigMeta(type):===================================================================(0)       \n",
      "    \"A metaclass that fixes the signature on classes that override `__new__`\"=============(1) # \u001b[35;1mAny class having FixSigMeta as metaclass will have its own __init__ func stored in its attr __signature__;FixSigMeta uses its __new__ to create a class instance\u001b[0m; \u001b[37;1mthen check whether its class instance has its own __init__;if so, remove self from the sig of __init__\u001b[0m; \u001b[35;1mthen assign this new sig to __signature__ for the class instance;\u001b[0m; \n",
      "    def __new__(cls, name, bases, dict):==================================================(2) # \u001b[92;1mhow does a metaclass create a class instance\u001b[0m; \u001b[92;1mwhat does super().__new__() do here;\u001b[0m; \n",
      "        res = super().__new__(cls, name, bases, dict)=====================================(3)       \n",
      "        if res.__init__ is not object.__init__: res.__signature__ = _rm_self(inspect.signature(res.__init__)) # \u001b[36;1mhow to remove self from a signature\u001b[0m; \u001b[35;1mhow to check whether a class' __init__ is inherited from object or not;\u001b[0m;  (4)\n",
      "        return res========================================================================(5)       \n",
      "                                                                                                                                                        (6)\n"
     ]
    }
   ],
   "source": [
    "fastview(FixSigMeta)"
   ]
  },
  {
   "cell_type": "code",
   "execution_count": null,
   "id": "e76069cd",
   "metadata": {},
   "outputs": [],
   "source": []
  },
  {
   "cell_type": "markdown",
   "id": "e0160763",
   "metadata": {},
   "source": [
    "## What is fastcore.meta all about"
   ]
  },
  {
   "cell_type": "code",
   "execution_count": null,
   "id": "65166f4f",
   "metadata": {},
   "outputs": [],
   "source": []
  },
  {
   "cell_type": "code",
   "execution_count": null,
   "id": "3163f369",
   "metadata": {},
   "outputs": [],
   "source": []
  },
  {
   "cell_type": "code",
   "execution_count": null,
   "id": "e3314370",
   "metadata": {},
   "outputs": [],
   "source": []
  },
  {
   "cell_type": "code",
   "execution_count": null,
   "id": "a0d56881",
   "metadata": {},
   "outputs": [],
   "source": []
  }
 ],
 "metadata": {
  "kernelspec": {
   "display_name": "Python 3 (ipykernel)",
   "language": "python",
   "name": "python3"
  }
 },
 "nbformat": 4,
 "nbformat_minor": 5
}
