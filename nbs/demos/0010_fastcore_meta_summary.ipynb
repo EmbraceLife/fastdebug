{
 "cells": [
  {
   "cell_type": "markdown",
   "id": "3e3fefa7",
   "metadata": {},
   "source": [
    "# 0010_fastcore_meta_summary"
   ]
  },
  {
   "cell_type": "markdown",
   "id": "e125d35e",
   "metadata": {},
   "source": [
    "## import"
   ]
  },
  {
   "cell_type": "code",
   "execution_count": null,
   "id": "54c74b54",
   "metadata": {},
   "outputs": [
    {
     "data": {
      "text/html": [
       "<style>.container { width:100% !important; }</style>"
      ],
      "text/plain": [
       "<IPython.core.display.HTML object>"
      ]
     },
     "metadata": {},
     "output_type": "display_data"
    }
   ],
   "source": [
    "from fastdebug.utils import *\n",
    "from fastdebug.core import *"
   ]
  },
  {
   "cell_type": "markdown",
   "id": "b4c2d072",
   "metadata": {},
   "source": [
    "## fastcore and fastcore.meta"
   ]
  },
  {
   "cell_type": "code",
   "execution_count": null,
   "id": "206e930d",
   "metadata": {},
   "outputs": [],
   "source": [
    "import fastcore"
   ]
  },
  {
   "cell_type": "code",
   "execution_count": null,
   "id": "12f34a1d",
   "metadata": {},
   "outputs": [
    {
     "name": "stdout",
     "output_type": "stream",
     "text": [
      "fastcore: 1.5.27 \n",
      "Python supercharged for fastai development    \n",
      "Jeremy Howard and Sylvain Gugger \n",
      "https://github.com/fastai/fastcore/     \n",
      "python_version: >=3.7     \n",
      "/Users/Natsume/mambaforge/lib/python3.9/site-packages/fastcore\n"
     ]
    }
   ],
   "source": [
    "whichversion(\"fastcore\")"
   ]
  },
  {
   "cell_type": "code",
   "execution_count": null,
   "id": "fe12332e",
   "metadata": {},
   "outputs": [
    {
     "name": "stdout",
     "output_type": "stream",
     "text": [
      "The library has 21 modules\n",
      "['_modidx',\n",
      " '_nbdev',\n",
      " 'all',\n",
      " 'basics',\n",
      " 'dispatch',\n",
      " 'docments',\n",
      " 'docscrape',\n",
      " 'foundation',\n",
      " 'imports',\n",
      " 'meta',\n",
      " 'nb_imports',\n",
      " 'net',\n",
      " 'parallel',\n",
      " 'script',\n",
      " 'shutil',\n",
      " 'style',\n",
      " 'test',\n",
      " 'transform',\n",
      " 'utils',\n",
      " 'xdg',\n",
      " 'xtras']\n"
     ]
    }
   ],
   "source": [
    "whatinside(fastcore, lib=True)"
   ]
  },
  {
   "cell_type": "code",
   "execution_count": null,
   "id": "62f18313",
   "metadata": {},
   "outputs": [],
   "source": [
    "from fastcore.meta import *\n",
    "import fastcore.meta as fm"
   ]
  },
  {
   "cell_type": "markdown",
   "id": "797d850f",
   "metadata": {},
   "source": [
    "### What's inside fastcore.meta"
   ]
  },
  {
   "cell_type": "code",
   "execution_count": null,
   "id": "1cb633b1",
   "metadata": {},
   "outputs": [
    {
     "name": "stdout",
     "output_type": "stream",
     "text": [
      "fastcore.meta has: \n",
      "13 items in its __all__, and \n",
      "43 user defined functions, \n",
      "19 classes or class objects, \n",
      "2 builtin funcs and methods, and\n",
      "74 callables.\n",
      "\n",
      "test_sig:            function    Test the signature of an object\n",
      "FixSigMeta:          metaclass, type    A metaclass that fixes the signature on classes that override `__new__`\n",
      "PrePostInitMeta:     metaclass, type    A metaclass that calls optional `__pre_init__` and `__post_init__` methods\n",
      "AutoInit:            class, PrePostInitMeta    Same as `object`, but no need for subclasses to call `super().__init__`\n",
      "NewChkMeta:          metaclass, type    Metaclass to avoid recreating object passed to constructor\n",
      "BypassNewMeta:       metaclass, type    Metaclass: casts `x` to this class if it's of type `cls._bypass_type`\n",
      "empty2none:          function    Replace `Parameter.empty` with `None`\n",
      "anno_dict:           function    `__annotation__ dictionary with `empty` cast to `None`, returning empty if doesn't exist\n",
      "use_kwargs_dict:     decorator, function    Decorator: replace `**kwargs` in signature with `names` params\n",
      "use_kwargs:          decorator, function    Decorator: replace `**kwargs` in signature with `names` params\n",
      "delegates:           decorator, function    Decorator: replace `**kwargs` in signature with params from `to`\n",
      "method:              function    Mark `f` as a method\n",
      "funcs_kwargs:        decorator, function    Replace methods in `cls._methods` with those from `kwargs`\n"
     ]
    }
   ],
   "source": [
    "whatinside(fm, dun=True)"
   ]
  },
  {
   "cell_type": "markdown",
   "id": "c183a978",
   "metadata": {},
   "source": [
    "## Review individual funcs and classes"
   ]
  },
  {
   "cell_type": "markdown",
   "id": "9f7a1726",
   "metadata": {},
   "source": [
    "### What is fastcore.meta all about? \n",
    "\n",
    "It is a submodule contains 4 metaclasses, 1 class built by a metaclass, 4 decorators and a few functions.    \n",
    "\n",
    "Metaclasses give us the power to create new breeds of classes with new features.     \n",
    "\n",
    "Decorators give us the power to add new features to existing funcions.    \n",
    "\n",
    "We can find their basic info [above](#What's-inside-fastcore.meta)"
   ]
  },
  {
   "cell_type": "markdown",
   "id": "50cee7f7",
   "metadata": {},
   "source": [
    "### What can these metaclasses do for me?\n",
    "\n",
    "We design/create classes to breed objects as we like.\n",
    "\n",
    "We design/create metaclasses to breed classes as we like.\n",
    "\n",
    "Before metaclasses, all classes are created by type and are born the same.\n",
    "\n",
    "With metaclasses, e.g., FixSigMeta first uses type to its instance classes exactly like above, but then FixSigMeta immediately adds new features to them right before they are born."
   ]
  },
  {
   "cell_type": "markdown",
   "id": "57d04c68",
   "metadata": {},
   "source": [
    "#### FixSigMeta\n",
    "can breed classes which are free of signature problems (or they can automatically fix signature problems)."
   ]
  },
  {
   "cell_type": "markdown",
   "id": "15a5f046",
   "metadata": {},
   "source": [
    "#### PrePostInitMeta\n",
    "inherited/evolved from `FixSigMeta` to breed classes which can initialize their objects using `__pre_init__`, \n",
    "`__init__`, `__post_init__` whichever is available (allow me to abbreviate it as triple_init)."
   ]
  },
  {
   "cell_type": "markdown",
   "id": "03e4e4de",
   "metadata": {},
   "source": [
    "#### AutoInit\n",
    "is an instance class created by `PrePostInitMeta`, and together with its own defined `__pre_init__`, subclasses of `AutoInit` has to worry about running `super().__init__(...)` no more."
   ]
  },
  {
   "cell_type": "markdown",
   "id": "6920b5fe",
   "metadata": {},
   "source": [
    "- As `AutoInit` is an instance class created by `PrePostInitMeta`, it can pass on both features (free of signature problem and triple_init) to its subclasses. \n",
    "- As it also defines its own `__pre_init__` function which calls its superclass `__init__` function, its subclasses will inherit this `__pre_init__` function too.\n",
    "- When subclasses of `AutoInit` create and initialize object intances through `__call__` from `PrePostInitMeta`, `AutoInit`'s `__pre_init__` runs `super().__init__(...)`, so when we write `__init__` function of subclasses which inherits from `AutoInit`, we don't need to write `super().__init__(...)` any more."
   ]
  },
  {
   "cell_type": "markdown",
   "id": "aeaa7455",
   "metadata": {},
   "source": [
    "#### NewChkMeta"
   ]
  },
  {
   "cell_type": "markdown",
   "id": "5c8ad95b",
   "metadata": {},
   "source": [
    "is inherited from `FixSigMeta`, so any instance classes created by `NewChkMeta` can also pass on the no_signature_problem feature.\n",
    "\n",
    "It defines its own `__call__` to enable all the instance objects e.g., `t` created by all the instance classes e.g., `T` created by `NewChkMeta` to do the following: \n",
    "\n",
    "- `T(t) is t if isinstance(t, T)` returns true\n",
    "- when `T(t) is t if not isinstance(t, T)`, or when `T(t, 1) is t if isinstance(t, T)` or when `T(t, b=1) is t if isinstance(t, T)`, all return False\n",
    "\n",
    "In other words, `NewChkMeta` creates a new breed of classes `T` as an example which won't recreate the same instance object `t` twice. But if `t` is not `T`'s instance object, or we choose to add more flavor to `t`, then `T(t)` or `T(t, 1)` will create a new instance object of `T`."
   ]
  },
  {
   "cell_type": "markdown",
   "id": "5a717cff",
   "metadata": {},
   "source": [
    "#### BypassNewMeta"
   ]
  },
  {
   "cell_type": "markdown",
   "id": "a5fe0a36",
   "metadata": {},
   "source": [
    "is inherited from `FixSigMeta`, so it has the feature of free from signature problems."
   ]
  },
  {
   "cell_type": "markdown",
   "id": "ef34ad75",
   "metadata": {},
   "source": [
    "It defines its own `__call__`, so that when its instance classes `_T` create and initialize objects with a param `t` which is an instance object of another class `_TestB`, they can do the following:"
   ]
  },
  {
   "cell_type": "markdown",
   "id": "2059853c",
   "metadata": {},
   "source": [
    "- If `_T` likes `_TestB` and prefers `t` as it is, then when we run `t2 = _T(t)`, and `t2 is t` will be True, and both are instances of `_T`.  \n",
    "- If `_T` is not please with `t`, it could be that `_T` does not like `_TestB` any more, then `_T(t) is t` will be False\n",
    "- or maybe `_T` still likes `_TestB`, but want to add some flavors to `t` by `_T(t, 1)` or `_T(t, b=1)` for example, in this case `_T(t) is t` will also be False."
   ]
  },
  {
   "cell_type": "markdown",
   "id": "f15528f4",
   "metadata": {},
   "source": [
    "In other words, `BypassNewMeta` creates a new breed of instance classes `_T` which don't need to create but make an object `t` of its own object instance, if `t` is an instance object of `_TestB` which is liked by `_T` and if `_T` likes `t` as it is."
   ]
  },
  {
   "cell_type": "markdown",
   "id": "1c656515",
   "metadata": {},
   "source": [
    "### What can those decorators do for me?\n",
    "\n",
    "A decorator is a function that takes in a function and returns a modified function.\n",
    "\n",
    "A decorator allows us to modify the behavior of a function. "
   ]
  },
  {
   "cell_type": "markdown",
   "id": "374c33a4",
   "metadata": {},
   "source": [
    "#### use_kwargs_dict"
   ]
  },
  {
   "cell_type": "markdown",
   "id": "976220b7",
   "metadata": {},
   "source": [
    "allows us to replace an existing function's param `kwargs` with a number of params with default values.\n",
    "\n",
    "The params with their default values are provided in a dictionary."
   ]
  },
  {
   "cell_type": "markdown",
   "id": "bb680e96",
   "metadata": {},
   "source": [
    "#### use_kwargs"
   ]
  },
  {
   "cell_type": "markdown",
   "id": "64cec01a",
   "metadata": {},
   "source": [
    "allows us to replace an existing function's param `kwargs` with a number of params with None as their default values.\n",
    "\n",
    "The params are provided as names in a list."
   ]
  },
  {
   "cell_type": "markdown",
   "id": "f1ccce79",
   "metadata": {},
   "source": [
    "#### delegates"
   ]
  },
  {
   "cell_type": "markdown",
   "id": "ec0c7ba7",
   "metadata": {},
   "source": [
    "allows us to replace an existing function's param `kwargs` with a number of params with their default values from another existing function.\n",
    "\n",
    "In fact, `delegates` can work on function, classes, and methods."
   ]
  },
  {
   "cell_type": "markdown",
   "id": "aae6f154",
   "metadata": {},
   "source": [
    "#### funcs_kwargs\n",
    "is a decorator to classes. It can help classes to bring in existing functions as their methods. \n",
    "\n",
    "It can set the methods to use or not use `self` in the class."
   ]
  },
  {
   "cell_type": "markdown",
   "id": "95e0d207",
   "metadata": {},
   "source": [
    "### The remaining functions"
   ]
  },
  {
   "cell_type": "markdown",
   "id": "3e116d75",
   "metadata": {},
   "source": [
    "`test_sig` and `method` are straightforward, their docs tell it all clearly."
   ]
  },
  {
   "cell_type": "markdown",
   "id": "9a35e0d0",
   "metadata": {},
   "source": [
    "`empty2none` and `anno_dict` are no in use much at all. see the thread [here](). "
   ]
  },
  {
   "cell_type": "code",
   "execution_count": null,
   "id": "4b4d5d00",
   "metadata": {},
   "outputs": [
    {
     "name": "stdout",
     "output_type": "stream",
     "text": [
      "\n",
      "class BaseMeta(FixSigMeta): \n",
      "    # using __new__ of  FixSigMeta instead of type\n",
      "    def __call__(cls, *args, **kwargs): pass\n",
      "\n",
      "class Foo_call_fix(metaclass=BaseMeta): # Base\n",
      "    def __init__(self, d, e, f): pass\n",
      "\n",
      "pprint(inspect._signature_from_callable(Foo_call_fix, sigcls=inspect.Signature))    \n",
      "\n",
      "class FixSigMeta(type):===================================================================(0)       \n",
      "    \"A metaclass that fixes the signature on classes that override `__new__`\"=============(1) # \u001b[36;1mAny class having FixSigMeta as metaclass will have its own __init__ func stored in its attr __signature__;FixSigMeta uses its __new__ to create a class instance\u001b[0m; \u001b[36;1mthen check whether its class instance has its own __init__;if so, remove self from the sig of __init__\u001b[0m; \u001b[91;1mthen assign this new sig to __signature__ for the class instance;\u001b[0m; \n",
      "    def __new__(cls, name, bases, dict):==================================================(2) # \u001b[36;1mhow does a metaclass create a class instance\u001b[0m; \u001b[35;1mwhat does super().__new__() do here;\u001b[0m; \n",
      "        res = super().__new__(cls, name, bases, dict)=====================================(3)       \n",
      "        if res.__init__ is not object.__init__: res.__signature__ = _rm_self(inspect.signature(res.__init__)) # \u001b[92;1mhow to remove self from a signature\u001b[0m; \u001b[36;1mhow to check whether a class' __init__ is inherited from object or not;\u001b[0m;  (4)\n",
      "        return res========================================================================(5)       \n",
      "                                                                                                                                                        (6)\n"
     ]
    },
    {
     "data": {
      "text/markdown": [
       "[Open `0003_Explore_document_FixSigMeta_PrePostInitMeta_AutoInit` in Jupyter Notebook](http://localhost:8888/tree/nbs/demos/0003_Explore_document_FixSigMeta_PrePostInitMeta_AutoInit.ipynb)"
      ],
      "text/plain": [
       "<IPython.core.display.Markdown object>"
      ]
     },
     "metadata": {},
     "output_type": "display_data"
    }
   ],
   "source": [
    "fastview(\"FixSigMeta\", nb=True)"
   ]
  },
  {
   "cell_type": "code",
   "execution_count": null,
   "id": "094e420b",
   "metadata": {},
   "outputs": [
    {
     "name": "stderr",
     "output_type": "stream",
     "text": [
      "ERROR:root:No traceback has been produced, nothing to debug.\n"
     ]
    }
   ],
   "source": [
    "%debug"
   ]
  },
  {
   "cell_type": "code",
   "execution_count": null,
   "id": "46699ca4",
   "metadata": {},
   "outputs": [
    {
     "name": "stdout",
     "output_type": "stream",
     "text": [
      "test_sig.py\n",
      "BypassNewMeta.py\n",
      "snoop.py\n",
      "FixSigMeta.py\n",
      "fastnbs.py\n",
      "funcs_kwargs.py\n",
      "NewChkMeta.py\n",
      "printtitle.py\n",
      "AutoInit.py\n",
      "method.py\n",
      "_rm_self.py\n",
      "delegates.py\n",
      "create_explore_str.py\n",
      "PrePostInitMeta.py\n",
      "_funcs_kwargs.py\n",
      "whatinside.py\n"
     ]
    }
   ],
   "source": [
    "fastsrcs()"
   ]
  },
  {
   "cell_type": "code",
   "execution_count": null,
   "id": "d3501e30",
   "metadata": {},
   "outputs": [
    {
     "name": "stdout",
     "output_type": "stream",
     "text": [
      "\n",
      "class BaseMeta(FixSigMeta): \n",
      "    # using __new__ of  FixSigMeta instead of type\n",
      "    def __call__(cls, *args, **kwargs): pass\n",
      "\n",
      "class Foo_call_fix(metaclass=BaseMeta): # Base\n",
      "    def __init__(self, d, e, f): pass\n",
      "\n",
      "pprint(inspect._signature_from_callable(Foo_call_fix, sigcls=inspect.Signature))    \n",
      "\n",
      "class FixSigMeta(type):===================================================================(0)       \n",
      "    \"A metaclass that fixes the signature on classes that override `__new__`\"=============(1) # \u001b[36;1mAny class having FixSigMeta as metaclass will have its own __init__ func stored in its attr __signature__;FixSigMeta uses its __new__ to create a class instance\u001b[0m; \u001b[36;1mthen check whether its class instance has its own __init__;if so, remove self from the sig of __init__\u001b[0m; \u001b[91;1mthen assign this new sig to __signature__ for the class instance;\u001b[0m; \n",
      "    def __new__(cls, name, bases, dict):==================================================(2) # \u001b[36;1mhow does a metaclass create a class instance\u001b[0m; \u001b[35;1mwhat does super().__new__() do here;\u001b[0m; \n",
      "        res = super().__new__(cls, name, bases, dict)=====================================(3)       \n",
      "        if res.__init__ is not object.__init__: res.__signature__ = _rm_self(inspect.signature(res.__init__)) # \u001b[92;1mhow to remove self from a signature\u001b[0m; \u001b[36;1mhow to check whether a class' __init__ is inherited from object or not;\u001b[0m;  (4)\n",
      "        return res========================================================================(5)       \n",
      "                                                                                                                                                        (6)\n"
     ]
    }
   ],
   "source": [
    "fastview(FixSigMeta)"
   ]
  },
  {
   "cell_type": "code",
   "execution_count": null,
   "id": "2a2a6a16",
   "metadata": {},
   "outputs": [
    {
     "data": {
      "text/markdown": [
       "keyword match is  <mark style=\"background-color: #ffff00\">0.8</mark> , found a line: in  <mark style=\"background-color: #FFFF00\">delegates.py</mark> "
      ],
      "text/plain": [
       "<IPython.core.display.Markdown object>"
      ]
     },
     "metadata": {},
     "output_type": "display_data"
    },
    {
     "name": "stdout",
     "output_type": "stream",
     "text": [
      "        s2 = {k:v.replace(kind=inspect.Parameter.KEYWORD_ONLY) for k,v in inspect.signature(to_f).parameters.items() # \u001b[91;1mHow to access a signature's parameters as a dict?\u001b[0m; \u001b[36;1mHow to replace the kind of a parameter with a different kind?\u001b[0m; \u001b[91;1mhow to check whether a parameter has a default value?\u001b[0m; \u001b[35;1mHow to check whether a string is in a dict and a list?\u001b[0m; \u001b[34;1mhow dict.items() and dict.values() differ\u001b[0m;  (14)\n",
      "\n"
     ]
    },
    {
     "data": {
      "text/markdown": [
       "the entire source code in  <mark style=\"background-color: #FFFF00\">delegates.py</mark> "
      ],
      "text/plain": [
       "<IPython.core.display.Markdown object>"
      ]
     },
     "metadata": {},
     "output_type": "display_data"
    },
    {
     "name": "stdout",
     "output_type": "stream",
     "text": [
      "\n",
      "def low(a, b:int=1): pass\n",
      "@delegates(low)\n",
      "def mid(c, d:list=None, **kwargs): pass\n",
      "pprint(inspect.signature(mid)) # pprint and inspect is loaded from fastdebug\n",
      "\n",
      "def delegates(to:FunctionType=None, # Delegatee===========================================(0) # \u001b[37;1mhow to make delegates(to) to have to as FunctionType and default as None\u001b[0m; \n",
      "              keep=False, # Keep `kwargs` in decorated function?==========================(1)       \n",
      "              but:list=None): # Exclude these parameters from signature===================(2) # \u001b[93;1mhow to make delegates(to, but) to have 'but' as list and default as None\u001b[0m; \n",
      "    \"Decorator: replace `**kwargs` in signature with params from `to`\"====================(3)       \n",
      "    if but is None: but = []==============================================================(4)       \n",
      "    def _f(f):============================================================================(5)       \n",
      "        if to is None: to_f,from_f = f.__base__.__init__,f.__init__=======================(6) # \u001b[37;1mhow to write 2 ifs and elses in 2 lines\u001b[0m; \n",
      "        else:          to_f,from_f = to.__init__ if isinstance(to,type) else to,f=========(7) # \u001b[34;1mhow to assign a,b together with if and else\u001b[0m; \n",
      "        from_f = getattr(from_f,'__func__',from_f)========================================(8) # \u001b[37;1mIs classmethod callable\u001b[0m; \u001b[92;1mdoes classmethod has __func__\u001b[0m; \u001b[35;1mcan we do inspect.signature(clsmethod)\u001b[0m; \u001b[37;1mhow to use getattr(obj, attr, default)\u001b[0m; \n",
      "        to_f = getattr(to_f,'__func__',to_f)==============================================(9)       \n",
      "        if hasattr(from_f,'__delwrap__'): return f========================================(10) # \u001b[36;1mif B has __delwrap__, can we do delegates(A)(B) again?\u001b[0m; \u001b[37;1mhasattr(obj, '__delwrap__')\u001b[0m; \n",
      "        sig = inspect.signature(from_f)===================================================(11) # \u001b[91;1mhow to get signature obj of B\u001b[0m; \u001b[36;1mwhat does a signature look like\u001b[0m; \u001b[93;1mwhat is the type\u001b[0m; \n",
      "        sigd = dict(sig.parameters)=======================================================(12) # \u001b[34;1mHow to access parameters of a signature?\u001b[0m; \u001b[37;1mHow to turn parameters into a dict?\u001b[0m; \n",
      "        k = sigd.pop('kwargs')============================================================(13) # \u001b[93;1mHow to remove an item from a dict?\u001b[0m; \u001b[91;1mHow to get the removed item from a dict?\u001b[0m; \u001b[37;1mHow to add the removed item back to the dict?\u001b[0m; \u001b[34;1mwhen writing expressions, as they share environment, so they may affect the following code\u001b[0m; \n",
      "        s2 = {k:v.replace(kind=inspect.Parameter.KEYWORD_ONLY) for k,v in inspect.signature(to_f).parameters.items() # \u001b[91;1mHow to access a signature's parameters as a dict?\u001b[0m; \u001b[36;1mHow to replace the kind of a parameter with a different kind?\u001b[0m; \u001b[91;1mhow to check whether a parameter has a default value?\u001b[0m; \u001b[35;1mHow to check whether a string is in a dict and a list?\u001b[0m; \u001b[34;1mhow dict.items() and dict.values() differ\u001b[0m;  (14)\n",
      "              if v.default != inspect.Parameter.empty and k not in sigd and k not in but}=(15)      \n",
      "        anno = {k:v for k,v in getattr(to_f, \"__annotations__\", {}).items() if k not in sigd and k not in but} # \u001b[35;1mHow to get A's __annotations__?\u001b[0m; \u001b[35;1mHow to access it as a dict?\u001b[0m; \u001b[92;1mHow to select annotations of the right params with names?\u001b[0m; \u001b[34;1mHow to put them into a dict?\u001b[0m; \u001b[93;1mHow to do it all in a single line\u001b[0m;  (16)\n",
      "        sigd.update(s2)===================================================================(17) # \u001b[34;1mHow to add the selected params from A's signature to B's signature\u001b[0m; \u001b[92;1mHow to add items into a dict;\u001b[0m; \n",
      "        if keep: sigd['kwargs'] = k=======================================================(18) # \u001b[37;1mHow to add a new item into a dict;\u001b[0m; \n",
      "        else: from_f.__delwrap__ = to_f===================================================(19) # \u001b[92;1mHow to create a new attr for a function or obj;\u001b[0m; \n",
      "        from_f.__signature__ = sig.replace(parameters=sigd.values())======================(20) # \u001b[91;1mHow to update a signature with a new set of parameters;\u001b[0m; \n",
      "        if hasattr(from_f, '__annotations__'): from_f.__annotations__.update(anno)========(21) # \u001b[35;1mHow to check whether a func has __annotations__\u001b[0m; \u001b[35;1mHow add selected params' annotations from A to B's annotations;\u001b[0m; \n",
      "        return f==========================================================================(22)      \n",
      "    return _f=============================================================================(23)      \n",
      "                                                                                                                                                        (24)\n",
      "\n"
     ]
    },
    {
     "data": {
      "text/markdown": [
       "[Open `0001_fastcore_meta_delegates` in Jupyter Notebook](http://localhost:8888/tree/nbs/demos/0001_fastcore_meta_delegates.ipynb)"
      ],
      "text/plain": [
       "<IPython.core.display.Markdown object>"
      ]
     },
     "metadata": {},
     "output_type": "display_data"
    }
   ],
   "source": [
    "fastcodes(\"how to get signature's parameters\", accu=0.8, nb=True, db=True)"
   ]
  },
  {
   "cell_type": "code",
   "execution_count": null,
   "id": "6cbad6ed",
   "metadata": {},
   "outputs": [
    {
     "name": "stdout",
     "output_type": "stream",
     "text": [
      "\n"
     ]
    },
    {
     "data": {
      "text/markdown": [
       "keyword match is  <mark style=\"background-color: #ffff00\">1.0</mark> , found a line: in  <mark style=\"background-color: #FFFF00\">2022_part1/fastai-lecture-1.md</mark> "
      ],
      "text/plain": [
       "<IPython.core.display.Markdown object>"
      ]
     },
     "metadata": {},
     "output_type": "display_data"
    },
    {
     "data": {
      "text/markdown": [
       "do you want to know  <mark style=\"background-color: #ffff00\">how</mark>  to  <mark style=\"background-color: #ffff00\">make</mark>   <mark style=\"background-color: #ffff00\">the</mark>   <mark style=\"background-color: #FFFF00\">most</mark>  out of fastai? - do you know lesson 0 and  <mark style=\"background-color: #ffff00\">the</mark>  book _meta learning_ by an alumni?\n"
      ],
      "text/plain": [
       "<IPython.core.display.Markdown object>"
      ]
     },
     "metadata": {},
     "output_type": "display_data"
    },
    {
     "name": "stdout",
     "output_type": "stream",
     "text": [
      "\n"
     ]
    },
    {
     "data": {
      "text/markdown": [
       "show  <mark style=\"background-color: #FFFF00\">2</mark>  lines above and after in  <mark style=\"background-color: #ffff00\"> <mark style=\"background-color: #FFFF00\">2</mark> 0 <mark style=\"background-color: #FFFF00\">2</mark>  <mark style=\"background-color: #FFFF00\">2</mark> _part1/fastai-lecture-1.md</mark> :"
      ],
      "text/plain": [
       "<IPython.core.display.Markdown object>"
      ]
     },
     "metadata": {},
     "output_type": "display_data"
    },
    {
     "data": {
      "text/markdown": [
       "Do Jeremy and fastai community take it very seriously in help beginners along the way?\n"
      ],
      "text/plain": [
       "<IPython.core.display.Markdown object>"
      ]
     },
     "metadata": {},
     "output_type": "display_data"
    },
    {
     "data": {
      "text/markdown": [
       "[16:33](https://www.youtube.com/watch?v=RLvUfyLcT48&t=80s&loop=10&start=16:33&end=17:41) Make the most out of [fast.ai](http://fast.ai/)  \n"
      ],
      "text/plain": [
       "<IPython.core.display.Markdown object>"
      ]
     },
     "metadata": {},
     "output_type": "display_data"
    },
    {
     "data": {
      "text/markdown": [
       "do you want to know  <mark style=\"background-color: #ffff00\">how</mark>  to  <mark style=\"background-color: #ffff00\">make</mark>   <mark style=\"background-color: #ffff00\">the</mark>   <mark style=\"background-color: #FFFF00\">most</mark>  out of fastai? - do you know lesson 0 and  <mark style=\"background-color: #ffff00\">the</mark>  book _meta learning_ by an alumni?\n"
      ],
      "text/plain": [
       "<IPython.core.display.Markdown object>"
      ]
     },
     "metadata": {},
     "output_type": "display_data"
    },
    {
     "data": {
      "text/markdown": [
       "[17:41](https://www.youtube.com/watch?v=RLvUfyLcT48&t=80s&loop=10&start=17:41&end=20:01) Learn in context  \n"
      ],
      "text/plain": [
       "<IPython.core.display.Markdown object>"
      ]
     },
     "metadata": {},
     "output_type": "display_data"
    },
    {
     "data": {
      "text/markdown": [
       "Do you know people learn naturally (better) with context rather than by theoretical curriculum? - Do you want this course to make you a competent deep learning practitioner by context and practical knowledge? - If you want theory from ground up, should you go to part 2 fastai 2019?\n"
      ],
      "text/plain": [
       "<IPython.core.display.Markdown object>"
      ]
     },
     "metadata": {},
     "output_type": "display_data"
    },
    {
     "name": "stdout",
     "output_type": "stream",
     "text": [
      "\n"
     ]
    },
    {
     "data": {
      "text/markdown": [
       "keyword match is  <mark style=\"background-color: #ffff00\">1.0</mark> , found a line: in  <mark style=\"background-color: #FFFF00\">2022_part1/fastai-lecture-2.md</mark> "
      ],
      "text/plain": [
       "<IPython.core.display.Markdown object>"
      ]
     },
     "metadata": {},
     "output_type": "display_data"
    },
    {
     "data": {
      "text/markdown": [
       "-  <mark style=\"background-color: #ffff00\">how</mark>  to  <mark style=\"background-color: #ffff00\">make</mark>   <mark style=\"background-color: #ffff00\">the</mark>   <mark style=\"background-color: #FFFF00\">most</mark>  out of fastai forum?\n"
      ],
      "text/plain": [
       "<IPython.core.display.Markdown object>"
      ]
     },
     "metadata": {},
     "output_type": "display_data"
    },
    {
     "name": "stdout",
     "output_type": "stream",
     "text": [
      "\n"
     ]
    },
    {
     "data": {
      "text/markdown": [
       "show  <mark style=\"background-color: #FFFF00\">2</mark>  lines above and after in  <mark style=\"background-color: #ffff00\"> <mark style=\"background-color: #FFFF00\">2</mark> 0 <mark style=\"background-color: #FFFF00\">2</mark>  <mark style=\"background-color: #FFFF00\">2</mark> _part1/fastai-lecture- <mark style=\"background-color: #FFFF00\">2</mark> .md</mark> :"
      ],
      "text/plain": [
       "<IPython.core.display.Markdown object>"
      ]
     },
     "metadata": {},
     "output_type": "display_data"
    },
    {
     "data": {
      "text/markdown": [
       "- Where can you get more quizzes of fastai and memorize them forever?\n"
      ],
      "text/plain": [
       "<IPython.core.display.Markdown object>"
      ]
     },
     "metadata": {},
     "output_type": "display_data"
    },
    {
     "data": {
      "text/markdown": [
       "#### [02:38](https://www.youtube.com/watch?v=F4tvM4Vb3A0&loop=10&start=02:38&end=04:12) Introducing the forum  \n"
      ],
      "text/plain": [
       "<IPython.core.display.Markdown object>"
      ]
     },
     "metadata": {},
     "output_type": "display_data"
    },
    {
     "data": {
      "text/markdown": [
       "-  <mark style=\"background-color: #ffff00\">how</mark>  to  <mark style=\"background-color: #ffff00\">make</mark>   <mark style=\"background-color: #ffff00\">the</mark>   <mark style=\"background-color: #FFFF00\">most</mark>  out of fastai forum?\n"
      ],
      "text/plain": [
       "<IPython.core.display.Markdown object>"
      ]
     },
     "metadata": {},
     "output_type": "display_data"
    },
    {
     "data": {
      "text/markdown": [
       "#### [04:12](https://www.youtube.com/watch?v=F4tvM4Vb3A0&loop=10&start=04:12&end=05:58) Students' works after week 1\n"
      ],
      "text/plain": [
       "<IPython.core.display.Markdown object>"
      ]
     },
     "metadata": {},
     "output_type": "display_data"
    },
    {
     "data": {
      "text/markdown": [
       "#### [06:08](https://www.youtube.com/watch?v=F4tvM4Vb3A0&loop=10&start=06:08&end=06:46) A Wow moment  \n"
      ],
      "text/plain": [
       "<IPython.core.display.Markdown object>"
      ]
     },
     "metadata": {},
     "output_type": "display_data"
    },
    {
     "name": "stdout",
     "output_type": "stream",
     "text": [
      "\n"
     ]
    },
    {
     "data": {
      "text/markdown": [
       "keyword match is  <mark style=\"background-color: #ffff00\">1.0</mark> , found a line: in  <mark style=\"background-color: #FFFF00\">2022_livecoding/live-coding-1.md</mark> "
      ],
      "text/plain": [
       "<IPython.core.display.Markdown object>"
      ]
     },
     "metadata": {},
     "output_type": "display_data"
    },
    {
     "data": {
      "text/markdown": [
       "- -  <mark style=\"background-color: #ffff00\">how</mark>  to  <mark style=\"background-color: #ffff00\">make</mark>   <mark style=\"background-color: #ffff00\">the</mark>   <mark style=\"background-color: #FFFF00\">most</mark>  out of `.bash_history` file? \n"
      ],
      "text/plain": [
       "<IPython.core.display.Markdown object>"
      ]
     },
     "metadata": {},
     "output_type": "display_data"
    },
    {
     "name": "stdout",
     "output_type": "stream",
     "text": [
      "\n"
     ]
    },
    {
     "data": {
      "text/markdown": [
       "show  <mark style=\"background-color: #FFFF00\">2</mark>  lines above and after in  <mark style=\"background-color: #ffff00\"> <mark style=\"background-color: #FFFF00\">2</mark> 0 <mark style=\"background-color: #FFFF00\">2</mark>  <mark style=\"background-color: #FFFF00\">2</mark> _livecoding/live-coding-1.md</mark> :"
      ],
      "text/plain": [
       "<IPython.core.display.Markdown object>"
      ]
     },
     "metadata": {},
     "output_type": "display_data"
    },
    {
     "data": {
      "text/markdown": [
       "- - How to run jupyter lab without browser? `jupyter lab --no-browser` \n"
      ],
      "text/plain": [
       "<IPython.core.display.Markdown object>"
      ]
     },
     "metadata": {},
     "output_type": "display_data"
    },
    {
     "data": {
      "text/markdown": [
       "- - How to find and check the content of `.bash_history`? `cat .bash_history` [1:12:53](https://youtu.be/56sIyFjihEc?list=PLfYUBJiXbdtSLBPJ1GMx-sQWf6iNhb8mM&t=4373) \n"
      ],
      "text/plain": [
       "<IPython.core.display.Markdown object>"
      ]
     },
     "metadata": {},
     "output_type": "display_data"
    },
    {
     "data": {
      "text/markdown": [
       "- -  <mark style=\"background-color: #ffff00\">how</mark>  to  <mark style=\"background-color: #ffff00\">make</mark>   <mark style=\"background-color: #ffff00\">the</mark>   <mark style=\"background-color: #FFFF00\">most</mark>  out of `.bash_history` file? \n"
      ],
      "text/plain": [
       "<IPython.core.display.Markdown object>"
      ]
     },
     "metadata": {},
     "output_type": "display_data"
    },
    {
     "data": {
      "text/markdown": [
       "- - How to search the .bash_history commands? `ctrl + r` and use `delete` tab to clear the search, use `esc` tab to exit search \n"
      ],
      "text/plain": [
       "<IPython.core.display.Markdown object>"
      ]
     },
     "metadata": {},
     "output_type": "display_data"
    },
    {
     "data": {
      "text/markdown": [
       "- - How to run a command starting with `ju`? `!ju` \n"
      ],
      "text/plain": [
       "<IPython.core.display.Markdown object>"
      ]
     },
     "metadata": {},
     "output_type": "display_data"
    }
   ],
   "source": [
    "fastnotes(\"how make the most\", folder=\"all\")"
   ]
  },
  {
   "cell_type": "markdown",
   "id": "6e57ca0b",
   "metadata": {},
   "source": [
    "## What is fastcore.meta all about"
   ]
  },
  {
   "cell_type": "code",
   "execution_count": null,
   "id": "031defc0",
   "metadata": {},
   "outputs": [],
   "source": []
  },
  {
   "cell_type": "code",
   "execution_count": null,
   "id": "d3e6beb5",
   "metadata": {},
   "outputs": [],
   "source": []
  },
  {
   "cell_type": "code",
   "execution_count": null,
   "id": "51ea006b",
   "metadata": {},
   "outputs": [],
   "source": []
  },
  {
   "cell_type": "code",
   "execution_count": null,
   "id": "3bfae24c",
   "metadata": {},
   "outputs": [],
   "source": []
  }
 ],
 "metadata": {
  "kernelspec": {
   "display_name": "Python 3 (ipykernel)",
   "language": "python",
   "name": "python3"
  }
 },
 "nbformat": 4,
 "nbformat_minor": 5
}
