{
 "cells": [
  {
   "cell_type": "markdown",
   "id": "5d47c3f1",
   "metadata": {},
   "source": [
    "# 0010_fastcore_meta_summary"
   ]
  },
  {
   "cell_type": "markdown",
   "id": "7bc4c6d2",
   "metadata": {},
   "source": [
    "## import"
   ]
  },
  {
   "cell_type": "code",
   "execution_count": null,
   "id": "eef6d9b1",
   "metadata": {},
   "outputs": [
    {
     "data": {
      "text/html": [
       "<style>.container { width:100% !important; }</style>"
      ],
      "text/plain": [
       "<IPython.core.display.HTML object>"
      ]
     },
     "metadata": {},
     "output_type": "display_data"
    }
   ],
   "source": [
    "from fastdebug.utils import *\n",
    "from fastdebug.core import *"
   ]
  },
  {
   "cell_type": "markdown",
   "id": "66e9746e",
   "metadata": {},
   "source": [
    "## fastcore"
   ]
  },
  {
   "cell_type": "code",
   "execution_count": null,
   "id": "f1e8408e",
   "metadata": {},
   "outputs": [],
   "source": [
    "import fastcore"
   ]
  },
  {
   "cell_type": "code",
   "execution_count": null,
   "id": "af9f173e",
   "metadata": {},
   "outputs": [
    {
     "name": "stdout",
     "output_type": "stream",
     "text": [
      "fastcore: 1.5.27 \n",
      "Python supercharged for fastai development    \n",
      "Jeremy Howard and Sylvain Gugger \n",
      "https://github.com/fastai/fastcore/     \n",
      "python_version: >=3.7     \n",
      "/Users/Natsume/mambaforge/lib/python3.9/site-packages/fastcore\n"
     ]
    }
   ],
   "source": [
    "whichversion(\"fastcore\")"
   ]
  },
  {
   "cell_type": "code",
   "execution_count": null,
   "id": "d67293bf",
   "metadata": {},
   "outputs": [
    {
     "name": "stdout",
     "output_type": "stream",
     "text": [
      "The library has 21 modules\n",
      "['_modidx',\n",
      " '_nbdev',\n",
      " 'all',\n",
      " 'basics',\n",
      " 'dispatch',\n",
      " 'docments',\n",
      " 'docscrape',\n",
      " 'foundation',\n",
      " 'imports',\n",
      " 'meta',\n",
      " 'nb_imports',\n",
      " 'net',\n",
      " 'parallel',\n",
      " 'script',\n",
      " 'shutil',\n",
      " 'style',\n",
      " 'test',\n",
      " 'transform',\n",
      " 'utils',\n",
      " 'xdg',\n",
      " 'xtras']\n"
     ]
    }
   ],
   "source": [
    "whatinside(fastcore, lib=True)"
   ]
  },
  {
   "cell_type": "code",
   "execution_count": null,
   "id": "a8a133ce",
   "metadata": {},
   "outputs": [],
   "source": [
    "from fastcore.meta import *\n",
    "import fastcore.meta as fm"
   ]
  },
  {
   "cell_type": "code",
   "execution_count": null,
   "id": "0ad7ae33",
   "metadata": {},
   "outputs": [
    {
     "name": "stdout",
     "output_type": "stream",
     "text": [
      "fastcore.meta has: \n",
      "13 items in its __all__, and \n",
      "43 user defined functions, \n",
      "19 classes or class objects, \n",
      "2 builtin funcs and methods, and\n",
      "74 callables.\n",
      "\n",
      "test_sig:            function    (f, b)\n",
      "FixSigMeta:          metaclass, type    (name, bases, dict)\n",
      "PrePostInitMeta:     metaclass, type    (name, bases, dict)\n",
      "AutoInit:            class, PrePostInitMeta    (*args, **kwargs)\n",
      "NewChkMeta:          metaclass, type    (name, bases, dict)\n",
      "BypassNewMeta:       metaclass, type    (name, bases, dict)\n",
      "empty2none:          function    (p)\n",
      "anno_dict:           function    (f)\n",
      "use_kwargs_dict:     decorator, function    (keep=False, **kwargs)\n",
      "use_kwargs:          decorator, function    (names, keep=False)\n",
      "delegates:           decorator, function    (to: function = None, keep=False, but: list = None)\n",
      "method:              function    (f)\n",
      "funcs_kwargs:        decorator, function    (as_method=False)\n"
     ]
    }
   ],
   "source": [
    "whatinside(fm, dun=True)"
   ]
  },
  {
   "cell_type": "markdown",
   "id": "79d80de3",
   "metadata": {},
   "source": [
    "## Review individual funcs and classes"
   ]
  },
  {
   "cell_type": "code",
   "execution_count": null,
   "id": "d3f62c1d",
   "metadata": {},
   "outputs": [
    {
     "name": "stdout",
     "output_type": "stream",
     "text": [
      "test_sig.py\n",
      "BypassNewMeta.py\n",
      "FixSigMeta.py\n",
      "funcs_kwargs.py\n",
      "NewChkMeta.py\n",
      "AutoInit.py\n",
      "method.py\n",
      "_rm_self.py\n",
      "delegates.py\n",
      "PrePostInitMeta.py\n",
      "_funcs_kwargs.py\n",
      "whatinside.py\n"
     ]
    }
   ],
   "source": [
    "fastlist()"
   ]
  },
  {
   "cell_type": "code",
   "execution_count": null,
   "id": "75010b7a",
   "metadata": {},
   "outputs": [
    {
     "name": "stdout",
     "output_type": "stream",
     "text": [
      "class NewChkMeta(FixSigMeta):=============================================================(0)       \n",
      "    \"Metaclass to avoid recreating object passed to constructor\"==========================(1) # \u001b[36;1mNewChkMeta is a metaclass inherited from FixSigMea\u001b[0m; \u001b[34;1mit makes its own __call__\u001b[0m; \u001b[92;1mwhen its class instance, e.g., _T, create object instances (e.g, t) without args nor kwargs but only x, and x is an object of the instance class, then return x\u001b[0m; \u001b[93;1motherwise, create and return a new object created by the instance class's super class' __call__ method with x as param\u001b[0m; \u001b[34;1mIn other words, t = _T(3) will create a new obj\u001b[0m; \u001b[93;1m_T(t) will return t\u001b[0m; \u001b[92;1m_T(t, 1) or _T(t, b=1) will also return a new obj\u001b[0m; \n",
      "    def __call__(cls, x=None, *args, **kwargs):===========================================(2) # \u001b[92;1mhow to create a __call__ method with param cls, x, *args, **kwargs;\u001b[0m; \n",
      "        if not args and not kwargs and x is not None and isinstance(x,cls): return x======(3) # \u001b[34;1mhow to express no args and no kwargs and x is an instance of cls?\u001b[0m; \n",
      "        res = super().__call__(*((x,) + args), **kwargs)==================================(4) # \u001b[37;1mhow to call __call__ of super class with x and consider all possible situations of args and kwargs\u001b[0m; \n",
      "        return res========================================================================(5)       \n",
      "                                                                                                                                                        (6)\n"
     ]
    }
   ],
   "source": [
    "fastview(NewChkMeta)"
   ]
  },
  {
   "cell_type": "code",
   "execution_count": null,
   "id": "313873a9",
   "metadata": {},
   "outputs": [
    {
     "name": "stdout",
     "output_type": "stream",
     "text": [
      "class FixSigMeta(type):===================================================================(0)       \n",
      "    \"A metaclass that fixes the signature on classes that override `__new__`\"=============(1) # \u001b[35;1mAny class having FixSigMeta as metaclass will have its own __init__ func stored in its attr __signature__;FixSigMeta uses its __new__ to create a class instance\u001b[0m; \u001b[37;1mthen check whether its class instance has its own __init__;if so, remove self from the sig of __init__\u001b[0m; \u001b[35;1mthen assign this new sig to __signature__ for the class instance;\u001b[0m; \n",
      "    def __new__(cls, name, bases, dict):==================================================(2) # \u001b[92;1mhow does a metaclass create a class instance\u001b[0m; \u001b[92;1mwhat does super().__new__() do here;\u001b[0m; \n",
      "        res = super().__new__(cls, name, bases, dict)=====================================(3)       \n",
      "        if res.__init__ is not object.__init__: res.__signature__ = _rm_self(inspect.signature(res.__init__)) # \u001b[36;1mhow to remove self from a signature\u001b[0m; \u001b[35;1mhow to check whether a class' __init__ is inherited from object or not;\u001b[0m;  (4)\n",
      "        return res========================================================================(5)       \n",
      "                                                                                                                                                        (6)\n"
     ]
    }
   ],
   "source": [
    "fastview(FixSigMeta)"
   ]
  },
  {
   "cell_type": "code",
   "execution_count": null,
   "id": "235d62c5",
   "metadata": {},
   "outputs": [
    {
     "name": "stdout",
     "output_type": "stream",
     "text": [
      "Found a line: ========>\n",
      "        s2 = {k:v.replace(kind=inspect.Parameter.KEYWORD_ONLY) for k,v in inspect.signature(to_f).parameters.items() # \u001b[92;1mHow to access a signature's parameters as a dict?\u001b[0m; \u001b[37;1mHow to replace the kind of a parameter with a different kind?\u001b[0m; \u001b[36;1mhow to check whether a parameter has a default value?\u001b[0m; \u001b[36;1mHow to check whether a string is in a dict and a list?\u001b[0m; \u001b[36;1mhow dict.items() and dict.values() differ\u001b[0m;  (14)\n",
      "The source where the line is from ==========>\n",
      "def delegates(to:FunctionType=None, # Delegatee===========================================(0) # \u001b[35;1mhow to make delegates(to) to have to as FunctionType and default as None\u001b[0m; \n",
      "              keep=False, # Keep `kwargs` in decorated function?==========================(1)       \n",
      "              but:list=None): # Exclude these parameters from signature===================(2) # \u001b[93;1mhow to make delegates(to, but) to have 'but' as list and default as None\u001b[0m; \n",
      "    \"Decorator: replace `**kwargs` in signature with params from `to`\"====================(3)       \n",
      "    if but is None: but = []==============================================================(4)       \n",
      "    def _f(f):============================================================================(5)       \n",
      "        if to is None: to_f,from_f = f.__base__.__init__,f.__init__=======================(6) # \u001b[35;1mhow to write 2 ifs and elses in 2 lines\u001b[0m; \n",
      "        else:          to_f,from_f = to.__init__ if isinstance(to,type) else to,f=========(7) # \u001b[37;1mhow to assign a,b together with if and else\u001b[0m; \n",
      "        from_f = getattr(from_f,'__func__',from_f)========================================(8) # \u001b[93;1mIs classmethod callable\u001b[0m; \u001b[92;1mdoes classmethod has __func__\u001b[0m; \u001b[35;1mcan we do inspect.signature(clsmethod)\u001b[0m; \u001b[92;1mhow to use getattr(obj, attr, default)\u001b[0m; \n",
      "        to_f = getattr(to_f,'__func__',to_f)==============================================(9)       \n",
      "        if hasattr(from_f,'__delwrap__'): return f========================================(10) # \u001b[37;1mif B has __delwrap__, can we do delegates(A)(B) again?\u001b[0m; \u001b[36;1mhasattr(obj, '__delwrap__')\u001b[0m; \n",
      "        sig = inspect.signature(from_f)===================================================(11) # \u001b[35;1mhow to get signature obj of B\u001b[0m; \u001b[36;1mwhat does a signature look like\u001b[0m; \u001b[34;1mwhat is the type\u001b[0m; \n",
      "        sigd = dict(sig.parameters)=======================================================(12) # \u001b[37;1mHow to access parameters of a signature?\u001b[0m; \u001b[34;1mHow to turn parameters into a dict?\u001b[0m; \n",
      "        k = sigd.pop('kwargs')============================================================(13) # \u001b[36;1mHow to remove an item from a dict?\u001b[0m; \u001b[37;1mHow to get the removed item from a dict?\u001b[0m; \u001b[34;1mHow to add the removed item back to the dict?\u001b[0m; \u001b[93;1mwhen writing expressions, as they share environment, so they may affect the following code\u001b[0m; \n",
      "        s2 = {k:v.replace(kind=inspect.Parameter.KEYWORD_ONLY) for k,v in inspect.signature(to_f).parameters.items() # \u001b[92;1mHow to access a signature's parameters as a dict?\u001b[0m; \u001b[37;1mHow to replace the kind of a parameter with a different kind?\u001b[0m; \u001b[36;1mhow to check whether a parameter has a default value?\u001b[0m; \u001b[36;1mHow to check whether a string is in a dict and a list?\u001b[0m; \u001b[36;1mhow dict.items() and dict.values() differ\u001b[0m;  (14)\n",
      "              if v.default != inspect.Parameter.empty and k not in sigd and k not in but}=(15)      \n",
      "        anno = {k:v for k,v in getattr(to_f, \"__annotations__\", {}).items() if k not in sigd and k not in but} # \u001b[34;1mHow to get A's __annotations__?\u001b[0m; \u001b[35;1mHow to access it as a dict?\u001b[0m; \u001b[93;1mHow to select annotations of the right params with names?\u001b[0m; \u001b[91;1mHow to put them into a dict?\u001b[0m; \u001b[36;1mHow to do it all in a single line\u001b[0m;  (16)\n",
      "        sigd.update(s2)===================================================================(17) # \u001b[35;1mHow to add the selected params from A's signature to B's signature\u001b[0m; \u001b[35;1mHow to add items into a dict;\u001b[0m; \n",
      "        if keep: sigd['kwargs'] = k=======================================================(18) # \u001b[91;1mHow to add a new item into a dict;\u001b[0m; \n",
      "        else: from_f.__delwrap__ = to_f===================================================(19) # \u001b[92;1mHow to create a new attr for a function or obj;\u001b[0m; \n",
      "        from_f.__signature__ = sig.replace(parameters=sigd.values())======================(20) # \u001b[93;1mHow to update a signature with a new set of parameters;\u001b[0m; \n",
      "        if hasattr(from_f, '__annotations__'): from_f.__annotations__.update(anno)========(21) # \u001b[91;1mHow to check whether a func has __annotations__\u001b[0m; \u001b[93;1mHow add selected params' annotations from A to B's annotations;\u001b[0m; \n",
      "        return f==========================================================================(22)      \n",
      "    return _f=============================================================================(23)      \n",
      "                                                                                                                                                        (24)\n",
      "\n"
     ]
    }
   ],
   "source": [
    "fastsearch(\"how to get signature's parameters\")"
   ]
  },
  {
   "cell_type": "markdown",
   "id": "93f9133f",
   "metadata": {},
   "source": [
    "## What is fastcore.meta all about"
   ]
  },
  {
   "cell_type": "code",
   "execution_count": null,
   "id": "2792cc7d",
   "metadata": {},
   "outputs": [],
   "source": []
  },
  {
   "cell_type": "code",
   "execution_count": null,
   "id": "bddd3bda",
   "metadata": {},
   "outputs": [],
   "source": []
  },
  {
   "cell_type": "code",
   "execution_count": null,
   "id": "e943f33a",
   "metadata": {},
   "outputs": [],
   "source": []
  },
  {
   "cell_type": "code",
   "execution_count": null,
   "id": "292d6148",
   "metadata": {},
   "outputs": [],
   "source": []
  }
 ],
 "metadata": {
  "kernelspec": {
   "display_name": "Python 3 (ipykernel)",
   "language": "python",
   "name": "python3"
  }
 },
 "nbformat": 4,
 "nbformat_minor": 5
}
