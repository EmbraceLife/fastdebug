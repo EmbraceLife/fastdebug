{
 "cells": [
  {
   "cell_type": "markdown",
   "id": "3e3fefa7",
   "metadata": {},
   "source": [
    "# 0010_fastcore_meta_summary"
   ]
  },
  {
   "cell_type": "markdown",
   "id": "e125d35e",
   "metadata": {},
   "source": [
    "## import"
   ]
  },
  {
   "cell_type": "code",
   "execution_count": null,
   "id": "54c74b54",
   "metadata": {},
   "outputs": [
    {
     "data": {
      "text/html": [
       "<style>.container { width:100% !important; }</style>"
      ],
      "text/plain": [
       "<IPython.core.display.HTML object>"
      ]
     },
     "metadata": {},
     "output_type": "display_data"
    }
   ],
   "source": [
    "from fastdebug.utils import *\n",
    "from fastdebug.core import *"
   ]
  },
  {
   "cell_type": "markdown",
   "id": "b4c2d072",
   "metadata": {},
   "source": [
    "## fastcore and fastcore.meta"
   ]
  },
  {
   "cell_type": "code",
   "execution_count": null,
   "id": "206e930d",
   "metadata": {},
   "outputs": [],
   "source": [
    "import fastcore"
   ]
  },
  {
   "cell_type": "code",
   "execution_count": null,
   "id": "12f34a1d",
   "metadata": {},
   "outputs": [
    {
     "name": "stdout",
     "output_type": "stream",
     "text": [
      "fastcore: 1.5.27 \n",
      "Python supercharged for fastai development    \n",
      "Jeremy Howard and Sylvain Gugger \n",
      "https://github.com/fastai/fastcore/     \n",
      "python_version: >=3.7     \n",
      "/Users/Natsume/mambaforge/lib/python3.9/site-packages/fastcore\n"
     ]
    }
   ],
   "source": [
    "whichversion(\"fastcore\")"
   ]
  },
  {
   "cell_type": "code",
   "execution_count": null,
   "id": "fe12332e",
   "metadata": {},
   "outputs": [
    {
     "name": "stdout",
     "output_type": "stream",
     "text": [
      "The library has 21 modules\n",
      "['_modidx',\n",
      " '_nbdev',\n",
      " 'all',\n",
      " 'basics',\n",
      " 'dispatch',\n",
      " 'docments',\n",
      " 'docscrape',\n",
      " 'foundation',\n",
      " 'imports',\n",
      " 'meta',\n",
      " 'nb_imports',\n",
      " 'net',\n",
      " 'parallel',\n",
      " 'script',\n",
      " 'shutil',\n",
      " 'style',\n",
      " 'test',\n",
      " 'transform',\n",
      " 'utils',\n",
      " 'xdg',\n",
      " 'xtras']\n"
     ]
    }
   ],
   "source": [
    "whatinside(fastcore, lib=True)"
   ]
  },
  {
   "cell_type": "code",
   "execution_count": null,
   "id": "62f18313",
   "metadata": {},
   "outputs": [],
   "source": [
    "from fastcore.meta import *\n",
    "import fastcore.meta as fm"
   ]
  },
  {
   "cell_type": "markdown",
   "id": "ab570851",
   "metadata": {},
   "source": [
    "### What's inside fastcore.meta"
   ]
  },
  {
   "cell_type": "code",
   "execution_count": null,
   "id": "1cb633b1",
   "metadata": {},
   "outputs": [
    {
     "name": "stdout",
     "output_type": "stream",
     "text": [
      "fastcore.meta has: \n",
      "13 items in its __all__, and \n",
      "43 user defined functions, \n",
      "19 classes or class objects, \n",
      "2 builtin funcs and methods, and\n",
      "74 callables.\n",
      "\n",
      "test_sig:            function    Test the signature of an object\n",
      "FixSigMeta:          metaclass, type    A metaclass that fixes the signature on classes that override `__new__`\n",
      "PrePostInitMeta:     metaclass, type    A metaclass that calls optional `__pre_init__` and `__post_init__` methods\n",
      "AutoInit:            class, PrePostInitMeta    Same as `object`, but no need for subclasses to call `super().__init__`\n",
      "NewChkMeta:          metaclass, type    Metaclass to avoid recreating object passed to constructor\n",
      "BypassNewMeta:       metaclass, type    Metaclass: casts `x` to this class if it's of type `cls._bypass_type`\n",
      "empty2none:          function    Replace `Parameter.empty` with `None`\n",
      "anno_dict:           function    `__annotation__ dictionary with `empty` cast to `None`, returning empty if doesn't exist\n",
      "use_kwargs_dict:     decorator, function    Decorator: replace `**kwargs` in signature with `names` params\n",
      "use_kwargs:          decorator, function    Decorator: replace `**kwargs` in signature with `names` params\n",
      "delegates:           decorator, function    Decorator: replace `**kwargs` in signature with params from `to`\n",
      "method:              function    Mark `f` as a method\n",
      "funcs_kwargs:        decorator, function    Replace methods in `cls._methods` with those from `kwargs`\n"
     ]
    }
   ],
   "source": [
    "whatinside(fm, dun=True)"
   ]
  },
  {
   "cell_type": "markdown",
   "id": "c183a978",
   "metadata": {},
   "source": [
    "## Review individual funcs and classes"
   ]
  },
  {
   "cell_type": "markdown",
   "id": "0a6f3465",
   "metadata": {},
   "source": [
    "### What is fastcore.meta all about? \n",
    "\n",
    "It is a submodule contains 4 metaclasses, 1 class built by a metaclass, 4 decorators and a few functions.    \n",
    "\n",
    "Metaclasses give us the power to create new breeds of classes with new features.     \n",
    "\n",
    "Decorators give us the power to add new features to existing funcions.    \n",
    "\n",
    "We can find their basic info [above](#What's-inside-fastcore.meta)"
   ]
  },
  {
   "cell_type": "markdown",
   "id": "6af82a7d",
   "metadata": {},
   "source": [
    "### What can these metaclasses do for me?"
   ]
  },
  {
   "cell_type": "markdown",
   "id": "c680f5e6",
   "metadata": {},
   "source": [
    "#### FixSigMeta\n",
    "can breed classes which are free of signature problems (or they can automatically fix signature problems)."
   ]
  },
  {
   "cell_type": "markdown",
   "id": "ed796e66",
   "metadata": {},
   "source": [
    "#### PrePostInitMeta\n",
    "inherited/evolved from `FixSigMeta` to breed classes which can initialize their objects using `__pre_init__`, \n",
    "`__init__`, `__post_init__` whichever is available (allow me to abbreviate it as triple_init)."
   ]
  },
  {
   "cell_type": "markdown",
   "id": "049b8d25",
   "metadata": {},
   "source": [
    "#### AutoInit\n",
    "is an instance class created by `PrePostInitMeta`, and together with its own defined `__pre_init__`, subclasses of `AutoInit` has to worry about running `super().__init__(...)` no more."
   ]
  },
  {
   "cell_type": "markdown",
   "id": "4a801a64",
   "metadata": {},
   "source": [
    "- As `AutoInit` is an instance class created by `PrePostInitMeta`, it can pass on both features (free of signature problem and triple_init) to its subclasses. \n",
    "- As it also defines its own `__pre_init__` function which calls its superclass `__init__` function, its subclasses will inherit this `__pre_init__` function too.\n",
    "- When subclasses of `AutoInit` create and initialize object intances through `__call__` from `PrePostInitMeta`, `AutoInit`'s `__pre_init__` runs `super().__init__(...)`, so when we write `__init__` function of subclasses which inherits from `AutoInit`, we don't need to write `super().__init__(...)` any more."
   ]
  },
  {
   "cell_type": "markdown",
   "id": "85df1bda",
   "metadata": {},
   "source": [
    "#### NewChkMeta"
   ]
  },
  {
   "cell_type": "markdown",
   "id": "15fda793",
   "metadata": {},
   "source": [
    "is inherited from `FixSigMeta`, so any instance classes created by `NewChkMeta` can also pass on the no_signature_problem feature.\n",
    "\n",
    "It defines its own `__call__` to enable all the instance objects e.g., `t` created by all the instance classes e.g., `T` created by `NewChkMeta` to do the following: \n",
    "\n",
    "- `T(t) == t if isinstance(t, T)` returns true\n",
    "- when `T(t) == t if not isinstance(t, T)`, or when `T(t, 1) == t if isinstance(t, T)` or when `T(t, b=1) == t if isinstance(t, T)`, all return False\n",
    "\n",
    "In other words, `NewChkMeta` creates a new breed of classes which won't recreate the same instance object twice."
   ]
  },
  {
   "cell_type": "code",
   "execution_count": null,
   "id": "4b4d5d00",
   "metadata": {},
   "outputs": [
    {
     "name": "stdout",
     "output_type": "stream",
     "text": [
      "\n",
      "def low(a, b:int=1): pass\n",
      "@delegates(low)\n",
      "def mid(c, d:list=None, **kwargs): pass\n",
      "pprint(inspect.signature(mid)) # pprint and inspect is loaded from fastdebug\n",
      "\n",
      "def delegates(to:FunctionType=None, # Delegatee===========================================(0) # \u001b[91;1mhow to make delegates(to) to have to as FunctionType and default as None\u001b[0m; \n",
      "              keep=False, # Keep `kwargs` in decorated function?==========================(1)       \n",
      "              but:list=None): # Exclude these parameters from signature===================(2) # \u001b[92;1mhow to make delegates(to, but) to have 'but' as list and default as None\u001b[0m; \n",
      "    \"Decorator: replace `**kwargs` in signature with params from `to`\"====================(3)       \n",
      "    if but is None: but = []==============================================================(4)       \n",
      "    def _f(f):============================================================================(5)       \n",
      "        if to is None: to_f,from_f = f.__base__.__init__,f.__init__=======================(6) # \u001b[93;1mhow to write 2 ifs and elses in 2 lines\u001b[0m; \n",
      "        else:          to_f,from_f = to.__init__ if isinstance(to,type) else to,f=========(7) # \u001b[34;1mhow to assign a,b together with if and else\u001b[0m; \n",
      "        from_f = getattr(from_f,'__func__',from_f)========================================(8) # \u001b[36;1mIs classmethod callable\u001b[0m; \u001b[92;1mdoes classmethod has __func__\u001b[0m; \u001b[37;1mcan we do inspect.signature(clsmethod)\u001b[0m; \u001b[36;1mhow to use getattr(obj, attr, default)\u001b[0m; \n",
      "        to_f = getattr(to_f,'__func__',to_f)==============================================(9)       \n",
      "        if hasattr(from_f,'__delwrap__'): return f========================================(10) # \u001b[37;1mif B has __delwrap__, can we do delegates(A)(B) again?\u001b[0m; \u001b[91;1mhasattr(obj, '__delwrap__')\u001b[0m; \n",
      "        sig = inspect.signature(from_f)===================================================(11) # \u001b[37;1mhow to get signature obj of B\u001b[0m; \u001b[36;1mwhat does a signature look like\u001b[0m; \u001b[34;1mwhat is the type\u001b[0m; \n",
      "        sigd = dict(sig.parameters)=======================================================(12) # \u001b[37;1mHow to access parameters of a signature?\u001b[0m; \u001b[37;1mHow to turn parameters into a dict?\u001b[0m; \n",
      "        k = sigd.pop('kwargs')============================================================(13) # \u001b[93;1mHow to remove an item from a dict?\u001b[0m; \u001b[91;1mHow to get the removed item from a dict?\u001b[0m; \u001b[34;1mHow to add the removed item back to the dict?\u001b[0m; \u001b[37;1mwhen writing expressions, as they share environment, so they may affect the following code\u001b[0m; \n",
      "        s2 = {k:v.replace(kind=inspect.Parameter.KEYWORD_ONLY) for k,v in inspect.signature(to_f).parameters.items() # \u001b[34;1mHow to access a signature's parameters as a dict?\u001b[0m; \u001b[37;1mHow to replace the kind of a parameter with a different kind?\u001b[0m; \u001b[35;1mhow to check whether a parameter has a default value?\u001b[0m; \u001b[35;1mHow to check whether a string is in a dict and a list?\u001b[0m; \u001b[37;1mhow dict.items() and dict.values() differ\u001b[0m;  (14)\n",
      "              if v.default != inspect.Parameter.empty and k not in sigd and k not in but}=(15)      \n",
      "        anno = {k:v for k,v in getattr(to_f, \"__annotations__\", {}).items() if k not in sigd and k not in but} # \u001b[37;1mHow to get A's __annotations__?\u001b[0m; \u001b[35;1mHow to access it as a dict?\u001b[0m; \u001b[36;1mHow to select annotations of the right params with names?\u001b[0m; \u001b[92;1mHow to put them into a dict?\u001b[0m; \u001b[93;1mHow to do it all in a single line\u001b[0m;  (16)\n",
      "        sigd.update(s2)===================================================================(17) # \u001b[35;1mHow to add the selected params from A's signature to B's signature\u001b[0m; \u001b[37;1mHow to add items into a dict;\u001b[0m; \n",
      "        if keep: sigd['kwargs'] = k=======================================================(18) # \u001b[92;1mHow to add a new item into a dict;\u001b[0m; \n",
      "        else: from_f.__delwrap__ = to_f===================================================(19) # \u001b[91;1mHow to create a new attr for a function or obj;\u001b[0m; \n",
      "        from_f.__signature__ = sig.replace(parameters=sigd.values())======================(20) # \u001b[35;1mHow to update a signature with a new set of parameters;\u001b[0m; \n",
      "        if hasattr(from_f, '__annotations__'): from_f.__annotations__.update(anno)========(21) # \u001b[92;1mHow to check whether a func has __annotations__\u001b[0m; \u001b[37;1mHow add selected params' annotations from A to B's annotations;\u001b[0m; \n",
      "        return f==========================================================================(22)      \n",
      "    return _f=============================================================================(23)      \n",
      "                                                                                                                                                        (24)\n"
     ]
    }
   ],
   "source": [
    "fastview(delegates)"
   ]
  },
  {
   "cell_type": "code",
   "execution_count": null,
   "id": "46699ca4",
   "metadata": {},
   "outputs": [
    {
     "name": "stdout",
     "output_type": "stream",
     "text": [
      "test_sig.py\n",
      "BypassNewMeta.py\n",
      "snoop.py\n",
      "FixSigMeta.py\n",
      "funcs_kwargs.py\n",
      "NewChkMeta.py\n",
      "printtitle.py\n",
      "AutoInit.py\n",
      "method.py\n",
      "_rm_self.py\n",
      "delegates.py\n",
      "create_explore_str.py\n",
      "PrePostInitMeta.py\n",
      "_funcs_kwargs.py\n",
      "whatinside.py\n"
     ]
    }
   ],
   "source": [
    "fastlist()"
   ]
  },
  {
   "cell_type": "code",
   "execution_count": null,
   "id": "d3501e30",
   "metadata": {},
   "outputs": [
    {
     "name": "stdout",
     "output_type": "stream",
     "text": [
      "\n",
      "class BaseMeta(FixSigMeta): \n",
      "    # using __new__ of  FixSigMeta instead of type\n",
      "    def __call__(cls, *args, **kwargs): pass\n",
      "\n",
      "class Foo_call_fix(metaclass=BaseMeta): # Base\n",
      "    def __init__(self, d, e, f): pass\n",
      "\n",
      "pprint(inspect._signature_from_callable(Foo_call_fix, sigcls=inspect.Signature))    \n",
      "\n",
      "class FixSigMeta(type):===================================================================(0)       \n",
      "    \"A metaclass that fixes the signature on classes that override `__new__`\"=============(1) # \u001b[36;1mAny class having FixSigMeta as metaclass will have its own __init__ func stored in its attr __signature__;FixSigMeta uses its __new__ to create a class instance\u001b[0m; \u001b[93;1mthen check whether its class instance has its own __init__;if so, remove self from the sig of __init__\u001b[0m; \u001b[36;1mthen assign this new sig to __signature__ for the class instance;\u001b[0m; \n",
      "    def __new__(cls, name, bases, dict):==================================================(2) # \u001b[35;1mhow does a metaclass create a class instance\u001b[0m; \u001b[34;1mwhat does super().__new__() do here;\u001b[0m; \n",
      "        res = super().__new__(cls, name, bases, dict)=====================================(3)       \n",
      "        if res.__init__ is not object.__init__: res.__signature__ = _rm_self(inspect.signature(res.__init__)) # \u001b[91;1mhow to remove self from a signature\u001b[0m; \u001b[35;1mhow to check whether a class' __init__ is inherited from object or not;\u001b[0m;  (4)\n",
      "        return res========================================================================(5)       \n",
      "                                                                                                                                                        (6)\n"
     ]
    }
   ],
   "source": [
    "fastview(FixSigMeta)"
   ]
  },
  {
   "cell_type": "code",
   "execution_count": null,
   "id": "2a2a6a16",
   "metadata": {},
   "outputs": [
    {
     "name": "stdout",
     "output_type": "stream",
     "text": [
      "Found a line: ========>\n",
      "        s2 = {k:v.replace(kind=inspect.Parameter.KEYWORD_ONLY) for k,v in inspect.signature(to_f).parameters.items() # \u001b[34;1mHow to access a signature's parameters as a dict?\u001b[0m; \u001b[37;1mHow to replace the kind of a parameter with a different kind?\u001b[0m; \u001b[35;1mhow to check whether a parameter has a default value?\u001b[0m; \u001b[35;1mHow to check whether a string is in a dict and a list?\u001b[0m; \u001b[37;1mhow dict.items() and dict.values() differ\u001b[0m;  (14)\n",
      "\n",
      "The source where the line is from ==========>\n",
      "\n",
      "def low(a, b:int=1): pass\n",
      "@delegates(low)\n",
      "def mid(c, d:list=None, **kwargs): pass\n",
      "pprint(inspect.signature(mid)) # pprint and inspect is loaded from fastdebug\n",
      "\n",
      "def delegates(to:FunctionType=None, # Delegatee===========================================(0) # \u001b[91;1mhow to make delegates(to) to have to as FunctionType and default as None\u001b[0m; \n",
      "              keep=False, # Keep `kwargs` in decorated function?==========================(1)       \n",
      "              but:list=None): # Exclude these parameters from signature===================(2) # \u001b[92;1mhow to make delegates(to, but) to have 'but' as list and default as None\u001b[0m; \n",
      "    \"Decorator: replace `**kwargs` in signature with params from `to`\"====================(3)       \n",
      "    if but is None: but = []==============================================================(4)       \n",
      "    def _f(f):============================================================================(5)       \n",
      "        if to is None: to_f,from_f = f.__base__.__init__,f.__init__=======================(6) # \u001b[93;1mhow to write 2 ifs and elses in 2 lines\u001b[0m; \n",
      "        else:          to_f,from_f = to.__init__ if isinstance(to,type) else to,f=========(7) # \u001b[34;1mhow to assign a,b together with if and else\u001b[0m; \n",
      "        from_f = getattr(from_f,'__func__',from_f)========================================(8) # \u001b[36;1mIs classmethod callable\u001b[0m; \u001b[92;1mdoes classmethod has __func__\u001b[0m; \u001b[37;1mcan we do inspect.signature(clsmethod)\u001b[0m; \u001b[36;1mhow to use getattr(obj, attr, default)\u001b[0m; \n",
      "        to_f = getattr(to_f,'__func__',to_f)==============================================(9)       \n",
      "        if hasattr(from_f,'__delwrap__'): return f========================================(10) # \u001b[37;1mif B has __delwrap__, can we do delegates(A)(B) again?\u001b[0m; \u001b[91;1mhasattr(obj, '__delwrap__')\u001b[0m; \n",
      "        sig = inspect.signature(from_f)===================================================(11) # \u001b[37;1mhow to get signature obj of B\u001b[0m; \u001b[36;1mwhat does a signature look like\u001b[0m; \u001b[34;1mwhat is the type\u001b[0m; \n",
      "        sigd = dict(sig.parameters)=======================================================(12) # \u001b[37;1mHow to access parameters of a signature?\u001b[0m; \u001b[37;1mHow to turn parameters into a dict?\u001b[0m; \n",
      "        k = sigd.pop('kwargs')============================================================(13) # \u001b[93;1mHow to remove an item from a dict?\u001b[0m; \u001b[91;1mHow to get the removed item from a dict?\u001b[0m; \u001b[34;1mHow to add the removed item back to the dict?\u001b[0m; \u001b[37;1mwhen writing expressions, as they share environment, so they may affect the following code\u001b[0m; \n",
      "        s2 = {k:v.replace(kind=inspect.Parameter.KEYWORD_ONLY) for k,v in inspect.signature(to_f).parameters.items() # \u001b[34;1mHow to access a signature's parameters as a dict?\u001b[0m; \u001b[37;1mHow to replace the kind of a parameter with a different kind?\u001b[0m; \u001b[35;1mhow to check whether a parameter has a default value?\u001b[0m; \u001b[35;1mHow to check whether a string is in a dict and a list?\u001b[0m; \u001b[37;1mhow dict.items() and dict.values() differ\u001b[0m;  (14)\n",
      "              if v.default != inspect.Parameter.empty and k not in sigd and k not in but}=(15)      \n",
      "        anno = {k:v for k,v in getattr(to_f, \"__annotations__\", {}).items() if k not in sigd and k not in but} # \u001b[37;1mHow to get A's __annotations__?\u001b[0m; \u001b[35;1mHow to access it as a dict?\u001b[0m; \u001b[36;1mHow to select annotations of the right params with names?\u001b[0m; \u001b[92;1mHow to put them into a dict?\u001b[0m; \u001b[93;1mHow to do it all in a single line\u001b[0m;  (16)\n",
      "        sigd.update(s2)===================================================================(17) # \u001b[35;1mHow to add the selected params from A's signature to B's signature\u001b[0m; \u001b[37;1mHow to add items into a dict;\u001b[0m; \n",
      "        if keep: sigd['kwargs'] = k=======================================================(18) # \u001b[92;1mHow to add a new item into a dict;\u001b[0m; \n",
      "        else: from_f.__delwrap__ = to_f===================================================(19) # \u001b[91;1mHow to create a new attr for a function or obj;\u001b[0m; \n",
      "        from_f.__signature__ = sig.replace(parameters=sigd.values())======================(20) # \u001b[35;1mHow to update a signature with a new set of parameters;\u001b[0m; \n",
      "        if hasattr(from_f, '__annotations__'): from_f.__annotations__.update(anno)========(21) # \u001b[92;1mHow to check whether a func has __annotations__\u001b[0m; \u001b[37;1mHow add selected params' annotations from A to B's annotations;\u001b[0m; \n",
      "        return f==========================================================================(22)      \n",
      "    return _f=============================================================================(23)      \n",
      "                                                                                                                                                        (24)\n",
      "\n"
     ]
    },
    {
     "data": {
      "text/markdown": [
       "[Open `delegates` in Jupyter Notebook](http://localhost:8888/tree/nbs/demos/0001_fastcore_meta_delegates.ipynb)"
      ],
      "text/plain": [
       "<IPython.core.display.Markdown object>"
      ]
     },
     "metadata": {},
     "output_type": "display_data"
    }
   ],
   "source": [
    "fastsearch(\"how to get signature's parameters\", nb=True)"
   ]
  },
  {
   "cell_type": "markdown",
   "id": "6e57ca0b",
   "metadata": {},
   "source": [
    "## What is fastcore.meta all about"
   ]
  },
  {
   "cell_type": "code",
   "execution_count": null,
   "id": "031defc0",
   "metadata": {},
   "outputs": [],
   "source": []
  },
  {
   "cell_type": "code",
   "execution_count": null,
   "id": "d3e6beb5",
   "metadata": {},
   "outputs": [],
   "source": []
  },
  {
   "cell_type": "code",
   "execution_count": null,
   "id": "51ea006b",
   "metadata": {},
   "outputs": [],
   "source": []
  },
  {
   "cell_type": "code",
   "execution_count": null,
   "id": "3bfae24c",
   "metadata": {},
   "outputs": [],
   "source": []
  }
 ],
 "metadata": {
  "kernelspec": {
   "display_name": "Python 3 (ipykernel)",
   "language": "python",
   "name": "python3"
  }
 },
 "nbformat": 4,
 "nbformat_minor": 5
}
