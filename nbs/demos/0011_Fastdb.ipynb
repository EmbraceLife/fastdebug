{
 "cells": [
  {
   "cell_type": "markdown",
   "id": "a51cb1d9",
   "metadata": {},
   "source": [
    "# 0011_Fastdb"
   ]
  },
  {
   "cell_type": "code",
   "execution_count": null,
   "id": "b89bd978",
   "metadata": {},
   "outputs": [
    {
     "data": {
      "text/html": [
       "<style>.container { width:100% !important; }</style>"
      ],
      "text/plain": [
       "<IPython.core.display.HTML object>"
      ]
     },
     "metadata": {},
     "output_type": "display_data"
    }
   ],
   "source": [
    "from fastdebug.utils import *\n",
    "from fastdebug.core import *"
   ]
  },
  {
   "cell_type": "code",
   "execution_count": null,
   "id": "bf5b4fb0",
   "metadata": {},
   "outputs": [],
   "source": [
    "fdb = Fastdb(Fastdb.printtitle)"
   ]
  },
  {
   "cell_type": "code",
   "execution_count": null,
   "id": "4af6783b",
   "metadata": {},
   "outputs": [
    {
     "name": "stdout",
     "output_type": "stream",
     "text": [
      "========================================================     Investigating \u001b[91;1mprinttitle\u001b[0m     ========================================================\n",
      "===============================================================     on line \u001b[91;1m5\u001b[0m     ================================================================\n",
      "=============================================================     with example \u001b[91;1m\u001b[0m     ==============================================================\n",
      "\n",
      "\u001b[93;1mprint selected srcline with expands below\u001b[0m--------\n",
      "    if 'self.dbsrc' not in self.eg:                                                                                                                     (3)\n",
      "        self.orieg = self.eg  # make sure self.orieg has no self inside                                                                                 (4)\n",
      "    print('{:=^157}'.format(f\"     Investigating {colorize(self.orisrc.__name__, color='r')}     \")) ===================================================(5)\n",
      "                                                                                \u001b[91;1mhow to use :=<, :=>, :=^ with format to align text to left, right, and middle\u001b[0m\n",
      "    print('{:=^157}'.format(f\"     on line {colorize(str(self.idxsrc), color='r')}     \"))                                                              (6)\n",
      "    print('{:=^157}'.format(f\"     with example {colorize(self.orieg, color='r')}     \"))                                                               (7)\n",
      "========================================================     Investigating \u001b[91;1mprinttitle\u001b[0m     ========================================================\n",
      "===============================================================     on line \u001b[91;1m5\u001b[0m     ================================================================\n",
      "=============================================================     with example \u001b[91;1m\u001b[0m     ==============================================================\n",
      "\n",
      "@patch====================================================================================(0)       \n",
      "def printtitle(self:Fastdb):==============================================================(1)       \n",
      "                                                                                                                                                        (2)\n",
      "    if 'self.dbsrc' not in self.eg:=======================================================(3)       \n",
      "        self.orieg = self.eg  # make sure self.orieg has no self inside===================(4)       \n",
      "    print('{:=^157}'.format(f\"     Investigating {colorize(self.orisrc.__name__, color='r')}     \"))  # \u001b[35;1mhow to use :=<, :=>, :=^ with format to align text to left, right, and middle\u001b[0m;  (5)\n",
      "    print('{:=^157}'.format(f\"     on line {colorize(str(self.idxsrc), color='r')}     \"))                                                              (6)\n",
      "    print('{:=^157}'.format(f\"     with example {colorize(self.orieg, color='r')}     \"))                                                               (7)\n",
      "    print()===============================================================================(8)       \n",
      "                                                                                                                                                        (9)\n"
     ]
    }
   ],
   "source": [
    "fdb.docsrc(5, \"how to use :=<, :=>, :=^ with format to align text to left, right, and middle\")\n",
    "fdb.print()"
   ]
  },
  {
   "cell_type": "code",
   "execution_count": null,
   "id": "ca6e7046",
   "metadata": {},
   "outputs": [],
   "source": [
    "fdb = Fastdb(Fastdb.snoop)"
   ]
  },
  {
   "cell_type": "code",
   "execution_count": null,
   "id": "e3fb4618",
   "metadata": {},
   "outputs": [
    {
     "name": "stdout",
     "output_type": "stream",
     "text": [
      "==========================================================     Investigating \u001b[91;1msnoop\u001b[0m     ===========================================================\n",
      "==============================================================     on line \u001b[91;1mNone\u001b[0m     ==============================================================\n",
      "=============================================================     with example \u001b[91;1m\u001b[0m     ==============================================================\n",
      "\n",
      "def create_snoop_from_string(self:Fastdb, db=False):======================================(0)       \n",
      "    # learn about /tmp folder https://www.fosslinux.com/41739/linux-tmp-directory-everything-you-need-to-know.htm                                       (1)\n",
      "    file_name ='/tmp/' + self.orisrc.__name__ + '.py' ====================================(2)       \n",
      "    with open(file_name, 'w') as f:=======================================================(3)       \n",
      "        f.write(self.dbsrcstr)============================================================(4)       \n",
      "    code = compile(self.dbsrcstr, file_name, 'exec')======================================(5)       \n",
      "#             exec(dbsrc, locals(), self.egEnv)                ===========================(6)       \n",
      "#     exec(code, globals().update(self.outenv), locals()) # when dbsrc is a method, it will update as part of a class                                   (7)\n",
      "    exec(code, globals().update(self.outenv)) # when dbsrc is a method, it will update as part of a class                                               (8)\n",
      "    # store dbsrc func inside Fastdb obj==================================================(9)       \n",
      "    self.dbsrc = locals()[self.orisrc.__name__]===========================================(10)      \n",
      "                                                                                                                                                        (11)\n"
     ]
    }
   ],
   "source": [
    "fdb.print()"
   ]
  },
  {
   "cell_type": "code",
   "execution_count": null,
   "id": "7cf2cc0b",
   "metadata": {},
   "outputs": [],
   "source": [
    "fdb = Fastdb(Fastdb.create_explore_str)"
   ]
  },
  {
   "cell_type": "code",
   "execution_count": null,
   "id": "4a444a87",
   "metadata": {},
   "outputs": [
    {
     "name": "stdout",
     "output_type": "stream",
     "text": [
      "====================================================     Investigating \u001b[91;1mcreate_explore_str\u001b[0m     ====================================================\n",
      "==============================================================     on line \u001b[91;1mNone\u001b[0m     ==============================================================\n",
      "=============================================================     with example \u001b[91;1m\u001b[0m     ==============================================================\n",
      "\n",
      "@patch====================================================================================(0)       \n",
      "def create_explore_str(self:Fastdb):======================================================(1)       \n",
      "    dbsrc = \"\"============================================================================(2)       \n",
      "    indent = 4============================================================================(3)       \n",
      "                                                                                                                                                        (4)\n",
      "    lst = inspect.getsource(self.orisrc).split('\\n')======================================(5)       \n",
      "    if not bool(lst[-1]): lst = lst[:-1]==================================================(6)       \n",
      "                                                                                                                                                        (7)\n",
      "    srclines = None=======================================================================(8)       \n",
      "    idxlst = None=========================================================================(9)       \n",
      "    if type(self.idxsrc) == int:==========================================================(10)      \n",
      "        srclines = lst[self.idxsrc]=======================================================(11)      \n",
      "    elif type(self.idxsrc) == list:=======================================================(12)      \n",
      "        idxlst = self.idxsrc==============================================================(13)      \n",
      "    else:=================================================================================(14)      \n",
      "        raise TypeError(\"decode must be an integer or a list.\")===========================(15)      \n",
      "                                                                                                                                                        (16)\n",
      "    for idx, l in zip(range(len(lst)), lst):==============================================(17)      \n",
      "                                                                                                                                                        (18)\n",
      "        if bool(l.strip()) and type(self.idxsrc) == int and idx == self.idxsrc:===========(19)      \n",
      "            numindent = len(l) - len(l.lstrip()) =========================================(20)      \n",
      "            dbcodes = \"import ipdb; ipdb.set_trace()\"=====================================(21)      \n",
      "            dbsrc = dbsrc + \" \"*numindent + dbcodes + '\\n'================================(22)      \n",
      "            dbsrc = dbsrc + l + '\\n'     =================================================(23)      \n",
      "        elif type(self.idxsrc) == list and idx in idxlst:=================================(24)      \n",
      "            numindent = len(l) - len(l.lstrip()) =========================================(25)      \n",
      "            dbcodes = \"import ipdb; ipdb.set_trace()\"=====================================(26)      \n",
      "            dbsrc = dbsrc + \" \"*numindent + dbcodes + '\\n'================================(27)      \n",
      "            dbsrc = dbsrc + l + '\\n'  ====================================================(28)      \n",
      "            idxlst.remove(idx)============================================================(29)      \n",
      "        elif bool(l.strip()) and idx + 1 == len(lst):=====================================(30)      \n",
      "            dbsrc = dbsrc + l=============================================================(31)      \n",
      "        else: # make sure this printout is identical to the printsrc output===============(32)      \n",
      "            dbsrc = dbsrc + l + '\\n'======================================================(33)      \n",
      "                                                                                                                                                        (34)\n",
      "    self.dbsrcstr = dbsrc=================================================================(35)      \n",
      "                                                                                                                                                        (36)\n"
     ]
    }
   ],
   "source": [
    "fdb.print()"
   ]
  },
  {
   "cell_type": "code",
   "execution_count": null,
   "id": "e5b2904b",
   "metadata": {},
   "outputs": [
    {
     "name": "stdout",
     "output_type": "stream",
     "text": [
      "@patch====================================================================================(0)       \n",
      "def printtitle(self:Fastdb):==============================================================(1)       \n",
      "                                                                                                                                                        (2)\n",
      "    if 'self.dbsrc' not in self.eg:=======================================================(3)       \n",
      "        self.orieg = self.eg  # make sure self.orieg has no self inside===================(4)       \n",
      "    print('{:=^157}'.format(f\"     Investigating {colorize(self.orisrc.__name__, color='r')}     \"))  # \u001b[93;1mhow to use :=<, :=>, :=^ with format to align text to left, right, and middle\u001b[0m;  (5)\n",
      "    print('{:=^157}'.format(f\"     on line {colorize(str(self.idxsrc), color='r')}     \"))                                                              (6)\n",
      "    print('{:=^157}'.format(f\"     with example {colorize(self.orieg, color='r')}     \"))                                                               (7)\n",
      "    print()===============================================================================(8)       \n",
      "                                                                                                                                                        (9)\n"
     ]
    }
   ],
   "source": [
    "fastview(Fastdb.printtitle)"
   ]
  },
  {
   "cell_type": "code",
   "execution_count": null,
   "id": "a5e2c98e",
   "metadata": {},
   "outputs": [],
   "source": []
  }
 ],
 "metadata": {
  "kernelspec": {
   "display_name": "Python 3 (ipykernel)",
   "language": "python",
   "name": "python3"
  }
 },
 "nbformat": 4,
 "nbformat_minor": 5
}
