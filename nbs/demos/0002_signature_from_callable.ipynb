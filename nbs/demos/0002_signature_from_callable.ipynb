{
 "cells": [
  {
   "cell_type": "markdown",
   "id": "5b8293eb",
   "metadata": {},
   "source": [
    "# 0002_signature_from_callable"
   ]
  },
  {
   "cell_type": "markdown",
   "id": "8ac851a3",
   "metadata": {},
   "source": [
    "## Expand cell"
   ]
  },
  {
   "cell_type": "code",
   "execution_count": null,
   "id": "9029dccb-9cad-45a9-b4e1-0b445bf7eb3d",
   "metadata": {},
   "outputs": [],
   "source": [
    "# from IPython.core.display import display, HTML # a depreciated import\n",
    "from IPython.display import display, HTML "
   ]
  },
  {
   "cell_type": "code",
   "execution_count": null,
   "id": "9b940390-ce64-471d-9ccc-811cb1589912",
   "metadata": {},
   "outputs": [
    {
     "data": {
      "text/html": [
       "<style>.container { width:100% !important; }</style>"
      ],
      "text/plain": [
       "<IPython.core.display.HTML object>"
      ]
     },
     "metadata": {},
     "output_type": "display_data"
    }
   ],
   "source": [
    "display(HTML(\"<style>.container { width:100% !important; }</style>\"))"
   ]
  },
  {
   "cell_type": "markdown",
   "id": "4ff636e1",
   "metadata": {},
   "source": [
    "## Imports and initiate"
   ]
  },
  {
   "cell_type": "code",
   "execution_count": null,
   "id": "5720a98e",
   "metadata": {},
   "outputs": [],
   "source": [
    "from fastdebug.core import *\n",
    "from fastcore.meta import *"
   ]
  },
  {
   "cell_type": "code",
   "execution_count": null,
   "id": "0c2355e3",
   "metadata": {},
   "outputs": [],
   "source": [
    "g = locals()\n",
    "fdb = Fastdb(inspect._signature_from_callable, outloc=g)\n",
    "fdbF = Fastdb(FixSigMeta, outloc=g)"
   ]
  },
  {
   "cell_type": "markdown",
   "id": "c695dbfc",
   "metadata": {},
   "source": [
    "## Examples"
   ]
  },
  {
   "cell_type": "code",
   "execution_count": null,
   "id": "92b88ef6",
   "metadata": {},
   "outputs": [
    {
     "data": {
      "text/html": [
       "<style>.container { width:100% !important; }</style>"
      ],
      "text/plain": [
       "<IPython.core.display.HTML object>"
      ]
     },
     "metadata": {},
     "output_type": "display_data"
    }
   ],
   "source": [
    "from fastdebug.utils import whatinside"
   ]
  },
  {
   "cell_type": "code",
   "execution_count": null,
   "id": "c64c0ba4",
   "metadata": {},
   "outputs": [
    {
     "data": {
      "text/plain": [
       "<Signature (mo, dun: bool = False, func: bool = False, clas: bool = False, bltin: bool = False, lib: bool = False, cal: bool = False)>"
      ]
     },
     "execution_count": null,
     "metadata": {},
     "output_type": "execute_result"
    }
   ],
   "source": [
    "inspect._signature_from_callable(whatinside, sigcls=inspect.Signature)"
   ]
  },
  {
   "cell_type": "code",
   "execution_count": null,
   "id": "5c6c31bb",
   "metadata": {},
   "outputs": [],
   "source": [
    "fdb.eg = \"inspect._signature_from_callable(whatinside, sigcls=inspect.Signature)\"\n",
    "\n",
    "fdb.eg = \"\"\"\n",
    "class Base: # pass\n",
    "    def __new__(self, **args): pass  # defines a __new__ \n",
    "\n",
    "class Foo_new(Base):\n",
    "    def __init__(self, d, e, f): pass\n",
    "    \n",
    "pprint(inspect._signature_from_callable(Foo_new, sigcls=inspect.Signature))\n",
    "\"\"\"\n",
    "fdb.eg = \"\"\"\n",
    "class Base: # pass\n",
    "    def __new__(self, **args): pass  # defines a __new__ \n",
    "\n",
    "class Foo_new_fix(Base, metaclass=FixSigMeta):\n",
    "    def __init__(self, d, e, f): pass\n",
    "    \n",
    "pprint(inspect._signature_from_callable(Foo_new_fix, sigcls=inspect.Signature))\n",
    "\"\"\"\n",
    "\n",
    "fdb.eg = \"\"\"\n",
    "class BaseMeta(type): \n",
    "    # using __new__ from type\n",
    "    def __call__(cls, *args, **kwargs): pass\n",
    "class Foo_call(metaclass=BaseMeta): \n",
    "    def __init__(self, d, e, f): pass\n",
    "\n",
    "pprint(inspect._signature_from_callable(Foo_call, sigcls=inspect.Signature))\n",
    "\"\"\"\n",
    "\n",
    "fdbF.eg = \"\"\"\n",
    "class BaseMeta(FixSigMeta): \n",
    "    # using __new__ of  FixSigMeta instead of type\n",
    "    def __call__(cls, *args, **kwargs): pass\n",
    "\n",
    "class Foo_call_fix(metaclass=BaseMeta): # Base\n",
    "    def __init__(self, d, e, f): pass\n",
    "\n",
    "pprint(inspect._signature_from_callable(Foo_call_fix, sigcls=inspect.Signature))    \n",
    "\"\"\"\n",
    "\n",
    "fdb.eg = \"\"\"\n",
    "class Foo_init:\n",
    "    def __init__(self, a, b, c): pass\n",
    "\n",
    "pprint(inspect._signature_from_callable(Foo_init, sigcls=inspect.Signature))\n",
    "\"\"\""
   ]
  },
  {
   "cell_type": "code",
   "execution_count": null,
   "id": "5f9eb97e",
   "metadata": {},
   "outputs": [
    {
     "name": "stdout",
     "output_type": "stream",
     "text": [
      "========================================================     Investigating \u001b[91;1mFixSigMeta\u001b[0m     ========================================================\n",
      "===============================================================     on line \u001b[91;1m2\u001b[0m     ================================================================\n",
      "     with example \u001b[91;1m\n",
      "class BaseMeta(FixSigMeta): \n",
      "    # using __new__ of  FixSigMeta instead of type\n",
      "    def __call__(cls, *args, **kwargs): pass\n",
      "\n",
      "class Foo_call_fix(metaclass=BaseMeta): # Base\n",
      "    def __init__(self, d, e, f): pass\n",
      "\n",
      "pprint(inspect._signature_from_callable(Foo_call_fix, sigcls=inspect.Signature))    \n",
      "\u001b[0m     \n",
      "\n",
      "\u001b[93;1mprint selected srcline with expands below\u001b[0m--------\n",
      "class FixSigMeta(type):                                                                                                                                 (0)\n",
      "    \"A metaclass that fixes the signature on classes that override `__new__`\"                                                                           (1)\n",
      "    def __new__(cls, name, bases, dict):================================================================================================================(2)\n",
      "                                                                           \u001b[91;1mhow does a metaclass create a class instance; what does super().__new__() do here;\u001b[0m\n",
      "        res = super().__new__(cls, name, bases, dict)                                                                                                   (3)\n",
      "        if res.__init__ is not object.__init__: res.__signature__ = _rm_self(inspect.signature(res.__init__))                                           (4)\n",
      "\n",
      "==================================================================================================================\u001b[91;1mStart of my srcline exploration:\u001b[0m\n",
      "\n",
      "\n",
      "inspect.getdoc(super) => inspect.getdoc(super) : super() -> same as super(__class__, <first argument>)\n",
      "super(type) -> unbound super object\n",
      "super(type, obj) -> bound super object; requires isinstance(obj, type)\n",
      "super(type, type2) -> bound super object; requires issubclass(type2, type)\n",
      "Typical use to call a cooperative superclass method:\n",
      "class C(B):\n",
      "    def meth(self, arg):\n",
      "        super().meth(arg)\n",
      "This works for class methods too:\n",
      "class C(B):\n",
      "    @classmethod\n",
      "    def cmeth(cls, arg):\n",
      "        super().cmeth(arg)\n",
      "====================================================================================================================\u001b[91;1mEnd of my srcline exploration:\u001b[0m\n",
      "\n",
      "<Signature (d, e, f)>\n",
      "\n",
      "\u001b[93;1mReview srcode with all comments added so far\u001b[0m======================================================================================================\n",
      "class FixSigMeta(type):===================================================================(0)       \n",
      "    \"A metaclass that fixes the signature on classes that override `__new__`\"=============(1)       \n",
      "    def __new__(cls, name, bases, dict):==================================================(2) # \u001b[34;1mhow does a metaclass create a class instance\u001b[0m; \u001b[37;1mwhat does super().__new__() do here;\u001b[0m; \n",
      "        res = super().__new__(cls, name, bases, dict)=====================================(3)       \n",
      "        if res.__init__ is not object.__init__: res.__signature__ = _rm_self(inspect.signature(res.__init__))                                           (4)\n",
      "        return res========================================================================(5)       \n",
      "                                                                                                                                                        (6)\n",
      "                                                                                                                                     part No.1 out of 1 parts\n",
      "\n",
      "========================================================     Investigating \u001b[91;1mFixSigMeta\u001b[0m     ========================================================\n",
      "===============================================================     on line \u001b[91;1m4\u001b[0m     ================================================================\n",
      "     with example \u001b[91;1m\n",
      "class BaseMeta(FixSigMeta): \n",
      "    # using __new__ of  FixSigMeta instead of type\n",
      "    def __call__(cls, *args, **kwargs): pass\n",
      "\n",
      "class Foo_call_fix(metaclass=BaseMeta): # Base\n",
      "    def __init__(self, d, e, f): pass\n",
      "\n",
      "pprint(inspect._signature_from_callable(Foo_call_fix, sigcls=inspect.Signature))    \n",
      "\u001b[0m     \n",
      "\n",
      "\u001b[93;1mprint selected srcline with expands below\u001b[0m--------\n",
      "    def __new__(cls, name, bases, dict):                                                                                                                (2)\n",
      "        res = super().__new__(cls, name, bases, dict)                                                                                                   (3)\n",
      "        if res.__init__ is not object.__init__: res.__signature__ = _rm_self(inspect.signature(res.__init__))===========================================(4)\n",
      "                                                 \u001b[91;1mhow to remove self from a signature; how to check whether a class' __init__ is inherited from object or not;\u001b[0m\n",
      "        return res                                                                                                                                      (5)\n",
      "                                                                                                                                                        (6)\n",
      "\n",
      "==================================================================================================================\u001b[91;1mStart of my srcline exploration:\u001b[0m\n",
      "\n",
      "\n",
      "                                                                                                                 res => res : <class '__main__.Foo_call_fix'>\n",
      "\n",
      "\n",
      "                                                                            res.__init__ is not object.__init__ => res.__init__ is not object.__init__ : True\n",
      "====================================================================================================================\u001b[91;1mEnd of my srcline exploration:\u001b[0m\n",
      "\n",
      "<Signature (d, e, f)>\n",
      "\n",
      "\u001b[93;1mReview srcode with all comments added so far\u001b[0m======================================================================================================\n",
      "class FixSigMeta(type):===================================================================(0)       \n",
      "    \"A metaclass that fixes the signature on classes that override `__new__`\"=============(1)       \n",
      "    def __new__(cls, name, bases, dict):==================================================(2) # \u001b[92;1mhow does a metaclass create a class instance\u001b[0m; \u001b[34;1mwhat does super().__new__() do here;\u001b[0m; \n",
      "        res = super().__new__(cls, name, bases, dict)=====================================(3)       \n",
      "        if res.__init__ is not object.__init__: res.__signature__ = _rm_self(inspect.signature(res.__init__)) # \u001b[34;1mhow to remove self from a signature\u001b[0m; \u001b[93;1mhow to check whether a class' __init__ is inherited from object or not;\u001b[0m;  (4)\n",
      "        return res========================================================================(5)       \n",
      "                                                                                                                                                        (6)\n",
      "                                                                                                                                     part No.1 out of 1 parts\n",
      "\n",
      "========================================================     Investigating \u001b[91;1mFixSigMeta\u001b[0m     ========================================================\n",
      "===============================================================     on line \u001b[91;1m1\u001b[0m     ================================================================\n",
      "     with example \u001b[91;1m\n",
      "class BaseMeta(FixSigMeta): \n",
      "    # using __new__ of  FixSigMeta instead of type\n",
      "    def __call__(cls, *args, **kwargs): pass\n",
      "\n",
      "class Foo_call_fix(metaclass=BaseMeta): # Base\n",
      "    def __init__(self, d, e, f): pass\n",
      "\n",
      "pprint(inspect._signature_from_callable(Foo_call_fix, sigcls=inspect.Signature))    \n",
      "\u001b[0m     \n",
      "\n",
      "\u001b[93;1mprint selected srcline with expands below\u001b[0m--------\n",
      "class FixSigMeta(type):                                                                                                                                 (0)\n",
      "    \"A metaclass that fixes the signature on classes that override `__new__`\"===========================================================================(1)\n",
      "\u001b[91;1mAny class having FixSigMeta as metaclass will have its own __init__ func stored in its attr __signature__;FixSigMeta uses its __new__ to create a class instance; then check whether its class instance has its own __init__;if so, remove self from the sig of __init__; then assign this new sig to __signature__ for the class instance;\u001b[0m\n",
      "    def __new__(cls, name, bases, dict):                                                                                                                (2)\n",
      "        res = super().__new__(cls, name, bases, dict)                                                                                                   (3)\n"
     ]
    }
   ],
   "source": [
    "fdbF.docsrc(2, \"how does a metaclass create a class instance; what does super().__new__() do here;\", \"inspect.getdoc(super)\")\n",
    "fdbF.docsrc(4, \"how to remove self from a signature; how to check whether a class' __init__ is inherited from object or not;\",\\\n",
    "            \"res\", \"res.__init__ is not object.__init__\")\n",
    "fdbF.docsrc(1, \"Any class having FixSigMeta as metaclass will have its own __init__ func stored in its attr __signature__;\\\n",
    "FixSigMeta uses its __new__ to create a class instance; then check whether its class instance has its own __init__;\\\n",
    "if so, remove self from the sig of __init__; then assign this new sig to __signature__ for the class instance;\")"
   ]
  },
  {
   "cell_type": "code",
   "execution_count": null,
   "id": "6ebf939f",
   "metadata": {},
   "outputs": [
    {
     "name": "stderr",
     "output_type": "stream",
     "text": [
      "23:01:29.15 >>> Call to FixSigMeta.__new__ in File \"/tmp/FixSigMeta.py\", line 5\n",
      "23:01:29.15 .......... cls = <class '__main__.BaseMeta'>\n",
      "23:01:29.15 .......... name = 'Foo_call_fix'\n",
      "23:01:29.15 .......... bases = ()\n",
      "23:01:29.15 .......... dict = {'__module__': '__main__', '__qualname__': 'Foo_call_fix', '__init__': <function Foo_call_fix.__init__>}\n",
      "23:01:29.15 .......... len(dict) = 3\n",
      "23:01:29.15 .......... __class__ = <class 'fastcore.meta.FixSigMeta'>\n",
      "23:01:29.15    5 |     def __new__(cls, name, bases, dict):\n",
      "23:01:29.15    6 |         res = super().__new__(cls, name, bases, dict)\n",
      "23:01:29.15 .............. res = <class '__main__.Foo_call_fix'>\n",
      "23:01:29.15    7 |         if res.__init__ is not object.__init__: res.__signature__ = _rm_self(inspect.signature(res.__init__))\n",
      "23:01:29.15    8 |         return res\n",
      "23:01:29.15 <<< Return value from FixSigMeta.__new__: <class '__main__.Foo_call_fix'>\n"
     ]
    },
    {
     "name": "stdout",
     "output_type": "stream",
     "text": [
      "========================================================     Investigating \u001b[91;1mFixSigMeta\u001b[0m     ========================================================\n",
      "==============================================================     on line \u001b[91;1mNone\u001b[0m     ==============================================================\n",
      "     with example \u001b[91;1m\n",
      "class BaseMeta(FixSigMeta): \n",
      "    # using __new__ of  FixSigMeta instead of type\n",
      "    def __call__(cls, *args, **kwargs): pass\n",
      "\n",
      "class Foo_call_fix(metaclass=BaseMeta): # Base\n",
      "    def __init__(self, d, e, f): pass\n",
      "\n",
      "pprint(inspect._signature_from_callable(Foo_call_fix, sigcls=inspect.Signature))    \n",
      "\u001b[0m     \n",
      "\n",
      "<Signature (d, e, f)>\n"
     ]
    }
   ],
   "source": [
    "fdbF.snoop()"
   ]
  },
  {
   "cell_type": "code",
   "execution_count": null,
   "id": "16bed6dc",
   "metadata": {},
   "outputs": [
    {
     "name": "stdout",
     "output_type": "stream",
     "text": [
      "=================================================     Investigating \u001b[91;1m_signature_from_callable\u001b[0m     =================================================\n",
      "===============================================================     on line \u001b[91;1m29\u001b[0m     ===============================================================\n",
      "     with example \u001b[91;1m\n",
      "class Foo_init:\n",
      "    def __init__(self, a, b, c): pass\n",
      "\n",
      "pprint(inspect._signature_from_callable(Foo_init, sigcls=inspect.Signature))\n",
      "\u001b[0m     \n",
      "\n",
      "\u001b[93;1mprint selected srcline with expands below\u001b[0m--------\n",
      "    # Was this function wrapped by a decorator?                                                                                                         (27)\n",
      "    if follow_wrapper_chains:                                                                                                                           (28)\n",
      "        obj = unwrap(obj, stop=(lambda f: hasattr(f, \"__signature__\")))=================================================================================(29)\n",
      "                                                                                                              \u001b[91;1mHow to check whether a class has __signature__?\u001b[0m\n",
      "        if isinstance(obj, types.MethodType):                                                                                                           (30)\n",
      "            # If the unwrapped object is a *method*, we might want to                                                                                   (31)\n",
      "\n",
      "==================================================================================================================\u001b[91;1mStart of my srcline exploration:\u001b[0m\n",
      "\n",
      "\n",
      "                                                                                       hasattr(obj, '__signature__') => hasattr(obj, '__signature__') : False\n",
      "====================================================================================================================\u001b[91;1mEnd of my srcline exploration:\u001b[0m\n",
      "\n",
      "<Signature (a, b, c)>\n",
      "\n",
      "\u001b[93;1mReview srcode with all comments added so far\u001b[0m======================================================================================================\n",
      "        sig = _get_signature_of(obj.__func__)=============================================(20)      \n",
      "                                                                                                                                                        (21)\n",
      "        if skip_bound_arg:================================================================(22)      \n",
      "            return _signature_bound_method(sig)===========================================(23)      \n",
      "        else:=============================================================================(24)      \n",
      "            return sig====================================================================(25)      \n",
      "                                                                                                                                                        (26)\n",
      "    # Was this function wrapped by a decorator?===========================================(27)      \n",
      "    if follow_wrapper_chains:=============================================================(28)      \n",
      "        obj = unwrap(obj, stop=(lambda f: hasattr(f, \"__signature__\")))===================(29) # \u001b[93;1mHow to check whether a class has __signature__?\u001b[0m; \n",
      "        if isinstance(obj, types.MethodType):=============================================(30)      \n",
      "            # If the unwrapped object is a *method*, we might want to=====================(31)      \n",
      "            # skip its first parameter (self).============================================(32)      \n",
      "            # See test_signature_wrapped_bound_method for details.========================(33)      \n",
      "            return _get_signature_of(obj)=================================================(34)      \n",
      "                                                                                                                                                        (35)\n",
      "    try:==================================================================================(36)      \n",
      "        sig = obj.__signature__===========================================================(37)      \n",
      "    except AttributeError:================================================================(38)      \n",
      "        pass==============================================================================(39)      \n",
      "                                                                                                                                    part No.2 out of 10 parts\n",
      "\n",
      "=================================================     Investigating \u001b[91;1m_signature_from_callable\u001b[0m     =================================================\n",
      "===============================================================     on line \u001b[91;1m82\u001b[0m     ===============================================================\n",
      "     with example \u001b[91;1m\n",
      "class Foo_init:\n",
      "    def __init__(self, a, b, c): pass\n",
      "\n",
      "pprint(inspect._signature_from_callable(Foo_init, sigcls=inspect.Signature))\n",
      "\u001b[0m     \n",
      "\n",
      "\u001b[93;1mprint selected srcline with expands below\u001b[0m--------\n",
      "                                        skip_bound_arg=skip_bound_arg)                                                                                  (80)\n",
      "                                                                                                                                                        (81)\n",
      "    if _signature_is_builtin(obj):======================================================================================================================(82)\n",
      "                                                                                                        \u001b[91;1mhow to check whether obj whose signature is builtins;\u001b[0m\n",
      "        return _signature_from_builtin(sigcls, obj,                                                                                                     (83)\n",
      "                                       skip_bound_arg=skip_bound_arg)                                                                                   (84)\n",
      "\n",
      "==================================================================================================================\u001b[91;1mStart of my srcline exploration:\u001b[0m\n",
      "\n",
      "\n",
      "inspect.getdoc(_signature_is_builtin) => inspect.getdoc(_signature_is_builtin) : Private helper to test if `obj` is a callable that might\n",
      "support Argument Clinic's __text_signature__ protocol.\n",
      "====================================================================================================================\u001b[91;1mEnd of my srcline exploration:\u001b[0m\n",
      "\n",
      "<Signature (a, b, c)>\n",
      "\n",
      "\u001b[93;1mReview srcode with all comments added so far\u001b[0m======================================================================================================\n",
      "                                        skip_bound_arg=skip_bound_arg)====================(80)      \n",
      "                                                                                                                                                        (81)\n",
      "    if _signature_is_builtin(obj):========================================================(82) # \u001b[91;1mhow to check whether obj whose signature is builtins;\u001b[0m; \n",
      "        return _signature_from_builtin(sigcls, obj,=======================================(83)      \n",
      "                                       skip_bound_arg=skip_bound_arg)=====================(84)      \n",
      "                                                                                                                                                        (85)\n",
      "    if isinstance(obj, functools.partial):================================================(86)      \n",
      "        wrapped_sig = _get_signature_of(obj.func)=========================================(87)      \n",
      "        return _signature_get_partial(wrapped_sig, obj)===================================(88)      \n",
      "                                                                                                                                                        (89)\n",
      "    sig = None============================================================================(90)      \n",
      "    if isinstance(obj, type):=============================================================(91)      \n",
      "        # obj is a class or a metaclass===================================================(92)      \n",
      "                                                                                                                                                        (93)\n",
      "        # First, let's see if it has an overloaded __call__ defined=======================(94)      \n",
      "        # in its metaclass================================================================(95)      \n",
      "        call = _signature_get_user_defined_method(type(obj), '__call__')==================(96)      \n",
      "        if call is not None:==============================================================(97)      \n",
      "            sig = _get_signature_of(call)=================================================(98)      \n",
      "        else:=============================================================================(99)      \n",
      "                                                                                                                                    part No.5 out of 10 parts\n",
      "\n",
      "=================================================     Investigating \u001b[91;1m_signature_from_callable\u001b[0m     =================================================\n",
      "===============================================================     on line \u001b[91;1m7\u001b[0m     ================================================================\n",
      "     with example \u001b[91;1m\n",
      "class Foo_init:\n",
      "    def __init__(self, a, b, c): pass\n",
      "\n",
      "pprint(inspect._signature_from_callable(Foo_init, sigcls=inspect.Signature))\n",
      "\u001b[0m     \n",
      "\n",
      "\u001b[93;1mprint selected srcline with expands below\u001b[0m--------\n",
      "    \"\"\"Private helper function to get signature for arbitrary                                                                                           (5)\n",
      "    callable objects.                                                                                                                                   (6)\n",
      "    \"\"\"=================================================================================================================================================(7)\n",
      "\u001b[91;1minspect.signature is calling inspect._signature_from_callable; create _get_signature_of using functools.partial to call on _signature_from_callable itself;obj is first tested for callable; then test obj for classmethod; then unwrap to the end unless obj has __signature__;if obj has __signature__, assign __signature__ to sig; then test obj for function, is true calling _signature_from_function; then test obj whose signature is builtins or not; test whether obj created by functools.partial; test obj is a class or not; if obj is a class, then check obj has its own __call__ first; then its own __new__; then its own __init__; then inherited __new__; finally inherited __init__; and then get sig from either of them by calling _get_signature_of on them; FixSigMeta assigns __init__ function to __signature__ attr for the instance class it creates; so that class with FixSigMeta as metaclass can have sig from __init__ through __signature__; no more worry about interference of sig from __call__ or __new__.\u001b[0m\n",
      "                                                                                                                                                        (8)\n",
      "    _get_signature_of = functools.partial(_signature_from_callable,                                                                                     (9)\n"
     ]
    }
   ],
   "source": [
    "fdb.docsrc(29, \"How to check whether a class has __signature__?\", \"hasattr(obj, '__signature__')\")\n",
    "fdb.docsrc(82, \"how to check whether obj whose signature is builtins;\", \"inspect.getdoc(_signature_is_builtin)\")\n",
    "fdb.docsrc(7, \"inspect.signature is calling inspect._signature_from_callable; \\\n",
    "create _get_signature_of using functools.partial to call on _signature_from_callable itself;\\\n",
    "obj is first tested for callable; then test obj for classmethod; then unwrap to the end unless obj has __signature__;\\\n",
    "if obj has __signature__, assign __signature__ to sig; then test obj for function, is true calling _signature_from_function; \\\n",
    "then test obj whose signature is builtins or not; test whether obj created by functools.partial; test obj is a class or not; \\\n",
    "if obj is a class, then check obj has its own __call__ first; then its own __new__; then its own __init__; then inherited __new__; \\\n",
    "finally inherited __init__; and then get sig from either of them by calling _get_signature_of on them; \\\n",
    "FixSigMeta assigns __init__ function to __signature__ attr for the instance class it creates; \\\n",
    "so that class with FixSigMeta as metaclass can have sig from __init__ through __signature__; \\\n",
    "no more worry about interference of sig from __call__ or __new__.\")"
   ]
  },
  {
   "cell_type": "code",
   "execution_count": null,
   "id": "523fc2d6",
   "metadata": {},
   "outputs": [
    {
     "name": "stderr",
     "output_type": "stream",
     "text": [
      "23:01:29.21 >>> Call to _signature_from_callable in File \"/tmp/_signature_from_callable.py\", line 3\n",
      "23:01:29.21 ...... obj = <class '__main__.Foo_init'>\n",
      "23:01:29.21 ...... follow_wrapper_chains = True\n",
      "23:01:29.21 ...... skip_bound_arg = True\n",
      "23:01:29.21 ...... sigcls = <class 'inspect.Signature'>\n",
      "23:01:29.21    3 | def _signature_from_callable(obj, *,\n",
      "23:01:29.21   12 |     _get_signature_of = functools.partial(_signature_from_callable,\n",
      "23:01:29.21   13 |                                 follow_wrapper_chains=follow_wrapper_chains,\n",
      "23:01:29.21   14 |                                 skip_bound_arg=skip_bound_arg,\n",
      "23:01:29.21   15 |                                 sigcls=sigcls)\n",
      "23:01:29.21   12 |     _get_signature_of = functools.partial(_signature_from_callable,\n",
      "23:01:29.21 .......... _get_signature_of = functools.partial(<function _signature_from_call...und_arg=True, sigcls=<class 'inspect.Signature'>)\n",
      "23:01:29.21   17 |     if not callable(obj):\n",
      "23:01:29.22   20 |     if isinstance(obj, types.MethodType):\n",
      "23:01:29.22   31 |     if follow_wrapper_chains:\n",
      "23:01:29.22   32 |         obj = unwrap(obj, stop=(lambda f: hasattr(f, \"__signature__\")))\n",
      "23:01:29.22   33 |         if isinstance(obj, types.MethodType):\n",
      "23:01:29.22   39 |     try:\n",
      "23:01:29.22   40 |         sig = obj.__signature__\n"
     ]
    },
    {
     "name": "stdout",
     "output_type": "stream",
     "text": [
      "=================================================     Investigating \u001b[91;1m_signature_from_callable\u001b[0m     =================================================\n",
      "==============================================================     on line \u001b[91;1mNone\u001b[0m     ==============================================================\n",
      "     with example \u001b[91;1m\n",
      "class Foo_init:\n",
      "    def __init__(self, a, b, c): pass\n",
      "\n",
      "pprint(inspect._signature_from_callable(Foo_init, sigcls=inspect.Signature))\n",
      "\u001b[0m     \n",
      "\n"
     ]
    },
    {
     "name": "stderr",
     "output_type": "stream",
     "text": [
      "23:01:29.35 !!! AttributeError: type object 'Foo_init' has no attribute '__signature__'\n",
      "23:01:29.35 !!! When getting attribute: obj.__signature__\n",
      "23:01:29.35   41 |     except AttributeError:\n",
      "23:01:29.35   42 |         pass\n",
      "23:01:29.35   51 |     try:\n",
      "23:01:29.35   52 |         partialmethod = obj._partialmethod\n",
      "23:01:29.36 !!! AttributeError: type object 'Foo_init' has no attribute '_partialmethod'\n",
      "23:01:29.36 !!! When getting attribute: obj._partialmethod\n",
      "23:01:29.36   53 |     except AttributeError:\n",
      "23:01:29.36   54 |         pass\n",
      "23:01:29.36   79 |     if isfunction(obj) or _signature_is_functionlike(obj):\n",
      "23:01:29.36   85 |     if _signature_is_builtin(obj):\n",
      "23:01:29.36   89 |     if isinstance(obj, functools.partial):\n",
      "23:01:29.36   93 |     sig = None\n",
      "23:01:29.36   94 |     if isinstance(obj, type):\n",
      "23:01:29.36   99 |         call = _signature_get_user_defined_method(type(obj), '__call__')\n",
      "23:01:29.36 .............. call = None\n",
      "23:01:29.36  100 |         if call is not None:\n",
      "23:01:29.36  103 |             factory_method = None\n",
      "23:01:29.36  104 |             new = _signature_get_user_defined_method(obj, '__new__')\n",
      "23:01:29.36 .................. new = None\n",
      "23:01:29.36  105 |             init = _signature_get_user_defined_method(obj, '__init__')\n",
      "23:01:29.36 .................. init = <function Foo_init.__init__>\n",
      "23:01:29.36  107 |             if '__new__' in obj.__dict__:\n",
      "23:01:29.36  110 |             elif '__init__' in obj.__dict__:\n",
      "23:01:29.36  111 |                 factory_method = init\n",
      "23:01:29.36 ...................... factory_method = <function Foo_init.__init__>\n",
      "23:01:29.36  118 |             if factory_method is not None:\n",
      "23:01:29.36  119 |                 sig = _get_signature_of(factory_method)\n",
      "23:01:29.36 ...................... sig = <Signature (self, a, b, c)>\n",
      "23:01:29.36  121 |         if sig is None:\n",
      "23:01:29.36  170 |     if sig is not None:\n",
      "23:01:29.36  173 |         if skip_bound_arg:\n",
      "23:01:29.36  174 |             return _signature_bound_method(sig)\n",
      "23:01:29.36 <<< Return value from _signature_from_callable: <Signature (a, b, c)>\n"
     ]
    },
    {
     "name": "stdout",
     "output_type": "stream",
     "text": [
      "<Signature (a, b, c)>\n"
     ]
    }
   ],
   "source": [
    "fdb.snoop()"
   ]
  },
  {
   "cell_type": "code",
   "execution_count": null,
   "id": "786bff5f",
   "metadata": {},
   "outputs": [
    {
     "name": "stdout",
     "output_type": "stream",
     "text": [
      "========================================================     Investigating \u001b[91;1mFixSigMeta\u001b[0m     ========================================================\n",
      "==============================================================     on line \u001b[91;1mNone\u001b[0m     ==============================================================\n",
      "     with example \u001b[91;1m\n",
      "class BaseMeta(FixSigMeta): \n",
      "    # using __new__ of  FixSigMeta instead of type\n",
      "    def __call__(cls, *args, **kwargs): pass\n",
      "\n",
      "class Foo_call_fix(metaclass=BaseMeta): # Base\n",
      "    def __init__(self, d, e, f): pass\n",
      "\n",
      "pprint(inspect._signature_from_callable(Foo_call_fix, sigcls=inspect.Signature))    \n",
      "\u001b[0m     \n",
      "\n",
      "class FixSigMeta(type):===================================================================(0)       \n",
      "    \"A metaclass that fixes the signature on classes that override `__new__`\"=============(1) # \u001b[92;1mAny class having FixSigMeta as metaclass will have its own __init__ func stored in its attr __signature__;FixSigMeta uses its __new__ to create a class instance\u001b[0m; \u001b[37;1mthen check whether its class instance has its own __init__;if so, remove self from the sig of __init__\u001b[0m; \u001b[35;1mthen assign this new sig to __signature__ for the class instance;\u001b[0m; \n",
      "    def __new__(cls, name, bases, dict):==================================================(2) # \u001b[91;1mhow does a metaclass create a class instance\u001b[0m; \u001b[92;1mwhat does super().__new__() do here;\u001b[0m; \n",
      "        res = super().__new__(cls, name, bases, dict)=====================================(3)       \n",
      "        if res.__init__ is not object.__init__: res.__signature__ = _rm_self(inspect.signature(res.__init__)) # \u001b[37;1mhow to remove self from a signature\u001b[0m; \u001b[36;1mhow to check whether a class' __init__ is inherited from object or not;\u001b[0m;  (4)\n",
      "        return res========================================================================(5)       \n",
      "                                                                                                                                                        (6)\n"
     ]
    }
   ],
   "source": [
    "fdbF.print()"
   ]
  },
  {
   "cell_type": "code",
   "execution_count": null,
   "id": "38f17b00",
   "metadata": {},
   "outputs": [
    {
     "name": "stdout",
     "output_type": "stream",
     "text": [
      "def _signature_from_callable(obj, *,======================================================(0)       \n",
      "                             follow_wrapper_chains=True,==================================(1)       \n",
      "                             skip_bound_arg=True,=========================================(2)       \n",
      "                             sigcls):=====================================================(3)       \n",
      "                                                                                                                                                        (4)\n",
      "    \"\"\"Private helper function to get signature for arbitrary=============================(5)       \n",
      "    callable objects.=====================================================================(6)       \n",
      "    \"\"\"===================================================================================(7) # \u001b[35;1minspect.signature is calling inspect._signature_from_callable\u001b[0m; \u001b[34;1mcreate _get_signature_of using functools.partial to call on _signature_from_callable itself;obj is first tested for callable\u001b[0m; \u001b[93;1mthen test obj for classmethod\u001b[0m; \u001b[37;1mthen unwrap to the end unless obj has __signature__;if obj has __signature__, assign __signature__ to sig\u001b[0m; \u001b[37;1mthen test obj for function, is true calling _signature_from_function\u001b[0m; \u001b[36;1mthen test obj whose signature is builtins or not\u001b[0m; \u001b[37;1mtest whether obj created by functools.partial\u001b[0m; \u001b[37;1mtest obj is a class or not\u001b[0m; \u001b[35;1mif obj is a class, then check obj has its own __call__ first\u001b[0m; \u001b[91;1mthen its own __new__\u001b[0m; \u001b[37;1mthen its own __init__\u001b[0m; \u001b[37;1mthen inherited __new__\u001b[0m; \u001b[36;1mfinally inherited __init__\u001b[0m; \u001b[35;1mand then get sig from either of them by calling _get_signature_of on them\u001b[0m; \u001b[92;1mFixSigMeta assigns __init__ function to __signature__ attr for the instance class it creates\u001b[0m; \u001b[91;1mso that class with FixSigMeta as metaclass can have sig from __init__ through __signature__\u001b[0m; \u001b[92;1mno more worry about interference of sig from __call__ or __new__.\u001b[0m; \n",
      "                                                                                                                                                        (8)\n",
      "    _get_signature_of = functools.partial(_signature_from_callable,=======================(9)       \n",
      "                                follow_wrapper_chains=follow_wrapper_chains,==============(10)      \n",
      "                                skip_bound_arg=skip_bound_arg,============================(11)      \n",
      "                                sigcls=sigcls)============================================(12)      \n",
      "                                                                                                                                                        (13)\n",
      "    if not callable(obj):=================================================================(14)      \n",
      "        raise TypeError('{!r} is not a callable object'.format(obj))======================(15)      \n",
      "                                                                                                                                                        (16)\n",
      "    if isinstance(obj, types.MethodType):=================================================(17)      \n",
      "        # In this case we skip the first parameter of the underlying======================(18)      \n",
      "        # function (usually `self` or `cls`).=============================================(19)      \n",
      "        sig = _get_signature_of(obj.__func__)=============================================(20)      \n",
      "                                                                                                                                                        (21)\n",
      "        if skip_bound_arg:================================================================(22)      \n",
      "            return _signature_bound_method(sig)===========================================(23)      \n",
      "        else:=============================================================================(24)      \n",
      "            return sig====================================================================(25)      \n",
      "                                                                                                                                                        (26)\n",
      "    # Was this function wrapped by a decorator?===========================================(27)      \n",
      "    if follow_wrapper_chains:=============================================================(28)      \n",
      "        obj = unwrap(obj, stop=(lambda f: hasattr(f, \"__signature__\")))===================(29) # \u001b[93;1mHow to check whether a class has __signature__?\u001b[0m; \n",
      "                                                                                                                                     part No.1 out of 7 parts\n"
     ]
    }
   ],
   "source": [
    "fdb.print(30, 1)"
   ]
  },
  {
   "cell_type": "code",
   "execution_count": null,
   "id": "d79bf543",
   "metadata": {},
   "outputs": [
    {
     "name": "stdout",
     "output_type": "stream",
     "text": [
      "[jupytext] Reading /Users/Natsume/Documents/fastdebug/Demos/_signature_from_callable_with_FixSigMeta.ipynb in format ipynb\n",
      "Traceback (most recent call last):\n",
      "  File \"/Users/Natsume/mambaforge/bin/jupytext\", line 10, in <module>\n",
      "    sys.exit(jupytext())\n",
      "  File \"/Users/Natsume/mambaforge/lib/python3.9/site-packages/jupytext/cli.py\", line 488, in jupytext\n",
      "    exit_code += jupytext_single_file(nb_file, args, log)\n",
      "  File \"/Users/Natsume/mambaforge/lib/python3.9/site-packages/jupytext/cli.py\", line 552, in jupytext_single_file\n",
      "    notebook = read(nb_file, fmt=fmt, config=config)\n",
      "  File \"/Users/Natsume/mambaforge/lib/python3.9/site-packages/jupytext/jupytext.py\", line 411, in read\n",
      "    with open(fp, encoding=\"utf-8\") as stream:\n",
      "FileNotFoundError: [Errno 2] No such file or directory: '/Users/Natsume/Documents/fastdebug/Demos/_signature_from_callable_with_FixSigMeta.ipynb'\n",
      "mv: rename /Users/Natsume/Documents/fastdebug/Demos/_signature_from_callable_with_FixSigMeta.md to /Users/Natsume/Documents/divefastai/Debuggable/jupytext/_signature_from_callable_with_FixSigMeta.md: No such file or directory\n",
      "[NbConvertApp] Converting notebook /Users/Natsume/Documents/fastdebug/nbs/index.ipynb to markdown\n",
      "[NbConvertApp] Writing 58088 bytes to /Users/Natsume/Documents/divefastai/Debuggable/nbconvert/index.md\n",
      "[NbConvertApp] Converting notebook /Users/Natsume/Documents/fastdebug/nbs/demos/0001_fastcore_meta_delegates.ipynb to markdown\n",
      "[NbConvertApp] Writing 75603 bytes to /Users/Natsume/Documents/divefastai/Debuggable/nbconvert/0001_fastcore_meta_delegates.md\n",
      "[NbConvertApp] Converting notebook /Users/Natsume/Documents/fastdebug/nbs/demos/0005_fastcore.meta.test_sig.ipynb to markdown\n",
      "[NbConvertApp] Writing 10361 bytes to /Users/Natsume/Documents/divefastai/Debuggable/nbconvert/0005_fastcore.meta.test_sig.md\n",
      "[NbConvertApp] Converting notebook /Users/Natsume/Documents/fastdebug/nbs/demos/0002_signature_from_callable_with_FixSigMeta.ipynb to markdown\n",
      "[NbConvertApp] Writing 47125 bytes to /Users/Natsume/Documents/divefastai/Debuggable/nbconvert/0002_signature_from_callable_with_FixSigMeta.md\n",
      "[NbConvertApp] Converting notebook /Users/Natsume/Documents/fastdebug/nbs/demos/0000_tour.ipynb to markdown\n",
      "[NbConvertApp] Writing 12617 bytes to /Users/Natsume/Documents/divefastai/Debuggable/nbconvert/0000_tour.md\n",
      "[NbConvertApp] Converting notebook /Users/Natsume/Documents/fastdebug/nbs/demos/0007_fastcore.meta.BypassNewMeta.ipynb to markdown\n",
      "[NbConvertApp] Writing 30610 bytes to /Users/Natsume/Documents/divefastai/Debuggable/nbconvert/0007_fastcore.meta.BypassNewMeta.md\n",
      "[NbConvertApp] Converting notebook /Users/Natsume/Documents/fastdebug/nbs/demos/0008_use_kwargs_dict.ipynb to markdown\n",
      "[NbConvertApp] Writing 56914 bytes to /Users/Natsume/Documents/divefastai/Debuggable/nbconvert/0008_use_kwargs_dict.md\n",
      "[NbConvertApp] Converting notebook /Users/Natsume/Documents/fastdebug/nbs/demos/0004_fastcore.meta._rm_self.ipynb to markdown\n",
      "[NbConvertApp] Writing 16058 bytes to /Users/Natsume/Documents/divefastai/Debuggable/nbconvert/0004_fastcore.meta._rm_self.md\n",
      "[NbConvertApp] Converting notebook /Users/Natsume/Documents/fastdebug/nbs/demos/0009_funcs_kwargs.ipynb to markdown\n",
      "[NbConvertApp] Writing 68929 bytes to /Users/Natsume/Documents/divefastai/Debuggable/nbconvert/0009_funcs_kwargs.md\n",
      "[NbConvertApp] Converting notebook /Users/Natsume/Documents/fastdebug/nbs/demos/0010_fastcore_meta_summary.ipynb to markdown\n",
      "[NbConvertApp] Writing 17132 bytes to /Users/Natsume/Documents/divefastai/Debuggable/nbconvert/0010_fastcore_meta_summary.md\n",
      "[NbConvertApp] Converting notebook /Users/Natsume/Documents/fastdebug/nbs/demos/0006_fastcore.meta.NewChkMeta.ipynb to markdown\n",
      "[NbConvertApp] Writing 30938 bytes to /Users/Natsume/Documents/divefastai/Debuggable/nbconvert/0006_fastcore.meta.NewChkMeta.md\n",
      "[NbConvertApp] Converting notebook /Users/Natsume/Documents/fastdebug/nbs/demos/0003_Explore_document_FixSigMeta_PrePostInitMeta_AutoInit.ipynb to markdown\n",
      "[NbConvertApp] Writing 73586 bytes to /Users/Natsume/Documents/divefastai/Debuggable/nbconvert/0003_Explore_document_FixSigMeta_PrePostInitMeta_AutoInit.md\n",
      "[NbConvertApp] Converting notebook /Users/Natsume/Documents/fastdebug/nbs/demos/0011_Fastdb.ipynb to markdown\n",
      "[NbConvertApp] Writing 11924 bytes to /Users/Natsume/Documents/divefastai/Debuggable/nbconvert/0011_Fastdb.md\n",
      "[NbConvertApp] Converting notebook /Users/Natsume/Documents/fastdebug/nbs/questions/00_question_anno_dict.ipynb to markdown\n",
      "[NbConvertApp] Writing 11779 bytes to /Users/Natsume/Documents/divefastai/Debuggable/nbconvert/00_question_anno_dict.md\n",
      "[NbConvertApp] Converting notebook /Users/Natsume/Documents/fastdebug/nbs/lib/utils.ipynb to markdown\n",
      "[NbConvertApp] Writing 24973 bytes to /Users/Natsume/Documents/divefastai/Debuggable/nbconvert/utils.md\n",
      "[NbConvertApp] Converting notebook /Users/Natsume/Documents/fastdebug/nbs/lib/00_core.ipynb to markdown\n",
      "[NbConvertApp] Writing 411001 bytes to /Users/Natsume/Documents/divefastai/Debuggable/nbconvert/00_core.md\n"
     ]
    }
   ],
   "source": [
    "#| hide\n",
    "!jupytext --to md /Users/Natsume/Documents/fastdebug/Demos/_signature_from_callable_with_FixSigMeta.ipynb\n",
    "!mv /Users/Natsume/Documents/fastdebug/Demos/_signature_from_callable_with_FixSigMeta.md \\\n",
    "/Users/Natsume/Documents/divefastai/Debuggable/jupytext/\n",
    "\n",
    "!jupyter nbconvert --config /Users/Natsume/Documents/mynbcfg.py --to markdown \\\n",
    "--output-dir /Users/Natsume/Documents/divefastai/Debuggable/nbconvert"
   ]
  }
 ],
 "metadata": {
  "kernelspec": {
   "display_name": "Python 3 (ipykernel)",
   "language": "python",
   "name": "python3"
  }
 },
 "nbformat": 4,
 "nbformat_minor": 5
}
