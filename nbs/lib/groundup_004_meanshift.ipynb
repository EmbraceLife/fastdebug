{
 "cells": [
  {
   "cell_type": "markdown",
   "id": "7e6be9da",
   "metadata": {},
   "source": [
    "# groundup_004_meanshift"
   ]
  },
  {
   "cell_type": "raw",
   "id": "df768eba",
   "metadata": {},
   "source": [
    "---\n",
    "skip_exec: true\n",
    "---"
   ]
  },
  {
   "cell_type": "markdown",
   "id": "3db43ab2",
   "metadata": {},
   "source": [
    "# Clustering"
   ]
  },
  {
   "cell_type": "markdown",
   "id": "a70d6ae1",
   "metadata": {},
   "source": [
    "Clustering techniques are unsupervised learning algorithms that try to group unlabelled data into \"clusters\", using the (typically spatial) structure of the data itself.\n",
    "\n",
    "The easiest way to demonstrate how clustering works is to simply generate some data and show them in action. We'll start off by importing the libraries we'll be using today."
   ]
  },
  {
   "cell_type": "markdown",
   "id": "92e233ab",
   "metadata": {},
   "source": [
    "## Imports"
   ]
  },
  {
   "cell_type": "code",
   "execution_count": null,
   "id": "f1d5d3c8",
   "metadata": {},
   "outputs": [
    {
     "data": {
      "text/html": [
       "<style>.container { width:100% !important; }</style>"
      ],
      "text/plain": [
       "<IPython.core.display.HTML object>"
      ]
     },
     "metadata": {},
     "output_type": "display_data"
    }
   ],
   "source": [
    "import math, matplotlib.pyplot as plt, operator, torch\n",
    "from fastdebug.utils import *"
   ]
  },
  {
   "cell_type": "markdown",
   "id": "27a6a8e2",
   "metadata": {},
   "source": [
    "## torch.manual_seed(1)"
   ]
  },
  {
   "cell_type": "code",
   "execution_count": null,
   "id": "2d4f2f79",
   "metadata": {},
   "outputs": [],
   "source": [
    "torch.manual_seed(1);"
   ]
  },
  {
   "cell_type": "code",
   "execution_count": null,
   "id": "6ace8177",
   "metadata": {},
   "outputs": [
    {
     "name": "stdout",
     "output_type": "stream",
     "text": [
      "signature: (seed) -> torch._C.Generator\n",
      "__class__: <class 'function'>\n",
      "__repr__: <function manual_seed>\n",
      "\n",
      "__doc__:\n",
      "Sets the seed for generating random numbers. Returns a\n",
      "`torch.Generator` object.\n",
      "\n",
      "Args:\n",
      "    seed (int): The desired seed. Value must be within the inclusive range\n",
      "        `[-0x8000_0000_0000_0000, 0xffff_ffff_ffff_ffff]`. Otherwise, a RuntimeError\n",
      "        is raised. Negative inputs are remapped to positive values with the formula\n",
      "        `0xffff_ffff_ffff_ffff + seed`.\n",
      "__dict__: \n",
      "{}\n",
      "metaclass: False\n",
      "class: False\n",
      "decorator: False\n",
      "function: True\n",
      "method: False\n"
     ]
    }
   ],
   "source": [
    "check(torch.manual_seed)"
   ]
  },
  {
   "cell_type": "markdown",
   "id": "ae34040f",
   "metadata": {},
   "source": [
    "## centroids, torch.randint(low, high, size)"
   ]
  },
  {
   "cell_type": "code",
   "execution_count": null,
   "id": "a3d16ff5",
   "metadata": {},
   "outputs": [],
   "source": [
    "n_clusters=6\n",
    "n_samples =250"
   ]
  },
  {
   "cell_type": "markdown",
   "id": "1d3c59d3",
   "metadata": {},
   "source": [
    "To generate our data, we're going to pick 6 random points, which we'll call centroids, and for each point we're going to generate 250 random points about it."
   ]
  },
  {
   "cell_type": "code",
   "execution_count": null,
   "id": "cab0b231",
   "metadata": {},
   "outputs": [],
   "source": [
    "centroids = torch.randint(-35, 35, (n_clusters, 2)).float()"
   ]
  },
  {
   "cell_type": "code",
   "execution_count": null,
   "id": "8128c175",
   "metadata": {},
   "outputs": [
    {
     "data": {
      "text/plain": [
       "tensor([[  0.,  24.],\n",
       "        [-31.,   3.],\n",
       "        [-32., -22.],\n",
       "        [-14.,  26.],\n",
       "        [ 14.,  17.],\n",
       "        [-17.,  34.]])"
      ]
     },
     "execution_count": null,
     "metadata": {},
     "output_type": "execute_result"
    }
   ],
   "source": [
    "centroids"
   ]
  },
  {
   "cell_type": "code",
   "execution_count": null,
   "id": "a96da4b6",
   "metadata": {},
   "outputs": [
    {
     "name": "stdout",
     "output_type": "stream",
     "text": [
      "signature: None\n",
      "__class__: <class 'builtin_function_or_method'>\n",
      "__repr__: <built-in method randint of type object>\n",
      "\n",
      "__doc__:\n",
      "randint(low=0, high, size, \\*, generator=None, out=None, dtype=None, layout=torch.strided, device=None, requires_grad=False) -> Tensor\n",
      "\n",
      "Returns a tensor filled with random integers generated uniformly\n",
      "between :attr:`low` (inclusive) and :attr:`high` (exclusive).\n",
      "\n",
      "The shape of the tensor is defined by the variable argument :attr:`size`.\n",
      "\n",
      ".. note::\n",
      "    With the global dtype default (``torch.float32``), this function returns\n",
      "    a tensor with dtype ``torch.int64``.\n",
      "\n",
      "Args:\n",
      "    low (int, optional): Lowest integer to be drawn from the distribution. Default: 0.\n",
      "    high (int): One above the highest integer to be drawn from the distribution.\n",
      "    size (tuple): a tuple defining the shape of the output tensor.\n",
      "\n",
      "Keyword args:\n",
      "    generator (:class:`torch.Generator`, optional): a pseudorandom number generator for sampling\n",
      "    out (Tensor, optional): the output tensor.\n",
      "    dtype (`torch.dtype`, optional) - the desired data type of returned tensor. Default: if ``None``,\n",
      "        this function returns a tensor with dtype ``torch.int64``.\n",
      "__dict__: not exist \n",
      "\n",
      "metaclass: False\n",
      "class: False\n",
      "decorator: False\n",
      "function: False\n",
      "method: False\n"
     ]
    }
   ],
   "source": [
    "check(torch.randint, n=20)"
   ]
  },
  {
   "cell_type": "markdown",
   "id": "ad1d894f",
   "metadata": {},
   "source": [
    "## MultivariateNormal, torch.diag, mvn.sample\n",
    "creating samples on centroids\n",
    "docs on [MultivariateNormal](https://pytorch.org/docs/stable/distributions.html#multivariatenormal)"
   ]
  },
  {
   "cell_type": "code",
   "execution_count": null,
   "id": "5d3bc3f0",
   "metadata": {},
   "outputs": [],
   "source": [
    "from torch.distributions.multivariate_normal import MultivariateNormal\n",
    "from torch import tensor"
   ]
  },
  {
   "cell_type": "code",
   "execution_count": null,
   "id": "29c14abf",
   "metadata": {},
   "outputs": [
    {
     "data": {
      "text/plain": [
       "tensor([[5., 0.],\n",
       "        [0., 5.]])"
      ]
     },
     "execution_count": null,
     "metadata": {},
     "output_type": "execute_result"
    }
   ],
   "source": [
    "torch.diag(tensor([5.,5.]))"
   ]
  },
  {
   "cell_type": "code",
   "execution_count": null,
   "id": "25d80db7",
   "metadata": {},
   "outputs": [
    {
     "data": {
      "text/plain": [
       "tensor([ 0., 24.])"
      ]
     },
     "execution_count": null,
     "metadata": {},
     "output_type": "execute_result"
    }
   ],
   "source": [
    "c1 = centroids[0]\n",
    "c1"
   ]
  },
  {
   "cell_type": "code",
   "execution_count": null,
   "id": "eaa1a6a6",
   "metadata": {},
   "outputs": [
    {
     "data": {
      "text/plain": [
       "MultivariateNormal(loc: torch.Size([2]), covariance_matrix: torch.Size([2, 2]))"
      ]
     },
     "execution_count": null,
     "metadata": {},
     "output_type": "execute_result"
    }
   ],
   "source": [
    "mvn = MultivariateNormal(c1, torch.diag(tensor([5.,5.])))\n",
    "mvn"
   ]
  },
  {
   "cell_type": "code",
   "execution_count": null,
   "id": "7f34c1ff",
   "metadata": {},
   "outputs": [
    {
     "name": "stdout",
     "output_type": "stream",
     "text": [
      "signature: (sample_shape=torch.Size([]))\n",
      "__class__: <class 'method'>\n",
      "__repr__: <bound method Distribution.sample of MultivariateNormal(loc: torch.Size([2]), covariance_matrix: torch.Size([2, 2]))>\n",
      "\n",
      "__doc__:\n",
      "Generates a sample_shape shaped sample or sample_shape shaped batch of\n",
      "samples if the distribution parameters are batched.\n",
      "__dict__: \n",
      "{}\n",
      "metaclass: False\n",
      "class: False\n",
      "decorator: False\n",
      "function: False\n",
      "method: True\n"
     ]
    }
   ],
   "source": [
    "check(mvn.sample)"
   ]
  },
  {
   "cell_type": "code",
   "execution_count": null,
   "id": "aed02d69",
   "metadata": {},
   "outputs": [
    {
     "data": {
      "text/plain": [
       "torch.Size([100, 2])"
      ]
     },
     "execution_count": null,
     "metadata": {},
     "output_type": "execute_result"
    }
   ],
   "source": [
    "MultivariateNormal(c1, torch.diag(tensor([5.,5.]))).sample((100,)).shape"
   ]
  },
  {
   "cell_type": "code",
   "execution_count": null,
   "id": "56b9c2c3",
   "metadata": {},
   "outputs": [],
   "source": [
    "def sample(m): return MultivariateNormal(m, torch.diag(tensor([5.,5.]))).sample((n_samples,))"
   ]
  },
  {
   "cell_type": "code",
   "execution_count": null,
   "id": "2a9b252f",
   "metadata": {},
   "outputs": [
    {
     "name": "stdout",
     "output_type": "stream",
     "text": [
      "signature: (loc, covariance_matrix=None, precision_matrix=None, scale_tril=None, validate_args=None)\n",
      "__class__: <class 'type'>\n",
      "__repr__: <class 'torch.distributions.multivariate_normal.MultivariateNormal'>\n",
      "\n",
      "__doc__:\n",
      "Creates a multivariate normal (also called Gaussian) distribution\n",
      "parameterized by a mean vector and a covariance matrix.\n",
      "\n",
      "The multivariate normal distribution can be parameterized either\n",
      "in terms of a positive definite covariance matrix :math:`\\mathbf{\\Sigma}`\n",
      "or a positive definite precision matrix :math:`\\mathbf{\\Sigma}^{-1}`\n",
      "or a lower-triangular matrix :math:`\\mathbf{L}` with positive-valued\n",
      "diagonal entries, such that\n",
      ":math:`\\mathbf{\\Sigma} = \\mathbf{L}\\mathbf{L}^\\top`. This triangular matrix\n",
      "can be obtained via e.g. Cholesky decomposition of the covariance.\n",
      "\n",
      "__dict__: \n",
      "mappingproxy({'__doc__': '\\n'\n",
      "                         '    Creates a multivariate normal (also called '\n",
      "                         'Gaussian) distribution\\n'\n",
      "                         '    parameterized by a mean vector and a covariance '\n",
      "                         'matrix.\\n'\n",
      "                         '\\n'\n",
      "                         '    The multivariate normal distribution can be '\n",
      "                         'parameterized either\\n'\n",
      "                         '    in terms of a positive definite covariance '\n",
      "                         'matrix :math:`\\\\mathbf{\\\\Sigma}`\\n'\n",
      "                         '    or a positive definite precision matrix '\n",
      "                         ':math:`\\\\mathbf{\\\\Sigma}^{-1}`\\n'\n",
      "                         '    or a lower-triangular matrix :math:`\\\\mathbf{L}` '\n",
      "                         'with positive-valued\\n'\n",
      "                         '    diagonal entries, such that\\n'\n",
      "                         '    :math:`\\\\mathbf{\\\\Sigma} = '\n",
      "                         '\\\\mathbf{L}\\\\mathbf{L}^\\\\top`. This triangular '\n",
      "                         'matrix\\n'\n",
      "                         '    can be obtained via e.g. Cholesky decomposition '\n",
      "                         'of the covariance.\\n'\n",
      "                         '\\n'\n",
      "                         '    Example:\\n'\n",
      "                         '\\n'\n",
      "                         '        >>> m = MultivariateNormal(torch.zeros(2), '\n",
      "                         'torch.eye(2))\\n'\n",
      "                         '        >>> m.sample()  # normally distributed with '\n",
      "                         'mean=`[0,0]` and covariance_matrix=`I`\\n'\n",
      "                         '        tensor([-0.2102, -0.5429])\\n'\n",
      "                         '\\n'\n",
      "                         '    Args:\\n'\n",
      "                         '        loc (Tensor): mean of the distribution\\n'\n",
      "                         '        covariance_matrix (Tensor): '\n",
      "                         'positive-definite covariance matrix\\n'\n",
      "                         '        precision_matrix (Tensor): positive-definite '\n",
      "                         'precision matrix\\n'\n",
      "                         '        scale_tril (Tensor): lower-triangular factor '\n",
      "                         'of covariance, with positive-valued diagonal\\n'\n",
      "                         '\\n'\n",
      "                         '    Note:\\n'\n",
      "                         '        Only one of :attr:`covariance_matrix` or '\n",
      "                         ':attr:`precision_matrix` or\\n'\n",
      "                         '        :attr:`scale_tril` can be specified.\\n'\n",
      "                         '\\n'\n",
      "                         '        Using :attr:`scale_tril` will be more '\n",
      "                         'efficient: all computations internally\\n'\n",
      "                         '        are based on :attr:`scale_tril`. If '\n",
      "                         ':attr:`covariance_matrix` or\\n'\n",
      "                         '        :attr:`precision_matrix` is passed instead, '\n",
      "                         'it is only used to compute\\n'\n",
      "                         '        the corresponding lower triangular matrices '\n",
      "                         'using a Cholesky decomposition.\\n'\n",
      "                         '    ',\n",
      "              '__init__': <function MultivariateNormal.__init__>,\n",
      "              '__module__': 'torch.distributions.multivariate_normal',\n",
      "              'arg_constraints': {'covariance_matrix': PositiveDefinite(),\n",
      "                                  'loc': IndependentConstraint(Real(), 1),\n",
      "                                  'precision_matrix': PositiveDefinite(),\n",
      "                                  'scale_tril': LowerCholesky()},\n",
      "              'covariance_matrix': <torch.distributions.utils.lazy_property object>,\n",
      "              'entropy': <function MultivariateNormal.entropy>,\n",
      "              'expand': <function MultivariateNormal.expand>,\n",
      "              'has_rsample': True,\n",
      "              'log_prob': <function MultivariateNormal.log_prob>,\n",
      "              'mean': <property object>,\n",
      "              'mode': <property object>,\n",
      "              'precision_matrix': <torch.distributions.utils.lazy_property object>,\n",
      "              'rsample': <function MultivariateNormal.rsample>,\n",
      "              'scale_tril': <torch.distributions.utils.lazy_property object>,\n",
      "              'support': IndependentConstraint(Real(), 1),\n",
      "              'variance': <property object>})\n",
      "metaclass: False\n",
      "class: True\n",
      "decorator: False\n",
      "function: False\n",
      "method: False\n"
     ]
    }
   ],
   "source": [
    "check(MultivariateNormal)"
   ]
  },
  {
   "cell_type": "code",
   "execution_count": null,
   "id": "82dec879",
   "metadata": {},
   "outputs": [],
   "source": [
    "slices = [sample(c) for c in centroids]\n",
    "data = torch.cat(slices)"
   ]
  },
  {
   "cell_type": "code",
   "execution_count": null,
   "id": "2a1c18c1",
   "metadata": {},
   "outputs": [
    {
     "data": {
      "text/plain": [
       "torch.Size([1500, 2])"
      ]
     },
     "execution_count": null,
     "metadata": {},
     "output_type": "execute_result"
    }
   ],
   "source": [
    "data.shape"
   ]
  },
  {
   "cell_type": "markdown",
   "id": "d59d8ff5",
   "metadata": {},
   "source": [
    "## plot_centroids_sample, enumerate, plt.scatter, plt.plot\n",
    "plotting centroids and sample"
   ]
  },
  {
   "cell_type": "markdown",
   "id": "f32dc441",
   "metadata": {},
   "source": [
    "Below we can see each centroid marked w/ X, and the coloring associated to each respective cluster."
   ]
  },
  {
   "cell_type": "code",
   "execution_count": null,
   "id": "3a55ab14",
   "metadata": {},
   "outputs": [
    {
     "data": {
      "text/plain": [
       "tensor([[  0.,  24.],\n",
       "        [-31.,   3.],\n",
       "        [-32., -22.],\n",
       "        [-14.,  26.],\n",
       "        [ 14.,  17.],\n",
       "        [-17.,  34.]])"
      ]
     },
     "execution_count": null,
     "metadata": {},
     "output_type": "execute_result"
    }
   ],
   "source": [
    "centroids"
   ]
  },
  {
   "cell_type": "code",
   "execution_count": null,
   "id": "02cd167d",
   "metadata": {},
   "outputs": [],
   "source": [
    "def plot_centroids_sample(centroids, data, n_samples):\n",
    "    for i, centroid in enumerate(centroids):\n",
    "        samples = data[i*n_samples:(i+1)*n_samples]\n",
    "        plt.scatter(samples[:,0], samples[:,1], s=1)\n",
    "        plt.plot(centroid[0], centroid[1], markersize=10, marker=\"x\", color='k', mew=5)\n",
    "        plt.plot(centroid[0], centroid[1], markersize=5, marker=\"x\", color='m', mew=2)"
   ]
  },
  {
   "cell_type": "code",
   "execution_count": null,
   "id": "4fc065c7",
   "metadata": {},
   "outputs": [
    {
     "data": {
      "image/png": "[encoded data removed]",
      "text/plain": [
       "<Figure size 640x480 with 1 Axes>"
      ]
     },
     "metadata": {},
     "output_type": "display_data"
    }
   ],
   "source": [
    "plot_centroids_sample(centroids, data, n_samples)"
   ]
  },
  {
   "cell_type": "markdown",
   "id": "c810e66a",
   "metadata": {},
   "source": [
    "## Mean shift"
   ]
  },
  {
   "cell_type": "markdown",
   "id": "6d190948",
   "metadata": {},
   "source": [
    "Most people that have come across clustering algorithms have learnt about **k-means**. Mean shift clustering is a newer and less well-known approach, but it has some important advantages:\n",
    "* It doesn't require selecting the number of clusters in advance, but instead just requires a **bandwidth** to be specified, which can be easily chosen automatically\n",
    "* It can handle clusters of any shape, whereas k-means (without using special extensions) requires that clusters be roughly ball shaped."
   ]
  },
  {
   "cell_type": "markdown",
   "id": "0ec91a10",
   "metadata": {},
   "source": [
    "The algorithm is as follows:\n",
    "* For each data point x in the sample X, find the distance between that point x and every other point in X\n",
    "* Create weights for each point in X by using the **Gaussian kernel** of that point's distance to x\n",
    "    * This weighting approach penalizes points further away from x\n",
    "    * The rate at which the weights fall to zero is determined by the **bandwidth**, which is the standard deviation of the Gaussian\n",
    "* Update x as the weighted average of all other points in X, weighted based on the previous step\n",
    "\n",
    "This will iteratively push points that are close together even closer until they are next to each other."
   ]
  },
  {
   "cell_type": "markdown",
   "id": "77acd0df",
   "metadata": {},
   "source": [
    "## gaussian kernel"
   ]
  },
  {
   "cell_type": "markdown",
   "id": "f4f96beb",
   "metadata": {},
   "source": [
    "So here's the definition of the gaussian kernel, which you may remember from high school..."
   ]
  },
  {
   "cell_type": "code",
   "execution_count": null,
   "id": "290d2ffb",
   "metadata": {},
   "outputs": [
    {
     "data": {
      "image/png": "[encoded data removed]",
      "text/plain": [
       "<Figure size 432x288 with 1 Axes>"
      ]
     },
     "metadata": {
      "needs_background": "light"
     },
     "output_type": "display_data"
    }
   ],
   "source": [
    "def gaussian(d, bw): return torch.exp(-0.5*((d/bw))**2) / (bw*math.sqrt(2*math.pi))\n",
    "\n",
    "x = torch.linspace(0,10,100)\n",
    "plt.plot(x, gaussian(x,2.5));"
   ]
  },
  {
   "cell_type": "markdown",
   "id": "cc8782c1",
   "metadata": {},
   "source": [
    " This person at the science march certainly remembered!\n",
    "\n",
    "<img src=\"http://i.imgur.com/nijQLHw.jpg\" width=400>"
   ]
  },
  {
   "cell_type": "markdown",
   "id": "7b7c8f92",
   "metadata": {},
   "source": [
    "In our implementation, we choose the bandwidth to be 2.5. \n",
    "\n",
    "One easy way to choose bandwidth is to find which bandwidth covers one third of the data."
   ]
  },
  {
   "cell_type": "code",
   "execution_count": null,
   "id": "26550eca",
   "metadata": {},
   "outputs": [
    {
     "data": {
      "text/plain": [
       "tensor([0.0000, 1.4130, 3.2164, 2.8909, 4.5990, 3.1394, 3.9166, 5.3368])"
      ]
     },
     "execution_count": null,
     "metadata": {},
     "output_type": "execute_result"
    }
   ],
   "source": [
    "X = data.clone()\n",
    "x = data[0]\n",
    "dist = torch.sqrt(((x-X)**2).sum(1))\n",
    "dist[:8]"
   ]
  },
  {
   "cell_type": "code",
   "execution_count": null,
   "id": "eebd69b3",
   "metadata": {},
   "outputs": [
    {
     "data": {
      "text/plain": [
       "tensor([1.5958e-01, 1.3602e-01, 6.9749e-02,  ..., 3.5634e-09, 1.7959e-10,\n",
       "        2.7274e-16])"
      ]
     },
     "execution_count": null,
     "metadata": {},
     "output_type": "execute_result"
    }
   ],
   "source": [
    "weight = gaussian(dist, 2.5)\n",
    "weight"
   ]
  },
  {
   "cell_type": "code",
   "execution_count": null,
   "id": "966cabba",
   "metadata": {},
   "outputs": [
    {
     "data": {
      "text/plain": [
       "(torch.Size([1500]), torch.Size([1500, 2]))"
      ]
     },
     "execution_count": null,
     "metadata": {},
     "output_type": "execute_result"
    }
   ],
   "source": [
    "weight.shape,X.shape"
   ]
  },
  {
   "cell_type": "code",
   "execution_count": null,
   "id": "1e2b3bc2",
   "metadata": {},
   "outputs": [
    {
     "data": {
      "text/plain": [
       "tensor([[-2.1094e-01,  3.9275e+00],\n",
       "        [-2.9346e-01,  3.1928e+00],\n",
       "        [-1.0870e-01,  1.4929e+00],\n",
       "        ...,\n",
       "        [-5.0652e-08,  1.1388e-07],\n",
       "        [-2.6280e-09,  6.0300e-09],\n",
       "        [-4.7550e-15,  1.0221e-14]])"
      ]
     },
     "execution_count": null,
     "metadata": {},
     "output_type": "execute_result"
    }
   ],
   "source": [
    "(weight[:,None]*X)"
   ]
  },
  {
   "cell_type": "markdown",
   "id": "6c73b324",
   "metadata": {},
   "source": [
    "## meanshift"
   ]
  },
  {
   "cell_type": "code",
   "execution_count": null,
   "id": "777ca29f",
   "metadata": {},
   "outputs": [],
   "source": [
    "def meanshift(data):\n",
    "    X = data.clone()\n",
    "    for it in range(5):\n",
    "        for i, x in enumerate(X):\n",
    "            dist = torch.sqrt(((x-X)**2).sum(1))\n",
    "            weight = gaussian(dist, 2.5)\n",
    "            X[i] = (weight[:,None]*X).sum(0)/weight.sum()\n",
    "    return X"
   ]
  },
  {
   "cell_type": "code",
   "execution_count": null,
   "id": "34a1c2d4",
   "metadata": {},
   "outputs": [
    {
     "name": "stdout",
     "output_type": "stream",
     "text": [
      "CPU times: user 1.22 s, sys: 1.5 ms, total: 1.22 s\n",
      "Wall time: 1.22 s\n"
     ]
    }
   ],
   "source": [
    "%time X=meanshift(data)"
   ]
  },
  {
   "cell_type": "markdown",
   "id": "a0a81eec",
   "metadata": {},
   "source": [
    "We can see that mean shift clustering has almost reproduced our original clustering. The one exception are the very close clusters, but if we really wanted to differentiate them we could lower the bandwidth.\n",
    "\n",
    "What is impressive is that this algorithm nearly reproduced the original clusters without telling it how many clusters there should be."
   ]
  },
  {
   "cell_type": "code",
   "execution_count": null,
   "id": "cf39aee2",
   "metadata": {},
   "outputs": [
    {
     "data": {
      "image/png": "[encoded data removed]",
      "text/plain": [
       "<Figure size 432x288 with 1 Axes>"
      ]
     },
     "metadata": {
      "needs_background": "light"
     },
     "output_type": "display_data"
    }
   ],
   "source": [
    "plot_centroids_sample(centroids+2, X, n_samples)"
   ]
  },
  {
   "cell_type": "markdown",
   "id": "760b5e46",
   "metadata": {},
   "source": [
    "All the computation is happening in the <tt>for</tt> loop, which isn't accelerated by pytorch. Each iteration launches a new cuda kernel, which takes time and slows the algorithm down as a whole. Furthermore, each iteration doesn't have enough processing to do to fill up all of the threads of the GPU. But at least the results are correct...\n",
    "\n",
    "We should be able to accelerate this algorithm with a GPU."
   ]
  },
  {
   "cell_type": "markdown",
   "id": "2cd299b4",
   "metadata": {},
   "source": [
    "## GPU batched algorithm"
   ]
  },
  {
   "cell_type": "markdown",
   "id": "914bb52d",
   "metadata": {},
   "source": [
    "To truly accelerate the algorithm, we need to be performing updates on a batch of points per iteration, instead of just one as we were doing."
   ]
  },
  {
   "cell_type": "code",
   "execution_count": null,
   "id": "6888258a",
   "metadata": {},
   "outputs": [],
   "source": [
    "def dist_b(a,b): return torch.sqrt(((a[None]-b[:,None])**2).sum(2))"
   ]
  },
  {
   "cell_type": "code",
   "execution_count": null,
   "id": "8fb20321",
   "metadata": {},
   "outputs": [
    {
     "data": {
      "text/plain": [
       "tensor([[0.6867, 0.4772, 0.7416, 0.4211, 0.4418, 0.5633, 0.6071, 0.5677],\n",
       "        [0.7734, 0.2386, 0.8327, 0.4916, 0.1589, 0.7302, 0.4068, 0.2873],\n",
       "        [0.6580, 0.5093, 0.6850, 0.6278, 0.5885, 0.8003, 0.3447, 0.4739],\n",
       "        [0.5121, 0.5730, 0.5588, 0.3179, 0.5735, 0.3513, 0.6487, 0.6734],\n",
       "        [0.5185, 0.4800, 0.5446, 0.5135, 0.5654, 0.6665, 0.3131, 0.4730]])"
      ]
     },
     "execution_count": null,
     "metadata": {},
     "output_type": "execute_result"
    }
   ],
   "source": [
    "X=torch.rand(8,2)\n",
    "x=torch.rand(5,2)\n",
    "dist_b(X, x)"
   ]
  },
  {
   "cell_type": "code",
   "execution_count": null,
   "id": "e08090d5",
   "metadata": {},
   "outputs": [
    {
     "data": {
      "text/plain": [
       "tensor([[1.9947e-01, 1.5541e-01, 5.4735e-02,  ..., 2.2132e-13, 2.0775e-15,\n",
       "         1.6831e-24],\n",
       "        [1.5541e-01, 1.9947e-01, 1.1173e-01,  ..., 3.1427e-13, 2.0317e-15,\n",
       "         9.7350e-25],\n",
       "        [5.4735e-02, 1.1173e-01, 1.9947e-01,  ..., 3.5939e-16, 9.4595e-19,\n",
       "         3.9723e-29],\n",
       "        [7.0175e-02, 3.1377e-02, 1.8560e-02,  ..., 5.2249e-18, 3.3886e-20,\n",
       "         3.0925e-30],\n",
       "        [1.4180e-02, 3.1085e-03, 1.1476e-03,  ..., 8.5815e-20, 8.2003e-22,\n",
       "         9.4978e-32]])"
      ]
     },
     "execution_count": null,
     "metadata": {},
     "output_type": "execute_result"
    }
   ],
   "source": [
    "bs=5\n",
    "X = data.clone()\n",
    "x = X[:bs]\n",
    "weight = gaussian(dist_b(X, x), 2)\n",
    "weight"
   ]
  },
  {
   "cell_type": "code",
   "execution_count": null,
   "id": "a2867404",
   "metadata": {},
   "outputs": [
    {
     "data": {
      "text/plain": [
       "(torch.Size([5, 1500]), torch.Size([1500, 2]))"
      ]
     },
     "execution_count": null,
     "metadata": {},
     "output_type": "execute_result"
    }
   ],
   "source": [
    "weight.shape,X.shape"
   ]
  },
  {
   "cell_type": "code",
   "execution_count": null,
   "id": "b4192c40",
   "metadata": {},
   "outputs": [
    {
     "data": {
      "text/plain": [
       "torch.Size([5, 2])"
      ]
     },
     "execution_count": null,
     "metadata": {},
     "output_type": "execute_result"
    }
   ],
   "source": [
    "num = (weight[...,None]*X[None]).sum(1)\n",
    "num.shape"
   ]
  },
  {
   "cell_type": "code",
   "execution_count": null,
   "id": "6d39a151",
   "metadata": {},
   "outputs": [
    {
     "data": {
      "text/plain": [
       "torch.Size([5, 1])"
      ]
     },
     "execution_count": null,
     "metadata": {},
     "output_type": "execute_result"
    }
   ],
   "source": [
    "div = weight.sum(1, keepdim=True)\n",
    "div.shape"
   ]
  },
  {
   "cell_type": "code",
   "execution_count": null,
   "id": "3fe09eb3",
   "metadata": {},
   "outputs": [
    {
     "data": {
      "text/plain": [
       "tensor([[-0.5274, 24.3688],\n",
       "        [-1.0042, 23.6233],\n",
       "        [-0.7959, 22.5723],\n",
       "        [ 1.0092, 24.4519],\n",
       "        [ 1.8587, 25.1916]])"
      ]
     },
     "execution_count": null,
     "metadata": {},
     "output_type": "execute_result"
    }
   ],
   "source": [
    "num/div"
   ]
  },
  {
   "cell_type": "code",
   "execution_count": null,
   "id": "73325bcd",
   "metadata": {},
   "outputs": [],
   "source": [
    "from fastcore.all import chunked"
   ]
  },
  {
   "cell_type": "code",
   "execution_count": null,
   "id": "1a2be68b",
   "metadata": {},
   "outputs": [],
   "source": [
    "def meanshift(data, bs=500):\n",
    "    n = len(data)\n",
    "    X = data.clone()\n",
    "    for it in range(5):\n",
    "        for i in range(0, n, bs):\n",
    "            s = slice(i, min(i+bs,n))\n",
    "            weight = gaussian(dist_b(X, X[s]), 2)\n",
    "            num = (weight[...,None]*X[None]).sum(1)\n",
    "            div = weight.sum(1, keepdim=True)\n",
    "            X[s] = num/div\n",
    "    return X"
   ]
  },
  {
   "cell_type": "markdown",
   "id": "44095902",
   "metadata": {},
   "source": [
    "Although each iteration still has to launch a new cuda kernel, there are now fewer iterations, and the acceleration from updating a batch of points more than makes up for it."
   ]
  },
  {
   "cell_type": "code",
   "execution_count": null,
   "id": "027dc697",
   "metadata": {},
   "outputs": [],
   "source": [
    "data = data.cuda()"
   ]
  },
  {
   "cell_type": "code",
   "execution_count": null,
   "id": "dd503649",
   "metadata": {},
   "outputs": [
    {
     "data": {
      "text/plain": [
       "tensor([[ -1.3219,  24.6122],\n",
       "        [ -2.1575,  23.4727],\n",
       "        [ -1.5585,  21.4045],\n",
       "        ...,\n",
       "        [-14.2147,  31.9600],\n",
       "        [-14.6337,  33.5766],\n",
       "        [-17.4343,  37.4739]], device='cuda:0')"
      ]
     },
     "execution_count": null,
     "metadata": {},
     "output_type": "execute_result"
    }
   ],
   "source": [
    "data"
   ]
  },
  {
   "cell_type": "code",
   "execution_count": null,
   "id": "0d039026",
   "metadata": {},
   "outputs": [
    {
     "data": {
      "text/plain": [
       "tensor([[  0.2856,  24.2307],\n",
       "        [  0.2856,  24.2307],\n",
       "        [  0.2856,  24.2307],\n",
       "        ...,\n",
       "        [-17.1203,  34.0656],\n",
       "        [-17.1203,  34.0656],\n",
       "        [-17.1203,  34.0656]], device='cuda:0')"
      ]
     },
     "execution_count": null,
     "metadata": {},
     "output_type": "execute_result"
    }
   ],
   "source": [
    "meanshift(data)"
   ]
  },
  {
   "cell_type": "code",
   "execution_count": null,
   "id": "3a61eed0",
   "metadata": {},
   "outputs": [],
   "source": [
    "X = meanshift(data).cpu()"
   ]
  },
  {
   "cell_type": "code",
   "execution_count": null,
   "id": "266e7394",
   "metadata": {},
   "outputs": [
    {
     "name": "stdout",
     "output_type": "stream",
     "text": [
      "4.5 ms ± 171 µs per loop (mean ± std. dev. of 7 runs, 1 loop each)\n"
     ]
    }
   ],
   "source": [
    "%timeit -n 1 X = meanshift(data).cpu()"
   ]
  },
  {
   "cell_type": "code",
   "execution_count": null,
   "id": "e6ed0db1",
   "metadata": {},
   "outputs": [
    {
     "data": {
      "image/png": "[encoded data removed]",
      "text/plain": [
       "<Figure size 432x288 with 1 Axes>"
      ]
     },
     "metadata": {
      "needs_background": "light"
     },
     "output_type": "display_data"
    }
   ],
   "source": [
    "plot_data(centroids+2, X, n_samples)"
   ]
  },
  {
   "cell_type": "code",
   "execution_count": null,
   "id": "2c27d6c8",
   "metadata": {},
   "outputs": [],
   "source": []
  }
 ],
 "metadata": {
  "kernelspec": {
   "display_name": "Python 3 (ipykernel)",
   "language": "python",
   "name": "python3"
  }
 },
 "nbformat": 4,
 "nbformat_minor": 5
}
