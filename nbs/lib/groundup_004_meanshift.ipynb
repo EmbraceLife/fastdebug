{
 "cells": [
  {
   "cell_type": "markdown",
   "id": "7e6be9da",
   "metadata": {},
   "source": [
    "# groundup_004_meanshift"
   ]
  },
  {
   "cell_type": "raw",
   "id": "df768eba",
   "metadata": {},
   "source": [
    "---\n",
    "skip_exec: true\n",
    "---"
   ]
  },
  {
   "cell_type": "markdown",
   "id": "3db43ab2",
   "metadata": {},
   "source": [
    "# Clustering"
   ]
  },
  {
   "cell_type": "markdown",
   "id": "a70d6ae1",
   "metadata": {},
   "source": [
    "Clustering techniques are unsupervised learning algorithms that try to group unlabelled data into \"clusters\", using the (typically spatial) structure of the data itself.\n",
    "\n",
    "The easiest way to demonstrate how clustering works is to simply generate some data and show them in action. We'll start off by importing the libraries we'll be using today."
   ]
  },
  {
   "cell_type": "markdown",
   "id": "92e233ab",
   "metadata": {},
   "source": [
    "## Imports"
   ]
  },
  {
   "cell_type": "code",
   "execution_count": null,
   "id": "f1d5d3c8",
   "metadata": {},
   "outputs": [
    {
     "data": {
      "text/html": [
       "<style>.container { width:100% !important; }</style>"
      ],
      "text/plain": [
       "<IPython.core.display.HTML object>"
      ]
     },
     "metadata": {},
     "output_type": "display_data"
    }
   ],
   "source": [
    "import math, matplotlib.pyplot as plt, operator, torch\n",
    "from fastdebug.utils import *"
   ]
  },
  {
   "cell_type": "markdown",
   "id": "27a6a8e2",
   "metadata": {},
   "source": [
    "## torch.manual_seed(1)"
   ]
  },
  {
   "cell_type": "code",
   "execution_count": null,
   "id": "2d4f2f79",
   "metadata": {},
   "outputs": [],
   "source": [
    "torch.manual_seed(1);"
   ]
  },
  {
   "cell_type": "code",
   "execution_count": null,
   "id": "6ace8177",
   "metadata": {},
   "outputs": [
    {
     "name": "stdout",
     "output_type": "stream",
     "text": [
      "signature: (seed) -> torch._C.Generator\n",
      "__class__: <class 'function'>\n",
      "__repr__: <function manual_seed>\n",
      "\n",
      "__doc__:\n",
      "Sets the seed for generating random numbers. Returns a\n",
      "`torch.Generator` object.\n",
      "\n",
      "Args:\n",
      "    seed (int): The desired seed. Value must be within the inclusive range\n",
      "        `[-0x8000_0000_0000_0000, 0xffff_ffff_ffff_ffff]`. Otherwise, a RuntimeError\n",
      "        is raised. Negative inputs are remapped to positive values with the formula\n",
      "        `0xffff_ffff_ffff_ffff + seed`.\n",
      "__dict__: \n",
      "{}\n",
      "metaclass: False\n",
      "class: False\n",
      "decorator: False\n",
      "function: True\n",
      "method: False\n"
     ]
    }
   ],
   "source": [
    "check(torch.manual_seed)"
   ]
  },
  {
   "cell_type": "markdown",
   "id": "ae34040f",
   "metadata": {},
   "source": [
    "## centroids, torch.randint(low, high, size)"
   ]
  },
  {
   "cell_type": "code",
   "execution_count": null,
   "id": "a3d16ff5",
   "metadata": {},
   "outputs": [],
   "source": [
    "n_clusters=6\n",
    "n_samples =250"
   ]
  },
  {
   "cell_type": "markdown",
   "id": "1d3c59d3",
   "metadata": {},
   "source": [
    "To generate our data, we're going to pick 6 random points, which we'll call centroids, and for each point we're going to generate 250 random points about it."
   ]
  },
  {
   "cell_type": "code",
   "execution_count": null,
   "id": "cab0b231",
   "metadata": {},
   "outputs": [],
   "source": [
    "centroids = torch.randint(-35, 35, (n_clusters, 2)).float()"
   ]
  },
  {
   "cell_type": "code",
   "execution_count": null,
   "id": "8128c175",
   "metadata": {},
   "outputs": [
    {
     "data": {
      "text/plain": [
       "tensor([[  0.,  24.],\n",
       "        [-31.,   3.],\n",
       "        [-32., -22.],\n",
       "        [-14.,  26.],\n",
       "        [ 14.,  17.],\n",
       "        [-17.,  34.]])"
      ]
     },
     "execution_count": null,
     "metadata": {},
     "output_type": "execute_result"
    }
   ],
   "source": [
    "centroids"
   ]
  },
  {
   "cell_type": "code",
   "execution_count": null,
   "id": "a96da4b6",
   "metadata": {},
   "outputs": [
    {
     "name": "stdout",
     "output_type": "stream",
     "text": [
      "signature: None\n",
      "__class__: <class 'builtin_function_or_method'>\n",
      "__repr__: <built-in method randint of type object>\n",
      "\n",
      "__doc__:\n",
      "randint(low=0, high, size, \\*, generator=None, out=None, dtype=None, layout=torch.strided, device=None, requires_grad=False) -> Tensor\n",
      "\n",
      "Returns a tensor filled with random integers generated uniformly\n",
      "between :attr:`low` (inclusive) and :attr:`high` (exclusive).\n",
      "\n",
      "The shape of the tensor is defined by the variable argument :attr:`size`.\n",
      "\n",
      ".. note::\n",
      "    With the global dtype default (``torch.float32``), this function returns\n",
      "    a tensor with dtype ``torch.int64``.\n",
      "\n",
      "Args:\n",
      "    low (int, optional): Lowest integer to be drawn from the distribution. Default: 0.\n",
      "    high (int): One above the highest integer to be drawn from the distribution.\n",
      "    size (tuple): a tuple defining the shape of the output tensor.\n",
      "\n",
      "Keyword args:\n",
      "    generator (:class:`torch.Generator`, optional): a pseudorandom number generator for sampling\n",
      "    out (Tensor, optional): the output tensor.\n",
      "    dtype (`torch.dtype`, optional) - the desired data type of returned tensor. Default: if ``None``,\n",
      "        this function returns a tensor with dtype ``torch.int64``.\n",
      "__dict__: not exist \n",
      "\n",
      "metaclass: False\n",
      "class: False\n",
      "decorator: False\n",
      "function: False\n",
      "method: False\n"
     ]
    }
   ],
   "source": [
    "check(torch.randint, n=20)"
   ]
  },
  {
   "cell_type": "markdown",
   "id": "ad1d894f",
   "metadata": {},
   "source": [
    "## MultivariateNormal, torch.diag, mvn.sample\n",
    "creating samples on centroids\n",
    "\n",
    "docs on [MultivariateNormal](https://pytorch.org/docs/stable/distributions.html#multivariatenormal)"
   ]
  },
  {
   "cell_type": "code",
   "execution_count": null,
   "id": "5d3bc3f0",
   "metadata": {},
   "outputs": [],
   "source": [
    "from torch.distributions.multivariate_normal import MultivariateNormal\n",
    "from torch import tensor"
   ]
  },
  {
   "cell_type": "code",
   "execution_count": null,
   "id": "29c14abf",
   "metadata": {},
   "outputs": [
    {
     "data": {
      "text/plain": [
       "tensor([[5., 0.],\n",
       "        [0., 5.]])"
      ]
     },
     "execution_count": null,
     "metadata": {},
     "output_type": "execute_result"
    }
   ],
   "source": [
    "torch.diag(tensor([5.,5.]))"
   ]
  },
  {
   "cell_type": "code",
   "execution_count": null,
   "id": "25d80db7",
   "metadata": {},
   "outputs": [
    {
     "data": {
      "text/plain": [
       "tensor([ 0., 24.])"
      ]
     },
     "execution_count": null,
     "metadata": {},
     "output_type": "execute_result"
    }
   ],
   "source": [
    "c1 = centroids[0]\n",
    "c1"
   ]
  },
  {
   "cell_type": "code",
   "execution_count": null,
   "id": "59c847db",
   "metadata": {},
   "outputs": [
    {
     "data": {
      "text/plain": [
       "tensor([ 0., 24.])"
      ]
     },
     "execution_count": null,
     "metadata": {},
     "output_type": "execute_result"
    },
    {
     "data": {
      "text/plain": [
       "tensor([ 0., 24.])"
      ]
     },
     "execution_count": null,
     "metadata": {},
     "output_type": "execute_result"
    },
    {
     "data": {
      "text/plain": [
       "tensor([[5., 0.],\n",
       "        [0., 5.]])"
      ]
     },
     "execution_count": null,
     "metadata": {},
     "output_type": "execute_result"
    }
   ],
   "source": [
    "mvn = MultivariateNormal(c1, torch.diag(tensor([5.,5.])))\n",
    "c1\n",
    "mvn.mean\n",
    "mvn.covariance_matrix\n",
    "sample = mvn.sample((10,))"
   ]
  },
  {
   "cell_type": "markdown",
   "id": "21ed8e98",
   "metadata": {},
   "source": [
    "Suppose there are two data sets X = {3, 2} and Y = {7, 4}. The sample variance of dataset X = 0.5, and Y = 4.5. The covariance between X and Y is 1.5. The covariance matrix is expressed as follows:\n",
    "\n",
    "```[ 0.5 1.5\n",
    "  1.5 4.5 ]```"
   ]
  },
  {
   "cell_type": "code",
   "execution_count": null,
   "id": "eaa1a6a6",
   "metadata": {},
   "outputs": [
    {
     "data": {
      "text/plain": [
       "(tensor(6.0844), tensor(1.0054))"
      ]
     },
     "execution_count": null,
     "metadata": {},
     "output_type": "execute_result"
    },
    {
     "data": {
      "text/plain": [
       "(tensor(1.0135), tensor(23.4095))"
      ]
     },
     "execution_count": null,
     "metadata": {},
     "output_type": "execute_result"
    },
    {
     "data": {
      "text/plain": [
       "tensor([[ 6.0844, -1.4073],\n",
       "        [-1.4073,  1.0135]])"
      ]
     },
     "execution_count": null,
     "metadata": {},
     "output_type": "execute_result"
    }
   ],
   "source": [
    "torch.var_mean(sample[:,0]) # calc variance and mean\n",
    "torch.var_mean(sample[:,1]) \n",
    "torch.cov(sample.T) # calc covariance matrix"
   ]
  },
  {
   "cell_type": "code",
   "execution_count": null,
   "id": "7f34c1ff",
   "metadata": {},
   "outputs": [
    {
     "name": "stdout",
     "output_type": "stream",
     "text": [
      "signature: (sample_shape=torch.Size([]))\n",
      "__class__: <class 'method'>\n",
      "__repr__: <bound method Distribution.sample of MultivariateNormal(loc: torch.Size([2]), covariance_matrix: torch.Size([2, 2]))>\n",
      "\n",
      "__doc__:\n",
      "Generates a sample_shape shaped sample or sample_shape shaped batch of\n",
      "samples if the distribution parameters are batched.\n",
      "__dict__: \n",
      "{}\n",
      "metaclass: False\n",
      "class: False\n",
      "decorator: False\n",
      "function: False\n",
      "method: True\n"
     ]
    }
   ],
   "source": [
    "check(mvn.sample)"
   ]
  },
  {
   "cell_type": "code",
   "execution_count": null,
   "id": "aed02d69",
   "metadata": {},
   "outputs": [
    {
     "data": {
      "text/plain": [
       "torch.Size([100, 2])"
      ]
     },
     "execution_count": null,
     "metadata": {},
     "output_type": "execute_result"
    }
   ],
   "source": [
    "MultivariateNormal(c1, torch.diag(tensor([5.,5.]))).sample((100,)).shape"
   ]
  },
  {
   "cell_type": "code",
   "execution_count": null,
   "id": "56b9c2c3",
   "metadata": {},
   "outputs": [],
   "source": [
    "def sample(m): return MultivariateNormal(m, torch.diag(tensor([5.,5.]))).sample((n_samples,))"
   ]
  },
  {
   "cell_type": "code",
   "execution_count": null,
   "id": "82dec879",
   "metadata": {},
   "outputs": [
    {
     "data": {
      "text/plain": [
       "torch.Size([6, 2])"
      ]
     },
     "execution_count": null,
     "metadata": {},
     "output_type": "execute_result"
    },
    {
     "data": {
      "text/plain": [
       "[tensor([ 0., 24.]),\n",
       " tensor([-31.,   3.]),\n",
       " tensor([-32., -22.]),\n",
       " tensor([-14.,  26.]),\n",
       " tensor([14., 17.]),\n",
       " tensor([-17.,  34.])]"
      ]
     },
     "execution_count": null,
     "metadata": {},
     "output_type": "execute_result"
    },
    {
     "data": {
      "text/plain": [
       "torch.Size([250, 2])"
      ]
     },
     "execution_count": null,
     "metadata": {},
     "output_type": "execute_result"
    },
    {
     "data": {
      "text/plain": [
       "torch.Size([1500, 2])"
      ]
     },
     "execution_count": null,
     "metadata": {},
     "output_type": "execute_result"
    }
   ],
   "source": [
    "centroids.shape\n",
    "[c for c in centroids]\n",
    "slices = [sample(c) for c in centroids]\n",
    "slices[0].shape\n",
    "data = torch.cat(slices)\n",
    "data.shape"
   ]
  },
  {
   "cell_type": "markdown",
   "id": "d59d8ff5",
   "metadata": {},
   "source": [
    "## plot_centroids_sample, enumerate, plt.scatter, plt.plot\n",
    "plotting centroids and sample"
   ]
  },
  {
   "cell_type": "markdown",
   "id": "f32dc441",
   "metadata": {},
   "source": [
    "Below we can see each centroid marked w/ X, and the coloring associated to each respective cluster."
   ]
  },
  {
   "cell_type": "code",
   "execution_count": null,
   "id": "3a55ab14",
   "metadata": {},
   "outputs": [
    {
     "data": {
      "text/plain": [
       "tensor([[  0.,  24.],\n",
       "        [-31.,   3.],\n",
       "        [-32., -22.],\n",
       "        [-14.,  26.],\n",
       "        [ 14.,  17.],\n",
       "        [-17.,  34.]])"
      ]
     },
     "execution_count": null,
     "metadata": {},
     "output_type": "execute_result"
    }
   ],
   "source": [
    "centroids"
   ]
  },
  {
   "cell_type": "code",
   "execution_count": null,
   "id": "02cd167d",
   "metadata": {},
   "outputs": [],
   "source": [
    "def plot_centroids_sample(centroids, data, n_samples):\n",
    "    for i, centroid in enumerate(centroids):\n",
    "        samples = data[i*n_samples:(i+1)*n_samples]\n",
    "        plt.scatter(samples[:,0], samples[:,1], s=1)\n",
    "        plt.plot(centroid[0], centroid[1], markersize=10, marker=\"x\", color='k', mew=5)\n",
    "        plt.plot(centroid[0], centroid[1], markersize=5, marker=\"x\", color='m', mew=2)"
   ]
  },
  {
   "cell_type": "code",
   "execution_count": null,
   "id": "4fc065c7",
   "metadata": {},
   "outputs": [
    {
     "data": {
      "image/png": "[encoded data removed]",
      "text/plain": [
       "<Figure size 640x480 with 1 Axes>"
      ]
     },
     "metadata": {},
     "output_type": "display_data"
    }
   ],
   "source": [
    "plot_centroids_sample(centroids, data, n_samples)"
   ]
  },
  {
   "cell_type": "markdown",
   "id": "c810e66a",
   "metadata": {},
   "source": [
    "## Mean shift"
   ]
  },
  {
   "cell_type": "markdown",
   "id": "6d190948",
   "metadata": {},
   "source": [
    "Most people that have come across clustering algorithms have learnt about **k-means**. Mean shift clustering is a newer and less well-known approach, but it has some important advantages:\n",
    "* It doesn't require selecting the number of clusters in advance, but instead just requires a **bandwidth** to be specified, which can be easily chosen automatically\n",
    "* It can handle clusters of any shape, whereas k-means (without using special extensions) requires that clusters be roughly ball shaped."
   ]
  },
  {
   "cell_type": "markdown",
   "id": "0ec91a10",
   "metadata": {},
   "source": [
    "The algorithm is as follows:\n",
    "* For each data point x in the sample X, find the distance between that point x and every other point in X\n",
    "* Create weights for each point in X by using the **Gaussian kernel** of that point's distance to x\n",
    "    * This weighting approach penalizes points further away from x\n",
    "    * The rate at which the weights fall to zero is determined by the **bandwidth**, which is the standard deviation of the Gaussian\n",
    "* Update x as the weighted average of all other points in X, weighted based on the previous step\n",
    "\n",
    "This will iteratively push points that are close together even closer until they are next to each other."
   ]
  },
  {
   "cell_type": "markdown",
   "id": "77acd0df",
   "metadata": {},
   "source": [
    "## gaussian kernel"
   ]
  },
  {
   "cell_type": "markdown",
   "id": "f4f96beb",
   "metadata": {},
   "source": [
    "So here's the definition of the gaussian kernel, which you may remember from high school..."
   ]
  },
  {
   "cell_type": "markdown",
   "id": "50fc92d0",
   "metadata": {},
   "source": [
    "### torch.linspace, torch.exp"
   ]
  },
  {
   "cell_type": "code",
   "execution_count": null,
   "id": "4f7f743c",
   "metadata": {},
   "outputs": [
    {
     "name": "stdout",
     "output_type": "stream",
     "text": [
      "signature: None\n",
      "__class__: <class 'builtin_function_or_method'>\n",
      "__repr__: <built-in method linspace of type object>\n",
      "\n",
      "__doc__:\n",
      "linspace(start, end, steps, *, out=None, dtype=None, layout=torch.strided, device=None, requires_grad=False) -> Tensor\n",
      "\n",
      "Creates a one-dimensional tensor of size :attr:`steps` whose values are evenly\n",
      "spaced from :attr:`start` to :attr:`end`, inclusive. That is, the value are:\n",
      "\n",
      ".. math::\n",
      "    (\\text{start},\n",
      "    \\text{start} + \\frac{\\text{end} - \\text{start}}{\\text{steps} - 1},\n",
      "    \\ldots,\n",
      "    \\text{start} + (\\text{steps} - 2) * \\frac{\\text{end} - \\text{start}}{\\text{steps} - 1},\n",
      "    \\text{end})\n",
      "__dict__: not exist \n",
      "\n",
      "metaclass: False\n",
      "class: False\n",
      "decorator: False\n",
      "function: False\n",
      "method: False\n"
     ]
    }
   ],
   "source": [
    "check(torch.linspace)"
   ]
  },
  {
   "cell_type": "code",
   "execution_count": null,
   "id": "0bdfb3f9",
   "metadata": {},
   "outputs": [
    {
     "data": {
      "text/plain": [
       "torch.Size([100])"
      ]
     },
     "execution_count": null,
     "metadata": {},
     "output_type": "execute_result"
    },
    {
     "data": {
      "text/plain": [
       "tensor([ 0.0000,  0.1010,  0.2020,  0.3030,  0.4040,  0.5051,  0.6061,  0.7071,\n",
       "         0.8081,  0.9091,  1.0101,  1.1111,  1.2121,  1.3131,  1.4141,  1.5152,\n",
       "         1.6162,  1.7172,  1.8182,  1.9192,  2.0202,  2.1212,  2.2222,  2.3232,\n",
       "         2.4242,  2.5253,  2.6263,  2.7273,  2.8283,  2.9293,  3.0303,  3.1313,\n",
       "         3.2323,  3.3333,  3.4343,  3.5354,  3.6364,  3.7374,  3.8384,  3.9394,\n",
       "         4.0404,  4.1414,  4.2424,  4.3434,  4.4444,  4.5455,  4.6465,  4.7475,\n",
       "         4.8485,  4.9495,  5.0505,  5.1515,  5.2525,  5.3535,  5.4545,  5.5556,\n",
       "         5.6566,  5.7576,  5.8586,  5.9596,  6.0606,  6.1616,  6.2626,  6.3636,\n",
       "         6.4646,  6.5657,  6.6667,  6.7677,  6.8687,  6.9697,  7.0707,  7.1717,\n",
       "         7.2727,  7.3737,  7.4747,  7.5758,  7.6768,  7.7778,  7.8788,  7.9798,\n",
       "         8.0808,  8.1818,  8.2828,  8.3838,  8.4848,  8.5859,  8.6869,  8.7879,\n",
       "         8.8889,  8.9899,  9.0909,  9.1919,  9.2929,  9.3939,  9.4950,  9.5960,\n",
       "         9.6970,  9.7980,  9.8990, 10.0000])"
      ]
     },
     "execution_count": null,
     "metadata": {},
     "output_type": "execute_result"
    }
   ],
   "source": [
    "x = torch.linspace(0,10,100)\n",
    "x.shape\n",
    "x"
   ]
  },
  {
   "cell_type": "code",
   "execution_count": null,
   "id": "b9c01be8",
   "metadata": {},
   "outputs": [
    {
     "name": "stdout",
     "output_type": "stream",
     "text": [
      "signature: None\n",
      "__class__: <class 'builtin_function_or_method'>\n",
      "__repr__: <built-in method exp of type object>\n",
      "\n",
      "__doc__:\n",
      "exp(input, *, out=None) -> Tensor\n",
      "\n",
      "Returns a new tensor with the exponential of the elements\n",
      "of the input tensor :attr:`input`.\n",
      "\n",
      ".. math::\n",
      "    y_{i} = e^{x_{i}}\n",
      "\n",
      "Args:\n",
      "    input (Tensor): the input tensor.\n",
      "\n",
      "__dict__: not exist \n",
      "\n",
      "metaclass: False\n",
      "class: False\n",
      "decorator: False\n",
      "function: False\n",
      "method: False\n"
     ]
    }
   ],
   "source": [
    "check(torch.exp)"
   ]
  },
  {
   "cell_type": "markdown",
   "id": "61ce88ae",
   "metadata": {},
   "source": [
    "### gaussian kernel in sympy"
   ]
  },
  {
   "cell_type": "code",
   "execution_count": null,
   "id": "0a22610a",
   "metadata": {},
   "outputs": [],
   "source": [
    "from sympy import sympify, plot, pi, exp, symbols, sqrt, Eq"
   ]
  },
  {
   "cell_type": "code",
   "execution_count": null,
   "id": "2bbb0cc1",
   "metadata": {},
   "outputs": [],
   "source": [
    "d, bw, G_1d = symbols(\"d,bw, G_1d\")"
   ]
  },
  {
   "cell_type": "code",
   "execution_count": null,
   "id": "59df5cd2",
   "metadata": {},
   "outputs": [
    {
     "data": {
      "text/latex": [
       "$\\displaystyle e^{- \\frac{0.5 d^{2}}{bw^{2}}}$"
      ],
      "text/plain": [
       "exp(-0.5*d**2/bw**2)"
      ]
     },
     "execution_count": null,
     "metadata": {},
     "output_type": "execute_result"
    }
   ],
   "source": [
    "exp(-0.5*((d/bw))**2)"
   ]
  },
  {
   "cell_type": "code",
   "execution_count": null,
   "id": "a972cc8a",
   "metadata": {},
   "outputs": [
    {
     "data": {
      "text/latex": [
       "$\\displaystyle \\frac{\\sqrt{2} e^{- \\frac{0.5 d^{2}}{bw^{2}}}}{2 \\sqrt{\\pi} bw}$"
      ],
      "text/plain": [
       "sqrt(2)*exp(-0.5*d**2/bw**2)/(2*sqrt(pi)*bw)"
      ]
     },
     "execution_count": null,
     "metadata": {},
     "output_type": "execute_result"
    }
   ],
   "source": [
    "expr = exp(-0.5*((d/bw))**2)/(bw*sqrt(2*pi))\n",
    "expr"
   ]
  },
  {
   "cell_type": "code",
   "execution_count": null,
   "id": "d3ccac18",
   "metadata": {},
   "outputs": [
    {
     "data": {
      "text/latex": [
       "$\\displaystyle G_{1d} = \\frac{\\sqrt{2} e^{- \\frac{0.5 d^{2}}{bw^{2}}}}{2 \\sqrt{\\pi} bw}$"
      ],
      "text/plain": [
       "Eq(G_1d, sqrt(2)*exp(-0.5*d**2/bw**2)/(2*sqrt(pi)*bw))"
      ]
     },
     "execution_count": null,
     "metadata": {},
     "output_type": "execute_result"
    }
   ],
   "source": [
    "Eq(G_1d, expr)"
   ]
  },
  {
   "cell_type": "code",
   "execution_count": null,
   "id": "d61156a8",
   "metadata": {},
   "outputs": [
    {
     "data": {
      "text/latex": [
       "$\\displaystyle \\frac{\\sqrt{2} e^{- \\frac{0.5 d^{2}}{bw^{2}}}}{2 \\sqrt{\\pi} bw}$"
      ],
      "text/plain": [
       "sqrt(2)*exp(-0.5*d**2/bw**2)/(2*sqrt(pi)*bw)"
      ]
     },
     "execution_count": null,
     "metadata": {},
     "output_type": "execute_result"
    },
    {
     "data": {
      "text/latex": [
       "$\\displaystyle \\frac{0.2 \\sqrt{2} e^{- 0.08 d^{2}}}{\\sqrt{\\pi}}$"
      ],
      "text/plain": [
       "0.2*sqrt(2)*exp(-0.08*d**2)/sqrt(pi)"
      ]
     },
     "execution_count": null,
     "metadata": {},
     "output_type": "execute_result"
    }
   ],
   "source": [
    "expr\n",
    "expr1 = expr.subs({bw: 2.5})\n",
    "expr1"
   ]
  },
  {
   "cell_type": "code",
   "execution_count": null,
   "id": "f554ca2f",
   "metadata": {},
   "outputs": [
    {
     "data": {
      "image/png": "[encoded data removed]",
      "text/plain": [
       "<Figure size 640x480 with 1 Axes>"
      ]
     },
     "metadata": {},
     "output_type": "display_data"
    },
    {
     "data": {
      "text/plain": [
       "<sympy.plotting.plot.Plot>"
      ]
     },
     "execution_count": null,
     "metadata": {},
     "output_type": "execute_result"
    }
   ],
   "source": [
    "plot(expr1)"
   ]
  },
  {
   "cell_type": "markdown",
   "id": "08ac8a23",
   "metadata": {},
   "source": [
    "### gaussian kernel for weight"
   ]
  },
  {
   "cell_type": "code",
   "execution_count": null,
   "id": "352476bd",
   "metadata": {},
   "outputs": [],
   "source": [
    "def gaussian(d, bw): return torch.exp(-0.5*((d/bw))**2) / (bw*math.sqrt(2*math.pi))"
   ]
  },
  {
   "cell_type": "code",
   "execution_count": null,
   "id": "6b625c99",
   "metadata": {},
   "outputs": [
    {
     "data": {
      "text/plain": [
       "tensor([ 0.0000,  0.1010,  0.2020,  0.3030,  0.4040,  0.5051,  0.6061,  0.7071,\n",
       "         0.8081,  0.9091,  1.0101,  1.1111,  1.2121,  1.3131,  1.4141,  1.5152,\n",
       "         1.6162,  1.7172,  1.8182,  1.9192,  2.0202,  2.1212,  2.2222,  2.3232,\n",
       "         2.4242,  2.5253,  2.6263,  2.7273,  2.8283,  2.9293,  3.0303,  3.1313,\n",
       "         3.2323,  3.3333,  3.4343,  3.5354,  3.6364,  3.7374,  3.8384,  3.9394,\n",
       "         4.0404,  4.1414,  4.2424,  4.3434,  4.4444,  4.5455,  4.6465,  4.7475,\n",
       "         4.8485,  4.9495,  5.0505,  5.1515,  5.2525,  5.3535,  5.4545,  5.5556,\n",
       "         5.6566,  5.7576,  5.8586,  5.9596,  6.0606,  6.1616,  6.2626,  6.3636,\n",
       "         6.4646,  6.5657,  6.6667,  6.7677,  6.8687,  6.9697,  7.0707,  7.1717,\n",
       "         7.2727,  7.3737,  7.4747,  7.5758,  7.6768,  7.7778,  7.8788,  7.9798,\n",
       "         8.0808,  8.1818,  8.2828,  8.3838,  8.4848,  8.5859,  8.6869,  8.7879,\n",
       "         8.8889,  8.9899,  9.0909,  9.1919,  9.2929,  9.3939,  9.4950,  9.5960,\n",
       "         9.6970,  9.7980,  9.8990, 10.0000])"
      ]
     },
     "execution_count": null,
     "metadata": {},
     "output_type": "execute_result"
    }
   ],
   "source": [
    "x"
   ]
  },
  {
   "cell_type": "code",
   "execution_count": null,
   "id": "290d2ffb",
   "metadata": {},
   "outputs": [
    {
     "data": {
      "image/png": "[encoded data removed]",
      "text/plain": [
       "<Figure size 640x480 with 1 Axes>"
      ]
     },
     "metadata": {},
     "output_type": "display_data"
    }
   ],
   "source": [
    "plt.plot(x, gaussian(x,2.5));"
   ]
  },
  {
   "cell_type": "markdown",
   "id": "cc8782c1",
   "metadata": {},
   "source": [
    " This person at the science march certainly remembered!\n",
    "\n",
    "<img src=\"http://i.imgur.com/nijQLHw.jpg\" width=400>"
   ]
  },
  {
   "cell_type": "markdown",
   "id": "7b7c8f92",
   "metadata": {},
   "source": [
    "In our implementation, we choose the bandwidth to be 2.5. \n",
    "\n",
    "One easy way to choose bandwidth is to find which bandwidth covers one third of the data."
   ]
  },
  {
   "cell_type": "markdown",
   "id": "ac29b30b",
   "metadata": {},
   "source": [
    "### from distance to weight"
   ]
  },
  {
   "cell_type": "code",
   "execution_count": null,
   "id": "c6ba31d5",
   "metadata": {},
   "outputs": [
    {
     "data": {
      "text/plain": [
       "torch.Size([1500, 2])"
      ]
     },
     "execution_count": null,
     "metadata": {},
     "output_type": "execute_result"
    },
    {
     "data": {
      "text/plain": [
       "(tensor([[ -2.2934,  25.1656],\n",
       "         [ -1.0131,  23.7182],\n",
       "         [  5.2227,  22.6092],\n",
       "         ...,\n",
       "         [-17.3308,  33.4929],\n",
       "         [-12.5499,  33.5847],\n",
       "         [-16.5074,  35.8346]]),\n",
       " tensor([-2.2934, 25.1656]))"
      ]
     },
     "execution_count": null,
     "metadata": {},
     "output_type": "execute_result"
    }
   ],
   "source": [
    "X = data.clone()\n",
    "x = data[0]\n",
    "data.shape\n",
    "X, x"
   ]
  },
  {
   "cell_type": "code",
   "execution_count": null,
   "id": "3fb72677",
   "metadata": {},
   "outputs": [
    {
     "data": {
      "text/latex": [
       "$\\displaystyle \\sqrt{a^{2} + b^{2}}$"
      ],
      "text/plain": [
       "sqrt(a**2 + b**2)"
      ]
     },
     "execution_count": null,
     "metadata": {},
     "output_type": "execute_result"
    }
   ],
   "source": [
    "sympify(\"sqrt(a**2 + b**2)\")"
   ]
  },
  {
   "cell_type": "code",
   "execution_count": null,
   "id": "7d206b84",
   "metadata": {},
   "outputs": [
    {
     "data": {
      "text/plain": [
       "tensor([[  0.0000,   0.0000],\n",
       "        [ -1.2803,   1.4474],\n",
       "        [ -7.5161,   2.5564],\n",
       "        ...,\n",
       "        [ 15.0373,  -8.3273],\n",
       "        [ 10.2565,  -8.4191],\n",
       "        [ 14.2140, -10.6690]])"
      ]
     },
     "execution_count": null,
     "metadata": {},
     "output_type": "execute_result"
    },
    {
     "data": {
      "text/plain": [
       "tensor([[  0.0000,   0.0000],\n",
       "        [  1.6393,   2.0948],\n",
       "        [ 56.4922,   6.5353],\n",
       "        ...,\n",
       "        [226.1211,  69.3436],\n",
       "        [105.1960,  70.8818],\n",
       "        [202.0365, 113.8286]])"
      ]
     },
     "execution_count": null,
     "metadata": {},
     "output_type": "execute_result"
    },
    {
     "data": {
      "text/plain": [
       "tensor([  0.0000,   3.7341,  63.0275,  ..., 295.4647, 176.0777, 315.8650])"
      ]
     },
     "execution_count": null,
     "metadata": {},
     "output_type": "execute_result"
    },
    {
     "data": {
      "text/plain": [
       "tensor([ 0.0000,  1.9324,  7.9390,  ..., 17.1891, 13.2694, 17.7726])"
      ]
     },
     "execution_count": null,
     "metadata": {},
     "output_type": "execute_result"
    }
   ],
   "source": [
    "x-X\n",
    "(x-X)**2\n",
    "((x-X)**2).sum(1)\n",
    "torch.sqrt(((x-X)**2).sum(1))"
   ]
  },
  {
   "cell_type": "code",
   "execution_count": null,
   "id": "26550eca",
   "metadata": {},
   "outputs": [
    {
     "data": {
      "text/plain": [
       "torch.Size([1500])"
      ]
     },
     "execution_count": null,
     "metadata": {},
     "output_type": "execute_result"
    },
    {
     "data": {
      "text/plain": [
       "(tensor(0.), tensor(61.8455))"
      ]
     },
     "execution_count": null,
     "metadata": {},
     "output_type": "execute_result"
    }
   ],
   "source": [
    "dist = torch.sqrt(((x-X)**2).sum(1))\n",
    "dist.shape\n",
    "dist.min(), dist.max()"
   ]
  },
  {
   "cell_type": "code",
   "execution_count": null,
   "id": "eebd69b3",
   "metadata": {},
   "outputs": [
    {
     "data": {
      "text/plain": [
       "tensor([1.5958e-01, 1.1837e-01, 1.0308e-03,  ..., 8.6591e-12, 1.2173e-07,\n",
       "        1.6932e-12])"
      ]
     },
     "execution_count": null,
     "metadata": {},
     "output_type": "execute_result"
    }
   ],
   "source": [
    "weight = gaussian(dist, 2.5)\n",
    "weight"
   ]
  },
  {
   "cell_type": "code",
   "execution_count": null,
   "id": "966cabba",
   "metadata": {},
   "outputs": [
    {
     "data": {
      "text/plain": [
       "(torch.Size([1500]), torch.Size([1500, 2]))"
      ]
     },
     "execution_count": null,
     "metadata": {},
     "output_type": "execute_result"
    },
    {
     "data": {
      "text/plain": [
       "torch.Size([1500, 1])"
      ]
     },
     "execution_count": null,
     "metadata": {},
     "output_type": "execute_result"
    }
   ],
   "source": [
    "weight.shape,X.shape\n",
    "weight[:, None].shape"
   ]
  },
  {
   "cell_type": "code",
   "execution_count": null,
   "id": "1e2b3bc2",
   "metadata": {},
   "outputs": [
    {
     "data": {
      "text/plain": [
       "tensor([[-3.6598e-01,  4.0158e+00],\n",
       "        [-1.1992e-01,  2.8075e+00],\n",
       "        [ 5.3835e-03,  2.3305e-02],\n",
       "        ...,\n",
       "        [-1.5007e-10,  2.9002e-10],\n",
       "        [-1.5277e-06,  4.0883e-06],\n",
       "        [-2.7950e-11,  6.0673e-11]])"
      ]
     },
     "execution_count": null,
     "metadata": {},
     "output_type": "execute_result"
    }
   ],
   "source": [
    "(weight[:,None]*X)"
   ]
  },
  {
   "cell_type": "code",
   "execution_count": null,
   "id": "9a172c93",
   "metadata": {},
   "outputs": [
    {
     "data": {
      "text/plain": [
       "tensor([-18.4532, 425.6993])"
      ]
     },
     "execution_count": null,
     "metadata": {},
     "output_type": "execute_result"
    },
    {
     "data": {
      "text/plain": [
       "tensor(17.3609)"
      ]
     },
     "execution_count": null,
     "metadata": {},
     "output_type": "execute_result"
    }
   ],
   "source": [
    "(weight[:,None]*X).sum(0)\n",
    "weight.sum()"
   ]
  },
  {
   "cell_type": "markdown",
   "id": "6c73b324",
   "metadata": {},
   "source": [
    "## meanshift"
   ]
  },
  {
   "cell_type": "code",
   "execution_count": null,
   "id": "777ca29f",
   "metadata": {},
   "outputs": [],
   "source": [
    "def meanshift(data):\n",
    "    X = data.clone()\n",
    "    for it in range(5):\n",
    "        for i, x in enumerate(X):\n",
    "            dist = torch.sqrt(((x-X)**2).sum(1))\n",
    "            weight = gaussian(dist, 2.5)\n",
    "            X[i] = (weight[:,None]*X).sum(0)/weight.sum()\n",
    "    return X"
   ]
  },
  {
   "cell_type": "code",
   "execution_count": null,
   "id": "34a1c2d4",
   "metadata": {},
   "outputs": [
    {
     "name": "stdout",
     "output_type": "stream",
     "text": [
      "CPU times: user 277 ms, sys: 1 ms, total: 278 ms\n",
      "Wall time: 278 ms\n"
     ]
    }
   ],
   "source": [
    "%time X=meanshift(data)"
   ]
  },
  {
   "cell_type": "code",
   "execution_count": null,
   "id": "272bb047",
   "metadata": {},
   "outputs": [
    {
     "data": {
      "text/plain": [
       "torch.Size([1500, 2])"
      ]
     },
     "execution_count": null,
     "metadata": {},
     "output_type": "execute_result"
    },
    {
     "data": {
      "text/plain": [
       "torch.Size([1500, 2])"
      ]
     },
     "execution_count": null,
     "metadata": {},
     "output_type": "execute_result"
    }
   ],
   "source": [
    "data.shape\n",
    "X.shape\n"
   ]
  },
  {
   "cell_type": "markdown",
   "id": "a0a81eec",
   "metadata": {},
   "source": [
    "We can see that mean shift clustering has almost reproduced our original clustering. The one exception are the very close clusters, but if we really wanted to differentiate them we could lower the bandwidth.\n",
    "\n",
    "What is impressive is that this algorithm nearly reproduced the original clusters without telling it how many clusters there should be."
   ]
  },
  {
   "cell_type": "code",
   "execution_count": null,
   "id": "261f010b",
   "metadata": {},
   "outputs": [
    {
     "data": {
      "text/plain": [
       "(tensor([[  2.,  26.],\n",
       "         [-29.,   5.],\n",
       "         [-30., -20.],\n",
       "         [-12.,  28.],\n",
       "         [ 16.,  19.],\n",
       "         [-15.,  36.]]),\n",
       " tensor([[ -0.1667,  24.2604],\n",
       "         [ -0.1667,  24.2604],\n",
       "         [ -0.1667,  24.2604],\n",
       "         ...,\n",
       "         [-15.4105,  30.0576],\n",
       "         [-15.4081,  30.0514],\n",
       "         [-15.4071,  30.0487]]),\n",
       " 250)"
      ]
     },
     "execution_count": null,
     "metadata": {},
     "output_type": "execute_result"
    }
   ],
   "source": [
    "centroids+2, X, n_samples"
   ]
  },
  {
   "cell_type": "code",
   "execution_count": null,
   "id": "cf39aee2",
   "metadata": {},
   "outputs": [
    {
     "data": {
      "image/png": "[encoded data removed]",
      "text/plain": [
       "<Figure size 640x480 with 1 Axes>"
      ]
     },
     "metadata": {},
     "output_type": "display_data"
    }
   ],
   "source": [
    "plot_centroids_sample(centroids+2, X, n_samples)"
   ]
  },
  {
   "cell_type": "markdown",
   "id": "760b5e46",
   "metadata": {},
   "source": [
    "All the computation is happening in the <tt>for</tt> loop, which isn't accelerated by pytorch. Each iteration launches a new cuda kernel, which takes time and slows the algorithm down as a whole. Furthermore, each iteration doesn't have enough processing to do to fill up all of the threads of the GPU. But at least the results are correct...\n",
    "\n",
    "We should be able to accelerate this algorithm with a GPU."
   ]
  },
  {
   "cell_type": "markdown",
   "id": "2cd299b4",
   "metadata": {},
   "source": [
    "## GPU batched algorithm"
   ]
  },
  {
   "cell_type": "markdown",
   "id": "914bb52d",
   "metadata": {},
   "source": [
    "To truly accelerate the algorithm, we need to be performing updates on a batch of points per iteration, instead of just one as we were doing."
   ]
  },
  {
   "cell_type": "code",
   "execution_count": null,
   "id": "6888258a",
   "metadata": {},
   "outputs": [],
   "source": [
    "def dist_b(a,b): return torch.sqrt(((a[None]-b[:,None])**2).sum(2))"
   ]
  },
  {
   "cell_type": "code",
   "execution_count": null,
   "id": "0cda3736",
   "metadata": {},
   "outputs": [
    {
     "data": {
      "text/plain": [
       "(torch.Size([1, 8, 2]), torch.Size([5, 1, 2]))"
      ]
     },
     "execution_count": null,
     "metadata": {},
     "output_type": "execute_result"
    }
   ],
   "source": [
    "X=torch.rand(8,2)\n",
    "x=torch.rand(5,2)\n",
    "X[None].shape, x[:,None].shape # to make sure broadcast is available"
   ]
  },
  {
   "cell_type": "code",
   "execution_count": null,
   "id": "8fb20321",
   "metadata": {},
   "outputs": [
    {
     "data": {
      "text/plain": [
       "torch.Size([5, 8])"
      ]
     },
     "execution_count": null,
     "metadata": {},
     "output_type": "execute_result"
    }
   ],
   "source": [
    "dist_b(X, x).shape"
   ]
  },
  {
   "cell_type": "code",
   "execution_count": null,
   "id": "e08090d5",
   "metadata": {},
   "outputs": [
    {
     "data": {
      "text/plain": [
       "torch.Size([5, 1500])"
      ]
     },
     "execution_count": null,
     "metadata": {},
     "output_type": "execute_result"
    }
   ],
   "source": [
    "bs=5\n",
    "X = data.clone()\n",
    "x = X[:bs]\n",
    "weight = gaussian(dist_b(X, x), 2)\n",
    "weight.shape"
   ]
  },
  {
   "cell_type": "code",
   "execution_count": null,
   "id": "a2867404",
   "metadata": {},
   "outputs": [
    {
     "data": {
      "text/plain": [
       "(torch.Size([5, 1500]), torch.Size([1500, 2]))"
      ]
     },
     "execution_count": null,
     "metadata": {},
     "output_type": "execute_result"
    },
    {
     "data": {
      "text/plain": [
       "(torch.Size([5, 1500, 1]), torch.Size([1, 1500, 2]))"
      ]
     },
     "execution_count": null,
     "metadata": {},
     "output_type": "execute_result"
    }
   ],
   "source": [
    "weight.shape,X.shape\n",
    "weight[..., None].shape,X[None].shape"
   ]
  },
  {
   "cell_type": "code",
   "execution_count": null,
   "id": "b4192c40",
   "metadata": {},
   "outputs": [
    {
     "data": {
      "text/plain": [
       "torch.Size([5, 2])"
      ]
     },
     "execution_count": null,
     "metadata": {},
     "output_type": "execute_result"
    }
   ],
   "source": [
    "num = (weight[...,None]*X[None]).sum(1)\n",
    "num.shape"
   ]
  },
  {
   "cell_type": "code",
   "execution_count": null,
   "id": "6d39a151",
   "metadata": {},
   "outputs": [
    {
     "data": {
      "text/plain": [
       "torch.Size([5, 1])"
      ]
     },
     "execution_count": null,
     "metadata": {},
     "output_type": "execute_result"
    }
   ],
   "source": [
    "div = weight.sum(1, keepdim=True)\n",
    "div.shape"
   ]
  },
  {
   "cell_type": "code",
   "execution_count": null,
   "id": "3fe09eb3",
   "metadata": {},
   "outputs": [
    {
     "data": {
      "text/plain": [
       "tensor([[-1.2688, 24.6079],\n",
       "        [-0.5848, 23.9076],\n",
       "        [ 2.8672, 23.3891],\n",
       "        [-0.3928, 22.5619],\n",
       "        [-1.2959, 23.5955]])"
      ]
     },
     "execution_count": null,
     "metadata": {},
     "output_type": "execute_result"
    }
   ],
   "source": [
    "num/div"
   ]
  },
  {
   "cell_type": "code",
   "execution_count": null,
   "id": "73325bcd",
   "metadata": {},
   "outputs": [],
   "source": [
    "from fastcore.all import chunked"
   ]
  },
  {
   "cell_type": "code",
   "execution_count": null,
   "id": "f79c97ec",
   "metadata": {},
   "outputs": [
    {
     "data": {
      "text/plain": [
       "tensor([[-2.2934, 25.1656],\n",
       "        [-0.2641, 20.7757]])"
      ]
     },
     "execution_count": null,
     "metadata": {},
     "output_type": "execute_result"
    }
   ],
   "source": [
    "X[slice(0,5,3)]"
   ]
  },
  {
   "cell_type": "code",
   "execution_count": null,
   "id": "bab9a738",
   "metadata": {},
   "outputs": [],
   "source": [
    "from snoop import snoop"
   ]
  },
  {
   "cell_type": "code",
   "execution_count": null,
   "id": "1a2be68b",
   "metadata": {},
   "outputs": [],
   "source": [
    "@snoop\n",
    "def meanshift(data, bs=500):\n",
    "    n = len(data)\n",
    "    X = data.clone()\n",
    "    for it in range(5):\n",
    "        for i in range(0, n, bs):\n",
    "            s = slice(i, min(i+bs,n))\n",
    "            weight = gaussian(dist_b(X, X[s]), 2)\n",
    "            num = (weight[...,None]*X[None]).sum(1)\n",
    "            div = weight.sum(1, keepdim=True)\n",
    "            X[s] = num/div\n",
    "    return X"
   ]
  },
  {
   "cell_type": "markdown",
   "id": "44095902",
   "metadata": {},
   "source": [
    "Although each iteration still has to launch a new cuda kernel, there are now fewer iterations, and the acceleration from updating a batch of points more than makes up for it."
   ]
  },
  {
   "cell_type": "code",
   "execution_count": null,
   "id": "027dc697",
   "metadata": {},
   "outputs": [],
   "source": [
    "data = data.cuda()"
   ]
  },
  {
   "cell_type": "code",
   "execution_count": null,
   "id": "dd503649",
   "metadata": {},
   "outputs": [
    {
     "data": {
      "text/plain": [
       "tensor([[ -2.2934,  25.1656],\n",
       "        [ -1.0131,  23.7182],\n",
       "        [  5.2227,  22.6092],\n",
       "        ...,\n",
       "        [-17.3308,  33.4929],\n",
       "        [-12.5499,  33.5847],\n",
       "        [-16.5074,  35.8346]])"
      ]
     },
     "execution_count": null,
     "metadata": {},
     "output_type": "execute_result"
    }
   ],
   "source": [
    "data"
   ]
  },
  {
   "cell_type": "code",
   "execution_count": null,
   "id": "0d039026",
   "metadata": {},
   "outputs": [
    {
     "name": "stderr",
     "output_type": "stream",
     "text": [
      "19:40:38.25 >>> Call to meanshift in File \"/var/folders/gz/ch3n2mp51m9386sytqf97s6w0000gn/T/ipykernel_75606/4090697584.py\", line 2\n",
      "19:40:38.25 ...... data = tensor([[ -2.2934,  25.1656],\n",
      "19:40:38.25                       [ -1.0131,...2.5499,  33.5847],\n",
      "19:40:38.25                       [-16.5074,  35.8346]])\n",
      "19:40:38.25 ...... data.shape = (1500, 2)\n",
      "19:40:38.25 ...... data.dtype = torch.float32\n",
      "19:40:38.25 ...... bs = 500\n",
      "19:40:38.25    2 | def meanshift(data, bs=500):\n",
      "19:40:38.25    3 |     n = len(data)\n",
      "19:40:38.25 .......... n = 1500\n",
      "19:40:38.25    4 |     X = data.clone()\n",
      "19:40:38.25 .......... X = tensor([[ -2.2934,  25.1656],\n",
      "19:40:38.25                        [ -1.0131,...2.5499,  33.5847],\n",
      "19:40:38.25                        [-16.5074,  35.8346]])\n",
      "19:40:38.25 .......... X.shape = (1500, 2)\n",
      "19:40:38.25 .......... X.dtype = torch.float32\n",
      "19:40:38.25    5 |     for it in range(5):\n",
      "19:40:38.25 .......... it = 0\n",
      "19:40:38.25    6 |         for i in range(0, n, bs):\n",
      "19:40:38.25 .............. i = 0\n",
      "19:40:38.25    7 |             s = slice(i, min(i+bs,n))\n",
      "19:40:38.26 .................. s = slice(0, 500, None)\n",
      "19:40:38.26    8 |             weight = gaussian(dist_b(X, X[s]), 2)\n",
      "19:40:38.26 .................. weight = tensor([[1.9947e-01, 1.2507e-01, 7.5565e-05,  ......, 0.0000e+00, 0.0000e+00,\n",
      "19:40:38.26                                      0.0000e+00]])\n",
      "19:40:38.26 .................. weight.shape = (500, 1500)\n",
      "19:40:38.26 .................. weight.dtype = torch.float32\n",
      "19:40:38.26    9 |             num = (weight[...,None]*X[None]).sum(1)\n",
      "19:40:38.27 .................. num = tensor([[-2.0126e+01,  3.9035e+02],\n",
      "19:40:38.27                                  [-1....4.1320e+01],\n",
      "19:40:38.27                                  [-6.5962e+02,  4.2435e+01]])\n",
      "19:40:38.27 .................. num.shape = (500, 2)\n",
      "19:40:38.27 .................. num.dtype = torch.float32\n",
      "19:40:38.27   10 |             div = weight.sum(1, keepdim=True)\n",
      "19:40:38.28 .................. div = tensor([[15.8627],\n",
      "19:40:38.28                                  [21.5736],\n",
      "19:40:38.28                                  [ ...[15.2682],\n",
      "19:40:38.28                                  [12.5273],\n",
      "19:40:38.28                                  [21.1957]])\n",
      "19:40:38.28 .................. div.shape = (500, 1)\n",
      "19:40:38.28 .................. div.dtype = torch.float32\n",
      "19:40:38.28   11 |             X[s] = num/div\n",
      "19:40:38.29 .................. X = tensor([[ -1.2688,  24.6079],\n",
      "19:40:38.29                                [ -0.5848,...2.5499,  33.5847],\n",
      "19:40:38.29                                [-16.5074,  35.8346]])\n",
      "19:40:38.29    6 |         for i in range(0, n, bs):\n",
      "19:40:38.30 .............. i = 500\n",
      "19:40:38.30    7 |             s = slice(i, min(i+bs,n))\n",
      "19:40:38.31 .................. s = slice(500, 1000, None)\n",
      "19:40:38.31    8 |             weight = gaussian(dist_b(X, X[s]), 2)\n",
      "19:40:38.32 .................. weight = tensor([[0.0000e+00, 0.0000e+00, 0.0000e+00,  ......, 8.7558e-02, 3.9484e-02,\n",
      "19:40:38.32                                      1.9519e-02]])\n",
      "19:40:38.32    9 |             num = (weight[...,None]*X[None]).sum(1)\n",
      "19:40:38.33 .................. num = tensor([[-639.5085, -448.8248],\n",
      "19:40:38.33                                  [-613.72...666,  456.5186],\n",
      "19:40:38.33                                  [-303.0859,  611.3094]])\n",
      "19:40:38.33   10 |             div = weight.sum(1, keepdim=True)\n",
      "19:40:38.34 .................. div = tensor([[19.8963],\n",
      "19:40:38.34                                  [18.8103],\n",
      "19:40:38.34                                  [1...[18.9626],\n",
      "19:40:38.34                                  [16.1867],\n",
      "19:40:38.34                                  [19.0076]])\n",
      "19:40:38.34   11 |             X[s] = num/div\n",
      "19:40:38.34    6 |         for i in range(0, n, bs):\n",
      "19:40:38.35 .............. i = 1000\n",
      "19:40:38.35    7 |             s = slice(i, min(i+bs,n))\n",
      "19:40:38.36 .................. s = slice(1000, 1500, None)\n",
      "19:40:38.36    8 |             weight = gaussian(dist_b(X, X[s]), 2)\n",
      "19:40:38.37 .................. weight = tensor([[1.8132e-18, 1.1159e-16, 1.4952e-11,  ......, 9.2337e-02, 1.4958e-02,\n",
      "19:40:38.37                                      1.9947e-01]])\n",
      "19:40:38.37    9 |             num = (weight[...,None]*X[None]).sum(1)\n",
      "19:40:38.38 .................. num = tensor([[ 226.7034,  264.0108],\n",
      "19:40:38.38                                  [ 276.20...237,  276.8312],\n",
      "19:40:38.38                                  [-326.6890,  684.9297]])\n",
      "19:40:38.38   10 |             div = weight.sum(1, keepdim=True)\n",
      "19:40:38.39 .................. div = tensor([[16.5020],\n",
      "19:40:38.39                                  [20.5671],\n",
      "19:40:38.39                                  [2...[24.1956],\n",
      "19:40:38.39                                  [ 8.2459],\n",
      "19:40:38.39                                  [19.6041]])\n",
      "19:40:38.39   11 |             X[s] = num/div\n",
      "19:40:38.40 .................. X = tensor([[ -1.2688,  24.6079],\n",
      "19:40:38.40                                [ -0.5848,...4.6769,  33.5721],\n",
      "19:40:38.40                                [-16.6643,  34.9381]])\n",
      "19:40:38.40    6 |         for i in range(0, n, bs):\n",
      "19:40:38.40    5 |     for it in range(5):\n",
      "19:40:38.41 .......... it = 1\n",
      "19:40:38.41    6 |         for i in range(0, n, bs):\n",
      "19:40:38.42 .............. i = 0\n",
      "19:40:38.42    7 |             s = slice(i, min(i+bs,n))\n",
      "19:40:38.43 .................. s = slice(0, 500, None)\n",
      "19:40:38.43    8 |             weight = gaussian(dist_b(X, X[s]), 2)\n",
      "19:40:38.44 .................. weight = tensor([[1.9947e-01, 1.7695e-01, 1.9526e-02,  ......, 0.0000e+00, 0.0000e+00,\n",
      "19:40:38.44                                      0.0000e+00]])\n",
      "19:40:38.44    9 |             num = (weight[...,None]*X[None]).sum(1)\n",
      "19:40:38.45 .................. num = tensor([[-1.2080e+01,  7.6440e+02],\n",
      "19:40:38.45                                  [-7....7.7165e+01],\n",
      "19:40:38.45                                  [-1.0821e+03,  8.4763e+01]])\n",
      "19:40:38.45   10 |             div = weight.sum(1, keepdim=True)\n",
      "19:40:38.46 .................. div = tensor([[31.5374],\n",
      "19:40:38.46                                  [35.6308],\n",
      "19:40:38.46                                  [1...[30.3101],\n",
      "19:40:38.46                                  [27.3907],\n",
      "19:40:38.46                                  [34.7660]])\n",
      "19:40:38.46   11 |             X[s] = num/div\n",
      "19:40:38.46 .................. X = tensor([[ -0.3830,  24.2378],\n",
      "19:40:38.46                                [ -0.2031,...4.6769,  33.5721],\n",
      "19:40:38.46                                [-16.6643,  34.9381]])\n",
      "19:40:38.46    6 |         for i in range(0, n, bs):\n",
      "19:40:38.47 .............. i = 500\n",
      "19:40:38.47    7 |             s = slice(i, min(i+bs,n))\n",
      "19:40:38.48 .................. s = slice(500, 1000, None)\n",
      "19:40:38.48    8 |             weight = gaussian(dist_b(X, X[s]), 2)\n",
      "19:40:38.50 .................. weight = tensor([[0.0000e+00, 0.0000e+00, 0.0000e+00,  ......, 1.2983e-01, 1.2719e-01,\n",
      "19:40:38.50                                      7.1329e-02]])\n",
      "19:40:38.50    9 |             num = (weight[...,None]*X[None]).sum(1)\n",
      "19:40:38.51 .................. num = tensor([[-1062.2085,  -739.7573],\n",
      "19:40:38.51                                  [-1035...,   657.0061],\n",
      "19:40:38.51                                  [ -466.8282,   937.2610]])\n",
      "19:40:38.51   10 |             div = weight.sum(1, keepdim=True)\n",
      "19:40:38.52 .................. div = tensor([[33.2794],\n",
      "19:40:38.52                                  [32.3154],\n",
      "19:40:38.52                                  [3...[30.6870],\n",
      "19:40:38.52                                  [24.2139],\n",
      "19:40:38.52                                  [28.3226]])\n",
      "19:40:38.52   11 |             X[s] = num/div\n",
      "19:40:38.52    6 |         for i in range(0, n, bs):\n",
      "19:40:38.53 .............. i = 1000\n",
      "19:40:38.53    7 |             s = slice(i, min(i+bs,n))\n",
      "19:40:38.54 .................. s = slice(1000, 1500, None)\n",
      "19:40:38.54    8 |             weight = gaussian(dist_b(X, X[s]), 2)\n",
      "19:40:38.55 .................. weight = tensor([[6.1639e-16, 1.4583e-15, 3.9320e-14,  ......, 1.5855e-01, 9.6416e-02,\n",
      "19:40:38.55                                      1.9947e-01]])\n",
      "19:40:38.55    9 |             num = (weight[...,None]*X[None]).sum(1)\n",
      "19:40:38.56 .................. num = tensor([[ 471.0010,  568.8470],\n",
      "19:40:38.56                                  [ 500.22...162,  820.9253],\n",
      "19:40:38.56                                  [-573.4228, 1165.4457]])\n",
      "19:40:38.56   10 |             div = weight.sum(1, keepdim=True)\n"
     ]
    },
    {
     "name": "stderr",
     "output_type": "stream",
     "text": [
      "19:40:38.57 .................. div = tensor([[33.7263],\n",
      "19:40:38.57                                  [36.0946],\n",
      "19:40:38.57                                  [3...[37.6357],\n",
      "19:40:38.57                                  [24.3497],\n",
      "19:40:38.57                                  [34.1287]])\n",
      "19:40:38.57   11 |             X[s] = num/div\n",
      "19:40:38.57 .................. X = tensor([[ -0.3830,  24.2378],\n",
      "19:40:38.57                                [ -0.2031,...6.3253,  33.7140],\n",
      "19:40:38.57                                [-16.8018,  34.1486]])\n",
      "19:40:38.57    6 |         for i in range(0, n, bs):\n",
      "19:40:38.58    5 |     for it in range(5):\n",
      "19:40:38.59 .......... it = 2\n",
      "19:40:38.59    6 |         for i in range(0, n, bs):\n",
      "19:40:38.60 .............. i = 0\n",
      "19:40:38.60    7 |             s = slice(i, min(i+bs,n))\n",
      "19:40:38.60 .................. s = slice(0, 500, None)\n",
      "19:40:38.60    8 |             weight = gaussian(dist_b(X, X[s]), 2)\n",
      "19:40:38.62 .................. weight = tensor([[1.9947e-01, 1.9835e-01, 1.6782e-01,  ......, 0.0000e+00, 0.0000e+00,\n",
      "19:40:38.62                                      0.0000e+00]])\n",
      "19:40:38.62    9 |             num = (weight[...,None]*X[None]).sum(1)\n",
      "19:40:38.63 .................. num = tensor([[-3.6341e+00,  1.1485e+03],\n",
      "19:40:38.63                                  [-3....1.2599e+02],\n",
      "19:40:38.63                                  [-1.4818e+03,  1.2671e+02]])\n",
      "19:40:38.63   10 |             div = weight.sum(1, keepdim=True)\n",
      "19:40:38.63 .................. div = tensor([[47.4622],\n",
      "19:40:38.63                                  [47.9117],\n",
      "19:40:38.63                                  [4...[47.2023],\n",
      "19:40:38.63                                  [46.9654],\n",
      "19:40:38.63                                  [47.5876]])\n",
      "19:40:38.63   11 |             X[s] = num/div\n",
      "19:40:38.64 .................. X = tensor([[-7.6567e-02,  2.4199e+01],\n",
      "19:40:38.64                                [-6....3.3714e+01],\n",
      "19:40:38.64                                [-1.6802e+01,  3.4149e+01]])\n",
      "19:40:38.64    6 |         for i in range(0, n, bs):\n",
      "19:40:38.65 .............. i = 500\n",
      "19:40:38.65    7 |             s = slice(i, min(i+bs,n))\n",
      "19:40:38.66 .................. s = slice(500, 1000, None)\n",
      "19:40:38.66    8 |             weight = gaussian(dist_b(X, X[s]), 2)\n",
      "19:40:38.67 .................. weight = tensor([[0.0000e+00, 0.0000e+00, 0.0000e+00,  ......, 1.8341e-01, 1.8948e-01,\n",
      "19:40:38.67                                      1.7131e-01]])\n",
      "19:40:38.67    9 |             num = (weight[...,None]*X[None]).sum(1)\n",
      "19:40:38.68 .................. num = tensor([[-1504.0679, -1043.1628],\n",
      "19:40:38.68                                  [-1501...,  1045.8171],\n",
      "19:40:38.68                                  [ -758.3073,  1523.5927]])\n",
      "19:40:38.68   10 |             div = weight.sum(1, keepdim=True)\n",
      "19:40:38.69 .................. div = tensor([[47.2437],\n",
      "19:40:38.69                                  [47.1479],\n",
      "19:40:38.69                                  [4...[44.0081],\n",
      "19:40:38.69                                  [39.7671],\n",
      "19:40:38.69                                  [45.1761]])\n",
      "19:40:38.69   11 |             X[s] = num/div\n",
      "19:40:38.70    6 |         for i in range(0, n, bs):\n",
      "19:40:38.70 .............. i = 1000\n",
      "19:40:38.70    7 |             s = slice(i, min(i+bs,n))\n",
      "19:40:38.71 .................. s = slice(1000, 1500, None)\n",
      "19:40:38.71    8 |             weight = gaussian(dist_b(X, X[s]), 2)\n",
      "19:40:38.73 .................. weight = tensor([[4.7583e-15, 4.8817e-15, 5.5883e-15,  ......, 1.9649e-01, 1.8937e-01,\n",
      "19:40:38.73                                      1.9947e-01]])\n",
      "19:40:38.73    9 |             num = (weight[...,None]*X[None]).sum(1)\n",
      "19:40:38.73 .................. num = tensor([[ 682.9660,  829.6770],\n",
      "19:40:38.73                                  [ 683.13...071, 1605.2139],\n",
      "19:40:38.73                                  [-814.0039, 1636.9382]])\n",
      "19:40:38.73   10 |             div = weight.sum(1, keepdim=True)\n",
      "19:40:38.74 .................. div = tensor([[48.6849],\n",
      "19:40:38.74                                  [48.7104],\n",
      "19:40:38.74                                  [4...[48.9746],\n",
      "19:40:38.74                                  [47.4809],\n",
      "19:40:38.74                                  [48.3752]])\n",
      "19:40:38.74   11 |             X[s] = num/div\n",
      "19:40:38.75 .................. X = tensor([[-7.6567e-02,  2.4199e+01],\n",
      "19:40:38.75                                [-6....3.3808e+01],\n",
      "19:40:38.75                                [-1.6827e+01,  3.3838e+01]])\n",
      "19:40:38.75    6 |         for i in range(0, n, bs):\n",
      "19:40:38.75    5 |     for it in range(5):\n",
      "19:40:38.76 .......... it = 3\n",
      "19:40:38.76    6 |         for i in range(0, n, bs):\n",
      "19:40:38.77 .............. i = 0\n",
      "19:40:38.77    7 |             s = slice(i, min(i+bs,n))\n",
      "19:40:38.78 .................. s = slice(0, 500, None)\n",
      "19:40:38.78    8 |             weight = gaussian(dist_b(X, X[s]), 2)\n",
      "19:40:38.79 .................. weight = tensor([[1.9947e-01, 1.9947e-01, 1.9940e-01,  ......, 0.0000e+00, 0.0000e+00,\n",
      "19:40:38.79                                      0.0000e+00]])\n",
      "19:40:38.79    9 |             num = (weight[...,None]*X[None]).sum(1)\n",
      "19:40:38.80 .................. num = tensor([[   -3.1886,  1201.8828],\n",
      "19:40:38.80                                  [   -3...,   133.4833],\n",
      "19:40:38.80                                  [-1552.6561,   133.4810]])\n",
      "19:40:38.80   10 |             div = weight.sum(1, keepdim=True)\n",
      "19:40:38.80 .................. div = tensor([[49.6624],\n",
      "19:40:38.80                                  [49.6632],\n",
      "19:40:38.80                                  [4...[49.8608],\n",
      "19:40:38.80                                  [49.8611],\n",
      "19:40:38.80                                  [49.8603]])\n",
      "19:40:38.80   11 |             X[s] = num/div\n",
      "19:40:38.81 .................. X = tensor([[ -0.0642,  24.2010],\n",
      "19:40:38.81                                [ -0.0642,...6.8090,  33.8076],\n",
      "19:40:38.81                                [-16.8269,  33.8384]])\n",
      "19:40:38.81    6 |         for i in range(0, n, bs):\n",
      "19:40:38.82 .............. i = 500\n",
      "19:40:38.82    7 |             s = slice(i, min(i+bs,n))\n",
      "19:40:38.83 .................. s = slice(500, 1000, None)\n",
      "19:40:38.83    8 |             weight = gaussian(dist_b(X, X[s]), 2)\n",
      "19:40:38.84 .................. weight = tensor([[0.0000e+00, 0.0000e+00, 0.0000e+00,  ......, 1.9920e-01, 1.9929e-01,\n",
      "19:40:38.84                                      1.9911e-01]])\n",
      "19:40:38.84    9 |             num = (weight[...,None]*X[None]).sum(1)\n",
      "19:40:38.85 .................. num = tensor([[-1587.1396, -1100.2794],\n",
      "19:40:38.85                                  [-1587...,  1257.8446],\n",
      "19:40:38.85                                  [ -845.9135,  1700.1497]])\n",
      "19:40:38.85   10 |             div = weight.sum(1, keepdim=True)\n",
      "19:40:38.86 .................. div = tensor([[49.8547],\n",
      "19:40:38.86                                  [49.8553],\n",
      "19:40:38.86                                  [4...[48.1146],\n",
      "19:40:38.86                                  [48.0521],\n",
      "19:40:38.86                                  [50.3327]])\n",
      "19:40:38.86   11 |             X[s] = num/div\n",
      "19:40:38.86    6 |         for i in range(0, n, bs):\n",
      "19:40:38.87 .............. i = 1000\n",
      "19:40:38.87    7 |             s = slice(i, min(i+bs,n))\n",
      "19:40:38.88 .................. s = slice(1000, 1500, None)\n",
      "19:40:38.88    8 |             weight = gaussian(dist_b(X, X[s]), 2)\n",
      "19:40:38.89 .................. weight = tensor([[5.4466e-15, 5.4466e-15, 5.4468e-15,  ......, 1.9946e-01, 1.9944e-01,\n",
      "19:40:38.89                                      1.9947e-01]])\n",
      "19:40:38.89    9 |             num = (weight[...,None]*X[None]).sum(1)\n",
      "19:40:38.90 .................. num = tensor([[ 699.5742,  849.8970],\n",
      "19:40:38.90                                  [ 699.57...417, 1714.5453],\n",
      "19:40:38.90                                  [-852.7799, 1714.2258]])\n",
      "19:40:38.90   10 |             div = weight.sum(1, keepdim=True)\n",
      "19:40:38.91 .................. div = tensor([[49.8670],\n",
      "19:40:38.91                                  [49.8669],\n",
      "19:40:38.91                                  [4...[50.7244],\n",
      "19:40:38.91                                  [50.7279],\n",
      "19:40:38.91                                  [50.7177]])\n",
      "19:40:38.91   11 |             X[s] = num/div\n"
     ]
    },
    {
     "name": "stderr",
     "output_type": "stream",
     "text": [
      "19:40:38.91 .................. X = tensor([[ -0.0642,  24.2010],\n",
      "19:40:38.91                                [ -0.0642,...6.8141,  33.7989],\n",
      "19:40:38.91                                [-16.8143,  33.7994]])\n",
      "19:40:38.91    6 |         for i in range(0, n, bs):\n",
      "19:40:38.92    5 |     for it in range(5):\n",
      "19:40:38.93 .......... it = 4\n",
      "19:40:38.93    6 |         for i in range(0, n, bs):\n",
      "19:40:38.94 .............. i = 0\n",
      "19:40:38.94    7 |             s = slice(i, min(i+bs,n))\n",
      "19:40:38.94 .................. s = slice(0, 500, None)\n",
      "19:40:38.94    8 |             weight = gaussian(dist_b(X, X[s]), 2)\n",
      "19:40:38.96 .................. weight = tensor([[1.9947e-01, 1.9947e-01, 1.9947e-01,  ......, 0.0000e+00, 0.0000e+00,\n",
      "19:40:38.96                                      0.0000e+00]])\n",
      "19:40:38.96    9 |             num = (weight[...,None]*X[None]).sum(1)\n",
      "19:40:38.97 .................. num = tensor([[   -3.1888,  1202.0253],\n",
      "19:40:38.97                                  [   -3...,   133.5012],\n",
      "19:40:38.97                                  [-1552.8890,   133.5012]])\n",
      "19:40:38.97   10 |             div = weight.sum(1, keepdim=True)\n",
      "19:40:38.97 .................. div = tensor([[49.6683],\n",
      "19:40:38.97                                  [49.6683],\n",
      "19:40:38.97                                  [4...[49.8678],\n",
      "19:40:38.97                                  [49.8678],\n",
      "19:40:38.97                                  [49.8678]])\n",
      "19:40:38.97   11 |             X[s] = num/div\n",
      "19:40:38.98    6 |         for i in range(0, n, bs):\n",
      "19:40:38.99 .............. i = 500\n",
      "19:40:38.99    7 |             s = slice(i, min(i+bs,n))\n",
      "19:40:39.00 .................. s = slice(500, 1000, None)\n",
      "19:40:39.00    8 |             weight = gaussian(dist_b(X, X[s]), 2)\n",
      "19:40:39.01 .................. weight = tensor([[0.0000e+00, 0.0000e+00, 0.0000e+00,  ......, 1.9946e-01, 1.9946e-01,\n",
      "19:40:39.01                                      1.9946e-01]])\n",
      "19:40:39.01    9 |             num = (weight[...,None]*X[None]).sum(1)\n",
      "19:40:39.02 .................. num = tensor([[-1587.5552, -1100.5671],\n",
      "19:40:39.02                                  [-1587...,  1275.1187],\n",
      "19:40:39.02                                  [ -855.9261,  1720.3547]])\n",
      "19:40:39.02   10 |             div = weight.sum(1, keepdim=True)\n",
      "19:40:39.02 .................. div = tensor([[49.8678],\n",
      "19:40:39.02                                  [49.8678],\n",
      "19:40:39.02                                  [4...[48.6847],\n",
      "19:40:39.02                                  [48.6861],\n",
      "19:40:39.02                                  [50.9239]])\n",
      "19:40:39.02   11 |             X[s] = num/div\n",
      "19:40:39.03    6 |         for i in range(0, n, bs):\n",
      "19:40:39.04 .............. i = 1000\n",
      "19:40:39.04    7 |             s = slice(i, min(i+bs,n))\n",
      "19:40:39.05 .................. s = slice(1000, 1500, None)\n",
      "19:40:39.05    8 |             weight = gaussian(dist_b(X, X[s]), 2)\n",
      "19:40:39.06 .................. weight = tensor([[5.4516e-15, 5.4516e-15, 5.4516e-15,  ......, 1.9947e-01, 1.9947e-01,\n",
      "19:40:39.06                                      1.9947e-01]])\n",
      "19:40:39.06    9 |             num = (weight[...,None]*X[None]).sum(1)\n",
      "19:40:39.07 .................. num = tensor([[ 699.5845,  849.9097],\n",
      "19:40:39.07                                  [ 699.58...338, 1724.8826],\n",
      "19:40:39.07                                  [-858.1328, 1724.8806]])\n",
      "19:40:39.07   10 |             div = weight.sum(1, keepdim=True)\n",
      "19:40:39.07 .................. div = tensor([[49.8678],\n",
      "19:40:39.07                                  [49.8678],\n",
      "19:40:39.07                                  [4...[51.0465],\n",
      "19:40:39.07                                  [51.0466],\n",
      "19:40:39.07                                  [51.0465]])\n",
      "19:40:39.07   11 |             X[s] = num/div\n",
      "19:40:39.08 .................. X = tensor([[ -0.0642,  24.2010],\n",
      "19:40:39.08                                [ -0.0642,...6.8108,  33.7904],\n",
      "19:40:39.08                                [-16.8108,  33.7904]])\n",
      "19:40:39.08    6 |         for i in range(0, n, bs):\n",
      "19:40:39.09    5 |     for it in range(5):\n",
      "19:40:39.10   12 |     return X\n",
      "19:40:39.10 <<< Return value from meanshift: tensor([[ -0.0642,  24.2010],\n",
      "19:40:39.10                                          [ -0.0642,...6.8108,  33.7904],\n",
      "19:40:39.10                                          [-16.8108,  33.7904]])\n"
     ]
    },
    {
     "data": {
      "text/plain": [
       "tensor([[ -0.0642,  24.2010],\n",
       "        [ -0.0642,  24.2010],\n",
       "        [ -0.0642,  24.2010],\n",
       "        ...,\n",
       "        [-16.8108,  33.7904],\n",
       "        [-16.8108,  33.7904],\n",
       "        [-16.8108,  33.7904]])"
      ]
     },
     "execution_count": null,
     "metadata": {},
     "output_type": "execute_result"
    }
   ],
   "source": [
    "meanshift(data)"
   ]
  },
  {
   "cell_type": "code",
   "execution_count": null,
   "id": "3a61eed0",
   "metadata": {},
   "outputs": [],
   "source": [
    "X = meanshift(data).cpu()"
   ]
  },
  {
   "cell_type": "code",
   "execution_count": null,
   "id": "266e7394",
   "metadata": {},
   "outputs": [
    {
     "name": "stdout",
     "output_type": "stream",
     "text": [
      "4.5 ms ± 171 µs per loop (mean ± std. dev. of 7 runs, 1 loop each)\n"
     ]
    }
   ],
   "source": [
    "%timeit -n 1 X = meanshift(data).cpu()"
   ]
  },
  {
   "cell_type": "code",
   "execution_count": null,
   "id": "e6ed0db1",
   "metadata": {},
   "outputs": [
    {
     "data": {
      "image/png": "[encoded data removed]",
      "text/plain": [
       "<Figure size 432x288 with 1 Axes>"
      ]
     },
     "metadata": {
      "needs_background": "light"
     },
     "output_type": "display_data"
    }
   ],
   "source": [
    "plot_data(centroids+2, X, n_samples)"
   ]
  },
  {
   "cell_type": "code",
   "execution_count": null,
   "id": "2c27d6c8",
   "metadata": {},
   "outputs": [],
   "source": []
  }
 ],
 "metadata": {
  "kernelspec": {
   "display_name": "Python 3 (ipykernel)",
   "language": "python",
   "name": "python3"
  }
 },
 "nbformat": 4,
 "nbformat_minor": 5
}
