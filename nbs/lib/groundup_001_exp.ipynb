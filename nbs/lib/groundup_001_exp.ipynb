{
 "cells": [
  {
   "cell_type": "markdown",
   "id": "22790a51",
   "metadata": {},
   "source": [
    "# groundup_001_exp\n",
    "how to use nbdev export "
   ]
  },
  {
   "cell_type": "code",
   "execution_count": null,
   "id": "fc4ef092",
   "metadata": {},
   "outputs": [],
   "source": [
    "#| default_exp delete0000"
   ]
  },
  {
   "cell_type": "code",
   "execution_count": null,
   "id": "7891b20f",
   "metadata": {},
   "outputs": [],
   "source": [
    "#| export\n",
    "TEST = \"test\""
   ]
  },
  {
   "cell_type": "code",
   "execution_count": null,
   "id": "a6f5b48b",
   "metadata": {},
   "outputs": [],
   "source": [
    "#| export groundup\n",
    "test1 = \"from test_export module\""
   ]
  },
  {
   "cell_type": "markdown",
   "id": "ff6147d2",
   "metadata": {},
   "source": [
    "## nb_name"
   ]
  },
  {
   "cell_type": "code",
   "execution_count": null,
   "id": "368f37c3",
   "metadata": {},
   "outputs": [
    {
     "data": {
      "text/html": [
       "<style>.container { width:100% !important; }</style>"
      ],
      "text/plain": [
       "<IPython.core.display.HTML object>"
      ]
     },
     "metadata": {},
     "output_type": "display_data"
    }
   ],
   "source": [
    "from fastdebug.utils import *"
   ]
  },
  {
   "cell_type": "code",
   "execution_count": null,
   "id": "264a7b68",
   "metadata": {},
   "outputs": [
    {
     "data": {
      "application/javascript": [
       "\n",
       "console.log('Starting front end url_querystring_target comm target');\n",
       "const comm = Jupyter.notebook.kernel.comm_manager.new_comm('url_querystring_target', {'init': 1});\n",
       "comm.send({'ipyparams_browser_url': window.location.href});\n",
       "console.log('Sent window.location.href on url_querystring_target comm target');\n",
       "\n",
       "comm.on_msg(function(msg) {\n",
       "    console.log(msg.content.data);\n",
       "});\n"
      ],
      "text/plain": [
       "<IPython.core.display.Javascript object>"
      ]
     },
     "metadata": {},
     "output_type": "display_data"
    }
   ],
   "source": [
    "nbname = nb_name()"
   ]
  },
  {
   "cell_type": "code",
   "execution_count": null,
   "id": "8f767b7f",
   "metadata": {},
   "outputs": [
    {
     "data": {
      "text/plain": [
       "''"
      ]
     },
     "execution_count": null,
     "metadata": {},
     "output_type": "execute_result"
    }
   ],
   "source": [
    "nbname"
   ]
  },
  {
   "cell_type": "markdown",
   "id": "af0c3f35",
   "metadata": {},
   "source": [
    "## notebook as json"
   ]
  },
  {
   "cell_type": "code",
   "execution_count": null,
   "id": "36165148",
   "metadata": {},
   "outputs": [],
   "source": [
    "import json"
   ]
  },
  {
   "cell_type": "code",
   "execution_count": null,
   "id": "7824a2b6",
   "metadata": {},
   "outputs": [],
   "source": [
    "if bool(nbname):\n",
    "    d = json.load(open(nbname,'r'))\n",
    "else: \n",
    "    d = None"
   ]
  },
  {
   "cell_type": "code",
   "execution_count": null,
   "id": "46189e35",
   "metadata": {},
   "outputs": [],
   "source": [
    "d"
   ]
  },
  {
   "cell_type": "code",
   "execution_count": null,
   "id": "8af838eb",
   "metadata": {},
   "outputs": [
    {
     "data": {
      "text/plain": [
       "[]"
      ]
     },
     "execution_count": null,
     "metadata": {},
     "output_type": "execute_result"
    }
   ],
   "source": [
    "all_src = []\n",
    "if bool(d):\n",
    "    for dct in d['cells']:\n",
    "        all_src = all_src + dct['source']\n",
    "all_src"
   ]
  },
  {
   "cell_type": "code",
   "execution_count": null,
   "id": "7d493c9d",
   "metadata": {},
   "outputs": [],
   "source": [
    "#|hide\n",
    "import nbdev; nbdev.nbdev_export()"
   ]
  },
  {
   "cell_type": "code",
   "execution_count": null,
   "id": "e638a1e4",
   "metadata": {},
   "outputs": [],
   "source": []
  }
 ],
 "metadata": {
  "kernelspec": {
   "display_name": "Python 3 (ipykernel)",
   "language": "python",
   "name": "python3"
  }
 },
 "nbformat": 4,
 "nbformat_minor": 5
}
