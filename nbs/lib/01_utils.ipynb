{
 "cells": [
  {
   "cell_type": "markdown",
   "id": "cf38fb8d-54f8-4f8d-93c2-aa8bdabf5088",
   "metadata": {},
   "source": [
    "# Utils\n",
    "\n",
    "> little functions to tell you the basics of a module"
   ]
  },
  {
   "cell_type": "code",
   "execution_count": null,
   "id": "ba6cee7b-e319-4856-b14b-cb8c02003d54",
   "metadata": {},
   "outputs": [],
   "source": [
    "#| default_exp utils"
   ]
  },
  {
   "cell_type": "markdown",
   "id": "1290a83c",
   "metadata": {},
   "source": [
    "## imports"
   ]
  },
  {
   "cell_type": "code",
   "execution_count": null,
   "id": "f82c2b77",
   "metadata": {},
   "outputs": [],
   "source": [
    "#| export\n",
    "from __future__ import print_function\n",
    "from __future__ import annotations\n",
    "annotations = annotations\n",
    "import inspect, torch"
   ]
  },
  {
   "cell_type": "markdown",
   "id": "e64cd3fe",
   "metadata": {},
   "source": [
    "## Expand cells"
   ]
  },
  {
   "cell_type": "code",
   "execution_count": null,
   "id": "b74eb2b0",
   "metadata": {},
   "outputs": [],
   "source": [
    "#| exporti\n",
    "def expandcell():\n",
    "    \"expand cells of the current notebook to its full width\"\n",
    "    from IPython.display import display, HTML \n",
    "    display(HTML(\"<style>.container { width:100% !important; }</style>\"))"
   ]
  },
  {
   "cell_type": "code",
   "execution_count": null,
   "id": "36b3ef23",
   "metadata": {},
   "outputs": [
    {
     "data": {
      "text/html": [
       "<style>.container { width:100% !important; }</style>"
      ],
      "text/plain": [
       "<IPython.core.display.HTML object>"
      ]
     },
     "metadata": {},
     "output_type": "display_data"
    }
   ],
   "source": [
    "#| exporti\n",
    "expand = expandcell()"
   ]
  },
  {
   "cell_type": "code",
   "execution_count": null,
   "id": "cc2168dc",
   "metadata": {},
   "outputs": [],
   "source": [
    "#| export\n",
    "def ppn(num):\n",
    "    if num < 1000: print(num)\n",
    "    elif num < 1000_000: print(str(round(num/1_000,2)) + \"K\", \" == {:,}\".format(num))\n",
    "    elif num < 1000_000_000: print(str(round(num/1_000_000,2)) + \"MM\", \" == {:,}\".format(num))\n",
    "    elif num < 1000_000_000_000: print(str(round(num/1_000_000_000,2)) + \"Bn\", \" == {:,}\".format(num))       \n",
    "    elif num < 1000_000_000_000_000: print(str(round(num/1_000_000_000_000,2)) + \"Tn\", \" == {:,}\".format(num))                \n",
    "#     print(\"{:,}\".format(num), \"==\", str(num/1_000_000) + \"MM\", \\\n",
    "#           \"==\", str(round(num/1_000_000_000,2)) + \"Bn\", \"==\", str(round(num/1_000_000_000_000,2)) + \"Tn\")"
   ]
  },
  {
   "cell_type": "code",
   "execution_count": null,
   "id": "bf8ee8fd",
   "metadata": {},
   "outputs": [
    {
     "name": "stdout",
     "output_type": "stream",
     "text": [
      "121\n",
      "23.42K  == 23,424\n",
      "1.23Bn  == 1,231,423,423\n",
      "1.42Tn  == 1,423,432,423,434\n"
     ]
    }
   ],
   "source": [
    "for num in [121,23424,1231423423, 1423432423434]:\n",
    "    ppn(num)"
   ]
  },
  {
   "cell_type": "code",
   "execution_count": null,
   "id": "728f8530",
   "metadata": {},
   "outputs": [],
   "source": []
  },
  {
   "cell_type": "markdown",
   "id": "e00cc1b3",
   "metadata": {},
   "source": [
    "## Jupyter theme"
   ]
  },
  {
   "cell_type": "code",
   "execution_count": null,
   "id": "c55b360b",
   "metadata": {},
   "outputs": [
    {
     "name": "stdout",
     "output_type": "stream",
     "text": [
      "Available Themes: \r\n",
      "   chesterish\r\n",
      "   grade3\r\n",
      "   gruvboxd\r\n",
      "   gruvboxl\r\n",
      "   monokai\r\n",
      "   oceans16\r\n",
      "   onedork\r\n",
      "   solarizedd\r\n",
      "   solarizedl\r\n"
     ]
    }
   ],
   "source": [
    "# https://stackoverflow.com/questions/56044487/toolbar-not-visible-after-setting-jupyter-notebook-theme\n",
    "!jt -l"
   ]
  },
  {
   "cell_type": "code",
   "execution_count": null,
   "id": "283aea33",
   "metadata": {},
   "outputs": [],
   "source": [
    "!jt -t solarizedd -T -N -kl"
   ]
  },
  {
   "cell_type": "markdown",
   "id": "23efbb94",
   "metadata": {},
   "source": [
    "## Data"
   ]
  },
  {
   "cell_type": "markdown",
   "id": "3b590bcf",
   "metadata": {},
   "source": [
    "### L"
   ]
  },
  {
   "cell_type": "code",
   "execution_count": null,
   "id": "b9d438bb",
   "metadata": {},
   "outputs": [],
   "source": [
    "#| export\n",
    "from fastcore.foundation import L"
   ]
  },
  {
   "cell_type": "code",
   "execution_count": null,
   "id": "2d2ef156",
   "metadata": {},
   "outputs": [],
   "source": [
    "#| export\n",
    "L = L"
   ]
  },
  {
   "cell_type": "markdown",
   "id": "22812302",
   "metadata": {},
   "source": [
    "### Path"
   ]
  },
  {
   "cell_type": "code",
   "execution_count": null,
   "id": "b995dc60",
   "metadata": {},
   "outputs": [],
   "source": [
    "#| export\n",
    "from pathlib import *"
   ]
  },
  {
   "cell_type": "code",
   "execution_count": null,
   "id": "2f4265a6",
   "metadata": {},
   "outputs": [],
   "source": [
    "#| export\n",
    "Path = Path"
   ]
  },
  {
   "cell_type": "markdown",
   "id": "d2ee5851",
   "metadata": {},
   "source": [
    "### check_subfolders_img"
   ]
  },
  {
   "cell_type": "code",
   "execution_count": null,
   "id": "b4efd864",
   "metadata": {},
   "outputs": [],
   "source": [
    "#| export\n",
    "# from fastai.vision.all import *"
   ]
  },
  {
   "cell_type": "code",
   "execution_count": null,
   "id": "9098471c",
   "metadata": {},
   "outputs": [],
   "source": [
    "# #| export\n",
    "# # @snoop\n",
    "# def check_subfolders_img(path, db=False):\n",
    "#     from pathlib import Path\n",
    "#     for entry in path.iterdir():\n",
    "#         if entry.is_file():\n",
    "#             print(f'{str(entry.absolute())}')\n",
    "#     for entry in path.iterdir():\n",
    "#         if entry.is_dir() and not entry.name.startswith(\".\") and len(entry.ls(file_exts=image_extensions)) > 5:\n",
    "#             print(f'{str(entry.parent.absolute())}: {len(entry.ls(file_exts=image_extensions))}  {entry.name}')\n",
    "# #             print(entry.name, f': {len(entry.ls(file_exts=[\".jpg\", \".png\", \".jpeg\", \".JPG\", \".jpg!d\"]))}') # how to include both png and jpg\n",
    "#             if db:\n",
    "#                 for e in entry.ls(): # check any image file which has a different suffix from those above\n",
    "#                     if e.is_file() and not e.name.startswith(\".\") and e.suffix not in image_extensions and e.suffix not in [\".ipynb\", \".py\"]:\n",
    "#     #                 if e.suffix not in [\".jpg\", \".png\", \".jpeg\", \".JPG\", \".jpg!d\"]:\n",
    "#                         pp(e.suffix, e)\n",
    "#                         try:\n",
    "#                             pp(Image.open(e).width)\n",
    "#                         except:\n",
    "#                             print(f\"{e} can't be opened\")\n",
    "#     #                     pp(Image.open(e).width if e.suffix in image_extensions)\n",
    "#         elif entry.is_dir() and not entry.name.startswith(\".\"): \n",
    "# #             with snoop:\n",
    "#             count_files_in_subfolders(entry)"
   ]
  },
  {
   "cell_type": "markdown",
   "id": "a035107c",
   "metadata": {},
   "source": [
    "### randomdisplay(path, db=False)"
   ]
  },
  {
   "cell_type": "code",
   "execution_count": null,
   "id": "2d556f8a",
   "metadata": {},
   "outputs": [],
   "source": [
    "#| export\n",
    "from pathlib import *"
   ]
  },
  {
   "cell_type": "code",
   "execution_count": null,
   "id": "fe9abc0e",
   "metadata": {},
   "outputs": [],
   "source": [
    "# #| export\n",
    "# # @snoop\n",
    "# def randomdisplay(path, db=False):\n",
    "# # https://www.geeksforgeeks.org/python-random-module/\n",
    "#     import random\n",
    "#     if type(path) == PosixPath:\n",
    "#         rand = random.randint(0,len(path.ls())-1) # choose a random int between 0 and len(T-rex)-1\n",
    "#         file = path.ls()[rand]\n",
    "#     elif type(path) == L:\n",
    "#         rand = random.randint(0,len(path)-1) # choose a random int between 0 and len(T-rex)-1\n",
    "#         file = path[rand]\n",
    "#     im = PILImage.create(file)\n",
    "#     if db: pp(im.width, im.height, file)\n",
    "#     pp(file)\n",
    "#     return im"
   ]
  },
  {
   "cell_type": "code",
   "execution_count": null,
   "id": "8592cbad",
   "metadata": {},
   "outputs": [],
   "source": []
  },
  {
   "cell_type": "code",
   "execution_count": null,
   "id": "163b5682",
   "metadata": {},
   "outputs": [],
   "source": []
  },
  {
   "cell_type": "markdown",
   "id": "d5f3017d",
   "metadata": {},
   "source": [
    "## Plotting\n",
    "basic plotting [lines](https://www.geeksforgeeks.org/graph-plotting-python-set-3/), [animation](https://www.geeksforgeeks.org/graph-plotting-python-set-3/)"
   ]
  },
  {
   "cell_type": "markdown",
   "id": "f98e2eff",
   "metadata": {},
   "source": [
    "### single_func plot"
   ]
  },
  {
   "cell_type": "code",
   "execution_count": null,
   "id": "7c05232f",
   "metadata": {},
   "outputs": [],
   "source": [
    "#| export\n",
    "def plot_func(x, y, label_x=None, label_y=None, title=None):\n",
    "    import matplotlib.pyplot as plt\n",
    "    plt.plot(x, y)\n",
    "\n",
    "    # naming the x axis\n",
    "    plt.xlabel(label_x)\n",
    "    # naming the y axis\n",
    "    plt.ylabel(label_y)\n",
    "\n",
    "    # giving a title to my graph\n",
    "    plt.title(title)\n",
    "\n",
    "    # function to show the plot\n",
    "    plt.show()\n"
   ]
  },
  {
   "cell_type": "code",
   "execution_count": null,
   "id": "7ebbbf46",
   "metadata": {},
   "outputs": [],
   "source": [
    "# plot_func(x, y, 'x - axis', 'y - axis', 'My first graph!')"
   ]
  },
  {
   "cell_type": "markdown",
   "id": "d008d9d7",
   "metadata": {},
   "source": [
    "### multiple-line plot"
   ]
  },
  {
   "cell_type": "code",
   "execution_count": null,
   "id": "a5653b19",
   "metadata": {},
   "outputs": [],
   "source": [
    "#| export\n",
    "# @snoop\n",
    "def plot_funcs(*lines, # eg., (x1,y1, \"line1\"),(x2,y2, \"line2\"), (y1, y2, \"line3\")\n",
    "               label_x=None, \n",
    "               label_y=None, \n",
    "               title=None, \n",
    "               ax_center=False):\n",
    "    import matplotlib.pyplot as plt\n",
    "\n",
    "    if ax_center:\n",
    "        fig = plt.figure()\n",
    "        ax = fig.add_subplot(1, 1, 1)\n",
    "        ax.spines['left'].set_position('center') \n",
    "        ax.spines['bottom'].set_position('center') \n",
    "    #     ax.spines['right'].set_position('center') # has no y ticks, so no use for us\n",
    "    #     ax.spines['top'].set_position('center') # has no x ticks, so no use for us\n",
    "        ax.spines['right'].set_color('none') # make the right side line (of the box) disappear\n",
    "        ax.spines['top'].set_color('none') # make the left side line (of the box) disappear\n",
    "    \n",
    "        ax.xaxis.set_ticks_position('bottom')\n",
    "        ax.yaxis.set_ticks_position('left')\n",
    "    \n",
    "    plt.xlabel(label_x, loc='right')\n",
    "    plt.ylabel(label_y, loc='bottom')\n",
    "    \n",
    "    xys_lst = [(l[0], l[1], l[2]) for l in lines]\n",
    "    for idx, xys in enumerate(xys_lst):\n",
    "        plt.plot(xys[0], xys[1], label=xys[2])\n",
    "\n",
    "    plt.title(title)\n",
    "    plt.legend()\n",
    "    plt.show()\n",
    "#     # add color and other features\n",
    "#     plt.plot(x, y, color='green', linestyle='dashed', linewidth = 3,\n",
    "#          marker='o', markerfacecolor='blue', markersize=12)"
   ]
  },
  {
   "cell_type": "code",
   "execution_count": null,
   "id": "7da81c40",
   "metadata": {},
   "outputs": [
    {
     "data": {
      "image/png": "[encoded data removed]",
      "text/plain": [
       "<Figure size 640x480 with 1 Axes>"
      ]
     },
     "metadata": {},
     "output_type": "display_data"
    },
    {
     "data": {
      "image/png": "[encoded data removed]",
      "text/plain": [
       "<Figure size 640x480 with 1 Axes>"
      ]
     },
     "metadata": {},
     "output_type": "display_data"
    }
   ],
   "source": [
    "x1 = [1,2,3]\n",
    "y1 = [2,4,1]\n",
    "x2 = [1,2,3]\n",
    "y2 = [4,1,3]\n",
    "plot_funcs((x1,y1, \"line1\"),(x2,y2, \"line2\"), (y1, y2, \"line3\"), label_x='x - axis', label_y='y - axis', title='My first graph!')\n",
    "plot_funcs((x1,y1, \"line1\"),(x2,y2, \"line2\"), (y1, y2, \"line3\"), label_x='x - axis', label_y='y - axis', title='My first graph!', ax_center=True)"
   ]
  },
  {
   "cell_type": "code",
   "execution_count": null,
   "id": "b0390a22",
   "metadata": {},
   "outputs": [
    {
     "data": {
      "text/plain": [
       "2"
      ]
     },
     "execution_count": null,
     "metadata": {},
     "output_type": "execute_result"
    }
   ],
   "source": [
    "len((1,2))"
   ]
  },
  {
   "cell_type": "code",
   "execution_count": null,
   "id": "50ac6516",
   "metadata": {},
   "outputs": [],
   "source": [
    "#| export\n",
    "# @snoop\n",
    "def plot_fns(*funcs, # eg., (func1, ), (func2, ) or (func2, 'x**2'), (func1, 'log(x)')\n",
    "               label_x=None, \n",
    "               label_y=None, \n",
    "               title=None, \n",
    "               ax_center=False):\n",
    "    import matplotlib.pyplot as plt\n",
    "\n",
    "    if ax_center:\n",
    "        fig = plt.figure()\n",
    "        ax = fig.add_subplot(1, 1, 1)\n",
    "        ax.spines['left'].set_position('center') \n",
    "        ax.spines['bottom'].set_position('center') \n",
    "        ax.spines['right'].set_color('none') # make the right side line (of the box) disappear\n",
    "        ax.spines['top'].set_color('none') # make the left side line (of the box) disappear\n",
    "    \n",
    "        ax.xaxis.set_ticks_position('bottom')\n",
    "        ax.yaxis.set_ticks_position('left')\n",
    "\n",
    "    plt.xlabel(label_x, loc='right')\n",
    "    plt.ylabel(label_y, loc='bottom')\n",
    "    \n",
    "    fnlb_lst = [(f[0], f[1]) if len(f) > 1 else (f[0],) for f in funcs ]\n",
    "    \n",
    "    import torch, numpy as np\n",
    "    for fnlb in fnlb_lst:\n",
    "        if \"np\" in inspect.getsource(fnlb[0] ):\n",
    "            x = np.linspace(-np.pi,np.pi,100)\n",
    "        elif \"torch\" in inspect.getsource(fnlb[0] ):\n",
    "            x = torch.linspace(-torch.pi, torch.pi, 100)\n",
    "\n",
    "    from fastai.torch_core import ifnone\n",
    "    for idx, fnlb in enumerate(fnlb_lst):\n",
    "        plt.plot(x, fnlb[0](x), label=fnlb[1] if len(fnlb)>1 else \"line {}\".format(idx))\n",
    "\n",
    "    plt.title(title)\n",
    "    plt.legend() # plt.legend(loc='upper left')\n",
    "    plt.show()\n",
    "#     # add color and other features\n",
    "#     plt.plot(x, y, color='green', linestyle='dashed', linewidth = 3,\n",
    "#          marker='o', markerfacecolor='blue', markersize=12)"
   ]
  },
  {
   "cell_type": "code",
   "execution_count": null,
   "id": "61f0d73b",
   "metadata": {},
   "outputs": [],
   "source": [
    "# inspect.getsource(func2)"
   ]
  },
  {
   "cell_type": "code",
   "execution_count": null,
   "id": "a16b051e",
   "metadata": {},
   "outputs": [
    {
     "data": {
      "image/png": "[encoded data removed]",
      "text/plain": [
       "<Figure size 640x480 with 1 Axes>"
      ]
     },
     "metadata": {},
     "output_type": "display_data"
    },
    {
     "data": {
      "image/png": "[encoded data removed]",
      "text/plain": [
       "<Figure size 640x480 with 1 Axes>"
      ]
     },
     "metadata": {},
     "output_type": "display_data"
    }
   ],
   "source": [
    "func1 = lambda x: x**2\n",
    "func2 = lambda x: torch.log(x) # torch.log(x)\n",
    "plot_fns((func1, \"x**2\"), (func2, \"log(x)\"), label_x='x - axis', label_y='y - axis', title='My first graph!', ax_center=True)\n",
    "plot_fns((func1, ), (func2, ), label_x='x - axis', label_y='y - axis', title='My first graph!', ax_center=True)"
   ]
  },
  {
   "cell_type": "markdown",
   "id": "f914d591",
   "metadata": {},
   "source": [
    "## doc and show_doc"
   ]
  },
  {
   "cell_type": "code",
   "execution_count": null,
   "id": "e0123860",
   "metadata": {},
   "outputs": [],
   "source": [
    "#| export\n",
    "from fastai.torch_core import doc"
   ]
  },
  {
   "cell_type": "code",
   "execution_count": null,
   "id": "ea5949fc",
   "metadata": {},
   "outputs": [],
   "source": [
    "#| export\n",
    "doc = doc"
   ]
  },
  {
   "cell_type": "code",
   "execution_count": null,
   "id": "5aeff85b",
   "metadata": {},
   "outputs": [],
   "source": [
    "#| export\n",
    "from nbdev.showdoc import show_doc"
   ]
  },
  {
   "cell_type": "code",
   "execution_count": null,
   "id": "ed018d27",
   "metadata": {},
   "outputs": [],
   "source": [
    "#| export\n",
    "show_doc = show_doc"
   ]
  },
  {
   "cell_type": "markdown",
   "id": "f4a16fff",
   "metadata": {},
   "source": [
    "## snoop: pp, @snoop, doc_sig, src, chk"
   ]
  },
  {
   "cell_type": "code",
   "execution_count": null,
   "id": "342f327e",
   "metadata": {},
   "outputs": [],
   "source": [
    "#| export\n",
    "from snoop import snoop, pp"
   ]
  },
  {
   "cell_type": "code",
   "execution_count": null,
   "id": "eef18274",
   "metadata": {},
   "outputs": [],
   "source": [
    "#| export\n",
    "snoop = snoop\n",
    "pp = pp"
   ]
  },
  {
   "cell_type": "code",
   "execution_count": null,
   "id": "3dec9285",
   "metadata": {},
   "outputs": [],
   "source": [
    "#| export \n",
    "def snoopon(): snoop.install(enabled=True)"
   ]
  },
  {
   "cell_type": "code",
   "execution_count": null,
   "id": "c7cf8b45",
   "metadata": {},
   "outputs": [],
   "source": [
    "#| export\n",
    "def snoopoff(): snoop.install(enabled=False)"
   ]
  },
  {
   "cell_type": "code",
   "execution_count": null,
   "id": "0ce5a731",
   "metadata": {},
   "outputs": [],
   "source": [
    "from fastcore.foundation import L\n",
    "from fastai.torch_core import tensor"
   ]
  },
  {
   "cell_type": "code",
   "execution_count": null,
   "id": "cd456858",
   "metadata": {},
   "outputs": [
    {
     "data": {
      "text/plain": [
       "3"
      ]
     },
     "execution_count": null,
     "metadata": {},
     "output_type": "execute_result"
    }
   ],
   "source": [
    "tensor(1,2,3).__len__()\n",
    "L([1,2,3]).__len__()"
   ]
  },
  {
   "cell_type": "code",
   "execution_count": null,
   "id": "40e85027",
   "metadata": {},
   "outputs": [],
   "source": [
    "#| export\n",
    "def chk(obj):\n",
    "    \"return obj's type, length and type if available\"\n",
    "    tp = type(obj)\n",
    "    length = obj.__len__() if hasattr(obj, '__len__') else \"no length\"\n",
    "    shape = obj.shape if hasattr(obj, 'shape') else \"no shape\"\n",
    "    return tp, length, shape"
   ]
  },
  {
   "cell_type": "code",
   "execution_count": null,
   "id": "63a309b8",
   "metadata": {},
   "outputs": [],
   "source": [
    "#| export\n",
    "def doc_sig(func):\n",
    "    import inspect\n",
    "    sig = inspect.signature(func) if callable(func) else \"no signature\"\n",
    "    doc = inspect.getdoc(func) if inspect.getdoc(func) != None else \"no doc\"\n",
    "    return  getattr(func, '__mro__', \"no mro\"), doc, sig"
   ]
  },
  {
   "cell_type": "code",
   "execution_count": null,
   "id": "1e521b0b",
   "metadata": {},
   "outputs": [],
   "source": [
    "#| export\n",
    "def src(func):\n",
    "    try: \n",
    "        print(inspect.getsource(func))\n",
    "    except: \n",
    "        print(f\"can't get srcode from inspect.getsource\")"
   ]
  },
  {
   "cell_type": "code",
   "execution_count": null,
   "id": "42155fc0",
   "metadata": {},
   "outputs": [
    {
     "name": "stdout",
     "output_type": "stream",
     "text": [
      "def doc_sig(func):\n",
      "    import inspect\n",
      "    sig = inspect.signature(func) if callable(func) else \"no signature\"\n",
      "    doc = inspect.getdoc(func) if inspect.getdoc(func) != None else \"no doc\"\n",
      "    return  getattr(func, '__mro__', \"no mro\"), doc, sig\n",
      "\n"
     ]
    }
   ],
   "source": [
    "src(doc_sig)"
   ]
  },
  {
   "cell_type": "code",
   "execution_count": null,
   "id": "065a0897",
   "metadata": {},
   "outputs": [],
   "source": [
    "#| exporti\n",
    "def doc_sig_complex(func):\n",
    "    import inspect        \n",
    "    if not inspect.isfunction(func) or not inspect.ismethod(func):\n",
    "        func = getattr(func, '__class__', None)\n",
    "        if func == None: \n",
    "            info = 'not a func, method, nor a class'\n",
    "        else: \n",
    "            info = \"it's a class\"\n",
    "    doc = inspect.getdoc(func) if hasattr(func, '__doc__') else \"no doc\"\n",
    "    sig = inspect.signature(func) if callable(func) else \"no signature\"\n",
    "    mro = getattr(func, '__mro__', \"no mro\")\n",
    "    return info, doc, sig, mro"
   ]
  },
  {
   "cell_type": "code",
   "execution_count": null,
   "id": "d242a5cf",
   "metadata": {},
   "outputs": [],
   "source": [
    "#| exporti\n",
    "def type_watch(source, value):\n",
    "    if value != None:\n",
    "        return 'type({})'.format(source), type(value)"
   ]
  },
  {
   "cell_type": "code",
   "execution_count": null,
   "id": "28916b61",
   "metadata": {},
   "outputs": [],
   "source": [
    "#| exporti\n",
    "def sig_watch(source, value):\n",
    "    if inspect.isfunction(value):\n",
    "        return 'sig({})'.format(source), inspect.signature(value)"
   ]
  },
  {
   "cell_type": "code",
   "execution_count": null,
   "id": "ea7a113b",
   "metadata": {},
   "outputs": [],
   "source": [
    "#| exporti\n",
    "def view(data): return (data.mean(), data.std())"
   ]
  },
  {
   "cell_type": "code",
   "execution_count": null,
   "id": "905ebe29",
   "metadata": {},
   "outputs": [],
   "source": [
    "from torch import tensor\n",
    "import torch"
   ]
  },
  {
   "cell_type": "code",
   "execution_count": null,
   "id": "1eb8f998",
   "metadata": {},
   "outputs": [
    {
     "data": {
      "text/plain": [
       "True"
      ]
     },
     "execution_count": null,
     "metadata": {},
     "output_type": "execute_result"
    }
   ],
   "source": [
    "isinstance(tensor([1,2,3]), torch.Tensor)"
   ]
  },
  {
   "cell_type": "code",
   "execution_count": null,
   "id": "78545bf1",
   "metadata": {},
   "outputs": [],
   "source": [
    "#| exporti\n",
    "def stats_watch(source, value):\n",
    "    if (isinstance(value, np.ndarray) or isinstance(value, torch.Tensor)): \n",
    "        return '{} stats: '.format(source), view(value)"
   ]
  },
  {
   "cell_type": "code",
   "execution_count": null,
   "id": "7a9652d5",
   "metadata": {},
   "outputs": [
    {
     "data": {
      "text/plain": [
       "[1, 2, 2, 3]"
      ]
     },
     "execution_count": null,
     "metadata": {},
     "output_type": "execute_result"
    }
   ],
   "source": [
    "[1, 2] + [2, 3]"
   ]
  },
  {
   "cell_type": "code",
   "execution_count": null,
   "id": "1ef8de69",
   "metadata": {},
   "outputs": [],
   "source": [
    "#| exporti\n",
    "def snoop_onoff(on=True):\n",
    "    \"activate or deactivate @snoop, pp, but not %%snoop in a cell which is activated by %load_ext snoop\"\n",
    "    import snoop\n",
    "    from snoop.configuration import len_shape_watch\n",
    "#     snoop.install(replace_watch_extras=[type_watch, len_shape_watch, sig_watch, stats_watch])\n",
    "    snoop.install(replace_watch_extras=[]) # this is much simpler to read\n"
   ]
  },
  {
   "cell_type": "code",
   "execution_count": null,
   "id": "4940b935",
   "metadata": {},
   "outputs": [],
   "source": [
    "#| exporti \n",
    "snoop_no_config = snoop_onoff() # # no import or config for using snoop now"
   ]
  },
  {
   "cell_type": "code",
   "execution_count": null,
   "id": "5bd4b3b1",
   "metadata": {},
   "outputs": [],
   "source": [
    "snoop_config = \"\"\"\n",
    "# snoop_onoff()\n",
    "# snoop.install(watch_extras=[type_watch, stats_watch])\n",
    "from snoop.configuration import len_shape_watch\n",
    "snoop.install(replace_watch_extras=[type_watch, len_shape_watch, sig_watch, stats_watch])\n",
    "\"\"\"\n"
   ]
  },
  {
   "cell_type": "markdown",
   "id": "31b4b67f",
   "metadata": {},
   "source": [
    "## multi_output\n",
    "setup for exporting to a module"
   ]
  },
  {
   "cell_type": "code",
   "execution_count": null,
   "id": "cc38c0bb",
   "metadata": {},
   "outputs": [],
   "source": [
    "#| export\n",
    "import os"
   ]
  },
  {
   "cell_type": "code",
   "execution_count": null,
   "id": "cc907856",
   "metadata": {},
   "outputs": [],
   "source": [
    "#| exporti\n",
    "def multi_output():\n",
    "    from IPython.core.interactiveshell import InteractiveShell\n",
    "    InteractiveShell.ast_node_interactivity = \"all\""
   ]
  },
  {
   "cell_type": "code",
   "execution_count": null,
   "id": "2fa6fdc8",
   "metadata": {},
   "outputs": [],
   "source": [
    "#| exporti\n",
    "multioutput = multi_output()"
   ]
  },
  {
   "cell_type": "code",
   "execution_count": null,
   "id": "18312742",
   "metadata": {},
   "outputs": [
    {
     "data": {
      "text/plain": [
       "[1, 2, 3]"
      ]
     },
     "execution_count": null,
     "metadata": {},
     "output_type": "execute_result"
    },
    {
     "data": {
      "text/plain": [
       "[4, 5, 6]"
      ]
     },
     "execution_count": null,
     "metadata": {},
     "output_type": "execute_result"
    }
   ],
   "source": [
    "a = [1,2,3]\n",
    "b = [4,5,6]\n",
    "a\n",
    "b"
   ]
  },
  {
   "cell_type": "markdown",
   "id": "d7882879",
   "metadata": {},
   "source": [
    "## nb_url, nb_name, nb_path\n",
    "how to get current notebook's name, path and url"
   ]
  },
  {
   "cell_type": "code",
   "execution_count": null,
   "id": "9e2dac4f",
   "metadata": {},
   "outputs": [],
   "source": []
  },
  {
   "cell_type": "code",
   "execution_count": null,
   "id": "2646d731",
   "metadata": {},
   "outputs": [],
   "source": [
    "#| export\n",
    "def nb_url():\n",
    "    \"run this func to get nb_url of this current notebook\"\n",
    "    import ipyparams\n",
    "    return eval(\"ipyparams.raw_url\")"
   ]
  },
  {
   "cell_type": "code",
   "execution_count": null,
   "id": "b9b1d8a1",
   "metadata": {},
   "outputs": [
    {
     "data": {
      "application/javascript": [
       "\n",
       "console.log('Starting front end url_querystring_target comm target');\n",
       "const comm = Jupyter.notebook.kernel.comm_manager.new_comm('url_querystring_target', {'init': 1});\n",
       "comm.send({'ipyparams_browser_url': window.location.href});\n",
       "console.log('Sent window.location.href on url_querystring_target comm target');\n",
       "\n",
       "comm.on_msg(function(msg) {\n",
       "    console.log(msg.content.data);\n",
       "});\n"
      ],
      "text/plain": [
       "<IPython.core.display.Javascript object>"
      ]
     },
     "metadata": {},
     "output_type": "display_data"
    },
    {
     "data": {
      "text/plain": [
       "''"
      ]
     },
     "execution_count": null,
     "metadata": {},
     "output_type": "execute_result"
    }
   ],
   "source": [
    "nb_url()"
   ]
  },
  {
   "cell_type": "code",
   "execution_count": null,
   "id": "9692a4a6",
   "metadata": {},
   "outputs": [],
   "source": [
    "#| export\n",
    "def nb_path():\n",
    "    \"run this func to get nb_path of this current notebook\"\n",
    "    import ipyparams\n",
    "    return eval(\"os.path.join(os.getcwd(), ipyparams.notebook_name)\")"
   ]
  },
  {
   "cell_type": "code",
   "execution_count": null,
   "id": "dd06ac2b",
   "metadata": {},
   "outputs": [
    {
     "data": {
      "text/plain": [
       "'/Users/Natsume/Documents/fastdebug/nbs/lib/'"
      ]
     },
     "execution_count": null,
     "metadata": {},
     "output_type": "execute_result"
    }
   ],
   "source": [
    "nb_path()"
   ]
  },
  {
   "cell_type": "code",
   "execution_count": null,
   "id": "c5864359",
   "metadata": {},
   "outputs": [],
   "source": [
    "#| export\n",
    "def nb_name():\n",
    "    \"run this func to get nb_path of this current notebook\"\n",
    "    import ipyparams\n",
    "    return eval(\"ipyparams.notebook_name\")"
   ]
  },
  {
   "cell_type": "code",
   "execution_count": null,
   "id": "cf3c78e7",
   "metadata": {},
   "outputs": [
    {
     "data": {
      "text/plain": [
       "''"
      ]
     },
     "execution_count": null,
     "metadata": {},
     "output_type": "execute_result"
    }
   ],
   "source": [
    "nb_name()"
   ]
  },
  {
   "cell_type": "markdown",
   "id": "9fa9e984",
   "metadata": {},
   "source": [
    "## ipy2md\n",
    "how to convert ipynb to md automatically; how to run commands in python"
   ]
  },
  {
   "cell_type": "code",
   "execution_count": null,
   "id": "4da44afa",
   "metadata": {},
   "outputs": [],
   "source": [
    "#| export\n",
    "def ipy2md(db=True):\n",
    "    \"convert the current notebook to md\"\n",
    "    import ipyparams\n",
    "    import os\n",
    "    path = nb_path()\n",
    "    name = nb_name()\n",
    "    url = nb_url()\n",
    "    obs_path = \"/Users/Natsume/Documents/divefastai/Debuggable/jupytext\"\n",
    "    obs_last_folder = nb_path().split(nb_name())[0].split('/')[-2]\n",
    "    obs_output_path = \"/Users/Natsume/Documents/divefastai/Debuggable/nbconvert\"    \n",
    "    mds_path = path.replace(\"nbs\", \"mds\").split(name)[0]\n",
    "    mds_output = \"/Users/Natsume/Documents/fastdebug/mds_output\"\n",
    "    # https://stackabuse.com/executing-shell-commands-with-python/\n",
    "    os.system(f\"jupytext --to md {path}\")\n",
    "    os.system(f\"cp {path.split('.ipynb')[0]+'.md'} {obs_path + '/' + obs_last_folder}\")\n",
    "    if db: print(f'cp to : {obs_path + \"/\" + obs_last_folder}')\n",
    "    os.system(f\"mv {path.split('.ipynb')[0]+'.md'} {mds_path}\")\n",
    "    if db: print(f'move to : {mds_path}')\n",
    "    os.system(f\"jupyter nbconvert --to markdown {path}\")\n",
    "    os.system(f\"cp {path.split('.ipynb')[0]+'.md'} {mds_output}\")\n",
    "    os.system(f\"mv {path.split('.ipynb')[0]+'.md'} {obs_output_path}\")\n",
    "    if db: print(f'copy to : {mds_output}')\n",
    "    if db: print(f'move to : {obs_output_path}')        "
   ]
  },
  {
   "cell_type": "code",
   "execution_count": null,
   "id": "f98dba18",
   "metadata": {},
   "outputs": [],
   "source": [
    "# ipy2md()"
   ]
  },
  {
   "cell_type": "code",
   "execution_count": null,
   "id": "be7dfb68",
   "metadata": {},
   "outputs": [],
   "source": [
    "# #| export\n",
    "# def ipy2md(db=False):\n",
    "#     \"convert the current notebook to md\"\n",
    "#     path, name, url = get_notebook_path()\n",
    "#     obs_path = \"/Users/Natsume/Documents/divefastai/Debuggable/jupytext\"\n",
    "#     mds_path = path.replace(\"nbs\", \"mds\").split(name)[0]\n",
    "#     mds_output = \"/Users/Natsume/Documents/fastdebug/mds_output\"\n",
    "#     if db: \n",
    "#         print(f'path: {path}')\n",
    "#         print(f'mds_path: {mds_path}')\n",
    "#     eval(f'!jupytext --to md {path}')\n",
    "#     eval(f'!cp {path.split(\".ipynb\")[0]+\".md\"} {obs_path}')\n",
    "#     eval(f'!mv {path.split(\".ipynb\")[0]+\".md\"} {mds_path}')\n",
    "#     eval(f'!jupyter nbconvert --to markdown {path}')\n",
    "#     eval(f'!mv {path.split(\".ipynb\")[0]+\".md\"} {mds_output}')"
   ]
  },
  {
   "cell_type": "code",
   "execution_count": null,
   "id": "7de21e81",
   "metadata": {},
   "outputs": [],
   "source": [
    "# ipy2md()"
   ]
  },
  {
   "cell_type": "code",
   "execution_count": null,
   "id": "7b28fa62",
   "metadata": {},
   "outputs": [],
   "source": []
  },
  {
   "cell_type": "markdown",
   "id": "050c88b5",
   "metadata": {},
   "source": [
    "## automagic for autoreload and matplotlib inline"
   ]
  },
  {
   "cell_type": "markdown",
   "id": "fe7c1500",
   "metadata": {},
   "source": [
    "As mentioned above, you need the autoreload extension. If you want it to automatically start every time you launch ipython, you need to add it to the ipython_config.py startup file:\n",
    "\n",
    "It may be necessary to generate one first:\n",
    "```python\n",
    "ipython profile create\n",
    "```\n",
    "Then include these lines in ~/.ipython/profile_default/ipython_config.py:\n",
    "\n",
    "```python\n",
    "c.InteractiveShellApp.exec_lines = []\n",
    "c.InteractiveShellApp.exec_lines.append('%load_ext autoreload')\n",
    "c.InteractiveShellApp.exec_lines.append('%autoreload 2')\n",
    "c.InteractiveShellApp.exec_lines.append('%matplotlib inline')\n",
    "c.InteractiveShellApp.exec_lines.append('%load_ext snoop')\n",
    "```\n",
    "\n",
    "As well as an optional warning in case you need to take advantage of compiled Python code in .pyc files:\n",
    "```python\n",
    "c.InteractiveShellApp.exec_lines.append('print(\"Warning: disable autoreload in ipython_config.py to improve performance.\")')\n",
    "```"
   ]
  },
  {
   "cell_type": "markdown",
   "id": "6c83dd2c",
   "metadata": {},
   "source": [
    "### If individual notebook, I can just run the function below to setup autoreload"
   ]
  },
  {
   "cell_type": "code",
   "execution_count": null,
   "id": "728568e8",
   "metadata": {},
   "outputs": [],
   "source": [
    "#| export\n",
    "def automagics():\n",
    "    from IPython.core.interactiveshell import InteractiveShell\n",
    "    get_ipython().run_line_magic(magic_name=\"load_ext\", line = \"autoreload\")\n",
    "    get_ipython().run_line_magic(magic_name=\"autoreload\", line = \"2\")\n",
    "    get_ipython().run_line_magic(magic_name=\"matplotlib\", line = \"inline\")\n",
    "    get_ipython().run_line_magic(magic_name=\"load_ext\", line = \"snoop\")"
   ]
  },
  {
   "cell_type": "code",
   "execution_count": null,
   "id": "38f3ae8a",
   "metadata": {},
   "outputs": [],
   "source": []
  },
  {
   "cell_type": "markdown",
   "id": "b39beb74",
   "metadata": {},
   "source": [
    "## Import fastcore env"
   ]
  },
  {
   "cell_type": "code",
   "execution_count": null,
   "id": "84c983b3",
   "metadata": {},
   "outputs": [],
   "source": [
    "#| export\n",
    "from fastcore.test import * # so that it automated"
   ]
  },
  {
   "cell_type": "code",
   "execution_count": null,
   "id": "a936685c",
   "metadata": {},
   "outputs": [],
   "source": [
    "#| export\n",
    "test_eq = test_eq\n",
    "test_is = test_is"
   ]
  },
  {
   "cell_type": "code",
   "execution_count": null,
   "id": "49134422",
   "metadata": {},
   "outputs": [],
   "source": [
    "#| export \n",
    "from fastcore.imports import FunctionType, MethodType"
   ]
  },
  {
   "cell_type": "code",
   "execution_count": null,
   "id": "77e1237e",
   "metadata": {},
   "outputs": [],
   "source": [
    "#| export\n",
    "FunctionType = FunctionType\n",
    "MethodType = MethodType"
   ]
  },
  {
   "cell_type": "markdown",
   "id": "6664931d",
   "metadata": {},
   "source": [
    "## to inspect a class"
   ]
  },
  {
   "cell_type": "code",
   "execution_count": null,
   "id": "a53999d2",
   "metadata": {},
   "outputs": [],
   "source": [
    "\n",
    "def inspect_class(c):\n",
    "    \"examine the details of a class\"\n",
    "    try:\n",
    "        print(inspect.getsource(c))\n",
    "    except: \n",
    "        pass\n",
    "    print()\n",
    "    print(f'is {c.__name__} a metaclass: {ismetaclass(c)}')\n",
    "    print(f'is {c.__name__} created by a metaclass: {False if c.__class__ == type else True}')\n",
    "    if c.__class__ is not type:\n",
    "        print(f'{c.__name__} is created by metaclass {c.__class__}')\n",
    "    else:\n",
    "        print(f'{c.__name__} is created by {c.__class__}')\n",
    "    print(f'{c.__name__}.__new__ is object.__new__: {c.__new__ is object.__new__}')   \n",
    "    print(f'{c.__name__}.__new__ is type.__new__: {c.__new__ is type.__new__}')       \n",
    "    print(f'{c.__name__}.__new__: {c.__new__}')\n",
    "    print(f'{c.__name__}.__init__ is object.__init__: {c.__init__ is object.__init__}')\n",
    "    print(f'{c.__name__}.__init__ is type.__init__: {c.__init__ is type.__init__}')    \n",
    "    print(f'{c.__name__}.__init__: {c.__init__}')\n",
    "    print(f'{c.__name__}.__call__ is object.__call__: {c.__call__ is object.__call__}')\n",
    "    print(f'{c.__name__}.__call__ is type.__call__: {c.__call__ is type.__call__}')    \n",
    "    print(f'{c.__name__}.__call__: {c.__call__}')\n",
    "    print(f'{c.__name__}.__class__: {c.__class__}')\n",
    "    print(f'{c.__name__}.__bases__: {c.__bases__}')\n",
    "    print(f'{c.__name__}.__mro__: {c.__mro__}')\n",
    "    \n",
    "    if c.__class__ is not type:\n",
    "        print()\n",
    "        print(f'{c.__name__}\\'s metaclass {c.__class__}\\'s function members are:')\n",
    "        funcs = {item[0]: item[1] for item in inspect.getmembers(c.__class__) \\\n",
    "                 if inspect.isfunction(getattr(c.__class__, item[0], None))}   \n",
    "        pprint(funcs)\n",
    "        \n",
    "    \n",
    "    \n",
    "    funcs = {item[0]: item[1] for item in inspect.getmembers(c) \\\n",
    "             if inspect.isfunction(getattr(c, item[0], None))}\n",
    "    methods = {item[0]: item[1] for item in inspect.getmembers(c) \\\n",
    "             if inspect.ismethod(getattr(c, item[0], None))}\n",
    "    classes = {item[0]: item[1] for item in inspect.getmembers(c) \\\n",
    "             if inspect.isclass(getattr(c, item[0], None))}\n",
    "    \n",
    "    print()\n",
    "    print(f'{c.__name__}\\'s function members are:')\n",
    "    pprint(funcs)\n",
    "    print()\n",
    "    print(f'{c.__name__}\\'s method members are:')\n",
    "    pprint(methods)\n",
    "    print()\n",
    "    print(f'{c.__name__}\\'s class members are:')\n",
    "    pprint(classes)\n",
    "    print()\n",
    "    print(f'{c.__name__}\\'s namespace are:')\n",
    "    pprint(c.__dict__)"
   ]
  },
  {
   "cell_type": "markdown",
   "id": "9d3ac367",
   "metadata": {},
   "source": [
    "### get the docs for each function of a class"
   ]
  },
  {
   "cell_type": "code",
   "execution_count": null,
   "id": "2a4a9ec5",
   "metadata": {},
   "outputs": [],
   "source": []
  },
  {
   "cell_type": "code",
   "execution_count": null,
   "id": "5b191c84",
   "metadata": {},
   "outputs": [],
   "source": [
    "#| export \n",
    "def inspect_class(c, src=False):\n",
    "    \"examine the details of a class\"\n",
    "    if src:\n",
    "        try:\n",
    "            print(inspect.getsource(c))\n",
    "        except: \n",
    "            pass\n",
    "    print()\n",
    "    print(f'is {c.__name__} a metaclass: {ismetaclass(c)}')\n",
    "    print(f'is {c.__name__} created by a metaclass: {False if c.__class__ == type else True}')\n",
    "    if c.__class__ is not type:\n",
    "        print(f'{c.__name__} is created by metaclass {c.__class__}')\n",
    "    else:\n",
    "        print(f'{c.__name__} is created by {c.__class__}')\n",
    "    print(f'{c.__name__}.__new__ is object.__new__: {c.__new__ is object.__new__}')   \n",
    "    print(f'{c.__name__}.__new__ is type.__new__: {c.__new__ is type.__new__}')       \n",
    "    print(f'{c.__name__}.__new__: {c.__new__}')\n",
    "    print(f'{c.__name__}.__init__ is object.__init__: {c.__init__ is object.__init__}')\n",
    "    print(f'{c.__name__}.__init__ is type.__init__: {c.__init__ is type.__init__}')    \n",
    "    print(f'{c.__name__}.__init__: {c.__init__}')\n",
    "    print(f'{c.__name__}.__call__ is object.__call__: {c.__call__ is object.__call__}')\n",
    "    print(f'{c.__name__}.__call__ is type.__call__: {c.__call__ is type.__call__}')    \n",
    "    print(f'{c.__name__}.__call__: {c.__call__}')\n",
    "    print(f'{c.__name__}.__class__: {c.__class__}')\n",
    "    print(f'{c.__name__}.__bases__: {c.__bases__}')\n",
    "    print(f'{c.__name__}.__mro__: {c.__mro__}')\n",
    "    \n",
    "    if c.__class__ is not type:\n",
    "        print()\n",
    "        print(f'{c.__name__}\\'s metaclass {c.__class__}\\'s function members are:')\n",
    "        funcs = {item[0]: item[1] for item in inspect.getmembers(c.__class__) \\\n",
    "                 if inspect.isfunction(getattr(c.__class__, item[0], None))}   \n",
    "        pprint(funcs)\n",
    "        \n",
    "    funcs = {item[0]: item[1] for item in inspect.getmembers(c) \\\n",
    "             if inspect.isfunction(getattr(c, item[0], None))}\n",
    "    methods = {item[0]: item[1] for item in inspect.getmembers(c) \\\n",
    "             if inspect.ismethod(getattr(c, item[0], None))}\n",
    "    classes = {item[0]: item[1] for item in inspect.getmembers(c) \\\n",
    "             if inspect.isclass(getattr(c, item[0], None))}\n",
    "    \n",
    "    print()\n",
    "    print(f'{c.__name__}\\'s function members are:')\n",
    "    # todos: print some space between k and v\n",
    "    for k, v in funcs.items():\n",
    "        print(f\"{k}: {inspect.getdoc(v)}\")\n",
    "    print()\n",
    "    print(f'{c.__name__}\\'s method members are:')\n",
    "    pprint(methods)\n",
    "    print()\n",
    "    print(f'{c.__name__}\\'s class members are:')\n",
    "    pprint(classes)\n",
    "    print()\n",
    "    print(f'{c.__name__}\\'s namespace are:')\n",
    "    pprint(c.__dict__)"
   ]
  },
  {
   "cell_type": "code",
   "execution_count": null,
   "id": "d4c36aca",
   "metadata": {},
   "outputs": [],
   "source": []
  },
  {
   "cell_type": "markdown",
   "id": "3fb8b9f9",
   "metadata": {},
   "source": [
    "## is it a metaclass?"
   ]
  },
  {
   "cell_type": "code",
   "execution_count": null,
   "id": "fa9893f1",
   "metadata": {},
   "outputs": [],
   "source": [
    "#| export\n",
    "def ismetaclass(mc): \n",
    "    \"check whether a class is a metaclass or not\"\n",
    "    if inspect.isclass(mc):\n",
    "        return type in mc.__mro__ \n",
    "    else: return False"
   ]
  },
  {
   "cell_type": "code",
   "execution_count": null,
   "id": "99e5ea18",
   "metadata": {},
   "outputs": [],
   "source": [
    "from fastcore.meta import *\n",
    "import inspect"
   ]
  },
  {
   "cell_type": "code",
   "execution_count": null,
   "id": "ed106d94",
   "metadata": {},
   "outputs": [
    {
     "data": {
      "text/plain": [
       "True"
      ]
     },
     "execution_count": null,
     "metadata": {},
     "output_type": "execute_result"
    }
   ],
   "source": [
    "ismetaclass(FixSigMeta)"
   ]
  },
  {
   "cell_type": "code",
   "execution_count": null,
   "id": "56baeb17",
   "metadata": {},
   "outputs": [
    {
     "data": {
      "text/plain": [
       "True"
      ]
     },
     "execution_count": null,
     "metadata": {},
     "output_type": "execute_result"
    }
   ],
   "source": [
    "ismetaclass(PrePostInitMeta)"
   ]
  },
  {
   "cell_type": "markdown",
   "id": "d7bf6c02",
   "metadata": {},
   "source": [
    "## is it a decorator"
   ]
  },
  {
   "cell_type": "code",
   "execution_count": null,
   "id": "989ed475",
   "metadata": {},
   "outputs": [],
   "source": [
    "\n",
    "def isdecorator(obj):\n",
    "    if inspect.isfunction(obj):\n",
    "        count = 0\n",
    "        defretn = \"\"\n",
    "        for l in inspect.getsource(obj).split('\\n'):\n",
    "            if \"def \" in l:\n",
    "                if count >=1:\n",
    "                    defretn = l\n",
    "                count = count + 1\n",
    "            if \"return \" in l and \"partial(\" in l:\n",
    "                return True\n",
    "            if \"return \" in l: \n",
    "                retn = l.split('return ')[1]\n",
    "                if \"(\" not in retn:\n",
    "                    if retn in defretn:\n",
    "                        return True\n",
    "                    try:\n",
    "                        retneval = eval(retn, obj.__globals__)\n",
    "                    except NameError:\n",
    "                        return False\n",
    "                    if type(retneval).__name__ == 'function':\n",
    "                        return True\n",
    "                \n",
    "        return False\n"
   ]
  },
  {
   "cell_type": "markdown",
   "id": "72fd8d12",
   "metadata": {},
   "source": [
    "### handle all kinds of exceptions for evaluating retn "
   ]
  },
  {
   "cell_type": "code",
   "execution_count": null,
   "id": "c92bbb18",
   "metadata": {},
   "outputs": [],
   "source": [
    "#| export\n",
    "def isdecorator(obj):\n",
    "    \"check whether a function is a decorator\"\n",
    "    if inspect.isfunction(obj):\n",
    "        count = 0\n",
    "        defretn = \"\"\n",
    "        for l in inspect.getsource(obj).split('\\n'):\n",
    "            if \"def \" in l:\n",
    "                if count >=1:\n",
    "                    defretn = l\n",
    "                count = count + 1\n",
    "            if \"return \" in l and \"partial(\" in l:\n",
    "                return True\n",
    "            if \"return \" in l: \n",
    "                retn = l.split('return ')[1]\n",
    "                if \"(\" not in retn:\n",
    "                    if retn in defretn:\n",
    "                        return True\n",
    "                    try:\n",
    "                        retneval = eval(retn, obj.__globals__)\n",
    "                    except:\n",
    "                        return False\n",
    "                    if type(retneval).__name__ == 'function':\n",
    "                        return True\n",
    "                \n",
    "        return False\n",
    "    else: return False\n"
   ]
  },
  {
   "cell_type": "code",
   "execution_count": null,
   "id": "1bb4c6e6",
   "metadata": {},
   "outputs": [],
   "source": [
    "test_eq(isdecorator(delegates), True)"
   ]
  },
  {
   "cell_type": "code",
   "execution_count": null,
   "id": "afdfdd80",
   "metadata": {},
   "outputs": [],
   "source": [
    "test_eq(isdecorator(test_sig), False)"
   ]
  },
  {
   "cell_type": "markdown",
   "id": "2791b2c5-ccd8-4ff1-9e48-acbf646ef084",
   "metadata": {},
   "source": [
    "## whatinside a module of a library"
   ]
  },
  {
   "cell_type": "code",
   "execution_count": null,
   "id": "bb0e8d41-9417-43e0-b3eb-a018128a9488",
   "metadata": {},
   "outputs": [],
   "source": [
    "#| export\n",
    "# from inspect import getmembers, isfunction, isclass, isbuiltin, getsource\n",
    "import os.path, pkgutil\n",
    "from pprint import pprint\n",
    "import inspect\n"
   ]
  },
  {
   "cell_type": "code",
   "execution_count": null,
   "id": "1f4b1287-a8f5-426a-8ca6-93f5c36488ad",
   "metadata": {},
   "outputs": [],
   "source": [
    "\n",
    "def whatinside(mo, # module, e.g., `import fastcore.all as fa`, use `fa` here\n",
    "               dun:bool=False, # print all items in __all__\n",
    "               func:bool=False, # print all user defined functions\n",
    "               clas:bool=False, # print all class objects\n",
    "               bltin:bool=False, # print all builtin funcs or methods\n",
    "               lib:bool=False, # print all the modules of the library it belongs to\n",
    "               cal:bool=False # print all callables\n",
    "             ): \n",
    "    'Check what inside a module: `__all__`, functions, classes, builtins, and callables'\n",
    "    dun_all = len(mo.__all__) if hasattr(mo, \"__all__\") else 0\n",
    "    funcs = inspect.getmembers(mo, inspect.isfunction)\n",
    "    classes = inspect.getmembers(mo, inspect.isclass)\n",
    "    builtins = inspect.getmembers(mo, inspect.isbuiltin)\n",
    "    callables = inspect.getmembers(mo, callable)\n",
    "    pkgpath = os.path.dirname(mo.__file__)\n",
    "    if not lib:\n",
    "        print(f\"{mo.__name__} has: \\n{dun_all} items in its __all__, and \\n{len(funcs)} user defined functions, \\n{len(classes)} classes or class objects, \\n{len(builtins)} builtin funcs and methods, and\\n{len(callables)} callables.\\n\")  \n",
    "    if hasattr(mo, \"__all__\") and dun: pprint(mo.__all__)\n",
    "    if func: \n",
    "        print(f'The user defined functions are:')\n",
    "        pprint([i[0] for i in funcs])\n",
    "    if clas: \n",
    "        print(f'The class objects are:')\n",
    "        pprint([i[0] for i in classes])\n",
    "    if bltin: \n",
    "        print(f'The builtin functions or methods are:')\n",
    "        pprint([i[0] for i in builtins])\n",
    "    if cal: \n",
    "        print(f'The callables are: ')\n",
    "        pprint([i[0] for i in callables])\n",
    "    if lib: \n",
    "        modules = [name for _, name, _ in pkgutil.iter_modules([pkgpath])]\n",
    "        print(f'The library has {len(modules)} modules')\n",
    "        pprint(modules)"
   ]
  },
  {
   "cell_type": "markdown",
   "id": "5341eee4",
   "metadata": {},
   "source": [
    "### show the type of objects inside `__all__`"
   ]
  },
  {
   "cell_type": "code",
   "execution_count": null,
   "id": "bf931251",
   "metadata": {},
   "outputs": [],
   "source": [
    "\n",
    "def whatinside(mo, # module, e.g., `import fastcore.all as fa`, use `fa` here\n",
    "               dun:bool=False, # print all items in __all__\n",
    "               func:bool=False, # print all user defined functions\n",
    "               clas:bool=False, # print all class objects\n",
    "               bltin:bool=False, # print all builtin funcs or methods\n",
    "               lib:bool=False, # print all the modules of the library it belongs to\n",
    "               cal:bool=False # print all callables\n",
    "             ): \n",
    "    'Check what inside a module: `__all__`, functions, classes, builtins, and callables'\n",
    "    dun_all = len(mo.__all__) if hasattr(mo, \"__all__\") else 0\n",
    "    funcs = inspect.getmembers(mo, inspect.isfunction)\n",
    "    classes = inspect.getmembers(mo, inspect.isclass)\n",
    "    builtins = inspect.getmembers(mo, inspect.isbuiltin)\n",
    "    callables = inspect.getmembers(mo, callable)\n",
    "    pkgpath = os.path.dirname(mo.__file__)\n",
    "    module_env = mo.__dict__\n",
    "    kind = None # assignment first before reference\n",
    "    if not lib:\n",
    "        print(f\"{mo.__name__} has: \\n{dun_all} items in its __all__, and \\n{len(funcs)} user defined functions, \\n{len(classes)} classes or class objects, \\n{len(builtins)} builtin funcs and methods, and\\n{len(callables)} callables.\\n\")  \n",
    "    if hasattr(mo, \"__all__\") and dun: \n",
    "        maxlen = max(map(lambda i : len(i) , mo.__all__ ))\n",
    "        for i in mo.__all__:\n",
    "            obj = eval(i, module_env)\n",
    "            if ismetaclass(obj):\n",
    "                kind = \"metaclass\" \n",
    "            elif inspect.isclass(obj):\n",
    "                kind = \"class\"\n",
    "            elif isdecorator(obj):\n",
    "                kind = \"decorator\"\n",
    "            elif inspect.isfunction(obj):\n",
    "                kind = \"function\"\n",
    "            tp = type(eval(i, module_env)).__name__\n",
    "            startlen = len(i)\n",
    "            if tp == kind: print(i + \":\" + \" \"*(maxlen-startlen + 5) + kind + \"    \" + \\\n",
    "                                 inspect.getdoc(eval(i, module_env)))  \n",
    "            elif tp != 'NoneType': print(i + \":\" + \" \"*(maxlen-startlen+5) + kind + \", \" + tp + \"    \" + \\\n",
    "                                 inspect.getdoc(eval(i, module_env)))\n",
    "            else: print(i + \":\" + tp)\n",
    "    if func: \n",
    "        print(f'The user defined functions are:')\n",
    "        maxlen = max(map(lambda i : len(i[0]) , funcs ))\n",
    "        for i in funcs:\n",
    "            if isdecorator(i[1]):\n",
    "                kind = \"decorator\"\n",
    "            elif inspect.isfunction(i[1]):\n",
    "                kind = \"function\"\n",
    "#             print(f\"{i[0]}: {kind}\")  \n",
    "            startlen = len(i[0])\n",
    "            print(i[0] + \":\" + \" \"*(maxlen-startlen + 5) + kind + \"    \" + \\\n",
    "                                 str(inspect.signature(i[1])))               \n",
    "    if clas: \n",
    "        print(f'The class objects are:')\n",
    "        maxlen = max(map(lambda i : len(i[0]) , funcs ))\n",
    "        for i in classes:\n",
    "            if ismetaclass(i[1]):\n",
    "                kind = \"metaclass\"\n",
    "            elif inspect.isclass(i[1]):\n",
    "                kind = \"class\"\n",
    "#             print(f\"{i[0]}: {kind}\")  \n",
    "            startlen = len(i[0])\n",
    "            if not inspect.isbuiltin(i[1]):         \n",
    "                print(i[0] + \":\" + \" \"*(maxlen-startlen + 5) + kind)\n",
    "    if bltin: \n",
    "        print(f'The builtin functions or methods are:')\n",
    "        pprint([i[0] for i in builtins])\n",
    "    if cal: \n",
    "        print(f'The callables are: ')\n",
    "        pprint([i[0] for i in callables])\n",
    "    if lib: \n",
    "        modules = [name for _, name, _ in pkgutil.iter_modules([pkgpath])]\n",
    "        print(f'The library has {len(modules)} modules')\n",
    "        pprint(modules)"
   ]
  },
  {
   "cell_type": "markdown",
   "id": "11a6652f",
   "metadata": {},
   "source": [
    "### working for fastdebug.core"
   ]
  },
  {
   "cell_type": "code",
   "execution_count": null,
   "id": "2f013749",
   "metadata": {},
   "outputs": [],
   "source": [
    "\n",
    "def whatinside(mo, # module, e.g., `import fastcore.all as fa`, use `fa` here\n",
    "               dun:bool=False, # print all items in __all__\n",
    "               func:bool=False, # print all user defined functions\n",
    "               clas:bool=False, # print all class objects\n",
    "               bltin:bool=False, # print all builtin funcs or methods\n",
    "               lib:bool=False, # print all the modules of the library it belongs to\n",
    "               cal:bool=False # print all callables\n",
    "             ): \n",
    "    'Check what inside a module: `__all__`, functions, classes, builtins, and callables'\n",
    "    dun_all = len(mo.__all__) if hasattr(mo, \"__all__\") else 0\n",
    "    funcs = inspect.getmembers(mo, inspect.isfunction)\n",
    "    classes = inspect.getmembers(mo, inspect.isclass)\n",
    "    builtins = inspect.getmembers(mo, inspect.isbuiltin)\n",
    "    callables = inspect.getmembers(mo, callable)\n",
    "    pkgpath = os.path.dirname(mo.__file__)\n",
    "    module_env = mo.__dict__\n",
    "    kind = None # assignment first before reference\n",
    "    if not lib:\n",
    "        print(f\"{mo.__name__} has: \\n{dun_all} items in its __all__, and \\n{len(funcs)} user defined functions, \\n{len(classes)} classes or class objects, \\n{len(builtins)} builtin funcs and methods, and\\n{len(callables)} callables.\\n\")  \n",
    "    if hasattr(mo, \"__all__\") and dun: \n",
    "        maxlen = max(map(lambda i : len(i) , mo.__all__ ))\n",
    "        for i in mo.__all__:\n",
    "            obj = eval(i, module_env)\n",
    "            if ismetaclass(obj):\n",
    "                kind = \"metaclass\" \n",
    "            elif inspect.isclass(obj):\n",
    "                kind = \"class\"\n",
    "            elif isdecorator(obj):\n",
    "                kind = \"decorator\"\n",
    "            elif inspect.isfunction(obj):\n",
    "                kind = \"function\"\n",
    "            tp = type(eval(i, module_env)).__name__\n",
    "            startlen = len(i)\n",
    "            if tp == kind: print(i + \":\" + \" \"*(maxlen-startlen + 5) + kind + \"    \" + \\\n",
    "                                 inspect.getdoc(eval(i, module_env)))  \n",
    "            elif kind != None and callable(eval(i, module_env)): print(i + \":\" + \" \"*(maxlen-startlen+5) + kind + \", \" + tp + \"    \" + \\\n",
    "                                 str(inspect.getdoc(eval(i, module_env))))\n",
    "#             elif tp != 'NoneType': print(i + \":\" + \" \"*(maxlen-startlen+5) + kind + \", \" + tp + \"    \" + \\\n",
    "#                                  inspect.getdoc(eval(i, module_env)))\n",
    "            else: print(i + \":\" + tp)\n",
    "    if func: \n",
    "        print(f'The user defined functions are:')\n",
    "        maxlen = max(map(lambda i : len(i[0]) , funcs ))\n",
    "        for i in funcs:\n",
    "            if isdecorator(i[1]):\n",
    "                kind = \"decorator\"\n",
    "            elif inspect.isfunction(i[1]):\n",
    "                kind = \"function\"\n",
    "#             print(f\"{i[0]}: {kind}\")  \n",
    "            startlen = len(i[0])\n",
    "            print(i[0] + \":\" + \" \"*(maxlen-startlen + 5) + kind + \"    \" + \\\n",
    "                                 str(inspect.signature(i[1])))               \n",
    "    if clas: \n",
    "        print(f'The class objects are:')\n",
    "        maxlen = max(map(lambda i : len(i[0]) , funcs ))\n",
    "        for i in classes:\n",
    "            if ismetaclass(i[1]):\n",
    "                kind = \"metaclass\"\n",
    "            elif inspect.isclass(i[1]):\n",
    "                kind = \"class\"\n",
    "#             print(f\"{i[0]}: {kind}\")  \n",
    "            startlen = len(i[0])\n",
    "            if not inspect.isbuiltin(i[1]):         \n",
    "                print(i[0] + \":\" + \" \"*(maxlen-startlen + 5) + kind)\n",
    "    if bltin: \n",
    "        print(f'The builtin functions or methods are:')\n",
    "        pprint([i[0] for i in builtins])\n",
    "    if cal: \n",
    "        print(f'The callables are: ')\n",
    "        pprint([i[0] for i in callables])\n",
    "    if lib: \n",
    "        modules = [name for _, name, _ in pkgutil.iter_modules([pkgpath])]\n",
    "        print(f'The library has {len(modules)} modules')\n",
    "        pprint(modules)"
   ]
  },
  {
   "cell_type": "markdown",
   "id": "3f236a13",
   "metadata": {},
   "source": [
    "### to show Fastdb methods"
   ]
  },
  {
   "cell_type": "code",
   "execution_count": null,
   "id": "b1b0fd7c",
   "metadata": {},
   "outputs": [],
   "source": [
    "#| export\n",
    "def whatinside(mo, # module, e.g., `import fastcore.all as fa`, use `fa` here\n",
    "               dun:bool=False, # print all items in __all__\n",
    "               func:bool=False, # print all user defined functions\n",
    "               method:bool=False, \n",
    "               clas:bool=False, # print all class objects\n",
    "               bltin:bool=False, # print all builtin funcs or methods\n",
    "               lib:bool=False, # print all the modules of the library it belongs to\n",
    "               cal:bool=False # print all callables\n",
    "             ): \n",
    "    'Check what inside a module: `__all__`, functions, classes, builtins, and callables'\n",
    "    dun_all = len(mo.__all__) if hasattr(mo, \"__all__\") else 0\n",
    "    funcs = inspect.getmembers(mo, inspect.isfunction)\n",
    "    methods = inspect.getmembers(mo, inspect.ismethod)    \n",
    "    classes = inspect.getmembers(mo, inspect.isclass)\n",
    "    builtins = inspect.getmembers(mo, inspect.isbuiltin)\n",
    "    callables = inspect.getmembers(mo, callable)\n",
    "    pkgpath = os.path.dirname(mo.__file__)\n",
    "    module_env = mo.__dict__\n",
    "    kind = None # assignment first before reference\n",
    "    if not lib:\n",
    "        print(f\"{mo.__name__} has: \\n{dun_all} items in its __all__, and \\n{len(funcs)} user defined functions, \\n{len(classes)} classes or class objects, \\n{len(builtins)} builtin funcs and methods, and\\n{len(callables)} callables.\\n\")  \n",
    "        print(inspect.getdoc(mo))\n",
    "    if hasattr(mo, \"__all__\") and dun: \n",
    "        maxlen = max(map(lambda i : len(i) , mo.__all__ ))\n",
    "        for i in mo.__all__:\n",
    "            obj = eval(i, module_env)\n",
    "            if ismetaclass(obj):\n",
    "                kind = \"metaclass\" \n",
    "            elif inspect.isclass(obj):\n",
    "                kind = \"class\"\n",
    "            elif isdecorator(obj):\n",
    "                kind = \"decorator\"\n",
    "            elif inspect.isfunction(obj):\n",
    "                kind = \"function\"\n",
    "            tp = type(eval(i, module_env)).__name__\n",
    "            startlen = len(i)\n",
    "            if tp == kind: print(i + \":\" + \" \"*(maxlen-startlen + 5) + kind + \"    \" + \\\n",
    "                                 str(inspect.getdoc(eval(i, module_env))))  \n",
    "            elif kind != None and callable(eval(i, module_env)): print(i + \":\" + \" \"*(maxlen-startlen+5) + kind + \", \" + tp + \"    \" + \\\n",
    "                                 str(inspect.getdoc(eval(i, module_env))))\n",
    "#             elif tp != 'NoneType': print(i + \":\" + \" \"*(maxlen-startlen+5) + kind + \", \" + tp + \"    \" + \\\n",
    "#                                  inspect.getdoc(eval(i, module_env)))\n",
    "            else: print(i + \":\" + tp)\n",
    "    if func: \n",
    "        print(f'The user defined functions are:')\n",
    "        maxlen = max(map(lambda i : len(i[0]) , funcs ))\n",
    "        for i in funcs:\n",
    "            if isdecorator(i[1]):\n",
    "                kind = \"decorator\"\n",
    "            elif inspect.isfunction(i[1]):\n",
    "                kind = \"function\"\n",
    "#             print(f\"{i[0]}: {kind}\")  \n",
    "            startlen = len(i[0])\n",
    "            print(i[0] + \":\" + \" \"*(maxlen-startlen + 5) + kind + \"    \" + \\\n",
    "                                 str(inspect.signature(i[1])))               \n",
    "    if clas: \n",
    "        print(f'The class objects are:')\n",
    "        maxlen = max(map(lambda i : len(i[0]) , funcs ))\n",
    "        for i in classes:\n",
    "            if ismetaclass(i[1]):\n",
    "                kind = \"metaclass\"\n",
    "            elif inspect.isclass(i[1]):\n",
    "                kind = \"class\"\n",
    "#             print(f\"{i[0]}: {kind}\")  \n",
    "            startlen = len(i[0])\n",
    "            if not inspect.isbuiltin(i[1]):         \n",
    "                print(i[0] + \":\" + \" \"*(maxlen-startlen + 5) + kind)\n",
    "    if method: \n",
    "        print(f'The methods are:')\n",
    "        pprint([i[0] for i in methods])\n",
    "    if bltin: \n",
    "        print(f'The builtin functions or methods are:')\n",
    "        pprint([i[0] for i in builtins])\n",
    "    if cal: \n",
    "        print(f'The callables are: ')\n",
    "        pprint([i[0] for i in callables])\n",
    "    if lib: \n",
    "        modules = [name for _, name, _ in pkgutil.iter_modules([pkgpath])]\n",
    "        print(f'The library has {len(modules)} modules')\n",
    "        pprint(modules)"
   ]
  },
  {
   "cell_type": "code",
   "execution_count": null,
   "id": "9307e719",
   "metadata": {},
   "outputs": [],
   "source": []
  },
  {
   "cell_type": "code",
   "execution_count": null,
   "id": "be09c77b",
   "metadata": {},
   "outputs": [
    {
     "data": {
      "text/plain": [
       "'None'"
      ]
     },
     "execution_count": null,
     "metadata": {},
     "output_type": "execute_result"
    }
   ],
   "source": [
    "str(None)"
   ]
  },
  {
   "cell_type": "code",
   "execution_count": null,
   "id": "6f2a2cc9",
   "metadata": {},
   "outputs": [],
   "source": []
  },
  {
   "cell_type": "markdown",
   "id": "0f33d8ca-cd33-435a-a1e3-d93e61576d05",
   "metadata": {},
   "source": [
    "## whichversion of a library"
   ]
  },
  {
   "cell_type": "code",
   "execution_count": null,
   "id": "6634691e-6d88-4123-8ce0-6f09834f8681",
   "metadata": {},
   "outputs": [],
   "source": [
    "#| export\n",
    "# from importlib.metadata import version, metadata, distribution\n",
    "# from platform import python_version "
   ]
  },
  {
   "cell_type": "code",
   "execution_count": null,
   "id": "347d1e2f-db5b-4efd-b7e5-fe16c4b7e581",
   "metadata": {},
   "outputs": [],
   "source": [
    "# #| export\n",
    "# def whichversion(libname:str, # library name not string\n",
    "#                 req:bool=False, # print lib requirements \n",
    "#                 file:bool=False): # print all lib files\n",
    "#     \"Give you library version and other basic info.\"\n",
    "#     if libname == \"python\":\n",
    "#         print(f\"python: {python_version()}\")\n",
    "#     else: \n",
    "#         print(f\"{metadata(libname)['Name']}: {version(libname)} \\n{metadata(libname)['Summary']}\\\n",
    "#     \\n{metadata(libname)['Author']} \\n{metadata(libname)['Home-page']} \\\n",
    "#     \\npython_version: {metadata(libname)['Requires-Python']} \\\n",
    "#     \\n{distribution(libname).locate_file(libname)}\")\n",
    "\n",
    "#     if req: \n",
    "#         print(f\"\\n{libname} requires: \")\n",
    "#         pprint(distribution(libname).requires)\n",
    "#     if file: \n",
    "#         print(f\"\\n{libname} has: \")\n",
    "#         pprint(distribution(libname).files)\n",
    "    "
   ]
  },
  {
   "cell_type": "code",
   "execution_count": null,
   "id": "b4f1d524-68f1-4901-942d-f9218fc88569",
   "metadata": {},
   "outputs": [],
   "source": [
    "# whichversion(\"python\")"
   ]
  },
  {
   "cell_type": "code",
   "execution_count": null,
   "id": "a2e68c5c-af06-4a21-a010-42c0f978aa33",
   "metadata": {},
   "outputs": [],
   "source": [
    "# whichversion(\"fastcore\")"
   ]
  },
  {
   "cell_type": "code",
   "execution_count": null,
   "id": "195c2b3b-799c-42b2-958f-f10179f99c09",
   "metadata": {},
   "outputs": [],
   "source": [
    "# whichversion(\"fastai\")"
   ]
  },
  {
   "cell_type": "code",
   "execution_count": null,
   "id": "229283cc-66f7-405f-8a51-5c2a77f646e6",
   "metadata": {},
   "outputs": [],
   "source": [
    "# whichversion(\"snoop\")"
   ]
  },
  {
   "cell_type": "code",
   "execution_count": null,
   "id": "1be157fe-7da6-4fdd-bb1b-4d26be5db698",
   "metadata": {},
   "outputs": [],
   "source": [
    "# try:\n",
    "#     whichversion(\"inspect\")\n",
    "# except: \n",
    "#     print(\"inspect won't work here\")"
   ]
  },
  {
   "cell_type": "code",
   "execution_count": null,
   "id": "3fbd6461-d22f-48ff-8783-692fa922e8c8",
   "metadata": {},
   "outputs": [],
   "source": [
    "\n",
    "# def tstenv(outenv=globals()):\n",
    "#     print(f'out global env has {len(outenv.keys())} vars')\n",
    "#     print(f'inner global env has {len(globals().keys())} vars')\n",
    "#     print(f'inner local env has {len(globals().keys())} vars')\n",
    "#     lstout = list(outenv.keys())\n",
    "#     lstin = list(globals().keys())\n",
    "#     print(lstout[:10])\n",
    "#     print(lstin[:10])\n",
    "#     print(f\"out env['__name__']: {outenv['__name__']}\")\n",
    "#     print(f\"inner env['__name__']: {globals()['__name__']}\")"
   ]
  },
  {
   "cell_type": "code",
   "execution_count": null,
   "id": "35df6681-cdf4-4660-8e7b-1fa3bdd090ee",
   "metadata": {},
   "outputs": [],
   "source": [
    "# tstenv()"
   ]
  },
  {
   "cell_type": "code",
   "execution_count": null,
   "id": "eb6f1445-54f1-491f-a99b-1ef364bb392c",
   "metadata": {},
   "outputs": [],
   "source": [
    "# len(globals().keys())"
   ]
  },
  {
   "cell_type": "markdown",
   "id": "0eb76454",
   "metadata": {},
   "source": [
    "## fastview\n",
    "display the commented source code"
   ]
  },
  {
   "cell_type": "code",
   "execution_count": null,
   "id": "71d4cd2f",
   "metadata": {},
   "outputs": [],
   "source": [
    "#| export\n",
    "def fastview(name, # can be both object itself or str, e.g., delegates, FixSigMeta\n",
    "            nb=False # add a link to the notebook where comments are added\n",
    "            ): \n",
    "    \"to view the commented src code in color print and with examples\"\n",
    "    if type(name) == str:\n",
    "        file_name ='/Users/Natsume/Documents/fastdebug/learnings/' + name + '.py'\n",
    "    else:\n",
    "        file_name ='/Users/Natsume/Documents/fastdebug/learnings/' + name.__name__ + '.py' \n",
    "\n",
    "    with open(file_name, 'r') as f:\n",
    "        # Read and print the entire file line by line\n",
    "        for l in f:\n",
    "            print(l, end='')\n",
    "    if nb:\n",
    "        openNB(name)    "
   ]
  },
  {
   "cell_type": "code",
   "execution_count": null,
   "id": "2de64f30",
   "metadata": {},
   "outputs": [],
   "source": [
    "# file_name ='/Users/Natsume/Documents/fastdebug/learnings/' + self.orisrc.__name__ + '.py' \n",
    "#     # learn about /tmp folder https://www.fosslinux.com/41739/linux-tmp-directory-everything-you-need-to-know.htm\n",
    "# with open(file_name, 'w') as f:\n",
    "# # with open(file_name, 'r') as f:    \n",
    "#     f.write(\"this is me\")\n",
    "\n",
    "# with open('dog_breeds.txt', 'r') as reader:\n",
    "#     # Read & print the entire file\n",
    "#     print(reader.read())    \n",
    "    \n",
    "# with open(file_name, 'r') as f:\n",
    "#     # Read and print the entire file line by line\n",
    "#     for l in f:\n",
    "#         print(l, end='')    \n",
    "        \n",
    "# with open(file_name, 'a') as f:\n",
    "#     f.write('\\nBeagle')"
   ]
  },
  {
   "cell_type": "code",
   "execution_count": null,
   "id": "66f44af6",
   "metadata": {},
   "outputs": [],
   "source": [
    "#| export\n",
    "import os"
   ]
  },
  {
   "cell_type": "code",
   "execution_count": null,
   "id": "330a25fe",
   "metadata": {},
   "outputs": [
    {
     "name": "stdout",
     "output_type": "stream",
     "text": [
      "\n",
      "class _T(metaclass=PrePostInitMeta):\n",
      "    def __pre_init__(self):  self.a  = 0; \n",
      "    def __init__(self,b=0):  self.b = self.a + 1; assert self.b==1\n",
      "    def __post_init__(self): self.c = self.b + 2; assert self.c==3\n",
      "\n",
      "t = _T()\n",
      "test_eq(t.a, 0) # set with __pre_init__\n",
      "test_eq(t.b, 1) # set with __init__\n",
      "test_eq(t.c, 3) # set with __post_init__\n",
      "inspect.signature(_T)\n",
      "\n",
      "class PrePostInitMeta(FixSigMeta):========================================================(0)       \n",
      "    \"A metaclass that calls optional `__pre_init__` and `__post_init__` methods\"==========(1) # \u001b[92;1mPrePostInitMeta inherit __new__ and __init__ from FixSigMeta as a metaclass (a different type)\u001b[0m; \u001b[93;1mnot from type, nor from object\u001b[0m; \u001b[35;1mPrePostInitMeta is itself a metaclass, which is used to create class instance not object instance\u001b[0m; \u001b[91;1mPrePostInitMeta writes its own __call__ which regulates how its class instance create and initialize object instance\u001b[0m; \n",
      "    def __call__(cls, *args, **kwargs):===================================================(2)       \n",
      "        res = cls.__new__(cls)============================================================(3) # \u001b[36;1mhow to create an object instance with a cls\u001b[0m; \u001b[35;1mhow to check the type of an object is cls\u001b[0m; \u001b[36;1mhow to run a function without knowing its params;\u001b[0m; \n",
      "        if type(res)==cls:================================================================(4)       \n",
      "            if hasattr(res,'__pre_init__'): res.__pre_init__(*args,**kwargs)==============(5)       \n",
      "            res.__init__(*args,**kwargs)==================================================(6) # \u001b[34;1mhow to run __init__ without knowing its params\u001b[0m; \n",
      "            if hasattr(res,'__post_init__'): res.__post_init__(*args,**kwargs)============(7)       \n",
      "        return res========================================================================(8)       \n",
      "                                                                                                                                                        (9)\n"
     ]
    }
   ],
   "source": [
    "# fastsrcs()\n",
    "fastview(\"PrePostInitMeta\")"
   ]
  },
  {
   "cell_type": "code",
   "execution_count": null,
   "id": "944018a5",
   "metadata": {},
   "outputs": [],
   "source": []
  },
  {
   "cell_type": "markdown",
   "id": "cbcd43c9",
   "metadata": {},
   "source": [
    "## fastscrs"
   ]
  },
  {
   "cell_type": "code",
   "execution_count": null,
   "id": "8f28ffba",
   "metadata": {},
   "outputs": [],
   "source": [
    "#| export\n",
    "def fastsrcs():\n",
    "    \"to list all commented src files\"\n",
    "    folder ='/Users/Natsume/Documents/fastdebug/learnings/'\n",
    "    for f in os.listdir(folder):\n",
    "        if f.endswith(\".py\"):\n",
    "            # Prints only text file present in My Folder\n",
    "            print(f)"
   ]
  },
  {
   "cell_type": "code",
   "execution_count": null,
   "id": "7b826cbb",
   "metadata": {},
   "outputs": [
    {
     "name": "stdout",
     "output_type": "stream",
     "text": [
      "anno_dict.py\n",
      "test_sig.py\n",
      "subplots.py\n",
      "show_titled_image.py\n",
      "DataBlock.py\n",
      "BypassNewMeta.py\n",
      "snoop.py\n",
      "FixSigMeta.py\n",
      "show_images.py\n",
      "fastnbs.py\n",
      "_fig_bounds.py\n",
      "funcs_kwargs.py\n",
      "__init__.py\n",
      "NewChkMeta.py\n",
      "printtitle.py\n",
      "show_image.py\n",
      "AutoInit.py\n",
      "get_image_files.py\n",
      "method.py\n",
      "_rm_self.py\n",
      "delegates.py\n",
      "create_explore_str.py\n",
      "PrePostInitMeta.py\n",
      "_funcs_kwargs.py\n",
      "whatinside.py\n"
     ]
    }
   ],
   "source": [
    "fastsrcs()"
   ]
  },
  {
   "cell_type": "markdown",
   "id": "f3d0876d",
   "metadata": {},
   "source": [
    "## getrootport"
   ]
  },
  {
   "cell_type": "code",
   "execution_count": null,
   "id": "9f1b8b99",
   "metadata": {},
   "outputs": [],
   "source": []
  },
  {
   "cell_type": "code",
   "execution_count": null,
   "id": "5ab1e512",
   "metadata": {},
   "outputs": [],
   "source": [
    "#| exporti\n",
    "def getrootport():\n",
    "    \"get the local port and notebook dir\"\n",
    "    from notebook import notebookapp\n",
    "    root_server = \"\"\n",
    "    root_dir = \"\"\n",
    "    for note in notebookapp.list_running_servers():\n",
    "        if \"fastdebug\" in note['notebook_dir']:\n",
    "            root_server = str(note['url']) + \"tree/\"\n",
    "            root_dir = note['notebook_dir']\n",
    "    return (root_server, root_dir)"
   ]
  },
  {
   "cell_type": "code",
   "execution_count": null,
   "id": "131bc889",
   "metadata": {},
   "outputs": [
    {
     "name": "stdout",
     "output_type": "stream",
     "text": [
      "{'base_url': '/', 'hostname': 'localhost', 'notebook_dir': '/Users/Natsume/Documents/fastdebug', 'password': False, 'pid': 48277, 'port': 8888, 'secure': False, 'sock': '', 'token': '2dc1dccbd7d6d208871ac250062d6c34fb4b8e670622f237', 'url': 'http://localhost:8888/'}\n"
     ]
    }
   ],
   "source": [
    "from notebook import notebookapp\n",
    "for note in notebookapp.list_running_servers():\n",
    "    print(note)"
   ]
  },
  {
   "cell_type": "code",
   "execution_count": null,
   "id": "77961519",
   "metadata": {},
   "outputs": [
    {
     "data": {
      "text/plain": [
       "('http://localhost:8888/tree/', '/Users/Natsume/Documents/fastdebug')"
      ]
     },
     "execution_count": null,
     "metadata": {},
     "output_type": "execute_result"
    }
   ],
   "source": [
    "getrootport()"
   ]
  },
  {
   "cell_type": "markdown",
   "id": "2d1bd7fa",
   "metadata": {},
   "source": [
    "## jn_link"
   ]
  },
  {
   "cell_type": "code",
   "execution_count": null,
   "id": "9e6f8845",
   "metadata": {},
   "outputs": [],
   "source": [
    "#| exporti\n",
    "def jn_link(name, file_path, where=\"locally\"):\n",
    "    \"Get a link to the notebook at `path` on Jupyter Notebook\"\n",
    "    from IPython.display import Markdown\n",
    "    display(Markdown(f'[Open `{name}` in Jupyter Notebook {where}]({file_path})'))                "
   ]
  },
  {
   "cell_type": "code",
   "execution_count": null,
   "id": "1faaf302",
   "metadata": {},
   "outputs": [
    {
     "data": {
      "text/markdown": [
       "[Open `utils` in Jupyter Notebook locally](http://localhost:8888/notebooks/nbs/lib/utils.ipynb)"
      ],
      "text/plain": [
       "<IPython.core.display.Markdown object>"
      ]
     },
     "metadata": {},
     "output_type": "display_data"
    }
   ],
   "source": [
    "jn_link(\"utils\", \"http://localhost:8888/notebooks/nbs/lib/utils.ipynb\")"
   ]
  },
  {
   "cell_type": "markdown",
   "id": "033afe2e",
   "metadata": {},
   "source": [
    "## get_all_nbs"
   ]
  },
  {
   "cell_type": "markdown",
   "id": "12de743e",
   "metadata": {},
   "source": [
    "### get all nbs path for both md and ipynb"
   ]
  },
  {
   "cell_type": "code",
   "execution_count": null,
   "id": "48a29e99",
   "metadata": {},
   "outputs": [],
   "source": []
  },
  {
   "cell_type": "code",
   "execution_count": null,
   "id": "4ac0c3d8",
   "metadata": {},
   "outputs": [],
   "source": [
    "#| export\n",
    "from pathlib import *"
   ]
  },
  {
   "cell_type": "code",
   "execution_count": null,
   "id": "aacae26a",
   "metadata": {},
   "outputs": [
    {
     "data": {
      "text/plain": [
       "['/Users/Natsume/Documents/fastdebug/mds/.DS_Store',\n",
       " '/Users/Natsume/Documents/fastdebug/mds/index.md',\n",
       " '/Users/Natsume/Documents/fastdebug/mds/lib',\n",
       " '/Users/Natsume/Documents/fastdebug/mds/.ipynb_checkpoints',\n",
       " '/Users/Natsume/Documents/fastdebug/mds/fastai_notebooks',\n",
       " '/Users/Natsume/Documents/fastdebug/mds/demos',\n",
       " '/Users/Natsume/Documents/fastdebug/mds/questions']"
      ]
     },
     "execution_count": null,
     "metadata": {},
     "output_type": "execute_result"
    }
   ],
   "source": [
    "list(map(str, list((Path.home()/\"Documents/fastdebug/mds\").ls())))"
   ]
  },
  {
   "cell_type": "code",
   "execution_count": null,
   "id": "4072bfbc",
   "metadata": {},
   "outputs": [
    {
     "data": {
      "text/plain": [
       "'/Users/Natsume/Documents/fastdebug/mds/'"
      ]
     },
     "execution_count": null,
     "metadata": {},
     "output_type": "execute_result"
    }
   ],
   "source": [
    "str(Path.home()/\"Documents/fastdebug/mds\") + \"/\""
   ]
  },
  {
   "cell_type": "code",
   "execution_count": null,
   "id": "0d68baa3",
   "metadata": {},
   "outputs": [],
   "source": [
    "#| export\n",
    "def get_all_nbs():\n",
    "    \"return paths for all nbs both in md and ipynb format into lists\"\n",
    "#     md_folder = '/Users/Natsume/Documents/divefastai/Debuggable/jupytext/'\n",
    "    py_folder = str(Path.home()/\"Documents/fastdebug/fastdebug\") + \"/\"\n",
    "    md_folder = str(Path.home()/\"Documents/fastdebug/mds\") + \"/\" # '/Users/Natsume/Documents/fastdebug/mds/'\n",
    "    md_output_folder = str(Path.home()/\"Documents/fastdebug/mds_output\") + \"/\" # '/Users/Natsume/Documents/fastdebug/mds_output/'    \n",
    "    ipy_folder = str(Path.home()/\"Documents/fastdebug/nbs\") + \"/\" # '/Users/Natsume/Documents/fastdebug/nbs/'\n",
    "    \n",
    "    pys = []\n",
    "    for i in os.listdir(py_folder):\n",
    "        if \".py\" in i or \".ipynb\" in i: \n",
    "            pys.append(py_folder + i)\n",
    "    \n",
    "    md_nbs = []\n",
    "    for i in os.listdir(md_folder):\n",
    "        if \".\" not in i:\n",
    "            md_nbs = md_nbs + [md_folder + i + \"/\" + j for j in os.listdir(md_folder + i) if j.endswith('.md')]\n",
    "\n",
    "    md_output_nbs = [md_output_folder + i for i in os.listdir(md_output_folder) if \".md\" in i]        \n",
    "            \n",
    "    ipy_nbs = []\n",
    "    for i in os.listdir(ipy_folder):\n",
    "        if \".ipynb\" in i: \n",
    "            ipy_nbs.append(ipy_folder + i)\n",
    "        elif \".\" not in i:\n",
    "            ipy_nbs = ipy_nbs + [ipy_folder + i + \"/\" + j for j in os.listdir(ipy_folder + i) if j.endswith('.ipynb')]\n",
    "\n",
    "            \n",
    "    return (md_nbs, md_folder, ipy_nbs, ipy_folder, md_output_nbs, md_output_folder, pys, py_folder)"
   ]
  },
  {
   "cell_type": "code",
   "execution_count": null,
   "id": "4c6a328a",
   "metadata": {},
   "outputs": [],
   "source": []
  },
  {
   "cell_type": "code",
   "execution_count": null,
   "id": "c9cb27aa",
   "metadata": {},
   "outputs": [
    {
     "name": "stdout",
     "output_type": "stream",
     "text": [
      "['/Users/Natsume/Documents/fastdebug/mds/lib/00_core.md',\n",
      " '/Users/Natsume/Documents/fastdebug/mds/lib/01_utils.md',\n",
      " '/Users/Natsume/Documents/fastdebug/mds/fastai_notebooks/0016_collaborative_filtering_deep_dive.md',\n",
      " '/Users/Natsume/Documents/fastdebug/mds/fastai_notebooks/kaggle-otto-process-data.md',\n",
      " '/Users/Natsume/Documents/fastdebug/mds/fastai_notebooks/0022_fastai_pt2_2019_why_sqrt5.md',\n",
      " '/Users/Natsume/Documents/fastdebug/mds/fastai_notebooks/0007_fastai_how_random_forests_really_work.md',\n",
      " '/Users/Natsume/Documents/fastdebug/mds/fastai_notebooks/fastai_kaggle_Radek_OTTO.md',\n",
      " '/Users/Natsume/Documents/fastdebug/mds/fastai_notebooks/00_fastai_how_to_follow_Radek.md',\n",
      " '/Users/Natsume/Documents/fastdebug/mds/fastai_notebooks/fastai_links_forums_kaggle_github.md',\n",
      " '/Users/Natsume/Documents/fastdebug/mds/fastai_notebooks/0004_fastai_how_neuralnet_work.md',\n",
      " '/Users/Natsume/Documents/fastdebug/mds/fastai_notebooks/0001_fastai_is_it_a_bird.md',\n",
      " '/Users/Natsume/Documents/fastdebug/mds/fastai_notebooks/0014_iterate_like_grandmaster.md',\n",
      " '/Users/Natsume/Documents/fastdebug/mds/fastai_notebooks/kaggle_otto_dataset_details.md',\n",
      " '/Users/Natsume/Documents/fastdebug/mds/fastai_notebooks/0006_fastai_why_should_use_framework.md',\n",
      " '/Users/Natsume/Documents/fastdebug/mds/fastai_notebooks/fastai_kaggle_otto_radek_recsys_overview.md',\n",
      " '/Users/Natsume/Documents/fastdebug/mds/fastai_notebooks/003_fastai_radek_newsletter.md',\n",
      " '/Users/Natsume/Documents/fastdebug/mds/fastai_notebooks/0011_fastai_multi_target_road_to_top_part_4.md',\n",
      " '/Users/Natsume/Documents/fastdebug/mds/fastai_notebooks/0010_fastai_scaling_up_road_to_top_part_3.md',\n",
      " '/Users/Natsume/Documents/fastdebug/mds/fastai_notebooks/regex.md',\n",
      " '/Users/Natsume/Documents/fastdebug/mds/fastai_notebooks/0017_fastai_pt2_2019_matmul.md',\n",
      " \"/Users/Natsume/Documents/fastdebug/mds/fastai_notebooks/A beginner's map to \"\n",
      " 'kaggle OTTO competition.md',\n",
      " '/Users/Natsume/Documents/fastdebug/mds/fastai_notebooks/002_fastai_Radek_newsletter.md',\n",
      " '/Users/Natsume/Documents/fastdebug/mds/fastai_notebooks/0008_fastai_first_steps_road_to_top_part_1.md',\n",
      " '/Users/Natsume/Documents/fastdebug/mds/fastai_notebooks/0021_fastai_pt2_2019_fully_connected.md',\n",
      " '/Users/Natsume/Documents/fastdebug/mds/fastai_notebooks/0009_fastai_small_models_road_to_the_top_part_2.md',\n",
      " '/Users/Natsume/Documents/fastdebug/mds/fastai_notebooks/0002_fastai_saving_a_basic_fastai_model.md',\n",
      " '/Users/Natsume/Documents/fastdebug/mds/fastai_notebooks/003_radek_newsletter.md',\n",
      " '/Users/Natsume/Documents/fastdebug/mds/fastai_notebooks/kaggle-otto-polars-lgbm-ranker.md',\n",
      " '/Users/Natsume/Documents/fastdebug/mds/fastai_notebooks/kaggle-access-parquet-otto.md',\n",
      " '/Users/Natsume/Documents/fastdebug/mds/fastai_notebooks/fastai_kaggle_otto_Radek_covisiation_matrix_discussion.md',\n",
      " '/Users/Natsume/Documents/fastdebug/mds/fastai_notebooks/0005_fastai_linear_neuralnet_scratch.md',\n",
      " '/Users/Natsume/Documents/fastdebug/mds/fastai_notebooks/0015_getting_started_with_nlp_for_absolute_beginner.md',\n",
      " '/Users/Natsume/Documents/fastdebug/mds/fastai_notebooks/001_newletter_Radek.md',\n",
      " '/Users/Natsume/Documents/fastdebug/mds/fastai_notebooks/fastai_kaggle_radek_covisitation_matrix_simplifed.md',\n",
      " '/Users/Natsume/Documents/fastdebug/mds/fastai_notebooks/fastai_kaggle_radek_otto_eda.md',\n",
      " '/Users/Natsume/Documents/fastdebug/mds/fastai_notebooks/0000_fastai_kaggle_paddy_001.md',\n",
      " '/Users/Natsume/Documents/fastdebug/mds/fastai_notebooks/0013_best_vision_models_for_fine_tuning.md',\n",
      " '/Users/Natsume/Documents/fastdebug/mds/fastai_notebooks/kaggle-otto-rd-last-20-aids.md',\n",
      " '/Users/Natsume/Documents/fastdebug/mds/fastai_notebooks/0012_fastai_using_nbdev_export_in_kaggle_notebook.md',\n",
      " '/Users/Natsume/Documents/fastdebug/mds/fastai_notebooks/0020_fastai_pt2_2019_source_explained.md',\n",
      " '/Users/Natsume/Documents/fastdebug/mds/fastai_notebooks/0003_fastai_which_image_model_best.md',\n",
      " '/Users/Natsume/Documents/fastdebug/mds/fastai_notebooks/0018_fastai_pt2_2019_exports.md',\n",
      " '/Users/Natsume/Documents/fastdebug/mds/fastai_notebooks/0019_fastai_pt2_2019_lecture1_intro.md',\n",
      " '/Users/Natsume/Documents/fastdebug/mds/fastai_notebooks/001_fastai_newletter_Radek.md',\n",
      " '/Users/Natsume/Documents/fastdebug/mds/fastai_notebooks/01_Categorify.md',\n",
      " '/Users/Natsume/Documents/fastdebug/mds/fastai_notebooks/00_fastai_Meta_learning_Radek.md',\n",
      " '/Users/Natsume/Documents/fastdebug/mds/fastai_notebooks/kaggle-local-validation-framework-otto.md']\n",
      "\n",
      "'/Users/Natsume/Documents/fastdebug/mds/'\n",
      "\n",
      "['/Users/Natsume/Documents/fastdebug/nbs/Interesting_fastai/0001_The_origin_of_APL '\n",
      " '.ipynb',\n",
      " '/Users/Natsume/Documents/fastdebug/nbs/Interesting_fastai/Interesting_things_fastai.ipynb',\n",
      " '/Users/Natsume/Documents/fastdebug/nbs/Math/math_0002_calculus.ipynb',\n",
      " '/Users/Natsume/Documents/fastdebug/nbs/Math/math_0001_highschool.ipynb',\n",
      " '/Users/Natsume/Documents/fastdebug/nbs/Math/sympy1.ipynb',\n",
      " '/Users/Natsume/Documents/fastdebug/nbs/lib/00_core.ipynb',\n",
      " '/Users/Natsume/Documents/fastdebug/nbs/lib/01_utils.ipynb',\n",
      " '/Users/Natsume/Documents/fastdebug/nbs/.ipynb_checkpoints',\n",
      " '/Users/Natsume/Documents/fastdebug/nbs/fastai_notebooks/0009_fastai_small_models_road_to_the_top_part_2.ipynb',\n",
      " '/Users/Natsume/Documents/fastdebug/nbs/fastai_notebooks/kaggle-otto-process-data.ipynb',\n",
      " '/Users/Natsume/Documents/fastdebug/nbs/fastai_notebooks/001_fastai_newletter_Radek.ipynb',\n",
      " '/Users/Natsume/Documents/fastdebug/nbs/fastai_notebooks/0007_fastai_how_random_forests_really_work.ipynb',\n",
      " '/Users/Natsume/Documents/fastdebug/nbs/fastai_notebooks/0001_fastai_is_it_a_bird.ipynb',\n",
      " '/Users/Natsume/Documents/fastdebug/nbs/fastai_notebooks/0005_fastai_linear_neuralnet_scratch.ipynb',\n",
      " '/Users/Natsume/Documents/fastdebug/nbs/fastai_notebooks/01_Categorify.ipynb',\n",
      " '/Users/Natsume/Documents/fastdebug/nbs/fastai_notebooks/0003_fastai_which_image_model_best.ipynb',\n",
      " '/Users/Natsume/Documents/fastdebug/nbs/fastai_notebooks/fastai_kaggle_Radek_OTTO.ipynb',\n",
      " '/Users/Natsume/Documents/fastdebug/nbs/fastai_notebooks/fastai_kaggle_otto_Radek_covisiation_matrix_discussion.ipynb',\n",
      " '/Users/Natsume/Documents/fastdebug/nbs/fastai_notebooks/kaggle-access-parquet-otto.ipynb',\n",
      " '/Users/Natsume/Documents/fastdebug/nbs/fastai_notebooks/0014_iterate_like_grandmaster.ipynb',\n",
      " '/Users/Natsume/Documents/fastdebug/nbs/fastai_notebooks/0006_fastai_why_should_use_framework.ipynb',\n",
      " '/Users/Natsume/Documents/fastdebug/nbs/fastai_notebooks/fastai_kaggle_radek_covisitation_matrix_simplifed.ipynb',\n",
      " '/Users/Natsume/Documents/fastdebug/nbs/fastai_notebooks/regex.ipynb',\n",
      " '/Users/Natsume/Documents/fastdebug/nbs/fastai_notebooks/00_fastai_Meta_learning_Radek.ipynb',\n",
      " '/Users/Natsume/Documents/fastdebug/nbs/fastai_notebooks/kaggle-local-validation-framework-otto.ipynb',\n",
      " '/Users/Natsume/Documents/fastdebug/nbs/fastai_notebooks/0013_best_vision_models_for_fine_tuning.ipynb',\n",
      " '/Users/Natsume/Documents/fastdebug/nbs/fastai_notebooks/0015_getting_started_with_nlp_for_absolute_beginner.ipynb',\n",
      " '/Users/Natsume/Documents/fastdebug/nbs/fastai_notebooks/fastai_kaggle_radek_otto_eda.ipynb',\n",
      " '/Users/Natsume/Documents/fastdebug/nbs/fastai_notebooks/0017_fastai_pt2_2019_matmul.ipynb',\n",
      " '/Users/Natsume/Documents/fastdebug/nbs/fastai_notebooks/0019_fastai_pt2_2019_lecture1_intro.ipynb',\n",
      " '/Users/Natsume/Documents/fastdebug/nbs/fastai_notebooks/0000_fastai_kaggle_paddy_001.ipynb',\n",
      " '/Users/Natsume/Documents/fastdebug/nbs/fastai_notebooks/fastai_links_forums_kaggle_github.ipynb',\n",
      " '/Users/Natsume/Documents/fastdebug/nbs/fastai_notebooks/kaggle-otto-polars-lgbm-ranker.ipynb',\n",
      " '/Users/Natsume/Documents/fastdebug/nbs/fastai_notebooks/002_fastai_Radek_newsletter.ipynb',\n",
      " '/Users/Natsume/Documents/fastdebug/nbs/fastai_notebooks/0012_fastai_using_nbdev_export_in_kaggle_notebook.ipynb',\n",
      " '/Users/Natsume/Documents/fastdebug/nbs/fastai_notebooks/00_fastai_how_to_follow_Radek.ipynb',\n",
      " '/Users/Natsume/Documents/fastdebug/nbs/fastai_notebooks/003_radek_newsletter.ipynb',\n",
      " '/Users/Natsume/Documents/fastdebug/nbs/fastai_notebooks/0008_fastai_first_steps_road_to_top_part_1.ipynb',\n",
      " '/Users/Natsume/Documents/fastdebug/nbs/fastai_notebooks/0002_fastai_saving_a_basic_fastai_model.ipynb',\n",
      " '/Users/Natsume/Documents/fastdebug/nbs/fastai_notebooks/003_fastai_radek_newsletter.ipynb',\n",
      " '/Users/Natsume/Documents/fastdebug/nbs/fastai_notebooks/0021_fastai_pt2_2019_fully_connected.ipynb',\n",
      " '/Users/Natsume/Documents/fastdebug/nbs/fastai_notebooks/0010_fastai_scaling_up_road_to_top_part_3.ipynb',\n",
      " '/Users/Natsume/Documents/fastdebug/nbs/fastai_notebooks/001_newletter_Radek.ipynb',\n",
      " \"/Users/Natsume/Documents/fastdebug/nbs/fastai_notebooks/A beginner's map to \"\n",
      " 'kaggle OTTO competition.ipynb',\n",
      " '/Users/Natsume/Documents/fastdebug/nbs/fastai_notebooks/kaggle_otto_dataset_details.ipynb',\n",
      " '/Users/Natsume/Documents/fastdebug/nbs/fastai_notebooks/fastai_kaggle_otto_radek_recsys_overview.ipynb',\n",
      " '/Users/Natsume/Documents/fastdebug/nbs/fastai_notebooks/kaggle-otto-rd-last-20-aids.ipynb',\n",
      " '/Users/Natsume/Documents/fastdebug/nbs/fastai_notebooks/0022_fastai_pt2_2019_why_sqrt5.ipynb',\n",
      " '/Users/Natsume/Documents/fastdebug/nbs/fastai_notebooks/0018_fastai_pt2_2019_exports.ipynb',\n",
      " '/Users/Natsume/Documents/fastdebug/nbs/fastai_notebooks/0016_collaborative_filtering_deep_dive.ipynb',\n",
      " '/Users/Natsume/Documents/fastdebug/nbs/fastai_notebooks/0011_fastai_multi_target_road_to_top_part_4.ipynb',\n",
      " '/Users/Natsume/Documents/fastdebug/nbs/fastai_notebooks/0020_fastai_pt2_2019_source_explained.ipynb',\n",
      " '/Users/Natsume/Documents/fastdebug/nbs/fastai_notebooks/0004_fastai_how_neuralnet_work.ipynb',\n",
      " '/Users/Natsume/Documents/fastdebug/nbs/index.ipynb']\n",
      "\n",
      "'/Users/Natsume/Documents/fastdebug/nbs/'\n",
      "\n",
      "['/Users/Natsume/Documents/fastdebug/mds_output/0016_collaborative_filtering_deep_dive.md',\n",
      " '/Users/Natsume/Documents/fastdebug/mds_output/kaggle-otto-process-data.md',\n",
      " '/Users/Natsume/Documents/fastdebug/mds_output/0022_fastai_pt2_2019_why_sqrt5.md',\n",
      " '/Users/Natsume/Documents/fastdebug/mds_output/0007_fastai_how_random_forests_really_work.md',\n",
      " '/Users/Natsume/Documents/fastdebug/mds_output/fastai_kaggle_Radek_OTTO.md',\n",
      " '/Users/Natsume/Documents/fastdebug/mds_output/00_fastai_how_to_follow_Radek.md',\n",
      " '/Users/Natsume/Documents/fastdebug/mds_output/fastai_links_forums_kaggle_github.md',\n",
      " '/Users/Natsume/Documents/fastdebug/mds_output/0004_fastai_how_neuralnet_work.md',\n",
      " '/Users/Natsume/Documents/fastdebug/mds_output/0001_fastai_is_it_a_bird.md',\n",
      " '/Users/Natsume/Documents/fastdebug/mds_output/0014_iterate_like_grandmaster.md',\n",
      " '/Users/Natsume/Documents/fastdebug/mds_output/kaggle_otto_dataset_details.md',\n",
      " '/Users/Natsume/Documents/fastdebug/mds_output/0006_fastai_why_should_use_framework.md',\n",
      " '/Users/Natsume/Documents/fastdebug/mds_output/fastai_kaggle_otto_radek_recsys_overview.md',\n",
      " '/Users/Natsume/Documents/fastdebug/mds_output/003_fastai_radek_newsletter.md',\n",
      " '/Users/Natsume/Documents/fastdebug/mds_output/0011_fastai_multi_target_road_to_top_part_4.md',\n",
      " '/Users/Natsume/Documents/fastdebug/mds_output/0010_fastai_scaling_up_road_to_top_part_3.md',\n",
      " '/Users/Natsume/Documents/fastdebug/mds_output/regex.md',\n",
      " '/Users/Natsume/Documents/fastdebug/mds_output/0017_fastai_pt2_2019_matmul.md',\n",
      " \"/Users/Natsume/Documents/fastdebug/mds_output/A beginner's map to kaggle \"\n",
      " 'OTTO competition.md',\n",
      " '/Users/Natsume/Documents/fastdebug/mds_output/002_fastai_Radek_newsletter.md',\n",
      " '/Users/Natsume/Documents/fastdebug/mds_output/0008_fastai_first_steps_road_to_top_part_1.md',\n",
      " '/Users/Natsume/Documents/fastdebug/mds_output/0021_fastai_pt2_2019_fully_connected.md',\n",
      " '/Users/Natsume/Documents/fastdebug/mds_output/0009_fastai_small_models_road_to_the_top_part_2.md',\n",
      " '/Users/Natsume/Documents/fastdebug/mds_output/0002_fastai_saving_a_basic_fastai_model.md',\n",
      " '/Users/Natsume/Documents/fastdebug/mds_output/003_radek_newsletter.md',\n",
      " '/Users/Natsume/Documents/fastdebug/mds_output/kaggle-otto-polars-lgbm-ranker.md',\n",
      " '/Users/Natsume/Documents/fastdebug/mds_output/index.md',\n",
      " '/Users/Natsume/Documents/fastdebug/mds_output/kaggle-access-parquet-otto.md',\n",
      " '/Users/Natsume/Documents/fastdebug/mds_output/00_core.md',\n",
      " '/Users/Natsume/Documents/fastdebug/mds_output/fastai_kaggle_otto_Radek_covisiation_matrix_discussion.md',\n",
      " '/Users/Natsume/Documents/fastdebug/mds_output/0005_fastai_linear_neuralnet_scratch.md',\n",
      " '/Users/Natsume/Documents/fastdebug/mds_output/0015_getting_started_with_nlp_for_absolute_beginner.md',\n",
      " '/Users/Natsume/Documents/fastdebug/mds_output/001_newletter_Radek.md',\n",
      " '/Users/Natsume/Documents/fastdebug/mds_output/fastai_kaggle_radek_covisitation_matrix_simplifed.md',\n",
      " '/Users/Natsume/Documents/fastdebug/mds_output/fastai_kaggle_radek_otto_eda.md',\n",
      " '/Users/Natsume/Documents/fastdebug/mds_output/0000_fastai_kaggle_paddy_001.md',\n",
      " '/Users/Natsume/Documents/fastdebug/mds_output/0013_best_vision_models_for_fine_tuning.md',\n",
      " '/Users/Natsume/Documents/fastdebug/mds_output/kaggle-otto-rd-last-20-aids.md',\n",
      " '/Users/Natsume/Documents/fastdebug/mds_output/0012_fastai_using_nbdev_export_in_kaggle_notebook.md',\n",
      " '/Users/Natsume/Documents/fastdebug/mds_output/0020_fastai_pt2_2019_source_explained.md',\n",
      " '/Users/Natsume/Documents/fastdebug/mds_output/0003_fastai_which_image_model_best.md',\n",
      " '/Users/Natsume/Documents/fastdebug/mds_output/0018_fastai_pt2_2019_exports.md',\n",
      " '/Users/Natsume/Documents/fastdebug/mds_output/01_utils.md',\n",
      " '/Users/Natsume/Documents/fastdebug/mds_output/0019_fastai_pt2_2019_lecture1_intro.md',\n",
      " '/Users/Natsume/Documents/fastdebug/mds_output/001_fastai_newletter_Radek.md',\n",
      " '/Users/Natsume/Documents/fastdebug/mds_output/01_Categorify.md',\n",
      " '/Users/Natsume/Documents/fastdebug/mds_output/00_fastai_Meta_learning_Radek.md',\n",
      " '/Users/Natsume/Documents/fastdebug/mds_output/kaggle-local-validation-framework-otto.md']\n",
      "\n",
      "'/Users/Natsume/Documents/fastdebug/mds_output/'\n",
      "\n",
      "['/Users/Natsume/Documents/fastdebug/fastdebug/fastaiTD.py',\n",
      " '/Users/Natsume/Documents/fastdebug/fastdebug/delete_fastcore_foundation.py',\n",
      " '/Users/Natsume/Documents/fastdebug/fastdebug/to_delete_torch_core.py',\n",
      " '/Users/Natsume/Documents/fastdebug/fastdebug/fastai_src_utils_remove_failed.py',\n",
      " '/Users/Natsume/Documents/fastdebug/fastdebug/kaggle_paddy_pt1.py',\n",
      " '/Users/Natsume/Documents/fastdebug/fastdebug/_modidx.py',\n",
      " '/Users/Natsume/Documents/fastdebug/fastdebug/fastai_src_multiprocess_counter.ipynb',\n",
      " '/Users/Natsume/Documents/fastdebug/fastdebug/fast_src_download_kaggle_dataset.py',\n",
      " '/Users/Natsume/Documents/fastdebug/fastdebug/__init__.py',\n",
      " '/Users/Natsume/Documents/fastdebug/fastdebug/delete0002.py',\n",
      " '/Users/Natsume/Documents/fastdebug/fastdebug/core.py',\n",
      " '/Users/Natsume/Documents/fastdebug/fastdebug/kaggle_utils_dataset.py',\n",
      " '/Users/Natsume/Documents/fastdebug/fastdebug/to_delete.py',\n",
      " '/Users/Natsume/Documents/fastdebug/fastdebug/groundup.py',\n",
      " '/Users/Natsume/Documents/fastdebug/fastdebug/fastai_src_utils_randomdisplay.py',\n",
      " '/Users/Natsume/Documents/fastdebug/fastdebug/utils.py',\n",
      " '/Users/Natsume/Documents/fastdebug/fastdebug/todeletelayers.py',\n",
      " '/Users/Natsume/Documents/fastdebug/fastdebug/delete0004.py',\n",
      " '/Users/Natsume/Documents/fastdebug/fastdebug/basics.py',\n",
      " '/Users/Natsume/Documents/fastdebug/fastdebug/delete0000.py',\n",
      " '/Users/Natsume/Documents/fastdebug/fastdebug/fastai_src_check_subfolders_img.py',\n",
      " '/Users/Natsume/Documents/fastdebug/fastdebug/losses.py',\n",
      " '/Users/Natsume/Documents/fastdebug/fastdebug/.ipynb_checkpoints',\n",
      " '/Users/Natsume/Documents/fastdebug/fastdebug/layers.py',\n",
      " '/Users/Natsume/Documents/fastdebug/fastdebug/todelete_dispatch.py']\n",
      "\n",
      "'/Users/Natsume/Documents/fastdebug/fastdebug/'\n",
      "\n"
     ]
    }
   ],
   "source": [
    "nbs_md, fdmd, nbs_ipy, fdipy, md_out, md_out_fd, pys, py_folder= get_all_nbs()\n",
    "for i in [nbs_md, fdmd, nbs_ipy, fdipy, md_out, md_out_fd, pys, py_folder]:\n",
    "    pprint(i)\n",
    "    print()"
   ]
  },
  {
   "cell_type": "markdown",
   "id": "5598a5ba",
   "metadata": {},
   "source": [
    "## openNB"
   ]
  },
  {
   "cell_type": "code",
   "execution_count": null,
   "id": "f07197aa",
   "metadata": {},
   "outputs": [],
   "source": [
    "\n",
    "def openNB(name, folder='nbs/demos/', db=False):\n",
    "    \"Get a link to the notebook at by name locally\"\n",
    "#     root = \"/Users/Natsume/Documents/fastdebug/\"\n",
    "#     root_server = \"http://localhost:8888/tree/\"\n",
    "    root = getrootport()[1] + \"/\"\n",
    "    root_server = getrootport()[0]\n",
    "    path = root + folder\n",
    "    path_server = root_server + folder\n",
    "    for f in os.listdir(path):  \n",
    "        if f.endswith(\".ipynb\"):\n",
    "            if name in f: \n",
    "                file_name = path_server + f\n",
    "                if db: print(f'file_name: {file_name}')\n",
    "                jn_link(name, file_name)"
   ]
  },
  {
   "cell_type": "code",
   "execution_count": null,
   "id": "e3897e7e",
   "metadata": {},
   "outputs": [],
   "source": [
    "\n",
    "def openNB(name, folder='nbs/demos/', db=False):\n",
    "    \"Get a link to the notebook at by name locally\"\n",
    "#     root = \"/Users/Natsume/Documents/fastdebug/\"\n",
    "#     root_server = \"http://localhost:8888/tree/\"\n",
    "    root = getrootport()[1] + \"/\"\n",
    "    root_server = getrootport()[0]\n",
    "    path = root + folder\n",
    "    path_server = root_server + folder\n",
    "    for f in os.listdir(path):  \n",
    "        if f.endswith(\".ipynb\"):\n",
    "            name = name.split('.md')[0]\n",
    "            if db: print(f, name)\n",
    "            if name in f: \n",
    "                file_name = path_server + f\n",
    "                jn_link(name, file_name)"
   ]
  },
  {
   "cell_type": "code",
   "execution_count": null,
   "id": "094bbc6b",
   "metadata": {},
   "outputs": [],
   "source": []
  },
  {
   "cell_type": "code",
   "execution_count": null,
   "id": "7a093a01",
   "metadata": {},
   "outputs": [],
   "source": [
    "\n",
    "def openNB(name, db=False):\n",
    "    \"Get a link to the notebook at by searching keyword or notebook name\"\n",
    "    _, _, ipynbs, _, _, _= get_all_nbs()\n",
    "    name = name.split(\".md\")[0]\n",
    "    root = getrootport()[1]\n",
    "    nb_path = \"\"\n",
    "    for f in ipynbs:\n",
    "        if name in f:\n",
    "            nb_path = f\n",
    "            name = f.split(\"/\")[-1].split(\".\")[0]\n",
    "            if db: print(f'nb_path:{nb_path}, name: {name}')\n",
    "    root_server = getrootport()[0]\n",
    "    folder_mid = nb_path.split(root)[1].split(name)[0]\n",
    "    if db: print(f'root: {root}, root_server: {root_server}, name: {name}, folder_mid: {folder_mid}')\n",
    "    path = root + folder_mid\n",
    "    path_server = root_server[:-1] + folder_mid\n",
    "    if db: print(f'path: {path}, path_server: {path_server}')\n",
    "    for f in os.listdir(path):  \n",
    "        if f.endswith(\".ipynb\"):\n",
    "            if name in f: \n",
    "                file_name = path_server + f\n",
    "                jn_link(name, file_name)"
   ]
  },
  {
   "cell_type": "code",
   "execution_count": null,
   "id": "dc361090",
   "metadata": {},
   "outputs": [],
   "source": [
    "#| export\n",
    "def openNB(name, heading=None, db=False):\n",
    "    \"Get a link to the notebook at by searching keyword or notebook name\"\n",
    "    _, _, ipynbs, _, _, _, pys, _= get_all_nbs()\n",
    "    name = name.split(\".md\")[0]\n",
    "    root = getrootport()[1]\n",
    "    nb_path = \"\"\n",
    "    for f in ipynbs:\n",
    "        if name in f:\n",
    "            nb_path = f\n",
    "            name = f.split(\"/\")[-1].split(\".\")[0]\n",
    "            if db: print(f'nb_path:{nb_path}, name: {name}')\n",
    "    root_server = getrootport()[0]\n",
    "    folder_mid = nb_path.split(root)[1].split(name)[0]\n",
    "    if db: print(f'root: {root}, root_server: {root_server}, name: {name}, folder_mid: {folder_mid}')\n",
    "    path = root + folder_mid\n",
    "    path_server = root_server[:-1] + folder_mid\n",
    "    if db: print(f'path: {path}, path_server: {path_server}')\n",
    "    for f in os.listdir(path):  \n",
    "        if f.endswith(\".ipynb\"):\n",
    "            if name in f: \n",
    "                file_name = path_server + f + \"#\" + heading if bool(heading) else path_server + f\n",
    "                jn_link(name, file_name)"
   ]
  },
  {
   "cell_type": "code",
   "execution_count": null,
   "id": "b7d4dc6b",
   "metadata": {},
   "outputs": [
    {
     "data": {
      "text/plain": [
       "False"
      ]
     },
     "execution_count": null,
     "metadata": {},
     "output_type": "execute_result"
    },
    {
     "data": {
      "text/plain": [
       "True"
      ]
     },
     "execution_count": null,
     "metadata": {},
     "output_type": "execute_result"
    }
   ],
   "source": [
    "bool(None)\n",
    "bool(\"head\")"
   ]
  },
  {
   "cell_type": "code",
   "execution_count": null,
   "id": "107e64b6",
   "metadata": {},
   "outputs": [],
   "source": [
    "# openNB(\"FixSigMeta\", db=True)"
   ]
  },
  {
   "cell_type": "markdown",
   "id": "21ac3d5a",
   "metadata": {},
   "source": [
    "## openpy"
   ]
  },
  {
   "cell_type": "code",
   "execution_count": null,
   "id": "bce3ec30",
   "metadata": {},
   "outputs": [],
   "source": [
    "#| export\n",
    "def openpy(name=None, # name: default to None, \"all\" or query terms\n",
    "           acu=0.8, heading=None, db=False):\n",
    "    \"run openpy() can give all the py or ipynb files on src, kaggle, fastai related\\\n",
    "    run openpy(query) can get us a link to py or ipynb on query.\"\n",
    "    _, _, ipynbs, _, _, _, pys, py_fd= get_all_nbs()\n",
    "    lst = [pyf for pyf in pys if (\"src\" in Path(pyf).name or \"kaggle\" in Path(pyf).name) and \".ipynb\" not in Path(pyf).name]\n",
    "    if not bool(name):\n",
    "        pprint(lst)\n",
    "        return\n",
    "    \n",
    "    if name == \"all\":\n",
    "        for f in lst:\n",
    "            with open(f, 'r') as file:\n",
    "                for count, l in enumerate(file):\n",
    "                    print(l, end='')\n",
    "                print(f)\n",
    "        return\n",
    "            \n",
    "    questlst = name.split(\" \")\n",
    "    name = \"\"\n",
    "    for pyf in pys: \n",
    "        truelst = [q.lower() in pyf.lower() for q in questlst]\n",
    "        pct = sum(truelst)/len(truelst)\n",
    "        if pct > acu: name = pyf.split(\".py\")[0]\n",
    "\n",
    "    if not bool(name): return \"no match py file\"\n",
    "\n",
    "#     name = name.split(\".py\")[0]\n",
    "    root = getrootport()[1]\n",
    "    py_path = \"\"\n",
    "    for f in pys:\n",
    "        if name in f:\n",
    "            py_path = f\n",
    "            name = f.split(\"/\")[-1].split(\".\")[0]\n",
    "            if db: print(f'py_path:{py_path}, name: {name}')\n",
    "    root_server = getrootport()[0]\n",
    "    folder_mid = py_path.split(root)[1].split(name)[0]\n",
    "    if db: print(f'root: {root}, root_server: {root_server}, name: {name}, folder_mid: {folder_mid}')\n",
    "    path = root + folder_mid\n",
    "    path_server = root_server[:-1] + folder_mid\n",
    "    if db: print(f'path: {path}, path_server: {path_server}')\n",
    "    for f in lst:\n",
    "        if name in f:\n",
    "            with open(f, 'r') as file:\n",
    "                for count, l in enumerate(file):\n",
    "                    print(l, end='')\n",
    "                print(f)\n",
    "    for f in os.listdir(path):  \n",
    "        if f.endswith(\".py\"): # or f.endswith(\".ipynb\"):\n",
    "            if name in f: \n",
    "                file_name = path_server + f + \"#\" + heading if bool(heading) else path_server + f\n",
    "                jn_link(name, file_name)"
   ]
  },
  {
   "cell_type": "code",
   "execution_count": null,
   "id": "4ea4f8d7",
   "metadata": {},
   "outputs": [
    {
     "name": "stdout",
     "output_type": "stream",
     "text": [
      "# AUTOGENERATED! DO NOT EDIT! File to edit: ../nbs/fastai_notebooks/0000_fastai_kaggle_paddy_001.ipynb.\n",
      "\n",
      "# %% auto 0\n",
      "__all__ = ['home', 'comp', 'path', 'test_files', 'train_files']\n",
      "\n",
      "# %% ../nbs/fastai_notebooks/0000_fastai_kaggle_paddy_001.ipynb 2\n",
      "# this is a notebook for receiving code snippet from other notebooks\n",
      "\n",
      "# %% ../nbs/fastai_notebooks/0008_fastai_first_steps_road_to_top_part_1.ipynb 6\n",
      "# make sure fastkaggle is install and imported\n",
      "import os\n",
      "\n",
      "# %% ../nbs/fastai_notebooks/0008_fastai_first_steps_road_to_top_part_1.ipynb 7\n",
      "try: import fastkaggle\n",
      "except ModuleNotFoundError:\n",
      "    os.system(\"pip install -Uq fastkaggle\")\n",
      "\n",
      "from fastkaggle import *\n",
      "\n",
      "# %% ../nbs/fastai_notebooks/0008_fastai_first_steps_road_to_top_part_1.ipynb 9\n",
      "# use fastdebug.utils \n",
      "if iskaggle: os.system(\"pip install nbdev snoop\")\n",
      "\n",
      "# %% ../nbs/fastai_notebooks/0008_fastai_first_steps_road_to_top_part_1.ipynb 10\n",
      "if iskaggle:\n",
      "    path = \"../input/fastdebugutils0\"\n",
      "    import sys\n",
      "    sys.path\n",
      "    sys.path.insert(1, path)\n",
      "    import utils as fu\n",
      "    from utils import *\n",
      "else: \n",
      "    from fastdebug.utils import *\n",
      "    import fastdebug.utils as fu\n",
      "\n",
      "# %% ../nbs/fastai_notebooks/0008_fastai_first_steps_road_to_top_part_1.ipynb 12\n",
      "# import for dealing with vision problem\n",
      "from fastai.vision.all import *\n",
      "\n",
      "# %% ../nbs/fastai_notebooks/0008_fastai_first_steps_road_to_top_part_1.ipynb 47\n",
      "# download (if necessary and return the path of the dataset)\n",
      "home = \"/Users/Natsume/Documents/fastdebug/kaggle_datasets/\"\n",
      "comp = 'paddy-disease-classification' # https://www.kaggle.com/competitions/paddy-disease-classification/submissions\n",
      "path = download_kaggle_dataset(comp, local_folder=home, install='fastai \"timm>=0.6.2.dev0\"')\n",
      "# path = setup_comp(comp, install='fastai \"timm>=0.6.2.dev0\"')\n",
      "\n",
      "# %% ../nbs/fastai_notebooks/0008_fastai_first_steps_road_to_top_part_1.ipynb 54\n",
      "# set seed for reproducibility\n",
      "set_seed(42)\n",
      "\n",
      "# %% ../nbs/fastai_notebooks/0008_fastai_first_steps_road_to_top_part_1.ipynb 63\n",
      "# map the content of all subfolders of images\n",
      "check_subfolders_img(path)\n",
      "\n",
      "# %% ../nbs/fastai_notebooks/0008_fastai_first_steps_road_to_top_part_1.ipynb 66\n",
      "# to extract all images from a folder recursively (for subfolders)\n",
      "test_files = get_image_files(path/\"test_images\")\n",
      "train_files = get_image_files(path/\"train_images\")\n",
      "\n",
      "# %% ../nbs/fastai_notebooks/0008_fastai_first_steps_road_to_top_part_1.ipynb 76\n",
      "# to display a random image from a path \n",
      "randomdisplay(train_files, 200)\n",
      "randomdisplay(path/\"train_images/dead_heart\", 128)\n",
      "\n",
      "# %% ../nbs/fastai_notebooks/0008_fastai_first_steps_road_to_top_part_1.ipynb 86\n",
      "# remove all images which fail to open\n",
      "remove_failed(path)/Users/Natsume/Documents/fastdebug/fastdebug/kaggle_paddy_pt1.py\n"
     ]
    },
    {
     "data": {
      "text/markdown": [
       "[Open `kaggle_paddy_pt1` in Jupyter Notebook locally](http://localhost:8888/tree/fastdebug/kaggle_paddy_pt1.py)"
      ],
      "text/plain": [
       "<IPython.core.display.Markdown object>"
      ]
     },
     "metadata": {},
     "output_type": "display_data"
    }
   ],
   "source": [
    "# openpy(\"kaggle_paddy_pt1.py\")\n",
    "openpy(\"pt1 kaggle\")"
   ]
  },
  {
   "cell_type": "code",
   "execution_count": null,
   "id": "3edcbc49",
   "metadata": {},
   "outputs": [],
   "source": []
  },
  {
   "cell_type": "markdown",
   "id": "cb9bd914",
   "metadata": {},
   "source": [
    "## openNBKaggle"
   ]
  },
  {
   "cell_type": "code",
   "execution_count": null,
   "id": "328dfd93",
   "metadata": {},
   "outputs": [
    {
     "data": {
      "text/plain": [
       "['is', 'it', 'me']"
      ]
     },
     "execution_count": null,
     "metadata": {},
     "output_type": "execute_result"
    }
   ],
   "source": [
    "\"is_it_me\".split(\"_\")"
   ]
  },
  {
   "cell_type": "code",
   "execution_count": null,
   "id": "2de78fbd",
   "metadata": {},
   "outputs": [],
   "source": [
    "#| export\n",
    "kagglenbs = [\n",
    "    \"https://www.kaggle.com/code/jhoward/how-does-a-neural-net-really-work\",\n",
    "    \"https://www.kaggle.com/code/jhoward/is-it-a-bird-creating-a-model-from-your-own-data\",\n",
    "    \"https://www.kaggle.com/code/jhoward/why-you-should-use-a-framework\",\n",
    "    \"https://www.kaggle.com/code/jhoward/using-nbdev-export-in-a-kaggle-notebook\",\n",
    "    \"https://www.kaggle.com/code/jhoward/the-best-vision-models-for-fine-tuning\",\n",
    "    \"https://www.kaggle.com/code/jhoward/collaborative-filtering-deep-dive\",\n",
    "    \"https://www.kaggle.com/code/jhoward/multi-target-road-to-the-top-part-4\",\n",
    "    \"https://www.kaggle.com/code/jhoward/scaling-up-road-to-the-top-part-3\",\n",
    "    \"https://www.kaggle.com/code/jhoward/small-models-road-to-the-top-part-2\",\n",
    "    \"https://www.kaggle.com/code/jhoward/first-steps-road-to-the-top-part-1\",\n",
    "    \"https://www.kaggle.com/code/jhoward/which-image-models-are-best\",\n",
    "    \"https://www.kaggle.com/code/jhoward/linear-model-and-neural-net-from-scratch\",\n",
    "    \"https://www.kaggle.com/code/jhoward/iterate-like-a-grandmaster\",\n",
    "    \"https://www.kaggle.com/code/jhoward/how-random-forests-really-work\",\n",
    "    \"https://www.kaggle.com/code/jhoward/getting-started-with-nlp-for-absolute-beginners\",\n",
    "    \"https://www.kaggle.com/code/jhoward/resize-images\",\n",
    "    \"https://www.kaggle.com/code/jhoward/saving-a-basic-fastai-model\",\n",
    "    \"https://www.kaggle.com/code/jhoward/practical-deep-learning-for-coders-chapter-1\",\n",
    "    \"https://www.kaggle.com/code/jhoward/from-prototyping-to-submission-fastai\",\n",
    "    \"https://www.kaggle.com/code/jhoward/cleaning-the-data-for-rapid-prototyping-fastai\",\n",
    "    \"https://www.kaggle.com/code/jhoward/don-t-see-like-a-radiologist-fastai\",\n",
    "    \"https://www.kaggle.com/code/jhoward/some-dicom-gotchas-to-be-aware-of-fastai\",\n",
    "    \"https://www.kaggle.com/code/jhoward/creating-a-metadata-dataframe-fastai\",\n",
    "    \"https://www.kaggle.com/code/jhoward/fastai-v2-pipeline-tutorial\",\n",
    "    \"https://www.kaggle.com/code/jhoward/minimal-lstm-nb-svm-baseline-ensemble\",\n",
    "    \"https://www.kaggle.com/code/jhoward/nb-svm-strong-linear-baseline\",\n",
    "    \"https://www.kaggle.com/code/jhoward/improved-lstm-baseline-glove-dropout\"\n",
    "]"
   ]
  },
  {
   "cell_type": "code",
   "execution_count": null,
   "id": "6a00c4a9",
   "metadata": {},
   "outputs": [
    {
     "data": {
      "text/plain": [
       "27"
      ]
     },
     "execution_count": null,
     "metadata": {},
     "output_type": "execute_result"
    }
   ],
   "source": [
    "len(kagglenbs)"
   ]
  },
  {
   "cell_type": "code",
   "execution_count": null,
   "id": "5fa91bf7",
   "metadata": {},
   "outputs": [],
   "source": [
    "#| export\n",
    "def openNBKaggle(filename_full, db=False):\n",
    "    if 'fastai' in filename_full:\n",
    "        # split by 'fastai' and take the later\n",
    "        filename = filename_full\n",
    "        filename = filename.split(\"fastai_\")[1]\n",
    "        # split by '.ipynb'\n",
    "        filename = filename.split(\".md\")[0]\n",
    "        # split by '_'\n",
    "        nameparts = filename.split(\"_\")\n",
    "        if db: print(f'filename: {filename}')\n",
    "        for f in kagglenbs: \n",
    "            truelst = [p.lower() in f.lower() for p in nameparts]\n",
    "            pct = sum(truelst)/len(truelst)\n",
    "            if pct >= 0.9:\n",
    "                if db: print(f'pct is {pct}')\n",
    "                jn_link(filename_full.split(\".md\")[0], f, where=\"on Kaggle\") "
   ]
  },
  {
   "cell_type": "code",
   "execution_count": null,
   "id": "2f37c42b",
   "metadata": {},
   "outputs": [],
   "source": [
    "# get_all_nbs()\n",
    "openNBKaggle(\"0001_fastai_is_it_a_bird.md\", db=True)"
   ]
  },
  {
   "cell_type": "markdown",
   "id": "0defed40",
   "metadata": {},
   "source": [
    "## highlight"
   ]
  },
  {
   "cell_type": "markdown",
   "id": "13f719ac",
   "metadata": {},
   "source": [
    "<mark style=\"background-color: #FFFF00\">text with highlighted background</mark>  "
   ]
  },
  {
   "cell_type": "code",
   "execution_count": null,
   "id": "365602e7",
   "metadata": {},
   "outputs": [],
   "source": [
    "\n",
    "def highlight(question:str, line:str, db=False):\n",
    "    \"highlight a string with yellow background\"\n",
    "    questlst = question.split(' ')\n",
    "    questlst_hl = [' <mark style=\"background-color: #FFFF00\">' + q + '</mark> ' for q in questlst]\n",
    "    for q, q_hl in zip(questlst, questlst_hl):\n",
    "        if \" \" + q + \" \" in line.lower() or \"[\" + q + \"]\" in line.lower() and not '<mark style=\"background-color: #FFFF00\">' + q in line.lower():\n",
    "            line = line.lower().replace(\" \" + q + \" \", q_hl)\n",
    "            \n",
    "    if db: print(f'line: {line}')\n",
    "    return line"
   ]
  },
  {
   "cell_type": "code",
   "execution_count": null,
   "id": "bb9e82ad",
   "metadata": {},
   "outputs": [],
   "source": [
    "\n",
    "def highlight(question:str, line:str, db=False):\n",
    "    \"highlight a string with yellow background\"\n",
    "    questlst = question.split(' ')\n",
    "    questlst_hl = [' <mark style=\"background-color: #FFFF00\">' + q + '</mark> ' for q in questlst]\n",
    "    for q, q_hl in zip(questlst, questlst_hl):\n",
    "        if \" \" + q in line.lower(): # don't do anything to [q] or <>q<>. Using regex can be more accurate here\n",
    "            line = line.lower().replace(q, q_hl)\n",
    "            \n",
    "    if db: print(f'line: {line}')\n",
    "    return line"
   ]
  },
  {
   "cell_type": "code",
   "execution_count": null,
   "id": "c5ff0af1",
   "metadata": {},
   "outputs": [],
   "source": [
    "\n",
    "def highlight(question:str, line:str, db=False):\n",
    "    \"highlight a string with yellow background\"\n",
    "    questlst = question.split(' ')\n",
    "    questlst_hl = [' <mark style=\"background-color: #FFFF00\">' + q.lower() + '</mark> ' for q in questlst]\n",
    "    for q, q_hl in zip(questlst, questlst_hl):\n",
    "        if \" \" + q.lower() in line.lower(): # don't do anything to [q] or <>q<>. Using regex can be more accurate here\n",
    "            line = line.lower().replace(q.lower(), q_hl)\n",
    "            \n",
    "    if db: print(f'line: {line}')\n",
    "    return line"
   ]
  },
  {
   "cell_type": "code",
   "execution_count": null,
   "id": "d048734b",
   "metadata": {},
   "outputs": [],
   "source": []
  },
  {
   "cell_type": "code",
   "execution_count": null,
   "id": "697108ee",
   "metadata": {},
   "outputs": [],
   "source": [
    "#| exporti\n",
    "def highlight(question:str, line:str, db=False):\n",
    "    \"highlight a string with yellow background\"\n",
    "    questlst = question.split(' ')\n",
    "    questlst_hl = [' <mark style=\"background-color: #FFFF00\">' + q.lower() + '</mark> ' for q in questlst]\n",
    "    for q, q_hl in zip(questlst, questlst_hl):\n",
    "        if \" \" + q.lower() in line.lower(): # don't do anything to [q] or <>q<>. Using regex can be more accurate here\n",
    "            line = line.lower().replace(\" \"+ q.lower(), q_hl)\n",
    "            \n",
    "    if db: print(f'line: {line}')\n",
    "    return line"
   ]
  },
  {
   "cell_type": "code",
   "execution_count": null,
   "id": "cae4104b",
   "metadata": {},
   "outputs": [],
   "source": [
    "str(0.8).split(\" \")\n",
    "print(highlight(\"0.8 a\", \"this is a 0.8 of face\"))\n"
   ]
  },
  {
   "cell_type": "code",
   "execution_count": null,
   "id": "0c114061",
   "metadata": {},
   "outputs": [],
   "source": []
  },
  {
   "cell_type": "markdown",
   "id": "50606aaf",
   "metadata": {},
   "source": [
    "## display_md"
   ]
  },
  {
   "cell_type": "code",
   "execution_count": null,
   "id": "679a6ca5",
   "metadata": {},
   "outputs": [],
   "source": [
    "#| exporti\n",
    "def display_md(text):\n",
    "    \"Get a link to the notebook at `path` on Jupyter Notebook\"\n",
    "    from IPython.display import Markdown\n",
    "    display(Markdown(text))                "
   ]
  },
  {
   "cell_type": "code",
   "execution_count": null,
   "id": "4531c56e",
   "metadata": {},
   "outputs": [],
   "source": [
    "display_md(\"#### heading level 4\")"
   ]
  },
  {
   "cell_type": "code",
   "execution_count": null,
   "id": "fa459f6c",
   "metadata": {},
   "outputs": [],
   "source": []
  },
  {
   "cell_type": "markdown",
   "id": "e17c655b",
   "metadata": {},
   "source": [
    "## display_block"
   ]
  },
  {
   "cell_type": "code",
   "execution_count": null,
   "id": "470e6580",
   "metadata": {},
   "outputs": [],
   "source": [
    "\n",
    "def display_block(line, file):\n",
    "    \"`line` is a section title, find all subsequent lines which belongs to the same section and display them together\"\n",
    "    from IPython.display import Markdown\n",
    "    with open(file, 'r') as file:\n",
    "        entire = file.read()\n",
    "        belowline = entire.split(line)[1]\n",
    "        head_no = line.count(\"#\")\n",
    "        lochead2 = belowline.find(\"##\")\n",
    "        lochead3 = belowline.find(\"###\")\n",
    "        lochead4 = belowline.find(\"####\")\n",
    "        loclst = [lochead2,lochead3, lochead4]\n",
    "        loclst = [i for i in loclst if i != -1]\n",
    "        num_hash = 0\n",
    "        if bool(loclst):\n",
    "            if lochead2 == min(loclst):\n",
    "                num_hash = 2\n",
    "            elif lochead3 == min(loclst):\n",
    "                num_hash = 3\n",
    "            elif lochead4 == min(loclst):\n",
    "                num_hash = 4\n",
    "        if num_hash == 0:\n",
    "            section_content = belowline\n",
    "        else:\n",
    "            section_content = belowline.split(\"#\"*num_hash)[0]\n",
    "        entire_section = line + \"\\n\" + section_content\n",
    "        display(Markdown(entire_section))"
   ]
  },
  {
   "cell_type": "code",
   "execution_count": null,
   "id": "2e81ebf7",
   "metadata": {},
   "outputs": [],
   "source": []
  },
  {
   "cell_type": "code",
   "execution_count": null,
   "id": "f345c56e",
   "metadata": {},
   "outputs": [],
   "source": [
    "\n",
    "def display_block(line, file, keywords=\"\"):\n",
    "    \"`line` is a section title, find all subsequent lines which belongs to the same section and display them together\"\n",
    "    from IPython.display import Markdown\n",
    "    with open(file, 'r') as file:\n",
    "        entire = file.read()\n",
    "        belowline = entire.split(line)[1]\n",
    "        head_no = line.count(\"#\")\n",
    "        lochead2 = belowline.find(\"##\")\n",
    "        lochead3 = belowline.find(\"###\")\n",
    "        lochead4 = belowline.find(\"####\")\n",
    "        loclst = [lochead2,lochead3, lochead4]\n",
    "        loclst = [i for i in loclst if i != -1]\n",
    "        num_hash = 0\n",
    "        if bool(loclst):\n",
    "            if lochead2 == min(loclst):\n",
    "                num_hash = 2\n",
    "            elif lochead3 == min(loclst):\n",
    "                num_hash = 3\n",
    "            elif lochead4 == min(loclst):\n",
    "                num_hash = 4\n",
    "        if num_hash == 0:\n",
    "            section_content = belowline\n",
    "        else:\n",
    "            section_content = belowline.split(\"#\"*num_hash)[0]\n",
    "#         entire_content = line + \"\\n\" + section_content\n",
    "#         display(Markdown(entire_content))        \n",
    "        title_hl = highlight(keywords, line)\n",
    "        display(Markdown(title_hl))\n",
    "        display(Markdown(section_content))\n"
   ]
  },
  {
   "cell_type": "markdown",
   "id": "d7a84826",
   "metadata": {},
   "source": [
    "### handle both file path and file content at the same time"
   ]
  },
  {
   "cell_type": "code",
   "execution_count": null,
   "id": "4a756b39",
   "metadata": {},
   "outputs": [],
   "source": [
    "\n",
    "def display_block(line, file, output=False, keywords=\"\"):\n",
    "    \"`line` is a section title, find all subsequent lines which belongs to the same section and display them together\"\n",
    "    from IPython.display import Markdown\n",
    "    entire = \"\"\n",
    "    if file.endswith(\".md\") or file.endswith(\".ipynb\"):\n",
    "        with open(file, 'r') as file:\n",
    "            entire = file.read()\n",
    "    else:\n",
    "        entire = file\n",
    "        \n",
    "    belowline = entire.split(line)[1]\n",
    "    head_no = line.count(\"#\")\n",
    "    lochead2 = belowline.find(\"##\")\n",
    "    lochead3 = belowline.find(\"###\")\n",
    "    lochead4 = belowline.find(\"####\")\n",
    "    loclst = [lochead2,lochead3, lochead4]\n",
    "    loclst = [i for i in loclst if i != -1]\n",
    "    num_hash = 0\n",
    "    if bool(loclst):\n",
    "        if lochead2 == min(loclst):\n",
    "            num_hash = 2\n",
    "        elif lochead3 == min(loclst):\n",
    "            num_hash = 3\n",
    "        elif lochead4 == min(loclst):\n",
    "            num_hash = 4\n",
    "    if num_hash == 0:\n",
    "        section_content = belowline\n",
    "    else:\n",
    "        section_content = belowline.split(\"#\"*num_hash)[0]\n",
    "#         entire_content = line + \"\\n\" + section_content\n",
    "#         display(Markdown(entire_content))        \n",
    "    title_hl = highlight(keywords, line)\n",
    "    display(Markdown(title_hl))\n",
    "    if not output: display(Markdown(section_content))\n",
    "    else: print(section_content)\n"
   ]
  },
  {
   "cell_type": "code",
   "execution_count": null,
   "id": "7055ef31",
   "metadata": {},
   "outputs": [],
   "source": []
  },
  {
   "cell_type": "code",
   "execution_count": null,
   "id": "6e84b763",
   "metadata": {},
   "outputs": [],
   "source": [
    "\"### this is head2\\n### and this is head3\\n#### this is head4\\n## this is head2\".find(\"\\n## \")\n"
   ]
  },
  {
   "cell_type": "code",
   "execution_count": null,
   "id": "70dbcadf",
   "metadata": {},
   "outputs": [],
   "source": [
    "#| exporti\n",
    "def display_block(line, file, output=False, keywords=\"\"):\n",
    "    \"`line` is a section title, find all subsequent lines which belongs to the same section and display them together\"\n",
    "    from IPython.display import Markdown\n",
    "    entire = \"\"\n",
    "    if file.endswith(\".md\"): #or file.endswith(\".ipynb\"):\n",
    "        with open(file, 'r') as file:\n",
    "            entire = file.read()\n",
    "            \n",
    "    belowline = entire.split(line)[1]\n",
    "    head_no = line.count(\"#\")\n",
    "    full_section = \"\" + f\"heading {head_no}.\" + \"\\n\\n\"\n",
    "    lst_belowline = belowline.split(\"\\n\")\n",
    "    for idx, l in zip(range(len(lst_belowline)), lst_belowline):\n",
    "        if l.strip().startswith(\"#\"*(head_no-1)+\" \") and not bool(lst_belowline[idx-1].strip()) \\\n",
    "        and not bool(lst_belowline[idx+1].strip()):\n",
    "            full_section = full_section + f\"Next, heading {head_no-1}\" + \"\\n\" + l\n",
    "            break\n",
    "        elif l.strip().startswith(\"#\"*head_no + \" \"):\n",
    "            full_section = full_section + f\"Next, heading {head_no}\" + \"\\n\" + l\n",
    "            break\n",
    "        else:  full_section = full_section + l + \"\\n\"\n",
    "    \n",
    "    title_hl = highlight(keywords, line)\n",
    "    display(Markdown(title_hl))\n",
    "    if not output: display(Markdown(full_section))\n",
    "    else: print(full_section)\n"
   ]
  },
  {
   "cell_type": "code",
   "execution_count": null,
   "id": "978cef66",
   "metadata": {},
   "outputs": [],
   "source": [
    "display_block(\"whichversion of a library\", \"/Users/Natsume/Documents/divefastai/Debuggable/jupytext/lib/utils.md\", \\\n",
    "              keywords=\"whichversion library\")"
   ]
  },
  {
   "cell_type": "code",
   "execution_count": null,
   "id": "5ae20d3d",
   "metadata": {},
   "outputs": [],
   "source": []
  },
  {
   "cell_type": "code",
   "execution_count": null,
   "id": "5521a1da",
   "metadata": {},
   "outputs": [],
   "source": []
  },
  {
   "cell_type": "markdown",
   "id": "7693d2dc",
   "metadata": {},
   "source": [
    "## fastnbs"
   ]
  },
  {
   "cell_type": "markdown",
   "id": "77b48e84",
   "metadata": {},
   "source": [
    "### src: fastnbs(question, filter_folder=\"src\", ...)"
   ]
  },
  {
   "cell_type": "code",
   "execution_count": null,
   "id": "14920825",
   "metadata": {},
   "outputs": [],
   "source": [
    "#| export\n",
    "# @snoop\n",
    "def fastnbs(question:str, # see fastlistnbs() results for what to search \"doc: \", \"rd: \", \"src: \", \"ht: \", \"jn: \", \"qt: \", \"pt:\"\n",
    "            filter_folder=\"src\", # options: src, all,\n",
    "            strict=False, # loose search keyword, not as the first query word\n",
    "            output=False, # True for nice print of cell output\n",
    "            accu:float=0.8, \n",
    "            nb=True, \n",
    "            db=False):\n",
    "    \"check with fastlistnbs() to skim through all the learning points as section titles; \\\n",
    "then use fastnotes() to find interesting lines which can be notes or codes, and finally \\\n",
    "use fastnbs() display the entire learning points section including notes and codes.\"\n",
    "    questlst = question.split(' ')\n",
    "    mds_no_output, folder, ipynbs, ipyfolder, mds_output, output_fd, pys, py_folder = get_all_nbs()\n",
    "    if not output: mds = mds_no_output\n",
    "    else: mds = mds_output\n",
    "        \n",
    "    for file_path in mds:\n",
    "        if filter_folder == \"fastai\" and \"_fastai_\" in file_path and not \"_fastai_pt2_\" in file_path:\n",
    "            file_fullname = file_path\n",
    "        elif filter_folder == \"part2\" and \"_fastai_pt2_\" in file_path:\n",
    "            file_fullname = file_path\n",
    "        elif filter_folder == \"src\" and \"fast\" in file_path:\n",
    "            file_fullname = file_path            \n",
    "        elif filter_folder == \"all\": \n",
    "            file_fullname = file_path\n",
    "        else: continue\n",
    "\n",
    "        file_name = file_fullname.split('/')[-1]\n",
    "        with open(file_fullname, 'r') as file:\n",
    "            for count, l in enumerate(file):\n",
    "                if l.startswith(\"## \") or l.startswith(\"### \") or l.startswith(\"#### \"):\n",
    "                    truelst = [q.lower() in l.lower() for q in questlst]\n",
    "                    pct = sum(truelst)/len(truelst)\n",
    "                    ctn = l.split(\"# ```\")[1] if \"# ```\" in l else l.split(\"# \")[1] if \"# \" in l else l.split(\"# `\")\n",
    "                    if strict:\n",
    "                        if pct >= accu and ctn.startswith(questlst[0]): # make sure the heading start with the exact quest word\n",
    "                            if db: \n",
    "                                head1 = f\"keyword match is {pct}, Found a section: in {file_name}\"\n",
    "                                head1 = highlight(str(pct), head1)\n",
    "                                head1 = highlight(file_name, head1)\n",
    "                                display_md(head1)\n",
    "                                highlighted_line = highlight(question, l, db=db)                        \n",
    "        #                         print()\n",
    "                            display_block(l, file_fullname, output=output, keywords=question)\n",
    "                            if nb: # to link a notebook with specific heading\n",
    "                                if \"# ```\" in l: openNB(file_name, l.split(\"```\")[1].replace(\" \", \"-\"), db=db)\n",
    "                                else: openNB(file_name, l.split(\"# \")[1].replace(\" \", \"-\"), db=db)\n",
    "\n",
    "                                openNBKaggle(file_name, db=db)\n",
    "                    else: \n",
    "                        if pct >= accu: # make sure the heading start with the exact quest word\n",
    "                            if db: \n",
    "                                head1 = f\"keyword match is {pct}, Found a section: in {file_name}\"\n",
    "                                head1 = highlight(str(pct), head1)\n",
    "                                head1 = highlight(file_name, head1)\n",
    "                                display_md(head1)\n",
    "                                highlighted_line = highlight(question, l, db=db)                        \n",
    "        #                         print()\n",
    "                            display_block(l, file_fullname, output=output, keywords=question)\n",
    "                            if nb: # to link a notebook with specific heading\n",
    "                                if \"# ```\" in l: openNB(file_name, l.split(\"```\")[1].replace(\" \", \"-\"), db=db)\n",
    "                                else: openNB(file_name, l.split(\"# \")[1].replace(\" \", \"-\"), db=db)\n",
    "\n",
    "                                openNBKaggle(file_name, db=db)"
   ]
  },
  {
   "cell_type": "code",
   "execution_count": null,
   "id": "fd8f25a0",
   "metadata": {},
   "outputs": [],
   "source": [
    "\"# this is me\".split(\"# \")[1].replace(\" \", \"-\")\n",
    "\"# thisisme\".split(\"# \")[1].replace(\" \", \"-\")"
   ]
  },
  {
   "cell_type": "code",
   "execution_count": null,
   "id": "95c7b555",
   "metadata": {},
   "outputs": [],
   "source": [
    "# fastnbs(\"Snoop them together in one go\", output=True)\n",
    "# fastnbs(\"how matrix multiplication\")\n",
    "# fastnbs(\"how matrix multiplication\", folder=\"fastai\")\n",
    "# fastnbs(\"show_image\", \"src\")\n",
    "# fastnbs(\"module\", \"src\")\n",
    "# fastnbs(\"module\", \"src\", False)\n",
    "# fastnbs(\"module\")\n",
    "# fastnbs(\"apply\")\n",
    "# fastnbs(\"get all nbs\")"
   ]
  },
  {
   "cell_type": "code",
   "execution_count": null,
   "id": "d27d4d7d",
   "metadata": {},
   "outputs": [],
   "source": [
    "\"### ```show_image(b, a, c)```\".split(\"```\")[1].replace(\" \", \"-\")"
   ]
  },
  {
   "cell_type": "markdown",
   "id": "d9fce79b",
   "metadata": {},
   "source": [
    "## fastcodes"
   ]
  },
  {
   "cell_type": "code",
   "execution_count": null,
   "id": "5626e192",
   "metadata": {},
   "outputs": [],
   "source": [
    "#| export\n",
    "def fastcodes(question:str, accu:float=0.8, nb=False, db=False):\n",
    "    \"using keywords to search learning points from commented sources files\"\n",
    "    questlst = question.split(' ')\n",
    "    # loop through all pyfile in learnings folder\n",
    "    folder ='/Users/Natsume/Documents/fastdebug/learnings/'\n",
    "    for f in os.listdir(folder):  \n",
    "        if f.endswith(\".py\"):\n",
    "            name = f.split('.py')[0]\n",
    "            # open each pyfile and read each line\n",
    "            file_name =folder + f\n",
    "            with open(file_name, 'r') as file:\n",
    "                for count, l in enumerate(file):                \n",
    "                    # if search match >= 0.8, print the line and the pyfile\n",
    "                    truelst = [q.lower() in l.lower() for q in questlst]\n",
    "                    pct = sum(truelst)/len(truelst)\n",
    "                    if pct >= accu:\n",
    "                        head1 = f\"keyword match is {pct}, Found a line: in {f}\"\n",
    "                        head1 = highlight(str(pct), head1)\n",
    "                        head1 = highlight(f, head1)\n",
    "                        display_md(head1)\n",
    "                        print(l, end='')\n",
    "                        print()                        \n",
    "                        head2 = f\"The entire source code in {f}\"\n",
    "                        head2 = highlight(f, head2)\n",
    "                        display_md(head2)\n",
    "                        fastview(name)\n",
    "                        print()\n",
    "                        if nb:\n",
    "                            openNB(name)"
   ]
  },
  {
   "cell_type": "code",
   "execution_count": null,
   "id": "26fa42ef",
   "metadata": {},
   "outputs": [],
   "source": [
    "fastcodes(\"how to remove self\")"
   ]
  },
  {
   "cell_type": "code",
   "execution_count": null,
   "id": "8da8e4dc",
   "metadata": {},
   "outputs": [],
   "source": []
  },
  {
   "cell_type": "markdown",
   "id": "cba4b432",
   "metadata": {},
   "source": [
    "## fastnotes"
   ]
  },
  {
   "cell_type": "code",
   "execution_count": null,
   "id": "9fe811de",
   "metadata": {},
   "outputs": [],
   "source": [
    "\n",
    "def fastnotes(question:str, accu:float=0.8, n=2, db=False):\n",
    "    \"display found notes with key words search\"\n",
    "    questlst = question.split(' ')\n",
    "    folder ='/Users/Natsume/Documents/divefastai/lectures/'\n",
    "    for f in os.listdir(folder):  \n",
    "        if f.endswith(\".md\"):\n",
    "            name = f.split('.md')[0]\n",
    "            file_name =folder + f\n",
    "            with open(file_name, 'r') as file:\n",
    "                for count, l in enumerate(file):\n",
    "                    truelst = [q in l.lower() for q in questlst]\n",
    "                    pct = sum(truelst)/len(truelst)\n",
    "                    if pct >= accu:\n",
    "                        print()\n",
    "                        head1 = f\"keyword match is {pct}, Found a line: in {f}\"\n",
    "                        head1 = highlight(str(pct), head1)\n",
    "                        head1 = highlight(f, head1)\n",
    "                        display_md(head1)\n",
    "                        l = highlight(question, l, db=db)\n",
    "                        display_md(l)\n",
    "                        print()                        \n",
    "                        print('{:=<157}'.format(f\"Show {n} lines above and after in {f}:\"))\n",
    "                        head2 = f\"Show {n} lines above and after in {f}:\"\n",
    "                        head2 = highlight(f, head2)\n",
    "                        head2 = highlight(str(n), head2)\n",
    "                        display_md(head2)                        \n",
    "                        idx = count\n",
    "                        with open(file_name, 'r') as file:\n",
    "                            for count, l in enumerate(file):\n",
    "                                if count >= idx - n and count <= idx + n:\n",
    "                                    if count == idx: display_md(highlight(question, l))\n",
    "                                    else: display_md(l)"
   ]
  },
  {
   "cell_type": "markdown",
   "id": "5c164760",
   "metadata": {},
   "source": [
    "### multiple folders"
   ]
  },
  {
   "cell_type": "code",
   "execution_count": null,
   "id": "6346ecbc",
   "metadata": {},
   "outputs": [],
   "source": [
    "[1,3] + [5,6]"
   ]
  },
  {
   "cell_type": "code",
   "execution_count": null,
   "id": "0eca3c39",
   "metadata": {},
   "outputs": [],
   "source": [
    "\n",
    "def fastnotes(question:str, accu:float=0.8, n=2, folder=\"lec\", # folder: 'lec' or 'live' or 'all'\n",
    "              db=False):\n",
    "    \"using key words to search notes and display the found line and lines surround it\"\n",
    "    questlst = question.split(' ')\n",
    "    root = '/Users/Natsume/Documents/divefastai/'\n",
    "#     folder1 = '2022_part1/'\n",
    "#     folder2 = '2022_livecoding/'\n",
    "    folder1 = '2019_part2/'\n",
    "    folder2 = '2019_walkthrus'\n",
    "    lectures = [root + folder1 + f for f in os.listdir(root + folder1)]\n",
    "    livecodings = [root + folder2 + f for f in os.listdir(root + folder2)]\n",
    "    all_notes = lectures + livecodings\n",
    "    if folder == \"lec\": files = lectures\n",
    "    elif folder == \"live\": files = livecodings\n",
    "    else: files = all_notes\n",
    "    for f in files:\n",
    "#     for f in os.listdir(folder):  \n",
    "        if f.endswith(\".md\"):\n",
    "#             name = f.split('.md')[0]\n",
    "#             file_name =folder + f\n",
    "            with open(f, 'r') as file:\n",
    "                for count, l in enumerate(file):\n",
    "                    truelst = [q in l.lower() for q in questlst]\n",
    "                    pct = sum(truelst)/len(truelst)\n",
    "                    if pct >= accu:\n",
    "                        print()\n",
    "                        head1 = f\"keyword match is {pct}, Found a line: in {f.split(root)[1]}\"\n",
    "                        head1 = highlight(str(pct), head1)\n",
    "                        head1 = highlight(f.split(root)[1], head1)\n",
    "                        display_md(head1)\n",
    "#                         l = highlight(question, l, db=db)\n",
    "#                         display_md(l)\n",
    "                        print()                        \n",
    "#                         print('{:=<157}'.format(f\"Show {n} lines above and after in {f}:\"))\n",
    "#                         head2 = f\"Show {n} lines above and after in {f.split(root)[1]}:\"\n",
    "#                         head2 = highlight(f.split(root)[1], head2)\n",
    "#                         head2 = highlight(str(n), head2)\n",
    "#                         display_md(head2)                        \n",
    "                        idx = count\n",
    "                        with open(f, 'r') as file:\n",
    "                            for count, l in enumerate(file):\n",
    "                                if count >= idx - n and count <= idx + n:\n",
    "                                    if count == idx: display_md(highlight(question, l))\n",
    "                                    elif bool(l.strip()): display_md(l)"
   ]
  },
  {
   "cell_type": "markdown",
   "id": "712b1a61",
   "metadata": {},
   "source": [
    "### handling python code block"
   ]
  },
  {
   "cell_type": "code",
   "execution_count": null,
   "id": "b0a69cbe",
   "metadata": {},
   "outputs": [],
   "source": [
    "\n",
    "def fastnotes(question:str, accu:float=0.8, n=2, folder=\"lec\", # folder: 'lec' or 'live' or 'all'\n",
    "              db=False):\n",
    "    \"using key words to search notes and display the found line and lines surround it\"\n",
    "    questlst = question.split(' ')\n",
    "    root = '/Users/Natsume/Documents/divefastai/'\n",
    "#     folder1 = '2022_part1/'\n",
    "#     folder2 = '2022_livecoding/'\n",
    "    folder1 = '2019_part2/'\n",
    "    folder2 = '2019_walkthrus'\n",
    "    lectures = [root + folder1 + f for f in os.listdir(root + folder1)]\n",
    "    livecodings = [root + folder2 + f for f in os.listdir(root + folder2)]\n",
    "    all_notes = lectures + livecodings\n",
    "    if folder == \"lec\": files = lectures\n",
    "    elif folder == \"live\": files = livecodings\n",
    "    else: files = all_notes\n",
    "    for f in files:\n",
    "#     for f in os.listdir(folder):  \n",
    "        if f.endswith(\".md\"):\n",
    "#             name = f.split('.md')[0]\n",
    "#             file_name =folder + f\n",
    "            with open(f, 'r') as file:\n",
    "                for count, l in enumerate(file):\n",
    "                    truelst = [q in l.lower() for q in questlst]\n",
    "                    pct = sum(truelst)/len(truelst)\n",
    "                    if pct >= accu:\n",
    "                        print()\n",
    "                        head1 = f\"keyword match is {pct}, Found a line: in {f.split(root)[1]}\"\n",
    "                        head1 = highlight(str(pct), head1)\n",
    "                        head1 = highlight(f.split(root)[1], head1)\n",
    "                        display_md(head1)\n",
    "#                         l = highlight(question, l, db=db)\n",
    "#                         display_md(l)\n",
    "                        print()                        \n",
    "#                         print('{:=<157}'.format(f\"Show {n} lines above and after in {f}:\"))\n",
    "#                         head2 = f\"Show {n} lines above and after in {f.split(root)[1]}:\"\n",
    "#                         head2 = highlight(f.split(root)[1], head2)\n",
    "#                         head2 = highlight(str(n), head2)\n",
    "#                         display_md(head2)                        \n",
    "                        idx = count\n",
    "                        code = False\n",
    "                        codeblock = \"\"\n",
    "                        with open(f, 'r') as file:\n",
    "                            for count, l in enumerate(file):\n",
    "                                if count >= idx - n and count <= idx + n:\n",
    "                                    if count == idx and bool(l.strip()): \n",
    "                                        display_md(highlight(question, l))\n",
    "                                    elif bool(l.strip()) and \"```python\" == l.strip() and not code: \n",
    "                                        codeblock = codeblock + l\n",
    "                                        code = True\n",
    "                                    # make sure one elif won't be skipped/blocked by another elif above\n",
    "                                    elif bool(l.strip()) and code and \"```\" != l.strip()and count < idx + n: \n",
    "                                        codeblock = codeblock + l\n",
    "                                    elif bool(l.strip()) and code and \"```\" == l.strip():\n",
    "                                        codeblock = codeblock + l                    \n",
    "                                        code = False\n",
    "                                        display_md(codeblock)\n",
    "                                        codeblock = \"\"\n",
    "                                    elif bool(l.strip()) and code and count == idx + n:\n",
    "                                        codeblock = codeblock + l\n",
    "                                        codeblock = codeblock + \"# code block continues below\" + \"\\n\"                                        \n",
    "                                        codeblock = codeblock + \"```\" + \"\\n\"\n",
    "                                        code = False\n",
    "                                        display_md(codeblock)\n",
    "                                        codeblock = \"\"\n",
    "                                    elif bool(l.strip()): \n",
    "                                        display_md(l)\n"
   ]
  },
  {
   "cell_type": "markdown",
   "id": "95309ab1",
   "metadata": {},
   "source": [
    "### handle codeblock even when the searched line is also code"
   ]
  },
  {
   "cell_type": "code",
   "execution_count": null,
   "id": "d5aeb274",
   "metadata": {},
   "outputs": [],
   "source": [
    "\n",
    "def fastnotes(question:str, \n",
    "              search_code:bool=False, # if search code, do check True for nicer printing\n",
    "              accu:float=0.8, \n",
    "              n=2, \n",
    "              folder=\"lec\", # folder: 'lec' or 'live' or 'all'\n",
    "              db=False):\n",
    "    \"using key words to search notes and display the found line and lines surround it\"\n",
    "    questlst = question.split(' ')\n",
    "    root = '/Users/Natsume/Documents/divefastai/'\n",
    "#     root = '/Users/Natsume/Documents/fastdebug/mds/'\n",
    "#     folder1 = '2022_part1/'\n",
    "#     folder2 = '2022_livecoding/'\n",
    "    folder1 = '2019_part2/'\n",
    "    folder2 = '2019_walkthrus'\n",
    "    lectures = [root + folder1 + f for f in os.listdir(root + folder1)]\n",
    "    livecodings = [root + folder2 + f for f in os.listdir(root + folder2)]\n",
    "    all_notes = lectures + livecodings\n",
    "    if folder == \"lec\": files = lectures\n",
    "    elif folder == \"live\": files = livecodings\n",
    "    else: files = all_notes\n",
    "    for f in files:\n",
    "#     for f in os.listdir(folder):  \n",
    "        if f.endswith(\".md\"):\n",
    "#             name = f.split('.md')[0]\n",
    "#             file_name =folder + f\n",
    "            with open(f, 'r') as file:\n",
    "                for count, l in enumerate(file):\n",
    "                    truelst = [q in l.lower() for q in questlst]\n",
    "                    pct = sum(truelst)/len(truelst)\n",
    "                    if pct >= accu:\n",
    "                        print()\n",
    "                        head1 = f\"keyword match is {pct}, Found a line: in {f.split(root)[1]}\"\n",
    "                        head1 = highlight(str(pct), head1)\n",
    "                        head1 = highlight(f.split(root)[1], head1)\n",
    "                        display_md(head1)\n",
    "#                         l = highlight(question, l, db=db)\n",
    "#                         display_md(l)\n",
    "                        print()                        \n",
    "#                         print('{:=<157}'.format(f\"Show {n} lines above and after in {f}:\"))\n",
    "#                         head2 = f\"Show {n} lines above and after in {f.split(root)[1]}:\"\n",
    "#                         head2 = highlight(f.split(root)[1], head2)\n",
    "#                         head2 = highlight(str(n), head2)\n",
    "#                         display_md(head2)                        \n",
    "                        idx = count\n",
    "                        code = search_code\n",
    "                        codeblock = \"\"\n",
    "                        with open(f, 'r') as file:\n",
    "                            for count, l in enumerate(file):\n",
    "                                if count >= idx - n and count <= idx + n:\n",
    "                                    if count == idx and bool(l.strip()) and not code: \n",
    "                                        display_md(highlight(question, l))\n",
    "                                    elif count == idx and bool(l.strip()) and code: \n",
    "                                        codeblock = codeblock + l\n",
    "                                    elif count == idx-n and code and bool(l.strip()) and \"```\" != l.strip():\n",
    "                                        codeblock = codeblock + \"```python\\n\" + l\n",
    "                                    elif bool(l.strip()) and \"```python\" == l.strip() and not code: \n",
    "                                        codeblock = codeblock + l\n",
    "                                        code = True\n",
    "                                    # make sure one elif won't be skipped/blocked by another elif above\n",
    "                                    elif bool(l.strip()) and code and \"```\" != l.strip()and count < idx + n: \n",
    "                                        codeblock = codeblock + l\n",
    "                                    elif bool(l.strip()) and code and \"```\" == l.strip():\n",
    "                                        codeblock = codeblock + l                    \n",
    "                                        code = False\n",
    "                                        display_md(codeblock)\n",
    "                                        codeblock = \"\"\n",
    "                                    elif bool(l.strip()) and code and count == idx + n:\n",
    "                                        codeblock = codeblock + l\n",
    "                                        codeblock = codeblock + \"# code block continues below\" + \"\\n\"                                        \n",
    "                                        codeblock = codeblock + \"```\" + \"\\n\"\n",
    "                                        code = False\n",
    "                                        display_md(codeblock)\n",
    "                                        codeblock = \"\"\n",
    "                                    elif bool(l.strip()) and not code: \n",
    "                                        display_md(l)\n"
   ]
  },
  {
   "cell_type": "markdown",
   "id": "02f3b10e",
   "metadata": {},
   "source": [
    "### to extract md files from all subfolders of fastdebug/mds/ directory"
   ]
  },
  {
   "cell_type": "code",
   "execution_count": null,
   "id": "5e8984f3",
   "metadata": {},
   "outputs": [],
   "source": [
    "#| export\n",
    "def fastnotes(question:str, \n",
    "              search_code:bool=False, # if search code, do check True for nicer printing\n",
    "              accu:float=0.8, \n",
    "              n=2, \n",
    "              folder=\"all\", # folder: 'lec' or 'live' or 'all'\n",
    "              nb=True, # to provide a link to open notebook\n",
    "              db=False):\n",
    "    \"using key words to search every line of fastai notes (include codes) \\\n",
    "and display the found line and lines surround it. fastnotes can search both notes and codes\\\n",
    "to do primary search, and then use fastnbs to display the whole interested section instead\\\n",
    "of surrounding lines.\"\n",
    "    questlst = question.split(' ')\n",
    "    root = '/Users/Natsume/Documents/fastdebug/mds/'\n",
    "    all_md_files = []\n",
    "    for f in os.listdir(root):  \n",
    "        if f.endswith(\".md\"): all_md_files.append(root + f)\n",
    "        elif not \".\" in f: \n",
    "            for subf in os.listdir(root + f):\n",
    "                if subf.endswith(\".md\"): all_md_files.append(root + f + \"/\" + subf)\n",
    "\n",
    "    if db: pprint(all_md_files)\n",
    "    for md in all_md_files:\n",
    "        if folder == \"part2\" and \"_fastai_pt2\" in md: f = md\n",
    "        elif folder == \"part1\" and \"_fastai_\" in md and not \"_fastai_pt2\" in md: f = md\n",
    "        elif folder == \"all\": f = md\n",
    "        else: \n",
    "            print(\"no folder is selected\")\n",
    "            return\n",
    "        with open(f, 'r') as file:\n",
    "            for count, l in enumerate(file):\n",
    "                truelst = [q in l.lower() for q in questlst]\n",
    "                pct = sum(truelst)/len(truelst)\n",
    "                if pct >= accu:\n",
    "                    print()\n",
    "                    head1 = f\"keyword match is {pct}, Found a line: in {f.split(root)[1]}\"\n",
    "                    head1 = highlight(str(pct), head1)\n",
    "                    head1 = highlight(f.split(root)[1], head1)\n",
    "                    display_md(head1)\n",
    "                    print()                                              \n",
    "                    idx = count\n",
    "                    code = search_code\n",
    "                    codeblock = \"\"\n",
    "                    with open(f, 'r') as file: # must open the file again to read surrounding lines\n",
    "                        for count, l in enumerate(file):\n",
    "                            if count >= idx - n and count <= idx + n:\n",
    "                                if count == idx and bool(l.strip()) and not code: \n",
    "                                    display_md(highlight(question, l))\n",
    "                                elif count == idx and bool(l.strip()) and code: \n",
    "                                    codeblock = codeblock + l\n",
    "                                elif count == idx-n and code and bool(l.strip()) and \"```\" != l.strip():\n",
    "                                    codeblock = codeblock + \"```python\\n\" + l\n",
    "                                elif bool(l.strip()) and \"```python\" == l.strip() and not code: \n",
    "                                    codeblock = codeblock + l\n",
    "                                    code = True\n",
    "                                # make sure one elif won't be skipped/blocked by another elif above\n",
    "                                elif bool(l.strip()) and code and \"```\" != l.strip()and count < idx + n: \n",
    "                                    codeblock = codeblock + l\n",
    "                                elif bool(l.strip()) and code and \"```\" == l.strip():\n",
    "                                    codeblock = codeblock + l                    \n",
    "                                    code = False\n",
    "                                    display_md(codeblock)\n",
    "                                    codeblock = \"\"\n",
    "                                elif bool(l.strip()) and code and count == idx + n:\n",
    "                                    codeblock = codeblock + l\n",
    "                                    codeblock = codeblock + \"# code block continues below\" + \"\\n\"                                        \n",
    "                                    codeblock = codeblock + \"```\" + \"\\n\"\n",
    "                                    code = False\n",
    "                                    display_md(codeblock)\n",
    "                                    codeblock = \"\"\n",
    "                                elif bool(l.strip()) and not code: \n",
    "                                    display_md(l)\n",
    "                    if nb:\n",
    "                        file_name = f.split('/')[-1]\n",
    "                        openNB(file_name, db=db)\n",
    "                        openNBKaggle(file_name, db=db)"
   ]
  },
  {
   "cell_type": "code",
   "execution_count": null,
   "id": "e23684f0",
   "metadata": {},
   "outputs": [],
   "source": [
    "fastnotes(\"how understand matrix multiplication\", n=17, db=True)"
   ]
  },
  {
   "cell_type": "code",
   "execution_count": null,
   "id": "5176c55f",
   "metadata": {},
   "outputs": [],
   "source": []
  },
  {
   "cell_type": "code",
   "execution_count": null,
   "id": "634044c3",
   "metadata": {},
   "outputs": [],
   "source": []
  },
  {
   "cell_type": "markdown",
   "id": "286252f9",
   "metadata": {},
   "source": [
    "## fastlistnbs, hts"
   ]
  },
  {
   "cell_type": "code",
   "execution_count": null,
   "id": "079d942d",
   "metadata": {},
   "outputs": [],
   "source": [
    "#| export \n",
    "import pandas as pd"
   ]
  },
  {
   "cell_type": "code",
   "execution_count": null,
   "id": "d462d4af",
   "metadata": {},
   "outputs": [],
   "source": [
    "#| export\n",
    "hts = pd.Series(list(map(lambda x: \"ht: \" + x, \"imports, data_download, data_access, data_prep, data_loaders, cbs_tfms, learner, fit, pred, fu\".split(\", \"))))"
   ]
  },
  {
   "cell_type": "code",
   "execution_count": null,
   "id": "fb12f78d",
   "metadata": {},
   "outputs": [],
   "source": [
    "hts"
   ]
  },
  {
   "cell_type": "code",
   "execution_count": null,
   "id": "e58f642b",
   "metadata": {},
   "outputs": [],
   "source": [
    "#| export\n",
    "def fastlistnbs(query=\"all\", # \"howto\", \"srcode\", \"journey\", \"question\", \"doc\", \"radek\", \"practice\", \"links\", or \"all\"\n",
    "                flt_fd=\"src\"): # other options: \"groundup\", \"part2\", \"all\"\n",
    "    \"display section headings of notebooks, filter options: fastai, part2, groundup, src_fastai,\\\n",
    "src_fastcore, all\"\n",
    "    nbs, folder, _, _, _, _, pys, py_folder = get_all_nbs()\n",
    "    nb_rt = \"\"\n",
    "    nbs_fd = []\n",
    "    for nb in nbs:\n",
    "        if flt_fd == \"fastai\" and \"_fastai_\" in nb.split(\"/\")[-1] and not \"_fastai_pt2\" in nb.split(\"/\")[-1]: \n",
    "            nbs_fd.append(nb)\n",
    "        elif flt_fd == \"part2\" and \"_fastai_pt2\" in nb.split(\"/\")[-1]:\n",
    "            nbs_fd.append(nb)\n",
    "        elif flt_fd == \"groundup\" and \"groundup_\" in nb.split(\"/\")[-1]:            \n",
    "            nbs_fd.append(nb)\n",
    "        elif flt_fd == \"src\" and (\"fast\" in nb.split(\"/\")[-1] or \"kaggle\" in nb.split(\"/\")[-1]):\n",
    "            nbs_fd.append(nb)\n",
    "        elif flt_fd == \"all\": \n",
    "            nbs_fd.append(nb)\n",
    "        else: \n",
    "            continue      \n",
    "\n",
    "    jnlst = []\n",
    "    if query != \"howto\":\n",
    "        for nb_rt in nbs_fd:\n",
    "            with open(nb_rt, 'r') as file:\n",
    "                found = False\n",
    "                for idx, l in enumerate(file):\n",
    "                    if \"##\" in l:\n",
    "                        if query == \"howto\" and \"ht:\" in l:\n",
    "                            if l.count(\"#\") == 2: print()\n",
    "                            print(l, end=\"\") # no extra new line between each line printed   \n",
    "                            found = True\n",
    "                        elif query == \"srcode\" and \"src:\" in l:\n",
    "                            if l.count(\"#\") == 2: print()                        \n",
    "                            print(l, end=\"\") \n",
    "                            found = True\n",
    "                        elif query == \"doc\" and \"doc:\" in l:\n",
    "                            if l.count(\"#\") == 2: print()                        \n",
    "                            print(l, end=\"\") \n",
    "                            found = True                        \n",
    "                        elif query == \"journey\" and \"jn:\" in l:\n",
    "                            jnlst.append(l)\n",
    "#                             if l.count(\"#\") == 2: print()                        \n",
    "#                             print(l, end=\"\") \n",
    "#                             found = True\n",
    "                        elif query == \"question\" and \"qt:\" in l:\n",
    "                            if l.count(\"#\") == 2: print()                        \n",
    "                            print(l, end=\"\") \n",
    "                            found = True\n",
    "                        elif query == \"radek\" and \"rd:\" in l:\n",
    "                            if l.count(\"#\") == 2: print()                        \n",
    "                            print(l, end=\"\") \n",
    "                            found = True\n",
    "                        elif query == \"practice\" and \"pt:\" in l:\n",
    "                            if l.count(\"#\") == 2: print()                        \n",
    "                            print(l, end=\"\") \n",
    "                            found = True\n",
    "                        elif query == \"links\" and \"lk:\" in l:\n",
    "                            if l.count(\"#\") == 2: print()                        \n",
    "                            print(l, end=\"\") \n",
    "                            found = True                            \n",
    "                        elif query == \"all\": \n",
    "                            if l.count(\"#\") == 2: print()                        \n",
    "                            print(l, end=\"\") \n",
    "                            found = True                        \n",
    "                if found: print(nb_rt + \"\\n\")\n",
    "    else:\n",
    "        for idx, o in enumerate(hts):\n",
    "            print('{:=<157}'.format(f\"step {idx}: {o}\"))\n",
    "            for nb_rt in nbs_fd:\n",
    "                with open(nb_rt, 'r') as file:\n",
    "                    found = False\n",
    "                    for idx, l in enumerate(file):\n",
    "                        if \"##\" in l:\n",
    "                            if o in l:\n",
    "                                if l.count(\"#\") == 2: print()\n",
    "                                print(l, end=\"\") # no extra new line between each line printed   \n",
    "                                found = True                   \n",
    "                    if found: print(nb_rt + \"\\n\")\n",
    "    \n",
    "    dates = [jn.split(\"/\")[-1].split(\"\\n\")[0] for jn in jnlst]\n",
    "    dates = list(set(dates))\n",
    "    dates.sort(key=lambda date: datetime.strptime(date, \"%Y-%m-%d\"))\n",
    "    print(\"jn by dates: ========\")\n",
    "    for d in dates:\n",
    "        for jn in jnlst:\n",
    "            if d in jn: \n",
    "                if jn.count(\"#\") == 2: print()                        \n",
    "                print(jn, end=\"\") "
   ]
  },
  {
   "cell_type": "code",
   "execution_count": null,
   "id": "af7205a5",
   "metadata": {},
   "outputs": [],
   "source": [
    "[s for s in set(['a', 'b', 'c', 'c'])]"
   ]
  },
  {
   "cell_type": "code",
   "execution_count": null,
   "id": "2ee8b6d2",
   "metadata": {},
   "outputs": [],
   "source": [
    "# jnlst =  [\"adfadfdfdadfadsf/23-05-2018\", \"adfadsf/2-03-2017\", \"adfadsf/11-04-2018\", \n",
    "#               \"adfadsf/01-06-2019\", \"adfadsf/10-01-2016\", \"adfadsf/01-02-2007\"]  \n",
    "# dates = [jn.split(\"/\")[-1] for jn in jnlst]\n",
    "# dates\n",
    "\n",
    "# dates.sort(key=lambda date: datetime.strptime(date, \"%d-%m-%Y\"))\n",
    "# dates\n",
    "\n",
    "# for d in dates:\n",
    "#     for jn in jnlst:\n",
    "#         if d in jn: \n",
    "#             if jn.count(\"#\") == 2: print()                        \n",
    "#             print(jn, end=\"\") "
   ]
  },
  {
   "cell_type": "code",
   "execution_count": null,
   "id": "96b35873",
   "metadata": {},
   "outputs": [],
   "source": [
    "fastlistnbs(\"journey\")"
   ]
  },
  {
   "cell_type": "code",
   "execution_count": null,
   "id": "bfb8fd25",
   "metadata": {},
   "outputs": [],
   "source": [
    "fastnbs(\"jn: help other\")"
   ]
  },
  {
   "cell_type": "markdown",
   "id": "34c1ac6e",
   "metadata": {},
   "source": [
    "## fastlistsrcs"
   ]
  },
  {
   "cell_type": "markdown",
   "id": "1b8be1a3",
   "metadata": {},
   "source": [
    "Todos: it should be retired by fastlistnbs() after all src notebooks are properly documented."
   ]
  },
  {
   "cell_type": "code",
   "execution_count": null,
   "id": "5a1bbb3f",
   "metadata": {},
   "outputs": [],
   "source": [
    "#| export\n",
    "def fastlistsrcs():\n",
    "    \"display all my commented src codes learning comments in a long list\"\n",
    "    folder ='/Users/Natsume/Documents/fastdebug/learnings/'\n",
    "    for f in os.listdir(folder):\n",
    "        if f.endswith(\".py\"):\n",
    "            path_f = folder + f\n",
    "            with open(path_f, 'r') as file:\n",
    "                for idx, l in enumerate(file):\n",
    "                    if \"#\" in l:\n",
    "                        print(l.split(\"#\")[1], end=\"\")\n",
    "#                         print(l, end=\"\") # no extra new line between each line printed\n",
    "        "
   ]
  },
  {
   "cell_type": "code",
   "execution_count": null,
   "id": "11dde691",
   "metadata": {},
   "outputs": [],
   "source": [
    "# fastcodes(\"Test the signature\", nb=True)"
   ]
  },
  {
   "cell_type": "code",
   "execution_count": null,
   "id": "c57e2258",
   "metadata": {},
   "outputs": [],
   "source": []
  },
  {
   "cell_type": "code",
   "execution_count": null,
   "id": "e62bc881",
   "metadata": {},
   "outputs": [],
   "source": []
  },
  {
   "cell_type": "markdown",
   "id": "51bfa0bd",
   "metadata": {},
   "source": [
    "## Best practice of fastdebug.core"
   ]
  },
  {
   "cell_type": "markdown",
   "id": "f7ffb550",
   "metadata": {},
   "source": [
    "1. test some examples \n",
    "\n",
    "2. import fastdebug and initialize fdb objects, put examples into fdb.eg\n",
    "\n",
    "3. run fdb.snoop() to see all lines that get run\n",
    "\n",
    "4. if error, run fdb.debug() to check for clues\n",
    "\n",
    "5. run fdb.print() to see bare source\n",
    "\n",
    "6. run fdb.docsrc() to run expression and document srcline\n",
    "\n",
    "7. how snoop: from _funcs_kwargs to funcs_kwargs, see the learning point below\n",
    " \n"
   ]
  },
  {
   "cell_type": "code",
   "execution_count": null,
   "id": "3aaf7624",
   "metadata": {},
   "outputs": [],
   "source": [
    "fastnbs(\"snoop: from _funcs_kwargs to funcs_kwargs\", output=True)"
   ]
  },
  {
   "cell_type": "markdown",
   "id": "77cddc1f",
   "metadata": {},
   "source": [
    "## Best practice of fastdebug.utils"
   ]
  },
  {
   "cell_type": "code",
   "execution_count": null,
   "id": "7c0bd11a",
   "metadata": {},
   "outputs": [],
   "source": [
    "import fastdebug.utils as fu\n",
    "import fastcore.meta as fm"
   ]
  },
  {
   "cell_type": "markdown",
   "id": "0b8e6be1",
   "metadata": {},
   "source": [
    "**When looking for previous documented learning points**\n",
    "\n",
    "Run `fastlistnbs()` to check and search for the interesting titles\n",
    "\n",
    "Then run `fastnbs(...)` on the cell above `fastlistnbs()` to have a better view\n",
    "\n",
    "Run `fastnbs(query, output=True)` to view the output with input together for notebooks on srcodes"
   ]
  },
  {
   "cell_type": "code",
   "execution_count": null,
   "id": "07b6f258",
   "metadata": {},
   "outputs": [],
   "source": [
    "# fastnbs(\"snoop: from _funcs_kwargs to funcs_kwargs\", output=True)"
   ]
  },
  {
   "cell_type": "code",
   "execution_count": null,
   "id": "d637fd37",
   "metadata": {},
   "outputs": [],
   "source": [
    "# fastlistnbs()"
   ]
  },
  {
   "cell_type": "markdown",
   "id": "d2e7c782",
   "metadata": {},
   "source": [
    "**When I just want to have a quick look of the commented source code**\n",
    "\n",
    "Run `fastsrcs()` first to have the list of all commented srcodes files\n",
    "\n",
    "Run `fastview(srcname)` on the cell above `fastsrcs()` to view the actual commented srcs with an example\n",
    "\n",
    "Run `fastcodes(query)` to search src comments for learning points"
   ]
  },
  {
   "cell_type": "code",
   "execution_count": null,
   "id": "5ef6debd",
   "metadata": {},
   "outputs": [],
   "source": [
    "fastcodes(\"how to turn a sig into string\", accu=1)"
   ]
  },
  {
   "cell_type": "code",
   "execution_count": null,
   "id": "24e682df",
   "metadata": {},
   "outputs": [],
   "source": [
    "fastview(\"test_sig\")"
   ]
  },
  {
   "cell_type": "code",
   "execution_count": null,
   "id": "525ab703",
   "metadata": {},
   "outputs": [],
   "source": [
    "fastsrcs()"
   ]
  },
  {
   "cell_type": "markdown",
   "id": "109f8f78",
   "metadata": {},
   "source": [
    "### src: check_subfolders_img"
   ]
  },
  {
   "cell_type": "code",
   "execution_count": null,
   "id": "06d181fa",
   "metadata": {},
   "outputs": [],
   "source": [
    "#| export\n",
    "from fastai.data.transforms import image_extensions"
   ]
  },
  {
   "cell_type": "code",
   "execution_count": null,
   "id": "4d929d94",
   "metadata": {},
   "outputs": [],
   "source": [
    "#| export\n",
    "def check_subfolders_img(path:Path, # a Path object\n",
    "                         db=False):\n",
    "    \"map the image contents of all subfolders of the path\"\n",
    "    from pathlib import Path\n",
    "    for entry in path.iterdir():\n",
    "        if entry.is_file():\n",
    "            print(f'{str(entry.absolute())}')\n",
    "    addup = 0\n",
    "    for entry in path.iterdir():\n",
    "        if entry.is_dir() and not entry.name.startswith(\".\") and len(entry.ls(file_exts=image_extensions)) > 5:\n",
    "            addup += len(entry.ls(file_exts=image_extensions))\n",
    "            print(f'{str(entry.parent.absolute())}: {len(entry.ls(file_exts=image_extensions))}  {entry.name}')\n",
    "#             print(entry.name, f': {len(entry.ls(file_exts=[\".jpg\", \".png\", \".jpeg\", \".JPG\", \".jpg!d\"]))}') # how to include both png and jpg\n",
    "            if db:\n",
    "                for e in entry.ls(): # check any image file which has a different suffix from those above\n",
    "                    if e.is_file() and not e.name.startswith(\".\") and e.suffix not in image_extensions and e.suffix not in [\".ipynb\", \".py\"]:\n",
    "    #                 if e.suffix not in [\".jpg\", \".png\", \".jpeg\", \".JPG\", \".jpg!d\"]:\n",
    "                        pp(e.suffix, e)\n",
    "                        try:\n",
    "                            pp(Image.open(e).width)\n",
    "                        except:\n",
    "                            print(f\"{e} can't be opened\")\n",
    "    #                     pp(Image.open(e).width if e.suffix in image_extensions)\n",
    "        elif entry.is_dir() and not entry.name.startswith(\".\"): \n",
    "#             with snoop:\n",
    "            check_subfolders_img(entry)\n",
    "    print(f\"addup num: {addup}\")"
   ]
  },
  {
   "cell_type": "markdown",
   "id": "c13ec546",
   "metadata": {},
   "source": [
    "### src: randomdisplay(path, size=128, db=False)"
   ]
  },
  {
   "cell_type": "code",
   "execution_count": null,
   "id": "a41c161d",
   "metadata": {},
   "outputs": [],
   "source": [
    "#| export\n",
    "def randomdisplay(path, size=128, db=False):\n",
    "    \"display a random images from a L list (eg., test_files, train_files) of image files or from a path/folder of images.\\\n",
    "    the image filename is printed as well\"\n",
    "# https://www.geeksforgeeks.org/python-random-module/\n",
    "    import random\n",
    "    import pathlib\n",
    "    from fastai.vision.all import PILImage\n",
    "    if type(path) == pathlib.PosixPath:\n",
    "        rand = random.randint(0,len(path.ls())-1) \n",
    "        file = path.ls()[rand]\n",
    "    elif type(path) == L:\n",
    "        rand = random.randint(0,len(path)-1) \n",
    "        file = path[rand]\n",
    "    im = PILImage.create(file)\n",
    "    if db: pp(im.width, im.height, file)\n",
    "    pp(file)\n",
    "    return im.to_thumb(size)"
   ]
  },
  {
   "cell_type": "markdown",
   "id": "519d684f",
   "metadata": {},
   "source": [
    "### src: remove_failed(path)"
   ]
  },
  {
   "cell_type": "code",
   "execution_count": null,
   "id": "62cd0630",
   "metadata": {},
   "outputs": [],
   "source": [
    "#| export \n",
    "from fastai.vision.all import *"
   ]
  },
  {
   "cell_type": "code",
   "execution_count": null,
   "id": "50016e06",
   "metadata": {},
   "outputs": [],
   "source": [
    "#| export \n",
    "def remove_failed(path):\n",
    "#     from fastai.vision.all import get_image_files, parallel\n",
    "    print(\"before running remove_failed:\")\n",
    "    check_subfolders_img(path)\n",
    "    failed = verify_images(get_image_files(path))\n",
    "    print(f\"total num: {len(get_image_files(path))}\")\n",
    "    print(f\"num of failed: {len(failed)}\")\n",
    "    failed.map(Path.unlink)\n",
    "    print()\n",
    "    print(\"after running remove_failed:\")\n",
    "    check_subfolders_img(path)"
   ]
  },
  {
   "cell_type": "code",
   "execution_count": null,
   "id": "55979f81",
   "metadata": {},
   "outputs": [],
   "source": []
  },
  {
   "cell_type": "markdown",
   "id": "db63476b",
   "metadata": {},
   "source": [
    "## src: export_nbdev"
   ]
  },
  {
   "cell_type": "code",
   "execution_count": null,
   "id": "481cc866",
   "metadata": {},
   "outputs": [],
   "source": [
    "#| export\n",
    "# calling from a different notebook, nbdev_export() will cause error, this is why use exec() to call in a different notebook\n",
    "export_nbdev = \"import nbdev; nbdev.nbdev_export()\""
   ]
  },
  {
   "cell_type": "code",
   "execution_count": null,
   "id": "9249e0fa",
   "metadata": {},
   "outputs": [],
   "source": [
    "exec(export_nbdev)"
   ]
  },
  {
   "cell_type": "code",
   "execution_count": null,
   "id": "150dcee6",
   "metadata": {},
   "outputs": [],
   "source": []
  },
  {
   "cell_type": "markdown",
   "id": "7d8348c8",
   "metadata": {},
   "source": [
    "## download_kaggle_dataset"
   ]
  },
  {
   "cell_type": "code",
   "execution_count": null,
   "id": "3126a0e3",
   "metadata": {},
   "outputs": [],
   "source": [
    "#| export\n",
    "from fastkaggle import *"
   ]
  },
  {
   "cell_type": "code",
   "execution_count": null,
   "id": "4e9f47bf",
   "metadata": {},
   "outputs": [],
   "source": [
    "#| export\n",
    "def download_kaggle_dataset(competition, local_folder='', install=''):\n",
    "    \"override from fastkaggle.core.setup_comp. \\\n",
    "Return a path of the `local_folder` where `competition` dataset stored, \\\n",
    "downloading it if needed\"\n",
    "    if iskaggle:\n",
    "        if install:\n",
    "            os.system(f'pip install -Uqq {install}')\n",
    "        return Path('../input')/competition\n",
    "    else:\n",
    "        path = Path(local_folder + competition)\n",
    "        api = import_kaggle()\n",
    "        if not path.exists():\n",
    "            import zipfile\n",
    "            api.competition_download_cli(str(competition), path=path)\n",
    "            zipfile.ZipFile(f'{local_folder + competition}.zip').extractall(str(local_folder + competition))\n",
    "        return path\n",
    "# File:      ~/mambaforge/lib/python3.9/site-packages/fastkaggle/core.py\n",
    "# Type:      function"
   ]
  },
  {
   "cell_type": "code",
   "execution_count": null,
   "id": "60aacd0b",
   "metadata": {},
   "outputs": [],
   "source": []
  },
  {
   "cell_type": "markdown",
   "id": "305216d1-cf52-4008-90ee-98f9cd1737d0",
   "metadata": {},
   "source": [
    "#|hide\n",
    "## Export"
   ]
  },
  {
   "cell_type": "code",
   "execution_count": null,
   "id": "4efd0977-4efa-4e80-af27-b3aaa252a619",
   "metadata": {},
   "outputs": [],
   "source": [
    "#| hide\n",
    "from nbdev import nbdev_export\n",
    "nbdev_export()"
   ]
  },
  {
   "cell_type": "code",
   "execution_count": null,
   "id": "1a6254f5",
   "metadata": {},
   "outputs": [],
   "source": [
    "%debug"
   ]
  },
  {
   "cell_type": "code",
   "execution_count": null,
   "id": "bf01eb75",
   "metadata": {},
   "outputs": [],
   "source": []
  }
 ],
 "metadata": {
  "kernelspec": {
   "display_name": "Python 3 (ipykernel)",
   "language": "python",
   "name": "python3"
  }
 },
 "nbformat": 4,
 "nbformat_minor": 5
}
