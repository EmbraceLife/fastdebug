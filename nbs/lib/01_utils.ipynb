{
 "cells": [
  {
   "cell_type": "markdown",
   "id": "cf38fb8d-54f8-4f8d-93c2-aa8bdabf5088",
   "metadata": {},
   "source": [
    "# Utils\n",
    "\n",
    "> little functions to tell you the basics of a module"
   ]
  },
  {
   "cell_type": "code",
   "execution_count": null,
   "id": "ba6cee7b-e319-4856-b14b-cb8c02003d54",
   "metadata": {},
   "outputs": [],
   "source": [
    "#| default_exp utils"
   ]
  },
  {
   "cell_type": "code",
   "execution_count": null,
   "id": "728f8530",
   "metadata": {},
   "outputs": [],
   "source": [
    "#| export\n",
    "from __future__ import annotations\n",
    "annotations = annotations"
   ]
  },
  {
   "cell_type": "markdown",
   "id": "23efbb94",
   "metadata": {},
   "source": [
    "## Data"
   ]
  },
  {
   "cell_type": "markdown",
   "id": "3b590bcf",
   "metadata": {},
   "source": [
    "### L"
   ]
  },
  {
   "cell_type": "code",
   "execution_count": null,
   "id": "b9d438bb",
   "metadata": {},
   "outputs": [
    {
     "data": {
      "text/html": [
       "<style>.container { width:100% !important; }</style>"
      ],
      "text/plain": [
       "<IPython.core.display.HTML object>"
      ]
     },
     "metadata": {},
     "output_type": "display_data"
    }
   ],
   "source": [
    "#| export\n",
    "from fastcore.foundation import L"
   ]
  },
  {
   "cell_type": "code",
   "execution_count": null,
   "id": "2d2ef156",
   "metadata": {},
   "outputs": [],
   "source": [
    "#| export\n",
    "L = L"
   ]
  },
  {
   "cell_type": "markdown",
   "id": "22812302",
   "metadata": {},
   "source": [
    "### Path"
   ]
  },
  {
   "cell_type": "code",
   "execution_count": null,
   "id": "b995dc60",
   "metadata": {},
   "outputs": [],
   "source": [
    "#| export\n",
    "from pathlib import *"
   ]
  },
  {
   "cell_type": "code",
   "execution_count": null,
   "id": "2f4265a6",
   "metadata": {},
   "outputs": [
    {
     "data": {
      "text/html": [
       "<style>.container { width:100% !important; }</style>"
      ],
      "text/plain": [
       "<IPython.core.display.HTML object>"
      ]
     },
     "metadata": {},
     "output_type": "display_data"
    }
   ],
   "source": [
    "#| export\n",
    "Path = Path"
   ]
  },
  {
   "cell_type": "markdown",
   "id": "d2ee5851",
   "metadata": {},
   "source": [
    "### check_subfolders_img"
   ]
  },
  {
   "cell_type": "code",
   "execution_count": null,
   "id": "b4efd864",
   "metadata": {},
   "outputs": [
    {
     "data": {
      "text/html": [
       "<style>.container { width:100% !important; }</style>"
      ],
      "text/plain": [
       "<IPython.core.display.HTML object>"
      ]
     },
     "metadata": {},
     "output_type": "display_data"
    }
   ],
   "source": [
    "#| export\n",
    "from fastai.vision.all import *"
   ]
  },
  {
   "cell_type": "code",
   "execution_count": null,
   "id": "9098471c",
   "metadata": {},
   "outputs": [
    {
     "data": {
      "text/html": [
       "<style>.container { width:100% !important; }</style>"
      ],
      "text/plain": [
       "<IPython.core.display.HTML object>"
      ]
     },
     "metadata": {},
     "output_type": "display_data"
    }
   ],
   "source": [
    "# #| export\n",
    "# # @snoop\n",
    "# def check_subfolders_img(path, db=False):\n",
    "#     from pathlib import Path\n",
    "#     for entry in path.iterdir():\n",
    "#         if entry.is_file():\n",
    "#             print(f'{str(entry.absolute())}')\n",
    "#     for entry in path.iterdir():\n",
    "#         if entry.is_dir() and not entry.name.startswith(\".\") and len(entry.ls(file_exts=image_extensions)) > 5:\n",
    "#             print(f'{str(entry.parent.absolute())}: {len(entry.ls(file_exts=image_extensions))}  {entry.name}')\n",
    "# #             print(entry.name, f': {len(entry.ls(file_exts=[\".jpg\", \".png\", \".jpeg\", \".JPG\", \".jpg!d\"]))}') # how to include both png and jpg\n",
    "#             if db:\n",
    "#                 for e in entry.ls(): # check any image file which has a different suffix from those above\n",
    "#                     if e.is_file() and not e.name.startswith(\".\") and e.suffix not in image_extensions and e.suffix not in [\".ipynb\", \".py\"]:\n",
    "#     #                 if e.suffix not in [\".jpg\", \".png\", \".jpeg\", \".JPG\", \".jpg!d\"]:\n",
    "#                         pp(e.suffix, e)\n",
    "#                         try:\n",
    "#                             pp(Image.open(e).width)\n",
    "#                         except:\n",
    "#                             print(f\"{e} can't be opened\")\n",
    "#     #                     pp(Image.open(e).width if e.suffix in image_extensions)\n",
    "#         elif entry.is_dir() and not entry.name.startswith(\".\"): \n",
    "# #             with snoop:\n",
    "#             count_files_in_subfolders(entry)"
   ]
  },
  {
   "cell_type": "markdown",
   "id": "a035107c",
   "metadata": {},
   "source": [
    "### randomdisplay(path, db=False)"
   ]
  },
  {
   "cell_type": "code",
   "execution_count": null,
   "id": "2d556f8a",
   "metadata": {},
   "outputs": [
    {
     "data": {
      "text/html": [
       "<style>.container { width:100% !important; }</style>"
      ],
      "text/plain": [
       "<IPython.core.display.HTML object>"
      ]
     },
     "metadata": {},
     "output_type": "display_data"
    }
   ],
   "source": [
    "#| export\n",
    "from pathlib import *"
   ]
  },
  {
   "cell_type": "code",
   "execution_count": null,
   "id": "fe9abc0e",
   "metadata": {},
   "outputs": [
    {
     "data": {
      "text/html": [
       "<style>.container { width:100% !important; }</style>"
      ],
      "text/plain": [
       "<IPython.core.display.HTML object>"
      ]
     },
     "metadata": {},
     "output_type": "display_data"
    }
   ],
   "source": [
    "# #| export\n",
    "# # @snoop\n",
    "# def randomdisplay(path, db=False):\n",
    "# # https://www.geeksforgeeks.org/python-random-module/\n",
    "#     import random\n",
    "#     if type(path) == PosixPath:\n",
    "#         rand = random.randint(0,len(path.ls())-1) # choose a random int between 0 and len(T-rex)-1\n",
    "#         file = path.ls()[rand]\n",
    "#     elif type(path) == L:\n",
    "#         rand = random.randint(0,len(path)-1) # choose a random int between 0 and len(T-rex)-1\n",
    "#         file = path[rand]\n",
    "#     im = PILImage.create(file)\n",
    "#     if db: pp(im.width, im.height, file)\n",
    "#     pp(file)\n",
    "#     return im"
   ]
  },
  {
   "cell_type": "code",
   "execution_count": null,
   "id": "8592cbad",
   "metadata": {},
   "outputs": [],
   "source": []
  },
  {
   "cell_type": "code",
   "execution_count": null,
   "id": "163b5682",
   "metadata": {},
   "outputs": [],
   "source": []
  },
  {
   "cell_type": "markdown",
   "id": "d5f3017d",
   "metadata": {},
   "source": [
    "## Plotting\n",
    "basic plotting [lines](https://www.geeksforgeeks.org/graph-plotting-python-set-3/), [animation](https://www.geeksforgeeks.org/graph-plotting-python-set-3/)"
   ]
  },
  {
   "cell_type": "markdown",
   "id": "f98e2eff",
   "metadata": {},
   "source": [
    "### single_func plot"
   ]
  },
  {
   "cell_type": "code",
   "execution_count": null,
   "id": "7c05232f",
   "metadata": {},
   "outputs": [],
   "source": [
    "#| export\n",
    "def plot_func(x, y, label_x=None, label_y=None, title=None):\n",
    "    import matplotlib.pyplot as plt\n",
    "    plt.plot(x, y)\n",
    "\n",
    "    # naming the x axis\n",
    "    plt.xlabel(label_x)\n",
    "    # naming the y axis\n",
    "    plt.ylabel(label_y)\n",
    "\n",
    "    # giving a title to my graph\n",
    "    plt.title(title)\n",
    "\n",
    "    # function to show the plot\n",
    "    plt.show()\n"
   ]
  },
  {
   "cell_type": "code",
   "execution_count": null,
   "id": "7ebbbf46",
   "metadata": {},
   "outputs": [
    {
     "ename": "NameError",
     "evalue": "name 'x' is not defined",
     "output_type": "error",
     "traceback": [
      "\u001b[0;31m---------------------------------------------------------------------------\u001b[0m",
      "\u001b[0;31mNameError\u001b[0m                                 Traceback (most recent call last)",
      "Input \u001b[0;32mIn [4]\u001b[0m, in \u001b[0;36m<cell line: 1>\u001b[0;34m()\u001b[0m\n\u001b[0;32m----> 1\u001b[0m plot_func(\u001b[43mx\u001b[49m, y, \u001b[38;5;124m'\u001b[39m\u001b[38;5;124mx - axis\u001b[39m\u001b[38;5;124m'\u001b[39m, \u001b[38;5;124m'\u001b[39m\u001b[38;5;124my - axis\u001b[39m\u001b[38;5;124m'\u001b[39m, \u001b[38;5;124m'\u001b[39m\u001b[38;5;124mMy first graph!\u001b[39m\u001b[38;5;124m'\u001b[39m)\n",
      "\u001b[0;31mNameError\u001b[0m: name 'x' is not defined"
     ]
    }
   ],
   "source": [
    "plot_func(x, y, 'x - axis', 'y - axis', 'My first graph!')"
   ]
  },
  {
   "cell_type": "markdown",
   "id": "d008d9d7",
   "metadata": {},
   "source": [
    "### multiple-line plot"
   ]
  },
  {
   "cell_type": "code",
   "execution_count": null,
   "id": "a5653b19",
   "metadata": {},
   "outputs": [],
   "source": [
    "#| export\n",
    "# @snoop\n",
    "def plot_funcs(*lines, # eg., (x1,y1, \"line1\"),(x2,y2, \"line2\"), (y1, y2, \"line3\")\n",
    "               label_x=None, \n",
    "               label_y=None, \n",
    "               title=None, \n",
    "               ax_center=False):\n",
    "    import matplotlib.pyplot as plt\n",
    "\n",
    "    if ax_center:\n",
    "        fig = plt.figure()\n",
    "        ax = fig.add_subplot(1, 1, 1)\n",
    "        ax.spines['left'].set_position('center') \n",
    "        ax.spines['bottom'].set_position('center') \n",
    "    #     ax.spines['right'].set_position('center') # has no y ticks, so no use for us\n",
    "    #     ax.spines['top'].set_position('center') # has no x ticks, so no use for us\n",
    "        ax.spines['right'].set_color('none') # make the right side line (of the box) disappear\n",
    "        ax.spines['top'].set_color('none') # make the left side line (of the box) disappear\n",
    "    \n",
    "        ax.xaxis.set_ticks_position('bottom')\n",
    "        ax.yaxis.set_ticks_position('left')\n",
    "    \n",
    "    plt.xlabel(label_x, loc='right')\n",
    "    plt.ylabel(label_y, loc='bottom')\n",
    "    \n",
    "    xys_lst = [(l[0], l[1], l[2]) for l in lines]\n",
    "    for idx, xys in enumerate(xys_lst):\n",
    "        plt.plot(xys[0], xys[1], label=xys[2])\n",
    "\n",
    "    plt.title(title)\n",
    "    plt.legend()\n",
    "    plt.show()\n",
    "#     # add color and other features\n",
    "#     plt.plot(x, y, color='green', linestyle='dashed', linewidth = 3,\n",
    "#          marker='o', markerfacecolor='blue', markersize=12)"
   ]
  },
  {
   "cell_type": "code",
   "execution_count": null,
   "id": "7da81c40",
   "metadata": {},
   "outputs": [],
   "source": [
    "x1 = [1,2,3]\n",
    "y1 = [2,4,1]\n",
    "x2 = [1,2,3]\n",
    "y2 = [4,1,3]\n",
    "plot_funcs((x1,y1, \"line1\"),(x2,y2, \"line2\"), (y1, y2, \"line3\"), label_x='x - axis', label_y='y - axis', title='My first graph!')\n",
    "plot_funcs((x1,y1, \"line1\"),(x2,y2, \"line2\"), (y1, y2, \"line3\"), label_x='x - axis', label_y='y - axis', title='My first graph!', ax_center=True)"
   ]
  },
  {
   "cell_type": "code",
   "execution_count": null,
   "id": "b0390a22",
   "metadata": {},
   "outputs": [],
   "source": [
    "len((1,2))"
   ]
  },
  {
   "cell_type": "code",
   "execution_count": null,
   "id": "50ac6516",
   "metadata": {},
   "outputs": [],
   "source": [
    "#| export\n",
    "# @snoop\n",
    "def plot_fns(*funcs, # eg., (func1, ), (func2, ) or (func2, 'x**2'), (func1, 'log(x)')\n",
    "               label_x=None, \n",
    "               label_y=None, \n",
    "               title=None, \n",
    "               ax_center=False):\n",
    "    import matplotlib.pyplot as plt\n",
    "\n",
    "    if ax_center:\n",
    "        fig = plt.figure()\n",
    "        ax = fig.add_subplot(1, 1, 1)\n",
    "        ax.spines['left'].set_position('center') \n",
    "        ax.spines['bottom'].set_position('center') \n",
    "        ax.spines['right'].set_color('none') # make the right side line (of the box) disappear\n",
    "        ax.spines['top'].set_color('none') # make the left side line (of the box) disappear\n",
    "    \n",
    "        ax.xaxis.set_ticks_position('bottom')\n",
    "        ax.yaxis.set_ticks_position('left')\n",
    "\n",
    "    plt.xlabel(label_x, loc='right')\n",
    "    plt.ylabel(label_y, loc='bottom')\n",
    "    \n",
    "    fnlb_lst = [(f[0], f[1]) if len(f) > 1 else (f[0],) for f in funcs ]\n",
    "    \n",
    "    import torch, numpy as np\n",
    "    for fnlb in fnlb_lst:\n",
    "        if \"np\" in inspect.getsource(fnlb[0] ):\n",
    "            x = np.linspace(-np.pi,np.pi,100)\n",
    "        elif \"torch\" in inspect.getsource(fnlb[0] ):\n",
    "            x = torch.linspace(-torch.pi, torch.pi, 100)\n",
    "\n",
    "    from fastai.torch_core import ifnone\n",
    "    for idx, fnlb in enumerate(fnlb_lst):\n",
    "        plt.plot(x, fnlb[0](x), label=fnlb[1] if len(fnlb)>1 else \"line {}\".format(idx))\n",
    "\n",
    "    plt.title(title)\n",
    "    plt.legend() # plt.legend(loc='upper left')\n",
    "    plt.show()\n",
    "#     # add color and other features\n",
    "#     plt.plot(x, y, color='green', linestyle='dashed', linewidth = 3,\n",
    "#          marker='o', markerfacecolor='blue', markersize=12)"
   ]
  },
  {
   "cell_type": "code",
   "execution_count": null,
   "id": "61f0d73b",
   "metadata": {},
   "outputs": [],
   "source": [
    "inspect.getsource(func2)"
   ]
  },
  {
   "cell_type": "code",
   "execution_count": null,
   "id": "a16b051e",
   "metadata": {},
   "outputs": [],
   "source": [
    "func1 = lambda x: x**2\n",
    "func2 = lambda x: torch.log(x) # torch.log(x)\n",
    "plot_fns((func1, \"x**2\"), (func2, \"log(x)\"), label_x='x - axis', label_y='y - axis', title='My first graph!', ax_center=True)\n",
    "plot_fns((func1, ), (func2, ), label_x='x - axis', label_y='y - axis', title='My first graph!', ax_center=True)"
   ]
  },
  {
   "cell_type": "markdown",
   "id": "f914d591",
   "metadata": {},
   "source": [
    "## doc from fastai.torch_core"
   ]
  },
  {
   "cell_type": "code",
   "execution_count": null,
   "id": "e0123860",
   "metadata": {},
   "outputs": [],
   "source": [
    "#| export\n",
    "from fastai.torch_core import doc"
   ]
  },
  {
   "cell_type": "code",
   "execution_count": null,
   "id": "ea5949fc",
   "metadata": {},
   "outputs": [],
   "source": [
    "#| export\n",
    "doc = doc"
   ]
  },
  {
   "cell_type": "code",
   "execution_count": null,
   "id": "5aeff85b",
   "metadata": {},
   "outputs": [],
   "source": [
    "#| export\n",
    "from nbdev.showdoc import show_doc"
   ]
  },
  {
   "cell_type": "code",
   "execution_count": null,
   "id": "ed018d27",
   "metadata": {},
   "outputs": [],
   "source": [
    "#| export\n",
    "show_doc = show_doc"
   ]
  },
  {
   "cell_type": "markdown",
   "id": "f4a16fff",
   "metadata": {},
   "source": [
    "## snoop: pp, @snoop, doc_sig, pp.deep,%%snoop, watches"
   ]
  },
  {
   "cell_type": "code",
   "execution_count": null,
   "id": "342f327e",
   "metadata": {},
   "outputs": [],
   "source": [
    "#| export\n",
    "from snoop import snoop, pp"
   ]
  },
  {
   "cell_type": "code",
   "execution_count": null,
   "id": "eef18274",
   "metadata": {},
   "outputs": [],
   "source": [
    "#| export\n",
    "snoop = snoop\n",
    "pp = pp"
   ]
  },
  {
   "cell_type": "code",
   "execution_count": null,
   "id": "0ce5a731",
   "metadata": {},
   "outputs": [],
   "source": [
    "from fastcore.foundation import L\n",
    "from fastai.torch_core import tensor"
   ]
  },
  {
   "cell_type": "code",
   "execution_count": null,
   "id": "cd456858",
   "metadata": {},
   "outputs": [],
   "source": [
    "tensor(1,2,3).__len__()\n",
    "L([1,2,3]).__len__()"
   ]
  },
  {
   "cell_type": "code",
   "execution_count": null,
   "id": "40e85027",
   "metadata": {},
   "outputs": [],
   "source": [
    "#| export\n",
    "def chk(obj):\n",
    "    tp = type(obj)\n",
    "    length = obj.__len__() if hasattr(obj, '__len__') else \"no length\"\n",
    "    shape = obj.shape if hasattr(obj, 'shape') else \"no shape\"\n",
    "    return tp, length, shape"
   ]
  },
  {
   "cell_type": "code",
   "execution_count": null,
   "id": "63a309b8",
   "metadata": {},
   "outputs": [],
   "source": [
    "#| export\n",
    "def doc_sig(func):\n",
    "    import inspect\n",
    "    sig = inspect.signature(func) if callable(func) else \"no signature\"\n",
    "    doc = inspect.getdoc(func) if inspect.getdoc(func) != None else \"no doc\"\n",
    "    return  getattr(func, '__mro__', \"no mro\"), doc, sig"
   ]
  },
  {
   "cell_type": "code",
   "execution_count": null,
   "id": "065a0897",
   "metadata": {},
   "outputs": [],
   "source": [
    "#| export\n",
    "def doc_sig_complex(func):\n",
    "    import inspect        \n",
    "    if not inspect.isfunction(func) or not inspect.ismethod(func):\n",
    "        func = getattr(func, '__class__', None)\n",
    "        if func == None: \n",
    "            info = 'not a func, method, nor a class'\n",
    "        else: \n",
    "            info = \"it's a class\"\n",
    "    doc = inspect.getdoc(func) if hasattr(func, '__doc__') else \"no doc\"\n",
    "    sig = inspect.signature(func) if callable(func) else \"no signature\"\n",
    "    mro = getattr(func, '__mro__', \"no mro\")\n",
    "    return info, doc, sig, mro"
   ]
  },
  {
   "cell_type": "code",
   "execution_count": null,
   "id": "d242a5cf",
   "metadata": {},
   "outputs": [],
   "source": [
    "#| export\n",
    "def type_watch(source, value):\n",
    "    if value != None:\n",
    "        return 'type({})'.format(source), type(value)"
   ]
  },
  {
   "cell_type": "code",
   "execution_count": null,
   "id": "28916b61",
   "metadata": {},
   "outputs": [],
   "source": [
    "#| export\n",
    "def sig_watch(source, value):\n",
    "    if inspect.isfunction(value):\n",
    "        return 'sig({})'.format(source), inspect.signature(value)"
   ]
  },
  {
   "cell_type": "code",
   "execution_count": null,
   "id": "ea7a113b",
   "metadata": {},
   "outputs": [],
   "source": [
    "#| export\n",
    "def view(data): return (data.mean(), data.std())"
   ]
  },
  {
   "cell_type": "code",
   "execution_count": null,
   "id": "905ebe29",
   "metadata": {},
   "outputs": [],
   "source": [
    "from torch import tensor\n",
    "import torch"
   ]
  },
  {
   "cell_type": "code",
   "execution_count": null,
   "id": "1eb8f998",
   "metadata": {},
   "outputs": [],
   "source": [
    "isinstance(tensor([1,2,3]), torch.Tensor)"
   ]
  },
  {
   "cell_type": "code",
   "execution_count": null,
   "id": "78545bf1",
   "metadata": {},
   "outputs": [],
   "source": [
    "#| export\n",
    "def stats_watch(source, value):\n",
    "    if (isinstance(value, np.ndarray) or isinstance(value, torch.Tensor)): \n",
    "        return '{} stats: '.format(source), view(value)"
   ]
  },
  {
   "cell_type": "code",
   "execution_count": null,
   "id": "7a9652d5",
   "metadata": {},
   "outputs": [],
   "source": [
    "[1, 2] + [2, 3]"
   ]
  },
  {
   "cell_type": "code",
   "execution_count": null,
   "id": "1ef8de69",
   "metadata": {},
   "outputs": [],
   "source": [
    "#| export\n",
    "def snoop_onoff(on=True):\n",
    "    \"activate or deactivate @snoop, pp, but not %%snoop in a cell which is activated by %load_ext snoop\"\n",
    "    import snoop\n",
    "    from snoop.configuration import len_shape_watch\n",
    "#     snoop.install(replace_watch_extras=[type_watch, len_shape_watch, sig_watch, stats_watch])\n",
    "    snoop.install(replace_watch_extras=[]) # this is much simpler to read\n"
   ]
  },
  {
   "cell_type": "code",
   "execution_count": null,
   "id": "4940b935",
   "metadata": {},
   "outputs": [],
   "source": [
    "#| export \n",
    "snoopon = snoop_onoff() # # no import or config for using snoop now"
   ]
  },
  {
   "cell_type": "code",
   "execution_count": null,
   "id": "5bd4b3b1",
   "metadata": {},
   "outputs": [],
   "source": [
    "snoopon = \"\"\"\n",
    "# snoop_onoff()\n",
    "# snoop.install(watch_extras=[type_watch, stats_watch])\n",
    "from snoop.configuration import len_shape_watch\n",
    "snoop.install(replace_watch_extras=[type_watch, len_shape_watch, sig_watch, stats_watch])\n",
    "\"\"\"\n"
   ]
  },
  {
   "cell_type": "markdown",
   "id": "31b4b67f",
   "metadata": {},
   "source": [
    "## multi_output\n",
    "setup for exporting to a module"
   ]
  },
  {
   "cell_type": "code",
   "execution_count": null,
   "id": "cc38c0bb",
   "metadata": {},
   "outputs": [],
   "source": [
    "#| export\n",
    "import os"
   ]
  },
  {
   "cell_type": "code",
   "execution_count": null,
   "id": "cc907856",
   "metadata": {},
   "outputs": [],
   "source": [
    "#| exporti\n",
    "def multi_output():\n",
    "    from IPython.core.interactiveshell import InteractiveShell\n",
    "    InteractiveShell.ast_node_interactivity = \"all\""
   ]
  },
  {
   "cell_type": "code",
   "execution_count": null,
   "id": "2fa6fdc8",
   "metadata": {},
   "outputs": [],
   "source": [
    "#| exporti\n",
    "multioutput = multi_output()"
   ]
  },
  {
   "cell_type": "code",
   "execution_count": null,
   "id": "18312742",
   "metadata": {},
   "outputs": [],
   "source": [
    "a = [1,2,3]\n",
    "b = [4,5,6]\n",
    "a\n",
    "b"
   ]
  },
  {
   "cell_type": "markdown",
   "id": "d7882879",
   "metadata": {},
   "source": [
    "## nb_url, nb_name, nb_path\n",
    "how to get current notebook's name, path and url"
   ]
  },
  {
   "cell_type": "code",
   "execution_count": null,
   "id": "9e2dac4f",
   "metadata": {},
   "outputs": [],
   "source": []
  },
  {
   "cell_type": "code",
   "execution_count": null,
   "id": "2646d731",
   "metadata": {},
   "outputs": [],
   "source": [
    "#| export\n",
    "def nb_url():\n",
    "    \"run this func to get nb_url of this current notebook\"\n",
    "    import ipyparams\n",
    "    return eval(\"ipyparams.raw_url\")"
   ]
  },
  {
   "cell_type": "code",
   "execution_count": null,
   "id": "b9b1d8a1",
   "metadata": {},
   "outputs": [],
   "source": [
    "nb_url()"
   ]
  },
  {
   "cell_type": "code",
   "execution_count": null,
   "id": "9692a4a6",
   "metadata": {},
   "outputs": [],
   "source": [
    "#| export\n",
    "def nb_path():\n",
    "    \"run this func to get nb_path of this current notebook\"\n",
    "    import ipyparams\n",
    "    return eval(\"os.path.join(os.getcwd(), ipyparams.notebook_name)\")"
   ]
  },
  {
   "cell_type": "code",
   "execution_count": null,
   "id": "dd06ac2b",
   "metadata": {},
   "outputs": [],
   "source": [
    "nb_path()"
   ]
  },
  {
   "cell_type": "code",
   "execution_count": null,
   "id": "c5864359",
   "metadata": {},
   "outputs": [],
   "source": [
    "#| export\n",
    "def nb_name():\n",
    "    \"run this func to get nb_path of this current notebook\"\n",
    "    import ipyparams\n",
    "    return eval(\"ipyparams.notebook_name\")"
   ]
  },
  {
   "cell_type": "code",
   "execution_count": null,
   "id": "cf3c78e7",
   "metadata": {},
   "outputs": [],
   "source": [
    "nb_name()"
   ]
  },
  {
   "cell_type": "markdown",
   "id": "9fa9e984",
   "metadata": {},
   "source": [
    "## ipy2md\n",
    "how to convert ipynb to md automatically; how to run commands in python"
   ]
  },
  {
   "cell_type": "code",
   "execution_count": null,
   "id": "4da44afa",
   "metadata": {},
   "outputs": [],
   "source": [
    "#| export\n",
    "def ipy2md(db=True):\n",
    "    \"convert the current notebook to md\"\n",
    "    import ipyparams\n",
    "    import os\n",
    "    path = nb_path()\n",
    "    name = nb_name()\n",
    "    url = nb_url()\n",
    "    obs_path = \"/Users/Natsume/Documents/divefastai/Debuggable/jupytext\"\n",
    "    obs_last_folder = nb_path().split(nb_name())[0].split('/')[-2]\n",
    "    obs_output_path = \"/Users/Natsume/Documents/divefastai/Debuggable/nbconvert\"    \n",
    "    mds_path = path.replace(\"nbs\", \"mds\").split(name)[0]\n",
    "    mds_output = \"/Users/Natsume/Documents/fastdebug/mds_output\"\n",
    "    # https://stackabuse.com/executing-shell-commands-with-python/\n",
    "    os.system(f\"jupytext --to md {path}\")\n",
    "    os.system(f\"cp {path.split('.ipynb')[0]+'.md'} {obs_path + '/' + obs_last_folder}\")\n",
    "    if db: print(f'cp to : {obs_path + \"/\" + obs_last_folder}')\n",
    "    os.system(f\"mv {path.split('.ipynb')[0]+'.md'} {mds_path}\")\n",
    "    if db: print(f'move to : {mds_path}')\n",
    "    os.system(f\"jupyter nbconvert --to markdown {path}\")\n",
    "    os.system(f\"cp {path.split('.ipynb')[0]+'.md'} {mds_output}\")\n",
    "    os.system(f\"mv {path.split('.ipynb')[0]+'.md'} {obs_output_path}\")\n",
    "    if db: print(f'copy to : {mds_output}')\n",
    "    if db: print(f'move to : {obs_output_path}')        "
   ]
  },
  {
   "cell_type": "code",
   "execution_count": null,
   "id": "f98dba18",
   "metadata": {},
   "outputs": [],
   "source": [
    "# ipy2md()"
   ]
  },
  {
   "cell_type": "code",
   "execution_count": null,
   "id": "be7dfb68",
   "metadata": {},
   "outputs": [],
   "source": [
    "# #| export\n",
    "# def ipy2md(db=False):\n",
    "#     \"convert the current notebook to md\"\n",
    "#     path, name, url = get_notebook_path()\n",
    "#     obs_path = \"/Users/Natsume/Documents/divefastai/Debuggable/jupytext\"\n",
    "#     mds_path = path.replace(\"nbs\", \"mds\").split(name)[0]\n",
    "#     mds_output = \"/Users/Natsume/Documents/fastdebug/mds_output\"\n",
    "#     if db: \n",
    "#         print(f'path: {path}')\n",
    "#         print(f'mds_path: {mds_path}')\n",
    "#     eval(f'!jupytext --to md {path}')\n",
    "#     eval(f'!cp {path.split(\".ipynb\")[0]+\".md\"} {obs_path}')\n",
    "#     eval(f'!mv {path.split(\".ipynb\")[0]+\".md\"} {mds_path}')\n",
    "#     eval(f'!jupyter nbconvert --to markdown {path}')\n",
    "#     eval(f'!mv {path.split(\".ipynb\")[0]+\".md\"} {mds_output}')"
   ]
  },
  {
   "cell_type": "code",
   "execution_count": null,
   "id": "7de21e81",
   "metadata": {},
   "outputs": [],
   "source": [
    "# ipy2md()"
   ]
  },
  {
   "cell_type": "code",
   "execution_count": null,
   "id": "7b28fa62",
   "metadata": {},
   "outputs": [],
   "source": []
  },
  {
   "cell_type": "markdown",
   "id": "050c88b5",
   "metadata": {},
   "source": [
    "## Autoreload plus matplotlib inline for every notebook"
   ]
  },
  {
   "cell_type": "markdown",
   "id": "fe7c1500",
   "metadata": {},
   "source": [
    "As mentioned above, you need the autoreload extension. If you want it to automatically start every time you launch ipython, you need to add it to the ipython_config.py startup file:\n",
    "\n",
    "It may be necessary to generate one first:\n",
    "```python\n",
    "ipython profile create\n",
    "```\n",
    "Then include these lines in ~/.ipython/profile_default/ipython_config.py:\n",
    "\n",
    "```python\n",
    "c.InteractiveShellApp.exec_lines = []\n",
    "c.InteractiveShellApp.exec_lines.append('%load_ext autoreload')\n",
    "c.InteractiveShellApp.exec_lines.append('%autoreload 2')\n",
    "c.InteractiveShellApp.exec_lines.append('%matplotlib inline')\n",
    "c.InteractiveShellApp.exec_lines.append('%load_ext snoop')\n",
    "```\n",
    "\n",
    "As well as an optional warning in case you need to take advantage of compiled Python code in .pyc files:\n",
    "```python\n",
    "c.InteractiveShellApp.exec_lines.append('print(\"Warning: disable autoreload in ipython_config.py to improve performance.\")')\n",
    "```"
   ]
  },
  {
   "cell_type": "markdown",
   "id": "6c83dd2c",
   "metadata": {},
   "source": [
    "### If individual notebook, I can just run the function below to setup autoreload"
   ]
  },
  {
   "cell_type": "code",
   "execution_count": null,
   "id": "728568e8",
   "metadata": {},
   "outputs": [],
   "source": [
    "#| export\n",
    "def automagics():\n",
    "    from IPython.core.interactiveshell import InteractiveShell\n",
    "    get_ipython().run_line_magic(magic_name=\"load_ext\", line = \"autoreload\")\n",
    "    get_ipython().run_line_magic(magic_name=\"autoreload\", line = \"2\")\n",
    "    get_ipython().run_line_magic(magic_name=\"matplotlib\", line = \"inline\")\n",
    "    get_ipython().run_line_magic(magic_name=\"load_ext\", line = \"snoop\")"
   ]
  },
  {
   "cell_type": "code",
   "execution_count": null,
   "id": "38f3ae8a",
   "metadata": {},
   "outputs": [],
   "source": []
  },
  {
   "cell_type": "markdown",
   "id": "e64cd3fe",
   "metadata": {},
   "source": [
    "## Expand cells"
   ]
  },
  {
   "cell_type": "code",
   "execution_count": null,
   "id": "b74eb2b0",
   "metadata": {},
   "outputs": [],
   "source": [
    "#| exporti\n",
    "def expandcell():\n",
    "    \"expand cells of the current notebook to its full width\"\n",
    "    from IPython.display import display, HTML \n",
    "    display(HTML(\"<style>.container { width:100% !important; }</style>\"))"
   ]
  },
  {
   "cell_type": "code",
   "execution_count": null,
   "id": "36b3ef23",
   "metadata": {},
   "outputs": [
    {
     "data": {
      "text/html": [
       "<style>.container { width:100% !important; }</style>"
      ],
      "text/plain": [
       "<IPython.core.display.HTML object>"
      ]
     },
     "metadata": {},
     "output_type": "display_data"
    }
   ],
   "source": [
    "#| exporti\n",
    "expand = expandcell()"
   ]
  },
  {
   "cell_type": "markdown",
   "id": "b39beb74",
   "metadata": {},
   "source": [
    "## Import fastcore env"
   ]
  },
  {
   "cell_type": "code",
   "execution_count": null,
   "id": "84c983b3",
   "metadata": {},
   "outputs": [],
   "source": [
    "#| export\n",
    "from fastcore.test import * # so that it automated"
   ]
  },
  {
   "cell_type": "code",
   "execution_count": null,
   "id": "a936685c",
   "metadata": {},
   "outputs": [],
   "source": [
    "#| export\n",
    "test_eq = test_eq\n",
    "test_is = test_is"
   ]
  },
  {
   "cell_type": "code",
   "execution_count": null,
   "id": "49134422",
   "metadata": {},
   "outputs": [],
   "source": [
    "#| export \n",
    "from fastcore.imports import FunctionType, MethodType"
   ]
  },
  {
   "cell_type": "code",
   "execution_count": null,
   "id": "77e1237e",
   "metadata": {},
   "outputs": [],
   "source": [
    "#| export\n",
    "FunctionType = FunctionType\n",
    "MethodType = MethodType"
   ]
  },
  {
   "cell_type": "markdown",
   "id": "6664931d",
   "metadata": {},
   "source": [
    "## to inspect a class"
   ]
  },
  {
   "cell_type": "code",
   "execution_count": null,
   "id": "a53999d2",
   "metadata": {},
   "outputs": [],
   "source": [
    "\n",
    "def inspect_class(c):\n",
    "    \"examine the details of a class\"\n",
    "    try:\n",
    "        print(inspect.getsource(c))\n",
    "    except: \n",
    "        pass\n",
    "    print()\n",
    "    print(f'is {c.__name__} a metaclass: {ismetaclass(c)}')\n",
    "    print(f'is {c.__name__} created by a metaclass: {False if c.__class__ == type else True}')\n",
    "    if c.__class__ is not type:\n",
    "        print(f'{c.__name__} is created by metaclass {c.__class__}')\n",
    "    else:\n",
    "        print(f'{c.__name__} is created by {c.__class__}')\n",
    "    print(f'{c.__name__}.__new__ is object.__new__: {c.__new__ is object.__new__}')   \n",
    "    print(f'{c.__name__}.__new__ is type.__new__: {c.__new__ is type.__new__}')       \n",
    "    print(f'{c.__name__}.__new__: {c.__new__}')\n",
    "    print(f'{c.__name__}.__init__ is object.__init__: {c.__init__ is object.__init__}')\n",
    "    print(f'{c.__name__}.__init__ is type.__init__: {c.__init__ is type.__init__}')    \n",
    "    print(f'{c.__name__}.__init__: {c.__init__}')\n",
    "    print(f'{c.__name__}.__call__ is object.__call__: {c.__call__ is object.__call__}')\n",
    "    print(f'{c.__name__}.__call__ is type.__call__: {c.__call__ is type.__call__}')    \n",
    "    print(f'{c.__name__}.__call__: {c.__call__}')\n",
    "    print(f'{c.__name__}.__class__: {c.__class__}')\n",
    "    print(f'{c.__name__}.__bases__: {c.__bases__}')\n",
    "    print(f'{c.__name__}.__mro__: {c.__mro__}')\n",
    "    \n",
    "    if c.__class__ is not type:\n",
    "        print()\n",
    "        print(f'{c.__name__}\\'s metaclass {c.__class__}\\'s function members are:')\n",
    "        funcs = {item[0]: item[1] for item in inspect.getmembers(c.__class__) \\\n",
    "                 if inspect.isfunction(getattr(c.__class__, item[0], None))}   \n",
    "        pprint(funcs)\n",
    "        \n",
    "    \n",
    "    \n",
    "    funcs = {item[0]: item[1] for item in inspect.getmembers(c) \\\n",
    "             if inspect.isfunction(getattr(c, item[0], None))}\n",
    "    methods = {item[0]: item[1] for item in inspect.getmembers(c) \\\n",
    "             if inspect.ismethod(getattr(c, item[0], None))}\n",
    "    classes = {item[0]: item[1] for item in inspect.getmembers(c) \\\n",
    "             if inspect.isclass(getattr(c, item[0], None))}\n",
    "    \n",
    "    print()\n",
    "    print(f'{c.__name__}\\'s function members are:')\n",
    "    pprint(funcs)\n",
    "    print()\n",
    "    print(f'{c.__name__}\\'s method members are:')\n",
    "    pprint(methods)\n",
    "    print()\n",
    "    print(f'{c.__name__}\\'s class members are:')\n",
    "    pprint(classes)\n",
    "    print()\n",
    "    print(f'{c.__name__}\\'s namespace are:')\n",
    "    pprint(c.__dict__)"
   ]
  },
  {
   "cell_type": "markdown",
   "id": "9d3ac367",
   "metadata": {},
   "source": [
    "### get the docs for each function of a class"
   ]
  },
  {
   "cell_type": "code",
   "execution_count": null,
   "id": "2a4a9ec5",
   "metadata": {},
   "outputs": [],
   "source": []
  },
  {
   "cell_type": "code",
   "execution_count": null,
   "id": "5b191c84",
   "metadata": {},
   "outputs": [],
   "source": [
    "#| export \n",
    "def inspect_class(c, src=False):\n",
    "    \"examine the details of a class\"\n",
    "    if src:\n",
    "        try:\n",
    "            print(inspect.getsource(c))\n",
    "        except: \n",
    "            pass\n",
    "    print()\n",
    "    print(f'is {c.__name__} a metaclass: {ismetaclass(c)}')\n",
    "    print(f'is {c.__name__} created by a metaclass: {False if c.__class__ == type else True}')\n",
    "    if c.__class__ is not type:\n",
    "        print(f'{c.__name__} is created by metaclass {c.__class__}')\n",
    "    else:\n",
    "        print(f'{c.__name__} is created by {c.__class__}')\n",
    "    print(f'{c.__name__}.__new__ is object.__new__: {c.__new__ is object.__new__}')   \n",
    "    print(f'{c.__name__}.__new__ is type.__new__: {c.__new__ is type.__new__}')       \n",
    "    print(f'{c.__name__}.__new__: {c.__new__}')\n",
    "    print(f'{c.__name__}.__init__ is object.__init__: {c.__init__ is object.__init__}')\n",
    "    print(f'{c.__name__}.__init__ is type.__init__: {c.__init__ is type.__init__}')    \n",
    "    print(f'{c.__name__}.__init__: {c.__init__}')\n",
    "    print(f'{c.__name__}.__call__ is object.__call__: {c.__call__ is object.__call__}')\n",
    "    print(f'{c.__name__}.__call__ is type.__call__: {c.__call__ is type.__call__}')    \n",
    "    print(f'{c.__name__}.__call__: {c.__call__}')\n",
    "    print(f'{c.__name__}.__class__: {c.__class__}')\n",
    "    print(f'{c.__name__}.__bases__: {c.__bases__}')\n",
    "    print(f'{c.__name__}.__mro__: {c.__mro__}')\n",
    "    \n",
    "    if c.__class__ is not type:\n",
    "        print()\n",
    "        print(f'{c.__name__}\\'s metaclass {c.__class__}\\'s function members are:')\n",
    "        funcs = {item[0]: item[1] for item in inspect.getmembers(c.__class__) \\\n",
    "                 if inspect.isfunction(getattr(c.__class__, item[0], None))}   \n",
    "        pprint(funcs)\n",
    "        \n",
    "    funcs = {item[0]: item[1] for item in inspect.getmembers(c) \\\n",
    "             if inspect.isfunction(getattr(c, item[0], None))}\n",
    "    methods = {item[0]: item[1] for item in inspect.getmembers(c) \\\n",
    "             if inspect.ismethod(getattr(c, item[0], None))}\n",
    "    classes = {item[0]: item[1] for item in inspect.getmembers(c) \\\n",
    "             if inspect.isclass(getattr(c, item[0], None))}\n",
    "    \n",
    "    print()\n",
    "    print(f'{c.__name__}\\'s function members are:')\n",
    "    # todos: print some space between k and v\n",
    "    for k, v in funcs.items():\n",
    "        print(f\"{k}: {inspect.getdoc(v)}\")\n",
    "    print()\n",
    "    print(f'{c.__name__}\\'s method members are:')\n",
    "    pprint(methods)\n",
    "    print()\n",
    "    print(f'{c.__name__}\\'s class members are:')\n",
    "    pprint(classes)\n",
    "    print()\n",
    "    print(f'{c.__name__}\\'s namespace are:')\n",
    "    pprint(c.__dict__)"
   ]
  },
  {
   "cell_type": "code",
   "execution_count": null,
   "id": "d4c36aca",
   "metadata": {},
   "outputs": [],
   "source": []
  },
  {
   "cell_type": "markdown",
   "id": "3fb8b9f9",
   "metadata": {},
   "source": [
    "## is it a metaclass?"
   ]
  },
  {
   "cell_type": "code",
   "execution_count": null,
   "id": "fa9893f1",
   "metadata": {},
   "outputs": [],
   "source": [
    "#| export\n",
    "def ismetaclass(mc): \n",
    "    \"check whether a class is a metaclass or not\"\n",
    "    if inspect.isclass(mc):\n",
    "        return type in mc.__mro__ \n",
    "    else: return False"
   ]
  },
  {
   "cell_type": "code",
   "execution_count": null,
   "id": "99e5ea18",
   "metadata": {},
   "outputs": [],
   "source": [
    "from fastcore.meta import *\n",
    "import inspect"
   ]
  },
  {
   "cell_type": "code",
   "execution_count": null,
   "id": "ed106d94",
   "metadata": {},
   "outputs": [
    {
     "data": {
      "text/plain": [
       "True"
      ]
     },
     "execution_count": null,
     "metadata": {},
     "output_type": "execute_result"
    }
   ],
   "source": [
    "ismetaclass(FixSigMeta)"
   ]
  },
  {
   "cell_type": "code",
   "execution_count": null,
   "id": "56baeb17",
   "metadata": {},
   "outputs": [
    {
     "data": {
      "text/plain": [
       "True"
      ]
     },
     "execution_count": null,
     "metadata": {},
     "output_type": "execute_result"
    }
   ],
   "source": [
    "ismetaclass(PrePostInitMeta)"
   ]
  },
  {
   "cell_type": "markdown",
   "id": "d7bf6c02",
   "metadata": {},
   "source": [
    "## is it a decorator"
   ]
  },
  {
   "cell_type": "code",
   "execution_count": null,
   "id": "989ed475",
   "metadata": {},
   "outputs": [],
   "source": [
    "\n",
    "def isdecorator(obj):\n",
    "    if inspect.isfunction(obj):\n",
    "        count = 0\n",
    "        defretn = \"\"\n",
    "        for l in inspect.getsource(obj).split('\\n'):\n",
    "            if \"def \" in l:\n",
    "                if count >=1:\n",
    "                    defretn = l\n",
    "                count = count + 1\n",
    "            if \"return \" in l and \"partial(\" in l:\n",
    "                return True\n",
    "            if \"return \" in l: \n",
    "                retn = l.split('return ')[1]\n",
    "                if \"(\" not in retn:\n",
    "                    if retn in defretn:\n",
    "                        return True\n",
    "                    try:\n",
    "                        retneval = eval(retn, obj.__globals__)\n",
    "                    except NameError:\n",
    "                        return False\n",
    "                    if type(retneval).__name__ == 'function':\n",
    "                        return True\n",
    "                \n",
    "        return False\n"
   ]
  },
  {
   "cell_type": "markdown",
   "id": "72fd8d12",
   "metadata": {},
   "source": [
    "### handle all kinds of exceptions for evaluating retn "
   ]
  },
  {
   "cell_type": "code",
   "execution_count": null,
   "id": "c92bbb18",
   "metadata": {},
   "outputs": [],
   "source": [
    "#| export\n",
    "def isdecorator(obj):\n",
    "    \"check whether a function is a decorator\"\n",
    "    if inspect.isfunction(obj):\n",
    "        count = 0\n",
    "        defretn = \"\"\n",
    "        for l in inspect.getsource(obj).split('\\n'):\n",
    "            if \"def \" in l:\n",
    "                if count >=1:\n",
    "                    defretn = l\n",
    "                count = count + 1\n",
    "            if \"return \" in l and \"partial(\" in l:\n",
    "                return True\n",
    "            if \"return \" in l: \n",
    "                retn = l.split('return ')[1]\n",
    "                if \"(\" not in retn:\n",
    "                    if retn in defretn:\n",
    "                        return True\n",
    "                    try:\n",
    "                        retneval = eval(retn, obj.__globals__)\n",
    "                    except:\n",
    "                        return False\n",
    "                    if type(retneval).__name__ == 'function':\n",
    "                        return True\n",
    "                \n",
    "        return False\n",
    "    else: return False\n"
   ]
  },
  {
   "cell_type": "code",
   "execution_count": null,
   "id": "1bb4c6e6",
   "metadata": {},
   "outputs": [],
   "source": [
    "test_eq(isdecorator(delegates), True)"
   ]
  },
  {
   "cell_type": "code",
   "execution_count": null,
   "id": "afdfdd80",
   "metadata": {},
   "outputs": [],
   "source": [
    "test_eq(isdecorator(test_sig), False)"
   ]
  },
  {
   "cell_type": "markdown",
   "id": "2791b2c5-ccd8-4ff1-9e48-acbf646ef084",
   "metadata": {},
   "source": [
    "## whatinside a module of a library"
   ]
  },
  {
   "cell_type": "code",
   "execution_count": null,
   "id": "bb0e8d41-9417-43e0-b3eb-a018128a9488",
   "metadata": {},
   "outputs": [],
   "source": [
    "#| export\n",
    "# from inspect import getmembers, isfunction, isclass, isbuiltin, getsource\n",
    "import os.path, pkgutil\n",
    "from pprint import pprint\n",
    "import inspect\n"
   ]
  },
  {
   "cell_type": "code",
   "execution_count": null,
   "id": "1f4b1287-a8f5-426a-8ca6-93f5c36488ad",
   "metadata": {},
   "outputs": [],
   "source": [
    "\n",
    "def whatinside(mo, # module, e.g., `import fastcore.all as fa`, use `fa` here\n",
    "               dun:bool=False, # print all items in __all__\n",
    "               func:bool=False, # print all user defined functions\n",
    "               clas:bool=False, # print all class objects\n",
    "               bltin:bool=False, # print all builtin funcs or methods\n",
    "               lib:bool=False, # print all the modules of the library it belongs to\n",
    "               cal:bool=False # print all callables\n",
    "             ): \n",
    "    'Check what inside a module: `__all__`, functions, classes, builtins, and callables'\n",
    "    dun_all = len(mo.__all__) if hasattr(mo, \"__all__\") else 0\n",
    "    funcs = inspect.getmembers(mo, inspect.isfunction)\n",
    "    classes = inspect.getmembers(mo, inspect.isclass)\n",
    "    builtins = inspect.getmembers(mo, inspect.isbuiltin)\n",
    "    callables = inspect.getmembers(mo, callable)\n",
    "    pkgpath = os.path.dirname(mo.__file__)\n",
    "    if not lib:\n",
    "        print(f\"{mo.__name__} has: \\n{dun_all} items in its __all__, and \\n{len(funcs)} user defined functions, \\n{len(classes)} classes or class objects, \\n{len(builtins)} builtin funcs and methods, and\\n{len(callables)} callables.\\n\")  \n",
    "    if hasattr(mo, \"__all__\") and dun: pprint(mo.__all__)\n",
    "    if func: \n",
    "        print(f'The user defined functions are:')\n",
    "        pprint([i[0] for i in funcs])\n",
    "    if clas: \n",
    "        print(f'The class objects are:')\n",
    "        pprint([i[0] for i in classes])\n",
    "    if bltin: \n",
    "        print(f'The builtin functions or methods are:')\n",
    "        pprint([i[0] for i in builtins])\n",
    "    if cal: \n",
    "        print(f'The callables are: ')\n",
    "        pprint([i[0] for i in callables])\n",
    "    if lib: \n",
    "        modules = [name for _, name, _ in pkgutil.iter_modules([pkgpath])]\n",
    "        print(f'The library has {len(modules)} modules')\n",
    "        pprint(modules)"
   ]
  },
  {
   "cell_type": "markdown",
   "id": "5341eee4",
   "metadata": {},
   "source": [
    "### show the type of objects inside `__all__`"
   ]
  },
  {
   "cell_type": "code",
   "execution_count": null,
   "id": "bf931251",
   "metadata": {},
   "outputs": [],
   "source": [
    "\n",
    "def whatinside(mo, # module, e.g., `import fastcore.all as fa`, use `fa` here\n",
    "               dun:bool=False, # print all items in __all__\n",
    "               func:bool=False, # print all user defined functions\n",
    "               clas:bool=False, # print all class objects\n",
    "               bltin:bool=False, # print all builtin funcs or methods\n",
    "               lib:bool=False, # print all the modules of the library it belongs to\n",
    "               cal:bool=False # print all callables\n",
    "             ): \n",
    "    'Check what inside a module: `__all__`, functions, classes, builtins, and callables'\n",
    "    dun_all = len(mo.__all__) if hasattr(mo, \"__all__\") else 0\n",
    "    funcs = inspect.getmembers(mo, inspect.isfunction)\n",
    "    classes = inspect.getmembers(mo, inspect.isclass)\n",
    "    builtins = inspect.getmembers(mo, inspect.isbuiltin)\n",
    "    callables = inspect.getmembers(mo, callable)\n",
    "    pkgpath = os.path.dirname(mo.__file__)\n",
    "    module_env = mo.__dict__\n",
    "    kind = None # assignment first before reference\n",
    "    if not lib:\n",
    "        print(f\"{mo.__name__} has: \\n{dun_all} items in its __all__, and \\n{len(funcs)} user defined functions, \\n{len(classes)} classes or class objects, \\n{len(builtins)} builtin funcs and methods, and\\n{len(callables)} callables.\\n\")  \n",
    "    if hasattr(mo, \"__all__\") and dun: \n",
    "        maxlen = max(map(lambda i : len(i) , mo.__all__ ))\n",
    "        for i in mo.__all__:\n",
    "            obj = eval(i, module_env)\n",
    "            if ismetaclass(obj):\n",
    "                kind = \"metaclass\" \n",
    "            elif inspect.isclass(obj):\n",
    "                kind = \"class\"\n",
    "            elif isdecorator(obj):\n",
    "                kind = \"decorator\"\n",
    "            elif inspect.isfunction(obj):\n",
    "                kind = \"function\"\n",
    "            tp = type(eval(i, module_env)).__name__\n",
    "            startlen = len(i)\n",
    "            if tp == kind: print(i + \":\" + \" \"*(maxlen-startlen + 5) + kind + \"    \" + \\\n",
    "                                 inspect.getdoc(eval(i, module_env)))  \n",
    "            elif tp != 'NoneType': print(i + \":\" + \" \"*(maxlen-startlen+5) + kind + \", \" + tp + \"    \" + \\\n",
    "                                 inspect.getdoc(eval(i, module_env)))\n",
    "            else: print(i + \":\" + tp)\n",
    "    if func: \n",
    "        print(f'The user defined functions are:')\n",
    "        maxlen = max(map(lambda i : len(i[0]) , funcs ))\n",
    "        for i in funcs:\n",
    "            if isdecorator(i[1]):\n",
    "                kind = \"decorator\"\n",
    "            elif inspect.isfunction(i[1]):\n",
    "                kind = \"function\"\n",
    "#             print(f\"{i[0]}: {kind}\")  \n",
    "            startlen = len(i[0])\n",
    "            print(i[0] + \":\" + \" \"*(maxlen-startlen + 5) + kind + \"    \" + \\\n",
    "                                 str(inspect.signature(i[1])))               \n",
    "    if clas: \n",
    "        print(f'The class objects are:')\n",
    "        maxlen = max(map(lambda i : len(i[0]) , funcs ))\n",
    "        for i in classes:\n",
    "            if ismetaclass(i[1]):\n",
    "                kind = \"metaclass\"\n",
    "            elif inspect.isclass(i[1]):\n",
    "                kind = \"class\"\n",
    "#             print(f\"{i[0]}: {kind}\")  \n",
    "            startlen = len(i[0])\n",
    "            if not inspect.isbuiltin(i[1]):         \n",
    "                print(i[0] + \":\" + \" \"*(maxlen-startlen + 5) + kind)\n",
    "    if bltin: \n",
    "        print(f'The builtin functions or methods are:')\n",
    "        pprint([i[0] for i in builtins])\n",
    "    if cal: \n",
    "        print(f'The callables are: ')\n",
    "        pprint([i[0] for i in callables])\n",
    "    if lib: \n",
    "        modules = [name for _, name, _ in pkgutil.iter_modules([pkgpath])]\n",
    "        print(f'The library has {len(modules)} modules')\n",
    "        pprint(modules)"
   ]
  },
  {
   "cell_type": "markdown",
   "id": "11a6652f",
   "metadata": {},
   "source": [
    "### working for fastdebug.core"
   ]
  },
  {
   "cell_type": "code",
   "execution_count": null,
   "id": "2f013749",
   "metadata": {},
   "outputs": [],
   "source": [
    "\n",
    "def whatinside(mo, # module, e.g., `import fastcore.all as fa`, use `fa` here\n",
    "               dun:bool=False, # print all items in __all__\n",
    "               func:bool=False, # print all user defined functions\n",
    "               clas:bool=False, # print all class objects\n",
    "               bltin:bool=False, # print all builtin funcs or methods\n",
    "               lib:bool=False, # print all the modules of the library it belongs to\n",
    "               cal:bool=False # print all callables\n",
    "             ): \n",
    "    'Check what inside a module: `__all__`, functions, classes, builtins, and callables'\n",
    "    dun_all = len(mo.__all__) if hasattr(mo, \"__all__\") else 0\n",
    "    funcs = inspect.getmembers(mo, inspect.isfunction)\n",
    "    classes = inspect.getmembers(mo, inspect.isclass)\n",
    "    builtins = inspect.getmembers(mo, inspect.isbuiltin)\n",
    "    callables = inspect.getmembers(mo, callable)\n",
    "    pkgpath = os.path.dirname(mo.__file__)\n",
    "    module_env = mo.__dict__\n",
    "    kind = None # assignment first before reference\n",
    "    if not lib:\n",
    "        print(f\"{mo.__name__} has: \\n{dun_all} items in its __all__, and \\n{len(funcs)} user defined functions, \\n{len(classes)} classes or class objects, \\n{len(builtins)} builtin funcs and methods, and\\n{len(callables)} callables.\\n\")  \n",
    "    if hasattr(mo, \"__all__\") and dun: \n",
    "        maxlen = max(map(lambda i : len(i) , mo.__all__ ))\n",
    "        for i in mo.__all__:\n",
    "            obj = eval(i, module_env)\n",
    "            if ismetaclass(obj):\n",
    "                kind = \"metaclass\" \n",
    "            elif inspect.isclass(obj):\n",
    "                kind = \"class\"\n",
    "            elif isdecorator(obj):\n",
    "                kind = \"decorator\"\n",
    "            elif inspect.isfunction(obj):\n",
    "                kind = \"function\"\n",
    "            tp = type(eval(i, module_env)).__name__\n",
    "            startlen = len(i)\n",
    "            if tp == kind: print(i + \":\" + \" \"*(maxlen-startlen + 5) + kind + \"    \" + \\\n",
    "                                 inspect.getdoc(eval(i, module_env)))  \n",
    "            elif kind != None and callable(eval(i, module_env)): print(i + \":\" + \" \"*(maxlen-startlen+5) + kind + \", \" + tp + \"    \" + \\\n",
    "                                 str(inspect.getdoc(eval(i, module_env))))\n",
    "#             elif tp != 'NoneType': print(i + \":\" + \" \"*(maxlen-startlen+5) + kind + \", \" + tp + \"    \" + \\\n",
    "#                                  inspect.getdoc(eval(i, module_env)))\n",
    "            else: print(i + \":\" + tp)\n",
    "    if func: \n",
    "        print(f'The user defined functions are:')\n",
    "        maxlen = max(map(lambda i : len(i[0]) , funcs ))\n",
    "        for i in funcs:\n",
    "            if isdecorator(i[1]):\n",
    "                kind = \"decorator\"\n",
    "            elif inspect.isfunction(i[1]):\n",
    "                kind = \"function\"\n",
    "#             print(f\"{i[0]}: {kind}\")  \n",
    "            startlen = len(i[0])\n",
    "            print(i[0] + \":\" + \" \"*(maxlen-startlen + 5) + kind + \"    \" + \\\n",
    "                                 str(inspect.signature(i[1])))               \n",
    "    if clas: \n",
    "        print(f'The class objects are:')\n",
    "        maxlen = max(map(lambda i : len(i[0]) , funcs ))\n",
    "        for i in classes:\n",
    "            if ismetaclass(i[1]):\n",
    "                kind = \"metaclass\"\n",
    "            elif inspect.isclass(i[1]):\n",
    "                kind = \"class\"\n",
    "#             print(f\"{i[0]}: {kind}\")  \n",
    "            startlen = len(i[0])\n",
    "            if not inspect.isbuiltin(i[1]):         \n",
    "                print(i[0] + \":\" + \" \"*(maxlen-startlen + 5) + kind)\n",
    "    if bltin: \n",
    "        print(f'The builtin functions or methods are:')\n",
    "        pprint([i[0] for i in builtins])\n",
    "    if cal: \n",
    "        print(f'The callables are: ')\n",
    "        pprint([i[0] for i in callables])\n",
    "    if lib: \n",
    "        modules = [name for _, name, _ in pkgutil.iter_modules([pkgpath])]\n",
    "        print(f'The library has {len(modules)} modules')\n",
    "        pprint(modules)"
   ]
  },
  {
   "cell_type": "markdown",
   "id": "3f236a13",
   "metadata": {},
   "source": [
    "### to show Fastdb methods"
   ]
  },
  {
   "cell_type": "code",
   "execution_count": null,
   "id": "b1b0fd7c",
   "metadata": {},
   "outputs": [],
   "source": [
    "#| export\n",
    "def whatinside(mo, # module, e.g., `import fastcore.all as fa`, use `fa` here\n",
    "               dun:bool=False, # print all items in __all__\n",
    "               func:bool=False, # print all user defined functions\n",
    "               method:bool=False, \n",
    "               clas:bool=False, # print all class objects\n",
    "               bltin:bool=False, # print all builtin funcs or methods\n",
    "               lib:bool=False, # print all the modules of the library it belongs to\n",
    "               cal:bool=False # print all callables\n",
    "             ): \n",
    "    'Check what inside a module: `__all__`, functions, classes, builtins, and callables'\n",
    "    dun_all = len(mo.__all__) if hasattr(mo, \"__all__\") else 0\n",
    "    funcs = inspect.getmembers(mo, inspect.isfunction)\n",
    "    methods = inspect.getmembers(mo, inspect.ismethod)    \n",
    "    classes = inspect.getmembers(mo, inspect.isclass)\n",
    "    builtins = inspect.getmembers(mo, inspect.isbuiltin)\n",
    "    callables = inspect.getmembers(mo, callable)\n",
    "    pkgpath = os.path.dirname(mo.__file__)\n",
    "    module_env = mo.__dict__\n",
    "    kind = None # assignment first before reference\n",
    "    if not lib:\n",
    "        print(f\"{mo.__name__} has: \\n{dun_all} items in its __all__, and \\n{len(funcs)} user defined functions, \\n{len(classes)} classes or class objects, \\n{len(builtins)} builtin funcs and methods, and\\n{len(callables)} callables.\\n\")  \n",
    "        print(inspect.getdoc(mo))\n",
    "    if hasattr(mo, \"__all__\") and dun: \n",
    "        maxlen = max(map(lambda i : len(i) , mo.__all__ ))\n",
    "        for i in mo.__all__:\n",
    "            obj = eval(i, module_env)\n",
    "            if ismetaclass(obj):\n",
    "                kind = \"metaclass\" \n",
    "            elif inspect.isclass(obj):\n",
    "                kind = \"class\"\n",
    "            elif isdecorator(obj):\n",
    "                kind = \"decorator\"\n",
    "            elif inspect.isfunction(obj):\n",
    "                kind = \"function\"\n",
    "            tp = type(eval(i, module_env)).__name__\n",
    "            startlen = len(i)\n",
    "            if tp == kind: print(i + \":\" + \" \"*(maxlen-startlen + 5) + kind + \"    \" + \\\n",
    "                                 str(inspect.getdoc(eval(i, module_env))))  \n",
    "            elif kind != None and callable(eval(i, module_env)): print(i + \":\" + \" \"*(maxlen-startlen+5) + kind + \", \" + tp + \"    \" + \\\n",
    "                                 str(inspect.getdoc(eval(i, module_env))))\n",
    "#             elif tp != 'NoneType': print(i + \":\" + \" \"*(maxlen-startlen+5) + kind + \", \" + tp + \"    \" + \\\n",
    "#                                  inspect.getdoc(eval(i, module_env)))\n",
    "            else: print(i + \":\" + tp)\n",
    "    if func: \n",
    "        print(f'The user defined functions are:')\n",
    "        maxlen = max(map(lambda i : len(i[0]) , funcs ))\n",
    "        for i in funcs:\n",
    "            if isdecorator(i[1]):\n",
    "                kind = \"decorator\"\n",
    "            elif inspect.isfunction(i[1]):\n",
    "                kind = \"function\"\n",
    "#             print(f\"{i[0]}: {kind}\")  \n",
    "            startlen = len(i[0])\n",
    "            print(i[0] + \":\" + \" \"*(maxlen-startlen + 5) + kind + \"    \" + \\\n",
    "                                 str(inspect.signature(i[1])))               \n",
    "    if clas: \n",
    "        print(f'The class objects are:')\n",
    "        maxlen = max(map(lambda i : len(i[0]) , funcs ))\n",
    "        for i in classes:\n",
    "            if ismetaclass(i[1]):\n",
    "                kind = \"metaclass\"\n",
    "            elif inspect.isclass(i[1]):\n",
    "                kind = \"class\"\n",
    "#             print(f\"{i[0]}: {kind}\")  \n",
    "            startlen = len(i[0])\n",
    "            if not inspect.isbuiltin(i[1]):         \n",
    "                print(i[0] + \":\" + \" \"*(maxlen-startlen + 5) + kind)\n",
    "    if method: \n",
    "        print(f'The methods are:')\n",
    "        pprint([i[0] for i in methods])\n",
    "    if bltin: \n",
    "        print(f'The builtin functions or methods are:')\n",
    "        pprint([i[0] for i in builtins])\n",
    "    if cal: \n",
    "        print(f'The callables are: ')\n",
    "        pprint([i[0] for i in callables])\n",
    "    if lib: \n",
    "        modules = [name for _, name, _ in pkgutil.iter_modules([pkgpath])]\n",
    "        print(f'The library has {len(modules)} modules')\n",
    "        pprint(modules)"
   ]
  },
  {
   "cell_type": "code",
   "execution_count": null,
   "id": "9307e719",
   "metadata": {},
   "outputs": [],
   "source": []
  },
  {
   "cell_type": "code",
   "execution_count": null,
   "id": "be09c77b",
   "metadata": {},
   "outputs": [
    {
     "data": {
      "text/plain": [
       "'None'"
      ]
     },
     "execution_count": null,
     "metadata": {},
     "output_type": "execute_result"
    }
   ],
   "source": [
    "str(None)"
   ]
  },
  {
   "cell_type": "code",
   "execution_count": null,
   "id": "6f2a2cc9",
   "metadata": {},
   "outputs": [],
   "source": []
  },
  {
   "cell_type": "markdown",
   "id": "0f33d8ca-cd33-435a-a1e3-d93e61576d05",
   "metadata": {},
   "source": [
    "## whichversion of a library"
   ]
  },
  {
   "cell_type": "code",
   "execution_count": null,
   "id": "6634691e-6d88-4123-8ce0-6f09834f8681",
   "metadata": {},
   "outputs": [],
   "source": [
    "#| export\n",
    "from importlib.metadata import version, metadata, distribution\n",
    "from platform import python_version "
   ]
  },
  {
   "cell_type": "code",
   "execution_count": null,
   "id": "347d1e2f-db5b-4efd-b7e5-fe16c4b7e581",
   "metadata": {},
   "outputs": [],
   "source": [
    "#| export\n",
    "def whichversion(libname:str, # library name not string\n",
    "                req:bool=False, # print lib requirements \n",
    "                file:bool=False): # print all lib files\n",
    "    \"Give you library version and other basic info.\"\n",
    "    if libname == \"python\":\n",
    "        print(f\"python: {python_version()}\")\n",
    "    else: \n",
    "        print(f\"{metadata(libname)['Name']}: {version(libname)} \\n{metadata(libname)['Summary']}\\\n",
    "    \\n{metadata(libname)['Author']} \\n{metadata(libname)['Home-page']} \\\n",
    "    \\npython_version: {metadata(libname)['Requires-Python']} \\\n",
    "    \\n{distribution(libname).locate_file(libname)}\")\n",
    "\n",
    "    if req: \n",
    "        print(f\"\\n{libname} requires: \")\n",
    "        pprint(distribution(libname).requires)\n",
    "    if file: \n",
    "        print(f\"\\n{libname} has: \")\n",
    "        pprint(distribution(libname).files)\n",
    "    "
   ]
  },
  {
   "cell_type": "code",
   "execution_count": null,
   "id": "b4f1d524-68f1-4901-942d-f9218fc88569",
   "metadata": {},
   "outputs": [
    {
     "name": "stdout",
     "output_type": "stream",
     "text": [
      "python: 3.9.13\n"
     ]
    }
   ],
   "source": [
    "whichversion(\"python\")"
   ]
  },
  {
   "cell_type": "code",
   "execution_count": null,
   "id": "a2e68c5c-af06-4a21-a010-42c0f978aa33",
   "metadata": {},
   "outputs": [
    {
     "name": "stdout",
     "output_type": "stream",
     "text": [
      "fastcore: 1.5.27 \n",
      "Python supercharged for fastai development    \n",
      "Jeremy Howard and Sylvain Gugger \n",
      "https://github.com/fastai/fastcore/     \n",
      "python_version: >=3.7     \n",
      "/Users/Natsume/mambaforge/lib/python3.9/site-packages/fastcore\n"
     ]
    }
   ],
   "source": [
    "whichversion(\"fastcore\")"
   ]
  },
  {
   "cell_type": "code",
   "execution_count": null,
   "id": "195c2b3b-799c-42b2-958f-f10179f99c09",
   "metadata": {},
   "outputs": [
    {
     "name": "stdout",
     "output_type": "stream",
     "text": [
      "fastai: 2.7.9 \n",
      "fastai simplifies training fast and accurate neural nets using modern best practices    \n",
      "Jeremy Howard, Sylvain Gugger, and contributors \n",
      "https://github.com/fastai/fastai/tree/master/     \n",
      "python_version: >=3.7     \n",
      "/Users/Natsume/mambaforge/lib/python3.9/site-packages/fastai\n"
     ]
    }
   ],
   "source": [
    "whichversion(\"fastai\")"
   ]
  },
  {
   "cell_type": "code",
   "execution_count": null,
   "id": "229283cc-66f7-405f-8a51-5c2a77f646e6",
   "metadata": {},
   "outputs": [
    {
     "name": "stdout",
     "output_type": "stream",
     "text": [
      "snoop: 0.4.2 \n",
      "Powerful debugging tools for Python    \n",
      "Alex Hall \n",
      "https://github.com/alexmojaki/snoop     \n",
      "python_version: None     \n",
      "/Users/Natsume/mambaforge/lib/python3.9/site-packages/snoop\n"
     ]
    }
   ],
   "source": [
    "whichversion(\"snoop\")"
   ]
  },
  {
   "cell_type": "code",
   "execution_count": null,
   "id": "1be157fe-7da6-4fdd-bb1b-4d26be5db698",
   "metadata": {},
   "outputs": [
    {
     "name": "stdout",
     "output_type": "stream",
     "text": [
      "inspect won't work here\n"
     ]
    }
   ],
   "source": [
    "try:\n",
    "    whichversion(\"inspect\")\n",
    "except: \n",
    "    print(\"inspect won't work here\")"
   ]
  },
  {
   "cell_type": "code",
   "execution_count": null,
   "id": "3fbd6461-d22f-48ff-8783-692fa922e8c8",
   "metadata": {},
   "outputs": [],
   "source": [
    "\n",
    "def tstenv(outenv=globals()):\n",
    "    print(f'out global env has {len(outenv.keys())} vars')\n",
    "    print(f'inner global env has {len(globals().keys())} vars')\n",
    "    print(f'inner local env has {len(globals().keys())} vars')\n",
    "    lstout = list(outenv.keys())\n",
    "    lstin = list(globals().keys())\n",
    "    print(lstout[:10])\n",
    "    print(lstin[:10])\n",
    "    print(f\"out env['__name__']: {outenv['__name__']}\")\n",
    "    print(f\"inner env['__name__']: {globals()['__name__']}\")"
   ]
  },
  {
   "cell_type": "code",
   "execution_count": null,
   "id": "35df6681-cdf4-4660-8e7b-1fa3bdd090ee",
   "metadata": {},
   "outputs": [
    {
     "name": "stdout",
     "output_type": "stream",
     "text": [
      "out global env has 111 vars\n",
      "inner global env has 111 vars\n",
      "inner local env has 111 vars\n",
      "['__name__', '__doc__', '__package__', '__loader__', '__spec__', '__builtin__', '__builtins__', '_ih', '_oh', '_dh']\n",
      "['__name__', '__doc__', '__package__', '__loader__', '__spec__', '__builtin__', '__builtins__', '_ih', '_oh', '_dh']\n",
      "out env['__name__']: __main__\n",
      "inner env['__name__']: __main__\n"
     ]
    }
   ],
   "source": [
    "tstenv()"
   ]
  },
  {
   "cell_type": "code",
   "execution_count": null,
   "id": "eb6f1445-54f1-491f-a99b-1ef364bb392c",
   "metadata": {},
   "outputs": [
    {
     "data": {
      "text/plain": [
       "112"
      ]
     },
     "execution_count": null,
     "metadata": {},
     "output_type": "execute_result"
    }
   ],
   "source": [
    "len(globals().keys())"
   ]
  },
  {
   "cell_type": "markdown",
   "id": "0eb76454",
   "metadata": {},
   "source": [
    "## fastview\n",
    "display the commented source code"
   ]
  },
  {
   "cell_type": "code",
   "execution_count": null,
   "id": "71d4cd2f",
   "metadata": {},
   "outputs": [],
   "source": [
    "#| export\n",
    "def fastview(name, # can be both object itself or str, e.g., delegates, FixSigMeta\n",
    "            nb=False # add a link to the notebook where comments are added\n",
    "            ): \n",
    "    \"to view the commented src code in color print and with examples\"\n",
    "    if type(name) == str:\n",
    "        file_name ='/Users/Natsume/Documents/fastdebug/learnings/' + name + '.py'\n",
    "    else:\n",
    "        file_name ='/Users/Natsume/Documents/fastdebug/learnings/' + name.__name__ + '.py' \n",
    "\n",
    "    with open(file_name, 'r') as f:\n",
    "        # Read and print the entire file line by line\n",
    "        for l in f:\n",
    "            print(l, end='')\n",
    "    if nb:\n",
    "        openNB(name)    "
   ]
  },
  {
   "cell_type": "code",
   "execution_count": null,
   "id": "2de64f30",
   "metadata": {},
   "outputs": [],
   "source": [
    "# file_name ='/Users/Natsume/Documents/fastdebug/learnings/' + self.orisrc.__name__ + '.py' \n",
    "#     # learn about /tmp folder https://www.fosslinux.com/41739/linux-tmp-directory-everything-you-need-to-know.htm\n",
    "# with open(file_name, 'w') as f:\n",
    "# # with open(file_name, 'r') as f:    \n",
    "#     f.write(\"this is me\")\n",
    "\n",
    "# with open('dog_breeds.txt', 'r') as reader:\n",
    "#     # Read & print the entire file\n",
    "#     print(reader.read())    \n",
    "    \n",
    "# with open(file_name, 'r') as f:\n",
    "#     # Read and print the entire file line by line\n",
    "#     for l in f:\n",
    "#         print(l, end='')    \n",
    "        \n",
    "# with open(file_name, 'a') as f:\n",
    "#     f.write('\\nBeagle')"
   ]
  },
  {
   "cell_type": "code",
   "execution_count": null,
   "id": "66f44af6",
   "metadata": {},
   "outputs": [],
   "source": [
    "#| export\n",
    "import os"
   ]
  },
  {
   "cell_type": "code",
   "execution_count": null,
   "id": "330a25fe",
   "metadata": {},
   "outputs": [
    {
     "name": "stdout",
     "output_type": "stream",
     "text": [
      "\n",
      "class _T(metaclass=PrePostInitMeta):\n",
      "    def __pre_init__(self):  self.a  = 0; \n",
      "    def __init__(self,b=0):  self.b = self.a + 1; assert self.b==1\n",
      "    def __post_init__(self): self.c = self.b + 2; assert self.c==3\n",
      "\n",
      "t = _T()\n",
      "test_eq(t.a, 0) # set with __pre_init__\n",
      "test_eq(t.b, 1) # set with __init__\n",
      "test_eq(t.c, 3) # set with __post_init__\n",
      "inspect.signature(_T)\n",
      "\n",
      "class PrePostInitMeta(FixSigMeta):========================================================(0)       \n",
      "    \"A metaclass that calls optional `__pre_init__` and `__post_init__` methods\"==========(1) # \u001b[37;1mPrePostInitMeta inherit __new__ and __init__ from FixSigMeta as a metaclass (a different type)\u001b[0m; \u001b[37;1mnot from type, nor from object\u001b[0m; \u001b[37;1mPrePostInitMeta is itself a metaclass, which is used to create class instance not object instance\u001b[0m; \u001b[34;1mPrePostInitMeta writes its own __call__ which regulates how its class instance create and initialize object instance\u001b[0m; \n",
      "    def __call__(cls, *args, **kwargs):===================================================(2)       \n",
      "        res = cls.__new__(cls)============================================================(3) # \u001b[92;1mhow to create an object instance with a cls\u001b[0m; \u001b[35;1mhow to check the type of an object is cls\u001b[0m; \u001b[92;1mhow to run a function without knowing its params;\u001b[0m; \n",
      "        if type(res)==cls:================================================================(4)       \n",
      "            if hasattr(res,'__pre_init__'): res.__pre_init__(*args,**kwargs)==============(5)       \n",
      "            res.__init__(*args,**kwargs)==================================================(6) # \u001b[91;1mhow to run __init__ without knowing its params\u001b[0m; \n",
      "            if hasattr(res,'__post_init__'): res.__post_init__(*args,**kwargs)============(7)       \n",
      "        return res========================================================================(8)       \n",
      "                                                                                                                                                        (9)\n"
     ]
    }
   ],
   "source": [
    "# fastsrcs()\n",
    "fastview(\"PrePostInitMeta\")"
   ]
  },
  {
   "cell_type": "code",
   "execution_count": null,
   "id": "944018a5",
   "metadata": {},
   "outputs": [],
   "source": []
  },
  {
   "cell_type": "markdown",
   "id": "cbcd43c9",
   "metadata": {},
   "source": [
    "## fastscrs"
   ]
  },
  {
   "cell_type": "code",
   "execution_count": null,
   "id": "8f28ffba",
   "metadata": {},
   "outputs": [],
   "source": [
    "#| export\n",
    "def fastsrcs():\n",
    "    \"to list all commented src files\"\n",
    "    folder ='/Users/Natsume/Documents/fastdebug/learnings/'\n",
    "    for f in os.listdir(folder):\n",
    "        if f.endswith(\".py\"):\n",
    "            # Prints only text file present in My Folder\n",
    "            print(f)"
   ]
  },
  {
   "cell_type": "code",
   "execution_count": null,
   "id": "7b826cbb",
   "metadata": {},
   "outputs": [
    {
     "name": "stdout",
     "output_type": "stream",
     "text": [
      "anno_dict.py\n",
      "test_sig.py\n",
      "subplots.py\n",
      "show_titled_image.py\n",
      "DataBlock.py\n",
      "BypassNewMeta.py\n",
      "snoop.py\n",
      "FixSigMeta.py\n",
      "show_images.py\n",
      "fastnbs.py\n",
      "_fig_bounds.py\n",
      "funcs_kwargs.py\n",
      "__init__.py\n",
      "NewChkMeta.py\n",
      "printtitle.py\n",
      "show_image.py\n",
      "AutoInit.py\n",
      "get_image_files.py\n",
      "method.py\n",
      "_rm_self.py\n",
      "delegates.py\n",
      "create_explore_str.py\n",
      "PrePostInitMeta.py\n",
      "_funcs_kwargs.py\n",
      "whatinside.py\n"
     ]
    }
   ],
   "source": [
    "fastsrcs()"
   ]
  },
  {
   "cell_type": "markdown",
   "id": "f3d0876d",
   "metadata": {},
   "source": [
    "## getrootport"
   ]
  },
  {
   "cell_type": "code",
   "execution_count": null,
   "id": "9f1b8b99",
   "metadata": {},
   "outputs": [],
   "source": []
  },
  {
   "cell_type": "code",
   "execution_count": null,
   "id": "5ab1e512",
   "metadata": {},
   "outputs": [],
   "source": [
    "#| exporti\n",
    "def getrootport():\n",
    "    \"get the local port and notebook dir\"\n",
    "    from notebook import notebookapp\n",
    "    root_server = \"\"\n",
    "    root_dir = \"\"\n",
    "    for note in notebookapp.list_running_servers():\n",
    "        if \"fastdebug\" in note['notebook_dir']:\n",
    "            root_server = str(note['url']) + \"tree/\"\n",
    "            root_dir = note['notebook_dir']\n",
    "    return (root_server, root_dir)"
   ]
  },
  {
   "cell_type": "code",
   "execution_count": null,
   "id": "131bc889",
   "metadata": {},
   "outputs": [
    {
     "name": "stdout",
     "output_type": "stream",
     "text": [
      "{'base_url': '/', 'hostname': 'localhost', 'notebook_dir': '/Users/Natsume/Documents/fastdebug', 'password': False, 'pid': 68844, 'port': 8888, 'secure': False, 'sock': '', 'token': 'e181c5f69eb245f7a758023622a5996453d928ec9c739422', 'url': 'http://localhost:8888/'}\n"
     ]
    }
   ],
   "source": [
    "from notebook import notebookapp\n",
    "for note in notebookapp.list_running_servers():\n",
    "    print(note)"
   ]
  },
  {
   "cell_type": "code",
   "execution_count": null,
   "id": "77961519",
   "metadata": {},
   "outputs": [
    {
     "data": {
      "text/plain": [
       "('http://localhost:8888/tree/', '/Users/Natsume/Documents/fastdebug')"
      ]
     },
     "execution_count": null,
     "metadata": {},
     "output_type": "execute_result"
    }
   ],
   "source": [
    "getrootport()"
   ]
  },
  {
   "cell_type": "markdown",
   "id": "2d1bd7fa",
   "metadata": {},
   "source": [
    "## jn_link"
   ]
  },
  {
   "cell_type": "code",
   "execution_count": null,
   "id": "9e6f8845",
   "metadata": {},
   "outputs": [],
   "source": [
    "#| exporti\n",
    "def jn_link(name, file_path, where=\"locally\"):\n",
    "    \"Get a link to the notebook at `path` on Jupyter Notebook\"\n",
    "    from IPython.display import Markdown\n",
    "    display(Markdown(f'[Open `{name}` in Jupyter Notebook {where}]({file_path})'))                "
   ]
  },
  {
   "cell_type": "code",
   "execution_count": null,
   "id": "1faaf302",
   "metadata": {},
   "outputs": [
    {
     "data": {
      "text/markdown": [
       "[Open `utils` in Jupyter Notebook locally](http://localhost:8888/notebooks/nbs/lib/utils.ipynb)"
      ],
      "text/plain": [
       "<IPython.core.display.Markdown object>"
      ]
     },
     "metadata": {},
     "output_type": "display_data"
    }
   ],
   "source": [
    "jn_link(\"utils\", \"http://localhost:8888/notebooks/nbs/lib/utils.ipynb\")"
   ]
  },
  {
   "cell_type": "markdown",
   "id": "033afe2e",
   "metadata": {},
   "source": [
    "## get_all_nbs"
   ]
  },
  {
   "cell_type": "code",
   "execution_count": null,
   "id": "f07a47f2",
   "metadata": {},
   "outputs": [],
   "source": [
    "def get_all_nbs(folder='/Users/Natsume/Documents/divefastai/Debuggable/jupytext/'):\n",
    "    \"return all nbs of subfolders of the `folder` into a list\"\n",
    "    all_nbs = []\n",
    "    for i in os.listdir(folder):\n",
    "        if \".\" not in i:\n",
    "            all_nbs = all_nbs + [folder + i + \"/\" + j for j in os.listdir(folder + i) if j.endswith('.md')]\n",
    "    return (all_nbs, folder)"
   ]
  },
  {
   "cell_type": "markdown",
   "id": "12de743e",
   "metadata": {},
   "source": [
    "### get all nbs path for both md and ipynb"
   ]
  },
  {
   "cell_type": "code",
   "execution_count": null,
   "id": "cd73a908",
   "metadata": {},
   "outputs": [],
   "source": [
    "\n",
    "def get_all_nbs():\n",
    "    \"return paths for all nbs both in md and ipynb format into lists\"\n",
    "#     md_folder = '/Users/Natsume/Documents/divefastai/Debuggable/jupytext/'\n",
    "    md_folder = '/Users/Natsume/Documents/fastdebug/mds/'\n",
    "    ipy_folder = '/Users/Natsume/Documents/fastdebug/nbs/'\n",
    "    md_nbs = []\n",
    "    for i in os.listdir(md_folder):\n",
    "        if \".\" not in i:\n",
    "            md_nbs = md_nbs + [md_folder + i + \"/\" + j for j in os.listdir(md_folder + i) if j.endswith('.md')]\n",
    "            \n",
    "    ipy_nbs = []\n",
    "    for i in os.listdir(ipy_folder):\n",
    "        if \".\" not in i:\n",
    "            ipy_nbs = ipy_nbs + [ipy_folder + i + \"/\" + j for j in os.listdir(ipy_folder + i) if j.endswith('.ipynb')]\n",
    "            \n",
    "    return (md_nbs, md_folder, ipy_nbs, ipy_folder)"
   ]
  },
  {
   "cell_type": "code",
   "execution_count": null,
   "id": "48a29e99",
   "metadata": {},
   "outputs": [],
   "source": []
  },
  {
   "cell_type": "code",
   "execution_count": null,
   "id": "9d9377f6",
   "metadata": {},
   "outputs": [],
   "source": [
    "\n",
    "def get_all_nbs():\n",
    "    \"return paths for all nbs both in md and ipynb format into lists\"\n",
    "#     md_folder = '/Users/Natsume/Documents/divefastai/Debuggable/jupytext/'\n",
    "    md_folder = '/Users/Natsume/Documents/fastdebug/mds/'\n",
    "    md_output_folder = '/Users/Natsume/Documents/fastdebug/mds_output/'    \n",
    "    ipy_folder = '/Users/Natsume/Documents/fastdebug/nbs/'\n",
    "    md_nbs = []\n",
    "    for i in os.listdir(md_folder):\n",
    "        if \".\" not in i:\n",
    "            md_nbs = md_nbs + [md_folder + i + \"/\" + j for j in os.listdir(md_folder + i) if j.endswith('.md')]\n",
    "\n",
    "    md_output_nbs = [md_output_folder + i for i in os.listdir(md_output_folder) if \".md\" in i]        \n",
    "            \n",
    "    ipy_nbs = []\n",
    "    for i in os.listdir(ipy_folder):\n",
    "        if \".\" not in i:\n",
    "            ipy_nbs = ipy_nbs + [ipy_folder + i + \"/\" + j for j in os.listdir(ipy_folder + i) if j.endswith('.ipynb')]\n",
    "            \n",
    "    return (md_nbs, md_folder, ipy_nbs, ipy_folder, md_output_nbs, md_output_folder)"
   ]
  },
  {
   "cell_type": "markdown",
   "id": "a614a6d6",
   "metadata": {},
   "source": [
    "### add index.ipynb"
   ]
  },
  {
   "cell_type": "code",
   "execution_count": null,
   "id": "cf397c78",
   "metadata": {},
   "outputs": [
    {
     "name": "stdout",
     "output_type": "stream",
     "text": [
      "zsh:1: command not found: push-code-new\r\n"
     ]
    }
   ],
   "source": [
    "!push-code-new"
   ]
  },
  {
   "cell_type": "code",
   "execution_count": null,
   "id": "4ac0c3d8",
   "metadata": {},
   "outputs": [],
   "source": [
    "#| export\n",
    "from pathlib import *"
   ]
  },
  {
   "cell_type": "code",
   "execution_count": null,
   "id": "ee2c95e0",
   "metadata": {},
   "outputs": [],
   "source": [
    "# fastnbs(\"Path\")"
   ]
  },
  {
   "cell_type": "code",
   "execution_count": null,
   "id": "aacae26a",
   "metadata": {},
   "outputs": [
    {
     "ename": "AttributeError",
     "evalue": "'PosixPath' object has no attribute 'ls'",
     "output_type": "error",
     "traceback": [
      "\u001b[0;31m---------------------------------------------------------------------------\u001b[0m",
      "\u001b[0;31mAttributeError\u001b[0m                            Traceback (most recent call last)",
      "Input \u001b[0;32mIn [55]\u001b[0m, in \u001b[0;36m<cell line: 1>\u001b[0;34m()\u001b[0m\n\u001b[0;32m----> 1\u001b[0m \u001b[38;5;28mlist\u001b[39m(\u001b[38;5;28mmap\u001b[39m(\u001b[38;5;28mstr\u001b[39m, \u001b[38;5;28mlist\u001b[39m(\u001b[43m(\u001b[49m\u001b[43mPath\u001b[49m\u001b[38;5;241;43m.\u001b[39;49m\u001b[43mhome\u001b[49m\u001b[43m(\u001b[49m\u001b[43m)\u001b[49m\u001b[38;5;241;43m/\u001b[39;49m\u001b[38;5;124;43m\"\u001b[39;49m\u001b[38;5;124;43mDocuments/fastdebug/mds\u001b[39;49m\u001b[38;5;124;43m\"\u001b[39;49m\u001b[43m)\u001b[49m\u001b[38;5;241;43m.\u001b[39;49m\u001b[43mls\u001b[49m())))\n",
      "\u001b[0;31mAttributeError\u001b[0m: 'PosixPath' object has no attribute 'ls'"
     ]
    }
   ],
   "source": [
    "list(map(str, list((Path.home()/\"Documents/fastdebug/mds\").ls())))"
   ]
  },
  {
   "cell_type": "code",
   "execution_count": null,
   "id": "4072bfbc",
   "metadata": {},
   "outputs": [],
   "source": [
    "str(Path.home()/\"Documents/fastdebug/mds\") + \"/\""
   ]
  },
  {
   "cell_type": "code",
   "execution_count": null,
   "id": "0d68baa3",
   "metadata": {},
   "outputs": [],
   "source": [
    "#| export\n",
    "def get_all_nbs():\n",
    "    \"return paths for all nbs both in md and ipynb format into lists\"\n",
    "#     md_folder = '/Users/Natsume/Documents/divefastai/Debuggable/jupytext/'\n",
    "    md_folder = str(Path.home()/\"Documents/fastdebug/mds\") + \"/\" # '/Users/Natsume/Documents/fastdebug/mds/'\n",
    "    md_output_folder = str(Path.home()/\"Documents/fastdebug/mds_output\") + \"/\" # '/Users/Natsume/Documents/fastdebug/mds_output/'    \n",
    "    ipy_folder = str(Path.home()/\"Documents/fastdebug/nbs\") + \"/\" # '/Users/Natsume/Documents/fastdebug/nbs/'\n",
    "    md_nbs = []\n",
    "    for i in os.listdir(md_folder):\n",
    "        if \".\" not in i:\n",
    "            md_nbs = md_nbs + [md_folder + i + \"/\" + j for j in os.listdir(md_folder + i) if j.endswith('.md')]\n",
    "\n",
    "    md_output_nbs = [md_output_folder + i for i in os.listdir(md_output_folder) if \".md\" in i]        \n",
    "            \n",
    "    ipy_nbs = []\n",
    "    for i in os.listdir(ipy_folder):\n",
    "        if \".ipynb\" in i: \n",
    "            ipy_nbs.append(ipy_folder + i)\n",
    "        elif \".\" not in i:\n",
    "            ipy_nbs = ipy_nbs + [ipy_folder + i + \"/\" + j for j in os.listdir(ipy_folder + i) if j.endswith('.ipynb')]\n",
    "\n",
    "            \n",
    "    return (md_nbs, md_folder, ipy_nbs, ipy_folder, md_output_nbs, md_output_folder)"
   ]
  },
  {
   "cell_type": "code",
   "execution_count": null,
   "id": "4c6a328a",
   "metadata": {},
   "outputs": [],
   "source": []
  },
  {
   "cell_type": "code",
   "execution_count": null,
   "id": "c9cb27aa",
   "metadata": {},
   "outputs": [],
   "source": [
    "nbs_md, fdmd, nbs_ipy, fdipy, md_out, md_out_fd = get_all_nbs()\n",
    "for i in [nbs_md, fdmd, nbs_ipy, fdipy, md_out, md_out_fd]:\n",
    "    pprint(i)\n",
    "    print()"
   ]
  },
  {
   "cell_type": "markdown",
   "id": "5598a5ba",
   "metadata": {},
   "source": [
    "## openNB"
   ]
  },
  {
   "cell_type": "code",
   "execution_count": null,
   "id": "f07197aa",
   "metadata": {},
   "outputs": [],
   "source": [
    "\n",
    "def openNB(name, folder='nbs/demos/', db=False):\n",
    "    \"Get a link to the notebook at by name locally\"\n",
    "#     root = \"/Users/Natsume/Documents/fastdebug/\"\n",
    "#     root_server = \"http://localhost:8888/tree/\"\n",
    "    root = getrootport()[1] + \"/\"\n",
    "    root_server = getrootport()[0]\n",
    "    path = root + folder\n",
    "    path_server = root_server + folder\n",
    "    for f in os.listdir(path):  \n",
    "        if f.endswith(\".ipynb\"):\n",
    "            if name in f: \n",
    "                file_name = path_server + f\n",
    "                if db: print(f'file_name: {file_name}')\n",
    "                jn_link(name, file_name)"
   ]
  },
  {
   "cell_type": "code",
   "execution_count": null,
   "id": "e3897e7e",
   "metadata": {},
   "outputs": [],
   "source": [
    "\n",
    "def openNB(name, folder='nbs/demos/', db=False):\n",
    "    \"Get a link to the notebook at by name locally\"\n",
    "#     root = \"/Users/Natsume/Documents/fastdebug/\"\n",
    "#     root_server = \"http://localhost:8888/tree/\"\n",
    "    root = getrootport()[1] + \"/\"\n",
    "    root_server = getrootport()[0]\n",
    "    path = root + folder\n",
    "    path_server = root_server + folder\n",
    "    for f in os.listdir(path):  \n",
    "        if f.endswith(\".ipynb\"):\n",
    "            name = name.split('.md')[0]\n",
    "            if db: print(f, name)\n",
    "            if name in f: \n",
    "                file_name = path_server + f\n",
    "                jn_link(name, file_name)"
   ]
  },
  {
   "cell_type": "code",
   "execution_count": null,
   "id": "094bbc6b",
   "metadata": {},
   "outputs": [],
   "source": []
  },
  {
   "cell_type": "code",
   "execution_count": null,
   "id": "7a093a01",
   "metadata": {},
   "outputs": [],
   "source": [
    "\n",
    "def openNB(name, db=False):\n",
    "    \"Get a link to the notebook at by searching keyword or notebook name\"\n",
    "    _, _, ipynbs, _, _, _= get_all_nbs()\n",
    "    name = name.split(\".md\")[0]\n",
    "    root = getrootport()[1]\n",
    "    nb_path = \"\"\n",
    "    for f in ipynbs:\n",
    "        if name in f:\n",
    "            nb_path = f\n",
    "            name = f.split(\"/\")[-1].split(\".\")[0]\n",
    "            if db: print(f'nb_path:{nb_path}, name: {name}')\n",
    "    root_server = getrootport()[0]\n",
    "    folder_mid = nb_path.split(root)[1].split(name)[0]\n",
    "    if db: print(f'root: {root}, root_server: {root_server}, name: {name}, folder_mid: {folder_mid}')\n",
    "    path = root + folder_mid\n",
    "    path_server = root_server[:-1] + folder_mid\n",
    "    if db: print(f'path: {path}, path_server: {path_server}')\n",
    "    for f in os.listdir(path):  \n",
    "        if f.endswith(\".ipynb\"):\n",
    "            if name in f: \n",
    "                file_name = path_server + f\n",
    "                jn_link(name, file_name)"
   ]
  },
  {
   "cell_type": "code",
   "execution_count": null,
   "id": "dc361090",
   "metadata": {},
   "outputs": [],
   "source": [
    "#| export\n",
    "def openNB(name, heading=None, db=False):\n",
    "    \"Get a link to the notebook at by searching keyword or notebook name\"\n",
    "    _, _, ipynbs, _, _, _= get_all_nbs()\n",
    "    name = name.split(\".md\")[0]\n",
    "    root = getrootport()[1]\n",
    "    nb_path = \"\"\n",
    "    for f in ipynbs:\n",
    "        if name in f:\n",
    "            nb_path = f\n",
    "            name = f.split(\"/\")[-1].split(\".\")[0]\n",
    "            if db: print(f'nb_path:{nb_path}, name: {name}')\n",
    "    root_server = getrootport()[0]\n",
    "    folder_mid = nb_path.split(root)[1].split(name)[0]\n",
    "    if db: print(f'root: {root}, root_server: {root_server}, name: {name}, folder_mid: {folder_mid}')\n",
    "    path = root + folder_mid\n",
    "    path_server = root_server[:-1] + folder_mid\n",
    "    if db: print(f'path: {path}, path_server: {path_server}')\n",
    "    for f in os.listdir(path):  \n",
    "        if f.endswith(\".ipynb\"):\n",
    "            if name in f: \n",
    "                file_name = path_server + f + \"#\" + heading if bool(heading) else path_server + f\n",
    "                jn_link(name, file_name)"
   ]
  },
  {
   "cell_type": "code",
   "execution_count": null,
   "id": "b7d4dc6b",
   "metadata": {},
   "outputs": [],
   "source": [
    "bool(None)\n",
    "bool(\"head\")"
   ]
  },
  {
   "cell_type": "code",
   "execution_count": null,
   "id": "107e64b6",
   "metadata": {},
   "outputs": [],
   "source": [
    "openNB(\"FixSigMeta\", db=True)"
   ]
  },
  {
   "cell_type": "markdown",
   "id": "cb9bd914",
   "metadata": {},
   "source": [
    "## openNBKaggle"
   ]
  },
  {
   "cell_type": "code",
   "execution_count": null,
   "id": "328dfd93",
   "metadata": {},
   "outputs": [
    {
     "data": {
      "text/plain": [
       "['is', 'it', 'me']"
      ]
     },
     "execution_count": null,
     "metadata": {},
     "output_type": "execute_result"
    }
   ],
   "source": [
    "\"is_it_me\".split(\"_\")"
   ]
  },
  {
   "cell_type": "code",
   "execution_count": null,
   "id": "2de78fbd",
   "metadata": {},
   "outputs": [],
   "source": [
    "#| export\n",
    "kagglenbs = [\n",
    "    \"https://www.kaggle.com/code/jhoward/how-does-a-neural-net-really-work\",\n",
    "    \"https://www.kaggle.com/code/jhoward/is-it-a-bird-creating-a-model-from-your-own-data\",\n",
    "    \"https://www.kaggle.com/code/jhoward/why-you-should-use-a-framework\",\n",
    "    \"https://www.kaggle.com/code/jhoward/using-nbdev-export-in-a-kaggle-notebook\",\n",
    "    \"https://www.kaggle.com/code/jhoward/the-best-vision-models-for-fine-tuning\",\n",
    "    \"https://www.kaggle.com/code/jhoward/collaborative-filtering-deep-dive\",\n",
    "    \"https://www.kaggle.com/code/jhoward/multi-target-road-to-the-top-part-4\",\n",
    "    \"https://www.kaggle.com/code/jhoward/scaling-up-road-to-the-top-part-3\",\n",
    "    \"https://www.kaggle.com/code/jhoward/small-models-road-to-the-top-part-2\",\n",
    "    \"https://www.kaggle.com/code/jhoward/first-steps-road-to-the-top-part-1\",\n",
    "    \"https://www.kaggle.com/code/jhoward/which-image-models-are-best\",\n",
    "    \"https://www.kaggle.com/code/jhoward/linear-model-and-neural-net-from-scratch\",\n",
    "    \"https://www.kaggle.com/code/jhoward/iterate-like-a-grandmaster\",\n",
    "    \"https://www.kaggle.com/code/jhoward/how-random-forests-really-work\",\n",
    "    \"https://www.kaggle.com/code/jhoward/getting-started-with-nlp-for-absolute-beginners\",\n",
    "    \"https://www.kaggle.com/code/jhoward/resize-images\",\n",
    "    \"https://www.kaggle.com/code/jhoward/saving-a-basic-fastai-model\",\n",
    "    \"https://www.kaggle.com/code/jhoward/practical-deep-learning-for-coders-chapter-1\",\n",
    "    \"https://www.kaggle.com/code/jhoward/from-prototyping-to-submission-fastai\",\n",
    "    \"https://www.kaggle.com/code/jhoward/cleaning-the-data-for-rapid-prototyping-fastai\",\n",
    "    \"https://www.kaggle.com/code/jhoward/don-t-see-like-a-radiologist-fastai\",\n",
    "    \"https://www.kaggle.com/code/jhoward/some-dicom-gotchas-to-be-aware-of-fastai\",\n",
    "    \"https://www.kaggle.com/code/jhoward/creating-a-metadata-dataframe-fastai\",\n",
    "    \"https://www.kaggle.com/code/jhoward/fastai-v2-pipeline-tutorial\",\n",
    "    \"https://www.kaggle.com/code/jhoward/minimal-lstm-nb-svm-baseline-ensemble\",\n",
    "    \"https://www.kaggle.com/code/jhoward/nb-svm-strong-linear-baseline\",\n",
    "    \"https://www.kaggle.com/code/jhoward/improved-lstm-baseline-glove-dropout\"\n",
    "]"
   ]
  },
  {
   "cell_type": "code",
   "execution_count": null,
   "id": "6a00c4a9",
   "metadata": {},
   "outputs": [
    {
     "data": {
      "text/plain": [
       "27"
      ]
     },
     "execution_count": null,
     "metadata": {},
     "output_type": "execute_result"
    }
   ],
   "source": [
    "len(kagglenbs)"
   ]
  },
  {
   "cell_type": "code",
   "execution_count": null,
   "id": "5fa91bf7",
   "metadata": {},
   "outputs": [],
   "source": [
    "#| export\n",
    "def openNBKaggle(filename_full, db=False):\n",
    "    if 'fastai' in filename_full:\n",
    "        # split by 'fastai' and take the later\n",
    "        filename = filename_full\n",
    "        filename = filename.split(\"fastai_\")[1]\n",
    "        # split by '.ipynb'\n",
    "        filename = filename.split(\".md\")[0]\n",
    "        # split by '_'\n",
    "        nameparts = filename.split(\"_\")\n",
    "        if db: print(f'filename: {filename}')\n",
    "        for f in kagglenbs: \n",
    "            truelst = [p.lower() in f.lower() for p in nameparts]\n",
    "            pct = sum(truelst)/len(truelst)\n",
    "            if pct >= 0.9:\n",
    "                if db: print(f'pct is {pct}')\n",
    "                jn_link(filename_full.split(\".md\")[0], f, where=\"on Kaggle\") "
   ]
  },
  {
   "cell_type": "code",
   "execution_count": null,
   "id": "2f37c42b",
   "metadata": {},
   "outputs": [
    {
     "name": "stdout",
     "output_type": "stream",
     "text": [
      "filename: is_it_a_bird\n",
      "pct is 1.0\n"
     ]
    },
    {
     "data": {
      "text/markdown": [
       "[Open `0001_fastai_is_it_a_bird` in Jupyter Notebook on Kaggle](https://www.kaggle.com/code/jhoward/is-it-a-bird-creating-a-model-from-your-own-data)"
      ],
      "text/plain": [
       "<IPython.core.display.Markdown object>"
      ]
     },
     "metadata": {},
     "output_type": "display_data"
    }
   ],
   "source": [
    "# get_all_nbs()\n",
    "openNBKaggle(\"0001_fastai_is_it_a_bird.md\", db=True)"
   ]
  },
  {
   "cell_type": "markdown",
   "id": "0defed40",
   "metadata": {},
   "source": [
    "## highlight"
   ]
  },
  {
   "cell_type": "markdown",
   "id": "13f719ac",
   "metadata": {},
   "source": [
    "<mark style=\"background-color: #FFFF00\">text with highlighted background</mark>  "
   ]
  },
  {
   "cell_type": "code",
   "execution_count": null,
   "id": "365602e7",
   "metadata": {},
   "outputs": [],
   "source": [
    "\n",
    "def highlight(question:str, line:str, db=False):\n",
    "    \"highlight a string with yellow background\"\n",
    "    questlst = question.split(' ')\n",
    "    questlst_hl = [' <mark style=\"background-color: #FFFF00\">' + q + '</mark> ' for q in questlst]\n",
    "    for q, q_hl in zip(questlst, questlst_hl):\n",
    "        if \" \" + q + \" \" in line.lower() or \"[\" + q + \"]\" in line.lower() and not '<mark style=\"background-color: #FFFF00\">' + q in line.lower():\n",
    "            line = line.lower().replace(\" \" + q + \" \", q_hl)\n",
    "            \n",
    "    if db: print(f'line: {line}')\n",
    "    return line"
   ]
  },
  {
   "cell_type": "code",
   "execution_count": null,
   "id": "bb9e82ad",
   "metadata": {},
   "outputs": [],
   "source": [
    "\n",
    "def highlight(question:str, line:str, db=False):\n",
    "    \"highlight a string with yellow background\"\n",
    "    questlst = question.split(' ')\n",
    "    questlst_hl = [' <mark style=\"background-color: #FFFF00\">' + q + '</mark> ' for q in questlst]\n",
    "    for q, q_hl in zip(questlst, questlst_hl):\n",
    "        if \" \" + q in line.lower(): # don't do anything to [q] or <>q<>. Using regex can be more accurate here\n",
    "            line = line.lower().replace(q, q_hl)\n",
    "            \n",
    "    if db: print(f'line: {line}')\n",
    "    return line"
   ]
  },
  {
   "cell_type": "code",
   "execution_count": null,
   "id": "c5ff0af1",
   "metadata": {},
   "outputs": [],
   "source": [
    "\n",
    "def highlight(question:str, line:str, db=False):\n",
    "    \"highlight a string with yellow background\"\n",
    "    questlst = question.split(' ')\n",
    "    questlst_hl = [' <mark style=\"background-color: #FFFF00\">' + q.lower() + '</mark> ' for q in questlst]\n",
    "    for q, q_hl in zip(questlst, questlst_hl):\n",
    "        if \" \" + q.lower() in line.lower(): # don't do anything to [q] or <>q<>. Using regex can be more accurate here\n",
    "            line = line.lower().replace(q.lower(), q_hl)\n",
    "            \n",
    "    if db: print(f'line: {line}')\n",
    "    return line"
   ]
  },
  {
   "cell_type": "code",
   "execution_count": null,
   "id": "d048734b",
   "metadata": {},
   "outputs": [],
   "source": []
  },
  {
   "cell_type": "code",
   "execution_count": null,
   "id": "697108ee",
   "metadata": {},
   "outputs": [],
   "source": [
    "#| exporti\n",
    "def highlight(question:str, line:str, db=False):\n",
    "    \"highlight a string with yellow background\"\n",
    "    questlst = question.split(' ')\n",
    "    questlst_hl = [' <mark style=\"background-color: #FFFF00\">' + q.lower() + '</mark> ' for q in questlst]\n",
    "    for q, q_hl in zip(questlst, questlst_hl):\n",
    "        if \" \" + q.lower() in line.lower(): # don't do anything to [q] or <>q<>. Using regex can be more accurate here\n",
    "            line = line.lower().replace(\" \"+ q.lower(), q_hl)\n",
    "            \n",
    "    if db: print(f'line: {line}')\n",
    "    return line"
   ]
  },
  {
   "cell_type": "code",
   "execution_count": null,
   "id": "cae4104b",
   "metadata": {},
   "outputs": [
    {
     "name": "stdout",
     "output_type": "stream",
     "text": [
      "this is <mark style=\"background-color: #FFFF00\">a</mark>  <mark style=\"background-color: #ffff00\">0.8</mark>  of face\n"
     ]
    }
   ],
   "source": [
    "str(0.8).split(\" \")\n",
    "print(highlight(\"0.8 a\", \"this is a 0.8 of face\"))\n"
   ]
  },
  {
   "cell_type": "code",
   "execution_count": null,
   "id": "0c114061",
   "metadata": {},
   "outputs": [],
   "source": []
  },
  {
   "cell_type": "markdown",
   "id": "50606aaf",
   "metadata": {},
   "source": [
    "## display_md"
   ]
  },
  {
   "cell_type": "code",
   "execution_count": null,
   "id": "679a6ca5",
   "metadata": {},
   "outputs": [],
   "source": [
    "#| exporti\n",
    "def display_md(text):\n",
    "    \"Get a link to the notebook at `path` on Jupyter Notebook\"\n",
    "    from IPython.display import Markdown\n",
    "    display(Markdown(text))                "
   ]
  },
  {
   "cell_type": "code",
   "execution_count": null,
   "id": "4531c56e",
   "metadata": {},
   "outputs": [
    {
     "data": {
      "text/markdown": [
       "#### heading level 4"
      ],
      "text/plain": [
       "<IPython.core.display.Markdown object>"
      ]
     },
     "metadata": {},
     "output_type": "display_data"
    }
   ],
   "source": [
    "display_md(\"#### heading level 4\")"
   ]
  },
  {
   "cell_type": "code",
   "execution_count": null,
   "id": "fa459f6c",
   "metadata": {},
   "outputs": [],
   "source": []
  },
  {
   "cell_type": "markdown",
   "id": "e17c655b",
   "metadata": {},
   "source": [
    "## display_block"
   ]
  },
  {
   "cell_type": "code",
   "execution_count": null,
   "id": "470e6580",
   "metadata": {},
   "outputs": [],
   "source": [
    "\n",
    "def display_block(line, file):\n",
    "    \"`line` is a section title, find all subsequent lines which belongs to the same section and display them together\"\n",
    "    from IPython.display import Markdown\n",
    "    with open(file, 'r') as file:\n",
    "        entire = file.read()\n",
    "        belowline = entire.split(line)[1]\n",
    "        head_no = line.count(\"#\")\n",
    "        lochead2 = belowline.find(\"##\")\n",
    "        lochead3 = belowline.find(\"###\")\n",
    "        lochead4 = belowline.find(\"####\")\n",
    "        loclst = [lochead2,lochead3, lochead4]\n",
    "        loclst = [i for i in loclst if i != -1]\n",
    "        num_hash = 0\n",
    "        if bool(loclst):\n",
    "            if lochead2 == min(loclst):\n",
    "                num_hash = 2\n",
    "            elif lochead3 == min(loclst):\n",
    "                num_hash = 3\n",
    "            elif lochead4 == min(loclst):\n",
    "                num_hash = 4\n",
    "        if num_hash == 0:\n",
    "            section_content = belowline\n",
    "        else:\n",
    "            section_content = belowline.split(\"#\"*num_hash)[0]\n",
    "        entire_section = line + \"\\n\" + section_content\n",
    "        display(Markdown(entire_section))"
   ]
  },
  {
   "cell_type": "code",
   "execution_count": null,
   "id": "2e81ebf7",
   "metadata": {},
   "outputs": [],
   "source": []
  },
  {
   "cell_type": "code",
   "execution_count": null,
   "id": "f345c56e",
   "metadata": {},
   "outputs": [],
   "source": [
    "\n",
    "def display_block(line, file, keywords=\"\"):\n",
    "    \"`line` is a section title, find all subsequent lines which belongs to the same section and display them together\"\n",
    "    from IPython.display import Markdown\n",
    "    with open(file, 'r') as file:\n",
    "        entire = file.read()\n",
    "        belowline = entire.split(line)[1]\n",
    "        head_no = line.count(\"#\")\n",
    "        lochead2 = belowline.find(\"##\")\n",
    "        lochead3 = belowline.find(\"###\")\n",
    "        lochead4 = belowline.find(\"####\")\n",
    "        loclst = [lochead2,lochead3, lochead4]\n",
    "        loclst = [i for i in loclst if i != -1]\n",
    "        num_hash = 0\n",
    "        if bool(loclst):\n",
    "            if lochead2 == min(loclst):\n",
    "                num_hash = 2\n",
    "            elif lochead3 == min(loclst):\n",
    "                num_hash = 3\n",
    "            elif lochead4 == min(loclst):\n",
    "                num_hash = 4\n",
    "        if num_hash == 0:\n",
    "            section_content = belowline\n",
    "        else:\n",
    "            section_content = belowline.split(\"#\"*num_hash)[0]\n",
    "#         entire_content = line + \"\\n\" + section_content\n",
    "#         display(Markdown(entire_content))        \n",
    "        title_hl = highlight(keywords, line)\n",
    "        display(Markdown(title_hl))\n",
    "        display(Markdown(section_content))\n"
   ]
  },
  {
   "cell_type": "markdown",
   "id": "d7a84826",
   "metadata": {},
   "source": [
    "### handle both file path and file content at the same time"
   ]
  },
  {
   "cell_type": "code",
   "execution_count": null,
   "id": "4a756b39",
   "metadata": {},
   "outputs": [],
   "source": [
    "\n",
    "def display_block(line, file, output=False, keywords=\"\"):\n",
    "    \"`line` is a section title, find all subsequent lines which belongs to the same section and display them together\"\n",
    "    from IPython.display import Markdown\n",
    "    entire = \"\"\n",
    "    if file.endswith(\".md\") or file.endswith(\".ipynb\"):\n",
    "        with open(file, 'r') as file:\n",
    "            entire = file.read()\n",
    "    else:\n",
    "        entire = file\n",
    "        \n",
    "    belowline = entire.split(line)[1]\n",
    "    head_no = line.count(\"#\")\n",
    "    lochead2 = belowline.find(\"##\")\n",
    "    lochead3 = belowline.find(\"###\")\n",
    "    lochead4 = belowline.find(\"####\")\n",
    "    loclst = [lochead2,lochead3, lochead4]\n",
    "    loclst = [i for i in loclst if i != -1]\n",
    "    num_hash = 0\n",
    "    if bool(loclst):\n",
    "        if lochead2 == min(loclst):\n",
    "            num_hash = 2\n",
    "        elif lochead3 == min(loclst):\n",
    "            num_hash = 3\n",
    "        elif lochead4 == min(loclst):\n",
    "            num_hash = 4\n",
    "    if num_hash == 0:\n",
    "        section_content = belowline\n",
    "    else:\n",
    "        section_content = belowline.split(\"#\"*num_hash)[0]\n",
    "#         entire_content = line + \"\\n\" + section_content\n",
    "#         display(Markdown(entire_content))        \n",
    "    title_hl = highlight(keywords, line)\n",
    "    display(Markdown(title_hl))\n",
    "    if not output: display(Markdown(section_content))\n",
    "    else: print(section_content)\n"
   ]
  },
  {
   "cell_type": "code",
   "execution_count": null,
   "id": "7055ef31",
   "metadata": {},
   "outputs": [],
   "source": []
  },
  {
   "cell_type": "code",
   "execution_count": null,
   "id": "6e84b763",
   "metadata": {},
   "outputs": [
    {
     "data": {
      "text/plain": [
       "58"
      ]
     },
     "execution_count": null,
     "metadata": {},
     "output_type": "execute_result"
    }
   ],
   "source": [
    "\"### this is head2\\n### and this is head3\\n#### this is head4\\n## this is head2\".find(\"\\n## \")\n"
   ]
  },
  {
   "cell_type": "code",
   "execution_count": null,
   "id": "70dbcadf",
   "metadata": {},
   "outputs": [],
   "source": [
    "#| exporti\n",
    "def display_block(line, file, output=False, keywords=\"\"):\n",
    "    \"`line` is a section title, find all subsequent lines which belongs to the same section and display them together\"\n",
    "    from IPython.display import Markdown\n",
    "    entire = \"\"\n",
    "    if file.endswith(\".md\"): #or file.endswith(\".ipynb\"):\n",
    "        with open(file, 'r') as file:\n",
    "            entire = file.read()\n",
    "            \n",
    "    belowline = entire.split(line)[1]\n",
    "    head_no = line.count(\"#\")\n",
    "    full_section = \"\" + f\"The current section is heading {head_no}.\" + \"\\n\\n\"\n",
    "    lst_belowline = belowline.split(\"\\n\")\n",
    "    for idx, l in zip(range(len(lst_belowline)), lst_belowline):\n",
    "        if l.strip().startswith(\"#\"*(head_no-1)+\" \") and not bool(lst_belowline[idx-1].strip()) \\\n",
    "        and not bool(lst_belowline[idx+1].strip()):\n",
    "            full_section = full_section + f\"start of heading {head_no-1}\" + \"\\n\" + l\n",
    "            break\n",
    "        elif l.strip().startswith(\"#\"*head_no + \" \"):\n",
    "            full_section = full_section + f\"start of another heading {head_no}\" + \"\\n\" + l\n",
    "            break\n",
    "        else:  full_section = full_section + l + \"\\n\"\n",
    "    \n",
    "    title_hl = highlight(keywords, line)\n",
    "    display(Markdown(title_hl))\n",
    "    if not output: display(Markdown(full_section))\n",
    "    else: print(full_section)\n"
   ]
  },
  {
   "cell_type": "code",
   "execution_count": null,
   "id": "978cef66",
   "metadata": {},
   "outputs": [
    {
     "data": {
      "text/markdown": [
       "whichversion of a <mark style=\"background-color: #FFFF00\">library</mark> "
      ],
      "text/plain": [
       "<IPython.core.display.Markdown object>"
      ]
     },
     "metadata": {},
     "output_type": "display_data"
    },
    {
     "data": {
      "text/markdown": [
       "The current section is heading 0.\n",
       "\n",
       "\n",
       "\n",
       "```python\n",
       "#| export\n",
       "from importlib.metadata import version, metadata, distribution\n",
       "from platform import python_version \n",
       "```\n",
       "\n",
       "```python\n",
       "#| export\n",
       "def whichversion(libname:str, # library name not string\n",
       "                req:bool=False, # print lib requirements \n",
       "                file:bool=False): # print all lib files\n",
       "    \"Give you library version and other basic info.\"\n",
       "    if libname == \"python\":\n",
       "        print(f\"python: {python_version()}\")\n",
       "    else: \n",
       "        print(f\"{metadata(libname)['Name']}: {version(libname)} \\n{metadata(libname)['Summary']}\\\n",
       "    \\n{metadata(libname)['Author']} \\n{metadata(libname)['Home-page']} \\\n",
       "    \\npython_version: {metadata(libname)['Requires-Python']} \\\n",
       "    \\n{distribution(libname).locate_file(libname)}\")\n",
       "\n",
       "    if req: \n",
       "        print(f\"\\n{libname} requires: \")\n",
       "        pprint(distribution(libname).requires)\n",
       "    if file: \n",
       "        print(f\"\\n{libname} has: \")\n",
       "        pprint(distribution(libname).files)\n",
       "    \n",
       "```\n",
       "\n",
       "```python\n",
       "whichversion(\"python\")\n",
       "```\n",
       "\n",
       "```python\n",
       "whichversion(\"fastcore\")\n",
       "```\n",
       "\n",
       "```python\n",
       "whichversion(\"fastai\")\n",
       "```\n",
       "\n",
       "```python\n",
       "whichversion(\"snoop\")\n",
       "```\n",
       "\n",
       "```python\n",
       "try:\n",
       "    whichversion(\"inspect\")\n",
       "except: \n",
       "    print(\"inspect won't work here\")\n",
       "```\n",
       "\n",
       "```python\n",
       "\n",
       "def tstenv(outenv=globals()):\n",
       "    print(f'out global env has {len(outenv.keys())} vars')\n",
       "    print(f'inner global env has {len(globals().keys())} vars')\n",
       "    print(f'inner local env has {len(globals().keys())} vars')\n",
       "    lstout = list(outenv.keys())\n",
       "    lstin = list(globals().keys())\n",
       "    print(lstout[:10])\n",
       "    print(lstin[:10])\n",
       "    print(f\"out env['__name__']: {outenv['__name__']}\")\n",
       "    print(f\"inner env['__name__']: {globals()['__name__']}\")\n",
       "```\n",
       "\n",
       "```python\n",
       "tstenv()\n",
       "```\n",
       "\n",
       "```python\n",
       "len(globals().keys())\n",
       "```\n",
       "\n",
       "## fastview\n",
       "display the commented source code\n",
       "\n",
       "```python\n",
       "#| export\n",
       "def fastview(name, # can be both object itself or str, e.g., delegates, FixSigMeta\n",
       "            nb=False # add a link to the notebook where comments are added\n",
       "            ): \n",
       "    \"to view the commented src code in color print and with examples\"\n",
       "    if type(name) == str:\n",
       "        file_name ='/Users/Natsume/Documents/fastdebug/learnings/' + name + '.py'\n",
       "    else:\n",
       "        file_name ='/Users/Natsume/Documents/fastdebug/learnings/' + name.__name__ + '.py' \n",
       "\n",
       "    with open(file_name, 'r') as f:\n",
       "        # Read and print the entire file line by line\n",
       "        for l in f:\n",
       "            print(l, end='')\n",
       "    if nb:\n",
       "        openNB(name)    \n",
       "```\n",
       "\n",
       "```python\n",
       "# file_name ='/Users/Natsume/Documents/fastdebug/learnings/' + self.orisrc.__name__ + '.py' \n",
       "#     # learn about /tmp folder https://www.fosslinux.com/41739/linux-tmp-directory-everything-you-need-to-know.htm\n",
       "# with open(file_name, 'w') as f:\n",
       "# # with open(file_name, 'r') as f:    \n",
       "#     f.write(\"this is me\")\n",
       "\n",
       "# with open('dog_breeds.txt', 'r') as reader:\n",
       "#     # Read & print the entire file\n",
       "#     print(reader.read())    \n",
       "    \n",
       "# with open(file_name, 'r') as f:\n",
       "#     # Read and print the entire file line by line\n",
       "#     for l in f:\n",
       "#         print(l, end='')    \n",
       "        \n",
       "# with open(file_name, 'a') as f:\n",
       "#     f.write('\\nBeagle')\n",
       "```\n",
       "\n",
       "```python\n",
       "#| export\n",
       "import os\n",
       "```\n",
       "\n",
       "```python\n",
       "# fastsrcs()\n",
       "fastview(\"PrePostInitMeta\")\n",
       "```\n",
       "\n",
       "```python\n",
       "\n",
       "```\n",
       "\n",
       "## fastscrs\n",
       "\n",
       "```python\n",
       "#| export\n",
       "def fastsrcs():\n",
       "    \"to list all commented src files\"\n",
       "    folder ='/Users/Natsume/Documents/fastdebug/learnings/'\n",
       "    for f in os.listdir(folder):\n",
       "        if f.endswith(\".py\"):\n",
       "            # Prints only text file present in My Folder\n",
       "            print(f)\n",
       "```\n",
       "\n",
       "```python\n",
       "fastsrcs()\n",
       "```\n",
       "\n",
       "## getrootport\n",
       "\n",
       "```python\n",
       "\n",
       "```\n",
       "\n",
       "```python\n",
       "#| exporti\n",
       "def getrootport():\n",
       "    \"get the local port and notebook dir\"\n",
       "    from notebook import notebookapp\n",
       "    root_server = \"\"\n",
       "    root_dir = \"\"\n",
       "    for note in notebookapp.list_running_servers():\n",
       "        if \"fastdebug\" in note['notebook_dir']:\n",
       "            root_server = str(note['url']) + \"tree/\"\n",
       "            root_dir = note['notebook_dir']\n",
       "    return (root_server, root_dir)\n",
       "```\n",
       "\n",
       "```python\n",
       "from notebook import notebookapp\n",
       "for note in notebookapp.list_running_servers():\n",
       "    print(note)\n",
       "```\n",
       "\n",
       "```python\n",
       "getrootport()\n",
       "```\n",
       "\n",
       "## jn_link\n",
       "\n",
       "```python\n",
       "#| exporti\n",
       "def jn_link(name, file_path, where=\"locally\"):\n",
       "    \"Get a link to the notebook at `path` on Jupyter Notebook\"\n",
       "    from IPython.display import Markdown\n",
       "    display(Markdown(f'[Open `{name}` in Jupyter Notebook {where}]({file_path})'))                \n",
       "```\n",
       "\n",
       "```python\n",
       "jn_link(\"utils\", \"http://localhost:8888/notebooks/nbs/lib/utils.ipynb\")\n",
       "```\n",
       "\n",
       "## get_all_nbs\n",
       "\n",
       "```python\n",
       "def get_all_nbs(folder='/Users/Natsume/Documents/divefastai/Debuggable/jupytext/'):\n",
       "    \"return all nbs of subfolders of the `folder` into a list\"\n",
       "    all_nbs = []\n",
       "    for i in os.listdir(folder):\n",
       "        if \".\" not in i:\n",
       "            all_nbs = all_nbs + [folder + i + \"/\" + j for j in os.listdir(folder + i) if j.endswith('.md')]\n",
       "    return (all_nbs, folder)\n",
       "```\n",
       "\n",
       "### get all nbs path for both md and ipynb\n",
       "\n",
       "```python\n",
       "\n",
       "def get_all_nbs():\n",
       "    \"return paths for all nbs both in md and ipynb format into lists\"\n",
       "#     md_folder = '/Users/Natsume/Documents/divefastai/Debuggable/jupytext/'\n",
       "    md_folder = '/Users/Natsume/Documents/fastdebug/mds/'\n",
       "    ipy_folder = '/Users/Natsume/Documents/fastdebug/nbs/'\n",
       "    md_nbs = []\n",
       "    for i in os.listdir(md_folder):\n",
       "        if \".\" not in i:\n",
       "            md_nbs = md_nbs + [md_folder + i + \"/\" + j for j in os.listdir(md_folder + i) if j.endswith('.md')]\n",
       "            \n",
       "    ipy_nbs = []\n",
       "    for i in os.listdir(ipy_folder):\n",
       "        if \".\" not in i:\n",
       "            ipy_nbs = ipy_nbs + [ipy_folder + i + \"/\" + j for j in os.listdir(ipy_folder + i) if j.endswith('.ipynb')]\n",
       "            \n",
       "    return (md_nbs, md_folder, ipy_nbs, ipy_folder)\n",
       "```\n",
       "\n",
       "```python\n",
       "\n",
       "```\n",
       "\n",
       "```python\n",
       "\n",
       "def get_all_nbs():\n",
       "    \"return paths for all nbs both in md and ipynb format into lists\"\n",
       "#     md_folder = '/Users/Natsume/Documents/divefastai/Debuggable/jupytext/'\n",
       "    md_folder = '/Users/Natsume/Documents/fastdebug/mds/'\n",
       "    md_output_folder = '/Users/Natsume/Documents/fastdebug/mds_output/'    \n",
       "    ipy_folder = '/Users/Natsume/Documents/fastdebug/nbs/'\n",
       "    md_nbs = []\n",
       "    for i in os.listdir(md_folder):\n",
       "        if \".\" not in i:\n",
       "            md_nbs = md_nbs + [md_folder + i + \"/\" + j for j in os.listdir(md_folder + i) if j.endswith('.md')]\n",
       "\n",
       "    md_output_nbs = [md_output_folder + i for i in os.listdir(md_output_folder) if \".md\" in i]        \n",
       "            \n",
       "    ipy_nbs = []\n",
       "    for i in os.listdir(ipy_folder):\n",
       "        if \".\" not in i:\n",
       "            ipy_nbs = ipy_nbs + [ipy_folder + i + \"/\" + j for j in os.listdir(ipy_folder + i) if j.endswith('.ipynb')]\n",
       "            \n",
       "    return (md_nbs, md_folder, ipy_nbs, ipy_folder, md_output_nbs, md_output_folder)\n",
       "```\n",
       "\n",
       "### add index.ipynb\n",
       "\n",
       "```python\n",
       "#| export\n",
       "def get_all_nbs():\n",
       "    \"return paths for all nbs both in md and ipynb format into lists\"\n",
       "#     md_folder = '/Users/Natsume/Documents/divefastai/Debuggable/jupytext/'\n",
       "    md_folder = '/Users/Natsume/Documents/fastdebug/mds/'\n",
       "    md_output_folder = '/Users/Natsume/Documents/fastdebug/mds_output/'    \n",
       "    ipy_folder = '/Users/Natsume/Documents/fastdebug/nbs/'\n",
       "    md_nbs = []\n",
       "    for i in os.listdir(md_folder):\n",
       "        if \".\" not in i:\n",
       "            md_nbs = md_nbs + [md_folder + i + \"/\" + j for j in os.listdir(md_folder + i) if j.endswith('.md')]\n",
       "\n",
       "    md_output_nbs = [md_output_folder + i for i in os.listdir(md_output_folder) if \".md\" in i]        \n",
       "            \n",
       "    ipy_nbs = []\n",
       "    for i in os.listdir(ipy_folder):\n",
       "        if \".ipynb\" in i: \n",
       "            ipy_nbs.append(ipy_folder + i)\n",
       "        elif \".\" not in i:\n",
       "            ipy_nbs = ipy_nbs + [ipy_folder + i + \"/\" + j for j in os.listdir(ipy_folder + i) if j.endswith('.ipynb')]\n",
       "\n",
       "            \n",
       "    return (md_nbs, md_folder, ipy_nbs, ipy_folder, md_output_nbs, md_output_folder)\n",
       "```\n",
       "\n",
       "```python\n",
       "\n",
       "```\n",
       "\n",
       "```python\n",
       "nbs_md, fdmd, nbs_ipy, fdipy, md_out, md_out_fd = get_all_nbs()\n",
       "for i in [nbs_md, fdmd, nbs_ipy, fdipy, md_out, md_out_fd]:\n",
       "    pprint(i)\n",
       "    print()\n",
       "```\n",
       "\n",
       "## openNB\n",
       "\n",
       "```python\n",
       "\n",
       "def openNB(name, folder='nbs/demos/', db=False):\n",
       "    \"Get a link to the notebook at by name locally\"\n",
       "#     root = \"/Users/Natsume/Documents/fastdebug/\"\n",
       "#     root_server = \"http://localhost:8888/tree/\"\n",
       "    root = getrootport()[1] + \"/\"\n",
       "    root_server = getrootport()[0]\n",
       "    path = root + folder\n",
       "    path_server = root_server + folder\n",
       "    for f in os.listdir(path):  \n",
       "        if f.endswith(\".ipynb\"):\n",
       "            if name in f: \n",
       "                file_name = path_server + f\n",
       "                if db: print(f'file_name: {file_name}')\n",
       "                jn_link(name, file_name)\n",
       "```\n",
       "\n",
       "```python\n",
       "\n",
       "def openNB(name, folder='nbs/demos/', db=False):\n",
       "    \"Get a link to the notebook at by name locally\"\n",
       "#     root = \"/Users/Natsume/Documents/fastdebug/\"\n",
       "#     root_server = \"http://localhost:8888/tree/\"\n",
       "    root = getrootport()[1] + \"/\"\n",
       "    root_server = getrootport()[0]\n",
       "    path = root + folder\n",
       "    path_server = root_server + folder\n",
       "    for f in os.listdir(path):  \n",
       "        if f.endswith(\".ipynb\"):\n",
       "            name = name.split('.md')[0]\n",
       "            if db: print(f, name)\n",
       "            if name in f: \n",
       "                file_name = path_server + f\n",
       "                jn_link(name, file_name)\n",
       "```\n",
       "\n",
       "```python\n",
       "\n",
       "```\n",
       "\n",
       "```python\n",
       "#| export\n",
       "def openNB(name, db=False):\n",
       "    \"Get a link to the notebook at by searching keyword or notebook name\"\n",
       "    _, _, ipynbs, _, _, _= get_all_nbs()\n",
       "    name = name.split(\".md\")[0]\n",
       "    root = getrootport()[1]\n",
       "    nb_path = \"\"\n",
       "    for f in ipynbs:\n",
       "        if name in f:\n",
       "            nb_path = f\n",
       "            name = f.split(\"/\")[-1].split(\".\")[0]\n",
       "            if db: print(f'nb_path:{nb_path}, name: {name}')\n",
       "    root_server = getrootport()[0]\n",
       "    folder_mid = nb_path.split(root)[1].split(name)[0]\n",
       "    if db: print(f'root: {root}, root_server: {root_server}, name: {name}, folder_mid: {folder_mid}')\n",
       "    path = root + folder_mid\n",
       "    path_server = root_server[:-1] + folder_mid\n",
       "    if db: print(f'path: {path}, path_server: {path_server}')\n",
       "    for f in os.listdir(path):  \n",
       "        if f.endswith(\".ipynb\"):\n",
       "            if name in f: \n",
       "                file_name = path_server + f\n",
       "                jn_link(name, file_name)\n",
       "```\n",
       "\n",
       "```python\n",
       "\n",
       "```\n",
       "\n",
       "```python\n",
       "openNB(\"FixSigMeta\", db=True)\n",
       "```\n",
       "\n",
       "## openNBKaggle\n",
       "\n",
       "```python\n",
       "\"is_it_me\".split(\"_\")\n",
       "```\n",
       "\n",
       "```python\n",
       "#| export\n",
       "kagglenbs = [\n",
       "    \"https://www.kaggle.com/code/jhoward/how-does-a-neural-net-really-work\",\n",
       "    \"https://www.kaggle.com/code/jhoward/is-it-a-bird-creating-a-model-from-your-own-data\",\n",
       "    \"https://www.kaggle.com/code/jhoward/why-you-should-use-a-framework\",\n",
       "    \"https://www.kaggle.com/code/jhoward/using-nbdev-export-in-a-kaggle-notebook\",\n",
       "    \"https://www.kaggle.com/code/jhoward/the-best-vision-models-for-fine-tuning\",\n",
       "    \"https://www.kaggle.com/code/jhoward/collaborative-filtering-deep-dive\",\n",
       "    \"https://www.kaggle.com/code/jhoward/multi-target-road-to-the-top-part-4\",\n",
       "    \"https://www.kaggle.com/code/jhoward/scaling-up-road-to-the-top-part-3\",\n",
       "    \"https://www.kaggle.com/code/jhoward/small-models-road-to-the-top-part-2\",\n",
       "    \"https://www.kaggle.com/code/jhoward/first-steps-road-to-the-top-part-1\",\n",
       "    \"https://www.kaggle.com/code/jhoward/which-image-models-are-best\",\n",
       "    \"https://www.kaggle.com/code/jhoward/linear-model-and-neural-net-from-scratch\",\n",
       "    \"https://www.kaggle.com/code/jhoward/iterate-like-a-grandmaster\",\n",
       "    \"https://www.kaggle.com/code/jhoward/how-random-forests-really-work\",\n",
       "    \"https://www.kaggle.com/code/jhoward/getting-started-with-nlp-for-absolute-beginners\",\n",
       "    \"https://www.kaggle.com/code/jhoward/resize-images\",\n",
       "    \"https://www.kaggle.com/code/jhoward/saving-a-basic-fastai-model\",\n",
       "    \"https://www.kaggle.com/code/jhoward/practical-deep-learning-for-coders-chapter-1\",\n",
       "    \"https://www.kaggle.com/code/jhoward/from-prototyping-to-submission-fastai\",\n",
       "    \"https://www.kaggle.com/code/jhoward/cleaning-the-data-for-rapid-prototyping-fastai\",\n",
       "    \"https://www.kaggle.com/code/jhoward/don-t-see-like-a-radiologist-fastai\",\n",
       "    \"https://www.kaggle.com/code/jhoward/some-dicom-gotchas-to-be-aware-of-fastai\",\n",
       "    \"https://www.kaggle.com/code/jhoward/creating-a-metadata-dataframe-fastai\",\n",
       "    \"https://www.kaggle.com/code/jhoward/fastai-v2-pipeline-tutorial\",\n",
       "    \"https://www.kaggle.com/code/jhoward/minimal-lstm-nb-svm-baseline-ensemble\",\n",
       "    \"https://www.kaggle.com/code/jhoward/nb-svm-strong-linear-baseline\",\n",
       "    \"https://www.kaggle.com/code/jhoward/improved-lstm-baseline-glove-dropout\"\n",
       "]\n",
       "```\n",
       "\n",
       "```python\n",
       "len(kagglenbs)\n",
       "```\n",
       "\n",
       "```python\n",
       "#| export\n",
       "def openNBKaggle(filename_full, db=False):\n",
       "    if 'fastai' in filename_full:\n",
       "        # split by 'fastai' and take the later\n",
       "        filename = filename_full\n",
       "        filename = filename.split(\"fastai_\")[1]\n",
       "        # split by '.ipynb'\n",
       "        filename = filename.split(\".md\")[0]\n",
       "        # split by '_'\n",
       "        nameparts = filename.split(\"_\")\n",
       "        if db: print(f'filename: {filename}')\n",
       "        for f in kagglenbs: \n",
       "            truelst = [p.lower() in f.lower() for p in nameparts]\n",
       "            pct = sum(truelst)/len(truelst)\n",
       "            if pct >= 0.9:\n",
       "                if db: print(f'pct is {pct}')\n",
       "                jn_link(filename_full.split(\".md\")[0], f, where=\"on Kaggle\") \n",
       "```\n",
       "\n",
       "```python\n",
       "# get_all_nbs()\n",
       "openNBKaggle(\"0001_fastai_is_it_a_bird.md\", db=True)\n",
       "```\n",
       "\n",
       "## highlight\n",
       "\n",
       "\n",
       "<mark style=\"background-color: #FFFF00\">text with highlighted background</mark>  \n",
       "\n",
       "```python\n",
       "\n",
       "def highlight(question:str, line:str, db=False):\n",
       "    \"highlight a string with yellow background\"\n",
       "    questlst = question.split(' ')\n",
       "    questlst_hl = [' <mark style=\"background-color: #FFFF00\">' + q + '</mark> ' for q in questlst]\n",
       "    for q, q_hl in zip(questlst, questlst_hl):\n",
       "        if \" \" + q + \" \" in line.lower() or \"[\" + q + \"]\" in line.lower() and not '<mark style=\"background-color: #FFFF00\">' + q in line.lower():\n",
       "            line = line.lower().replace(\" \" + q + \" \", q_hl)\n",
       "            \n",
       "    if db: print(f'line: {line}')\n",
       "    return line\n",
       "```\n",
       "\n",
       "```python\n",
       "\n",
       "def highlight(question:str, line:str, db=False):\n",
       "    \"highlight a string with yellow background\"\n",
       "    questlst = question.split(' ')\n",
       "    questlst_hl = [' <mark style=\"background-color: #FFFF00\">' + q + '</mark> ' for q in questlst]\n",
       "    for q, q_hl in zip(questlst, questlst_hl):\n",
       "        if \" \" + q in line.lower(): # don't do anything to [q] or <>q<>. Using regex can be more accurate here\n",
       "            line = line.lower().replace(q, q_hl)\n",
       "            \n",
       "    if db: print(f'line: {line}')\n",
       "    return line\n",
       "```\n",
       "\n",
       "```python\n",
       "\n",
       "def highlight(question:str, line:str, db=False):\n",
       "    \"highlight a string with yellow background\"\n",
       "    questlst = question.split(' ')\n",
       "    questlst_hl = [' <mark style=\"background-color: #FFFF00\">' + q.lower() + '</mark> ' for q in questlst]\n",
       "    for q, q_hl in zip(questlst, questlst_hl):\n",
       "        if \" \" + q.lower() in line.lower(): # don't do anything to [q] or <>q<>. Using regex can be more accurate here\n",
       "            line = line.lower().replace(q.lower(), q_hl)\n",
       "            \n",
       "    if db: print(f'line: {line}')\n",
       "    return line\n",
       "```\n",
       "\n",
       "```python\n",
       "\n",
       "```\n",
       "\n",
       "```python\n",
       "#| exporti\n",
       "def highlight(question:str, line:str, db=False):\n",
       "    \"highlight a string with yellow background\"\n",
       "    questlst = question.split(' ')\n",
       "    questlst_hl = [' <mark style=\"background-color: #FFFF00\">' + q.lower() + '</mark> ' for q in questlst]\n",
       "    for q, q_hl in zip(questlst, questlst_hl):\n",
       "        if \" \" + q.lower() in line.lower(): # don't do anything to [q] or <>q<>. Using regex can be more accurate here\n",
       "            line = line.lower().replace(\" \"+ q.lower(), q_hl)\n",
       "            \n",
       "    if db: print(f'line: {line}')\n",
       "    return line\n",
       "```\n",
       "\n",
       "```python\n",
       "str(0.8).split(\" \")\n",
       "print(highlight(\"0.8 a\", \"this is a 0.8 of face\"))\n",
       "\n",
       "```\n",
       "\n",
       "```python\n",
       "\n",
       "```\n",
       "\n",
       "## display_md\n",
       "\n",
       "```python\n",
       "#| exporti\n",
       "def display_md(text):\n",
       "    \"Get a link to the notebook at `path` on Jupyter Notebook\"\n",
       "    from IPython.display import Markdown\n",
       "    display(Markdown(text))                \n",
       "```\n",
       "\n",
       "```python\n",
       "display_md(\"#### heading level 4\")\n",
       "```\n",
       "\n",
       "```python\n",
       "\n",
       "```\n",
       "\n",
       "## display_block\n",
       "\n",
       "```python\n",
       "\n",
       "def display_block(line, file):\n",
       "    \"`line` is a section title, find all subsequent lines which belongs to the same section and display them together\"\n",
       "    from IPython.display import Markdown\n",
       "    with open(file, 'r') as file:\n",
       "        entire = file.read()\n",
       "        belowline = entire.split(line)[1]\n",
       "        head_no = line.count(\"#\")\n",
       "        lochead2 = belowline.find(\"##\")\n",
       "        lochead3 = belowline.find(\"###\")\n",
       "        lochead4 = belowline.find(\"####\")\n",
       "        loclst = [lochead2,lochead3, lochead4]\n",
       "        loclst = [i for i in loclst if i != -1]\n",
       "        num_hash = 0\n",
       "        if bool(loclst):\n",
       "            if lochead2 == min(loclst):\n",
       "                num_hash = 2\n",
       "            elif lochead3 == min(loclst):\n",
       "                num_hash = 3\n",
       "            elif lochead4 == min(loclst):\n",
       "                num_hash = 4\n",
       "        if num_hash == 0:\n",
       "            section_content = belowline\n",
       "        else:\n",
       "            section_content = belowline.split(\"#\"*num_hash)[0]\n",
       "        entire_section = line + \"\\n\" + section_content\n",
       "        display(Markdown(entire_section))\n",
       "```\n",
       "\n",
       "```python\n",
       "\n",
       "```\n",
       "\n",
       "```python\n",
       "\n",
       "def display_block(line, file, keywords=\"\"):\n",
       "    \"`line` is a section title, find all subsequent lines which belongs to the same section and display them together\"\n",
       "    from IPython.display import Markdown\n",
       "    with open(file, 'r') as file:\n",
       "        entire = file.read()\n",
       "        belowline = entire.split(line)[1]\n",
       "        head_no = line.count(\"#\")\n",
       "        lochead2 = belowline.find(\"##\")\n",
       "        lochead3 = belowline.find(\"###\")\n",
       "        lochead4 = belowline.find(\"####\")\n",
       "        loclst = [lochead2,lochead3, lochead4]\n",
       "        loclst = [i for i in loclst if i != -1]\n",
       "        num_hash = 0\n",
       "        if bool(loclst):\n",
       "            if lochead2 == min(loclst):\n",
       "                num_hash = 2\n",
       "            elif lochead3 == min(loclst):\n",
       "                num_hash = 3\n",
       "            elif lochead4 == min(loclst):\n",
       "                num_hash = 4\n",
       "        if num_hash == 0:\n",
       "            section_content = belowline\n",
       "        else:\n",
       "            section_content = belowline.split(\"#\"*num_hash)[0]\n",
       "#         entire_content = line + \"\\n\" + section_content\n",
       "#         display(Markdown(entire_content))        \n",
       "        title_hl = highlight(keywords, line)\n",
       "        display(Markdown(title_hl))\n",
       "        display(Markdown(section_content))\n",
       "\n",
       "```\n",
       "\n",
       "### handle both file path and file content at the same time\n",
       "\n",
       "```python\n",
       "\n",
       "def display_block(line, file, output=False, keywords=\"\"):\n",
       "    \"`line` is a section title, find all subsequent lines which belongs to the same section and display them together\"\n",
       "    from IPython.display import Markdown\n",
       "    entire = \"\"\n",
       "    if file.endswith(\".md\") or file.endswith(\".ipynb\"):\n",
       "        with open(file, 'r') as file:\n",
       "            entire = file.read()\n",
       "    else:\n",
       "        entire = file\n",
       "        \n",
       "    belowline = entire.split(line)[1]\n",
       "    head_no = line.count(\"#\")\n",
       "    lochead2 = belowline.find(\"##\")\n",
       "    lochead3 = belowline.find(\"###\")\n",
       "    lochead4 = belowline.find(\"####\")\n",
       "    loclst = [lochead2,lochead3, lochead4]\n",
       "    loclst = [i for i in loclst if i != -1]\n",
       "    num_hash = 0\n",
       "    if bool(loclst):\n",
       "        if lochead2 == min(loclst):\n",
       "            num_hash = 2\n",
       "        elif lochead3 == min(loclst):\n",
       "            num_hash = 3\n",
       "        elif lochead4 == min(loclst):\n",
       "            num_hash = 4\n",
       "    if num_hash == 0:\n",
       "        section_content = belowline\n",
       "    else:\n",
       "        section_content = belowline.split(\"#\"*num_hash)[0]\n",
       "#         entire_content = line + \"\\n\" + section_content\n",
       "#         display(Markdown(entire_content))        \n",
       "    title_hl = highlight(keywords, line)\n",
       "    display(Markdown(title_hl))\n",
       "    if not output: display(Markdown(section_content))\n",
       "    else: print(section_content)\n",
       "\n",
       "```\n",
       "\n",
       "```python\n",
       "\n",
       "```\n",
       "\n",
       "```python\n",
       "\"### this is head2\\n### and this is head3\\n#### this is head4\\n## this is head2\".find(\"\\n## \")\n",
       "\n",
       "```\n",
       "\n",
       "```python\n",
       "#| exporti\n",
       "def display_block(line, file, output=False, keywords=\"\"):\n",
       "    \"`line` is a section title, find all subsequent lines which belongs to the same section and display them together\"\n",
       "    from IPython.display import Markdown\n",
       "    entire = \"\"\n",
       "    if file.endswith(\".md\"): #or file.endswith(\".ipynb\"):\n",
       "        with open(file, 'r') as file:\n",
       "            entire = file.read()\n",
       "            \n",
       "    belowline = entire.split(line)[1]\n",
       "    head_no = line.count(\"#\")\n",
       "    full_section = \"\" + f\"This section contains only the current heading {head_no} and its subheadings\"\n",
       "    lst_belowline = belowline.split(\"\\n\")\n",
       "    for idx, l in zip(range(len(lst_belowline)), lst_belowline):\n",
       "        if l.strip().startswith(\"#\"*(head_no-1)+\" \") and not bool(lst_belowline[idx-1].strip()) \\\n",
       "        and not bool(lst_belowline[idx+1].strip()):\n",
       "            full_section = full_section + f\"start of heading {head_no-1}\" + \"\\n\" + l\n",
       "            break\n",
       "        elif l.strip().startswith(\"#\"*head_no + \" \"):\n",
       "            full_section = full_section + f\"start of another heading {head_no}\" + \"\\n\" + l\n",
       "            break\n",
       "        else:  full_section = full_section + l + \"\\n\"\n",
       "    \n",
       "    title_hl = highlight(keywords, line)\n",
       "    display(Markdown(title_hl))\n",
       "    if not output: display(Markdown(full_section))\n",
       "    else: print(full_section)\n",
       "\n",
       "```\n",
       "\n",
       "```python\n",
       "display_block(\"\n"
      ],
      "text/plain": [
       "<IPython.core.display.Markdown object>"
      ]
     },
     "metadata": {},
     "output_type": "display_data"
    }
   ],
   "source": [
    "display_block(\"whichversion of a library\", \"/Users/Natsume/Documents/divefastai/Debuggable/jupytext/lib/utils.md\", \\\n",
    "              keywords=\"whichversion library\")"
   ]
  },
  {
   "cell_type": "code",
   "execution_count": null,
   "id": "5ae20d3d",
   "metadata": {},
   "outputs": [],
   "source": []
  },
  {
   "cell_type": "code",
   "execution_count": null,
   "id": "5521a1da",
   "metadata": {},
   "outputs": [],
   "source": []
  },
  {
   "cell_type": "markdown",
   "id": "7693d2dc",
   "metadata": {},
   "source": [
    "## fastnbs"
   ]
  },
  {
   "cell_type": "code",
   "execution_count": null,
   "id": "126925f1",
   "metadata": {},
   "outputs": [],
   "source": [
    "\n",
    "def fastnbs(question:str, accu:float=0.8, n=10, nb=False, db=False):\n",
    "    \"using keywords to search learning points from my documented fastai notebooks\"\n",
    "    questlst = question.split(' ')\n",
    "    folder ='/Users/Natsume/Documents/divefastai/Debuggable/jupytext/2022part1/'\n",
    "    for f in os.listdir(folder):  \n",
    "        if f.endswith(\".md\"):\n",
    "            file_name =folder + f\n",
    "            with open(file_name, 'r') as file:\n",
    "                for count, l in enumerate(file):\n",
    "#                 for l in file:\n",
    "                    truelst = [q in l for q in questlst]\n",
    "                    pct = sum(truelst)/len(truelst)\n",
    "\n",
    "                    if pct >= accu:\n",
    "                        head1 = f\"keyword match is {pct}, Found a line: in {f}\"\n",
    "                        head1 = highlight(str(pct), head1)\n",
    "                        head1 = highlight(f, head1)\n",
    "                        display_md(head1)\n",
    "                        l = highlight(question, l, db=db)                        \n",
    "                        display_md(l)\n",
    "                        print()\n",
    "                        \n",
    "                        head2 = f\"Show {n} lines after in {f}:\"\n",
    "                        head2 = highlight(f, head2)\n",
    "                        head2 = highlight(str(n), head2)\n",
    "                        display_md(head2)                        \n",
    "                        idx = count\n",
    "                        with open(file_name, 'r') as file:\n",
    "                            for count, l in enumerate(file):\n",
    "                                if count >= idx and count <= idx + n:\n",
    "                                    if count == idx: display_md(highlight(question, l))\n",
    "                                    else: display_md(l)                        \n",
    "                        if nb:\n",
    "                            openNB(f, \"nbs/2022part1/\")"
   ]
  },
  {
   "cell_type": "code",
   "execution_count": null,
   "id": "b0b4485e",
   "metadata": {},
   "outputs": [],
   "source": [
    "\n",
    "def fastnbs(question:str, output=False, accu:float=0.8, nb=True, db=False):\n",
    "    \"check with fastlistnbs() to find interesting things to search \\\n",
    "fastnbs() can use keywords to search learning points (a section title and a section itself) from my documented fastai notebooks\"\n",
    "    questlst = question.split(' ')\n",
    "    mds_no_output, folder, ipynbs, ipyfolder, mds_output, output_fd = get_all_nbs()\n",
    "    if not output: mds = mds_no_output\n",
    "    else: mds = mds_output\n",
    "        \n",
    "    for file_fullname in mds:\n",
    "        file_name = file_fullname.split('/')[-1]\n",
    "        with open(file_fullname, 'r') as file:\n",
    "            for count, l in enumerate(file):\n",
    "                truelst = [q.lower() in l.lower() for q in questlst]\n",
    "                pct = sum(truelst)/len(truelst)\n",
    "                if pct >= accu and (l.startswith(\"##\") or l.startswith(\"###\") or l.startswith(\"####\")):\n",
    "                    if db: \n",
    "                        head1 = f\"keyword match is {pct}, Found a section: in {file_name}\"\n",
    "                        head1 = highlight(str(pct), head1)\n",
    "                        head1 = highlight(file_name, head1)\n",
    "                        display_md(head1)\n",
    "                        highlighted_line = highlight(question, l, db=db)                        \n",
    "                        print()\n",
    "                    display_block(l, file_fullname, output=output, keywords=question)\n",
    "                    if nb: \n",
    "                        openNB(file_name, db=db)\n",
    "                        openNBKaggle(file_name, db=db)"
   ]
  },
  {
   "cell_type": "code",
   "execution_count": null,
   "id": "78357051",
   "metadata": {},
   "outputs": [
    {
     "data": {
      "text/plain": [
       "['/Users/Natsume/Documents/fastdebug/mds/lib/src_fastai_000_torch_core.md',\n",
       " '/Users/Natsume/Documents/fastdebug/mds/lib/src_fastai_001a_losses.md',\n",
       " '/Users/Natsume/Documents/fastdebug/mds/lib/src_fastai_009_vision.augment.md',\n",
       " '/Users/Natsume/Documents/fastdebug/mds/lib/src_fastai_001_layers.md',\n",
       " '/Users/Natsume/Documents/fastdebug/mds/fastai_notebooks/0007_fastai_how_random_forests_really_work.md',\n",
       " '/Users/Natsume/Documents/fastdebug/mds/fastai_notebooks/0004_fastai_how_neuralnet_work.md',\n",
       " '/Users/Natsume/Documents/fastdebug/mds/fastai_notebooks/0001_fastai_is_it_a_bird.md',\n",
       " '/Users/Natsume/Documents/fastdebug/mds/fastai_notebooks/0006_fastai_why_should_use_framework.md',\n",
       " '/Users/Natsume/Documents/fastdebug/mds/fastai_notebooks/0011_fastai_multi_target_road_to_top_part_4.md',\n",
       " '/Users/Natsume/Documents/fastdebug/mds/fastai_notebooks/0010_fastai_scaling_up_road_to_top_part_3.md',\n",
       " '/Users/Natsume/Documents/fastdebug/mds/fastai_notebooks/0008_fastai_first_steps_road_to_top_part_1.md',\n",
       " '/Users/Natsume/Documents/fastdebug/mds/fastai_notebooks/0009_fastai_small_models_road_to_the_top_part_2.md',\n",
       " '/Users/Natsume/Documents/fastdebug/mds/fastai_notebooks/0002_fastai_saving_a_basic_fastai_model.md',\n",
       " '/Users/Natsume/Documents/fastdebug/mds/fastai_notebooks/0005_fastai_linear_neuralnet_scratch.md',\n",
       " '/Users/Natsume/Documents/fastdebug/mds/fastai_notebooks/0012_fastai_using_nbdev_export_in_kaggle_notebook.md',\n",
       " '/Users/Natsume/Documents/fastdebug/mds/fastai_notebooks/0003_fastai_which_image_model_best.md']"
      ]
     },
     "execution_count": null,
     "metadata": {},
     "output_type": "execute_result"
    }
   ],
   "source": [
    "mds_no_output, folder, ipynbs, ipyfolder, mds_output, output_fd = get_all_nbs()\n",
    "[file_path for file_path in mds_no_output if \"_fastai_\" in file_path and \"_fastai_pt2_\" not in file_path]"
   ]
  },
  {
   "cell_type": "code",
   "execution_count": null,
   "id": "bee8d74a",
   "metadata": {},
   "outputs": [],
   "source": [
    "\n",
    "def fastnbs(question:str, # query in string\n",
    "            filter_folder=\"all\", # options: all, fastai, part2\n",
    "            output=False, # True for nice print of cell output\n",
    "            accu:float=0.8, \n",
    "            nb=True, \n",
    "            db=False):\n",
    "    \"check with fastlistnbs() to find interesting things to search \\\n",
    "fastnbs() can use keywords to search learning points (a section title and a section itself) from my documented fastai notebooks\"\n",
    "    questlst = question.split(' ')\n",
    "    mds_no_output, folder, ipynbs, ipyfolder, mds_output, output_fd = get_all_nbs()\n",
    "    if not output: mds = mds_no_output\n",
    "    else: mds = mds_output\n",
    "        \n",
    "    for file_path in mds:\n",
    "        if filter_folder == \"fastai\" and \"_fastai_\" in file_path and not \"_fastai_pt2_\" in file_path:\n",
    "            file_fullname = file_path\n",
    "        elif filter_folder == \"part2\" and \"_fastai_pt2_\" in file_path:\n",
    "            file_fullname = file_path\n",
    "        elif filter_folder == \"all\": \n",
    "            file_fullname = file_path\n",
    "        else: continue\n",
    "\n",
    "        file_name = file_fullname.split('/')[-1]\n",
    "        with open(file_fullname, 'r') as file:\n",
    "            for count, l in enumerate(file):\n",
    "                truelst = [q.lower() in l.lower() for q in questlst]\n",
    "                pct = sum(truelst)/len(truelst)\n",
    "                if pct >= accu and (l.startswith(\"##\") or l.startswith(\"###\") or l.startswith(\"####\")):\n",
    "                    if db: \n",
    "                        head1 = f\"keyword match is {pct}, Found a section: in {file_name}\"\n",
    "                        head1 = highlight(str(pct), head1)\n",
    "                        head1 = highlight(file_name, head1)\n",
    "                        display_md(head1)\n",
    "                        highlighted_line = highlight(question, l, db=db)                        \n",
    "#                         print()\n",
    "                    display_block(l, file_fullname, output=output, keywords=question)\n",
    "                    if nb: \n",
    "                        openNB(file_name, db=db)\n",
    "                        openNBKaggle(file_name, db=db)"
   ]
  },
  {
   "cell_type": "markdown",
   "id": "77b48e84",
   "metadata": {},
   "source": [
    "### optimize the search a little to speed up potentially"
   ]
  },
  {
   "cell_type": "code",
   "execution_count": null,
   "id": "14920825",
   "metadata": {},
   "outputs": [],
   "source": [
    "#| export\n",
    "# @snoop\n",
    "def fastnbs(question:str, # query in string\n",
    "            filter_folder=\"all\", # options: all, fastai, part2, src\n",
    "            strict=False, # loose search keyword, not as the first query word\n",
    "            output=False, # True for nice print of cell output\n",
    "            accu:float=0.8, \n",
    "            nb=True, \n",
    "            db=False):\n",
    "    \"check with fastlistnbs() to skim through all the learning points as section titles; \\\n",
    "then use fastnotes() to find interesting lines which can be notes or codes, and finally \\\n",
    "use fastnbs() display the entire learning points section including notes and codes.\"\n",
    "    questlst = question.split(' ')\n",
    "    mds_no_output, folder, ipynbs, ipyfolder, mds_output, output_fd = get_all_nbs()\n",
    "    if not output: mds = mds_no_output\n",
    "    else: mds = mds_output\n",
    "        \n",
    "    for file_path in mds:\n",
    "        if filter_folder == \"fastai\" and \"_fastai_\" in file_path and not \"_fastai_pt2_\" in file_path:\n",
    "            file_fullname = file_path\n",
    "        elif filter_folder == \"part2\" and \"_fastai_pt2_\" in file_path:\n",
    "            file_fullname = file_path\n",
    "        elif filter_folder == \"src\" and \"fast\" in file_path:\n",
    "            file_fullname = file_path            \n",
    "        elif filter_folder == \"all\": \n",
    "            file_fullname = file_path\n",
    "        else: continue\n",
    "\n",
    "        file_name = file_fullname.split('/')[-1]\n",
    "        with open(file_fullname, 'r') as file:\n",
    "            for count, l in enumerate(file):\n",
    "                if l.startswith(\"## \") or l.startswith(\"### \") or l.startswith(\"#### \"):\n",
    "                    truelst = [q.lower() in l.lower() for q in questlst]\n",
    "                    pct = sum(truelst)/len(truelst)\n",
    "                    ctn = l.split(\"# ```\")[1] if \"# ```\" in l else l.split(\"# \")[1] if \"# \" in l else l.split(\"# `\")\n",
    "                    if strict:\n",
    "                        if pct >= accu and ctn.startswith(questlst[0]): # make sure the heading start with the exact quest word\n",
    "                            if db: \n",
    "                                head1 = f\"keyword match is {pct}, Found a section: in {file_name}\"\n",
    "                                head1 = highlight(str(pct), head1)\n",
    "                                head1 = highlight(file_name, head1)\n",
    "                                display_md(head1)\n",
    "                                highlighted_line = highlight(question, l, db=db)                        \n",
    "        #                         print()\n",
    "                            display_block(l, file_fullname, output=output, keywords=question)\n",
    "                            if nb: # to link a notebook with specific heading\n",
    "                                if \"# ```\" in l: openNB(file_name, l.split(\"```\")[1].replace(\" \", \"-\"), db=db)\n",
    "                                else: openNB(file_name, l.split(\"# \")[1].replace(\" \", \"-\"), db=db)\n",
    "\n",
    "                                openNBKaggle(file_name, db=db)\n",
    "                    else: \n",
    "                        if pct >= accu: # make sure the heading start with the exact quest word\n",
    "                            if db: \n",
    "                                head1 = f\"keyword match is {pct}, Found a section: in {file_name}\"\n",
    "                                head1 = highlight(str(pct), head1)\n",
    "                                head1 = highlight(file_name, head1)\n",
    "                                display_md(head1)\n",
    "                                highlighted_line = highlight(question, l, db=db)                        \n",
    "        #                         print()\n",
    "                            display_block(l, file_fullname, output=output, keywords=question)\n",
    "                            if nb: # to link a notebook with specific heading\n",
    "                                if \"# ```\" in l: openNB(file_name, l.split(\"```\")[1].replace(\" \", \"-\"), db=db)\n",
    "                                else: openNB(file_name, l.split(\"# \")[1].replace(\" \", \"-\"), db=db)\n",
    "\n",
    "                                openNBKaggle(file_name, db=db)"
   ]
  },
  {
   "cell_type": "code",
   "execution_count": null,
   "id": "fd8f25a0",
   "metadata": {},
   "outputs": [
    {
     "data": {
      "text/plain": [
       "'thisisme'"
      ]
     },
     "execution_count": null,
     "metadata": {},
     "output_type": "execute_result"
    }
   ],
   "source": [
    "\"# this is me\".split(\"# \")[1].replace(\" \", \"-\")\n",
    "\"# thisisme\".split(\"# \")[1].replace(\" \", \"-\")"
   ]
  },
  {
   "cell_type": "code",
   "execution_count": null,
   "id": "95c7b555",
   "metadata": {},
   "outputs": [],
   "source": [
    "# fastnbs(\"Snoop them together in one go\", output=True)\n",
    "# fastnbs(\"how matrix multiplication\")\n",
    "# fastnbs(\"how matrix multiplication\", folder=\"fastai\")\n",
    "# fastnbs(\"show_image\", \"src\")\n",
    "# fastnbs(\"module\", \"src\")\n",
    "# fastnbs(\"module\", \"src\", False)\n",
    "# fastnbs(\"module\")\n",
    "# fastnbs(\"apply\")\n",
    "# fastnbs(\"get all nbs\")"
   ]
  },
  {
   "cell_type": "code",
   "execution_count": null,
   "id": "d27d4d7d",
   "metadata": {},
   "outputs": [
    {
     "data": {
      "text/plain": [
       "'show_image(b,-a,-c)'"
      ]
     },
     "execution_count": null,
     "metadata": {},
     "output_type": "execute_result"
    }
   ],
   "source": [
    "\"### ```show_image(b, a, c)```\".split(\"```\")[1].replace(\" \", \"-\")"
   ]
  },
  {
   "cell_type": "markdown",
   "id": "d9fce79b",
   "metadata": {},
   "source": [
    "## fastcodes"
   ]
  },
  {
   "cell_type": "code",
   "execution_count": null,
   "id": "5626e192",
   "metadata": {},
   "outputs": [],
   "source": [
    "#| export\n",
    "def fastcodes(question:str, accu:float=0.8, nb=False, db=False):\n",
    "    \"using keywords to search learning points from commented sources files\"\n",
    "    questlst = question.split(' ')\n",
    "    # loop through all pyfile in learnings folder\n",
    "    folder ='/Users/Natsume/Documents/fastdebug/learnings/'\n",
    "    for f in os.listdir(folder):  \n",
    "        if f.endswith(\".py\"):\n",
    "            name = f.split('.py')[0]\n",
    "            # open each pyfile and read each line\n",
    "            file_name =folder + f\n",
    "            with open(file_name, 'r') as file:\n",
    "                for count, l in enumerate(file):                \n",
    "                    # if search match >= 0.8, print the line and the pyfile\n",
    "                    truelst = [q.lower() in l.lower() for q in questlst]\n",
    "                    pct = sum(truelst)/len(truelst)\n",
    "                    if pct >= accu:\n",
    "                        head1 = f\"keyword match is {pct}, Found a line: in {f}\"\n",
    "                        head1 = highlight(str(pct), head1)\n",
    "                        head1 = highlight(f, head1)\n",
    "                        display_md(head1)\n",
    "                        print(l, end='')\n",
    "                        print()                        \n",
    "                        head2 = f\"The entire source code in {f}\"\n",
    "                        head2 = highlight(f, head2)\n",
    "                        display_md(head2)\n",
    "                        fastview(name)\n",
    "                        print()\n",
    "                        if nb:\n",
    "                            openNB(name)"
   ]
  },
  {
   "cell_type": "code",
   "execution_count": null,
   "id": "26fa42ef",
   "metadata": {},
   "outputs": [
    {
     "data": {
      "text/markdown": [
       "keyword match is <mark style=\"background-color: #ffff00\">1.0</mark> , found a line: in <mark style=\"background-color: #FFFF00\">fixsigmeta.py</mark> "
      ],
      "text/plain": [
       "<IPython.core.display.Markdown object>"
      ]
     },
     "metadata": {},
     "output_type": "display_data"
    },
    {
     "name": "stdout",
     "output_type": "stream",
     "text": [
      "        if res.__init__ is not object.__init__: res.__signature__ = _rm_self(inspect.signature(res.__init__)) # \u001b[37;1mhow to remove self from a signature\u001b[0m; \u001b[92;1mhow to check whether a class' __init__ is inherited from object or not;\u001b[0m;  (4)\n",
      "\n"
     ]
    },
    {
     "data": {
      "text/markdown": [
       "the entire source code in <mark style=\"background-color: #FFFF00\">fixsigmeta.py</mark> "
      ],
      "text/plain": [
       "<IPython.core.display.Markdown object>"
      ]
     },
     "metadata": {},
     "output_type": "display_data"
    },
    {
     "name": "stdout",
     "output_type": "stream",
     "text": [
      "\n",
      "class BaseMeta(FixSigMeta): \n",
      "    # using __new__ of  FixSigMeta instead of type\n",
      "    def __call__(cls, *args, **kwargs): pass\n",
      "\n",
      "class Foo_call_fix(metaclass=BaseMeta): # Base\n",
      "    def __init__(self, d, e, f): pass\n",
      "\n",
      "pprint(inspect._signature_from_callable(Foo_call_fix, sigcls=inspect.Signature))    \n",
      "\n",
      "class FixSigMeta(type):===================================================================(0)       \n",
      "    \"A metaclass that fixes the signature on classes that override `__new__`\"=============(1) # \u001b[37;1mAny class having FixSigMeta as metaclass will have its own __init__ func stored in its attr __signature__;FixSigMeta uses its __new__ to create a class instance\u001b[0m; \u001b[34;1mthen check whether its class instance has its own __init__;if so, remove self from the sig of __init__\u001b[0m; \u001b[37;1mthen assign this new sig to __signature__ for the class instance;\u001b[0m; \n",
      "    def __new__(cls, name, bases, dict):==================================================(2) # \u001b[36;1mhow does a metaclass create a class instance\u001b[0m; \u001b[93;1mwhat does super().__new__() do here;\u001b[0m; \n",
      "        res = super().__new__(cls, name, bases, dict)=====================================(3)       \n",
      "        if res.__init__ is not object.__init__: res.__signature__ = _rm_self(inspect.signature(res.__init__)) # \u001b[37;1mhow to remove self from a signature\u001b[0m; \u001b[92;1mhow to check whether a class' __init__ is inherited from object or not;\u001b[0m;  (4)\n",
      "        return res========================================================================(5)       \n",
      "                                                                                                                                                        (6)\n",
      "\n"
     ]
    },
    {
     "data": {
      "text/markdown": [
       "keyword match is <mark style=\"background-color: #ffff00\">1.0</mark> , found a line: in <mark style=\"background-color: #FFFF00\">_rm_self.py</mark> "
      ],
      "text/plain": [
       "<IPython.core.display.Markdown object>"
      ]
     },
     "metadata": {},
     "output_type": "display_data"
    },
    {
     "name": "stdout",
     "output_type": "stream",
     "text": [
      "    sigd.pop('self')======================================================================(2) # \u001b[34;1mhow to remove the self parameter from the dict of sig;\u001b[0m; \n",
      "\n"
     ]
    },
    {
     "data": {
      "text/markdown": [
       "the entire source code in <mark style=\"background-color: #FFFF00\">_rm_self.py</mark> "
      ],
      "text/plain": [
       "<IPython.core.display.Markdown object>"
      ]
     },
     "metadata": {},
     "output_type": "display_data"
    },
    {
     "name": "stdout",
     "output_type": "stream",
     "text": [
      "\n",
      "class Foo:\n",
      "    def __init__(self, a, b:int=1): pass\n",
      "pprint(inspect.signature(Foo.__init__))\n",
      "pprint(_rm_self(inspect.signature(Foo.__init__)))\n",
      "\n",
      "def _rm_self(sig):========================================================================(0) # \u001b[34;1mremove parameter self from a signature which has self;\u001b[0m; \n",
      "    sigd = dict(sig.parameters)===========================================================(1) # \u001b[93;1mhow to access parameters from a signature\u001b[0m; \u001b[91;1mhow is parameters stored in sig\u001b[0m; \u001b[93;1mhow to turn parameters into a dict;\u001b[0m; \n",
      "    sigd.pop('self')======================================================================(2) # \u001b[34;1mhow to remove the self parameter from the dict of sig;\u001b[0m; \n",
      "    return sig.replace(parameters=sigd.values())==========================================(3) # \u001b[36;1mhow to update a sig using a updated dict of sig's parameters\u001b[0m; \n",
      "                                                                                                                                                        (4)\n",
      "\n"
     ]
    }
   ],
   "source": [
    "fastcodes(\"how to remove self\")"
   ]
  },
  {
   "cell_type": "code",
   "execution_count": null,
   "id": "8da8e4dc",
   "metadata": {},
   "outputs": [],
   "source": []
  },
  {
   "cell_type": "markdown",
   "id": "cba4b432",
   "metadata": {},
   "source": [
    "## fastnotes"
   ]
  },
  {
   "cell_type": "code",
   "execution_count": null,
   "id": "9fe811de",
   "metadata": {},
   "outputs": [],
   "source": [
    "\n",
    "def fastnotes(question:str, accu:float=0.8, n=2, db=False):\n",
    "    \"display found notes with key words search\"\n",
    "    questlst = question.split(' ')\n",
    "    folder ='/Users/Natsume/Documents/divefastai/lectures/'\n",
    "    for f in os.listdir(folder):  \n",
    "        if f.endswith(\".md\"):\n",
    "            name = f.split('.md')[0]\n",
    "            file_name =folder + f\n",
    "            with open(file_name, 'r') as file:\n",
    "                for count, l in enumerate(file):\n",
    "                    truelst = [q in l.lower() for q in questlst]\n",
    "                    pct = sum(truelst)/len(truelst)\n",
    "                    if pct >= accu:\n",
    "                        print()\n",
    "                        head1 = f\"keyword match is {pct}, Found a line: in {f}\"\n",
    "                        head1 = highlight(str(pct), head1)\n",
    "                        head1 = highlight(f, head1)\n",
    "                        display_md(head1)\n",
    "                        l = highlight(question, l, db=db)\n",
    "                        display_md(l)\n",
    "                        print()                        \n",
    "                        print('{:=<157}'.format(f\"Show {n} lines above and after in {f}:\"))\n",
    "                        head2 = f\"Show {n} lines above and after in {f}:\"\n",
    "                        head2 = highlight(f, head2)\n",
    "                        head2 = highlight(str(n), head2)\n",
    "                        display_md(head2)                        \n",
    "                        idx = count\n",
    "                        with open(file_name, 'r') as file:\n",
    "                            for count, l in enumerate(file):\n",
    "                                if count >= idx - n and count <= idx + n:\n",
    "                                    if count == idx: display_md(highlight(question, l))\n",
    "                                    else: display_md(l)"
   ]
  },
  {
   "cell_type": "markdown",
   "id": "5c164760",
   "metadata": {},
   "source": [
    "### multiple folders"
   ]
  },
  {
   "cell_type": "code",
   "execution_count": null,
   "id": "6346ecbc",
   "metadata": {},
   "outputs": [
    {
     "data": {
      "text/plain": [
       "[1, 3, 5, 6]"
      ]
     },
     "execution_count": null,
     "metadata": {},
     "output_type": "execute_result"
    }
   ],
   "source": [
    "[1,3] + [5,6]"
   ]
  },
  {
   "cell_type": "code",
   "execution_count": null,
   "id": "0eca3c39",
   "metadata": {},
   "outputs": [],
   "source": [
    "\n",
    "def fastnotes(question:str, accu:float=0.8, n=2, folder=\"lec\", # folder: 'lec' or 'live' or 'all'\n",
    "              db=False):\n",
    "    \"using key words to search notes and display the found line and lines surround it\"\n",
    "    questlst = question.split(' ')\n",
    "    root = '/Users/Natsume/Documents/divefastai/'\n",
    "#     folder1 = '2022_part1/'\n",
    "#     folder2 = '2022_livecoding/'\n",
    "    folder1 = '2019_part2/'\n",
    "    folder2 = '2019_walkthrus'\n",
    "    lectures = [root + folder1 + f for f in os.listdir(root + folder1)]\n",
    "    livecodings = [root + folder2 + f for f in os.listdir(root + folder2)]\n",
    "    all_notes = lectures + livecodings\n",
    "    if folder == \"lec\": files = lectures\n",
    "    elif folder == \"live\": files = livecodings\n",
    "    else: files = all_notes\n",
    "    for f in files:\n",
    "#     for f in os.listdir(folder):  \n",
    "        if f.endswith(\".md\"):\n",
    "#             name = f.split('.md')[0]\n",
    "#             file_name =folder + f\n",
    "            with open(f, 'r') as file:\n",
    "                for count, l in enumerate(file):\n",
    "                    truelst = [q in l.lower() for q in questlst]\n",
    "                    pct = sum(truelst)/len(truelst)\n",
    "                    if pct >= accu:\n",
    "                        print()\n",
    "                        head1 = f\"keyword match is {pct}, Found a line: in {f.split(root)[1]}\"\n",
    "                        head1 = highlight(str(pct), head1)\n",
    "                        head1 = highlight(f.split(root)[1], head1)\n",
    "                        display_md(head1)\n",
    "#                         l = highlight(question, l, db=db)\n",
    "#                         display_md(l)\n",
    "                        print()                        \n",
    "#                         print('{:=<157}'.format(f\"Show {n} lines above and after in {f}:\"))\n",
    "#                         head2 = f\"Show {n} lines above and after in {f.split(root)[1]}:\"\n",
    "#                         head2 = highlight(f.split(root)[1], head2)\n",
    "#                         head2 = highlight(str(n), head2)\n",
    "#                         display_md(head2)                        \n",
    "                        idx = count\n",
    "                        with open(f, 'r') as file:\n",
    "                            for count, l in enumerate(file):\n",
    "                                if count >= idx - n and count <= idx + n:\n",
    "                                    if count == idx: display_md(highlight(question, l))\n",
    "                                    elif bool(l.strip()): display_md(l)"
   ]
  },
  {
   "cell_type": "markdown",
   "id": "712b1a61",
   "metadata": {},
   "source": [
    "### handling python code block"
   ]
  },
  {
   "cell_type": "code",
   "execution_count": null,
   "id": "b0a69cbe",
   "metadata": {},
   "outputs": [],
   "source": [
    "\n",
    "def fastnotes(question:str, accu:float=0.8, n=2, folder=\"lec\", # folder: 'lec' or 'live' or 'all'\n",
    "              db=False):\n",
    "    \"using key words to search notes and display the found line and lines surround it\"\n",
    "    questlst = question.split(' ')\n",
    "    root = '/Users/Natsume/Documents/divefastai/'\n",
    "#     folder1 = '2022_part1/'\n",
    "#     folder2 = '2022_livecoding/'\n",
    "    folder1 = '2019_part2/'\n",
    "    folder2 = '2019_walkthrus'\n",
    "    lectures = [root + folder1 + f for f in os.listdir(root + folder1)]\n",
    "    livecodings = [root + folder2 + f for f in os.listdir(root + folder2)]\n",
    "    all_notes = lectures + livecodings\n",
    "    if folder == \"lec\": files = lectures\n",
    "    elif folder == \"live\": files = livecodings\n",
    "    else: files = all_notes\n",
    "    for f in files:\n",
    "#     for f in os.listdir(folder):  \n",
    "        if f.endswith(\".md\"):\n",
    "#             name = f.split('.md')[0]\n",
    "#             file_name =folder + f\n",
    "            with open(f, 'r') as file:\n",
    "                for count, l in enumerate(file):\n",
    "                    truelst = [q in l.lower() for q in questlst]\n",
    "                    pct = sum(truelst)/len(truelst)\n",
    "                    if pct >= accu:\n",
    "                        print()\n",
    "                        head1 = f\"keyword match is {pct}, Found a line: in {f.split(root)[1]}\"\n",
    "                        head1 = highlight(str(pct), head1)\n",
    "                        head1 = highlight(f.split(root)[1], head1)\n",
    "                        display_md(head1)\n",
    "#                         l = highlight(question, l, db=db)\n",
    "#                         display_md(l)\n",
    "                        print()                        \n",
    "#                         print('{:=<157}'.format(f\"Show {n} lines above and after in {f}:\"))\n",
    "#                         head2 = f\"Show {n} lines above and after in {f.split(root)[1]}:\"\n",
    "#                         head2 = highlight(f.split(root)[1], head2)\n",
    "#                         head2 = highlight(str(n), head2)\n",
    "#                         display_md(head2)                        \n",
    "                        idx = count\n",
    "                        code = False\n",
    "                        codeblock = \"\"\n",
    "                        with open(f, 'r') as file:\n",
    "                            for count, l in enumerate(file):\n",
    "                                if count >= idx - n and count <= idx + n:\n",
    "                                    if count == idx and bool(l.strip()): \n",
    "                                        display_md(highlight(question, l))\n",
    "                                    elif bool(l.strip()) and \"```python\" == l.strip() and not code: \n",
    "                                        codeblock = codeblock + l\n",
    "                                        code = True\n",
    "                                    # make sure one elif won't be skipped/blocked by another elif above\n",
    "                                    elif bool(l.strip()) and code and \"```\" != l.strip()and count < idx + n: \n",
    "                                        codeblock = codeblock + l\n",
    "                                    elif bool(l.strip()) and code and \"```\" == l.strip():\n",
    "                                        codeblock = codeblock + l                    \n",
    "                                        code = False\n",
    "                                        display_md(codeblock)\n",
    "                                        codeblock = \"\"\n",
    "                                    elif bool(l.strip()) and code and count == idx + n:\n",
    "                                        codeblock = codeblock + l\n",
    "                                        codeblock = codeblock + \"# code block continues below\" + \"\\n\"                                        \n",
    "                                        codeblock = codeblock + \"```\" + \"\\n\"\n",
    "                                        code = False\n",
    "                                        display_md(codeblock)\n",
    "                                        codeblock = \"\"\n",
    "                                    elif bool(l.strip()): \n",
    "                                        display_md(l)\n"
   ]
  },
  {
   "cell_type": "markdown",
   "id": "95309ab1",
   "metadata": {},
   "source": [
    "### handle codeblock even when the searched line is also code"
   ]
  },
  {
   "cell_type": "code",
   "execution_count": null,
   "id": "d5aeb274",
   "metadata": {},
   "outputs": [],
   "source": [
    "\n",
    "def fastnotes(question:str, \n",
    "              search_code:bool=False, # if search code, do check True for nicer printing\n",
    "              accu:float=0.8, \n",
    "              n=2, \n",
    "              folder=\"lec\", # folder: 'lec' or 'live' or 'all'\n",
    "              db=False):\n",
    "    \"using key words to search notes and display the found line and lines surround it\"\n",
    "    questlst = question.split(' ')\n",
    "    root = '/Users/Natsume/Documents/divefastai/'\n",
    "#     root = '/Users/Natsume/Documents/fastdebug/mds/'\n",
    "#     folder1 = '2022_part1/'\n",
    "#     folder2 = '2022_livecoding/'\n",
    "    folder1 = '2019_part2/'\n",
    "    folder2 = '2019_walkthrus'\n",
    "    lectures = [root + folder1 + f for f in os.listdir(root + folder1)]\n",
    "    livecodings = [root + folder2 + f for f in os.listdir(root + folder2)]\n",
    "    all_notes = lectures + livecodings\n",
    "    if folder == \"lec\": files = lectures\n",
    "    elif folder == \"live\": files = livecodings\n",
    "    else: files = all_notes\n",
    "    for f in files:\n",
    "#     for f in os.listdir(folder):  \n",
    "        if f.endswith(\".md\"):\n",
    "#             name = f.split('.md')[0]\n",
    "#             file_name =folder + f\n",
    "            with open(f, 'r') as file:\n",
    "                for count, l in enumerate(file):\n",
    "                    truelst = [q in l.lower() for q in questlst]\n",
    "                    pct = sum(truelst)/len(truelst)\n",
    "                    if pct >= accu:\n",
    "                        print()\n",
    "                        head1 = f\"keyword match is {pct}, Found a line: in {f.split(root)[1]}\"\n",
    "                        head1 = highlight(str(pct), head1)\n",
    "                        head1 = highlight(f.split(root)[1], head1)\n",
    "                        display_md(head1)\n",
    "#                         l = highlight(question, l, db=db)\n",
    "#                         display_md(l)\n",
    "                        print()                        \n",
    "#                         print('{:=<157}'.format(f\"Show {n} lines above and after in {f}:\"))\n",
    "#                         head2 = f\"Show {n} lines above and after in {f.split(root)[1]}:\"\n",
    "#                         head2 = highlight(f.split(root)[1], head2)\n",
    "#                         head2 = highlight(str(n), head2)\n",
    "#                         display_md(head2)                        \n",
    "                        idx = count\n",
    "                        code = search_code\n",
    "                        codeblock = \"\"\n",
    "                        with open(f, 'r') as file:\n",
    "                            for count, l in enumerate(file):\n",
    "                                if count >= idx - n and count <= idx + n:\n",
    "                                    if count == idx and bool(l.strip()) and not code: \n",
    "                                        display_md(highlight(question, l))\n",
    "                                    elif count == idx and bool(l.strip()) and code: \n",
    "                                        codeblock = codeblock + l\n",
    "                                    elif count == idx-n and code and bool(l.strip()) and \"```\" != l.strip():\n",
    "                                        codeblock = codeblock + \"```python\\n\" + l\n",
    "                                    elif bool(l.strip()) and \"```python\" == l.strip() and not code: \n",
    "                                        codeblock = codeblock + l\n",
    "                                        code = True\n",
    "                                    # make sure one elif won't be skipped/blocked by another elif above\n",
    "                                    elif bool(l.strip()) and code and \"```\" != l.strip()and count < idx + n: \n",
    "                                        codeblock = codeblock + l\n",
    "                                    elif bool(l.strip()) and code and \"```\" == l.strip():\n",
    "                                        codeblock = codeblock + l                    \n",
    "                                        code = False\n",
    "                                        display_md(codeblock)\n",
    "                                        codeblock = \"\"\n",
    "                                    elif bool(l.strip()) and code and count == idx + n:\n",
    "                                        codeblock = codeblock + l\n",
    "                                        codeblock = codeblock + \"# code block continues below\" + \"\\n\"                                        \n",
    "                                        codeblock = codeblock + \"```\" + \"\\n\"\n",
    "                                        code = False\n",
    "                                        display_md(codeblock)\n",
    "                                        codeblock = \"\"\n",
    "                                    elif bool(l.strip()) and not code: \n",
    "                                        display_md(l)\n"
   ]
  },
  {
   "cell_type": "markdown",
   "id": "02f3b10e",
   "metadata": {},
   "source": [
    "### to extract md files from all subfolders of fastdebug/mds/ directory"
   ]
  },
  {
   "cell_type": "code",
   "execution_count": null,
   "id": "5e8984f3",
   "metadata": {},
   "outputs": [],
   "source": [
    "#| export\n",
    "def fastnotes(question:str, \n",
    "              search_code:bool=False, # if search code, do check True for nicer printing\n",
    "              accu:float=0.8, \n",
    "              n=2, \n",
    "              folder=\"all\", # folder: 'lec' or 'live' or 'all'\n",
    "              nb=True, # to provide a link to open notebook\n",
    "              db=False):\n",
    "    \"using key words to search every line of fastai notes (include codes) \\\n",
    "and display the found line and lines surround it. fastnotes can search both notes and codes\\\n",
    "to do primary search, and then use fastnbs to display the whole interested section instead\\\n",
    "of surrounding lines.\"\n",
    "    questlst = question.split(' ')\n",
    "    root = '/Users/Natsume/Documents/fastdebug/mds/'\n",
    "    all_md_files = []\n",
    "    for f in os.listdir(root):  \n",
    "        if f.endswith(\".md\"): all_md_files.append(root + f)\n",
    "        elif not \".\" in f: \n",
    "            for subf in os.listdir(root + f):\n",
    "                if subf.endswith(\".md\"): all_md_files.append(root + f + \"/\" + subf)\n",
    "\n",
    "    if db: pprint(all_md_files)\n",
    "    for md in all_md_files:\n",
    "        if folder == \"part2\" and \"_fastai_pt2\" in md: f = md\n",
    "        elif folder == \"part1\" and \"_fastai_\" in md and not \"_fastai_pt2\" in md: f = md\n",
    "        elif folder == \"all\": f = md\n",
    "        else: \n",
    "            print(\"no folder is selected\")\n",
    "            return\n",
    "        with open(f, 'r') as file:\n",
    "            for count, l in enumerate(file):\n",
    "                truelst = [q in l.lower() for q in questlst]\n",
    "                pct = sum(truelst)/len(truelst)\n",
    "                if pct >= accu:\n",
    "                    print()\n",
    "                    head1 = f\"keyword match is {pct}, Found a line: in {f.split(root)[1]}\"\n",
    "                    head1 = highlight(str(pct), head1)\n",
    "                    head1 = highlight(f.split(root)[1], head1)\n",
    "                    display_md(head1)\n",
    "                    print()                                              \n",
    "                    idx = count\n",
    "                    code = search_code\n",
    "                    codeblock = \"\"\n",
    "                    with open(f, 'r') as file: # must open the file again to read surrounding lines\n",
    "                        for count, l in enumerate(file):\n",
    "                            if count >= idx - n and count <= idx + n:\n",
    "                                if count == idx and bool(l.strip()) and not code: \n",
    "                                    display_md(highlight(question, l))\n",
    "                                elif count == idx and bool(l.strip()) and code: \n",
    "                                    codeblock = codeblock + l\n",
    "                                elif count == idx-n and code and bool(l.strip()) and \"```\" != l.strip():\n",
    "                                    codeblock = codeblock + \"```python\\n\" + l\n",
    "                                elif bool(l.strip()) and \"```python\" == l.strip() and not code: \n",
    "                                    codeblock = codeblock + l\n",
    "                                    code = True\n",
    "                                # make sure one elif won't be skipped/blocked by another elif above\n",
    "                                elif bool(l.strip()) and code and \"```\" != l.strip()and count < idx + n: \n",
    "                                    codeblock = codeblock + l\n",
    "                                elif bool(l.strip()) and code and \"```\" == l.strip():\n",
    "                                    codeblock = codeblock + l                    \n",
    "                                    code = False\n",
    "                                    display_md(codeblock)\n",
    "                                    codeblock = \"\"\n",
    "                                elif bool(l.strip()) and code and count == idx + n:\n",
    "                                    codeblock = codeblock + l\n",
    "                                    codeblock = codeblock + \"# code block continues below\" + \"\\n\"                                        \n",
    "                                    codeblock = codeblock + \"```\" + \"\\n\"\n",
    "                                    code = False\n",
    "                                    display_md(codeblock)\n",
    "                                    codeblock = \"\"\n",
    "                                elif bool(l.strip()) and not code: \n",
    "                                    display_md(l)\n",
    "                    if nb:\n",
    "                        file_name = f.split('/')[-1]\n",
    "                        openNB(file_name, db=db)\n",
    "                        openNBKaggle(file_name, db=db)"
   ]
  },
  {
   "cell_type": "code",
   "execution_count": null,
   "id": "e23684f0",
   "metadata": {},
   "outputs": [
    {
     "name": "stdout",
     "output_type": "stream",
     "text": [
      "['/Users/Natsume/Documents/fastdebug/mds/index.md',\n",
      " '/Users/Natsume/Documents/fastdebug/mds/lib/groundup_002_get_data_ready.md',\n",
      " '/Users/Natsume/Documents/fastdebug/mds/lib/src_fastcore_002_foundation.md',\n",
      " '/Users/Natsume/Documents/fastdebug/mds/lib/groundup_004_meanshift.md',\n",
      " '/Users/Natsume/Documents/fastdebug/mds/lib/src_fastai_000_torch_core.md',\n",
      " '/Users/Natsume/Documents/fastdebug/mds/lib/src_fastai_001a_losses.md',\n",
      " '/Users/Natsume/Documents/fastdebug/mds/lib/src_fastcore_001_basics.md',\n",
      " '/Users/Natsume/Documents/fastdebug/mds/lib/groundup_001_exp.md',\n",
      " '/Users/Natsume/Documents/fastdebug/mds/lib/src_fastcore_004_dispatch.md',\n",
      " '/Users/Natsume/Documents/fastdebug/mds/lib/src_fastai_009_vision.augment.md',\n",
      " '/Users/Natsume/Documents/fastdebug/mds/lib/00_core.md',\n",
      " '/Users/Natsume/Documents/fastdebug/mds/lib/01_utils.md',\n",
      " '/Users/Natsume/Documents/fastdebug/mds/lib/groundup_003_matmul.md',\n",
      " '/Users/Natsume/Documents/fastdebug/mds/lib/groundup_005_forward_backward_passes.md',\n",
      " '/Users/Natsume/Documents/fastdebug/mds/lib/src_fastai_001_layers.md',\n",
      " '/Users/Natsume/Documents/fastdebug/mds/fastai_notebooks/0016_collaborative_filtering_deep_dive.md',\n",
      " '/Users/Natsume/Documents/fastdebug/mds/fastai_notebooks/0022_fastai_pt2_2019_why_sqrt5.md',\n",
      " '/Users/Natsume/Documents/fastdebug/mds/fastai_notebooks/0007_fastai_how_random_forests_really_work.md',\n",
      " '/Users/Natsume/Documents/fastdebug/mds/fastai_notebooks/0004_fastai_how_neuralnet_work.md',\n",
      " '/Users/Natsume/Documents/fastdebug/mds/fastai_notebooks/0001_fastai_is_it_a_bird.md',\n",
      " '/Users/Natsume/Documents/fastdebug/mds/fastai_notebooks/0014_iterate_like_grandmaster.md',\n",
      " '/Users/Natsume/Documents/fastdebug/mds/fastai_notebooks/0006_fastai_why_should_use_framework.md',\n",
      " '/Users/Natsume/Documents/fastdebug/mds/fastai_notebooks/0011_fastai_multi_target_road_to_top_part_4.md',\n",
      " '/Users/Natsume/Documents/fastdebug/mds/fastai_notebooks/0010_fastai_scaling_up_road_to_top_part_3.md',\n",
      " '/Users/Natsume/Documents/fastdebug/mds/fastai_notebooks/0017_fastai_pt2_2019_matmul.md',\n",
      " '/Users/Natsume/Documents/fastdebug/mds/fastai_notebooks/0008_fastai_first_steps_road_to_top_part_1.md',\n",
      " '/Users/Natsume/Documents/fastdebug/mds/fastai_notebooks/0021_fastai_pt2_2019_fully_connected.md',\n",
      " '/Users/Natsume/Documents/fastdebug/mds/fastai_notebooks/0009_fastai_small_models_road_to_the_top_part_2.md',\n",
      " '/Users/Natsume/Documents/fastdebug/mds/fastai_notebooks/0002_fastai_saving_a_basic_fastai_model.md',\n",
      " '/Users/Natsume/Documents/fastdebug/mds/fastai_notebooks/0005_fastai_linear_neuralnet_scratch.md',\n",
      " '/Users/Natsume/Documents/fastdebug/mds/fastai_notebooks/0015_getting_started_with_nlp_for_absolute_beginner.md',\n",
      " '/Users/Natsume/Documents/fastdebug/mds/fastai_notebooks/0013_best_vision_models_for_fine_tuning.md',\n",
      " '/Users/Natsume/Documents/fastdebug/mds/fastai_notebooks/0012_fastai_using_nbdev_export_in_kaggle_notebook.md',\n",
      " '/Users/Natsume/Documents/fastdebug/mds/fastai_notebooks/0020_fastai_pt2_2019_source_explained.md',\n",
      " '/Users/Natsume/Documents/fastdebug/mds/fastai_notebooks/0003_fastai_which_image_model_best.md',\n",
      " '/Users/Natsume/Documents/fastdebug/mds/fastai_notebooks/0018_fastai_pt2_2019_exports.md',\n",
      " '/Users/Natsume/Documents/fastdebug/mds/fastai_notebooks/0019_fastai_pt2_2019_lecture1_intro.md',\n",
      " '/Users/Natsume/Documents/fastdebug/mds/demos/0001_fastcore_meta_delegates.md',\n",
      " '/Users/Natsume/Documents/fastdebug/mds/demos/0003_Explore_document_FixSigMeta_PrePostInitMeta_AutoInit.md',\n",
      " '/Users/Natsume/Documents/fastdebug/mds/demos/0004_fastcore.meta._rm_self.md',\n",
      " '/Users/Natsume/Documents/fastdebug/mds/demos/0005_fastcore.meta.test_sig.md',\n",
      " '/Users/Natsume/Documents/fastdebug/mds/demos/0007_fastcore.meta.BypassNewMeta.md',\n",
      " '/Users/Natsume/Documents/fastdebug/mds/demos/0000_Intro_fastdebug.md',\n",
      " '/Users/Natsume/Documents/fastdebug/mds/demos/0002_signature_from_callable.md',\n",
      " '/Users/Natsume/Documents/fastdebug/mds/demos/0008_use_kwargs_dict.md',\n",
      " '/Users/Natsume/Documents/fastdebug/mds/demos/0006_fastcore.meta.NewChkMeta.md',\n",
      " '/Users/Natsume/Documents/fastdebug/mds/demos/0000_tour.md',\n",
      " '/Users/Natsume/Documents/fastdebug/mds/demos/0012_fastcore_foundation_L.md',\n",
      " '/Users/Natsume/Documents/fastdebug/mds/demos/0011_Fastdb.md',\n",
      " '/Users/Natsume/Documents/fastdebug/mds/demos/0009_funcs_kwargs.md',\n",
      " '/Users/Natsume/Documents/fastdebug/mds/demos/0010_fastcore_meta_summary.md',\n",
      " '/Users/Natsume/Documents/fastdebug/mds/questions/00_question_anno_dict.md']\n",
      "\n"
     ]
    },
    {
     "data": {
      "text/markdown": [
       "keyword match is <mark style=\"background-color: #ffff00\">1.0</mark> , found a line: in <mark style=\"background-color: #FFFF00\">lib/01_utils.md</mark> "
      ],
      "text/plain": [
       "<IPython.core.display.Markdown object>"
      ]
     },
     "metadata": {},
     "output_type": "display_data"
    },
    {
     "name": "stdout",
     "output_type": "stream",
     "text": [
      "\n"
     ]
    },
    {
     "data": {
      "text/markdown": [
       "                                    codeblock = \"\"\n"
      ],
      "text/plain": [
       "<IPython.core.display.Markdown object>"
      ]
     },
     "metadata": {},
     "output_type": "display_data"
    },
    {
     "data": {
      "text/markdown": [
       "                                elif bool(l.strip()) and code and count == idx + n:\n"
      ],
      "text/plain": [
       "<IPython.core.display.Markdown object>"
      ]
     },
     "metadata": {},
     "output_type": "display_data"
    },
    {
     "data": {
      "text/markdown": [
       "                                    codeblock = codeblock + l\n"
      ],
      "text/plain": [
       "<IPython.core.display.Markdown object>"
      ]
     },
     "metadata": {},
     "output_type": "display_data"
    },
    {
     "data": {
      "text/markdown": [
       "                                    codeblock = codeblock + \"# code block continues below\" + \"\\n\"                                        \n"
      ],
      "text/plain": [
       "<IPython.core.display.Markdown object>"
      ]
     },
     "metadata": {},
     "output_type": "display_data"
    },
    {
     "data": {
      "text/markdown": [
       "                                    codeblock = codeblock + \"```\" + \"\\n\"\n"
      ],
      "text/plain": [
       "<IPython.core.display.Markdown object>"
      ]
     },
     "metadata": {},
     "output_type": "display_data"
    },
    {
     "data": {
      "text/markdown": [
       "                                    code = False\n"
      ],
      "text/plain": [
       "<IPython.core.display.Markdown object>"
      ]
     },
     "metadata": {},
     "output_type": "display_data"
    },
    {
     "data": {
      "text/markdown": [
       "                                    display_md(codeblock)\n"
      ],
      "text/plain": [
       "<IPython.core.display.Markdown object>"
      ]
     },
     "metadata": {},
     "output_type": "display_data"
    },
    {
     "data": {
      "text/markdown": [
       "                                    codeblock = \"\"\n"
      ],
      "text/plain": [
       "<IPython.core.display.Markdown object>"
      ]
     },
     "metadata": {},
     "output_type": "display_data"
    },
    {
     "data": {
      "text/markdown": [
       "                                elif bool(l.strip()) and not code: \n"
      ],
      "text/plain": [
       "<IPython.core.display.Markdown object>"
      ]
     },
     "metadata": {},
     "output_type": "display_data"
    },
    {
     "data": {
      "text/markdown": [
       "                                    display_md(l)\n"
      ],
      "text/plain": [
       "<IPython.core.display.Markdown object>"
      ]
     },
     "metadata": {},
     "output_type": "display_data"
    },
    {
     "data": {
      "text/markdown": [
       "                    if nb:\n"
      ],
      "text/plain": [
       "<IPython.core.display.Markdown object>"
      ]
     },
     "metadata": {},
     "output_type": "display_data"
    },
    {
     "data": {
      "text/markdown": [
       "                        file_name = f.split('/')[-1]\n"
      ],
      "text/plain": [
       "<IPython.core.display.Markdown object>"
      ]
     },
     "metadata": {},
     "output_type": "display_data"
    },
    {
     "data": {
      "text/markdown": [
       "                        openNB(file_name, db=db)\n"
      ],
      "text/plain": [
       "<IPython.core.display.Markdown object>"
      ]
     },
     "metadata": {},
     "output_type": "display_data"
    },
    {
     "data": {
      "text/markdown": [
       "                        openNBKaggle(file_name, db=db)\n"
      ],
      "text/plain": [
       "<IPython.core.display.Markdown object>"
      ]
     },
     "metadata": {},
     "output_type": "display_data"
    },
    {
     "data": {
      "text/markdown": [
       "```\n"
      ],
      "text/plain": [
       "<IPython.core.display.Markdown object>"
      ]
     },
     "metadata": {},
     "output_type": "display_data"
    },
    {
     "data": {
      "text/markdown": [
       "```python\n",
       "fastnotes(\"how understand matrix multiplication\", n=17, db=True)\n",
       "```\n"
      ],
      "text/plain": [
       "<IPython.core.display.Markdown object>"
      ]
     },
     "metadata": {},
     "output_type": "display_data"
    },
    {
     "data": {
      "text/markdown": [
       "```python\n",
       "```\n"
      ],
      "text/plain": [
       "<IPython.core.display.Markdown object>"
      ]
     },
     "metadata": {},
     "output_type": "display_data"
    },
    {
     "data": {
      "text/markdown": [
       "```python\n",
       "```\n"
      ],
      "text/plain": [
       "<IPython.core.display.Markdown object>"
      ]
     },
     "metadata": {},
     "output_type": "display_data"
    },
    {
     "data": {
      "text/markdown": [
       "## fastlistnbs\n"
      ],
      "text/plain": [
       "<IPython.core.display.Markdown object>"
      ]
     },
     "metadata": {},
     "output_type": "display_data"
    },
    {
     "data": {
      "text/markdown": [
       "```python\n",
       "def fastlistnbs():\n",
       "    \"display all my commented notebooks subheadings in a long list\"\n",
       "    nbs, folder, _, _, _, _ = get_all_nbs()\n",
       "# code block continues below\n",
       "```\n"
      ],
      "text/plain": [
       "<IPython.core.display.Markdown object>"
      ]
     },
     "metadata": {},
     "output_type": "display_data"
    },
    {
     "ename": "NameError",
     "evalue": "name 'openNB' is not defined",
     "output_type": "error",
     "traceback": [
      "\u001b[0;31m---------------------------------------------------------------------------\u001b[0m",
      "\u001b[0;31mNameError\u001b[0m                                 Traceback (most recent call last)",
      "Input \u001b[0;32mIn [90]\u001b[0m, in \u001b[0;36m<cell line: 1>\u001b[0;34m()\u001b[0m\n\u001b[0;32m----> 1\u001b[0m \u001b[43mfastnotes\u001b[49m\u001b[43m(\u001b[49m\u001b[38;5;124;43m\"\u001b[39;49m\u001b[38;5;124;43mhow understand matrix multiplication\u001b[39;49m\u001b[38;5;124;43m\"\u001b[39;49m\u001b[43m,\u001b[49m\u001b[43m \u001b[49m\u001b[43mn\u001b[49m\u001b[38;5;241;43m=\u001b[39;49m\u001b[38;5;241;43m17\u001b[39;49m\u001b[43m,\u001b[49m\u001b[43m \u001b[49m\u001b[43mdb\u001b[49m\u001b[38;5;241;43m=\u001b[39;49m\u001b[38;5;28;43;01mTrue\u001b[39;49;00m\u001b[43m)\u001b[49m\n",
      "Input \u001b[0;32mIn [89]\u001b[0m, in \u001b[0;36mfastnotes\u001b[0;34m(question, search_code, accu, n, folder, nb, db)\u001b[0m\n\u001b[1;32m     73\u001b[0m \u001b[38;5;28;01mif\u001b[39;00m nb:\n\u001b[1;32m     74\u001b[0m     file_name \u001b[38;5;241m=\u001b[39m f\u001b[38;5;241m.\u001b[39msplit(\u001b[38;5;124m'\u001b[39m\u001b[38;5;124m/\u001b[39m\u001b[38;5;124m'\u001b[39m)[\u001b[38;5;241m-\u001b[39m\u001b[38;5;241m1\u001b[39m]\n\u001b[0;32m---> 75\u001b[0m     \u001b[43mopenNB\u001b[49m(file_name, db\u001b[38;5;241m=\u001b[39mdb)\n\u001b[1;32m     76\u001b[0m     openNBKaggle(file_name, db\u001b[38;5;241m=\u001b[39mdb)\n",
      "\u001b[0;31mNameError\u001b[0m: name 'openNB' is not defined"
     ]
    }
   ],
   "source": [
    "fastnotes(\"how understand matrix multiplication\", n=17, db=True)"
   ]
  },
  {
   "cell_type": "code",
   "execution_count": null,
   "id": "5176c55f",
   "metadata": {},
   "outputs": [],
   "source": []
  },
  {
   "cell_type": "code",
   "execution_count": null,
   "id": "634044c3",
   "metadata": {},
   "outputs": [],
   "source": []
  },
  {
   "cell_type": "markdown",
   "id": "286252f9",
   "metadata": {},
   "source": [
    "## fastlistnbs"
   ]
  },
  {
   "cell_type": "code",
   "execution_count": null,
   "id": "01b055ae",
   "metadata": {},
   "outputs": [],
   "source": [
    "\n",
    "def fastlistnbs():\n",
    "    \"display all my commented notebooks subheadings in a long list\"\n",
    "    nbs, folder, _, _, _, _ = get_all_nbs()\n",
    "    for nb in nbs:\n",
    "        print(\"\\n\"+nb)\n",
    "        with open(nb, 'r') as file:\n",
    "            for idx, l in enumerate(file):\n",
    "                if \"##\" in l:\n",
    "                    print(l, end=\"\") # no extra new line between each line printed\n",
    "        "
   ]
  },
  {
   "cell_type": "code",
   "execution_count": null,
   "id": "5781e97d",
   "metadata": {},
   "outputs": [],
   "source": [
    "\n",
    "def fastlistnbs():\n",
    "    \"display all my commented notebooks subheadings in a long list. Best to work with fastnbs together.\"\n",
    "    nbs, folder, _, _, _, _ = get_all_nbs()\n",
    "    for nb in nbs:\n",
    "        print(\"\\n\"+nb)\n",
    "        with open(nb, 'r') as file:\n",
    "            for idx, l in enumerate(file):\n",
    "                if l.startswith(\"##\"):\n",
    "                    print(l, end=\"\") # no extra new line between each line printed\n",
    "        "
   ]
  },
  {
   "cell_type": "markdown",
   "id": "c664471b",
   "metadata": {},
   "source": [
    "### add filter "
   ]
  },
  {
   "cell_type": "code",
   "execution_count": null,
   "id": "fadf11e0",
   "metadata": {},
   "outputs": [],
   "source": [
    "\n",
    "def fastlistnbs(filter=\"fastai\"):\n",
    "    \"display all my commented notebooks subheadings in a long list. Best to work with fastnbs together.\"\n",
    "    nbs, folder, _, _, _, _ = get_all_nbs()\n",
    "    nb_rt = \"\"\n",
    "    for nb in nbs:\n",
    "        if filter == \"fastai\" and \"_fastai_\" in nb: \n",
    "            nb_rt = nb\n",
    "        elif filter == \"all\": \n",
    "            nb_rt = nb\n",
    "        else: \n",
    "            continue\n",
    "            \n",
    "        print(\"\\n\"+nb_rt)\n",
    "        with open(nb_rt, 'r') as file:\n",
    "            for idx, l in enumerate(file):\n",
    "                if \"##\" in l:\n",
    "                    print(l, end=\"\") # no extra new line between each line printed       "
   ]
  },
  {
   "cell_type": "code",
   "execution_count": null,
   "id": "1c12c901",
   "metadata": {},
   "outputs": [],
   "source": []
  },
  {
   "cell_type": "code",
   "execution_count": null,
   "id": "3bf1e5c8",
   "metadata": {},
   "outputs": [],
   "source": [
    "#| export\n",
    "def fastlistnbs(query=\"all\", # howto, srcode, or all\n",
    "                flt_fd=\"src\"): # other options: \"groundup\", \"part2\", \"all\"\n",
    "    \"display section headings of notebooks, filter options: fastai, part2, groundup, src_fastai,\\\n",
    "src_fastcore, all\"\n",
    "    nbs, folder, _, _, _, _ = get_all_nbs()\n",
    "    nb_rt = \"\"\n",
    "    for nb in nbs:\n",
    "        if flt_fd == \"fastai\" and \"_fastai_\" in nb.split(\"/\")[-1] and not \"_fastai_pt2\" in nb.split(\"/\")[-1]: \n",
    "            nb_rt = nb\n",
    "        elif flt_fd == \"part2\" and \"_fastai_pt2\" in nb.split(\"/\")[-1]:\n",
    "            nb_rt = nb\n",
    "        elif flt_fd == \"groundup\" and \"groundup_\" in nb.split(\"/\")[-1]:            \n",
    "            nb_rt = nb\n",
    "        elif flt_fd == \"src\" and \"fast\" in nb.split(\"/\")[-1]:\n",
    "            nb_rt = nb            \n",
    "        elif flt_fd == \"all\": \n",
    "            nb_rt = nb\n",
    "        else: \n",
    "            continue\n",
    "            \n",
    "        print(\"\\n\"+nb_rt)\n",
    "        with open(nb_rt, 'r') as file:\n",
    "            for idx, l in enumerate(file):\n",
    "                if \"##\" in l:\n",
    "                    if query == \"howto\" and \"ht:\" in l:\n",
    "                        if l.count(\"#\") == 2: print()\n",
    "                        print(l, end=\"\") # no extra new line between each line printed    \n",
    "                    elif query == \"srcode\" and \"src:\" in l:\n",
    "                        if l.count(\"#\") == 2: print()                        \n",
    "                        print(l, end=\"\") # no extra new line between each line printed    \n",
    "                    elif query == \"all\": \n",
    "                        if l.count(\"#\") == 2: print()                        \n",
    "                        print(l, end=\"\") # no extra new line between each line printed    "
   ]
  },
  {
   "cell_type": "code",
   "execution_count": null,
   "id": "e58f642b",
   "metadata": {},
   "outputs": [],
   "source": []
  },
  {
   "cell_type": "code",
   "execution_count": null,
   "id": "96b35873",
   "metadata": {},
   "outputs": [
    {
     "name": "stdout",
     "output_type": "stream",
     "text": [
      "\n",
      "/Users/Natsume/Documents/fastdebug/mds/fastai_notebooks/0022_fastai_pt2_2019_why_sqrt5.md\n",
      "## Does nn.Conv2d init work well?\n",
      "### [00:00](https://youtu.be/AcA8HAYh7IE?list=PLfYUBJiXbdtTIdtE1U8qgyxo4Jy2Y91uj&t=0) one of the purpose of part 2 is to demonstrate how Jeremy does research; Jeremy is going to show us how he does research to find out how well does a mysterious line of code in the pytorch work\n",
      "## Export\n",
      "\n",
      "/Users/Natsume/Documents/fastdebug/mds/fastai_notebooks/0017_fastai_pt2_2019_matmul.md\n",
      "## Matrix multiplication from foundations\n",
      "## Check imports\n",
      "### [31:11](https://youtu.be/4u8FxNEDUeg?list=PLfYUBJiXbdtTIdtE1U8qgyxo4Jy2Y91uj&t=1871) - how to build a test framework using the source code of `test`, `test_eq`, and run tests for all notebooks (fastforward to 2022, we have the test source code in [fastcore.test](https://nbviewer.org/github/fastai/fastcore/blob/master/nbs/00_test.ipynb) `nbdev_test` to run tests for all notebooks) [35:23](https://youtu.be/4u8FxNEDUeg?list=PLfYUBJiXbdtTIdtE1U8qgyxo4Jy2Y91uj&t=2123) - why it is great to have a unit testing with jupyter\n",
      "## Get data\n",
      "### [35:59](https://youtu.be/4u8FxNEDUeg?list=PLfYUBJiXbdtTIdtE1U8qgyxo4Jy2Y91uj&t=2159) - what are the basic libs needed to create our matrix multiplication [notebook](https://nbviewer.org/github/fastai/course-v3/blob/7fceebfd14d4f3bc7e0ec649834309b8cb786e40/nbs/dl2/01_matmul.ipynb#Get-data)/module \n",
      "### [36:25](https://youtu.be/4u8FxNEDUeg?list=PLfYUBJiXbdtTIdtE1U8qgyxo4Jy2Y91uj&t=2185) - how to [download and extract](https://nbviewer.org/github/fastai/course-v3/blob/7fceebfd14d4f3bc7e0ec649834309b8cb786e40/nbs/dl2/01_matmul.ipynb#Get-data) mnist dataset using the most basic libraries: `fastai.datasets`, `gzip`, `pickle`\n",
      "### [36:57](https://youtu.be/4u8FxNEDUeg?list=PLfYUBJiXbdtTIdtE1U8qgyxo4Jy2Y91uj&t=2217) - how to convert numpy array from mnist dataset into pytorch tensor using `map` and `tensor`; why Jeremy would like us to use pytorch tensor instead of numpy array; [37:42](https://youtu.be/4u8FxNEDUeg?list=PLfYUBJiXbdtTIdtE1U8qgyxo4Jy2Y91uj&t=2262) - how to find out about the structure of the mnist dataset using `tensor.shape` and `min`, `max`\n",
      "### [38:15](https://youtu.be/4u8FxNEDUeg?list=PLfYUBJiXbdtTIdtE1U8qgyxo4Jy2Y91uj&t=2295) - how to build a test to check the dataset has the structure we expect using `assert` and `test_eq`\n",
      "### [38:39](https://youtu.be/4u8FxNEDUeg?list=PLfYUBJiXbdtTIdtE1U8qgyxo4Jy2Y91uj&t=2319) - how to turn a long vector tensor into a 2d tensor using `img.view(28, 28)`; how to display image from a `torch.FloatTensor` using `plt.imshow(img.view(28,28))`\n",
      "## Initial python model\n",
      "### [39:04](https://youtu.be/4u8FxNEDUeg?list=PLfYUBJiXbdtTIdtE1U8qgyxo4Jy2Y91uj&t=2344) - If we are to build a simplest linear model for mnist dataset, how to create the weights and biases for the model using `weights = torch.randn(784,10)` and `bias = torch.zeros(10)`. check the [notebook](https://nbviewer.org/github/fastai/course-v3/blob/7fceebfd14d4f3bc7e0ec649834309b8cb786e40/nbs/dl2/01_matmul.ipynb#Initial-python-model) \n",
      "## Matrix multiplication\n",
      "### [39:49](https://youtu.be/4u8FxNEDUeg?list=PLfYUBJiXbdtTIdtE1U8qgyxo4Jy2Y91uj&t=2389) - how to understand the matrix multiplication calculation process (see [animation](http://matrixmultiplication.xyz/)); how to implement the matrix multiplication with 3 loops (see src code below); imagine an input matrix `rows=5, cols=28*28` and output matrix `rows=5, cols=10`, what would the weights matrix be? `(rows=28*28, cols=10)` In the src below, `a` would be the input matrix and `b` be the weights, we want to find out about the output matrix `c`. how to use `assert` (I found a useful link [here](https://www.programiz.com/python-programming/assert-statement))\n",
      "### [42:57](https://youtu.be/4u8FxNEDUeg?list=PLfYUBJiXbdtTIdtE1U8qgyxo4Jy2Y91uj&t=2577) - run an example on `matmul` and test it and check how long does it take to calc a matrix of 5 rows; python is 1000 times slower than pytorch\n",
      "## Elementwise ops\n",
      "### [44:27](https://youtu.be/4u8FxNEDUeg?list=PLfYUBJiXbdtTIdtE1U8qgyxo4Jy2Y91uj&t=2667) - how to speed up the matrix multiplication by 50000 times by using pytorch (which uses a different lib called aten (the [difference](https://discuss.pytorch.org/t/whats-the-difference-between-aten-and-c10/114034) between aten and c10) to replace each loop at a time [45:11](https://youtu.be/4u8FxNEDUeg?list=PLfYUBJiXbdtTIdtE1U8qgyxo4Jy2Y91uj&t=2711) - what is elementwise operation [notebook](https://nbviewer.org/github/fastai/course-v3/blob/7fceebfd14d4f3bc7e0ec649834309b8cb786e40/nbs/dl2/01_matmul.ipynb#Elementwise-ops) from aten or c10 of pytorch; what does elementwise operation do between vectors and between matricies; \n",
      "### [46:24](https://youtu.be/4u8FxNEDUeg?list=PLfYUBJiXbdtTIdtE1U8qgyxo4Jy2Y91uj&t=2784) - how to translate equations into codes; how to read Frobenius norm equation; how often it appears in deep learning papers; [47:38](https://youtu.be/4u8FxNEDUeg?list=PLfYUBJiXbdtTIdtE1U8qgyxo4Jy2Y91uj&t=2858) - how to get latex for math equations without actually writing them\n",
      "## Elementwise matmul\n",
      "### [48:52](https://youtu.be/4u8FxNEDUeg?list=PLfYUBJiXbdtTIdtE1U8qgyxo4Jy2Y91uj&t=2932) - how to use elementwise vector-vector multiplication to replace the last loop of scalar-scalar multiplication below, and how much faster  do we get (178 times); question: what does `%timeit -n 10` mean (doing `matmul(m1,m2` 10 times?); \n",
      "### [50:59](https://youtu.be/4u8FxNEDUeg?list=PLfYUBJiXbdtTIdtE1U8qgyxo4Jy2Y91uj&t=3059) - which language is this elementwise operation written in (c language); how does `test_near` and `torch.allclose` [check whether two numbers are real close to each other](https://pytorch.org/docs/stable/generated/torch.allclose.html) is not exact the same;\n",
      "## Broadcasting\n",
      "### [51:49](https://youtu.be/4u8FxNEDUeg?list=PLfYUBJiXbdtTIdtE1U8qgyxo4Jy2Y91uj&t=3109) - how to get rid of the inner most loop now with broadcasting; what broadcasting does is to getting rid of all loops at the speed of Cuda written in C language; Where and when is broadcasting originated (APL in 1960s); What is this APL broadcasting (remove all the for loop and use implicit broadcasted loops)\n",
      "## Broadcasting with a scalar\n",
      "### [52:58](https://youtu.be/4u8FxNEDUeg?list=PLfYUBJiXbdtTIdtE1U8qgyxo4Jy2Y91uj&t=3178) - how to do broadcasting on a vector with a scalar or broadcasting a scalar to a tensor `a` which can be a vector or matrix  or more; and broadcasting is at speed of C or cuda;\n",
      "## Broadcasting a vector to a matrix\n",
      "### [54:10](https://youtu.be/4u8FxNEDUeg?list=PLfYUBJiXbdtTIdtE1U8qgyxo4Jy2Y91uj&t=3250) - how to broadcast a vector to matrix; Jeremy explains how to broadcast a vector to matrix without doing for loop; how to visualize a vector being broadcasted into a matrix using `t = c.expand_as(m)` (`c` as a data of column or row, `m` as matrix)\n",
      "### [55:51](https://youtu.be/4u8FxNEDUeg?list=PLfYUBJiXbdtTIdtE1U8qgyxo4Jy2Y91uj&t=3351) - When broadcasting a vector to matrix, the vector is acting as a matrix but stored as a vector; how do we see this or interpret this using `t.storage()` and `t.stride()` and `t.shape`; \n",
      "### [57:05](https://youtu.be/4u8FxNEDUeg?list=PLfYUBJiXbdtTIdtE1U8qgyxo4Jy2Y91uj&t=3425) - how to turn a vector or 1d array into a 2d array or matrix using `c.unsqueeze(0).shape` (1, 3) or `c[None,:].shape` (1,3) or `c.unsqueeze(1).shape` (3,1) or `c[:,None].shape` (3,1), and turn a 1d array into a 3d array using `c[None,None,:]`(1,1,3) or `c[None,:,None]`(1,3,1); we use `None` over `unsqueeze`\n",
      "### [59:26](https://youtu.be/4u8FxNEDUeg?list=PLfYUBJiXbdtTIdtE1U8qgyxo4Jy2Y91uj&t=3566) - using `None` or `unsqueeze`, `c + m` is the same to `c[None,:] + m` but very different to `c[:,None] + m` [1:00:25](https://youtu.be/4u8FxNEDUeg?list=PLfYUBJiXbdtTIdtE1U8qgyxo4Jy2Y91uj&t=3625) - how to make sense/visualize of the broadcasting of `c[None]` and `c[...,None]` using excel\n",
      "## Matmul with broadcasting\n",
      "### [1:02:05](https://youtu.be/4u8FxNEDUeg?list=PLfYUBJiXbdtTIdtE1U8qgyxo4Jy2Y91uj&t=3725) - how to simplify the type of `c[None,:,:]` as `c[None]` and simplify `c[:,:,None]` as `c[...,None]` \n",
      "### [1:03:37](https://youtu.be/4u8FxNEDUeg?list=PLfYUBJiXbdtTIdtE1U8qgyxo4Jy2Y91uj&t=3817) - how to write the broadcasting code to replace the for loop and how to thoroughly understand the code; what are the benefits of using broadcasting over many for loops (3700 times faster, less code less loops less error)\n",
      "### how to understand the second inner most loop is replaced by broadcasting (homework assigned by Jeremy) I have written the following code blocks to understand it.\n",
      "## Broadcasting Rules\n",
      "### [1:06:21](https://youtu.be/4u8FxNEDUeg?list=PLfYUBJiXbdtTIdtE1U8qgyxo4Jy2Y91uj&t=3981) - How to understand broadcasting rules; two vector or matrix do some operations, we check their shapes side by side, e.g., `a.shape==[1,4,5] vs b.shape==[3,1,5]`, according to the 2 rules, a will broadcast to 3 rows, b will grow to 3 columns, and a and b change nothing on the 3rd dimention. and `(a*b).shape == [3,4,5]`\n",
      "### Here is my own code for understanding the 2 rules of broadcasting\n",
      "### [1:10:02](https://youtu.be/4u8FxNEDUeg?list=PLfYUBJiXbdtTIdtE1U8qgyxo4Jy2Y91uj&t=4202) - why the broadcasting trick is the most important technique in creating fastai from scratch\n",
      "## Einstein summation\n",
      "### [1:10:43](https://youtu.be/4u8FxNEDUeg?list=PLfYUBJiXbdtTIdtE1U8qgyxo4Jy2Y91uj&t=4243) - how to understand Einstein summation and how to use `torch.einsum` to do matrix multiplication with no loop at all and speed up 16000 times faster than pure python 3-for loop version; how to trick `torch.einsum` to do batch matrix multiplication and even more transforms and tweaks\n",
      "### [1:15:48](https://youtu.be/4u8FxNEDUeg?list=PLfYUBJiXbdtTIdtE1U8qgyxo4Jy2Y91uj&t=4548) - what Jeremy does not like about `torch.einsum` and why APL, J and K are so great and what to expect from swift compiler, Julia\n",
      "## pytorch op\n",
      "### [1:18:23](https://youtu.be/4u8FxNEDUeg?list=PLfYUBJiXbdtTIdtE1U8qgyxo4Jy2Y91uj&t=4703) - `torch.matmul` can do matrix multiplication without loops and 50000 times faster than the pure python 3-for loops version; but the reason why `torch.matmul` is so much faster is because it uses a lib like BLAS written by Nvdia (cuBLAS) or AMD or Intel (MKL)which split the large matricies into smaller ones and doing calc without using up all the ram; what are the problems of using these gpu libraries like MKL and cuBLAS;\n",
      "### [1:21:48](https://youtu.be/4u8FxNEDUeg?list=PLfYUBJiXbdtTIdtE1U8qgyxo4Jy2Y91uj&t=4908) - `torch.matmul` and `@` are the same thing, but they can handle [a lot more](https://pytorch.org/docs/stable/generated/torch.matmul.html) including batch matrix multiplication\n",
      "### [1:22:33](https://youtu.be/4u8FxNEDUeg?list=PLfYUBJiXbdtTIdtE1U8qgyxo4Jy2Y91uj&t=4953) - What to do next; after having matrix multiplication fast enough, we need to initialize weights and biases, then create ReLU, then backward\n",
      "## Export\n",
      "\n",
      "/Users/Natsume/Documents/fastdebug/mds/fastai_notebooks/0021_fastai_pt2_2019_fully_connected.md\n",
      "## The forward and backward passes\n",
      "### get_data\n",
      "#### [1:23:03](https://youtu.be/4u8FxNEDUeg?list=PLfYUBJiXbdtTIdtE1U8qgyxo4Jy2Y91uj&t=4983) - how to download and prepare the mnist dataset and wrap the process into a function called `get_data`; \n",
      "### normalize(x, m, s)\n",
      "#### [1:23:48](https://youtu.be/4u8FxNEDUeg?list=PLfYUBJiXbdtTIdtE1U8qgyxo4Jy2Y91uj&t=5028) - how to create `normalize` function to use broadcast to normalize the Xs and Ys; what does normalization to Xs and Ys mean (make Xs and Ys to have a distribution whose mean is 0 and std is 1)? how to make the mean and std of Xs and Ys to be 0 and 1 (using the formula of normalization below) Why we don't use validation set's mean and std to normalization Xs and Ys of validation set but use those of training set? (make sure validation set and training set share the same scale as training set) What example did Jeremy give to explain the importance of using training set's mean and std for normalization of validation set\n",
      "### test_near_zero  and  assert\n",
      "#### [1:24:52](https://youtu.be/4u8FxNEDUeg?list=PLfYUBJiXbdtTIdtE1U8qgyxo4Jy2Y91uj&t=5092) - how to check the mean and std values are close to 0 and 1 using `test_near_zero` using `assert`\n",
      "### getting dimensions of weights of different layers\n",
      "#### [1:25:16](https://youtu.be/4u8FxNEDUeg?list=PLfYUBJiXbdtTIdtE1U8qgyxo4Jy2Y91uj&t=5116) - how to get the number of activations of each layer `n` (rows of input), `m` (columns of input), `c` (number of targets/classes) from the shape of `x_train` and `y_train`\n",
      "## Foundations version\n",
      "## Basic architecture\n",
      "### initialize weights/biases using Xavier init to ensure the first layer's activation with mean 0 and std 1\n",
      "#### [1:25:36](https://youtu.be/4u8FxNEDUeg?list=PLfYUBJiXbdtTIdtE1U8qgyxo4Jy2Y91uj&t=5136) - Let's create a simplest neuralnet with one hidden layer and a single output layer using mean absolute error for the single output rather than cross-entropy for 10 output; \n",
      "#### [1:26:15](https://youtu.be/4u8FxNEDUeg?list=PLfYUBJiXbdtTIdtE1U8qgyxo4Jy2Y91uj&t=5175) - how to use the matricies with random number for creating the weights and biases between input layer and the hidden layer, and the weights and biases between the hidden layer and the output layer; [1:26:46](https://youtu.be/4u8FxNEDUeg?list=PLfYUBJiXbdtTIdtE1U8qgyxo4Jy2Y91uj&t=5206) - with only randomly initialized weights and biases, the activations of the hidden layer will have terrible mean and std   [1:27:36](https://youtu.be/4u8FxNEDUeg?list=PLfYUBJiXbdtTIdtE1U8qgyxo4Jy2Y91uj&t=5256) - the simplifed version of Xavier init for initializing weights can ensure the activation to have mean 0 and std 1; and use `test_near_zero` to test whether the activation mean is near 0 and std is near 1; [1:29:04](https://youtu.be/4u8FxNEDUeg?list=PLfYUBJiXbdtTIdtE1U8qgyxo4Jy2Y91uj&t=5344) - how important is the initialization of weights and biases to make training work; there are even researches to prove with carful initialization of weights without normalization of activations or inputs can make training work for a model with even 10000 layers; and even one-cycle training and super convergence are turned out to be all about initializations\n",
      "#### using standared xavier init to initialize weights and biases\n",
      "#### x_valid has alread by normalized to have mean 0 and std 1\n",
      "#### write linear layer from scratch\n",
      "#### check mean and std of activations of first layer\n",
      "### writing a linear layer with relu from scratch\n",
      "#### [1:30:09](https://youtu.be/4u8FxNEDUeg?list=PLfYUBJiXbdtTIdtE1U8qgyxo4Jy2Y91uj&t=5409) - what is the first layer look like; how should we write relu function to maximize the speed `x.clamp_min(0.)`; how should we write functions in pytorch to maximize the speed in general;\n",
      "### [1:30:50](https://youtu.be/4u8FxNEDUeg?list=PLfYUBJiXbdtTIdtE1U8qgyxo4Jy2Y91uj&t=5450) - but relu does not return the activation with mean 0 and std 1, (actually halved the std, and the gradients for updating weights will be gone when more layers or more ReLUs applied) and Jeremy explained why it is so\n",
      "### [1:31:47](https://youtu.be/4u8FxNEDUeg?list=PLfYUBJiXbdtTIdtE1U8qgyxo4Jy2Y91uj&t=5505) - Jeremy introduced and lead us reading **Delving Deep into Rectifiers** by He; why we should read papers from competition winners than other papers; [1:32:43](https://youtu.be/4u8FxNEDUeg?list=PLfYUBJiXbdtTIdtE1U8qgyxo4Jy2Y91uj&t=5563) - Jeremy explained Rectifiers in the paper and why random weights/biases won't get trained well using He's paper and Xavier's paper (Xavier's initialization didn't account for the impact of ReLU, this is where He's paper come in); the homework is to read this section (2.2) of the He's paper.\n",
      "### [1:36:26](https://youtu.be/4u8FxNEDUeg?list=PLfYUBJiXbdtTIdtE1U8qgyxo4Jy2Y91uj&t=5786) - Jeremy provided a guidance to us on how to read the Resnet paper\n",
      "### [1:39:44](https://youtu.be/4u8FxNEDUeg?list=PLfYUBJiXbdtTIdtE1U8qgyxo4Jy2Y91uj&t=5984) - how to use pytorch function `torch.nn.init.kaiming_normal_` to do He init and how to dig into pytorch source code to figure out how to use those functions correctly like why `fan_out` in `init.kaiming_normal_(w1, mode='fan_out')` \n",
      "### [1:42:56](https://youtu.be/4u8FxNEDUeg?list=PLfYUBJiXbdtTIdtE1U8qgyxo4Jy2Y91uj&t=6176) - how to find and read source code of convolutional layer in pytorch and why it is a good idea to put the url of the paper you are implementing in the source code\n",
      "### [1:38:55](https://youtu.be/4u8FxNEDUeg?list=PLfYUBJiXbdtTIdtE1U8qgyxo4Jy2Y91uj&t=5935)  - Jeremy noticed a problem of the He initialization on the value of mean and explained why so; then he tried to a simple but natural method to bring the mean to 0 and the result seems very good and ended here at [1:39:44](https://youtu.be/4u8FxNEDUeg?list=PLfYUBJiXbdtTIdtE1U8qgyxo4Jy2Y91uj&t=5984) [1:44:35](https://youtu.be/4u8FxNEDUeg?list=PLfYUBJiXbdtTIdtE1U8qgyxo4Jy2Y91uj&t=6275) - how much better does Jeremy's tweaked ReLU work for getting activation mean to 0 and std to 0.8 rather than previously 0.7\n",
      "### [1:45:28](https://youtu.be/4u8FxNEDUeg?list=PLfYUBJiXbdtTIdtE1U8qgyxo4Jy2Y91uj&t=6328) - how to build our model `model` using the functions `lin`, `relu` we built above; how to test how fast it is to run; and how to verify the shape of the model output to be correct\n",
      "## Loss function: MSE\n",
      "### [1:46:15](https://youtu.be/4u8FxNEDUeg?list=PLfYUBJiXbdtTIdtE1U8qgyxo4Jy2Y91uj&t=6375) - how to write mean squared error as our loss function (we never use it but only use mse as a starting point for our loss); how to squeeze a tensor with shape [n, 1] to just shape [n] using `output.squeeze(-1)`\n",
      "## Gradients and backward pass\n",
      "### [1:48:00](https://youtu.be/4u8FxNEDUeg?list=PLfYUBJiXbdtTIdtE1U8qgyxo4Jy2Y91uj&t=6480) - Jeremy has given us all the [matrix calculus](https://explained.ai/matrix-calculus/index.html) we need for deep learning for total beginners;  [1:49:12](https://youtu.be/4u8FxNEDUeg?list=PLfYUBJiXbdtTIdtE1U8qgyxo4Jy2Y91uj&t=6552) - how to understand and do the chain rule in terms of getting gradients with respect to params of our model and how to understand derivative in plain language; [1:52:56](https://youtu.be/4u8FxNEDUeg?list=PLfYUBJiXbdtTIdtE1U8qgyxo4Jy2Y91uj&t=6776) - how to calculuate the derivate or gradient with respect to the output of previous layer or funcs ( `mse`, `lin`, `relu` )\n",
      "### [1:55:22](https://youtu.be/4u8FxNEDUeg?list=PLfYUBJiXbdtTIdtE1U8qgyxo4Jy2Y91uj&t=6922) - how to put forward pass and backward pass into one function `foward_and_backward`; and backward pass is the chain rule (people who say No are liars) and saving the gradients as well; \n",
      "### [1:56:41](https://youtu.be/4u8FxNEDUeg?list=PLfYUBJiXbdtTIdtE1U8qgyxo4Jy2Y91uj&t=7001) - how to use pytorch's gradient calculation functions to test whether our own gradients are calculated correctly; \n",
      "## Refactor model\n",
      "## Layers as classes\n",
      "### [1:58:16](https://youtu.be/4u8FxNEDUeg?list=PLfYUBJiXbdtTIdtE1U8qgyxo4Jy2Y91uj&t=7096) - how to refactor the previous funcs into classes; After Jeremy has done the refactory work, it becomes almost identical to pytorch api \n",
      "## Module.forward()\n",
      "### [2:02:36](https://youtu.be/4u8FxNEDUeg?list=PLfYUBJiXbdtTIdtE1U8qgyxo4Jy2Y91uj&t=7356) - how to remove duplicated codes by adding another class Module and using `einsum`, and as a result, our refactor codes become identical to pytorch api; this step truly help make sense pytorch api\n",
      "## Without einsum\n",
      "### [2:04:44](https://youtu.be/4u8FxNEDUeg?list=PLfYUBJiXbdtTIdtE1U8qgyxo4Jy2Y91uj&t=7484) - how to replace `einsum` with pure matrix multiplication with `@`; and as a result, our own code from scratch is as fast as pytorch  [2:05:44](https://youtu.be/4u8FxNEDUeg?list=PLfYUBJiXbdtTIdtE1U8qgyxo4Jy2Y91uj&t=7544) plan for the next lesson\n",
      "### nn.Linear and nn.Module\n",
      "## Export\n",
      "\n",
      "/Users/Natsume/Documents/fastdebug/mds/fastai_notebooks/0020_fastai_pt2_2019_source_explained.md\n",
      "### [32:38](https://youtu.be/4u8FxNEDUeg?list=PLfYUBJiXbdtTIdtE1U8qgyxo4Jy2Y91uj&t=1958) - Jeremy explains the [source](https://github.com/fastai/course-v3/blob/7fceebfd14d4f3bc7e0ec649834309b8cb786e40/nbs/dl2/run_notebook.py) code of `run_notebook.py` on how it execute a notebook and how to turn a func running inside a notebook to a function which can run in terminal\n",
      "### [34:08](https://youtu.be/4u8FxNEDUeg?list=PLfYUBJiXbdtTIdtE1U8qgyxo4Jy2Y91uj&t=2048) - Jeremy explaining the [source](https://github.com/fastai/course-v3/blob/7fceebfd14d4f3bc7e0ec649834309b8cb786e40/nbs/dl2/notebook2script.py#L32) code of `notebook2script.py`; Jupyter [notebook](https://nbviewer.org/github/fastai/course-v3/blob/7fceebfd14d4f3bc7e0ec649834309b8cb786e40/nbs/dl2/00_exports.ipynb) is just a json data file\n",
      "#################################################\n",
      "### THIS FILE WAS AUTOGENERATED! DO NOT EDIT! ###\n",
      "#################################################\n",
      "\n",
      "/Users/Natsume/Documents/fastdebug/mds/fastai_notebooks/0018_fastai_pt2_2019_exports.md\n",
      "### [28:09](https://youtu.be/4u8FxNEDUeg?list=PLfYUBJiXbdtTIdtE1U8qgyxo4Jy2Y91uj&t=1689) - how to build a library with jupyter notebook with export and notebook2script.py (fastforward to 2022, we use `#| export`, `nbdev_export`, `#| default_exp`) Jupyter [notebook](https://nbviewer.org/github/fastai/course-v3/blob/7fceebfd14d4f3bc7e0ec649834309b8cb786e40/nbs/dl2/00_exports.ipynb) is just a json data file\n",
      "\n",
      "/Users/Natsume/Documents/fastdebug/mds/fastai_notebooks/0019_fastai_pt2_2019_lecture1_intro.md\n",
      "## Resources\n",
      "## Lecture 1\n",
      "### [00:00](https://youtu.be/4u8FxNEDUeg?list=PLfYUBJiXbdtTIdtE1U8qgyxo4Jy2Y91uj&t=0)-[06:47](https://youtu.be/4u8FxNEDUeg?list=PLfYUBJiXbdtTIdtE1U8qgyxo4Jy2Y91uj&t=407) What is the purpose of part 2 of fastai course? \n",
      "### [14:51](https://youtu.be/4u8FxNEDUeg?list=PLfYUBJiXbdtTIdtE1U8qgyxo4Jy2Y91uj&t=891) - what will we use to rewrite fastai from scratch\n",
      "### [16:45](https://youtu.be/4u8FxNEDUeg?list=PLfYUBJiXbdtTIdtE1U8qgyxo4Jy2Y91uj&t=1005) - what are the great benefits of rewriting fastai from scratch\n",
      "### [18:48](https://youtu.be/4u8FxNEDUeg?list=PLfYUBJiXbdtTIdtE1U8qgyxo4Jy2Y91uj&t=1128) - what are the opportunities for us during the rewriting\n",
      "### [19:45](https://youtu.be/4u8FxNEDUeg?list=PLfYUBJiXbdtTIdtE1U8qgyxo4Jy2Y91uj&t=1185) - what are required of us to do part 2\n",
      "### [21:01](https://youtu.be/4u8FxNEDUeg?list=PLfYUBJiXbdtTIdtE1U8qgyxo4Jy2Y91uj&t=1261) - how to create a good model in 3 steps\n",
      "### [22:11](https://youtu.be/4u8FxNEDUeg?list=PLfYUBJiXbdtTIdtE1U8qgyxo4Jy2Y91uj&t=1331) - what are the 5 steps to reduce overfitting and why the last 2 steps should be the last\n",
      "### [23:10](https://youtu.be/4u8FxNEDUeg?list=PLfYUBJiXbdtTIdtE1U8qgyxo4Jy2Y91uj&t=1390) - how Jeremy feel when reading papers; how to read papers; how to deal with greek letters in math; how to balance between papers and blog posts explaining papers\n",
      "### [25:27](https://youtu.be/4u8FxNEDUeg?list=PLfYUBJiXbdtTIdtE1U8qgyxo4Jy2Y91uj&t=1527) - where to find and learn math symbols\n",
      "### [26:14](https://youtu.be/4u8FxNEDUeg?list=PLfYUBJiXbdtTIdtE1U8qgyxo4Jy2Y91uj&t=1574) - The detailed learning objectives for the next few lessons\n"
     ]
    }
   ],
   "source": [
    "fastlistnbs(flt_fd=\"part2\")"
   ]
  },
  {
   "cell_type": "markdown",
   "id": "34c1ac6e",
   "metadata": {},
   "source": [
    "## fastlistsrcs"
   ]
  },
  {
   "cell_type": "markdown",
   "id": "1b8be1a3",
   "metadata": {},
   "source": [
    "Todos: it should be retired by fastlistnbs() after all src notebooks are properly documented."
   ]
  },
  {
   "cell_type": "code",
   "execution_count": null,
   "id": "5a1bbb3f",
   "metadata": {},
   "outputs": [],
   "source": [
    "#| export\n",
    "def fastlistsrcs():\n",
    "    \"display all my commented src codes learning comments in a long list\"\n",
    "    folder ='/Users/Natsume/Documents/fastdebug/learnings/'\n",
    "    for f in os.listdir(folder):\n",
    "        if f.endswith(\".py\"):\n",
    "            path_f = folder + f\n",
    "            with open(path_f, 'r') as file:\n",
    "                for idx, l in enumerate(file):\n",
    "                    if \"#\" in l:\n",
    "                        print(l.split(\"#\")[1], end=\"\")\n",
    "#                         print(l, end=\"\") # no extra new line between each line printed\n",
    "        "
   ]
  },
  {
   "cell_type": "code",
   "execution_count": null,
   "id": "11dde691",
   "metadata": {},
   "outputs": [
    {
     "data": {
      "text/markdown": [
       "keyword match is <mark style=\"background-color: #ffff00\">1.0</mark> , found a line: in <mark style=\"background-color: #FFFF00\">test_sig.py</mark> "
      ],
      "text/plain": [
       "<IPython.core.display.Markdown object>"
      ]
     },
     "metadata": {},
     "output_type": "display_data"
    },
    {
     "name": "stdout",
     "output_type": "stream",
     "text": [
      "    \"Test the signature of an object\"=====================================================(1) # \u001b[34;1mtest_sig(f:FunctionType or ClassType, b:str)\u001b[0m; \u001b[92;1mtest_sig will get f's signature as a string\u001b[0m; \u001b[36;1mb is a signature in string provided by the user\u001b[0m; \u001b[35;1min fact, test_sig is to compare two strings\u001b[0m; \n",
      "\n"
     ]
    },
    {
     "data": {
      "text/markdown": [
       "the entire source code in <mark style=\"background-color: #FFFF00\">test_sig.py</mark> "
      ],
      "text/plain": [
       "<IPython.core.display.Markdown object>"
      ]
     },
     "metadata": {},
     "output_type": "display_data"
    },
    {
     "name": "stdout",
     "output_type": "stream",
     "text": [
      "\n",
      "def func_2(h,i=3, j=[5,6]): pass\n",
      "test_sig(func_2, '(h, i=3, j=[5, 6])')\n",
      "\n",
      "def test_sig(f, b):=======================================================================(0)       \n",
      "    \"Test the signature of an object\"=====================================================(1) # \u001b[34;1mtest_sig(f:FunctionType or ClassType, b:str)\u001b[0m; \u001b[92;1mtest_sig will get f's signature as a string\u001b[0m; \u001b[36;1mb is a signature in string provided by the user\u001b[0m; \u001b[35;1min fact, test_sig is to compare two strings\u001b[0m; \n",
      "    test_eq(str(inspect.signature(f)), b)=================================================(2) # \u001b[35;1mtest_sig is to test two strings with test_eq\u001b[0m; \u001b[36;1mhow to turn a signature into a string;\u001b[0m; \n",
      "                                                                                                                                                        (3)\n",
      "\n"
     ]
    },
    {
     "ename": "NameError",
     "evalue": "name 'openNB' is not defined",
     "output_type": "error",
     "traceback": [
      "\u001b[0;31m---------------------------------------------------------------------------\u001b[0m",
      "\u001b[0;31mNameError\u001b[0m                                 Traceback (most recent call last)",
      "Input \u001b[0;32mIn [97]\u001b[0m, in \u001b[0;36m<cell line: 1>\u001b[0;34m()\u001b[0m\n\u001b[0;32m----> 1\u001b[0m \u001b[43mfastcodes\u001b[49m\u001b[43m(\u001b[49m\u001b[38;5;124;43m\"\u001b[39;49m\u001b[38;5;124;43mTest the signature\u001b[39;49m\u001b[38;5;124;43m\"\u001b[39;49m\u001b[43m,\u001b[49m\u001b[43m \u001b[49m\u001b[43mnb\u001b[49m\u001b[38;5;241;43m=\u001b[39;49m\u001b[38;5;28;43;01mTrue\u001b[39;49;00m\u001b[43m)\u001b[49m\n",
      "Input \u001b[0;32mIn [82]\u001b[0m, in \u001b[0;36mfastcodes\u001b[0;34m(question, accu, nb, db)\u001b[0m\n\u001b[1;32m     28\u001b[0m \u001b[38;5;28mprint\u001b[39m()\n\u001b[1;32m     29\u001b[0m \u001b[38;5;28;01mif\u001b[39;00m nb:\n\u001b[0;32m---> 30\u001b[0m     \u001b[43mopenNB\u001b[49m(name)\n",
      "\u001b[0;31mNameError\u001b[0m: name 'openNB' is not defined"
     ]
    }
   ],
   "source": [
    "fastcodes(\"Test the signature\", nb=True)"
   ]
  },
  {
   "cell_type": "code",
   "execution_count": null,
   "id": "c57e2258",
   "metadata": {},
   "outputs": [],
   "source": []
  },
  {
   "cell_type": "code",
   "execution_count": null,
   "id": "e62bc881",
   "metadata": {},
   "outputs": [],
   "source": []
  },
  {
   "cell_type": "markdown",
   "id": "51bfa0bd",
   "metadata": {},
   "source": [
    "## Best practice of fastdebug.core"
   ]
  },
  {
   "cell_type": "markdown",
   "id": "f7ffb550",
   "metadata": {},
   "source": [
    "1. test some examples \n",
    "\n",
    "2. import fastdebug and initialize fdb objects, put examples into fdb.eg\n",
    "\n",
    "3. run fdb.snoop() to see all lines that get run\n",
    "\n",
    "4. if error, run fdb.debug() to check for clues\n",
    "\n",
    "5. run fdb.print() to see bare source\n",
    "\n",
    "6. run fdb.docsrc() to run expression and document srcline\n",
    "\n",
    "7. how snoop: from _funcs_kwargs to funcs_kwargs, see the learning point below\n",
    " \n"
   ]
  },
  {
   "cell_type": "code",
   "execution_count": null,
   "id": "3aaf7624",
   "metadata": {},
   "outputs": [
    {
     "data": {
      "text/markdown": [
       "### <mark style=\"background-color: #ffff00\">snoop:</mark>  <mark style=\"background-color: #ffff00\">from</mark>  <mark style=\"background-color: #ffff00\">_funcs_kwargs</mark>  <mark style=\"background-color: #ffff00\">to</mark>  <mark style=\"background-color: #FFFF00\">funcs_kwargs</mark> \n"
      ],
      "text/plain": [
       "<IPython.core.display.Markdown object>"
      ]
     },
     "metadata": {},
     "output_type": "display_data"
    },
    {
     "name": "stdout",
     "output_type": "stream",
     "text": [
      "The current section is heading 3.\n",
      "\n",
      "\n",
      "how to snoop on two functions one wrap around another: `funcs_kwargs` is a wrapper around `_funcs_kwargs`, so I can first snoop on `_funcs_kwargs` and assign its snoop dbsrc to \\\n",
      "`fm._funcs_kwargs` so that when I snoop on `funcs_kwargs`, it can use the snoop dbsrc of `_funcs_kwargs` and no example codes need to change.\n",
      "\n",
      "\n",
      "```\n",
      "from fastcore.meta import _funcs_kwargs\n",
      "```\n",
      "\n",
      "\n",
      "```\n",
      "fdb_ = Fastdb(_funcs_kwargs)\n",
      "fdb_.eg = \"\"\"\n",
      "@funcs_kwargs\n",
      "class T:\n",
      "    _methods=['b'] # allows you to add method b upon instantiation\n",
      "    def __init__(self, f=1, **kwargs): pass # don't forget to include **kwargs in __init__\n",
      "    def a(self): return 1\n",
      "    def b(self): return 2\n",
      "    \n",
      "t = T()\n",
      "test_eq(t.a(), 1)\n",
      "test_eq(t.b(), 2)\n",
      "\n",
      "test_sig(T, '(f=1, *, b=None)')\n",
      "inspect.signature(T)\n",
      "\n",
      "def _new_func(): return 5\n",
      "\n",
      "t = T(b = _new_func)\n",
      "test_eq(t.b(), 5)\n",
      "\n",
      "t = T(a = lambda:3)\n",
      "test_eq(t.a(), 1) # the attempt to add a is ignored and uses the original method instead.\n",
      "\"\"\"\n",
      "```\n",
      "\n",
      "\n",
      "```\n",
      "#| column: screen\n",
      "# no snoop result, it is expected, because the example is not calling _funcs_kwargs, but funcs_kwargs\n",
      "fdb_.snoop(deco=True) # how to snoop decorator: _funcs_kwargs is a decorator, so set deco=True to see running codes in inner f\n",
      "```\n",
      "\n",
      "    ======================================================     Investigating \u001b[91;1m_funcs_kwargs\u001b[0m     =======================================================\n",
      "    ==============================================================     on line \u001b[91;1mNone\u001b[0m     ==============================================================\n",
      "         with example \u001b[91;1m\n",
      "    @funcs_kwargs\n",
      "    class T:\n",
      "        _methods=['b'] # allows you to add method b upon instantiation\n",
      "        def __init__(self, f=1, **kwargs): pass # don't forget to include **kwargs in __init__\n",
      "        def a(self): return 1\n",
      "        def b(self): return 2\n",
      "        \n",
      "    t = T()\n",
      "    test_eq(t.a(), 1)\n",
      "    test_eq(t.b(), 2)\n",
      "    \n",
      "    test_sig(T, '(f=1, *, b=None)')\n",
      "    inspect.signature(T)\n",
      "    \n",
      "    def _new_func(): return 5\n",
      "    \n",
      "    t = T(b = _new_func)\n",
      "    test_eq(t.b(), 5)\n",
      "    \n",
      "    t = T(a = lambda:3)\n",
      "    test_eq(t.a(), 1) # the attempt to add a is ignored and uses the original method instead.\n",
      "    \u001b[0m     \n",
      "    \n",
      "\n",
      "\n",
      "\n",
      "```\n",
      "import fastcore.meta as fm\n",
      "```\n",
      "\n",
      "\n",
      "```\n",
      "fm._funcs_kwargs = fdb_.dbsrc # how to snoop on two functions one wrap around another\n",
      "```\n",
      "\n",
      "\n",
      "```\n",
      "fdb = Fastdb(funcs_kwargs)\n",
      "fdb.eg = \"\"\"\n",
      "@funcs_kwargs\n",
      "class T:\n",
      "    _methods=['b'] # allows you to add method b upon instantiation\n",
      "    def __init__(self, f=1, **kwargs): pass # don't forget to include **kwargs in __init__\n",
      "    def a(self): return 1\n",
      "    def b(self): return 2\n",
      "    \n",
      "t = T()\n",
      "test_eq(t.a(), 1)\n",
      "test_eq(t.b(), 2)\n",
      "\n",
      "test_sig(T, '(f=1, *, b=None)')\n",
      "inspect.signature(T)\n",
      "\n",
      "def _new_func(): return 5\n",
      "\n",
      "t = T(b = _new_func)\n",
      "test_eq(t.b(), 5)\n",
      "\n",
      "t = T(a = lambda:3)\n",
      "test_eq(t.a(), 1) # the attempt to add a is ignored and uses the original method instead.\n",
      "\n",
      "def _f(self,a=1): return self.num + a # access the num attribute from the instance\n",
      "\n",
      "@funcs_kwargs(as_method=True)\n",
      "class T: \n",
      "    _methods=['b']\n",
      "    num = 5\n",
      "    \n",
      "t = T(b = _f) # adds method b\n",
      "test_eq(t.b(5), 10) # self.num + 5 = 10\n",
      "\n",
      "def _f(self,a=1): return self.num * a #multiply instead of add \n",
      "\n",
      "class T2(T):\n",
      "    def __init__(self,num):\n",
      "        super().__init__(b = _f) # add method b from the super class\n",
      "        self.num=num\n",
      "        \n",
      "t = T2(num=3)\n",
      "test_eq(t.b(a=5), 15) # 3 * 5 = 15\n",
      "test_sig(T2, '(num)')\n",
      "\"\"\"\n",
      "```\n",
      "\n",
      "\n",
      "```\n",
      "#| column: screen\n",
      "fdb.print()\n",
      "```\n",
      "\n",
      "    =======================================================     Investigating \u001b[91;1mfuncs_kwargs\u001b[0m     =======================================================\n",
      "    ==============================================================     on line \u001b[91;1mNone\u001b[0m     ==============================================================\n",
      "         with example \u001b[91;1m\n",
      "    @funcs_kwargs\n",
      "    class T:\n",
      "        _methods=['b'] # allows you to add method b upon instantiation\n",
      "        def __init__(self, f=1, **kwargs): pass # don't forget to include **kwargs in __init__\n",
      "        def a(self): return 1\n",
      "        def b(self): return 2\n",
      "        \n",
      "    t = T()\n",
      "    test_eq(t.a(), 1)\n",
      "    test_eq(t.b(), 2)\n",
      "    \n",
      "    test_sig(T, '(f=1, *, b=None)')\n",
      "    inspect.signature(T)\n",
      "    \n",
      "    def _new_func(): return 5\n",
      "    \n",
      "    t = T(b = _new_func)\n",
      "    test_eq(t.b(), 5)\n",
      "    \n",
      "    t = T(a = lambda:3)\n",
      "    test_eq(t.a(), 1) # the attempt to add a is ignored and uses the original method instead.\n",
      "    \n",
      "    def _f(self,a=1): return self.num + a # access the num attribute from the instance\n",
      "    \n",
      "    @funcs_kwargs(as_method=True)\n",
      "    class T: \n",
      "        _methods=['b']\n",
      "        num = 5\n",
      "        \n",
      "    t = T(b = _f) # adds method b\n",
      "    test_eq(t.b(5), 10) # self.num + 5 = 10\n",
      "    \n",
      "    def _f(self,a=1): return self.num * a #multiply instead of add \n",
      "    \n",
      "    class T2(T):\n",
      "        def __init__(self,num):\n",
      "            super().__init__(b = _f) # add method b from the super class\n",
      "            self.num=num\n",
      "            \n",
      "    t = T2(num=3)\n",
      "    test_eq(t.b(a=5), 15) # 3 * 5 = 15\n",
      "    test_sig(T2, '(num)')\n",
      "    \u001b[0m     \n",
      "    \n",
      "    def funcs_kwargs(as_method=False):========================================================(0)       \n",
      "        \"Replace methods in `cls._methods` with those from `kwargs`\"==========================(1)       \n",
      "        if callable(as_method): return _funcs_kwargs(as_method, False)========================(2)       \n",
      "        return partial(_funcs_kwargs, as_method=as_method)====================================(3)       \n",
      "                                                                                                                                                            (4)\n",
      "\n",
      "\n",
      "\n",
      "```\n",
      "#| column: screen\n",
      "fdb_.print()\n",
      "```\n",
      "\n",
      "    ======================================================     Investigating \u001b[91;1m_funcs_kwargs\u001b[0m     =======================================================\n",
      "    ==============================================================     on line \u001b[91;1mNone\u001b[0m     ==============================================================\n",
      "         with example \u001b[91;1m\n",
      "    @funcs_kwargs\n",
      "    class T:\n",
      "        _methods=['b'] # allows you to add method b upon instantiation\n",
      "        def __init__(self, f=1, **kwargs): pass # don't forget to include **kwargs in __init__\n",
      "        def a(self): return 1\n",
      "        def b(self): return 2\n",
      "        \n",
      "    t = T()\n",
      "    test_eq(t.a(), 1)\n",
      "    test_eq(t.b(), 2)\n",
      "    \n",
      "    test_sig(T, '(f=1, *, b=None)')\n",
      "    inspect.signature(T)\n",
      "    \n",
      "    def _new_func(): return 5\n",
      "    \n",
      "    t = T(b = _new_func)\n",
      "    test_eq(t.b(), 5)\n",
      "    \n",
      "    t = T(a = lambda:3)\n",
      "    test_eq(t.a(), 1) # the attempt to add a is ignored and uses the original method instead.\n",
      "    \n",
      "    \u001b[0m     \n",
      "    \n",
      "    def _funcs_kwargs(cls, as_method):========================================================(0)       \n",
      "        old_init = cls.__init__===============================================================(1)       \n",
      "        def _init(self, *args, **kwargs):=====================================================(2)       \n",
      "            for k in cls._methods:============================================================(3)       \n",
      "                arg = kwargs.pop(k,None)======================================================(4)       \n",
      "                if arg is not None:===========================================================(5)       \n",
      "                    if as_method: arg = method(arg)===========================================(6)       \n",
      "                    if isinstance(arg,MethodType): arg = MethodType(arg.__func__, self)=======(7)       \n",
      "                    setattr(self, k, arg)=====================================================(8)       \n",
      "            old_init(self, *args, **kwargs)===================================================(9)       \n",
      "        functools.update_wrapper(_init, old_init)=============================================(10)      \n",
      "        cls.__init__ = use_kwargs(cls._methods)(_init)========================================(11)      \n",
      "        if hasattr(cls, '__signature__'): cls.__signature__ = _rm_self(inspect.signature(cls.__init__))                                                     (12)\n",
      "        return cls============================================================================(13)      \n",
      "                                                                                                                                                            (14)\n",
      "\n",
      "\n",
      "\n",
      "```\n",
      "#| column: screen\n",
      "fdb.docsrc(1, \"how funcs_kwargs works; it is a wrapper around _funcs_kwargs; it offers two ways of running _funcs_kwargs; \\\n",
      "the first, default way, is to add a func to a class without using self; second way is to add func to class enabling self use;\")\n",
      "fdb.docsrc(2, \"how to check whether an object is callable; how to return a result of running a func; \")\n",
      "fdb.docsrc(3, \"how to custom the params of `_funcs_kwargs` for a particular use with partial\")\n",
      "```\n",
      "\n",
      "    =======================================================     Investigating \u001b[91;1mfuncs_kwargs\u001b[0m     =======================================================\n",
      "    ===============================================================     on line \u001b[91;1m1\u001b[0m     ================================================================\n",
      "         with example \u001b[91;1m\n",
      "    @funcs_kwargs\n",
      "    class T:\n",
      "        _methods=['b'] # allows you to add method b upon instantiation\n",
      "        def __init__(self, f=1, **kwargs): pass # don't forget to include **kwargs in __init__\n",
      "        def a(self): return 1\n",
      "        def b(self): return 2\n",
      "        \n",
      "    t = T()\n",
      "    test_eq(t.a(), 1)\n",
      "    test_eq(t.b(), 2)\n",
      "    \n",
      "    test_sig(T, '(f=1, *, b=None)')\n",
      "    inspect.signature(T)\n",
      "    \n",
      "    def _new_func(): return 5\n",
      "    \n",
      "    t = T(b = _new_func)\n",
      "    test_eq(t.b(), 5)\n",
      "    \n",
      "    t = T(a = lambda:3)\n",
      "    test_eq(t.a(), 1) # the attempt to add a is ignored and uses the original method instead.\n",
      "    \n",
      "    def _f(self,a=1): return self.num + a # access the num attribute from the instance\n",
      "    \n",
      "    @funcs_kwargs(as_method=True)\n",
      "    class T: \n",
      "        _methods=['b']\n",
      "        num = 5\n",
      "        \n",
      "    t = T(b = _f) # adds method b\n",
      "    test_eq(t.b(5), 10) # self.num + 5 = 10\n",
      "    \n",
      "    def _f(self,a=1): return self.num * a #multiply instead of add \n",
      "    \n",
      "    class T2(T):\n",
      "        def __init__(self,num):\n",
      "            super().__init__(b = _f) # add method b from the super class\n",
      "            self.num=num\n",
      "            \n",
      "    t = T2(num=3)\n",
      "    test_eq(t.b(a=5), 15) # 3 * 5 = 15\n",
      "    test_sig(T2, '(num)')\n",
      "    \u001b[0m     \n",
      "    \n",
      "    \u001b[93;1mprint selected srcline with expands below\u001b[0m--------\n",
      "    def funcs_kwargs(as_method=False):                                                                                                                      (0)\n",
      "        \"Replace methods in `cls._methods` with those from `kwargs`\"========================================================================================(1)\n",
      "    \u001b[91;1mhow funcs_kwargs works; it is a wrapper around _funcs_kwargs; it offers two ways of running _funcs_kwargs; the first, default way, is to add a func to a class without using self; second way is to add func to class enabling self use;\u001b[0m\n",
      "        if callable(as_method): return _funcs_kwargs(as_method, False)                                                                                      (2)\n",
      "        return partial(_funcs_kwargs, as_method=as_method)                                                                                                  (3)\n",
      "    =======================================================     Investigating \u001b[91;1mfuncs_kwargs\u001b[0m     =======================================================\n",
      "    ===============================================================     on line \u001b[91;1m2\u001b[0m     ================================================================\n",
      "         with example \u001b[91;1m\n",
      "    @funcs_kwargs\n",
      "    class T:\n",
      "        _methods=['b'] # allows you to add method b upon instantiation\n",
      "        def __init__(self, f=1, **kwargs): pass # don't forget to include **kwargs in __init__\n",
      "        def a(self): return 1\n",
      "        def b(self): return 2\n",
      "        \n",
      "    t = T()\n",
      "    test_eq(t.a(), 1)\n",
      "    test_eq(t.b(), 2)\n",
      "    \n",
      "    test_sig(T, '(f=1, *, b=None)')\n",
      "    inspect.signature(T)\n",
      "    \n",
      "    def _new_func(): return 5\n",
      "    \n",
      "    t = T(b = _new_func)\n",
      "    test_eq(t.b(), 5)\n",
      "    \n",
      "    t = T(a = lambda:3)\n",
      "    test_eq(t.a(), 1) # the attempt to add a is ignored and uses the original method instead.\n",
      "    \n",
      "    def _f(self,a=1): return self.num + a # access the num attribute from the instance\n",
      "    \n",
      "    @funcs_kwargs(as_method=True)\n",
      "    class T: \n",
      "        _methods=['b']\n",
      "        num = 5\n",
      "        \n",
      "    t = T(b = _f) # adds method b\n",
      "    test_eq(t.b(5), 10) # self.num + 5 = 10\n",
      "    \n",
      "    def _f(self,a=1): return self.num * a #multiply instead of add \n",
      "    \n",
      "    class T2(T):\n",
      "        def __init__(self,num):\n",
      "            super().__init__(b = _f) # add method b from the super class\n",
      "            self.num=num\n",
      "            \n",
      "    t = T2(num=3)\n",
      "    test_eq(t.b(a=5), 15) # 3 * 5 = 15\n",
      "    test_sig(T2, '(num)')\n",
      "    \u001b[0m     \n",
      "    \n",
      "    \u001b[93;1mprint selected srcline with expands below\u001b[0m--------\n",
      "    def funcs_kwargs(as_method=False):                                                                                                                      (0)\n",
      "        \"Replace methods in `cls._methods` with those from `kwargs`\"                                                                                        (1)\n",
      "        if callable(as_method): return _funcs_kwargs(as_method, False)======================================================================================(2)\n",
      "                                                                           \u001b[91;1mhow to check whether an object is callable; how to return a result of running a func; \u001b[0m\n",
      "        return partial(_funcs_kwargs, as_method=as_method)                                                                                                  (3)\n",
      "                                                                                                                                                            (4)\n",
      "    =======================================================     Investigating \u001b[91;1mfuncs_kwargs\u001b[0m     =======================================================\n",
      "    ===============================================================     on line \u001b[91;1m3\u001b[0m     ================================================================\n",
      "         with example \u001b[91;1m\n",
      "    @funcs_kwargs\n",
      "    class T:\n",
      "        _methods=['b'] # allows you to add method b upon instantiation\n",
      "        def __init__(self, f=1, **kwargs): pass # don't forget to include **kwargs in __init__\n",
      "        def a(self): return 1\n",
      "        def b(self): return 2\n",
      "        \n",
      "    t = T()\n",
      "    test_eq(t.a(), 1)\n",
      "    test_eq(t.b(), 2)\n",
      "    \n",
      "    test_sig(T, '(f=1, *, b=None)')\n",
      "    inspect.signature(T)\n",
      "    \n",
      "    def _new_func(): return 5\n",
      "    \n",
      "    t = T(b = _new_func)\n",
      "    test_eq(t.b(), 5)\n",
      "    \n",
      "    t = T(a = lambda:3)\n",
      "    test_eq(t.a(), 1) # the attempt to add a is ignored and uses the original method instead.\n",
      "    \n",
      "    def _f(self,a=1): return self.num + a # access the num attribute from the instance\n",
      "    \n",
      "    @funcs_kwargs(as_method=True)\n",
      "    class T: \n",
      "        _methods=['b']\n",
      "        num = 5\n",
      "        \n",
      "    t = T(b = _f) # adds method b\n",
      "    test_eq(t.b(5), 10) # self.num + 5 = 10\n",
      "    \n",
      "    def _f(self,a=1): return self.num * a #multiply instead of add \n",
      "    \n",
      "    class T2(T):\n",
      "        def __init__(self,num):\n",
      "            super().__init__(b = _f) # add method b from the super class\n",
      "            self.num=num\n",
      "            \n",
      "    t = T2(num=3)\n",
      "    test_eq(t.b(a=5), 15) # 3 * 5 = 15\n",
      "    test_sig(T2, '(num)')\n",
      "    \u001b[0m     \n",
      "    \n",
      "    \u001b[93;1mprint selected srcline with expands below\u001b[0m--------\n",
      "        \"Replace methods in `cls._methods` with those from `kwargs`\"                                                                                        (1)\n",
      "        if callable(as_method): return _funcs_kwargs(as_method, False)                                                                                      (2)\n",
      "        return partial(_funcs_kwargs, as_method=as_method)==================================================================================================(3)\n",
      "                                                                                    \u001b[91;1mhow to custom the params of `_funcs_kwargs` for a particular use with partial\u001b[0m\n",
      "                                                                                                                                                            (4)\n",
      "\n",
      "\n",
      "\n",
      "```\n",
      "#| column: screen\n",
      "fdb_.print()\n",
      "```\n",
      "\n",
      "    ======================================================     Investigating \u001b[91;1m_funcs_kwargs\u001b[0m     =======================================================\n",
      "    ==============================================================     on line \u001b[91;1mNone\u001b[0m     ==============================================================\n",
      "         with example \u001b[91;1m\n",
      "    @funcs_kwargs\n",
      "    class T:\n",
      "        _methods=['b'] # allows you to add method b upon instantiation\n",
      "        def __init__(self, f=1, **kwargs): pass # don't forget to include **kwargs in __init__\n",
      "        def a(self): return 1\n",
      "        def b(self): return 2\n",
      "        \n",
      "    t = T()\n",
      "    test_eq(t.a(), 1)\n",
      "    test_eq(t.b(), 2)\n",
      "    \n",
      "    test_sig(T, '(f=1, *, b=None)')\n",
      "    inspect.signature(T)\n",
      "    \n",
      "    def _new_func(): return 5\n",
      "    \n",
      "    t = T(b = _new_func)\n",
      "    test_eq(t.b(), 5)\n",
      "    \n",
      "    t = T(a = lambda:3)\n",
      "    test_eq(t.a(), 1) # the attempt to add a is ignored and uses the original method instead.\n",
      "    \n",
      "    \u001b[0m     \n",
      "    \n",
      "    def _funcs_kwargs(cls, as_method):========================================================(0)       \n",
      "        old_init = cls.__init__===============================================================(1)       \n",
      "        def _init(self, *args, **kwargs):=====================================================(2)       \n",
      "            for k in cls._methods:============================================================(3)       \n",
      "                arg = kwargs.pop(k,None)======================================================(4)       \n",
      "                if arg is not None:===========================================================(5)       \n",
      "                    if as_method: arg = method(arg)===========================================(6)       \n",
      "                    if isinstance(arg,MethodType): arg = MethodType(arg.__func__, self)=======(7)       \n",
      "                    setattr(self, k, arg)=====================================================(8)       \n",
      "            old_init(self, *args, **kwargs)===================================================(9)       \n",
      "        functools.update_wrapper(_init, old_init)=============================================(10)      \n",
      "        cls.__init__ = use_kwargs(cls._methods)(_init)========================================(11)      \n",
      "        if hasattr(cls, '__signature__'): cls.__signature__ = _rm_self(inspect.signature(cls.__init__))                                                     (12)\n",
      "        return cls============================================================================(13)      \n",
      "                                                                                                                                                            (14)\n",
      "\n",
      "\n",
      "\n",
      "```\n",
      "#| column: screen\n",
      "fdb_.docsrc(0, \"how does _funcs_kwargs work: _funcs_kwargs is a decorator; it helps class e.g., T to add more methods; \\\n",
      "I need to give the method a name, \\\n",
      "and put the name e.g., 'b' inside a list called _methods=['b'] inside class T; \\\n",
      "then after writing a func e.g., _new_func, I can add it by T(b = _new_func); if I want the func added to class to use self, \\\n",
      "I shall write @funcs_kwargs(as_method=True)\")\n",
      "fdb_.docsrc(2, \"how to define a method which can use self and accept any parameters\")\n",
      "fdb_.docsrc(3, \"how to pop out the value of an item in a dict (with None as default), and if the item name is not found, pop out None instead; \")\n",
      "fdb_.docsrc(6, \"how to turn a func into a method\")\n",
      "fdb_.docsrc(7, \"how to give a method a different instance, like self\")\n",
      "fdb_.docsrc(8, \"how to add a method to a class as an attribute\")\n",
      "fdb_.docsrc(10, \"how to wrap `_init` around `old_init`, so that `_init` can use `old_init` inside itself\")\n",
      "fdb_.docsrc(11, \"how to add a list of names with None as default value to function `_init` to repalce its kwargs param\")\n",
      "fdb_.docsrc(12, \"how to make a class.`__init__` signature to be the signature of the class using `__signature__` and `_rm_self`\")\n",
      "\n",
      "```\n",
      "\n",
      "    ======================================================     Investigating \u001b[91;1m_funcs_kwargs\u001b[0m     =======================================================\n",
      "    ===============================================================     on line \u001b[91;1m0\u001b[0m     ================================================================\n",
      "         with example \u001b[91;1m\n",
      "    @funcs_kwargs\n",
      "    class T:\n",
      "        _methods=['b'] # allows you to add method b upon instantiation\n",
      "        def __init__(self, f=1, **kwargs): pass # don't forget to include **kwargs in __init__\n",
      "        def a(self): return 1\n",
      "        def b(self): return 2\n",
      "        \n",
      "    t = T()\n",
      "    test_eq(t.a(), 1)\n",
      "    test_eq(t.b(), 2)\n",
      "    \n",
      "    test_sig(T, '(f=1, *, b=None)')\n",
      "    inspect.signature(T)\n",
      "    \n",
      "    def _new_func(): return 5\n",
      "    \n",
      "    t = T(b = _new_func)\n",
      "    test_eq(t.b(), 5)\n",
      "    \n",
      "    t = T(a = lambda:3)\n",
      "    test_eq(t.a(), 1) # the attempt to add a is ignored and uses the original method instead.\n",
      "    \n",
      "    \u001b[0m     \n",
      "    \n",
      "    \u001b[93;1mprint selected srcline with expands below\u001b[0m--------\n",
      "    def _funcs_kwargs(cls, as_method):======================================================================================================================(0)\n",
      "    \u001b[91;1mhow does _funcs_kwargs work: _funcs_kwargs is a decorator; it helps class e.g., T to add more methods; I need to give the method a name, and put the name e.g., 'b' inside a list called _methods=['b'] inside class T; then after writing a func e.g., _new_func, I can add it by T(b = _new_func); if I want the func added to class to use self, I shall write @funcs_kwargs(as_method=True)\u001b[0m\n",
      "        old_init = cls.__init__                                                                                                                             (1)\n",
      "        def _init(self, *args, **kwargs):                                                                                                                   (2)\n",
      "    ======================================================     Investigating \u001b[91;1m_funcs_kwargs\u001b[0m     =======================================================\n",
      "    ===============================================================     on line \u001b[91;1m2\u001b[0m     ================================================================\n",
      "         with example \u001b[91;1m\n",
      "    @funcs_kwargs\n",
      "    class T:\n",
      "        _methods=['b'] # allows you to add method b upon instantiation\n",
      "        def __init__(self, f=1, **kwargs): pass # don't forget to include **kwargs in __init__\n",
      "        def a(self): return 1\n",
      "        def b(self): return 2\n",
      "        \n",
      "    t = T()\n",
      "    test_eq(t.a(), 1)\n",
      "    test_eq(t.b(), 2)\n",
      "    \n",
      "    test_sig(T, '(f=1, *, b=None)')\n",
      "    inspect.signature(T)\n",
      "    \n",
      "    def _new_func(): return 5\n",
      "    \n",
      "    t = T(b = _new_func)\n",
      "    test_eq(t.b(), 5)\n",
      "    \n",
      "    t = T(a = lambda:3)\n",
      "    test_eq(t.a(), 1) # the attempt to add a is ignored and uses the original method instead.\n",
      "    \n",
      "    \u001b[0m     \n",
      "    \n",
      "    \u001b[93;1mprint selected srcline with expands below\u001b[0m--------\n",
      "    def _funcs_kwargs(cls, as_method):                                                                                                                      (0)\n",
      "        old_init = cls.__init__                                                                                                                             (1)\n",
      "        def _init(self, *args, **kwargs):===================================================================================================================(2)\n",
      "                                                                                              \u001b[91;1mhow to define a method which can use self and accept any parameters\u001b[0m\n",
      "            for k in cls._methods:                                                                                                                          (3)\n",
      "                arg = kwargs.pop(k,None)                                                                                                                    (4)\n",
      "    ======================================================     Investigating \u001b[91;1m_funcs_kwargs\u001b[0m     =======================================================\n",
      "    ===============================================================     on line \u001b[91;1m3\u001b[0m     ================================================================\n",
      "         with example \u001b[91;1m\n",
      "    @funcs_kwargs\n",
      "    class T:\n",
      "        _methods=['b'] # allows you to add method b upon instantiation\n",
      "        def __init__(self, f=1, **kwargs): pass # don't forget to include **kwargs in __init__\n",
      "        def a(self): return 1\n",
      "        def b(self): return 2\n",
      "        \n",
      "    t = T()\n",
      "    test_eq(t.a(), 1)\n",
      "    test_eq(t.b(), 2)\n",
      "    \n",
      "    test_sig(T, '(f=1, *, b=None)')\n",
      "    inspect.signature(T)\n",
      "    \n",
      "    def _new_func(): return 5\n",
      "    \n",
      "    t = T(b = _new_func)\n",
      "    test_eq(t.b(), 5)\n",
      "    \n",
      "    t = T(a = lambda:3)\n",
      "    test_eq(t.a(), 1) # the attempt to add a is ignored and uses the original method instead.\n",
      "    \n",
      "    \u001b[0m     \n",
      "    \n",
      "    \u001b[93;1mprint selected srcline with expands below\u001b[0m--------\n",
      "        old_init = cls.__init__                                                                                                                             (1)\n",
      "        def _init(self, *args, **kwargs):                                                                                                                   (2)\n",
      "            for k in cls._methods:==========================================================================================================================(3)\n",
      "                                  \u001b[91;1mhow to pop out the value of an item in a dict (with None as default), and if the item name is not found, pop out None instead; \u001b[0m\n",
      "                arg = kwargs.pop(k,None)                                                                                                                    (4)\n",
      "                if arg is not None:                                                                                                                         (5)\n",
      "    ======================================================     Investigating \u001b[91;1m_funcs_kwargs\u001b[0m     =======================================================\n",
      "    ===============================================================     on line \u001b[91;1m6\u001b[0m     ================================================================\n",
      "         with example \u001b[91;1m\n",
      "    @funcs_kwargs\n",
      "    class T:\n",
      "        _methods=['b'] # allows you to add method b upon instantiation\n",
      "        def __init__(self, f=1, **kwargs): pass # don't forget to include **kwargs in __init__\n",
      "        def a(self): return 1\n",
      "        def b(self): return 2\n",
      "        \n",
      "    t = T()\n",
      "    test_eq(t.a(), 1)\n",
      "    test_eq(t.b(), 2)\n",
      "    \n",
      "    test_sig(T, '(f=1, *, b=None)')\n",
      "    inspect.signature(T)\n",
      "    \n",
      "    def _new_func(): return 5\n",
      "    \n",
      "    t = T(b = _new_func)\n",
      "    test_eq(t.b(), 5)\n",
      "    \n",
      "    t = T(a = lambda:3)\n",
      "    test_eq(t.a(), 1) # the attempt to add a is ignored and uses the original method instead.\n",
      "    \n",
      "    \u001b[0m     \n",
      "    \n",
      "    \u001b[93;1mprint selected srcline with expands below\u001b[0m--------\n",
      "                arg = kwargs.pop(k,None)                                                                                                                    (4)\n",
      "                if arg is not None:                                                                                                                         (5)\n",
      "                    if as_method: arg = method(arg)=========================================================================================================(6)\n",
      "                                                                                                                                 \u001b[91;1mhow to turn a func into a method\u001b[0m\n",
      "                    if isinstance(arg,MethodType): arg = MethodType(arg.__func__, self)                                                                     (7)\n",
      "                    setattr(self, k, arg)                                                                                                                   (8)\n",
      "    ======================================================     Investigating \u001b[91;1m_funcs_kwargs\u001b[0m     =======================================================\n",
      "    ===============================================================     on line \u001b[91;1m7\u001b[0m     ================================================================\n",
      "         with example \u001b[91;1m\n",
      "    @funcs_kwargs\n",
      "    class T:\n",
      "        _methods=['b'] # allows you to add method b upon instantiation\n",
      "        def __init__(self, f=1, **kwargs): pass # don't forget to include **kwargs in __init__\n",
      "        def a(self): return 1\n",
      "        def b(self): return 2\n",
      "        \n",
      "    t = T()\n",
      "    test_eq(t.a(), 1)\n",
      "    test_eq(t.b(), 2)\n",
      "    \n",
      "    test_sig(T, '(f=1, *, b=None)')\n",
      "    inspect.signature(T)\n",
      "    \n",
      "    def _new_func(): return 5\n",
      "    \n",
      "    t = T(b = _new_func)\n",
      "    test_eq(t.b(), 5)\n",
      "    \n",
      "    t = T(a = lambda:3)\n",
      "    test_eq(t.a(), 1) # the attempt to add a is ignored and uses the original method instead.\n",
      "    \n",
      "    \u001b[0m     \n",
      "    \n",
      "    \u001b[93;1mprint selected srcline with expands below\u001b[0m--------\n",
      "                if arg is not None:                                                                                                                         (5)\n",
      "                    if as_method: arg = method(arg)                                                                                                         (6)\n",
      "                    if isinstance(arg,MethodType): arg = MethodType(arg.__func__, self)=====================================================================(7)\n",
      "                                                                                                             \u001b[91;1mhow to give a method a different instance, like self\u001b[0m\n",
      "                    setattr(self, k, arg)                                                                                                                   (8)\n",
      "            old_init(self, *args, **kwargs)                                                                                                                 (9)\n",
      "    ======================================================     Investigating \u001b[91;1m_funcs_kwargs\u001b[0m     =======================================================\n",
      "    ===============================================================     on line \u001b[91;1m8\u001b[0m     ================================================================\n",
      "         with example \u001b[91;1m\n",
      "    @funcs_kwargs\n",
      "    class T:\n",
      "        _methods=['b'] # allows you to add method b upon instantiation\n",
      "        def __init__(self, f=1, **kwargs): pass # don't forget to include **kwargs in __init__\n",
      "        def a(self): return 1\n",
      "        def b(self): return 2\n",
      "        \n",
      "    t = T()\n",
      "    test_eq(t.a(), 1)\n",
      "    test_eq(t.b(), 2)\n",
      "    \n",
      "    test_sig(T, '(f=1, *, b=None)')\n",
      "    inspect.signature(T)\n",
      "    \n",
      "    def _new_func(): return 5\n",
      "    \n",
      "    t = T(b = _new_func)\n",
      "    test_eq(t.b(), 5)\n",
      "    \n",
      "    t = T(a = lambda:3)\n",
      "    test_eq(t.a(), 1) # the attempt to add a is ignored and uses the original method instead.\n",
      "    \n",
      "    \u001b[0m     \n",
      "    \n",
      "    \u001b[93;1mprint selected srcline with expands below\u001b[0m--------\n",
      "                    if as_method: arg = method(arg)                                                                                                         (6)\n",
      "                    if isinstance(arg,MethodType): arg = MethodType(arg.__func__, self)                                                                     (7)\n",
      "                    setattr(self, k, arg)===================================================================================================================(8)\n",
      "                                                                                                                   \u001b[91;1mhow to add a method to a class as an attribute\u001b[0m\n",
      "            old_init(self, *args, **kwargs)                                                                                                                 (9)\n",
      "        functools.update_wrapper(_init, old_init)                                                                                                           (10)\n",
      "    ======================================================     Investigating \u001b[91;1m_funcs_kwargs\u001b[0m     =======================================================\n",
      "    ===============================================================     on line \u001b[91;1m10\u001b[0m     ===============================================================\n",
      "         with example \u001b[91;1m\n",
      "    @funcs_kwargs\n",
      "    class T:\n",
      "        _methods=['b'] # allows you to add method b upon instantiation\n",
      "        def __init__(self, f=1, **kwargs): pass # don't forget to include **kwargs in __init__\n",
      "        def a(self): return 1\n",
      "        def b(self): return 2\n",
      "        \n",
      "    t = T()\n",
      "    test_eq(t.a(), 1)\n",
      "    test_eq(t.b(), 2)\n",
      "    \n",
      "    test_sig(T, '(f=1, *, b=None)')\n",
      "    inspect.signature(T)\n",
      "    \n",
      "    def _new_func(): return 5\n",
      "    \n",
      "    t = T(b = _new_func)\n",
      "    test_eq(t.b(), 5)\n",
      "    \n",
      "    t = T(a = lambda:3)\n",
      "    test_eq(t.a(), 1) # the attempt to add a is ignored and uses the original method instead.\n",
      "    \n",
      "    \u001b[0m     \n",
      "    \n",
      "    \u001b[93;1mprint selected srcline with expands below\u001b[0m--------\n",
      "                    setattr(self, k, arg)                                                                                                                   (8)\n",
      "            old_init(self, *args, **kwargs)                                                                                                                 (9)\n",
      "        functools.update_wrapper(_init, old_init)===========================================================================================================(10)\n",
      "                                                                          \u001b[91;1mhow to wrap `_init` around `old_init`, so that `_init` can use `old_init` inside itself\u001b[0m\n",
      "        cls.__init__ = use_kwargs(cls._methods)(_init)                                                                                                      (11)\n",
      "        if hasattr(cls, '__signature__'): cls.__signature__ = _rm_self(inspect.signature(cls.__init__))                                                     (12)\n",
      "    ======================================================     Investigating \u001b[91;1m_funcs_kwargs\u001b[0m     =======================================================\n",
      "    ===============================================================     on line \u001b[91;1m11\u001b[0m     ===============================================================\n",
      "         with example \u001b[91;1m\n",
      "    @funcs_kwargs\n",
      "    class T:\n",
      "        _methods=['b'] # allows you to add method b upon instantiation\n",
      "        def __init__(self, f=1, **kwargs): pass # don't forget to include **kwargs in __init__\n",
      "        def a(self): return 1\n",
      "        def b(self): return 2\n",
      "        \n",
      "    t = T()\n",
      "    test_eq(t.a(), 1)\n",
      "    test_eq(t.b(), 2)\n",
      "    \n",
      "    test_sig(T, '(f=1, *, b=None)')\n",
      "    inspect.signature(T)\n",
      "    \n",
      "    def _new_func(): return 5\n",
      "    \n",
      "    t = T(b = _new_func)\n",
      "    test_eq(t.b(), 5)\n",
      "    \n",
      "    t = T(a = lambda:3)\n",
      "    test_eq(t.a(), 1) # the attempt to add a is ignored and uses the original method instead.\n",
      "    \n",
      "    \u001b[0m     \n",
      "    \n",
      "    \u001b[93;1mprint selected srcline with expands below\u001b[0m--------\n",
      "            old_init(self, *args, **kwargs)                                                                                                                 (9)\n",
      "        functools.update_wrapper(_init, old_init)                                                                                                           (10)\n",
      "        cls.__init__ = use_kwargs(cls._methods)(_init)======================================================================================================(11)\n",
      "                                                            \u001b[91;1mhow to add a list of names with None as default value to function `_init` to repalce its kwargs param\u001b[0m\n",
      "        if hasattr(cls, '__signature__'): cls.__signature__ = _rm_self(inspect.signature(cls.__init__))                                                     (12)\n",
      "        return cls                                                                                                                                          (13)\n",
      "    ======================================================     Investigating \u001b[91;1m_funcs_kwargs\u001b[0m     =======================================================\n",
      "    ===============================================================     on line \u001b[91;1m12\u001b[0m     ===============================================================\n",
      "         with example \u001b[91;1m\n",
      "    @funcs_kwargs\n",
      "    class T:\n",
      "        _methods=['b'] # allows you to add method b upon instantiation\n",
      "        def __init__(self, f=1, **kwargs): pass # don't forget to include **kwargs in __init__\n",
      "        def a(self): return 1\n",
      "        def b(self): return 2\n",
      "        \n",
      "    t = T()\n",
      "    test_eq(t.a(), 1)\n",
      "    test_eq(t.b(), 2)\n",
      "    \n",
      "    test_sig(T, '(f=1, *, b=None)')\n",
      "    inspect.signature(T)\n",
      "    \n",
      "    def _new_func(): return 5\n",
      "    \n",
      "    t = T(b = _new_func)\n",
      "    test_eq(t.b(), 5)\n",
      "    \n",
      "    t = T(a = lambda:3)\n",
      "    test_eq(t.a(), 1) # the attempt to add a is ignored and uses the original method instead.\n",
      "    \n",
      "    \u001b[0m     \n",
      "    \n",
      "    \u001b[93;1mprint selected srcline with expands below\u001b[0m--------\n",
      "        functools.update_wrapper(_init, old_init)                                                                                                           (10)\n",
      "        cls.__init__ = use_kwargs(cls._methods)(_init)                                                                                                      (11)\n",
      "        if hasattr(cls, '__signature__'): cls.__signature__ = _rm_self(inspect.signature(cls.__init__))=====================================================(12)\n",
      "                                                   \u001b[91;1mhow to make a class.`__init__` signature to be the signature of the class using `__signature__` and `_rm_self`\u001b[0m\n",
      "        return cls                                                                                                                                          (13)\n",
      "                                                                                                                                                            (14)\n",
      "\n",
      "\n",
      "\n",
      "```\n",
      "#| column: screen\n",
      "fdb.snoop() # how to snoop together with docsrc: snoop first and docsrc above it\n",
      "```\n",
      "\n",
      "    22:28:59.99 >>> Call to funcs_kwargs in File \"/tmp/funcs_kwargs.py\", line 3\n",
      "    22:28:59.99 ...... as_method = <class 'fastcore.meta.T'>\n",
      "    22:28:59.99    3 | def funcs_kwargs(as_method=False):\n",
      "    22:28:59.99    5 |     if callable(as_method): return _funcs_kwargs(as_method, False)\n",
      "        22:28:59.99 >>> Call to _funcs_kwargs in File \"/tmp/_funcs_kwargs.py\", line 3\n",
      "        22:28:59.99 ...... cls = <class 'fastcore.meta.T'>\n",
      "        22:28:59.99 ...... as_method = False\n",
      "        22:28:59.99    3 | def _funcs_kwargs(cls, as_method):\n",
      "        22:28:59.99    4 |     old_init = cls.__init__\n",
      "        22:28:59.99 .......... old_init = <function T.__init__>\n",
      "        22:28:59.99    5 |     import snoop\n",
      "        22:28:59.99 .......... snoop = <class 'snoop.configuration.Config.__init__.<locals>.ConfiguredTracer'>\n",
      "        22:28:59.99    6 |     @snoop\n",
      "        22:28:59.99    7 |     def _init(self, *args, **kwargs):\n",
      "        22:28:59.99 .......... _init = <function _funcs_kwargs.<locals>._init>\n",
      "        22:28:59.99   15 |     functools.update_wrapper(_init, old_init)\n",
      "        22:28:59.99 .......... _init = <function T.__init__>\n",
      "        22:28:59.99   16 |     cls.__init__ = use_kwargs(cls._methods)(_init)\n",
      "        22:28:59.99   17 |     if hasattr(cls, '__signature__'): cls.__signature__ = _rm_self(inspect.signature(cls.__init__))\n",
      "        22:28:59.99   18 |     return cls\n",
      "        22:28:59.99 <<< Return value from _funcs_kwargs: <class 'fastcore.meta.T'>\n",
      "    22:28:59.99    5 |     if callable(as_method): return _funcs_kwargs(as_method, False)\n",
      "    22:28:59.99 <<< Return value from funcs_kwargs: <class 'fastcore.meta.T'>\n",
      "    22:28:59.99 >>> Call to _funcs_kwargs.<locals>._init in File \"/tmp/_funcs_kwargs.py\", line 7\n",
      "    22:28:59.99 .......... self = <fastcore.meta.T object>\n",
      "    22:28:59.99 .......... args = ()\n",
      "    22:28:59.99 .......... kwargs = {}\n",
      "    22:28:59.99 .......... as_method = False\n",
      "    22:28:59.99 .......... cls = <class 'fastcore.meta.T'>\n",
      "    22:28:59.99 .......... old_init = <function T.__init__>\n",
      "    22:28:59.99    7 |     def _init(self, *args, **kwargs):\n",
      "    22:29:00.00    8 |         for k in cls._methods:\n",
      "    22:29:00.00 .............. k = 'b'\n",
      "    22:29:00.00    9 |             arg = kwargs.pop(k,None)\n",
      "    22:29:00.00 .................. arg = None\n",
      "    22:29:00.00   10 |             if arg is not None:\n",
      "    22:29:00.00    8 |         for k in cls._methods:\n",
      "    22:29:00.00   14 |         old_init(self, *args, **kwargs)\n",
      "    22:29:00.00 <<< Return value from _funcs_kwargs.<locals>._init: None\n",
      "    22:29:00.00 >>> Call to _funcs_kwargs.<locals>._init in File \"/tmp/_funcs_kwargs.py\", line 7\n",
      "    22:29:00.00 .......... self = <fastcore.meta.T object>\n",
      "    22:29:00.00 .......... args = ()\n",
      "    22:29:00.00 .......... kwargs = {'b': <function _new_func>}\n",
      "    22:29:00.00 .......... len(kwargs) = 1\n",
      "    22:29:00.00 .......... as_method = False\n",
      "    22:29:00.00 .......... cls = <class 'fastcore.meta.T'>\n",
      "    22:29:00.00 .......... old_init = <function T.__init__>\n",
      "    22:29:00.00    7 |     def _init(self, *args, **kwargs):\n",
      "    22:29:00.00    8 |         for k in cls._methods:\n",
      "    22:29:00.00 .............. k = 'b'\n",
      "    22:29:00.00    9 |             arg = kwargs.pop(k,None)\n",
      "    22:29:00.00 .................. kwargs = {}\n",
      "    22:29:00.00 .................. arg = <function _new_func>\n",
      "    22:29:00.00   10 |             if arg is not None:\n",
      "    22:29:00.00   11 |                 if as_method: arg = method(arg)\n",
      "    22:29:00.00   12 |                 if isinstance(arg,MethodType): arg = MethodType(arg.__func__, self)\n",
      "    22:29:00.00   13 |                 setattr(self, k, arg)\n",
      "    22:29:00.00    8 |         for k in cls._methods:\n",
      "    22:29:00.00   14 |         old_init(self, *args, **kwargs)\n",
      "    22:29:00.00 <<< Return value from _funcs_kwargs.<locals>._init: None\n",
      "    22:29:00.00 >>> Call to _funcs_kwargs.<locals>._init in File \"/tmp/_funcs_kwargs.py\", line 7\n",
      "    22:29:00.00 .......... self = <fastcore.meta.T object>\n",
      "    22:29:00.00 .......... args = ()\n",
      "    22:29:00.00 .......... kwargs = {'a': <function <lambda>>}\n",
      "    22:29:00.00 .......... len(kwargs) = 1\n",
      "    22:29:00.00 .......... as_method = False\n",
      "    22:29:00.00 .......... cls = <class 'fastcore.meta.T'>\n",
      "    22:29:00.00 .......... old_init = <function T.__init__>\n",
      "    22:29:00.00    7 |     def _init(self, *args, **kwargs):\n",
      "    22:29:00.00    8 |         for k in cls._methods:\n",
      "    22:29:00.00 .............. k = 'b'\n",
      "    22:29:00.00    9 |             arg = kwargs.pop(k,None)\n",
      "    22:29:00.00 .................. arg = None\n",
      "    22:29:00.00   10 |             if arg is not None:\n",
      "    22:29:00.00    8 |         for k in cls._methods:\n",
      "    22:29:00.00   14 |         old_init(self, *args, **kwargs)\n",
      "    22:29:00.00 <<< Return value from _funcs_kwargs.<locals>._init: None\n",
      "    22:29:00.00 >>> Call to funcs_kwargs in File \"/tmp/funcs_kwargs.py\", line 3\n",
      "    22:29:00.00 ...... as_method = True\n",
      "    22:29:00.00    3 | def funcs_kwargs(as_method=False):\n",
      "    22:29:00.00    5 |     if callable(as_method): return _funcs_kwargs(as_method, False)\n",
      "    22:29:00.00    6 |     return partial(_funcs_kwargs, as_method=as_method)\n",
      "    22:29:00.00 <<< Return value from funcs_kwargs: functools.partial(<function _funcs_kwargs>, as_method=True)\n",
      "    22:29:00.00 >>> Call to _funcs_kwargs in File \"/tmp/_funcs_kwargs.py\", line 3\n",
      "    22:29:00.00 ...... cls = <class 'fastcore.meta.T'>\n",
      "    22:29:00.00 ...... as_method = True\n",
      "    22:29:00.00    3 | def _funcs_kwargs(cls, as_method):\n",
      "    22:29:00.00    4 |     old_init = cls.__init__\n",
      "    22:29:00.00 .......... old_init = <slot wrapper '__init__' of 'object' objects>\n",
      "    22:29:00.00    5 |     import snoop\n",
      "    22:29:00.00 .......... snoop = <class 'snoop.configuration.Config.__init__.<locals>.ConfiguredTracer'>\n",
      "    22:29:00.00    6 |     @snoop\n",
      "    22:29:00.00    7 |     def _init(self, *args, **kwargs):\n",
      "    22:29:00.00 .......... _init = <function _funcs_kwargs.<locals>._init>\n",
      "    22:29:00.00   15 |     functools.update_wrapper(_init, old_init)\n",
      "    22:29:00.00 .......... _init = <function object.__init__>\n",
      "    22:29:00.00   16 |     cls.__init__ = use_kwargs(cls._methods)(_init)\n",
      "    22:29:00.01   17 |     if hasattr(cls, '__signature__'): cls.__signature__ = _rm_self(inspect.signature(cls.__init__))\n",
      "    22:29:00.01   18 |     return cls\n",
      "    22:29:00.01 <<< Return value from _funcs_kwargs: <class 'fastcore.meta.T'>\n",
      "    22:29:00.01 >>> Call to _funcs_kwargs.<locals>._init in File \"/tmp/_funcs_kwargs.py\", line 7\n",
      "    22:29:00.01 .......... self = <fastcore.meta.T object>\n",
      "    22:29:00.01 .......... args = ()\n",
      "    22:29:00.01 .......... kwargs = {'b': <function _f>}\n",
      "    22:29:00.01 .......... len(kwargs) = 1\n",
      "    22:29:00.01 .......... as_method = True\n",
      "    22:29:00.01 .......... cls = <class 'fastcore.meta.T'>\n",
      "    22:29:00.01 .......... old_init = <slot wrapper '__init__' of 'object' objects>\n",
      "    22:29:00.01    7 |     def _init(self, *args, **kwargs):\n",
      "    22:29:00.01    8 |         for k in cls._methods:\n",
      "    22:29:00.01 .............. k = 'b'\n",
      "    22:29:00.01    9 |             arg = kwargs.pop(k,None)\n",
      "    22:29:00.01 .................. kwargs = {}\n",
      "    22:29:00.01 .................. arg = <function _f>\n",
      "    22:29:00.01   10 |             if arg is not None:\n",
      "    22:29:00.01   11 |                 if as_method: arg = method(arg)\n",
      "    22:29:00.01 ...... arg = <bound method int._f of 1>\n",
      "    22:29:00.01   12 |                 if isinstance(arg,MethodType): arg = MethodType(arg.__func__, self)\n",
      "    22:29:00.01 ...... arg = <bound method T._f of <fastcore.meta.T object>>\n",
      "    22:29:00.01   13 |                 setattr(self, k, arg)\n",
      "    22:29:00.01    8 |         for k in cls._methods:\n",
      "    22:29:00.01   14 |         old_init(self, *args, **kwargs)\n",
      "    22:29:00.01 <<< Return value from _funcs_kwargs.<locals>._init: None\n",
      "    22:29:00.01 >>> Call to _funcs_kwargs.<locals>._init in File \"/tmp/_funcs_kwargs.py\", line 7\n",
      "    22:29:00.01 .......... self = <fastcore.meta.T2 object>\n",
      "    22:29:00.01 .......... args = ()\n",
      "    22:29:00.01 .......... kwargs = {'b': <function _f>}\n",
      "    22:29:00.01 .......... len(kwargs) = 1\n",
      "    22:29:00.01 .......... as_method = True\n",
      "    22:29:00.01 .......... cls = <class 'fastcore.meta.T'>\n",
      "    22:29:00.01 .......... old_init = <slot wrapper '__init__' of 'object' objects>\n",
      "    22:29:00.01    7 |     def _init(self, *args, **kwargs):\n",
      "    22:29:00.01    8 |         for k in cls._methods:\n",
      "    22:29:00.01 .............. k = 'b'\n",
      "    22:29:00.01    9 |             arg = kwargs.pop(k,None)\n",
      "    22:29:00.01 .................. kwargs = {}\n",
      "    22:29:00.01 .................. arg = <function _f>\n",
      "    22:29:00.01   10 |             if arg is not None:\n",
      "    22:29:00.01   11 |                 if as_method: arg = method(arg)\n",
      "    22:29:00.01 ...... arg = <bound method int._f of 1>\n",
      "    22:29:00.01   12 |                 if isinstance(arg,MethodType): arg = MethodType(arg.__func__, self)\n",
      "    22:29:00.01 ...... arg = <bound method T2._f of <fastcore.meta.T2 object>>\n",
      "    22:29:00.01   13 |                 setattr(self, k, arg)\n",
      "    22:29:00.01    8 |         for k in cls._methods:\n",
      "    22:29:00.01   14 |         old_init(self, *args, **kwargs)\n",
      "    22:29:00.01 <<< Return value from _funcs_kwargs.<locals>._init: None\n",
      "\n",
      "\n",
      "    =======================================================     Investigating \u001b[91;1mfuncs_kwargs\u001b[0m     =======================================================\n",
      "    ==============================================================     on line \u001b[91;1mNone\u001b[0m     ==============================================================\n",
      "         with example \u001b[91;1m\n",
      "    @funcs_kwargs\n",
      "    class T:\n",
      "        _methods=['b'] # allows you to add method b upon instantiation\n",
      "        def __init__(self, f=1, **kwargs): pass # don't forget to include **kwargs in __init__\n",
      "        def a(self): return 1\n",
      "        def b(self): return 2\n",
      "        \n",
      "    t = T()\n",
      "    test_eq(t.a(), 1)\n",
      "    test_eq(t.b(), 2)\n",
      "    \n",
      "    test_sig(T, '(f=1, *, b=None)')\n",
      "    inspect.signature(T)\n",
      "    \n",
      "    def _new_func(): return 5\n",
      "    \n",
      "    t = T(b = _new_func)\n",
      "    test_eq(t.b(), 5)\n",
      "    \n",
      "    t = T(a = lambda:3)\n",
      "    test_eq(t.a(), 1) # the attempt to add a is ignored and uses the original method instead.\n",
      "    \n",
      "    def _f(self,a=1): return self.num + a # access the num attribute from the instance\n",
      "    \n",
      "    @funcs_kwargs(as_method=True)\n",
      "    class T: \n",
      "        _methods=['b']\n",
      "        num = 5\n",
      "        \n",
      "    t = T(b = _f) # adds method b\n",
      "    test_eq(t.b(5), 10) # self.num + 5 = 10\n",
      "    \n",
      "    def _f(self,a=1): return self.num * a #multiply instead of add \n",
      "    \n",
      "    class T2(T):\n",
      "        def __init__(self,num):\n",
      "            super().__init__(b = _f) # add method b from the super class\n",
      "            self.num=num\n",
      "            \n",
      "    t = T2(num=3)\n",
      "    test_eq(t.b(a=5), 15) # 3 * 5 = 15\n",
      "    test_sig(T2, '(num)')\n",
      "    \u001b[0m     \n",
      "    \n",
      "\n",
      "\n",
      "\n",
      "```\n",
      "fdb_.debug()\n",
      "```\n",
      "\n",
      "    _funcs_kwargs's dbsrc code: ==============\n",
      "    import snoop\n",
      "    @snoop\n",
      "    def _funcs_kwargs(cls, as_method):\n",
      "        old_init = cls.__init__\n",
      "        import snoop\n",
      "        @snoop\n",
      "        def _init(self, *args, **kwargs):\n",
      "            for k in cls._methods:\n",
      "                arg = kwargs.pop(k,None)\n",
      "                if arg is not None:\n",
      "                    if as_method: arg = method(arg)\n",
      "                    if isinstance(arg,MethodType): arg = MethodType(arg.__func__, self)\n",
      "                    setattr(self, k, arg)\n",
      "            old_init(self, *args, **kwargs)\n",
      "        functools.update_wrapper(_init, old_init)\n",
      "        cls.__init__ = use_kwargs(cls._methods)(_init)\n",
      "        if hasattr(cls, '__signature__'): cls.__signature__ = _rm_self(inspect.signature(cls.__init__))\n",
      "        return cls\n",
      "    \n",
      "    \n",
      "    \n",
      "    _funcs_kwargs's example processed with dbsrc: ===============\n",
      "    \n",
      "    @funcs_kwargs\n",
      "    class T:\n",
      "        _methods=['b'] # allows you to add method b upon instantiation\n",
      "        def __init__(self, f=1, **kwargs): pass # don't forget to include **kwargs in __init__\n",
      "        def a(self): return 1\n",
      "        def b(self): return 2\n",
      "        \n",
      "    t = T()\n",
      "    test_eq(t.a(), 1)\n",
      "    test_eq(t.b(), 2)\n",
      "    \n",
      "    test_sig(T, '(f=1, *, b=None)')\n",
      "    inspect.signature(T)\n",
      "    \n",
      "    def _new_func(): return 5\n",
      "    \n",
      "    t = T(b = _new_func)\n",
      "    test_eq(t.b(), 5)\n",
      "    \n",
      "    t = T(a = lambda:3)\n",
      "    test_eq(t.a(), 1) # the attempt to add a is ignored and uses the original method instead.\n",
      "    \n",
      "    \n",
      "\n",
      "\n",
      "\n",
      "```\n",
      "#| column: screen\n",
      "fdb.print()\n",
      "```\n",
      "\n",
      "    =======================================================     Investigating \u001b[91;1mfuncs_kwargs\u001b[0m     =======================================================\n",
      "    ==============================================================     on line \u001b[91;1mNone\u001b[0m     ==============================================================\n",
      "         with example \u001b[91;1m\n",
      "    @funcs_kwargs\n",
      "    class T:\n",
      "        _methods=['b'] # allows you to add method b upon instantiation\n",
      "        def __init__(self, f=1, **kwargs): pass # don't forget to include **kwargs in __init__\n",
      "        def a(self): return 1\n",
      "        def b(self): return 2\n",
      "        \n",
      "    t = T()\n",
      "    test_eq(t.a(), 1)\n",
      "    test_eq(t.b(), 2)\n",
      "    \n",
      "    test_sig(T, '(f=1, *, b=None)')\n",
      "    inspect.signature(T)\n",
      "    \n",
      "    def _new_func(): return 5\n",
      "    \n",
      "    t = T(b = _new_func)\n",
      "    test_eq(t.b(), 5)\n",
      "    \n",
      "    t = T(a = lambda:3)\n",
      "    test_eq(t.a(), 1) # the attempt to add a is ignored and uses the original method instead.\n",
      "    \n",
      "    def _f(self,a=1): return self.num + a # access the num attribute from the instance\n",
      "    \n",
      "    @funcs_kwargs(as_method=True)\n",
      "    class T: \n",
      "        _methods=['b']\n",
      "        num = 5\n",
      "        \n",
      "    t = T(b = _f) # adds method b\n",
      "    test_eq(t.b(5), 10) # self.num + 5 = 10\n",
      "    \n",
      "    def _f(self,a=1): return self.num * a #multiply instead of add \n",
      "    \n",
      "    class T2(T):\n",
      "        def __init__(self,num):\n",
      "            super().__init__(b = _f) # add method b from the super class\n",
      "            self.num=num\n",
      "            \n",
      "    t = T2(num=3)\n",
      "    test_eq(t.b(a=5), 15) # 3 * 5 = 15\n",
      "    test_sig(T2, '(num)')\n",
      "    \u001b[0m     \n",
      "    \n",
      "    def funcs_kwargs(as_method=False):========================================================(0)       \n",
      "        \"Replace methods in `cls._methods` with those from `kwargs`\"==========================(1) # \u001b[93;1mhow funcs_kwargs works\u001b[0m; \u001b[93;1mit is a wrapper around _funcs_kwargs\u001b[0m; \u001b[91;1mit offers two ways of running _funcs_kwargs\u001b[0m; \u001b[37;1mthe first, default way, is to add a func to a class without using self\u001b[0m; \u001b[91;1msecond way is to add func to class enabling self use;\u001b[0m; \n",
      "        if callable(as_method): return _funcs_kwargs(as_method, False)========================(2) # \u001b[37;1mhow to check whether an object is callable\u001b[0m; \u001b[93;1mhow to return a result of running a func\u001b[0m; \u001b[37;1m\u001b[0m; \n",
      "        return partial(_funcs_kwargs, as_method=as_method)====================================(3) # \u001b[92;1mhow to custom the params of `_funcs_kwargs` for a particular use with partial\u001b[0m; \n",
      "                                                                                                                                                            (4)\n",
      "\n",
      "\n",
      "\n",
      "```\n",
      "#| column: screen\n",
      "fdb_.print()\n",
      "```\n",
      "\n",
      "    ======================================================     Investigating \u001b[91;1m_funcs_kwargs\u001b[0m     =======================================================\n",
      "    ===============================================================     on line \u001b[91;1m12\u001b[0m     ===============================================================\n",
      "         with example \u001b[91;1m\n",
      "    @funcs_kwargs\n",
      "    class T:\n",
      "        _methods=['b'] # allows you to add method b upon instantiation\n",
      "        def __init__(self, f=1, **kwargs): pass # don't forget to include **kwargs in __init__\n",
      "        def a(self): return 1\n",
      "        def b(self): return 2\n",
      "        \n",
      "    t = T()\n",
      "    test_eq(t.a(), 1)\n",
      "    test_eq(t.b(), 2)\n",
      "    \n",
      "    test_sig(T, '(f=1, *, b=None)')\n",
      "    inspect.signature(T)\n",
      "    \n",
      "    def _new_func(): return 5\n",
      "    \n",
      "    t = T(b = _new_func)\n",
      "    test_eq(t.b(), 5)\n",
      "    \n",
      "    t = T(a = lambda:3)\n",
      "    test_eq(t.a(), 1) # the attempt to add a is ignored and uses the original method instead.\n",
      "    \n",
      "    \u001b[0m     \n",
      "    \n",
      "    def _funcs_kwargs(cls, as_method):========================================================(0) # \u001b[93;1mhow does _funcs_kwargs work: _funcs_kwargs is a decorator\u001b[0m; \u001b[35;1mit helps class e.g., T to add more methods\u001b[0m; \u001b[93;1mI need to give the method a name, and put the name e.g., 'b' inside a list called _methods=['b'] inside class T\u001b[0m; \u001b[36;1mthen after writing a func e.g., _new_func, I can add it by T(b = _new_func)\u001b[0m; \u001b[36;1mif I want the func added to class to use self, I shall write @funcs_kwargs(as_method=True)\u001b[0m; \n",
      "        old_init = cls.__init__===============================================================(1)       \n",
      "        def _init(self, *args, **kwargs):=====================================================(2) # \u001b[37;1mhow to define a method which can use self and accept any parameters\u001b[0m; \n",
      "            for k in cls._methods:============================================================(3) # \u001b[35;1mhow to pop out the value of an item in a dict (with None as default), and if the item name is not found, pop out None instead\u001b[0m; \u001b[91;1m\u001b[0m; \n",
      "                arg = kwargs.pop(k,None)======================================================(4)       \n",
      "                if arg is not None:===========================================================(5)       \n",
      "                    if as_method: arg = method(arg)===========================================(6) # \u001b[36;1mhow to turn a func into a method\u001b[0m; \n",
      "                    if isinstance(arg,MethodType): arg = MethodType(arg.__func__, self)=======(7) # \u001b[93;1mhow to give a method a different instance, like self\u001b[0m; \n",
      "                    setattr(self, k, arg)=====================================================(8) # \u001b[36;1mhow to add a method to a class as an attribute\u001b[0m; \n",
      "            old_init(self, *args, **kwargs)===================================================(9)       \n",
      "        functools.update_wrapper(_init, old_init)=============================================(10) # \u001b[34;1mhow to wrap `_init` around `old_init`, so that `_init` can use `old_init` inside itself\u001b[0m; \n",
      "        cls.__init__ = use_kwargs(cls._methods)(_init)========================================(11) # \u001b[34;1mhow to add a list of names with None as default value to function `_init` to repalce its kwargs param\u001b[0m; \n",
      "        if hasattr(cls, '__signature__'): cls.__signature__ = _rm_self(inspect.signature(cls.__init__)) # \u001b[35;1mhow to make a class.`__init__` signature to be the signature of the class using `__signature__` and `_rm_self`\u001b[0m;  (12)\n",
      "        return cls============================================================================(13)      \n",
      "                                                                                                                                                            (14)\n",
      "\n",
      "\n",
      "\n",
      "```\n",
      "\n",
      "```\n",
      "\n",
      "start of another heading 3\n",
      "### snoop only '_funcs_kwargs' by breaking up 'funcs_kwargs'\n"
     ]
    },
    {
     "ename": "NameError",
     "evalue": "name 'openNB' is not defined",
     "output_type": "error",
     "traceback": [
      "\u001b[0;31m---------------------------------------------------------------------------\u001b[0m",
      "\u001b[0;31mNameError\u001b[0m                                 Traceback (most recent call last)",
      "Input \u001b[0;32mIn [98]\u001b[0m, in \u001b[0;36m<cell line: 1>\u001b[0;34m()\u001b[0m\n\u001b[0;32m----> 1\u001b[0m \u001b[43mfastnbs\u001b[49m\u001b[43m(\u001b[49m\u001b[38;5;124;43m\"\u001b[39;49m\u001b[38;5;124;43msnoop: from _funcs_kwargs to funcs_kwargs\u001b[39;49m\u001b[38;5;124;43m\"\u001b[39;49m\u001b[43m,\u001b[49m\u001b[43m \u001b[49m\u001b[43moutput\u001b[49m\u001b[38;5;241;43m=\u001b[39;49m\u001b[38;5;28;43;01mTrue\u001b[39;49;00m\u001b[43m)\u001b[49m\n",
      "Input \u001b[0;32mIn [78]\u001b[0m, in \u001b[0;36mfastnbs\u001b[0;34m(question, filter_folder, strict, output, accu, nb, db)\u001b[0m\n\u001b[1;32m     61\u001b[0m \u001b[38;5;28;01mif\u001b[39;00m nb: \u001b[38;5;66;03m# to link a notebook with specific heading\u001b[39;00m\n\u001b[1;32m     62\u001b[0m     \u001b[38;5;28;01mif\u001b[39;00m \u001b[38;5;124m\"\u001b[39m\u001b[38;5;124m# ```\u001b[39m\u001b[38;5;124m\"\u001b[39m \u001b[38;5;129;01min\u001b[39;00m l: openNB(file_name, l\u001b[38;5;241m.\u001b[39msplit(\u001b[38;5;124m\"\u001b[39m\u001b[38;5;124m```\u001b[39m\u001b[38;5;124m\"\u001b[39m)[\u001b[38;5;241m1\u001b[39m]\u001b[38;5;241m.\u001b[39mreplace(\u001b[38;5;124m\"\u001b[39m\u001b[38;5;124m \u001b[39m\u001b[38;5;124m\"\u001b[39m, \u001b[38;5;124m\"\u001b[39m\u001b[38;5;124m-\u001b[39m\u001b[38;5;124m\"\u001b[39m), db\u001b[38;5;241m=\u001b[39mdb)\n\u001b[0;32m---> 63\u001b[0m     \u001b[38;5;28;01melse\u001b[39;00m: \u001b[43mopenNB\u001b[49m(file_name, l\u001b[38;5;241m.\u001b[39msplit(\u001b[38;5;124m\"\u001b[39m\u001b[38;5;124m# \u001b[39m\u001b[38;5;124m\"\u001b[39m)[\u001b[38;5;241m1\u001b[39m]\u001b[38;5;241m.\u001b[39mreplace(\u001b[38;5;124m\"\u001b[39m\u001b[38;5;124m \u001b[39m\u001b[38;5;124m\"\u001b[39m, \u001b[38;5;124m\"\u001b[39m\u001b[38;5;124m-\u001b[39m\u001b[38;5;124m\"\u001b[39m), db\u001b[38;5;241m=\u001b[39mdb)\n\u001b[1;32m     65\u001b[0m     openNBKaggle(file_name, db\u001b[38;5;241m=\u001b[39mdb)\n",
      "\u001b[0;31mNameError\u001b[0m: name 'openNB' is not defined"
     ]
    }
   ],
   "source": [
    "fastnbs(\"snoop: from _funcs_kwargs to funcs_kwargs\", output=True)"
   ]
  },
  {
   "cell_type": "markdown",
   "id": "77cddc1f",
   "metadata": {},
   "source": [
    "## Best practice of fastdebug.utils"
   ]
  },
  {
   "cell_type": "code",
   "execution_count": null,
   "id": "7c0bd11a",
   "metadata": {},
   "outputs": [
    {
     "data": {
      "text/html": [
       "<style>.container { width:100% !important; }</style>"
      ],
      "text/plain": [
       "<IPython.core.display.HTML object>"
      ]
     },
     "metadata": {},
     "output_type": "display_data"
    }
   ],
   "source": [
    "import fastdebug.utils as fu\n",
    "import fastcore.meta as fm"
   ]
  },
  {
   "cell_type": "markdown",
   "id": "0b8e6be1",
   "metadata": {},
   "source": [
    "**When looking for previous documented learning points**\n",
    "\n",
    "Run `fastlistnbs()` to check and search for the interesting titles\n",
    "\n",
    "Then run `fastnbs(...)` on the cell above `fastlistnbs()` to have a better view\n",
    "\n",
    "Run `fastnbs(query, output=True)` to view the output with input together for notebooks on srcodes"
   ]
  },
  {
   "cell_type": "code",
   "execution_count": null,
   "id": "07b6f258",
   "metadata": {},
   "outputs": [],
   "source": [
    "# fastnbs(\"snoop: from _funcs_kwargs to funcs_kwargs\", output=True)"
   ]
  },
  {
   "cell_type": "code",
   "execution_count": null,
   "id": "d637fd37",
   "metadata": {},
   "outputs": [],
   "source": [
    "# fastlistnbs()"
   ]
  },
  {
   "cell_type": "markdown",
   "id": "d2e7c782",
   "metadata": {},
   "source": [
    "**When I just want to have a quick look of the commented source code**\n",
    "\n",
    "Run `fastsrcs()` first to have the list of all commented srcodes files\n",
    "\n",
    "Run `fastview(srcname)` on the cell above `fastsrcs()` to view the actual commented srcs with an example\n",
    "\n",
    "Run `fastcodes(query)` to search src comments for learning points"
   ]
  },
  {
   "cell_type": "code",
   "execution_count": null,
   "id": "5ef6debd",
   "metadata": {},
   "outputs": [
    {
     "data": {
      "text/markdown": [
       "keyword match is <mark style=\"background-color: #ffff00\">1.0</mark> , found a line: in <mark style=\"background-color: #FFFF00\">test_sig.py</mark> "
      ],
      "text/plain": [
       "<IPython.core.display.Markdown object>"
      ]
     },
     "metadata": {},
     "output_type": "display_data"
    },
    {
     "name": "stdout",
     "output_type": "stream",
     "text": [
      "    test_eq(str(inspect.signature(f)), b)=================================================(2) # \u001b[35;1mtest_sig is to test two strings with test_eq\u001b[0m; \u001b[36;1mhow to turn a signature into a string;\u001b[0m; \n",
      "\n"
     ]
    },
    {
     "data": {
      "text/markdown": [
       "the entire source code in <mark style=\"background-color: #FFFF00\">test_sig.py</mark> "
      ],
      "text/plain": [
       "<IPython.core.display.Markdown object>"
      ]
     },
     "metadata": {},
     "output_type": "display_data"
    },
    {
     "name": "stdout",
     "output_type": "stream",
     "text": [
      "\n",
      "def func_2(h,i=3, j=[5,6]): pass\n",
      "test_sig(func_2, '(h, i=3, j=[5, 6])')\n",
      "\n",
      "def test_sig(f, b):=======================================================================(0)       \n",
      "    \"Test the signature of an object\"=====================================================(1) # \u001b[34;1mtest_sig(f:FunctionType or ClassType, b:str)\u001b[0m; \u001b[92;1mtest_sig will get f's signature as a string\u001b[0m; \u001b[36;1mb is a signature in string provided by the user\u001b[0m; \u001b[35;1min fact, test_sig is to compare two strings\u001b[0m; \n",
      "    test_eq(str(inspect.signature(f)), b)=================================================(2) # \u001b[35;1mtest_sig is to test two strings with test_eq\u001b[0m; \u001b[36;1mhow to turn a signature into a string;\u001b[0m; \n",
      "                                                                                                                                                        (3)\n",
      "\n"
     ]
    }
   ],
   "source": [
    "fastcodes(\"how to turn a sig into string\", accu=1)"
   ]
  },
  {
   "cell_type": "code",
   "execution_count": null,
   "id": "24e682df",
   "metadata": {},
   "outputs": [
    {
     "name": "stdout",
     "output_type": "stream",
     "text": [
      "\n",
      "def func_2(h,i=3, j=[5,6]): pass\n",
      "test_sig(func_2, '(h, i=3, j=[5, 6])')\n",
      "\n",
      "def test_sig(f, b):=======================================================================(0)       \n",
      "    \"Test the signature of an object\"=====================================================(1) # \u001b[34;1mtest_sig(f:FunctionType or ClassType, b:str)\u001b[0m; \u001b[92;1mtest_sig will get f's signature as a string\u001b[0m; \u001b[36;1mb is a signature in string provided by the user\u001b[0m; \u001b[35;1min fact, test_sig is to compare two strings\u001b[0m; \n",
      "    test_eq(str(inspect.signature(f)), b)=================================================(2) # \u001b[35;1mtest_sig is to test two strings with test_eq\u001b[0m; \u001b[36;1mhow to turn a signature into a string;\u001b[0m; \n",
      "                                                                                                                                                        (3)\n"
     ]
    }
   ],
   "source": [
    "fastview(\"test_sig\")"
   ]
  },
  {
   "cell_type": "code",
   "execution_count": null,
   "id": "525ab703",
   "metadata": {},
   "outputs": [
    {
     "name": "stdout",
     "output_type": "stream",
     "text": [
      "anno_dict.py\n",
      "test_sig.py\n",
      "subplots.py\n",
      "show_titled_image.py\n",
      "DataBlock.py\n",
      "BypassNewMeta.py\n",
      "snoop.py\n",
      "FixSigMeta.py\n",
      "show_images.py\n",
      "fastnbs.py\n",
      "_fig_bounds.py\n",
      "funcs_kwargs.py\n",
      "__init__.py\n",
      "NewChkMeta.py\n",
      "printtitle.py\n",
      "show_image.py\n",
      "AutoInit.py\n",
      "get_image_files.py\n",
      "method.py\n",
      "_rm_self.py\n",
      "delegates.py\n",
      "create_explore_str.py\n",
      "PrePostInitMeta.py\n",
      "_funcs_kwargs.py\n",
      "whatinside.py\n"
     ]
    }
   ],
   "source": [
    "fastsrcs()"
   ]
  },
  {
   "cell_type": "markdown",
   "id": "109f8f78",
   "metadata": {},
   "source": [
    "### import fastdebug.utils as fu"
   ]
  },
  {
   "cell_type": "code",
   "execution_count": null,
   "id": "4c413192",
   "metadata": {},
   "outputs": [],
   "source": [
    "#| export\n",
    "import fastdebug.utils as fu"
   ]
  },
  {
   "cell_type": "code",
   "execution_count": null,
   "id": "a2735678",
   "metadata": {},
   "outputs": [],
   "source": [
    "#| export \n",
    "fu = fu"
   ]
  },
  {
   "cell_type": "markdown",
   "id": "305216d1-cf52-4008-90ee-98f9cd1737d0",
   "metadata": {},
   "source": [
    "#|hide\n",
    "## Export"
   ]
  },
  {
   "cell_type": "code",
   "execution_count": null,
   "id": "4efd0977-4efa-4e80-af27-b3aaa252a619",
   "metadata": {},
   "outputs": [],
   "source": [
    "#| hide\n",
    "from nbdev import nbdev_export\n",
    "nbdev_export()"
   ]
  },
  {
   "cell_type": "code",
   "execution_count": null,
   "id": "1a6254f5",
   "metadata": {},
   "outputs": [],
   "source": []
  }
 ],
 "metadata": {
  "kernelspec": {
   "display_name": "Python 3 (ipykernel)",
   "language": "python",
   "name": "python3"
  }
 },
 "nbformat": 4,
 "nbformat_minor": 5
}
