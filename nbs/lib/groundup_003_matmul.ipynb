{
 "cells": [
  {
   "cell_type": "code",
   "execution_count": null,
   "metadata": {},
   "outputs": [],
   "source": []
  },
  {
   "cell_type": "markdown",
   "metadata": {},
   "source": [
    "# groundup_003_matmul"
   ]
  },
  {
   "cell_type": "code",
   "execution_count": null,
   "metadata": {},
   "outputs": [],
   "source": [
    "#| default_exp delete0002"
   ]
  },
  {
   "cell_type": "raw",
   "metadata": {},
   "source": [
    "---\n",
    "skip_exec: true\n",
    "---"
   ]
  },
  {
   "cell_type": "markdown",
   "metadata": {},
   "source": [
    "## Matrix multiplication from foundations"
   ]
  },
  {
   "cell_type": "markdown",
   "metadata": {},
   "source": [
    "The *foundations* we'll assume throughout this course are:\n",
    "\n",
    "- Python\n",
    "- matplotlib\n",
    "- The Python standard library\n",
    "- Jupyter notebooks and nbdev"
   ]
  },
  {
   "cell_type": "markdown",
   "metadata": {},
   "source": [
    "## imports"
   ]
  },
  {
   "cell_type": "code",
   "execution_count": null,
   "metadata": {},
   "outputs": [
    {
     "data": {
      "text/html": [
       "<style>.container { width:100% !important; }</style>"
      ],
      "text/plain": [
       "<IPython.core.display.HTML object>"
      ]
     },
     "metadata": {},
     "output_type": "display_data"
    }
   ],
   "source": [
    "from fastdebug.utils import *\n",
    "from fastdebug.core import *"
   ]
  },
  {
   "cell_type": "code",
   "execution_count": null,
   "metadata": {},
   "outputs": [],
   "source": [
    "# from fastdebug.groundup import *"
   ]
  },
  {
   "cell_type": "code",
   "execution_count": null,
   "metadata": {},
   "outputs": [],
   "source": [
    "from pathlib import Path\n",
    "import pickle, gzip, math, os, time, shutil, matplotlib as mpl, matplotlib.pyplot as plt"
   ]
  },
  {
   "cell_type": "markdown",
   "metadata": {},
   "source": [
    "## get_exp_data"
   ]
  },
  {
   "cell_type": "code",
   "execution_count": null,
   "metadata": {},
   "outputs": [
    {
     "data": {
      "text/plain": [
       "PosixPath('data')"
      ]
     },
     "execution_count": null,
     "metadata": {},
     "output_type": "execute_result"
    }
   ],
   "source": [
    "MNIST_URL='https://github.com/mnielsen/neural-networks-and-deep-learning/blob/master/data/mnist.pkl.gz?raw=true'\n",
    "path_data = Path('data')\n",
    "path_data"
   ]
  },
  {
   "cell_type": "code",
   "execution_count": null,
   "metadata": {},
   "outputs": [],
   "source": [
    "path_data.mkdir(exist_ok=True) # created a data folder in the current directory"
   ]
  },
  {
   "cell_type": "code",
   "execution_count": null,
   "metadata": {},
   "outputs": [
    {
     "data": {
      "text/plain": [
       "PosixPath('data/mnist.pkl.gz')"
      ]
     },
     "execution_count": null,
     "metadata": {},
     "output_type": "execute_result"
    }
   ],
   "source": [
    "path_gz = path_data/'mnist.pkl.gz'\n",
    "path_gz"
   ]
  },
  {
   "cell_type": "markdown",
   "metadata": {},
   "source": [
    "[urlretrieve](https://docs.python.org/3/library/urllib.request.html#urllib.request.urlretrieve) - (read the docs!)"
   ]
  },
  {
   "cell_type": "code",
   "execution_count": null,
   "metadata": {},
   "outputs": [],
   "source": [
    "from urllib.request import urlretrieve"
   ]
  },
  {
   "cell_type": "code",
   "execution_count": null,
   "metadata": {},
   "outputs": [
    {
     "name": "stdout",
     "output_type": "stream",
     "text": [
      "signature: (url, filename=None, reporthook=None, data=None)\n",
      "__class__: <class 'function'>\n",
      "__repr__: <function urlretrieve>\n",
      "\n",
      "__doc__:\n",
      "Retrieve a URL into a temporary location on disk.\n",
      "\n",
      "Requires a URL argument. If a filename is passed, it is used as\n",
      "the temporary file location. The reporthook argument should be\n",
      "a callable that accepts a block number, a read size, and the\n",
      "total file size of the URL target. The data argument should be\n",
      "valid URL encoded data.\n",
      "\n",
      "If a filename is passed and the URL points to a local resource,\n",
      "the result is a copy from local file to new file.\n",
      "\n",
      "__dict__: \n",
      "{}\n",
      "metaclass: False\n",
      "class: False\n",
      "decorator: False\n",
      "function: True\n",
      "method: False\n"
     ]
    }
   ],
   "source": [
    "check(urlretrieve)"
   ]
  },
  {
   "cell_type": "code",
   "execution_count": null,
   "metadata": {},
   "outputs": [],
   "source": [
    "if not path_gz.exists(): urlretrieve(MNIST_URL, path_gz)"
   ]
  },
  {
   "cell_type": "code",
   "execution_count": null,
   "metadata": {},
   "outputs": [
    {
     "name": "stdout",
     "output_type": "stream",
     "text": [
      "total 33312\r\n",
      "-rw-r--r--  1 Natsume  staff  17051982 Oct 11 18:46 mnist.pkl.gz\r\n"
     ]
    }
   ],
   "source": [
    "!ls -l data"
   ]
  },
  {
   "cell_type": "code",
   "execution_count": null,
   "metadata": {},
   "outputs": [],
   "source": [
    "with gzip.open(path_gz, 'rb') as f: ((x_train, y_train), (x_valid, y_valid), _) = pickle.load(f, encoding='latin-1')"
   ]
  },
  {
   "cell_type": "code",
   "execution_count": null,
   "metadata": {},
   "outputs": [],
   "source": [
    "#| export\n",
    "a = \"todelete\""
   ]
  },
  {
   "cell_type": "code",
   "execution_count": null,
   "metadata": {},
   "outputs": [],
   "source": [
    "#| export groundup\n",
    "def get_exp_data():\n",
    "    MNIST_URL='https://github.com/mnielsen/neural-networks-and-deep-learning/blob/master/data/mnist.pkl.gz?raw=true'\n",
    "    path_data = Path('data')\n",
    "    path_data.mkdir(exist_ok=True) # created a data folder in the current directory\n",
    "    path_gz = path_data/'mnist.pkl.gz'\n",
    "    from urllib.request import urlretrieve\n",
    "    if not path_gz.exists(): urlretrieve(MNIST_URL, path_gz)\n",
    "    with gzip.open(path_gz, 'rb') as f: ((x_train, y_train), (x_valid, y_valid), _) = pickle.load(f, encoding='latin-1')\n",
    "    return x_train, y_train, x_valid, y_valid"
   ]
  },
  {
   "cell_type": "code",
   "execution_count": null,
   "metadata": {},
   "outputs": [],
   "source": [
    "x_train, y_train, x_valid, y_valid = get_exp_data()"
   ]
  },
  {
   "cell_type": "code",
   "execution_count": null,
   "metadata": {},
   "outputs": [
    {
     "data": {
      "text/plain": [
       "(784,)"
      ]
     },
     "execution_count": null,
     "metadata": {},
     "output_type": "execute_result"
    },
    {
     "data": {
      "text/plain": [
       "784"
      ]
     },
     "execution_count": null,
     "metadata": {},
     "output_type": "execute_result"
    },
    {
     "data": {
      "text/plain": [
       "numpy.ndarray"
      ]
     },
     "execution_count": null,
     "metadata": {},
     "output_type": "execute_result"
    }
   ],
   "source": [
    "x_train[0].shape\n",
    "x_train[0].size\n",
    "type(x_train[0])"
   ]
  },
  {
   "cell_type": "markdown",
   "metadata": {},
   "source": [
    "### range, yield, chunks"
   ]
  },
  {
   "cell_type": "code",
   "execution_count": null,
   "metadata": {},
   "outputs": [
    {
     "data": {
      "text/plain": [
       "[0.0,\n",
       " 0.0,\n",
       " 0.0,\n",
       " 0.19140625,\n",
       " 0.9296875,\n",
       " 0.98828125,\n",
       " 0.98828125,\n",
       " 0.98828125,\n",
       " 0.98828125,\n",
       " 0.98828125]"
      ]
     },
     "execution_count": null,
     "metadata": {},
     "output_type": "execute_result"
    }
   ],
   "source": [
    "lst1 = list(x_train[0])\n",
    "vals = lst1[200:210]\n",
    "vals"
   ]
  },
  {
   "cell_type": "code",
   "execution_count": null,
   "metadata": {},
   "outputs": [],
   "source": [
    "#| export groundup\n",
    "def chunks(x, sz):\n",
    "    for i in range(0, len(x), sz): \n",
    "        print(i)\n",
    "        yield x[i:i+sz]"
   ]
  },
  {
   "cell_type": "code",
   "execution_count": null,
   "metadata": {},
   "outputs": [
    {
     "data": {
      "text/plain": [
       "[0.0,\n",
       " 0.0,\n",
       " 0.0,\n",
       " 0.19140625,\n",
       " 0.9296875,\n",
       " 0.98828125,\n",
       " 0.98828125,\n",
       " 0.98828125,\n",
       " 0.98828125,\n",
       " 0.98828125]"
      ]
     },
     "execution_count": null,
     "metadata": {},
     "output_type": "execute_result"
    },
    {
     "name": "stdout",
     "output_type": "stream",
     "text": [
      "0\n",
      "5\n"
     ]
    },
    {
     "data": {
      "text/plain": [
       "[[0.0, 0.0, 0.0, 0.19140625, 0.9296875],\n",
       " [0.98828125, 0.98828125, 0.98828125, 0.98828125, 0.98828125]]"
      ]
     },
     "execution_count": null,
     "metadata": {},
     "output_type": "execute_result"
    }
   ],
   "source": [
    "vals\n",
    "list(chunks(vals, 5))"
   ]
  },
  {
   "cell_type": "code",
   "execution_count": null,
   "metadata": {},
   "outputs": [],
   "source": [
    "def chunks(x, sz):\n",
    "    for i in range(0, len(x), sz): yield x[i:i+sz]"
   ]
  },
  {
   "cell_type": "code",
   "execution_count": null,
   "metadata": {},
   "outputs": [
    {
     "data": {
      "text/plain": [
       "generator"
      ]
     },
     "execution_count": null,
     "metadata": {},
     "output_type": "execute_result"
    }
   ],
   "source": [
    "type(chunks(lst1, 28))"
   ]
  },
  {
   "cell_type": "code",
   "execution_count": null,
   "metadata": {},
   "outputs": [
    {
     "data": {
      "text/plain": [
       "28"
      ]
     },
     "execution_count": null,
     "metadata": {},
     "output_type": "execute_result"
    }
   ],
   "source": [
    "img = list(chunks(lst1, 28))\n",
    "len(img)"
   ]
  },
  {
   "cell_type": "code",
   "execution_count": null,
   "metadata": {},
   "outputs": [
    {
     "name": "stdout",
     "output_type": "stream",
     "text": [
      "signature: (X, cmap=None, norm=None, *, aspect=None, interpolation=None, alpha=None, vmin=None, vmax=None, origin=None, extent=None, interpolation_stage=None, filternorm=True, filterrad=4.0, resample=None, url=None, data=None, **kwargs)\n",
      "__class__: <class 'function'>\n",
      "__repr__: <function imshow>\n",
      "\n",
      "__doc__:\n",
      "Display data as an image, i.e., on a 2D regular raster.\n",
      "\n",
      "The input may either be actual RGB(A) data, or 2D scalar data, which\n",
      "will be rendered as a pseudocolor image. For displaying a grayscale\n",
      "image set up the colormapping using the parameters\n",
      "``cmap='gray', vmin=0, vmax=255``.\n",
      "\n",
      "The number of pixels used to render an image is set by the Axes size\n",
      "and the *dpi* of the figure. This can lead to aliasing artifacts when\n",
      "the image is resampled because the displayed image size will usually\n",
      "not match the size of *X* (see\n",
      "__dict__: \n",
      "{'__signature__': <Signature (X, cmap=None, norm=None, *, aspect=None, interpolation=None, alpha=None, vmin=None, vmax=None, origin=None, extent=None, interpolation_stage=None, filternorm=True, filterrad=4.0, resample=None, url=None, data=None, **kwargs)>,\n",
      " '__wrapped__': <function imshow>}\n",
      "metaclass: False\n",
      "class: False\n",
      "decorator: False\n",
      "function: True\n",
      "method: False\n"
     ]
    }
   ],
   "source": [
    "check(plt.imshow)"
   ]
  },
  {
   "cell_type": "code",
   "execution_count": null,
   "metadata": {},
   "outputs": [
    {
     "data": {
      "image/png": "[encoded data removed]",
      "text/plain": [
       "<Figure size 640x480 with 1 Axes>"
      ]
     },
     "metadata": {},
     "output_type": "display_data"
    }
   ],
   "source": [
    "mpl.rcParams['image.cmap'] = 'gray'\n",
    "plt.imshow(list(chunks(lst1, 28)));"
   ]
  },
  {
   "cell_type": "markdown",
   "metadata": {},
   "source": [
    "### [islice](https://docs.python.org/3/library/itertools.html#itertools.islice)"
   ]
  },
  {
   "cell_type": "code",
   "execution_count": null,
   "metadata": {},
   "outputs": [],
   "source": [
    "from itertools import islice"
   ]
  },
  {
   "cell_type": "code",
   "execution_count": null,
   "metadata": {},
   "outputs": [
    {
     "data": {
      "text/plain": [
       "type"
      ]
     },
     "execution_count": null,
     "metadata": {},
     "output_type": "execute_result"
    }
   ],
   "source": [
    "islice.__class__"
   ]
  },
  {
   "cell_type": "code",
   "execution_count": null,
   "metadata": {},
   "outputs": [
    {
     "name": "stdout",
     "output_type": "stream",
     "text": [
      "Help on class islice in module itertools:\n",
      "\n",
      "class islice(builtins.object)\n",
      " |  islice(iterable, stop) --> islice object\n",
      " |  islice(iterable, start, stop[, step]) --> islice object\n",
      " |  \n",
      " |  Return an iterator whose next() method returns selected values from an\n",
      " |  iterable.  If start is specified, will skip all preceding elements;\n",
      " |  otherwise, start defaults to zero.  Step defaults to one.  If\n",
      " |  specified as another value, step determines how many values are\n",
      " |  skipped between successive calls.  Works like a slice() on a list\n",
      " |  but returns an iterator.\n",
      " |  \n",
      " |  Methods defined here:\n",
      " |  \n",
      " |  __getattribute__(self, name, /)\n",
      " |      Return getattr(self, name).\n",
      " |  \n",
      " |  __iter__(self, /)\n",
      " |      Implement iter(self).\n",
      " |  \n",
      " |  __next__(self, /)\n",
      " |      Implement next(self).\n",
      " |  \n",
      " |  __reduce__(...)\n",
      " |      Return state information for pickling.\n",
      " |  \n",
      " |  __setstate__(...)\n",
      " |      Set state information for unpickling.\n",
      " |  \n",
      " |  ----------------------------------------------------------------------\n",
      " |  Static methods defined here:\n",
      " |  \n",
      " |  __new__(*args, **kwargs) from builtins.type\n",
      " |      Create and return a new object.  See help(type) for accurate signature.\n",
      "\n"
     ]
    }
   ],
   "source": [
    "help(islice)"
   ]
  },
  {
   "cell_type": "code",
   "execution_count": null,
   "metadata": {},
   "outputs": [
    {
     "data": {
      "text/plain": [
       "[0.0,\n",
       " 0.0,\n",
       " 0.0,\n",
       " 0.19140625,\n",
       " 0.9296875,\n",
       " 0.98828125,\n",
       " 0.98828125,\n",
       " 0.98828125,\n",
       " 0.98828125,\n",
       " 0.98828125]"
      ]
     },
     "execution_count": null,
     "metadata": {},
     "output_type": "execute_result"
    },
    {
     "data": {
      "text/plain": [
       "10"
      ]
     },
     "execution_count": null,
     "metadata": {},
     "output_type": "execute_result"
    }
   ],
   "source": [
    "vals\n",
    "len(vals)"
   ]
  },
  {
   "cell_type": "code",
   "execution_count": null,
   "metadata": {},
   "outputs": [
    {
     "data": {
      "text/plain": [
       "<itertools.islice>"
      ]
     },
     "execution_count": null,
     "metadata": {},
     "output_type": "execute_result"
    }
   ],
   "source": [
    "it = iter(vals)\n",
    "islice(it, 5)"
   ]
  },
  {
   "cell_type": "code",
   "execution_count": null,
   "metadata": {},
   "outputs": [
    {
     "data": {
      "text/plain": [
       "[0.0, 0.0, 0.0, 0.19140625, 0.9296875]"
      ]
     },
     "execution_count": null,
     "metadata": {},
     "output_type": "execute_result"
    }
   ],
   "source": [
    "list(islice(it, 5))"
   ]
  },
  {
   "cell_type": "code",
   "execution_count": null,
   "metadata": {},
   "outputs": [
    {
     "data": {
      "text/plain": [
       "[0.98828125, 0.98828125, 0.98828125, 0.98828125, 0.98828125]"
      ]
     },
     "execution_count": null,
     "metadata": {},
     "output_type": "execute_result"
    }
   ],
   "source": [
    "list(islice(it, 5))"
   ]
  },
  {
   "cell_type": "code",
   "execution_count": null,
   "metadata": {},
   "outputs": [
    {
     "data": {
      "text/plain": [
       "[]"
      ]
     },
     "execution_count": null,
     "metadata": {},
     "output_type": "execute_result"
    }
   ],
   "source": [
    "list(islice(it, 5))"
   ]
  },
  {
   "cell_type": "code",
   "execution_count": null,
   "metadata": {},
   "outputs": [
    {
     "name": "stdout",
     "output_type": "stream",
     "text": [
      "signature: None\n",
      "__class__: <class 'builtin_function_or_method'>\n",
      "__repr__: <built-in function iter>\n",
      "\n",
      "__doc__:\n",
      "iter(iterable) -> iterator\n",
      "iter(callable, sentinel) -> iterator\n",
      "\n",
      "Get an iterator from an object.  In the first form, the argument must\n",
      "supply its own iterator, or be a sequence.\n",
      "In the second form, the callable is called until it returns the sentinel.\n",
      "__dict__: not exist \n",
      "\n",
      "metaclass: False\n",
      "class: False\n",
      "decorator: False\n",
      "function: False\n",
      "method: False\n"
     ]
    }
   ],
   "source": [
    "check(iter)"
   ]
  },
  {
   "cell_type": "markdown",
   "metadata": {},
   "source": [
    "### islice, iter, chunks_faster\n",
    "why using `islice` and `iter` over `chunks`"
   ]
  },
  {
   "cell_type": "code",
   "execution_count": null,
   "metadata": {},
   "outputs": [
    {
     "name": "stdout",
     "output_type": "stream",
     "text": [
      "54.2 ns ± 17.1 ns per loop (mean ± std. dev. of 7 runs, 10 loops each)\n"
     ]
    }
   ],
   "source": [
    "%timeit -n 10 it = iter(lst1)"
   ]
  },
  {
   "cell_type": "code",
   "execution_count": null,
   "metadata": {},
   "outputs": [
    {
     "name": "stdout",
     "output_type": "stream",
     "text": [
      "449 ns ± 151 ns per loop (mean ± std. dev. of 7 runs, 10 loops each)\n"
     ]
    }
   ],
   "source": [
    "%timeit -n 10 img = list(iter(lambda: list(islice(it, 28)), []))"
   ]
  },
  {
   "cell_type": "code",
   "execution_count": null,
   "metadata": {},
   "outputs": [
    {
     "data": {
      "text/plain": [
       "28"
      ]
     },
     "execution_count": null,
     "metadata": {},
     "output_type": "execute_result"
    }
   ],
   "source": [
    "len(img)"
   ]
  },
  {
   "cell_type": "code",
   "execution_count": null,
   "metadata": {},
   "outputs": [],
   "source": [
    "def chunks(x, sz):\n",
    "    for i in range(0, len(x), sz): yield x[i:i+sz]"
   ]
  },
  {
   "cell_type": "code",
   "execution_count": null,
   "metadata": {},
   "outputs": [
    {
     "name": "stdout",
     "output_type": "stream",
     "text": [
      "3.48 µs ± 189 ns per loop (mean ± std. dev. of 7 runs, 10 loops each)\n"
     ]
    }
   ],
   "source": [
    "%timeit -n 10 img = list(chunks(lst1, 28))"
   ]
  },
  {
   "cell_type": "code",
   "execution_count": null,
   "metadata": {},
   "outputs": [
    {
     "data": {
      "text/plain": [
       "28"
      ]
     },
     "execution_count": null,
     "metadata": {},
     "output_type": "execute_result"
    }
   ],
   "source": [
    "len(img)"
   ]
  },
  {
   "cell_type": "code",
   "execution_count": null,
   "metadata": {},
   "outputs": [
    {
     "data": {
      "text/plain": [
       "numpy.ndarray"
      ]
     },
     "execution_count": null,
     "metadata": {},
     "output_type": "execute_result"
    },
    {
     "data": {
      "text/plain": [
       "(784,)"
      ]
     },
     "execution_count": null,
     "metadata": {},
     "output_type": "execute_result"
    },
    {
     "data": {
      "text/plain": [
       "784"
      ]
     },
     "execution_count": null,
     "metadata": {},
     "output_type": "execute_result"
    }
   ],
   "source": [
    "type(x_train[0])\n",
    "x_train[0].shape\n",
    "x_train[0].size"
   ]
  },
  {
   "cell_type": "code",
   "execution_count": null,
   "metadata": {},
   "outputs": [],
   "source": [
    "#| export groundup\n",
    "def chunks_faster(x, sz):\n",
    "    \"if the data is numpy.ndarray and shape is 1 dimension, then we use chunks to make it a pseudo 2d\"\n",
    "    lst = list(x)\n",
    "    it = iter(lst)\n",
    "    img = list(iter(lambda: list(islice(it, sz)), []))\n",
    "    print(f'len: {len(img)}')\n",
    "    return img"
   ]
  },
  {
   "cell_type": "code",
   "execution_count": null,
   "metadata": {},
   "outputs": [
    {
     "name": "stdout",
     "output_type": "stream",
     "text": [
      "len: 28\n"
     ]
    }
   ],
   "source": [
    "img = chunks_faster(x_train[0], 28)"
   ]
  },
  {
   "cell_type": "code",
   "execution_count": null,
   "metadata": {},
   "outputs": [
    {
     "data": {
      "image/png": "[encoded data removed]",
      "text/plain": [
       "<Figure size 640x480 with 1 Axes>"
      ]
     },
     "metadata": {},
     "output_type": "display_data"
    }
   ],
   "source": [
    "plt.imshow(img);"
   ]
  },
  {
   "cell_type": "markdown",
   "metadata": {},
   "source": [
    "## Matrix and tensor"
   ]
  },
  {
   "cell_type": "markdown",
   "metadata": {},
   "source": [
    "### list and Matrix"
   ]
  },
  {
   "cell_type": "code",
   "execution_count": null,
   "metadata": {},
   "outputs": [
    {
     "data": {
      "text/plain": [
       "list"
      ]
     },
     "execution_count": null,
     "metadata": {},
     "output_type": "execute_result"
    }
   ],
   "source": [
    "type(img)"
   ]
  },
  {
   "cell_type": "code",
   "execution_count": null,
   "metadata": {},
   "outputs": [
    {
     "data": {
      "text/plain": [
       "0.98828125"
      ]
     },
     "execution_count": null,
     "metadata": {},
     "output_type": "execute_result"
    }
   ],
   "source": [
    "img[20][15]"
   ]
  },
  {
   "cell_type": "code",
   "execution_count": null,
   "metadata": {},
   "outputs": [],
   "source": [
    "#| export groundup\n",
    "class Matrix:\n",
    "    \"turning a list of list into a maxtrix like object\"\n",
    "    def __init__(self, xs): self.xs = xs\n",
    "    def __getitem__(self, idxs): return self.xs[idxs[0]][idxs[1]]"
   ]
  },
  {
   "cell_type": "code",
   "execution_count": null,
   "metadata": {},
   "outputs": [
    {
     "data": {
      "text/plain": [
       "0.98828125"
      ]
     },
     "execution_count": null,
     "metadata": {},
     "output_type": "execute_result"
    },
    {
     "data": {
      "text/plain": [
       "__main__.Matrix"
      ]
     },
     "execution_count": null,
     "metadata": {},
     "output_type": "execute_result"
    }
   ],
   "source": [
    "m = Matrix(img)\n",
    "m[20,15]\n",
    "type(m)"
   ]
  },
  {
   "cell_type": "markdown",
   "metadata": {},
   "source": [
    "### tensor, map, np.array"
   ]
  },
  {
   "cell_type": "code",
   "execution_count": null,
   "metadata": {},
   "outputs": [],
   "source": [
    "import torch\n",
    "from torch import tensor"
   ]
  },
  {
   "cell_type": "code",
   "execution_count": null,
   "metadata": {},
   "outputs": [
    {
     "data": {
      "text/plain": [
       "tensor([1, 2, 3])"
      ]
     },
     "execution_count": null,
     "metadata": {},
     "output_type": "execute_result"
    }
   ],
   "source": [
    "tensor([1,2,3])"
   ]
  },
  {
   "cell_type": "code",
   "execution_count": null,
   "metadata": {},
   "outputs": [
    {
     "data": {
      "text/plain": [
       "numpy.ndarray"
      ]
     },
     "execution_count": null,
     "metadata": {},
     "output_type": "execute_result"
    },
    {
     "data": {
      "text/plain": [
       "(50000, 784)"
      ]
     },
     "execution_count": null,
     "metadata": {},
     "output_type": "execute_result"
    }
   ],
   "source": [
    "type(x_train)\n",
    "x_train.shape"
   ]
  },
  {
   "cell_type": "code",
   "execution_count": null,
   "metadata": {},
   "outputs": [
    {
     "name": "stdout",
     "output_type": "stream",
     "text": [
      "signature: None\n",
      "__class__: <class 'builtin_function_or_method'>\n",
      "__repr__: <built-in method tensor of type object>\n",
      "\n",
      "__doc__:\n",
      "tensor(data, *, dtype=None, device=None, requires_grad=False, pin_memory=False) -> Tensor\n",
      "\n",
      "Constructs a tensor with no autograd history (also known as a \"leaf tensor\", see :doc:`/notes/autograd`) by copying :attr:`data`.\n",
      "\n",
      ".. warning::\n",
      "\n",
      "    When working with tensors prefer using :func:`torch.Tensor.clone`,\n",
      "    :func:`torch.Tensor.detach`, and :func:`torch.Tensor.requires_grad_` for\n",
      "    readability. Letting `t` be a tensor, ``torch.tensor(t)`` is equivalent to\n",
      "    ``t.clone().detach()``, and ``torch.tensor(t, requires_grad=True)``\n",
      "    is equivalent to ``t.clone().detach().requires_grad_(True)``.\n",
      "__dict__: not exist \n",
      "\n",
      "metaclass: False\n",
      "class: False\n",
      "decorator: False\n",
      "function: False\n",
      "method: False\n"
     ]
    }
   ],
   "source": [
    "check(tensor)"
   ]
  },
  {
   "cell_type": "code",
   "execution_count": null,
   "metadata": {},
   "outputs": [
    {
     "data": {
      "text/plain": [
       "torch.Size([50000, 784])"
      ]
     },
     "execution_count": null,
     "metadata": {},
     "output_type": "execute_result"
    }
   ],
   "source": [
    "x_train,y_train,x_valid,y_valid = map(tensor, (x_train,y_train,x_valid,y_valid))\n",
    "x_train.shape"
   ]
  },
  {
   "cell_type": "markdown",
   "metadata": {},
   "source": [
    "### tensor.type, tensor.reshape"
   ]
  },
  {
   "cell_type": "code",
   "execution_count": null,
   "metadata": {},
   "outputs": [
    {
     "name": "stdout",
     "output_type": "stream",
     "text": [
      "signature: None\n",
      "__class__: <class 'builtin_function_or_method'>\n",
      "__repr__: <built-in method type of Tensor object>\n",
      "\n",
      "__doc__:\n",
      "type(dtype=None, non_blocking=False, **kwargs) -> str or Tensor\n",
      "Returns the type if `dtype` is not provided, else casts this object to\n",
      "the specified type.\n",
      "\n",
      "If this is already of the correct type, no copy is performed and the\n",
      "original object is returned.\n",
      "\n",
      "Args:\n",
      "    dtype (dtype or string): The desired type\n",
      "    non_blocking (bool): If ``True``, and the source is in pinned memory\n",
      "        and destination is on the GPU or vice versa, the copy is performed\n",
      "__dict__: not exist \n",
      "\n",
      "metaclass: False\n",
      "class: False\n",
      "decorator: False\n",
      "function: False\n",
      "method: False\n"
     ]
    }
   ],
   "source": [
    "check(x_train.type)"
   ]
  },
  {
   "cell_type": "code",
   "execution_count": null,
   "metadata": {},
   "outputs": [
    {
     "data": {
      "text/plain": [
       "'torch.FloatTensor'"
      ]
     },
     "execution_count": null,
     "metadata": {},
     "output_type": "execute_result"
    }
   ],
   "source": [
    "x_train.type()"
   ]
  },
  {
   "cell_type": "code",
   "execution_count": null,
   "metadata": {},
   "outputs": [
    {
     "name": "stdout",
     "output_type": "stream",
     "text": [
      "signature: None\n",
      "__class__: <class 'builtin_function_or_method'>\n",
      "__repr__: <built-in method reshape of Tensor object>\n",
      "\n",
      "__doc__:\n",
      "reshape(*shape) -> Tensor\n",
      "\n",
      "Returns a tensor with the same data and number of elements as :attr:`self`\n",
      "but with the specified shape. This method returns a view if :attr:`shape` is\n",
      "compatible with the current shape. See :meth:`torch.Tensor.view` on when it is\n",
      "possible to return a view.\n",
      "\n",
      "See :func:`torch.reshape`\n",
      "\n",
      "Args:\n",
      "    shape (tuple of ints or int...): the desired shape\n",
      "__dict__: not exist \n",
      "\n",
      "metaclass: False\n",
      "class: False\n",
      "decorator: False\n",
      "function: False\n",
      "method: False\n"
     ]
    }
   ],
   "source": [
    "check(x_train.reshape)"
   ]
  },
  {
   "cell_type": "code",
   "execution_count": null,
   "metadata": {},
   "outputs": [
    {
     "name": "stdout",
     "output_type": "stream",
     "text": [
      "signature: None\n",
      "__class__: <class 'builtin_function_or_method'>\n",
      "__repr__: <built-in method reshape of type object>\n",
      "\n",
      "__doc__:\n",
      "reshape(input, shape) -> Tensor\n",
      "\n",
      "Returns a tensor with the same data and number of elements as :attr:`input`,\n",
      "but with the specified shape. When possible, the returned tensor will be a view\n",
      "of :attr:`input`. Otherwise, it will be a copy. Contiguous inputs and inputs\n",
      "with compatible strides can be reshaped without copying, but you should not\n",
      "depend on the copying vs. viewing behavior.\n",
      "\n",
      "See :meth:`torch.Tensor.view` on when it is possible to return a view.\n",
      "\n",
      "A single dimension may be -1, in which case it's inferred from the remaining\n",
      "__dict__: not exist \n",
      "\n",
      "metaclass: False\n",
      "class: False\n",
      "decorator: False\n",
      "function: False\n",
      "method: False\n"
     ]
    }
   ],
   "source": [
    "check(torch.reshape)"
   ]
  },
  {
   "cell_type": "code",
   "execution_count": null,
   "metadata": {},
   "outputs": [
    {
     "name": "stdout",
     "output_type": "stream",
     "text": [
      "Variable   Type      Data/Info\n",
      "------------------------------\n",
      "x_train    Tensor    tensor([[0., 0., 0.,  ...<...>, 0.,  ..., 0., 0., 0.]])\n",
      "x_valid    Tensor    tensor([[0., 0., 0.,  ...<...>, 0.,  ..., 0., 0., 0.]])\n",
      "y_train    Tensor    tensor([5, 0, 4,  ..., 8, 4, 8])\n",
      "y_valid    Tensor    tensor([3, 8, 6,  ..., 5, 6, 8])\n"
     ]
    }
   ],
   "source": [
    "%whos Tensor"
   ]
  },
  {
   "cell_type": "code",
   "execution_count": null,
   "metadata": {},
   "outputs": [],
   "source": [
    "imgs = x_train.reshape((-1,28,28))"
   ]
  },
  {
   "cell_type": "code",
   "execution_count": null,
   "metadata": {},
   "outputs": [
    {
     "data": {
      "text/plain": [
       "torch.Size([50000, 28, 28])"
      ]
     },
     "execution_count": null,
     "metadata": {},
     "output_type": "execute_result"
    }
   ],
   "source": [
    "imgs.shape"
   ]
  },
  {
   "cell_type": "code",
   "execution_count": null,
   "metadata": {},
   "outputs": [
    {
     "data": {
      "image/png": "[encoded data removed]",
      "text/plain": [
       "<Figure size 640x480 with 1 Axes>"
      ]
     },
     "metadata": {},
     "output_type": "display_data"
    }
   ],
   "source": [
    "plt.imshow(imgs[0]);"
   ]
  },
  {
   "cell_type": "code",
   "execution_count": null,
   "metadata": {},
   "outputs": [
    {
     "data": {
      "text/plain": [
       "tensor(0.9883)"
      ]
     },
     "execution_count": null,
     "metadata": {},
     "output_type": "execute_result"
    }
   ],
   "source": [
    "imgs[0,20,15]"
   ]
  },
  {
   "cell_type": "markdown",
   "metadata": {},
   "source": [
    "### torch.shape"
   ]
  },
  {
   "cell_type": "code",
   "execution_count": null,
   "metadata": {},
   "outputs": [
    {
     "name": "stdout",
     "output_type": "stream",
     "text": [
      "signature: None\n",
      "__class__: <class 'torch.Size'>\n",
      "__repr__: torch.Size([50000, 784])\n",
      "\n",
      "__doc__: not exist\n",
      "\n",
      "__dict__: not exist \n",
      "\n",
      "metaclass: False\n",
      "class: False\n",
      "decorator: False\n",
      "function: False\n",
      "method: False\n"
     ]
    }
   ],
   "source": [
    "check(x_train.shape)"
   ]
  },
  {
   "cell_type": "code",
   "execution_count": null,
   "metadata": {},
   "outputs": [
    {
     "name": "stdout",
     "output_type": "stream",
     "text": [
      "signature: (iterable=(), /)\n",
      "__class__: <class 'type'>\n",
      "__repr__: <class 'torch.Size'>\n",
      "\n",
      "__doc__: not exist\n",
      "\n",
      "__dict__: \n",
      "mappingproxy({'__add__': <slot wrapper '__add__' of 'torch.Size' objects>,\n",
      "              '__doc__': None,\n",
      "              '__getitem__': <slot wrapper '__getitem__' of 'torch.Size' objects>,\n",
      "              '__mul__': <slot wrapper '__mul__' of 'torch.Size' objects>,\n",
      "              '__new__': <built-in method __new__ of type object>,\n",
      "              '__reduce__': <method '__reduce__' of 'torch.Size' objects>,\n",
      "              '__repr__': <slot wrapper '__repr__' of 'torch.Size' objects>,\n",
      "              '__rmul__': <slot wrapper '__rmul__' of 'torch.Size' objects>,\n",
      "              'numel': <method 'numel' of 'torch.Size' objects>})\n",
      "metaclass: False\n",
      "class: True\n",
      "decorator: False\n",
      "function: False\n",
      "method: False\n"
     ]
    }
   ],
   "source": [
    "check(torch.Size)"
   ]
  },
  {
   "cell_type": "code",
   "execution_count": null,
   "metadata": {},
   "outputs": [
    {
     "data": {
      "text/plain": [
       "torch.Size([50000, 784])"
      ]
     },
     "execution_count": null,
     "metadata": {},
     "output_type": "execute_result"
    },
    {
     "data": {
      "text/plain": [
       "(50000, 784)"
      ]
     },
     "execution_count": null,
     "metadata": {},
     "output_type": "execute_result"
    }
   ],
   "source": [
    "x_train.shape\n",
    "n,c = x_train.shape\n",
    "n,c"
   ]
  },
  {
   "cell_type": "code",
   "execution_count": null,
   "metadata": {},
   "outputs": [
    {
     "data": {
      "text/plain": [
       "(tensor([5, 0, 4,  ..., 8, 4, 8]), torch.Size([50000]))"
      ]
     },
     "execution_count": null,
     "metadata": {},
     "output_type": "execute_result"
    }
   ],
   "source": [
    "y_train, y_train.shape"
   ]
  },
  {
   "cell_type": "code",
   "execution_count": null,
   "metadata": {},
   "outputs": [
    {
     "data": {
      "text/plain": [
       "(tensor(0), tensor(9))"
      ]
     },
     "execution_count": null,
     "metadata": {},
     "output_type": "execute_result"
    }
   ],
   "source": [
    "min(y_train),max(y_train)"
   ]
  },
  {
   "cell_type": "code",
   "execution_count": null,
   "metadata": {},
   "outputs": [
    {
     "data": {
      "text/plain": [
       "(tensor(0), tensor(9))"
      ]
     },
     "execution_count": null,
     "metadata": {},
     "output_type": "execute_result"
    }
   ],
   "source": [
    "y_train.min(), y_train.max()"
   ]
  },
  {
   "cell_type": "code",
   "execution_count": null,
   "metadata": {},
   "outputs": [],
   "source": []
  },
  {
   "cell_type": "markdown",
   "metadata": {},
   "source": [
    "## Random numbers"
   ]
  },
  {
   "cell_type": "markdown",
   "metadata": {},
   "source": [
    "Based on the Wichmann Hill algorithm used before Python 2.3."
   ]
  },
  {
   "cell_type": "markdown",
   "metadata": {},
   "source": [
    "### divmod, seed, rand\n",
    "Create your own random number between 0 and 1"
   ]
  },
  {
   "cell_type": "code",
   "execution_count": null,
   "metadata": {},
   "outputs": [
    {
     "data": {
      "text/plain": [
       "(3, 1)"
      ]
     },
     "execution_count": null,
     "metadata": {},
     "output_type": "execute_result"
    }
   ],
   "source": [
    "divmod(10, 3)"
   ]
  },
  {
   "cell_type": "code",
   "execution_count": null,
   "metadata": {},
   "outputs": [],
   "source": [
    "rnd_state = None\n",
    "def seed(a):\n",
    "    global rnd_state\n",
    "    a, x = divmod(a, 30268)\n",
    "    a, y = divmod(a, 30306)\n",
    "    a, z = divmod(a, 30322)\n",
    "    rnd_state = int(x)+1, int(y)+1, int(z)+1"
   ]
  },
  {
   "cell_type": "code",
   "execution_count": null,
   "metadata": {},
   "outputs": [
    {
     "data": {
      "text/plain": [
       "(4976, 20238, 499)"
      ]
     },
     "execution_count": null,
     "metadata": {},
     "output_type": "execute_result"
    }
   ],
   "source": [
    "seed(457428938475)\n",
    "rnd_state"
   ]
  },
  {
   "cell_type": "code",
   "execution_count": null,
   "metadata": {},
   "outputs": [
    {
     "data": {
      "text/plain": [
       "1"
      ]
     },
     "execution_count": null,
     "metadata": {},
     "output_type": "execute_result"
    },
    {
     "data": {
      "text/plain": [
       "2"
      ]
     },
     "execution_count": null,
     "metadata": {},
     "output_type": "execute_result"
    }
   ],
   "source": [
    "5%2\n",
    "5%3"
   ]
  },
  {
   "cell_type": "code",
   "execution_count": null,
   "metadata": {},
   "outputs": [],
   "source": [
    "#| export groundup\n",
    "def rand():\n",
    "    \"create a random number between 0 and 1\"\n",
    "    global rnd_state\n",
    "    x, y, z = rnd_state\n",
    "    x = (171 * x) % 30269\n",
    "    y = (172 * y) % 30307\n",
    "    z = (170 * z) % 30323\n",
    "    rnd_state = x,y,z\n",
    "    return (x/30269 + y/30307 + z/30323) % 1.0"
   ]
  },
  {
   "cell_type": "code",
   "execution_count": null,
   "metadata": {},
   "outputs": [
    {
     "data": {
      "text/plain": [
       "(0.7645251082582081, 0.7920889799553945, 0.06912886811267205)"
      ]
     },
     "execution_count": null,
     "metadata": {},
     "output_type": "execute_result"
    }
   ],
   "source": [
    "rand(),rand(),rand()"
   ]
  },
  {
   "cell_type": "code",
   "execution_count": null,
   "metadata": {},
   "outputs": [
    {
     "name": "stdout",
     "output_type": "stream",
     "text": [
      "signature: None\n",
      "__class__: <class 'builtin_function_or_method'>\n",
      "__repr__: <built-in function fork>\n",
      "\n",
      "__doc__:\n",
      "Fork a child process.\n",
      "\n",
      "Return 0 to child process and PID of child to parent process.\n",
      "__dict__: not exist \n",
      "\n",
      "metaclass: False\n",
      "class: False\n",
      "decorator: False\n",
      "function: False\n",
      "method: False\n"
     ]
    }
   ],
   "source": [
    "check(os.fork)"
   ]
  },
  {
   "cell_type": "code",
   "execution_count": null,
   "metadata": {},
   "outputs": [
    {
     "name": "stdout",
     "output_type": "stream",
     "text": [
      "signature: None\n",
      "__class__: <class 'builtin_function_or_method'>\n",
      "__repr__: <built-in function _exit>\n",
      "\n",
      "__doc__:\n",
      "Exit to the system with specified status, without normal exit processing.\n",
      "__dict__: not exist \n",
      "\n",
      "metaclass: False\n",
      "class: False\n",
      "decorator: False\n",
      "function: False\n",
      "method: False\n"
     ]
    }
   ],
   "source": [
    "check(os._exit)"
   ]
  },
  {
   "cell_type": "code",
   "execution_count": null,
   "metadata": {},
   "outputs": [
    {
     "name": "stdout",
     "output_type": "stream",
     "text": [
      "signature: None\n",
      "__class__: <class 'int'>\n",
      "__repr__: 0\n",
      "\n",
      "__doc__:\n",
      "int([x]) -> integer\n",
      "int(x, base=10) -> integer\n",
      "\n",
      "Convert a number or string to an integer, or return 0 if no arguments\n",
      "are given.  If x is a number, return x.__int__().  For floating point\n",
      "numbers, this truncates towards zero.\n",
      "\n",
      "If x is not a number or if base is given, then x must be a string,\n",
      "bytes, or bytearray instance representing an integer literal in the\n",
      "given base.  The literal can be preceded by '+' or '-' and be surrounded\n",
      "by whitespace.  The base defaults to 10.  Valid bases are 0 and 2-36.\n",
      "__dict__: not exist \n",
      "\n",
      "metaclass: False\n",
      "class: False\n",
      "decorator: False\n",
      "function: False\n",
      "method: False\n"
     ]
    }
   ],
   "source": [
    "check(os.EX_OK)"
   ]
  },
  {
   "cell_type": "code",
   "execution_count": null,
   "metadata": {},
   "outputs": [
    {
     "name": "stdout",
     "output_type": "stream",
     "text": [
      "In parent: 0.9559050644103264\n",
      "In child: 0.9559050644103264\n"
     ]
    }
   ],
   "source": [
    "if os.fork(): print(f'In parent: {rand()}')\n",
    "else:\n",
    "    print(f'In child: {rand()}')\n",
    "    os._exit(os.EX_OK)"
   ]
  },
  {
   "cell_type": "code",
   "execution_count": null,
   "metadata": {},
   "outputs": [
    {
     "name": "stdout",
     "output_type": "stream",
     "text": [
      "In parent: tensor([0.2364])\n",
      "In child: tensor([0.2364])\n"
     ]
    }
   ],
   "source": [
    "if os.fork(): print(f'In parent: {torch.rand(1)}')\n",
    "else:\n",
    "    print(f'In child: {torch.rand(1)}')\n",
    "    os._exit(os.EX_OK)"
   ]
  },
  {
   "cell_type": "code",
   "execution_count": null,
   "metadata": {},
   "outputs": [
    {
     "data": {
      "image/png": "[encoded data removed]",
      "text/plain": [
       "<Figure size 640x480 with 1 Axes>"
      ]
     },
     "metadata": {},
     "output_type": "display_data"
    }
   ],
   "source": [
    "plt.plot([rand() for _ in range(50)]);"
   ]
  },
  {
   "cell_type": "code",
   "execution_count": null,
   "metadata": {},
   "outputs": [
    {
     "data": {
      "image/png": "[encoded data removed]",
      "text/plain": [
       "<Figure size 640x480 with 1 Axes>"
      ]
     },
     "metadata": {},
     "output_type": "display_data"
    }
   ],
   "source": [
    "plt.hist([rand() for _ in range(10000)]);"
   ]
  },
  {
   "cell_type": "markdown",
   "metadata": {},
   "source": [
    "### torch.randn\n",
    "much faster than rand from scratch"
   ]
  },
  {
   "cell_type": "code",
   "execution_count": null,
   "metadata": {},
   "outputs": [
    {
     "name": "stdout",
     "output_type": "stream",
     "text": [
      "signature: None\n",
      "__class__: <class 'builtin_function_or_method'>\n",
      "__repr__: <built-in method randn of type object>\n",
      "\n",
      "__doc__:\n",
      "randn(*size, *, out=None, dtype=None, layout=torch.strided, device=None, requires_grad=False) -> Tensor\n",
      "\n",
      "Returns a tensor filled with random numbers from a normal distribution\n",
      "with mean `0` and variance `1` (also called the standard normal\n",
      "distribution).\n",
      "\n",
      ".. math::\n",
      "    \\text{out}_{i} \\sim \\mathcal{N}(0, 1)\n",
      "\n",
      "The shape of the tensor is defined by the variable argument :attr:`size`.\n",
      "\n",
      "__dict__: not exist \n",
      "\n",
      "metaclass: False\n",
      "class: False\n",
      "decorator: False\n",
      "function: False\n",
      "method: False\n"
     ]
    }
   ],
   "source": [
    "check(torch.randn)"
   ]
  },
  {
   "cell_type": "code",
   "execution_count": null,
   "metadata": {},
   "outputs": [
    {
     "name": "stdout",
     "output_type": "stream",
     "text": [
      "2.26 ms ± 26.2 µs per loop (mean ± std. dev. of 7 runs, 10 loops each)\n"
     ]
    }
   ],
   "source": [
    "%timeit -n 10 list(chunks([rand() for _ in range(7840)], 10))"
   ]
  },
  {
   "cell_type": "code",
   "execution_count": null,
   "metadata": {},
   "outputs": [
    {
     "name": "stdout",
     "output_type": "stream",
     "text": [
      "99.2 µs ± 4.28 µs per loop (mean ± std. dev. of 7 runs, 10 loops each)\n"
     ]
    }
   ],
   "source": [
    "%timeit -n 10 torch.randn(784,10)"
   ]
  },
  {
   "cell_type": "code",
   "execution_count": null,
   "metadata": {},
   "outputs": [
    {
     "data": {
      "text/plain": [
       "torch.Size([1, 1, 784, 10])"
      ]
     },
     "execution_count": null,
     "metadata": {},
     "output_type": "execute_result"
    },
    {
     "data": {
      "text/plain": [
       "torch.Size([1, 1, 784, 10])"
      ]
     },
     "execution_count": null,
     "metadata": {},
     "output_type": "execute_result"
    }
   ],
   "source": [
    "rd = torch.randn(1, 1,784,10)\n",
    "rd.shape\n",
    "rd[:5].shape"
   ]
  },
  {
   "cell_type": "markdown",
   "metadata": {},
   "source": [
    "## Matrix multiplication"
   ]
  },
  {
   "cell_type": "markdown",
   "metadata": {},
   "source": [
    "### matmul_3loops, torch.zeros"
   ]
  },
  {
   "cell_type": "code",
   "execution_count": null,
   "metadata": {},
   "outputs": [],
   "source": [
    "weights = torch.randn(784,10)\n",
    "bias = torch.zeros(10)"
   ]
  },
  {
   "cell_type": "code",
   "execution_count": null,
   "metadata": {},
   "outputs": [
    {
     "data": {
      "text/plain": [
       "tensor([-1.3237,  1.1737,  0.3392,  0.2210,  0.6607,  1.8192,  0.5331,  1.0146,\n",
       "         0.7724, -0.2601])"
      ]
     },
     "execution_count": null,
     "metadata": {},
     "output_type": "execute_result"
    },
    {
     "data": {
      "text/plain": [
       "10"
      ]
     },
     "execution_count": null,
     "metadata": {},
     "output_type": "execute_result"
    },
    {
     "data": {
      "text/plain": [
       "tensor([0., 0., 0., 0., 0., 0., 0., 0., 0., 0.])"
      ]
     },
     "execution_count": null,
     "metadata": {},
     "output_type": "execute_result"
    },
    {
     "data": {
      "text/plain": [
       "10"
      ]
     },
     "execution_count": null,
     "metadata": {},
     "output_type": "execute_result"
    }
   ],
   "source": [
    "weights[0,:]\n",
    "len(weights[0,:])\n",
    "bias\n",
    "len(bias)"
   ]
  },
  {
   "cell_type": "code",
   "execution_count": null,
   "metadata": {},
   "outputs": [],
   "source": [
    "m1 = x_valid[:5] # as input\n",
    "m2 = weights # as layer1 weights"
   ]
  },
  {
   "cell_type": "code",
   "execution_count": null,
   "metadata": {},
   "outputs": [
    {
     "data": {
      "text/plain": [
       "(torch.Size([5, 784]), torch.Size([784, 10]))"
      ]
     },
     "execution_count": null,
     "metadata": {},
     "output_type": "execute_result"
    }
   ],
   "source": [
    "m1.shape,m2.shape"
   ]
  },
  {
   "cell_type": "code",
   "execution_count": null,
   "metadata": {},
   "outputs": [
    {
     "data": {
      "text/plain": [
       "((5, 784), (784, 10))"
      ]
     },
     "execution_count": null,
     "metadata": {},
     "output_type": "execute_result"
    }
   ],
   "source": [
    "ar,ac = m1.shape # n_rows * n_cols\n",
    "br,bc = m2.shape\n",
    "(ar,ac),(br,bc)"
   ]
  },
  {
   "cell_type": "code",
   "execution_count": null,
   "metadata": {},
   "outputs": [
    {
     "data": {
      "text/plain": [
       "torch.Size([5, 10])"
      ]
     },
     "execution_count": null,
     "metadata": {},
     "output_type": "execute_result"
    }
   ],
   "source": [
    "t1 = torch.zeros(ar, bc)\n",
    "t1.shape"
   ]
  },
  {
   "cell_type": "code",
   "execution_count": null,
   "metadata": {},
   "outputs": [],
   "source": [
    "for i in range(ar):         # 5\n",
    "    for j in range(bc):     # 10\n",
    "        for k in range(ac): # 784\n",
    "            t1[i,j] += m1[i,k] * m2[k,j]"
   ]
  },
  {
   "cell_type": "code",
   "execution_count": null,
   "metadata": {},
   "outputs": [
    {
     "data": {
      "text/plain": [
       "tensor([[ 13.9416,  -2.0733,   7.3798,   4.8941,   9.7936,  11.2293,  -5.6609,\n",
       "           2.7170,   1.6722,   0.6240],\n",
       "        [ -3.9407,   8.6393,   1.4139,   3.4698,  -0.4061,  -6.5177,  -2.3376,\n",
       "           8.8883,   8.4269,   2.1366],\n",
       "        [  3.9033,   5.0146,  12.8683,  -8.9402,  11.4366,  31.3686,   3.2794,\n",
       "           2.2839,  11.1379,   0.6423],\n",
       "        [  6.6159,   1.9588,   2.2625,  12.5532,   5.5336,   0.8998,   0.5374,\n",
       "           7.7319,  -0.2104,   0.8249],\n",
       "        [ -5.4877,  19.7717,  12.5163,  -2.7179,   7.1121,   5.9905,  -2.4888,\n",
       "           6.5958,  22.2492, -10.1361]])"
      ]
     },
     "execution_count": null,
     "metadata": {},
     "output_type": "execute_result"
    }
   ],
   "source": [
    "t1"
   ]
  },
  {
   "cell_type": "code",
   "execution_count": null,
   "metadata": {},
   "outputs": [
    {
     "data": {
      "text/plain": [
       "torch.Size([5, 10])"
      ]
     },
     "execution_count": null,
     "metadata": {},
     "output_type": "execute_result"
    }
   ],
   "source": [
    "t1.shape"
   ]
  },
  {
   "cell_type": "code",
   "execution_count": null,
   "metadata": {},
   "outputs": [],
   "source": [
    "#| export groundup\n",
    "def matmul_3loops(a, b):\n",
    "    (ar,ac),(br,bc) = a.shape,b.shape\n",
    "    c = torch.zeros(ar, bc)\n",
    "    for i in range(ar): # ar == 5\n",
    "        for j in range(bc): # bc == 10\n",
    "            for k in range(ac): c[i,j] += a[i,k] * b[k,j] # ac == 784\n",
    "\n",
    "    print(f'shapes => a: {a.shape}, b: {b.shape}, res: {c.shape}')\n",
    "    return c"
   ]
  },
  {
   "cell_type": "code",
   "execution_count": null,
   "metadata": {},
   "outputs": [
    {
     "name": "stdout",
     "output_type": "stream",
     "text": [
      "shapes => a: torch.Size([5, 784]), b: torch.Size([784, 10]), res: torch.Size([5, 10])\n"
     ]
    },
    {
     "data": {
      "text/plain": [
       "tensor([[ 13.9416,  -2.0733,   7.3798,   4.8941,   9.7936,  11.2293,  -5.6609,\n",
       "           2.7170,   1.6722,   0.6240],\n",
       "        [ -3.9407,   8.6393,   1.4139,   3.4698,  -0.4061,  -6.5177,  -2.3376,\n",
       "           8.8883,   8.4269,   2.1366],\n",
       "        [  3.9033,   5.0146,  12.8683,  -8.9402,  11.4366,  31.3686,   3.2794,\n",
       "           2.2839,  11.1379,   0.6423],\n",
       "        [  6.6159,   1.9588,   2.2625,  12.5532,   5.5336,   0.8998,   0.5374,\n",
       "           7.7319,  -0.2104,   0.8249],\n",
       "        [ -5.4877,  19.7717,  12.5163,  -2.7179,   7.1121,   5.9905,  -2.4888,\n",
       "           6.5958,  22.2492, -10.1361]])"
      ]
     },
     "execution_count": null,
     "metadata": {},
     "output_type": "execute_result"
    }
   ],
   "source": [
    "matmul_3loops(m1,m2)"
   ]
  },
  {
   "cell_type": "markdown",
   "metadata": {},
   "source": [
    "### torch.set_printoptions, np.set_printoptions"
   ]
  },
  {
   "cell_type": "code",
   "execution_count": null,
   "metadata": {},
   "outputs": [],
   "source": [
    "import numpy as np"
   ]
  },
  {
   "cell_type": "code",
   "execution_count": null,
   "metadata": {},
   "outputs": [
    {
     "data": {
      "text/plain": [
       "tensor([[ 13.94,  -2.07,   7.38,   4.89,   9.79,  11.23,  -5.66,   2.72,   1.67,   0.62],\n",
       "        [ -3.94,   8.64,   1.41,   3.47,  -0.41,  -6.52,  -2.34,   8.89,   8.43,   2.14],\n",
       "        [  3.90,   5.01,  12.87,  -8.94,  11.44,  31.37,   3.28,   2.28,  11.14,   0.64],\n",
       "        [  6.62,   1.96,   2.26,  12.55,   5.53,   0.90,   0.54,   7.73,  -0.21,   0.82],\n",
       "        [ -5.49,  19.77,  12.52,  -2.72,   7.11,   5.99,  -2.49,   6.60,  22.25, -10.14]])"
      ]
     },
     "execution_count": null,
     "metadata": {},
     "output_type": "execute_result"
    }
   ],
   "source": [
    "torch.set_printoptions(precision=2, linewidth=140, sci_mode=False)\n",
    "np.set_printoptions(precision=2, linewidth=140)\n",
    "t1"
   ]
  },
  {
   "cell_type": "code",
   "execution_count": null,
   "metadata": {},
   "outputs": [
    {
     "name": "stdout",
     "output_type": "stream",
     "text": [
      "shapes => a: torch.Size([5, 784]), b: torch.Size([784, 10]), res: torch.Size([5, 10])\n",
      "CPU times: user 334 ms, sys: 2.33 ms, total: 336 ms\n",
      "Wall time: 336 ms\n"
     ]
    }
   ],
   "source": [
    "%time _=matmul_3loops(m1, m2)"
   ]
  },
  {
   "cell_type": "code",
   "execution_count": null,
   "metadata": {},
   "outputs": [],
   "source": []
  },
  {
   "cell_type": "markdown",
   "metadata": {},
   "source": [
    "## Numba\n",
    "Numba is an open source JIT compiler that translates a subset of Python and NumPy code into fast machine code."
   ]
  },
  {
   "cell_type": "markdown",
   "metadata": {},
   "source": [
    "### njit, dot, np.array"
   ]
  },
  {
   "cell_type": "code",
   "execution_count": null,
   "metadata": {},
   "outputs": [],
   "source": [
    "#| export groundup\n",
    "import numba"
   ]
  },
  {
   "cell_type": "code",
   "execution_count": null,
   "metadata": {},
   "outputs": [
    {
     "name": "stdout",
     "output_type": "stream",
     "text": [
      "signature: None\n",
      "__class__: <class 'module'>\n",
      "__repr__: <module 'numba' from '/Users/Natsume/mambaforge/lib/python3.9/site-packages/numba/__init__.py'>\n",
      "\n",
      "__doc__:\n",
      "Expose top-level symbols that are safe for import *\n",
      "__dict__: \n",
      "{'ByteCodeSupportError': <class 'numba.core.errors.ByteCodeSupportError'>,\n",
      " 'CompilerError': <class 'numba.core.errors.CompilerError'>,\n",
      " 'ConstantInferenceError': <class 'numba.core.errors.ConstantInferenceError'>,\n",
      " 'DeprecationError': <class 'numba.core.errors.DeprecationError'>,\n",
      " 'ForbiddenConstruct': <class 'numba.core.errors.ForbiddenConstruct'>,\n",
      " 'ForceLiteralArg': <class 'numba.core.errors.ForceLiteralArg'>,\n",
      " 'IRError': <class 'numba.core.errors.IRError'>,\n",
      " 'InternalError': <class 'numba.core.errors.InternalError'>,\n",
      " 'InternalTargetMismatchError': <class 'numba.core.errors.InternalTargetMismatchError'>,\n",
      " 'LiteralTypingError': <class 'numba.core.errors.LiteralTypingError'>,\n",
      " 'LoweringError': <class 'numba.core.errors.LoweringError'>,\n",
      " 'NotDefinedError': <class 'numba.core.errors.NotDefinedError'>,\n",
      " 'NumbaAssertionError': <class 'numba.core.errors.NumbaAssertionError'>,\n",
      " 'NumbaAttributeError': <class 'numba.core.errors.NumbaAttributeError'>,\n",
      " 'NumbaDebugInfoWarning': <class 'numba.core.errors.NumbaDebugInfoWarning'>,\n",
      " 'NumbaDeprecationWarning': <class 'numba.core.errors.NumbaDeprecationWarning'>,\n",
      " 'NumbaError': <class 'numba.core.errors.NumbaError'>,\n",
      " 'NumbaExperimentalFeatureWarning': <class 'numba.core.errors.NumbaExperimentalFeatureWarning'>,\n",
      " 'NumbaIRAssumptionWarning': <class 'numba.core.errors.NumbaIRAssumptionWarning'>,\n",
      " 'NumbaIndexError': <class 'numba.core.errors.NumbaIndexError'>,\n",
      " 'NumbaInvalidConfigWarning': <class 'numba.core.errors.NumbaInvalidConfigWarning'>,\n",
      " 'NumbaKeyError': <class 'numba.core.errors.NumbaKeyError'>,\n",
      " 'NumbaNotImplementedError': <class 'numba.core.errors.NumbaNotImplementedError'>,\n",
      " 'NumbaParallelSafetyWarning': <class 'numba.core.errors.NumbaParallelSafetyWarning'>,\n",
      " 'NumbaPedanticWarning': <class 'numba.core.errors.NumbaPedanticWarning'>,\n",
      " 'NumbaPendingDeprecationWarning': <class 'numba.core.errors.NumbaPendingDeprecationWarning'>,\n",
      " 'NumbaPerformanceWarning': <class 'numba.core.errors.NumbaPerformanceWarning'>,\n",
      " 'NumbaRuntimeError': <class 'numba.core.errors.NumbaRuntimeError'>,\n",
      " 'NumbaTypeError': <class 'numba.core.errors.NumbaTypeError'>,\n",
      " 'NumbaTypeSafetyWarning': <class 'numba.core.errors.NumbaTypeSafetyWarning'>,\n",
      " 'NumbaValueError': <class 'numba.core.errors.NumbaValueError'>,\n",
      " 'NumbaWarning': <class 'numba.core.errors.NumbaWarning'>,\n",
      " 'RedefinedError': <class 'numba.core.errors.RedefinedError'>,\n",
      " 'RequireLiteralValue': <class 'numba.core.errors.RequireLiteralValue'>,\n",
      " 'TypingError': <class 'numba.core.errors.TypingError'>,\n",
      " 'UnsupportedError': <class 'numba.core.errors.UnsupportedError'>,\n",
      " 'UnsupportedParforsError': <class 'numba.core.errors.UnsupportedParforsError'>,\n",
      " 'UnsupportedRewriteError': <class 'numba.core.errors.UnsupportedRewriteError'>,\n",
      " 'UntypedAttributeError': <class 'numba.core.errors.UntypedAttributeError'>,\n",
      " 'VerificationError': <class 'numba.core.errors.VerificationError'>,\n",
      " '__all__': ['cfunc',\n",
      "             'from_dtype',\n",
      "             'guvectorize',\n",
      "             'jit',\n",
      "             'experimental',\n",
      "             'njit',\n",
      "             'stencil',\n",
      "             'jit_module',\n",
      "             'typeof',\n",
      "             'prange',\n",
      "             'gdb',\n",
      "             'gdb_breakpoint',\n",
      "             'gdb_init',\n",
      "             'vectorize',\n",
      "             'objmode',\n",
      "             'literal_unroll',\n",
      "             'get_num_threads',\n",
      "             'set_num_threads',\n",
      "             'set_parallel_chunksize',\n",
      "             'get_parallel_chunksize',\n",
      "             'parallel_chunksize',\n",
      "             'int8',\n",
      "             'int16',\n",
      "             'int32',\n",
      "             'int64',\n",
      "             'uint8',\n",
      "             'uint16',\n",
      "             'uint32',\n",
      "             'uint64',\n",
      "             'intp',\n",
      "             'uintp',\n",
      "             'intc',\n",
      "             'uintc',\n",
      "             'ssize_t',\n",
      "             'size_t',\n",
      "             'boolean',\n",
      "             'float32',\n",
      "             'float64',\n",
      "             'complex64',\n",
      "             'complex128',\n",
      "             'bool_',\n",
      "             'byte',\n",
      "             'char',\n",
      "             'uchar',\n",
      "             'short',\n",
      "             'ushort',\n",
      "             'int_',\n",
      "             'uint',\n",
      "             'long_',\n",
      "             'ulong',\n",
      "             'longlong',\n",
      "             'ulonglong',\n",
      "             'float_',\n",
      "             'double',\n",
      "             'void',\n",
      "             'none',\n",
      "             'b1',\n",
      "             'i1',\n",
      "             'i2',\n",
      "             'i4',\n",
      "             'i8',\n",
      "             'u1',\n",
      "             'u2',\n",
      "             'u4',\n",
      "             'u8',\n",
      "             'f4',\n",
      "             'f8',\n",
      "             'c8',\n",
      "             'c16',\n",
      "             'optional',\n",
      "             'ffi_forced_object',\n",
      "             'ffi',\n",
      "             'deferred_type',\n",
      "             'NumbaWarning',\n",
      "             'NumbaPerformanceWarning',\n",
      "             'NumbaDeprecationWarning',\n",
      "             'NumbaPendingDeprecationWarning',\n",
      "             'NumbaParallelSafetyWarning',\n",
      "             'NumbaTypeSafetyWarning',\n",
      "             'NumbaExperimentalFeatureWarning',\n",
      "             'NumbaInvalidConfigWarning',\n",
      "             'NumbaPedanticWarning',\n",
      "             'NumbaIRAssumptionWarning',\n",
      "             'NumbaDebugInfoWarning',\n",
      "             'NumbaError',\n",
      "             'UnsupportedError',\n",
      "             'UnsupportedRewriteError',\n",
      "             'IRError',\n",
      "             'RedefinedError',\n",
      "             'NotDefinedError',\n",
      "             'VerificationError',\n",
      "             'DeprecationError',\n",
      "             'LoweringError',\n",
      "             'UnsupportedParforsError',\n",
      "             'ForbiddenConstruct',\n",
      "             'TypingError',\n",
      "             'UntypedAttributeError',\n",
      "             'ByteCodeSupportError',\n",
      "             'CompilerError',\n",
      "             'ConstantInferenceError',\n",
      "             'InternalError',\n",
      "             'InternalTargetMismatchError',\n",
      "             'RequireLiteralValue',\n",
      "             'ForceLiteralArg',\n",
      "             'LiteralTypingError',\n",
      "             'NumbaValueError',\n",
      "             'NumbaTypeError',\n",
      "             'NumbaAttributeError',\n",
      "             'NumbaAssertionError',\n",
      "             'NumbaNotImplementedError',\n",
      "             'NumbaKeyError',\n",
      "             'NumbaIndexError',\n",
      "             'NumbaRuntimeError'],\n",
      " '__builtins__': {'ArithmeticError': <class 'ArithmeticError'>,\n",
      "                  'AssertionError': <class 'AssertionError'>,\n",
      "                  'AttributeError': <class 'AttributeError'>,\n",
      "                  'BaseException': <class 'BaseException'>,\n",
      "                  'BlockingIOError': <class 'BlockingIOError'>,\n",
      "                  'BrokenPipeError': <class 'BrokenPipeError'>,\n",
      "                  'BufferError': <class 'BufferError'>,\n",
      "                  'BytesWarning': <class 'BytesWarning'>,\n",
      "                  'ChildProcessError': <class 'ChildProcessError'>,\n",
      "                  'ConnectionAbortedError': <class 'ConnectionAbortedError'>,\n",
      "                  'ConnectionError': <class 'ConnectionError'>,\n",
      "                  'ConnectionRefusedError': <class 'ConnectionRefusedError'>,\n",
      "                  'ConnectionResetError': <class 'ConnectionResetError'>,\n",
      "                  'DeprecationWarning': <class 'DeprecationWarning'>,\n",
      "                  'EOFError': <class 'EOFError'>,\n",
      "                  'Ellipsis': Ellipsis,\n",
      "                  'EnvironmentError': <class 'OSError'>,\n",
      "                  'Exception': <class 'Exception'>,\n",
      "                  'False': False,\n",
      "                  'FileExistsError': <class 'FileExistsError'>,\n",
      "                  'FileNotFoundError': <class 'FileNotFoundError'>,\n",
      "                  'FloatingPointError': <class 'FloatingPointError'>,\n",
      "                  'FutureWarning': <class 'FutureWarning'>,\n",
      "                  'GeneratorExit': <class 'GeneratorExit'>,\n",
      "                  'IOError': <class 'OSError'>,\n",
      "                  'ImportError': <class 'ImportError'>,\n",
      "                  'ImportWarning': <class 'ImportWarning'>,\n",
      "                  'IndentationError': <class 'IndentationError'>,\n",
      "                  'IndexError': <class 'IndexError'>,\n",
      "                  'InterruptedError': <class 'InterruptedError'>,\n",
      "                  'IsADirectoryError': <class 'IsADirectoryError'>,\n",
      "                  'KeyError': <class 'KeyError'>,\n",
      "                  'KeyboardInterrupt': <class 'KeyboardInterrupt'>,\n",
      "                  'LookupError': <class 'LookupError'>,\n",
      "                  'MemoryError': <class 'MemoryError'>,\n",
      "                  'ModuleNotFoundError': <class 'ModuleNotFoundError'>,\n",
      "                  'NameError': <class 'NameError'>,\n",
      "                  'None': None,\n",
      "                  'NotADirectoryError': <class 'NotADirectoryError'>,\n",
      "                  'NotImplemented': NotImplemented,\n",
      "                  'NotImplementedError': <class 'NotImplementedError'>,\n",
      "                  'OSError': <class 'OSError'>,\n",
      "                  'OverflowError': <class 'OverflowError'>,\n",
      "                  'PendingDeprecationWarning': <class 'PendingDeprecationWarning'>,\n",
      "                  'PermissionError': <class 'PermissionError'>,\n",
      "                  'ProcessLookupError': <class 'ProcessLookupError'>,\n",
      "                  'RecursionError': <class 'RecursionError'>,\n",
      "                  'ReferenceError': <class 'ReferenceError'>,\n",
      "                  'ResourceWarning': <class 'ResourceWarning'>,\n",
      "                  'RuntimeError': <class 'RuntimeError'>,\n",
      "                  'RuntimeWarning': <class 'RuntimeWarning'>,\n",
      "                  'StopAsyncIteration': <class 'StopAsyncIteration'>,\n",
      "                  'StopIteration': <class 'StopIteration'>,\n",
      "                  'SyntaxError': <class 'SyntaxError'>,\n",
      "                  'SyntaxWarning': <class 'SyntaxWarning'>,\n",
      "                  'SystemError': <class 'SystemError'>,\n",
      "                  'SystemExit': <class 'SystemExit'>,\n",
      "                  'TabError': <class 'TabError'>,\n",
      "                  'TimeoutError': <class 'TimeoutError'>,\n",
      "                  'True': True,\n",
      "                  'TypeError': <class 'TypeError'>,\n",
      "                  'UnboundLocalError': <class 'UnboundLocalError'>,\n",
      "                  'UnicodeDecodeError': <class 'UnicodeDecodeError'>,\n",
      "                  'UnicodeEncodeError': <class 'UnicodeEncodeError'>,\n",
      "                  'UnicodeError': <class 'UnicodeError'>,\n",
      "                  'UnicodeTranslateError': <class 'UnicodeTranslateError'>,\n",
      "                  'UnicodeWarning': <class 'UnicodeWarning'>,\n",
      "                  'UserWarning': <class 'UserWarning'>,\n",
      "                  'ValueError': <class 'ValueError'>,\n",
      "                  'Warning': <class 'Warning'>,\n",
      "                  'ZeroDivisionError': <class 'ZeroDivisionError'>,\n",
      "                  '__IPYTHON__': True,\n",
      "                  '__build_class__': <built-in function __build_class__>,\n",
      "                  '__debug__': True,\n",
      "                  '__doc__': 'Built-in functions, exceptions, and other '\n",
      "                             'objects.\\n'\n",
      "                             '\\n'\n",
      "                             \"Noteworthy: None is the `nil' object; Ellipsis \"\n",
      "                             \"represents `...' in slices.\",\n",
      "                  '__import__': <built-in function __import__>,\n",
      "                  '__loader__': <class '_frozen_importlib.BuiltinImporter'>,\n",
      "                  '__name__': 'builtins',\n",
      "                  '__package__': '',\n",
      "                  '__pybind11_internals_v4_clang_libcpp_cxxabi1002__': <capsule object NULL>,\n",
      "                  '__spec__': ModuleSpec(name='builtins', loader=<class '_frozen_importlib.BuiltinImporter'>, origin='built-in'),\n",
      "                  'abs': <built-in function abs>,\n",
      "                  'all': <built-in function all>,\n",
      "                  'any': <built-in function any>,\n",
      "                  'ascii': <built-in function ascii>,\n",
      "                  'bin': <built-in function bin>,\n",
      "                  'bool': <class 'bool'>,\n",
      "                  'breakpoint': <built-in function breakpoint>,\n",
      "                  'bytearray': <class 'bytearray'>,\n",
      "                  'bytes': <class 'bytes'>,\n",
      "                  'callable': <built-in function callable>,\n",
      "                  'chr': <built-in function chr>,\n",
      "                  'classmethod': <class 'classmethod'>,\n",
      "                  'compile': <built-in function compile>,\n",
      "                  'complex': <class 'complex'>,\n",
      "                  'copyright': Copyright (c) 2001-2022 Python Software Foundation.\n",
      "All Rights Reserved.\n",
      "\n",
      "Copyright (c) 2000 BeOpen.com.\n",
      "All Rights Reserved.\n",
      "\n",
      "Copyright (c) 1995-2001 Corporation for National Research Initiatives.\n",
      "All Rights Reserved.\n",
      "\n",
      "Copyright (c) 1991-1995 Stichting Mathematisch Centrum, Amsterdam.\n",
      "All Rights Reserved.,\n",
      "                  'credits':     Thanks to CWI, CNRI, BeOpen.com, Zope Corporation and a cast of thousands\n",
      "    for supporting Python development.  See www.python.org for more information.,\n",
      "                  'delattr': <built-in function delattr>,\n",
      "                  'dict': <class 'dict'>,\n",
      "                  'dir': <built-in function dir>,\n",
      "                  'display': <function display>,\n",
      "                  'divmod': <built-in function divmod>,\n",
      "                  'enumerate': <class 'enumerate'>,\n",
      "                  'eval': <built-in function eval>,\n",
      "                  'exec': <built-in function exec>,\n",
      "                  'execfile': <function execfile>,\n",
      "                  'filter': <class 'filter'>,\n",
      "                  'float': <class 'float'>,\n",
      "                  'format': <built-in function format>,\n",
      "                  'frozenset': <class 'frozenset'>,\n",
      "                  'get_ipython': <bound method InteractiveShell.get_ipython of <ipykernel.zmqshell.ZMQInteractiveShell object>>,\n",
      "                  'getattr': <built-in function getattr>,\n",
      "                  'globals': <built-in function globals>,\n",
      "                  'hasattr': <built-in function hasattr>,\n",
      "                  'hash': <built-in function hash>,\n",
      "                  'help': Type help() for interactive help, or help(object) for help about object.,\n",
      "                  'hex': <built-in function hex>,\n",
      "                  'id': <built-in function id>,\n",
      "                  'input': <bound method Kernel.raw_input of <ipykernel.ipkernel.IPythonKernel object>>,\n",
      "                  'int': <class 'int'>,\n",
      "                  'isinstance': <built-in function isinstance>,\n",
      "                  'issubclass': <built-in function issubclass>,\n",
      "                  'iter': <built-in function iter>,\n",
      "                  'len': <built-in function len>,\n",
      "                  'license': Type license() to see the full license text,\n",
      "                  'list': <class 'list'>,\n",
      "                  'locals': <built-in function locals>,\n",
      "                  'map': <class 'map'>,\n",
      "                  'max': <built-in function max>,\n",
      "                  'memoryview': <class 'memoryview'>,\n",
      "                  'min': <built-in function min>,\n",
      "                  'next': <built-in function next>,\n",
      "                  'object': <class 'object'>,\n",
      "                  'oct': <built-in function oct>,\n",
      "                  'open': <built-in function open>,\n",
      "                  'ord': <built-in function ord>,\n",
      "                  'pow': <built-in function pow>,\n",
      "                  'print': <built-in function print>,\n",
      "                  'property': <class 'property'>,\n",
      "                  'range': <class 'range'>,\n",
      "                  'repr': <built-in function repr>,\n",
      "                  'reversed': <class 'reversed'>,\n",
      "                  'round': <built-in function round>,\n",
      "                  'runfile': <function runfile>,\n",
      "                  'set': <class 'set'>,\n",
      "                  'setattr': <built-in function setattr>,\n",
      "                  'slice': <class 'slice'>,\n",
      "                  'sorted': <built-in function sorted>,\n",
      "                  'staticmethod': <class 'staticmethod'>,\n",
      "                  'str': <class 'str'>,\n",
      "                  'sum': <built-in function sum>,\n",
      "                  'super': <class 'super'>,\n",
      "                  'tuple': <class 'tuple'>,\n",
      "                  'type': <class 'type'>,\n",
      "                  'vars': <built-in function vars>,\n",
      "                  'zip': <class 'zip'>},\n",
      " '__cached__': '/Users/Natsume/mambaforge/lib/python3.9/site-packages/numba/__pycache__/__init__.cpython-39.pyc',\n",
      " '__doc__': '\\nExpose top-level symbols that are safe for import *\\n',\n",
      " '__file__': '/Users/Natsume/mambaforge/lib/python3.9/site-packages/numba/__init__.py',\n",
      " '__loader__': <_frozen_importlib_external.SourceFileLoader object>,\n",
      " '__name__': 'numba',\n",
      " '__package__': 'numba',\n",
      " '__path__': ['/Users/Natsume/mambaforge/lib/python3.9/site-packages/numba'],\n",
      " '__spec__': ModuleSpec(name='numba', loader=<_frozen_importlib_external.SourceFileLoader object>, origin='/Users/Natsume/mambaforge/lib/python3.9/site-packages/numba/__init__.py', submodule_search_locations=['/Users/Natsume/mambaforge/lib/python3.9/site-packages/numba']),\n",
      " '__version__': '0.56.2',\n",
      " '_devicearray': <module 'numba._devicearray' from '/Users/Natsume/mambaforge/lib/python3.9/site-packages/numba/_devicearray.cpython-39-darwin.so'>,\n",
      " '_dispatcher': <module 'numba._dispatcher' from '/Users/Natsume/mambaforge/lib/python3.9/site-packages/numba/_dispatcher.cpython-39-darwin.so'>,\n",
      " '_dynfunc': <module 'numba._dynfunc' from '/Users/Natsume/mambaforge/lib/python3.9/site-packages/numba/_dynfunc.cpython-39-darwin.so'>,\n",
      " '_ensure_critical_deps': <function _ensure_critical_deps>,\n",
      " '_ensure_llvm': <function _ensure_llvm>,\n",
      " '_helperlib': <module 'numba._helperlib' from '/Users/Natsume/mambaforge/lib/python3.9/site-packages/numba/_helperlib.cpython-39-darwin.so'>,\n",
      " '_min_llvm_version': (11, 0, 0),\n",
      " '_min_llvmlite_version': (0, 39, 0),\n",
      " '_try_enable_svml': <function _try_enable_svml>,\n",
      " '_version': <module 'numba._version' from '/Users/Natsume/mambaforge/lib/python3.9/site-packages/numba/_version.py'>,\n",
      " 'b1': bool,\n",
      " 'bool_': bool,\n",
      " 'boolean': bool,\n",
      " 'byte': uint8,\n",
      " 'c16': complex128,\n",
      " 'c8': complex64,\n",
      " 'carray': <function carray>,\n",
      " 'cfunc': <function cfunc>,\n",
      " 'char': int8,\n",
      " 'cloudpickle': <module 'numba.cloudpickle' from '/Users/Natsume/mambaforge/lib/python3.9/site-packages/numba/cloudpickle/__init__.py'>,\n",
      " 'complex128': complex128,\n",
      " 'complex64': complex64,\n",
      " 'config': <module 'numba.core.config' from '/Users/Natsume/mambaforge/lib/python3.9/site-packages/numba/core/config.py'>,\n",
      " 'core': <module 'numba.core' from '/Users/Natsume/mambaforge/lib/python3.9/site-packages/numba/core/__init__.py'>,\n",
      " 'cpython': <module 'numba.cpython' from '/Users/Natsume/mambaforge/lib/python3.9/site-packages/numba/cpython/__init__.py'>,\n",
      " 'deferred_type': <class 'numba.core.types.misc.DeferredType'>,\n",
      " 'double': float64,\n",
      " 'errors': <module 'numba.core.errors' from '/Users/Natsume/mambaforge/lib/python3.9/site-packages/numba/core/errors.py'>,\n",
      " 'experimental': <module 'numba.experimental' from '/Users/Natsume/mambaforge/lib/python3.9/site-packages/numba/experimental/__init__.py'>,\n",
      " 'extending': <module 'numba.extending' from '/Users/Natsume/mambaforge/lib/python3.9/site-packages/numba/extending.py'>,\n",
      " 'f4': float32,\n",
      " 'f8': float64,\n",
      " 'farray': <function farray>,\n",
      " 'ffi': ffi,\n",
      " 'ffi_forced_object': ffi_forced_object,\n",
      " 'float32': float32,\n",
      " 'float64': float64,\n",
      " 'float_': float32,\n",
      " 'from_dtype': <function from_dtype>,\n",
      " 'gdb': <function gdb>,\n",
      " 'gdb_breakpoint': <function gdb_breakpoint>,\n",
      " 'gdb_init': <function gdb_init>,\n",
      " 'generated_jit': <function generated_jit>,\n",
      " 'get_num_threads': <function get_num_threads>,\n",
      " 'get_parallel_chunksize': <function get_parallel_chunksize>,\n",
      " 'get_thread_id': <function get_thread_id>,\n",
      " 'guvectorize': <function guvectorize>,\n",
      " 'i1': int8,\n",
      " 'i2': int16,\n",
      " 'i4': int32,\n",
      " 'i8': int64,\n",
      " 'int16': int16,\n",
      " 'int32': int32,\n",
      " 'int64': int64,\n",
      " 'int8': int8,\n",
      " 'int_': int64,\n",
      " 'intc': int32,\n",
      " 'intp': int64,\n",
      " 'jit': <function jit>,\n",
      " 'jit_module': <function jit_module>,\n",
      " 'literal_unroll': <function literal_unroll>,\n",
      " 'literally': <function literally>,\n",
      " 'llvmlite': <module 'llvmlite' from '/Users/Natsume/mambaforge/lib/python3.9/site-packages/llvmlite/__init__.py'>,\n",
      " 'long_': int64,\n",
      " 'longlong': int64,\n",
      " 'misc': <module 'numba.misc' from '/Users/Natsume/mambaforge/lib/python3.9/site-packages/numba/misc/__init__.py'>,\n",
      " 'njit': <function njit>,\n",
      " 'none': none,\n",
      " 'np': <module 'numba.np' from '/Users/Natsume/mambaforge/lib/python3.9/site-packages/numba/np/__init__.py'>,\n",
      " 'numba': <module 'numba' from '/Users/Natsume/mambaforge/lib/python3.9/site-packages/numba/__init__.py'>,\n",
      " 'objmode': <numba.core.withcontexts._ObjModeContextType object>,\n",
      " 'optional': <class 'numba.core.types.misc.Optional'>,\n",
      " 'parallel_chunksize': <numba.core.withcontexts._ParallelChunksize object>,\n",
      " 'parfors': <module 'numba.parfors' from '/Users/Natsume/mambaforge/lib/python3.9/site-packages/numba/parfors/__init__.py'>,\n",
      " 'platform': <module 'platform' from '/Users/Natsume/mambaforge/lib/python3.9/platform.py'>,\n",
      " 'pndindex': <function pndindex>,\n",
      " 'prange': <class 'numba.misc.special.prange'>,\n",
      " 're': <module 're' from '/Users/Natsume/mambaforge/lib/python3.9/re.py'>,\n",
      " 'set_num_threads': <function set_num_threads>,\n",
      " 'set_parallel_chunksize': <function set_parallel_chunksize>,\n",
      " 'short': int16,\n",
      " 'size_t': uint64,\n",
      " 'ssize_t': int64,\n",
      " 'stencil': <function stencil>,\n",
      " 'stencils': <module 'numba.stencils' from '/Users/Natsume/mambaforge/lib/python3.9/site-packages/numba/stencils/__init__.py'>,\n",
      " 'sys': <module 'sys' (built-in)>,\n",
      " 'test': <function test>,\n",
      " 'threading_layer': <function threading_layer>,\n",
      " 'typed': <module 'numba.typed' from '/Users/Natsume/mambaforge/lib/python3.9/site-packages/numba/typed/__init__.py'>,\n",
      " 'typeof': <function typeof>,\n",
      " 'types': <module 'numba.core.types' from '/Users/Natsume/mambaforge/lib/python3.9/site-packages/numba/core/types/__init__.py'>,\n",
      " 'u1': uint8,\n",
      " 'u2': uint16,\n",
      " 'u4': uint32,\n",
      " 'u8': uint64,\n",
      " 'uchar': uint8,\n",
      " 'uint': uint64,\n",
      " 'uint16': uint16,\n",
      " 'uint32': uint32,\n",
      " 'uint64': uint64,\n",
      " 'uint8': uint8,\n",
      " 'uintc': uint32,\n",
      " 'uintp': uint64,\n",
      " 'ulong': uint64,\n",
      " 'ulonglong': uint64,\n",
      " 'ushort': uint16,\n",
      " 'vectorize': <function vectorize>,\n",
      " 'version_info': version_info(major=0, minor=56, patch=2, short=(0, 56), full=(0, 56, 2), string='0.56.2', tuple=('0', '56', '2'), git_revision=None),\n",
      " 'void': none,\n",
      " 'warnings': <module 'warnings' from '/Users/Natsume/mambaforge/lib/python3.9/warnings.py'>}\n",
      "metaclass: False\n",
      "class: False\n",
      "decorator: False\n",
      "function: False\n",
      "method: False\n"
     ]
    }
   ],
   "source": [
    "check(numba)"
   ]
  },
  {
   "cell_type": "code",
   "execution_count": null,
   "metadata": {},
   "outputs": [
    {
     "name": "stdout",
     "output_type": "stream",
     "text": [
      "numba has: \n",
      "113 items in its __all__, and \n",
      "28 user defined functions, \n",
      "43 classes or class objects, \n",
      "0 builtin funcs and methods, and\n",
      "123 callables.\n",
      "\n",
      "Expose top-level symbols that are safe for import *\n"
     ]
    }
   ],
   "source": [
    "whatinside(numba)"
   ]
  },
  {
   "cell_type": "code",
   "execution_count": null,
   "metadata": {},
   "outputs": [],
   "source": [
    "#| export groundup\n",
    "from numba import njit, jit"
   ]
  },
  {
   "cell_type": "code",
   "execution_count": null,
   "metadata": {},
   "outputs": [
    {
     "name": "stdout",
     "output_type": "stream",
     "text": [
      "signature: (*args, **kws)\n",
      "__class__: <class 'function'>\n",
      "__repr__: <function njit>\n",
      "\n",
      "__doc__:\n",
      "Equivalent to jit(nopython=True)\n",
      "\n",
      "See documentation for jit function/decorator for full description.\n",
      "__dict__: \n",
      "{}\n",
      "metaclass: False\n",
      "class: False\n",
      "decorator: False\n",
      "function: True\n",
      "method: False\n"
     ]
    }
   ],
   "source": [
    "check(njit)"
   ]
  },
  {
   "cell_type": "code",
   "execution_count": null,
   "metadata": {},
   "outputs": [
    {
     "name": "stdout",
     "output_type": "stream",
     "text": [
      "signature: (signature_or_function=None, locals={}, cache=False, pipeline_class=None, boundscheck=None, **options)\n",
      "__class__: <class 'function'>\n",
      "__repr__: <function jit>\n",
      "\n",
      "__doc__:\n",
      "This decorator is used to compile a Python function into native code.\n",
      "\n",
      "Args\n",
      "-----\n",
      "signature_or_function:\n",
      "    The (optional) signature or list of signatures to be compiled.\n",
      "    If not passed, required signatures will be compiled when the\n",
      "    decorated function is called, depending on the argument values.\n",
      "    As a convenience, you can directly pass the function to be compiled\n",
      "    instead.\n",
      "\n",
      "__dict__: \n",
      "{}\n",
      "metaclass: False\n",
      "class: False\n",
      "decorator: False\n",
      "function: True\n",
      "method: False\n"
     ]
    }
   ],
   "source": [
    "check(jit)"
   ]
  },
  {
   "cell_type": "code",
   "execution_count": null,
   "metadata": {},
   "outputs": [],
   "source": [
    "#| export groundup\n",
    "@njit\n",
    "def dot(a,b):\n",
    "    res = 0.\n",
    "    for i in range(len(a)): res+=a[i]*b[i]\n",
    "    return res"
   ]
  },
  {
   "cell_type": "code",
   "execution_count": null,
   "metadata": {},
   "outputs": [],
   "source": [
    "from numpy import array"
   ]
  },
  {
   "cell_type": "code",
   "execution_count": null,
   "metadata": {},
   "outputs": [
    {
     "name": "stdout",
     "output_type": "stream",
     "text": [
      "CPU times: user 174 ms, sys: 20.8 ms, total: 195 ms\n",
      "Wall time: 219 ms\n"
     ]
    },
    {
     "data": {
      "text/plain": [
       "20.0"
      ]
     },
     "execution_count": null,
     "metadata": {},
     "output_type": "execute_result"
    }
   ],
   "source": [
    "%time dot(array([1.,2,3]),array([2.,3,4]))"
   ]
  },
  {
   "cell_type": "code",
   "execution_count": null,
   "metadata": {},
   "outputs": [
    {
     "name": "stdout",
     "output_type": "stream",
     "text": [
      "CPU times: user 20 µs, sys: 1 µs, total: 21 µs\n",
      "Wall time: 21 µs\n"
     ]
    },
    {
     "data": {
      "text/plain": [
       "20.0"
      ]
     },
     "execution_count": null,
     "metadata": {},
     "output_type": "execute_result"
    }
   ],
   "source": [
    "%time dot(array([1.,2,3]),array([2.,3,4]))"
   ]
  },
  {
   "cell_type": "code",
   "execution_count": null,
   "metadata": {},
   "outputs": [
    {
     "name": "stdout",
     "output_type": "stream",
     "text": [
      "CPU times: user 29 µs, sys: 1 µs, total: 30 µs\n",
      "Wall time: 31 µs\n"
     ]
    },
    {
     "data": {
      "text/plain": [
       "20.0"
      ]
     },
     "execution_count": null,
     "metadata": {},
     "output_type": "execute_result"
    }
   ],
   "source": [
    "%time dot(array([1.,2,3]),array([2.,3,4]))"
   ]
  },
  {
   "cell_type": "markdown",
   "metadata": {},
   "source": [
    "### matmul_2loops_njit, m1.numpy()"
   ]
  },
  {
   "cell_type": "markdown",
   "metadata": {},
   "source": [
    "Now only two of our loops are running in Python, and the third loop is running in machine code"
   ]
  },
  {
   "cell_type": "code",
   "execution_count": null,
   "metadata": {},
   "outputs": [],
   "source": [
    "#| export groundup\n",
    "def matmul_2loops_njit(a,b):\n",
    "    \"doing matrix multiplication with 2 python loops and 1 loop in machine code\"\n",
    "    a,b = a.numpy(),b.numpy() # njit or numba don't work with torch.tensor but numpy array\n",
    "    (ar,ac),(br,bc) = a.shape,b.shape\n",
    "    c = torch.zeros(ar, bc)\n",
    "    for i in range(ar):\n",
    "        for j in range(bc): c[i,j] = dot(a[i,:], b[:,j])\n",
    "    return c"
   ]
  },
  {
   "cell_type": "code",
   "execution_count": null,
   "metadata": {},
   "outputs": [
    {
     "data": {
      "text/plain": [
       "tensor([[ 13.94,  -2.07,   7.38,   4.89,   9.79,  11.23,  -5.66,   2.72,   1.67,   0.62],\n",
       "        [ -3.94,   8.64,   1.41,   3.47,  -0.41,  -6.52,  -2.34,   8.89,   8.43,   2.14],\n",
       "        [  3.90,   5.01,  12.87,  -8.94,  11.44,  31.37,   3.28,   2.28,  11.14,   0.64],\n",
       "        [  6.62,   1.96,   2.26,  12.55,   5.53,   0.90,   0.54,   7.73,  -0.21,   0.82],\n",
       "        [ -5.49,  19.77,  12.52,  -2.72,   7.11,   5.99,  -2.49,   6.60,  22.25, -10.14]])"
      ]
     },
     "execution_count": null,
     "metadata": {},
     "output_type": "execute_result"
    }
   ],
   "source": [
    "matmul_2loops_njit(m1,m2)"
   ]
  },
  {
   "cell_type": "code",
   "execution_count": null,
   "metadata": {},
   "outputs": [
    {
     "name": "stdout",
     "output_type": "stream",
     "text": [
      "signature: None\n",
      "__class__: <class 'builtin_function_or_method'>\n",
      "__repr__: <built-in method numpy of Tensor object>\n",
      "\n",
      "__doc__:\n",
      "numpy() -> numpy.ndarray\n",
      "\n",
      "Returns :attr:`self` tensor as a NumPy :class:`ndarray`. This tensor and the\n",
      "returned :class:`ndarray` share the same underlying storage. Changes to\n",
      ":attr:`self` tensor will be reflected in the :class:`ndarray` and vice versa.\n",
      "__dict__: not exist \n",
      "\n",
      "metaclass: False\n",
      "class: False\n",
      "decorator: False\n",
      "function: False\n",
      "method: False\n"
     ]
    }
   ],
   "source": [
    "check(m1.numpy)"
   ]
  },
  {
   "cell_type": "code",
   "execution_count": null,
   "metadata": {},
   "outputs": [],
   "source": [
    "m1a,m2a = m1.numpy(),m2.numpy()"
   ]
  },
  {
   "cell_type": "code",
   "execution_count": null,
   "metadata": {},
   "outputs": [
    {
     "data": {
      "text/plain": [
       "(torch.Size([5, 784]), (5, 784))"
      ]
     },
     "execution_count": null,
     "metadata": {},
     "output_type": "execute_result"
    }
   ],
   "source": [
    "m1.shape, m1a.shape"
   ]
  },
  {
   "cell_type": "markdown",
   "metadata": {},
   "source": [
    "### test_close, %timeit, %time"
   ]
  },
  {
   "cell_type": "code",
   "execution_count": null,
   "metadata": {},
   "outputs": [],
   "source": [
    "from fastcore.test import *"
   ]
  },
  {
   "cell_type": "code",
   "execution_count": null,
   "metadata": {},
   "outputs": [
    {
     "name": "stdout",
     "output_type": "stream",
     "text": [
      "shapes => a: torch.Size([5, 784]), b: torch.Size([784, 10]), res: torch.Size([5, 10])\n"
     ]
    }
   ],
   "source": [
    "test_close(matmul_3loops(m1, m2),matmul_2loops_njit(m1, m2))"
   ]
  },
  {
   "cell_type": "code",
   "execution_count": null,
   "metadata": {},
   "outputs": [
    {
     "name": "stdout",
     "output_type": "stream",
     "text": [
      "259 µs ± 160 µs per loop (mean ± std. dev. of 7 runs, 10 loops each)\n"
     ]
    }
   ],
   "source": [
    "%timeit -n 10 matmul_2loops_njit(m1,m2)"
   ]
  },
  {
   "cell_type": "code",
   "execution_count": null,
   "metadata": {},
   "outputs": [
    {
     "name": "stdout",
     "output_type": "stream",
     "text": [
      "CPU times: user 376 µs, sys: 160 µs, total: 536 µs\n",
      "Wall time: 379 µs\n"
     ]
    }
   ],
   "source": [
    "%time _=matmul_2loops_njit(m1,m2)"
   ]
  },
  {
   "cell_type": "code",
   "execution_count": null,
   "metadata": {},
   "outputs": [],
   "source": []
  },
  {
   "cell_type": "markdown",
   "metadata": {},
   "source": [
    "## Elementwise ops"
   ]
  },
  {
   "cell_type": "markdown",
   "metadata": {},
   "source": [
    "[TryAPL](https://tryapl.org/)"
   ]
  },
  {
   "cell_type": "markdown",
   "metadata": {},
   "source": [
    "### elementwise by tensor"
   ]
  },
  {
   "cell_type": "code",
   "execution_count": null,
   "metadata": {},
   "outputs": [
    {
     "data": {
      "text/plain": [
       "(tensor([10.,  6., -4.]), tensor([2., 8., 7.]))"
      ]
     },
     "execution_count": null,
     "metadata": {},
     "output_type": "execute_result"
    }
   ],
   "source": [
    "a = tensor([10., 6, -4])\n",
    "b = tensor([2., 8, 7])\n",
    "a,b"
   ]
  },
  {
   "cell_type": "code",
   "execution_count": null,
   "metadata": {},
   "outputs": [
    {
     "data": {
      "text/plain": [
       "tensor([12., 14.,  3.])"
      ]
     },
     "execution_count": null,
     "metadata": {},
     "output_type": "execute_result"
    }
   ],
   "source": [
    "a + b"
   ]
  },
  {
   "cell_type": "code",
   "execution_count": null,
   "metadata": {},
   "outputs": [
    {
     "data": {
      "text/plain": [
       "tensor(0.67)"
      ]
     },
     "execution_count": null,
     "metadata": {},
     "output_type": "execute_result"
    }
   ],
   "source": [
    "(a < b).float().mean()"
   ]
  },
  {
   "cell_type": "code",
   "execution_count": null,
   "metadata": {},
   "outputs": [
    {
     "data": {
      "text/plain": [
       "tensor([[1., 2., 3.],\n",
       "        [4., 5., 6.],\n",
       "        [7., 8., 9.]])"
      ]
     },
     "execution_count": null,
     "metadata": {},
     "output_type": "execute_result"
    }
   ],
   "source": [
    "m = tensor([[1., 2, 3], [4,5,6], [7,8,9]]); m"
   ]
  },
  {
   "cell_type": "markdown",
   "metadata": {},
   "source": [
    "Frobenius norm:\n",
    "\n",
    "$$\\| A \\|_F = \\left( \\sum_{i,j=1}^n | a_{ij} |^2 \\right)^{1/2}$$\n",
    "\n",
    "*Hint*: you don't normally need to write equations in LaTeX yourself, instead, you can click 'edit' in Wikipedia and copy the LaTeX from there (which is what I did for the above equation). Or on arxiv.org, click \"Download: Other formats\" in the top right, then \"Download source\"; rename the downloaded file to end in `.tgz` if it doesn't already, and you should find the source there, including the equations to copy and paste. This is the source LaTeX that I pasted to render the equation above:\n",
    "\n",
    "```latex\n",
    "$$\\| A \\|_F = \\left( \\sum_{i,j=1}^n | a_{ij} |^2 \\right)^{1/2}$$\n",
    "```"
   ]
  },
  {
   "cell_type": "code",
   "execution_count": null,
   "metadata": {},
   "outputs": [
    {
     "data": {
      "text/plain": [
       "tensor(16.88)"
      ]
     },
     "execution_count": null,
     "metadata": {},
     "output_type": "execute_result"
    }
   ],
   "source": [
    "(m*m).sum().sqrt()"
   ]
  },
  {
   "cell_type": "code",
   "execution_count": null,
   "metadata": {},
   "outputs": [
    {
     "name": "stdout",
     "output_type": "stream",
     "text": [
      "signature: None\n",
      "__class__: <class 'builtin_function_or_method'>\n",
      "__repr__: <built-in method sum of Tensor object>\n",
      "\n",
      "__doc__:\n",
      "sum(dim=None, keepdim=False, dtype=None) -> Tensor\n",
      "\n",
      "See :func:`torch.sum`\n",
      "__dict__: not exist \n",
      "\n",
      "metaclass: False\n",
      "class: False\n",
      "decorator: False\n",
      "function: False\n",
      "method: False\n"
     ]
    }
   ],
   "source": [
    "check(m.sum)"
   ]
  },
  {
   "cell_type": "code",
   "execution_count": null,
   "metadata": {},
   "outputs": [
    {
     "name": "stdout",
     "output_type": "stream",
     "text": [
      "signature: None\n",
      "__class__: <class 'builtin_function_or_method'>\n",
      "__repr__: <built-in method sum of type object>\n",
      "\n",
      "__doc__:\n",
      "sum(input, *, dtype=None) -> Tensor\n",
      "\n",
      "Returns the sum of all elements in the :attr:`input` tensor.\n",
      "\n",
      "Args:\n",
      "    input (Tensor): the input tensor.\n",
      "\n",
      "Keyword args:\n",
      "    dtype (:class:`torch.dtype`, optional): the desired data type of returned tensor.\n",
      "        If specified, the input tensor is casted to :attr:`dtype` before the operation\n",
      "        is performed. This is useful for preventing data type overflows. Default: None.\n",
      "__dict__: not exist \n",
      "\n",
      "metaclass: False\n",
      "class: False\n",
      "decorator: False\n",
      "function: False\n",
      "method: False\n"
     ]
    }
   ],
   "source": [
    "check(torch.sum)"
   ]
  },
  {
   "cell_type": "markdown",
   "metadata": {},
   "source": [
    "### matmul_2loops_elementwise"
   ]
  },
  {
   "cell_type": "code",
   "execution_count": null,
   "metadata": {},
   "outputs": [],
   "source": [
    "#| export groundup\n",
    "def matmul_2loops_elementwise(a,b):\n",
    "    (ar,ac),(br,bc) = a.shape,b.shape\n",
    "    c = torch.zeros(ar, bc)\n",
    "    for i in range(ar):\n",
    "        for j in range(bc): c[i,j] = (a[i,:] * b[:,j]).sum()\n",
    "    return c"
   ]
  },
  {
   "cell_type": "code",
   "execution_count": null,
   "metadata": {},
   "outputs": [
    {
     "name": "stdout",
     "output_type": "stream",
     "text": [
      "shapes => a: torch.Size([5, 784]), b: torch.Size([784, 10]), res: torch.Size([5, 10])\n"
     ]
    }
   ],
   "source": [
    "test_close(matmul_3loops(m1,m2), matmul_2loops_elementwise(m1, m2))"
   ]
  },
  {
   "cell_type": "code",
   "execution_count": null,
   "metadata": {},
   "outputs": [
    {
     "name": "stdout",
     "output_type": "stream",
     "text": [
      "shapes => a: torch.Size([5, 784]), b: torch.Size([784, 10]), res: torch.Size([5, 10])\n",
      "CPU times: user 336 ms, sys: 3.59 ms, total: 340 ms\n",
      "Wall time: 340 ms\n"
     ]
    }
   ],
   "source": [
    "%time _=matmul_3loops(m1, m2)"
   ]
  },
  {
   "cell_type": "code",
   "execution_count": null,
   "metadata": {},
   "outputs": [
    {
     "name": "stdout",
     "output_type": "stream",
     "text": [
      "CPU times: user 335 µs, sys: 198 µs, total: 533 µs\n",
      "Wall time: 322 µs\n"
     ]
    }
   ],
   "source": [
    "%time _=matmul_2loops_njit(m1, m2)"
   ]
  },
  {
   "cell_type": "code",
   "execution_count": null,
   "metadata": {},
   "outputs": [
    {
     "name": "stdout",
     "output_type": "stream",
     "text": [
      "CPU times: user 635 µs, sys: 370 µs, total: 1.01 ms\n",
      "Wall time: 613 µs\n"
     ]
    }
   ],
   "source": [
    "%time _=matmul_2loops_elementwise(m1, m2)"
   ]
  },
  {
   "cell_type": "markdown",
   "metadata": {},
   "source": [
    "### matmul_2loops_dotproduct"
   ]
  },
  {
   "cell_type": "code",
   "execution_count": null,
   "metadata": {},
   "outputs": [],
   "source": [
    "#| export groundup\n",
    "def matmul_2loops_dotproduct(a,b):\n",
    "    (ar,ac),(br,bc) = a.shape,b.shape\n",
    "    c = torch.zeros(ar, bc)\n",
    "    for i in range(ar):\n",
    "        for j in range(bc): c[i,j] = torch.dot(a[i,:], b[:,j])\n",
    "    return c"
   ]
  },
  {
   "cell_type": "code",
   "execution_count": null,
   "metadata": {},
   "outputs": [],
   "source": [
    "test_close(t1,matmul_2loops_dotproduct(m1, m2))"
   ]
  },
  {
   "cell_type": "code",
   "execution_count": null,
   "metadata": {},
   "outputs": [
    {
     "name": "stdout",
     "output_type": "stream",
     "text": [
      "393 µs ± 20.6 µs per loop (mean ± std. dev. of 7 runs, 10 loops each)\n"
     ]
    }
   ],
   "source": [
    "%timeit -n 10 _=matmul_2loops_dotproduct(m1, m2)"
   ]
  },
  {
   "cell_type": "code",
   "execution_count": null,
   "metadata": {},
   "outputs": [
    {
     "name": "stdout",
     "output_type": "stream",
     "text": [
      "CPU times: user 380 µs, sys: 230 µs, total: 610 µs\n",
      "Wall time: 389 µs\n"
     ]
    }
   ],
   "source": [
    "%time _=matmul_2loops_njit(m1, m2)"
   ]
  },
  {
   "cell_type": "code",
   "execution_count": null,
   "metadata": {},
   "outputs": [
    {
     "name": "stdout",
     "output_type": "stream",
     "text": [
      "CPU times: user 654 µs, sys: 410 µs, total: 1.06 ms\n",
      "Wall time: 686 µs\n"
     ]
    }
   ],
   "source": [
    "%time _=matmul_2loops_elementwise(m1, m2)"
   ]
  },
  {
   "cell_type": "code",
   "execution_count": null,
   "metadata": {},
   "outputs": [
    {
     "name": "stdout",
     "output_type": "stream",
     "text": [
      "CPU times: user 584 µs, sys: 323 µs, total: 907 µs\n",
      "Wall time: 576 µs\n"
     ]
    }
   ],
   "source": [
    "%time _=matmul_2loops_dotproduct(m1, m2)"
   ]
  },
  {
   "cell_type": "code",
   "execution_count": null,
   "metadata": {},
   "outputs": [],
   "source": []
  },
  {
   "cell_type": "markdown",
   "metadata": {},
   "source": [
    "## Broadcasting"
   ]
  },
  {
   "cell_type": "markdown",
   "metadata": {},
   "source": [
    "The term **broadcasting** describes how arrays with different shapes are treated during arithmetic operations.  The term broadcasting was first used by Numpy.\n",
    "\n",
    "From the [Numpy Documentation](https://docs.scipy.org/doc/numpy-1.10.0/user/basics.broadcasting.html):\n",
    "\n",
    "    The term broadcasting describes how numpy treats arrays with \n",
    "    different shapes during arithmetic operations. Subject to certain \n",
    "    constraints, the smaller array is “broadcast” across the larger \n",
    "    array so that they have compatible shapes. Broadcasting provides a \n",
    "    means of vectorizing array operations so that looping occurs in C\n",
    "    instead of Python. It does this without making needless copies of \n",
    "    data and usually leads to efficient algorithm implementations.\n",
    "    \n",
    "In addition to the efficiency of broadcasting, it allows developers to write less code, which typically leads to fewer errors.\n",
    "\n",
    "*This section was adapted from [Chapter 4](http://nbviewer.jupyter.org/github/fastai/numerical-linear-algebra/blob/master/nbs/4.%20Compressed%20Sensing%20of%20CT%20Scans%20with%20Robust%20Regression.ipynb#4.-Compressed-Sensing-of-CT-Scans-with-Robust-Regression) of the fast.ai [Computational Linear Algebra](https://github.com/fastai/numerical-linear-algebra) course.*"
   ]
  },
  {
   "cell_type": "markdown",
   "metadata": {},
   "source": [
    "### Broadcasting with a scalar\n",
    "How a scalar is broadcasted to do operation with a matrix"
   ]
  },
  {
   "cell_type": "code",
   "execution_count": null,
   "metadata": {},
   "outputs": [
    {
     "data": {
      "text/plain": [
       "tensor([10.,  6., -4.])"
      ]
     },
     "execution_count": null,
     "metadata": {},
     "output_type": "execute_result"
    }
   ],
   "source": [
    "a"
   ]
  },
  {
   "cell_type": "code",
   "execution_count": null,
   "metadata": {},
   "outputs": [
    {
     "data": {
      "text/plain": [
       "tensor([ True,  True, False])"
      ]
     },
     "execution_count": null,
     "metadata": {},
     "output_type": "execute_result"
    }
   ],
   "source": [
    "a > 0"
   ]
  },
  {
   "cell_type": "markdown",
   "metadata": {},
   "source": [
    "How are we able to do `a > 0`?  0 is being **broadcast** to have the same dimensions as a.\n",
    "\n",
    "For instance you can normalize our dataset by subtracting the mean (a scalar) from the entire data set (a matrix) and dividing by the standard deviation (another scalar), using broadcasting.\n",
    "\n",
    "Other examples of broadcasting with a scalar:"
   ]
  },
  {
   "cell_type": "code",
   "execution_count": null,
   "metadata": {},
   "outputs": [
    {
     "data": {
      "text/plain": [
       "tensor([11.,  7., -3.])"
      ]
     },
     "execution_count": null,
     "metadata": {},
     "output_type": "execute_result"
    }
   ],
   "source": [
    "a + 1"
   ]
  },
  {
   "cell_type": "code",
   "execution_count": null,
   "metadata": {},
   "outputs": [
    {
     "data": {
      "text/plain": [
       "tensor([[1., 2., 3.],\n",
       "        [4., 5., 6.],\n",
       "        [7., 8., 9.]])"
      ]
     },
     "execution_count": null,
     "metadata": {},
     "output_type": "execute_result"
    }
   ],
   "source": [
    "m"
   ]
  },
  {
   "cell_type": "code",
   "execution_count": null,
   "metadata": {},
   "outputs": [
    {
     "data": {
      "text/plain": [
       "tensor([[ 2.,  4.,  6.],\n",
       "        [ 8., 10., 12.],\n",
       "        [14., 16., 18.]])"
      ]
     },
     "execution_count": null,
     "metadata": {},
     "output_type": "execute_result"
    }
   ],
   "source": [
    "2*m"
   ]
  },
  {
   "cell_type": "markdown",
   "metadata": {},
   "source": [
    "### Broadcasting a vector to a matrix"
   ]
  },
  {
   "cell_type": "markdown",
   "metadata": {},
   "source": [
    "Although broadcasting a scalar is an idea that dates back to APL, the more powerful idea of broadcasting across higher rank tensors [comes from](https://mail.python.org/pipermail/matrix-sig/1995-November/000143.html) a little known language called [Yorick](https://software.llnl.gov/yorick-doc/manual/yorick_50.html).\n",
    "\n",
    "We can also broadcast a vector to a matrix, when the vector's shape is a scalar"
   ]
  },
  {
   "cell_type": "code",
   "execution_count": null,
   "metadata": {},
   "outputs": [
    {
     "data": {
      "text/plain": [
       "tensor([10., 20., 30.])"
      ]
     },
     "execution_count": null,
     "metadata": {},
     "output_type": "execute_result"
    }
   ],
   "source": [
    "c = tensor([10.,20,30]); \n",
    "c"
   ]
  },
  {
   "cell_type": "code",
   "execution_count": null,
   "metadata": {},
   "outputs": [
    {
     "data": {
      "text/plain": [
       "tensor([[1., 2., 3.],\n",
       "        [4., 5., 6.],\n",
       "        [7., 8., 9.]])"
      ]
     },
     "execution_count": null,
     "metadata": {},
     "output_type": "execute_result"
    }
   ],
   "source": [
    "m"
   ]
  },
  {
   "cell_type": "code",
   "execution_count": null,
   "metadata": {},
   "outputs": [
    {
     "data": {
      "text/plain": [
       "(torch.Size([3, 3]), torch.Size([3]))"
      ]
     },
     "execution_count": null,
     "metadata": {},
     "output_type": "execute_result"
    }
   ],
   "source": [
    "m.shape,c.shape"
   ]
  },
  {
   "cell_type": "code",
   "execution_count": null,
   "metadata": {},
   "outputs": [
    {
     "data": {
      "text/plain": [
       "tensor([[11., 22., 33.],\n",
       "        [14., 25., 36.],\n",
       "        [17., 28., 39.]])"
      ]
     },
     "execution_count": null,
     "metadata": {},
     "output_type": "execute_result"
    }
   ],
   "source": [
    "m + c"
   ]
  },
  {
   "cell_type": "code",
   "execution_count": null,
   "metadata": {},
   "outputs": [
    {
     "data": {
      "text/plain": [
       "tensor([[11., 22., 33.],\n",
       "        [14., 25., 36.],\n",
       "        [17., 28., 39.]])"
      ]
     },
     "execution_count": null,
     "metadata": {},
     "output_type": "execute_result"
    }
   ],
   "source": [
    "c + m"
   ]
  },
  {
   "cell_type": "markdown",
   "metadata": {},
   "source": [
    "#### c.expand_as(m), t.storage(), t.stride()"
   ]
  },
  {
   "cell_type": "markdown",
   "metadata": {},
   "source": [
    "We don't really copy the rows, but it looks as if we did. In fact, the rows are given a *stride* of 0."
   ]
  },
  {
   "cell_type": "code",
   "execution_count": null,
   "metadata": {},
   "outputs": [
    {
     "name": "stdout",
     "output_type": "stream",
     "text": [
      "signature: None\n",
      "__class__: <class 'builtin_function_or_method'>\n",
      "__repr__: <built-in method expand_as of Tensor object>\n",
      "\n",
      "__doc__:\n",
      "expand_as(other) -> Tensor\n",
      "\n",
      "Expand this tensor to the same size as :attr:`other`.\n",
      "``self.expand_as(other)`` is equivalent to ``self.expand(other.size())``.\n",
      "\n",
      "Please see :meth:`~Tensor.expand` for more information about ``expand``.\n",
      "\n",
      "Args:\n",
      "    other (:class:`torch.Tensor`): The result tensor has the same size\n",
      "        as :attr:`other`.\n",
      "__dict__: not exist \n",
      "\n",
      "metaclass: False\n",
      "class: False\n",
      "decorator: False\n",
      "function: False\n",
      "method: False\n"
     ]
    }
   ],
   "source": [
    "check(c.expand_as)"
   ]
  },
  {
   "cell_type": "code",
   "execution_count": null,
   "metadata": {},
   "outputs": [],
   "source": [
    "t = c.expand_as(m)"
   ]
  },
  {
   "cell_type": "code",
   "execution_count": null,
   "metadata": {},
   "outputs": [
    {
     "data": {
      "text/plain": [
       "tensor([[10., 20., 30.],\n",
       "        [10., 20., 30.],\n",
       "        [10., 20., 30.]])"
      ]
     },
     "execution_count": null,
     "metadata": {},
     "output_type": "execute_result"
    }
   ],
   "source": [
    "t"
   ]
  },
  {
   "cell_type": "code",
   "execution_count": null,
   "metadata": {},
   "outputs": [
    {
     "data": {
      "text/plain": [
       "tensor([[11., 22., 33.],\n",
       "        [14., 25., 36.],\n",
       "        [17., 28., 39.]])"
      ]
     },
     "execution_count": null,
     "metadata": {},
     "output_type": "execute_result"
    }
   ],
   "source": [
    "m + t"
   ]
  },
  {
   "cell_type": "code",
   "execution_count": null,
   "metadata": {},
   "outputs": [
    {
     "name": "stdout",
     "output_type": "stream",
     "text": [
      "signature: ()\n",
      "__class__: <class 'method'>\n",
      "__repr__: <bound method Tensor.storage of tensor([[10., 20., 30.],\n",
      "        [10., 20., 30.],\n",
      "        [10., 20., 30.]])>\n",
      "\n",
      "__doc__:\n",
      "storage() -> torch.Storage\n",
      "\n",
      "Returns the underlying storage.\n",
      "__dict__: \n",
      "{}\n",
      "metaclass: False\n",
      "class: False\n",
      "decorator: False\n",
      "function: False\n",
      "method: True\n"
     ]
    }
   ],
   "source": [
    "check(t.storage)"
   ]
  },
  {
   "cell_type": "code",
   "execution_count": null,
   "metadata": {},
   "outputs": [
    {
     "data": {
      "text/plain": [
       " 10.0\n",
       " 20.0\n",
       " 30.0\n",
       "[torch.storage._TypedStorage(dtype=torch.float32, device=cpu) of size 3]"
      ]
     },
     "execution_count": null,
     "metadata": {},
     "output_type": "execute_result"
    }
   ],
   "source": [
    "t.storage()"
   ]
  },
  {
   "cell_type": "code",
   "execution_count": null,
   "metadata": {},
   "outputs": [
    {
     "name": "stdout",
     "output_type": "stream",
     "text": [
      "signature: None\n",
      "__class__: <class 'builtin_function_or_method'>\n",
      "__repr__: <built-in method stride of Tensor object>\n",
      "\n",
      "__doc__:\n",
      "stride(dim) -> tuple or int\n",
      "\n",
      "Returns the stride of :attr:`self` tensor.\n",
      "\n",
      "Stride is the jump necessary to go from one element to the next one in the\n",
      "specified dimension :attr:`dim`. A tuple of all strides is returned when no\n",
      "argument is passed in. Otherwise, an integer value is returned as the stride in\n",
      "the particular dimension :attr:`dim`.\n",
      "\n",
      "Args:\n",
      "    dim (int, optional): the desired dimension in which stride is required\n",
      "__dict__: not exist \n",
      "\n",
      "metaclass: False\n",
      "class: False\n",
      "decorator: False\n",
      "function: False\n",
      "method: False\n"
     ]
    }
   ],
   "source": [
    "check(t.stride)"
   ]
  },
  {
   "cell_type": "code",
   "execution_count": null,
   "metadata": {},
   "outputs": [
    {
     "data": {
      "text/plain": [
       "((0, 1), torch.Size([3, 3]))"
      ]
     },
     "execution_count": null,
     "metadata": {},
     "output_type": "execute_result"
    }
   ],
   "source": [
    "t.stride(), t.shape"
   ]
  },
  {
   "cell_type": "markdown",
   "metadata": {},
   "source": [
    "### c.unsqueeze(0), c[None,:], c.unsqueeze(1), c[:, None]"
   ]
  },
  {
   "cell_type": "markdown",
   "metadata": {},
   "source": [
    "You can index with the special value [None] or use `unsqueeze()` to convert a 1-dimensional array into a 2-dimensional array (although one of those dimensions has value 1)."
   ]
  },
  {
   "cell_type": "code",
   "execution_count": null,
   "metadata": {},
   "outputs": [
    {
     "data": {
      "text/plain": [
       "tensor([10., 20., 30.])"
      ]
     },
     "execution_count": null,
     "metadata": {},
     "output_type": "execute_result"
    },
    {
     "data": {
      "text/plain": [
       "torch.Size([3])"
      ]
     },
     "execution_count": null,
     "metadata": {},
     "output_type": "execute_result"
    }
   ],
   "source": [
    "c\n",
    "c.shape"
   ]
  },
  {
   "cell_type": "code",
   "execution_count": null,
   "metadata": {},
   "outputs": [
    {
     "data": {
      "text/plain": [
       "(tensor([[10., 20., 30.]]), tensor([[10., 20., 30.]]))"
      ]
     },
     "execution_count": null,
     "metadata": {},
     "output_type": "execute_result"
    }
   ],
   "source": [
    "c.unsqueeze(0), c[None, :]"
   ]
  },
  {
   "cell_type": "code",
   "execution_count": null,
   "metadata": {},
   "outputs": [
    {
     "data": {
      "text/plain": [
       "torch.Size([1, 3])"
      ]
     },
     "execution_count": null,
     "metadata": {},
     "output_type": "execute_result"
    },
    {
     "data": {
      "text/plain": [
       "torch.Size([1, 3])"
      ]
     },
     "execution_count": null,
     "metadata": {},
     "output_type": "execute_result"
    }
   ],
   "source": [
    "c.unsqueeze(0).shape\n",
    "c[None, :].shape"
   ]
  },
  {
   "cell_type": "code",
   "execution_count": null,
   "metadata": {},
   "outputs": [
    {
     "data": {
      "text/plain": [
       "(tensor([[10.],\n",
       "         [20.],\n",
       "         [30.]]),\n",
       " tensor([[10.],\n",
       "         [20.],\n",
       "         [30.]]))"
      ]
     },
     "execution_count": null,
     "metadata": {},
     "output_type": "execute_result"
    }
   ],
   "source": [
    "c.unsqueeze(1), c[:, None]"
   ]
  },
  {
   "cell_type": "code",
   "execution_count": null,
   "metadata": {},
   "outputs": [
    {
     "data": {
      "text/plain": [
       "torch.Size([3])"
      ]
     },
     "execution_count": null,
     "metadata": {},
     "output_type": "execute_result"
    },
    {
     "data": {
      "text/plain": [
       "torch.Size([3, 1])"
      ]
     },
     "execution_count": null,
     "metadata": {},
     "output_type": "execute_result"
    },
    {
     "data": {
      "text/plain": [
       "torch.Size([3, 1])"
      ]
     },
     "execution_count": null,
     "metadata": {},
     "output_type": "execute_result"
    }
   ],
   "source": [
    "c.shape\n",
    "c.unsqueeze(1).shape\n",
    "c[:, None].shape"
   ]
  },
  {
   "cell_type": "markdown",
   "metadata": {},
   "source": [
    "#### c[None], c[..., None]\n",
    "You can always skip trailling ':'s. And '...' means '*all preceding dimensions*'"
   ]
  },
  {
   "cell_type": "code",
   "execution_count": null,
   "metadata": {},
   "outputs": [
    {
     "data": {
      "text/plain": [
       "(torch.Size([1, 3]), torch.Size([3, 1]))"
      ]
     },
     "execution_count": null,
     "metadata": {},
     "output_type": "execute_result"
    }
   ],
   "source": [
    "c[None].shape,c[...,None].shape"
   ]
  },
  {
   "cell_type": "markdown",
   "metadata": {},
   "source": [
    "### Broadcast a one-row/col matrix"
   ]
  },
  {
   "cell_type": "code",
   "execution_count": null,
   "metadata": {},
   "outputs": [
    {
     "data": {
      "text/plain": [
       "tensor([[10., 20., 30.],\n",
       "        [10., 20., 30.],\n",
       "        [10., 20., 30.]])"
      ]
     },
     "execution_count": null,
     "metadata": {},
     "output_type": "execute_result"
    }
   ],
   "source": [
    "# c[None,:].expand_as(m)\n",
    "c[None].expand_as(m)"
   ]
  },
  {
   "cell_type": "code",
   "execution_count": null,
   "metadata": {},
   "outputs": [
    {
     "data": {
      "text/plain": [
       "tensor([[10., 10., 10.],\n",
       "        [20., 20., 20.],\n",
       "        [30., 30., 30.]])"
      ]
     },
     "execution_count": null,
     "metadata": {},
     "output_type": "execute_result"
    }
   ],
   "source": [
    "c[:,None].expand_as(m)"
   ]
  },
  {
   "cell_type": "code",
   "execution_count": null,
   "metadata": {},
   "outputs": [
    {
     "data": {
      "text/plain": [
       "tensor([[11., 12., 13.],\n",
       "        [24., 25., 26.],\n",
       "        [37., 38., 39.]])"
      ]
     },
     "execution_count": null,
     "metadata": {},
     "output_type": "execute_result"
    }
   ],
   "source": [
    "m + c[:,None]"
   ]
  },
  {
   "cell_type": "code",
   "execution_count": null,
   "metadata": {},
   "outputs": [
    {
     "data": {
      "text/plain": [
       "tensor([[11., 22., 33.],\n",
       "        [14., 25., 36.],\n",
       "        [17., 28., 39.]])"
      ]
     },
     "execution_count": null,
     "metadata": {},
     "output_type": "execute_result"
    }
   ],
   "source": [
    "m + c[None,:]"
   ]
  },
  {
   "cell_type": "markdown",
   "metadata": {},
   "source": [
    "### Broadcasting Rules\n",
    "how to broadcast two 1-row/col matricies"
   ]
  },
  {
   "cell_type": "code",
   "execution_count": null,
   "metadata": {},
   "outputs": [
    {
     "data": {
      "text/plain": [
       "tensor([[10., 20., 30.]])"
      ]
     },
     "execution_count": null,
     "metadata": {},
     "output_type": "execute_result"
    }
   ],
   "source": [
    "c[None,:]"
   ]
  },
  {
   "cell_type": "code",
   "execution_count": null,
   "metadata": {},
   "outputs": [
    {
     "data": {
      "text/plain": [
       "torch.Size([1, 3])"
      ]
     },
     "execution_count": null,
     "metadata": {},
     "output_type": "execute_result"
    }
   ],
   "source": [
    "c[None,:].shape"
   ]
  },
  {
   "cell_type": "code",
   "execution_count": null,
   "metadata": {},
   "outputs": [
    {
     "data": {
      "text/plain": [
       "tensor([[10.],\n",
       "        [20.],\n",
       "        [30.]])"
      ]
     },
     "execution_count": null,
     "metadata": {},
     "output_type": "execute_result"
    }
   ],
   "source": [
    "c[:,None]"
   ]
  },
  {
   "cell_type": "code",
   "execution_count": null,
   "metadata": {},
   "outputs": [
    {
     "data": {
      "text/plain": [
       "torch.Size([3, 1])"
      ]
     },
     "execution_count": null,
     "metadata": {},
     "output_type": "execute_result"
    }
   ],
   "source": [
    "c[:,None].shape"
   ]
  },
  {
   "cell_type": "code",
   "execution_count": null,
   "metadata": {},
   "outputs": [
    {
     "data": {
      "text/plain": [
       "tensor([[100., 200., 300.],\n",
       "        [200., 400., 600.],\n",
       "        [300., 600., 900.]])"
      ]
     },
     "execution_count": null,
     "metadata": {},
     "output_type": "execute_result"
    }
   ],
   "source": [
    "c[None,:] * c[:,None]"
   ]
  },
  {
   "cell_type": "code",
   "execution_count": null,
   "metadata": {},
   "outputs": [
    {
     "data": {
      "text/plain": [
       "tensor([[False,  True,  True],\n",
       "        [False, False,  True],\n",
       "        [False, False, False]])"
      ]
     },
     "execution_count": null,
     "metadata": {},
     "output_type": "execute_result"
    }
   ],
   "source": [
    "c[None] > c[:,None]"
   ]
  },
  {
   "cell_type": "markdown",
   "metadata": {},
   "source": [
    "When operating on two arrays/tensors, Numpy/PyTorch compares their shapes element-wise. It starts with the **trailing dimensions**, and works its way forward. Two dimensions are **compatible** when\n",
    "\n",
    "- they are equal, or\n",
    "- one of them is 1, in which case that dimension is broadcasted to make it the same size\n",
    "\n",
    "Arrays do not need to have the same number of dimensions. For example, if you have a `256*256*3` array of RGB values, and you want to scale each color in the image by a different value, you can multiply the image by a one-dimensional array with 3 values. Lining up the sizes of the trailing axes of these arrays according to the broadcast rules, shows that they are compatible:\n",
    "\n",
    "    Image  (3d array): 256 x 256 x 3\n",
    "    Scale  (1d array):             3\n",
    "    Result (3d array): 256 x 256 x 3"
   ]
  },
  {
   "cell_type": "markdown",
   "metadata": {},
   "source": [
    "### Practice Broadcasting\n",
    "Very helpful [examples](https://docs.scipy.org/doc/numpy-1.13.0/user/basics.broadcasting.html#general-broadcasting-rules) to solidify my practical understanding of Broadcasting.\n"
   ]
  },
  {
   "cell_type": "code",
   "execution_count": null,
   "metadata": {},
   "outputs": [],
   "source": []
  },
  {
   "cell_type": "code",
   "execution_count": null,
   "metadata": {},
   "outputs": [],
   "source": []
  },
  {
   "cell_type": "markdown",
   "metadata": {},
   "source": [
    "## Matmul with broadcasting"
   ]
  },
  {
   "cell_type": "markdown",
   "metadata": {},
   "source": [
    "### matmul_1loop_broadcast"
   ]
  },
  {
   "cell_type": "code",
   "execution_count": null,
   "metadata": {},
   "outputs": [
    {
     "data": {
      "text/plain": [
       "(torch.Size([784]), torch.Size([784, 10]))"
      ]
     },
     "execution_count": null,
     "metadata": {},
     "output_type": "execute_result"
    }
   ],
   "source": [
    "rowZero = m1[0]\n",
    "rowZero.shape, m2.shape"
   ]
  },
  {
   "cell_type": "code",
   "execution_count": null,
   "metadata": {},
   "outputs": [
    {
     "data": {
      "text/plain": [
       "torch.Size([784, 1])"
      ]
     },
     "execution_count": null,
     "metadata": {},
     "output_type": "execute_result"
    }
   ],
   "source": [
    "rowZero[:,None].shape # make rowZero flip from horizontal to vertical"
   ]
  },
  {
   "cell_type": "code",
   "execution_count": null,
   "metadata": {},
   "outputs": [
    {
     "data": {
      "text/plain": [
       "torch.Size([784, 10])"
      ]
     },
     "execution_count": null,
     "metadata": {},
     "output_type": "execute_result"
    }
   ],
   "source": [
    "rowZero[:,None].expand_as(m2).shape # broadcast from one column to 10 columns to match m2"
   ]
  },
  {
   "cell_type": "code",
   "execution_count": null,
   "metadata": {},
   "outputs": [
    {
     "data": {
      "text/plain": [
       "torch.Size([784, 10])"
      ]
     },
     "execution_count": null,
     "metadata": {},
     "output_type": "execute_result"
    }
   ],
   "source": [
    "(rowZero[:,None]*m2).shape # (broadcast vertically) vector * matrix "
   ]
  },
  {
   "cell_type": "code",
   "execution_count": null,
   "metadata": {},
   "outputs": [
    {
     "data": {
      "text/plain": [
       "tensor([13.94, -2.07,  7.38,  4.89,  9.79, 11.23, -5.66,  2.72,  1.67,  0.62])"
      ]
     },
     "execution_count": null,
     "metadata": {},
     "output_type": "execute_result"
    }
   ],
   "source": [
    "(rowZero[:,None]*m2).sum(dim=0) \n",
    "# dim=0, smash vertically to the ground so that we just have one row as output\n",
    "# dim=1, smash horizontal to the left/right so that we just have one column as output"
   ]
  },
  {
   "cell_type": "code",
   "execution_count": null,
   "metadata": {},
   "outputs": [],
   "source": [
    "#| export groundup\n",
    "def matmul_1loop_broadcast(a,b):\n",
    "    (ar,ac),(br,bc) = a.shape,b.shape\n",
    "    c = torch.zeros(ar, bc)\n",
    "    for i in range(ar):\n",
    "        c[i]   = (a[i,:,None] * b).sum(dim=0) # broadcast version\n",
    "    return c"
   ]
  },
  {
   "cell_type": "code",
   "execution_count": null,
   "metadata": {},
   "outputs": [
    {
     "name": "stdout",
     "output_type": "stream",
     "text": [
      "shapes => a: torch.Size([5, 784]), b: torch.Size([784, 10]), res: torch.Size([5, 10])\n"
     ]
    }
   ],
   "source": [
    "test_close(matmul_3loops(m1,m2),matmul_1loop_broadcast(m1, m2))"
   ]
  },
  {
   "cell_type": "code",
   "execution_count": null,
   "metadata": {},
   "outputs": [
    {
     "name": "stdout",
     "output_type": "stream",
     "text": [
      "57.4 µs ± 8.95 µs per loop (mean ± std. dev. of 7 runs, 10 loops each)\n"
     ]
    }
   ],
   "source": [
    "%timeit -n 10 _=matmul_1loop_broadcast(m1, m2)"
   ]
  },
  {
   "cell_type": "code",
   "execution_count": null,
   "metadata": {},
   "outputs": [
    {
     "name": "stdout",
     "output_type": "stream",
     "text": [
      "CPU times: user 364 µs, sys: 237 µs, total: 601 µs\n",
      "Wall time: 370 µs\n",
      "CPU times: user 600 µs, sys: 32 µs, total: 632 µs\n",
      "Wall time: 639 µs\n",
      "CPU times: user 397 µs, sys: 1e+03 ns, total: 398 µs\n",
      "Wall time: 399 µs\n",
      "CPU times: user 79 µs, sys: 0 ns, total: 79 µs\n",
      "Wall time: 80.8 µs\n"
     ]
    }
   ],
   "source": [
    "%time _=matmul_2loops_njit(m1,m2)\n",
    "%time _=matmul_2loops_elementwise(m1,m2)\n",
    "%time _=matmul_2loops_dotproduct(m1,m2)\n",
    "%time _=matmul_1loop_broadcast(m1,m2)"
   ]
  },
  {
   "cell_type": "markdown",
   "metadata": {},
   "source": [
    "### matmul on x_train and weights"
   ]
  },
  {
   "cell_type": "markdown",
   "metadata": {},
   "source": [
    "Our time has gone from ~500ms to <0.1ms, an over 5000x improvement! We can run on the whole dataset now."
   ]
  },
  {
   "cell_type": "code",
   "execution_count": null,
   "metadata": {},
   "outputs": [],
   "source": [
    "tr = matmul_1loop_broadcast(x_train, weights)"
   ]
  },
  {
   "cell_type": "code",
   "execution_count": null,
   "metadata": {},
   "outputs": [
    {
     "data": {
      "text/plain": [
       "torch.Size([50000, 10])"
      ]
     },
     "execution_count": null,
     "metadata": {},
     "output_type": "execute_result"
    }
   ],
   "source": [
    "tr.shape"
   ]
  },
  {
   "cell_type": "code",
   "execution_count": null,
   "metadata": {},
   "outputs": [
    {
     "name": "stdout",
     "output_type": "stream",
     "text": [
      "CPU times: user 2.25 s, sys: 513 ms, total: 2.76 s\n",
      "Wall time: 1.87 s\n",
      "CPU times: user 4.34 s, sys: 500 ms, total: 4.84 s\n",
      "Wall time: 4.06 s\n",
      "CPU times: user 4.09 s, sys: 517 ms, total: 4.61 s\n",
      "Wall time: 3.56 s\n",
      "CPU times: user 1 s, sys: 507 ms, total: 1.51 s\n",
      "Wall time: 501 ms\n"
     ]
    }
   ],
   "source": [
    "%time _=matmul_2loops_njit(x_train, weights)\n",
    "%time _=matmul_2loops_elementwise(x_train, weights)\n",
    "%time _=matmul_2loops_dotproduct(x_train, weights)\n",
    "%time _=matmul_1loop_broadcast(x_train, weights)"
   ]
  },
  {
   "cell_type": "code",
   "execution_count": null,
   "metadata": {},
   "outputs": [],
   "source": []
  },
  {
   "cell_type": "markdown",
   "metadata": {},
   "source": [
    "## matmul_einsum_noloop"
   ]
  },
  {
   "cell_type": "markdown",
   "metadata": {},
   "source": [
    "[Einstein summation](https://ajcr.net/Basic-guide-to-einsum/) ([`einsum`](https://numpy.org/doc/stable/reference/generated/numpy.einsum.html)) is a compact representation for combining products and sums in a general way. The key rules are:\n",
    "\n",
    "- Repeating letters between input arrays means that values along those axes will be multiplied together.\n",
    "- Omitting a letter from the output means that values along that axis will be summed."
   ]
  },
  {
   "cell_type": "code",
   "execution_count": null,
   "metadata": {},
   "outputs": [],
   "source": [
    "#| export groundup\n",
    "def matmul_einsum_noloop(a,b): return torch.einsum('ik,kj->ij', a, b)\n",
    "# c[i,j] += a[i,k] * b[k,j]\n",
    "# c[i,j] = (a[i,:] * b[:,j]).sum()"
   ]
  },
  {
   "cell_type": "code",
   "execution_count": null,
   "metadata": {},
   "outputs": [],
   "source": [
    "test_close(tr, matmul_einsum_noloop(x_train, weights), eps=1e-3) # question: why 1e-3"
   ]
  },
  {
   "cell_type": "code",
   "execution_count": null,
   "metadata": {},
   "outputs": [
    {
     "name": "stdout",
     "output_type": "stream",
     "text": [
      "CPU times: user 2.2 s, sys: 490 ms, total: 2.69 s\n",
      "Wall time: 1.82 s\n",
      "CPU times: user 4.36 s, sys: 499 ms, total: 4.86 s\n",
      "Wall time: 4.01 s\n",
      "CPU times: user 4.13 s, sys: 525 ms, total: 4.65 s\n",
      "Wall time: 3.71 s\n",
      "CPU times: user 898 ms, sys: 467 ms, total: 1.36 s\n",
      "Wall time: 513 ms\n",
      "CPU times: user 160 ms, sys: 16.1 ms, total: 176 ms\n",
      "Wall time: 25 ms\n"
     ]
    }
   ],
   "source": [
    "%time _=matmul_2loops_njit(x_train, weights)\n",
    "%time _=matmul_2loops_elementwise(x_train, weights)\n",
    "%time _=matmul_2loops_dotproduct(x_train, weights)\n",
    "%time _=matmul_1loop_broadcast(x_train, weights)\n",
    "%time _=matmul_einsum_noloop(x_train, weights)"
   ]
  },
  {
   "cell_type": "code",
   "execution_count": null,
   "metadata": {},
   "outputs": [],
   "source": []
  },
  {
   "cell_type": "markdown",
   "metadata": {},
   "source": [
    "## torch.matmul or x_train@weights"
   ]
  },
  {
   "cell_type": "markdown",
   "metadata": {},
   "source": [
    "We can use pytorch's function or operator directly for matrix multiplication."
   ]
  },
  {
   "cell_type": "code",
   "execution_count": null,
   "metadata": {},
   "outputs": [],
   "source": [
    "test_close(tr, x_train@weights, eps=1e-3)"
   ]
  },
  {
   "cell_type": "code",
   "execution_count": null,
   "metadata": {},
   "outputs": [
    {
     "name": "stdout",
     "output_type": "stream",
     "text": [
      "CPU times: user 2.23 s, sys: 521 ms, total: 2.75 s\n",
      "Wall time: 1.83 s\n",
      "CPU times: user 4.34 s, sys: 502 ms, total: 4.84 s\n",
      "Wall time: 3.99 s\n",
      "CPU times: user 4.12 s, sys: 497 ms, total: 4.62 s\n",
      "Wall time: 3.62 s\n",
      "CPU times: user 1.12 s, sys: 528 ms, total: 1.64 s\n",
      "Wall time: 505 ms\n",
      "CPU times: user 174 ms, sys: 11.8 ms, total: 186 ms\n",
      "Wall time: 25 ms\n",
      "CPU times: user 171 ms, sys: 11.1 ms, total: 182 ms\n",
      "Wall time: 25.3 ms\n"
     ]
    }
   ],
   "source": [
    "%time _=matmul_2loops_njit(x_train, weights)\n",
    "%time _=matmul_2loops_elementwise(x_train, weights)\n",
    "%time _=matmul_2loops_dotproduct(x_train, weights)\n",
    "%time _=matmul_1loop_broadcast(x_train, weights)\n",
    "%time _=matmul_einsum_noloop(x_train, weights)\n",
    "%time _=torch.matmul(x_train, weights)"
   ]
  },
  {
   "cell_type": "code",
   "execution_count": null,
   "metadata": {},
   "outputs": [],
   "source": []
  },
  {
   "cell_type": "markdown",
   "metadata": {},
   "source": [
    "## CUDA\n",
    "run from kaggle [notebook](https://www.kaggle.com/code/danielliao/course22p2-0001-matmul/edit/run/107870903)"
   ]
  },
  {
   "cell_type": "code",
   "execution_count": null,
   "metadata": {},
   "outputs": [],
   "source": [
    "def matmul(grid, a,b,c):\n",
    "    i,j = grid \n",
    "    if i < c.shape[0] and j < c.shape[1]:\n",
    "        tmp = 0.\n",
    "        for k in range(a.shape[1]): tmp += a[i, k] * b[k, j]  # this is the 3rd loop\n",
    "        c[i,j] = tmp"
   ]
  },
  {
   "cell_type": "code",
   "execution_count": null,
   "metadata": {},
   "outputs": [
    {
     "data": {
      "text/plain": [
       "tensor([[-17.70,   0.00,   0.00,   0.00,   0.00,   0.00,   0.00,   0.00,   0.00,   0.00],\n",
       "        [  0.00,   0.00,   0.00,   0.00,   0.00,   0.00,   0.00,   0.00,   0.00,   0.00],\n",
       "        [  0.00,   0.00,   0.00,   0.00,   0.00,   0.00,   0.00,   0.00,   0.00,   0.00],\n",
       "        [  0.00,   0.00,   0.00,   0.00,   0.00,   0.00,   0.00,   0.00,   0.00,   0.00],\n",
       "        [  0.00,   0.00,   0.00,   0.00,   0.00,   0.00,   0.00,   0.00,   0.00,   0.00]])"
      ]
     },
     "execution_count": null,
     "metadata": {},
     "output_type": "execute_result"
    }
   ],
   "source": [
    "res = torch.zeros(ar, bc)\n",
    "matmul((0,0), m1, m2, res)\n",
    "res"
   ]
  },
  {
   "cell_type": "code",
   "execution_count": null,
   "metadata": {},
   "outputs": [],
   "source": [
    "def launch_kernel(kernel, grid_x, grid_y, *args, **kwargs):\n",
    "    for i in range(grid_x): # the 1st loop\n",
    "        for j in range(grid_y): kernel((i,j), *args, **kwargs) # the 2nd loop"
   ]
  },
  {
   "cell_type": "code",
   "execution_count": null,
   "metadata": {},
   "outputs": [
    {
     "data": {
      "text/plain": [
       "tensor([[-17.70,  -8.61,  12.17, -15.78,   5.78, -14.75,  -8.66,  -4.28,  13.34,   7.52],\n",
       "        [  2.51,  -0.46,  10.73, -11.62,  12.98,   2.54,  -9.66,   8.52,   6.11,  15.23],\n",
       "        [ -4.33, -15.79,   1.87,   5.80,   0.38,   5.14,   3.61,  -1.90,   7.30,   9.60],\n",
       "        [ -9.27,  -3.22,   7.59,   2.54,   3.17,  -2.14,  -2.51,   5.58,   8.43,   4.03],\n",
       "        [ -2.47,  -2.54, -11.92,  -4.81,   0.89,   2.14,  -5.88,   9.96,  10.68,  15.94]])"
      ]
     },
     "execution_count": null,
     "metadata": {},
     "output_type": "execute_result"
    }
   ],
   "source": [
    "res = torch.zeros(ar, bc)\n",
    "launch_kernel(matmul, ar, bc, m1, m2, res)\n",
    "res"
   ]
  },
  {
   "cell_type": "code",
   "execution_count": null,
   "metadata": {},
   "outputs": [],
   "source": [
    "from numba import cuda"
   ]
  },
  {
   "cell_type": "code",
   "execution_count": null,
   "metadata": {},
   "outputs": [],
   "source": [
    "@cuda.jit\n",
    "def matmul(a,b,c):\n",
    "    \"the 3rd loop from python to machine code\"\n",
    "    i, j = cuda.grid(2)\n",
    "    if i < c.shape[0] and j < c.shape[1]:\n",
    "        tmp = 0.\n",
    "        for k in range(a.shape[1]): tmp += a[i, k] * b[k, j]\n",
    "        c[i,j] = tmp\n",
    "    cuda.syncthreads()"
   ]
  },
  {
   "cell_type": "code",
   "execution_count": null,
   "metadata": {},
   "outputs": [
    {
     "data": {
      "text/plain": [
       "torch.Size([50000, 10])"
      ]
     },
     "execution_count": null,
     "metadata": {},
     "output_type": "execute_result"
    }
   ],
   "source": [
    "tr.shape"
   ]
  },
  {
   "cell_type": "code",
   "execution_count": null,
   "metadata": {},
   "outputs": [],
   "source": [
    "r = np.zeros(tr.shape)\n",
    "m1g,m2g,rg = cuda.to_device(x_train),cuda.to_device(weights),cuda.to_device(r)"
   ]
  },
  {
   "cell_type": "code",
   "execution_count": null,
   "metadata": {},
   "outputs": [
    {
     "data": {
      "text/plain": [
       "<numba.cuda.cudadrv.devicearray.DeviceNDArray>"
      ]
     },
     "execution_count": null,
     "metadata": {},
     "output_type": "execute_result"
    }
   ],
   "source": [
    "m1g"
   ]
  },
  {
   "cell_type": "code",
   "execution_count": null,
   "metadata": {},
   "outputs": [
    {
     "data": {
      "text/plain": [
       "(50000, 784)"
      ]
     },
     "execution_count": null,
     "metadata": {},
     "output_type": "execute_result"
    }
   ],
   "source": [
    "m1g.shape"
   ]
  },
  {
   "cell_type": "code",
   "execution_count": null,
   "metadata": {},
   "outputs": [
    {
     "data": {
      "text/plain": [
       "(50000, 10)"
      ]
     },
     "execution_count": null,
     "metadata": {},
     "output_type": "execute_result"
    }
   ],
   "source": [
    "r.shape"
   ]
  },
  {
   "cell_type": "code",
   "execution_count": null,
   "metadata": {},
   "outputs": [
    {
     "data": {
      "text/plain": [
       "(3125, 1)"
      ]
     },
     "execution_count": null,
     "metadata": {},
     "output_type": "execute_result"
    }
   ],
   "source": [
    "TPB = 16\n",
    "rr,rc = r.shape\n",
    "blockspergrid = (math.ceil(rr / TPB), math.ceil(rc / TPB))\n",
    "blockspergrid"
   ]
  },
  {
   "cell_type": "code",
   "execution_count": null,
   "metadata": {},
   "outputs": [],
   "source": [
    "matmul[blockspergrid, (TPB,TPB)](m1g,m2g,rg) # not sure about [blockspergrid, (TPB,TPB)] part\n",
    "r = rg.copy_to_host()\n",
    "test_close(tr, r, eps=1.03)"
   ]
  },
  {
   "cell_type": "code",
   "execution_count": null,
   "metadata": {},
   "outputs": [
    {
     "name": "stdout",
     "output_type": "stream",
     "text": [
      "6.91 ms ± 45.2 µs per loop (mean ± std. dev. of 7 runs, 1 loop each)\n"
     ]
    }
   ],
   "source": [
    "%%timeit -n 1\n",
    "matmul[blockspergrid, (TPB,TPB)](m1g,m2g,rg)\n",
    "r = rg.copy_to_host()"
   ]
  },
  {
   "cell_type": "code",
   "execution_count": null,
   "metadata": {},
   "outputs": [],
   "source": [
    "m1c,m2c = x_train.cuda(),weights.cuda()"
   ]
  },
  {
   "cell_type": "code",
   "execution_count": null,
   "metadata": {},
   "outputs": [
    {
     "name": "stdout",
     "output_type": "stream",
     "text": [
      "The slowest run took 939.39 times longer than the fastest. This could mean that an intermediate result is being cached.\n",
      "117 ms ± 283 ms per loop (mean ± std. dev. of 7 runs, 1 loop each)\n"
     ]
    }
   ],
   "source": [
    "%timeit -n 1 rr = (m1c@m2c).cpu()"
   ]
  },
  {
   "cell_type": "code",
   "execution_count": null,
   "metadata": {},
   "outputs": [
    {
     "name": "stdout",
     "output_type": "stream",
     "text": [
      "CPU times: user 1.61 ms, sys: 0 ns, total: 1.61 ms\n",
      "Wall time: 1.05 ms\n"
     ]
    }
   ],
   "source": [
    "%time rr = (m1c@m2c).cpu()"
   ]
  },
  {
   "cell_type": "markdown",
   "metadata": {},
   "source": [
    "Our broadcasting version was >500ms, and our CUDA version is around 0.5ms, which is another 1000x improvement compared to broadcasting. So our total speedup is around 5 million times!"
   ]
  },
  {
   "cell_type": "code",
   "execution_count": null,
   "metadata": {},
   "outputs": [],
   "source": []
  },
  {
   "cell_type": "code",
   "execution_count": null,
   "metadata": {},
   "outputs": [],
   "source": []
  },
  {
   "cell_type": "code",
   "execution_count": null,
   "metadata": {},
   "outputs": [],
   "source": [
    "# |hide\n",
    "import nbdev\n",
    "nbdev.nbdev_export()"
   ]
  },
  {
   "cell_type": "code",
   "execution_count": null,
   "metadata": {},
   "outputs": [],
   "source": []
  }
 ],
 "metadata": {
  "kernelspec": {
   "display_name": "Python 3 (ipykernel)",
   "language": "python",
   "name": "python3"
  }
 },
 "nbformat": 4,
 "nbformat_minor": 4
}
